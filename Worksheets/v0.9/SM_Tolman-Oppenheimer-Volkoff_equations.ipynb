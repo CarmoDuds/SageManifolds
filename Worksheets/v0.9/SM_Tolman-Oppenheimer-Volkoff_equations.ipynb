{
 "cells": [
  {
   "cell_type": "markdown",
   "metadata": {},
   "source": [
    "## Tolman-Oppenheimer-Volkoff equations"
   ]
  },
  {
   "cell_type": "markdown",
   "metadata": {},
   "source": [
    "*This worksheet illustrates some features of [SageManifolds](http://sagemanifolds.obspm.fr/) (v0.9) on the derivation of the Tolman-Oppenheimer-Volkoff equations (spherically symmetric, stationary solution of general relativity).*"
   ]
  },
  {
   "cell_type": "markdown",
   "metadata": {},
   "source": [
    "We will calculate the Einstein equations   \n",
    "$$R_{\\mu\\nu} - \\frac{1}{2}Rg_{\\mu\\nu} = T_{\\mu\\nu}$$\n",
    "for a corresponding spherically symmetric, stationary metric $g$. In the above, $R_{\\mu\\nu}$ is the Ricci tensor, $R=R^\\mu_\\mu$ is the Ricci scalar, and $T_{\\mu\\nu}$ is the energy-momentum tensor (left side of Einstein's equations describe the geometry of spacetime, and the right side the matter in the spacetime). "
   ]
  },
  {
   "cell_type": "code",
   "execution_count": null,
   "metadata": {
    "collapsed": false
   },
   "outputs": [],
   "source": [
    "%display latex\n",
    "set_nproc_tensor()\n",
    "omit_function_args(True)"
   ]
  },
  {
   "cell_type": "markdown",
   "metadata": {},
   "source": [
    "We first declare the spacetime `M` as a general 4-dimensional manifold,"
   ]
  },
  {
   "cell_type": "code",
   "execution_count": null,
   "metadata": {
    "collapsed": false
   },
   "outputs": [],
   "source": [
    "M = DiffManifold(4, 'M')"
   ]
  },
  {
   "cell_type": "markdown",
   "metadata": {},
   "source": [
    "with the standard spherical coordinates (`X` denotes the coordinate chart on `M`):"
   ]
  },
  {
   "cell_type": "code",
   "execution_count": null,
   "metadata": {
    "collapsed": false
   },
   "outputs": [],
   "source": [
    "X.<t,r,th,ph> = M.chart(r't r:(0,+oo) th:(0,pi):\\theta phi:(0,2*pi):\\phi')"
   ]
  },
  {
   "cell_type": "markdown",
   "metadata": {},
   "source": [
    "In order to define a general spherically symmetric, stationary metric one needs a few auxiliary functions of the radial coordinate $r$ - metric functions $\\nu(r)$ and $\\lambda(r)$, matter pressure $p(r)$ and energy density $\\rho(r)$, as well as the mass $m(r)$ enclosed within the sphere of the radius $r$:  "
   ]
  },
  {
   "cell_type": "code",
   "execution_count": null,
   "metadata": {
    "collapsed": true
   },
   "outputs": [],
   "source": [
    "# metric functions: \n",
    "nu = function(\"nu\", r, latex_name=r\"\\nu\")\n",
    "lam = function(\"lambda\", r, latex_name=r\"\\lambda\")\n",
    "# density and pressure: \n",
    "rho = function(\"rho\", r, latex_name=r\"\\rho\")\n",
    "p = function(\"P\", r)\n",
    "# mass enclosed in sphere of radius r: \n",
    "m = function(\"m\", r)"
   ]
  },
  {
   "cell_type": "markdown",
   "metadata": {},
   "source": [
    "In general, such metric reads as follows: "
   ]
  },
  {
   "cell_type": "code",
   "execution_count": null,
   "metadata": {
    "collapsed": false
   },
   "outputs": [],
   "source": [
    "g = M.lorentzian_metric('g')\n",
    "g[0,0] = -exp(2*nu)\n",
    "g[1,1] = exp(2*lam)\n",
    "g[2,2], g[3,3] = r^2, r^2*sin(th)^2\n",
    "g.display()"
   ]
  },
  {
   "cell_type": "markdown",
   "metadata": {},
   "source": [
    "which works assuming that the physical constants $G=c=1$. Let's introduce $G$ and $c$ as variables to obtain the dimensional version of the equations:"
   ]
  },
  {
   "cell_type": "code",
   "execution_count": null,
   "metadata": {
    "collapsed": true
   },
   "outputs": [],
   "source": [
    "var('G c pi'); assume(G>0); assume(c>0)"
   ]
  },
  {
   "cell_type": "markdown",
   "metadata": {},
   "source": [
    "From the Newtonian weak field limit considerations (Newtonian force far from the source) one may simplify the above expression and replace $\\lambda(r)$ with $\\frac{1-2Gm}{rc^2}$, as well as explicitly put $c^2$ in front of $g_{tt}$. Then"
   ]
  },
  {
   "cell_type": "code",
   "execution_count": null,
   "metadata": {
    "collapsed": false
   },
   "outputs": [],
   "source": [
    "g[0,0] = -c^2*exp(2*nu)\n",
    "g[1,1] = 1/(1-2*G*m/(r*c^2))\n",
    "g.display()"
   ]
  },
  {
   "cell_type": "markdown",
   "metadata": {},
   "source": [
    "The Ricci tensor is a result of a method `ricci()` acting on the metric `g`:"
   ]
  },
  {
   "cell_type": "code",
   "execution_count": null,
   "metadata": {
    "collapsed": false
   },
   "outputs": [],
   "source": [
    "Ricci = g.ricci(); Ricci.display()"
   ]
  },
  {
   "cell_type": "markdown",
   "metadata": {},
   "source": [
    "For example, the $R_{tt}$ component is "
   ]
  },
  {
   "cell_type": "code",
   "execution_count": null,
   "metadata": {
    "collapsed": false
   },
   "outputs": [],
   "source": [
    "Ricci[0,0]"
   ]
  },
  {
   "cell_type": "code",
   "execution_count": null,
   "metadata": {
    "collapsed": false
   },
   "outputs": [],
   "source": [
    "Ricci[0,0].expand().collect(nu.diff(r)).collect(nu.diff(r,r)).collect(c^2*exp(2*nu)).collect_common_factors()"
   ]
  },
  {
   "cell_type": "code",
   "execution_count": null,
   "metadata": {
    "collapsed": false
   },
   "outputs": [],
   "source": [
    "Ricci[1,1].expand().collect_common_factors()"
   ]
  },
  {
   "cell_type": "code",
   "execution_count": null,
   "metadata": {
    "collapsed": false
   },
   "outputs": [],
   "source": [
    "Ricci[2,2].expand().collect(nu.diff(r)).collect(nu.diff(r,r)).collect(c^2*exp(2*nu))"
   ]
  },
  {
   "cell_type": "markdown",
   "metadata": {},
   "source": [
    "Ricci scalar is obtained by the `ricci_scalar()` method acting on `g`:"
   ]
  },
  {
   "cell_type": "code",
   "execution_count": null,
   "metadata": {
    "collapsed": false
   },
   "outputs": [],
   "source": [
    "Ric_scalar = g.ricci_scalar()\n",
    "(Ric_scalar.coord_function(X)).collect(nu.diff(r)).collect(nu.diff(r,r)).collect(c^2*exp(2*nu))"
   ]
  },
  {
   "cell_type": "markdown",
   "metadata": {},
   "source": [
    "It is the trace of the Ricci tensor, $R = R_\\mu^\\mu$: "
   ]
  },
  {
   "cell_type": "code",
   "execution_count": null,
   "metadata": {
    "collapsed": false
   },
   "outputs": [],
   "source": [
    "Ric_scalar == Ricci.up(g, 1).trace(0, 1)"
   ]
  },
  {
   "cell_type": "markdown",
   "metadata": {},
   "source": [
    "Left side of the Einstein equations is"
   ]
  },
  {
   "cell_type": "code",
   "execution_count": null,
   "metadata": {
    "collapsed": false
   },
   "outputs": [],
   "source": [
    "E = Ricci - (Ric_scalar*g)/2; E.display()"
   ]
  },
  {
   "cell_type": "markdown",
   "metadata": {},
   "source": [
    "Now for the energy-momentum tensor, $T_{\\mu\\nu}$: "
   ]
  },
  {
   "cell_type": "code",
   "execution_count": null,
   "metadata": {
    "collapsed": false
   },
   "outputs": [],
   "source": [
    "u = M.vector_field('u')\n",
    "u[0] = exp(-nu)\n",
    "u.display()"
   ]
  },
  {
   "cell_type": "markdown",
   "metadata": {},
   "source": [
    "We can check if it is indeed the timelike 4-vector by checking $u_\\mu u^\\mu = -c^2$ by contracting it with the metric `g` using a method `contract()`: "
   ]
  },
  {
   "cell_type": "code",
   "execution_count": null,
   "metadata": {
    "collapsed": false
   },
   "outputs": [],
   "source": [
    "umuumu = g.contract(0,u,0).contract(0,u,0).coord_function(X)\n",
    "umuumu == -c^2"
   ]
  },
  {
   "cell_type": "markdown",
   "metadata": {},
   "source": [
    "The product $u_\\mu u^\\mu$ can be also obtained in much a simpler way, by just invoking"
   ]
  },
  {
   "cell_type": "code",
   "execution_count": null,
   "metadata": {
    "collapsed": false
   },
   "outputs": [],
   "source": [
    "umuumu = g(u,u)\n",
    "umuumu == -c^2"
   ]
  },
  {
   "cell_type": "markdown",
   "metadata": {},
   "source": [
    "Let's now addopt $T_{\\mu\\nu}$ in perfect fluid form:  "
   ]
  },
  {
   "cell_type": "code",
   "execution_count": null,
   "metadata": {
    "collapsed": false
   },
   "outputs": [],
   "source": [
    "u_form = u.down(g)\n",
    "T = (rho + p/c^2)*(u_form*u_form) + p*g\n",
    "T.set_name('T')\n",
    "print T\n",
    "T.display()"
   ]
  },
  {
   "cell_type": "code",
   "execution_count": null,
   "metadata": {
    "collapsed": false
   },
   "outputs": [],
   "source": [
    "Ttrace = (T.up(g, 0)).trace(0, 1)\n",
    "Ttrace.display()"
   ]
  },
  {
   "cell_type": "markdown",
   "metadata": {},
   "source": [
    "Three components of the Einstein equations are as follows - the $E_{tt}$ one: "
   ]
  },
  {
   "cell_type": "code",
   "execution_count": null,
   "metadata": {
    "collapsed": false
   },
   "outputs": [],
   "source": [
    "E0=(E[0,0] - (8*pi*G/c^4)*T[0,0]).expr() == 0"
   ]
  },
  {
   "cell_type": "markdown",
   "metadata": {},
   "source": [
    "A small reorganization of the first equation, using the function solve() to solve for $dm/dr$: "
   ]
  },
  {
   "cell_type": "code",
   "execution_count": null,
   "metadata": {
    "collapsed": false
   },
   "outputs": [],
   "source": [
    "E0 = solve((E0*(-r^2/(G*exp(2*nu))/2)).expand().simplify(), m.diff(r))[0]"
   ]
  },
  {
   "cell_type": "markdown",
   "metadata": {},
   "source": [
    "Using SageManifolds ExpressionNice to display the derivatives in textbook form: "
   ]
  },
  {
   "cell_type": "code",
   "execution_count": null,
   "metadata": {
    "collapsed": false
   },
   "outputs": [],
   "source": [
    "from sage.manifolds.utilities import ExpressionNice"
   ]
  },
  {
   "cell_type": "code",
   "execution_count": null,
   "metadata": {
    "collapsed": false
   },
   "outputs": [],
   "source": [
    "ExpressionNice(E0)"
   ]
  },
  {
   "cell_type": "markdown",
   "metadata": {},
   "source": [
    "Radial component of Einstein's equations, $E_{rr}$: "
   ]
  },
  {
   "cell_type": "code",
   "execution_count": null,
   "metadata": {
    "collapsed": false
   },
   "outputs": [],
   "source": [
    "E1 = (E[1,1] - (8*pi*G/c^4)*T[1,1]).expr() == 0"
   ]
  },
  {
   "cell_type": "code",
   "execution_count": null,
   "metadata": {
    "collapsed": false
   },
   "outputs": [],
   "source": [
    "E1 = solve((E1*(c^4*r^3 - 2*G*c^2*r^2*m)/2).expand().simplify_full(), nu.diff(r))[0]\n",
    "ExpressionNice(E1)"
   ]
  },
  {
   "cell_type": "markdown",
   "metadata": {},
   "source": [
    "For the third equation we use radial part of the energy-momentum conservation equation $\\nabla_\\mu T^{\\mu\\nu}$. First, to define the energy-momentum tensor $T^{\\mu\\nu}$ itself:"
   ]
  },
  {
   "cell_type": "code",
   "execution_count": null,
   "metadata": {
    "collapsed": false
   },
   "outputs": [],
   "source": [
    "Tup = T.up(g,0).up(g,1)\n",
    "Tup[:]"
   ]
  },
  {
   "cell_type": "markdown",
   "metadata": {},
   "source": [
    "Connection ${\\tt nab}$ for the covariant derivative, and the printout of the non-vanishing Christoffel symbols:  "
   ]
  },
  {
   "cell_type": "code",
   "execution_count": null,
   "metadata": {
    "collapsed": false
   },
   "outputs": [],
   "source": [
    "nab = g.connection()\n",
    "nab.display()"
   ]
  },
  {
   "cell_type": "code",
   "execution_count": null,
   "metadata": {
    "collapsed": false
   },
   "outputs": [],
   "source": [
    "co = nab(Tup)"
   ]
  },
  {
   "cell_type": "markdown",
   "metadata": {},
   "source": [
    "The following calculates the radial component of $\\nabla_\\mu T^{\\mu\\nu}$: "
   ]
  },
  {
   "cell_type": "code",
   "execution_count": null,
   "metadata": {
    "collapsed": false
   },
   "outputs": [],
   "source": [
    "cosum = 0\n",
    "# radial component of the covariant derivative: \n",
    "for i in M.irange():\n",
    "    cosum += co[i,1,i]\n",
    "cosum"
   ]
  },
  {
   "cell_type": "markdown",
   "metadata": {},
   "source": [
    "Solve for $dp/dr$: "
   ]
  },
  {
   "cell_type": "code",
   "execution_count": null,
   "metadata": {
    "collapsed": false
   },
   "outputs": [],
   "source": [
    "E2 = solve(cosum.expr(), p.diff(r))[0]\n",
    "ExpressionNice(E2)"
   ]
  },
  {
   "cell_type": "markdown",
   "metadata": {},
   "source": [
    "Finally, the three TOV equations: "
   ]
  },
  {
   "cell_type": "code",
   "execution_count": null,
   "metadata": {
    "collapsed": false
   },
   "outputs": [],
   "source": [
    "ExpressionNice(E0), ExpressionNice(E1), ExpressionNice(E2)"
   ]
  }
 ],
 "metadata": {
  "kernelspec": {
   "display_name": "Sage 6.8",
   "language": "",
   "name": "sage_6_8"
  },
  "language_info": {
   "codemirror_mode": {
    "name": "ipython",
    "version": 2
   },
   "file_extension": ".py",
   "mimetype": "text/x-python",
   "name": "python",
   "nbconvert_exporter": "python",
   "pygments_lexer": "ipython2",
   "version": "2.7.9"
  }
 },
 "nbformat": 4,
 "nbformat_minor": 0
}
