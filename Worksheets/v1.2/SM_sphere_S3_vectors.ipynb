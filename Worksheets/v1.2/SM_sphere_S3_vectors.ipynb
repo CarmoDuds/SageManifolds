{
 "cells": [
  {
   "cell_type": "markdown",
   "metadata": {},
   "source": [
    "# 3-sphere: vector fields and left-invariant parallelization\n",
    "\n",
    "This worksheet demonstrates some differential geometry capabilities of SageMath on the example of the 3-dimensional sphere, $\\mathbb{S}^3$. The corresponding tools have been developed within the  [SageManifolds](http://sagemanifolds.obspm.fr) project (version 1.2, as included in SageMath 8.2).\n",
    "\n",
    "Click [here](https://raw.githubusercontent.com/sagemanifolds/SageManifolds/master/Worksheets/v1.2/SM_sphere_S3_vectors.ipynb) to download the worksheet file (ipynb format). To run it, you must start SageMath with the Jupyter notebook, via the command `sage -n jupyter`"
   ]
  },
  {
   "cell_type": "markdown",
   "metadata": {},
   "source": [
    "*NB:* a version of SageMath at least equal to 7.5 is required to run this worksheet:"
   ]
  },
  {
   "cell_type": "code",
   "execution_count": 1,
   "metadata": {},
   "outputs": [
    {
     "data": {
      "text/plain": [
       "'SageMath version 8.2, Release Date: 2018-05-05'"
      ]
     },
     "execution_count": 1,
     "metadata": {},
     "output_type": "execute_result"
    }
   ],
   "source": [
    "version()"
   ]
  },
  {
   "cell_type": "markdown",
   "metadata": {},
   "source": [
    "First we set up the notebook to display mathematical objects using LaTeX formatting:"
   ]
  },
  {
   "cell_type": "code",
   "execution_count": 2,
   "metadata": {},
   "outputs": [],
   "source": [
    "%display latex"
   ]
  },
  {
   "cell_type": "markdown",
   "metadata": {},
   "source": [
    "We also define a viewer for 3D plots (use `'threejs'` or `'jmol'` for interactive 3D graphics):"
   ]
  },
  {
   "cell_type": "code",
   "execution_count": 3,
   "metadata": {},
   "outputs": [],
   "source": [
    "viewer3D = 'threejs' # must be 'threejs', jmol', 'tachyon' or None (default)"
   ]
  },
  {
   "cell_type": "markdown",
   "metadata": {},
   "source": [
    "To increase the computational speed, we ask for demanding computations to be parallelly performed on 8 cores:"
   ]
  },
  {
   "cell_type": "code",
   "execution_count": 4,
   "metadata": {},
   "outputs": [],
   "source": [
    "Parallelism().set(nproc=8)"
   ]
  },
  {
   "cell_type": "markdown",
   "metadata": {},
   "source": [
    "## $\\mathbb{S}^3$ as a 3-dimensional differentiable manifold\n",
    "\n",
    "We start by declaring $\\mathbb{S}^3$ as a differentiable manifold of dimension 3 over $\\mathbb{R}$:"
   ]
  },
  {
   "cell_type": "code",
   "execution_count": 5,
   "metadata": {},
   "outputs": [],
   "source": [
    "S3 = Manifold(3, 'S^3', latex_name=r'\\mathbb{S}^3', start_index=1)"
   ]
  },
  {
   "cell_type": "markdown",
   "metadata": {},
   "source": [
    "The first argument, `3`, is the dimension of the manifold, while the second argument is the symbol used to label the manifold, with the LaTeX output specified by the argument `latex_name`. The argument `start_index` sets the index range to be used on the manifold for labelling components w.r.t. a basis or a frame: `start_index=1` corresponds to $\\{1,2,3\\}$; the default value is `start_index=0`, yielding to $\\{0,1,2\\}$."
   ]
  },
  {
   "cell_type": "code",
   "execution_count": 6,
   "metadata": {},
   "outputs": [
    {
     "name": "stdout",
     "output_type": "stream",
     "text": [
      "3-dimensional differentiable manifold S^3\n"
     ]
    }
   ],
   "source": [
    "print(S3)"
   ]
  },
  {
   "cell_type": "code",
   "execution_count": 7,
   "metadata": {},
   "outputs": [
    {
     "data": {
      "text/html": [
       "<html><script type=\"math/tex; mode=display\">\\newcommand{\\Bold}[1]{\\mathbf{#1}}\\mathbb{S}^3</script></html>"
      ],
      "text/plain": [
       "3-dimensional differentiable manifold S^3"
      ]
     },
     "execution_count": 7,
     "metadata": {},
     "output_type": "execute_result"
    }
   ],
   "source": [
    "S3"
   ]
  },
  {
   "cell_type": "markdown",
   "metadata": {},
   "source": [
    "### Coordinate charts on $\\mathbb{S}^3$\n",
    "\n",
    "The 3-sphere cannot be covered by a single chart. At least two charts are necessary, for instance the charts associated with the stereographic projections from two distinct points, $N$ and $S$ say,\n",
    "which we may call the *North pole* and the *South pole* respectively. Let us introduce the open subsets covered by these two charts: \n",
    "$$ U := \\mathbb{S}^3\\setminus\\{N\\} $$  \n",
    "$$ V := \\mathbb{S}^3\\setminus\\{S\\} $$"
   ]
  },
  {
   "cell_type": "code",
   "execution_count": 8,
   "metadata": {},
   "outputs": [
    {
     "name": "stdout",
     "output_type": "stream",
     "text": [
      "Open subset U of the 3-dimensional differentiable manifold S^3\n"
     ]
    }
   ],
   "source": [
    "U = S3.open_subset('U') ; print(U)"
   ]
  },
  {
   "cell_type": "code",
   "execution_count": 9,
   "metadata": {},
   "outputs": [
    {
     "name": "stdout",
     "output_type": "stream",
     "text": [
      "Open subset V of the 3-dimensional differentiable manifold S^3\n"
     ]
    }
   ],
   "source": [
    "V = S3.open_subset('V') ; print(V)"
   ]
  },
  {
   "cell_type": "markdown",
   "metadata": {},
   "source": [
    "We declare that $\\mathbb{S}^3 = U \\cup V$:"
   ]
  },
  {
   "cell_type": "code",
   "execution_count": 10,
   "metadata": {},
   "outputs": [],
   "source": [
    "S3.declare_union(U, V)"
   ]
  },
  {
   "cell_type": "markdown",
   "metadata": {
    "collapsed": true
   },
   "source": [
    "Then we introduce the stereographic chart on $U$, denoting by $(x,y,z)$ the coordinates resulting from the stereographic projection from the North pole onto the equatorial plane:"
   ]
  },
  {
   "cell_type": "code",
   "execution_count": 11,
   "metadata": {},
   "outputs": [
    {
     "data": {
      "text/html": [
       "<html><script type=\"math/tex; mode=display\">\\newcommand{\\Bold}[1]{\\mathbf{#1}}\\left(U,(x, y, z)\\right)</script></html>"
      ],
      "text/plain": [
       "Chart (U, (x, y, z))"
      ]
     },
     "execution_count": 11,
     "metadata": {},
     "output_type": "execute_result"
    }
   ],
   "source": [
    "stereoN.<x,y,z> = U.chart()\n",
    "stereoN"
   ]
  },
  {
   "cell_type": "code",
   "execution_count": 12,
   "metadata": {},
   "outputs": [
    {
     "data": {
      "text/html": [
       "<html><script type=\"math/tex; mode=display\">\\newcommand{\\Bold}[1]{\\mathbf{#1}}x :\\ \\left( -\\infty, +\\infty \\right) ;\\quad y :\\ \\left( -\\infty, +\\infty \\right) ;\\quad z :\\ \\left( -\\infty, +\\infty \\right)</script></html>"
      ],
      "text/plain": [
       "x: (-oo, +oo); y: (-oo, +oo); z: (-oo, +oo)"
      ]
     },
     "execution_count": 12,
     "metadata": {},
     "output_type": "execute_result"
    }
   ],
   "source": [
    "stereoN.coord_range()"
   ]
  },
  {
   "cell_type": "markdown",
   "metadata": {},
   "source": [
    "Similarly, we introduce on $V$ the coordinates $(x',y',z')$ corresponding to the stereographic projection from the South pole onto the equatorial plane:"
   ]
  },
  {
   "cell_type": "code",
   "execution_count": 13,
   "metadata": {},
   "outputs": [
    {
     "data": {
      "text/html": [
       "<html><script type=\"math/tex; mode=display\">\\newcommand{\\Bold}[1]{\\mathbf{#1}}\\left(V,({x'}, {y'}, {z'})\\right)</script></html>"
      ],
      "text/plain": [
       "Chart (V, (xp, yp, zp))"
      ]
     },
     "execution_count": 13,
     "metadata": {},
     "output_type": "execute_result"
    }
   ],
   "source": [
    "stereoS.<xp,yp,zp> = V.chart(\"xp:x' yp:y' zp:z'\")\n",
    "stereoS"
   ]
  },
  {
   "cell_type": "code",
   "execution_count": 14,
   "metadata": {},
   "outputs": [
    {
     "data": {
      "text/html": [
       "<html><script type=\"math/tex; mode=display\">\\newcommand{\\Bold}[1]{\\mathbf{#1}}{x'} :\\ \\left( -\\infty, +\\infty \\right) ;\\quad {y'} :\\ \\left( -\\infty, +\\infty \\right) ;\\quad {z'} :\\ \\left( -\\infty, +\\infty \\right)</script></html>"
      ],
      "text/plain": [
       "xp: (-oo, +oo); yp: (-oo, +oo); zp: (-oo, +oo)"
      ]
     },
     "execution_count": 14,
     "metadata": {},
     "output_type": "execute_result"
    }
   ],
   "source": [
    "stereoS.coord_range()"
   ]
  },
  {
   "cell_type": "markdown",
   "metadata": {},
   "source": [
    "We have to specify the **transition map** between the charts `stereoN` = $(U,(x,y,z))$ and `stereoS` = $(V,(x',y',z'))$; it is given by the standard inversion formulas:"
   ]
  },
  {
   "cell_type": "code",
   "execution_count": 15,
   "metadata": {},
   "outputs": [
    {
     "data": {
      "text/html": [
       "<html><script type=\"math/tex; mode=display\">\\newcommand{\\Bold}[1]{\\mathbf{#1}}\\left\\{\\begin{array}{lcl} {x'} & = & \\frac{x}{x^{2} + y^{2} + z^{2}} \\\\ {y'} & = & \\frac{y}{x^{2} + y^{2} + z^{2}} \\\\ {z'} & = & \\frac{z}{x^{2} + y^{2} + z^{2}} \\end{array}\\right.</script></html>"
      ],
      "text/plain": [
       "xp = x/(x^2 + y^2 + z^2)\n",
       "yp = y/(x^2 + y^2 + z^2)\n",
       "zp = z/(x^2 + y^2 + z^2)"
      ]
     },
     "execution_count": 15,
     "metadata": {},
     "output_type": "execute_result"
    }
   ],
   "source": [
    "r2 = x^2+y^2+z^2\n",
    "stereoN_to_S = stereoN.transition_map(stereoS, \n",
    "                                      (x/r2, y/r2, z/r2), \n",
    "                                      intersection_name='W',\n",
    "                                      restrictions1= x^2+y^2+z^2!=0, \n",
    "                                      restrictions2= xp^2+yp^2+zp^2!=0)\n",
    "stereoN_to_S.display()"
   ]
  },
  {
   "cell_type": "markdown",
   "metadata": {},
   "source": [
    "In the above declaration, `'W'` is the name given to the open subset where the two charts overlap: $W := U\\cap V$, the condition $x^2+y^2+z^2\\not=0$  defines $W$ as a subset of $U$, and the condition $x'^2+y'^2+z'^2\\not=0$ defines $W$ as a subset of $V$.\n",
    "\n",
    "The inverse coordinate transformation is computed by means of the method `inverse()`:"
   ]
  },
  {
   "cell_type": "code",
   "execution_count": 16,
   "metadata": {},
   "outputs": [
    {
     "data": {
      "text/html": [
       "<html><script type=\"math/tex; mode=display\">\\newcommand{\\Bold}[1]{\\mathbf{#1}}\\left\\{\\begin{array}{lcl} x & = & \\frac{{x'}}{{x'}^{2} + {y'}^{2} + {z'}^{2}} \\\\ y & = & \\frac{{y'}}{{x'}^{2} + {y'}^{2} + {z'}^{2}} \\\\ z & = & \\frac{{z'}}{{x'}^{2} + {y'}^{2} + {z'}^{2}} \\end{array}\\right.</script></html>"
      ],
      "text/plain": [
       "x = xp/(xp^2 + yp^2 + zp^2)\n",
       "y = yp/(xp^2 + yp^2 + zp^2)\n",
       "z = zp/(xp^2 + yp^2 + zp^2)"
      ]
     },
     "execution_count": 16,
     "metadata": {},
     "output_type": "execute_result"
    }
   ],
   "source": [
    "stereoS_to_N = stereoN_to_S.inverse()\n",
    "stereoS_to_N.display()"
   ]
  },
  {
   "cell_type": "markdown",
   "metadata": {},
   "source": [
    "Note that the situation is of course perfectly symmetric regarding the coordinates $(x,y,z)$ and $(x',y',z')$.\n",
    "\n",
    "At this stage, the user's atlas has four charts:"
   ]
  },
  {
   "cell_type": "code",
   "execution_count": 17,
   "metadata": {},
   "outputs": [
    {
     "data": {
      "text/html": [
       "<html><script type=\"math/tex; mode=display\">\\newcommand{\\Bold}[1]{\\mathbf{#1}}\\left[\\left(U,(x, y, z)\\right), \\left(V,({x'}, {y'}, {z'})\\right), \\left(W,(x, y, z)\\right), \\left(W,({x'}, {y'}, {z'})\\right)\\right]</script></html>"
      ],
      "text/plain": [
       "[Chart (U, (x, y, z)),\n",
       " Chart (V, (xp, yp, zp)),\n",
       " Chart (W, (x, y, z)),\n",
       " Chart (W, (xp, yp, zp))]"
      ]
     },
     "execution_count": 17,
     "metadata": {},
     "output_type": "execute_result"
    }
   ],
   "source": [
    "S3.atlas()"
   ]
  },
  {
   "cell_type": "markdown",
   "metadata": {},
   "source": [
    "For future reference, we store $W=U\\cap V$ into a Python variable:"
   ]
  },
  {
   "cell_type": "code",
   "execution_count": 18,
   "metadata": {},
   "outputs": [
    {
     "name": "stdout",
     "output_type": "stream",
     "text": [
      "Open subset W of the 3-dimensional differentiable manifold S^3\n"
     ]
    }
   ],
   "source": [
    "W = U.intersection(V)\n",
    "print(W)"
   ]
  },
  {
   "cell_type": "markdown",
   "metadata": {},
   "source": [
    "### The North and South poles\n",
    "\n",
    "$N$ is the point of $V$ of stereographic coordinates $(x',y',z')=(0,0,0)$:"
   ]
  },
  {
   "cell_type": "code",
   "execution_count": 19,
   "metadata": {},
   "outputs": [
    {
     "name": "stdout",
     "output_type": "stream",
     "text": [
      "Point N on the 3-dimensional differentiable manifold S^3\n"
     ]
    }
   ],
   "source": [
    "N = V((0,0,0), chart=stereoS, name='N')\n",
    "print(N)"
   ]
  },
  {
   "cell_type": "markdown",
   "metadata": {},
   "source": [
    "while $S$ is the point of $U$ of stereographic coordinates $(x,y,z)=(0,0,0)$:"
   ]
  },
  {
   "cell_type": "code",
   "execution_count": 20,
   "metadata": {},
   "outputs": [
    {
     "name": "stdout",
     "output_type": "stream",
     "text": [
      "Point S on the 3-dimensional differentiable manifold S^3\n"
     ]
    }
   ],
   "source": [
    "S = U((0,0,0), chart=stereoN, name='S')\n",
    "print(S)"
   ]
  },
  {
   "cell_type": "markdown",
   "metadata": {},
   "source": [
    "We have of course"
   ]
  },
  {
   "cell_type": "code",
   "execution_count": 21,
   "metadata": {},
   "outputs": [
    {
     "data": {
      "text/html": [
       "<html><script type=\"math/tex; mode=display\">\\newcommand{\\Bold}[1]{\\mathbf{#1}}\\mathrm{True}</script></html>"
      ],
      "text/plain": [
       "True"
      ]
     },
     "execution_count": 21,
     "metadata": {},
     "output_type": "execute_result"
    }
   ],
   "source": [
    "all([N not in U, N in V, S in U, S not in V])"
   ]
  },
  {
   "cell_type": "markdown",
   "metadata": {},
   "source": [
    "## Embedding of $\\mathbb{S}^3$ into $\\mathbb{R}^4$\n",
    "\n",
    "Let us first declare $\\mathbb{R}^4$ as a 4-dimensional manifold covered by a single chart (the so-called **Cartesian coordinates**):"
   ]
  },
  {
   "cell_type": "code",
   "execution_count": 22,
   "metadata": {},
   "outputs": [
    {
     "data": {
      "text/html": [
       "<html><script type=\"math/tex; mode=display\">\\newcommand{\\Bold}[1]{\\mathbf{#1}}\\left(\\mathbb{R}^4,(T, X, Y, Z)\\right)</script></html>"
      ],
      "text/plain": [
       "Chart (R^4, (T, X, Y, Z))"
      ]
     },
     "execution_count": 22,
     "metadata": {},
     "output_type": "execute_result"
    }
   ],
   "source": [
    "R4 = Manifold(4, 'R^4', r'\\mathbb{R}^4')\n",
    "X4.<T,X,Y,Z> = R4.chart()\n",
    "X4"
   ]
  },
  {
   "cell_type": "markdown",
   "metadata": {},
   "source": [
    "The embedding of $\\mathbb{S}^3$ into $\\mathbb{R}^4$ is then defined by the standard formulas relating the stereographic coordinates to the ambient Cartesian ones when considering a **stereographic projection** from the point $(-1,0,0,0)$ to the equatorial plane $T=0$:"
   ]
  },
  {
   "cell_type": "code",
   "execution_count": 23,
   "metadata": {},
   "outputs": [
    {
     "data": {
      "text/html": [
       "<html><script type=\"math/tex; mode=display\">\\newcommand{\\Bold}[1]{\\mathbf{#1}}\\begin{array}{llcl} \\Phi:& \\mathbb{S}^3 & \\longrightarrow & \\mathbb{R}^4 \\\\ \\mbox{on}\\ U : & \\left(x, y, z\\right) & \\longmapsto & \\left(T, X, Y, Z\\right) = \\left(-\\frac{x^{2} + y^{2} + z^{2} - 1}{x^{2} + y^{2} + z^{2} + 1}, \\frac{2 \\, x}{x^{2} + y^{2} + z^{2} + 1}, \\frac{2 \\, y}{x^{2} + y^{2} + z^{2} + 1}, \\frac{2 \\, z}{x^{2} + y^{2} + z^{2} + 1}\\right) \\\\ \\mbox{on}\\ V : & \\left({x'}, {y'}, {z'}\\right) & \\longmapsto & \\left(T, X, Y, Z\\right) = \\left(\\frac{{x'}^{2} + {y'}^{2} + {z'}^{2} - 1}{{x'}^{2} + {y'}^{2} + {z'}^{2} + 1}, \\frac{2 \\, {x'}}{{x'}^{2} + {y'}^{2} + {z'}^{2} + 1}, \\frac{2 \\, {y'}}{{x'}^{2} + {y'}^{2} + {z'}^{2} + 1}, \\frac{2 \\, {z'}}{{x'}^{2} + {y'}^{2} + {z'}^{2} + 1}\\right) \\end{array}</script></html>"
      ],
      "text/plain": [
       "Phi: S^3 --> R^4\n",
       "on U: (x, y, z) |--> (T, X, Y, Z) = (-(x^2 + y^2 + z^2 - 1)/(x^2 + y^2 + z^2 + 1), 2*x/(x^2 + y^2 + z^2 + 1), 2*y/(x^2 + y^2 + z^2 + 1), 2*z/(x^2 + y^2 + z^2 + 1))\n",
       "on V: (xp, yp, zp) |--> (T, X, Y, Z) = ((xp^2 + yp^2 + zp^2 - 1)/(xp^2 + yp^2 + zp^2 + 1), 2*xp/(xp^2 + yp^2 + zp^2 + 1), 2*yp/(xp^2 + yp^2 + zp^2 + 1), 2*zp/(xp^2 + yp^2 + zp^2 + 1))"
      ]
     },
     "execution_count": 23,
     "metadata": {},
     "output_type": "execute_result"
    }
   ],
   "source": [
    "rp2 = xp^2 + yp^2 + zp^2\n",
    "Phi = S3.diff_map(R4, {(stereoN, X4): \n",
    "                       [(1-r2)/(r2+1), 2*x/(r2+1), \n",
    "                        2*y/(r2+1), 2*z/(r2+1)],\n",
    "                       (stereoS, X4):\n",
    "                       [(rp2-1)/(rp2+1), 2*xp/(rp2+1), \n",
    "                        2*yp/(rp2+1), 2*zp/(rp2+1)]},\n",
    "                  name='Phi', latex_name=r'\\Phi')\n",
    "Phi.display()"
   ]
  },
  {
   "cell_type": "markdown",
   "metadata": {},
   "source": [
    "With this choice of stereographic projection, the \"North\" pole is actually the point of coordinates $(-1,0,0,0)$ in $\\mathbb{R}^4$:"
   ]
  },
  {
   "cell_type": "code",
   "execution_count": 24,
   "metadata": {},
   "outputs": [
    {
     "data": {
      "text/html": [
       "<html><script type=\"math/tex; mode=display\">\\newcommand{\\Bold}[1]{\\mathbf{#1}}\\left(-1, 0, 0, 0\\right)</script></html>"
      ],
      "text/plain": [
       "(-1, 0, 0, 0)"
      ]
     },
     "execution_count": 24,
     "metadata": {},
     "output_type": "execute_result"
    }
   ],
   "source": [
    "X4(Phi(N))"
   ]
  },
  {
   "cell_type": "markdown",
   "metadata": {},
   "source": [
    "while the \"South\" pole is the point of coordinates $(1,0,0,0)$:"
   ]
  },
  {
   "cell_type": "code",
   "execution_count": 25,
   "metadata": {},
   "outputs": [
    {
     "data": {
      "text/html": [
       "<html><script type=\"math/tex; mode=display\">\\newcommand{\\Bold}[1]{\\mathbf{#1}}\\left(1, 0, 0, 0\\right)</script></html>"
      ],
      "text/plain": [
       "(1, 0, 0, 0)"
      ]
     },
     "execution_count": 25,
     "metadata": {},
     "output_type": "execute_result"
    }
   ],
   "source": [
    "X4(Phi(S))"
   ]
  },
  {
   "cell_type": "markdown",
   "metadata": {},
   "source": [
    "## Hyperspherical coordinates\n",
    "\n",
    "The hyperspherical coordinates $(\\chi, \\theta, \\phi)$ generalize the standard spherical coordinates $(\\theta, \\phi)$ on $\\mathbb{S}^2$. They are defined on the open domain $A\\subset W \\subset \\mathbb{S}^3$ that is the complement of the \"origin meridian\"; since the latter is defined by $y=0$ and $x\\geq 0$, we declare:"
   ]
  },
  {
   "cell_type": "code",
   "execution_count": 26,
   "metadata": {},
   "outputs": [
    {
     "name": "stdout",
     "output_type": "stream",
     "text": [
      "Open subset A of the 3-dimensional differentiable manifold S^3\n"
     ]
    }
   ],
   "source": [
    "A = W.open_subset('A', coord_def={stereoN.restrict(W): (y!=0, x<0), \n",
    "                                  stereoS.restrict(W): (yp!=0, xp<0)})\n",
    "print(A)"
   ]
  },
  {
   "cell_type": "markdown",
   "metadata": {},
   "source": [
    "We then declare the chart $(A,(\\chi,\\theta,\\phi))$ by specifying the intervals spanned by the various coordinates:"
   ]
  },
  {
   "cell_type": "code",
   "execution_count": 27,
   "metadata": {},
   "outputs": [
    {
     "data": {
      "text/html": [
       "<html><script type=\"math/tex; mode=display\">\\newcommand{\\Bold}[1]{\\mathbf{#1}}\\left(A,({\\chi}, {\\theta}, {\\phi})\\right)</script></html>"
      ],
      "text/plain": [
       "Chart (A, (ch, th, ph))"
      ]
     },
     "execution_count": 27,
     "metadata": {},
     "output_type": "execute_result"
    }
   ],
   "source": [
    "spher.<ch,th,ph> = A.chart(r'ch:(0,pi):\\chi th:(0,pi):\\theta ph:(0,2*pi):\\phi')\n",
    "spher"
   ]
  },
  {
   "cell_type": "code",
   "execution_count": 28,
   "metadata": {},
   "outputs": [
    {
     "data": {
      "text/html": [
       "<html><script type=\"math/tex; mode=display\">\\newcommand{\\Bold}[1]{\\mathbf{#1}}{\\chi} :\\ \\left( 0 , \\pi \\right) ;\\quad {\\theta} :\\ \\left( 0 , \\pi \\right) ;\\quad {\\phi} :\\ \\left( 0 , 2 \\, \\pi \\right)</script></html>"
      ],
      "text/plain": [
       "ch: (0, pi); th: (0, pi); ph: (0, 2*pi)"
      ]
     },
     "execution_count": 28,
     "metadata": {},
     "output_type": "execute_result"
    }
   ],
   "source": [
    "spher.coord_range()"
   ]
  },
  {
   "cell_type": "markdown",
   "metadata": {},
   "source": [
    "The specification of the hyperspherical coordinates is completed by providing the transition map to the stereographic chart $(A,(x,y,z))$:"
   ]
  },
  {
   "cell_type": "code",
   "execution_count": 29,
   "metadata": {},
   "outputs": [
    {
     "data": {
      "text/html": [
       "<html><script type=\"math/tex; mode=display\">\\newcommand{\\Bold}[1]{\\mathbf{#1}}\\left\\{\\begin{array}{lcl} x & = & \\frac{\\cos\\left({\\phi}\\right) \\sin\\left({\\chi}\\right) \\sin\\left({\\theta}\\right)}{\\cos\\left({\\chi}\\right) + 1} \\\\ y & = & \\frac{\\sin\\left({\\chi}\\right) \\sin\\left({\\phi}\\right) \\sin\\left({\\theta}\\right)}{\\cos\\left({\\chi}\\right) + 1} \\\\ z & = & \\frac{\\cos\\left({\\theta}\\right) \\sin\\left({\\chi}\\right)}{\\cos\\left({\\chi}\\right) + 1} \\end{array}\\right.</script></html>"
      ],
      "text/plain": [
       "x = cos(ph)*sin(ch)*sin(th)/(cos(ch) + 1)\n",
       "y = sin(ch)*sin(ph)*sin(th)/(cos(ch) + 1)\n",
       "z = cos(th)*sin(ch)/(cos(ch) + 1)"
      ]
     },
     "execution_count": 29,
     "metadata": {},
     "output_type": "execute_result"
    }
   ],
   "source": [
    "den = 1 + cos(ch)\n",
    "spher_to_stereoN = spher.transition_map(stereoN.restrict(A), \n",
    "                                        (sin(ch)*sin(th)*cos(ph)/den,\n",
    "                                         sin(ch)*sin(th)*sin(ph)/den,\n",
    "                                         sin(ch)*cos(th)/den))\n",
    "spher_to_stereoN.display()"
   ]
  },
  {
   "cell_type": "markdown",
   "metadata": {},
   "source": [
    "We also provide the inverse transition map, asking to check that the provided formulas are indeed correct (argument `verbose=True`):"
   ]
  },
  {
   "cell_type": "code",
   "execution_count": 30,
   "metadata": {},
   "outputs": [
    {
     "name": "stdout",
     "output_type": "stream",
     "text": [
      "Check of the inverse coordinate transformation:\n",
      "  ch == 2*arctan(sqrt(-cos(ch) + 1)/sqrt(cos(ch) + 1))\n",
      "  th == arctan2(sqrt(-cos(ch) + 1)*sin(th)/sqrt(cos(ch) + 1), cos(th)*sin(ch)/(cos(ch) + 1))\n",
      "  ph == pi - arctan2(sin(ch)*sin(ph)*sin(th)/(cos(ch) + 1), -cos(ph)*sin(ch)*sin(th)/(cos(ch) + 1))\n",
      "  x == x\n",
      "  y == y\n",
      "  z == z\n"
     ]
    }
   ],
   "source": [
    "spher_to_stereoN.set_inverse(2*atan(sqrt(x^2+y^2+z^2)),\n",
    "                             atan2(sqrt(x^2+y^2), z),\n",
    "                             atan2(-y, -x)+pi,\n",
    "                             verbose=True)"
   ]
  },
  {
   "cell_type": "markdown",
   "metadata": {},
   "source": [
    "The check is passed, modulo some lack of trigonometric simplifications in the first three lines."
   ]
  },
  {
   "cell_type": "code",
   "execution_count": 31,
   "metadata": {},
   "outputs": [
    {
     "data": {
      "text/html": [
       "<html><script type=\"math/tex; mode=display\">\\newcommand{\\Bold}[1]{\\mathbf{#1}}\\left\\{\\begin{array}{lcl} {\\chi} & = & 2 \\, \\arctan\\left(\\sqrt{x^{2} + y^{2} + z^{2}}\\right) \\\\ {\\theta} & = & \\arctan\\left(\\sqrt{x^{2} + y^{2}}, z\\right) \\\\ {\\phi} & = & \\pi + \\arctan\\left(-y, -x\\right) \\end{array}\\right.</script></html>"
      ],
      "text/plain": [
       "ch = 2*arctan(sqrt(x^2 + y^2 + z^2))\n",
       "th = arctan2(sqrt(x^2 + y^2), z)\n",
       "ph = pi + arctan2(-y, -x)"
      ]
     },
     "execution_count": 31,
     "metadata": {},
     "output_type": "execute_result"
    }
   ],
   "source": [
    "spher_to_stereoN.inverse().display()"
   ]
  },
  {
   "cell_type": "markdown",
   "metadata": {},
   "source": [
    "The transition map $(A,(\\chi,\\theta,\\phi))\\rightarrow (A,(x',y',z'))$ is obtained by combining the transition maps $(A,(\\chi,\\theta,\\phi))\\rightarrow (A,(x,y,z))$ and $(A,(x,y,z))\\rightarrow (A,(x',y',z'))$:"
   ]
  },
  {
   "cell_type": "code",
   "execution_count": 32,
   "metadata": {},
   "outputs": [
    {
     "data": {
      "text/html": [
       "<html><script type=\"math/tex; mode=display\">\\newcommand{\\Bold}[1]{\\mathbf{#1}}\\left\\{\\begin{array}{lcl} {x'} & = & \\frac{{\\left(\\cos\\left({\\chi}\\right) + 1\\right)} \\cos\\left({\\phi}\\right) \\sin\\left({\\theta}\\right)}{\\sin\\left({\\chi}\\right)} \\\\ {y'} & = & \\frac{{\\left(\\cos\\left({\\chi}\\right) + 1\\right)} \\sin\\left({\\phi}\\right) \\sin\\left({\\theta}\\right)}{\\sin\\left({\\chi}\\right)} \\\\ {z'} & = & \\frac{{\\left(\\cos\\left({\\chi}\\right) + 1\\right)} \\cos\\left({\\theta}\\right)}{\\sin\\left({\\chi}\\right)} \\end{array}\\right.</script></html>"
      ],
      "text/plain": [
       "xp = (cos(ch) + 1)*cos(ph)*sin(th)/sin(ch)\n",
       "yp = (cos(ch) + 1)*sin(ph)*sin(th)/sin(ch)\n",
       "zp = (cos(ch) + 1)*cos(th)/sin(ch)"
      ]
     },
     "execution_count": 32,
     "metadata": {},
     "output_type": "execute_result"
    }
   ],
   "source": [
    "spher_to_stereoS = stereoN_to_S.restrict(A) * spher_to_stereoN\n",
    "spher_to_stereoS.display()"
   ]
  },
  {
   "cell_type": "markdown",
   "metadata": {},
   "source": [
    "Similarly, the transition map $(A,(x',y',z'))\\rightarrow (A,(\\chi,\\theta,\\phi))$ is obtained by combining the transition maps $(A,(x',y',z'))\\rightarrow (A,(x,y,z))$ and $(A,(x,y,z))\\rightarrow (A,(\\chi,\\theta,\\phi))$:"
   ]
  },
  {
   "cell_type": "code",
   "execution_count": 33,
   "metadata": {},
   "outputs": [
    {
     "data": {
      "text/html": [
       "<html><script type=\"math/tex; mode=display\">\\newcommand{\\Bold}[1]{\\mathbf{#1}}\\left\\{\\begin{array}{lcl} {\\chi} & = & 2 \\, \\arctan\\left(\\frac{1}{\\sqrt{{x'}^{2} + {y'}^{2} + {z'}^{2}}}\\right) \\\\ {\\theta} & = & \\arctan\\left(\\frac{\\sqrt{{x'}^{2} + {y'}^{2}}}{{x'}^{2} + {y'}^{2} + {z'}^{2}}, \\frac{{z'}}{{x'}^{2} + {y'}^{2} + {z'}^{2}}\\right) \\\\ {\\phi} & = & \\pi - \\arctan\\left(\\frac{{y'}}{{x'}^{2} + {y'}^{2} + {z'}^{2}}, -\\frac{{x'}}{{x'}^{2} + {y'}^{2} + {z'}^{2}}\\right) \\end{array}\\right.</script></html>"
      ],
      "text/plain": [
       "ch = 2*arctan(1/sqrt(xp^2 + yp^2 + zp^2))\n",
       "th = arctan2(sqrt(xp^2 + yp^2)/(xp^2 + yp^2 + zp^2), zp/(xp^2 + yp^2 + zp^2))\n",
       "ph = pi - arctan2(yp/(xp^2 + yp^2 + zp^2), -xp/(xp^2 + yp^2 + zp^2))"
      ]
     },
     "execution_count": 33,
     "metadata": {},
     "output_type": "execute_result"
    }
   ],
   "source": [
    "stereoS_to_spher = spher_to_stereoN.inverse() * stereoS_to_N.restrict(A)\n",
    "stereoS_to_spher.display()"
   ]
  },
  {
   "cell_type": "markdown",
   "metadata": {},
   "source": [
    "At this stage, the user atlas of $\\mathbb{S}^3$ is"
   ]
  },
  {
   "cell_type": "code",
   "execution_count": 34,
   "metadata": {},
   "outputs": [
    {
     "data": {
      "text/html": [
       "<html><script type=\"math/tex; mode=display\">\\newcommand{\\Bold}[1]{\\mathbf{#1}}\\left[\\left(U,(x, y, z)\\right), \\left(V,({x'}, {y'}, {z'})\\right), \\left(W,(x, y, z)\\right), \\left(W,({x'}, {y'}, {z'})\\right), \\left(A,(x, y, z)\\right), \\left(A,({x'}, {y'}, {z'})\\right), \\left(A,({\\chi}, {\\theta}, {\\phi})\\right)\\right]</script></html>"
      ],
      "text/plain": [
       "[Chart (U, (x, y, z)),\n",
       " Chart (V, (xp, yp, zp)),\n",
       " Chart (W, (x, y, z)),\n",
       " Chart (W, (xp, yp, zp)),\n",
       " Chart (A, (x, y, z)),\n",
       " Chart (A, (xp, yp, zp)),\n",
       " Chart (A, (ch, th, ph))]"
      ]
     },
     "execution_count": 34,
     "metadata": {},
     "output_type": "execute_result"
    }
   ],
   "source": [
    "S3.atlas()"
   ]
  },
  {
   "cell_type": "markdown",
   "metadata": {},
   "source": [
    "Let us get the coordinate expression of the restriction of the embedding $\\Phi$ to $A$:"
   ]
  },
  {
   "cell_type": "code",
   "execution_count": 35,
   "metadata": {},
   "outputs": [
    {
     "data": {
      "text/html": [
       "<html><script type=\"math/tex; mode=display\">\\newcommand{\\Bold}[1]{\\mathbf{#1}}\\begin{array}{llcl} \\Phi:& \\mathbb{S}^3 & \\longrightarrow & \\mathbb{R}^4 \\\\ \\mbox{on}\\ A : & \\left(x, y, z\\right) & \\longmapsto & \\left(T, X, Y, Z\\right) = \\left(-\\frac{x^{2} + y^{2} + z^{2} - 1}{x^{2} + y^{2} + z^{2} + 1}, \\frac{2 \\, x}{x^{2} + y^{2} + z^{2} + 1}, \\frac{2 \\, y}{x^{2} + y^{2} + z^{2} + 1}, \\frac{2 \\, z}{x^{2} + y^{2} + z^{2} + 1}\\right) \\end{array}</script></html>"
      ],
      "text/plain": [
       "Phi: S^3 --> R^4\n",
       "on A: (x, y, z) |--> (T, X, Y, Z) = (-(x^2 + y^2 + z^2 - 1)/(x^2 + y^2 + z^2 + 1), 2*x/(x^2 + y^2 + z^2 + 1), 2*y/(x^2 + y^2 + z^2 + 1), 2*z/(x^2 + y^2 + z^2 + 1))"
      ]
     },
     "execution_count": 35,
     "metadata": {},
     "output_type": "execute_result"
    }
   ],
   "source": [
    "Phi.display(stereoN.restrict(A), X4)"
   ]
  },
  {
   "cell_type": "code",
   "execution_count": 36,
   "metadata": {},
   "outputs": [
    {
     "data": {
      "text/html": [
       "<html><script type=\"math/tex; mode=display\">\\newcommand{\\Bold}[1]{\\mathbf{#1}}\\begin{array}{llcl} \\Phi:& \\mathbb{S}^3 & \\longrightarrow & \\mathbb{R}^4 \\\\ \\mbox{on}\\ A : & \\left({\\chi}, {\\theta}, {\\phi}\\right) & \\longmapsto & \\left(T, X, Y, Z\\right) = \\left(\\cos\\left({\\chi}\\right), \\cos\\left({\\phi}\\right) \\sin\\left({\\chi}\\right) \\sin\\left({\\theta}\\right), \\sin\\left({\\chi}\\right) \\sin\\left({\\phi}\\right) \\sin\\left({\\theta}\\right), \\cos\\left({\\theta}\\right) \\sin\\left({\\chi}\\right)\\right) \\end{array}</script></html>"
      ],
      "text/plain": [
       "Phi: S^3 --> R^4\n",
       "on A: (ch, th, ph) |--> (T, X, Y, Z) = (cos(ch), cos(ph)*sin(ch)*sin(th), sin(ch)*sin(ph)*sin(th), cos(th)*sin(ch))"
      ]
     },
     "execution_count": 36,
     "metadata": {},
     "output_type": "execute_result"
    }
   ],
   "source": [
    "Phi.display(spher, X4)"
   ]
  },
  {
   "cell_type": "code",
   "execution_count": 37,
   "metadata": {},
   "outputs": [
    {
     "data": {
      "text/html": [
       "<html><script type=\"math/tex; mode=display\">\\newcommand{\\Bold}[1]{\\mathbf{#1}}\\begin{array}{llcl} \\Phi:& \\mathbb{S}^3 & \\longrightarrow & \\mathbb{R}^4 \\\\ \\mbox{on}\\ U : & \\left(x, y, z\\right) & \\longmapsto & \\left(T, X, Y, Z\\right) = \\left(-\\frac{x^{2} + y^{2} + z^{2} - 1}{x^{2} + y^{2} + z^{2} + 1}, \\frac{2 \\, x}{x^{2} + y^{2} + z^{2} + 1}, \\frac{2 \\, y}{x^{2} + y^{2} + z^{2} + 1}, \\frac{2 \\, z}{x^{2} + y^{2} + z^{2} + 1}\\right) \\\\ \\mbox{on}\\ V : & \\left({x'}, {y'}, {z'}\\right) & \\longmapsto & \\left(T, X, Y, Z\\right) = \\left(\\frac{{x'}^{2} + {y'}^{2} + {z'}^{2} - 1}{{x'}^{2} + {y'}^{2} + {z'}^{2} + 1}, \\frac{2 \\, {x'}}{{x'}^{2} + {y'}^{2} + {z'}^{2} + 1}, \\frac{2 \\, {y'}}{{x'}^{2} + {y'}^{2} + {z'}^{2} + 1}, \\frac{2 \\, {z'}}{{x'}^{2} + {y'}^{2} + {z'}^{2} + 1}\\right) \\\\ \\mbox{on}\\ A : & \\left({\\chi}, {\\theta}, {\\phi}\\right) & \\longmapsto & \\left(T, X, Y, Z\\right) = \\left(\\cos\\left({\\chi}\\right), \\cos\\left({\\phi}\\right) \\sin\\left({\\chi}\\right) \\sin\\left({\\theta}\\right), \\sin\\left({\\chi}\\right) \\sin\\left({\\phi}\\right) \\sin\\left({\\theta}\\right), \\cos\\left({\\theta}\\right) \\sin\\left({\\chi}\\right)\\right) \\end{array}</script></html>"
      ],
      "text/plain": [
       "Phi: S^3 --> R^4\n",
       "on U: (x, y, z) |--> (T, X, Y, Z) = (-(x^2 + y^2 + z^2 - 1)/(x^2 + y^2 + z^2 + 1), 2*x/(x^2 + y^2 + z^2 + 1), 2*y/(x^2 + y^2 + z^2 + 1), 2*z/(x^2 + y^2 + z^2 + 1))\n",
       "on V: (xp, yp, zp) |--> (T, X, Y, Z) = ((xp^2 + yp^2 + zp^2 - 1)/(xp^2 + yp^2 + zp^2 + 1), 2*xp/(xp^2 + yp^2 + zp^2 + 1), 2*yp/(xp^2 + yp^2 + zp^2 + 1), 2*zp/(xp^2 + yp^2 + zp^2 + 1))\n",
       "on A: (ch, th, ph) |--> (T, X, Y, Z) = (cos(ch), cos(ph)*sin(ch)*sin(th), sin(ch)*sin(ph)*sin(th), cos(th)*sin(ch))"
      ]
     },
     "execution_count": 37,
     "metadata": {},
     "output_type": "execute_result"
    }
   ],
   "source": [
    "Phi.display()"
   ]
  },
  {
   "cell_type": "markdown",
   "metadata": {},
   "source": [
    "## Projections from $\\mathbb{R}^4$ to $\\mathbb{S}^3$\n",
    "\n",
    "We will need some projection operators from (a subset of) $\\mathbb{R}^4$ to $\\mathbb{S}^3$.\n",
    "\n",
    "First, let $\\mathbb{R}^4_N$ be $\\mathbb{R}^4$ minus the hyperplane $T=-1$:"
   ]
  },
  {
   "cell_type": "code",
   "execution_count": 38,
   "metadata": {},
   "outputs": [],
   "source": [
    "R4N = R4.open_subset('R4N', latex_name=r'\\mathbb{R}^4_N', \n",
    "                     coord_def={X4: T!=-1})\n",
    "X4N = X4.restrict(R4N)"
   ]
  },
  {
   "cell_type": "markdown",
   "metadata": {},
   "source": [
    "and let us consider the following projection $\\Pi_N: \\mathbb{R}^4_N \\to U\\subset\\mathbb{S}^3$:"
   ]
  },
  {
   "cell_type": "code",
   "execution_count": 39,
   "metadata": {},
   "outputs": [
    {
     "data": {
      "text/html": [
       "<html><script type=\"math/tex; mode=display\">\\newcommand{\\Bold}[1]{\\mathbf{#1}}\\begin{array}{llcl} \\Pi_N:& \\mathbb{R}^4_N & \\longrightarrow & U \\\\ & \\left(T, X, Y, Z\\right) & \\longmapsto & \\left(x, y, z\\right) = \\left(\\frac{X}{T + 1}, \\frac{Y}{T + 1}, \\frac{Z}{T + 1}\\right) \\end{array}</script></html>"
      ],
      "text/plain": [
       "P_N: R4N --> U\n",
       "   (T, X, Y, Z) |--> (x, y, z) = (X/(T + 1), Y/(T + 1), Z/(T + 1))"
      ]
     },
     "execution_count": 39,
     "metadata": {},
     "output_type": "execute_result"
    }
   ],
   "source": [
    "ProjN = R4N.diff_map(U, {(X4N, stereoN): \n",
    "                         [X/(1+T), Y/(1+T), Z/(1+T)]},\n",
    "                     name='P_N', latex_name=r'\\Pi_N')\n",
    "ProjN.display()"
   ]
  },
  {
   "cell_type": "markdown",
   "metadata": {},
   "source": [
    "Similarly, let $\\mathbb{R}^4_S$ be $\\mathbb{R}^4$ minus the hyperplane $T=1$ and $\\Pi_S$ the \n",
    "following projection $\\mathbb{R}_S\\to V\\subset \\mathbb{S}^3$:"
   ]
  },
  {
   "cell_type": "code",
   "execution_count": 40,
   "metadata": {},
   "outputs": [],
   "source": [
    "R4S = R4.open_subset('R4S', latex_name=r'\\mathbb{R}^4_S', \n",
    "                     coord_def={X4: T!=1})\n",
    "X4S = X4.restrict(R4S)"
   ]
  },
  {
   "cell_type": "code",
   "execution_count": 41,
   "metadata": {},
   "outputs": [
    {
     "data": {
      "text/html": [
       "<html><script type=\"math/tex; mode=display\">\\newcommand{\\Bold}[1]{\\mathbf{#1}}\\begin{array}{llcl} \\Pi_S:& \\mathbb{R}^4_S & \\longrightarrow & V \\\\ & \\left(T, X, Y, Z\\right) & \\longmapsto & \\left({x'}, {y'}, {z'}\\right) = \\left(-\\frac{X}{T - 1}, -\\frac{Y}{T - 1}, -\\frac{Z}{T - 1}\\right) \\end{array}</script></html>"
      ],
      "text/plain": [
       "P_S: R4S --> V\n",
       "   (T, X, Y, Z) |--> (xp, yp, zp) = (-X/(T - 1), -Y/(T - 1), -Z/(T - 1))"
      ]
     },
     "execution_count": 41,
     "metadata": {},
     "output_type": "execute_result"
    }
   ],
   "source": [
    "ProjS = R4S.diff_map(V, {(X4S, stereoS): \n",
    "                         [X/(1-T), Y/(1-T), Z/(1-T)]},\n",
    "                     name='P_S', latex_name=r'\\Pi_S')\n",
    "ProjS.display()"
   ]
  },
  {
   "cell_type": "markdown",
   "metadata": {},
   "source": [
    "Let us check that once applied to an embedded point of $U\\cap V\\subset \\mathbb{S}^3$, this projection reduces to the identity:"
   ]
  },
  {
   "cell_type": "code",
   "execution_count": 42,
   "metadata": {},
   "outputs": [
    {
     "data": {
      "text/html": [
       "<html><script type=\"math/tex; mode=display\">\\newcommand{\\Bold}[1]{\\mathbf{#1}}\\left(a^{2} + 1, b, c\\right)</script></html>"
      ],
      "text/plain": [
       "(a^2 + 1, b, c)"
      ]
     },
     "execution_count": 42,
     "metadata": {},
     "output_type": "execute_result"
    }
   ],
   "source": [
    "var('a b c', domain='real')\n",
    "p = S3((1+a^2,b,c), chart=stereoN)\n",
    "stereoN(p)"
   ]
  },
  {
   "cell_type": "code",
   "execution_count": 43,
   "metadata": {},
   "outputs": [
    {
     "data": {
      "text/html": [
       "<html><script type=\"math/tex; mode=display\">\\newcommand{\\Bold}[1]{\\mathbf{#1}}\\mathrm{True}</script></html>"
      ],
      "text/plain": [
       "True"
      ]
     },
     "execution_count": 43,
     "metadata": {},
     "output_type": "execute_result"
    }
   ],
   "source": [
    "all([p in U, p in V])"
   ]
  },
  {
   "cell_type": "code",
   "execution_count": 44,
   "metadata": {},
   "outputs": [
    {
     "data": {
      "text/html": [
       "<html><script type=\"math/tex; mode=display\">\\newcommand{\\Bold}[1]{\\mathbf{#1}}\\mathrm{True}</script></html>"
      ],
      "text/plain": [
       "True"
      ]
     },
     "execution_count": 44,
     "metadata": {},
     "output_type": "execute_result"
    }
   ],
   "source": [
    "all([ProjN(Phi(p)) == p, ProjS(Phi(p)) == p])"
   ]
  },
  {
   "cell_type": "code",
   "execution_count": 45,
   "metadata": {},
   "outputs": [
    {
     "data": {
      "text/html": [
       "<html><script type=\"math/tex; mode=display\">\\newcommand{\\Bold}[1]{\\mathbf{#1}}\\mathrm{True}</script></html>"
      ],
      "text/plain": [
       "True"
      ]
     },
     "execution_count": 45,
     "metadata": {},
     "output_type": "execute_result"
    }
   ],
   "source": [
    "p = S3((1+a^2,b,c), chart=stereoS)\n",
    "all([ProjN(Phi(p)) == p, ProjS(Phi(p)) == p])"
   ]
  },
  {
   "cell_type": "code",
   "execution_count": 46,
   "metadata": {},
   "outputs": [
    {
     "data": {
      "text/html": [
       "<html><script type=\"math/tex; mode=display\">\\newcommand{\\Bold}[1]{\\mathbf{#1}}\\left(\\frac{1}{2} \\, \\sqrt{3}, \\frac{1}{2} \\, \\cos\\left(b\\right) \\sin\\left(a\\right), \\frac{1}{2} \\, \\sin\\left(a\\right) \\sin\\left(b\\right), \\frac{1}{2} \\, \\cos\\left(a\\right)\\right)</script></html>"
      ],
      "text/plain": [
       "(1/2*sqrt(3), 1/2*cos(b)*sin(a), 1/2*sin(a)*sin(b), 1/2*cos(a))"
      ]
     },
     "execution_count": 46,
     "metadata": {},
     "output_type": "execute_result"
    }
   ],
   "source": [
    "q = R4((sqrt(3)/2, sin(a)*cos(b)/2, sin(a)*sin(b)/2, cos(a)/2))\n",
    "X4(q)"
   ]
  },
  {
   "cell_type": "code",
   "execution_count": 47,
   "metadata": {},
   "outputs": [
    {
     "data": {
      "text/html": [
       "<html><script type=\"math/tex; mode=display\">\\newcommand{\\Bold}[1]{\\mathbf{#1}}\\mathrm{True}</script></html>"
      ],
      "text/plain": [
       "True"
      ]
     },
     "execution_count": 47,
     "metadata": {},
     "output_type": "execute_result"
    }
   ],
   "source": [
    "all([q in R4N, q in R4S])"
   ]
  },
  {
   "cell_type": "code",
   "execution_count": 48,
   "metadata": {},
   "outputs": [
    {
     "data": {
      "text/html": [
       "<html><script type=\"math/tex; mode=display\">\\newcommand{\\Bold}[1]{\\mathbf{#1}}\\mathrm{False}</script></html>"
      ],
      "text/plain": [
       "False"
      ]
     },
     "execution_count": 48,
     "metadata": {},
     "output_type": "execute_result"
    }
   ],
   "source": [
    "all([Phi(ProjN(q)) == q, Phi(ProjS(q)) == q])"
   ]
  },
  {
   "cell_type": "markdown",
   "metadata": {},
   "source": [
    "## Quaternions"
   ]
  },
  {
   "cell_type": "markdown",
   "metadata": {},
   "source": [
    "We consider the (division) algebra of quaternions $\\mathbb{H}$ as $\\mathbb{R}^4$ endowed with the following (non-commutative) product:"
   ]
  },
  {
   "cell_type": "code",
   "execution_count": 49,
   "metadata": {},
   "outputs": [],
   "source": [
    "def qprod(p,q):\n",
    "    if p in R4 and q in R4:\n",
    "        T1, X1, Y1, Z1 = X4(p)\n",
    "        T2, X2, Y2, Z2 = X4(q)\n",
    "        return R4(((T1*T2-X1*X2-Y1*Y2-Z1*Z2).simplify_full(),\n",
    "                   (T1*X2+X1*T2+Y1*Z2-Z1*Y2).simplify_full(),\n",
    "                   (T1*Y2-X1*Z2+Y1*T2+Z1*X2).simplify_full(),\n",
    "                   (T1*Z2+X1*Y2-Y1*X2+Z1*T2).simplify_full()))\n",
    "    if p in S3 and q in S3:\n",
    "        a = qprod(Phi(p),Phi(q))\n",
    "        if X4(a) == (-1,0,0,0):\n",
    "            return N\n",
    "        return ProjN(R4N(a))\n",
    "    raise ValueError(\"Cannot evaluate qprod of {} and {}\".format(p,q))"
   ]
  },
  {
   "cell_type": "markdown",
   "metadata": {},
   "source": [
    "Note that we have extended the definition of the quaternionic product to $\\mathbb{S}^3$ via the embedding $\\Phi$. \n",
    "\n",
    "### Distinguished quaternions on $\\mathbb{S}^3$\n",
    "\n",
    "Let us introduce two special points on $\\mathbb{S}^3$: $\\mathbf{1}$ and $-\\mathbf{1}$."
   ]
  },
  {
   "cell_type": "code",
   "execution_count": 50,
   "metadata": {},
   "outputs": [
    {
     "data": {
      "text/html": [
       "<html><script type=\"math/tex; mode=display\">\\newcommand{\\Bold}[1]{\\mathbf{#1}}\\left(1, 0, 0, 0\\right)</script></html>"
      ],
      "text/plain": [
       "(1, 0, 0, 0)"
      ]
     },
     "execution_count": 50,
     "metadata": {},
     "output_type": "execute_result"
    }
   ],
   "source": [
    "One = S3((0,0,0), chart=stereoN, name='1', latex_name=r'\\mathbf{1}')\n",
    "X4(Phi(One))"
   ]
  },
  {
   "cell_type": "markdown",
   "metadata": {},
   "source": [
    "As we can see from the Cartesian coordinates of $\\Phi(\\mathbf{1})$, the point $\\mathbf{1}$ is actually nothing but the \"South\" pole used to define the stereographic chart $(V,(x',y',z'))$:"
   ]
  },
  {
   "cell_type": "code",
   "execution_count": 51,
   "metadata": {},
   "outputs": [
    {
     "data": {
      "text/html": [
       "<html><script type=\"math/tex; mode=display\">\\newcommand{\\Bold}[1]{\\mathbf{#1}}\\mathrm{True}</script></html>"
      ],
      "text/plain": [
       "True"
      ]
     },
     "execution_count": 51,
     "metadata": {},
     "output_type": "execute_result"
    }
   ],
   "source": [
    "One == S"
   ]
  },
  {
   "cell_type": "code",
   "execution_count": 52,
   "metadata": {},
   "outputs": [
    {
     "data": {
      "text/html": [
       "<html><script type=\"math/tex; mode=display\">\\newcommand{\\Bold}[1]{\\mathbf{#1}}\\left(-1, 0, 0, 0\\right)</script></html>"
      ],
      "text/plain": [
       "(-1, 0, 0, 0)"
      ]
     },
     "execution_count": 52,
     "metadata": {},
     "output_type": "execute_result"
    }
   ],
   "source": [
    "minusOne = S3((0,0,0), chart=stereoS, name='-1', latex_name=r'-\\mathbf{1}')\n",
    "X4(Phi(minusOne))"
   ]
  },
  {
   "cell_type": "markdown",
   "metadata": {},
   "source": [
    "The point $\\mathbf{-1}$ is thus nothing but the \"North\" pole used to define the stereographic chart $(U,(x,y,z))$:"
   ]
  },
  {
   "cell_type": "code",
   "execution_count": 53,
   "metadata": {},
   "outputs": [
    {
     "data": {
      "text/html": [
       "<html><script type=\"math/tex; mode=display\">\\newcommand{\\Bold}[1]{\\mathbf{#1}}\\mathrm{True}</script></html>"
      ],
      "text/plain": [
       "True"
      ]
     },
     "execution_count": 53,
     "metadata": {},
     "output_type": "execute_result"
    }
   ],
   "source": [
    "minusOne == N"
   ]
  },
  {
   "cell_type": "markdown",
   "metadata": {},
   "source": [
    "Next we introduce the points $\\mathbf{i}$, $\\mathbf{j}$ and $\\mathbf{k}$ on $\\mathbb{S}^3$:"
   ]
  },
  {
   "cell_type": "code",
   "execution_count": 54,
   "metadata": {},
   "outputs": [
    {
     "data": {
      "text/html": [
       "<html><script type=\"math/tex; mode=display\">\\newcommand{\\Bold}[1]{\\mathbf{#1}}\\left(0, 1, 0, 0\\right)</script></html>"
      ],
      "text/plain": [
       "(0, 1, 0, 0)"
      ]
     },
     "execution_count": 54,
     "metadata": {},
     "output_type": "execute_result"
    }
   ],
   "source": [
    "I = S3((1,0,0), chart=stereoN, name='i', latex_name=r'\\mathbf{i}')\n",
    "X4(Phi(I))"
   ]
  },
  {
   "cell_type": "code",
   "execution_count": 55,
   "metadata": {},
   "outputs": [
    {
     "data": {
      "text/html": [
       "<html><script type=\"math/tex; mode=display\">\\newcommand{\\Bold}[1]{\\mathbf{#1}}\\left(1, 0, 0\\right)</script></html>"
      ],
      "text/plain": [
       "(1, 0, 0)"
      ]
     },
     "execution_count": 55,
     "metadata": {},
     "output_type": "execute_result"
    }
   ],
   "source": [
    "stereoS(I)"
   ]
  },
  {
   "cell_type": "code",
   "execution_count": 56,
   "metadata": {},
   "outputs": [
    {
     "data": {
      "text/html": [
       "<html><script type=\"math/tex; mode=display\">\\newcommand{\\Bold}[1]{\\mathbf{#1}}\\left(0, 0, 1, 0\\right)</script></html>"
      ],
      "text/plain": [
       "(0, 0, 1, 0)"
      ]
     },
     "execution_count": 56,
     "metadata": {},
     "output_type": "execute_result"
    }
   ],
   "source": [
    "J = S3((0,1,0), chart=stereoN, name='j', latex_name=r'\\mathbf{j}')\n",
    "X4(Phi(J))"
   ]
  },
  {
   "cell_type": "code",
   "execution_count": 57,
   "metadata": {},
   "outputs": [
    {
     "data": {
      "text/html": [
       "<html><script type=\"math/tex; mode=display\">\\newcommand{\\Bold}[1]{\\mathbf{#1}}\\left(0, 1, 0\\right)</script></html>"
      ],
      "text/plain": [
       "(0, 1, 0)"
      ]
     },
     "execution_count": 57,
     "metadata": {},
     "output_type": "execute_result"
    }
   ],
   "source": [
    "stereoS(J)"
   ]
  },
  {
   "cell_type": "markdown",
   "metadata": {},
   "source": [
    "Since $\\mathbf{j}$ lies in $A$, contrary to $\\mathbf{i}$, we may ask for its hyperspherical coordinates:"
   ]
  },
  {
   "cell_type": "code",
   "execution_count": 58,
   "metadata": {},
   "outputs": [
    {
     "data": {
      "text/html": [
       "<html><script type=\"math/tex; mode=display\">\\newcommand{\\Bold}[1]{\\mathbf{#1}}\\left(\\frac{1}{2} \\, \\pi, \\frac{1}{2} \\, \\pi, \\frac{1}{2} \\, \\pi\\right)</script></html>"
      ],
      "text/plain": [
       "(1/2*pi, 1/2*pi, 1/2*pi)"
      ]
     },
     "execution_count": 58,
     "metadata": {},
     "output_type": "execute_result"
    }
   ],
   "source": [
    "spher(J)"
   ]
  },
  {
   "cell_type": "code",
   "execution_count": 59,
   "metadata": {},
   "outputs": [
    {
     "data": {
      "text/html": [
       "<html><script type=\"math/tex; mode=display\">\\newcommand{\\Bold}[1]{\\mathbf{#1}}\\left(0, 0, 0, 1\\right)</script></html>"
      ],
      "text/plain": [
       "(0, 0, 0, 1)"
      ]
     },
     "execution_count": 59,
     "metadata": {},
     "output_type": "execute_result"
    }
   ],
   "source": [
    "K = S3((0,0,1), chart=stereoN, name='k', latex_name=r'\\mathbf{k}')\n",
    "X4(Phi(K))"
   ]
  },
  {
   "cell_type": "code",
   "execution_count": 60,
   "metadata": {},
   "outputs": [
    {
     "data": {
      "text/html": [
       "<html><script type=\"math/tex; mode=display\">\\newcommand{\\Bold}[1]{\\mathbf{#1}}\\left(0, 0, 1\\right)</script></html>"
      ],
      "text/plain": [
       "(0, 0, 1)"
      ]
     },
     "execution_count": 60,
     "metadata": {},
     "output_type": "execute_result"
    }
   ],
   "source": [
    "stereoS(K)"
   ]
  },
  {
   "cell_type": "markdown",
   "metadata": {},
   "source": [
    "Hamilton's fundamental relations\n",
    "$$ \\mathbf{i} \\mathbf{j} \\mathbf{k} = \\mathbf{-1} $$\n",
    "$$ \\mathbf{i} \\mathbf{j} = \\mathbf{k},\\quad \\mathbf{j} \\mathbf{k} = \\mathbf{i}, \\quad \\mathbf{k} \\mathbf{i} = \\mathbf{j}$$\n",
    "are satisfied:"
   ]
  },
  {
   "cell_type": "code",
   "execution_count": 61,
   "metadata": {},
   "outputs": [
    {
     "data": {
      "text/html": [
       "<html><script type=\"math/tex; mode=display\">\\newcommand{\\Bold}[1]{\\mathbf{#1}}\\mathrm{True}</script></html>"
      ],
      "text/plain": [
       "True"
      ]
     },
     "execution_count": 61,
     "metadata": {},
     "output_type": "execute_result"
    }
   ],
   "source": [
    "qprod(I, qprod(J,K)) == minusOne"
   ]
  },
  {
   "cell_type": "code",
   "execution_count": 62,
   "metadata": {},
   "outputs": [
    {
     "data": {
      "text/html": [
       "<html><script type=\"math/tex; mode=display\">\\newcommand{\\Bold}[1]{\\mathbf{#1}}\\mathrm{True}</script></html>"
      ],
      "text/plain": [
       "True"
      ]
     },
     "execution_count": 62,
     "metadata": {},
     "output_type": "execute_result"
    }
   ],
   "source": [
    "all([qprod(I,J) == K, qprod(J,K) == I,\n",
    "     qprod(K,I) == J])"
   ]
  },
  {
   "cell_type": "markdown",
   "metadata": {},
   "source": [
    "These relations imply $\\mathbf{i}^2 = \\mathbf{-1}$, $\\mathbf{j}^2 = \\mathbf{-1}$ and $\\mathbf{k}^2 = \\mathbf{-1}$:"
   ]
  },
  {
   "cell_type": "code",
   "execution_count": 63,
   "metadata": {},
   "outputs": [
    {
     "data": {
      "text/html": [
       "<html><script type=\"math/tex; mode=display\">\\newcommand{\\Bold}[1]{\\mathbf{#1}}\\mathrm{True}</script></html>"
      ],
      "text/plain": [
       "True"
      ]
     },
     "execution_count": 63,
     "metadata": {},
     "output_type": "execute_result"
    }
   ],
   "source": [
    "all([qprod(One,One) == One, qprod(I,I) == minusOne,\n",
    "     qprod(J,J) == minusOne, qprod(K,K) == minusOne])"
   ]
  },
  {
   "cell_type": "markdown",
   "metadata": {},
   "source": [
    "Let us introduce $\\mathbf{-i}$, $\\mathbf{-j}$ and $\\mathbf{-k}$, as points of $\\mathbb{S}^3$:"
   ]
  },
  {
   "cell_type": "code",
   "execution_count": 64,
   "metadata": {},
   "outputs": [
    {
     "data": {
      "text/html": [
       "<html><script type=\"math/tex; mode=display\">\\newcommand{\\Bold}[1]{\\mathbf{#1}}\\left(0, -1, 0, 0\\right)</script></html>"
      ],
      "text/plain": [
       "(0, -1, 0, 0)"
      ]
     },
     "execution_count": 64,
     "metadata": {},
     "output_type": "execute_result"
    }
   ],
   "source": [
    "minusI = qprod(minusOne, I)\n",
    "X4(Phi(minusI))"
   ]
  },
  {
   "cell_type": "code",
   "execution_count": 65,
   "metadata": {},
   "outputs": [
    {
     "data": {
      "text/html": [
       "<html><script type=\"math/tex; mode=display\">\\newcommand{\\Bold}[1]{\\mathbf{#1}}\\left(0, 0, -1, 0\\right)</script></html>"
      ],
      "text/plain": [
       "(0, 0, -1, 0)"
      ]
     },
     "execution_count": 65,
     "metadata": {},
     "output_type": "execute_result"
    }
   ],
   "source": [
    "minusJ = qprod(minusOne, J)\n",
    "X4(Phi(minusJ))"
   ]
  },
  {
   "cell_type": "code",
   "execution_count": 66,
   "metadata": {},
   "outputs": [
    {
     "data": {
      "text/html": [
       "<html><script type=\"math/tex; mode=display\">\\newcommand{\\Bold}[1]{\\mathbf{#1}}\\left(0, 0, 0, -1\\right)</script></html>"
      ],
      "text/plain": [
       "(0, 0, 0, -1)"
      ]
     },
     "execution_count": 66,
     "metadata": {},
     "output_type": "execute_result"
    }
   ],
   "source": [
    "minusK = qprod(minusOne, K)\n",
    "X4(Phi(minusK))"
   ]
  },
  {
   "cell_type": "markdown",
   "metadata": {},
   "source": [
    "### Quaternionic conjugation"
   ]
  },
  {
   "cell_type": "markdown",
   "metadata": {},
   "source": [
    "In the comments below (but not in the SageMath code), we shall identify $\\mathbf{1}\\in \\mathbb{S}^3$ with $\\Phi(\\mathbf{1})\\in \\mathbb{R}^4$, $\\mathbf{i}\\in \\mathbb{S}^3$ with $\\Phi(\\mathbf{i})\\in \\mathbb{R}^4$, etc. In particular, we consider $(\\mathbf{1}, \\mathbf{i}, \\mathbf{j},\\mathbf{k})$ as a basis of the quaternion algebra $\\mathbb{H}$. \n",
    "\n",
    "The *conjugate* of a quaternion $q = T + X\\mathbf{i} + Y\\mathbf{j} + Z\\mathbf{k}$ is $\\bar{q} = T - X\\mathbf{i} - Y\\mathbf{j} - Z\\mathbf{k}$; hence we define:\n"
   ]
  },
  {
   "cell_type": "code",
   "execution_count": 67,
   "metadata": {},
   "outputs": [],
   "source": [
    "def qconj(p):\n",
    "    if p in R4:\n",
    "        T, X, Y, Z = X4(p)\n",
    "        return R4((T, -X, -Y, -Z))\n",
    "    if p in S3:\n",
    "        a = qconj(Phi(p))\n",
    "        if X4(a) == (-1,0,0,0):\n",
    "            return N\n",
    "        return ProjN(a)\n",
    "    raise ValueError(\"Cannot evaluate qconf of {}\".format(p)) "
   ]
  },
  {
   "cell_type": "markdown",
   "metadata": {},
   "source": [
    "In particular, we have $\\bar{\\mathbf{1}} = \\mathbf{1}$, $\\bar{\\mathbf{i}} = -\\mathbf{i}$,  $\\bar{\\mathbf{j}} = -\\mathbf{j}$ and  $\\bar{\\mathbf{k}} = -\\mathbf{k}$:"
   ]
  },
  {
   "cell_type": "code",
   "execution_count": 68,
   "metadata": {},
   "outputs": [
    {
     "data": {
      "text/html": [
       "<html><script type=\"math/tex; mode=display\">\\newcommand{\\Bold}[1]{\\mathbf{#1}}\\mathrm{True}</script></html>"
      ],
      "text/plain": [
       "True"
      ]
     },
     "execution_count": 68,
     "metadata": {},
     "output_type": "execute_result"
    }
   ],
   "source": [
    "all([qconj(One) == One, \n",
    "     qconj(I) == minusI,\n",
    "     qconj(J) == minusJ, \n",
    "     qconj(K) == minusK])"
   ]
  },
  {
   "cell_type": "markdown",
   "metadata": {},
   "source": [
    "The conjugate of an element of $\\mathbb{S}^3$"
   ]
  },
  {
   "cell_type": "code",
   "execution_count": 69,
   "metadata": {},
   "outputs": [
    {
     "data": {
      "text/html": [
       "<html><script type=\"math/tex; mode=display\">\\newcommand{\\Bold}[1]{\\mathbf{#1}}\\left(-a, -b, -c\\right)</script></html>"
      ],
      "text/plain": [
       "(-a, -b, -c)"
      ]
     },
     "execution_count": 69,
     "metadata": {},
     "output_type": "execute_result"
    }
   ],
   "source": [
    "assume(a != 0)  # to ensure that qconj(p) is not N\n",
    "p = S3((a,b,c), chart=stereoN)\n",
    "stereoN(qconj(p))"
   ]
  },
  {
   "cell_type": "code",
   "execution_count": 70,
   "metadata": {},
   "outputs": [
    {
     "data": {
      "text/html": [
       "<html><script type=\"math/tex; mode=display\">\\newcommand{\\Bold}[1]{\\mathbf{#1}}\\left(-a, -b, -c\\right)</script></html>"
      ],
      "text/plain": [
       "(-a, -b, -c)"
      ]
     },
     "execution_count": 70,
     "metadata": {},
     "output_type": "execute_result"
    }
   ],
   "source": [
    "p = S3((a,b,c), chart=stereoS)\n",
    "stereoS(qconj(p))"
   ]
  },
  {
   "cell_type": "code",
   "execution_count": 71,
   "metadata": {},
   "outputs": [],
   "source": [
    "forget(a!=0)"
   ]
  },
  {
   "cell_type": "markdown",
   "metadata": {},
   "source": [
    "### Norm of a quaternion\n",
    "\n",
    "The quaternionic norm $\\| q\\| = \\sqrt{q\\bar{q}}$ coincide with the Euclidean norm in $\\mathbb{R}^4$, so that $\\mathbb{S}^3$ can be viewed as the set of unit quaternions; hence we define:"
   ]
  },
  {
   "cell_type": "code",
   "execution_count": 72,
   "metadata": {},
   "outputs": [],
   "source": [
    "def qnorm(p):\n",
    "    if p in R4:\n",
    "        T, X, Y, Z = X4(p)\n",
    "        return (sqrt(T^2 + X^2 + Y^2 + Z^2)).simplify_full()\n",
    "    if p in S3:\n",
    "        return 1\n",
    "    raise ValueError(\"Cannot evaluate qnorm of {}\".format(p)) "
   ]
  },
  {
   "cell_type": "code",
   "execution_count": 73,
   "metadata": {},
   "outputs": [
    {
     "data": {
      "text/html": [
       "<html><script type=\"math/tex; mode=display\">\\newcommand{\\Bold}[1]{\\mathbf{#1}}\\sqrt{a^{2} + b^{2} + c^{2} + d^{2}}</script></html>"
      ],
      "text/plain": [
       "sqrt(a^2 + b^2 + c^2 + d^2)"
      ]
     },
     "execution_count": 73,
     "metadata": {},
     "output_type": "execute_result"
    }
   ],
   "source": [
    "var('d', domain='real')\n",
    "q = R4((a,b,c,d))\n",
    "qnorm(q)"
   ]
  },
  {
   "cell_type": "markdown",
   "metadata": {},
   "source": [
    "Let us check that $\\| q\\|^2 = q\\bar{q}$:"
   ]
  },
  {
   "cell_type": "code",
   "execution_count": 74,
   "metadata": {},
   "outputs": [
    {
     "data": {
      "text/html": [
       "<html><script type=\"math/tex; mode=display\">\\newcommand{\\Bold}[1]{\\mathbf{#1}}\\mathrm{True}</script></html>"
      ],
      "text/plain": [
       "True"
      ]
     },
     "execution_count": 74,
     "metadata": {},
     "output_type": "execute_result"
    }
   ],
   "source": [
    "R4((qnorm(q)^2,0,0,0)) == qprod(q, qconj(q))"
   ]
  },
  {
   "cell_type": "markdown",
   "metadata": {},
   "source": [
    "As elements of $\\mathbb{S}^3$, $\\mathbf{1}$,  $\\mathbf{i}$,  $\\mathbf{j}$ and  $\\mathbf{k}$ have all unit norm:"
   ]
  },
  {
   "cell_type": "code",
   "execution_count": 75,
   "metadata": {},
   "outputs": [
    {
     "data": {
      "text/html": [
       "<html><script type=\"math/tex; mode=display\">\\newcommand{\\Bold}[1]{\\mathbf{#1}}\\mathrm{True}</script></html>"
      ],
      "text/plain": [
       "True"
      ]
     },
     "execution_count": 75,
     "metadata": {},
     "output_type": "execute_result"
    }
   ],
   "source": [
    "(qnorm(One), qnorm(I), qnorm(J), qnorm(K)) == (1, 1, 1, 1)"
   ]
  },
  {
   "cell_type": "markdown",
   "metadata": {},
   "source": [
    "## Lie group structure"
   ]
  },
  {
   "cell_type": "markdown",
   "metadata": {},
   "source": [
    "### Right translation by $\\mathbf{i}$\n",
    "\n",
    "The right translation by $\\mathbf{i}$ is the map $\\bar{R}_{\\mathbf{i}}: p \\mapsto p \\mathbf{i}$. We define it first at the level of $\\mathbb{R}^4$:"
   ]
  },
  {
   "cell_type": "code",
   "execution_count": 76,
   "metadata": {},
   "outputs": [
    {
     "data": {
      "text/html": [
       "<html><script type=\"math/tex; mode=display\">\\newcommand{\\Bold}[1]{\\mathbf{#1}}\\begin{array}{llcl} & \\mathbb{R}^4 & \\longrightarrow & \\mathbb{R}^4 \\\\ & \\left(T, X, Y, Z\\right) & \\longmapsto & \\left(-X, T, Z, -Y\\right) \\end{array}</script></html>"
      ],
      "text/plain": [
       "R^4 --> R^4\n",
       "   (T, X, Y, Z) |--> (-X, T, Z, -Y)"
      ]
     },
     "execution_count": 76,
     "metadata": {},
     "output_type": "execute_result"
    }
   ],
   "source": [
    "p = R4((T,X,Y,Z))\n",
    "RI_R4 = R4.diff_map(R4, X4(qprod(p, Phi(I))))\n",
    "RI_R4.display()"
   ]
  },
  {
   "cell_type": "markdown",
   "metadata": {},
   "source": [
    "Focusing on its action on $\\mathbb{S}^3$, we consider then the map ${\\bar R}_{\\mathbf{i}}\\circ\\Phi$:"
   ]
  },
  {
   "cell_type": "code",
   "execution_count": 77,
   "metadata": {},
   "outputs": [
    {
     "data": {
      "text/html": [
       "<html><script type=\"math/tex; mode=display\">\\newcommand{\\Bold}[1]{\\mathbf{#1}}\\begin{array}{llcl} & \\mathbb{S}^3 & \\longrightarrow & \\mathbb{R}^4 \\\\ \\mbox{on}\\ U : & \\left(x, y, z\\right) & \\longmapsto & \\left(T, X, Y, Z\\right) = \\left(-\\frac{2 \\, x}{x^{2} + y^{2} + z^{2} + 1}, -\\frac{x^{2} + y^{2} + z^{2} - 1}{x^{2} + y^{2} + z^{2} + 1}, \\frac{2 \\, z}{x^{2} + y^{2} + z^{2} + 1}, -\\frac{2 \\, y}{x^{2} + y^{2} + z^{2} + 1}\\right) \\\\ \\mbox{on}\\ V : & \\left({x'}, {y'}, {z'}\\right) & \\longmapsto & \\left(T, X, Y, Z\\right) = \\left(-\\frac{2 \\, {x'}}{{x'}^{2} + {y'}^{2} + {z'}^{2} + 1}, \\frac{{x'}^{2} + {y'}^{2} + {z'}^{2} - 1}{{x'}^{2} + {y'}^{2} + {z'}^{2} + 1}, \\frac{2 \\, {z'}}{{x'}^{2} + {y'}^{2} + {z'}^{2} + 1}, -\\frac{2 \\, {y'}}{{x'}^{2} + {y'}^{2} + {z'}^{2} + 1}\\right) \\\\ \\mbox{on}\\ A : & \\left({\\chi}, {\\theta}, {\\phi}\\right) & \\longmapsto & \\left(T, X, Y, Z\\right) = \\left(-\\cos\\left({\\phi}\\right) \\sin\\left({\\chi}\\right) \\sin\\left({\\theta}\\right), \\cos\\left({\\chi}\\right), \\cos\\left({\\theta}\\right) \\sin\\left({\\chi}\\right), -\\sin\\left({\\chi}\\right) \\sin\\left({\\phi}\\right) \\sin\\left({\\theta}\\right)\\right) \\end{array}</script></html>"
      ],
      "text/plain": [
       "S^3 --> R^4\n",
       "on U: (x, y, z) |--> (T, X, Y, Z) = (-2*x/(x^2 + y^2 + z^2 + 1), -(x^2 + y^2 + z^2 - 1)/(x^2 + y^2 + z^2 + 1), 2*z/(x^2 + y^2 + z^2 + 1), -2*y/(x^2 + y^2 + z^2 + 1))\n",
       "on V: (xp, yp, zp) |--> (T, X, Y, Z) = (-2*xp/(xp^2 + yp^2 + zp^2 + 1), (xp^2 + yp^2 + zp^2 - 1)/(xp^2 + yp^2 + zp^2 + 1), 2*zp/(xp^2 + yp^2 + zp^2 + 1), -2*yp/(xp^2 + yp^2 + zp^2 + 1))\n",
       "on A: (ch, th, ph) |--> (T, X, Y, Z) = (-cos(ph)*sin(ch)*sin(th), cos(ch), cos(th)*sin(ch), -sin(ch)*sin(ph)*sin(th))"
      ]
     },
     "execution_count": 77,
     "metadata": {},
     "output_type": "execute_result"
    }
   ],
   "source": [
    "RI_S3_R4 = RI_R4 * Phi\n",
    "RI_S3_R4.display()"
   ]
  },
  {
   "cell_type": "markdown",
   "metadata": {},
   "source": [
    "Let $U_{\\mathbf{i}} := U \\setminus \\{\\mathbf{i}\\}$; since the coordinates of $\\mathbf{i}$ in the chart $(U,(x,y,z))$ are $(1,0,0)$, we declare $U_{\\mathbf{i}}$ as"
   ]
  },
  {
   "cell_type": "code",
   "execution_count": 78,
   "metadata": {},
   "outputs": [],
   "source": [
    "UI = U.open_subset('U_I', latex_name=r'U_{\\mathbf{i}}',\n",
    "                   coord_def={stereoN: (x!=1, y!=0, z!=0)})"
   ]
  },
  {
   "cell_type": "markdown",
   "metadata": {},
   "source": [
    "If we restrict $R_{\\mathbf{i}}\\circ\\Phi$ to $U_{\\mathbf{i}}$ the codomain can be taken to be $\\mathbb{R}^4_N$ since $\\mathbf{i}$ is the only point of $\\mathbb{S}^3$ for which $T(R_{\\mathbf{i}}(p)) = -1$. Hence we may apply the operator $\\Pi_N$ to define the right translation by $\\mathbf{i}$ as a map $U_{\\mathbf{i}}\\to U$:"
   ]
  },
  {
   "cell_type": "code",
   "execution_count": 79,
   "metadata": {},
   "outputs": [
    {
     "data": {
      "text/html": [
       "<html><script type=\"math/tex; mode=display\">\\newcommand{\\Bold}[1]{\\mathbf{#1}}\\begin{array}{llcl} & U_{\\mathbf{i}} & \\longrightarrow & U \\\\ & \\left(x, y, z\\right) & \\longmapsto & \\left(x, y, z\\right) = \\left(-\\frac{x^{2} + y^{2} + z^{2} - 1}{x^{2} + y^{2} + z^{2} - 2 \\, x + 1}, \\frac{2 \\, z}{x^{2} + y^{2} + z^{2} - 2 \\, x + 1}, -\\frac{2 \\, y}{x^{2} + y^{2} + z^{2} - 2 \\, x + 1}\\right) \\end{array}</script></html>"
      ],
      "text/plain": [
       "U_I --> U\n",
       "   (x, y, z) |--> (x, y, z) = (-(x^2 + y^2 + z^2 - 1)/(x^2 + y^2 + z^2 - 2*x + 1), 2*z/(x^2 + y^2 + z^2 - 2*x + 1), -2*y/(x^2 + y^2 + z^2 - 2*x + 1))"
      ]
     },
     "execution_count": 79,
     "metadata": {},
     "output_type": "execute_result"
    }
   ],
   "source": [
    "RI_UI = ProjN * RI_S3_R4.restrict(UI, subcodomain=R4N)\n",
    "RI_UI.display()"
   ]
  },
  {
   "cell_type": "markdown",
   "metadata": {},
   "source": [
    "Similarly, if we restrict $R_{\\mathbf{i}}\\circ\\Phi$ to $V_{-\\mathbf{i}} := V \\setminus\\{-\\mathbf{i}\\}$, we get a map $V_{-\\mathbf{i}} \\to \\mathbb{R}^4_{S}$, so that composing by $\\Pi_S$, the right translation by $\\mathbf{i}$ becomes a map $V_{-\\mathbf{i}}\\to V$:"
   ]
  },
  {
   "cell_type": "code",
   "execution_count": 80,
   "metadata": {},
   "outputs": [
    {
     "data": {
      "text/html": [
       "<html><script type=\"math/tex; mode=display\">\\newcommand{\\Bold}[1]{\\mathbf{#1}}\\begin{array}{llcl} & V_{-\\mathbf{i}} & \\longrightarrow & V \\\\ & \\left({x'}, {y'}, {z'}\\right) & \\longmapsto & \\left({x'}, {y'}, {z'}\\right) = \\left(\\frac{{x'}^{2} + {y'}^{2} + {z'}^{2} - 1}{{x'}^{2} + {y'}^{2} + {z'}^{2} + 2 \\, {x'} + 1}, \\frac{2 \\, {z'}}{{x'}^{2} + {y'}^{2} + {z'}^{2} + 2 \\, {x'} + 1}, -\\frac{2 \\, {y'}}{{x'}^{2} + {y'}^{2} + {z'}^{2} + 2 \\, {x'} + 1}\\right) \\end{array}</script></html>"
      ],
      "text/plain": [
       "V_mI --> V\n",
       "   (xp, yp, zp) |--> (xp, yp, zp) = ((xp^2 + yp^2 + zp^2 - 1)/(xp^2 + yp^2 + zp^2 + 2*xp + 1), 2*zp/(xp^2 + yp^2 + zp^2 + 2*xp + 1), -2*yp/(xp^2 + yp^2 + zp^2 + 2*xp + 1))"
      ]
     },
     "execution_count": 80,
     "metadata": {},
     "output_type": "execute_result"
    }
   ],
   "source": [
    "VmI = V.open_subset('V_mI', latex_name=r'V_{-\\mathbf{i}}',\n",
    "                    coord_def={stereoS: (xp!=-1, yp!=0, zp!=0)})\n",
    "RI_VmI = ProjS * RI_S3_R4.restrict(VmI, subcodomain=R4S)\n",
    "RI_VmI.display()"
   ]
  },
  {
   "cell_type": "markdown",
   "metadata": {},
   "source": [
    "We note that $\\mathbb{S}^3 = U_{\\mathbf{i}} \\cup V_{-\\mathbf{i}}$:"
   ]
  },
  {
   "cell_type": "code",
   "execution_count": 81,
   "metadata": {},
   "outputs": [],
   "source": [
    "S3.declare_union(UI, VmI)"
   ]
  },
  {
   "cell_type": "markdown",
   "metadata": {},
   "source": [
    "Consequently, we can define the right translation by $\\mathbf{i}$ as a map \n",
    "$R_{\\mathbf{i}}: \\mathbb{S}^3\\to \\mathbb{S}^3$ by providing the coordinate expressions obtained above on $U_{\\mathbf{i}}$ and $V_{-\\mathbf{i}}$: "
   ]
  },
  {
   "cell_type": "code",
   "execution_count": 82,
   "metadata": {},
   "outputs": [],
   "source": [
    "RI = S3.diff_map(S3, name='R_I', latex_name=r'{R_{\\mathbf{i}}}')\n",
    "RI.add_expression(stereoN.restrict(UI), stereoN, \n",
    "                  RI_UI.expr(stereoN.restrict(UI), stereoN))\n",
    "RI.add_expression(stereoS.restrict(VmI), stereoS, \n",
    "                  RI_VmI.expr(stereoS.restrict(VmI), stereoS))"
   ]
  },
  {
   "cell_type": "code",
   "execution_count": 83,
   "metadata": {},
   "outputs": [
    {
     "data": {
      "text/html": [
       "<html><script type=\"math/tex; mode=display\">\\newcommand{\\Bold}[1]{\\mathbf{#1}}\\begin{array}{llcl} {R_{\\mathbf{i}}}:& \\mathbb{S}^3 & \\longrightarrow & \\mathbb{S}^3 \\\\ \\mbox{on}\\ U_{\\mathbf{i}} : & \\left(x, y, z\\right) & \\longmapsto & \\left(x, y, z\\right) = \\left(-\\frac{x^{2} + y^{2} + z^{2} - 1}{x^{2} + y^{2} + z^{2} - 2 \\, x + 1}, \\frac{2 \\, z}{x^{2} + y^{2} + z^{2} - 2 \\, x + 1}, -\\frac{2 \\, y}{x^{2} + y^{2} + z^{2} - 2 \\, x + 1}\\right) \\end{array}</script></html>"
      ],
      "text/plain": [
       "R_I: S^3 --> S^3\n",
       "on U_I: (x, y, z) |--> (x, y, z) = (-(x^2 + y^2 + z^2 - 1)/(x^2 + y^2 + z^2 - 2*x + 1), 2*z/(x^2 + y^2 + z^2 - 2*x + 1), -2*y/(x^2 + y^2 + z^2 - 2*x + 1))"
      ]
     },
     "execution_count": 83,
     "metadata": {},
     "output_type": "execute_result"
    }
   ],
   "source": [
    "RI.display(stereoN.restrict(UI), stereoN)"
   ]
  },
  {
   "cell_type": "code",
   "execution_count": 84,
   "metadata": {},
   "outputs": [
    {
     "data": {
      "text/html": [
       "<html><script type=\"math/tex; mode=display\">\\newcommand{\\Bold}[1]{\\mathbf{#1}}\\begin{array}{llcl} {R_{\\mathbf{i}}}:& \\mathbb{S}^3 & \\longrightarrow & \\mathbb{S}^3 \\\\ \\mbox{on}\\ V_{-\\mathbf{i}} : & \\left({x'}, {y'}, {z'}\\right) & \\longmapsto & \\left({x'}, {y'}, {z'}\\right) = \\left(\\frac{{x'}^{2} + {y'}^{2} + {z'}^{2} - 1}{{x'}^{2} + {y'}^{2} + {z'}^{2} + 2 \\, {x'} + 1}, \\frac{2 \\, {z'}}{{x'}^{2} + {y'}^{2} + {z'}^{2} + 2 \\, {x'} + 1}, -\\frac{2 \\, {y'}}{{x'}^{2} + {y'}^{2} + {z'}^{2} + 2 \\, {x'} + 1}\\right) \\end{array}</script></html>"
      ],
      "text/plain": [
       "R_I: S^3 --> S^3\n",
       "on V_mI: (xp, yp, zp) |--> (xp, yp, zp) = ((xp^2 + yp^2 + zp^2 - 1)/(xp^2 + yp^2 + zp^2 + 2*xp + 1), 2*zp/(xp^2 + yp^2 + zp^2 + 2*xp + 1), -2*yp/(xp^2 + yp^2 + zp^2 + 2*xp + 1))"
      ]
     },
     "execution_count": 84,
     "metadata": {},
     "output_type": "execute_result"
    }
   ],
   "source": [
    "RI.display(stereoS.restrict(VmI), stereoS)"
   ]
  },
  {
   "cell_type": "markdown",
   "metadata": {},
   "source": [
    "Let us check the formulas $R_{\\mathbf{i}}(\\mathbf{1})=\\mathbf{i}$, $R_{\\mathbf{i}}(-\\mathbf{1})=-\\mathbf{i}$, $R_{\\mathbf{i}}(\\mathbf{i})=-\\mathbf{1}$, $R_{\\mathbf{i}}(-\\mathbf{i})=\\mathbf{1}$, $R_{\\mathbf{i}}(\\mathbf{j})=-\\mathbf{k}$, $R_{\\mathbf{i}}(-\\mathbf{j})=\\mathbf{k}$, $R_{\\mathbf{i}}(\\mathbf{k})=\\mathbf{j}$ and $R_{\\mathbf{i}}(-\\mathbf{k})=-\\mathbf{j}$:"
   ]
  },
  {
   "cell_type": "code",
   "execution_count": 85,
   "metadata": {},
   "outputs": [
    {
     "data": {
      "text/html": [
       "<html><script type=\"math/tex; mode=display\">\\newcommand{\\Bold}[1]{\\mathbf{#1}}\\mathrm{True}</script></html>"
      ],
      "text/plain": [
       "True"
      ]
     },
     "execution_count": 85,
     "metadata": {},
     "output_type": "execute_result"
    }
   ],
   "source": [
    "all([RI(One)==I, RI(minusOne)==minusI, \n",
    "     RI(I)==minusOne, RI(minusI)==One,\n",
    "     RI(J)==minusK, RI(minusJ)==K,\n",
    "     RI(K)==J, RI(minusK)==minusJ])"
   ]
  },
  {
   "cell_type": "markdown",
   "metadata": {},
   "source": [
    "### Left-invariant vector field induced by the right translation by $\\mathbf{i}$\n",
    "\n",
    "Let us recall the expression of the right translation by $\\mathbf{i}$ on $\\mathbb{R}^4$:"
   ]
  },
  {
   "cell_type": "code",
   "execution_count": 86,
   "metadata": {},
   "outputs": [
    {
     "data": {
      "text/html": [
       "<html><script type=\"math/tex; mode=display\">\\newcommand{\\Bold}[1]{\\mathbf{#1}}\\begin{array}{llcl} & \\mathbb{R}^4 & \\longrightarrow & \\mathbb{R}^4 \\\\ & \\left(T, X, Y, Z\\right) & \\longmapsto & \\left(-X, T, Z, -Y\\right) \\end{array}</script></html>"
      ],
      "text/plain": [
       "R^4 --> R^4\n",
       "   (T, X, Y, Z) |--> (-X, T, Z, -Y)"
      ]
     },
     "execution_count": 86,
     "metadata": {},
     "output_type": "execute_result"
    }
   ],
   "source": [
    "RI_R4.display()"
   ]
  },
  {
   "cell_type": "markdown",
   "metadata": {},
   "source": [
    "We turn it into a vector field $E_{\\mathbf{i}}$ on $\\mathbb{R}^4$ by identifying  $T_p\\mathbb{R}^4$ and $\\mathbb{R}^4$ at each point $p\\in\\mathbb{R}^4$:"
   ]
  },
  {
   "cell_type": "code",
   "execution_count": 87,
   "metadata": {},
   "outputs": [
    {
     "data": {
      "text/html": [
       "<html><script type=\"math/tex; mode=display\">\\newcommand{\\Bold}[1]{\\mathbf{#1}}E_{\\mathbf{i}} = -X \\frac{\\partial}{\\partial T } + T \\frac{\\partial}{\\partial X } + Z \\frac{\\partial}{\\partial Y } -Y \\frac{\\partial}{\\partial Z }</script></html>"
      ],
      "text/plain": [
       "E_I = -X d/dT + T d/dX + Z d/dY - Y d/dZ"
      ]
     },
     "execution_count": 87,
     "metadata": {},
     "output_type": "execute_result"
    }
   ],
   "source": [
    "EI = R4.vector_field(name='E_I', latex_name=r'E_{\\mathbf{i}}')\n",
    "EI[:] = RI_R4.expression()\n",
    "EI.display()"
   ]
  },
  {
   "cell_type": "markdown",
   "metadata": {},
   "source": [
    "The \"radial\" vector field on $\\mathbb{R}^4$ is"
   ]
  },
  {
   "cell_type": "code",
   "execution_count": 88,
   "metadata": {},
   "outputs": [
    {
     "data": {
      "text/html": [
       "<html><script type=\"math/tex; mode=display\">\\newcommand{\\Bold}[1]{\\mathbf{#1}}r = T \\frac{\\partial}{\\partial T } + X \\frac{\\partial}{\\partial X } + Y \\frac{\\partial}{\\partial Y } + Z \\frac{\\partial}{\\partial Z }</script></html>"
      ],
      "text/plain": [
       "r = T d/dT + X d/dX + Y d/dY + Z d/dZ"
      ]
     },
     "execution_count": 88,
     "metadata": {},
     "output_type": "execute_result"
    }
   ],
   "source": [
    "r = R4.vector_field(name='r')\n",
    "r[:] = (T,X,Y,Z)\n",
    "r.display()"
   ]
  },
  {
   "cell_type": "markdown",
   "metadata": {},
   "source": [
    "It is clear that $r\\cdot E_{\\mathbf{i}}=0$, where $\\cdot$ denotes the standard Euclidean scalar product in $\\mathbb{R}^4$. We can check this property explicitely by introducing the Euclidean metric:"
   ]
  },
  {
   "cell_type": "code",
   "execution_count": 89,
   "metadata": {},
   "outputs": [
    {
     "data": {
      "text/html": [
       "<html><script type=\"math/tex; mode=display\">\\newcommand{\\Bold}[1]{\\mathbf{#1}}h = \\mathrm{d} T\\otimes \\mathrm{d} T+\\mathrm{d} X\\otimes \\mathrm{d} X+\\mathrm{d} Y\\otimes \\mathrm{d} Y+\\mathrm{d} Z\\otimes \\mathrm{d} Z</script></html>"
      ],
      "text/plain": [
       "h = dT*dT + dX*dX + dY*dY + dZ*dZ"
      ]
     },
     "execution_count": 89,
     "metadata": {},
     "output_type": "execute_result"
    }
   ],
   "source": [
    "h = R4.metric('h')\n",
    "h[0,0], h[1,1], h[2,2], h[3, 3] = 1, 1, 1, 1\n",
    "h.display()"
   ]
  },
  {
   "cell_type": "markdown",
   "metadata": {},
   "source": [
    "so that $r\\cdot E_{\\mathbf{i}} = h(r, E_{\\mathbf{i}})$:"
   ]
  },
  {
   "cell_type": "code",
   "execution_count": 90,
   "metadata": {},
   "outputs": [
    {
     "data": {
      "text/html": [
       "<html><script type=\"math/tex; mode=display\">\\newcommand{\\Bold}[1]{\\mathbf{#1}}\\mathrm{True}</script></html>"
      ],
      "text/plain": [
       "True"
      ]
     },
     "execution_count": 90,
     "metadata": {},
     "output_type": "execute_result"
    }
   ],
   "source": [
    "h(r, EI) == 0"
   ]
  },
  {
   "cell_type": "markdown",
   "metadata": {},
   "source": [
    "This proves that the vector field $E_{\\mathbf{i}}$ is tangent to $\\mathbb{S}^3$, or more precisely to the embedded submanifold $\\Phi(\\mathbb{S}^3)$. Consequently, there exists a vector field $\\varepsilon_{\\mathbf{i}}$ on $\\mathbb{S}^3$, the pushforward of which by $\\Phi$ is \n",
    "$E_{\\mathbf{i}}$:\n",
    "$$\n",
    "   E_{\\mathbf{i}} = \\Phi^* \\varepsilon_{\\mathbf{i}}\n",
    "$$\n",
    "Let us determine the components of $\\varepsilon_{\\mathbf{i}}$ in the vector frame \n",
    "$\\left(\\frac{\\partial}{\\partial x}, \\frac{\\partial}{\\partial y}, \\frac{\\partial}{\\partial z}\\right)$ associated with the stereographic coordinates on $U$:"
   ]
  },
  {
   "cell_type": "code",
   "execution_count": 91,
   "metadata": {},
   "outputs": [
    {
     "data": {
      "text/html": [
       "<html><script type=\"math/tex; mode=display\">\\newcommand{\\Bold}[1]{\\mathbf{#1}}\\left(U, \\left(\\frac{\\partial}{\\partial x },\\frac{\\partial}{\\partial y },\\frac{\\partial}{\\partial z }\\right)\\right)</script></html>"
      ],
      "text/plain": [
       "Coordinate frame (U, (d/dx,d/dy,d/dz))"
      ]
     },
     "execution_count": 91,
     "metadata": {},
     "output_type": "execute_result"
    }
   ],
   "source": [
    "frameN = stereoN.frame()\n",
    "frameN"
   ]
  },
  {
   "cell_type": "markdown",
   "metadata": {},
   "source": [
    "The pushforwards by $\\Phi$ of the stereographic frame vectors are:"
   ]
  },
  {
   "cell_type": "code",
   "execution_count": 92,
   "metadata": {},
   "outputs": [
    {
     "data": {
      "text/html": [
       "<html><script type=\"math/tex; mode=display\">\\newcommand{\\Bold}[1]{\\mathbf{#1}}\\left[\\Phi^* \\frac{\\partial}{\\partial x }, \\Phi^* \\frac{\\partial}{\\partial y }, \\Phi^* \\frac{\\partial}{\\partial z }\\right]</script></html>"
      ],
      "text/plain": [
       "[Vector field Phi^*(d/dx) along the Open subset U of the 3-dimensional differentiable manifold S^3 with values on the 4-dimensional differentiable manifold R^4,\n",
       " Vector field Phi^*(d/dy) along the Open subset U of the 3-dimensional differentiable manifold S^3 with values on the 4-dimensional differentiable manifold R^4,\n",
       " Vector field Phi^*(d/dz) along the Open subset U of the 3-dimensional differentiable manifold S^3 with values on the 4-dimensional differentiable manifold R^4]"
      ]
     },
     "execution_count": 92,
     "metadata": {},
     "output_type": "execute_result"
    }
   ],
   "source": [
    "frameN_R4 = [Phi.pushforward(frameN[i]) for i in S3.irange()]\n",
    "frameN_R4"
   ]
  },
  {
   "cell_type": "code",
   "execution_count": 93,
   "metadata": {},
   "outputs": [
    {
     "name": "stdout",
     "output_type": "stream",
     "text": [
      "Vector field Phi^*(d/dx) along the Open subset U of the 3-dimensional differentiable manifold S^3 with values on the 4-dimensional differentiable manifold R^4\n"
     ]
    }
   ],
   "source": [
    "print(frameN_R4[0])"
   ]
  },
  {
   "cell_type": "markdown",
   "metadata": {},
   "source": [
    "The expressions of $\\Phi^* \\frac{\\partial}{\\partial x}$, $\\Phi^* \\frac{\\partial}{\\partial y}$\n",
    "and $\\Phi^* \\frac{\\partial}{\\partial z}$ in terms of the canonical vector frame $\\left(\\frac{\\partial}{\\partial T}, \\frac{\\partial}{\\partial X},\\frac{\\partial}{\\partial Y},\\frac{\\partial}{\\partial Z}\\right)$ of $\\mathbb{R}^4$ are"
   ]
  },
  {
   "cell_type": "code",
   "execution_count": 94,
   "metadata": {},
   "outputs": [
    {
     "data": {
      "text/html": [
       "<html><script type=\"math/tex; mode=display\">\\newcommand{\\Bold}[1]{\\mathbf{#1}}\\Phi^* \\frac{\\partial}{\\partial x } = \\left( -\\frac{4 \\, x}{x^{4} + y^{4} + z^{4} + 2 \\, {\\left(x^{2} + 1\\right)} y^{2} + 2 \\, {\\left(x^{2} + y^{2} + 1\\right)} z^{2} + 2 \\, x^{2} + 1} \\right) \\frac{\\partial}{\\partial T } + \\left( -\\frac{2 \\, {\\left(x^{2} - y^{2} - z^{2} - 1\\right)}}{x^{4} + y^{4} + z^{4} + 2 \\, {\\left(x^{2} + 1\\right)} y^{2} + 2 \\, {\\left(x^{2} + y^{2} + 1\\right)} z^{2} + 2 \\, x^{2} + 1} \\right) \\frac{\\partial}{\\partial X } + \\left( -\\frac{4 \\, x y}{x^{4} + y^{4} + z^{4} + 2 \\, {\\left(x^{2} + 1\\right)} y^{2} + 2 \\, {\\left(x^{2} + y^{2} + 1\\right)} z^{2} + 2 \\, x^{2} + 1} \\right) \\frac{\\partial}{\\partial Y } + \\left( -\\frac{4 \\, x z}{x^{4} + y^{4} + z^{4} + 2 \\, {\\left(x^{2} + 1\\right)} y^{2} + 2 \\, {\\left(x^{2} + y^{2} + 1\\right)} z^{2} + 2 \\, x^{2} + 1} \\right) \\frac{\\partial}{\\partial Z }</script></html>"
      ],
      "text/plain": [
       "Phi^*(d/dx) = -4*x/(x^4 + y^4 + z^4 + 2*(x^2 + 1)*y^2 + 2*(x^2 + y^2 + 1)*z^2 + 2*x^2 + 1) d/dT - 2*(x^2 - y^2 - z^2 - 1)/(x^4 + y^4 + z^4 + 2*(x^2 + 1)*y^2 + 2*(x^2 + y^2 + 1)*z^2 + 2*x^2 + 1) d/dX - 4*x*y/(x^4 + y^4 + z^4 + 2*(x^2 + 1)*y^2 + 2*(x^2 + y^2 + 1)*z^2 + 2*x^2 + 1) d/dY - 4*x*z/(x^4 + y^4 + z^4 + 2*(x^2 + 1)*y^2 + 2*(x^2 + y^2 + 1)*z^2 + 2*x^2 + 1) d/dZ"
      ]
     },
     "execution_count": 94,
     "metadata": {},
     "output_type": "execute_result"
    }
   ],
   "source": [
    "frameN_R4[0].display()"
   ]
  },
  {
   "cell_type": "code",
   "execution_count": 95,
   "metadata": {},
   "outputs": [
    {
     "data": {
      "text/html": [
       "<html><script type=\"math/tex; mode=display\">\\newcommand{\\Bold}[1]{\\mathbf{#1}}\\Phi^* \\frac{\\partial}{\\partial y } = \\left( -\\frac{4 \\, y}{x^{4} + y^{4} + z^{4} + 2 \\, {\\left(x^{2} + 1\\right)} y^{2} + 2 \\, {\\left(x^{2} + y^{2} + 1\\right)} z^{2} + 2 \\, x^{2} + 1} \\right) \\frac{\\partial}{\\partial T } + \\left( -\\frac{4 \\, x y}{x^{4} + y^{4} + z^{4} + 2 \\, {\\left(x^{2} + 1\\right)} y^{2} + 2 \\, {\\left(x^{2} + y^{2} + 1\\right)} z^{2} + 2 \\, x^{2} + 1} \\right) \\frac{\\partial}{\\partial X } + \\left( \\frac{2 \\, {\\left(x^{2} - y^{2} + z^{2} + 1\\right)}}{x^{4} + y^{4} + z^{4} + 2 \\, {\\left(x^{2} + 1\\right)} y^{2} + 2 \\, {\\left(x^{2} + y^{2} + 1\\right)} z^{2} + 2 \\, x^{2} + 1} \\right) \\frac{\\partial}{\\partial Y } + \\left( -\\frac{4 \\, y z}{x^{4} + y^{4} + z^{4} + 2 \\, {\\left(x^{2} + 1\\right)} y^{2} + 2 \\, {\\left(x^{2} + y^{2} + 1\\right)} z^{2} + 2 \\, x^{2} + 1} \\right) \\frac{\\partial}{\\partial Z }</script></html>"
      ],
      "text/plain": [
       "Phi^*(d/dy) = -4*y/(x^4 + y^4 + z^4 + 2*(x^2 + 1)*y^2 + 2*(x^2 + y^2 + 1)*z^2 + 2*x^2 + 1) d/dT - 4*x*y/(x^4 + y^4 + z^4 + 2*(x^2 + 1)*y^2 + 2*(x^2 + y^2 + 1)*z^2 + 2*x^2 + 1) d/dX + 2*(x^2 - y^2 + z^2 + 1)/(x^4 + y^4 + z^4 + 2*(x^2 + 1)*y^2 + 2*(x^2 + y^2 + 1)*z^2 + 2*x^2 + 1) d/dY - 4*y*z/(x^4 + y^4 + z^4 + 2*(x^2 + 1)*y^2 + 2*(x^2 + y^2 + 1)*z^2 + 2*x^2 + 1) d/dZ"
      ]
     },
     "execution_count": 95,
     "metadata": {},
     "output_type": "execute_result"
    }
   ],
   "source": [
    "frameN_R4[1].display()"
   ]
  },
  {
   "cell_type": "code",
   "execution_count": 96,
   "metadata": {},
   "outputs": [
    {
     "data": {
      "text/html": [
       "<html><script type=\"math/tex; mode=display\">\\newcommand{\\Bold}[1]{\\mathbf{#1}}\\Phi^* \\frac{\\partial}{\\partial z } = \\left( -\\frac{4 \\, z}{x^{4} + y^{4} + z^{4} + 2 \\, {\\left(x^{2} + 1\\right)} y^{2} + 2 \\, {\\left(x^{2} + y^{2} + 1\\right)} z^{2} + 2 \\, x^{2} + 1} \\right) \\frac{\\partial}{\\partial T } + \\left( -\\frac{4 \\, x z}{x^{4} + y^{4} + z^{4} + 2 \\, {\\left(x^{2} + 1\\right)} y^{2} + 2 \\, {\\left(x^{2} + y^{2} + 1\\right)} z^{2} + 2 \\, x^{2} + 1} \\right) \\frac{\\partial}{\\partial X } + \\left( -\\frac{4 \\, y z}{x^{4} + y^{4} + z^{4} + 2 \\, {\\left(x^{2} + 1\\right)} y^{2} + 2 \\, {\\left(x^{2} + y^{2} + 1\\right)} z^{2} + 2 \\, x^{2} + 1} \\right) \\frac{\\partial}{\\partial Y } + \\left( \\frac{2 \\, {\\left(x^{2} + y^{2} - z^{2} + 1\\right)}}{x^{4} + y^{4} + z^{4} + 2 \\, {\\left(x^{2} + 1\\right)} y^{2} + 2 \\, {\\left(x^{2} + y^{2} + 1\\right)} z^{2} + 2 \\, x^{2} + 1} \\right) \\frac{\\partial}{\\partial Z }</script></html>"
      ],
      "text/plain": [
       "Phi^*(d/dz) = -4*z/(x^4 + y^4 + z^4 + 2*(x^2 + 1)*y^2 + 2*(x^2 + y^2 + 1)*z^2 + 2*x^2 + 1) d/dT - 4*x*z/(x^4 + y^4 + z^4 + 2*(x^2 + 1)*y^2 + 2*(x^2 + y^2 + 1)*z^2 + 2*x^2 + 1) d/dX - 4*y*z/(x^4 + y^4 + z^4 + 2*(x^2 + 1)*y^2 + 2*(x^2 + y^2 + 1)*z^2 + 2*x^2 + 1) d/dY + 2*(x^2 + y^2 - z^2 + 1)/(x^4 + y^4 + z^4 + 2*(x^2 + 1)*y^2 + 2*(x^2 + y^2 + 1)*z^2 + 2*x^2 + 1) d/dZ"
      ]
     },
     "execution_count": 96,
     "metadata": {},
     "output_type": "execute_result"
    }
   ],
   "source": [
    "frameN_R4[2].display()"
   ]
  },
  {
   "cell_type": "markdown",
   "metadata": {},
   "source": [
    "Let us denote by $(a,b,c)$ the components of $\\left. \\varepsilon_{\\mathbf{i}} \\right|_{U}$ in the stereographic frame:\n",
    "$$ \\left. \\varepsilon_{\\mathbf{i}} \\right|_{U} = a \\frac{\\partial}{\\partial x}\n",
    "    + b \\frac{\\partial}{\\partial y}\n",
    "    + c \\frac{\\partial}{\\partial z} $$\n",
    "Since $\\Phi^*\\varepsilon_{\\mathbf{i}}=\\left. E_{\\mathbf{i}} \\right| _{\\Phi(\\mathbb{S}^3)}$, \n",
    "we get the linear system\n",
    "$$ a\\,  \\Phi^* \\frac{\\partial}{\\partial x} + b \\, \\Phi^* \\frac{\\partial}{\\partial y} \n",
    "    + c\\,  \\Phi^* \\frac{\\partial}{\\partial z} =\n",
    "    \\left. E_{\\mathbf{i}} \\right| _{\\Phi(U)} $$\n",
    "to be solved in $(a,b,c)$. The right-hand side is"
   ]
  },
  {
   "cell_type": "code",
   "execution_count": 97,
   "metadata": {},
   "outputs": [
    {
     "data": {
      "text/html": [
       "<html><script type=\"math/tex; mode=display\">\\newcommand{\\Bold}[1]{\\mathbf{#1}}\\left[-\\frac{2 \\, x}{x^{2} + y^{2} + z^{2} + 1}, -\\frac{x^{2} + y^{2} + z^{2} - 1}{x^{2} + y^{2} + z^{2} + 1}, \\frac{2 \\, z}{x^{2} + y^{2} + z^{2} + 1}, -\\frac{2 \\, y}{x^{2} + y^{2} + z^{2} + 1}\\right]</script></html>"
      ],
      "text/plain": [
       "[-2*x/(x^2 + y^2 + z^2 + 1),\n",
       " -(x^2 + y^2 + z^2 - 1)/(x^2 + y^2 + z^2 + 1),\n",
       " 2*z/(x^2 + y^2 + z^2 + 1),\n",
       " -2*y/(x^2 + y^2 + z^2 + 1)]"
      ]
     },
     "execution_count": 97,
     "metadata": {},
     "output_type": "execute_result"
    }
   ],
   "source": [
    "p = U((x,y,z), chart=stereoN, name='p')\n",
    "EIp = EI.at(Phi(p))\n",
    "EIp[:]"
   ]
  },
  {
   "cell_type": "markdown",
   "metadata": {},
   "source": [
    "Hence the system:"
   ]
  },
  {
   "cell_type": "code",
   "execution_count": 98,
   "metadata": {},
   "outputs": [
    {
     "data": {
      "text/html": [
       "<html><script type=\"math/tex; mode=display\">\\newcommand{\\Bold}[1]{\\mathbf{#1}}\\left[-\\frac{4 \\, {\\left(a x + b y + c z\\right)}}{x^{4} + y^{4} + z^{4} + 2 \\, {\\left(x^{2} + 1\\right)} y^{2} + 2 \\, {\\left(x^{2} + y^{2} + 1\\right)} z^{2} + 2 \\, x^{2} + 1} = -\\frac{2 \\, x}{x^{2} + y^{2} + z^{2} + 1}, -\\frac{2 \\, {\\left(a x^{2} + 2 \\, b x y - a y^{2} + 2 \\, c x z - a z^{2} - a\\right)}}{x^{4} + y^{4} + z^{4} + 2 \\, {\\left(x^{2} + 1\\right)} y^{2} + 2 \\, {\\left(x^{2} + y^{2} + 1\\right)} z^{2} + 2 \\, x^{2} + 1} = -\\frac{x^{2} + y^{2} + z^{2} - 1}{x^{2} + y^{2} + z^{2} + 1}, \\frac{2 \\, {\\left(b x^{2} - 2 \\, a x y - b y^{2} - 2 \\, c y z + b z^{2} + b\\right)}}{x^{4} + y^{4} + z^{4} + 2 \\, {\\left(x^{2} + 1\\right)} y^{2} + 2 \\, {\\left(x^{2} + y^{2} + 1\\right)} z^{2} + 2 \\, x^{2} + 1} = \\frac{2 \\, z}{x^{2} + y^{2} + z^{2} + 1}, \\frac{2 \\, {\\left(c x^{2} + c y^{2} - c z^{2} - 2 \\, {\\left(a x + b y\\right)} z + c\\right)}}{x^{4} + y^{4} + z^{4} + 2 \\, {\\left(x^{2} + 1\\right)} y^{2} + 2 \\, {\\left(x^{2} + y^{2} + 1\\right)} z^{2} + 2 \\, x^{2} + 1} = -\\frac{2 \\, y}{x^{2} + y^{2} + z^{2} + 1}\\right]</script></html>"
      ],
      "text/plain": [
       "[-4*(a*x + b*y + c*z)/(x^4 + y^4 + z^4 + 2*(x^2 + 1)*y^2 + 2*(x^2 + y^2 + 1)*z^2 + 2*x^2 + 1) == -2*x/(x^2 + y^2 + z^2 + 1),\n",
       " -2*(a*x^2 + 2*b*x*y - a*y^2 + 2*c*x*z - a*z^2 - a)/(x^4 + y^4 + z^4 + 2*(x^2 + 1)*y^2 + 2*(x^2 + y^2 + 1)*z^2 + 2*x^2 + 1) == -(x^2 + y^2 + z^2 - 1)/(x^2 + y^2 + z^2 + 1),\n",
       " 2*(b*x^2 - 2*a*x*y - b*y^2 - 2*c*y*z + b*z^2 + b)/(x^4 + y^4 + z^4 + 2*(x^2 + 1)*y^2 + 2*(x^2 + y^2 + 1)*z^2 + 2*x^2 + 1) == 2*z/(x^2 + y^2 + z^2 + 1),\n",
       " 2*(c*x^2 + c*y^2 - c*z^2 - 2*(a*x + b*y)*z + c)/(x^4 + y^4 + z^4 + 2*(x^2 + 1)*y^2 + 2*(x^2 + y^2 + 1)*z^2 + 2*x^2 + 1) == -2*y/(x^2 + y^2 + z^2 + 1)]"
      ]
     },
     "execution_count": 98,
     "metadata": {},
     "output_type": "execute_result"
    }
   ],
   "source": [
    "eqs = [(a*frameN_R4[0][i] + b*frameN_R4[1][i] + c*frameN_R4[2][i]).expr() == EIp[i]\n",
    "       for i in R4.irange()]\n",
    "eqs"
   ]
  },
  {
   "cell_type": "markdown",
   "metadata": {},
   "source": [
    "The unique solution is"
   ]
  },
  {
   "cell_type": "code",
   "execution_count": 99,
   "metadata": {},
   "outputs": [
    {
     "data": {
      "text/html": [
       "<html><script type=\"math/tex; mode=display\">\\newcommand{\\Bold}[1]{\\mathbf{#1}}\\left[\\left\\{a : \\frac{1}{2} \\, x^{2} - \\frac{1}{2} \\, y^{2} - \\frac{1}{2} \\, z^{2} + \\frac{1}{2}, c : x z - y, b : x y + z\\right\\}\\right]</script></html>"
      ],
      "text/plain": [
       "[{a: 1/2*x^2 - 1/2*y^2 - 1/2*z^2 + 1/2, c: x*z - y, b: x*y + z}]"
      ]
     },
     "execution_count": 99,
     "metadata": {},
     "output_type": "execute_result"
    }
   ],
   "source": [
    "sol = solve(eqs, (a,b,c), solution_dict=True)\n",
    "sol"
   ]
  },
  {
   "cell_type": "markdown",
   "metadata": {},
   "source": [
    "The expression of $\\varepsilon_{\\mathbf{i}}$ in terms of the frame associated with the stereographic coordinates on $U$ is thus"
   ]
  },
  {
   "cell_type": "code",
   "execution_count": 100,
   "metadata": {},
   "outputs": [
    {
     "data": {
      "text/html": [
       "<html><script type=\"math/tex; mode=display\">\\newcommand{\\Bold}[1]{\\mathbf{#1}}\\left( \\frac{1}{2} \\, x^{2} - \\frac{1}{2} \\, y^{2} - \\frac{1}{2} \\, z^{2} + \\frac{1}{2} \\right) \\frac{\\partial}{\\partial x } + \\left( x y + z \\right) \\frac{\\partial}{\\partial y } + \\left( x z - y \\right) \\frac{\\partial}{\\partial z }</script></html>"
      ],
      "text/plain": [
       "(1/2*x^2 - 1/2*y^2 - 1/2*z^2 + 1/2) d/dx + (x*y + z) d/dy + (x*z - y) d/dz"
      ]
     },
     "execution_count": 100,
     "metadata": {},
     "output_type": "execute_result"
    }
   ],
   "source": [
    "epsI = sol[0][a] * frameN[1] + sol[0][b] * frameN[2] + sol[0][c] * frameN[3]\n",
    "epsI.display()"
   ]
  },
  {
   "cell_type": "markdown",
   "metadata": {},
   "source": [
    "## Global vector frame on $\\mathbb{S}^3$"
   ]
  },
  {
   "cell_type": "markdown",
   "metadata": {},
   "source": [
    "The vector field $E_{\\mathbf{i}}$ never vanishes on $\\Phi(\\mathbb{S}^3)$, since it vanishes only at $(T,X,Y,Z)=(0,0,0,0)$. It follows that $\\varepsilon_{\\mathbf{i}}$ never vanishes on $\\mathbb{S}^3$. \n",
    "Similarly, starting from the right translation by $\\mathbf{j}$ and the right translation by $\\mathbf{k}$, we can construct global vector fields $\\varepsilon_{\\mathbf{j}}$ and $\\varepsilon_{\\mathbf{k}}$ that are always nonzero on $\\mathbb{S}^3$. \n",
    "Moreover, the vector fields\n",
    "$\\varepsilon_{\\mathbf{i}}$, $\\varepsilon_{\\mathbf{j}}$ and $\\varepsilon_{\\mathbf{k}}$ are linearly independent at any point of $\\mathbb{S}^3$. They thus form a global vector frame of $\\mathbb{S}^3$. This means that, as any Lie group, $\\mathbb{S}^3$ is a **parallelizable manifold**. This contrasts with $\\mathbb{S}^2$. Actually the only parallelizable spheres are $\\mathbb{S}^1$, $\\mathbb{S}^3$ and $\\mathbb{S}^7$.\n",
    "\n",
    "Let us declare the global vector frame $(\\varepsilon_{\\mathbf{i}}, \\varepsilon_{\\mathbf{j}}, \\varepsilon_{\\mathbf{k}})$, using the notations $\\varepsilon_1 := \\varepsilon_{\\mathbf{i}}$, $\\varepsilon_2 := \\varepsilon_{\\mathbf{j}}$ and $\\varepsilon_3 := \\varepsilon_{\\mathbf{k}}$:"
   ]
  },
  {
   "cell_type": "code",
   "execution_count": 101,
   "metadata": {},
   "outputs": [
    {
     "data": {
      "text/html": [
       "<html><script type=\"math/tex; mode=display\">\\newcommand{\\Bold}[1]{\\mathbf{#1}}\\left(\\mathbb{S}^3, \\left(\\varepsilon_{1},\\varepsilon_{2},\\varepsilon_{3}\\right)\\right)</script></html>"
      ],
      "text/plain": [
       "Vector frame (S^3, (E_1,E_2,E_3))"
      ]
     },
     "execution_count": 101,
     "metadata": {},
     "output_type": "execute_result"
    }
   ],
   "source": [
    "E = S3.vector_frame('E', latex_symbol=r'\\varepsilon')\n",
    "E"
   ]
  },
  {
   "cell_type": "markdown",
   "metadata": {},
   "source": [
    "### Stereographic components of the vector field $\\varepsilon_1$"
   ]
  },
  {
   "cell_type": "markdown",
   "metadata": {},
   "source": [
    "On $U$, we can set the components of $\\varepsilon_1$ in the stereographic frame $\\left(\\frac{\\partial}{\\partial x}, \\frac{\\partial}{\\partial y}, \\frac{\\partial}{\\partial z}\\right)$ to those obtained above:"
   ]
  },
  {
   "cell_type": "code",
   "execution_count": 102,
   "metadata": {},
   "outputs": [
    {
     "data": {
      "text/html": [
       "<html><script type=\"math/tex; mode=display\">\\newcommand{\\Bold}[1]{\\mathbf{#1}}\\varepsilon_{1} = \\left( \\frac{1}{2} \\, x^{2} - \\frac{1}{2} \\, y^{2} - \\frac{1}{2} \\, z^{2} + \\frac{1}{2} \\right) \\frac{\\partial}{\\partial x } + \\left( x y + z \\right) \\frac{\\partial}{\\partial y } + \\left( x z - y \\right) \\frac{\\partial}{\\partial z }</script></html>"
      ],
      "text/plain": [
       "E_1 = (1/2*x^2 - 1/2*y^2 - 1/2*z^2 + 1/2) d/dx + (x*y + z) d/dy + (x*z - y) d/dz"
      ]
     },
     "execution_count": 102,
     "metadata": {},
     "output_type": "execute_result"
    }
   ],
   "source": [
    "E[1].restrict(U)[stereoN.frame(),:,stereoN] = (sol[0][a], sol[0][b], sol[0][c])\n",
    "E[1].display(stereoN.frame())"
   ]
  },
  {
   "cell_type": "markdown",
   "metadata": {},
   "source": [
    "Let us check that the pushforward of $\\varepsilon_1$ by $\\Phi$ coincides with $E_{\\mathbf{i}}$:"
   ]
  },
  {
   "cell_type": "code",
   "execution_count": 103,
   "metadata": {},
   "outputs": [
    {
     "data": {
      "text/html": [
       "<html><script type=\"math/tex; mode=display\">\\newcommand{\\Bold}[1]{\\mathbf{#1}}\\Phi^*\\varepsilon_{1} = \\left( -\\frac{2 \\, x}{x^{2} + y^{2} + z^{2} + 1} \\right) \\frac{\\partial}{\\partial T } + \\left( -\\frac{x^{2} + y^{2} + z^{2} - 1}{x^{2} + y^{2} + z^{2} + 1} \\right) \\frac{\\partial}{\\partial X } + \\left( \\frac{2 \\, z}{x^{2} + y^{2} + z^{2} + 1} \\right) \\frac{\\partial}{\\partial Y } + \\left( -\\frac{2 \\, y}{x^{2} + y^{2} + z^{2} + 1} \\right) \\frac{\\partial}{\\partial Z }</script></html>"
      ],
      "text/plain": [
       "Phi^*(E_1) = -2*x/(x^2 + y^2 + z^2 + 1) d/dT - (x^2 + y^2 + z^2 - 1)/(x^2 + y^2 + z^2 + 1) d/dX + 2*z/(x^2 + y^2 + z^2 + 1) d/dY - 2*y/(x^2 + y^2 + z^2 + 1) d/dZ"
      ]
     },
     "execution_count": 103,
     "metadata": {},
     "output_type": "execute_result"
    }
   ],
   "source": [
    "E1U_R4 = Phi.pushforward(E[1].restrict(U))\n",
    "E1U_R4.display()"
   ]
  },
  {
   "cell_type": "code",
   "execution_count": 104,
   "metadata": {},
   "outputs": [
    {
     "data": {
      "text/html": [
       "<html><script type=\"math/tex; mode=display\">\\newcommand{\\Bold}[1]{\\mathbf{#1}}\\mathrm{True}</script></html>"
      ],
      "text/plain": [
       "True"
      ]
     },
     "execution_count": 104,
     "metadata": {},
     "output_type": "execute_result"
    }
   ],
   "source": [
    "all([E1U_R4[i] == EIp[i] for i in R4.irange()])"
   ]
  },
  {
   "cell_type": "markdown",
   "metadata": {},
   "source": [
    "Let us now determine the components of $\\varepsilon_1$ in the vector frame $\\left(\\frac{\\partial}{\\partial x'}, \\frac{\\partial}{\\partial y'}, \\frac{\\partial}{\\partial z'}\\right)$ associated with the stereographic chart from the South pole:"
   ]
  },
  {
   "cell_type": "code",
   "execution_count": 105,
   "metadata": {},
   "outputs": [
    {
     "data": {
      "text/html": [
       "<html><script type=\"math/tex; mode=display\">\\newcommand{\\Bold}[1]{\\mathbf{#1}}\\left(V, \\left(\\frac{\\partial}{\\partial {x'} },\\frac{\\partial}{\\partial {y'} },\\frac{\\partial}{\\partial {z'} }\\right)\\right)</script></html>"
      ],
      "text/plain": [
       "Coordinate frame (V, (d/dxp,d/dyp,d/dzp))"
      ]
     },
     "execution_count": 105,
     "metadata": {},
     "output_type": "execute_result"
    }
   ],
   "source": [
    "frameS = stereoS.frame()\n",
    "frameS"
   ]
  },
  {
   "cell_type": "markdown",
   "metadata": {},
   "source": [
    "We use the same procedure as for the stereographic frame from the North pole:"
   ]
  },
  {
   "cell_type": "code",
   "execution_count": 106,
   "metadata": {},
   "outputs": [
    {
     "data": {
      "text/html": [
       "<html><script type=\"math/tex; mode=display\">\\newcommand{\\Bold}[1]{\\mathbf{#1}}\\left[\\Phi^* \\frac{\\partial}{\\partial {x'} }, \\Phi^* \\frac{\\partial}{\\partial {y'} }, \\Phi^* \\frac{\\partial}{\\partial {z'} }\\right]</script></html>"
      ],
      "text/plain": [
       "[Vector field Phi^*(d/dxp) along the Open subset V of the 3-dimensional differentiable manifold S^3 with values on the 4-dimensional differentiable manifold R^4,\n",
       " Vector field Phi^*(d/dyp) along the Open subset V of the 3-dimensional differentiable manifold S^3 with values on the 4-dimensional differentiable manifold R^4,\n",
       " Vector field Phi^*(d/dzp) along the Open subset V of the 3-dimensional differentiable manifold S^3 with values on the 4-dimensional differentiable manifold R^4]"
      ]
     },
     "execution_count": 106,
     "metadata": {},
     "output_type": "execute_result"
    }
   ],
   "source": [
    "frameS_R4 = [Phi.pushforward(frameS[i]) for i in S3.irange()]\n",
    "frameS_R4"
   ]
  },
  {
   "cell_type": "code",
   "execution_count": 107,
   "metadata": {},
   "outputs": [
    {
     "data": {
      "text/html": [
       "<html><script type=\"math/tex; mode=display\">\\newcommand{\\Bold}[1]{\\mathbf{#1}}\\left[-\\frac{2 \\, {x'}}{{x'}^{2} + {y'}^{2} + {z'}^{2} + 1}, \\frac{{x'}^{2} + {y'}^{2} + {z'}^{2} - 1}{{x'}^{2} + {y'}^{2} + {z'}^{2} + 1}, \\frac{2 \\, {z'}}{{x'}^{2} + {y'}^{2} + {z'}^{2} + 1}, -\\frac{2 \\, {y'}}{{x'}^{2} + {y'}^{2} + {z'}^{2} + 1}\\right]</script></html>"
      ],
      "text/plain": [
       "[-2*xp/(xp^2 + yp^2 + zp^2 + 1),\n",
       " (xp^2 + yp^2 + zp^2 - 1)/(xp^2 + yp^2 + zp^2 + 1),\n",
       " 2*zp/(xp^2 + yp^2 + zp^2 + 1),\n",
       " -2*yp/(xp^2 + yp^2 + zp^2 + 1)]"
      ]
     },
     "execution_count": 107,
     "metadata": {},
     "output_type": "execute_result"
    }
   ],
   "source": [
    "p = V((xp,yp,zp), chart=stereoS, name='p')\n",
    "EIp = EI.at(Phi(p))\n",
    "EIp[:]"
   ]
  },
  {
   "cell_type": "code",
   "execution_count": 108,
   "metadata": {},
   "outputs": [
    {
     "data": {
      "text/html": [
       "<html><script type=\"math/tex; mode=display\">\\newcommand{\\Bold}[1]{\\mathbf{#1}}\\left[\\frac{4 \\, {\\left(a {x'} + b {y'} + c {z'}\\right)}}{{x'}^{4} + {y'}^{4} + {z'}^{4} + 2 \\, {\\left({x'}^{2} + 1\\right)} {y'}^{2} + 2 \\, {\\left({x'}^{2} + {y'}^{2} + 1\\right)} {z'}^{2} + 2 \\, {x'}^{2} + 1} = -\\frac{2 \\, {x'}}{{x'}^{2} + {y'}^{2} + {z'}^{2} + 1}, -\\frac{2 \\, {\\left(a {x'}^{2} + 2 \\, b {x'} {y'} - a {y'}^{2} + 2 \\, c {x'} {z'} - a {z'}^{2} - a\\right)}}{{x'}^{4} + {y'}^{4} + {z'}^{4} + 2 \\, {\\left({x'}^{2} + 1\\right)} {y'}^{2} + 2 \\, {\\left({x'}^{2} + {y'}^{2} + 1\\right)} {z'}^{2} + 2 \\, {x'}^{2} + 1} = \\frac{{x'}^{2} + {y'}^{2} + {z'}^{2} - 1}{{x'}^{2} + {y'}^{2} + {z'}^{2} + 1}, \\frac{2 \\, {\\left(b {x'}^{2} - 2 \\, a {x'} {y'} - b {y'}^{2} - 2 \\, c {y'} {z'} + b {z'}^{2} + b\\right)}}{{x'}^{4} + {y'}^{4} + {z'}^{4} + 2 \\, {\\left({x'}^{2} + 1\\right)} {y'}^{2} + 2 \\, {\\left({x'}^{2} + {y'}^{2} + 1\\right)} {z'}^{2} + 2 \\, {x'}^{2} + 1} = \\frac{2 \\, {z'}}{{x'}^{2} + {y'}^{2} + {z'}^{2} + 1}, \\frac{2 \\, {\\left(c {x'}^{2} + c {y'}^{2} - c {z'}^{2} - 2 \\, {\\left(a {x'} + b {y'}\\right)} {z'} + c\\right)}}{{x'}^{4} + {y'}^{4} + {z'}^{4} + 2 \\, {\\left({x'}^{2} + 1\\right)} {y'}^{2} + 2 \\, {\\left({x'}^{2} + {y'}^{2} + 1\\right)} {z'}^{2} + 2 \\, {x'}^{2} + 1} = -\\frac{2 \\, {y'}}{{x'}^{2} + {y'}^{2} + {z'}^{2} + 1}\\right]</script></html>"
      ],
      "text/plain": [
       "[4*(a*xp + b*yp + c*zp)/(xp^4 + yp^4 + zp^4 + 2*(xp^2 + 1)*yp^2 + 2*(xp^2 + yp^2 + 1)*zp^2 + 2*xp^2 + 1) == -2*xp/(xp^2 + yp^2 + zp^2 + 1),\n",
       " -2*(a*xp^2 + 2*b*xp*yp - a*yp^2 + 2*c*xp*zp - a*zp^2 - a)/(xp^4 + yp^4 + zp^4 + 2*(xp^2 + 1)*yp^2 + 2*(xp^2 + yp^2 + 1)*zp^2 + 2*xp^2 + 1) == (xp^2 + yp^2 + zp^2 - 1)/(xp^2 + yp^2 + zp^2 + 1),\n",
       " 2*(b*xp^2 - 2*a*xp*yp - b*yp^2 - 2*c*yp*zp + b*zp^2 + b)/(xp^4 + yp^4 + zp^4 + 2*(xp^2 + 1)*yp^2 + 2*(xp^2 + yp^2 + 1)*zp^2 + 2*xp^2 + 1) == 2*zp/(xp^2 + yp^2 + zp^2 + 1),\n",
       " 2*(c*xp^2 + c*yp^2 - c*zp^2 - 2*(a*xp + b*yp)*zp + c)/(xp^4 + yp^4 + zp^4 + 2*(xp^2 + 1)*yp^2 + 2*(xp^2 + yp^2 + 1)*zp^2 + 2*xp^2 + 1) == -2*yp/(xp^2 + yp^2 + zp^2 + 1)]"
      ]
     },
     "execution_count": 108,
     "metadata": {},
     "output_type": "execute_result"
    }
   ],
   "source": [
    "eqs = [(a*frameS_R4[0][i] + b*frameS_R4[1][i] + c*frameS_R4[2][i]).expr() == EIp[i] \n",
    "       for i in R4.irange()]\n",
    "eqs"
   ]
  },
  {
   "cell_type": "code",
   "execution_count": 109,
   "metadata": {},
   "outputs": [
    {
     "data": {
      "text/html": [
       "<html><script type=\"math/tex; mode=display\">\\newcommand{\\Bold}[1]{\\mathbf{#1}}\\left[\\left\\{a : -\\frac{1}{2} \\, {x'}^{2} + \\frac{1}{2} \\, {y'}^{2} + \\frac{1}{2} \\, {z'}^{2} - \\frac{1}{2}, c : -{x'} {z'} - {y'}, b : -{x'} {y'} + {z'}\\right\\}\\right]</script></html>"
      ],
      "text/plain": [
       "[{a: -1/2*xp^2 + 1/2*yp^2 + 1/2*zp^2 - 1/2, c: -xp*zp - yp, b: -xp*yp + zp}]"
      ]
     },
     "execution_count": 109,
     "metadata": {},
     "output_type": "execute_result"
    }
   ],
   "source": [
    "sol = solve(eqs, (a,b,c), solution_dict=True)\n",
    "sol"
   ]
  },
  {
   "cell_type": "code",
   "execution_count": 110,
   "metadata": {},
   "outputs": [
    {
     "data": {
      "text/html": [
       "<html><script type=\"math/tex; mode=display\">\\newcommand{\\Bold}[1]{\\mathbf{#1}}\\varepsilon_{1} = \\left( -\\frac{1}{2} \\, {x'}^{2} + \\frac{1}{2} \\, {y'}^{2} + \\frac{1}{2} \\, {z'}^{2} - \\frac{1}{2} \\right) \\frac{\\partial}{\\partial {x'} } + \\left( -{x'} {y'} + {z'} \\right) \\frac{\\partial}{\\partial {y'} } + \\left( -{x'} {z'} - {y'} \\right) \\frac{\\partial}{\\partial {z'} }</script></html>"
      ],
      "text/plain": [
       "E_1 = (-1/2*xp^2 + 1/2*yp^2 + 1/2*zp^2 - 1/2) d/dxp + (-xp*yp + zp) d/dyp + (-xp*zp - yp) d/dzp"
      ]
     },
     "execution_count": 110,
     "metadata": {},
     "output_type": "execute_result"
    }
   ],
   "source": [
    "E[1].restrict(V)[stereoS.frame(),:, stereoS] = (sol[0][a], sol[0][b], sol[0][c])\n",
    "E[1].display(stereoS.frame())"
   ]
  },
  {
   "cell_type": "markdown",
   "metadata": {},
   "source": [
    "Again, we check the correctness by"
   ]
  },
  {
   "cell_type": "code",
   "execution_count": 111,
   "metadata": {},
   "outputs": [
    {
     "data": {
      "text/html": [
       "<html><script type=\"math/tex; mode=display\">\\newcommand{\\Bold}[1]{\\mathbf{#1}}\\mathrm{True}</script></html>"
      ],
      "text/plain": [
       "True"
      ]
     },
     "execution_count": 111,
     "metadata": {},
     "output_type": "execute_result"
    }
   ],
   "source": [
    "E1V_R4 = Phi.pushforward(E[1].restrict(V))\n",
    "all([E1V_R4[i] == EIp[i] for i in R4.irange()])"
   ]
  },
  {
   "cell_type": "markdown",
   "metadata": {},
   "source": [
    "### Stereographic components of the vector field $\\varepsilon_2$\n",
    "\n",
    "The vector field $\\varepsilon_2 = \\varepsilon_{\\mathbf{j}}$ is induced by the right translation by $\\mathbf{j}$:"
   ]
  },
  {
   "cell_type": "code",
   "execution_count": 112,
   "metadata": {},
   "outputs": [
    {
     "data": {
      "text/html": [
       "<html><script type=\"math/tex; mode=display\">\\newcommand{\\Bold}[1]{\\mathbf{#1}}\\begin{array}{llcl} & \\mathbb{R}^4 & \\longrightarrow & \\mathbb{R}^4 \\\\ & \\left(T, X, Y, Z\\right) & \\longmapsto & \\left(-Y, -Z, T, X\\right) \\end{array}</script></html>"
      ],
      "text/plain": [
       "R^4 --> R^4\n",
       "   (T, X, Y, Z) |--> (-Y, -Z, T, X)"
      ]
     },
     "execution_count": 112,
     "metadata": {},
     "output_type": "execute_result"
    }
   ],
   "source": [
    "p = R4((T,X,Y,Z))\n",
    "RJ_R4 = R4.diff_map(R4, X4(qprod(p, Phi(J))))\n",
    "RJ_R4.display()"
   ]
  },
  {
   "cell_type": "code",
   "execution_count": 113,
   "metadata": {},
   "outputs": [
    {
     "data": {
      "text/html": [
       "<html><script type=\"math/tex; mode=display\">\\newcommand{\\Bold}[1]{\\mathbf{#1}}E_{\\mathbf{j}} = -Y \\frac{\\partial}{\\partial T } -Z \\frac{\\partial}{\\partial X } + T \\frac{\\partial}{\\partial Y } + X \\frac{\\partial}{\\partial Z }</script></html>"
      ],
      "text/plain": [
       "E_J = -Y d/dT - Z d/dX + T d/dY + X d/dZ"
      ]
     },
     "execution_count": 113,
     "metadata": {},
     "output_type": "execute_result"
    }
   ],
   "source": [
    "EJ = R4.vector_field(name='E_J', latex_name=r'E_{\\mathbf{j}}')\n",
    "EJ[:] = RJ_R4.expression()\n",
    "EJ.display()"
   ]
  },
  {
   "cell_type": "markdown",
   "metadata": {},
   "source": [
    "We determine the components of $\\varepsilon_2$ in the stereographic frame from the North pole as we did for $\\varepsilon_1$:"
   ]
  },
  {
   "cell_type": "code",
   "execution_count": 114,
   "metadata": {},
   "outputs": [
    {
     "data": {
      "text/html": [
       "<html><script type=\"math/tex; mode=display\">\\newcommand{\\Bold}[1]{\\mathbf{#1}}\\left[-\\frac{2 \\, y}{x^{2} + y^{2} + z^{2} + 1}, -\\frac{2 \\, z}{x^{2} + y^{2} + z^{2} + 1}, -\\frac{x^{2} + y^{2} + z^{2} - 1}{x^{2} + y^{2} + z^{2} + 1}, \\frac{2 \\, x}{x^{2} + y^{2} + z^{2} + 1}\\right]</script></html>"
      ],
      "text/plain": [
       "[-2*y/(x^2 + y^2 + z^2 + 1),\n",
       " -2*z/(x^2 + y^2 + z^2 + 1),\n",
       " -(x^2 + y^2 + z^2 - 1)/(x^2 + y^2 + z^2 + 1),\n",
       " 2*x/(x^2 + y^2 + z^2 + 1)]"
      ]
     },
     "execution_count": 114,
     "metadata": {},
     "output_type": "execute_result"
    }
   ],
   "source": [
    "p = U((x,y,z), chart=stereoN)\n",
    "EJp = EJ.at(Phi(p))\n",
    "EJp[:]"
   ]
  },
  {
   "cell_type": "code",
   "execution_count": 115,
   "metadata": {},
   "outputs": [
    {
     "data": {
      "text/html": [
       "<html><script type=\"math/tex; mode=display\">\\newcommand{\\Bold}[1]{\\mathbf{#1}}\\varepsilon_{2} = \\left( x y - z \\right) \\frac{\\partial}{\\partial x } + \\left( -\\frac{1}{2} \\, x^{2} + \\frac{1}{2} \\, y^{2} - \\frac{1}{2} \\, z^{2} + \\frac{1}{2} \\right) \\frac{\\partial}{\\partial y } + \\left( y z + x \\right) \\frac{\\partial}{\\partial z }</script></html>"
      ],
      "text/plain": [
       "E_2 = (x*y - z) d/dx + (-1/2*x^2 + 1/2*y^2 - 1/2*z^2 + 1/2) d/dy + (y*z + x) d/dz"
      ]
     },
     "execution_count": 115,
     "metadata": {},
     "output_type": "execute_result"
    }
   ],
   "source": [
    "eqs = [(a*frameN_R4[0][i] + b*frameN_R4[1][i] + c*frameN_R4[2][i]).expr() == EJp[i]\n",
    "       for i in R4.irange()]\n",
    "sol = solve(eqs, (a,b,c), solution_dict=True)\n",
    "E[2].restrict(U)[stereoN.frame(),:,stereoN] = (sol[0][a], sol[0][b], sol[0][c])\n",
    "E[2].display(stereoN.frame())"
   ]
  },
  {
   "cell_type": "markdown",
   "metadata": {},
   "source": [
    "Check:"
   ]
  },
  {
   "cell_type": "code",
   "execution_count": 116,
   "metadata": {},
   "outputs": [
    {
     "data": {
      "text/html": [
       "<html><script type=\"math/tex; mode=display\">\\newcommand{\\Bold}[1]{\\mathbf{#1}}\\mathrm{True}</script></html>"
      ],
      "text/plain": [
       "True"
      ]
     },
     "execution_count": 116,
     "metadata": {},
     "output_type": "execute_result"
    }
   ],
   "source": [
    "E2U_R4 = Phi.pushforward(E[2].restrict(U))\n",
    "all([E2U_R4[i] == EJp[i] for i in R4.irange()])"
   ]
  },
  {
   "cell_type": "markdown",
   "metadata": {},
   "source": [
    "We turn now to the stereographic components from the South pole:"
   ]
  },
  {
   "cell_type": "code",
   "execution_count": 117,
   "metadata": {},
   "outputs": [
    {
     "data": {
      "text/html": [
       "<html><script type=\"math/tex; mode=display\">\\newcommand{\\Bold}[1]{\\mathbf{#1}}\\left[-\\frac{2 \\, {y'}}{{x'}^{2} + {y'}^{2} + {z'}^{2} + 1}, -\\frac{2 \\, {z'}}{{x'}^{2} + {y'}^{2} + {z'}^{2} + 1}, \\frac{{x'}^{2} + {y'}^{2} + {z'}^{2} - 1}{{x'}^{2} + {y'}^{2} + {z'}^{2} + 1}, \\frac{2 \\, {x'}}{{x'}^{2} + {y'}^{2} + {z'}^{2} + 1}\\right]</script></html>"
      ],
      "text/plain": [
       "[-2*yp/(xp^2 + yp^2 + zp^2 + 1),\n",
       " -2*zp/(xp^2 + yp^2 + zp^2 + 1),\n",
       " (xp^2 + yp^2 + zp^2 - 1)/(xp^2 + yp^2 + zp^2 + 1),\n",
       " 2*xp/(xp^2 + yp^2 + zp^2 + 1)]"
      ]
     },
     "execution_count": 117,
     "metadata": {},
     "output_type": "execute_result"
    }
   ],
   "source": [
    "p = V((xp,yp,zp), chart=stereoS)\n",
    "EJp = EJ.at(Phi(p))\n",
    "EJp[:]"
   ]
  },
  {
   "cell_type": "code",
   "execution_count": 118,
   "metadata": {},
   "outputs": [
    {
     "data": {
      "text/html": [
       "<html><script type=\"math/tex; mode=display\">\\newcommand{\\Bold}[1]{\\mathbf{#1}}\\varepsilon_{2} = \\left( -{x'} {y'} - {z'} \\right) \\frac{\\partial}{\\partial {x'} } + \\left( \\frac{1}{2} \\, {x'}^{2} - \\frac{1}{2} \\, {y'}^{2} + \\frac{1}{2} \\, {z'}^{2} - \\frac{1}{2} \\right) \\frac{\\partial}{\\partial {y'} } + \\left( -{y'} {z'} + {x'} \\right) \\frac{\\partial}{\\partial {z'} }</script></html>"
      ],
      "text/plain": [
       "E_2 = (-xp*yp - zp) d/dxp + (1/2*xp^2 - 1/2*yp^2 + 1/2*zp^2 - 1/2) d/dyp + (-yp*zp + xp) d/dzp"
      ]
     },
     "execution_count": 118,
     "metadata": {},
     "output_type": "execute_result"
    }
   ],
   "source": [
    "eqs = [(a*frameS_R4[0][i] + b*frameS_R4[1][i] + c*frameS_R4[2][i]).expr() == EJp[i] \n",
    "       for i in R4.irange()]\n",
    "sol = solve(eqs, (a,b,c), solution_dict=True)\n",
    "E[2].restrict(V)[stereoS.frame(),:, stereoS] = (sol[0][a], sol[0][b], sol[0][c])\n",
    "E[2].display(stereoS.frame())"
   ]
  },
  {
   "cell_type": "code",
   "execution_count": 119,
   "metadata": {},
   "outputs": [
    {
     "data": {
      "text/html": [
       "<html><script type=\"math/tex; mode=display\">\\newcommand{\\Bold}[1]{\\mathbf{#1}}\\mathrm{True}</script></html>"
      ],
      "text/plain": [
       "True"
      ]
     },
     "execution_count": 119,
     "metadata": {},
     "output_type": "execute_result"
    }
   ],
   "source": [
    "E2V_R4 = Phi.pushforward(E[2].restrict(V))\n",
    "all([E2V_R4[i] == EJp[i] for i in R4.irange()])"
   ]
  },
  {
   "cell_type": "markdown",
   "metadata": {},
   "source": [
    "### Stereographic components of the vector field $\\varepsilon_3$\n",
    "\n",
    "The vector field $\\varepsilon_3 = \\varepsilon_{\\mathbf{k}}$ is induced by the right translation by $\\mathbf{k}$:"
   ]
  },
  {
   "cell_type": "code",
   "execution_count": 120,
   "metadata": {},
   "outputs": [
    {
     "data": {
      "text/html": [
       "<html><script type=\"math/tex; mode=display\">\\newcommand{\\Bold}[1]{\\mathbf{#1}}\\begin{array}{llcl} & \\mathbb{R}^4 & \\longrightarrow & \\mathbb{R}^4 \\\\ & \\left(T, X, Y, Z\\right) & \\longmapsto & \\left(-Z, Y, -X, T\\right) \\end{array}</script></html>"
      ],
      "text/plain": [
       "R^4 --> R^4\n",
       "   (T, X, Y, Z) |--> (-Z, Y, -X, T)"
      ]
     },
     "execution_count": 120,
     "metadata": {},
     "output_type": "execute_result"
    }
   ],
   "source": [
    "p = R4((T,X,Y,Z))\n",
    "RK_R4 = R4.diff_map(R4, X4(qprod(p, Phi(K))))\n",
    "RK_R4.display()"
   ]
  },
  {
   "cell_type": "code",
   "execution_count": 121,
   "metadata": {},
   "outputs": [
    {
     "data": {
      "text/html": [
       "<html><script type=\"math/tex; mode=display\">\\newcommand{\\Bold}[1]{\\mathbf{#1}}E_{\\mathbf{k}} = -Z \\frac{\\partial}{\\partial T } + Y \\frac{\\partial}{\\partial X } -X \\frac{\\partial}{\\partial Y } + T \\frac{\\partial}{\\partial Z }</script></html>"
      ],
      "text/plain": [
       "E_K = -Z d/dT + Y d/dX - X d/dY + T d/dZ"
      ]
     },
     "execution_count": 121,
     "metadata": {},
     "output_type": "execute_result"
    }
   ],
   "source": [
    "EK = R4.vector_field(name='E_K', latex_name=r'E_{\\mathbf{k}}')\n",
    "EK[:] = RK_R4.expression()\n",
    "EK.display()"
   ]
  },
  {
   "cell_type": "markdown",
   "metadata": {},
   "source": [
    "The components of $\\varepsilon_3$ in the two stereographic frames are obtained in the same manner as for $\\varepsilon_1$ and $\\varepsilon_2$"
   ]
  },
  {
   "cell_type": "code",
   "execution_count": 122,
   "metadata": {},
   "outputs": [
    {
     "data": {
      "text/html": [
       "<html><script type=\"math/tex; mode=display\">\\newcommand{\\Bold}[1]{\\mathbf{#1}}\\varepsilon_{3} = \\left( x z + y \\right) \\frac{\\partial}{\\partial x } + \\left( y z - x \\right) \\frac{\\partial}{\\partial y } + \\left( -\\frac{1}{2} \\, x^{2} - \\frac{1}{2} \\, y^{2} + \\frac{1}{2} \\, z^{2} + \\frac{1}{2} \\right) \\frac{\\partial}{\\partial z }</script></html>"
      ],
      "text/plain": [
       "E_3 = (x*z + y) d/dx + (y*z - x) d/dy + (-1/2*x^2 - 1/2*y^2 + 1/2*z^2 + 1/2) d/dz"
      ]
     },
     "execution_count": 122,
     "metadata": {},
     "output_type": "execute_result"
    }
   ],
   "source": [
    "p = U((x,y,z), chart=stereoN)\n",
    "EKp = EK.at(Phi(p))\n",
    "eqs = [(a*frameN_R4[0][i] + b*frameN_R4[1][i] + c*frameN_R4[2][i]).expr() == EKp[i]\n",
    "       for i in R4.irange()]\n",
    "sol = solve(eqs, (a,b,c), solution_dict=True)\n",
    "E[3].restrict(U)[stereoN.frame(),:,stereoN] = (sol[0][a], sol[0][b], sol[0][c])\n",
    "E[3].display(stereoN.frame())"
   ]
  },
  {
   "cell_type": "code",
   "execution_count": 123,
   "metadata": {},
   "outputs": [
    {
     "data": {
      "text/html": [
       "<html><script type=\"math/tex; mode=display\">\\newcommand{\\Bold}[1]{\\mathbf{#1}}\\mathrm{True}</script></html>"
      ],
      "text/plain": [
       "True"
      ]
     },
     "execution_count": 123,
     "metadata": {},
     "output_type": "execute_result"
    }
   ],
   "source": [
    "E3U_R4 = Phi.pushforward(E[3].restrict(U))\n",
    "all([E3U_R4[i] == EKp[i] for i in R4.irange()])"
   ]
  },
  {
   "cell_type": "code",
   "execution_count": 124,
   "metadata": {},
   "outputs": [
    {
     "data": {
      "text/html": [
       "<html><script type=\"math/tex; mode=display\">\\newcommand{\\Bold}[1]{\\mathbf{#1}}\\varepsilon_{3} = \\left( -{x'} {z'} + {y'} \\right) \\frac{\\partial}{\\partial {x'} } + \\left( -{y'} {z'} - {x'} \\right) \\frac{\\partial}{\\partial {y'} } + \\left( \\frac{1}{2} \\, {x'}^{2} + \\frac{1}{2} \\, {y'}^{2} - \\frac{1}{2} \\, {z'}^{2} - \\frac{1}{2} \\right) \\frac{\\partial}{\\partial {z'} }</script></html>"
      ],
      "text/plain": [
       "E_3 = (-xp*zp + yp) d/dxp + (-yp*zp - xp) d/dyp + (1/2*xp^2 + 1/2*yp^2 - 1/2*zp^2 - 1/2) d/dzp"
      ]
     },
     "execution_count": 124,
     "metadata": {},
     "output_type": "execute_result"
    }
   ],
   "source": [
    "p = V((xp,yp,zp), chart=stereoS)\n",
    "EKp = EK.at(Phi(p))\n",
    "eqs = [(a*frameS_R4[0][i] + b*frameS_R4[1][i] + c*frameS_R4[2][i]).expr() == EKp[i] \n",
    "       for i in R4.irange()]\n",
    "sol = solve(eqs, (a,b,c), solution_dict=True)\n",
    "E[3].restrict(V)[stereoS.frame(),:, stereoS] = (sol[0][a], sol[0][b], sol[0][c])\n",
    "E[3].display(stereoS.frame())"
   ]
  },
  {
   "cell_type": "code",
   "execution_count": 125,
   "metadata": {},
   "outputs": [
    {
     "data": {
      "text/html": [
       "<html><script type=\"math/tex; mode=display\">\\newcommand{\\Bold}[1]{\\mathbf{#1}}\\mathrm{True}</script></html>"
      ],
      "text/plain": [
       "True"
      ]
     },
     "execution_count": 125,
     "metadata": {},
     "output_type": "execute_result"
    }
   ],
   "source": [
    "E3V_R4 = Phi.pushforward(E[3].restrict(V))\n",
    "all([E3V_R4[i] == EKp[i] for i in R4.irange()])"
   ]
  },
  {
   "cell_type": "markdown",
   "metadata": {},
   "source": [
    "### Summary\n",
    "\n",
    "The vector fields on $\\mathbb{R}^4$ induced by the right translations by respectively $\\mathbf{i}$, $\\mathbf{j}$ and $\\mathbf{k}$ are"
   ]
  },
  {
   "cell_type": "code",
   "execution_count": 126,
   "metadata": {
    "scrolled": true
   },
   "outputs": [
    {
     "data": {
      "text/html": [
       "<html><script type=\"math/tex; mode=display\">\\newcommand{\\Bold}[1]{\\mathbf{#1}}E_{\\mathbf{i}} = -X \\frac{\\partial}{\\partial T } + T \\frac{\\partial}{\\partial X } + Z \\frac{\\partial}{\\partial Y } -Y \\frac{\\partial}{\\partial Z }</script></html>"
      ],
      "text/plain": [
       "E_I = -X d/dT + T d/dX + Z d/dY - Y d/dZ"
      ]
     },
     "metadata": {},
     "output_type": "display_data"
    },
    {
     "data": {
      "text/html": [
       "<html><script type=\"math/tex; mode=display\">\\newcommand{\\Bold}[1]{\\mathbf{#1}}E_{\\mathbf{j}} = -Y \\frac{\\partial}{\\partial T } -Z \\frac{\\partial}{\\partial X } + T \\frac{\\partial}{\\partial Y } + X \\frac{\\partial}{\\partial Z }</script></html>"
      ],
      "text/plain": [
       "E_J = -Y d/dT - Z d/dX + T d/dY + X d/dZ"
      ]
     },
     "metadata": {},
     "output_type": "display_data"
    },
    {
     "data": {
      "text/html": [
       "<html><script type=\"math/tex; mode=display\">\\newcommand{\\Bold}[1]{\\mathbf{#1}}E_{\\mathbf{k}} = -Z \\frac{\\partial}{\\partial T } + Y \\frac{\\partial}{\\partial X } -X \\frac{\\partial}{\\partial Y } + T \\frac{\\partial}{\\partial Z }</script></html>"
      ],
      "text/plain": [
       "E_K = -Z d/dT + Y d/dX - X d/dY + T d/dZ"
      ]
     },
     "metadata": {},
     "output_type": "display_data"
    }
   ],
   "source": [
    "show(EI.display())\n",
    "show(EJ.display())\n",
    "show(EK.display())"
   ]
  },
  {
   "cell_type": "markdown",
   "metadata": {},
   "source": [
    "As a check, we note that the above formulas coincide with those given in Problem 8-6 of Lee's textbook [*Introduction to Smooth Manifolds*](https://dx.doi.org/10.1007/978-1-4419-9982-5), 2nd ed., Springer (New York) (2013).\n",
    "\n",
    "The vector fields $E_{\\mathbf{i}}$, $E_{\\mathbf{j}}$ and $E_{\\mathbf{k}}$ are tangent to $\\Phi(\\mathbb{S}^3)\\subset\\mathbb{R}^4$ and therefore induce three vectors fields on $\\mathbb{S}^3$, $\\varepsilon_1$, $\\varepsilon_2$ and $\\varepsilon_3$, which form a global vector frame of $\\mathbb{S}^3$. The components of these vector fields with respect to the (local) stereographic frames are "
   ]
  },
  {
   "cell_type": "code",
   "execution_count": 127,
   "metadata": {},
   "outputs": [
    {
     "data": {
      "text/html": [
       "<html><script type=\"math/tex; mode=display\">\\newcommand{\\Bold}[1]{\\mathbf{#1}}\\varepsilon_{1} = \\left( \\frac{1}{2} \\, x^{2} - \\frac{1}{2} \\, y^{2} - \\frac{1}{2} \\, z^{2} + \\frac{1}{2} \\right) \\frac{\\partial}{\\partial x } + \\left( x y + z \\right) \\frac{\\partial}{\\partial y } + \\left( x z - y \\right) \\frac{\\partial}{\\partial z }</script></html>"
      ],
      "text/plain": [
       "E_1 = (1/2*x^2 - 1/2*y^2 - 1/2*z^2 + 1/2) d/dx + (x*y + z) d/dy + (x*z - y) d/dz"
      ]
     },
     "metadata": {},
     "output_type": "display_data"
    },
    {
     "data": {
      "text/html": [
       "<html><script type=\"math/tex; mode=display\">\\newcommand{\\Bold}[1]{\\mathbf{#1}}\\varepsilon_{2} = \\left( x y - z \\right) \\frac{\\partial}{\\partial x } + \\left( -\\frac{1}{2} \\, x^{2} + \\frac{1}{2} \\, y^{2} - \\frac{1}{2} \\, z^{2} + \\frac{1}{2} \\right) \\frac{\\partial}{\\partial y } + \\left( y z + x \\right) \\frac{\\partial}{\\partial z }</script></html>"
      ],
      "text/plain": [
       "E_2 = (x*y - z) d/dx + (-1/2*x^2 + 1/2*y^2 - 1/2*z^2 + 1/2) d/dy + (y*z + x) d/dz"
      ]
     },
     "metadata": {},
     "output_type": "display_data"
    },
    {
     "data": {
      "text/html": [
       "<html><script type=\"math/tex; mode=display\">\\newcommand{\\Bold}[1]{\\mathbf{#1}}\\varepsilon_{3} = \\left( x z + y \\right) \\frac{\\partial}{\\partial x } + \\left( y z - x \\right) \\frac{\\partial}{\\partial y } + \\left( -\\frac{1}{2} \\, x^{2} - \\frac{1}{2} \\, y^{2} + \\frac{1}{2} \\, z^{2} + \\frac{1}{2} \\right) \\frac{\\partial}{\\partial z }</script></html>"
      ],
      "text/plain": [
       "E_3 = (x*z + y) d/dx + (y*z - x) d/dy + (-1/2*x^2 - 1/2*y^2 + 1/2*z^2 + 1/2) d/dz"
      ]
     },
     "metadata": {},
     "output_type": "display_data"
    },
    {
     "name": "stdout",
     "output_type": "stream",
     "text": [
      " \n"
     ]
    },
    {
     "data": {
      "text/html": [
       "<html><script type=\"math/tex; mode=display\">\\newcommand{\\Bold}[1]{\\mathbf{#1}}\\varepsilon_{1} = \\left( -\\frac{1}{2} \\, {x'}^{2} + \\frac{1}{2} \\, {y'}^{2} + \\frac{1}{2} \\, {z'}^{2} - \\frac{1}{2} \\right) \\frac{\\partial}{\\partial {x'} } + \\left( -{x'} {y'} + {z'} \\right) \\frac{\\partial}{\\partial {y'} } + \\left( -{x'} {z'} - {y'} \\right) \\frac{\\partial}{\\partial {z'} }</script></html>"
      ],
      "text/plain": [
       "E_1 = (-1/2*xp^2 + 1/2*yp^2 + 1/2*zp^2 - 1/2) d/dxp + (-xp*yp + zp) d/dyp + (-xp*zp - yp) d/dzp"
      ]
     },
     "metadata": {},
     "output_type": "display_data"
    },
    {
     "data": {
      "text/html": [
       "<html><script type=\"math/tex; mode=display\">\\newcommand{\\Bold}[1]{\\mathbf{#1}}\\varepsilon_{2} = \\left( -{x'} {y'} - {z'} \\right) \\frac{\\partial}{\\partial {x'} } + \\left( \\frac{1}{2} \\, {x'}^{2} - \\frac{1}{2} \\, {y'}^{2} + \\frac{1}{2} \\, {z'}^{2} - \\frac{1}{2} \\right) \\frac{\\partial}{\\partial {y'} } + \\left( -{y'} {z'} + {x'} \\right) \\frac{\\partial}{\\partial {z'} }</script></html>"
      ],
      "text/plain": [
       "E_2 = (-xp*yp - zp) d/dxp + (1/2*xp^2 - 1/2*yp^2 + 1/2*zp^2 - 1/2) d/dyp + (-yp*zp + xp) d/dzp"
      ]
     },
     "metadata": {},
     "output_type": "display_data"
    },
    {
     "data": {
      "text/html": [
       "<html><script type=\"math/tex; mode=display\">\\newcommand{\\Bold}[1]{\\mathbf{#1}}\\varepsilon_{3} = \\left( -{x'} {z'} + {y'} \\right) \\frac{\\partial}{\\partial {x'} } + \\left( -{y'} {z'} - {x'} \\right) \\frac{\\partial}{\\partial {y'} } + \\left( \\frac{1}{2} \\, {x'}^{2} + \\frac{1}{2} \\, {y'}^{2} - \\frac{1}{2} \\, {z'}^{2} - \\frac{1}{2} \\right) \\frac{\\partial}{\\partial {z'} }</script></html>"
      ],
      "text/plain": [
       "E_3 = (-xp*zp + yp) d/dxp + (-yp*zp - xp) d/dyp + (1/2*xp^2 + 1/2*yp^2 - 1/2*zp^2 - 1/2) d/dzp"
      ]
     },
     "metadata": {},
     "output_type": "display_data"
    }
   ],
   "source": [
    "for i in S3.irange():\n",
    "    show(E[i].display(stereoN.frame()))\n",
    "print(\" \")\n",
    "for i in S3.irange():\n",
    "    show(E[i].display(stereoS.frame()))"
   ]
  },
  {
   "cell_type": "markdown",
   "metadata": {},
   "source": [
    "To complete the connection between the global frame $(\\varepsilon_i)$ and the stereographic frames in $U$ and $V$, we shall declare the change-of-basis formulas related the two frames, so that they can be used automatically by SageMath when necessary. Starting with $U$, we first consider the restriction of the global frame to $U$:"
   ]
  },
  {
   "cell_type": "code",
   "execution_count": 128,
   "metadata": {},
   "outputs": [
    {
     "data": {
      "text/html": [
       "<html><script type=\"math/tex; mode=display\">\\newcommand{\\Bold}[1]{\\mathbf{#1}}\\left(U, \\left(\\varepsilon_{1},\\varepsilon_{2},\\varepsilon_{3}\\right)\\right)</script></html>"
      ],
      "text/plain": [
       "Vector frame (U, (E_1,E_2,E_3))"
      ]
     },
     "execution_count": 128,
     "metadata": {},
     "output_type": "execute_result"
    }
   ],
   "source": [
    "E_U = E.restrict(U); E_U"
   ]
  },
  {
   "cell_type": "markdown",
   "metadata": {},
   "source": [
    "The automorphism $P$ such that on $U$, $\\varepsilon_i = P\\left(\\frac{\\partial}{\\partial x^i}\\right)$ is read directely on the components of $\\varepsilon_i$ with respect to the\n",
    "frame $\\left(\\frac{\\partial}{\\partial x^i}\\right) = \\left(\\frac{\\partial}{\\partial x}, \\frac{\\partial}{\\partial y}, \\frac{\\partial}{\\partial z} \\right)$:"
   ]
  },
  {
   "cell_type": "code",
   "execution_count": 129,
   "metadata": {},
   "outputs": [
    {
     "data": {
      "text/html": [
       "<html><script type=\"math/tex; mode=display\">\\newcommand{\\Bold}[1]{\\mathbf{#1}}\\left(\\begin{array}{rrr}\n",
       "\\frac{1}{2} \\, x^{2} - \\frac{1}{2} \\, y^{2} - \\frac{1}{2} \\, z^{2} + \\frac{1}{2} & x y - z & x z + y \\\\\n",
       "x y + z & -\\frac{1}{2} \\, x^{2} + \\frac{1}{2} \\, y^{2} - \\frac{1}{2} \\, z^{2} + \\frac{1}{2} & y z - x \\\\\n",
       "x z - y & y z + x & -\\frac{1}{2} \\, x^{2} - \\frac{1}{2} \\, y^{2} + \\frac{1}{2} \\, z^{2} + \\frac{1}{2}\n",
       "\\end{array}\\right)</script></html>"
      ],
      "text/plain": [
       "[ 1/2*x^2 - 1/2*y^2 - 1/2*z^2 + 1/2                            x*y - z                            x*z + y]\n",
       "[                           x*y + z -1/2*x^2 + 1/2*y^2 - 1/2*z^2 + 1/2                            y*z - x]\n",
       "[                           x*z - y                            y*z + x -1/2*x^2 - 1/2*y^2 + 1/2*z^2 + 1/2]"
      ]
     },
     "execution_count": 129,
     "metadata": {},
     "output_type": "execute_result"
    }
   ],
   "source": [
    "P = U.automorphism_field()\n",
    "for i in S3.irange():\n",
    "    for j in S3.irange():\n",
    "        P[j,i] = E_U[i][j]\n",
    "P[:]"
   ]
  },
  {
   "cell_type": "markdown",
   "metadata": {},
   "source": [
    "Check of the formula $\\varepsilon_i = P\\left(\\frac{\\partial}{\\partial x^i}\\right)$:"
   ]
  },
  {
   "cell_type": "code",
   "execution_count": 130,
   "metadata": {},
   "outputs": [
    {
     "data": {
      "text/html": [
       "<html><script type=\"math/tex; mode=display\">\\newcommand{\\Bold}[1]{\\mathbf{#1}}\\mathrm{True}</script></html>"
      ],
      "text/plain": [
       "True"
      ]
     },
     "execution_count": 130,
     "metadata": {},
     "output_type": "execute_result"
    }
   ],
   "source": [
    "all([E_U[i] == P(frameN[i]) for i in S3.irange()])"
   ]
  },
  {
   "cell_type": "markdown",
   "metadata": {},
   "source": [
    "We declare the change of frame by the method `set_change_of_frame`:"
   ]
  },
  {
   "cell_type": "code",
   "execution_count": 131,
   "metadata": {},
   "outputs": [],
   "source": [
    "U.set_change_of_frame(frameN, E_U, P)"
   ]
  },
  {
   "cell_type": "markdown",
   "metadata": {},
   "source": [
    "The inverse is automatically computed:"
   ]
  },
  {
   "cell_type": "code",
   "execution_count": 132,
   "metadata": {
    "scrolled": true
   },
   "outputs": [
    {
     "data": {
      "text/html": [
       "<html><script type=\"math/tex; mode=display\">\\newcommand{\\Bold}[1]{\\mathbf{#1}}\\left(\\begin{array}{rrr}\n",
       "\\frac{2 \\, {\\left(x^{2} - y^{2} - z^{2} + 1\\right)}}{x^{4} + y^{4} + z^{4} + 2 \\, {\\left(x^{2} + 1\\right)} y^{2} + 2 \\, {\\left(x^{2} + y^{2} + 1\\right)} z^{2} + 2 \\, x^{2} + 1} & \\frac{4 \\, {\\left(x y + z\\right)}}{x^{4} + y^{4} + z^{4} + 2 \\, {\\left(x^{2} + 1\\right)} y^{2} + 2 \\, {\\left(x^{2} + y^{2} + 1\\right)} z^{2} + 2 \\, x^{2} + 1} & \\frac{4 \\, {\\left(x z - y\\right)}}{x^{4} + y^{4} + z^{4} + 2 \\, {\\left(x^{2} + 1\\right)} y^{2} + 2 \\, {\\left(x^{2} + y^{2} + 1\\right)} z^{2} + 2 \\, x^{2} + 1} \\\\\n",
       "\\frac{4 \\, {\\left(x y - z\\right)}}{x^{4} + y^{4} + z^{4} + 2 \\, {\\left(x^{2} + 1\\right)} y^{2} + 2 \\, {\\left(x^{2} + y^{2} + 1\\right)} z^{2} + 2 \\, x^{2} + 1} & -\\frac{2 \\, {\\left(x^{2} - y^{2} + z^{2} - 1\\right)}}{x^{4} + y^{4} + z^{4} + 2 \\, {\\left(x^{2} + 1\\right)} y^{2} + 2 \\, {\\left(x^{2} + y^{2} + 1\\right)} z^{2} + 2 \\, x^{2} + 1} & \\frac{4 \\, {\\left(y z + x\\right)}}{x^{4} + y^{4} + z^{4} + 2 \\, {\\left(x^{2} + 1\\right)} y^{2} + 2 \\, {\\left(x^{2} + y^{2} + 1\\right)} z^{2} + 2 \\, x^{2} + 1} \\\\\n",
       "\\frac{4 \\, {\\left(x z + y\\right)}}{x^{4} + y^{4} + z^{4} + 2 \\, {\\left(x^{2} + 1\\right)} y^{2} + 2 \\, {\\left(x^{2} + y^{2} + 1\\right)} z^{2} + 2 \\, x^{2} + 1} & \\frac{4 \\, {\\left(y z - x\\right)}}{x^{4} + y^{4} + z^{4} + 2 \\, {\\left(x^{2} + 1\\right)} y^{2} + 2 \\, {\\left(x^{2} + y^{2} + 1\\right)} z^{2} + 2 \\, x^{2} + 1} & -\\frac{2 \\, {\\left(x^{2} + y^{2} - z^{2} - 1\\right)}}{x^{4} + y^{4} + z^{4} + 2 \\, {\\left(x^{2} + 1\\right)} y^{2} + 2 \\, {\\left(x^{2} + y^{2} + 1\\right)} z^{2} + 2 \\, x^{2} + 1}\n",
       "\\end{array}\\right)</script></html>"
      ],
      "text/plain": [
       "[ 2*(x^2 - y^2 - z^2 + 1)/(x^4 + y^4 + z^4 + 2*(x^2 + 1)*y^2 + 2*(x^2 + y^2 + 1)*z^2 + 2*x^2 + 1)              4*(x*y + z)/(x^4 + y^4 + z^4 + 2*(x^2 + 1)*y^2 + 2*(x^2 + y^2 + 1)*z^2 + 2*x^2 + 1)              4*(x*z - y)/(x^4 + y^4 + z^4 + 2*(x^2 + 1)*y^2 + 2*(x^2 + y^2 + 1)*z^2 + 2*x^2 + 1)]\n",
       "[             4*(x*y - z)/(x^4 + y^4 + z^4 + 2*(x^2 + 1)*y^2 + 2*(x^2 + y^2 + 1)*z^2 + 2*x^2 + 1) -2*(x^2 - y^2 + z^2 - 1)/(x^4 + y^4 + z^4 + 2*(x^2 + 1)*y^2 + 2*(x^2 + y^2 + 1)*z^2 + 2*x^2 + 1)              4*(y*z + x)/(x^4 + y^4 + z^4 + 2*(x^2 + 1)*y^2 + 2*(x^2 + y^2 + 1)*z^2 + 2*x^2 + 1)]\n",
       "[             4*(x*z + y)/(x^4 + y^4 + z^4 + 2*(x^2 + 1)*y^2 + 2*(x^2 + y^2 + 1)*z^2 + 2*x^2 + 1)              4*(y*z - x)/(x^4 + y^4 + z^4 + 2*(x^2 + 1)*y^2 + 2*(x^2 + y^2 + 1)*z^2 + 2*x^2 + 1) -2*(x^2 + y^2 - z^2 - 1)/(x^4 + y^4 + z^4 + 2*(x^2 + 1)*y^2 + 2*(x^2 + y^2 + 1)*z^2 + 2*x^2 + 1)]"
      ]
     },
     "execution_count": 132,
     "metadata": {},
     "output_type": "execute_result"
    }
   ],
   "source": [
    "U.change_of_frame(E_U, frameN)[:]"
   ]
  },
  {
   "cell_type": "markdown",
   "metadata": {},
   "source": [
    "We do the same thing on $V$:"
   ]
  },
  {
   "cell_type": "code",
   "execution_count": 133,
   "metadata": {},
   "outputs": [
    {
     "data": {
      "text/html": [
       "<html><script type=\"math/tex; mode=display\">\\newcommand{\\Bold}[1]{\\mathbf{#1}}\\left(V, \\left(\\varepsilon_{1},\\varepsilon_{2},\\varepsilon_{3}\\right)\\right)</script></html>"
      ],
      "text/plain": [
       "Vector frame (V, (E_1,E_2,E_3))"
      ]
     },
     "execution_count": 133,
     "metadata": {},
     "output_type": "execute_result"
    }
   ],
   "source": [
    "E_V = E.restrict(V); E_V"
   ]
  },
  {
   "cell_type": "code",
   "execution_count": 134,
   "metadata": {},
   "outputs": [
    {
     "data": {
      "text/html": [
       "<html><script type=\"math/tex; mode=display\">\\newcommand{\\Bold}[1]{\\mathbf{#1}}\\left(\\begin{array}{rrr}\n",
       "-\\frac{1}{2} \\, {x'}^{2} + \\frac{1}{2} \\, {y'}^{2} + \\frac{1}{2} \\, {z'}^{2} - \\frac{1}{2} & -{x'} {y'} - {z'} & -{x'} {z'} + {y'} \\\\\n",
       "-{x'} {y'} + {z'} & \\frac{1}{2} \\, {x'}^{2} - \\frac{1}{2} \\, {y'}^{2} + \\frac{1}{2} \\, {z'}^{2} - \\frac{1}{2} & -{y'} {z'} - {x'} \\\\\n",
       "-{x'} {z'} - {y'} & -{y'} {z'} + {x'} & \\frac{1}{2} \\, {x'}^{2} + \\frac{1}{2} \\, {y'}^{2} - \\frac{1}{2} \\, {z'}^{2} - \\frac{1}{2}\n",
       "\\end{array}\\right)</script></html>"
      ],
      "text/plain": [
       "[-1/2*xp^2 + 1/2*yp^2 + 1/2*zp^2 - 1/2                           -xp*yp - zp                           -xp*zp + yp]\n",
       "[                          -xp*yp + zp  1/2*xp^2 - 1/2*yp^2 + 1/2*zp^2 - 1/2                           -yp*zp - xp]\n",
       "[                          -xp*zp - yp                           -yp*zp + xp  1/2*xp^2 + 1/2*yp^2 - 1/2*zp^2 - 1/2]"
      ]
     },
     "execution_count": 134,
     "metadata": {},
     "output_type": "execute_result"
    }
   ],
   "source": [
    "P = V.automorphism_field()\n",
    "for i in S3.irange():\n",
    "    for j in S3.irange():\n",
    "        P[j,i] = E_V[i][j]\n",
    "P[:]"
   ]
  },
  {
   "cell_type": "code",
   "execution_count": 135,
   "metadata": {},
   "outputs": [
    {
     "data": {
      "text/html": [
       "<html><script type=\"math/tex; mode=display\">\\newcommand{\\Bold}[1]{\\mathbf{#1}}\\mathrm{True}</script></html>"
      ],
      "text/plain": [
       "True"
      ]
     },
     "execution_count": 135,
     "metadata": {},
     "output_type": "execute_result"
    }
   ],
   "source": [
    "all([E_V[i] == P(frameS[i]) for i in S3.irange()])"
   ]
  },
  {
   "cell_type": "code",
   "execution_count": 136,
   "metadata": {},
   "outputs": [],
   "source": [
    "V.set_change_of_frame(frameS, E_V, P)"
   ]
  },
  {
   "cell_type": "code",
   "execution_count": 137,
   "metadata": {},
   "outputs": [
    {
     "data": {
      "text/html": [
       "<html><script type=\"math/tex; mode=display\">\\newcommand{\\Bold}[1]{\\mathbf{#1}}\\left(\\begin{array}{rrr}\n",
       "-\\frac{2 \\, {\\left({x'}^{2} - {y'}^{2} - {z'}^{2} + 1\\right)}}{{x'}^{4} + {y'}^{4} + {z'}^{4} + 2 \\, {\\left({x'}^{2} + 1\\right)} {y'}^{2} + 2 \\, {\\left({x'}^{2} + {y'}^{2} + 1\\right)} {z'}^{2} + 2 \\, {x'}^{2} + 1} & -\\frac{4 \\, {\\left({x'} {y'} - {z'}\\right)}}{{x'}^{4} + {y'}^{4} + {z'}^{4} + 2 \\, {\\left({x'}^{2} + 1\\right)} {y'}^{2} + 2 \\, {\\left({x'}^{2} + {y'}^{2} + 1\\right)} {z'}^{2} + 2 \\, {x'}^{2} + 1} & -\\frac{4 \\, {\\left({x'} {z'} + {y'}\\right)}}{{x'}^{4} + {y'}^{4} + {z'}^{4} + 2 \\, {\\left({x'}^{2} + 1\\right)} {y'}^{2} + 2 \\, {\\left({x'}^{2} + {y'}^{2} + 1\\right)} {z'}^{2} + 2 \\, {x'}^{2} + 1} \\\\\n",
       "-\\frac{4 \\, {\\left({x'} {y'} + {z'}\\right)}}{{x'}^{4} + {y'}^{4} + {z'}^{4} + 2 \\, {\\left({x'}^{2} + 1\\right)} {y'}^{2} + 2 \\, {\\left({x'}^{2} + {y'}^{2} + 1\\right)} {z'}^{2} + 2 \\, {x'}^{2} + 1} & \\frac{2 \\, {\\left({x'}^{2} - {y'}^{2} + {z'}^{2} - 1\\right)}}{{x'}^{4} + {y'}^{4} + {z'}^{4} + 2 \\, {\\left({x'}^{2} + 1\\right)} {y'}^{2} + 2 \\, {\\left({x'}^{2} + {y'}^{2} + 1\\right)} {z'}^{2} + 2 \\, {x'}^{2} + 1} & -\\frac{4 \\, {\\left({y'} {z'} - {x'}\\right)}}{{x'}^{4} + {y'}^{4} + {z'}^{4} + 2 \\, {\\left({x'}^{2} + 1\\right)} {y'}^{2} + 2 \\, {\\left({x'}^{2} + {y'}^{2} + 1\\right)} {z'}^{2} + 2 \\, {x'}^{2} + 1} \\\\\n",
       "-\\frac{4 \\, {\\left({x'} {z'} - {y'}\\right)}}{{x'}^{4} + {y'}^{4} + {z'}^{4} + 2 \\, {\\left({x'}^{2} + 1\\right)} {y'}^{2} + 2 \\, {\\left({x'}^{2} + {y'}^{2} + 1\\right)} {z'}^{2} + 2 \\, {x'}^{2} + 1} & -\\frac{4 \\, {\\left({y'} {z'} + {x'}\\right)}}{{x'}^{4} + {y'}^{4} + {z'}^{4} + 2 \\, {\\left({x'}^{2} + 1\\right)} {y'}^{2} + 2 \\, {\\left({x'}^{2} + {y'}^{2} + 1\\right)} {z'}^{2} + 2 \\, {x'}^{2} + 1} & \\frac{2 \\, {\\left({x'}^{2} + {y'}^{2} - {z'}^{2} - 1\\right)}}{{x'}^{4} + {y'}^{4} + {z'}^{4} + 2 \\, {\\left({x'}^{2} + 1\\right)} {y'}^{2} + 2 \\, {\\left({x'}^{2} + {y'}^{2} + 1\\right)} {z'}^{2} + 2 \\, {x'}^{2} + 1}\n",
       "\\end{array}\\right)</script></html>"
      ],
      "text/plain": [
       "[-2*(xp^2 - yp^2 - zp^2 + 1)/(xp^4 + yp^4 + zp^4 + 2*(xp^2 + 1)*yp^2 + 2*(xp^2 + yp^2 + 1)*zp^2 + 2*xp^2 + 1)             -4*(xp*yp - zp)/(xp^4 + yp^4 + zp^4 + 2*(xp^2 + 1)*yp^2 + 2*(xp^2 + yp^2 + 1)*zp^2 + 2*xp^2 + 1)             -4*(xp*zp + yp)/(xp^4 + yp^4 + zp^4 + 2*(xp^2 + 1)*yp^2 + 2*(xp^2 + yp^2 + 1)*zp^2 + 2*xp^2 + 1)]\n",
       "[            -4*(xp*yp + zp)/(xp^4 + yp^4 + zp^4 + 2*(xp^2 + 1)*yp^2 + 2*(xp^2 + yp^2 + 1)*zp^2 + 2*xp^2 + 1)  2*(xp^2 - yp^2 + zp^2 - 1)/(xp^4 + yp^4 + zp^4 + 2*(xp^2 + 1)*yp^2 + 2*(xp^2 + yp^2 + 1)*zp^2 + 2*xp^2 + 1)             -4*(yp*zp - xp)/(xp^4 + yp^4 + zp^4 + 2*(xp^2 + 1)*yp^2 + 2*(xp^2 + yp^2 + 1)*zp^2 + 2*xp^2 + 1)]\n",
       "[            -4*(xp*zp - yp)/(xp^4 + yp^4 + zp^4 + 2*(xp^2 + 1)*yp^2 + 2*(xp^2 + yp^2 + 1)*zp^2 + 2*xp^2 + 1)             -4*(yp*zp + xp)/(xp^4 + yp^4 + zp^4 + 2*(xp^2 + 1)*yp^2 + 2*(xp^2 + yp^2 + 1)*zp^2 + 2*xp^2 + 1)  2*(xp^2 + yp^2 - zp^2 - 1)/(xp^4 + yp^4 + zp^4 + 2*(xp^2 + 1)*yp^2 + 2*(xp^2 + yp^2 + 1)*zp^2 + 2*xp^2 + 1)]"
      ]
     },
     "execution_count": 137,
     "metadata": {},
     "output_type": "execute_result"
    }
   ],
   "source": [
    "V.change_of_frame(E_V, frameS)[:]"
   ]
  },
  {
   "cell_type": "markdown",
   "metadata": {},
   "source": [
    "### $\\mathbb{S}^3$ as a parallelizable manifold\n",
    "\n",
    "Because it admits a global vector frame, $\\mathbb{S}^3$ is a parallelizable manifold:"
   ]
  },
  {
   "cell_type": "code",
   "execution_count": 138,
   "metadata": {},
   "outputs": [
    {
     "data": {
      "text/html": [
       "<html><script type=\"math/tex; mode=display\">\\newcommand{\\Bold}[1]{\\mathbf{#1}}\\mathrm{True}</script></html>"
      ],
      "text/plain": [
       "True"
      ]
     },
     "execution_count": 138,
     "metadata": {},
     "output_type": "execute_result"
    }
   ],
   "source": [
    "S3.is_manifestly_parallelizable()"
   ]
  },
  {
   "cell_type": "markdown",
   "metadata": {},
   "source": [
    "Equivalently, the set $\\mathfrak{X}(\\mathbb{S}^3)$ of vector fields on $\\mathbb{S}^3$ is a **free module of finite rank** over the algebra $C^\\infty(\\mathbb{S}^3)$ (the algebra of smooth scalar fields on $\\mathbb{S}^3$:"
   ]
  },
  {
   "cell_type": "code",
   "execution_count": 139,
   "metadata": {},
   "outputs": [
    {
     "data": {
      "text/html": [
       "<html><script type=\"math/tex; mode=display\">\\newcommand{\\Bold}[1]{\\mathbf{#1}}\\mathfrak{X}\\left(\\mathbb{S}^3\\right)</script></html>"
      ],
      "text/plain": [
       "Free module X(S^3) of vector fields on the 3-dimensional differentiable manifold S^3"
      ]
     },
     "execution_count": 139,
     "metadata": {},
     "output_type": "execute_result"
    }
   ],
   "source": [
    "XS3 = S3.vector_field_module()\n",
    "XS3"
   ]
  },
  {
   "cell_type": "code",
   "execution_count": 140,
   "metadata": {},
   "outputs": [
    {
     "data": {
      "text/html": [
       "<html><script type=\"math/tex; mode=display\">\\newcommand{\\Bold}[1]{\\mathbf{#1}}\\mathrm{True}</script></html>"
      ],
      "text/plain": [
       "True"
      ]
     },
     "execution_count": 140,
     "metadata": {},
     "output_type": "execute_result"
    }
   ],
   "source": [
    "isinstance(XS3, FiniteRankFreeModule)"
   ]
  },
  {
   "cell_type": "code",
   "execution_count": 141,
   "metadata": {},
   "outputs": [
    {
     "name": "stdout",
     "output_type": "stream",
     "text": [
      "Category of finite dimensional modules over Algebra of differentiable scalar fields on the 3-dimensional differentiable manifold S^3\n"
     ]
    }
   ],
   "source": [
    "print(XS3.category())"
   ]
  },
  {
   "cell_type": "markdown",
   "metadata": {},
   "source": [
    "As a free module, $\\mathfrak{X}(\\mathbb{S}^3)$ admits a basis, which is nothing but the global vector frame constructed above:"
   ]
  },
  {
   "cell_type": "code",
   "execution_count": 142,
   "metadata": {},
   "outputs": [
    {
     "data": {
      "text/html": [
       "<html><script type=\"math/tex; mode=display\">\\newcommand{\\Bold}[1]{\\mathbf{#1}}\\left(\\mathbb{S}^3, \\left(\\varepsilon_{1},\\varepsilon_{2},\\varepsilon_{3}\\right)\\right)</script></html>"
      ],
      "text/plain": [
       "Vector frame (S^3, (E_1,E_2,E_3))"
      ]
     },
     "execution_count": 142,
     "metadata": {},
     "output_type": "execute_result"
    }
   ],
   "source": [
    "XS3.default_basis()"
   ]
  },
  {
   "cell_type": "markdown",
   "metadata": {},
   "source": [
    "## Structure coefficients of the global frame\n",
    "\n",
    "On $U$, we may compute the **Lie brackets** $[\\varepsilon_i, \\varepsilon_j]$ of two vectors of the global frame:"
   ]
  },
  {
   "cell_type": "code",
   "execution_count": 143,
   "metadata": {},
   "outputs": [
    {
     "data": {
      "text/html": [
       "<html><script type=\"math/tex; mode=display\">\\newcommand{\\Bold}[1]{\\mathbf{#1}}\\left[\\varepsilon_{1},\\varepsilon_{2}\\right] = 2 \\varepsilon_{3}</script></html>"
      ],
      "text/plain": [
       "[E_1,E_2] = 2 E_3"
      ]
     },
     "execution_count": 143,
     "metadata": {},
     "output_type": "execute_result"
    }
   ],
   "source": [
    "E_U[1].bracket(E_U[2]).display(E_U)"
   ]
  },
  {
   "cell_type": "code",
   "execution_count": 144,
   "metadata": {},
   "outputs": [
    {
     "data": {
      "text/html": [
       "<html><script type=\"math/tex; mode=display\">\\newcommand{\\Bold}[1]{\\mathbf{#1}}\\left[\\varepsilon_{1},\\varepsilon_{3}\\right] = -2 \\varepsilon_{2}</script></html>"
      ],
      "text/plain": [
       "[E_1,E_3] = -2 E_2"
      ]
     },
     "execution_count": 144,
     "metadata": {},
     "output_type": "execute_result"
    }
   ],
   "source": [
    "E_U[1].bracket(E_U[3]).display(E_U)"
   ]
  },
  {
   "cell_type": "code",
   "execution_count": 145,
   "metadata": {},
   "outputs": [
    {
     "data": {
      "text/html": [
       "<html><script type=\"math/tex; mode=display\">\\newcommand{\\Bold}[1]{\\mathbf{#1}}\\left[\\varepsilon_{2},\\varepsilon_{3}\\right] = 2 \\varepsilon_{1}</script></html>"
      ],
      "text/plain": [
       "[E_2,E_3] = 2 E_1"
      ]
     },
     "execution_count": 145,
     "metadata": {},
     "output_type": "execute_result"
    }
   ],
   "source": [
    "E_U[2].bracket(E_U[3]).display(E_U)"
   ]
  },
  {
   "cell_type": "markdown",
   "metadata": {},
   "source": [
    "Equivalently, the structure coefficients of the frame $\\varepsilon$ are"
   ]
  },
  {
   "cell_type": "code",
   "execution_count": 146,
   "metadata": {},
   "outputs": [
    {
     "data": {
      "text/html": [
       "<html><script type=\"math/tex; mode=display\">\\newcommand{\\Bold}[1]{\\mathbf{#1}}\\verb|3-indices|\\phantom{\\verb!x!}\\verb|components|\\phantom{\\verb!x!}\\verb|w.r.t.|\\phantom{\\verb!x!}\\verb|Vector|\\phantom{\\verb!x!}\\verb|frame|\\phantom{\\verb!x!}\\verb|(U,|\\phantom{\\verb!x!}\\verb|(E_1,E_2,E_3)),|\\phantom{\\verb!x!}\\verb|with|\\phantom{\\verb!x!}\\verb|antisymmetry|\\phantom{\\verb!x!}\\verb|on|\\phantom{\\verb!x!}\\verb|the|\\phantom{\\verb!x!}\\verb|index|\\phantom{\\verb!x!}\\verb|positions|\\phantom{\\verb!x!}\\verb|(1,|\\phantom{\\verb!x!}\\verb|2)|</script></html>"
      ],
      "text/plain": [
       "3-indices components w.r.t. Vector frame (U, (E_1,E_2,E_3)), with antisymmetry on the index positions (1, 2)"
      ]
     },
     "execution_count": 146,
     "metadata": {},
     "output_type": "execute_result"
    }
   ],
   "source": [
    "C = E_U.structure_coeff(); C"
   ]
  },
  {
   "cell_type": "code",
   "execution_count": 147,
   "metadata": {},
   "outputs": [
    {
     "data": {
      "text/html": [
       "<html><script type=\"math/tex; mode=display\">\\newcommand{\\Bold}[1]{\\mathbf{#1}}\\begin{array}{lcl} C_{\\,1\\,2\\,3}^{\\phantom{\\, 1}\\phantom{\\, 2}\\phantom{\\, 3}} & = & 2 \\\\ C_{\\,1\\,3\\,2}^{\\phantom{\\, 1}\\phantom{\\, 3}\\phantom{\\, 2}} & = & -2 \\\\ C_{\\,2\\,1\\,3}^{\\phantom{\\, 2}\\phantom{\\, 1}\\phantom{\\, 3}} & = & -2 \\\\ C_{\\,2\\,3\\,1}^{\\phantom{\\, 2}\\phantom{\\, 3}\\phantom{\\, 1}} & = & 2 \\\\ C_{\\,3\\,1\\,2}^{\\phantom{\\, 3}\\phantom{\\, 1}\\phantom{\\, 2}} & = & 2 \\\\ C_{\\,3\\,2\\,1}^{\\phantom{\\, 3}\\phantom{\\, 2}\\phantom{\\, 1}} & = & -2 \\end{array}</script></html>"
      ],
      "text/plain": [
       "C_123 = 2 \n",
       "C_132 = -2 \n",
       "C_213 = -2 \n",
       "C_231 = 2 \n",
       "C_312 = 2 \n",
       "C_321 = -2 "
      ]
     },
     "execution_count": 147,
     "metadata": {},
     "output_type": "execute_result"
    }
   ],
   "source": [
    "C.display('C')"
   ]
  },
  {
   "cell_type": "markdown",
   "metadata": {},
   "source": [
    "By definition, the structure coefficients $C_{kij}$ obey the relation\n",
    "$[\\varepsilon_i, \\varepsilon_j] = C_{kij} \\, \\varepsilon_k$, as we can check:"
   ]
  },
  {
   "cell_type": "code",
   "execution_count": 148,
   "metadata": {},
   "outputs": [
    {
     "data": {
      "text/html": [
       "<html><script type=\"math/tex; mode=display\">\\newcommand{\\Bold}[1]{\\mathbf{#1}}\\mathrm{True}</script></html>"
      ],
      "text/plain": [
       "True"
      ]
     },
     "execution_count": 148,
     "metadata": {},
     "output_type": "execute_result"
    }
   ],
   "source": [
    "E_U[1].bracket(E_U[2]) == sum(C[[k,1,2]]*E_U[k] for k in S3.irange())"
   ]
  },
  {
   "cell_type": "markdown",
   "metadata": {},
   "source": [
    "## Tangent space at the unit element\n",
    "\n",
    "The Lie algebra of $\\mathbb{S}^3$ can be identified with the tangent space at the unit element $\\mathbf{1}$:"
   ]
  },
  {
   "cell_type": "code",
   "execution_count": 149,
   "metadata": {},
   "outputs": [
    {
     "data": {
      "text/html": [
       "<html><script type=\"math/tex; mode=display\">\\newcommand{\\Bold}[1]{\\mathbf{#1}}T_{\\mathbf{1}}\\,\\mathbb{S}^3</script></html>"
      ],
      "text/plain": [
       "Tangent space at Point 1 on the 3-dimensional differentiable manifold S^3"
      ]
     },
     "execution_count": 149,
     "metadata": {},
     "output_type": "execute_result"
    }
   ],
   "source": [
    "T1 = S3.tangent_space(One)\n",
    "T1"
   ]
  },
  {
   "cell_type": "markdown",
   "metadata": {},
   "source": [
    "The values taken by the global frame vectors at $\\mathbf{1}$ are"
   ]
  },
  {
   "cell_type": "code",
   "execution_count": 150,
   "metadata": {},
   "outputs": [
    {
     "data": {
      "text/html": [
       "<html><script type=\"math/tex; mode=display\">\\newcommand{\\Bold}[1]{\\mathbf{#1}}\\varepsilon_{1} = \\frac{1}{2} \\frac{\\partial}{\\partial x }</script></html>"
      ],
      "text/plain": [
       "E_1 = 1/2 d/dx"
      ]
     },
     "metadata": {},
     "output_type": "display_data"
    },
    {
     "data": {
      "text/html": [
       "<html><script type=\"math/tex; mode=display\">\\newcommand{\\Bold}[1]{\\mathbf{#1}}\\varepsilon_{2} = \\frac{1}{2} \\frac{\\partial}{\\partial y }</script></html>"
      ],
      "text/plain": [
       "E_2 = 1/2 d/dy"
      ]
     },
     "metadata": {},
     "output_type": "display_data"
    },
    {
     "data": {
      "text/html": [
       "<html><script type=\"math/tex; mode=display\">\\newcommand{\\Bold}[1]{\\mathbf{#1}}\\varepsilon_{3} = \\frac{1}{2} \\frac{\\partial}{\\partial z }</script></html>"
      ],
      "text/plain": [
       "E_3 = 1/2 d/dz"
      ]
     },
     "metadata": {},
     "output_type": "display_data"
    }
   ],
   "source": [
    "for i in S3.irange():\n",
    "    show(E[i].at(One).display())"
   ]
  },
  {
   "cell_type": "markdown",
   "metadata": {},
   "source": [
    "Each of these vectors belongs to $T_{\\mathbf{1}}\\mathbb{S}^3$:"
   ]
  },
  {
   "cell_type": "code",
   "execution_count": 151,
   "metadata": {},
   "outputs": [
    {
     "data": {
      "text/html": [
       "<html><script type=\"math/tex; mode=display\">\\newcommand{\\Bold}[1]{\\mathbf{#1}}T_{\\mathbf{1}}\\,\\mathbb{S}^3</script></html>"
      ],
      "text/plain": [
       "Tangent space at Point 1 on the 3-dimensional differentiable manifold S^3"
      ]
     },
     "execution_count": 151,
     "metadata": {},
     "output_type": "execute_result"
    }
   ],
   "source": [
    "E[1].at(One).parent()"
   ]
  },
  {
   "cell_type": "code",
   "execution_count": 152,
   "metadata": {},
   "outputs": [
    {
     "data": {
      "text/html": [
       "<html><script type=\"math/tex; mode=display\">\\newcommand{\\Bold}[1]{\\mathbf{#1}}\\mathrm{True}</script></html>"
      ],
      "text/plain": [
       "True"
      ]
     },
     "execution_count": 152,
     "metadata": {},
     "output_type": "execute_result"
    }
   ],
   "source": [
    "all([E[i].at(One).parent() is T1 for i in S3.irange()])"
   ]
  },
  {
   "cell_type": "markdown",
   "metadata": {},
   "source": [
    "The simple expressions of $(\\varepsilon_1, \\varepsilon_2, \\varepsilon_3)$ in terms of the basis $\\left(\\frac{\\partial}{\\partial x}, \\frac{\\partial}{\\partial y}, \\frac{\\partial}{\\partial z}\\right)$ of $T_{\\mathbf{1}}\\mathbb{S}^3$ induced by the stereographic coordinates stems from the fact that\n",
    "the $\\mathbb{R}^4$ vectors $(E_{\\mathbf{i}}, E_{\\mathbf{j}}, E_{\\mathbf{k}})$ coincide with \n",
    "the vectors $\\left(\\frac{\\partial}{\\partial X}, \\frac{\\partial}{\\partial Y}, \\frac{\\partial}{\\partial Z}\\right)$ at $\\Phi(\\mathbf{1})$:"
   ]
  },
  {
   "cell_type": "code",
   "execution_count": 153,
   "metadata": {},
   "outputs": [
    {
     "data": {
      "text/html": [
       "<html><script type=\"math/tex; mode=display\">\\newcommand{\\Bold}[1]{\\mathbf{#1}}E_{\\mathbf{i}} = \\frac{\\partial}{\\partial X }</script></html>"
      ],
      "text/plain": [
       "E_I = d/dX"
      ]
     },
     "execution_count": 153,
     "metadata": {},
     "output_type": "execute_result"
    }
   ],
   "source": [
    "EI.at(Phi(One)).display()"
   ]
  },
  {
   "cell_type": "code",
   "execution_count": 154,
   "metadata": {},
   "outputs": [
    {
     "data": {
      "text/html": [
       "<html><script type=\"math/tex; mode=display\">\\newcommand{\\Bold}[1]{\\mathbf{#1}}E_{\\mathbf{j}} = \\frac{\\partial}{\\partial Y }</script></html>"
      ],
      "text/plain": [
       "E_J = d/dY"
      ]
     },
     "execution_count": 154,
     "metadata": {},
     "output_type": "execute_result"
    }
   ],
   "source": [
    "EJ.at(Phi(One)).display()"
   ]
  },
  {
   "cell_type": "code",
   "execution_count": 155,
   "metadata": {},
   "outputs": [
    {
     "data": {
      "text/html": [
       "<html><script type=\"math/tex; mode=display\">\\newcommand{\\Bold}[1]{\\mathbf{#1}}E_{\\mathbf{k}} = \\frac{\\partial}{\\partial Z }</script></html>"
      ],
      "text/plain": [
       "E_K = d/dZ"
      ]
     },
     "execution_count": 155,
     "metadata": {},
     "output_type": "execute_result"
    }
   ],
   "source": [
    "EK.at(Phi(One)).display()"
   ]
  },
  {
   "cell_type": "markdown",
   "metadata": {},
   "source": [
    "The extra factor $1/2$, which appears in the above expressions of $(\\varepsilon_1, \\varepsilon_2, \\varepsilon_3)$, arises from the fact that the stereographic coordinates $(x,y,z)$ have been defined with respect to the hyperplane $T=0$ and not to the hyperplane $T=1$ (to which $\\Phi(\\mathbf{1})$ belongs). "
   ]
  },
  {
   "cell_type": "markdown",
   "metadata": {},
   "source": [
    "## Link with the Hopf coordinates\n",
    "\n",
    "The Hopf coordinates have been introduced in the worksheet [3-sphere: charts, quaternions and the Hopf fribration](http://nbviewer.jupyter.org/github/sagemanifolds/SageManifolds/blob/master/Worksheets/v1.2/SM_sphere_S3_Hopf.ipynb)."
   ]
  },
  {
   "cell_type": "code",
   "execution_count": 156,
   "metadata": {},
   "outputs": [],
   "source": [
    "B = U.open_subset('B', coord_def={stereoN.restrict(U): \n",
    "                                   [x^2+y^2!=0, x^2+y^2+z^2!=1, \n",
    "                                    (1-x^2-y^2-z^2)*x-2*y*z!=0]})"
   ]
  },
  {
   "cell_type": "code",
   "execution_count": 157,
   "metadata": {},
   "outputs": [
    {
     "data": {
      "text/html": [
       "<html><script type=\"math/tex; mode=display\">\\newcommand{\\Bold}[1]{\\mathbf{#1}}\\left(B,({\\eta}, {\\alpha}, {\\beta})\\right)</script></html>"
      ],
      "text/plain": [
       "Chart (B, (eta, alpha, beta))"
      ]
     },
     "execution_count": 157,
     "metadata": {},
     "output_type": "execute_result"
    }
   ],
   "source": [
    "Hcoord.<eta,alp,bet> = B.chart(r\"eta:(0,pi/2):\\eta alpha:(0,2*pi):\\alpha beta:(0,2*pi):\\beta\")\n",
    "Hcoord"
   ]
  },
  {
   "cell_type": "code",
   "execution_count": 158,
   "metadata": {},
   "outputs": [
    {
     "data": {
      "text/html": [
       "<html><script type=\"math/tex; mode=display\">\\newcommand{\\Bold}[1]{\\mathbf{#1}}\\left\\{\\begin{array}{lcl} x & = & \\frac{\\cos\\left({\\alpha} + {\\beta}\\right) \\sin\\left({\\eta}\\right)}{\\cos\\left({\\eta}\\right) \\sin\\left({\\alpha}\\right) + 1} \\\\ y & = & \\frac{\\sin\\left({\\alpha} + {\\beta}\\right) \\sin\\left({\\eta}\\right)}{\\cos\\left({\\eta}\\right) \\sin\\left({\\alpha}\\right) + 1} \\\\ z & = & \\frac{\\cos\\left({\\alpha}\\right) \\cos\\left({\\eta}\\right)}{\\cos\\left({\\eta}\\right) \\sin\\left({\\alpha}\\right) + 1} \\end{array}\\right.</script></html>"
      ],
      "text/plain": [
       "x = cos(alpha + beta)*sin(eta)/(cos(eta)*sin(alpha) + 1)\n",
       "y = sin(alpha + beta)*sin(eta)/(cos(eta)*sin(alpha) + 1)\n",
       "z = cos(alpha)*cos(eta)/(cos(eta)*sin(alpha) + 1)"
      ]
     },
     "execution_count": 158,
     "metadata": {},
     "output_type": "execute_result"
    }
   ],
   "source": [
    "Hcoord_to_stereoN = Hcoord.transition_map(\n",
    "                        stereoN.restrict(U),\n",
    "                        (sin(eta)*cos(alp+bet)/(1+cos(eta)*sin(alp)),\n",
    "                         sin(eta)*sin(alp+bet)/(1+cos(eta)*sin(alp)),\n",
    "                         cos(eta)*cos(alp)/(1+cos(eta)*sin(alp))))\n",
    "Hcoord_to_stereoN.display()"
   ]
  },
  {
   "cell_type": "code",
   "execution_count": 159,
   "metadata": {},
   "outputs": [
    {
     "data": {
      "text/html": [
       "<html><script type=\"math/tex; mode=display\">\\newcommand{\\Bold}[1]{\\mathbf{#1}}\\left\\{\\begin{array}{lcl} {\\eta} & = & \\arcsin\\left(\\frac{2 \\, \\sqrt{x^{2} + y^{2}}}{x^{2} + y^{2} + z^{2} + 1}\\right) \\\\ {\\alpha} & = & \\pi + \\arctan\\left(x^{2} + y^{2} + z^{2} - 1, -2 \\, z\\right) \\\\ {\\beta} & = & -\\arctan\\left(x^{2} + y^{2} + z^{2} - 1, -2 \\, z\\right) + \\arctan\\left(-y, -x\\right) \\end{array}\\right.</script></html>"
      ],
      "text/plain": [
       "eta = arcsin(2*sqrt(x^2 + y^2)/(x^2 + y^2 + z^2 + 1))\n",
       "alpha = pi + arctan2(x^2 + y^2 + z^2 - 1, -2*z)\n",
       "beta = -arctan2(x^2 + y^2 + z^2 - 1, -2*z) + arctan2(-y, -x)"
      ]
     },
     "execution_count": 159,
     "metadata": {},
     "output_type": "execute_result"
    }
   ],
   "source": [
    "Hcoord_to_stereoN.set_inverse(asin(2*sqrt(x^2+y^2)/(1+x^2+y^2+z^2)),\n",
    "                              atan2(x^2+y^2+z^2-1, -2*z) + pi,\n",
    "                              atan2(-y,-x) - atan2(x^2+y^2+z^2-1, -2*z))\n",
    "Hcoord_to_stereoN.inverse().display()"
   ]
  },
  {
   "cell_type": "markdown",
   "metadata": {},
   "source": [
    "Let us express the vectors of the global frame $\\varepsilon$ in terms of the vector frame $\\left(\\frac{\\partial}{\\partial\\eta}, \\frac{\\partial}{\\partial\\alpha}, \\frac{\\partial}{\\partial\\beta}\\right)$ associated with the Hopf coordinates:"
   ]
  },
  {
   "cell_type": "code",
   "execution_count": 160,
   "metadata": {},
   "outputs": [
    {
     "data": {
      "text/html": [
       "<html><script type=\"math/tex; mode=display\">\\newcommand{\\Bold}[1]{\\mathbf{#1}}\\varepsilon_{1} = \\left( \\frac{{\\left(2 \\, \\cos\\left({\\alpha}\\right) \\cos\\left({\\beta}\\right) \\sin\\left({\\alpha}\\right) + {\\left(2 \\, \\cos\\left({\\alpha}\\right)^{2} - 1\\right)} \\sin\\left({\\beta}\\right)\\right)} \\sin\\left({\\eta}\\right)}{\\sqrt{\\cos\\left({\\eta}\\right) + 1} \\sqrt{-\\cos\\left({\\eta}\\right) + 1}} \\right) \\frac{\\partial}{\\partial {\\eta} } + \\frac{{\\left(2 \\, \\cos\\left({\\alpha}\\right) \\sin\\left({\\alpha}\\right) \\sin\\left({\\beta}\\right) + {\\left(2 \\, \\sin\\left({\\alpha}\\right)^{2} - 1\\right)} \\cos\\left({\\beta}\\right)\\right)} \\sin\\left({\\eta}\\right)}{\\cos\\left({\\eta}\\right)} \\frac{\\partial}{\\partial {\\alpha} } + \\left( -\\frac{2 \\, \\cos\\left({\\alpha}\\right) \\sin\\left({\\alpha}\\right) \\sin\\left({\\beta}\\right) - {\\left(2 \\, \\cos\\left({\\alpha}\\right)^{2} - 1\\right)} \\cos\\left({\\beta}\\right)}{\\cos\\left({\\eta}\\right) \\sin\\left({\\eta}\\right)} \\right) \\frac{\\partial}{\\partial {\\beta} }</script></html>"
      ],
      "text/plain": [
       "E_1 = (2*cos(alpha)*cos(beta)*sin(alpha) + (2*cos(alpha)^2 - 1)*sin(beta))*sin(eta)/(sqrt(cos(eta) + 1)*sqrt(-cos(eta) + 1)) d/deta + (2*cos(alpha)*sin(alpha)*sin(beta) + (2*sin(alpha)^2 - 1)*cos(beta))*sin(eta)/cos(eta) d/dalpha - (2*cos(alpha)*sin(alpha)*sin(beta) - (2*cos(alpha)^2 - 1)*cos(beta))/(cos(eta)*sin(eta)) d/dbeta"
      ]
     },
     "execution_count": 160,
     "metadata": {},
     "output_type": "execute_result"
    }
   ],
   "source": [
    "E_U[1].display(Hcoord.frame(), Hcoord)"
   ]
  },
  {
   "cell_type": "markdown",
   "metadata": {},
   "source": [
    "We notice that the components can be simplified to $\\varepsilon_1^{\\ \\,  \\eta}=\\sin(2\\alpha+\\beta)$, $\\varepsilon_1^{\\ \\,  \\alpha}=-\\cos(2\\alpha+\\beta)\\tan\\eta$ and \n",
    "$\\varepsilon_1^{\\ \\,  \\beta}=\\cos(2\\alpha+\\beta)/(\\cos\\eta\\sin\\eta)$. Hence, we substitute these values via the method `add_comp` (NB: the method `set_comp` would erase the other sets of components):"
   ]
  },
  {
   "cell_type": "code",
   "execution_count": 161,
   "metadata": {},
   "outputs": [
    {
     "data": {
      "text/html": [
       "<html><script type=\"math/tex; mode=display\">\\newcommand{\\Bold}[1]{\\mathbf{#1}}\\varepsilon_{1} = \\sin\\left(2 \\, {\\alpha} + {\\beta}\\right) \\frac{\\partial}{\\partial {\\eta} } -\\cos\\left(2 \\, {\\alpha} + {\\beta}\\right) \\tan\\left({\\eta}\\right) \\frac{\\partial}{\\partial {\\alpha} } + \\frac{\\cos\\left(2 \\, {\\alpha} + {\\beta}\\right)}{\\cos\\left({\\eta}\\right) \\sin\\left({\\eta}\\right)} \\frac{\\partial}{\\partial {\\beta} }</script></html>"
      ],
      "text/plain": [
       "E_1 = sin(2*alpha + beta) d/deta - cos(2*alpha + beta)*tan(eta) d/dalpha + cos(2*alpha + beta)/(cos(eta)*sin(eta)) d/dbeta"
      ]
     },
     "execution_count": 161,
     "metadata": {},
     "output_type": "execute_result"
    }
   ],
   "source": [
    "E_U[1].add_comp(Hcoord.frame())[1, Hcoord] = sin(2*alp+bet)\n",
    "E_U[1].add_comp(Hcoord.frame())[2, Hcoord] = -cos(2*alp+bet) * tan(eta)\n",
    "E_U[1].add_comp(Hcoord.frame())[3, Hcoord] = cos(2*alp+bet) / (cos(eta)*sin(eta))\n",
    "E_U[1].display(Hcoord.frame(), Hcoord)"
   ]
  },
  {
   "cell_type": "markdown",
   "metadata": {},
   "source": [
    "Similarly, the components of $\\varepsilon_2$ require some simplification \"by hand\":"
   ]
  },
  {
   "cell_type": "code",
   "execution_count": 162,
   "metadata": {},
   "outputs": [
    {
     "data": {
      "text/html": [
       "<html><script type=\"math/tex; mode=display\">\\newcommand{\\Bold}[1]{\\mathbf{#1}}\\varepsilon_{2} = \\left( \\frac{{\\left(2 \\, \\cos\\left({\\alpha}\\right) \\sin\\left({\\alpha}\\right) \\sin\\left({\\beta}\\right) + {\\left(2 \\, \\sin\\left({\\alpha}\\right)^{2} - 1\\right)} \\cos\\left({\\beta}\\right)\\right)} \\sin\\left({\\eta}\\right)}{\\sqrt{\\cos\\left({\\eta}\\right) + 1} \\sqrt{-\\cos\\left({\\eta}\\right) + 1}} \\right) \\frac{\\partial}{\\partial {\\eta} } -\\frac{{\\left(2 \\, \\cos\\left({\\alpha}\\right) \\cos\\left({\\beta}\\right) \\sin\\left({\\alpha}\\right) - {\\left(2 \\, \\sin\\left({\\alpha}\\right)^{2} - 1\\right)} \\sin\\left({\\beta}\\right)\\right)} \\sin\\left({\\eta}\\right)}{\\cos\\left({\\eta}\\right)} \\frac{\\partial}{\\partial {\\alpha} } + \\left( \\frac{2 \\, \\cos\\left({\\alpha}\\right) \\cos\\left({\\beta}\\right) \\sin\\left({\\alpha}\\right) + {\\left(2 \\, \\cos\\left({\\alpha}\\right)^{2} - 1\\right)} \\sin\\left({\\beta}\\right)}{\\cos\\left({\\eta}\\right) \\sin\\left({\\eta}\\right)} \\right) \\frac{\\partial}{\\partial {\\beta} }</script></html>"
      ],
      "text/plain": [
       "E_2 = (2*cos(alpha)*sin(alpha)*sin(beta) + (2*sin(alpha)^2 - 1)*cos(beta))*sin(eta)/(sqrt(cos(eta) + 1)*sqrt(-cos(eta) + 1)) d/deta - (2*cos(alpha)*cos(beta)*sin(alpha) - (2*sin(alpha)^2 - 1)*sin(beta))*sin(eta)/cos(eta) d/dalpha + (2*cos(alpha)*cos(beta)*sin(alpha) + (2*cos(alpha)^2 - 1)*sin(beta))/(cos(eta)*sin(eta)) d/dbeta"
      ]
     },
     "execution_count": 162,
     "metadata": {},
     "output_type": "execute_result"
    }
   ],
   "source": [
    "E_U[2].display(Hcoord.frame(), Hcoord)"
   ]
  },
  {
   "cell_type": "code",
   "execution_count": 163,
   "metadata": {},
   "outputs": [
    {
     "data": {
      "text/html": [
       "<html><script type=\"math/tex; mode=display\">\\newcommand{\\Bold}[1]{\\mathbf{#1}}\\varepsilon_{2} = -\\cos\\left(2 \\, {\\alpha} + {\\beta}\\right) \\frac{\\partial}{\\partial {\\eta} } -\\sin\\left(2 \\, {\\alpha} + {\\beta}\\right) \\tan\\left({\\eta}\\right) \\frac{\\partial}{\\partial {\\alpha} } + \\frac{\\sin\\left(2 \\, {\\alpha} + {\\beta}\\right)}{\\cos\\left({\\eta}\\right) \\sin\\left({\\eta}\\right)} \\frac{\\partial}{\\partial {\\beta} }</script></html>"
      ],
      "text/plain": [
       "E_2 = -cos(2*alpha + beta) d/deta - sin(2*alpha + beta)*tan(eta) d/dalpha + sin(2*alpha + beta)/(cos(eta)*sin(eta)) d/dbeta"
      ]
     },
     "execution_count": 163,
     "metadata": {},
     "output_type": "execute_result"
    }
   ],
   "source": [
    "E_U[2].add_comp(Hcoord.frame())[1, Hcoord] = -cos(2*alp+bet)\n",
    "E_U[2].add_comp(Hcoord.frame())[2, Hcoord] = -sin(2*alp+bet) * tan(eta)\n",
    "E_U[2].add_comp(Hcoord.frame())[3, Hcoord] = sin(2*alp+bet) / (cos(eta)*sin(eta))\n",
    "E_U[2].display(Hcoord.frame(), Hcoord)"
   ]
  },
  {
   "cell_type": "markdown",
   "metadata": {},
   "source": [
    "The expression of $\\varepsilon_3$ in terms of the vector frame $\\left(\\frac{\\partial}{\\partial\\eta}, \\frac{\\partial}{\\partial\\alpha}, \\frac{\\partial}{\\partial\\beta}\\right)$ is particularly simple:"
   ]
  },
  {
   "cell_type": "code",
   "execution_count": 164,
   "metadata": {},
   "outputs": [
    {
     "data": {
      "text/html": [
       "<html><script type=\"math/tex; mode=display\">\\newcommand{\\Bold}[1]{\\mathbf{#1}}\\varepsilon_{3} = -\\frac{\\partial}{\\partial {\\alpha} }</script></html>"
      ],
      "text/plain": [
       "E_3 = -d/dalpha"
      ]
     },
     "execution_count": 164,
     "metadata": {},
     "output_type": "execute_result"
    }
   ],
   "source": [
    "E_U[3].display(Hcoord.frame(), Hcoord)"
   ]
  },
  {
   "cell_type": "markdown",
   "metadata": {},
   "source": [
    "This is not surprising since $\\varepsilon_3$ has been defined as the vector field induced by the right translation by $\\mathbf{k}$ and the **Hopf fibration** considered the worksheet [3-sphere: charts, quaternions and the Hopf fribration](http://nbviewer.jupyter.org/github/sagemanifolds/SageManifolds/blob/master/Worksheets/v1.2/SM_sphere_S3_Hopf.ipynb) has been defined with respect to $\\mathbf{k}$ as \n",
    "$$ \n",
    "    \\begin{array}{cccc}\n",
    "    h:& \\mathbb{S}^3 & \\to & \\mathbb{S}^2\\\\\n",
    "      &  q & \\mapsto & q \\mathbf{k} \\bar{q}\n",
    "    \\end{array}\n",
    "$$    \n",
    "More precisely, we have shown in the above worksheet that $\\frac{\\partial}{\\partial\\alpha}$ is tangent to the $\\mathbb{S}^1$ fibers of $h$ and it is easy to see that the field lines of $\\varepsilon_3$ coincide with these fibers: let $q\\in\\mathbb{S}^3$ and $q'\\in\\mathbb{S}^3$ be a point infinitely close to $q$ on a field line of $\\varepsilon_3$: \n",
    "$$\n",
    "    q' = q + \\lambda \\left. \\varepsilon_3 \\right| _q = q + \\lambda q \\, \\mathbf{k}, \n",
    "$$\n",
    "where $\\lambda = o(1)$ is an infinitesimal real number and the second equality stems from the very definition of $\\varepsilon_3 = \\varepsilon_{\\mathbf{k}}$ as the vector field associated with the right translation by $\\mathbf{k}$. We have then\n",
    "$$\n",
    "        \\overline{q'} = \\overline{q + \\lambda q \\, \\mathbf{k}} \n",
    "                      = \\bar{q} + \\lambda \\bar{\\mathbf{k}} \\bar{q}\n",
    "                      = \\bar{q} - \\lambda \\mathbf{k} \\bar{q}\n",
    "$$\n",
    "so that\n",
    "$$\n",
    "    h(q') = (q + \\lambda q \\, \\mathbf{k})\\mathbf{k}(\\bar{q} - \\lambda \\mathbf{k} \\bar{q}) . \n",
    "$$\n",
    "Expanding and using $\\mathbf{k}^2 = -1$ and $q\\bar{q} = 1$, we find \n",
    "$h(q') = h(q)$ at first order in $\\lambda$, which shows that $q$ and $q'$ belong to the same fiber of $h$. \n",
    "\n",
    "Accordingly the field lines of $\\varepsilon_3$ are circles, as we can check on a (projection) plot in the plane $z=0$:"
   ]
  },
  {
   "cell_type": "code",
   "execution_count": 165,
   "metadata": {},
   "outputs": [
    {
     "data": {
      "image/png": "[encoded data removed]",
      "text/plain": [
       "Graphics object consisting of 80 graphics primitives"
      ]
     },
     "metadata": {},
     "output_type": "display_data"
    }
   ],
   "source": [
    "graph_z0 = E[3].plot(chart=stereoN, ambient_coords=(x,y),\n",
    "                     fixed_coords={z: 0}, max_range=1, scale=0.5)\n",
    "show(graph_z0, aspect_ratio=1)"
   ]
  },
  {
   "cell_type": "markdown",
   "metadata": {},
   "source": [
    "or in the plane $y=0$:"
   ]
  },
  {
   "cell_type": "code",
   "execution_count": 166,
   "metadata": {},
   "outputs": [
    {
     "data": {
      "image/png": "[encoded data removed]",
      "text/plain": [
       "Graphics object consisting of 121 graphics primitives"
      ]
     },
     "metadata": {},
     "output_type": "display_data"
    }
   ],
   "source": [
    "graph_y0 = E[3].plot(chart=stereoN, ambient_coords=(x,z),\n",
    "                     fixed_coords={y: 0}, number_values=11,\n",
    "                     ranges={x: (-2,2), z: (-1,1)}, scale=0.4)\n",
    "show(graph_y0, aspect_ratio=1)"
   ]
  },
  {
   "cell_type": "markdown",
   "metadata": {},
   "source": [
    "A 3D view of $\\varepsilon_3$, in terms of the stereographic coordinates $(x,y,z)$:"
   ]
  },
  {
   "cell_type": "code",
   "execution_count": 167,
   "metadata": {},
   "outputs": [
    {
     "data": {
      "text/html": [
       "\n",
       "<iframe srcdoc=\"<!DOCTYPE html>\n",
       "<html>\n",
       "<head>\n",
       "<title></title>\n",
       "<meta charset=&quot;utf-8&quot;>\n",
       "<meta name=viewport content=&quot;width=device-width, user-scalable=no, minimum-scale=1.0, maximum-scale=1.0&quot;>\n",
       "<style>\n",
       "\n",
       "    body { margin: 0px; overflow: hidden; }\n",
       "  \n",
       "</style>\n",
       "</head>\n",
       "\n",
       "<body>\n",
       "\n",
       "<script src=&quot;https://cdn.rawgit.com/mrdoob/three.js/r80/build/three.min.js&quot;></script>\n",
       "<script src=&quot;https://cdn.rawgit.com/mrdoob/three.js/r80/examples/js/controls/OrbitControls.js&quot;></script>\n",
       "            \n",
       "<script>\n",
       "\n",
       "    var scene = new THREE.Scene();\n",
       "\n",
       "    var renderer = new THREE.WebGLRenderer( { antialias: true } );\n",
       "    renderer.setSize( window.innerWidth, window.innerHeight );\n",
       "    renderer.setClearColor( 0xffffff, 1 );\n",
       "    document.body.appendChild( renderer.domElement );\n",
       "\n",
       "    var options = {&quot;aspect_ratio&quot;: [1.0, 1.0, 1.0], &quot;decimals&quot;: 2, &quot;frame&quot;: true, &quot;axes&quot;: false, &quot;axes_labels&quot;: [&quot;x&quot;, &quot;y&quot;, &quot;z&quot;]};\n",
       "\n",
       "    // When animations are supported by the viewer, the value 'false'\n",
       "    // will be replaced with an option set in Python by the user\n",
       "    var animate = false; // options.animate;\n",
       "\n",
       "    var b = [{&quot;x&quot;:-1.5, &quot;y&quot;:-1.5, &quot;z&quot;:-1.06}, {&quot;x&quot;:1.5, &quot;y&quot;:1.5, &quot;z&quot;:1.27307849774}]; // bounds\n",
       "\n",
       "    if ( b[0].x === b[1].x ) {\n",
       "        b[0].x -= 1;\n",
       "        b[1].x += 1;\n",
       "    }\n",
       "    if ( b[0].y === b[1].y ) {\n",
       "        b[0].y -= 1;\n",
       "        b[1].y += 1;\n",
       "    }\n",
       "    if ( b[0].z === b[1].z ) {\n",
       "        b[0].z -= 1;\n",
       "        b[1].z += 1;\n",
       "    }\n",
       "\n",
       "    var rRange = Math.sqrt( Math.pow( b[1].x - b[0].x, 2 )\n",
       "                            + Math.pow( b[1].x - b[0].x, 2 ) );\n",
       "    var xRange = b[1].x - b[0].x;\n",
       "    var yRange = b[1].y - b[0].y;\n",
       "    var zRange = b[1].z - b[0].z;\n",
       "\n",
       "    var ar = options.aspect_ratio;\n",
       "    var a = [ ar[0], ar[1], ar[2] ]; // aspect multipliers\n",
       "    var autoAspect = 2.5;\n",
       "    if ( zRange > autoAspect * rRange && a[2] === 1 ) a[2] = autoAspect * rRange / zRange;\n",
       "\n",
       "    var xMid = ( b[0].x + b[1].x ) / 2;\n",
       "    var yMid = ( b[0].y + b[1].y ) / 2;\n",
       "    var zMid = ( b[0].z + b[1].z ) / 2;\n",
       "\n",
       "    var box = new THREE.Geometry();\n",
       "    box.vertices.push( new THREE.Vector3( a[0]*b[0].x, a[1]*b[0].y, a[2]*b[0].z ) );\n",
       "    box.vertices.push( new THREE.Vector3( a[0]*b[1].x, a[1]*b[1].y, a[2]*b[1].z ) );\n",
       "    var boxMesh = new THREE.LineSegments( box );\n",
       "    if ( options.frame ) scene.add( new THREE.BoxHelper( boxMesh, 'black' ) );\n",
       "\n",
       "    if ( options.axes_labels ) {\n",
       "        var d = options.decimals; // decimals\n",
       "        var offsetRatio = 0.1;\n",
       "        var al = options.axes_labels;\n",
       "\n",
       "        var offset = offsetRatio * a[1]*( b[1].y - b[0].y );\n",
       "        var xm = xMid.toFixed(d);\n",
       "        if ( /^-0.?0*$/.test(xm) ) xm = xm.substr(1);\n",
       "        addLabel( al[0] + '=' + xm, a[0]*xMid, a[1]*b[1].y+offset, a[2]*b[0].z );\n",
       "        addLabel( ( b[0].x ).toFixed(d), a[0]*b[0].x, a[1]*b[1].y+offset, a[2]*b[0].z );\n",
       "        addLabel( ( b[1].x ).toFixed(d), a[0]*b[1].x, a[1]*b[1].y+offset, a[2]*b[0].z );\n",
       "\n",
       "        var offset = offsetRatio * a[0]*( b[1].x - b[0].x );\n",
       "        var ym = yMid.toFixed(d);\n",
       "        if ( /^-0.?0*$/.test(ym) ) ym = ym.substr(1);\n",
       "        addLabel( al[1] + '=' + ym, a[0]*b[1].x+offset, a[1]*yMid, a[2]*b[0].z );\n",
       "        addLabel( ( b[0].y ).toFixed(d), a[0]*b[1].x+offset, a[1]*b[0].y, a[2]*b[0].z );\n",
       "        addLabel( ( b[1].y ).toFixed(d), a[0]*b[1].x+offset, a[1]*b[1].y, a[2]*b[0].z );\n",
       "\n",
       "        var offset = offsetRatio * a[1]*( b[1].y - b[0].y );\n",
       "        var zm = zMid.toFixed(d);\n",
       "        if ( /^-0.?0*$/.test(zm) ) zm = zm.substr(1);\n",
       "        addLabel( al[2] + '=' + zm, a[0]*b[1].x, a[1]*b[0].y-offset, a[2]*zMid );\n",
       "        addLabel( ( b[0].z ).toFixed(d), a[0]*b[1].x, a[1]*b[0].y-offset, a[2]*b[0].z );\n",
       "        addLabel( ( b[1].z ).toFixed(d), a[0]*b[1].x, a[1]*b[0].y-offset, a[2]*b[1].z );\n",
       "    }\n",
       "\n",
       "    function addLabel( text, x, y, z ) {\n",
       "        var fontsize = 14;\n",
       "\n",
       "        var canvas = document.createElement( 'canvas' );\n",
       "        canvas.width = 128;\n",
       "        canvas.height = 32; // powers of two\n",
       "\n",
       "        var context = canvas.getContext( '2d' );\n",
       "        context.fillStyle = 'black';\n",
       "        context.font = fontsize + 'px monospace';\n",
       "        context.textAlign = 'center';\n",
       "        context.textBaseline = 'middle';\n",
       "        context.fillText( text, .5*canvas.width, .5*canvas.height );\n",
       "\n",
       "        var texture = new THREE.Texture( canvas );\n",
       "        texture.needsUpdate = true;\n",
       "\n",
       "        var sprite = new THREE.Sprite( new THREE.SpriteMaterial( { map: texture } ) );\n",
       "        sprite.position.set( x, y, z );\n",
       "        sprite.scale.set( 1, .25 ); // ratio of width to height\n",
       "        scene.add( sprite );\n",
       "    }\n",
       "\n",
       "    if ( options.axes ) scene.add( new THREE.AxisHelper( Math.min( a[0]*b[1].x, a[1]*b[1].y, a[2]*b[1].z ) ) );\n",
       "\n",
       "    var camera = new THREE.PerspectiveCamera( 45, window.innerWidth / window.innerHeight, 0.1, 1000 );\n",
       "    camera.up.set( 0, 0, 1 );\n",
       "    camera.position.set( a[0]*(xMid+xRange), a[1]*(yMid+yRange), a[2]*(zMid+zRange) );\n",
       "\n",
       "    var lights = [{&quot;x&quot;:-5, &quot;y&quot;:3, &quot;z&quot;:0, &quot;color&quot;:&quot;#7f7f7f&quot;, &quot;parent&quot;:&quot;camera&quot;}];\n",
       "    for ( var i=0 ; i < lights.length ; i++ ) {\n",
       "        var light = new THREE.DirectionalLight( lights[i].color, 1 );\n",
       "        light.position.set( a[0]*lights[i].x, a[1]*lights[i].y, a[2]*lights[i].z );\n",
       "        if ( lights[i].parent === 'camera' ) {\n",
       "            light.target.position.set( a[0]*xMid, a[1]*yMid, a[2]*zMid );\n",
       "            scene.add( light.target );\n",
       "            camera.add( light );\n",
       "        } else scene.add( light );\n",
       "    }\n",
       "    scene.add( camera );\n",
       "\n",
       "    var ambient = {&quot;color&quot;:&quot;#7f7f7f&quot;};\n",
       "    scene.add( new THREE.AmbientLight( ambient.color, 1 ) );\n",
       "\n",
       "    var controls = new THREE.OrbitControls( camera, renderer.domElement );\n",
       "    controls.target.set( a[0]*xMid, a[1]*yMid, a[2]*zMid );\n",
       "    controls.addEventListener( 'change', function() { if ( !animate ) render(); } );\n",
       "\n",
       "    window.addEventListener( 'resize', function() {\n",
       "        \n",
       "        renderer.setSize( window.innerWidth, window.innerHeight );\n",
       "        camera.aspect = window.innerWidth / window.innerHeight;\n",
       "        camera.updateProjectionMatrix();\n",
       "        if ( !animate ) render();\n",
       "        \n",
       "    } );\n",
       "\n",
       "    var texts = [];\n",
       "    for ( var i=0 ; i < texts.length ; i++ )\n",
       "        addLabel( texts[i].text, a[0]*texts[i].x, a[1]*texts[i].y, a[2]*texts[i].z );\n",
       "\n",
       "    var points = [];\n",
       "    for ( var i=0 ; i < points.length ; i++ ) addPoint( points[i] );\n",
       "\n",
       "    function addPoint( json ) {\n",
       "        var geometry = new THREE.Geometry();\n",
       "        var v = json.point;\n",
       "        geometry.vertices.push( new THREE.Vector3( a[0]*v[0], a[1]*v[1], a[2]*v[2] ) );\n",
       "\n",
       "        var canvas = document.createElement( 'canvas' );\n",
       "        canvas.width = 128;\n",
       "        canvas.height = 128;\n",
       "\n",
       "        var context = canvas.getContext( '2d' );\n",
       "        context.arc( 64, 64, 64, 0, 2 * Math.PI );\n",
       "        context.fillStyle = json.color;\n",
       "        context.fill();\n",
       "\n",
       "        var texture = new THREE.Texture( canvas );\n",
       "        texture.needsUpdate = true;\n",
       "\n",
       "        var transparent = json.opacity < 1 ? true : false;\n",
       "        var material = new THREE.PointsMaterial( { size: json.size/100, map: texture,\n",
       "                                                   transparent: transparent, opacity: json.opacity,\n",
       "                                                   alphaTest: .1 } );\n",
       "\n",
       "        var c = geometry.center().multiplyScalar( -1 );\n",
       "        var mesh = new THREE.Points( geometry, material );\n",
       "        mesh.position.set( c.x, c.y, c.z );\n",
       "        scene.add( mesh );\n",
       "    }\n",
       "\n",
       "    var lines = [];\n",
       "    for ( var i=0 ; i < lines.length ; i++ ) addLine( lines[i] );\n",
       "\n",
       "    function addLine( json ) {\n",
       "        var geometry = new THREE.Geometry();\n",
       "        for ( var i=0 ; i < json.points.length - 1 ; i++ ) {\n",
       "            var v = json.points[i];\n",
       "            geometry.vertices.push( new THREE.Vector3( a[0]*v[0], a[1]*v[1], a[2]*v[2] ) );\n",
       "            var v = json.points[i+1];\n",
       "            geometry.vertices.push( new THREE.Vector3( a[0]*v[0], a[1]*v[1], a[2]*v[2] ) );\n",
       "        }\n",
       "\n",
       "        var transparent = json.opacity < 1 ? true : false;\n",
       "        var material = new THREE.LineBasicMaterial( { color: json.color, linewidth: json.linewidth,\n",
       "                                                      transparent: transparent, opacity: json.opacity } );\n",
       "\n",
       "        var c = geometry.center().multiplyScalar( -1 );\n",
       "        var mesh = new THREE.LineSegments( geometry, material );\n",
       "        mesh.position.set( c.x, c.y, c.z );\n",
       "        scene.add( mesh );\n",
       "    }\n",
       "\n",
       "    var surfaces = [{&quot;vertices&quot;:[{&quot;x&quot;:-1,&quot;y&quot;:-0.68,&quot;z&quot;:-1},{&quot;x&quot;:-0.980979,&quot;y&quot;:-0.68,&quot;z&quot;:-1.00618},{&quot;x&quot;:-1,&quot;y&quot;:-0.68,&quot;z&quot;:-1.02},{&quot;x&quot;:-0.988244,&quot;y&quot;:-0.68,&quot;z&quot;:-0.98382},{&quot;x&quot;:-1.01176,&quot;y&quot;:-0.68,&quot;z&quot;:-0.98382},{&quot;x&quot;:-1.01902,&quot;y&quot;:-0.68,&quot;z&quot;:-1.00618},{&quot;x&quot;:-0.980979,&quot;y&quot;:-1,&quot;z&quot;:-1.00618},{&quot;x&quot;:-1,&quot;y&quot;:-1,&quot;z&quot;:-1.02},{&quot;x&quot;:-0.988244,&quot;y&quot;:-1,&quot;z&quot;:-0.98382},{&quot;x&quot;:-1.01176,&quot;y&quot;:-1,&quot;z&quot;:-0.98382},{&quot;x&quot;:-1.01902,&quot;y&quot;:-1,&quot;z&quot;:-1.00618},{&quot;x&quot;:-1,&quot;y&quot;:-1,&quot;z&quot;:-1}], &quot;faces&quot;:[[0,1,2],[0,3,1],[0,4,3],[0,5,4],[0,2,5],[2,1,6,7],[1,3,8,6],[3,4,9,8],[4,5,10,9],[5,2,7,10],[7,6,11],[6,8,11],[8,9,11],[9,10,11],[10,7,11]], &quot;color&quot;:&quot;#0000ff&quot;, &quot;opacity&quot;:1},{&quot;vertices&quot;:[{&quot;x&quot;:-1,&quot;y&quot;:-0.5,&quot;z&quot;:-1},{&quot;x&quot;:-0.942937,&quot;y&quot;:-0.68,&quot;z&quot;:-1.01854},{&quot;x&quot;:-1,&quot;y&quot;:-0.68,&quot;z&quot;:-1.06},{&quot;x&quot;:-0.964733,&quot;y&quot;:-0.68,&quot;z&quot;:-0.951459},{&quot;x&quot;:-1.03527,&quot;y&quot;:-0.68,&quot;z&quot;:-0.951459},{&quot;x&quot;:-1.05706,&quot;y&quot;:-0.68,&quot;z&quot;:-1.01854},{&quot;x&quot;:-1,&quot;y&quot;:-0.68,&quot;z&quot;:-1}], &quot;faces&quot;:[[0,1,2],[0,3,1],[0,4,3],[0,5,4],[0,2,5],[2,1,6],[1,3,6],[3,4,6],[4,5,6],[5,2,6]], &quot;color&quot;:&quot;#0000ff&quot;, &quot;opacity&quot;:1},{&quot;vertices&quot;:[{&quot;x&quot;:-1.04849,&quot;y&quot;:-0.757527,&quot;z&quot;:-0.707079},{&quot;x&quot;:-1.02894,&quot;y&quot;:-0.754,&quot;z&quot;:-0.709378},{&quot;x&quot;:-1.04403,&quot;y&quot;:-0.759859,&quot;z&quot;:-0.726434},{&quot;x&quot;:-1.04088,&quot;y&quot;:-0.753015,&quot;z&quot;:-0.689145},{&quot;x&quot;:-1.06334,&quot;y&quot;:-0.758265,&quot;z&quot;:-0.693696},{&quot;x&quot;:-1.06529,&quot;y&quot;:-0.762496,&quot;z&quot;:-0.716741},{&quot;x&quot;:-0.980448,&quot;y&quot;:-0.996473,&quot;z&quot;:-0.668966},{&quot;x&quot;:-0.995533,&quot;y&quot;:-1.00233,&quot;z&quot;:-0.686022},{&quot;x&quot;:-0.992383,&quot;y&quot;:-0.995488,&quot;z&quot;:-0.648733},{&quot;x&quot;:-1.01484,&quot;y&quot;:-1.00074,&quot;z&quot;:-0.653284},{&quot;x&quot;:-1.01679,&quot;y&quot;:-1.00497,&quot;z&quot;:-0.676329},{&quot;x&quot;:-1,&quot;y&quot;:-1,&quot;z&quot;:-0.666667}], &quot;faces&quot;:[[0,1,2],[0,3,1],[0,4,3],[0,5,4],[0,2,5],[2,1,6,7],[1,3,8,6],[3,4,9,8],[4,5,10,9],[5,2,7,10],[7,6,11],[6,8,11],[8,9,11],[9,10,11],[10,7,11]], &quot;color&quot;:&quot;#0000ff&quot;, &quot;opacity&quot;:1},{&quot;vertices&quot;:[{&quot;x&quot;:-1.08333,&quot;y&quot;:-0.583333,&quot;z&quot;:-0.736111},{&quot;x&quot;:-0.989839,&quot;y&quot;:-0.746946,&quot;z&quot;:-0.713977},{&quot;x&quot;:-1.0351,&quot;y&quot;:-0.764524,&quot;z&quot;:-0.765143},{&quot;x&quot;:-1.02564,&quot;y&quot;:-0.74399,&quot;z&quot;:-0.653278},{&quot;x&quot;:-1.09303,&quot;y&quot;:-0.759742,&quot;z&quot;:-0.66693},{&quot;x&quot;:-1.09887,&quot;y&quot;:-0.772433,&quot;z&quot;:-0.736066},{&quot;x&quot;:-1.04849,&quot;y&quot;:-0.757527,&quot;z&quot;:-0.707079}], &quot;faces&quot;:[[0,1,2],[0,3,1],[0,4,3],[0,5,4],[0,2,5],[2,1,6],[1,3,6],[3,4,6],[4,5,6],[5,2,6]], &quot;color&quot;:&quot;#0000ff&quot;, &quot;opacity&quot;:1},{&quot;vertices&quot;:[{&quot;x&quot;:-1.08952,&quot;y&quot;:-0.820952,&quot;z&quot;:-0.393016},{&quot;x&quot;:-1.07222,&quot;y&quot;:-0.811347,&quot;z&quot;:-0.390161},{&quot;x&quot;:-1.07924,&quot;y&quot;:-0.821524,&quot;z&quot;:-0.410159},{&quot;x&quot;:-1.08911,&quot;y&quot;:-0.814444,&quot;z&quot;:-0.374109},{&quot;x&quot;:-1.10658,&quot;y&quot;:-0.826536,&quot;z&quot;:-0.384185},{&quot;x&quot;:-1.10048,&quot;y&quot;:-0.830911,&quot;z&quot;:-0.406465},{&quot;x&quot;:-0.982692,&quot;y&quot;:-0.990394,&quot;z&quot;:-0.330479},{&quot;x&quot;:-0.989714,&quot;y&quot;:-1.00057,&quot;z&quot;:-0.350476},{&quot;x&quot;:-0.999589,&quot;y&quot;:-0.993492,&quot;z&quot;:-0.314426},{&quot;x&quot;:-1.01705,&quot;y&quot;:-1.00558,&quot;z&quot;:-0.324503},{&quot;x&quot;:-1.01095,&quot;y&quot;:-1.00996,&quot;z&quot;:-0.346783},{&quot;x&quot;:-1,&quot;y&quot;:-1,&quot;z&quot;:-0.333333}], &quot;faces&quot;:[[0,1,2],[0,3,1],[0,4,3],[0,5,4],[0,2,5],[2,1,6,7],[1,3,8,6],[3,4,9,8],[4,5,10,9],[5,2,7,10],[7,6,11],[6,8,11],[8,9,11],[9,10,11],[10,7,11]], &quot;color&quot;:&quot;#0000ff&quot;, &quot;opacity&quot;:1},{&quot;vertices&quot;:[{&quot;x&quot;:-1.16667,&quot;y&quot;:-0.666667,&quot;z&quot;:-0.444444},{&quot;x&quot;:-1.0376,&quot;y&quot;:-0.792135,&quot;z&quot;:-0.384452},{&quot;x&quot;:-1.05867,&quot;y&quot;:-0.822667,&quot;z&quot;:-0.444444},{&quot;x&quot;:-1.08829,&quot;y&quot;:-0.801428,&quot;z&quot;:-0.336295},{&quot;x&quot;:-1.14069,&quot;y&quot;:-0.837703,&quot;z&quot;:-0.366524},{&quot;x&quot;:-1.12238,&quot;y&quot;:-0.850829,&quot;z&quot;:-0.433364},{&quot;x&quot;:-1.08952,&quot;y&quot;:-0.820952,&quot;z&quot;:-0.393016}], &quot;faces&quot;:[[0,1,2],[0,3,1],[0,4,3],[0,5,4],[0,2,5],[2,1,6],[1,3,6],[3,4,6],[4,5,6],[5,2,6]], &quot;color&quot;:&quot;#0000ff&quot;, &quot;opacity&quot;:1},{&quot;vertices&quot;:[{&quot;x&quot;:-1.13,&quot;y&quot;:-0.87,&quot;z&quot;:-0.065},{&quot;x&quot;:-1.11954,&quot;y&quot;:-0.855259,&quot;z&quot;:-0.0564395},{&quot;x&quot;:-1.11667,&quot;y&quot;:-0.863333,&quot;z&quot;:-0.0783333},{&quot;x&quot;:-1.13687,&quot;y&quot;:-0.867556,&quot;z&quot;:-0.046376},{&quot;x&quot;:-1.14471,&quot;y&quot;:-0.883231,&quot;z&quot;:-0.0620502},{&quot;x&quot;:-1.13222,&quot;y&quot;:-0.880621,&quot;z&quot;:-0.081801},{&quot;x&quot;:-0.989539,&quot;y&quot;:-0.985259,&quot;z&quot;:0.00856053},{&quot;x&quot;:-0.986667,&quot;y&quot;:-0.993333,&quot;z&quot;:-0.0133333},{&quot;x&quot;:-1.00687,&quot;y&quot;:-0.997556,&quot;z&quot;:0.018624},{&quot;x&quot;:-1.01471,&quot;y&quot;:-1.01323,&quot;z&quot;:0.00294976},{&quot;x&quot;:-1.00222,&quot;y&quot;:-1.01062,&quot;z&quot;:-0.016801},{&quot;x&quot;:-1,&quot;y&quot;:-1,&quot;z&quot;:0}], &quot;faces&quot;:[[0,1,2],[0,3,1],[0,4,3],[0,5,4],[0,2,5],[2,1,6,7],[1,3,8,6],[3,4,9,8],[4,5,10,9],[5,2,7,10],[7,6,11],[6,8,11],[8,9,11],[9,10,11],[10,7,11]], &quot;color&quot;:&quot;#0000ff&quot;, &quot;opacity&quot;:1},{&quot;vertices&quot;:[{&quot;x&quot;:-1.25,&quot;y&quot;:-0.75,&quot;z&quot;:-0.125},{&quot;x&quot;:-1.09862,&quot;y&quot;:-0.825777,&quot;z&quot;:-0.0393184},{&quot;x&quot;:-1.09,&quot;y&quot;:-0.85,&quot;z&quot;:-0.105},{&quot;x&quot;:-1.1506,&quot;y&quot;:-0.862669,&quot;z&quot;:-0.00912791},{&quot;x&quot;:-1.17412,&quot;y&quot;:-0.909692,&quot;z&quot;:-0.0561507},{&quot;x&quot;:-1.13666,&quot;y&quot;:-0.901862,&quot;z&quot;:-0.115403},{&quot;x&quot;:-1.13,&quot;y&quot;:-0.87,&quot;z&quot;:-0.065}], &quot;faces&quot;:[[0,1,2],[0,3,1],[0,4,3],[0,5,4],[0,2,5],[2,1,6],[1,3,6],[3,4,6],[4,5,6],[5,2,6]], &quot;color&quot;:&quot;#0000ff&quot;, &quot;opacity&quot;:1},{&quot;vertices&quot;:[{&quot;x&quot;:-1.17905,&quot;y&quot;:-0.910476,&quot;z&quot;:0.273651},{&quot;x&quot;:-1.17641,&quot;y&quot;:-0.896103,&quot;z&quot;:0.287306},{&quot;x&quot;:-1.16876,&quot;y&quot;:-0.895619,&quot;z&quot;:0.265079},{&quot;x&quot;:-1.1877,&quot;y&quot;:-0.91645,&quot;z&quot;:0.290662},{&quot;x&quot;:-1.18703,&quot;y&quot;:-0.928542,&quot;z&quot;:0.270509},{&quot;x&quot;:-1.17533,&quot;y&quot;:-0.915667,&quot;z&quot;:0.254698},{&quot;x&quot;:-0.997365,&quot;y&quot;:-0.985627,&quot;z&quot;:0.346988},{&quot;x&quot;:-0.989714,&quot;y&quot;:-0.985143,&quot;z&quot;:0.324762},{&quot;x&quot;:-1.00866,&quot;y&quot;:-1.00597,&quot;z&quot;:0.350344},{&quot;x&quot;:-1.00799,&quot;y&quot;:-1.01807,&quot;z&quot;:0.330191},{&quot;x&quot;:-0.996278,&quot;y&quot;:-1.00519,&quot;z&quot;:0.314381},{&quot;x&quot;:-1,&quot;y&quot;:-1,&quot;z&quot;:0.333333}], &quot;faces&quot;:[[0,1,2],[0,3,1],[0,4,3],[0,5,4],[0,2,5],[2,1,6,7],[1,3,8,6],[3,4,9,8],[4,5,10,9],[5,2,7,10],[7,6,11],[6,8,11],[8,9,11],[9,10,11],[10,7,11]], &quot;color&quot;:&quot;#0000ff&quot;, &quot;opacity&quot;:1},{&quot;vertices&quot;:[{&quot;x&quot;:-1.33333,&quot;y&quot;:-0.833333,&quot;z&quot;:0.222222},{&quot;x&quot;:-1.17114,&quot;y&quot;:-0.867356,&quot;z&quot;:0.314616},{&quot;x&quot;:-1.14819,&quot;y&quot;:-0.865905,&quot;z&quot;:0.247937},{&quot;x&quot;:-1.20502,&quot;y&quot;:-0.928398,&quot;z&quot;:0.324683},{&quot;x&quot;:-1.203,&quot;y&quot;:-0.964673,&quot;z&quot;:0.264225},{&quot;x&quot;:-1.16788,&quot;y&quot;:-0.92605,&quot;z&quot;:0.216793},{&quot;x&quot;:-1.17905,&quot;y&quot;:-0.910476,&quot;z&quot;:0.273651}], &quot;faces&quot;:[[0,1,2],[0,3,1],[0,4,3],[0,5,4],[0,2,5],[2,1,6],[1,3,6],[3,4,6],[4,5,6],[5,2,6]], &quot;color&quot;:&quot;#0000ff&quot;, &quot;opacity&quot;:1},{&quot;vertices&quot;:[{&quot;x&quot;:-1.24247,&quot;y&quot;:-0.951505,&quot;z&quot;:0.626254},{&quot;x&quot;:-1.24331,&quot;y&quot;:-0.941353,&quot;z&quot;:0.643466},{&quot;x&quot;:-1.23801,&quot;y&quot;:-0.932399,&quot;z&quot;:0.622384},{&quot;x&quot;:-1.24746,&quot;y&quot;:-0.964338,&quot;z&quot;:0.640763},{&quot;x&quot;:-1.24472,&quot;y&quot;:-0.969588,&quot;z&quot;:0.61801},{&quot;x&quot;:-1.23887,&quot;y&quot;:-0.949849,&quot;z&quot;:0.606651},{&quot;x&quot;:-1.00084,&quot;y&quot;:-0.989848,&quot;z&quot;:0.683878},{&quot;x&quot;:-0.995533,&quot;y&quot;:-0.980893,&quot;z&quot;:0.662796},{&quot;x&quot;:-1.00498,&quot;y&quot;:-1.01283,&quot;z&quot;:0.681175},{&quot;x&quot;:-1.00224,&quot;y&quot;:-1.01808,&quot;z&quot;:0.658422},{&quot;x&quot;:-0.996401,&quot;y&quot;:-0.998344,&quot;z&quot;:0.647063},{&quot;x&quot;:-1,&quot;y&quot;:-1,&quot;z&quot;:0.666667}], &quot;faces&quot;:[[0,1,2],[0,3,1],[0,4,3],[0,5,4],[0,2,5],[2,1,6,7],[1,3,8,6],[3,4,9,8],[4,5,10,9],[5,2,7,10],[7,6,11],[6,8,11],[8,9,11],[9,10,11],[10,7,11]], &quot;color&quot;:&quot;#0000ff&quot;, &quot;opacity&quot;:1},{&quot;vertices&quot;:[{&quot;x&quot;:-1.41667,&quot;y&quot;:-0.916667,&quot;z&quot;:0.597222},{&quot;x&quot;:-1.24499,&quot;y&quot;:-0.921049,&quot;z&quot;:0.677889},{&quot;x&quot;:-1.22907,&quot;y&quot;:-0.894185,&quot;z&quot;:0.614642},{&quot;x&quot;:-1.25743,&quot;y&quot;:-0.990002,&quot;z&quot;:0.669779},{&quot;x&quot;:-1.2492,&quot;y&quot;:-1.00575,&quot;z&quot;:0.60152},{&quot;x&quot;:-1.23168,&quot;y&quot;:-0.946536,&quot;z&quot;:0.567443},{&quot;x&quot;:-1.24247,&quot;y&quot;:-0.951505,&quot;z&quot;:0.626254}], &quot;faces&quot;:[[0,1,2],[0,3,1],[0,4,3],[0,5,4],[0,2,5],[2,1,6],[1,3,6],[3,4,6],[4,5,6],[5,2,6]], &quot;color&quot;:&quot;#0000ff&quot;, &quot;opacity&quot;:1},{&quot;vertices&quot;:[{&quot;x&quot;:-1.32,&quot;y&quot;:-1,&quot;z&quot;:1},{&quot;x&quot;:-1.32,&quot;y&quot;:-0.99382,&quot;z&quot;:1.01902},{&quot;x&quot;:-1.32,&quot;y&quot;:-0.98,&quot;z&quot;:1},{&quot;x&quot;:-1.32,&quot;y&quot;:-1.01618,&quot;z&quot;:1.01176},{&quot;x&quot;:-1.32,&quot;y&quot;:-1.01618,&quot;z&quot;:0.988244},{&quot;x&quot;:-1.32,&quot;y&quot;:-0.99382,&quot;z&quot;:0.980979},{&quot;x&quot;:-1,&quot;y&quot;:-0.99382,&quot;z&quot;:1.01902},{&quot;x&quot;:-1,&quot;y&quot;:-0.98,&quot;z&quot;:1},{&quot;x&quot;:-1,&quot;y&quot;:-1.01618,&quot;z&quot;:1.01176},{&quot;x&quot;:-1,&quot;y&quot;:-1.01618,&quot;z&quot;:0.988244},{&quot;x&quot;:-1,&quot;y&quot;:-0.99382,&quot;z&quot;:0.980979},{&quot;x&quot;:-1,&quot;y&quot;:-1,&quot;z&quot;:1}], &quot;faces&quot;:[[0,1,2],[0,3,1],[0,4,3],[0,5,4],[0,2,5],[2,1,6,7],[1,3,8,6],[3,4,9,8],[4,5,10,9],[5,2,7,10],[7,6,11],[6,8,11],[8,9,11],[9,10,11],[10,7,11]], &quot;color&quot;:&quot;#0000ff&quot;, &quot;opacity&quot;:1},{&quot;vertices&quot;:[{&quot;x&quot;:-1.5,&quot;y&quot;:-1,&quot;z&quot;:1},{&quot;x&quot;:-1.32,&quot;y&quot;:-0.981459,&quot;z&quot;:1.05706},{&quot;x&quot;:-1.32,&quot;y&quot;:-0.94,&quot;z&quot;:1},{&quot;x&quot;:-1.32,&quot;y&quot;:-1.04854,&quot;z&quot;:1.03527},{&quot;x&quot;:-1.32,&quot;y&quot;:-1.04854,&quot;z&quot;:0.964733},{&quot;x&quot;:-1.32,&quot;y&quot;:-0.981459,&quot;z&quot;:0.942937},{&quot;x&quot;:-1.32,&quot;y&quot;:-1,&quot;z&quot;:1}], &quot;faces&quot;:[[0,1,2],[0,3,1],[0,4,3],[0,5,4],[0,2,5],[2,1,6],[1,3,6],[3,4,6],[4,5,6],[5,2,6]], &quot;color&quot;:&quot;#0000ff&quot;, &quot;opacity&quot;:1},{&quot;vertices&quot;:[{&quot;x&quot;:-0.951505,&quot;y&quot;:-0.424194,&quot;z&quot;:-0.959588},{&quot;x&quot;:-0.934095,&quot;y&quot;:-0.426065,&quot;z&quot;:-0.96925},{&quot;x&quot;:-0.954731,&quot;y&quot;:-0.420323,&quot;z&quot;:-0.978943},{&quot;x&quot;:-0.937519,&quot;y&quot;:-0.429221,&quot;z&quot;:-0.946205},{&quot;x&quot;:-0.960272,&quot;y&quot;:-0.425429,&quot;z&quot;:-0.941654},{&quot;x&quot;:-0.97091,&quot;y&quot;:-0.419929,&quot;z&quot;:-0.961887},{&quot;x&quot;:-0.982589,&quot;y&quot;:-0.668538,&quot;z&quot;:-1.00966},{&quot;x&quot;:-1.00323,&quot;y&quot;:-0.662796,&quot;z&quot;:-1.01935},{&quot;x&quot;:-0.986014,&quot;y&quot;:-0.671694,&quot;z&quot;:-0.986617},{&quot;x&quot;:-1.00877,&quot;y&quot;:-0.667902,&quot;z&quot;:-0.982066},{&quot;x&quot;:-1.0194,&quot;y&quot;:-0.662403,&quot;z&quot;:-1.0023},{&quot;x&quot;:-1,&quot;y&quot;:-0.666667,&quot;z&quot;:-1}], &quot;faces&quot;:[[0,1,2],[0,3,1],[0,4,3],[0,5,4],[0,2,5],[2,1,6,7],[1,3,8,6],[3,4,9,8],[4,5,10,9],[5,2,7,10],[7,6,11],[6,8,11],[8,9,11],[9,10,11],[10,7,11]], &quot;color&quot;:&quot;#0000ff&quot;, &quot;opacity&quot;:1},{&quot;vertices&quot;:[{&quot;x&quot;:-0.916667,&quot;y&quot;:-0.25,&quot;z&quot;:-0.930556},{&quot;x&quot;:-0.899273,&quot;y&quot;:-0.429809,&quot;z&quot;:-0.988575},{&quot;x&quot;:-0.961183,&quot;y&quot;:-0.412581,&quot;z&quot;:-1.01765},{&quot;x&quot;:-0.909547,&quot;y&quot;:-0.439277,&quot;z&quot;:-0.919439},{&quot;x&quot;:-0.977806,&quot;y&quot;:-0.4279,&quot;z&quot;:-0.905787},{&quot;x&quot;:-1.00972,&quot;y&quot;:-0.411401,&quot;z&quot;:-0.966486},{&quot;x&quot;:-0.951505,&quot;y&quot;:-0.424194,&quot;z&quot;:-0.959588}], &quot;faces&quot;:[[0,1,2],[0,3,1],[0,4,3],[0,5,4],[0,2,5],[2,1,6],[1,3,6],[3,4,6],[4,5,6],[5,2,6]], &quot;color&quot;:&quot;#0000ff&quot;, &quot;opacity&quot;:1},{&quot;vertices&quot;:[{&quot;x&quot;:-1,&quot;y&quot;:-0.485556,&quot;z&quot;:-0.666667},{&quot;x&quot;:-0.980979,&quot;y&quot;:-0.485556,&quot;z&quot;:-0.672847},{&quot;x&quot;:-1,&quot;y&quot;:-0.485556,&quot;z&quot;:-0.686667},{&quot;x&quot;:-0.988244,&quot;y&quot;:-0.485556,&quot;z&quot;:-0.650486},{&quot;x&quot;:-1.01176,&quot;y&quot;:-0.485556,&quot;z&quot;:-0.650486},{&quot;x&quot;:-1.01902,&quot;y&quot;:-0.485556,&quot;z&quot;:-0.672847},{&quot;x&quot;:-0.980979,&quot;y&quot;:-0.666667,&quot;z&quot;:-0.672847},{&quot;x&quot;:-1,&quot;y&quot;:-0.666667,&quot;z&quot;:-0.686667},{&quot;x&quot;:-0.988244,&quot;y&quot;:-0.666667,&quot;z&quot;:-0.650486},{&quot;x&quot;:-1.01176,&quot;y&quot;:-0.666667,&quot;z&quot;:-0.650486},{&quot;x&quot;:-1.01902,&quot;y&quot;:-0.666667,&quot;z&quot;:-0.672847},{&quot;x&quot;:-1,&quot;y&quot;:-0.666667,&quot;z&quot;:-0.666667}], &quot;faces&quot;:[[0,1,2],[0,3,1],[0,4,3],[0,5,4],[0,2,5],[2,1,6,7],[1,3,8,6],[3,4,9,8],[4,5,10,9],[5,2,7,10],[7,6,11],[6,8,11],[8,9,11],[9,10,11],[10,7,11]], &quot;color&quot;:&quot;#0000ff&quot;, &quot;opacity&quot;:1},{&quot;vertices&quot;:[{&quot;x&quot;:-1,&quot;y&quot;:-0.305556,&quot;z&quot;:-0.666667},{&quot;x&quot;:-0.942937,&quot;y&quot;:-0.485556,&quot;z&quot;:-0.685208},{&quot;x&quot;:-1,&quot;y&quot;:-0.485556,&quot;z&quot;:-0.726667},{&quot;x&quot;:-0.964733,&quot;y&quot;:-0.485556,&quot;z&quot;:-0.618126},{&quot;x&quot;:-1.03527,&quot;y&quot;:-0.485556,&quot;z&quot;:-0.618126},{&quot;x&quot;:-1.05706,&quot;y&quot;:-0.485556,&quot;z&quot;:-0.685208},{&quot;x&quot;:-1,&quot;y&quot;:-0.485556,&quot;z&quot;:-0.666667}], &quot;faces&quot;:[[0,1,2],[0,3,1],[0,4,3],[0,5,4],[0,2,5],[2,1,6],[1,3,6],[3,4,6],[4,5,6],[5,2,6]], &quot;color&quot;:&quot;#0000ff&quot;, &quot;opacity&quot;:1},{&quot;vertices&quot;:[{&quot;x&quot;:-1.03638,&quot;y&quot;:-0.533285,&quot;z&quot;:-0.351522},{&quot;x&quot;:-1.01707,&quot;y&quot;:-0.528149,&quot;z&quot;:-0.352471},{&quot;x&quot;:-1.03064,&quot;y&quot;:-0.534329,&quot;z&quot;:-0.370652},{&quot;x&quot;:-1.03018,&quot;y&quot;:-0.529067,&quot;z&quot;:-0.332978},{&quot;x&quot;:-1.05186,&quot;y&quot;:-0.535814,&quot;z&quot;:-0.339112},{&quot;x&quot;:-1.05214,&quot;y&quot;:-0.539066,&quot;z&quot;:-0.362395},{&quot;x&quot;:-0.980694,&quot;y&quot;:-0.661531,&quot;z&quot;:-0.334283},{&quot;x&quot;:-0.994261,&quot;y&quot;:-0.66771,&quot;z&quot;:-0.352464},{&quot;x&quot;:-0.993807,&quot;y&quot;:-0.662449,&quot;z&quot;:-0.31479},{&quot;x&quot;:-1.01548,&quot;y&quot;:-0.669196,&quot;z&quot;:-0.320923},{&quot;x&quot;:-1.01576,&quot;y&quot;:-0.672447,&quot;z&quot;:-0.344207},{&quot;x&quot;:-1,&quot;y&quot;:-0.666667,&quot;z&quot;:-0.333333}], &quot;faces&quot;:[[0,1,2],[0,3,1],[0,4,3],[0,5,4],[0,2,5],[2,1,6,7],[1,3,8,6],[3,4,9,8],[4,5,10,9],[5,2,7,10],[7,6,11],[6,8,11],[8,9,11],[9,10,11],[10,7,11]], &quot;color&quot;:&quot;#0000ff&quot;, &quot;opacity&quot;:1},{&quot;vertices&quot;:[{&quot;x&quot;:-1.08333,&quot;y&quot;:-0.361111,&quot;z&quot;:-0.375},{&quot;x&quot;:-0.978459,&quot;y&quot;:-0.517878,&quot;z&quot;:-0.354371},{&quot;x&quot;:-1.01916,&quot;y&quot;:-0.536415,&quot;z&quot;:-0.408913},{&quot;x&quot;:-1.0178,&quot;y&quot;:-0.520632,&quot;z&quot;:-0.295891},{&quot;x&quot;:-1.08281,&quot;y&quot;:-0.540873,&quot;z&quot;:-0.314291},{&quot;x&quot;:-1.08365,&quot;y&quot;:-0.550627,&quot;z&quot;:-0.384143},{&quot;x&quot;:-1.03638,&quot;y&quot;:-0.533285,&quot;z&quot;:-0.351522}], &quot;faces&quot;:[[0,1,2],[0,3,1],[0,4,3],[0,5,4],[0,2,5],[2,1,6],[1,3,6],[3,4,6],[4,5,6],[5,2,6]], &quot;color&quot;:&quot;#0000ff&quot;, &quot;opacity&quot;:1},{&quot;vertices&quot;:[{&quot;x&quot;:-1.06848,&quot;y&quot;:-0.563939,&quot;z&quot;:-0.0228283},{&quot;x&quot;:-1.05301,&quot;y&quot;:-0.552441,&quot;z&quot;:-0.0175098},{&quot;x&quot;:-1.05758,&quot;y&quot;:-0.560303,&quot;z&quot;:-0.0391919},{&quot;x&quot;:-1.06983,&quot;y&quot;:-0.560469,&quot;z&quot;:-0.00317762},{&quot;x&quot;:-1.08479,&quot;y&quot;:-0.573293,&quot;z&quot;:-0.016002},{&quot;x&quot;:-1.07722,&quot;y&quot;:-0.573191,&quot;z&quot;:-0.0382601},{&quot;x&quot;:-0.984525,&quot;y&quot;:-0.655168,&quot;z&quot;:0.00531852},{&quot;x&quot;:-0.989091,&quot;y&quot;:-0.66303,&quot;z&quot;:-0.0163636},{&quot;x&quot;:-1.00134,&quot;y&quot;:-0.663196,&quot;z&quot;:0.0196507},{&quot;x&quot;:-1.01631,&quot;y&quot;:-0.676021,&quot;z&quot;:0.00682626},{&quot;x&quot;:-1.00873,&quot;y&quot;:-0.675918,&quot;z&quot;:-0.0154318},{&quot;x&quot;:-1,&quot;y&quot;:-0.666667,&quot;z&quot;:0}], &quot;faces&quot;:[[0,1,2],[0,3,1],[0,4,3],[0,5,4],[0,2,5],[2,1,6,7],[1,3,8,6],[3,4,9,8],[4,5,10,9],[5,2,7,10],[7,6,11],[6,8,11],[8,9,11],[9,10,11],[10,7,11]], &quot;color&quot;:&quot;#0000ff&quot;, &quot;opacity&quot;:1},{&quot;vertices&quot;:[{&quot;x&quot;:-1.16667,&quot;y&quot;:-0.416667,&quot;z&quot;:-0.0555556},{&quot;x&quot;:-1.02206,&quot;y&quot;:-0.529443,&quot;z&quot;:-0.00687272},{&quot;x&quot;:-1.03576,&quot;y&quot;:-0.55303,&quot;z&quot;:-0.0719192},{&quot;x&quot;:-1.07252,&quot;y&quot;:-0.553528,&quot;z&quot;:0.0361237},{&quot;x&quot;:-1.1174,&quot;y&quot;:-0.592002,&quot;z&quot;:-0.00234951},{&quot;x&quot;:-1.09468,&quot;y&quot;:-0.591694,&quot;z&quot;:-0.0691237},{&quot;x&quot;:-1.06848,&quot;y&quot;:-0.563939,&quot;z&quot;:-0.0228283}], &quot;faces&quot;:[[0,1,2],[0,3,1],[0,4,3],[0,5,4],[0,2,5],[2,1,6],[1,3,6],[3,4,6],[4,5,6],[5,2,6]], &quot;color&quot;:&quot;#0000ff&quot;, &quot;opacity&quot;:1},{&quot;vertices&quot;:[{&quot;x&quot;:-1.10913,&quot;y&quot;:-0.581787,&quot;z&quot;:0.315145},{&quot;x&quot;:-1.10012,&quot;y&quot;:-0.56782,&quot;z&quot;:0.326269},{&quot;x&quot;:-1.09817,&quot;y&quot;:-0.570309,&quot;z&quot;:0.302971},{&quot;x&quot;:-1.11452,&quot;y&quot;:-0.584633,&quot;z&quot;:0.334194},{&quot;x&quot;:-1.12147,&quot;y&quot;:-0.597514,&quot;z&quot;:0.315794},{&quot;x&quot;:-1.11137,&quot;y&quot;:-0.588661,&quot;z&quot;:0.296497},{&quot;x&quot;:-0.990991,&quot;y&quot;:-0.652699,&quot;z&quot;:0.344457},{&quot;x&quot;:-0.989043,&quot;y&quot;:-0.655188,&quot;z&quot;:0.321159},{&quot;x&quot;:-1.00539,&quot;y&quot;:-0.669513,&quot;z&quot;:0.352382},{&quot;x&quot;:-1.01234,&quot;y&quot;:-0.682393,&quot;z&quot;:0.333982},{&quot;x&quot;:-1.00224,&quot;y&quot;:-0.67354,&quot;z&quot;:0.314685},{&quot;x&quot;:-1,&quot;y&quot;:-0.666667,&quot;z&quot;:0.333333}], &quot;faces&quot;:[[0,1,2],[0,3,1],[0,4,3],[0,5,4],[0,2,5],[2,1,6,7],[1,3,8,6],[3,4,9,8],[4,5,10,9],[5,2,7,10],[7,6,11],[6,8,11],[8,9,11],[9,10,11],[10,7,11]], &quot;color&quot;:&quot;#0000ff&quot;, &quot;opacity&quot;:1},{&quot;vertices&quot;:[{&quot;x&quot;:-1.25,&quot;y&quot;:-0.472222,&quot;z&quot;:0.291667},{&quot;x&quot;:-1.0821,&quot;y&quot;:-0.539886,&quot;z&quot;:0.348517},{&quot;x&quot;:-1.07626,&quot;y&quot;:-0.547353,&quot;z&quot;:0.278623},{&quot;x&quot;:-1.1253,&quot;y&quot;:-0.590326,&quot;z&quot;:0.372292},{&quot;x&quot;:-1.14615,&quot;y&quot;:-0.628966,&quot;z&quot;:0.317091},{&quot;x&quot;:-1.11584,&quot;y&quot;:-0.602407,&quot;z&quot;:0.259201},{&quot;x&quot;:-1.10913,&quot;y&quot;:-0.581787,&quot;z&quot;:0.315145}], &quot;faces&quot;:[[0,1,2],[0,3,1],[0,4,3],[0,5,4],[0,2,5],[2,1,6],[1,3,6],[3,4,6],[4,5,6],[5,2,6]], &quot;color&quot;:&quot;#0000ff&quot;, &quot;opacity&quot;:1},{&quot;vertices&quot;:[{&quot;x&quot;:-1.16718,&quot;y&quot;:-0.597009,&quot;z&quot;:0.666667},{&quot;x&quot;:-1.16217,&quot;y&quot;:-0.584989,&quot;z&quot;:0.681848},{&quot;x&quot;:-1.16008,&quot;y&quot;:-0.579967,&quot;z&quot;:0.658974},{&quot;x&quot;:-1.17118,&quot;y&quot;:-0.606622,&quot;z&quot;:0.683741},{&quot;x&quot;:-1.17466,&quot;y&quot;:-0.614969,&quot;z&quot;:0.662038},{&quot;x&quot;:-1.1678,&quot;y&quot;:-0.598496,&quot;z&quot;:0.646732},{&quot;x&quot;:-0.994992,&quot;y&quot;:-0.654648,&quot;z&quot;:0.681848},{&quot;x&quot;:-0.992899,&quot;y&quot;:-0.649625,&quot;z&quot;:0.658974},{&quot;x&quot;:-1.00401,&quot;y&quot;:-0.67628,&quot;z&quot;:0.683741},{&quot;x&quot;:-1.00748,&quot;y&quot;:-0.684627,&quot;z&quot;:0.662038},{&quot;x&quot;:-1.00062,&quot;y&quot;:-0.668154,&quot;z&quot;:0.646732},{&quot;x&quot;:-1,&quot;y&quot;:-0.666667,&quot;z&quot;:0.666667}], &quot;faces&quot;:[[0,1,2],[0,3,1],[0,4,3],[0,5,4],[0,2,5],[2,1,6,7],[1,3,8,6],[3,4,9,8],[4,5,10,9],[5,2,7,10],[7,6,11],[6,8,11],[8,9,11],[9,10,11],[10,7,11]], &quot;color&quot;:&quot;#0000ff&quot;, &quot;opacity&quot;:1},{&quot;vertices&quot;:[{&quot;x&quot;:-1.33333,&quot;y&quot;:-0.527778,&quot;z&quot;:0.666667},{&quot;x&quot;:-1.15216,&quot;y&quot;:-0.560951,&quot;z&quot;:0.712209},{&quot;x&quot;:-1.14588,&quot;y&quot;:-0.545884,&quot;z&quot;:0.64359},{&quot;x&quot;:-1.1792,&quot;y&quot;:-0.625848,&quot;z&quot;:0.717891},{&quot;x&quot;:-1.18963,&quot;y&quot;:-0.65089,&quot;z&quot;:0.652782},{&quot;x&quot;:-1.16904,&quot;y&quot;:-0.601469,&quot;z&quot;:0.606862},{&quot;x&quot;:-1.16718,&quot;y&quot;:-0.597009,&quot;z&quot;:0.666667}], &quot;faces&quot;:[[0,1,2],[0,3,1],[0,4,3],[0,5,4],[0,2,5],[2,1,6],[1,3,6],[3,4,6],[4,5,6],[5,2,6]], &quot;color&quot;:&quot;#0000ff&quot;, &quot;opacity&quot;:1},{&quot;vertices&quot;:[{&quot;x&quot;:-1.24247,&quot;y&quot;:-0.618172,&quot;z&quot;:1.04041},{&quot;x&quot;:-1.23779,&quot;y&quot;:-0.609123,&quot;z&quot;:1.05762},{&quot;x&quot;:-1.23925,&quot;y&quot;:-0.598817,&quot;z&quot;:1.03654},{&quot;x&quot;:-1.24281,&quot;y&quot;:-0.631934,&quot;z&quot;:1.05492},{&quot;x&quot;:-1.24736,&quot;y&quot;:-0.635727,&quot;z&quot;:1.03217},{&quot;x&quot;:-1.24516,&quot;y&quot;:-0.615259,&quot;z&quot;:1.02081},{&quot;x&quot;:-0.995322,&quot;y&quot;:-0.657618,&quot;z&quot;:1.01721},{&quot;x&quot;:-0.996774,&quot;y&quot;:-0.647312,&quot;z&quot;:0.996129},{&quot;x&quot;:-1.00033,&quot;y&quot;:-0.680429,&quot;z&quot;:1.01451},{&quot;x&quot;:-1.00489,&quot;y&quot;:-0.684221,&quot;z&quot;:0.991755},{&quot;x&quot;:-1.00268,&quot;y&quot;:-0.663754,&quot;z&quot;:0.980396},{&quot;x&quot;:-1,&quot;y&quot;:-0.666667,&quot;z&quot;:1}], &quot;faces&quot;:[[0,1,2],[0,3,1],[0,4,3],[0,5,4],[0,2,5],[2,1,6,7],[1,3,8,6],[3,4,9,8],[4,5,10,9],[5,2,7,10],[7,6,11],[6,8,11],[8,9,11],[9,10,11],[10,7,11]], &quot;color&quot;:&quot;#0000ff&quot;, &quot;opacity&quot;:1},{&quot;vertices&quot;:[{&quot;x&quot;:-1.41667,&quot;y&quot;:-0.583333,&quot;z&quot;:1.06944},{&quot;x&quot;:-1.22844,&quot;y&quot;:-0.591025,&quot;z&quot;:1.09205},{&quot;x&quot;:-1.2328,&quot;y&quot;:-0.560108,&quot;z&quot;:1.0288},{&quot;x&quot;:-1.24348,&quot;y&quot;:-0.659459,&quot;z&quot;:1.08394},{&quot;x&quot;:-1.25713,&quot;y&quot;:-0.670835,&quot;z&quot;:1.01568},{&quot;x&quot;:-1.25053,&quot;y&quot;:-0.609433,&quot;z&quot;:0.981601},{&quot;x&quot;:-1.24247,&quot;y&quot;:-0.618172,&quot;z&quot;:1.04041}], &quot;faces&quot;:[[0,1,2],[0,3,1],[0,4,3],[0,5,4],[0,2,5],[2,1,6],[1,3,6],[3,4,6],[4,5,6],[5,2,6]], &quot;color&quot;:&quot;#0000ff&quot;, &quot;opacity&quot;:1},{&quot;vertices&quot;:[{&quot;x&quot;:-0.910476,&quot;y&quot;:-0.154286,&quot;z&quot;:-0.940317},{&quot;x&quot;:-0.895938,&quot;y&quot;:-0.157072,&quot;z&quot;:-0.953767},{&quot;x&quot;:-0.91619,&quot;y&quot;:-0.145714,&quot;z&quot;:-0.95746},{&quot;x&quot;:-0.895777,&quot;y&quot;:-0.164579,&quot;z&quot;:-0.931487},{&quot;x&quot;:-0.91593,&quot;y&quot;:-0.157861,&quot;z&quot;:-0.92141},{&quot;x&quot;:-0.928546,&quot;y&quot;:-0.146202,&quot;z&quot;:-0.937463},{&quot;x&quot;:-0.985462,&quot;y&quot;:-0.336119,&quot;z&quot;:-1.01345},{&quot;x&quot;:-1.00571,&quot;y&quot;:-0.324762,&quot;z&quot;:-1.01714},{&quot;x&quot;:-0.985301,&quot;y&quot;:-0.343627,&quot;z&quot;:-0.991169},{&quot;x&quot;:-1.00545,&quot;y&quot;:-0.336909,&quot;z&quot;:-0.981093},{&quot;x&quot;:-1.01807,&quot;y&quot;:-0.32525,&quot;z&quot;:-0.997146},{&quot;x&quot;:-1,&quot;y&quot;:-0.333333,&quot;z&quot;:-1}], &quot;faces&quot;:[[0,1,2],[0,3,1],[0,4,3],[0,5,4],[0,2,5],[2,1,6,7],[1,3,8,6],[3,4,9,8],[4,5,10,9],[5,2,7,10],[7,6,11],[6,8,11],[8,9,11],[9,10,11],[10,7,11]], &quot;color&quot;:&quot;#0000ff&quot;, &quot;opacity&quot;:1},{&quot;vertices&quot;:[{&quot;x&quot;:-0.833333,&quot;y&quot;:-8.32667e-17,&quot;z&quot;:-0.888889},{&quot;x&quot;:-0.866862,&quot;y&quot;:-0.162643,&quot;z&quot;:-0.980666},{&quot;x&quot;:-0.927619,&quot;y&quot;:-0.128571,&quot;z&quot;:-0.991746},{&quot;x&quot;:-0.866378,&quot;y&quot;:-0.185165,&quot;z&quot;:-0.913825},{&quot;x&quot;:-0.926836,&quot;y&quot;:-0.165013,&quot;z&quot;:-0.883596},{&quot;x&quot;:-0.964685,&quot;y&quot;:-0.130036,&quot;z&quot;:-0.931754},{&quot;x&quot;:-0.910476,&quot;y&quot;:-0.154286,&quot;z&quot;:-0.940317}], &quot;faces&quot;:[[0,1,2],[0,3,1],[0,4,3],[0,5,4],[0,2,5],[2,1,6],[1,3,6],[3,4,6],[4,5,6],[5,2,6]], &quot;color&quot;:&quot;#0000ff&quot;, &quot;opacity&quot;:1},{&quot;vertices&quot;:[{&quot;x&quot;:-0.963623,&quot;y&quot;:-0.199952,&quot;z&quot;:-0.648478},{&quot;x&quot;:-0.947111,&quot;y&quot;:-0.202972,&quot;z&quot;:-0.659352},{&quot;x&quot;:-0.968038,&quot;y&quot;:-0.196139,&quot;z&quot;:-0.667609},{&quot;x&quot;:-0.949004,&quot;y&quot;:-0.205631,&quot;z&quot;:-0.636068},{&quot;x&quot;:-0.9711,&quot;y&quot;:-0.200441,&quot;z&quot;:-0.629935},{&quot;x&quot;:-0.982863,&quot;y&quot;:-0.194575,&quot;z&quot;:-0.649428},{&quot;x&quot;:-0.983488,&quot;y&quot;:-0.336354,&quot;z&quot;:-0.67754},{&quot;x&quot;:-1.00441,&quot;y&quot;:-0.329521,&quot;z&quot;:-0.685797},{&quot;x&quot;:-0.98538,&quot;y&quot;:-0.339013,&quot;z&quot;:-0.654257},{&quot;x&quot;:-1.00748,&quot;y&quot;:-0.333823,&quot;z&quot;:-0.648123},{&quot;x&quot;:-1.01924,&quot;y&quot;:-0.327956,&quot;z&quot;:-0.667616},{&quot;x&quot;:-1,&quot;y&quot;:-0.333333,&quot;z&quot;:-0.666667}], &quot;faces&quot;:[[0,1,2],[0,3,1],[0,4,3],[0,5,4],[0,2,5],[2,1,6,7],[1,3,8,6],[3,4,9,8],[4,5,10,9],[5,2,7,10],[7,6,11],[6,8,11],[8,9,11],[9,10,11],[10,7,11]], &quot;color&quot;:&quot;#0000ff&quot;, &quot;opacity&quot;:1},{&quot;vertices&quot;:[{&quot;x&quot;:-0.916667,&quot;y&quot;:-0.0277778,&quot;z&quot;:-0.625},{&quot;x&quot;:-0.914088,&quot;y&quot;:-0.209013,&quot;z&quot;:-0.681099},{&quot;x&quot;:-0.976867,&quot;y&quot;:-0.188514,&quot;z&quot;:-0.70587},{&quot;x&quot;:-0.919764,&quot;y&quot;:-0.21699,&quot;z&quot;:-0.611248},{&quot;x&quot;:-0.986052,&quot;y&quot;:-0.201421,&quot;z&quot;:-0.592848},{&quot;x&quot;:-1.02134,&quot;y&quot;:-0.183821,&quot;z&quot;:-0.651327},{&quot;x&quot;:-0.963623,&quot;y&quot;:-0.199952,&quot;z&quot;:-0.648478}], &quot;faces&quot;:[[0,1,2],[0,3,1],[0,4,3],[0,5,4],[0,2,5],[2,1,6],[1,3,6],[3,4,6],[4,5,6],[5,2,6]], &quot;color&quot;:&quot;#0000ff&quot;, &quot;opacity&quot;:1},{&quot;vertices&quot;:[{&quot;x&quot;:-1,&quot;y&quot;:-0.235556,&quot;z&quot;:-0.333333},{&quot;x&quot;:-0.980979,&quot;y&quot;:-0.235556,&quot;z&quot;:-0.339514},{&quot;x&quot;:-1,&quot;y&quot;:-0.235556,&quot;z&quot;:-0.353333},{&quot;x&quot;:-0.988244,&quot;y&quot;:-0.235556,&quot;z&quot;:-0.317153},{&quot;x&quot;:-1.01176,&quot;y&quot;:-0.235556,&quot;z&quot;:-0.317153},{&quot;x&quot;:-1.01902,&quot;y&quot;:-0.235556,&quot;z&quot;:-0.339514},{&quot;x&quot;:-0.980979,&quot;y&quot;:-0.333333,&quot;z&quot;:-0.339514},{&quot;x&quot;:-1,&quot;y&quot;:-0.333333,&quot;z&quot;:-0.353333},{&quot;x&quot;:-0.988244,&quot;y&quot;:-0.333333,&quot;z&quot;:-0.317153},{&quot;x&quot;:-1.01176,&quot;y&quot;:-0.333333,&quot;z&quot;:-0.317153},{&quot;x&quot;:-1.01902,&quot;y&quot;:-0.333333,&quot;z&quot;:-0.339514},{&quot;x&quot;:-1,&quot;y&quot;:-0.333333,&quot;z&quot;:-0.333333}], &quot;faces&quot;:[[0,1,2],[0,3,1],[0,4,3],[0,5,4],[0,2,5],[2,1,6,7],[1,3,8,6],[3,4,9,8],[4,5,10,9],[5,2,7,10],[7,6,11],[6,8,11],[8,9,11],[9,10,11],[10,7,11]], &quot;color&quot;:&quot;#0000ff&quot;, &quot;opacity&quot;:1},{&quot;vertices&quot;:[{&quot;x&quot;:-1,&quot;y&quot;:-0.0555556,&quot;z&quot;:-0.333333},{&quot;x&quot;:-0.942937,&quot;y&quot;:-0.235556,&quot;z&quot;:-0.351874},{&quot;x&quot;:-1,&quot;y&quot;:-0.235556,&quot;z&quot;:-0.393333},{&quot;x&quot;:-0.964733,&quot;y&quot;:-0.235556,&quot;z&quot;:-0.284792},{&quot;x&quot;:-1.03527,&quot;y&quot;:-0.235556,&quot;z&quot;:-0.284792},{&quot;x&quot;:-1.05706,&quot;y&quot;:-0.235556,&quot;z&quot;:-0.351874},{&quot;x&quot;:-1,&quot;y&quot;:-0.235556,&quot;z&quot;:-0.333333}], &quot;faces&quot;:[[0,1,2],[0,3,1],[0,4,3],[0,5,4],[0,2,5],[2,1,6],[1,3,6],[3,4,6],[4,5,6],[5,2,6]], &quot;color&quot;:&quot;#0000ff&quot;, &quot;opacity&quot;:1},{&quot;vertices&quot;:[{&quot;x&quot;:-1.02649,&quot;y&quot;:-0.25386,&quot;z&quot;:-0.0044152},{&quot;x&quot;:-1.00752,&quot;y&quot;:-0.247528,&quot;z&quot;:-0.00426359},{&quot;x&quot;:-1.02018,&quot;y&quot;:-0.252807,&quot;z&quot;:-0.0233626},{&quot;x&quot;:-1.02108,&quot;y&quot;:-0.250999,&quot;z&quot;:0.0146259},{&quot;x&quot;:-1.04212,&quot;y&quot;:-0.258424,&quot;z&quot;:0.00720121},{&quot;x&quot;:-1.04156,&quot;y&quot;:-0.259541,&quot;z&quot;:-0.0162769},{&quot;x&quot;:-0.981029,&quot;y&quot;:-0.327001,&quot;z&quot;:0.000151614},{&quot;x&quot;:-0.993684,&quot;y&quot;:-0.332281,&quot;z&quot;:-0.0189474},{&quot;x&quot;:-0.994591,&quot;y&quot;:-0.330473,&quot;z&quot;:0.0190411},{&quot;x&quot;:-1.01563,&quot;y&quot;:-0.337897,&quot;z&quot;:0.0116164},{&quot;x&quot;:-1.01507,&quot;y&quot;:-0.339015,&quot;z&quot;:-0.0118617},{&quot;x&quot;:-1,&quot;y&quot;:-0.333333,&quot;z&quot;:0}], &quot;faces&quot;:[[0,1,2],[0,3,1],[0,4,3],[0,5,4],[0,2,5],[2,1,6,7],[1,3,8,6],[3,4,9,8],[4,5,10,9],[5,2,7,10],[7,6,11],[6,8,11],[8,9,11],[9,10,11],[10,7,11]], &quot;color&quot;:&quot;#0000ff&quot;, &quot;opacity&quot;:1},{&quot;vertices&quot;:[{&quot;x&quot;:-1.08333,&quot;y&quot;:-0.0833333,&quot;z&quot;:-0.0138889},{&quot;x&quot;:-0.969579,&quot;y&quot;:-0.234864,&quot;z&quot;:-0.00396036},{&quot;x&quot;:-1.00754,&quot;y&quot;:-0.250702,&quot;z&quot;:-0.0612573},{&quot;x&quot;:-1.01027,&quot;y&quot;:-0.245277,&quot;z&quot;:0.052708},{&quot;x&quot;:-1.07337,&quot;y&quot;:-0.267551,&quot;z&quot;:0.030434},{&quot;x&quot;:-1.07169,&quot;y&quot;:-0.270904,&quot;z&quot;:-0.0400004},{&quot;x&quot;:-1.02649,&quot;y&quot;:-0.25386,&quot;z&quot;:-0.0044152}], &quot;faces&quot;:[[0,1,2],[0,3,1],[0,4,3],[0,5,4],[0,2,5],[2,1,6],[1,3,6],[3,4,6],[4,5,6],[5,2,6]], &quot;color&quot;:&quot;#0000ff&quot;, &quot;opacity&quot;:1},{&quot;vertices&quot;:[{&quot;x&quot;:-1.05867,&quot;y&quot;:-0.255111,&quot;z&quot;:0.333333},{&quot;x&quot;:-1.04353,&quot;y&quot;:-0.243756,&quot;z&quot;:0.339802},{&quot;x&quot;:-1.04907,&quot;y&quot;:-0.247911,&quot;z&quot;:0.317333},{&quot;x&quot;:-1.05891,&quot;y&quot;:-0.255293,&quot;z&quot;:0.353331},{&quot;x&quot;:-1.07396,&quot;y&quot;:-0.266579,&quot;z&quot;:0.339224},{&quot;x&quot;:-1.06787,&quot;y&quot;:-0.262016,&quot;z&quot;:0.316976},{&quot;x&quot;:-0.98486,&quot;y&quot;:-0.321978,&quot;z&quot;:0.339802},{&quot;x&quot;:-0.9904,&quot;y&quot;:-0.326133,&quot;z&quot;:0.317333},{&quot;x&quot;:-1.00024,&quot;y&quot;:-0.333516,&quot;z&quot;:0.353331},{&quot;x&quot;:-1.01529,&quot;y&quot;:-0.344801,&quot;z&quot;:0.339224},{&quot;x&quot;:-1.00921,&quot;y&quot;:-0.340239,&quot;z&quot;:0.316976},{&quot;x&quot;:-1,&quot;y&quot;:-0.333333,&quot;z&quot;:0.333333}], &quot;faces&quot;:[[0,1,2],[0,3,1],[0,4,3],[0,5,4],[0,2,5],[2,1,6,7],[1,3,8,6],[3,4,9,8],[4,5,10,9],[5,2,7,10],[7,6,11],[6,8,11],[8,9,11],[9,10,11],[10,7,11]], &quot;color&quot;:&quot;#0000ff&quot;, &quot;opacity&quot;:1},{&quot;vertices&quot;:[{&quot;x&quot;:-1.16667,&quot;y&quot;:-0.111111,&quot;z&quot;:0.333333},{&quot;x&quot;:-1.01325,&quot;y&quot;:-0.221046,&quot;z&quot;:0.352739},{&quot;x&quot;:-1.02987,&quot;y&quot;:-0.233511,&quot;z&quot;:0.285333},{&quot;x&quot;:-1.0594,&quot;y&quot;:-0.255658,&quot;z&quot;:0.393326},{&quot;x&quot;:-1.10454,&quot;y&quot;:-0.289514,&quot;z&quot;:0.351006},{&quot;x&quot;:-1.08629,&quot;y&quot;:-0.275827,&quot;z&quot;:0.284262},{&quot;x&quot;:-1.05867,&quot;y&quot;:-0.255111,&quot;z&quot;:0.333333}], &quot;faces&quot;:[[0,1,2],[0,3,1],[0,4,3],[0,5,4],[0,2,5],[2,1,6],[1,3,6],[3,4,6],[4,5,6],[5,2,6]], &quot;color&quot;:&quot;#0000ff&quot;, &quot;opacity&quot;:1},{&quot;vertices&quot;:[{&quot;x&quot;:-1.10913,&quot;y&quot;:-0.248454,&quot;z&quot;:0.684855},{&quot;x&quot;:-1.09781,&quot;y&quot;:-0.236284,&quot;z&quot;:0.695979},{&quot;x&quot;:-1.1007,&quot;y&quot;:-0.235009,&quot;z&quot;:0.672681},{&quot;x&quot;:-1.11056,&quot;y&quot;:-0.254377,&quot;z&quot;:0.703904},{&quot;x&quot;:-1.12134,&quot;y&quot;:-0.264285,&quot;z&quot;:0.685504},{&quot;x&quot;:-1.11524,&quot;y&quot;:-0.252315,&quot;z&quot;:0.666207},{&quot;x&quot;:-0.98868,&quot;y&quot;:-0.321163,&quot;z&quot;:0.677791},{&quot;x&quot;:-0.991572,&quot;y&quot;:-0.319889,&quot;z&quot;:0.654493},{&quot;x&quot;:-1.00143,&quot;y&quot;:-0.339257,&quot;z&quot;:0.685716},{&quot;x&quot;:-1.0122,&quot;y&quot;:-0.349164,&quot;z&quot;:0.667315},{&quot;x&quot;:-1.00611,&quot;y&quot;:-0.337194,&quot;z&quot;:0.648019},{&quot;x&quot;:-1,&quot;y&quot;:-0.333333,&quot;z&quot;:0.666667}], &quot;faces&quot;:[[0,1,2],[0,3,1],[0,4,3],[0,5,4],[0,2,5],[2,1,6,7],[1,3,8,6],[3,4,9,8],[4,5,10,9],[5,2,7,10],[7,6,11],[6,8,11],[8,9,11],[9,10,11],[10,7,11]], &quot;color&quot;:&quot;#0000ff&quot;, &quot;opacity&quot;:1},{&quot;vertices&quot;:[{&quot;x&quot;:-1.25,&quot;y&quot;:-0.138889,&quot;z&quot;:0.708333},{&quot;x&quot;:-1.07517,&quot;y&quot;:-0.211943,&quot;z&quot;:0.718228},{&quot;x&quot;:-1.08385,&quot;y&quot;:-0.20812,&quot;z&quot;:0.648333},{&quot;x&quot;:-1.11343,&quot;y&quot;:-0.266224,&quot;z&quot;:0.742002},{&quot;x&quot;:-1.14575,&quot;y&quot;:-0.295947,&quot;z&quot;:0.686801},{&quot;x&quot;:-1.12746,&quot;y&quot;:-0.260037,&quot;z&quot;:0.628911},{&quot;x&quot;:-1.10913,&quot;y&quot;:-0.248454,&quot;z&quot;:0.684855}], &quot;faces&quot;:[[0,1,2],[0,3,1],[0,4,3],[0,5,4],[0,2,5],[2,1,6],[1,3,6],[3,4,6],[4,5,6],[5,2,6]], &quot;color&quot;:&quot;#0000ff&quot;, &quot;opacity&quot;:1},{&quot;vertices&quot;:[{&quot;x&quot;:-1.17905,&quot;y&quot;:-0.24381,&quot;z&quot;:1.05968},{&quot;x&quot;:-1.16913,&quot;y&quot;:-0.233077,&quot;z&quot;:1.07334},{&quot;x&quot;:-1.17333,&quot;y&quot;:-0.226667,&quot;z&quot;:1.05111},{&quot;x&quot;:-1.17863,&quot;y&quot;:-0.25432,&quot;z&quot;:1.07669},{&quot;x&quot;:-1.18871,&quot;y&quot;:-0.261037,&quot;z&quot;:1.05654},{&quot;x&quot;:-1.18543,&quot;y&quot;:-0.243947,&quot;z&quot;:1.04073},{&quot;x&quot;:-0.990082,&quot;y&quot;:-0.322601,&quot;z&quot;:1.01366},{&quot;x&quot;:-0.994286,&quot;y&quot;:-0.31619,&quot;z&quot;:0.991429},{&quot;x&quot;:-0.999585,&quot;y&quot;:-0.343843,&quot;z&quot;:1.01701},{&quot;x&quot;:-1.00966,&quot;y&quot;:-0.350561,&quot;z&quot;:0.996858},{&quot;x&quot;:-1.00639,&quot;y&quot;:-0.333471,&quot;z&quot;:0.981047},{&quot;x&quot;:-1,&quot;y&quot;:-0.333333,&quot;z&quot;:1}], &quot;faces&quot;:[[0,1,2],[0,3,1],[0,4,3],[0,5,4],[0,2,5],[2,1,6,7],[1,3,8,6],[3,4,9,8],[4,5,10,9],[5,2,7,10],[7,6,11],[6,8,11],[8,9,11],[9,10,11],[10,7,11]], &quot;color&quot;:&quot;#0000ff&quot;, &quot;opacity&quot;:1},{&quot;vertices&quot;:[{&quot;x&quot;:-1.33333,&quot;y&quot;:-0.166667,&quot;z&quot;:1.11111},{&quot;x&quot;:-1.14929,&quot;y&quot;:-0.211613,&quot;z&quot;:1.10065},{&quot;x&quot;:-1.1619,&quot;y&quot;:-0.192381,&quot;z&quot;:1.03397},{&quot;x&quot;:-1.1778,&quot;y&quot;:-0.27534,&quot;z&quot;:1.11071},{&quot;x&quot;:-1.20803,&quot;y&quot;:-0.295492,&quot;z&quot;:1.05026},{&quot;x&quot;:-1.19821,&quot;y&quot;:-0.244221,&quot;z&quot;:1.00282},{&quot;x&quot;:-1.17905,&quot;y&quot;:-0.24381,&quot;z&quot;:1.05968}], &quot;faces&quot;:[[0,1,2],[0,3,1],[0,4,3],[0,5,4],[0,2,5],[2,1,6],[1,3,6],[3,4,6],[4,5,6],[5,2,6]], &quot;color&quot;:&quot;#0000ff&quot;, &quot;opacity&quot;:1},{&quot;vertices&quot;:[{&quot;x&quot;:-0.87,&quot;y&quot;:0.13,&quot;z&quot;:-0.935},{&quot;x&quot;:-0.859379,&quot;y&quot;:0.12778,&quot;z&quot;:-0.951801},{&quot;x&quot;:-0.876667,&quot;y&quot;:0.143333,&quot;z&quot;:-0.948333},{&quot;x&quot;:-0.856769,&quot;y&quot;:0.115295,&quot;z&quot;:-0.93205},{&quot;x&quot;:-0.872444,&quot;y&quot;:0.123132,&quot;z&quot;:-0.916376},{&quot;x&quot;:-0.884741,&quot;y&quot;:0.140461,&quot;z&quot;:-0.926439},{&quot;x&quot;:-0.989379,&quot;y&quot;:-0.00222015,&quot;z&quot;:-1.0168},{&quot;x&quot;:-1.00667,&quot;y&quot;:0.0133333,&quot;z&quot;:-1.01333},{&quot;x&quot;:-0.986769,&quot;y&quot;:-0.0147055,&quot;z&quot;:-0.99705},{&quot;x&quot;:-1.00244,&quot;y&quot;:-0.00686832,&quot;z&quot;:-0.981376},{&quot;x&quot;:-1.01474,&quot;y&quot;:0.0104606,&quot;z&quot;:-0.991439},{&quot;x&quot;:-1,&quot;y&quot;:0,&quot;z&quot;:-1}], &quot;faces&quot;:[[0,1,2],[0,3,1],[0,4,3],[0,5,4],[0,2,5],[2,1,6,7],[1,3,8,6],[3,4,9,8],[4,5,10,9],[5,2,7,10],[7,6,11],[6,8,11],[8,9,11],[9,10,11],[10,7,11]], &quot;color&quot;:&quot;#0000ff&quot;, &quot;opacity&quot;:1},{&quot;vertices&quot;:[{&quot;x&quot;:-0.75,&quot;y&quot;:0.25,&quot;z&quot;:-0.875},{&quot;x&quot;:-0.838138,&quot;y&quot;:0.12334,&quot;z&quot;:-0.985403},{&quot;x&quot;:-0.89,&quot;y&quot;:0.17,&quot;z&quot;:-0.975},{&quot;x&quot;:-0.830308,&quot;y&quot;:0.0858836,&quot;z&quot;:-0.926151},{&quot;x&quot;:-0.877331,&quot;y&quot;:0.109395,&quot;z&quot;:-0.879128},{&quot;x&quot;:-0.914223,&quot;y&quot;:0.161382,&quot;z&quot;:-0.909318},{&quot;x&quot;:-0.87,&quot;y&quot;:0.13,&quot;z&quot;:-0.935}], &quot;faces&quot;:[[0,1,2],[0,3,1],[0,4,3],[0,5,4],[0,2,5],[2,1,6],[1,3,6],[3,4,6],[4,5,6],[5,2,6]], &quot;color&quot;:&quot;#0000ff&quot;, &quot;opacity&quot;:1},{&quot;vertices&quot;:[{&quot;x&quot;:-0.931515,&quot;y&quot;:0.102727,&quot;z&quot;:-0.643838},{&quot;x&quot;:-0.919616,&quot;y&quot;:0.0982241,&quot;z&quot;:-0.65927},{&quot;x&quot;:-0.939068,&quot;y&quot;:0.111399,&quot;z&quot;:-0.660202},{&quot;x&quot;:-0.916609,&quot;y&quot;:0.0912728,&quot;z&quot;:-0.637012},{&quot;x&quot;:-0.934201,&quot;y&quot;:0.100151,&quot;z&quot;:-0.624188},{&quot;x&quot;:-0.948082,&quot;y&quot;:0.11259,&quot;z&quot;:-0.63852},{&quot;x&quot;:-0.988101,&quot;y&quot;:-0.00450322,&quot;z&quot;:-0.682098},{&quot;x&quot;:-1.00755,&quot;y&quot;:0.00867133,&quot;z&quot;:-0.68303},{&quot;x&quot;:-0.985094,&quot;y&quot;:-0.0114545,&quot;z&quot;:-0.65984},{&quot;x&quot;:-1.00269,&quot;y&quot;:-0.00257603,&quot;z&quot;:-0.647016},{&quot;x&quot;:-1.01657,&quot;y&quot;:0.00986239,&quot;z&quot;:-0.661348},{&quot;x&quot;:-1,&quot;y&quot;:0,&quot;z&quot;:-0.666667}], &quot;faces&quot;:[[0,1,2],[0,3,1],[0,4,3],[0,5,4],[0,2,5],[2,1,6,7],[1,3,8,6],[3,4,9,8],[4,5,10,9],[5,2,7,10],[7,6,11],[6,8,11],[8,9,11],[9,10,11],[10,7,11]], &quot;color&quot;:&quot;#0000ff&quot;, &quot;opacity&quot;:1},{&quot;vertices&quot;:[{&quot;x&quot;:-0.833333,&quot;y&quot;:0.25,&quot;z&quot;:-0.611111},{&quot;x&quot;:-0.895819,&quot;y&quot;:0.0892176,&quot;z&quot;:-0.690134},{&quot;x&quot;:-0.954172,&quot;y&quot;:0.128741,&quot;z&quot;:-0.692929},{&quot;x&quot;:-0.886796,&quot;y&quot;:0.0683639,&quot;z&quot;:-0.62336},{&quot;x&quot;:-0.939574,&quot;y&quot;:0.0949992,&quot;z&quot;:-0.584886},{&quot;x&quot;:-0.981214,&quot;y&quot;:0.132314,&quot;z&quot;:-0.627883},{&quot;x&quot;:-0.931515,&quot;y&quot;:0.102727,&quot;z&quot;:-0.643838}], &quot;faces&quot;:[[0,1,2],[0,3,1],[0,4,3],[0,5,4],[0,2,5],[2,1,6],[1,3,6],[3,4,6],[4,5,6],[5,2,6]], &quot;color&quot;:&quot;#0000ff&quot;, &quot;opacity&quot;:1},{&quot;vertices&quot;:[{&quot;x&quot;:-0.973509,&quot;y&quot;:0.0794737,&quot;z&quot;:-0.328918},{&quot;x&quot;:-0.958046,&quot;y&quot;:0.0749785,&quot;z&quot;:-0.34078},{&quot;x&quot;:-0.979193,&quot;y&quot;:0.0824211,&quot;z&quot;:-0.347865},{&quot;x&quot;:-0.958268,&quot;y&quot;:0.0737481,&quot;z&quot;:-0.317302},{&quot;x&quot;:-0.979552,&quot;y&quot;:0.0804303,&quot;z&quot;:-0.309877},{&quot;x&quot;:-0.992484,&quot;y&quot;:0.0857905,&quot;z&quot;:-0.328767},{&quot;x&quot;:-0.984537,&quot;y&quot;:-0.00449522,&quot;z&quot;:-0.345195},{&quot;x&quot;:-1.00568,&quot;y&quot;:0.00294737,&quot;z&quot;:-0.352281},{&quot;x&quot;:-0.984759,&quot;y&quot;:-0.00572557,&quot;z&quot;:-0.321717},{&quot;x&quot;:-1.00604,&quot;y&quot;:0.000956624,&quot;z&quot;:-0.314292},{&quot;x&quot;:-1.01898,&quot;y&quot;:0.00631679,&quot;z&quot;:-0.333182},{&quot;x&quot;:-1,&quot;y&quot;:0,&quot;z&quot;:-0.333333}], &quot;faces&quot;:[[0,1,2],[0,3,1],[0,4,3],[0,5,4],[0,2,5],[2,1,6,7],[1,3,8,6],[3,4,9,8],[4,5,10,9],[5,2,7,10],[7,6,11],[6,8,11],[8,9,11],[9,10,11],[10,7,11]], &quot;color&quot;:&quot;#0000ff&quot;, &quot;opacity&quot;:1},{&quot;vertices&quot;:[{&quot;x&quot;:-0.916667,&quot;y&quot;:0.25,&quot;z&quot;:-0.319444},{&quot;x&quot;:-0.927121,&quot;y&quot;:0.065988,&quot;z&quot;:-0.364503},{&quot;x&quot;:-0.990561,&quot;y&quot;:0.0883158,&quot;z&quot;:-0.38576},{&quot;x&quot;:-0.927787,&quot;y&quot;:0.062297,&quot;z&quot;:-0.294069},{&quot;x&quot;:-0.991639,&quot;y&quot;:0.0823436,&quot;z&quot;:-0.271795},{&quot;x&quot;:-1.03044,&quot;y&quot;:0.0984241,&quot;z&quot;:-0.328463},{&quot;x&quot;:-0.973509,&quot;y&quot;:0.0794737,&quot;z&quot;:-0.328918}], &quot;faces&quot;:[[0,1,2],[0,3,1],[0,4,3],[0,5,4],[0,2,5],[2,1,6],[1,3,6],[3,4,6],[4,5,6],[5,2,6]], &quot;color&quot;:&quot;#0000ff&quot;, &quot;opacity&quot;:1},{&quot;vertices&quot;:[{&quot;x&quot;:-1,&quot;y&quot;:0.07,&quot;z&quot;:4.28626e-18},{&quot;x&quot;:-0.980979,&quot;y&quot;:0.07,&quot;z&quot;:-0.00618034},{&quot;x&quot;:-1,&quot;y&quot;:0.07,&quot;z&quot;:-0.02},{&quot;x&quot;:-0.988244,&quot;y&quot;:0.07,&quot;z&quot;:0.0161803},{&quot;x&quot;:-1.01176,&quot;y&quot;:0.07,&quot;z&quot;:0.0161803},{&quot;x&quot;:-1.01902,&quot;y&quot;:0.07,&quot;z&quot;:-0.00618034},{&quot;x&quot;:-0.980979,&quot;y&quot;:3.78437e-19,&quot;z&quot;:-0.00618034},{&quot;x&quot;:-1,&quot;y&quot;:1.22465e-18,&quot;z&quot;:-0.02},{&quot;x&quot;:-0.988244,&quot;y&quot;:-9.9076e-19,&quot;z&quot;:0.0161803},{&quot;x&quot;:-1.01176,&quot;y&quot;:-9.9076e-19,&quot;z&quot;:0.0161803},{&quot;x&quot;:-1.01902,&quot;y&quot;:3.78437e-19,&quot;z&quot;:-0.00618034},{&quot;x&quot;:-1,&quot;y&quot;:0,&quot;z&quot;:0}], &quot;faces&quot;:[[0,1,2],[0,3,1],[0,4,3],[0,5,4],[0,2,5],[2,1,6,7],[1,3,8,6],[3,4,9,8],[4,5,10,9],[5,2,7,10],[7,6,11],[6,8,11],[8,9,11],[9,10,11],[10,7,11]], &quot;color&quot;:&quot;#0000ff&quot;, &quot;opacity&quot;:1},{&quot;vertices&quot;:[{&quot;x&quot;:-1,&quot;y&quot;:0.25,&quot;z&quot;:1.53081e-17},{&quot;x&quot;:-0.942937,&quot;y&quot;:0.07,&quot;z&quot;:-0.018541},{&quot;x&quot;:-1,&quot;y&quot;:0.07,&quot;z&quot;:-0.06},{&quot;x&quot;:-0.964733,&quot;y&quot;:0.07,&quot;z&quot;:0.048541},{&quot;x&quot;:-1.03527,&quot;y&quot;:0.07,&quot;z&quot;:0.048541},{&quot;x&quot;:-1.05706,&quot;y&quot;:0.07,&quot;z&quot;:-0.018541},{&quot;x&quot;:-1,&quot;y&quot;:0.07,&quot;z&quot;:4.28626e-18}], &quot;faces&quot;:[[0,1,2],[0,3,1],[0,4,3],[0,5,4],[0,2,5],[2,1,6],[1,3,6],[3,4,6],[4,5,6],[5,2,6]], &quot;color&quot;:&quot;#0000ff&quot;, &quot;opacity&quot;:1},{&quot;vertices&quot;:[{&quot;x&quot;:-1.02649,&quot;y&quot;:0.0794737,&quot;z&quot;:0.337749},{&quot;x&quot;:-1.00752,&quot;y&quot;:0.0857905,&quot;z&quot;:0.3379},{&quot;x&quot;:-1.02081,&quot;y&quot;:0.0824211,&quot;z&quot;:0.318801},{&quot;x&quot;:-1.02045,&quot;y&quot;:0.0804303,&quot;z&quot;:0.35679},{&quot;x&quot;:-1.04173,&quot;y&quot;:0.0737481,&quot;z&quot;:0.349365},{&quot;x&quot;:-1.04195,&quot;y&quot;:0.0749785,&quot;z&quot;:0.325887},{&quot;x&quot;:-0.981024,&quot;y&quot;:0.00631679,&quot;z&quot;:0.333485},{&quot;x&quot;:-0.994316,&quot;y&quot;:0.00294737,&quot;z&quot;:0.314386},{&quot;x&quot;:-0.993957,&quot;y&quot;:0.000956624,&quot;z&quot;:0.352374},{&quot;x&quot;:-1.01524,&quot;y&quot;:-0.00572557,&quot;z&quot;:0.34495},{&quot;x&quot;:-1.01546,&quot;y&quot;:-0.00449522,&quot;z&quot;:0.321472},{&quot;x&quot;:-1,&quot;y&quot;:0,&quot;z&quot;:0.333333}], &quot;faces&quot;:[[0,1,2],[0,3,1],[0,4,3],[0,5,4],[0,2,5],[2,1,6,7],[1,3,8,6],[3,4,9,8],[4,5,10,9],[5,2,7,10],[7,6,11],[6,8,11],[8,9,11],[9,10,11],[10,7,11]], &quot;color&quot;:&quot;#0000ff&quot;, &quot;opacity&quot;:1},{&quot;vertices&quot;:[{&quot;x&quot;:-1.08333,&quot;y&quot;:0.25,&quot;z&quot;:0.347222},{&quot;x&quot;:-0.969564,&quot;y&quot;:0.0984241,&quot;z&quot;:0.338203},{&quot;x&quot;:-1.00944,&quot;y&quot;:0.0883158,&quot;z&quot;:0.280906},{&quot;x&quot;:-1.00836,&quot;y&quot;:0.0823436,&quot;z&quot;:0.394872},{&quot;x&quot;:-1.07221,&quot;y&quot;:0.062297,&quot;z&quot;:0.372598},{&quot;x&quot;:-1.07288,&quot;y&quot;:0.065988,&quot;z&quot;:0.302163},{&quot;x&quot;:-1.02649,&quot;y&quot;:0.0794737,&quot;z&quot;:0.337749}], &quot;faces&quot;:[[0,1,2],[0,3,1],[0,4,3],[0,5,4],[0,2,5],[2,1,6],[1,3,6],[3,4,6],[4,5,6],[5,2,6]], &quot;color&quot;:&quot;#0000ff&quot;, &quot;opacity&quot;:1},{&quot;vertices&quot;:[{&quot;x&quot;:-1.06848,&quot;y&quot;:0.102727,&quot;z&quot;:0.689495},{&quot;x&quot;:-1.05192,&quot;y&quot;:0.11259,&quot;z&quot;:0.694813},{&quot;x&quot;:-1.06093,&quot;y&quot;:0.111399,&quot;z&quot;:0.673131},{&quot;x&quot;:-1.0658,&quot;y&quot;:0.100151,&quot;z&quot;:0.709146},{&quot;x&quot;:-1.08339,&quot;y&quot;:0.0912728,&quot;z&quot;:0.696321},{&quot;x&quot;:-1.08038,&quot;y&quot;:0.0982241,&quot;z&quot;:0.674063},{&quot;x&quot;:-0.983434,&quot;y&quot;:0.00986239,&quot;z&quot;:0.671985},{&quot;x&quot;:-0.992448,&quot;y&quot;:0.00867133,&quot;z&quot;:0.650303},{&quot;x&quot;:-0.997314,&quot;y&quot;:-0.00257603,&quot;z&quot;:0.686317},{&quot;x&quot;:-1.01491,&quot;y&quot;:-0.0114545,&quot;z&quot;:0.673493},{&quot;x&quot;:-1.0119,&quot;y&quot;:-0.00450322,&quot;z&quot;:0.651235},{&quot;x&quot;:-1,&quot;y&quot;:0,&quot;z&quot;:0.666667}], &quot;faces&quot;:[[0,1,2],[0,3,1],[0,4,3],[0,5,4],[0,2,5],[2,1,6,7],[1,3,8,6],[3,4,9,8],[4,5,10,9],[5,2,7,10],[7,6,11],[6,8,11],[8,9,11],[9,10,11],[10,7,11]], &quot;color&quot;:&quot;#0000ff&quot;, &quot;opacity&quot;:1},{&quot;vertices&quot;:[{&quot;x&quot;:-1.16667,&quot;y&quot;:0.25,&quot;z&quot;:0.722222},{&quot;x&quot;:-1.01879,&quot;y&quot;:0.132314,&quot;z&quot;:0.705451},{&quot;x&quot;:-1.04583,&quot;y&quot;:0.128741,&quot;z&quot;:0.640404},{&quot;x&quot;:-1.06043,&quot;y&quot;:0.0949992,&quot;z&quot;:0.748447},{&quot;x&quot;:-1.1132,&quot;y&quot;:0.0683639,&quot;z&quot;:0.709974},{&quot;x&quot;:-1.10418,&quot;y&quot;:0.0892176,&quot;z&quot;:0.6432},{&quot;x&quot;:-1.06848,&quot;y&quot;:0.102727,&quot;z&quot;:0.689495}], &quot;faces&quot;:[[0,1,2],[0,3,1],[0,4,3],[0,5,4],[0,2,5],[2,1,6],[1,3,6],[3,4,6],[4,5,6],[5,2,6]], &quot;color&quot;:&quot;#0000ff&quot;, &quot;opacity&quot;:1},{&quot;vertices&quot;:[{&quot;x&quot;:-1.13,&quot;y&quot;:0.13,&quot;z&quot;:1.065},{&quot;x&quot;:-1.11526,&quot;y&quot;:0.140461,&quot;z&quot;:1.07356},{&quot;x&quot;:-1.12333,&quot;y&quot;:0.143333,&quot;z&quot;:1.05167},{&quot;x&quot;:-1.12756,&quot;y&quot;:0.123132,&quot;z&quot;:1.08362},{&quot;x&quot;:-1.14323,&quot;y&quot;:0.115295,&quot;z&quot;:1.06795},{&quot;x&quot;:-1.14062,&quot;y&quot;:0.12778,&quot;z&quot;:1.0482},{&quot;x&quot;:-0.985259,&quot;y&quot;:0.0104606,&quot;z&quot;:1.00856},{&quot;x&quot;:-0.993333,&quot;y&quot;:0.0133333,&quot;z&quot;:0.986667},{&quot;x&quot;:-0.997556,&quot;y&quot;:-0.00686832,&quot;z&quot;:1.01862},{&quot;x&quot;:-1.01323,&quot;y&quot;:-0.0147055,&quot;z&quot;:1.00295},{&quot;x&quot;:-1.01062,&quot;y&quot;:-0.00222015,&quot;z&quot;:0.983199},{&quot;x&quot;:-1,&quot;y&quot;:0,&quot;z&quot;:1}], &quot;faces&quot;:[[0,1,2],[0,3,1],[0,4,3],[0,5,4],[0,2,5],[2,1,6,7],[1,3,8,6],[3,4,9,8],[4,5,10,9],[5,2,7,10],[7,6,11],[6,8,11],[8,9,11],[9,10,11],[10,7,11]], &quot;color&quot;:&quot;#0000ff&quot;, &quot;opacity&quot;:1},{&quot;vertices&quot;:[{&quot;x&quot;:-1.25,&quot;y&quot;:0.25,&quot;z&quot;:1.125},{&quot;x&quot;:-1.08578,&quot;y&quot;:0.161382,&quot;z&quot;:1.09068},{&quot;x&quot;:-1.11,&quot;y&quot;:0.17,&quot;z&quot;:1.025},{&quot;x&quot;:-1.12267,&quot;y&quot;:0.109395,&quot;z&quot;:1.12087},{&quot;x&quot;:-1.16969,&quot;y&quot;:0.0858836,&quot;z&quot;:1.07385},{&quot;x&quot;:-1.16186,&quot;y&quot;:0.12334,&quot;z&quot;:1.0146},{&quot;x&quot;:-1.13,&quot;y&quot;:0.13,&quot;z&quot;:1.065}], &quot;faces&quot;:[[0,1,2],[0,3,1],[0,4,3],[0,5,4],[0,2,5],[2,1,6],[1,3,6],[3,4,6],[4,5,6],[5,2,6]], &quot;color&quot;:&quot;#0000ff&quot;, &quot;opacity&quot;:1},{&quot;vertices&quot;:[{&quot;x&quot;:-0.820952,&quot;y&quot;:0.422857,&quot;z&quot;:-0.940317},{&quot;x&quot;:-0.814566,&quot;y&quot;:0.42272,&quot;z&quot;:-0.95927},{&quot;x&quot;:-0.826667,&quot;y&quot;:0.44,&quot;z&quot;:-0.948889},{&quot;x&quot;:-0.811291,&quot;y&quot;:0.40563,&quot;z&quot;:-0.943459},{&quot;x&quot;:-0.821368,&quot;y&quot;:0.412347,&quot;z&quot;:-0.923307},{&quot;x&quot;:-0.83087,&quot;y&quot;:0.433589,&quot;z&quot;:-0.926662},{&quot;x&quot;:-0.993614,&quot;y&quot;:0.333196,&quot;z&quot;:-1.01895},{&quot;x&quot;:-1.00571,&quot;y&quot;:0.350476,&quot;z&quot;:-1.00857},{&quot;x&quot;:-0.990339,&quot;y&quot;:0.316106,&quot;z&quot;:-1.00314},{&quot;x&quot;:-1.00042,&quot;y&quot;:0.322823,&quot;z&quot;:-0.982989},{&quot;x&quot;:-1.00992,&quot;y&quot;:0.344065,&quot;z&quot;:-0.986345},{&quot;x&quot;:-1,&quot;y&quot;:0.333333,&quot;z&quot;:-1}], &quot;faces&quot;:[[0,1,2],[0,3,1],[0,4,3],[0,5,4],[0,2,5],[2,1,6,7],[1,3,8,6],[3,4,9,8],[4,5,10,9],[5,2,7,10],[7,6,11],[6,8,11],[8,9,11],[9,10,11],[10,7,11]], &quot;color&quot;:&quot;#0000ff&quot;, &quot;opacity&quot;:1},{&quot;vertices&quot;:[{&quot;x&quot;:-0.666667,&quot;y&quot;:0.5,&quot;z&quot;:-0.888889},{&quot;x&quot;:-0.801794,&quot;y&quot;:0.422446,&quot;z&quot;:-0.997175},{&quot;x&quot;:-0.838095,&quot;y&quot;:0.474286,&quot;z&quot;:-0.966032},{&quot;x&quot;:-0.791969,&quot;y&quot;:0.371174,&quot;z&quot;:-0.949743},{&quot;x&quot;:-0.822198,&quot;y&quot;:0.391327,&quot;z&quot;:-0.889285},{&quot;x&quot;:-0.850706,&quot;y&quot;:0.455053,&quot;z&quot;:-0.899352},{&quot;x&quot;:-0.820952,&quot;y&quot;:0.422857,&quot;z&quot;:-0.940317}], &quot;faces&quot;:[[0,1,2],[0,3,1],[0,4,3],[0,5,4],[0,2,5],[2,1,6],[1,3,6],[3,4,6],[4,5,6],[5,2,6]], &quot;color&quot;:&quot;#0000ff&quot;, &quot;opacity&quot;:1},{&quot;vertices&quot;:[{&quot;x&quot;:-0.89087,&quot;y&quot;:0.418213,&quot;z&quot;:-0.648478},{&quot;x&quot;:-0.884759,&quot;y&quot;:0.414352,&quot;z&quot;:-0.667126},{&quot;x&quot;:-0.899298,&quot;y&quot;:0.431657,&quot;z&quot;:-0.660652},{&quot;x&quot;:-0.878665,&quot;y&quot;:0.402382,&quot;z&quot;:-0.647829},{&quot;x&quot;:-0.889437,&quot;y&quot;:0.412289,&quot;z&quot;:-0.629429},{&quot;x&quot;:-0.902189,&quot;y&quot;:0.430383,&quot;z&quot;:-0.637354},{&quot;x&quot;:-0.993889,&quot;y&quot;:0.329472,&quot;z&quot;:-0.685315},{&quot;x&quot;:-1.00843,&quot;y&quot;:0.346778,&quot;z&quot;:-0.678841},{&quot;x&quot;:-0.987795,&quot;y&quot;:0.317502,&quot;z&quot;:-0.666018},{&quot;x&quot;:-0.998568,&quot;y&quot;:0.32741,&quot;z&quot;:-0.647618},{&quot;x&quot;:-1.01132,&quot;y&quot;:0.345504,&quot;z&quot;:-0.655543},{&quot;x&quot;:-1,&quot;y&quot;:0.333333,&quot;z&quot;:-0.666667}], &quot;faces&quot;:[[0,1,2],[0,3,1],[0,4,3],[0,5,4],[0,2,5],[2,1,6,7],[1,3,8,6],[3,4,9,8],[4,5,10,9],[5,2,7,10],[7,6,11],[6,8,11],[8,9,11],[9,10,11],[10,7,11]], &quot;color&quot;:&quot;#0000ff&quot;, &quot;opacity&quot;:1},{&quot;vertices&quot;:[{&quot;x&quot;:-0.75,&quot;y&quot;:0.527778,&quot;z&quot;:-0.625},{&quot;x&quot;:-0.872537,&quot;y&quot;:0.40663,&quot;z&quot;:-0.704422},{&quot;x&quot;:-0.916154,&quot;y&quot;:0.458547,&quot;z&quot;:-0.685},{&quot;x&quot;:-0.854255,&quot;y&quot;:0.37072,&quot;z&quot;:-0.646532},{&quot;x&quot;:-0.886573,&quot;y&quot;:0.400443,&quot;z&quot;:-0.591331},{&quot;x&quot;:-0.924829,&quot;y&quot;:0.454723,&quot;z&quot;:-0.615106},{&quot;x&quot;:-0.89087,&quot;y&quot;:0.418213,&quot;z&quot;:-0.648478}], &quot;faces&quot;:[[0,1,2],[0,3,1],[0,4,3],[0,5,4],[0,2,5],[2,1,6],[1,3,6],[3,4,6],[4,5,6],[5,2,6]], &quot;color&quot;:&quot;#0000ff&quot;, &quot;opacity&quot;:1},{&quot;vertices&quot;:[{&quot;x&quot;:-0.941333,&quot;y&quot;:0.411556,&quot;z&quot;:-0.333333},{&quot;x&quot;:-0.932126,&quot;y&quot;:0.40465,&quot;z&quot;:-0.34969},{&quot;x&quot;:-0.950933,&quot;y&quot;:0.418756,&quot;z&quot;:-0.349333},{&quot;x&quot;:-0.926043,&quot;y&quot;:0.400088,&quot;z&quot;:-0.327442},{&quot;x&quot;:-0.94109,&quot;y&quot;:0.411373,&quot;z&quot;:-0.313336},{&quot;x&quot;:-0.956473,&quot;y&quot;:0.422911,&quot;z&quot;:-0.326865},{&quot;x&quot;:-0.990793,&quot;y&quot;:0.326428,&quot;z&quot;:-0.34969},{&quot;x&quot;:-1.0096,&quot;y&quot;:0.340533,&quot;z&quot;:-0.349333},{&quot;x&quot;:-0.98471,&quot;y&quot;:0.321866,&quot;z&quot;:-0.327442},{&quot;x&quot;:-0.999757,&quot;y&quot;:0.333151,&quot;z&quot;:-0.313336},{&quot;x&quot;:-1.01514,&quot;y&quot;:0.344688,&quot;z&quot;:-0.326865},{&quot;x&quot;:-1,&quot;y&quot;:0.333333,&quot;z&quot;:-0.333333}], &quot;faces&quot;:[[0,1,2],[0,3,1],[0,4,3],[0,5,4],[0,2,5],[2,1,6,7],[1,3,8,6],[3,4,9,8],[4,5,10,9],[5,2,7,10],[7,6,11],[6,8,11],[8,9,11],[9,10,11],[10,7,11]], &quot;color&quot;:&quot;#0000ff&quot;, &quot;opacity&quot;:1},{&quot;vertices&quot;:[{&quot;x&quot;:-0.833333,&quot;y&quot;:0.555556,&quot;z&quot;:-0.333333},{&quot;x&quot;:-0.913712,&quot;y&quot;:0.39084,&quot;z&quot;:-0.382404},{&quot;x&quot;:-0.970133,&quot;y&quot;:0.433156,&quot;z&quot;:-0.381333},{&quot;x&quot;:-0.895463,&quot;y&quot;:0.377153,&quot;z&quot;:-0.315661},{&quot;x&quot;:-0.940605,&quot;y&quot;:0.411009,&quot;z&quot;:-0.27334},{&quot;x&quot;:-0.986754,&quot;y&quot;:0.445621,&quot;z&quot;:-0.313928},{&quot;x&quot;:-0.941333,&quot;y&quot;:0.411556,&quot;z&quot;:-0.333333}], &quot;faces&quot;:[[0,1,2],[0,3,1],[0,4,3],[0,5,4],[0,2,5],[2,1,6],[1,3,6],[3,4,6],[4,5,6],[5,2,6]], &quot;color&quot;:&quot;#0000ff&quot;, &quot;opacity&quot;:1},{&quot;vertices&quot;:[{&quot;x&quot;:-0.973509,&quot;y&quot;:0.412807,&quot;z&quot;:-0.0044152},{&quot;x&quot;:-0.958442,&quot;y&quot;:0.407126,&quot;z&quot;:-0.0162769},{&quot;x&quot;:-0.979825,&quot;y&quot;:0.41386,&quot;z&quot;:-0.0233626},{&quot;x&quot;:-0.957881,&quot;y&quot;:0.408243,&quot;z&quot;:0.00720121},{&quot;x&quot;:-0.978917,&quot;y&quot;:0.415668,&quot;z&quot;:0.0146259},{&quot;x&quot;:-0.992479,&quot;y&quot;:0.419139,&quot;z&quot;:-0.00426359},{&quot;x&quot;:-0.984933,&quot;y&quot;:0.327652,&quot;z&quot;:-0.0118617},{&quot;x&quot;:-1.00632,&quot;y&quot;:0.334386,&quot;z&quot;:-0.0189474},{&quot;x&quot;:-0.984372,&quot;y&quot;:0.328769,&quot;z&quot;:0.0116164},{&quot;x&quot;:-1.00541,&quot;y&quot;:0.336194,&quot;z&quot;:0.0190411},{&quot;x&quot;:-1.01897,&quot;y&quot;:0.339665,&quot;z&quot;:0.000151614},{&quot;x&quot;:-1,&quot;y&quot;:0.333333,&quot;z&quot;:0}], &quot;faces&quot;:[[0,1,2],[0,3,1],[0,4,3],[0,5,4],[0,2,5],[2,1,6,7],[1,3,8,6],[3,4,9,8],[4,5,10,9],[5,2,7,10],[7,6,11],[6,8,11],[8,9,11],[9,10,11],[10,7,11]], &quot;color&quot;:&quot;#0000ff&quot;, &quot;opacity&quot;:1},{&quot;vertices&quot;:[{&quot;x&quot;:-0.916667,&quot;y&quot;:0.583333,&quot;z&quot;:-0.0138889},{&quot;x&quot;:-0.928307,&quot;y&quot;:0.395763,&quot;z&quot;:-0.0400004},{&quot;x&quot;:-0.992456,&quot;y&quot;:0.415965,&quot;z&quot;:-0.0612573},{&quot;x&quot;:-0.926625,&quot;y&quot;:0.399115,&quot;z&quot;:0.030434},{&quot;x&quot;:-0.989735,&quot;y&quot;:0.421389,&quot;z&quot;:0.052708},{&quot;x&quot;:-1.03042,&quot;y&quot;:0.431803,&quot;z&quot;:-0.00396036},{&quot;x&quot;:-0.973509,&quot;y&quot;:0.412807,&quot;z&quot;:-0.0044152}], &quot;faces&quot;:[[0,1,2],[0,3,1],[0,4,3],[0,5,4],[0,2,5],[2,1,6],[1,3,6],[3,4,6],[4,5,6],[5,2,6]], &quot;color&quot;:&quot;#0000ff&quot;, &quot;opacity&quot;:1},{&quot;vertices&quot;:[{&quot;x&quot;:-1,&quot;y&quot;:0.431111,&quot;z&quot;:0.333333},{&quot;x&quot;:-0.980979,&quot;y&quot;:0.431111,&quot;z&quot;:0.327153},{&quot;x&quot;:-1,&quot;y&quot;:0.431111,&quot;z&quot;:0.313333},{&quot;x&quot;:-0.988244,&quot;y&quot;:0.431111,&quot;z&quot;:0.349514},{&quot;x&quot;:-1.01176,&quot;y&quot;:0.431111,&quot;z&quot;:0.349514},{&quot;x&quot;:-1.01902,&quot;y&quot;:0.431111,&quot;z&quot;:0.327153},{&quot;x&quot;:-0.980979,&quot;y&quot;:0.333333,&quot;z&quot;:0.327153},{&quot;x&quot;:-1,&quot;y&quot;:0.333333,&quot;z&quot;:0.313333},{&quot;x&quot;:-0.988244,&quot;y&quot;:0.333333,&quot;z&quot;:0.349514},{&quot;x&quot;:-1.01176,&quot;y&quot;:0.333333,&quot;z&quot;:0.349514},{&quot;x&quot;:-1.01902,&quot;y&quot;:0.333333,&quot;z&quot;:0.327153},{&quot;x&quot;:-1,&quot;y&quot;:0.333333,&quot;z&quot;:0.333333}], &quot;faces&quot;:[[0,1,2],[0,3,1],[0,4,3],[0,5,4],[0,2,5],[2,1,6,7],[1,3,8,6],[3,4,9,8],[4,5,10,9],[5,2,7,10],[7,6,11],[6,8,11],[8,9,11],[9,10,11],[10,7,11]], &quot;color&quot;:&quot;#0000ff&quot;, &quot;opacity&quot;:1},{&quot;vertices&quot;:[{&quot;x&quot;:-1,&quot;y&quot;:0.611111,&quot;z&quot;:0.333333},{&quot;x&quot;:-0.942937,&quot;y&quot;:0.431111,&quot;z&quot;:0.314792},{&quot;x&quot;:-1,&quot;y&quot;:0.431111,&quot;z&quot;:0.273333},{&quot;x&quot;:-0.964733,&quot;y&quot;:0.431111,&quot;z&quot;:0.381874},{&quot;x&quot;:-1.03527,&quot;y&quot;:0.431111,&quot;z&quot;:0.381874},{&quot;x&quot;:-1.05706,&quot;y&quot;:0.431111,&quot;z&quot;:0.314792},{&quot;x&quot;:-1,&quot;y&quot;:0.431111,&quot;z&quot;:0.333333}], &quot;faces&quot;:[[0,1,2],[0,3,1],[0,4,3],[0,5,4],[0,2,5],[2,1,6],[1,3,6],[3,4,6],[4,5,6],[5,2,6]], &quot;color&quot;:&quot;#0000ff&quot;, &quot;opacity&quot;:1},{&quot;vertices&quot;:[{&quot;x&quot;:-1.03638,&quot;y&quot;:0.466715,&quot;z&quot;:0.684855},{&quot;x&quot;:-1.01714,&quot;y&quot;:0.472092,&quot;z&quot;:0.683905},{&quot;x&quot;:-1.03196,&quot;y&quot;:0.470528,&quot;z&quot;:0.665725},{&quot;x&quot;:-1.0289,&quot;y&quot;:0.466225,&quot;z&quot;:0.703399},{&quot;x&quot;:-1.051,&quot;y&quot;:0.461036,&quot;z&quot;:0.697265},{&quot;x&quot;:-1.05289,&quot;y&quot;:0.463695,&quot;z&quot;:0.673981},{&quot;x&quot;:-0.98076,&quot;y&quot;:0.33871,&quot;z&quot;:0.665717},{&quot;x&quot;:-0.995585,&quot;y&quot;:0.337146,&quot;z&quot;:0.647536},{&quot;x&quot;:-0.992524,&quot;y&quot;:0.332844,&quot;z&quot;:0.68521},{&quot;x&quot;:-1.01462,&quot;y&quot;:0.327654,&quot;z&quot;:0.679077},{&quot;x&quot;:-1.01651,&quot;y&quot;:0.330313,&quot;z&quot;:0.655793},{&quot;x&quot;:-1,&quot;y&quot;:0.333333,&quot;z&quot;:0.666667}], &quot;faces&quot;:[[0,1,2],[0,3,1],[0,4,3],[0,5,4],[0,2,5],[2,1,6,7],[1,3,8,6],[3,4,9,8],[4,5,10,9],[5,2,7,10],[7,6,11],[6,8,11],[8,9,11],[9,10,11],[10,7,11]], &quot;color&quot;:&quot;#0000ff&quot;, &quot;opacity&quot;:1},{&quot;vertices&quot;:[{&quot;x&quot;:-1.08333,&quot;y&quot;:0.638889,&quot;z&quot;:0.708333},{&quot;x&quot;:-0.978656,&quot;y&quot;:0.482845,&quot;z&quot;:0.682006},{&quot;x&quot;:-1.02313,&quot;y&quot;:0.478153,&quot;z&quot;:0.627464},{&quot;x&quot;:-1.01395,&quot;y&quot;:0.465246,&quot;z&quot;:0.740486},{&quot;x&quot;:-1.08024,&quot;y&quot;:0.449677,&quot;z&quot;:0.722085},{&quot;x&quot;:-1.08591,&quot;y&quot;:0.457654,&quot;z&quot;:0.652234},{&quot;x&quot;:-1.03638,&quot;y&quot;:0.466715,&quot;z&quot;:0.684855}], &quot;faces&quot;:[[0,1,2],[0,3,1],[0,4,3],[0,5,4],[0,2,5],[2,1,6],[1,3,6],[3,4,6],[4,5,6],[5,2,6]], &quot;color&quot;:&quot;#0000ff&quot;, &quot;opacity&quot;:1},{&quot;vertices&quot;:[{&quot;x&quot;:-1.08952,&quot;y&quot;:0.512381,&quot;z&quot;:1.05968},{&quot;x&quot;:-1.07145,&quot;y&quot;:0.520464,&quot;z&quot;:1.06254},{&quot;x&quot;:-1.08381,&quot;y&quot;:0.520952,&quot;z&quot;:1.04254},{&quot;x&quot;:-1.08407,&quot;y&quot;:0.508805,&quot;z&quot;:1.07859},{&quot;x&quot;:-1.10422,&quot;y&quot;:0.502088,&quot;z&quot;:1.06851},{&quot;x&quot;:-1.10406,&quot;y&quot;:0.509595,&quot;z&quot;:1.04623},{&quot;x&quot;:-0.98193,&quot;y&quot;:0.341417,&quot;z&quot;:1.00285},{&quot;x&quot;:-0.994286,&quot;y&quot;:0.341905,&quot;z&quot;:0.982857},{&quot;x&quot;:-0.994547,&quot;y&quot;:0.329758,&quot;z&quot;:1.01891},{&quot;x&quot;:-1.0147,&quot;y&quot;:0.32304,&quot;z&quot;:1.00883},{&quot;x&quot;:-1.01454,&quot;y&quot;:0.330547,&quot;z&quot;:0.986551},{&quot;x&quot;:-1,&quot;y&quot;:0.333333,&quot;z&quot;:1}], &quot;faces&quot;:[[0,1,2],[0,3,1],[0,4,3],[0,5,4],[0,2,5],[2,1,6,7],[1,3,8,6],[3,4,9,8],[4,5,10,9],[5,2,7,10],[7,6,11],[6,8,11],[8,9,11],[9,10,11],[10,7,11]], &quot;color&quot;:&quot;#0000ff&quot;, &quot;opacity&quot;:1},{&quot;vertices&quot;:[{&quot;x&quot;:-1.16667,&quot;y&quot;:0.666667,&quot;z&quot;:1.11111},{&quot;x&quot;:-1.03531,&quot;y&quot;:0.536631,&quot;z&quot;:1.06825},{&quot;x&quot;:-1.07238,&quot;y&quot;:0.538095,&quot;z&quot;:1.00825},{&quot;x&quot;:-1.07316,&quot;y&quot;:0.501654,&quot;z&quot;:1.1164},{&quot;x&quot;:-1.13362,&quot;y&quot;:0.481501,&quot;z&quot;:1.08617},{&quot;x&quot;:-1.13314,&quot;y&quot;:0.504023,&quot;z&quot;:1.01933},{&quot;x&quot;:-1.08952,&quot;y&quot;:0.512381,&quot;z&quot;:1.05968}], &quot;faces&quot;:[[0,1,2],[0,3,1],[0,4,3],[0,5,4],[0,2,5],[2,1,6],[1,3,6],[3,4,6],[4,5,6],[5,2,6]], &quot;color&quot;:&quot;#0000ff&quot;, &quot;opacity&quot;:1},{&quot;vertices&quot;:[{&quot;x&quot;:-0.757527,&quot;y&quot;:0.715161,&quot;z&quot;:-0.959588},{&quot;x&quot;:-0.754842,&quot;y&quot;:0.718074,&quot;z&quot;:-0.979192},{&quot;x&quot;:-0.760753,&quot;y&quot;:0.734516,&quot;z&quot;:-0.963459},{&quot;x&quot;:-0.752642,&quot;y&quot;:0.697607,&quot;z&quot;:-0.967833},{&quot;x&quot;:-0.757192,&quot;y&quot;:0.701399,&quot;z&quot;:-0.94508},{&quot;x&quot;:-0.762205,&quot;y&quot;:0.72421,&quot;z&quot;:-0.942376},{&quot;x&quot;:-0.997315,&quot;y&quot;:0.66958,&quot;z&quot;:-1.0196},{&quot;x&quot;:-1.00323,&quot;y&quot;:0.686022,&quot;z&quot;:-1.00387},{&quot;x&quot;:-0.995115,&quot;y&quot;:0.649112,&quot;z&quot;:-1.00824},{&quot;x&quot;:-0.999666,&quot;y&quot;:0.652904,&quot;z&quot;:-0.985492},{&quot;x&quot;:-1.00468,&quot;y&quot;:0.675716,&quot;z&quot;:-0.982789},{&quot;x&quot;:-1,&quot;y&quot;:0.666667,&quot;z&quot;:-1}], &quot;faces&quot;:[[0,1,2],[0,3,1],[0,4,3],[0,5,4],[0,2,5],[2,1,6,7],[1,3,8,6],[3,4,9,8],[4,5,10,9],[5,2,7,10],[7,6,11],[6,8,11],[8,9,11],[9,10,11],[10,7,11]], &quot;color&quot;:&quot;#0000ff&quot;, &quot;opacity&quot;:1},{&quot;vertices&quot;:[{&quot;x&quot;:-0.583333,&quot;y&quot;:0.75,&quot;z&quot;:-0.930556},{&quot;x&quot;:-0.749473,&quot;y&quot;:0.7239,&quot;z&quot;:-1.0184},{&quot;x&quot;:-0.767204,&quot;y&quot;:0.773226,&quot;z&quot;:-0.971201},{&quot;x&quot;:-0.742872,&quot;y&quot;:0.662498,&quot;z&quot;:-0.984322},{&quot;x&quot;:-0.756524,&quot;y&quot;:0.673874,&quot;z&quot;:-0.916063},{&quot;x&quot;:-0.771562,&quot;y&quot;:0.742308,&quot;z&quot;:-0.907954},{&quot;x&quot;:-0.757527,&quot;y&quot;:0.715161,&quot;z&quot;:-0.959588}], &quot;faces&quot;:[[0,1,2],[0,3,1],[0,4,3],[0,5,4],[0,2,5],[2,1,6],[1,3,6],[3,4,6],[4,5,6],[5,2,6]], &quot;color&quot;:&quot;#0000ff&quot;, &quot;opacity&quot;:1},{&quot;vertices&quot;:[{&quot;x&quot;:-0.832821,&quot;y&quot;:0.736325,&quot;z&quot;:-0.666667},{&quot;x&quot;:-0.832201,&quot;y&quot;:0.734838,&quot;z&quot;:-0.686602},{&quot;x&quot;:-0.839921,&quot;y&quot;:0.753366,&quot;z&quot;:-0.674359},{&quot;x&quot;:-0.825337,&quot;y&quot;:0.718364,&quot;z&quot;:-0.671295},{&quot;x&quot;:-0.828815,&quot;y&quot;:0.726712,&quot;z&quot;:-0.649592},{&quot;x&quot;:-0.837828,&quot;y&quot;:0.748344,&quot;z&quot;:-0.651486},{&quot;x&quot;:-0.99938,&quot;y&quot;:0.66518,&quot;z&quot;:-0.686602},{&quot;x&quot;:-1.0071,&quot;y&quot;:0.683708,&quot;z&quot;:-0.674359},{&quot;x&quot;:-0.992516,&quot;y&quot;:0.648706,&quot;z&quot;:-0.671295},{&quot;x&quot;:-0.995995,&quot;y&quot;:0.657053,&quot;z&quot;:-0.649592},{&quot;x&quot;:-1.00501,&quot;y&quot;:0.678686,&quot;z&quot;:-0.651486},{&quot;x&quot;:-1,&quot;y&quot;:0.666667,&quot;z&quot;:-0.666667}], &quot;faces&quot;:[[0,1,2],[0,3,1],[0,4,3],[0,5,4],[0,2,5],[2,1,6,7],[1,3,8,6],[3,4,9,8],[4,5,10,9],[5,2,7,10],[7,6,11],[6,8,11],[8,9,11],[9,10,11],[10,7,11]], &quot;color&quot;:&quot;#0000ff&quot;, &quot;opacity&quot;:1},{&quot;vertices&quot;:[{&quot;x&quot;:-0.666667,&quot;y&quot;:0.805556,&quot;z&quot;:-0.666667},{&quot;x&quot;:-0.830962,&quot;y&quot;:0.731864,&quot;z&quot;:-0.726472},{&quot;x&quot;:-0.854122,&quot;y&quot;:0.787449,&quot;z&quot;:-0.689744},{&quot;x&quot;:-0.81037,&quot;y&quot;:0.682444,&quot;z&quot;:-0.680551},{&quot;x&quot;:-0.820804,&quot;y&quot;:0.707485,&quot;z&quot;:-0.615443},{&quot;x&quot;:-0.847844,&quot;y&quot;:0.772382,&quot;z&quot;:-0.621124},{&quot;x&quot;:-0.832821,&quot;y&quot;:0.736325,&quot;z&quot;:-0.666667}], &quot;faces&quot;:[[0,1,2],[0,3,1],[0,4,3],[0,5,4],[0,2,5],[2,1,6],[1,3,6],[3,4,6],[4,5,6],[5,2,6]], &quot;color&quot;:&quot;#0000ff&quot;, &quot;opacity&quot;:1},{&quot;vertices&quot;:[{&quot;x&quot;:-0.89087,&quot;y&quot;:0.751546,&quot;z&quot;:-0.351522},{&quot;x&quot;:-0.888632,&quot;y&quot;:0.744673,&quot;z&quot;:-0.37017},{&quot;x&quot;:-0.901826,&quot;y&quot;:0.763024,&quot;z&quot;:-0.363696},{&quot;x&quot;:-0.87853,&quot;y&quot;:0.73582,&quot;z&quot;:-0.350873},{&quot;x&quot;:-0.885481,&quot;y&quot;:0.7487,&quot;z&quot;:-0.332473},{&quot;x&quot;:-0.899879,&quot;y&quot;:0.765513,&quot;z&quot;:-0.340398},{&quot;x&quot;:-0.997762,&quot;y&quot;:0.659793,&quot;z&quot;:-0.351981},{&quot;x&quot;:-1.01096,&quot;y&quot;:0.678145,&quot;z&quot;:-0.345507},{&quot;x&quot;:-0.98766,&quot;y&quot;:0.65094,&quot;z&quot;:-0.332685},{&quot;x&quot;:-0.994612,&quot;y&quot;:0.663821,&quot;z&quot;:-0.314284},{&quot;x&quot;:-1.00901,&quot;y&quot;:0.680634,&quot;z&quot;:-0.322209},{&quot;x&quot;:-1,&quot;y&quot;:0.666667,&quot;z&quot;:-0.333333}], &quot;faces&quot;:[[0,1,2],[0,3,1],[0,4,3],[0,5,4],[0,2,5],[2,1,6,7],[1,3,8,6],[3,4,9,8],[4,5,10,9],[5,2,7,10],[7,6,11],[6,8,11],[8,9,11],[9,10,11],[10,7,11]], &quot;color&quot;:&quot;#0000ff&quot;, &quot;opacity&quot;:1},{&quot;vertices&quot;:[{&quot;x&quot;:-0.75,&quot;y&quot;:0.861111,&quot;z&quot;:-0.375},{&quot;x&quot;:-0.884156,&quot;y&quot;:0.730926,&quot;z&quot;:-0.407466},{&quot;x&quot;:-0.923739,&quot;y&quot;:0.785981,&quot;z&quot;:-0.388043},{&quot;x&quot;:-0.853851,&quot;y&quot;:0.704367,&quot;z&quot;:-0.349575},{&quot;x&quot;:-0.874704,&quot;y&quot;:0.743008,&quot;z&quot;:-0.294375},{&quot;x&quot;:-0.917898,&quot;y&quot;:0.793448,&quot;z&quot;:-0.318149},{&quot;x&quot;:-0.89087,&quot;y&quot;:0.751546,&quot;z&quot;:-0.351522}], &quot;faces&quot;:[[0,1,2],[0,3,1],[0,4,3],[0,5,4],[0,2,5],[2,1,6],[1,3,6],[3,4,6],[4,5,6],[5,2,6]], &quot;color&quot;:&quot;#0000ff&quot;, &quot;opacity&quot;:1},{&quot;vertices&quot;:[{&quot;x&quot;:-0.931515,&quot;y&quot;:0.769394,&quot;z&quot;:-0.0228283},{&quot;x&quot;:-0.922782,&quot;y&quot;:0.760142,&quot;z&quot;:-0.0382601},{&quot;x&quot;:-0.942424,&quot;y&quot;:0.77303,&quot;z&quot;:-0.0391919},{&quot;x&quot;:-0.915209,&quot;y&quot;:0.76004,&quot;z&quot;:-0.016002},{&quot;x&quot;:-0.93017,&quot;y&quot;:0.772864,&quot;z&quot;:-0.00317762},{&quot;x&quot;:-0.946991,&quot;y&quot;:0.780893,&quot;z&quot;:-0.0175098},{&quot;x&quot;:-0.991267,&quot;y&quot;:0.657415,&quot;z&quot;:-0.0154318},{&quot;x&quot;:-1.01091,&quot;y&quot;:0.670303,&quot;z&quot;:-0.0163636},{&quot;x&quot;:-0.983693,&quot;y&quot;:0.657313,&quot;z&quot;:0.00682626},{&quot;x&quot;:-0.998655,&quot;y&quot;:0.670137,&quot;z&quot;:0.0196507},{&quot;x&quot;:-1.01548,&quot;y&quot;:0.678166,&quot;z&quot;:0.00531852},{&quot;x&quot;:-1,&quot;y&quot;:0.666667,&quot;z&quot;:0}], &quot;faces&quot;:[[0,1,2],[0,3,1],[0,4,3],[0,5,4],[0,2,5],[2,1,6,7],[1,3,8,6],[3,4,9,8],[4,5,10,9],[5,2,7,10],[7,6,11],[6,8,11],[8,9,11],[9,10,11],[10,7,11]], &quot;color&quot;:&quot;#0000ff&quot;, &quot;opacity&quot;:1},{&quot;vertices&quot;:[{&quot;x&quot;:-0.833333,&quot;y&quot;:0.916667,&quot;z&quot;:-0.0555556},{&quot;x&quot;:-0.905315,&quot;y&quot;:0.74164,&quot;z&quot;:-0.0691237},{&quot;x&quot;:-0.964242,&quot;y&quot;:0.780303,&quot;z&quot;:-0.0719192},{&quot;x&quot;:-0.882596,&quot;y&quot;:0.741332,&quot;z&quot;:-0.00234951},{&quot;x&quot;:-0.927481,&quot;y&quot;:0.779805,&quot;z&quot;:0.0361237},{&quot;x&quot;:-0.977942,&quot;y&quot;:0.803891,&quot;z&quot;:-0.00687272},{&quot;x&quot;:-0.931515,&quot;y&quot;:0.769394,&quot;z&quot;:-0.0228283}], &quot;faces&quot;:[[0,1,2],[0,3,1],[0,4,3],[0,5,4],[0,2,5],[2,1,6],[1,3,6],[3,4,6],[4,5,6],[5,2,6]], &quot;color&quot;:&quot;#0000ff&quot;, &quot;opacity&quot;:1},{&quot;vertices&quot;:[{&quot;x&quot;:-0.963623,&quot;y&quot;:0.800048,&quot;z&quot;:0.315145},{&quot;x&quot;:-0.947864,&quot;y&quot;:0.794268,&quot;z&quot;:0.304271},{&quot;x&quot;:-0.969362,&quot;y&quot;:0.799005,&quot;z&quot;:0.296014},{&quot;x&quot;:-0.948144,&quot;y&quot;:0.797519,&quot;z&quot;:0.327555},{&quot;x&quot;:-0.969816,&quot;y&quot;:0.804266,&quot;z&quot;:0.333688},{&quot;x&quot;:-0.982929,&quot;y&quot;:0.805184,&quot;z&quot;:0.314195},{&quot;x&quot;:-0.984241,&quot;y&quot;:0.660886,&quot;z&quot;:0.32246},{&quot;x&quot;:-1.00574,&quot;y&quot;:0.665623,&quot;z&quot;:0.314203},{&quot;x&quot;:-0.984521,&quot;y&quot;:0.664137,&quot;z&quot;:0.345743},{&quot;x&quot;:-1.00619,&quot;y&quot;:0.670884,&quot;z&quot;:0.351877},{&quot;x&quot;:-1.01931,&quot;y&quot;:0.671802,&quot;z&quot;:0.332384},{&quot;x&quot;:-1,&quot;y&quot;:0.666667,&quot;z&quot;:0.333333}], &quot;faces&quot;:[[0,1,2],[0,3,1],[0,4,3],[0,5,4],[0,2,5],[2,1,6,7],[1,3,8,6],[3,4,9,8],[4,5,10,9],[5,2,7,10],[7,6,11],[6,8,11],[8,9,11],[9,10,11],[10,7,11]], &quot;color&quot;:&quot;#0000ff&quot;, &quot;opacity&quot;:1},{&quot;vertices&quot;:[{&quot;x&quot;:-0.916667,&quot;y&quot;:0.972222,&quot;z&quot;:0.291667},{&quot;x&quot;:-0.916346,&quot;y&quot;:0.782706,&quot;z&quot;:0.282524},{&quot;x&quot;:-0.980841,&quot;y&quot;:0.796918,&quot;z&quot;:0.257754},{&quot;x&quot;:-0.917187,&quot;y&quot;:0.792461,&quot;z&quot;:0.352375},{&quot;x&quot;:-0.982201,&quot;y&quot;:0.812701,&quot;z&quot;:0.370776},{&quot;x&quot;:-1.02154,&quot;y&quot;:0.815456,&quot;z&quot;:0.312296},{&quot;x&quot;:-0.963623,&quot;y&quot;:0.800048,&quot;z&quot;:0.315145}], &quot;faces&quot;:[[0,1,2],[0,3,1],[0,4,3],[0,5,4],[0,2,5],[2,1,6],[1,3,6],[3,4,6],[4,5,6],[5,2,6]], &quot;color&quot;:&quot;#0000ff&quot;, &quot;opacity&quot;:1},{&quot;vertices&quot;:[{&quot;x&quot;:-1,&quot;y&quot;:0.847778,&quot;z&quot;:0.666667},{&quot;x&quot;:-0.980979,&quot;y&quot;:0.847778,&quot;z&quot;:0.660486},{&quot;x&quot;:-1,&quot;y&quot;:0.847778,&quot;z&quot;:0.646667},{&quot;x&quot;:-0.988244,&quot;y&quot;:0.847778,&quot;z&quot;:0.682847},{&quot;x&quot;:-1.01176,&quot;y&quot;:0.847778,&quot;z&quot;:0.682847},{&quot;x&quot;:-1.01902,&quot;y&quot;:0.847778,&quot;z&quot;:0.660486},{&quot;x&quot;:-0.980979,&quot;y&quot;:0.666667,&quot;z&quot;:0.660486},{&quot;x&quot;:-1,&quot;y&quot;:0.666667,&quot;z&quot;:0.646667},{&quot;x&quot;:-0.988244,&quot;y&quot;:0.666667,&quot;z&quot;:0.682847},{&quot;x&quot;:-1.01176,&quot;y&quot;:0.666667,&quot;z&quot;:0.682847},{&quot;x&quot;:-1.01902,&quot;y&quot;:0.666667,&quot;z&quot;:0.660486},{&quot;x&quot;:-1,&quot;y&quot;:0.666667,&quot;z&quot;:0.666667}], &quot;faces&quot;:[[0,1,2],[0,3,1],[0,4,3],[0,5,4],[0,2,5],[2,1,6,7],[1,3,8,6],[3,4,9,8],[4,5,10,9],[5,2,7,10],[7,6,11],[6,8,11],[8,9,11],[9,10,11],[10,7,11]], &quot;color&quot;:&quot;#0000ff&quot;, &quot;opacity&quot;:1},{&quot;vertices&quot;:[{&quot;x&quot;:-1,&quot;y&quot;:1.02778,&quot;z&quot;:0.666667},{&quot;x&quot;:-0.942937,&quot;y&quot;:0.847778,&quot;z&quot;:0.648126},{&quot;x&quot;:-1,&quot;y&quot;:0.847778,&quot;z&quot;:0.606667},{&quot;x&quot;:-0.964733,&quot;y&quot;:0.847778,&quot;z&quot;:0.715208},{&quot;x&quot;:-1.03527,&quot;y&quot;:0.847778,&quot;z&quot;:0.715208},{&quot;x&quot;:-1.05706,&quot;y&quot;:0.847778,&quot;z&quot;:0.648126},{&quot;x&quot;:-1,&quot;y&quot;:0.847778,&quot;z&quot;:0.666667}], &quot;faces&quot;:[[0,1,2],[0,3,1],[0,4,3],[0,5,4],[0,2,5],[2,1,6],[1,3,6],[3,4,6],[4,5,6],[5,2,6]], &quot;color&quot;:&quot;#0000ff&quot;, &quot;opacity&quot;:1},{&quot;vertices&quot;:[{&quot;x&quot;:-1.04849,&quot;y&quot;:0.90914,&quot;z&quot;:1.04041},{&quot;x&quot;:-1.02909,&quot;y&quot;:0.913404,&quot;z&quot;:1.03811},{&quot;x&quot;:-1.04527,&quot;y&quot;:0.913011,&quot;z&quot;:1.02106},{&quot;x&quot;:-1.03973,&quot;y&quot;:0.907904,&quot;z&quot;:1.05835},{&quot;x&quot;:-1.06248,&quot;y&quot;:0.904112,&quot;z&quot;:1.0538},{&quot;x&quot;:-1.06591,&quot;y&quot;:0.907268,&quot;z&quot;:1.03075},{&quot;x&quot;:-0.980596,&quot;y&quot;:0.670931,&quot;z&quot;:0.997701},{&quot;x&quot;:-0.996774,&quot;y&quot;:0.670538,&quot;z&quot;:0.980645},{&quot;x&quot;:-0.991233,&quot;y&quot;:0.665431,&quot;z&quot;:1.01793},{&quot;x&quot;:-1.01399,&quot;y&quot;:0.661639,&quot;z&quot;:1.01338},{&quot;x&quot;:-1.01741,&quot;y&quot;:0.664795,&quot;z&quot;:0.990338},{&quot;x&quot;:-1,&quot;y&quot;:0.666667,&quot;z&quot;:1}], &quot;faces&quot;:[[0,1,2],[0,3,1],[0,4,3],[0,5,4],[0,2,5],[2,1,6,7],[1,3,8,6],[3,4,9,8],[4,5,10,9],[5,2,7,10],[7,6,11],[6,8,11],[8,9,11],[9,10,11],[10,7,11]], &quot;color&quot;:&quot;#0000ff&quot;, &quot;opacity&quot;:1},{&quot;vertices&quot;:[{&quot;x&quot;:-1.08333,&quot;y&quot;:1.08333,&quot;z&quot;:1.06944},{&quot;x&quot;:-0.990282,&quot;y&quot;:0.921932,&quot;z&quot;:1.03351},{&quot;x&quot;:-1.03882,&quot;y&quot;:0.920753,&quot;z&quot;:0.982348},{&quot;x&quot;:-1.02219,&quot;y&quot;:0.905433,&quot;z&quot;:1.09421},{&quot;x&quot;:-1.09045,&quot;y&quot;:0.894057,&quot;z&quot;:1.08056},{&quot;x&quot;:-1.10073,&quot;y&quot;:0.903525,&quot;z&quot;:1.01142},{&quot;x&quot;:-1.04849,&quot;y&quot;:0.90914,&quot;z&quot;:1.04041}], &quot;faces&quot;:[[0,1,2],[0,3,1],[0,4,3],[0,5,4],[0,2,5],[2,1,6],[1,3,6],[3,4,6],[4,5,6],[5,2,6]], &quot;color&quot;:&quot;#0000ff&quot;, &quot;opacity&quot;:1},{&quot;vertices&quot;:[{&quot;x&quot;:-0.68,&quot;y&quot;:1,&quot;z&quot;:-1},{&quot;x&quot;:-0.68,&quot;y&quot;:1.00618,&quot;z&quot;:-1.01902},{&quot;x&quot;:-0.68,&quot;y&quot;:1.02,&quot;z&quot;:-1},{&quot;x&quot;:-0.68,&quot;y&quot;:0.98382,&quot;z&quot;:-1.01176},{&quot;x&quot;:-0.68,&quot;y&quot;:0.98382,&quot;z&quot;:-0.988244},{&quot;x&quot;:-0.68,&quot;y&quot;:1.00618,&quot;z&quot;:-0.980979},{&quot;x&quot;:-1,&quot;y&quot;:1.00618,&quot;z&quot;:-1.01902},{&quot;x&quot;:-1,&quot;y&quot;:1.02,&quot;z&quot;:-1},{&quot;x&quot;:-1,&quot;y&quot;:0.98382,&quot;z&quot;:-1.01176},{&quot;x&quot;:-1,&quot;y&quot;:0.98382,&quot;z&quot;:-0.988244},{&quot;x&quot;:-1,&quot;y&quot;:1.00618,&quot;z&quot;:-0.980979},{&quot;x&quot;:-1,&quot;y&quot;:1,&quot;z&quot;:-1}], &quot;faces&quot;:[[0,1,2],[0,3,1],[0,4,3],[0,5,4],[0,2,5],[2,1,6,7],[1,3,8,6],[3,4,9,8],[4,5,10,9],[5,2,7,10],[7,6,11],[6,8,11],[8,9,11],[9,10,11],[10,7,11]], &quot;color&quot;:&quot;#0000ff&quot;, &quot;opacity&quot;:1},{&quot;vertices&quot;:[{&quot;x&quot;:-0.5,&quot;y&quot;:1,&quot;z&quot;:-1},{&quot;x&quot;:-0.68,&quot;y&quot;:1.01854,&quot;z&quot;:-1.05706},{&quot;x&quot;:-0.68,&quot;y&quot;:1.06,&quot;z&quot;:-1},{&quot;x&quot;:-0.68,&quot;y&quot;:0.951459,&quot;z&quot;:-1.03527},{&quot;x&quot;:-0.68,&quot;y&quot;:0.951459,&quot;z&quot;:-0.964733},{&quot;x&quot;:-0.68,&quot;y&quot;:1.01854,&quot;z&quot;:-0.942937},{&quot;x&quot;:-0.68,&quot;y&quot;:1,&quot;z&quot;:-1}], &quot;faces&quot;:[[0,1,2],[0,3,1],[0,4,3],[0,5,4],[0,2,5],[2,1,6],[1,3,6],[3,4,6],[4,5,6],[5,2,6]], &quot;color&quot;:&quot;#0000ff&quot;, &quot;opacity&quot;:1},{&quot;vertices&quot;:[{&quot;x&quot;:-0.757527,&quot;y&quot;:1.04849,&quot;z&quot;:-0.707079},{&quot;x&quot;:-0.761125,&quot;y&quot;:1.05015,&quot;z&quot;:-0.726683},{&quot;x&quot;:-0.761993,&quot;y&quot;:1.0676,&quot;z&quot;:-0.71095},{&quot;x&quot;:-0.755284,&quot;y&quot;:1.03041,&quot;z&quot;:-0.715324},{&quot;x&quot;:-0.752542,&quot;y&quot;:1.03566,&quot;z&quot;:-0.692571},{&quot;x&quot;:-0.756689,&quot;y&quot;:1.05865,&quot;z&quot;:-0.689868},{&quot;x&quot;:-1.0036,&quot;y&quot;:1.00166,&quot;z&quot;:-0.68627},{&quot;x&quot;:-1.00447,&quot;y&quot;:1.01911,&quot;z&quot;:-0.670538},{&quot;x&quot;:-0.997758,&quot;y&quot;:0.981917,&quot;z&quot;:-0.674911},{&quot;x&quot;:-0.995016,&quot;y&quot;:0.987168,&quot;z&quot;:-0.652158},{&quot;x&quot;:-0.999162,&quot;y&quot;:1.01015,&quot;z&quot;:-0.649455},{&quot;x&quot;:-1,&quot;y&quot;:1,&quot;z&quot;:-0.666667}], &quot;faces&quot;:[[0,1,2],[0,3,1],[0,4,3],[0,5,4],[0,2,5],[2,1,6,7],[1,3,8,6],[3,4,9,8],[4,5,10,9],[5,2,7,10],[7,6,11],[6,8,11],[8,9,11],[9,10,11],[10,7,11]], &quot;color&quot;:&quot;#0000ff&quot;, &quot;opacity&quot;:1},{&quot;vertices&quot;:[{&quot;x&quot;:-0.583333,&quot;y&quot;:1.08333,&quot;z&quot;:-0.736111},{&quot;x&quot;:-0.768323,&quot;y&quot;:1.05346,&quot;z&quot;:-0.76589},{&quot;x&quot;:-0.770926,&quot;y&quot;:1.10581,&quot;z&quot;:-0.718692},{&quot;x&quot;:-0.750799,&quot;y&quot;:0.994246,&quot;z&quot;:-0.731813},{&quot;x&quot;:-0.742573,&quot;y&quot;:1.01,&quot;z&quot;:-0.663554},{&quot;x&quot;:-0.755013,&quot;y&quot;:1.07895,&quot;z&quot;:-0.655445},{&quot;x&quot;:-0.757527,&quot;y&quot;:1.04849,&quot;z&quot;:-0.707079}], &quot;faces&quot;:[[0,1,2],[0,3,1],[0,4,3],[0,5,4],[0,2,5],[2,1,6],[1,3,6],[3,4,6],[4,5,6],[5,2,6]], &quot;color&quot;:&quot;#0000ff&quot;, &quot;opacity&quot;:1},{&quot;vertices&quot;:[{&quot;x&quot;:-0.820952,&quot;y&quot;:1.08952,&quot;z&quot;:-0.393016},{&quot;x&quot;:-0.824674,&quot;y&quot;:1.08433,&quot;z&quot;:-0.411968},{&quot;x&quot;:-0.831238,&quot;y&quot;:1.10438,&quot;z&quot;:-0.401587},{&quot;x&quot;:-0.812967,&quot;y&quot;:1.07146,&quot;z&quot;:-0.396158},{&quot;x&quot;:-0.812295,&quot;y&quot;:1.08355,&quot;z&quot;:-0.376005},{&quot;x&quot;:-0.823587,&quot;y&quot;:1.1039,&quot;z&quot;:-0.379361},{&quot;x&quot;:-1.00372,&quot;y&quot;:0.994809,&quot;z&quot;:-0.352286},{&quot;x&quot;:-1.01029,&quot;y&quot;:1.01486,&quot;z&quot;:-0.341905},{&quot;x&quot;:-0.992015,&quot;y&quot;:0.981935,&quot;z&quot;:-0.336475},{&quot;x&quot;:-0.991343,&quot;y&quot;:0.994026,&quot;z&quot;:-0.316323},{&quot;x&quot;:-1.00263,&quot;y&quot;:1.01437,&quot;z&quot;:-0.319678},{&quot;x&quot;:-1,&quot;y&quot;:1,&quot;z&quot;:-0.333333}], &quot;faces&quot;:[[0,1,2],[0,3,1],[0,4,3],[0,5,4],[0,2,5],[2,1,6,7],[1,3,8,6],[3,4,9,8],[4,5,10,9],[5,2,7,10],[7,6,11],[6,8,11],[8,9,11],[9,10,11],[10,7,11]], &quot;color&quot;:&quot;#0000ff&quot;, &quot;opacity&quot;:1},{&quot;vertices&quot;:[{&quot;x&quot;:-0.666667,&quot;y&quot;:1.16667,&quot;z&quot;:-0.444444},{&quot;x&quot;:-0.832118,&quot;y&quot;:1.07395,&quot;z&quot;:-0.449874},{&quot;x&quot;:-0.85181,&quot;y&quot;:1.1341,&quot;z&quot;:-0.41873},{&quot;x&quot;:-0.796996,&quot;y&quot;:1.03533,&quot;z&quot;:-0.402442},{&quot;x&quot;:-0.794981,&quot;y&quot;:1.0716,&quot;z&quot;:-0.341984},{&quot;x&quot;:-0.828857,&quot;y&quot;:1.13264,&quot;z&quot;:-0.352051},{&quot;x&quot;:-0.820952,&quot;y&quot;:1.08952,&quot;z&quot;:-0.393016}], &quot;faces&quot;:[[0,1,2],[0,3,1],[0,4,3],[0,5,4],[0,2,5],[2,1,6],[1,3,6],[3,4,6],[4,5,6],[5,2,6]], &quot;color&quot;:&quot;#0000ff&quot;, &quot;opacity&quot;:1},{&quot;vertices&quot;:[{&quot;x&quot;:-0.87,&quot;y&quot;:1.13,&quot;z&quot;:-0.065},{&quot;x&quot;:-0.86778,&quot;y&quot;:1.11938,&quot;z&quot;:-0.081801},{&quot;x&quot;:-0.883333,&quot;y&quot;:1.13667,&quot;z&quot;:-0.0783333},{&quot;x&quot;:-0.855295,&quot;y&quot;:1.11677,&quot;z&quot;:-0.0620502},{&quot;x&quot;:-0.863132,&quot;y&quot;:1.13244,&quot;z&quot;:-0.046376},{&quot;x&quot;:-0.880461,&quot;y&quot;:1.14474,&quot;z&quot;:-0.0564395},{&quot;x&quot;:-0.99778,&quot;y&quot;:0.989379,&quot;z&quot;:-0.016801},{&quot;x&quot;:-1.01333,&quot;y&quot;:1.00667,&quot;z&quot;:-0.0133333},{&quot;x&quot;:-0.985295,&quot;y&quot;:0.986769,&quot;z&quot;:0.00294976},{&quot;x&quot;:-0.993132,&quot;y&quot;:1.00244,&quot;z&quot;:0.018624},{&quot;x&quot;:-1.01046,&quot;y&quot;:1.01474,&quot;z&quot;:0.00856053},{&quot;x&quot;:-1,&quot;y&quot;:1,&quot;z&quot;:0}], &quot;faces&quot;:[[0,1,2],[0,3,1],[0,4,3],[0,5,4],[0,2,5],[2,1,6,7],[1,3,8,6],[3,4,9,8],[4,5,10,9],[5,2,7,10],[7,6,11],[6,8,11],[8,9,11],[9,10,11],[10,7,11]], &quot;color&quot;:&quot;#0000ff&quot;, &quot;opacity&quot;:1},{&quot;vertices&quot;:[{&quot;x&quot;:-0.75,&quot;y&quot;:1.25,&quot;z&quot;:-0.125},{&quot;x&quot;:-0.86334,&quot;y&quot;:1.09814,&quot;z&quot;:-0.115403},{&quot;x&quot;:-0.91,&quot;y&quot;:1.15,&quot;z&quot;:-0.105},{&quot;x&quot;:-0.825884,&quot;y&quot;:1.09031,&quot;z&quot;:-0.0561507},{&quot;x&quot;:-0.849395,&quot;y&quot;:1.13733,&quot;z&quot;:-0.00912791},{&quot;x&quot;:-0.901382,&quot;y&quot;:1.17422,&quot;z&quot;:-0.0393184},{&quot;x&quot;:-0.87,&quot;y&quot;:1.13,&quot;z&quot;:-0.065}], &quot;faces&quot;:[[0,1,2],[0,3,1],[0,4,3],[0,5,4],[0,2,5],[2,1,6],[1,3,6],[3,4,6],[4,5,6],[5,2,6]], &quot;color&quot;:&quot;#0000ff&quot;, &quot;opacity&quot;:1},{&quot;vertices&quot;:[{&quot;x&quot;:-0.910476,&quot;y&quot;:1.17905,&quot;z&quot;:0.273651},{&quot;x&quot;:-0.899525,&quot;y&quot;:1.16909,&quot;z&quot;:0.260201},{&quot;x&quot;:-0.920762,&quot;y&quot;:1.17848,&quot;z&quot;:0.256508},{&quot;x&quot;:-0.893422,&quot;y&quot;:1.17346,&quot;z&quot;:0.282481},{&quot;x&quot;:-0.910888,&quot;y&quot;:1.18556,&quot;z&quot;:0.292558},{&quot;x&quot;:-0.927785,&quot;y&quot;:1.18865,&quot;z&quot;:0.276505},{&quot;x&quot;:-0.989048,&quot;y&quot;:0.990041,&quot;z&quot;:0.319884},{&quot;x&quot;:-1.01029,&quot;y&quot;:0.999429,&quot;z&quot;:0.31619},{&quot;x&quot;:-0.982946,&quot;y&quot;:0.994417,&quot;z&quot;:0.342164},{&quot;x&quot;:-1.00041,&quot;y&quot;:1.00651,&quot;z&quot;:0.35224},{&quot;x&quot;:-1.01731,&quot;y&quot;:1.00961,&quot;z&quot;:0.336188},{&quot;x&quot;:-1,&quot;y&quot;:1,&quot;z&quot;:0.333333}], &quot;faces&quot;:[[0,1,2],[0,3,1],[0,4,3],[0,5,4],[0,2,5],[2,1,6,7],[1,3,8,6],[3,4,9,8],[4,5,10,9],[5,2,7,10],[7,6,11],[6,8,11],[8,9,11],[9,10,11],[10,7,11]], &quot;color&quot;:&quot;#0000ff&quot;, &quot;opacity&quot;:1},{&quot;vertices&quot;:[{&quot;x&quot;:-0.833333,&quot;y&quot;:1.33333,&quot;z&quot;:0.222222},{&quot;x&quot;:-0.877622,&quot;y&quot;:1.14917,&quot;z&quot;:0.233303},{&quot;x&quot;:-0.941333,&quot;y&quot;:1.17733,&quot;z&quot;:0.222222},{&quot;x&quot;:-0.859314,&quot;y&quot;:1.1623,&quot;z&quot;:0.300143},{&quot;x&quot;:-0.911711,&quot;y&quot;:1.19857,&quot;z&quot;:0.330372},{&quot;x&quot;:-0.962402,&quot;y&quot;:1.20786,&quot;z&quot;:0.282214},{&quot;x&quot;:-0.910476,&quot;y&quot;:1.17905,&quot;z&quot;:0.273651}], &quot;faces&quot;:[[0,1,2],[0,3,1],[0,4,3],[0,5,4],[0,2,5],[2,1,6],[1,3,6],[3,4,6],[4,5,6],[5,2,6]], &quot;color&quot;:&quot;#0000ff&quot;, &quot;opacity&quot;:1},{&quot;vertices&quot;:[{&quot;x&quot;:-0.951505,&quot;y&quot;:1.24247,&quot;z&quot;:0.626254},{&quot;x&quot;:-0.934714,&quot;y&quot;:1.2375,&quot;z&quot;:0.616592},{&quot;x&quot;:-0.955972,&quot;y&quot;:1.24014,&quot;z&quot;:0.6069},{&quot;x&quot;:-0.936661,&quot;y&quot;:1.24173,&quot;z&quot;:0.639638},{&quot;x&quot;:-0.959123,&quot;y&quot;:1.24699,&quot;z&quot;:0.644188},{&quot;x&quot;:-0.971057,&quot;y&quot;:1.246,&quot;z&quot;:0.623955},{&quot;x&quot;:-0.983209,&quot;y&quot;:0.995031,&quot;z&quot;:0.657004},{&quot;x&quot;:-1.00447,&quot;y&quot;:0.997667,&quot;z&quot;:0.647312},{&quot;x&quot;:-0.985156,&quot;y&quot;:0.999262,&quot;z&quot;:0.68005},{&quot;x&quot;:-1.00762,&quot;y&quot;:1.00451,&quot;z&quot;:0.6846},{&quot;x&quot;:-1.01955,&quot;y&quot;:1.00353,&quot;z&quot;:0.664367},{&quot;x&quot;:-1,&quot;y&quot;:1,&quot;z&quot;:0.666667}], &quot;faces&quot;:[[0,1,2],[0,3,1],[0,4,3],[0,5,4],[0,2,5],[2,1,6,7],[1,3,8,6],[3,4,9,8],[4,5,10,9],[5,2,7,10],[7,6,11],[6,8,11],[8,9,11],[9,10,11],[10,7,11]], &quot;color&quot;:&quot;#0000ff&quot;, &quot;opacity&quot;:1},{&quot;vertices&quot;:[{&quot;x&quot;:-0.916667,&quot;y&quot;:1.41667,&quot;z&quot;:0.597222},{&quot;x&quot;:-0.901131,&quot;y&quot;:1.22757,&quot;z&quot;:0.597267},{&quot;x&quot;:-0.964905,&quot;y&quot;:1.23548,&quot;z&quot;:0.56819},{&quot;x&quot;:-0.906973,&quot;y&quot;:1.24026,&quot;z&quot;:0.666404},{&quot;x&quot;:-0.974357,&quot;y&quot;:1.25601,&quot;z&quot;:0.680056},{&quot;x&quot;:-1.01016,&quot;y&quot;:1.25305,&quot;z&quot;:0.619356},{&quot;x&quot;:-0.951505,&quot;y&quot;:1.24247,&quot;z&quot;:0.626254}], &quot;faces&quot;:[[0,1,2],[0,3,1],[0,4,3],[0,5,4],[0,2,5],[2,1,6],[1,3,6],[3,4,6],[4,5,6],[5,2,6]], &quot;color&quot;:&quot;#0000ff&quot;, &quot;opacity&quot;:1},{&quot;vertices&quot;:[{&quot;x&quot;:-1,&quot;y&quot;:1.32,&quot;z&quot;:1},{&quot;x&quot;:-0.980979,&quot;y&quot;:1.32,&quot;z&quot;:0.99382},{&quot;x&quot;:-1,&quot;y&quot;:1.32,&quot;z&quot;:0.98},{&quot;x&quot;:-0.988244,&quot;y&quot;:1.32,&quot;z&quot;:1.01618},{&quot;x&quot;:-1.01176,&quot;y&quot;:1.32,&quot;z&quot;:1.01618},{&quot;x&quot;:-1.01902,&quot;y&quot;:1.32,&quot;z&quot;:0.99382},{&quot;x&quot;:-0.980979,&quot;y&quot;:1,&quot;z&quot;:0.99382},{&quot;x&quot;:-1,&quot;y&quot;:1,&quot;z&quot;:0.98},{&quot;x&quot;:-0.988244,&quot;y&quot;:1,&quot;z&quot;:1.01618},{&quot;x&quot;:-1.01176,&quot;y&quot;:1,&quot;z&quot;:1.01618},{&quot;x&quot;:-1.01902,&quot;y&quot;:1,&quot;z&quot;:0.99382},{&quot;x&quot;:-1,&quot;y&quot;:1,&quot;z&quot;:1}], &quot;faces&quot;:[[0,1,2],[0,3,1],[0,4,3],[0,5,4],[0,2,5],[2,1,6,7],[1,3,8,6],[3,4,9,8],[4,5,10,9],[5,2,7,10],[7,6,11],[6,8,11],[8,9,11],[9,10,11],[10,7,11]], &quot;color&quot;:&quot;#0000ff&quot;, &quot;opacity&quot;:1},{&quot;vertices&quot;:[{&quot;x&quot;:-1,&quot;y&quot;:1.5,&quot;z&quot;:1},{&quot;x&quot;:-0.942937,&quot;y&quot;:1.32,&quot;z&quot;:0.981459},{&quot;x&quot;:-1,&quot;y&quot;:1.32,&quot;z&quot;:0.94},{&quot;x&quot;:-0.964733,&quot;y&quot;:1.32,&quot;z&quot;:1.04854},{&quot;x&quot;:-1.03527,&quot;y&quot;:1.32,&quot;z&quot;:1.04854},{&quot;x&quot;:-1.05706,&quot;y&quot;:1.32,&quot;z&quot;:0.981459},{&quot;x&quot;:-1,&quot;y&quot;:1.32,&quot;z&quot;:1}], &quot;faces&quot;:[[0,1,2],[0,3,1],[0,4,3],[0,5,4],[0,2,5],[2,1,6],[1,3,6],[3,4,6],[4,5,6],[5,2,6]], &quot;color&quot;:&quot;#0000ff&quot;, &quot;opacity&quot;:1},{&quot;vertices&quot;:[{&quot;x&quot;:-0.715161,&quot;y&quot;:-0.757527,&quot;z&quot;:-0.959588},{&quot;x&quot;:-0.695757,&quot;y&quot;:-0.753263,&quot;z&quot;:-0.961887},{&quot;x&quot;:-0.711935,&quot;y&quot;:-0.753656,&quot;z&quot;:-0.978943},{&quot;x&quot;:-0.706395,&quot;y&quot;:-0.758762,&quot;z&quot;:-0.941654},{&quot;x&quot;:-0.729148,&quot;y&quot;:-0.762555,&quot;z&quot;:-0.946205},{&quot;x&quot;:-0.732572,&quot;y&quot;:-0.759399,&quot;z&quot;:-0.96925},{&quot;x&quot;:-0.647262,&quot;y&quot;:-0.995736,&quot;z&quot;:-1.0023},{&quot;x&quot;:-0.663441,&quot;y&quot;:-0.996129,&quot;z&quot;:-1.01935},{&quot;x&quot;:-0.6579,&quot;y&quot;:-1.00124,&quot;z&quot;:-0.982066},{&quot;x&quot;:-0.680653,&quot;y&quot;:-1.00503,&quot;z&quot;:-0.986617},{&quot;x&quot;:-0.684077,&quot;y&quot;:-1.00187,&quot;z&quot;:-1.00966},{&quot;x&quot;:-0.666667,&quot;y&quot;:-1,&quot;z&quot;:-1}], &quot;faces&quot;:[[0,1,2],[0,3,1],[0,4,3],[0,5,4],[0,2,5],[2,1,6,7],[1,3,8,6],[3,4,9,8],[4,5,10,9],[5,2,7,10],[7,6,11],[6,8,11],[8,9,11],[9,10,11],[10,7,11]], &quot;color&quot;:&quot;#0000ff&quot;, &quot;opacity&quot;:1},{&quot;vertices&quot;:[{&quot;x&quot;:-0.75,&quot;y&quot;:-0.583333,&quot;z&quot;:-0.930556},{&quot;x&quot;:-0.656948,&quot;y&quot;:-0.744735,&quot;z&quot;:-0.966486},{&quot;x&quot;:-0.705484,&quot;y&quot;:-0.745914,&quot;z&quot;:-1.01765},{&quot;x&quot;:-0.688861,&quot;y&quot;:-0.761234,&quot;z&quot;:-0.905787},{&quot;x&quot;:-0.75712,&quot;y&quot;:-0.77261,&quot;z&quot;:-0.919439},{&quot;x&quot;:-0.767393,&quot;y&quot;:-0.763142,&quot;z&quot;:-0.988575},{&quot;x&quot;:-0.715161,&quot;y&quot;:-0.757527,&quot;z&quot;:-0.959588}], &quot;faces&quot;:[[0,1,2],[0,3,1],[0,4,3],[0,5,4],[0,2,5],[2,1,6],[1,3,6],[3,4,6],[4,5,6],[5,2,6]], &quot;color&quot;:&quot;#0000ff&quot;, &quot;opacity&quot;:1},{&quot;vertices&quot;:[{&quot;x&quot;:-0.736325,&quot;y&quot;:-0.832821,&quot;z&quot;:-0.666667},{&quot;x&quot;:-0.717923,&quot;y&quot;:-0.825153,&quot;z&quot;:-0.665056},{&quot;x&quot;:-0.729224,&quot;y&quot;:-0.829862,&quot;z&quot;:-0.685128},{&quot;x&quot;:-0.732053,&quot;y&quot;:-0.83104,&quot;z&quot;:-0.64721},{&quot;x&quot;:-0.752086,&quot;y&quot;:-0.839388,&quot;z&quot;:-0.656252},{&quot;x&quot;:-0.750338,&quot;y&quot;:-0.838659,&quot;z&quot;:-0.679687},{&quot;x&quot;:-0.648265,&quot;y&quot;:-0.992333,&quot;z&quot;:-0.665056},{&quot;x&quot;:-0.659566,&quot;y&quot;:-0.997041,&quot;z&quot;:-0.685128},{&quot;x&quot;:-0.662394,&quot;y&quot;:-0.99822,&quot;z&quot;:-0.64721},{&quot;x&quot;:-0.682428,&quot;y&quot;:-1.00657,&quot;z&quot;:-0.656252},{&quot;x&quot;:-0.68068,&quot;y&quot;:-1.00584,&quot;z&quot;:-0.679687},{&quot;x&quot;:-0.666667,&quot;y&quot;:-1,&quot;z&quot;:-0.666667}], &quot;faces&quot;:[[0,1,2],[0,3,1],[0,4,3],[0,5,4],[0,2,5],[2,1,6,7],[1,3,8,6],[3,4,9,8],[4,5,10,9],[5,2,7,10],[7,6,11],[6,8,11],[8,9,11],[9,10,11],[10,7,11]], &quot;color&quot;:&quot;#0000ff&quot;, &quot;opacity&quot;:1},{&quot;vertices&quot;:[{&quot;x&quot;:-0.805556,&quot;y&quot;:-0.666667,&quot;z&quot;:-0.666667},{&quot;x&quot;:-0.68112,&quot;y&quot;:-0.809819,&quot;z&quot;:-0.661834},{&quot;x&quot;:-0.715023,&quot;y&quot;:-0.823945,&quot;z&quot;:-0.722051},{&quot;x&quot;:-0.723508,&quot;y&quot;:-0.82748,&quot;z&quot;:-0.608295},{&quot;x&quot;:-0.783608,&quot;y&quot;:-0.852522,&quot;z&quot;:-0.635424},{&quot;x&quot;:-0.778364,&quot;y&quot;:-0.850337,&quot;z&quot;:-0.705729},{&quot;x&quot;:-0.736325,&quot;y&quot;:-0.832821,&quot;z&quot;:-0.666667}], &quot;faces&quot;:[[0,1,2],[0,3,1],[0,4,3],[0,5,4],[0,2,5],[2,1,6],[1,3,6],[3,4,6],[4,5,6],[5,2,6]], &quot;color&quot;:&quot;#0000ff&quot;, &quot;opacity&quot;:1},{&quot;vertices&quot;:[{&quot;x&quot;:-0.751546,&quot;y&quot;:-0.89087,&quot;z&quot;:-0.351522},{&quot;x&quot;:-0.737244,&quot;y&quot;:-0.878622,&quot;z&quot;:-0.34478},{&quot;x&quot;:-0.740589,&quot;y&quot;:-0.884957,&quot;z&quot;:-0.367174},{&quot;x&quot;:-0.753663,&quot;y&quot;:-0.889213,&quot;z&quot;:-0.331703},{&quot;x&quot;:-0.767157,&quot;y&quot;:-0.902093,&quot;z&quot;:-0.346015},{&quot;x&quot;:-0.759077,&quot;y&quot;:-0.899463,&quot;z&quot;:-0.367937},{&quot;x&quot;:-0.652364,&quot;y&quot;:-0.987752,&quot;z&quot;:-0.326592},{&quot;x&quot;:-0.65571,&quot;y&quot;:-0.994087,&quot;z&quot;:-0.348986},{&quot;x&quot;:-0.668784,&quot;y&quot;:-0.998344,&quot;z&quot;:-0.313515},{&quot;x&quot;:-0.682277,&quot;y&quot;:-1.01122,&quot;z&quot;:-0.327826},{&quot;x&quot;:-0.674197,&quot;y&quot;:-1.00859,&quot;z&quot;:-0.349748},{&quot;x&quot;:-0.666667,&quot;y&quot;:-1,&quot;z&quot;:-0.333333}], &quot;faces&quot;:[[0,1,2],[0,3,1],[0,4,3],[0,5,4],[0,2,5],[2,1,6,7],[1,3,8,6],[3,4,9,8],[4,5,10,9],[5,2,7,10],[7,6,11],[6,8,11],[8,9,11],[9,10,11],[10,7,11]], &quot;color&quot;:&quot;#0000ff&quot;, &quot;opacity&quot;:1},{&quot;vertices&quot;:[{&quot;x&quot;:-0.861111,&quot;y&quot;:-0.75,&quot;z&quot;:-0.375},{&quot;x&quot;:-0.708639,&quot;y&quot;:-0.854127,&quot;z&quot;:-0.331298},{&quot;x&quot;:-0.718676,&quot;y&quot;:-0.87313,&quot;z&quot;:-0.398478},{&quot;x&quot;:-0.757898,&quot;y&quot;:-0.885901,&quot;z&quot;:-0.292066},{&quot;x&quot;:-0.798378,&quot;y&quot;:-0.924541,&quot;z&quot;:-0.335},{&quot;x&quot;:-0.774138,&quot;y&quot;:-0.916649,&quot;z&quot;:-0.400766},{&quot;x&quot;:-0.751546,&quot;y&quot;:-0.89087,&quot;z&quot;:-0.351522}], &quot;faces&quot;:[[0,1,2],[0,3,1],[0,4,3],[0,5,4],[0,2,5],[2,1,6],[1,3,6],[3,4,6],[4,5,6],[5,2,6]], &quot;color&quot;:&quot;#0000ff&quot;, &quot;opacity&quot;:1},{&quot;vertices&quot;:[{&quot;x&quot;:-0.769394,&quot;y&quot;:-0.931515,&quot;z&quot;:-0.0228283},{&quot;x&quot;:-0.762564,&quot;y&quot;:-0.917207,&quot;z&quot;:-0.0106366},{&quot;x&quot;:-0.758485,&quot;y&quot;:-0.918788,&quot;z&quot;:-0.0337374},{&quot;x&quot;:-0.776082,&quot;y&quot;:-0.9354,&quot;z&quot;:-0.00438434},{&quot;x&quot;:-0.780357,&quot;y&quot;:-0.948224,&quot;z&quot;:-0.0236209},{&quot;x&quot;:-0.769481,&quot;y&quot;:-0.937957,&quot;z&quot;:-0.0417621},{&quot;x&quot;:-0.659837,&quot;y&quot;:-0.985692,&quot;z&quot;:0.0121916},{&quot;x&quot;:-0.655758,&quot;y&quot;:-0.987273,&quot;z&quot;:-0.0109091},{&quot;x&quot;:-0.673355,&quot;y&quot;:-1.00388,&quot;z&quot;:0.0184439},{&quot;x&quot;:-0.67763,&quot;y&quot;:-1.01671,&quot;z&quot;:-0.000792664},{&quot;x&quot;:-0.666754,&quot;y&quot;:-1.00644,&quot;z&quot;:-0.0189338},{&quot;x&quot;:-0.666667,&quot;y&quot;:-1,&quot;z&quot;:0}], &quot;faces&quot;:[[0,1,2],[0,3,1],[0,4,3],[0,5,4],[0,2,5],[2,1,6,7],[1,3,8,6],[3,4,9,8],[4,5,10,9],[5,2,7,10],[7,6,11],[6,8,11],[8,9,11],[9,10,11],[10,7,11]], &quot;color&quot;:&quot;#0000ff&quot;, &quot;opacity&quot;:1},{&quot;vertices&quot;:[{&quot;x&quot;:-0.916667,&quot;y&quot;:-0.833333,&quot;z&quot;:-0.0555556},{&quot;x&quot;:-0.748905,&quot;y&quot;:-0.888591,&quot;z&quot;:0.0137467},{&quot;x&quot;:-0.736667,&quot;y&quot;:-0.893333,&quot;z&quot;:-0.0555556},{&quot;x&quot;:-0.789459,&quot;y&quot;:-0.943168,&quot;z&quot;:0.0325035},{&quot;x&quot;:-0.802283,&quot;y&quot;:-0.981641,&quot;z&quot;:-0.0252063},{&quot;x&quot;:-0.769656,&quot;y&quot;:-0.950842,&quot;z&quot;:-0.0796298},{&quot;x&quot;:-0.769394,&quot;y&quot;:-0.931515,&quot;z&quot;:-0.0228283}], &quot;faces&quot;:[[0,1,2],[0,3,1],[0,4,3],[0,5,4],[0,2,5],[2,1,6],[1,3,6],[3,4,6],[4,5,6],[5,2,6]], &quot;color&quot;:&quot;#0000ff&quot;, &quot;opacity&quot;:1},{&quot;vertices&quot;:[{&quot;x&quot;:-0.800048,&quot;y&quot;:-0.963623,&quot;z&quot;:0.315145},{&quot;x&quot;:-0.799267,&quot;y&quot;:-0.952468,&quot;z&quot;:0.331727},{&quot;x&quot;:-0.794309,&quot;y&quot;:-0.945188,&quot;z&quot;:0.309928},{&quot;x&quot;:-0.805305,&quot;y&quot;:-0.975164,&quot;z&quot;:0.33061},{&quot;x&quot;:-0.804078,&quot;y&quot;:-0.981911,&quot;z&quot;:0.308121},{&quot;x&quot;:-0.797282,&quot;y&quot;:-0.963385,&quot;z&quot;:0.295339},{&quot;x&quot;:-0.665886,&quot;y&quot;:-0.988845,&quot;z&quot;:0.349915},{&quot;x&quot;:-0.660928,&quot;y&quot;:-0.981565,&quot;z&quot;:0.328116},{&quot;x&quot;:-0.671923,&quot;y&quot;:-1.01154,&quot;z&quot;:0.348799},{&quot;x&quot;:-0.670696,&quot;y&quot;:-1.01829,&quot;z&quot;:0.32631},{&quot;x&quot;:-0.663901,&quot;y&quot;:-0.999762,&quot;z&quot;:0.313527},{&quot;x&quot;:-0.666667,&quot;y&quot;:-1,&quot;z&quot;:0.333333}], &quot;faces&quot;:[[0,1,2],[0,3,1],[0,4,3],[0,5,4],[0,2,5],[2,1,6,7],[1,3,8,6],[3,4,9,8],[4,5,10,9],[5,2,7,10],[7,6,11],[6,8,11],[8,9,11],[9,10,11],[10,7,11]], &quot;color&quot;:&quot;#0000ff&quot;, &quot;opacity&quot;:1},{&quot;vertices&quot;:[{&quot;x&quot;:-0.972222,&quot;y&quot;:-0.916667,&quot;z&quot;:0.291667},{&quot;x&quot;:-0.797705,&quot;y&quot;:-0.930158,&quot;z&quot;:0.364891},{&quot;x&quot;:-0.782831,&quot;y&quot;:-0.908319,&quot;z&quot;:0.299493},{&quot;x&quot;:-0.815817,&quot;y&quot;:-0.998245,&quot;z&quot;:0.361542},{&quot;x&quot;:-0.812137,&quot;y&quot;:-1.01849,&quot;z&quot;:0.294074},{&quot;x&quot;:-0.791751,&quot;y&quot;:-0.962908,&quot;z&quot;:0.255726},{&quot;x&quot;:-0.800048,&quot;y&quot;:-0.963623,&quot;z&quot;:0.315145}], &quot;faces&quot;:[[0,1,2],[0,3,1],[0,4,3],[0,5,4],[0,2,5],[2,1,6],[1,3,6],[3,4,6],[4,5,6],[5,2,6]], &quot;color&quot;:&quot;#0000ff&quot;, &quot;opacity&quot;:1},{&quot;vertices&quot;:[{&quot;x&quot;:-0.847778,&quot;y&quot;:-1,&quot;z&quot;:0.666667},{&quot;x&quot;:-0.847778,&quot;y&quot;:-0.99382,&quot;z&quot;:0.685688},{&quot;x&quot;:-0.847778,&quot;y&quot;:-0.98,&quot;z&quot;:0.666667},{&quot;x&quot;:-0.847778,&quot;y&quot;:-1.01618,&quot;z&quot;:0.678422},{&quot;x&quot;:-0.847778,&quot;y&quot;:-1.01618,&quot;z&quot;:0.654911},{&quot;x&quot;:-0.847778,&quot;y&quot;:-0.99382,&quot;z&quot;:0.647646},{&quot;x&quot;:-0.666667,&quot;y&quot;:-0.99382,&quot;z&quot;:0.685688},{&quot;x&quot;:-0.666667,&quot;y&quot;:-0.98,&quot;z&quot;:0.666667},{&quot;x&quot;:-0.666667,&quot;y&quot;:-1.01618,&quot;z&quot;:0.678422},{&quot;x&quot;:-0.666667,&quot;y&quot;:-1.01618,&quot;z&quot;:0.654911},{&quot;x&quot;:-0.666667,&quot;y&quot;:-0.99382,&quot;z&quot;:0.647646},{&quot;x&quot;:-0.666667,&quot;y&quot;:-1,&quot;z&quot;:0.666667}], &quot;faces&quot;:[[0,1,2],[0,3,1],[0,4,3],[0,5,4],[0,2,5],[2,1,6,7],[1,3,8,6],[3,4,9,8],[4,5,10,9],[5,2,7,10],[7,6,11],[6,8,11],[8,9,11],[9,10,11],[10,7,11]], &quot;color&quot;:&quot;#0000ff&quot;, &quot;opacity&quot;:1},{&quot;vertices&quot;:[{&quot;x&quot;:-1.02778,&quot;y&quot;:-1,&quot;z&quot;:0.666667},{&quot;x&quot;:-0.847778,&quot;y&quot;:-0.981459,&quot;z&quot;:0.72373},{&quot;x&quot;:-0.847778,&quot;y&quot;:-0.94,&quot;z&quot;:0.666667},{&quot;x&quot;:-0.847778,&quot;y&quot;:-1.04854,&quot;z&quot;:0.701934},{&quot;x&quot;:-0.847778,&quot;y&quot;:-1.04854,&quot;z&quot;:0.6314},{&quot;x&quot;:-0.847778,&quot;y&quot;:-0.981459,&quot;z&quot;:0.609603},{&quot;x&quot;:-0.847778,&quot;y&quot;:-1,&quot;z&quot;:0.666667}], &quot;faces&quot;:[[0,1,2],[0,3,1],[0,4,3],[0,5,4],[0,2,5],[2,1,6],[1,3,6],[3,4,6],[4,5,6],[5,2,6]], &quot;color&quot;:&quot;#0000ff&quot;, &quot;opacity&quot;:1},{&quot;vertices&quot;:[{&quot;x&quot;:-0.90914,&quot;y&quot;:-1.04849,&quot;z&quot;:1.04041},{&quot;x&quot;:-0.906455,&quot;y&quot;:-1.04558,&quot;z&quot;:1.06002},{&quot;x&quot;:-0.912366,&quot;y&quot;:-1.02914,&quot;z&quot;:1.04428},{&quot;x&quot;:-0.904255,&quot;y&quot;:-1.06605,&quot;z&quot;:1.04866},{&quot;x&quot;:-0.908805,&quot;y&quot;:-1.06226,&quot;z&quot;:1.0259},{&quot;x&quot;:-0.913818,&quot;y&quot;:-1.03945,&quot;z&quot;:1.0232},{&quot;x&quot;:-0.663982,&quot;y&quot;:-0.997087,&quot;z&quot;:1.0196},{&quot;x&quot;:-0.669892,&quot;y&quot;:-0.980645,&quot;z&quot;:1.00387},{&quot;x&quot;:-0.661782,&quot;y&quot;:-1.01755,&quot;z&quot;:1.00824},{&quot;x&quot;:-0.666332,&quot;y&quot;:-1.01376,&quot;z&quot;:0.985492},{&quot;x&quot;:-0.671345,&quot;y&quot;:-0.990951,&quot;z&quot;:0.982789},{&quot;x&quot;:-0.666667,&quot;y&quot;:-1,&quot;z&quot;:1}], &quot;faces&quot;:[[0,1,2],[0,3,1],[0,4,3],[0,5,4],[0,2,5],[2,1,6,7],[1,3,8,6],[3,4,9,8],[4,5,10,9],[5,2,7,10],[7,6,11],[6,8,11],[8,9,11],[9,10,11],[10,7,11]], &quot;color&quot;:&quot;#0000ff&quot;, &quot;opacity&quot;:1},{&quot;vertices&quot;:[{&quot;x&quot;:-1.08333,&quot;y&quot;:-1.08333,&quot;z&quot;:1.06944},{&quot;x&quot;:-0.901086,&quot;y&quot;:-1.03976,&quot;z&quot;:1.09922},{&quot;x&quot;:-0.918817,&quot;y&quot;:-0.99043,&quot;z&quot;:1.05203},{&quot;x&quot;:-0.894485,&quot;y&quot;:-1.10116,&quot;z&quot;:1.06515},{&quot;x&quot;:-0.908136,&quot;y&quot;:-1.08978,&quot;z&quot;:0.996888},{&quot;x&quot;:-0.923175,&quot;y&quot;:-1.02135,&quot;z&quot;:0.988778},{&quot;x&quot;:-0.90914,&quot;y&quot;:-1.04849,&quot;z&quot;:1.04041}], &quot;faces&quot;:[[0,1,2],[0,3,1],[0,4,3],[0,5,4],[0,2,5],[2,1,6],[1,3,6],[3,4,6],[4,5,6],[5,2,6]], &quot;color&quot;:&quot;#0000ff&quot;, &quot;opacity&quot;:1},{&quot;vertices&quot;:[{&quot;x&quot;:-0.666667,&quot;y&quot;:-0.499487,&quot;z&quot;:-0.930342},{&quot;x&quot;:-0.647646,&quot;y&quot;:-0.49711,&quot;z&quot;:-0.936047},{&quot;x&quot;:-0.666667,&quot;y&quot;:-0.491795,&quot;z&quot;:-0.948803},{&quot;x&quot;:-0.654911,&quot;y&quot;:-0.50571,&quot;z&quot;:-0.915406},{&quot;x&quot;:-0.678422,&quot;y&quot;:-0.50571,&quot;z&quot;:-0.915406},{&quot;x&quot;:-0.685688,&quot;y&quot;:-0.49711,&quot;z&quot;:-0.936047},{&quot;x&quot;:-0.647646,&quot;y&quot;:-0.66429,&quot;z&quot;:-1.0057},{&quot;x&quot;:-0.666667,&quot;y&quot;:-0.658974,&quot;z&quot;:-1.01846},{&quot;x&quot;:-0.654911,&quot;y&quot;:-0.67289,&quot;z&quot;:-0.985064},{&quot;x&quot;:-0.678422,&quot;y&quot;:-0.67289,&quot;z&quot;:-0.985064},{&quot;x&quot;:-0.685688,&quot;y&quot;:-0.66429,&quot;z&quot;:-1.0057},{&quot;x&quot;:-0.666667,&quot;y&quot;:-0.666667,&quot;z&quot;:-1}], &quot;faces&quot;:[[0,1,2],[0,3,1],[0,4,3],[0,5,4],[0,2,5],[2,1,6,7],[1,3,8,6],[3,4,9,8],[4,5,10,9],[5,2,7,10],[7,6,11],[6,8,11],[8,9,11],[9,10,11],[10,7,11]], &quot;color&quot;:&quot;#0000ff&quot;, &quot;opacity&quot;:1},{&quot;vertices&quot;:[{&quot;x&quot;:-0.666667,&quot;y&quot;:-0.333333,&quot;z&quot;:-0.861111},{&quot;x&quot;:-0.609603,&quot;y&quot;:-0.492356,&quot;z&quot;:-0.947457},{&quot;x&quot;:-0.666667,&quot;y&quot;:-0.47641,&quot;z&quot;:-0.985726},{&quot;x&quot;:-0.6314,&quot;y&quot;:-0.518157,&quot;z&quot;:-0.885535},{&quot;x&quot;:-0.701934,&quot;y&quot;:-0.518157,&quot;z&quot;:-0.885535},{&quot;x&quot;:-0.72373,&quot;y&quot;:-0.492356,&quot;z&quot;:-0.947457},{&quot;x&quot;:-0.666667,&quot;y&quot;:-0.499487,&quot;z&quot;:-0.930342}], &quot;faces&quot;:[[0,1,2],[0,3,1],[0,4,3],[0,5,4],[0,2,5],[2,1,6],[1,3,6],[3,4,6],[4,5,6],[5,2,6]], &quot;color&quot;:&quot;#0000ff&quot;, &quot;opacity&quot;:1},{&quot;vertices&quot;:[{&quot;x&quot;:-0.687937,&quot;y&quot;:-0.560317,&quot;z&quot;:-0.640079},{&quot;x&quot;:-0.668567,&quot;y&quot;:-0.555878,&quot;z&quot;:-0.642342},{&quot;x&quot;:-0.685006,&quot;y&quot;:-0.554969,&quot;z&quot;:-0.659127},{&quot;x&quot;:-0.678896,&quot;y&quot;:-0.562922,&quot;z&quot;:-0.62243},{&quot;x&quot;:-0.701718,&quot;y&quot;:-0.566367,&quot;z&quot;:-0.626909},{&quot;x&quot;:-0.705495,&quot;y&quot;:-0.561452,&quot;z&quot;:-0.649588},{&quot;x&quot;:-0.647297,&quot;y&quot;:-0.662227,&quot;z&quot;:-0.66893},{&quot;x&quot;:-0.663736,&quot;y&quot;:-0.661319,&quot;z&quot;:-0.685714},{&quot;x&quot;:-0.657626,&quot;y&quot;:-0.669271,&quot;z&quot;:-0.649018},{&quot;x&quot;:-0.680449,&quot;y&quot;:-0.672716,&quot;z&quot;:-0.653496},{&quot;x&quot;:-0.684225,&quot;y&quot;:-0.667801,&quot;z&quot;:-0.676176},{&quot;x&quot;:-0.666667,&quot;y&quot;:-0.666667,&quot;z&quot;:-0.666667}], &quot;faces&quot;:[[0,1,2],[0,3,1],[0,4,3],[0,5,4],[0,2,5],[2,1,6,7],[1,3,8,6],[3,4,9,8],[4,5,10,9],[5,2,7,10],[7,6,11],[6,8,11],[8,9,11],[9,10,11],[10,7,11]], &quot;color&quot;:&quot;#0000ff&quot;, &quot;opacity&quot;:1},{&quot;vertices&quot;:[{&quot;x&quot;:-0.722222,&quot;y&quot;:-0.388889,&quot;z&quot;:-0.597222},{&quot;x&quot;:-0.629829,&quot;y&quot;:-0.546999,&quot;z&quot;:-0.646868},{&quot;x&quot;:-0.679145,&quot;y&quot;:-0.544274,&quot;z&quot;:-0.697222},{&quot;x&quot;:-0.660815,&quot;y&quot;:-0.56813,&quot;z&quot;:-0.587132},{&quot;x&quot;:-0.729282,&quot;y&quot;:-0.578465,&quot;z&quot;:-0.600567},{&quot;x&quot;:-0.740611,&quot;y&quot;:-0.563721,&quot;z&quot;:-0.668607},{&quot;x&quot;:-0.687937,&quot;y&quot;:-0.560317,&quot;z&quot;:-0.640079}], &quot;faces&quot;:[[0,1,2],[0,3,1],[0,4,3],[0,5,4],[0,2,5],[2,1,6],[1,3,6],[3,4,6],[4,5,6],[5,2,6]], &quot;color&quot;:&quot;#0000ff&quot;, &quot;opacity&quot;:1},{&quot;vertices&quot;:[{&quot;x&quot;:-0.697778,&quot;y&quot;:-0.604444,&quot;z&quot;:-0.325556},{&quot;x&quot;:-0.679941,&quot;y&quot;:-0.595896,&quot;z&quot;:-0.322595},{&quot;x&quot;:-0.690667,&quot;y&quot;:-0.598667,&quot;z&quot;:-0.343333},{&quot;x&quot;:-0.693865,&quot;y&quot;:-0.604939,&quot;z&quot;:-0.305948},{&quot;x&quot;:-0.713197,&quot;y&quot;:-0.613299,&quot;z&quot;:-0.316398},{&quot;x&quot;:-0.71122,&quot;y&quot;:-0.609422,&quot;z&quot;:-0.339503},{&quot;x&quot;:-0.64883,&quot;y&quot;:-0.658118,&quot;z&quot;:-0.330373},{&quot;x&quot;:-0.659556,&quot;y&quot;:-0.660889,&quot;z&quot;:-0.351111},{&quot;x&quot;:-0.662754,&quot;y&quot;:-0.667161,&quot;z&quot;:-0.313726},{&quot;x&quot;:-0.682085,&quot;y&quot;:-0.675521,&quot;z&quot;:-0.324176},{&quot;x&quot;:-0.680109,&quot;y&quot;:-0.671644,&quot;z&quot;:-0.347281},{&quot;x&quot;:-0.666667,&quot;y&quot;:-0.666667,&quot;z&quot;:-0.333333}], &quot;faces&quot;:[[0,1,2],[0,3,1],[0,4,3],[0,5,4],[0,2,5],[2,1,6,7],[1,3,8,6],[3,4,9,8],[4,5,10,9],[5,2,7,10],[7,6,11],[6,8,11],[8,9,11],[9,10,11],[10,7,11]], &quot;color&quot;:&quot;#0000ff&quot;, &quot;opacity&quot;:1},{&quot;vertices&quot;:[{&quot;x&quot;:-0.777778,&quot;y&quot;:-0.444444,&quot;z&quot;:-0.305556},{&quot;x&quot;:-0.644267,&quot;y&quot;:-0.578799,&quot;z&quot;:-0.316675},{&quot;x&quot;:-0.676444,&quot;y&quot;:-0.587111,&quot;z&quot;:-0.378889},{&quot;x&quot;:-0.686039,&quot;y&quot;:-0.605928,&quot;z&quot;:-0.266734},{&quot;x&quot;:-0.744034,&quot;y&quot;:-0.631007,&quot;z&quot;:-0.298082},{&quot;x&quot;:-0.738104,&quot;y&quot;:-0.619377,&quot;z&quot;:-0.367398},{&quot;x&quot;:-0.697778,&quot;y&quot;:-0.604444,&quot;z&quot;:-0.325556}], &quot;faces&quot;:[[0,1,2],[0,3,1],[0,4,3],[0,5,4],[0,2,5],[2,1,6],[1,3,6],[3,4,6],[4,5,6],[5,2,6]], &quot;color&quot;:&quot;#0000ff&quot;, &quot;opacity&quot;:1},{&quot;vertices&quot;:[{&quot;x&quot;:-0.706275,&quot;y&quot;:-0.627059,&quot;z&quot;:0.00330065},{&quot;x&quot;:-0.693296,&quot;y&quot;:-0.614836,&quot;z&quot;:0.0123647},{&quot;x&quot;:-0.696863,&quot;y&quot;:-0.616471,&quot;z&quot;:-0.010817},{&quot;x&quot;:-0.707665,&quot;y&quot;:-0.630093,&quot;z&quot;:0.0230202},{&quot;x&quot;:-0.720112,&quot;y&quot;:-0.641157,&quot;z&quot;:0.00642393},{&quot;x&quot;:-0.713436,&quot;y&quot;:-0.632738,&quot;z&quot;:-0.0144886},{&quot;x&quot;:-0.653688,&quot;y&quot;:-0.654444,&quot;z&quot;:0.00906409},{&quot;x&quot;:-0.657255,&quot;y&quot;:-0.656078,&quot;z&quot;:-0.0141176},{&quot;x&quot;:-0.668057,&quot;y&quot;:-0.669701,&quot;z&quot;:0.0197196},{&quot;x&quot;:-0.680505,&quot;y&quot;:-0.680765,&quot;z&quot;:0.00312327},{&quot;x&quot;:-0.673828,&quot;y&quot;:-0.672346,&quot;z&quot;:-0.0177893},{&quot;x&quot;:-0.666667,&quot;y&quot;:-0.666667,&quot;z&quot;:0}], &quot;faces&quot;:[[0,1,2],[0,3,1],[0,4,3],[0,5,4],[0,2,5],[2,1,6,7],[1,3,8,6],[3,4,9,8],[4,5,10,9],[5,2,7,10],[7,6,11],[6,8,11],[8,9,11],[9,10,11],[10,7,11]], &quot;color&quot;:&quot;#0000ff&quot;, &quot;opacity&quot;:1},{&quot;vertices&quot;:[{&quot;x&quot;:-0.833333,&quot;y&quot;:-0.5,&quot;z&quot;:0.0138889},{&quot;x&quot;:-0.667339,&quot;y&quot;:-0.59039,&quot;z&quot;:0.0304929},{&quot;x&quot;:-0.678039,&quot;y&quot;:-0.595294,&quot;z&quot;:-0.0390523},{&quot;x&quot;:-0.710447,&quot;y&quot;:-0.636161,&quot;z&quot;:0.0624593},{&quot;x&quot;:-0.747788,&quot;y&quot;:-0.669353,&quot;z&quot;:0.0126705},{&quot;x&quot;:-0.727759,&quot;y&quot;:-0.644096,&quot;z&quot;:-0.0500672},{&quot;x&quot;:-0.706275,&quot;y&quot;:-0.627059,&quot;z&quot;:0.00330065}], &quot;faces&quot;:[[0,1,2],[0,3,1],[0,4,3],[0,5,4],[0,2,5],[2,1,6],[1,3,6],[3,4,6],[4,5,6],[5,2,6]], &quot;color&quot;:&quot;#0000ff&quot;, &quot;opacity&quot;:1},{&quot;vertices&quot;:[{&quot;x&quot;:-0.728889,&quot;y&quot;:-0.635556,&quot;z&quot;:0.341111},{&quot;x&quot;:-0.721196,&quot;y&quot;:-0.623711,&quot;z&quot;:0.355272},{&quot;x&quot;:-0.721778,&quot;y&quot;:-0.619111,&quot;z&quot;:0.332222},{&quot;x&quot;:-0.731246,&quot;y&quot;:-0.64468,&quot;z&quot;:0.358752},{&quot;x&quot;:-0.738038,&quot;y&quot;:-0.653039,&quot;z&quot;:0.337853},{&quot;x&quot;:-0.732186,&quot;y&quot;:-0.637237,&quot;z&quot;:0.321457},{&quot;x&quot;:-0.658974,&quot;y&quot;:-0.654822,&quot;z&quot;:0.347494},{&quot;x&quot;:-0.659556,&quot;y&quot;:-0.650222,&quot;z&quot;:0.324444},{&quot;x&quot;:-0.669024,&quot;y&quot;:-0.675791,&quot;z&quot;:0.350974},{&quot;x&quot;:-0.675816,&quot;y&quot;:-0.68415,&quot;z&quot;:0.330075},{&quot;x&quot;:-0.669964,&quot;y&quot;:-0.668348,&quot;z&quot;:0.313679},{&quot;x&quot;:-0.666667,&quot;y&quot;:-0.666667,&quot;z&quot;:0.333333}], &quot;faces&quot;:[[0,1,2],[0,3,1],[0,4,3],[0,5,4],[0,2,5],[2,1,6,7],[1,3,8,6],[3,4,9,8],[4,5,10,9],[5,2,7,10],[7,6,11],[6,8,11],[8,9,11],[9,10,11],[10,7,11]], &quot;color&quot;:&quot;#0000ff&quot;, &quot;opacity&quot;:1},{&quot;vertices&quot;:[{&quot;x&quot;:-0.888889,&quot;y&quot;:-0.555556,&quot;z&quot;:0.361111},{&quot;x&quot;:-0.705812,&quot;y&quot;:-0.600022,&quot;z&quot;:0.383594},{&quot;x&quot;:-0.707556,&quot;y&quot;:-0.586222,&quot;z&quot;:0.314444},{&quot;x&quot;:-0.73596,&quot;y&quot;:-0.662928,&quot;z&quot;:0.394033},{&quot;x&quot;:-0.756336,&quot;y&quot;:-0.688006,&quot;z&quot;:0.331336},{&quot;x&quot;:-0.738782,&quot;y&quot;:-0.6406,&quot;z&quot;:0.282148},{&quot;x&quot;:-0.728889,&quot;y&quot;:-0.635556,&quot;z&quot;:0.341111}], &quot;faces&quot;:[[0,1,2],[0,3,1],[0,4,3],[0,5,4],[0,2,5],[2,1,6],[1,3,6],[3,4,6],[4,5,6],[5,2,6]], &quot;color&quot;:&quot;#0000ff&quot;, &quot;opacity&quot;:1},{&quot;vertices&quot;:[{&quot;x&quot;:-0.773016,&quot;y&quot;:-0.645397,&quot;z&quot;:0.693254},{&quot;x&quot;:-0.767024,&quot;y&quot;:-0.636611,&quot;z&quot;:0.710192},{&quot;x&quot;:-0.770085,&quot;y&quot;:-0.625983,&quot;z&quot;:0.689444},{&quot;x&quot;:-0.772243,&quot;y&quot;:-0.659381,&quot;z&quot;:0.707532},{&quot;x&quot;:-0.77853,&quot;y&quot;:-0.662825,&quot;z&quot;:0.68514},{&quot;x&quot;:-0.777197,&quot;y&quot;:-0.642185,&quot;z&quot;:0.673961},{&quot;x&quot;:-0.660675,&quot;y&quot;:-0.65788,&quot;z&quot;:0.683605},{&quot;x&quot;:-0.663736,&quot;y&quot;:-0.647253,&quot;z&quot;:0.662857},{&quot;x&quot;:-0.665894,&quot;y&quot;:-0.68065,&quot;z&quot;:0.680945},{&quot;x&quot;:-0.672181,&quot;y&quot;:-0.684095,&quot;z&quot;:0.658553},{&quot;x&quot;:-0.670847,&quot;y&quot;:-0.663454,&quot;z&quot;:0.647374},{&quot;x&quot;:-0.666667,&quot;y&quot;:-0.666667,&quot;z&quot;:0.666667}], &quot;faces&quot;:[[0,1,2],[0,3,1],[0,4,3],[0,5,4],[0,2,5],[2,1,6,7],[1,3,8,6],[3,4,9,8],[4,5,10,9],[5,2,7,10],[7,6,11],[6,8,11],[8,9,11],[9,10,11],[10,7,11]], &quot;color&quot;:&quot;#0000ff&quot;, &quot;opacity&quot;:1},{&quot;vertices&quot;:[{&quot;x&quot;:-0.944444,&quot;y&quot;:-0.611111,&quot;z&quot;:0.736111},{&quot;x&quot;:-0.755041,&quot;y&quot;:-0.619038,&quot;z&quot;:0.744068},{&quot;x&quot;:-0.764225,&quot;y&quot;:-0.587155,&quot;z&quot;:0.681825},{&quot;x&quot;:-0.770698,&quot;y&quot;:-0.687348,&quot;z&quot;:0.736088},{&quot;x&quot;:-0.789559,&quot;y&quot;:-0.697683,&quot;z&quot;:0.668912},{&quot;x&quot;:-0.785558,&quot;y&quot;:-0.63576,&quot;z&quot;:0.635376},{&quot;x&quot;:-0.773016,&quot;y&quot;:-0.645397,&quot;z&quot;:0.693254}], &quot;faces&quot;:[[0,1,2],[0,3,1],[0,4,3],[0,5,4],[0,2,5],[2,1,6],[1,3,6],[3,4,6],[4,5,6],[5,2,6]], &quot;color&quot;:&quot;#0000ff&quot;, &quot;opacity&quot;:1},{&quot;vertices&quot;:[{&quot;x&quot;:-0.833846,&quot;y&quot;:-0.666667,&quot;z&quot;:1.06966},{&quot;x&quot;:-0.82653,&quot;y&quot;:-0.660486,&quot;z&quot;:1.08722},{&quot;x&quot;:-0.833846,&quot;y&quot;:-0.646667,&quot;z&quot;:1.06966},{&quot;x&quot;:-0.829325,&quot;y&quot;:-0.682847,&quot;z&quot;:1.08051},{&quot;x&quot;:-0.838368,&quot;y&quot;:-0.682847,&quot;z&quot;:1.05881},{&quot;x&quot;:-0.841162,&quot;y&quot;:-0.660486,&quot;z&quot;:1.0521},{&quot;x&quot;:-0.659351,&quot;y&quot;:-0.660486,&quot;z&quot;:1.01756},{&quot;x&quot;:-0.666667,&quot;y&quot;:-0.646667,&quot;z&quot;:1},{&quot;x&quot;:-0.662145,&quot;y&quot;:-0.682847,&quot;z&quot;:1.01085},{&quot;x&quot;:-0.671188,&quot;y&quot;:-0.682847,&quot;z&quot;:0.989149},{&quot;x&quot;:-0.673982,&quot;y&quot;:-0.660486,&quot;z&quot;:0.982442},{&quot;x&quot;:-0.666667,&quot;y&quot;:-0.666667,&quot;z&quot;:1}], &quot;faces&quot;:[[0,1,2],[0,3,1],[0,4,3],[0,5,4],[0,2,5],[2,1,6,7],[1,3,8,6],[3,4,9,8],[4,5,10,9],[5,2,7,10],[7,6,11],[6,8,11],[8,9,11],[9,10,11],[10,7,11]], &quot;color&quot;:&quot;#0000ff&quot;, &quot;opacity&quot;:1},{&quot;vertices&quot;:[{&quot;x&quot;:-1,&quot;y&quot;:-0.666667,&quot;z&quot;:1.13889},{&quot;x&quot;:-0.811899,&quot;y&quot;:-0.648126,&quot;z&quot;:1.12233},{&quot;x&quot;:-0.833846,&quot;y&quot;:-0.606667,&quot;z&quot;:1.06966},{&quot;x&quot;:-0.820282,&quot;y&quot;:-0.715208,&quot;z&quot;:1.10221},{&quot;x&quot;:-0.84741,&quot;y&quot;:-0.715208,&quot;z&quot;:1.0371},{&quot;x&quot;:-0.855794,&quot;y&quot;:-0.648126,&quot;z&quot;:1.01698},{&quot;x&quot;:-0.833846,&quot;y&quot;:-0.666667,&quot;z&quot;:1.06966}], &quot;faces&quot;:[[0,1,2],[0,3,1],[0,4,3],[0,5,4],[0,2,5],[2,1,6],[1,3,6],[3,4,6],[4,5,6],[5,2,6]], &quot;color&quot;:&quot;#0000ff&quot;, &quot;opacity&quot;:1},{&quot;vertices&quot;:[{&quot;x&quot;:-0.63029,&quot;y&quot;:-0.224203,&quot;z&quot;:-0.921184},{&quot;x&quot;:-0.612902,&quot;y&quot;:-0.222922,&quot;z&quot;:-0.930982},{&quot;x&quot;:-0.632899,&quot;y&quot;:-0.212029,&quot;z&quot;:-0.936836},{&quot;x&quot;:-0.616935,&quot;y&quot;:-0.235585,&quot;z&quot;:-0.911587},{&quot;x&quot;:-0.639424,&quot;y&quot;:-0.232518,&quot;z&quot;:-0.905454},{&quot;x&quot;:-0.64929,&quot;y&quot;:-0.21796,&quot;z&quot;:-0.921058},{&quot;x&quot;:-0.649279,&quot;y&quot;:-0.332052,&quot;z&quot;:-1.0098},{&quot;x&quot;:-0.669275,&quot;y&quot;:-0.321159,&quot;z&quot;:-1.01565},{&quot;x&quot;:-0.653312,&quot;y&quot;:-0.344716,&quot;z&quot;:-0.990404},{&quot;x&quot;:-0.675801,&quot;y&quot;:-0.341649,&quot;z&quot;:-0.98427},{&quot;x&quot;:-0.685667,&quot;y&quot;:-0.32709,&quot;z&quot;:-0.999875},{&quot;x&quot;:-0.666667,&quot;y&quot;:-0.333333,&quot;z&quot;:-1}], &quot;faces&quot;:[[0,1,2],[0,3,1],[0,4,3],[0,5,4],[0,2,5],[2,1,6,7],[1,3,8,6],[3,4,9,8],[4,5,10,9],[5,2,7,10],[7,6,11],[6,8,11],[8,9,11],[9,10,11],[10,7,11]], &quot;color&quot;:&quot;#0000ff&quot;, &quot;opacity&quot;:1},{&quot;vertices&quot;:[{&quot;x&quot;:-0.583333,&quot;y&quot;:-0.0833333,&quot;z&quot;:-0.819444},{&quot;x&quot;:-0.578126,&quot;y&quot;:-0.22036,&quot;z&quot;:-0.95058},{&quot;x&quot;:-0.638116,&quot;y&quot;:-0.187681,&quot;z&quot;:-0.96814},{&quot;x&quot;:-0.590225,&quot;y&quot;:-0.25835,&quot;z&quot;:-0.892395},{&quot;x&quot;:-0.657692,&quot;y&quot;:-0.24915,&quot;z&quot;:-0.873995},{&quot;x&quot;:-0.687291,&quot;y&quot;:-0.205474,&quot;z&quot;:-0.920808},{&quot;x&quot;:-0.63029,&quot;y&quot;:-0.224203,&quot;z&quot;:-0.921184}], &quot;faces&quot;:[[0,1,2],[0,3,1],[0,4,3],[0,5,4],[0,2,5],[2,1,6],[1,3,6],[3,4,6],[4,5,6],[5,2,6]], &quot;color&quot;:&quot;#0000ff&quot;, &quot;opacity&quot;:1},{&quot;vertices&quot;:[{&quot;x&quot;:-0.658889,&quot;y&quot;:-0.271111,&quot;z&quot;:-0.635556},{&quot;x&quot;:-0.640453,&quot;y&quot;:-0.269612,&quot;z&quot;:-0.643163},{&quot;x&quot;:-0.660256,&quot;y&quot;:-0.262051,&quot;z&quot;:-0.653333},{&quot;x&quot;:-0.646127,&quot;y&quot;:-0.279244,&quot;z&quot;:-0.622479},{&quot;x&quot;:-0.669438,&quot;y&quot;:-0.277637,&quot;z&quot;:-0.619867},{&quot;x&quot;:-0.67817,&quot;y&quot;:-0.267011,&quot;z&quot;:-0.638936},{&quot;x&quot;:-0.648231,&quot;y&quot;:-0.331834,&quot;z&quot;:-0.674274},{&quot;x&quot;:-0.668034,&quot;y&quot;:-0.324274,&quot;z&quot;:-0.684444},{&quot;x&quot;:-0.653905,&quot;y&quot;:-0.341467,&quot;z&quot;:-0.65359},{&quot;x&quot;:-0.677216,&quot;y&quot;:-0.339859,&quot;z&quot;:-0.650978},{&quot;x&quot;:-0.685948,&quot;y&quot;:-0.329233,&quot;z&quot;:-0.670047},{&quot;x&quot;:-0.666667,&quot;y&quot;:-0.333333,&quot;z&quot;:-0.666667}], &quot;faces&quot;:[[0,1,2],[0,3,1],[0,4,3],[0,5,4],[0,2,5],[2,1,6,7],[1,3,8,6],[3,4,9,8],[4,5,10,9],[5,2,7,10],[7,6,11],[6,8,11],[8,9,11],[9,10,11],[10,7,11]], &quot;color&quot;:&quot;#0000ff&quot;, &quot;opacity&quot;:1},{&quot;vertices&quot;:[{&quot;x&quot;:-0.638889,&quot;y&quot;:-0.111111,&quot;z&quot;:-0.555556},{&quot;x&quot;:-0.603581,&quot;y&quot;:-0.266614,&quot;z&quot;:-0.658377},{&quot;x&quot;:-0.662991,&quot;y&quot;:-0.243932,&quot;z&quot;:-0.688889},{&quot;x&quot;:-0.620604,&quot;y&quot;:-0.295511,&quot;z&quot;:-0.596327},{&quot;x&quot;:-0.690536,&quot;y&quot;:-0.290688,&quot;z&quot;:-0.588489},{&quot;x&quot;:-0.716732,&quot;y&quot;:-0.25881,&quot;z&quot;:-0.645696},{&quot;x&quot;:-0.658889,&quot;y&quot;:-0.271111,&quot;z&quot;:-0.635556}], &quot;faces&quot;:[[0,1,2],[0,3,1],[0,4,3],[0,5,4],[0,2,5],[2,1,6],[1,3,6],[3,4,6],[4,5,6],[5,2,6]], &quot;color&quot;:&quot;#0000ff&quot;, &quot;opacity&quot;:1},{&quot;vertices&quot;:[{&quot;x&quot;:-0.670444,&quot;y&quot;:-0.306889,&quot;z&quot;:-0.323889},{&quot;x&quot;:-0.6511,&quot;y&quot;:-0.302971,&quot;z&quot;:-0.327121},{&quot;x&quot;:-0.668578,&quot;y&quot;:-0.299956,&quot;z&quot;:-0.342556},{&quot;x&quot;:-0.660356,&quot;y&quot;:-0.311401,&quot;z&quot;:-0.30722},{&quot;x&quot;:-0.683554,&quot;y&quot;:-0.313595,&quot;z&quot;:-0.310355},{&quot;x&quot;:-0.688635,&quot;y&quot;:-0.306522,&quot;z&quot;:-0.332193},{&quot;x&quot;:-0.647322,&quot;y&quot;:-0.329416,&quot;z&quot;:-0.336565},{&quot;x&quot;:-0.6648,&quot;y&quot;:-0.3264,&quot;z&quot;:-0.352},{&quot;x&quot;:-0.656578,&quot;y&quot;:-0.337845,&quot;z&quot;:-0.316664},{&quot;x&quot;:-0.679776,&quot;y&quot;:-0.34004,&quot;z&quot;:-0.319799},{&quot;x&quot;:-0.684857,&quot;y&quot;:-0.332966,&quot;z&quot;:-0.341638},{&quot;x&quot;:-0.666667,&quot;y&quot;:-0.333333,&quot;z&quot;:-0.333333}], &quot;faces&quot;:[[0,1,2],[0,3,1],[0,4,3],[0,5,4],[0,2,5],[2,1,6,7],[1,3,8,6],[3,4,9,8],[4,5,10,9],[5,2,7,10],[7,6,11],[6,8,11],[8,9,11],[9,10,11],[10,7,11]], &quot;color&quot;:&quot;#0000ff&quot;, &quot;opacity&quot;:1},{&quot;vertices&quot;:[{&quot;x&quot;:-0.694444,&quot;y&quot;:-0.138889,&quot;z&quot;:-0.263889},{&quot;x&quot;:-0.612411,&quot;y&quot;:-0.295135,&quot;z&quot;:-0.333585},{&quot;x&quot;:-0.664844,&quot;y&quot;:-0.286089,&quot;z&quot;:-0.379889},{&quot;x&quot;:-0.640178,&quot;y&quot;:-0.320425,&quot;z&quot;:-0.273882},{&quot;x&quot;:-0.709772,&quot;y&quot;:-0.327008,&quot;z&quot;:-0.283286},{&quot;x&quot;:-0.725016,&quot;y&quot;:-0.305787,&quot;z&quot;:-0.348802},{&quot;x&quot;:-0.670444,&quot;y&quot;:-0.306889,&quot;z&quot;:-0.323889}], &quot;faces&quot;:[[0,1,2],[0,3,1],[0,4,3],[0,5,4],[0,2,5],[2,1,6],[1,3,6],[3,4,6],[4,5,6],[5,2,6]], &quot;color&quot;:&quot;#0000ff&quot;, &quot;opacity&quot;:1},{&quot;vertices&quot;:[{&quot;x&quot;:-0.672857,&quot;y&quot;:-0.320952,&quot;z&quot;:0.00412698},{&quot;x&quot;:-0.654788,&quot;y&quot;:-0.312869,&quot;z&quot;:0.00698146},{&quot;x&quot;:-0.667143,&quot;y&quot;:-0.312381,&quot;z&quot;:-0.0130159},{&quot;x&quot;:-0.667404,&quot;y&quot;:-0.324528,&quot;z&quot;:0.023034},{&quot;x&quot;:-0.687556,&quot;y&quot;:-0.331246,&quot;z&quot;:0.0129577},{&quot;x&quot;:-0.687395,&quot;y&quot;:-0.323738,&quot;z&quot;:-0.00932236},{&quot;x&quot;:-0.648597,&quot;y&quot;:-0.32525,&quot;z&quot;:0.00285448},{&quot;x&quot;:-0.660952,&quot;y&quot;:-0.324762,&quot;z&quot;:-0.0171429},{&quot;x&quot;:-0.661213,&quot;y&quot;:-0.336909,&quot;z&quot;:0.018907},{&quot;x&quot;:-0.681366,&quot;y&quot;:-0.343627,&quot;z&quot;:0.0088307},{&quot;x&quot;:-0.681205,&quot;y&quot;:-0.336119,&quot;z&quot;:-0.0134493},{&quot;x&quot;:-0.666667,&quot;y&quot;:-0.333333,&quot;z&quot;:0}], &quot;faces&quot;:[[0,1,2],[0,3,1],[0,4,3],[0,5,4],[0,2,5],[2,1,6,7],[1,3,8,6],[3,4,9,8],[4,5,10,9],[5,2,7,10],[7,6,11],[6,8,11],[8,9,11],[9,10,11],[10,7,11]], &quot;color&quot;:&quot;#0000ff&quot;, &quot;opacity&quot;:1},{&quot;vertices&quot;:[{&quot;x&quot;:-0.75,&quot;y&quot;:-0.166667,&quot;z&quot;:0.0555556},{&quot;x&quot;:-0.618648,&quot;y&quot;:-0.296702,&quot;z&quot;:0.0126904},{&quot;x&quot;:-0.655714,&quot;y&quot;:-0.295238,&quot;z&quot;:-0.0473016},{&quot;x&quot;:-0.656497,&quot;y&quot;:-0.331679,&quot;z&quot;:0.0608481},{&quot;x&quot;:-0.716955,&quot;y&quot;:-0.351832,&quot;z&quot;:0.0306191},{&quot;x&quot;:-0.716471,&quot;y&quot;:-0.32931,&quot;z&quot;:-0.0362211},{&quot;x&quot;:-0.672857,&quot;y&quot;:-0.320952,&quot;z&quot;:0.00412698}], &quot;faces&quot;:[[0,1,2],[0,3,1],[0,4,3],[0,5,4],[0,2,5],[2,1,6],[1,3,6],[3,4,6],[4,5,6],[5,2,6]], &quot;color&quot;:&quot;#0000ff&quot;, &quot;opacity&quot;:1},{&quot;vertices&quot;:[{&quot;x&quot;:-0.685556,&quot;y&quot;:-0.314444,&quot;z&quot;:0.342778},{&quot;x&quot;:-0.670815,&quot;y&quot;:-0.303984,&quot;z&quot;:0.351338},{&quot;x&quot;:-0.678889,&quot;y&quot;:-0.301111,&quot;z&quot;:0.329444},{&quot;x&quot;:-0.683112,&quot;y&quot;:-0.321313,&quot;z&quot;:0.361402},{&quot;x&quot;:-0.698786,&quot;y&quot;:-0.32915,&quot;z&quot;:0.345728},{&quot;x&quot;:-0.696176,&quot;y&quot;:-0.316665,&quot;z&quot;:0.325977},{&quot;x&quot;:-0.651926,&quot;y&quot;:-0.322873,&quot;z&quot;:0.341894},{&quot;x&quot;:-0.66,&quot;y&quot;:-0.32,&quot;z&quot;:0.32},{&quot;x&quot;:-0.664223,&quot;y&quot;:-0.340202,&quot;z&quot;:0.351957},{&quot;x&quot;:-0.679897,&quot;y&quot;:-0.348039,&quot;z&quot;:0.336283},{&quot;x&quot;:-0.677287,&quot;y&quot;:-0.335553,&quot;z&quot;:0.316532},{&quot;x&quot;:-0.666667,&quot;y&quot;:-0.333333,&quot;z&quot;:0.333333}], &quot;faces&quot;:[[0,1,2],[0,3,1],[0,4,3],[0,5,4],[0,2,5],[2,1,6,7],[1,3,8,6],[3,4,9,8],[4,5,10,9],[5,2,7,10],[7,6,11],[6,8,11],[8,9,11],[9,10,11],[10,7,11]], &quot;color&quot;:&quot;#0000ff&quot;, &quot;opacity&quot;:1},{&quot;vertices&quot;:[{&quot;x&quot;:-0.805556,&quot;y&quot;:-0.194444,&quot;z&quot;:0.402778},{&quot;x&quot;:-0.641333,&quot;y&quot;:-0.283063,&quot;z&quot;:0.368459},{&quot;x&quot;:-0.665556,&quot;y&quot;:-0.274444,&quot;z&quot;:0.302778},{&quot;x&quot;:-0.678224,&quot;y&quot;:-0.335049,&quot;z&quot;:0.39865},{&quot;x&quot;:-0.725247,&quot;y&quot;:-0.358561,&quot;z&quot;:0.351627},{&quot;x&quot;:-0.717417,&quot;y&quot;:-0.321105,&quot;z&quot;:0.292375},{&quot;x&quot;:-0.685556,&quot;y&quot;:-0.314444,&quot;z&quot;:0.342778}], &quot;faces&quot;:[[0,1,2],[0,3,1],[0,4,3],[0,5,4],[0,2,5],[2,1,6],[1,3,6],[3,4,6],[4,5,6],[5,2,6]], &quot;color&quot;:&quot;#0000ff&quot;, &quot;opacity&quot;:1},{&quot;vertices&quot;:[{&quot;x&quot;:-0.721111,&quot;y&quot;:-0.302222,&quot;z&quot;:0.697778},{&quot;x&quot;:-0.708577,&quot;y&quot;:-0.292335,&quot;z&quot;:0.709825},{&quot;x&quot;:-0.716325,&quot;y&quot;:-0.284957,&quot;z&quot;:0.688889},{&quot;x&quot;:-0.718151,&quot;y&quot;:-0.313377,&quot;z&quot;:0.714112},{&quot;x&quot;:-0.731816,&quot;y&quot;:-0.319003,&quot;z&quot;:0.695826},{&quot;x&quot;:-0.730687,&quot;y&quot;:-0.301439,&quot;z&quot;:0.680237},{&quot;x&quot;:-0.654133,&quot;y&quot;:-0.323446,&quot;z&quot;:0.678714},{&quot;x&quot;:-0.66188,&quot;y&quot;:-0.316068,&quot;z&quot;:0.657778},{&quot;x&quot;:-0.663707,&quot;y&quot;:-0.344488,&quot;z&quot;:0.683001},{&quot;x&quot;:-0.677371,&quot;y&quot;:-0.350114,&quot;z&quot;:0.664715},{&quot;x&quot;:-0.676243,&quot;y&quot;:-0.33255,&quot;z&quot;:0.649126},{&quot;x&quot;:-0.666667,&quot;y&quot;:-0.333333,&quot;z&quot;:0.666667}], &quot;faces&quot;:[[0,1,2],[0,3,1],[0,4,3],[0,5,4],[0,2,5],[2,1,6,7],[1,3,8,6],[3,4,9,8],[4,5,10,9],[5,2,7,10],[7,6,11],[6,8,11],[8,9,11],[9,10,11],[10,7,11]], &quot;color&quot;:&quot;#0000ff&quot;, &quot;opacity&quot;:1},{&quot;vertices&quot;:[{&quot;x&quot;:-0.861111,&quot;y&quot;:-0.222222,&quot;z&quot;:0.777778},{&quot;x&quot;:-0.683509,&quot;y&quot;:-0.272561,&quot;z&quot;:0.73392},{&quot;x&quot;:-0.706752,&quot;y&quot;:-0.250427,&quot;z&quot;:0.671111},{&quot;x&quot;:-0.712231,&quot;y&quot;:-0.335685,&quot;z&quot;:0.746782},{&quot;x&quot;:-0.753225,&quot;y&quot;:-0.352565,&quot;z&quot;:0.691922},{&quot;x&quot;:-0.749839,&quot;y&quot;:-0.299873,&quot;z&quot;:0.645155},{&quot;x&quot;:-0.721111,&quot;y&quot;:-0.302222,&quot;z&quot;:0.697778}], &quot;faces&quot;:[[0,1,2],[0,3,1],[0,4,3],[0,5,4],[0,2,5],[2,1,6],[1,3,6],[3,4,6],[4,5,6],[5,2,6]], &quot;color&quot;:&quot;#0000ff&quot;, &quot;opacity&quot;:1},{&quot;vertices&quot;:[{&quot;x&quot;:-0.775797,&quot;y&quot;:-0.296957,&quot;z&quot;:1.07882},{&quot;x&quot;:-0.763413,&quot;y&quot;:-0.288564,&quot;z&quot;:1.09209},{&quot;x&quot;:-0.773188,&quot;y&quot;:-0.277826,&quot;z&quot;:1.0736},{&quot;x&quot;:-0.770752,&quot;y&quot;:-0.3109,&quot;z&quot;:1.09224},{&quot;x&quot;:-0.785063,&quot;y&quot;:-0.313967,&quot;z&quot;:1.07384},{&quot;x&quot;:-0.786569,&quot;y&quot;:-0.293526,&quot;z&quot;:1.06232},{&quot;x&quot;:-0.654282,&quot;y&quot;:-0.324941,&quot;z&quot;:1.01327},{&quot;x&quot;:-0.664058,&quot;y&quot;:-0.314203,&quot;z&quot;:0.994783},{&quot;x&quot;:-0.661621,&quot;y&quot;:-0.347277,&quot;z&quot;:1.01342},{&quot;x&quot;:-0.675933,&quot;y&quot;:-0.350344,&quot;z&quot;:0.995021},{&quot;x&quot;:-0.677439,&quot;y&quot;:-0.329903,&quot;z&quot;:0.983502},{&quot;x&quot;:-0.666667,&quot;y&quot;:-0.333333,&quot;z&quot;:1}], &quot;faces&quot;:[[0,1,2],[0,3,1],[0,4,3],[0,5,4],[0,2,5],[2,1,6,7],[1,3,8,6],[3,4,9,8],[4,5,10,9],[5,2,7,10],[7,6,11],[6,8,11],[8,9,11],[9,10,11],[10,7,11]], &quot;color&quot;:&quot;#0000ff&quot;, &quot;opacity&quot;:1},{&quot;vertices&quot;:[{&quot;x&quot;:-0.916667,&quot;y&quot;:-0.25,&quot;z&quot;:1.18056},{&quot;x&quot;:-0.738644,&quot;y&quot;:-0.271779,&quot;z&quot;:1.11864},{&quot;x&quot;:-0.767971,&quot;y&quot;:-0.239565,&quot;z&quot;:1.06316},{&quot;x&quot;:-0.760662,&quot;y&quot;:-0.338787,&quot;z&quot;:1.11908},{&quot;x&quot;:-0.803595,&quot;y&quot;:-0.347987,&quot;z&quot;:1.06388},{&quot;x&quot;:-0.808113,&quot;y&quot;:-0.286665,&quot;z&quot;:1.02932},{&quot;x&quot;:-0.775797,&quot;y&quot;:-0.296957,&quot;z&quot;:1.07882}], &quot;faces&quot;:[[0,1,2],[0,3,1],[0,4,3],[0,5,4],[0,2,5],[2,1,6],[1,3,6],[3,4,6],[4,5,6],[5,2,6]], &quot;color&quot;:&quot;#0000ff&quot;, &quot;opacity&quot;:1},{&quot;vertices&quot;:[{&quot;x&quot;:-0.598182,&quot;y&quot;:0.0684848,&quot;z&quot;:-0.920101},{&quot;x&quot;:-0.583743,&quot;y&quot;:0.0700831,&quot;z&quot;:-0.933847},{&quot;x&quot;:-0.601818,&quot;y&quot;:0.0848485,&quot;z&quot;:-0.93101},{&quot;x&quot;:-0.585622,&quot;y&quot;:0.053109,&quot;z&quot;:-0.917688},{&quot;x&quot;:-0.604858,&quot;y&quot;:0.0573838,&quot;z&quot;:-0.904863},{&quot;x&quot;:-0.614868,&quot;y&quot;:0.0769999,&quot;z&quot;:-0.913097},{&quot;x&quot;:-0.652228,&quot;y&quot;:0.00159825,&quot;z&quot;:-1.01375},{&quot;x&quot;:-0.670303,&quot;y&quot;:0.0163636,&quot;z&quot;:-1.01091},{&quot;x&quot;:-0.654106,&quot;y&quot;:-0.0153759,&quot;z&quot;:-0.997587},{&quot;x&quot;:-0.673343,&quot;y&quot;:-0.0111011,&quot;z&quot;:-0.984762},{&quot;x&quot;:-0.683353,&quot;y&quot;:0.00851503,&quot;z&quot;:-0.992996},{&quot;x&quot;:-0.666667,&quot;y&quot;:0,&quot;z&quot;:-1}], &quot;faces&quot;:[[0,1,2],[0,3,1],[0,4,3],[0,5,4],[0,2,5],[2,1,6,7],[1,3,8,6],[3,4,9,8],[4,5,10,9],[5,2,7,10],[7,6,11],[6,8,11],[8,9,11],[9,10,11],[10,7,11]], &quot;color&quot;:&quot;#0000ff&quot;, &quot;opacity&quot;:1},{&quot;vertices&quot;:[{&quot;x&quot;:-0.5,&quot;y&quot;:0.166667,&quot;z&quot;:-0.805556},{&quot;x&quot;:-0.554865,&quot;y&quot;:0.0732796,&quot;z&quot;:-0.96134},{&quot;x&quot;:-0.609091,&quot;y&quot;:0.117576,&quot;z&quot;:-0.952828},{&quot;x&quot;:-0.560501,&quot;y&quot;:0.0223573,&quot;z&quot;:-0.912861},{&quot;x&quot;:-0.618211,&quot;y&quot;:0.0351817,&quot;z&quot;:-0.874387},{&quot;x&quot;:-0.648241,&quot;y&quot;:0.0940299,&quot;z&quot;:-0.899089},{&quot;x&quot;:-0.598182,&quot;y&quot;:0.0684848,&quot;z&quot;:-0.920101}], &quot;faces&quot;:[[0,1,2],[0,3,1],[0,4,3],[0,5,4],[0,2,5],[2,1,6],[1,3,6],[3,4,6],[4,5,6],[5,2,6]], &quot;color&quot;:&quot;#0000ff&quot;, &quot;opacity&quot;:1},{&quot;vertices&quot;:[{&quot;x&quot;:-0.640261,&quot;y&quot;:0.0396078,&quot;z&quot;:-0.636961},{&quot;x&quot;:-0.625337,&quot;y&quot;:0.0396434,&quot;z&quot;:-0.650274},{&quot;x&quot;:-0.644605,&quot;y&quot;:0.053092,&quot;z&quot;:-0.651078},{&quot;x&quot;:-0.626694,&quot;y&quot;:0.0261457,&quot;z&quot;:-0.631071},{&quot;x&quot;:-0.646801,&quot;y&quot;:0.0312522,&quot;z&quot;:-0.620007},{&quot;x&quot;:-0.657871,&quot;y&quot;:0.047906,&quot;z&quot;:-0.632372},{&quot;x&quot;:-0.651742,&quot;y&quot;:3.55493e-05,&quot;z&quot;:-0.67998},{&quot;x&quot;:-0.671011,&quot;y&quot;:0.0134842,&quot;z&quot;:-0.680784},{&quot;x&quot;:-0.653099,&quot;y&quot;:-0.0134622,&quot;z&quot;:-0.660777},{&quot;x&quot;:-0.673206,&quot;y&quot;:-0.00835564,&quot;z&quot;:-0.649713},{&quot;x&quot;:-0.684276,&quot;y&quot;:0.00829812,&quot;z&quot;:-0.662078},{&quot;x&quot;:-0.666667,&quot;y&quot;:0,&quot;z&quot;:-0.666667}], &quot;faces&quot;:[[0,1,2],[0,3,1],[0,4,3],[0,5,4],[0,2,5],[2,1,6,7],[1,3,8,6],[3,4,9,8],[4,5,10,9],[5,2,7,10],[7,6,11],[6,8,11],[8,9,11],[9,10,11],[10,7,11]], &quot;color&quot;:&quot;#0000ff&quot;, &quot;opacity&quot;:1},{&quot;vertices&quot;:[{&quot;x&quot;:-0.555556,&quot;y&quot;:0.166667,&quot;z&quot;:-0.541667},{&quot;x&quot;:-0.595488,&quot;y&quot;:0.0397145,&quot;z&quot;:-0.676902},{&quot;x&quot;:-0.653293,&quot;y&quot;:0.0800603,&quot;z&quot;:-0.679314},{&quot;x&quot;:-0.599558,&quot;y&quot;:-0.000778734,&quot;z&quot;:-0.619293},{&quot;x&quot;:-0.659879,&quot;y&quot;:0.0145409,&quot;z&quot;:-0.5861},{&quot;x&quot;:-0.693089,&quot;y&quot;:0.0645022,&quot;z&quot;:-0.623195},{&quot;x&quot;:-0.640261,&quot;y&quot;:0.0396078,&quot;z&quot;:-0.636961}], &quot;faces&quot;:[[0,1,2],[0,3,1],[0,4,3],[0,5,4],[0,2,5],[2,1,6],[1,3,6],[3,4,6],[4,5,6],[5,2,6]], &quot;color&quot;:&quot;#0000ff&quot;, &quot;opacity&quot;:1},{&quot;vertices&quot;:[{&quot;x&quot;:-0.66254,&quot;y&quot;:0.012381,&quot;z&quot;:-0.327143},{&quot;x&quot;:-0.645665,&quot;y&quot;:0.0121221,&quot;z&quot;:-0.337875},{&quot;x&quot;:-0.665968,&quot;y&quot;:0.0220952,&quot;z&quot;:-0.344286},{&quot;x&quot;:-0.648682,&quot;y&quot;:0.00250667,&quot;z&quot;:-0.316633},{&quot;x&quot;:-0.67085,&quot;y&quot;:0.00653719,&quot;z&quot;:-0.309915},{&quot;x&quot;:-0.681533,&quot;y&quot;:0.0186436,&quot;z&quot;:-0.327006},{&quot;x&quot;:-0.649792,&quot;y&quot;:-0.000258886,&quot;z&quot;:-0.344065},{&quot;x&quot;:-0.670095,&quot;y&quot;:0.00971429,&quot;z&quot;:-0.350476},{&quot;x&quot;:-0.652809,&quot;y&quot;:-0.00987429,&quot;z&quot;:-0.322823},{&quot;x&quot;:-0.674977,&quot;y&quot;:-0.00584376,&quot;z&quot;:-0.316106},{&quot;x&quot;:-0.68566,&quot;y&quot;:0.00626264,&quot;z&quot;:-0.333196},{&quot;x&quot;:-0.666667,&quot;y&quot;:0,&quot;z&quot;:-0.333333}], &quot;faces&quot;:[[0,1,2],[0,3,1],[0,4,3],[0,5,4],[0,2,5],[2,1,6,7],[1,3,8,6],[3,4,9,8],[4,5,10,9],[5,2,7,10],[7,6,11],[6,8,11],[8,9,11],[9,10,11],[10,7,11]], &quot;color&quot;:&quot;#0000ff&quot;, &quot;opacity&quot;:1},{&quot;vertices&quot;:[{&quot;x&quot;:-0.611111,&quot;y&quot;:0.166667,&quot;z&quot;:-0.25},{&quot;x&quot;:-0.611916,&quot;y&quot;:0.0116043,&quot;z&quot;:-0.359339},{&quot;x&quot;:-0.672825,&quot;y&quot;:0.0415238,&quot;z&quot;:-0.378571},{&quot;x&quot;:-0.620967,&quot;y&quot;:-0.0172419,&quot;z&quot;:-0.295613},{&quot;x&quot;:-0.68747,&quot;y&quot;:-0.00515032,&quot;z&quot;:-0.27546},{&quot;x&quot;:-0.719521,&quot;y&quot;:0.0311689,&quot;z&quot;:-0.326731},{&quot;x&quot;:-0.66254,&quot;y&quot;:0.012381,&quot;z&quot;:-0.327143}], &quot;faces&quot;:[[0,1,2],[0,3,1],[0,4,3],[0,5,4],[0,2,5],[2,1,6],[1,3,6],[3,4,6],[4,5,6],[5,2,6]], &quot;color&quot;:&quot;#0000ff&quot;, &quot;opacity&quot;:1},{&quot;vertices&quot;:[{&quot;x&quot;:-0.666667,&quot;y&quot;:0.000512821,&quot;z&quot;:0.000213675},{&quot;x&quot;:-0.647646,&quot;y&quot;:0.00288987,&quot;z&quot;:-0.00549125},{&quot;x&quot;:-0.666667,&quot;y&quot;:0.00820513,&quot;z&quot;:-0.0182479},{&quot;x&quot;:-0.654911,&quot;y&quot;:-0.00571039,&quot;z&quot;:0.0151494},{&quot;x&quot;:-0.678422,&quot;y&quot;:-0.00571039,&quot;z&quot;:0.0151494},{&quot;x&quot;:-0.685688,&quot;y&quot;:0.00288987,&quot;z&quot;:-0.00549125},{&quot;x&quot;:-0.647646,&quot;y&quot;:0.00237705,&quot;z&quot;:-0.00570493},{&quot;x&quot;:-0.666667,&quot;y&quot;:0.00769231,&quot;z&quot;:-0.0184615},{&quot;x&quot;:-0.654911,&quot;y&quot;:-0.00622321,&quot;z&quot;:0.0149357},{&quot;x&quot;:-0.678422,&quot;y&quot;:-0.00622321,&quot;z&quot;:0.0149357},{&quot;x&quot;:-0.685688,&quot;y&quot;:0.00237705,&quot;z&quot;:-0.00570493},{&quot;x&quot;:-0.666667,&quot;y&quot;:0,&quot;z&quot;:0}], &quot;faces&quot;:[[0,1,2],[0,3,1],[0,4,3],[0,5,4],[0,2,5],[2,1,6,7],[1,3,8,6],[3,4,9,8],[4,5,10,9],[5,2,7,10],[7,6,11],[6,8,11],[8,9,11],[9,10,11],[10,7,11]], &quot;color&quot;:&quot;#0000ff&quot;, &quot;opacity&quot;:1},{&quot;vertices&quot;:[{&quot;x&quot;:-0.666667,&quot;y&quot;:0.166667,&quot;z&quot;:0.0694444},{&quot;x&quot;:-0.609603,&quot;y&quot;:0.00764398,&quot;z&quot;:-0.0169011},{&quot;x&quot;:-0.666667,&quot;y&quot;:0.0235897,&quot;z&quot;:-0.0551709},{&quot;x&quot;:-0.6314,&quot;y&quot;:-0.0181568,&quot;z&quot;:0.0450208},{&quot;x&quot;:-0.701934,&quot;y&quot;:-0.0181568,&quot;z&quot;:0.0450208},{&quot;x&quot;:-0.72373,&quot;y&quot;:0.00764398,&quot;z&quot;:-0.0169011},{&quot;x&quot;:-0.666667,&quot;y&quot;:0.000512821,&quot;z&quot;:0.000213675}], &quot;faces&quot;:[[0,1,2],[0,3,1],[0,4,3],[0,5,4],[0,2,5],[2,1,6],[1,3,6],[3,4,6],[4,5,6],[5,2,6]], &quot;color&quot;:&quot;#0000ff&quot;, &quot;opacity&quot;:1},{&quot;vertices&quot;:[{&quot;x&quot;:-0.670794,&quot;y&quot;:0.012381,&quot;z&quot;:0.339524},{&quot;x&quot;:-0.6518,&quot;y&quot;:0.0186436,&quot;z&quot;:0.339661},{&quot;x&quot;:-0.667365,&quot;y&quot;:0.0220952,&quot;z&quot;:0.322381},{&quot;x&quot;:-0.662483,&quot;y&quot;:0.00653719,&quot;z&quot;:0.356751},{&quot;x&quot;:-0.684651,&quot;y&quot;:0.00250667,&quot;z&quot;:0.350034},{&quot;x&quot;:-0.687668,&quot;y&quot;:0.0121221,&quot;z&quot;:0.328792},{&quot;x&quot;:-0.647673,&quot;y&quot;:0.00626264,&quot;z&quot;:0.333471},{&quot;x&quot;:-0.663238,&quot;y&quot;:0.00971429,&quot;z&quot;:0.31619},{&quot;x&quot;:-0.658356,&quot;y&quot;:-0.00584376,&quot;z&quot;:0.350561},{&quot;x&quot;:-0.680524,&quot;y&quot;:-0.00987429,&quot;z&quot;:0.343843},{&quot;x&quot;:-0.683541,&quot;y&quot;:-0.000258886,&quot;z&quot;:0.322601},{&quot;x&quot;:-0.666667,&quot;y&quot;:0,&quot;z&quot;:0.333333}], &quot;faces&quot;:[[0,1,2],[0,3,1],[0,4,3],[0,5,4],[0,2,5],[2,1,6,7],[1,3,8,6],[3,4,9,8],[4,5,10,9],[5,2,7,10],[7,6,11],[6,8,11],[8,9,11],[9,10,11],[10,7,11]], &quot;color&quot;:&quot;#0000ff&quot;, &quot;opacity&quot;:1},{&quot;vertices&quot;:[{&quot;x&quot;:-0.722222,&quot;y&quot;:0.166667,&quot;z&quot;:0.416667},{&quot;x&quot;:-0.613813,&quot;y&quot;:0.0311689,&quot;z&quot;:0.339935},{&quot;x&quot;:-0.660508,&quot;y&quot;:0.0415238,&quot;z&quot;:0.288095},{&quot;x&quot;:-0.645863,&quot;y&quot;:-0.00515032,&quot;z&quot;:0.391207},{&quot;x&quot;:-0.712367,&quot;y&quot;:-0.0172419,&quot;z&quot;:0.371054},{&quot;x&quot;:-0.721418,&quot;y&quot;:0.0116043,&quot;z&quot;:0.307328},{&quot;x&quot;:-0.670794,&quot;y&quot;:0.012381,&quot;z&quot;:0.339524}], &quot;faces&quot;:[[0,1,2],[0,3,1],[0,4,3],[0,5,4],[0,2,5],[2,1,6],[1,3,6],[3,4,6],[4,5,6],[5,2,6]], &quot;color&quot;:&quot;#0000ff&quot;, &quot;opacity&quot;:1},{&quot;vertices&quot;:[{&quot;x&quot;:-0.693072,&quot;y&quot;:0.0396078,&quot;z&quot;:0.696373},{&quot;x&quot;:-0.675463,&quot;y&quot;:0.047906,&quot;z&quot;:0.700961},{&quot;x&quot;:-0.688728,&quot;y&quot;:0.053092,&quot;z&quot;:0.682255},{&quot;x&quot;:-0.686533,&quot;y&quot;:0.0312522,&quot;z&quot;:0.713326},{&quot;x&quot;:-0.70664,&quot;y&quot;:0.0261457,&quot;z&quot;:0.702262},{&quot;x&quot;:-0.707996,&quot;y&quot;:0.0396434,&quot;z&quot;:0.683059},{&quot;x&quot;:-0.649057,&quot;y&quot;:0.00829812,&quot;z&quot;:0.671255},{&quot;x&quot;:-0.662323,&quot;y&quot;:0.0134842,&quot;z&quot;:0.652549},{&quot;x&quot;:-0.660127,&quot;y&quot;:-0.00835564,&quot;z&quot;:0.68362},{&quot;x&quot;:-0.680234,&quot;y&quot;:-0.0134622,&quot;z&quot;:0.672556},{&quot;x&quot;:-0.681591,&quot;y&quot;:3.55493e-05,&quot;z&quot;:0.653353},{&quot;x&quot;:-0.666667,&quot;y&quot;:0,&quot;z&quot;:0.666667}], &quot;faces&quot;:[[0,1,2],[0,3,1],[0,4,3],[0,5,4],[0,2,5],[2,1,6,7],[1,3,8,6],[3,4,9,8],[4,5,10,9],[5,2,7,10],[7,6,11],[6,8,11],[8,9,11],[9,10,11],[10,7,11]], &quot;color&quot;:&quot;#0000ff&quot;, &quot;opacity&quot;:1},{&quot;vertices&quot;:[{&quot;x&quot;:-0.777778,&quot;y&quot;:0.166667,&quot;z&quot;:0.791667},{&quot;x&quot;:-0.640244,&quot;y&quot;:0.0645022,&quot;z&quot;:0.710138},{&quot;x&quot;:-0.68004,&quot;y&quot;:0.0800603,&quot;z&quot;:0.65402},{&quot;x&quot;:-0.673454,&quot;y&quot;:0.0145409,&quot;z&quot;:0.747233},{&quot;x&quot;:-0.733775,&quot;y&quot;:-0.000778734,&quot;z&quot;:0.714041},{&quot;x&quot;:-0.737846,&quot;y&quot;:0.0397145,&quot;z&quot;:0.656431},{&quot;x&quot;:-0.693072,&quot;y&quot;:0.0396078,&quot;z&quot;:0.696373}], &quot;faces&quot;:[[0,1,2],[0,3,1],[0,4,3],[0,5,4],[0,2,5],[2,1,6],[1,3,6],[3,4,6],[4,5,6],[5,2,6]], &quot;color&quot;:&quot;#0000ff&quot;, &quot;opacity&quot;:1},{&quot;vertices&quot;:[{&quot;x&quot;:-0.735152,&quot;y&quot;:0.0684848,&quot;z&quot;:1.0799},{&quot;x&quot;:-0.718465,&quot;y&quot;:0.0769999,&quot;z&quot;:1.0869},{&quot;x&quot;:-0.731515,&quot;y&quot;:0.0848485,&quot;z&quot;:1.06899},{&quot;x&quot;:-0.728475,&quot;y&quot;:0.0573838,&quot;z&quot;:1.09514},{&quot;x&quot;:-0.747712,&quot;y&quot;:0.053109,&quot;z&quot;:1.08231},{&quot;x&quot;:-0.749591,&quot;y&quot;:0.0700831,&quot;z&quot;:1.06615},{&quot;x&quot;:-0.64998,&quot;y&quot;:0.00851503,&quot;z&quot;:1.007},{&quot;x&quot;:-0.66303,&quot;y&quot;:0.0163636,&quot;z&quot;:0.989091},{&quot;x&quot;:-0.65999,&quot;y&quot;:-0.0111011,&quot;z&quot;:1.01524},{&quot;x&quot;:-0.679227,&quot;y&quot;:-0.0153759,&quot;z&quot;:1.00241},{&quot;x&quot;:-0.681106,&quot;y&quot;:0.00159825,&quot;z&quot;:0.986254},{&quot;x&quot;:-0.666667,&quot;y&quot;:0,&quot;z&quot;:1}], &quot;faces&quot;:[[0,1,2],[0,3,1],[0,4,3],[0,5,4],[0,2,5],[2,1,6,7],[1,3,8,6],[3,4,9,8],[4,5,10,9],[5,2,7,10],[7,6,11],[6,8,11],[8,9,11],[9,10,11],[10,7,11]], &quot;color&quot;:&quot;#0000ff&quot;, &quot;opacity&quot;:1},{&quot;vertices&quot;:[{&quot;x&quot;:-0.833333,&quot;y&quot;:0.166667,&quot;z&quot;:1.19444},{&quot;x&quot;:-0.685092,&quot;y&quot;:0.0940299,&quot;z&quot;:1.10091},{&quot;x&quot;:-0.724242,&quot;y&quot;:0.117576,&quot;z&quot;:1.04717},{&quot;x&quot;:-0.715122,&quot;y&quot;:0.0351817,&quot;z&quot;:1.12561},{&quot;x&quot;:-0.772832,&quot;y&quot;:0.0223573,&quot;z&quot;:1.08714},{&quot;x&quot;:-0.778469,&quot;y&quot;:0.0732796,&quot;z&quot;:1.03866},{&quot;x&quot;:-0.735152,&quot;y&quot;:0.0684848,&quot;z&quot;:1.0799}], &quot;faces&quot;:[[0,1,2],[0,3,1],[0,4,3],[0,5,4],[0,2,5],[2,1,6],[1,3,6],[3,4,6],[4,5,6],[5,2,6]], &quot;color&quot;:&quot;#0000ff&quot;, &quot;opacity&quot;:1},{&quot;vertices&quot;:[{&quot;x&quot;:-0.557536,&quot;y&quot;:0.36971,&quot;z&quot;:-0.921184},{&quot;x&quot;:-0.546764,&quot;y&quot;:0.373141,&quot;z&quot;:-0.937682},{&quot;x&quot;:-0.560145,&quot;y&quot;:0.388841,&quot;z&quot;:-0.926401},{&quot;x&quot;:-0.54827,&quot;y&quot;:0.3527,&quot;z&quot;:-0.926163},{&quot;x&quot;:-0.562581,&quot;y&quot;:0.355767,&quot;z&quot;:-0.907762},{&quot;x&quot;:-0.56992,&quot;y&quot;:0.378103,&quot;z&quot;:-0.90791},{&quot;x&quot;:-0.655895,&quot;y&quot;:0.336764,&quot;z&quot;:-1.0165},{&quot;x&quot;:-0.669275,&quot;y&quot;:0.352464,&quot;z&quot;:-1.00522},{&quot;x&quot;:-0.657401,&quot;y&quot;:0.316323,&quot;z&quot;:-1.00498},{&quot;x&quot;:-0.671712,&quot;y&quot;:0.31939,&quot;z&quot;:-0.986579},{&quot;x&quot;:-0.679051,&quot;y&quot;:0.341726,&quot;z&quot;:-0.986726},{&quot;x&quot;:-0.666667,&quot;y&quot;:0.333333,&quot;z&quot;:-1}], &quot;faces&quot;:[[0,1,2],[0,3,1],[0,4,3],[0,5,4],[0,2,5],[2,1,6,7],[1,3,8,6],[3,4,9,8],[4,5,10,9],[5,2,7,10],[7,6,11],[6,8,11],[8,9,11],[9,10,11],[10,7,11]], &quot;color&quot;:&quot;#0000ff&quot;, &quot;opacity&quot;:1},{&quot;vertices&quot;:[{&quot;x&quot;:-0.416667,&quot;y&quot;:0.416667,&quot;z&quot;:-0.819444},{&quot;x&quot;:-0.52522,&quot;y&quot;:0.380002,&quot;z&quot;:-0.970679},{&quot;x&quot;:-0.565362,&quot;y&quot;:0.427101,&quot;z&quot;:-0.936836},{&quot;x&quot;:-0.529738,&quot;y&quot;:0.31868,&quot;z&quot;:-0.936121},{&quot;x&quot;:-0.572672,&quot;y&quot;:0.32788,&quot;z&quot;:-0.88092},{&quot;x&quot;:-0.594689,&quot;y&quot;:0.394888,&quot;z&quot;:-0.881362},{&quot;x&quot;:-0.557536,&quot;y&quot;:0.36971,&quot;z&quot;:-0.921184}], &quot;faces&quot;:[[0,1,2],[0,3,1],[0,4,3],[0,5,4],[0,2,5],[2,1,6],[1,3,6],[3,4,6],[4,5,6],[5,2,6]], &quot;color&quot;:&quot;#0000ff&quot;, &quot;opacity&quot;:1},{&quot;vertices&quot;:[{&quot;x&quot;:-0.612222,&quot;y&quot;:0.364444,&quot;z&quot;:-0.635556},{&quot;x&quot;:-0.602646,&quot;y&quot;:0.365228,&quot;z&quot;:-0.653097},{&quot;x&quot;:-0.617009,&quot;y&quot;:0.381709,&quot;z&quot;:-0.644444},{&quot;x&quot;:-0.601518,&quot;y&quot;:0.347663,&quot;z&quot;:-0.637508},{&quot;x&quot;:-0.615182,&quot;y&quot;:0.35329,&quot;z&quot;:-0.619221},{&quot;x&quot;:-0.624756,&quot;y&quot;:0.374332,&quot;z&quot;:-0.623508},{&quot;x&quot;:-0.657091,&quot;y&quot;:0.334116,&quot;z&quot;:-0.684208},{&quot;x&quot;:-0.671453,&quot;y&quot;:0.350598,&quot;z&quot;:-0.675556},{&quot;x&quot;:-0.655962,&quot;y&quot;:0.316552,&quot;z&quot;:-0.668619},{&quot;x&quot;:-0.669627,&quot;y&quot;:0.322179,&quot;z&quot;:-0.650332},{&quot;x&quot;:-0.679201,&quot;y&quot;:0.343221,&quot;z&quot;:-0.654619},{&quot;x&quot;:-0.666667,&quot;y&quot;:0.333333,&quot;z&quot;:-0.666667}], &quot;faces&quot;:[[0,1,2],[0,3,1],[0,4,3],[0,5,4],[0,2,5],[2,1,6,7],[1,3,8,6],[3,4,9,8],[4,5,10,9],[5,2,7,10],[7,6,11],[6,8,11],[8,9,11],[9,10,11],[10,7,11]], &quot;color&quot;:&quot;#0000ff&quot;, &quot;opacity&quot;:1},{&quot;vertices&quot;:[{&quot;x&quot;:-0.472222,&quot;y&quot;:0.444444,&quot;z&quot;:-0.555556},{&quot;x&quot;:-0.583494,&quot;y&quot;:0.366794,&quot;z&quot;:-0.688179},{&quot;x&quot;:-0.626581,&quot;y&quot;:0.416239,&quot;z&quot;:-0.662222},{&quot;x&quot;:-0.580108,&quot;y&quot;:0.314102,&quot;z&quot;:-0.641412},{&quot;x&quot;:-0.621103,&quot;y&quot;:0.330982,&quot;z&quot;:-0.586552},{&quot;x&quot;:-0.649824,&quot;y&quot;:0.394106,&quot;z&quot;:-0.599413},{&quot;x&quot;:-0.612222,&quot;y&quot;:0.364444,&quot;z&quot;:-0.635556}], &quot;faces&quot;:[[0,1,2],[0,3,1],[0,4,3],[0,5,4],[0,2,5],[2,1,6],[1,3,6],[3,4,6],[4,5,6],[5,2,6]], &quot;color&quot;:&quot;#0000ff&quot;, &quot;opacity&quot;:1},{&quot;vertices&quot;:[{&quot;x&quot;:-0.647778,&quot;y&quot;:0.352222,&quot;z&quot;:-0.323889},{&quot;x&quot;:-0.637157,&quot;y&quot;:0.350002,&quot;z&quot;:-0.34069},{&quot;x&quot;:-0.654444,&quot;y&quot;:0.365556,&quot;z&quot;:-0.337222},{&quot;x&quot;:-0.634547,&quot;y&quot;:0.337517,&quot;z&quot;:-0.320939},{&quot;x&quot;:-0.650221,&quot;y&quot;:0.345354,&quot;z&quot;:-0.305265},{&quot;x&quot;:-0.662519,&quot;y&quot;:0.362683,&quot;z&quot;:-0.315328},{&quot;x&quot;:-0.656046,&quot;y&quot;:0.331113,&quot;z&quot;:-0.350134},{&quot;x&quot;:-0.673333,&quot;y&quot;:0.346667,&quot;z&quot;:-0.346667},{&quot;x&quot;:-0.653436,&quot;y&quot;:0.318628,&quot;z&quot;:-0.330384},{&quot;x&quot;:-0.66911,&quot;y&quot;:0.326465,&quot;z&quot;:-0.314709},{&quot;x&quot;:-0.681408,&quot;y&quot;:0.343794,&quot;z&quot;:-0.324773},{&quot;x&quot;:-0.666667,&quot;y&quot;:0.333333,&quot;z&quot;:-0.333333}], &quot;faces&quot;:[[0,1,2],[0,3,1],[0,4,3],[0,5,4],[0,2,5],[2,1,6,7],[1,3,8,6],[3,4,9,8],[4,5,10,9],[5,2,7,10],[7,6,11],[6,8,11],[8,9,11],[9,10,11],[10,7,11]], &quot;color&quot;:&quot;#0000ff&quot;, &quot;opacity&quot;:1},{&quot;vertices&quot;:[{&quot;x&quot;:-0.527778,&quot;y&quot;:0.472222,&quot;z&quot;:-0.263889},{&quot;x&quot;:-0.615916,&quot;y&quot;:0.345562,&quot;z&quot;:-0.374292},{&quot;x&quot;:-0.667778,&quot;y&quot;:0.392222,&quot;z&quot;:-0.363889},{&quot;x&quot;:-0.608086,&quot;y&quot;:0.308106,&quot;z&quot;:-0.31504},{&quot;x&quot;:-0.655109,&quot;y&quot;:0.331617,&quot;z&quot;:-0.268017},{&quot;x&quot;:-0.692,&quot;y&quot;:0.383604,&quot;z&quot;:-0.298207},{&quot;x&quot;:-0.647778,&quot;y&quot;:0.352222,&quot;z&quot;:-0.323889}], &quot;faces&quot;:[[0,1,2],[0,3,1],[0,4,3],[0,5,4],[0,2,5],[2,1,6],[1,3,6],[3,4,6],[4,5,6],[5,2,6]], &quot;color&quot;:&quot;#0000ff&quot;, &quot;opacity&quot;:1},{&quot;vertices&quot;:[{&quot;x&quot;:-0.660476,&quot;y&quot;:0.345714,&quot;z&quot;:0.00412698},{&quot;x&quot;:-0.645938,&quot;y&quot;:0.342928,&quot;z&quot;:-0.00932236},{&quot;x&quot;:-0.66619,&quot;y&quot;:0.354286,&quot;z&quot;:-0.0130159},{&quot;x&quot;:-0.645777,&quot;y&quot;:0.335421,&quot;z&quot;:0.0129577},{&quot;x&quot;:-0.66593,&quot;y&quot;:0.342139,&quot;z&quot;:0.023034},{&quot;x&quot;:-0.678546,&quot;y&quot;:0.353798,&quot;z&quot;:0.00698146},{&quot;x&quot;:-0.652129,&quot;y&quot;:0.330547,&quot;z&quot;:-0.0134493},{&quot;x&quot;:-0.672381,&quot;y&quot;:0.341905,&quot;z&quot;:-0.0171429},{&quot;x&quot;:-0.651967,&quot;y&quot;:0.32304,&quot;z&quot;:0.0088307},{&quot;x&quot;:-0.67212,&quot;y&quot;:0.329758,&quot;z&quot;:0.018907},{&quot;x&quot;:-0.684736,&quot;y&quot;:0.341417,&quot;z&quot;:0.00285448},{&quot;x&quot;:-0.666667,&quot;y&quot;:0.333333,&quot;z&quot;:0}], &quot;faces&quot;:[[0,1,2],[0,3,1],[0,4,3],[0,5,4],[0,2,5],[2,1,6,7],[1,3,8,6],[3,4,9,8],[4,5,10,9],[5,2,7,10],[7,6,11],[6,8,11],[8,9,11],[9,10,11],[10,7,11]], &quot;color&quot;:&quot;#0000ff&quot;, &quot;opacity&quot;:1},{&quot;vertices&quot;:[{&quot;x&quot;:-0.583333,&quot;y&quot;:0.5,&quot;z&quot;:0.0555556},{&quot;x&quot;:-0.616862,&quot;y&quot;:0.337357,&quot;z&quot;:-0.0362211},{&quot;x&quot;:-0.677619,&quot;y&quot;:0.371429,&quot;z&quot;:-0.0473016},{&quot;x&quot;:-0.616378,&quot;y&quot;:0.314835,&quot;z&quot;:0.0306191},{&quot;x&quot;:-0.676836,&quot;y&quot;:0.334987,&quot;z&quot;:0.0608481},{&quot;x&quot;:-0.714685,&quot;y&quot;:0.369964,&quot;z&quot;:0.0126904},{&quot;x&quot;:-0.660476,&quot;y&quot;:0.345714,&quot;z&quot;:0.00412698}], &quot;faces&quot;:[[0,1,2],[0,3,1],[0,4,3],[0,5,4],[0,2,5],[2,1,6],[1,3,6],[3,4,6],[4,5,6],[5,2,6]], &quot;color&quot;:&quot;#0000ff&quot;, &quot;opacity&quot;:1},{&quot;vertices&quot;:[{&quot;x&quot;:-0.662889,&quot;y&quot;:0.359778,&quot;z&quot;:0.342778},{&quot;x&quot;:-0.644698,&quot;y&quot;:0.360145,&quot;z&quot;:0.334473},{&quot;x&quot;:-0.664756,&quot;y&quot;:0.366711,&quot;z&quot;:0.324111},{&quot;x&quot;:-0.64978,&quot;y&quot;:0.353071,&quot;z&quot;:0.356312},{&quot;x&quot;:-0.672978,&quot;y&quot;:0.355266,&quot;z&quot;:0.359447},{&quot;x&quot;:-0.682233,&quot;y&quot;:0.363696,&quot;z&quot;:0.339546},{&quot;x&quot;:-0.648476,&quot;y&quot;:0.333701,&quot;z&quot;:0.325029},{&quot;x&quot;:-0.668533,&quot;y&quot;:0.340267,&quot;z&quot;:0.314667},{&quot;x&quot;:-0.653558,&quot;y&quot;:0.326627,&quot;z&quot;:0.346868},{&quot;x&quot;:-0.676755,&quot;y&quot;:0.328821,&quot;z&quot;:0.350002},{&quot;x&quot;:-0.686011,&quot;y&quot;:0.337251,&quot;z&quot;:0.330101},{&quot;x&quot;:-0.666667,&quot;y&quot;:0.333333,&quot;z&quot;:0.333333}], &quot;faces&quot;:[[0,1,2],[0,3,1],[0,4,3],[0,5,4],[0,2,5],[2,1,6,7],[1,3,8,6],[3,4,9,8],[4,5,10,9],[5,2,7,10],[7,6,11],[6,8,11],[8,9,11],[9,10,11],[10,7,11]], &quot;color&quot;:&quot;#0000ff&quot;, &quot;opacity&quot;:1},{&quot;vertices&quot;:[{&quot;x&quot;:-0.638889,&quot;y&quot;:0.527778,&quot;z&quot;:0.402778},{&quot;x&quot;:-0.608317,&quot;y&quot;:0.360879,&quot;z&quot;:0.317864},{&quot;x&quot;:-0.668489,&quot;y&quot;:0.380578,&quot;z&quot;:0.286778},{&quot;x&quot;:-0.623562,&quot;y&quot;:0.339659,&quot;z&quot;:0.38338},{&quot;x&quot;:-0.693155,&quot;y&quot;:0.346242,&quot;z&quot;:0.392785},{&quot;x&quot;:-0.720922,&quot;y&quot;:0.371531,&quot;z&quot;:0.333081},{&quot;x&quot;:-0.662889,&quot;y&quot;:0.359778,&quot;z&quot;:0.342778}], &quot;faces&quot;:[[0,1,2],[0,3,1],[0,4,3],[0,5,4],[0,2,5],[2,1,6],[1,3,6],[3,4,6],[4,5,6],[5,2,6]], &quot;color&quot;:&quot;#0000ff&quot;, &quot;opacity&quot;:1},{&quot;vertices&quot;:[{&quot;x&quot;:-0.674444,&quot;y&quot;:0.395556,&quot;z&quot;:0.697778},{&quot;x&quot;:-0.655163,&quot;y&quot;:0.399656,&quot;z&quot;:0.694398},{&quot;x&quot;:-0.673077,&quot;y&quot;:0.404615,&quot;z&quot;:0.68},{&quot;x&quot;:-0.663896,&quot;y&quot;:0.38903,&quot;z&quot;:0.713466},{&quot;x&quot;:-0.687206,&quot;y&quot;:0.387422,&quot;z&quot;:0.710854},{&quot;x&quot;:-0.69288,&quot;y&quot;:0.397055,&quot;z&quot;:0.690171},{&quot;x&quot;:-0.647386,&quot;y&quot;:0.337434,&quot;z&quot;:0.663286},{&quot;x&quot;:-0.665299,&quot;y&quot;:0.342393,&quot;z&quot;:0.648889},{&quot;x&quot;:-0.656118,&quot;y&quot;:0.326808,&quot;z&quot;:0.682355},{&quot;x&quot;:-0.679428,&quot;y&quot;:0.3252,&quot;z&quot;:0.679743},{&quot;x&quot;:-0.685103,&quot;y&quot;:0.334832,&quot;z&quot;:0.65906},{&quot;x&quot;:-0.666667,&quot;y&quot;:0.333333,&quot;z&quot;:0.666667}], &quot;faces&quot;:[[0,1,2],[0,3,1],[0,4,3],[0,5,4],[0,2,5],[2,1,6,7],[1,3,8,6],[3,4,9,8],[4,5,10,9],[5,2,7,10],[7,6,11],[6,8,11],[8,9,11],[9,10,11],[10,7,11]], &quot;color&quot;:&quot;#0000ff&quot;, &quot;opacity&quot;:1},{&quot;vertices&quot;:[{&quot;x&quot;:-0.694444,&quot;y&quot;:0.555556,&quot;z&quot;:0.777778},{&quot;x&quot;:-0.616601,&quot;y&quot;:0.407856,&quot;z&quot;:0.687637},{&quot;x&quot;:-0.670342,&quot;y&quot;:0.422735,&quot;z&quot;:0.644444},{&quot;x&quot;:-0.642798,&quot;y&quot;:0.375978,&quot;z&quot;:0.744844},{&quot;x&quot;:-0.712729,&quot;y&quot;:0.371155,&quot;z&quot;:0.737007},{&quot;x&quot;:-0.729752,&quot;y&quot;:0.400053,&quot;z&quot;:0.674956},{&quot;x&quot;:-0.674444,&quot;y&quot;:0.395556,&quot;z&quot;:0.697778}], &quot;faces&quot;:[[0,1,2],[0,3,1],[0,4,3],[0,5,4],[0,2,5],[2,1,6],[1,3,6],[3,4,6],[4,5,6],[5,2,6]], &quot;color&quot;:&quot;#0000ff&quot;, &quot;opacity&quot;:1},{&quot;vertices&quot;:[{&quot;x&quot;:-0.703043,&quot;y&quot;:0.442464,&quot;z&quot;:1.07882},{&quot;x&quot;:-0.684043,&quot;y&quot;:0.448707,&quot;z&quot;:1.07894},{&quot;x&quot;:-0.700435,&quot;y&quot;:0.454638,&quot;z&quot;:1.06316},{&quot;x&quot;:-0.693909,&quot;y&quot;:0.434148,&quot;z&quot;:1.09455},{&quot;x&quot;:-0.716399,&quot;y&quot;:0.431082,&quot;z&quot;:1.08841},{&quot;x&quot;:-0.720431,&quot;y&quot;:0.443745,&quot;z&quot;:1.06902},{&quot;x&quot;:-0.647666,&quot;y&quot;:0.339576,&quot;z&quot;:1.00013},{&quot;x&quot;:-0.664058,&quot;y&quot;:0.345507,&quot;z&quot;:0.984348},{&quot;x&quot;:-0.657533,&quot;y&quot;:0.325018,&quot;z&quot;:1.01573},{&quot;x&quot;:-0.680022,&quot;y&quot;:0.321951,&quot;z&quot;:1.0096},{&quot;x&quot;:-0.684055,&quot;y&quot;:0.334614,&quot;z&quot;:0.990201},{&quot;x&quot;:-0.666667,&quot;y&quot;:0.333333,&quot;z&quot;:1}], &quot;faces&quot;:[[0,1,2],[0,3,1],[0,4,3],[0,5,4],[0,2,5],[2,1,6,7],[1,3,8,6],[3,4,9,8],[4,5,10,9],[5,2,7,10],[7,6,11],[6,8,11],[8,9,11],[9,10,11],[10,7,11]], &quot;color&quot;:&quot;#0000ff&quot;, &quot;opacity&quot;:1},{&quot;vertices&quot;:[{&quot;x&quot;:-0.75,&quot;y&quot;:0.583333,&quot;z&quot;:1.18056},{&quot;x&quot;:-0.646043,&quot;y&quot;:0.461193,&quot;z&quot;:1.07919},{&quot;x&quot;:-0.695217,&quot;y&quot;:0.478986,&quot;z&quot;:1.03186},{&quot;x&quot;:-0.675641,&quot;y&quot;:0.417517,&quot;z&quot;:1.12601},{&quot;x&quot;:-0.743109,&quot;y&quot;:0.408317,&quot;z&quot;:1.1076},{&quot;x&quot;:-0.755207,&quot;y&quot;:0.446307,&quot;z&quot;:1.04942},{&quot;x&quot;:-0.703043,&quot;y&quot;:0.442464,&quot;z&quot;:1.07882}], &quot;faces&quot;:[[0,1,2],[0,3,1],[0,4,3],[0,5,4],[0,2,5],[2,1,6],[1,3,6],[3,4,6],[4,5,6],[5,2,6]], &quot;color&quot;:&quot;#0000ff&quot;, &quot;opacity&quot;:1},{&quot;vertices&quot;:[{&quot;x&quot;:-0.499487,&quot;y&quot;:0.666667,&quot;z&quot;:-0.930342},{&quot;x&quot;:-0.492171,&quot;y&quot;:0.672847,&quot;z&quot;:-0.9479},{&quot;x&quot;:-0.499487,&quot;y&quot;:0.686667,&quot;z&quot;:-0.930342},{&quot;x&quot;:-0.494966,&quot;y&quot;:0.650486,&quot;z&quot;:-0.941193},{&quot;x&quot;:-0.504009,&quot;y&quot;:0.650486,&quot;z&quot;:-0.91949},{&quot;x&quot;:-0.506803,&quot;y&quot;:0.672847,&quot;z&quot;:-0.912784},{&quot;x&quot;:-0.659351,&quot;y&quot;:0.672847,&quot;z&quot;:-1.01756},{&quot;x&quot;:-0.666667,&quot;y&quot;:0.686667,&quot;z&quot;:-1},{&quot;x&quot;:-0.662145,&quot;y&quot;:0.650486,&quot;z&quot;:-1.01085},{&quot;x&quot;:-0.671188,&quot;y&quot;:0.650486,&quot;z&quot;:-0.989149},{&quot;x&quot;:-0.673982,&quot;y&quot;:0.672847,&quot;z&quot;:-0.982442},{&quot;x&quot;:-0.666667,&quot;y&quot;:0.666667,&quot;z&quot;:-1}], &quot;faces&quot;:[[0,1,2],[0,3,1],[0,4,3],[0,5,4],[0,2,5],[2,1,6,7],[1,3,8,6],[3,4,9,8],[4,5,10,9],[5,2,7,10],[7,6,11],[6,8,11],[8,9,11],[9,10,11],[10,7,11]], &quot;color&quot;:&quot;#0000ff&quot;, &quot;opacity&quot;:1},{&quot;vertices&quot;:[{&quot;x&quot;:-0.333333,&quot;y&quot;:0.666667,&quot;z&quot;:-0.861111},{&quot;x&quot;:-0.47754,&quot;y&quot;:0.685208,&quot;z&quot;:-0.983016},{&quot;x&quot;:-0.499487,&quot;y&quot;:0.726667,&quot;z&quot;:-0.930342},{&quot;x&quot;:-0.485923,&quot;y&quot;:0.618126,&quot;z&quot;:-0.962896},{&quot;x&quot;:-0.513051,&quot;y&quot;:0.618126,&quot;z&quot;:-0.897788},{&quot;x&quot;:-0.521435,&quot;y&quot;:0.685208,&quot;z&quot;:-0.877668},{&quot;x&quot;:-0.499487,&quot;y&quot;:0.666667,&quot;z&quot;:-0.930342}], &quot;faces&quot;:[[0,1,2],[0,3,1],[0,4,3],[0,5,4],[0,2,5],[2,1,6],[1,3,6],[3,4,6],[4,5,6],[5,2,6]], &quot;color&quot;:&quot;#0000ff&quot;, &quot;opacity&quot;:1},{&quot;vertices&quot;:[{&quot;x&quot;:-0.560317,&quot;y&quot;:0.687937,&quot;z&quot;:-0.640079},{&quot;x&quot;:-0.556137,&quot;y&quot;:0.691149,&quot;z&quot;:-0.659372},{&quot;x&quot;:-0.563248,&quot;y&quot;:0.70735,&quot;z&quot;:-0.643889},{&quot;x&quot;:-0.554803,&quot;y&quot;:0.670508,&quot;z&quot;:-0.648193},{&quot;x&quot;:-0.56109,&quot;y&quot;:0.673953,&quot;z&quot;:-0.625801},{&quot;x&quot;:-0.566309,&quot;y&quot;:0.696723,&quot;z&quot;:-0.623141},{&quot;x&quot;:-0.662486,&quot;y&quot;:0.669879,&quot;z&quot;:-0.685959},{&quot;x&quot;:-0.669597,&quot;y&quot;:0.686081,&quot;z&quot;:-0.670476},{&quot;x&quot;:-0.661152,&quot;y&quot;:0.649238,&quot;z&quot;:-0.674781},{&quot;x&quot;:-0.667439,&quot;y&quot;:0.652683,&quot;z&quot;:-0.652389},{&quot;x&quot;:-0.672658,&quot;y&quot;:0.675453,&quot;z&quot;:-0.649729},{&quot;x&quot;:-0.666667,&quot;y&quot;:0.666667,&quot;z&quot;:-0.666667}], &quot;faces&quot;:[[0,1,2],[0,3,1],[0,4,3],[0,5,4],[0,2,5],[2,1,6,7],[1,3,8,6],[3,4,9,8],[4,5,10,9],[5,2,7,10],[7,6,11],[6,8,11],[8,9,11],[9,10,11],[10,7,11]], &quot;color&quot;:&quot;#0000ff&quot;, &quot;opacity&quot;:1},{&quot;vertices&quot;:[{&quot;x&quot;:-0.388889,&quot;y&quot;:0.722222,&quot;z&quot;:-0.597222},{&quot;x&quot;:-0.547775,&quot;y&quot;:0.697573,&quot;z&quot;:-0.697957},{&quot;x&quot;:-0.569109,&quot;y&quot;:0.746178,&quot;z&quot;:-0.651508},{&quot;x&quot;:-0.543775,&quot;y&quot;:0.635651,&quot;z&quot;:-0.664421},{&quot;x&quot;:-0.562636,&quot;y&quot;:0.645985,&quot;z&quot;:-0.597246},{&quot;x&quot;:-0.578293,&quot;y&quot;:0.714295,&quot;z&quot;:-0.589265},{&quot;x&quot;:-0.560317,&quot;y&quot;:0.687937,&quot;z&quot;:-0.640079}], &quot;faces&quot;:[[0,1,2],[0,3,1],[0,4,3],[0,5,4],[0,2,5],[2,1,6],[1,3,6],[3,4,6],[4,5,6],[5,2,6]], &quot;color&quot;:&quot;#0000ff&quot;, &quot;opacity&quot;:1},{&quot;vertices&quot;:[{&quot;x&quot;:-0.604444,&quot;y&quot;:0.697778,&quot;z&quot;:-0.325556},{&quot;x&quot;:-0.601147,&quot;y&quot;:0.696096,&quot;z&quot;:-0.34521},{&quot;x&quot;:-0.611556,&quot;y&quot;:0.714222,&quot;z&quot;:-0.334444},{&quot;x&quot;:-0.595295,&quot;y&quot;:0.680294,&quot;z&quot;:-0.328814},{&quot;x&quot;:-0.602088,&quot;y&quot;:0.688654,&quot;z&quot;:-0.307915},{&quot;x&quot;:-0.612137,&quot;y&quot;:0.709622,&quot;z&quot;:-0.311395},{&quot;x&quot;:-0.663369,&quot;y&quot;:0.664985,&quot;z&quot;:-0.352988},{&quot;x&quot;:-0.673778,&quot;y&quot;:0.683111,&quot;z&quot;:-0.342222},{&quot;x&quot;:-0.657518,&quot;y&quot;:0.649183,&quot;z&quot;:-0.336592},{&quot;x&quot;:-0.66431,&quot;y&quot;:0.657543,&quot;z&quot;:-0.315693},{&quot;x&quot;:-0.674359,&quot;y&quot;:0.678511,&quot;z&quot;:-0.319172},{&quot;x&quot;:-0.666667,&quot;y&quot;:0.666667,&quot;z&quot;:-0.333333}], &quot;faces&quot;:[[0,1,2],[0,3,1],[0,4,3],[0,5,4],[0,2,5],[2,1,6,7],[1,3,8,6],[3,4,9,8],[4,5,10,9],[5,2,7,10],[7,6,11],[6,8,11],[8,9,11],[9,10,11],[10,7,11]], &quot;color&quot;:&quot;#0000ff&quot;, &quot;opacity&quot;:1},{&quot;vertices&quot;:[{&quot;x&quot;:-0.444444,&quot;y&quot;:0.777778,&quot;z&quot;:-0.305556},{&quot;x&quot;:-0.594552,&quot;y&quot;:0.692733,&quot;z&quot;:-0.384519},{&quot;x&quot;:-0.625778,&quot;y&quot;:0.747111,&quot;z&quot;:-0.352222},{&quot;x&quot;:-0.576997,&quot;y&quot;:0.645327,&quot;z&quot;:-0.33533},{&quot;x&quot;:-0.597374,&quot;y&quot;:0.670406,&quot;z&quot;:-0.272633},{&quot;x&quot;:-0.627522,&quot;y&quot;:0.733312,&quot;z&quot;:-0.283073},{&quot;x&quot;:-0.604444,&quot;y&quot;:0.697778,&quot;z&quot;:-0.325556}], &quot;faces&quot;:[[0,1,2],[0,3,1],[0,4,3],[0,5,4],[0,2,5],[2,1,6],[1,3,6],[3,4,6],[4,5,6],[5,2,6]], &quot;color&quot;:&quot;#0000ff&quot;, &quot;opacity&quot;:1},{&quot;vertices&quot;:[{&quot;x&quot;:-0.627059,&quot;y&quot;:0.706275,&quot;z&quot;:0.00330065},{&quot;x&quot;:-0.619897,&quot;y&quot;:0.700595,&quot;z&quot;:-0.0144886},{&quot;x&quot;:-0.636471,&quot;y&quot;:0.716863,&quot;z&quot;:-0.010817},{&quot;x&quot;:-0.613221,&quot;y&quot;:0.692176,&quot;z&quot;:0.00642393},{&quot;x&quot;:-0.625668,&quot;y&quot;:0.703241,&quot;z&quot;:0.0230202},{&quot;x&quot;:-0.640037,&quot;y&quot;:0.718498,&quot;z&quot;:0.0123647},{&quot;x&quot;:-0.659505,&quot;y&quot;:0.660987,&quot;z&quot;:-0.0177893},{&quot;x&quot;:-0.676078,&quot;y&quot;:0.677255,&quot;z&quot;:-0.0141176},{&quot;x&quot;:-0.652829,&quot;y&quot;:0.652569,&quot;z&quot;:0.00312327},{&quot;x&quot;:-0.665276,&quot;y&quot;:0.663633,&quot;z&quot;:0.0197196},{&quot;x&quot;:-0.679645,&quot;y&quot;:0.67889,&quot;z&quot;:0.00906409},{&quot;x&quot;:-0.666667,&quot;y&quot;:0.666667,&quot;z&quot;:0}], &quot;faces&quot;:[[0,1,2],[0,3,1],[0,4,3],[0,5,4],[0,2,5],[2,1,6,7],[1,3,8,6],[3,4,9,8],[4,5,10,9],[5,2,7,10],[7,6,11],[6,8,11],[8,9,11],[9,10,11],[10,7,11]], &quot;color&quot;:&quot;#0000ff&quot;, &quot;opacity&quot;:1},{&quot;vertices&quot;:[{&quot;x&quot;:-0.5,&quot;y&quot;:0.833333,&quot;z&quot;:0.0138889},{&quot;x&quot;:-0.605574,&quot;y&quot;:0.689237,&quot;z&quot;:-0.0500672},{&quot;x&quot;:-0.655294,&quot;y&quot;:0.738039,&quot;z&quot;:-0.0390523},{&quot;x&quot;:-0.585545,&quot;y&quot;:0.66398,&quot;z&quot;:0.0126705},{&quot;x&quot;:-0.622887,&quot;y&quot;:0.697173,&quot;z&quot;:0.0624593},{&quot;x&quot;:-0.665994,&quot;y&quot;:0.742944,&quot;z&quot;:0.0304929},{&quot;x&quot;:-0.627059,&quot;y&quot;:0.706275,&quot;z&quot;:0.00330065}], &quot;faces&quot;:[[0,1,2],[0,3,1],[0,4,3],[0,5,4],[0,2,5],[2,1,6],[1,3,6],[3,4,6],[4,5,6],[5,2,6]], &quot;color&quot;:&quot;#0000ff&quot;, &quot;opacity&quot;:1},{&quot;vertices&quot;:[{&quot;x&quot;:-0.635556,&quot;y&quot;:0.728889,&quot;z&quot;:0.341111},{&quot;x&quot;:-0.622113,&quot;y&quot;:0.723911,&quot;z&quot;:0.327164},{&quot;x&quot;:-0.642667,&quot;y&quot;:0.734667,&quot;z&quot;:0.323333},{&quot;x&quot;:-0.620137,&quot;y&quot;:0.720035,&quot;z&quot;:0.350269},{&quot;x&quot;:-0.639468,&quot;y&quot;:0.728394,&quot;z&quot;:0.360718},{&quot;x&quot;:-0.653393,&quot;y&quot;:0.737437,&quot;z&quot;:0.344071},{&quot;x&quot;:-0.653225,&quot;y&quot;:0.661689,&quot;z&quot;:0.319386},{&quot;x&quot;:-0.673778,&quot;y&quot;:0.672444,&quot;z&quot;:0.315556},{&quot;x&quot;:-0.651248,&quot;y&quot;:0.657813,&quot;z&quot;:0.342491},{&quot;x&quot;:-0.670579,&quot;y&quot;:0.666172,&quot;z&quot;:0.352941},{&quot;x&quot;:-0.684504,&quot;y&quot;:0.675215,&quot;z&quot;:0.336294},{&quot;x&quot;:-0.666667,&quot;y&quot;:0.666667,&quot;z&quot;:0.333333}], &quot;faces&quot;:[[0,1,2],[0,3,1],[0,4,3],[0,5,4],[0,2,5],[2,1,6,7],[1,3,8,6],[3,4,9,8],[4,5,10,9],[5,2,7,10],[7,6,11],[6,8,11],[8,9,11],[9,10,11],[10,7,11]], &quot;color&quot;:&quot;#0000ff&quot;, &quot;opacity&quot;:1},{&quot;vertices&quot;:[{&quot;x&quot;:-0.555556,&quot;y&quot;:0.888889,&quot;z&quot;:0.361111},{&quot;x&quot;:-0.595229,&quot;y&quot;:0.713956,&quot;z&quot;:0.299269},{&quot;x&quot;:-0.656889,&quot;y&quot;:0.746222,&quot;z&quot;:0.287778},{&quot;x&quot;:-0.589299,&quot;y&quot;:0.702327,&quot;z&quot;:0.368584},{&quot;x&quot;:-0.647294,&quot;y&quot;:0.727405,&quot;z&quot;:0.399933},{&quot;x&quot;:-0.689067,&quot;y&quot;:0.754534,&quot;z&quot;:0.349992},{&quot;x&quot;:-0.635556,&quot;y&quot;:0.728889,&quot;z&quot;:0.341111}], &quot;faces&quot;:[[0,1,2],[0,3,1],[0,4,3],[0,5,4],[0,2,5],[2,1,6],[1,3,6],[3,4,6],[4,5,6],[5,2,6]], &quot;color&quot;:&quot;#0000ff&quot;, &quot;opacity&quot;:1},{&quot;vertices&quot;:[{&quot;x&quot;:-0.645397,&quot;y&quot;:0.773016,&quot;z&quot;:0.693254},{&quot;x&quot;:-0.627839,&quot;y&quot;:0.771882,&quot;z&quot;:0.683745},{&quot;x&quot;:-0.648327,&quot;y&quot;:0.778364,&quot;z&quot;:0.674206},{&quot;x&quot;:-0.631615,&quot;y&quot;:0.766967,&quot;z&quot;:0.706425},{&quot;x&quot;:-0.654437,&quot;y&quot;:0.770412,&quot;z&quot;:0.710903},{&quot;x&quot;:-0.664766,&quot;y&quot;:0.777455,&quot;z&quot;:0.690991},{&quot;x&quot;:-0.649108,&quot;y&quot;:0.665532,&quot;z&quot;:0.657158},{&quot;x&quot;:-0.669597,&quot;y&quot;:0.672015,&quot;z&quot;:0.647619},{&quot;x&quot;:-0.652885,&quot;y&quot;:0.660618,&quot;z&quot;:0.679837},{&quot;x&quot;:-0.675707,&quot;y&quot;:0.664063,&quot;z&quot;:0.684316},{&quot;x&quot;:-0.686036,&quot;y&quot;:0.671106,&quot;z&quot;:0.664404},{&quot;x&quot;:-0.666667,&quot;y&quot;:0.666667,&quot;z&quot;:0.666667}], &quot;faces&quot;:[[0,1,2],[0,3,1],[0,4,3],[0,5,4],[0,2,5],[2,1,6,7],[1,3,8,6],[3,4,9,8],[4,5,10,9],[5,2,7,10],[7,6,11],[6,8,11],[8,9,11],[9,10,11],[10,7,11]], &quot;color&quot;:&quot;#0000ff&quot;, &quot;opacity&quot;:1},{&quot;vertices&quot;:[{&quot;x&quot;:-0.611111,&quot;y&quot;:0.944444,&quot;z&quot;:0.736111},{&quot;x&quot;:-0.592722,&quot;y&quot;:0.769613,&quot;z&quot;:0.664727},{&quot;x&quot;:-0.654188,&quot;y&quot;:0.78906,&quot;z&quot;:0.636111},{&quot;x&quot;:-0.604051,&quot;y&quot;:0.754869,&quot;z&quot;:0.732766},{&quot;x&quot;:-0.672518,&quot;y&quot;:0.765203,&quot;z&quot;:0.746201},{&quot;x&quot;:-0.703505,&quot;y&quot;:0.786335,&quot;z&quot;:0.686465},{&quot;x&quot;:-0.645397,&quot;y&quot;:0.773016,&quot;z&quot;:0.693254}], &quot;faces&quot;:[[0,1,2],[0,3,1],[0,4,3],[0,5,4],[0,2,5],[2,1,6],[1,3,6],[3,4,6],[4,5,6],[5,2,6]], &quot;color&quot;:&quot;#0000ff&quot;, &quot;opacity&quot;:1},{&quot;vertices&quot;:[{&quot;x&quot;:-0.666667,&quot;y&quot;:0.833846,&quot;z&quot;:1.06966},{&quot;x&quot;:-0.647646,&quot;y&quot;:0.836223,&quot;z&quot;:1.06395},{&quot;x&quot;:-0.666667,&quot;y&quot;:0.841538,&quot;z&quot;:1.0512},{&quot;x&quot;:-0.654911,&quot;y&quot;:0.827623,&quot;z&quot;:1.08459},{&quot;x&quot;:-0.678422,&quot;y&quot;:0.827623,&quot;z&quot;:1.08459},{&quot;x&quot;:-0.685688,&quot;y&quot;:0.836223,&quot;z&quot;:1.06395},{&quot;x&quot;:-0.647646,&quot;y&quot;:0.669044,&quot;z&quot;:0.994295},{&quot;x&quot;:-0.666667,&quot;y&quot;:0.674359,&quot;z&quot;:0.981538},{&quot;x&quot;:-0.654911,&quot;y&quot;:0.660443,&quot;z&quot;:1.01494},{&quot;x&quot;:-0.678422,&quot;y&quot;:0.660443,&quot;z&quot;:1.01494},{&quot;x&quot;:-0.685688,&quot;y&quot;:0.669044,&quot;z&quot;:0.994295},{&quot;x&quot;:-0.666667,&quot;y&quot;:0.666667,&quot;z&quot;:1}], &quot;faces&quot;:[[0,1,2],[0,3,1],[0,4,3],[0,5,4],[0,2,5],[2,1,6,7],[1,3,8,6],[3,4,9,8],[4,5,10,9],[5,2,7,10],[7,6,11],[6,8,11],[8,9,11],[9,10,11],[10,7,11]], &quot;color&quot;:&quot;#0000ff&quot;, &quot;opacity&quot;:1},{&quot;vertices&quot;:[{&quot;x&quot;:-0.666667,&quot;y&quot;:1,&quot;z&quot;:1.13889},{&quot;x&quot;:-0.609603,&quot;y&quot;:0.840977,&quot;z&quot;:1.05254},{&quot;x&quot;:-0.666667,&quot;y&quot;:0.856923,&quot;z&quot;:1.01427},{&quot;x&quot;:-0.6314,&quot;y&quot;:0.815177,&quot;z&quot;:1.11447},{&quot;x&quot;:-0.701934,&quot;y&quot;:0.815177,&quot;z&quot;:1.11447},{&quot;x&quot;:-0.72373,&quot;y&quot;:0.840977,&quot;z&quot;:1.05254},{&quot;x&quot;:-0.666667,&quot;y&quot;:0.833846,&quot;z&quot;:1.06966}], &quot;faces&quot;:[[0,1,2],[0,3,1],[0,4,3],[0,5,4],[0,2,5],[2,1,6],[1,3,6],[3,4,6],[4,5,6],[5,2,6]], &quot;color&quot;:&quot;#0000ff&quot;, &quot;opacity&quot;:1},{&quot;vertices&quot;:[{&quot;x&quot;:-0.424194,&quot;y&quot;:0.951505,&quot;z&quot;:-0.959588},{&quot;x&quot;:-0.419515,&quot;y&quot;:0.960554,&quot;z&quot;:-0.976799},{&quot;x&quot;:-0.420968,&quot;y&quot;:0.97086,&quot;z&quot;:-0.955717},{&quot;x&quot;:-0.424528,&quot;y&quot;:0.937743,&quot;z&quot;:-0.974096},{&quot;x&quot;:-0.429079,&quot;y&quot;:0.933951,&quot;z&quot;:-0.951343},{&quot;x&quot;:-0.426878,&quot;y&quot;:0.954418,&quot;z&quot;:-0.939984},{&quot;x&quot;:-0.661988,&quot;y&quot;:1.00905,&quot;z&quot;:-1.01721},{&quot;x&quot;:-0.663441,&quot;y&quot;:1.01935,&quot;z&quot;:-0.996129},{&quot;x&quot;:-0.667001,&quot;y&quot;:0.986238,&quot;z&quot;:-1.01451},{&quot;x&quot;:-0.671552,&quot;y&quot;:0.982446,&quot;z&quot;:-0.991755},{&quot;x&quot;:-0.669351,&quot;y&quot;:1.00291,&quot;z&quot;:-0.980396},{&quot;x&quot;:-0.666667,&quot;y&quot;:1,&quot;z&quot;:-1}], &quot;faces&quot;:[[0,1,2],[0,3,1],[0,4,3],[0,5,4],[0,2,5],[2,1,6,7],[1,3,8,6],[3,4,9,8],[4,5,10,9],[5,2,7,10],[7,6,11],[6,8,11],[8,9,11],[9,10,11],[10,7,11]], &quot;color&quot;:&quot;#0000ff&quot;, &quot;opacity&quot;:1},{&quot;vertices&quot;:[{&quot;x&quot;:-0.25,&quot;y&quot;:0.916667,&quot;z&quot;:-0.930556},{&quot;x&quot;:-0.410159,&quot;y&quot;:0.978652,&quot;z&quot;:-1.01122},{&quot;x&quot;:-0.414516,&quot;y&quot;:1.00957,&quot;z&quot;:-0.947975},{&quot;x&quot;:-0.425197,&quot;y&quot;:0.910218,&quot;z&quot;:-1.00311},{&quot;x&quot;:-0.438849,&quot;y&quot;:0.898842,&quot;z&quot;:-0.934853},{&quot;x&quot;:-0.432248,&quot;y&quot;:0.960245,&quot;z&quot;:-0.900777},{&quot;x&quot;:-0.424194,&quot;y&quot;:0.951505,&quot;z&quot;:-0.959588}], &quot;faces&quot;:[[0,1,2],[0,3,1],[0,4,3],[0,5,4],[0,2,5],[2,1,6],[1,3,6],[3,4,6],[4,5,6],[5,2,6]], &quot;color&quot;:&quot;#0000ff&quot;, &quot;opacity&quot;:1},{&quot;vertices&quot;:[{&quot;x&quot;:-0.485556,&quot;y&quot;:1,&quot;z&quot;:-0.666667},{&quot;x&quot;:-0.485556,&quot;y&quot;:1.00618,&quot;z&quot;:-0.685688},{&quot;x&quot;:-0.485556,&quot;y&quot;:1.02,&quot;z&quot;:-0.666667},{&quot;x&quot;:-0.485556,&quot;y&quot;:0.98382,&quot;z&quot;:-0.678422},{&quot;x&quot;:-0.485556,&quot;y&quot;:0.98382,&quot;z&quot;:-0.654911},{&quot;x&quot;:-0.485556,&quot;y&quot;:1.00618,&quot;z&quot;:-0.647646},{&quot;x&quot;:-0.666667,&quot;y&quot;:1.00618,&quot;z&quot;:-0.685688},{&quot;x&quot;:-0.666667,&quot;y&quot;:1.02,&quot;z&quot;:-0.666667},{&quot;x&quot;:-0.666667,&quot;y&quot;:0.98382,&quot;z&quot;:-0.678422},{&quot;x&quot;:-0.666667,&quot;y&quot;:0.98382,&quot;z&quot;:-0.654911},{&quot;x&quot;:-0.666667,&quot;y&quot;:1.00618,&quot;z&quot;:-0.647646},{&quot;x&quot;:-0.666667,&quot;y&quot;:1,&quot;z&quot;:-0.666667}], &quot;faces&quot;:[[0,1,2],[0,3,1],[0,4,3],[0,5,4],[0,2,5],[2,1,6,7],[1,3,8,6],[3,4,9,8],[4,5,10,9],[5,2,7,10],[7,6,11],[6,8,11],[8,9,11],[9,10,11],[10,7,11]], &quot;color&quot;:&quot;#0000ff&quot;, &quot;opacity&quot;:1},{&quot;vertices&quot;:[{&quot;x&quot;:-0.305556,&quot;y&quot;:1,&quot;z&quot;:-0.666667},{&quot;x&quot;:-0.485556,&quot;y&quot;:1.01854,&quot;z&quot;:-0.72373},{&quot;x&quot;:-0.485556,&quot;y&quot;:1.06,&quot;z&quot;:-0.666667},{&quot;x&quot;:-0.485556,&quot;y&quot;:0.951459,&quot;z&quot;:-0.701934},{&quot;x&quot;:-0.485556,&quot;y&quot;:0.951459,&quot;z&quot;:-0.6314},{&quot;x&quot;:-0.485556,&quot;y&quot;:1.01854,&quot;z&quot;:-0.609603},{&quot;x&quot;:-0.485556,&quot;y&quot;:1,&quot;z&quot;:-0.666667}], &quot;faces&quot;:[[0,1,2],[0,3,1],[0,4,3],[0,5,4],[0,2,5],[2,1,6],[1,3,6],[3,4,6],[4,5,6],[5,2,6]], &quot;color&quot;:&quot;#0000ff&quot;, &quot;opacity&quot;:1},{&quot;vertices&quot;:[{&quot;x&quot;:-0.533285,&quot;y&quot;:1.03638,&quot;z&quot;:-0.351522},{&quot;x&quot;:-0.536051,&quot;y&quot;:1.03662,&quot;z&quot;:-0.371328},{&quot;x&quot;:-0.539024,&quot;y&quot;:1.05481,&quot;z&quot;:-0.356739},{&quot;x&quot;:-0.529255,&quot;y&quot;:1.01809,&quot;z&quot;:-0.358545},{&quot;x&quot;:-0.528029,&quot;y&quot;:1.02484,&quot;z&quot;:-0.336056},{&quot;x&quot;:-0.534066,&quot;y&quot;:1.04753,&quot;z&quot;:-0.33494},{&quot;x&quot;:-0.669433,&quot;y&quot;:1.00024,&quot;z&quot;:-0.35314},{&quot;x&quot;:-0.672406,&quot;y&quot;:1.01843,&quot;z&quot;:-0.338551},{&quot;x&quot;:-0.662637,&quot;y&quot;:0.981713,&quot;z&quot;:-0.340357},{&quot;x&quot;:-0.66141,&quot;y&quot;:0.988459,&quot;z&quot;:-0.317868},{&quot;x&quot;:-0.667448,&quot;y&quot;:1.01115,&quot;z&quot;:-0.316751},{&quot;x&quot;:-0.666667,&quot;y&quot;:1,&quot;z&quot;:-0.333333}], &quot;faces&quot;:[[0,1,2],[0,3,1],[0,4,3],[0,5,4],[0,2,5],[2,1,6,7],[1,3,8,6],[3,4,9,8],[4,5,10,9],[5,2,7,10],[7,6,11],[6,8,11],[8,9,11],[9,10,11],[10,7,11]], &quot;color&quot;:&quot;#0000ff&quot;, &quot;opacity&quot;:1},{&quot;vertices&quot;:[{&quot;x&quot;:-0.361111,&quot;y&quot;:1.08333,&quot;z&quot;:-0.375},{&quot;x&quot;:-0.541583,&quot;y&quot;:1.03709,&quot;z&quot;:-0.410941},{&quot;x&quot;:-0.550502,&quot;y&quot;:1.09168,&quot;z&quot;:-0.367174},{&quot;x&quot;:-0.521196,&quot;y&quot;:0.981515,&quot;z&quot;:-0.372593},{&quot;x&quot;:-0.517516,&quot;y&quot;:1.00175,&quot;z&quot;:-0.305125},{&quot;x&quot;:-0.535628,&quot;y&quot;:1.06984,&quot;z&quot;:-0.301776},{&quot;x&quot;:-0.533285,&quot;y&quot;:1.03638,&quot;z&quot;:-0.351522}], &quot;faces&quot;:[[0,1,2],[0,3,1],[0,4,3],[0,5,4],[0,2,5],[2,1,6],[1,3,6],[3,4,6],[4,5,6],[5,2,6]], &quot;color&quot;:&quot;#0000ff&quot;, &quot;opacity&quot;:1},{&quot;vertices&quot;:[{&quot;x&quot;:-0.563939,&quot;y&quot;:1.06848,&quot;z&quot;:-0.0228283},{&quot;x&quot;:-0.563852,&quot;y&quot;:1.06204,&quot;z&quot;:-0.0417621},{&quot;x&quot;:-0.574848,&quot;y&quot;:1.08121,&quot;z&quot;:-0.0337374},{&quot;x&quot;:-0.552976,&quot;y&quot;:1.05178,&quot;z&quot;:-0.0236209},{&quot;x&quot;:-0.557251,&quot;y&quot;:1.0646,&quot;z&quot;:-0.00438434},{&quot;x&quot;:-0.570769,&quot;y&quot;:1.08279,&quot;z&quot;:-0.0106366},{&quot;x&quot;:-0.666579,&quot;y&quot;:0.993558,&quot;z&quot;:-0.0189338},{&quot;x&quot;:-0.677576,&quot;y&quot;:1.01273,&quot;z&quot;:-0.0109091},{&quot;x&quot;:-0.655704,&quot;y&quot;:0.983291,&quot;z&quot;:-0.000792664},{&quot;x&quot;:-0.659978,&quot;y&quot;:0.996116,&quot;z&quot;:0.0184439},{&quot;x&quot;:-0.673496,&quot;y&quot;:1.01431,&quot;z&quot;:0.0121916},{&quot;x&quot;:-0.666667,&quot;y&quot;:1,&quot;z&quot;:0}], &quot;faces&quot;:[[0,1,2],[0,3,1],[0,4,3],[0,5,4],[0,2,5],[2,1,6,7],[1,3,8,6],[3,4,9,8],[4,5,10,9],[5,2,7,10],[7,6,11],[6,8,11],[8,9,11],[9,10,11],[10,7,11]], &quot;color&quot;:&quot;#0000ff&quot;, &quot;opacity&quot;:1},{&quot;vertices&quot;:[{&quot;x&quot;:-0.416667,&quot;y&quot;:1.16667,&quot;z&quot;:-0.0555556},{&quot;x&quot;:-0.563678,&quot;y&quot;:1.04916,&quot;z&quot;:-0.0796298},{&quot;x&quot;:-0.596667,&quot;y&quot;:1.10667,&quot;z&quot;:-0.0555556},{&quot;x&quot;:-0.53105,&quot;y&quot;:1.01836,&quot;z&quot;:-0.0252063},{&quot;x&quot;:-0.543875,&quot;y&quot;:1.05683,&quot;z&quot;:0.0325035},{&quot;x&quot;:-0.584428,&quot;y&quot;:1.11141,&quot;z&quot;:0.0137467},{&quot;x&quot;:-0.563939,&quot;y&quot;:1.06848,&quot;z&quot;:-0.0228283}], &quot;faces&quot;:[[0,1,2],[0,3,1],[0,4,3],[0,5,4],[0,2,5],[2,1,6],[1,3,6],[3,4,6],[4,5,6],[5,2,6]], &quot;color&quot;:&quot;#0000ff&quot;, &quot;opacity&quot;:1},{&quot;vertices&quot;:[{&quot;x&quot;:-0.581787,&quot;y&quot;:1.10913,&quot;z&quot;:0.315145},{&quot;x&quot;:-0.574257,&quot;y&quot;:1.10054,&quot;z&quot;:0.29873},{&quot;x&quot;:-0.592744,&quot;y&quot;:1.11504,&quot;z&quot;:0.299493},{&quot;x&quot;:-0.566177,&quot;y&quot;:1.09791,&quot;z&quot;:0.320652},{&quot;x&quot;:-0.57967,&quot;y&quot;:1.11079,&quot;z&quot;:0.334963},{&quot;x&quot;:-0.59609,&quot;y&quot;:1.12138,&quot;z&quot;:0.321886},{&quot;x&quot;:-0.659136,&quot;y&quot;:0.991407,&quot;z&quot;:0.316918},{&quot;x&quot;:-0.677623,&quot;y&quot;:1.00591,&quot;z&quot;:0.317681},{&quot;x&quot;:-0.651056,&quot;y&quot;:0.988776,&quot;z&quot;:0.338841},{&quot;x&quot;:-0.664549,&quot;y&quot;:1.00166,&quot;z&quot;:0.353152},{&quot;x&quot;:-0.680969,&quot;y&quot;:1.01225,&quot;z&quot;:0.340075},{&quot;x&quot;:-0.666667,&quot;y&quot;:1,&quot;z&quot;:0.333333}], &quot;faces&quot;:[[0,1,2],[0,3,1],[0,4,3],[0,5,4],[0,2,5],[2,1,6,7],[1,3,8,6],[3,4,9,8],[4,5,10,9],[5,2,7,10],[7,6,11],[6,8,11],[8,9,11],[9,10,11],[10,7,11]], &quot;color&quot;:&quot;#0000ff&quot;, &quot;opacity&quot;:1},{&quot;vertices&quot;:[{&quot;x&quot;:-0.472222,&quot;y&quot;:1.25,&quot;z&quot;:0.291667},{&quot;x&quot;:-0.559195,&quot;y&quot;:1.08335,&quot;z&quot;:0.2659},{&quot;x&quot;:-0.614657,&quot;y&quot;:1.12687,&quot;z&quot;:0.268188},{&quot;x&quot;:-0.534955,&quot;y&quot;:1.07546,&quot;z&quot;:0.331667},{&quot;x&quot;:-0.575436,&quot;y&quot;:1.1141,&quot;z&quot;:0.3746},{&quot;x&quot;:-0.624694,&quot;y&quot;:1.14587,&quot;z&quot;:0.335369},{&quot;x&quot;:-0.581787,&quot;y&quot;:1.10913,&quot;z&quot;:0.315145}], &quot;faces&quot;:[[0,1,2],[0,3,1],[0,4,3],[0,5,4],[0,2,5],[2,1,6],[1,3,6],[3,4,6],[4,5,6],[5,2,6]], &quot;color&quot;:&quot;#0000ff&quot;, &quot;opacity&quot;:1},{&quot;vertices&quot;:[{&quot;x&quot;:-0.597009,&quot;y&quot;:1.16718,&quot;z&quot;:0.666667},{&quot;x&quot;:-0.582995,&quot;y&quot;:1.16134,&quot;z&quot;:0.653646},{&quot;x&quot;:-0.604109,&quot;y&quot;:1.17014,&quot;z&quot;:0.648205},{&quot;x&quot;:-0.581247,&quot;y&quot;:1.16061,&quot;z&quot;:0.677081},{&quot;x&quot;:-0.601281,&quot;y&quot;:1.16896,&quot;z&quot;:0.686124},{&quot;x&quot;:-0.61541,&quot;y&quot;:1.17485,&quot;z&quot;:0.668278},{&quot;x&quot;:-0.652654,&quot;y&quot;:0.994161,&quot;z&quot;:0.653646},{&quot;x&quot;:-0.673767,&quot;y&quot;:1.00296,&quot;z&quot;:0.648205},{&quot;x&quot;:-0.650905,&quot;y&quot;:0.993433,&quot;z&quot;:0.677081},{&quot;x&quot;:-0.670939,&quot;y&quot;:1.00178,&quot;z&quot;:0.686124},{&quot;x&quot;:-0.685068,&quot;y&quot;:1.00767,&quot;z&quot;:0.668278},{&quot;x&quot;:-0.666667,&quot;y&quot;:1,&quot;z&quot;:0.666667}], &quot;faces&quot;:[[0,1,2],[0,3,1],[0,4,3],[0,5,4],[0,2,5],[2,1,6,7],[1,3,8,6],[3,4,9,8],[4,5,10,9],[5,2,7,10],[7,6,11],[6,8,11],[8,9,11],[9,10,11],[10,7,11]], &quot;color&quot;:&quot;#0000ff&quot;, &quot;opacity&quot;:1},{&quot;vertices&quot;:[{&quot;x&quot;:-0.527778,&quot;y&quot;:1.33333,&quot;z&quot;:0.666667},{&quot;x&quot;:-0.554969,&quot;y&quot;:1.14966,&quot;z&quot;:0.627604},{&quot;x&quot;:-0.61831,&quot;y&quot;:1.17606,&quot;z&quot;:0.611282},{&quot;x&quot;:-0.549725,&quot;y&quot;:1.14748,&quot;z&quot;:0.697909},{&quot;x&quot;:-0.609825,&quot;y&quot;:1.17252,&quot;z&quot;:0.725038},{&quot;x&quot;:-0.652213,&quot;y&quot;:1.19018,&quot;z&quot;:0.671499},{&quot;x&quot;:-0.597009,&quot;y&quot;:1.16718,&quot;z&quot;:0.666667}], &quot;faces&quot;:[[0,1,2],[0,3,1],[0,4,3],[0,5,4],[0,2,5],[2,1,6],[1,3,6],[3,4,6],[4,5,6],[5,2,6]], &quot;color&quot;:&quot;#0000ff&quot;, &quot;opacity&quot;:1},{&quot;vertices&quot;:[{&quot;x&quot;:-0.618172,&quot;y&quot;:1.24247,&quot;z&quot;:1.04041},{&quot;x&quot;:-0.600761,&quot;y&quot;:1.2406,&quot;z&quot;:1.03075},{&quot;x&quot;:-0.621398,&quot;y&quot;:1.24634,&quot;z&quot;:1.02106},{&quot;x&quot;:-0.604186,&quot;y&quot;:1.23745,&quot;z&quot;:1.0538},{&quot;x&quot;:-0.626939,&quot;y&quot;:1.24124,&quot;z&quot;:1.05835},{&quot;x&quot;:-0.637576,&quot;y&quot;:1.24674,&quot;z&quot;:1.03811},{&quot;x&quot;:-0.649256,&quot;y&quot;:0.998128,&quot;z&quot;:0.990338},{&quot;x&quot;:-0.669892,&quot;y&quot;:1.00387,&quot;z&quot;:0.980645},{&quot;x&quot;:-0.65268,&quot;y&quot;:0.994972,&quot;z&quot;:1.01338},{&quot;x&quot;:-0.675433,&quot;y&quot;:0.998764,&quot;z&quot;:1.01793},{&quot;x&quot;:-0.686071,&quot;y&quot;:1.00426,&quot;z&quot;:0.997701},{&quot;x&quot;:-0.666667,&quot;y&quot;:1,&quot;z&quot;:1}], &quot;faces&quot;:[[0,1,2],[0,3,1],[0,4,3],[0,5,4],[0,2,5],[2,1,6,7],[1,3,8,6],[3,4,9,8],[4,5,10,9],[5,2,7,10],[7,6,11],[6,8,11],[8,9,11],[9,10,11],[10,7,11]], &quot;color&quot;:&quot;#0000ff&quot;, &quot;opacity&quot;:1},{&quot;vertices&quot;:[{&quot;x&quot;:-0.583333,&quot;y&quot;:1.41667,&quot;z&quot;:1.06944},{&quot;x&quot;:-0.56594,&quot;y&quot;:1.23686,&quot;z&quot;:1.01142},{&quot;x&quot;:-0.627849,&quot;y&quot;:1.25409,&quot;z&quot;:0.982348},{&quot;x&quot;:-0.576213,&quot;y&quot;:1.22739,&quot;z&quot;:1.08056},{&quot;x&quot;:-0.644472,&quot;y&quot;:1.23877,&quot;z&quot;:1.09421},{&quot;x&quot;:-0.676385,&quot;y&quot;:1.25527,&quot;z&quot;:1.03351},{&quot;x&quot;:-0.618172,&quot;y&quot;:1.24247,&quot;z&quot;:1.04041}], &quot;faces&quot;:[[0,1,2],[0,3,1],[0,4,3],[0,5,4],[0,2,5],[2,1,6],[1,3,6],[3,4,6],[4,5,6],[5,2,6]], &quot;color&quot;:&quot;#0000ff&quot;, &quot;opacity&quot;:1},{&quot;vertices&quot;:[{&quot;x&quot;:-0.422857,&quot;y&quot;:-0.820952,&quot;z&quot;:-0.940317},{&quot;x&quot;:-0.404788,&quot;y&quot;:-0.812869,&quot;z&quot;:-0.937463},{&quot;x&quot;:-0.417143,&quot;y&quot;:-0.812381,&quot;z&quot;:-0.95746},{&quot;x&quot;:-0.417404,&quot;y&quot;:-0.824528,&quot;z&quot;:-0.92141},{&quot;x&quot;:-0.437556,&quot;y&quot;:-0.831246,&quot;z&quot;:-0.931487},{&quot;x&quot;:-0.437395,&quot;y&quot;:-0.823738,&quot;z&quot;:-0.953767},{&quot;x&quot;:-0.315264,&quot;y&quot;:-0.991917,&quot;z&quot;:-0.997146},{&quot;x&quot;:-0.327619,&quot;y&quot;:-0.991429,&quot;z&quot;:-1.01714},{&quot;x&quot;:-0.32788,&quot;y&quot;:-1.00358,&quot;z&quot;:-0.981093},{&quot;x&quot;:-0.348033,&quot;y&quot;:-1.01029,&quot;z&quot;:-0.991169},{&quot;x&quot;:-0.347871,&quot;y&quot;:-1.00279,&quot;z&quot;:-1.01345},{&quot;x&quot;:-0.333333,&quot;y&quot;:-1,&quot;z&quot;:-1}], &quot;faces&quot;:[[0,1,2],[0,3,1],[0,4,3],[0,5,4],[0,2,5],[2,1,6,7],[1,3,8,6],[3,4,9,8],[4,5,10,9],[5,2,7,10],[7,6,11],[6,8,11],[8,9,11],[9,10,11],[10,7,11]], &quot;color&quot;:&quot;#0000ff&quot;, &quot;opacity&quot;:1},{&quot;vertices&quot;:[{&quot;x&quot;:-0.5,&quot;y&quot;:-0.666667,&quot;z&quot;:-0.888889},{&quot;x&quot;:-0.368648,&quot;y&quot;:-0.796702,&quot;z&quot;:-0.931754},{&quot;x&quot;:-0.405714,&quot;y&quot;:-0.795238,&quot;z&quot;:-0.991746},{&quot;x&quot;:-0.406497,&quot;y&quot;:-0.831679,&quot;z&quot;:-0.883596},{&quot;x&quot;:-0.466955,&quot;y&quot;:-0.851832,&quot;z&quot;:-0.913825},{&quot;x&quot;:-0.466471,&quot;y&quot;:-0.82931,&quot;z&quot;:-0.980666},{&quot;x&quot;:-0.422857,&quot;y&quot;:-0.820952,&quot;z&quot;:-0.940317}], &quot;faces&quot;:[[0,1,2],[0,3,1],[0,4,3],[0,5,4],[0,2,5],[2,1,6],[1,3,6],[3,4,6],[4,5,6],[5,2,6]], &quot;color&quot;:&quot;#0000ff&quot;, &quot;opacity&quot;:1},{&quot;vertices&quot;:[{&quot;x&quot;:-0.418213,&quot;y&quot;:-0.89087,&quot;z&quot;:-0.648478},{&quot;x&quot;:-0.402821,&quot;y&quot;:-0.880022,&quot;z&quot;:-0.641737},{&quot;x&quot;:-0.409784,&quot;y&quot;:-0.881706,&quot;z&quot;:-0.66413},{&quot;x&quot;:-0.417128,&quot;y&quot;:-0.893329,&quot;z&quot;:-0.62866},{&quot;x&quot;:-0.432934,&quot;y&quot;:-0.903237,&quot;z&quot;:-0.642971},{&quot;x&quot;:-0.428395,&quot;y&quot;:-0.896053,&quot;z&quot;:-0.664893},{&quot;x&quot;:-0.317942,&quot;y&quot;:-0.989153,&quot;z&quot;:-0.659925},{&quot;x&quot;:-0.324905,&quot;y&quot;:-0.990836,&quot;z&quot;:-0.682319},{&quot;x&quot;:-0.332249,&quot;y&quot;:-1.00246,&quot;z&quot;:-0.646848},{&quot;x&quot;:-0.348054,&quot;y&quot;:-1.01237,&quot;z&quot;:-0.661159},{&quot;x&quot;:-0.343516,&quot;y&quot;:-1.00518,&quot;z&quot;:-0.683082},{&quot;x&quot;:-0.333333,&quot;y&quot;:-1,&quot;z&quot;:-0.666667}], &quot;faces&quot;:[[0,1,2],[0,3,1],[0,4,3],[0,5,4],[0,2,5],[2,1,6,7],[1,3,8,6],[3,4,9,8],[4,5,10,9],[5,2,7,10],[7,6,11],[6,8,11],[8,9,11],[9,10,11],[10,7,11]], &quot;color&quot;:&quot;#0000ff&quot;, &quot;opacity&quot;:1},{&quot;vertices&quot;:[{&quot;x&quot;:-0.527778,&quot;y&quot;:-0.75,&quot;z&quot;:-0.625},{&quot;x&quot;:-0.372039,&quot;y&quot;:-0.858327,&quot;z&quot;:-0.628254},{&quot;x&quot;:-0.392928,&quot;y&quot;:-0.863378,&quot;z&quot;:-0.695435},{&quot;x&quot;:-0.41496,&quot;y&quot;:-0.898249,&quot;z&quot;:-0.589023},{&quot;x&quot;:-0.462376,&quot;y&quot;:-0.927972,&quot;z&quot;:-0.631957},{&quot;x&quot;:-0.44876,&quot;y&quot;:-0.906421,&quot;z&quot;:-0.697723},{&quot;x&quot;:-0.418213,&quot;y&quot;:-0.89087,&quot;z&quot;:-0.648478}], &quot;faces&quot;:[[0,1,2],[0,3,1],[0,4,3],[0,5,4],[0,2,5],[2,1,6],[1,3,6],[3,4,6],[4,5,6],[5,2,6]], &quot;color&quot;:&quot;#0000ff&quot;, &quot;opacity&quot;:1},{&quot;vertices&quot;:[{&quot;x&quot;:-0.411556,&quot;y&quot;:-0.941333,&quot;z&quot;:-0.333333},{&quot;x&quot;:-0.401741,&quot;y&quot;:-0.928248,&quot;z&quot;:-0.321825},{&quot;x&quot;:-0.401956,&quot;y&quot;:-0.928533,&quot;z&quot;:-0.345333},{&quot;x&quot;:-0.41509,&quot;y&quot;:-0.946046,&quot;z&quot;:-0.314221},{&quot;x&quot;:-0.423554,&quot;y&quot;:-0.957331,&quot;z&quot;:-0.33303},{&quot;x&quot;:-0.415437,&quot;y&quot;:-0.946508,&quot;z&quot;:-0.352258},{&quot;x&quot;:-0.323519,&quot;y&quot;:-0.986914,&quot;z&quot;:-0.321825},{&quot;x&quot;:-0.323733,&quot;y&quot;:-0.9872,&quot;z&quot;:-0.345333},{&quot;x&quot;:-0.336868,&quot;y&quot;:-1.00471,&quot;z&quot;:-0.314221},{&quot;x&quot;:-0.345332,&quot;y&quot;:-1.016,&quot;z&quot;:-0.33303},{&quot;x&quot;:-0.337214,&quot;y&quot;:-1.00517,&quot;z&quot;:-0.352258},{&quot;x&quot;:-0.333333,&quot;y&quot;:-1,&quot;z&quot;:-0.333333}], &quot;faces&quot;:[[0,1,2],[0,3,1],[0,4,3],[0,5,4],[0,2,5],[2,1,6,7],[1,3,8,6],[3,4,9,8],[4,5,10,9],[5,2,7,10],[7,6,11],[6,8,11],[8,9,11],[9,10,11],[10,7,11]], &quot;color&quot;:&quot;#0000ff&quot;, &quot;opacity&quot;:1},{&quot;vertices&quot;:[{&quot;x&quot;:-0.555556,&quot;y&quot;:-0.833333,&quot;z&quot;:-0.333333},{&quot;x&quot;:-0.382113,&quot;y&quot;:-0.902077,&quot;z&quot;:-0.298807},{&quot;x&quot;:-0.382756,&quot;y&quot;:-0.902933,&quot;z&quot;:-0.369333},{&quot;x&quot;:-0.422159,&quot;y&quot;:-0.955471,&quot;z&quot;:-0.275995},{&quot;x&quot;:-0.447551,&quot;y&quot;:-0.989328,&quot;z&quot;:-0.332422},{&quot;x&quot;:-0.423199,&quot;y&quot;:-0.956858,&quot;z&quot;:-0.390109},{&quot;x&quot;:-0.411556,&quot;y&quot;:-0.941333,&quot;z&quot;:-0.333333}], &quot;faces&quot;:[[0,1,2],[0,3,1],[0,4,3],[0,5,4],[0,2,5],[2,1,6],[1,3,6],[3,4,6],[4,5,6],[5,2,6]], &quot;color&quot;:&quot;#0000ff&quot;, &quot;opacity&quot;:1},{&quot;vertices&quot;:[{&quot;x&quot;:-0.412807,&quot;y&quot;:-0.973509,&quot;z&quot;:-0.0044152},{&quot;x&quot;:-0.409854,&quot;y&quot;:-0.961972,&quot;z&quot;:0.0116531},{&quot;x&quot;:-0.406491,&quot;y&quot;:-0.955614,&quot;z&quot;:-0.010731},{&quot;x&quot;:-0.417298,&quot;y&quot;:-0.984274,&quot;z&quot;:0.0118314},{&quot;x&quot;:-0.418535,&quot;y&quot;:-0.991698,&quot;z&quot;:-0.0104426},{&quot;x&quot;:-0.411856,&quot;y&quot;:-0.973986,&quot;z&quot;:-0.0243869},{&quot;x&quot;:-0.330381,&quot;y&quot;:-0.988464,&quot;z&quot;:0.0160683},{&quot;x&quot;:-0.327018,&quot;y&quot;:-0.982105,&quot;z&quot;:-0.00631579},{&quot;x&quot;:-0.337824,&quot;y&quot;:-1.01076,&quot;z&quot;:0.0162466},{&quot;x&quot;:-0.339062,&quot;y&quot;:-1.01819,&quot;z&quot;:-0.0060274},{&quot;x&quot;:-0.332383,&quot;y&quot;:-1.00048,&quot;z&quot;:-0.0199717},{&quot;x&quot;:-0.333333,&quot;y&quot;:-1,&quot;z&quot;:0}], &quot;faces&quot;:[[0,1,2],[0,3,1],[0,4,3],[0,5,4],[0,2,5],[2,1,6,7],[1,3,8,6],[3,4,9,8],[4,5,10,9],[5,2,7,10],[7,6,11],[6,8,11],[8,9,11],[9,10,11],[10,7,11]], &quot;color&quot;:&quot;#0000ff&quot;, &quot;opacity&quot;:1},{&quot;vertices&quot;:[{&quot;x&quot;:-0.583333,&quot;y&quot;:-0.916667,&quot;z&quot;:-0.0138889},{&quot;x&quot;:-0.403949,&quot;y&quot;:-0.938899,&quot;z&quot;:0.0437898},{&quot;x&quot;:-0.39386,&quot;y&quot;:-0.919825,&quot;z&quot;:-0.0233626},{&quot;x&quot;:-0.42628,&quot;y&quot;:-1.0058,&quot;z&quot;:0.0443245},{&quot;x&quot;:-0.429992,&quot;y&quot;:-1.02808,&quot;z&quot;:-0.0224974},{&quot;x&quot;:-0.409955,&quot;y&quot;:-0.974939,&quot;z&quot;:-0.0643303},{&quot;x&quot;:-0.412807,&quot;y&quot;:-0.973509,&quot;z&quot;:-0.0044152}], &quot;faces&quot;:[[0,1,2],[0,3,1],[0,4,3],[0,5,4],[0,2,5],[2,1,6],[1,3,6],[3,4,6],[4,5,6],[5,2,6]], &quot;color&quot;:&quot;#0000ff&quot;, &quot;opacity&quot;:1},{&quot;vertices&quot;:[{&quot;x&quot;:-0.431111,&quot;y&quot;:-1,&quot;z&quot;:0.333333},{&quot;x&quot;:-0.431111,&quot;y&quot;:-0.99382,&quot;z&quot;:0.352354},{&quot;x&quot;:-0.431111,&quot;y&quot;:-0.98,&quot;z&quot;:0.333333},{&quot;x&quot;:-0.431111,&quot;y&quot;:-1.01618,&quot;z&quot;:0.345089},{&quot;x&quot;:-0.431111,&quot;y&quot;:-1.01618,&quot;z&quot;:0.321578},{&quot;x&quot;:-0.431111,&quot;y&quot;:-0.99382,&quot;z&quot;:0.314312},{&quot;x&quot;:-0.333333,&quot;y&quot;:-0.99382,&quot;z&quot;:0.352354},{&quot;x&quot;:-0.333333,&quot;y&quot;:-0.98,&quot;z&quot;:0.333333},{&quot;x&quot;:-0.333333,&quot;y&quot;:-1.01618,&quot;z&quot;:0.345089},{&quot;x&quot;:-0.333333,&quot;y&quot;:-1.01618,&quot;z&quot;:0.321578},{&quot;x&quot;:-0.333333,&quot;y&quot;:-0.99382,&quot;z&quot;:0.314312},{&quot;x&quot;:-0.333333,&quot;y&quot;:-1,&quot;z&quot;:0.333333}], &quot;faces&quot;:[[0,1,2],[0,3,1],[0,4,3],[0,5,4],[0,2,5],[2,1,6,7],[1,3,8,6],[3,4,9,8],[4,5,10,9],[5,2,7,10],[7,6,11],[6,8,11],[8,9,11],[9,10,11],[10,7,11]], &quot;color&quot;:&quot;#0000ff&quot;, &quot;opacity&quot;:1},{&quot;vertices&quot;:[{&quot;x&quot;:-0.611111,&quot;y&quot;:-1,&quot;z&quot;:0.333333},{&quot;x&quot;:-0.431111,&quot;y&quot;:-0.981459,&quot;z&quot;:0.390397},{&quot;x&quot;:-0.431111,&quot;y&quot;:-0.94,&quot;z&quot;:0.333333},{&quot;x&quot;:-0.431111,&quot;y&quot;:-1.04854,&quot;z&quot;:0.3686},{&quot;x&quot;:-0.431111,&quot;y&quot;:-1.04854,&quot;z&quot;:0.298066},{&quot;x&quot;:-0.431111,&quot;y&quot;:-0.981459,&quot;z&quot;:0.27627},{&quot;x&quot;:-0.431111,&quot;y&quot;:-1,&quot;z&quot;:0.333333}], &quot;faces&quot;:[[0,1,2],[0,3,1],[0,4,3],[0,5,4],[0,2,5],[2,1,6],[1,3,6],[3,4,6],[4,5,6],[5,2,6]], &quot;color&quot;:&quot;#0000ff&quot;, &quot;opacity&quot;:1},{&quot;vertices&quot;:[{&quot;x&quot;:-0.466715,&quot;y&quot;:-1.03638,&quot;z&quot;:0.684855},{&quot;x&quot;:-0.464453,&quot;y&quot;:-1.03477,&quot;z&quot;:0.704661},{&quot;x&quot;:-0.47113,&quot;y&quot;:-1.01758,&quot;z&quot;:0.690072},{&quot;x&quot;:-0.460902,&quot;y&quot;:-1.05418,&quot;z&quot;:0.691879},{&quot;x&quot;:-0.465384,&quot;y&quot;:-1.04899,&quot;z&quot;:0.66939},{&quot;x&quot;:-0.471705,&quot;y&quot;:-1.02637,&quot;z&quot;:0.668273},{&quot;x&quot;:-0.331071,&quot;y&quot;:-0.99839,&quot;z&quot;:0.686473},{&quot;x&quot;:-0.337748,&quot;y&quot;:-0.981204,&quot;z&quot;:0.671884},{&quot;x&quot;:-0.327521,&quot;y&quot;:-1.0178,&quot;z&quot;:0.67369},{&quot;x&quot;:-0.332003,&quot;y&quot;:-1.01261,&quot;z&quot;:0.651201},{&quot;x&quot;:-0.338324,&quot;y&quot;:-0.989993,&quot;z&quot;:0.650085},{&quot;x&quot;:-0.333333,&quot;y&quot;:-1,&quot;z&quot;:0.666667}], &quot;faces&quot;:[[0,1,2],[0,3,1],[0,4,3],[0,5,4],[0,2,5],[2,1,6,7],[1,3,8,6],[3,4,9,8],[4,5,10,9],[5,2,7,10],[7,6,11],[6,8,11],[8,9,11],[9,10,11],[10,7,11]], &quot;color&quot;:&quot;#0000ff&quot;, &quot;opacity&quot;:1},{&quot;vertices&quot;:[{&quot;x&quot;:-0.638889,&quot;y&quot;:-1.08333,&quot;z&quot;:0.708333},{&quot;x&quot;:-0.459929,&quot;y&quot;:-1.03155,&quot;z&quot;:0.744274},{&quot;x&quot;:-0.479959,&quot;y&quot;:-0.979989,&quot;z&quot;:0.700507},{&quot;x&quot;:-0.449277,&quot;y&quot;:-1.08978,&quot;z&quot;:0.705926},{&quot;x&quot;:-0.462723,&quot;y&quot;:-1.07421,&quot;z&quot;:0.638458},{&quot;x&quot;:-0.481686,&quot;y&quot;:-1.00636,&quot;z&quot;:0.635109},{&quot;x&quot;:-0.466715,&quot;y&quot;:-1.03638,&quot;z&quot;:0.684855}], &quot;faces&quot;:[[0,1,2],[0,3,1],[0,4,3],[0,5,4],[0,2,5],[2,1,6],[1,3,6],[3,4,6],[4,5,6],[5,2,6]], &quot;color&quot;:&quot;#0000ff&quot;, &quot;opacity&quot;:1},{&quot;vertices&quot;:[{&quot;x&quot;:-0.512381,&quot;y&quot;:-1.08952,&quot;z&quot;:1.05968},{&quot;x&quot;:-0.505995,&quot;y&quot;:-1.08966,&quot;z&quot;:1.07864},{&quot;x&quot;:-0.518095,&quot;y&quot;:-1.07238,&quot;z&quot;:1.06825},{&quot;x&quot;:-0.50272,&quot;y&quot;:-1.10675,&quot;z&quot;:1.06282},{&quot;x&quot;:-0.512796,&quot;y&quot;:-1.10003,&quot;z&quot;:1.04267},{&quot;x&quot;:-0.522299,&quot;y&quot;:-1.07879,&quot;z&quot;:1.04603},{&quot;x&quot;:-0.326947,&quot;y&quot;:-1.00014,&quot;z&quot;:1.01895},{&quot;x&quot;:-0.339048,&quot;y&quot;:-0.982857,&quot;z&quot;:1.00857},{&quot;x&quot;:-0.323672,&quot;y&quot;:-1.01723,&quot;z&quot;:1.00314},{&quot;x&quot;:-0.333749,&quot;y&quot;:-1.01051,&quot;z&quot;:0.982989},{&quot;x&quot;:-0.343251,&quot;y&quot;:-0.989268,&quot;z&quot;:0.986345},{&quot;x&quot;:-0.333333,&quot;y&quot;:-1,&quot;z&quot;:1}], &quot;faces&quot;:[[0,1,2],[0,3,1],[0,4,3],[0,5,4],[0,2,5],[2,1,6,7],[1,3,8,6],[3,4,9,8],[4,5,10,9],[5,2,7,10],[7,6,11],[6,8,11],[8,9,11],[9,10,11],[10,7,11]], &quot;color&quot;:&quot;#0000ff&quot;, &quot;opacity&quot;:1},{&quot;vertices&quot;:[{&quot;x&quot;:-0.666667,&quot;y&quot;:-1.16667,&quot;z&quot;:1.11111},{&quot;x&quot;:-0.493223,&quot;y&quot;:-1.08994,&quot;z&quot;:1.11654},{&quot;x&quot;:-0.529524,&quot;y&quot;:-1.0381,&quot;z&quot;:1.0854},{&quot;x&quot;:-0.483398,&quot;y&quot;:-1.14121,&quot;z&quot;:1.06911},{&quot;x&quot;:-0.513627,&quot;y&quot;:-1.12105,&quot;z&quot;:1.00865},{&quot;x&quot;:-0.542134,&quot;y&quot;:-1.05733,&quot;z&quot;:1.01872},{&quot;x&quot;:-0.512381,&quot;y&quot;:-1.08952,&quot;z&quot;:1.05968}], &quot;faces&quot;:[[0,1,2],[0,3,1],[0,4,3],[0,5,4],[0,2,5],[2,1,6],[1,3,6],[3,4,6],[4,5,6],[5,2,6]], &quot;color&quot;:&quot;#0000ff&quot;, &quot;opacity&quot;:1},{&quot;vertices&quot;:[{&quot;x&quot;:-0.36971,&quot;y&quot;:-0.557536,&quot;z&quot;:-0.921184},{&quot;x&quot;:-0.35071,&quot;y&quot;:-0.551293,&quot;z&quot;:-0.921058},{&quot;x&quot;:-0.367101,&quot;y&quot;:-0.545362,&quot;z&quot;:-0.936836},{&quot;x&quot;:-0.360576,&quot;y&quot;:-0.565852,&quot;z&quot;:-0.905454},{&quot;x&quot;:-0.383065,&quot;y&quot;:-0.568918,&quot;z&quot;:-0.911587},{&quot;x&quot;:-0.387098,&quot;y&quot;:-0.556255,&quot;z&quot;:-0.930982},{&quot;x&quot;:-0.314333,&quot;y&quot;:-0.660424,&quot;z&quot;:-0.999875},{&quot;x&quot;:-0.330725,&quot;y&quot;:-0.654493,&quot;z&quot;:-1.01565},{&quot;x&quot;:-0.324199,&quot;y&quot;:-0.674982,&quot;z&quot;:-0.98427},{&quot;x&quot;:-0.346688,&quot;y&quot;:-0.678049,&quot;z&quot;:-0.990404},{&quot;x&quot;:-0.350721,&quot;y&quot;:-0.665386,&quot;z&quot;:-1.0098},{&quot;x&quot;:-0.333333,&quot;y&quot;:-0.666667,&quot;z&quot;:-1}], &quot;faces&quot;:[[0,1,2],[0,3,1],[0,4,3],[0,5,4],[0,2,5],[2,1,6,7],[1,3,8,6],[3,4,9,8],[4,5,10,9],[5,2,7,10],[7,6,11],[6,8,11],[8,9,11],[9,10,11],[10,7,11]], &quot;color&quot;:&quot;#0000ff&quot;, &quot;opacity&quot;:1},{&quot;vertices&quot;:[{&quot;x&quot;:-0.416667,&quot;y&quot;:-0.416667,&quot;z&quot;:-0.819444},{&quot;x&quot;:-0.312709,&quot;y&quot;:-0.538807,&quot;z&quot;:-0.920808},{&quot;x&quot;:-0.361884,&quot;y&quot;:-0.521014,&quot;z&quot;:-0.96814},{&quot;x&quot;:-0.342308,&quot;y&quot;:-0.582483,&quot;z&quot;:-0.873995},{&quot;x&quot;:-0.409775,&quot;y&quot;:-0.591683,&quot;z&quot;:-0.892395},{&quot;x&quot;:-0.421874,&quot;y&quot;:-0.553693,&quot;z&quot;:-0.95058},{&quot;x&quot;:-0.36971,&quot;y&quot;:-0.557536,&quot;z&quot;:-0.921184}], &quot;faces&quot;:[[0,1,2],[0,3,1],[0,4,3],[0,5,4],[0,2,5],[2,1,6],[1,3,6],[3,4,6],[4,5,6],[5,2,6]], &quot;color&quot;:&quot;#0000ff&quot;, &quot;opacity&quot;:1},{&quot;vertices&quot;:[{&quot;x&quot;:-0.364444,&quot;y&quot;:-0.612222,&quot;z&quot;:-0.635556},{&quot;x&quot;:-0.346545,&quot;y&quot;:-0.604078,&quot;z&quot;:-0.631909},{&quot;x&quot;:-0.359658,&quot;y&quot;:-0.600598,&quot;z&quot;:-0.651111},{&quot;x&quot;:-0.358169,&quot;y&quot;:-0.618813,&quot;z&quot;:-0.617746},{&quot;x&quot;:-0.378465,&quot;y&quot;:-0.62444,&quot;z&quot;:-0.628196},{&quot;x&quot;:-0.379385,&quot;y&quot;:-0.613182,&quot;z&quot;:-0.648816},{&quot;x&quot;:-0.315434,&quot;y&quot;:-0.658523,&quot;z&quot;:-0.66302},{&quot;x&quot;:-0.328547,&quot;y&quot;:-0.655043,&quot;z&quot;:-0.682222},{&quot;x&quot;:-0.327057,&quot;y&quot;:-0.673257,&quot;z&quot;:-0.648857},{&quot;x&quot;:-0.347354,&quot;y&quot;:-0.678884,&quot;z&quot;:-0.659307},{&quot;x&quot;:-0.348274,&quot;y&quot;:-0.667627,&quot;z&quot;:-0.679927},{&quot;x&quot;:-0.333333,&quot;y&quot;:-0.666667,&quot;z&quot;:-0.666667}], &quot;faces&quot;:[[0,1,2],[0,3,1],[0,4,3],[0,5,4],[0,2,5],[2,1,6,7],[1,3,8,6],[3,4,9,8],[4,5,10,9],[5,2,7,10],[7,6,11],[6,8,11],[8,9,11],[9,10,11],[10,7,11]], &quot;color&quot;:&quot;#0000ff&quot;, &quot;opacity&quot;:1},{&quot;vertices&quot;:[{&quot;x&quot;:-0.444444,&quot;y&quot;:-0.472222,&quot;z&quot;:-0.555556},{&quot;x&quot;:-0.310747,&quot;y&quot;:-0.58779,&quot;z&quot;:-0.624615},{&quot;x&quot;:-0.350085,&quot;y&quot;:-0.57735,&quot;z&quot;:-0.682222},{&quot;x&quot;:-0.345617,&quot;y&quot;:-0.631994,&quot;z&quot;:-0.582127},{&quot;x&quot;:-0.406505,&quot;y&quot;:-0.648874,&quot;z&quot;:-0.613476},{&quot;x&quot;:-0.409267,&quot;y&quot;:-0.615102,&quot;z&quot;:-0.675338},{&quot;x&quot;:-0.364444,&quot;y&quot;:-0.612222,&quot;z&quot;:-0.635556}], &quot;faces&quot;:[[0,1,2],[0,3,1],[0,4,3],[0,5,4],[0,2,5],[2,1,6],[1,3,6],[3,4,6],[4,5,6],[5,2,6]], &quot;color&quot;:&quot;#0000ff&quot;, &quot;opacity&quot;:1},{&quot;vertices&quot;:[{&quot;x&quot;:-0.352222,&quot;y&quot;:-0.647778,&quot;z&quot;:-0.323889},{&quot;x&quot;:-0.337481,&quot;y&quot;:-0.637317,&quot;z&quot;:-0.315328},{&quot;x&quot;:-0.345556,&quot;y&quot;:-0.634444,&quot;z&quot;:-0.337222},{&quot;x&quot;:-0.349779,&quot;y&quot;:-0.654646,&quot;z&quot;:-0.305265},{&quot;x&quot;:-0.365453,&quot;y&quot;:-0.662483,&quot;z&quot;:-0.320939},{&quot;x&quot;:-0.362843,&quot;y&quot;:-0.649998,&quot;z&quot;:-0.34069},{&quot;x&quot;:-0.318592,&quot;y&quot;:-0.656206,&quot;z&quot;:-0.324773},{&quot;x&quot;:-0.326667,&quot;y&quot;:-0.653333,&quot;z&quot;:-0.346667},{&quot;x&quot;:-0.33089,&quot;y&quot;:-0.673535,&quot;z&quot;:-0.314709},{&quot;x&quot;:-0.346564,&quot;y&quot;:-0.681372,&quot;z&quot;:-0.330384},{&quot;x&quot;:-0.343954,&quot;y&quot;:-0.668887,&quot;z&quot;:-0.350134},{&quot;x&quot;:-0.333333,&quot;y&quot;:-0.666667,&quot;z&quot;:-0.333333}], &quot;faces&quot;:[[0,1,2],[0,3,1],[0,4,3],[0,5,4],[0,2,5],[2,1,6,7],[1,3,8,6],[3,4,9,8],[4,5,10,9],[5,2,7,10],[7,6,11],[6,8,11],[8,9,11],[9,10,11],[10,7,11]], &quot;color&quot;:&quot;#0000ff&quot;, &quot;opacity&quot;:1},{&quot;vertices&quot;:[{&quot;x&quot;:-0.472222,&quot;y&quot;:-0.527778,&quot;z&quot;:-0.263889},{&quot;x&quot;:-0.308,&quot;y&quot;:-0.616396,&quot;z&quot;:-0.298207},{&quot;x&quot;:-0.332222,&quot;y&quot;:-0.607778,&quot;z&quot;:-0.363889},{&quot;x&quot;:-0.344891,&quot;y&quot;:-0.668383,&quot;z&quot;:-0.268017},{&quot;x&quot;:-0.391914,&quot;y&quot;:-0.691894,&quot;z&quot;:-0.31504},{&quot;x&quot;:-0.384084,&quot;y&quot;:-0.654438,&quot;z&quot;:-0.374292},{&quot;x&quot;:-0.352222,&quot;y&quot;:-0.647778,&quot;z&quot;:-0.323889}], &quot;faces&quot;:[[0,1,2],[0,3,1],[0,4,3],[0,5,4],[0,2,5],[2,1,6],[1,3,6],[3,4,6],[4,5,6],[5,2,6]], &quot;color&quot;:&quot;#0000ff&quot;, &quot;opacity&quot;:1},{&quot;vertices&quot;:[{&quot;x&quot;:-0.345714,&quot;y&quot;:-0.660476,&quot;z&quot;:0.00412698},{&quot;x&quot;:-0.335797,&quot;y&quot;:-0.649744,&quot;z&quot;:0.0177821},{&quot;x&quot;:-0.34,&quot;y&quot;:-0.643333,&quot;z&quot;:-0.00444444},{&quot;x&quot;:-0.345299,&quot;y&quot;:-0.670986,&quot;z&quot;:0.0211377},{&quot;x&quot;:-0.355375,&quot;y&quot;:-0.677704,&quot;z&quot;:0.000985097},{&quot;x&quot;:-0.3521,&quot;y&quot;:-0.660613,&quot;z&quot;:-0.0148256},{&quot;x&quot;:-0.323416,&quot;y&quot;:-0.655935,&quot;z&quot;:0.0136551},{&quot;x&quot;:-0.327619,&quot;y&quot;:-0.649524,&quot;z&quot;:-0.00857143},{&quot;x&quot;:-0.332918,&quot;y&quot;:-0.677177,&quot;z&quot;:0.0170107},{&quot;x&quot;:-0.342994,&quot;y&quot;:-0.683894,&quot;z&quot;:-0.00314189},{&quot;x&quot;:-0.339719,&quot;y&quot;:-0.666804,&quot;z&quot;:-0.0189525},{&quot;x&quot;:-0.333333,&quot;y&quot;:-0.666667,&quot;z&quot;:0}], &quot;faces&quot;:[[0,1,2],[0,3,1],[0,4,3],[0,5,4],[0,2,5],[2,1,6,7],[1,3,8,6],[3,4,9,8],[4,5,10,9],[5,2,7,10],[7,6,11],[6,8,11],[8,9,11],[9,10,11],[10,7,11]], &quot;color&quot;:&quot;#0000ff&quot;, &quot;opacity&quot;:1},{&quot;vertices&quot;:[{&quot;x&quot;:-0.5,&quot;y&quot;:-0.583333,&quot;z&quot;:0.0555556},{&quot;x&quot;:-0.315961,&quot;y&quot;:-0.62828,&quot;z&quot;:0.0450923},{&quot;x&quot;:-0.328571,&quot;y&quot;:-0.609048,&quot;z&quot;:-0.0215873},{&quot;x&quot;:-0.344469,&quot;y&quot;:-0.692006,&quot;z&quot;:0.0551592},{&quot;x&quot;:-0.374698,&quot;y&quot;:-0.712159,&quot;z&quot;:-0.00529868},{&quot;x&quot;:-0.364873,&quot;y&quot;:-0.660888,&quot;z&quot;:-0.0527306},{&quot;x&quot;:-0.345714,&quot;y&quot;:-0.660476,&quot;z&quot;:0.00412698}], &quot;faces&quot;:[[0,1,2],[0,3,1],[0,4,3],[0,5,4],[0,2,5],[2,1,6],[1,3,6],[3,4,6],[4,5,6],[5,2,6]], &quot;color&quot;:&quot;#0000ff&quot;, &quot;opacity&quot;:1},{&quot;vertices&quot;:[{&quot;x&quot;:-0.359778,&quot;y&quot;:-0.662889,&quot;z&quot;:0.342778},{&quot;x&quot;:-0.352607,&quot;y&quot;:-0.655016,&quot;z&quot;:0.359707},{&quot;x&quot;:-0.357911,&quot;y&quot;:-0.643156,&quot;z&quot;:0.340111},{&quot;x&quot;:-0.357213,&quot;y&quot;:-0.677756,&quot;z&quot;:0.355907},{&quot;x&quot;:-0.365363,&quot;y&quot;:-0.679951,&quot;z&quot;:0.333963},{&quot;x&quot;:-0.365795,&quot;y&quot;:-0.658566,&quot;z&quot;:0.324201},{&quot;x&quot;:-0.326163,&quot;y&quot;:-0.658793,&quot;z&quot;:0.350262},{&quot;x&quot;:-0.331467,&quot;y&quot;:-0.646933,&quot;z&quot;:0.330667},{&quot;x&quot;:-0.330768,&quot;y&quot;:-0.681534,&quot;z&quot;:0.346463},{&quot;x&quot;:-0.338919,&quot;y&quot;:-0.683728,&quot;z&quot;:0.324519},{&quot;x&quot;:-0.33935,&quot;y&quot;:-0.662344,&quot;z&quot;:0.314756},{&quot;x&quot;:-0.333333,&quot;y&quot;:-0.666667,&quot;z&quot;:0.333333}], &quot;faces&quot;:[[0,1,2],[0,3,1],[0,4,3],[0,5,4],[0,2,5],[2,1,6,7],[1,3,8,6],[3,4,9,8],[4,5,10,9],[5,2,7,10],[7,6,11],[6,8,11],[8,9,11],[9,10,11],[10,7,11]], &quot;color&quot;:&quot;#0000ff&quot;, &quot;opacity&quot;:1},{&quot;vertices&quot;:[{&quot;x&quot;:-0.527778,&quot;y&quot;:-0.638889,&quot;z&quot;:0.402778},{&quot;x&quot;:-0.338265,&quot;y&quot;:-0.639269,&quot;z&quot;:0.393565},{&quot;x&quot;:-0.354178,&quot;y&quot;:-0.603689,&quot;z&quot;:0.334778},{&quot;x&quot;:-0.352082,&quot;y&quot;:-0.707491,&quot;z&quot;:0.382166},{&quot;x&quot;:-0.376534,&quot;y&quot;:-0.714074,&quot;z&quot;:0.316334},{&quot;x&quot;:-0.377829,&quot;y&quot;:-0.649921,&quot;z&quot;:0.287046},{&quot;x&quot;:-0.359778,&quot;y&quot;:-0.662889,&quot;z&quot;:0.342778}], &quot;faces&quot;:[[0,1,2],[0,3,1],[0,4,3],[0,5,4],[0,2,5],[2,1,6],[1,3,6],[3,4,6],[4,5,6],[5,2,6]], &quot;color&quot;:&quot;#0000ff&quot;, &quot;opacity&quot;:1},{&quot;vertices&quot;:[{&quot;x&quot;:-0.395556,&quot;y&quot;:-0.674444,&quot;z&quot;:0.697778},{&quot;x&quot;:-0.387362,&quot;y&quot;:-0.669618,&quot;z&quot;:0.715372},{&quot;x&quot;:-0.396923,&quot;y&quot;:-0.654615,&quot;z&quot;:0.7},{&quot;x&quot;:-0.389124,&quot;y&quot;:-0.69129,&quot;z&quot;:0.706429},{&quot;x&quot;:-0.399774,&quot;y&quot;:-0.689683,&quot;z&quot;:0.68553},{&quot;x&quot;:-0.404595,&quot;y&quot;:-0.667016,&quot;z&quot;:0.681557},{&quot;x&quot;:-0.32514,&quot;y&quot;:-0.66184,&quot;z&quot;:0.684261},{&quot;x&quot;:-0.334701,&quot;y&quot;:-0.646838,&quot;z&quot;:0.668889},{&quot;x&quot;:-0.326902,&quot;y&quot;:-0.683513,&quot;z&quot;:0.675318},{&quot;x&quot;:-0.337552,&quot;y&quot;:-0.681905,&quot;z&quot;:0.654419},{&quot;x&quot;:-0.342372,&quot;y&quot;:-0.659239,&quot;z&quot;:0.650446},{&quot;x&quot;:-0.333333,&quot;y&quot;:-0.666667,&quot;z&quot;:0.666667}], &quot;faces&quot;:[[0,1,2],[0,3,1],[0,4,3],[0,5,4],[0,2,5],[2,1,6,7],[1,3,8,6],[3,4,9,8],[4,5,10,9],[5,2,7,10],[7,6,11],[6,8,11],[8,9,11],[9,10,11],[10,7,11]], &quot;color&quot;:&quot;#0000ff&quot;, &quot;opacity&quot;:1},{&quot;vertices&quot;:[{&quot;x&quot;:-0.555556,&quot;y&quot;:-0.694444,&quot;z&quot;:0.777778},{&quot;x&quot;:-0.370974,&quot;y&quot;:-0.659964,&quot;z&quot;:0.750561},{&quot;x&quot;:-0.399658,&quot;y&quot;:-0.614957,&quot;z&quot;:0.704444},{&quot;x&quot;:-0.376261,&quot;y&quot;:-0.724982,&quot;z&quot;:0.723733},{&quot;x&quot;:-0.408212,&quot;y&quot;:-0.720159,&quot;z&quot;:0.661036},{&quot;x&quot;:-0.422673,&quot;y&quot;:-0.65216,&quot;z&quot;:0.649115},{&quot;x&quot;:-0.395556,&quot;y&quot;:-0.674444,&quot;z&quot;:0.697778}], &quot;faces&quot;:[[0,1,2],[0,3,1],[0,4,3],[0,5,4],[0,2,5],[2,1,6],[1,3,6],[3,4,6],[4,5,6],[5,2,6]], &quot;color&quot;:&quot;#0000ff&quot;, &quot;opacity&quot;:1},{&quot;vertices&quot;:[{&quot;x&quot;:-0.442464,&quot;y&quot;:-0.703043,&quot;z&quot;:1.07882},{&quot;x&quot;:-0.431692,&quot;y&quot;:-0.699613,&quot;z&quot;:1.09531},{&quot;x&quot;:-0.445072,&quot;y&quot;:-0.683913,&quot;z&quot;:1.08403},{&quot;x&quot;:-0.433198,&quot;y&quot;:-0.720054,&quot;z&quot;:1.0838},{&quot;x&quot;:-0.447509,&quot;y&quot;:-0.716987,&quot;z&quot;:1.0654},{&quot;x&quot;:-0.454848,&quot;y&quot;:-0.694651,&quot;z&quot;:1.06554},{&quot;x&quot;:-0.322561,&quot;y&quot;:-0.663236,&quot;z&quot;:1.0165},{&quot;x&quot;:-0.335942,&quot;y&quot;:-0.647536,&quot;z&quot;:1.00522},{&quot;x&quot;:-0.324067,&quot;y&quot;:-0.683677,&quot;z&quot;:1.00498},{&quot;x&quot;:-0.338379,&quot;y&quot;:-0.68061,&quot;z&quot;:0.986579},{&quot;x&quot;:-0.345718,&quot;y&quot;:-0.658274,&quot;z&quot;:0.986726},{&quot;x&quot;:-0.333333,&quot;y&quot;:-0.666667,&quot;z&quot;:1}], &quot;faces&quot;:[[0,1,2],[0,3,1],[0,4,3],[0,5,4],[0,2,5],[2,1,6,7],[1,3,8,6],[3,4,9,8],[4,5,10,9],[5,2,7,10],[7,6,11],[6,8,11],[8,9,11],[9,10,11],[10,7,11]], &quot;color&quot;:&quot;#0000ff&quot;, &quot;opacity&quot;:1},{&quot;vertices&quot;:[{&quot;x&quot;:-0.583333,&quot;y&quot;:-0.75,&quot;z&quot;:1.18056},{&quot;x&quot;:-0.410148,&quot;y&quot;:-0.692752,&quot;z&quot;:1.12831},{&quot;x&quot;:-0.45029,&quot;y&quot;:-0.645652,&quot;z&quot;:1.09447},{&quot;x&quot;:-0.414665,&quot;y&quot;:-0.754074,&quot;z&quot;:1.09375},{&quot;x&quot;:-0.457599,&quot;y&quot;:-0.744874,&quot;z&quot;:1.03855},{&quot;x&quot;:-0.479616,&quot;y&quot;:-0.677866,&quot;z&quot;:1.03899},{&quot;x&quot;:-0.442464,&quot;y&quot;:-0.703043,&quot;z&quot;:1.07882}], &quot;faces&quot;:[[0,1,2],[0,3,1],[0,4,3],[0,5,4],[0,2,5],[2,1,6],[1,3,6],[3,4,6],[4,5,6],[5,2,6]], &quot;color&quot;:&quot;#0000ff&quot;, &quot;opacity&quot;:1},{&quot;vertices&quot;:[{&quot;x&quot;:-0.333333,&quot;y&quot;:-0.274667,&quot;z&quot;:-0.921778},{&quot;x&quot;:-0.314312,&quot;y&quot;:-0.269722,&quot;z&quot;:-0.925486},{&quot;x&quot;:-0.333333,&quot;y&quot;:-0.258667,&quot;z&quot;:-0.933778},{&quot;x&quot;:-0.321578,&quot;y&quot;:-0.287611,&quot;z&quot;:-0.91207},{&quot;x&quot;:-0.345089,&quot;y&quot;:-0.287611,&quot;z&quot;:-0.91207},{&quot;x&quot;:-0.352354,&quot;y&quot;:-0.269722,&quot;z&quot;:-0.925486},{&quot;x&quot;:-0.314312,&quot;y&quot;:-0.328389,&quot;z&quot;:-1.00371},{&quot;x&quot;:-0.333333,&quot;y&quot;:-0.317333,&quot;z&quot;:-1.012},{&quot;x&quot;:-0.321578,&quot;y&quot;:-0.346278,&quot;z&quot;:-0.990292},{&quot;x&quot;:-0.345089,&quot;y&quot;:-0.346278,&quot;z&quot;:-0.990292},{&quot;x&quot;:-0.352354,&quot;y&quot;:-0.328389,&quot;z&quot;:-1.00371},{&quot;x&quot;:-0.333333,&quot;y&quot;:-0.333333,&quot;z&quot;:-1}], &quot;faces&quot;:[[0,1,2],[0,3,1],[0,4,3],[0,5,4],[0,2,5],[2,1,6,7],[1,3,8,6],[3,4,9,8],[4,5,10,9],[5,2,7,10],[7,6,11],[6,8,11],[8,9,11],[9,10,11],[10,7,11]], &quot;color&quot;:&quot;#0000ff&quot;, &quot;opacity&quot;:1},{&quot;vertices&quot;:[{&quot;x&quot;:-0.333333,&quot;y&quot;:-0.166667,&quot;z&quot;:-0.777778},{&quot;x&quot;:-0.27627,&quot;y&quot;:-0.259834,&quot;z&quot;:-0.932902},{&quot;x&quot;:-0.333333,&quot;y&quot;:-0.226667,&quot;z&quot;:-0.957778},{&quot;x&quot;:-0.298066,&quot;y&quot;:-0.313499,&quot;z&quot;:-0.892653},{&quot;x&quot;:-0.3686,&quot;y&quot;:-0.313499,&quot;z&quot;:-0.892653},{&quot;x&quot;:-0.390397,&quot;y&quot;:-0.259834,&quot;z&quot;:-0.932902},{&quot;x&quot;:-0.333333,&quot;y&quot;:-0.274667,&quot;z&quot;:-0.921778}], &quot;faces&quot;:[[0,1,2],[0,3,1],[0,4,3],[0,5,4],[0,2,5],[2,1,6],[1,3,6],[3,4,6],[4,5,6],[5,2,6]], &quot;color&quot;:&quot;#0000ff&quot;, &quot;opacity&quot;:1},{&quot;vertices&quot;:[{&quot;x&quot;:-0.337111,&quot;y&quot;:-0.314444,&quot;z&quot;:-0.645889},{&quot;x&quot;:-0.317968,&quot;y&quot;:-0.308873,&quot;z&quot;:-0.647473},{&quot;x&quot;:-0.336085,&quot;y&quot;:-0.299573,&quot;z&quot;:-0.659222},{&quot;x&quot;:-0.326306,&quot;y&quot;:-0.325873,&quot;z&quot;:-0.633535},{&quot;x&quot;:-0.349576,&quot;y&quot;:-0.327079,&quot;z&quot;:-0.636669},{&quot;x&quot;:-0.35562,&quot;y&quot;:-0.310824,&quot;z&quot;:-0.652545},{&quot;x&quot;:-0.31419,&quot;y&quot;:-0.327762,&quot;z&quot;:-0.668251},{&quot;x&quot;:-0.332308,&quot;y&quot;:-0.318462,&quot;z&quot;:-0.68},{&quot;x&quot;:-0.322528,&quot;y&quot;:-0.344762,&quot;z&quot;:-0.654312},{&quot;x&quot;:-0.345798,&quot;y&quot;:-0.345968,&quot;z&quot;:-0.657447},{&quot;x&quot;:-0.351842,&quot;y&quot;:-0.329713,&quot;z&quot;:-0.673323},{&quot;x&quot;:-0.333333,&quot;y&quot;:-0.333333,&quot;z&quot;:-0.666667}], &quot;faces&quot;:[[0,1,2],[0,3,1],[0,4,3],[0,5,4],[0,2,5],[2,1,6,7],[1,3,8,6],[3,4,9,8],[4,5,10,9],[5,2,7,10],[7,6,11],[6,8,11],[8,9,11],[9,10,11],[10,7,11]], &quot;color&quot;:&quot;#0000ff&quot;, &quot;opacity&quot;:1},{&quot;vertices&quot;:[{&quot;x&quot;:-0.361111,&quot;y&quot;:-0.194444,&quot;z&quot;:-0.513889},{&quot;x&quot;:-0.279682,&quot;y&quot;:-0.297731,&quot;z&quot;:-0.650641},{&quot;x&quot;:-0.334034,&quot;y&quot;:-0.269829,&quot;z&quot;:-0.685889},{&quot;x&quot;:-0.304695,&quot;y&quot;:-0.34873,&quot;z&quot;:-0.608826},{&quot;x&quot;:-0.374506,&quot;y&quot;:-0.352348,&quot;z&quot;:-0.61823},{&quot;x&quot;:-0.392638,&quot;y&quot;:-0.303584,&quot;z&quot;:-0.665858},{&quot;x&quot;:-0.337111,&quot;y&quot;:-0.314444,&quot;z&quot;:-0.645889}], &quot;faces&quot;:[[0,1,2],[0,3,1],[0,4,3],[0,5,4],[0,2,5],[2,1,6],[1,3,6],[3,4,6],[4,5,6],[5,2,6]], &quot;color&quot;:&quot;#0000ff&quot;, &quot;opacity&quot;:1},{&quot;vertices&quot;:[{&quot;x&quot;:-0.388889,&quot;y&quot;:-0.222222,&quot;z&quot;:-0.222222},{&quot;x&quot;:-0.28173,&quot;y&quot;:-0.313699,&quot;z&quot;:-0.327166},{&quot;x&quot;:-0.325926,&quot;y&quot;:-0.292593,&quot;z&quot;:-0.37037},{&quot;x&quot;:-0.308848,&quot;y&quot;:-0.361939,&quot;z&quot;:-0.292485},{&quot;x&quot;:-0.369804,&quot;y&quot;:-0.370647,&quot;z&quot;:-0.314255},{&quot;x&quot;:-0.380358,&quot;y&quot;:-0.327789,&quot;z&quot;:-0.362391},{&quot;x&quot;:-0.333333,&quot;y&quot;:-0.333333,&quot;z&quot;:-0.333333}], &quot;faces&quot;:[[0,1,2],[0,3,1],[0,4,3],[0,5,4],[0,2,5],[2,1,6],[1,3,6],[3,4,6],[4,5,6],[5,2,6]], &quot;color&quot;:&quot;#0000ff&quot;, &quot;opacity&quot;:1},{&quot;vertices&quot;:[{&quot;x&quot;:-0.416667,&quot;y&quot;:-0.25,&quot;z&quot;:0.0972222},{&quot;x&quot;:-0.290845,&quot;y&quot;:-0.311652,&quot;z&quot;:0.0178344},{&quot;x&quot;:-0.324074,&quot;y&quot;:-0.291667,&quot;z&quot;:-0.0277778},{&quot;x&quot;:-0.316333,&quot;y&quot;:-0.3616,&quot;z&quot;:0.0388001},{&quot;x&quot;:-0.365315,&quot;y&quot;:-0.372485,&quot;z&quot;:0.00614533},{&quot;x&quot;:-0.370099,&quot;y&quot;:-0.329264,&quot;z&quot;:-0.035002},{&quot;x&quot;:-0.333333,&quot;y&quot;:-0.333333,&quot;z&quot;:0}], &quot;faces&quot;:[[0,1,2],[0,3,1],[0,4,3],[0,5,4],[0,2,5],[2,1,6],[1,3,6],[3,4,6],[4,5,6],[5,2,6]], &quot;color&quot;:&quot;#0000ff&quot;, &quot;opacity&quot;:1},{&quot;vertices&quot;:[{&quot;x&quot;:-0.444444,&quot;y&quot;:-0.277778,&quot;z&quot;:0.444444},{&quot;x&quot;:-0.292298,&quot;y&quot;:-0.310265,&quot;z&quot;:0.362835},{&quot;x&quot;:-0.325926,&quot;y&quot;:-0.281481,&quot;z&quot;:0.314815},{&quot;x&quot;:-0.315379,&quot;y&quot;:-0.370928,&quot;z&quot;:0.370085},{&quot;x&quot;:-0.363273,&quot;y&quot;:-0.379636,&quot;z&quot;:0.326545},{&quot;x&quot;:-0.369791,&quot;y&quot;:-0.324355,&quot;z&quot;:0.292386},{&quot;x&quot;:-0.333333,&quot;y&quot;:-0.333333,&quot;z&quot;:0.333333}], &quot;faces&quot;:[[0,1,2],[0,3,1],[0,4,3],[0,5,4],[0,2,5],[2,1,6],[1,3,6],[3,4,6],[4,5,6],[5,2,6]], &quot;color&quot;:&quot;#0000ff&quot;, &quot;opacity&quot;:1},{&quot;vertices&quot;:[{&quot;x&quot;:-0.352222,&quot;y&quot;:-0.329556,&quot;z&quot;:0.687444},{&quot;x&quot;:-0.337761,&quot;y&quot;:-0.322463,&quot;z&quot;:0.699301},{&quot;x&quot;:-0.351197,&quot;y&quot;:-0.309761,&quot;z&quot;:0.684778},{&quot;x&quot;:-0.344311,&quot;y&quot;:-0.344967,&quot;z&quot;:0.697439},{&quot;x&quot;:-0.361793,&quot;y&quot;:-0.346173,&quot;z&quot;:0.681765},{&quot;x&quot;:-0.366049,&quot;y&quot;:-0.324414,&quot;z&quot;:0.67394},{&quot;x&quot;:-0.318872,&quot;y&quot;:-0.326241,&quot;z&quot;:0.678523},{&quot;x&quot;:-0.332308,&quot;y&quot;:-0.313538,&quot;z&quot;:0.664},{&quot;x&quot;:-0.325422,&quot;y&quot;:-0.348745,&quot;z&quot;:0.676661},{&quot;x&quot;:-0.342905,&quot;y&quot;:-0.349951,&quot;z&quot;:0.660987},{&quot;x&quot;:-0.34716,&quot;y&quot;:-0.328192,&quot;z&quot;:0.653162},{&quot;x&quot;:-0.333333,&quot;y&quot;:-0.333333,&quot;z&quot;:0.666667}], &quot;faces&quot;:[[0,1,2],[0,3,1],[0,4,3],[0,5,4],[0,2,5],[2,1,6,7],[1,3,8,6],[3,4,9,8],[4,5,10,9],[5,2,7,10],[7,6,11],[6,8,11],[8,9,11],[9,10,11],[10,7,11]], &quot;color&quot;:&quot;#0000ff&quot;, &quot;opacity&quot;:1},{&quot;vertices&quot;:[{&quot;x&quot;:-0.472222,&quot;y&quot;:-0.305556,&quot;z&quot;:0.819444},{&quot;x&quot;:-0.30884,&quot;y&quot;:-0.308278,&quot;z&quot;:0.723015},{&quot;x&quot;:-0.349145,&quot;y&quot;:-0.270171,&quot;z&quot;:0.679444},{&quot;x&quot;:-0.328487,&quot;y&quot;:-0.37579,&quot;z&quot;:0.717428},{&quot;x&quot;:-0.380936,&quot;y&quot;:-0.379407,&quot;z&quot;:0.670405},{&quot;x&quot;:-0.393703,&quot;y&quot;:-0.314131,&quot;z&quot;:0.64693},{&quot;x&quot;:-0.352222,&quot;y&quot;:-0.329556,&quot;z&quot;:0.687444}], &quot;faces&quot;:[[0,1,2],[0,3,1],[0,4,3],[0,5,4],[0,2,5],[2,1,6],[1,3,6],[3,4,6],[4,5,6],[5,2,6]], &quot;color&quot;:&quot;#0000ff&quot;, &quot;opacity&quot;:1},{&quot;vertices&quot;:[{&quot;x&quot;:-0.392,&quot;y&quot;:-0.333333,&quot;z&quot;:1.07822},{&quot;x&quot;:-0.376783,&quot;y&quot;:-0.327153,&quot;z&quot;:1.08963},{&quot;x&quot;:-0.392,&quot;y&quot;:-0.313333,&quot;z&quot;:1.07822},{&quot;x&quot;:-0.382595,&quot;y&quot;:-0.349514,&quot;z&quot;:1.08528},{&quot;x&quot;:-0.401405,&quot;y&quot;:-0.349514,&quot;z&quot;:1.07117},{&quot;x&quot;:-0.407217,&quot;y&quot;:-0.327153,&quot;z&quot;:1.06681},{&quot;x&quot;:-0.318116,&quot;y&quot;:-0.327153,&quot;z&quot;:1.01141},{&quot;x&quot;:-0.333333,&quot;y&quot;:-0.313333,&quot;z&quot;:1},{&quot;x&quot;:-0.323929,&quot;y&quot;:-0.349514,&quot;z&quot;:1.00705},{&quot;x&quot;:-0.342738,&quot;y&quot;:-0.349514,&quot;z&quot;:0.992947},{&quot;x&quot;:-0.34855,&quot;y&quot;:-0.327153,&quot;z&quot;:0.988587},{&quot;x&quot;:-0.333333,&quot;y&quot;:-0.333333,&quot;z&quot;:1}], &quot;faces&quot;:[[0,1,2],[0,3,1],[0,4,3],[0,5,4],[0,2,5],[2,1,6,7],[1,3,8,6],[3,4,9,8],[4,5,10,9],[5,2,7,10],[7,6,11],[6,8,11],[8,9,11],[9,10,11],[10,7,11]], &quot;color&quot;:&quot;#0000ff&quot;, &quot;opacity&quot;:1},{&quot;vertices&quot;:[{&quot;x&quot;:-0.5,&quot;y&quot;:-0.333333,&quot;z&quot;:1.22222},{&quot;x&quot;:-0.346349,&quot;y&quot;:-0.314792,&quot;z&quot;:1.11246},{&quot;x&quot;:-0.392,&quot;y&quot;:-0.273333,&quot;z&quot;:1.07822},{&quot;x&quot;:-0.363786,&quot;y&quot;:-0.381874,&quot;z&quot;:1.09938},{&quot;x&quot;:-0.420214,&quot;y&quot;:-0.381874,&quot;z&quot;:1.05706},{&quot;x&quot;:-0.437651,&quot;y&quot;:-0.314792,&quot;z&quot;:1.04398},{&quot;x&quot;:-0.392,&quot;y&quot;:-0.333333,&quot;z&quot;:1.07822}], &quot;faces&quot;:[[0,1,2],[0,3,1],[0,4,3],[0,5,4],[0,2,5],[2,1,6],[1,3,6],[3,4,6],[4,5,6],[5,2,6]], &quot;color&quot;:&quot;#0000ff&quot;, &quot;opacity&quot;:1},{&quot;vertices&quot;:[{&quot;x&quot;:-0.306842,&quot;y&quot;:0.0264912,&quot;z&quot;:-0.924942},{&quot;x&quot;:-0.289147,&quot;y&quot;:0.0313452,&quot;z&quot;:-0.9329},{&quot;x&quot;:-0.307895,&quot;y&quot;:0.0454386,&quot;z&quot;:-0.931257},{&quot;x&quot;:-0.294854,&quot;y&quot;:0.0105438,&quot;z&quot;:-0.923544},{&quot;x&quot;:-0.317127,&quot;y&quot;:0.0117812,&quot;z&quot;:-0.91612},{&quot;x&quot;:-0.325187,&quot;y&quot;:0.0333474,&quot;z&quot;:-0.920887},{&quot;x&quot;:-0.315639,&quot;y&quot;:0.00485395,&quot;z&quot;:-1.00796},{&quot;x&quot;:-0.334386,&quot;y&quot;:0.0189474,&quot;z&quot;:-1.00632},{&quot;x&quot;:-0.321345,&quot;y&quot;:-0.0159475,&quot;z&quot;:-0.998603},{&quot;x&quot;:-0.343619,&quot;y&quot;:-0.01471,&quot;z&quot;:-0.991178},{&quot;x&quot;:-0.351679,&quot;y&quot;:0.00685617,&quot;z&quot;:-0.995945},{&quot;x&quot;:-0.333333,&quot;y&quot;:0,&quot;z&quot;:-1}], &quot;faces&quot;:[[0,1,2],[0,3,1],[0,4,3],[0,5,4],[0,2,5],[2,1,6,7],[1,3,8,6],[3,4,9,8],[4,5,10,9],[5,2,7,10],[7,6,11],[6,8,11],[8,9,11],[9,10,11],[10,7,11]], &quot;color&quot;:&quot;#0000ff&quot;, &quot;opacity&quot;:1},{&quot;vertices&quot;:[{&quot;x&quot;:-0.25,&quot;y&quot;:0.0833333,&quot;z&quot;:-0.763889},{&quot;x&quot;:-0.253758,&quot;y&quot;:0.0410531,&quot;z&quot;:-0.948817},{&quot;x&quot;:-0.31,&quot;y&quot;:0.0833333,&quot;z&quot;:-0.943889},{&quot;x&quot;:-0.270876,&quot;y&quot;:-0.0213512,&quot;z&quot;:-0.92075},{&quot;x&quot;:-0.337698,&quot;y&quot;:-0.0176388,&quot;z&quot;:-0.898476},{&quot;x&quot;:-0.361878,&quot;y&quot;:0.0470597,&quot;z&quot;:-0.912777},{&quot;x&quot;:-0.306842,&quot;y&quot;:0.0264912,&quot;z&quot;:-0.924942}], &quot;faces&quot;:[[0,1,2],[0,3,1],[0,4,3],[0,5,4],[0,2,5],[2,1,6],[1,3,6],[3,4,6],[4,5,6],[5,2,6]], &quot;color&quot;:&quot;#0000ff&quot;, &quot;opacity&quot;:1},{&quot;vertices&quot;:[{&quot;x&quot;:-0.329206,&quot;y&quot;:0.00619048,&quot;z&quot;:-0.654286},{&quot;x&quot;:-0.311429,&quot;y&quot;:0.0105054,&quot;z&quot;:-0.662369},{&quot;x&quot;:-0.330525,&quot;y&quot;:0.0242125,&quot;z&quot;:-0.662857},{&quot;x&quot;:-0.316901,&quot;y&quot;:-0.00916471,&quot;z&quot;:-0.65071},{&quot;x&quot;:-0.339378,&quot;y&quot;:-0.00761451,&quot;z&quot;:-0.643993},{&quot;x&quot;:-0.347799,&quot;y&quot;:0.0130137,&quot;z&quot;:-0.6515},{&quot;x&quot;:-0.315556,&quot;y&quot;:0.00431496,&quot;z&quot;:-0.67475},{&quot;x&quot;:-0.334652,&quot;y&quot;:0.018022,&quot;z&quot;:-0.675238},{&quot;x&quot;:-0.321028,&quot;y&quot;:-0.0153552,&quot;z&quot;:-0.663091},{&quot;x&quot;:-0.343505,&quot;y&quot;:-0.013805,&quot;z&quot;:-0.656373},{&quot;x&quot;:-0.351926,&quot;y&quot;:0.00682324,&quot;z&quot;:-0.663881},{&quot;x&quot;:-0.333333,&quot;y&quot;:0,&quot;z&quot;:-0.666667}], &quot;faces&quot;:[[0,1,2],[0,3,1],[0,4,3],[0,5,4],[0,2,5],[2,1,6,7],[1,3,8,6],[3,4,9,8],[4,5,10,9],[5,2,7,10],[7,6,11],[6,8,11],[8,9,11],[9,10,11],[10,7,11]], &quot;color&quot;:&quot;#0000ff&quot;, &quot;opacity&quot;:1},{&quot;vertices&quot;:[{&quot;x&quot;:-0.277778,&quot;y&quot;:0.0833333,&quot;z&quot;:-0.5},{&quot;x&quot;:-0.275874,&quot;y&quot;:0.0191353,&quot;z&quot;:-0.678536},{&quot;x&quot;:-0.333162,&quot;y&quot;:0.0602564,&quot;z&quot;:-0.68},{&quot;x&quot;:-0.292289,&quot;y&quot;:-0.0398751,&quot;z&quot;:-0.643559},{&quot;x&quot;:-0.359723,&quot;y&quot;:-0.0352245,&quot;z&quot;:-0.623406},{&quot;x&quot;:-0.384984,&quot;y&quot;:0.0266602,&quot;z&quot;:-0.645928},{&quot;x&quot;:-0.329206,&quot;y&quot;:0.00619048,&quot;z&quot;:-0.654286}], &quot;faces&quot;:[[0,1,2],[0,3,1],[0,4,3],[0,5,4],[0,2,5],[2,1,6],[1,3,6],[3,4,6],[4,5,6],[5,2,6]], &quot;color&quot;:&quot;#0000ff&quot;, &quot;opacity&quot;:1},{&quot;vertices&quot;:[{&quot;x&quot;:-0.305556,&quot;y&quot;:0.0833333,&quot;z&quot;:-0.208333},{&quot;x&quot;:-0.286639,&quot;y&quot;:0.01052,&quot;z&quot;:-0.350723},{&quot;x&quot;:-0.336111,&quot;y&quot;:0.0425926,&quot;z&quot;:-0.361111},{&quot;x&quot;:-0.301697,&quot;y&quot;:-0.0360909,&quot;z&quot;:-0.316303},{&quot;x&quot;:-0.360475,&quot;y&quot;:-0.0328254,&quot;z&quot;:-0.305418},{&quot;x&quot;:-0.381745,&quot;y&quot;:0.0158037,&quot;z&quot;:-0.333111},{&quot;x&quot;:-0.333333,&quot;y&quot;:0,&quot;z&quot;:-0.333333}], &quot;faces&quot;:[[0,1,2],[0,3,1],[0,4,3],[0,5,4],[0,2,5],[2,1,6],[1,3,6],[3,4,6],[4,5,6],[5,2,6]], &quot;color&quot;:&quot;#0000ff&quot;, &quot;opacity&quot;:1},{&quot;vertices&quot;:[{&quot;x&quot;:-0.333333,&quot;y&quot;:0.0833333,&quot;z&quot;:0.111111},{&quot;x&quot;:-0.289303,&quot;y&quot;:0.0114451,&quot;z&quot;:-0.00858381},{&quot;x&quot;:-0.333333,&quot;y&quot;:0.037037,&quot;z&quot;:-0.0277778},{&quot;x&quot;:-0.306121,&quot;y&quot;:-0.0299636,&quot;z&quot;:0.0224727},{&quot;x&quot;:-0.360546,&quot;y&quot;:-0.0299636,&quot;z&quot;:0.0224727},{&quot;x&quot;:-0.377364,&quot;y&quot;:0.0114451,&quot;z&quot;:-0.00858381},{&quot;x&quot;:-0.333333,&quot;y&quot;:0,&quot;z&quot;:0}], &quot;faces&quot;:[[0,1,2],[0,3,1],[0,4,3],[0,5,4],[0,2,5],[2,1,6],[1,3,6],[3,4,6],[4,5,6],[5,2,6]], &quot;color&quot;:&quot;#0000ff&quot;, &quot;opacity&quot;:1},{&quot;vertices&quot;:[{&quot;x&quot;:-0.361111,&quot;y&quot;:0.0833333,&quot;z&quot;:0.458333},{&quot;x&quot;:-0.284922,&quot;y&quot;:0.0158037,&quot;z&quot;:0.333556},{&quot;x&quot;:-0.330556,&quot;y&quot;:0.0425926,&quot;z&quot;:0.305556},{&quot;x&quot;:-0.306191,&quot;y&quot;:-0.0328254,&quot;z&quot;:0.361248},{&quot;x&quot;:-0.36497,&quot;y&quot;:-0.0360909,&quot;z&quot;:0.350364},{&quot;x&quot;:-0.380028,&quot;y&quot;:0.01052,&quot;z&quot;:0.315943},{&quot;x&quot;:-0.333333,&quot;y&quot;:0,&quot;z&quot;:0.333333}], &quot;faces&quot;:[[0,1,2],[0,3,1],[0,4,3],[0,5,4],[0,2,5],[2,1,6],[1,3,6],[3,4,6],[4,5,6],[5,2,6]], &quot;color&quot;:&quot;#0000ff&quot;, &quot;opacity&quot;:1},{&quot;vertices&quot;:[{&quot;x&quot;:-0.33746,&quot;y&quot;:0.00619048,&quot;z&quot;:0.679048},{&quot;x&quot;:-0.318868,&quot;y&quot;:0.0130137,&quot;z&quot;:0.681834},{&quot;x&quot;:-0.336142,&quot;y&quot;:0.0242125,&quot;z&quot;:0.670476},{&quot;x&quot;:-0.327288,&quot;y&quot;:-0.00761451,&quot;z&quot;:0.689341},{&quot;x&quot;:-0.349766,&quot;y&quot;:-0.00916471,&quot;z&quot;:0.682623},{&quot;x&quot;:-0.355238,&quot;y&quot;:0.0105054,&quot;z&quot;:0.670964},{&quot;x&quot;:-0.314741,&quot;y&quot;:0.00682324,&quot;z&quot;:0.669453},{&quot;x&quot;:-0.332015,&quot;y&quot;:0.018022,&quot;z&quot;:0.658095},{&quot;x&quot;:-0.323161,&quot;y&quot;:-0.013805,&quot;z&quot;:0.67696},{&quot;x&quot;:-0.345639,&quot;y&quot;:-0.0153552,&quot;z&quot;:0.670242},{&quot;x&quot;:-0.351111,&quot;y&quot;:0.00431496,&quot;z&quot;:0.658583},{&quot;x&quot;:-0.333333,&quot;y&quot;:0,&quot;z&quot;:0.666667}], &quot;faces&quot;:[[0,1,2],[0,3,1],[0,4,3],[0,5,4],[0,2,5],[2,1,6,7],[1,3,8,6],[3,4,9,8],[4,5,10,9],[5,2,7,10],[7,6,11],[6,8,11],[8,9,11],[9,10,11],[10,7,11]], &quot;color&quot;:&quot;#0000ff&quot;, &quot;opacity&quot;:1},{&quot;vertices&quot;:[{&quot;x&quot;:-0.388889,&quot;y&quot;:0.0833333,&quot;z&quot;:0.833333},{&quot;x&quot;:-0.281683,&quot;y&quot;:0.0266602,&quot;z&quot;:0.687405},{&quot;x&quot;:-0.333504,&quot;y&quot;:0.0602564,&quot;z&quot;:0.653333},{&quot;x&quot;:-0.306944,&quot;y&quot;:-0.0352245,&quot;z&quot;:0.709927},{&quot;x&quot;:-0.374378,&quot;y&quot;:-0.0398751,&quot;z&quot;:0.689775},{&quot;x&quot;:-0.390793,&quot;y&quot;:0.0191353,&quot;z&quot;:0.654798},{&quot;x&quot;:-0.33746,&quot;y&quot;:0.00619048,&quot;z&quot;:0.679048}], &quot;faces&quot;:[[0,1,2],[0,3,1],[0,4,3],[0,5,4],[0,2,5],[2,1,6],[1,3,6],[3,4,6],[4,5,6],[5,2,6]], &quot;color&quot;:&quot;#0000ff&quot;, &quot;opacity&quot;:1},{&quot;vertices&quot;:[{&quot;x&quot;:-0.359825,&quot;y&quot;:0.0264912,&quot;z&quot;:1.07506},{&quot;x&quot;:-0.341479,&quot;y&quot;:0.0333474,&quot;z&quot;:1.07911},{&quot;x&quot;:-0.358772,&quot;y&quot;:0.0454386,&quot;z&quot;:1.06874},{&quot;x&quot;:-0.349539,&quot;y&quot;:0.0117812,&quot;z&quot;:1.08388},{&quot;x&quot;:-0.371813,&quot;y&quot;:0.0105438,&quot;z&quot;:1.07646},{&quot;x&quot;:-0.377519,&quot;y&quot;:0.0313452,&quot;z&quot;:1.0671},{&quot;x&quot;:-0.314988,&quot;y&quot;:0.00685617,&quot;z&quot;:1.00405},{&quot;x&quot;:-0.332281,&quot;y&quot;:0.0189474,&quot;z&quot;:0.993684},{&quot;x&quot;:-0.323048,&quot;y&quot;:-0.01471,&quot;z&quot;:1.00882},{&quot;x&quot;:-0.345322,&quot;y&quot;:-0.0159475,&quot;z&quot;:1.0014},{&quot;x&quot;:-0.351028,&quot;y&quot;:0.00485395,&quot;z&quot;:0.992042},{&quot;x&quot;:-0.333333,&quot;y&quot;:0,&quot;z&quot;:1}], &quot;faces&quot;:[[0,1,2],[0,3,1],[0,4,3],[0,5,4],[0,2,5],[2,1,6,7],[1,3,8,6],[3,4,9,8],[4,5,10,9],[5,2,7,10],[7,6,11],[6,8,11],[8,9,11],[9,10,11],[10,7,11]], &quot;color&quot;:&quot;#0000ff&quot;, &quot;opacity&quot;:1},{&quot;vertices&quot;:[{&quot;x&quot;:-0.416667,&quot;y&quot;:0.0833333,&quot;z&quot;:1.23611},{&quot;x&quot;:-0.304789,&quot;y&quot;:0.0470597,&quot;z&quot;:1.08722},{&quot;x&quot;:-0.356667,&quot;y&quot;:0.0833333,&quot;z&quot;:1.05611},{&quot;x&quot;:-0.328968,&quot;y&quot;:-0.0176388,&quot;z&quot;:1.10152},{&quot;x&quot;:-0.39579,&quot;y&quot;:-0.0213512,&quot;z&quot;:1.07925},{&quot;x&quot;:-0.412909,&quot;y&quot;:0.0410531,&quot;z&quot;:1.05118},{&quot;x&quot;:-0.359825,&quot;y&quot;:0.0264912,&quot;z&quot;:1.07506}], &quot;faces&quot;:[[0,1,2],[0,3,1],[0,4,3],[0,5,4],[0,2,5],[2,1,6],[1,3,6],[3,4,6],[4,5,6],[5,2,6]], &quot;color&quot;:&quot;#0000ff&quot;, &quot;opacity&quot;:1},{&quot;vertices&quot;:[{&quot;x&quot;:-0.274667,&quot;y&quot;:0.333333,&quot;z&quot;:-0.921778},{&quot;x&quot;:-0.25945,&quot;y&quot;:0.339514,&quot;z&quot;:-0.93319},{&quot;x&quot;:-0.274667,&quot;y&quot;:0.353333,&quot;z&quot;:-0.921778},{&quot;x&quot;:-0.265262,&quot;y&quot;:0.317153,&quot;z&quot;:-0.928831},{&quot;x&quot;:-0.284071,&quot;y&quot;:0.317153,&quot;z&quot;:-0.914724},{&quot;x&quot;:-0.289884,&quot;y&quot;:0.339514,&quot;z&quot;:-0.910365},{&quot;x&quot;:-0.318116,&quot;y&quot;:0.339514,&quot;z&quot;:-1.01141},{&quot;x&quot;:-0.333333,&quot;y&quot;:0.353333,&quot;z&quot;:-1},{&quot;x&quot;:-0.323929,&quot;y&quot;:0.317153,&quot;z&quot;:-1.00705},{&quot;x&quot;:-0.342738,&quot;y&quot;:0.317153,&quot;z&quot;:-0.992947},{&quot;x&quot;:-0.34855,&quot;y&quot;:0.339514,&quot;z&quot;:-0.988587},{&quot;x&quot;:-0.333333,&quot;y&quot;:0.333333,&quot;z&quot;:-1}], &quot;faces&quot;:[[0,1,2],[0,3,1],[0,4,3],[0,5,4],[0,2,5],[2,1,6,7],[1,3,8,6],[3,4,9,8],[4,5,10,9],[5,2,7,10],[7,6,11],[6,8,11],[8,9,11],[9,10,11],[10,7,11]], &quot;color&quot;:&quot;#0000ff&quot;, &quot;opacity&quot;:1},{&quot;vertices&quot;:[{&quot;x&quot;:-0.166667,&quot;y&quot;:0.333333,&quot;z&quot;:-0.777778},{&quot;x&quot;:-0.229016,&quot;y&quot;:0.351874,&quot;z&quot;:-0.956016},{&quot;x&quot;:-0.274667,&quot;y&quot;:0.393333,&quot;z&quot;:-0.921778},{&quot;x&quot;:-0.246453,&quot;y&quot;:0.284792,&quot;z&quot;:-0.942938},{&quot;x&quot;:-0.30288,&quot;y&quot;:0.284792,&quot;z&quot;:-0.900618},{&quot;x&quot;:-0.320317,&quot;y&quot;:0.351874,&quot;z&quot;:-0.88754},{&quot;x&quot;:-0.274667,&quot;y&quot;:0.333333,&quot;z&quot;:-0.921778}], &quot;faces&quot;:[[0,1,2],[0,3,1],[0,4,3],[0,5,4],[0,2,5],[2,1,6],[1,3,6],[3,4,6],[4,5,6],[5,2,6]], &quot;color&quot;:&quot;#0000ff&quot;, &quot;opacity&quot;:1},{&quot;vertices&quot;:[{&quot;x&quot;:-0.314444,&quot;y&quot;:0.337111,&quot;z&quot;:-0.645889},{&quot;x&quot;:-0.300617,&quot;y&quot;:0.342253,&quot;z&quot;:-0.659394},{&quot;x&quot;:-0.31547,&quot;y&quot;:0.356906,&quot;z&quot;:-0.648556},{&quot;x&quot;:-0.304873,&quot;y&quot;:0.320494,&quot;z&quot;:-0.651569},{&quot;x&quot;:-0.322356,&quot;y&quot;:0.3217,&quot;z&quot;:-0.635894},{&quot;x&quot;:-0.328905,&quot;y&quot;:0.344204,&quot;z&quot;:-0.634032},{&quot;x&quot;:-0.319506,&quot;y&quot;:0.338475,&quot;z&quot;:-0.680171},{&quot;x&quot;:-0.334359,&quot;y&quot;:0.353128,&quot;z&quot;:-0.669333},{&quot;x&quot;:-0.323762,&quot;y&quot;:0.316716,&quot;z&quot;:-0.672346},{&quot;x&quot;:-0.341245,&quot;y&quot;:0.317922,&quot;z&quot;:-0.656672},{&quot;x&quot;:-0.347794,&quot;y&quot;:0.340426,&quot;z&quot;:-0.65481},{&quot;x&quot;:-0.333333,&quot;y&quot;:0.333333,&quot;z&quot;:-0.666667}], &quot;faces&quot;:[[0,1,2],[0,3,1],[0,4,3],[0,5,4],[0,2,5],[2,1,6,7],[1,3,8,6],[3,4,9,8],[4,5,10,9],[5,2,7,10],[7,6,11],[6,8,11],[8,9,11],[9,10,11],[10,7,11]], &quot;color&quot;:&quot;#0000ff&quot;, &quot;opacity&quot;:1},{&quot;vertices&quot;:[{&quot;x&quot;:-0.194444,&quot;y&quot;:0.361111,&quot;z&quot;:-0.513889},{&quot;x&quot;:-0.272964,&quot;y&quot;:0.352536,&quot;z&quot;:-0.686403},{&quot;x&quot;:-0.317521,&quot;y&quot;:0.396496,&quot;z&quot;:-0.653889},{&quot;x&quot;:-0.285731,&quot;y&quot;:0.287259,&quot;z&quot;:-0.662928},{&quot;x&quot;:-0.338179,&quot;y&quot;:0.290877,&quot;z&quot;:-0.615905},{&quot;x&quot;:-0.357827,&quot;y&quot;:0.358388,&quot;z&quot;:-0.610319},{&quot;x&quot;:-0.314444,&quot;y&quot;:0.337111,&quot;z&quot;:-0.645889}], &quot;faces&quot;:[[0,1,2],[0,3,1],[0,4,3],[0,5,4],[0,2,5],[2,1,6],[1,3,6],[3,4,6],[4,5,6],[5,2,6]], &quot;color&quot;:&quot;#0000ff&quot;, &quot;opacity&quot;:1},{&quot;vertices&quot;:[{&quot;x&quot;:-0.222222,&quot;y&quot;:0.388889,&quot;z&quot;:-0.222222},{&quot;x&quot;:-0.296876,&quot;y&quot;:0.342312,&quot;z&quot;:-0.37428},{&quot;x&quot;:-0.340741,&quot;y&quot;:0.385185,&quot;z&quot;:-0.351852},{&quot;x&quot;:-0.303394,&quot;y&quot;:0.28703,&quot;z&quot;:-0.340121},{&quot;x&quot;:-0.351287,&quot;y&quot;:0.295738,&quot;z&quot;:-0.296582},{&quot;x&quot;:-0.374369,&quot;y&quot;:0.356401,&quot;z&quot;:-0.303832},{&quot;x&quot;:-0.333333,&quot;y&quot;:0.333333,&quot;z&quot;:-0.333333}], &quot;faces&quot;:[[0,1,2],[0,3,1],[0,4,3],[0,5,4],[0,2,5],[2,1,6],[1,3,6],[3,4,6],[4,5,6],[5,2,6]], &quot;color&quot;:&quot;#0000ff&quot;, &quot;opacity&quot;:1},{&quot;vertices&quot;:[{&quot;x&quot;:-0.25,&quot;y&quot;:0.416667,&quot;z&quot;:0.0972222},{&quot;x&quot;:-0.296567,&quot;y&quot;:0.337403,&quot;z&quot;:-0.035002},{&quot;x&quot;:-0.342593,&quot;y&quot;:0.375,&quot;z&quot;:-0.0277778},{&quot;x&quot;:-0.301351,&quot;y&quot;:0.294182,&quot;z&quot;:0.00614533},{&quot;x&quot;:-0.350333,&quot;y&quot;:0.305067,&quot;z&quot;:0.0388001},{&quot;x&quot;:-0.375822,&quot;y&quot;:0.355015,&quot;z&quot;:0.0178344},{&quot;x&quot;:-0.333333,&quot;y&quot;:0.333333,&quot;z&quot;:0}], &quot;faces&quot;:[[0,1,2],[0,3,1],[0,4,3],[0,5,4],[0,2,5],[2,1,6],[1,3,6],[3,4,6],[4,5,6],[5,2,6]], &quot;color&quot;:&quot;#0000ff&quot;, &quot;opacity&quot;:1},{&quot;vertices&quot;:[{&quot;x&quot;:-0.277778,&quot;y&quot;:0.444444,&quot;z&quot;:0.444444},{&quot;x&quot;:-0.286308,&quot;y&quot;:0.338878,&quot;z&quot;:0.304276},{&quot;x&quot;:-0.340741,&quot;y&quot;:0.374074,&quot;z&quot;:0.296296},{&quot;x&quot;:-0.296863,&quot;y&quot;:0.296019,&quot;z&quot;:0.352412},{&quot;x&quot;:-0.357818,&quot;y&quot;:0.304727,&quot;z&quot;:0.374182},{&quot;x&quot;:-0.384936,&quot;y&quot;:0.352968,&quot;z&quot;:0.3395},{&quot;x&quot;:-0.333333,&quot;y&quot;:0.333333,&quot;z&quot;:0.333333}], &quot;faces&quot;:[[0,1,2],[0,3,1],[0,4,3],[0,5,4],[0,2,5],[2,1,6],[1,3,6],[3,4,6],[4,5,6],[5,2,6]], &quot;color&quot;:&quot;#0000ff&quot;, &quot;opacity&quot;:1},{&quot;vertices&quot;:[{&quot;x&quot;:-0.329556,&quot;y&quot;:0.352222,&quot;z&quot;:0.687444},{&quot;x&quot;:-0.311046,&quot;y&quot;:0.355842,&quot;z&quot;:0.680788},{&quot;x&quot;:-0.330581,&quot;y&quot;:0.367094,&quot;z&quot;:0.674111},{&quot;x&quot;:-0.317091,&quot;y&quot;:0.339588,&quot;z&quot;:0.696664},{&quot;x&quot;:-0.340361,&quot;y&quot;:0.340794,&quot;z&quot;:0.699799},{&quot;x&quot;:-0.348699,&quot;y&quot;:0.357793,&quot;z&quot;:0.68586},{&quot;x&quot;:-0.314824,&quot;y&quot;:0.336954,&quot;z&quot;:0.66001},{&quot;x&quot;:-0.334359,&quot;y&quot;:0.348205,&quot;z&quot;:0.653333},{&quot;x&quot;:-0.320868,&quot;y&quot;:0.320699,&quot;z&quot;:0.675886},{&quot;x&quot;:-0.344139,&quot;y&quot;:0.321905,&quot;z&quot;:0.679021},{&quot;x&quot;:-0.352476,&quot;y&quot;:0.338904,&quot;z&quot;:0.665083},{&quot;x&quot;:-0.333333,&quot;y&quot;:0.333333,&quot;z&quot;:0.666667}], &quot;faces&quot;:[[0,1,2],[0,3,1],[0,4,3],[0,5,4],[0,2,5],[2,1,6,7],[1,3,8,6],[3,4,9,8],[4,5,10,9],[5,2,7,10],[7,6,11],[6,8,11],[8,9,11],[9,10,11],[10,7,11]], &quot;color&quot;:&quot;#0000ff&quot;, &quot;opacity&quot;:1},{&quot;vertices&quot;:[{&quot;x&quot;:-0.305556,&quot;y&quot;:0.472222,&quot;z&quot;:0.819444},{&quot;x&quot;:-0.274028,&quot;y&quot;:0.363083,&quot;z&quot;:0.667475},{&quot;x&quot;:-0.332632,&quot;y&quot;:0.396838,&quot;z&quot;:0.647444},{&quot;x&quot;:-0.292161,&quot;y&quot;:0.314319,&quot;z&quot;:0.715103},{&quot;x&quot;:-0.361972,&quot;y&quot;:0.317936,&quot;z&quot;:0.724507},{&quot;x&quot;:-0.386985,&quot;y&quot;:0.368935,&quot;z&quot;:0.682692},{&quot;x&quot;:-0.329556,&quot;y&quot;:0.352222,&quot;z&quot;:0.687444}], &quot;faces&quot;:[[0,1,2],[0,3,1],[0,4,3],[0,5,4],[0,2,5],[2,1,6],[1,3,6],[3,4,6],[4,5,6],[5,2,6]], &quot;color&quot;:&quot;#0000ff&quot;, &quot;opacity&quot;:1},{&quot;vertices&quot;:[{&quot;x&quot;:-0.333333,&quot;y&quot;:0.392,&quot;z&quot;:1.07822},{&quot;x&quot;:-0.314312,&quot;y&quot;:0.396944,&quot;z&quot;:1.07451},{&quot;x&quot;:-0.333333,&quot;y&quot;:0.408,&quot;z&quot;:1.06622},{&quot;x&quot;:-0.321578,&quot;y&quot;:0.379056,&quot;z&quot;:1.08793},{&quot;x&quot;:-0.345089,&quot;y&quot;:0.379056,&quot;z&quot;:1.08793},{&quot;x&quot;:-0.352354,&quot;y&quot;:0.396944,&quot;z&quot;:1.07451},{&quot;x&quot;:-0.314312,&quot;y&quot;:0.338278,&quot;z&quot;:0.996292},{&quot;x&quot;:-0.333333,&quot;y&quot;:0.349333,&quot;z&quot;:0.988},{&quot;x&quot;:-0.321578,&quot;y&quot;:0.320389,&quot;z&quot;:1.00971},{&quot;x&quot;:-0.345089,&quot;y&quot;:0.320389,&quot;z&quot;:1.00971},{&quot;x&quot;:-0.352354,&quot;y&quot;:0.338278,&quot;z&quot;:0.996292},{&quot;x&quot;:-0.333333,&quot;y&quot;:0.333333,&quot;z&quot;:1}], &quot;faces&quot;:[[0,1,2],[0,3,1],[0,4,3],[0,5,4],[0,2,5],[2,1,6,7],[1,3,8,6],[3,4,9,8],[4,5,10,9],[5,2,7,10],[7,6,11],[6,8,11],[8,9,11],[9,10,11],[10,7,11]], &quot;color&quot;:&quot;#0000ff&quot;, &quot;opacity&quot;:1},{&quot;vertices&quot;:[{&quot;x&quot;:-0.333333,&quot;y&quot;:0.5,&quot;z&quot;:1.22222},{&quot;x&quot;:-0.27627,&quot;y&quot;:0.406833,&quot;z&quot;:1.0671},{&quot;x&quot;:-0.333333,&quot;y&quot;:0.44,&quot;z&quot;:1.04222},{&quot;x&quot;:-0.298066,&quot;y&quot;:0.353167,&quot;z&quot;:1.10735},{&quot;x&quot;:-0.3686,&quot;y&quot;:0.353167,&quot;z&quot;:1.10735},{&quot;x&quot;:-0.390397,&quot;y&quot;:0.406833,&quot;z&quot;:1.0671},{&quot;x&quot;:-0.333333,&quot;y&quot;:0.392,&quot;z&quot;:1.07822}], &quot;faces&quot;:[[0,1,2],[0,3,1],[0,4,3],[0,5,4],[0,2,5],[2,1,6],[1,3,6],[3,4,6],[4,5,6],[5,2,6]], &quot;color&quot;:&quot;#0000ff&quot;, &quot;opacity&quot;:1},{&quot;vertices&quot;:[{&quot;x&quot;:-0.224203,&quot;y&quot;:0.63029,&quot;z&quot;:-0.921184},{&quot;x&quot;:-0.211819,&quot;y&quot;:0.638683,&quot;z&quot;:-0.934457},{&quot;x&quot;:-0.221594,&quot;y&quot;:0.64942,&quot;z&quot;:-0.915966},{&quot;x&quot;:-0.219158,&quot;y&quot;:0.616346,&quot;z&quot;:-0.934605},{&quot;x&quot;:-0.233469,&quot;y&quot;:0.61328,&quot;z&quot;:-0.916204},{&quot;x&quot;:-0.234975,&quot;y&quot;:0.63372,&quot;z&quot;:-0.904685},{&quot;x&quot;:-0.320949,&quot;y&quot;:0.675059,&quot;z&quot;:-1.01327},{&quot;x&quot;:-0.330725,&quot;y&quot;:0.685797,&quot;z&quot;:-0.994783},{&quot;x&quot;:-0.328288,&quot;y&quot;:0.652723,&quot;z&quot;:-1.01342},{&quot;x&quot;:-0.342599,&quot;y&quot;:0.649656,&quot;z&quot;:-0.995021},{&quot;x&quot;:-0.344105,&quot;y&quot;:0.670097,&quot;z&quot;:-0.983502},{&quot;x&quot;:-0.333333,&quot;y&quot;:0.666667,&quot;z&quot;:-1}], &quot;faces&quot;:[[0,1,2],[0,3,1],[0,4,3],[0,5,4],[0,2,5],[2,1,6,7],[1,3,8,6],[3,4,9,8],[4,5,10,9],[5,2,7,10],[7,6,11],[6,8,11],[8,9,11],[9,10,11],[10,7,11]], &quot;color&quot;:&quot;#0000ff&quot;, &quot;opacity&quot;:1},{&quot;vertices&quot;:[{&quot;x&quot;:-0.0833333,&quot;y&quot;:0.583333,&quot;z&quot;:-0.819444},{&quot;x&quot;:-0.18705,&quot;y&quot;:0.655468,&quot;z&quot;:-0.961005},{&quot;x&quot;:-0.216377,&quot;y&quot;:0.687681,&quot;z&quot;:-0.905531},{&quot;x&quot;:-0.209067,&quot;y&quot;:0.588459,&quot;z&quot;:-0.961447},{&quot;x&quot;:-0.252001,&quot;y&quot;:0.579259,&quot;z&quot;:-0.906246},{&quot;x&quot;:-0.256519,&quot;y&quot;:0.640582,&quot;z&quot;:-0.871688},{&quot;x&quot;:-0.224203,&quot;y&quot;:0.63029,&quot;z&quot;:-0.921184}], &quot;faces&quot;:[[0,1,2],[0,3,1],[0,4,3],[0,5,4],[0,2,5],[2,1,6],[1,3,6],[3,4,6],[4,5,6],[5,2,6]], &quot;color&quot;:&quot;#0000ff&quot;, &quot;opacity&quot;:1},{&quot;vertices&quot;:[{&quot;x&quot;:-0.271111,&quot;y&quot;:0.658889,&quot;z&quot;:-0.635556},{&quot;x&quot;:-0.262072,&quot;y&quot;:0.666317,&quot;z&quot;:-0.651777},{&quot;x&quot;:-0.269744,&quot;y&quot;:0.678718,&quot;z&quot;:-0.633333},{&quot;x&quot;:-0.266892,&quot;y&quot;:0.643651,&quot;z&quot;:-0.647803},{&quot;x&quot;:-0.277543,&quot;y&quot;:0.642043,&quot;z&quot;:-0.626904},{&quot;x&quot;:-0.279305,&quot;y&quot;:0.663716,&quot;z&quot;:-0.617961},{&quot;x&quot;:-0.324294,&quot;y&quot;:0.674095,&quot;z&quot;:-0.682888},{&quot;x&quot;:-0.331966,&quot;y&quot;:0.686496,&quot;z&quot;:-0.664444},{&quot;x&quot;:-0.329114,&quot;y&quot;:0.651428,&quot;z&quot;:-0.678914},{&quot;x&quot;:-0.339765,&quot;y&quot;:0.649821,&quot;z&quot;:-0.658015},{&quot;x&quot;:-0.341527,&quot;y&quot;:0.671494,&quot;z&quot;:-0.649072},{&quot;x&quot;:-0.333333,&quot;y&quot;:0.666667,&quot;z&quot;:-0.666667}], &quot;faces&quot;:[[0,1,2],[0,3,1],[0,4,3],[0,5,4],[0,2,5],[2,1,6,7],[1,3,8,6],[3,4,9,8],[4,5,10,9],[5,2,7,10],[7,6,11],[6,8,11],[8,9,11],[9,10,11],[10,7,11]], &quot;color&quot;:&quot;#0000ff&quot;, &quot;opacity&quot;:1},{&quot;vertices&quot;:[{&quot;x&quot;:-0.111111,&quot;y&quot;:0.638889,&quot;z&quot;:-0.555556},{&quot;x&quot;:-0.243994,&quot;y&quot;:0.681173,&quot;z&quot;:-0.684218},{&quot;x&quot;:-0.267009,&quot;y&quot;:0.718376,&quot;z&quot;:-0.628889},{&quot;x&quot;:-0.258454,&quot;y&quot;:0.613174,&quot;z&quot;:-0.672298},{&quot;x&quot;:-0.290406,&quot;y&quot;:0.608351,&quot;z&quot;:-0.6096},{&quot;x&quot;:-0.295693,&quot;y&quot;:0.67337,&quot;z&quot;:-0.582772},{&quot;x&quot;:-0.271111,&quot;y&quot;:0.658889,&quot;z&quot;:-0.635556}], &quot;faces&quot;:[[0,1,2],[0,3,1],[0,4,3],[0,5,4],[0,2,5],[2,1,6],[1,3,6],[3,4,6],[4,5,6],[5,2,6]], &quot;color&quot;:&quot;#0000ff&quot;, &quot;opacity&quot;:1},{&quot;vertices&quot;:[{&quot;x&quot;:-0.306889,&quot;y&quot;:0.670444,&quot;z&quot;:-0.323889},{&quot;x&quot;:-0.300872,&quot;y&quot;:0.674767,&quot;z&quot;:-0.342466},{&quot;x&quot;:-0.308756,&quot;y&quot;:0.690178,&quot;z&quot;:-0.326556},{&quot;x&quot;:-0.301303,&quot;y&quot;:0.653383,&quot;z&quot;:-0.332704},{&quot;x&quot;:-0.309454,&quot;y&quot;:0.655577,&quot;z&quot;:-0.31076},{&quot;x&quot;:-0.31406,&quot;y&quot;:0.678318,&quot;z&quot;:-0.30696},{&quot;x&quot;:-0.327316,&quot;y&quot;:0.670989,&quot;z&quot;:-0.35191},{&quot;x&quot;:-0.3352,&quot;y&quot;:0.6864,&quot;z&quot;:-0.336},{&quot;x&quot;:-0.327748,&quot;y&quot;:0.649605,&quot;z&quot;:-0.342148},{&quot;x&quot;:-0.335898,&quot;y&quot;:0.651799,&quot;z&quot;:-0.320204},{&quot;x&quot;:-0.340504,&quot;y&quot;:0.67454,&quot;z&quot;:-0.316404},{&quot;x&quot;:-0.333333,&quot;y&quot;:0.666667,&quot;z&quot;:-0.333333}], &quot;faces&quot;:[[0,1,2],[0,3,1],[0,4,3],[0,5,4],[0,2,5],[2,1,6,7],[1,3,8,6],[3,4,9,8],[4,5,10,9],[5,2,7,10],[7,6,11],[6,8,11],[8,9,11],[9,10,11],[10,7,11]], &quot;color&quot;:&quot;#0000ff&quot;, &quot;opacity&quot;:1},{&quot;vertices&quot;:[{&quot;x&quot;:-0.138889,&quot;y&quot;:0.694444,&quot;z&quot;:-0.263889},{&quot;x&quot;:-0.288837,&quot;y&quot;:0.683412,&quot;z&quot;:-0.37962},{&quot;x&quot;:-0.312489,&quot;y&quot;:0.729644,&quot;z&quot;:-0.331889},{&quot;x&quot;:-0.290132,&quot;y&quot;:0.619259,&quot;z&quot;:-0.350333},{&quot;x&quot;:-0.314584,&quot;y&quot;:0.625842,&quot;z&quot;:-0.284501},{&quot;x&quot;:-0.328401,&quot;y&quot;:0.694064,&quot;z&quot;:-0.273102},{&quot;x&quot;:-0.306889,&quot;y&quot;:0.670444,&quot;z&quot;:-0.323889}], &quot;faces&quot;:[[0,1,2],[0,3,1],[0,4,3],[0,5,4],[0,2,5],[2,1,6],[1,3,6],[3,4,6],[4,5,6],[5,2,6]], &quot;color&quot;:&quot;#0000ff&quot;, &quot;opacity&quot;:1},{&quot;vertices&quot;:[{&quot;x&quot;:-0.320952,&quot;y&quot;:0.672857,&quot;z&quot;:0.00412698},{&quot;x&quot;:-0.314566,&quot;y&quot;:0.67272,&quot;z&quot;:-0.0148256},{&quot;x&quot;:-0.326667,&quot;y&quot;:0.69,&quot;z&quot;:-0.00444444},{&quot;x&quot;:-0.311291,&quot;y&quot;:0.65563,&quot;z&quot;:0.000985097},{&quot;x&quot;:-0.321368,&quot;y&quot;:0.662347,&quot;z&quot;:0.0211377},{&quot;x&quot;:-0.33087,&quot;y&quot;:0.683589,&quot;z&quot;:0.0177821},{&quot;x&quot;:-0.326947,&quot;y&quot;:0.666529,&quot;z&quot;:-0.0189525},{&quot;x&quot;:-0.339048,&quot;y&quot;:0.68381,&quot;z&quot;:-0.00857143},{&quot;x&quot;:-0.323672,&quot;y&quot;:0.649439,&quot;z&quot;:-0.00314189},{&quot;x&quot;:-0.333749,&quot;y&quot;:0.656157,&quot;z&quot;:0.0170107},{&quot;x&quot;:-0.343251,&quot;y&quot;:0.677399,&quot;z&quot;:0.0136551},{&quot;x&quot;:-0.333333,&quot;y&quot;:0.666667,&quot;z&quot;:0}], &quot;faces&quot;:[[0,1,2],[0,3,1],[0,4,3],[0,5,4],[0,2,5],[2,1,6,7],[1,3,8,6],[3,4,9,8],[4,5,10,9],[5,2,7,10],[7,6,11],[6,8,11],[8,9,11],[9,10,11],[10,7,11]], &quot;color&quot;:&quot;#0000ff&quot;, &quot;opacity&quot;:1},{&quot;vertices&quot;:[{&quot;x&quot;:-0.166667,&quot;y&quot;:0.75,&quot;z&quot;:0.0555556},{&quot;x&quot;:-0.301794,&quot;y&quot;:0.672446,&quot;z&quot;:-0.0527306},{&quot;x&quot;:-0.338095,&quot;y&quot;:0.724286,&quot;z&quot;:-0.0215873},{&quot;x&quot;:-0.291969,&quot;y&quot;:0.621174,&quot;z&quot;:-0.00529868},{&quot;x&quot;:-0.322198,&quot;y&quot;:0.641327,&quot;z&quot;:0.0551592},{&quot;x&quot;:-0.350706,&quot;y&quot;:0.705053,&quot;z&quot;:0.0450923},{&quot;x&quot;:-0.320952,&quot;y&quot;:0.672857,&quot;z&quot;:0.00412698}], &quot;faces&quot;:[[0,1,2],[0,3,1],[0,4,3],[0,5,4],[0,2,5],[2,1,6],[1,3,6],[3,4,6],[4,5,6],[5,2,6]], &quot;color&quot;:&quot;#0000ff&quot;, &quot;opacity&quot;:1},{&quot;vertices&quot;:[{&quot;x&quot;:-0.314444,&quot;y&quot;:0.685556,&quot;z&quot;:0.342778},{&quot;x&quot;:-0.303824,&quot;y&quot;:0.683335,&quot;z&quot;:0.325977},{&quot;x&quot;:-0.321111,&quot;y&quot;:0.698889,&quot;z&quot;:0.329444},{&quot;x&quot;:-0.301214,&quot;y&quot;:0.67085,&quot;z&quot;:0.345728},{&quot;x&quot;:-0.316888,&quot;y&quot;:0.678687,&quot;z&quot;:0.361402},{&quot;x&quot;:-0.329185,&quot;y&quot;:0.696016,&quot;z&quot;:0.351338},{&quot;x&quot;:-0.322713,&quot;y&quot;:0.664447,&quot;z&quot;:0.316532},{&quot;x&quot;:-0.34,&quot;y&quot;:0.68,&quot;z&quot;:0.32},{&quot;x&quot;:-0.320103,&quot;y&quot;:0.651961,&quot;z&quot;:0.336283},{&quot;x&quot;:-0.335777,&quot;y&quot;:0.659798,&quot;z&quot;:0.351957},{&quot;x&quot;:-0.348074,&quot;y&quot;:0.677127,&quot;z&quot;:0.341894},{&quot;x&quot;:-0.333333,&quot;y&quot;:0.666667,&quot;z&quot;:0.333333}], &quot;faces&quot;:[[0,1,2],[0,3,1],[0,4,3],[0,5,4],[0,2,5],[2,1,6,7],[1,3,8,6],[3,4,9,8],[4,5,10,9],[5,2,7,10],[7,6,11],[6,8,11],[8,9,11],[9,10,11],[10,7,11]], &quot;color&quot;:&quot;#0000ff&quot;, &quot;opacity&quot;:1},{&quot;vertices&quot;:[{&quot;x&quot;:-0.194444,&quot;y&quot;:0.805556,&quot;z&quot;:0.402778},{&quot;x&quot;:-0.282583,&quot;y&quot;:0.678895,&quot;z&quot;:0.292375},{&quot;x&quot;:-0.334444,&quot;y&quot;:0.725556,&quot;z&quot;:0.302778},{&quot;x&quot;:-0.274753,&quot;y&quot;:0.641439,&quot;z&quot;:0.351627},{&quot;x&quot;:-0.321776,&quot;y&quot;:0.664951,&quot;z&quot;:0.39865},{&quot;x&quot;:-0.358667,&quot;y&quot;:0.716937,&quot;z&quot;:0.368459},{&quot;x&quot;:-0.314444,&quot;y&quot;:0.685556,&quot;z&quot;:0.342778}], &quot;faces&quot;:[[0,1,2],[0,3,1],[0,4,3],[0,5,4],[0,2,5],[2,1,6],[1,3,6],[3,4,6],[4,5,6],[5,2,6]], &quot;color&quot;:&quot;#0000ff&quot;, &quot;opacity&quot;:1},{&quot;vertices&quot;:[{&quot;x&quot;:-0.302222,&quot;y&quot;:0.721111,&quot;z&quot;:0.697778},{&quot;x&quot;:-0.287281,&quot;y&quot;:0.720151,&quot;z&quot;:0.684517},{&quot;x&quot;:-0.307009,&quot;y&quot;:0.732735,&quot;z&quot;:0.682222},{&quot;x&quot;:-0.288202,&quot;y&quot;:0.708894,&quot;z&quot;:0.705138},{&quot;x&quot;:-0.308498,&quot;y&quot;:0.71452,&quot;z&quot;:0.715587},{&quot;x&quot;:-0.320121,&quot;y&quot;:0.729255,&quot;z&quot;:0.701425},{&quot;x&quot;:-0.318392,&quot;y&quot;:0.665707,&quot;z&quot;:0.653406},{&quot;x&quot;:-0.33812,&quot;y&quot;:0.678291,&quot;z&quot;:0.651111},{&quot;x&quot;:-0.319313,&quot;y&quot;:0.654449,&quot;z&quot;:0.674027},{&quot;x&quot;:-0.339609,&quot;y&quot;:0.660076,&quot;z&quot;:0.684476},{&quot;x&quot;:-0.351232,&quot;y&quot;:0.674811,&quot;z&quot;:0.670314},{&quot;x&quot;:-0.333333,&quot;y&quot;:0.666667,&quot;z&quot;:0.666667}], &quot;faces&quot;:[[0,1,2],[0,3,1],[0,4,3],[0,5,4],[0,2,5],[2,1,6,7],[1,3,8,6],[3,4,9,8],[4,5,10,9],[5,2,7,10],[7,6,11],[6,8,11],[8,9,11],[9,10,11],[10,7,11]], &quot;color&quot;:&quot;#0000ff&quot;, &quot;opacity&quot;:1},{&quot;vertices&quot;:[{&quot;x&quot;:-0.222222,&quot;y&quot;:0.861111,&quot;z&quot;:0.777778},{&quot;x&quot;:-0.2574,&quot;y&quot;:0.718231,&quot;z&quot;:0.657995},{&quot;x&quot;:-0.316581,&quot;y&quot;:0.755983,&quot;z&quot;:0.651111},{&quot;x&quot;:-0.260161,&quot;y&quot;:0.684459,&quot;z&quot;:0.719858},{&quot;x&quot;:-0.32105,&quot;y&quot;:0.701339,&quot;z&quot;:0.751206},{&quot;x&quot;:-0.355919,&quot;y&quot;:0.745543,&quot;z&quot;:0.708718},{&quot;x&quot;:-0.302222,&quot;y&quot;:0.721111,&quot;z&quot;:0.697778}], &quot;faces&quot;:[[0,1,2],[0,3,1],[0,4,3],[0,5,4],[0,2,5],[2,1,6],[1,3,6],[3,4,6],[4,5,6],[5,2,6]], &quot;color&quot;:&quot;#0000ff&quot;, &quot;opacity&quot;:1},{&quot;vertices&quot;:[{&quot;x&quot;:-0.296957,&quot;y&quot;:0.775797,&quot;z&quot;:1.07882},{&quot;x&quot;:-0.279569,&quot;y&quot;:0.777078,&quot;z&quot;:1.06902},{&quot;x&quot;:-0.299565,&quot;y&quot;:0.787971,&quot;z&quot;:1.06316},{&quot;x&quot;:-0.283601,&quot;y&quot;:0.764415,&quot;z&quot;:1.08841},{&quot;x&quot;:-0.306091,&quot;y&quot;:0.767482,&quot;z&quot;:1.09455},{&quot;x&quot;:-0.315957,&quot;y&quot;:0.78204,&quot;z&quot;:1.07894},{&quot;x&quot;:-0.315945,&quot;y&quot;:0.667948,&quot;z&quot;:0.990201},{&quot;x&quot;:-0.335942,&quot;y&quot;:0.678841,&quot;z&quot;:0.984348},{&quot;x&quot;:-0.319978,&quot;y&quot;:0.655284,&quot;z&quot;:1.0096},{&quot;x&quot;:-0.342467,&quot;y&quot;:0.658351,&quot;z&quot;:1.01573},{&quot;x&quot;:-0.352334,&quot;y&quot;:0.67291,&quot;z&quot;:1.00013},{&quot;x&quot;:-0.333333,&quot;y&quot;:0.666667,&quot;z&quot;:1}], &quot;faces&quot;:[[0,1,2],[0,3,1],[0,4,3],[0,5,4],[0,2,5],[2,1,6,7],[1,3,8,6],[3,4,9,8],[4,5,10,9],[5,2,7,10],[7,6,11],[6,8,11],[8,9,11],[9,10,11],[10,7,11]], &quot;color&quot;:&quot;#0000ff&quot;, &quot;opacity&quot;:1},{&quot;vertices&quot;:[{&quot;x&quot;:-0.25,&quot;y&quot;:0.916667,&quot;z&quot;:1.18056},{&quot;x&quot;:-0.244793,&quot;y&quot;:0.77964,&quot;z&quot;:1.04942},{&quot;x&quot;:-0.304783,&quot;y&quot;:0.812319,&quot;z&quot;:1.03186},{&quot;x&quot;:-0.256891,&quot;y&quot;:0.74165,&quot;z&quot;:1.1076},{&quot;x&quot;:-0.324359,&quot;y&quot;:0.75085,&quot;z&quot;:1.12601},{&quot;x&quot;:-0.353957,&quot;y&quot;:0.794526,&quot;z&quot;:1.07919},{&quot;x&quot;:-0.296957,&quot;y&quot;:0.775797,&quot;z&quot;:1.07882}], &quot;faces&quot;:[[0,1,2],[0,3,1],[0,4,3],[0,5,4],[0,2,5],[2,1,6],[1,3,6],[3,4,6],[4,5,6],[5,2,6]], &quot;color&quot;:&quot;#0000ff&quot;, &quot;opacity&quot;:1},{&quot;vertices&quot;:[{&quot;x&quot;:-0.154286,&quot;y&quot;:0.910476,&quot;z&quot;:-0.940317},{&quot;x&quot;:-0.144368,&quot;y&quot;:0.921208,&quot;z&quot;:-0.953973},{&quot;x&quot;:-0.148571,&quot;y&quot;:0.927619,&quot;z&quot;:-0.931746},{&quot;x&quot;:-0.153871,&quot;y&quot;:0.899966,&quot;z&quot;:-0.957328},{&quot;x&quot;:-0.163947,&quot;y&quot;:0.893249,&quot;z&quot;:-0.937176},{&quot;x&quot;:-0.160672,&quot;y&quot;:0.910339,&quot;z&quot;:-0.921365},{&quot;x&quot;:-0.323416,&quot;y&quot;:1.01073,&quot;z&quot;:-1.01366},{&quot;x&quot;:-0.327619,&quot;y&quot;:1.01714,&quot;z&quot;:-0.991429},{&quot;x&quot;:-0.332918,&quot;y&quot;:0.98949,&quot;z&quot;:-1.01701},{&quot;x&quot;:-0.342994,&quot;y&quot;:0.982772,&quot;z&quot;:-0.996858},{&quot;x&quot;:-0.339719,&quot;y&quot;:0.999863,&quot;z&quot;:-0.981047},{&quot;x&quot;:-0.333333,&quot;y&quot;:1,&quot;z&quot;:-1}], &quot;faces&quot;:[[0,1,2],[0,3,1],[0,4,3],[0,5,4],[0,2,5],[2,1,6,7],[1,3,8,6],[3,4,9,8],[4,5,10,9],[5,2,7,10],[7,6,11],[6,8,11],[8,9,11],[9,10,11],[10,7,11]], &quot;color&quot;:&quot;#0000ff&quot;, &quot;opacity&quot;:1},{&quot;vertices&quot;:[{&quot;x&quot;:-8.32667e-17,&quot;y&quot;:0.833333,&quot;z&quot;:-0.888889},{&quot;x&quot;:-0.124533,&quot;y&quot;:0.942672,&quot;z&quot;:-0.981283},{&quot;x&quot;:-0.137143,&quot;y&quot;:0.961905,&quot;z&quot;:-0.914603},{&quot;x&quot;:-0.15304,&quot;y&quot;:0.878946,&quot;z&quot;:-0.99135},{&quot;x&quot;:-0.183269,&quot;y&quot;:0.858793,&quot;z&quot;:-0.930892},{&quot;x&quot;:-0.173444,&quot;y&quot;:0.910065,&quot;z&quot;:-0.88346},{&quot;x&quot;:-0.154286,&quot;y&quot;:0.910476,&quot;z&quot;:-0.940317}], &quot;faces&quot;:[[0,1,2],[0,3,1],[0,4,3],[0,5,4],[0,2,5],[2,1,6],[1,3,6],[3,4,6],[4,5,6],[5,2,6]], &quot;color&quot;:&quot;#0000ff&quot;, &quot;opacity&quot;:1},{&quot;vertices&quot;:[{&quot;x&quot;:-0.199952,&quot;y&quot;:0.963623,&quot;z&quot;:-0.648478},{&quot;x&quot;:-0.194961,&quot;y&quot;:0.97363,&quot;z&quot;:-0.66506},{&quot;x&quot;:-0.195537,&quot;y&quot;:0.982419,&quot;z&quot;:-0.643261},{&quot;x&quot;:-0.201282,&quot;y&quot;:0.951012,&quot;z&quot;:-0.663944},{&quot;x&quot;:-0.205764,&quot;y&quot;:0.945822,&quot;z&quot;:-0.641455},{&quot;x&quot;:-0.202214,&quot;y&quot;:0.965233,&quot;z&quot;:-0.628672},{&quot;x&quot;:-0.328343,&quot;y&quot;:1.01001,&quot;z&quot;:-0.683249},{&quot;x&quot;:-0.328919,&quot;y&quot;:1.0188,&quot;z&quot;:-0.661449},{&quot;x&quot;:-0.334664,&quot;y&quot;:0.987389,&quot;z&quot;:-0.682132},{&quot;x&quot;:-0.339146,&quot;y&quot;:0.982199,&quot;z&quot;:-0.659643},{&quot;x&quot;:-0.335595,&quot;y&quot;:1.00161,&quot;z&quot;:-0.64686},{&quot;x&quot;:-0.333333,&quot;y&quot;:1,&quot;z&quot;:-0.666667}], &quot;faces&quot;:[[0,1,2],[0,3,1],[0,4,3],[0,5,4],[0,2,5],[2,1,6,7],[1,3,8,6],[3,4,9,8],[4,5,10,9],[5,2,7,10],[7,6,11],[6,8,11],[8,9,11],[9,10,11],[10,7,11]], &quot;color&quot;:&quot;#0000ff&quot;, &quot;opacity&quot;:1},{&quot;vertices&quot;:[{&quot;x&quot;:-0.0277778,&quot;y&quot;:0.916667,&quot;z&quot;:-0.625},{&quot;x&quot;:-0.184981,&quot;y&quot;:0.993644,&quot;z&quot;:-0.698224},{&quot;x&quot;:-0.186708,&quot;y&quot;:1.02001,&quot;z&quot;:-0.632826},{&quot;x&quot;:-0.203943,&quot;y&quot;:0.925789,&quot;z&quot;:-0.694875},{&quot;x&quot;:-0.21739,&quot;y&quot;:0.91022,&quot;z&quot;:-0.627407},{&quot;x&quot;:-0.206737,&quot;y&quot;:0.968452,&quot;z&quot;:-0.589059},{&quot;x&quot;:-0.199952,&quot;y&quot;:0.963623,&quot;z&quot;:-0.648478}], &quot;faces&quot;:[[0,1,2],[0,3,1],[0,4,3],[0,5,4],[0,2,5],[2,1,6],[1,3,6],[3,4,6],[4,5,6],[5,2,6]], &quot;color&quot;:&quot;#0000ff&quot;, &quot;opacity&quot;:1},{&quot;vertices&quot;:[{&quot;x&quot;:-0.235556,&quot;y&quot;:1,&quot;z&quot;:-0.333333},{&quot;x&quot;:-0.235556,&quot;y&quot;:1.00618,&quot;z&quot;:-0.352354},{&quot;x&quot;:-0.235556,&quot;y&quot;:1.02,&quot;z&quot;:-0.333333},{&quot;x&quot;:-0.235556,&quot;y&quot;:0.98382,&quot;z&quot;:-0.345089},{&quot;x&quot;:-0.235556,&quot;y&quot;:0.98382,&quot;z&quot;:-0.321578},{&quot;x&quot;:-0.235556,&quot;y&quot;:1.00618,&quot;z&quot;:-0.314312},{&quot;x&quot;:-0.333333,&quot;y&quot;:1.00618,&quot;z&quot;:-0.352354},{&quot;x&quot;:-0.333333,&quot;y&quot;:1.02,&quot;z&quot;:-0.333333},{&quot;x&quot;:-0.333333,&quot;y&quot;:0.98382,&quot;z&quot;:-0.345089},{&quot;x&quot;:-0.333333,&quot;y&quot;:0.98382,&quot;z&quot;:-0.321578},{&quot;x&quot;:-0.333333,&quot;y&quot;:1.00618,&quot;z&quot;:-0.314312},{&quot;x&quot;:-0.333333,&quot;y&quot;:1,&quot;z&quot;:-0.333333}], &quot;faces&quot;:[[0,1,2],[0,3,1],[0,4,3],[0,5,4],[0,2,5],[2,1,6,7],[1,3,8,6],[3,4,9,8],[4,5,10,9],[5,2,7,10],[7,6,11],[6,8,11],[8,9,11],[9,10,11],[10,7,11]], &quot;color&quot;:&quot;#0000ff&quot;, &quot;opacity&quot;:1},{&quot;vertices&quot;:[{&quot;x&quot;:-0.0555556,&quot;y&quot;:1,&quot;z&quot;:-0.333333},{&quot;x&quot;:-0.235556,&quot;y&quot;:1.01854,&quot;z&quot;:-0.390397},{&quot;x&quot;:-0.235556,&quot;y&quot;:1.06,&quot;z&quot;:-0.333333},{&quot;x&quot;:-0.235556,&quot;y&quot;:0.951459,&quot;z&quot;:-0.3686},{&quot;x&quot;:-0.235556,&quot;y&quot;:0.951459,&quot;z&quot;:-0.298066},{&quot;x&quot;:-0.235556,&quot;y&quot;:1.01854,&quot;z&quot;:-0.27627},{&quot;x&quot;:-0.235556,&quot;y&quot;:1,&quot;z&quot;:-0.333333}], &quot;faces&quot;:[[0,1,2],[0,3,1],[0,4,3],[0,5,4],[0,2,5],[2,1,6],[1,3,6],[3,4,6],[4,5,6],[5,2,6]], &quot;color&quot;:&quot;#0000ff&quot;, &quot;opacity&quot;:1},{&quot;vertices&quot;:[{&quot;x&quot;:-0.25386,&quot;y&quot;:1.02649,&quot;z&quot;:-0.0044152},{&quot;x&quot;:-0.25481,&quot;y&quot;:1.02601,&quot;z&quot;:-0.0243869},{&quot;x&quot;:-0.260175,&quot;y&quot;:1.04439,&quot;z&quot;:-0.010731},{&quot;x&quot;:-0.248131,&quot;y&quot;:1.0083,&quot;z&quot;:-0.0104426},{&quot;x&quot;:-0.249369,&quot;y&quot;:1.01573,&quot;z&quot;:0.0118314},{&quot;x&quot;:-0.256812,&quot;y&quot;:1.03803,&quot;z&quot;:0.0116531},{&quot;x&quot;:-0.334284,&quot;y&quot;:0.999523,&quot;z&quot;:-0.0199717},{&quot;x&quot;:-0.339649,&quot;y&quot;:1.01789,&quot;z&quot;:-0.00631579},{&quot;x&quot;:-0.327605,&quot;y&quot;:0.981811,&quot;z&quot;:-0.0060274},{&quot;x&quot;:-0.328842,&quot;y&quot;:0.989235,&quot;z&quot;:0.0162466},{&quot;x&quot;:-0.336286,&quot;y&quot;:1.01154,&quot;z&quot;:0.0160683},{&quot;x&quot;:-0.333333,&quot;y&quot;:1,&quot;z&quot;:0}], &quot;faces&quot;:[[0,1,2],[0,3,1],[0,4,3],[0,5,4],[0,2,5],[2,1,6,7],[1,3,8,6],[3,4,9,8],[4,5,10,9],[5,2,7,10],[7,6,11],[6,8,11],[8,9,11],[9,10,11],[10,7,11]], &quot;color&quot;:&quot;#0000ff&quot;, &quot;opacity&quot;:1},{&quot;vertices&quot;:[{&quot;x&quot;:-0.0833333,&quot;y&quot;:1.08333,&quot;z&quot;:-0.0138889},{&quot;x&quot;:-0.256711,&quot;y&quot;:1.02506,&quot;z&quot;:-0.0643303},{&quot;x&quot;:-0.272807,&quot;y&quot;:1.08018,&quot;z&quot;:-0.0233626},{&quot;x&quot;:-0.236675,&quot;y&quot;:0.971923,&quot;z&quot;:-0.0224974},{&quot;x&quot;:-0.240387,&quot;y&quot;:0.994197,&quot;z&quot;:0.0443245},{&quot;x&quot;:-0.262718,&quot;y&quot;:1.0611,&quot;z&quot;:0.0437898},{&quot;x&quot;:-0.25386,&quot;y&quot;:1.02649,&quot;z&quot;:-0.0044152}], &quot;faces&quot;:[[0,1,2],[0,3,1],[0,4,3],[0,5,4],[0,2,5],[2,1,6],[1,3,6],[3,4,6],[4,5,6],[5,2,6]], &quot;color&quot;:&quot;#0000ff&quot;, &quot;opacity&quot;:1},{&quot;vertices&quot;:[{&quot;x&quot;:-0.255111,&quot;y&quot;:1.05867,&quot;z&quot;:0.333333},{&quot;x&quot;:-0.25123,&quot;y&quot;:1.05349,&quot;z&quot;:0.314408},{&quot;x&quot;:-0.264711,&quot;y&quot;:1.07147,&quot;z&quot;:0.321333},{&quot;x&quot;:-0.243112,&quot;y&quot;:1.04267,&quot;z&quot;:0.333637},{&quot;x&quot;:-0.251577,&quot;y&quot;:1.05395,&quot;z&quot;:0.352446},{&quot;x&quot;:-0.264925,&quot;y&quot;:1.07175,&quot;z&quot;:0.344842},{&quot;x&quot;:-0.329452,&quot;y&quot;:0.994825,&quot;z&quot;:0.314408},{&quot;x&quot;:-0.342933,&quot;y&quot;:1.0128,&quot;z&quot;:0.321333},{&quot;x&quot;:-0.321335,&quot;y&quot;:0.984002,&quot;z&quot;:0.333637},{&quot;x&quot;:-0.329799,&quot;y&quot;:0.995287,&quot;z&quot;:0.352446},{&quot;x&quot;:-0.343148,&quot;y&quot;:1.01309,&quot;z&quot;:0.344842},{&quot;x&quot;:-0.333333,&quot;y&quot;:1,&quot;z&quot;:0.333333}], &quot;faces&quot;:[[0,1,2],[0,3,1],[0,4,3],[0,5,4],[0,2,5],[2,1,6,7],[1,3,8,6],[3,4,9,8],[4,5,10,9],[5,2,7,10],[7,6,11],[6,8,11],[8,9,11],[9,10,11],[10,7,11]], &quot;color&quot;:&quot;#0000ff&quot;, &quot;opacity&quot;:1},{&quot;vertices&quot;:[{&quot;x&quot;:-0.111111,&quot;y&quot;:1.16667,&quot;z&quot;:0.333333},{&quot;x&quot;:-0.243468,&quot;y&quot;:1.04314,&quot;z&quot;:0.276558},{&quot;x&quot;:-0.283911,&quot;y&quot;:1.09707,&quot;z&quot;:0.297333},{&quot;x&quot;:-0.219115,&quot;y&quot;:1.01067,&quot;z&quot;:0.334244},{&quot;x&quot;:-0.244508,&quot;y&quot;:1.04453,&quot;z&quot;:0.390672},{&quot;x&quot;:-0.284554,&quot;y&quot;:1.09792,&quot;z&quot;:0.367859},{&quot;x&quot;:-0.255111,&quot;y&quot;:1.05867,&quot;z&quot;:0.333333}], &quot;faces&quot;:[[0,1,2],[0,3,1],[0,4,3],[0,5,4],[0,2,5],[2,1,6],[1,3,6],[3,4,6],[4,5,6],[5,2,6]], &quot;color&quot;:&quot;#0000ff&quot;, &quot;opacity&quot;:1},{&quot;vertices&quot;:[{&quot;x&quot;:-0.248454,&quot;y&quot;:1.10913,&quot;z&quot;:0.684855},{&quot;x&quot;:-0.238272,&quot;y&quot;:1.10395,&quot;z&quot;:0.66844},{&quot;x&quot;:-0.256882,&quot;y&quot;:1.11829,&quot;z&quot;:0.669203},{&quot;x&quot;:-0.233733,&quot;y&quot;:1.09676,&quot;z&quot;:0.690362},{&quot;x&quot;:-0.249538,&quot;y&quot;:1.10667,&quot;z&quot;:0.704674},{&quot;x&quot;:-0.263845,&quot;y&quot;:1.11998,&quot;z&quot;:0.691596},{&quot;x&quot;:-0.323151,&quot;y&quot;:0.994816,&quot;z&quot;:0.650252},{&quot;x&quot;:-0.341761,&quot;y&quot;:1.00916,&quot;z&quot;:0.651014},{&quot;x&quot;:-0.318612,&quot;y&quot;:0.987632,&quot;z&quot;:0.672174},{&quot;x&quot;:-0.334418,&quot;y&quot;:0.99754,&quot;z&quot;:0.686485},{&quot;x&quot;:-0.348725,&quot;y&quot;:1.01085,&quot;z&quot;:0.673408},{&quot;x&quot;:-0.333333,&quot;y&quot;:1,&quot;z&quot;:0.666667}], &quot;faces&quot;:[[0,1,2],[0,3,1],[0,4,3],[0,5,4],[0,2,5],[2,1,6,7],[1,3,8,6],[3,4,9,8],[4,5,10,9],[5,2,7,10],[7,6,11],[6,8,11],[8,9,11],[9,10,11],[10,7,11]], &quot;color&quot;:&quot;#0000ff&quot;, &quot;opacity&quot;:1},{&quot;vertices&quot;:[{&quot;x&quot;:-0.138889,&quot;y&quot;:1.25,&quot;z&quot;:0.708333},{&quot;x&quot;:-0.217907,&quot;y&quot;:1.09358,&quot;z&quot;:0.63561},{&quot;x&quot;:-0.273738,&quot;y&quot;:1.13662,&quot;z&quot;:0.637899},{&quot;x&quot;:-0.204291,&quot;y&quot;:1.07203,&quot;z&quot;:0.701377},{&quot;x&quot;:-0.251707,&quot;y&quot;:1.10175,&quot;z&quot;:0.744311},{&quot;x&quot;:-0.294628,&quot;y&quot;:1.14167,&quot;z&quot;:0.705079},{&quot;x&quot;:-0.248454,&quot;y&quot;:1.10913,&quot;z&quot;:0.684855}], &quot;faces&quot;:[[0,1,2],[0,3,1],[0,4,3],[0,5,4],[0,2,5],[2,1,6],[1,3,6],[3,4,6],[4,5,6],[5,2,6]], &quot;color&quot;:&quot;#0000ff&quot;, &quot;opacity&quot;:1},{&quot;vertices&quot;:[{&quot;x&quot;:-0.24381,&quot;y&quot;:1.17905,&quot;z&quot;:1.05968},{&quot;x&quot;:-0.229272,&quot;y&quot;:1.17626,&quot;z&quot;:1.04623},{&quot;x&quot;:-0.249524,&quot;y&quot;:1.18762,&quot;z&quot;:1.04254},{&quot;x&quot;:-0.22911,&quot;y&quot;:1.16875,&quot;z&quot;:1.06851},{&quot;x&quot;:-0.249263,&quot;y&quot;:1.17547,&quot;z&quot;:1.07859},{&quot;x&quot;:-0.261879,&quot;y&quot;:1.18713,&quot;z&quot;:1.06254},{&quot;x&quot;:-0.318795,&quot;y&quot;:0.997214,&quot;z&quot;:0.986551},{&quot;x&quot;:-0.339048,&quot;y&quot;:1.00857,&quot;z&quot;:0.982857},{&quot;x&quot;:-0.318634,&quot;y&quot;:0.989707,&quot;z&quot;:1.00883},{&quot;x&quot;:-0.338787,&quot;y&quot;:0.996424,&quot;z&quot;:1.01891},{&quot;x&quot;:-0.351403,&quot;y&quot;:1.00808,&quot;z&quot;:1.00285},{&quot;x&quot;:-0.333333,&quot;y&quot;:1,&quot;z&quot;:1}], &quot;faces&quot;:[[0,1,2],[0,3,1],[0,4,3],[0,5,4],[0,2,5],[2,1,6,7],[1,3,8,6],[3,4,9,8],[4,5,10,9],[5,2,7,10],[7,6,11],[6,8,11],[8,9,11],[9,10,11],[10,7,11]], &quot;color&quot;:&quot;#0000ff&quot;, &quot;opacity&quot;:1},{&quot;vertices&quot;:[{&quot;x&quot;:-0.166667,&quot;y&quot;:1.33333,&quot;z&quot;:1.11111},{&quot;x&quot;:-0.200195,&quot;y&quot;:1.17069,&quot;z&quot;:1.01933},{&quot;x&quot;:-0.260952,&quot;y&quot;:1.20476,&quot;z&quot;:1.00825},{&quot;x&quot;:-0.199712,&quot;y&quot;:1.14817,&quot;z&quot;:1.08617},{&quot;x&quot;:-0.26017,&quot;y&quot;:1.16832,&quot;z&quot;:1.1164},{&quot;x&quot;:-0.298018,&quot;y&quot;:1.2033,&quot;z&quot;:1.06825},{&quot;x&quot;:-0.24381,&quot;y&quot;:1.17905,&quot;z&quot;:1.05968}], &quot;faces&quot;:[[0,1,2],[0,3,1],[0,4,3],[0,5,4],[0,2,5],[2,1,6],[1,3,6],[3,4,6],[4,5,6],[5,2,6]], &quot;color&quot;:&quot;#0000ff&quot;, &quot;opacity&quot;:1},{&quot;vertices&quot;:[{&quot;x&quot;:-0.13,&quot;y&quot;:-0.87,&quot;z&quot;:-0.935},{&quot;x&quot;:-0.115259,&quot;y&quot;:-0.859539,&quot;z&quot;:-0.926439},{&quot;x&quot;:-0.123333,&quot;y&quot;:-0.856667,&quot;z&quot;:-0.948333},{&quot;x&quot;:-0.127556,&quot;y&quot;:-0.876868,&quot;z&quot;:-0.916376},{&quot;x&quot;:-0.143231,&quot;y&quot;:-0.884705,&quot;z&quot;:-0.93205},{&quot;x&quot;:-0.140621,&quot;y&quot;:-0.87222,&quot;z&quot;:-0.951801},{&quot;x&quot;:0.0147409,&quot;y&quot;:-0.989539,&quot;z&quot;:-0.991439},{&quot;x&quot;:0.00666667,&quot;y&quot;:-0.986667,&quot;z&quot;:-1.01333},{&quot;x&quot;:0.00244369,&quot;y&quot;:-1.00687,&quot;z&quot;:-0.981376},{&quot;x&quot;:-0.0132306,&quot;y&quot;:-1.01471,&quot;z&quot;:-0.99705},{&quot;x&quot;:-0.0106206,&quot;y&quot;:-1.00222,&quot;z&quot;:-1.0168},{&quot;x&quot;:0,&quot;y&quot;:-1,&quot;z&quot;:-1}], &quot;faces&quot;:[[0,1,2],[0,3,1],[0,4,3],[0,5,4],[0,2,5],[2,1,6,7],[1,3,8,6],[3,4,9,8],[4,5,10,9],[5,2,7,10],[7,6,11],[6,8,11],[8,9,11],[9,10,11],[10,7,11]], &quot;color&quot;:&quot;#0000ff&quot;, &quot;opacity&quot;:1},{&quot;vertices&quot;:[{&quot;x&quot;:-0.25,&quot;y&quot;:-0.75,&quot;z&quot;:-0.875},{&quot;x&quot;:-0.0857774,&quot;y&quot;:-0.838618,&quot;z&quot;:-0.909318},{&quot;x&quot;:-0.11,&quot;y&quot;:-0.83,&quot;z&quot;:-0.975},{&quot;x&quot;:-0.122669,&quot;y&quot;:-0.890605,&quot;z&quot;:-0.879128},{&quot;x&quot;:-0.169692,&quot;y&quot;:-0.914116,&quot;z&quot;:-0.926151},{&quot;x&quot;:-0.161862,&quot;y&quot;:-0.87666,&quot;z&quot;:-0.985403},{&quot;x&quot;:-0.13,&quot;y&quot;:-0.87,&quot;z&quot;:-0.935}], &quot;faces&quot;:[[0,1,2],[0,3,1],[0,4,3],[0,5,4],[0,2,5],[2,1,6],[1,3,6],[3,4,6],[4,5,6],[5,2,6]], &quot;color&quot;:&quot;#0000ff&quot;, &quot;opacity&quot;:1},{&quot;vertices&quot;:[{&quot;x&quot;:-0.102727,&quot;y&quot;:-0.931515,&quot;z&quot;:-0.643838},{&quot;x&quot;:-0.0921465,&quot;y&quot;:-0.919708,&quot;z&quot;:-0.631647},{&quot;x&quot;:-0.0951748,&quot;y&quot;:-0.91655,&quot;z&quot;:-0.654747},{&quot;x&quot;:-0.10374,&quot;y&quot;:-0.939183,&quot;z&quot;:-0.625394},{&quot;x&quot;:-0.113934,&quot;y&quot;:-0.948061,&quot;z&quot;:-0.644631},{&quot;x&quot;:-0.10864,&quot;y&quot;:-0.934074,&quot;z&quot;:-0.662772},{&quot;x&quot;:0.0105808,&quot;y&quot;:-0.988193,&quot;z&quot;:-0.654475},{&quot;x&quot;:0.00755245,&quot;y&quot;:-0.985035,&quot;z&quot;:-0.677576},{&quot;x&quot;:-0.00101318,&quot;y&quot;:-1.00767,&quot;z&quot;:-0.648223},{&quot;x&quot;:-0.0112069,&quot;y&quot;:-1.01655,&quot;z&quot;:-0.667459},{&quot;x&quot;:-0.00591309,&quot;y&quot;:-1.00256,&quot;z&quot;:-0.685601},{&quot;x&quot;:0,&quot;y&quot;:-1,&quot;z&quot;:-0.666667}], &quot;faces&quot;:[[0,1,2],[0,3,1],[0,4,3],[0,5,4],[0,2,5],[2,1,6,7],[1,3,8,6],[3,4,9,8],[4,5,10,9],[5,2,7,10],[7,6,11],[6,8,11],[8,9,11],[9,10,11],[10,7,11]], &quot;color&quot;:&quot;#0000ff&quot;, &quot;opacity&quot;:1},{&quot;vertices&quot;:[{&quot;x&quot;:-0.25,&quot;y&quot;:-0.833333,&quot;z&quot;:-0.611111},{&quot;x&quot;:-0.070985,&quot;y&quot;:-0.896093,&quot;z&quot;:-0.607263},{&quot;x&quot;:-0.0800699,&quot;y&quot;:-0.88662,&quot;z&quot;:-0.676566},{&quot;x&quot;:-0.105767,&quot;y&quot;:-0.954518,&quot;z&quot;:-0.588507},{&quot;x&quot;:-0.136348,&quot;y&quot;:-0.981154,&quot;z&quot;:-0.646216},{&quot;x&quot;:-0.120467,&quot;y&quot;:-0.93919,&quot;z&quot;:-0.70064},{&quot;x&quot;:-0.102727,&quot;y&quot;:-0.931515,&quot;z&quot;:-0.643838}], &quot;faces&quot;:[[0,1,2],[0,3,1],[0,4,3],[0,5,4],[0,2,5],[2,1,6],[1,3,6],[3,4,6],[4,5,6],[5,2,6]], &quot;color&quot;:&quot;#0000ff&quot;, &quot;opacity&quot;:1},{&quot;vertices&quot;:[{&quot;x&quot;:-0.0794737,&quot;y&quot;:-0.973509,&quot;z&quot;:-0.328918},{&quot;x&quot;:-0.0749141,&quot;y&quot;:-0.962508,&quot;z&quot;:-0.31285},{&quot;x&quot;:-0.0737895,&quot;y&quot;:-0.955404,&quot;z&quot;:-0.335234},{&quot;x&quot;:-0.0823399,&quot;y&quot;:-0.984815,&quot;z&quot;:-0.312672},{&quot;x&quot;:-0.0858047,&quot;y&quot;:-0.991497,&quot;z&quot;:-0.334946},{&quot;x&quot;:-0.0805203,&quot;y&quot;:-0.97332,&quot;z&quot;:-0.34889},{&quot;x&quot;:0.00455963,&quot;y&quot;:-0.988999,&quot;z&quot;:-0.317265},{&quot;x&quot;:0.00568421,&quot;y&quot;:-0.981895,&quot;z&quot;:-0.339649},{&quot;x&quot;:-0.0028662,&quot;y&quot;:-1.01131,&quot;z&quot;:-0.317087},{&quot;x&quot;:-0.00633104,&quot;y&quot;:-1.01799,&quot;z&quot;:-0.339361},{&quot;x&quot;:-0.0010466,&quot;y&quot;:-0.999811,&quot;z&quot;:-0.353305},{&quot;x&quot;:0,&quot;y&quot;:-1,&quot;z&quot;:-0.333333}], &quot;faces&quot;:[[0,1,2],[0,3,1],[0,4,3],[0,5,4],[0,2,5],[2,1,6,7],[1,3,8,6],[3,4,9,8],[4,5,10,9],[5,2,7,10],[7,6,11],[6,8,11],[8,9,11],[9,10,11],[10,7,11]], &quot;color&quot;:&quot;#0000ff&quot;, &quot;opacity&quot;:1},{&quot;vertices&quot;:[{&quot;x&quot;:-0.25,&quot;y&quot;:-0.916667,&quot;z&quot;:-0.319444},{&quot;x&quot;:-0.0657948,&quot;y&quot;:-0.940506,&quot;z&quot;:-0.280713},{&quot;x&quot;:-0.0624211,&quot;y&quot;:-0.919193,&quot;z&quot;:-0.347865},{&quot;x&quot;:-0.0880723,&quot;y&quot;:-1.00743,&quot;z&quot;:-0.280178},{&quot;x&quot;:-0.0984668,&quot;y&quot;:-1.02747,&quot;z&quot;:-0.347},{&quot;x&quot;:-0.0826135,&quot;y&quot;:-0.972942,&quot;z&quot;:-0.388833},{&quot;x&quot;:-0.0794737,&quot;y&quot;:-0.973509,&quot;z&quot;:-0.328918}], &quot;faces&quot;:[[0,1,2],[0,3,1],[0,4,3],[0,5,4],[0,2,5],[2,1,6],[1,3,6],[3,4,6],[4,5,6],[5,2,6]], &quot;color&quot;:&quot;#0000ff&quot;, &quot;opacity&quot;:1},{&quot;vertices&quot;:[{&quot;x&quot;:-0.07,&quot;y&quot;:-1,&quot;z&quot;:4.28626e-18},{&quot;x&quot;:-0.07,&quot;y&quot;:-0.99382,&quot;z&quot;:0.0190211},{&quot;x&quot;:-0.07,&quot;y&quot;:-0.98,&quot;z&quot;:4.28626e-18},{&quot;x&quot;:-0.07,&quot;y&quot;:-1.01618,&quot;z&quot;:0.0117557},{&quot;x&quot;:-0.07,&quot;y&quot;:-1.01618,&quot;z&quot;:-0.0117557},{&quot;x&quot;:-0.07,&quot;y&quot;:-0.99382,&quot;z&quot;:-0.0190211},{&quot;x&quot;:1.16471e-18,&quot;y&quot;:-0.99382,&quot;z&quot;:0.0190211},{&quot;x&quot;:0,&quot;y&quot;:-0.98,&quot;z&quot;:0},{&quot;x&quot;:7.19829e-19,&quot;y&quot;:-1.01618,&quot;z&quot;:0.0117557},{&quot;x&quot;:-7.19829e-19,&quot;y&quot;:-1.01618,&quot;z&quot;:-0.0117557},{&quot;x&quot;:-1.16471e-18,&quot;y&quot;:-0.99382,&quot;z&quot;:-0.0190211},{&quot;x&quot;:0,&quot;y&quot;:-1,&quot;z&quot;:0}], &quot;faces&quot;:[[0,1,2],[0,3,1],[0,4,3],[0,5,4],[0,2,5],[2,1,6,7],[1,3,8,6],[3,4,9,8],[4,5,10,9],[5,2,7,10],[7,6,11],[6,8,11],[8,9,11],[9,10,11],[10,7,11]], &quot;color&quot;:&quot;#0000ff&quot;, &quot;opacity&quot;:1},{&quot;vertices&quot;:[{&quot;x&quot;:-0.25,&quot;y&quot;:-1,&quot;z&quot;:1.53081e-17},{&quot;x&quot;:-0.07,&quot;y&quot;:-0.981459,&quot;z&quot;:0.0570634},{&quot;x&quot;:-0.07,&quot;y&quot;:-0.94,&quot;z&quot;:4.28626e-18},{&quot;x&quot;:-0.07,&quot;y&quot;:-1.04854,&quot;z&quot;:0.0352671},{&quot;x&quot;:-0.07,&quot;y&quot;:-1.04854,&quot;z&quot;:-0.0352671},{&quot;x&quot;:-0.07,&quot;y&quot;:-0.981459,&quot;z&quot;:-0.0570634},{&quot;x&quot;:-0.07,&quot;y&quot;:-1,&quot;z&quot;:4.28626e-18}], &quot;faces&quot;:[[0,1,2],[0,3,1],[0,4,3],[0,5,4],[0,2,5],[2,1,6],[1,3,6],[3,4,6],[4,5,6],[5,2,6]], &quot;color&quot;:&quot;#0000ff&quot;, &quot;opacity&quot;:1},{&quot;vertices&quot;:[{&quot;x&quot;:-0.0794737,&quot;y&quot;:-1.02649,&quot;z&quot;:0.337749},{&quot;x&quot;:-0.0784271,&quot;y&quot;:-1.0263,&quot;z&quot;:0.35772},{&quot;x&quot;:-0.0851579,&quot;y&quot;:-1.00839,&quot;z&quot;:0.344064},{&quot;x&quot;:-0.0731426,&quot;y&quot;:-1.04448,&quot;z&quot;:0.343776},{&quot;x&quot;:-0.0766075,&quot;y&quot;:-1.0378,&quot;z&quot;:0.321502},{&quot;x&quot;:-0.0840333,&quot;y&quot;:-1.01549,&quot;z&quot;:0.32168},{&quot;x&quot;:0.0010466,&quot;y&quot;:-0.999811,&quot;z&quot;:0.353305},{&quot;x&quot;:-0.00568421,&quot;y&quot;:-0.981895,&quot;z&quot;:0.339649},{&quot;x&quot;:0.00633104,&quot;y&quot;:-1.01799,&quot;z&quot;:0.339361},{&quot;x&quot;:0.0028662,&quot;y&quot;:-1.01131,&quot;z&quot;:0.317087},{&quot;x&quot;:-0.00455963,&quot;y&quot;:-0.988999,&quot;z&quot;:0.317265},{&quot;x&quot;:0,&quot;y&quot;:-1,&quot;z&quot;:0.333333}], &quot;faces&quot;:[[0,1,2],[0,3,1],[0,4,3],[0,5,4],[0,2,5],[2,1,6,7],[1,3,8,6],[3,4,9,8],[4,5,10,9],[5,2,7,10],[7,6,11],[6,8,11],[8,9,11],[9,10,11],[10,7,11]], &quot;color&quot;:&quot;#0000ff&quot;, &quot;opacity&quot;:1},{&quot;vertices&quot;:[{&quot;x&quot;:-0.25,&quot;y&quot;:-1.08333,&quot;z&quot;:0.347222},{&quot;x&quot;:-0.0763339,&quot;y&quot;:-1.02592,&quot;z&quot;:0.397664},{&quot;x&quot;:-0.0965263,&quot;y&quot;:-0.972175,&quot;z&quot;:0.356696},{&quot;x&quot;:-0.0604806,&quot;y&quot;:-1.08046,&quot;z&quot;:0.355831},{&quot;x&quot;:-0.0708751,&quot;y&quot;:-1.06041,&quot;z&quot;:0.289009},{&quot;x&quot;:-0.0931526,&quot;y&quot;:-0.993489,&quot;z&quot;:0.289544},{&quot;x&quot;:-0.0794737,&quot;y&quot;:-1.02649,&quot;z&quot;:0.337749}], &quot;faces&quot;:[[0,1,2],[0,3,1],[0,4,3],[0,5,4],[0,2,5],[2,1,6],[1,3,6],[3,4,6],[4,5,6],[5,2,6]], &quot;color&quot;:&quot;#0000ff&quot;, &quot;opacity&quot;:1},{&quot;vertices&quot;:[{&quot;x&quot;:-0.102727,&quot;y&quot;:-1.06848,&quot;z&quot;:0.689495},{&quot;x&quot;:-0.0968142,&quot;y&quot;:-1.07104,&quot;z&quot;:0.708429},{&quot;x&quot;:-0.11028,&quot;y&quot;:-1.05352,&quot;z&quot;:0.700404},{&quot;x&quot;:-0.0915203,&quot;y&quot;:-1.08503,&quot;z&quot;:0.690288},{&quot;x&quot;:-0.101714,&quot;y&quot;:-1.07615,&quot;z&quot;:0.671051},{&quot;x&quot;:-0.113308,&quot;y&quot;:-1.05668,&quot;z&quot;:0.677303},{&quot;x&quot;:0.00591309,&quot;y&quot;:-1.00256,&quot;z&quot;:0.685601},{&quot;x&quot;:-0.00755245,&quot;y&quot;:-0.985035,&quot;z&quot;:0.677576},{&quot;x&quot;:0.0112069,&quot;y&quot;:-1.01655,&quot;z&quot;:0.667459},{&quot;x&quot;:0.00101318,&quot;y&quot;:-1.00767,&quot;z&quot;:0.648223},{&quot;x&quot;:-0.0105808,&quot;y&quot;:-0.988193,&quot;z&quot;:0.654475},{&quot;x&quot;:0,&quot;y&quot;:-1,&quot;z&quot;:0.666667}], &quot;faces&quot;:[[0,1,2],[0,3,1],[0,4,3],[0,5,4],[0,2,5],[2,1,6,7],[1,3,8,6],[3,4,9,8],[4,5,10,9],[5,2,7,10],[7,6,11],[6,8,11],[8,9,11],[9,10,11],[10,7,11]], &quot;color&quot;:&quot;#0000ff&quot;, &quot;opacity&quot;:1},{&quot;vertices&quot;:[{&quot;x&quot;:-0.25,&quot;y&quot;:-1.16667,&quot;z&quot;:0.722222},{&quot;x&quot;:-0.084988,&quot;y&quot;:-1.07616,&quot;z&quot;:0.746296},{&quot;x&quot;:-0.125385,&quot;y&quot;:-1.02359,&quot;z&quot;:0.722222},{&quot;x&quot;:-0.0691065,&quot;y&quot;:-1.11812,&quot;z&quot;:0.691873},{&quot;x&quot;:-0.0996877,&quot;y&quot;:-1.09149,&quot;z&quot;:0.634163},{&quot;x&quot;:-0.13447,&quot;y&quot;:-1.03306,&quot;z&quot;:0.65292},{&quot;x&quot;:-0.102727,&quot;y&quot;:-1.06848,&quot;z&quot;:0.689495}], &quot;faces&quot;:[[0,1,2],[0,3,1],[0,4,3],[0,5,4],[0,2,5],[2,1,6],[1,3,6],[3,4,6],[4,5,6],[5,2,6]], &quot;color&quot;:&quot;#0000ff&quot;, &quot;opacity&quot;:1},{&quot;vertices&quot;:[{&quot;x&quot;:-0.13,&quot;y&quot;:-1.13,&quot;z&quot;:1.065},{&quot;x&quot;:-0.119379,&quot;y&quot;:-1.13222,&quot;z&quot;:1.0818},{&quot;x&quot;:-0.136667,&quot;y&quot;:-1.11667,&quot;z&quot;:1.07833},{&quot;x&quot;:-0.116769,&quot;y&quot;:-1.14471,&quot;z&quot;:1.06205},{&quot;x&quot;:-0.132444,&quot;y&quot;:-1.13687,&quot;z&quot;:1.04638},{&quot;x&quot;:-0.144741,&quot;y&quot;:-1.11954,&quot;z&quot;:1.05644},{&quot;x&quot;:0.0106206,&quot;y&quot;:-1.00222,&quot;z&quot;:1.0168},{&quot;x&quot;:-0.00666667,&quot;y&quot;:-0.986667,&quot;z&quot;:1.01333},{&quot;x&quot;:0.0132306,&quot;y&quot;:-1.01471,&quot;z&quot;:0.99705},{&quot;x&quot;:-0.00244369,&quot;y&quot;:-1.00687,&quot;z&quot;:0.981376},{&quot;x&quot;:-0.0147409,&quot;y&quot;:-0.989539,&quot;z&quot;:0.991439},{&quot;x&quot;:0,&quot;y&quot;:-1,&quot;z&quot;:1}], &quot;faces&quot;:[[0,1,2],[0,3,1],[0,4,3],[0,5,4],[0,2,5],[2,1,6,7],[1,3,8,6],[3,4,9,8],[4,5,10,9],[5,2,7,10],[7,6,11],[6,8,11],[8,9,11],[9,10,11],[10,7,11]], &quot;color&quot;:&quot;#0000ff&quot;, &quot;opacity&quot;:1},{&quot;vertices&quot;:[{&quot;x&quot;:-0.25,&quot;y&quot;:-1.25,&quot;z&quot;:1.125},{&quot;x&quot;:-0.0981381,&quot;y&quot;:-1.13666,&quot;z&quot;:1.1154},{&quot;x&quot;:-0.15,&quot;y&quot;:-1.09,&quot;z&quot;:1.105},{&quot;x&quot;:-0.0903083,&quot;y&quot;:-1.17412,&quot;z&quot;:1.05615},{&quot;x&quot;:-0.137331,&quot;y&quot;:-1.1506,&quot;z&quot;:1.00913},{&quot;x&quot;:-0.174223,&quot;y&quot;:-1.09862,&quot;z&quot;:1.03932},{&quot;x&quot;:-0.13,&quot;y&quot;:-1.13,&quot;z&quot;:1.065}], &quot;faces&quot;:[[0,1,2],[0,3,1],[0,4,3],[0,5,4],[0,2,5],[2,1,6],[1,3,6],[3,4,6],[4,5,6],[5,2,6]], &quot;color&quot;:&quot;#0000ff&quot;, &quot;opacity&quot;:1},{&quot;vertices&quot;:[{&quot;x&quot;:-0.0684848,&quot;y&quot;:-0.598182,&quot;z&quot;:-0.920101},{&quot;x&quot;:-0.0517984,&quot;y&quot;:-0.589667,&quot;z&quot;:-0.913097},{&quot;x&quot;:-0.0648485,&quot;y&quot;:-0.581818,&quot;z&quot;:-0.93101},{&quot;x&quot;:-0.0618084,&quot;y&quot;:-0.609283,&quot;z&quot;:-0.904863},{&quot;x&quot;:-0.081045,&quot;y&quot;:-0.613558,&quot;z&quot;:-0.917688},{&quot;x&quot;:-0.0829239,&quot;y&quot;:-0.596584,&quot;z&quot;:-0.933847},{&quot;x&quot;:0.0166864,&quot;y&quot;:-0.658152,&quot;z&quot;:-0.992996},{&quot;x&quot;:0.00363636,&quot;y&quot;:-0.650303,&quot;z&quot;:-1.01091},{&quot;x&quot;:0.00667642,&quot;y&quot;:-0.677768,&quot;z&quot;:-0.984762},{&quot;x&quot;:-0.0125602,&quot;y&quot;:-0.682043,&quot;z&quot;:-0.997587},{&quot;x&quot;:-0.014439,&quot;y&quot;:-0.665068,&quot;z&quot;:-1.01375},{&quot;x&quot;:0,&quot;y&quot;:-0.666667,&quot;z&quot;:-1}], &quot;faces&quot;:[[0,1,2],[0,3,1],[0,4,3],[0,5,4],[0,2,5],[2,1,6,7],[1,3,8,6],[3,4,9,8],[4,5,10,9],[5,2,7,10],[7,6,11],[6,8,11],[8,9,11],[9,10,11],[10,7,11]], &quot;color&quot;:&quot;#0000ff&quot;, &quot;opacity&quot;:1},{&quot;vertices&quot;:[{&quot;x&quot;:-0.166667,&quot;y&quot;:-0.5,&quot;z&quot;:-0.805556},{&quot;x&quot;:-0.0184255,&quot;y&quot;:-0.572637,&quot;z&quot;:-0.899089},{&quot;x&quot;:-0.0575758,&quot;y&quot;:-0.549091,&quot;z&quot;:-0.952828},{&quot;x&quot;:-0.0484556,&quot;y&quot;:-0.631485,&quot;z&quot;:-0.874387},{&quot;x&quot;:-0.106165,&quot;y&quot;:-0.644309,&quot;z&quot;:-0.912861},{&quot;x&quot;:-0.111802,&quot;y&quot;:-0.593387,&quot;z&quot;:-0.96134},{&quot;x&quot;:-0.0684848,&quot;y&quot;:-0.598182,&quot;z&quot;:-0.920101}], &quot;faces&quot;:[[0,1,2],[0,3,1],[0,4,3],[0,5,4],[0,2,5],[2,1,6],[1,3,6],[3,4,6],[4,5,6],[5,2,6]], &quot;color&quot;:&quot;#0000ff&quot;, &quot;opacity&quot;:1},{&quot;vertices&quot;:[{&quot;x&quot;:-0.0396078,&quot;y&quot;:-0.640261,&quot;z&quot;:-0.636961},{&quot;x&quot;:-0.0254413,&quot;y&quot;:-0.630845,&quot;z&quot;:-0.626442},{&quot;x&quot;:-0.035264,&quot;y&quot;:-0.623157,&quot;z&quot;:-0.646373},{&quot;x&quot;:-0.0351963,&quot;y&quot;:-0.651546,&quot;z&quot;:-0.621048},{&quot;x&quot;:-0.0510479,&quot;y&quot;:-0.656652,&quot;z&quot;:-0.637645},{&quot;x&quot;:-0.0510897,&quot;y&quot;:-0.639107,&quot;z&quot;:-0.653296},{&quot;x&quot;:0.0141665,&quot;y&quot;:-0.65725,&quot;z&quot;:-0.656148},{&quot;x&quot;:0.00434389,&quot;y&quot;:-0.649563,&quot;z&quot;:-0.676078},{&quot;x&quot;:0.00441151,&quot;y&quot;:-0.677951,&quot;z&quot;:-0.650754},{&quot;x&quot;:-0.0114401,&quot;y&quot;:-0.683057,&quot;z&quot;:-0.667351},{&quot;x&quot;:-0.0114819,&quot;y&quot;:-0.665513,&quot;z&quot;:-0.683002},{&quot;x&quot;:0,&quot;y&quot;:-0.666667,&quot;z&quot;:-0.666667}], &quot;faces&quot;:[[0,1,2],[0,3,1],[0,4,3],[0,5,4],[0,2,5],[2,1,6,7],[1,3,8,6],[3,4,9,8],[4,5,10,9],[5,2,7,10],[7,6,11],[6,8,11],[8,9,11],[9,10,11],[10,7,11]], &quot;color&quot;:&quot;#0000ff&quot;, &quot;opacity&quot;:1},{&quot;vertices&quot;:[{&quot;x&quot;:-0.166667,&quot;y&quot;:-0.555556,&quot;z&quot;:-0.541667},{&quot;x&quot;:0.00289177,&quot;y&quot;:-0.612011,&quot;z&quot;:-0.605406},{&quot;x&quot;:-0.0265762,&quot;y&quot;:-0.588949,&quot;z&quot;:-0.665196},{&quot;x&quot;:-0.0263733,&quot;y&quot;:-0.674114,&quot;z&quot;:-0.589224},{&quot;x&quot;:-0.0739281,&quot;y&quot;:-0.689434,&quot;z&quot;:-0.639012},{&quot;x&quot;:-0.0740534,&quot;y&quot;:-0.636799,&quot;z&quot;:-0.685966},{&quot;x&quot;:-0.0396078,&quot;y&quot;:-0.640261,&quot;z&quot;:-0.636961}], &quot;faces&quot;:[[0,1,2],[0,3,1],[0,4,3],[0,5,4],[0,2,5],[2,1,6],[1,3,6],[3,4,6],[4,5,6],[5,2,6]], &quot;color&quot;:&quot;#0000ff&quot;, &quot;opacity&quot;:1},{&quot;vertices&quot;:[{&quot;x&quot;:-0.012381,&quot;y&quot;:-0.66254,&quot;z&quot;:-0.327143},{&quot;x&quot;:-0.00208263,&quot;y&quot;:-0.653452,&quot;z&quot;:-0.312605},{&quot;x&quot;:-0.00895238,&quot;y&quot;:-0.643683,&quot;z&quot;:-0.332857},{&quot;x&quot;:-0.00944481,&quot;y&quot;:-0.67578,&quot;z&quot;:-0.312444},{&quot;x&quot;:-0.0208646,&quot;y&quot;:-0.679811,&quot;z&quot;:-0.332596},{&quot;x&quot;:-0.0205603,&quot;y&quot;:-0.659973,&quot;z&quot;:-0.345212},{&quot;x&quot;:0.0102983,&quot;y&quot;:-0.657579,&quot;z&quot;:-0.318795},{&quot;x&quot;:0.00342857,&quot;y&quot;:-0.64781,&quot;z&quot;:-0.339048},{&quot;x&quot;:0.00293614,&quot;y&quot;:-0.679907,&quot;z&quot;:-0.318634},{&quot;x&quot;:-0.00848369,&quot;y&quot;:-0.683938,&quot;z&quot;:-0.338787},{&quot;x&quot;:-0.00817935,&quot;y&quot;:-0.6641,&quot;z&quot;:-0.351403},{&quot;x&quot;:0,&quot;y&quot;:-0.666667,&quot;z&quot;:-0.333333}], &quot;faces&quot;:[[0,1,2],[0,3,1],[0,4,3],[0,5,4],[0,2,5],[2,1,6,7],[1,3,8,6],[3,4,9,8],[4,5,10,9],[5,2,7,10],[7,6,11],[6,8,11],[8,9,11],[9,10,11],[10,7,11]], &quot;color&quot;:&quot;#0000ff&quot;, &quot;opacity&quot;:1},{&quot;vertices&quot;:[{&quot;x&quot;:-0.166667,&quot;y&quot;:-0.611111,&quot;z&quot;:-0.25},{&quot;x&quot;:0.018514,&quot;y&quot;:-0.635276,&quot;z&quot;:-0.283529},{&quot;x&quot;:-0.00209524,&quot;y&quot;:-0.605968,&quot;z&quot;:-0.344286},{&quot;x&quot;:-0.00357253,&quot;y&quot;:-0.702261,&quot;z&quot;:-0.283045},{&quot;x&quot;:-0.037832,&quot;y&quot;:-0.714353,&quot;z&quot;:-0.343503},{&quot;x&quot;:-0.036919,&quot;y&quot;:-0.65484,&quot;z&quot;:-0.381352},{&quot;x&quot;:-0.012381,&quot;y&quot;:-0.66254,&quot;z&quot;:-0.327143}], &quot;faces&quot;:[[0,1,2],[0,3,1],[0,4,3],[0,5,4],[0,2,5],[2,1,6],[1,3,6],[3,4,6],[4,5,6],[5,2,6]], &quot;color&quot;:&quot;#0000ff&quot;, &quot;opacity&quot;:1},{&quot;vertices&quot;:[{&quot;x&quot;:-0.000512821,&quot;y&quot;:-0.666667,&quot;z&quot;:0.000213675},{&quot;x&quot;:0.006803,&quot;y&quot;:-0.660486,&quot;z&quot;:0.0177716},{&quot;x&quot;:-0.000512821,&quot;y&quot;:-0.646667,&quot;z&quot;:0.000213675},{&quot;x&quot;:0.0040086,&quot;y&quot;:-0.682847,&quot;z&quot;:0.0110651},{&quot;x&quot;:-0.00503425,&quot;y&quot;:-0.682847,&quot;z&quot;:-0.0106377},{&quot;x&quot;:-0.00782864,&quot;y&quot;:-0.660486,&quot;z&quot;:-0.0173443},{&quot;x&quot;:0.00731582,&quot;y&quot;:-0.660486,&quot;z&quot;:0.017558},{&quot;x&quot;:0,&quot;y&quot;:-0.646667,&quot;z&quot;:0},{&quot;x&quot;:0.00452143,&quot;y&quot;:-0.682847,&quot;z&quot;:0.0108514},{&quot;x&quot;:-0.00452143,&quot;y&quot;:-0.682847,&quot;z&quot;:-0.0108514},{&quot;x&quot;:-0.00731582,&quot;y&quot;:-0.660486,&quot;z&quot;:-0.017558},{&quot;x&quot;:0,&quot;y&quot;:-0.666667,&quot;z&quot;:0}], &quot;faces&quot;:[[0,1,2],[0,3,1],[0,4,3],[0,5,4],[0,2,5],[2,1,6,7],[1,3,8,6],[3,4,9,8],[4,5,10,9],[5,2,7,10],[7,6,11],[6,8,11],[8,9,11],[9,10,11],[10,7,11]], &quot;color&quot;:&quot;#0000ff&quot;, &quot;opacity&quot;:1},{&quot;vertices&quot;:[{&quot;x&quot;:-0.166667,&quot;y&quot;:-0.666667,&quot;z&quot;:0.0694444},{&quot;x&quot;:0.0214346,&quot;y&quot;:-0.648126,&quot;z&quot;:0.0528876},{&quot;x&quot;:-0.000512821,&quot;y&quot;:-0.606667,&quot;z&quot;:0.000213675},{&quot;x&quot;:0.0130515,&quot;y&quot;:-0.715208,&quot;z&quot;:0.0327679},{&quot;x&quot;:-0.0140771,&quot;y&quot;:-0.715208,&quot;z&quot;:-0.0323406},{&quot;x&quot;:-0.0224603,&quot;y&quot;:-0.648126,&quot;z&quot;:-0.0524602},{&quot;x&quot;:-0.000512821,&quot;y&quot;:-0.666667,&quot;z&quot;:0.000213675}], &quot;faces&quot;:[[0,1,2],[0,3,1],[0,4,3],[0,5,4],[0,2,5],[2,1,6],[1,3,6],[3,4,6],[4,5,6],[5,2,6]], &quot;color&quot;:&quot;#0000ff&quot;, &quot;opacity&quot;:1},{&quot;vertices&quot;:[{&quot;x&quot;:-0.012381,&quot;y&quot;:-0.670794,&quot;z&quot;:0.339524},{&quot;x&quot;:-0.0042016,&quot;y&quot;:-0.668227,&quot;z&quot;:0.357593},{&quot;x&quot;:-0.0158095,&quot;y&quot;:-0.651937,&quot;z&quot;:0.345238},{&quot;x&quot;:-0.00389727,&quot;y&quot;:-0.688065,&quot;z&quot;:0.344977},{&quot;x&quot;:-0.0153171,&quot;y&quot;:-0.684034,&quot;z&quot;:0.324825},{&quot;x&quot;:-0.0226793,&quot;y&quot;:-0.661706,&quot;z&quot;:0.324986},{&quot;x&quot;:0.00817935,&quot;y&quot;:-0.6641,&quot;z&quot;:0.351403},{&quot;x&quot;:-0.00342857,&quot;y&quot;:-0.64781,&quot;z&quot;:0.339048},{&quot;x&quot;:0.00848369,&quot;y&quot;:-0.683938,&quot;z&quot;:0.338787},{&quot;x&quot;:-0.00293614,&quot;y&quot;:-0.679907,&quot;z&quot;:0.318634},{&quot;x&quot;:-0.0102983,&quot;y&quot;:-0.657579,&quot;z&quot;:0.318795},{&quot;x&quot;:0,&quot;y&quot;:-0.666667,&quot;z&quot;:0.333333}], &quot;faces&quot;:[[0,1,2],[0,3,1],[0,4,3],[0,5,4],[0,2,5],[2,1,6,7],[1,3,8,6],[3,4,9,8],[4,5,10,9],[5,2,7,10],[7,6,11],[6,8,11],[8,9,11],[9,10,11],[10,7,11]], &quot;color&quot;:&quot;#0000ff&quot;, &quot;opacity&quot;:1},{&quot;vertices&quot;:[{&quot;x&quot;:-0.166667,&quot;y&quot;:-0.722222,&quot;z&quot;:0.416667},{&quot;x&quot;:0.0121571,&quot;y&quot;:-0.663094,&quot;z&quot;:0.393733},{&quot;x&quot;:-0.0226667,&quot;y&quot;:-0.614222,&quot;z&quot;:0.356667},{&quot;x&quot;:0.0130701,&quot;y&quot;:-0.722607,&quot;z&quot;:0.355884},{&quot;x&quot;:-0.0211894,&quot;y&quot;:-0.710515,&quot;z&quot;:0.295426},{&quot;x&quot;:-0.0432759,&quot;y&quot;:-0.64353,&quot;z&quot;:0.29591},{&quot;x&quot;:-0.012381,&quot;y&quot;:-0.670794,&quot;z&quot;:0.339524}], &quot;faces&quot;:[[0,1,2],[0,3,1],[0,4,3],[0,5,4],[0,2,5],[2,1,6],[1,3,6],[3,4,6],[4,5,6],[5,2,6]], &quot;color&quot;:&quot;#0000ff&quot;, &quot;opacity&quot;:1},{&quot;vertices&quot;:[{&quot;x&quot;:-0.0396078,&quot;y&quot;:-0.693072,&quot;z&quot;:0.696373},{&quot;x&quot;:-0.028126,&quot;y&quot;:-0.691918,&quot;z&quot;:0.712708},{&quot;x&quot;:-0.0439517,&quot;y&quot;:-0.675968,&quot;z&quot;:0.705784},{&quot;x&quot;:-0.0281678,&quot;y&quot;:-0.709463,&quot;z&quot;:0.697056},{&quot;x&quot;:-0.0440194,&quot;y&quot;:-0.704356,&quot;z&quot;:0.68046},{&quot;x&quot;:-0.0537744,&quot;y&quot;:-0.683655,&quot;z&quot;:0.685854},{&quot;x&quot;:0.0114819,&quot;y&quot;:-0.665513,&quot;z&quot;:0.683002},{&quot;x&quot;:-0.00434389,&quot;y&quot;:-0.649563,&quot;z&quot;:0.676078},{&quot;x&quot;:0.0114401,&quot;y&quot;:-0.683057,&quot;z&quot;:0.667351},{&quot;x&quot;:-0.00441151,&quot;y&quot;:-0.677951,&quot;z&quot;:0.650754},{&quot;x&quot;:-0.0141665,&quot;y&quot;:-0.65725,&quot;z&quot;:0.656148},{&quot;x&quot;:0,&quot;y&quot;:-0.666667,&quot;z&quot;:0.666667}], &quot;faces&quot;:[[0,1,2],[0,3,1],[0,4,3],[0,5,4],[0,2,5],[2,1,6,7],[1,3,8,6],[3,4,9,8],[4,5,10,9],[5,2,7,10],[7,6,11],[6,8,11],[8,9,11],[9,10,11],[10,7,11]], &quot;color&quot;:&quot;#0000ff&quot;, &quot;opacity&quot;:1},{&quot;vertices&quot;:[{&quot;x&quot;:-0.166667,&quot;y&quot;:-0.777778,&quot;z&quot;:0.791667},{&quot;x&quot;:-0.00516225,&quot;y&quot;:-0.689609,&quot;z&quot;:0.745378},{&quot;x&quot;:-0.0526395,&quot;y&quot;:-0.64176,&quot;z&quot;:0.724608},{&quot;x&quot;:-0.00528762,&quot;y&quot;:-0.742244,&quot;z&quot;:0.698424},{&quot;x&quot;:-0.0528424,&quot;y&quot;:-0.726925,&quot;z&quot;:0.648635},{&quot;x&quot;:-0.0821075,&quot;y&quot;:-0.664822,&quot;z&quot;:0.664818},{&quot;x&quot;:-0.0396078,&quot;y&quot;:-0.693072,&quot;z&quot;:0.696373}], &quot;faces&quot;:[[0,1,2],[0,3,1],[0,4,3],[0,5,4],[0,2,5],[2,1,6],[1,3,6],[3,4,6],[4,5,6],[5,2,6]], &quot;color&quot;:&quot;#0000ff&quot;, &quot;opacity&quot;:1},{&quot;vertices&quot;:[{&quot;x&quot;:-0.0684848,&quot;y&quot;:-0.735152,&quot;z&quot;:1.0799},{&quot;x&quot;:-0.0540458,&quot;y&quot;:-0.733553,&quot;z&quot;:1.09365},{&quot;x&quot;:-0.0721212,&quot;y&quot;:-0.718788,&quot;z&quot;:1.09081},{&quot;x&quot;:-0.0559247,&quot;y&quot;:-0.750527,&quot;z&quot;:1.07749},{&quot;x&quot;:-0.0751613,&quot;y&quot;:-0.746253,&quot;z&quot;:1.06466},{&quot;x&quot;:-0.0851713,&quot;y&quot;:-0.726636,&quot;z&quot;:1.07289},{&quot;x&quot;:0.014439,&quot;y&quot;:-0.665068,&quot;z&quot;:1.01375},{&quot;x&quot;:-0.00363636,&quot;y&quot;:-0.650303,&quot;z&quot;:1.01091},{&quot;x&quot;:0.0125602,&quot;y&quot;:-0.682043,&quot;z&quot;:0.997587},{&quot;x&quot;:-0.00667642,&quot;y&quot;:-0.677768,&quot;z&quot;:0.984762},{&quot;x&quot;:-0.0166864,&quot;y&quot;:-0.658152,&quot;z&quot;:0.992996},{&quot;x&quot;:0,&quot;y&quot;:-0.666667,&quot;z&quot;:1}], &quot;faces&quot;:[[0,1,2],[0,3,1],[0,4,3],[0,5,4],[0,2,5],[2,1,6,7],[1,3,8,6],[3,4,9,8],[4,5,10,9],[5,2,7,10],[7,6,11],[6,8,11],[8,9,11],[9,10,11],[10,7,11]], &quot;color&quot;:&quot;#0000ff&quot;, &quot;opacity&quot;:1},{&quot;vertices&quot;:[{&quot;x&quot;:-0.166667,&quot;y&quot;:-0.833333,&quot;z&quot;:1.19444},{&quot;x&quot;:-0.0251677,&quot;y&quot;:-0.730357,&quot;z&quot;:1.12114},{&quot;x&quot;:-0.0793939,&quot;y&quot;:-0.686061,&quot;z&quot;:1.11263},{&quot;x&quot;:-0.0308043,&quot;y&quot;:-0.781279,&quot;z&quot;:1.07266},{&quot;x&quot;:-0.0885141,&quot;y&quot;:-0.768455,&quot;z&quot;:1.03419},{&quot;x&quot;:-0.118544,&quot;y&quot;:-0.709606,&quot;z&quot;:1.05889},{&quot;x&quot;:-0.0684848,&quot;y&quot;:-0.735152,&quot;z&quot;:1.0799}], &quot;faces&quot;:[[0,1,2],[0,3,1],[0,4,3],[0,5,4],[0,2,5],[2,1,6],[1,3,6],[3,4,6],[4,5,6],[5,2,6]], &quot;color&quot;:&quot;#0000ff&quot;, &quot;opacity&quot;:1},{&quot;vertices&quot;:[{&quot;x&quot;:-0.0264912,&quot;y&quot;:-0.306842,&quot;z&quot;:-0.924942},{&quot;x&quot;:-0.00814593,&quot;y&quot;:-0.299986,&quot;z&quot;:-0.920887},{&quot;x&quot;:-0.0254386,&quot;y&quot;:-0.287895,&quot;z&quot;:-0.931257},{&quot;x&quot;:-0.0162058,&quot;y&quot;:-0.321552,&quot;z&quot;:-0.91612},{&quot;x&quot;:-0.0384798,&quot;y&quot;:-0.32279,&quot;z&quot;:-0.923544},{&quot;x&quot;:-0.044186,&quot;y&quot;:-0.301988,&quot;z&quot;:-0.9329},{&quot;x&quot;:0.0183453,&quot;y&quot;:-0.326477,&quot;z&quot;:-0.995945},{&quot;x&quot;:0.00105263,&quot;y&quot;:-0.314386,&quot;z&quot;:-1.00632},{&quot;x&quot;:0.0102854,&quot;y&quot;:-0.348043,&quot;z&quot;:-0.991178},{&quot;x&quot;:-0.0119886,&quot;y&quot;:-0.349281,&quot;z&quot;:-0.998603},{&quot;x&quot;:-0.0176947,&quot;y&quot;:-0.328479,&quot;z&quot;:-1.00796},{&quot;x&quot;:0,&quot;y&quot;:-0.333333,&quot;z&quot;:-1}], &quot;faces&quot;:[[0,1,2],[0,3,1],[0,4,3],[0,5,4],[0,2,5],[2,1,6,7],[1,3,8,6],[3,4,9,8],[4,5,10,9],[5,2,7,10],[7,6,11],[6,8,11],[8,9,11],[9,10,11],[10,7,11]], &quot;color&quot;:&quot;#0000ff&quot;, &quot;opacity&quot;:1},{&quot;vertices&quot;:[{&quot;x&quot;:-0.0833333,&quot;y&quot;:-0.25,&quot;z&quot;:-0.763889},{&quot;x&quot;:0.0285447,&quot;y&quot;:-0.286274,&quot;z&quot;:-0.912777},{&quot;x&quot;:-0.0233333,&quot;y&quot;:-0.25,&quot;z&quot;:-0.943889},{&quot;x&quot;:0.00436493,&quot;y&quot;:-0.350972,&quot;z&quot;:-0.898476},{&quot;x&quot;:-0.062457,&quot;y&quot;:-0.354684,&quot;z&quot;:-0.92075},{&quot;x&quot;:-0.0795754,&quot;y&quot;:-0.29228,&quot;z&quot;:-0.948817},{&quot;x&quot;:-0.0264912,&quot;y&quot;:-0.306842,&quot;z&quot;:-0.924942}], &quot;faces&quot;:[[0,1,2],[0,3,1],[0,4,3],[0,5,4],[0,2,5],[2,1,6],[1,3,6],[3,4,6],[4,5,6],[5,2,6]], &quot;color&quot;:&quot;#0000ff&quot;, &quot;opacity&quot;:1},{&quot;vertices&quot;:[{&quot;x&quot;:-0.00619048,&quot;y&quot;:-0.329206,&quot;z&quot;:-0.654286},{&quot;x&quot;:0.0113569,&quot;y&quot;:-0.322044,&quot;z&quot;:-0.6479},{&quot;x&quot;:-0.00487179,&quot;y&quot;:-0.310085,&quot;z&quot;:-0.66},{&quot;x&quot;:0.00333574,&quot;y&quot;:-0.3439,&quot;z&quot;:-0.644625},{&quot;x&quot;:-0.0178504,&quot;y&quot;:-0.345451,&quot;z&quot;:-0.654701},{&quot;x&quot;:-0.0229229,&quot;y&quot;:-0.324552,&quot;z&quot;:-0.664203},{&quot;x&quot;:0.0175474,&quot;y&quot;:-0.326171,&quot;z&quot;:-0.660281},{&quot;x&quot;:0.00131868,&quot;y&quot;:-0.314212,&quot;z&quot;:-0.672381},{&quot;x&quot;:0.00952622,&quot;y&quot;:-0.348027,&quot;z&quot;:-0.657006},{&quot;x&quot;:-0.0116599,&quot;y&quot;:-0.349578,&quot;z&quot;:-0.667082},{&quot;x&quot;:-0.0167324,&quot;y&quot;:-0.328679,&quot;z&quot;:-0.676584},{&quot;x&quot;:0,&quot;y&quot;:-0.333333,&quot;z&quot;:-0.666667}], &quot;faces&quot;:[[0,1,2],[0,3,1],[0,4,3],[0,5,4],[0,2,5],[2,1,6,7],[1,3,8,6],[3,4,9,8],[4,5,10,9],[5,2,7,10],[7,6,11],[6,8,11],[8,9,11],[9,10,11],[10,7,11]], &quot;color&quot;:&quot;#0000ff&quot;, &quot;opacity&quot;:1},{&quot;vertices&quot;:[{&quot;x&quot;:-0.0833333,&quot;y&quot;:-0.277778,&quot;z&quot;:-0.5},{&quot;x&quot;:0.0464518,&quot;y&quot;:-0.307718,&quot;z&quot;:-0.635127},{&quot;x&quot;:-0.00223443,&quot;y&quot;:-0.271844,&quot;z&quot;:-0.671429},{&quot;x&quot;:0.0223882,&quot;y&quot;:-0.373288,&quot;z&quot;:-0.625302},{&quot;x&quot;:-0.0411701,&quot;y&quot;:-0.377939,&quot;z&quot;:-0.655531},{&quot;x&quot;:-0.0563878,&quot;y&quot;:-0.315243,&quot;z&quot;:-0.684039},{&quot;x&quot;:-0.00619048,&quot;y&quot;:-0.329206,&quot;z&quot;:-0.654286}], &quot;faces&quot;:[[0,1,2],[0,3,1],[0,4,3],[0,5,4],[0,2,5],[2,1,6],[1,3,6],[3,4,6],[4,5,6],[5,2,6]], &quot;color&quot;:&quot;#0000ff&quot;, &quot;opacity&quot;:1},{&quot;vertices&quot;:[{&quot;x&quot;:-0.0833333,&quot;y&quot;:-0.305556,&quot;z&quot;:-0.208333},{&quot;x&quot;:0.0413663,&quot;y&quot;:-0.315241,&quot;z&quot;:-0.309776},{&quot;x&quot;:0.00277778,&quot;y&quot;:-0.283333,&quot;z&quot;:-0.342593},{&quot;x&quot;:0.022788,&quot;y&quot;:-0.372151,&quot;z&quot;:-0.309515},{&quot;x&quot;:-0.0272826,&quot;y&quot;:-0.375417,&quot;z&quot;:-0.34217},{&quot;x&quot;:-0.0396496,&quot;y&quot;:-0.320524,&quot;z&quot;:-0.362613},{&quot;x&quot;:0,&quot;y&quot;:-0.333333,&quot;z&quot;:-0.333333}], &quot;faces&quot;:[[0,1,2],[0,3,1],[0,4,3],[0,5,4],[0,2,5],[2,1,6],[1,3,6],[3,4,6],[4,5,6],[5,2,6]], &quot;color&quot;:&quot;#0000ff&quot;, &quot;opacity&quot;:1},{&quot;vertices&quot;:[{&quot;x&quot;:-0.0833333,&quot;y&quot;:-0.333333,&quot;z&quot;:0.111111},{&quot;x&quot;:0.0352243,&quot;y&quot;:-0.319027,&quot;z&quot;:0.0264182},{&quot;x&quot;:0,&quot;y&quot;:-0.287037,&quot;z&quot;:0},{&quot;x&quot;:0.0217698,&quot;y&quot;:-0.370788,&quot;z&quot;:0.0163274},{&quot;x&quot;:-0.0217698,&quot;y&quot;:-0.370788,&quot;z&quot;:-0.0163274},{&quot;x&quot;:-0.0352243,&quot;y&quot;:-0.319027,&quot;z&quot;:-0.0264182},{&quot;x&quot;:0,&quot;y&quot;:-0.333333,&quot;z&quot;:0}], &quot;faces&quot;:[[0,1,2],[0,3,1],[0,4,3],[0,5,4],[0,2,5],[2,1,6],[1,3,6],[3,4,6],[4,5,6],[5,2,6]], &quot;color&quot;:&quot;#0000ff&quot;, &quot;opacity&quot;:1},{&quot;vertices&quot;:[{&quot;x&quot;:-0.0833333,&quot;y&quot;:-0.361111,&quot;z&quot;:0.458333},{&quot;x&quot;:0.0396496,&quot;y&quot;:-0.320524,&quot;z&quot;:0.362613},{&quot;x&quot;:-0.00277778,&quot;y&quot;:-0.283333,&quot;z&quot;:0.342593},{&quot;x&quot;:0.0272826,&quot;y&quot;:-0.375417,&quot;z&quot;:0.34217},{&quot;x&quot;:-0.022788,&quot;y&quot;:-0.372151,&quot;z&quot;:0.309515},{&quot;x&quot;:-0.0413663,&quot;y&quot;:-0.315241,&quot;z&quot;:0.309776},{&quot;x&quot;:0,&quot;y&quot;:-0.333333,&quot;z&quot;:0.333333}], &quot;faces&quot;:[[0,1,2],[0,3,1],[0,4,3],[0,5,4],[0,2,5],[2,1,6],[1,3,6],[3,4,6],[4,5,6],[5,2,6]], &quot;color&quot;:&quot;#0000ff&quot;, &quot;opacity&quot;:1},{&quot;vertices&quot;:[{&quot;x&quot;:-0.00619048,&quot;y&quot;:-0.33746,&quot;z&quot;:0.679048},{&quot;x&quot;:0.0105419,&quot;y&quot;:-0.332806,&quot;z&quot;:0.688965},{&quot;x&quot;:-0.00750916,&quot;y&quot;:-0.318339,&quot;z&quot;:0.684762},{&quot;x&quot;:0.00546941,&quot;y&quot;:-0.353705,&quot;z&quot;:0.679463},{&quot;x&quot;:-0.0157167,&quot;y&quot;:-0.352154,&quot;z&quot;:0.669387},{&quot;x&quot;:-0.0237379,&quot;y&quot;:-0.330298,&quot;z&quot;:0.672662},{&quot;x&quot;:0.0167324,&quot;y&quot;:-0.328679,&quot;z&quot;:0.676584},{&quot;x&quot;:-0.00131868,&quot;y&quot;:-0.314212,&quot;z&quot;:0.672381},{&quot;x&quot;:0.0116599,&quot;y&quot;:-0.349578,&quot;z&quot;:0.667082},{&quot;x&quot;:-0.00952622,&quot;y&quot;:-0.348027,&quot;z&quot;:0.657006},{&quot;x&quot;:-0.0175474,&quot;y&quot;:-0.326171,&quot;z&quot;:0.660281},{&quot;x&quot;:0,&quot;y&quot;:-0.333333,&quot;z&quot;:0.666667}], &quot;faces&quot;:[[0,1,2],[0,3,1],[0,4,3],[0,5,4],[0,2,5],[2,1,6,7],[1,3,8,6],[3,4,9,8],[4,5,10,9],[5,2,7,10],[7,6,11],[6,8,11],[8,9,11],[9,10,11],[10,7,11]], &quot;color&quot;:&quot;#0000ff&quot;, &quot;opacity&quot;:1},{&quot;vertices&quot;:[{&quot;x&quot;:-0.0833333,&quot;y&quot;:-0.388889,&quot;z&quot;:0.833333},{&quot;x&quot;:0.0440068,&quot;y&quot;:-0.323497,&quot;z&quot;:0.708801},{&quot;x&quot;:-0.0101465,&quot;y&quot;:-0.280098,&quot;z&quot;:0.69619},{&quot;x&quot;:0.0287892,&quot;y&quot;:-0.386193,&quot;z&quot;:0.680293},{&quot;x&quot;:-0.0347691,&quot;y&quot;:-0.381542,&quot;z&quot;:0.650064},{&quot;x&quot;:-0.0588327,&quot;y&quot;:-0.315972,&quot;z&quot;:0.659889},{&quot;x&quot;:-0.00619048,&quot;y&quot;:-0.33746,&quot;z&quot;:0.679048}], &quot;faces&quot;:[[0,1,2],[0,3,1],[0,4,3],[0,5,4],[0,2,5],[2,1,6],[1,3,6],[3,4,6],[4,5,6],[5,2,6]], &quot;color&quot;:&quot;#0000ff&quot;, &quot;opacity&quot;:1},{&quot;vertices&quot;:[{&quot;x&quot;:-0.0264912,&quot;y&quot;:-0.359825,&quot;z&quot;:1.07506},{&quot;x&quot;:-0.00879649,&quot;y&quot;:-0.354971,&quot;z&quot;:1.08302},{&quot;x&quot;:-0.0275439,&quot;y&quot;:-0.340877,&quot;z&quot;:1.08137},{&quot;x&quot;:-0.0145026,&quot;y&quot;:-0.375772,&quot;z&quot;:1.07366},{&quot;x&quot;:-0.0367766,&quot;y&quot;:-0.374535,&quot;z&quot;:1.06624},{&quot;x&quot;:-0.0448365,&quot;y&quot;:-0.352968,&quot;z&quot;:1.071},{&quot;x&quot;:0.0176947,&quot;y&quot;:-0.328479,&quot;z&quot;:1.00796},{&quot;x&quot;:-0.00105263,&quot;y&quot;:-0.314386,&quot;z&quot;:1.00632},{&quot;x&quot;:0.0119886,&quot;y&quot;:-0.349281,&quot;z&quot;:0.998603},{&quot;x&quot;:-0.0102854,&quot;y&quot;:-0.348043,&quot;z&quot;:0.991178},{&quot;x&quot;:-0.0183453,&quot;y&quot;:-0.326477,&quot;z&quot;:0.995945},{&quot;x&quot;:0,&quot;y&quot;:-0.333333,&quot;z&quot;:1}], &quot;faces&quot;:[[0,1,2],[0,3,1],[0,4,3],[0,5,4],[0,2,5],[2,1,6,7],[1,3,8,6],[3,4,9,8],[4,5,10,9],[5,2,7,10],[7,6,11],[6,8,11],[8,9,11],[9,10,11],[10,7,11]], &quot;color&quot;:&quot;#0000ff&quot;, &quot;opacity&quot;:1},{&quot;vertices&quot;:[{&quot;x&quot;:-0.0833333,&quot;y&quot;:-0.416667,&quot;z&quot;:1.23611},{&quot;x&quot;:0.026593,&quot;y&quot;:-0.345263,&quot;z&quot;:1.09893},{&quot;x&quot;:-0.0296491,&quot;y&quot;:-0.302982,&quot;z&quot;:1.09401},{&quot;x&quot;:0.00947451,&quot;y&quot;:-0.407667,&quot;z&quot;:1.07087},{&quot;x&quot;:-0.0573474,&quot;y&quot;:-0.403955,&quot;z&quot;:1.04859},{&quot;x&quot;:-0.0815271,&quot;y&quot;:-0.339256,&quot;z&quot;:1.06289},{&quot;x&quot;:-0.0264912,&quot;y&quot;:-0.359825,&quot;z&quot;:1.07506}], &quot;faces&quot;:[[0,1,2],[0,3,1],[0,4,3],[0,5,4],[0,2,5],[2,1,6],[1,3,6],[3,4,6],[4,5,6],[5,2,6]], &quot;color&quot;:&quot;#0000ff&quot;, &quot;opacity&quot;:1},{&quot;vertices&quot;:[{&quot;x&quot;:0,&quot;y&quot;:0,&quot;z&quot;:-0.93},{&quot;x&quot;:0.0190211,&quot;y&quot;:0.00618034,&quot;z&quot;:-0.93},{&quot;x&quot;:0,&quot;y&quot;:0.02,&quot;z&quot;:-0.93},{&quot;x&quot;:0.0117557,&quot;y&quot;:-0.0161803,&quot;z&quot;:-0.93},{&quot;x&quot;:-0.0117557,&quot;y&quot;:-0.0161803,&quot;z&quot;:-0.93},{&quot;x&quot;:-0.0190211,&quot;y&quot;:0.00618034,&quot;z&quot;:-0.93},{&quot;x&quot;:0.0190211,&quot;y&quot;:0.00618034,&quot;z&quot;:-1},{&quot;x&quot;:0,&quot;y&quot;:0.02,&quot;z&quot;:-1},{&quot;x&quot;:0.0117557,&quot;y&quot;:-0.0161803,&quot;z&quot;:-1},{&quot;x&quot;:-0.0117557,&quot;y&quot;:-0.0161803,&quot;z&quot;:-1},{&quot;x&quot;:-0.0190211,&quot;y&quot;:0.00618034,&quot;z&quot;:-1},{&quot;x&quot;:0,&quot;y&quot;:0,&quot;z&quot;:-1}], &quot;faces&quot;:[[0,1,2],[0,3,1],[0,4,3],[0,5,4],[0,2,5],[2,1,6,7],[1,3,8,6],[3,4,9,8],[4,5,10,9],[5,2,7,10],[7,6,11],[6,8,11],[8,9,11],[9,10,11],[10,7,11]], &quot;color&quot;:&quot;#0000ff&quot;, &quot;opacity&quot;:1},{&quot;vertices&quot;:[{&quot;x&quot;:0,&quot;y&quot;:0,&quot;z&quot;:-0.75},{&quot;x&quot;:0.0570634,&quot;y&quot;:0.018541,&quot;z&quot;:-0.93},{&quot;x&quot;:0,&quot;y&quot;:0.06,&quot;z&quot;:-0.93},{&quot;x&quot;:0.0352671,&quot;y&quot;:-0.048541,&quot;z&quot;:-0.93},{&quot;x&quot;:-0.0352671,&quot;y&quot;:-0.048541,&quot;z&quot;:-0.93},{&quot;x&quot;:-0.0570634,&quot;y&quot;:0.018541,&quot;z&quot;:-0.93},{&quot;x&quot;:0,&quot;y&quot;:0,&quot;z&quot;:-0.93}], &quot;faces&quot;:[[0,1,2],[0,3,1],[0,4,3],[0,5,4],[0,2,5],[2,1,6],[1,3,6],[3,4,6],[4,5,6],[5,2,6]], &quot;color&quot;:&quot;#0000ff&quot;, &quot;opacity&quot;:1},{&quot;vertices&quot;:[{&quot;x&quot;:0,&quot;y&quot;:0,&quot;z&quot;:-0.666111},{&quot;x&quot;:0.0190211,&quot;y&quot;:0.00618034,&quot;z&quot;:-0.666111},{&quot;x&quot;:0,&quot;y&quot;:0.02,&quot;z&quot;:-0.666111},{&quot;x&quot;:0.0117557,&quot;y&quot;:-0.0161803,&quot;z&quot;:-0.666111},{&quot;x&quot;:-0.0117557,&quot;y&quot;:-0.0161803,&quot;z&quot;:-0.666111},{&quot;x&quot;:-0.0190211,&quot;y&quot;:0.00618034,&quot;z&quot;:-0.666111},{&quot;x&quot;:0.0190211,&quot;y&quot;:0.00618034,&quot;z&quot;:-0.666667},{&quot;x&quot;:0,&quot;y&quot;:0.02,&quot;z&quot;:-0.666667},{&quot;x&quot;:0.0117557,&quot;y&quot;:-0.0161803,&quot;z&quot;:-0.666667},{&quot;x&quot;:-0.0117557,&quot;y&quot;:-0.0161803,&quot;z&quot;:-0.666667},{&quot;x&quot;:-0.0190211,&quot;y&quot;:0.00618034,&quot;z&quot;:-0.666667},{&quot;x&quot;:0,&quot;y&quot;:0,&quot;z&quot;:-0.666667}], &quot;faces&quot;:[[0,1,2],[0,3,1],[0,4,3],[0,5,4],[0,2,5],[2,1,6,7],[1,3,8,6],[3,4,9,8],[4,5,10,9],[5,2,7,10],[7,6,11],[6,8,11],[8,9,11],[9,10,11],[10,7,11]], &quot;color&quot;:&quot;#0000ff&quot;, &quot;opacity&quot;:1},{&quot;vertices&quot;:[{&quot;x&quot;:0,&quot;y&quot;:0,&quot;z&quot;:-0.486111},{&quot;x&quot;:0.0570634,&quot;y&quot;:0.018541,&quot;z&quot;:-0.666111},{&quot;x&quot;:0,&quot;y&quot;:0.06,&quot;z&quot;:-0.666111},{&quot;x&quot;:0.0352671,&quot;y&quot;:-0.048541,&quot;z&quot;:-0.666111},{&quot;x&quot;:-0.0352671,&quot;y&quot;:-0.048541,&quot;z&quot;:-0.666111},{&quot;x&quot;:-0.0570634,&quot;y&quot;:0.018541,&quot;z&quot;:-0.666111},{&quot;x&quot;:0,&quot;y&quot;:0,&quot;z&quot;:-0.666111}], &quot;faces&quot;:[[0,1,2],[0,3,1],[0,4,3],[0,5,4],[0,2,5],[2,1,6],[1,3,6],[3,4,6],[4,5,6],[5,2,6]], &quot;color&quot;:&quot;#0000ff&quot;, &quot;opacity&quot;:1},{&quot;vertices&quot;:[{&quot;x&quot;:0,&quot;y&quot;:0,&quot;z&quot;:-0.194444},{&quot;x&quot;:0.0440304,&quot;y&quot;:0.0143063,&quot;z&quot;:-0.333333},{&quot;x&quot;:0,&quot;y&quot;:0.0462963,&quot;z&quot;:-0.333333},{&quot;x&quot;:0.0272123,&quot;y&quot;:-0.0374545,&quot;z&quot;:-0.333333},{&quot;x&quot;:-0.0272123,&quot;y&quot;:-0.0374545,&quot;z&quot;:-0.333333},{&quot;x&quot;:-0.0440304,&quot;y&quot;:0.0143063,&quot;z&quot;:-0.333333},{&quot;x&quot;:0,&quot;y&quot;:0,&quot;z&quot;:-0.333333}], &quot;faces&quot;:[[0,1,2],[0,3,1],[0,4,3],[0,5,4],[0,2,5],[2,1,6],[1,3,6],[3,4,6],[4,5,6],[5,2,6]], &quot;color&quot;:&quot;#0000ff&quot;, &quot;opacity&quot;:1},{&quot;vertices&quot;:[{&quot;x&quot;:0,&quot;y&quot;:0,&quot;z&quot;:0.125},{&quot;x&quot;:0.0396274,&quot;y&quot;:0.0128757,&quot;z&quot;:0},{&quot;x&quot;:0,&quot;y&quot;:0.0416667,&quot;z&quot;:0},{&quot;x&quot;:0.0244911,&quot;y&quot;:-0.033709,&quot;z&quot;:0},{&quot;x&quot;:-0.0244911,&quot;y&quot;:-0.033709,&quot;z&quot;:0},{&quot;x&quot;:-0.0396274,&quot;y&quot;:0.0128757,&quot;z&quot;:0},{&quot;x&quot;:0,&quot;y&quot;:0,&quot;z&quot;:0}], &quot;faces&quot;:[[0,1,2],[0,3,1],[0,4,3],[0,5,4],[0,2,5],[2,1,6],[1,3,6],[3,4,6],[4,5,6],[5,2,6]], &quot;color&quot;:&quot;#0000ff&quot;, &quot;opacity&quot;:1},{&quot;vertices&quot;:[{&quot;x&quot;:0,&quot;y&quot;:0,&quot;z&quot;:0.472222},{&quot;x&quot;:0.0440304,&quot;y&quot;:0.0143063,&quot;z&quot;:0.333333},{&quot;x&quot;:0,&quot;y&quot;:0.0462963,&quot;z&quot;:0.333333},{&quot;x&quot;:0.0272123,&quot;y&quot;:-0.0374545,&quot;z&quot;:0.333333},{&quot;x&quot;:-0.0272123,&quot;y&quot;:-0.0374545,&quot;z&quot;:0.333333},{&quot;x&quot;:-0.0440304,&quot;y&quot;:0.0143063,&quot;z&quot;:0.333333},{&quot;x&quot;:0,&quot;y&quot;:0,&quot;z&quot;:0.333333}], &quot;faces&quot;:[[0,1,2],[0,3,1],[0,4,3],[0,5,4],[0,2,5],[2,1,6],[1,3,6],[3,4,6],[4,5,6],[5,2,6]], &quot;color&quot;:&quot;#0000ff&quot;, &quot;opacity&quot;:1},{&quot;vertices&quot;:[{&quot;x&quot;:0,&quot;y&quot;:0,&quot;z&quot;:0.667222},{&quot;x&quot;:0.0190211,&quot;y&quot;:0.00618034,&quot;z&quot;:0.667222},{&quot;x&quot;:0,&quot;y&quot;:0.02,&quot;z&quot;:0.667222},{&quot;x&quot;:0.0117557,&quot;y&quot;:-0.0161803,&quot;z&quot;:0.667222},{&quot;x&quot;:-0.0117557,&quot;y&quot;:-0.0161803,&quot;z&quot;:0.667222},{&quot;x&quot;:-0.0190211,&quot;y&quot;:0.00618034,&quot;z&quot;:0.667222},{&quot;x&quot;:0.0190211,&quot;y&quot;:0.00618034,&quot;z&quot;:0.666667},{&quot;x&quot;:0,&quot;y&quot;:0.02,&quot;z&quot;:0.666667},{&quot;x&quot;:0.0117557,&quot;y&quot;:-0.0161803,&quot;z&quot;:0.666667},{&quot;x&quot;:-0.0117557,&quot;y&quot;:-0.0161803,&quot;z&quot;:0.666667},{&quot;x&quot;:-0.0190211,&quot;y&quot;:0.00618034,&quot;z&quot;:0.666667},{&quot;x&quot;:0,&quot;y&quot;:0,&quot;z&quot;:0.666667}], &quot;faces&quot;:[[0,1,2],[0,3,1],[0,4,3],[0,5,4],[0,2,5],[2,1,6,7],[1,3,8,6],[3,4,9,8],[4,5,10,9],[5,2,7,10],[7,6,11],[6,8,11],[8,9,11],[9,10,11],[10,7,11]], &quot;color&quot;:&quot;#0000ff&quot;, &quot;opacity&quot;:1},{&quot;vertices&quot;:[{&quot;x&quot;:0,&quot;y&quot;:0,&quot;z&quot;:0.847222},{&quot;x&quot;:0.0570634,&quot;y&quot;:0.018541,&quot;z&quot;:0.667222},{&quot;x&quot;:0,&quot;y&quot;:0.06,&quot;z&quot;:0.667222},{&quot;x&quot;:0.0352671,&quot;y&quot;:-0.048541,&quot;z&quot;:0.667222},{&quot;x&quot;:-0.0352671,&quot;y&quot;:-0.048541,&quot;z&quot;:0.667222},{&quot;x&quot;:-0.0570634,&quot;y&quot;:0.018541,&quot;z&quot;:0.667222},{&quot;x&quot;:0,&quot;y&quot;:0,&quot;z&quot;:0.667222}], &quot;faces&quot;:[[0,1,2],[0,3,1],[0,4,3],[0,5,4],[0,2,5],[2,1,6],[1,3,6],[3,4,6],[4,5,6],[5,2,6]], &quot;color&quot;:&quot;#0000ff&quot;, &quot;opacity&quot;:1},{&quot;vertices&quot;:[{&quot;x&quot;:0,&quot;y&quot;:0,&quot;z&quot;:1.07},{&quot;x&quot;:0.0190211,&quot;y&quot;:0.00618034,&quot;z&quot;:1.07},{&quot;x&quot;:0,&quot;y&quot;:0.02,&quot;z&quot;:1.07},{&quot;x&quot;:0.0117557,&quot;y&quot;:-0.0161803,&quot;z&quot;:1.07},{&quot;x&quot;:-0.0117557,&quot;y&quot;:-0.0161803,&quot;z&quot;:1.07},{&quot;x&quot;:-0.0190211,&quot;y&quot;:0.00618034,&quot;z&quot;:1.07},{&quot;x&quot;:0.0190211,&quot;y&quot;:0.00618034,&quot;z&quot;:1},{&quot;x&quot;:0,&quot;y&quot;:0.02,&quot;z&quot;:1},{&quot;x&quot;:0.0117557,&quot;y&quot;:-0.0161803,&quot;z&quot;:1},{&quot;x&quot;:-0.0117557,&quot;y&quot;:-0.0161803,&quot;z&quot;:1},{&quot;x&quot;:-0.0190211,&quot;y&quot;:0.00618034,&quot;z&quot;:1},{&quot;x&quot;:0,&quot;y&quot;:0,&quot;z&quot;:1}], &quot;faces&quot;:[[0,1,2],[0,3,1],[0,4,3],[0,5,4],[0,2,5],[2,1,6,7],[1,3,8,6],[3,4,9,8],[4,5,10,9],[5,2,7,10],[7,6,11],[6,8,11],[8,9,11],[9,10,11],[10,7,11]], &quot;color&quot;:&quot;#0000ff&quot;, &quot;opacity&quot;:1},{&quot;vertices&quot;:[{&quot;x&quot;:0,&quot;y&quot;:0,&quot;z&quot;:1.25},{&quot;x&quot;:0.0570634,&quot;y&quot;:0.018541,&quot;z&quot;:1.07},{&quot;x&quot;:0,&quot;y&quot;:0.06,&quot;z&quot;:1.07},{&quot;x&quot;:0.0352671,&quot;y&quot;:-0.048541,&quot;z&quot;:1.07},{&quot;x&quot;:-0.0352671,&quot;y&quot;:-0.048541,&quot;z&quot;:1.07},{&quot;x&quot;:-0.0570634,&quot;y&quot;:0.018541,&quot;z&quot;:1.07},{&quot;x&quot;:0,&quot;y&quot;:0,&quot;z&quot;:1.07}], &quot;faces&quot;:[[0,1,2],[0,3,1],[0,4,3],[0,5,4],[0,2,5],[2,1,6],[1,3,6],[3,4,6],[4,5,6],[5,2,6]], &quot;color&quot;:&quot;#0000ff&quot;, &quot;opacity&quot;:1},{&quot;vertices&quot;:[{&quot;x&quot;:0.0264912,&quot;y&quot;:0.306842,&quot;z&quot;:-0.924942},{&quot;x&quot;:0.0448365,&quot;y&quot;:0.313698,&quot;z&quot;:-0.928997},{&quot;x&quot;:0.0275439,&quot;y&quot;:0.325789,&quot;z&quot;:-0.918626},{&quot;x&quot;:0.0367766,&quot;y&quot;:0.292132,&quot;z&quot;:-0.933763},{&quot;x&quot;:0.0145026,&quot;y&quot;:0.290895,&quot;z&quot;:-0.926339},{&quot;x&quot;:0.00879649,&quot;y&quot;:0.311696,&quot;z&quot;:-0.916983},{&quot;x&quot;:0.0183453,&quot;y&quot;:0.34019,&quot;z&quot;:-1.00405},{&quot;x&quot;:0.00105263,&quot;y&quot;:0.352281,&quot;z&quot;:-0.993684},{&quot;x&quot;:0.0102854,&quot;y&quot;:0.318623,&quot;z&quot;:-1.00882},{&quot;x&quot;:-0.0119886,&quot;y&quot;:0.317386,&quot;z&quot;:-1.0014},{&quot;x&quot;:-0.0176947,&quot;y&quot;:0.338187,&quot;z&quot;:-0.992042},{&quot;x&quot;:0,&quot;y&quot;:0.333333,&quot;z&quot;:-1}], &quot;faces&quot;:[[0,1,2],[0,3,1],[0,4,3],[0,5,4],[0,2,5],[2,1,6,7],[1,3,8,6],[3,4,9,8],[4,5,10,9],[5,2,7,10],[7,6,11],[6,8,11],[8,9,11],[9,10,11],[10,7,11]], &quot;color&quot;:&quot;#0000ff&quot;, &quot;opacity&quot;:1},{&quot;vertices&quot;:[{&quot;x&quot;:0.0833333,&quot;y&quot;:0.25,&quot;z&quot;:-0.763889},{&quot;x&quot;:0.0815271,&quot;y&quot;:0.327411,&quot;z&quot;:-0.937106},{&quot;x&quot;:0.0296491,&quot;y&quot;:0.363684,&quot;z&quot;:-0.905994},{&quot;x&quot;:0.0573474,&quot;y&quot;:0.262712,&quot;z&quot;:-0.951407},{&quot;x&quot;:-0.00947451,&quot;y&quot;:0.259,&quot;z&quot;:-0.929133},{&quot;x&quot;:-0.026593,&quot;y&quot;:0.321404,&quot;z&quot;:-0.901066},{&quot;x&quot;:0.0264912,&quot;y&quot;:0.306842,&quot;z&quot;:-0.924942}], &quot;faces&quot;:[[0,1,2],[0,3,1],[0,4,3],[0,5,4],[0,2,5],[2,1,6],[1,3,6],[3,4,6],[4,5,6],[5,2,6]], &quot;color&quot;:&quot;#0000ff&quot;, &quot;opacity&quot;:1},{&quot;vertices&quot;:[{&quot;x&quot;:0.00619048,&quot;y&quot;:0.329206,&quot;z&quot;:-0.654286},{&quot;x&quot;:0.0237379,&quot;y&quot;:0.336369,&quot;z&quot;:-0.660672},{&quot;x&quot;:0.00750916,&quot;y&quot;:0.348327,&quot;z&quot;:-0.648571},{&quot;x&quot;:0.0157167,&quot;y&quot;:0.314512,&quot;z&quot;:-0.663947},{&quot;x&quot;:-0.00546941,&quot;y&quot;:0.312962,&quot;z&quot;:-0.653871},{&quot;x&quot;:-0.0105419,&quot;y&quot;:0.333861,&quot;z&quot;:-0.644368},{&quot;x&quot;:0.0175474,&quot;y&quot;:0.340496,&quot;z&quot;:-0.673053},{&quot;x&quot;:0.00131868,&quot;y&quot;:0.352454,&quot;z&quot;:-0.660952},{&quot;x&quot;:0.00952622,&quot;y&quot;:0.318639,&quot;z&quot;:-0.676328},{&quot;x&quot;:-0.0116599,&quot;y&quot;:0.317089,&quot;z&quot;:-0.666251},{&quot;x&quot;:-0.0167324,&quot;y&quot;:0.337988,&quot;z&quot;:-0.656749},{&quot;x&quot;:0,&quot;y&quot;:0.333333,&quot;z&quot;:-0.666667}], &quot;faces&quot;:[[0,1,2],[0,3,1],[0,4,3],[0,5,4],[0,2,5],[2,1,6,7],[1,3,8,6],[3,4,9,8],[4,5,10,9],[5,2,7,10],[7,6,11],[6,8,11],[8,9,11],[9,10,11],[10,7,11]], &quot;color&quot;:&quot;#0000ff&quot;, &quot;opacity&quot;:1},{&quot;vertices&quot;:[{&quot;x&quot;:0.0833333,&quot;y&quot;:0.277778,&quot;z&quot;:-0.5},{&quot;x&quot;:0.0588327,&quot;y&quot;:0.350695,&quot;z&quot;:-0.673444},{&quot;x&quot;:0.0101465,&quot;y&quot;:0.386569,&quot;z&quot;:-0.637143},{&quot;x&quot;:0.0347691,&quot;y&quot;:0.285124,&quot;z&quot;:-0.683269},{&quot;x&quot;:-0.0287892,&quot;y&quot;:0.280474,&quot;z&quot;:-0.65304},{&quot;x&quot;:-0.0440068,&quot;y&quot;:0.34317,&quot;z&quot;:-0.624533},{&quot;x&quot;:0.00619048,&quot;y&quot;:0.329206,&quot;z&quot;:-0.654286}], &quot;faces&quot;:[[0,1,2],[0,3,1],[0,4,3],[0,5,4],[0,2,5],[2,1,6],[1,3,6],[3,4,6],[4,5,6],[5,2,6]], &quot;color&quot;:&quot;#0000ff&quot;, &quot;opacity&quot;:1},{&quot;vertices&quot;:[{&quot;x&quot;:0.0833333,&quot;y&quot;:0.305556,&quot;z&quot;:-0.208333},{&quot;x&quot;:0.0413663,&quot;y&quot;:0.351426,&quot;z&quot;:-0.35689},{&quot;x&quot;:0.00277778,&quot;y&quot;:0.383333,&quot;z&quot;:-0.324074},{&quot;x&quot;:0.022788,&quot;y&quot;:0.294515,&quot;z&quot;:-0.357152},{&quot;x&quot;:-0.0272826,&quot;y&quot;:0.29125,&quot;z&quot;:-0.324497},{&quot;x&quot;:-0.0396496,&quot;y&quot;:0.346142,&quot;z&quot;:-0.304054},{&quot;x&quot;:0,&quot;y&quot;:0.333333,&quot;z&quot;:-0.333333}], &quot;faces&quot;:[[0,1,2],[0,3,1],[0,4,3],[0,5,4],[0,2,5],[2,1,6],[1,3,6],[3,4,6],[4,5,6],[5,2,6]], &quot;color&quot;:&quot;#0000ff&quot;, &quot;opacity&quot;:1},{&quot;vertices&quot;:[{&quot;x&quot;:0.0833333,&quot;y&quot;:0.333333,&quot;z&quot;:0.111111},{&quot;x&quot;:0.0352243,&quot;y&quot;:0.34764,&quot;z&quot;:-0.0264182},{&quot;x&quot;:0,&quot;y&quot;:0.37963,&quot;z&quot;:0},{&quot;x&quot;:0.0217698,&quot;y&quot;:0.295879,&quot;z&quot;:-0.0163274},{&quot;x&quot;:-0.0217698,&quot;y&quot;:0.295879,&quot;z&quot;:0.0163274},{&quot;x&quot;:-0.0352243,&quot;y&quot;:0.34764,&quot;z&quot;:0.0264182},{&quot;x&quot;:0,&quot;y&quot;:0.333333,&quot;z&quot;:0}], &quot;faces&quot;:[[0,1,2],[0,3,1],[0,4,3],[0,5,4],[0,2,5],[2,1,6],[1,3,6],[3,4,6],[4,5,6],[5,2,6]], &quot;color&quot;:&quot;#0000ff&quot;, &quot;opacity&quot;:1},{&quot;vertices&quot;:[{&quot;x&quot;:0.0833333,&quot;y&quot;:0.361111,&quot;z&quot;:0.458333},{&quot;x&quot;:0.0396496,&quot;y&quot;:0.346142,&quot;z&quot;:0.304054},{&quot;x&quot;:-0.00277778,&quot;y&quot;:0.383333,&quot;z&quot;:0.324074},{&quot;x&quot;:0.0272826,&quot;y&quot;:0.29125,&quot;z&quot;:0.324497},{&quot;x&quot;:-0.022788,&quot;y&quot;:0.294515,&quot;z&quot;:0.357152},{&quot;x&quot;:-0.0413663,&quot;y&quot;:0.351426,&quot;z&quot;:0.35689},{&quot;x&quot;:0,&quot;y&quot;:0.333333,&quot;z&quot;:0.333333}], &quot;faces&quot;:[[0,1,2],[0,3,1],[0,4,3],[0,5,4],[0,2,5],[2,1,6],[1,3,6],[3,4,6],[4,5,6],[5,2,6]], &quot;color&quot;:&quot;#0000ff&quot;, &quot;opacity&quot;:1},{&quot;vertices&quot;:[{&quot;x&quot;:0.00619048,&quot;y&quot;:0.33746,&quot;z&quot;:0.679048},{&quot;x&quot;:0.0229229,&quot;y&quot;:0.342115,&quot;z&quot;:0.66913},{&quot;x&quot;:0.00487179,&quot;y&quot;:0.356581,&quot;z&quot;:0.673333},{&quot;x&quot;:0.0178504,&quot;y&quot;:0.321216,&quot;z&quot;:0.678632},{&quot;x&quot;:-0.00333574,&quot;y&quot;:0.322766,&quot;z&quot;:0.688709},{&quot;x&quot;:-0.0113569,&quot;y&quot;:0.344623,&quot;z&quot;:0.685434},{&quot;x&quot;:0.0167324,&quot;y&quot;:0.337988,&quot;z&quot;:0.656749},{&quot;x&quot;:-0.00131868,&quot;y&quot;:0.352454,&quot;z&quot;:0.660952},{&quot;x&quot;:0.0116599,&quot;y&quot;:0.317089,&quot;z&quot;:0.666251},{&quot;x&quot;:-0.00952622,&quot;y&quot;:0.318639,&quot;z&quot;:0.676328},{&quot;x&quot;:-0.0175474,&quot;y&quot;:0.340496,&quot;z&quot;:0.673053},{&quot;x&quot;:0,&quot;y&quot;:0.333333,&quot;z&quot;:0.666667}], &quot;faces&quot;:[[0,1,2],[0,3,1],[0,4,3],[0,5,4],[0,2,5],[2,1,6,7],[1,3,8,6],[3,4,9,8],[4,5,10,9],[5,2,7,10],[7,6,11],[6,8,11],[8,9,11],[9,10,11],[10,7,11]], &quot;color&quot;:&quot;#0000ff&quot;, &quot;opacity&quot;:1},{&quot;vertices&quot;:[{&quot;x&quot;:0.0833333,&quot;y&quot;:0.388889,&quot;z&quot;:0.833333},{&quot;x&quot;:0.0563878,&quot;y&quot;:0.351424,&quot;z&quot;:0.649294},{&quot;x&quot;:0.00223443,&quot;y&quot;:0.394823,&quot;z&quot;:0.661905},{&quot;x&quot;:0.0411701,&quot;y&quot;:0.288728,&quot;z&quot;:0.677802},{&quot;x&quot;:-0.0223882,&quot;y&quot;:0.293378,&quot;z&quot;:0.708031},{&quot;x&quot;:-0.0464518,&quot;y&quot;:0.358949,&quot;z&quot;:0.698206},{&quot;x&quot;:0.00619048,&quot;y&quot;:0.33746,&quot;z&quot;:0.679048}], &quot;faces&quot;:[[0,1,2],[0,3,1],[0,4,3],[0,5,4],[0,2,5],[2,1,6],[1,3,6],[3,4,6],[4,5,6],[5,2,6]], &quot;color&quot;:&quot;#0000ff&quot;, &quot;opacity&quot;:1},{&quot;vertices&quot;:[{&quot;x&quot;:0.0264912,&quot;y&quot;:0.359825,&quot;z&quot;:1.07506},{&quot;x&quot;:0.044186,&quot;y&quot;:0.364679,&quot;z&quot;:1.0671},{&quot;x&quot;:0.0254386,&quot;y&quot;:0.378772,&quot;z&quot;:1.06874},{&quot;x&quot;:0.0384798,&quot;y&quot;:0.343877,&quot;z&quot;:1.07646},{&quot;x&quot;:0.0162058,&quot;y&quot;:0.345115,&quot;z&quot;:1.08388},{&quot;x&quot;:0.00814593,&quot;y&quot;:0.366681,&quot;z&quot;:1.07911},{&quot;x&quot;:0.0176947,&quot;y&quot;:0.338187,&quot;z&quot;:0.992042},{&quot;x&quot;:-0.00105263,&quot;y&quot;:0.352281,&quot;z&quot;:0.993684},{&quot;x&quot;:0.0119886,&quot;y&quot;:0.317386,&quot;z&quot;:1.0014},{&quot;x&quot;:-0.0102854,&quot;y&quot;:0.318623,&quot;z&quot;:1.00882},{&quot;x&quot;:-0.0183453,&quot;y&quot;:0.34019,&quot;z&quot;:1.00405},{&quot;x&quot;:0,&quot;y&quot;:0.333333,&quot;z&quot;:1}], &quot;faces&quot;:[[0,1,2],[0,3,1],[0,4,3],[0,5,4],[0,2,5],[2,1,6,7],[1,3,8,6],[3,4,9,8],[4,5,10,9],[5,2,7,10],[7,6,11],[6,8,11],[8,9,11],[9,10,11],[10,7,11]], &quot;color&quot;:&quot;#0000ff&quot;, &quot;opacity&quot;:1},{&quot;vertices&quot;:[{&quot;x&quot;:0.0833333,&quot;y&quot;:0.416667,&quot;z&quot;:1.23611},{&quot;x&quot;:0.0795754,&quot;y&quot;:0.374386,&quot;z&quot;:1.05118},{&quot;x&quot;:0.0233333,&quot;y&quot;:0.416667,&quot;z&quot;:1.05611},{&quot;x&quot;:0.062457,&quot;y&quot;:0.311982,&quot;z&quot;:1.07925},{&quot;x&quot;:-0.00436493,&quot;y&quot;:0.315694,&quot;z&quot;:1.10152},{&quot;x&quot;:-0.0285447,&quot;y&quot;:0.380393,&quot;z&quot;:1.08722},{&quot;x&quot;:0.0264912,&quot;y&quot;:0.359825,&quot;z&quot;:1.07506}], &quot;faces&quot;:[[0,1,2],[0,3,1],[0,4,3],[0,5,4],[0,2,5],[2,1,6],[1,3,6],[3,4,6],[4,5,6],[5,2,6]], &quot;color&quot;:&quot;#0000ff&quot;, &quot;opacity&quot;:1},{&quot;vertices&quot;:[{&quot;x&quot;:0.0684848,&quot;y&quot;:0.598182,&quot;z&quot;:-0.920101},{&quot;x&quot;:0.0851713,&quot;y&quot;:0.606697,&quot;z&quot;:-0.927105},{&quot;x&quot;:0.0721212,&quot;y&quot;:0.614545,&quot;z&quot;:-0.909192},{&quot;x&quot;:0.0751613,&quot;y&quot;:0.587081,&quot;z&quot;:-0.935339},{&quot;x&quot;:0.0559247,&quot;y&quot;:0.582806,&quot;z&quot;:-0.922514},{&quot;x&quot;:0.0540458,&quot;y&quot;:0.59978,&quot;z&quot;:-0.906355},{&quot;x&quot;:0.0166864,&quot;y&quot;:0.675182,&quot;z&quot;:-1.007},{&quot;x&quot;:0.00363636,&quot;y&quot;:0.68303,&quot;z&quot;:-0.989091},{&quot;x&quot;:0.00667642,&quot;y&quot;:0.655566,&quot;z&quot;:-1.01524},{&quot;x&quot;:-0.0125602,&quot;y&quot;:0.651291,&quot;z&quot;:-1.00241},{&quot;x&quot;:-0.014439,&quot;y&quot;:0.668265,&quot;z&quot;:-0.986254},{&quot;x&quot;:0,&quot;y&quot;:0.666667,&quot;z&quot;:-1}], &quot;faces&quot;:[[0,1,2],[0,3,1],[0,4,3],[0,5,4],[0,2,5],[2,1,6,7],[1,3,8,6],[3,4,9,8],[4,5,10,9],[5,2,7,10],[7,6,11],[6,8,11],[8,9,11],[9,10,11],[10,7,11]], &quot;color&quot;:&quot;#0000ff&quot;, &quot;opacity&quot;:1},{&quot;vertices&quot;:[{&quot;x&quot;:0.166667,&quot;y&quot;:0.5,&quot;z&quot;:-0.805556},{&quot;x&quot;:0.118544,&quot;y&quot;:0.623727,&quot;z&quot;:-0.941113},{&quot;x&quot;:0.0793939,&quot;y&quot;:0.647273,&quot;z&quot;:-0.887374},{&quot;x&quot;:0.0885141,&quot;y&quot;:0.564879,&quot;z&quot;:-0.965815},{&quot;x&quot;:0.0308043,&quot;y&quot;:0.552054,&quot;z&quot;:-0.927341},{&quot;x&quot;:0.0251677,&quot;y&quot;:0.602977,&quot;z&quot;:-0.878862},{&quot;x&quot;:0.0684848,&quot;y&quot;:0.598182,&quot;z&quot;:-0.920101}], &quot;faces&quot;:[[0,1,2],[0,3,1],[0,4,3],[0,5,4],[0,2,5],[2,1,6],[1,3,6],[3,4,6],[4,5,6],[5,2,6]], &quot;color&quot;:&quot;#0000ff&quot;, &quot;opacity&quot;:1},{&quot;vertices&quot;:[{&quot;x&quot;:0.0396078,&quot;y&quot;:0.640261,&quot;z&quot;:-0.636961},{&quot;x&quot;:0.0537744,&quot;y&quot;:0.649678,&quot;z&quot;:-0.647479},{&quot;x&quot;:0.0439517,&quot;y&quot;:0.657366,&quot;z&quot;:-0.627549},{&quot;x&quot;:0.0440194,&quot;y&quot;:0.628977,&quot;z&quot;:-0.652873},{&quot;x&quot;:0.0281678,&quot;y&quot;:0.623871,&quot;z&quot;:-0.636277},{&quot;x&quot;:0.028126,&quot;y&quot;:0.641416,&quot;z&quot;:-0.620626},{&quot;x&quot;:0.0141665,&quot;y&quot;:0.676083,&quot;z&quot;:-0.677185},{&quot;x&quot;:0.00434389,&quot;y&quot;:0.683771,&quot;z&quot;:-0.657255},{&quot;x&quot;:0.00441151,&quot;y&quot;:0.655382,&quot;z&quot;:-0.682579},{&quot;x&quot;:-0.0114401,&quot;y&quot;:0.650276,&quot;z&quot;:-0.665983},{&quot;x&quot;:-0.0114819,&quot;y&quot;:0.667821,&quot;z&quot;:-0.650332},{&quot;x&quot;:0,&quot;y&quot;:0.666667,&quot;z&quot;:-0.666667}], &quot;faces&quot;:[[0,1,2],[0,3,1],[0,4,3],[0,5,4],[0,2,5],[2,1,6,7],[1,3,8,6],[3,4,9,8],[4,5,10,9],[5,2,7,10],[7,6,11],[6,8,11],[8,9,11],[9,10,11],[10,7,11]], &quot;color&quot;:&quot;#0000ff&quot;, &quot;opacity&quot;:1},{&quot;vertices&quot;:[{&quot;x&quot;:0.166667,&quot;y&quot;:0.555556,&quot;z&quot;:-0.541667},{&quot;x&quot;:0.0821075,&quot;y&quot;:0.668512,&quot;z&quot;:-0.668516},{&quot;x&quot;:0.0526395,&quot;y&quot;:0.691574,&quot;z&quot;:-0.608725},{&quot;x&quot;:0.0528424,&quot;y&quot;:0.606409,&quot;z&quot;:-0.684698},{&quot;x&quot;:0.00528762,&quot;y&quot;:0.591089,&quot;z&quot;:-0.634909},{&quot;x&quot;:0.00516225,&quot;y&quot;:0.643724,&quot;z&quot;:-0.587956},{&quot;x&quot;:0.0396078,&quot;y&quot;:0.640261,&quot;z&quot;:-0.636961}], &quot;faces&quot;:[[0,1,2],[0,3,1],[0,4,3],[0,5,4],[0,2,5],[2,1,6],[1,3,6],[3,4,6],[4,5,6],[5,2,6]], &quot;color&quot;:&quot;#0000ff&quot;, &quot;opacity&quot;:1},{&quot;vertices&quot;:[{&quot;x&quot;:0.012381,&quot;y&quot;:0.66254,&quot;z&quot;:-0.327143},{&quot;x&quot;:0.0226793,&quot;y&quot;:0.671628,&quot;z&quot;:-0.341681},{&quot;x&quot;:0.0158095,&quot;y&quot;:0.681397,&quot;z&quot;:-0.321429},{&quot;x&quot;:0.0153171,&quot;y&quot;:0.649299,&quot;z&quot;:-0.341842},{&quot;x&quot;:0.00389727,&quot;y&quot;:0.645269,&quot;z&quot;:-0.321689},{&quot;x&quot;:0.0042016,&quot;y&quot;:0.665106,&quot;z&quot;:-0.309073},{&quot;x&quot;:0.0102983,&quot;y&quot;:0.675755,&quot;z&quot;:-0.347871},{&quot;x&quot;:0.00342857,&quot;y&quot;:0.685524,&quot;z&quot;:-0.327619},{&quot;x&quot;:0.00293614,&quot;y&quot;:0.653426,&quot;z&quot;:-0.348033},{&quot;x&quot;:-0.00848369,&quot;y&quot;:0.649396,&quot;z&quot;:-0.32788},{&quot;x&quot;:-0.00817935,&quot;y&quot;:0.669233,&quot;z&quot;:-0.315264},{&quot;x&quot;:0,&quot;y&quot;:0.666667,&quot;z&quot;:-0.333333}], &quot;faces&quot;:[[0,1,2],[0,3,1],[0,4,3],[0,5,4],[0,2,5],[2,1,6,7],[1,3,8,6],[3,4,9,8],[4,5,10,9],[5,2,7,10],[7,6,11],[6,8,11],[8,9,11],[9,10,11],[10,7,11]], &quot;color&quot;:&quot;#0000ff&quot;, &quot;opacity&quot;:1},{&quot;vertices&quot;:[{&quot;x&quot;:0.166667,&quot;y&quot;:0.611111,&quot;z&quot;:-0.25},{&quot;x&quot;:0.0432759,&quot;y&quot;:0.689804,&quot;z&quot;:-0.370757},{&quot;x&quot;:0.0226667,&quot;y&quot;:0.719111,&quot;z&quot;:-0.31},{&quot;x&quot;:0.0211894,&quot;y&quot;:0.622818,&quot;z&quot;:-0.371241},{&quot;x&quot;:-0.0130701,&quot;y&quot;:0.610727,&quot;z&quot;:-0.310783},{&quot;x&quot;:-0.0121571,&quot;y&quot;:0.670239,&quot;z&quot;:-0.272934},{&quot;x&quot;:0.012381,&quot;y&quot;:0.66254,&quot;z&quot;:-0.327143}], &quot;faces&quot;:[[0,1,2],[0,3,1],[0,4,3],[0,5,4],[0,2,5],[2,1,6],[1,3,6],[3,4,6],[4,5,6],[5,2,6]], &quot;color&quot;:&quot;#0000ff&quot;, &quot;opacity&quot;:1},{&quot;vertices&quot;:[{&quot;x&quot;:0.000512821,&quot;y&quot;:0.666667,&quot;z&quot;:0.000213675},{&quot;x&quot;:0.00782864,&quot;y&quot;:0.672847,&quot;z&quot;:-0.0173443},{&quot;x&quot;:0.000512821,&quot;y&quot;:0.686667,&quot;z&quot;:0.000213675},{&quot;x&quot;:0.00503425,&quot;y&quot;:0.650486,&quot;z&quot;:-0.0106377},{&quot;x&quot;:-0.0040086,&quot;y&quot;:0.650486,&quot;z&quot;:0.0110651},{&quot;x&quot;:-0.006803,&quot;y&quot;:0.672847,&quot;z&quot;:0.0177716},{&quot;x&quot;:0.00731582,&quot;y&quot;:0.672847,&quot;z&quot;:-0.017558},{&quot;x&quot;:0,&quot;y&quot;:0.686667,&quot;z&quot;:0},{&quot;x&quot;:0.00452143,&quot;y&quot;:0.650486,&quot;z&quot;:-0.0108514},{&quot;x&quot;:-0.00452143,&quot;y&quot;:0.650486,&quot;z&quot;:0.0108514},{&quot;x&quot;:-0.00731582,&quot;y&quot;:0.672847,&quot;z&quot;:0.017558},{&quot;x&quot;:0,&quot;y&quot;:0.666667,&quot;z&quot;:0}], &quot;faces&quot;:[[0,1,2],[0,3,1],[0,4,3],[0,5,4],[0,2,5],[2,1,6,7],[1,3,8,6],[3,4,9,8],[4,5,10,9],[5,2,7,10],[7,6,11],[6,8,11],[8,9,11],[9,10,11],[10,7,11]], &quot;color&quot;:&quot;#0000ff&quot;, &quot;opacity&quot;:1},{&quot;vertices&quot;:[{&quot;x&quot;:0.166667,&quot;y&quot;:0.666667,&quot;z&quot;:0.0694444},{&quot;x&quot;:0.0224603,&quot;y&quot;:0.685208,&quot;z&quot;:-0.0524602},{&quot;x&quot;:0.000512821,&quot;y&quot;:0.726667,&quot;z&quot;:0.000213675},{&quot;x&quot;:0.0140771,&quot;y&quot;:0.618126,&quot;z&quot;:-0.0323406},{&quot;x&quot;:-0.0130515,&quot;y&quot;:0.618126,&quot;z&quot;:0.0327679},{&quot;x&quot;:-0.0214346,&quot;y&quot;:0.685208,&quot;z&quot;:0.0528876},{&quot;x&quot;:0.000512821,&quot;y&quot;:0.666667,&quot;z&quot;:0.000213675}], &quot;faces&quot;:[[0,1,2],[0,3,1],[0,4,3],[0,5,4],[0,2,5],[2,1,6],[1,3,6],[3,4,6],[4,5,6],[5,2,6]], &quot;color&quot;:&quot;#0000ff&quot;, &quot;opacity&quot;:1},{&quot;vertices&quot;:[{&quot;x&quot;:0.012381,&quot;y&quot;:0.670794,&quot;z&quot;:0.339524},{&quot;x&quot;:0.0205603,&quot;y&quot;:0.67336,&quot;z&quot;:0.321454},{&quot;x&quot;:0.00895238,&quot;y&quot;:0.689651,&quot;z&quot;:0.33381},{&quot;x&quot;:0.0208646,&quot;y&quot;:0.653523,&quot;z&quot;:0.33407},{&quot;x&quot;:0.00944481,&quot;y&quot;:0.657553,&quot;z&quot;:0.354223},{&quot;x&quot;:0.00208263,&quot;y&quot;:0.679882,&quot;z&quot;:0.354062},{&quot;x&quot;:0.00817935,&quot;y&quot;:0.669233,&quot;z&quot;:0.315264},{&quot;x&quot;:-0.00342857,&quot;y&quot;:0.685524,&quot;z&quot;:0.327619},{&quot;x&quot;:0.00848369,&quot;y&quot;:0.649396,&quot;z&quot;:0.32788},{&quot;x&quot;:-0.00293614,&quot;y&quot;:0.653426,&quot;z&quot;:0.348033},{&quot;x&quot;:-0.0102983,&quot;y&quot;:0.675755,&quot;z&quot;:0.347871},{&quot;x&quot;:0,&quot;y&quot;:0.666667,&quot;z&quot;:0.333333}], &quot;faces&quot;:[[0,1,2],[0,3,1],[0,4,3],[0,5,4],[0,2,5],[2,1,6,7],[1,3,8,6],[3,4,9,8],[4,5,10,9],[5,2,7,10],[7,6,11],[6,8,11],[8,9,11],[9,10,11],[10,7,11]], &quot;color&quot;:&quot;#0000ff&quot;, &quot;opacity&quot;:1},{&quot;vertices&quot;:[{&quot;x&quot;:0.166667,&quot;y&quot;:0.722222,&quot;z&quot;:0.416667},{&quot;x&quot;:0.036919,&quot;y&quot;:0.678493,&quot;z&quot;:0.285315},{&quot;x&quot;:0.00209524,&quot;y&quot;:0.727365,&quot;z&quot;:0.322381},{&quot;x&quot;:0.037832,&quot;y&quot;:0.618981,&quot;z&quot;:0.323164},{&quot;x&quot;:0.00357253,&quot;y&quot;:0.631072,&quot;z&quot;:0.383622},{&quot;x&quot;:-0.018514,&quot;y&quot;:0.698057,&quot;z&quot;:0.383138},{&quot;x&quot;:0.012381,&quot;y&quot;:0.670794,&quot;z&quot;:0.339524}], &quot;faces&quot;:[[0,1,2],[0,3,1],[0,4,3],[0,5,4],[0,2,5],[2,1,6],[1,3,6],[3,4,6],[4,5,6],[5,2,6]], &quot;color&quot;:&quot;#0000ff&quot;, &quot;opacity&quot;:1},{&quot;vertices&quot;:[{&quot;x&quot;:0.0396078,&quot;y&quot;:0.693072,&quot;z&quot;:0.696373},{&quot;x&quot;:0.0510897,&quot;y&quot;:0.694226,&quot;z&quot;:0.680037},{&quot;x&quot;:0.035264,&quot;y&quot;:0.710176,&quot;z&quot;:0.686961},{&quot;x&quot;:0.0510479,&quot;y&quot;:0.676681,&quot;z&quot;:0.695689},{&quot;x&quot;:0.0351963,&quot;y&quot;:0.681788,&quot;z&quot;:0.712285},{&quot;x&quot;:0.0254413,&quot;y&quot;:0.702489,&quot;z&quot;:0.706891},{&quot;x&quot;:0.0114819,&quot;y&quot;:0.667821,&quot;z&quot;:0.650332},{&quot;x&quot;:-0.00434389,&quot;y&quot;:0.683771,&quot;z&quot;:0.657255},{&quot;x&quot;:0.0114401,&quot;y&quot;:0.650276,&quot;z&quot;:0.665983},{&quot;x&quot;:-0.00441151,&quot;y&quot;:0.655382,&quot;z&quot;:0.682579},{&quot;x&quot;:-0.0141665,&quot;y&quot;:0.676083,&quot;z&quot;:0.677185},{&quot;x&quot;:0,&quot;y&quot;:0.666667,&quot;z&quot;:0.666667}], &quot;faces&quot;:[[0,1,2],[0,3,1],[0,4,3],[0,5,4],[0,2,5],[2,1,6,7],[1,3,8,6],[3,4,9,8],[4,5,10,9],[5,2,7,10],[7,6,11],[6,8,11],[8,9,11],[9,10,11],[10,7,11]], &quot;color&quot;:&quot;#0000ff&quot;, &quot;opacity&quot;:1},{&quot;vertices&quot;:[{&quot;x&quot;:0.166667,&quot;y&quot;:0.777778,&quot;z&quot;:0.791667},{&quot;x&quot;:0.0740534,&quot;y&quot;:0.696534,&quot;z&quot;:0.647367},{&quot;x&quot;:0.0265762,&quot;y&quot;:0.744384,&quot;z&quot;:0.668137},{&quot;x&quot;:0.0739281,&quot;y&quot;:0.6439,&quot;z&quot;:0.694321},{&quot;x&quot;:0.0263733,&quot;y&quot;:0.659219,&quot;z&quot;:0.74411},{&quot;x&quot;:-0.00289177,&quot;y&quot;:0.721322,&quot;z&quot;:0.727927},{&quot;x&quot;:0.0396078,&quot;y&quot;:0.693072,&quot;z&quot;:0.696373}], &quot;faces&quot;:[[0,1,2],[0,3,1],[0,4,3],[0,5,4],[0,2,5],[2,1,6],[1,3,6],[3,4,6],[4,5,6],[5,2,6]], &quot;color&quot;:&quot;#0000ff&quot;, &quot;opacity&quot;:1},{&quot;vertices&quot;:[{&quot;x&quot;:0.0684848,&quot;y&quot;:0.735152,&quot;z&quot;:1.0799},{&quot;x&quot;:0.0829239,&quot;y&quot;:0.73675,&quot;z&quot;:1.06615},{&quot;x&quot;:0.0648485,&quot;y&quot;:0.751515,&quot;z&quot;:1.06899},{&quot;x&quot;:0.081045,&quot;y&quot;:0.719776,&quot;z&quot;:1.08231},{&quot;x&quot;:0.0618084,&quot;y&quot;:0.72405,&quot;z&quot;:1.09514},{&quot;x&quot;:0.0517984,&quot;y&quot;:0.743667,&quot;z&quot;:1.0869},{&quot;x&quot;:0.014439,&quot;y&quot;:0.668265,&quot;z&quot;:0.986254},{&quot;x&quot;:-0.00363636,&quot;y&quot;:0.68303,&quot;z&quot;:0.989091},{&quot;x&quot;:0.0125602,&quot;y&quot;:0.651291,&quot;z&quot;:1.00241},{&quot;x&quot;:-0.00667642,&quot;y&quot;:0.655566,&quot;z&quot;:1.01524},{&quot;x&quot;:-0.0166864,&quot;y&quot;:0.675182,&quot;z&quot;:1.007},{&quot;x&quot;:0,&quot;y&quot;:0.666667,&quot;z&quot;:1}], &quot;faces&quot;:[[0,1,2],[0,3,1],[0,4,3],[0,5,4],[0,2,5],[2,1,6,7],[1,3,8,6],[3,4,9,8],[4,5,10,9],[5,2,7,10],[7,6,11],[6,8,11],[8,9,11],[9,10,11],[10,7,11]], &quot;color&quot;:&quot;#0000ff&quot;, &quot;opacity&quot;:1},{&quot;vertices&quot;:[{&quot;x&quot;:0.166667,&quot;y&quot;:0.833333,&quot;z&quot;:1.19444},{&quot;x&quot;:0.111802,&quot;y&quot;:0.739946,&quot;z&quot;:1.03866},{&quot;x&quot;:0.0575758,&quot;y&quot;:0.784242,&quot;z&quot;:1.04717},{&quot;x&quot;:0.106165,&quot;y&quot;:0.689024,&quot;z&quot;:1.08714},{&quot;x&quot;:0.0484556,&quot;y&quot;:0.701848,&quot;z&quot;:1.12561},{&quot;x&quot;:0.0184255,&quot;y&quot;:0.760697,&quot;z&quot;:1.10091},{&quot;x&quot;:0.0684848,&quot;y&quot;:0.735152,&quot;z&quot;:1.0799}], &quot;faces&quot;:[[0,1,2],[0,3,1],[0,4,3],[0,5,4],[0,2,5],[2,1,6],[1,3,6],[3,4,6],[4,5,6],[5,2,6]], &quot;color&quot;:&quot;#0000ff&quot;, &quot;opacity&quot;:1},{&quot;vertices&quot;:[{&quot;x&quot;:0.13,&quot;y&quot;:0.87,&quot;z&quot;:-0.935},{&quot;x&quot;:0.144741,&quot;y&quot;:0.880461,&quot;z&quot;:-0.943561},{&quot;x&quot;:0.136667,&quot;y&quot;:0.883333,&quot;z&quot;:-0.921667},{&quot;x&quot;:0.132444,&quot;y&quot;:0.863132,&quot;z&quot;:-0.953624},{&quot;x&quot;:0.116769,&quot;y&quot;:0.855295,&quot;z&quot;:-0.93795},{&quot;x&quot;:0.119379,&quot;y&quot;:0.86778,&quot;z&quot;:-0.918199},{&quot;x&quot;:0.0147409,&quot;y&quot;:1.01046,&quot;z&quot;:-1.00856},{&quot;x&quot;:0.00666667,&quot;y&quot;:1.01333,&quot;z&quot;:-0.986667},{&quot;x&quot;:0.00244369,&quot;y&quot;:0.993132,&quot;z&quot;:-1.01862},{&quot;x&quot;:-0.0132306,&quot;y&quot;:0.985295,&quot;z&quot;:-1.00295},{&quot;x&quot;:-0.0106206,&quot;y&quot;:0.99778,&quot;z&quot;:-0.983199},{&quot;x&quot;:0,&quot;y&quot;:1,&quot;z&quot;:-1}], &quot;faces&quot;:[[0,1,2],[0,3,1],[0,4,3],[0,5,4],[0,2,5],[2,1,6,7],[1,3,8,6],[3,4,9,8],[4,5,10,9],[5,2,7,10],[7,6,11],[6,8,11],[8,9,11],[9,10,11],[10,7,11]], &quot;color&quot;:&quot;#0000ff&quot;, &quot;opacity&quot;:1},{&quot;vertices&quot;:[{&quot;x&quot;:0.25,&quot;y&quot;:0.75,&quot;z&quot;:-0.875},{&quot;x&quot;:0.174223,&quot;y&quot;:0.901382,&quot;z&quot;:-0.960682},{&quot;x&quot;:0.15,&quot;y&quot;:0.91,&quot;z&quot;:-0.895},{&quot;x&quot;:0.137331,&quot;y&quot;:0.849395,&quot;z&quot;:-0.990872},{&quot;x&quot;:0.0903083,&quot;y&quot;:0.825884,&quot;z&quot;:-0.943849},{&quot;x&quot;:0.0981381,&quot;y&quot;:0.86334,&quot;z&quot;:-0.884597},{&quot;x&quot;:0.13,&quot;y&quot;:0.87,&quot;z&quot;:-0.935}], &quot;faces&quot;:[[0,1,2],[0,3,1],[0,4,3],[0,5,4],[0,2,5],[2,1,6],[1,3,6],[3,4,6],[4,5,6],[5,2,6]], &quot;color&quot;:&quot;#0000ff&quot;, &quot;opacity&quot;:1},{&quot;vertices&quot;:[{&quot;x&quot;:0.102727,&quot;y&quot;:0.931515,&quot;z&quot;:-0.643838},{&quot;x&quot;:0.113308,&quot;y&quot;:0.943322,&quot;z&quot;:-0.65603},{&quot;x&quot;:0.11028,&quot;y&quot;:0.94648,&quot;z&quot;:-0.632929},{&quot;x&quot;:0.101714,&quot;y&quot;:0.923847,&quot;z&quot;:-0.662282},{&quot;x&quot;:0.0915203,&quot;y&quot;:0.914969,&quot;z&quot;:-0.643046},{&quot;x&quot;:0.0968142,&quot;y&quot;:0.928957,&quot;z&quot;:-0.624905},{&quot;x&quot;:0.0105808,&quot;y&quot;:1.01181,&quot;z&quot;:-0.678858},{&quot;x&quot;:0.00755245,&quot;y&quot;:1.01497,&quot;z&quot;:-0.655758},{&quot;x&quot;:-0.00101318,&quot;y&quot;:0.992332,&quot;z&quot;:-0.685111},{&quot;x&quot;:-0.0112069,&quot;y&quot;:0.983454,&quot;z&quot;:-0.665874},{&quot;x&quot;:-0.00591309,&quot;y&quot;:0.997442,&quot;z&quot;:-0.647733},{&quot;x&quot;:0,&quot;y&quot;:1,&quot;z&quot;:-0.666667}], &quot;faces&quot;:[[0,1,2],[0,3,1],[0,4,3],[0,5,4],[0,2,5],[2,1,6,7],[1,3,8,6],[3,4,9,8],[4,5,10,9],[5,2,7,10],[7,6,11],[6,8,11],[8,9,11],[9,10,11],[10,7,11]], &quot;color&quot;:&quot;#0000ff&quot;, &quot;opacity&quot;:1},{&quot;vertices&quot;:[{&quot;x&quot;:0.25,&quot;y&quot;:0.833333,&quot;z&quot;:-0.611111},{&quot;x&quot;:0.13447,&quot;y&quot;:0.966937,&quot;z&quot;:-0.680413},{&quot;x&quot;:0.125385,&quot;y&quot;:0.97641,&quot;z&quot;:-0.611111},{&quot;x&quot;:0.0996877,&quot;y&quot;:0.908512,&quot;z&quot;:-0.69917},{&quot;x&quot;:0.0691065,&quot;y&quot;:0.881877,&quot;z&quot;:-0.64146},{&quot;x&quot;:0.084988,&quot;y&quot;:0.92384,&quot;z&quot;:-0.587037},{&quot;x&quot;:0.102727,&quot;y&quot;:0.931515,&quot;z&quot;:-0.643838}], &quot;faces&quot;:[[0,1,2],[0,3,1],[0,4,3],[0,5,4],[0,2,5],[2,1,6],[1,3,6],[3,4,6],[4,5,6],[5,2,6]], &quot;color&quot;:&quot;#0000ff&quot;, &quot;opacity&quot;:1},{&quot;vertices&quot;:[{&quot;x&quot;:0.0794737,&quot;y&quot;:0.973509,&quot;z&quot;:-0.328918},{&quot;x&quot;:0.0840333,&quot;y&quot;:0.98451,&quot;z&quot;:-0.344986},{&quot;x&quot;:0.0851579,&quot;y&quot;:0.991614,&quot;z&quot;:-0.322602},{&quot;x&quot;:0.0766075,&quot;y&quot;:0.962202,&quot;z&quot;:-0.345165},{&quot;x&quot;:0.0731426,&quot;y&quot;:0.95552,&quot;z&quot;:-0.322891},{&quot;x&quot;:0.0784271,&quot;y&quot;:0.973698,&quot;z&quot;:-0.308946},{&quot;x&quot;:0.00455963,&quot;y&quot;:1.011,&quot;z&quot;:-0.349402},{&quot;x&quot;:0.00568421,&quot;y&quot;:1.01811,&quot;z&quot;:-0.327018},{&quot;x&quot;:-0.0028662,&quot;y&quot;:0.988694,&quot;z&quot;:-0.34958},{&quot;x&quot;:-0.00633104,&quot;y&quot;:0.982011,&quot;z&quot;:-0.327306},{&quot;x&quot;:-0.0010466,&quot;y&quot;:1.00019,&quot;z&quot;:-0.313362},{&quot;x&quot;:0,&quot;y&quot;:1,&quot;z&quot;:-0.333333}], &quot;faces&quot;:[[0,1,2],[0,3,1],[0,4,3],[0,5,4],[0,2,5],[2,1,6,7],[1,3,8,6],[3,4,9,8],[4,5,10,9],[5,2,7,10],[7,6,11],[6,8,11],[8,9,11],[9,10,11],[10,7,11]], &quot;color&quot;:&quot;#0000ff&quot;, &quot;opacity&quot;:1},{&quot;vertices&quot;:[{&quot;x&quot;:0.25,&quot;y&quot;:0.916667,&quot;z&quot;:-0.319444},{&quot;x&quot;:0.0931526,&quot;y&quot;:1.00651,&quot;z&quot;:-0.377123},{&quot;x&quot;:0.0965263,&quot;y&quot;:1.02782,&quot;z&quot;:-0.309971},{&quot;x&quot;:0.0708751,&quot;y&quot;:0.93959,&quot;z&quot;:-0.377658},{&quot;x&quot;:0.0604806,&quot;y&quot;:0.919543,&quot;z&quot;:-0.310836},{&quot;x&quot;:0.0763339,&quot;y&quot;:0.974075,&quot;z&quot;:-0.269003},{&quot;x&quot;:0.0794737,&quot;y&quot;:0.973509,&quot;z&quot;:-0.328918}], &quot;faces&quot;:[[0,1,2],[0,3,1],[0,4,3],[0,5,4],[0,2,5],[2,1,6],[1,3,6],[3,4,6],[4,5,6],[5,2,6]], &quot;color&quot;:&quot;#0000ff&quot;, &quot;opacity&quot;:1},{&quot;vertices&quot;:[{&quot;x&quot;:0.07,&quot;y&quot;:1,&quot;z&quot;:4.28626e-18},{&quot;x&quot;:0.07,&quot;y&quot;:1.00618,&quot;z&quot;:-0.0190211},{&quot;x&quot;:0.07,&quot;y&quot;:1.02,&quot;z&quot;:4.28626e-18},{&quot;x&quot;:0.07,&quot;y&quot;:0.98382,&quot;z&quot;:-0.0117557},{&quot;x&quot;:0.07,&quot;y&quot;:0.98382,&quot;z&quot;:0.0117557},{&quot;x&quot;:0.07,&quot;y&quot;:1.00618,&quot;z&quot;:0.0190211},{&quot;x&quot;:1.16471e-18,&quot;y&quot;:1.00618,&quot;z&quot;:-0.0190211},{&quot;x&quot;:0,&quot;y&quot;:1.02,&quot;z&quot;:0},{&quot;x&quot;:7.19829e-19,&quot;y&quot;:0.98382,&quot;z&quot;:-0.0117557},{&quot;x&quot;:-7.19829e-19,&quot;y&quot;:0.98382,&quot;z&quot;:0.0117557},{&quot;x&quot;:-1.16471e-18,&quot;y&quot;:1.00618,&quot;z&quot;:0.0190211},{&quot;x&quot;:0,&quot;y&quot;:1,&quot;z&quot;:0}], &quot;faces&quot;:[[0,1,2],[0,3,1],[0,4,3],[0,5,4],[0,2,5],[2,1,6,7],[1,3,8,6],[3,4,9,8],[4,5,10,9],[5,2,7,10],[7,6,11],[6,8,11],[8,9,11],[9,10,11],[10,7,11]], &quot;color&quot;:&quot;#0000ff&quot;, &quot;opacity&quot;:1},{&quot;vertices&quot;:[{&quot;x&quot;:0.25,&quot;y&quot;:1,&quot;z&quot;:1.53081e-17},{&quot;x&quot;:0.07,&quot;y&quot;:1.01854,&quot;z&quot;:-0.0570634},{&quot;x&quot;:0.07,&quot;y&quot;:1.06,&quot;z&quot;:4.28626e-18},{&quot;x&quot;:0.07,&quot;y&quot;:0.951459,&quot;z&quot;:-0.0352671},{&quot;x&quot;:0.07,&quot;y&quot;:0.951459,&quot;z&quot;:0.0352671},{&quot;x&quot;:0.07,&quot;y&quot;:1.01854,&quot;z&quot;:0.0570634},{&quot;x&quot;:0.07,&quot;y&quot;:1,&quot;z&quot;:4.28626e-18}], &quot;faces&quot;:[[0,1,2],[0,3,1],[0,4,3],[0,5,4],[0,2,5],[2,1,6],[1,3,6],[3,4,6],[4,5,6],[5,2,6]], &quot;color&quot;:&quot;#0000ff&quot;, &quot;opacity&quot;:1},{&quot;vertices&quot;:[{&quot;x&quot;:0.0794737,&quot;y&quot;:1.02649,&quot;z&quot;:0.337749},{&quot;x&quot;:0.0805203,&quot;y&quot;:1.02668,&quot;z&quot;:0.317777},{&quot;x&quot;:0.0737895,&quot;y&quot;:1.0446,&quot;z&quot;:0.331433},{&quot;x&quot;:0.0858047,&quot;y&quot;:1.0085,&quot;z&quot;:0.331721},{&quot;x&quot;:0.0823399,&quot;y&quot;:1.01518,&quot;z&quot;:0.353995},{&quot;x&quot;:0.0749141,&quot;y&quot;:1.03749,&quot;z&quot;:0.353817},{&quot;x&quot;:0.0010466,&quot;y&quot;:1.00019,&quot;z&quot;:0.313362},{&quot;x&quot;:-0.00568421,&quot;y&quot;:1.01811,&quot;z&quot;:0.327018},{&quot;x&quot;:0.00633104,&quot;y&quot;:0.982011,&quot;z&quot;:0.327306},{&quot;x&quot;:0.0028662,&quot;y&quot;:0.988694,&quot;z&quot;:0.34958},{&quot;x&quot;:-0.00455963,&quot;y&quot;:1.011,&quot;z&quot;:0.349402},{&quot;x&quot;:0,&quot;y&quot;:1,&quot;z&quot;:0.333333}], &quot;faces&quot;:[[0,1,2],[0,3,1],[0,4,3],[0,5,4],[0,2,5],[2,1,6,7],[1,3,8,6],[3,4,9,8],[4,5,10,9],[5,2,7,10],[7,6,11],[6,8,11],[8,9,11],[9,10,11],[10,7,11]], &quot;color&quot;:&quot;#0000ff&quot;, &quot;opacity&quot;:1},{&quot;vertices&quot;:[{&quot;x&quot;:0.25,&quot;y&quot;:1.08333,&quot;z&quot;:0.347222},{&quot;x&quot;:0.0826135,&quot;y&quot;:1.02706,&quot;z&quot;:0.277833},{&quot;x&quot;:0.0624211,&quot;y&quot;:1.08081,&quot;z&quot;:0.318801},{&quot;x&quot;:0.0984668,&quot;y&quot;:0.972526,&quot;z&quot;:0.319666},{&quot;x&quot;:0.0880723,&quot;y&quot;:0.992572,&quot;z&quot;:0.386488},{&quot;x&quot;:0.0657948,&quot;y&quot;:1.05949,&quot;z&quot;:0.385954},{&quot;x&quot;:0.0794737,&quot;y&quot;:1.02649,&quot;z&quot;:0.337749}], &quot;faces&quot;:[[0,1,2],[0,3,1],[0,4,3],[0,5,4],[0,2,5],[2,1,6],[1,3,6],[3,4,6],[4,5,6],[5,2,6]], &quot;color&quot;:&quot;#0000ff&quot;, &quot;opacity&quot;:1},{&quot;vertices&quot;:[{&quot;x&quot;:0.102727,&quot;y&quot;:1.06848,&quot;z&quot;:0.689495},{&quot;x&quot;:0.10864,&quot;y&quot;:1.06593,&quot;z&quot;:0.670561},{&quot;x&quot;:0.0951748,&quot;y&quot;:1.08345,&quot;z&quot;:0.678586},{&quot;x&quot;:0.113934,&quot;y&quot;:1.05194,&quot;z&quot;:0.688702},{&quot;x&quot;:0.10374,&quot;y&quot;:1.06082,&quot;z&quot;:0.707939},{&quot;x&quot;:0.0921465,&quot;y&quot;:1.08029,&quot;z&quot;:0.701687},{&quot;x&quot;:0.00591309,&quot;y&quot;:0.997442,&quot;z&quot;:0.647733},{&quot;x&quot;:-0.00755245,&quot;y&quot;:1.01497,&quot;z&quot;:0.655758},{&quot;x&quot;:0.0112069,&quot;y&quot;:0.983454,&quot;z&quot;:0.665874},{&quot;x&quot;:0.00101318,&quot;y&quot;:0.992332,&quot;z&quot;:0.685111},{&quot;x&quot;:-0.0105808,&quot;y&quot;:1.01181,&quot;z&quot;:0.678858},{&quot;x&quot;:0,&quot;y&quot;:1,&quot;z&quot;:0.666667}], &quot;faces&quot;:[[0,1,2],[0,3,1],[0,4,3],[0,5,4],[0,2,5],[2,1,6,7],[1,3,8,6],[3,4,9,8],[4,5,10,9],[5,2,7,10],[7,6,11],[6,8,11],[8,9,11],[9,10,11],[10,7,11]], &quot;color&quot;:&quot;#0000ff&quot;, &quot;opacity&quot;:1},{&quot;vertices&quot;:[{&quot;x&quot;:0.25,&quot;y&quot;:1.16667,&quot;z&quot;:0.722222},{&quot;x&quot;:0.120467,&quot;y&quot;:1.06081,&quot;z&quot;:0.632693},{&quot;x&quot;:0.0800699,&quot;y&quot;:1.11338,&quot;z&quot;:0.656768},{&quot;x&quot;:0.136348,&quot;y&quot;:1.01885,&quot;z&quot;:0.687117},{&quot;x&quot;:0.105767,&quot;y&quot;:1.04548,&quot;z&quot;:0.744827},{&quot;x&quot;:0.070985,&quot;y&quot;:1.10391,&quot;z&quot;:0.72607},{&quot;x&quot;:0.102727,&quot;y&quot;:1.06848,&quot;z&quot;:0.689495}], &quot;faces&quot;:[[0,1,2],[0,3,1],[0,4,3],[0,5,4],[0,2,5],[2,1,6],[1,3,6],[3,4,6],[4,5,6],[5,2,6]], &quot;color&quot;:&quot;#0000ff&quot;, &quot;opacity&quot;:1},{&quot;vertices&quot;:[{&quot;x&quot;:0.13,&quot;y&quot;:1.13,&quot;z&quot;:1.065},{&quot;x&quot;:0.140621,&quot;y&quot;:1.12778,&quot;z&quot;:1.0482},{&quot;x&quot;:0.123333,&quot;y&quot;:1.14333,&quot;z&quot;:1.05167},{&quot;x&quot;:0.143231,&quot;y&quot;:1.11529,&quot;z&quot;:1.06795},{&quot;x&quot;:0.127556,&quot;y&quot;:1.12313,&quot;z&quot;:1.08362},{&quot;x&quot;:0.115259,&quot;y&quot;:1.14046,&quot;z&quot;:1.07356},{&quot;x&quot;:0.0106206,&quot;y&quot;:0.99778,&quot;z&quot;:0.983199},{&quot;x&quot;:-0.00666667,&quot;y&quot;:1.01333,&quot;z&quot;:0.986667},{&quot;x&quot;:0.0132306,&quot;y&quot;:0.985295,&quot;z&quot;:1.00295},{&quot;x&quot;:-0.00244369,&quot;y&quot;:0.993132,&quot;z&quot;:1.01862},{&quot;x&quot;:-0.0147409,&quot;y&quot;:1.01046,&quot;z&quot;:1.00856},{&quot;x&quot;:0,&quot;y&quot;:1,&quot;z&quot;:1}], &quot;faces&quot;:[[0,1,2],[0,3,1],[0,4,3],[0,5,4],[0,2,5],[2,1,6,7],[1,3,8,6],[3,4,9,8],[4,5,10,9],[5,2,7,10],[7,6,11],[6,8,11],[8,9,11],[9,10,11],[10,7,11]], &quot;color&quot;:&quot;#0000ff&quot;, &quot;opacity&quot;:1},{&quot;vertices&quot;:[{&quot;x&quot;:0.25,&quot;y&quot;:1.25,&quot;z&quot;:1.125},{&quot;x&quot;:0.161862,&quot;y&quot;:1.12334,&quot;z&quot;:1.0146},{&quot;x&quot;:0.11,&quot;y&quot;:1.17,&quot;z&quot;:1.025},{&quot;x&quot;:0.169692,&quot;y&quot;:1.08588,&quot;z&quot;:1.07385},{&quot;x&quot;:0.122669,&quot;y&quot;:1.1094,&quot;z&quot;:1.12087},{&quot;x&quot;:0.0857774,&quot;y&quot;:1.16138,&quot;z&quot;:1.09068},{&quot;x&quot;:0.13,&quot;y&quot;:1.13,&quot;z&quot;:1.065}], &quot;faces&quot;:[[0,1,2],[0,3,1],[0,4,3],[0,5,4],[0,2,5],[2,1,6],[1,3,6],[3,4,6],[4,5,6],[5,2,6]], &quot;color&quot;:&quot;#0000ff&quot;, &quot;opacity&quot;:1},{&quot;vertices&quot;:[{&quot;x&quot;:0.154286,&quot;y&quot;:-0.910476,&quot;z&quot;:-0.940317},{&quot;x&quot;:0.164203,&quot;y&quot;:-0.899744,&quot;z&quot;:-0.926662},{&quot;x&quot;:0.16,&quot;y&quot;:-0.893333,&quot;z&quot;:-0.948889},{&quot;x&quot;:0.154701,&quot;y&quot;:-0.920986,&quot;z&quot;:-0.923307},{&quot;x&quot;:0.144625,&quot;y&quot;:-0.927704,&quot;z&quot;:-0.943459},{&quot;x&quot;:0.1479,&quot;y&quot;:-0.910613,&quot;z&quot;:-0.95927},{&quot;x&quot;:0.343251,&quot;y&quot;:-0.989268,&quot;z&quot;:-0.986345},{&quot;x&quot;:0.339048,&quot;y&quot;:-0.982857,&quot;z&quot;:-1.00857},{&quot;x&quot;:0.333749,&quot;y&quot;:-1.01051,&quot;z&quot;:-0.982989},{&quot;x&quot;:0.323672,&quot;y&quot;:-1.01723,&quot;z&quot;:-1.00314},{&quot;x&quot;:0.326947,&quot;y&quot;:-1.00014,&quot;z&quot;:-1.01895},{&quot;x&quot;:0.333333,&quot;y&quot;:-1,&quot;z&quot;:-1}], &quot;faces&quot;:[[0,1,2],[0,3,1],[0,4,3],[0,5,4],[0,2,5],[2,1,6,7],[1,3,8,6],[3,4,9,8],[4,5,10,9],[5,2,7,10],[7,6,11],[6,8,11],[8,9,11],[9,10,11],[10,7,11]], &quot;color&quot;:&quot;#0000ff&quot;, &quot;opacity&quot;:1},{&quot;vertices&quot;:[{&quot;x&quot;:-2.77556e-17,&quot;y&quot;:-0.833333,&quot;z&quot;:-0.888889},{&quot;x&quot;:0.184039,&quot;y&quot;:-0.87828,&quot;z&quot;:-0.899352},{&quot;x&quot;:0.171429,&quot;y&quot;:-0.859048,&quot;z&quot;:-0.966032},{&quot;x&quot;:0.155531,&quot;y&quot;:-0.942006,&quot;z&quot;:-0.889285},{&quot;x&quot;:0.125302,&quot;y&quot;:-0.962159,&quot;z&quot;:-0.949743},{&quot;x&quot;:0.135127,&quot;y&quot;:-0.910888,&quot;z&quot;:-0.997175},{&quot;x&quot;:0.154286,&quot;y&quot;:-0.910476,&quot;z&quot;:-0.940317}], &quot;faces&quot;:[[0,1,2],[0,3,1],[0,4,3],[0,5,4],[0,2,5],[2,1,6],[1,3,6],[3,4,6],[4,5,6],[5,2,6]], &quot;color&quot;:&quot;#0000ff&quot;, &quot;opacity&quot;:1},{&quot;vertices&quot;:[{&quot;x&quot;:0.199952,&quot;y&quot;:-0.963623,&quot;z&quot;:-0.648478},{&quot;x&quot;:0.204942,&quot;y&quot;:-0.953616,&quot;z&quot;:-0.631896},{&quot;x&quot;:0.204366,&quot;y&quot;:-0.944827,&quot;z&quot;:-0.653696},{&quot;x&quot;:0.198621,&quot;y&quot;:-0.976235,&quot;z&quot;:-0.633013},{&quot;x&quot;:0.194139,&quot;y&quot;:-0.981424,&quot;z&quot;:-0.655502},{&quot;x&quot;:0.19769,&quot;y&quot;:-0.962014,&quot;z&quot;:-0.668285},{&quot;x&quot;:0.338324,&quot;y&quot;:-0.989993,&quot;z&quot;:-0.650085},{&quot;x&quot;:0.337748,&quot;y&quot;:-0.981204,&quot;z&quot;:-0.671884},{&quot;x&quot;:0.332003,&quot;y&quot;:-1.01261,&quot;z&quot;:-0.651201},{&quot;x&quot;:0.327521,&quot;y&quot;:-1.0178,&quot;z&quot;:-0.67369},{&quot;x&quot;:0.331071,&quot;y&quot;:-0.99839,&quot;z&quot;:-0.686473},{&quot;x&quot;:0.333333,&quot;y&quot;:-1,&quot;z&quot;:-0.666667}], &quot;faces&quot;:[[0,1,2],[0,3,1],[0,4,3],[0,5,4],[0,2,5],[2,1,6,7],[1,3,8,6],[3,4,9,8],[4,5,10,9],[5,2,7,10],[7,6,11],[6,8,11],[8,9,11],[9,10,11],[10,7,11]], &quot;color&quot;:&quot;#0000ff&quot;, &quot;opacity&quot;:1},{&quot;vertices&quot;:[{&quot;x&quot;:0.0277778,&quot;y&quot;:-0.916667,&quot;z&quot;:-0.625},{&quot;x&quot;:0.214923,&quot;y&quot;:-0.933602,&quot;z&quot;:-0.598733},{&quot;x&quot;:0.213196,&quot;y&quot;:-0.907235,&quot;z&quot;:-0.66413},{&quot;x&quot;:0.19596,&quot;y&quot;:-1.00146,&quot;z&quot;:-0.602082},{&quot;x&quot;:0.182514,&quot;y&quot;:-1.01703,&quot;z&quot;:-0.669549},{&quot;x&quot;:0.193166,&quot;y&quot;:-0.958794,&quot;z&quot;:-0.707897},{&quot;x&quot;:0.199952,&quot;y&quot;:-0.963623,&quot;z&quot;:-0.648478}], &quot;faces&quot;:[[0,1,2],[0,3,1],[0,4,3],[0,5,4],[0,2,5],[2,1,6],[1,3,6],[3,4,6],[4,5,6],[5,2,6]], &quot;color&quot;:&quot;#0000ff&quot;, &quot;opacity&quot;:1},{&quot;vertices&quot;:[{&quot;x&quot;:0.235556,&quot;y&quot;:-1,&quot;z&quot;:-0.333333},{&quot;x&quot;:0.235556,&quot;y&quot;:-0.99382,&quot;z&quot;:-0.314312},{&quot;x&quot;:0.235556,&quot;y&quot;:-0.98,&quot;z&quot;:-0.333333},{&quot;x&quot;:0.235556,&quot;y&quot;:-1.01618,&quot;z&quot;:-0.321578},{&quot;x&quot;:0.235556,&quot;y&quot;:-1.01618,&quot;z&quot;:-0.345089},{&quot;x&quot;:0.235556,&quot;y&quot;:-0.99382,&quot;z&quot;:-0.352354},{&quot;x&quot;:0.333333,&quot;y&quot;:-0.99382,&quot;z&quot;:-0.314312},{&quot;x&quot;:0.333333,&quot;y&quot;:-0.98,&quot;z&quot;:-0.333333},{&quot;x&quot;:0.333333,&quot;y&quot;:-1.01618,&quot;z&quot;:-0.321578},{&quot;x&quot;:0.333333,&quot;y&quot;:-1.01618,&quot;z&quot;:-0.345089},{&quot;x&quot;:0.333333,&quot;y&quot;:-0.99382,&quot;z&quot;:-0.352354},{&quot;x&quot;:0.333333,&quot;y&quot;:-1,&quot;z&quot;:-0.333333}], &quot;faces&quot;:[[0,1,2],[0,3,1],[0,4,3],[0,5,4],[0,2,5],[2,1,6,7],[1,3,8,6],[3,4,9,8],[4,5,10,9],[5,2,7,10],[7,6,11],[6,8,11],[8,9,11],[9,10,11],[10,7,11]], &quot;color&quot;:&quot;#0000ff&quot;, &quot;opacity&quot;:1},{&quot;vertices&quot;:[{&quot;x&quot;:0.0555556,&quot;y&quot;:-1,&quot;z&quot;:-0.333333},{&quot;x&quot;:0.235556,&quot;y&quot;:-0.981459,&quot;z&quot;:-0.27627},{&quot;x&quot;:0.235556,&quot;y&quot;:-0.94,&quot;z&quot;:-0.333333},{&quot;x&quot;:0.235556,&quot;y&quot;:-1.04854,&quot;z&quot;:-0.298066},{&quot;x&quot;:0.235556,&quot;y&quot;:-1.04854,&quot;z&quot;:-0.3686},{&quot;x&quot;:0.235556,&quot;y&quot;:-0.981459,&quot;z&quot;:-0.390397},{&quot;x&quot;:0.235556,&quot;y&quot;:-1,&quot;z&quot;:-0.333333}], &quot;faces&quot;:[[0,1,2],[0,3,1],[0,4,3],[0,5,4],[0,2,5],[2,1,6],[1,3,6],[3,4,6],[4,5,6],[5,2,6]], &quot;color&quot;:&quot;#0000ff&quot;, &quot;opacity&quot;:1},{&quot;vertices&quot;:[{&quot;x&quot;:0.25386,&quot;y&quot;:-1.02649,&quot;z&quot;:-0.0044152},{&quot;x&quot;:0.252909,&quot;y&quot;:-1.02697,&quot;z&quot;:0.0155565},{&quot;x&quot;:0.247544,&quot;y&quot;:-1.0086,&quot;z&quot;:0.00190058},{&quot;x&quot;:0.259588,&quot;y&quot;:-1.04468,&quot;z&quot;:0.0016122},{&quot;x&quot;:0.258351,&quot;y&quot;:-1.03726,&quot;z&quot;:-0.0206618},{&quot;x&quot;:0.250907,&quot;y&quot;:-1.01495,&quot;z&quot;:-0.0204835},{&quot;x&quot;:0.332383,&quot;y&quot;:-1.00048,&quot;z&quot;:0.0199717},{&quot;x&quot;:0.327018,&quot;y&quot;:-0.982105,&quot;z&quot;:0.00631579},{&quot;x&quot;:0.339062,&quot;y&quot;:-1.01819,&quot;z&quot;:0.0060274},{&quot;x&quot;:0.337824,&quot;y&quot;:-1.01076,&quot;z&quot;:-0.0162466},{&quot;x&quot;:0.330381,&quot;y&quot;:-0.988464,&quot;z&quot;:-0.0160683},{&quot;x&quot;:0.333333,&quot;y&quot;:-1,&quot;z&quot;:0}], &quot;faces&quot;:[[0,1,2],[0,3,1],[0,4,3],[0,5,4],[0,2,5],[2,1,6,7],[1,3,8,6],[3,4,9,8],[4,5,10,9],[5,2,7,10],[7,6,11],[6,8,11],[8,9,11],[9,10,11],[10,7,11]], &quot;color&quot;:&quot;#0000ff&quot;, &quot;opacity&quot;:1},{&quot;vertices&quot;:[{&quot;x&quot;:0.0833333,&quot;y&quot;:-1.08333,&quot;z&quot;:-0.0138889},{&quot;x&quot;:0.251008,&quot;y&quot;:-1.02792,&quot;z&quot;:0.0554999},{&quot;x&quot;:0.234912,&quot;y&quot;:-0.972807,&quot;z&quot;:0.0145322},{&quot;x&quot;:0.271045,&quot;y&quot;:-1.08106,&quot;z&quot;:0.013667},{&quot;x&quot;:0.267332,&quot;y&quot;:-1.05879,&quot;z&quot;:-0.0531549},{&quot;x&quot;:0.245001,&quot;y&quot;:-0.991882,&quot;z&quot;:-0.0526202},{&quot;x&quot;:0.25386,&quot;y&quot;:-1.02649,&quot;z&quot;:-0.0044152}], &quot;faces&quot;:[[0,1,2],[0,3,1],[0,4,3],[0,5,4],[0,2,5],[2,1,6],[1,3,6],[3,4,6],[4,5,6],[5,2,6]], &quot;color&quot;:&quot;#0000ff&quot;, &quot;opacity&quot;:1},{&quot;vertices&quot;:[{&quot;x&quot;:0.255111,&quot;y&quot;:-1.05867,&quot;z&quot;:0.333333},{&quot;x&quot;:0.258992,&quot;y&quot;:-1.06384,&quot;z&quot;:0.352258},{&quot;x&quot;:0.245511,&quot;y&quot;:-1.04587,&quot;z&quot;:0.345333},{&quot;x&quot;:0.26711,&quot;y&quot;:-1.07466,&quot;z&quot;:0.33303},{&quot;x&quot;:0.258646,&quot;y&quot;:-1.06338,&quot;z&quot;:0.314221},{&quot;x&quot;:0.245297,&quot;y&quot;:-1.04558,&quot;z&quot;:0.321825},{&quot;x&quot;:0.337214,&quot;y&quot;:-1.00517,&quot;z&quot;:0.352258},{&quot;x&quot;:0.323733,&quot;y&quot;:-0.9872,&quot;z&quot;:0.345333},{&quot;x&quot;:0.345332,&quot;y&quot;:-1.016,&quot;z&quot;:0.33303},{&quot;x&quot;:0.336868,&quot;y&quot;:-1.00471,&quot;z&quot;:0.314221},{&quot;x&quot;:0.323519,&quot;y&quot;:-0.986914,&quot;z&quot;:0.321825},{&quot;x&quot;:0.333333,&quot;y&quot;:-1,&quot;z&quot;:0.333333}], &quot;faces&quot;:[[0,1,2],[0,3,1],[0,4,3],[0,5,4],[0,2,5],[2,1,6,7],[1,3,8,6],[3,4,9,8],[4,5,10,9],[5,2,7,10],[7,6,11],[6,8,11],[8,9,11],[9,10,11],[10,7,11]], &quot;color&quot;:&quot;#0000ff&quot;, &quot;opacity&quot;:1},{&quot;vertices&quot;:[{&quot;x&quot;:0.111111,&quot;y&quot;:-1.16667,&quot;z&quot;:0.333333},{&quot;x&quot;:0.266754,&quot;y&quot;:-1.07419,&quot;z&quot;:0.390109},{&quot;x&quot;:0.226311,&quot;y&quot;:-1.02027,&quot;z&quot;:0.369333},{&quot;x&quot;:0.291107,&quot;y&quot;:-1.10666,&quot;z&quot;:0.332422},{&quot;x&quot;:0.265715,&quot;y&quot;:-1.0728,&quot;z&quot;:0.275995},{&quot;x&quot;:0.225669,&quot;y&quot;:-1.01941,&quot;z&quot;:0.298807},{&quot;x&quot;:0.255111,&quot;y&quot;:-1.05867,&quot;z&quot;:0.333333}], &quot;faces&quot;:[[0,1,2],[0,3,1],[0,4,3],[0,5,4],[0,2,5],[2,1,6],[1,3,6],[3,4,6],[4,5,6],[5,2,6]], &quot;color&quot;:&quot;#0000ff&quot;, &quot;opacity&quot;:1},{&quot;vertices&quot;:[{&quot;x&quot;:0.248454,&quot;y&quot;:-1.10913,&quot;z&quot;:0.684855},{&quot;x&quot;:0.258636,&quot;y&quot;:-1.11431,&quot;z&quot;:0.70127},{&quot;x&quot;:0.240026,&quot;y&quot;:-1.09997,&quot;z&quot;:0.700507},{&quot;x&quot;:0.263175,&quot;y&quot;:-1.1215,&quot;z&quot;:0.679348},{&quot;x&quot;:0.24737,&quot;y&quot;:-1.11159,&quot;z&quot;:0.665037},{&quot;x&quot;:0.233063,&quot;y&quot;:-1.09828,&quot;z&quot;:0.678114},{&quot;x&quot;:0.343516,&quot;y&quot;:-1.00518,&quot;z&quot;:0.683082},{&quot;x&quot;:0.324905,&quot;y&quot;:-0.990836,&quot;z&quot;:0.682319},{&quot;x&quot;:0.348054,&quot;y&quot;:-1.01237,&quot;z&quot;:0.661159},{&quot;x&quot;:0.332249,&quot;y&quot;:-1.00246,&quot;z&quot;:0.646848},{&quot;x&quot;:0.317942,&quot;y&quot;:-0.989153,&quot;z&quot;:0.659925},{&quot;x&quot;:0.333333,&quot;y&quot;:-1,&quot;z&quot;:0.666667}], &quot;faces&quot;:[[0,1,2],[0,3,1],[0,4,3],[0,5,4],[0,2,5],[2,1,6,7],[1,3,8,6],[3,4,9,8],[4,5,10,9],[5,2,7,10],[7,6,11],[6,8,11],[8,9,11],[9,10,11],[10,7,11]], &quot;color&quot;:&quot;#0000ff&quot;, &quot;opacity&quot;:1},{&quot;vertices&quot;:[{&quot;x&quot;:0.138889,&quot;y&quot;:-1.25,&quot;z&quot;:0.708333},{&quot;x&quot;:0.279001,&quot;y&quot;:-1.12468,&quot;z&quot;:0.7341},{&quot;x&quot;:0.22317,&quot;y&quot;:-1.08164,&quot;z&quot;:0.731812},{&quot;x&quot;:0.292618,&quot;y&quot;:-1.14623,&quot;z&quot;:0.668333},{&quot;x&quot;:0.245202,&quot;y&quot;:-1.11651,&quot;z&quot;:0.6254},{&quot;x&quot;:0.20228,&quot;y&quot;:-1.07659,&quot;z&quot;:0.664631},{&quot;x&quot;:0.248454,&quot;y&quot;:-1.10913,&quot;z&quot;:0.684855}], &quot;faces&quot;:[[0,1,2],[0,3,1],[0,4,3],[0,5,4],[0,2,5],[2,1,6],[1,3,6],[3,4,6],[4,5,6],[5,2,6]], &quot;color&quot;:&quot;#0000ff&quot;, &quot;opacity&quot;:1},{&quot;vertices&quot;:[{&quot;x&quot;:0.24381,&quot;y&quot;:-1.17905,&quot;z&quot;:1.05968},{&quot;x&quot;:0.258348,&quot;y&quot;:-1.18183,&quot;z&quot;:1.07313},{&quot;x&quot;:0.238095,&quot;y&quot;:-1.17048,&quot;z&quot;:1.07683},{&quot;x&quot;:0.258509,&quot;y&quot;:-1.18934,&quot;z&quot;:1.05085},{&quot;x&quot;:0.238356,&quot;y&quot;:-1.18262,&quot;z&quot;:1.04078},{&quot;x&quot;:0.22574,&quot;y&quot;:-1.17096,&quot;z&quot;:1.05683},{&quot;x&quot;:0.347871,&quot;y&quot;:-1.00279,&quot;z&quot;:1.01345},{&quot;x&quot;:0.327619,&quot;y&quot;:-0.991429,&quot;z&quot;:1.01714},{&quot;x&quot;:0.348033,&quot;y&quot;:-1.01029,&quot;z&quot;:0.991169},{&quot;x&quot;:0.32788,&quot;y&quot;:-1.00358,&quot;z&quot;:0.981093},{&quot;x&quot;:0.315264,&quot;y&quot;:-0.991917,&quot;z&quot;:0.997146},{&quot;x&quot;:0.333333,&quot;y&quot;:-1,&quot;z&quot;:1}], &quot;faces&quot;:[[0,1,2],[0,3,1],[0,4,3],[0,5,4],[0,2,5],[2,1,6,7],[1,3,8,6],[3,4,9,8],[4,5,10,9],[5,2,7,10],[7,6,11],[6,8,11],[8,9,11],[9,10,11],[10,7,11]], &quot;color&quot;:&quot;#0000ff&quot;, &quot;opacity&quot;:1},{&quot;vertices&quot;:[{&quot;x&quot;:0.166667,&quot;y&quot;:-1.33333,&quot;z&quot;:1.11111},{&quot;x&quot;:0.287424,&quot;y&quot;:-1.18741,&quot;z&quot;:1.10003},{&quot;x&quot;:0.226667,&quot;y&quot;:-1.15333,&quot;z&quot;:1.11111},{&quot;x&quot;:0.287907,&quot;y&quot;:-1.20993,&quot;z&quot;:1.03319},{&quot;x&quot;:0.227449,&quot;y&quot;:-1.18977,&quot;z&quot;:1.00296},{&quot;x&quot;:0.189601,&quot;y&quot;:-1.1548,&quot;z&quot;:1.05112},{&quot;x&quot;:0.24381,&quot;y&quot;:-1.17905,&quot;z&quot;:1.05968}], &quot;faces&quot;:[[0,1,2],[0,3,1],[0,4,3],[0,5,4],[0,2,5],[2,1,6],[1,3,6],[3,4,6],[4,5,6],[5,2,6]], &quot;color&quot;:&quot;#0000ff&quot;, &quot;opacity&quot;:1},{&quot;vertices&quot;:[{&quot;x&quot;:0.224203,&quot;y&quot;:-0.63029,&quot;z&quot;:-0.921184},{&quot;x&quot;:0.236587,&quot;y&quot;:-0.621897,&quot;z&quot;:-0.90791},{&quot;x&quot;:0.226812,&quot;y&quot;:-0.611159,&quot;z&quot;:-0.926401},{&quot;x&quot;:0.229248,&quot;y&quot;:-0.644233,&quot;z&quot;:-0.907762},{&quot;x&quot;:0.214937,&quot;y&quot;:-0.6473,&quot;z&quot;:-0.926163},{&quot;x&quot;:0.213431,&quot;y&quot;:-0.626859,&quot;z&quot;:-0.937682},{&quot;x&quot;:0.345718,&quot;y&quot;:-0.658274,&quot;z&quot;:-0.986726},{&quot;x&quot;:0.335942,&quot;y&quot;:-0.647536,&quot;z&quot;:-1.00522},{&quot;x&quot;:0.338379,&quot;y&quot;:-0.68061,&quot;z&quot;:-0.986579},{&quot;x&quot;:0.324067,&quot;y&quot;:-0.683677,&quot;z&quot;:-1.00498},{&quot;x&quot;:0.322561,&quot;y&quot;:-0.663236,&quot;z&quot;:-1.0165},{&quot;x&quot;:0.333333,&quot;y&quot;:-0.666667,&quot;z&quot;:-1}], &quot;faces&quot;:[[0,1,2],[0,3,1],[0,4,3],[0,5,4],[0,2,5],[2,1,6,7],[1,3,8,6],[3,4,9,8],[4,5,10,9],[5,2,7,10],[7,6,11],[6,8,11],[8,9,11],[9,10,11],[10,7,11]], &quot;color&quot;:&quot;#0000ff&quot;, &quot;opacity&quot;:1},{&quot;vertices&quot;:[{&quot;x&quot;:0.0833333,&quot;y&quot;:-0.583333,&quot;z&quot;:-0.819444},{&quot;x&quot;:0.261356,&quot;y&quot;:-0.605112,&quot;z&quot;:-0.881362},{&quot;x&quot;:0.232029,&quot;y&quot;:-0.572899,&quot;z&quot;:-0.936836},{&quot;x&quot;:0.239338,&quot;y&quot;:-0.67212,&quot;z&quot;:-0.88092},{&quot;x&quot;:0.196405,&quot;y&quot;:-0.68132,&quot;z&quot;:-0.936121},{&quot;x&quot;:0.191887,&quot;y&quot;:-0.619998,&quot;z&quot;:-0.970679},{&quot;x&quot;:0.224203,&quot;y&quot;:-0.63029,&quot;z&quot;:-0.921184}], &quot;faces&quot;:[[0,1,2],[0,3,1],[0,4,3],[0,5,4],[0,2,5],[2,1,6],[1,3,6],[3,4,6],[4,5,6],[5,2,6]], &quot;color&quot;:&quot;#0000ff&quot;, &quot;opacity&quot;:1},{&quot;vertices&quot;:[{&quot;x&quot;:0.271111,&quot;y&quot;:-0.658889,&quot;z&quot;:-0.635556},{&quot;x&quot;:0.28015,&quot;y&quot;:-0.651461,&quot;z&quot;:-0.619335},{&quot;x&quot;:0.272479,&quot;y&quot;:-0.63906,&quot;z&quot;:-0.637778},{&quot;x&quot;:0.27533,&quot;y&quot;:-0.674127,&quot;z&quot;:-0.623308},{&quot;x&quot;:0.26468,&quot;y&quot;:-0.675735,&quot;z&quot;:-0.644207},{&quot;x&quot;:0.262917,&quot;y&quot;:-0.654062,&quot;z&quot;:-0.65315},{&quot;x&quot;:0.342372,&quot;y&quot;:-0.659239,&quot;z&quot;:-0.650446},{&quot;x&quot;:0.334701,&quot;y&quot;:-0.646838,&quot;z&quot;:-0.668889},{&quot;x&quot;:0.337552,&quot;y&quot;:-0.681905,&quot;z&quot;:-0.654419},{&quot;x&quot;:0.326902,&quot;y&quot;:-0.683513,&quot;z&quot;:-0.675318},{&quot;x&quot;:0.32514,&quot;y&quot;:-0.66184,&quot;z&quot;:-0.684261},{&quot;x&quot;:0.333333,&quot;y&quot;:-0.666667,&quot;z&quot;:-0.666667}], &quot;faces&quot;:[[0,1,2],[0,3,1],[0,4,3],[0,5,4],[0,2,5],[2,1,6,7],[1,3,8,6],[3,4,9,8],[4,5,10,9],[5,2,7,10],[7,6,11],[6,8,11],[8,9,11],[9,10,11],[10,7,11]], &quot;color&quot;:&quot;#0000ff&quot;, &quot;opacity&quot;:1},{&quot;vertices&quot;:[{&quot;x&quot;:0.111111,&quot;y&quot;:-0.638889,&quot;z&quot;:-0.555556},{&quot;x&quot;:0.298228,&quot;y&quot;:-0.636605,&quot;z&quot;:-0.586893},{&quot;x&quot;:0.275214,&quot;y&quot;:-0.599402,&quot;z&quot;:-0.642222},{&quot;x&quot;:0.283768,&quot;y&quot;:-0.704604,&quot;z&quot;:-0.598814},{&quot;x&quot;:0.251816,&quot;y&quot;:-0.709426,&quot;z&quot;:-0.661511},{&quot;x&quot;:0.24653,&quot;y&quot;:-0.644408,&quot;z&quot;:-0.688339},{&quot;x&quot;:0.271111,&quot;y&quot;:-0.658889,&quot;z&quot;:-0.635556}], &quot;faces&quot;:[[0,1,2],[0,3,1],[0,4,3],[0,5,4],[0,2,5],[2,1,6],[1,3,6],[3,4,6],[4,5,6],[5,2,6]], &quot;color&quot;:&quot;#0000ff&quot;, &quot;opacity&quot;:1},{&quot;vertices&quot;:[{&quot;x&quot;:0.306889,&quot;y&quot;:-0.670444,&quot;z&quot;:-0.323889},{&quot;x&quot;:0.312906,&quot;y&quot;:-0.666122,&quot;z&quot;:-0.305312},{&quot;x&quot;:0.305022,&quot;y&quot;:-0.650711,&quot;z&quot;:-0.321222},{&quot;x&quot;:0.312474,&quot;y&quot;:-0.687506,&quot;z&quot;:-0.315074},{&quot;x&quot;:0.304324,&quot;y&quot;:-0.685312,&quot;z&quot;:-0.337018},{&quot;x&quot;:0.299718,&quot;y&quot;:-0.662571,&quot;z&quot;:-0.340818},{&quot;x&quot;:0.33935,&quot;y&quot;:-0.662344,&quot;z&quot;:-0.314756},{&quot;x&quot;:0.331467,&quot;y&quot;:-0.646933,&quot;z&quot;:-0.330667},{&quot;x&quot;:0.338919,&quot;y&quot;:-0.683728,&quot;z&quot;:-0.324519},{&quot;x&quot;:0.330768,&quot;y&quot;:-0.681534,&quot;z&quot;:-0.346463},{&quot;x&quot;:0.326163,&quot;y&quot;:-0.658793,&quot;z&quot;:-0.350262},{&quot;x&quot;:0.333333,&quot;y&quot;:-0.666667,&quot;z&quot;:-0.333333}], &quot;faces&quot;:[[0,1,2],[0,3,1],[0,4,3],[0,5,4],[0,2,5],[2,1,6,7],[1,3,8,6],[3,4,9,8],[4,5,10,9],[5,2,7,10],[7,6,11],[6,8,11],[8,9,11],[9,10,11],[10,7,11]], &quot;color&quot;:&quot;#0000ff&quot;, &quot;opacity&quot;:1},{&quot;vertices&quot;:[{&quot;x&quot;:0.138889,&quot;y&quot;:-0.694444,&quot;z&quot;:-0.263889},{&quot;x&quot;:0.32494,&quot;y&quot;:-0.657477,&quot;z&quot;:-0.268158},{&quot;x&quot;:0.301289,&quot;y&quot;:-0.611244,&quot;z&quot;:-0.315889},{&quot;x&quot;:0.323645,&quot;y&quot;:-0.72163,&quot;z&quot;:-0.297445},{&quot;x&quot;:0.299193,&quot;y&quot;:-0.715047,&quot;z&quot;:-0.363277},{&quot;x&quot;:0.285376,&quot;y&quot;:-0.646825,&quot;z&quot;:-0.374676},{&quot;x&quot;:0.306889,&quot;y&quot;:-0.670444,&quot;z&quot;:-0.323889}], &quot;faces&quot;:[[0,1,2],[0,3,1],[0,4,3],[0,5,4],[0,2,5],[2,1,6],[1,3,6],[3,4,6],[4,5,6],[5,2,6]], &quot;color&quot;:&quot;#0000ff&quot;, &quot;opacity&quot;:1},{&quot;vertices&quot;:[{&quot;x&quot;:0.320952,&quot;y&quot;:-0.672857,&quot;z&quot;:0.00412698},{&quot;x&quot;:0.327338,&quot;y&quot;:-0.672994,&quot;z&quot;:0.0230795},{&quot;x&quot;:0.315238,&quot;y&quot;:-0.655714,&quot;z&quot;:0.0126984},{&quot;x&quot;:0.330613,&quot;y&quot;:-0.690085,&quot;z&quot;:0.00726887},{&quot;x&quot;:0.320537,&quot;y&quot;:-0.683367,&quot;z&quot;:-0.0128838},{&quot;x&quot;:0.311035,&quot;y&quot;:-0.662125,&quot;z&quot;:-0.00952812},{&quot;x&quot;:0.339719,&quot;y&quot;:-0.666804,&quot;z&quot;:0.0189525},{&quot;x&quot;:0.327619,&quot;y&quot;:-0.649524,&quot;z&quot;:0.00857143},{&quot;x&quot;:0.342994,&quot;y&quot;:-0.683894,&quot;z&quot;:0.00314189},{&quot;x&quot;:0.332918,&quot;y&quot;:-0.677177,&quot;z&quot;:-0.0170107},{&quot;x&quot;:0.323416,&quot;y&quot;:-0.655935,&quot;z&quot;:-0.0136551},{&quot;x&quot;:0.333333,&quot;y&quot;:-0.666667,&quot;z&quot;:0}], &quot;faces&quot;:[[0,1,2],[0,3,1],[0,4,3],[0,5,4],[0,2,5],[2,1,6,7],[1,3,8,6],[3,4,9,8],[4,5,10,9],[5,2,7,10],[7,6,11],[6,8,11],[8,9,11],[9,10,11],[10,7,11]], &quot;color&quot;:&quot;#0000ff&quot;, &quot;opacity&quot;:1},{&quot;vertices&quot;:[{&quot;x&quot;:0.166667,&quot;y&quot;:-0.75,&quot;z&quot;:0.0555556},{&quot;x&quot;:0.340111,&quot;y&quot;:-0.673269,&quot;z&quot;:0.0609846},{&quot;x&quot;:0.30381,&quot;y&quot;:-0.621429,&quot;z&quot;:0.0298413},{&quot;x&quot;:0.349936,&quot;y&quot;:-0.72454,&quot;z&quot;:0.0135526},{&quot;x&quot;:0.319707,&quot;y&quot;:-0.704387,&quot;z&quot;:-0.0469053},{&quot;x&quot;:0.291199,&quot;y&quot;:-0.640661,&quot;z&quot;:-0.0368383},{&quot;x&quot;:0.320952,&quot;y&quot;:-0.672857,&quot;z&quot;:0.00412698}], &quot;faces&quot;:[[0,1,2],[0,3,1],[0,4,3],[0,5,4],[0,2,5],[2,1,6],[1,3,6],[3,4,6],[4,5,6],[5,2,6]], &quot;color&quot;:&quot;#0000ff&quot;, &quot;opacity&quot;:1},{&quot;vertices&quot;:[{&quot;x&quot;:0.314444,&quot;y&quot;:-0.685556,&quot;z&quot;:0.342778},{&quot;x&quot;:0.325065,&quot;y&quot;:-0.687776,&quot;z&quot;:0.359579},{&quot;x&quot;:0.307778,&quot;y&quot;:-0.672222,&quot;z&quot;:0.356111},{&quot;x&quot;:0.327675,&quot;y&quot;:-0.700261,&quot;z&quot;:0.339828},{&quot;x&quot;:0.312001,&quot;y&quot;:-0.692424,&quot;z&quot;:0.324154},{&quot;x&quot;:0.299704,&quot;y&quot;:-0.675095,&quot;z&quot;:0.334217},{&quot;x&quot;:0.343954,&quot;y&quot;:-0.668887,&quot;z&quot;:0.350134},{&quot;x&quot;:0.326667,&quot;y&quot;:-0.653333,&quot;z&quot;:0.346667},{&quot;x&quot;:0.346564,&quot;y&quot;:-0.681372,&quot;z&quot;:0.330384},{&quot;x&quot;:0.33089,&quot;y&quot;:-0.673535,&quot;z&quot;:0.314709},{&quot;x&quot;:0.318592,&quot;y&quot;:-0.656206,&quot;z&quot;:0.324773},{&quot;x&quot;:0.333333,&quot;y&quot;:-0.666667,&quot;z&quot;:0.333333}], &quot;faces&quot;:[[0,1,2],[0,3,1],[0,4,3],[0,5,4],[0,2,5],[2,1,6,7],[1,3,8,6],[3,4,9,8],[4,5,10,9],[5,2,7,10],[7,6,11],[6,8,11],[8,9,11],[9,10,11],[10,7,11]], &quot;color&quot;:&quot;#0000ff&quot;, &quot;opacity&quot;:1},{&quot;vertices&quot;:[{&quot;x&quot;:0.194444,&quot;y&quot;:-0.805556,&quot;z&quot;:0.402778},{&quot;x&quot;:0.346306,&quot;y&quot;:-0.692216,&quot;z&quot;:0.393181},{&quot;x&quot;:0.294444,&quot;y&quot;:-0.645556,&quot;z&quot;:0.382778},{&quot;x&quot;:0.354136,&quot;y&quot;:-0.729672,&quot;z&quot;:0.333929},{&quot;x&quot;:0.307113,&quot;y&quot;:-0.706161,&quot;z&quot;:0.286906},{&quot;x&quot;:0.270222,&quot;y&quot;:-0.654174,&quot;z&quot;:0.317096},{&quot;x&quot;:0.314444,&quot;y&quot;:-0.685556,&quot;z&quot;:0.342778}], &quot;faces&quot;:[[0,1,2],[0,3,1],[0,4,3],[0,5,4],[0,2,5],[2,1,6],[1,3,6],[3,4,6],[4,5,6],[5,2,6]], &quot;color&quot;:&quot;#0000ff&quot;, &quot;opacity&quot;:1},{&quot;vertices&quot;:[{&quot;x&quot;:0.302222,&quot;y&quot;:-0.721111,&quot;z&quot;:0.697778},{&quot;x&quot;:0.317163,&quot;y&quot;:-0.722071,&quot;z&quot;:0.711039},{&quot;x&quot;:0.297436,&quot;y&quot;:-0.709487,&quot;z&quot;:0.713333},{&quot;x&quot;:0.316243,&quot;y&quot;:-0.733328,&quot;z&quot;:0.690418},{&quot;x&quot;:0.295946,&quot;y&quot;:-0.727702,&quot;z&quot;:0.679968},{&quot;x&quot;:0.284323,&quot;y&quot;:-0.712967,&quot;z&quot;:0.694131},{&quot;x&quot;:0.348274,&quot;y&quot;:-0.667627,&quot;z&quot;:0.679927},{&quot;x&quot;:0.328547,&quot;y&quot;:-0.655043,&quot;z&quot;:0.682222},{&quot;x&quot;:0.347354,&quot;y&quot;:-0.678884,&quot;z&quot;:0.659307},{&quot;x&quot;:0.327057,&quot;y&quot;:-0.673257,&quot;z&quot;:0.648857},{&quot;x&quot;:0.315434,&quot;y&quot;:-0.658523,&quot;z&quot;:0.66302},{&quot;x&quot;:0.333333,&quot;y&quot;:-0.666667,&quot;z&quot;:0.666667}], &quot;faces&quot;:[[0,1,2],[0,3,1],[0,4,3],[0,5,4],[0,2,5],[2,1,6,7],[1,3,8,6],[3,4,9,8],[4,5,10,9],[5,2,7,10],[7,6,11],[6,8,11],[8,9,11],[9,10,11],[10,7,11]], &quot;color&quot;:&quot;#0000ff&quot;, &quot;opacity&quot;:1},{&quot;vertices&quot;:[{&quot;x&quot;:0.222222,&quot;y&quot;:-0.861111,&quot;z&quot;:0.777778},{&quot;x&quot;:0.347045,&quot;y&quot;:-0.723991,&quot;z&quot;:0.73756},{&quot;x&quot;:0.287863,&quot;y&quot;:-0.686239,&quot;z&quot;:0.744444},{&quot;x&quot;:0.344283,&quot;y&quot;:-0.757763,&quot;z&quot;:0.675698},{&quot;x&quot;:0.283395,&quot;y&quot;:-0.740883,&quot;z&quot;:0.644349},{&quot;x&quot;:0.248525,&quot;y&quot;:-0.696679,&quot;z&quot;:0.686837},{&quot;x&quot;:0.302222,&quot;y&quot;:-0.721111,&quot;z&quot;:0.697778}], &quot;faces&quot;:[[0,1,2],[0,3,1],[0,4,3],[0,5,4],[0,2,5],[2,1,6],[1,3,6],[3,4,6],[4,5,6],[5,2,6]], &quot;color&quot;:&quot;#0000ff&quot;, &quot;opacity&quot;:1},{&quot;vertices&quot;:[{&quot;x&quot;:0.296957,&quot;y&quot;:-0.775797,&quot;z&quot;:1.07882},{&quot;x&quot;:0.314345,&quot;y&quot;:-0.774516,&quot;z&quot;:1.08862},{&quot;x&quot;:0.294348,&quot;y&quot;:-0.763623,&quot;z&quot;:1.09447},{&quot;x&quot;:0.310312,&quot;y&quot;:-0.787179,&quot;z&quot;:1.06922},{&quot;x&quot;:0.287822,&quot;y&quot;:-0.784113,&quot;z&quot;:1.06309},{&quot;x&quot;:0.277956,&quot;y&quot;:-0.769554,&quot;z&quot;:1.07869},{&quot;x&quot;:0.350721,&quot;y&quot;:-0.665386,&quot;z&quot;:1.0098},{&quot;x&quot;:0.330725,&quot;y&quot;:-0.654493,&quot;z&quot;:1.01565},{&quot;x&quot;:0.346688,&quot;y&quot;:-0.678049,&quot;z&quot;:0.990404},{&quot;x&quot;:0.324199,&quot;y&quot;:-0.674982,&quot;z&quot;:0.98427},{&quot;x&quot;:0.314333,&quot;y&quot;:-0.660424,&quot;z&quot;:0.999875},{&quot;x&quot;:0.333333,&quot;y&quot;:-0.666667,&quot;z&quot;:1}], &quot;faces&quot;:[[0,1,2],[0,3,1],[0,4,3],[0,5,4],[0,2,5],[2,1,6,7],[1,3,8,6],[3,4,9,8],[4,5,10,9],[5,2,7,10],[7,6,11],[6,8,11],[8,9,11],[9,10,11],[10,7,11]], &quot;color&quot;:&quot;#0000ff&quot;, &quot;opacity&quot;:1},{&quot;vertices&quot;:[{&quot;x&quot;:0.25,&quot;y&quot;:-0.916667,&quot;z&quot;:1.18056},{&quot;x&quot;:0.349121,&quot;y&quot;:-0.771954,&quot;z&quot;:1.10821},{&quot;x&quot;:0.28913,&quot;y&quot;:-0.739275,&quot;z&quot;:1.12577},{&quot;x&quot;:0.337022,&quot;y&quot;:-0.809944,&quot;z&quot;:1.05003},{&quot;x&quot;:0.269554,&quot;y&quot;:-0.800744,&quot;z&quot;:1.03163},{&quot;x&quot;:0.239956,&quot;y&quot;:-0.757068,&quot;z&quot;:1.07844},{&quot;x&quot;:0.296957,&quot;y&quot;:-0.775797,&quot;z&quot;:1.07882}], &quot;faces&quot;:[[0,1,2],[0,3,1],[0,4,3],[0,5,4],[0,2,5],[2,1,6],[1,3,6],[3,4,6],[4,5,6],[5,2,6]], &quot;color&quot;:&quot;#0000ff&quot;, &quot;opacity&quot;:1},{&quot;vertices&quot;:[{&quot;x&quot;:0.274667,&quot;y&quot;:-0.333333,&quot;z&quot;:-0.921778},{&quot;x&quot;:0.289884,&quot;y&quot;:-0.327153,&quot;z&quot;:-0.910365},{&quot;x&quot;:0.274667,&quot;y&quot;:-0.313333,&quot;z&quot;:-0.921778},{&quot;x&quot;:0.284071,&quot;y&quot;:-0.349514,&quot;z&quot;:-0.914724},{&quot;x&quot;:0.265262,&quot;y&quot;:-0.349514,&quot;z&quot;:-0.928831},{&quot;x&quot;:0.25945,&quot;y&quot;:-0.327153,&quot;z&quot;:-0.93319},{&quot;x&quot;:0.34855,&quot;y&quot;:-0.327153,&quot;z&quot;:-0.988587},{&quot;x&quot;:0.333333,&quot;y&quot;:-0.313333,&quot;z&quot;:-1},{&quot;x&quot;:0.342738,&quot;y&quot;:-0.349514,&quot;z&quot;:-0.992947},{&quot;x&quot;:0.323929,&quot;y&quot;:-0.349514,&quot;z&quot;:-1.00705},{&quot;x&quot;:0.318116,&quot;y&quot;:-0.327153,&quot;z&quot;:-1.01141},{&quot;x&quot;:0.333333,&quot;y&quot;:-0.333333,&quot;z&quot;:-1}], &quot;faces&quot;:[[0,1,2],[0,3,1],[0,4,3],[0,5,4],[0,2,5],[2,1,6,7],[1,3,8,6],[3,4,9,8],[4,5,10,9],[5,2,7,10],[7,6,11],[6,8,11],[8,9,11],[9,10,11],[10,7,11]], &quot;color&quot;:&quot;#0000ff&quot;, &quot;opacity&quot;:1},{&quot;vertices&quot;:[{&quot;x&quot;:0.166667,&quot;y&quot;:-0.333333,&quot;z&quot;:-0.777778},{&quot;x&quot;:0.320317,&quot;y&quot;:-0.314792,&quot;z&quot;:-0.88754},{&quot;x&quot;:0.274667,&quot;y&quot;:-0.273333,&quot;z&quot;:-0.921778},{&quot;x&quot;:0.30288,&quot;y&quot;:-0.381874,&quot;z&quot;:-0.900618},{&quot;x&quot;:0.246453,&quot;y&quot;:-0.381874,&quot;z&quot;:-0.942938},{&quot;x&quot;:0.229016,&quot;y&quot;:-0.314792,&quot;z&quot;:-0.956016},{&quot;x&quot;:0.274667,&quot;y&quot;:-0.333333,&quot;z&quot;:-0.921778}], &quot;faces&quot;:[[0,1,2],[0,3,1],[0,4,3],[0,5,4],[0,2,5],[2,1,6],[1,3,6],[3,4,6],[4,5,6],[5,2,6]], &quot;color&quot;:&quot;#0000ff&quot;, &quot;opacity&quot;:1},{&quot;vertices&quot;:[{&quot;x&quot;:0.314444,&quot;y&quot;:-0.337111,&quot;z&quot;:-0.645889},{&quot;x&quot;:0.328271,&quot;y&quot;:-0.33197,&quot;z&quot;:-0.632384},{&quot;x&quot;:0.313419,&quot;y&quot;:-0.317316,&quot;z&quot;:-0.643222},{&quot;x&quot;:0.324016,&quot;y&quot;:-0.353728,&quot;z&quot;:-0.640209},{&quot;x&quot;:0.306533,&quot;y&quot;:-0.352523,&quot;z&quot;:-0.655883},{&quot;x&quot;:0.299984,&quot;y&quot;:-0.330019,&quot;z&quot;:-0.657746},{&quot;x&quot;:0.34716,&quot;y&quot;:-0.328192,&quot;z&quot;:-0.653162},{&quot;x&quot;:0.332308,&quot;y&quot;:-0.313538,&quot;z&quot;:-0.664},{&quot;x&quot;:0.342905,&quot;y&quot;:-0.349951,&quot;z&quot;:-0.660987},{&quot;x&quot;:0.325422,&quot;y&quot;:-0.348745,&quot;z&quot;:-0.676661},{&quot;x&quot;:0.318872,&quot;y&quot;:-0.326241,&quot;z&quot;:-0.678523},{&quot;x&quot;:0.333333,&quot;y&quot;:-0.333333,&quot;z&quot;:-0.666667}], &quot;faces&quot;:[[0,1,2],[0,3,1],[0,4,3],[0,5,4],[0,2,5],[2,1,6,7],[1,3,8,6],[3,4,9,8],[4,5,10,9],[5,2,7,10],[7,6,11],[6,8,11],[8,9,11],[9,10,11],[10,7,11]], &quot;color&quot;:&quot;#0000ff&quot;, &quot;opacity&quot;:1},{&quot;vertices&quot;:[{&quot;x&quot;:0.194444,&quot;y&quot;:-0.361111,&quot;z&quot;:-0.513889},{&quot;x&quot;:0.355925,&quot;y&quot;:-0.321687,&quot;z&quot;:-0.605374},{&quot;x&quot;:0.311368,&quot;y&quot;:-0.277726,&quot;z&quot;:-0.637889},{&quot;x&quot;:0.343158,&quot;y&quot;:-0.386963,&quot;z&quot;:-0.62885},{&quot;x&quot;:0.290709,&quot;y&quot;:-0.383346,&quot;z&quot;:-0.675872},{&quot;x&quot;:0.271062,&quot;y&quot;:-0.315834,&quot;z&quot;:-0.681459},{&quot;x&quot;:0.314444,&quot;y&quot;:-0.337111,&quot;z&quot;:-0.645889}], &quot;faces&quot;:[[0,1,2],[0,3,1],[0,4,3],[0,5,4],[0,2,5],[2,1,6],[1,3,6],[3,4,6],[4,5,6],[5,2,6]], &quot;color&quot;:&quot;#0000ff&quot;, &quot;opacity&quot;:1},{&quot;vertices&quot;:[{&quot;x&quot;:0.222222,&quot;y&quot;:-0.388889,&quot;z&quot;:-0.222222},{&quot;x&quot;:0.369791,&quot;y&quot;:-0.324355,&quot;z&quot;:-0.292386},{&quot;x&quot;:0.325926,&quot;y&quot;:-0.281481,&quot;z&quot;:-0.314815},{&quot;x&quot;:0.363273,&quot;y&quot;:-0.379636,&quot;z&quot;:-0.326545},{&quot;x&quot;:0.315379,&quot;y&quot;:-0.370928,&quot;z&quot;:-0.370085},{&quot;x&quot;:0.292298,&quot;y&quot;:-0.310265,&quot;z&quot;:-0.362835},{&quot;x&quot;:0.333333,&quot;y&quot;:-0.333333,&quot;z&quot;:-0.333333}], &quot;faces&quot;:[[0,1,2],[0,3,1],[0,4,3],[0,5,4],[0,2,5],[2,1,6],[1,3,6],[3,4,6],[4,5,6],[5,2,6]], &quot;color&quot;:&quot;#0000ff&quot;, &quot;opacity&quot;:1},{&quot;vertices&quot;:[{&quot;x&quot;:0.25,&quot;y&quot;:-0.416667,&quot;z&quot;:0.0972222},{&quot;x&quot;:0.370099,&quot;y&quot;:-0.329264,&quot;z&quot;:0.035002},{&quot;x&quot;:0.324074,&quot;y&quot;:-0.291667,&quot;z&quot;:0.0277778},{&quot;x&quot;:0.365315,&quot;y&quot;:-0.372485,&quot;z&quot;:-0.00614533},{&quot;x&quot;:0.316333,&quot;y&quot;:-0.3616,&quot;z&quot;:-0.0388001},{&quot;x&quot;:0.290845,&quot;y&quot;:-0.311652,&quot;z&quot;:-0.0178344},{&quot;x&quot;:0.333333,&quot;y&quot;:-0.333333,&quot;z&quot;:0}], &quot;faces&quot;:[[0,1,2],[0,3,1],[0,4,3],[0,5,4],[0,2,5],[2,1,6],[1,3,6],[3,4,6],[4,5,6],[5,2,6]], &quot;color&quot;:&quot;#0000ff&quot;, &quot;opacity&quot;:1},{&quot;vertices&quot;:[{&quot;x&quot;:0.277778,&quot;y&quot;:-0.444444,&quot;z&quot;:0.444444},{&quot;x&quot;:0.380358,&quot;y&quot;:-0.327789,&quot;z&quot;:0.362391},{&quot;x&quot;:0.325926,&quot;y&quot;:-0.292593,&quot;z&quot;:0.37037},{&quot;x&quot;:0.369804,&quot;y&quot;:-0.370647,&quot;z&quot;:0.314255},{&quot;x&quot;:0.308848,&quot;y&quot;:-0.361939,&quot;z&quot;:0.292485},{&quot;x&quot;:0.28173,&quot;y&quot;:-0.313699,&quot;z&quot;:0.327166},{&quot;x&quot;:0.333333,&quot;y&quot;:-0.333333,&quot;z&quot;:0.333333}], &quot;faces&quot;:[[0,1,2],[0,3,1],[0,4,3],[0,5,4],[0,2,5],[2,1,6],[1,3,6],[3,4,6],[4,5,6],[5,2,6]], &quot;color&quot;:&quot;#0000ff&quot;, &quot;opacity&quot;:1},{&quot;vertices&quot;:[{&quot;x&quot;:0.329556,&quot;y&quot;:-0.352222,&quot;z&quot;:0.687444},{&quot;x&quot;:0.348065,&quot;y&quot;:-0.348602,&quot;z&quot;:0.694101},{&quot;x&quot;:0.32853,&quot;y&quot;:-0.33735,&quot;z&quot;:0.700778},{&quot;x&quot;:0.34202,&quot;y&quot;:-0.364857,&quot;z&quot;:0.678225},{&quot;x&quot;:0.31875,&quot;y&quot;:-0.363651,&quot;z&quot;:0.67509},{&quot;x&quot;:0.310413,&quot;y&quot;:-0.346651,&quot;z&quot;:0.689029},{&quot;x&quot;:0.351842,&quot;y&quot;:-0.329713,&quot;z&quot;:0.673323},{&quot;x&quot;:0.332308,&quot;y&quot;:-0.318462,&quot;z&quot;:0.68},{&quot;x&quot;:0.345798,&quot;y&quot;:-0.345968,&quot;z&quot;:0.657447},{&quot;x&quot;:0.322528,&quot;y&quot;:-0.344762,&quot;z&quot;:0.654312},{&quot;x&quot;:0.31419,&quot;y&quot;:-0.327762,&quot;z&quot;:0.668251},{&quot;x&quot;:0.333333,&quot;y&quot;:-0.333333,&quot;z&quot;:0.666667}], &quot;faces&quot;:[[0,1,2],[0,3,1],[0,4,3],[0,5,4],[0,2,5],[2,1,6,7],[1,3,8,6],[3,4,9,8],[4,5,10,9],[5,2,7,10],[7,6,11],[6,8,11],[8,9,11],[9,10,11],[10,7,11]], &quot;color&quot;:&quot;#0000ff&quot;, &quot;opacity&quot;:1},{&quot;vertices&quot;:[{&quot;x&quot;:0.305556,&quot;y&quot;:-0.472222,&quot;z&quot;:0.819444},{&quot;x&quot;:0.385083,&quot;y&quot;:-0.341362,&quot;z&quot;:0.707414},{&quot;x&quot;:0.326479,&quot;y&quot;:-0.307607,&quot;z&quot;:0.727444},{&quot;x&quot;:0.36695,&quot;y&quot;:-0.390125,&quot;z&quot;:0.659786},{&quot;x&quot;:0.297139,&quot;y&quot;:-0.386508,&quot;z&quot;:0.650381},{&quot;x&quot;:0.272127,&quot;y&quot;:-0.335509,&quot;z&quot;:0.692197},{&quot;x&quot;:0.329556,&quot;y&quot;:-0.352222,&quot;z&quot;:0.687444}], &quot;faces&quot;:[[0,1,2],[0,3,1],[0,4,3],[0,5,4],[0,2,5],[2,1,6],[1,3,6],[3,4,6],[4,5,6],[5,2,6]], &quot;color&quot;:&quot;#0000ff&quot;, &quot;opacity&quot;:1},{&quot;vertices&quot;:[{&quot;x&quot;:0.333333,&quot;y&quot;:-0.392,&quot;z&quot;:1.07822},{&quot;x&quot;:0.352354,&quot;y&quot;:-0.387056,&quot;z&quot;:1.08193},{&quot;x&quot;:0.333333,&quot;y&quot;:-0.376,&quot;z&quot;:1.09022},{&quot;x&quot;:0.345089,&quot;y&quot;:-0.404944,&quot;z&quot;:1.06851},{&quot;x&quot;:0.321578,&quot;y&quot;:-0.404944,&quot;z&quot;:1.06851},{&quot;x&quot;:0.314312,&quot;y&quot;:-0.387056,&quot;z&quot;:1.08193},{&quot;x&quot;:0.352354,&quot;y&quot;:-0.328389,&quot;z&quot;:1.00371},{&quot;x&quot;:0.333333,&quot;y&quot;:-0.317333,&quot;z&quot;:1.012},{&quot;x&quot;:0.345089,&quot;y&quot;:-0.346278,&quot;z&quot;:0.990292},{&quot;x&quot;:0.321578,&quot;y&quot;:-0.346278,&quot;z&quot;:0.990292},{&quot;x&quot;:0.314312,&quot;y&quot;:-0.328389,&quot;z&quot;:1.00371},{&quot;x&quot;:0.333333,&quot;y&quot;:-0.333333,&quot;z&quot;:1}], &quot;faces&quot;:[[0,1,2],[0,3,1],[0,4,3],[0,5,4],[0,2,5],[2,1,6,7],[1,3,8,6],[3,4,9,8],[4,5,10,9],[5,2,7,10],[7,6,11],[6,8,11],[8,9,11],[9,10,11],[10,7,11]], &quot;color&quot;:&quot;#0000ff&quot;, &quot;opacity&quot;:1},{&quot;vertices&quot;:[{&quot;x&quot;:0.333333,&quot;y&quot;:-0.5,&quot;z&quot;:1.22222},{&quot;x&quot;:0.390397,&quot;y&quot;:-0.377167,&quot;z&quot;:1.08935},{&quot;x&quot;:0.333333,&quot;y&quot;:-0.344,&quot;z&quot;:1.11422},{&quot;x&quot;:0.3686,&quot;y&quot;:-0.430833,&quot;z&quot;:1.0491},{&quot;x&quot;:0.298066,&quot;y&quot;:-0.430833,&quot;z&quot;:1.0491},{&quot;x&quot;:0.27627,&quot;y&quot;:-0.377167,&quot;z&quot;:1.08935},{&quot;x&quot;:0.333333,&quot;y&quot;:-0.392,&quot;z&quot;:1.07822}], &quot;faces&quot;:[[0,1,2],[0,3,1],[0,4,3],[0,5,4],[0,2,5],[2,1,6],[1,3,6],[3,4,6],[4,5,6],[5,2,6]], &quot;color&quot;:&quot;#0000ff&quot;, &quot;opacity&quot;:1},{&quot;vertices&quot;:[{&quot;x&quot;:0.306842,&quot;y&quot;:-0.0264912,&quot;z&quot;:-0.924942},{&quot;x&quot;:0.324537,&quot;y&quot;:-0.0216373,&quot;z&quot;:-0.916983},{&quot;x&quot;:0.305789,&quot;y&quot;:-0.00754386,&quot;z&quot;:-0.918626},{&quot;x&quot;:0.318831,&quot;y&quot;:-0.0424387,&quot;z&quot;:-0.926339},{&quot;x&quot;:0.296557,&quot;y&quot;:-0.0412012,&quot;z&quot;:-0.933763},{&quot;x&quot;:0.288497,&quot;y&quot;:-0.0196351,&quot;z&quot;:-0.928997},{&quot;x&quot;:0.351028,&quot;y&quot;:0.00485395,&quot;z&quot;:-0.992042},{&quot;x&quot;:0.332281,&quot;y&quot;:0.0189474,&quot;z&quot;:-0.993684},{&quot;x&quot;:0.345322,&quot;y&quot;:-0.0159475,&quot;z&quot;:-1.0014},{&quot;x&quot;:0.323048,&quot;y&quot;:-0.01471,&quot;z&quot;:-1.00882},{&quot;x&quot;:0.314988,&quot;y&quot;:0.00685617,&quot;z&quot;:-1.00405},{&quot;x&quot;:0.333333,&quot;y&quot;:0,&quot;z&quot;:-1}], &quot;faces&quot;:[[0,1,2],[0,3,1],[0,4,3],[0,5,4],[0,2,5],[2,1,6,7],[1,3,8,6],[3,4,9,8],[4,5,10,9],[5,2,7,10],[7,6,11],[6,8,11],[8,9,11],[9,10,11],[10,7,11]], &quot;color&quot;:&quot;#0000ff&quot;, &quot;opacity&quot;:1},{&quot;vertices&quot;:[{&quot;x&quot;:0.25,&quot;y&quot;:-0.0833333,&quot;z&quot;:-0.763889},{&quot;x&quot;:0.359926,&quot;y&quot;:-0.0119294,&quot;z&quot;:-0.901066},{&quot;x&quot;:0.303684,&quot;y&quot;:0.0303509,&quot;z&quot;:-0.905994},{&quot;x&quot;:0.342808,&quot;y&quot;:-0.0743336,&quot;z&quot;:-0.929133},{&quot;x&quot;:0.275986,&quot;y&quot;:-0.0706213,&quot;z&quot;:-0.951407},{&quot;x&quot;:0.251806,&quot;y&quot;:-0.00592272,&quot;z&quot;:-0.937106},{&quot;x&quot;:0.306842,&quot;y&quot;:-0.0264912,&quot;z&quot;:-0.924942}], &quot;faces&quot;:[[0,1,2],[0,3,1],[0,4,3],[0,5,4],[0,2,5],[2,1,6],[1,3,6],[3,4,6],[4,5,6],[5,2,6]], &quot;color&quot;:&quot;#0000ff&quot;, &quot;opacity&quot;:1},{&quot;vertices&quot;:[{&quot;x&quot;:0.329206,&quot;y&quot;:-0.00619048,&quot;z&quot;:-0.654286},{&quot;x&quot;:0.346984,&quot;y&quot;:-0.00187552,&quot;z&quot;:-0.646202},{&quot;x&quot;:0.327888,&quot;y&quot;:0.0118315,&quot;z&quot;:-0.645714},{&quot;x&quot;:0.341512,&quot;y&quot;:-0.0215457,&quot;z&quot;:-0.657861},{&quot;x&quot;:0.319034,&quot;y&quot;:-0.0199955,&quot;z&quot;:-0.664579},{&quot;x&quot;:0.310614,&quot;y&quot;:0.000632762,&quot;z&quot;:-0.657072},{&quot;x&quot;:0.351111,&quot;y&quot;:0.00431496,&quot;z&quot;:-0.658583},{&quot;x&quot;:0.332015,&quot;y&quot;:0.018022,&quot;z&quot;:-0.658095},{&quot;x&quot;:0.345639,&quot;y&quot;:-0.0153552,&quot;z&quot;:-0.670242},{&quot;x&quot;:0.323161,&quot;y&quot;:-0.013805,&quot;z&quot;:-0.67696},{&quot;x&quot;:0.314741,&quot;y&quot;:0.00682324,&quot;z&quot;:-0.669453},{&quot;x&quot;:0.333333,&quot;y&quot;:0,&quot;z&quot;:-0.666667}], &quot;faces&quot;:[[0,1,2],[0,3,1],[0,4,3],[0,5,4],[0,2,5],[2,1,6,7],[1,3,8,6],[3,4,9,8],[4,5,10,9],[5,2,7,10],[7,6,11],[6,8,11],[8,9,11],[9,10,11],[10,7,11]], &quot;color&quot;:&quot;#0000ff&quot;, &quot;opacity&quot;:1},{&quot;vertices&quot;:[{&quot;x&quot;:0.277778,&quot;y&quot;:-0.0833333,&quot;z&quot;:-0.5},{&quot;x&quot;:0.382539,&quot;y&quot;:0.00675439,&quot;z&quot;:-0.630036},{&quot;x&quot;:0.32525,&quot;y&quot;:0.0478755,&quot;z&quot;:-0.628571},{&quot;x&quot;:0.366124,&quot;y&quot;:-0.052256,&quot;z&quot;:-0.665013},{&quot;x&quot;:0.29869,&quot;y&quot;:-0.0476054,&quot;z&quot;:-0.685165},{&quot;x&quot;:0.273429,&quot;y&quot;:0.0142792,&quot;z&quot;:-0.662643},{&quot;x&quot;:0.329206,&quot;y&quot;:-0.00619048,&quot;z&quot;:-0.654286}], &quot;faces&quot;:[[0,1,2],[0,3,1],[0,4,3],[0,5,4],[0,2,5],[2,1,6],[1,3,6],[3,4,6],[4,5,6],[5,2,6]], &quot;color&quot;:&quot;#0000ff&quot;, &quot;opacity&quot;:1},{&quot;vertices&quot;:[{&quot;x&quot;:0.305556,&quot;y&quot;:-0.0833333,&quot;z&quot;:-0.208333},{&quot;x&quot;:0.380028,&quot;y&quot;:0.01052,&quot;z&quot;:-0.315943},{&quot;x&quot;:0.330556,&quot;y&quot;:0.0425926,&quot;z&quot;:-0.305556},{&quot;x&quot;:0.36497,&quot;y&quot;:-0.0360909,&quot;z&quot;:-0.350364},{&quot;x&quot;:0.306191,&quot;y&quot;:-0.0328254,&quot;z&quot;:-0.361248},{&quot;x&quot;:0.284922,&quot;y&quot;:0.0158037,&quot;z&quot;:-0.333556},{&quot;x&quot;:0.333333,&quot;y&quot;:0,&quot;z&quot;:-0.333333}], &quot;faces&quot;:[[0,1,2],[0,3,1],[0,4,3],[0,5,4],[0,2,5],[2,1,6],[1,3,6],[3,4,6],[4,5,6],[5,2,6]], &quot;color&quot;:&quot;#0000ff&quot;, &quot;opacity&quot;:1},{&quot;vertices&quot;:[{&quot;x&quot;:0.333333,&quot;y&quot;:-0.0833333,&quot;z&quot;:0.111111},{&quot;x&quot;:0.377364,&quot;y&quot;:0.0114451,&quot;z&quot;:0.00858381},{&quot;x&quot;:0.333333,&quot;y&quot;:0.037037,&quot;z&quot;:0.0277778},{&quot;x&quot;:0.360546,&quot;y&quot;:-0.0299636,&quot;z&quot;:-0.0224727},{&quot;x&quot;:0.306121,&quot;y&quot;:-0.0299636,&quot;z&quot;:-0.0224727},{&quot;x&quot;:0.289303,&quot;y&quot;:0.0114451,&quot;z&quot;:0.00858381},{&quot;x&quot;:0.333333,&quot;y&quot;:0,&quot;z&quot;:0}], &quot;faces&quot;:[[0,1,2],[0,3,1],[0,4,3],[0,5,4],[0,2,5],[2,1,6],[1,3,6],[3,4,6],[4,5,6],[5,2,6]], &quot;color&quot;:&quot;#0000ff&quot;, &quot;opacity&quot;:1},{&quot;vertices&quot;:[{&quot;x&quot;:0.361111,&quot;y&quot;:-0.0833333,&quot;z&quot;:0.458333},{&quot;x&quot;:0.381745,&quot;y&quot;:0.0158037,&quot;z&quot;:0.333111},{&quot;x&quot;:0.336111,&quot;y&quot;:0.0425926,&quot;z&quot;:0.361111},{&quot;x&quot;:0.360475,&quot;y&quot;:-0.0328254,&quot;z&quot;:0.305418},{&quot;x&quot;:0.301697,&quot;y&quot;:-0.0360909,&quot;z&quot;:0.316303},{&quot;x&quot;:0.286639,&quot;y&quot;:0.01052,&quot;z&quot;:0.350723},{&quot;x&quot;:0.333333,&quot;y&quot;:0,&quot;z&quot;:0.333333}], &quot;faces&quot;:[[0,1,2],[0,3,1],[0,4,3],[0,5,4],[0,2,5],[2,1,6],[1,3,6],[3,4,6],[4,5,6],[5,2,6]], &quot;color&quot;:&quot;#0000ff&quot;, &quot;opacity&quot;:1},{&quot;vertices&quot;:[{&quot;x&quot;:0.33746,&quot;y&quot;:-0.00619048,&quot;z&quot;:0.679048},{&quot;x&quot;:0.356053,&quot;y&quot;:0.000632762,&quot;z&quot;:0.676262},{&quot;x&quot;:0.338779,&quot;y&quot;:0.0118315,&quot;z&quot;:0.687619},{&quot;x&quot;:0.347632,&quot;y&quot;:-0.0199955,&quot;z&quot;:0.668754},{&quot;x&quot;:0.325155,&quot;y&quot;:-0.0215457,&quot;z&quot;:0.675472},{&quot;x&quot;:0.319683,&quot;y&quot;:-0.00187552,&quot;z&quot;:0.687131},{&quot;x&quot;:0.351926,&quot;y&quot;:0.00682324,&quot;z&quot;:0.663881},{&quot;x&quot;:0.334652,&quot;y&quot;:0.018022,&quot;z&quot;:0.675238},{&quot;x&quot;:0.343505,&quot;y&quot;:-0.013805,&quot;z&quot;:0.656373},{&quot;x&quot;:0.321028,&quot;y&quot;:-0.0153552,&quot;z&quot;:0.663091},{&quot;x&quot;:0.315556,&quot;y&quot;:0.00431496,&quot;z&quot;:0.67475},{&quot;x&quot;:0.333333,&quot;y&quot;:0,&quot;z&quot;:0.666667}], &quot;faces&quot;:[[0,1,2],[0,3,1],[0,4,3],[0,5,4],[0,2,5],[2,1,6,7],[1,3,8,6],[3,4,9,8],[4,5,10,9],[5,2,7,10],[7,6,11],[6,8,11],[8,9,11],[9,10,11],[10,7,11]], &quot;color&quot;:&quot;#0000ff&quot;, &quot;opacity&quot;:1},{&quot;vertices&quot;:[{&quot;x&quot;:0.388889,&quot;y&quot;:-0.0833333,&quot;z&quot;:0.833333},{&quot;x&quot;:0.393238,&quot;y&quot;:0.0142792,&quot;z&quot;:0.67069},{&quot;x&quot;:0.341416,&quot;y&quot;:0.0478755,&quot;z&quot;:0.704762},{&quot;x&quot;:0.367977,&quot;y&quot;:-0.0476054,&quot;z&quot;:0.648168},{&quot;x&quot;:0.300543,&quot;y&quot;:-0.052256,&quot;z&quot;:0.668321},{&quot;x&quot;:0.284128,&quot;y&quot;:0.00675439,&quot;z&quot;:0.703298},{&quot;x&quot;:0.33746,&quot;y&quot;:-0.00619048,&quot;z&quot;:0.679048}], &quot;faces&quot;:[[0,1,2],[0,3,1],[0,4,3],[0,5,4],[0,2,5],[2,1,6],[1,3,6],[3,4,6],[4,5,6],[5,2,6]], &quot;color&quot;:&quot;#0000ff&quot;, &quot;opacity&quot;:1},{&quot;vertices&quot;:[{&quot;x&quot;:0.359825,&quot;y&quot;:-0.0264912,&quot;z&quot;:1.07506},{&quot;x&quot;:0.37817,&quot;y&quot;:-0.0196351,&quot;z&quot;:1.071},{&quot;x&quot;:0.360877,&quot;y&quot;:-0.00754386,&quot;z&quot;:1.08137},{&quot;x&quot;:0.37011,&quot;y&quot;:-0.0412012,&quot;z&quot;:1.06624},{&quot;x&quot;:0.347836,&quot;y&quot;:-0.0424387,&quot;z&quot;:1.07366},{&quot;x&quot;:0.34213,&quot;y&quot;:-0.0216373,&quot;z&quot;:1.08302},{&quot;x&quot;:0.351679,&quot;y&quot;:0.00685617,&quot;z&quot;:0.995945},{&quot;x&quot;:0.334386,&quot;y&quot;:0.0189474,&quot;z&quot;:1.00632},{&quot;x&quot;:0.343619,&quot;y&quot;:-0.01471,&quot;z&quot;:0.991178},{&quot;x&quot;:0.321345,&quot;y&quot;:-0.0159475,&quot;z&quot;:0.998603},{&quot;x&quot;:0.315639,&quot;y&quot;:0.00485395,&quot;z&quot;:1.00796},{&quot;x&quot;:0.333333,&quot;y&quot;:0,&quot;z&quot;:1}], &quot;faces&quot;:[[0,1,2],[0,3,1],[0,4,3],[0,5,4],[0,2,5],[2,1,6,7],[1,3,8,6],[3,4,9,8],[4,5,10,9],[5,2,7,10],[7,6,11],[6,8,11],[8,9,11],[9,10,11],[10,7,11]], &quot;color&quot;:&quot;#0000ff&quot;, &quot;opacity&quot;:1},{&quot;vertices&quot;:[{&quot;x&quot;:0.416667,&quot;y&quot;:-0.0833333,&quot;z&quot;:1.23611},{&quot;x&quot;:0.41486,&quot;y&quot;:-0.00592272,&quot;z&quot;:1.06289},{&quot;x&quot;:0.362982,&quot;y&quot;:0.0303509,&quot;z&quot;:1.09401},{&quot;x&quot;:0.390681,&quot;y&quot;:-0.0706213,&quot;z&quot;:1.04859},{&quot;x&quot;:0.323859,&quot;y&quot;:-0.0743336,&quot;z&quot;:1.07087},{&quot;x&quot;:0.30674,&quot;y&quot;:-0.0119294,&quot;z&quot;:1.09893},{&quot;x&quot;:0.359825,&quot;y&quot;:-0.0264912,&quot;z&quot;:1.07506}], &quot;faces&quot;:[[0,1,2],[0,3,1],[0,4,3],[0,5,4],[0,2,5],[2,1,6],[1,3,6],[3,4,6],[4,5,6],[5,2,6]], &quot;color&quot;:&quot;#0000ff&quot;, &quot;opacity&quot;:1},{&quot;vertices&quot;:[{&quot;x&quot;:0.333333,&quot;y&quot;:0.274667,&quot;z&quot;:-0.921778},{&quot;x&quot;:0.352354,&quot;y&quot;:0.279611,&quot;z&quot;:-0.91807},{&quot;x&quot;:0.333333,&quot;y&quot;:0.290667,&quot;z&quot;:-0.909778},{&quot;x&quot;:0.345089,&quot;y&quot;:0.261722,&quot;z&quot;:-0.931486},{&quot;x&quot;:0.321578,&quot;y&quot;:0.261722,&quot;z&quot;:-0.931486},{&quot;x&quot;:0.314312,&quot;y&quot;:0.279611,&quot;z&quot;:-0.91807},{&quot;x&quot;:0.352354,&quot;y&quot;:0.338278,&quot;z&quot;:-0.996292},{&quot;x&quot;:0.333333,&quot;y&quot;:0.349333,&quot;z&quot;:-0.988},{&quot;x&quot;:0.345089,&quot;y&quot;:0.320389,&quot;z&quot;:-1.00971},{&quot;x&quot;:0.321578,&quot;y&quot;:0.320389,&quot;z&quot;:-1.00971},{&quot;x&quot;:0.314312,&quot;y&quot;:0.338278,&quot;z&quot;:-0.996292},{&quot;x&quot;:0.333333,&quot;y&quot;:0.333333,&quot;z&quot;:-1}], &quot;faces&quot;:[[0,1,2],[0,3,1],[0,4,3],[0,5,4],[0,2,5],[2,1,6,7],[1,3,8,6],[3,4,9,8],[4,5,10,9],[5,2,7,10],[7,6,11],[6,8,11],[8,9,11],[9,10,11],[10,7,11]], &quot;color&quot;:&quot;#0000ff&quot;, &quot;opacity&quot;:1},{&quot;vertices&quot;:[{&quot;x&quot;:0.333333,&quot;y&quot;:0.166667,&quot;z&quot;:-0.777778},{&quot;x&quot;:0.390397,&quot;y&quot;:0.289499,&quot;z&quot;:-0.910653},{&quot;x&quot;:0.333333,&quot;y&quot;:0.322667,&quot;z&quot;:-0.885778},{&quot;x&quot;:0.3686,&quot;y&quot;:0.235834,&quot;z&quot;:-0.950902},{&quot;x&quot;:0.298066,&quot;y&quot;:0.235834,&quot;z&quot;:-0.950902},{&quot;x&quot;:0.27627,&quot;y&quot;:0.289499,&quot;z&quot;:-0.910653},{&quot;x&quot;:0.333333,&quot;y&quot;:0.274667,&quot;z&quot;:-0.921778}], &quot;faces&quot;:[[0,1,2],[0,3,1],[0,4,3],[0,5,4],[0,2,5],[2,1,6],[1,3,6],[3,4,6],[4,5,6],[5,2,6]], &quot;color&quot;:&quot;#0000ff&quot;, &quot;opacity&quot;:1},{&quot;vertices&quot;:[{&quot;x&quot;:0.337111,&quot;y&quot;:0.314444,&quot;z&quot;:-0.645889},{&quot;x&quot;:0.356254,&quot;y&quot;:0.320016,&quot;z&quot;:-0.644305},{&quot;x&quot;:0.338137,&quot;y&quot;:0.329316,&quot;z&quot;:-0.632556},{&quot;x&quot;:0.347916,&quot;y&quot;:0.303016,&quot;z&quot;:-0.658243},{&quot;x&quot;:0.324646,&quot;y&quot;:0.30181,&quot;z&quot;:-0.655108},{&quot;x&quot;:0.318602,&quot;y&quot;:0.318065,&quot;z&quot;:-0.639233},{&quot;x&quot;:0.352476,&quot;y&quot;:0.338904,&quot;z&quot;:-0.665083},{&quot;x&quot;:0.334359,&quot;y&quot;:0.348205,&quot;z&quot;:-0.653333},{&quot;x&quot;:0.344139,&quot;y&quot;:0.321905,&quot;z&quot;:-0.679021},{&quot;x&quot;:0.320868,&quot;y&quot;:0.320699,&quot;z&quot;:-0.675886},{&quot;x&quot;:0.314824,&quot;y&quot;:0.336954,&quot;z&quot;:-0.66001},{&quot;x&quot;:0.333333,&quot;y&quot;:0.333333,&quot;z&quot;:-0.666667}], &quot;faces&quot;:[[0,1,2],[0,3,1],[0,4,3],[0,5,4],[0,2,5],[2,1,6,7],[1,3,8,6],[3,4,9,8],[4,5,10,9],[5,2,7,10],[7,6,11],[6,8,11],[8,9,11],[9,10,11],[10,7,11]], &quot;color&quot;:&quot;#0000ff&quot;, &quot;opacity&quot;:1},{&quot;vertices&quot;:[{&quot;x&quot;:0.361111,&quot;y&quot;:0.194444,&quot;z&quot;:-0.513889},{&quot;x&quot;:0.39454,&quot;y&quot;:0.331158,&quot;z&quot;:-0.641137},{&quot;x&quot;:0.340188,&quot;y&quot;:0.35906,&quot;z&quot;:-0.605889},{&quot;x&quot;:0.369527,&quot;y&quot;:0.280158,&quot;z&quot;:-0.682952},{&quot;x&quot;:0.299716,&quot;y&quot;:0.276541,&quot;z&quot;:-0.673547},{&quot;x&quot;:0.281584,&quot;y&quot;:0.325305,&quot;z&quot;:-0.62592},{&quot;x&quot;:0.337111,&quot;y&quot;:0.314444,&quot;z&quot;:-0.645889}], &quot;faces&quot;:[[0,1,2],[0,3,1],[0,4,3],[0,5,4],[0,2,5],[2,1,6],[1,3,6],[3,4,6],[4,5,6],[5,2,6]], &quot;color&quot;:&quot;#0000ff&quot;, &quot;opacity&quot;:1},{&quot;vertices&quot;:[{&quot;x&quot;:0.388889,&quot;y&quot;:0.222222,&quot;z&quot;:-0.222222},{&quot;x&quot;:0.384936,&quot;y&quot;:0.352968,&quot;z&quot;:-0.3395},{&quot;x&quot;:0.340741,&quot;y&quot;:0.374074,&quot;z&quot;:-0.296296},{&quot;x&quot;:0.357818,&quot;y&quot;:0.304727,&quot;z&quot;:-0.374182},{&quot;x&quot;:0.296863,&quot;y&quot;:0.296019,&quot;z&quot;:-0.352412},{&quot;x&quot;:0.286308,&quot;y&quot;:0.338878,&quot;z&quot;:-0.304276},{&quot;x&quot;:0.333333,&quot;y&quot;:0.333333,&quot;z&quot;:-0.333333}], &quot;faces&quot;:[[0,1,2],[0,3,1],[0,4,3],[0,5,4],[0,2,5],[2,1,6],[1,3,6],[3,4,6],[4,5,6],[5,2,6]], &quot;color&quot;:&quot;#0000ff&quot;, &quot;opacity&quot;:1},{&quot;vertices&quot;:[{&quot;x&quot;:0.416667,&quot;y&quot;:0.25,&quot;z&quot;:0.0972222},{&quot;x&quot;:0.375822,&quot;y&quot;:0.355015,&quot;z&quot;:-0.0178344},{&quot;x&quot;:0.342593,&quot;y&quot;:0.375,&quot;z&quot;:0.0277778},{&quot;x&quot;:0.350333,&quot;y&quot;:0.305067,&quot;z&quot;:-0.0388001},{&quot;x&quot;:0.301351,&quot;y&quot;:0.294182,&quot;z&quot;:-0.00614533},{&quot;x&quot;:0.296567,&quot;y&quot;:0.337403,&quot;z&quot;:0.035002},{&quot;x&quot;:0.333333,&quot;y&quot;:0.333333,&quot;z&quot;:0}], &quot;faces&quot;:[[0,1,2],[0,3,1],[0,4,3],[0,5,4],[0,2,5],[2,1,6],[1,3,6],[3,4,6],[4,5,6],[5,2,6]], &quot;color&quot;:&quot;#0000ff&quot;, &quot;opacity&quot;:1},{&quot;vertices&quot;:[{&quot;x&quot;:0.444444,&quot;y&quot;:0.277778,&quot;z&quot;:0.444444},{&quot;x&quot;:0.374369,&quot;y&quot;:0.356401,&quot;z&quot;:0.303832},{&quot;x&quot;:0.340741,&quot;y&quot;:0.385185,&quot;z&quot;:0.351852},{&quot;x&quot;:0.351287,&quot;y&quot;:0.295738,&quot;z&quot;:0.296582},{&quot;x&quot;:0.303394,&quot;y&quot;:0.28703,&quot;z&quot;:0.340121},{&quot;x&quot;:0.296876,&quot;y&quot;:0.342312,&quot;z&quot;:0.37428},{&quot;x&quot;:0.333333,&quot;y&quot;:0.333333,&quot;z&quot;:0.333333}], &quot;faces&quot;:[[0,1,2],[0,3,1],[0,4,3],[0,5,4],[0,2,5],[2,1,6],[1,3,6],[3,4,6],[4,5,6],[5,2,6]], &quot;color&quot;:&quot;#0000ff&quot;, &quot;opacity&quot;:1},{&quot;vertices&quot;:[{&quot;x&quot;:0.352222,&quot;y&quot;:0.329556,&quot;z&quot;:0.687444},{&quot;x&quot;:0.366683,&quot;y&quot;:0.336648,&quot;z&quot;:0.675588},{&quot;x&quot;:0.353248,&quot;y&quot;:0.34935,&quot;z&quot;:0.690111},{&quot;x&quot;:0.360134,&quot;y&quot;:0.314144,&quot;z&quot;:0.67745},{&quot;x&quot;:0.342651,&quot;y&quot;:0.312938,&quot;z&quot;:0.693124},{&quot;x&quot;:0.338395,&quot;y&quot;:0.334697,&quot;z&quot;:0.700949},{&quot;x&quot;:0.347794,&quot;y&quot;:0.340426,&quot;z&quot;:0.65481},{&quot;x&quot;:0.334359,&quot;y&quot;:0.353128,&quot;z&quot;:0.669333},{&quot;x&quot;:0.341245,&quot;y&quot;:0.317922,&quot;z&quot;:0.656672},{&quot;x&quot;:0.323762,&quot;y&quot;:0.316716,&quot;z&quot;:0.672346},{&quot;x&quot;:0.319506,&quot;y&quot;:0.338475,&quot;z&quot;:0.680171},{&quot;x&quot;:0.333333,&quot;y&quot;:0.333333,&quot;z&quot;:0.666667}], &quot;faces&quot;:[[0,1,2],[0,3,1],[0,4,3],[0,5,4],[0,2,5],[2,1,6,7],[1,3,8,6],[3,4,9,8],[4,5,10,9],[5,2,7,10],[7,6,11],[6,8,11],[8,9,11],[9,10,11],[10,7,11]], &quot;color&quot;:&quot;#0000ff&quot;, &quot;opacity&quot;:1},{&quot;vertices&quot;:[{&quot;x&quot;:0.472222,&quot;y&quot;:0.305556,&quot;z&quot;:0.819444},{&quot;x&quot;:0.395605,&quot;y&quot;:0.350833,&quot;z&quot;:0.651874},{&quot;x&quot;:0.355299,&quot;y&quot;:0.38894,&quot;z&quot;:0.695444},{&quot;x&quot;:0.375957,&quot;y&quot;:0.283321,&quot;z&quot;:0.657461},{&quot;x&quot;:0.323509,&quot;y&quot;:0.279704,&quot;z&quot;:0.704484},{&quot;x&quot;:0.310741,&quot;y&quot;:0.34498,&quot;z&quot;:0.727959},{&quot;x&quot;:0.352222,&quot;y&quot;:0.329556,&quot;z&quot;:0.687444}], &quot;faces&quot;:[[0,1,2],[0,3,1],[0,4,3],[0,5,4],[0,2,5],[2,1,6],[1,3,6],[3,4,6],[4,5,6],[5,2,6]], &quot;color&quot;:&quot;#0000ff&quot;, &quot;opacity&quot;:1},{&quot;vertices&quot;:[{&quot;x&quot;:0.392,&quot;y&quot;:0.333333,&quot;z&quot;:1.07822},{&quot;x&quot;:0.407217,&quot;y&quot;:0.339514,&quot;z&quot;:1.06681},{&quot;x&quot;:0.392,&quot;y&quot;:0.353333,&quot;z&quot;:1.07822},{&quot;x&quot;:0.401405,&quot;y&quot;:0.317153,&quot;z&quot;:1.07117},{&quot;x&quot;:0.382595,&quot;y&quot;:0.317153,&quot;z&quot;:1.08528},{&quot;x&quot;:0.376783,&quot;y&quot;:0.339514,&quot;z&quot;:1.08963},{&quot;x&quot;:0.34855,&quot;y&quot;:0.339514,&quot;z&quot;:0.988587},{&quot;x&quot;:0.333333,&quot;y&quot;:0.353333,&quot;z&quot;:1},{&quot;x&quot;:0.342738,&quot;y&quot;:0.317153,&quot;z&quot;:0.992947},{&quot;x&quot;:0.323929,&quot;y&quot;:0.317153,&quot;z&quot;:1.00705},{&quot;x&quot;:0.318116,&quot;y&quot;:0.339514,&quot;z&quot;:1.01141},{&quot;x&quot;:0.333333,&quot;y&quot;:0.333333,&quot;z&quot;:1}], &quot;faces&quot;:[[0,1,2],[0,3,1],[0,4,3],[0,5,4],[0,2,5],[2,1,6,7],[1,3,8,6],[3,4,9,8],[4,5,10,9],[5,2,7,10],[7,6,11],[6,8,11],[8,9,11],[9,10,11],[10,7,11]], &quot;color&quot;:&quot;#0000ff&quot;, &quot;opacity&quot;:1},{&quot;vertices&quot;:[{&quot;x&quot;:0.5,&quot;y&quot;:0.333333,&quot;z&quot;:1.22222},{&quot;x&quot;:0.437651,&quot;y&quot;:0.351874,&quot;z&quot;:1.04398},{&quot;x&quot;:0.392,&quot;y&quot;:0.393333,&quot;z&quot;:1.07822},{&quot;x&quot;:0.420214,&quot;y&quot;:0.284792,&quot;z&quot;:1.05706},{&quot;x&quot;:0.363786,&quot;y&quot;:0.284792,&quot;z&quot;:1.09938},{&quot;x&quot;:0.346349,&quot;y&quot;:0.351874,&quot;z&quot;:1.11246},{&quot;x&quot;:0.392,&quot;y&quot;:0.333333,&quot;z&quot;:1.07822}], &quot;faces&quot;:[[0,1,2],[0,3,1],[0,4,3],[0,5,4],[0,2,5],[2,1,6],[1,3,6],[3,4,6],[4,5,6],[5,2,6]], &quot;color&quot;:&quot;#0000ff&quot;, &quot;opacity&quot;:1},{&quot;vertices&quot;:[{&quot;x&quot;:0.36971,&quot;y&quot;:0.557536,&quot;z&quot;:-0.921184},{&quot;x&quot;:0.38871,&quot;y&quot;:0.563779,&quot;z&quot;:-0.921309},{&quot;x&quot;:0.372319,&quot;y&quot;:0.56971,&quot;z&quot;:-0.905531},{&quot;x&quot;:0.378844,&quot;y&quot;:0.549221,&quot;z&quot;:-0.936913},{&quot;x&quot;:0.356355,&quot;y&quot;:0.546154,&quot;z&quot;:-0.93078},{&quot;x&quot;:0.352322,&quot;y&quot;:0.558817,&quot;z&quot;:-0.911385},{&quot;x&quot;:0.352334,&quot;y&quot;:0.67291,&quot;z&quot;:-1.00013},{&quot;x&quot;:0.335942,&quot;y&quot;:0.678841,&quot;z&quot;:-0.984348},{&quot;x&quot;:0.342467,&quot;y&quot;:0.658351,&quot;z&quot;:-1.01573},{&quot;x&quot;:0.319978,&quot;y&quot;:0.655284,&quot;z&quot;:-1.0096},{&quot;x&quot;:0.315945,&quot;y&quot;:0.667948,&quot;z&quot;:-0.990201},{&quot;x&quot;:0.333333,&quot;y&quot;:0.666667,&quot;z&quot;:-1}], &quot;faces&quot;:[[0,1,2],[0,3,1],[0,4,3],[0,5,4],[0,2,5],[2,1,6,7],[1,3,8,6],[3,4,9,8],[4,5,10,9],[5,2,7,10],[7,6,11],[6,8,11],[8,9,11],[9,10,11],[10,7,11]], &quot;color&quot;:&quot;#0000ff&quot;, &quot;opacity&quot;:1},{&quot;vertices&quot;:[{&quot;x&quot;:0.416667,&quot;y&quot;:0.416667,&quot;z&quot;:-0.819444},{&quot;x&quot;:0.426711,&quot;y&quot;:0.576265,&quot;z&quot;:-0.921559},{&quot;x&quot;:0.377536,&quot;y&quot;:0.594058,&quot;z&quot;:-0.874227},{&quot;x&quot;:0.397112,&quot;y&quot;:0.53259,&quot;z&quot;:-0.968372},{&quot;x&quot;:0.329645,&quot;y&quot;:0.523389,&quot;z&quot;:-0.949972},{&quot;x&quot;:0.317546,&quot;y&quot;:0.561379,&quot;z&quot;:-0.891787},{&quot;x&quot;:0.36971,&quot;y&quot;:0.557536,&quot;z&quot;:-0.921184}], &quot;faces&quot;:[[0,1,2],[0,3,1],[0,4,3],[0,5,4],[0,2,5],[2,1,6],[1,3,6],[3,4,6],[4,5,6],[5,2,6]], &quot;color&quot;:&quot;#0000ff&quot;, &quot;opacity&quot;:1},{&quot;vertices&quot;:[{&quot;x&quot;:0.364444,&quot;y&quot;:0.612222,&quot;z&quot;:-0.635556},{&quot;x&quot;:0.382343,&quot;y&quot;:0.620366,&quot;z&quot;:-0.639202},{&quot;x&quot;:0.369231,&quot;y&quot;:0.623846,&quot;z&quot;:-0.62},{&quot;x&quot;:0.37072,&quot;y&quot;:0.605632,&quot;z&quot;:-0.653365},{&quot;x&quot;:0.350424,&quot;y&quot;:0.600005,&quot;z&quot;:-0.642916},{&quot;x&quot;:0.349504,&quot;y&quot;:0.611262,&quot;z&quot;:-0.622295},{&quot;x&quot;:0.351232,&quot;y&quot;:0.674811,&quot;z&quot;:-0.670314},{&quot;x&quot;:0.33812,&quot;y&quot;:0.678291,&quot;z&quot;:-0.651111},{&quot;x&quot;:0.339609,&quot;y&quot;:0.660076,&quot;z&quot;:-0.684476},{&quot;x&quot;:0.319313,&quot;y&quot;:0.654449,&quot;z&quot;:-0.674027},{&quot;x&quot;:0.318392,&quot;y&quot;:0.665707,&quot;z&quot;:-0.653406},{&quot;x&quot;:0.333333,&quot;y&quot;:0.666667,&quot;z&quot;:-0.666667}], &quot;faces&quot;:[[0,1,2],[0,3,1],[0,4,3],[0,5,4],[0,2,5],[2,1,6,7],[1,3,8,6],[3,4,9,8],[4,5,10,9],[5,2,7,10],[7,6,11],[6,8,11],[8,9,11],[9,10,11],[10,7,11]], &quot;color&quot;:&quot;#0000ff&quot;, &quot;opacity&quot;:1},{&quot;vertices&quot;:[{&quot;x&quot;:0.444444,&quot;y&quot;:0.472222,&quot;z&quot;:-0.555556},{&quot;x&quot;:0.418141,&quot;y&quot;:0.636654,&quot;z&quot;:-0.646496},{&quot;x&quot;:0.378803,&quot;y&quot;:0.647094,&quot;z&quot;:-0.588889},{&quot;x&quot;:0.383272,&quot;y&quot;:0.59245,&quot;z&quot;:-0.688984},{&quot;x&quot;:0.322384,&quot;y&quot;:0.57557,&quot;z&quot;:-0.657635},{&quot;x&quot;:0.319622,&quot;y&quot;:0.609342,&quot;z&quot;:-0.595773},{&quot;x&quot;:0.364444,&quot;y&quot;:0.612222,&quot;z&quot;:-0.635556}], &quot;faces&quot;:[[0,1,2],[0,3,1],[0,4,3],[0,5,4],[0,2,5],[2,1,6],[1,3,6],[3,4,6],[4,5,6],[5,2,6]], &quot;color&quot;:&quot;#0000ff&quot;, &quot;opacity&quot;:1},{&quot;vertices&quot;:[{&quot;x&quot;:0.352222,&quot;y&quot;:0.647778,&quot;z&quot;:-0.323889},{&quot;x&quot;:0.366963,&quot;y&quot;:0.658238,&quot;z&quot;:-0.332449},{&quot;x&quot;:0.358889,&quot;y&quot;:0.661111,&quot;z&quot;:-0.310556},{&quot;x&quot;:0.354666,&quot;y&quot;:0.640909,&quot;z&quot;:-0.342513},{&quot;x&quot;:0.338992,&quot;y&quot;:0.633072,&quot;z&quot;:-0.326839},{&quot;x&quot;:0.341602,&quot;y&quot;:0.645558,&quot;z&quot;:-0.307088},{&quot;x&quot;:0.348074,&quot;y&quot;:0.677127,&quot;z&quot;:-0.341894},{&quot;x&quot;:0.34,&quot;y&quot;:0.68,&quot;z&quot;:-0.32},{&quot;x&quot;:0.335777,&quot;y&quot;:0.659798,&quot;z&quot;:-0.351957},{&quot;x&quot;:0.320103,&quot;y&quot;:0.651961,&quot;z&quot;:-0.336283},{&quot;x&quot;:0.322713,&quot;y&quot;:0.664447,&quot;z&quot;:-0.316532},{&quot;x&quot;:0.333333,&quot;y&quot;:0.666667,&quot;z&quot;:-0.333333}], &quot;faces&quot;:[[0,1,2],[0,3,1],[0,4,3],[0,5,4],[0,2,5],[2,1,6,7],[1,3,8,6],[3,4,9,8],[4,5,10,9],[5,2,7,10],[7,6,11],[6,8,11],[8,9,11],[9,10,11],[10,7,11]], &quot;color&quot;:&quot;#0000ff&quot;, &quot;opacity&quot;:1},{&quot;vertices&quot;:[{&quot;x&quot;:0.472222,&quot;y&quot;:0.527778,&quot;z&quot;:-0.263889},{&quot;x&quot;:0.396445,&quot;y&quot;:0.67916,&quot;z&quot;:-0.34957},{&quot;x&quot;:0.372222,&quot;y&quot;:0.687778,&quot;z&quot;:-0.283889},{&quot;x&quot;:0.359553,&quot;y&quot;:0.627173,&quot;z&quot;:-0.379761},{&quot;x&quot;:0.31253,&quot;y&quot;:0.603661,&quot;z&quot;:-0.332738},{&quot;x&quot;:0.32036,&quot;y&quot;:0.641117,&quot;z&quot;:-0.273486},{&quot;x&quot;:0.352222,&quot;y&quot;:0.647778,&quot;z&quot;:-0.323889}], &quot;faces&quot;:[[0,1,2],[0,3,1],[0,4,3],[0,5,4],[0,2,5],[2,1,6],[1,3,6],[3,4,6],[4,5,6],[5,2,6]], &quot;color&quot;:&quot;#0000ff&quot;, &quot;opacity&quot;:1},{&quot;vertices&quot;:[{&quot;x&quot;:0.345714,&quot;y&quot;:0.660476,&quot;z&quot;:0.00412698},{&quot;x&quot;:0.355632,&quot;y&quot;:0.671208,&quot;z&quot;:-0.00952812},{&quot;x&quot;:0.351429,&quot;y&quot;:0.677619,&quot;z&quot;:0.0126984},{&quot;x&quot;:0.346129,&quot;y&quot;:0.649966,&quot;z&quot;:-0.0128838},{&quot;x&quot;:0.336053,&quot;y&quot;:0.643249,&quot;z&quot;:0.00726887},{&quot;x&quot;:0.339328,&quot;y&quot;:0.660339,&quot;z&quot;:0.0230795},{&quot;x&quot;:0.343251,&quot;y&quot;:0.677399,&quot;z&quot;:-0.0136551},{&quot;x&quot;:0.339048,&quot;y&quot;:0.68381,&quot;z&quot;:0.00857143},{&quot;x&quot;:0.333749,&quot;y&quot;:0.656157,&quot;z&quot;:-0.0170107},{&quot;x&quot;:0.323672,&quot;y&quot;:0.649439,&quot;z&quot;:0.00314189},{&quot;x&quot;:0.326947,&quot;y&quot;:0.666529,&quot;z&quot;:0.0189525},{&quot;x&quot;:0.333333,&quot;y&quot;:0.666667,&quot;z&quot;:0}], &quot;faces&quot;:[[0,1,2],[0,3,1],[0,4,3],[0,5,4],[0,2,5],[2,1,6,7],[1,3,8,6],[3,4,9,8],[4,5,10,9],[5,2,7,10],[7,6,11],[6,8,11],[8,9,11],[9,10,11],[10,7,11]], &quot;color&quot;:&quot;#0000ff&quot;, &quot;opacity&quot;:1},{&quot;vertices&quot;:[{&quot;x&quot;:0.5,&quot;y&quot;:0.583333,&quot;z&quot;:0.0555556},{&quot;x&quot;:0.375467,&quot;y&quot;:0.692672,&quot;z&quot;:-0.0368383},{&quot;x&quot;:0.362857,&quot;y&quot;:0.711905,&quot;z&quot;:0.0298413},{&quot;x&quot;:0.34696,&quot;y&quot;:0.628946,&quot;z&quot;:-0.0469053},{&quot;x&quot;:0.316731,&quot;y&quot;:0.608793,&quot;z&quot;:0.0135526},{&quot;x&quot;:0.326556,&quot;y&quot;:0.660065,&quot;z&quot;:0.0609846},{&quot;x&quot;:0.345714,&quot;y&quot;:0.660476,&quot;z&quot;:0.00412698}], &quot;faces&quot;:[[0,1,2],[0,3,1],[0,4,3],[0,5,4],[0,2,5],[2,1,6],[1,3,6],[3,4,6],[4,5,6],[5,2,6]], &quot;color&quot;:&quot;#0000ff&quot;, &quot;opacity&quot;:1},{&quot;vertices&quot;:[{&quot;x&quot;:0.359778,&quot;y&quot;:0.662889,&quot;z&quot;:0.342778},{&quot;x&quot;:0.366949,&quot;y&quot;:0.670762,&quot;z&quot;:0.325849},{&quot;x&quot;:0.361644,&quot;y&quot;:0.682622,&quot;z&quot;:0.345444},{&quot;x&quot;:0.362343,&quot;y&quot;:0.648021,&quot;z&quot;:0.329648},{&quot;x&quot;:0.354192,&quot;y&quot;:0.645827,&quot;z&quot;:0.351592},{&quot;x&quot;:0.353761,&quot;y&quot;:0.667212,&quot;z&quot;:0.361355},{&quot;x&quot;:0.340504,&quot;y&quot;:0.67454,&quot;z&quot;:0.316404},{&quot;x&quot;:0.3352,&quot;y&quot;:0.6864,&quot;z&quot;:0.336},{&quot;x&quot;:0.335898,&quot;y&quot;:0.651799,&quot;z&quot;:0.320204},{&quot;x&quot;:0.327748,&quot;y&quot;:0.649605,&quot;z&quot;:0.342148},{&quot;x&quot;:0.327316,&quot;y&quot;:0.670989,&quot;z&quot;:0.35191},{&quot;x&quot;:0.333333,&quot;y&quot;:0.666667,&quot;z&quot;:0.333333}], &quot;faces&quot;:[[0,1,2],[0,3,1],[0,4,3],[0,5,4],[0,2,5],[2,1,6,7],[1,3,8,6],[3,4,9,8],[4,5,10,9],[5,2,7,10],[7,6,11],[6,8,11],[8,9,11],[9,10,11],[10,7,11]], &quot;color&quot;:&quot;#0000ff&quot;, &quot;opacity&quot;:1},{&quot;vertices&quot;:[{&quot;x&quot;:0.527778,&quot;y&quot;:0.638889,&quot;z&quot;:0.402778},{&quot;x&quot;:0.38129,&quot;y&quot;:0.686509,&quot;z&quot;:0.291991},{&quot;x&quot;:0.365378,&quot;y&quot;:0.722089,&quot;z&quot;:0.350778},{&quot;x&quot;:0.367473,&quot;y&quot;:0.618287,&quot;z&quot;:0.30339},{&quot;x&quot;:0.343021,&quot;y&quot;:0.611703,&quot;z&quot;:0.369222},{&quot;x&quot;:0.341726,&quot;y&quot;:0.675857,&quot;z&quot;:0.398509},{&quot;x&quot;:0.359778,&quot;y&quot;:0.662889,&quot;z&quot;:0.342778}], &quot;faces&quot;:[[0,1,2],[0,3,1],[0,4,3],[0,5,4],[0,2,5],[2,1,6],[1,3,6],[3,4,6],[4,5,6],[5,2,6]], &quot;color&quot;:&quot;#0000ff&quot;, &quot;opacity&quot;:1},{&quot;vertices&quot;:[{&quot;x&quot;:0.395556,&quot;y&quot;:0.674444,&quot;z&quot;:0.697778},{&quot;x&quot;:0.403749,&quot;y&quot;:0.679271,&quot;z&quot;:0.680183},{&quot;x&quot;:0.394188,&quot;y&quot;:0.694274,&quot;z&quot;:0.695556},{&quot;x&quot;:0.401987,&quot;y&quot;:0.657599,&quot;z&quot;:0.689126},{&quot;x&quot;:0.391337,&quot;y&quot;:0.659206,&quot;z&quot;:0.710025},{&quot;x&quot;:0.386517,&quot;y&quot;:0.681873,&quot;z&quot;:0.713999},{&quot;x&quot;:0.341527,&quot;y&quot;:0.671494,&quot;z&quot;:0.649072},{&quot;x&quot;:0.331966,&quot;y&quot;:0.686496,&quot;z&quot;:0.664444},{&quot;x&quot;:0.339765,&quot;y&quot;:0.649821,&quot;z&quot;:0.658015},{&quot;x&quot;:0.329114,&quot;y&quot;:0.651428,&quot;z&quot;:0.678914},{&quot;x&quot;:0.324294,&quot;y&quot;:0.674095,&quot;z&quot;:0.682888},{&quot;x&quot;:0.333333,&quot;y&quot;:0.666667,&quot;z&quot;:0.666667}], &quot;faces&quot;:[[0,1,2],[0,3,1],[0,4,3],[0,5,4],[0,2,5],[2,1,6,7],[1,3,8,6],[3,4,9,8],[4,5,10,9],[5,2,7,10],[7,6,11],[6,8,11],[8,9,11],[9,10,11],[10,7,11]], &quot;color&quot;:&quot;#0000ff&quot;, &quot;opacity&quot;:1},{&quot;vertices&quot;:[{&quot;x&quot;:0.555556,&quot;y&quot;:0.694444,&quot;z&quot;:0.777778},{&quot;x&quot;:0.420137,&quot;y&quot;:0.688925,&quot;z&quot;:0.644995},{&quot;x&quot;:0.391453,&quot;y&quot;:0.733932,&quot;z&quot;:0.691111},{&quot;x&quot;:0.41485,&quot;y&quot;:0.623907,&quot;z&quot;:0.671823},{&quot;x&quot;:0.382899,&quot;y&quot;:0.62873,&quot;z&quot;:0.73452},{&quot;x&quot;:0.368439,&quot;y&quot;:0.696729,&quot;z&quot;:0.746441},{&quot;x&quot;:0.395556,&quot;y&quot;:0.674444,&quot;z&quot;:0.697778}], &quot;faces&quot;:[[0,1,2],[0,3,1],[0,4,3],[0,5,4],[0,2,5],[2,1,6],[1,3,6],[3,4,6],[4,5,6],[5,2,6]], &quot;color&quot;:&quot;#0000ff&quot;, &quot;opacity&quot;:1},{&quot;vertices&quot;:[{&quot;x&quot;:0.442464,&quot;y&quot;:0.703043,&quot;z&quot;:1.07882},{&quot;x&quot;:0.453236,&quot;y&quot;:0.706474,&quot;z&quot;:1.06232},{&quot;x&quot;:0.439855,&quot;y&quot;:0.722174,&quot;z&quot;:1.0736},{&quot;x&quot;:0.45173,&quot;y&quot;:0.686033,&quot;z&quot;:1.07384},{&quot;x&quot;:0.437419,&quot;y&quot;:0.6891,&quot;z&quot;:1.09224},{&quot;x&quot;:0.43008,&quot;y&quot;:0.711436,&quot;z&quot;:1.09209},{&quot;x&quot;:0.344105,&quot;y&quot;:0.670097,&quot;z&quot;:0.983502},{&quot;x&quot;:0.330725,&quot;y&quot;:0.685797,&quot;z&quot;:0.994783},{&quot;x&quot;:0.342599,&quot;y&quot;:0.649656,&quot;z&quot;:0.995021},{&quot;x&quot;:0.328288,&quot;y&quot;:0.652723,&quot;z&quot;:1.01342},{&quot;x&quot;:0.320949,&quot;y&quot;:0.675059,&quot;z&quot;:1.01327},{&quot;x&quot;:0.333333,&quot;y&quot;:0.666667,&quot;z&quot;:1}], &quot;faces&quot;:[[0,1,2],[0,3,1],[0,4,3],[0,5,4],[0,2,5],[2,1,6,7],[1,3,8,6],[3,4,9,8],[4,5,10,9],[5,2,7,10],[7,6,11],[6,8,11],[8,9,11],[9,10,11],[10,7,11]], &quot;color&quot;:&quot;#0000ff&quot;, &quot;opacity&quot;:1},{&quot;vertices&quot;:[{&quot;x&quot;:0.583333,&quot;y&quot;:0.75,&quot;z&quot;:1.18056},{&quot;x&quot;:0.47478,&quot;y&quot;:0.713335,&quot;z&quot;:1.02932},{&quot;x&quot;:0.434638,&quot;y&quot;:0.760435,&quot;z&quot;:1.06316},{&quot;x&quot;:0.470262,&quot;y&quot;:0.652013,&quot;z&quot;:1.06388},{&quot;x&quot;:0.427328,&quot;y&quot;:0.661213,&quot;z&quot;:1.11908},{&quot;x&quot;:0.405311,&quot;y&quot;:0.728221,&quot;z&quot;:1.11864},{&quot;x&quot;:0.442464,&quot;y&quot;:0.703043,&quot;z&quot;:1.07882}], &quot;faces&quot;:[[0,1,2],[0,3,1],[0,4,3],[0,5,4],[0,2,5],[2,1,6],[1,3,6],[3,4,6],[4,5,6],[5,2,6]], &quot;color&quot;:&quot;#0000ff&quot;, &quot;opacity&quot;:1},{&quot;vertices&quot;:[{&quot;x&quot;:0.422857,&quot;y&quot;:0.820952,&quot;z&quot;:-0.940317},{&quot;x&quot;:0.440927,&quot;y&quot;:0.829036,&quot;z&quot;:-0.943172},{&quot;x&quot;:0.428571,&quot;y&quot;:0.829524,&quot;z&quot;:-0.923175},{&quot;x&quot;:0.428311,&quot;y&quot;:0.817377,&quot;z&quot;:-0.959224},{&quot;x&quot;:0.408158,&quot;y&quot;:0.810659,&quot;z&quot;:-0.949148},{&quot;x&quot;:0.408319,&quot;y&quot;:0.818166,&quot;z&quot;:-0.926868},{&quot;x&quot;:0.351403,&quot;y&quot;:1.00808,&quot;z&quot;:-1.00285},{&quot;x&quot;:0.339048,&quot;y&quot;:1.00857,&quot;z&quot;:-0.982857},{&quot;x&quot;:0.338787,&quot;y&quot;:0.996424,&quot;z&quot;:-1.01891},{&quot;x&quot;:0.318634,&quot;y&quot;:0.989707,&quot;z&quot;:-1.00883},{&quot;x&quot;:0.318795,&quot;y&quot;:0.997214,&quot;z&quot;:-0.986551},{&quot;x&quot;:0.333333,&quot;y&quot;:1,&quot;z&quot;:-1}], &quot;faces&quot;:[[0,1,2],[0,3,1],[0,4,3],[0,5,4],[0,2,5],[2,1,6,7],[1,3,8,6],[3,4,9,8],[4,5,10,9],[5,2,7,10],[7,6,11],[6,8,11],[8,9,11],[9,10,11],[10,7,11]], &quot;color&quot;:&quot;#0000ff&quot;, &quot;opacity&quot;:1},{&quot;vertices&quot;:[{&quot;x&quot;:0.5,&quot;y&quot;:0.666667,&quot;z&quot;:-0.888889},{&quot;x&quot;:0.477066,&quot;y&quot;:0.845202,&quot;z&quot;:-0.948881},{&quot;x&quot;:0.44,&quot;y&quot;:0.846667,&quot;z&quot;:-0.888889},{&quot;x&quot;:0.439217,&quot;y&quot;:0.810225,&quot;z&quot;:-0.997039},{&quot;x&quot;:0.378759,&quot;y&quot;:0.790073,&quot;z&quot;:-0.96681},{&quot;x&quot;:0.379243,&quot;y&quot;:0.812595,&quot;z&quot;:-0.899969},{&quot;x&quot;:0.422857,&quot;y&quot;:0.820952,&quot;z&quot;:-0.940317}], &quot;faces&quot;:[[0,1,2],[0,3,1],[0,4,3],[0,5,4],[0,2,5],[2,1,6],[1,3,6],[3,4,6],[4,5,6],[5,2,6]], &quot;color&quot;:&quot;#0000ff&quot;, &quot;opacity&quot;:1},{&quot;vertices&quot;:[{&quot;x&quot;:0.418213,&quot;y&quot;:0.89087,&quot;z&quot;:-0.648478},{&quot;x&quot;:0.433604,&quot;y&quot;:0.901717,&quot;z&quot;:-0.65522},{&quot;x&quot;:0.426641,&quot;y&quot;:0.900033,&quot;z&quot;:-0.632826},{&quot;x&quot;:0.419297,&quot;y&quot;:0.88841,&quot;z&quot;:-0.668297},{&quot;x&quot;:0.403491,&quot;y&quot;:0.878502,&quot;z&quot;:-0.653985},{&quot;x&quot;:0.40803,&quot;y&quot;:0.885686,&quot;z&quot;:-0.632063},{&quot;x&quot;:0.348725,&quot;y&quot;:1.01085,&quot;z&quot;:-0.673408},{&quot;x&quot;:0.341761,&quot;y&quot;:1.00916,&quot;z&quot;:-0.651014},{&quot;x&quot;:0.334418,&quot;y&quot;:0.99754,&quot;z&quot;:-0.686485},{&quot;x&quot;:0.318612,&quot;y&quot;:0.987632,&quot;z&quot;:-0.672174},{&quot;x&quot;:0.323151,&quot;y&quot;:0.994816,&quot;z&quot;:-0.650252},{&quot;x&quot;:0.333333,&quot;y&quot;:1,&quot;z&quot;:-0.666667}], &quot;faces&quot;:[[0,1,2],[0,3,1],[0,4,3],[0,5,4],[0,2,5],[2,1,6,7],[1,3,8,6],[3,4,9,8],[4,5,10,9],[5,2,7,10],[7,6,11],[6,8,11],[8,9,11],[9,10,11],[10,7,11]], &quot;color&quot;:&quot;#0000ff&quot;, &quot;opacity&quot;:1},{&quot;vertices&quot;:[{&quot;x&quot;:0.527778,&quot;y&quot;:0.75,&quot;z&quot;:-0.625},{&quot;x&quot;:0.464386,&quot;y&quot;:0.923412,&quot;z&quot;:-0.668702},{&quot;x&quot;:0.443497,&quot;y&quot;:0.918361,&quot;z&quot;:-0.601522},{&quot;x&quot;:0.421465,&quot;y&quot;:0.88349,&quot;z&quot;:-0.707934},{&quot;x&quot;:0.374049,&quot;y&quot;:0.853767,&quot;z&quot;:-0.665},{&quot;x&quot;:0.387665,&quot;y&quot;:0.875318,&quot;z&quot;:-0.599234},{&quot;x&quot;:0.418213,&quot;y&quot;:0.89087,&quot;z&quot;:-0.648478}], &quot;faces&quot;:[[0,1,2],[0,3,1],[0,4,3],[0,5,4],[0,2,5],[2,1,6],[1,3,6],[3,4,6],[4,5,6],[5,2,6]], &quot;color&quot;:&quot;#0000ff&quot;, &quot;opacity&quot;:1},{&quot;vertices&quot;:[{&quot;x&quot;:0.411556,&quot;y&quot;:0.941333,&quot;z&quot;:-0.333333},{&quot;x&quot;:0.42137,&quot;y&quot;:0.954419,&quot;z&quot;:-0.344842},{&quot;x&quot;:0.421156,&quot;y&quot;:0.954133,&quot;z&quot;:-0.321333},{&quot;x&quot;:0.408021,&quot;y&quot;:0.936621,&quot;z&quot;:-0.352446},{&quot;x&quot;:0.399557,&quot;y&quot;:0.925335,&quot;z&quot;:-0.333637},{&quot;x&quot;:0.407675,&quot;y&quot;:0.936159,&quot;z&quot;:-0.314408},{&quot;x&quot;:0.343148,&quot;y&quot;:1.01309,&quot;z&quot;:-0.344842},{&quot;x&quot;:0.342933,&quot;y&quot;:1.0128,&quot;z&quot;:-0.321333},{&quot;x&quot;:0.329799,&quot;y&quot;:0.995287,&quot;z&quot;:-0.352446},{&quot;x&quot;:0.321335,&quot;y&quot;:0.984002,&quot;z&quot;:-0.333637},{&quot;x&quot;:0.329452,&quot;y&quot;:0.994825,&quot;z&quot;:-0.314408},{&quot;x&quot;:0.333333,&quot;y&quot;:1,&quot;z&quot;:-0.333333}], &quot;faces&quot;:[[0,1,2],[0,3,1],[0,4,3],[0,5,4],[0,2,5],[2,1,6,7],[1,3,8,6],[3,4,9,8],[4,5,10,9],[5,2,7,10],[7,6,11],[6,8,11],[8,9,11],[9,10,11],[10,7,11]], &quot;color&quot;:&quot;#0000ff&quot;, &quot;opacity&quot;:1},{&quot;vertices&quot;:[{&quot;x&quot;:0.555556,&quot;y&quot;:0.833333,&quot;z&quot;:-0.333333},{&quot;x&quot;:0.440998,&quot;y&quot;:0.98059,&quot;z&quot;:-0.367859},{&quot;x&quot;:0.440356,&quot;y&quot;:0.979733,&quot;z&quot;:-0.297333},{&quot;x&quot;:0.400952,&quot;y&quot;:0.927195,&quot;z&quot;:-0.390672},{&quot;x&quot;:0.37556,&quot;y&quot;:0.893339,&quot;z&quot;:-0.334244},{&quot;x&quot;:0.399912,&quot;y&quot;:0.925809,&quot;z&quot;:-0.276558},{&quot;x&quot;:0.411556,&quot;y&quot;:0.941333,&quot;z&quot;:-0.333333}], &quot;faces&quot;:[[0,1,2],[0,3,1],[0,4,3],[0,5,4],[0,2,5],[2,1,6],[1,3,6],[3,4,6],[4,5,6],[5,2,6]], &quot;color&quot;:&quot;#0000ff&quot;, &quot;opacity&quot;:1},{&quot;vertices&quot;:[{&quot;x&quot;:0.412807,&quot;y&quot;:0.973509,&quot;z&quot;:-0.0044152},{&quot;x&quot;:0.41576,&quot;y&quot;:0.985045,&quot;z&quot;:-0.0204835},{&quot;x&quot;:0.419123,&quot;y&quot;:0.991404,&quot;z&quot;:0.00190058},{&quot;x&quot;:0.408316,&quot;y&quot;:0.962744,&quot;z&quot;:-0.0206618},{&quot;x&quot;:0.407079,&quot;y&quot;:0.955319,&quot;z&quot;:0.0016122},{&quot;x&quot;:0.413758,&quot;y&quot;:0.973032,&quot;z&quot;:0.0155565},{&quot;x&quot;:0.336286,&quot;y&quot;:1.01154,&quot;z&quot;:-0.0160683},{&quot;x&quot;:0.339649,&quot;y&quot;:1.01789,&quot;z&quot;:0.00631579},{&quot;x&quot;:0.328842,&quot;y&quot;:0.989235,&quot;z&quot;:-0.0162466},{&quot;x&quot;:0.327605,&quot;y&quot;:0.981811,&quot;z&quot;:0.0060274},{&quot;x&quot;:0.334284,&quot;y&quot;:0.999523,&quot;z&quot;:0.0199717},{&quot;x&quot;:0.333333,&quot;y&quot;:1,&quot;z&quot;:0}], &quot;faces&quot;:[[0,1,2],[0,3,1],[0,4,3],[0,5,4],[0,2,5],[2,1,6,7],[1,3,8,6],[3,4,9,8],[4,5,10,9],[5,2,7,10],[7,6,11],[6,8,11],[8,9,11],[9,10,11],[10,7,11]], &quot;color&quot;:&quot;#0000ff&quot;, &quot;opacity&quot;:1},{&quot;vertices&quot;:[{&quot;x&quot;:0.583333,&quot;y&quot;:0.916667,&quot;z&quot;:-0.0138889},{&quot;x&quot;:0.421665,&quot;y&quot;:1.00812,&quot;z&quot;:-0.0526202},{&quot;x&quot;:0.431754,&quot;y&quot;:1.02719,&quot;z&quot;:0.0145322},{&quot;x&quot;:0.399334,&quot;y&quot;:0.941214,&quot;z&quot;:-0.0531549},{&quot;x&quot;:0.395622,&quot;y&quot;:0.91894,&quot;z&quot;:0.013667},{&quot;x&quot;:0.415659,&quot;y&quot;:0.972078,&quot;z&quot;:0.0554999},{&quot;x&quot;:0.412807,&quot;y&quot;:0.973509,&quot;z&quot;:-0.0044152}], &quot;faces&quot;:[[0,1,2],[0,3,1],[0,4,3],[0,5,4],[0,2,5],[2,1,6],[1,3,6],[3,4,6],[4,5,6],[5,2,6]], &quot;color&quot;:&quot;#0000ff&quot;, &quot;opacity&quot;:1},{&quot;vertices&quot;:[{&quot;x&quot;:0.431111,&quot;y&quot;:1,&quot;z&quot;:0.333333},{&quot;x&quot;:0.431111,&quot;y&quot;:1.00618,&quot;z&quot;:0.314312},{&quot;x&quot;:0.431111,&quot;y&quot;:1.02,&quot;z&quot;:0.333333},{&quot;x&quot;:0.431111,&quot;y&quot;:0.98382,&quot;z&quot;:0.321578},{&quot;x&quot;:0.431111,&quot;y&quot;:0.98382,&quot;z&quot;:0.345089},{&quot;x&quot;:0.431111,&quot;y&quot;:1.00618,&quot;z&quot;:0.352354},{&quot;x&quot;:0.333333,&quot;y&quot;:1.00618,&quot;z&quot;:0.314312},{&quot;x&quot;:0.333333,&quot;y&quot;:1.02,&quot;z&quot;:0.333333},{&quot;x&quot;:0.333333,&quot;y&quot;:0.98382,&quot;z&quot;:0.321578},{&quot;x&quot;:0.333333,&quot;y&quot;:0.98382,&quot;z&quot;:0.345089},{&quot;x&quot;:0.333333,&quot;y&quot;:1.00618,&quot;z&quot;:0.352354},{&quot;x&quot;:0.333333,&quot;y&quot;:1,&quot;z&quot;:0.333333}], &quot;faces&quot;:[[0,1,2],[0,3,1],[0,4,3],[0,5,4],[0,2,5],[2,1,6,7],[1,3,8,6],[3,4,9,8],[4,5,10,9],[5,2,7,10],[7,6,11],[6,8,11],[8,9,11],[9,10,11],[10,7,11]], &quot;color&quot;:&quot;#0000ff&quot;, &quot;opacity&quot;:1},{&quot;vertices&quot;:[{&quot;x&quot;:0.611111,&quot;y&quot;:1,&quot;z&quot;:0.333333},{&quot;x&quot;:0.431111,&quot;y&quot;:1.01854,&quot;z&quot;:0.27627},{&quot;x&quot;:0.431111,&quot;y&quot;:1.06,&quot;z&quot;:0.333333},{&quot;x&quot;:0.431111,&quot;y&quot;:0.951459,&quot;z&quot;:0.298066},{&quot;x&quot;:0.431111,&quot;y&quot;:0.951459,&quot;z&quot;:0.3686},{&quot;x&quot;:0.431111,&quot;y&quot;:1.01854,&quot;z&quot;:0.390397},{&quot;x&quot;:0.431111,&quot;y&quot;:1,&quot;z&quot;:0.333333}], &quot;faces&quot;:[[0,1,2],[0,3,1],[0,4,3],[0,5,4],[0,2,5],[2,1,6],[1,3,6],[3,4,6],[4,5,6],[5,2,6]], &quot;color&quot;:&quot;#0000ff&quot;, &quot;opacity&quot;:1},{&quot;vertices&quot;:[{&quot;x&quot;:0.466715,&quot;y&quot;:1.03638,&quot;z&quot;:0.684855},{&quot;x&quot;:0.468977,&quot;y&quot;:1.03799,&quot;z&quot;:0.665049},{&quot;x&quot;:0.4623,&quot;y&quot;:1.05517,&quot;z&quot;:0.679638},{&quot;x&quot;:0.472528,&quot;y&quot;:1.01858,&quot;z&quot;:0.677831},{&quot;x&quot;:0.468046,&quot;y&quot;:1.02377,&quot;z&quot;:0.700321},{&quot;x&quot;:0.461725,&quot;y&quot;:1.04638,&quot;z&quot;:0.701437},{&quot;x&quot;:0.335595,&quot;y&quot;:1.00161,&quot;z&quot;:0.64686},{&quot;x&quot;:0.328919,&quot;y&quot;:1.0188,&quot;z&quot;:0.661449},{&quot;x&quot;:0.339146,&quot;y&quot;:0.982199,&quot;z&quot;:0.659643},{&quot;x&quot;:0.334664,&quot;y&quot;:0.987389,&quot;z&quot;:0.682132},{&quot;x&quot;:0.328343,&quot;y&quot;:1.01001,&quot;z&quot;:0.683249},{&quot;x&quot;:0.333333,&quot;y&quot;:1,&quot;z&quot;:0.666667}], &quot;faces&quot;:[[0,1,2],[0,3,1],[0,4,3],[0,5,4],[0,2,5],[2,1,6,7],[1,3,8,6],[3,4,9,8],[4,5,10,9],[5,2,7,10],[7,6,11],[6,8,11],[8,9,11],[9,10,11],[10,7,11]], &quot;color&quot;:&quot;#0000ff&quot;, &quot;opacity&quot;:1},{&quot;vertices&quot;:[{&quot;x&quot;:0.638889,&quot;y&quot;:1.08333,&quot;z&quot;:0.708333},{&quot;x&quot;:0.473501,&quot;y&quot;:1.04121,&quot;z&quot;:0.625436},{&quot;x&quot;:0.453471,&quot;y&quot;:1.09276,&quot;z&quot;:0.669203},{&quot;x&quot;:0.484153,&quot;y&quot;:0.982973,&quot;z&quot;:0.663784},{&quot;x&quot;:0.470707,&quot;y&quot;:0.998543,&quot;z&quot;:0.731252},{&quot;x&quot;:0.451744,&quot;y&quot;:1.0664,&quot;z&quot;:0.734601},{&quot;x&quot;:0.466715,&quot;y&quot;:1.03638,&quot;z&quot;:0.684855}], &quot;faces&quot;:[[0,1,2],[0,3,1],[0,4,3],[0,5,4],[0,2,5],[2,1,6],[1,3,6],[3,4,6],[4,5,6],[5,2,6]], &quot;color&quot;:&quot;#0000ff&quot;, &quot;opacity&quot;:1},{&quot;vertices&quot;:[{&quot;x&quot;:0.512381,&quot;y&quot;:1.08952,&quot;z&quot;:1.05968},{&quot;x&quot;:0.518767,&quot;y&quot;:1.08939,&quot;z&quot;:1.04073},{&quot;x&quot;:0.506667,&quot;y&quot;:1.10667,&quot;z&quot;:1.05111},{&quot;x&quot;:0.522042,&quot;y&quot;:1.0723,&quot;z&quot;:1.05654},{&quot;x&quot;:0.511966,&quot;y&quot;:1.07901,&quot;z&quot;:1.07669},{&quot;x&quot;:0.502463,&quot;y&quot;:1.10026,&quot;z&quot;:1.07334},{&quot;x&quot;:0.339719,&quot;y&quot;:0.999863,&quot;z&quot;:0.981047},{&quot;x&quot;:0.327619,&quot;y&quot;:1.01714,&quot;z&quot;:0.991429},{&quot;x&quot;:0.342994,&quot;y&quot;:0.982772,&quot;z&quot;:0.996858},{&quot;x&quot;:0.332918,&quot;y&quot;:0.98949,&quot;z&quot;:1.01701},{&quot;x&quot;:0.323416,&quot;y&quot;:1.01073,&quot;z&quot;:1.01366},{&quot;x&quot;:0.333333,&quot;y&quot;:1,&quot;z&quot;:1}], &quot;faces&quot;:[[0,1,2],[0,3,1],[0,4,3],[0,5,4],[0,2,5],[2,1,6,7],[1,3,8,6],[3,4,9,8],[4,5,10,9],[5,2,7,10],[7,6,11],[6,8,11],[8,9,11],[9,10,11],[10,7,11]], &quot;color&quot;:&quot;#0000ff&quot;, &quot;opacity&quot;:1},{&quot;vertices&quot;:[{&quot;x&quot;:0.666667,&quot;y&quot;:1.16667,&quot;z&quot;:1.11111},{&quot;x&quot;:0.531539,&quot;y&quot;:1.08911,&quot;z&quot;:1.00282},{&quot;x&quot;:0.495238,&quot;y&quot;:1.14095,&quot;z&quot;:1.03397},{&quot;x&quot;:0.541364,&quot;y&quot;:1.03784,&quot;z&quot;:1.05026},{&quot;x&quot;:0.511135,&quot;y&quot;:1.05799,&quot;z&quot;:1.11071},{&quot;x&quot;:0.482628,&quot;y&quot;:1.12172,&quot;z&quot;:1.10065},{&quot;x&quot;:0.512381,&quot;y&quot;:1.08952,&quot;z&quot;:1.05968}], &quot;faces&quot;:[[0,1,2],[0,3,1],[0,4,3],[0,5,4],[0,2,5],[2,1,6],[1,3,6],[3,4,6],[4,5,6],[5,2,6]], &quot;color&quot;:&quot;#0000ff&quot;, &quot;opacity&quot;:1},{&quot;vertices&quot;:[{&quot;x&quot;:0.424194,&quot;y&quot;:-0.951505,&quot;z&quot;:-0.959588},{&quot;x&quot;:0.428872,&quot;y&quot;:-0.942456,&quot;z&quot;:-0.942376},{&quot;x&quot;:0.427419,&quot;y&quot;:-0.932151,&quot;z&quot;:-0.963459},{&quot;x&quot;:0.423859,&quot;y&quot;:-0.965268,&quot;z&quot;:-0.94508},{&quot;x&quot;:0.419309,&quot;y&quot;:-0.96906,&quot;z&quot;:-0.967833},{&quot;x&quot;:0.421509,&quot;y&quot;:-0.948592,&quot;z&quot;:-0.979192},{&quot;x&quot;:0.671345,&quot;y&quot;:-0.990951,&quot;z&quot;:-0.982789},{&quot;x&quot;:0.669892,&quot;y&quot;:-0.980645,&quot;z&quot;:-1.00387},{&quot;x&quot;:0.666332,&quot;y&quot;:-1.01376,&quot;z&quot;:-0.985492},{&quot;x&quot;:0.661782,&quot;y&quot;:-1.01755,&quot;z&quot;:-1.00824},{&quot;x&quot;:0.663982,&quot;y&quot;:-0.997087,&quot;z&quot;:-1.0196},{&quot;x&quot;:0.666667,&quot;y&quot;:-1,&quot;z&quot;:-1}], &quot;faces&quot;:[[0,1,2],[0,3,1],[0,4,3],[0,5,4],[0,2,5],[2,1,6,7],[1,3,8,6],[3,4,9,8],[4,5,10,9],[5,2,7,10],[7,6,11],[6,8,11],[8,9,11],[9,10,11],[10,7,11]], &quot;color&quot;:&quot;#0000ff&quot;, &quot;opacity&quot;:1},{&quot;vertices&quot;:[{&quot;x&quot;:0.25,&quot;y&quot;:-0.916667,&quot;z&quot;:-0.930556},{&quot;x&quot;:0.438229,&quot;y&quot;:-0.924359,&quot;z&quot;:-0.907954},{&quot;x&quot;:0.433871,&quot;y&quot;:-0.893441,&quot;z&quot;:-0.971201},{&quot;x&quot;:0.42319,&quot;y&quot;:-0.992792,&quot;z&quot;:-0.916063},{&quot;x&quot;:0.409538,&quot;y&quot;:-1.00417,&quot;z&quot;:-0.984322},{&quot;x&quot;:0.41614,&quot;y&quot;:-0.942766,&quot;z&quot;:-1.0184},{&quot;x&quot;:0.424194,&quot;y&quot;:-0.951505,&quot;z&quot;:-0.959588}], &quot;faces&quot;:[[0,1,2],[0,3,1],[0,4,3],[0,5,4],[0,2,5],[2,1,6],[1,3,6],[3,4,6],[4,5,6],[5,2,6]], &quot;color&quot;:&quot;#0000ff&quot;, &quot;opacity&quot;:1},{&quot;vertices&quot;:[{&quot;x&quot;:0.485556,&quot;y&quot;:-1,&quot;z&quot;:-0.666667},{&quot;x&quot;:0.485556,&quot;y&quot;:-0.99382,&quot;z&quot;:-0.647646},{&quot;x&quot;:0.485556,&quot;y&quot;:-0.98,&quot;z&quot;:-0.666667},{&quot;x&quot;:0.485556,&quot;y&quot;:-1.01618,&quot;z&quot;:-0.654911},{&quot;x&quot;:0.485556,&quot;y&quot;:-1.01618,&quot;z&quot;:-0.678422},{&quot;x&quot;:0.485556,&quot;y&quot;:-0.99382,&quot;z&quot;:-0.685688},{&quot;x&quot;:0.666667,&quot;y&quot;:-0.99382,&quot;z&quot;:-0.647646},{&quot;x&quot;:0.666667,&quot;y&quot;:-0.98,&quot;z&quot;:-0.666667},{&quot;x&quot;:0.666667,&quot;y&quot;:-1.01618,&quot;z&quot;:-0.654911},{&quot;x&quot;:0.666667,&quot;y&quot;:-1.01618,&quot;z&quot;:-0.678422},{&quot;x&quot;:0.666667,&quot;y&quot;:-0.99382,&quot;z&quot;:-0.685688},{&quot;x&quot;:0.666667,&quot;y&quot;:-1,&quot;z&quot;:-0.666667}], &quot;faces&quot;:[[0,1,2],[0,3,1],[0,4,3],[0,5,4],[0,2,5],[2,1,6,7],[1,3,8,6],[3,4,9,8],[4,5,10,9],[5,2,7,10],[7,6,11],[6,8,11],[8,9,11],[9,10,11],[10,7,11]], &quot;color&quot;:&quot;#0000ff&quot;, &quot;opacity&quot;:1},{&quot;vertices&quot;:[{&quot;x&quot;:0.305556,&quot;y&quot;:-1,&quot;z&quot;:-0.666667},{&quot;x&quot;:0.485556,&quot;y&quot;:-0.981459,&quot;z&quot;:-0.609603},{&quot;x&quot;:0.485556,&quot;y&quot;:-0.94,&quot;z&quot;:-0.666667},{&quot;x&quot;:0.485556,&quot;y&quot;:-1.04854,&quot;z&quot;:-0.6314},{&quot;x&quot;:0.485556,&quot;y&quot;:-1.04854,&quot;z&quot;:-0.701934},{&quot;x&quot;:0.485556,&quot;y&quot;:-0.981459,&quot;z&quot;:-0.72373},{&quot;x&quot;:0.485556,&quot;y&quot;:-1,&quot;z&quot;:-0.666667}], &quot;faces&quot;:[[0,1,2],[0,3,1],[0,4,3],[0,5,4],[0,2,5],[2,1,6],[1,3,6],[3,4,6],[4,5,6],[5,2,6]], &quot;color&quot;:&quot;#0000ff&quot;, &quot;opacity&quot;:1},{&quot;vertices&quot;:[{&quot;x&quot;:0.533285,&quot;y&quot;:-1.03638,&quot;z&quot;:-0.351522},{&quot;x&quot;:0.530519,&quot;y&quot;:-1.03614,&quot;z&quot;:-0.331715},{&quot;x&quot;:0.527546,&quot;y&quot;:-1.01794,&quot;z&quot;:-0.346304},{&quot;x&quot;:0.537315,&quot;y&quot;:-1.05466,&quot;z&quot;:-0.344498},{&quot;x&quot;:0.538541,&quot;y&quot;:-1.04792,&quot;z&quot;:-0.366987},{&quot;x&quot;:0.532504,&quot;y&quot;:-1.02522,&quot;z&quot;:-0.368104},{&quot;x&quot;:0.663901,&quot;y&quot;:-0.999762,&quot;z&quot;:-0.313527},{&quot;x&quot;:0.660928,&quot;y&quot;:-0.981565,&quot;z&quot;:-0.328116},{&quot;x&quot;:0.670696,&quot;y&quot;:-1.01829,&quot;z&quot;:-0.32631},{&quot;x&quot;:0.671923,&quot;y&quot;:-1.01154,&quot;z&quot;:-0.348799},{&quot;x&quot;:0.665886,&quot;y&quot;:-0.988845,&quot;z&quot;:-0.349915},{&quot;x&quot;:0.666667,&quot;y&quot;:-1,&quot;z&quot;:-0.333333}], &quot;faces&quot;:[[0,1,2],[0,3,1],[0,4,3],[0,5,4],[0,2,5],[2,1,6,7],[1,3,8,6],[3,4,9,8],[4,5,10,9],[5,2,7,10],[7,6,11],[6,8,11],[8,9,11],[9,10,11],[10,7,11]], &quot;color&quot;:&quot;#0000ff&quot;, &quot;opacity&quot;:1},{&quot;vertices&quot;:[{&quot;x&quot;:0.361111,&quot;y&quot;:-1.08333,&quot;z&quot;:-0.375},{&quot;x&quot;:0.524987,&quot;y&quot;:-1.03566,&quot;z&quot;:-0.292103},{&quot;x&quot;:0.516068,&quot;y&quot;:-0.981072,&quot;z&quot;:-0.33587},{&quot;x&quot;:0.545374,&quot;y&quot;:-1.09124,&quot;z&quot;:-0.330451},{&quot;x&quot;:0.549054,&quot;y&quot;:-1.071,&quot;z&quot;:-0.397918},{&quot;x&quot;:0.530942,&quot;y&quot;:-1.00291,&quot;z&quot;:-0.401267},{&quot;x&quot;:0.533285,&quot;y&quot;:-1.03638,&quot;z&quot;:-0.351522}], &quot;faces&quot;:[[0,1,2],[0,3,1],[0,4,3],[0,5,4],[0,2,5],[2,1,6],[1,3,6],[3,4,6],[4,5,6],[5,2,6]], &quot;color&quot;:&quot;#0000ff&quot;, &quot;opacity&quot;:1},{&quot;vertices&quot;:[{&quot;x&quot;:0.563939,&quot;y&quot;:-1.06848,&quot;z&quot;:-0.0228283},{&quot;x&quot;:0.564027,&quot;y&quot;:-1.07493,&quot;z&quot;:-0.00389445},{&quot;x&quot;:0.55303,&quot;y&quot;:-1.05576,&quot;z&quot;:-0.0119192},{&quot;x&quot;:0.574902,&quot;y&quot;:-1.08519,&quot;z&quot;:-0.0220356},{&quot;x&quot;:0.570628,&quot;y&quot;:-1.07237,&quot;z&quot;:-0.0412722},{&quot;x&quot;:0.55711,&quot;y&quot;:-1.05418,&quot;z&quot;:-0.0350199},{&quot;x&quot;:0.666754,&quot;y&quot;:-1.00644,&quot;z&quot;:0.0189338},{&quot;x&quot;:0.655758,&quot;y&quot;:-0.987273,&quot;z&quot;:0.0109091},{&quot;x&quot;:0.67763,&quot;y&quot;:-1.01671,&quot;z&quot;:0.000792664},{&quot;x&quot;:0.673355,&quot;y&quot;:-1.00388,&quot;z&quot;:-0.0184439},{&quot;x&quot;:0.659837,&quot;y&quot;:-0.985692,&quot;z&quot;:-0.0121916},{&quot;x&quot;:0.666667,&quot;y&quot;:-1,&quot;z&quot;:0}], &quot;faces&quot;:[[0,1,2],[0,3,1],[0,4,3],[0,5,4],[0,2,5],[2,1,6,7],[1,3,8,6],[3,4,9,8],[4,5,10,9],[5,2,7,10],[7,6,11],[6,8,11],[8,9,11],[9,10,11],[10,7,11]], &quot;color&quot;:&quot;#0000ff&quot;, &quot;opacity&quot;:1},{&quot;vertices&quot;:[{&quot;x&quot;:0.416667,&quot;y&quot;:-1.16667,&quot;z&quot;:-0.0555556},{&quot;x&quot;:0.564201,&quot;y&quot;:-1.08781,&quot;z&quot;:0.0339732},{&quot;x&quot;:0.531212,&quot;y&quot;:-1.0303,&quot;z&quot;:0.00989899},{&quot;x&quot;:0.596829,&quot;y&quot;:-1.11861,&quot;z&quot;:-0.0204503},{&quot;x&quot;:0.584004,&quot;y&quot;:-1.08014,&quot;z&quot;:-0.0781601},{&quot;x&quot;:0.543451,&quot;y&quot;:-1.02556,&quot;z&quot;:-0.0594032},{&quot;x&quot;:0.563939,&quot;y&quot;:-1.06848,&quot;z&quot;:-0.0228283}], &quot;faces&quot;:[[0,1,2],[0,3,1],[0,4,3],[0,5,4],[0,2,5],[2,1,6],[1,3,6],[3,4,6],[4,5,6],[5,2,6]], &quot;color&quot;:&quot;#0000ff&quot;, &quot;opacity&quot;:1},{&quot;vertices&quot;:[{&quot;x&quot;:0.581787,&quot;y&quot;:-1.10913,&quot;z&quot;:0.315145},{&quot;x&quot;:0.589318,&quot;y&quot;:-1.11772,&quot;z&quot;:0.33156},{&quot;x&quot;:0.570831,&quot;y&quot;:-1.10322,&quot;z&quot;:0.330797},{&quot;x&quot;:0.597398,&quot;y&quot;:-1.12035,&quot;z&quot;:0.309638},{&quot;x&quot;:0.583905,&quot;y&quot;:-1.10747,&quot;z&quot;:0.295326},{&quot;x&quot;:0.567485,&quot;y&quot;:-1.09688,&quot;z&quot;:0.308404},{&quot;x&quot;:0.674197,&quot;y&quot;:-1.00859,&quot;z&quot;:0.349748},{&quot;x&quot;:0.65571,&quot;y&quot;:-0.994087,&quot;z&quot;:0.348986},{&quot;x&quot;:0.682277,&quot;y&quot;:-1.01122,&quot;z&quot;:0.327826},{&quot;x&quot;:0.668784,&quot;y&quot;:-0.998344,&quot;z&quot;:0.313515},{&quot;x&quot;:0.652364,&quot;y&quot;:-0.987752,&quot;z&quot;:0.326592},{&quot;x&quot;:0.666667,&quot;y&quot;:-1,&quot;z&quot;:0.333333}], &quot;faces&quot;:[[0,1,2],[0,3,1],[0,4,3],[0,5,4],[0,2,5],[2,1,6,7],[1,3,8,6],[3,4,9,8],[4,5,10,9],[5,2,7,10],[7,6,11],[6,8,11],[8,9,11],[9,10,11],[10,7,11]], &quot;color&quot;:&quot;#0000ff&quot;, &quot;opacity&quot;:1},{&quot;vertices&quot;:[{&quot;x&quot;:0.472222,&quot;y&quot;:-1.25,&quot;z&quot;:0.291667},{&quot;x&quot;:0.60438,&quot;y&quot;:-1.13491,&quot;z&quot;:0.36439},{&quot;x&quot;:0.548918,&quot;y&quot;:-1.09139,&quot;z&quot;:0.362101},{&quot;x&quot;:0.62862,&quot;y&quot;:-1.1428,&quot;z&quot;:0.298623},{&quot;x&quot;:0.588139,&quot;y&quot;:-1.10416,&quot;z&quot;:0.255689},{&quot;x&quot;:0.538881,&quot;y&quot;:-1.07239,&quot;z&quot;:0.294921},{&quot;x&quot;:0.581787,&quot;y&quot;:-1.10913,&quot;z&quot;:0.315145}], &quot;faces&quot;:[[0,1,2],[0,3,1],[0,4,3],[0,5,4],[0,2,5],[2,1,6],[1,3,6],[3,4,6],[4,5,6],[5,2,6]], &quot;color&quot;:&quot;#0000ff&quot;, &quot;opacity&quot;:1},{&quot;vertices&quot;:[{&quot;x&quot;:0.597009,&quot;y&quot;:-1.16718,&quot;z&quot;:0.666667},{&quot;x&quot;:0.611022,&quot;y&quot;:-1.17302,&quot;z&quot;:0.679687},{&quot;x&quot;:0.589908,&quot;y&quot;:-1.16422,&quot;z&quot;:0.685128},{&quot;x&quot;:0.61277,&quot;y&quot;:-1.17375,&quot;z&quot;:0.656252},{&quot;x&quot;:0.592736,&quot;y&quot;:-1.1654,&quot;z&quot;:0.64721},{&quot;x&quot;:0.578607,&quot;y&quot;:-1.15951,&quot;z&quot;:0.665056},{&quot;x&quot;:0.68068,&quot;y&quot;:-1.00584,&quot;z&quot;:0.679687},{&quot;x&quot;:0.659566,&quot;y&quot;:-0.997041,&quot;z&quot;:0.685128},{&quot;x&quot;:0.682428,&quot;y&quot;:-1.00657,&quot;z&quot;:0.656252},{&quot;x&quot;:0.662394,&quot;y&quot;:-0.99822,&quot;z&quot;:0.64721},{&quot;x&quot;:0.648265,&quot;y&quot;:-0.992333,&quot;z&quot;:0.665056},{&quot;x&quot;:0.666667,&quot;y&quot;:-1,&quot;z&quot;:0.666667}], &quot;faces&quot;:[[0,1,2],[0,3,1],[0,4,3],[0,5,4],[0,2,5],[2,1,6,7],[1,3,8,6],[3,4,9,8],[4,5,10,9],[5,2,7,10],[7,6,11],[6,8,11],[8,9,11],[9,10,11],[10,7,11]], &quot;color&quot;:&quot;#0000ff&quot;, &quot;opacity&quot;:1},{&quot;vertices&quot;:[{&quot;x&quot;:0.527778,&quot;y&quot;:-1.33333,&quot;z&quot;:0.666667},{&quot;x&quot;:0.639048,&quot;y&quot;:-1.1847,&quot;z&quot;:0.705729},{&quot;x&quot;:0.575707,&quot;y&quot;:-1.1583,&quot;z&quot;:0.722051},{&quot;x&quot;:0.644292,&quot;y&quot;:-1.18688,&quot;z&quot;:0.635424},{&quot;x&quot;:0.584192,&quot;y&quot;:-1.16184,&quot;z&quot;:0.608295},{&quot;x&quot;:0.541804,&quot;y&quot;:-1.14418,&quot;z&quot;:0.661834},{&quot;x&quot;:0.597009,&quot;y&quot;:-1.16718,&quot;z&quot;:0.666667}], &quot;faces&quot;:[[0,1,2],[0,3,1],[0,4,3],[0,5,4],[0,2,5],[2,1,6],[1,3,6],[3,4,6],[4,5,6],[5,2,6]], &quot;color&quot;:&quot;#0000ff&quot;, &quot;opacity&quot;:1},{&quot;vertices&quot;:[{&quot;x&quot;:0.618172,&quot;y&quot;:-1.24247,&quot;z&quot;:1.04041},{&quot;x&quot;:0.635583,&quot;y&quot;:-1.24434,&quot;z&quot;:1.05007},{&quot;x&quot;:0.614946,&quot;y&quot;:-1.2386,&quot;z&quot;:1.05977},{&quot;x&quot;:0.632158,&quot;y&quot;:-1.2475,&quot;z&quot;:1.02703},{&quot;x&quot;:0.609405,&quot;y&quot;:-1.24371,&quot;z&quot;:1.02248},{&quot;x&quot;:0.598768,&quot;y&quot;:-1.23821,&quot;z&quot;:1.04271},{&quot;x&quot;:0.684077,&quot;y&quot;:-1.00187,&quot;z&quot;:1.00966},{&quot;x&quot;:0.663441,&quot;y&quot;:-0.996129,&quot;z&quot;:1.01935},{&quot;x&quot;:0.680653,&quot;y&quot;:-1.00503,&quot;z&quot;:0.986617},{&quot;x&quot;:0.6579,&quot;y&quot;:-1.00124,&quot;z&quot;:0.982066},{&quot;x&quot;:0.647262,&quot;y&quot;:-0.995736,&quot;z&quot;:1.0023},{&quot;x&quot;:0.666667,&quot;y&quot;:-1,&quot;z&quot;:1}], &quot;faces&quot;:[[0,1,2],[0,3,1],[0,4,3],[0,5,4],[0,2,5],[2,1,6,7],[1,3,8,6],[3,4,9,8],[4,5,10,9],[5,2,7,10],[7,6,11],[6,8,11],[8,9,11],[9,10,11],[10,7,11]], &quot;color&quot;:&quot;#0000ff&quot;, &quot;opacity&quot;:1},{&quot;vertices&quot;:[{&quot;x&quot;:0.583333,&quot;y&quot;:-1.41667,&quot;z&quot;:1.06944},{&quot;x&quot;:0.670404,&quot;y&quot;:-1.24809,&quot;z&quot;:1.0694},{&quot;x&quot;:0.608495,&quot;y&quot;:-1.23086,&quot;z&quot;:1.09848},{&quot;x&quot;:0.660131,&quot;y&quot;:-1.25756,&quot;z&quot;:1.00026},{&quot;x&quot;:0.591872,&quot;y&quot;:-1.24618,&quot;z&quot;:0.986611},{&quot;x&quot;:0.559959,&quot;y&quot;:-1.22968,&quot;z&quot;:1.04731},{&quot;x&quot;:0.618172,&quot;y&quot;:-1.24247,&quot;z&quot;:1.04041}], &quot;faces&quot;:[[0,1,2],[0,3,1],[0,4,3],[0,5,4],[0,2,5],[2,1,6],[1,3,6],[3,4,6],[4,5,6],[5,2,6]], &quot;color&quot;:&quot;#0000ff&quot;, &quot;opacity&quot;:1},{&quot;vertices&quot;:[{&quot;x&quot;:0.499487,&quot;y&quot;:-0.666667,&quot;z&quot;:-0.930342},{&quot;x&quot;:0.506803,&quot;y&quot;:-0.660486,&quot;z&quot;:-0.912784},{&quot;x&quot;:0.499487,&quot;y&quot;:-0.646667,&quot;z&quot;:-0.930342},{&quot;x&quot;:0.504009,&quot;y&quot;:-0.682847,&quot;z&quot;:-0.91949},{&quot;x&quot;:0.494966,&quot;y&quot;:-0.682847,&quot;z&quot;:-0.941193},{&quot;x&quot;:0.492171,&quot;y&quot;:-0.660486,&quot;z&quot;:-0.9479},{&quot;x&quot;:0.673982,&quot;y&quot;:-0.660486,&quot;z&quot;:-0.982442},{&quot;x&quot;:0.666667,&quot;y&quot;:-0.646667,&quot;z&quot;:-1},{&quot;x&quot;:0.671188,&quot;y&quot;:-0.682847,&quot;z&quot;:-0.989149},{&quot;x&quot;:0.662145,&quot;y&quot;:-0.682847,&quot;z&quot;:-1.01085},{&quot;x&quot;:0.659351,&quot;y&quot;:-0.660486,&quot;z&quot;:-1.01756},{&quot;x&quot;:0.666667,&quot;y&quot;:-0.666667,&quot;z&quot;:-1}], &quot;faces&quot;:[[0,1,2],[0,3,1],[0,4,3],[0,5,4],[0,2,5],[2,1,6,7],[1,3,8,6],[3,4,9,8],[4,5,10,9],[5,2,7,10],[7,6,11],[6,8,11],[8,9,11],[9,10,11],[10,7,11]], &quot;color&quot;:&quot;#0000ff&quot;, &quot;opacity&quot;:1},{&quot;vertices&quot;:[{&quot;x&quot;:0.333333,&quot;y&quot;:-0.666667,&quot;z&quot;:-0.861111},{&quot;x&quot;:0.521435,&quot;y&quot;:-0.648126,&quot;z&quot;:-0.877668},{&quot;x&quot;:0.499487,&quot;y&quot;:-0.606667,&quot;z&quot;:-0.930342},{&quot;x&quot;:0.513051,&quot;y&quot;:-0.715208,&quot;z&quot;:-0.897788},{&quot;x&quot;:0.485923,&quot;y&quot;:-0.715208,&quot;z&quot;:-0.962896},{&quot;x&quot;:0.47754,&quot;y&quot;:-0.648126,&quot;z&quot;:-0.983016},{&quot;x&quot;:0.499487,&quot;y&quot;:-0.666667,&quot;z&quot;:-0.930342}], &quot;faces&quot;:[[0,1,2],[0,3,1],[0,4,3],[0,5,4],[0,2,5],[2,1,6],[1,3,6],[3,4,6],[4,5,6],[5,2,6]], &quot;color&quot;:&quot;#0000ff&quot;, &quot;opacity&quot;:1},{&quot;vertices&quot;:[{&quot;x&quot;:0.560317,&quot;y&quot;:-0.687937,&quot;z&quot;:-0.640079},{&quot;x&quot;:0.564498,&quot;y&quot;:-0.684724,&quot;z&quot;:-0.620787},{&quot;x&quot;:0.557387,&quot;y&quot;:-0.668523,&quot;z&quot;:-0.63627},{&quot;x&quot;:0.565832,&quot;y&quot;:-0.705365,&quot;z&quot;:-0.631965},{&quot;x&quot;:0.559545,&quot;y&quot;:-0.70192,&quot;z&quot;:-0.654357},{&quot;x&quot;:0.554326,&quot;y&quot;:-0.67915,&quot;z&quot;:-0.657018},{&quot;x&quot;:0.670847,&quot;y&quot;:-0.663454,&quot;z&quot;:-0.647374},{&quot;x&quot;:0.663736,&quot;y&quot;:-0.647253,&quot;z&quot;:-0.662857},{&quot;x&quot;:0.672181,&quot;y&quot;:-0.684095,&quot;z&quot;:-0.658553},{&quot;x&quot;:0.665894,&quot;y&quot;:-0.68065,&quot;z&quot;:-0.680945},{&quot;x&quot;:0.660675,&quot;y&quot;:-0.65788,&quot;z&quot;:-0.683605},{&quot;x&quot;:0.666667,&quot;y&quot;:-0.666667,&quot;z&quot;:-0.666667}], &quot;faces&quot;:[[0,1,2],[0,3,1],[0,4,3],[0,5,4],[0,2,5],[2,1,6,7],[1,3,8,6],[3,4,9,8],[4,5,10,9],[5,2,7,10],[7,6,11],[6,8,11],[8,9,11],[9,10,11],[10,7,11]], &quot;color&quot;:&quot;#0000ff&quot;, &quot;opacity&quot;:1},{&quot;vertices&quot;:[{&quot;x&quot;:0.388889,&quot;y&quot;:-0.722222,&quot;z&quot;:-0.597222},{&quot;x&quot;:0.57286,&quot;y&quot;:-0.6783,&quot;z&quot;:-0.582202},{&quot;x&quot;:0.551526,&quot;y&quot;:-0.629695,&quot;z&quot;:-0.628651},{&quot;x&quot;:0.57686,&quot;y&quot;:-0.740222,&quot;z&quot;:-0.615738},{&quot;x&quot;:0.557999,&quot;y&quot;:-0.729888,&quot;z&quot;:-0.682913},{&quot;x&quot;:0.542342,&quot;y&quot;:-0.661578,&quot;z&quot;:-0.690894},{&quot;x&quot;:0.560317,&quot;y&quot;:-0.687937,&quot;z&quot;:-0.640079}], &quot;faces&quot;:[[0,1,2],[0,3,1],[0,4,3],[0,5,4],[0,2,5],[2,1,6],[1,3,6],[3,4,6],[4,5,6],[5,2,6]], &quot;color&quot;:&quot;#0000ff&quot;, &quot;opacity&quot;:1},{&quot;vertices&quot;:[{&quot;x&quot;:0.604444,&quot;y&quot;:-0.697778,&quot;z&quot;:-0.325556},{&quot;x&quot;:0.607742,&quot;y&quot;:-0.699459,&quot;z&quot;:-0.305901},{&quot;x&quot;:0.597333,&quot;y&quot;:-0.681333,&quot;z&quot;:-0.316667},{&quot;x&quot;:0.613594,&quot;y&quot;:-0.715261,&quot;z&quot;:-0.322297},{&quot;x&quot;:0.606801,&quot;y&quot;:-0.706902,&quot;z&quot;:-0.343196},{&quot;x&quot;:0.596752,&quot;y&quot;:-0.685933,&quot;z&quot;:-0.339716},{&quot;x&quot;:0.669964,&quot;y&quot;:-0.668348,&quot;z&quot;:-0.313679},{&quot;x&quot;:0.659556,&quot;y&quot;:-0.650222,&quot;z&quot;:-0.324444},{&quot;x&quot;:0.675816,&quot;y&quot;:-0.68415,&quot;z&quot;:-0.330075},{&quot;x&quot;:0.669024,&quot;y&quot;:-0.675791,&quot;z&quot;:-0.350974},{&quot;x&quot;:0.658974,&quot;y&quot;:-0.654822,&quot;z&quot;:-0.347494},{&quot;x&quot;:0.666667,&quot;y&quot;:-0.666667,&quot;z&quot;:-0.333333}], &quot;faces&quot;:[[0,1,2],[0,3,1],[0,4,3],[0,5,4],[0,2,5],[2,1,6,7],[1,3,8,6],[3,4,9,8],[4,5,10,9],[5,2,7,10],[7,6,11],[6,8,11],[8,9,11],[9,10,11],[10,7,11]], &quot;color&quot;:&quot;#0000ff&quot;, &quot;opacity&quot;:1},{&quot;vertices&quot;:[{&quot;x&quot;:0.444444,&quot;y&quot;:-0.777778,&quot;z&quot;:-0.305556},{&quot;x&quot;:0.614337,&quot;y&quot;:-0.702822,&quot;z&quot;:-0.266592},{&quot;x&quot;:0.583111,&quot;y&quot;:-0.648444,&quot;z&quot;:-0.298889},{&quot;x&quot;:0.631892,&quot;y&quot;:-0.750229,&quot;z&quot;:-0.315781},{&quot;x&quot;:0.611515,&quot;y&quot;:-0.72515,&quot;z&quot;:-0.378478},{&quot;x&quot;:0.581367,&quot;y&quot;:-0.662244,&quot;z&quot;:-0.368038},{&quot;x&quot;:0.604444,&quot;y&quot;:-0.697778,&quot;z&quot;:-0.325556}], &quot;faces&quot;:[[0,1,2],[0,3,1],[0,4,3],[0,5,4],[0,2,5],[2,1,6],[1,3,6],[3,4,6],[4,5,6],[5,2,6]], &quot;color&quot;:&quot;#0000ff&quot;, &quot;opacity&quot;:1},{&quot;vertices&quot;:[{&quot;x&quot;:0.627059,&quot;y&quot;:-0.706275,&quot;z&quot;:0.00330065},{&quot;x&quot;:0.63422,&quot;y&quot;:-0.711954,&quot;z&quot;:0.0210899},{&quot;x&quot;:0.617647,&quot;y&quot;:-0.695686,&quot;z&quot;:0.0174183},{&quot;x&quot;:0.640897,&quot;y&quot;:-0.720373,&quot;z&quot;:0.000177382},{&quot;x&quot;:0.628449,&quot;y&quot;:-0.709308,&quot;z&quot;:-0.0164189},{&quot;x&quot;:0.61408,&quot;y&quot;:-0.694051,&quot;z&quot;:-0.00576343},{&quot;x&quot;:0.673828,&quot;y&quot;:-0.672346,&quot;z&quot;:0.0177893},{&quot;x&quot;:0.657255,&quot;y&quot;:-0.656078,&quot;z&quot;:0.0141176},{&quot;x&quot;:0.680505,&quot;y&quot;:-0.680765,&quot;z&quot;:-0.00312327},{&quot;x&quot;:0.668057,&quot;y&quot;:-0.669701,&quot;z&quot;:-0.0197196},{&quot;x&quot;:0.653688,&quot;y&quot;:-0.654444,&quot;z&quot;:-0.00906409},{&quot;x&quot;:0.666667,&quot;y&quot;:-0.666667,&quot;z&quot;:0}], &quot;faces&quot;:[[0,1,2],[0,3,1],[0,4,3],[0,5,4],[0,2,5],[2,1,6,7],[1,3,8,6],[3,4,9,8],[4,5,10,9],[5,2,7,10],[7,6,11],[6,8,11],[8,9,11],[9,10,11],[10,7,11]], &quot;color&quot;:&quot;#0000ff&quot;, &quot;opacity&quot;:1},{&quot;vertices&quot;:[{&quot;x&quot;:0.5,&quot;y&quot;:-0.833333,&quot;z&quot;:0.0138889},{&quot;x&quot;:0.648544,&quot;y&quot;:-0.723312,&quot;z&quot;:0.0566685},{&quot;x&quot;:0.598824,&quot;y&quot;:-0.67451,&quot;z&quot;:0.0456536},{&quot;x&quot;:0.668572,&quot;y&quot;:-0.748569,&quot;z&quot;:-0.00606916},{&quot;x&quot;:0.631231,&quot;y&quot;:-0.715376,&quot;z&quot;:-0.055858},{&quot;x&quot;:0.588124,&quot;y&quot;:-0.669605,&quot;z&quot;:-0.0238916},{&quot;x&quot;:0.627059,&quot;y&quot;:-0.706275,&quot;z&quot;:0.00330065}], &quot;faces&quot;:[[0,1,2],[0,3,1],[0,4,3],[0,5,4],[0,2,5],[2,1,6],[1,3,6],[3,4,6],[4,5,6],[5,2,6]], &quot;color&quot;:&quot;#0000ff&quot;, &quot;opacity&quot;:1},{&quot;vertices&quot;:[{&quot;x&quot;:0.635556,&quot;y&quot;:-0.728889,&quot;z&quot;:0.341111},{&quot;x&quot;:0.648998,&quot;y&quot;:-0.733867,&quot;z&quot;:0.355059},{&quot;x&quot;:0.628444,&quot;y&quot;:-0.723111,&quot;z&quot;:0.358889},{&quot;x&quot;:0.650974,&quot;y&quot;:-0.737743,&quot;z&quot;:0.331953},{&quot;x&quot;:0.631643,&quot;y&quot;:-0.729383,&quot;z&quot;:0.321504},{&quot;x&quot;:0.617719,&quot;y&quot;:-0.72034,&quot;z&quot;:0.338151},{&quot;x&quot;:0.680109,&quot;y&quot;:-0.671644,&quot;z&quot;:0.347281},{&quot;x&quot;:0.659556,&quot;y&quot;:-0.660889,&quot;z&quot;:0.351111},{&quot;x&quot;:0.682085,&quot;y&quot;:-0.675521,&quot;z&quot;:0.324176},{&quot;x&quot;:0.662754,&quot;y&quot;:-0.667161,&quot;z&quot;:0.313726},{&quot;x&quot;:0.64883,&quot;y&quot;:-0.658118,&quot;z&quot;:0.330373},{&quot;x&quot;:0.666667,&quot;y&quot;:-0.666667,&quot;z&quot;:0.333333}], &quot;faces&quot;:[[0,1,2],[0,3,1],[0,4,3],[0,5,4],[0,2,5],[2,1,6,7],[1,3,8,6],[3,4,9,8],[4,5,10,9],[5,2,7,10],[7,6,11],[6,8,11],[8,9,11],[9,10,11],[10,7,11]], &quot;color&quot;:&quot;#0000ff&quot;, &quot;opacity&quot;:1},{&quot;vertices&quot;:[{&quot;x&quot;:0.555556,&quot;y&quot;:-0.888889,&quot;z&quot;:0.361111},{&quot;x&quot;:0.675882,&quot;y&quot;:-0.743822,&quot;z&quot;:0.382954},{&quot;x&quot;:0.614222,&quot;y&quot;:-0.711556,&quot;z&quot;:0.394444},{&quot;x&quot;:0.681812,&quot;y&quot;:-0.755451,&quot;z&quot;:0.313638},{&quot;x&quot;:0.623817,&quot;y&quot;:-0.730372,&quot;z&quot;:0.282289},{&quot;x&quot;:0.582044,&quot;y&quot;:-0.703243,&quot;z&quot;:0.332231},{&quot;x&quot;:0.635556,&quot;y&quot;:-0.728889,&quot;z&quot;:0.341111}], &quot;faces&quot;:[[0,1,2],[0,3,1],[0,4,3],[0,5,4],[0,2,5],[2,1,6],[1,3,6],[3,4,6],[4,5,6],[5,2,6]], &quot;color&quot;:&quot;#0000ff&quot;, &quot;opacity&quot;:1},{&quot;vertices&quot;:[{&quot;x&quot;:0.645397,&quot;y&quot;:-0.773016,&quot;z&quot;:0.693254},{&quot;x&quot;:0.662955,&quot;y&quot;:-0.77415,&quot;z&quot;:0.702763},{&quot;x&quot;:0.642466,&quot;y&quot;:-0.767668,&quot;z&quot;:0.712302},{&quot;x&quot;:0.659179,&quot;y&quot;:-0.779065,&quot;z&quot;:0.680083},{&quot;x&quot;:0.636356,&quot;y&quot;:-0.77562,&quot;z&quot;:0.675605},{&quot;x&quot;:0.626028,&quot;y&quot;:-0.768576,&quot;z&quot;:0.695517},{&quot;x&quot;:0.684225,&quot;y&quot;:-0.667801,&quot;z&quot;:0.676176},{&quot;x&quot;:0.663736,&quot;y&quot;:-0.661319,&quot;z&quot;:0.685714},{&quot;x&quot;:0.680449,&quot;y&quot;:-0.672716,&quot;z&quot;:0.653496},{&quot;x&quot;:0.657626,&quot;y&quot;:-0.669271,&quot;z&quot;:0.649018},{&quot;x&quot;:0.647297,&quot;y&quot;:-0.662227,&quot;z&quot;:0.66893},{&quot;x&quot;:0.666667,&quot;y&quot;:-0.666667,&quot;z&quot;:0.666667}], &quot;faces&quot;:[[0,1,2],[0,3,1],[0,4,3],[0,5,4],[0,2,5],[2,1,6,7],[1,3,8,6],[3,4,9,8],[4,5,10,9],[5,2,7,10],[7,6,11],[6,8,11],[8,9,11],[9,10,11],[10,7,11]], &quot;color&quot;:&quot;#0000ff&quot;, &quot;opacity&quot;:1},{&quot;vertices&quot;:[{&quot;x&quot;:0.611111,&quot;y&quot;:-0.944444,&quot;z&quot;:0.736111},{&quot;x&quot;:0.698071,&quot;y&quot;:-0.776419,&quot;z&quot;:0.721781},{&quot;x&quot;:0.636606,&quot;y&quot;:-0.756972,&quot;z&quot;:0.750397},{&quot;x&quot;:0.686743,&quot;y&quot;:-0.791163,&quot;z&quot;:0.653742},{&quot;x&quot;:0.618275,&quot;y&quot;:-0.780828,&quot;z&quot;:0.640307},{&quot;x&quot;:0.587289,&quot;y&quot;:-0.759697,&quot;z&quot;:0.700043},{&quot;x&quot;:0.645397,&quot;y&quot;:-0.773016,&quot;z&quot;:0.693254}], &quot;faces&quot;:[[0,1,2],[0,3,1],[0,4,3],[0,5,4],[0,2,5],[2,1,6],[1,3,6],[3,4,6],[4,5,6],[5,2,6]], &quot;color&quot;:&quot;#0000ff&quot;, &quot;opacity&quot;:1},{&quot;vertices&quot;:[{&quot;x&quot;:0.666667,&quot;y&quot;:-0.833846,&quot;z&quot;:1.06966},{&quot;x&quot;:0.685688,&quot;y&quot;:-0.831469,&quot;z&quot;:1.07536},{&quot;x&quot;:0.666667,&quot;y&quot;:-0.826154,&quot;z&quot;:1.08812},{&quot;x&quot;:0.678422,&quot;y&quot;:-0.840069,&quot;z&quot;:1.05472},{&quot;x&quot;:0.654911,&quot;y&quot;:-0.840069,&quot;z&quot;:1.05472},{&quot;x&quot;:0.647646,&quot;y&quot;:-0.831469,&quot;z&quot;:1.07536},{&quot;x&quot;:0.685688,&quot;y&quot;:-0.66429,&quot;z&quot;:1.0057},{&quot;x&quot;:0.666667,&quot;y&quot;:-0.658974,&quot;z&quot;:1.01846},{&quot;x&quot;:0.678422,&quot;y&quot;:-0.67289,&quot;z&quot;:0.985064},{&quot;x&quot;:0.654911,&quot;y&quot;:-0.67289,&quot;z&quot;:0.985064},{&quot;x&quot;:0.647646,&quot;y&quot;:-0.66429,&quot;z&quot;:1.0057},{&quot;x&quot;:0.666667,&quot;y&quot;:-0.666667,&quot;z&quot;:1}], &quot;faces&quot;:[[0,1,2],[0,3,1],[0,4,3],[0,5,4],[0,2,5],[2,1,6,7],[1,3,8,6],[3,4,9,8],[4,5,10,9],[5,2,7,10],[7,6,11],[6,8,11],[8,9,11],[9,10,11],[10,7,11]], &quot;color&quot;:&quot;#0000ff&quot;, &quot;opacity&quot;:1},{&quot;vertices&quot;:[{&quot;x&quot;:0.666667,&quot;y&quot;:-1,&quot;z&quot;:1.13889},{&quot;x&quot;:0.72373,&quot;y&quot;:-0.826715,&quot;z&quot;:1.08677},{&quot;x&quot;:0.666667,&quot;y&quot;:-0.810769,&quot;z&quot;:1.12504},{&quot;x&quot;:0.701934,&quot;y&quot;:-0.852516,&quot;z&quot;:1.02485},{&quot;x&quot;:0.6314,&quot;y&quot;:-0.852516,&quot;z&quot;:1.02485},{&quot;x&quot;:0.609603,&quot;y&quot;:-0.826715,&quot;z&quot;:1.08677},{&quot;x&quot;:0.666667,&quot;y&quot;:-0.833846,&quot;z&quot;:1.06966}], &quot;faces&quot;:[[0,1,2],[0,3,1],[0,4,3],[0,5,4],[0,2,5],[2,1,6],[1,3,6],[3,4,6],[4,5,6],[5,2,6]], &quot;color&quot;:&quot;#0000ff&quot;, &quot;opacity&quot;:1},{&quot;vertices&quot;:[{&quot;x&quot;:0.557536,&quot;y&quot;:-0.36971,&quot;z&quot;:-0.921184},{&quot;x&quot;:0.568308,&quot;y&quot;:-0.36628,&quot;z&quot;:-0.904685},{&quot;x&quot;:0.554928,&quot;y&quot;:-0.35058,&quot;z&quot;:-0.915966},{&quot;x&quot;:0.566802,&quot;y&quot;:-0.38672,&quot;z&quot;:-0.916204},{&quot;x&quot;:0.552491,&quot;y&quot;:-0.383654,&quot;z&quot;:-0.934605},{&quot;x&quot;:0.545152,&quot;y&quot;:-0.361317,&quot;z&quot;:-0.934457},{&quot;x&quot;:0.677439,&quot;y&quot;:-0.329903,&quot;z&quot;:-0.983502},{&quot;x&quot;:0.664058,&quot;y&quot;:-0.314203,&quot;z&quot;:-0.994783},{&quot;x&quot;:0.675933,&quot;y&quot;:-0.350344,&quot;z&quot;:-0.995021},{&quot;x&quot;:0.661621,&quot;y&quot;:-0.347277,&quot;z&quot;:-1.01342},{&quot;x&quot;:0.654282,&quot;y&quot;:-0.324941,&quot;z&quot;:-1.01327},{&quot;x&quot;:0.666667,&quot;y&quot;:-0.333333,&quot;z&quot;:-1}], &quot;faces&quot;:[[0,1,2],[0,3,1],[0,4,3],[0,5,4],[0,2,5],[2,1,6,7],[1,3,8,6],[3,4,9,8],[4,5,10,9],[5,2,7,10],[7,6,11],[6,8,11],[8,9,11],[9,10,11],[10,7,11]], &quot;color&quot;:&quot;#0000ff&quot;, &quot;opacity&quot;:1},{&quot;vertices&quot;:[{&quot;x&quot;:0.416667,&quot;y&quot;:-0.416667,&quot;z&quot;:-0.819444},{&quot;x&quot;:0.589852,&quot;y&quot;:-0.359418,&quot;z&quot;:-0.871688},{&quot;x&quot;:0.54971,&quot;y&quot;:-0.312319,&quot;z&quot;:-0.905531},{&quot;x&quot;:0.585335,&quot;y&quot;:-0.420741,&quot;z&quot;:-0.906246},{&quot;x&quot;:0.542401,&quot;y&quot;:-0.411541,&quot;z&quot;:-0.961447},{&quot;x&quot;:0.520384,&quot;y&quot;:-0.344532,&quot;z&quot;:-0.961005},{&quot;x&quot;:0.557536,&quot;y&quot;:-0.36971,&quot;z&quot;:-0.921184}], &quot;faces&quot;:[[0,1,2],[0,3,1],[0,4,3],[0,5,4],[0,2,5],[2,1,6],[1,3,6],[3,4,6],[4,5,6],[5,2,6]], &quot;color&quot;:&quot;#0000ff&quot;, &quot;opacity&quot;:1},{&quot;vertices&quot;:[{&quot;x&quot;:0.612222,&quot;y&quot;:-0.364444,&quot;z&quot;:-0.635556},{&quot;x&quot;:0.621798,&quot;y&quot;:-0.363661,&quot;z&quot;:-0.618015},{&quot;x&quot;:0.607436,&quot;y&quot;:-0.347179,&quot;z&quot;:-0.626667},{&quot;x&quot;:0.622927,&quot;y&quot;:-0.381225,&quot;z&quot;:-0.633603},{&quot;x&quot;:0.609262,&quot;y&quot;:-0.375599,&quot;z&quot;:-0.65189},{&quot;x&quot;:0.599688,&quot;y&quot;:-0.354557,&quot;z&quot;:-0.647603},{&quot;x&quot;:0.676243,&quot;y&quot;:-0.33255,&quot;z&quot;:-0.649126},{&quot;x&quot;:0.66188,&quot;y&quot;:-0.316068,&quot;z&quot;:-0.657778},{&quot;x&quot;:0.677371,&quot;y&quot;:-0.350114,&quot;z&quot;:-0.664715},{&quot;x&quot;:0.663707,&quot;y&quot;:-0.344488,&quot;z&quot;:-0.683001},{&quot;x&quot;:0.654133,&quot;y&quot;:-0.323446,&quot;z&quot;:-0.678714},{&quot;x&quot;:0.666667,&quot;y&quot;:-0.333333,&quot;z&quot;:-0.666667}], &quot;faces&quot;:[[0,1,2],[0,3,1],[0,4,3],[0,5,4],[0,2,5],[2,1,6,7],[1,3,8,6],[3,4,9,8],[4,5,10,9],[5,2,7,10],[7,6,11],[6,8,11],[8,9,11],[9,10,11],[10,7,11]], &quot;color&quot;:&quot;#0000ff&quot;, &quot;opacity&quot;:1},{&quot;vertices&quot;:[{&quot;x&quot;:0.472222,&quot;y&quot;:-0.444444,&quot;z&quot;:-0.555556},{&quot;x&quot;:0.64095,&quot;y&quot;:-0.362095,&quot;z&quot;:-0.582932},{&quot;x&quot;:0.597863,&quot;y&quot;:-0.31265,&quot;z&quot;:-0.608889},{&quot;x&quot;:0.644336,&quot;y&quot;:-0.414787,&quot;z&quot;:-0.629699},{&quot;x&quot;:0.603342,&quot;y&quot;:-0.397907,&quot;z&quot;:-0.684559},{&quot;x&quot;:0.57462,&quot;y&quot;:-0.334783,&quot;z&quot;:-0.671698},{&quot;x&quot;:0.612222,&quot;y&quot;:-0.364444,&quot;z&quot;:-0.635556}], &quot;faces&quot;:[[0,1,2],[0,3,1],[0,4,3],[0,5,4],[0,2,5],[2,1,6],[1,3,6],[3,4,6],[4,5,6],[5,2,6]], &quot;color&quot;:&quot;#0000ff&quot;, &quot;opacity&quot;:1},{&quot;vertices&quot;:[{&quot;x&quot;:0.647778,&quot;y&quot;:-0.352222,&quot;z&quot;:-0.323889},{&quot;x&quot;:0.658398,&quot;y&quot;:-0.354442,&quot;z&quot;:-0.307088},{&quot;x&quot;:0.641111,&quot;y&quot;:-0.338889,&quot;z&quot;:-0.310556},{&quot;x&quot;:0.661008,&quot;y&quot;:-0.366928,&quot;z&quot;:-0.326839},{&quot;x&quot;:0.645334,&quot;y&quot;:-0.359091,&quot;z&quot;:-0.342513},{&quot;x&quot;:0.633037,&quot;y&quot;:-0.341762,&quot;z&quot;:-0.332449},{&quot;x&quot;:0.677287,&quot;y&quot;:-0.335553,&quot;z&quot;:-0.316532},{&quot;x&quot;:0.66,&quot;y&quot;:-0.32,&quot;z&quot;:-0.32},{&quot;x&quot;:0.679897,&quot;y&quot;:-0.348039,&quot;z&quot;:-0.336283},{&quot;x&quot;:0.664223,&quot;y&quot;:-0.340202,&quot;z&quot;:-0.351957},{&quot;x&quot;:0.651926,&quot;y&quot;:-0.322873,&quot;z&quot;:-0.341894},{&quot;x&quot;:0.666667,&quot;y&quot;:-0.333333,&quot;z&quot;:-0.333333}], &quot;faces&quot;:[[0,1,2],[0,3,1],[0,4,3],[0,5,4],[0,2,5],[2,1,6,7],[1,3,8,6],[3,4,9,8],[4,5,10,9],[5,2,7,10],[7,6,11],[6,8,11],[8,9,11],[9,10,11],[10,7,11]], &quot;color&quot;:&quot;#0000ff&quot;, &quot;opacity&quot;:1},{&quot;vertices&quot;:[{&quot;x&quot;:0.527778,&quot;y&quot;:-0.472222,&quot;z&quot;:-0.263889},{&quot;x&quot;:0.67964,&quot;y&quot;:-0.358883,&quot;z&quot;:-0.273486},{&quot;x&quot;:0.627778,&quot;y&quot;:-0.312222,&quot;z&quot;:-0.283889},{&quot;x&quot;:0.68747,&quot;y&quot;:-0.396339,&quot;z&quot;:-0.332738},{&quot;x&quot;:0.640447,&quot;y&quot;:-0.372827,&quot;z&quot;:-0.379761},{&quot;x&quot;:0.603555,&quot;y&quot;:-0.32084,&quot;z&quot;:-0.34957},{&quot;x&quot;:0.647778,&quot;y&quot;:-0.352222,&quot;z&quot;:-0.323889}], &quot;faces&quot;:[[0,1,2],[0,3,1],[0,4,3],[0,5,4],[0,2,5],[2,1,6],[1,3,6],[3,4,6],[4,5,6],[5,2,6]], &quot;color&quot;:&quot;#0000ff&quot;, &quot;opacity&quot;:1},{&quot;vertices&quot;:[{&quot;x&quot;:0.660476,&quot;y&quot;:-0.345714,&quot;z&quot;:0.00412698},{&quot;x&quot;:0.675014,&quot;y&quot;:-0.3485,&quot;z&quot;:0.0175763},{&quot;x&quot;:0.654762,&quot;y&quot;:-0.337143,&quot;z&quot;:0.0212698},{&quot;x&quot;:0.675175,&quot;y&quot;:-0.356007,&quot;z&quot;:-0.00470372},{&quot;x&quot;:0.655023,&quot;y&quot;:-0.34929,&quot;z&quot;:-0.01478},{&quot;x&quot;:0.642407,&quot;y&quot;:-0.337631,&quot;z&quot;:0.00127251},{&quot;x&quot;:0.681205,&quot;y&quot;:-0.336119,&quot;z&quot;:0.0134493},{&quot;x&quot;:0.660952,&quot;y&quot;:-0.324762,&quot;z&quot;:0.0171429},{&quot;x&quot;:0.681366,&quot;y&quot;:-0.343627,&quot;z&quot;:-0.0088307},{&quot;x&quot;:0.661213,&quot;y&quot;:-0.336909,&quot;z&quot;:-0.018907},{&quot;x&quot;:0.648597,&quot;y&quot;:-0.32525,&quot;z&quot;:-0.00285448},{&quot;x&quot;:0.666667,&quot;y&quot;:-0.333333,&quot;z&quot;:0}], &quot;faces&quot;:[[0,1,2],[0,3,1],[0,4,3],[0,5,4],[0,2,5],[2,1,6,7],[1,3,8,6],[3,4,9,8],[4,5,10,9],[5,2,7,10],[7,6,11],[6,8,11],[8,9,11],[9,10,11],[10,7,11]], &quot;color&quot;:&quot;#0000ff&quot;, &quot;opacity&quot;:1},{&quot;vertices&quot;:[{&quot;x&quot;:0.583333,&quot;y&quot;:-0.5,&quot;z&quot;:0.0555556},{&quot;x&quot;:0.70409,&quot;y&quot;:-0.354072,&quot;z&quot;:0.044475},{&quot;x&quot;:0.643333,&quot;y&quot;:-0.32,&quot;z&quot;:0.0555556},{&quot;x&quot;:0.704574,&quot;y&quot;:-0.376594,&quot;z&quot;:-0.0223651},{&quot;x&quot;:0.644116,&quot;y&quot;:-0.356441,&quot;z&quot;:-0.0525941},{&quot;x&quot;:0.606267,&quot;y&quot;:-0.321464,&quot;z&quot;:-0.00443645},{&quot;x&quot;:0.660476,&quot;y&quot;:-0.345714,&quot;z&quot;:0.00412698}], &quot;faces&quot;:[[0,1,2],[0,3,1],[0,4,3],[0,5,4],[0,2,5],[2,1,6],[1,3,6],[3,4,6],[4,5,6],[5,2,6]], &quot;color&quot;:&quot;#0000ff&quot;, &quot;opacity&quot;:1},{&quot;vertices&quot;:[{&quot;x&quot;:0.662889,&quot;y&quot;:-0.359778,&quot;z&quot;:0.342778},{&quot;x&quot;:0.68108,&quot;y&quot;:-0.359411,&quot;z&quot;:0.351082},{&quot;x&quot;:0.661022,&quot;y&quot;:-0.352844,&quot;z&quot;:0.361444},{&quot;x&quot;:0.675998,&quot;y&quot;:-0.366484,&quot;z&quot;:0.329244},{&quot;x&quot;:0.6528,&quot;y&quot;:-0.36429,&quot;z&quot;:0.326109},{&quot;x&quot;:0.643545,&quot;y&quot;:-0.35586,&quot;z&quot;:0.34601},{&quot;x&quot;:0.684857,&quot;y&quot;:-0.332966,&quot;z&quot;:0.341638},{&quot;x&quot;:0.6648,&quot;y&quot;:-0.3264,&quot;z&quot;:0.352},{&quot;x&quot;:0.679776,&quot;y&quot;:-0.34004,&quot;z&quot;:0.319799},{&quot;x&quot;:0.656578,&quot;y&quot;:-0.337845,&quot;z&quot;:0.316664},{&quot;x&quot;:0.647322,&quot;y&quot;:-0.329416,&quot;z&quot;:0.336565},{&quot;x&quot;:0.666667,&quot;y&quot;:-0.333333,&quot;z&quot;:0.333333}], &quot;faces&quot;:[[0,1,2],[0,3,1],[0,4,3],[0,5,4],[0,2,5],[2,1,6,7],[1,3,8,6],[3,4,9,8],[4,5,10,9],[5,2,7,10],[7,6,11],[6,8,11],[8,9,11],[9,10,11],[10,7,11]], &quot;color&quot;:&quot;#0000ff&quot;, &quot;opacity&quot;:1},{&quot;vertices&quot;:[{&quot;x&quot;:0.638889,&quot;y&quot;:-0.527778,&quot;z&quot;:0.402778},{&quot;x&quot;:0.717461,&quot;y&quot;:-0.358676,&quot;z&quot;:0.367691},{&quot;x&quot;:0.657289,&quot;y&quot;:-0.338978,&quot;z&quot;:0.398778},{&quot;x&quot;:0.702216,&quot;y&quot;:-0.379897,&quot;z&quot;:0.302175},{&quot;x&quot;:0.632622,&quot;y&quot;:-0.373314,&quot;z&quot;:0.292771},{&quot;x&quot;:0.604856,&quot;y&quot;:-0.348024,&quot;z&quot;:0.352474},{&quot;x&quot;:0.662889,&quot;y&quot;:-0.359778,&quot;z&quot;:0.342778}], &quot;faces&quot;:[[0,1,2],[0,3,1],[0,4,3],[0,5,4],[0,2,5],[2,1,6],[1,3,6],[3,4,6],[4,5,6],[5,2,6]], &quot;color&quot;:&quot;#0000ff&quot;, &quot;opacity&quot;:1},{&quot;vertices&quot;:[{&quot;x&quot;:0.674444,&quot;y&quot;:-0.395556,&quot;z&quot;:0.697778},{&quot;x&quot;:0.693726,&quot;y&quot;:-0.391455,&quot;z&quot;:0.701158},{&quot;x&quot;:0.675812,&quot;y&quot;:-0.386496,&quot;z&quot;:0.715556},{&quot;x&quot;:0.684993,&quot;y&quot;:-0.402081,&quot;z&quot;:0.682089},{&quot;x&quot;:0.661683,&quot;y&quot;:-0.403689,&quot;z&quot;:0.684701},{&quot;x&quot;:0.656008,&quot;y&quot;:-0.394057,&quot;z&quot;:0.705385},{&quot;x&quot;:0.685948,&quot;y&quot;:-0.329233,&quot;z&quot;:0.670047},{&quot;x&quot;:0.668034,&quot;y&quot;:-0.324274,&quot;z&quot;:0.684444},{&quot;x&quot;:0.677216,&quot;y&quot;:-0.339859,&quot;z&quot;:0.650978},{&quot;x&quot;:0.653905,&quot;y&quot;:-0.341467,&quot;z&quot;:0.65359},{&quot;x&quot;:0.648231,&quot;y&quot;:-0.331834,&quot;z&quot;:0.674274},{&quot;x&quot;:0.666667,&quot;y&quot;:-0.333333,&quot;z&quot;:0.666667}], &quot;faces&quot;:[[0,1,2],[0,3,1],[0,4,3],[0,5,4],[0,2,5],[2,1,6,7],[1,3,8,6],[3,4,9,8],[4,5,10,9],[5,2,7,10],[7,6,11],[6,8,11],[8,9,11],[9,10,11],[10,7,11]], &quot;color&quot;:&quot;#0000ff&quot;, &quot;opacity&quot;:1},{&quot;vertices&quot;:[{&quot;x&quot;:0.694444,&quot;y&quot;:-0.555556,&quot;z&quot;:0.777778},{&quot;x&quot;:0.732288,&quot;y&quot;:-0.383255,&quot;z&quot;:0.707918},{&quot;x&quot;:0.678547,&quot;y&quot;:-0.368376,&quot;z&quot;:0.751111},{&quot;x&quot;:0.706091,&quot;y&quot;:-0.415133,&quot;z&quot;:0.650712},{&quot;x&quot;:0.63616,&quot;y&quot;:-0.419956,&quot;z&quot;:0.658549},{&quot;x&quot;:0.619137,&quot;y&quot;:-0.391058,&quot;z&quot;:0.720599},{&quot;x&quot;:0.674444,&quot;y&quot;:-0.395556,&quot;z&quot;:0.697778}], &quot;faces&quot;:[[0,1,2],[0,3,1],[0,4,3],[0,5,4],[0,2,5],[2,1,6],[1,3,6],[3,4,6],[4,5,6],[5,2,6]], &quot;color&quot;:&quot;#0000ff&quot;, &quot;opacity&quot;:1},{&quot;vertices&quot;:[{&quot;x&quot;:0.703043,&quot;y&quot;:-0.442464,&quot;z&quot;:1.07882},{&quot;x&quot;:0.722044,&quot;y&quot;:-0.436221,&quot;z&quot;:1.07869},{&quot;x&quot;:0.705652,&quot;y&quot;:-0.43029,&quot;z&quot;:1.09447},{&quot;x&quot;:0.712178,&quot;y&quot;:-0.450779,&quot;z&quot;:1.06309},{&quot;x&quot;:0.689688,&quot;y&quot;:-0.453846,&quot;z&quot;:1.06922},{&quot;x&quot;:0.685655,&quot;y&quot;:-0.441183,&quot;z&quot;:1.08862},{&quot;x&quot;:0.685667,&quot;y&quot;:-0.32709,&quot;z&quot;:0.999875},{&quot;x&quot;:0.669275,&quot;y&quot;:-0.321159,&quot;z&quot;:1.01565},{&quot;x&quot;:0.675801,&quot;y&quot;:-0.341649,&quot;z&quot;:0.98427},{&quot;x&quot;:0.653312,&quot;y&quot;:-0.344716,&quot;z&quot;:0.990404},{&quot;x&quot;:0.649279,&quot;y&quot;:-0.332052,&quot;z&quot;:1.0098},{&quot;x&quot;:0.666667,&quot;y&quot;:-0.333333,&quot;z&quot;:1}], &quot;faces&quot;:[[0,1,2],[0,3,1],[0,4,3],[0,5,4],[0,2,5],[2,1,6,7],[1,3,8,6],[3,4,9,8],[4,5,10,9],[5,2,7,10],[7,6,11],[6,8,11],[8,9,11],[9,10,11],[10,7,11]], &quot;color&quot;:&quot;#0000ff&quot;, &quot;opacity&quot;:1},{&quot;vertices&quot;:[{&quot;x&quot;:0.75,&quot;y&quot;:-0.583333,&quot;z&quot;:1.18056},{&quot;x&quot;:0.760044,&quot;y&quot;:-0.423735,&quot;z&quot;:1.07844},{&quot;x&quot;:0.71087,&quot;y&quot;:-0.405942,&quot;z&quot;:1.12577},{&quot;x&quot;:0.730446,&quot;y&quot;:-0.46741,&quot;z&quot;:1.03163},{&quot;x&quot;:0.662978,&quot;y&quot;:-0.476611,&quot;z&quot;:1.05003},{&quot;x&quot;:0.650879,&quot;y&quot;:-0.438621,&quot;z&quot;:1.10821},{&quot;x&quot;:0.703043,&quot;y&quot;:-0.442464,&quot;z&quot;:1.07882}], &quot;faces&quot;:[[0,1,2],[0,3,1],[0,4,3],[0,5,4],[0,2,5],[2,1,6],[1,3,6],[3,4,6],[4,5,6],[5,2,6]], &quot;color&quot;:&quot;#0000ff&quot;, &quot;opacity&quot;:1},{&quot;vertices&quot;:[{&quot;x&quot;:0.598182,&quot;y&quot;:-0.0684848,&quot;z&quot;:-0.920101},{&quot;x&quot;:0.612621,&quot;y&quot;:-0.0668866,&quot;z&quot;:-0.906355},{&quot;x&quot;:0.594545,&quot;y&quot;:-0.0521212,&quot;z&quot;:-0.909192},{&quot;x&quot;:0.610742,&quot;y&quot;:-0.0838607,&quot;z&quot;:-0.922514},{&quot;x&quot;:0.591505,&quot;y&quot;:-0.0795859,&quot;z&quot;:-0.935339},{&quot;x&quot;:0.581495,&quot;y&quot;:-0.0599698,&quot;z&quot;:-0.927105},{&quot;x&quot;:0.681106,&quot;y&quot;:0.00159825,&quot;z&quot;:-0.986254},{&quot;x&quot;:0.66303,&quot;y&quot;:0.0163636,&quot;z&quot;:-0.989091},{&quot;x&quot;:0.679227,&quot;y&quot;:-0.0153759,&quot;z&quot;:-1.00241},{&quot;x&quot;:0.65999,&quot;y&quot;:-0.0111011,&quot;z&quot;:-1.01524},{&quot;x&quot;:0.64998,&quot;y&quot;:0.00851503,&quot;z&quot;:-1.007},{&quot;x&quot;:0.666667,&quot;y&quot;:0,&quot;z&quot;:-1}], &quot;faces&quot;:[[0,1,2],[0,3,1],[0,4,3],[0,5,4],[0,2,5],[2,1,6,7],[1,3,8,6],[3,4,9,8],[4,5,10,9],[5,2,7,10],[7,6,11],[6,8,11],[8,9,11],[9,10,11],[10,7,11]], &quot;color&quot;:&quot;#0000ff&quot;, &quot;opacity&quot;:1},{&quot;vertices&quot;:[{&quot;x&quot;:0.5,&quot;y&quot;:-0.166667,&quot;z&quot;:-0.805556},{&quot;x&quot;:0.641499,&quot;y&quot;:-0.0636901,&quot;z&quot;:-0.878862},{&quot;x&quot;:0.587273,&quot;y&quot;:-0.0193939,&quot;z&quot;:-0.887374},{&quot;x&quot;:0.635862,&quot;y&quot;:-0.114612,&quot;z&quot;:-0.927341},{&quot;x&quot;:0.578153,&quot;y&quot;:-0.101788,&quot;z&quot;:-0.965815},{&quot;x&quot;:0.548122,&quot;y&quot;:-0.0429398,&quot;z&quot;:-0.941113},{&quot;x&quot;:0.598182,&quot;y&quot;:-0.0684848,&quot;z&quot;:-0.920101}], &quot;faces&quot;:[[0,1,2],[0,3,1],[0,4,3],[0,5,4],[0,2,5],[2,1,6],[1,3,6],[3,4,6],[4,5,6],[5,2,6]], &quot;color&quot;:&quot;#0000ff&quot;, &quot;opacity&quot;:1},{&quot;vertices&quot;:[{&quot;x&quot;:0.640261,&quot;y&quot;:-0.0396078,&quot;z&quot;:-0.636961},{&quot;x&quot;:0.655186,&quot;y&quot;:-0.0395723,&quot;z&quot;:-0.623647},{&quot;x&quot;:0.635918,&quot;y&quot;:-0.0261237,&quot;z&quot;:-0.622843},{&quot;x&quot;:0.653829,&quot;y&quot;:-0.05307,&quot;z&quot;:-0.64285},{&quot;x&quot;:0.633722,&quot;y&quot;:-0.0479635,&quot;z&quot;:-0.653914},{&quot;x&quot;:0.622652,&quot;y&quot;:-0.0313097,&quot;z&quot;:-0.641549},{&quot;x&quot;:0.681591,&quot;y&quot;:3.55493e-05,&quot;z&quot;:-0.653353},{&quot;x&quot;:0.662323,&quot;y&quot;:0.0134842,&quot;z&quot;:-0.652549},{&quot;x&quot;:0.680234,&quot;y&quot;:-0.0134622,&quot;z&quot;:-0.672556},{&quot;x&quot;:0.660127,&quot;y&quot;:-0.00835564,&quot;z&quot;:-0.68362},{&quot;x&quot;:0.649057,&quot;y&quot;:0.00829812,&quot;z&quot;:-0.671255},{&quot;x&quot;:0.666667,&quot;y&quot;:0,&quot;z&quot;:-0.666667}], &quot;faces&quot;:[[0,1,2],[0,3,1],[0,4,3],[0,5,4],[0,2,5],[2,1,6,7],[1,3,8,6],[3,4,9,8],[4,5,10,9],[5,2,7,10],[7,6,11],[6,8,11],[8,9,11],[9,10,11],[10,7,11]], &quot;color&quot;:&quot;#0000ff&quot;, &quot;opacity&quot;:1},{&quot;vertices&quot;:[{&quot;x&quot;:0.555556,&quot;y&quot;:-0.166667,&quot;z&quot;:-0.541667},{&quot;x&quot;:0.685035,&quot;y&quot;:-0.0395012,&quot;z&quot;:-0.59702},{&quot;x&quot;:0.62723,&quot;y&quot;:0.000844646,&quot;z&quot;:-0.594608},{&quot;x&quot;:0.680965,&quot;y&quot;:-0.0799944,&quot;z&quot;:-0.654629},{&quot;x&quot;:0.620644,&quot;y&quot;:-0.0646748,&quot;z&quot;:-0.687821},{&quot;x&quot;:0.587434,&quot;y&quot;:-0.0147135,&quot;z&quot;:-0.650726},{&quot;x&quot;:0.640261,&quot;y&quot;:-0.0396078,&quot;z&quot;:-0.636961}], &quot;faces&quot;:[[0,1,2],[0,3,1],[0,4,3],[0,5,4],[0,2,5],[2,1,6],[1,3,6],[3,4,6],[4,5,6],[5,2,6]], &quot;color&quot;:&quot;#0000ff&quot;, &quot;opacity&quot;:1},{&quot;vertices&quot;:[{&quot;x&quot;:0.66254,&quot;y&quot;:-0.012381,&quot;z&quot;:-0.327143},{&quot;x&quot;:0.679414,&quot;y&quot;:-0.0126398,&quot;z&quot;:-0.316411},{&quot;x&quot;:0.659111,&quot;y&quot;:-0.00266667,&quot;z&quot;:-0.31},{&quot;x&quot;:0.676397,&quot;y&quot;:-0.0222552,&quot;z&quot;:-0.337653},{&quot;x&quot;:0.65423,&quot;y&quot;:-0.0182247,&quot;z&quot;:-0.34437},{&quot;x&quot;:0.643546,&quot;y&quot;:-0.00611831,&quot;z&quot;:-0.32728},{&quot;x&quot;:0.683541,&quot;y&quot;:-0.000258886,&quot;z&quot;:-0.322601},{&quot;x&quot;:0.663238,&quot;y&quot;:0.00971429,&quot;z&quot;:-0.31619},{&quot;x&quot;:0.680524,&quot;y&quot;:-0.00987429,&quot;z&quot;:-0.343843},{&quot;x&quot;:0.658356,&quot;y&quot;:-0.00584376,&quot;z&quot;:-0.350561},{&quot;x&quot;:0.647673,&quot;y&quot;:0.00626264,&quot;z&quot;:-0.333471},{&quot;x&quot;:0.666667,&quot;y&quot;:0,&quot;z&quot;:-0.333333}], &quot;faces&quot;:[[0,1,2],[0,3,1],[0,4,3],[0,5,4],[0,2,5],[2,1,6,7],[1,3,8,6],[3,4,9,8],[4,5,10,9],[5,2,7,10],[7,6,11],[6,8,11],[8,9,11],[9,10,11],[10,7,11]], &quot;color&quot;:&quot;#0000ff&quot;, &quot;opacity&quot;:1},{&quot;vertices&quot;:[{&quot;x&quot;:0.611111,&quot;y&quot;:-0.166667,&quot;z&quot;:-0.25},{&quot;x&quot;:0.713164,&quot;y&quot;:-0.0131576,&quot;z&quot;:-0.294947},{&quot;x&quot;:0.652254,&quot;y&quot;:0.0167619,&quot;z&quot;:-0.275714},{&quot;x&quot;:0.704113,&quot;y&quot;:-0.0420038,&quot;z&quot;:-0.358673},{&quot;x&quot;:0.637609,&quot;y&quot;:-0.0299122,&quot;z&quot;:-0.378826},{&quot;x&quot;:0.605559,&quot;y&quot;:0.00640698,&quot;z&quot;:-0.327554},{&quot;x&quot;:0.66254,&quot;y&quot;:-0.012381,&quot;z&quot;:-0.327143}], &quot;faces&quot;:[[0,1,2],[0,3,1],[0,4,3],[0,5,4],[0,2,5],[2,1,6],[1,3,6],[3,4,6],[4,5,6],[5,2,6]], &quot;color&quot;:&quot;#0000ff&quot;, &quot;opacity&quot;:1},{&quot;vertices&quot;:[{&quot;x&quot;:0.666667,&quot;y&quot;:-0.000512821,&quot;z&quot;:0.000213675},{&quot;x&quot;:0.685688,&quot;y&quot;:0.00186423,&quot;z&quot;:0.0059186},{&quot;x&quot;:0.666667,&quot;y&quot;:0.00717949,&quot;z&quot;:0.0186752},{&quot;x&quot;:0.678422,&quot;y&quot;:-0.00673603,&quot;z&quot;:-0.014722},{&quot;x&quot;:0.654911,&quot;y&quot;:-0.00673603,&quot;z&quot;:-0.014722},{&quot;x&quot;:0.647646,&quot;y&quot;:0.00186423,&quot;z&quot;:0.0059186},{&quot;x&quot;:0.685688,&quot;y&quot;:0.00237705,&quot;z&quot;:0.00570493},{&quot;x&quot;:0.666667,&quot;y&quot;:0.00769231,&quot;z&quot;:0.0184615},{&quot;x&quot;:0.678422,&quot;y&quot;:-0.00622321,&quot;z&quot;:-0.0149357},{&quot;x&quot;:0.654911,&quot;y&quot;:-0.00622321,&quot;z&quot;:-0.0149357},{&quot;x&quot;:0.647646,&quot;y&quot;:0.00237705,&quot;z&quot;:0.00570493},{&quot;x&quot;:0.666667,&quot;y&quot;:0,&quot;z&quot;:0}], &quot;faces&quot;:[[0,1,2],[0,3,1],[0,4,3],[0,5,4],[0,2,5],[2,1,6,7],[1,3,8,6],[3,4,9,8],[4,5,10,9],[5,2,7,10],[7,6,11],[6,8,11],[8,9,11],[9,10,11],[10,7,11]], &quot;color&quot;:&quot;#0000ff&quot;, &quot;opacity&quot;:1},{&quot;vertices&quot;:[{&quot;x&quot;:0.666667,&quot;y&quot;:-0.166667,&quot;z&quot;:0.0694444},{&quot;x&quot;:0.72373,&quot;y&quot;:0.00661834,&quot;z&quot;:0.0173285},{&quot;x&quot;:0.666667,&quot;y&quot;:0.0225641,&quot;z&quot;:0.0555983},{&quot;x&quot;:0.701934,&quot;y&quot;:-0.0191824,&quot;z&quot;:-0.0445934},{&quot;x&quot;:0.6314,&quot;y&quot;:-0.0191824,&quot;z&quot;:-0.0445934},{&quot;x&quot;:0.609603,&quot;y&quot;:0.00661834,&quot;z&quot;:0.0173285},{&quot;x&quot;:0.666667,&quot;y&quot;:-0.000512821,&quot;z&quot;:0.000213675}], &quot;faces&quot;:[[0,1,2],[0,3,1],[0,4,3],[0,5,4],[0,2,5],[2,1,6],[1,3,6],[3,4,6],[4,5,6],[5,2,6]], &quot;color&quot;:&quot;#0000ff&quot;, &quot;opacity&quot;:1},{&quot;vertices&quot;:[{&quot;x&quot;:0.670794,&quot;y&quot;:-0.012381,&quot;z&quot;:0.339524},{&quot;x&quot;:0.689787,&quot;y&quot;:-0.00611831,&quot;z&quot;:0.339387},{&quot;x&quot;:0.674222,&quot;y&quot;:-0.00266667,&quot;z&quot;:0.356667},{&quot;x&quot;:0.679104,&quot;y&quot;:-0.0182247,&quot;z&quot;:0.322296},{&quot;x&quot;:0.656936,&quot;y&quot;:-0.0222552,&quot;z&quot;:0.329014},{&quot;x&quot;:0.653919,&quot;y&quot;:-0.0126398,&quot;z&quot;:0.350256},{&quot;x&quot;:0.68566,&quot;y&quot;:0.00626264,&quot;z&quot;:0.333196},{&quot;x&quot;:0.670095,&quot;y&quot;:0.00971429,&quot;z&quot;:0.350476},{&quot;x&quot;:0.674977,&quot;y&quot;:-0.00584376,&quot;z&quot;:0.316106},{&quot;x&quot;:0.652809,&quot;y&quot;:-0.00987429,&quot;z&quot;:0.322823},{&quot;x&quot;:0.649792,&quot;y&quot;:-0.000258886,&quot;z&quot;:0.344065},{&quot;x&quot;:0.666667,&quot;y&quot;:0,&quot;z&quot;:0.333333}], &quot;faces&quot;:[[0,1,2],[0,3,1],[0,4,3],[0,5,4],[0,2,5],[2,1,6,7],[1,3,8,6],[3,4,9,8],[4,5,10,9],[5,2,7,10],[7,6,11],[6,8,11],[8,9,11],[9,10,11],[10,7,11]], &quot;color&quot;:&quot;#0000ff&quot;, &quot;opacity&quot;:1},{&quot;vertices&quot;:[{&quot;x&quot;:0.722222,&quot;y&quot;:-0.166667,&quot;z&quot;:0.416667},{&quot;x&quot;:0.727775,&quot;y&quot;:0.00640698,&quot;z&quot;:0.339112},{&quot;x&quot;:0.681079,&quot;y&quot;:0.0167619,&quot;z&quot;:0.390952},{&quot;x&quot;:0.695724,&quot;y&quot;:-0.0299122,&quot;z&quot;:0.287841},{&quot;x&quot;:0.62922,&quot;y&quot;:-0.0420038,&quot;z&quot;:0.307994},{&quot;x&quot;:0.620169,&quot;y&quot;:-0.0131576,&quot;z&quot;:0.37172},{&quot;x&quot;:0.670794,&quot;y&quot;:-0.012381,&quot;z&quot;:0.339524}], &quot;faces&quot;:[[0,1,2],[0,3,1],[0,4,3],[0,5,4],[0,2,5],[2,1,6],[1,3,6],[3,4,6],[4,5,6],[5,2,6]], &quot;color&quot;:&quot;#0000ff&quot;, &quot;opacity&quot;:1},{&quot;vertices&quot;:[{&quot;x&quot;:0.693072,&quot;y&quot;:-0.0396078,&quot;z&quot;:0.696373},{&quot;x&quot;:0.710681,&quot;y&quot;:-0.0313097,&quot;z&quot;:0.691784},{&quot;x&quot;:0.697416,&quot;y&quot;:-0.0261237,&quot;z&quot;:0.71049},{&quot;x&quot;:0.699611,&quot;y&quot;:-0.0479635,&quot;z&quot;:0.679419},{&quot;x&quot;:0.679504,&quot;y&quot;:-0.05307,&quot;z&quot;:0.690483},{&quot;x&quot;:0.678147,&quot;y&quot;:-0.0395723,&quot;z&quot;:0.709686},{&quot;x&quot;:0.684276,&quot;y&quot;:0.00829812,&quot;z&quot;:0.662078},{&quot;x&quot;:0.671011,&quot;y&quot;:0.0134842,&quot;z&quot;:0.680784},{&quot;x&quot;:0.673206,&quot;y&quot;:-0.00835564,&quot;z&quot;:0.649713},{&quot;x&quot;:0.653099,&quot;y&quot;:-0.0134622,&quot;z&quot;:0.660777},{&quot;x&quot;:0.651742,&quot;y&quot;:3.55493e-05,&quot;z&quot;:0.67998},{&quot;x&quot;:0.666667,&quot;y&quot;:0,&quot;z&quot;:0.666667}], &quot;faces&quot;:[[0,1,2],[0,3,1],[0,4,3],[0,5,4],[0,2,5],[2,1,6,7],[1,3,8,6],[3,4,9,8],[4,5,10,9],[5,2,7,10],[7,6,11],[6,8,11],[8,9,11],[9,10,11],[10,7,11]], &quot;color&quot;:&quot;#0000ff&quot;, &quot;opacity&quot;:1},{&quot;vertices&quot;:[{&quot;x&quot;:0.777778,&quot;y&quot;:-0.166667,&quot;z&quot;:0.791667},{&quot;x&quot;:0.7459,&quot;y&quot;:-0.0147135,&quot;z&quot;:0.682607},{&quot;x&quot;:0.706104,&quot;y&quot;:0.000844646,&quot;z&quot;:0.738725},{&quot;x&quot;:0.71269,&quot;y&quot;:-0.0646748,&quot;z&quot;:0.645512},{&quot;x&quot;:0.652368,&quot;y&quot;:-0.0799944,&quot;z&quot;:0.678705},{&quot;x&quot;:0.648298,&quot;y&quot;:-0.0395012,&quot;z&quot;:0.736314},{&quot;x&quot;:0.693072,&quot;y&quot;:-0.0396078,&quot;z&quot;:0.696373}], &quot;faces&quot;:[[0,1,2],[0,3,1],[0,4,3],[0,5,4],[0,2,5],[2,1,6],[1,3,6],[3,4,6],[4,5,6],[5,2,6]], &quot;color&quot;:&quot;#0000ff&quot;, &quot;opacity&quot;:1},{&quot;vertices&quot;:[{&quot;x&quot;:0.735152,&quot;y&quot;:-0.0684848,&quot;z&quot;:1.0799},{&quot;x&quot;:0.751838,&quot;y&quot;:-0.0599698,&quot;z&quot;:1.07289},{&quot;x&quot;:0.738788,&quot;y&quot;:-0.0521212,&quot;z&quot;:1.09081},{&quot;x&quot;:0.741828,&quot;y&quot;:-0.0795859,&quot;z&quot;:1.06466},{&quot;x&quot;:0.722591,&quot;y&quot;:-0.0838607,&quot;z&quot;:1.07749},{&quot;x&quot;:0.720712,&quot;y&quot;:-0.0668866,&quot;z&quot;:1.09365},{&quot;x&quot;:0.683353,&quot;y&quot;:0.00851503,&quot;z&quot;:0.992996},{&quot;x&quot;:0.670303,&quot;y&quot;:0.0163636,&quot;z&quot;:1.01091},{&quot;x&quot;:0.673343,&quot;y&quot;:-0.0111011,&quot;z&quot;:0.984762},{&quot;x&quot;:0.654106,&quot;y&quot;:-0.0153759,&quot;z&quot;:0.997587},{&quot;x&quot;:0.652228,&quot;y&quot;:0.00159825,&quot;z&quot;:1.01375},{&quot;x&quot;:0.666667,&quot;y&quot;:0,&quot;z&quot;:1}], &quot;faces&quot;:[[0,1,2],[0,3,1],[0,4,3],[0,5,4],[0,2,5],[2,1,6,7],[1,3,8,6],[3,4,9,8],[4,5,10,9],[5,2,7,10],[7,6,11],[6,8,11],[8,9,11],[9,10,11],[10,7,11]], &quot;color&quot;:&quot;#0000ff&quot;, &quot;opacity&quot;:1},{&quot;vertices&quot;:[{&quot;x&quot;:0.833333,&quot;y&quot;:-0.166667,&quot;z&quot;:1.19444},{&quot;x&quot;:0.785211,&quot;y&quot;:-0.0429398,&quot;z&quot;:1.05889},{&quot;x&quot;:0.746061,&quot;y&quot;:-0.0193939,&quot;z&quot;:1.11263},{&quot;x&quot;:0.755181,&quot;y&quot;:-0.101788,&quot;z&quot;:1.03419},{&quot;x&quot;:0.697471,&quot;y&quot;:-0.114612,&quot;z&quot;:1.07266},{&quot;x&quot;:0.691834,&quot;y&quot;:-0.0636901,&quot;z&quot;:1.12114},{&quot;x&quot;:0.735152,&quot;y&quot;:-0.0684848,&quot;z&quot;:1.0799}], &quot;faces&quot;:[[0,1,2],[0,3,1],[0,4,3],[0,5,4],[0,2,5],[2,1,6],[1,3,6],[3,4,6],[4,5,6],[5,2,6]], &quot;color&quot;:&quot;#0000ff&quot;, &quot;opacity&quot;:1},{&quot;vertices&quot;:[{&quot;x&quot;:0.63029,&quot;y&quot;:0.224203,&quot;z&quot;:-0.921184},{&quot;x&quot;:0.647678,&quot;y&quot;:0.225484,&quot;z&quot;:-0.911385},{&quot;x&quot;:0.627681,&quot;y&quot;:0.236377,&quot;z&quot;:-0.905531},{&quot;x&quot;:0.643645,&quot;y&quot;:0.212821,&quot;z&quot;:-0.93078},{&quot;x&quot;:0.621156,&quot;y&quot;:0.215887,&quot;z&quot;:-0.936913},{&quot;x&quot;:0.61129,&quot;y&quot;:0.230446,&quot;z&quot;:-0.921309},{&quot;x&quot;:0.684055,&quot;y&quot;:0.334614,&quot;z&quot;:-0.990201},{&quot;x&quot;:0.664058,&quot;y&quot;:0.345507,&quot;z&quot;:-0.984348},{&quot;x&quot;:0.680022,&quot;y&quot;:0.321951,&quot;z&quot;:-1.0096},{&quot;x&quot;:0.657533,&quot;y&quot;:0.325018,&quot;z&quot;:-1.01573},{&quot;x&quot;:0.647666,&quot;y&quot;:0.339576,&quot;z&quot;:-1.00013},{&quot;x&quot;:0.666667,&quot;y&quot;:0.333333,&quot;z&quot;:-1}], &quot;faces&quot;:[[0,1,2],[0,3,1],[0,4,3],[0,5,4],[0,2,5],[2,1,6,7],[1,3,8,6],[3,4,9,8],[4,5,10,9],[5,2,7,10],[7,6,11],[6,8,11],[8,9,11],[9,10,11],[10,7,11]], &quot;color&quot;:&quot;#0000ff&quot;, &quot;opacity&quot;:1},{&quot;vertices&quot;:[{&quot;x&quot;:0.583333,&quot;y&quot;:0.0833333,&quot;z&quot;:-0.819444},{&quot;x&quot;:0.682454,&quot;y&quot;:0.228046,&quot;z&quot;:-0.891787},{&quot;x&quot;:0.622464,&quot;y&quot;:0.260725,&quot;z&quot;:-0.874227},{&quot;x&quot;:0.670355,&quot;y&quot;:0.190056,&quot;z&quot;:-0.949972},{&quot;x&quot;:0.602888,&quot;y&quot;:0.199256,&quot;z&quot;:-0.968372},{&quot;x&quot;:0.573289,&quot;y&quot;:0.242932,&quot;z&quot;:-0.921559},{&quot;x&quot;:0.63029,&quot;y&quot;:0.224203,&quot;z&quot;:-0.921184}], &quot;faces&quot;:[[0,1,2],[0,3,1],[0,4,3],[0,5,4],[0,2,5],[2,1,6],[1,3,6],[3,4,6],[4,5,6],[5,2,6]], &quot;color&quot;:&quot;#0000ff&quot;, &quot;opacity&quot;:1},{&quot;vertices&quot;:[{&quot;x&quot;:0.658889,&quot;y&quot;:0.271111,&quot;z&quot;:-0.635556},{&quot;x&quot;:0.677325,&quot;y&quot;:0.27261,&quot;z&quot;:-0.627948},{&quot;x&quot;:0.657521,&quot;y&quot;:0.280171,&quot;z&quot;:-0.617778},{&quot;x&quot;:0.67165,&quot;y&quot;:0.262978,&quot;z&quot;:-0.648632},{&quot;x&quot;:0.64834,&quot;y&quot;:0.264585,&quot;z&quot;:-0.651244},{&quot;x&quot;:0.639608,&quot;y&quot;:0.275211,&quot;z&quot;:-0.632175},{&quot;x&quot;:0.685103,&quot;y&quot;:0.334832,&quot;z&quot;:-0.65906},{&quot;x&quot;:0.665299,&quot;y&quot;:0.342393,&quot;z&quot;:-0.648889},{&quot;x&quot;:0.679428,&quot;y&quot;:0.3252,&quot;z&quot;:-0.679743},{&quot;x&quot;:0.656118,&quot;y&quot;:0.326808,&quot;z&quot;:-0.682355},{&quot;x&quot;:0.647386,&quot;y&quot;:0.337434,&quot;z&quot;:-0.663286},{&quot;x&quot;:0.666667,&quot;y&quot;:0.333333,&quot;z&quot;:-0.666667}], &quot;faces&quot;:[[0,1,2],[0,3,1],[0,4,3],[0,5,4],[0,2,5],[2,1,6,7],[1,3,8,6],[3,4,9,8],[4,5,10,9],[5,2,7,10],[7,6,11],[6,8,11],[8,9,11],[9,10,11],[10,7,11]], &quot;color&quot;:&quot;#0000ff&quot;, &quot;opacity&quot;:1},{&quot;vertices&quot;:[{&quot;x&quot;:0.638889,&quot;y&quot;:0.111111,&quot;z&quot;:-0.555556},{&quot;x&quot;:0.714197,&quot;y&quot;:0.275608,&quot;z&quot;:-0.612734},{&quot;x&quot;:0.654786,&quot;y&quot;:0.298291,&quot;z&quot;:-0.582222},{&quot;x&quot;:0.697174,&quot;y&quot;:0.246711,&quot;z&quot;:-0.674785},{&quot;x&quot;:0.627242,&quot;y&quot;:0.251534,&quot;z&quot;:-0.682622},{&quot;x&quot;:0.601045,&quot;y&quot;:0.283412,&quot;z&quot;:-0.625415},{&quot;x&quot;:0.658889,&quot;y&quot;:0.271111,&quot;z&quot;:-0.635556}], &quot;faces&quot;:[[0,1,2],[0,3,1],[0,4,3],[0,5,4],[0,2,5],[2,1,6],[1,3,6],[3,4,6],[4,5,6],[5,2,6]], &quot;color&quot;:&quot;#0000ff&quot;, &quot;opacity&quot;:1},{&quot;vertices&quot;:[{&quot;x&quot;:0.670444,&quot;y&quot;:0.306889,&quot;z&quot;:-0.323889},{&quot;x&quot;:0.689789,&quot;y&quot;:0.310807,&quot;z&quot;:-0.320657},{&quot;x&quot;:0.672311,&quot;y&quot;:0.313822,&quot;z&quot;:-0.305222},{&quot;x&quot;:0.680533,&quot;y&quot;:0.302377,&quot;z&quot;:-0.340558},{&quot;x&quot;:0.657335,&quot;y&quot;:0.300183,&quot;z&quot;:-0.337423},{&quot;x&quot;:0.652254,&quot;y&quot;:0.307256,&quot;z&quot;:-0.315584},{&quot;x&quot;:0.686011,&quot;y&quot;:0.337251,&quot;z&quot;:-0.330101},{&quot;x&quot;:0.668533,&quot;y&quot;:0.340267,&quot;z&quot;:-0.314667},{&quot;x&quot;:0.676755,&quot;y&quot;:0.328821,&quot;z&quot;:-0.350002},{&quot;x&quot;:0.653558,&quot;y&quot;:0.326627,&quot;z&quot;:-0.346868},{&quot;x&quot;:0.648476,&quot;y&quot;:0.333701,&quot;z&quot;:-0.325029},{&quot;x&quot;:0.666667,&quot;y&quot;:0.333333,&quot;z&quot;:-0.333333}], &quot;faces&quot;:[[0,1,2],[0,3,1],[0,4,3],[0,5,4],[0,2,5],[2,1,6,7],[1,3,8,6],[3,4,9,8],[4,5,10,9],[5,2,7,10],[7,6,11],[6,8,11],[8,9,11],[9,10,11],[10,7,11]], &quot;color&quot;:&quot;#0000ff&quot;, &quot;opacity&quot;:1},{&quot;vertices&quot;:[{&quot;x&quot;:0.694444,&quot;y&quot;:0.138889,&quot;z&quot;:-0.263889},{&quot;x&quot;:0.728477,&quot;y&quot;:0.318642,&quot;z&quot;:-0.314192},{&quot;x&quot;:0.676044,&quot;y&quot;:0.327689,&quot;z&quot;:-0.267889},{&quot;x&quot;:0.700711,&quot;y&quot;:0.293353,&quot;z&quot;:-0.373896},{&quot;x&quot;:0.631117,&quot;y&quot;:0.28677,&quot;z&quot;:-0.364492},{&quot;x&quot;:0.615872,&quot;y&quot;:0.307991,&quot;z&quot;:-0.298975},{&quot;x&quot;:0.670444,&quot;y&quot;:0.306889,&quot;z&quot;:-0.323889}], &quot;faces&quot;:[[0,1,2],[0,3,1],[0,4,3],[0,5,4],[0,2,5],[2,1,6],[1,3,6],[3,4,6],[4,5,6],[5,2,6]], &quot;color&quot;:&quot;#0000ff&quot;, &quot;opacity&quot;:1},{&quot;vertices&quot;:[{&quot;x&quot;:0.672857,&quot;y&quot;:0.320952,&quot;z&quot;:0.00412698},{&quot;x&quot;:0.690927,&quot;y&quot;:0.329036,&quot;z&quot;:0.00127251},{&quot;x&quot;:0.678571,&quot;y&quot;:0.329524,&quot;z&quot;:0.0212698},{&quot;x&quot;:0.678311,&quot;y&quot;:0.317377,&quot;z&quot;:-0.01478},{&quot;x&quot;:0.658158,&quot;y&quot;:0.310659,&quot;z&quot;:-0.00470372},{&quot;x&quot;:0.658319,&quot;y&quot;:0.318166,&quot;z&quot;:0.0175763},{&quot;x&quot;:0.684736,&quot;y&quot;:0.341417,&quot;z&quot;:-0.00285448},{&quot;x&quot;:0.672381,&quot;y&quot;:0.341905,&quot;z&quot;:0.0171429},{&quot;x&quot;:0.67212,&quot;y&quot;:0.329758,&quot;z&quot;:-0.018907},{&quot;x&quot;:0.651967,&quot;y&quot;:0.32304,&quot;z&quot;:-0.0088307},{&quot;x&quot;:0.652129,&quot;y&quot;:0.330547,&quot;z&quot;:0.0134493},{&quot;x&quot;:0.666667,&quot;y&quot;:0.333333,&quot;z&quot;:0}], &quot;faces&quot;:[[0,1,2],[0,3,1],[0,4,3],[0,5,4],[0,2,5],[2,1,6,7],[1,3,8,6],[3,4,9,8],[4,5,10,9],[5,2,7,10],[7,6,11],[6,8,11],[8,9,11],[9,10,11],[10,7,11]], &quot;color&quot;:&quot;#0000ff&quot;, &quot;opacity&quot;:1},{&quot;vertices&quot;:[{&quot;x&quot;:0.75,&quot;y&quot;:0.166667,&quot;z&quot;:0.0555556},{&quot;x&quot;:0.727066,&quot;y&quot;:0.345202,&quot;z&quot;:-0.00443645},{&quot;x&quot;:0.69,&quot;y&quot;:0.346667,&quot;z&quot;:0.0555556},{&quot;x&quot;:0.689217,&quot;y&quot;:0.310225,&quot;z&quot;:-0.0525941},{&quot;x&quot;:0.628759,&quot;y&quot;:0.290073,&quot;z&quot;:-0.0223651},{&quot;x&quot;:0.629243,&quot;y&quot;:0.312595,&quot;z&quot;:0.044475},{&quot;x&quot;:0.672857,&quot;y&quot;:0.320952,&quot;z&quot;:0.00412698}], &quot;faces&quot;:[[0,1,2],[0,3,1],[0,4,3],[0,5,4],[0,2,5],[2,1,6],[1,3,6],[3,4,6],[4,5,6],[5,2,6]], &quot;color&quot;:&quot;#0000ff&quot;, &quot;opacity&quot;:1},{&quot;vertices&quot;:[{&quot;x&quot;:0.685556,&quot;y&quot;:0.314444,&quot;z&quot;:0.342778},{&quot;x&quot;:0.700296,&quot;y&quot;:0.324905,&quot;z&quot;:0.334217},{&quot;x&quot;:0.692222,&quot;y&quot;:0.327778,&quot;z&quot;:0.356111},{&quot;x&quot;:0.687999,&quot;y&quot;:0.307576,&quot;z&quot;:0.324154},{&quot;x&quot;:0.672325,&quot;y&quot;:0.299739,&quot;z&quot;:0.339828},{&quot;x&quot;:0.674935,&quot;y&quot;:0.312224,&quot;z&quot;:0.359579},{&quot;x&quot;:0.681408,&quot;y&quot;:0.343794,&quot;z&quot;:0.324773},{&quot;x&quot;:0.673333,&quot;y&quot;:0.346667,&quot;z&quot;:0.346667},{&quot;x&quot;:0.66911,&quot;y&quot;:0.326465,&quot;z&quot;:0.314709},{&quot;x&quot;:0.653436,&quot;y&quot;:0.318628,&quot;z&quot;:0.330384},{&quot;x&quot;:0.656046,&quot;y&quot;:0.331113,&quot;z&quot;:0.350134},{&quot;x&quot;:0.666667,&quot;y&quot;:0.333333,&quot;z&quot;:0.333333}], &quot;faces&quot;:[[0,1,2],[0,3,1],[0,4,3],[0,5,4],[0,2,5],[2,1,6,7],[1,3,8,6],[3,4,9,8],[4,5,10,9],[5,2,7,10],[7,6,11],[6,8,11],[8,9,11],[9,10,11],[10,7,11]], &quot;color&quot;:&quot;#0000ff&quot;, &quot;opacity&quot;:1},{&quot;vertices&quot;:[{&quot;x&quot;:0.805556,&quot;y&quot;:0.194444,&quot;z&quot;:0.402778},{&quot;x&quot;:0.729778,&quot;y&quot;:0.345826,&quot;z&quot;:0.317096},{&quot;x&quot;:0.705556,&quot;y&quot;:0.354444,&quot;z&quot;:0.382778},{&quot;x&quot;:0.692887,&quot;y&quot;:0.293839,&quot;z&quot;:0.286906},{&quot;x&quot;:0.645864,&quot;y&quot;:0.270328,&quot;z&quot;:0.333929},{&quot;x&quot;:0.653694,&quot;y&quot;:0.307784,&quot;z&quot;:0.393181},{&quot;x&quot;:0.685556,&quot;y&quot;:0.314444,&quot;z&quot;:0.342778}], &quot;faces&quot;:[[0,1,2],[0,3,1],[0,4,3],[0,5,4],[0,2,5],[2,1,6],[1,3,6],[3,4,6],[4,5,6],[5,2,6]], &quot;color&quot;:&quot;#0000ff&quot;, &quot;opacity&quot;:1},{&quot;vertices&quot;:[{&quot;x&quot;:0.721111,&quot;y&quot;:0.302222,&quot;z&quot;:0.697778},{&quot;x&quot;:0.733645,&quot;y&quot;:0.312109,&quot;z&quot;:0.68573},{&quot;x&quot;:0.725897,&quot;y&quot;:0.319487,&quot;z&quot;:0.706667},{&quot;x&quot;:0.724071,&quot;y&quot;:0.291068,&quot;z&quot;:0.681443},{&quot;x&quot;:0.710407,&quot;y&quot;:0.285441,&quot;z&quot;:0.69973},{&quot;x&quot;:0.711535,&quot;y&quot;:0.303005,&quot;z&quot;:0.715319},{&quot;x&quot;:0.679201,&quot;y&quot;:0.343221,&quot;z&quot;:0.654619},{&quot;x&quot;:0.671453,&quot;y&quot;:0.350598,&quot;z&quot;:0.675556},{&quot;x&quot;:0.669627,&quot;y&quot;:0.322179,&quot;z&quot;:0.650332},{&quot;x&quot;:0.655962,&quot;y&quot;:0.316552,&quot;z&quot;:0.668619},{&quot;x&quot;:0.657091,&quot;y&quot;:0.334116,&quot;z&quot;:0.684208},{&quot;x&quot;:0.666667,&quot;y&quot;:0.333333,&quot;z&quot;:0.666667}], &quot;faces&quot;:[[0,1,2],[0,3,1],[0,4,3],[0,5,4],[0,2,5],[2,1,6,7],[1,3,8,6],[3,4,9,8],[4,5,10,9],[5,2,7,10],[7,6,11],[6,8,11],[8,9,11],[9,10,11],[10,7,11]], &quot;color&quot;:&quot;#0000ff&quot;, &quot;opacity&quot;:1},{&quot;vertices&quot;:[{&quot;x&quot;:0.861111,&quot;y&quot;:0.222222,&quot;z&quot;:0.777778},{&quot;x&quot;:0.758713,&quot;y&quot;:0.331884,&quot;z&quot;:0.661636},{&quot;x&quot;:0.73547,&quot;y&quot;:0.354017,&quot;z&quot;:0.724444},{&quot;x&quot;:0.729992,&quot;y&quot;:0.268759,&quot;z&quot;:0.648774},{&quot;x&quot;:0.688997,&quot;y&quot;:0.251879,&quot;z&quot;:0.703634},{&quot;x&quot;:0.692383,&quot;y&quot;:0.304572,&quot;z&quot;:0.750401},{&quot;x&quot;:0.721111,&quot;y&quot;:0.302222,&quot;z&quot;:0.697778}], &quot;faces&quot;:[[0,1,2],[0,3,1],[0,4,3],[0,5,4],[0,2,5],[2,1,6],[1,3,6],[3,4,6],[4,5,6],[5,2,6]], &quot;color&quot;:&quot;#0000ff&quot;, &quot;opacity&quot;:1},{&quot;vertices&quot;:[{&quot;x&quot;:0.775797,&quot;y&quot;:0.296957,&quot;z&quot;:1.07882},{&quot;x&quot;:0.788181,&quot;y&quot;:0.305349,&quot;z&quot;:1.06554},{&quot;x&quot;:0.778406,&quot;y&quot;:0.316087,&quot;z&quot;:1.08403},{&quot;x&quot;:0.780842,&quot;y&quot;:0.283013,&quot;z&quot;:1.0654},{&quot;x&quot;:0.766531,&quot;y&quot;:0.279946,&quot;z&quot;:1.0838},{&quot;x&quot;:0.765025,&quot;y&quot;:0.300387,&quot;z&quot;:1.09531},{&quot;x&quot;:0.679051,&quot;y&quot;:0.341726,&quot;z&quot;:0.986726},{&quot;x&quot;:0.669275,&quot;y&quot;:0.352464,&quot;z&quot;:1.00522},{&quot;x&quot;:0.671712,&quot;y&quot;:0.31939,&quot;z&quot;:0.986579},{&quot;x&quot;:0.657401,&quot;y&quot;:0.316323,&quot;z&quot;:1.00498},{&quot;x&quot;:0.655895,&quot;y&quot;:0.336764,&quot;z&quot;:1.0165},{&quot;x&quot;:0.666667,&quot;y&quot;:0.333333,&quot;z&quot;:1}], &quot;faces&quot;:[[0,1,2],[0,3,1],[0,4,3],[0,5,4],[0,2,5],[2,1,6,7],[1,3,8,6],[3,4,9,8],[4,5,10,9],[5,2,7,10],[7,6,11],[6,8,11],[8,9,11],[9,10,11],[10,7,11]], &quot;color&quot;:&quot;#0000ff&quot;, &quot;opacity&quot;:1},{&quot;vertices&quot;:[{&quot;x&quot;:0.916667,&quot;y&quot;:0.25,&quot;z&quot;:1.18056},{&quot;x&quot;:0.81295,&quot;y&quot;:0.322134,&quot;z&quot;:1.03899},{&quot;x&quot;:0.783623,&quot;y&quot;:0.354348,&quot;z&quot;:1.09447},{&quot;x&quot;:0.790933,&quot;y&quot;:0.255126,&quot;z&quot;:1.03855},{&quot;x&quot;:0.747999,&quot;y&quot;:0.245926,&quot;z&quot;:1.09375},{&quot;x&quot;:0.743481,&quot;y&quot;:0.307248,&quot;z&quot;:1.12831},{&quot;x&quot;:0.775797,&quot;y&quot;:0.296957,&quot;z&quot;:1.07882}], &quot;faces&quot;:[[0,1,2],[0,3,1],[0,4,3],[0,5,4],[0,2,5],[2,1,6],[1,3,6],[3,4,6],[4,5,6],[5,2,6]], &quot;color&quot;:&quot;#0000ff&quot;, &quot;opacity&quot;:1},{&quot;vertices&quot;:[{&quot;x&quot;:0.666667,&quot;y&quot;:0.499487,&quot;z&quot;:-0.930342},{&quot;x&quot;:0.685688,&quot;y&quot;:0.501864,&quot;z&quot;:-0.924637},{&quot;x&quot;:0.666667,&quot;y&quot;:0.507179,&quot;z&quot;:-0.91188},{&quot;x&quot;:0.678422,&quot;y&quot;:0.493264,&quot;z&quot;:-0.945278},{&quot;x&quot;:0.654911,&quot;y&quot;:0.493264,&quot;z&quot;:-0.945278},{&quot;x&quot;:0.647646,&quot;y&quot;:0.501864,&quot;z&quot;:-0.924637},{&quot;x&quot;:0.685688,&quot;y&quot;:0.669044,&quot;z&quot;:-0.994295},{&quot;x&quot;:0.666667,&quot;y&quot;:0.674359,&quot;z&quot;:-0.981538},{&quot;x&quot;:0.678422,&quot;y&quot;:0.660443,&quot;z&quot;:-1.01494},{&quot;x&quot;:0.654911,&quot;y&quot;:0.660443,&quot;z&quot;:-1.01494},{&quot;x&quot;:0.647646,&quot;y&quot;:0.669044,&quot;z&quot;:-0.994295},{&quot;x&quot;:0.666667,&quot;y&quot;:0.666667,&quot;z&quot;:-1}], &quot;faces&quot;:[[0,1,2],[0,3,1],[0,4,3],[0,5,4],[0,2,5],[2,1,6,7],[1,3,8,6],[3,4,9,8],[4,5,10,9],[5,2,7,10],[7,6,11],[6,8,11],[8,9,11],[9,10,11],[10,7,11]], &quot;color&quot;:&quot;#0000ff&quot;, &quot;opacity&quot;:1},{&quot;vertices&quot;:[{&quot;x&quot;:0.666667,&quot;y&quot;:0.333333,&quot;z&quot;:-0.861111},{&quot;x&quot;:0.72373,&quot;y&quot;:0.506618,&quot;z&quot;:-0.913227},{&quot;x&quot;:0.666667,&quot;y&quot;:0.522564,&quot;z&quot;:-0.874957},{&quot;x&quot;:0.701934,&quot;y&quot;:0.480818,&quot;z&quot;:-0.975149},{&quot;x&quot;:0.6314,&quot;y&quot;:0.480818,&quot;z&quot;:-0.975149},{&quot;x&quot;:0.609603,&quot;y&quot;:0.506618,&quot;z&quot;:-0.913227},{&quot;x&quot;:0.666667,&quot;y&quot;:0.499487,&quot;z&quot;:-0.930342}], &quot;faces&quot;:[[0,1,2],[0,3,1],[0,4,3],[0,5,4],[0,2,5],[2,1,6],[1,3,6],[3,4,6],[4,5,6],[5,2,6]], &quot;color&quot;:&quot;#0000ff&quot;, &quot;opacity&quot;:1},{&quot;vertices&quot;:[{&quot;x&quot;:0.687937,&quot;y&quot;:0.560317,&quot;z&quot;:-0.640079},{&quot;x&quot;:0.707306,&quot;y&quot;:0.564757,&quot;z&quot;:-0.637816},{&quot;x&quot;:0.690867,&quot;y&quot;:0.565665,&quot;z&quot;:-0.621032},{&quot;x&quot;:0.696977,&quot;y&quot;:0.557713,&quot;z&quot;:-0.657728},{&quot;x&quot;:0.674155,&quot;y&quot;:0.554268,&quot;z&quot;:-0.65325},{&quot;x&quot;:0.670378,&quot;y&quot;:0.559183,&quot;z&quot;:-0.63057},{&quot;x&quot;:0.686036,&quot;y&quot;:0.671106,&quot;z&quot;:-0.664404},{&quot;x&quot;:0.669597,&quot;y&quot;:0.672015,&quot;z&quot;:-0.647619},{&quot;x&quot;:0.675707,&quot;y&quot;:0.664063,&quot;z&quot;:-0.684316},{&quot;x&quot;:0.652885,&quot;y&quot;:0.660618,&quot;z&quot;:-0.679837},{&quot;x&quot;:0.649108,&quot;y&quot;:0.665532,&quot;z&quot;:-0.657158},{&quot;x&quot;:0.666667,&quot;y&quot;:0.666667,&quot;z&quot;:-0.666667}], &quot;faces&quot;:[[0,1,2],[0,3,1],[0,4,3],[0,5,4],[0,2,5],[2,1,6,7],[1,3,8,6],[3,4,9,8],[4,5,10,9],[5,2,7,10],[7,6,11],[6,8,11],[8,9,11],[9,10,11],[10,7,11]], &quot;color&quot;:&quot;#0000ff&quot;, &quot;opacity&quot;:1},{&quot;vertices&quot;:[{&quot;x&quot;:0.722222,&quot;y&quot;:0.388889,&quot;z&quot;:-0.597222},{&quot;x&quot;:0.746044,&quot;y&quot;:0.573636,&quot;z&quot;:-0.63329},{&quot;x&quot;:0.696728,&quot;y&quot;:0.576361,&quot;z&quot;:-0.582937},{&quot;x&quot;:0.715058,&quot;y&quot;:0.552505,&quot;z&quot;:-0.693026},{&quot;x&quot;:0.646591,&quot;y&quot;:0.54217,&quot;z&quot;:-0.679591},{&quot;x&quot;:0.635262,&quot;y&quot;:0.556914,&quot;z&quot;:-0.611552},{&quot;x&quot;:0.687937,&quot;y&quot;:0.560317,&quot;z&quot;:-0.640079}], &quot;faces&quot;:[[0,1,2],[0,3,1],[0,4,3],[0,5,4],[0,2,5],[2,1,6],[1,3,6],[3,4,6],[4,5,6],[5,2,6]], &quot;color&quot;:&quot;#0000ff&quot;, &quot;opacity&quot;:1},{&quot;vertices&quot;:[{&quot;x&quot;:0.697778,&quot;y&quot;:0.604444,&quot;z&quot;:-0.325556},{&quot;x&quot;:0.715615,&quot;y&quot;:0.612993,&quot;z&quot;:-0.328516},{&quot;x&quot;:0.704889,&quot;y&quot;:0.610222,&quot;z&quot;:-0.307778},{&quot;x&quot;:0.701691,&quot;y&quot;:0.60395,&quot;z&quot;:-0.345163},{&quot;x&quot;:0.682359,&quot;y&quot;:0.59559,&quot;z&quot;:-0.334713},{&quot;x&quot;:0.684336,&quot;y&quot;:0.599467,&quot;z&quot;:-0.311608},{&quot;x&quot;:0.684504,&quot;y&quot;:0.675215,&quot;z&quot;:-0.336294},{&quot;x&quot;:0.673778,&quot;y&quot;:0.672444,&quot;z&quot;:-0.315556},{&quot;x&quot;:0.670579,&quot;y&quot;:0.666172,&quot;z&quot;:-0.352941},{&quot;x&quot;:0.651248,&quot;y&quot;:0.657813,&quot;z&quot;:-0.342491},{&quot;x&quot;:0.653225,&quot;y&quot;:0.661689,&quot;z&quot;:-0.319386},{&quot;x&quot;:0.666667,&quot;y&quot;:0.666667,&quot;z&quot;:-0.333333}], &quot;faces&quot;:[[0,1,2],[0,3,1],[0,4,3],[0,5,4],[0,2,5],[2,1,6,7],[1,3,8,6],[3,4,9,8],[4,5,10,9],[5,2,7,10],[7,6,11],[6,8,11],[8,9,11],[9,10,11],[10,7,11]], &quot;color&quot;:&quot;#0000ff&quot;, &quot;opacity&quot;:1},{&quot;vertices&quot;:[{&quot;x&quot;:0.777778,&quot;y&quot;:0.444444,&quot;z&quot;:-0.305556},{&quot;x&quot;:0.751289,&quot;y&quot;:0.63009,&quot;z&quot;:-0.334436},{&quot;x&quot;:0.719111,&quot;y&quot;:0.621778,&quot;z&quot;:-0.272222},{&quot;x&quot;:0.709516,&quot;y&quot;:0.602961,&quot;z&quot;:-0.384377},{&quot;x&quot;:0.651521,&quot;y&quot;:0.577882,&quot;z&quot;:-0.353029},{&quot;x&quot;:0.657451,&quot;y&quot;:0.589512,&quot;z&quot;:-0.283713},{&quot;x&quot;:0.697778,&quot;y&quot;:0.604444,&quot;z&quot;:-0.325556}], &quot;faces&quot;:[[0,1,2],[0,3,1],[0,4,3],[0,5,4],[0,2,5],[2,1,6],[1,3,6],[3,4,6],[4,5,6],[5,2,6]], &quot;color&quot;:&quot;#0000ff&quot;, &quot;opacity&quot;:1},{&quot;vertices&quot;:[{&quot;x&quot;:0.706275,&quot;y&quot;:0.627059,&quot;z&quot;:0.00330065},{&quot;x&quot;:0.719253,&quot;y&quot;:0.639282,&quot;z&quot;:-0.00576343},{&quot;x&quot;:0.715686,&quot;y&quot;:0.637647,&quot;z&quot;:0.0174183},{&quot;x&quot;:0.704884,&quot;y&quot;:0.624025,&quot;z&quot;:-0.0164189},{&quot;x&quot;:0.692437,&quot;y&quot;:0.612961,&quot;z&quot;:0.000177382},{&quot;x&quot;:0.699113,&quot;y&quot;:0.62138,&quot;z&quot;:0.0210899},{&quot;x&quot;:0.679645,&quot;y&quot;:0.67889,&quot;z&quot;:-0.00906409},{&quot;x&quot;:0.676078,&quot;y&quot;:0.677255,&quot;z&quot;:0.0141176},{&quot;x&quot;:0.665276,&quot;y&quot;:0.663633,&quot;z&quot;:-0.0197196},{&quot;x&quot;:0.652829,&quot;y&quot;:0.652569,&quot;z&quot;:-0.00312327},{&quot;x&quot;:0.659505,&quot;y&quot;:0.660987,&quot;z&quot;:0.0177893},{&quot;x&quot;:0.666667,&quot;y&quot;:0.666667,&quot;z&quot;:0}], &quot;faces&quot;:[[0,1,2],[0,3,1],[0,4,3],[0,5,4],[0,2,5],[2,1,6,7],[1,3,8,6],[3,4,9,8],[4,5,10,9],[5,2,7,10],[7,6,11],[6,8,11],[8,9,11],[9,10,11],[10,7,11]], &quot;color&quot;:&quot;#0000ff&quot;, &quot;opacity&quot;:1},{&quot;vertices&quot;:[{&quot;x&quot;:0.833333,&quot;y&quot;:0.5,&quot;z&quot;:0.0138889},{&quot;x&quot;:0.74521,&quot;y&quot;:0.663728,&quot;z&quot;:-0.0238916},{&quot;x&quot;:0.73451,&quot;y&quot;:0.658824,&quot;z&quot;:0.0456536},{&quot;x&quot;:0.702103,&quot;y&quot;:0.617957,&quot;z&quot;:-0.055858},{&quot;x&quot;:0.664761,&quot;y&quot;:0.584764,&quot;z&quot;:-0.00606916},{&quot;x&quot;:0.68479,&quot;y&quot;:0.610021,&quot;z&quot;:0.0566685},{&quot;x&quot;:0.706275,&quot;y&quot;:0.627059,&quot;z&quot;:0.00330065}], &quot;faces&quot;:[[0,1,2],[0,3,1],[0,4,3],[0,5,4],[0,2,5],[2,1,6],[1,3,6],[3,4,6],[4,5,6],[5,2,6]], &quot;color&quot;:&quot;#0000ff&quot;, &quot;opacity&quot;:1},{&quot;vertices&quot;:[{&quot;x&quot;:0.728889,&quot;y&quot;:0.635556,&quot;z&quot;:0.341111},{&quot;x&quot;:0.736581,&quot;y&quot;:0.6474,&quot;z&quot;:0.32695},{&quot;x&quot;:0.736,&quot;y&quot;:0.652,&quot;z&quot;:0.35},{&quot;x&quot;:0.726532,&quot;y&quot;:0.626432,&quot;z&quot;:0.32347},{&quot;x&quot;:0.71974,&quot;y&quot;:0.618072,&quot;z&quot;:0.344369},{&quot;x&quot;:0.725591,&quot;y&quot;:0.633874,&quot;z&quot;:0.360766},{&quot;x&quot;:0.674359,&quot;y&quot;:0.678511,&quot;z&quot;:0.319172},{&quot;x&quot;:0.673778,&quot;y&quot;:0.683111,&quot;z&quot;:0.342222},{&quot;x&quot;:0.66431,&quot;y&quot;:0.657543,&quot;z&quot;:0.315693},{&quot;x&quot;:0.657518,&quot;y&quot;:0.649183,&quot;z&quot;:0.336592},{&quot;x&quot;:0.663369,&quot;y&quot;:0.664985,&quot;z&quot;:0.352988},{&quot;x&quot;:0.666667,&quot;y&quot;:0.666667,&quot;z&quot;:0.333333}], &quot;faces&quot;:[[0,1,2],[0,3,1],[0,4,3],[0,5,4],[0,2,5],[2,1,6,7],[1,3,8,6],[3,4,9,8],[4,5,10,9],[5,2,7,10],[7,6,11],[6,8,11],[8,9,11],[9,10,11],[10,7,11]], &quot;color&quot;:&quot;#0000ff&quot;, &quot;opacity&quot;:1},{&quot;vertices&quot;:[{&quot;x&quot;:0.888889,&quot;y&quot;:0.555556,&quot;z&quot;:0.361111},{&quot;x&quot;:0.751966,&quot;y&quot;:0.67109,&quot;z&quot;:0.298629},{&quot;x&quot;:0.750222,&quot;y&quot;:0.684889,&quot;z&quot;:0.367778},{&quot;x&quot;:0.721818,&quot;y&quot;:0.608183,&quot;z&quot;:0.288189},{&quot;x&quot;:0.701442,&quot;y&quot;:0.583105,&quot;z&quot;:0.350886},{&quot;x&quot;:0.718996,&quot;y&quot;:0.630511,&quot;z&quot;:0.400075},{&quot;x&quot;:0.728889,&quot;y&quot;:0.635556,&quot;z&quot;:0.341111}], &quot;faces&quot;:[[0,1,2],[0,3,1],[0,4,3],[0,5,4],[0,2,5],[2,1,6],[1,3,6],[3,4,6],[4,5,6],[5,2,6]], &quot;color&quot;:&quot;#0000ff&quot;, &quot;opacity&quot;:1},{&quot;vertices&quot;:[{&quot;x&quot;:0.773016,&quot;y&quot;:0.645397,&quot;z&quot;:0.693254},{&quot;x&quot;:0.779008,&quot;y&quot;:0.654183,&quot;z&quot;:0.676316},{&quot;x&quot;:0.775946,&quot;y&quot;:0.664811,&quot;z&quot;:0.697063},{&quot;x&quot;:0.773789,&quot;y&quot;:0.631413,&quot;z&quot;:0.678976},{&quot;x&quot;:0.767502,&quot;y&quot;:0.627968,&quot;z&quot;:0.701368},{&quot;x&quot;:0.768835,&quot;y&quot;:0.648609,&quot;z&quot;:0.712547},{&quot;x&quot;:0.672658,&quot;y&quot;:0.675453,&quot;z&quot;:0.649729},{&quot;x&quot;:0.669597,&quot;y&quot;:0.686081,&quot;z&quot;:0.670476},{&quot;x&quot;:0.667439,&quot;y&quot;:0.652683,&quot;z&quot;:0.652389},{&quot;x&quot;:0.661152,&quot;y&quot;:0.649238,&quot;z&quot;:0.674781},{&quot;x&quot;:0.662486,&quot;y&quot;:0.669879,&quot;z&quot;:0.685959},{&quot;x&quot;:0.666667,&quot;y&quot;:0.666667,&quot;z&quot;:0.666667}], &quot;faces&quot;:[[0,1,2],[0,3,1],[0,4,3],[0,5,4],[0,2,5],[2,1,6,7],[1,3,8,6],[3,4,9,8],[4,5,10,9],[5,2,7,10],[7,6,11],[6,8,11],[8,9,11],[9,10,11],[10,7,11]], &quot;color&quot;:&quot;#0000ff&quot;, &quot;opacity&quot;:1},{&quot;vertices&quot;:[{&quot;x&quot;:0.944444,&quot;y&quot;:0.611111,&quot;z&quot;:0.736111},{&quot;x&quot;:0.790991,&quot;y&quot;:0.671755,&quot;z&quot;:0.64244},{&quot;x&quot;:0.781807,&quot;y&quot;:0.703639,&quot;z&quot;:0.704683},{&quot;x&quot;:0.775334,&quot;y&quot;:0.603446,&quot;z&quot;:0.65042},{&quot;x&quot;:0.756473,&quot;y&quot;:0.593111,&quot;z&quot;:0.717596},{&quot;x&quot;:0.760474,&quot;y&quot;:0.655034,&quot;z&quot;:0.751132},{&quot;x&quot;:0.773016,&quot;y&quot;:0.645397,&quot;z&quot;:0.693254}], &quot;faces&quot;:[[0,1,2],[0,3,1],[0,4,3],[0,5,4],[0,2,5],[2,1,6],[1,3,6],[3,4,6],[4,5,6],[5,2,6]], &quot;color&quot;:&quot;#0000ff&quot;, &quot;opacity&quot;:1},{&quot;vertices&quot;:[{&quot;x&quot;:0.833846,&quot;y&quot;:0.666667,&quot;z&quot;:1.06966},{&quot;x&quot;:0.841162,&quot;y&quot;:0.672847,&quot;z&quot;:1.0521},{&quot;x&quot;:0.833846,&quot;y&quot;:0.686667,&quot;z&quot;:1.06966},{&quot;x&quot;:0.838368,&quot;y&quot;:0.650486,&quot;z&quot;:1.05881},{&quot;x&quot;:0.829325,&quot;y&quot;:0.650486,&quot;z&quot;:1.08051},{&quot;x&quot;:0.82653,&quot;y&quot;:0.672847,&quot;z&quot;:1.08722},{&quot;x&quot;:0.673982,&quot;y&quot;:0.672847,&quot;z&quot;:0.982442},{&quot;x&quot;:0.666667,&quot;y&quot;:0.686667,&quot;z&quot;:1},{&quot;x&quot;:0.671188,&quot;y&quot;:0.650486,&quot;z&quot;:0.989149},{&quot;x&quot;:0.662145,&quot;y&quot;:0.650486,&quot;z&quot;:1.01085},{&quot;x&quot;:0.659351,&quot;y&quot;:0.672847,&quot;z&quot;:1.01756},{&quot;x&quot;:0.666667,&quot;y&quot;:0.666667,&quot;z&quot;:1}], &quot;faces&quot;:[[0,1,2],[0,3,1],[0,4,3],[0,5,4],[0,2,5],[2,1,6,7],[1,3,8,6],[3,4,9,8],[4,5,10,9],[5,2,7,10],[7,6,11],[6,8,11],[8,9,11],[9,10,11],[10,7,11]], &quot;color&quot;:&quot;#0000ff&quot;, &quot;opacity&quot;:1},{&quot;vertices&quot;:[{&quot;x&quot;:1,&quot;y&quot;:0.666667,&quot;z&quot;:1.13889},{&quot;x&quot;:0.855794,&quot;y&quot;:0.685208,&quot;z&quot;:1.01698},{&quot;x&quot;:0.833846,&quot;y&quot;:0.726667,&quot;z&quot;:1.06966},{&quot;x&quot;:0.84741,&quot;y&quot;:0.618126,&quot;z&quot;:1.0371},{&quot;x&quot;:0.820282,&quot;y&quot;:0.618126,&quot;z&quot;:1.10221},{&quot;x&quot;:0.811899,&quot;y&quot;:0.685208,&quot;z&quot;:1.12233},{&quot;x&quot;:0.833846,&quot;y&quot;:0.666667,&quot;z&quot;:1.06966}], &quot;faces&quot;:[[0,1,2],[0,3,1],[0,4,3],[0,5,4],[0,2,5],[2,1,6],[1,3,6],[3,4,6],[4,5,6],[5,2,6]], &quot;color&quot;:&quot;#0000ff&quot;, &quot;opacity&quot;:1},{&quot;vertices&quot;:[{&quot;x&quot;:0.715161,&quot;y&quot;:0.757527,&quot;z&quot;:-0.959588},{&quot;x&quot;:0.734566,&quot;y&quot;:0.761791,&quot;z&quot;:-0.957288},{&quot;x&quot;:0.718387,&quot;y&quot;:0.761398,&quot;z&quot;:-0.940233},{&quot;x&quot;:0.723928,&quot;y&quot;:0.756291,&quot;z&quot;:-0.977522},{&quot;x&quot;:0.701175,&quot;y&quot;:0.752499,&quot;z&quot;:-0.972971},{&quot;x&quot;:0.697751,&quot;y&quot;:0.755655,&quot;z&quot;:-0.949925},{&quot;x&quot;:0.686071,&quot;y&quot;:1.00426,&quot;z&quot;:-0.997701},{&quot;x&quot;:0.669892,&quot;y&quot;:1.00387,&quot;z&quot;:-0.980645},{&quot;x&quot;:0.675433,&quot;y&quot;:0.998764,&quot;z&quot;:-1.01793},{&quot;x&quot;:0.65268,&quot;y&quot;:0.994972,&quot;z&quot;:-1.01338},{&quot;x&quot;:0.649256,&quot;y&quot;:0.998128,&quot;z&quot;:-0.990338},{&quot;x&quot;:0.666667,&quot;y&quot;:1,&quot;z&quot;:-1}], &quot;faces&quot;:[[0,1,2],[0,3,1],[0,4,3],[0,5,4],[0,2,5],[2,1,6,7],[1,3,8,6],[3,4,9,8],[4,5,10,9],[5,2,7,10],[7,6,11],[6,8,11],[8,9,11],[9,10,11],[10,7,11]], &quot;color&quot;:&quot;#0000ff&quot;, &quot;opacity&quot;:1},{&quot;vertices&quot;:[{&quot;x&quot;:0.75,&quot;y&quot;:0.583333,&quot;z&quot;:-0.930556},{&quot;x&quot;:0.773374,&quot;y&quot;:0.770319,&quot;z&quot;:-0.952689},{&quot;x&quot;:0.724839,&quot;y&quot;:0.76914,&quot;z&quot;:-0.901523},{&quot;x&quot;:0.741462,&quot;y&quot;:0.75382,&quot;z&quot;:-1.01339},{&quot;x&quot;:0.673203,&quot;y&quot;:0.742444,&quot;z&quot;:-0.999737},{&quot;x&quot;:0.662929,&quot;y&quot;:0.751912,&quot;z&quot;:-0.9306},{&quot;x&quot;:0.715161,&quot;y&quot;:0.757527,&quot;z&quot;:-0.959588}], &quot;faces&quot;:[[0,1,2],[0,3,1],[0,4,3],[0,5,4],[0,2,5],[2,1,6],[1,3,6],[3,4,6],[4,5,6],[5,2,6]], &quot;color&quot;:&quot;#0000ff&quot;, &quot;opacity&quot;:1},{&quot;vertices&quot;:[{&quot;x&quot;:0.736325,&quot;y&quot;:0.832821,&quot;z&quot;:-0.666667},{&quot;x&quot;:0.754726,&quot;y&quot;:0.840488,&quot;z&quot;:-0.668278},{&quot;x&quot;:0.743425,&quot;y&quot;:0.835779,&quot;z&quot;:-0.648205},{&quot;x&quot;:0.740597,&quot;y&quot;:0.834601,&quot;z&quot;:-0.686124},{&quot;x&quot;:0.720564,&quot;y&quot;:0.826253,&quot;z&quot;:-0.677081},{&quot;x&quot;:0.722312,&quot;y&quot;:0.826982,&quot;z&quot;:-0.653646},{&quot;x&quot;:0.685068,&quot;y&quot;:1.00767,&quot;z&quot;:-0.668278},{&quot;x&quot;:0.673767,&quot;y&quot;:1.00296,&quot;z&quot;:-0.648205},{&quot;x&quot;:0.670939,&quot;y&quot;:1.00178,&quot;z&quot;:-0.686124},{&quot;x&quot;:0.650905,&quot;y&quot;:0.993433,&quot;z&quot;:-0.677081},{&quot;x&quot;:0.652654,&quot;y&quot;:0.994161,&quot;z&quot;:-0.653646},{&quot;x&quot;:0.666667,&quot;y&quot;:1,&quot;z&quot;:-0.666667}], &quot;faces&quot;:[[0,1,2],[0,3,1],[0,4,3],[0,5,4],[0,2,5],[2,1,6,7],[1,3,8,6],[3,4,9,8],[4,5,10,9],[5,2,7,10],[7,6,11],[6,8,11],[8,9,11],[9,10,11],[10,7,11]], &quot;color&quot;:&quot;#0000ff&quot;, &quot;opacity&quot;:1},{&quot;vertices&quot;:[{&quot;x&quot;:0.805556,&quot;y&quot;:0.666667,&quot;z&quot;:-0.666667},{&quot;x&quot;:0.791529,&quot;y&quot;:0.855822,&quot;z&quot;:-0.671499},{&quot;x&quot;:0.757627,&quot;y&quot;:0.841696,&quot;z&quot;:-0.611282},{&quot;x&quot;:0.749141,&quot;y&quot;:0.838161,&quot;z&quot;:-0.725038},{&quot;x&quot;:0.689041,&quot;y&quot;:0.813119,&quot;z&quot;:-0.697909},{&quot;x&quot;:0.694285,&quot;y&quot;:0.815304,&quot;z&quot;:-0.627604},{&quot;x&quot;:0.736325,&quot;y&quot;:0.832821,&quot;z&quot;:-0.666667}], &quot;faces&quot;:[[0,1,2],[0,3,1],[0,4,3],[0,5,4],[0,2,5],[2,1,6],[1,3,6],[3,4,6],[4,5,6],[5,2,6]], &quot;color&quot;:&quot;#0000ff&quot;, &quot;opacity&quot;:1},{&quot;vertices&quot;:[{&quot;x&quot;:0.751546,&quot;y&quot;:0.89087,&quot;z&quot;:-0.351522},{&quot;x&quot;:0.765848,&quot;y&quot;:0.903117,&quot;z&quot;:-0.358263},{&quot;x&quot;:0.762502,&quot;y&quot;:0.896783,&quot;z&quot;:-0.33587},{&quot;x&quot;:0.749429,&quot;y&quot;:0.892526,&quot;z&quot;:-0.37134},{&quot;x&quot;:0.735935,&quot;y&quot;:0.879646,&quot;z&quot;:-0.357029},{&quot;x&quot;:0.744015,&quot;y&quot;:0.882277,&quot;z&quot;:-0.335107},{&quot;x&quot;:0.680969,&quot;y&quot;:1.01225,&quot;z&quot;:-0.340075},{&quot;x&quot;:0.677623,&quot;y&quot;:1.00591,&quot;z&quot;:-0.317681},{&quot;x&quot;:0.664549,&quot;y&quot;:1.00166,&quot;z&quot;:-0.353152},{&quot;x&quot;:0.651056,&quot;y&quot;:0.988776,&quot;z&quot;:-0.338841},{&quot;x&quot;:0.659136,&quot;y&quot;:0.991407,&quot;z&quot;:-0.316918},{&quot;x&quot;:0.666667,&quot;y&quot;:1,&quot;z&quot;:-0.333333}], &quot;faces&quot;:[[0,1,2],[0,3,1],[0,4,3],[0,5,4],[0,2,5],[2,1,6,7],[1,3,8,6],[3,4,9,8],[4,5,10,9],[5,2,7,10],[7,6,11],[6,8,11],[8,9,11],[9,10,11],[10,7,11]], &quot;color&quot;:&quot;#0000ff&quot;, &quot;opacity&quot;:1},{&quot;vertices&quot;:[{&quot;x&quot;:0.861111,&quot;y&quot;:0.75,&quot;z&quot;:-0.375},{&quot;x&quot;:0.794453,&quot;y&quot;:0.927612,&quot;z&quot;:-0.371746},{&quot;x&quot;:0.784415,&quot;y&quot;:0.908609,&quot;z&quot;:-0.304565},{&quot;x&quot;:0.745194,&quot;y&quot;:0.895839,&quot;z&quot;:-0.410977},{&quot;x&quot;:0.704714,&quot;y&quot;:0.857198,&quot;z&quot;:-0.368043},{&quot;x&quot;:0.728954,&quot;y&quot;:0.86509,&quot;z&quot;:-0.302277},{&quot;x&quot;:0.751546,&quot;y&quot;:0.89087,&quot;z&quot;:-0.351522}], &quot;faces&quot;:[[0,1,2],[0,3,1],[0,4,3],[0,5,4],[0,2,5],[2,1,6],[1,3,6],[3,4,6],[4,5,6],[5,2,6]], &quot;color&quot;:&quot;#0000ff&quot;, &quot;opacity&quot;:1},{&quot;vertices&quot;:[{&quot;x&quot;:0.769394,&quot;y&quot;:0.931515,&quot;z&quot;:-0.0228283},{&quot;x&quot;:0.776223,&quot;y&quot;:0.945823,&quot;z&quot;:-0.0350199},{&quot;x&quot;:0.780303,&quot;y&quot;:0.944242,&quot;z&quot;:-0.0119192},{&quot;x&quot;:0.762706,&quot;y&quot;:0.927631,&quot;z&quot;:-0.0412722},{&quot;x&quot;:0.758431,&quot;y&quot;:0.914806,&quot;z&quot;:-0.0220356},{&quot;x&quot;:0.769307,&quot;y&quot;:0.925073,&quot;z&quot;:-0.00389445},{&quot;x&quot;:0.673496,&quot;y&quot;:1.01431,&quot;z&quot;:-0.0121916},{&quot;x&quot;:0.677576,&quot;y&quot;:1.01273,&quot;z&quot;:0.0109091},{&quot;x&quot;:0.659978,&quot;y&quot;:0.996116,&quot;z&quot;:-0.0184439},{&quot;x&quot;:0.655704,&quot;y&quot;:0.983291,&quot;z&quot;:0.000792664},{&quot;x&quot;:0.666579,&quot;y&quot;:0.993558,&quot;z&quot;:0.0189338},{&quot;x&quot;:0.666667,&quot;y&quot;:1,&quot;z&quot;:0}], &quot;faces&quot;:[[0,1,2],[0,3,1],[0,4,3],[0,5,4],[0,2,5],[2,1,6,7],[1,3,8,6],[3,4,9,8],[4,5,10,9],[5,2,7,10],[7,6,11],[6,8,11],[8,9,11],[9,10,11],[10,7,11]], &quot;color&quot;:&quot;#0000ff&quot;, &quot;opacity&quot;:1},{&quot;vertices&quot;:[{&quot;x&quot;:0.916667,&quot;y&quot;:0.833333,&quot;z&quot;:-0.0555556},{&quot;x&quot;:0.789882,&quot;y&quot;:0.974439,&quot;z&quot;:-0.0594032},{&quot;x&quot;:0.802121,&quot;y&quot;:0.969697,&quot;z&quot;:0.00989899},{&quot;x&quot;:0.749329,&quot;y&quot;:0.919862,&quot;z&quot;:-0.0781601},{&quot;x&quot;:0.736505,&quot;y&quot;:0.881389,&quot;z&quot;:-0.0204503},{&quot;x&quot;:0.769132,&quot;y&quot;:0.912188,&quot;z&quot;:0.0339732},{&quot;x&quot;:0.769394,&quot;y&quot;:0.931515,&quot;z&quot;:-0.0228283}], &quot;faces&quot;:[[0,1,2],[0,3,1],[0,4,3],[0,5,4],[0,2,5],[2,1,6],[1,3,6],[3,4,6],[4,5,6],[5,2,6]], &quot;color&quot;:&quot;#0000ff&quot;, &quot;opacity&quot;:1},{&quot;vertices&quot;:[{&quot;x&quot;:0.800048,&quot;y&quot;:0.963623,&quot;z&quot;:0.315145},{&quot;x&quot;:0.800829,&quot;y&quot;:0.974778,&quot;z&quot;:0.298563},{&quot;x&quot;:0.805787,&quot;y&quot;:0.982058,&quot;z&quot;:0.320362},{&quot;x&quot;:0.794792,&quot;y&quot;:0.952083,&quot;z&quot;:0.299679},{&quot;x&quot;:0.796019,&quot;y&quot;:0.945336,&quot;z&quot;:0.322169},{&quot;x&quot;:0.802814,&quot;y&quot;:0.963862,&quot;z&quot;:0.334951},{&quot;x&quot;:0.667448,&quot;y&quot;:1.01115,&quot;z&quot;:0.316751},{&quot;x&quot;:0.672406,&quot;y&quot;:1.01843,&quot;z&quot;:0.338551},{&quot;x&quot;:0.66141,&quot;y&quot;:0.988459,&quot;z&quot;:0.317868},{&quot;x&quot;:0.662637,&quot;y&quot;:0.981713,&quot;z&quot;:0.340357},{&quot;x&quot;:0.669433,&quot;y&quot;:1.00024,&quot;z&quot;:0.35314},{&quot;x&quot;:0.666667,&quot;y&quot;:1,&quot;z&quot;:0.333333}], &quot;faces&quot;:[[0,1,2],[0,3,1],[0,4,3],[0,5,4],[0,2,5],[2,1,6,7],[1,3,8,6],[3,4,9,8],[4,5,10,9],[5,2,7,10],[7,6,11],[6,8,11],[8,9,11],[9,10,11],[10,7,11]], &quot;color&quot;:&quot;#0000ff&quot;, &quot;opacity&quot;:1},{&quot;vertices&quot;:[{&quot;x&quot;:0.972222,&quot;y&quot;:0.916667,&quot;z&quot;:0.291667},{&quot;x&quot;:0.802392,&quot;y&quot;:0.997088,&quot;z&quot;:0.265399},{&quot;x&quot;:0.817266,&quot;y&quot;:1.01893,&quot;z&quot;:0.330797},{&quot;x&quot;:0.784279,&quot;y&quot;:0.929001,&quot;z&quot;:0.268748},{&quot;x&quot;:0.787959,&quot;y&quot;:0.908761,&quot;z&quot;:0.336216},{&quot;x&quot;:0.808346,&quot;y&quot;:0.964338,&quot;z&quot;:0.374564},{&quot;x&quot;:0.800048,&quot;y&quot;:0.963623,&quot;z&quot;:0.315145}], &quot;faces&quot;:[[0,1,2],[0,3,1],[0,4,3],[0,5,4],[0,2,5],[2,1,6],[1,3,6],[3,4,6],[4,5,6],[5,2,6]], &quot;color&quot;:&quot;#0000ff&quot;, &quot;opacity&quot;:1},{&quot;vertices&quot;:[{&quot;x&quot;:0.847778,&quot;y&quot;:1,&quot;z&quot;:0.666667},{&quot;x&quot;:0.847778,&quot;y&quot;:1.00618,&quot;z&quot;:0.647646},{&quot;x&quot;:0.847778,&quot;y&quot;:1.02,&quot;z&quot;:0.666667},{&quot;x&quot;:0.847778,&quot;y&quot;:0.98382,&quot;z&quot;:0.654911},{&quot;x&quot;:0.847778,&quot;y&quot;:0.98382,&quot;z&quot;:0.678422},{&quot;x&quot;:0.847778,&quot;y&quot;:1.00618,&quot;z&quot;:0.685688},{&quot;x&quot;:0.666667,&quot;y&quot;:1.00618,&quot;z&quot;:0.647646},{&quot;x&quot;:0.666667,&quot;y&quot;:1.02,&quot;z&quot;:0.666667},{&quot;x&quot;:0.666667,&quot;y&quot;:0.98382,&quot;z&quot;:0.654911},{&quot;x&quot;:0.666667,&quot;y&quot;:0.98382,&quot;z&quot;:0.678422},{&quot;x&quot;:0.666667,&quot;y&quot;:1.00618,&quot;z&quot;:0.685688},{&quot;x&quot;:0.666667,&quot;y&quot;:1,&quot;z&quot;:0.666667}], &quot;faces&quot;:[[0,1,2],[0,3,1],[0,4,3],[0,5,4],[0,2,5],[2,1,6,7],[1,3,8,6],[3,4,9,8],[4,5,10,9],[5,2,7,10],[7,6,11],[6,8,11],[8,9,11],[9,10,11],[10,7,11]], &quot;color&quot;:&quot;#0000ff&quot;, &quot;opacity&quot;:1},{&quot;vertices&quot;:[{&quot;x&quot;:1.02778,&quot;y&quot;:1,&quot;z&quot;:0.666667},{&quot;x&quot;:0.847778,&quot;y&quot;:1.01854,&quot;z&quot;:0.609603},{&quot;x&quot;:0.847778,&quot;y&quot;:1.06,&quot;z&quot;:0.666667},{&quot;x&quot;:0.847778,&quot;y&quot;:0.951459,&quot;z&quot;:0.6314},{&quot;x&quot;:0.847778,&quot;y&quot;:0.951459,&quot;z&quot;:0.701934},{&quot;x&quot;:0.847778,&quot;y&quot;:1.01854,&quot;z&quot;:0.72373},{&quot;x&quot;:0.847778,&quot;y&quot;:1,&quot;z&quot;:0.666667}], &quot;faces&quot;:[[0,1,2],[0,3,1],[0,4,3],[0,5,4],[0,2,5],[2,1,6],[1,3,6],[3,4,6],[4,5,6],[5,2,6]], &quot;color&quot;:&quot;#0000ff&quot;, &quot;opacity&quot;:1},{&quot;vertices&quot;:[{&quot;x&quot;:0.90914,&quot;y&quot;:1.04849,&quot;z&quot;:1.04041},{&quot;x&quot;:0.911824,&quot;y&quot;:1.05141,&quot;z&quot;:1.02081},{&quot;x&quot;:0.905914,&quot;y&quot;:1.06785,&quot;z&quot;:1.03654},{&quot;x&quot;:0.914025,&quot;y&quot;:1.03094,&quot;z&quot;:1.03217},{&quot;x&quot;:0.909474,&quot;y&quot;:1.03473,&quot;z&quot;:1.05492},{&quot;x&quot;:0.904461,&quot;y&quot;:1.05754,&quot;z&quot;:1.05762},{&quot;x&quot;:0.669351,&quot;y&quot;:1.00291,&quot;z&quot;:0.980396},{&quot;x&quot;:0.663441,&quot;y&quot;:1.01935,&quot;z&quot;:0.996129},{&quot;x&quot;:0.671552,&quot;y&quot;:0.982446,&quot;z&quot;:0.991755},{&quot;x&quot;:0.667001,&quot;y&quot;:0.986238,&quot;z&quot;:1.01451},{&quot;x&quot;:0.661988,&quot;y&quot;:1.00905,&quot;z&quot;:1.01721},{&quot;x&quot;:0.666667,&quot;y&quot;:1,&quot;z&quot;:1}], &quot;faces&quot;:[[0,1,2],[0,3,1],[0,4,3],[0,5,4],[0,2,5],[2,1,6,7],[1,3,8,6],[3,4,9,8],[4,5,10,9],[5,2,7,10],[7,6,11],[6,8,11],[8,9,11],[9,10,11],[10,7,11]], &quot;color&quot;:&quot;#0000ff&quot;, &quot;opacity&quot;:1},{&quot;vertices&quot;:[{&quot;x&quot;:1.08333,&quot;y&quot;:1.08333,&quot;z&quot;:1.06944},{&quot;x&quot;:0.917194,&quot;y&quot;:1.05723,&quot;z&quot;:0.981601},{&quot;x&quot;:0.899462,&quot;y&quot;:1.10656,&quot;z&quot;:1.0288},{&quot;x&quot;:0.923795,&quot;y&quot;:0.995831,&quot;z&quot;:1.01568},{&quot;x&quot;:0.910143,&quot;y&quot;:1.00721,&quot;z&quot;:1.08394},{&quot;x&quot;:0.895105,&quot;y&quot;:1.07564,&quot;z&quot;:1.09205},{&quot;x&quot;:0.90914,&quot;y&quot;:1.04849,&quot;z&quot;:1.04041}], &quot;faces&quot;:[[0,1,2],[0,3,1],[0,4,3],[0,5,4],[0,2,5],[2,1,6],[1,3,6],[3,4,6],[4,5,6],[5,2,6]], &quot;color&quot;:&quot;#0000ff&quot;, &quot;opacity&quot;:1},{&quot;vertices&quot;:[{&quot;x&quot;:0.68,&quot;y&quot;:-1,&quot;z&quot;:-1},{&quot;x&quot;:0.68,&quot;y&quot;:-0.99382,&quot;z&quot;:-0.980979},{&quot;x&quot;:0.68,&quot;y&quot;:-0.98,&quot;z&quot;:-1},{&quot;x&quot;:0.68,&quot;y&quot;:-1.01618,&quot;z&quot;:-0.988244},{&quot;x&quot;:0.68,&quot;y&quot;:-1.01618,&quot;z&quot;:-1.01176},{&quot;x&quot;:0.68,&quot;y&quot;:-0.99382,&quot;z&quot;:-1.01902},{&quot;x&quot;:1,&quot;y&quot;:-0.99382,&quot;z&quot;:-0.980979},{&quot;x&quot;:1,&quot;y&quot;:-0.98,&quot;z&quot;:-1},{&quot;x&quot;:1,&quot;y&quot;:-1.01618,&quot;z&quot;:-0.988244},{&quot;x&quot;:1,&quot;y&quot;:-1.01618,&quot;z&quot;:-1.01176},{&quot;x&quot;:1,&quot;y&quot;:-0.99382,&quot;z&quot;:-1.01902},{&quot;x&quot;:1,&quot;y&quot;:-1,&quot;z&quot;:-1}], &quot;faces&quot;:[[0,1,2],[0,3,1],[0,4,3],[0,5,4],[0,2,5],[2,1,6,7],[1,3,8,6],[3,4,9,8],[4,5,10,9],[5,2,7,10],[7,6,11],[6,8,11],[8,9,11],[9,10,11],[10,7,11]], &quot;color&quot;:&quot;#0000ff&quot;, &quot;opacity&quot;:1},{&quot;vertices&quot;:[{&quot;x&quot;:0.5,&quot;y&quot;:-1,&quot;z&quot;:-1},{&quot;x&quot;:0.68,&quot;y&quot;:-0.981459,&quot;z&quot;:-0.942937},{&quot;x&quot;:0.68,&quot;y&quot;:-0.94,&quot;z&quot;:-1},{&quot;x&quot;:0.68,&quot;y&quot;:-1.04854,&quot;z&quot;:-0.964733},{&quot;x&quot;:0.68,&quot;y&quot;:-1.04854,&quot;z&quot;:-1.03527},{&quot;x&quot;:0.68,&quot;y&quot;:-0.981459,&quot;z&quot;:-1.05706},{&quot;x&quot;:0.68,&quot;y&quot;:-1,&quot;z&quot;:-1}], &quot;faces&quot;:[[0,1,2],[0,3,1],[0,4,3],[0,5,4],[0,2,5],[2,1,6],[1,3,6],[3,4,6],[4,5,6],[5,2,6]], &quot;color&quot;:&quot;#0000ff&quot;, &quot;opacity&quot;:1},{&quot;vertices&quot;:[{&quot;x&quot;:0.757527,&quot;y&quot;:-1.04849,&quot;z&quot;:-0.707079},{&quot;x&quot;:0.753928,&quot;y&quot;:-1.04684,&quot;z&quot;:-0.687475},{&quot;x&quot;:0.75306,&quot;y&quot;:-1.02939,&quot;z&quot;:-0.703208},{&quot;x&quot;:0.759769,&quot;y&quot;:-1.06658,&quot;z&quot;:-0.698834},{&quot;x&quot;:0.762511,&quot;y&quot;:-1.06133,&quot;z&quot;:-0.721587},{&quot;x&quot;:0.758365,&quot;y&quot;:-1.03834,&quot;z&quot;:-0.72429},{&quot;x&quot;:0.996401,&quot;y&quot;:-0.998344,&quot;z&quot;:-0.647063},{&quot;x&quot;:0.995533,&quot;y&quot;:-0.980893,&quot;z&quot;:-0.662796},{&quot;x&quot;:1.00224,&quot;y&quot;:-1.01808,&quot;z&quot;:-0.658422},{&quot;x&quot;:1.00498,&quot;y&quot;:-1.01283,&quot;z&quot;:-0.681175},{&quot;x&quot;:1.00084,&quot;y&quot;:-0.989848,&quot;z&quot;:-0.683878},{&quot;x&quot;:1,&quot;y&quot;:-1,&quot;z&quot;:-0.666667}], &quot;faces&quot;:[[0,1,2],[0,3,1],[0,4,3],[0,5,4],[0,2,5],[2,1,6,7],[1,3,8,6],[3,4,9,8],[4,5,10,9],[5,2,7,10],[7,6,11],[6,8,11],[8,9,11],[9,10,11],[10,7,11]], &quot;color&quot;:&quot;#0000ff&quot;, &quot;opacity&quot;:1},{&quot;vertices&quot;:[{&quot;x&quot;:0.583333,&quot;y&quot;:-1.08333,&quot;z&quot;:-0.736111},{&quot;x&quot;:0.746731,&quot;y&quot;:-1.04353,&quot;z&quot;:-0.648268},{&quot;x&quot;:0.744127,&quot;y&quot;:-0.991175,&quot;z&quot;:-0.695466},{&quot;x&quot;:0.764254,&quot;y&quot;:-1.10274,&quot;z&quot;:-0.682344},{&quot;x&quot;:0.77248,&quot;y&quot;:-1.08699,&quot;z&quot;:-0.750603},{&quot;x&quot;:0.760041,&quot;y&quot;:-1.01804,&quot;z&quot;:-0.758713},{&quot;x&quot;:0.757527,&quot;y&quot;:-1.04849,&quot;z&quot;:-0.707079}], &quot;faces&quot;:[[0,1,2],[0,3,1],[0,4,3],[0,5,4],[0,2,5],[2,1,6],[1,3,6],[3,4,6],[4,5,6],[5,2,6]], &quot;color&quot;:&quot;#0000ff&quot;, &quot;opacity&quot;:1},{&quot;vertices&quot;:[{&quot;x&quot;:0.820952,&quot;y&quot;:-1.08952,&quot;z&quot;:-0.393016},{&quot;x&quot;:0.81723,&quot;y&quot;:-1.09471,&quot;z&quot;:-0.374063},{&quot;x&quot;:0.810667,&quot;y&quot;:-1.07467,&quot;z&quot;:-0.384444},{&quot;x&quot;:0.828938,&quot;y&quot;:-1.10759,&quot;z&quot;:-0.389874},{&quot;x&quot;:0.82961,&quot;y&quot;:-1.0955,&quot;z&quot;:-0.410027},{&quot;x&quot;:0.818317,&quot;y&quot;:-1.07515,&quot;z&quot;:-0.406671},{&quot;x&quot;:0.996278,&quot;y&quot;:-1.00519,&quot;z&quot;:-0.314381},{&quot;x&quot;:0.989714,&quot;y&quot;:-0.985143,&quot;z&quot;:-0.324762},{&quot;x&quot;:1.00799,&quot;y&quot;:-1.01807,&quot;z&quot;:-0.330191},{&quot;x&quot;:1.00866,&quot;y&quot;:-1.00597,&quot;z&quot;:-0.350344},{&quot;x&quot;:0.997365,&quot;y&quot;:-0.985627,&quot;z&quot;:-0.346988},{&quot;x&quot;:1,&quot;y&quot;:-1,&quot;z&quot;:-0.333333}], &quot;faces&quot;:[[0,1,2],[0,3,1],[0,4,3],[0,5,4],[0,2,5],[2,1,6,7],[1,3,8,6],[3,4,9,8],[4,5,10,9],[5,2,7,10],[7,6,11],[6,8,11],[8,9,11],[9,10,11],[10,7,11]], &quot;color&quot;:&quot;#0000ff&quot;, &quot;opacity&quot;:1},{&quot;vertices&quot;:[{&quot;x&quot;:0.666667,&quot;y&quot;:-1.16667,&quot;z&quot;:-0.444444},{&quot;x&quot;:0.809787,&quot;y&quot;:-1.1051,&quot;z&quot;:-0.336158},{&quot;x&quot;:0.790095,&quot;y&quot;:-1.04495,&quot;z&quot;:-0.367302},{&quot;x&quot;:0.844909,&quot;y&quot;:-1.14372,&quot;z&quot;:-0.38359},{&quot;x&quot;:0.846924,&quot;y&quot;:-1.10745,&quot;z&quot;:-0.444048},{&quot;x&quot;:0.813047,&quot;y&quot;:-1.0464,&quot;z&quot;:-0.433981},{&quot;x&quot;:0.820952,&quot;y&quot;:-1.08952,&quot;z&quot;:-0.393016}], &quot;faces&quot;:[[0,1,2],[0,3,1],[0,4,3],[0,5,4],[0,2,5],[2,1,6],[1,3,6],[3,4,6],[4,5,6],[5,2,6]], &quot;color&quot;:&quot;#0000ff&quot;, &quot;opacity&quot;:1},{&quot;vertices&quot;:[{&quot;x&quot;:0.87,&quot;y&quot;:-1.13,&quot;z&quot;:-0.065},{&quot;x&quot;:0.87222,&quot;y&quot;:-1.14062,&quot;z&quot;:-0.048199},{&quot;x&quot;:0.856667,&quot;y&quot;:-1.12333,&quot;z&quot;:-0.0516667},{&quot;x&quot;:0.884705,&quot;y&quot;:-1.14323,&quot;z&quot;:-0.0679498},{&quot;x&quot;:0.876868,&quot;y&quot;:-1.12756,&quot;z&quot;:-0.083624},{&quot;x&quot;:0.859539,&quot;y&quot;:-1.11526,&quot;z&quot;:-0.0735605},{&quot;x&quot;:1.00222,&quot;y&quot;:-1.01062,&quot;z&quot;:0.016801},{&quot;x&quot;:0.986667,&quot;y&quot;:-0.993333,&quot;z&quot;:0.0133333},{&quot;x&quot;:1.01471,&quot;y&quot;:-1.01323,&quot;z&quot;:-0.00294976},{&quot;x&quot;:1.00687,&quot;y&quot;:-0.997556,&quot;z&quot;:-0.018624},{&quot;x&quot;:0.989539,&quot;y&quot;:-0.985259,&quot;z&quot;:-0.00856053},{&quot;x&quot;:1,&quot;y&quot;:-1,&quot;z&quot;:0}], &quot;faces&quot;:[[0,1,2],[0,3,1],[0,4,3],[0,5,4],[0,2,5],[2,1,6,7],[1,3,8,6],[3,4,9,8],[4,5,10,9],[5,2,7,10],[7,6,11],[6,8,11],[8,9,11],[9,10,11],[10,7,11]], &quot;color&quot;:&quot;#0000ff&quot;, &quot;opacity&quot;:1},{&quot;vertices&quot;:[{&quot;x&quot;:0.75,&quot;y&quot;:-1.25,&quot;z&quot;:-0.125},{&quot;x&quot;:0.87666,&quot;y&quot;:-1.16186,&quot;z&quot;:-0.0145971},{&quot;x&quot;:0.83,&quot;y&quot;:-1.11,&quot;z&quot;:-0.025},{&quot;x&quot;:0.914116,&quot;y&quot;:-1.16969,&quot;z&quot;:-0.0738493},{&quot;x&quot;:0.890605,&quot;y&quot;:-1.12267,&quot;z&quot;:-0.120872},{&quot;x&quot;:0.838618,&quot;y&quot;:-1.08578,&quot;z&quot;:-0.0906816},{&quot;x&quot;:0.87,&quot;y&quot;:-1.13,&quot;z&quot;:-0.065}], &quot;faces&quot;:[[0,1,2],[0,3,1],[0,4,3],[0,5,4],[0,2,5],[2,1,6],[1,3,6],[3,4,6],[4,5,6],[5,2,6]], &quot;color&quot;:&quot;#0000ff&quot;, &quot;opacity&quot;:1},{&quot;vertices&quot;:[{&quot;x&quot;:0.910476,&quot;y&quot;:-1.17905,&quot;z&quot;:0.273651},{&quot;x&quot;:0.921428,&quot;y&quot;:-1.18901,&quot;z&quot;:0.2871},{&quot;x&quot;:0.90019,&quot;y&quot;:-1.17962,&quot;z&quot;:0.290794},{&quot;x&quot;:0.92753,&quot;y&quot;:-1.18463,&quot;z&quot;:0.26482},{&quot;x&quot;:0.910065,&quot;y&quot;:-1.17254,&quot;z&quot;:0.254744},{&quot;x&quot;:0.893168,&quot;y&quot;:-1.16944,&quot;z&quot;:0.270796},{&quot;x&quot;:1.01095,&quot;y&quot;:-1.00996,&quot;z&quot;:0.346783},{&quot;x&quot;:0.989714,&quot;y&quot;:-1.00057,&quot;z&quot;:0.350476},{&quot;x&quot;:1.01705,&quot;y&quot;:-1.00558,&quot;z&quot;:0.324503},{&quot;x&quot;:0.999589,&quot;y&quot;:-0.993492,&quot;z&quot;:0.314426},{&quot;x&quot;:0.982692,&quot;y&quot;:-0.990394,&quot;z&quot;:0.330479},{&quot;x&quot;:1,&quot;y&quot;:-1,&quot;z&quot;:0.333333}], &quot;faces&quot;:[[0,1,2],[0,3,1],[0,4,3],[0,5,4],[0,2,5],[2,1,6,7],[1,3,8,6],[3,4,9,8],[4,5,10,9],[5,2,7,10],[7,6,11],[6,8,11],[8,9,11],[9,10,11],[10,7,11]], &quot;color&quot;:&quot;#0000ff&quot;, &quot;opacity&quot;:1},{&quot;vertices&quot;:[{&quot;x&quot;:0.833333,&quot;y&quot;:-1.33333,&quot;z&quot;:0.222222},{&quot;x&quot;:0.943331,&quot;y&quot;:-1.20892,&quot;z&quot;:0.313999},{&quot;x&quot;:0.879619,&quot;y&quot;:-1.18076,&quot;z&quot;:0.325079},{&quot;x&quot;:0.961639,&quot;y&quot;:-1.1958,&quot;z&quot;:0.247159},{&quot;x&quot;:0.909242,&quot;y&quot;:-1.15952,&quot;z&quot;:0.21693},{&quot;x&quot;:0.858551,&quot;y&quot;:-1.15023,&quot;z&quot;:0.265087},{&quot;x&quot;:0.910476,&quot;y&quot;:-1.17905,&quot;z&quot;:0.273651}], &quot;faces&quot;:[[0,1,2],[0,3,1],[0,4,3],[0,5,4],[0,2,5],[2,1,6],[1,3,6],[3,4,6],[4,5,6],[5,2,6]], &quot;color&quot;:&quot;#0000ff&quot;, &quot;opacity&quot;:1},{&quot;vertices&quot;:[{&quot;x&quot;:0.951505,&quot;y&quot;:-1.24247,&quot;z&quot;:0.626254},{&quot;x&quot;:0.968297,&quot;y&quot;:-1.24744,&quot;z&quot;:0.635917},{&quot;x&quot;:0.947039,&quot;y&quot;:-1.24481,&quot;z&quot;:0.645609},{&quot;x&quot;:0.966349,&quot;y&quot;:-1.24321,&quot;z&quot;:0.612871},{&quot;x&quot;:0.943888,&quot;y&quot;:-1.23796,&quot;z&quot;:0.608321},{&quot;x&quot;:0.931954,&quot;y&quot;:-1.23895,&quot;z&quot;:0.628554},{&quot;x&quot;:1.01679,&quot;y&quot;:-1.00497,&quot;z&quot;:0.676329},{&quot;x&quot;:0.995533,&quot;y&quot;:-1.00233,&quot;z&quot;:0.686022},{&quot;x&quot;:1.01484,&quot;y&quot;:-1.00074,&quot;z&quot;:0.653284},{&quot;x&quot;:0.992383,&quot;y&quot;:-0.995488,&quot;z&quot;:0.648733},{&quot;x&quot;:0.980448,&quot;y&quot;:-0.996473,&quot;z&quot;:0.668966},{&quot;x&quot;:1,&quot;y&quot;:-1,&quot;z&quot;:0.666667}], &quot;faces&quot;:[[0,1,2],[0,3,1],[0,4,3],[0,5,4],[0,2,5],[2,1,6,7],[1,3,8,6],[3,4,9,8],[4,5,10,9],[5,2,7,10],[7,6,11],[6,8,11],[8,9,11],[9,10,11],[10,7,11]], &quot;color&quot;:&quot;#0000ff&quot;, &quot;opacity&quot;:1},{&quot;vertices&quot;:[{&quot;x&quot;:0.916667,&quot;y&quot;:-1.41667,&quot;z&quot;:0.597222},{&quot;x&quot;:1.00188,&quot;y&quot;:-1.25738,&quot;z&quot;:0.655242},{&quot;x&quot;:0.938106,&quot;y&quot;:-1.24947,&quot;z&quot;:0.684319},{&quot;x&quot;:0.996038,&quot;y&quot;:-1.24469,&quot;z&quot;:0.586105},{&quot;x&quot;:0.928654,&quot;y&quot;:-1.22894,&quot;z&quot;:0.572453},{&quot;x&quot;:0.89285,&quot;y&quot;:-1.23189,&quot;z&quot;:0.633153},{&quot;x&quot;:0.951505,&quot;y&quot;:-1.24247,&quot;z&quot;:0.626254}], &quot;faces&quot;:[[0,1,2],[0,3,1],[0,4,3],[0,5,4],[0,2,5],[2,1,6],[1,3,6],[3,4,6],[4,5,6],[5,2,6]], &quot;color&quot;:&quot;#0000ff&quot;, &quot;opacity&quot;:1},{&quot;vertices&quot;:[{&quot;x&quot;:1,&quot;y&quot;:-1.32,&quot;z&quot;:1},{&quot;x&quot;:1.01902,&quot;y&quot;:-1.32,&quot;z&quot;:1.00618},{&quot;x&quot;:1,&quot;y&quot;:-1.32,&quot;z&quot;:1.02},{&quot;x&quot;:1.01176,&quot;y&quot;:-1.32,&quot;z&quot;:0.98382},{&quot;x&quot;:0.988244,&quot;y&quot;:-1.32,&quot;z&quot;:0.98382},{&quot;x&quot;:0.980979,&quot;y&quot;:-1.32,&quot;z&quot;:1.00618},{&quot;x&quot;:1.01902,&quot;y&quot;:-1,&quot;z&quot;:1.00618},{&quot;x&quot;:1,&quot;y&quot;:-1,&quot;z&quot;:1.02},{&quot;x&quot;:1.01176,&quot;y&quot;:-1,&quot;z&quot;:0.98382},{&quot;x&quot;:0.988244,&quot;y&quot;:-1,&quot;z&quot;:0.98382},{&quot;x&quot;:0.980979,&quot;y&quot;:-1,&quot;z&quot;:1.00618},{&quot;x&quot;:1,&quot;y&quot;:-1,&quot;z&quot;:1}], &quot;faces&quot;:[[0,1,2],[0,3,1],[0,4,3],[0,5,4],[0,2,5],[2,1,6,7],[1,3,8,6],[3,4,9,8],[4,5,10,9],[5,2,7,10],[7,6,11],[6,8,11],[8,9,11],[9,10,11],[10,7,11]], &quot;color&quot;:&quot;#0000ff&quot;, &quot;opacity&quot;:1},{&quot;vertices&quot;:[{&quot;x&quot;:1,&quot;y&quot;:-1.5,&quot;z&quot;:1},{&quot;x&quot;:1.05706,&quot;y&quot;:-1.32,&quot;z&quot;:1.01854},{&quot;x&quot;:1,&quot;y&quot;:-1.32,&quot;z&quot;:1.06},{&quot;x&quot;:1.03527,&quot;y&quot;:-1.32,&quot;z&quot;:0.951459},{&quot;x&quot;:0.964733,&quot;y&quot;:-1.32,&quot;z&quot;:0.951459},{&quot;x&quot;:0.942937,&quot;y&quot;:-1.32,&quot;z&quot;:1.01854},{&quot;x&quot;:1,&quot;y&quot;:-1.32,&quot;z&quot;:1}], &quot;faces&quot;:[[0,1,2],[0,3,1],[0,4,3],[0,5,4],[0,2,5],[2,1,6],[1,3,6],[3,4,6],[4,5,6],[5,2,6]], &quot;color&quot;:&quot;#0000ff&quot;, &quot;opacity&quot;:1},{&quot;vertices&quot;:[{&quot;x&quot;:0.757527,&quot;y&quot;:-0.715161,&quot;z&quot;:-0.959588},{&quot;x&quot;:0.760212,&quot;y&quot;:-0.712248,&quot;z&quot;:-0.939984},{&quot;x&quot;:0.754301,&quot;y&quot;:-0.695806,&quot;z&quot;:-0.955717},{&quot;x&quot;:0.762412,&quot;y&quot;:-0.732716,&quot;z&quot;:-0.951343},{&quot;x&quot;:0.757861,&quot;y&quot;:-0.728924,&quot;z&quot;:-0.974096},{&quot;x&quot;:0.752849,&quot;y&quot;:-0.706112,&quot;z&quot;:-0.976799},{&quot;x&quot;:1.00268,&quot;y&quot;:-0.663754,&quot;z&quot;:-0.980396},{&quot;x&quot;:0.996774,&quot;y&quot;:-0.647312,&quot;z&quot;:-0.996129},{&quot;x&quot;:1.00489,&quot;y&quot;:-0.684221,&quot;z&quot;:-0.991755},{&quot;x&quot;:1.00033,&quot;y&quot;:-0.680429,&quot;z&quot;:-1.01451},{&quot;x&quot;:0.995322,&quot;y&quot;:-0.657618,&quot;z&quot;:-1.01721},{&quot;x&quot;:1,&quot;y&quot;:-0.666667,&quot;z&quot;:-1}], &quot;faces&quot;:[[0,1,2],[0,3,1],[0,4,3],[0,5,4],[0,2,5],[2,1,6,7],[1,3,8,6],[3,4,9,8],[4,5,10,9],[5,2,7,10],[7,6,11],[6,8,11],[8,9,11],[9,10,11],[10,7,11]], &quot;color&quot;:&quot;#0000ff&quot;, &quot;opacity&quot;:1},{&quot;vertices&quot;:[{&quot;x&quot;:0.583333,&quot;y&quot;:-0.75,&quot;z&quot;:-0.930556},{&quot;x&quot;:0.765581,&quot;y&quot;:-0.706422,&quot;z&quot;:-0.900777},{&quot;x&quot;:0.747849,&quot;y&quot;:-0.657097,&quot;z&quot;:-0.947975},{&quot;x&quot;:0.772182,&quot;y&quot;:-0.767825,&quot;z&quot;:-0.934853},{&quot;x&quot;:0.75853,&quot;y&quot;:-0.756448,&quot;z&quot;:-1.00311},{&quot;x&quot;:0.743492,&quot;y&quot;:-0.688015,&quot;z&quot;:-1.01122},{&quot;x&quot;:0.757527,&quot;y&quot;:-0.715161,&quot;z&quot;:-0.959588}], &quot;faces&quot;:[[0,1,2],[0,3,1],[0,4,3],[0,5,4],[0,2,5],[2,1,6],[1,3,6],[3,4,6],[4,5,6],[5,2,6]], &quot;color&quot;:&quot;#0000ff&quot;, &quot;opacity&quot;:1},{&quot;vertices&quot;:[{&quot;x&quot;:0.832821,&quot;y&quot;:-0.736325,&quot;z&quot;:-0.666667},{&quot;x&quot;:0.83344,&quot;y&quot;:-0.737812,&quot;z&quot;:-0.646732},{&quot;x&quot;:0.82572,&quot;y&quot;:-0.719283,&quot;z&quot;:-0.658974},{&quot;x&quot;:0.840304,&quot;y&quot;:-0.754285,&quot;z&quot;:-0.662038},{&quot;x&quot;:0.836826,&quot;y&quot;:-0.745938,&quot;z&quot;:-0.683741},{&quot;x&quot;:0.827813,&quot;y&quot;:-0.724306,&quot;z&quot;:-0.681848},{&quot;x&quot;:1.00062,&quot;y&quot;:-0.668154,&quot;z&quot;:-0.646732},{&quot;x&quot;:0.992899,&quot;y&quot;:-0.649625,&quot;z&quot;:-0.658974},{&quot;x&quot;:1.00748,&quot;y&quot;:-0.684627,&quot;z&quot;:-0.662038},{&quot;x&quot;:1.00401,&quot;y&quot;:-0.67628,&quot;z&quot;:-0.683741},{&quot;x&quot;:0.994992,&quot;y&quot;:-0.654648,&quot;z&quot;:-0.681848},{&quot;x&quot;:1,&quot;y&quot;:-0.666667,&quot;z&quot;:-0.666667}], &quot;faces&quot;:[[0,1,2],[0,3,1],[0,4,3],[0,5,4],[0,2,5],[2,1,6,7],[1,3,8,6],[3,4,9,8],[4,5,10,9],[5,2,7,10],[7,6,11],[6,8,11],[8,9,11],[9,10,11],[10,7,11]], &quot;color&quot;:&quot;#0000ff&quot;, &quot;opacity&quot;:1},{&quot;vertices&quot;:[{&quot;x&quot;:0.666667,&quot;y&quot;:-0.805556,&quot;z&quot;:-0.666667},{&quot;x&quot;:0.834679,&quot;y&quot;:-0.740786,&quot;z&quot;:-0.606862},{&quot;x&quot;:0.811519,&quot;y&quot;:-0.685201,&quot;z&quot;:-0.64359},{&quot;x&quot;:0.855271,&quot;y&quot;:-0.790206,&quot;z&quot;:-0.652782},{&quot;x&quot;:0.844837,&quot;y&quot;:-0.765164,&quot;z&quot;:-0.717891},{&quot;x&quot;:0.817797,&quot;y&quot;:-0.700267,&quot;z&quot;:-0.712209},{&quot;x&quot;:0.832821,&quot;y&quot;:-0.736325,&quot;z&quot;:-0.666667}], &quot;faces&quot;:[[0,1,2],[0,3,1],[0,4,3],[0,5,4],[0,2,5],[2,1,6],[1,3,6],[3,4,6],[4,5,6],[5,2,6]], &quot;color&quot;:&quot;#0000ff&quot;, &quot;opacity&quot;:1},{&quot;vertices&quot;:[{&quot;x&quot;:0.89087,&quot;y&quot;:-0.751546,&quot;z&quot;:-0.351522},{&quot;x&quot;:0.893107,&quot;y&quot;:-0.758419,&quot;z&quot;:-0.332874},{&quot;x&quot;:0.879913,&quot;y&quot;:-0.740068,&quot;z&quot;:-0.339348},{&quot;x&quot;:0.903209,&quot;y&quot;:-0.767272,&quot;z&quot;:-0.352171},{&quot;x&quot;:0.896258,&quot;y&quot;:-0.754392,&quot;z&quot;:-0.370571},{&quot;x&quot;:0.88186,&quot;y&quot;:-0.737579,&quot;z&quot;:-0.362646},{&quot;x&quot;:1.00224,&quot;y&quot;:-0.67354,&quot;z&quot;:-0.314685},{&quot;x&quot;:0.989043,&quot;y&quot;:-0.655188,&quot;z&quot;:-0.321159},{&quot;x&quot;:1.01234,&quot;y&quot;:-0.682393,&quot;z&quot;:-0.333982},{&quot;x&quot;:1.00539,&quot;y&quot;:-0.669513,&quot;z&quot;:-0.352382},{&quot;x&quot;:0.990991,&quot;y&quot;:-0.652699,&quot;z&quot;:-0.344457},{&quot;x&quot;:1,&quot;y&quot;:-0.666667,&quot;z&quot;:-0.333333}], &quot;faces&quot;:[[0,1,2],[0,3,1],[0,4,3],[0,5,4],[0,2,5],[2,1,6,7],[1,3,8,6],[3,4,9,8],[4,5,10,9],[5,2,7,10],[7,6,11],[6,8,11],[8,9,11],[9,10,11],[10,7,11]], &quot;color&quot;:&quot;#0000ff&quot;, &quot;opacity&quot;:1},{&quot;vertices&quot;:[{&quot;x&quot;:0.75,&quot;y&quot;:-0.861111,&quot;z&quot;:-0.375},{&quot;x&quot;:0.897583,&quot;y&quot;:-0.772166,&quot;z&quot;:-0.295578},{&quot;x&quot;:0.858,&quot;y&quot;:-0.717111,&quot;z&quot;:-0.315},{&quot;x&quot;:0.927888,&quot;y&quot;:-0.798724,&quot;z&quot;:-0.353468},{&quot;x&quot;:0.907035,&quot;y&quot;:-0.760084,&quot;z&quot;:-0.408669},{&quot;x&quot;:0.863841,&quot;y&quot;:-0.709644,&quot;z&quot;:-0.384894},{&quot;x&quot;:0.89087,&quot;y&quot;:-0.751546,&quot;z&quot;:-0.351522}], &quot;faces&quot;:[[0,1,2],[0,3,1],[0,4,3],[0,5,4],[0,2,5],[2,1,6],[1,3,6],[3,4,6],[4,5,6],[5,2,6]], &quot;color&quot;:&quot;#0000ff&quot;, &quot;opacity&quot;:1},{&quot;vertices&quot;:[{&quot;x&quot;:0.931515,&quot;y&quot;:-0.769394,&quot;z&quot;:-0.0228283},{&quot;x&quot;:0.940248,&quot;y&quot;:-0.778645,&quot;z&quot;:-0.00739648},{&quot;x&quot;:0.920606,&quot;y&quot;:-0.765758,&quot;z&quot;:-0.00646465},{&quot;x&quot;:0.947822,&quot;y&quot;:-0.778748,&quot;z&quot;:-0.0296545},{&quot;x&quot;:0.93286,&quot;y&quot;:-0.765924,&quot;z&quot;:-0.0424789},{&quot;x&quot;:0.91604,&quot;y&quot;:-0.757895,&quot;z&quot;:-0.0281468},{&quot;x&quot;:1.00873,&quot;y&quot;:-0.675918,&quot;z&quot;:0.0154318},{&quot;x&quot;:0.989091,&quot;y&quot;:-0.66303,&quot;z&quot;:0.0163636},{&quot;x&quot;:1.01631,&quot;y&quot;:-0.676021,&quot;z&quot;:-0.00682626},{&quot;x&quot;:1.00134,&quot;y&quot;:-0.663196,&quot;z&quot;:-0.0196507},{&quot;x&quot;:0.984525,&quot;y&quot;:-0.655168,&quot;z&quot;:-0.00531852},{&quot;x&quot;:1,&quot;y&quot;:-0.666667,&quot;z&quot;:0}], &quot;faces&quot;:[[0,1,2],[0,3,1],[0,4,3],[0,5,4],[0,2,5],[2,1,6,7],[1,3,8,6],[3,4,9,8],[4,5,10,9],[5,2,7,10],[7,6,11],[6,8,11],[8,9,11],[9,10,11],[10,7,11]], &quot;color&quot;:&quot;#0000ff&quot;, &quot;opacity&quot;:1},{&quot;vertices&quot;:[{&quot;x&quot;:0.833333,&quot;y&quot;:-0.916667,&quot;z&quot;:-0.0555556},{&quot;x&quot;:0.957715,&quot;y&quot;:-0.797148,&quot;z&quot;:0.0234671},{&quot;x&quot;:0.898788,&quot;y&quot;:-0.758485,&quot;z&quot;:0.0262626},{&quot;x&quot;:0.980435,&quot;y&quot;:-0.797456,&quot;z&quot;:-0.0433071},{&quot;x&quot;:0.935549,&quot;y&quot;:-0.758983,&quot;z&quot;:-0.0817803},{&quot;x&quot;:0.885089,&quot;y&quot;:-0.734897,&quot;z&quot;:-0.0387838},{&quot;x&quot;:0.931515,&quot;y&quot;:-0.769394,&quot;z&quot;:-0.0228283}], &quot;faces&quot;:[[0,1,2],[0,3,1],[0,4,3],[0,5,4],[0,2,5],[2,1,6],[1,3,6],[3,4,6],[4,5,6],[5,2,6]], &quot;color&quot;:&quot;#0000ff&quot;, &quot;opacity&quot;:1},{&quot;vertices&quot;:[{&quot;x&quot;:0.963623,&quot;y&quot;:-0.800048,&quot;z&quot;:0.315145},{&quot;x&quot;:0.979382,&quot;y&quot;:-0.805829,&quot;z&quot;:0.326019},{&quot;x&quot;:0.957884,&quot;y&quot;:-0.801092,&quot;z&quot;:0.334275},{&quot;x&quot;:0.979102,&quot;y&quot;:-0.802577,&quot;z&quot;:0.302735},{&quot;x&quot;:0.957431,&quot;y&quot;:-0.795831,&quot;z&quot;:0.296601},{&quot;x&quot;:0.944317,&quot;y&quot;:-0.794913,&quot;z&quot;:0.316095},{&quot;x&quot;:1.01576,&quot;y&quot;:-0.672447,&quot;z&quot;:0.344207},{&quot;x&quot;:0.994261,&quot;y&quot;:-0.66771,&quot;z&quot;:0.352464},{&quot;x&quot;:1.01548,&quot;y&quot;:-0.669196,&quot;z&quot;:0.320923},{&quot;x&quot;:0.993807,&quot;y&quot;:-0.662449,&quot;z&quot;:0.31479},{&quot;x&quot;:0.980694,&quot;y&quot;:-0.661531,&quot;z&quot;:0.334283},{&quot;x&quot;:1,&quot;y&quot;:-0.666667,&quot;z&quot;:0.333333}], &quot;faces&quot;:[[0,1,2],[0,3,1],[0,4,3],[0,5,4],[0,2,5],[2,1,6,7],[1,3,8,6],[3,4,9,8],[4,5,10,9],[5,2,7,10],[7,6,11],[6,8,11],[8,9,11],[9,10,11],[10,7,11]], &quot;color&quot;:&quot;#0000ff&quot;, &quot;opacity&quot;:1},{&quot;vertices&quot;:[{&quot;x&quot;:0.916667,&quot;y&quot;:-0.972222,&quot;z&quot;:0.291667},{&quot;x&quot;:1.0109,&quot;y&quot;:-0.81739,&quot;z&quot;:0.347766},{&quot;x&quot;:0.946406,&quot;y&quot;:-0.803179,&quot;z&quot;:0.372536},{&quot;x&quot;:1.01006,&quot;y&quot;:-0.807636,&quot;z&quot;:0.277915},{&quot;x&quot;:0.945045,&quot;y&quot;:-0.787396,&quot;z&quot;:0.259514},{&quot;x&quot;:0.905705,&quot;y&quot;:-0.784641,&quot;z&quot;:0.317994},{&quot;x&quot;:0.963623,&quot;y&quot;:-0.800048,&quot;z&quot;:0.315145}], &quot;faces&quot;:[[0,1,2],[0,3,1],[0,4,3],[0,5,4],[0,2,5],[2,1,6],[1,3,6],[3,4,6],[4,5,6],[5,2,6]], &quot;color&quot;:&quot;#0000ff&quot;, &quot;opacity&quot;:1},{&quot;vertices&quot;:[{&quot;x&quot;:1,&quot;y&quot;:-0.847778,&quot;z&quot;:0.666667},{&quot;x&quot;:1.01902,&quot;y&quot;:-0.847778,&quot;z&quot;:0.672847},{&quot;x&quot;:1,&quot;y&quot;:-0.847778,&quot;z&quot;:0.686667},{&quot;x&quot;:1.01176,&quot;y&quot;:-0.847778,&quot;z&quot;:0.650486},{&quot;x&quot;:0.988244,&quot;y&quot;:-0.847778,&quot;z&quot;:0.650486},{&quot;x&quot;:0.980979,&quot;y&quot;:-0.847778,&quot;z&quot;:0.672847},{&quot;x&quot;:1.01902,&quot;y&quot;:-0.666667,&quot;z&quot;:0.672847},{&quot;x&quot;:1,&quot;y&quot;:-0.666667,&quot;z&quot;:0.686667},{&quot;x&quot;:1.01176,&quot;y&quot;:-0.666667,&quot;z&quot;:0.650486},{&quot;x&quot;:0.988244,&quot;y&quot;:-0.666667,&quot;z&quot;:0.650486},{&quot;x&quot;:0.980979,&quot;y&quot;:-0.666667,&quot;z&quot;:0.672847},{&quot;x&quot;:1,&quot;y&quot;:-0.666667,&quot;z&quot;:0.666667}], &quot;faces&quot;:[[0,1,2],[0,3,1],[0,4,3],[0,5,4],[0,2,5],[2,1,6,7],[1,3,8,6],[3,4,9,8],[4,5,10,9],[5,2,7,10],[7,6,11],[6,8,11],[8,9,11],[9,10,11],[10,7,11]], &quot;color&quot;:&quot;#0000ff&quot;, &quot;opacity&quot;:1},{&quot;vertices&quot;:[{&quot;x&quot;:1,&quot;y&quot;:-1.02778,&quot;z&quot;:0.666667},{&quot;x&quot;:1.05706,&quot;y&quot;:-0.847778,&quot;z&quot;:0.685208},{&quot;x&quot;:1,&quot;y&quot;:-0.847778,&quot;z&quot;:0.726667},{&quot;x&quot;:1.03527,&quot;y&quot;:-0.847778,&quot;z&quot;:0.618126},{&quot;x&quot;:0.964733,&quot;y&quot;:-0.847778,&quot;z&quot;:0.618126},{&quot;x&quot;:0.942937,&quot;y&quot;:-0.847778,&quot;z&quot;:0.685208},{&quot;x&quot;:1,&quot;y&quot;:-0.847778,&quot;z&quot;:0.666667}], &quot;faces&quot;:[[0,1,2],[0,3,1],[0,4,3],[0,5,4],[0,2,5],[2,1,6],[1,3,6],[3,4,6],[4,5,6],[5,2,6]], &quot;color&quot;:&quot;#0000ff&quot;, &quot;opacity&quot;:1},{&quot;vertices&quot;:[{&quot;x&quot;:1.04849,&quot;y&quot;:-0.90914,&quot;z&quot;:1.04041},{&quot;x&quot;:1.0679,&quot;y&quot;:-0.904876,&quot;z&quot;:1.04271},{&quot;x&quot;:1.05172,&quot;y&quot;:-0.905269,&quot;z&quot;:1.05977},{&quot;x&quot;:1.05726,&quot;y&quot;:-0.910375,&quot;z&quot;:1.02248},{&quot;x&quot;:1.03451,&quot;y&quot;:-0.914168,&quot;z&quot;:1.02703},{&quot;x&quot;:1.03108,&quot;y&quot;:-0.911012,&quot;z&quot;:1.05007},{&quot;x&quot;:1.0194,&quot;y&quot;:-0.662403,&quot;z&quot;:1.0023},{&quot;x&quot;:1.00323,&quot;y&quot;:-0.662796,&quot;z&quot;:1.01935},{&quot;x&quot;:1.00877,&quot;y&quot;:-0.667902,&quot;z&quot;:0.982066},{&quot;x&quot;:0.986014,&quot;y&quot;:-0.671694,&quot;z&quot;:0.986617},{&quot;x&quot;:0.982589,&quot;y&quot;:-0.668538,&quot;z&quot;:1.00966},{&quot;x&quot;:1,&quot;y&quot;:-0.666667,&quot;z&quot;:1}], &quot;faces&quot;:[[0,1,2],[0,3,1],[0,4,3],[0,5,4],[0,2,5],[2,1,6,7],[1,3,8,6],[3,4,9,8],[4,5,10,9],[5,2,7,10],[7,6,11],[6,8,11],[8,9,11],[9,10,11],[10,7,11]], &quot;color&quot;:&quot;#0000ff&quot;, &quot;opacity&quot;:1},{&quot;vertices&quot;:[{&quot;x&quot;:1.08333,&quot;y&quot;:-1.08333,&quot;z&quot;:1.06944},{&quot;x&quot;:1.10671,&quot;y&quot;:-0.896347,&quot;z&quot;:1.04731},{&quot;x&quot;:1.05817,&quot;y&quot;:-0.897527,&quot;z&quot;:1.09848},{&quot;x&quot;:1.07479,&quot;y&quot;:-0.912847,&quot;z&quot;:0.986611},{&quot;x&quot;:1.00654,&quot;y&quot;:-0.924223,&quot;z&quot;:1.00026},{&quot;x&quot;:0.996262,&quot;y&quot;:-0.914755,&quot;z&quot;:1.0694},{&quot;x&quot;:1.04849,&quot;y&quot;:-0.90914,&quot;z&quot;:1.04041}], &quot;faces&quot;:[[0,1,2],[0,3,1],[0,4,3],[0,5,4],[0,2,5],[2,1,6],[1,3,6],[3,4,6],[4,5,6],[5,2,6]], &quot;color&quot;:&quot;#0000ff&quot;, &quot;opacity&quot;:1},{&quot;vertices&quot;:[{&quot;x&quot;:0.820952,&quot;y&quot;:-0.422857,&quot;z&quot;:-0.940317},{&quot;x&quot;:0.827338,&quot;y&quot;:-0.422994,&quot;z&quot;:-0.921365},{&quot;x&quot;:0.815238,&quot;y&quot;:-0.405714,&quot;z&quot;:-0.931746},{&quot;x&quot;:0.830613,&quot;y&quot;:-0.440085,&quot;z&quot;:-0.937176},{&quot;x&quot;:0.820537,&quot;y&quot;:-0.433367,&quot;z&quot;:-0.957328},{&quot;x&quot;:0.811035,&quot;y&quot;:-0.412125,&quot;z&quot;:-0.953973},{&quot;x&quot;:1.00639,&quot;y&quot;:-0.333471,&quot;z&quot;:-0.981047},{&quot;x&quot;:0.994286,&quot;y&quot;:-0.31619,&quot;z&quot;:-0.991429},{&quot;x&quot;:1.00966,&quot;y&quot;:-0.350561,&quot;z&quot;:-0.996858},{&quot;x&quot;:0.999585,&quot;y&quot;:-0.343843,&quot;z&quot;:-1.01701},{&quot;x&quot;:0.990082,&quot;y&quot;:-0.322601,&quot;z&quot;:-1.01366},{&quot;x&quot;:1,&quot;y&quot;:-0.333333,&quot;z&quot;:-1}], &quot;faces&quot;:[[0,1,2],[0,3,1],[0,4,3],[0,5,4],[0,2,5],[2,1,6,7],[1,3,8,6],[3,4,9,8],[4,5,10,9],[5,2,7,10],[7,6,11],[6,8,11],[8,9,11],[9,10,11],[10,7,11]], &quot;color&quot;:&quot;#0000ff&quot;, &quot;opacity&quot;:1},{&quot;vertices&quot;:[{&quot;x&quot;:0.666667,&quot;y&quot;:-0.5,&quot;z&quot;:-0.888889},{&quot;x&quot;:0.840111,&quot;y&quot;:-0.423269,&quot;z&quot;:-0.88346},{&quot;x&quot;:0.80381,&quot;y&quot;:-0.371429,&quot;z&quot;:-0.914603},{&quot;x&quot;:0.849936,&quot;y&quot;:-0.47454,&quot;z&quot;:-0.930892},{&quot;x&quot;:0.819707,&quot;y&quot;:-0.454387,&quot;z&quot;:-0.99135},{&quot;x&quot;:0.791199,&quot;y&quot;:-0.390661,&quot;z&quot;:-0.981283},{&quot;x&quot;:0.820952,&quot;y&quot;:-0.422857,&quot;z&quot;:-0.940317}], &quot;faces&quot;:[[0,1,2],[0,3,1],[0,4,3],[0,5,4],[0,2,5],[2,1,6],[1,3,6],[3,4,6],[4,5,6],[5,2,6]], &quot;color&quot;:&quot;#0000ff&quot;, &quot;opacity&quot;:1},{&quot;vertices&quot;:[{&quot;x&quot;:0.89087,&quot;y&quot;:-0.418213,&quot;z&quot;:-0.648478},{&quot;x&quot;:0.896981,&quot;y&quot;:-0.422073,&quot;z&quot;:-0.62983},{&quot;x&quot;:0.882441,&quot;y&quot;:-0.404768,&quot;z&quot;:-0.636304},{&quot;x&quot;:0.903074,&quot;y&quot;:-0.434044,&quot;z&quot;:-0.649127},{&quot;x&quot;:0.892302,&quot;y&quot;:-0.424136,&quot;z&quot;:-0.667527},{&quot;x&quot;:0.87955,&quot;y&quot;:-0.406042,&quot;z&quot;:-0.659602},{&quot;x&quot;:1.00611,&quot;y&quot;:-0.337194,&quot;z&quot;:-0.648019},{&quot;x&quot;:0.991572,&quot;y&quot;:-0.319889,&quot;z&quot;:-0.654493},{&quot;x&quot;:1.0122,&quot;y&quot;:-0.349164,&quot;z&quot;:-0.667315},{&quot;x&quot;:1.00143,&quot;y&quot;:-0.339257,&quot;z&quot;:-0.685716},{&quot;x&quot;:0.98868,&quot;y&quot;:-0.321163,&quot;z&quot;:-0.677791},{&quot;x&quot;:1,&quot;y&quot;:-0.333333,&quot;z&quot;:-0.666667}], &quot;faces&quot;:[[0,1,2],[0,3,1],[0,4,3],[0,5,4],[0,2,5],[2,1,6,7],[1,3,8,6],[3,4,9,8],[4,5,10,9],[5,2,7,10],[7,6,11],[6,8,11],[8,9,11],[9,10,11],[10,7,11]], &quot;color&quot;:&quot;#0000ff&quot;, &quot;opacity&quot;:1},{&quot;vertices&quot;:[{&quot;x&quot;:0.75,&quot;y&quot;:-0.527778,&quot;z&quot;:-0.625},{&quot;x&quot;:0.909202,&quot;y&quot;:-0.429795,&quot;z&quot;:-0.592534},{&quot;x&quot;:0.865585,&quot;y&quot;:-0.377878,&quot;z&quot;:-0.611957},{&quot;x&quot;:0.927484,&quot;y&quot;:-0.465706,&quot;z&quot;:-0.650425},{&quot;x&quot;:0.895166,&quot;y&quot;:-0.435982,&quot;z&quot;:-0.705625},{&quot;x&quot;:0.85691,&quot;y&quot;:-0.381702,&quot;z&quot;:-0.681851},{&quot;x&quot;:0.89087,&quot;y&quot;:-0.418213,&quot;z&quot;:-0.648478}], &quot;faces&quot;:[[0,1,2],[0,3,1],[0,4,3],[0,5,4],[0,2,5],[2,1,6],[1,3,6],[3,4,6],[4,5,6],[5,2,6]], &quot;color&quot;:&quot;#0000ff&quot;, &quot;opacity&quot;:1},{&quot;vertices&quot;:[{&quot;x&quot;:0.941333,&quot;y&quot;:-0.411556,&quot;z&quot;:-0.333333},{&quot;x&quot;:0.95054,&quot;y&quot;:-0.418461,&quot;z&quot;:-0.316976},{&quot;x&quot;:0.931733,&quot;y&quot;:-0.404356,&quot;z&quot;:-0.317333},{&quot;x&quot;:0.956624,&quot;y&quot;:-0.423023,&quot;z&quot;:-0.339224},{&quot;x&quot;:0.941576,&quot;y&quot;:-0.411738,&quot;z&quot;:-0.353331},{&quot;x&quot;:0.926193,&quot;y&quot;:-0.4002,&quot;z&quot;:-0.339802},{&quot;x&quot;:1.00921,&quot;y&quot;:-0.340239,&quot;z&quot;:-0.316976},{&quot;x&quot;:0.9904,&quot;y&quot;:-0.326133,&quot;z&quot;:-0.317333},{&quot;x&quot;:1.01529,&quot;y&quot;:-0.344801,&quot;z&quot;:-0.339224},{&quot;x&quot;:1.00024,&quot;y&quot;:-0.333516,&quot;z&quot;:-0.353331},{&quot;x&quot;:0.98486,&quot;y&quot;:-0.321978,&quot;z&quot;:-0.339802},{&quot;x&quot;:1,&quot;y&quot;:-0.333333,&quot;z&quot;:-0.333333}], &quot;faces&quot;:[[0,1,2],[0,3,1],[0,4,3],[0,5,4],[0,2,5],[2,1,6,7],[1,3,8,6],[3,4,9,8],[4,5,10,9],[5,2,7,10],[7,6,11],[6,8,11],[8,9,11],[9,10,11],[10,7,11]], &quot;color&quot;:&quot;#0000ff&quot;, &quot;opacity&quot;:1},{&quot;vertices&quot;:[{&quot;x&quot;:0.833333,&quot;y&quot;:-0.555556,&quot;z&quot;:-0.333333},{&quot;x&quot;:0.968954,&quot;y&quot;:-0.432271,&quot;z&quot;:-0.284262},{&quot;x&quot;:0.912533,&quot;y&quot;:-0.389956,&quot;z&quot;:-0.285333},{&quot;x&quot;:0.987204,&quot;y&quot;:-0.445959,&quot;z&quot;:-0.351006},{&quot;x&quot;:0.942062,&quot;y&quot;:-0.412102,&quot;z&quot;:-0.393326},{&quot;x&quot;:0.895913,&quot;y&quot;:-0.37749,&quot;z&quot;:-0.352739},{&quot;x&quot;:0.941333,&quot;y&quot;:-0.411556,&quot;z&quot;:-0.333333}], &quot;faces&quot;:[[0,1,2],[0,3,1],[0,4,3],[0,5,4],[0,2,5],[2,1,6],[1,3,6],[3,4,6],[4,5,6],[5,2,6]], &quot;color&quot;:&quot;#0000ff&quot;, &quot;opacity&quot;:1},{&quot;vertices&quot;:[{&quot;x&quot;:0.973509,&quot;y&quot;:-0.412807,&quot;z&quot;:-0.0044152},{&quot;x&quot;:0.988576,&quot;y&quot;:-0.418488,&quot;z&quot;:0.00744653},{&quot;x&quot;:0.967193,&quot;y&quot;:-0.411754,&quot;z&quot;:0.0145322},{&quot;x&quot;:0.989137,&quot;y&quot;:-0.417371,&quot;z&quot;:-0.0160316},{&quot;x&quot;:0.9681,&quot;y&quot;:-0.409946,&quot;z&quot;:-0.0234563},{&quot;x&quot;:0.954538,&quot;y&quot;:-0.406475,&quot;z&quot;:-0.00456682},{&quot;x&quot;:1.01507,&quot;y&quot;:-0.339015,&quot;z&quot;:0.0118617},{&quot;x&quot;:0.993684,&quot;y&quot;:-0.332281,&quot;z&quot;:0.0189474},{&quot;x&quot;:1.01563,&quot;y&quot;:-0.337897,&quot;z&quot;:-0.0116164},{&quot;x&quot;:0.994591,&quot;y&quot;:-0.330473,&quot;z&quot;:-0.0190411},{&quot;x&quot;:0.981029,&quot;y&quot;:-0.327001,&quot;z&quot;:-0.000151614},{&quot;x&quot;:1,&quot;y&quot;:-0.333333,&quot;z&quot;:0}], &quot;faces&quot;:[[0,1,2],[0,3,1],[0,4,3],[0,5,4],[0,2,5],[2,1,6,7],[1,3,8,6],[3,4,9,8],[4,5,10,9],[5,2,7,10],[7,6,11],[6,8,11],[8,9,11],[9,10,11],[10,7,11]], &quot;color&quot;:&quot;#0000ff&quot;, &quot;opacity&quot;:1},{&quot;vertices&quot;:[{&quot;x&quot;:0.916667,&quot;y&quot;:-0.583333,&quot;z&quot;:-0.0138889},{&quot;x&quot;:1.01871,&quot;y&quot;:-0.429851,&quot;z&quot;:0.03117},{&quot;x&quot;:0.954561,&quot;y&quot;:-0.409649,&quot;z&quot;:0.0524269},{&quot;x&quot;:1.02039,&quot;y&quot;:-0.426499,&quot;z&quot;:-0.0392645},{&quot;x&quot;:0.957283,&quot;y&quot;:-0.404225,&quot;z&quot;:-0.0615384},{&quot;x&quot;:0.916597,&quot;y&quot;:-0.393811,&quot;z&quot;:-0.00487005},{&quot;x&quot;:0.973509,&quot;y&quot;:-0.412807,&quot;z&quot;:-0.0044152}], &quot;faces&quot;:[[0,1,2],[0,3,1],[0,4,3],[0,5,4],[0,2,5],[2,1,6],[1,3,6],[3,4,6],[4,5,6],[5,2,6]], &quot;color&quot;:&quot;#0000ff&quot;, &quot;opacity&quot;:1},{&quot;vertices&quot;:[{&quot;x&quot;:1,&quot;y&quot;:-0.431111,&quot;z&quot;:0.333333},{&quot;x&quot;:1.01902,&quot;y&quot;:-0.431111,&quot;z&quot;:0.339514},{&quot;x&quot;:1,&quot;y&quot;:-0.431111,&quot;z&quot;:0.353333},{&quot;x&quot;:1.01176,&quot;y&quot;:-0.431111,&quot;z&quot;:0.317153},{&quot;x&quot;:0.988244,&quot;y&quot;:-0.431111,&quot;z&quot;:0.317153},{&quot;x&quot;:0.980979,&quot;y&quot;:-0.431111,&quot;z&quot;:0.339514},{&quot;x&quot;:1.01902,&quot;y&quot;:-0.333333,&quot;z&quot;:0.339514},{&quot;x&quot;:1,&quot;y&quot;:-0.333333,&quot;z&quot;:0.353333},{&quot;x&quot;:1.01176,&quot;y&quot;:-0.333333,&quot;z&quot;:0.317153},{&quot;x&quot;:0.988244,&quot;y&quot;:-0.333333,&quot;z&quot;:0.317153},{&quot;x&quot;:0.980979,&quot;y&quot;:-0.333333,&quot;z&quot;:0.339514},{&quot;x&quot;:1,&quot;y&quot;:-0.333333,&quot;z&quot;:0.333333}], &quot;faces&quot;:[[0,1,2],[0,3,1],[0,4,3],[0,5,4],[0,2,5],[2,1,6,7],[1,3,8,6],[3,4,9,8],[4,5,10,9],[5,2,7,10],[7,6,11],[6,8,11],[8,9,11],[9,10,11],[10,7,11]], &quot;color&quot;:&quot;#0000ff&quot;, &quot;opacity&quot;:1},{&quot;vertices&quot;:[{&quot;x&quot;:1,&quot;y&quot;:-0.611111,&quot;z&quot;:0.333333},{&quot;x&quot;:1.05706,&quot;y&quot;:-0.431111,&quot;z&quot;:0.351874},{&quot;x&quot;:1,&quot;y&quot;:-0.431111,&quot;z&quot;:0.393333},{&quot;x&quot;:1.03527,&quot;y&quot;:-0.431111,&quot;z&quot;:0.284792},{&quot;x&quot;:0.964733,&quot;y&quot;:-0.431111,&quot;z&quot;:0.284792},{&quot;x&quot;:0.942937,&quot;y&quot;:-0.431111,&quot;z&quot;:0.351874},{&quot;x&quot;:1,&quot;y&quot;:-0.431111,&quot;z&quot;:0.333333}], &quot;faces&quot;:[[0,1,2],[0,3,1],[0,4,3],[0,5,4],[0,2,5],[2,1,6],[1,3,6],[3,4,6],[4,5,6],[5,2,6]], &quot;color&quot;:&quot;#0000ff&quot;, &quot;opacity&quot;:1},{&quot;vertices&quot;:[{&quot;x&quot;:1.03638,&quot;y&quot;:-0.466715,&quot;z&quot;:0.684855},{&quot;x&quot;:1.05562,&quot;y&quot;:-0.461338,&quot;z&quot;:0.685805},{&quot;x&quot;:1.04079,&quot;y&quot;:-0.462902,&quot;z&quot;:0.703986},{&quot;x&quot;:1.04385,&quot;y&quot;:-0.467205,&quot;z&quot;:0.666312},{&quot;x&quot;:1.02176,&quot;y&quot;:-0.472394,&quot;z&quot;:0.672445},{&quot;x&quot;:1.01986,&quot;y&quot;:-0.469735,&quot;z&quot;:0.695729},{&quot;x&quot;:1.01924,&quot;y&quot;:-0.327956,&quot;z&quot;:0.667616},{&quot;x&quot;:1.00441,&quot;y&quot;:-0.329521,&quot;z&quot;:0.685797},{&quot;x&quot;:1.00748,&quot;y&quot;:-0.333823,&quot;z&quot;:0.648123},{&quot;x&quot;:0.98538,&quot;y&quot;:-0.339013,&quot;z&quot;:0.654257},{&quot;x&quot;:0.983488,&quot;y&quot;:-0.336354,&quot;z&quot;:0.67754},{&quot;x&quot;:1,&quot;y&quot;:-0.333333,&quot;z&quot;:0.666667}], &quot;faces&quot;:[[0,1,2],[0,3,1],[0,4,3],[0,5,4],[0,2,5],[2,1,6,7],[1,3,8,6],[3,4,9,8],[4,5,10,9],[5,2,7,10],[7,6,11],[6,8,11],[8,9,11],[9,10,11],[10,7,11]], &quot;color&quot;:&quot;#0000ff&quot;, &quot;opacity&quot;:1},{&quot;vertices&quot;:[{&quot;x&quot;:1.08333,&quot;y&quot;:-0.638889,&quot;z&quot;:0.708333},{&quot;x&quot;:1.0941,&quot;y&quot;:-0.450584,&quot;z&quot;:0.687704},{&quot;x&quot;:1.04962,&quot;y&quot;:-0.455277,&quot;z&quot;:0.742246},{&quot;x&quot;:1.05881,&quot;y&quot;:-0.468184,&quot;z&quot;:0.629224},{&quot;x&quot;:0.992518,&quot;y&quot;:-0.483753,&quot;z&quot;:0.647625},{&quot;x&quot;:0.986841,&quot;y&quot;:-0.475776,&quot;z&quot;:0.717476},{&quot;x&quot;:1.03638,&quot;y&quot;:-0.466715,&quot;z&quot;:0.684855}], &quot;faces&quot;:[[0,1,2],[0,3,1],[0,4,3],[0,5,4],[0,2,5],[2,1,6],[1,3,6],[3,4,6],[4,5,6],[5,2,6]], &quot;color&quot;:&quot;#0000ff&quot;, &quot;opacity&quot;:1},{&quot;vertices&quot;:[{&quot;x&quot;:1.08952,&quot;y&quot;:-0.512381,&quot;z&quot;:1.05968},{&quot;x&quot;:1.10759,&quot;y&quot;:-0.504298,&quot;z&quot;:1.05683},{&quot;x&quot;:1.09524,&quot;y&quot;:-0.50381,&quot;z&quot;:1.07683},{&quot;x&quot;:1.09498,&quot;y&quot;:-0.515957,&quot;z&quot;:1.04078},{&quot;x&quot;:1.07482,&quot;y&quot;:-0.522674,&quot;z&quot;:1.05085},{&quot;x&quot;:1.07499,&quot;y&quot;:-0.515167,&quot;z&quot;:1.07313},{&quot;x&quot;:1.01807,&quot;y&quot;:-0.32525,&quot;z&quot;:0.997146},{&quot;x&quot;:1.00571,&quot;y&quot;:-0.324762,&quot;z&quot;:1.01714},{&quot;x&quot;:1.00545,&quot;y&quot;:-0.336909,&quot;z&quot;:0.981093},{&quot;x&quot;:0.985301,&quot;y&quot;:-0.343627,&quot;z&quot;:0.991169},{&quot;x&quot;:0.985462,&quot;y&quot;:-0.336119,&quot;z&quot;:1.01345},{&quot;x&quot;:1,&quot;y&quot;:-0.333333,&quot;z&quot;:1}], &quot;faces&quot;:[[0,1,2],[0,3,1],[0,4,3],[0,5,4],[0,2,5],[2,1,6,7],[1,3,8,6],[3,4,9,8],[4,5,10,9],[5,2,7,10],[7,6,11],[6,8,11],[8,9,11],[9,10,11],[10,7,11]], &quot;color&quot;:&quot;#0000ff&quot;, &quot;opacity&quot;:1},{&quot;vertices&quot;:[{&quot;x&quot;:1.16667,&quot;y&quot;:-0.666667,&quot;z&quot;:1.11111},{&quot;x&quot;:1.14373,&quot;y&quot;:-0.488131,&quot;z&quot;:1.05112},{&quot;x&quot;:1.10667,&quot;y&quot;:-0.486667,&quot;z&quot;:1.11111},{&quot;x&quot;:1.10588,&quot;y&quot;:-0.523108,&quot;z&quot;:1.00296},{&quot;x&quot;:1.04543,&quot;y&quot;:-0.543261,&quot;z&quot;:1.03319},{&quot;x&quot;:1.04591,&quot;y&quot;:-0.520739,&quot;z&quot;:1.10003},{&quot;x&quot;:1.08952,&quot;y&quot;:-0.512381,&quot;z&quot;:1.05968}], &quot;faces&quot;:[[0,1,2],[0,3,1],[0,4,3],[0,5,4],[0,2,5],[2,1,6],[1,3,6],[3,4,6],[4,5,6],[5,2,6]], &quot;color&quot;:&quot;#0000ff&quot;, &quot;opacity&quot;:1},{&quot;vertices&quot;:[{&quot;x&quot;:0.87,&quot;y&quot;:-0.13,&quot;z&quot;:-0.935},{&quot;x&quot;:0.880621,&quot;y&quot;:-0.13222,&quot;z&quot;:-0.918199},{&quot;x&quot;:0.863333,&quot;y&quot;:-0.116667,&quot;z&quot;:-0.921667},{&quot;x&quot;:0.883231,&quot;y&quot;:-0.144705,&quot;z&quot;:-0.93795},{&quot;x&quot;:0.867556,&quot;y&quot;:-0.136868,&quot;z&quot;:-0.953624},{&quot;x&quot;:0.855259,&quot;y&quot;:-0.119539,&quot;z&quot;:-0.943561},{&quot;x&quot;:1.01062,&quot;y&quot;:-0.00222015,&quot;z&quot;:-0.983199},{&quot;x&quot;:0.993333,&quot;y&quot;:0.0133333,&quot;z&quot;:-0.986667},{&quot;x&quot;:1.01323,&quot;y&quot;:-0.0147055,&quot;z&quot;:-1.00295},{&quot;x&quot;:0.997556,&quot;y&quot;:-0.00686832,&quot;z&quot;:-1.01862},{&quot;x&quot;:0.985259,&quot;y&quot;:0.0104606,&quot;z&quot;:-1.00856},{&quot;x&quot;:1,&quot;y&quot;:0,&quot;z&quot;:-1}], &quot;faces&quot;:[[0,1,2],[0,3,1],[0,4,3],[0,5,4],[0,2,5],[2,1,6,7],[1,3,8,6],[3,4,9,8],[4,5,10,9],[5,2,7,10],[7,6,11],[6,8,11],[8,9,11],[9,10,11],[10,7,11]], &quot;color&quot;:&quot;#0000ff&quot;, &quot;opacity&quot;:1},{&quot;vertices&quot;:[{&quot;x&quot;:0.75,&quot;y&quot;:-0.25,&quot;z&quot;:-0.875},{&quot;x&quot;:0.901862,&quot;y&quot;:-0.13666,&quot;z&quot;:-0.884597},{&quot;x&quot;:0.85,&quot;y&quot;:-0.09,&quot;z&quot;:-0.895},{&quot;x&quot;:0.909692,&quot;y&quot;:-0.174116,&quot;z&quot;:-0.943849},{&quot;x&quot;:0.862669,&quot;y&quot;:-0.150605,&quot;z&quot;:-0.990872},{&quot;x&quot;:0.825777,&quot;y&quot;:-0.0986182,&quot;z&quot;:-0.960682},{&quot;x&quot;:0.87,&quot;y&quot;:-0.13,&quot;z&quot;:-0.935}], &quot;faces&quot;:[[0,1,2],[0,3,1],[0,4,3],[0,5,4],[0,2,5],[2,1,6],[1,3,6],[3,4,6],[4,5,6],[5,2,6]], &quot;color&quot;:&quot;#0000ff&quot;, &quot;opacity&quot;:1},{&quot;vertices&quot;:[{&quot;x&quot;:0.931515,&quot;y&quot;:-0.102727,&quot;z&quot;:-0.643838},{&quot;x&quot;:0.943414,&quot;y&quot;:-0.10723,&quot;z&quot;:-0.628407},{&quot;x&quot;:0.923963,&quot;y&quot;:-0.0940559,&quot;z&quot;:-0.627475},{&quot;x&quot;:0.946421,&quot;y&quot;:-0.114182,&quot;z&quot;:-0.650665},{&quot;x&quot;:0.928829,&quot;y&quot;:-0.105303,&quot;z&quot;:-0.663489},{&quot;x&quot;:0.914949,&quot;y&quot;:-0.0928649,&quot;z&quot;:-0.649157},{&quot;x&quot;:1.0119,&quot;y&quot;:-0.00450322,&quot;z&quot;:-0.651235},{&quot;x&quot;:0.992448,&quot;y&quot;:0.00867133,&quot;z&quot;:-0.650303},{&quot;x&quot;:1.01491,&quot;y&quot;:-0.0114545,&quot;z&quot;:-0.673493},{&quot;x&quot;:0.997314,&quot;y&quot;:-0.00257603,&quot;z&quot;:-0.686317},{&quot;x&quot;:0.983434,&quot;y&quot;:0.00986239,&quot;z&quot;:-0.671985},{&quot;x&quot;:1,&quot;y&quot;:0,&quot;z&quot;:-0.666667}], &quot;faces&quot;:[[0,1,2],[0,3,1],[0,4,3],[0,5,4],[0,2,5],[2,1,6,7],[1,3,8,6],[3,4,9,8],[4,5,10,9],[5,2,7,10],[7,6,11],[6,8,11],[8,9,11],[9,10,11],[10,7,11]], &quot;color&quot;:&quot;#0000ff&quot;, &quot;opacity&quot;:1},{&quot;vertices&quot;:[{&quot;x&quot;:0.833333,&quot;y&quot;:-0.25,&quot;z&quot;:-0.611111},{&quot;x&quot;:0.967211,&quot;y&quot;:-0.116237,&quot;z&quot;:-0.597543},{&quot;x&quot;:0.908858,&quot;y&quot;:-0.0767133,&quot;z&quot;:-0.594747},{&quot;x&quot;:0.976234,&quot;y&quot;:-0.137091,&quot;z&quot;:-0.664317},{&quot;x&quot;:0.923457,&quot;y&quot;:-0.110455,&quot;z&quot;:-0.70279},{&quot;x&quot;:0.881816,&quot;y&quot;:-0.0731401,&quot;z&quot;:-0.659794},{&quot;x&quot;:0.931515,&quot;y&quot;:-0.102727,&quot;z&quot;:-0.643838}], &quot;faces&quot;:[[0,1,2],[0,3,1],[0,4,3],[0,5,4],[0,2,5],[2,1,6],[1,3,6],[3,4,6],[4,5,6],[5,2,6]], &quot;color&quot;:&quot;#0000ff&quot;, &quot;opacity&quot;:1},{&quot;vertices&quot;:[{&quot;x&quot;:0.973509,&quot;y&quot;:-0.0794737,&quot;z&quot;:-0.328918},{&quot;x&quot;:0.988971,&quot;y&quot;:-0.0839689,&quot;z&quot;:-0.317056},{&quot;x&quot;:0.967825,&quot;y&quot;:-0.0765263,&quot;z&quot;:-0.309971},{&quot;x&quot;:0.988749,&quot;y&quot;:-0.0851993,&quot;z&quot;:-0.340535},{&quot;x&quot;:0.967465,&quot;y&quot;:-0.0785171,&quot;z&quot;:-0.347959},{&quot;x&quot;:0.954533,&quot;y&quot;:-0.0731569,&quot;z&quot;:-0.32907},{&quot;x&quot;:1.01546,&quot;y&quot;:-0.00449522,&quot;z&quot;:-0.321472},{&quot;x&quot;:0.994316,&quot;y&quot;:0.00294737,&quot;z&quot;:-0.314386},{&quot;x&quot;:1.01524,&quot;y&quot;:-0.00572557,&quot;z&quot;:-0.34495},{&quot;x&quot;:0.993957,&quot;y&quot;:0.000956624,&quot;z&quot;:-0.352374},{&quot;x&quot;:0.981024,&quot;y&quot;:0.00631679,&quot;z&quot;:-0.333485},{&quot;x&quot;:1,&quot;y&quot;:0,&quot;z&quot;:-0.333333}], &quot;faces&quot;:[[0,1,2],[0,3,1],[0,4,3],[0,5,4],[0,2,5],[2,1,6,7],[1,3,8,6],[3,4,9,8],[4,5,10,9],[5,2,7,10],[7,6,11],[6,8,11],[8,9,11],[9,10,11],[10,7,11]], &quot;color&quot;:&quot;#0000ff&quot;, &quot;opacity&quot;:1},{&quot;vertices&quot;:[{&quot;x&quot;:0.916667,&quot;y&quot;:-0.25,&quot;z&quot;:-0.319444},{&quot;x&quot;:1.0199,&quot;y&quot;:-0.0929593,&quot;z&quot;:-0.293333},{&quot;x&quot;:0.956456,&quot;y&quot;:-0.0706316,&quot;z&quot;:-0.272076},{&quot;x&quot;:1.01923,&quot;y&quot;:-0.0966504,&quot;z&quot;:-0.363767},{&quot;x&quot;:0.955379,&quot;y&quot;:-0.0766038,&quot;z&quot;:-0.386041},{&quot;x&quot;:0.916582,&quot;y&quot;:-0.0605233,&quot;z&quot;:-0.329373},{&quot;x&quot;:0.973509,&quot;y&quot;:-0.0794737,&quot;z&quot;:-0.328918}], &quot;faces&quot;:[[0,1,2],[0,3,1],[0,4,3],[0,5,4],[0,2,5],[2,1,6],[1,3,6],[3,4,6],[4,5,6],[5,2,6]], &quot;color&quot;:&quot;#0000ff&quot;, &quot;opacity&quot;:1},{&quot;vertices&quot;:[{&quot;x&quot;:1,&quot;y&quot;:-0.07,&quot;z&quot;:4.28626e-18},{&quot;x&quot;:1.01902,&quot;y&quot;:-0.07,&quot;z&quot;:0.00618034},{&quot;x&quot;:1,&quot;y&quot;:-0.07,&quot;z&quot;:0.02},{&quot;x&quot;:1.01176,&quot;y&quot;:-0.07,&quot;z&quot;:-0.0161803},{&quot;x&quot;:0.988244,&quot;y&quot;:-0.07,&quot;z&quot;:-0.0161803},{&quot;x&quot;:0.980979,&quot;y&quot;:-0.07,&quot;z&quot;:0.00618034},{&quot;x&quot;:1.01902,&quot;y&quot;:3.78437e-19,&quot;z&quot;:0.00618034},{&quot;x&quot;:1,&quot;y&quot;:1.22465e-18,&quot;z&quot;:0.02},{&quot;x&quot;:1.01176,&quot;y&quot;:-9.9076e-19,&quot;z&quot;:-0.0161803},{&quot;x&quot;:0.988244,&quot;y&quot;:-9.9076e-19,&quot;z&quot;:-0.0161803},{&quot;x&quot;:0.980979,&quot;y&quot;:3.78437e-19,&quot;z&quot;:0.00618034},{&quot;x&quot;:1,&quot;y&quot;:0,&quot;z&quot;:0}], &quot;faces&quot;:[[0,1,2],[0,3,1],[0,4,3],[0,5,4],[0,2,5],[2,1,6,7],[1,3,8,6],[3,4,9,8],[4,5,10,9],[5,2,7,10],[7,6,11],[6,8,11],[8,9,11],[9,10,11],[10,7,11]], &quot;color&quot;:&quot;#0000ff&quot;, &quot;opacity&quot;:1},{&quot;vertices&quot;:[{&quot;x&quot;:1,&quot;y&quot;:-0.25,&quot;z&quot;:1.53081e-17},{&quot;x&quot;:1.05706,&quot;y&quot;:-0.07,&quot;z&quot;:0.018541},{&quot;x&quot;:1,&quot;y&quot;:-0.07,&quot;z&quot;:0.06},{&quot;x&quot;:1.03527,&quot;y&quot;:-0.07,&quot;z&quot;:-0.048541},{&quot;x&quot;:0.964733,&quot;y&quot;:-0.07,&quot;z&quot;:-0.048541},{&quot;x&quot;:0.942937,&quot;y&quot;:-0.07,&quot;z&quot;:0.018541},{&quot;x&quot;:1,&quot;y&quot;:-0.07,&quot;z&quot;:4.28626e-18}], &quot;faces&quot;:[[0,1,2],[0,3,1],[0,4,3],[0,5,4],[0,2,5],[2,1,6],[1,3,6],[3,4,6],[4,5,6],[5,2,6]], &quot;color&quot;:&quot;#0000ff&quot;, &quot;opacity&quot;:1},{&quot;vertices&quot;:[{&quot;x&quot;:1.02649,&quot;y&quot;:-0.0794737,&quot;z&quot;:0.337749},{&quot;x&quot;:1.04547,&quot;y&quot;:-0.0731569,&quot;z&quot;:0.337597},{&quot;x&quot;:1.03218,&quot;y&quot;:-0.0765263,&quot;z&quot;:0.356696},{&quot;x&quot;:1.03253,&quot;y&quot;:-0.0785171,&quot;z&quot;:0.318707},{&quot;x&quot;:1.01125,&quot;y&quot;:-0.0851993,&quot;z&quot;:0.326132},{&quot;x&quot;:1.01103,&quot;y&quot;:-0.0839689,&quot;z&quot;:0.34961},{&quot;x&quot;:1.01898,&quot;y&quot;:0.00631679,&quot;z&quot;:0.333182},{&quot;x&quot;:1.00568,&quot;y&quot;:0.00294737,&quot;z&quot;:0.352281},{&quot;x&quot;:1.00604,&quot;y&quot;:0.000956624,&quot;z&quot;:0.314292},{&quot;x&quot;:0.984759,&quot;y&quot;:-0.00572557,&quot;z&quot;:0.321717},{&quot;x&quot;:0.984537,&quot;y&quot;:-0.00449522,&quot;z&quot;:0.345195},{&quot;x&quot;:1,&quot;y&quot;:0,&quot;z&quot;:0.333333}], &quot;faces&quot;:[[0,1,2],[0,3,1],[0,4,3],[0,5,4],[0,2,5],[2,1,6,7],[1,3,8,6],[3,4,9,8],[4,5,10,9],[5,2,7,10],[7,6,11],[6,8,11],[8,9,11],[9,10,11],[10,7,11]], &quot;color&quot;:&quot;#0000ff&quot;, &quot;opacity&quot;:1},{&quot;vertices&quot;:[{&quot;x&quot;:1.08333,&quot;y&quot;:-0.25,&quot;z&quot;:0.347222},{&quot;x&quot;:1.08342,&quot;y&quot;:-0.0605233,&quot;z&quot;:0.337294},{&quot;x&quot;:1.04354,&quot;y&quot;:-0.0706316,&quot;z&quot;:0.394591},{&quot;x&quot;:1.04462,&quot;y&quot;:-0.0766038,&quot;z&quot;:0.280625},{&quot;x&quot;:0.980769,&quot;y&quot;:-0.0966504,&quot;z&quot;:0.302899},{&quot;x&quot;:0.980103,&quot;y&quot;:-0.0929593,&quot;z&quot;:0.373334},{&quot;x&quot;:1.02649,&quot;y&quot;:-0.0794737,&quot;z&quot;:0.337749}], &quot;faces&quot;:[[0,1,2],[0,3,1],[0,4,3],[0,5,4],[0,2,5],[2,1,6],[1,3,6],[3,4,6],[4,5,6],[5,2,6]], &quot;color&quot;:&quot;#0000ff&quot;, &quot;opacity&quot;:1},{&quot;vertices&quot;:[{&quot;x&quot;:1.06848,&quot;y&quot;:-0.102727,&quot;z&quot;:0.689495},{&quot;x&quot;:1.08505,&quot;y&quot;:-0.0928649,&quot;z&quot;:0.684176},{&quot;x&quot;:1.07604,&quot;y&quot;:-0.0940559,&quot;z&quot;:0.705859},{&quot;x&quot;:1.07117,&quot;y&quot;:-0.105303,&quot;z&quot;:0.669844},{&quot;x&quot;:1.05358,&quot;y&quot;:-0.114182,&quot;z&quot;:0.682669},{&quot;x&quot;:1.05659,&quot;y&quot;:-0.10723,&quot;z&quot;:0.704927},{&quot;x&quot;:1.01657,&quot;y&quot;:0.00986239,&quot;z&quot;:0.661348},{&quot;x&quot;:1.00755,&quot;y&quot;:0.00867133,&quot;z&quot;:0.68303},{&quot;x&quot;:1.00269,&quot;y&quot;:-0.00257603,&quot;z&quot;:0.647016},{&quot;x&quot;:0.985094,&quot;y&quot;:-0.0114545,&quot;z&quot;:0.65984},{&quot;x&quot;:0.988101,&quot;y&quot;:-0.00450322,&quot;z&quot;:0.682098},{&quot;x&quot;:1,&quot;y&quot;:0,&quot;z&quot;:0.666667}], &quot;faces&quot;:[[0,1,2],[0,3,1],[0,4,3],[0,5,4],[0,2,5],[2,1,6,7],[1,3,8,6],[3,4,9,8],[4,5,10,9],[5,2,7,10],[7,6,11],[6,8,11],[8,9,11],[9,10,11],[10,7,11]], &quot;color&quot;:&quot;#0000ff&quot;, &quot;opacity&quot;:1},{&quot;vertices&quot;:[{&quot;x&quot;:1.16667,&quot;y&quot;:-0.25,&quot;z&quot;:0.722222},{&quot;x&quot;:1.11818,&quot;y&quot;:-0.0731401,&quot;z&quot;:0.673539},{&quot;x&quot;:1.09114,&quot;y&quot;:-0.0767133,&quot;z&quot;:0.738586},{&quot;x&quot;:1.07654,&quot;y&quot;:-0.110455,&quot;z&quot;:0.630543},{&quot;x&quot;:1.02377,&quot;y&quot;:-0.137091,&quot;z&quot;:0.669016},{&quot;x&quot;:1.03279,&quot;y&quot;:-0.116237,&quot;z&quot;:0.73579},{&quot;x&quot;:1.06848,&quot;y&quot;:-0.102727,&quot;z&quot;:0.689495}], &quot;faces&quot;:[[0,1,2],[0,3,1],[0,4,3],[0,5,4],[0,2,5],[2,1,6],[1,3,6],[3,4,6],[4,5,6],[5,2,6]], &quot;color&quot;:&quot;#0000ff&quot;, &quot;opacity&quot;:1},{&quot;vertices&quot;:[{&quot;x&quot;:1.13,&quot;y&quot;:-0.13,&quot;z&quot;:1.065},{&quot;x&quot;:1.14474,&quot;y&quot;:-0.119539,&quot;z&quot;:1.05644},{&quot;x&quot;:1.13667,&quot;y&quot;:-0.116667,&quot;z&quot;:1.07833},{&quot;x&quot;:1.13244,&quot;y&quot;:-0.136868,&quot;z&quot;:1.04638},{&quot;x&quot;:1.11677,&quot;y&quot;:-0.144705,&quot;z&quot;:1.06205},{&quot;x&quot;:1.11938,&quot;y&quot;:-0.13222,&quot;z&quot;:1.0818},{&quot;x&quot;:1.01474,&quot;y&quot;:0.0104606,&quot;z&quot;:0.991439},{&quot;x&quot;:1.00667,&quot;y&quot;:0.0133333,&quot;z&quot;:1.01333},{&quot;x&quot;:1.00244,&quot;y&quot;:-0.00686832,&quot;z&quot;:0.981376},{&quot;x&quot;:0.986769,&quot;y&quot;:-0.0147055,&quot;z&quot;:0.99705},{&quot;x&quot;:0.989379,&quot;y&quot;:-0.00222015,&quot;z&quot;:1.0168},{&quot;x&quot;:1,&quot;y&quot;:0,&quot;z&quot;:1}], &quot;faces&quot;:[[0,1,2],[0,3,1],[0,4,3],[0,5,4],[0,2,5],[2,1,6,7],[1,3,8,6],[3,4,9,8],[4,5,10,9],[5,2,7,10],[7,6,11],[6,8,11],[8,9,11],[9,10,11],[10,7,11]], &quot;color&quot;:&quot;#0000ff&quot;, &quot;opacity&quot;:1},{&quot;vertices&quot;:[{&quot;x&quot;:1.25,&quot;y&quot;:-0.25,&quot;z&quot;:1.125},{&quot;x&quot;:1.17422,&quot;y&quot;:-0.0986182,&quot;z&quot;:1.03932},{&quot;x&quot;:1.15,&quot;y&quot;:-0.09,&quot;z&quot;:1.105},{&quot;x&quot;:1.13733,&quot;y&quot;:-0.150605,&quot;z&quot;:1.00913},{&quot;x&quot;:1.09031,&quot;y&quot;:-0.174116,&quot;z&quot;:1.05615},{&quot;x&quot;:1.09814,&quot;y&quot;:-0.13666,&quot;z&quot;:1.1154},{&quot;x&quot;:1.13,&quot;y&quot;:-0.13,&quot;z&quot;:1.065}], &quot;faces&quot;:[[0,1,2],[0,3,1],[0,4,3],[0,5,4],[0,2,5],[2,1,6],[1,3,6],[3,4,6],[4,5,6],[5,2,6]], &quot;color&quot;:&quot;#0000ff&quot;, &quot;opacity&quot;:1},{&quot;vertices&quot;:[{&quot;x&quot;:0.910476,&quot;y&quot;:0.154286,&quot;z&quot;:-0.940317},{&quot;x&quot;:0.925014,&quot;y&quot;:0.1515,&quot;z&quot;:-0.926868},{&quot;x&quot;:0.904762,&quot;y&quot;:0.162857,&quot;z&quot;:-0.923175},{&quot;x&quot;:0.925175,&quot;y&quot;:0.143993,&quot;z&quot;:-0.949148},{&quot;x&quot;:0.905023,&quot;y&quot;:0.15071,&quot;z&quot;:-0.959224},{&quot;x&quot;:0.892407,&quot;y&quot;:0.162369,&quot;z&quot;:-0.943172},{&quot;x&quot;:1.01454,&quot;y&quot;:0.330547,&quot;z&quot;:-0.986551},{&quot;x&quot;:0.994286,&quot;y&quot;:0.341905,&quot;z&quot;:-0.982857},{&quot;x&quot;:1.0147,&quot;y&quot;:0.32304,&quot;z&quot;:-1.00883},{&quot;x&quot;:0.994547,&quot;y&quot;:0.329758,&quot;z&quot;:-1.01891},{&quot;x&quot;:0.98193,&quot;y&quot;:0.341417,&quot;z&quot;:-1.00285},{&quot;x&quot;:1,&quot;y&quot;:0.333333,&quot;z&quot;:-1}], &quot;faces&quot;:[[0,1,2],[0,3,1],[0,4,3],[0,5,4],[0,2,5],[2,1,6,7],[1,3,8,6],[3,4,9,8],[4,5,10,9],[5,2,7,10],[7,6,11],[6,8,11],[8,9,11],[9,10,11],[10,7,11]], &quot;color&quot;:&quot;#0000ff&quot;, &quot;opacity&quot;:1},{&quot;vertices&quot;:[{&quot;x&quot;:0.833333,&quot;y&quot;:-2.77556e-17,&quot;z&quot;:-0.888889},{&quot;x&quot;:0.95409,&quot;y&quot;:0.145928,&quot;z&quot;:-0.899969},{&quot;x&quot;:0.893333,&quot;y&quot;:0.18,&quot;z&quot;:-0.888889},{&quot;x&quot;:0.954574,&quot;y&quot;:0.123406,&quot;z&quot;:-0.96681},{&quot;x&quot;:0.894116,&quot;y&quot;:0.143559,&quot;z&quot;:-0.997039},{&quot;x&quot;:0.856267,&quot;y&quot;:0.178536,&quot;z&quot;:-0.948881},{&quot;x&quot;:0.910476,&quot;y&quot;:0.154286,&quot;z&quot;:-0.940317}], &quot;faces&quot;:[[0,1,2],[0,3,1],[0,4,3],[0,5,4],[0,2,5],[2,1,6],[1,3,6],[3,4,6],[4,5,6],[5,2,6]], &quot;color&quot;:&quot;#0000ff&quot;, &quot;opacity&quot;:1},{&quot;vertices&quot;:[{&quot;x&quot;:0.963623,&quot;y&quot;:0.199952,&quot;z&quot;:-0.648478},{&quot;x&quot;:0.980135,&quot;y&quot;:0.196931,&quot;z&quot;:-0.637605},{&quot;x&quot;:0.959208,&quot;y&quot;:0.203764,&quot;z&quot;:-0.629348},{&quot;x&quot;:0.978243,&quot;y&quot;:0.194272,&quot;z&quot;:-0.660888},{&quot;x&quot;:0.956147,&quot;y&quot;:0.199462,&quot;z&quot;:-0.667022},{&quot;x&quot;:0.944383,&quot;y&quot;:0.205329,&quot;z&quot;:-0.647529},{&quot;x&quot;:1.01651,&quot;y&quot;:0.330313,&quot;z&quot;:-0.655793},{&quot;x&quot;:0.995585,&quot;y&quot;:0.337146,&quot;z&quot;:-0.647536},{&quot;x&quot;:1.01462,&quot;y&quot;:0.327654,&quot;z&quot;:-0.679077},{&quot;x&quot;:0.992524,&quot;y&quot;:0.332844,&quot;z&quot;:-0.68521},{&quot;x&quot;:0.98076,&quot;y&quot;:0.33871,&quot;z&quot;:-0.665717},{&quot;x&quot;:1,&quot;y&quot;:0.333333,&quot;z&quot;:-0.666667}], &quot;faces&quot;:[[0,1,2],[0,3,1],[0,4,3],[0,5,4],[0,2,5],[2,1,6,7],[1,3,8,6],[3,4,9,8],[4,5,10,9],[5,2,7,10],[7,6,11],[6,8,11],[8,9,11],[9,10,11],[10,7,11]], &quot;color&quot;:&quot;#0000ff&quot;, &quot;opacity&quot;:1},{&quot;vertices&quot;:[{&quot;x&quot;:0.916667,&quot;y&quot;:0.0277778,&quot;z&quot;:-0.625},{&quot;x&quot;:1.01316,&quot;y&quot;:0.19089,&quot;z&quot;:-0.615857},{&quot;x&quot;:0.950379,&quot;y&quot;:0.21139,&quot;z&quot;:-0.591087},{&quot;x&quot;:1.00748,&quot;y&quot;:0.182913,&quot;z&quot;:-0.685709},{&quot;x&quot;:0.941194,&quot;y&quot;:0.198483,&quot;z&quot;:-0.704109},{&quot;x&quot;:0.905902,&quot;y&quot;:0.216082,&quot;z&quot;:-0.645629},{&quot;x&quot;:0.963623,&quot;y&quot;:0.199952,&quot;z&quot;:-0.648478}], &quot;faces&quot;:[[0,1,2],[0,3,1],[0,4,3],[0,5,4],[0,2,5],[2,1,6],[1,3,6],[3,4,6],[4,5,6],[5,2,6]], &quot;color&quot;:&quot;#0000ff&quot;, &quot;opacity&quot;:1},{&quot;vertices&quot;:[{&quot;x&quot;:1,&quot;y&quot;:0.235556,&quot;z&quot;:-0.333333},{&quot;x&quot;:1.01902,&quot;y&quot;:0.235556,&quot;z&quot;:-0.327153},{&quot;x&quot;:1,&quot;y&quot;:0.235556,&quot;z&quot;:-0.313333},{&quot;x&quot;:1.01176,&quot;y&quot;:0.235556,&quot;z&quot;:-0.349514},{&quot;x&quot;:0.988244,&quot;y&quot;:0.235556,&quot;z&quot;:-0.349514},{&quot;x&quot;:0.980979,&quot;y&quot;:0.235556,&quot;z&quot;:-0.327153},{&quot;x&quot;:1.01902,&quot;y&quot;:0.333333,&quot;z&quot;:-0.327153},{&quot;x&quot;:1,&quot;y&quot;:0.333333,&quot;z&quot;:-0.313333},{&quot;x&quot;:1.01176,&quot;y&quot;:0.333333,&quot;z&quot;:-0.349514},{&quot;x&quot;:0.988244,&quot;y&quot;:0.333333,&quot;z&quot;:-0.349514},{&quot;x&quot;:0.980979,&quot;y&quot;:0.333333,&quot;z&quot;:-0.327153},{&quot;x&quot;:1,&quot;y&quot;:0.333333,&quot;z&quot;:-0.333333}], &quot;faces&quot;:[[0,1,2],[0,3,1],[0,4,3],[0,5,4],[0,2,5],[2,1,6,7],[1,3,8,6],[3,4,9,8],[4,5,10,9],[5,2,7,10],[7,6,11],[6,8,11],[8,9,11],[9,10,11],[10,7,11]], &quot;color&quot;:&quot;#0000ff&quot;, &quot;opacity&quot;:1},{&quot;vertices&quot;:[{&quot;x&quot;:1,&quot;y&quot;:0.0555556,&quot;z&quot;:-0.333333},{&quot;x&quot;:1.05706,&quot;y&quot;:0.235556,&quot;z&quot;:-0.314792},{&quot;x&quot;:1,&quot;y&quot;:0.235556,&quot;z&quot;:-0.273333},{&quot;x&quot;:1.03527,&quot;y&quot;:0.235556,&quot;z&quot;:-0.381874},{&quot;x&quot;:0.964733,&quot;y&quot;:0.235556,&quot;z&quot;:-0.381874},{&quot;x&quot;:0.942937,&quot;y&quot;:0.235556,&quot;z&quot;:-0.314792},{&quot;x&quot;:1,&quot;y&quot;:0.235556,&quot;z&quot;:-0.333333}], &quot;faces&quot;:[[0,1,2],[0,3,1],[0,4,3],[0,5,4],[0,2,5],[2,1,6],[1,3,6],[3,4,6],[4,5,6],[5,2,6]], &quot;color&quot;:&quot;#0000ff&quot;, &quot;opacity&quot;:1},{&quot;vertices&quot;:[{&quot;x&quot;:1.02649,&quot;y&quot;:0.25386,&quot;z&quot;:-0.0044152},{&quot;x&quot;:1.04546,&quot;y&quot;:0.260192,&quot;z&quot;:-0.00456682},{&quot;x&quot;:1.03281,&quot;y&quot;:0.254912,&quot;z&quot;:0.0145322},{&quot;x&quot;:1.0319,&quot;y&quot;:0.25672,&quot;z&quot;:-0.0234563},{&quot;x&quot;:1.01086,&quot;y&quot;:0.249296,&quot;z&quot;:-0.0160316},{&quot;x&quot;:1.01142,&quot;y&quot;:0.248178,&quot;z&quot;:0.00744653},{&quot;x&quot;:1.01897,&quot;y&quot;:0.339665,&quot;z&quot;:-0.000151614},{&quot;x&quot;:1.00632,&quot;y&quot;:0.334386,&quot;z&quot;:0.0189474},{&quot;x&quot;:1.00541,&quot;y&quot;:0.336194,&quot;z&quot;:-0.0190411},{&quot;x&quot;:0.984372,&quot;y&quot;:0.328769,&quot;z&quot;:-0.0116164},{&quot;x&quot;:0.984933,&quot;y&quot;:0.327652,&quot;z&quot;:0.0118617},{&quot;x&quot;:1,&quot;y&quot;:0.333333,&quot;z&quot;:0}], &quot;faces&quot;:[[0,1,2],[0,3,1],[0,4,3],[0,5,4],[0,2,5],[2,1,6,7],[1,3,8,6],[3,4,9,8],[4,5,10,9],[5,2,7,10],[7,6,11],[6,8,11],[8,9,11],[9,10,11],[10,7,11]], &quot;color&quot;:&quot;#0000ff&quot;, &quot;opacity&quot;:1},{&quot;vertices&quot;:[{&quot;x&quot;:1.08333,&quot;y&quot;:0.0833333,&quot;z&quot;:-0.0138889},{&quot;x&quot;:1.0834,&quot;y&quot;:0.272856,&quot;z&quot;:-0.00487005},{&quot;x&quot;:1.04544,&quot;y&quot;:0.257018,&quot;z&quot;:0.0524269},{&quot;x&quot;:1.04272,&quot;y&quot;:0.262442,&quot;z&quot;:-0.0615384},{&quot;x&quot;:0.979608,&quot;y&quot;:0.240168,&quot;z&quot;:-0.0392645},{&quot;x&quot;:0.98129,&quot;y&quot;:0.236815,&quot;z&quot;:0.03117},{&quot;x&quot;:1.02649,&quot;y&quot;:0.25386,&quot;z&quot;:-0.0044152}], &quot;faces&quot;:[[0,1,2],[0,3,1],[0,4,3],[0,5,4],[0,2,5],[2,1,6],[1,3,6],[3,4,6],[4,5,6],[5,2,6]], &quot;color&quot;:&quot;#0000ff&quot;, &quot;opacity&quot;:1},{&quot;vertices&quot;:[{&quot;x&quot;:1.05867,&quot;y&quot;:0.255111,&quot;z&quot;:0.333333},{&quot;x&quot;:1.07381,&quot;y&quot;:0.266466,&quot;z&quot;:0.326865},{&quot;x&quot;:1.06827,&quot;y&quot;:0.262311,&quot;z&quot;:0.349333},{&quot;x&quot;:1.05842,&quot;y&quot;:0.254929,&quot;z&quot;:0.313336},{&quot;x&quot;:1.04338,&quot;y&quot;:0.243643,&quot;z&quot;:0.327442},{&quot;x&quot;:1.04946,&quot;y&quot;:0.248206,&quot;z&quot;:0.34969},{&quot;x&quot;:1.01514,&quot;y&quot;:0.344688,&quot;z&quot;:0.326865},{&quot;x&quot;:1.0096,&quot;y&quot;:0.340533,&quot;z&quot;:0.349333},{&quot;x&quot;:0.999757,&quot;y&quot;:0.333151,&quot;z&quot;:0.313336},{&quot;x&quot;:0.98471,&quot;y&quot;:0.321866,&quot;z&quot;:0.327442},{&quot;x&quot;:0.990793,&quot;y&quot;:0.326428,&quot;z&quot;:0.34969},{&quot;x&quot;:1,&quot;y&quot;:0.333333,&quot;z&quot;:0.333333}], &quot;faces&quot;:[[0,1,2],[0,3,1],[0,4,3],[0,5,4],[0,2,5],[2,1,6,7],[1,3,8,6],[3,4,9,8],[4,5,10,9],[5,2,7,10],[7,6,11],[6,8,11],[8,9,11],[9,10,11],[10,7,11]], &quot;color&quot;:&quot;#0000ff&quot;, &quot;opacity&quot;:1},{&quot;vertices&quot;:[{&quot;x&quot;:1.16667,&quot;y&quot;:0.111111,&quot;z&quot;:0.333333},{&quot;x&quot;:1.10409,&quot;y&quot;:0.289176,&quot;z&quot;:0.313928},{&quot;x&quot;:1.08747,&quot;y&quot;:0.276711,&quot;z&quot;:0.381333},{&quot;x&quot;:1.05794,&quot;y&quot;:0.254565,&quot;z&quot;:0.27334},{&quot;x&quot;:1.0128,&quot;y&quot;:0.220708,&quot;z&quot;:0.315661},{&quot;x&quot;:1.03105,&quot;y&quot;:0.234395,&quot;z&quot;:0.382404},{&quot;x&quot;:1.05867,&quot;y&quot;:0.255111,&quot;z&quot;:0.333333}], &quot;faces&quot;:[[0,1,2],[0,3,1],[0,4,3],[0,5,4],[0,2,5],[2,1,6],[1,3,6],[3,4,6],[4,5,6],[5,2,6]], &quot;color&quot;:&quot;#0000ff&quot;, &quot;opacity&quot;:1},{&quot;vertices&quot;:[{&quot;x&quot;:1.10913,&quot;y&quot;:0.248454,&quot;z&quot;:0.684855},{&quot;x&quot;:1.12045,&quot;y&quot;:0.260624,&quot;z&quot;:0.673731},{&quot;x&quot;:1.11756,&quot;y&quot;:0.261899,&quot;z&quot;:0.697029},{&quot;x&quot;:1.1077,&quot;y&quot;:0.242531,&quot;z&quot;:0.665806},{&quot;x&quot;:1.09693,&quot;y&quot;:0.232623,&quot;z&quot;:0.684206},{&quot;x&quot;:1.10302,&quot;y&quot;:0.244593,&quot;z&quot;:0.703503},{&quot;x&quot;:1.01132,&quot;y&quot;:0.345504,&quot;z&quot;:0.655543},{&quot;x&quot;:1.00843,&quot;y&quot;:0.346778,&quot;z&quot;:0.678841},{&quot;x&quot;:0.998568,&quot;y&quot;:0.32741,&quot;z&quot;:0.647618},{&quot;x&quot;:0.987795,&quot;y&quot;:0.317502,&quot;z&quot;:0.666018},{&quot;x&quot;:0.993889,&quot;y&quot;:0.329472,&quot;z&quot;:0.685315},{&quot;x&quot;:1,&quot;y&quot;:0.333333,&quot;z&quot;:0.666667}], &quot;faces&quot;:[[0,1,2],[0,3,1],[0,4,3],[0,5,4],[0,2,5],[2,1,6,7],[1,3,8,6],[3,4,9,8],[4,5,10,9],[5,2,7,10],[7,6,11],[6,8,11],[8,9,11],[9,10,11],[10,7,11]], &quot;color&quot;:&quot;#0000ff&quot;, &quot;opacity&quot;:1},{&quot;vertices&quot;:[{&quot;x&quot;:1.25,&quot;y&quot;:0.138889,&quot;z&quot;:0.708333},{&quot;x&quot;:1.14309,&quot;y&quot;:0.284965,&quot;z&quot;:0.651483},{&quot;x&quot;:1.13441,&quot;y&quot;:0.288789,&quot;z&quot;:0.721377},{&quot;x&quot;:1.10483,&quot;y&quot;:0.230685,&quot;z&quot;:0.627708},{&quot;x&quot;:1.07252,&quot;y&quot;:0.200961,&quot;z&quot;:0.682909},{&quot;x&quot;:1.0908,&quot;y&quot;:0.236871,&quot;z&quot;:0.740799},{&quot;x&quot;:1.10913,&quot;y&quot;:0.248454,&quot;z&quot;:0.684855}], &quot;faces&quot;:[[0,1,2],[0,3,1],[0,4,3],[0,5,4],[0,2,5],[2,1,6],[1,3,6],[3,4,6],[4,5,6],[5,2,6]], &quot;color&quot;:&quot;#0000ff&quot;, &quot;opacity&quot;:1},{&quot;vertices&quot;:[{&quot;x&quot;:1.17905,&quot;y&quot;:0.24381,&quot;z&quot;:1.05968},{&quot;x&quot;:1.18897,&quot;y&quot;:0.254542,&quot;z&quot;:1.04603},{&quot;x&quot;:1.18476,&quot;y&quot;:0.260952,&quot;z&quot;:1.06825},{&quot;x&quot;:1.17946,&quot;y&quot;:0.233299,&quot;z&quot;:1.04267},{&quot;x&quot;:1.16939,&quot;y&quot;:0.226582,&quot;z&quot;:1.06282},{&quot;x&quot;:1.17266,&quot;y&quot;:0.243672,&quot;z&quot;:1.07864},{&quot;x&quot;:1.00992,&quot;y&quot;:0.344065,&quot;z&quot;:0.986345},{&quot;x&quot;:1.00571,&quot;y&quot;:0.350476,&quot;z&quot;:1.00857},{&quot;x&quot;:1.00042,&quot;y&quot;:0.322823,&quot;z&quot;:0.982989},{&quot;x&quot;:0.990339,&quot;y&quot;:0.316106,&quot;z&quot;:1.00314},{&quot;x&quot;:0.993614,&quot;y&quot;:0.333196,&quot;z&quot;:1.01895},{&quot;x&quot;:1,&quot;y&quot;:0.333333,&quot;z&quot;:1}], &quot;faces&quot;:[[0,1,2],[0,3,1],[0,4,3],[0,5,4],[0,2,5],[2,1,6,7],[1,3,8,6],[3,4,9,8],[4,5,10,9],[5,2,7,10],[7,6,11],[6,8,11],[8,9,11],[9,10,11],[10,7,11]], &quot;color&quot;:&quot;#0000ff&quot;, &quot;opacity&quot;:1},{&quot;vertices&quot;:[{&quot;x&quot;:1.33333,&quot;y&quot;:0.166667,&quot;z&quot;:1.11111},{&quot;x&quot;:1.2088,&quot;y&quot;:0.276006,&quot;z&quot;:1.01872},{&quot;x&quot;:1.19619,&quot;y&quot;:0.295238,&quot;z&quot;:1.0854},{&quot;x&quot;:1.18029,&quot;y&quot;:0.212279,&quot;z&quot;:1.00865},{&quot;x&quot;:1.15006,&quot;y&quot;:0.192127,&quot;z&quot;:1.06911},{&quot;x&quot;:1.15989,&quot;y&quot;:0.243398,&quot;z&quot;:1.11654},{&quot;x&quot;:1.17905,&quot;y&quot;:0.24381,&quot;z&quot;:1.05968}], &quot;faces&quot;:[[0,1,2],[0,3,1],[0,4,3],[0,5,4],[0,2,5],[2,1,6],[1,3,6],[3,4,6],[4,5,6],[5,2,6]], &quot;color&quot;:&quot;#0000ff&quot;, &quot;opacity&quot;:1},{&quot;vertices&quot;:[{&quot;x&quot;:0.951505,&quot;y&quot;:0.424194,&quot;z&quot;:-0.959588},{&quot;x&quot;:0.968916,&quot;y&quot;:0.422322,&quot;z&quot;:-0.949925},{&quot;x&quot;:0.94828,&quot;y&quot;:0.428065,&quot;z&quot;:-0.940233},{&quot;x&quot;:0.965492,&quot;y&quot;:0.419166,&quot;z&quot;:-0.972971},{&quot;x&quot;:0.942739,&quot;y&quot;:0.422958,&quot;z&quot;:-0.977522},{&quot;x&quot;:0.932101,&quot;y&quot;:0.428458,&quot;z&quot;:-0.957288},{&quot;x&quot;:1.01741,&quot;y&quot;:0.664795,&quot;z&quot;:-0.990338},{&quot;x&quot;:0.996774,&quot;y&quot;:0.670538,&quot;z&quot;:-0.980645},{&quot;x&quot;:1.01399,&quot;y&quot;:0.661639,&quot;z&quot;:-1.01338},{&quot;x&quot;:0.991233,&quot;y&quot;:0.665431,&quot;z&quot;:-1.01793},{&quot;x&quot;:0.980596,&quot;y&quot;:0.670931,&quot;z&quot;:-0.997701},{&quot;x&quot;:1,&quot;y&quot;:0.666667,&quot;z&quot;:-1}], &quot;faces&quot;:[[0,1,2],[0,3,1],[0,4,3],[0,5,4],[0,2,5],[2,1,6,7],[1,3,8,6],[3,4,9,8],[4,5,10,9],[5,2,7,10],[7,6,11],[6,8,11],[8,9,11],[9,10,11],[10,7,11]], &quot;color&quot;:&quot;#0000ff&quot;, &quot;opacity&quot;:1},{&quot;vertices&quot;:[{&quot;x&quot;:0.916667,&quot;y&quot;:0.25,&quot;z&quot;:-0.930556},{&quot;x&quot;:1.00374,&quot;y&quot;:0.418578,&quot;z&quot;:-0.9306},{&quot;x&quot;:0.941828,&quot;y&quot;:0.435806,&quot;z&quot;:-0.901523},{&quot;x&quot;:0.993464,&quot;y&quot;:0.40911,&quot;z&quot;:-0.999737},{&quot;x&quot;:0.925205,&quot;y&quot;:0.420487,&quot;z&quot;:-1.01339},{&quot;x&quot;:0.893292,&quot;y&quot;:0.436986,&quot;z&quot;:-0.952689},{&quot;x&quot;:0.951505,&quot;y&quot;:0.424194,&quot;z&quot;:-0.959588}], &quot;faces&quot;:[[0,1,2],[0,3,1],[0,4,3],[0,5,4],[0,2,5],[2,1,6],[1,3,6],[3,4,6],[4,5,6],[5,2,6]], &quot;color&quot;:&quot;#0000ff&quot;, &quot;opacity&quot;:1},{&quot;vertices&quot;:[{&quot;x&quot;:1,&quot;y&quot;:0.485556,&quot;z&quot;:-0.666667},{&quot;x&quot;:1.01902,&quot;y&quot;:0.485556,&quot;z&quot;:-0.660486},{&quot;x&quot;:1,&quot;y&quot;:0.485556,&quot;z&quot;:-0.646667},{&quot;x&quot;:1.01176,&quot;y&quot;:0.485556,&quot;z&quot;:-0.682847},{&quot;x&quot;:0.988244,&quot;y&quot;:0.485556,&quot;z&quot;:-0.682847},{&quot;x&quot;:0.980979,&quot;y&quot;:0.485556,&quot;z&quot;:-0.660486},{&quot;x&quot;:1.01902,&quot;y&quot;:0.666667,&quot;z&quot;:-0.660486},{&quot;x&quot;:1,&quot;y&quot;:0.666667,&quot;z&quot;:-0.646667},{&quot;x&quot;:1.01176,&quot;y&quot;:0.666667,&quot;z&quot;:-0.682847},{&quot;x&quot;:0.988244,&quot;y&quot;:0.666667,&quot;z&quot;:-0.682847},{&quot;x&quot;:0.980979,&quot;y&quot;:0.666667,&quot;z&quot;:-0.660486},{&quot;x&quot;:1,&quot;y&quot;:0.666667,&quot;z&quot;:-0.666667}], &quot;faces&quot;:[[0,1,2],[0,3,1],[0,4,3],[0,5,4],[0,2,5],[2,1,6,7],[1,3,8,6],[3,4,9,8],[4,5,10,9],[5,2,7,10],[7,6,11],[6,8,11],[8,9,11],[9,10,11],[10,7,11]], &quot;color&quot;:&quot;#0000ff&quot;, &quot;opacity&quot;:1},{&quot;vertices&quot;:[{&quot;x&quot;:1,&quot;y&quot;:0.305556,&quot;z&quot;:-0.666667},{&quot;x&quot;:1.05706,&quot;y&quot;:0.485556,&quot;z&quot;:-0.648126},{&quot;x&quot;:1,&quot;y&quot;:0.485556,&quot;z&quot;:-0.606667},{&quot;x&quot;:1.03527,&quot;y&quot;:0.485556,&quot;z&quot;:-0.715208},{&quot;x&quot;:0.964733,&quot;y&quot;:0.485556,&quot;z&quot;:-0.715208},{&quot;x&quot;:0.942937,&quot;y&quot;:0.485556,&quot;z&quot;:-0.648126},{&quot;x&quot;:1,&quot;y&quot;:0.485556,&quot;z&quot;:-0.666667}], &quot;faces&quot;:[[0,1,2],[0,3,1],[0,4,3],[0,5,4],[0,2,5],[2,1,6],[1,3,6],[3,4,6],[4,5,6],[5,2,6]], &quot;color&quot;:&quot;#0000ff&quot;, &quot;opacity&quot;:1},{&quot;vertices&quot;:[{&quot;x&quot;:1.03638,&quot;y&quot;:0.533285,&quot;z&quot;:-0.351522},{&quot;x&quot;:1.05568,&quot;y&quot;:0.538421,&quot;z&quot;:-0.350572},{&quot;x&quot;:1.04212,&quot;y&quot;:0.532242,&quot;z&quot;:-0.332391},{&quot;x&quot;:1.04257,&quot;y&quot;:0.537503,&quot;z&quot;:-0.370065},{&quot;x&quot;:1.0209,&quot;y&quot;:0.530756,&quot;z&quot;:-0.363932},{&quot;x&quot;:1.02062,&quot;y&quot;:0.527504,&quot;z&quot;:-0.340648},{&quot;x&quot;:1.01931,&quot;y&quot;:0.671802,&quot;z&quot;:-0.332384},{&quot;x&quot;:1.00574,&quot;y&quot;:0.665623,&quot;z&quot;:-0.314203},{&quot;x&quot;:1.00619,&quot;y&quot;:0.670884,&quot;z&quot;:-0.351877},{&quot;x&quot;:0.984521,&quot;y&quot;:0.664137,&quot;z&quot;:-0.345743},{&quot;x&quot;:0.984241,&quot;y&quot;:0.660886,&quot;z&quot;:-0.32246},{&quot;x&quot;:1,&quot;y&quot;:0.666667,&quot;z&quot;:-0.333333}], &quot;faces&quot;:[[0,1,2],[0,3,1],[0,4,3],[0,5,4],[0,2,5],[2,1,6,7],[1,3,8,6],[3,4,9,8],[4,5,10,9],[5,2,7,10],[7,6,11],[6,8,11],[8,9,11],[9,10,11],[10,7,11]], &quot;color&quot;:&quot;#0000ff&quot;, &quot;opacity&quot;:1},{&quot;vertices&quot;:[{&quot;x&quot;:1.08333,&quot;y&quot;:0.361111,&quot;z&quot;:-0.375},{&quot;x&quot;:1.09429,&quot;y&quot;:0.548692,&quot;z&quot;:-0.348673},{&quot;x&quot;:1.05359,&quot;y&quot;:0.530155,&quot;z&quot;:-0.29413},{&quot;x&quot;:1.05495,&quot;y&quot;:0.545938,&quot;z&quot;:-0.407152},{&quot;x&quot;:0.989941,&quot;y&quot;:0.525697,&quot;z&quot;:-0.388752},{&quot;x&quot;:0.9891,&quot;y&quot;:0.515943,&quot;z&quot;:-0.318901},{&quot;x&quot;:1.03638,&quot;y&quot;:0.533285,&quot;z&quot;:-0.351522}], &quot;faces&quot;:[[0,1,2],[0,3,1],[0,4,3],[0,5,4],[0,2,5],[2,1,6],[1,3,6],[3,4,6],[4,5,6],[5,2,6]], &quot;color&quot;:&quot;#0000ff&quot;, &quot;opacity&quot;:1},{&quot;vertices&quot;:[{&quot;x&quot;:1.06848,&quot;y&quot;:0.563939,&quot;z&quot;:-0.0228283},{&quot;x&quot;:1.08396,&quot;y&quot;:0.575438,&quot;z&quot;:-0.0281468},{&quot;x&quot;:1.07939,&quot;y&quot;:0.567576,&quot;z&quot;:-0.00646465},{&quot;x&quot;:1.06714,&quot;y&quot;:0.56741,&quot;z&quot;:-0.0424789},{&quot;x&quot;:1.05218,&quot;y&quot;:0.554585,&quot;z&quot;:-0.0296545},{&quot;x&quot;:1.05975,&quot;y&quot;:0.554688,&quot;z&quot;:-0.00739648},{&quot;x&quot;:1.01548,&quot;y&quot;:0.678166,&quot;z&quot;:-0.00531852},{&quot;x&quot;:1.01091,&quot;y&quot;:0.670303,&quot;z&quot;:0.0163636},{&quot;x&quot;:0.998655,&quot;y&quot;:0.670137,&quot;z&quot;:-0.0196507},{&quot;x&quot;:0.983693,&quot;y&quot;:0.657313,&quot;z&quot;:-0.00682626},{&quot;x&quot;:0.991267,&quot;y&quot;:0.657415,&quot;z&quot;:0.0154318},{&quot;x&quot;:1,&quot;y&quot;:0.666667,&quot;z&quot;:0}], &quot;faces&quot;:[[0,1,2],[0,3,1],[0,4,3],[0,5,4],[0,2,5],[2,1,6,7],[1,3,8,6],[3,4,9,8],[4,5,10,9],[5,2,7,10],[7,6,11],[6,8,11],[8,9,11],[9,10,11],[10,7,11]], &quot;color&quot;:&quot;#0000ff&quot;, &quot;opacity&quot;:1},{&quot;vertices&quot;:[{&quot;x&quot;:1.16667,&quot;y&quot;:0.416667,&quot;z&quot;:-0.0555556},{&quot;x&quot;:1.11491,&quot;y&quot;:0.598436,&quot;z&quot;:-0.0387838},{&quot;x&quot;:1.10121,&quot;y&quot;:0.574848,&quot;z&quot;:0.0262626},{&quot;x&quot;:1.06445,&quot;y&quot;:0.57435,&quot;z&quot;:-0.0817803},{&quot;x&quot;:1.01957,&quot;y&quot;:0.535877,&quot;z&quot;:-0.0433071},{&quot;x&quot;:1.04229,&quot;y&quot;:0.536185,&quot;z&quot;:0.0234671},{&quot;x&quot;:1.06848,&quot;y&quot;:0.563939,&quot;z&quot;:-0.0228283}], &quot;faces&quot;:[[0,1,2],[0,3,1],[0,4,3],[0,5,4],[0,2,5],[2,1,6],[1,3,6],[3,4,6],[4,5,6],[5,2,6]], &quot;color&quot;:&quot;#0000ff&quot;, &quot;opacity&quot;:1},{&quot;vertices&quot;:[{&quot;x&quot;:1.10913,&quot;y&quot;:0.581787,&quot;z&quot;:0.315145},{&quot;x&quot;:1.11814,&quot;y&quot;:0.595755,&quot;z&quot;:0.304021},{&quot;x&quot;:1.12009,&quot;y&quot;:0.593266,&quot;z&quot;:0.327319},{&quot;x&quot;:1.10374,&quot;y&quot;:0.578941,&quot;z&quot;:0.296096},{&quot;x&quot;:1.09679,&quot;y&quot;:0.566061,&quot;z&quot;:0.314496},{&quot;x&quot;:1.10689,&quot;y&quot;:0.574914,&quot;z&quot;:0.333793},{&quot;x&quot;:1.00901,&quot;y&quot;:0.680634,&quot;z&quot;:0.322209},{&quot;x&quot;:1.01096,&quot;y&quot;:0.678145,&quot;z&quot;:0.345507},{&quot;x&quot;:0.994612,&quot;y&quot;:0.663821,&quot;z&quot;:0.314284},{&quot;x&quot;:0.98766,&quot;y&quot;:0.65094,&quot;z&quot;:0.332685},{&quot;x&quot;:0.997762,&quot;y&quot;:0.659793,&quot;z&quot;:0.351981},{&quot;x&quot;:1,&quot;y&quot;:0.666667,&quot;z&quot;:0.333333}], &quot;faces&quot;:[[0,1,2],[0,3,1],[0,4,3],[0,5,4],[0,2,5],[2,1,6,7],[1,3,8,6],[3,4,9,8],[4,5,10,9],[5,2,7,10],[7,6,11],[6,8,11],[8,9,11],[9,10,11],[10,7,11]], &quot;color&quot;:&quot;#0000ff&quot;, &quot;opacity&quot;:1},{&quot;vertices&quot;:[{&quot;x&quot;:1.25,&quot;y&quot;:0.472222,&quot;z&quot;:0.291667},{&quot;x&quot;:1.13616,&quot;y&quot;:0.623689,&quot;z&quot;:0.281772},{&quot;x&quot;:1.142,&quot;y&quot;:0.616222,&quot;z&quot;:0.351667},{&quot;x&quot;:1.09297,&quot;y&quot;:0.573249,&quot;z&quot;:0.257998},{&quot;x&quot;:1.07211,&quot;y&quot;:0.534609,&quot;z&quot;:0.313199},{&quot;x&quot;:1.10242,&quot;y&quot;:0.561168,&quot;z&quot;:0.371089},{&quot;x&quot;:1.10913,&quot;y&quot;:0.581787,&quot;z&quot;:0.315145}], &quot;faces&quot;:[[0,1,2],[0,3,1],[0,4,3],[0,5,4],[0,2,5],[2,1,6],[1,3,6],[3,4,6],[4,5,6],[5,2,6]], &quot;color&quot;:&quot;#0000ff&quot;, &quot;opacity&quot;:1},{&quot;vertices&quot;:[{&quot;x&quot;:1.16718,&quot;y&quot;:0.597009,&quot;z&quot;:0.666667},{&quot;x&quot;:1.17219,&quot;y&quot;:0.609028,&quot;z&quot;:0.651486},{&quot;x&quot;:1.17428,&quot;y&quot;:0.61405,&quot;z&quot;:0.674359},{&quot;x&quot;:1.16317,&quot;y&quot;:0.587395,&quot;z&quot;:0.649592},{&quot;x&quot;:1.1597,&quot;y&quot;:0.579048,&quot;z&quot;:0.671295},{&quot;x&quot;:1.16656,&quot;y&quot;:0.595522,&quot;z&quot;:0.686602},{&quot;x&quot;:1.00501,&quot;y&quot;:0.678686,&quot;z&quot;:0.651486},{&quot;x&quot;:1.0071,&quot;y&quot;:0.683708,&quot;z&quot;:0.674359},{&quot;x&quot;:0.995995,&quot;y&quot;:0.657053,&quot;z&quot;:0.649592},{&quot;x&quot;:0.992516,&quot;y&quot;:0.648706,&quot;z&quot;:0.671295},{&quot;x&quot;:0.99938,&quot;y&quot;:0.66518,&quot;z&quot;:0.686602},{&quot;x&quot;:1,&quot;y&quot;:0.666667,&quot;z&quot;:0.666667}], &quot;faces&quot;:[[0,1,2],[0,3,1],[0,4,3],[0,5,4],[0,2,5],[2,1,6,7],[1,3,8,6],[3,4,9,8],[4,5,10,9],[5,2,7,10],[7,6,11],[6,8,11],[8,9,11],[9,10,11],[10,7,11]], &quot;color&quot;:&quot;#0000ff&quot;, &quot;opacity&quot;:1},{&quot;vertices&quot;:[{&quot;x&quot;:1.33333,&quot;y&quot;:0.527778,&quot;z&quot;:0.666667},{&quot;x&quot;:1.1822,&quot;y&quot;:0.633066,&quot;z&quot;:0.621124},{&quot;x&quot;:1.18848,&quot;y&quot;:0.648133,&quot;z&quot;:0.689744},{&quot;x&quot;:1.15516,&quot;y&quot;:0.568169,&quot;z&quot;:0.615443},{&quot;x&quot;:1.14473,&quot;y&quot;:0.543127,&quot;z&quot;:0.680551},{&quot;x&quot;:1.16532,&quot;y&quot;:0.592548,&quot;z&quot;:0.726472},{&quot;x&quot;:1.16718,&quot;y&quot;:0.597009,&quot;z&quot;:0.666667}], &quot;faces&quot;:[[0,1,2],[0,3,1],[0,4,3],[0,5,4],[0,2,5],[2,1,6],[1,3,6],[3,4,6],[4,5,6],[5,2,6]], &quot;color&quot;:&quot;#0000ff&quot;, &quot;opacity&quot;:1},{&quot;vertices&quot;:[{&quot;x&quot;:1.24247,&quot;y&quot;:0.618172,&quot;z&quot;:1.04041},{&quot;x&quot;:1.24715,&quot;y&quot;:0.627221,&quot;z&quot;:1.0232},{&quot;x&quot;:1.2457,&quot;y&quot;:0.637527,&quot;z&quot;:1.04428},{&quot;x&quot;:1.24214,&quot;y&quot;:0.60441,&quot;z&quot;:1.0259},{&quot;x&quot;:1.23759,&quot;y&quot;:0.600618,&quot;z&quot;:1.04866},{&quot;x&quot;:1.23979,&quot;y&quot;:0.621085,&quot;z&quot;:1.06002},{&quot;x&quot;:1.00468,&quot;y&quot;:0.675716,&quot;z&quot;:0.982789},{&quot;x&quot;:1.00323,&quot;y&quot;:0.686022,&quot;z&quot;:1.00387},{&quot;x&quot;:0.999666,&quot;y&quot;:0.652904,&quot;z&quot;:0.985492},{&quot;x&quot;:0.995115,&quot;y&quot;:0.649112,&quot;z&quot;:1.00824},{&quot;x&quot;:0.997315,&quot;y&quot;:0.66958,&quot;z&quot;:1.0196},{&quot;x&quot;:1,&quot;y&quot;:0.666667,&quot;z&quot;:1}], &quot;faces&quot;:[[0,1,2],[0,3,1],[0,4,3],[0,5,4],[0,2,5],[2,1,6,7],[1,3,8,6],[3,4,9,8],[4,5,10,9],[5,2,7,10],[7,6,11],[6,8,11],[8,9,11],[9,10,11],[10,7,11]], &quot;color&quot;:&quot;#0000ff&quot;, &quot;opacity&quot;:1},{&quot;vertices&quot;:[{&quot;x&quot;:1.41667,&quot;y&quot;:0.583333,&quot;z&quot;:1.06944},{&quot;x&quot;:1.25651,&quot;y&quot;:0.645319,&quot;z&quot;:0.988778},{&quot;x&quot;:1.25215,&quot;y&quot;:0.676237,&quot;z&quot;:1.05203},{&quot;x&quot;:1.24147,&quot;y&quot;:0.576885,&quot;z&quot;:0.996888},{&quot;x&quot;:1.22782,&quot;y&quot;:0.565509,&quot;z&quot;:1.06515},{&quot;x&quot;:1.23442,&quot;y&quot;:0.626911,&quot;z&quot;:1.09922},{&quot;x&quot;:1.24247,&quot;y&quot;:0.618172,&quot;z&quot;:1.04041}], &quot;faces&quot;:[[0,1,2],[0,3,1],[0,4,3],[0,5,4],[0,2,5],[2,1,6],[1,3,6],[3,4,6],[4,5,6],[5,2,6]], &quot;color&quot;:&quot;#0000ff&quot;, &quot;opacity&quot;:1},{&quot;vertices&quot;:[{&quot;x&quot;:1,&quot;y&quot;:0.68,&quot;z&quot;:-1},{&quot;x&quot;:1.01902,&quot;y&quot;:0.68,&quot;z&quot;:-0.99382},{&quot;x&quot;:1,&quot;y&quot;:0.68,&quot;z&quot;:-0.98},{&quot;x&quot;:1.01176,&quot;y&quot;:0.68,&quot;z&quot;:-1.01618},{&quot;x&quot;:0.988244,&quot;y&quot;:0.68,&quot;z&quot;:-1.01618},{&quot;x&quot;:0.980979,&quot;y&quot;:0.68,&quot;z&quot;:-0.99382},{&quot;x&quot;:1.01902,&quot;y&quot;:1,&quot;z&quot;:-0.99382},{&quot;x&quot;:1,&quot;y&quot;:1,&quot;z&quot;:-0.98},{&quot;x&quot;:1.01176,&quot;y&quot;:1,&quot;z&quot;:-1.01618},{&quot;x&quot;:0.988244,&quot;y&quot;:1,&quot;z&quot;:-1.01618},{&quot;x&quot;:0.980979,&quot;y&quot;:1,&quot;z&quot;:-0.99382},{&quot;x&quot;:1,&quot;y&quot;:1,&quot;z&quot;:-1}], &quot;faces&quot;:[[0,1,2],[0,3,1],[0,4,3],[0,5,4],[0,2,5],[2,1,6,7],[1,3,8,6],[3,4,9,8],[4,5,10,9],[5,2,7,10],[7,6,11],[6,8,11],[8,9,11],[9,10,11],[10,7,11]], &quot;color&quot;:&quot;#0000ff&quot;, &quot;opacity&quot;:1},{&quot;vertices&quot;:[{&quot;x&quot;:1,&quot;y&quot;:0.5,&quot;z&quot;:-1},{&quot;x&quot;:1.05706,&quot;y&quot;:0.68,&quot;z&quot;:-0.981459},{&quot;x&quot;:1,&quot;y&quot;:0.68,&quot;z&quot;:-0.94},{&quot;x&quot;:1.03527,&quot;y&quot;:0.68,&quot;z&quot;:-1.04854},{&quot;x&quot;:0.964733,&quot;y&quot;:0.68,&quot;z&quot;:-1.04854},{&quot;x&quot;:0.942937,&quot;y&quot;:0.68,&quot;z&quot;:-0.981459},{&quot;x&quot;:1,&quot;y&quot;:0.68,&quot;z&quot;:-1}], &quot;faces&quot;:[[0,1,2],[0,3,1],[0,4,3],[0,5,4],[0,2,5],[2,1,6],[1,3,6],[3,4,6],[4,5,6],[5,2,6]], &quot;color&quot;:&quot;#0000ff&quot;, &quot;opacity&quot;:1},{&quot;vertices&quot;:[{&quot;x&quot;:1.04849,&quot;y&quot;:0.757527,&quot;z&quot;:-0.707079},{&quot;x&quot;:1.06805,&quot;y&quot;:0.761054,&quot;z&quot;:-0.704779},{&quot;x&quot;:1.05296,&quot;y&quot;:0.755194,&quot;z&quot;:-0.687724},{&quot;x&quot;:1.05611,&quot;y&quot;:0.762039,&quot;z&quot;:-0.725013},{&quot;x&quot;:1.03365,&quot;y&quot;:0.756789,&quot;z&quot;:-0.720462},{&quot;x&quot;:1.0317,&quot;y&quot;:0.752558,&quot;z&quot;:-0.697416},{&quot;x&quot;:1.01955,&quot;y&quot;:1.00353,&quot;z&quot;:-0.664367},{&quot;x&quot;:1.00447,&quot;y&quot;:0.997667,&quot;z&quot;:-0.647312},{&quot;x&quot;:1.00762,&quot;y&quot;:1.00451,&quot;z&quot;:-0.6846},{&quot;x&quot;:0.985156,&quot;y&quot;:0.999262,&quot;z&quot;:-0.68005},{&quot;x&quot;:0.983209,&quot;y&quot;:0.995031,&quot;z&quot;:-0.657004},{&quot;x&quot;:1,&quot;y&quot;:1,&quot;z&quot;:-0.666667}], &quot;faces&quot;:[[0,1,2],[0,3,1],[0,4,3],[0,5,4],[0,2,5],[2,1,6,7],[1,3,8,6],[3,4,9,8],[4,5,10,9],[5,2,7,10],[7,6,11],[6,8,11],[8,9,11],[9,10,11],[10,7,11]], &quot;color&quot;:&quot;#0000ff&quot;, &quot;opacity&quot;:1},{&quot;vertices&quot;:[{&quot;x&quot;:1.08333,&quot;y&quot;:0.583333,&quot;z&quot;:-0.736111},{&quot;x&quot;:1.10715,&quot;y&quot;:0.768108,&quot;z&quot;:-0.70018},{&quot;x&quot;:1.06189,&quot;y&quot;:0.750529,&quot;z&quot;:-0.649014},{&quot;x&quot;:1.07135,&quot;y&quot;:0.771064,&quot;z&quot;:-0.76088},{&quot;x&quot;:1.00396,&quot;y&quot;:0.755312,&quot;z&quot;:-0.747228},{&quot;x&quot;:0.998121,&quot;y&quot;:0.742621,&quot;z&quot;:-0.678091},{&quot;x&quot;:1.04849,&quot;y&quot;:0.757527,&quot;z&quot;:-0.707079}], &quot;faces&quot;:[[0,1,2],[0,3,1],[0,4,3],[0,5,4],[0,2,5],[2,1,6],[1,3,6],[3,4,6],[4,5,6],[5,2,6]], &quot;color&quot;:&quot;#0000ff&quot;, &quot;opacity&quot;:1},{&quot;vertices&quot;:[{&quot;x&quot;:1.08952,&quot;y&quot;:0.820952,&quot;z&quot;:-0.393016},{&quot;x&quot;:1.10683,&quot;y&quot;:0.830558,&quot;z&quot;:-0.39587},{&quot;x&quot;:1.09981,&quot;y&quot;:0.820381,&quot;z&quot;:-0.375873},{&quot;x&quot;:1.08994,&quot;y&quot;:0.82746,&quot;z&quot;:-0.411923},{&quot;x&quot;:1.07247,&quot;y&quot;:0.815369,&quot;z&quot;:-0.401847},{&quot;x&quot;:1.07857,&quot;y&quot;:0.810994,&quot;z&quot;:-0.379567},{&quot;x&quot;:1.01731,&quot;y&quot;:1.00961,&quot;z&quot;:-0.336188},{&quot;x&quot;:1.01029,&quot;y&quot;:0.999429,&quot;z&quot;:-0.31619},{&quot;x&quot;:1.00041,&quot;y&quot;:1.00651,&quot;z&quot;:-0.35224},{&quot;x&quot;:0.982946,&quot;y&quot;:0.994417,&quot;z&quot;:-0.342164},{&quot;x&quot;:0.989048,&quot;y&quot;:0.990041,&quot;z&quot;:-0.319884},{&quot;x&quot;:1,&quot;y&quot;:1,&quot;z&quot;:-0.333333}], &quot;faces&quot;:[[0,1,2],[0,3,1],[0,4,3],[0,5,4],[0,2,5],[2,1,6,7],[1,3,8,6],[3,4,9,8],[4,5,10,9],[5,2,7,10],[7,6,11],[6,8,11],[8,9,11],[9,10,11],[10,7,11]], &quot;color&quot;:&quot;#0000ff&quot;, &quot;opacity&quot;:1},{&quot;vertices&quot;:[{&quot;x&quot;:1.16667,&quot;y&quot;:0.666667,&quot;z&quot;:-0.444444},{&quot;x&quot;:1.14145,&quot;y&quot;:0.84977,&quot;z&quot;:-0.401579},{&quot;x&quot;:1.12038,&quot;y&quot;:0.819238,&quot;z&quot;:-0.341587},{&quot;x&quot;:1.09076,&quot;y&quot;:0.840477,&quot;z&quot;:-0.449737},{&quot;x&quot;:1.03836,&quot;y&quot;:0.804202,&quot;z&quot;:-0.419508},{&quot;x&quot;:1.05667,&quot;y&quot;:0.791076,&quot;z&quot;:-0.352668},{&quot;x&quot;:1.08952,&quot;y&quot;:0.820952,&quot;z&quot;:-0.393016}], &quot;faces&quot;:[[0,1,2],[0,3,1],[0,4,3],[0,5,4],[0,2,5],[2,1,6],[1,3,6],[3,4,6],[4,5,6],[5,2,6]], &quot;color&quot;:&quot;#0000ff&quot;, &quot;opacity&quot;:1},{&quot;vertices&quot;:[{&quot;x&quot;:1.13,&quot;y&quot;:0.87,&quot;z&quot;:-0.065},{&quot;x&quot;:1.14046,&quot;y&quot;:0.884741,&quot;z&quot;:-0.0735605},{&quot;x&quot;:1.14333,&quot;y&quot;:0.876667,&quot;z&quot;:-0.0516667},{&quot;x&quot;:1.12313,&quot;y&quot;:0.872444,&quot;z&quot;:-0.083624},{&quot;x&quot;:1.11529,&quot;y&quot;:0.856769,&quot;z&quot;:-0.0679498},{&quot;x&quot;:1.12778,&quot;y&quot;:0.859379,&quot;z&quot;:-0.048199},{&quot;x&quot;:1.01046,&quot;y&quot;:1.01474,&quot;z&quot;:-0.00856053},{&quot;x&quot;:1.01333,&quot;y&quot;:1.00667,&quot;z&quot;:0.0133333},{&quot;x&quot;:0.993132,&quot;y&quot;:1.00244,&quot;z&quot;:-0.018624},{&quot;x&quot;:0.985295,&quot;y&quot;:0.986769,&quot;z&quot;:-0.00294976},{&quot;x&quot;:0.99778,&quot;y&quot;:0.989379,&quot;z&quot;:0.016801},{&quot;x&quot;:1,&quot;y&quot;:1,&quot;z&quot;:0}], &quot;faces&quot;:[[0,1,2],[0,3,1],[0,4,3],[0,5,4],[0,2,5],[2,1,6,7],[1,3,8,6],[3,4,9,8],[4,5,10,9],[5,2,7,10],[7,6,11],[6,8,11],[8,9,11],[9,10,11],[10,7,11]], &quot;color&quot;:&quot;#0000ff&quot;, &quot;opacity&quot;:1},{&quot;vertices&quot;:[{&quot;x&quot;:1.25,&quot;y&quot;:0.75,&quot;z&quot;:-0.125},{&quot;x&quot;:1.16138,&quot;y&quot;:0.914223,&quot;z&quot;:-0.0906816},{&quot;x&quot;:1.17,&quot;y&quot;:0.89,&quot;z&quot;:-0.025},{&quot;x&quot;:1.1094,&quot;y&quot;:0.877331,&quot;z&quot;:-0.120872},{&quot;x&quot;:1.08588,&quot;y&quot;:0.830308,&quot;z&quot;:-0.0738493},{&quot;x&quot;:1.12334,&quot;y&quot;:0.838138,&quot;z&quot;:-0.0145971},{&quot;x&quot;:1.13,&quot;y&quot;:0.87,&quot;z&quot;:-0.065}], &quot;faces&quot;:[[0,1,2],[0,3,1],[0,4,3],[0,5,4],[0,2,5],[2,1,6],[1,3,6],[3,4,6],[4,5,6],[5,2,6]], &quot;color&quot;:&quot;#0000ff&quot;, &quot;opacity&quot;:1},{&quot;vertices&quot;:[{&quot;x&quot;:1.17905,&quot;y&quot;:0.910476,&quot;z&quot;:0.273651},{&quot;x&quot;:1.18168,&quot;y&quot;:0.92485,&quot;z&quot;:0.259996},{&quot;x&quot;:1.18933,&quot;y&quot;:0.925333,&quot;z&quot;:0.282222},{&quot;x&quot;:1.17039,&quot;y&quot;:0.904502,&quot;z&quot;:0.25664},{&quot;x&quot;:1.17106,&quot;y&quot;:0.892411,&quot;z&quot;:0.276793},{&quot;x&quot;:1.18277,&quot;y&quot;:0.905285,&quot;z&quot;:0.292603},{&quot;x&quot;:1.00263,&quot;y&quot;:1.01437,&quot;z&quot;:0.319678},{&quot;x&quot;:1.01029,&quot;y&quot;:1.01486,&quot;z&quot;:0.341905},{&quot;x&quot;:0.991343,&quot;y&quot;:0.994026,&quot;z&quot;:0.316323},{&quot;x&quot;:0.992015,&quot;y&quot;:0.981935,&quot;z&quot;:0.336475},{&quot;x&quot;:1.00372,&quot;y&quot;:0.994809,&quot;z&quot;:0.352286},{&quot;x&quot;:1,&quot;y&quot;:1,&quot;z&quot;:0.333333}], &quot;faces&quot;:[[0,1,2],[0,3,1],[0,4,3],[0,5,4],[0,2,5],[2,1,6,7],[1,3,8,6],[3,4,9,8],[4,5,10,9],[5,2,7,10],[7,6,11],[6,8,11],[8,9,11],[9,10,11],[10,7,11]], &quot;color&quot;:&quot;#0000ff&quot;, &quot;opacity&quot;:1},{&quot;vertices&quot;:[{&quot;x&quot;:1.33333,&quot;y&quot;:0.833333,&quot;z&quot;:0.222222},{&quot;x&quot;:1.18695,&quot;y&quot;:0.953596,&quot;z&quot;:0.232685},{&quot;x&quot;:1.2099,&quot;y&quot;:0.955048,&quot;z&quot;:0.299365},{&quot;x&quot;:1.15308,&quot;y&quot;:0.892555,&quot;z&quot;:0.222619},{&quot;x&quot;:1.15509,&quot;y&quot;:0.85628,&quot;z&quot;:0.283076},{&quot;x&quot;:1.19021,&quot;y&quot;:0.894903,&quot;z&quot;:0.330508},{&quot;x&quot;:1.17905,&quot;y&quot;:0.910476,&quot;z&quot;:0.273651}], &quot;faces&quot;:[[0,1,2],[0,3,1],[0,4,3],[0,5,4],[0,2,5],[2,1,6],[1,3,6],[3,4,6],[4,5,6],[5,2,6]], &quot;color&quot;:&quot;#0000ff&quot;, &quot;opacity&quot;:1},{&quot;vertices&quot;:[{&quot;x&quot;:1.24247,&quot;y&quot;:0.951505,&quot;z&quot;:0.626254},{&quot;x&quot;:1.24163,&quot;y&quot;:0.961658,&quot;z&quot;:0.609043},{&quot;x&quot;:1.24694,&quot;y&quot;:0.970612,&quot;z&quot;:0.630125},{&quot;x&quot;:1.23749,&quot;y&quot;:0.938673,&quot;z&quot;:0.611746},{&quot;x&quot;:1.24023,&quot;y&quot;:0.933422,&quot;z&quot;:0.634499},{&quot;x&quot;:1.24607,&quot;y&quot;:0.953162,&quot;z&quot;:0.645858},{&quot;x&quot;:0.999162,&quot;y&quot;:1.01015,&quot;z&quot;:0.649455},{&quot;x&quot;:1.00447,&quot;y&quot;:1.01911,&quot;z&quot;:0.670538},{&quot;x&quot;:0.995016,&quot;y&quot;:0.987168,&quot;z&quot;:0.652158},{&quot;x&quot;:0.997758,&quot;y&quot;:0.981917,&quot;z&quot;:0.674911},{&quot;x&quot;:1.0036,&quot;y&quot;:1.00166,&quot;z&quot;:0.68627},{&quot;x&quot;:1,&quot;y&quot;:1,&quot;z&quot;:0.666667}], &quot;faces&quot;:[[0,1,2],[0,3,1],[0,4,3],[0,5,4],[0,2,5],[2,1,6,7],[1,3,8,6],[3,4,9,8],[4,5,10,9],[5,2,7,10],[7,6,11],[6,8,11],[8,9,11],[9,10,11],[10,7,11]], &quot;color&quot;:&quot;#0000ff&quot;, &quot;opacity&quot;:1},{&quot;vertices&quot;:[{&quot;x&quot;:1.41667,&quot;y&quot;:0.916667,&quot;z&quot;:0.597222},{&quot;x&quot;:1.23996,&quot;y&quot;:0.981962,&quot;z&quot;:0.57462},{&quot;x&quot;:1.25587,&quot;y&quot;:1.00883,&quot;z&quot;:0.637867},{&quot;x&quot;:1.22752,&quot;y&quot;:0.913008,&quot;z&quot;:0.58273},{&quot;x&quot;:1.23575,&quot;y&quot;:0.897256,&quot;z&quot;:0.650989},{&quot;x&quot;:1.25327,&quot;y&quot;:0.956475,&quot;z&quot;:0.685066},{&quot;x&quot;:1.24247,&quot;y&quot;:0.951505,&quot;z&quot;:0.626254}], &quot;faces&quot;:[[0,1,2],[0,3,1],[0,4,3],[0,5,4],[0,2,5],[2,1,6],[1,3,6],[3,4,6],[4,5,6],[5,2,6]], &quot;color&quot;:&quot;#0000ff&quot;, &quot;opacity&quot;:1},{&quot;vertices&quot;:[{&quot;x&quot;:1.32,&quot;y&quot;:1,&quot;z&quot;:1},{&quot;x&quot;:1.32,&quot;y&quot;:1.00618,&quot;z&quot;:0.980979},{&quot;x&quot;:1.32,&quot;y&quot;:1.02,&quot;z&quot;:1},{&quot;x&quot;:1.32,&quot;y&quot;:0.98382,&quot;z&quot;:0.988244},{&quot;x&quot;:1.32,&quot;y&quot;:0.98382,&quot;z&quot;:1.01176},{&quot;x&quot;:1.32,&quot;y&quot;:1.00618,&quot;z&quot;:1.01902},{&quot;x&quot;:1,&quot;y&quot;:1.00618,&quot;z&quot;:0.980979},{&quot;x&quot;:1,&quot;y&quot;:1.02,&quot;z&quot;:1},{&quot;x&quot;:1,&quot;y&quot;:0.98382,&quot;z&quot;:0.988244},{&quot;x&quot;:1,&quot;y&quot;:0.98382,&quot;z&quot;:1.01176},{&quot;x&quot;:1,&quot;y&quot;:1.00618,&quot;z&quot;:1.01902},{&quot;x&quot;:1,&quot;y&quot;:1,&quot;z&quot;:1}], &quot;faces&quot;:[[0,1,2],[0,3,1],[0,4,3],[0,5,4],[0,2,5],[2,1,6,7],[1,3,8,6],[3,4,9,8],[4,5,10,9],[5,2,7,10],[7,6,11],[6,8,11],[8,9,11],[9,10,11],[10,7,11]], &quot;color&quot;:&quot;#0000ff&quot;, &quot;opacity&quot;:1},{&quot;vertices&quot;:[{&quot;x&quot;:1.5,&quot;y&quot;:1,&quot;z&quot;:1},{&quot;x&quot;:1.32,&quot;y&quot;:1.01854,&quot;z&quot;:0.942937},{&quot;x&quot;:1.32,&quot;y&quot;:1.06,&quot;z&quot;:1},{&quot;x&quot;:1.32,&quot;y&quot;:0.951459,&quot;z&quot;:0.964733},{&quot;x&quot;:1.32,&quot;y&quot;:0.951459,&quot;z&quot;:1.03527},{&quot;x&quot;:1.32,&quot;y&quot;:1.01854,&quot;z&quot;:1.05706},{&quot;x&quot;:1.32,&quot;y&quot;:1,&quot;z&quot;:1}], &quot;faces&quot;:[[0,1,2],[0,3,1],[0,4,3],[0,5,4],[0,2,5],[2,1,6],[1,3,6],[3,4,6],[4,5,6],[5,2,6]], &quot;color&quot;:&quot;#0000ff&quot;, &quot;opacity&quot;:1}];\n",
       "    for ( var i=0 ; i < surfaces.length ; i++ ) {\n",
       "        if ( surfaces[i].hasOwnProperty('face_colors') )\n",
       "        {\n",
       "            addSurfaceWithColors( surfaces[i] )\n",
       "        }\n",
       "        else\n",
       "        {\n",
       "            addSurface( surfaces[i] )\n",
       "        }\n",
       "    }\n",
       "\n",
       "    function addSurface( json ) {\n",
       "        var geometry = new THREE.Geometry();\n",
       "        for ( var i=0 ; i < json.vertices.length ; i++ ) {\n",
       "            var v = json.vertices[i];\n",
       "            geometry.vertices.push( new THREE.Vector3( a[0]*v.x, a[1]*v.y, a[2]*v.z ) );\n",
       "        }\n",
       "        for ( var i=0 ; i < json.faces.length ; i++ ) {\n",
       "            var f = json.faces[i];\n",
       "            for ( var j=0 ; j < f.length - 2 ; j++ ) {\n",
       "                geometry.faces.push( new THREE.Face3( f[0], f[j+1], f[j+2] ) );\n",
       "            }\n",
       "        }\n",
       "        geometry.computeVertexNormals();\n",
       "\n",
       "        var transparent = json.opacity < 1 ? true : false;\n",
       "        var material = new THREE.MeshPhongMaterial( {\n",
       "                                     color: json.color, side: THREE.DoubleSide,\n",
       "                                     transparent: transparent, opacity: json.opacity,\n",
       "                                     shininess: 20 } );\n",
       "\n",
       "        var c = geometry.center().multiplyScalar( -1 );\n",
       "        var mesh = new THREE.Mesh( geometry, material );\n",
       "        mesh.position.set( c.x, c.y, c.z );\n",
       "        scene.add( mesh );\n",
       "    }\n",
       "\n",
       "    function addSurfaceWithColors( json ) {\n",
       "        var geometry = new THREE.Geometry();\n",
       "        for ( var i=0 ; i < json.vertices.length ; i++ ) {\n",
       "            var v = json.vertices[i];\n",
       "            geometry.vertices.push( new THREE.Vector3( a[0]*v.x, a[1]*v.y, a[2]*v.z ) );\n",
       "        }\n",
       "        for ( var i=0 ; i < json.faces.length ; i++ ) {\n",
       "            var f = json.faces[i];\n",
       "            for ( var j=0 ; j < f.length - 2 ; j++ ) {\n",
       "                var tri = new THREE.Face3( f[0], f[j+1], f[j+2] )\n",
       "                tri.color.set(json.face_colors[i])\n",
       "                geometry.faces.push( tri );\n",
       "            }\n",
       "        }\n",
       "        geometry.computeVertexNormals();\n",
       "\n",
       "        var transparent = json.opacity < 1 ? true : false;\n",
       "        var material = new THREE.MeshPhongMaterial( {\n",
       "            vertexColors: THREE.FaceColors,\n",
       "            side: THREE.DoubleSide,\n",
       "            transparent: transparent, opacity: json.opacity,\n",
       "            shininess: 20 } );\n",
       "\n",
       "        var c = geometry.center().multiplyScalar( -1 );\n",
       "        var mesh = new THREE.Mesh( geometry, material );\n",
       "        mesh.position.set( c.x, c.y, c.z );\n",
       "        scene.add( mesh );\n",
       "    }\n",
       "\n",
       "    var scratch = new THREE.Vector3();\n",
       "\n",
       "    function render() {\n",
       "\n",
       "        if ( animate ) requestAnimationFrame( render );\n",
       "        renderer.render( scene, camera );\n",
       "\n",
       "        for ( var i=0 ; i < scene.children.length ; i++ ) {\n",
       "            if ( scene.children[i].type === 'Sprite' ) {\n",
       "                var sprite = scene.children[i];\n",
       "                var adjust = scratch.addVectors( sprite.position, scene.position )\n",
       "                               .sub( camera.position ).length() / 5;\n",
       "                sprite.scale.set( adjust, .25*adjust ); // ratio of canvas width to height\n",
       "            }\n",
       "        }\n",
       "    }\n",
       "    \n",
       "    render();\n",
       "    controls.update();\n",
       "    if ( !animate ) render();\n",
       "\n",
       "</script>\n",
       "\n",
       "</body>\n",
       "</html>\n",
       "\" \n",
       "        width=\"100%\"\n",
       "        height=\"400\"\n",
       "        style=\"border: 0;\">\n",
       "</iframe>\n"
      ],
      "text/plain": [
       "Graphics3d Object"
      ]
     },
     "metadata": {},
     "output_type": "display_data"
    }
   ],
   "source": [
    "graph = E[3].plot(chart=stereoN, max_range=1, number_values=7, \n",
    "                  scale=0.25, label_axes=False)\n",
    "show(graph, viewer=viewer3D, online=True, axes_labels=['x','y','z'])"
   ]
  },
  {
   "cell_type": "code",
   "execution_count": null,
   "metadata": {},
   "outputs": [],
   "source": []
  }
 ],
 "metadata": {
  "kernelspec": {
   "display_name": "SageMath 8.2",
   "language": "",
   "name": "sagemath"
  },
  "language_info": {
   "codemirror_mode": {
    "name": "ipython",
    "version": 2
   },
   "file_extension": ".py",
   "mimetype": "text/x-python",
   "name": "python",
   "nbconvert_exporter": "python",
   "pygments_lexer": "ipython2",
   "version": "2.7.14"
  }
 },
 "nbformat": 4,
 "nbformat_minor": 1
}
