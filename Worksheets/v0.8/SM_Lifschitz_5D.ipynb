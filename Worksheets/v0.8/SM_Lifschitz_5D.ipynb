{
 "cells": [
  {
   "cell_type": "markdown",
   "metadata": {},
   "source": [
    "# Lifshitz-like 5-dimensional spacetimes"
   ]
  },
  {
   "cell_type": "markdown",
   "metadata": {},
   "source": [
    "First we set up the notebook to display mathematical objects using LaTeX formatting:"
   ]
  },
  {
   "cell_type": "code",
   "execution_count": 1,
   "metadata": {
    "collapsed": true
   },
   "outputs": [],
   "source": [
    "%display latex"
   ]
  },
  {
   "cell_type": "markdown",
   "metadata": {},
   "source": [
    "## The metric tensor\n",
    "\n",
    "Let us declare the spacetime $M$ as a 5-dimensional manifold:"
   ]
  },
  {
   "cell_type": "code",
   "execution_count": 2,
   "metadata": {
    "collapsed": false
   },
   "outputs": [
    {
     "name": "stdout",
     "output_type": "stream",
     "text": [
      "5-dimensional manifold 'M'\n"
     ]
    }
   ],
   "source": [
    "M = Manifold(5, 'M')\n",
    "print M"
   ]
  },
  {
   "cell_type": "markdown",
   "metadata": {},
   "source": [
    "We introduce a first coordinate system on $M$:"
   ]
  },
  {
   "cell_type": "code",
   "execution_count": 3,
   "metadata": {
    "collapsed": false
   },
   "outputs": [
    {
     "data": {
      "text/html": [
       "<html><script type=\"math/tex; mode=display\">\\newcommand{\\Bold}[1]{\\mathbf{#1}}\\left(M,(t, x, {y_1}, {y_2}, R)\\right)</script></html>"
      ],
      "text/plain": [
       "chart (M, (t, x, y1, y2, R))"
      ]
     },
     "execution_count": 3,
     "metadata": {},
     "output_type": "execute_result"
    }
   ],
   "source": [
    "X0.<t,x,y1,y2,R> = M.chart('t x y1:y_1 y2:y_2 R:(0,+oo)')\n",
    "X0"
   ]
  },
  {
   "cell_type": "markdown",
   "metadata": {},
   "source": [
    "We then consider the following *Lifshitz metric*, parametrized by some real number $\\nu$:"
   ]
  },
  {
   "cell_type": "code",
   "execution_count": 4,
   "metadata": {
    "collapsed": false
   },
   "outputs": [
    {
     "data": {
      "text/html": [
       "<html><script type=\"math/tex; mode=display\">\\newcommand{\\Bold}[1]{\\mathbf{#1}}g = -R^{2 \\, {\\nu}} \\mathrm{d} t\\otimes \\mathrm{d} t + R^{2 \\, {\\nu}} \\mathrm{d} x\\otimes \\mathrm{d} x + R^{2} \\mathrm{d} {y_1}\\otimes \\mathrm{d} {y_1} + R^{2} \\mathrm{d} {y_2}\\otimes \\mathrm{d} {y_2} + \\frac{1}{R^{2}} \\mathrm{d} R\\otimes \\mathrm{d} R</script></html>"
      ],
      "text/plain": [
       "g = -R^(2*nu) dt*dt + R^(2*nu) dx*dx + R^2 dy1*dy1 + R^2 dy2*dy2 + R^(-2) dR*dR"
      ]
     },
     "execution_count": 4,
     "metadata": {},
     "output_type": "execute_result"
    }
   ],
   "source": [
    "g = M.lorentz_metric('g')\n",
    "var('nu', latex_name=r'\\nu', domain='real')\n",
    "g[0,0] = -R^(2*nu)\n",
    "g[1,1] = R^(2*nu)\n",
    "g[2,2] = R^2\n",
    "g[3,3] = R^2\n",
    "g[4,4] = 1/R^2\n",
    "g.display()"
   ]
  },
  {
   "cell_type": "markdown",
   "metadata": {},
   "source": [
    "A matrix view of the metric components:"
   ]
  },
  {
   "cell_type": "code",
   "execution_count": 5,
   "metadata": {
    "collapsed": false
   },
   "outputs": [
    {
     "data": {
      "text/html": [
       "<html><script type=\"math/tex; mode=display\">\\newcommand{\\Bold}[1]{\\mathbf{#1}}\\left(\\begin{array}{rrrrr}\n",
       "-R^{2 \\, {\\nu}} & 0 & 0 & 0 & 0 \\\\\n",
       "0 & R^{2 \\, {\\nu}} & 0 & 0 & 0 \\\\\n",
       "0 & 0 & R^{2} & 0 & 0 \\\\\n",
       "0 & 0 & 0 & R^{2} & 0 \\\\\n",
       "0 & 0 & 0 & 0 & \\frac{1}{R^{2}}\n",
       "\\end{array}\\right)</script></html>"
      ],
      "text/plain": [
       "[-R^(2*nu)         0         0         0         0]\n",
       "[        0  R^(2*nu)         0         0         0]\n",
       "[        0         0       R^2         0         0]\n",
       "[        0         0         0       R^2         0]\n",
       "[        0         0         0         0    R^(-2)]"
      ]
     },
     "execution_count": 5,
     "metadata": {},
     "output_type": "execute_result"
    }
   ],
   "source": [
    "g[:]"
   ]
  },
  {
   "cell_type": "markdown",
   "metadata": {},
   "source": [
    "This metric is invariant under the rescaling\n",
    "$$ (t,x,y_1,y_2,R) \\longmapsto \\left(\\lambda^\\nu t, \\lambda^\\nu x, \\lambda y_1, \\lambda y_2, \\frac{R}{\\lambda} \\right)$$\n",
    "Moreover, if $\\nu=1$, we recognizing the metric of $\\mathrm{AdS}_5$ in Poincaré coordinates."
   ]
  },
  {
   "cell_type": "markdown",
   "metadata": {},
   "source": [
    "Let us introduce a second coordinate on $M$:"
   ]
  },
  {
   "cell_type": "code",
   "execution_count": 6,
   "metadata": {
    "collapsed": false
   },
   "outputs": [
    {
     "data": {
      "text/html": [
       "<html><script type=\"math/tex; mode=display\">\\newcommand{\\Bold}[1]{\\mathbf{#1}}\\left(M,(t, x, {y_1}, {y_2}, r)\\right)</script></html>"
      ],
      "text/plain": [
       "chart (M, (t, x, y1, y2, r))"
      ]
     },
     "execution_count": 6,
     "metadata": {},
     "output_type": "execute_result"
    }
   ],
   "source": [
    "X.<t,x,y1,y2,r> = M.chart('t x y1:y_1 y2:y_2 r:(0,+oo)')\n",
    "X"
   ]
  },
  {
   "cell_type": "markdown",
   "metadata": {},
   "source": [
    "and relate it to the previous one by the transformation $r=\\ln R$:"
   ]
  },
  {
   "cell_type": "code",
   "execution_count": 7,
   "metadata": {
    "collapsed": false
   },
   "outputs": [
    {
     "data": {
      "text/html": [
       "<html><script type=\"math/tex; mode=display\">\\newcommand{\\Bold}[1]{\\mathbf{#1}}\\left\\{\\begin{array}{lcl} t & = & t \\\\ x & = & x \\\\ {y_1} & = & {y_1} \\\\ {y_2} & = & {y_2} \\\\ r & = & \\log\\left(R\\right) \\end{array}\\right.</script></html>"
      ],
      "text/plain": [
       "t = t\n",
       "x = x\n",
       "y1 = y1\n",
       "y2 = y2\n",
       "r = log(R)"
      ]
     },
     "execution_count": 7,
     "metadata": {},
     "output_type": "execute_result"
    }
   ],
   "source": [
    "X0_to_X = X0.transition_map(X, [t, x, y1, y2, ln(R)])\n",
    "X0_to_X.display()"
   ]
  },
  {
   "cell_type": "markdown",
   "metadata": {},
   "source": [
    "The inverse coordinate transition is computed by means of the method `inverse()`:"
   ]
  },
  {
   "cell_type": "code",
   "execution_count": 8,
   "metadata": {
    "collapsed": false
   },
   "outputs": [
    {
     "data": {
      "text/html": [
       "<html><script type=\"math/tex; mode=display\">\\newcommand{\\Bold}[1]{\\mathbf{#1}}\\left\\{\\begin{array}{lcl} t & = & t \\\\ x & = & x \\\\ {y_1} & = & {y_1} \\\\ {y_2} & = & {y_2} \\\\ R & = & e^{r} \\end{array}\\right.</script></html>"
      ],
      "text/plain": [
       "t = t\n",
       "x = x\n",
       "y1 = y1\n",
       "y2 = y2\n",
       "R = e^r"
      ]
     },
     "execution_count": 8,
     "metadata": {},
     "output_type": "execute_result"
    }
   ],
   "source": [
    "X_to_X0 = X0_to_X.inverse()\n",
    "X_to_X0.display()"
   ]
  },
  {
   "cell_type": "markdown",
   "metadata": {},
   "source": [
    "At this stage, the user atlas on the manifold is"
   ]
  },
  {
   "cell_type": "code",
   "execution_count": 9,
   "metadata": {
    "collapsed": false
   },
   "outputs": [
    {
     "data": {
      "text/html": [
       "<html><script type=\"math/tex; mode=display\">\\newcommand{\\Bold}[1]{\\mathbf{#1}}\\left[\\left(M,(t, x, {y_1}, {y_2}, R)\\right), \\left(M,(t, x, {y_1}, {y_2}, r)\\right)\\right]</script></html>"
      ],
      "text/plain": [
       "[chart (M, (t, x, y1, y2, R)), chart (M, (t, x, y1, y2, r))]"
      ]
     },
     "execution_count": 9,
     "metadata": {},
     "output_type": "execute_result"
    }
   ],
   "source": [
    "M.atlas()"
   ]
  },
  {
   "cell_type": "markdown",
   "metadata": {},
   "source": [
    "and the list of vector frames defined on the manifold is"
   ]
  },
  {
   "cell_type": "code",
   "execution_count": 10,
   "metadata": {
    "collapsed": false
   },
   "outputs": [
    {
     "data": {
      "text/html": [
       "<html><script type=\"math/tex; mode=display\">\\newcommand{\\Bold}[1]{\\mathbf{#1}}\\left[\\left(M ,\\left(\\frac{\\partial}{\\partial t },\\frac{\\partial}{\\partial x },\\frac{\\partial}{\\partial {y_1} },\\frac{\\partial}{\\partial {y_2} },\\frac{\\partial}{\\partial R }\\right)\\right), \\left(M ,\\left(\\frac{\\partial}{\\partial t },\\frac{\\partial}{\\partial x },\\frac{\\partial}{\\partial {y_1} },\\frac{\\partial}{\\partial {y_2} },\\frac{\\partial}{\\partial r }\\right)\\right)\\right]</script></html>"
      ],
      "text/plain": [
       "[coordinate frame (M, (d/dt,d/dx,d/dy1,d/dy2,d/dR)),\n",
       " coordinate frame (M, (d/dt,d/dx,d/dy1,d/dy2,d/dr))]"
      ]
     },
     "execution_count": 10,
     "metadata": {},
     "output_type": "execute_result"
    }
   ],
   "source": [
    "M.frames()"
   ]
  },
  {
   "cell_type": "markdown",
   "metadata": {},
   "source": [
    "The expression of the metric in terms of the new coordinates is"
   ]
  },
  {
   "cell_type": "code",
   "execution_count": 11,
   "metadata": {
    "collapsed": false
   },
   "outputs": [
    {
     "data": {
      "text/html": [
       "<html><script type=\"math/tex; mode=display\">\\newcommand{\\Bold}[1]{\\mathbf{#1}}g = -e^{\\left(2 \\, {\\nu} r\\right)} \\mathrm{d} t\\otimes \\mathrm{d} t + e^{\\left(2 \\, {\\nu} r\\right)} \\mathrm{d} x\\otimes \\mathrm{d} x + e^{\\left(2 \\, r\\right)} \\mathrm{d} {y_1}\\otimes \\mathrm{d} {y_1} + e^{\\left(2 \\, r\\right)} \\mathrm{d} {y_2}\\otimes \\mathrm{d} {y_2} +\\mathrm{d} r\\otimes \\mathrm{d} r</script></html>"
      ],
      "text/plain": [
       "g = -e^(2*nu*r) dt*dt + e^(2*nu*r) dx*dx + e^(2*r) dy1*dy1 + e^(2*r) dy2*dy2 + dr*dr"
      ]
     },
     "execution_count": 11,
     "metadata": {},
     "output_type": "execute_result"
    }
   ],
   "source": [
    "g.display(X.frame(), X)"
   ]
  },
  {
   "cell_type": "markdown",
   "metadata": {},
   "source": [
    "or, in matrix view:"
   ]
  },
  {
   "cell_type": "code",
   "execution_count": 12,
   "metadata": {
    "collapsed": false
   },
   "outputs": [
    {
     "data": {
      "text/html": [
       "<html><script type=\"math/tex; mode=display\">\\newcommand{\\Bold}[1]{\\mathbf{#1}}\\left(\\begin{array}{rrrrr}\n",
       "-e^{\\left(2 \\, {\\nu} r\\right)} & 0 & 0 & 0 & 0 \\\\\n",
       "0 & e^{\\left(2 \\, {\\nu} r\\right)} & 0 & 0 & 0 \\\\\n",
       "0 & 0 & e^{\\left(2 \\, r\\right)} & 0 & 0 \\\\\n",
       "0 & 0 & 0 & e^{\\left(2 \\, r\\right)} & 0 \\\\\n",
       "0 & 0 & 0 & 0 & 1\n",
       "\\end{array}\\right)</script></html>"
      ],
      "text/plain": [
       "[-e^(2*nu*r)           0           0           0           0]\n",
       "[          0  e^(2*nu*r)           0           0           0]\n",
       "[          0           0     e^(2*r)           0           0]\n",
       "[          0           0           0     e^(2*r)           0]\n",
       "[          0           0           0           0           1]"
      ]
     },
     "execution_count": 12,
     "metadata": {},
     "output_type": "execute_result"
    }
   ],
   "source": [
    "g[X.frame(),:,X]"
   ]
  },
  {
   "cell_type": "markdown",
   "metadata": {},
   "source": [
    "To access a particular component, we have to specify the frame w.r.t. which it is defined and the coordinates in which the component is expressed:"
   ]
  },
  {
   "cell_type": "code",
   "execution_count": 13,
   "metadata": {
    "collapsed": false
   },
   "outputs": [
    {
     "data": {
      "text/html": [
       "<html><script type=\"math/tex; mode=display\">\\newcommand{\\Bold}[1]{\\mathbf{#1}}-e^{\\left(2 \\, {\\nu} r\\right)}</script></html>"
      ],
      "text/plain": [
       "-e^(2*nu*r)"
      ]
     },
     "execution_count": 13,
     "metadata": {},
     "output_type": "execute_result"
    }
   ],
   "source": [
    "g[X.frame(),0,0,X]"
   ]
  },
  {
   "cell_type": "code",
   "execution_count": 14,
   "metadata": {
    "collapsed": false
   },
   "outputs": [
    {
     "data": {
      "text/html": [
       "<html><script type=\"math/tex; mode=display\">\\newcommand{\\Bold}[1]{\\mathbf{#1}}-R^{2 \\, {\\nu}}</script></html>"
      ],
      "text/plain": [
       "-R^(2*nu)"
      ]
     },
     "execution_count": 14,
     "metadata": {},
     "output_type": "execute_result"
    }
   ],
   "source": [
    "g[X.frame(),0,0]  # the default chart is used"
   ]
  },
  {
   "cell_type": "markdown",
   "metadata": {},
   "source": [
    "From now on, let us consider the coordinates $X = (t,x,y_1,y_2,r)$ as the default ones on the manifold $M$:"
   ]
  },
  {
   "cell_type": "code",
   "execution_count": 15,
   "metadata": {
    "collapsed": false
   },
   "outputs": [],
   "source": [
    "M.set_default_chart(X)\n",
    "M.set_default_frame(X.frame())"
   ]
  },
  {
   "cell_type": "markdown",
   "metadata": {},
   "source": [
    "Then"
   ]
  },
  {
   "cell_type": "code",
   "execution_count": 16,
   "metadata": {
    "collapsed": false
   },
   "outputs": [
    {
     "data": {
      "text/html": [
       "<html><script type=\"math/tex; mode=display\">\\newcommand{\\Bold}[1]{\\mathbf{#1}}g = -e^{\\left(2 \\, {\\nu} r\\right)} \\mathrm{d} t\\otimes \\mathrm{d} t + e^{\\left(2 \\, {\\nu} r\\right)} \\mathrm{d} x\\otimes \\mathrm{d} x + e^{\\left(2 \\, r\\right)} \\mathrm{d} {y_1}\\otimes \\mathrm{d} {y_1} + e^{\\left(2 \\, r\\right)} \\mathrm{d} {y_2}\\otimes \\mathrm{d} {y_2} +\\mathrm{d} r\\otimes \\mathrm{d} r</script></html>"
      ],
      "text/plain": [
       "g = -e^(2*nu*r) dt*dt + e^(2*nu*r) dx*dx + e^(2*r) dy1*dy1 + e^(2*r) dy2*dy2 + dr*dr"
      ]
     },
     "execution_count": 16,
     "metadata": {},
     "output_type": "execute_result"
    }
   ],
   "source": [
    "g.display()"
   ]
  },
  {
   "cell_type": "code",
   "execution_count": 17,
   "metadata": {
    "collapsed": false
   },
   "outputs": [
    {
     "data": {
      "text/html": [
       "<html><script type=\"math/tex; mode=display\">\\newcommand{\\Bold}[1]{\\mathbf{#1}}\\left(\\begin{array}{rrrrr}\n",
       "-e^{\\left(2 \\, {\\nu} r\\right)} & 0 & 0 & 0 & 0 \\\\\n",
       "0 & e^{\\left(2 \\, {\\nu} r\\right)} & 0 & 0 & 0 \\\\\n",
       "0 & 0 & e^{\\left(2 \\, r\\right)} & 0 & 0 \\\\\n",
       "0 & 0 & 0 & e^{\\left(2 \\, r\\right)} & 0 \\\\\n",
       "0 & 0 & 0 & 0 & 1\n",
       "\\end{array}\\right)</script></html>"
      ],
      "text/plain": [
       "[-e^(2*nu*r)           0           0           0           0]\n",
       "[          0  e^(2*nu*r)           0           0           0]\n",
       "[          0           0     e^(2*r)           0           0]\n",
       "[          0           0           0     e^(2*r)           0]\n",
       "[          0           0           0           0           1]"
      ]
     },
     "execution_count": 17,
     "metadata": {},
     "output_type": "execute_result"
    }
   ],
   "source": [
    "g[:]"
   ]
  },
  {
   "cell_type": "code",
   "execution_count": 18,
   "metadata": {
    "collapsed": false
   },
   "outputs": [
    {
     "data": {
      "text/html": [
       "<html><script type=\"math/tex; mode=display\">\\newcommand{\\Bold}[1]{\\mathbf{#1}}-e^{\\left(2 \\, {\\nu} r\\right)}</script></html>"
      ],
      "text/plain": [
       "-e^(2*nu*r)"
      ]
     },
     "execution_count": 18,
     "metadata": {},
     "output_type": "execute_result"
    }
   ],
   "source": [
    "g[0,0]"
   ]
  },
  {
   "cell_type": "code",
   "execution_count": 19,
   "metadata": {
    "collapsed": false
   },
   "outputs": [
    {
     "data": {
      "text/html": [
       "<html><script type=\"math/tex; mode=display\">\\newcommand{\\Bold}[1]{\\mathbf{#1}}\\begin{array}{lcl} g_{ \\, t \\, t }^{ \\phantom{\\, t } \\phantom{\\, t } } & = & -e^{\\left(2 \\, {\\nu} r\\right)} \\\\ g_{ \\, x \\, x }^{ \\phantom{\\, x } \\phantom{\\, x } } & = & e^{\\left(2 \\, {\\nu} r\\right)} \\\\ g_{ \\, {y_1} \\, {y_1} }^{ \\phantom{\\, {y_1} } \\phantom{\\, {y_1} } } & = & e^{\\left(2 \\, r\\right)} \\\\ g_{ \\, {y_2} \\, {y_2} }^{ \\phantom{\\, {y_2} } \\phantom{\\, {y_2} } } & = & e^{\\left(2 \\, r\\right)} \\\\ g_{ \\, r \\, r }^{ \\phantom{\\, r } \\phantom{\\, r } } & = & 1 \\end{array}</script></html>"
      ],
      "text/plain": [
       "g_t,t = -e^(2*nu*r) \n",
       "g_x,x = e^(2*nu*r) \n",
       "g_y1,y1 = e^(2*r) \n",
       "g_y2,y2 = e^(2*r) \n",
       "g_r,r = 1 "
      ]
     },
     "execution_count": 19,
     "metadata": {},
     "output_type": "execute_result"
    }
   ],
   "source": [
    "g.display_comp()"
   ]
  },
  {
   "cell_type": "markdown",
   "metadata": {},
   "source": [
    "## Curvature\n",
    "\n",
    "The Riemann tensor is"
   ]
  },
  {
   "cell_type": "code",
   "execution_count": 20,
   "metadata": {
    "collapsed": false
   },
   "outputs": [
    {
     "name": "stdout",
     "output_type": "stream",
     "text": [
      "tensor field 'Riem(g)' of type (1,3) on the 5-dimensional manifold 'M'\n"
     ]
    }
   ],
   "source": [
    "Riem = g.riemann()\n",
    "print Riem"
   ]
  },
  {
   "cell_type": "code",
   "execution_count": 21,
   "metadata": {
    "collapsed": false
   },
   "outputs": [
    {
     "data": {
      "text/html": [
       "<html><script type=\"math/tex; mode=display\">\\newcommand{\\Bold}[1]{\\mathbf{#1}}\\begin{array}{lcl} \\mathrm{Riem}\\left(g\\right)_{ \\phantom{\\, t } \\, x \\, t \\, x }^{ \\, t \\phantom{\\, x } \\phantom{\\, t } \\phantom{\\, x } } & = & -{\\nu}^{2} e^{\\left(2 \\, {\\nu} r\\right)} \\\\ \\mathrm{Riem}\\left(g\\right)_{ \\phantom{\\, t } \\, {y_1} \\, t \\, {y_1} }^{ \\, t \\phantom{\\, {y_1} } \\phantom{\\, t } \\phantom{\\, {y_1} } } & = & -{\\nu} e^{\\left(2 \\, r\\right)} \\\\ \\mathrm{Riem}\\left(g\\right)_{ \\phantom{\\, t } \\, {y_2} \\, t \\, {y_2} }^{ \\, t \\phantom{\\, {y_2} } \\phantom{\\, t } \\phantom{\\, {y_2} } } & = & -{\\nu} e^{\\left(2 \\, r\\right)} \\\\ \\mathrm{Riem}\\left(g\\right)_{ \\phantom{\\, t } \\, r \\, t \\, r }^{ \\, t \\phantom{\\, r } \\phantom{\\, t } \\phantom{\\, r } } & = & -{\\nu}^{2} \\\\ \\mathrm{Riem}\\left(g\\right)_{ \\phantom{\\, x } \\, t \\, t \\, x }^{ \\, x \\phantom{\\, t } \\phantom{\\, t } \\phantom{\\, x } } & = & -{\\nu}^{2} e^{\\left(2 \\, {\\nu} r\\right)} \\\\ \\mathrm{Riem}\\left(g\\right)_{ \\phantom{\\, x } \\, {y_1} \\, x \\, {y_1} }^{ \\, x \\phantom{\\, {y_1} } \\phantom{\\, x } \\phantom{\\, {y_1} } } & = & -{\\nu} e^{\\left(2 \\, r\\right)} \\\\ \\mathrm{Riem}\\left(g\\right)_{ \\phantom{\\, x } \\, {y_2} \\, x \\, {y_2} }^{ \\, x \\phantom{\\, {y_2} } \\phantom{\\, x } \\phantom{\\, {y_2} } } & = & -{\\nu} e^{\\left(2 \\, r\\right)} \\\\ \\mathrm{Riem}\\left(g\\right)_{ \\phantom{\\, x } \\, r \\, x \\, r }^{ \\, x \\phantom{\\, r } \\phantom{\\, x } \\phantom{\\, r } } & = & -{\\nu}^{2} \\\\ \\mathrm{Riem}\\left(g\\right)_{ \\phantom{\\, {y_1} } \\, t \\, t \\, {y_1} }^{ \\, {y_1} \\phantom{\\, t } \\phantom{\\, t } \\phantom{\\, {y_1} } } & = & -{\\nu} e^{\\left(2 \\, {\\nu} r\\right)} \\\\ \\mathrm{Riem}\\left(g\\right)_{ \\phantom{\\, {y_1} } \\, x \\, x \\, {y_1} }^{ \\, {y_1} \\phantom{\\, x } \\phantom{\\, x } \\phantom{\\, {y_1} } } & = & {\\nu} e^{\\left(2 \\, {\\nu} r\\right)} \\\\ \\mathrm{Riem}\\left(g\\right)_{ \\phantom{\\, {y_1} } \\, {y_2} \\, {y_1} \\, {y_2} }^{ \\, {y_1} \\phantom{\\, {y_2} } \\phantom{\\, {y_1} } \\phantom{\\, {y_2} } } & = & -e^{\\left(2 \\, r\\right)} \\\\ \\mathrm{Riem}\\left(g\\right)_{ \\phantom{\\, {y_1} } \\, r \\, {y_1} \\, r }^{ \\, {y_1} \\phantom{\\, r } \\phantom{\\, {y_1} } \\phantom{\\, r } } & = & -1 \\\\ \\mathrm{Riem}\\left(g\\right)_{ \\phantom{\\, {y_2} } \\, t \\, t \\, {y_2} }^{ \\, {y_2} \\phantom{\\, t } \\phantom{\\, t } \\phantom{\\, {y_2} } } & = & -{\\nu} e^{\\left(2 \\, {\\nu} r\\right)} \\\\ \\mathrm{Riem}\\left(g\\right)_{ \\phantom{\\, {y_2} } \\, x \\, x \\, {y_2} }^{ \\, {y_2} \\phantom{\\, x } \\phantom{\\, x } \\phantom{\\, {y_2} } } & = & {\\nu} e^{\\left(2 \\, {\\nu} r\\right)} \\\\ \\mathrm{Riem}\\left(g\\right)_{ \\phantom{\\, {y_2} } \\, {y_1} \\, {y_1} \\, {y_2} }^{ \\, {y_2} \\phantom{\\, {y_1} } \\phantom{\\, {y_1} } \\phantom{\\, {y_2} } } & = & e^{\\left(2 \\, r\\right)} \\\\ \\mathrm{Riem}\\left(g\\right)_{ \\phantom{\\, {y_2} } \\, r \\, {y_2} \\, r }^{ \\, {y_2} \\phantom{\\, r } \\phantom{\\, {y_2} } \\phantom{\\, r } } & = & -1 \\\\ \\mathrm{Riem}\\left(g\\right)_{ \\phantom{\\, r } \\, t \\, t \\, r }^{ \\, r \\phantom{\\, t } \\phantom{\\, t } \\phantom{\\, r } } & = & -{\\nu}^{2} e^{\\left(2 \\, {\\nu} r\\right)} \\\\ \\mathrm{Riem}\\left(g\\right)_{ \\phantom{\\, r } \\, x \\, x \\, r }^{ \\, r \\phantom{\\, x } \\phantom{\\, x } \\phantom{\\, r } } & = & {\\nu}^{2} e^{\\left(2 \\, {\\nu} r\\right)} \\\\ \\mathrm{Riem}\\left(g\\right)_{ \\phantom{\\, r } \\, {y_1} \\, {y_1} \\, r }^{ \\, r \\phantom{\\, {y_1} } \\phantom{\\, {y_1} } \\phantom{\\, r } } & = & e^{\\left(2 \\, r\\right)} \\\\ \\mathrm{Riem}\\left(g\\right)_{ \\phantom{\\, r } \\, {y_2} \\, {y_2} \\, r }^{ \\, r \\phantom{\\, {y_2} } \\phantom{\\, {y_2} } \\phantom{\\, r } } & = & e^{\\left(2 \\, r\\right)} \\end{array}</script></html>"
      ],
      "text/plain": [
       "Riem(g)^t_x,t,x = -nu^2*e^(2*nu*r) \n",
       "Riem(g)^t_y1,t,y1 = -nu*e^(2*r) \n",
       "Riem(g)^t_y2,t,y2 = -nu*e^(2*r) \n",
       "Riem(g)^t_r,t,r = -nu^2 \n",
       "Riem(g)^x_t,t,x = -nu^2*e^(2*nu*r) \n",
       "Riem(g)^x_y1,x,y1 = -nu*e^(2*r) \n",
       "Riem(g)^x_y2,x,y2 = -nu*e^(2*r) \n",
       "Riem(g)^x_r,x,r = -nu^2 \n",
       "Riem(g)^y1_t,t,y1 = -nu*e^(2*nu*r) \n",
       "Riem(g)^y1_x,x,y1 = nu*e^(2*nu*r) \n",
       "Riem(g)^y1_y2,y1,y2 = -e^(2*r) \n",
       "Riem(g)^y1_r,y1,r = -1 \n",
       "Riem(g)^y2_t,t,y2 = -nu*e^(2*nu*r) \n",
       "Riem(g)^y2_x,x,y2 = nu*e^(2*nu*r) \n",
       "Riem(g)^y2_y1,y1,y2 = e^(2*r) \n",
       "Riem(g)^y2_r,y2,r = -1 \n",
       "Riem(g)^r_t,t,r = -nu^2*e^(2*nu*r) \n",
       "Riem(g)^r_x,x,r = nu^2*e^(2*nu*r) \n",
       "Riem(g)^r_y1,y1,r = e^(2*r) \n",
       "Riem(g)^r_y2,y2,r = e^(2*r) "
      ]
     },
     "execution_count": 21,
     "metadata": {},
     "output_type": "execute_result"
    }
   ],
   "source": [
    "Riem.display_comp(only_nonredundant=True)"
   ]
  },
  {
   "cell_type": "markdown",
   "metadata": {},
   "source": [
    "The Ricci tensor:"
   ]
  },
  {
   "cell_type": "code",
   "execution_count": 22,
   "metadata": {
    "collapsed": false
   },
   "outputs": [
    {
     "name": "stdout",
     "output_type": "stream",
     "text": [
      "field of symmetric bilinear forms 'Ric(g)' on the 5-dimensional manifold 'M'\n"
     ]
    }
   ],
   "source": [
    "Ric = g.ricci()\n",
    "print Ric"
   ]
  },
  {
   "cell_type": "code",
   "execution_count": 23,
   "metadata": {
    "collapsed": false
   },
   "outputs": [
    {
     "data": {
      "text/html": [
       "<html><script type=\"math/tex; mode=display\">\\newcommand{\\Bold}[1]{\\mathbf{#1}}\\mathrm{Ric}\\left(g\\right) = 2 \\, {\\left({\\nu}^{2} + {\\nu}\\right)} e^{\\left(2 \\, {\\nu} r\\right)} \\mathrm{d} t\\otimes \\mathrm{d} t -2 \\, {\\left({\\nu}^{2} + {\\nu}\\right)} e^{\\left(2 \\, {\\nu} r\\right)} \\mathrm{d} x\\otimes \\mathrm{d} x -2 \\, {\\left({\\nu} + 1\\right)} e^{\\left(2 \\, r\\right)} \\mathrm{d} {y_1}\\otimes \\mathrm{d} {y_1} -2 \\, {\\left({\\nu} + 1\\right)} e^{\\left(2 \\, r\\right)} \\mathrm{d} {y_2}\\otimes \\mathrm{d} {y_2} + \\left( -2 \\, {\\nu}^{2} - 2 \\right) \\mathrm{d} r\\otimes \\mathrm{d} r</script></html>"
      ],
      "text/plain": [
       "Ric(g) = 2*(nu^2 + nu)*e^(2*nu*r) dt*dt - 2*(nu^2 + nu)*e^(2*nu*r) dx*dx - 2*(nu + 1)*e^(2*r) dy1*dy1 - 2*(nu + 1)*e^(2*r) dy2*dy2 + (-2*nu^2 - 2) dr*dr"
      ]
     },
     "execution_count": 23,
     "metadata": {},
     "output_type": "execute_result"
    }
   ],
   "source": [
    "Ric.display()"
   ]
  },
  {
   "cell_type": "code",
   "execution_count": 24,
   "metadata": {
    "collapsed": false
   },
   "outputs": [
    {
     "data": {
      "text/html": [
       "<html><script type=\"math/tex; mode=display\">\\newcommand{\\Bold}[1]{\\mathbf{#1}}\\begin{array}{lcl} \\mathrm{Ric}\\left(g\\right)_{ \\, t \\, t }^{ \\phantom{\\, t } \\phantom{\\, t } } & = & 2 \\, {\\left({\\nu}^{2} + {\\nu}\\right)} e^{\\left(2 \\, {\\nu} r\\right)} \\\\ \\mathrm{Ric}\\left(g\\right)_{ \\, x \\, x }^{ \\phantom{\\, x } \\phantom{\\, x } } & = & -2 \\, {\\left({\\nu}^{2} + {\\nu}\\right)} e^{\\left(2 \\, {\\nu} r\\right)} \\\\ \\mathrm{Ric}\\left(g\\right)_{ \\, {y_1} \\, {y_1} }^{ \\phantom{\\, {y_1} } \\phantom{\\, {y_1} } } & = & -2 \\, {\\left({\\nu} + 1\\right)} e^{\\left(2 \\, r\\right)} \\\\ \\mathrm{Ric}\\left(g\\right)_{ \\, {y_2} \\, {y_2} }^{ \\phantom{\\, {y_2} } \\phantom{\\, {y_2} } } & = & -2 \\, {\\left({\\nu} + 1\\right)} e^{\\left(2 \\, r\\right)} \\\\ \\mathrm{Ric}\\left(g\\right)_{ \\, r \\, r }^{ \\phantom{\\, r } \\phantom{\\, r } } & = & -2 \\, {\\nu}^{2} - 2 \\end{array}</script></html>"
      ],
      "text/plain": [
       "Ric(g)_t,t = 2*(nu^2 + nu)*e^(2*nu*r) \n",
       "Ric(g)_x,x = -2*(nu^2 + nu)*e^(2*nu*r) \n",
       "Ric(g)_y1,y1 = -2*(nu + 1)*e^(2*r) \n",
       "Ric(g)_y2,y2 = -2*(nu + 1)*e^(2*r) \n",
       "Ric(g)_r,r = -2*nu^2 - 2 "
      ]
     },
     "execution_count": 24,
     "metadata": {},
     "output_type": "execute_result"
    }
   ],
   "source": [
    "Ric.display_comp()"
   ]
  },
  {
   "cell_type": "markdown",
   "metadata": {},
   "source": [
    "The Ricci scalar:"
   ]
  },
  {
   "cell_type": "code",
   "execution_count": 25,
   "metadata": {
    "collapsed": false
   },
   "outputs": [
    {
     "name": "stdout",
     "output_type": "stream",
     "text": [
      "scalar field 'r(g)' on the 5-dimensional manifold 'M'\n"
     ]
    }
   ],
   "source": [
    "Rscal = g.ricci_scalar()\n",
    "print Rscal"
   ]
  },
  {
   "cell_type": "code",
   "execution_count": 26,
   "metadata": {
    "collapsed": false
   },
   "outputs": [
    {
     "data": {
      "text/html": [
       "<html><script type=\"math/tex; mode=display\">\\newcommand{\\Bold}[1]{\\mathbf{#1}}\\begin{array}{llcl} \\mathrm{r}\\left(g\\right):& M & \\longrightarrow & \\mathbb{R} \\\\ & \\left(t, x, {y_1}, {y_2}, R\\right) & \\longmapsto & -6 \\, {\\nu}^{2} - 8 \\, {\\nu} - 6 \\\\ & \\left(t, x, {y_1}, {y_2}, r\\right) & \\longmapsto & -6 \\, {\\nu}^{2} - 8 \\, {\\nu} - 6 \\end{array}</script></html>"
      ],
      "text/plain": [
       "r(g): M --> R\n",
       "   (t, x, y1, y2, R) |--> -6*nu^2 - 8*nu - 6\n",
       "   (t, x, y1, y2, r) |--> -6*nu^2 - 8*nu - 6"
      ]
     },
     "execution_count": 26,
     "metadata": {},
     "output_type": "execute_result"
    }
   ],
   "source": [
    "Rscal.display()"
   ]
  },
  {
   "cell_type": "markdown",
   "metadata": {},
   "source": [
    "We note that the Ricci scalar is constant."
   ]
  },
  {
   "cell_type": "markdown",
   "metadata": {},
   "source": [
    "## The dilaton scalar field\n",
    "\n",
    "We consider the following ansatz for the dilaton scalar field $\\phi$:"
   ]
  },
  {
   "cell_type": "code",
   "execution_count": 27,
   "metadata": {
    "collapsed": false
   },
   "outputs": [
    {
     "data": {
      "text/html": [
       "<html><script type=\"math/tex; mode=display\">\\newcommand{\\Bold}[1]{\\mathbf{#1}}\\begin{array}{llcl} \\phi:& M & \\longrightarrow & \\mathbb{R} \\\\ & \\left(t, x, {y_1}, {y_2}, R\\right) & \\longmapsto & \\frac{4 \\, \\log\\left(R\\right) + \\log\\left({\\mu}\\right)}{{\\lambda}} \\\\ & \\left(t, x, {y_1}, {y_2}, r\\right) & \\longmapsto & \\frac{4 \\, r + \\log\\left({\\mu}\\right)}{{\\lambda}} \\end{array}</script></html>"
      ],
      "text/plain": [
       "phi: M --> R\n",
       "   (t, x, y1, y2, R) |--> (4*log(R) + log(mu))/lamb\n",
       "   (t, x, y1, y2, r) |--> (4*r + log(mu))/lamb"
      ]
     },
     "execution_count": 27,
     "metadata": {},
     "output_type": "execute_result"
    }
   ],
   "source": [
    "var('mu', latex_name=r'\\mu')\n",
    "var('lamb', latex_name=r'\\lambda')\n",
    "phi = M.scalar_field({X: (4*r + ln(mu))/lamb}, name='phi', latex_name=r'\\phi')\n",
    "phi.display()"
   ]
  },
  {
   "cell_type": "markdown",
   "metadata": {},
   "source": [
    "The 1-form $\\mathrm{d}\\phi$ is"
   ]
  },
  {
   "cell_type": "code",
   "execution_count": 28,
   "metadata": {
    "collapsed": false
   },
   "outputs": [
    {
     "name": "stdout",
     "output_type": "stream",
     "text": [
      "1-form 'dphi' on the 5-dimensional manifold 'M'\n"
     ]
    }
   ],
   "source": [
    "dphi = phi.differential()\n",
    "print dphi"
   ]
  },
  {
   "cell_type": "code",
   "execution_count": 29,
   "metadata": {
    "collapsed": false
   },
   "outputs": [
    {
     "data": {
      "text/html": [
       "<html><script type=\"math/tex; mode=display\">\\newcommand{\\Bold}[1]{\\mathbf{#1}}\\mathrm{d}\\phi = \\frac{4}{{\\lambda}} \\mathrm{d} r</script></html>"
      ],
      "text/plain": [
       "dphi = 4/lamb dr"
      ]
     },
     "execution_count": 29,
     "metadata": {},
     "output_type": "execute_result"
    }
   ],
   "source": [
    "dphi.display()"
   ]
  },
  {
   "cell_type": "code",
   "execution_count": 30,
   "metadata": {
    "collapsed": false
   },
   "outputs": [
    {
     "data": {
      "text/html": [
       "<html><script type=\"math/tex; mode=display\">\\newcommand{\\Bold}[1]{\\mathbf{#1}}\\left[0, 0, 0, 0, \\frac{4}{{\\lambda}}\\right]</script></html>"
      ],
      "text/plain": [
       "[0, 0, 0, 0, 4/lamb]"
      ]
     },
     "execution_count": 30,
     "metadata": {},
     "output_type": "execute_result"
    }
   ],
   "source": [
    "dphi[:]  # all the components in the default frame"
   ]
  },
  {
   "cell_type": "markdown",
   "metadata": {},
   "source": [
    "## The 2-form field\n",
    "\n",
    "Let us first get the 1-forms $\\mathrm{d}y_1$ and $\\mathrm{d}y_2$:"
   ]
  },
  {
   "cell_type": "code",
   "execution_count": 31,
   "metadata": {
    "collapsed": false
   },
   "outputs": [
    {
     "data": {
      "text/html": [
       "<html><script type=\"math/tex; mode=display\">\\newcommand{\\Bold}[1]{\\mathbf{#1}}\\left(M ,\\left(\\mathrm{d} t,\\mathrm{d} x,\\mathrm{d} {y_1},\\mathrm{d} {y_2},\\mathrm{d} r\\right)\\right)</script></html>"
      ],
      "text/plain": [
       "coordinate coframe (M, (dt,dx,dy1,dy2,dr))"
      ]
     },
     "execution_count": 31,
     "metadata": {},
     "output_type": "execute_result"
    }
   ],
   "source": [
    "X.coframe()"
   ]
  },
  {
   "cell_type": "code",
   "execution_count": 32,
   "metadata": {
    "collapsed": false
   },
   "outputs": [
    {
     "name": "stdout",
     "output_type": "stream",
     "text": [
      "1-form 'dy1' on the 5-dimensional manifold 'M'\n",
      "1-form 'dy2' on the 5-dimensional manifold 'M'\n"
     ]
    },
    {
     "data": {
      "text/html": [
       "<html><script type=\"math/tex; mode=display\">\\newcommand{\\Bold}[1]{\\mathbf{#1}}\\left(\\mathrm{d} {y_1}, \\mathrm{d} {y_2}\\right)</script></html>"
      ],
      "text/plain": [
       "(1-form 'dy1' on the 5-dimensional manifold 'M',\n",
       " 1-form 'dy2' on the 5-dimensional manifold 'M')"
      ]
     },
     "execution_count": 32,
     "metadata": {},
     "output_type": "execute_result"
    }
   ],
   "source": [
    "dy1 = X.coframe()[2]\n",
    "dy2 = X.coframe()[3]\n",
    "print dy1\n",
    "print dy2\n",
    "dy1, dy2"
   ]
  },
  {
   "cell_type": "markdown",
   "metadata": {},
   "source": [
    "We then consider the following ansatz for $F$:"
   ]
  },
  {
   "cell_type": "code",
   "execution_count": 33,
   "metadata": {
    "collapsed": false
   },
   "outputs": [
    {
     "name": "stdout",
     "output_type": "stream",
     "text": [
      "2-form 'F' on the 5-dimensional manifold 'M'\n"
     ]
    },
    {
     "data": {
      "text/html": [
       "<html><script type=\"math/tex; mode=display\">\\newcommand{\\Bold}[1]{\\mathbf{#1}}F = \\frac{1}{2} \\, q \\mathrm{d} {y_1}\\wedge \\mathrm{d} {y_2}</script></html>"
      ],
      "text/plain": [
       "F = 1/2*q dy1/\\dy2"
      ]
     },
     "execution_count": 33,
     "metadata": {},
     "output_type": "execute_result"
    }
   ],
   "source": [
    "var('q')\n",
    "F = q/2 * dy1.wedge(dy2)\n",
    "F.set_name('F')\n",
    "print F\n",
    "F.display()"
   ]
  },
  {
   "cell_type": "markdown",
   "metadata": {},
   "source": [
    "By construction, the 2-form $F$ is closed (since $q$ is constant):"
   ]
  },
  {
   "cell_type": "code",
   "execution_count": 34,
   "metadata": {
    "collapsed": false
   },
   "outputs": [
    {
     "name": "stdout",
     "output_type": "stream",
     "text": [
      "3-form 'dF' on the 5-dimensional manifold 'M'\n"
     ]
    }
   ],
   "source": [
    "print xder(F)"
   ]
  },
  {
   "cell_type": "code",
   "execution_count": 35,
   "metadata": {
    "collapsed": false
   },
   "outputs": [
    {
     "data": {
      "text/html": [
       "<html><script type=\"math/tex; mode=display\">\\newcommand{\\Bold}[1]{\\mathbf{#1}}\\mathrm{d}F = 0</script></html>"
      ],
      "text/plain": [
       "dF = 0"
      ]
     },
     "execution_count": 35,
     "metadata": {},
     "output_type": "execute_result"
    }
   ],
   "source": [
    "xder(F).display()"
   ]
  },
  {
   "cell_type": "markdown",
   "metadata": {},
   "source": [
    "Let us evaluate the square $F_{mn} F^{mn}$ of $F$:"
   ]
  },
  {
   "cell_type": "code",
   "execution_count": 36,
   "metadata": {
    "collapsed": false
   },
   "outputs": [
    {
     "name": "stdout",
     "output_type": "stream",
     "text": [
      "tensor field of type (2,0) on the 5-dimensional manifold 'M'\n"
     ]
    },
    {
     "data": {
      "text/html": [
       "<html><script type=\"math/tex; mode=display\">\\newcommand{\\Bold}[1]{\\mathbf{#1}}\\frac{1}{2} \\, q e^{\\left(-4 \\, r\\right)} \\frac{\\partial}{\\partial {y_1} }\\otimes \\frac{\\partial}{\\partial {y_2} } -\\frac{1}{2} \\, q e^{\\left(-4 \\, r\\right)} \\frac{\\partial}{\\partial {y_2} }\\otimes \\frac{\\partial}{\\partial {y_1} }</script></html>"
      ],
      "text/plain": [
       "1/2*q*e^(-4*r) d/dy1*d/dy2 - 1/2*q*e^(-4*r) d/dy2*d/dy1"
      ]
     },
     "execution_count": 36,
     "metadata": {},
     "output_type": "execute_result"
    }
   ],
   "source": [
    "Fu = F.up(g)\n",
    "print Fu\n",
    "Fu.display()"
   ]
  },
  {
   "cell_type": "code",
   "execution_count": 37,
   "metadata": {
    "collapsed": false
   },
   "outputs": [
    {
     "name": "stdout",
     "output_type": "stream",
     "text": [
      "scalar field on the 5-dimensional manifold 'M'\n"
     ]
    },
    {
     "data": {
      "text/html": [
       "<html><script type=\"math/tex; mode=display\">\\newcommand{\\Bold}[1]{\\mathbf{#1}}\\begin{array}{llcl} & M & \\longrightarrow & \\mathbb{R} \\\\ & \\left(t, x, {y_1}, {y_2}, R\\right) & \\longmapsto & \\frac{q^{2}}{2 \\, R^{4}} \\\\ & \\left(t, x, {y_1}, {y_2}, r\\right) & \\longmapsto & \\frac{1}{2} \\, q^{2} e^{\\left(-4 \\, r\\right)} \\end{array}</script></html>"
      ],
      "text/plain": [
       "M --> R\n",
       "(t, x, y1, y2, R) |--> 1/2*q^2/R^4\n",
       "(t, x, y1, y2, r) |--> 1/2*q^2*e^(-4*r)"
      ]
     },
     "execution_count": 37,
     "metadata": {},
     "output_type": "execute_result"
    }
   ],
   "source": [
    "F2 = F['_{mn}']*Fu['^{mn}']  # using LaTeX notations to denote the double contraction\n",
    "print F2\n",
    "F2.display()"
   ]
  },
  {
   "cell_type": "markdown",
   "metadata": {},
   "source": [
    "We shall also need the tensor $\\mathcal{F}_{mn} = F_{mp} F_n^{\\ \\, p}$:"
   ]
  },
  {
   "cell_type": "code",
   "execution_count": 38,
   "metadata": {
    "collapsed": false
   },
   "outputs": [
    {
     "name": "stdout",
     "output_type": "stream",
     "text": [
      "tensor field of type (0,2) on the 5-dimensional manifold 'M'\n"
     ]
    },
    {
     "data": {
      "text/html": [
       "<html><script type=\"math/tex; mode=display\">\\newcommand{\\Bold}[1]{\\mathbf{#1}}\\frac{1}{4} \\, q^{2} e^{\\left(-2 \\, r\\right)} \\mathrm{d} {y_1}\\otimes \\mathrm{d} {y_1} + \\frac{1}{4} \\, q^{2} e^{\\left(-2 \\, r\\right)} \\mathrm{d} {y_2}\\otimes \\mathrm{d} {y_2}</script></html>"
      ],
      "text/plain": [
       "1/4*q^2*e^(-2*r) dy1*dy1 + 1/4*q^2*e^(-2*r) dy2*dy2"
      ]
     },
     "execution_count": 38,
     "metadata": {},
     "output_type": "execute_result"
    }
   ],
   "source": [
    "FF = F['_mp'] * F.up(g,1)['^p_n']\n",
    "print FF\n",
    "FF.display()"
   ]
  },
  {
   "cell_type": "markdown",
   "metadata": {},
   "source": [
    "The tensor field $\\mathcal{F}$ is symmetric:"
   ]
  },
  {
   "cell_type": "code",
   "execution_count": 39,
   "metadata": {
    "collapsed": false
   },
   "outputs": [
    {
     "data": {
      "text/html": [
       "<html><script type=\"math/tex; mode=display\">\\newcommand{\\Bold}[1]{\\mathbf{#1}}\\mathrm{True}</script></html>"
      ],
      "text/plain": [
       "True"
      ]
     },
     "execution_count": 39,
     "metadata": {},
     "output_type": "execute_result"
    }
   ],
   "source": [
    "FF == FF.symmetrize()"
   ]
  },
  {
   "cell_type": "markdown",
   "metadata": {},
   "source": [
    "Therefore, from now on, we set"
   ]
  },
  {
   "cell_type": "code",
   "execution_count": 40,
   "metadata": {
    "collapsed": true
   },
   "outputs": [],
   "source": [
    "FF = FF.symmetrize()"
   ]
  },
  {
   "cell_type": "markdown",
   "metadata": {},
   "source": [
    "## Field equations\n",
    "\n",
    "### Einstein equation\n",
    "\n",
    "Let us first introduce the cosmological constant:"
   ]
  },
  {
   "cell_type": "code",
   "execution_count": 41,
   "metadata": {
    "collapsed": false
   },
   "outputs": [
    {
     "data": {
      "text/html": [
       "<html><script type=\"math/tex; mode=display\">\\newcommand{\\Bold}[1]{\\mathbf{#1}}{\\Lambda}</script></html>"
      ],
      "text/plain": [
       "Lamb"
      ]
     },
     "execution_count": 41,
     "metadata": {},
     "output_type": "execute_result"
    }
   ],
   "source": [
    "var('Lamb', latex_name=r'\\Lambda')"
   ]
  },
  {
   "cell_type": "markdown",
   "metadata": {},
   "source": [
    "and write the Einstein equation as\n",
    "\n",
    "    EE == 0\n",
    "\n",
    "with `EE` defined by"
   ]
  },
  {
   "cell_type": "code",
   "execution_count": 42,
   "metadata": {
    "collapsed": false
   },
   "outputs": [
    {
     "name": "stdout",
     "output_type": "stream",
     "text": [
      "field of symmetric bilinear forms 'E' on the 5-dimensional manifold 'M'\n"
     ]
    }
   ],
   "source": [
    "EE = Ric + Lamb/3*g - 1/2* (dphi*dphi) -  1/2*exp(lamb*phi)*FF + F2/12*exp(lamb*phi)*g\n",
    "EE.set_name('E')\n",
    "print EE"
   ]
  },
  {
   "cell_type": "code",
   "execution_count": 43,
   "metadata": {
    "collapsed": false
   },
   "outputs": [
    {
     "data": {
      "text/html": [
       "<html><script type=\"math/tex; mode=display\">\\newcommand{\\Bold}[1]{\\mathbf{#1}}\\begin{array}{lcl} E_{ \\, t \\, t }^{ \\phantom{\\, t } \\phantom{\\, t } } & = & -\\frac{1}{24} \\, {\\left({\\mu} q^{2} - 48 \\, {\\nu}^{2} + 8 \\, {\\Lambda} - 48 \\, {\\nu}\\right)} e^{\\left(2 \\, {\\nu} r\\right)} \\\\ E_{ \\, x \\, x }^{ \\phantom{\\, x } \\phantom{\\, x } } & = & \\frac{1}{24} \\, {\\left({\\mu} q^{2} - 48 \\, {\\nu}^{2} + 8 \\, {\\Lambda} - 48 \\, {\\nu}\\right)} e^{\\left(2 \\, {\\nu} r\\right)} \\\\ E_{ \\, {y_1} \\, {y_1} }^{ \\phantom{\\, {y_1} } \\phantom{\\, {y_1} } } & = & -\\frac{1}{12} \\, {\\left({\\mu} q^{2} - 4 \\, {\\Lambda} + 24 \\, {\\nu} + 24\\right)} e^{\\left(2 \\, r\\right)} \\\\ E_{ \\, {y_2} \\, {y_2} }^{ \\phantom{\\, {y_2} } \\phantom{\\, {y_2} } } & = & -\\frac{1}{12} \\, {\\left({\\mu} q^{2} - 4 \\, {\\Lambda} + 24 \\, {\\nu} + 24\\right)} e^{\\left(2 \\, r\\right)} \\\\ E_{ \\, r \\, r }^{ \\phantom{\\, r } \\phantom{\\, r } } & = & \\frac{{\\lambda}^{2} {\\mu} q^{2} - 48 \\, {\\lambda}^{2} {\\nu}^{2} + 8 \\, {\\left({\\Lambda} - 6\\right)} {\\lambda}^{2} - 192}{24 \\, {\\lambda}^{2}} \\end{array}</script></html>"
      ],
      "text/plain": [
       "E_t,t = -1/24*(mu*q^2 - 48*nu^2 + 8*Lamb - 48*nu)*e^(2*nu*r) \n",
       "E_x,x = 1/24*(mu*q^2 - 48*nu^2 + 8*Lamb - 48*nu)*e^(2*nu*r) \n",
       "E_y1,y1 = -1/12*(mu*q^2 - 4*Lamb + 24*nu + 24)*e^(2*r) \n",
       "E_y2,y2 = -1/12*(mu*q^2 - 4*Lamb + 24*nu + 24)*e^(2*r) \n",
       "E_r,r = 1/24*(lamb^2*mu*q^2 - 48*lamb^2*nu^2 + 8*(Lamb - 6)*lamb^2 - 192)/lamb^2 "
      ]
     },
     "execution_count": 43,
     "metadata": {},
     "output_type": "execute_result"
    }
   ],
   "source": [
    "EE.display_comp(only_nonredundant=True)"
   ]
  },
  {
   "cell_type": "markdown",
   "metadata": {},
   "source": [
    "We note that `EE==0` leads to only 3 independent equations:"
   ]
  },
  {
   "cell_type": "code",
   "execution_count": 44,
   "metadata": {
    "collapsed": false
   },
   "outputs": [
    {
     "data": {
      "text/html": [
       "<html><script type=\"math/tex; mode=display\">\\newcommand{\\Bold}[1]{\\mathbf{#1}}-\\frac{1}{24} \\, {\\mu} q^{2} + 2 \\, {\\nu}^{2} - \\frac{1}{3} \\, {\\Lambda} + 2 \\, {\\nu}</script></html>"
      ],
      "text/plain": [
       "-1/24*mu*q^2 + 2*nu^2 - 1/3*Lamb + 2*nu"
      ]
     },
     "execution_count": 44,
     "metadata": {},
     "output_type": "execute_result"
    }
   ],
   "source": [
    "eq1 = (EE[0,0]/exp(2*nu*r)).expr()\n",
    "eq1"
   ]
  },
  {
   "cell_type": "code",
   "execution_count": 45,
   "metadata": {
    "collapsed": false
   },
   "outputs": [
    {
     "data": {
      "text/html": [
       "<html><script type=\"math/tex; mode=display\">\\newcommand{\\Bold}[1]{\\mathbf{#1}}-\\frac{1}{12} \\, {\\mu} q^{2} + \\frac{1}{3} \\, {\\Lambda} - 2 \\, {\\nu} - 2</script></html>"
      ],
      "text/plain": [
       "-1/12*mu*q^2 + 1/3*Lamb - 2*nu - 2"
      ]
     },
     "execution_count": 45,
     "metadata": {},
     "output_type": "execute_result"
    }
   ],
   "source": [
    "eq2 = (EE[2,2]/exp(2*r)).expr()\n",
    "eq2"
   ]
  },
  {
   "cell_type": "code",
   "execution_count": 46,
   "metadata": {
    "collapsed": false
   },
   "outputs": [
    {
     "data": {
      "text/html": [
       "<html><script type=\"math/tex; mode=display\">\\newcommand{\\Bold}[1]{\\mathbf{#1}}\\frac{1}{24} \\, {\\mu} q^{2} - 2 \\, {\\nu}^{2} + \\frac{1}{3} \\, {\\Lambda} - \\frac{8}{{\\lambda}^{2}} - 2</script></html>"
      ],
      "text/plain": [
       "1/24*mu*q^2 - 2*nu^2 + 1/3*Lamb - 8/lamb^2 - 2"
      ]
     },
     "execution_count": 46,
     "metadata": {},
     "output_type": "execute_result"
    }
   ],
   "source": [
    "eq3 = EE[4,4].expr().expand()\n",
    "eq3"
   ]
  },
  {
   "cell_type": "markdown",
   "metadata": {},
   "source": [
    "### Dilaton field equation\n",
    "\n",
    "First we evaluate $\\nabla_m \\nabla^m \\phi$:"
   ]
  },
  {
   "cell_type": "code",
   "execution_count": 47,
   "metadata": {
    "collapsed": false
   },
   "outputs": [
    {
     "name": "stdout",
     "output_type": "stream",
     "text": [
      "Levi-Civita connection 'nabla_g' associated with the Lorentzian metric 'g' on the 5-dimensional manifold 'M'\n"
     ]
    },
    {
     "data": {
      "text/html": [
       "<html><script type=\"math/tex; mode=display\">\\newcommand{\\Bold}[1]{\\mathbf{#1}}\\nabla_{g}</script></html>"
      ],
      "text/plain": [
       "Levi-Civita connection 'nabla_g' associated with the Lorentzian metric 'g' on the 5-dimensional manifold 'M'"
      ]
     },
     "execution_count": 47,
     "metadata": {},
     "output_type": "execute_result"
    }
   ],
   "source": [
    "nab = g.connection()\n",
    "print nab\n",
    "nab"
   ]
  },
  {
   "cell_type": "code",
   "execution_count": 48,
   "metadata": {
    "collapsed": false
   },
   "outputs": [
    {
     "name": "stdout",
     "output_type": "stream",
     "text": [
      "scalar field on the 5-dimensional manifold 'M'\n"
     ]
    },
    {
     "data": {
      "text/html": [
       "<html><script type=\"math/tex; mode=display\">\\newcommand{\\Bold}[1]{\\mathbf{#1}}\\begin{array}{llcl} & M & \\longrightarrow & \\mathbb{R} \\\\ & \\left(t, x, {y_1}, {y_2}, R\\right) & \\longmapsto & \\frac{8 \\, {\\left({\\nu} + 1\\right)}}{{\\lambda}} \\\\ & \\left(t, x, {y_1}, {y_2}, r\\right) & \\longmapsto & \\frac{8 \\, {\\left({\\nu} + 1\\right)}}{{\\lambda}} \\end{array}</script></html>"
      ],
      "text/plain": [
       "M --> R\n",
       "(t, x, y1, y2, R) |--> 8*(nu + 1)/lamb\n",
       "(t, x, y1, y2, r) |--> 8*(nu + 1)/lamb"
      ]
     },
     "execution_count": 48,
     "metadata": {},
     "output_type": "execute_result"
    }
   ],
   "source": [
    "box_phi = nab(nab(phi).up(g)).trace()\n",
    "print box_phi\n",
    "box_phi.display()"
   ]
  },
  {
   "cell_type": "markdown",
   "metadata": {},
   "source": [
    "We write the field equation for $\\phi$ as\n",
    "\n",
    "    DE == 0\n",
    "    \n",
    "with `DE` defined by"
   ]
  },
  {
   "cell_type": "code",
   "execution_count": 49,
   "metadata": {
    "collapsed": false
   },
   "outputs": [
    {
     "name": "stdout",
     "output_type": "stream",
     "text": [
      "scalar field on the 5-dimensional manifold 'M'\n"
     ]
    }
   ],
   "source": [
    "DE = box_phi - lamb/4*exp(lamb*phi) * F2\n",
    "print DE"
   ]
  },
  {
   "cell_type": "code",
   "execution_count": 50,
   "metadata": {
    "collapsed": false
   },
   "outputs": [
    {
     "data": {
      "text/html": [
       "<html><script type=\"math/tex; mode=display\">\\newcommand{\\Bold}[1]{\\mathbf{#1}}\\begin{array}{llcl} & M & \\longrightarrow & \\mathbb{R} \\\\ & \\left(t, x, {y_1}, {y_2}, R\\right) & \\longmapsto & -\\frac{{\\lambda}^{2} {\\mu} q^{2} - 64 \\, {\\nu} - 64}{8 \\, {\\lambda}} \\\\ & \\left(t, x, {y_1}, {y_2}, r\\right) & \\longmapsto & -\\frac{{\\lambda}^{2} {\\mu} q^{2} - 64 \\, {\\nu} - 64}{8 \\, {\\lambda}} \\end{array}</script></html>"
      ],
      "text/plain": [
       "M --> R\n",
       "(t, x, y1, y2, R) |--> -1/8*(lamb^2*mu*q^2 - 64*nu - 64)/lamb\n",
       "(t, x, y1, y2, r) |--> -1/8*(lamb^2*mu*q^2 - 64*nu - 64)/lamb"
      ]
     },
     "execution_count": 50,
     "metadata": {},
     "output_type": "execute_result"
    }
   ],
   "source": [
    "DE.display()"
   ]
  },
  {
   "cell_type": "markdown",
   "metadata": {},
   "source": [
    "The dilaton field equation provides then a fourth equation:"
   ]
  },
  {
   "cell_type": "code",
   "execution_count": 51,
   "metadata": {
    "collapsed": false
   },
   "outputs": [
    {
     "data": {
      "text/html": [
       "<html><script type=\"math/tex; mode=display\">\\newcommand{\\Bold}[1]{\\mathbf{#1}}-\\frac{1}{8} \\, {\\lambda} {\\mu} q^{2} + \\frac{8 \\, {\\nu}}{{\\lambda}} + \\frac{8}{{\\lambda}}</script></html>"
      ],
      "text/plain": [
       "-1/8*lamb*mu*q^2 + 8*nu/lamb + 8/lamb"
      ]
     },
     "execution_count": 51,
     "metadata": {},
     "output_type": "execute_result"
    }
   ],
   "source": [
    "eq4 = DE.expr().expand()\n",
    "eq4"
   ]
  },
  {
   "cell_type": "markdown",
   "metadata": {},
   "source": [
    "### Maxwell equation\n",
    "\n",
    "Let us write the field equation for $F$ as\n",
    "\n",
    "    ME == 0\n",
    "    \n",
    "with `ME` defined by"
   ]
  },
  {
   "cell_type": "code",
   "execution_count": 52,
   "metadata": {
    "collapsed": false
   },
   "outputs": [
    {
     "name": "stdout",
     "output_type": "stream",
     "text": [
      "vector field on the 5-dimensional manifold 'M'\n"
     ]
    },
    {
     "data": {
      "text/html": [
       "<html><script type=\"math/tex; mode=display\">\\newcommand{\\Bold}[1]{\\mathbf{#1}}0</script></html>"
      ],
      "text/plain": [
       "0"
      ]
     },
     "execution_count": 52,
     "metadata": {},
     "output_type": "execute_result"
    }
   ],
   "source": [
    "ME = nab(exp(lamb*phi)*Fu).trace(0,2)\n",
    "print ME\n",
    "ME.display()"
   ]
  },
  {
   "cell_type": "markdown",
   "metadata": {},
   "source": [
    "We get identically zero; indeed the tensor $\\nabla_p (e^{\\lambda\\phi} F^{mn})$ has a vanishing trace, as we can check:"
   ]
  },
  {
   "cell_type": "code",
   "execution_count": 53,
   "metadata": {
    "collapsed": false
   },
   "outputs": [
    {
     "data": {
      "text/html": [
       "<html><script type=\"math/tex; mode=display\">\\newcommand{\\Bold}[1]{\\mathbf{#1}}{\\mu} q \\frac{\\partial}{\\partial {y_1} }\\otimes \\frac{\\partial}{\\partial {y_2} }\\otimes \\mathrm{d} r -\\frac{1}{2} \\, {\\mu} q e^{\\left(2 \\, r\\right)} \\frac{\\partial}{\\partial {y_1} }\\otimes \\frac{\\partial}{\\partial r }\\otimes \\mathrm{d} {y_2} -{\\mu} q \\frac{\\partial}{\\partial {y_2} }\\otimes \\frac{\\partial}{\\partial {y_1} }\\otimes \\mathrm{d} r + \\frac{1}{2} \\, {\\mu} q e^{\\left(2 \\, r\\right)} \\frac{\\partial}{\\partial {y_2} }\\otimes \\frac{\\partial}{\\partial r }\\otimes \\mathrm{d} {y_1} + \\frac{1}{2} \\, {\\mu} q e^{\\left(2 \\, r\\right)} \\frac{\\partial}{\\partial r }\\otimes \\frac{\\partial}{\\partial {y_1} }\\otimes \\mathrm{d} {y_2} -\\frac{1}{2} \\, {\\mu} q e^{\\left(2 \\, r\\right)} \\frac{\\partial}{\\partial r }\\otimes \\frac{\\partial}{\\partial {y_2} }\\otimes \\mathrm{d} {y_1}</script></html>"
      ],
      "text/plain": [
       "mu*q d/dy1*d/dy2*dr - 1/2*mu*q*e^(2*r) d/dy1*d/dr*dy2 - mu*q d/dy2*d/dy1*dr + 1/2*mu*q*e^(2*r) d/dy2*d/dr*dy1 + 1/2*mu*q*e^(2*r) d/dr*d/dy1*dy2 - 1/2*mu*q*e^(2*r) d/dr*d/dy2*dy1"
      ]
     },
     "execution_count": 53,
     "metadata": {},
     "output_type": "execute_result"
    }
   ],
   "source": [
    "nab(exp(lamb*phi)*Fu).display()"
   ]
  },
  {
   "cell_type": "markdown",
   "metadata": {},
   "source": [
    "### Summary\n",
    "\n",
    "We have 4 equations involving the constants $\\lambda$, $\\mu$, $\\nu$, $q$ and $\\Lambda$:"
   ]
  },
  {
   "cell_type": "code",
   "execution_count": 54,
   "metadata": {
    "collapsed": false
   },
   "outputs": [
    {
     "data": {
      "text/html": [
       "<html><script type=\"math/tex; mode=display\">\\newcommand{\\Bold}[1]{\\mathbf{#1}}-\\frac{1}{24} \\, {\\mu} q^{2} + 2 \\, {\\nu}^{2} - \\frac{1}{3} \\, {\\Lambda} + 2 \\, {\\nu} = 0</script></html>"
      ],
      "text/plain": [
       "-1/24*mu*q^2 + 2*nu^2 - 1/3*Lamb + 2*nu == 0"
      ]
     },
     "execution_count": 54,
     "metadata": {},
     "output_type": "execute_result"
    }
   ],
   "source": [
    "eq1 == 0"
   ]
  },
  {
   "cell_type": "code",
   "execution_count": 55,
   "metadata": {
    "collapsed": false
   },
   "outputs": [
    {
     "data": {
      "text/html": [
       "<html><script type=\"math/tex; mode=display\">\\newcommand{\\Bold}[1]{\\mathbf{#1}}-\\frac{1}{12} \\, {\\mu} q^{2} + \\frac{1}{3} \\, {\\Lambda} - 2 \\, {\\nu} - 2 = 0</script></html>"
      ],
      "text/plain": [
       "-1/12*mu*q^2 + 1/3*Lamb - 2*nu - 2 == 0"
      ]
     },
     "execution_count": 55,
     "metadata": {},
     "output_type": "execute_result"
    }
   ],
   "source": [
    "eq2 == 0"
   ]
  },
  {
   "cell_type": "code",
   "execution_count": 56,
   "metadata": {
    "collapsed": false
   },
   "outputs": [
    {
     "data": {
      "text/html": [
       "<html><script type=\"math/tex; mode=display\">\\newcommand{\\Bold}[1]{\\mathbf{#1}}\\frac{1}{24} \\, {\\mu} q^{2} - 2 \\, {\\nu}^{2} + \\frac{1}{3} \\, {\\Lambda} - \\frac{8}{{\\lambda}^{2}} - 2 = 0</script></html>"
      ],
      "text/plain": [
       "1/24*mu*q^2 - 2*nu^2 + 1/3*Lamb - 8/lamb^2 - 2 == 0"
      ]
     },
     "execution_count": 56,
     "metadata": {},
     "output_type": "execute_result"
    }
   ],
   "source": [
    "eq3 == 0"
   ]
  },
  {
   "cell_type": "code",
   "execution_count": 57,
   "metadata": {
    "collapsed": false
   },
   "outputs": [
    {
     "data": {
      "text/html": [
       "<html><script type=\"math/tex; mode=display\">\\newcommand{\\Bold}[1]{\\mathbf{#1}}-\\frac{1}{8} \\, {\\lambda} {\\mu} q^{2} + \\frac{8 \\, {\\nu}}{{\\lambda}} + \\frac{8}{{\\lambda}} = 0</script></html>"
      ],
      "text/plain": [
       "-1/8*lamb*mu*q^2 + 8*nu/lamb + 8/lamb == 0"
      ]
     },
     "execution_count": 57,
     "metadata": {},
     "output_type": "execute_result"
    }
   ],
   "source": [
    "eq4 == 0"
   ]
  },
  {
   "cell_type": "markdown",
   "metadata": {},
   "source": [
    "## Solution for $\\nu=1$ ($\\mathrm{AdS}_5$)"
   ]
  },
  {
   "cell_type": "code",
   "execution_count": 58,
   "metadata": {
    "collapsed": true
   },
   "outputs": [],
   "source": [
    "eqs = [eq1, eq2, eq3, eq4]\n",
    "neqs = [eq.subs(nu=1) for eq in eqs]"
   ]
  },
  {
   "cell_type": "code",
   "execution_count": 59,
   "metadata": {
    "collapsed": false
   },
   "outputs": [
    {
     "data": {
      "text/html": [
       "<html><script type=\"math/tex; mode=display\">\\newcommand{\\Bold}[1]{\\mathbf{#1}}\\left[-\\frac{1}{24} \\, {\\mu} q^{2} - \\frac{1}{3} \\, {\\Lambda} + 4 = 0, -\\frac{1}{12} \\, {\\mu} q^{2} + \\frac{1}{3} \\, {\\Lambda} - 4 = 0, \\frac{1}{24} \\, {\\mu} q^{2} + \\frac{1}{3} \\, {\\Lambda} - \\frac{8}{{\\lambda}^{2}} - 4 = 0, -\\frac{1}{8} \\, {\\lambda} {\\mu} q^{2} + \\frac{16}{{\\lambda}} = 0\\right]</script></html>"
      ],
      "text/plain": [
       "[-1/24*mu*q^2 - 1/3*Lamb + 4 == 0,\n",
       " -1/12*mu*q^2 + 1/3*Lamb - 4 == 0,\n",
       " 1/24*mu*q^2 + 1/3*Lamb - 8/lamb^2 - 4 == 0,\n",
       " -1/8*lamb*mu*q^2 + 16/lamb == 0]"
      ]
     },
     "execution_count": 59,
     "metadata": {},
     "output_type": "execute_result"
    }
   ],
   "source": [
    "[eq == 0 for eq in neqs]"
   ]
  },
  {
   "cell_type": "code",
   "execution_count": 60,
   "metadata": {
    "collapsed": false
   },
   "outputs": [
    {
     "data": {
      "text/html": [
       "<html><script type=\"math/tex; mode=display\">\\newcommand{\\Bold}[1]{\\mathbf{#1}}\\left[\\right]</script></html>"
      ],
      "text/plain": [
       "[]"
      ]
     },
     "execution_count": 60,
     "metadata": {},
     "output_type": "execute_result"
    }
   ],
   "source": [
    "solve([eq == 0 for eq in neqs], lamb, mu, Lamb, q)"
   ]
  },
  {
   "cell_type": "markdown",
   "metadata": {},
   "source": [
    "Hence there is no solution for $\\mathrm{AdS}_5$ with the above ansatz. "
   ]
  },
  {
   "cell_type": "markdown",
   "metadata": {},
   "source": [
    "## Solution for $\\nu = 2$"
   ]
  },
  {
   "cell_type": "code",
   "execution_count": 61,
   "metadata": {
    "collapsed": false
   },
   "outputs": [
    {
     "data": {
      "text/html": [
       "<html><script type=\"math/tex; mode=display\">\\newcommand{\\Bold}[1]{\\mathbf{#1}}\\left[-\\frac{1}{24} \\, {\\mu} q^{2} - \\frac{1}{3} \\, {\\Lambda} + 12 = 0, -\\frac{1}{12} \\, {\\mu} q^{2} + \\frac{1}{3} \\, {\\Lambda} - 6 = 0, \\frac{1}{24} \\, {\\mu} q^{2} + \\frac{1}{3} \\, {\\Lambda} - \\frac{8}{{\\lambda}^{2}} - 10 = 0, -\\frac{1}{8} \\, {\\lambda} {\\mu} q^{2} + \\frac{24}{{\\lambda}} = 0\\right]</script></html>"
      ],
      "text/plain": [
       "[-1/24*mu*q^2 - 1/3*Lamb + 12 == 0,\n",
       " -1/12*mu*q^2 + 1/3*Lamb - 6 == 0,\n",
       " 1/24*mu*q^2 + 1/3*Lamb - 8/lamb^2 - 10 == 0,\n",
       " -1/8*lamb*mu*q^2 + 24/lamb == 0]"
      ]
     },
     "execution_count": 61,
     "metadata": {},
     "output_type": "execute_result"
    }
   ],
   "source": [
    "neqs = [eq.subs(nu=2) for eq in eqs]\n",
    "[eq == 0 for eq in neqs]"
   ]
  },
  {
   "cell_type": "code",
   "execution_count": 62,
   "metadata": {
    "collapsed": false
   },
   "outputs": [
    {
     "data": {
      "text/html": [
       "<html><script type=\"math/tex; mode=display\">\\newcommand{\\Bold}[1]{\\mathbf{#1}}\\left[\\left[{\\lambda} = 2, {\\mu} = \\frac{48}{r_{1}^{2}}, {\\Lambda} = 30, q = r_{1}\\right], \\left[{\\lambda} = \\left(-2\\right), {\\mu} = \\frac{48}{r_{2}^{2}}, {\\Lambda} = 30, q = r_{2}\\right]\\right]</script></html>"
      ],
      "text/plain": [
       "[[lamb == 2, mu == 48/r1^2, Lamb == 30, q == r1], [lamb == -2, mu == 48/r2^2, Lamb == 30, q == r2]]"
      ]
     },
     "execution_count": 62,
     "metadata": {},
     "output_type": "execute_result"
    }
   ],
   "source": [
    "solve([eq == 0 for eq in neqs], lamb, mu, Lamb, q)"
   ]
  },
  {
   "cell_type": "markdown",
   "metadata": {},
   "source": [
    "Hence there are two families of solutions, each famility being parametrized by e.g. $q$. "
   ]
  },
  {
   "cell_type": "markdown",
   "metadata": {},
   "source": [
    "## Solution for $\\nu = 4$"
   ]
  },
  {
   "cell_type": "code",
   "execution_count": 63,
   "metadata": {
    "collapsed": false
   },
   "outputs": [
    {
     "data": {
      "text/html": [
       "<html><script type=\"math/tex; mode=display\">\\newcommand{\\Bold}[1]{\\mathbf{#1}}\\left[-\\frac{1}{24} \\, {\\mu} q^{2} - \\frac{1}{3} \\, {\\Lambda} + 40 = 0, -\\frac{1}{12} \\, {\\mu} q^{2} + \\frac{1}{3} \\, {\\Lambda} - 10 = 0, \\frac{1}{24} \\, {\\mu} q^{2} + \\frac{1}{3} \\, {\\Lambda} - \\frac{8}{{\\lambda}^{2}} - 34 = 0, -\\frac{1}{8} \\, {\\lambda} {\\mu} q^{2} + \\frac{40}{{\\lambda}} = 0\\right]</script></html>"
      ],
      "text/plain": [
       "[-1/24*mu*q^2 - 1/3*Lamb + 40 == 0,\n",
       " -1/12*mu*q^2 + 1/3*Lamb - 10 == 0,\n",
       " 1/24*mu*q^2 + 1/3*Lamb - 8/lamb^2 - 34 == 0,\n",
       " -1/8*lamb*mu*q^2 + 40/lamb == 0]"
      ]
     },
     "execution_count": 63,
     "metadata": {},
     "output_type": "execute_result"
    }
   ],
   "source": [
    "neqs = [eq.subs(nu=4) for eq in eqs]\n",
    "[eq == 0 for eq in neqs]"
   ]
  },
  {
   "cell_type": "code",
   "execution_count": 64,
   "metadata": {
    "collapsed": false
   },
   "outputs": [
    {
     "data": {
      "text/html": [
       "<html><script type=\"math/tex; mode=display\">\\newcommand{\\Bold}[1]{\\mathbf{#1}}\\left[\\left[{\\lambda} = \\frac{2}{3} \\, \\sqrt{3}, {\\mu} = \\frac{240}{r_{3}^{2}}, {\\Lambda} = 90, q = r_{3}\\right], \\left[{\\lambda} = -\\frac{2}{3} \\, \\sqrt{3}, {\\mu} = \\frac{240}{r_{4}^{2}}, {\\Lambda} = 90, q = r_{4}\\right]\\right]</script></html>"
      ],
      "text/plain": [
       "[[lamb == 2/3*sqrt(3), mu == 240/r3^2, Lamb == 90, q == r3], [lamb == -2/3*sqrt(3), mu == 240/r4^2, Lamb == 90, q == r4]]"
      ]
     },
     "execution_count": 64,
     "metadata": {},
     "output_type": "execute_result"
    }
   ],
   "source": [
    "solve([eq == 0 for eq in neqs], lamb, mu, Lamb, q)"
   ]
  },
  {
   "cell_type": "markdown",
   "metadata": {},
   "source": [
    "Hence there are two families of solutions, each family being parametrized by e.g. $q$. "
   ]
  },
  {
   "cell_type": "code",
   "execution_count": null,
   "metadata": {
    "collapsed": true
   },
   "outputs": [],
   "source": []
  }
 ],
 "metadata": {
  "kernelspec": {
   "display_name": "Sage 6.7",
   "language": "",
   "name": "sage_6_7"
  },
  "language_info": {
   "codemirror_mode": {
    "name": "ipython",
    "version": 2
   },
   "file_extension": ".py",
   "mimetype": "text/x-python",
   "name": "python",
   "nbconvert_exporter": "python",
   "pygments_lexer": "ipython2",
   "version": "2.7.8"
  }
 },
 "nbformat": 4,
 "nbformat_minor": 0
}
