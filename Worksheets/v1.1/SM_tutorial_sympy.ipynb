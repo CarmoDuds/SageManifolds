{
 "cells": [
  {
   "cell_type": "markdown",
   "metadata": {
    "deletable": true,
    "editable": true
   },
   "source": [
    "# SageMath manifold tutorial (SymPy version)\n",
    "\n",
    "This worksheet provides a short introduction to differentiable manifolds in SageMath, with [SymPy](http://www.sympy.org) as symbolic engine, instead of SageMath's default one (Pynac+Maxima). The tools described below have been implemented through the\n",
    "[SageManifolds project](http://sagemanifolds.obspm.fr) (version 1.1, included in SageMath 8.1).\n",
    "\n",
    "Click [here](https://raw.githubusercontent.com/sagemanifolds/SageManifolds/master/Worksheets/v1.1/SM_tutorial_sympy.ipynb) to download the worksheet file (ipynb format). To run it, you must start SageMath with the Jupyter notebook, via the command `sage -n jupyter`\n"
   ]
  },
  {
   "cell_type": "markdown",
   "metadata": {
    "deletable": true,
    "editable": true
   },
   "source": [
    "The following assumes that you are using version 8.1 (or higher) of SageMath, since lower versions do not include the SymPy symbolic engine for computations on manifolds:"
   ]
  },
  {
   "cell_type": "code",
   "execution_count": 1,
   "metadata": {
    "collapsed": false,
    "deletable": true,
    "editable": true
   },
   "outputs": [
    {
     "data": {
      "text/plain": [
       "'SageMath version 8.1.beta8, Release Date: 2017-10-16'"
      ]
     },
     "execution_count": 1,
     "metadata": {},
     "output_type": "execute_result"
    }
   ],
   "source": [
    "version()"
   ]
  },
  {
   "cell_type": "markdown",
   "metadata": {
    "deletable": true,
    "editable": true
   },
   "source": [
    "First we set up the notebook to display mathematical objects using LaTeX rendering:"
   ]
  },
  {
   "cell_type": "code",
   "execution_count": 2,
   "metadata": {
    "collapsed": true,
    "deletable": true,
    "editable": true
   },
   "outputs": [],
   "source": [
    "%display latex\n",
    "from sympy import init_printing\n",
    "init_printing()"
   ]
  },
  {
   "cell_type": "markdown",
   "metadata": {
    "deletable": true,
    "editable": true
   },
   "source": [
    "## Defining a manifold\n",
    "\n",
    "As an example let us define a differentiable manifold of dimension 3 over $\\mathbb{R}$:"
   ]
  },
  {
   "cell_type": "code",
   "execution_count": 3,
   "metadata": {
    "collapsed": false,
    "deletable": true,
    "editable": true
   },
   "outputs": [],
   "source": [
    "M = Manifold(3, 'M', latex_name=r'\\mathcal{M}', start_index=1)"
   ]
  },
  {
   "cell_type": "markdown",
   "metadata": {
    "deletable": true,
    "editable": true
   },
   "source": [
    "- The first argument, `3`, is the manifold dimension. In SageManifolds, it can be any\n",
    "  positive integer.\n",
    "- The second argument, `'M'`, is a string defining the manifold's name; it may be \n",
    "  different from the symbol set on the left-hand side of the = sign (here `M`): the latter\n",
    "  stands for a mere Python variable, which refers to the manifold object in the computer \n",
    "  memory, while the string `'M'` is the mathematical symbol chosen for the manifold.\n",
    "- The optional argument `latex_name=r'\\mathcal{M}'` sets the LaTeX\n",
    "  symbol to display the manifold. Note the letter 'r' in front on the first quote: \n",
    "  it indicates that the  string is a *raw* one, so that the backslash character \n",
    "  in `\\mathcal` is considered as an ordinary character (otherwise, the backslash is \n",
    "  used to escape some special characters). If the argument `latex_name` is not \n",
    "  provided by the user, it is set to the string used as the second argument (here `'M'`)\n",
    "- The optional argument `start_index=1` defines the range of indices to be used for \n",
    "  tensor components on the manifold: setting it to 1 means that indices will range \n",
    "  in $\\{1,2,3\\}$. The default value is `start_index=0`.\n",
    "\n",
    "Note that the default base field is $\\mathbb{R}$. If we would have used the optional\n",
    "argument `field='complex'`, we would have defined a manifold over $\\mathbb{C}$. See\n",
    "[list of all options](http://doc.sagemath.org/html/en/reference/manifolds/sage/manifolds/manifold.html#sage.manifolds.manifold.Manifold) more details. \n",
    "\n",
    "If we ask for M, it is displayed via its LaTeX symbol:"
   ]
  },
  {
   "cell_type": "code",
   "execution_count": 4,
   "metadata": {
    "collapsed": false,
    "deletable": true,
    "editable": true
   },
   "outputs": [
    {
     "data": {
      "text/html": [
       "<html><script type=\"math/tex; mode=display\">\\newcommand{\\Bold}[1]{\\mathbf{#1}}\\mathcal{M}</script></html>"
      ],
      "text/plain": [
       "3-dimensional differentiable manifold M"
      ]
     },
     "execution_count": 4,
     "metadata": {},
     "output_type": "execute_result"
    }
   ],
   "source": [
    "M"
   ]
  },
  {
   "cell_type": "markdown",
   "metadata": {
    "deletable": true,
    "editable": true
   },
   "source": [
    "We ask for all symbolic computations to be performed with [SymPy](http://www.sympy.org), instead of SageMath's default symbolic engine (Pynac+Maxima, implemented via SageMath's Symbolic Ring):"
   ]
  },
  {
   "cell_type": "code",
   "execution_count": 5,
   "metadata": {
    "collapsed": false,
    "deletable": true,
    "editable": true
   },
   "outputs": [],
   "source": [
    "M.set_calculus_method('sympy')"
   ]
  },
  {
   "cell_type": "markdown",
   "metadata": {
    "deletable": true,
    "editable": true
   },
   "source": [
    "If we use the `print` function instead, we get a short description of the object:"
   ]
  },
  {
   "cell_type": "code",
   "execution_count": 6,
   "metadata": {
    "collapsed": false,
    "deletable": true,
    "editable": true
   },
   "outputs": [
    {
     "name": "stdout",
     "output_type": "stream",
     "text": [
      "3-dimensional differentiable manifold M\n"
     ]
    }
   ],
   "source": [
    "print(M)"
   ]
  },
  {
   "cell_type": "markdown",
   "metadata": {
    "deletable": true,
    "editable": true
   },
   "source": [
    "<p>Via the command <span style=\"font-family: courier new,courier;\">type</span>, we get the type of the Python object corresponding to M (here the Python class <span style=\"font-family: courier new,courier;\">DifferentiableManifold_with_category</span>):</p>"
   ]
  },
  {
   "cell_type": "code",
   "execution_count": 7,
   "metadata": {
    "collapsed": false,
    "deletable": true,
    "editable": true
   },
   "outputs": [
    {
     "data": {
      "text/html": [
       "<html><script type=\"math/tex; mode=display\">\\newcommand{\\Bold}[1]{\\mathbf{#1}}\\verb|<class|\\phantom{\\verb!x!}\\verb|'sage.manifolds.differentiable.manifold.DifferentiableManifold_with_category'>|</script></html>"
      ],
      "text/plain": [
       "<class 'sage.manifolds.differentiable.manifold.DifferentiableManifold_with_category'>"
      ]
     },
     "execution_count": 7,
     "metadata": {},
     "output_type": "execute_result"
    }
   ],
   "source": [
    "type(M)"
   ]
  },
  {
   "cell_type": "markdown",
   "metadata": {
    "deletable": true,
    "editable": true
   },
   "source": [
    "We can also ask for the category of M and see that it is the category of smooth manifolds over $\\mathbb{R}$:"
   ]
  },
  {
   "cell_type": "code",
   "execution_count": 8,
   "metadata": {
    "collapsed": false,
    "deletable": true,
    "editable": true
   },
   "outputs": [
    {
     "data": {
      "text/html": [
       "<html><script type=\"math/tex; mode=display\">\\newcommand{\\Bold}[1]{\\mathbf{#1}}\\mathbf{Smooth}_{\\Bold{R}}</script></html>"
      ],
      "text/plain": [
       "Category of smooth manifolds over Real Field with 53 bits of precision"
      ]
     },
     "execution_count": 8,
     "metadata": {},
     "output_type": "execute_result"
    }
   ],
   "source": [
    "category(M)"
   ]
  },
  {
   "cell_type": "markdown",
   "metadata": {
    "deletable": true,
    "editable": true
   },
   "source": [
    "<p>The indices on the manifold are generated by the method <span style=\"font-family: courier new,courier;\">irange()</span>, to be used in loops:</p>"
   ]
  },
  {
   "cell_type": "code",
   "execution_count": 9,
   "metadata": {
    "collapsed": false,
    "deletable": true,
    "editable": true
   },
   "outputs": [
    {
     "name": "stdout",
     "output_type": "stream",
     "text": [
      "1\n",
      "2\n",
      "3\n"
     ]
    }
   ],
   "source": [
    "for i in M.irange():\n",
    "    print(i)"
   ]
  },
  {
   "cell_type": "markdown",
   "metadata": {
    "deletable": true,
    "editable": true
   },
   "source": [
    "<p>If the parameter<span style=\"font-family: courier new,courier;\"> start_index</span> had not been specified, the default range of the indices would have been $\\{0,1,2\\}$ instead:</p>"
   ]
  },
  {
   "cell_type": "code",
   "execution_count": 10,
   "metadata": {
    "collapsed": false,
    "deletable": true,
    "editable": true
   },
   "outputs": [
    {
     "name": "stdout",
     "output_type": "stream",
     "text": [
      "0\n",
      "1\n",
      "2\n"
     ]
    }
   ],
   "source": [
    "M0 = Manifold(3, 'M', r'\\mathcal{M}')\n",
    "for i in M0.irange():\n",
    "    print(i)"
   ]
  },
  {
   "cell_type": "markdown",
   "metadata": {
    "deletable": true,
    "editable": true
   },
   "source": [
    "<h2>Defining a chart on the manifold</h2>\n",
    "<p>Let us assume that the manifold $\\mathcal{M}$ can be covered by a single chart (other cases are discussed below); the chart is declared as follows:</p>"
   ]
  },
  {
   "cell_type": "code",
   "execution_count": 11,
   "metadata": {
    "collapsed": false,
    "deletable": true,
    "editable": true
   },
   "outputs": [],
   "source": [
    "X.<x,y,z> = M.chart()"
   ]
  },
  {
   "cell_type": "markdown",
   "metadata": {
    "deletable": true,
    "editable": true
   },
   "source": [
    "The writing `.<x,y,z>` in the left-hand side means that the Python variables `x`, `y` and `z` are set to the three coordinates of the chart. This allows one to refer subsequently to the coordinates by their names.\n",
    "\n",
    "In this example, the function `chart()` has no arguments, which implies that the coordinate symbols will be `x`, `y` and `z` (i.e. exactly the characters set in the `<...>` operator) and that each coordinate range is $(-\\infty,+\\infty)$. For other cases, an argument must be passed to `chart()`  to specify the coordinate symbols and range, as well as the LaTeX symbol of a coordinate if the latter is different from the coordinate name (an example will be provided below)."
   ]
  },
  {
   "cell_type": "markdown",
   "metadata": {
    "deletable": true,
    "editable": true
   },
   "source": [
    "<p>The chart is displayed as a pair formed by the open set covered by it (here the whole manifold) and the coordinates:</p>"
   ]
  },
  {
   "cell_type": "code",
   "execution_count": 12,
   "metadata": {
    "collapsed": false,
    "deletable": true,
    "editable": true
   },
   "outputs": [
    {
     "name": "stdout",
     "output_type": "stream",
     "text": [
      "Chart (M, (x, y, z))\n"
     ]
    }
   ],
   "source": [
    "print(X)"
   ]
  },
  {
   "cell_type": "code",
   "execution_count": 13,
   "metadata": {
    "collapsed": false,
    "deletable": true,
    "editable": true
   },
   "outputs": [
    {
     "data": {
      "text/html": [
       "<html><script type=\"math/tex; mode=display\">\\newcommand{\\Bold}[1]{\\mathbf{#1}}\\left(\\mathcal{M},(x, y, z)\\right)</script></html>"
      ],
      "text/plain": [
       "Chart (M, (x, y, z))"
      ]
     },
     "execution_count": 13,
     "metadata": {},
     "output_type": "execute_result"
    }
   ],
   "source": [
    "X"
   ]
  },
  {
   "cell_type": "markdown",
   "metadata": {
    "deletable": true,
    "editable": true
   },
   "source": [
    "<p>The coordinates can be accessed individually, by means of their indices, following the convention defined by <span style=\"font-family: courier new,courier;\">start_index=1</span> in the manifold's definition:</p>"
   ]
  },
  {
   "cell_type": "code",
   "execution_count": 14,
   "metadata": {
    "collapsed": false,
    "deletable": true,
    "editable": true
   },
   "outputs": [
    {
     "data": {
      "text/html": [
       "<html><script type=\"math/tex; mode=display\">\\newcommand{\\Bold}[1]{\\mathbf{#1}}x</script></html>"
      ],
      "text/plain": [
       "x"
      ]
     },
     "execution_count": 14,
     "metadata": {},
     "output_type": "execute_result"
    }
   ],
   "source": [
    "X[1]"
   ]
  },
  {
   "cell_type": "code",
   "execution_count": 15,
   "metadata": {
    "collapsed": false,
    "deletable": true,
    "editable": true
   },
   "outputs": [
    {
     "data": {
      "text/html": [
       "<html><script type=\"math/tex; mode=display\">\\newcommand{\\Bold}[1]{\\mathbf{#1}}y</script></html>"
      ],
      "text/plain": [
       "y"
      ]
     },
     "execution_count": 15,
     "metadata": {},
     "output_type": "execute_result"
    }
   ],
   "source": [
    "X[2]"
   ]
  },
  {
   "cell_type": "code",
   "execution_count": 16,
   "metadata": {
    "collapsed": false,
    "deletable": true,
    "editable": true
   },
   "outputs": [
    {
     "data": {
      "text/html": [
       "<html><script type=\"math/tex; mode=display\">\\newcommand{\\Bold}[1]{\\mathbf{#1}}z</script></html>"
      ],
      "text/plain": [
       "z"
      ]
     },
     "execution_count": 16,
     "metadata": {},
     "output_type": "execute_result"
    }
   ],
   "source": [
    "X[3]"
   ]
  },
  {
   "cell_type": "markdown",
   "metadata": {
    "deletable": true,
    "editable": true
   },
   "source": [
    "<p>The full set of coordinates is obtained by means of the operator [:]:</p>"
   ]
  },
  {
   "cell_type": "code",
   "execution_count": 17,
   "metadata": {
    "collapsed": false,
    "deletable": true,
    "editable": true
   },
   "outputs": [
    {
     "data": {
      "text/html": [
       "<html><script type=\"math/tex; mode=display\">\\newcommand{\\Bold}[1]{\\mathbf{#1}}\\left(x, y, z\\right)</script></html>"
      ],
      "text/plain": [
       "(x, y, z)"
      ]
     },
     "execution_count": 17,
     "metadata": {},
     "output_type": "execute_result"
    }
   ],
   "source": [
    "X[:]"
   ]
  },
  {
   "cell_type": "markdown",
   "metadata": {
    "deletable": true,
    "editable": true
   },
   "source": [
    "Thanks to the operator `<x,y,z>` used in the chart declaration, each coordinate can be accessed directly via its name:"
   ]
  },
  {
   "cell_type": "code",
   "execution_count": 18,
   "metadata": {
    "collapsed": false,
    "deletable": true,
    "editable": true
   },
   "outputs": [
    {
     "data": {
      "text/html": [
       "<html><script type=\"math/tex; mode=display\">\\newcommand{\\Bold}[1]{\\mathbf{#1}}\\mathrm{True}</script></html>"
      ],
      "text/plain": [
       "True"
      ]
     },
     "execution_count": 18,
     "metadata": {},
     "output_type": "execute_result"
    }
   ],
   "source": [
    "z is X[3]"
   ]
  },
  {
   "cell_type": "markdown",
   "metadata": {
    "deletable": true,
    "editable": true
   },
   "source": [
    "Coordinates are SageMath symbolic expressions:"
   ]
  },
  {
   "cell_type": "code",
   "execution_count": 19,
   "metadata": {
    "collapsed": false,
    "deletable": true,
    "editable": true
   },
   "outputs": [
    {
     "data": {
      "text/html": [
       "<html><script type=\"math/tex; mode=display\">\\newcommand{\\Bold}[1]{\\mathbf{#1}}\\verb|<type|\\phantom{\\verb!x!}\\verb|'sage.symbolic.expression.Expression'>|</script></html>"
      ],
      "text/plain": [
       "<type 'sage.symbolic.expression.Expression'>"
      ]
     },
     "execution_count": 19,
     "metadata": {},
     "output_type": "execute_result"
    }
   ],
   "source": [
    "type(z)"
   ]
  },
  {
   "cell_type": "markdown",
   "metadata": {
    "deletable": true,
    "editable": true
   },
   "source": [
    "<h3>Functions of the chart coordinates</h3>\n",
    "<p>Real-valued functions of the chart coordinates (mathematically speaking, <em>functions defined on the chart codomain</em>) are generated via the method <span style=\"font-family: courier new,courier;\">function()</span> acting on the chart:</p>"
   ]
  },
  {
   "cell_type": "code",
   "execution_count": 20,
   "metadata": {
    "collapsed": false,
    "deletable": true,
    "editable": true
   },
   "outputs": [
    {
     "data": {
      "text/html": [
       "<html><script type=\"math/tex; mode=display\">\\newcommand{\\Bold}[1]{\\mathbf{#1}}x + y^{2} + z^{3}</script></html>"
      ],
      "text/plain": [
       "x + y**2 + z**3"
      ]
     },
     "execution_count": 20,
     "metadata": {},
     "output_type": "execute_result"
    }
   ],
   "source": [
    "f = X.function(x+y^2+z^3) ; f"
   ]
  },
  {
   "cell_type": "code",
   "execution_count": 21,
   "metadata": {
    "collapsed": false,
    "deletable": true,
    "editable": true
   },
   "outputs": [
    {
     "data": {
      "text/html": [
       "<html><script type=\"math/tex; mode=display\">\\newcommand{\\Bold}[1]{\\mathbf{#1}}\\left ( x, \\quad y, \\quad z\\right ) \\mapsto x + y^{2} + z^{3}</script></html>"
      ],
      "text/plain": [
       "(x, y, z) |--> x + y**2 + z**3"
      ]
     },
     "execution_count": 21,
     "metadata": {},
     "output_type": "execute_result"
    }
   ],
   "source": [
    "f.display()"
   ]
  },
  {
   "cell_type": "code",
   "execution_count": 22,
   "metadata": {
    "collapsed": false,
    "deletable": true,
    "editable": true
   },
   "outputs": [
    {
     "data": {
      "image/png": "[encoded data removed]",
      "text/latex": [
       "$$32$$"
      ],
      "text/plain": [
       "32"
      ]
     },
     "execution_count": 22,
     "metadata": {},
     "output_type": "execute_result"
    }
   ],
   "source": [
    "f(1,2,3)"
   ]
  },
  {
   "cell_type": "markdown",
   "metadata": {
    "deletable": true,
    "editable": true
   },
   "source": [
    "They belong to SageMath class `ChartFunction`:"
   ]
  },
  {
   "cell_type": "code",
   "execution_count": 23,
   "metadata": {
    "collapsed": false,
    "deletable": true,
    "editable": true
   },
   "outputs": [
    {
     "data": {
      "text/html": [
       "<html><script type=\"math/tex; mode=display\">\\newcommand{\\Bold}[1]{\\mathbf{#1}}\\verb|<class|\\phantom{\\verb!x!}\\verb|'sage.manifolds.chart_func.ChartFunctionRing_with_category.element_class'>|</script></html>"
      ],
      "text/plain": [
       "<class 'sage.manifolds.chart_func.ChartFunctionRing_with_category.element_class'>"
      ]
     },
     "execution_count": 23,
     "metadata": {},
     "output_type": "execute_result"
    }
   ],
   "source": [
    "type(f)"
   ]
  },
  {
   "cell_type": "markdown",
   "metadata": {
    "deletable": true,
    "editable": true
   },
   "source": [
    "<p>and differ from SageMath standard symbolic functions by automatic simplifications in all operations. For instance, adding the two symbolic functions</p>"
   ]
  },
  {
   "cell_type": "code",
   "execution_count": 24,
   "metadata": {
    "collapsed": false,
    "deletable": true,
    "editable": true
   },
   "outputs": [],
   "source": [
    "f0(x,y,z) = cos(x)^2 ; g0(x,y,z) = sin(x)^2"
   ]
  },
  {
   "cell_type": "markdown",
   "metadata": {
    "deletable": true,
    "editable": true
   },
   "source": [
    "<p>results in</p>"
   ]
  },
  {
   "cell_type": "code",
   "execution_count": 25,
   "metadata": {
    "collapsed": false,
    "deletable": true,
    "editable": true
   },
   "outputs": [
    {
     "data": {
      "text/html": [
       "<html><script type=\"math/tex; mode=display\">\\newcommand{\\Bold}[1]{\\mathbf{#1}}\\left( x, y, z \\right) \\ {\\mapsto} \\ \\cos\\left(x\\right)^{2} + \\sin\\left(x\\right)^{2}</script></html>"
      ],
      "text/plain": [
       "(x, y, z) |--> cos(x)^2 + sin(x)^2"
      ]
     },
     "execution_count": 25,
     "metadata": {},
     "output_type": "execute_result"
    }
   ],
   "source": [
    "f0 + g0"
   ]
  },
  {
   "cell_type": "markdown",
   "metadata": {
    "deletable": true,
    "editable": true
   },
   "source": [
    "while the sum of the corresponding functions in the class `ChartFunction` is automatically simplified:"
   ]
  },
  {
   "cell_type": "code",
   "execution_count": 26,
   "metadata": {
    "collapsed": false,
    "deletable": true,
    "editable": true
   },
   "outputs": [
    {
     "data": {
      "text/html": [
       "<html><script type=\"math/tex; mode=display\">\\newcommand{\\Bold}[1]{\\mathbf{#1}}1</script></html>"
      ],
      "text/plain": [
       "1"
      ]
     },
     "execution_count": 26,
     "metadata": {},
     "output_type": "execute_result"
    }
   ],
   "source": [
    "f1 = X.function(cos(x)^2) ; g1 = X.function(sin(x)^2)\n",
    "f1 + g1"
   ]
  },
  {
   "cell_type": "markdown",
   "metadata": {
    "deletable": true,
    "editable": true
   },
   "source": [
    "<p>To get the same output with symbolic functions, one has to invoke the method <span style=\"font-family: courier new,courier;\">simplify_trig()</span>:</p>"
   ]
  },
  {
   "cell_type": "code",
   "execution_count": 27,
   "metadata": {
    "collapsed": false,
    "deletable": true,
    "editable": true
   },
   "outputs": [
    {
     "data": {
      "text/html": [
       "<html><script type=\"math/tex; mode=display\">\\newcommand{\\Bold}[1]{\\mathbf{#1}}\\left( x, y, z \\right) \\ {\\mapsto} \\ 1</script></html>"
      ],
      "text/plain": [
       "(x, y, z) |--> 1"
      ]
     },
     "execution_count": 27,
     "metadata": {},
     "output_type": "execute_result"
    }
   ],
   "source": [
    "(f0 + g0).simplify_trig()"
   ]
  },
  {
   "cell_type": "markdown",
   "metadata": {
    "deletable": true,
    "editable": true
   },
   "source": [
    "<p>Another difference regards the display; if we ask for the symbolic function f0, we get:</p>"
   ]
  },
  {
   "cell_type": "code",
   "execution_count": 28,
   "metadata": {
    "collapsed": false,
    "deletable": true,
    "editable": true
   },
   "outputs": [
    {
     "data": {
      "text/html": [
       "<html><script type=\"math/tex; mode=display\">\\newcommand{\\Bold}[1]{\\mathbf{#1}}\\left( x, y, z \\right) \\ {\\mapsto} \\ \\cos\\left(x\\right)^{2}</script></html>"
      ],
      "text/plain": [
       "(x, y, z) |--> cos(x)^2"
      ]
     },
     "execution_count": 28,
     "metadata": {},
     "output_type": "execute_result"
    }
   ],
   "source": [
    "f0"
   ]
  },
  {
   "cell_type": "markdown",
   "metadata": {
    "deletable": true,
    "editable": true
   },
   "source": [
    "<p>while if we ask for the chart function f1, we get only the coordinate expression:</p>"
   ]
  },
  {
   "cell_type": "code",
   "execution_count": 29,
   "metadata": {
    "collapsed": false,
    "deletable": true,
    "editable": true
   },
   "outputs": [
    {
     "data": {
      "text/html": [
       "<html><script type=\"math/tex; mode=display\">\\newcommand{\\Bold}[1]{\\mathbf{#1}}\\cos^{2}{\\left (x \\right )}</script></html>"
      ],
      "text/plain": [
       "cos(x)**2"
      ]
     },
     "execution_count": 29,
     "metadata": {},
     "output_type": "execute_result"
    }
   ],
   "source": [
    "f1"
   ]
  },
  {
   "cell_type": "markdown",
   "metadata": {
    "deletable": true,
    "editable": true
   },
   "source": [
    "<p>To get an output similar to that of f0, one should call the method <span style=\"font-family: courier new,courier;\">display()</span>:</p>"
   ]
  },
  {
   "cell_type": "code",
   "execution_count": 30,
   "metadata": {
    "collapsed": false,
    "deletable": true,
    "editable": true
   },
   "outputs": [
    {
     "data": {
      "text/html": [
       "<html><script type=\"math/tex; mode=display\">\\newcommand{\\Bold}[1]{\\mathbf{#1}}\\left ( x, \\quad y, \\quad z\\right ) \\mapsto \\cos^{2}{\\left (x \\right )}</script></html>"
      ],
      "text/plain": [
       "(x, y, z) |--> cos(x)**2"
      ]
     },
     "execution_count": 30,
     "metadata": {},
     "output_type": "execute_result"
    }
   ],
   "source": [
    "f1.display()"
   ]
  },
  {
   "cell_type": "markdown",
   "metadata": {
    "deletable": true,
    "editable": true
   },
   "source": [
    "Note that the method `expr()` returns the underlying symbolic expression:"
   ]
  },
  {
   "cell_type": "code",
   "execution_count": 31,
   "metadata": {
    "collapsed": false,
    "deletable": true,
    "editable": true
   },
   "outputs": [
    {
     "data": {
      "image/png": "[encoded data removed]",
      "text/latex": [
       "$$\\cos^{2}{\\left (x \\right )}$$"
      ],
      "text/plain": [
       "cos(x)**2"
      ]
     },
     "execution_count": 31,
     "metadata": {},
     "output_type": "execute_result"
    }
   ],
   "source": [
    "f1.expr()"
   ]
  },
  {
   "cell_type": "markdown",
   "metadata": {
    "deletable": true,
    "editable": true
   },
   "source": [
    "In the present case, it is a SymPy object:"
   ]
  },
  {
   "cell_type": "code",
   "execution_count": 32,
   "metadata": {
    "collapsed": false,
    "deletable": true,
    "editable": true
   },
   "outputs": [
    {
     "data": {
      "text/html": [
       "<html><script type=\"math/tex; mode=display\">\\newcommand{\\Bold}[1]{\\mathbf{#1}}\\verb|<class|\\phantom{\\verb!x!}\\verb|'sympy.core.power.Pow'>|</script></html>"
      ],
      "text/plain": [
       "<class 'sympy.core.power.Pow'>"
      ]
     },
     "execution_count": 32,
     "metadata": {},
     "output_type": "execute_result"
    }
   ],
   "source": [
    "type(f1.expr())"
   ]
  },
  {
   "cell_type": "markdown",
   "metadata": {
    "deletable": true,
    "editable": true
   },
   "source": [
    "### Introducing a second chart on the manifold\n",
    "\n",
    "Let us first consider an open subset of $\\mathcal{M}$, for instance the complement $U$ of the region defined by $\\{y=0, x\\geq 0\\}$ (note that `(y!=0, x<0)` stands for $y\\not=0$ OR $x<0$; the condition $y\\not=0$ AND $x<0$ would have been written `[y!=0, x<0]` instead):"
   ]
  },
  {
   "cell_type": "code",
   "execution_count": 33,
   "metadata": {
    "collapsed": false,
    "deletable": true,
    "editable": true
   },
   "outputs": [],
   "source": [
    "U = M.open_subset('U', coord_def={X: (y!=0, x<0)})"
   ]
  },
  {
   "cell_type": "markdown",
   "metadata": {
    "deletable": true,
    "editable": true
   },
   "source": [
    "Let us call `X_U` the restriction of the chart `X` to the open subset $U$:"
   ]
  },
  {
   "cell_type": "code",
   "execution_count": 34,
   "metadata": {
    "collapsed": false,
    "deletable": true,
    "editable": true
   },
   "outputs": [
    {
     "data": {
      "text/html": [
       "<html><script type=\"math/tex; mode=display\">\\newcommand{\\Bold}[1]{\\mathbf{#1}}\\left(U,(x, y, z)\\right)</script></html>"
      ],
      "text/plain": [
       "Chart (U, (x, y, z))"
      ]
     },
     "execution_count": 34,
     "metadata": {},
     "output_type": "execute_result"
    }
   ],
   "source": [
    "X_U = X.restrict(U) ; X_U"
   ]
  },
  {
   "cell_type": "markdown",
   "metadata": {
    "deletable": true,
    "editable": true
   },
   "source": [
    "<p>We introduce another chart on $U$, with spherical-type coordinates $(r,\\theta,\\phi)$:</p>"
   ]
  },
  {
   "cell_type": "code",
   "execution_count": 35,
   "metadata": {
    "collapsed": false,
    "deletable": true,
    "editable": true
   },
   "outputs": [
    {
     "data": {
      "text/html": [
       "<html><script type=\"math/tex; mode=display\">\\newcommand{\\Bold}[1]{\\mathbf{#1}}\\left(U,(r, {\\theta}, {\\phi})\\right)</script></html>"
      ],
      "text/plain": [
       "Chart (U, (r, theta, phi))"
      ]
     },
     "execution_count": 35,
     "metadata": {},
     "output_type": "execute_result"
    }
   ],
   "source": [
    "Y.<r,th,ph> = U.chart(r'r:(0,+oo) theta:(0,pi):\\theta phi:(0,2*pi):\\phi') ; Y"
   ]
  },
  {
   "cell_type": "markdown",
   "metadata": {
    "deletable": true,
    "editable": true
   },
   "source": [
    "<p>The function <span style=\"font-family: courier new,courier;\">chart()</span> has now some argument; it is a string, which contains specific LaTeX symbols, hence the prefix 'r' to it (for <em>raw</em> string). It also contains the coordinate ranges, since they are different from the default value, which is $(-\\infty, +\\infty)$. For a given coordinate, the various fields are separated by the character ':' and a space character separates the coordinates. Note that for the coordinate $r$, there are only two fields, since the LaTeX symbol has not to be specified. The LaTeX symbols are used for the outputs:</p>"
   ]
  },
  {
   "cell_type": "code",
   "execution_count": 36,
   "metadata": {
    "collapsed": false,
    "deletable": true,
    "editable": true
   },
   "outputs": [
    {
     "data": {
      "text/html": [
       "<html><script type=\"math/tex; mode=display\">\\newcommand{\\Bold}[1]{\\mathbf{#1}}\\left({\\theta}, {\\phi}\\right)</script></html>"
      ],
      "text/plain": [
       "(theta, phi)"
      ]
     },
     "execution_count": 36,
     "metadata": {},
     "output_type": "execute_result"
    }
   ],
   "source": [
    "th, ph"
   ]
  },
  {
   "cell_type": "code",
   "execution_count": 37,
   "metadata": {
    "collapsed": false,
    "deletable": true,
    "editable": true
   },
   "outputs": [
    {
     "data": {
      "text/html": [
       "<html><script type=\"math/tex; mode=display\">\\newcommand{\\Bold}[1]{\\mathbf{#1}}\\left({\\theta}, {\\phi}\\right)</script></html>"
      ],
      "text/plain": [
       "(theta, phi)"
      ]
     },
     "execution_count": 37,
     "metadata": {},
     "output_type": "execute_result"
    }
   ],
   "source": [
    "Y[2], Y[3]"
   ]
  },
  {
   "cell_type": "markdown",
   "metadata": {
    "deletable": true,
    "editable": true
   },
   "source": [
    "<p>The declared coordinate ranges are now known to Sage, as we may check by means of the command <span style=\"font-family: courier new,courier; font-size: small;\">assumptions()</span>:</p>"
   ]
  },
  {
   "cell_type": "code",
   "execution_count": 38,
   "metadata": {
    "collapsed": false,
    "deletable": true,
    "editable": true
   },
   "outputs": [
    {
     "data": {
      "text/html": [
       "<html><script type=\"math/tex; mode=display\">\\newcommand{\\Bold}[1]{\\mathbf{#1}}\\left[\\verb|x|\\phantom{\\verb!x!}\\verb|is|\\phantom{\\verb!x!}\\verb|real|, \\verb|y|\\phantom{\\verb!x!}\\verb|is|\\phantom{\\verb!x!}\\verb|real|, \\verb|z|\\phantom{\\verb!x!}\\verb|is|\\phantom{\\verb!x!}\\verb|real|, \\verb|r|\\phantom{\\verb!x!}\\verb|is|\\phantom{\\verb!x!}\\verb|real|, r > 0, \\verb|theta|\\phantom{\\verb!x!}\\verb|is|\\phantom{\\verb!x!}\\verb|real|, {\\theta} > 0, {\\theta} < \\pi, \\verb|phi|\\phantom{\\verb!x!}\\verb|is|\\phantom{\\verb!x!}\\verb|real|, {\\phi} > 0, {\\phi} < 2 \\, \\pi\\right]</script></html>"
      ],
      "text/plain": [
       "[x is real,\n",
       " y is real,\n",
       " z is real,\n",
       " r is real,\n",
       " r > 0,\n",
       " theta is real,\n",
       " theta > 0,\n",
       " theta < pi,\n",
       " phi is real,\n",
       " phi > 0,\n",
       " phi < 2*pi]"
      ]
     },
     "execution_count": 38,
     "metadata": {},
     "output_type": "execute_result"
    }
   ],
   "source": [
    "assumptions()"
   ]
  },
  {
   "cell_type": "markdown",
   "metadata": {
    "deletable": true,
    "editable": true
   },
   "source": [
    "<p>They are used in simplifications:</p>"
   ]
  },
  {
   "cell_type": "code",
   "execution_count": 39,
   "metadata": {
    "collapsed": false,
    "deletable": true,
    "editable": true
   },
   "outputs": [
    {
     "data": {
      "text/html": [
       "<html><script type=\"math/tex; mode=display\">\\newcommand{\\Bold}[1]{\\mathbf{#1}}r</script></html>"
      ],
      "text/plain": [
       "r"
      ]
     },
     "execution_count": 39,
     "metadata": {},
     "output_type": "execute_result"
    }
   ],
   "source": [
    "simplify(abs(r))"
   ]
  },
  {
   "cell_type": "code",
   "execution_count": 40,
   "metadata": {
    "collapsed": false,
    "deletable": true,
    "editable": true
   },
   "outputs": [
    {
     "data": {
      "text/html": [
       "<html><script type=\"math/tex; mode=display\">\\newcommand{\\Bold}[1]{\\mathbf{#1}}{\\left| x \\right|}</script></html>"
      ],
      "text/plain": [
       "abs(x)"
      ]
     },
     "execution_count": 40,
     "metadata": {},
     "output_type": "execute_result"
    }
   ],
   "source": [
    "simplify(abs(x)) # no simplification occurs since x can take any value in R"
   ]
  },
  {
   "cell_type": "markdown",
   "metadata": {
    "deletable": true,
    "editable": true
   },
   "source": [
    "<p>After having been declared, the chart Y can be fully specified by its relation to the chart X_U, via a transition map:</p>"
   ]
  },
  {
   "cell_type": "code",
   "execution_count": 41,
   "metadata": {
    "collapsed": false,
    "deletable": true,
    "editable": true
   },
   "outputs": [],
   "source": [
    "transit_Y_to_X = Y.transition_map(X_U, [r*sin(th)*cos(ph), r*sin(th)*sin(ph), r*cos(th)])"
   ]
  },
  {
   "cell_type": "code",
   "execution_count": 42,
   "metadata": {
    "collapsed": false,
    "deletable": true,
    "editable": true
   },
   "outputs": [
    {
     "data": {
      "text/html": [
       "<html><script type=\"math/tex; mode=display\">\\newcommand{\\Bold}[1]{\\mathbf{#1}}\\left(U,(r, {\\theta}, {\\phi})\\right) \\rightarrow \\left(U,(x, y, z)\\right)</script></html>"
      ],
      "text/plain": [
       "Change of coordinates from Chart (U, (r, theta, phi)) to Chart (U, (x, y, z))"
      ]
     },
     "execution_count": 42,
     "metadata": {},
     "output_type": "execute_result"
    }
   ],
   "source": [
    "transit_Y_to_X"
   ]
  },
  {
   "cell_type": "code",
   "execution_count": 43,
   "metadata": {
    "collapsed": false,
    "deletable": true,
    "editable": true
   },
   "outputs": [
    {
     "data": {
      "text/html": [
       "<html><script type=\"math/tex; mode=display\">\\newcommand{\\Bold}[1]{\\mathbf{#1}}\\left\\{\\begin{array}{lcl} x & = & r \\cos\\left({\\phi}\\right) \\sin\\left({\\theta}\\right) \\\\ y & = & r \\sin\\left({\\phi}\\right) \\sin\\left({\\theta}\\right) \\\\ z & = & r \\cos\\left({\\theta}\\right) \\end{array}\\right.</script></html>"
      ],
      "text/plain": [
       "x = r*cos(phi)*sin(theta)\n",
       "y = r*sin(phi)*sin(theta)\n",
       "z = r*cos(theta)"
      ]
     },
     "execution_count": 43,
     "metadata": {},
     "output_type": "execute_result"
    }
   ],
   "source": [
    "transit_Y_to_X.display()"
   ]
  },
  {
   "cell_type": "markdown",
   "metadata": {
    "deletable": true,
    "editable": true
   },
   "source": [
    "<p>The inverse of the transition map can be specified by means of the method <span style=\"font-family: courier new,courier;\">set_inverse()</span>:</p>"
   ]
  },
  {
   "cell_type": "code",
   "execution_count": 44,
   "metadata": {
    "collapsed": false,
    "deletable": true,
    "editable": true
   },
   "outputs": [
    {
     "data": {
      "text/html": [
       "<html><script type=\"math/tex; mode=display\">\\newcommand{\\Bold}[1]{\\mathbf{#1}}\\left\\{\\begin{array}{lcl} r & = & \\sqrt{x^{2} + y^{2} + z^{2}} \\\\ {\\theta} & = & \\arctan\\left(\\sqrt{x^{2} + y^{2}}, z\\right) \\\\ {\\phi} & = & \\arctan\\left(y, x\\right) \\end{array}\\right.</script></html>"
      ],
      "text/plain": [
       "r = sqrt(x^2 + y^2 + z^2)\n",
       "theta = arctan2(sqrt(x^2 + y^2), z)\n",
       "phi = arctan2(y, x)"
      ]
     },
     "execution_count": 44,
     "metadata": {},
     "output_type": "execute_result"
    }
   ],
   "source": [
    "transit_Y_to_X.set_inverse(sqrt(x^2+y^2+z^2), atan2(sqrt(x^2+y^2),z), atan2(y, x))\n",
    "transit_Y_to_X.inverse().display()"
   ]
  },
  {
   "cell_type": "markdown",
   "metadata": {
    "deletable": true,
    "editable": true
   },
   "source": [
    "<p>At this stage, the manifold's <strong>atlas</strong> (the \"user atlas\", not the maximal atlas!) contains three charts:</p>"
   ]
  },
  {
   "cell_type": "code",
   "execution_count": 45,
   "metadata": {
    "collapsed": false,
    "deletable": true,
    "editable": true
   },
   "outputs": [
    {
     "data": {
      "text/html": [
       "<html><script type=\"math/tex; mode=display\">\\newcommand{\\Bold}[1]{\\mathbf{#1}}\\left[\\left(\\mathcal{M},(x, y, z)\\right), \\left(U,(x, y, z)\\right), \\left(U,(r, {\\theta}, {\\phi})\\right)\\right]</script></html>"
      ],
      "text/plain": [
       "[Chart (M, (x, y, z)), Chart (U, (x, y, z)), Chart (U, (r, theta, phi))]"
      ]
     },
     "execution_count": 45,
     "metadata": {},
     "output_type": "execute_result"
    }
   ],
   "source": [
    "M.atlas()"
   ]
  },
  {
   "cell_type": "markdown",
   "metadata": {
    "deletable": true,
    "editable": true
   },
   "source": [
    "<p>The first chart defined on the manifold is considered as the manifold's default chart (it can be changed by the method <span style=\"font-family: courier new,courier;\">set_default_chart()</span>):</p>"
   ]
  },
  {
   "cell_type": "code",
   "execution_count": 46,
   "metadata": {
    "collapsed": false,
    "deletable": true,
    "editable": true
   },
   "outputs": [
    {
     "data": {
      "text/html": [
       "<html><script type=\"math/tex; mode=display\">\\newcommand{\\Bold}[1]{\\mathbf{#1}}\\left(\\mathcal{M},(x, y, z)\\right)</script></html>"
      ],
      "text/plain": [
       "Chart (M, (x, y, z))"
      ]
     },
     "execution_count": 46,
     "metadata": {},
     "output_type": "execute_result"
    }
   ],
   "source": [
    "M.default_chart()"
   ]
  },
  {
   "cell_type": "markdown",
   "metadata": {
    "deletable": true,
    "editable": true
   },
   "source": [
    "<p>Each open subset has its own atlas (since an open subset of a manifold is a manifold by itself):</p>"
   ]
  },
  {
   "cell_type": "code",
   "execution_count": 47,
   "metadata": {
    "collapsed": false,
    "deletable": true,
    "editable": true
   },
   "outputs": [
    {
     "data": {
      "text/html": [
       "<html><script type=\"math/tex; mode=display\">\\newcommand{\\Bold}[1]{\\mathbf{#1}}\\left[\\left(U,(x, y, z)\\right), \\left(U,(r, {\\theta}, {\\phi})\\right)\\right]</script></html>"
      ],
      "text/plain": [
       "[Chart (U, (x, y, z)), Chart (U, (r, theta, phi))]"
      ]
     },
     "execution_count": 47,
     "metadata": {},
     "output_type": "execute_result"
    }
   ],
   "source": [
    "U.atlas()"
   ]
  },
  {
   "cell_type": "code",
   "execution_count": 48,
   "metadata": {
    "collapsed": false,
    "deletable": true,
    "editable": true
   },
   "outputs": [
    {
     "data": {
      "text/html": [
       "<html><script type=\"math/tex; mode=display\">\\newcommand{\\Bold}[1]{\\mathbf{#1}}\\left(U,(x, y, z)\\right)</script></html>"
      ],
      "text/plain": [
       "Chart (U, (x, y, z))"
      ]
     },
     "execution_count": 48,
     "metadata": {},
     "output_type": "execute_result"
    }
   ],
   "source": [
    "U.default_chart()"
   ]
  },
  {
   "cell_type": "markdown",
   "metadata": {
    "deletable": true,
    "editable": true
   },
   "source": [
    "We can draw the chart $Y$ in terms of the chart $X$. \n",
    "Let us first define a viewer for 3D plots (use `'threejs'` or `'jmol'` for interactive 3D graphics):"
   ]
  },
  {
   "cell_type": "code",
   "execution_count": 49,
   "metadata": {
    "collapsed": true,
    "deletable": true,
    "editable": true
   },
   "outputs": [],
   "source": [
    "viewer3D = 'threejs' # must be 'threejs', 'jmol', 'tachyon' or None (default)"
   ]
  },
  {
   "cell_type": "markdown",
   "metadata": {
    "deletable": true,
    "editable": true
   },
   "source": [
    "The plot shows lines of constant coordinates from the $Y$ chart in a \"Cartesian frame\" based on the $X$ coordinates:"
   ]
  },
  {
   "cell_type": "code",
   "execution_count": 50,
   "metadata": {
    "collapsed": false,
    "deletable": true,
    "editable": true
   },
   "outputs": [
    {
     "data": {
      "text/html": [
       "\n",
       "<iframe srcdoc=\"<!DOCTYPE html>\n",
       "<html>\n",
       "<head>\n",
       "<title></title>\n",
       "<meta charset=&quot;utf-8&quot;>\n",
       "<meta name=viewport content=&quot;width=device-width, user-scalable=no, minimum-scale=1.0, maximum-scale=1.0&quot;>\n",
       "<style>\n",
       "\n",
       "    body { margin: 0px; overflow: hidden; }\n",
       "  \n",
       "</style>\n",
       "</head>\n",
       "\n",
       "<body>\n",
       "\n",
       "<script src=&quot;/nbextensions/threejs/three.min.js&quot;></script>\n",
       "<script src=&quot;/nbextensions/threejs/OrbitControls.js&quot;></script>\n",
       "<script>\n",
       "  if ( !window.THREE ) document.write('\n",
       "<script src=&quot;https://cdn.rawgit.com/mrdoob/three.js/r80/build/three.min.js&quot;><\\/script>\n",
       "<script src=&quot;https://cdn.rawgit.com/mrdoob/three.js/r80/examples/js/controls/OrbitControls.js&quot;><\\/script>\n",
       "            ');\n",
       "</script>\n",
       "        \n",
       "<script>\n",
       "\n",
       "    var scene = new THREE.Scene();\n",
       "\n",
       "    var renderer = new THREE.WebGLRenderer( { antialias: true } );\n",
       "    renderer.setSize( window.innerWidth, window.innerHeight );\n",
       "    renderer.setClearColor( 0xffffff, 1 );\n",
       "    document.body.appendChild( renderer.domElement );\n",
       "\n",
       "    var options = {&quot;aspect_ratio&quot;: [1.0, 1.0, 1.0], &quot;decimals&quot;: 2, &quot;frame&quot;: true, &quot;axes&quot;: false, &quot;axes_labels&quot;: [&quot;x&quot;, &quot;y&quot;, &quot;z&quot;]};\n",
       "\n",
       "    // When animations are supported by the viewer, the value 'false'\n",
       "    // will be replaced with an option set in Python by the user\n",
       "    var animate = false; // options.animate;\n",
       "\n",
       "    var b = [{&quot;x&quot;:-8.7999998, &quot;y&quot;:-8.7999989, &quot;z&quot;:-8.7999956}, {&quot;x&quot;:8.7999958, &quot;y&quot;:7.999999, &quot;z&quot;:7.999996}]; // bounds\n",
       "\n",
       "    if ( b[0].x === b[1].x ) {\n",
       "        b[0].x -= 1;\n",
       "        b[1].x += 1;\n",
       "    }\n",
       "    if ( b[0].y === b[1].y ) {\n",
       "        b[0].y -= 1;\n",
       "        b[1].y += 1;\n",
       "    }\n",
       "    if ( b[0].z === b[1].z ) {\n",
       "        b[0].z -= 1;\n",
       "        b[1].z += 1;\n",
       "    }\n",
       "\n",
       "    var rRange = Math.sqrt( Math.pow( b[1].x - b[0].x, 2 )\n",
       "                            + Math.pow( b[1].x - b[0].x, 2 ) );\n",
       "    var xRange = b[1].x - b[0].x;\n",
       "    var yRange = b[1].y - b[0].y;\n",
       "    var zRange = b[1].z - b[0].z;\n",
       "\n",
       "    var ar = options.aspect_ratio;\n",
       "    var a = [ ar[0], ar[1], ar[2] ]; // aspect multipliers\n",
       "    var autoAspect = 2.5;\n",
       "    if ( zRange > autoAspect * rRange && a[2] === 1 ) a[2] = autoAspect * rRange / zRange;\n",
       "\n",
       "    var xMid = ( b[0].x + b[1].x ) / 2;\n",
       "    var yMid = ( b[0].y + b[1].y ) / 2;\n",
       "    var zMid = ( b[0].z + b[1].z ) / 2;\n",
       "\n",
       "    var box = new THREE.Geometry();\n",
       "    box.vertices.push( new THREE.Vector3( a[0]*b[0].x, a[1]*b[0].y, a[2]*b[0].z ) );\n",
       "    box.vertices.push( new THREE.Vector3( a[0]*b[1].x, a[1]*b[1].y, a[2]*b[1].z ) );\n",
       "    var boxMesh = new THREE.LineSegments( box );\n",
       "    if ( options.frame ) scene.add( new THREE.BoxHelper( boxMesh, 'black' ) );\n",
       "\n",
       "    if ( options.axes_labels ) {\n",
       "        var d = options.decimals; // decimals\n",
       "        var offsetRatio = 0.1;\n",
       "        var al = options.axes_labels;\n",
       "\n",
       "        var offset = offsetRatio * a[1]*( b[1].y - b[0].y );\n",
       "        var xm = xMid.toFixed(d);\n",
       "        if ( /^-0.?0*$/.test(xm) ) xm = xm.substr(1);\n",
       "        addLabel( al[0] + '=' + xm, a[0]*xMid, a[1]*b[1].y+offset, a[2]*b[0].z );\n",
       "        addLabel( ( b[0].x ).toFixed(d), a[0]*b[0].x, a[1]*b[1].y+offset, a[2]*b[0].z );\n",
       "        addLabel( ( b[1].x ).toFixed(d), a[0]*b[1].x, a[1]*b[1].y+offset, a[2]*b[0].z );\n",
       "\n",
       "        var offset = offsetRatio * a[0]*( b[1].x - b[0].x );\n",
       "        var ym = yMid.toFixed(d);\n",
       "        if ( /^-0.?0*$/.test(ym) ) ym = ym.substr(1);\n",
       "        addLabel( al[1] + '=' + ym, a[0]*b[1].x+offset, a[1]*yMid, a[2]*b[0].z );\n",
       "        addLabel( ( b[0].y ).toFixed(d), a[0]*b[1].x+offset, a[1]*b[0].y, a[2]*b[0].z );\n",
       "        addLabel( ( b[1].y ).toFixed(d), a[0]*b[1].x+offset, a[1]*b[1].y, a[2]*b[0].z );\n",
       "\n",
       "        var offset = offsetRatio * a[1]*( b[1].y - b[0].y );\n",
       "        var zm = zMid.toFixed(d);\n",
       "        if ( /^-0.?0*$/.test(zm) ) zm = zm.substr(1);\n",
       "        addLabel( al[2] + '=' + zm, a[0]*b[1].x, a[1]*b[0].y-offset, a[2]*zMid );\n",
       "        addLabel( ( b[0].z ).toFixed(d), a[0]*b[1].x, a[1]*b[0].y-offset, a[2]*b[0].z );\n",
       "        addLabel( ( b[1].z ).toFixed(d), a[0]*b[1].x, a[1]*b[0].y-offset, a[2]*b[1].z );\n",
       "    }\n",
       "\n",
       "    function addLabel( text, x, y, z ) {\n",
       "        var fontsize = 14;\n",
       "\n",
       "        var canvas = document.createElement( 'canvas' );\n",
       "        canvas.width = 128;\n",
       "        canvas.height = 32; // powers of two\n",
       "\n",
       "        var context = canvas.getContext( '2d' );\n",
       "        context.fillStyle = 'black';\n",
       "        context.font = fontsize + 'px monospace';\n",
       "        context.textAlign = 'center';\n",
       "        context.textBaseline = 'middle';\n",
       "        context.fillText( text, .5*canvas.width, .5*canvas.height );\n",
       "\n",
       "        var texture = new THREE.Texture( canvas );\n",
       "        texture.needsUpdate = true;\n",
       "\n",
       "        var sprite = new THREE.Sprite( new THREE.SpriteMaterial( { map: texture } ) );\n",
       "        sprite.position.set( x, y, z );\n",
       "        sprite.scale.set( 1, .25 ); // ratio of width to height\n",
       "        scene.add( sprite );\n",
       "    }\n",
       "\n",
       "    if ( options.axes ) scene.add( new THREE.AxisHelper( Math.min( a[0]*b[1].x, a[1]*b[1].y, a[2]*b[1].z ) ) );\n",
       "\n",
       "    var camera = new THREE.PerspectiveCamera( 45, window.innerWidth / window.innerHeight, 0.1, 1000 );\n",
       "    camera.up.set( 0, 0, 1 );\n",
       "    camera.position.set( a[0]*(xMid+xRange), a[1]*(yMid+yRange), a[2]*(zMid+zRange) );\n",
       "\n",
       "    var lights = [{&quot;x&quot;:-5, &quot;y&quot;:3, &quot;z&quot;:0, &quot;color&quot;:&quot;#7f7f7f&quot;, &quot;parent&quot;:&quot;camera&quot;}];\n",
       "    for ( var i=0 ; i < lights.length ; i++ ) {\n",
       "        var light = new THREE.DirectionalLight( lights[i].color, 1 );\n",
       "        light.position.set( a[0]*lights[i].x, a[1]*lights[i].y, a[2]*lights[i].z );\n",
       "        if ( lights[i].parent === 'camera' ) {\n",
       "            light.target.position.set( a[0]*xMid, a[1]*yMid, a[2]*zMid );\n",
       "            scene.add( light.target );\n",
       "            camera.add( light );\n",
       "        } else scene.add( light );\n",
       "    }\n",
       "    scene.add( camera );\n",
       "\n",
       "    var ambient = {&quot;color&quot;:&quot;#7f7f7f&quot;};\n",
       "    scene.add( new THREE.AmbientLight( ambient.color, 1 ) );\n",
       "\n",
       "    var controls = new THREE.OrbitControls( camera, renderer.domElement );\n",
       "    controls.target.set( a[0]*xMid, a[1]*yMid, a[2]*zMid );\n",
       "    controls.addEventListener( 'change', function() { if ( !animate ) render(); } );\n",
       "\n",
       "    window.addEventListener( 'resize', function() {\n",
       "        \n",
       "        renderer.setSize( window.innerWidth, window.innerHeight );\n",
       "        camera.aspect = window.innerWidth / window.innerHeight;\n",
       "        camera.updateProjectionMatrix();\n",
       "        if ( !animate ) render();\n",
       "        \n",
       "    } );\n",
       "\n",
       "    var texts = [{&quot;text&quot;:&quot;  x&quot;, &quot;x&quot;:-1.99999983508e-06, &quot;y&quot;:-8.7999989, &quot;z&quot;:-8.7999956},{&quot;text&quot;:&quot;  y&quot;, &quot;x&quot;:8.7999958, &quot;y&quot;:0.0, &quot;z&quot;:-8.7999956},{&quot;text&quot;:&quot;  z&quot;, &quot;x&quot;:-8.7999998, &quot;y&quot;:-8.7999989, &quot;z&quot;:0.0}];\n",
       "    for ( var i=0 ; i < texts.length ; i++ )\n",
       "        addLabel( texts[i].text, a[0]*texts[i].x, a[1]*texts[i].y, a[2]*texts[i].z );\n",
       "\n",
       "    var points = [];\n",
       "    for ( var i=0 ; i < points.length ; i++ ) addPoint( points[i] );\n",
       "\n",
       "    function addPoint( json ) {\n",
       "        var geometry = new THREE.Geometry();\n",
       "        var v = json.point;\n",
       "        geometry.vertices.push( new THREE.Vector3( a[0]*v[0], a[1]*v[1], a[2]*v[2] ) );\n",
       "\n",
       "        var canvas = document.createElement( 'canvas' );\n",
       "        canvas.width = 128;\n",
       "        canvas.height = 128;\n",
       "\n",
       "        var context = canvas.getContext( '2d' );\n",
       "        context.arc( 64, 64, 64, 0, 2 * Math.PI );\n",
       "        context.fillStyle = json.color;\n",
       "        context.fill();\n",
       "\n",
       "        var texture = new THREE.Texture( canvas );\n",
       "        texture.needsUpdate = true;\n",
       "\n",
       "        var transparent = json.opacity < 1 ? true : false;\n",
       "        var material = new THREE.PointsMaterial( { size: json.size/100, map: texture,\n",
       "                                                   transparent: transparent, opacity: json.opacity,\n",
       "                                                   alphaTest: .1 } );\n",
       "\n",
       "        var c = geometry.center().multiplyScalar( -1 );\n",
       "        var mesh = new THREE.Points( geometry, material );\n",
       "        mesh.position.set( c.x, c.y, c.z );\n",
       "        scene.add( mesh );\n",
       "    }\n",
       "\n",
       "    var lines = [{&quot;points&quot;:[[9.99999333333467e-07, 9.99999666666711e-10, 0.000999999500000042], [0.000109094521864879, 1.09094558229735e-07, 0.109094540047302], [0.000217189044396425, 2.17189116792802e-07, 0.217189080594604], [0.000325283566927971, 3.2528367535587e-07, 0.325283621141905], [0.000433378089459517, 4.33378233918938e-07, 0.433378161689207], [0.000541472611991063, 5.41472792482006e-07, 0.541472702236509], [0.000649567134522609, 6.49567351045074e-07, 0.649567242783811], [0.000757661657054155, 7.57661909608142e-07, 0.757661783331113], [0.000865756179585701, 8.6575646817121e-07, 0.865756323878414], [0.000973850702117247, 9.73851026734278e-07, 0.973850864425716], [0.00108194522464879, 1.08194558529735e-06, 1.08194540497302], [0.00119003974718034, 1.19004014386041e-06, 1.19003994552032], [0.00129813426971188, 1.29813470242348e-06, 1.29813448606762], [0.00140622879224343, 1.40622926098655e-06, 1.40622902661492], [0.00151432331477498, 1.51432381954962e-06, 1.51432356716223], [0.00162241783730652, 1.62241837811268e-06, 1.62241810770953], [0.00173051235983807, 1.73051293667575e-06, 1.73051264825683], [0.00183860688236961, 1.83860749523882e-06, 1.83860718880413], [0.00194670140490116, 1.94670205380189e-06, 1.94670172935143], [0.00205479592743271, 2.05479661236496e-06, 2.05479626989873], [0.00216289044996425, 2.16289117092802e-06, 2.16289081044604], [0.0022709849724958, 2.27098572949109e-06, 2.27098535099334], [0.00237907949502734, 2.37908028805416e-06, 2.37907989154064], [0.00248717401755889, 2.48717484661723e-06, 2.48717443208794], [0.00259526854009043, 2.59526940518029e-06, 2.59526897263524], [0.00270336306262198, 2.70336396374336e-06, 2.70336351318254], [0.00281145758515353, 2.81145852230643e-06, 2.81145805372984], [0.00291955210768507, 2.9195530808695e-06, 2.91955259427715], [0.00302764663021662, 3.02764763943256e-06, 3.02764713482445], [0.00313574115274816, 3.13574219799563e-06, 3.13574167537175], [0.00324383567527971, 3.2438367565587e-06, 3.24383621591905], [0.00335193019781125, 3.35193131512177e-06, 3.35193075646635], [0.0034600247203428, 3.46002587368484e-06, 3.46002529701365], [0.00356811924287435, 3.5681204322479e-06, 3.56811983756096], [0.00367621376540589, 3.67621499081097e-06, 3.67621437810826], [0.00378430828793744, 3.78430954937404e-06, 3.78430891865556], [0.00389240281046898, 3.89240410793711e-06, 3.89240345920286], [0.00400049733300053, 4.00049866650017e-06, 4.00049799975016], [0.00410859185553207, 4.10859322506324e-06, 4.10859254029746], [0.00421668637806362, 4.21668778362631e-06, 4.21668708084476], [0.00432478090059517, 4.32478234218938e-06, 4.32478162139207], [0.00443287542312671, 4.43287690075244e-06, 4.43287616193937], [0.00454096994565826, 4.54097145931551e-06, 4.54097070248667], [0.0046490644681898, 4.64906601787858e-06, 4.64906524303397], [0.00475715899072135, 4.75716057644165e-06, 4.75715978358127], [0.00486525351325289, 4.86525513500471e-06, 4.86525432412857], [0.00497334803578444, 4.97334969356778e-06, 4.97334886467588], [0.00508144255831599, 5.08144425213085e-06, 5.08144340522318], [0.00518953708084753, 5.18953881069392e-06, 5.18953794577048], [0.00529763160337908, 5.29763336925698e-06, 5.29763248631778], [0.00540572612591062, 5.40572792782005e-06, 5.40572702686508], [0.00551382064844217, 5.51382248638312e-06, 5.51382156741238], [0.00562191517097371, 5.62191704494619e-06, 5.62191610795969], [0.00573000969350526, 5.73001160350926e-06, 5.73001064850699], [0.00583810421603681, 5.83810616207232e-06, 5.83810518905429], [0.00594619873856835, 5.94620072063539e-06, 5.94619972960159], [0.0060542932610999, 6.05429527919846e-06, 6.05429427014889], [0.00616238778363144, 6.16238983776153e-06, 6.16238881069619], [0.00627048230616299, 6.27048439632459e-06, 6.2704833512435], [0.00637857682869453, 6.37857895488766e-06, 6.3785778917908], [0.00648667135122608, 6.48667351345073e-06, 6.4866724323381], [0.00659476587375763, 6.5947680720138e-06, 6.5947669728854], [0.00670286039628917, 6.70286263057686e-06, 6.7028615134327], [0.00681095491882072, 6.81095718913993e-06, 6.81095605398], [0.00691904944135226, 6.919051747703e-06, 6.9190505945273], [0.00702714396388381, 7.02714630626607e-06, 7.02714513507461], [0.00713523848641535, 7.13524086482913e-06, 7.13523967562191], [0.0072433330089469, 7.2433354233922e-06, 7.24333421616921], [0.00735142753147845, 7.35142998195527e-06, 7.35142875671651], [0.00745952205400999, 7.45952454051834e-06, 7.45952329726381], [0.00756761657654154, 7.56761909908141e-06, 7.56761783781111], [0.00767571109907308, 7.67571365764447e-06, 7.67571237835842], [0.00778380562160463, 7.78380821620754e-06, 7.78380691890572], [0.00789190014413617, 7.89190277477061e-06, 7.89190145945302], [0.00799999466666772, 7.99999733333368e-06, 7.99999600000032]], &quot;color&quot;:&quot;red&quot;, &quot;opacity&quot;:1, &quot;linewidth&quot;:1},{&quot;points&quot;:[[-4.99999895833003e-10, 9.99999708333365e-07, 0.000999999500000042], [-5.4547285933241e-08, 0.000109094562775341, 0.109094540047302], [-1.08594571970649e-07, 0.000217189125842349, 0.217189080594604], [-1.62641858008057e-07, 0.000325283688909357, 0.325283621141905], [-2.16689144045465e-07, 0.000433378251976365, 0.433378161689207], [-2.70736430082873e-07, 0.000541472815043373, 0.541472702236509], [-3.24783716120281e-07, 0.000649567378110381, 0.649567242783811], [-3.78831002157689e-07, 0.000757661941177389, 0.757661783331113], [-4.32878288195097e-07, 0.000865756504244397, 0.865756323878414], [-4.86925574232505e-07, 0.000973851067311405, 0.973850864425716], [-5.40972860269913e-07, 0.00108194563037841, 1.08194540497302], [-5.95020146307321e-07, 0.00119004019344542, 1.19003994552032], [-6.49067432344729e-07, 0.00129813475651243, 1.29813448606762], [-7.03114718382137e-07, 0.00140622931957944, 1.40622902661492], [-7.57162004419545e-07, 0.00151432388264644, 1.51432356716223], [-8.11209290456953e-07, 0.00162241844571345, 1.62241810770953], [-8.65256576494361e-07, 0.00173051300878046, 1.73051264825683], [-9.19303862531769e-07, 0.00183860757184747, 1.83860718880413], [-9.73351148569177e-07, 0.00194670213491448, 1.94670172935143], [-1.02739843460658e-06, 0.00205479669798148, 2.05479626989873], [-1.08144572064399e-06, 0.00216289126104849, 2.16289081044604], [-1.1354930066814e-06, 0.0022709858241155, 2.27098535099334], [-1.18954029271881e-06, 0.00237908038718251, 2.37907989154064], [-1.24358757875622e-06, 0.00248717495024951, 2.48717443208794], [-1.29763486479362e-06, 0.00259526951331652, 2.59526897263524], [-1.35168215083103e-06, 0.00270336407638353, 2.70336351318254], [-1.40572943686844e-06, 0.00281145863945054, 2.81145805372984], [-1.45977672290585e-06, 0.00291955320251755, 2.91955259427715], [-1.51382400894326e-06, 0.00302764776558455, 3.02764713482445], [-1.56787129498066e-06, 0.00313574232865156, 3.13574167537175], [-1.62191858101807e-06, 0.00324383689171857, 3.24383621591905], [-1.67596586705548e-06, 0.00335193145478558, 3.35193075646635], [-1.73001315309289e-06, 0.00346002601785258, 3.46002529701365], [-1.78406043913029e-06, 0.00356812058091959, 3.56811983756096], [-1.8381077251677e-06, 0.0036762151439866, 3.67621437810826], [-1.89215501120511e-06, 0.00378430970705361, 3.78430891865556], [-1.94620229724252e-06, 0.00389240427012061, 3.89240345920286], [-2.00024958327993e-06, 0.00400049883318762, 4.00049799975016], [-2.05429686931733e-06, 0.00410859339625463, 4.10859254029746], [-2.10834415535474e-06, 0.00421668795932164, 4.21668708084476], [-2.16239144139215e-06, 0.00432478252238865, 4.32478162139207], [-2.21643872742956e-06, 0.00443287708545565, 4.43287616193937], [-2.27048601346697e-06, 0.00454097164852266, 4.54097070248667], [-2.32453329950437e-06, 0.00464906621158967, 4.64906524303397], [-2.37858058554178e-06, 0.00475716077465668, 4.75715978358127], [-2.43262787157919e-06, 0.00486525533772368, 4.86525432412857], [-2.4866751576166e-06, 0.00497334990079069, 4.97334886467588], [-2.540722443654e-06, 0.0050814444638577, 5.08144340522318], [-2.59476972969141e-06, 0.00518953902692471, 5.18953794577048], [-2.64881701572882e-06, 0.00529763358999172, 5.29763248631778], [-2.70286430176623e-06, 0.00540572815305872, 5.40572702686508], [-2.75691158780364e-06, 0.00551382271612573, 5.51382156741238], [-2.81095887384104e-06, 0.00562191727919274, 5.62191610795969], [-2.86500615987845e-06, 0.00573001184225975, 5.73001064850699], [-2.91905344591586e-06, 0.00583810640532675, 5.83810518905429], [-2.97310073195327e-06, 0.00594620096839376, 5.94619972960159], [-3.02714801799068e-06, 0.00605429553146077, 6.05429427014889], [-3.08119530402808e-06, 0.00616239009452778, 6.16238881069619], [-3.13524259006549e-06, 0.00627048465759478, 6.2704833512435], [-3.1892898761029e-06, 0.00637857922066179, 6.3785778917908], [-3.24333716214031e-06, 0.0064866737837288, 6.4866724323381], [-3.29738444817771e-06, 0.00659476834679581, 6.5947669728854], [-3.35143173421512e-06, 0.00670286290986282, 6.7028615134327], [-3.40547902025253e-06, 0.00681095747292982, 6.81095605398], [-3.45952630628994e-06, 0.00691905203599683, 6.9190505945273], [-3.51357359232735e-06, 0.00702714659906384, 7.02714513507461], [-3.56762087836475e-06, 0.00713524116213085, 7.13523967562191], [-3.62166816440216e-06, 0.00724333572519785, 7.24333421616921], [-3.67571545043957e-06, 0.00735143028826486, 7.35142875671651], [-3.72976273647698e-06, 0.00745952485133187, 7.45952329726381], [-3.78381002251439e-06, 0.00756761941439888, 7.56761783781111], [-3.83785730855179e-06, 0.00767571397746588, 7.67571237835842], [-3.8919045945892e-06, 0.00778380854053289, 7.78380691890572], [-3.94595188062661e-06, 0.0078919031035999, 7.89190145945302], [-3.99999916666402e-06, 0.00799999766666691, 7.99999600000032]], &quot;color&quot;:&quot;red&quot;, &quot;opacity&quot;:1, &quot;linewidth&quot;:1},{&quot;points&quot;:[[-9.99999833333342e-07, 5.66553795339154e-22, 0.000999999500000042], [-0.000109094576412163, 6.1807956618554e-20, 0.109094540047302], [-0.000217189152990993, 1.23049359441769e-19, 0.217189080594604], [-0.000325283729569823, 1.84290762264984e-19, 0.325283621141905], [-0.000433378306148652, 2.45532165088198e-19, 0.433378161689207], [-0.000541472882727482, 3.06773567911413e-19, 0.541472702236509], [-0.000649567459306312, 3.68014970734628e-19, 0.649567242783811], [-0.000757662035885141, 4.29256373557843e-19, 0.757661783331113], [-0.000865756612463971, 4.90497776381058e-19, 0.865756323878414], [-0.000973851189042801, 5.51739179204272e-19, 0.973850864425716], [-0.00108194576562163, 6.12980582027487e-19, 1.08194540497302], [-0.00119004034220046, 6.74221984850702e-19, 1.19003994552032], [-0.00129813491877929, 7.35463387673917e-19, 1.29813448606762], [-0.00140622949535812, 7.96704790497132e-19, 1.40622902661492], [-0.00151432407193695, 8.57946193320346e-19, 1.51432356716223], [-0.00162241864851578, 9.19187596143561e-19, 1.62241810770953], [-0.00173051322509461, 9.80428998966776e-19, 1.73051264825683], [-0.00183860780167344, 1.04167040178999e-18, 1.83860718880413], [-0.00194670237825227, 1.10291180461321e-18, 1.94670172935143], [-0.0020547969548311, 1.16415320743642e-18, 2.05479626989873], [-0.00216289153140993, 1.22539461025963e-18, 2.16289081044604], [-0.00227098610798876, 1.28663601308285e-18, 2.27098535099334], [-0.00237908068456759, 1.34787741590606e-18, 2.37907989154064], [-0.00248717526114642, 1.40911881872928e-18, 2.48717443208794], [-0.00259526983772525, 1.47036022155249e-18, 2.59526897263524], [-0.00270336441430407, 1.53160162437571e-18, 2.70336351318254], [-0.0028114589908829, 1.59284302719892e-18, 2.81145805372984], [-0.00291955356746173, 1.65408443002214e-18, 2.91955259427715], [-0.00302764814404056, 1.71532583284535e-18, 3.02764713482445], [-0.00313574272061939, 1.77656723566857e-18, 3.13574167537175], [-0.00324383729719822, 1.83780863849178e-18, 3.24383621591905], [-0.00335193187377705, 1.899050041315e-18, 3.35193075646635], [-0.00346002645035588, 1.96029144413821e-18, 3.46002529701365], [-0.00356812102693471, 2.02153284696143e-18, 3.56811983756096], [-0.00367621560351354, 2.08277424978464e-18, 3.67621437810826], [-0.00378431018009237, 2.14401565260786e-18, 3.78430891865556], [-0.0038924047566712, 2.20525705543107e-18, 3.89240345920286], [-0.00400049933325003, 2.26649845825428e-18, 4.00049799975016], [-0.00410859390982886, 2.3277398610775e-18, 4.10859254029746], [-0.00421668848640769, 2.38898126390071e-18, 4.21668708084476], [-0.00432478306298652, 2.45022266672393e-18, 4.32478162139207], [-0.00443287763956535, 2.51146406954714e-18, 4.43287616193937], [-0.00454097221614418, 2.57270547237036e-18, 4.54097070248667], [-0.00464906679272301, 2.63394687519357e-18, 4.64906524303397], [-0.00475716136930183, 2.69518827801679e-18, 4.75715978358127], [-0.00486525594588066, 2.75642968084e-18, 4.86525432412857], [-0.00497335052245949, 2.81767108366322e-18, 4.97334886467588], [-0.00508144509903832, 2.87891248648643e-18, 5.08144340522318], [-0.00518953967561715, 2.94015388930965e-18, 5.18953794577048], [-0.00529763425219598, 3.00139529213286e-18, 5.29763248631778], [-0.00540572882877481, 3.06263669495608e-18, 5.40572702686508], [-0.00551382340535364, 3.12387809777929e-18, 5.51382156741238], [-0.00562191798193247, 3.1851195006025e-18, 5.62191610795969], [-0.0057300125585113, 3.24636090342572e-18, 5.73001064850699], [-0.00583810713509013, 3.30760230624893e-18, 5.83810518905429], [-0.00594620171166896, 3.36884370907215e-18, 5.94619972960159], [-0.00605429628824779, 3.43008511189536e-18, 6.05429427014889], [-0.00616239086482662, 3.49132651471858e-18, 6.16238881069619], [-0.00627048544140545, 3.55256791754179e-18, 6.2704833512435], [-0.00637858001798428, 3.61380932036501e-18, 6.3785778917908], [-0.00648667459456311, 3.67505072318822e-18, 6.4866724323381], [-0.00659476917114194, 3.73629212601144e-18, 6.5947669728854], [-0.00670286374772077, 3.79753352883465e-18, 6.7028615134327], [-0.0068109583242996, 3.85877493165787e-18, 6.81095605398], [-0.00691905290087842, 3.92001633448108e-18, 6.9190505945273], [-0.00702714747745725, 3.9812577373043e-18, 7.02714513507461], [-0.00713524205403608, 4.04249914012751e-18, 7.13523967562191], [-0.00724333663061491, 4.10374054295072e-18, 7.24333421616921], [-0.00735143120719374, 4.16498194577394e-18, 7.35142875671651], [-0.00745952578377257, 4.22622334859715e-18, 7.45952329726381], [-0.0075676203603514, 4.28746475142037e-18, 7.56761783781111], [-0.00767571493693023, 4.34870615424358e-18, 7.67571237835842], [-0.00778380951350906, 4.4099475570668e-18, 7.78380691890572], [-0.00789190409008789, 4.47118895989001e-18, 7.89190145945302], [-0.00799999866666672, 4.53243036271323e-18, 7.99999600000032]], &quot;color&quot;:&quot;red&quot;, &quot;opacity&quot;:1, &quot;linewidth&quot;:1},{&quot;points&quot;:[[-4.99999895834136e-10, -9.99999708333365e-07, 0.000999999500000042], [-5.45472859333646e-08, -0.000109094562775341, 0.109094540047302], [-1.08594571970895e-07, -0.000217189125842349, 0.217189080594604], [-1.62641858008426e-07, -0.000325283688909357, 0.325283621141905], [-2.16689144045956e-07, -0.000433378251976365, 0.433378161689207], [-2.70736430083486e-07, -0.000541472815043373, 0.541472702236509], [-3.24783716121017e-07, -0.000649567378110381, 0.649567242783811], [-3.78831002158547e-07, -0.000757661941177389, 0.757661783331113], [-4.32878288196078e-07, -0.000865756504244397, 0.865756323878414], [-4.86925574233608e-07, -0.000973851067311405, 0.973850864425716], [-5.40972860271139e-07, -0.00108194563037841, 1.08194540497302], [-5.95020146308669e-07, -0.00119004019344542, 1.19003994552032], [-6.490674323462e-07, -0.00129813475651243, 1.29813448606762], [-7.0311471838373e-07, -0.00140622931957944, 1.40622902661492], [-7.5716200442126e-07, -0.00151432388264644, 1.51432356716223], [-8.11209290458791e-07, -0.00162241844571345, 1.62241810770953], [-8.65256576496321e-07, -0.00173051300878046, 1.73051264825683], [-9.19303862533852e-07, -0.00183860757184747, 1.83860718880413], [-9.73351148571382e-07, -0.00194670213491448, 1.94670172935143], [-1.02739843460891e-06, -0.00205479669798148, 2.05479626989873], [-1.08144572064644e-06, -0.00216289126104849, 2.16289081044604], [-1.13549300668397e-06, -0.0022709858241155, 2.27098535099334], [-1.1895402927215e-06, -0.00237908038718251, 2.37907989154064], [-1.24358757875903e-06, -0.00248717495024951, 2.48717443208794], [-1.29763486479656e-06, -0.00259526951331652, 2.59526897263524], [-1.35168215083409e-06, -0.00270336407638353, 2.70336351318254], [-1.40572943687163e-06, -0.00281145863945054, 2.81145805372984], [-1.45977672290916e-06, -0.00291955320251755, 2.91955259427715], [-1.51382400894669e-06, -0.00302764776558455, 3.02764713482445], [-1.56787129498422e-06, -0.00313574232865156, 3.13574167537175], [-1.62191858102175e-06, -0.00324383689171857, 3.24383621591905], [-1.67596586705928e-06, -0.00335193145478558, 3.35193075646635], [-1.73001315309681e-06, -0.00346002601785258, 3.46002529701365], [-1.78406043913434e-06, -0.00356812058091959, 3.56811983756096], [-1.83810772517187e-06, -0.0036762151439866, 3.67621437810826], [-1.8921550112094e-06, -0.00378430970705361, 3.78430891865556], [-1.94620229724693e-06, -0.00389240427012061, 3.89240345920286], [-2.00024958328446e-06, -0.00400049883318762, 4.00049799975016], [-2.05429686932199e-06, -0.00410859339625463, 4.10859254029746], [-2.10834415535952e-06, -0.00421668795932164, 4.21668708084476], [-2.16239144139705e-06, -0.00432478252238865, 4.32478162139207], [-2.21643872743458e-06, -0.00443287708545565, 4.43287616193937], [-2.27048601347211e-06, -0.00454097164852266, 4.54097070248667], [-2.32453329950964e-06, -0.00464906621158967, 4.64906524303397], [-2.37858058554717e-06, -0.00475716077465668, 4.75715978358127], [-2.4326278715847e-06, -0.00486525533772368, 4.86525432412857], [-2.48667515762223e-06, -0.00497334990079069, 4.97334886467588], [-2.54072244365976e-06, -0.0050814444638577, 5.08144340522318], [-2.59476972969729e-06, -0.00518953902692471, 5.18953794577048], [-2.64881701573482e-06, -0.00529763358999172, 5.29763248631778], [-2.70286430177235e-06, -0.00540572815305872, 5.40572702686508], [-2.75691158780988e-06, -0.00551382271612573, 5.51382156741238], [-2.81095887384741e-06, -0.00562191727919274, 5.62191610795969], [-2.86500615988494e-06, -0.00573001184225975, 5.73001064850699], [-2.91905344592247e-06, -0.00583810640532675, 5.83810518905429], [-2.97310073196001e-06, -0.00594620096839376, 5.94619972960159], [-3.02714801799754e-06, -0.00605429553146077, 6.05429427014889], [-3.08119530403507e-06, -0.00616239009452778, 6.16238881069619], [-3.1352425900726e-06, -0.00627048465759478, 6.2704833512435], [-3.18928987611013e-06, -0.00637857922066179, 6.3785778917908], [-3.24333716214766e-06, -0.0064866737837288, 6.4866724323381], [-3.29738444818519e-06, -0.00659476834679581, 6.5947669728854], [-3.35143173422272e-06, -0.00670286290986282, 6.7028615134327], [-3.40547902026025e-06, -0.00681095747292982, 6.81095605398], [-3.45952630629778e-06, -0.00691905203599683, 6.9190505945273], [-3.51357359233531e-06, -0.00702714659906384, 7.02714513507461], [-3.56762087837284e-06, -0.00713524116213085, 7.13523967562191], [-3.62166816441037e-06, -0.00724333572519785, 7.24333421616921], [-3.6757154504479e-06, -0.00735143028826486, 7.35142875671651], [-3.72976273648543e-06, -0.00745952485133187, 7.45952329726381], [-3.78381002252296e-06, -0.00756761941439888, 7.56761783781111], [-3.83785730856049e-06, -0.00767571397746588, 7.67571237835842], [-3.89190459459802e-06, -0.00778380854053289, 7.78380691890572], [-3.94595188063555e-06, -0.0078919031035999, 7.89190145945302], [-3.99999916667308e-06, -0.00799999766666691, 7.99999600000032]], &quot;color&quot;:&quot;red&quot;, &quot;opacity&quot;:1, &quot;linewidth&quot;:1},{&quot;points&quot;:[[9.99999333333467e-07, -9.99999666668178e-10, 0.000999999500000042], [0.000109094521864879, -1.09094558229895e-07, 0.109094540047302], [0.000217189044396425, -2.17189116793121e-07, 0.217189080594604], [0.000325283566927971, -3.25283675356348e-07, 0.325283621141905], [0.000433378089459517, -4.33378233919574e-07, 0.433378161689207], [0.000541472611991063, -5.41472792482801e-07, 0.541472702236509], [0.000649567134522609, -6.49567351046027e-07, 0.649567242783811], [0.000757661657054155, -7.57661909609253e-07, 0.757661783331113], [0.000865756179585701, -8.6575646817248e-07, 0.865756323878414], [0.000973850702117247, -9.73851026735706e-07, 0.973850864425716], [0.00108194522464879, -1.08194558529893e-06, 1.08194540497302], [0.00119003974718034, -1.19004014386216e-06, 1.19003994552032], [0.00129813426971188, -1.29813470242539e-06, 1.29813448606762], [0.00140622879224343, -1.40622926098861e-06, 1.40622902661492], [0.00151432331477498, -1.51432381955184e-06, 1.51432356716223], [0.00162241783730652, -1.62241837811506e-06, 1.62241810770953], [0.00173051235983807, -1.73051293667829e-06, 1.73051264825683], [0.00183860688236961, -1.83860749524152e-06, 1.83860718880413], [0.00194670140490116, -1.94670205380474e-06, 1.94670172935143], [0.00205479592743271, -2.05479661236797e-06, 2.05479626989873], [0.00216289044996425, -2.1628911709312e-06, 2.16289081044604], [0.0022709849724958, -2.27098572949442e-06, 2.27098535099334], [0.00237907949502734, -2.37908028805765e-06, 2.37907989154064], [0.00248717401755889, -2.48717484662088e-06, 2.48717443208794], [0.00259526854009043, -2.5952694051841e-06, 2.59526897263524], [0.00270336306262198, -2.70336396374733e-06, 2.70336351318254], [0.00281145758515353, -2.81145852231055e-06, 2.81145805372984], [0.00291955210768507, -2.91955308087378e-06, 2.91955259427715], [0.00302764663021662, -3.02764763943701e-06, 3.02764713482445], [0.00313574115274816, -3.13574219800023e-06, 3.13574167537175], [0.00324383567527971, -3.24383675656346e-06, 3.24383621591905], [0.00335193019781125, -3.35193131512669e-06, 3.35193075646635], [0.0034600247203428, -3.46002587368991e-06, 3.46002529701365], [0.00356811924287435, -3.56812043225314e-06, 3.56811983756096], [0.00367621376540589, -3.67621499081636e-06, 3.67621437810826], [0.00378430828793744, -3.78430954937959e-06, 3.78430891865556], [0.00389240281046898, -3.89240410794282e-06, 3.89240345920286], [0.00400049733300053, -4.00049866650604e-06, 4.00049799975016], [0.00410859185553207, -4.10859322506927e-06, 4.10859254029746], [0.00421668637806362, -4.21668778363249e-06, 4.21668708084476], [0.00432478090059517, -4.32478234219572e-06, 4.32478162139207], [0.00443287542312671, -4.43287690075895e-06, 4.43287616193937], [0.00454096994565826, -4.54097145932217e-06, 4.54097070248667], [0.0046490644681898, -4.6490660178854e-06, 4.64906524303397], [0.00475715899072135, -4.75716057644863e-06, 4.75715978358127], [0.00486525351325289, -4.86525513501185e-06, 4.86525432412857], [0.00497334803578444, -4.97334969357508e-06, 4.97334886467588], [0.00508144255831599, -5.0814442521383e-06, 5.08144340522318], [0.00518953708084753, -5.18953881070153e-06, 5.18953794577048], [0.00529763160337908, -5.29763336926476e-06, 5.29763248631778], [0.00540572612591062, -5.40572792782798e-06, 5.40572702686508], [0.00551382064844217, -5.51382248639121e-06, 5.51382156741238], [0.00562191517097371, -5.62191704495444e-06, 5.62191610795969], [0.00573000969350526, -5.73001160351766e-06, 5.73001064850699], [0.00583810421603681, -5.83810616208089e-06, 5.83810518905429], [0.00594619873856835, -5.94620072064411e-06, 5.94619972960159], [0.0060542932610999, -6.05429527920734e-06, 6.05429427014889], [0.00616238778363144, -6.16238983777057e-06, 6.16238881069619], [0.00627048230616299, -6.27048439633379e-06, 6.2704833512435], [0.00637857682869453, -6.37857895489702e-06, 6.3785778917908], [0.00648667135122608, -6.48667351346025e-06, 6.4866724323381], [0.00659476587375763, -6.59476807202347e-06, 6.5947669728854], [0.00670286039628917, -6.7028626305867e-06, 6.7028615134327], [0.00681095491882072, -6.81095718914992e-06, 6.81095605398], [0.00691904944135226, -6.91905174771315e-06, 6.9190505945273], [0.00702714396388381, -7.02714630627638e-06, 7.02714513507461], [0.00713523848641535, -7.1352408648396e-06, 7.13523967562191], [0.0072433330089469, -7.24333542340283e-06, 7.24333421616921], [0.00735142753147845, -7.35142998196606e-06, 7.35142875671651], [0.00745952205400999, -7.45952454052928e-06, 7.45952329726381], [0.00756761657654154, -7.56761909909251e-06, 7.56761783781111], [0.00767571109907308, -7.67571365765573e-06, 7.67571237835842], [0.00778380562160463, -7.78380821621896e-06, 7.78380691890572], [0.00789190014413617, -7.89190277478219e-06, 7.89190145945302], [0.00799999466666772, -7.99999733334541e-06, 7.99999600000032]], &quot;color&quot;:&quot;red&quot;, &quot;opacity&quot;:1, &quot;linewidth&quot;:1},{&quot;points&quot;:[[0.00070745989244397, 7.07460128264029e-07, 0.00070675313942234], [0.0771800501581104, 7.71800758848041e-05, 0.0771029472237371], [0.153652640423777, 0.000153652691641344, 0.153499141308052], [0.230125230689443, 0.000230125307397884, 0.229895335392367], [0.30659782095511, 0.000306597923154424, 0.306291529476682], [0.383070411220776, 0.000383070538910964, 0.382687723560996], [0.459543001486443, 0.000459543154667504, 0.459083917645311], [0.536015591752109, 0.000536015770424044, 0.535480111729626], [0.612488182017775, 0.000612488386180584, 0.611876305813941], [0.688960772283442, 0.000688961001937124, 0.688272499898256], [0.765433362549108, 0.000765433617693664, 0.76466869398257], [0.841905952814775, 0.000841906233450204, 0.841064888066885], [0.918378543080441, 0.000918378849206745, 0.9174610821512], [0.994851133346108, 0.000994851464963285, 0.993857276235515], [1.07132372361177, 0.00107132408071982, 1.07025347031983], [1.14779631387744, 0.00114779669647636, 1.14664966440414], [1.22426890414311, 0.0012242693122329, 1.22304585848846], [1.30074149440877, 0.00130074192798944, 1.29944205257277], [1.37721408467444, 0.00137721454374598, 1.37583824665709], [1.45368667494011, 0.00145368715950252, 1.4522344407414], [1.53015926520577, 0.00153015977525906, 1.52863063482572], [1.60663185547144, 0.0016066323910156, 1.60502682891003], [1.6831044457371, 0.00168310500677214, 1.68142302299435], [1.75957703600277, 0.00175957762252868, 1.75781921707866], [1.83604962626844, 0.00183605023828522, 1.83421541116298], [1.9125222165341, 0.00191252285404176, 1.91061160524729], [1.98899480679977, 0.0019889954697983, 1.98700779933161], [2.06546739706544, 0.00206546808555484, 2.06340399341592], [2.1419399873311, 0.00214194070131138, 2.13980018750024], [2.21841257759677, 0.00221841331706792, 2.21619638158455], [2.29488516786243, 0.00229488593282446, 2.29259257566886], [2.3713577581281, 0.002371358548581, 2.36898876975318], [2.44783034839377, 0.00244783116433754, 2.44538496383749], [2.52430293865943, 0.00252430378009408, 2.52178115792181], [2.6007755289251, 0.00260077639585062, 2.59817735200612], [2.67724811919077, 0.00267724901160716, 2.67457354609044], [2.75372070945643, 0.0027537216273637, 2.75096974017475], [2.8301932997221, 0.00283019424312024, 2.82736593425907], [2.90666588998777, 0.00290666685887678, 2.90376212834338], [2.98313848025343, 0.00298313947463332, 2.9801583224277], [3.0596110705191, 0.00305961209038986, 3.05655451651201], [3.13608366078476, 0.0031360847061464, 3.13295071059633], [3.21255625105043, 0.00321255732190294, 3.20934690468064], [3.2890288413161, 0.00328902993765948, 3.28574309876496], [3.36550143158176, 0.00336550255341602, 3.36213929284927], [3.44197402184743, 0.00344197516917256, 3.43853548693358], [3.5184466121131, 0.0035184477849291, 3.5149316810179], [3.59491920237876, 0.00359492040068564, 3.59132787510221], [3.67139179264443, 0.00367139301644218, 3.66772406918653], [3.74786438291009, 0.00374786563219872, 3.74412026327084], [3.82433697317576, 0.00382433824795526, 3.82051645735516], [3.90080956344143, 0.0039008108637118, 3.89691265143947], [3.97728215370709, 0.00397728347946834, 3.97330884552379], [4.05375474397276, 0.00405375609522488, 4.0497050396081], [4.13022733423843, 0.00413022871098142, 4.12610123369242], [4.20669992450409, 0.00420670132673796, 4.20249742777673], [4.28317251476976, 0.0042831739424945, 4.27889362186105], [4.35964510503542, 0.00435964655825104, 4.35528981594536], [4.43611769530109, 0.00443611917400758, 4.43168601002967], [4.51259028556676, 0.00451259178976412, 4.50808220411399], [4.58906287583242, 0.00458906440552066, 4.5844783981983], [4.66553546609809, 0.0046655370212772, 4.66087459228262], [4.74200805636376, 0.00474200963703374, 4.73727078636693], [4.81848064662942, 0.00481848225279028, 4.81366698045125], [4.89495323689509, 0.00489495486854682, 4.89006317453556], [4.97142582716075, 0.00497142748430336, 4.96645936861988], [5.04789841742642, 0.0050479001000599, 5.04285556270419], [5.12437100769209, 0.00512437271581644, 5.11925175678851], [5.20084359795775, 0.00520084533157298, 5.19564795087282], [5.27731618822342, 0.00527731794732952, 5.27204414495714], [5.35378877848909, 0.00535379056308606, 5.34844033904145], [5.43026136875475, 0.0054302631788426, 5.42483653312577], [5.50673395902042, 0.00550673579459914, 5.50123272721008], [5.58320654928608, 0.00558320841035568, 5.5776289212944], [5.65967913955175, 0.00565968102611222, 5.65402511537871]], &quot;color&quot;:&quot;red&quot;, &quot;opacity&quot;:1, &quot;linewidth&quot;:1},{&quot;points&quot;:[[-3.53730108348038e-07, 0.000707460157741535, 0.00070675313942234], [-3.85900427661312e-05, 0.0771800791006407, 0.0771029472237371], [-7.68263554239143e-05, 0.15365269804354, 0.153499141308052], [-0.000115062668081697, 0.230125316986439, 0.229895335392367], [-0.000153298980739481, 0.306597935929338, 0.306291529476682], [-0.000191535293397264, 0.383070554872237, 0.382687723560996], [-0.000229771606055047, 0.459543173815136, 0.459083917645311], [-0.00026800791871283, 0.536015792758035, 0.535480111729626], [-0.000306244231370613, 0.612488411700935, 0.611876305813941], [-0.000344480544028396, 0.688961030643834, 0.688272499898256], [-0.000382716856686179, 0.765433649586733, 0.76466869398257], [-0.000420953169343962, 0.841906268529632, 0.841064888066885], [-0.000459189482001746, 0.918378887472531, 0.9174610821512], [-0.000497425794659529, 0.99485150641543, 0.993857276235515], [-0.000535662107317312, 1.07132412535833, 1.07025347031983], [-0.000573898419975095, 1.14779674430123, 1.14664966440414], [-0.000612134732632878, 1.22426936324413, 1.22304585848846], [-0.000650371045290661, 1.30074198218703, 1.29944205257277], [-0.000688607357948444, 1.37721460112993, 1.37583824665709], [-0.000726843670606227, 1.45368722007283, 1.4522344407414], [-0.000765079983264011, 1.53015983901572, 1.52863063482572], [-0.000803316295921794, 1.60663245795862, 1.60502682891003], [-0.000841552608579577, 1.68310507690152, 1.68142302299435], [-0.00087978892123736, 1.75957769584442, 1.75781921707866], [-0.000918025233895143, 1.83605031478732, 1.83421541116298], [-0.000956261546552926, 1.91252293373022, 1.91061160524729], [-0.000994497859210709, 1.98899555267312, 1.98700779933161], [-0.00103273417186849, 2.06546817161602, 2.06340399341592], [-0.00107097048452628, 2.14194079055892, 2.13980018750024], [-0.00110920679718406, 2.21841340950181, 2.21619638158455], [-0.00114744310984184, 2.29488602844471, 2.29259257566886], [-0.00118567942249962, 2.37135864738761, 2.36898876975318], [-0.00122391573515741, 2.44783126633051, 2.44538496383749], [-0.00126215204781519, 2.52430388527341, 2.52178115792181], [-0.00130038836047297, 2.60077650421631, 2.59817735200612], [-0.00133862467313076, 2.67724912315921, 2.67457354609044], [-0.00137686098578854, 2.75372174210211, 2.75096974017475], [-0.00141509729844632, 2.83019436104501, 2.82736593425907], [-0.00145333361110411, 2.90666697998791, 2.90376212834338], [-0.00149156992376189, 2.9831395989308, 2.9801583224277], [-0.00152980623641967, 3.0596122178737, 3.05655451651201], [-0.00156804254907745, 3.1360848368166, 3.13295071059633], [-0.00160627886173524, 3.2125574557595, 3.20934690468064], [-0.00164451517439302, 3.2890300747024, 3.28574309876496], [-0.0016827514870508, 3.3655026936453, 3.36213929284927], [-0.00172098779970859, 3.4419753125882, 3.43853548693358], [-0.00175922411236637, 3.5184479315311, 3.5149316810179], [-0.00179746042502415, 3.594920550474, 3.59132787510221], [-0.00183569673768194, 3.6713931694169, 3.66772406918653], [-0.00187393305033972, 3.74786578835979, 3.74412026327084], [-0.0019121693629975, 3.82433840730269, 3.82051645735516], [-0.00195040567565529, 3.90081102624559, 3.89691265143947], [-0.00198864198831307, 3.97728364518849, 3.97330884552379], [-0.00202687830097085, 4.05375626413139, 4.0497050396081], [-0.00206511461362863, 4.13022888307429, 4.12610123369242], [-0.00210335092628642, 4.20670150201719, 4.20249742777673], [-0.0021415872389442, 4.28317412096009, 4.27889362186105], [-0.00217982355160198, 4.35964673990299, 4.35528981594536], [-0.00221805986425977, 4.43611935884589, 4.43168601002967], [-0.00225629617691755, 4.51259197778878, 4.50808220411399], [-0.00229453248957533, 4.58906459673168, 4.5844783981983], [-0.00233276880223312, 4.66553721567458, 4.66087459228262], [-0.0023710051148909, 4.74200983461748, 4.73727078636693], [-0.00240924142754868, 4.81848245356038, 4.81366698045125], [-0.00244747774020647, 4.89495507250328, 4.89006317453556], [-0.00248571405286425, 4.97142769144618, 4.96645936861988], [-0.00252395036552203, 5.04790031038908, 5.04285556270419], [-0.00256218667817981, 5.12437292933198, 5.11925175678851], [-0.0026004229908376, 5.20084554827488, 5.19564795087282], [-0.00263865930349538, 5.27731816721777, 5.27204414495714], [-0.00267689561615316, 5.35379078616067, 5.34844033904145], [-0.00271513192881095, 5.43026340510357, 5.42483653312577], [-0.00275336824146873, 5.50673602404647, 5.50123272721008], [-0.00279160455412651, 5.58320864298937, 5.5776289212944], [-0.0028298408667843, 5.65968126193227, 5.65402511537871]], &quot;color&quot;:&quot;red&quot;, &quot;opacity&quot;:1, &quot;linewidth&quot;:1},{&quot;points&quot;:[[-0.000707460246174064, 4.00814354323877e-19, 0.00070675313942234], [-0.0771800887481516, 4.37266794926576e-17, 0.0771029472237371], [-0.153652717250129, 8.70525446309913e-17, 0.153499141308052], [-0.230125345752107, 1.30378409769325e-16, 0.229895335392367], [-0.306597974254084, 1.73704274907659e-16, 0.306291529476682], [-0.383070602756062, 2.17030140045992e-16, 0.382687723560996], [-0.459543231258039, 2.60356005184326e-16, 0.459083917645311], [-0.536015859760017, 3.0368187032266e-16, 0.535480111729626], [-0.612488488261994, 3.47007735460994e-16, 0.611876305813941], [-0.688961116763972, 3.90333600599327e-16, 0.688272499898256], [-0.765433745265949, 4.33659465737661e-16, 0.76466869398257], [-0.841906373767926, 4.76985330875995e-16, 0.841064888066885], [-0.918379002269904, 5.20311196014328e-16, 0.9174610821512], [-0.994851630771881, 5.63637061152662e-16, 0.993857276235515], [-1.07132425927386, 6.06962926290996e-16, 1.07025347031983], [-1.14779688777584, 6.50288791429329e-16, 1.14664966440414], [-1.22426951627781, 6.93614656567663e-16, 1.22304585848846], [-1.30074214477979, 7.36940521705997e-16, 1.29944205257277], [-1.37721477328177, 7.8026638684433e-16, 1.37583824665709], [-1.45368740178375, 8.23592251982664e-16, 1.4522344407414], [-1.53016003028572, 8.66918117120998e-16, 1.52863063482572], [-1.6066326587877, 9.10243982259331e-16, 1.60502682891003], [-1.68310528728968, 9.53569847397665e-16, 1.68142302299435], [-1.75957791579166, 9.96895712535999e-16, 1.75781921707866], [-1.83605054429363, 1.04022157767433e-15, 1.83421541116298], [-1.91252317279561, 1.08354744281267e-15, 1.91061160524729], [-1.98899580129759, 1.126873307951e-15, 1.98700779933161], [-2.06546842979956, 1.17019917308933e-15, 2.06340399341592], [-2.14194105830154, 1.21352503822767e-15, 2.13980018750024], [-2.21841368680352, 1.256850903366e-15, 2.21619638158455], [-2.2948863153055, 1.30017676850433e-15, 2.29259257566886], [-2.37135894380747, 1.34350263364267e-15, 2.36898876975318], [-2.44783157230945, 1.386828498781e-15, 2.44538496383749], [-2.52430420081143, 1.43015436391933e-15, 2.52178115792181], [-2.60077682931341, 1.47348022905767e-15, 2.59817735200612], [-2.67724945781538, 1.516806094196e-15, 2.67457354609044], [-2.75372208631736, 1.56013195933434e-15, 2.75096974017475], [-2.83019471481934, 1.60345782447267e-15, 2.82736593425907], [-2.90666734332132, 1.646783689611e-15, 2.90376212834338], [-2.98313997182329, 1.69010955474934e-15, 2.9801583224277], [-3.05961260032527, 1.73343541988767e-15, 3.05655451651201], [-3.13608522882725, 1.776761285026e-15, 3.13295071059633], [-3.21255785732923, 1.82008715016434e-15, 3.20934690468064], [-3.2890304858312, 1.86341301530267e-15, 3.28574309876496], [-3.36550311433318, 1.906738880441e-15, 3.36213929284927], [-3.44197574283516, 1.95006474557934e-15, 3.43853548693358], [-3.51844837133713, 1.99339061071767e-15, 3.5149316810179], [-3.59492099983911, 2.03671647585601e-15, 3.59132787510221], [-3.67139362834109, 2.08004234099434e-15, 3.66772406918653], [-3.74786625684307, 2.12336820613267e-15, 3.74412026327084], [-3.82433888534504, 2.16669407127101e-15, 3.82051645735516], [-3.90081151384702, 2.21001993640934e-15, 3.89691265143947], [-3.977284142349, 2.25334580154767e-15, 3.97330884552379], [-4.05375677085098, 2.29667166668601e-15, 4.0497050396081], [-4.13022939935295, 2.33999753182434e-15, 4.12610123369242], [-4.20670202785493, 2.38332339696267e-15, 4.20249742777673], [-4.28317465635691, 2.42664926210101e-15, 4.27889362186105], [-4.35964728485888, 2.46997512723934e-15, 4.35528981594536], [-4.43611991336086, 2.51330099237768e-15, 4.43168601002967], [-4.51259254186284, 2.55662685751601e-15, 4.50808220411399], [-4.58906517036482, 2.59995272265434e-15, 4.5844783981983], [-4.66553779886679, 2.64327858779268e-15, 4.66087459228262], [-4.74201042736877, 2.68660445293101e-15, 4.73727078636693], [-4.81848305587075, 2.72993031806934e-15, 4.81366698045125], [-4.89495568437273, 2.77325618320768e-15, 4.89006317453556], [-4.9714283128747, 2.81658204834601e-15, 4.96645936861988], [-5.04790094137668, 2.85990791348434e-15, 5.04285556270419], [-5.12437356987866, 2.90323377862268e-15, 5.11925175678851], [-5.20084619838064, 2.94655964376101e-15, 5.19564795087282], [-5.27731882688261, 2.98988550889934e-15, 5.27204414495714], [-5.35379145538459, 3.03321137403768e-15, 5.34844033904145], [-5.43026408388657, 3.07653723917601e-15, 5.42483653312577], [-5.50673671238855, 3.11986310431435e-15, 5.50123272721008], [-5.58320934089052, 3.16318896945268e-15, 5.5776289212944], [-5.6596819693925, 3.20651483459101e-15, 5.65402511537871]], &quot;color&quot;:&quot;red&quot;, &quot;opacity&quot;:1, &quot;linewidth&quot;:1},{&quot;points&quot;:[[-3.53730108348839e-07, -0.000707460157741535, 0.00070675313942234], [-3.85900427662186e-05, -0.0771800791006407, 0.0771029472237371], [-7.68263554240884e-05, -0.15365269804354, 0.153499141308052], [-0.000115062668081958, -0.230125316986439, 0.229895335392367], [-0.000153298980739828, -0.306597935929338, 0.306291529476682], [-0.000191535293397698, -0.383070554872237, 0.382687723560996], [-0.000229771606055568, -0.459543173815136, 0.459083917645311], [-0.000268007918713437, -0.536015792758035, 0.535480111729626], [-0.000306244231371307, -0.612488411700935, 0.611876305813941], [-0.000344480544029177, -0.688961030643834, 0.688272499898256], [-0.000382716856687047, -0.765433649586733, 0.76466869398257], [-0.000420953169344917, -0.841906268529632, 0.841064888066885], [-0.000459189482002786, -0.918378887472531, 0.9174610821512], [-0.000497425794660656, -0.99485150641543, 0.993857276235515], [-0.000535662107318526, -1.07132412535833, 1.07025347031983], [-0.000573898419976396, -1.14779674430123, 1.14664966440414], [-0.000612134732634265, -1.22426936324413, 1.22304585848846], [-0.000650371045292135, -1.30074198218703, 1.29944205257277], [-0.000688607357950005, -1.37721460112993, 1.37583824665709], [-0.000726843670607875, -1.45368722007283, 1.4522344407414], [-0.000765079983265744, -1.53015983901572, 1.52863063482572], [-0.000803316295923614, -1.60663245795862, 1.60502682891003], [-0.000841552608581484, -1.68310507690152, 1.68142302299435], [-0.000879788921239354, -1.75957769584442, 1.75781921707866], [-0.000918025233897223, -1.83605031478732, 1.83421541116298], [-0.000956261546555093, -1.91252293373022, 1.91061160524729], [-0.000994497859212963, -1.98899555267312, 1.98700779933161], [-0.00103273417187083, -2.06546817161602, 2.06340399341592], [-0.0010709704845287, -2.14194079055892, 2.13980018750024], [-0.00110920679718657, -2.21841340950181, 2.21619638158455], [-0.00114744310984444, -2.29488602844471, 2.29259257566886], [-0.00118567942250231, -2.37135864738761, 2.36898876975318], [-0.00122391573516018, -2.44783126633051, 2.44538496383749], [-0.00126215204781805, -2.52430388527341, 2.52178115792181], [-0.00130038836047592, -2.60077650421631, 2.59817735200612], [-0.00133862467313379, -2.67724912315921, 2.67457354609044], [-0.00137686098579166, -2.75372174210211, 2.75096974017475], [-0.00141509729844953, -2.83019436104501, 2.82736593425907], [-0.0014533336111074, -2.90666697998791, 2.90376212834338], [-0.00149156992376527, -2.9831395989308, 2.9801583224277], [-0.00152980623642314, -3.0596122178737, 3.05655451651201], [-0.00156804254908101, -3.1360848368166, 3.13295071059633], [-0.00160627886173888, -3.2125574557595, 3.20934690468064], [-0.00164451517439675, -3.2890300747024, 3.28574309876496], [-0.00168275148705462, -3.3655026936453, 3.36213929284927], [-0.00172098779971249, -3.4419753125882, 3.43853548693358], [-0.00175922411237036, -3.5184479315311, 3.5149316810179], [-0.00179746042502823, -3.594920550474, 3.59132787510221], [-0.0018356967376861, -3.6713931694169, 3.66772406918653], [-0.00187393305034397, -3.74786578835979, 3.74412026327084], [-0.00191216936300184, -3.82433840730269, 3.82051645735516], [-0.00195040567565971, -3.90081102624559, 3.89691265143947], [-0.00198864198831758, -3.97728364518849, 3.97330884552379], [-0.00202687830097544, -4.05375626413139, 4.0497050396081], [-0.00206511461363331, -4.13022888307429, 4.12610123369242], [-0.00210335092629118, -4.20670150201719, 4.20249742777673], [-0.00214158723894905, -4.28317412096009, 4.27889362186105], [-0.00217982355160692, -4.35964673990299, 4.35528981594536], [-0.00221805986426479, -4.43611935884589, 4.43168601002967], [-0.00225629617692266, -4.51259197778878, 4.50808220411399], [-0.00229453248958053, -4.58906459673168, 4.5844783981983], [-0.0023327688022384, -4.66553721567458, 4.66087459228262], [-0.00237100511489627, -4.74200983461748, 4.73727078636693], [-0.00240924142755414, -4.81848245356038, 4.81366698045125], [-0.00244747774021201, -4.89495507250328, 4.89006317453556], [-0.00248571405286988, -4.97142769144618, 4.96645936861988], [-0.00252395036552775, -5.04790031038908, 5.04285556270419], [-0.00256218667818562, -5.12437292933198, 5.11925175678851], [-0.00260042299084349, -5.20084554827488, 5.19564795087282], [-0.00263865930350136, -5.27731816721777, 5.27204414495714], [-0.00267689561615923, -5.35379078616067, 5.34844033904145], [-0.0027151319288171, -5.43026340510357, 5.42483653312577], [-0.00275336824147497, -5.50673602404647, 5.50123272721008], [-0.00279160455413284, -5.58320864298937, 5.5776289212944], [-0.00282984086679071, -5.65968126193227, 5.65402511537871]], &quot;color&quot;:&quot;red&quot;, &quot;opacity&quot;:1, &quot;linewidth&quot;:1},{&quot;points&quot;:[[0.00070745989244397, -7.07460128265067e-07, 0.00070675313942234], [0.0771800501581104, -7.71800758849173e-05, 0.0771029472237371], [0.153652640423777, -0.00015365269164157, 0.153499141308052], [0.230125230689443, -0.000230125307398222, 0.229895335392367], [0.30659782095511, -0.000306597923154874, 0.306291529476682], [0.383070411220776, -0.000383070538911526, 0.382687723560996], [0.459543001486443, -0.000459543154668179, 0.459083917645311], [0.536015591752109, -0.000536015770424831, 0.535480111729626], [0.612488182017775, -0.000612488386181483, 0.611876305813941], [0.688960772283442, -0.000688961001938135, 0.688272499898256], [0.765433362549108, -0.000765433617694787, 0.76466869398257], [0.841905952814775, -0.00084190623345144, 0.841064888066885], [0.918378543080441, -0.000918378849208092, 0.9174610821512], [0.994851133346108, -0.000994851464964744, 0.993857276235515], [1.07132372361177, -0.0010713240807214, 1.07025347031983], [1.14779631387744, -0.00114779669647805, 1.14664966440414], [1.22426890414311, -0.0012242693122347, 1.22304585848846], [1.30074149440877, -0.00130074192799135, 1.29944205257277], [1.37721408467444, -0.00137721454374801, 1.37583824665709], [1.45368667494011, -0.00145368715950466, 1.4522344407414], [1.53015926520577, -0.00153015977526131, 1.52863063482572], [1.60663185547144, -0.00160663239101796, 1.60502682891003], [1.6831044457371, -0.00168310500677461, 1.68142302299435], [1.75957703600277, -0.00175957762253127, 1.75781921707866], [1.83604962626844, -0.00183605023828792, 1.83421541116298], [1.9125222165341, -0.00191252285404457, 1.91061160524729], [1.98899480679977, -0.00198899546980122, 1.98700779933161], [2.06546739706544, -0.00206546808555787, 2.06340399341592], [2.1419399873311, -0.00214194070131453, 2.13980018750024], [2.21841257759677, -0.00221841331707118, 2.21619638158455], [2.29488516786243, -0.00229488593282783, 2.29259257566886], [2.3713577581281, -0.00237135854858448, 2.36898876975318], [2.44783034839377, -0.00244783116434113, 2.44538496383749], [2.52430293865943, -0.00252430378009779, 2.52178115792181], [2.6007755289251, -0.00260077639585444, 2.59817735200612], [2.67724811919077, -0.00267724901161109, 2.67457354609044], [2.75372070945643, -0.00275372162736774, 2.75096974017475], [2.8301932997221, -0.0028301942431244, 2.82736593425907], [2.90666588998777, -0.00290666685888105, 2.90376212834338], [2.98313848025343, -0.0029831394746377, 2.9801583224277], [3.0596110705191, -0.00305961209039435, 3.05655451651201], [3.13608366078476, -0.003136084706151, 3.13295071059633], [3.21255625105043, -0.00321255732190766, 3.20934690468064], [3.2890288413161, -0.00328902993766431, 3.28574309876496], [3.36550143158176, -0.00336550255342096, 3.36213929284927], [3.44197402184743, -0.00344197516917761, 3.43853548693358], [3.5184466121131, -0.00351844778493426, 3.5149316810179], [3.59491920237876, -0.00359492040069092, 3.59132787510221], [3.67139179264443, -0.00367139301644757, 3.66772406918653], [3.74786438291009, -0.00374786563220422, 3.74412026327084], [3.82433697317576, -0.00382433824796087, 3.82051645735516], [3.90080956344143, -0.00390081086371752, 3.89691265143947], [3.97728215370709, -0.00397728347947418, 3.97330884552379], [4.05375474397276, -0.00405375609523083, 4.0497050396081], [4.13022733423843, -0.00413022871098748, 4.12610123369242], [4.20669992450409, -0.00420670132674413, 4.20249742777673], [4.28317251476976, -0.00428317394250079, 4.27889362186105], [4.35964510503542, -0.00435964655825744, 4.35528981594536], [4.43611769530109, -0.00443611917401409, 4.43168601002967], [4.51259028556676, -0.00451259178977074, 4.50808220411399], [4.58906287583242, -0.00458906440552739, 4.5844783981983], [4.66553546609809, -0.00466553702128405, 4.66087459228262], [4.74200805636376, -0.0047420096370407, 4.73727078636693], [4.81848064662942, -0.00481848225279735, 4.81366698045125], [4.89495323689509, -0.004894954868554, 4.89006317453556], [4.97142582716075, -0.00497142748431065, 4.96645936861988], [5.04789841742642, -0.00504790010006731, 5.04285556270419], [5.12437100769209, -0.00512437271582396, 5.11925175678851], [5.20084359795775, -0.00520084533158061, 5.19564795087282], [5.27731618822342, -0.00527731794733726, 5.27204414495714], [5.35378877848909, -0.00535379056309391, 5.34844033904145], [5.43026136875475, -0.00543026317885057, 5.42483653312577], [5.50673395902042, -0.00550673579460722, 5.50123272721008], [5.58320654928608, -0.00558320841036387, 5.5776289212944], [5.65967913955175, -0.00565968102612052, 5.65402511537871]], &quot;color&quot;:&quot;red&quot;, &quot;opacity&quot;:1, &quot;linewidth&quot;:1},{&quot;points&quot;:[[0.000999999500000042, 9.99999833333342e-07, 6.12323399573677e-20], [0.109094540047302, 0.000109094576412163, 6.68011730372742e-18], [0.217189080594604, 0.000217189152990993, 1.32990022674975e-17], [0.325283621141905, 0.000325283729569823, 1.99178872312675e-17], [0.433378161689207, 0.000433378306148652, 2.65367721950376e-17], [0.541472702236509, 0.000541472882727482, 3.31556571588076e-17], [0.649567242783811, 0.000649567459306312, 3.97745421225777e-17], [0.757661783331113, 0.000757662035885141, 4.63934270863477e-17], [0.865756323878414, 0.000865756612463971, 5.30123120501178e-17], [0.973850864425716, 0.000973851189042801, 5.96311970138878e-17], [1.08194540497302, 0.00108194576562163, 6.62500819776579e-17], [1.19003994552032, 0.00119004034220046, 7.28689669414279e-17], [1.29813448606762, 0.00129813491877929, 7.9487851905198e-17], [1.40622902661492, 0.00140622949535812, 8.6106736868968e-17], [1.51432356716223, 0.00151432407193695, 9.27256218327381e-17], [1.62241810770953, 0.00162241864851578, 9.93445067965081e-17], [1.73051264825683, 0.00173051322509461, 1.05963391760278e-16], [1.83860718880413, 0.00183860780167344, 1.12582276724048e-16], [1.94670172935143, 0.00194670237825227, 1.19201161687818e-16], [2.05479626989873, 0.0020547969548311, 1.25820046651588e-16], [2.16289081044604, 0.00216289153140993, 1.32438931615358e-16], [2.27098535099334, 0.00227098610798876, 1.39057816579128e-16], [2.37907989154064, 0.00237908068456759, 1.45676701542898e-16], [2.48717443208794, 0.00248717526114642, 1.52295586506669e-16], [2.59526897263524, 0.00259526983772525, 1.58914471470439e-16], [2.70336351318254, 0.00270336441430407, 1.65533356434209e-16], [2.81145805372984, 0.0028114589908829, 1.72152241397979e-16], [2.91955259427715, 0.00291955356746173, 1.78771126361749e-16], [3.02764713482445, 0.00302764814404056, 1.85390011325519e-16], [3.13574167537175, 0.00313574272061939, 1.92008896289289e-16], [3.24383621591905, 0.00324383729719822, 1.98627781253059e-16], [3.35193075646635, 0.00335193187377705, 2.05246666216829e-16], [3.46002529701365, 0.00346002645035588, 2.11865551180599e-16], [3.56811983756096, 0.00356812102693471, 2.18484436144369e-16], [3.67621437810826, 0.00367621560351354, 2.25103321108139e-16], [3.78430891865556, 0.00378431018009237, 2.31722206071909e-16], [3.89240345920286, 0.0038924047566712, 2.38341091035679e-16], [4.00049799975016, 0.00400049933325003, 2.44959975999449e-16], [4.10859254029746, 0.00410859390982886, 2.51578860963219e-16], [4.21668708084476, 0.00421668848640769, 2.58197745926989e-16], [4.32478162139207, 0.00432478306298652, 2.64816630890759e-16], [4.43287616193937, 0.00443287763956535, 2.71435515854529e-16], [4.54097070248667, 0.00454097221614418, 2.78054400818299e-16], [4.64906524303397, 0.00464906679272301, 2.84673285782069e-16], [4.75715978358127, 0.00475716136930183, 2.91292170745839e-16], [4.86525432412857, 0.00486525594588066, 2.97911055709609e-16], [4.97334886467588, 0.00497335052245949, 3.04529940673379e-16], [5.08144340522318, 0.00508144509903832, 3.11148825637149e-16], [5.18953794577048, 0.00518953967561715, 3.17767710600919e-16], [5.29763248631778, 0.00529763425219598, 3.2438659556469e-16], [5.40572702686508, 0.00540572882877481, 3.3100548052846e-16], [5.51382156741238, 0.00551382340535364, 3.3762436549223e-16], [5.62191610795969, 0.00562191798193247, 3.44243250456e-16], [5.73001064850699, 0.0057300125585113, 3.5086213541977e-16], [5.83810518905429, 0.00583810713509013, 3.5748102038354e-16], [5.94619972960159, 0.00594620171166896, 3.6409990534731e-16], [6.05429427014889, 0.00605429628824779, 3.7071879031108e-16], [6.16238881069619, 0.00616239086482662, 3.7733767527485e-16], [6.2704833512435, 0.00627048544140545, 3.8395656023862e-16], [6.3785778917908, 0.00637858001798428, 3.9057544520239e-16], [6.4866724323381, 0.00648667459456311, 3.9719433016616e-16], [6.5947669728854, 0.00659476917114194, 4.0381321512993e-16], [6.7028615134327, 0.00670286374772077, 4.104321000937e-16], [6.81095605398, 0.0068109583242996, 4.1705098505747e-16], [6.9190505945273, 0.00691905290087842, 4.2366987002124e-16], [7.02714513507461, 0.00702714747745725, 4.3028875498501e-16], [7.13523967562191, 0.00713524205403608, 4.3690763994878e-16], [7.24333421616921, 0.00724333663061491, 4.4352652491255e-16], [7.35142875671651, 0.00735143120719374, 4.5014540987632e-16], [7.45952329726381, 0.00745952578377257, 4.5676429484009e-16], [7.56761783781111, 0.0075676203603514, 4.6338317980386e-16], [7.67571237835842, 0.00767571493693023, 4.7000206476763e-16], [7.78380691890572, 0.00778380951350906, 4.766209497314e-16], [7.89190145945302, 0.00789190409008789, 4.8323983469517e-16], [7.99999600000032, 0.00799999866666672, 4.8985871965894e-16]], &quot;color&quot;:&quot;red&quot;, &quot;opacity&quot;:1, &quot;linewidth&quot;:1},{&quot;points&quot;:[[-4.99999979166329e-07, 0.000999999875000003, 6.12323399573677e-20], [-5.45472950244564e-05, 0.109094580957771, 6.68011730372742e-18], [-0.000108594590069746, 0.217189162040541, 1.32990022674975e-17], [-0.000162641885115036, 0.325283743123312, 1.99178872312675e-17], [-0.000216689180160326, 0.433378324206082, 2.65367721950376e-17], [-0.000270736475205616, 0.541472905288853, 3.31556571588076e-17], [-0.000324783770250906, 0.649567486371623, 3.97745421225777e-17], [-0.000378831065296197, 0.757662067454394, 4.63934270863477e-17], [-0.000432878360341487, 0.865756648537164, 5.30123120501178e-17], [-0.000486925655386777, 0.973851229619935, 5.96311970138878e-17], [-0.000540972950432067, 1.08194581070271, 6.62500819776579e-17], [-0.000595020245477357, 1.19004039178548, 7.28689669414279e-17], [-0.000649067540522647, 1.29813497286825, 7.9487851905198e-17], [-0.000703114835567937, 1.40622955395102, 8.6106736868968e-17], [-0.000757162130613227, 1.51432413503379, 9.27256218327381e-17], [-0.000811209425658517, 1.62241871611656, 9.93445067965081e-17], [-0.000865256720703807, 1.73051329719933, 1.05963391760278e-16], [-0.000919304015749097, 1.8386078782821, 1.12582276724048e-16], [-0.000973351310794387, 1.94670245936487, 1.19201161687818e-16], [-0.00102739860583968, 2.05479704044764, 1.25820046651588e-16], [-0.00108144590088497, 2.16289162153041, 1.32438931615358e-16], [-0.00113549319593026, 2.27098620261318, 1.39057816579128e-16], [-0.00118954049097555, 2.37908078369595, 1.45676701542898e-16], [-0.00124358778602084, 2.48717536477872, 1.52295586506669e-16], [-0.00129763508106613, 2.59526994586149, 1.58914471470439e-16], [-0.00135168237611142, 2.70336452694426, 1.65533356434209e-16], [-0.00140572967115671, 2.81145910802703, 1.72152241397979e-16], [-0.001459776966202, 2.9195536891098, 1.78771126361749e-16], [-0.00151382426124729, 3.02764827019257, 1.85390011325519e-16], [-0.00156787155629258, 3.13574285127534, 1.92008896289289e-16], [-0.00162191885133787, 3.24383743235811, 1.98627781253059e-16], [-0.00167596614638316, 3.35193201344088, 2.05246666216829e-16], [-0.00173001344142845, 3.46002659452365, 2.11865551180599e-16], [-0.00178406073647374, 3.56812117560642, 2.18484436144369e-16], [-0.00183810803151903, 3.67621575668919, 2.25103321108139e-16], [-0.00189215532656432, 3.78431033777197, 2.31722206071909e-16], [-0.00194620262160961, 3.89240491885474, 2.38341091035679e-16], [-0.0020002499166549, 4.00049949993751, 2.44959975999449e-16], [-0.00205429721170019, 4.10859408102028, 2.51578860963219e-16], [-0.00210834450674548, 4.21668866210305, 2.58197745926989e-16], [-0.00216239180179076, 4.32478324318582, 2.64816630890759e-16], [-0.00221643909683605, 4.43287782426859, 2.71435515854529e-16], [-0.00227048639188135, 4.54097240535136, 2.78054400818299e-16], [-0.00232453368692663, 4.64906698643413, 2.84673285782069e-16], [-0.00237858098197192, 4.7571615675169, 2.91292170745839e-16], [-0.00243262827701721, 4.86525614859967, 2.97911055709609e-16], [-0.0024866755720625, 4.97335072968244, 3.04529940673379e-16], [-0.00254072286710779, 5.08144531076521, 3.11148825637149e-16], [-0.00259477016215308, 5.18953989184798, 3.17767710600919e-16], [-0.00264881745719837, 5.29763447293075, 3.2438659556469e-16], [-0.00270286475224366, 5.40572905401352, 3.3100548052846e-16], [-0.00275691204728895, 5.51382363509629, 3.3762436549223e-16], [-0.00281095934233424, 5.62191821617906, 3.44243250456e-16], [-0.00286500663737953, 5.73001279726183, 3.5086213541977e-16], [-0.00291905393242482, 5.8381073783446, 3.5748102038354e-16], [-0.00297310122747011, 5.94620195942737, 3.6409990534731e-16], [-0.0030271485225154, 6.05429654051014, 3.7071879031108e-16], [-0.00308119581756069, 6.16239112159291, 3.7733767527485e-16], [-0.00313524311260598, 6.27048570267568, 3.8395656023862e-16], [-0.00318929040765127, 6.37858028375845, 3.9057544520239e-16], [-0.00324333770269656, 6.48667486484122, 3.9719433016616e-16], [-0.00329738499774185, 6.59476944592399, 4.0381321512993e-16], [-0.00335143229278714, 6.70286402700676, 4.104321000937e-16], [-0.00340547958783243, 6.81095860808953, 4.1705098505747e-16], [-0.00345952688287772, 6.9190531891723, 4.2366987002124e-16], [-0.00351357417792301, 7.02714777025508, 4.3028875498501e-16], [-0.0035676214729683, 7.13524235133784, 4.3690763994878e-16], [-0.00362166876801359, 7.24333693242062, 4.4352652491255e-16], [-0.00367571606305888, 7.35143151350339, 4.5014540987632e-16], [-0.00372976335810417, 7.45952609458616, 4.5676429484009e-16], [-0.00378381065314946, 7.56762067566893, 4.6338317980386e-16], [-0.00383785794819475, 7.6757152567517, 4.7000206476763e-16], [-0.00389190524324004, 7.78380983783447, 4.766209497314e-16], [-0.00394595253828533, 7.89190441891724, 4.8323983469517e-16], [-0.00399999983333062, 7.99999900000001, 4.8985871965894e-16]], &quot;color&quot;:&quot;red&quot;, &quot;opacity&quot;:1, &quot;linewidth&quot;:1},{&quot;points&quot;:[[-0.001, 5.66553889764798e-19, 6.12323399573677e-20], [-0.109094594594595, 6.18079669198813e-17, 6.68011730372742e-18], [-0.217189189189189, 1.23049379949998e-16, 1.32990022674975e-17], [-0.325283783783784, 1.84290792980114e-16, 1.99178872312675e-17], [-0.433378378378378, 2.45532206010231e-16, 2.65367721950376e-17], [-0.541472972972973, 3.06773619040347e-16, 3.31556571588076e-17], [-0.649567567567568, 3.68015032070464e-16, 3.97745421225777e-17], [-0.757662162162162, 4.2925644510058e-16, 4.63934270863477e-17], [-0.865756756756757, 4.90497858130697e-16, 5.30123120501178e-17], [-0.973851351351351, 5.51739271160813e-16, 5.96311970138878e-17], [-1.08194594594595, 6.12980684190929e-16, 6.62500819776579e-17], [-1.19004054054054, 6.74222097221046e-16, 7.28689669414279e-17], [-1.29813513513513, 7.35463510251162e-16, 7.9487851905198e-17], [-1.40622972972973, 7.96704923281279e-16, 8.6106736868968e-17], [-1.51432432432432, 8.57946336311395e-16, 9.27256218327381e-17], [-1.62241891891892, 9.19187749341512e-16, 9.93445067965081e-17], [-1.73051351351351, 9.80429162371628e-16, 1.05963391760278e-16], [-1.83860810810811, 1.04167057540174e-15, 1.12582276724048e-16], [-1.9467027027027, 1.10291198843186e-15, 1.19201161687818e-16], [-2.0547972972973, 1.16415340146198e-15, 1.25820046651588e-16], [-2.16289189189189, 1.22539481449209e-15, 1.32438931615358e-16], [-2.27098648648649, 1.28663622752221e-15, 1.39057816579128e-16], [-2.37908108108108, 1.34787764055233e-15, 1.45676701542898e-16], [-2.48717567567567, 1.40911905358244e-15, 1.52295586506669e-16], [-2.59527027027027, 1.47036046661256e-15, 1.58914471470439e-16], [-2.70336486486486, 1.53160187964268e-15, 1.65533356434209e-16], [-2.81145945945946, 1.59284329267279e-15, 1.72152241397979e-16], [-2.91955405405405, 1.65408470570291e-15, 1.78771126361749e-16], [-3.02764864864865, 1.71532611873302e-15, 1.85390011325519e-16], [-3.13574324324324, 1.77656753176314e-15, 1.92008896289289e-16], [-3.24383783783783, 1.83780894479326e-15, 1.98627781253059e-16], [-3.35193243243243, 1.89905035782337e-15, 2.05246666216829e-16], [-3.46002702702702, 1.96029177085349e-15, 2.11865551180599e-16], [-3.56812162162162, 2.02153318388361e-15, 2.18484436144369e-16], [-3.67621621621621, 2.08277459691372e-15, 2.25103321108139e-16], [-3.78431081081081, 2.14401600994384e-15, 2.31722206071909e-16], [-3.8924054054054, 2.20525742297396e-15, 2.38341091035679e-16], [-4.0005, 2.26649883600407e-15, 2.44959975999449e-16], [-4.10859459459459, 2.32774024903419e-15, 2.51578860963219e-16], [-4.21668918918918, 2.3889816620643e-15, 2.58197745926989e-16], [-4.32478378378378, 2.45022307509442e-15, 2.64816630890759e-16], [-4.43287837837837, 2.51146448812454e-15, 2.71435515854529e-16], [-4.54097297297297, 2.57270590115465e-15, 2.78054400818299e-16], [-4.64906756756756, 2.63394731418477e-15, 2.84673285782069e-16], [-4.75716216216216, 2.69518872721489e-15, 2.91292170745839e-16], [-4.86525675675675, 2.756430140245e-15, 2.97911055709609e-16], [-4.97335135135134, 2.81767155327512e-15, 3.04529940673379e-16], [-5.08144594594594, 2.87891296630523e-15, 3.11148825637149e-16], [-5.18954054054053, 2.94015437933535e-15, 3.17767710600919e-16], [-5.29763513513513, 3.00139579236547e-15, 3.2438659556469e-16], [-5.40572972972972, 3.06263720539558e-15, 3.3100548052846e-16], [-5.51382432432432, 3.1238786184257e-15, 3.3762436549223e-16], [-5.62191891891891, 3.18512003145582e-15, 3.44243250456e-16], [-5.73001351351351, 3.24636144448593e-15, 3.5086213541977e-16], [-5.8381081081081, 3.30760285751605e-15, 3.5748102038354e-16], [-5.94620270270269, 3.36884427054617e-15, 3.6409990534731e-16], [-6.05429729729729, 3.43008568357628e-15, 3.7071879031108e-16], [-6.16239189189188, 3.4913270966064e-15, 3.7733767527485e-16], [-6.27048648648648, 3.55256850963651e-15, 3.8395656023862e-16], [-6.37858108108107, 3.61380992266663e-15, 3.9057544520239e-16], [-6.48667567567567, 3.67505133569675e-15, 3.9719433016616e-16], [-6.59477027027026, 3.73629274872686e-15, 4.0381321512993e-16], [-6.70286486486485, 3.79753416175698e-15, 4.104321000937e-16], [-6.81095945945945, 3.8587755747871e-15, 4.1705098505747e-16], [-6.91905405405404, 3.92001698781721e-15, 4.2366987002124e-16], [-7.02714864864864, 3.98125840084733e-15, 4.3028875498501e-16], [-7.13524324324323, 4.04249981387745e-15, 4.3690763994878e-16], [-7.24333783783783, 4.10374122690756e-15, 4.4352652491255e-16], [-7.35143243243242, 4.16498263993768e-15, 4.5014540987632e-16], [-7.45952702702701, 4.22622405296779e-15, 4.5676429484009e-16], [-7.56762162162161, 4.28746546599791e-15, 4.6338317980386e-16], [-7.6757162162162, 4.34870687902803e-15, 4.7000206476763e-16], [-7.7838108108108, 4.40994829205814e-15, 4.766209497314e-16], [-7.89190540540539, 4.47118970508826e-15, 4.8323983469517e-16], [-7.99999999999999, 4.53243111811838e-15, 4.8985871965894e-16]], &quot;color&quot;:&quot;red&quot;, &quot;opacity&quot;:1, &quot;linewidth&quot;:1},{&quot;points&quot;:[[-4.99999979167462e-07, -0.000999999875000003, 6.12323399573677e-20], [-5.454729502458e-05, -0.109094580957771, 6.68011730372742e-18], [-0.000108594590069992, -0.217189162040541, 1.32990022674975e-17], [-0.000162641885115405, -0.325283743123312, 1.99178872312675e-17], [-0.000216689180160818, -0.433378324206082, 2.65367721950376e-17], [-0.00027073647520623, -0.541472905288853, 3.31556571588076e-17], [-0.000324783770251643, -0.649567486371623, 3.97745421225777e-17], [-0.000378831065297055, -0.757662067454394, 4.63934270863477e-17], [-0.000432878360342468, -0.865756648537164, 5.30123120501178e-17], [-0.00048692565538788, -0.973851229619935, 5.96311970138878e-17], [-0.000540972950433293, -1.08194581070271, 6.62500819776579e-17], [-0.000595020245478705, -1.19004039178548, 7.28689669414279e-17], [-0.000649067540524118, -1.29813497286825, 7.9487851905198e-17], [-0.00070311483556953, -1.40622955395102, 8.6106736868968e-17], [-0.000757162130614943, -1.51432413503379, 9.27256218327381e-17], [-0.000811209425660355, -1.62241871611656, 9.93445067965081e-17], [-0.000865256720705768, -1.73051329719933, 1.05963391760278e-16], [-0.00091930401575118, -1.8386078782821, 1.12582276724048e-16], [-0.000973351310796593, -1.94670245936487, 1.19201161687818e-16], [-0.00102739860584201, -2.05479704044764, 1.25820046651588e-16], [-0.00108144590088742, -2.16289162153041, 1.32438931615358e-16], [-0.00113549319593283, -2.27098620261318, 1.39057816579128e-16], [-0.00118954049097824, -2.37908078369595, 1.45676701542898e-16], [-0.00124358778602365, -2.48717536477872, 1.52295586506669e-16], [-0.00129763508106907, -2.59526994586149, 1.58914471470439e-16], [-0.00135168237611448, -2.70336452694426, 1.65533356434209e-16], [-0.00140572967115989, -2.81145910802703, 1.72152241397979e-16], [-0.0014597769662053, -2.9195536891098, 1.78771126361749e-16], [-0.00151382426125072, -3.02764827019257, 1.85390011325519e-16], [-0.00156787155629613, -3.13574285127534, 1.92008896289289e-16], [-0.00162191885134154, -3.24383743235811, 1.98627781253059e-16], [-0.00167596614638695, -3.35193201344088, 2.05246666216829e-16], [-0.00173001344143237, -3.46002659452365, 2.11865551180599e-16], [-0.00178406073647778, -3.56812117560642, 2.18484436144369e-16], [-0.00183810803152319, -3.67621575668919, 2.25103321108139e-16], [-0.0018921553265686, -3.78431033777197, 2.31722206071909e-16], [-0.00194620262161402, -3.89240491885474, 2.38341091035679e-16], [-0.00200024991665943, -4.00049949993751, 2.44959975999449e-16], [-0.00205429721170484, -4.10859408102028, 2.51578860963219e-16], [-0.00210834450675025, -4.21668866210305, 2.58197745926989e-16], [-0.00216239180179567, -4.32478324318582, 2.64816630890759e-16], [-0.00221643909684108, -4.43287782426859, 2.71435515854529e-16], [-0.00227048639188649, -4.54097240535136, 2.78054400818299e-16], [-0.0023245336869319, -4.64906698643413, 2.84673285782069e-16], [-0.00237858098197731, -4.7571615675169, 2.91292170745839e-16], [-0.00243262827702273, -4.86525614859967, 2.97911055709609e-16], [-0.00248667557206814, -4.97335072968244, 3.04529940673379e-16], [-0.00254072286711355, -5.08144531076521, 3.11148825637149e-16], [-0.00259477016215896, -5.18953989184798, 3.17767710600919e-16], [-0.00264881745720438, -5.29763447293075, 3.2438659556469e-16], [-0.00270286475224979, -5.40572905401352, 3.3100548052846e-16], [-0.0027569120472952, -5.51382363509629, 3.3762436549223e-16], [-0.00281095934234061, -5.62191821617906, 3.44243250456e-16], [-0.00286500663738603, -5.73001279726183, 3.5086213541977e-16], [-0.00291905393243144, -5.8381073783446, 3.5748102038354e-16], [-0.00297310122747685, -5.94620195942737, 3.6409990534731e-16], [-0.00302714852252226, -6.05429654051014, 3.7071879031108e-16], [-0.00308119581756768, -6.16239112159291, 3.7733767527485e-16], [-0.00313524311261309, -6.27048570267568, 3.8395656023862e-16], [-0.0031892904076585, -6.37858028375845, 3.9057544520239e-16], [-0.00324333770270391, -6.48667486484122, 3.9719433016616e-16], [-0.00329738499774933, -6.59476944592399, 4.0381321512993e-16], [-0.00335143229279474, -6.70286402700676, 4.104321000937e-16], [-0.00340547958784015, -6.81095860808953, 4.1705098505747e-16], [-0.00345952688288556, -6.9190531891723, 4.2366987002124e-16], [-0.00351357417793098, -7.02714777025508, 4.3028875498501e-16], [-0.00356762147297639, -7.13524235133784, 4.3690763994878e-16], [-0.0036216687680218, -7.24333693242062, 4.4352652491255e-16], [-0.00367571606306721, -7.35143151350339, 4.5014540987632e-16], [-0.00372976335811263, -7.45952609458616, 4.5676429484009e-16], [-0.00378381065315804, -7.56762067566893, 4.6338317980386e-16], [-0.00383785794820345, -7.6757152567517, 4.7000206476763e-16], [-0.00389190524324886, -7.78380983783447, 4.766209497314e-16], [-0.00394595253829427, -7.89190441891724, 4.8323983469517e-16], [-0.00399999983333969, -7.99999900000001, 4.8985871965894e-16]], &quot;color&quot;:&quot;red&quot;, &quot;opacity&quot;:1, &quot;linewidth&quot;:1},{&quot;points&quot;:[[0.000999999500000042, -9.99999833334809e-07, 6.12323399573677e-20], [0.109094540047302, -0.000109094576412323, 6.68011730372742e-18], [0.217189080594604, -0.000217189152991311, 1.32990022674975e-17], [0.325283621141905, -0.0003252837295703, 1.99178872312675e-17], [0.433378161689207, -0.000433378306149288, 2.65367721950376e-17], [0.541472702236509, -0.000541472882728276, 3.31556571588076e-17], [0.649567242783811, -0.000649567459307265, 3.97745421225777e-17], [0.757661783331113, -0.000757662035886253, 4.63934270863477e-17], [0.865756323878414, -0.000865756612465241, 5.30123120501178e-17], [0.973850864425716, -0.00097385118904423, 5.96311970138878e-17], [1.08194540497302, -0.00108194576562322, 6.62500819776579e-17], [1.19003994552032, -0.00119004034220221, 7.28689669414279e-17], [1.29813448606762, -0.00129813491878119, 7.9487851905198e-17], [1.40622902661492, -0.00140622949536018, 8.6106736868968e-17], [1.51432356716223, -0.00151432407193917, 9.27256218327381e-17], [1.62241810770953, -0.00162241864851816, 9.93445067965081e-17], [1.73051264825683, -0.00173051322509715, 1.05963391760278e-16], [1.83860718880413, -0.00183860780167614, 1.12582276724048e-16], [1.94670172935143, -0.00194670237825512, 1.19201161687818e-16], [2.05479626989873, -0.00205479695483411, 1.25820046651588e-16], [2.16289081044604, -0.0021628915314131, 1.32438931615358e-16], [2.27098535099334, -0.00227098610799209, 1.39057816579128e-16], [2.37907989154064, -0.00237908068457108, 1.45676701542898e-16], [2.48717443208794, -0.00248717526115006, 1.52295586506669e-16], [2.59526897263524, -0.00259526983772905, 1.58914471470439e-16], [2.70336351318254, -0.00270336441430804, 1.65533356434209e-16], [2.81145805372984, -0.00281145899088703, 1.72152241397979e-16], [2.91955259427715, -0.00291955356746602, 1.78771126361749e-16], [3.02764713482445, -0.00302764814404501, 1.85390011325519e-16], [3.13574167537175, -0.00313574272062399, 1.92008896289289e-16], [3.24383621591905, -0.00324383729720298, 1.98627781253059e-16], [3.35193075646635, -0.00335193187378197, 2.05246666216829e-16], [3.46002529701365, -0.00346002645036096, 2.11865551180599e-16], [3.56811983756096, -0.00356812102693995, 2.18484436144369e-16], [3.67621437810826, -0.00367621560351893, 2.25103321108139e-16], [3.78430891865556, -0.00378431018009792, 2.31722206071909e-16], [3.89240345920286, -0.00389240475667691, 2.38341091035679e-16], [4.00049799975016, -0.0040004993332559, 2.44959975999449e-16], [4.10859254029746, -0.00410859390983489, 2.51578860963219e-16], [4.21668708084476, -0.00421668848641387, 2.58197745926989e-16], [4.32478162139207, -0.00432478306299286, 2.64816630890759e-16], [4.43287616193937, -0.00443287763957185, 2.71435515854529e-16], [4.54097070248667, -0.00454097221615084, 2.78054400818299e-16], [4.64906524303397, -0.00464906679272983, 2.84673285782069e-16], [4.75715978358127, -0.00475716136930881, 2.91292170745839e-16], [4.86525432412857, -0.0048652559458878, 2.97911055709609e-16], [4.97334886467588, -0.00497335052246679, 3.04529940673379e-16], [5.08144340522318, -0.00508144509904578, 3.11148825637149e-16], [5.18953794577048, -0.00518953967562477, 3.17767710600919e-16], [5.29763248631778, -0.00529763425220376, 3.2438659556469e-16], [5.40572702686508, -0.00540572882878274, 3.3100548052846e-16], [5.51382156741238, -0.00551382340536173, 3.3762436549223e-16], [5.62191610795969, -0.00562191798194072, 3.44243250456e-16], [5.73001064850699, -0.00573001255851971, 3.5086213541977e-16], [5.83810518905429, -0.0058381071350987, 3.5748102038354e-16], [5.94619972960159, -0.00594620171167768, 3.6409990534731e-16], [6.05429427014889, -0.00605429628825667, 3.7071879031108e-16], [6.16238881069619, -0.00616239086483566, 3.7733767527485e-16], [6.2704833512435, -0.00627048544141465, 3.8395656023862e-16], [6.3785778917908, -0.00637858001799364, 3.9057544520239e-16], [6.4866724323381, -0.00648667459457262, 3.9719433016616e-16], [6.5947669728854, -0.00659476917115161, 4.0381321512993e-16], [6.7028615134327, -0.0067028637477306, 4.104321000937e-16], [6.81095605398, -0.00681095832430959, 4.1705098505747e-16], [6.9190505945273, -0.00691905290088858, 4.2366987002124e-16], [7.02714513507461, -0.00702714747746756, 4.3028875498501e-16], [7.13523967562191, -0.00713524205404655, 4.3690763994878e-16], [7.24333421616921, -0.00724333663062554, 4.4352652491255e-16], [7.35142875671651, -0.00735143120720453, 4.5014540987632e-16], [7.45952329726381, -0.00745952578378352, 4.5676429484009e-16], [7.56761783781111, -0.00756762036036251, 4.6338317980386e-16], [7.67571237835842, -0.00767571493694149, 4.7000206476763e-16], [7.78380691890572, -0.00778380951352048, 4.766209497314e-16], [7.89190145945302, -0.00789190409009947, 4.8323983469517e-16], [7.99999600000032, -0.00799999866667846, 4.8985871965894e-16]], &quot;color&quot;:&quot;red&quot;, &quot;opacity&quot;:1, &quot;linewidth&quot;:1},{&quot;points&quot;:[[0.00070745989244397, 7.07460128264028e-07, -0.00070675313942234], [0.0771800501581104, 7.71800758848041e-05, -0.0771029472237372], [0.153652640423777, 0.000153652691641344, -0.153499141308052], [0.230125230689443, 0.000230125307397884, -0.229895335392367], [0.30659782095511, 0.000306597923154424, -0.306291529476682], [0.383070411220776, 0.000383070538910964, -0.382687723560996], [0.459543001486442, 0.000459543154667504, -0.459083917645311], [0.536015591752109, 0.000536015770424044, -0.535480111729626], [0.612488182017775, 0.000612488386180584, -0.611876305813941], [0.688960772283442, 0.000688961001937124, -0.688272499898256], [0.765433362549108, 0.000765433617693664, -0.764668693982571], [0.841905952814774, 0.000841906233450204, -0.841064888066885], [0.918378543080441, 0.000918378849206744, -0.9174610821512], [0.994851133346107, 0.000994851464963284, -0.993857276235515], [1.07132372361177, 0.00107132408071982, -1.07025347031983], [1.14779631387744, 0.00114779669647636, -1.14664966440414], [1.22426890414311, 0.0012242693122329, -1.22304585848846], [1.30074149440877, 0.00130074192798944, -1.29944205257277], [1.37721408467444, 0.00137721454374598, -1.37583824665709], [1.45368667494011, 0.00145368715950252, -1.4522344407414], [1.53015926520577, 0.00153015977525906, -1.52863063482572], [1.60663185547144, 0.0016066323910156, -1.60502682891003], [1.6831044457371, 0.00168310500677214, -1.68142302299435], [1.75957703600277, 0.00175957762252868, -1.75781921707866], [1.83604962626844, 0.00183605023828522, -1.83421541116298], [1.9125222165341, 0.00191252285404176, -1.91061160524729], [1.98899480679977, 0.0019889954697983, -1.98700779933161], [2.06546739706544, 0.00206546808555484, -2.06340399341592], [2.1419399873311, 0.00214194070131138, -2.13980018750024], [2.21841257759677, 0.00221841331706792, -2.21619638158455], [2.29488516786243, 0.00229488593282446, -2.29259257566886], [2.3713577581281, 0.002371358548581, -2.36898876975318], [2.44783034839377, 0.00244783116433754, -2.44538496383749], [2.52430293865943, 0.00252430378009408, -2.52178115792181], [2.6007755289251, 0.00260077639585062, -2.59817735200612], [2.67724811919077, 0.00267724901160716, -2.67457354609044], [2.75372070945643, 0.0027537216273637, -2.75096974017475], [2.8301932997221, 0.00283019424312024, -2.82736593425907], [2.90666588998776, 0.00290666685887678, -2.90376212834338], [2.98313848025343, 0.00298313947463332, -2.9801583224277], [3.0596110705191, 0.00305961209038986, -3.05655451651201], [3.13608366078476, 0.0031360847061464, -3.13295071059633], [3.21255625105043, 0.00321255732190294, -3.20934690468064], [3.2890288413161, 0.00328902993765948, -3.28574309876496], [3.36550143158176, 0.00336550255341602, -3.36213929284927], [3.44197402184743, 0.00344197516917256, -3.43853548693358], [3.51844661211309, 0.0035184477849291, -3.5149316810179], [3.59491920237876, 0.00359492040068564, -3.59132787510221], [3.67139179264443, 0.00367139301644218, -3.66772406918653], [3.74786438291009, 0.00374786563219872, -3.74412026327084], [3.82433697317576, 0.00382433824795526, -3.82051645735516], [3.90080956344143, 0.0039008108637118, -3.89691265143947], [3.97728215370709, 0.00397728347946834, -3.97330884552379], [4.05375474397276, 0.00405375609522488, -4.0497050396081], [4.13022733423842, 0.00413022871098142, -4.12610123369242], [4.20669992450409, 0.00420670132673796, -4.20249742777673], [4.28317251476976, 0.0042831739424945, -4.27889362186105], [4.35964510503542, 0.00435964655825104, -4.35528981594536], [4.43611769530109, 0.00443611917400758, -4.43168601002968], [4.51259028556676, 0.00451259178976412, -4.50808220411399], [4.58906287583242, 0.00458906440552066, -4.58447839819831], [4.66553546609809, 0.0046655370212772, -4.66087459228262], [4.74200805636375, 0.00474200963703374, -4.73727078636693], [4.81848064662942, 0.00481848225279028, -4.81366698045125], [4.89495323689509, 0.00489495486854682, -4.89006317453556], [4.97142582716075, 0.00497142748430336, -4.96645936861988], [5.04789841742642, 0.0050479001000599, -5.04285556270419], [5.12437100769209, 0.00512437271581644, -5.11925175678851], [5.20084359795775, 0.00520084533157298, -5.19564795087282], [5.27731618822342, 0.00527731794732952, -5.27204414495714], [5.35378877848908, 0.00535379056308606, -5.34844033904145], [5.43026136875475, 0.0054302631788426, -5.42483653312577], [5.50673395902042, 0.00550673579459914, -5.50123272721008], [5.58320654928608, 0.00558320841035568, -5.5776289212944], [5.65967913955175, 0.00565968102611222, -5.65402511537871]], &quot;color&quot;:&quot;red&quot;, &quot;opacity&quot;:1, &quot;linewidth&quot;:1},{&quot;points&quot;:[[-3.53730108348037e-07, 0.000707460157741535, -0.00070675313942234], [-3.85900427661312e-05, 0.0771800791006406, -0.0771029472237372], [-7.68263554239143e-05, 0.15365269804354, -0.153499141308052], [-0.000115062668081697, 0.230125316986439, -0.229895335392367], [-0.000153298980739481, 0.306597935929338, -0.306291529476682], [-0.000191535293397264, 0.383070554872237, -0.382687723560996], [-0.000229771606055047, 0.459543173815136, -0.459083917645311], [-0.00026800791871283, 0.536015792758035, -0.535480111729626], [-0.000306244231370613, 0.612488411700934, -0.611876305813941], [-0.000344480544028396, 0.688961030643834, -0.688272499898256], [-0.000382716856686179, 0.765433649586733, -0.764668693982571], [-0.000420953169343962, 0.841906268529632, -0.841064888066885], [-0.000459189482001745, 0.918378887472531, -0.9174610821512], [-0.000497425794659529, 0.99485150641543, -0.993857276235515], [-0.000535662107317312, 1.07132412535833, -1.07025347031983], [-0.000573898419975095, 1.14779674430123, -1.14664966440414], [-0.000612134732632878, 1.22426936324413, -1.22304585848846], [-0.000650371045290661, 1.30074198218703, -1.29944205257277], [-0.000688607357948444, 1.37721460112993, -1.37583824665709], [-0.000726843670606227, 1.45368722007282, -1.4522344407414], [-0.00076507998326401, 1.53015983901572, -1.52863063482572], [-0.000803316295921793, 1.60663245795862, -1.60502682891003], [-0.000841552608579576, 1.68310507690152, -1.68142302299435], [-0.00087978892123736, 1.75957769584442, -1.75781921707866], [-0.000918025233895143, 1.83605031478732, -1.83421541116298], [-0.000956261546552926, 1.91252293373022, -1.91061160524729], [-0.000994497859210709, 1.98899555267312, -1.98700779933161], [-0.00103273417186849, 2.06546817161602, -2.06340399341592], [-0.00107097048452627, 2.14194079055892, -2.13980018750024], [-0.00110920679718406, 2.21841340950181, -2.21619638158455], [-0.00114744310984184, 2.29488602844471, -2.29259257566886], [-0.00118567942249962, 2.37135864738761, -2.36898876975318], [-0.00122391573515741, 2.44783126633051, -2.44538496383749], [-0.00126215204781519, 2.52430388527341, -2.52178115792181], [-0.00130038836047297, 2.60077650421631, -2.59817735200612], [-0.00133862467313076, 2.67724912315921, -2.67457354609044], [-0.00137686098578854, 2.75372174210211, -2.75096974017475], [-0.00141509729844632, 2.83019436104501, -2.82736593425907], [-0.00145333361110411, 2.9066669799879, -2.90376212834338], [-0.00149156992376189, 2.9831395989308, -2.9801583224277], [-0.00152980623641967, 3.0596122178737, -3.05655451651201], [-0.00156804254907745, 3.1360848368166, -3.13295071059633], [-0.00160627886173524, 3.2125574557595, -3.20934690468064], [-0.00164451517439302, 3.2890300747024, -3.28574309876496], [-0.0016827514870508, 3.3655026936453, -3.36213929284927], [-0.00172098779970859, 3.4419753125882, -3.43853548693358], [-0.00175922411236637, 3.5184479315311, -3.5149316810179], [-0.00179746042502415, 3.59492055047399, -3.59132787510221], [-0.00183569673768194, 3.67139316941689, -3.66772406918653], [-0.00187393305033972, 3.74786578835979, -3.74412026327084], [-0.0019121693629975, 3.82433840730269, -3.82051645735516], [-0.00195040567565528, 3.90081102624559, -3.89691265143947], [-0.00198864198831307, 3.97728364518849, -3.97330884552379], [-0.00202687830097085, 4.05375626413139, -4.0497050396081], [-0.00206511461362863, 4.13022888307429, -4.12610123369242], [-0.00210335092628642, 4.20670150201719, -4.20249742777673], [-0.0021415872389442, 4.28317412096009, -4.27889362186105], [-0.00217982355160198, 4.35964673990298, -4.35528981594536], [-0.00221805986425977, 4.43611935884588, -4.43168601002968], [-0.00225629617691755, 4.51259197778878, -4.50808220411399], [-0.00229453248957533, 4.58906459673168, -4.58447839819831], [-0.00233276880223312, 4.66553721567458, -4.66087459228262], [-0.0023710051148909, 4.74200983461748, -4.73727078636693], [-0.00240924142754868, 4.81848245356038, -4.81366698045125], [-0.00244747774020646, 4.89495507250328, -4.89006317453556], [-0.00248571405286425, 4.97142769144618, -4.96645936861988], [-0.00252395036552203, 5.04790031038907, -5.04285556270419], [-0.00256218667817981, 5.12437292933197, -5.11925175678851], [-0.0026004229908376, 5.20084554827487, -5.19564795087282], [-0.00263865930349538, 5.27731816721777, -5.27204414495714], [-0.00267689561615316, 5.35379078616067, -5.34844033904145], [-0.00271513192881095, 5.43026340510357, -5.42483653312577], [-0.00275336824146873, 5.50673602404647, -5.50123272721008], [-0.00279160455412651, 5.58320864298937, -5.5776289212944], [-0.00282984086678429, 5.65968126193227, -5.65402511537871]], &quot;color&quot;:&quot;red&quot;, &quot;opacity&quot;:1, &quot;linewidth&quot;:1},{&quot;points&quot;:[[-0.000707460246174063, 4.00814354323877e-19, -0.00070675313942234], [-0.0771800887481515, 4.37266794926576e-17, -0.0771029472237372], [-0.153652717250129, 8.70525446309913e-17, -0.153499141308052], [-0.230125345752106, 1.30378409769325e-16, -0.229895335392367], [-0.306597974254084, 1.73704274907659e-16, -0.306291529476682], [-0.383070602756061, 2.17030140045992e-16, -0.382687723560996], [-0.459543231258039, 2.60356005184326e-16, -0.459083917645311], [-0.536015859760016, 3.0368187032266e-16, -0.535480111729626], [-0.612488488261994, 3.47007735460993e-16, -0.611876305813941], [-0.688961116763971, 3.90333600599327e-16, -0.688272499898256], [-0.765433745265949, 4.33659465737661e-16, -0.764668693982571], [-0.841906373767926, 4.76985330875994e-16, -0.841064888066885], [-0.918379002269904, 5.20311196014328e-16, -0.9174610821512], [-0.994851630771881, 5.63637061152662e-16, -0.993857276235515], [-1.07132425927386, 6.06962926290995e-16, -1.07025347031983], [-1.14779688777584, 6.50288791429329e-16, -1.14664966440414], [-1.22426951627781, 6.93614656567663e-16, -1.22304585848846], [-1.30074214477979, 7.36940521705997e-16, -1.29944205257277], [-1.37721477328177, 7.8026638684433e-16, -1.37583824665709], [-1.45368740178375, 8.23592251982664e-16, -1.4522344407414], [-1.53016003028572, 8.66918117120997e-16, -1.52863063482572], [-1.6066326587877, 9.10243982259331e-16, -1.60502682891003], [-1.68310528728968, 9.53569847397665e-16, -1.68142302299435], [-1.75957791579166, 9.96895712535998e-16, -1.75781921707866], [-1.83605054429363, 1.04022157767433e-15, -1.83421541116298], [-1.91252317279561, 1.08354744281267e-15, -1.91061160524729], [-1.98899580129759, 1.126873307951e-15, -1.98700779933161], [-2.06546842979956, 1.17019917308933e-15, -2.06340399341592], [-2.14194105830154, 1.21352503822767e-15, -2.13980018750024], [-2.21841368680352, 1.256850903366e-15, -2.21619638158455], [-2.2948863153055, 1.30017676850433e-15, -2.29259257566886], [-2.37135894380747, 1.34350263364267e-15, -2.36898876975318], [-2.44783157230945, 1.386828498781e-15, -2.44538496383749], [-2.52430420081143, 1.43015436391933e-15, -2.52178115792181], [-2.60077682931341, 1.47348022905767e-15, -2.59817735200612], [-2.67724945781538, 1.516806094196e-15, -2.67457354609044], [-2.75372208631736, 1.56013195933433e-15, -2.75096974017475], [-2.83019471481934, 1.60345782447267e-15, -2.82736593425907], [-2.90666734332131, 1.646783689611e-15, -2.90376212834338], [-2.98313997182329, 1.69010955474934e-15, -2.9801583224277], [-3.05961260032527, 1.73343541988767e-15, -3.05655451651201], [-3.13608522882725, 1.776761285026e-15, -3.13295071059633], [-3.21255785732922, 1.82008715016434e-15, -3.20934690468064], [-3.2890304858312, 1.86341301530267e-15, -3.28574309876496], [-3.36550311433318, 1.906738880441e-15, -3.36213929284927], [-3.44197574283516, 1.95006474557934e-15, -3.43853548693358], [-3.51844837133713, 1.99339061071767e-15, -3.5149316810179], [-3.59492099983911, 2.036716475856e-15, -3.59132787510221], [-3.67139362834109, 2.08004234099434e-15, -3.66772406918653], [-3.74786625684307, 2.12336820613267e-15, -3.74412026327084], [-3.82433888534504, 2.16669407127101e-15, -3.82051645735516], [-3.90081151384702, 2.21001993640934e-15, -3.89691265143947], [-3.977284142349, 2.25334580154767e-15, -3.97330884552379], [-4.05375677085097, 2.29667166668601e-15, -4.0497050396081], [-4.13022939935295, 2.33999753182434e-15, -4.12610123369242], [-4.20670202785493, 2.38332339696267e-15, -4.20249742777673], [-4.28317465635691, 2.42664926210101e-15, -4.27889362186105], [-4.35964728485888, 2.46997512723934e-15, -4.35528981594536], [-4.43611991336086, 2.51330099237767e-15, -4.43168601002968], [-4.51259254186284, 2.55662685751601e-15, -4.50808220411399], [-4.58906517036482, 2.59995272265434e-15, -4.58447839819831], [-4.66553779886679, 2.64327858779268e-15, -4.66087459228262], [-4.74201042736877, 2.68660445293101e-15, -4.73727078636693], [-4.81848305587075, 2.72993031806934e-15, -4.81366698045125], [-4.89495568437273, 2.77325618320768e-15, -4.89006317453556], [-4.9714283128747, 2.81658204834601e-15, -4.96645936861988], [-5.04790094137668, 2.85990791348434e-15, -5.04285556270419], [-5.12437356987866, 2.90323377862268e-15, -5.11925175678851], [-5.20084619838063, 2.94655964376101e-15, -5.19564795087282], [-5.27731882688261, 2.98988550889934e-15, -5.27204414495714], [-5.35379145538459, 3.03321137403768e-15, -5.34844033904145], [-5.43026408388657, 3.07653723917601e-15, -5.42483653312577], [-5.50673671238854, 3.11986310431434e-15, -5.50123272721008], [-5.58320934089052, 3.16318896945268e-15, -5.5776289212944], [-5.6596819693925, 3.20651483459101e-15, -5.65402511537871]], &quot;color&quot;:&quot;red&quot;, &quot;opacity&quot;:1, &quot;linewidth&quot;:1},{&quot;points&quot;:[[-3.53730108348839e-07, -0.000707460157741535, -0.00070675313942234], [-3.85900427662186e-05, -0.0771800791006406, -0.0771029472237372], [-7.68263554240884e-05, -0.15365269804354, -0.153499141308052], [-0.000115062668081958, -0.230125316986439, -0.229895335392367], [-0.000153298980739828, -0.306597935929338, -0.306291529476682], [-0.000191535293397698, -0.383070554872237, -0.382687723560996], [-0.000229771606055567, -0.459543173815136, -0.459083917645311], [-0.000268007918713437, -0.536015792758035, -0.535480111729626], [-0.000306244231371307, -0.612488411700934, -0.611876305813941], [-0.000344480544029177, -0.688961030643834, -0.688272499898256], [-0.000382716856687047, -0.765433649586733, -0.764668693982571], [-0.000420953169344916, -0.841906268529632, -0.841064888066885], [-0.000459189482002786, -0.918378887472531, -0.9174610821512], [-0.000497425794660656, -0.99485150641543, -0.993857276235515], [-0.000535662107318526, -1.07132412535833, -1.07025347031983], [-0.000573898419976395, -1.14779674430123, -1.14664966440414], [-0.000612134732634265, -1.22426936324413, -1.22304585848846], [-0.000650371045292135, -1.30074198218703, -1.29944205257277], [-0.000688607357950005, -1.37721460112993, -1.37583824665709], [-0.000726843670607875, -1.45368722007282, -1.4522344407414], [-0.000765079983265744, -1.53015983901572, -1.52863063482572], [-0.000803316295923614, -1.60663245795862, -1.60502682891003], [-0.000841552608581484, -1.68310507690152, -1.68142302299435], [-0.000879788921239353, -1.75957769584442, -1.75781921707866], [-0.000918025233897223, -1.83605031478732, -1.83421541116298], [-0.000956261546555093, -1.91252293373022, -1.91061160524729], [-0.000994497859212962, -1.98899555267312, -1.98700779933161], [-0.00103273417187083, -2.06546817161602, -2.06340399341592], [-0.0010709704845287, -2.14194079055892, -2.13980018750024], [-0.00110920679718657, -2.21841340950181, -2.21619638158455], [-0.00114744310984444, -2.29488602844471, -2.29259257566886], [-0.00118567942250231, -2.37135864738761, -2.36898876975318], [-0.00122391573516018, -2.44783126633051, -2.44538496383749], [-0.00126215204781805, -2.52430388527341, -2.52178115792181], [-0.00130038836047592, -2.60077650421631, -2.59817735200612], [-0.00133862467313379, -2.67724912315921, -2.67457354609044], [-0.00137686098579166, -2.75372174210211, -2.75096974017475], [-0.00141509729844953, -2.83019436104501, -2.82736593425907], [-0.0014533336111074, -2.9066669799879, -2.90376212834338], [-0.00149156992376527, -2.9831395989308, -2.9801583224277], [-0.00152980623642314, -3.0596122178737, -3.05655451651201], [-0.00156804254908101, -3.1360848368166, -3.13295071059633], [-0.00160627886173888, -3.2125574557595, -3.20934690468064], [-0.00164451517439675, -3.2890300747024, -3.28574309876496], [-0.00168275148705462, -3.3655026936453, -3.36213929284927], [-0.00172098779971249, -3.4419753125882, -3.43853548693358], [-0.00175922411237036, -3.5184479315311, -3.5149316810179], [-0.00179746042502823, -3.59492055047399, -3.59132787510221], [-0.0018356967376861, -3.67139316941689, -3.66772406918653], [-0.00187393305034397, -3.74786578835979, -3.74412026327084], [-0.00191216936300183, -3.82433840730269, -3.82051645735516], [-0.0019504056756597, -3.90081102624559, -3.89691265143947], [-0.00198864198831757, -3.97728364518849, -3.97330884552379], [-0.00202687830097544, -4.05375626413139, -4.0497050396081], [-0.00206511461363331, -4.13022888307429, -4.12610123369242], [-0.00210335092629118, -4.20670150201719, -4.20249742777673], [-0.00214158723894905, -4.28317412096009, -4.27889362186105], [-0.00217982355160692, -4.35964673990298, -4.35528981594536], [-0.00221805986426479, -4.43611935884588, -4.43168601002968], [-0.00225629617692266, -4.51259197778878, -4.50808220411399], [-0.00229453248958053, -4.58906459673168, -4.58447839819831], [-0.0023327688022384, -4.66553721567458, -4.66087459228262], [-0.00237100511489627, -4.74200983461748, -4.73727078636693], [-0.00240924142755414, -4.81848245356038, -4.81366698045125], [-0.00244747774021201, -4.89495507250328, -4.89006317453556], [-0.00248571405286988, -4.97142769144618, -4.96645936861988], [-0.00252395036552775, -5.04790031038907, -5.04285556270419], [-0.00256218667818562, -5.12437292933197, -5.11925175678851], [-0.00260042299084349, -5.20084554827487, -5.19564795087282], [-0.00263865930350136, -5.27731816721777, -5.27204414495714], [-0.00267689561615923, -5.35379078616067, -5.34844033904145], [-0.0027151319288171, -5.43026340510357, -5.42483653312577], [-0.00275336824147497, -5.50673602404647, -5.50123272721008], [-0.00279160455413284, -5.58320864298937, -5.5776289212944], [-0.00282984086679071, -5.65968126193227, -5.65402511537871]], &quot;color&quot;:&quot;red&quot;, &quot;opacity&quot;:1, &quot;linewidth&quot;:1},{&quot;points&quot;:[[0.00070745989244397, -7.07460128265066e-07, -0.00070675313942234], [0.0771800501581104, -7.71800758849173e-05, -0.0771029472237372], [0.153652640423777, -0.00015365269164157, -0.153499141308052], [0.230125230689443, -0.000230125307398222, -0.229895335392367], [0.30659782095511, -0.000306597923154874, -0.306291529476682], [0.383070411220776, -0.000383070538911526, -0.382687723560996], [0.459543001486442, -0.000459543154668178, -0.459083917645311], [0.536015591752109, -0.000536015770424831, -0.535480111729626], [0.612488182017775, -0.000612488386181483, -0.611876305813941], [0.688960772283442, -0.000688961001938135, -0.688272499898256], [0.765433362549108, -0.000765433617694787, -0.764668693982571], [0.841905952814774, -0.000841906233451439, -0.841064888066885], [0.918378543080441, -0.000918378849208092, -0.9174610821512], [0.994851133346107, -0.000994851464964744, -0.993857276235515], [1.07132372361177, -0.0010713240807214, -1.07025347031983], [1.14779631387744, -0.00114779669647805, -1.14664966440414], [1.22426890414311, -0.0012242693122347, -1.22304585848846], [1.30074149440877, -0.00130074192799135, -1.29944205257277], [1.37721408467444, -0.00137721454374801, -1.37583824665709], [1.45368667494011, -0.00145368715950466, -1.4522344407414], [1.53015926520577, -0.00153015977526131, -1.52863063482572], [1.60663185547144, -0.00160663239101796, -1.60502682891003], [1.6831044457371, -0.00168310500677461, -1.68142302299435], [1.75957703600277, -0.00175957762253127, -1.75781921707866], [1.83604962626844, -0.00183605023828792, -1.83421541116298], [1.9125222165341, -0.00191252285404457, -1.91061160524729], [1.98899480679977, -0.00198899546980122, -1.98700779933161], [2.06546739706544, -0.00206546808555787, -2.06340399341592], [2.1419399873311, -0.00214194070131453, -2.13980018750024], [2.21841257759677, -0.00221841331707118, -2.21619638158455], [2.29488516786243, -0.00229488593282783, -2.29259257566886], [2.3713577581281, -0.00237135854858448, -2.36898876975318], [2.44783034839377, -0.00244783116434113, -2.44538496383749], [2.52430293865943, -0.00252430378009779, -2.52178115792181], [2.6007755289251, -0.00260077639585444, -2.59817735200612], [2.67724811919077, -0.00267724901161109, -2.67457354609044], [2.75372070945643, -0.00275372162736774, -2.75096974017475], [2.8301932997221, -0.00283019424312439, -2.82736593425907], [2.90666588998776, -0.00290666685888105, -2.90376212834338], [2.98313848025343, -0.0029831394746377, -2.9801583224277], [3.0596110705191, -0.00305961209039435, -3.05655451651201], [3.13608366078476, -0.003136084706151, -3.13295071059633], [3.21255625105043, -0.00321255732190765, -3.20934690468064], [3.2890288413161, -0.00328902993766431, -3.28574309876496], [3.36550143158176, -0.00336550255342096, -3.36213929284927], [3.44197402184743, -0.00344197516917761, -3.43853548693358], [3.51844661211309, -0.00351844778493426, -3.5149316810179], [3.59491920237876, -0.00359492040069092, -3.59132787510221], [3.67139179264443, -0.00367139301644757, -3.66772406918653], [3.74786438291009, -0.00374786563220422, -3.74412026327084], [3.82433697317576, -0.00382433824796087, -3.82051645735516], [3.90080956344143, -0.00390081086371752, -3.89691265143947], [3.97728215370709, -0.00397728347947418, -3.97330884552379], [4.05375474397276, -0.00405375609523083, -4.0497050396081], [4.13022733423842, -0.00413022871098748, -4.12610123369242], [4.20669992450409, -0.00420670132674413, -4.20249742777673], [4.28317251476976, -0.00428317394250078, -4.27889362186105], [4.35964510503542, -0.00435964655825744, -4.35528981594536], [4.43611769530109, -0.00443611917401409, -4.43168601002968], [4.51259028556676, -0.00451259178977074, -4.50808220411399], [4.58906287583242, -0.00458906440552739, -4.58447839819831], [4.66553546609809, -0.00466553702128404, -4.66087459228262], [4.74200805636375, -0.0047420096370407, -4.73727078636693], [4.81848064662942, -0.00481848225279735, -4.81366698045125], [4.89495323689509, -0.004894954868554, -4.89006317453556], [4.97142582716075, -0.00497142748431065, -4.96645936861988], [5.04789841742642, -0.0050479001000673, -5.04285556270419], [5.12437100769209, -0.00512437271582396, -5.11925175678851], [5.20084359795775, -0.00520084533158061, -5.19564795087282], [5.27731618822342, -0.00527731794733726, -5.27204414495714], [5.35378877848908, -0.00535379056309391, -5.34844033904145], [5.43026136875475, -0.00543026317885056, -5.42483653312577], [5.50673395902042, -0.00550673579460722, -5.50123272721008], [5.58320654928608, -0.00558320841036387, -5.5776289212944], [5.65967913955175, -0.00565968102612052, -5.65402511537871]], &quot;color&quot;:&quot;red&quot;, &quot;opacity&quot;:1, &quot;linewidth&quot;:1},{&quot;points&quot;:[[9.99999333333035e-07, 9.99999666666279e-10, -0.000999999500000042], [0.000109094521864832, 1.09094558229687e-07, -0.109094540047302], [0.000217189044396332, 2.17189116792709e-07, -0.217189080594604], [0.000325283566927831, 3.2528367535573e-07, -0.325283621141905], [0.00043337808945933, 4.33378233918751e-07, -0.433378161689207], [0.000541472611990829, 5.41472792481772e-07, -0.541472702236509], [0.000649567134522329, 6.49567351044793e-07, -0.649567242783811], [0.000757661657053828, 7.57661909607815e-07, -0.757661783331113], [0.000865756179585327, 8.65756468170836e-07, -0.865756323878414], [0.000973850702116826, 9.73851026733857e-07, -0.973850864425716], [0.00108194522464833, 1.08194558529688e-06, -1.08194540497302], [0.00119003974717982, 1.1900401438599e-06, -1.19003994552032], [0.00129813426971132, 1.29813470242292e-06, -1.29813448606762], [0.00140622879224282, 1.40622926098594e-06, -1.40622902661492], [0.00151432331477432, 1.51432381954896e-06, -1.51432356716223], [0.00162241783730582, 1.62241837811198e-06, -1.62241810770953], [0.00173051235983732, 1.73051293667501e-06, -1.73051264825683], [0.00183860688236882, 1.83860749523803e-06, -1.83860718880413], [0.00194670140490032, 1.94670205380105e-06, -1.94670172935143], [0.00205479592743182, 2.05479661236407e-06, -2.05479626989873], [0.00216289044996332, 2.16289117092709e-06, -2.16289081044604], [0.00227098497249482, 2.27098572949011e-06, -2.27098535099334], [0.00237907949502632, 2.37908028805313e-06, -2.37907989154064], [0.00248717401755781, 2.48717484661615e-06, -2.48717443208794], [0.00259526854008931, 2.59526940517917e-06, -2.59526897263524], [0.00270336306262081, 2.70336396374219e-06, -2.70336351318254], [0.00281145758515231, 2.81145852230522e-06, -2.81145805372984], [0.00291955210768381, 2.91955308086824e-06, -2.91955259427715], [0.00302764663021531, 3.02764763943126e-06, -3.02764713482445], [0.00313574115274681, 3.13574219799428e-06, -3.13574167537175], [0.00324383567527831, 3.2438367565573e-06, -3.24383621591905], [0.00335193019780981, 3.35193131512032e-06, -3.35193075646635], [0.00346002472034131, 3.46002587368334e-06, -3.46002529701365], [0.00356811924287281, 3.56812043224636e-06, -3.56811983756096], [0.0036762137654043, 3.67621499080938e-06, -3.67621437810826], [0.0037843082879358, 3.7843095493724e-06, -3.78430891865556], [0.0038924028104673, 3.89240410793543e-06, -3.89240345920286], [0.0040004973329988, 4.00049866649845e-06, -4.00049799975016], [0.0041085918555303, 4.10859322506147e-06, -4.10859254029746], [0.0042166863780618, 4.21668778362449e-06, -4.21668708084476], [0.0043247809005933, 4.32478234218751e-06, -4.32478162139207], [0.0044328754231248, 4.43287690075053e-06, -4.43287616193937], [0.0045409699456563, 4.54097145931355e-06, -4.54097070248667], [0.0046490644681878, 4.64906601787657e-06, -4.64906524303397], [0.0047571589907193, 4.75716057643959e-06, -4.75715978358127], [0.00486525351325079, 4.86525513500261e-06, -4.86525432412857], [0.00497334803578229, 4.97334969356564e-06, -4.97334886467588], [0.00508144255831379, 5.08144425212866e-06, -5.08144340522318], [0.00518953708084529, 5.18953881069168e-06, -5.18953794577048], [0.00529763160337679, 5.2976333692547e-06, -5.29763248631778], [0.00540572612590829, 5.40572792781772e-06, -5.40572702686508], [0.00551382064843979, 5.51382248638074e-06, -5.51382156741238], [0.00562191517097129, 5.62191704494376e-06, -5.62191610795969], [0.00573000969350279, 5.73001160350678e-06, -5.73001064850699], [0.00583810421603429, 5.8381061620698e-06, -5.83810518905429], [0.00594619873856578, 5.94620072063282e-06, -5.94619972960159], [0.00605429326109728, 6.05429527919584e-06, -6.05429427014889], [0.00616238778362878, 6.16238983775887e-06, -6.16238881069619], [0.00627048230616028, 6.27048439632189e-06, -6.2704833512435], [0.00637857682869178, 6.37857895488491e-06, -6.3785778917908], [0.00648667135122328, 6.48667351344793e-06, -6.4866724323381], [0.00659476587375478, 6.59476807201095e-06, -6.5947669728854], [0.00670286039628628, 6.70286263057397e-06, -6.7028615134327], [0.00681095491881778, 6.81095718913699e-06, -6.81095605398], [0.00691904944134928, 6.91905174770001e-06, -6.9190505945273], [0.00702714396388078, 7.02714630626303e-06, -7.02714513507461], [0.00713523848641227, 7.13524086482605e-06, -7.13523967562191], [0.00724333300894377, 7.24333542338908e-06, -7.24333421616921], [0.00735142753147527, 7.3514299819521e-06, -7.35142875671651], [0.00745952205400677, 7.45952454051512e-06, -7.45952329726381], [0.00756761657653827, 7.56761909907814e-06, -7.56761783781111], [0.00767571109906977, 7.67571365764116e-06, -7.67571237835842], [0.00778380562160127, 7.78380821620418e-06, -7.78380691890572], [0.00789190014413277, 7.8919027747672e-06, -7.89190145945302], [0.00799999466666427, 7.99999733333022e-06, -7.99999600000032]], &quot;color&quot;:&quot;red&quot;, &quot;opacity&quot;:1, &quot;linewidth&quot;:1},{&quot;points&quot;:[[-4.99999895832787e-10, 9.99999708332933e-07, -0.000999999500000042], [-5.45472859332174e-08, 0.000109094562775294, -0.109094540047302], [-1.08594571970602e-07, 0.000217189125842255, -0.217189080594604], [-1.62641858007987e-07, 0.000325283688909217, -0.325283621141905], [-2.16689144045371e-07, 0.000433378251976178, -0.433378161689207], [-2.70736430082756e-07, 0.000541472815043139, -0.541472702236509], [-3.24783716120141e-07, 0.000649567378110101, -0.649567242783811], [-3.78831002157525e-07, 0.000757661941177062, -0.757661783331113], [-4.3287828819491e-07, 0.000865756504244023, -0.865756323878414], [-4.86925574232295e-07, 0.000973851067310984, -0.973850864425716], [-5.40972860269679e-07, 0.00108194563037795, -1.08194540497302], [-5.95020146307064e-07, 0.00119004019344491, -1.19003994552032], [-6.49067432344448e-07, 0.00129813475651187, -1.29813448606762], [-7.03114718381833e-07, 0.00140622931957883, -1.40622902661492], [-7.57162004419218e-07, 0.00151432388264579, -1.51432356716223], [-8.11209290456602e-07, 0.00162241844571275, -1.62241810770953], [-8.65256576493987e-07, 0.00173051300877971, -1.73051264825683], [-9.19303862531372e-07, 0.00183860757184667, -1.83860718880413], [-9.73351148568756e-07, 0.00194670213491364, -1.94670172935143], [-1.02739843460614e-06, 0.0020547966979806, -2.05479626989873], [-1.08144572064353e-06, 0.00216289126104756, -2.16289081044604], [-1.13549300668091e-06, 0.00227098582411452, -2.27098535099334], [-1.18954029271829e-06, 0.00237908038718148, -2.37907989154064], [-1.24358757875568e-06, 0.00248717495024844, -2.48717443208794], [-1.29763486479306e-06, 0.0025952695133154, -2.59526897263524], [-1.35168215083045e-06, 0.00270336407638236, -2.70336351318254], [-1.40572943686783e-06, 0.00281145863944932, -2.81145805372984], [-1.45977672290522e-06, 0.00291955320251629, -2.91955259427715], [-1.5138240089426e-06, 0.00302764776558325, -3.02764713482445], [-1.56787129497999e-06, 0.00313574232865021, -3.13574167537175], [-1.62191858101737e-06, 0.00324383689171717, -3.24383621591905], [-1.67596586705476e-06, 0.00335193145478413, -3.35193075646635], [-1.73001315309214e-06, 0.00346002601785109, -3.46002529701365], [-1.78406043912952e-06, 0.00356812058091805, -3.56811983756096], [-1.83810772516691e-06, 0.00367621514398501, -3.67621437810826], [-1.89215501120429e-06, 0.00378430970705197, -3.78430891865556], [-1.94620229724168e-06, 0.00389240427011893, -3.89240345920286], [-2.00024958327906e-06, 0.0040004988331859, -4.00049799975016], [-2.05429686931645e-06, 0.00410859339625286, -4.10859254029746], [-2.10834415535383e-06, 0.00421668795931982, -4.21668708084476], [-2.16239144139122e-06, 0.00432478252238678, -4.32478162139207], [-2.2164387274286e-06, 0.00443287708545374, -4.43287616193937], [-2.27048601346599e-06, 0.0045409716485207, -4.54097070248667], [-2.32453329950337e-06, 0.00464906621158766, -4.64906524303397], [-2.37858058554075e-06, 0.00475716077465462, -4.75715978358127], [-2.43262787157814e-06, 0.00486525533772158, -4.86525432412857], [-2.48667515761552e-06, 0.00497334990078854, -4.97334886467588], [-2.54072244365291e-06, 0.00508144446385551, -5.08144340522318], [-2.59476972969029e-06, 0.00518953902692247, -5.18953794577048], [-2.64881701572768e-06, 0.00529763358998943, -5.29763248631778], [-2.70286430176506e-06, 0.00540572815305639, -5.40572702686508], [-2.75691158780245e-06, 0.00551382271612335, -5.51382156741238], [-2.81095887383983e-06, 0.00562191727919031, -5.62191610795969], [-2.86500615987721e-06, 0.00573001184225727, -5.73001064850699], [-2.9190534459146e-06, 0.00583810640532423, -5.83810518905429], [-2.97310073195198e-06, 0.00594620096839119, -5.94619972960159], [-3.02714801798937e-06, 0.00605429553145816, -6.05429427014889], [-3.08119530402675e-06, 0.00616239009452512, -6.16238881069619], [-3.13524259006414e-06, 0.00627048465759208, -6.2704833512435], [-3.18928987610152e-06, 0.00637857922065904, -6.3785778917908], [-3.24333716213891e-06, 0.006486673783726, -6.4866724323381], [-3.29738444817629e-06, 0.00659476834679296, -6.5947669728854], [-3.35143173421368e-06, 0.00670286290985992, -6.7028615134327], [-3.40547902025106e-06, 0.00681095747292688, -6.81095605398], [-3.45952630628844e-06, 0.00691905203599384, -6.9190505945273], [-3.51357359232583e-06, 0.00702714659906081, -7.02714513507461], [-3.56762087836321e-06, 0.00713524116212777, -7.13523967562191], [-3.6216681644006e-06, 0.00724333572519473, -7.24333421616921], [-3.67571545043798e-06, 0.00735143028826169, -7.35142875671651], [-3.72976273647537e-06, 0.00745952485132865, -7.45952329726381], [-3.78381002251275e-06, 0.00756761941439561, -7.56761783781111], [-3.83785730855014e-06, 0.00767571397746257, -7.67571237835842], [-3.89190459458752e-06, 0.00778380854052953, -7.78380691890572], [-3.94595188062491e-06, 0.00789190310359649, -7.89190145945302], [-3.99999916666229e-06, 0.00799999766666345, -7.99999600000032]], &quot;color&quot;:&quot;red&quot;, &quot;opacity&quot;:1, &quot;linewidth&quot;:1},{&quot;points&quot;:[[-9.9999983333291e-07, 5.6655379533891e-22, -0.000999999500000042], [-0.000109094576412116, 6.18079566185273e-20, -0.109094540047302], [-0.000217189152990899, 1.23049359441716e-19, -0.217189080594604], [-0.000325283729569682, 1.84290762264904e-19, -0.325283621141905], [-0.000433378306148465, 2.45532165088092e-19, -0.433378161689207], [-0.000541472882727248, 3.06773567911281e-19, -0.541472702236509], [-0.000649567459306031, 3.68014970734469e-19, -0.649567242783811], [-0.000757662035884814, 4.29256373557657e-19, -0.757661783331113], [-0.000865756612463597, 4.90497776380846e-19, -0.865756323878414], [-0.00097385118904238, 5.51739179204034e-19, -0.973850864425716], [-0.00108194576562116, 6.12980582027222e-19, -1.08194540497302], [-0.00119004034219995, 6.74221984850411e-19, -1.19003994552032], [-0.00129813491877873, 7.35463387673599e-19, -1.29813448606762], [-0.00140622949535751, 7.96704790496788e-19, -1.40622902661492], [-0.0015143240719363, 8.57946193319976e-19, -1.51432356716223], [-0.00162241864851508, 9.19187596143164e-19, -1.62241810770953], [-0.00173051322509386, 9.80428998966353e-19, -1.73051264825683], [-0.00183860780167264, 1.04167040178954e-18, -1.83860718880413], [-0.00194670237825143, 1.10291180461273e-18, -1.94670172935143], [-0.00205479695483021, 1.16415320743592e-18, -2.05479626989873], [-0.00216289153140899, 1.22539461025911e-18, -2.16289081044604], [-0.00227098610798778, 1.28663601308229e-18, -2.27098535099334], [-0.00237908068456656, 1.34787741590548e-18, -2.37907989154064], [-0.00248717526114534, 1.40911881872867e-18, -2.48717443208794], [-0.00259526983772412, 1.47036022155186e-18, -2.59526897263524], [-0.00270336441430291, 1.53160162437505e-18, -2.70336351318254], [-0.00281145899088169, 1.59284302719824e-18, -2.81145805372984], [-0.00291955356746047, 1.65408443002142e-18, -2.91955259427715], [-0.00302764814403926, 1.71532583284461e-18, -3.02764713482445], [-0.00313574272061804, 1.7765672356678e-18, -3.13574167537175], [-0.00324383729719682, 1.83780863849099e-18, -3.24383621591905], [-0.0033519318737756, 1.89905004131418e-18, -3.35193075646635], [-0.00346002645035439, 1.96029144413736e-18, -3.46002529701365], [-0.00356812102693317, 2.02153284696055e-18, -3.56811983756096], [-0.00367621560351195, 2.08277424978374e-18, -3.67621437810826], [-0.00378431018009074, 2.14401565260693e-18, -3.78430891865556], [-0.00389240475666952, 2.20525705543012e-18, -3.89240345920286], [-0.0040004993332483, 2.26649845825331e-18, -4.00049799975016], [-0.00410859390982708, 2.32773986107649e-18, -4.10859254029746], [-0.00421668848640587, 2.38898126389968e-18, -4.21668708084476], [-0.00432478306298465, 2.45022266672287e-18, -4.32478162139207], [-0.00443287763956343, 2.51146406954606e-18, -4.43287616193937], [-0.00454097221614222, 2.57270547236925e-18, -4.54097070248667], [-0.004649066792721, 2.63394687519244e-18, -4.64906524303397], [-0.00475716136929978, 2.69518827801562e-18, -4.75715978358127], [-0.00486525594587856, 2.75642968083881e-18, -4.86525432412857], [-0.00497335052245735, 2.817671083662e-18, -4.97334886467588], [-0.00508144509903613, 2.87891248648519e-18, -5.08144340522318], [-0.00518953967561491, 2.94015388930838e-18, -5.18953794577048], [-0.0052976342521937, 3.00139529213156e-18, -5.29763248631778], [-0.00540572882877248, 3.06263669495475e-18, -5.40572702686508], [-0.00551382340535126, 3.12387809777794e-18, -5.51382156741238], [-0.00562191798193004, 3.18511950060113e-18, -5.62191610795969], [-0.00573001255850883, 3.24636090342432e-18, -5.73001064850699], [-0.00583810713508761, 3.30760230624751e-18, -5.83810518905429], [-0.00594620171166639, 3.36884370907069e-18, -5.94619972960159], [-0.00605429628824517, 3.43008511189388e-18, -6.05429427014889], [-0.00616239086482396, 3.49132651471707e-18, -6.16238881069619], [-0.00627048544140274, 3.55256791754026e-18, -6.2704833512435], [-0.00637858001798152, 3.61380932036345e-18, -6.3785778917908], [-0.00648667459456031, 3.67505072318664e-18, -6.4866724323381], [-0.00659476917113909, 3.73629212600982e-18, -6.5947669728854], [-0.00670286374771787, 3.79753352883301e-18, -6.7028615134327], [-0.00681095832429666, 3.8587749316562e-18, -6.81095605398], [-0.00691905290087544, 3.92001633447939e-18, -6.9190505945273], [-0.00702714747745422, 3.98125773730258e-18, -7.02714513507461], [-0.007135242054033, 4.04249914012576e-18, -7.13523967562191], [-0.00724333663061179, 4.10374054294895e-18, -7.24333421616921], [-0.00735143120719057, 4.16498194577214e-18, -7.35142875671651], [-0.00745952578376935, 4.22622334859533e-18, -7.45952329726381], [-0.00756762036034813, 4.28746475141852e-18, -7.56761783781111], [-0.00767571493692692, 4.34870615424171e-18, -7.67571237835842], [-0.0077838095135057, 4.40994755706489e-18, -7.78380691890572], [-0.00789190409008448, 4.47118895988808e-18, -7.89190145945302], [-0.00799999866666327, 4.53243036271127e-18, -7.99999600000032]], &quot;color&quot;:&quot;red&quot;, &quot;opacity&quot;:1, &quot;linewidth&quot;:1},{&quot;points&quot;:[[-4.9999989583392e-10, -9.99999708332933e-07, -0.000999999500000042], [-5.4547285933341e-08, -0.000109094562775294, -0.109094540047302], [-1.08594571970848e-07, -0.000217189125842255, -0.217189080594604], [-1.62641858008355e-07, -0.000325283688909217, -0.325283621141905], [-2.16689144045862e-07, -0.000433378251976178, -0.433378161689207], [-2.7073643008337e-07, -0.000541472815043139, -0.541472702236509], [-3.24783716120877e-07, -0.000649567378110101, -0.649567242783811], [-3.78831002158384e-07, -0.000757661941177062, -0.757661783331113], [-4.32878288195891e-07, -0.000865756504244023, -0.865756323878414], [-4.86925574233398e-07, -0.000973851067310984, -0.973850864425716], [-5.40972860270905e-07, -0.00108194563037795, -1.08194540497302], [-5.95020146308412e-07, -0.00119004019344491, -1.19003994552032], [-6.49067432345919e-07, -0.00129813475651187, -1.29813448606762], [-7.03114718383426e-07, -0.00140622931957883, -1.40622902661492], [-7.57162004420934e-07, -0.00151432388264579, -1.51432356716223], [-8.11209290458441e-07, -0.00162241844571275, -1.62241810770953], [-8.65256576495948e-07, -0.00173051300877971, -1.73051264825683], [-9.19303862533455e-07, -0.00183860757184667, -1.83860718880413], [-9.73351148570962e-07, -0.00194670213491364, -1.94670172935143], [-1.02739843460847e-06, -0.0020547966979806, -2.05479626989873], [-1.08144572064598e-06, -0.00216289126104756, -2.16289081044604], [-1.13549300668348e-06, -0.00227098582411452, -2.27098535099334], [-1.18954029272099e-06, -0.00237908038718148, -2.37907989154064], [-1.2435875787585e-06, -0.00248717495024844, -2.48717443208794], [-1.297634864796e-06, -0.0025952695133154, -2.59526897263524], [-1.35168215083351e-06, -0.00270336407638236, -2.70336351318254], [-1.40572943687102e-06, -0.00281145863944932, -2.81145805372984], [-1.45977672290853e-06, -0.00291955320251629, -2.91955259427715], [-1.51382400894603e-06, -0.00302764776558325, -3.02764713482445], [-1.56787129498354e-06, -0.00313574232865021, -3.13574167537175], [-1.62191858102105e-06, -0.00324383689171717, -3.24383621591905], [-1.67596586705855e-06, -0.00335193145478413, -3.35193075646635], [-1.73001315309606e-06, -0.00346002601785109, -3.46002529701365], [-1.78406043913357e-06, -0.00356812058091805, -3.56811983756096], [-1.83810772517107e-06, -0.00367621514398501, -3.67621437810826], [-1.89215501120858e-06, -0.00378430970705197, -3.78430891865556], [-1.94620229724609e-06, -0.00389240427011893, -3.89240345920286], [-2.0002495832836e-06, -0.0040004988331859, -4.00049799975016], [-2.0542968693211e-06, -0.00410859339625286, -4.10859254029746], [-2.10834415535861e-06, -0.00421668795931982, -4.21668708084476], [-2.16239144139612e-06, -0.00432478252238678, -4.32478162139207], [-2.21643872743362e-06, -0.00443287708545374, -4.43287616193937], [-2.27048601347113e-06, -0.0045409716485207, -4.54097070248667], [-2.32453329950864e-06, -0.00464906621158766, -4.64906524303397], [-2.37858058554614e-06, -0.00475716077465462, -4.75715978358127], [-2.43262787158365e-06, -0.00486525533772158, -4.86525432412857], [-2.48667515762116e-06, -0.00497334990078854, -4.97334886467588], [-2.54072244365867e-06, -0.00508144446385551, -5.08144340522318], [-2.59476972969617e-06, -0.00518953902692247, -5.18953794577048], [-2.64881701573368e-06, -0.00529763358998943, -5.29763248631778], [-2.70286430177119e-06, -0.00540572815305639, -5.40572702686508], [-2.75691158780869e-06, -0.00551382271612335, -5.51382156741238], [-2.8109588738462e-06, -0.00562191727919031, -5.62191610795969], [-2.86500615988371e-06, -0.00573001184225727, -5.73001064850699], [-2.91905344592121e-06, -0.00583810640532423, -5.83810518905429], [-2.97310073195872e-06, -0.00594620096839119, -5.94619972960159], [-3.02714801799623e-06, -0.00605429553145816, -6.05429427014889], [-3.08119530403374e-06, -0.00616239009452512, -6.16238881069619], [-3.13524259007124e-06, -0.00627048465759208, -6.2704833512435], [-3.18928987610875e-06, -0.00637857922065904, -6.3785778917908], [-3.24333716214626e-06, -0.006486673783726, -6.4866724323381], [-3.29738444818376e-06, -0.00659476834679296, -6.5947669728854], [-3.35143173422127e-06, -0.00670286290985992, -6.7028615134327], [-3.40547902025878e-06, -0.00681095747292688, -6.81095605398], [-3.45952630629628e-06, -0.00691905203599384, -6.9190505945273], [-3.51357359233379e-06, -0.00702714659906081, -7.02714513507461], [-3.5676208783713e-06, -0.00713524116212777, -7.13523967562191], [-3.62166816440881e-06, -0.00724333572519473, -7.24333421616921], [-3.67571545044631e-06, -0.00735143028826169, -7.35142875671651], [-3.72976273648382e-06, -0.00745952485132865, -7.45952329726381], [-3.78381002252133e-06, -0.00756761941439561, -7.56761783781111], [-3.83785730855883e-06, -0.00767571397746257, -7.67571237835842], [-3.89190459459634e-06, -0.00778380854052953, -7.78380691890572], [-3.94595188063385e-06, -0.00789190310359649, -7.89190145945302], [-3.99999916667135e-06, -0.00799999766666345, -7.99999600000032]], &quot;color&quot;:&quot;red&quot;, &quot;opacity&quot;:1, &quot;linewidth&quot;:1},{&quot;points&quot;:[[9.99999333333035e-07, -9.99999666667747e-10, -0.000999999500000042], [0.000109094521864832, -1.09094558229848e-07, -0.109094540047302], [0.000217189044396332, -2.17189116793027e-07, -0.217189080594604], [0.000325283566927831, -3.25283675356207e-07, -0.325283621141905], [0.00043337808945933, -4.33378233919387e-07, -0.433378161689207], [0.000541472611990829, -5.41472792482567e-07, -0.541472702236509], [0.000649567134522329, -6.49567351045746e-07, -0.649567242783811], [0.000757661657053828, -7.57661909608926e-07, -0.757661783331113], [0.000865756179585327, -8.65756468172106e-07, -0.865756323878414], [0.000973850702116826, -9.73851026735286e-07, -0.973850864425716], [0.00108194522464833, -1.08194558529847e-06, -1.08194540497302], [0.00119003974717982, -1.19004014386165e-06, -1.19003994552032], [0.00129813426971132, -1.29813470242482e-06, -1.29813448606762], [0.00140622879224282, -1.406229260988e-06, -1.40622902661492], [0.00151432331477432, -1.51432381955118e-06, -1.51432356716223], [0.00162241783730582, -1.62241837811436e-06, -1.62241810770953], [0.00173051235983732, -1.73051293667754e-06, -1.73051264825683], [0.00183860688236882, -1.83860749524072e-06, -1.83860718880413], [0.00194670140490032, -1.9467020538039e-06, -1.94670172935143], [0.00205479592743182, -2.05479661236708e-06, -2.05479626989873], [0.00216289044996332, -2.16289117093026e-06, -2.16289081044604], [0.00227098497249482, -2.27098572949344e-06, -2.27098535099334], [0.00237907949502632, -2.37908028805662e-06, -2.37907989154064], [0.00248717401755781, -2.4871748466198e-06, -2.48717443208794], [0.00259526854008931, -2.59526940518298e-06, -2.59526897263524], [0.00270336306262081, -2.70336396374616e-06, -2.70336351318254], [0.00281145758515231, -2.81145852230934e-06, -2.81145805372984], [0.00291955210768381, -2.91955308087252e-06, -2.91955259427715], [0.00302764663021531, -3.0276476394357e-06, -3.02764713482445], [0.00313574115274681, -3.13574219799888e-06, -3.13574167537175], [0.00324383567527831, -3.24383675656206e-06, -3.24383621591905], [0.00335193019780981, -3.35193131512524e-06, -3.35193075646635], [0.00346002472034131, -3.46002587368842e-06, -3.46002529701365], [0.00356811924287281, -3.5681204322516e-06, -3.56811983756096], [0.0036762137654043, -3.67621499081478e-06, -3.67621437810826], [0.0037843082879358, -3.78430954937796e-06, -3.78430891865556], [0.0038924028104673, -3.89240410794114e-06, -3.89240345920286], [0.0040004973329988, -4.00049866650432e-06, -4.00049799975016], [0.0041085918555303, -4.1085932250675e-06, -4.10859254029746], [0.0042166863780618, -4.21668778363067e-06, -4.21668708084476], [0.0043247809005933, -4.32478234219385e-06, -4.32478162139207], [0.0044328754231248, -4.43287690075703e-06, -4.43287616193937], [0.0045409699456563, -4.54097145932021e-06, -4.54097070248667], [0.0046490644681878, -4.64906601788339e-06, -4.64906524303397], [0.0047571589907193, -4.75716057644657e-06, -4.75715978358127], [0.00486525351325079, -4.86525513500975e-06, -4.86525432412857], [0.00497334803578229, -4.97334969357293e-06, -4.97334886467588], [0.00508144255831379, -5.08144425213611e-06, -5.08144340522318], [0.00518953708084529, -5.18953881069929e-06, -5.18953794577048], [0.00529763160337679, -5.29763336926247e-06, -5.29763248631778], [0.00540572612590829, -5.40572792782565e-06, -5.40572702686508], [0.00551382064843979, -5.51382248638883e-06, -5.51382156741238], [0.00562191517097129, -5.62191704495201e-06, -5.62191610795969], [0.00573000969350279, -5.73001160351519e-06, -5.73001064850699], [0.00583810421603429, -5.83810616207837e-06, -5.83810518905429], [0.00594619873856578, -5.94620072064155e-06, -5.94619972960159], [0.00605429326109728, -6.05429527920473e-06, -6.05429427014889], [0.00616238778362878, -6.16238983776791e-06, -6.16238881069619], [0.00627048230616028, -6.27048439633109e-06, -6.2704833512435], [0.00637857682869178, -6.37857895489427e-06, -6.3785778917908], [0.00648667135122328, -6.48667351345745e-06, -6.4866724323381], [0.00659476587375478, -6.59476807202063e-06, -6.5947669728854], [0.00670286039628628, -6.7028626305838e-06, -6.7028615134327], [0.00681095491881778, -6.81095718914698e-06, -6.81095605398], [0.00691904944134928, -6.91905174771016e-06, -6.9190505945273], [0.00702714396388078, -7.02714630627334e-06, -7.02714513507461], [0.00713523848641227, -7.13524086483652e-06, -7.13523967562191], [0.00724333300894377, -7.2433354233997e-06, -7.24333421616921], [0.00735142753147527, -7.35142998196288e-06, -7.35142875671651], [0.00745952205400677, -7.45952454052606e-06, -7.45952329726381], [0.00756761657653827, -7.56761909908924e-06, -7.56761783781111], [0.00767571109906977, -7.67571365765242e-06, -7.67571237835842], [0.00778380562160127, -7.7838082162156e-06, -7.78380691890572], [0.00789190014413277, -7.89190277477878e-06, -7.89190145945302], [0.00799999466666427, -7.99999733334196e-06, -7.99999600000032]], &quot;color&quot;:&quot;red&quot;, &quot;opacity&quot;:1, &quot;linewidth&quot;:1},{&quot;points&quot;:[[9.99999333333467e-07, 9.99999666666711e-10, 0.000999999500000042], [4.34132575385349e-05, 4.34132720096265e-08, 0.000999057199155875], [8.57483816828219e-05, 8.57484102656272e-08, 0.000996316820938996], [0.000127929178101949, 1.27929220745025e-07, 0.000991783297411423], [0.000169879730886728, 1.69879787513328e-07, 0.000985464787891841], [0.000211524538514526, 2.11524609022734e-07, 0.000977372664270674], [0.000252788649734953, 2.5278873399787e-07, 0.000967521490543251], [0.000293597798465194, 2.93597896331166e-07, 0.000955928996597899], [0.000333878537452185, 3.33878648745075e-07, 0.00094261604630615], [0.000373558370461085, 3.73558494980592e-07, 0.000927606599972483], [0.000412565882752133, 4.12566020274148e-07, 0.000910927671211185], [0.000450830869611046, 4.50831019888063e-07, 0.000892609278327948], [0.000488284462701663, 4.88284625463216e-07, 0.000872684390293692], [0.00052485925401339, 5.24859428966545e-07, 0.000851188867407867], [0.000560489417180405, 5.60489604010286e-07, 0.000828161396758007], [0.000595110825954251, 5.95111024324605e-07, 0.00080364342259171], [0.000628661169616601, 6.28661379170408e-07, 0.00077767907172635], [0.000661080065124487, 6.61080285484597e-07, 0.000750315074130768], [0.000692309165786136, 6.9230939655595e-07, 0.000721600678821884], [0.000722292266271847, 7.22292507036032e-07, 0.000691587565227581], [0.000750975403770888, 7.50975654096123e-07, 0.000660329750175409], [0.000778306955112377, 7.78307214548132e-07, 0.000627883490674489], [0.000804237729675324, 8.04237997754675e-07, 0.0005943071826656], [0.000828721057920652, 8.28721334161115e-07, 0.000559661255921675], [0.00085171287538582, 8.51713159290225e-07, 0.000524008065287847], [0.000873171801990913, 8.73172093048297e-07, 0.000487411778456817], [0.000893059216513439, 8.93059514199964e-07, 0.000449938260481487], [0.000911339326097808, 9.11339629877705e-07, 0.000411654955232743], [0.000927979230674393, 9.27979540000927e-07, 0.000372630764015714], [0.000942948982172224, 9.42949296488677e-07, 0.000332935921562982], [0.000956221638418753, 9.56221957159427e-07, 0.000292641869627918], [0.000967773311629687, 9.6777363422092e-07, 0.000251821128405664], [0.000977583211401596, 9.77583537262797e-07, 0.000210547166013151], [0.000985633682129955, 9.85634010674647e-07, 0.000168894266263081], [0.000991910234785236, 9.91910565422113e-07, 0.000126937394969835], [0.000996401572989898, 9.96401905123889e-07, 8.47520650279357e-05], [0.000999099613349311, 9.99099946382649e-07, 4.24142005058884e-05], [0.000999999500000042, 9.99999833333342e-07, -1.60812264967664e-19], [0.000999099613349311, 9.99099946382649e-07, -4.24142005058887e-05], [0.000996401572989898, 9.96401905123889e-07, -8.4752065027936e-05], [0.000991910234785236, 9.91910565422113e-07, -0.000126937394969835], [0.000985633682129955, 9.85634010674647e-07, -0.000168894266263081], [0.000977583211401596, 9.77583537262797e-07, -0.000210547166013151], [0.000967773311629687, 9.6777363422092e-07, -0.000251821128405664], [0.000956221638418753, 9.56221957159427e-07, -0.000292641869627918], [0.000942948982172223, 9.42949296488676e-07, -0.000332935921562982], [0.000927979230674393, 9.27979540000927e-07, -0.000372630764015715], [0.000911339326097808, 9.11339629877705e-07, -0.000411654955232743], [0.000893059216513439, 8.93059514199964e-07, -0.000449938260481487], [0.000873171801990913, 8.73172093048297e-07, -0.000487411778456817], [0.00085171287538582, 8.51713159290225e-07, -0.000524008065287848], [0.000828721057920651, 8.28721334161115e-07, -0.000559661255921675], [0.000804237729675324, 8.04237997754674e-07, -0.000594307182665601], [0.000778306955112376, 7.78307214548132e-07, -0.000627883490674489], [0.000750975403770888, 7.50975654096123e-07, -0.000660329750175409], [0.000722292266271846, 7.22292507036031e-07, -0.000691587565227582], [0.000692309165786135, 6.9230939655595e-07, -0.000721600678821885], [0.000661080065124486, 6.61080285484596e-07, -0.000750315074130769], [0.000628661169616601, 6.28661379170408e-07, -0.00077767907172635], [0.00059511082595425, 5.95111024324605e-07, -0.000803643422591711], [0.000560489417180404, 5.60489604010285e-07, -0.000828161396758008], [0.000524859254013389, 5.24859428966544e-07, -0.000851188867407868], [0.000488284462701662, 4.88284625463214e-07, -0.000872684390293693], [0.000450830869611045, 4.50831019888061e-07, -0.000892609278327948], [0.000412565882752131, 4.12566020274147e-07, -0.000910927671211186], [0.000373558370461084, 3.7355849498059e-07, -0.000927606599972483], [0.000333878537452183, 3.33878648745074e-07, -0.000942616046306151], [0.000293597798465192, 2.93597896331164e-07, -0.0009559289965979], [0.000252788649734952, 2.52788733997869e-07, -0.000967521490543252], [0.000211524538514524, 2.11524609022732e-07, -0.000977372664270675], [0.000169879730886726, 1.69879787513326e-07, -0.000985464787891841], [0.000127929178101947, 1.27929220745023e-07, -0.000991783297411423], [8.57483816828198e-05, 8.57484102656252e-08, -0.000996316820938996], [4.34132575385327e-05, 4.34132720096243e-08, -0.000999057199155875], [9.99999333331259e-07, 9.99999666664503e-10, -0.000999999500000042]], &quot;color&quot;:&quot;red&quot;, &quot;opacity&quot;:1, &quot;linewidth&quot;:1},{&quot;points&quot;:[[-4.99999895833003e-10, 9.99999708333365e-07, 0.000999999500000042], [-2.17066387181283e-08, 4.34132738185129e-05, 0.000999057199155875], [-4.28742104920608e-08, 8.57484138384778e-05, 0.000996316820938996], [-6.39646183680465e-08, 0.00012792922607541, 0.000991783297411423], [-8.49399043740944e-08, 0.000169879794591653, 0.000985464787891841], [-1.05762317731585e-07, 0.000211524617836259, 0.000977372664270674], [-1.26394382798147e-07, 0.000252788744530735, 0.000967521490543251], [-1.46798966515354e-07, 0.000293597908564412, 0.000955928996597899], [-1.66939345239842e-07, 0.000333878662656686, 0.00094261604630615], [-1.86779270837578e-07, 0.00037355851054553, 0.000927606599972483], [-2.06283035922314e-07, 0.0004125660374644, 0.000910927671211185], [-2.25415538120821e-07, 0.000450831038672689, 0.000892609278327948], [-2.44142343249235e-07, 0.000488284645808409, 0.000872684390293692], [-2.62429747286813e-07, 0.000524859450835688, 0.000851188867407867], [-2.80244837035557e-07, 0.00056048962736402, 0.000828161396758007], [-2.97555549356544e-07, 0.000595111049120899, 0.00080364342259171], [-3.14330728876332e-07, 0.000628661405364633, 0.00077767907172635], [-3.30540184059597e-07, 0.000661080313029609, 0.000750315074130768], [-3.46154741547083e-07, 0.000692309425402176, 0.000721600678821884], [-3.61146298661058e-07, 0.000722292537131554, 0.000691587565227581], [-3.75487873983791e-07, 0.000750975685386776, 0.000660329750175409], [-3.89153655918009e-07, 0.0007783072469776, 0.000627883490674489], [-4.02119049141945e-07, 0.000804238031264592, 0.0005943071826656], [-4.14360718875366e-07, 0.000828721368691171, 0.000559661255921675], [-4.25856632876903e-07, 0.000851713194778275, 0.000524008065287847], [-4.36586101097115e-07, 0.000873172129430469, 0.000487411778456817], [-4.46529812915905e-07, 0.000893059551410778, 0.000449938260481487], [-4.55669871897277e-07, 0.000911339667850191, 0.000411654955232743], [-4.63989827998877e-07, 0.000927979578666742, 0.000372630764015714], [-4.71474707178357e-07, 0.000942949335778232, 0.000332935921562982], [-4.78111038343269e-07, 0.00095622199700201, 0.000292641869627918], [-4.83886877595991e-07, 0.000967773674544822, 0.000251821128405664], [-4.88791829730045e-07, 0.000977583577995446, 0.000210547166013151], [-4.92817066939122e-07, 0.000985634051742732, 0.000168894266263081], [-4.95955344705138e-07, 0.000991910606751721, 0.000126937394969835], [-4.98201014836733e-07, 0.000996401946640636, 8.47520650279357e-05], [-4.9955003563474e-07, 0.000999099988011815, 4.24142005058884e-05], [-4.99999979166329e-07, 0.000999999875000003, -1.60812264967664e-19], [-4.9955003563474e-07, 0.000999099988011815, -4.24142005058887e-05], [-4.98201014836733e-07, 0.000996401946640636, -8.4752065027936e-05], [-4.95955344705138e-07, 0.000991910606751721, -0.000126937394969835], [-4.92817066939122e-07, 0.000985634051742732, -0.000168894266263081], [-4.88791829730045e-07, 0.000977583577995446, -0.000210547166013151], [-4.83886877595991e-07, 0.000967773674544822, -0.000251821128405664], [-4.78111038343269e-07, 0.00095622199700201, -0.000292641869627918], [-4.71474707178356e-07, 0.000942949335778232, -0.000332935921562982], [-4.63989827998877e-07, 0.000927979578666742, -0.000372630764015715], [-4.55669871897277e-07, 0.000911339667850191, -0.000411654955232743], [-4.46529812915905e-07, 0.000893059551410778, -0.000449938260481487], [-4.36586101097115e-07, 0.000873172129430469, -0.000487411778456817], [-4.25856632876903e-07, 0.000851713194778275, -0.000524008065287848], [-4.14360718875366e-07, 0.000828721368691171, -0.000559661255921675], [-4.02119049141945e-07, 0.000804238031264592, -0.000594307182665601], [-3.89153655918009e-07, 0.0007783072469776, -0.000627883490674489], [-3.75487873983791e-07, 0.000750975685386776, -0.000660329750175409], [-3.61146298661058e-07, 0.000722292537131553, -0.000691587565227582], [-3.46154741547082e-07, 0.000692309425402175, -0.000721600678821885], [-3.30540184059597e-07, 0.000661080313029609, -0.000750315074130769], [-3.14330728876331e-07, 0.000628661405364633, -0.00077767907172635], [-2.97555549356544e-07, 0.000595111049120898, -0.000803643422591711], [-2.80244837035557e-07, 0.000560489627364019, -0.000828161396758008], [-2.62429747286812e-07, 0.000524859450835687, -0.000851188867407868], [-2.44142343249234e-07, 0.000488284645808408, -0.000872684390293693], [-2.2541553812082e-07, 0.000450831038672688, -0.000892609278327948], [-2.06283035922313e-07, 0.000412566037464398, -0.000910927671211186], [-1.86779270837577e-07, 0.000373558510545528, -0.000927606599972483], [-1.66939345239842e-07, 0.000333878662656684, -0.000942616046306151], [-1.46798966515353e-07, 0.000293597908564411, -0.0009559289965979], [-1.26394382798146e-07, 0.000252788744530733, -0.000967521490543252], [-1.05762317731584e-07, 0.000211524617836258, -0.000977372664270675], [-8.49399043740934e-08, 0.000169879794591651, -0.000985464787891841], [-6.39646183680455e-08, 0.000127929226075408, -0.000991783297411423], [-4.28742104920598e-08, 8.57484138384757e-05, -0.000996316820938996], [-2.17066387181273e-08, 4.34132738185107e-05, -0.000999057199155875], [-4.99999895831899e-10, 9.99999708331157e-07, -0.000999999500000042]], &quot;color&quot;:&quot;red&quot;, &quot;opacity&quot;:1, &quot;linewidth&quot;:1},{&quot;points&quot;:[[-9.99999833333342e-07, 5.66553795339154e-22, 0.000999999500000042], [-4.34132792451727e-05, 2.45959622237979e-20, 0.000999057199155875], [-8.57484245570306e-05, 4.8581103473989e-20, 0.000996316820938996], [-0.000127929242066565, 7.24788097074746e-20, 0.000991783297411423], [-0.000169879815826629, 9.62460704491043e-20, 0.000985464787891841], [-0.000211524644276839, 1.19840109996159e-19, 0.000977372664270674], [-0.000252788776129331, 1.43218464404955e-19, 0.000967521490543251], [-0.000293597945264155, 1.66339057916359e-19, 0.000955928996597899], [-0.000333878704391523, 1.89160278682649e-19, 0.00094261604630615], [-0.000373558557240348, 2.11641053659445e-19, 0.000927606599972483], [-0.00041256608903516, 2.3374092252792e-19, 0.000910927671211185], [-0.000450831095026575, 2.55420110514229e-19, 0.000892609278327948], [-0.000488284706843996, 2.7663959997513e-19, 0.000872684390293692], [-0.000524859516443126, 2.97361200620924e-19, 0.000851188867407867], [-0.000560489697425231, 3.17547618249359e-19, 0.000828161396758007], [-0.000595111123509788, 3.37162521866769e-19, 0.00080364342259171], [-0.000628661483947317, 3.56170609075663e-19, 0.00077767907172635], [-0.000661080395664657, 3.74537669611063e-19, 0.000750315074130768], [-0.000692309511940863, 3.92230646911265e-19, 0.000721600678821884], [-0.00072229262741813, 4.09217697612178e-19, 0.000691587565227581], [-0.000750975779258747, 4.25468248858193e-19, 0.000660329750175409], [-0.000778307344266016, 4.40953053326421e-19, 0.000627883490674489], [-0.000804238131794357, 4.55644241865267e-19, 0.0005943071826656], [-0.000828721472281353, 4.69515373652611e-19, 0.000559661255921675], [-0.000851713301242435, 4.82541483783319e-19, 0.000524008065287847], [-0.000873172238576996, 4.94699128200433e-19, 0.000487411778456817], [-0.000893059663043233, 5.05966425889184e-19, 0.000449938260481487], [-0.000911339781767661, 5.16323098257871e-19, 0.000411654955232743], [-0.000927979694664202, 5.25750505634753e-19, 0.000372630764015714], [-0.000942949453646911, 5.34231680815248e-19, 0.000332935921562982], [-0.000956222116529772, 5.4175135959907e-19, 0.000292641869627918], [-0.000967773795516544, 5.4829600826234e-19, 0.000251821128405664], [-0.000977583700193406, 5.53853847915238e-19, 0.000210547166013151], [-0.000985634174947001, 5.58414875701341e-19, 0.000168894266263081], [-0.00099191073074056, 5.61970882800508e-19, 0.000126937394969835], [-0.000996402071190893, 5.64515469202901e-19, 8.47520650279357e-05], [-0.000999100112899326, 5.66044055227562e-19, 4.24142005058884e-05], [-0.001, 5.66553889764798e-19, -1.60812264967664e-19], [-0.000999100112899326, 5.66044055227562e-19, -4.24142005058887e-05], [-0.000996402071190893, 5.64515469202901e-19, -8.4752065027936e-05], [-0.00099191073074056, 5.61970882800508e-19, -0.000126937394969835], [-0.000985634174947001, 5.58414875701341e-19, -0.000168894266263081], [-0.000977583700193406, 5.53853847915238e-19, -0.000210547166013151], [-0.000967773795516544, 5.4829600826234e-19, -0.000251821128405664], [-0.000956222116529772, 5.4175135959907e-19, -0.000292641869627918], [-0.000942949453646911, 5.34231680815248e-19, -0.000332935921562982], [-0.000927979694664202, 5.25750505634753e-19, -0.000372630764015715], [-0.000911339781767661, 5.1632309825787e-19, -0.000411654955232743], [-0.000893059663043233, 5.05966425889184e-19, -0.000449938260481487], [-0.000873172238576996, 4.94699128200433e-19, -0.000487411778456817], [-0.000851713301242435, 4.82541483783319e-19, -0.000524008065287848], [-0.000828721472281353, 4.69515373652611e-19, -0.000559661255921675], [-0.000804238131794356, 4.55644241865267e-19, -0.000594307182665601], [-0.000778307344266016, 4.40953053326421e-19, -0.000627883490674489], [-0.000750975779258746, 4.25468248858193e-19, -0.000660329750175409], [-0.00072229262741813, 4.09217697612177e-19, -0.000691587565227582], [-0.000692309511940862, 3.92230646911264e-19, -0.000721600678821885], [-0.000661080395664656, 3.74537669611063e-19, -0.000750315074130769], [-0.000628661483947316, 3.56170609075662e-19, -0.00077767907172635], [-0.000595111123509787, 3.37162521866769e-19, -0.000803643422591711], [-0.00056048969742523, 3.17547618249358e-19, -0.000828161396758008], [-0.000524859516443125, 2.97361200620924e-19, -0.000851188867407868], [-0.000488284706843995, 2.76639599975129e-19, -0.000872684390293693], [-0.000450831095026574, 2.55420110514229e-19, -0.000892609278327948], [-0.000412566089035158, 2.33740922527919e-19, -0.000910927671211186], [-0.000373558557240347, 2.11641053659444e-19, -0.000927606599972483], [-0.000333878704391522, 1.89160278682648e-19, -0.000942616046306151], [-0.000293597945264153, 1.66339057916358e-19, -0.0009559289965979], [-0.000252788776129329, 1.43218464404954e-19, -0.000967521490543252], [-0.000211524644276838, 1.19840109996158e-19, -0.000977372664270675], [-0.000169879815826627, 9.62460704491032e-20, -0.000985464787891841], [-0.000127929242066563, 7.24788097074735e-20, -0.000991783297411423], [-8.57484245570285e-05, 4.85811034739878e-20, -0.000996316820938996], [-4.34132792451705e-05, 2.45959622237967e-20, -0.000999057199155875], [-9.99999833331134e-07, 5.66553795337903e-22, -0.000999999500000042]], &quot;color&quot;:&quot;red&quot;, &quot;opacity&quot;:1, &quot;linewidth&quot;:1},{&quot;points&quot;:[[-4.99999895834136e-10, -9.99999708333365e-07, 0.000999999500000042], [-2.17066387181775e-08, -4.34132738185129e-05, 0.000999057199155875], [-4.2874210492158e-08, -8.57484138384778e-05, 0.000996316820938996], [-6.39646183681915e-08, -0.00012792922607541, 0.000991783297411423], [-8.49399043742869e-08, -0.000169879794591653, 0.000985464787891841], [-1.05762317731824e-07, -0.000211524617836259, 0.000977372664270674], [-1.26394382798434e-07, -0.000252788744530735, 0.000967521490543251], [-1.46798966515687e-07, -0.000293597908564412, 0.000955928996597899], [-1.66939345240221e-07, -0.000333878662656686, 0.00094261604630615], [-1.86779270838001e-07, -0.00037355851054553, 0.000927606599972483], [-2.06283035922781e-07, -0.0004125660374644, 0.000910927671211185], [-2.25415538121331e-07, -0.000450831038672689, 0.000892609278327948], [-2.44142343249788e-07, -0.000488284645808409, 0.000872684390293692], [-2.62429747287407e-07, -0.000524859450835688, 0.000851188867407867], [-2.80244837036192e-07, -0.00056048962736402, 0.000828161396758007], [-2.97555549357219e-07, -0.000595111049120899, 0.00080364342259171], [-3.14330728877044e-07, -0.000628661405364633, 0.00077767907172635], [-3.30540184060346e-07, -0.000661080313029609, 0.000750315074130768], [-3.46154741547867e-07, -0.000692309425402176, 0.000721600678821884], [-3.61146298661876e-07, -0.000722292537131554, 0.000691587565227581], [-3.75487873984642e-07, -0.000750975685386776, 0.000660329750175409], [-3.89153655918891e-07, -0.0007783072469776, 0.000627883490674489], [-4.02119049142857e-07, -0.000804238031264592, 0.0005943071826656], [-4.14360718876305e-07, -0.000828721368691171, 0.000559661255921675], [-4.25856632877868e-07, -0.000851713194778275, 0.000524008065287847], [-4.36586101098104e-07, -0.000873172129430469, 0.000487411778456817], [-4.46529812916917e-07, -0.000893059551410778, 0.000449938260481487], [-4.5566987189831e-07, -0.000911339667850191, 0.000411654955232743], [-4.63989827999928e-07, -0.000927979578666742, 0.000372630764015714], [-4.71474707179425e-07, -0.000942949335778232, 0.000332935921562982], [-4.78111038344352e-07, -0.00095622199700201, 0.000292641869627918], [-4.83886877597087e-07, -0.000967773674544822, 0.000251821128405664], [-4.88791829731153e-07, -0.000977583577995446, 0.000210547166013151], [-4.92817066940239e-07, -0.000985634051742732, 0.000168894266263081], [-4.95955344706262e-07, -0.000991910606751721, 0.000126937394969835], [-4.98201014837862e-07, -0.000996401946640636, 8.47520650279357e-05], [-4.99550035635872e-07, -0.000999099988011815, 4.24142005058884e-05], [-4.99999979167462e-07, -0.000999999875000003, -1.60812264967664e-19], [-4.99550035635872e-07, -0.000999099988011815, -4.24142005058887e-05], [-4.98201014837862e-07, -0.000996401946640636, -8.4752065027936e-05], [-4.95955344706262e-07, -0.000991910606751721, -0.000126937394969835], [-4.92817066940239e-07, -0.000985634051742732, -0.000168894266263081], [-4.88791829731153e-07, -0.000977583577995446, -0.000210547166013151], [-4.83886877597087e-07, -0.000967773674544822, -0.000251821128405664], [-4.78111038344352e-07, -0.00095622199700201, -0.000292641869627918], [-4.71474707179425e-07, -0.000942949335778232, -0.000332935921562982], [-4.63989827999928e-07, -0.000927979578666742, -0.000372630764015715], [-4.5566987189831e-07, -0.000911339667850191, -0.000411654955232743], [-4.46529812916917e-07, -0.000893059551410778, -0.000449938260481487], [-4.36586101098104e-07, -0.000873172129430469, -0.000487411778456817], [-4.25856632877868e-07, -0.000851713194778275, -0.000524008065287848], [-4.14360718876305e-07, -0.000828721368691171, -0.000559661255921675], [-4.02119049142856e-07, -0.000804238031264592, -0.000594307182665601], [-3.8915365591889e-07, -0.0007783072469776, -0.000627883490674489], [-3.75487873984641e-07, -0.000750975685386776, -0.000660329750175409], [-3.61146298661876e-07, -0.000722292537131553, -0.000691587565227582], [-3.46154741547867e-07, -0.000692309425402175, -0.000721600678821885], [-3.30540184060346e-07, -0.000661080313029609, -0.000750315074130769], [-3.14330728877044e-07, -0.000628661405364633, -0.00077767907172635], [-2.97555549357218e-07, -0.000595111049120898, -0.000803643422591711], [-2.80244837036192e-07, -0.000560489627364019, -0.000828161396758008], [-2.62429747287407e-07, -0.000524859450835687, -0.000851188867407868], [-2.44142343249787e-07, -0.000488284645808408, -0.000872684390293693], [-2.25415538121331e-07, -0.000450831038672688, -0.000892609278327948], [-2.0628303592278e-07, -0.000412566037464398, -0.000910927671211186], [-1.86779270838001e-07, -0.000373558510545528, -0.000927606599972483], [-1.6693934524022e-07, -0.000333878662656684, -0.000942616046306151], [-1.46798966515686e-07, -0.000293597908564411, -0.0009559289965979], [-1.26394382798433e-07, -0.000252788744530733, -0.000967521490543252], [-1.05762317731824e-07, -0.000211524617836258, -0.000977372664270675], [-8.49399043742859e-08, -0.000169879794591651, -0.000985464787891841], [-6.39646183681905e-08, -0.000127929226075408, -0.000991783297411423], [-4.28742104921569e-08, -8.57484138384757e-05, -0.000996316820938996], [-2.17066387181765e-08, -4.34132738185107e-05, -0.000999057199155875], [-4.99999895833032e-10, -9.99999708331157e-07, -0.000999999500000042]], &quot;color&quot;:&quot;red&quot;, &quot;opacity&quot;:1, &quot;linewidth&quot;:1},{&quot;points&quot;:[[9.99999333333467e-07, -9.99999666668178e-10, 0.000999999500000042], [4.34132575385349e-05, -4.34132720096902e-08, 0.000999057199155875], [8.57483816828219e-05, -8.57484102657531e-08, 0.000996316820938996], [0.000127929178101949, -1.27929220745213e-07, 0.000991783297411423], [0.000169879730886728, -1.69879787513577e-07, 0.000985464787891841], [0.000211524538514526, -2.11524609023044e-07, 0.000977372664270674], [0.000252788649734953, -2.52788733998241e-07, 0.000967521490543251], [0.000293597798465194, -2.93597896331597e-07, 0.000955928996597899], [0.000333878537452185, -3.33878648745565e-07, 0.00094261604630615], [0.000373558370461085, -3.7355849498114e-07, 0.000927606599972483], [0.000412565882752133, -4.12566020274754e-07, 0.000910927671211185], [0.000450830869611046, -4.50831019888724e-07, 0.000892609278327948], [0.000488284462701663, -4.88284625463932e-07, 0.000872684390293692], [0.00052485925401339, -5.24859428967315e-07, 0.000851188867407867], [0.000560489417180405, -5.60489604011108e-07, 0.000828161396758007], [0.000595110825954251, -5.95111024325479e-07, 0.00080364342259171], [0.000628661169616601, -6.28661379171331e-07, 0.00077767907172635], [0.000661080065124487, -6.61080285485567e-07, 0.000750315074130768], [0.000692309165786136, -6.92309396556966e-07, 0.000721600678821884], [0.000722292266271847, -7.22292507037092e-07, 0.000691587565227581], [0.000750975403770888, -7.50975654097225e-07, 0.000660329750175409], [0.000778306955112377, -7.78307214549274e-07, 0.000627883490674489], [0.000804237729675324, -8.04237997755855e-07, 0.0005943071826656], [0.000828721057920652, -8.28721334162331e-07, 0.000559661255921675], [0.00085171287538582, -8.51713159291475e-07, 0.000524008065287847], [0.000873171801990913, -8.73172093049578e-07, 0.000487411778456817], [0.000893059216513439, -8.93059514201274e-07, 0.000449938260481487], [0.000911339326097808, -9.11339629879042e-07, 0.000411654955232743], [0.000927979230674393, -9.27979540002289e-07, 0.000372630764015714], [0.000942948982172224, -9.4294929649006e-07, 0.000332935921562982], [0.000956221638418753, -9.5622195716083e-07, 0.000292641869627918], [0.000967773311629687, -9.6777363422234e-07, 0.000251821128405664], [0.000977583211401596, -9.77583537264232e-07, 0.000210547166013151], [0.000985633682129955, -9.85634010676093e-07, 0.000168894266263081], [0.000991910234785236, -9.91910565423569e-07, 0.000126937394969835], [0.000996401572989898, -9.96401905125351e-07, 8.47520650279357e-05], [0.000999099613349311, -9.99099946384115e-07, 4.24142005058884e-05], [0.000999999500000042, -9.99999833334809e-07, -1.60812264967664e-19], [0.000999099613349311, -9.99099946384115e-07, -4.24142005058887e-05], [0.000996401572989898, -9.96401905125351e-07, -8.4752065027936e-05], [0.000991910234785236, -9.91910565423569e-07, -0.000126937394969835], [0.000985633682129955, -9.85634010676093e-07, -0.000168894266263081], [0.000977583211401596, -9.77583537264232e-07, -0.000210547166013151], [0.000967773311629687, -9.6777363422234e-07, -0.000251821128405664], [0.000956221638418753, -9.5622195716083e-07, -0.000292641869627918], [0.000942948982172223, -9.4294929649006e-07, -0.000332935921562982], [0.000927979230674393, -9.27979540002289e-07, -0.000372630764015715], [0.000911339326097808, -9.11339629879042e-07, -0.000411654955232743], [0.000893059216513439, -8.93059514201274e-07, -0.000449938260481487], [0.000873171801990913, -8.73172093049578e-07, -0.000487411778456817], [0.00085171287538582, -8.51713159291475e-07, -0.000524008065287848], [0.000828721057920651, -8.28721334162331e-07, -0.000559661255921675], [0.000804237729675324, -8.04237997755854e-07, -0.000594307182665601], [0.000778306955112376, -7.78307214549274e-07, -0.000627883490674489], [0.000750975403770888, -7.50975654097225e-07, -0.000660329750175409], [0.000722292266271846, -7.22292507037091e-07, -0.000691587565227582], [0.000692309165786135, -6.92309396556965e-07, -0.000721600678821885], [0.000661080065124486, -6.61080285485566e-07, -0.000750315074130769], [0.000628661169616601, -6.2866137917133e-07, -0.00077767907172635], [0.00059511082595425, -5.95111024325478e-07, -0.000803643422591711], [0.000560489417180404, -5.60489604011107e-07, -0.000828161396758008], [0.000524859254013389, -5.24859428967314e-07, -0.000851188867407868], [0.000488284462701662, -4.88284625463931e-07, -0.000872684390293693], [0.000450830869611045, -4.50831019888723e-07, -0.000892609278327948], [0.000412565882752131, -4.12566020274752e-07, -0.000910927671211186], [0.000373558370461084, -3.73558494981139e-07, -0.000927606599972483], [0.000333878537452183, -3.33878648745563e-07, -0.000942616046306151], [0.000293597798465192, -2.93597896331595e-07, -0.0009559289965979], [0.000252788649734952, -2.52788733998239e-07, -0.000967521490543252], [0.000211524538514524, -2.11524609023042e-07, -0.000977372664270675], [0.000169879730886726, -1.69879787513575e-07, -0.000985464787891841], [0.000127929178101947, -1.27929220745211e-07, -0.000991783297411423], [8.57483816828198e-05, -8.5748410265751e-08, -0.000996316820938996], [4.34132575385327e-05, -4.3413272009688e-08, -0.000999057199155875], [9.99999333331259e-07, -9.9999966666597e-10, -0.000999999500000042]], &quot;color&quot;:&quot;red&quot;, &quot;opacity&quot;:1, &quot;linewidth&quot;:1},{&quot;points&quot;:[[0.00200074866616693, 2.00074933308342e-06, 2.00074899962508], [0.0868590750202236, 8.68591039732602e-05, 1.99886369121112], [0.171561074651906, 0.000171561131838954, 1.9933808794937], [0.255954303087474, 0.000255954388405609, 1.9843104322959], [0.339886871571622, 0.000339886984867291, 1.9716686743746], [0.423207720432938, 0.000423207861502235, 1.95547835803955], [0.505766890957208, 0.000505767059546239, 1.93576862220441], [0.587415795279237, 0.000587415991084581, 1.91257493994325], [0.668007483807459, 0.000668007706476709, 1.88593905464703], [0.747396909700016, 0.000747397158832419, 1.85590890489494], [0.825441189916329, 0.000825441465063503, 1.82253853817578], [0.901999862374301, 0.000902000163041042, 1.78588801361464], [0.976935138750352, 0.000976935464395528, 1.7460232938801], [1.05011215246729, 0.00105011250250481, 1.70301612646629], [1.1213992014237, 0.00112139957522358, 1.65694391456358], [1.19066798502797, 0.00119066838191745, 1.60788957775036], [1.25779383511042, 0.00125779425437519, 1.55594140275649], [1.32265594029782, 0.00132265638118331, 1.50119288456713], [1.38513756344661, 0.00138513802515932, 1.44374255815288], [1.4451262517434, 0.00144512673345234, 1.38369382112908], [1.5025140390946, 0.00150251453993282, 1.32115474766345], [1.55719764044109, 0.00155719815950718, 1.25623789396698], [1.6090786376479, 0.00160907917400767, 1.1890600957182], [1.65806365663474, 0.00165806420932285, 1.11974225778529], [1.70406453542818, 0.00170406510344992, 1.04840913662466], [1.74699848283332, 0.00174699906516638, 0.975189115747477], [1.78678822743926, 0.00178678882303558, 0.900213974658335], [1.82336215669019, 0.00182336276447782, 0.823618651681911], [1.85665444577179, 0.00185665506465685, 0.745541001104441], [1.88660517608108, 0.00188660580494972, 0.666121545067136], [1.91316044306632, 0.00191316108078672, 0.585503220658057], [1.9362724532431, 0.00193627309866751, 0.503831122657632], [1.95589961021174, 0.00195590026217854, 0.421252242400812], [1.97200658952151, 0.0019720072468573, 0.337915203225859], [1.98456440224656, 0.00198456506376829, 0.253969992985897], [1.99355044715954, 0.00199355111167662, 0.169567694104642], [1.99894855140863, 0.00199894921772509, 0.0848602116621562], [2.00074899962508, 0.00200074966654168, -3.21745139134053e-16], [1.99894855140863, 0.00199894921772509, -0.0848602116621569], [1.99355044715954, 0.00199355111167662, -0.169567694104643], [1.98456440224656, 0.00198456506376829, -0.253969992985898], [1.97200658952151, 0.0019720072468573, -0.33791520322586], [1.95589961021174, 0.00195590026217854, -0.421252242400813], [1.9362724532431, 0.00193627309866751, -0.503831122657633], [1.91316044306632, 0.00191316108078672, -0.585503220658058], [1.88660517608108, 0.00188660580494972, -0.666121545067136], [1.85665444577179, 0.00185665506465685, -0.745541001104441], [1.82336215669019, 0.00182336276447782, -0.823618651681911], [1.78678822743926, 0.00178678882303558, -0.900213974658335], [1.74699848283332, 0.00174699906516638, -0.975189115747477], [1.70406453542818, 0.00170406510344992, -1.04840913662466], [1.65806365663474, 0.00165806420932285, -1.11974225778529], [1.6090786376479, 0.00160907917400766, -1.1890600957182], [1.55719764044109, 0.00155719815950717, -1.25623789396698], [1.5025140390946, 0.00150251453993282, -1.32115474766345], [1.4451262517434, 0.00144512673345234, -1.38369382112908], [1.38513756344661, 0.00138513802515932, -1.44374255815289], [1.32265594029782, 0.00132265638118331, -1.50119288456714], [1.25779383511041, 0.00125779425437519, -1.5559414027565], [1.19066798502797, 0.00119066838191745, -1.60788957775037], [1.12139920142369, 0.00112139957522358, -1.65694391456358], [1.05011215246729, 0.00105011250250481, -1.70301612646629], [0.976935138750349, 0.000976935464395526, -1.74602329388011], [0.901999862374298, 0.000902000163041039, -1.78588801361464], [0.825441189916326, 0.0008254414650635, -1.82253853817578], [0.747396909700013, 0.000747397158832416, -1.85590890489495], [0.668007483807456, 0.000668007706476706, -1.88593905464703], [0.587415795279234, 0.000587415991084577, -1.91257493994325], [0.505766890957204, 0.000505767059546236, -1.93576862220441], [0.423207720432934, 0.000423207861502231, -1.95547835803955], [0.339886871571618, 0.000339886984867287, -1.9716686743746], [0.25595430308747, 0.000255954388405605, -1.9843104322959], [0.171561074651902, 0.00017156113183895, -1.9933808794937], [0.0868590750202193, 8.68591039732559e-05, -1.99886369121112], [0.00200074866616252, 2.000749333079e-06, -2.00074899962508]], &quot;color&quot;:&quot;red&quot;, &quot;opacity&quot;:1, &quot;linewidth&quot;:1},{&quot;points&quot;:[[-1.00037479158788e-06, 0.00200074941644798, 2.00074899962508], [-4.34295574152953e-05, 0.0868591075923896, 1.99886369121112], [-8.57805766419907e-05, 0.171561138987334, 1.9933808794937], [-0.000127977210199869, 0.255954399070376, 1.9843104322959], [-0.000169943513676469, 0.339886999029249, 1.9716686743746], [-0.000211603957201468, 0.423207879135896, 1.95547835803955], [-0.000252883561383393, 0.505767080619867, 1.93576862220441], [-0.000293708032255595, 0.587416015560248, 1.91257493994325], [-0.000334003894988615, 0.668007734310364, 1.88593905464703], [-0.000373698626128284, 0.747397189973969, 1.85590890489494], [-0.000412720784121569, 0.825441499456898, 1.82253853817578], [-0.000451000137895232, 0.902000200624383, 1.78588801361464], [-0.000488467793255907, 0.976935505101174, 1.7460232938801], [-0.00052505631688409, 1.0501125462595, 1.70301612646629], [-0.000560699857698891, 1.12139962194856, 1.65694391456358], [-0.000595334265375106, 1.19066843152864, 1.60788957775036], [-0.000628897205799321, 1.25779430678329, 1.55594140275649], [-0.000661328273257238, 1.32265643629399, 1.50119288456713], [-0.000692569099150326, 1.3851380828734, 1.44374255815288], [-0.000722563457046112, 1.44512679366596, 1.38369382112908], [-0.000751257363873069, 1.50251460253759, 1.32115474766345], [-0.000778599177077956, 1.55719822439043, 1.25623789396698], [-0.000804539687570747, 1.60907924105263, 1.1890600957182], [-0.000829032208289888, 1.65806427840886, 1.11974225778529], [-0.000852032658228463, 1.70406517445263, 1.04840913662466], [-0.000873499641770052, 1.74699913795801, 0.975189115747477], [-0.000893394523191497, 1.78678889748511, 0.900213974658335], [-0.000911681496198477, 1.82336284045127, 0.823618651681911], [-0.000928327648368753, 1.85665514201748, 0.745541001104441], [-0.000943303020387097, 1.8866058835583, 0.666121545067136], [-0.000956580659965295, 1.91316116050177, 0.585503220658057], [-0.000968136670350179, 1.93627317934555, 0.503831122657632], [-0.000977950253332388, 1.95590034367439, 0.421252242400812], [-0.000986003746678449, 1.97200732902427, 0.337915203225859], [-0.000992282655918805, 1.98456514645851, 0.253969992985897], [-0.000996775680434594, 1.99355119474125, 0.169567694104642], [-0.000999474733796206, 1.99894930101464, 0.0848602116621562], [-0.00100037495831703, 2.00074974990626, -3.21745139134053e-16], [-0.000999474733796206, 1.99894930101464, -0.0848602116621569], [-0.000996775680434594, 1.99355119474125, -0.169567694104643], [-0.000992282655918805, 1.98456514645851, -0.253969992985898], [-0.000986003746678449, 1.97200732902427, -0.33791520322586], [-0.000977950253332388, 1.95590034367439, -0.421252242400813], [-0.000968136670350179, 1.93627317934555, -0.503831122657633], [-0.000956580659965295, 1.91316116050177, -0.585503220658058], [-0.000943303020387097, 1.8866058835583, -0.666121545067136], [-0.000928327648368753, 1.85665514201748, -0.745541001104441], [-0.000911681496198477, 1.82336284045127, -0.823618651681911], [-0.000893394523191497, 1.78678889748511, -0.900213974658335], [-0.000873499641770052, 1.74699913795801, -0.975189115747477], [-0.000852032658228463, 1.70406517445263, -1.04840913662466], [-0.000829032208289888, 1.65806427840886, -1.11974225778529], [-0.000804539687570747, 1.60907924105263, -1.1890600957182], [-0.000778599177077956, 1.55719822439043, -1.25623789396698], [-0.000751257363873069, 1.50251460253759, -1.32115474766345], [-0.000722563457046111, 1.44512679366596, -1.38369382112908], [-0.000692569099150325, 1.3851380828734, -1.44374255815289], [-0.000661328273257238, 1.32265643629399, -1.50119288456714], [-0.00062889720579932, 1.25779430678329, -1.5559414027565], [-0.000595334265375105, 1.19066843152864, -1.60788957775037], [-0.00056069985769889, 1.12139962194856, -1.65694391456358], [-0.000525056316884089, 1.0501125462595, -1.70301612646629], [-0.000488467793255905, 0.976935505101171, -1.74602329388011], [-0.000451000137895231, 0.90200020062438, -1.78588801361464], [-0.000412720784121568, 0.825441499456895, -1.82253853817578], [-0.000373698626128283, 0.747397189973966, -1.85590890489495], [-0.000334003894988613, 0.668007734310361, -1.88593905464703], [-0.000293708032255593, 0.587416015560244, -1.91257493994325], [-0.000252883561383391, 0.505767080619864, -1.93576862220441], [-0.000211603957201466, 0.423207879135892, -1.95547835803955], [-0.000169943513676467, 0.339886999029245, -1.9716686743746], [-0.000127977210199867, 0.255954399070372, -1.9843104322959], [-8.57805766419886e-05, 0.17156113898733, -1.9933808794937], [-4.34295574152931e-05, 0.0868591075923853, -1.99886369121112], [-1.00037479158567e-06, 0.00200074941644356, -2.00074899962508]], &quot;color&quot;:&quot;red&quot;, &quot;opacity&quot;:1, &quot;linewidth&quot;:1},{&quot;points&quot;:[[-0.00200074966654168, 1.13353250602481e-18, 2.00074899962508], [-0.0868591184497792, 4.92103714192637e-17, 1.99886369121112], [-0.171561160432479, 9.71986427755835e-17, 1.9933808794937], [-0.255954431064679, 1.4501197852223e-16, 1.9843104322959], [-0.339887041515128, 1.92564325451045e-16, 1.9716686743746], [-0.423207932036887, 2.39770100074814e-16, 1.95547835803955], [-0.505767143840759, 2.86544342658214e-16, 1.93576862220441], [-0.587416088987257, 3.32802870126155e-16, 1.91257493994325], [-0.66800781781134, 3.78462427574309e-16, 1.88593905464703], [-0.747397283398627, 4.23440838109135e-16, 1.85590890489494], [-0.825441602637096, 4.67657150747736e-16, 1.82253853817578], [-0.90200031337442, 5.11031786111344e-16, 1.78588801361464], [-0.976935627218125, 5.53486679650241e-16, 1.7460232938801], [-1.05011267752358, 5.94945422142314e-16, 1.70301612646629], [-1.12139976212353, 6.35333397212405e-16, 1.65694391456358], [-1.19066858036221, 6.74577915624939e-16, 1.60788957775036], [-1.25779446400759, 7.12608346108132e-16, 1.55594140275649], [-1.32265660162606, 7.49356242474335e-16, 1.50119288456713], [-1.38513825601568, 7.84755466807713e-16, 1.44374255815288], [-1.44512697430682, 8.18742308497564e-16, 1.38369382112908], [-1.50251479035194, 8.5125559890303e-16, 1.32115474766345], [-1.55719841904023, 8.82236821442837e-16, 1.25623789396698], [-1.60907944218756, 9.11630216911933e-16, 1.1890600957182], [-1.65806448566692, 9.39382883835461e-16, 1.11974225778529], [-1.7040653874608, 9.65444873679475e-16, 1.04840913662466], [-1.74699935633293, 9.89769280747017e-16, 0.975189115747477], [-1.78678912083375, 1.01231232659778e-15, 0.900213974658335], [-1.82336306837165, 1.03303343883943e-15, 0.823618651681911], [-1.8566553740994, 1.05189532414873e-15, 0.745541001104441], [-1.88660611938406, 1.06886403539111e-15, 0.666121545067136], [-1.91316139964694, 1.08390903271784e-15, 0.585503220658057], [-1.93627342137973, 1.09700323853088e-15, 0.503831122657632], [-1.95590058816196, 1.10812308621641e-15, 0.421252242400812], [-1.97200757552521, 1.11724856255946e-15, 0.337915203225859], [-1.98456539452918, 1.12436324376312e-15, 0.253969992985897], [-1.99355144393518, 1.1294543250077e-15, 0.169567694104642], [-1.99894955088333, 1.13251264349654e-15, 0.0848602116621562], [-2.00075, 1.13353269494692e-15, -3.21745139134053e-16], [-1.99894955088333, 1.13251264349654e-15, -0.0848602116621569], [-1.99355144393518, 1.1294543250077e-15, -0.169567694104643], [-1.98456539452918, 1.12436324376312e-15, -0.253969992985898], [-1.97200757552521, 1.11724856255946e-15, -0.33791520322586], [-1.95590058816196, 1.10812308621641e-15, -0.421252242400813], [-1.93627342137973, 1.09700323853088e-15, -0.503831122657633], [-1.91316139964694, 1.08390903271784e-15, -0.585503220658058], [-1.88660611938406, 1.06886403539111e-15, -0.666121545067136], [-1.8566553740994, 1.05189532414873e-15, -0.745541001104441], [-1.82336306837165, 1.03303343883943e-15, -0.823618651681911], [-1.78678912083375, 1.01231232659778e-15, -0.900213974658335], [-1.74699935633292, 9.89769280747017e-16, -0.975189115747477], [-1.7040653874608, 9.65444873679475e-16, -1.04840913662466], [-1.65806448566692, 9.39382883835461e-16, -1.11974225778529], [-1.60907944218756, 9.11630216911933e-16, -1.1890600957182], [-1.55719841904023, 8.82236821442837e-16, -1.25623789396698], [-1.50251479035194, 8.5125559890303e-16, -1.32115474766345], [-1.44512697430682, 8.18742308497564e-16, -1.38369382112908], [-1.38513825601568, 7.84755466807712e-16, -1.44374255815289], [-1.32265660162606, 7.49356242474334e-16, -1.50119288456714], [-1.25779446400759, 7.12608346108131e-16, -1.5559414027565], [-1.19066858036221, 6.74577915624938e-16, -1.60788957775037], [-1.12139976212353, 6.35333397212404e-16, -1.65694391456358], [-1.05011267752358, 5.94945422142313e-16, -1.70301612646629], [-0.976935627218122, 5.5348667965024e-16, -1.74602329388011], [-0.902000313374417, 5.11031786111343e-16, -1.78588801361464], [-0.825441602637093, 4.67657150747734e-16, -1.82253853817578], [-0.747397283398624, 4.23440838109134e-16, -1.85590890489495], [-0.668007817811337, 3.78462427574307e-16, -1.88593905464703], [-0.587416088987254, 3.32802870126153e-16, -1.91257493994325], [-0.505767143840755, 2.86544342658212e-16, -1.93576862220441], [-0.423207932036883, 2.39770100074812e-16, -1.95547835803955], [-0.339887041515125, 1.92564325451043e-16, -1.9716686743746], [-0.255954431064675, 1.45011978522228e-16, -1.9843104322959], [-0.171561160432475, 9.71986427755812e-17, -1.9933808794937], [-0.0868591184497749, 4.92103714192613e-17, -1.99886369121112], [-0.00200074966653727, 1.13353250602231e-18, -2.00074899962508]], &quot;color&quot;:&quot;red&quot;, &quot;opacity&quot;:1, &quot;linewidth&quot;:1},{&quot;points&quot;:[[-1.00037479159015e-06, -0.00200074941644798, 2.00074899962508], [-4.34295574153937e-05, -0.0868591075923896, 1.99886369121112], [-8.57805766421851e-05, -0.171561138987334, 1.9933808794937], [-0.000127977210200159, -0.255954399070376, 1.9843104322959], [-0.000169943513676854, -0.339886999029249, 1.9716686743746], [-0.000211603957201948, -0.423207879135896, 1.95547835803955], [-0.000252883561383966, -0.505767080619867, 1.93576862220441], [-0.00029370803225626, -0.587416015560248, 1.91257493994325], [-0.000334003894989371, -0.668007734310364, 1.88593905464703], [-0.000373698626129131, -0.747397189973969, 1.85590890489494], [-0.000412720784122504, -0.825441499456898, 1.82253853817578], [-0.000451000137896254, -0.902000200624383, 1.78588801361464], [-0.000488467793257013, -0.976935505101174, 1.7460232938801], [-0.00052505631688528, -1.0501125462595, 1.70301612646629], [-0.000560699857700162, -1.12139962194856, 1.65694391456358], [-0.000595334265376455, -1.19066843152864, 1.60788957775036], [-0.000628897205800746, -1.25779430678329, 1.55594140275649], [-0.000661328273258737, -1.32265643629399, 1.50119288456713], [-0.000692569099151895, -1.3851380828734, 1.44374255815288], [-0.000722563457047749, -1.44512679366596, 1.38369382112908], [-0.000751257363874772, -1.50251460253759, 1.32115474766345], [-0.00077859917707972, -1.55719822439043, 1.25623789396698], [-0.00080453968757257, -1.60907924105263, 1.1890600957182], [-0.000829032208291767, -1.65806427840886, 1.11974225778529], [-0.000852032658230393, -1.70406517445263, 1.04840913662466], [-0.000873499641772032, -1.74699913795801, 0.975189115747477], [-0.000893394523193522, -1.78678889748511, 0.900213974658335], [-0.000911681496200543, -1.82336284045127, 0.823618651681911], [-0.000928327648370857, -1.85665514201748, 0.745541001104441], [-0.000943303020389234, -1.8866058835583, 0.666121545067136], [-0.000956580659967462, -1.91316116050177, 0.585503220658057], [-0.000968136670352373, -1.93627317934555, 0.503831122657632], [-0.000977950253334604, -1.95590034367439, 0.421252242400812], [-0.000986003746680683, -1.97200732902427, 0.337915203225859], [-0.000992282655921053, -1.98456514645851, 0.253969992985897], [-0.000996775680436852, -1.99355119474125, 0.169567694104642], [-0.00099947473379847, -1.99894930101464, 0.0848602116621562], [-0.0010003749583193, -2.00074974990626, -3.21745139134053e-16], [-0.00099947473379847, -1.99894930101464, -0.0848602116621569], [-0.000996775680436852, -1.99355119474125, -0.169567694104643], [-0.000992282655921053, -1.98456514645851, -0.253969992985898], [-0.000986003746680683, -1.97200732902427, -0.33791520322586], [-0.000977950253334604, -1.95590034367439, -0.421252242400813], [-0.000968136670352373, -1.93627317934555, -0.503831122657633], [-0.000956580659967462, -1.91316116050177, -0.585503220658058], [-0.000943303020389234, -1.8866058835583, -0.666121545067136], [-0.000928327648370856, -1.85665514201748, -0.745541001104441], [-0.000911681496200543, -1.82336284045127, -0.823618651681911], [-0.000893394523193522, -1.78678889748511, -0.900213974658335], [-0.000873499641772031, -1.74699913795801, -0.975189115747477], [-0.000852032658230393, -1.70406517445263, -1.04840913662466], [-0.000829032208291767, -1.65806427840886, -1.11974225778529], [-0.00080453968757257, -1.60907924105263, -1.1890600957182], [-0.00077859917707972, -1.55719822439043, -1.25623789396698], [-0.000751257363874771, -1.50251460253759, -1.32115474766345], [-0.000722563457047749, -1.44512679366596, -1.38369382112908], [-0.000692569099151894, -1.3851380828734, -1.44374255815289], [-0.000661328273258736, -1.32265643629399, -1.50119288456714], [-0.000628897205800745, -1.25779430678329, -1.5559414027565], [-0.000595334265376454, -1.19066843152864, -1.60788957775037], [-0.000560699857700161, -1.12139962194856, -1.65694391456358], [-0.000525056316885279, -1.0501125462595, -1.70301612646629], [-0.000488467793257012, -0.976935505101171, -1.74602329388011], [-0.000451000137896252, -0.90200020062438, -1.78588801361464], [-0.000412720784122503, -0.825441499456895, -1.82253853817578], [-0.000373698626129129, -0.747397189973966, -1.85590890489495], [-0.00033400389498937, -0.668007734310361, -1.88593905464703], [-0.000293708032256259, -0.587416015560244, -1.91257493994325], [-0.000252883561383964, -0.505767080619864, -1.93576862220441], [-0.000211603957201946, -0.423207879135892, -1.95547835803955], [-0.000169943513676853, -0.339886999029245, -1.9716686743746], [-0.000127977210200157, -0.255954399070372, -1.9843104322959], [-8.5780576642183e-05, -0.17156113898733, -1.9933808794937], [-4.34295574153915e-05, -0.0868591075923853, -1.99886369121112], [-1.00037479158794e-06, -0.00200074941644356, -2.00074899962508]], &quot;color&quot;:&quot;red&quot;, &quot;opacity&quot;:1, &quot;linewidth&quot;:1},{&quot;points&quot;:[[0.00200074866616693, -2.00074933308636e-06, 2.00074899962508], [0.0868590750202236, -8.68591039733876e-05, 1.99886369121112], [0.171561074651906, -0.000171561131839205, 1.9933808794937], [0.255954303087474, -0.000255954388405985, 1.9843104322959], [0.339886871571622, -0.00033988698486779, 1.9716686743746], [0.423207720432938, -0.000423207861502856, 1.95547835803955], [0.505766890957208, -0.000505767059546981, 1.93576862220441], [0.587415795279237, -0.000587415991085443, 1.91257493994325], [0.668007483807459, -0.000668007706477689, 1.88593905464703], [0.747396909700016, -0.000747397158833516, 1.85590890489494], [0.825441189916329, -0.000825441465064714, 1.82253853817578], [0.901999862374301, -0.000902000163042365, 1.78588801361464], [0.976935138750352, -0.000976935464396962, 1.7460232938801], [1.05011215246729, -0.00105011250250636, 1.70301612646629], [1.1213992014237, -0.00112139957522522, 1.65694391456358], [1.19066798502797, -0.0011906683819192, 1.60788957775036], [1.25779383511042, -0.00125779425437704, 1.55594140275649], [1.32265594029782, -0.00132265638118525, 1.50119288456713], [1.38513756344661, -0.00138513802516135, 1.44374255815288], [1.4451262517434, -0.00144512673345446, 1.38369382112908], [1.5025140390946, -0.00150251453993502, 1.32115474766345], [1.55719764044109, -0.00155719815950946, 1.25623789396698], [1.6090786376479, -0.00160907917401003, 1.1890600957182], [1.65806365663474, -0.00165806420932528, 1.11974225778529], [1.70406453542818, -0.00170406510345242, 1.04840913662466], [1.74699848283332, -0.00174699906516894, 0.975189115747477], [1.78678822743926, -0.0017867888230382, 0.900213974658335], [1.82336215669019, -0.00182336276448049, 0.823618651681911], [1.85665444577179, -0.00185665506465958, 0.745541001104441], [1.88660517608108, -0.00188660580495249, 0.666121545067136], [1.91316044306632, -0.00191316108078953, 0.585503220658057], [1.9362724532431, -0.00193627309867035, 0.503831122657632], [1.95589961021174, -0.00195590026218141, 0.421252242400812], [1.97200658952151, -0.00197200724686019, 0.337915203225859], [1.98456440224656, -0.00198456506377121, 0.253969992985897], [1.99355044715954, -0.00199355111167955, 0.169567694104642], [1.99894855140863, -0.00199894921772802, 0.0848602116621562], [2.00074899962508, -0.00200074966654462, -3.21745139134053e-16], [1.99894855140863, -0.00199894921772802, -0.0848602116621569], [1.99355044715954, -0.00199355111167955, -0.169567694104643], [1.98456440224656, -0.00198456506377121, -0.253969992985898], [1.97200658952151, -0.00197200724686019, -0.33791520322586], [1.95589961021174, -0.00195590026218141, -0.421252242400813], [1.9362724532431, -0.00193627309867035, -0.503831122657633], [1.91316044306632, -0.00191316108078953, -0.585503220658058], [1.88660517608108, -0.00188660580495249, -0.666121545067136], [1.85665444577179, -0.00185665506465958, -0.745541001104441], [1.82336215669019, -0.00182336276448049, -0.823618651681911], [1.78678822743926, -0.0017867888230382, -0.900213974658335], [1.74699848283332, -0.00174699906516894, -0.975189115747477], [1.70406453542818, -0.00170406510345242, -1.04840913662466], [1.65806365663474, -0.00165806420932528, -1.11974225778529], [1.6090786376479, -0.00160907917401003, -1.1890600957182], [1.55719764044109, -0.00155719815950946, -1.25623789396698], [1.5025140390946, -0.00150251453993502, -1.32115474766345], [1.4451262517434, -0.00144512673345446, -1.38369382112908], [1.38513756344661, -0.00138513802516135, -1.44374255815289], [1.32265594029782, -0.00132265638118525, -1.50119288456714], [1.25779383511041, -0.00125779425437704, -1.5559414027565], [1.19066798502797, -0.0011906683819192, -1.60788957775037], [1.12139920142369, -0.00112139957522522, -1.65694391456358], [1.05011215246729, -0.00105011250250635, -1.70301612646629], [0.976935138750349, -0.000976935464396959, -1.74602329388011], [0.901999862374298, -0.000902000163042363, -1.78588801361464], [0.825441189916326, -0.000825441465064711, -1.82253853817578], [0.747396909700013, -0.000747397158833513, -1.85590890489495], [0.668007483807456, -0.000668007706477686, -1.88593905464703], [0.587415795279234, -0.000587415991085439, -1.91257493994325], [0.505766890957204, -0.000505767059546978, -1.93576862220441], [0.423207720432934, -0.000423207861502852, -1.95547835803955], [0.339886871571618, -0.000339886984867786, -1.9716686743746], [0.25595430308747, -0.000255954388405981, -1.9843104322959], [0.171561074651902, -0.000171561131839201, -1.9933808794937], [0.0868590750202193, -8.68591039733833e-05, -1.99886369121112], [0.00200074866616252, -2.00074933308194e-06, -2.00074899962508]], &quot;color&quot;:&quot;red&quot;, &quot;opacity&quot;:1, &quot;linewidth&quot;:1},{&quot;points&quot;:[[0.00400049733300053, 4.00049866650018e-06, 4.00049799975017], [0.173674736782909, 0.000173674794674511, 3.99672832522308], [0.343036400922129, 0.000343036515267642, 3.98576544216645], [0.511780676996847, 0.000511780847590474, 3.9676290812944], [0.679603863412357, 0.000679604089947069, 3.94235188396131], [0.846203916327362, 0.000846204198395447, 3.90997934341483], [1.01128099326468, 0.00101128133035848, 3.87056972291828], [1.17453799276001, 0.00117453838427283, 3.8241939508899], [1.33568108907747, 0.00133568153430467, 3.77093549324775], [1.49442026102957, 0.00149442075916986, 3.71089020318992], [1.65046981394991, 0.00165047036410673, 3.64416614868034], [1.80354889387899, 0.0018035494950622, 3.57088341795095], [1.953381993038, 0.00195338264416559, 3.49117390336991], [2.09969944568057, 0.00209970014558066, 3.40518106406517], [2.24223791343021, 0.00224223866084315, 3.31305966773041], [2.38074085922998, 0.00238074165281058, 3.21497551207814], [2.51495900905121, 0.00251495984737122, 3.11110512644126], [2.64465080053051, 0.00264465168208113, 3.00163545406014], [2.76958281772744, 0.00276958374092208, 2.88676351562695], [2.88953021122052, 0.00288953117439764, 2.76669605469294], [3.00427710278544, 0.00300427810421154, 2.64164916557672], [3.11361697392706, 0.0031136180117998, 2.51184790444329], [3.21735303756613, 0.00321735411001758, 2.37752588425373], [3.31529859221157, 0.00331529969731154, 2.23892485431466], [3.40727735798097, 0.00340727849374055, 2.09629426518403], [3.49312379386465, 0.00349312495823971, 1.9498908197165], [3.57268339566201, 0.00357268458655695, 1.79997801105619], [3.64581297405428, 0.00364581418932576, 1.64682564840859], [3.71238091231291, 0.00371238214977371, 1.49070937144487], [3.77226740317998, 0.00377226866060295, 1.33191015421271], [3.82536466449422, 0.00382536593961629, 1.17071379944649], [3.87157713317456, 0.00387157842370079, 1.00741042418686], [3.91082163721209, 0.00391082294081982, 0.842293937635611], [3.94302754536088, 0.00394302885970392, 0.675661512185455], [3.96813689425834, 0.00396813821697116, 0.507813048576824], [3.98610449274609, 0.00398610582144812, 0.339050636144257], [3.99689800320392, 0.00399689933550379, 0.169678009123807], [4.00049799975017, 0.00400049933325003, -6.43329466003138e-16], [3.99689800320392, 0.00399689933550379, -0.169678009123808], [3.98610449274609, 0.00398610582144812, -0.339050636144258], [3.96813689425834, 0.00396813821697116, -0.507813048576825], [3.94302754536088, 0.00394302885970392, -0.675661512185456], [3.91082163721209, 0.00391082294081982, -0.842293937635612], [3.87157713317456, 0.00387157842370079, -1.00741042418686], [3.82536466449422, 0.00382536593961629, -1.17071379944649], [3.77226740317998, 0.00377226866060295, -1.33191015421271], [3.71238091231291, 0.00371238214977371, -1.49070937144487], [3.64581297405428, 0.00364581418932576, -1.64682564840859], [3.57268339566201, 0.00357268458655695, -1.79997801105619], [3.49312379386465, 0.00349312495823971, -1.9498908197165], [3.40727735798097, 0.00340727849374055, -2.09629426518403], [3.31529859221157, 0.00331529969731154, -2.23892485431466], [3.21735303756613, 0.00321735411001757, -2.37752588425374], [3.11361697392706, 0.0031136180117998, -2.51184790444329], [3.00427710278544, 0.00300427810421154, -2.64164916557672], [2.88953021122052, 0.00288953117439764, -2.76669605469294], [2.76958281772743, 0.00276958374092208, -2.88676351562695], [2.64465080053051, 0.00264465168208113, -3.00163545406014], [2.51495900905121, 0.00251495984737122, -3.11110512644126], [2.38074085922998, 0.00238074165281058, -3.21497551207814], [2.24223791343021, 0.00224223866084314, -3.31305966773041], [2.09969944568056, 0.00209970014558066, -3.40518106406517], [1.953381993038, 0.00195338264416559, -3.49117390336992], [1.80354889387898, 0.00180354949506219, -3.57088341795096], [1.6504698139499, 0.00165047036410673, -3.64416614868035], [1.49442026102957, 0.00149442075916985, -3.71089020318992], [1.33568108907746, 0.00133568153430467, -3.77093549324776], [1.17453799276, 0.00117453838427282, -3.8241939508899], [1.01128099326467, 0.00101128133035847, -3.87056972291828], [0.846203916327354, 0.000846204198395439, -3.90997934341483], [0.679603863412349, 0.000679604089947061, -3.94235188396131], [0.511780676996839, 0.000511780847590466, -3.9676290812944], [0.343036400922121, 0.000343036515267633, -3.98576544216645], [0.1736747367829, 0.000173674794674502, -3.99672832522308], [0.0040004973329917, 4.00049866649134e-06, -4.00049799975017]], &quot;color&quot;:&quot;red&quot;, &quot;opacity&quot;:1, &quot;linewidth&quot;:1},{&quot;points&quot;:[[-2.00024958327993e-06, 0.00400049883318763, 4.00049799975017], [-8.68374081918724e-05, 0.173674801910961, 3.99672832522308], [-0.000171518279073489, 0.34303652956083, 3.98576544216645], [-0.00025589045578137, 0.511780868914676, 3.9676290812944], [-0.000339802087448565, 0.679604118263907, 3.94235188396131], [-0.000423102152085205, 0.846204233653956, 3.90997934341483], [-0.000505640728383988, 1.0112813724952, 3.87056972291828], [-0.000587269265544674, 1.17453843321193, 3.8241939508899], [-0.000667840850631989, 1.33568158995807, 3.77093549324775], [-0.000747210472985731, 1.49442082143739, 3.71089020318992], [-0.000825235285207216, 1.65047043287633, 3.64416614868034], [-0.000901774860252343, 1.80354957021009, 3.57088341795095], [-0.000976691444168564, 1.95338272555654, 3.49117390336991], [-0.00104985020402089, 2.09970023306817, 3.40518106406517], [-0.00112111947056075, 2.24223875426976, 3.31305966773041], [-0.00119037097520086, 2.38074175200816, 3.21497551207814], [-0.00125748008086977, 2.51495995216122, 3.11110512644126], [-0.00132232600633042, 2.64465179227495, 3.00163545406014], [-0.0013847920435591, 2.7695838563214, 2.88676351562695], [-0.00144476576779356, 2.88953129479478, 2.76669605469294], [-0.00150213923987215, 3.0042782293898, 2.64164916557672], [-0.00155680920049999, 3.11361814153389, 2.51184790444329], [-0.00160867725609235, 3.217354244074, 2.37752588425373], [-0.0016576500558609, 3.31529983544903, 2.23892485431466], [-0.00170363945982405, 3.40727863571049, 2.09629426518403], [-0.00174656269743901, 3.49312510378659, 1.9498908197165], [-0.00178634251657008, 3.57268473541882, 1.79997801105619], [-0.00182290732252506, 3.64581434123469, 1.64682564840859], [-0.00185619130690951, 3.7123823044563, 1.49070937144487], [-0.00188613456606702, 3.77226881778082, 1.33191015421271], [-0.00191268320889225, 3.82536609900654, 1.17071379944649], [-0.00193578945382276, 3.87157858501656, 1.00741042418686], [-0.00195541171483505, 3.91082310377078, 0.842293937635611], [-0.00197151467628996, 3.9430290239968, 0.675661512185455], [-0.0019840693564929, 3.96813838231026, 0.507813048576824], [-0.00199305315985435, 3.98610598753587, 0.339050636144257], [-0.00199844991755678, 3.99689950204126, 0.169678009123807], [-0.0020002499166549, 4.00049949993751, -6.43329466003138e-16], [-0.00199844991755678, 3.99689950204126, -0.169678009123808], [-0.00199305315985435, 3.98610598753587, -0.339050636144258], [-0.0019840693564929, 3.96813838231026, -0.507813048576825], [-0.00197151467628996, 3.9430290239968, -0.675661512185456], [-0.00195541171483505, 3.91082310377078, -0.842293937635612], [-0.00193578945382276, 3.87157858501656, -1.00741042418686], [-0.00191268320889225, 3.82536609900654, -1.17071379944649], [-0.00188613456606702, 3.77226881778082, -1.33191015421271], [-0.00185619130690951, 3.7123823044563, -1.49070937144487], [-0.00182290732252506, 3.64581434123469, -1.64682564840859], [-0.00178634251657008, 3.57268473541882, -1.79997801105619], [-0.00174656269743901, 3.49312510378659, -1.9498908197165], [-0.00170363945982405, 3.40727863571049, -2.09629426518403], [-0.0016576500558609, 3.31529983544903, -2.23892485431466], [-0.00160867725609235, 3.217354244074, -2.37752588425374], [-0.00155680920049999, 3.11361814153389, -2.51184790444329], [-0.00150213923987215, 3.0042782293898, -2.64164916557672], [-0.00144476576779356, 2.88953129479478, -2.76669605469294], [-0.0013847920435591, 2.7695838563214, -2.88676351562695], [-0.00132232600633042, 2.64465179227495, -3.00163545406014], [-0.00125748008086976, 2.51495995216121, -3.11110512644126], [-0.00119037097520085, 2.38074175200815, -3.21497551207814], [-0.00112111947056074, 2.24223875426976, -3.31305966773041], [-0.00104985020402089, 2.09970023306817, -3.40518106406517], [-0.000976691444168561, 1.95338272555653, -3.49117390336992], [-0.00090177486025234, 1.80354957021009, -3.57088341795096], [-0.000825235285207213, 1.65047043287633, -3.64416614868035], [-0.000747210472985728, 1.49442082143739, -3.71089020318992], [-0.000667840850631986, 1.33568158995807, -3.77093549324776], [-0.000587269265544671, 1.17453843321192, -3.8241939508899], [-0.000505640728383984, 1.0112813724952, -3.87056972291828], [-0.000423102152085201, 0.846204233653949, -3.90997934341483], [-0.000339802087448561, 0.679604118263899, -3.94235188396131], [-0.000255890455781366, 0.511780868914668, -3.9676290812944], [-0.000171518279073485, 0.343036529560822, -3.98576544216645], [-8.68374081918681e-05, 0.173674801910952, -3.99672832522308], [-2.00024958327551e-06, 0.00400049883317879, -4.00049799975017]], &quot;color&quot;:&quot;red&quot;, &quot;opacity&quot;:1, &quot;linewidth&quot;:1},{&quot;points&quot;:[[-0.00400049933325003, 2.26649845825429e-18, 4.00049799975017], [-0.173674823620313, 9.83961468763037e-17, 3.99672832522308], [-0.343036572440401, 1.94348704447693e-16, 3.98576544216645], [-0.511780932887292, 2.89951478234752e-16, 3.9676290812944], [-0.67960420321443, 3.85032404831642e-16, 3.94235188396131], [-0.846204339429496, 4.79420360039633e-16, 3.90997934341483], [-1.01128149890539, 5.72945466852023e-16, 3.87056972291828], [-1.17453858002925, 6.65439401194394e-16, 3.8241939508899], [-1.33568175691829, 7.56735694869936e-16, 3.77093549324775], [-1.49442100824001, 8.46670035164611e-16, 3.71089020318992], [-1.65047063918516, 9.35080560572943e-16, 3.64416614868034], [-1.80354979565381, 1.02180815211217e-15, 3.57088341795095], [-1.95338296972941, 1.10669671970051e-15, 3.49117390336991], [-2.09970049553073, 1.18959348308401e-15, 3.40518106406517], [-2.24223903454963, 1.27034924680656e-15, 3.31305966773041], [-2.38074204960091, 1.34881866872801e-15, 3.21497551207814], [-2.51496026653124, 1.42486052160719e-15, 3.11110512644126], [-2.64465212285646, 1.49833794727906e-15, 3.00163545406014], [-2.76958420251942, 1.56911870296851e-15, 2.88676351562695], [-2.88953165598623, 1.63707539929752e-15, 2.76669605469294], [-3.00427860492462, 1.7020857295572e-15, 2.64164916557672], [-3.1136185307362, 1.76403268983235e-15, 2.51184790444329], [-3.21735464624332, 1.822804789582e-15, 2.37752588425373], [-3.31530024986155, 1.87829625229727e-15, 2.23892485431466], [-3.40727906162036, 1.93040720587517e-15, 2.09629426518403], [-3.49312554042727, 1.97904386236583e-15, 1.9498908197165], [-3.57268518200445, 2.02411868676968e-15, 1.79997801105619], [-3.64581479696153, 2.06555055458061e-15, 1.64682564840859], [-3.71238276850414, 2.10326489779183e-15, 1.49070937144487], [-3.77226928931447, 2.1371938391014e-15, 1.33191015421271], [-3.82536657717735, 2.16727631407608e-15, 1.17071379944649], [-3.87157906896394, 2.19345818105349e-15, 1.00741042418686], [-3.91082359262372, 2.21569231858491e-15, 0.842293937635611], [-3.94302951687548, 2.23393871024321e-15, 0.675661512185455], [-3.96813887832761, 2.24816451664343e-15, 0.507813048576824], [-3.98610648579917, 2.25834413454621e-15, 0.339050636144257], [-3.99690000165375, 2.26445924293786e-15, 0.169678009123807], [-4.0005, 2.26649883600407e-15, -6.43329466003138e-16], [-3.99690000165375, 2.26445924293786e-15, -0.169678009123808], [-3.98610648579917, 2.25834413454621e-15, -0.339050636144258], [-3.96813887832761, 2.24816451664343e-15, -0.507813048576825], [-3.94302951687548, 2.23393871024321e-15, -0.675661512185456], [-3.91082359262372, 2.21569231858491e-15, -0.842293937635612], [-3.87157906896393, 2.19345818105349e-15, -1.00741042418686], [-3.82536657717735, 2.16727631407608e-15, -1.17071379944649], [-3.77226928931447, 2.1371938391014e-15, -1.33191015421271], [-3.71238276850414, 2.10326489779183e-15, -1.49070937144487], [-3.64581479696153, 2.06555055458061e-15, -1.64682564840859], [-3.57268518200445, 2.02411868676968e-15, -1.79997801105619], [-3.49312554042727, 1.97904386236583e-15, -1.9498908197165], [-3.40727906162036, 1.93040720587517e-15, -2.09629426518403], [-3.31530024986155, 1.87829625229727e-15, -2.23892485431466], [-3.21735464624332, 1.822804789582e-15, -2.37752588425374], [-3.1136185307362, 1.76403268983235e-15, -2.51184790444329], [-3.00427860492461, 1.7020857295572e-15, -2.64164916557672], [-2.88953165598623, 1.63707539929752e-15, -2.76669605469294], [-2.76958420251942, 1.56911870296851e-15, -2.88676351562695], [-2.64465212285646, 1.49833794727906e-15, -3.00163545406014], [-2.51496026653124, 1.42486052160719e-15, -3.11110512644126], [-2.3807420496009, 1.34881866872801e-15, -3.21497551207814], [-2.24223903454963, 1.27034924680656e-15, -3.31305966773041], [-2.09970049553072, 1.189593483084e-15, -3.40518106406517], [-1.9533829697294, 1.1066967197005e-15, -3.49117390336992], [-1.80354979565381, 1.02180815211217e-15, -3.57088341795096], [-1.65047063918515, 9.3508056057294e-16, -3.64416614868035], [-1.49442100824001, 8.46670035164608e-16, -3.71089020318992], [-1.33568175691828, 7.56735694869932e-16, -3.77093549324776], [-1.17453858002924, 6.6543940119439e-16, -3.8241939508899], [-1.01128149890538, 5.72945466852019e-16, -3.87056972291828], [-0.846204339429489, 4.79420360039628e-16, -3.90997934341483], [-0.679604203214423, 3.85032404831637e-16, -3.94235188396131], [-0.511780932887284, 2.89951478234748e-16, -3.9676290812944], [-0.343036572440393, 1.94348704447688e-16, -3.98576544216645], [-0.173674823620305, 9.83961468762988e-17, -3.99672832522308], [-0.0040004993332412, 2.26649845824928e-18, -4.00049799975017]], &quot;color&quot;:&quot;red&quot;, &quot;opacity&quot;:1, &quot;linewidth&quot;:1},{&quot;points&quot;:[[-2.00024958328446e-06, -0.00400049883318763, 4.00049799975017], [-8.68374081920692e-05, -0.173674801910961, 3.99672832522308], [-0.000171518279073878, -0.34303652956083, 3.98576544216645], [-0.00025589045578195, -0.511780868914676, 3.9676290812944], [-0.000339802087449335, -0.679604118263907, 3.94235188396131], [-0.000423102152086164, -0.846204233653956, 3.90997934341483], [-0.000505640728385134, -1.0112813724952, 3.87056972291828], [-0.000587269265546005, -1.17453843321193, 3.8241939508899], [-0.000667840850633503, -1.33568158995807, 3.77093549324775], [-0.000747210472987424, -1.49442082143739, 3.71089020318992], [-0.000825235285209086, -1.65047043287633, 3.64416614868034], [-0.000901774860254386, -1.80354957021009, 3.57088341795095], [-0.000976691444170777, -1.95338272555654, 3.49117390336991], [-0.00104985020402327, -2.09970023306817, 3.40518106406517], [-0.00112111947056329, -2.24223875426976, 3.31305966773041], [-0.00119037097520355, -2.38074175200816, 3.21497551207814], [-0.00125748008087262, -2.51495995216122, 3.11110512644126], [-0.00132232600633341, -2.64465179227495, 3.00163545406014], [-0.00138479204356224, -2.7695838563214, 2.88676351562695], [-0.00144476576779684, -2.88953129479478, 2.76669605469294], [-0.00150213923987556, -3.0042782293898, 2.64164916557672], [-0.00155680920050352, -3.11361814153389, 2.51184790444329], [-0.001608677256096, -3.217354244074, 2.37752588425373], [-0.00165765005586466, -3.31529983544903, 2.23892485431466], [-0.00170363945982791, -3.40727863571049, 2.09629426518403], [-0.00174656269744297, -3.49312510378659, 1.9498908197165], [-0.00178634251657413, -3.57268473541882, 1.79997801105619], [-0.00182290732252919, -3.64581434123469, 1.64682564840859], [-0.00185619130691371, -3.7123823044563, 1.49070937144487], [-0.00188613456607129, -3.77226881778082, 1.33191015421271], [-0.00191268320889658, -3.82536609900654, 1.17071379944649], [-0.00193578945382715, -3.87157858501656, 1.00741042418686], [-0.00195541171483948, -3.91082310377078, 0.842293937635611], [-0.00197151467629443, -3.9430290239968, 0.675661512185455], [-0.0019840693564974, -3.96813838231026, 0.507813048576824], [-0.00199305315985887, -3.98610598753587, 0.339050636144257], [-0.0019984499175613, -3.99689950204126, 0.169678009123807], [-0.00200024991665943, -4.00049949993751, -6.43329466003138e-16], [-0.0019984499175613, -3.99689950204126, -0.169678009123808], [-0.00199305315985887, -3.98610598753587, -0.339050636144258], [-0.0019840693564974, -3.96813838231026, -0.507813048576825], [-0.00197151467629443, -3.9430290239968, -0.675661512185456], [-0.00195541171483948, -3.91082310377078, -0.842293937635612], [-0.00193578945382715, -3.87157858501656, -1.00741042418686], [-0.00191268320889658, -3.82536609900654, -1.17071379944649], [-0.00188613456607129, -3.77226881778082, -1.33191015421271], [-0.00185619130691371, -3.7123823044563, -1.49070937144487], [-0.00182290732252919, -3.64581434123469, -1.64682564840859], [-0.00178634251657413, -3.57268473541882, -1.79997801105619], [-0.00174656269744296, -3.49312510378659, -1.9498908197165], [-0.00170363945982791, -3.40727863571049, -2.09629426518403], [-0.00165765005586466, -3.31529983544903, -2.23892485431466], [-0.001608677256096, -3.217354244074, -2.37752588425374], [-0.00155680920050352, -3.11361814153389, -2.51184790444329], [-0.00150213923987556, -3.0042782293898, -2.64164916557672], [-0.00144476576779684, -2.88953129479478, -2.76669605469294], [-0.00138479204356224, -2.7695838563214, -2.88676351562695], [-0.00132232600633341, -2.64465179227495, -3.00163545406014], [-0.00125748008087261, -2.51495995216121, -3.11110512644126], [-0.00119037097520355, -2.38074175200815, -3.21497551207814], [-0.00112111947056329, -2.24223875426976, -3.31305966773041], [-0.00104985020402327, -2.09970023306817, -3.40518106406517], [-0.000976691444170775, -1.95338272555653, -3.49117390336992], [-0.000901774860254384, -1.80354957021009, -3.57088341795096], [-0.000825235285209083, -1.65047043287633, -3.64416614868035], [-0.000747210472987421, -1.49442082143739, -3.71089020318992], [-0.0006678408506335, -1.33568158995807, -3.77093549324776], [-0.000587269265546002, -1.17453843321192, -3.8241939508899], [-0.00050564072838513, -1.0112813724952, -3.87056972291828], [-0.00042310215208616, -0.846204233653949, -3.90997934341483], [-0.000339802087449331, -0.679604118263899, -3.94235188396131], [-0.000255890455781946, -0.511780868914668, -3.9676290812944], [-0.000171518279073874, -0.343036529560822, -3.98576544216645], [-8.68374081920649e-05, -0.173674801910952, -3.99672832522308], [-2.00024958328004e-06, -0.00400049883317879, -4.00049799975017]], &quot;color&quot;:&quot;red&quot;, &quot;opacity&quot;:1, &quot;linewidth&quot;:1},{&quot;points&quot;:[[0.00400049733300053, -4.00049866650605e-06, 4.00049799975017], [0.173674736782909, -0.000173674794674766, 3.99672832522308], [0.343036400922129, -0.000343036515268145, 3.98576544216645], [0.511780676996847, -0.000511780847591225, 3.9676290812944], [0.679603863412357, -0.000679604089948066, 3.94235188396131], [0.846203916327362, -0.000846204198396688, 3.90997934341483], [1.01128099326468, -0.00101128133035996, 3.87056972291828], [1.17453799276001, -0.00117453838427455, 3.8241939508899], [1.33568108907747, -0.00133568153430663, 3.77093549324775], [1.49442026102957, -0.00149442075917205, 3.71089020318992], [1.65046981394991, -0.00165047036410915, 3.64416614868034], [1.80354889387899, -0.00180354949506484, 3.57088341795095], [1.953381993038, -0.00195338264416846, 3.49117390336991], [2.09969944568057, -0.00209970014558374, 3.40518106406517], [2.24223791343021, -0.00224223866084644, 3.31305966773041], [2.38074085922998, -0.00238074165281408, 3.21497551207814], [2.51495900905121, -0.00251495984737491, 3.11110512644126], [2.64465080053051, -0.00264465168208501, 3.00163545406014], [2.76958281772744, -0.00276958374092614, 2.88676351562695], [2.88953021122052, -0.00288953117440188, 2.76669605469294], [3.00427710278544, -0.00300427810421595, 2.64164916557672], [3.11361697392706, -0.00311361801180437, 2.51184790444329], [3.21735303756613, -0.0032173541100223, 2.37752588425373], [3.31529859221157, -0.0033152996973164, 2.23892485431466], [3.40727735798097, -0.00340727849374555, 2.09629426518403], [3.49312379386465, -0.00349312495824484, 1.9498908197165], [3.57268339566201, -0.0035726845865622, 1.79997801105619], [3.64581297405428, -0.00364581418933111, 1.64682564840859], [3.71238091231291, -0.00371238214977915, 1.49070937144487], [3.77226740317998, -0.00377226866060849, 1.33191015421271], [3.82536466449422, -0.0038253659396219, 1.17071379944649], [3.87157713317456, -0.00387157842370647, 1.00741042418686], [3.91082163721209, -0.00391082294082556, 0.842293937635611], [3.94302754536088, -0.00394302885970971, 0.675661512185455], [3.96813689425834, -0.00396813821697699, 0.507813048576824], [3.98610449274609, -0.00398610582145397, 0.339050636144257], [3.99689800320392, -0.00399689933550965, 0.169678009123807], [4.00049799975017, -0.0040004993332559, -6.43329466003138e-16], [3.99689800320392, -0.00399689933550965, -0.169678009123808], [3.98610449274609, -0.00398610582145397, -0.339050636144258], [3.96813689425834, -0.00396813821697699, -0.507813048576825], [3.94302754536088, -0.00394302885970971, -0.675661512185456], [3.91082163721209, -0.00391082294082556, -0.842293937635612], [3.87157713317456, -0.00387157842370647, -1.00741042418686], [3.82536466449422, -0.0038253659396219, -1.17071379944649], [3.77226740317998, -0.00377226866060848, -1.33191015421271], [3.71238091231291, -0.00371238214977915, -1.49070937144487], [3.64581297405428, -0.00364581418933111, -1.64682564840859], [3.57268339566201, -0.0035726845865622, -1.79997801105619], [3.49312379386465, -0.00349312495824484, -1.9498908197165], [3.40727735798097, -0.00340727849374555, -2.09629426518403], [3.31529859221157, -0.0033152996973164, -2.23892485431466], [3.21735303756613, -0.0032173541100223, -2.37752588425374], [3.11361697392706, -0.00311361801180437, -2.51184790444329], [3.00427710278544, -0.00300427810421595, -2.64164916557672], [2.88953021122052, -0.00288953117440188, -2.76669605469294], [2.76958281772743, -0.00276958374092614, -2.88676351562695], [2.64465080053051, -0.00264465168208501, -3.00163545406014], [2.51495900905121, -0.00251495984737491, -3.11110512644126], [2.38074085922998, -0.00238074165281407, -3.21497551207814], [2.24223791343021, -0.00224223866084643, -3.31305966773041], [2.09969944568056, -0.00209970014558374, -3.40518106406517], [1.953381993038, -0.00195338264416845, -3.49117390336992], [1.80354889387898, -0.00180354949506484, -3.57088341795096], [1.6504698139499, -0.00165047036410915, -3.64416614868035], [1.49442026102957, -0.00149442075917204, -3.71089020318992], [1.33568108907746, -0.00133568153430663, -3.77093549324776], [1.17453799276, -0.00117453838427455, -3.8241939508899], [1.01128099326467, -0.00101128133035996, -3.87056972291828], [0.846203916327354, -0.000846204198396681, -3.90997934341483], [0.679603863412349, -0.000679604089948058, -3.94235188396131], [0.511780676996839, -0.000511780847591217, -3.9676290812944], [0.343036400922121, -0.000343036515268137, -3.98576544216645], [0.1736747367829, -0.000173674794674757, -3.99672832522308], [0.0040004973329917, -4.00049866649721e-06, -4.00049799975017]], &quot;color&quot;:&quot;red&quot;, &quot;opacity&quot;:1, &quot;linewidth&quot;:1},{&quot;points&quot;:[[0.00600024599983413, 6.00024799991693e-06, 6.00024699987525], [0.260490398545594, 0.000260490485375761, 5.99459295923504], [0.514511727192352, 0.00051451189869633, 5.97815000483921], [0.767607050906219, 0.000767607306775338, 5.95094773029289], [1.01932085525309, 0.00101932119502685, 5.91303509354802], [1.26920011222179, 0.00126920053528866, 5.86448032879011], [1.51679509557215, 0.00151679560117072, 5.80537082363214], [1.76166019024078, 0.00176166077746108, 5.73581296183654], [2.00335469434747, 0.00200335536213264, 5.65593193184848], [2.24144361235913, 0.0022414443595073, 5.56587150148489], [2.47549843798348, 0.00247549926314996, 5.46579375918491], [2.70509792538368, 0.00270509882708335, 5.35587882228727], [2.92982884732565, 0.00292982982393566, 5.23632451285973], [3.14928673889384, 0.00314928778865651, 5.10734600166405], [3.36307662543673, 0.00336307774646272, 4.96917542089723], [3.57081373343199, 0.00357081492370371, 4.82206144640591], [3.77212418299201, 0.00377212544036724, 4.66626885012603], [3.9666456607632, 0.00396664698297895, 4.50207802355314], [4.15402807200826, 0.00415402945668484, 4.32978447310101], [4.33393417069765, 0.00433393561534295, 4.14969828825679], [4.50604016647627, 0.00450604166849026, 3.96214358349], [4.67003630741304, 0.00467003786409243, 3.7674579149196], [4.82562743748436, 0.00482562904602749, 3.56599167278927], [4.97253352778839, 0.00497253518530023, 3.35810745084403], [5.11049018053377, 0.00511049188403117, 3.14417939374341], [5.23924910489598, 0.00523925085131304, 2.92459252368552], [5.35857856388476, 0.00535858035007833, 2.69974204745404], [5.46826379141837, 0.0054682656141737, 2.47003264513527], [5.56810737885403, 0.00556810923489056, 2.23587774178529], [5.65792963027888, 0.00565793151625618, 1.99769876335828], [5.73756888592213, 0.00573757079844585, 1.75592437823492], [5.80688181310603, 0.00580688374873407, 1.51098972571608], [5.86574366421243, 0.0058657456194611, 1.26333563287041], [5.91404850120026, 0.00591405047255055, 1.01340782114505], [5.95170938627011, 0.00595171137017404, 0.761656104167751], [5.97865853833264, 0.00597866053121961, 0.508533578183871], [5.99484745499921, 0.00599484945328249, 0.254495806585457], [6.00024699987525, 0.00600024899995838, -9.64913792872224e-16], [5.99484745499921, 0.00599484945328249, -0.254495806585459], [5.97865853833264, 0.00597866053121961, -0.508533578183873], [5.95170938627011, 0.00595171137017403, -0.761656104167753], [5.91404850120026, 0.00591405047255055, -1.01340782114505], [5.86574366421243, 0.0058657456194611, -1.26333563287041], [5.80688181310603, 0.00580688374873407, -1.51098972571609], [5.73756888592212, 0.00573757079844585, -1.75592437823492], [5.65792963027888, 0.00565793151625618, -1.99769876335828], [5.56810737885403, 0.00556810923489056, -2.23587774178529], [5.46826379141837, 0.0054682656141737, -2.47003264513527], [5.35857856388476, 0.00535858035007833, -2.69974204745404], [5.23924910489598, 0.00523925085131304, -2.92459252368552], [5.11049018053377, 0.00511049188403117, -3.14417939374341], [4.97253352778839, 0.00497253518530023, -3.35810745084403], [4.82562743748436, 0.00482562904602749, -3.56599167278927], [4.67003630741304, 0.00467003786409243, -3.7674579149196], [4.50604016647627, 0.00450604166849026, -3.96214358349], [4.33393417069765, 0.00433393561534295, -4.1496982882568], [4.15402807200826, 0.00415402945668484, -4.32978447310101], [3.9666456607632, 0.00396664698297895, -4.50207802355315], [3.77212418299201, 0.00377212544036724, -4.66626885012603], [3.57081373343199, 0.00357081492370371, -4.82206144640591], [3.36307662543672, 0.00336307774646271, -4.96917542089724], [3.14928673889384, 0.0031492877886565, -5.10734600166406], [2.92982884732564, 0.00292982982393565, -5.23632451285973], [2.70509792538367, 0.00270509882708334, -5.35587882228727], [2.47549843798347, 0.00247549926314995, -5.46579375918492], [2.24144361235912, 0.00224144435950729, -5.56587150148489], [2.00335469434746, 0.00200335536213263, -5.65593193184848], [1.76166019024077, 0.00176166077746107, -5.73581296183655], [1.51679509557214, 0.00151679560117071, -5.80537082363215], [1.26920011222177, 0.00126920053528865, -5.86448032879012], [1.01932085525308, 0.00101932119502684, -5.91303509354802], [0.767607050906207, 0.000767607306775326, -5.95094773029289], [0.51451172719234, 0.000514511898696317, -5.97815000483921], [0.260490398545581, 0.000260490485375748, -5.99459295923504], [0.00600024599982088, 6.00024799990368e-06, -6.00024699987525]], &quot;color&quot;:&quot;red&quot;, &quot;opacity&quot;:1, &quot;linewidth&quot;:1},{&quot;points&quot;:[[-3.00012437497198e-06, 0.00600024824992727, 6.00024699987525], [-0.00013024525896845, 0.260490496229532, 5.99459295923504], [-0.000257255981504988, 0.514511920134326, 5.97815000483921], [-0.000383803701362871, 0.767607338758977, 5.95094773029289], [-0.00050966066122066, 1.01932123749856, 5.91303509354802], [-0.000634600346968942, 1.26920058817202, 5.86448032879011], [-0.000758397895384583, 1.51679566437054, 5.80537082363214], [-0.000880830498833754, 1.76166085086361, 5.73581296183654], [-0.00100167780627536, 2.00335544560578, 5.65593193184848], [-0.00112072231984318, 2.24144445290081, 5.56587150148489], [-0.00123774978629286, 2.47549936629576, 5.46579375918491], [-0.00135254958260945, 2.7050989397958, 5.35587882228727], [-0.00146491509508122, 2.9298299460119, 5.23632451285973], [-0.0015746440911577, 3.14928791987684, 5.10734600166405], [-0.0016815390834226, 3.36307788659096, 4.96917542089723], [-0.0017854076850266, 3.57081507248767, 4.82206144640591], [-0.00188606295594021, 3.77212559753914, 4.66626885012603], [-0.0019833237394036, 3.96664714825591, 4.50207802355314], [-0.00207701498796788, 4.15402962976941, 4.32978447310101], [-0.00216696807854101, 4.3339357959236, 4.14969828825679], [-0.00225302111587124, 4.506041856242, 3.96214358349], [-0.00233501922392203, 4.67003805867735, 3.7674579149196], [-0.00241281482461396, 4.82562924709537, 3.56599167278927], [-0.00248626790343191, 4.9725353924892, 3.35810745084403], [-0.00255524626141963, 5.11049209696834, 3.14417939374341], [-0.00261962575310796, 5.23925106961517, 2.92459252368552], [-0.00267929050994866, 5.35858057335252, 2.69974204745404], [-0.00273413314885164, 5.46826584201811, 2.47003264513527], [-0.00278405496545026, 5.56810946689512, 2.23587774178529], [-0.00282896611174693, 5.65793175200333, 1.99769876335828], [-0.0028687857578192, 5.73757103751131, 1.75592437823492], [-0.00290344223729534, 5.80688399068757, 1.51098972571608], [-0.0029328731763377, 5.86574586386717, 1.26333563287041], [-0.00295702560590147, 5.91405071896933, 1.01340782114505], [-0.002975856057067, 5.95171161816202, 0.761656104167751], [-0.00298933063927411, 5.97866078033048, 0.508533578183871], [-0.00299742510131735, 5.99484970306789, 0.254495806585457], [-0.00300012487499276, 6.00024924996876, -9.64913792872224e-16], [-0.00299742510131735, 5.99484970306789, -0.254495806585459], [-0.00298933063927411, 5.97866078033048, -0.508533578183873], [-0.002975856057067, 5.95171161816202, -0.761656104167753], [-0.00295702560590147, 5.91405071896933, -1.01340782114505], [-0.0029328731763377, 5.86574586386717, -1.26333563287041], [-0.00290344223729534, 5.80688399068757, -1.51098972571609], [-0.0028687857578192, 5.73757103751131, -1.75592437823492], [-0.00282896611174693, 5.65793175200333, -1.99769876335828], [-0.00278405496545026, 5.56810946689512, -2.23587774178529], [-0.00273413314885164, 5.46826584201811, -2.47003264513527], [-0.00267929050994866, 5.35858057335252, -2.69974204745404], [-0.00261962575310796, 5.23925106961517, -2.92459252368552], [-0.00255524626141963, 5.11049209696834, -3.14417939374341], [-0.00248626790343191, 4.9725353924892, -3.35810745084403], [-0.00241281482461396, 4.82562924709537, -3.56599167278927], [-0.00233501922392203, 4.67003805867734, -3.7674579149196], [-0.00225302111587124, 4.506041856242, -3.96214358349], [-0.00216696807854101, 4.3339357959236, -4.1496982882568], [-0.00207701498796788, 4.1540296297694, -4.32978447310101], [-0.00198332373940359, 3.96664714825591, -4.50207802355315], [-0.00188606295594021, 3.77212559753914, -4.66626885012603], [-0.0017854076850266, 3.57081507248767, -4.82206144640591], [-0.0016815390834226, 3.36307788659095, -4.96917542089724], [-0.00157464409115769, 3.14928791987683, -5.10734600166406], [-0.00146491509508122, 2.9298299460119, -5.23632451285973], [-0.00135254958260945, 2.7050989397958, -5.35587882228727], [-0.00123774978629286, 2.47549936629576, -5.46579375918492], [-0.00112072231984317, 2.24144445290081, -5.56587150148489], [-0.00100167780627536, 2.00335544560577, -5.65593193184848], [-0.000880830498833749, 1.7616608508636, -5.73581296183655], [-0.000758397895384577, 1.51679566437053, -5.80537082363215], [-0.000634600346968936, 1.269200588172, -5.86448032879012], [-0.000509660661220654, 1.01932123749855, -5.91303509354802], [-0.000383803701362865, 0.767607338758965, -5.95094773029289], [-0.000257255981504982, 0.514511920134314, -5.97815000483921], [-0.000130245258968443, 0.260490496229519, -5.99459295923504], [-3.00012437496535e-06, 0.00600024824991402, -6.00024699987525]], &quot;color&quot;:&quot;red&quot;, &quot;opacity&quot;:1, &quot;linewidth&quot;:1},{&quot;points&quot;:[[-0.00600024899995838, 3.39946441048376e-18, 6.00024699987525], [-0.260490528790847, 1.47581922333344e-16, 5.99459295923504], [-0.514511984448323, 2.91498766119803e-16, 5.97815000483921], [-0.767607434709904, 4.34890977947274e-16, 5.95094773029289], [-1.01932136491373, 5.77500484212238e-16, 5.91303509354802], [-1.26920074682211, 7.19070620004451e-16, 5.86448032879011], [-1.51679585397002, 8.59346591045832e-16, 5.80537082363214], [-1.76166107107124, 9.98075932262633e-16, 5.73581296183654], [-2.00335569602524, 1.13500896216556e-15, 5.65593193184848], [-2.2414447330814, 1.26989923222009e-15, 5.56587150148489], [-2.47549967573322, 1.40250397039815e-15, 5.46579375918491], [-2.70509927793321, 1.532584518113e-15, 5.35587882228727], [-2.92983031224069, 1.65990675975077e-15, 5.23632451285973], [-3.14928831353787, 1.7842415440257e-15, 5.10734600166405], [-3.36307830697574, 1.90536509640072e-15, 4.96917542089723], [-3.5708155188396, 2.02305942183108e-15, 4.82206144640591], [-3.77212606905489, 2.13711269710624e-15, 4.66626885012603], [-3.96664764408686, 2.24731965208378e-15, 4.50207802355314], [-4.15403014902316, 2.35348193912932e-15, 4.32978447310101], [-4.33393633766564, 2.45540849009747e-15, 4.14969828825679], [-4.50604241949729, 2.55291586021137e-15, 3.96214358349], [-4.67003864243216, 2.64582855822186e-15, 3.7674579149196], [-4.82562985029909, 2.73397936225207e-15, 3.56599167278927], [-4.97253601405619, 2.81720962075908e-15, 3.35810745084403], [-5.11049273577992, 2.89536953807086e-15, 3.14417939374341], [-5.23925172452162, 2.96831844398465e-15, 2.92459252368552], [-5.35858124317516, 3.03592504694157e-15, 2.69974204745404], [-5.46826652555141, 3.09806767032179e-15, 2.47003264513527], [-5.56811016290888, 3.15463447143493e-15, 2.23587774178529], [-5.65793245924488, 3.20552364281169e-15, 1.99769876335828], [-5.73757175470776, 3.25064359543432e-15, 1.75592437823492], [-5.80688471654814, 3.28991312357611e-15, 1.51098972571608], [-5.86574659708548, 3.32326155095341e-15, 1.26333563287041], [-5.91405145822574, 3.35062885792697e-15, 1.01340782114505], [-5.95171236212605, 3.37196578952375e-15, 0.761656104167751], [-5.97866152766315, 3.38723394408471e-15, 0.508533578183871], [-5.99485045242418, 3.39640584237918e-15, 0.254495806585457], [-6.00025, 3.39946497706123e-15, -9.64913792872224e-16], [-5.99485045242418, 3.39640584237918e-15, -0.254495806585459], [-5.97866152766315, 3.38723394408471e-15, -0.508533578183873], [-5.95171236212605, 3.37196578952374e-15, -0.761656104167753], [-5.91405145822574, 3.35062885792697e-15, -1.01340782114505], [-5.86574659708548, 3.32326155095341e-15, -1.26333563287041], [-5.80688471654814, 3.28991312357611e-15, -1.51098972571609], [-5.73757175470776, 3.25064359543432e-15, -1.75592437823492], [-5.65793245924488, 3.20552364281169e-15, -1.99769876335828], [-5.56811016290887, 3.15463447143493e-15, -2.23587774178529], [-5.46826652555141, 3.09806767032179e-15, -2.47003264513527], [-5.35858124317516, 3.03592504694157e-15, -2.69974204745404], [-5.23925172452162, 2.96831844398465e-15, -2.92459252368552], [-5.11049273577992, 2.89536953807086e-15, -3.14417939374341], [-4.97253601405619, 2.81720962075908e-15, -3.35810745084403], [-4.82562985029909, 2.73397936225207e-15, -3.56599167278927], [-4.67003864243216, 2.64582855822186e-15, -3.7674579149196], [-4.50604241949729, 2.55291586021137e-15, -3.96214358349], [-4.33393633766563, 2.45540849009747e-15, -4.1496982882568], [-4.15403014902316, 2.35348193912931e-15, -4.32978447310101], [-3.96664764408685, 2.24731965208378e-15, -4.50207802355315], [-3.77212606905488, 2.13711269710624e-15, -4.66626885012603], [-3.5708155188396, 2.02305942183108e-15, -4.82206144640591], [-3.36307830697573, 1.90536509640071e-15, -4.96917542089724], [-3.14928831353786, 1.7842415440257e-15, -5.10734600166406], [-2.92983031224068, 1.65990675975077e-15, -5.23632451285973], [-2.7050992779332, 1.532584518113e-15, -5.35587882228727], [-2.47549967573321, 1.40250397039815e-15, -5.46579375918492], [-2.24144473308139, 1.26989923222008e-15, -5.56587150148489], [-2.00335569602523, 1.13500896216556e-15, -5.65593193184848], [-1.76166107107123, 9.98075932262627e-16, -5.73581296183655], [-1.51679585397001, 8.59346591045826e-16, -5.80537082363215], [-1.26920074682209, 7.19070620004444e-16, -5.86448032879012], [-1.01932136491372, 5.77500484212231e-16, -5.91303509354802], [-0.767607434709892, 4.34890977947268e-16, -5.95094773029289], [-0.51451198444831, 2.91498766119796e-16, -5.97815000483921], [-0.260490528790834, 1.47581922333336e-16, -5.99459295923504], [-0.00600024899994513, 3.39946441047625e-18, -6.00024699987525]], &quot;color&quot;:&quot;red&quot;, &quot;opacity&quot;:1, &quot;linewidth&quot;:1},{&quot;points&quot;:[[-3.00012437497877e-06, -0.00600024824992727, 6.00024699987525], [-0.000130245258968745, -0.260490496229532, 5.99459295923504], [-0.000257255981505571, -0.514511920134326, 5.97815000483921], [-0.000383803701363741, -0.767607338758977, 5.95094773029289], [-0.000509660661221815, -1.01932123749856, 5.91303509354802], [-0.00063460034697038, -1.26920058817202, 5.86448032879011], [-0.000758397895386301, -1.51679566437054, 5.80537082363214], [-0.00088083049883575, -1.76166085086361, 5.73581296183654], [-0.00100167780627763, -2.00335544560578, 5.65593193184848], [-0.00112072231984572, -2.24144445290081, 5.56587150148489], [-0.00123774978629567, -2.47549936629576, 5.46579375918491], [-0.00135254958261252, -2.7050989397958, 5.35587882228727], [-0.00146491509508454, -2.9298299460119, 5.23632451285973], [-0.00157464409116126, -3.14928791987684, 5.10734600166405], [-0.00168153908342641, -3.36307788659096, 4.96917542089723], [-0.00178540768503065, -3.57081507248767, 4.82206144640591], [-0.00188606295594448, -3.77212559753914, 4.66626885012603], [-0.00198332373940809, -3.96664714825591, 4.50207802355314], [-0.00207701498797259, -4.15402962976941, 4.32978447310101], [-0.00216696807854592, -4.3339357959236, 4.14969828825679], [-0.00225302111587635, -4.506041856242, 3.96214358349], [-0.00233501922392732, -4.67003805867735, 3.7674579149196], [-0.00241281482461942, -4.82562924709537, 3.56599167278927], [-0.00248626790343755, -4.9725353924892, 3.35810745084403], [-0.00255524626142542, -5.11049209696834, 3.14417939374341], [-0.0026196257531139, -5.23925106961517, 2.92459252368552], [-0.00267929050995473, -5.35858057335252, 2.69974204745404], [-0.00273413314885783, -5.46826584201811, 2.47003264513527], [-0.00278405496545657, -5.56810946689512, 2.23587774178529], [-0.00282896611175334, -5.65793175200333, 1.99769876335828], [-0.0028687857578257, -5.73757103751131, 1.75592437823492], [-0.00290344223730192, -5.80688399068757, 1.51098972571608], [-0.00293287317634435, -5.86574586386717, 1.26333563287041], [-0.00295702560590817, -5.91405071896933, 1.01340782114505], [-0.00297585605707375, -5.95171161816202, 0.761656104167751], [-0.00298933063928088, -5.97866078033048, 0.508533578183871], [-0.00299742510132414, -5.99484970306789, 0.254495806585457], [-0.00300012487499956, -6.00024924996876, -9.64913792872224e-16], [-0.00299742510132414, -5.99484970306789, -0.254495806585459], [-0.00298933063928088, -5.97866078033048, -0.508533578183873], [-0.00297585605707375, -5.95171161816202, -0.761656104167753], [-0.00295702560590817, -5.91405071896933, -1.01340782114505], [-0.00293287317634435, -5.86574586386717, -1.26333563287041], [-0.00290344223730192, -5.80688399068757, -1.51098972571609], [-0.0028687857578257, -5.73757103751131, -1.75592437823492], [-0.00282896611175334, -5.65793175200333, -1.99769876335828], [-0.00278405496545657, -5.56810946689512, -2.23587774178529], [-0.00273413314885783, -5.46826584201811, -2.47003264513527], [-0.00267929050995473, -5.35858057335252, -2.69974204745404], [-0.0026196257531139, -5.23925106961517, -2.92459252368552], [-0.00255524626142542, -5.11049209696834, -3.14417939374341], [-0.00248626790343755, -4.9725353924892, -3.35810745084403], [-0.00241281482461942, -4.82562924709537, -3.56599167278927], [-0.00233501922392732, -4.67003805867734, -3.7674579149196], [-0.00225302111587634, -4.506041856242, -3.96214358349], [-0.00216696807854592, -4.3339357959236, -4.1496982882568], [-0.00207701498797259, -4.1540296297694, -4.32978447310101], [-0.00198332373940809, -3.96664714825591, -4.50207802355315], [-0.00188606295594448, -3.77212559753914, -4.66626885012603], [-0.00178540768503065, -3.57081507248767, -4.82206144640591], [-0.00168153908342641, -3.36307788659095, -4.96917542089724], [-0.00157464409116126, -3.14928791987683, -5.10734600166406], [-0.00146491509508454, -2.9298299460119, -5.23632451285973], [-0.00135254958261251, -2.7050989397958, -5.35587882228727], [-0.00123774978629566, -2.47549936629576, -5.46579375918492], [-0.00112072231984571, -2.24144445290081, -5.56587150148489], [-0.00100167780627763, -2.00335544560577, -5.65593193184848], [-0.000880830498835745, -1.7616608508636, -5.73581296183655], [-0.000758397895386296, -1.51679566437053, -5.80537082363215], [-0.000634600346970374, -1.269200588172, -5.86448032879012], [-0.000509660661221809, -1.01932123749855, -5.91303509354802], [-0.000383803701363735, -0.767607338758965, -5.95094773029289], [-0.000257255981505565, -0.514511920134314, -5.97815000483921], [-0.000130245258968738, -0.260490496229519, -5.99459295923504], [-3.00012437497215e-06, -0.00600024824991402, -6.00024699987525]], &quot;color&quot;:&quot;red&quot;, &quot;opacity&quot;:1, &quot;linewidth&quot;:1},{&quot;points&quot;:[[0.00600024599983413, -6.00024799992574e-06, 6.00024699987525], [0.260490398545594, -0.000260490485376143, 5.99459295923504], [0.514511727192352, -0.000514511898697085, 5.97815000483921], [0.767607050906219, -0.000767607306776464, 5.95094773029289], [1.01932085525309, -0.00101932119502834, 5.91303509354802], [1.26920011222179, -0.00126920053529052, 5.86448032879011], [1.51679509557215, -0.00151679560117295, 5.80537082363214], [1.76166019024078, -0.00176166077746366, 5.73581296183654], [2.00335469434747, -0.00200335536213558, 5.65593193184848], [2.24144361235913, -0.00224144435951059, 5.56587150148489], [2.47549843798348, -0.00247549926315359, 5.46579375918491], [2.70509792538368, -0.00270509882708732, 5.35587882228727], [2.92982884732565, -0.00292982982393996, 5.23632451285973], [3.14928673889384, -0.00314928778866113, 5.10734600166405], [3.36307662543673, -0.00336307774646765, 4.96917542089723], [3.57081373343199, -0.00357081492370895, 4.82206144640591], [3.77212418299201, -0.00377212544037278, 4.66626885012603], [3.9666456607632, -0.00396664698298477, 4.50207802355314], [4.15402807200826, -0.00415402945669093, 4.32978447310101], [4.33393417069765, -0.00433393561534931, 4.14969828825679], [4.50604016647627, -0.00450604166849687, 3.96214358349], [4.67003630741304, -0.00467003786409928, 3.7674579149196], [4.82562743748436, -0.00482562904603457, 3.56599167278927], [4.97253352778839, -0.00497253518530752, 3.35810745084403], [5.11049018053377, -0.00511049188403867, 3.14417939374341], [5.23924910489598, -0.00523925085132073, 2.92459252368552], [5.35857856388476, -0.00535858035008619, 2.69974204745404], [5.46826379141837, -0.00546826561418172, 2.47003264513527], [5.56810737885403, -0.00556810923489873, 2.23587774178529], [5.65792963027888, -0.00565793151626448, 1.99769876335828], [5.73756888592213, -0.00573757079845427, 1.75592437823492], [5.80688181310603, -0.00580688374874259, 1.51098972571608], [5.86574366421243, -0.0058657456194697, 1.26333563287041], [5.91404850120026, -0.00591405047255923, 1.01340782114505], [5.95170938627011, -0.00595171137018277, 0.761656104167751], [5.97865853833264, -0.00597866053122839, 0.508533578183871], [5.99484745499921, -0.00599484945329128, 0.254495806585457], [6.00024699987525, -0.00600024899996719, -9.64913792872224e-16], [5.99484745499921, -0.00599484945329128, -0.254495806585459], [5.97865853833264, -0.00597866053122839, -0.508533578183873], [5.95170938627011, -0.00595171137018277, -0.761656104167753], [5.91404850120026, -0.00591405047255922, -1.01340782114505], [5.86574366421243, -0.0058657456194697, -1.26333563287041], [5.80688181310603, -0.00580688374874259, -1.51098972571609], [5.73756888592212, -0.00573757079845427, -1.75592437823492], [5.65792963027888, -0.00565793151626448, -1.99769876335828], [5.56810737885403, -0.00556810923489873, -2.23587774178529], [5.46826379141837, -0.00546826561418172, -2.47003264513527], [5.35857856388476, -0.00535858035008619, -2.69974204745404], [5.23924910489598, -0.00523925085132073, -2.92459252368552], [5.11049018053377, -0.00511049188403867, -3.14417939374341], [4.97253352778839, -0.00497253518530752, -3.35810745084403], [4.82562743748436, -0.00482562904603456, -3.56599167278927], [4.67003630741304, -0.00467003786409928, -3.7674579149196], [4.50604016647627, -0.00450604166849687, -3.96214358349], [4.33393417069765, -0.00433393561534931, -4.1496982882568], [4.15402807200826, -0.00415402945669093, -4.32978447310101], [3.9666456607632, -0.00396664698298477, -4.50207802355315], [3.77212418299201, -0.00377212544037277, -4.66626885012603], [3.57081373343199, -0.00357081492370895, -4.82206144640591], [3.36307662543672, -0.00336307774646764, -4.96917542089724], [3.14928673889384, -0.00314928778866112, -5.10734600166406], [2.92982884732564, -0.00292982982393995, -5.23632451285973], [2.70509792538367, -0.00270509882708731, -5.35587882228727], [2.47549843798347, -0.00247549926315358, -5.46579375918492], [2.24144361235912, -0.00224144435951058, -5.56587150148489], [2.00335469434746, -0.00200335536213557, -5.65593193184848], [1.76166019024077, -0.00176166077746365, -5.73581296183655], [1.51679509557214, -0.00151679560117294, -5.80537082363215], [1.26920011222177, -0.00126920053529051, -5.86448032879012], [1.01932085525308, -0.00101932119502833, -5.91303509354802], [0.767607050906207, -0.000767607306776452, -5.95094773029289], [0.51451172719234, -0.000514511898697072, -5.97815000483921], [0.260490398545581, -0.000260490485376131, -5.99459295923504], [0.00600024599982088, -6.00024799991249e-06, -6.00024699987525]], &quot;color&quot;:&quot;red&quot;, &quot;opacity&quot;:1, &quot;linewidth&quot;:1},{&quot;points&quot;:[[0.00799999466666773, 7.99999733333369e-06, 7.99999600000033], [0.347306060308279, 0.000347306176077012, 7.992457593247], [0.685987053462575, 0.000685987282125018, 7.97053456751197], [1.02343342481559, 0.0010234337659602, 7.93426637929138], [1.35903784709383, 0.00135903830010662, 7.88371830313472], [1.69219630811621, 0.00169219687218187, 7.81898131416539], [2.02230919787963, 0.00202230987198296, 7.74017192434601], [2.34878238772155, 0.00234878317064933, 7.64743197278319], [2.67102829961748, 0.0026710291899606, 7.5409283704492], [2.98846696368868, 0.00298846795984474, 7.42085279977986], [3.30052706201706, 0.00330052816219319, 7.28742136968948], [3.60664695688837, 0.0036066481591045, 7.14087422662358], [3.9062757016133, 0.00390627700370572, 6.98147512234954], [4.19887403210712, 0.00419887543173236, 6.80951093926294], [4.48391533744324, 0.00448391683208228, 6.62529117406406], [4.76088660763401, 0.00476088819459684, 6.42914738073368], [5.02928935693281, 0.00502929103336327, 6.2214325738108], [5.28864052099589, 0.00528864228387677, 6.00252059304615], [5.53847332628909, 0.0055384751724476, 5.77280543057507], [5.77833813017477, 0.00577834005628825, 5.53270052182065], [6.00780323016711, 0.00600780523276898, 5.28263800140327], [6.22645564089901, 0.00622645771638506, 5.02306792539591], [6.43390183740259, 0.0064339039820374, 4.7544574613248], [6.62976846336521, 0.00662977067328892, 4.4772900473734], [6.81370300308656, 0.0068137052743218, 4.19206452230278], [6.98537441592731, 0.00698537674438638, 3.89929422765454], [7.14447373210751, 0.00714447611359971, 3.5995060838519], [7.29071460878247, 0.00729071703902164, 3.29323964186194], [7.42383384539514, 0.00742383632000741, 2.98104611212571], [7.54359185737779, 0.00754359437190941, 2.66348737250385], [7.64977310735003, 0.00764977565727541, 2.34113495702334], [7.74218649303749, 0.00774218907376736, 2.01456902724531], [7.82066569121277, 0.00782066829810238, 1.68437732810521], [7.88506945703964, 0.00788507208539717, 1.35115413010465], [7.93528187828189, 0.00793528452337691, 1.01549915975868], [7.97121258391919, 0.00797121524099111, 0.678016520223485], [7.99279690679449, 0.00799279957106119, 0.339313604047107], [7.99999600000033, 0.00799999866666673, -1.28649811974131e-15], [7.99279690679449, 0.00799279957106119, -0.33931360404711], [7.97121258391919, 0.00797121524099111, -0.678016520223488], [7.93528187828189, 0.00793528452337691, -1.01549915975868], [7.88506945703964, 0.00788507208539717, -1.35115413010465], [7.82066569121277, 0.00782066829810238, -1.68437732810521], [7.74218649303749, 0.00774218907376736, -2.01456902724531], [7.64977310735003, 0.00764977565727541, -2.34113495702335], [7.54359185737779, 0.00754359437190941, -2.66348737250386], [7.42383384539514, 0.00742383632000741, -2.98104611212572], [7.29071460878246, 0.00729071703902164, -3.29323964186195], [7.14447373210751, 0.00714447611359971, -3.5995060838519], [6.98537441592731, 0.00698537674438637, -3.89929422765454], [6.81370300308656, 0.0068137052743218, -4.19206452230278], [6.62976846336521, 0.00662977067328892, -4.4772900473734], [6.43390183740259, 0.00643390398203739, -4.7544574613248], [6.22645564089901, 0.00622645771638505, -5.02306792539591], [6.0078032301671, 0.00600780523276898, -5.28263800140327], [5.77833813017477, 0.00577834005628825, -5.53270052182065], [5.53847332628908, 0.0055384751724476, -5.77280543057508], [5.28864052099589, 0.00528864228387677, -6.00252059304615], [5.0292893569328, 0.00502929103336326, -6.2214325738108], [4.760886607634, 0.00476088819459684, -6.42914738073369], [4.48391533744323, 0.00448391683208228, -6.62529117406406], [4.19887403210711, 0.00419887543173235, -6.80951093926294], [3.90627570161329, 0.00390627700370571, -6.98147512234954], [3.60664695688836, 0.00360664815910449, -7.14087422662358], [3.30052706201705, 0.00330052816219318, -7.28742136968948], [2.98846696368867, 0.00298846795984472, -7.42085279977986], [2.67102829961747, 0.00267102918996059, -7.5409283704492], [2.34878238772154, 0.00234878317064932, -7.6474319727832], [2.02230919787961, 0.00202230987198295, -7.74017192434601], [1.69219630811619, 0.00169219687218186, -7.8189813141654], [1.35903784709381, 0.00135903830010661, -7.88371830313473], [1.02343342481558, 0.00102343376596019, -7.93426637929138], [0.685987053462559, 0.000685987282125001, -7.97053456751197], [0.347306060308262, 0.000347306176076995, -7.992457593247], [0.00799999466665007, 7.99999733331602e-06, -7.99999600000033]], &quot;color&quot;:&quot;red&quot;, &quot;opacity&quot;:1, &quot;linewidth&quot;:1},{&quot;points&quot;:[[-3.99999916666402e-06, 0.00799999766666692, 7.99999600000033], [-0.000173653109745027, 0.347306190548103, 7.992457593247], [-0.000342993683936486, 0.685987310707822, 7.97053456751197], [-0.000511716946944372, 1.02343380860328, 7.93426637929138], [-0.000679519234992755, 1.35903835673322, 7.88371830313472], [-0.000846098541852678, 1.69219694269008, 7.81898131416539], [-0.00101115506238518, 2.02230995624588, 7.74017192434601], [-0.00117439173212283, 2.3487832685153, 7.64743197278319], [-0.00133551476191874, 2.67102930125349, 7.5409283704492], [-0.00149423416670062, 2.98846808436424, 7.42085279977986], [-0.00165026428737851, 3.3005282997152, 7.28742136968948], [-0.00180332430496656, 3.60664830938151, 7.14087422662358], [-0.00195313874599388, 3.90627716646727, 6.98147512234954], [-0.0020994379782945, 4.1988756066855, 6.80951093926294], [-0.00224195869628446, 4.48391701891216, 6.62529117406406], [-0.00238044439485235, 4.76088839296719, 6.42914738073368], [-0.00251464583101065, 5.02929124291707, 6.2214325738108], [-0.00264432147247677, 5.28864250423687, 6.00252059304615], [-0.00276923793237666, 5.53847540321741, 5.77280543057507], [-0.00288917038928846, 5.77834029705243, 5.53270052182065], [-0.00300390299187033, 6.00780548309421, 5.28263800140327], [-0.00311322924734407, 6.2264579758208, 5.02306792539591], [-0.00321695239313556, 6.43390425011674, 4.7544574613248], [-0.00331488575100293, 6.62977094952937, 4.4772900473734], [-0.00340685306301522, 6.8137055582262, 4.19206452230278], [-0.00349268880877692, 6.98537703544375, 3.89929422765454], [-0.00357223850332724, 7.14447641128622, 3.5995060838519], [-0.00364535897517822, 7.29071734280153, 3.29323964186194], [-0.00371191862399101, 7.42383662933394, 2.98104611212571], [-0.00377179765742685, 7.54359468622585, 2.66348737250385], [-0.00382488830674615, 7.64977597601608, 2.34113495702334], [-0.00387109502076793, 7.74218939635858, 2.01456902724531], [-0.00391033463784036, 7.82066862396357, 1.68437732810521], [-0.00394253653551298, 7.88507241394185, 1.35115413010465], [-0.0039676427576411, 7.93528485401377, 1.01549915975868], [-0.00398560811869386, 7.97121557312509, 0.678016520223485], [-0.00399640028507792, 7.99279990409452, 0.339313604047107], [-0.00399999983333063, 7.99999900000002, -1.28649811974131e-15], [-0.00399640028507792, 7.99279990409452, -0.33931360404711], [-0.00398560811869386, 7.97121557312509, -0.678016520223488], [-0.0039676427576411, 7.93528485401377, -1.01549915975868], [-0.00394253653551298, 7.88507241394185, -1.35115413010465], [-0.00391033463784036, 7.82066862396356, -1.68437732810521], [-0.00387109502076793, 7.74218939635858, -2.01456902724531], [-0.00382488830674615, 7.64977597601608, -2.34113495702335], [-0.00377179765742685, 7.54359468622585, -2.66348737250386], [-0.00371191862399101, 7.42383662933394, -2.98104611212572], [-0.00364535897517822, 7.29071734280152, -3.29323964186195], [-0.00357223850332724, 7.14447641128622, -3.5995060838519], [-0.00349268880877692, 6.98537703544375, -3.89929422765454], [-0.00340685306301522, 6.8137055582262, -4.19206452230278], [-0.00331488575100293, 6.62977094952937, -4.4772900473734], [-0.00321695239313556, 6.43390425011674, -4.7544574613248], [-0.00311322924734407, 6.2264579758208, -5.02306792539591], [-0.00300390299187032, 6.00780548309421, -5.28263800140327], [-0.00288917038928846, 5.77834029705243, -5.53270052182065], [-0.00276923793237666, 5.5384754032174, -5.77280543057508], [-0.00264432147247677, 5.28864250423687, -6.00252059304615], [-0.00251464583101065, 5.02929124291706, -6.2214325738108], [-0.00238044439485235, 4.76088839296718, -6.42914738073369], [-0.00224195869628445, 4.48391701891215, -6.62529117406406], [-0.00209943797829449, 4.1988756066855, -6.80951093926294], [-0.00195313874599387, 3.90627716646726, -6.98147512234954], [-0.00180332430496656, 3.6066483093815, -7.14087422662358], [-0.0016502642873785, 3.30052829971519, -7.28742136968948], [-0.00149423416670062, 2.98846808436423, -7.42085279977986], [-0.00133551476191873, 2.67102930125347, -7.5409283704492], [-0.00117439173212283, 2.34878326851528, -7.6474319727832], [-0.00101115506238517, 2.02230995624586, -7.74017192434601], [-0.000846098541852671, 1.69219694269006, -7.8189813141654], [-0.000679519234992747, 1.35903835673321, -7.88371830313473], [-0.000511716946944364, 1.02343380860326, -7.93426637929138], [-0.000342993683936478, 0.685987310707805, -7.97053456751197], [-0.000173653109745018, 0.347306190548086, -7.992457593247], [-3.99999916665519e-06, 0.00799999766664925, -7.99999600000033]], &quot;color&quot;:&quot;red&quot;, &quot;opacity&quot;:1, &quot;linewidth&quot;:1},{&quot;points&quot;:[[-0.00799999866666673, 4.53243036271323e-18, 7.99999600000033], [-0.347306233961381, 1.96767697790384e-16, 7.992457593247], [-0.685987396456245, 3.88648827791912e-16, 7.97053456751197], [-1.02343393653252, 5.79830477659797e-16, 7.93426637929138], [-1.35903852661303, 7.69968563592834e-16, 7.88371830313472], [-1.69219715421472, 9.58720879969269e-16, 7.81898131416539], [-2.02231020903465, 1.14574771523964e-15, 7.74017192434601], [-2.34878356211324, 1.33071246333087e-15, 7.64743197278319], [-2.67102963513218, 1.51328222946119e-15, 7.5409283704492], [-2.98846845792279, 1.69312842927556e-15, 7.42085279977986], [-3.30052871228128, 1.86992738022336e-15, 7.28742136968948], [-3.6066487602126, 2.04336088411383e-15, 7.14087422662358], [-3.90627765475197, 2.21311679980104e-15, 6.98147512234954], [-4.19887613154501, 2.37888960496739e-15, 6.80951093926294], [-4.48391757940184, 2.54038094599487e-15, 6.62529117406406], [-4.7608889880783, 2.69730017493415e-15, 6.42914738073368], [-5.02929187157854, 2.8493648726053e-15, 6.2214325738108], [-5.28864316531726, 2.9963013568885e-15, 6.00252059304615], [-5.5384760955269, 3.13784517529012e-15, 5.77280543057507], [-5.77834101934504, 3.27374158089742e-15, 5.53270052182065], [-6.00780623406997, 3.40374599086555e-15, 5.28263800140327], [-6.22645875412813, 3.52762442661137e-15, 5.02306792539591], [-6.43390505435485, 3.64515393492213e-15, 4.7544574613248], [-6.62977177825082, 3.75612298922089e-15, 4.4772900473734], [-6.81370640993948, 3.86033187026655e-15, 4.19206452230278], [-6.98537790861597, 3.95759302560347e-15, 3.89929422765454], [-7.14447730434587, 4.04773140711347e-15, 3.5995060838519], [-7.29071825414129, 4.13058478606296e-15, 3.29323964186194], [-7.42383755731361, 4.20600404507802e-15, 2.98104611212571], [-7.54359562917529, 4.27385344652199e-15, 2.66348737250385], [-7.64977693223817, 4.33401087679256e-15, 2.34113495702334], [-7.74219036413235, 4.38636806609872e-15, 2.01456902724531], [-7.82066960154725, 4.4308307833219e-15, 1.68437732810521], [-7.88507339957601, 4.46731900561073e-15, 1.35115413010465], [-7.93528584592448, 4.49576706240406e-15, 1.01549915975868], [-7.97121656952714, 4.51612375362321e-15, 0.678016520223485], [-7.99280090319461, 4.5283524418205e-15, 0.339313604047107], [-8.0, 4.53243111811838e-15, -1.28649811974131e-15], [-7.99280090319461, 4.5283524418205e-15, -0.33931360404711], [-7.97121656952714, 4.51612375362321e-15, -0.678016520223488], [-7.93528584592448, 4.49576706240406e-15, -1.01549915975868], [-7.88507339957601, 4.46731900561073e-15, -1.35115413010465], [-7.82066960154724, 4.4308307833219e-15, -1.68437732810521], [-7.74219036413235, 4.38636806609872e-15, -2.01456902724531], [-7.64977693223817, 4.33401087679256e-15, -2.34113495702335], [-7.54359562917529, 4.27385344652199e-15, -2.66348737250386], [-7.42383755731361, 4.20600404507802e-15, -2.98104611212572], [-7.29071825414129, 4.13058478606296e-15, -3.29323964186195], [-7.14447730434587, 4.04773140711347e-15, -3.5995060838519], [-6.98537790861597, 3.95759302560347e-15, -3.89929422765454], [-6.81370640993948, 3.86033187026655e-15, -4.19206452230278], [-6.62977177825082, 3.75612298922089e-15, -4.4772900473734], [-6.43390505435485, 3.64515393492213e-15, -4.7544574613248], [-6.22645875412813, 3.52762442661137e-15, -5.02306792539591], [-6.00780623406997, 3.40374599086554e-15, -5.28263800140327], [-5.77834101934504, 3.27374158089742e-15, -5.53270052182065], [-5.5384760955269, 3.13784517529012e-15, -5.77280543057508], [-5.28864316531725, 2.9963013568885e-15, -6.00252059304615], [-5.02929187157853, 2.8493648726053e-15, -6.2214325738108], [-4.76088898807829, 2.69730017493415e-15, -6.42914738073369], [-4.48391757940184, 2.54038094599487e-15, -6.62529117406406], [-4.198876131545, 2.37888960496739e-15, -6.80951093926294], [-3.90627765475196, 2.21311679980103e-15, -6.98147512234954], [-3.60664876021259, 2.04336088411383e-15, -7.14087422662358], [-3.30052871228127, 1.86992738022335e-15, -7.28742136968948], [-2.98846845792277, 1.69312842927556e-15, -7.42085279977986], [-2.67102963513217, 1.51328222946118e-15, -7.5409283704492], [-2.34878356211322, 1.33071246333086e-15, -7.6474319727832], [-2.02231020903463, 1.14574771523963e-15, -7.74017192434601], [-1.6921971542147, 9.5872087996926e-16, -7.8189813141654], [-1.35903852661302, 7.69968563592826e-16, -7.88371830313473], [-1.0234339365325, 5.79830477659788e-16, -7.93426637929138], [-0.685987396456228, 3.88648827791903e-16, -7.97053456751197], [-0.347306233961364, 1.96767697790374e-16, -7.992457593247], [-0.00799999866664907, 4.53243036270323e-18, -7.99999600000033]], &quot;color&quot;:&quot;red&quot;, &quot;opacity&quot;:1, &quot;linewidth&quot;:1},{&quot;points&quot;:[[-3.99999916667309e-06, -0.00799999766666692, 7.99999600000033], [-0.00017365310974542, -0.347306190548103, 7.992457593247], [-0.000342993683937264, -0.685987310707822, 7.97053456751197], [-0.000511716946945532, -1.02343380860328, 7.93426637929138], [-0.000679519234994295, -1.35903835673322, 7.88371830313472], [-0.000846098541854596, -1.69219694269008, 7.81898131416539], [-0.00101115506238747, -2.02230995624588, 7.74017192434601], [-0.00117439173212549, -2.3487832685153, 7.64743197278319], [-0.00133551476192177, -2.67102930125349, 7.5409283704492], [-0.00149423416670401, -2.98846808436424, 7.42085279977986], [-0.00165026428738225, -3.3005282997152, 7.28742136968948], [-0.00180332430497065, -3.60664830938151, 7.14087422662358], [-0.0019531387459983, -3.90627716646727, 6.98147512234954], [-0.00209943797829926, -4.1988756066855, 6.80951093926294], [-0.00224195869628954, -4.48391701891216, 6.62529117406406], [-0.00238044439485775, -4.76088839296719, 6.42914738073368], [-0.00251464583101635, -5.02929124291707, 6.2214325738108], [-0.00264432147248277, -5.28864250423687, 6.00252059304615], [-0.00276923793238294, -5.53847540321741, 5.77280543057507], [-0.00288917038929501, -5.77834029705243, 5.53270052182065], [-0.00300390299187713, -6.00780548309421, 5.28263800140327], [-0.00311322924735112, -6.2264579758208, 5.02306792539591], [-0.00321695239314285, -6.43390425011674, 4.7544574613248], [-0.00331488575101044, -6.62977094952937, 4.4772900473734], [-0.00340685306302294, -6.8137055582262, 4.19206452230278], [-0.00349268880878483, -6.98537703544375, 3.89929422765454], [-0.00357223850333534, -7.14447641128622, 3.5995060838519], [-0.00364535897518648, -7.29071734280153, 3.29323964186194], [-0.00371191862399943, -7.42383662933394, 2.98104611212571], [-0.0037717976574354, -7.54359468622585, 2.66348737250385], [-0.00382488830675482, -7.64977597601608, 2.34113495702334], [-0.0038710950207767, -7.74218939635858, 2.01456902724531], [-0.00391033463784922, -7.82066862396357, 1.68437732810521], [-0.00394253653552191, -7.88507241394185, 1.35115413010465], [-0.00396764275765009, -7.93528485401377, 1.01549915975868], [-0.00398560811870289, -7.97121557312509, 0.678016520223485], [-0.00399640028508697, -7.99279990409452, 0.339313604047107], [-0.00399999983333969, -7.99999900000002, -1.28649811974131e-15], [-0.00399640028508697, -7.99279990409452, -0.33931360404711], [-0.00398560811870289, -7.97121557312509, -0.678016520223488], [-0.00396764275765009, -7.93528485401377, -1.01549915975868], [-0.00394253653552191, -7.88507241394185, -1.35115413010465], [-0.00391033463784922, -7.82066862396356, -1.68437732810521], [-0.0038710950207767, -7.74218939635858, -2.01456902724531], [-0.00382488830675482, -7.64977597601608, -2.34113495702335], [-0.0037717976574354, -7.54359468622585, -2.66348737250386], [-0.00371191862399943, -7.42383662933394, -2.98104611212572], [-0.00364535897518648, -7.29071734280152, -3.29323964186195], [-0.00357223850333534, -7.14447641128622, -3.5995060838519], [-0.00349268880878483, -6.98537703544375, -3.89929422765454], [-0.00340685306302294, -6.8137055582262, -4.19206452230278], [-0.00331488575101044, -6.62977094952937, -4.4772900473734], [-0.00321695239314285, -6.43390425011674, -4.7544574613248], [-0.00311322924735112, -6.2264579758208, -5.02306792539591], [-0.00300390299187713, -6.00780548309421, -5.28263800140327], [-0.00288917038929501, -5.77834029705243, -5.53270052182065], [-0.00276923793238293, -5.5384754032174, -5.77280543057508], [-0.00264432147248276, -5.28864250423687, -6.00252059304615], [-0.00251464583101635, -5.02929124291706, -6.2214325738108], [-0.00238044439485775, -4.76088839296718, -6.42914738073369], [-0.00224195869628953, -4.48391701891215, -6.62529117406406], [-0.00209943797829925, -4.1988756066855, -6.80951093926294], [-0.0019531387459983, -3.90627716646726, -6.98147512234954], [-0.00180332430497065, -3.6066483093815, -7.14087422662358], [-0.00165026428738224, -3.30052829971519, -7.28742136968948], [-0.001494234166704, -2.98846808436423, -7.42085279977986], [-0.00133551476192176, -2.67102930125347, -7.5409283704492], [-0.00117439173212549, -2.34878326851528, -7.6474319727832], [-0.00101115506238746, -2.02230995624586, -7.74017192434601], [-0.000846098541854588, -1.69219694269006, -7.8189813141654], [-0.000679519234994287, -1.35903835673321, -7.88371830313473], [-0.000511716946945524, -1.02343380860326, -7.93426637929138], [-0.000342993683937255, -0.685987310707805, -7.97053456751197], [-0.000173653109745412, -0.347306190548086, -7.992457593247], [-3.99999916666426e-06, -0.00799999766664925, -7.99999600000033]], &quot;color&quot;:&quot;red&quot;, &quot;opacity&quot;:1, &quot;linewidth&quot;:1},{&quot;points&quot;:[[0.00799999466666773, -7.99999733334543e-06, 7.99999600000033], [0.347306060308279, -0.000347306176077521, 7.992457593247], [0.685987053462575, -0.000685987282126024, 7.97053456751197], [1.02343342481559, -0.0010234337659617, 7.93426637929138], [1.35903784709383, -0.00135903830010862, 7.88371830313472], [1.69219630811621, -0.00169219687218435, 7.81898131416539], [2.02230919787963, -0.00202230987198593, 7.74017192434601], [2.34878238772155, -0.00234878317065277, 7.64743197278319], [2.67102829961748, -0.00267102918996452, 7.5409283704492], [2.98846696368868, -0.00298846795984912, 7.42085279977986], [3.30052706201706, -0.00330052816219803, 7.28742136968948], [3.60664695688837, -0.00360664815910979, 7.14087422662358], [3.9062757016133, -0.00390627700371145, 6.98147512234954], [4.19887403210712, -0.00419887543173852, 6.80951093926294], [4.48391533744324, -0.00448391683208886, 6.62529117406406], [4.76088660763401, -0.00476088819460383, 6.42914738073368], [5.02928935693281, -0.00502929103337064, 6.2214325738108], [5.28864052099589, -0.00528864228388453, 6.00252059304615], [5.53847332628909, -0.00553847517245573, 5.77280543057507], [5.77833813017477, -0.00577834005629673, 5.53270052182065], [6.00780323016711, -0.0060078052327778, 5.28263800140327], [6.22645564089901, -0.00622645771639419, 5.02306792539591], [6.43390183740259, -0.00643390398204683, 4.7544574613248], [6.62976846336521, -0.00662977067329864, 4.4772900473734], [6.81370300308656, -0.0068137052743318, 4.19206452230278], [6.98537441592731, -0.00698537674439662, 3.89929422765454], [7.14447373210751, -0.00714447611361019, 3.5995060838519], [7.29071460878247, -0.00729071703903234, 3.29323964186194], [7.42383384539514, -0.00742383632001831, 2.98104611212571], [7.54359185737779, -0.00754359437192048, 2.66348737250385], [7.64977310735003, -0.00764977565728664, 2.34113495702334], [7.74218649303749, -0.00774218907377872, 2.01456902724531], [7.82066569121277, -0.00782066829811385, 1.68437732810521], [7.88506945703964, -0.00788507208540874, 1.35115413010465], [7.93528187828189, -0.00793528452338855, 1.01549915975868], [7.97121258391919, -0.0079712152410028, 0.678016520223485], [7.99279690679449, -0.00799279957107292, 0.339313604047107], [7.99999600000033, -0.00799999866667847, -1.28649811974131e-15], [7.99279690679449, -0.00799279957107292, -0.33931360404711], [7.97121258391919, -0.0079712152410028, -0.678016520223488], [7.93528187828189, -0.00793528452338855, -1.01549915975868], [7.88506945703964, -0.00788507208540874, -1.35115413010465], [7.82066569121277, -0.00782066829811385, -1.68437732810521], [7.74218649303749, -0.00774218907377871, -2.01456902724531], [7.64977310735003, -0.00764977565728664, -2.34113495702335], [7.54359185737779, -0.00754359437192048, -2.66348737250386], [7.42383384539514, -0.00742383632001831, -2.98104611212572], [7.29071460878246, -0.00729071703903234, -3.29323964186195], [7.14447373210751, -0.00714447611361019, -3.5995060838519], [6.98537441592731, -0.00698537674439662, -3.89929422765454], [6.81370300308656, -0.0068137052743318, -4.19206452230278], [6.62976846336521, -0.00662977067329864, -4.4772900473734], [6.43390183740259, -0.00643390398204683, -4.7544574613248], [6.22645564089901, -0.00622645771639419, -5.02306792539591], [6.0078032301671, -0.0060078052327778, -5.28263800140327], [5.77833813017477, -0.00577834005629673, -5.53270052182065], [5.53847332628908, -0.00553847517245572, -5.77280543057508], [5.28864052099589, -0.00528864228388453, -6.00252059304615], [5.0292893569328, -0.00502929103337064, -6.2214325738108], [4.760886607634, -0.00476088819460382, -6.42914738073369], [4.48391533744323, -0.00448391683208886, -6.62529117406406], [4.19887403210711, -0.00419887543173851, -6.80951093926294], [3.90627570161329, -0.00390627700371144, -6.98147512234954], [3.60664695688836, -0.00360664815910978, -7.14087422662358], [3.30052706201705, -0.00330052816219802, -7.28742136968948], [2.98846696368867, -0.00298846795984911, -7.42085279977986], [2.67102829961747, -0.00267102918996451, -7.5409283704492], [2.34878238772154, -0.00234878317065276, -7.6474319727832], [2.02230919787961, -0.00202230987198592, -7.74017192434601], [1.69219630811619, -0.00169219687218434, -7.8189813141654], [1.35903784709381, -0.0013590383001086, -7.88371830313473], [1.02343342481558, -0.00102343376596169, -7.93426637929138], [0.685987053462559, -0.000685987282126008, -7.97053456751197], [0.347306060308262, -0.000347306176077504, -7.992457593247], [0.00799999466665007, -7.99999733332776e-06, -7.99999600000033]], &quot;color&quot;:&quot;red&quot;, &quot;opacity&quot;:1, &quot;linewidth&quot;:1},{&quot;points&quot;:[[9.99999333333467e-07, 9.99999666666711e-10, 0.000999999500000042], [9.96314336997714e-07, 8.57753377114651e-08, 0.000999999500000042], [9.8545543951682e-07, 1.69933055623156e-07, 0.000999999500000042], [9.67500829725551e-07, 2.52867180842198e-07, 0.000999999500000042], [9.42579788706153e-07, 3.33980551214251e-07, 0.000999999500000042], [9.10871758907728e-07, 4.12689114820167e-07, 0.000999999500000042], [8.72605052081733e-07, 4.8842613540652e-07, 0.000999999500000042], [8.28055205337014e-07, 5.60646273135732e-07, 0.000999999500000042], [7.77542997151519e-07, 6.28829511272606e-07, 0.000999999500000042], [7.21432137626255e-07, 6.92484900533378e-07, 0.000999999500000042], [6.60126649612703e-07, 7.51154094136363e-07, 0.000999999500000042], [5.94067959570695e-07, 8.04414648100233e-07, 0.000999999500000042], [5.23731719103891e-07, 8.51883063026372e-07, 0.000999999500000042], [4.49624380059152e-07, 8.93217545463105e-07, 0.000999999500000042], [3.7227954785065e-07, 9.28120468968779e-07, 0.000999999500000042], [2.92254139266335e-07, 9.56340517152967e-07, 0.000999999500000042], [2.10124372422284e-07, 9.77674493264937e-07, 0.000999999500000042], [1.26481617738988e-07, 9.91968783299575e-07, 0.000999999500000042], [4.19281398143995e-08, 9.99120462085736e-07, 0.000999999500000042], [-4.29272391458952e-08, 9.99078034392721e-07, 0.000999999500000042], [-1.27473523116154e-07, 9.91841805718566e-07, 0.000999999500000042], [-2.11101941690424e-07, 9.77463880090331e-07, 0.000999999500000042], [-2.93210333497039e-07, 9.56047784892192e-07, 0.000999999500000042], [-3.73207482025172e-07, 9.2774772542278e-07, 0.000999999500000042], [-4.50517372643573e-07, 8.92767474549249e-07, 0.000999999500000042], [-5.24583340159097e-07, 8.51358905453062e-07, 0.000999999500000042], [-5.9487207705077e-07, 8.03820178032384e-07, 0.000999999500000042], [-6.60877473518348e-07, 7.50493592019756e-07, 0.000999999500000042], [-7.22124261695335e-07, 6.9176312227357e-07, 0.000999999500000042], [-7.7817143778652e-07, 6.28051653990316e-07, 0.000999999500000042], [-8.28615437489141e-07, 5.59817937745292e-07, 0.000999999500000042], [-8.73093041833245e-07, 4.87553286286825e-07, 0.000999999500000042], [-9.11283992517925e-07, 4.11778036868531e-07, 0.000999999500000042], [-9.42913297911849e-07, 3.33037804592379e-07, 0.000999999500000042], [-9.67753213113875e-07, 2.51899553740142e-07, 0.000999999500000042], [-9.85624879816442e-07, 1.68947515381361e-07, 0.000999999500000042], [-9.96399614164003e-07, 8.47789806528539e-08, 0.000999999500000042], [-9.99999833333342e-07, -7.6571361216644e-22, 0.000999999500000042], [-9.96399614164003e-07, -8.47789806528555e-08, 0.000999999500000042], [-9.85624879816442e-07, -1.68947515381362e-07, 0.000999999500000042], [-9.67753213113874e-07, -2.51899553740144e-07, 0.000999999500000042], [-9.42913297911849e-07, -3.33037804592381e-07, 0.000999999500000042], [-9.11283992517925e-07, -4.11778036868532e-07, 0.000999999500000042], [-8.73093041833244e-07, -4.87553286286826e-07, 0.000999999500000042], [-8.2861543748914e-07, -5.59817937745293e-07, 0.000999999500000042], [-7.78171437786519e-07, -6.28051653990317e-07, 0.000999999500000042], [-7.22124261695334e-07, -6.91763122273571e-07, 0.000999999500000042], [-6.60877473518347e-07, -7.50493592019757e-07, 0.000999999500000042], [-5.94872077050769e-07, -8.03820178032385e-07, 0.000999999500000042], [-5.24583340159096e-07, -8.51358905453063e-07, 0.000999999500000042], [-4.50517372643571e-07, -8.92767474549249e-07, 0.000999999500000042], [-3.7320748202517e-07, -9.27747725422781e-07, 0.000999999500000042], [-2.93210333497037e-07, -9.56047784892192e-07, 0.000999999500000042], [-2.11101941690422e-07, -9.77463880090331e-07, 0.000999999500000042], [-1.27473523116152e-07, -9.91841805718567e-07, 0.000999999500000042], [-4.29272391458925e-08, -9.99078034392721e-07, 0.000999999500000042], [4.19281398144023e-08, -9.99120462085736e-07, 0.000999999500000042], [1.26481617738991e-07, -9.91968783299575e-07, 0.000999999500000042], [2.10124372422287e-07, -9.77674493264937e-07, 0.000999999500000042], [2.92254139266339e-07, -9.56340517152966e-07, 0.000999999500000042], [3.72279547850653e-07, -9.28120468968778e-07, 0.000999999500000042], [4.49624380059156e-07, -8.93217545463103e-07, 0.000999999500000042], [5.23731719103894e-07, -8.5188306302637e-07, 0.000999999500000042], [5.94067959570699e-07, -8.0441464810023e-07, 0.000999999500000042], [6.60126649612706e-07, -7.5115409413636e-07, 0.000999999500000042], [7.21432137626259e-07, -6.92484900533375e-07, 0.000999999500000042], [7.77542997151522e-07, -6.28829511272602e-07, 0.000999999500000042], [8.28055205337017e-07, -5.60646273135728e-07, 0.000999999500000042], [8.72605052081735e-07, -4.88426135406515e-07, 0.000999999500000042], [9.10871758907731e-07, -4.12689114820162e-07, 0.000999999500000042], [9.42579788706155e-07, -3.33980551214245e-07, 0.000999999500000042], [9.67500829725553e-07, -2.52867180842192e-07, 0.000999999500000042], [9.85455439516821e-07, -1.6993305562315e-07, 0.000999999500000042], [9.96314336997715e-07, -8.57753377114588e-08, 0.000999999500000042], [9.99999333333467e-07, -9.99999666660185e-10, 0.000999999500000042]], &quot;color&quot;:&quot;red&quot;, &quot;opacity&quot;:1, &quot;linewidth&quot;:1},{&quot;points&quot;:[[0.00070745989244397, 7.07460128264029e-07, 0.00070675313942234], [0.00070485290359463, 6.06826516467913e-05, 0.00070675313942234], [0.000697170664029244, 0.000120220901401085, 0.00070675313942234], [0.000684468489249325, 0.000178893507823546, 0.00070675313942234], [0.000666837840496387, 0.000236278002359048, 0.00070675313942234], [0.000644405666190803, 0.000291961191424228, 0.00070675313942234], [0.000617333487847384, 0.000345542131582895, 0.00070675313942234], [0.000585816237049474, 0.000396635016515009, 0.00070675313942234], [0.00055008085185587, 0.000444871954991756, 0.00070675313942234], [0.000510384642747055, 0.000489905619854098, 0.00070675313942234], [0.000467013439876632, 0.000531411748920987, 0.00070675313942234], [0.000420279534968594, 0.000569091479819589, 0.00070675313942234], [0.00037051943267964, 0.000602673501925732, 0.00070675313942234], [0.000318091427617744, 0.000631916009919651, 0.00070675313942234], [0.000263373024463492, 0.000656608444890575, 0.00070675313942234], [0.000206758219770452, 0.000676573010453432, 0.00070675313942234], [0.000148654665016816, 0.000691665952960969, 0.00070675313942234], [8.94807313355729e-05, 0.000701778596593197, 0.00070675313942234], [2.96624970584649e-05, 0.000706838125871068, 0.00070675313942234], [-3.0369320235281e-05, 0.00070680810995992, 0.00070675313942234], [-9.01824650748398e-05, 0.000701688764987506, 0.00070675313942234], [-0.000149346256527172, 0.00069151695248778, 0.00070675313942234], [-0.000207434689289041, 0.000676365913981645, 0.00070675313942234], [-0.000264029501112445, 0.000656344743605813, 0.00070675313942234], [-0.000318723184476642, 0.00063159760258707, 0.00070675313942234], [-0.000371121920821418, 0.00060230268121808, 0.00070675313942234], [-0.000420848416213814, 0.000568670915808951, 0.00070675313942234], [-0.000467544618030283, 0.000530944469853094, 0.00070675313942234], [-0.000510874293092957, 0.000489394990343626, 0.00070675313942234], [-0.000550525448696314, 0.000444321651795621, 0.00070675313942234], [-0.000586212579091788, 0.000396049002058104, 0.00070675313942234], [-0.000617678721254658, 0.000344924625426886, 0.00070675313942234], [-0.00064469730513076, 0.000291316639884854, 0.00070675313942234], [-0.000667073785040474, 0.0002356110464907, 0.00070675313942234], [-0.000684647040493117, 0.000178208950001628, 0.00070675313942234], [-0.000697290536325306, 0.000119523670742805, 0.00070675313942234], [-0.000704913233809741, 5.99777685193485e-05, 0.00070675313942234], [-0.000707460246174064, -5.41712030847435e-19, 0.00070675313942234], [-0.000704913233809741, -5.99777685193496e-05, 0.00070675313942234], [-0.000697290536325305, -0.000119523670742806, 0.00070675313942234], [-0.000684647040493117, -0.000178208950001629, 0.00070675313942234], [-0.000667073785040473, -0.000235611046490701, 0.00070675313942234], [-0.00064469730513076, -0.000291316639884855, 0.00070675313942234], [-0.000617678721254657, -0.000344924625426887, 0.00070675313942234], [-0.000586212579091788, -0.000396049002058105, 0.00070675313942234], [-0.000550525448696313, -0.000444321651795622, 0.00070675313942234], [-0.000510874293092957, -0.000489394990343627, 0.00070675313942234], [-0.000467544618030282, -0.000530944469853095, 0.00070675313942234], [-0.000420848416213813, -0.000568670915808952, 0.00070675313942234], [-0.000371121920821417, -0.00060230268121808, 0.00070675313942234], [-0.000318723184476642, -0.000631597602587071, 0.00070675313942234], [-0.000264029501112444, -0.000656344743605813, 0.00070675313942234], [-0.00020743468928904, -0.000676365913981645, 0.00070675313942234], [-0.00014934625652717, -0.000691516952487781, 0.00070675313942234], [-9.01824650748381e-05, -0.000701688764987507, 0.00070675313942234], [-3.03693202352792e-05, -0.00070680810995992, 0.00070675313942234], [2.96624970584669e-05, -0.000706838125871068, 0.00070675313942234], [8.94807313355751e-05, -0.000701778596593197, 0.00070675313942234], [0.000148654665016818, -0.000691665952960968, 0.00070675313942234], [0.000206758219770455, -0.000676573010453431, 0.00070675313942234], [0.000263373024463494, -0.000656608444890575, 0.00070675313942234], [0.000318091427617746, -0.00063191600991965, 0.00070675313942234], [0.000370519432679642, -0.00060267350192573, 0.00070675313942234], [0.000420279534968596, -0.000569091479819587, 0.00070675313942234], [0.000467013439876634, -0.000531411748920985, 0.00070675313942234], [0.000510384642747057, -0.000489905619854096, 0.00070675313942234], [0.000550080851855873, -0.000444871954991753, 0.00070675313942234], [0.000585816237049476, -0.000396635016515006, 0.00070675313942234], [0.000617333487847386, -0.000345542131582892, 0.00070675313942234], [0.000644405666190804, -0.000291961191424224, 0.00070675313942234], [0.000666837840496388, -0.000236278002359044, 0.00070675313942234], [0.000684468489249326, -0.000178893507823542, 0.00070675313942234], [0.000697170664029245, -0.000120220901401081, 0.00070675313942234], [0.00070485290359463, -6.06826516467869e-05, 0.00070675313942234], [0.00070745989244397, -7.07460128259411e-07, 0.00070675313942234]], &quot;color&quot;:&quot;red&quot;, &quot;opacity&quot;:1, &quot;linewidth&quot;:1},{&quot;points&quot;:[[0.000999999500000042, 9.99999833333342e-07, 6.12323399573677e-20], [0.000996314503050123, 8.57753520073564e-05, 6.12323399573677e-20], [0.000985455603759412, 0.000169933083945335, 6.12323399573677e-20], [0.000967500990975709, 0.000252867222986733, 6.12323399573677e-20], [0.000942579945802803, 0.000333980606877682, 6.12323399573677e-20], [0.000910871910719706, 0.000412689183601694, 6.12323399573677e-20], [0.000872605197515925, 0.000488426216810885, 6.12323399573677e-20], [0.000828055343346231, 0.000560646366576789, 6.12323399573677e-20], [0.000777543126742034, 0.000628829616077536, 6.12323399573677e-20], [0.000721432257864959, 0.000692485015947542, 6.12323399573677e-20], [0.000660126759633824, 0.000751154219328726, 6.12323399573677e-20], [0.000594068058582034, 0.000804414782169357, 6.12323399573677e-20], [0.000523731806392521, 0.0008518832050069, 6.12323399573677e-20], [0.000449624454996558, 0.000893217694332713, 6.12323399573677e-20], [0.000372279609897248, 0.000928120623655542, 6.12323399573677e-20], [0.000292254187975364, 0.000956340676543072, 6.12323399573677e-20], [0.000210124407443017, 0.000977674656210705, 6.12323399573677e-20], [0.00012648163881926, 0.000991968948627725, 6.12323399573677e-20], [4.19281468024236e-05, 0.000999120628605833, 6.12323399573677e-20], [-4.29272463004359e-05, 0.000999078200905746, 6.12323399573677e-20], [-0.000127473544361744, 0.000991841971025553, 6.12323399573677e-20], [-0.000211101976874085, 0.000977464043000996, 6.12323399573677e-20], [-0.000293210382365434, 0.000956047944233508, 6.12323399573677e-20], [-0.000373207544226426, 0.000927747880047419, 6.12323399573677e-20], [-0.00045051744772981, 0.000892767623343845, 6.12323399573677e-20], [-0.000524583427589664, 0.00085135904734623, 6.12323399573677e-20], [-0.000594872176196128, 0.000803820312002429, 6.12323399573677e-20], [-0.000660877583664607, 0.000750493717102036, 6.12323399573677e-20], [-0.000722124382049393, 0.000691763237567437, 6.12323399573677e-20], [-0.000778171567481775, 0.000628051758665603, 6.12323399573677e-20], [-0.00082861557559173, 0.000559818031048292, 6.12323399573677e-20], [-0.000873093187348769, 0.000487553367545716, 6.12323399573677e-20], [-0.000911284144398608, 0.000411778105498212, 6.12323399573677e-20], [-0.000942913455064084, 0.000333037860098687, 6.12323399573677e-20], [-0.000967753374406096, 0.000251899595723406, 6.12323399573677e-20], [-0.000985625044087275, 0.000168947543539283, 6.12323399573677e-20], [-0.000996399780230625, 8.47789947826857e-05, 6.12323399573677e-20], [-0.001, -7.6571373978539e-19, 6.12323399573677e-20], [-0.000996399780230625, -8.47789947826872e-05, 6.12323399573677e-20], [-0.000985625044087274, -0.000168947543539285, 6.12323399573677e-20], [-0.000967753374406095, -0.000251899595723407, 6.12323399573677e-20], [-0.000942913455064083, -0.000333037860098688, 6.12323399573677e-20], [-0.000911284144398608, -0.000411778105498213, 6.12323399573677e-20], [-0.000873093187348768, -0.000487553367545717, 6.12323399573677e-20], [-0.000828615575591729, -0.000559818031048294, 6.12323399573677e-20], [-0.000778171567481774, -0.000628051758665605, 6.12323399573677e-20], [-0.000722124382049392, -0.000691763237567438, 6.12323399573677e-20], [-0.000660877583664606, -0.000750493717102037, 6.12323399573677e-20], [-0.000594872176196127, -0.00080382031200243, 6.12323399573677e-20], [-0.000524583427589663, -0.00085135904734623, 6.12323399573677e-20], [-0.000450517447729809, -0.000892767623343846, 6.12323399573677e-20], [-0.000373207544226424, -0.00092774788004742, 6.12323399573677e-20], [-0.000293210382365432, -0.000956047944233508, 6.12323399573677e-20], [-0.000211101976874083, -0.000977464043000997, 6.12323399573677e-20], [-0.000127473544361742, -0.000991841971025554, 6.12323399573677e-20], [-4.29272463004332e-05, -0.000999078200905746, 6.12323399573677e-20], [4.19281468024264e-05, -0.000999120628605833, 6.12323399573677e-20], [0.000126481638819263, -0.000991968948627725, 6.12323399573677e-20], [0.00021012440744302, -0.000977674656210705, 6.12323399573677e-20], [0.000292254187975368, -0.000956340676543071, 6.12323399573677e-20], [0.000372279609897252, -0.000928120623655541, 6.12323399573677e-20], [0.000449624454996561, -0.000893217694332712, 6.12323399573677e-20], [0.000523731806392524, -0.000851883205006897, 6.12323399573677e-20], [0.000594068058582037, -0.000804414782169354, 6.12323399573677e-20], [0.000660126759633827, -0.000751154219328723, 6.12323399573677e-20], [0.000721432257864963, -0.000692485015947538, 6.12323399573677e-20], [0.000777543126742037, -0.000628829616077532, 6.12323399573677e-20], [0.000828055343346234, -0.000560646366576784, 6.12323399573677e-20], [0.000872605197515928, -0.00048842621681088, 6.12323399573677e-20], [0.000910871910719708, -0.000412689183601689, 6.12323399573677e-20], [0.000942579945802805, -0.000333980606877677, 6.12323399573677e-20], [0.00096750099097571, -0.000252867222986727, 6.12323399573677e-20], [0.000985455603759413, -0.000169933083945329, 6.12323399573677e-20], [0.000996314503050124, -8.57753520073501e-05, 6.12323399573677e-20], [0.000999999500000042, -9.99999833326815e-07, 6.12323399573677e-20]], &quot;color&quot;:&quot;red&quot;, &quot;opacity&quot;:1, &quot;linewidth&quot;:1},{&quot;points&quot;:[[0.00070745989244397, 7.07460128264028e-07, -0.00070675313942234], [0.00070485290359463, 6.06826516467913e-05, -0.00070675313942234], [0.000697170664029244, 0.000120220901401085, -0.00070675313942234], [0.000684468489249325, 0.000178893507823546, -0.00070675313942234], [0.000666837840496386, 0.000236278002359048, -0.00070675313942234], [0.000644405666190803, 0.000291961191424228, -0.00070675313942234], [0.000617333487847383, 0.000345542131582895, -0.00070675313942234], [0.000585816237049473, 0.000396635016515009, -0.00070675313942234], [0.00055008085185587, 0.000444871954991756, -0.00070675313942234], [0.000510384642747054, 0.000489905619854098, -0.00070675313942234], [0.000467013439876632, 0.000531411748920987, -0.00070675313942234], [0.000420279534968593, 0.000569091479819589, -0.00070675313942234], [0.000370519432679639, 0.000602673501925731, -0.00070675313942234], [0.000318091427617744, 0.000631916009919651, -0.00070675313942234], [0.000263373024463492, 0.000656608444890575, -0.00070675313942234], [0.000206758219770452, 0.000676573010453432, -0.00070675313942234], [0.000148654665016816, 0.000691665952960968, -0.00070675313942234], [8.94807313355729e-05, 0.000701778596593197, -0.00070675313942234], [2.96624970584649e-05, 0.000706838125871067, -0.00070675313942234], [-3.0369320235281e-05, 0.000706808109959919, -0.00070675313942234], [-9.01824650748398e-05, 0.000701688764987506, -0.00070675313942234], [-0.000149346256527172, 0.00069151695248778, -0.00070675313942234], [-0.000207434689289041, 0.000676365913981645, -0.00070675313942234], [-0.000264029501112445, 0.000656344743605813, -0.00070675313942234], [-0.000318723184476642, 0.00063159760258707, -0.00070675313942234], [-0.000371121920821418, 0.00060230268121808, -0.00070675313942234], [-0.000420848416213814, 0.000568670915808951, -0.00070675313942234], [-0.000467544618030283, 0.000530944469853094, -0.00070675313942234], [-0.000510874293092957, 0.000489394990343626, -0.00070675313942234], [-0.000550525448696313, 0.000444321651795621, -0.00070675313942234], [-0.000586212579091788, 0.000396049002058104, -0.00070675313942234], [-0.000617678721254658, 0.000344924625426886, -0.00070675313942234], [-0.00064469730513076, 0.000291316639884854, -0.00070675313942234], [-0.000667073785040473, 0.0002356110464907, -0.00070675313942234], [-0.000684647040493117, 0.000178208950001628, -0.00070675313942234], [-0.000697290536325305, 0.000119523670742805, -0.00070675313942234], [-0.000704913233809741, 5.99777685193485e-05, -0.00070675313942234], [-0.000707460246174063, -5.41712030847435e-19, -0.00070675313942234], [-0.00070491323380974, -5.99777685193495e-05, -0.00070675313942234], [-0.000697290536325305, -0.000119523670742806, -0.00070675313942234], [-0.000684647040493117, -0.000178208950001629, -0.00070675313942234], [-0.000667073785040473, -0.000235611046490701, -0.00070675313942234], [-0.00064469730513076, -0.000291316639884855, -0.00070675313942234], [-0.000617678721254657, -0.000344924625426887, -0.00070675313942234], [-0.000586212579091788, -0.000396049002058105, -0.00070675313942234], [-0.000550525448696313, -0.000444321651795622, -0.00070675313942234], [-0.000510874293092956, -0.000489394990343627, -0.00070675313942234], [-0.000467544618030282, -0.000530944469853095, -0.00070675313942234], [-0.000420848416213813, -0.000568670915808952, -0.00070675313942234], [-0.000371121920821417, -0.00060230268121808, -0.00070675313942234], [-0.000318723184476641, -0.000631597602587071, -0.00070675313942234], [-0.000264029501112444, -0.000656344743605813, -0.00070675313942234], [-0.00020743468928904, -0.000676365913981645, -0.00070675313942234], [-0.00014934625652717, -0.00069151695248778, -0.00070675313942234], [-9.01824650748381e-05, -0.000701688764987507, -0.00070675313942234], [-3.03693202352791e-05, -0.000706808109959919, -0.00070675313942234], [2.96624970584669e-05, -0.000706838125871067, -0.00070675313942234], [8.9480731335575e-05, -0.000701778596593197, -0.00070675313942234], [0.000148654665016818, -0.000691665952960968, -0.00070675313942234], [0.000206758219770455, -0.000676573010453431, -0.00070675313942234], [0.000263373024463494, -0.000656608444890574, -0.00070675313942234], [0.000318091427617746, -0.00063191600991965, -0.00070675313942234], [0.000370519432679642, -0.00060267350192573, -0.00070675313942234], [0.000420279534968596, -0.000569091479819587, -0.00070675313942234], [0.000467013439876634, -0.000531411748920985, -0.00070675313942234], [0.000510384642747057, -0.000489905619854096, -0.00070675313942234], [0.000550080851855873, -0.000444871954991753, -0.00070675313942234], [0.000585816237049475, -0.000396635016515006, -0.00070675313942234], [0.000617333487847385, -0.000345542131582892, -0.00070675313942234], [0.000644405666190804, -0.000291961191424224, -0.00070675313942234], [0.000666837840496388, -0.000236278002359044, -0.00070675313942234], [0.000684468489249326, -0.000178893507823542, -0.00070675313942234], [0.000697170664029245, -0.000120220901401081, -0.00070675313942234], [0.00070485290359463, -6.06826516467868e-05, -0.00070675313942234], [0.00070745989244397, -7.07460128259411e-07, -0.00070675313942234]], &quot;color&quot;:&quot;red&quot;, &quot;opacity&quot;:1, &quot;linewidth&quot;:1},{&quot;points&quot;:[[9.99999333333035e-07, 9.99999666666279e-10, -0.000999999500000042], [9.96314336997284e-07, 8.57753377114281e-08, -0.000999999500000042], [9.85455439516394e-07, 1.69933055623083e-07, -0.000999999500000042], [9.67500829725134e-07, 2.52867180842088e-07, -0.000999999500000042], [9.42579788705746e-07, 3.33980551214106e-07, -0.000999999500000042], [9.10871758907335e-07, 4.12689114819989e-07, -0.000999999500000042], [8.72605052081356e-07, 4.88426135406309e-07, -0.000999999500000042], [8.28055205336657e-07, 5.6064627313549e-07, -0.000999999500000042], [7.77542997151183e-07, 6.28829511272334e-07, -0.000999999500000042], [7.21432137625944e-07, 6.92484900533079e-07, -0.000999999500000042], [6.60126649612418e-07, 7.51154094136038e-07, -0.000999999500000042], [5.94067959570439e-07, 8.04414648099886e-07, -0.000999999500000042], [5.23731719103664e-07, 8.51883063026005e-07, -0.000999999500000042], [4.49624380058958e-07, 8.93217545462719e-07, -0.000999999500000042], [3.72279547850489e-07, 9.28120468968379e-07, -0.000999999500000042], [2.92254139266209e-07, 9.56340517152554e-07, -0.000999999500000042], [2.10124372422193e-07, 9.77674493264515e-07, -0.000999999500000042], [1.26481617738934e-07, 9.91968783299147e-07, -0.000999999500000042], [4.19281398143814e-08, 9.99120462085305e-07, -0.000999999500000042], [-4.29272391458766e-08, 9.99078034392289e-07, -0.000999999500000042], [-1.27473523116099e-07, 9.91841805718138e-07, -0.000999999500000042], [-2.11101941690333e-07, 9.77463880089909e-07, -0.000999999500000042], [-2.93210333496912e-07, 9.56047784891779e-07, -0.000999999500000042], [-3.73207482025011e-07, 9.2774772542238e-07, -0.000999999500000042], [-4.50517372643378e-07, 8.92767474548863e-07, -0.000999999500000042], [-5.24583340158871e-07, 8.51358905452695e-07, -0.000999999500000042], [-5.94872077050513e-07, 8.03820178032037e-07, -0.000999999500000042], [-6.60877473518063e-07, 7.50493592019432e-07, -0.000999999500000042], [-7.22124261695024e-07, 6.91763122273271e-07, -0.000999999500000042], [-7.78171437786184e-07, 6.28051653990044e-07, -0.000999999500000042], [-8.28615437488783e-07, 5.5981793774505e-07, -0.000999999500000042], [-8.73093041832868e-07, 4.87553286286615e-07, -0.000999999500000042], [-9.11283992517532e-07, 4.11778036868353e-07, -0.000999999500000042], [-9.42913297911442e-07, 3.33037804592235e-07, -0.000999999500000042], [-9.67753213113457e-07, 2.51899553740033e-07, -0.000999999500000042], [-9.85624879816017e-07, 1.68947515381288e-07, -0.000999999500000042], [-9.96399614163573e-07, 8.47789806528173e-08, -0.000999999500000042], [-9.9999983333291e-07, -7.65713612166109e-22, -0.000999999500000042], [-9.96399614163573e-07, -8.47789806528189e-08, -0.000999999500000042], [-9.85624879816016e-07, -1.68947515381289e-07, -0.000999999500000042], [-9.67753213113456e-07, -2.51899553740035e-07, -0.000999999500000042], [-9.42913297911442e-07, -3.33037804592237e-07, -0.000999999500000042], [-9.11283992517531e-07, -4.11778036868354e-07, -0.000999999500000042], [-8.73093041832867e-07, -4.87553286286616e-07, -0.000999999500000042], [-8.28615437488782e-07, -5.59817937745051e-07, -0.000999999500000042], [-7.78171437786183e-07, -6.28051653990046e-07, -0.000999999500000042], [-7.22124261695023e-07, -6.91763122273272e-07, -0.000999999500000042], [-6.60877473518062e-07, -7.50493592019433e-07, -0.000999999500000042], [-5.94872077050512e-07, -8.03820178032038e-07, -0.000999999500000042], [-5.2458334015887e-07, -8.51358905452695e-07, -0.000999999500000042], [-4.50517372643377e-07, -8.92767474548864e-07, -0.000999999500000042], [-3.73207482025009e-07, -9.2774772542238e-07, -0.000999999500000042], [-2.93210333496911e-07, -9.5604778489178e-07, -0.000999999500000042], [-2.11101941690331e-07, -9.77463880089909e-07, -0.000999999500000042], [-1.27473523116097e-07, -9.91841805718139e-07, -0.000999999500000042], [-4.2927239145874e-08, -9.99078034392289e-07, -0.000999999500000042], [4.19281398143842e-08, -9.99120462085305e-07, -0.000999999500000042], [1.26481617738937e-07, -9.91968783299147e-07, -0.000999999500000042], [2.10124372422197e-07, -9.77674493264515e-07, -0.000999999500000042], [2.92254139266213e-07, -9.56340517152553e-07, -0.000999999500000042], [3.72279547850492e-07, -9.28120468968377e-07, -0.000999999500000042], [4.49624380058962e-07, -8.93217545462718e-07, -0.000999999500000042], [5.23731719103668e-07, -8.51883063026003e-07, -0.000999999500000042], [5.94067959570442e-07, -8.04414648099883e-07, -0.000999999500000042], [6.60126649612421e-07, -7.51154094136035e-07, -0.000999999500000042], [7.21432137625947e-07, -6.92484900533076e-07, -0.000999999500000042], [7.77542997151187e-07, -6.2882951127233e-07, -0.000999999500000042], [8.2805520533666e-07, -5.60646273135486e-07, -0.000999999500000042], [8.72605052081359e-07, -4.88426135406304e-07, -0.000999999500000042], [9.10871758907337e-07, -4.12689114819983e-07, -0.000999999500000042], [9.42579788705748e-07, -3.33980551214101e-07, -0.000999999500000042], [9.67500829725135e-07, -2.52867180842083e-07, -0.000999999500000042], [9.85455439516395e-07, -1.69933055623077e-07, -0.000999999500000042], [9.96314336997285e-07, -8.57753377114218e-08, -0.000999999500000042], [9.99999333333035e-07, -9.99999666659753e-10, -0.000999999500000042]], &quot;color&quot;:&quot;red&quot;, &quot;opacity&quot;:1, &quot;linewidth&quot;:1},{&quot;points&quot;:[[0.00200074866616693, 2.00074933308342e-06, 2.00074899962508], [0.00199337590974818, 0.000171615006926214, 2.00074899962508], [0.00197164997061328, 0.00033999356103803, 2.00074899962508], [0.0019357272850734, 0.000505924012070027, 2.00074899962508], [0.00188586651225384, 0.000668211587841912, 2.00074899962508], [0.00182242667163464, 0.000825687746476449, 2.00074899962508], [0.00174586455795253, 0.000977218590414594, 2.00074899962508], [0.00165673145207803, 0.00112171303097632, 2.00074899962508], [0.0015556691515509, 0.00125813064467867, 2.00074899962508], [0.00144340534935573, 0.00138548916474216, 2.00074899962508], [0.00132074839421261, 0.00150287155384333, 2.00074899962508], [0.00118858147011107, 0.00160943260718654, 2.00074899962508], [0.00104785623699711, 0.00170440503835001, 2.00074899962508], [0.000899585978403349, 0.00178710500408531, 2.00074899962508], [0.000744838305362187, 0.00185693702828929, 2.00074899962508], [0.00058472746913712, 0.0019133982896938, 2.00074899962508], [0.000420406338123885, 0.00195608224239982, 2.00074899962508], [0.000253058096691281, 0.00198468154318662, 2.00074899962508], [8.38877257336597e-05, 0.00199899026451804, 2.00074899962508], [-8.58866737211498e-05, 0.00199890537731124, 2.00074899962508], [-0.000255042651374646, 0.00198442749279142, 2.00074899962508], [-0.000422362209837116, 0.00195566085809073, 2.00074899962508], [-0.000586640574744201, 0.00191281260562305, 2.00074899962508], [-0.000746694869661862, 0.00185619126163963, 2.00074899962508], [-0.000901372633316628, 0.00178620452470441, 2.00074899962508], [-0.00104956011782331, 0.00170335633008521, 2.00074899962508], [-0.00119019030815933, 0.00160824322119829, 2.00074899962508], [-0.00132225060514184, 0.00150155005423353, 2.00074899962508], [-0.00144479011658694, 0.00138404506688884, 2.00074899962508], [-0.00155692650415138, 0.00125657434672112, 2.00074899962508], [-0.0016578523365564, 0.00112005573894389, 2.00074899962508], [-0.00174684090344786, 0.000975472237538365, 2.00074899962508], [-0.00182325144803024, 0.000823864907264713, 2.00074899962508], [-0.00188653378079713, 0.000666325387538203, 2.00074899962508], [-0.00193623224113758, 0.000503988032145589, 2.00074899962508], [-0.00197198897829275, 0.000338021741399258, 2.00074899962508], [-0.00199354652803863, 0.000169621545541198, 2.00074899962508], [-0.00200074966654168, -1.532001509542e-18, 2.00074899962508], [-0.00199354652803863, -0.000169621545541201, 2.00074899962508], [-0.00197198897829275, -0.000338021741399261, 2.00074899962508], [-0.00193623224113758, -0.000503988032145592, 2.00074899962508], [-0.00188653378079713, -0.000666325387538206, 2.00074899962508], [-0.00182325144803024, -0.000823864907264716, 2.00074899962508], [-0.00174684090344786, -0.000975472237538368, 2.00074899962508], [-0.0016578523365564, -0.0011200557389439, 2.00074899962508], [-0.00155692650415138, -0.00125657434672113, 2.00074899962508], [-0.00144479011658694, -0.00138404506688885, 2.00074899962508], [-0.00132225060514183, -0.00150155005423353, 2.00074899962508], [-0.00119019030815933, -0.00160824322119829, 2.00074899962508], [-0.00104956011782331, -0.00170335633008522, 2.00074899962508], [-0.000901372633316626, -0.00178620452470441, 2.00074899962508], [-0.000746694869661859, -0.00185619126163963, 2.00074899962508], [-0.000586640574744197, -0.00191281260562305, 2.00074899962508], [-0.000422362209837112, -0.00195566085809073, 2.00074899962508], [-0.000255042651374641, -0.00198442749279142, 2.00074899962508], [-8.58866737211445e-05, -0.00199890537731124, 2.00074899962508], [8.38877257336654e-05, -0.00199899026451804, 2.00074899962508], [0.000253058096691287, -0.00198468154318662, 2.00074899962508], [0.000420406338123891, -0.00195608224239982, 2.00074899962508], [0.000584727469137127, -0.0019133982896938, 2.00074899962508], [0.000744838305362194, -0.00185693702828928, 2.00074899962508], [0.000899585978403356, -0.0017871050040853, 2.00074899962508], [0.00104785623699712, -0.00170440503835001, 2.00074899962508], [0.00118858147011108, -0.00160943260718654, 2.00074899962508], [0.00132074839421262, -0.00150287155384332, 2.00074899962508], [0.00144340534935574, -0.00138548916474215, 2.00074899962508], [0.00155566915155091, -0.00125813064467866, 2.00074899962508], [0.00165673145207804, -0.00112171303097631, 2.00074899962508], [0.00174586455795253, -0.000977218590414585, 2.00074899962508], [0.00182242667163464, -0.000825687746476438, 2.00074899962508], [0.00188586651225384, -0.000668211587841901, 2.00074899962508], [0.0019357272850734, -0.000505924012070015, 2.00074899962508], [0.00197164997061328, -0.000339993561038018, 2.00074899962508], [0.00199337590974818, -0.000171615006926201, 2.00074899962508], [0.00200074866616693, -2.00074933307036e-06, 2.00074899962508]], &quot;color&quot;:&quot;red&quot;, &quot;opacity&quot;:1, &quot;linewidth&quot;:1},{&quot;points&quot;:[[1.41545037980727, 0.00141545085162426, 1.41403634369925], [1.41023444686696, 0.121410815282318, 1.41403634369925], [1.39486420605651, 0.240531968478221, 1.41403634369925], [1.36945032986559, 0.357921185777959, 1.41403634369925], [1.33417580937315, 0.472733213219866, 1.41403634369925], [1.28929463663125, 0.584141353742024, 1.41403634369925], [1.23512997581065, 0.691343419764478, 1.41403634369925], [1.17207183627673, 0.793567509292405, 1.41403634369925], [1.10057426435063, 0.890077563949755, 1.41403634369925], [1.02115207397617, 0.980178668923087, 1.41403634369925], [0.934377139833171, 1.06322205665367, 1.41403634369925], [0.840874279588413, 1.13860977824904, 1.41403634369925], [0.741316754933789, 1.20579900897791, 1.41403634369925], [0.636421423806201, 1.26430595684674, 1.41403634369925], [0.526943578695331, 1.31370934611482, 1.41403634369925], [0.413671508205732, 1.3536534506647, 1.41403634369925], [0.297420821032395, 1.38385065538666, 1.41403634369925], [0.179028573219647, 1.40408352713384, 1.41403634369925], [0.0593472409897236, 1.41420638033654, 1.41403634369925], [-0.0607614174607385, 1.41414632600231, 1.41403634369925], [-0.180432566998486, 1.40390379654875, 1.41403634369925], [-0.298804522746739, 1.38355254268993, 1.41403634369925], [-0.415024954595049, 1.35323910239878, 1.41403634369925], [-0.528257024350724, 1.31318174576933, 1.41403634369925], [-0.637685411341642, 1.26366890337608, 1.41403634369925], [-0.742522183083452, 1.20505708944707, 1.41403634369925], [-0.842012468739788, 1.13776833480476, 1.41403634369925], [-0.935439894524089, 1.06228714805858, 1.41403634369925], [-1.02213174190573, 0.97915702693001, 1.41403634369925], [-1.10146379147915, 0.88897654483009, 1.41403634369925], [-1.1728648176179, 0.792395040867752, 1.41403634369925], [-1.23582070155026, 0.690107944322842, 1.41403634369925], [-1.28987813324037, 0.582851767249622, 1.41403634369925], [-1.33464787541973, 0.471398801266268, 1.41403634369925], [-1.3698075662666, 0.356551556715757, 1.41403634369925], [-1.39510404055286, 0.239136984238667, 1.41403634369925], [-1.41035515254484, 0.120000520365086, 1.41403634369925], [-1.41545108753276, -1.08383034571801e-15, 1.41403634369925], [-1.41035515254484, -0.120000520365089, 1.41403634369925], [-1.39510404055285, -0.239136984238669, 1.41403634369925], [-1.3698075662666, -0.356551556715759, 1.41403634369925], [-1.33464787541973, -0.47139880126627, 1.41403634369925], [-1.28987813324037, -0.582851767249624, 1.41403634369925], [-1.23582070155026, -0.690107944322843, 1.41403634369925], [-1.17286481761789, -0.792395040867754, 1.41403634369925], [-1.10146379147915, -0.888976544830091, 1.41403634369925], [-1.02213174190573, -0.979157026930012, 1.41403634369925], [-0.935439894524087, -1.06228714805858, 1.41403634369925], [-0.842012468739786, -1.13776833480476, 1.41403634369925], [-0.74252218308345, -1.20505708944707, 1.41403634369925], [-0.63768541134164, -1.26366890337608, 1.41403634369925], [-0.528257024350722, -1.31318174576933, 1.41403634369925], [-0.415024954595046, -1.35323910239878, 1.41403634369925], [-0.298804522746736, -1.38355254268993, 1.41403634369925], [-0.180432566998482, -1.40390379654875, 1.41403634369925], [-0.0607614174607348, -1.41414632600231, 1.41403634369925], [0.0593472409897276, -1.41420638033654, 1.41403634369925], [0.179028573219652, -1.40408352713384, 1.41403634369925], [0.297420821032399, -1.38385065538666, 1.41403634369925], [0.413671508205737, -1.3536534506647, 1.41403634369925], [0.526943578695336, -1.31370934611482, 1.41403634369925], [0.636421423806206, -1.26430595684674, 1.41403634369925], [0.741316754933794, -1.2057990089779, 1.41403634369925], [0.840874279588418, -1.13860977824904, 1.41403634369925], [0.934377139833176, -1.06322205665366, 1.41403634369925], [1.02115207397617, -0.980178668923082, 1.41403634369925], [1.10057426435064, -0.89007756394975, 1.41403634369925], [1.17207183627674, -0.793567509292399, 1.41403634369925], [1.23512997581066, -0.691343419764471, 1.41403634369925], [1.28929463663125, -0.584141353742016, 1.41403634369925], [1.33417580937315, -0.472733213219858, 1.41403634369925], [1.36945032986559, -0.357921185777951, 1.41403634369925], [1.39486420605651, -0.240531968478212, 1.41403634369925], [1.41023444686696, -0.121410815282309, 1.41403634369925], [1.41545037980727, -0.00141545085161502, 1.41403634369925]], &quot;color&quot;:&quot;red&quot;, &quot;opacity&quot;:1, &quot;linewidth&quot;:1},{&quot;points&quot;:[[2.00074899962508, 0.00200074966654168, 1.22510604169703e-16], [1.99337624197753, 0.171615035528718, 1.22510604169703e-16], [1.97165029922164, 0.33999361770363, 1.22510604169703e-16], [1.93572760769465, 0.505924096390706, 1.22510604169703e-16], [1.88586682656496, 0.668211699210523, 1.22510604169703e-16], [1.82242697537245, 0.825687884091089, 1.22510604169703e-16], [1.74586484892999, 0.977218753284378, 1.22510604169703e-16], [1.65673172819997, 1.12171321792851, 1.22510604169703e-16], [1.55566941082912, 1.25813085436713, 1.22510604169703e-16], [1.44340558992332, 1.38548939565704, 1.22510604169703e-16], [1.32074861433737, 1.50287180432195, 1.22510604169703e-16], [1.188581668208, 1.60943287542534, 1.22510604169703e-16], [1.04785641163984, 1.70440532241755, 1.22510604169703e-16], [0.899586128334363, 1.78710530193618, 1.22510604169703e-16], [0.744838429501919, 1.85693733777883, 1.22510604169703e-16], [0.58472756659171, 1.91339860859355, 1.22510604169703e-16], [0.420406408191616, 1.95608256841357, 1.22510604169703e-16], [0.253058138867635, 1.98468187396692, 1.22510604169703e-16], [0.083887739714949, 1.99899059768312, 1.22510604169703e-16], [-0.0858866880355971, 1.99890571046217, 1.22510604169703e-16], [-0.255042693881759, 1.98442782352938, 1.22510604169703e-16], [-0.422362280230826, 1.95566118403424, 1.22510604169703e-16], [-0.586640672517641, 1.91281292442519, 1.22510604169703e-16], [-0.746694994111022, 1.85619157100487, 1.22510604169703e-16], [-0.901372783545418, 1.7862048224052, 1.22510604169703e-16], [-1.04956029275002, 1.70335661397797, 1.22510604169703e-16], [-1.1901905065244, 1.60824348923886, 1.22510604169703e-16], [-1.32225082551696, 1.5015503044919, 1.22510604169703e-16], [-1.44479035738532, 1.38404529756305, 1.22510604169703e-16], [-1.55692676363916, 1.25657455615021, 1.22510604169703e-16], [-1.65785261286515, 1.12005592561987, 1.22510604169703e-16], [-1.74684119458805, 0.97547240011709, 1.22510604169703e-16], [-1.82325175190552, 0.823865044575547, 1.22510604169703e-16], [-1.88653409521947, 0.666325498592447, 1.22510604169703e-16], [-1.936232563843, 0.503988116143605, 1.22510604169703e-16], [-1.97198930695761, 0.338021797736221, 1.22510604169703e-16], [-1.99354686029642, 0.169621573811458, 1.22510604169703e-16], [-2.00075, -1.53200176487562e-15, 1.22510604169703e-16], [-1.99354686029642, -0.169621573811461, 1.22510604169703e-16], [-1.97198930695761, -0.338021797736224, 1.22510604169703e-16], [-1.93623256384299, -0.503988116143608, 1.22510604169703e-16], [-1.88653409521946, -0.66632549859245, 1.22510604169703e-16], [-1.82325175190551, -0.82386504457555, 1.22510604169703e-16], [-1.74684119458805, -0.975472400117093, 1.22510604169703e-16], [-1.65785261286515, -1.12005592561987, 1.22510604169703e-16], [-1.55692676363916, -1.25657455615021, 1.22510604169703e-16], [-1.44479035738532, -1.38404529756305, 1.22510604169703e-16], [-1.32225082551696, -1.5015503044919, 1.22510604169703e-16], [-1.1901905065244, -1.60824348923886, 1.22510604169703e-16], [-1.04956029275002, -1.70335661397797, 1.22510604169703e-16], [-0.901372783545415, -1.7862048224052, 1.22510604169703e-16], [-0.746694994111018, -1.85619157100488, 1.22510604169703e-16], [-0.586640672517638, -1.91281292442519, 1.22510604169703e-16], [-0.422362280230821, -1.95566118403424, 1.22510604169703e-16], [-0.255042693881754, -1.98442782352938, 1.22510604169703e-16], [-0.0858866880355918, -1.99890571046217, 1.22510604169703e-16], [0.0838877397149547, -1.99899059768312, 1.22510604169703e-16], [0.253058138867641, -1.98468187396692, 1.22510604169703e-16], [0.420406408191622, -1.95608256841357, 1.22510604169703e-16], [0.584727566591717, -1.91339860859355, 1.22510604169703e-16], [0.744838429501926, -1.85693733777882, 1.22510604169703e-16], [0.89958612833437, -1.78710530193617, 1.22510604169703e-16], [1.04785641163984, -1.70440532241755, 1.22510604169703e-16], [1.18858166820801, -1.60943287542534, 1.22510604169703e-16], [1.32074861433738, -1.50287180432194, 1.22510604169703e-16], [1.44340558992332, -1.38548939565704, 1.22510604169703e-16], [1.55566941082913, -1.25813085436712, 1.22510604169703e-16], [1.65673172819998, -1.1217132179285, 1.22510604169703e-16], [1.74586484892999, -0.977218753284369, 1.22510604169703e-16], [1.82242697537246, -0.825687884091079, 1.22510604169703e-16], [1.88586682656496, -0.668211699210512, 1.22510604169703e-16], [1.93572760769465, -0.505924096390694, 1.22510604169703e-16], [1.97165029922165, -0.339993617703618, 1.22510604169703e-16], [1.99337624197754, -0.171615035528706, 1.22510604169703e-16], [2.00074899962508, -0.00200074966652863, 1.22510604169703e-16]], &quot;color&quot;:&quot;red&quot;, &quot;opacity&quot;:1, &quot;linewidth&quot;:1},{&quot;points&quot;:[[1.41545037980727, 0.00141545085162425, -1.41403634369925], [1.41023444686696, 0.121410815282318, -1.41403634369925], [1.39486420605651, 0.24053196847822, -1.41403634369925], [1.36945032986559, 0.357921185777959, -1.41403634369925], [1.33417580937315, 0.472733213219866, -1.41403634369925], [1.28929463663125, 0.584141353742023, -1.41403634369925], [1.23512997581065, 0.691343419764478, -1.41403634369925], [1.17207183627673, 0.793567509292405, -1.41403634369925], [1.10057426435063, 0.890077563949755, -1.41403634369925], [1.02115207397617, 0.980178668923087, -1.41403634369925], [0.934377139833171, 1.06322205665366, -1.41403634369925], [0.840874279588413, 1.13860977824904, -1.41403634369925], [0.741316754933789, 1.20579900897791, -1.41403634369925], [0.636421423806201, 1.26430595684674, -1.41403634369925], [0.526943578695331, 1.31370934611482, -1.41403634369925], [0.413671508205732, 1.3536534506647, -1.41403634369925], [0.297420821032394, 1.38385065538666, -1.41403634369925], [0.179028573219647, 1.40408352713384, -1.41403634369925], [0.0593472409897236, 1.41420638033654, -1.41403634369925], [-0.0607614174607385, 1.41414632600231, -1.41403634369925], [-0.180432566998486, 1.40390379654875, -1.41403634369925], [-0.298804522746739, 1.38355254268993, -1.41403634369925], [-0.415024954595049, 1.35323910239878, -1.41403634369925], [-0.528257024350724, 1.31318174576933, -1.41403634369925], [-0.637685411341642, 1.26366890337608, -1.41403634369925], [-0.742522183083452, 1.20505708944707, -1.41403634369925], [-0.842012468739788, 1.13776833480476, -1.41403634369925], [-0.935439894524089, 1.06228714805858, -1.41403634369925], [-1.02213174190573, 0.97915702693001, -1.41403634369925], [-1.10146379147915, 0.888976544830089, -1.41403634369925], [-1.1728648176179, 0.792395040867752, -1.41403634369925], [-1.23582070155026, 0.690107944322841, -1.41403634369925], [-1.28987813324037, 0.582851767249622, -1.41403634369925], [-1.33464787541973, 0.471398801266268, -1.41403634369925], [-1.3698075662666, 0.356551556715757, -1.41403634369925], [-1.39510404055285, 0.239136984238667, -1.41403634369925], [-1.41035515254484, 0.120000520365086, -1.41403634369925], [-1.41545108753276, -1.08383034571801e-15, -1.41403634369925], [-1.41035515254484, -0.120000520365089, -1.41403634369925], [-1.39510404055285, -0.239136984238669, -1.41403634369925], [-1.3698075662666, -0.356551556715759, -1.41403634369925], [-1.33464787541973, -0.47139880126627, -1.41403634369925], [-1.28987813324037, -0.582851767249624, -1.41403634369925], [-1.23582070155026, -0.690107944322843, -1.41403634369925], [-1.17286481761789, -0.792395040867754, -1.41403634369925], [-1.10146379147915, -0.888976544830091, -1.41403634369925], [-1.02213174190573, -0.979157026930011, -1.41403634369925], [-0.935439894524087, -1.06228714805858, -1.41403634369925], [-0.842012468739786, -1.13776833480476, -1.41403634369925], [-0.74252218308345, -1.20505708944707, -1.41403634369925], [-0.63768541134164, -1.26366890337608, -1.41403634369925], [-0.528257024350722, -1.31318174576933, -1.41403634369925], [-0.415024954595046, -1.35323910239878, -1.41403634369925], [-0.298804522746736, -1.38355254268993, -1.41403634369925], [-0.180432566998482, -1.40390379654875, -1.41403634369925], [-0.0607614174607348, -1.41414632600231, -1.41403634369925], [0.0593472409897276, -1.41420638033654, -1.41403634369925], [0.179028573219652, -1.40408352713384, -1.41403634369925], [0.297420821032399, -1.38385065538666, -1.41403634369925], [0.413671508205737, -1.3536534506647, -1.41403634369925], [0.526943578695336, -1.31370934611482, -1.41403634369925], [0.636421423806206, -1.26430595684674, -1.41403634369925], [0.741316754933794, -1.2057990089779, -1.41403634369925], [0.840874279588418, -1.13860977824904, -1.41403634369925], [0.934377139833176, -1.06322205665366, -1.41403634369925], [1.02115207397617, -0.980178668923082, -1.41403634369925], [1.10057426435064, -0.890077563949749, -1.41403634369925], [1.17207183627674, -0.793567509292398, -1.41403634369925], [1.23512997581066, -0.691343419764471, -1.41403634369925], [1.28929463663125, -0.584141353742016, -1.41403634369925], [1.33417580937315, -0.472733213219858, -1.41403634369925], [1.36945032986559, -0.357921185777951, -1.41403634369925], [1.39486420605651, -0.240531968478212, -1.41403634369925], [1.41023444686696, -0.121410815282309, -1.41403634369925], [1.41545037980727, -0.00141545085161502, -1.41403634369925]], &quot;color&quot;:&quot;red&quot;, &quot;opacity&quot;:1, &quot;linewidth&quot;:1},{&quot;points&quot;:[[0.00200074866616607, 2.00074933308256e-06, -2.00074899962508], [0.00199337590974732, 0.00017161500692614, -2.00074899962508], [0.00197164997061243, 0.000339993561037883, -2.00074899962508], [0.00193572728507256, 0.000505924012069809, -2.00074899962508], [0.00188586651225302, 0.000668211587841623, -2.00074899962508], [0.00182242667163385, 0.000825687746476092, -2.00074899962508], [0.00174586455795177, 0.000977218590414172, -2.00074899962508], [0.00165673145207732, 0.00112171303097583, -2.00074899962508], [0.00155566915155023, 0.00125813064467812, -2.00074899962508], [0.00144340534935511, 0.00138548916474156, -2.00074899962508], [0.00132074839421204, 0.00150287155384268, -2.00074899962508], [0.00118858147011056, 0.00160943260718585, -2.00074899962508], [0.00104785623699666, 0.00170440503834928, -2.00074899962508], [0.00089958597840296, 0.00178710500408454, -2.00074899962508], [0.000744838305361866, 0.00185693702828848, -2.00074899962508], [0.000584727469136868, 0.00191339828969297, -2.00074899962508], [0.000420406338123703, 0.00195608224239898, -2.00074899962508], [0.000253058096691171, 0.00198468154318577, -2.00074899962508], [8.38877257336235e-05, 0.00199899026451717, -2.00074899962508], [-8.58866737211127e-05, 0.00199890537731037, -2.00074899962508], [-0.000255042651374536, 0.00198442749279056, -2.00074899962508], [-0.000422362209836934, 0.00195566085808988, -2.00074899962508], [-0.000586640574743947, 0.00191281260562223, -2.00074899962508], [-0.00074669486966154, 0.00185619126163883, -2.00074899962508], [-0.000901372633316239, 0.00178620452470364, -2.00074899962508], [-0.00104956011782286, 0.00170335633008448, -2.00074899962508], [-0.00119019030815882, 0.0016082432211976, -2.00074899962508], [-0.00132225060514126, 0.00150155005423288, -2.00074899962508], [-0.00144479011658632, 0.00138404506688825, -2.00074899962508], [-0.00155692650415071, 0.00125657434672058, -2.00074899962508], [-0.00165785233655568, 0.00112005573894341, -2.00074899962508], [-0.00174684090344711, 0.000975472237537944, -2.00074899962508], [-0.00182325144802945, 0.000823864907264357, -2.00074899962508], [-0.00188653378079632, 0.000666325387537915, -2.00074899962508], [-0.00193623224113675, 0.000503988032145372, -2.00074899962508], [-0.0019719889782919, 0.000338021741399112, -2.00074899962508], [-0.00199354652803777, 0.000169621545541124, -2.00074899962508], [-0.00200074966654082, -1.53200150954134e-18, -2.00074899962508], [-0.00199354652803777, -0.000169621545541127, -2.00074899962508], [-0.0019719889782919, -0.000338021741399115, -2.00074899962508], [-0.00193623224113675, -0.000503988032145375, -2.00074899962508], [-0.00188653378079632, -0.000666325387537918, -2.00074899962508], [-0.00182325144802945, -0.00082386490726436, -2.00074899962508], [-0.00174684090344711, -0.000975472237537947, -2.00074899962508], [-0.00165785233655568, -0.00112005573894341, -2.00074899962508], [-0.00155692650415071, -0.00125657434672058, -2.00074899962508], [-0.00144479011658632, -0.00138404506688825, -2.00074899962508], [-0.00132225060514126, -0.00150155005423288, -2.00074899962508], [-0.00119019030815881, -0.0016082432211976, -2.00074899962508], [-0.00104956011782286, -0.00170335633008448, -2.00074899962508], [-0.000901372633316236, -0.00178620452470364, -2.00074899962508], [-0.000746694869661537, -0.00185619126163883, -2.00074899962508], [-0.000586640574743944, -0.00191281260562223, -2.00074899962508], [-0.000422362209836929, -0.00195566085808989, -2.00074899962508], [-0.000255042651374531, -0.00198442749279057, -2.00074899962508], [-8.58866737211074e-05, -0.00199890537731037, -2.00074899962508], [8.38877257336292e-05, -0.00199899026451717, -2.00074899962508], [0.000253058096691178, -0.00198468154318577, -2.00074899962508], [0.00042040633812371, -0.00195608224239898, -2.00074899962508], [0.000584727469136875, -0.00191339828969297, -2.00074899962508], [0.000744838305361873, -0.00185693702828848, -2.00074899962508], [0.000899585978402967, -0.00178710500408453, -2.00074899962508], [0.00104785623699666, -0.00170440503834927, -2.00074899962508], [0.00118858147011056, -0.00160943260718584, -2.00074899962508], [0.00132074839421205, -0.00150287155384267, -2.00074899962508], [0.00144340534935511, -0.00138548916474155, -2.00074899962508], [0.00155566915155024, -0.00125813064467811, -2.00074899962508], [0.00165673145207732, -0.00112171303097582, -2.00074899962508], [0.00174586455795178, -0.000977218590414163, -2.00074899962508], [0.00182242667163385, -0.000825687746476082, -2.00074899962508], [0.00188586651225303, -0.000668211587841612, -2.00074899962508], [0.00193572728507256, -0.000505924012069797, -2.00074899962508], [0.00197164997061243, -0.000339993561037871, -2.00074899962508], [0.00199337590974732, -0.000171615006926127, -2.00074899962508], [0.00200074866616607, -2.0007493330695e-06, -2.00074899962508]], &quot;color&quot;:&quot;red&quot;, &quot;opacity&quot;:1, &quot;linewidth&quot;:1},{&quot;points&quot;:[[0.00400049733300053, 4.00049866650018e-06, 4.00049799975017], [0.00398575550515936, 0.000343144238514716, 4.00049799975017], [0.00394231448578704, 0.000679817189020437, 4.00049799975017], [0.00387048706931707, 0.00101159515695921, 4.00049799975017], [0.00377079044471897, 0.00133608919513261, 4.00049799975017], [0.00364394247151037, 0.00165096280383808, 4.00049799975017], [0.00349085651085297, 0.00195394875469378, 4.00049799975017], [0.00331263484895073, 0.0022428654156795, 4.00049799975017], [0.00311056076010465, 0.00251563245984606, 4.00049799975017], [0.00288608926657384, 0.00277028584458378, 4.00049799975017], [0.00264083666177562, 0.00300499195359252, 4.00049799975017], [0.00237656887226257, 0.00321806079972498, 4.00049799975017], [0.00209518874227511, 0.003407958193637, 4.00049799975017], [0.00179872233242664, 0.00357331679062515, 4.00049799975017], [0.00148930433117652, 0.0037129459361096, 4.00049799975017], [0.00116916268413497, 0.00382584023887044, 4.00049799975017], [0.000840602551875347, 0.00391118681030638, 4.00049799975017], [0.000505989711764822, 0.00396837111758995, 4.00049799975017], [0.000167733523327505, 0.00399698140857399, 4.00049799975017], [-0.000171730420203154, 0.00399681167658808, 4.00049799975017], [-0.000509957829226175, 0.00396786314377713, 4.00049799975017], [-0.000844513317732541, 0.00391034425230137, 4.00049799975017], [-0.0011729879391549, 0.00382466916346121, 4.00049799975017], [-0.0014930165318417, 0.00371145477555383, 4.00049799975017], [-0.00180229474926061, 0.00357151628193427, 4.00049799975017], [-0.00209859565230647, 0.00340586130126497, 4.00049799975017], [-0.00237978574424161, 0.00321568262221855, 4.00049799975017], [-0.00264384033281015, 0.00300234961487503, 4.00049799975017], [-0.00288885810891219, 0.00276739837065542, 4.00049799975017], [-0.00311307483686497, 0.00251252064178826, 4.00049799975017], [-0.00331487605767531, 0.00223955165995004, 4.00049799975017], [-0.0034928087138539, 0.00195045692179044, 4.00049799975017], [-0.00364559161206796, 0.00164731803649256, 4.00049799975017], [-0.00377212464829635, 0.00133231773727181, 4.00049799975017], [-0.00387149672906205, 0.00100772416473744, 4.00049799975017], [-0.00394299233170568, 0.000675874535283134, 4.00049799975017], [-0.00398609665646309, 0.000339158312101742, 4.00049799975017], [-0.00400049933325003, -3.06323730547184e-18, 4.00049799975017], [-0.00398609665646309, -0.000339158312101748, 4.00049799975017], [-0.00394299233170568, -0.00067587453528314, 4.00049799975017], [-0.00387149672906205, -0.00100772416473744, 4.00049799975017], [-0.00377212464829635, -0.00133231773727182, 4.00049799975017], [-0.00364559161206796, -0.00164731803649256, 4.00049799975017], [-0.00349280871385389, -0.00195045692179045, 4.00049799975017], [-0.0033148760576753, -0.00223955165995004, 4.00049799975017], [-0.00311307483686497, -0.00251252064178826, 4.00049799975017], [-0.00288885810891219, -0.00276739837065542, 4.00049799975017], [-0.00264384033281015, -0.00300234961487504, 4.00049799975017], [-0.0023797857442416, -0.00321568262221855, 4.00049799975017], [-0.00209859565230646, -0.00340586130126498, 4.00049799975017], [-0.00180229474926061, -0.00357151628193427, 4.00049799975017], [-0.00149301653184169, -0.00371145477555383, 4.00049799975017], [-0.0011729879391549, -0.00382466916346121, 4.00049799975017], [-0.000844513317732533, -0.00391034425230137, 4.00049799975017], [-0.000509957829226166, -0.00396786314377713, 4.00049799975017], [-0.000171730420203143, -0.00399681167658808, 4.00049799975017], [0.000167733523327516, -0.00399698140857399, 4.00049799975017], [0.000505989711764835, -0.00396837111758995, 4.00049799975017], [0.00084060255187536, -0.00391118681030638, 4.00049799975017], [0.00116916268413499, -0.00382584023887044, 4.00049799975017], [0.00148930433117654, -0.0037129459361096, 4.00049799975017], [0.00179872233242665, -0.00357331679062514, 4.00049799975017], [0.00209518874227513, -0.00340795819363699, 4.00049799975017], [0.00237656887226258, -0.00321806079972497, 4.00049799975017], [0.00264083666177563, -0.00300499195359251, 4.00049799975017], [0.00288608926657385, -0.00277028584458377, 4.00049799975017], [0.00311056076010466, -0.00251563245984604, 4.00049799975017], [0.00331263484895074, -0.00224286541567948, 4.00049799975017], [0.00349085651085298, -0.00195394875469376, 4.00049799975017], [0.00364394247151038, -0.00165096280383806, 4.00049799975017], [0.00377079044471897, -0.00133608919513259, 4.00049799975017], [0.00387048706931707, -0.00101159515695919, 4.00049799975017], [0.00394231448578704, -0.000679817189020412, 4.00049799975017], [0.00398575550515936, -0.000343144238514691, 4.00049799975017], [0.00400049733300053, -4.00049866647407e-06, 4.00049799975017]], &quot;color&quot;:&quot;red&quot;, &quot;opacity&quot;:1, &quot;linewidth&quot;:1},{&quot;points&quot;:[[2.8301932997221, 0.00283019424312025, 2.82736593425907], [2.81976404083032, 0.242760947912989, 2.82736593425907], [2.78903124144899, 0.48094371605504, 2.82736593425907], [2.73821619124193, 0.715663478048095, 2.82736593425907], [2.66768478090579, 0.945230148437373, 2.82736593425907], [2.57794486759631, 1.16799074629262, 2.82736593425907], [2.46964261813346, 1.38234129739737, 2.82736593425907], [2.34355785631642, 1.5867383835683, 2.82736593425907], [2.20059844784941, 1.77971025594452, 2.82736593425907], [2.04179376330959, 1.95986743222632, 2.82736593425907], [1.86828726622647, 2.12591270155841, 2.82736593425907], [1.68132827964186, 2.27665046501827, 2.82736593425907], [1.4822629904349, 2.41099534445389, 2.82736593425907], [1.27252475618478, 2.52797999768356, 2.82736593425907], [1.0536237843662, 2.62676208378475, 2.82736593425907], [0.827136258191694, 2.70663032831896, 2.82736593425907], [0.594692987399772, 2.76700964482035, 2.82736593425907], [0.357967665707959, 2.80746527567109, 2.82736593425907], [0.118664819482389, 2.82770592254721, 2.82736593425907], [-0.121492465601242, 2.82758584389466, 2.82736593425907], [-0.360774951531897, 2.80710590433252, 2.82736593425907], [-0.59745969923695, 2.76641356842736, 2.82736593425907], [-0.829842474500809, 2.70580183888357, 2.82736593425907], [-1.05625001920034, 2.62570714679505, 2.82736593425907], [-1.27505209949881, 2.52670620914957, 2.82736593425907], [-1.48467324424608, 2.40951187621293, 2.82736593425907], [-1.68360408906336, 2.27496799869371, 2.82736593425907], [-1.87041224443015, 2.1240433516473, 2.82736593425907], [-2.04375260951837, 1.95782465886968, 2.82736593425907], [-2.2023770575096, 1.77750876800838, 2.82736593425907], [-2.3451434226567, 1.58439403273345, 2.82736593425907], [-2.47102372437926, 1.37987096402026, 2.82736593425907], [-2.57911156917561, 1.16541221785936, 2.82736593425907], [-2.66862867705441, 0.942561991486046, 2.82736593425907], [-2.73893048549272, 0.712924904481512, 2.82736593425907], [-2.78951079056939, 0.47815444480659, 2.82736593425907], [-2.82000539185587, 0.239941062961654, 2.82736593425907], [-2.83019471481934, -2.16711897940516e-15, 2.82736593425907], [-2.82000539185587, -0.239941062961658, 2.82736593425907], [-2.78951079056938, -0.478154444806595, 2.82736593425907], [-2.73893048549271, -0.712924904481517, 2.82736593425907], [-2.66862867705441, -0.94256199148605, 2.82736593425907], [-2.57911156917561, -1.16541221785936, 2.82736593425907], [-2.47102372437926, -1.37987096402026, 2.82736593425907], [-2.3451434226567, -1.58439403273345, 2.82736593425907], [-2.2023770575096, -1.77750876800839, 2.82736593425907], [-2.04375260951837, -1.95782465886968, 2.82736593425907], [-1.87041224443014, -2.12404335164731, 2.82736593425907], [-1.68360408906336, -2.27496799869371, 2.82736593425907], [-1.48467324424608, -2.40951187621293, 2.82736593425907], [-1.2750520994988, -2.52670620914958, 2.82736593425907], [-1.05625001920033, -2.62570714679506, 2.82736593425907], [-0.829842474500803, -2.70580183888357, 2.82736593425907], [-0.597459699236944, -2.76641356842737, 2.82736593425907], [-0.36077495153189, -2.80710590433252, 2.82736593425907], [-0.121492465601234, -2.82758584389466, 2.82736593425907], [0.118664819482397, -2.82770592254721, 2.82736593425907], [0.357967665707968, -2.80746527567109, 2.82736593425907], [0.594692987399781, -2.76700964482035, 2.82736593425907], [0.827136258191704, -2.70663032831895, 2.82736593425907], [1.05362378436621, -2.62676208378474, 2.82736593425907], [1.27252475618479, -2.52797999768356, 2.82736593425907], [1.48226299043491, -2.41099534445388, 2.82736593425907], [1.68132827964187, -2.27665046501826, 2.82736593425907], [1.86828726622648, -2.1259127015584, 2.82736593425907], [2.0417937633096, -1.95986743222631, 2.82736593425907], [2.20059844784942, -1.77971025594451, 2.82736593425907], [2.34355785631643, -1.58673838356828, 2.82736593425907], [2.46964261813347, -1.38234129739736, 2.82736593425907], [2.57794486759631, -1.16799074629261, 2.82736593425907], [2.6676847809058, -0.945230148437357, 2.82736593425907], [2.73821619124193, -0.715663478048078, 2.82736593425907], [2.78903124144899, -0.480943716055023, 2.82736593425907], [2.81976404083032, -0.242760947912971, 2.82736593425907], [2.8301932997221, -0.00283019424310178, 2.82736593425907]], &quot;color&quot;:&quot;red&quot;, &quot;opacity&quot;:1, &quot;linewidth&quot;:1},{&quot;points&quot;:[[4.00049799975017, 0.00400049933325003, 2.44959975999449e-16], [3.98575616945202, 0.343144295705429, 2.44959975999449e-16], [3.94231514283953, 0.679817302323315, 2.44959975999449e-16], [3.87048771439832, 1.01159532555842, 2.44959975999449e-16], [3.77079107318411, 1.33608941781417, 2.44959975999449e-16], [3.64394307883418, 1.65096307899858, 2.44959975999449e-16], [3.49085709266246, 1.95394908035195, 2.44959975999449e-16], [3.3126354010566, 2.24286578949044, 2.44959975999449e-16], [3.11056127853151, 2.51563287911818, 2.44959975999449e-16], [2.88608974758877, 2.77028630629814, 2.44959975999449e-16], [2.64083710191511, 3.00499245442457, 2.44959975999449e-16], [2.37656926835742, 3.21806133606851, 2.44959975999449e-16], [2.09518909147328, 3.4079587616301, 2.44959975999449e-16], [1.79872263221373, 3.57331738617802, 2.44959975999449e-16], [1.48930457939394, 3.712946554934, 2.44959975999449e-16], [1.16916287899544, 3.82584087651056, 2.44959975999449e-16], [0.840602691975789, 3.91118746217093, 2.44959975999449e-16], [0.505989796096451, 3.96837177898521, 2.44959975999449e-16], [0.167733551283095, 3.99698207473763, 2.44959975999449e-16], [-0.171730448824894, 3.99681234272344, 2.44959975999449e-16], [-0.509957914219157, 3.96786380508773, 2.44959975999449e-16], [-0.844513458484777, 3.91034490402548, 2.44959975999449e-16], [-1.17298813465292, 3.82466980090615, 2.44959975999449e-16], [-1.49301678067782, 3.7114553941297, 2.44959975999449e-16], [-1.80229504964311, 3.57151687718705, 2.44959975999449e-16], [-2.09859600207245, 3.40586186890859, 2.44959975999449e-16], [-2.37978614087261, 3.21568315816572, 2.44959975999449e-16], [-2.64384077345026, 3.00235011526669, 2.44959975999449e-16], [-2.8888585903886, 2.76739883188853, 2.44959975999449e-16], [-3.11307535571084, 2.51252106054175, 2.44959975999449e-16], [-3.31487661015471, 2.23955203320869, 2.44959975999449e-16], [-3.49280929598875, 1.95045724686663, 2.44959975999449e-16], [-3.64559221966663, 1.6473183110456, 2.44959975999449e-16], [-3.77212527698387, 1.3323179593248, 2.44959975999449e-16], [-3.87149737431159, 1.00772433269149, 2.44959975999449e-16], [-3.94299298887114, 0.675874647928903, 2.44959975999449e-16], [-3.98609732081261, 0.339158368628134, 2.44959975999449e-16], [-4.0005, -3.06323781601145e-15, 2.44959975999449e-16], [-3.98609732081261, -0.33915836862814, 2.44959975999449e-16], [-3.94299298887114, -0.675874647928909, 2.44959975999449e-16], [-3.87149737431158, -1.00772433269149, 2.44959975999449e-16], [-3.77212527698386, -1.3323179593248, 2.44959975999449e-16], [-3.64559221966663, -1.6473183110456, 2.44959975999449e-16], [-3.49280929598875, -1.95045724686664, 2.44959975999449e-16], [-3.31487661015471, -2.2395520332087, 2.44959975999449e-16], [-3.11307535571084, -2.51252106054175, 2.44959975999449e-16], [-2.88885859038859, -2.76739883188854, 2.44959975999449e-16], [-2.64384077345025, -3.0023501152667, 2.44959975999449e-16], [-2.37978614087261, -3.21568315816572, 2.44959975999449e-16], [-2.09859600207245, -3.40586186890859, 2.44959975999449e-16], [-1.8022950496431, -3.57151687718705, 2.44959975999449e-16], [-1.49301678067781, -3.7114553941297, 2.44959975999449e-16], [-1.17298813465291, -3.82466980090615, 2.44959975999449e-16], [-0.844513458484769, -3.91034490402549, 2.44959975999449e-16], [-0.509957914219147, -3.96786380508773, 2.44959975999449e-16], [-0.171730448824883, -3.99681234272344, 2.44959975999449e-16], [0.167733551283107, -3.99698207473763, 2.44959975999449e-16], [0.505989796096463, -3.96837177898521, 2.44959975999449e-16], [0.840602691975802, -3.91118746217092, 2.44959975999449e-16], [1.16916287899546, -3.82584087651055, 2.44959975999449e-16], [1.48930457939396, -3.71294655493399, 2.44959975999449e-16], [1.79872263221374, -3.57331738617801, 2.44959975999449e-16], [2.09518909147329, -3.40795876163009, 2.44959975999449e-16], [2.37656926835744, -3.2180613360685, 2.44959975999449e-16], [2.64083710191513, -3.00499245442456, 2.44959975999449e-16], [2.88608974758878, -2.77028630629813, 2.44959975999449e-16], [3.11056127853152, -2.51563287911817, 2.44959975999449e-16], [3.31263540105661, -2.24286578949043, 2.44959975999449e-16], [3.49085709266247, -1.95394908035193, 2.44959975999449e-16], [3.64394307883419, -1.65096307899856, 2.44959975999449e-16], [3.77079107318412, -1.33608941781415, 2.44959975999449e-16], [3.87048771439833, -1.0115953255584, 2.44959975999449e-16], [3.94231514283953, -0.67981730232329, 2.44959975999449e-16], [3.98575616945202, -0.343144295705404, 2.44959975999449e-16], [4.00049799975017, -0.00400049933322392, 2.44959975999449e-16]], &quot;color&quot;:&quot;red&quot;, &quot;opacity&quot;:1, &quot;linewidth&quot;:1},{&quot;points&quot;:[[2.8301932997221, 0.00283019424312024, -2.82736593425907], [2.81976404083032, 0.242760947912989, -2.82736593425907], [2.78903124144899, 0.48094371605504, -2.82736593425907], [2.73821619124192, 0.715663478048095, -2.82736593425907], [2.66768478090579, 0.945230148437372, -2.82736593425907], [2.57794486759631, 1.16799074629262, -2.82736593425907], [2.46964261813346, 1.38234129739737, -2.82736593425907], [2.34355785631642, 1.58673838356829, -2.82736593425907], [2.20059844784941, 1.77971025594452, -2.82736593425907], [2.04179376330959, 1.95986743222632, -2.82736593425907], [1.86828726622646, 2.12591270155841, -2.82736593425907], [1.68132827964186, 2.27665046501826, -2.82736593425907], [1.4822629904349, 2.41099534445389, -2.82736593425907], [1.27252475618478, 2.52797999768356, -2.82736593425907], [1.0536237843662, 2.62676208378475, -2.82736593425907], [0.827136258191694, 2.70663032831895, -2.82736593425907], [0.594692987399772, 2.76700964482035, -2.82736593425907], [0.357967665707959, 2.80746527567109, -2.82736593425907], [0.118664819482389, 2.82770592254721, -2.82736593425907], [-0.121492465601242, 2.82758584389466, -2.82736593425907], [-0.360774951531897, 2.80710590433252, -2.82736593425907], [-0.59745969923695, 2.76641356842736, -2.82736593425907], [-0.829842474500808, 2.70580183888357, -2.82736593425907], [-1.05625001920034, 2.62570714679505, -2.82736593425907], [-1.27505209949881, 2.52670620914957, -2.82736593425907], [-1.48467324424608, 2.40951187621293, -2.82736593425907], [-1.68360408906336, 2.27496799869371, -2.82736593425907], [-1.87041224443015, 2.1240433516473, -2.82736593425907], [-2.04375260951837, 1.95782465886968, -2.82736593425907], [-2.2023770575096, 1.77750876800838, -2.82736593425907], [-2.3451434226567, 1.58439403273345, -2.82736593425907], [-2.47102372437926, 1.37987096402026, -2.82736593425907], [-2.57911156917561, 1.16541221785936, -2.82736593425907], [-2.66862867705441, 0.942561991486046, -2.82736593425907], [-2.73893048549271, 0.712924904481512, -2.82736593425907], [-2.78951079056938, 0.47815444480659, -2.82736593425907], [-2.82000539185587, 0.239941062961653, -2.82736593425907], [-2.83019471481934, -2.16711897940516e-15, -2.82736593425907], [-2.82000539185587, -0.239941062961658, -2.82736593425907], [-2.78951079056938, -0.478154444806594, -2.82736593425907], [-2.73893048549271, -0.712924904481516, -2.82736593425907], [-2.66862867705441, -0.94256199148605, -2.82736593425907], [-2.5791115691756, -1.16541221785936, -2.82736593425907], [-2.47102372437926, -1.37987096402026, -2.82736593425907], [-2.3451434226567, -1.58439403273345, -2.82736593425907], [-2.2023770575096, -1.77750876800839, -2.82736593425907], [-2.04375260951837, -1.95782465886968, -2.82736593425907], [-1.87041224443014, -2.12404335164731, -2.82736593425907], [-1.68360408906336, -2.27496799869371, -2.82736593425907], [-1.48467324424608, -2.40951187621293, -2.82736593425907], [-1.2750520994988, -2.52670620914958, -2.82736593425907], [-1.05625001920033, -2.62570714679505, -2.82736593425907], [-0.829842474500803, -2.70580183888357, -2.82736593425907], [-0.597459699236944, -2.76641356842737, -2.82736593425907], [-0.36077495153189, -2.80710590433252, -2.82736593425907], [-0.121492465601234, -2.82758584389466, -2.82736593425907], [0.118664819482397, -2.8277059225472, -2.82736593425907], [0.357967665707968, -2.80746527567108, -2.82736593425907], [0.594692987399781, -2.76700964482035, -2.82736593425907], [0.827136258191703, -2.70663032831895, -2.82736593425907], [1.05362378436621, -2.62676208378474, -2.82736593425907], [1.27252475618479, -2.52797999768356, -2.82736593425907], [1.48226299043491, -2.41099534445388, -2.82736593425907], [1.68132827964187, -2.27665046501826, -2.82736593425907], [1.86828726622647, -2.1259127015584, -2.82736593425907], [2.0417937633096, -1.95986743222631, -2.82736593425907], [2.20059844784942, -1.77971025594451, -2.82736593425907], [2.34355785631643, -1.58673838356828, -2.82736593425907], [2.46964261813347, -1.38234129739736, -2.82736593425907], [2.57794486759631, -1.16799074629261, -2.82736593425907], [2.6676847809058, -0.945230148437357, -2.82736593425907], [2.73821619124193, -0.715663478048078, -2.82736593425907], [2.78903124144899, -0.480943716055023, -2.82736593425907], [2.81976404083032, -0.242760947912971, -2.82736593425907], [2.8301932997221, -0.00283019424310177, -2.82736593425907]], &quot;color&quot;:&quot;red&quot;, &quot;opacity&quot;:1, &quot;linewidth&quot;:1},{&quot;points&quot;:[[0.00400049733299881, 4.00049866649845e-06, -4.00049799975017], [0.00398575550515764, 0.000343144238514568, -4.00049799975017], [0.00394231448578534, 0.000679817189020143, -4.00049799975017], [0.0038704870693154, 0.00101159515695878, -4.00049799975017], [0.00377079044471734, 0.00133608919513203, -4.00049799975017], [0.00364394247150879, 0.00165096280383736, -4.00049799975017], [0.00349085651085146, 0.00195394875469294, -4.00049799975017], [0.0033126348489493, 0.00224286541567853, -4.00049799975017], [0.00311056076010331, 0.00251563245984497, -4.00049799975017], [0.00288608926657259, 0.00277028584458258, -4.00049799975017], [0.00264083666177448, 0.00300499195359122, -4.00049799975017], [0.00237656887226154, 0.00321806079972359, -4.00049799975017], [0.00209518874227421, 0.00340795819363553, -4.00049799975017], [0.00179872233242586, 0.00357331679062361, -4.00049799975017], [0.00148930433117588, 0.003712945936108, -4.00049799975017], [0.00116916268413447, 0.00382584023886879, -4.00049799975017], [0.000840602551874984, 0.00391118681030469, -4.00049799975017], [0.000505989711764604, 0.00396837111758824, -4.00049799975017], [0.000167733523327433, 0.00399698140857226, -4.00049799975017], [-0.000171730420203079, 0.00399681167658635, -4.00049799975017], [-0.000509957829225955, 0.00396786314377541, -4.00049799975017], [-0.000844513317732177, 0.00391034425229968, -4.00049799975017], [-0.0011729879391544, 0.00382466916345956, -4.00049799975017], [-0.00149301653184105, 0.00371145477555223, -4.00049799975017], [-0.00180229474925983, 0.00357151628193273, -4.00049799975017], [-0.00209859565230556, 0.0034058613012635, -4.00049799975017], [-0.00237978574424058, 0.00321568262221716, -4.00049799975017], [-0.00264384033280901, 0.00300234961487374, -4.00049799975017], [-0.00288885810891094, 0.00276739837065422, -4.00049799975017], [-0.00311307483686363, 0.00251252064178717, -4.00049799975017], [-0.00331487605767388, 0.00223955165994907, -4.00049799975017], [-0.00349280871385239, 0.0019504569217896, -4.00049799975017], [-0.00364559161206639, 0.00164731803649185, -4.00049799975017], [-0.00377212464829472, 0.00133231773727124, -4.00049799975017], [-0.00387149672906038, 0.001007724164737, -4.00049799975017], [-0.00394299233170397, 0.000675874535282842, -4.00049799975017], [-0.00398609665646137, 0.000339158312101596, -4.00049799975017], [-0.00400049933324831, -3.06323730547052e-18, -4.00049799975017], [-0.00398609665646137, -0.000339158312101602, -4.00049799975017], [-0.00394299233170397, -0.000675874535282848, -4.00049799975017], [-0.00387149672906038, -0.00100772416473701, -4.00049799975017], [-0.00377212464829472, -0.00133231773727124, -4.00049799975017], [-0.00364559161206638, -0.00164731803649185, -4.00049799975017], [-0.00349280871385239, -0.00195045692178961, -4.00049799975017], [-0.00331487605767387, -0.00223955165994908, -4.00049799975017], [-0.00311307483686363, -0.00251252064178718, -4.00049799975017], [-0.00288885810891094, -0.00276739837065423, -4.00049799975017], [-0.00264384033280901, -0.00300234961487374, -4.00049799975017], [-0.00237978574424057, -0.00321568262221717, -4.00049799975017], [-0.00209859565230556, -0.00340586130126351, -4.00049799975017], [-0.00180229474925983, -0.00357151628193273, -4.00049799975017], [-0.00149301653184105, -0.00371145477555223, -4.00049799975017], [-0.00117298793915439, -0.00382466916345956, -4.00049799975017], [-0.000844513317732168, -0.00391034425229968, -4.00049799975017], [-0.000509957829225945, -0.00396786314377541, -4.00049799975017], [-0.000171730420203069, -0.00399681167658635, -4.00049799975017], [0.000167733523327444, -0.00399698140857226, -4.00049799975017], [0.000505989711764616, -0.00396837111758824, -4.00049799975017], [0.000840602551874997, -0.00391118681030469, -4.00049799975017], [0.00116916268413448, -0.00382584023886879, -4.00049799975017], [0.00148930433117589, -0.00371294593610799, -4.00049799975017], [0.00179872233242588, -0.0035733167906236, -4.00049799975017], [0.00209518874227422, -0.00340795819363552, -4.00049799975017], [0.00237656887226155, -0.00321806079972358, -4.00049799975017], [0.00264083666177449, -0.00300499195359121, -4.00049799975017], [0.0028860892665726, -0.00277028584458257, -4.00049799975017], [0.00311056076010332, -0.00251563245984496, -4.00049799975017], [0.00331263484894931, -0.00224286541567851, -4.00049799975017], [0.00349085651085147, -0.00195394875469292, -4.00049799975017], [0.0036439424715088, -0.00165096280383734, -4.00049799975017], [0.00377079044471735, -0.00133608919513201, -4.00049799975017], [0.0038704870693154, -0.00101159515695875, -4.00049799975017], [0.00394231448578534, -0.000679817189020119, -4.00049799975017], [0.00398575550515764, -0.000343144238514543, -4.00049799975017], [0.00400049733299881, -4.00049866647234e-06, -4.00049799975017]], &quot;color&quot;:&quot;red&quot;, &quot;opacity&quot;:1, &quot;linewidth&quot;:1},{&quot;points&quot;:[[0.00600024599983413, 6.00024799991693e-06, 6.00024699987525], [0.00597813510057054, 0.000514673470103219, 6.00024699987525], [0.0059129790009608, 0.00101964081700284, 6.00024699987525], [0.00580524685356074, 0.0015172663018484, 6.00024699987525], [0.0056557143771841, 0.00200396680242331, 6.00024699987525], [0.0054654582713861, 0.00247623786119971, 6.00024699987525], [0.00523584846375342, 0.00293067891897297, 6.00024699987525], [0.00496853824582342, 0.00336401780038268, 6.00024699987525], [0.0046654523686584, 0.00377313427501345, 6.00024699987525], [0.00432877318379194, 0.0041550825244254, 6.00024699987525], [0.00396092492933862, 0.00450711235334171, 6.00024699987525], [0.00356455627441406, 0.00482668899226342, 6.00024699987525], [0.00314252124755312, 0.00511151134892399, 6.00024699987525], [0.00269785868644993, 0.005359528577165, 6.00024699987525], [0.00223377035699086, 0.00556895484392992, 6.00024699987525], [0.00175359789913283, 0.00573828218804709, 6.00024699987525], [0.00126079876562681, 0.00586629137821294, 6.00024699987525], [0.000758921326838364, 0.00595206069199328, 6.00024699987525], [0.00025157932092135, 0.00599497255262994, 6.00024699987525], [-0.000257574166685157, 0.00599471797586492, 6.00024699987525], [-0.000764873007077705, 0.00595129879476283, 6.00024699987525], [-0.00126666442562797, 0.00586502764651201, 6.00024699987525], [-0.00175933530356561, 0.00573652572129937, 6.00024699987525], [-0.00223933819402154, 0.00556671828946804, 6.00024699987525], [-0.0027032168652046, 0.00535682803916413, 6.00024699987525], [-0.00314763118678962, 0.00510836627244474, 6.00024699987525], [-0.00356938118032388, 0.00482312202323881, 6.00024699987525], [-0.00396543006047847, 0.00450314917551654, 6.00024699987525], [-0.00433292610123744, 0.00415075167442199, 6.00024699987525], [-0.00466922316957857, 0.00376846693685539, 6.00024699987525], [-0.00497189977879421, 0.00335904758095619, 6.00024699987525], [-0.00523877652425993, 0.00292544160604252, 6.00024699987525], [-0.00546793177610568, 0.0024707711657204, 6.00024699987525], [-0.00565771551579557, 0.00199831008700542, 6.00024699987525], [-0.00580676121698653, 0.00151146029732929, 6.00024699987525], [-0.00591399568511861, 0.00101372732916701, 6.00024699987525], [-0.00597864678488756, 0.000508695078662287, 6.00024699987525], [-0.00600024899995838, -4.59447310140168e-18, 6.00024699987525], [-0.00597864678488756, -0.000508695078662296, 6.00024699987525], [-0.00591399568511861, -0.00101372732916702, 6.00024699987525], [-0.00580676121698652, -0.0015114602973293, 6.00024699987525], [-0.00565771551579557, -0.00199831008700543, 6.00024699987525], [-0.00546793177610568, -0.00247077116572041, 6.00024699987525], [-0.00523877652425992, -0.00292544160604253, 6.00024699987525], [-0.00497189977879421, -0.00335904758095619, 6.00024699987525], [-0.00466922316957856, -0.0037684669368554, 6.00024699987525], [-0.00433292610123743, -0.00415075167442199, 6.00024699987525], [-0.00396543006047846, -0.00450314917551655, 6.00024699987525], [-0.00356938118032388, -0.00482312202323882, 6.00024699987525], [-0.00314763118678962, -0.00510836627244474, 6.00024699987525], [-0.00270321686520459, -0.00535682803916413, 6.00024699987525], [-0.00223933819402153, -0.00556671828946804, 6.00024699987525], [-0.0017593353035656, -0.00573652572129938, 6.00024699987525], [-0.00126666442562795, -0.00586502764651201, 6.00024699987525], [-0.00076487300707769, -0.00595129879476283, 6.00024699987525], [-0.000257574166685142, -0.00599471797586492, 6.00024699987525], [0.000251579320921367, -0.00599497255262994, 6.00024699987525], [0.000758921326838382, -0.00595206069199327, 6.00024699987525], [0.00126079876562683, -0.00586629137821294, 6.00024699987525], [0.00175359789913285, -0.00573828218804708, 6.00024699987525], [0.00223377035699088, -0.00556895484392991, 6.00024699987525], [0.00269785868644995, -0.00535952857716499, 6.00024699987525], [0.00314252124755314, -0.00511151134892398, 6.00024699987525], [0.00356455627441409, -0.00482668899226341, 6.00024699987525], [0.00396092492933864, -0.00450711235334169, 6.00024699987525], [0.00432877318379196, -0.00415508252442538, 6.00024699987525], [0.00466545236865842, -0.00377313427501343, 6.00024699987525], [0.00496853824582344, -0.00336401780038265, 6.00024699987525], [0.00523584846375343, -0.00293067891897294, 6.00024699987525], [0.00546545827138611, -0.00247623786119967, 6.00024699987525], [0.00565571437718411, -0.00200396680242327, 6.00024699987525], [0.00580524685356075, -0.00151726630184836, 6.00024699987525], [0.0059129790009608, -0.00101964081700281, 6.00024699987525], [0.00597813510057054, -0.000514673470103181, 6.00024699987525], [0.00600024599983413, -6.00024799987777e-06, 6.00024699987525]], &quot;color&quot;:&quot;red&quot;, &quot;opacity&quot;:1, &quot;linewidth&quot;:1},{&quot;points&quot;:[[4.24493621963693, 0.00424493763461624, 4.24069552481889], [4.22929363479368, 0.36411108054366, 4.24069552481889], [4.18319827684147, 0.721355463631859, 4.24069552481889], [4.10698205261826, 1.07340577031823, 4.24069552481889], [4.00119375243844, 1.41772708365488, 4.24069552481889], [3.86659509856136, 1.75184013884322, 4.24069552481889], [3.70415526045626, 2.07333917503027, 4.24069552481889], [3.5150438763561, 2.37990925784418, 4.24069552481889], [3.30062263134819, 2.66934294793928, 4.24069552481889], [3.06243545264301, 2.93955619552955, 4.24069552481889], [2.80219739261976, 3.18860334646315, 4.24069552481889], [2.5217822796953, 3.41469115178749, 4.24069552481889], [2.22320922593601, 3.61619167992987, 4.24069552481889], [1.90862808856337, 3.79165403852039, 4.24069552481889], [1.58030399003707, 3.93981482145467, 4.24069552481889], [1.24060100817766, 4.05960720597321, 4.24069552481889], [0.89196515376715, 4.15016863425405, 4.24069552481889], [0.536906758196271, 4.21084702420833, 4.24069552481889], [0.177982397975054, 4.24120546475787, 4.24069552481889], [-0.182223513741745, 4.24102536178701, 4.24069552481889], [-0.541117336065308, 4.21030801211629, 4.24069552481889], [-0.896114875727162, 4.1492745941648, 4.24069552481889], [-1.24465999440657, 4.05836457536836, 4.24069552481889], [-1.58424301404995, 3.93823254782078, 4.24069552481889], [-1.91241878765597, 3.78974351492307, 4.24069552481889], [-2.22682430540871, 3.61396666297878, 4.24069552481889], [-2.52519570938694, 3.41216766258266, 4.24069552481889], [-2.80538459433621, 3.18579955523603, 4.24069552481889], [-3.06537347713102, 2.93649229080934, 4.24069552481889], [-3.30329032354005, 2.66604099118668, 4.24069552481889], [-3.5174220276955, 2.37639302459914, 4.24069552481889], [-3.70622674720826, 2.06963398371767, 4.24069552481889], [-3.86834500511085, 1.7479726684691, 4.24069552481889], [-4.0026094786891, 1.41372518170582, 4.24069552481889], [-4.10805340471883, 1.06929825224727, 4.24069552481889], [-4.18391754058591, 0.717171905374514, 4.24069552481889], [-4.2296556311669, 0.359881605558221, 4.24069552481889], [-4.24493834210593, -3.25040761309232e-15, 4.24069552481889], [-4.2296556311669, -0.359881605558227, 4.24069552481889], [-4.18391754058591, -0.717171905374521, 4.24069552481889], [-4.10805340471882, -1.06929825224727, 4.24069552481889], [-4.0026094786891, -1.41372518170583, 4.24069552481889], [-3.86834500511084, -1.7479726684691, 4.24069552481889], [-3.70622674720826, -2.06963398371768, 4.24069552481889], [-3.5174220276955, -2.37639302459915, 4.24069552481889], [-3.30329032354005, -2.66604099118668, 4.24069552481889], [-3.06537347713101, -2.93649229080935, 4.24069552481889], [-2.8053845943362, -3.18579955523603, 4.24069552481889], [-2.52519570938693, -3.41216766258266, 4.24069552481889], [-2.22682430540871, -3.61396666297879, 4.24069552481889], [-1.91241878765597, -3.78974351492307, 4.24069552481889], [-1.58424301404994, -3.93823254782078, 4.24069552481889], [-1.24465999440656, -4.05836457536837, 4.24069552481889], [-0.896114875727153, -4.14927459416481, 4.24069552481889], [-0.541117336065297, -4.21030801211629, 4.24069552481889], [-0.182223513741734, -4.24102536178701, 4.24069552481889], [0.177982397975066, -4.24120546475787, 4.24069552481889], [0.536906758196284, -4.21084702420833, 4.24069552481889], [0.891965153767164, -4.15016863425405, 4.24069552481889], [1.24060100817767, -4.0596072059732, 4.24069552481889], [1.58030399003708, -3.93981482145467, 4.24069552481889], [1.90862808856338, -3.79165403852038, 4.24069552481889], [2.22320922593602, -3.61619167992986, 4.24069552481889], [2.52178227969532, -3.41469115178748, 4.24069552481889], [2.80219739261977, -3.18860334646314, 4.24069552481889], [3.06243545264303, -2.93955619552954, 4.24069552481889], [3.3006226313482, -2.66934294793927, 4.24069552481889], [3.51504387635612, -2.37990925784417, 4.24069552481889], [3.70415526045627, -2.07333917503025, 4.24069552481889], [3.86659509856137, -1.7518401388432, 4.24069552481889], [4.00119375243845, -1.41772708365486, 4.24069552481889], [4.10698205261827, -1.07340577031821, 4.24069552481889], [4.18319827684148, -0.721355463631834, 4.24069552481889], [4.22929363479368, -0.364111080543633, 4.24069552481889], [4.24493621963693, -0.00424493763458853, 4.24069552481889]], &quot;color&quot;:&quot;red&quot;, &quot;opacity&quot;:1, &quot;linewidth&quot;:1},{&quot;points&quot;:[[6.00024699987525, 0.00600024899995838, 3.67409347829195e-16], [5.9781360969265, 0.51467355588214, 3.67409347829195e-16], [5.91297998645741, 1.019640986943, 3.67409347829195e-16], [5.80524782110199, 1.51726655472614, 3.67409347829195e-16], [5.65571531980327, 2.00396713641781, 3.67409347829195e-16], [5.46545918229591, 2.47623827390606, 3.67409347829195e-16], [5.23584933639493, 2.93067940741951, 3.67409347829195e-16], [4.96853907391322, 3.36401836105238, 3.67409347829195e-16], [4.66545314623389, 3.77313490386924, 3.67409347829195e-16], [4.32877390525422, 4.15508321693924, 3.67409347829195e-16], [3.96092558949285, 4.50711310452719, 3.67409347829195e-16], [3.56455686850685, 4.82668979671168, 3.67409347829195e-16], [3.14252177130672, 5.11151220084265, 3.67409347829195e-16], [2.69785913609309, 5.35952947041986, 3.67409347829195e-16], [2.23377072928596, 5.56895577208917, 3.67409347829195e-16], [1.75359819139918, 5.73828314442757, 3.67409347829195e-16], [1.26079897575996, 5.86629235592828, 3.67409347829195e-16], [0.758921453325267, 5.95206168400351, 3.67409347829195e-16], [0.251579362851242, 5.99497355179215, 3.67409347829195e-16], [-0.25757420961419, 5.9947189749847, 3.67409347829195e-16], [-0.764873134556554, 5.95129978664608, 3.67409347829195e-16], [-1.26666463673873, 5.86502862401673, 3.67409347829195e-16], [-1.75933559678819, 5.7365266773871, 3.67409347829195e-16], [-2.23933856724461, 5.56671921725453, 3.67409347829195e-16], [-2.70321731574079, 5.35682893196891, 3.67409347829195e-16], [-3.14763171139488, 5.10836712383921, 3.67409347829195e-16], [-3.56938177522082, 4.82312282709258, 3.67409347829195e-16], [-3.96543072138356, 4.50314992604149, 3.67409347829195e-16], [-4.33292682339187, 4.15075236621401, 3.67409347829195e-16], [-4.66922394778252, 3.76846756493329, 3.67409347829195e-16], [-4.97190060744427, 3.35904814079752, 3.67409347829195e-16], [-5.23877739738945, 2.92544209361618, 3.67409347829195e-16], [-5.46793268742775, 2.47077157751564, 3.67409347829195e-16], [-5.65771645874827, 1.99831042005714, 3.67409347829195e-16], [-5.80676218478017, 1.51146054923937, 3.67409347829195e-16], [-5.91399667078467, 1.01372749812158, 3.67409347829195e-16], [-5.97864778132881, 0.50869516344481, 3.67409347829195e-16], [-6.00025, -4.59447386714728e-15, 3.67409347829195e-16], [-5.97864778132881, -0.508695163444819, 3.67409347829195e-16], [-5.91399667078467, -1.01372749812159, 3.67409347829195e-16], [-5.80676218478017, -1.51146054923938, 3.67409347829195e-16], [-5.65771645874826, -1.99831042005715, 3.67409347829195e-16], [-5.46793268742775, -2.47077157751565, 3.67409347829195e-16], [-5.23877739738945, -2.92544209361619, 3.67409347829195e-16], [-4.97190060744427, -3.35904814079752, 3.67409347829195e-16], [-4.66922394778251, -3.76846756493329, 3.67409347829195e-16], [-4.33292682339186, -4.15075236621402, 3.67409347829195e-16], [-3.96543072138355, -4.5031499260415, 3.67409347829195e-16], [-3.56938177522081, -4.82312282709258, 3.67409347829195e-16], [-3.14763171139487, -5.10836712383922, 3.67409347829195e-16], [-2.70321731574079, -5.35682893196891, 3.67409347829195e-16], [-2.2393385672446, -5.56671921725453, 3.67409347829195e-16], [-1.75933559678818, -5.73652667738711, 3.67409347829195e-16], [-1.26666463673872, -5.86502862401673, 3.67409347829195e-16], [-0.76487313455654, -5.95129978664608, 3.67409347829195e-16], [-0.257574209614174, -5.9947189749847, 3.67409347829195e-16], [0.251579362851259, -5.99497355179215, 3.67409347829195e-16], [0.758921453325285, -5.9520616840035, 3.67409347829195e-16], [1.26079897575998, -5.86629235592828, 3.67409347829195e-16], [1.7535981913992, -5.73828314442756, 3.67409347829195e-16], [2.23377072928598, -5.56895577208916, 3.67409347829195e-16], [2.69785913609312, -5.35952947041985, 3.67409347829195e-16], [3.14252177130674, -5.11151220084264, 3.67409347829195e-16], [3.56455686850687, -4.82668979671167, 3.67409347829195e-16], [3.96092558949287, -4.50711310452717, 3.67409347829195e-16], [4.32877390525424, -4.15508321693922, 3.67409347829195e-16], [4.66545314623391, -3.77313490386921, 3.67409347829195e-16], [4.96853907391324, -3.36401836105235, 3.67409347829195e-16], [5.23584933639494, -2.93067940741948, 3.67409347829195e-16], [5.46545918229593, -2.47623827390603, 3.67409347829195e-16], [5.65571531980328, -2.00396713641778, 3.67409347829195e-16], [5.805247821102, -1.51726655472611, 3.67409347829195e-16], [5.91297998645742, -1.01964098694296, 3.67409347829195e-16], [5.97813609692651, -0.514673555882102, 3.67409347829195e-16], [6.00024699987525, -0.00600024899991922, 3.67409347829195e-16]], &quot;color&quot;:&quot;red&quot;, &quot;opacity&quot;:1, &quot;linewidth&quot;:1},{&quot;points&quot;:[[4.24493621963693, 0.00424493763461624, -4.24069552481889], [4.22929363479368, 0.36411108054366, -4.24069552481889], [4.18319827684147, 0.721355463631859, -4.24069552481889], [4.10698205261826, 1.07340577031823, -4.24069552481889], [4.00119375243844, 1.41772708365488, -4.24069552481889], [3.86659509856136, 1.75184013884322, -4.24069552481889], [3.70415526045626, 2.07333917503027, -4.24069552481889], [3.5150438763561, 2.37990925784418, -4.24069552481889], [3.30062263134819, 2.66934294793928, -4.24069552481889], [3.06243545264301, 2.93955619552955, -4.24069552481889], [2.80219739261976, 3.18860334646315, -4.24069552481889], [2.5217822796953, 3.41469115178749, -4.24069552481889], [2.22320922593601, 3.61619167992987, -4.24069552481889], [1.90862808856337, 3.79165403852038, -4.24069552481889], [1.58030399003707, 3.93981482145467, -4.24069552481889], [1.24060100817766, 4.05960720597321, -4.24069552481889], [0.89196515376715, 4.15016863425405, -4.24069552481889], [0.536906758196271, 4.21084702420833, -4.24069552481889], [0.177982397975054, 4.24120546475787, -4.24069552481889], [-0.182223513741745, 4.24102536178701, -4.24069552481889], [-0.541117336065307, 4.21030801211628, -4.24069552481889], [-0.896114875727162, 4.1492745941648, -4.24069552481889], [-1.24465999440657, 4.05836457536836, -4.24069552481889], [-1.58424301404995, 3.93823254782078, -4.24069552481889], [-1.91241878765597, 3.78974351492307, -4.24069552481889], [-2.22682430540871, 3.61396666297878, -4.24069552481889], [-2.52519570938694, 3.41216766258266, -4.24069552481889], [-2.80538459433621, 3.18579955523603, -4.24069552481889], [-3.06537347713101, 2.93649229080934, -4.24069552481889], [-3.30329032354005, 2.66604099118668, -4.24069552481889], [-3.5174220276955, 2.37639302459914, -4.24069552481889], [-3.70622674720826, 2.06963398371767, -4.24069552481889], [-3.86834500511084, 1.7479726684691, -4.24069552481889], [-4.0026094786891, 1.41372518170582, -4.24069552481889], [-4.10805340471882, 1.06929825224727, -4.24069552481889], [-4.18391754058591, 0.717171905374514, -4.24069552481889], [-4.22965563116689, 0.359881605558221, -4.24069552481889], [-4.24493834210592, -3.25040761309232e-15, -4.24069552481889], [-4.22965563116689, -0.359881605558227, -4.24069552481889], [-4.18391754058591, -0.71717190537452, -4.24069552481889], [-4.10805340471882, -1.06929825224727, -4.24069552481889], [-4.0026094786891, -1.41372518170583, -4.24069552481889], [-3.86834500511084, -1.7479726684691, -4.24069552481889], [-3.70622674720826, -2.06963398371768, -4.24069552481889], [-3.5174220276955, -2.37639302459915, -4.24069552481889], [-3.30329032354005, -2.66604099118668, -4.24069552481889], [-3.06537347713101, -2.93649229080935, -4.24069552481889], [-2.8053845943362, -3.18579955523603, -4.24069552481889], [-2.52519570938693, -3.41216766258266, -4.24069552481889], [-2.22682430540871, -3.61396666297879, -4.24069552481889], [-1.91241878765597, -3.78974351492307, -4.24069552481889], [-1.58424301404994, -3.93823254782078, -4.24069552481889], [-1.24465999440656, -4.05836457536837, -4.24069552481889], [-0.896114875727153, -4.1492745941648, -4.24069552481889], [-0.541117336065297, -4.21030801211629, -4.24069552481889], [-0.182223513741734, -4.24102536178701, -4.24069552481889], [0.177982397975066, -4.24120546475787, -4.24069552481889], [0.536906758196284, -4.21084702420833, -4.24069552481889], [0.891965153767163, -4.15016863425405, -4.24069552481889], [1.24060100817767, -4.0596072059732, -4.24069552481889], [1.58030399003708, -3.93981482145467, -4.24069552481889], [1.90862808856338, -3.79165403852038, -4.24069552481889], [2.22320922593602, -3.61619167992986, -4.24069552481889], [2.52178227969532, -3.41469115178748, -4.24069552481889], [2.80219739261977, -3.18860334646314, -4.24069552481889], [3.06243545264303, -2.93955619552954, -4.24069552481889], [3.3006226313482, -2.66934294793926, -4.24069552481889], [3.51504387635612, -2.37990925784417, -4.24069552481889], [3.70415526045627, -2.07333917503025, -4.24069552481889], [3.86659509856137, -1.7518401388432, -4.24069552481889], [4.00119375243845, -1.41772708365486, -4.24069552481889], [4.10698205261827, -1.07340577031821, -4.24069552481889], [4.18319827684148, -0.721355463631833, -4.24069552481889], [4.22929363479368, -0.364111080543633, -4.24069552481889], [4.24493621963693, -0.00424493763458853, -4.24069552481889]], &quot;color&quot;:&quot;red&quot;, &quot;opacity&quot;:1, &quot;linewidth&quot;:1},{&quot;points&quot;:[[0.00600024599983154, 6.00024799991434e-06, -6.00024699987525], [0.00597813510056795, 0.000514673470102996, -6.00024699987525], [0.00591297900095824, 0.0010196408170024, -6.00024699987525], [0.00580524685355823, 0.00151726630184774, -6.00024699987525], [0.00565571437718165, 0.00200396680242244, -6.00024699987525], [0.00546545827138374, 0.00247623786119864, -6.00024699987525], [0.00523584846375116, 0.0029306789189717, -6.00024699987525], [0.00496853824582127, 0.00336401780038123, -6.00024699987525], [0.00466545236865639, 0.00377313427501182, -6.00024699987525], [0.00432877318379007, 0.00415508252442361, -6.00024699987525], [0.00396092492933691, 0.00450711235333976, -6.00024699987525], [0.00356455627441253, 0.00482668899226134, -6.00024699987525], [0.00314252124755176, 0.00511151134892178, -6.00024699987525], [0.00269785868644876, 0.00535952857716268, -6.00024699987525], [0.0022337703569899, 0.00556895484392751, -6.00024699987525], [0.00175359789913207, 0.00573828218804461, -6.00024699987525], [0.00126079876562627, 0.00586629137821041, -6.00024699987525], [0.000758921326838036, 0.00595206069199071, -6.00024699987525], [0.000251579320921242, 0.00599497255262735, -6.00024699987525], [-0.000257574166685046, 0.00599471797586233, -6.00024699987525], [-0.000764873007077375, 0.00595129879476026, -6.00024699987525], [-0.00126666442562742, 0.00586502764650947, -6.00024699987525], [-0.00175933530356485, 0.0057365257212969, -6.00024699987525], [-0.00223933819402057, 0.00556671828946563, -6.00024699987525], [-0.00270321686520343, 0.00535682803916182, -6.00024699987525], [-0.00314763118678826, 0.00510836627244253, -6.00024699987525], [-0.00356938118032234, 0.00482312202323673, -6.00024699987525], [-0.00396543006047676, 0.0045031491755146, -6.00024699987525], [-0.00433292610123557, 0.0041507516744202, -6.00024699987525], [-0.00466922316957655, 0.00376846693685376, -6.00024699987525], [-0.00497189977879207, 0.00335904758095474, -6.00024699987525], [-0.00523877652425767, 0.00292544160604126, -6.00024699987525], [-0.00546793177610332, 0.00247077116571933, -6.00024699987525], [-0.00565771551579313, 0.00199831008700456, -6.00024699987525], [-0.00580676121698402, 0.00151146029732864, -6.00024699987525], [-0.00591399568511605, 0.00101372732916657, -6.00024699987525], [-0.00597864678488498, 0.000508695078662067, -6.00024699987525], [-0.00600024899995579, -4.5944731013997e-18, -6.00024699987525], [-0.00597864678488498, -0.000508695078662076, -6.00024699987525], [-0.00591399568511605, -0.00101372732916658, -6.00024699987525], [-0.00580676121698402, -0.00151146029732864, -6.00024699987525], [-0.00565771551579313, -0.00199831008700457, -6.00024699987525], [-0.00546793177610332, -0.00247077116571934, -6.00024699987525], [-0.00523877652425766, -0.00292544160604127, -6.00024699987525], [-0.00497189977879206, -0.00335904758095474, -6.00024699987525], [-0.00466922316957655, -0.00376846693685377, -6.00024699987525], [-0.00433292610123556, -0.0041507516744202, -6.00024699987525], [-0.00396543006047675, -0.0045031491755146, -6.00024699987525], [-0.00356938118032234, -0.00482312202323673, -6.00024699987525], [-0.00314763118678826, -0.00510836627244254, -6.00024699987525], [-0.00270321686520342, -0.00535682803916182, -6.00024699987525], [-0.00223933819402056, -0.00556671828946564, -6.00024699987525], [-0.00175933530356484, -0.0057365257212969, -6.00024699987525], [-0.00126666442562741, -0.00586502764650948, -6.00024699987525], [-0.00076487300707736, -0.00595129879476026, -6.00024699987525], [-0.00025757416668503, -0.00599471797586233, -6.00024699987525], [0.000251579320921259, -0.00599497255262735, -6.00024699987525], [0.000758921326838055, -0.0059520606919907, -6.00024699987525], [0.00126079876562628, -0.0058662913782104, -6.00024699987525], [0.00175359789913209, -0.00573828218804461, -6.00024699987525], [0.00223377035698992, -0.00556895484392751, -6.00024699987525], [0.00269785868644878, -0.00535952857716267, -6.00024699987525], [0.00314252124755178, -0.00511151134892177, -6.00024699987525], [0.00356455627441255, -0.00482668899226132, -6.00024699987525], [0.00396092492933693, -0.00450711235333974, -6.00024699987525], [0.00432877318379009, -0.00415508252442359, -6.00024699987525], [0.00466545236865641, -0.0037731342750118, -6.00024699987525], [0.00496853824582129, -0.0033640178003812, -6.00024699987525], [0.00523584846375117, -0.00293067891897168, -6.00024699987525], [0.00546545827138375, -0.0024762378611986, -6.00024699987525], [0.00565571437718167, -0.00200396680242241, -6.00024699987525], [0.00580524685355824, -0.00151726630184771, -6.00024699987525], [0.00591297900095825, -0.00101964081700237, -6.00024699987525], [0.00597813510056796, -0.000514673470102958, -6.00024699987525], [0.00600024599983154, -6.00024799987518e-06, -6.00024699987525]], &quot;color&quot;:&quot;red&quot;, &quot;opacity&quot;:1, &quot;linewidth&quot;:1},{&quot;points&quot;:[[0.00799999466666773, 7.99999733333369e-06, 7.99999600000033], [0.00797051469598171, 0.000686202701691721, 7.99999600000033], [0.00788364351613456, 0.00135946444498525, 7.99999600000033], [0.00774000663780441, 0.00202293744673758, 7.99999600000033], [0.00754063830964923, 0.002671844409714, 7.99999600000033], [0.00728697407126182, 0.00330151291856133, 7.99999600000033], [0.00698084041665386, 0.00390740908325216, 7.99999600000033], [0.00662444164269611, 0.00448517018508586, 7.99999600000033], [0.00622034397721215, 0.00503063609018084, 7.99999600000033], [0.00577145710101004, 0.00553987920426702, 7.99999600000033], [0.00528101319690162, 0.0060092327530909, 7.99999600000033], [0.00475254367656556, 0.00643531718480186, 7.99999600000033], [0.00418985375283112, 0.00681506450421098, 7.99999600000033], [0.00359699504047322, 0.00714574036370484, 7.99999600000033], [0.0029782363828052, 0.00742496375175023, 7.99999600000033], [0.00233803311413068, 0.00765072413722374, 7.99999600000033], [0.00168099497937827, 0.0078213959461195, 7.99999600000033], [0.00101185294191191, 0.0079357502663966, 7.99999600000033], [0.000335425118515196, 0.00799296369668589, 7.99999600000033], [-0.000343417913167161, 0.00799262427514176, 7.99999600000033], [-0.00101978818492923, 0.00793473444574853, 7.99999600000033], [-0.00168881553352339, 0.00781971104072264, 7.99999600000033], [-0.00234568266797631, 0.00764838227913753, 7.99999600000033], [-0.00298565985620137, 0.00742198180338224, 7.99999600000033], [-0.00360413898114858, 0.00714213979639399, 7.99999600000033], [-0.00419666672127278, 0.0068108712436245, 7.99999600000033], [-0.00475897661640616, 0.00643056142425907, 7.99999600000033], [-0.00528701978814679, 0.00600394873615805, 7.99999600000033], [-0.00577699409356268, 0.00553410497818856, 7.99999600000033], [-0.00622537150229216, 0.00502441323192252, 7.99999600000033], [-0.00662892349991312, 0.00447854350196233, 7.99999600000033], [-0.00698474433466596, 0.0039004262902946, 7.99999600000033], [-0.0072902719401434, 0.00329422429494825, 7.99999600000033], [-0.00754330638329479, 0.00266430243673903, 7.99999600000033], [-0.007742025704911, 0.00201519642992114, 7.99999600000033], [-0.00788499903853154, 0.00135158012305089, 7.99999600000033], [-0.00797119691331202, 0.000678231845222831, 7.99999600000033], [-0.00799999866666673, -6.12570889733152e-18, 7.99999600000033], [-0.00797119691331202, -0.000678231845222844, 7.99999600000033], [-0.00788499903853153, -0.0013515801230509, 7.99999600000033], [-0.00774202570491099, -0.00201519642992115, 7.99999600000033], [-0.00754330638329479, -0.00266430243673905, 7.99999600000033], [-0.0072902719401434, -0.00329422429494826, 7.99999600000033], [-0.00698474433466595, -0.00390042629029461, 7.99999600000033], [-0.00662892349991312, -0.00447854350196234, 7.99999600000033], [-0.00622537150229215, -0.00502441323192253, 7.99999600000033], [-0.00577699409356267, -0.00553410497818857, 7.99999600000033], [-0.00528701978814678, -0.00600394873615805, 7.99999600000033], [-0.00475897661640615, -0.00643056142425908, 7.99999600000033], [-0.00419666672127277, -0.0068108712436245, 7.99999600000033], [-0.00360413898114857, -0.00714213979639399, 7.99999600000033], [-0.00298565985620136, -0.00742198180338225, 7.99999600000033], [-0.0023456826679763, -0.00764838227913754, 7.99999600000033], [-0.00168881553352337, -0.00781971104072265, 7.99999600000033], [-0.00101978818492921, -0.00793473444574853, 7.99999600000033], [-0.00034341791316714, -0.00799262427514177, 7.99999600000033], [0.000335425118515218, -0.00799296369668589, 7.99999600000033], [0.00101185294191193, -0.0079357502663966, 7.99999600000033], [0.0016809949793783, -0.00782139594611949, 7.99999600000033], [0.00233803311413071, -0.00765072413722373, 7.99999600000033], [0.00297823638280523, -0.00742496375175022, 7.99999600000033], [0.00359699504047325, -0.00714574036370483, 7.99999600000033], [0.00418985375283115, -0.00681506450421096, 7.99999600000033], [0.00475254367656559, -0.00643531718480184, 7.99999600000033], [0.00528101319690165, -0.00600923275309088, 7.99999600000033], [0.00577145710101007, -0.005539879204267, 7.99999600000033], [0.00622034397721218, -0.00503063609018081, 7.99999600000033], [0.00662444164269614, -0.00448517018508582, 7.99999600000033], [0.00698084041665388, -0.00390740908325212, 7.99999600000033], [0.00728697407126184, -0.00330151291856129, 7.99999600000033], [0.00754063830964924, -0.00267184440971396, 7.99999600000033], [0.00774000663780442, -0.00202293744673753, 7.99999600000033], [0.00788364351613456, -0.0013594644449852, 7.99999600000033], [0.00797051469598172, -0.00068620270169167, 7.99999600000033], [0.00799999466666773, -7.99999733328148e-06, 7.99999600000033]], &quot;color&quot;:&quot;red&quot;, &quot;opacity&quot;:1, &quot;linewidth&quot;:1},{&quot;points&quot;:[[5.65967913955176, 0.00565968102611223, 5.65402511537872], [5.63882322875704, 0.485461213174331, 5.65402511537872], [5.57736531223395, 0.961767211208679, 5.65402511537872], [5.4757479139946, 1.43114806258837, 5.65402511537872], [5.33470272397109, 1.89022401887239, 5.65402511537872], [5.15524532952642, 2.33568953139382, 5.65402511537872], [4.93866790277907, 2.76433705266316, 5.65402511537872], [4.68652989639579, 3.17308013212007, 5.65402511537872], [4.40064681484696, 3.55897563993405, 5.65402511537872], [4.08307714197644, 3.91924495883279, 5.65402511537872], [3.73610751901305, 4.2512939913679, 5.65402511537872], [3.36223627974875, 4.55273183855671, 5.65402511537872], [2.96415546143712, 4.82138801540585, 5.65402511537872], [2.54473142094195, 5.05532807935721, 5.65402511537872], [2.10698419570793, 5.2528675591246, 5.65402511537872], [1.65406575816362, 5.41258408362746, 5.65402511537872], [1.18923732013453, 5.53332762368775, 5.65402511537872], [0.715845850684583, 5.61422877274558, 5.65402511537872], [0.237299976467719, 5.65470500696854, 5.65402511537872], [-0.242954561882248, 5.65446487967936, 5.65402511537872], [-0.721459720598718, 5.61351011990005, 5.65402511537872], [-1.19477005221737, 5.53213561990224, 5.65402511537872], [-1.65947751431233, 5.41092731185316, 5.65402511537872], [-2.11223600889956, 5.2507579488465, 5.65402511537872], [-2.54978547581314, 5.05278082069656, 5.65402511537872], [-2.96897536657134, 4.81842144974464, 5.65402511537872], [-3.36678732971051, 4.54936732647161, 5.65402511537872], [-3.74035694424226, 4.24755575882475, 5.65402511537872], [-4.08699434474366, 3.91515992274901, 5.65402511537872], [-4.40420358957051, 3.55457321436497, 5.65402511537872], [-4.68970063273431, 3.16839201646484, 5.65402511537872], [-4.94142977003726, 2.75939700341508, 5.65402511537872], [-5.15757844104608, 2.33053311907883, 5.65402511537872], [-5.33659028032379, 1.8848883719256, 5.65402511537872], [-5.47717632394494, 1.42567160001302, 5.65402511537872], [-5.57832429060244, 0.956189365942438, 5.65402511537872], [-5.63930587047793, 0.479822148154788, 5.65402511537872], [-5.65968196939251, -4.33369624677948e-15, 5.65402511537872], [-5.63930587047792, -0.479822148154796, 5.65402511537872], [-5.57832429060244, -0.956189365942446, 5.65402511537872], [-5.47717632394493, -1.42567160001303, 5.65402511537872], [-5.33659028032378, -1.88488837192561, 5.65402511537872], [-5.15757844104608, -2.33053311907884, 5.65402511537872], [-4.94142977003726, -2.75939700341509, 5.65402511537872], [-4.6897006327343, -3.16839201646484, 5.65402511537872], [-4.4042035895705, -3.55457321436498, 5.65402511537872], [-4.08699434474365, -3.91515992274902, 5.65402511537872], [-3.74035694424226, -4.24755575882476, 5.65402511537872], [-3.3667873297105, -4.54936732647161, 5.65402511537872], [-2.96897536657134, -4.81842144974464, 5.65402511537872], [-2.54978547581313, -5.05278082069657, 5.65402511537872], [-2.11223600889955, -5.25075794884651, 5.65402511537872], [-1.65947751431232, -5.41092731185316, 5.65402511537872], [-1.19477005221736, -5.53213561990224, 5.65402511537872], [-0.721459720598705, -5.61351011990005, 5.65402511537872], [-0.242954561882233, -5.65446487967936, 5.65402511537872], [0.237299976467735, -5.65470500696854, 5.65402511537872], [0.7158458506846, -5.61422877274558, 5.65402511537872], [1.18923732013455, -5.53332762368774, 5.65402511537872], [1.65406575816364, -5.41258408362745, 5.65402511537872], [2.10698419570795, -5.25286755912459, 5.65402511537872], [2.54473142094197, -5.0553280793572, 5.65402511537872], [2.96415546143714, -4.82138801540584, 5.65402511537872], [3.36223627974877, -4.5527318385567, 5.65402511537872], [3.73610751901307, -4.25129399136788, 5.65402511537872], [4.08307714197646, -3.91924495883277, 5.65402511537872], [4.40064681484698, -3.55897563993402, 5.65402511537872], [4.6865298963958, -3.17308013212005, 5.65402511537872], [4.93866790277908, -2.76433705266314, 5.65402511537872], [5.15524532952643, -2.33568953139379, 5.65402511537872], [5.3347027239711, -1.89022401887235, 5.65402511537872], [5.47574791399461, -1.43114806258833, 5.65402511537872], [5.57736531223396, -0.961767211208644, 5.65402511537872], [5.63882322875704, -0.485461213174295, 5.65402511537872], [5.65967913955176, -0.00565968102607529, 5.65402511537872]], &quot;color&quot;:&quot;red&quot;, &quot;opacity&quot;:1, &quot;linewidth&quot;:1},{&quot;points&quot;:[[7.99999600000033, 0.00799999866666673, 4.89858719658941e-16], [7.97051602440099, 0.686202816058851, 4.89858719658941e-16], [7.8836448300753, 1.35946467156268, 4.89858719658941e-16], [7.74000792780567, 2.02293778389386, 4.89858719658941e-16], [7.54063956642242, 2.67184485502146, 4.89858719658941e-16], [7.28697528575764, 3.30151346881355, 4.89858719658941e-16], [6.9808415801274, 3.90740973448708, 4.89858719658941e-16], [6.62444274676985, 4.48517093261431, 4.89858719658941e-16], [6.22034501393627, 5.03063692862029, 4.89858719658941e-16], [5.77145806291967, 5.53988012758033, 4.89858719658941e-16], [5.28101407707059, 6.00923375462981, 4.89858719658941e-16], [4.75254446865627, 6.43531825735485, 4.89858719658941e-16], [4.18985445114016, 6.8150656400552, 4.89858719658941e-16], [3.59699563997246, 7.14574155466171, 4.89858719658941e-16], [2.97823687917799, 7.42496498924434, 4.89858719658941e-16], [2.33803350380291, 7.65072541234457, 4.89858719658941e-16], [1.68099525954413, 7.82139724968564, 4.89858719658941e-16], [1.01185311055408, 7.9357515890218, 4.89858719658941e-16], [0.335425174419389, 7.99296502884666, 4.89858719658941e-16], [-0.343417970403487, 7.99262560724596, 4.89858719658941e-16], [-1.01978835489395, 7.93473576820443, 4.89858719658941e-16], [-1.68881581499268, 7.81971234400797, 4.89858719658941e-16], [-2.34568305892347, 7.64838355386806, 4.89858719658941e-16], [-2.98566035381141, 7.42198304037935, 4.89858719658941e-16], [-3.60413958183848, 7.14214098675076, 4.89858719658941e-16], [-4.19666742071731, 6.81087237876984, 4.89858719658941e-16], [-4.75897740956902, 6.43056249601943, 4.89858719658941e-16], [-5.28702066931685, 6.00394973681629, 4.89858719658941e-16], [-5.77699505639514, 5.53410590053949, 4.89858719658941e-16], [-6.2253725398542, 5.02441406932483, 4.89858719658941e-16], [-6.62892460473384, 4.47854424838634, 4.89858719658941e-16], [-6.98474549879015, 3.90042694036572, 4.89858719658941e-16], [-7.29027315518887, 3.29422484398569, 4.89858719658941e-16], [-7.54330764051267, 2.66430288078949, 4.89858719658941e-16], [-7.74202699524876, 2.01519676578725, 4.89858719658941e-16], [-7.8850003526982, 1.35158034831427, 4.89858719658941e-16], [-7.971198241845, 0.678231958261485, 4.89858719658941e-16], [-8.0, -6.12570991828312e-15, 4.89858719658941e-16], [-7.971198241845, -0.678231958261498, 4.89858719658941e-16], [-7.88500035269819, -1.35158034831428, 4.89858719658941e-16], [-7.74202699524876, -2.01519676578726, 4.89858719658941e-16], [-7.54330764051266, -2.6643028807895, 4.89858719658941e-16], [-7.29027315518886, -3.2942248439857, 4.89858719658941e-16], [-6.98474549879014, -3.90042694036573, 4.89858719658941e-16], [-6.62892460473383, -4.47854424838635, 4.89858719658941e-16], [-6.22537253985419, -5.02441406932484, 4.89858719658941e-16], [-5.77699505639514, -5.5341059005395, 4.89858719658941e-16], [-5.28702066931684, -6.00394973681629, 4.89858719658941e-16], [-4.75897740956901, -6.43056249601944, 4.89858719658941e-16], [-4.1966674207173, -6.81087237876984, 4.89858719658941e-16], [-3.60413958183847, -7.14214098675077, 4.89858719658941e-16], [-2.98566035381139, -7.42198304037936, 4.89858719658941e-16], [-2.34568305892345, -7.64838355386807, 4.89858719658941e-16], [-1.68881581499266, -7.81971234400797, 4.89858719658941e-16], [-1.01978835489393, -7.93473576820443, 4.89858719658941e-16], [-0.343417970403466, -7.99262560724597, 4.89858719658941e-16], [0.335425174419411, -7.99296502884666, 4.89858719658941e-16], [1.01185311055411, -7.9357515890218, 4.89858719658941e-16], [1.68099525954416, -7.82139724968564, 4.89858719658941e-16], [2.33803350380294, -7.65072541234457, 4.89858719658941e-16], [2.97823687917801, -7.42496498924433, 4.89858719658941e-16], [3.59699563997249, -7.14574155466169, 4.89858719658941e-16], [4.18985445114019, -6.81506564005518, 4.89858719658941e-16], [4.7525444686563, -6.43531825735483, 4.89858719658941e-16], [5.28101407707062, -6.00923375462978, 4.89858719658941e-16], [5.7714580629197, -5.5398801275803, 4.89858719658941e-16], [6.22034501393629, -5.03063692862026, 4.89858719658941e-16], [6.62444274676987, -4.48517093261427, 4.89858719658941e-16], [6.98084158012742, -3.90740973448704, 4.89858719658941e-16], [7.28697528575766, -3.30151346881351, 4.89858719658941e-16], [7.54063956642244, -2.67184485502141, 4.89858719658941e-16], [7.74000792780568, -2.02293778389381, 4.89858719658941e-16], [7.8836448300753, -1.35946467156263, 4.89858719658941e-16], [7.97051602440099, -0.686202816058801, 4.89858719658941e-16], [7.99999600000033, -0.00799999866661452, 4.89858719658941e-16]], &quot;color&quot;:&quot;red&quot;, &quot;opacity&quot;:1, &quot;linewidth&quot;:1},{&quot;points&quot;:[[5.65967913955176, 0.00565968102611222, -5.65402511537872], [5.63882322875704, 0.48546121317433, -5.65402511537872], [5.57736531223395, 0.961767211208678, -5.65402511537872], [5.4757479139946, 1.43114806258837, -5.65402511537872], [5.33470272397109, 1.89022401887239, -5.65402511537872], [5.15524532952642, 2.33568953139382, -5.65402511537872], [4.93866790277907, 2.76433705266316, -5.65402511537872], [4.68652989639579, 3.17308013212007, -5.65402511537872], [4.40064681484696, 3.55897563993404, -5.65402511537872], [4.08307714197643, 3.91924495883278, -5.65402511537872], [3.73610751901305, 4.2512939913679, -5.65402511537872], [3.36223627974875, 4.55273183855671, -5.65402511537872], [2.96415546143712, 4.82138801540585, -5.65402511537872], [2.54473142094195, 5.05532807935721, -5.65402511537872], [2.10698419570793, 5.2528675591246, -5.65402511537872], [1.65406575816362, 5.41258408362746, -5.65402511537872], [1.18923732013453, 5.53332762368775, -5.65402511537872], [0.715845850684583, 5.61422877274558, -5.65402511537872], [0.237299976467719, 5.65470500696854, -5.65402511537872], [-0.242954561882248, 5.65446487967935, -5.65402511537872], [-0.721459720598718, 5.61351011990005, -5.65402511537872], [-1.19477005221737, 5.53213561990224, -5.65402511537872], [-1.65947751431233, 5.41092731185316, -5.65402511537872], [-2.11223600889956, 5.2507579488465, -5.65402511537872], [-2.54978547581314, 5.05278082069656, -5.65402511537872], [-2.96897536657134, 4.81842144974464, -5.65402511537872], [-3.36678732971051, 4.54936732647161, -5.65402511537872], [-3.74035694424226, 4.24755575882475, -5.65402511537872], [-4.08699434474366, 3.91515992274901, -5.65402511537872], [-4.40420358957051, 3.55457321436497, -5.65402511537872], [-4.68970063273431, 3.16839201646483, -5.65402511537872], [-4.94142977003726, 2.75939700341508, -5.65402511537872], [-5.15757844104608, 2.33053311907883, -5.65402511537872], [-5.33659028032379, 1.8848883719256, -5.65402511537872], [-5.47717632394493, 1.42567160001302, -5.65402511537872], [-5.57832429060244, 0.956189365942437, -5.65402511537872], [-5.63930587047792, 0.479822148154788, -5.65402511537872], [-5.65968196939251, -4.33369624677948e-15, -5.65402511537872], [-5.63930587047792, -0.479822148154796, -5.65402511537872], [-5.57832429060244, -0.956189365942446, -5.65402511537872], [-5.47717632394493, -1.42567160001303, -5.65402511537872], [-5.33659028032378, -1.88488837192561, -5.65402511537872], [-5.15757844104608, -2.33053311907884, -5.65402511537872], [-4.94142977003726, -2.75939700341509, -5.65402511537872], [-4.6897006327343, -3.16839201646484, -5.65402511537872], [-4.4042035895705, -3.55457321436498, -5.65402511537872], [-4.08699434474365, -3.91515992274901, -5.65402511537872], [-3.74035694424226, -4.24755575882476, -5.65402511537872], [-3.3667873297105, -4.54936732647161, -5.65402511537872], [-2.96897536657133, -4.81842144974464, -5.65402511537872], [-2.54978547581313, -5.05278082069656, -5.65402511537872], [-2.11223600889955, -5.2507579488465, -5.65402511537872], [-1.65947751431232, -5.41092731185316, -5.65402511537872], [-1.19477005221736, -5.53213561990224, -5.65402511537872], [-0.721459720598704, -5.61351011990005, -5.65402511537872], [-0.242954561882233, -5.65446487967935, -5.65402511537872], [0.237299976467735, -5.65470500696854, -5.65402511537872], [0.7158458506846, -5.61422877274557, -5.65402511537872], [1.18923732013455, -5.53332762368774, -5.65402511537872], [1.65406575816364, -5.41258408362745, -5.65402511537872], [2.10698419570795, -5.25286755912459, -5.65402511537872], [2.54473142094197, -5.0553280793572, -5.65402511537872], [2.96415546143714, -4.82138801540584, -5.65402511537872], [3.36223627974877, -4.55273183855669, -5.65402511537872], [3.73610751901307, -4.25129399136788, -5.65402511537872], [4.08307714197645, -3.91924495883276, -5.65402511537872], [4.40064681484698, -3.55897563993402, -5.65402511537872], [4.6865298963958, -3.17308013212005, -5.65402511537872], [4.93866790277908, -2.76433705266313, -5.65402511537872], [5.15524532952643, -2.33568953139379, -5.65402511537872], [5.3347027239711, -1.89022401887235, -5.65402511537872], [5.47574791399461, -1.43114806258833, -5.65402511537872], [5.57736531223396, -0.961767211208644, -5.65402511537872], [5.63882322875704, -0.485461213174295, -5.65402511537872], [5.65967913955176, -0.00565968102607529, -5.65402511537872]], &quot;color&quot;:&quot;red&quot;, &quot;opacity&quot;:1, &quot;linewidth&quot;:1},{&quot;points&quot;:[[0.00799999466666428, 7.99999733333023e-06, -7.99999600000033], [0.00797051469597827, 0.000686202701691425, -7.99999600000033], [0.00788364351613115, 0.00135946444498466, -7.99999600000033], [0.00774000663780107, 0.00202293744673671, -7.99999600000033], [0.00754063830964597, 0.00267184440971285, -7.99999600000033], [0.00728697407125868, 0.00330151291855991, -7.99999600000033], [0.00698084041665085, 0.00390740908325047, -7.99999600000033], [0.00662444164269325, 0.00448517018508392, -7.99999600000033], [0.00622034397720947, 0.00503063609017867, -7.99999600000033], [0.00577145710100755, 0.00553987920426463, -7.99999600000033], [0.00528101319689934, 0.00600923275308831, -7.99999600000033], [0.00475254367656351, 0.00643531718479909, -7.99999600000033], [0.00418985375282931, 0.00681506450420804, -7.99999600000033], [0.00359699504047166, 0.00714574036370175, -7.99999600000033], [0.00297823638280391, 0.00742496375174703, -7.99999600000033], [0.00233803311412967, 0.00765072413722043, -7.99999600000033], [0.00168099497937755, 0.00782139594611612, -7.99999600000033], [0.00101185294191147, 0.00793575026639317, -7.99999600000033], [0.000335425118515051, 0.00799296369668244, -7.99999600000033], [-0.000343417913167013, 0.00799262427513831, -7.99999600000033], [-0.00101978818492879, 0.0079347344457451, -7.99999600000033], [-0.00168881553352266, 0.00781971104071927, -7.99999600000033], [-0.0023456826679753, 0.00764838227913423, -7.99999600000033], [-0.00298565985620008, 0.00742198180337904, -7.99999600000033], [-0.00360413898114703, 0.00714213979639091, -7.99999600000033], [-0.00419666672127097, 0.00681087124362156, -7.99999600000033], [-0.00475897661640411, 0.00643056142425629, -7.99999600000033], [-0.0052870197881445, 0.00600394873615545, -7.99999600000033], [-0.00577699409356019, 0.00553410497818617, -7.99999600000033], [-0.00622537150228947, 0.00502441323192035, -7.99999600000033], [-0.00662892349991026, 0.0044785435019604, -7.99999600000033], [-0.00698474433466294, 0.00390042629029292, -7.99999600000033], [-0.00729027194014025, 0.00329422429494682, -7.99999600000033], [-0.00754330638329153, 0.00266430243673788, -7.99999600000033], [-0.00774202570490765, 0.00201519642992027, -7.99999600000033], [-0.00788499903852813, 0.0013515801230503, -7.99999600000033], [-0.00797119691330858, 0.000678231845222539, -7.99999600000033], [-0.00799999866666328, -6.12570889732887e-18, -7.99999600000033], [-0.00797119691330858, -0.000678231845222551, -7.99999600000033], [-0.00788499903852813, -0.00135158012305032, -7.99999600000033], [-0.00774202570490765, -0.00201519642992028, -7.99999600000033], [-0.00754330638329153, -0.0026643024367379, -7.99999600000033], [-0.00729027194014025, -0.00329422429494683, -7.99999600000033], [-0.00698474433466294, -0.00390042629029293, -7.99999600000033], [-0.00662892349991025, -0.00447854350196041, -7.99999600000033], [-0.00622537150228946, -0.00502441323192037, -7.99999600000033], [-0.00577699409356018, -0.00553410497818618, -7.99999600000033], [-0.00528701978814449, -0.00600394873615546, -7.99999600000033], [-0.0047589766164041, -0.0064305614242563, -7.99999600000033], [-0.00419666672127096, -0.00681087124362156, -7.99999600000033], [-0.00360413898114701, -0.00714213979639091, -7.99999600000033], [-0.00298565985620007, -0.00742198180337904, -7.99999600000033], [-0.00234568266797528, -0.00764838227913423, -7.99999600000033], [-0.00168881553352265, -0.00781971104071927, -7.99999600000033], [-0.00101978818492877, -0.00793473444574511, -7.99999600000033], [-0.000343417913166992, -0.00799262427513831, -7.99999600000033], [0.000335425118515074, -0.00799296369668244, -7.99999600000033], [0.00101185294191149, -0.00793575026639317, -7.99999600000033], [0.00168099497937757, -0.00782139594611612, -7.99999600000033], [0.0023380331141297, -0.00765072413722042, -7.99999600000033], [0.00297823638280394, -0.00742496375174702, -7.99999600000033], [0.00359699504047169, -0.00714574036370174, -7.99999600000033], [0.00418985375282934, -0.00681506450420802, -7.99999600000033], [0.00475254367656354, -0.00643531718479906, -7.99999600000033], [0.00528101319689937, -0.00600923275308828, -7.99999600000033], [0.00577145710100758, -0.0055398792042646, -7.99999600000033], [0.00622034397720949, -0.00503063609017864, -7.99999600000033], [0.00662444164269328, -0.00448517018508389, -7.99999600000033], [0.00698084041665087, -0.00390740908325043, -7.99999600000033], [0.0072869740712587, -0.00330151291855987, -7.99999600000033], [0.00754063830964598, -0.00267184440971281, -7.99999600000033], [0.00774000663780108, -0.00202293744673666, -7.99999600000033], [0.00788364351613116, -0.00135946444498461, -7.99999600000033], [0.00797051469597828, -0.000686202701691374, -7.99999600000033], [0.00799999466666428, -7.99999733327802e-06, -7.99999600000033]], &quot;color&quot;:&quot;red&quot;, &quot;opacity&quot;:1, &quot;linewidth&quot;:1}];\n",
       "    for ( var i=0 ; i < lines.length ; i++ ) addLine( lines[i] );\n",
       "\n",
       "    function addLine( json ) {\n",
       "        var geometry = new THREE.Geometry();\n",
       "        for ( var i=0 ; i < json.points.length - 1 ; i++ ) {\n",
       "            var v = json.points[i];\n",
       "            geometry.vertices.push( new THREE.Vector3( a[0]*v[0], a[1]*v[1], a[2]*v[2] ) );\n",
       "            var v = json.points[i+1];\n",
       "            geometry.vertices.push( new THREE.Vector3( a[0]*v[0], a[1]*v[1], a[2]*v[2] ) );\n",
       "        }\n",
       "\n",
       "        var transparent = json.opacity < 1 ? true : false;\n",
       "        var material = new THREE.LineBasicMaterial( { color: json.color, linewidth: json.linewidth,\n",
       "                                                      transparent: transparent, opacity: json.opacity } );\n",
       "\n",
       "        var c = geometry.center().multiplyScalar( -1 );\n",
       "        var mesh = new THREE.LineSegments( geometry, material );\n",
       "        mesh.position.set( c.x, c.y, c.z );\n",
       "        scene.add( mesh );\n",
       "    }\n",
       "\n",
       "    var surfaces = [];\n",
       "    for ( var i=0 ; i < surfaces.length ; i++ ) addSurface( surfaces[i] );\n",
       "\n",
       "    function addSurface( json ) {\n",
       "        var geometry = new THREE.Geometry();\n",
       "        for ( var i=0 ; i < json.vertices.length ; i++ ) {\n",
       "            var v = json.vertices[i];\n",
       "            geometry.vertices.push( new THREE.Vector3( a[0]*v.x, a[1]*v.y, a[2]*v.z ) );\n",
       "        }\n",
       "        for ( var i=0 ; i < json.faces.length ; i++ ) {\n",
       "            var f = json.faces[i];\n",
       "            for ( var j=0 ; j < f.length - 2 ; j++ ) {\n",
       "                geometry.faces.push( new THREE.Face3( f[0], f[j+1], f[j+2] ) );\n",
       "            }\n",
       "        }\n",
       "        geometry.computeVertexNormals();\n",
       "\n",
       "        var transparent = json.opacity < 1 ? true : false;\n",
       "        var material = new THREE.MeshPhongMaterial( {\n",
       "                                     color: json.color, side: THREE.DoubleSide,\n",
       "                                     transparent: transparent, opacity: json.opacity,\n",
       "                                     shininess: 20 } );\n",
       "\n",
       "        var c = geometry.center().multiplyScalar( -1 );\n",
       "        var mesh = new THREE.Mesh( geometry, material );\n",
       "        mesh.position.set( c.x, c.y, c.z );\n",
       "        scene.add( mesh );\n",
       "    }\n",
       "\n",
       "    var scratch = new THREE.Vector3();\n",
       "\n",
       "    function render() {\n",
       "\n",
       "        if ( animate ) requestAnimationFrame( render );\n",
       "        renderer.render( scene, camera );\n",
       "\n",
       "        for ( var i=0 ; i < scene.children.length ; i++ ) {\n",
       "            if ( scene.children[i].type === 'Sprite' ) {\n",
       "                var sprite = scene.children[i];\n",
       "                var adjust = scratch.addVectors( sprite.position, scene.position )\n",
       "                               .sub( camera.position ).length() / 5;\n",
       "                sprite.scale.set( adjust, .25*adjust ); // ratio of canvas width to height\n",
       "            }\n",
       "        }\n",
       "    }\n",
       "    \n",
       "    render();\n",
       "    controls.update();\n",
       "    if ( !animate ) render();\n",
       "\n",
       "</script>\n",
       "\n",
       "</body>\n",
       "</html>\" \n",
       "        width=\"100%\"\n",
       "        height=\"400\"\n",
       "        style=\"border: 0;\">\n",
       "</iframe>\n"
      ],
      "text/plain": [
       "Graphics3d Object"
      ]
     },
     "metadata": {},
     "output_type": "display_data"
    }
   ],
   "source": [
    "graph = Y.plot(X)\n",
    "show(graph, viewer=viewer3D)"
   ]
  },
  {
   "cell_type": "markdown",
   "metadata": {
    "deletable": true,
    "editable": true
   },
   "source": [
    "The command plot() allows for many options, to control the number of coordinate lines to be drawn, their style and color, as well as the coordinate ranges (cf. the [list of all options](http://doc.sagemath.org/html/en/reference/manifolds/sage/manifolds/chart.html#sage.manifolds.chart.RealChart.plot)):"
   ]
  },
  {
   "cell_type": "code",
   "execution_count": 51,
   "metadata": {
    "collapsed": false,
    "deletable": true,
    "editable": true
   },
   "outputs": [
    {
     "data": {
      "text/html": [
       "\n",
       "<iframe srcdoc=\"<!DOCTYPE html>\n",
       "<html>\n",
       "<head>\n",
       "<title></title>\n",
       "<meta charset=&quot;utf-8&quot;>\n",
       "<meta name=viewport content=&quot;width=device-width, user-scalable=no, minimum-scale=1.0, maximum-scale=1.0&quot;>\n",
       "<style>\n",
       "\n",
       "    body { margin: 0px; overflow: hidden; }\n",
       "  \n",
       "</style>\n",
       "</head>\n",
       "\n",
       "<body>\n",
       "\n",
       "<script src=&quot;/nbextensions/threejs/three.min.js&quot;></script>\n",
       "<script src=&quot;/nbextensions/threejs/OrbitControls.js&quot;></script>\n",
       "<script>\n",
       "  if ( !window.THREE ) document.write('\n",
       "<script src=&quot;https://cdn.rawgit.com/mrdoob/three.js/r80/build/three.min.js&quot;><\\/script>\n",
       "<script src=&quot;https://cdn.rawgit.com/mrdoob/three.js/r80/examples/js/controls/OrbitControls.js&quot;><\\/script>\n",
       "            ');\n",
       "</script>\n",
       "        \n",
       "<script>\n",
       "\n",
       "    var scene = new THREE.Scene();\n",
       "\n",
       "    var renderer = new THREE.WebGLRenderer( { antialias: true } );\n",
       "    renderer.setSize( window.innerWidth, window.innerHeight );\n",
       "    renderer.setClearColor( 0xffffff, 1 );\n",
       "    document.body.appendChild( renderer.domElement );\n",
       "\n",
       "    var options = {&quot;aspect_ratio&quot;: [1.0, 1.0, 1.0], &quot;decimals&quot;: 2, &quot;frame&quot;: true, &quot;axes&quot;: false, &quot;axes_labels&quot;: [&quot;x&quot;, &quot;y&quot;, &quot;z&quot;]};\n",
       "\n",
       "    // When animations are supported by the viewer, the value 'false'\n",
       "    // will be replaced with an option set in Python by the user\n",
       "    var animate = false; // options.animate;\n",
       "\n",
       "    var b = [{&quot;x&quot;:-2.19999995, &quot;y&quot;:-2.19806538293, &quot;z&quot;:-0.1}, {&quot;x&quot;:2.19999895, &quot;y&quot;:1.99824125721, &quot;z&quot;:2.0}]; // bounds\n",
       "\n",
       "    if ( b[0].x === b[1].x ) {\n",
       "        b[0].x -= 1;\n",
       "        b[1].x += 1;\n",
       "    }\n",
       "    if ( b[0].y === b[1].y ) {\n",
       "        b[0].y -= 1;\n",
       "        b[1].y += 1;\n",
       "    }\n",
       "    if ( b[0].z === b[1].z ) {\n",
       "        b[0].z -= 1;\n",
       "        b[1].z += 1;\n",
       "    }\n",
       "\n",
       "    var rRange = Math.sqrt( Math.pow( b[1].x - b[0].x, 2 )\n",
       "                            + Math.pow( b[1].x - b[0].x, 2 ) );\n",
       "    var xRange = b[1].x - b[0].x;\n",
       "    var yRange = b[1].y - b[0].y;\n",
       "    var zRange = b[1].z - b[0].z;\n",
       "\n",
       "    var ar = options.aspect_ratio;\n",
       "    var a = [ ar[0], ar[1], ar[2] ]; // aspect multipliers\n",
       "    var autoAspect = 2.5;\n",
       "    if ( zRange > autoAspect * rRange && a[2] === 1 ) a[2] = autoAspect * rRange / zRange;\n",
       "\n",
       "    var xMid = ( b[0].x + b[1].x ) / 2;\n",
       "    var yMid = ( b[0].y + b[1].y ) / 2;\n",
       "    var zMid = ( b[0].z + b[1].z ) / 2;\n",
       "\n",
       "    var box = new THREE.Geometry();\n",
       "    box.vertices.push( new THREE.Vector3( a[0]*b[0].x, a[1]*b[0].y, a[2]*b[0].z ) );\n",
       "    box.vertices.push( new THREE.Vector3( a[0]*b[1].x, a[1]*b[1].y, a[2]*b[1].z ) );\n",
       "    var boxMesh = new THREE.LineSegments( box );\n",
       "    if ( options.frame ) scene.add( new THREE.BoxHelper( boxMesh, 'black' ) );\n",
       "\n",
       "    if ( options.axes_labels ) {\n",
       "        var d = options.decimals; // decimals\n",
       "        var offsetRatio = 0.1;\n",
       "        var al = options.axes_labels;\n",
       "\n",
       "        var offset = offsetRatio * a[1]*( b[1].y - b[0].y );\n",
       "        var xm = xMid.toFixed(d);\n",
       "        if ( /^-0.?0*$/.test(xm) ) xm = xm.substr(1);\n",
       "        addLabel( al[0] + '=' + xm, a[0]*xMid, a[1]*b[1].y+offset, a[2]*b[0].z );\n",
       "        addLabel( ( b[0].x ).toFixed(d), a[0]*b[0].x, a[1]*b[1].y+offset, a[2]*b[0].z );\n",
       "        addLabel( ( b[1].x ).toFixed(d), a[0]*b[1].x, a[1]*b[1].y+offset, a[2]*b[0].z );\n",
       "\n",
       "        var offset = offsetRatio * a[0]*( b[1].x - b[0].x );\n",
       "        var ym = yMid.toFixed(d);\n",
       "        if ( /^-0.?0*$/.test(ym) ) ym = ym.substr(1);\n",
       "        addLabel( al[1] + '=' + ym, a[0]*b[1].x+offset, a[1]*yMid, a[2]*b[0].z );\n",
       "        addLabel( ( b[0].y ).toFixed(d), a[0]*b[1].x+offset, a[1]*b[0].y, a[2]*b[0].z );\n",
       "        addLabel( ( b[1].y ).toFixed(d), a[0]*b[1].x+offset, a[1]*b[1].y, a[2]*b[0].z );\n",
       "\n",
       "        var offset = offsetRatio * a[1]*( b[1].y - b[0].y );\n",
       "        var zm = zMid.toFixed(d);\n",
       "        if ( /^-0.?0*$/.test(zm) ) zm = zm.substr(1);\n",
       "        addLabel( al[2] + '=' + zm, a[0]*b[1].x, a[1]*b[0].y-offset, a[2]*zMid );\n",
       "        addLabel( ( b[0].z ).toFixed(d), a[0]*b[1].x, a[1]*b[0].y-offset, a[2]*b[0].z );\n",
       "        addLabel( ( b[1].z ).toFixed(d), a[0]*b[1].x, a[1]*b[0].y-offset, a[2]*b[1].z );\n",
       "    }\n",
       "\n",
       "    function addLabel( text, x, y, z ) {\n",
       "        var fontsize = 14;\n",
       "\n",
       "        var canvas = document.createElement( 'canvas' );\n",
       "        canvas.width = 128;\n",
       "        canvas.height = 32; // powers of two\n",
       "\n",
       "        var context = canvas.getContext( '2d' );\n",
       "        context.fillStyle = 'black';\n",
       "        context.font = fontsize + 'px monospace';\n",
       "        context.textAlign = 'center';\n",
       "        context.textBaseline = 'middle';\n",
       "        context.fillText( text, .5*canvas.width, .5*canvas.height );\n",
       "\n",
       "        var texture = new THREE.Texture( canvas );\n",
       "        texture.needsUpdate = true;\n",
       "\n",
       "        var sprite = new THREE.Sprite( new THREE.SpriteMaterial( { map: texture } ) );\n",
       "        sprite.position.set( x, y, z );\n",
       "        sprite.scale.set( 1, .25 ); // ratio of width to height\n",
       "        scene.add( sprite );\n",
       "    }\n",
       "\n",
       "    if ( options.axes ) scene.add( new THREE.AxisHelper( Math.min( a[0]*b[1].x, a[1]*b[1].y, a[2]*b[1].z ) ) );\n",
       "\n",
       "    var camera = new THREE.PerspectiveCamera( 45, window.innerWidth / window.innerHeight, 0.1, 1000 );\n",
       "    camera.up.set( 0, 0, 1 );\n",
       "    camera.position.set( a[0]*(xMid+xRange), a[1]*(yMid+yRange), a[2]*(zMid+zRange) );\n",
       "\n",
       "    var lights = [{&quot;x&quot;:-5, &quot;y&quot;:3, &quot;z&quot;:0, &quot;color&quot;:&quot;#7f7f7f&quot;, &quot;parent&quot;:&quot;camera&quot;}];\n",
       "    for ( var i=0 ; i < lights.length ; i++ ) {\n",
       "        var light = new THREE.DirectionalLight( lights[i].color, 1 );\n",
       "        light.position.set( a[0]*lights[i].x, a[1]*lights[i].y, a[2]*lights[i].z );\n",
       "        if ( lights[i].parent === 'camera' ) {\n",
       "            light.target.position.set( a[0]*xMid, a[1]*yMid, a[2]*zMid );\n",
       "            scene.add( light.target );\n",
       "            camera.add( light );\n",
       "        } else scene.add( light );\n",
       "    }\n",
       "    scene.add( camera );\n",
       "\n",
       "    var ambient = {&quot;color&quot;:&quot;#7f7f7f&quot;};\n",
       "    scene.add( new THREE.AmbientLight( ambient.color, 1 ) );\n",
       "\n",
       "    var controls = new THREE.OrbitControls( camera, renderer.domElement );\n",
       "    controls.target.set( a[0]*xMid, a[1]*yMid, a[2]*zMid );\n",
       "    controls.addEventListener( 'change', function() { if ( !animate ) render(); } );\n",
       "\n",
       "    window.addEventListener( 'resize', function() {\n",
       "        \n",
       "        renderer.setSize( window.innerWidth, window.innerHeight );\n",
       "        camera.aspect = window.innerWidth / window.innerHeight;\n",
       "        camera.updateProjectionMatrix();\n",
       "        if ( !animate ) render();\n",
       "        \n",
       "    } );\n",
       "\n",
       "    var texts = [{&quot;text&quot;:&quot;  x&quot;, &quot;x&quot;:-4.99999954995e-07, &quot;y&quot;:-2.19806538293, &quot;z&quot;:-0.1},{&quot;text&quot;:&quot;  y&quot;, &quot;x&quot;:2.19999895, &quot;y&quot;:0.0, &quot;z&quot;:-0.1},{&quot;text&quot;:&quot;  z&quot;, &quot;x&quot;:-2.19999995, &quot;y&quot;:-2.19806538293, &quot;z&quot;:1.0}];\n",
       "    for ( var i=0 ; i < texts.length ; i++ )\n",
       "        addLabel( texts[i].text, a[0]*texts[i].x, a[1]*texts[i].y, a[2]*texts[i].z );\n",
       "\n",
       "    var points = [];\n",
       "    for ( var i=0 ; i < points.length ; i++ ) addPoint( points[i] );\n",
       "\n",
       "    function addPoint( json ) {\n",
       "        var geometry = new THREE.Geometry();\n",
       "        var v = json.point;\n",
       "        geometry.vertices.push( new THREE.Vector3( a[0]*v[0], a[1]*v[1], a[2]*v[2] ) );\n",
       "\n",
       "        var canvas = document.createElement( 'canvas' );\n",
       "        canvas.width = 128;\n",
       "        canvas.height = 128;\n",
       "\n",
       "        var context = canvas.getContext( '2d' );\n",
       "        context.arc( 64, 64, 64, 0, 2 * Math.PI );\n",
       "        context.fillStyle = json.color;\n",
       "        context.fill();\n",
       "\n",
       "        var texture = new THREE.Texture( canvas );\n",
       "        texture.needsUpdate = true;\n",
       "\n",
       "        var transparent = json.opacity < 1 ? true : false;\n",
       "        var material = new THREE.PointsMaterial( { size: json.size/100, map: texture,\n",
       "                                                   transparent: transparent, opacity: json.opacity,\n",
       "                                                   alphaTest: .1 } );\n",
       "\n",
       "        var c = geometry.center().multiplyScalar( -1 );\n",
       "        var mesh = new THREE.Points( geometry, material );\n",
       "        mesh.position.set( c.x, c.y, c.z );\n",
       "        scene.add( mesh );\n",
       "    }\n",
       "\n",
       "    var lines = [{&quot;points&quot;:[[0.0, 0.0, 1.0], [0.0, 0.0, 1.01351351351351], [0.0, 0.0, 1.02702702702703], [0.0, 0.0, 1.04054054054054], [0.0, 0.0, 1.05405405405405], [0.0, 0.0, 1.06756756756757], [0.0, 0.0, 1.08108108108108], [0.0, 0.0, 1.0945945945946], [0.0, 0.0, 1.10810810810811], [0.0, 0.0, 1.12162162162162], [0.0, 0.0, 1.13513513513514], [0.0, 0.0, 1.14864864864865], [0.0, 0.0, 1.16216216216216], [0.0, 0.0, 1.17567567567568], [0.0, 0.0, 1.18918918918919], [0.0, 0.0, 1.2027027027027], [0.0, 0.0, 1.21621621621622], [0.0, 0.0, 1.22972972972973], [0.0, 0.0, 1.24324324324324], [0.0, 0.0, 1.25675675675676], [0.0, 0.0, 1.27027027027027], [0.0, 0.0, 1.28378378378379], [0.0, 0.0, 1.2972972972973], [0.0, 0.0, 1.31081081081081], [0.0, 0.0, 1.32432432432433], [0.0, 0.0, 1.33783783783784], [0.0, 0.0, 1.35135135135135], [0.0, 0.0, 1.36486486486487], [0.0, 0.0, 1.37837837837838], [0.0, 0.0, 1.39189189189189], [0.0, 0.0, 1.40540540540541], [0.0, 0.0, 1.41891891891892], [0.0, 0.0, 1.43243243243244], [0.0, 0.0, 1.44594594594595], [0.0, 0.0, 1.45945945945946], [0.0, 0.0, 1.47297297297298], [0.0, 0.0, 1.48648648648649], [0.0, 0.0, 1.5], [0.0, 0.0, 1.51351351351352], [0.0, 0.0, 1.52702702702703], [0.0, 0.0, 1.54054054054054], [0.0, 0.0, 1.55405405405406], [0.0, 0.0, 1.56756756756757], [0.0, 0.0, 1.58108108108108], [0.0, 0.0, 1.5945945945946], [0.0, 0.0, 1.60810810810811], [0.0, 0.0, 1.62162162162163], [0.0, 0.0, 1.63513513513514], [0.0, 0.0, 1.64864864864865], [0.0, 0.0, 1.66216216216217], [0.0, 0.0, 1.67567567567568], [0.0, 0.0, 1.68918918918919], [0.0, 0.0, 1.70270270270271], [0.0, 0.0, 1.71621621621622], [0.0, 0.0, 1.72972972972973], [0.0, 0.0, 1.74324324324325], [0.0, 0.0, 1.75675675675676], [0.0, 0.0, 1.77027027027028], [0.0, 0.0, 1.78378378378379], [0.0, 0.0, 1.7972972972973], [0.0, 0.0, 1.81081081081082], [0.0, 0.0, 1.82432432432433], [0.0, 0.0, 1.83783783783784], [0.0, 0.0, 1.85135135135136], [0.0, 0.0, 1.86486486486487], [0.0, 0.0, 1.87837837837838], [0.0, 0.0, 1.8918918918919], [0.0, 0.0, 1.90540540540541], [0.0, 0.0, 1.91891891891892], [0.0, 0.0, 1.93243243243244], [0.0, 0.0, 1.94594594594595], [0.0, 0.0, 1.95945945945947], [0.0, 0.0, 1.97297297297298], [0.0, 0.0, 1.98648648648649], [0.0, 0.0, 2.00000000000001]], &quot;color&quot;:&quot;blue&quot;, &quot;opacity&quot;:1, &quot;linewidth&quot;:1},{&quot;points&quot;:[[0.0, 0.0, 1.0], [0.0, 0.0, 1.01351351351351], [0.0, 0.0, 1.02702702702703], [0.0, 0.0, 1.04054054054054], [0.0, 0.0, 1.05405405405405], [0.0, 0.0, 1.06756756756757], [0.0, 0.0, 1.08108108108108], [0.0, 0.0, 1.0945945945946], [0.0, 0.0, 1.10810810810811], [0.0, 0.0, 1.12162162162162], [0.0, 0.0, 1.13513513513514], [0.0, 0.0, 1.14864864864865], [0.0, 0.0, 1.16216216216216], [0.0, 0.0, 1.17567567567568], [0.0, 0.0, 1.18918918918919], [0.0, 0.0, 1.2027027027027], [0.0, 0.0, 1.21621621621622], [0.0, 0.0, 1.22972972972973], [0.0, 0.0, 1.24324324324324], [0.0, 0.0, 1.25675675675676], [0.0, 0.0, 1.27027027027027], [0.0, 0.0, 1.28378378378379], [0.0, 0.0, 1.2972972972973], [0.0, 0.0, 1.31081081081081], [0.0, 0.0, 1.32432432432433], [0.0, 0.0, 1.33783783783784], [0.0, 0.0, 1.35135135135135], [0.0, 0.0, 1.36486486486487], [0.0, 0.0, 1.37837837837838], [0.0, 0.0, 1.39189189189189], [0.0, 0.0, 1.40540540540541], [0.0, 0.0, 1.41891891891892], [0.0, 0.0, 1.43243243243244], [0.0, 0.0, 1.44594594594595], [0.0, 0.0, 1.45945945945946], [0.0, 0.0, 1.47297297297298], [0.0, 0.0, 1.48648648648649], [0.0, 0.0, 1.5], [0.0, 0.0, 1.51351351351352], [0.0, 0.0, 1.52702702702703], [0.0, 0.0, 1.54054054054054], [0.0, 0.0, 1.55405405405406], [0.0, 0.0, 1.56756756756757], [0.0, 0.0, 1.58108108108108], [0.0, 0.0, 1.5945945945946], [0.0, 0.0, 1.60810810810811], [0.0, 0.0, 1.62162162162163], [0.0, 0.0, 1.63513513513514], [0.0, 0.0, 1.64864864864865], [0.0, 0.0, 1.66216216216217], [0.0, 0.0, 1.67567567567568], [0.0, 0.0, 1.68918918918919], [0.0, 0.0, 1.70270270270271], [0.0, 0.0, 1.71621621621622], [0.0, 0.0, 1.72972972972973], [0.0, 0.0, 1.74324324324325], [0.0, 0.0, 1.75675675675676], [0.0, 0.0, 1.77027027027028], [0.0, 0.0, 1.78378378378379], [0.0, 0.0, 1.7972972972973], [0.0, 0.0, 1.81081081081082], [0.0, 0.0, 1.82432432432433], [0.0, 0.0, 1.83783783783784], [0.0, 0.0, 1.85135135135136], [0.0, 0.0, 1.86486486486487], [0.0, 0.0, 1.87837837837838], [0.0, 0.0, 1.8918918918919], [0.0, 0.0, 1.90540540540541], [0.0, 0.0, 1.91891891891892], [0.0, 0.0, 1.93243243243244], [0.0, 0.0, 1.94594594594595], [0.0, 0.0, 1.95945945945947], [0.0, 0.0, 1.97297297297298], [0.0, 0.0, 1.98648648648649], [0.0, 0.0, 2.00000000000001]], &quot;color&quot;:&quot;blue&quot;, &quot;opacity&quot;:1, &quot;linewidth&quot;:1},{&quot;points&quot;:[[0.0, 0.0, 1.0], [0.0, 0.0, 1.01351351351351], [0.0, 0.0, 1.02702702702703], [0.0, 0.0, 1.04054054054054], [0.0, 0.0, 1.05405405405405], [0.0, 0.0, 1.06756756756757], [0.0, 0.0, 1.08108108108108], [0.0, 0.0, 1.0945945945946], [0.0, 0.0, 1.10810810810811], [0.0, 0.0, 1.12162162162162], [0.0, 0.0, 1.13513513513514], [0.0, 0.0, 1.14864864864865], [0.0, 0.0, 1.16216216216216], [0.0, 0.0, 1.17567567567568], [0.0, 0.0, 1.18918918918919], [0.0, 0.0, 1.2027027027027], [0.0, 0.0, 1.21621621621622], [0.0, 0.0, 1.22972972972973], [0.0, 0.0, 1.24324324324324], [0.0, 0.0, 1.25675675675676], [0.0, 0.0, 1.27027027027027], [0.0, 0.0, 1.28378378378379], [0.0, 0.0, 1.2972972972973], [0.0, 0.0, 1.31081081081081], [0.0, 0.0, 1.32432432432433], [0.0, 0.0, 1.33783783783784], [0.0, 0.0, 1.35135135135135], [0.0, 0.0, 1.36486486486487], [0.0, 0.0, 1.37837837837838], [0.0, 0.0, 1.39189189189189], [0.0, 0.0, 1.40540540540541], [0.0, 0.0, 1.41891891891892], [0.0, 0.0, 1.43243243243244], [0.0, 0.0, 1.44594594594595], [0.0, 0.0, 1.45945945945946], [0.0, 0.0, 1.47297297297298], [0.0, 0.0, 1.48648648648649], [0.0, 0.0, 1.5], [0.0, 0.0, 1.51351351351352], [0.0, 0.0, 1.52702702702703], [0.0, 0.0, 1.54054054054054], [0.0, 0.0, 1.55405405405406], [0.0, 0.0, 1.56756756756757], [0.0, 0.0, 1.58108108108108], [0.0, 0.0, 1.5945945945946], [0.0, 0.0, 1.60810810810811], [0.0, 0.0, 1.62162162162163], [0.0, 0.0, 1.63513513513514], [0.0, 0.0, 1.64864864864865], [0.0, 0.0, 1.66216216216217], [0.0, 0.0, 1.67567567567568], [0.0, 0.0, 1.68918918918919], [0.0, 0.0, 1.70270270270271], [0.0, 0.0, 1.71621621621622], [0.0, 0.0, 1.72972972972973], [0.0, 0.0, 1.74324324324325], [0.0, 0.0, 1.75675675675676], [0.0, 0.0, 1.77027027027028], [0.0, 0.0, 1.78378378378379], [0.0, 0.0, 1.7972972972973], [0.0, 0.0, 1.81081081081082], [0.0, 0.0, 1.82432432432433], [0.0, 0.0, 1.83783783783784], [0.0, 0.0, 1.85135135135136], [0.0, 0.0, 1.86486486486487], [0.0, 0.0, 1.87837837837838], [0.0, 0.0, 1.8918918918919], [0.0, 0.0, 1.90540540540541], [0.0, 0.0, 1.91891891891892], [0.0, 0.0, 1.93243243243244], [0.0, 0.0, 1.94594594594595], [0.0, 0.0, 1.95945945945947], [0.0, 0.0, 1.97297297297298], [0.0, 0.0, 1.98648648648649], [0.0, 0.0, 2.00000000000001]], &quot;color&quot;:&quot;blue&quot;, &quot;opacity&quot;:1, &quot;linewidth&quot;:1},{&quot;points&quot;:[[0.0, 0.0, 1.0], [0.0, 0.0, 1.01351351351351], [0.0, 0.0, 1.02702702702703], [0.0, 0.0, 1.04054054054054], [0.0, 0.0, 1.05405405405405], [0.0, 0.0, 1.06756756756757], [0.0, 0.0, 1.08108108108108], [0.0, 0.0, 1.0945945945946], [0.0, 0.0, 1.10810810810811], [0.0, 0.0, 1.12162162162162], [0.0, 0.0, 1.13513513513514], [0.0, 0.0, 1.14864864864865], [0.0, 0.0, 1.16216216216216], [0.0, 0.0, 1.17567567567568], [0.0, 0.0, 1.18918918918919], [0.0, 0.0, 1.2027027027027], [0.0, 0.0, 1.21621621621622], [0.0, 0.0, 1.22972972972973], [0.0, 0.0, 1.24324324324324], [0.0, 0.0, 1.25675675675676], [0.0, 0.0, 1.27027027027027], [0.0, 0.0, 1.28378378378379], [0.0, 0.0, 1.2972972972973], [0.0, 0.0, 1.31081081081081], [0.0, 0.0, 1.32432432432433], [0.0, 0.0, 1.33783783783784], [0.0, 0.0, 1.35135135135135], [0.0, 0.0, 1.36486486486487], [0.0, 0.0, 1.37837837837838], [0.0, 0.0, 1.39189189189189], [0.0, 0.0, 1.40540540540541], [0.0, 0.0, 1.41891891891892], [0.0, 0.0, 1.43243243243244], [0.0, 0.0, 1.44594594594595], [0.0, 0.0, 1.45945945945946], [0.0, 0.0, 1.47297297297298], [0.0, 0.0, 1.48648648648649], [0.0, 0.0, 1.5], [0.0, 0.0, 1.51351351351352], [0.0, 0.0, 1.52702702702703], [0.0, 0.0, 1.54054054054054], [0.0, 0.0, 1.55405405405406], [0.0, 0.0, 1.56756756756757], [0.0, 0.0, 1.58108108108108], [0.0, 0.0, 1.5945945945946], [0.0, 0.0, 1.60810810810811], [0.0, 0.0, 1.62162162162163], [0.0, 0.0, 1.63513513513514], [0.0, 0.0, 1.64864864864865], [0.0, 0.0, 1.66216216216217], [0.0, 0.0, 1.67567567567568], [0.0, 0.0, 1.68918918918919], [0.0, 0.0, 1.70270270270271], [0.0, 0.0, 1.71621621621622], [0.0, 0.0, 1.72972972972973], [0.0, 0.0, 1.74324324324325], [0.0, 0.0, 1.75675675675676], [0.0, 0.0, 1.77027027027028], [0.0, 0.0, 1.78378378378379], [0.0, 0.0, 1.7972972972973], [0.0, 0.0, 1.81081081081082], [0.0, 0.0, 1.82432432432433], [0.0, 0.0, 1.83783783783784], [0.0, 0.0, 1.85135135135136], [0.0, 0.0, 1.86486486486487], [0.0, 0.0, 1.87837837837838], [0.0, 0.0, 1.8918918918919], [0.0, 0.0, 1.90540540540541], [0.0, 0.0, 1.91891891891892], [0.0, 0.0, 1.93243243243244], [0.0, 0.0, 1.94594594594595], [0.0, 0.0, 1.95945945945947], [0.0, 0.0, 1.97297297297298], [0.0, 0.0, 1.98648648648649], [0.0, 0.0, 2.00000000000001]], &quot;color&quot;:&quot;blue&quot;, &quot;opacity&quot;:1, &quot;linewidth&quot;:1},{&quot;points&quot;:[[0.499999750000021, 0.000499999916666671, 0.866025403784439], [0.506756503378399, 0.000506756672297302, 0.877728449781526], [0.513513256756778, 0.000513513427927932, 0.889431495778613], [0.520270010135157, 0.000520270183558563, 0.9011345417757], [0.527026763513536, 0.000527026939189194, 0.912837587772787], [0.533783516891914, 0.000533783694819824, 0.924540633769874], [0.540540270270293, 0.000540540450450455, 0.936243679766961], [0.547297023648672, 0.000547297206081086, 0.947946725764048], [0.55405377702705, 0.000554053961711717, 0.959649771761135], [0.560810530405429, 0.000560810717342347, 0.971352817758222], [0.567567283783808, 0.000567567472972978, 0.98305586375531], [0.574324037162186, 0.000574324228603609, 0.994758909752397], [0.581080790540565, 0.000581080984234239, 1.00646195574948], [0.587837543918944, 0.00058783773986487, 1.01816500174657], [0.594594297297323, 0.000594594495495501, 1.02986804774366], [0.601351050675701, 0.000601351251126132, 1.04157109374074], [0.60810780405408, 0.000608108006756762, 1.05327413973783], [0.614864557432459, 0.000614864762387393, 1.06497718573492], [0.621621310810837, 0.000621621518018024, 1.07668023173201], [0.628378064189216, 0.000628378273648655, 1.08838327772909], [0.635134817567595, 0.000635135029279285, 1.10008632372618], [0.641891570945973, 0.000641891784909916, 1.11178936972327], [0.648648324324352, 0.000648648540540547, 1.12349241572035], [0.655405077702731, 0.000655405296171177, 1.13519546171744], [0.66216183108111, 0.000662162051801808, 1.14689850771453], [0.668918584459488, 0.000668918807432439, 1.15860155371162], [0.675675337837867, 0.00067567556306307, 1.1703045997087], [0.682432091216246, 0.0006824323186937, 1.18200764570579], [0.689188844594624, 0.000689189074324331, 1.19371069170288], [0.695945597973003, 0.000695945829954962, 1.20541373769996], [0.702702351351382, 0.000702702585585593, 1.21711678369705], [0.70945910472976, 0.000709459341216223, 1.22881982969414], [0.716215858108139, 0.000716216096846854, 1.24052287569123], [0.722972611486518, 0.000722972852477485, 1.25222592168831], [0.729729364864897, 0.000729729608108116, 1.2639289676854], [0.736486118243275, 0.000736486363738746, 1.27563201368249], [0.743242871621654, 0.000743243119369377, 1.28733505967957], [0.749999625000033, 0.000749999875000008, 1.29903810567666], [0.756756378378411, 0.000756756630630638, 1.31074115167375], [0.76351313175679, 0.000763513386261269, 1.32244419767083], [0.770269885135169, 0.0007702701418919, 1.33414724366792], [0.777026638513547, 0.000777026897522531, 1.34585028966501], [0.783783391891926, 0.000783783653153161, 1.3575533356621], [0.790540145270305, 0.000790540408783792, 1.36925638165918], [0.797296898648684, 0.000797297164414423, 1.38095942765627], [0.804053652027062, 0.000804053920045054, 1.39266247365336], [0.810810405405441, 0.000810810675675684, 1.40436551965044], [0.81756715878382, 0.000817567431306315, 1.41606856564753], [0.824323912162198, 0.000824324186936946, 1.42777161164462], [0.831080665540577, 0.000831080942567576, 1.43947465764171], [0.837837418918956, 0.000837837698198207, 1.45117770363879], [0.844594172297335, 0.000844594453828838, 1.46288074963588], [0.851350925675713, 0.000851351209459469, 1.47458379563297], [0.858107679054092, 0.000858107965090099, 1.48628684163005], [0.864864432432471, 0.00086486472072073, 1.49798988762714], [0.871621185810849, 0.000871621476351361, 1.50969293362423], [0.878377939189228, 0.000878378231981992, 1.52139597962132], [0.885134692567607, 0.000885134987612622, 1.5330990256184], [0.891891445945985, 0.000891891743243253, 1.54480207161549], [0.898648199324364, 0.000898648498873884, 1.55650511761258], [0.905404952702743, 0.000905405254504514, 1.56820816360966], [0.912161706081122, 0.000912162010135145, 1.57991120960675], [0.9189184594595, 0.000918918765765776, 1.59161425560384], [0.925675212837879, 0.000925675521396407, 1.60331730160093], [0.932431966216258, 0.000932432277027037, 1.61502034759801], [0.939188719594636, 0.000939189032657668, 1.6267233935951], [0.945945472973015, 0.000945945788288299, 1.63842643959219], [0.952702226351394, 0.00095270254391893, 1.65012948558927], [0.959458979729772, 0.00095945929954956, 1.66183253158636], [0.966215733108151, 0.000966216055180191, 1.67353557758345], [0.97297248648653, 0.000972972810810822, 1.68523862358053], [0.979729239864909, 0.000979729566441452, 1.69694166957762], [0.986485993243287, 0.000986486322072083, 1.70864471557471], [0.993242746621666, 0.000993243077702714, 1.7203477615718], [0.999999500000045, 0.000999999833333345, 1.73205080756888]], &quot;color&quot;:&quot;blue&quot;, &quot;opacity&quot;:1, &quot;linewidth&quot;:1},{&quot;points&quot;:[[-0.250144323675736, 0.432929344504168, 0.866025403784439], [-0.253524652374056, 0.438779741051522, 0.877728449781526], [-0.256904981072377, 0.444630137598876, 0.889431495778613], [-0.260285309770698, 0.450480534146229, 0.9011345417757], [-0.263665638469019, 0.456330930693583, 0.912837587772787], [-0.267045967167339, 0.462181327240937, 0.924540633769874], [-0.27042629586566, 0.46803172378829, 0.936243679766961], [-0.273806624563981, 0.473882120335644, 0.947946725764048], [-0.277186953262302, 0.479732516882998, 0.959649771761135], [-0.280567281960623, 0.485582913430351, 0.971352817758222], [-0.283947610658943, 0.491433309977705, 0.98305586375531], [-0.287327939357264, 0.497283706525058, 0.994758909752397], [-0.290708268055585, 0.503134103072412, 1.00646195574948], [-0.294088596753906, 0.508984499619766, 1.01816500174657], [-0.297468925452226, 0.514834896167119, 1.02986804774366], [-0.300849254150547, 0.520685292714473, 1.04157109374074], [-0.304229582848868, 0.526535689261827, 1.05327413973783], [-0.307609911547189, 0.53238608580918, 1.06497718573492], [-0.310990240245509, 0.538236482356534, 1.07668023173201], [-0.31437056894383, 0.544086878903888, 1.08838327772909], [-0.317750897642151, 0.549937275451241, 1.10008632372618], [-0.321131226340472, 0.555787671998595, 1.11178936972327], [-0.324511555038793, 0.561638068545949, 1.12349241572035], [-0.327891883737113, 0.567488465093302, 1.13519546171744], [-0.331272212435434, 0.573338861640656, 1.14689850771453], [-0.334652541133755, 0.57918925818801, 1.15860155371162], [-0.338032869832076, 0.585039654735363, 1.1703045997087], [-0.341413198530396, 0.590890051282717, 1.18200764570579], [-0.344793527228717, 0.596740447830071, 1.19371069170288], [-0.348173855927038, 0.602590844377424, 1.20541373769996], [-0.351554184625359, 0.608441240924778, 1.21711678369705], [-0.35493451332368, 0.614291637472132, 1.22881982969414], [-0.358314842022, 0.620142034019485, 1.24052287569123], [-0.361695170720321, 0.625992430566839, 1.25222592168831], [-0.365075499418642, 0.631842827114193, 1.2639289676854], [-0.368455828116963, 0.637693223661546, 1.27563201368249], [-0.371836156815283, 0.6435436202089, 1.28733505967957], [-0.375216485513604, 0.649394016756254, 1.29903810567666], [-0.378596814211925, 0.655244413303607, 1.31074115167375], [-0.381977142910246, 0.661094809850961, 1.32244419767083], [-0.385357471608566, 0.666945206398315, 1.33414724366792], [-0.388737800306887, 0.672795602945668, 1.34585028966501], [-0.392118129005208, 0.678645999493022, 1.3575533356621], [-0.395498457703529, 0.684496396040376, 1.36925638165918], [-0.39887878640185, 0.690346792587729, 1.38095942765627], [-0.40225911510017, 0.696197189135083, 1.39266247365336], [-0.405639443798491, 0.702047585682437, 1.40436551965044], [-0.409019772496812, 0.70789798222979, 1.41606856564753], [-0.412400101195133, 0.713748378777144, 1.42777161164462], [-0.415780429893453, 0.719598775324498, 1.43947465764171], [-0.419160758591774, 0.725449171871851, 1.45117770363879], [-0.422541087290095, 0.731299568419205, 1.46288074963588], [-0.425921415988416, 0.737149964966558, 1.47458379563297], [-0.429301744686737, 0.743000361513912, 1.48628684163005], [-0.432682073385057, 0.748850758061266, 1.49798988762714], [-0.436062402083378, 0.75470115460862, 1.50969293362423], [-0.439442730781699, 0.760551551155973, 1.52139597962132], [-0.44282305948002, 0.766401947703327, 1.5330990256184], [-0.44620338817834, 0.77225234425068, 1.54480207161549], [-0.449583716876661, 0.778102740798034, 1.55650511761258], [-0.452964045574982, 0.783953137345388, 1.56820816360966], [-0.456344374273303, 0.789803533892741, 1.57991120960675], [-0.459724702971623, 0.795653930440095, 1.59161425560384], [-0.463105031669944, 0.801504326987449, 1.60331730160093], [-0.466485360368265, 0.807354723534803, 1.61502034759801], [-0.469865689066586, 0.813205120082156, 1.6267233935951], [-0.473246017764907, 0.81905551662951, 1.63842643959219], [-0.476626346463227, 0.824905913176863, 1.65012948558927], [-0.480006675161548, 0.830756309724217, 1.66183253158636], [-0.483387003859869, 0.836606706271571, 1.67353557758345], [-0.48676733255819, 0.842457102818924, 1.68523862358053], [-0.49014766125651, 0.848307499366278, 1.69694166957762], [-0.493527989954831, 0.854157895913632, 1.70864471557471], [-0.496908318653152, 0.860008292460985, 1.7203477615718], [-0.500288647351473, 0.865858689008339, 1.73205080756888]], &quot;color&quot;:&quot;blue&quot;, &quot;opacity&quot;:1, &quot;linewidth&quot;:1},{&quot;points&quot;:[[-0.250144323675736, -0.432929344504168, 0.866025403784439], [-0.253524652374056, -0.438779741051522, 0.877728449781526], [-0.256904981072377, -0.444630137598875, 0.889431495778613], [-0.260285309770698, -0.450480534146229, 0.9011345417757], [-0.263665638469019, -0.456330930693583, 0.912837587772787], [-0.26704596716734, -0.462181327240936, 0.924540633769874], [-0.27042629586566, -0.46803172378829, 0.936243679766961], [-0.273806624563981, -0.473882120335644, 0.947946725764048], [-0.277186953262302, -0.479732516882997, 0.959649771761135], [-0.280567281960623, -0.485582913430351, 0.971352817758222], [-0.283947610658943, -0.491433309977705, 0.98305586375531], [-0.287327939357264, -0.497283706525058, 0.994758909752397], [-0.290708268055585, -0.503134103072412, 1.00646195574948], [-0.294088596753906, -0.508984499619766, 1.01816500174657], [-0.297468925452226, -0.514834896167119, 1.02986804774366], [-0.300849254150547, -0.520685292714473, 1.04157109374074], [-0.304229582848868, -0.526535689261827, 1.05327413973783], [-0.307609911547189, -0.53238608580918, 1.06497718573492], [-0.31099024024551, -0.538236482356534, 1.07668023173201], [-0.31437056894383, -0.544086878903888, 1.08838327772909], [-0.317750897642151, -0.549937275451241, 1.10008632372618], [-0.321131226340472, -0.555787671998595, 1.11178936972327], [-0.324511555038793, -0.561638068545949, 1.12349241572035], [-0.327891883737113, -0.567488465093302, 1.13519546171744], [-0.331272212435434, -0.573338861640656, 1.14689850771453], [-0.334652541133755, -0.57918925818801, 1.15860155371162], [-0.338032869832076, -0.585039654735363, 1.1703045997087], [-0.341413198530397, -0.590890051282717, 1.18200764570579], [-0.344793527228717, -0.596740447830071, 1.19371069170288], [-0.348173855927038, -0.602590844377424, 1.20541373769996], [-0.351554184625359, -0.608441240924778, 1.21711678369705], [-0.35493451332368, -0.614291637472132, 1.22881982969414], [-0.358314842022, -0.620142034019485, 1.24052287569123], [-0.361695170720321, -0.625992430566839, 1.25222592168831], [-0.365075499418642, -0.631842827114193, 1.2639289676854], [-0.368455828116963, -0.637693223661546, 1.27563201368249], [-0.371836156815283, -0.6435436202089, 1.28733505967957], [-0.375216485513604, -0.649394016756254, 1.29903810567666], [-0.378596814211925, -0.655244413303607, 1.31074115167375], [-0.381977142910246, -0.661094809850961, 1.32244419767083], [-0.385357471608567, -0.666945206398315, 1.33414724366792], [-0.388737800306887, -0.672795602945668, 1.34585028966501], [-0.392118129005208, -0.678645999493022, 1.3575533356621], [-0.395498457703529, -0.684496396040375, 1.36925638165918], [-0.39887878640185, -0.690346792587729, 1.38095942765627], [-0.40225911510017, -0.696197189135083, 1.39266247365336], [-0.405639443798491, -0.702047585682437, 1.40436551965044], [-0.409019772496812, -0.70789798222979, 1.41606856564753], [-0.412400101195133, -0.713748378777144, 1.42777161164462], [-0.415780429893454, -0.719598775324497, 1.43947465764171], [-0.419160758591774, -0.725449171871851, 1.45117770363879], [-0.422541087290095, -0.731299568419205, 1.46288074963588], [-0.425921415988416, -0.737149964966558, 1.47458379563297], [-0.429301744686737, -0.743000361513912, 1.48628684163005], [-0.432682073385057, -0.748850758061266, 1.49798988762714], [-0.436062402083378, -0.754701154608619, 1.50969293362423], [-0.439442730781699, -0.760551551155973, 1.52139597962132], [-0.44282305948002, -0.766401947703327, 1.5330990256184], [-0.44620338817834, -0.77225234425068, 1.54480207161549], [-0.449583716876661, -0.778102740798034, 1.55650511761258], [-0.452964045574982, -0.783953137345388, 1.56820816360966], [-0.456344374273303, -0.789803533892741, 1.57991120960675], [-0.459724702971624, -0.795653930440095, 1.59161425560384], [-0.463105031669944, -0.801504326987449, 1.60331730160093], [-0.466485360368265, -0.807354723534802, 1.61502034759801], [-0.469865689066586, -0.813205120082156, 1.6267233935951], [-0.473246017764907, -0.81905551662951, 1.63842643959219], [-0.476626346463227, -0.824905913176863, 1.65012948558927], [-0.480006675161548, -0.830756309724217, 1.66183253158636], [-0.483387003859869, -0.836606706271571, 1.67353557758345], [-0.48676733255819, -0.842457102818924, 1.68523862358053], [-0.490147661256511, -0.848307499366278, 1.69694166957762], [-0.493527989954831, -0.854157895913632, 1.70864471557471], [-0.496908318653152, -0.860008292460985, 1.7203477615718], [-0.500288647351473, -0.865858689008339, 1.73205080756888]], &quot;color&quot;:&quot;blue&quot;, &quot;opacity&quot;:1, &quot;linewidth&quot;:1},{&quot;points&quot;:[[0.499999750000021, -0.000499999916666516, 0.866025403784439], [0.506756503378399, -0.000506756672297145, 0.877728449781526], [0.513513256756778, -0.000513513427927773, 0.889431495778613], [0.520270010135157, -0.000520270183558402, 0.9011345417757], [0.527026763513536, -0.000527026939189031, 0.912837587772787], [0.533783516891914, -0.000533783694819659, 0.924540633769874], [0.540540270270293, -0.000540540450450288, 0.936243679766961], [0.547297023648672, -0.000547297206080917, 0.947946725764048], [0.55405377702705, -0.000554053961711545, 0.959649771761135], [0.560810530405429, -0.000560810717342174, 0.971352817758222], [0.567567283783808, -0.000567567472972803, 0.98305586375531], [0.574324037162186, -0.000574324228603431, 0.994758909752397], [0.581080790540565, -0.00058108098423406, 1.00646195574948], [0.587837543918944, -0.000587837739864688, 1.01816500174657], [0.594594297297323, -0.000594594495495317, 1.02986804774366], [0.601351050675701, -0.000601351251125946, 1.04157109374074], [0.60810780405408, -0.000608108006756574, 1.05327413973783], [0.614864557432459, -0.000614864762387203, 1.06497718573492], [0.621621310810837, -0.000621621518017832, 1.07668023173201], [0.628378064189216, -0.00062837827364846, 1.08838327772909], [0.635134817567595, -0.000635135029279089, 1.10008632372618], [0.641891570945973, -0.000641891784909718, 1.11178936972327], [0.648648324324352, -0.000648648540540346, 1.12349241572035], [0.655405077702731, -0.000655405296170975, 1.13519546171744], [0.66216183108111, -0.000662162051801603, 1.14689850771453], [0.668918584459488, -0.000668918807432232, 1.15860155371162], [0.675675337837867, -0.000675675563062861, 1.1703045997087], [0.682432091216246, -0.000682432318693489, 1.18200764570579], [0.689188844594624, -0.000689189074324118, 1.19371069170288], [0.695945597973003, -0.000695945829954747, 1.20541373769996], [0.702702351351382, -0.000702702585585375, 1.21711678369705], [0.70945910472976, -0.000709459341216004, 1.22881982969414], [0.716215858108139, -0.000716216096846633, 1.24052287569123], [0.722972611486518, -0.000722972852477261, 1.25222592168831], [0.729729364864897, -0.00072972960810789, 1.2639289676854], [0.736486118243275, -0.000736486363738519, 1.27563201368249], [0.743242871621654, -0.000743243119369147, 1.28733505967957], [0.749999625000033, -0.000749999874999776, 1.29903810567666], [0.756756378378411, -0.000756756630630404, 1.31074115167375], [0.76351313175679, -0.000763513386261033, 1.32244419767083], [0.770269885135169, -0.000770270141891662, 1.33414724366792], [0.777026638513547, -0.00077702689752229, 1.34585028966501], [0.783783391891926, -0.000783783653152919, 1.3575533356621], [0.790540145270305, -0.000790540408783548, 1.36925638165918], [0.797296898648684, -0.000797297164414176, 1.38095942765627], [0.804053652027062, -0.000804053920044805, 1.39266247365336], [0.810810405405441, -0.000810810675675434, 1.40436551965044], [0.81756715878382, -0.000817567431306062, 1.41606856564753], [0.824323912162198, -0.000824324186936691, 1.42777161164462], [0.831080665540577, -0.000831080942567319, 1.43947465764171], [0.837837418918956, -0.000837837698197948, 1.45117770363879], [0.844594172297335, -0.000844594453828577, 1.46288074963588], [0.851350925675713, -0.000851351209459205, 1.47458379563297], [0.858107679054092, -0.000858107965089834, 1.48628684163005], [0.864864432432471, -0.000864864720720463, 1.49798988762714], [0.871621185810849, -0.000871621476351091, 1.50969293362423], [0.878377939189228, -0.00087837823198172, 1.52139597962132], [0.885134692567607, -0.000885134987612349, 1.5330990256184], [0.891891445945985, -0.000891891743242977, 1.54480207161549], [0.898648199324364, -0.000898648498873606, 1.55650511761258], [0.905404952702743, -0.000905405254504234, 1.56820816360966], [0.912161706081122, -0.000912162010134863, 1.57991120960675], [0.9189184594595, -0.000918918765765492, 1.59161425560384], [0.925675212837879, -0.00092567552139612, 1.60331730160093], [0.932431966216258, -0.000932432277026749, 1.61502034759801], [0.939188719594636, -0.000939189032657378, 1.6267233935951], [0.945945472973015, -0.000945945788288006, 1.63842643959219], [0.952702226351394, -0.000952702543918635, 1.65012948558927], [0.959458979729772, -0.000959459299549264, 1.66183253158636], [0.966215733108151, -0.000966216055179892, 1.67353557758345], [0.97297248648653, -0.000972972810810521, 1.68523862358053], [0.979729239864909, -0.000979729566441149, 1.69694166957762], [0.986485993243287, -0.000986486322071778, 1.70864471557471], [0.993242746621666, -0.000993243077702407, 1.7203477615718], [0.999999500000045, -0.000999999833333035, 1.73205080756888]], &quot;color&quot;:&quot;blue&quot;, &quot;opacity&quot;:1, &quot;linewidth&quot;:1},{&quot;points&quot;:[[0.866024970771773, 0.000866025259446879, 0.5], [0.877728010917337, 0.000877728303493458, 0.506756756756757], [0.889431051062902, 0.000889431347540038, 0.513513513513514], [0.901134091208467, 0.000901134391586617, 0.520270270270271], [0.912837131354031, 0.000912837435633197, 0.527027027027027], [0.924540171499596, 0.000924540479679776, 0.533783783783784], [0.93624321164516, 0.000936243523726356, 0.540540540540541], [0.947946251790725, 0.000947946567772935, 0.547297297297298], [0.959649291936289, 0.000959649611819515, 0.554054054054055], [0.971352332081854, 0.000971352655866094, 0.560810810810811], [0.983055372227418, 0.000983055699912674, 0.567567567567568], [0.994758412372983, 0.000994758743959253, 0.574324324324325], [1.00646145251855, 0.00100646178800583, 0.581081081081082], [1.01816449266411, 0.00101816483205241, 0.587837837837838], [1.02986753280968, 0.00102986787609899, 0.594594594594595], [1.04157057295524, 0.00104157092014557, 0.601351351351352], [1.05327361310081, 0.00105327396419215, 0.608108108108109], [1.06497665324637, 0.00106497700823873, 0.614864864864866], [1.07667969339194, 0.00107668005228531, 0.621621621621622], [1.0883827335375, 0.00108838309633189, 0.628378378378379], [1.10008577368306, 0.00110008614037847, 0.635135135135136], [1.11178881382863, 0.00111178918442505, 0.641891891891893], [1.12349185397419, 0.00112349222847163, 0.64864864864865], [1.13519489411976, 0.00113519527251821, 0.655405405405406], [1.14689793426532, 0.00114689831656479, 0.662162162162163], [1.15860097441089, 0.00115860136061137, 0.66891891891892], [1.17030401455645, 0.00117030440465795, 0.675675675675677], [1.18200705470202, 0.00118200744870453, 0.682432432432434], [1.19371009484758, 0.0011937104927511, 0.68918918918919], [1.20541313499315, 0.00120541353679768, 0.695945945945947], [1.21711617513871, 0.00121711658084426, 0.702702702702704], [1.22881921528427, 0.00122881962489084, 0.709459459459461], [1.24052225542984, 0.00124052266893742, 0.716216216216218], [1.2522252955754, 0.001252225712984, 0.722972972972974], [1.26392833572097, 0.00126392875703058, 0.729729729729731], [1.27563137586653, 0.00127563180107716, 0.736486486486488], [1.2873344160121, 0.00128733484512374, 0.743243243243245], [1.29903745615766, 0.00129903788917032, 0.750000000000002], [1.31074049630323, 0.0013107409332169, 0.756756756756759], [1.32244353644879, 0.00132244397726348, 0.763513513513515], [1.33414657659436, 0.00133414702131006, 0.770270270270272], [1.34584961673992, 0.00134585006535664, 0.777027027027029], [1.35755265688548, 0.00135755310940322, 0.783783783783786], [1.36925569703105, 0.0013692561534498, 0.790540540540543], [1.38095873717661, 0.00138095919749638, 0.797297297297299], [1.39266177732218, 0.00139266224154296, 0.804054054054056], [1.40436481746774, 0.00140436528558954, 0.810810810810813], [1.41606785761331, 0.00141606832963612, 0.81756756756757], [1.42777089775887, 0.0014277713736827, 0.824324324324327], [1.43947393790444, 0.00143947441772927, 0.831081081081083], [1.45117697805, 0.00145117746177585, 0.83783783783784], [1.46288001819557, 0.00146288050582243, 0.844594594594597], [1.47458305834113, 0.00147458354986901, 0.851351351351354], [1.4862860984867, 0.00148628659391559, 0.858108108108111], [1.49798913863226, 0.00149798963796217, 0.864864864864867], [1.50969217877782, 0.00150969268200875, 0.871621621621624], [1.52139521892339, 0.00152139572605533, 0.878378378378381], [1.53309825906895, 0.00153309877010191, 0.885135135135138], [1.54480129921452, 0.00154480181414849, 0.891891891891895], [1.55650433936008, 0.00155650485819507, 0.898648648648651], [1.56820737950565, 0.00156820790224165, 0.905405405405408], [1.57991041965121, 0.00157991094628823, 0.912162162162165], [1.59161345979678, 0.00159161399033481, 0.918918918918922], [1.60331649994234, 0.00160331703438139, 0.925675675675679], [1.61501954008791, 0.00161502007842797, 0.932432432432435], [1.62672258023347, 0.00162672312247455, 0.939189189189192], [1.63842562037903, 0.00163842616652113, 0.945945945945949], [1.6501286605246, 0.00165012921056771, 0.952702702702706], [1.66183170067016, 0.00166183225461429, 0.959459459459463], [1.67353474081573, 0.00167353529866086, 0.966216216216219], [1.68523778096129, 0.00168523834270744, 0.972972972972976], [1.69694082110686, 0.00169694138675402, 0.979729729729733], [1.70864386125242, 0.0017086444308006, 0.98648648648649], [1.72034690139799, 0.00172034747484718, 0.993243243243247], [1.73204994154355, 0.00173205051889376, 1.0]], &quot;color&quot;:&quot;blue&quot;, &quot;opacity&quot;:1, &quot;linewidth&quot;:1},{&quot;points&quot;:[[-0.433262677831328, 0.749855620768709, 0.5], [-0.439117578883103, 0.759988804833151, 0.506756756756757], [-0.444972479934878, 0.770121988897593, 0.513513513513514], [-0.450827380986653, 0.780255172962036, 0.520270270270271], [-0.456682282038428, 0.790388357026478, 0.527027027027027], [-0.462537183090202, 0.80052154109092, 0.533783783783784], [-0.468392084141977, 0.810654725155362, 0.540540540540541], [-0.474246985193752, 0.820787909219804, 0.547297297297298], [-0.480101886245526, 0.830921093284246, 0.554054054054055], [-0.485956787297301, 0.841054277348688, 0.560810810810811], [-0.491811688349076, 0.85118746141313, 0.567567567567568], [-0.497666589400851, 0.861320645477572, 0.574324324324325], [-0.503521490452626, 0.871453829542014, 0.581081081081082], [-0.5093763915044, 0.881587013606456, 0.587837837837838], [-0.515231292556175, 0.891720197670898, 0.594594594594595], [-0.52108619360795, 0.90185338173534, 0.601351351351352], [-0.526941094659724, 0.911986565799783, 0.608108108108109], [-0.532795995711499, 0.922119749864225, 0.614864864864866], [-0.538650896763274, 0.932252933928667, 0.621621621621622], [-0.544505797815049, 0.942386117993109, 0.628378378378379], [-0.550360698866823, 0.952519302057551, 0.635135135135136], [-0.556215599918598, 0.962652486121993, 0.641891891891893], [-0.562070500970373, 0.972785670186435, 0.64864864864865], [-0.567925402022148, 0.982918854250877, 0.655405405405406], [-0.573780303073922, 0.993052038315319, 0.662162162162163], [-0.579635204125697, 1.00318522237976, 0.66891891891892], [-0.585490105177472, 1.0133184064442, 0.675675675675677], [-0.591345006229247, 1.02345159050865, 0.682432432432434], [-0.597199907281021, 1.03358477457309, 0.68918918918919], [-0.603054808332796, 1.04371795863753, 0.695945945945947], [-0.608909709384571, 1.05385114270197, 0.702702702702704], [-0.614764610436346, 1.06398432676641, 0.709459459459461], [-0.62061951148812, 1.07411751083086, 0.716216216216218], [-0.626474412539895, 1.0842506948953, 0.722972972972974], [-0.63232931359167, 1.09438387895974, 0.729729729729731], [-0.638184214643445, 1.10451706302418, 0.736486486486488], [-0.644039115695219, 1.11465024708862, 0.743243243243245], [-0.649894016746994, 1.12478343115307, 0.750000000000002], [-0.655748917798769, 1.13491661521751, 0.756756756756759], [-0.661603818850544, 1.14504979928195, 0.763513513513515], [-0.667458719902318, 1.15518298334639, 0.770270270270272], [-0.673313620954093, 1.16531616741083, 0.777027027027029], [-0.679168522005868, 1.17544935147528, 0.783783783783786], [-0.685023423057643, 1.18558253553972, 0.790540540540543], [-0.690878324109417, 1.19571571960416, 0.797297297297299], [-0.696733225161192, 1.2058489036686, 0.804054054054056], [-0.702588126212967, 1.21598208773304, 0.810810810810813], [-0.708443027264742, 1.22611527179749, 0.81756756756757], [-0.714297928316516, 1.23624845586193, 0.824324324324327], [-0.720152829368291, 1.24638163992637, 0.831081081081083], [-0.726007730420066, 1.25651482399081, 0.83783783783784], [-0.73186263147184, 1.26664800805526, 0.844594594594597], [-0.737717532523615, 1.2767811921197, 0.851351351351354], [-0.74357243357539, 1.28691437618414, 0.858108108108111], [-0.749427334627165, 1.29704756024858, 0.864864864864867], [-0.75528223567894, 1.30718074431302, 0.871621621621624], [-0.761137136730714, 1.31731392837747, 0.878378378378381], [-0.766992037782489, 1.32744711244191, 0.885135135135138], [-0.772846938834264, 1.33758029650635, 0.891891891891895], [-0.778701839886038, 1.34771348057079, 0.898648648648651], [-0.784556740937813, 1.35784666463523, 0.905405405405408], [-0.790411641989588, 1.36797984869968, 0.912162162162165], [-0.796266543041363, 1.37811303276412, 0.918918918918922], [-0.802121444093137, 1.38824621682856, 0.925675675675679], [-0.807976345144912, 1.398379400893, 0.932432432432435], [-0.813831246196687, 1.40851258495744, 0.939189189189192], [-0.819686147248462, 1.41864576902189, 0.945945945945949], [-0.825541048300237, 1.42877895308633, 0.952702702702706], [-0.831395949352011, 1.43891213715077, 0.959459459459463], [-0.837250850403786, 1.44904532121521, 0.966216216216219], [-0.843105751455561, 1.45917850527965, 0.972972972972976], [-0.848960652507335, 1.4693116893441, 0.979729729729733], [-0.85481555355911, 1.47944487340854, 0.98648648648649], [-0.860670454610885, 1.48957805747298, 0.993243243243247], [-0.86652535566266, 1.49971124153742, 1.0]], &quot;color&quot;:&quot;blue&quot;, &quot;opacity&quot;:1, &quot;linewidth&quot;:1},{&quot;points&quot;:[[-0.433262677831329, -0.749855620768709, 0.5], [-0.439117578883103, -0.759988804833151, 0.506756756756757], [-0.444972479934878, -0.770121988897593, 0.513513513513514], [-0.450827380986653, -0.780255172962035, 0.520270270270271], [-0.456682282038428, -0.790388357026477, 0.527027027027027], [-0.462537183090202, -0.80052154109092, 0.533783783783784], [-0.468392084141977, -0.810654725155362, 0.540540540540541], [-0.474246985193752, -0.820787909219804, 0.547297297297298], [-0.480101886245527, -0.830921093284246, 0.554054054054055], [-0.485956787297301, -0.841054277348688, 0.560810810810811], [-0.491811688349076, -0.85118746141313, 0.567567567567568], [-0.497666589400851, -0.861320645477572, 0.574324324324325], [-0.503521490452626, -0.871453829542014, 0.581081081081082], [-0.5093763915044, -0.881587013606456, 0.587837837837838], [-0.515231292556175, -0.891720197670898, 0.594594594594595], [-0.52108619360795, -0.90185338173534, 0.601351351351352], [-0.526941094659725, -0.911986565799783, 0.608108108108109], [-0.532795995711499, -0.922119749864225, 0.614864864864866], [-0.538650896763274, -0.932252933928667, 0.621621621621622], [-0.544505797815049, -0.942386117993109, 0.628378378378379], [-0.550360698866823, -0.952519302057551, 0.635135135135136], [-0.556215599918598, -0.962652486121993, 0.641891891891893], [-0.562070500970373, -0.972785670186435, 0.64864864864865], [-0.567925402022148, -0.982918854250877, 0.655405405405406], [-0.573780303073923, -0.993052038315319, 0.662162162162163], [-0.579635204125697, -1.00318522237976, 0.66891891891892], [-0.585490105177472, -1.0133184064442, 0.675675675675677], [-0.591345006229247, -1.02345159050865, 0.682432432432434], [-0.597199907281022, -1.03358477457309, 0.68918918918919], [-0.603054808332796, -1.04371795863753, 0.695945945945947], [-0.608909709384571, -1.05385114270197, 0.702702702702704], [-0.614764610436346, -1.06398432676641, 0.709459459459461], [-0.62061951148812, -1.07411751083086, 0.716216216216218], [-0.626474412539895, -1.0842506948953, 0.722972972972974], [-0.63232931359167, -1.09438387895974, 0.729729729729731], [-0.638184214643445, -1.10451706302418, 0.736486486486488], [-0.64403911569522, -1.11465024708862, 0.743243243243245], [-0.649894016746994, -1.12478343115307, 0.750000000000002], [-0.655748917798769, -1.13491661521751, 0.756756756756759], [-0.661603818850544, -1.14504979928195, 0.763513513513515], [-0.667458719902319, -1.15518298334639, 0.770270270270272], [-0.673313620954093, -1.16531616741083, 0.777027027027029], [-0.679168522005868, -1.17544935147528, 0.783783783783786], [-0.685023423057643, -1.18558253553972, 0.790540540540543], [-0.690878324109417, -1.19571571960416, 0.797297297297299], [-0.696733225161192, -1.2058489036686, 0.804054054054056], [-0.702588126212967, -1.21598208773304, 0.810810810810813], [-0.708443027264742, -1.22611527179749, 0.81756756756757], [-0.714297928316517, -1.23624845586193, 0.824324324324327], [-0.720152829368291, -1.24638163992637, 0.831081081081083], [-0.726007730420066, -1.25651482399081, 0.83783783783784], [-0.731862631471841, -1.26664800805526, 0.844594594594597], [-0.737717532523615, -1.2767811921197, 0.851351351351354], [-0.74357243357539, -1.28691437618414, 0.858108108108111], [-0.749427334627165, -1.29704756024858, 0.864864864864867], [-0.75528223567894, -1.30718074431302, 0.871621621621624], [-0.761137136730714, -1.31731392837747, 0.878378378378381], [-0.766992037782489, -1.32744711244191, 0.885135135135138], [-0.772846938834264, -1.33758029650635, 0.891891891891895], [-0.778701839886039, -1.34771348057079, 0.898648648648651], [-0.784556740937813, -1.35784666463523, 0.905405405405408], [-0.790411641989588, -1.36797984869968, 0.912162162162165], [-0.796266543041363, -1.37811303276412, 0.918918918918922], [-0.802121444093138, -1.38824621682856, 0.925675675675679], [-0.807976345144912, -1.398379400893, 0.932432432432435], [-0.813831246196687, -1.40851258495744, 0.939189189189192], [-0.819686147248462, -1.41864576902189, 0.945945945945949], [-0.825541048300237, -1.42877895308633, 0.952702702702706], [-0.831395949352011, -1.43891213715077, 0.959459459459463], [-0.837250850403786, -1.44904532121521, 0.966216216216219], [-0.843105751455561, -1.45917850527965, 0.972972972972976], [-0.848960652507336, -1.4693116893441, 0.979729729729733], [-0.85481555355911, -1.47944487340854, 0.98648648648649], [-0.860670454610885, -1.48957805747298, 0.993243243243247], [-0.86652535566266, -1.49971124153742, 1.0]], &quot;color&quot;:&quot;blue&quot;, &quot;opacity&quot;:1, &quot;linewidth&quot;:1},{&quot;points&quot;:[[0.866024970771773, -0.000866025259446611, 0.5], [0.877728010917337, -0.000877728303493187, 0.506756756756757], [0.889431051062902, -0.000889431347539763, 0.513513513513514], [0.901134091208467, -0.000901134391586338, 0.520270270270271], [0.912837131354031, -0.000912837435632914, 0.527027027027027], [0.924540171499596, -0.00092454047967949, 0.533783783783784], [0.93624321164516, -0.000936243523726066, 0.540540540540541], [0.947946251790725, -0.000947946567772642, 0.547297297297298], [0.959649291936289, -0.000959649611819218, 0.554054054054055], [0.971352332081854, -0.000971352655865794, 0.560810810810811], [0.983055372227418, -0.00098305569991237, 0.567567567567568], [0.994758412372983, -0.000994758743958946, 0.574324324324325], [1.00646145251855, -0.00100646178800552, 0.581081081081082], [1.01816449266411, -0.0010181648320521, 0.587837837837838], [1.02986753280968, -0.00102986787609867, 0.594594594594595], [1.04157057295524, -0.00104157092014525, 0.601351351351352], [1.05327361310081, -0.00105327396419183, 0.608108108108109], [1.06497665324637, -0.0010649770082384, 0.614864864864866], [1.07667969339194, -0.00107668005228498, 0.621621621621622], [1.0883827335375, -0.00108838309633155, 0.628378378378379], [1.10008577368306, -0.00110008614037813, 0.635135135135136], [1.11178881382863, -0.0011117891844247, 0.641891891891893], [1.12349185397419, -0.00112349222847128, 0.64864864864865], [1.13519489411976, -0.00113519527251786, 0.655405405405406], [1.14689793426532, -0.00114689831656443, 0.662162162162163], [1.15860097441089, -0.00115860136061101, 0.66891891891892], [1.17030401455645, -0.00117030440465758, 0.675675675675677], [1.18200705470202, -0.00118200744870416, 0.682432432432434], [1.19371009484758, -0.00119371049275074, 0.68918918918919], [1.20541313499315, -0.00120541353679731, 0.695945945945947], [1.21711617513871, -0.00121711658084389, 0.702702702702704], [1.22881921528427, -0.00122881962489046, 0.709459459459461], [1.24052225542984, -0.00124052266893704, 0.716216216216218], [1.2522252955754, -0.00125222571298362, 0.722972972972974], [1.26392833572097, -0.00126392875703019, 0.729729729729731], [1.27563137586653, -0.00127563180107677, 0.736486486486488], [1.2873344160121, -0.00128733484512334, 0.743243243243245], [1.29903745615766, -0.00129903788916992, 0.750000000000002], [1.31074049630323, -0.00131074093321649, 0.756756756756759], [1.32244353644879, -0.00132244397726307, 0.763513513513515], [1.33414657659436, -0.00133414702130965, 0.770270270270272], [1.34584961673992, -0.00134585006535622, 0.777027027027029], [1.35755265688548, -0.0013575531094028, 0.783783783783786], [1.36925569703105, -0.00136925615344937, 0.790540540540543], [1.38095873717661, -0.00138095919749595, 0.797297297297299], [1.39266177732218, -0.00139266224154253, 0.804054054054056], [1.40436481746774, -0.0014043652855891, 0.810810810810813], [1.41606785761331, -0.00141606832963568, 0.81756756756757], [1.42777089775887, -0.00142777137368225, 0.824324324324327], [1.43947393790444, -0.00143947441772883, 0.831081081081083], [1.45117697805, -0.00145117746177541, 0.83783783783784], [1.46288001819557, -0.00146288050582198, 0.844594594594597], [1.47458305834113, -0.00147458354986856, 0.851351351351354], [1.4862860984867, -0.00148628659391513, 0.858108108108111], [1.49798913863226, -0.00149798963796171, 0.864864864864867], [1.50969217877782, -0.00150969268200828, 0.871621621621624], [1.52139521892339, -0.00152139572605486, 0.878378378378381], [1.53309825906895, -0.00153309877010144, 0.885135135135138], [1.54480129921452, -0.00154480181414801, 0.891891891891895], [1.55650433936008, -0.00155650485819459, 0.898648648648651], [1.56820737950565, -0.00156820790224116, 0.905405405405408], [1.57991041965121, -0.00157991094628774, 0.912162162162165], [1.59161345979678, -0.00159161399033432, 0.918918918918922], [1.60331649994234, -0.00160331703438089, 0.925675675675679], [1.61501954008791, -0.00161502007842747, 0.932432432432435], [1.62672258023347, -0.00162672312247404, 0.939189189189192], [1.63842562037903, -0.00163842616652062, 0.945945945945949], [1.6501286605246, -0.0016501292105672, 0.952702702702706], [1.66183170067016, -0.00166183225461377, 0.959459459459463], [1.67353474081573, -0.00167353529866035, 0.966216216216219], [1.68523778096129, -0.00168523834270692, 0.972972972972976], [1.69694082110686, -0.0016969413867535, 0.979729729729733], [1.70864386125242, -0.00170864443080008, 0.98648648648649], [1.72034690139799, -0.00172034747484665, 0.993243243243247], [1.73204994154355, -0.00173205051889323, 1.0]], &quot;color&quot;:&quot;blue&quot;, &quot;opacity&quot;:1, &quot;linewidth&quot;:1},{&quot;points&quot;:[[0.999999500000042, 0.000999999833333342, 6.12323399573677e-17], [1.0135130067568, 0.0010135133445946, 6.20598040108456e-17], [1.02702651351356, 0.00102702685585586, 6.28872680643236e-17], [1.04054002027031, 0.00104054036711713, 6.37147321178015e-17], [1.05405352702707, 0.00105405387837839, 6.45421961712794e-17], [1.06756703378383, 0.00106756738963965, 6.53696602247574e-17], [1.08108054054059, 0.00108108090090091, 6.61971242782353e-17], [1.09459404729734, 0.00109459441216217, 6.70245883317133e-17], [1.1081075540541, 0.00110810792342343, 6.78520523851912e-17], [1.12162106081086, 0.00112162143468469, 6.86795164386692e-17], [1.13513456756762, 0.00113513494594596, 6.95069804921471e-17], [1.14864807432437, 0.00114864845720722, 7.03344445456251e-17], [1.16216158108113, 0.00116216196846848, 7.1161908599103e-17], [1.17567508783789, 0.00117567547972974, 7.1989372652581e-17], [1.18918859459465, 0.001189188990991, 7.28168367060589e-17], [1.2027021013514, 0.00120270250225226, 7.36443007595369e-17], [1.21621560810816, 0.00121621601351352, 7.44717648130148e-17], [1.22972911486492, 0.00122972952477479, 7.52992288664928e-17], [1.24324262162167, 0.00124324303603605, 7.61266929199707e-17], [1.25675612837843, 0.00125675654729731, 7.69541569734486e-17], [1.27026963513519, 0.00127027005855857, 7.77816210269266e-17], [1.28378314189195, 0.00128378356981983, 7.86090850804045e-17], [1.2972966486487, 0.00129729708108109, 7.94365491338825e-17], [1.31081015540546, 0.00131081059234236, 8.02640131873604e-17], [1.32432366216222, 0.00132432410360362, 8.10914772408384e-17], [1.33783716891898, 0.00133783761486488, 8.19189412943163e-17], [1.35135067567573, 0.00135135112612614, 8.27464053477943e-17], [1.36486418243249, 0.0013648646373874, 8.35738694012722e-17], [1.37837768918925, 0.00137837814864866, 8.44013334547502e-17], [1.39189119594601, 0.00139189165990992, 8.52287975082281e-17], [1.40540470270276, 0.00140540517117119, 8.60562615617061e-17], [1.41891820945952, 0.00141891868243245, 8.6883725615184e-17], [1.43243171621628, 0.00143243219369371, 8.77111896686619e-17], [1.44594522297304, 0.00144594570495497, 8.85386537221399e-17], [1.45945872972979, 0.00145945921621623, 8.93661177756178e-17], [1.47297223648655, 0.00147297272747749, 9.01935818290958e-17], [1.48648574324331, 0.00148648623873875, 9.10210458825737e-17], [1.49999925000007, 0.00149999975000002, 9.18485099360517e-17], [1.51351275675682, 0.00151351326126128, 9.26759739895296e-17], [1.52702626351358, 0.00152702677252254, 9.35034380430076e-17], [1.54053977027034, 0.0015405402837838, 9.43309020964855e-17], [1.5540532770271, 0.00155405379504506, 9.51583661499635e-17], [1.56756678378385, 0.00156756730630632, 9.59858302034414e-17], [1.58108029054061, 0.00158108081756758, 9.68132942569194e-17], [1.59459379729737, 0.00159459432882885, 9.76407583103973e-17], [1.60810730405412, 0.00160810784009011, 9.84682223638752e-17], [1.62162081081088, 0.00162162135135137, 9.92956864173532e-17], [1.63513431756764, 0.00163513486261263, 1.00123150470831e-16], [1.6486478243244, 0.00164864837387389, 1.00950614524309e-16], [1.66216133108115, 0.00166216188513515, 1.01778078577787e-16], [1.67567483783791, 0.00167567539639641, 1.02605542631265e-16], [1.68918834459467, 0.00168918890765768, 1.03433006684743e-16], [1.70270185135143, 0.00170270241891894, 1.04260470738221e-16], [1.71621535810818, 0.0017162159301802, 1.05087934791699e-16], [1.72972886486494, 0.00172972944144146, 1.05915398845177e-16], [1.7432423716217, 0.00174324295270272, 1.06742862898655e-16], [1.75675587837846, 0.00175675646396398, 1.07570326952133e-16], [1.77026938513521, 0.00177026997522524, 1.08397791005611e-16], [1.78378289189197, 0.00178378348648651, 1.09225255059089e-16], [1.79729639864873, 0.00179729699774777, 1.10052719112566e-16], [1.81080990540549, 0.00181081050900903, 1.10880183166044e-16], [1.82432341216224, 0.00182432402027029, 1.11707647219522e-16], [1.837836918919, 0.00183783753153155, 1.12535111273e-16], [1.85135042567576, 0.00185135104279281, 1.13362575326478e-16], [1.86486393243252, 0.00186486455405407, 1.14190039379956e-16], [1.87837743918927, 0.00187837806531534, 1.15017503433434e-16], [1.89189094594603, 0.0018918915765766, 1.15844967486912e-16], [1.90540445270279, 0.00190540508783786, 1.1667243154039e-16], [1.91891795945955, 0.00191891859909912, 1.17499895593868e-16], [1.9324314662163, 0.00193243211036038, 1.18327359647346e-16], [1.94594497297306, 0.00194594562162164, 1.19154823700824e-16], [1.95945847972982, 0.00195945913288291, 1.19982287754302e-16], [1.97297198648657, 0.00197297264414417, 1.2080975180778e-16], [1.98648549324333, 0.00198648615540543, 1.21637215861258e-16], [1.99999900000009, 0.00199999966666669, 1.22464679914736e-16]], &quot;color&quot;:&quot;blue&quot;, &quot;opacity&quot;:1, &quot;linewidth&quot;:1},{&quot;points&quot;:[[-0.500288647351471, 0.865858689008337, 6.12323399573677e-17], [-0.507049304748113, 0.877559482103044, 6.20598040108456e-17], [-0.513809962144754, 0.889260275197751, 6.28872680643236e-17], [-0.520570619541396, 0.900961068292458, 6.37147321178015e-17], [-0.527331276938037, 0.912661861387166, 6.45421961712794e-17], [-0.534091934334679, 0.924362654481873, 6.53696602247574e-17], [-0.54085259173132, 0.93606344757658, 6.61971242782353e-17], [-0.547613249127962, 0.947764240671288, 6.70245883317133e-17], [-0.554373906524604, 0.959465033765995, 6.78520523851912e-17], [-0.561134563921245, 0.971165826860702, 6.86795164386692e-17], [-0.567895221317887, 0.98286661995541, 6.95069804921471e-17], [-0.574655878714528, 0.994567413050117, 7.03344445456251e-17], [-0.58141653611117, 1.00626820614482, 7.1161908599103e-17], [-0.588177193507811, 1.01796899923953, 7.1989372652581e-17], [-0.594937850904453, 1.02966979233424, 7.28168367060589e-17], [-0.601698508301095, 1.04137058542895, 7.36443007595369e-17], [-0.608459165697736, 1.05307137852365, 7.44717648130148e-17], [-0.615219823094378, 1.06477217161836, 7.52992288664928e-17], [-0.621980480491019, 1.07647296471307, 7.61266929199707e-17], [-0.628741137887661, 1.08817375780778, 7.69541569734486e-17], [-0.635501795284302, 1.09987455090248, 7.77816210269266e-17], [-0.642262452680944, 1.11157534399719, 7.86090850804045e-17], [-0.649023110077585, 1.1232761370919, 7.94365491338825e-17], [-0.655783767474227, 1.1349769301866, 8.02640131873604e-17], [-0.662544424870868, 1.14667772328131, 8.10914772408384e-17], [-0.66930508226751, 1.15837851637602, 8.19189412943163e-17], [-0.676065739664152, 1.17007930947073, 8.27464053477943e-17], [-0.682826397060793, 1.18178010256543, 8.35738694012722e-17], [-0.689587054457435, 1.19348089566014, 8.44013334547502e-17], [-0.696347711854076, 1.20518168875485, 8.52287975082281e-17], [-0.703108369250718, 1.21688248184956, 8.60562615617061e-17], [-0.709869026647359, 1.22858327494426, 8.6883725615184e-17], [-0.716629684044001, 1.24028406803897, 8.77111896686619e-17], [-0.723390341440642, 1.25198486113368, 8.85386537221399e-17], [-0.730150998837284, 1.26368565422839, 8.93661177756178e-17], [-0.736911656233925, 1.27538644732309, 9.01935818290958e-17], [-0.743672313630567, 1.2870872404178, 9.10210458825737e-17], [-0.750432971027209, 1.29878803351251, 9.18485099360517e-17], [-0.75719362842385, 1.31048882660721, 9.26759739895296e-17], [-0.763954285820492, 1.32218961970192, 9.35034380430076e-17], [-0.770714943217133, 1.33389041279663, 9.43309020964855e-17], [-0.777475600613775, 1.34559120589134, 9.51583661499635e-17], [-0.784236258010416, 1.35729199898604, 9.59858302034414e-17], [-0.790996915407058, 1.36899279208075, 9.68132942569194e-17], [-0.797757572803699, 1.38069358517546, 9.76407583103973e-17], [-0.804518230200341, 1.39239437827017, 9.84682223638752e-17], [-0.811278887596982, 1.40409517136487, 9.92956864173532e-17], [-0.818039544993624, 1.41579596445958, 1.00123150470831e-16], [-0.824800202390265, 1.42749675755429, 1.00950614524309e-16], [-0.831560859786907, 1.439197550649, 1.01778078577787e-16], [-0.838321517183549, 1.4508983437437, 1.02605542631265e-16], [-0.84508217458019, 1.46259913683841, 1.03433006684743e-16], [-0.851842831976832, 1.47429992993312, 1.04260470738221e-16], [-0.858603489373473, 1.48600072302782, 1.05087934791699e-16], [-0.865364146770115, 1.49770151612253, 1.05915398845177e-16], [-0.872124804166756, 1.50940230921724, 1.06742862898655e-16], [-0.878885461563398, 1.52110310231195, 1.07570326952133e-16], [-0.885646118960039, 1.53280389540665, 1.08397791005611e-16], [-0.892406776356681, 1.54450468850136, 1.09225255059089e-16], [-0.899167433753322, 1.55620548159607, 1.10052719112566e-16], [-0.905928091149964, 1.56790627469078, 1.10880183166044e-16], [-0.912688748546606, 1.57960706778548, 1.11707647219522e-16], [-0.919449405943247, 1.59130786088019, 1.12535111273e-16], [-0.926210063339889, 1.6030086539749, 1.13362575326478e-16], [-0.93297072073653, 1.61470944706961, 1.14190039379956e-16], [-0.939731378133172, 1.62641024016431, 1.15017503433434e-16], [-0.946492035529813, 1.63811103325902, 1.15844967486912e-16], [-0.953252692926455, 1.64981182635373, 1.1667243154039e-16], [-0.960013350323096, 1.66151261944843, 1.17499895593868e-16], [-0.966774007719738, 1.67321341254314, 1.18327359647346e-16], [-0.973534665116379, 1.68491420563785, 1.19154823700824e-16], [-0.980295322513021, 1.69661499873256, 1.19982287754302e-16], [-0.987055979909663, 1.70831579182726, 1.2080975180778e-16], [-0.993816637306304, 1.72001658492197, 1.21637215861258e-16], [-1.00057729470295, 1.73171737801668, 1.22464679914736e-16]], &quot;color&quot;:&quot;blue&quot;, &quot;opacity&quot;:1, &quot;linewidth&quot;:1},{&quot;points&quot;:[[-0.500288647351471, -0.865858689008336, 6.12323399573677e-17], [-0.507049304748113, -0.877559482103044, 6.20598040108456e-17], [-0.513809962144754, -0.889260275197751, 6.28872680643236e-17], [-0.520570619541396, -0.900961068292458, 6.37147321178015e-17], [-0.527331276938038, -0.912661861387166, 6.45421961712794e-17], [-0.534091934334679, -0.924362654481873, 6.53696602247574e-17], [-0.540852591731321, -0.93606344757658, 6.61971242782353e-17], [-0.547613249127962, -0.947764240671288, 6.70245883317133e-17], [-0.554373906524604, -0.959465033765995, 6.78520523851912e-17], [-0.561134563921245, -0.971165826860702, 6.86795164386692e-17], [-0.567895221317887, -0.98286661995541, 6.95069804921471e-17], [-0.574655878714528, -0.994567413050117, 7.03344445456251e-17], [-0.58141653611117, -1.00626820614482, 7.1161908599103e-17], [-0.588177193507812, -1.01796899923953, 7.1989372652581e-17], [-0.594937850904453, -1.02966979233424, 7.28168367060589e-17], [-0.601698508301095, -1.04137058542895, 7.36443007595369e-17], [-0.608459165697736, -1.05307137852365, 7.44717648130148e-17], [-0.615219823094378, -1.06477217161836, 7.52992288664928e-17], [-0.621980480491019, -1.07647296471307, 7.61266929199707e-17], [-0.628741137887661, -1.08817375780778, 7.69541569734486e-17], [-0.635501795284302, -1.09987455090248, 7.77816210269266e-17], [-0.642262452680944, -1.11157534399719, 7.86090850804045e-17], [-0.649023110077585, -1.1232761370919, 7.94365491338825e-17], [-0.655783767474227, -1.1349769301866, 8.02640131873604e-17], [-0.662544424870869, -1.14667772328131, 8.10914772408384e-17], [-0.66930508226751, -1.15837851637602, 8.19189412943163e-17], [-0.676065739664152, -1.17007930947073, 8.27464053477943e-17], [-0.682826397060793, -1.18178010256543, 8.35738694012722e-17], [-0.689587054457435, -1.19348089566014, 8.44013334547502e-17], [-0.696347711854076, -1.20518168875485, 8.52287975082281e-17], [-0.703108369250718, -1.21688248184956, 8.60562615617061e-17], [-0.709869026647359, -1.22858327494426, 8.6883725615184e-17], [-0.716629684044001, -1.24028406803897, 8.77111896686619e-17], [-0.723390341440642, -1.25198486113368, 8.85386537221399e-17], [-0.730150998837284, -1.26368565422839, 8.93661177756178e-17], [-0.736911656233926, -1.27538644732309, 9.01935818290958e-17], [-0.743672313630567, -1.2870872404178, 9.10210458825737e-17], [-0.750432971027209, -1.29878803351251, 9.18485099360517e-17], [-0.75719362842385, -1.31048882660721, 9.26759739895296e-17], [-0.763954285820492, -1.32218961970192, 9.35034380430076e-17], [-0.770714943217133, -1.33389041279663, 9.43309020964855e-17], [-0.777475600613775, -1.34559120589134, 9.51583661499635e-17], [-0.784236258010416, -1.35729199898604, 9.59858302034414e-17], [-0.790996915407058, -1.36899279208075, 9.68132942569194e-17], [-0.797757572803699, -1.38069358517546, 9.76407583103973e-17], [-0.804518230200341, -1.39239437827017, 9.84682223638752e-17], [-0.811278887596983, -1.40409517136487, 9.92956864173532e-17], [-0.818039544993624, -1.41579596445958, 1.00123150470831e-16], [-0.824800202390266, -1.42749675755429, 1.00950614524309e-16], [-0.831560859786907, -1.439197550649, 1.01778078577787e-16], [-0.838321517183549, -1.4508983437437, 1.02605542631265e-16], [-0.84508217458019, -1.46259913683841, 1.03433006684743e-16], [-0.851842831976832, -1.47429992993312, 1.04260470738221e-16], [-0.858603489373473, -1.48600072302782, 1.05087934791699e-16], [-0.865364146770115, -1.49770151612253, 1.05915398845177e-16], [-0.872124804166757, -1.50940230921724, 1.06742862898655e-16], [-0.878885461563398, -1.52110310231195, 1.07570326952133e-16], [-0.88564611896004, -1.53280389540665, 1.08397791005611e-16], [-0.892406776356681, -1.54450468850136, 1.09225255059089e-16], [-0.899167433753323, -1.55620548159607, 1.10052719112566e-16], [-0.905928091149964, -1.56790627469078, 1.10880183166044e-16], [-0.912688748546606, -1.57960706778548, 1.11707647219522e-16], [-0.919449405943247, -1.59130786088019, 1.12535111273e-16], [-0.926210063339889, -1.6030086539749, 1.13362575326478e-16], [-0.93297072073653, -1.61470944706961, 1.14190039379956e-16], [-0.939731378133172, -1.62641024016431, 1.15017503433434e-16], [-0.946492035529814, -1.63811103325902, 1.15844967486912e-16], [-0.953252692926455, -1.64981182635373, 1.1667243154039e-16], [-0.960013350323097, -1.66151261944843, 1.17499895593868e-16], [-0.966774007719738, -1.67321341254314, 1.18327359647346e-16], [-0.97353466511638, -1.68491420563785, 1.19154823700824e-16], [-0.980295322513021, -1.69661499873256, 1.19982287754302e-16], [-0.987055979909663, -1.70831579182726, 1.2080975180778e-16], [-0.993816637306304, -1.72001658492197, 1.21637215861258e-16], [-1.00057729470295, -1.73171737801668, 1.22464679914736e-16]], &quot;color&quot;:&quot;blue&quot;, &quot;opacity&quot;:1, &quot;linewidth&quot;:1},{&quot;points&quot;:[[0.999999500000042, -0.000999999833333032, 6.12323399573677e-17], [1.0135130067568, -0.00101351334459429, 6.20598040108456e-17], [1.02702651351356, -0.00102702685585555, 6.28872680643236e-17], [1.04054002027031, -0.0010405403671168, 6.37147321178015e-17], [1.05405352702707, -0.00105405387837806, 6.45421961712794e-17], [1.06756703378383, -0.00106756738963932, 6.53696602247574e-17], [1.08108054054059, -0.00108108090090058, 6.61971242782353e-17], [1.09459404729734, -0.00109459441216183, 6.70245883317133e-17], [1.1081075540541, -0.00110810792342309, 6.78520523851912e-17], [1.12162106081086, -0.00112162143468435, 6.86795164386692e-17], [1.13513456756762, -0.00113513494594561, 6.95069804921471e-17], [1.14864807432437, -0.00114864845720686, 7.03344445456251e-17], [1.16216158108113, -0.00116216196846812, 7.1161908599103e-17], [1.17567508783789, -0.00117567547972938, 7.1989372652581e-17], [1.18918859459465, -0.00118918899099063, 7.28168367060589e-17], [1.2027021013514, -0.00120270250225189, 7.36443007595369e-17], [1.21621560810816, -0.00121621601351315, 7.44717648130148e-17], [1.22972911486492, -0.00122972952477441, 7.52992288664928e-17], [1.24324262162167, -0.00124324303603566, 7.61266929199707e-17], [1.25675612837843, -0.00125675654729692, 7.69541569734486e-17], [1.27026963513519, -0.00127027005855818, 7.77816210269266e-17], [1.28378314189195, -0.00128378356981944, 7.86090850804045e-17], [1.2972966486487, -0.00129729708108069, 7.94365491338825e-17], [1.31081015540546, -0.00131081059234195, 8.02640131873604e-17], [1.32432366216222, -0.00132432410360321, 8.10914772408384e-17], [1.33783716891898, -0.00133783761486446, 8.19189412943163e-17], [1.35135067567573, -0.00135135112612572, 8.27464053477943e-17], [1.36486418243249, -0.00136486463738698, 8.35738694012722e-17], [1.37837768918925, -0.00137837814864824, 8.44013334547502e-17], [1.39189119594601, -0.00139189165990949, 8.52287975082281e-17], [1.40540470270276, -0.00140540517117075, 8.60562615617061e-17], [1.41891820945952, -0.00141891868243201, 8.6883725615184e-17], [1.43243171621628, -0.00143243219369327, 8.77111896686619e-17], [1.44594522297304, -0.00144594570495452, 8.85386537221399e-17], [1.45945872972979, -0.00145945921621578, 8.93661177756178e-17], [1.47297223648655, -0.00147297272747704, 9.01935818290958e-17], [1.48648574324331, -0.00148648623873829, 9.10210458825737e-17], [1.49999925000007, -0.00149999974999955, 9.18485099360517e-17], [1.51351275675682, -0.00151351326126081, 9.26759739895296e-17], [1.52702626351358, -0.00152702677252207, 9.35034380430076e-17], [1.54053977027034, -0.00154054028378332, 9.43309020964855e-17], [1.5540532770271, -0.00155405379504458, 9.51583661499635e-17], [1.56756678378385, -0.00156756730630584, 9.59858302034414e-17], [1.58108029054061, -0.0015810808175671, 9.68132942569194e-17], [1.59459379729737, -0.00159459432882835, 9.76407583103973e-17], [1.60810730405412, -0.00160810784008961, 9.84682223638752e-17], [1.62162081081088, -0.00162162135135087, 9.92956864173532e-17], [1.63513431756764, -0.00163513486261212, 1.00123150470831e-16], [1.6486478243244, -0.00164864837387338, 1.00950614524309e-16], [1.66216133108115, -0.00166216188513464, 1.01778078577787e-16], [1.67567483783791, -0.0016756753963959, 1.02605542631265e-16], [1.68918834459467, -0.00168918890765715, 1.03433006684743e-16], [1.70270185135143, -0.00170270241891841, 1.04260470738221e-16], [1.71621535810818, -0.00171621593017967, 1.05087934791699e-16], [1.72972886486494, -0.00172972944144093, 1.05915398845177e-16], [1.7432423716217, -0.00174324295270218, 1.06742862898655e-16], [1.75675587837846, -0.00175675646396344, 1.07570326952133e-16], [1.77026938513521, -0.0017702699752247, 1.08397791005611e-16], [1.78378289189197, -0.00178378348648595, 1.09225255059089e-16], [1.79729639864873, -0.00179729699774721, 1.10052719112566e-16], [1.81080990540549, -0.00181081050900847, 1.10880183166044e-16], [1.82432341216224, -0.00182432402026973, 1.11707647219522e-16], [1.837836918919, -0.00183783753153098, 1.12535111273e-16], [1.85135042567576, -0.00185135104279224, 1.13362575326478e-16], [1.86486393243252, -0.0018648645540535, 1.14190039379956e-16], [1.87837743918927, -0.00187837806531476, 1.15017503433434e-16], [1.89189094594603, -0.00189189157657601, 1.15844967486912e-16], [1.90540445270279, -0.00190540508783727, 1.1667243154039e-16], [1.91891795945955, -0.00191891859909853, 1.17499895593868e-16], [1.9324314662163, -0.00193243211035978, 1.18327359647346e-16], [1.94594497297306, -0.00194594562162104, 1.19154823700824e-16], [1.95945847972982, -0.0019594591328823, 1.19982287754302e-16], [1.97297198648657, -0.00197297264414356, 1.2080975180778e-16], [1.98648549324333, -0.00198648615540481, 1.21637215861258e-16], [1.99999900000009, -0.00199999966666607, 1.22464679914736e-16]], &quot;color&quot;:&quot;blue&quot;, &quot;opacity&quot;:1, &quot;linewidth&quot;:1},{&quot;points&quot;:[[0.0, 0.0, 1.0], [0.0212253727209328, 2.12253797960598e-05, 0.999774716174769], [0.0424411819755485, 4.24411961226148e-05, 0.999098966204681], [0.0636378686065187, 6.363788981915e-05, 0.997973054560813], [0.0848058820725505, 8.48059103411891e-05, 0.996397488542527], [0.105935684751552, 0.000105935720063461, 0.994372978048902], [0.127017756237974, 0.000127017798577243, 0.991900435258877], [0.148042597632402, 0.000148042646979954, 0.988980974220245], [0.169000735821446, 0.000169000792155047, 0.985615910347708], [0.189882727746025, 0.000189882791040293, 0.981806759830189], [0.2106791646561, 0.000210679234882516, 0.977555238947686], [0.231380676349955, 0.000231380753476878, 0.972863263297975], [0.251977935396105, 0.000251978019388784, 0.967732946933499], [0.272461661335935, 0.000272461752156525, 0.962166601408849], [0.292822624865177, 0.000292822722472758, 0.956166734739251], [0.313051651992331, 0.000313051756342923, 0.949736050270532], [0.333139628172174, 0.000333139739218761, 0.942877445461084], [0.353077502412476, 0.000353077620105024, 0.935594010576362], [0.372856291352085, 0.000372856415637565, 0.927889027296509], [0.39246708330854, 0.000392467214130954, 0.919765967237739], [0.411901042293386, 0.000411901179593788, 0.911228490388136], [0.431149411993382, 0.000431149555709911, 0.902280443458585], [0.45020351971582, 0.000450203669783719, 0.892925858149569], [0.469054780296149, 0.000469054936647805, 0.883168949334609], [0.487694699966183, 0.000487694862531148, 0.873014113161188], [0.506114880181111, 0.000506115048886138, 0.862465925069981], [0.524307021403612, 0.000524307196172689, 0.851529137733311], [0.542262926843359, 0.00054226310759774, 0.840208678913754], [0.559974506150226, 0.000559974692808469, 0.828509649243842], [0.577433779059538, 0.000577433971537542, 0.816437319927886], [0.594632878987723, 0.000594633077198762, 0.80399713036694], [0.611564056576736, 0.000611564260431503, 0.791194685707988], [0.62821968318567, 0.000628219892592315, 0.778035754318439], [0.644592254327978, 0.000644592469192149, 0.764526265187092], [0.660674393052748, 0.000660674613277633, 0.750672305252724], [0.67645885326852, 0.000676459078754894, 0.736480116661512], [0.691938523008141, 0.000691938753654407, 0.721956093954524], [0.707106427633187, 0.000707106663335424, 0.707106781186547], [0.721955732976508, 0.000721955973628515, 0.691938868977546], [0.736479748421485, 0.000736479993914833, 0.676459191498086], [0.750671929916603, 0.00075067218014068, 0.660674723390081], [0.764525882923992, 0.000764526137766055, 0.644592576624239], [0.778035365300595, 0.000778035624645821, 0.628219997295642], [0.791194290110679, 0.000791194553842215, 0.611564362358891], [0.803996728368409, 0.000803996996367426, 0.594633176304286], [0.81643691170926, 0.000816437183855006, 0.577434067776547], [0.828509234989052, 0.000828509511158908, 0.559974786137595], [0.84020825880945, 0.000840208538878982, 0.542263197974934], [0.851528711968778, 0.000851528995811796, 0.524307283557231], [0.862465493837054, 0.000862465781325667, 0.506115133238655], [0.873013676654169, 0.000873013967658844, 0.487694943813634], [0.883168507750172, 0.000883168802139792, 0.469055014823636], [0.892925411686677, 0.0008929257093286, 0.450203744817672], [0.902279992318402, 0.000902280293078519, 0.431149627568177], [0.911228034773929, 0.000911228338516729, 0.411901248243992], [0.919765507354794, 0.000919765813943419, 0.392467279542163], [0.927888563352035, 0.000927888872648346, 0.372856477780307], [0.935593542779396, 0.000935593854644035, 0.353077678951299], [0.942876974022401, 0.000942877288314852, 0.333139794742056], [0.949735575402547, 0.000949735891981198, 0.313051808518221], [0.956166256655924, 0.000956166575378137, 0.292822771276549], [0.962166120325589, 0.000962166441047758, 0.272461797566821], [0.967732463067066, 0.000967732785644683, 0.251978061385124], [0.972862776866384, 0.000972863101154106, 0.23138079204034], [0.977554750170108, 0.000977555076021822, 0.210679269995725], [0.981806268926851, 0.000981806596195738, 0.189882822687427], [0.985615417539795, 0.000985615746078399, 0.169000820321847], [0.9889804797298, 0.000988980809390091, 0.14804267165373], [0.991899939308701, 0.000991900269942146, 0.127017819746877], [0.994372480862455, 0.000994372812320081, 0.105935737719414], [0.996396990343824, 0.000996397322476287, 0.0848059244755072], [0.997972555574327, 0.000997972888231979, 0.0636379004254642], [0.99909846665524, 0.000999098799688196, 0.0424412031961462], [0.999774216287453, 0.000999774549545658, 0.0212253833336214], [0.999999500000042, 0.000999999833333342, -2.15921370929295e-15]], &quot;color&quot;:&quot;green&quot;, &quot;opacity&quot;:1, &quot;linewidth&quot;:1},{&quot;points&quot;:[[0.0, 0.0, 1.0], [-0.010618818317495, 0.0183781825869507, 0.999774716174769], [-0.02123285213897, 0.0367480845593534, 0.999098966204681], [-0.0318373191241441, 0.0551014290336373, 0.997973054560813], [-0.0424274412432435, 0.0734299465865044, 0.996397488542527], [-0.0529984469298269, 0.0917253789808645, 0.994372978048902], [-0.063545573230699, 0.10997948288673, 0.991900435258877], [-0.0740640679519433, 0.128184033595391, 0.988980974220245], [-0.0845491918001069, 0.14633082872521, 0.985615910347708], [-0.0949962205175727, 0.164411691917339, 0.981806759830189], [-0.105400447011157, 0.182418476519733, 0.977555238947686], [-0.115757183472974, 0.200343069257761, 0.972863263297975], [-0.12606176349261, 0.218177393889787, 0.967732946933499], [-0.136309544159656, 0.235913414846064, 0.962166601408849], [-0.146495908155655, 0.253543140849302, 0.956166734739251], [-0.156616265834513, 0.271058628515277, 0.949736050270532], [-0.166666057290451, 0.288451985931864, 0.942877445461084], [-0.176640754412543, 0.30571537621488, 0.935594010576362], [-0.186535862924944, 0.322841021039124, 0.927889027296509], [-0.196346924411861, 0.339821204143046, 0.919765967237739], [-0.20606951832637, 0.356648274805441, 0.911228490388136], [-0.215699263982174, 0.373314651292615, 0.902280443458585], [-0.225231822527401, 0.389812824274474, 0.892925858149569], [-0.234662898899542, 0.40613536020798, 0.883168949334609], [-0.243988243760675, 0.422274904686468, 0.873014113161188], [-0.253203655412077, 0.438224185753302, 0.862465925069981], [-0.262304981687372, 0.453976017178387, 0.851529137733311], [-0.271288121823363, 0.469523301696045, 0.840208678913754], [-0.280149028307707, 0.484859034202822, 0.828509649243842], [-0.288883708702587, 0.499976304913753, 0.816437319927886], [-0.297488227443581, 0.514868302475693, 0.80399713036694], [-0.305958707612895, 0.529528317036289, 0.791194685707988], [-0.314291332686182, 0.543949743267226, 0.778035754318439], [-0.32248234825214, 0.55812608334037, 0.764526265187092], [-0.330528063704131, 0.572050949855482, 0.750672305252724], [-0.338424853903048, 0.585718068718173, 0.736480116661512], [-0.346169160810684, 0.59912128196681, 0.721956093954524], [-0.353757495092871, 0.612254550547089, 0.707106781186547], [-0.361186437691661, 0.625111957033044, 0.691938868977546], [-0.368452641365842, 0.637687708293244, 0.676459191498086], [-0.375552832199096, 0.64997613810099, 0.660674723390081], [-0.382483811075123, 0.661971709687336, 0.644592576624239], [-0.389242455119054, 0.673669018235777, 0.628219997295642], [-0.395825719104522, 0.685062793317482, 0.611564362358891], [-0.402230636825741, 0.696147901265984, 0.594633176304286], [-0.408454322433983, 0.706919347490239, 0.577434067776547], [-0.414493971737844, 0.71737227872503, 0.559974786137595], [-0.420346863466729, 0.72750198521769, 0.542263197974934], [-0.426010360496963, 0.737303902850165, 0.524307283557231], [-0.431481911039996, 0.746773615195456, 0.506115133238655], [-0.436759049792155, 0.755906855507522, 0.487694943813634], [-0.441839399045432, 0.764699508643735, 0.469055014823636], [-0.4467206697588, 0.77314761291903, 0.450203744817672], [-0.451400662589582, 0.781247361890911, 0.431149627568177], [-0.455877268884404, 0.788995106074517, 0.411901248243992], [-0.460148471629286, 0.796387354586954, 0.392467279542163], [-0.464212346358443, 0.803420776720177, 0.372856477780307], [-0.468067062021387, 0.810092203441701, 0.353077678951299], [-0.471710881807937, 0.816398628822464, 0.333139794742056], [-0.475142163930774, 0.822337211391199, 0.313051808518221], [-0.478359362365173, 0.82790527541471, 0.292822771276549], [-0.481361027545596, 0.833100312103473, 0.272461797566821], [-0.484145807018813, 0.837919980742014, 0.251978061385124], [-0.486712446053282, 0.842362109743557, 0.23138079204034], [-0.489059788204482, 0.846424697628475, 0.210679269995725], [-0.491186775835976, 0.850105913926091, 0.189882822687427], [-0.493092450595944, 0.853404099999425, 0.169000820321847], [-0.494775953848987, 0.856317769792529, 0.14804267165373], [-0.496236527062999, 0.85884561050005, 0.127017819746877], [-0.49747351215094, 0.860986483158738, 0.105935737719414], [-0.498486351767344, 0.862739423160631, 0.0848059244755072], [-0.499274589559445, 0.86410364068767, 0.0636379004254642], [-0.499837870372793, 0.86507852106757, 0.0424412031961462], [-0.500175940411277, 0.865663625050768, 0.0212253833336214], [-0.500288647351471, 0.865858689008337, -2.15921370929295e-15]], &quot;color&quot;:&quot;green&quot;, &quot;opacity&quot;:1, &quot;linewidth&quot;:1},{&quot;points&quot;:[[0.0, 0.0, 1.0], [-0.010618818317495, -0.0183781825869507, 0.999774716174769], [-0.02123285213897, -0.0367480845593534, 0.999098966204681], [-0.0318373191241441, -0.0551014290336373, 0.997973054560813], [-0.0424274412432435, -0.0734299465865044, 0.996397488542527], [-0.0529984469298269, -0.0917253789808645, 0.994372978048902], [-0.063545573230699, -0.10997948288673, 0.991900435258877], [-0.0740640679519433, -0.128184033595391, 0.988980974220245], [-0.0845491918001069, -0.14633082872521, 0.985615910347708], [-0.0949962205175728, -0.164411691917339, 0.981806759830189], [-0.105400447011157, -0.182418476519733, 0.977555238947686], [-0.115757183472975, -0.200343069257761, 0.972863263297975], [-0.12606176349261, -0.218177393889787, 0.967732946933499], [-0.136309544159656, -0.235913414846064, 0.962166601408849], [-0.146495908155655, -0.253543140849302, 0.956166734739251], [-0.156616265834513, -0.271058628515277, 0.949736050270532], [-0.166666057290451, -0.288451985931864, 0.942877445461084], [-0.176640754412543, -0.30571537621488, 0.935594010576362], [-0.186535862924944, -0.322841021039124, 0.927889027296509], [-0.196346924411861, -0.339821204143046, 0.919765967237739], [-0.20606951832637, -0.356648274805441, 0.911228490388136], [-0.215699263982175, -0.373314651292615, 0.902280443458585], [-0.225231822527401, -0.389812824274474, 0.892925858149569], [-0.234662898899542, -0.40613536020798, 0.883168949334609], [-0.243988243760675, -0.422274904686468, 0.873014113161188], [-0.253203655412077, -0.438224185753302, 0.862465925069981], [-0.262304981687372, -0.453976017178387, 0.851529137733311], [-0.271288121823363, -0.469523301696045, 0.840208678913754], [-0.280149028307707, -0.484859034202822, 0.828509649243842], [-0.288883708702587, -0.499976304913753, 0.816437319927886], [-0.297488227443581, -0.514868302475693, 0.80399713036694], [-0.305958707612895, -0.529528317036289, 0.791194685707988], [-0.314291332686182, -0.543949743267226, 0.778035754318439], [-0.32248234825214, -0.55812608334037, 0.764526265187092], [-0.330528063704132, -0.572050949855481, 0.750672305252724], [-0.338424853903048, -0.585718068718173, 0.736480116661512], [-0.346169160810684, -0.599121281966809, 0.721956093954524], [-0.353757495092871, -0.612254550547089, 0.707106781186547], [-0.361186437691661, -0.625111957033044, 0.691938868977546], [-0.368452641365842, -0.637687708293244, 0.676459191498086], [-0.375552832199097, -0.64997613810099, 0.660674723390081], [-0.382483811075123, -0.661971709687336, 0.644592576624239], [-0.389242455119054, -0.673669018235777, 0.628219997295642], [-0.395825719104522, -0.685062793317482, 0.611564362358891], [-0.402230636825742, -0.696147901265984, 0.594633176304286], [-0.408454322433983, -0.706919347490239, 0.577434067776547], [-0.414493971737844, -0.71737227872503, 0.559974786137595], [-0.420346863466729, -0.72750198521769, 0.542263197974934], [-0.426010360496963, -0.737303902850165, 0.524307283557231], [-0.431481911039996, -0.746773615195456, 0.506115133238655], [-0.436759049792155, -0.755906855507522, 0.487694943813634], [-0.441839399045432, -0.764699508643735, 0.469055014823636], [-0.4467206697588, -0.77314761291903, 0.450203744817672], [-0.451400662589582, -0.781247361890911, 0.431149627568177], [-0.455877268884404, -0.788995106074517, 0.411901248243992], [-0.460148471629286, -0.796387354586953, 0.392467279542163], [-0.464212346358443, -0.803420776720176, 0.372856477780307], [-0.468067062021387, -0.810092203441701, 0.353077678951299], [-0.471710881807937, -0.816398628822464, 0.333139794742056], [-0.475142163930774, -0.822337211391199, 0.313051808518221], [-0.478359362365173, -0.82790527541471, 0.292822771276549], [-0.481361027545596, -0.833100312103473, 0.272461797566821], [-0.484145807018814, -0.837919980742014, 0.251978061385124], [-0.486712446053282, -0.842362109743557, 0.23138079204034], [-0.489059788204483, -0.846424697628475, 0.210679269995725], [-0.491186775835976, -0.85010591392609, 0.189882822687427], [-0.493092450595944, -0.853404099999425, 0.169000820321847], [-0.494775953848987, -0.856317769792529, 0.14804267165373], [-0.496236527062999, -0.85884561050005, 0.127017819746877], [-0.49747351215094, -0.860986483158738, 0.105935737719414], [-0.498486351767344, -0.862739423160631, 0.0848059244755072], [-0.499274589559445, -0.86410364068767, 0.0636379004254642], [-0.499837870372794, -0.86507852106757, 0.0424412031961462], [-0.500175940411277, -0.865663625050767, 0.0212253833336214], [-0.500288647351471, -0.865858689008336, -2.15921370929295e-15]], &quot;color&quot;:&quot;green&quot;, &quot;opacity&quot;:1, &quot;linewidth&quot;:1},{&quot;points&quot;:[[0.0, 0.0, 1.0], [0.0212253727209328, -2.12253797960533e-05, 0.999774716174769], [0.0424411819755485, -4.24411961226017e-05, 0.999098966204681], [0.0636378686065187, -6.36378898191304e-05, 0.997973054560813], [0.0848058820725505, -8.48059103411629e-05, 0.996397488542527], [0.105935684751552, -0.000105935720063428, 0.994372978048902], [0.127017756237974, -0.000127017798577204, 0.991900435258877], [0.148042597632402, -0.000148042646979908, 0.988980974220245], [0.169000735821446, -0.000169000792154995, 0.985615910347708], [0.189882727746025, -0.000189882791040234, 0.981806759830189], [0.2106791646561, -0.000210679234882451, 0.977555238947686], [0.231380676349955, -0.000231380753476806, 0.972863263297975], [0.251977935396105, -0.000251978019388706, 0.967732946933499], [0.272461661335935, -0.000272461752156441, 0.962166601408849], [0.292822624865177, -0.000292822722472667, 0.956166734739251], [0.313051651992331, -0.000313051756342827, 0.949736050270532], [0.333139628172174, -0.000333139739218658, 0.942877445461084], [0.353077502412476, -0.000353077620104915, 0.935594010576362], [0.372856291352085, -0.00037285641563745, 0.927889027296509], [0.39246708330854, -0.000392467214130832, 0.919765967237739], [0.411901042293386, -0.000411901179593661, 0.911228490388136], [0.431149411993382, -0.000431149555709777, 0.902280443458585], [0.45020351971582, -0.00045020366978358, 0.892925858149569], [0.469054780296149, -0.00046905493664766, 0.883168949334609], [0.487694699966183, -0.000487694862530997, 0.873014113161188], [0.506114880181111, -0.000506115048885982, 0.862465925069981], [0.524307021403612, -0.000524307196172527, 0.851529137733311], [0.542262926843359, -0.000542263107597572, 0.840208678913754], [0.559974506150226, -0.000559974692808296, 0.828509649243842], [0.577433779059538, -0.000577433971537363, 0.816437319927886], [0.594632878987723, -0.000594633077198578, 0.80399713036694], [0.611564056576736, -0.000611564260431314, 0.791194685707988], [0.62821968318567, -0.000628219892592121, 0.778035754318439], [0.644592254327978, -0.000644592469191949, 0.764526265187092], [0.660674393052748, -0.000660674613277429, 0.750672305252724], [0.67645885326852, -0.000676459078754685, 0.736480116661512], [0.691938523008141, -0.000691938753654194, 0.721956093954524], [0.707106427633187, -0.000707106663335205, 0.707106781186547], [0.721955732976508, -0.000721955973628292, 0.691938868977546], [0.736479748421485, -0.000736479993914605, 0.676459191498086], [0.750671929916603, -0.000750672180140448, 0.660674723390081], [0.764525882923992, -0.000764526137765819, 0.644592576624239], [0.778035365300595, -0.00077803562464558, 0.628219997295642], [0.791194290110679, -0.00079119455384197, 0.611564362358891], [0.803996728368409, -0.000803996996367177, 0.594633176304286], [0.81643691170926, -0.000816437183854754, 0.577434067776547], [0.828509234989052, -0.000828509511158652, 0.559974786137595], [0.84020825880945, -0.000840208538878722, 0.542263197974934], [0.851528711968778, -0.000851528995811533, 0.524307283557231], [0.862465493837054, -0.000862465781325401, 0.506115133238655], [0.873013676654169, -0.000873013967658574, 0.487694943813634], [0.883168507750172, -0.000883168802139519, 0.469055014823636], [0.892925411686677, -0.000892925709328324, 0.450203744817672], [0.902279992318402, -0.00090228029307824, 0.431149627568177], [0.911228034773929, -0.000911228338516447, 0.411901248243992], [0.919765507354794, -0.000919765813943135, 0.392467279542163], [0.927888563352035, -0.000927888872648059, 0.372856477780307], [0.935593542779396, -0.000935593854643746, 0.353077678951299], [0.942876974022401, -0.00094287728831456, 0.333139794742056], [0.949735575402547, -0.000949735891980905, 0.313051808518221], [0.956166256655924, -0.000956166575377841, 0.292822771276549], [0.962166120325589, -0.00096216644104746, 0.272461797566821], [0.967732463067066, -0.000967732785644384, 0.251978061385124], [0.972862776866384, -0.000972863101153805, 0.23138079204034], [0.977554750170108, -0.000977555076021519, 0.210679269995725], [0.981806268926851, -0.000981806596195434, 0.189882822687427], [0.985615417539795, -0.000985615746078094, 0.169000820321847], [0.9889804797298, -0.000988980809389786, 0.14804267165373], [0.991899939308701, -0.000991900269941839, 0.127017819746877], [0.994372480862455, -0.000994372812319774, 0.105935737719414], [0.996396990343824, -0.000996397322475979, 0.0848059244755072], [0.997972555574327, -0.00099797288823167, 0.0636379004254642], [0.99909846665524, -0.000999098799687887, 0.0424412031961462], [0.999774216287453, -0.000999774549545349, 0.0212253833336214], [0.999999500000042, -0.000999999833333032, -2.15921370929295e-15]], &quot;color&quot;:&quot;green&quot;, &quot;opacity&quot;:1, &quot;linewidth&quot;:1},{&quot;points&quot;:[[0.0, 0.0, 1.33333333333333], [0.0283004969612437, 2.83005063947464e-05, 1.33303295489969], [0.0565882426340646, 5.65882614968197e-05, 1.33213195493958], [0.0848504914753582, 8.48505197588667e-05, 1.33063073941442], [0.113074509430067, 0.000113074547121586, 1.32852998472337], [0.141247579668735, 0.000141247626751281, 1.32583063739854], [0.169357008317299, 0.000169357064769658, 1.3225339136785], [0.197390130176536, 0.000197390195973272, 1.31864129896033], [0.225334314428595, 0.000225334389540063, 1.31415454713028], [0.253176970328033, 0.00025317705472039, 1.30907567977359], [0.2809055528748, 0.000280905646510022, 1.30340698526358], [0.308507568466607, 0.000308507671302504, 1.29715101773063], [0.33597058052814, 0.000335970692518378, 1.29031059591133], [0.363282215114581, 0.000363282336208701, 1.28288880187847], [0.390430166486902, 0.000390430296630343, 1.27488897965233], [0.417402202656441, 0.000417402341790565, 1.26631473369404], [0.444186170896232, 0.000444186318958348, 1.25716992728145], [0.470770003216635, 0.000470770160140032, 1.24745868076848], [0.49714172180278, 0.000497141887516754, 1.23718536972868], [0.523289444411387, 0.000523289618841272, 1.22635462298365], [0.549201389724514, 0.000549201572791717, 1.21497132051751], [0.574865882657843, 0.000574866074279881, 1.20304059127811], [0.600271359621093, 0.000600271559711626, 1.19056781086609], [0.625406373728199, 0.000625406582197073, 1.17755859911281], [0.650259599954911, 0.000650259816708197, 1.16401881754825], [0.674819840241481, 0.000674820065181518, 1.14995456675997], [0.699076028538149, 0.000699076261563585, 1.13537218364442], [0.723017235791145, 0.000723017476796987, 1.12027823855167], [0.746632674866968, 0.000746632923744625, 1.10467953232512], [0.769911705412718, 0.000769911962050056, 1.08858309323718], [0.792843838650298, 0.000792844102931683, 1.07199617382259], [0.815418742102314, 0.000815419013908671, 1.05492624761065], [0.83762624424756, 0.00083762652345642, 1.03738100575792], [0.85945633910397, 0.000859456625589531, 1.01936835358279], [0.880899190736997, 0.000880899484370178, 1.00089640700363], [0.90194513769136, 0.000901945438339859, 0.981973488882016], [0.922584697344188, 0.000922585004872543, 0.962608125272699], [0.942808570177582, 0.000942808884447231, 0.942809041582063], [0.962607643968677, 0.00096260796483802, 0.922585158636728], [0.981972997895313, 0.000981973325219777, 0.901945588664115], [1.00089590655547, 0.00100089624018757, 0.880899631186775], [1.01936784389866, 0.00101936818368807, 0.859456768832318], [1.03738048706746, 0.00103738083286109, 0.837626663060856], [1.05492572014757, 0.00105492607178962, 0.815419149811854], [1.07199563782455, 0.00107199599515657, 0.792844235072381], [1.08858254894568, 0.00108858291180668, 0.76991209036873], [1.1046789799854, 0.00110467934821188, 0.746633048183459], [1.1202776784126, 0.00112027805183864, 0.723017597299912], [1.13537161595837, 0.00113537199441573, 0.699076378076308], [1.14995399178274, 0.00114995437510089, 0.67482017765154], [1.16401823553889, 0.00116401862354512, 0.650259925084845], [1.17755801033356, 0.00117755840285306, 0.625406686431515], [1.19056721558224, 0.00119056761243813, 0.600271659756896], [1.20303998975787, 0.00120304039077136, 0.574866170090903], [1.21497071303191, 0.00121497111802231, 0.549201664325322], [1.22635400980639, 0.00122635441859123, 0.523289706056217], [1.23718475113605, 0.00123718516353113, 0.497141970373743], [1.2474580570392, 0.00124745847285871, 0.470770238601733], [1.25716929869654, 0.00125716971775314, 0.444186392989408], [1.26631410053673, 0.0012663145226416, 0.417402411357628], [1.2748883422079, 0.00127488876717085, 0.390430361702065], [1.28288816043412, 0.00128288858806368, 0.363282396755762], [1.29030995075609, 0.00129031038085958, 0.335970748513498], [1.29715036915518, 0.00129715080153881, 0.308507722720453], [1.30340633356014, 0.0013034067680291, 0.280905693327633], [1.3090750252358, 0.00130907546159432, 0.253177096916569], [1.31415389005306, 0.00131415432810453, 0.225334427095796], [1.31864063963973, 0.00131864107918679, 0.197390228871639], [1.3225332524116, 0.00132253369325619, 0.169357092995836], [1.32582997448327, 0.00132583041642678, 0.141247650292552], [1.32852932045843, 0.00132852976330172, 0.113074565967343], [1.3306300740991, 0.00133063051764264, 0.084850533900619], [1.33213128887365, 0.00133213173291759, 0.056588270928195], [1.33303228838327, 0.00133303273272754, 0.0283005111114952], [1.33333266666672, 0.00133333311111112, -2.87895161239059e-15]], &quot;color&quot;:&quot;green&quot;, &quot;opacity&quot;:1, &quot;linewidth&quot;:1},{&quot;points&quot;:[[0.0, 0.0, 1.33333333333333], [-0.0141584244233266, 0.0245042434492676, 1.33303295489969], [-0.0283104695186266, 0.0489974460791378, 1.33213195493958], [-0.0424497588321922, 0.0734685720448497, 1.33063073941442], [-0.056569921657658, 0.0979065954486725, 1.32852998472337], [-0.0706645959064358, 0.122300505307819, 1.32583063739854], [-0.0847274309742653, 0.146639310515639, 1.3225339136785], [-0.098752090602591, 0.170912044793855, 1.31864129896033], [-0.112732255733476, 0.195107771633613, 1.31415454713028], [-0.126661627356764, 0.219215589223119, 1.30907567977359], [-0.14053392934821, 0.243224635359644, 1.30340698526358], [-0.154342911297299, 0.267124092343681, 1.29715101773063], [-0.16808235132348, 0.290903191853049, 1.29031059591133], [-0.181746058879542, 0.314551219794752, 1.28288880187847], [-0.195327877540873, 0.338057521132402, 1.27488897965233], [-0.208821687779351, 0.361411504687036, 1.26631473369404], [-0.222221409720601, 0.384602647909152, 1.25716992728145], [-0.235521005883391, 0.407620501619839, 1.24745868076848], [-0.248714483899926, 0.430454694718832, 1.23718536972868], [-0.261795899215814, 0.453094938857395, 1.22635462298365], [-0.274759357768493, 0.475531033073921, 1.21497132051751], [-0.287599018642899, 0.497752868390154, 1.20304059127811], [-0.300309096703201, 0.519750432365966, 1.19056781086609], [-0.312883865199389, 0.54151381361064, 1.17755859911281], [-0.325317658347567, 0.563033206248624, 1.16401881754825], [-0.337604873882769, 0.584298914337737, 1.14995456675997], [-0.349739975583162, 0.605301356237849, 1.13537218364442], [-0.361717495764485, 0.62603106892806, 1.12027823855167], [-0.373532037743609, 0.646478712270429, 1.10467953232512], [-0.385178278270116, 0.666635073218337, 1.08858309323718], [-0.396650969924774, 0.68649106996759, 1.07199617382259], [-0.40794494348386, 0.706037756048385, 1.05492624761065], [-0.419055110248243, 0.725266324356301, 1.03738100575792], [-0.429976464336187, 0.744168111120493, 1.01936835358279], [-0.440704084938842, 0.762734599807309, 1.00089640700363], [-0.451233138537397, 0.780957424957564, 0.981973488882016], [-0.461558881080912, 0.798828375955746, 0.962608125272699], [-0.471676660123828, 0.816339400729452, 0.942809041582063], [-0.481581916922215, 0.833482609377392, 0.922585158636728], [-0.491270188487789, 0.850250277724325, 0.901945588664115], [-0.500737109598795, 0.86663485080132, 0.880899631186775], [-0.509978414766831, 0.882628946249781, 0.859456768832318], [-0.518989940158739, 0.898225357647702, 0.837626663060856], [-0.527767625472696, 0.913417057756643, 0.815419149811854], [-0.536307515767655, 0.928197201687979, 0.792844235072381], [-0.54460576324531, 0.942559129986986, 0.76991209036873], [-0.552658628983792, 0.956496371633374, 0.746633048183459], [-0.560462484622305, 0.97000264695692, 0.723017597299912], [-0.568013813995951, 0.983071870466886, 0.699076378076308], [-0.575309214719995, 0.995698153593941, 0.67482017765154], [-0.582345399722874, 1.00787580734336, 0.650259925084845], [-0.589119198727243, 1.01959934485831, 0.625406686431515], [-0.595627559678399, 1.03086348389204, 0.600271659756896], [-0.601867550119442, 1.04166314918788, 0.574866170090903], [-0.607836358512538, 1.05199347476602, 0.549201664325322], [-0.613531295505715, 1.06184980611594, 0.523289706056217], [-0.618949795144591, 1.07122770229357, 0.497141970373743], [-0.624089416028516, 1.08012293792227, 0.470770238601733], [-0.628947842410582, 1.08853150509662, 0.444186392989408], [-0.633522885241031, 1.09644961518826, 0.417402411357628], [-0.637812483153564, 1.10387370055295, 0.390430361702065], [-0.641814703394128, 1.11080041613796, 0.363282396755762], [-0.645527742691751, 1.11722664098935, 0.335970748513498], [-0.648949928071043, 1.12314947965808, 0.308507722720453], [-0.652079717605976, 1.12856626350463, 0.280905693327633], [-0.654915701114635, 1.13347455190145, 0.253177096916569], [-0.657456600794592, 1.13787213333257, 0.225334427095796], [-0.659701271798649, 1.14175702639004, 0.197390228871639], [-0.661648702750666, 1.14512748066673, 0.169357092995836], [-0.663298016201253, 1.14798197754498, 0.141247650292552], [-0.664648469023125, 1.15031923088084, 0.113074565967343], [-0.665699452745927, 1.15213818758356, 0.084850533900619], [-0.666450493830391, 1.15343802809009, 0.056588270928195], [-0.666901253881702, 1.15421816673436, 0.0283005111114952], [-0.667051529801962, 1.15447825201112, -2.87895161239059e-15]], &quot;color&quot;:&quot;green&quot;, &quot;opacity&quot;:1, &quot;linewidth&quot;:1},{&quot;points&quot;:[[0.0, 0.0, 1.33333333333333], [-0.0141584244233266, -0.0245042434492676, 1.33303295489969], [-0.0283104695186266, -0.0489974460791378, 1.33213195493958], [-0.0424497588321922, -0.0734685720448497, 1.33063073941442], [-0.056569921657658, -0.0979065954486725, 1.32852998472337], [-0.0706645959064358, -0.122300505307819, 1.32583063739854], [-0.0847274309742653, -0.146639310515639, 1.3225339136785], [-0.098752090602591, -0.170912044793855, 1.31864129896033], [-0.112732255733476, -0.195107771633613, 1.31415454713028], [-0.126661627356764, -0.219215589223119, 1.30907567977359], [-0.14053392934821, -0.243224635359644, 1.30340698526358], [-0.154342911297299, -0.267124092343681, 1.29715101773063], [-0.16808235132348, -0.290903191853049, 1.29031059591133], [-0.181746058879542, -0.314551219794752, 1.28288880187847], [-0.195327877540873, -0.338057521132402, 1.27488897965233], [-0.208821687779351, -0.361411504687036, 1.26631473369404], [-0.222221409720601, -0.384602647909152, 1.25716992728145], [-0.235521005883391, -0.407620501619839, 1.24745868076848], [-0.248714483899926, -0.430454694718832, 1.23718536972868], [-0.261795899215814, -0.453094938857395, 1.22635462298365], [-0.274759357768493, -0.475531033073921, 1.21497132051751], [-0.287599018642899, -0.497752868390154, 1.20304059127811], [-0.300309096703201, -0.519750432365966, 1.19056781086609], [-0.312883865199389, -0.54151381361064, 1.17755859911281], [-0.325317658347567, -0.563033206248624, 1.16401881754825], [-0.337604873882769, -0.584298914337737, 1.14995456675997], [-0.349739975583162, -0.605301356237849, 1.13537218364442], [-0.361717495764485, -0.62603106892806, 1.12027823855167], [-0.373532037743609, -0.646478712270429, 1.10467953232512], [-0.385178278270116, -0.666635073218337, 1.08858309323718], [-0.396650969924774, -0.68649106996759, 1.07199617382259], [-0.40794494348386, -0.706037756048385, 1.05492624761065], [-0.419055110248243, -0.725266324356301, 1.03738100575792], [-0.429976464336187, -0.744168111120493, 1.01936835358279], [-0.440704084938842, -0.762734599807309, 1.00089640700363], [-0.451233138537397, -0.780957424957564, 0.981973488882016], [-0.461558881080912, -0.798828375955746, 0.962608125272699], [-0.471676660123828, -0.816339400729452, 0.942809041582063], [-0.481581916922215, -0.833482609377392, 0.922585158636728], [-0.491270188487789, -0.850250277724325, 0.901945588664115], [-0.500737109598795, -0.86663485080132, 0.880899631186775], [-0.509978414766831, -0.882628946249781, 0.859456768832318], [-0.518989940158739, -0.898225357647702, 0.837626663060856], [-0.527767625472696, -0.913417057756643, 0.815419149811854], [-0.536307515767655, -0.928197201687979, 0.792844235072381], [-0.54460576324531, -0.942559129986986, 0.76991209036873], [-0.552658628983792, -0.956496371633374, 0.746633048183459], [-0.560462484622306, -0.97000264695692, 0.723017597299912], [-0.568013813995951, -0.983071870466886, 0.699076378076308], [-0.575309214719995, -0.995698153593941, 0.67482017765154], [-0.582345399722874, -1.00787580734336, 0.650259925084845], [-0.589119198727243, -1.01959934485831, 0.625406686431515], [-0.5956275596784, -1.03086348389204, 0.600271659756896], [-0.601867550119442, -1.04166314918788, 0.574866170090903], [-0.607836358512539, -1.05199347476602, 0.549201664325322], [-0.613531295505715, -1.06184980611594, 0.523289706056217], [-0.618949795144591, -1.07122770229357, 0.497141970373743], [-0.624089416028516, -1.08012293792227, 0.470770238601733], [-0.628947842410582, -1.08853150509662, 0.444186392989408], [-0.633522885241032, -1.09644961518826, 0.417402411357628], [-0.637812483153564, -1.10387370055295, 0.390430361702065], [-0.641814703394128, -1.11080041613796, 0.363282396755762], [-0.645527742691751, -1.11722664098935, 0.335970748513498], [-0.648949928071043, -1.12314947965808, 0.308507722720453], [-0.652079717605977, -1.12856626350463, 0.280905693327633], [-0.654915701114635, -1.13347455190145, 0.253177096916569], [-0.657456600794592, -1.13787213333257, 0.225334427095796], [-0.659701271798649, -1.14175702639004, 0.197390228871639], [-0.661648702750666, -1.14512748066673, 0.169357092995836], [-0.663298016201253, -1.14798197754498, 0.141247650292552], [-0.664648469023125, -1.15031923088084, 0.113074565967343], [-0.665699452745927, -1.15213818758356, 0.084850533900619], [-0.666450493830391, -1.15343802809009, 0.056588270928195], [-0.666901253881702, -1.15421816673436, 0.0283005111114952], [-0.667051529801962, -1.15447825201112, -2.87895161239059e-15]], &quot;color&quot;:&quot;green&quot;, &quot;opacity&quot;:1, &quot;linewidth&quot;:1},{&quot;points&quot;:[[0.0, 0.0, 1.33333333333333], [0.0283004969612437, -2.83005063947377e-05, 1.33303295489969], [0.0565882426340646, -5.65882614968022e-05, 1.33213195493958], [0.0848504914753582, -8.48505197588405e-05, 1.33063073941442], [0.113074509430067, -0.000113074547121551, 1.32852998472337], [0.141247579668735, -0.000141247626751237, 1.32583063739854], [0.169357008317299, -0.000169357064769605, 1.3225339136785], [0.197390130176536, -0.000197390195973211, 1.31864129896033], [0.225334314428595, -0.000225334389539993, 1.31415454713028], [0.253176970328033, -0.000253177054720312, 1.30907567977359], [0.2809055528748, -0.000280905646509935, 1.30340698526358], [0.308507568466607, -0.000308507671302409, 1.29715101773063], [0.33597058052814, -0.000335970692518274, 1.29031059591133], [0.363282215114581, -0.000363282336208588, 1.28288880187847], [0.390430166486902, -0.000390430296630223, 1.27488897965233], [0.417402202656441, -0.000417402341790436, 1.26631473369404], [0.444186170896232, -0.000444186318958211, 1.25716992728145], [0.470770003216635, -0.000470770160139886, 1.24745868076848], [0.49714172180278, -0.0004971418875166, 1.23718536972868], [0.523289444411387, -0.00052328961884111, 1.22635462298365], [0.549201389724514, -0.000549201572791547, 1.21497132051751], [0.574865882657843, -0.000574866074279703, 1.20304059127811], [0.600271359621093, -0.00060027155971144, 1.19056781086609], [0.625406373728199, -0.00062540658219688, 1.17755859911281], [0.650259599954911, -0.000650259816707996, 1.16401881754825], [0.674819840241481, -0.000674820065181309, 1.14995456675997], [0.699076028538149, -0.000699076261563369, 1.13537218364442], [0.723017235791145, -0.000723017476796763, 1.12027823855167], [0.746632674866968, -0.000746632923744395, 1.10467953232512], [0.769911705412718, -0.000769911962049818, 1.08858309323718], [0.792843838650298, -0.000792844102931438, 1.07199617382259], [0.815418742102314, -0.000815419013908418, 1.05492624761065], [0.83762624424756, -0.000837626523456161, 1.03738100575792], [0.85945633910397, -0.000859456625589266, 1.01936835358279], [0.880899190736997, -0.000880899484369905, 1.00089640700363], [0.90194513769136, -0.00090194543833958, 0.981973488882016], [0.922584697344188, -0.000922585004872258, 0.962608125272699], [0.942808570177582, -0.00094280888444694, 0.942809041582063], [0.962607643968677, -0.000962607964837723, 0.922585158636728], [0.981972997895313, -0.000981973325219473, 0.901945588664115], [1.00089590655547, -0.00100089624018726, 0.880899631186775], [1.01936784389866, -0.00101936818368776, 0.859456768832318], [1.03738048706746, -0.00103738083286077, 0.837626663060856], [1.05492572014757, -0.00105492607178929, 0.815419149811854], [1.07199563782455, -0.00107199599515624, 0.792844235072381], [1.08858254894568, -0.00108858291180634, 0.76991209036873], [1.1046789799854, -0.00110467934821154, 0.746633048183459], [1.1202776784126, -0.0011202780518383, 0.723017597299912], [1.13537161595837, -0.00113537199441538, 0.699076378076308], [1.14995399178274, -0.00114995437510053, 0.67482017765154], [1.16401823553889, -0.00116401862354477, 0.650259925084845], [1.17755801033356, -0.00117755840285269, 0.625406686431515], [1.19056721558224, -0.00119056761243777, 0.600271659756896], [1.20303998975787, -0.00120304039077099, 0.574866170090903], [1.21497071303191, -0.00121497111802193, 0.549201664325322], [1.22635400980639, -0.00122635441859085, 0.523289706056217], [1.23718475113605, -0.00123718516353075, 0.497141970373743], [1.2474580570392, -0.00124745847285833, 0.470770238601733], [1.25716929869654, -0.00125716971775275, 0.444186392989408], [1.26631410053673, -0.00126631452264121, 0.417402411357628], [1.2748883422079, -0.00127488876717046, 0.390430361702065], [1.28288816043412, -0.00128288858806328, 0.363282396755762], [1.29030995075609, -0.00129031038085918, 0.335970748513498], [1.29715036915518, -0.00129715080153841, 0.308507722720453], [1.30340633356014, -0.00130340676802869, 0.280905693327633], [1.3090750252358, -0.00130907546159391, 0.253177096916569], [1.31415389005306, -0.00131415432810413, 0.225334427095796], [1.31864063963973, -0.00131864107918638, 0.197390228871639], [1.3225332524116, -0.00132253369325579, 0.169357092995836], [1.32582997448327, -0.00132583041642637, 0.141247650292552], [1.32852932045843, -0.0013285297633013, 0.113074565967343], [1.3306300740991, -0.00133063051764223, 0.084850533900619], [1.33213128887365, -0.00133213173291718, 0.056588270928195], [1.33303228838327, -0.00133303273272713, 0.0283005111114952], [1.33333266666672, -0.00133333311111071, -2.87895161239059e-15]], &quot;color&quot;:&quot;green&quot;, &quot;opacity&quot;:1, &quot;linewidth&quot;:1},{&quot;points&quot;:[[0.0, 0.0, 1.66666666666667], [0.0353756212015546, 3.5375632993433e-05, 1.66629119362462], [0.0707353032925808, 7.07353268710247e-05, 1.66516494367447], [0.106063114344198, 0.000106063149698583, 1.66328842426802], [0.141343136787584, 0.000141343183901982, 1.66066248090421], [0.176559474585919, 0.000176559533439101, 1.65728829674817], [0.211696260396624, 0.000211696330962072, 1.65316739209813], [0.24673766272067, 0.00024673774496659, 1.64830162370041], [0.281667893035743, 0.000281667986925078, 1.64269318391285], [0.316471212910041, 0.000316471318400488, 1.63634459971698], [0.3511319410935, 0.000351132058137527, 1.62925873157948], [0.385634460583258, 0.00038563458912813, 1.62143877216329], [0.419963225660175, 0.000419963365647973, 1.61288824488916], [0.454102768893226, 0.000454102920260876, 1.60361100234808], [0.488037708108628, 0.000488037870787929, 1.59361122456542], [0.521752753320552, 0.000521752927238206, 1.58289341711755], [0.55523271362029, 0.000555232898697935, 1.57146240910181], [0.588462504020793, 0.00058846270017504, 1.5593233509606], [0.621427152253475, 0.000621427359395942, 1.54648171216085], [0.654111805514234, 0.000654112023551589, 1.53294327872956], [0.686501737155643, 0.000686501965989647, 1.51871415064689], [0.718582353322304, 0.000718582592849851, 1.50380073909764], [0.750339199526366, 0.000750339449639532, 1.48820976358261], [0.781757967160248, 0.000781758227746342, 1.47194824889102], [0.812824499943638, 0.000812824770885246, 1.45502352193531], [0.843524800301851, 0.000843525081476897, 1.43744320844997], [0.873845035672686, 0.000873845326954481, 1.41921522955552], [0.903771544738931, 0.000903771845996233, 1.40034779818959], [0.933290843583709, 0.000933291154680782, 1.3808494154064], [0.962389631765897, 0.00096238995256257, 1.36072886654648], [0.991054798312872, 0.000991055128664604, 1.33999521727823], [1.01927342762789, 0.00101927376738584, 1.31865780951331], [1.04703280530945, 0.00104703315432052, 1.2967262571974], [1.07432042387996, 0.00107432078198691, 1.27421044197849], [1.10112398842125, 0.00110112435546272, 1.25112050875454], [1.1274314221142, 0.00112743179792482, 1.22746686110252], [1.15323087168023, 0.00115323125609068, 1.20326015659087], [1.17851071272198, 0.00117851110555904, 1.17851130197758], [1.20325955496085, 0.00120325995604753, 1.15323144829591], [1.22746624736914, 0.00122746665652472, 1.12743198583014], [1.25111988319434, 0.00125112030023447, 1.10112453898347], [1.27420980487332, 0.00127421022961009, 1.0743209610404], [1.29672560883433, 0.00129672604107637, 1.04703332882607], [1.31865715018446, 0.00131865758973702, 1.01927393726482], [1.33999454728068, 0.00133999499394571, 0.991055293840476], [1.3607281861821, 0.00136072863975834, 0.962390112960912], [1.38084872498175, 0.00138084918526485, 0.933291310229324], [1.40034709801575, 0.0014003475647983, 0.90377199662489], [1.41921451994796, 0.00141921499301966, 0.873845472595385], [1.43744248972842, 0.00143744296887611, 0.843525222064425], [1.45502279442361, 0.00145502327943141, 0.812824906356056], [1.47194751291695, 0.00147194800356632, 0.781758358039393], [1.4882090194778, 0.00148820951554767, 0.75033957469612], [1.50379998719734, 0.0015038004884642, 0.718582712613629], [1.51871339128988, 0.00151871389752788, 0.686502080406653], [1.53294251225799, 0.00153294302323903, 0.654112132570271], [1.54648093892006, 0.00154648145441391, 0.621427462967179], [1.55932257129899, 0.00155932309107339, 0.588462798252166], [1.57146162337067, 0.00157146214719142, 0.55523299123676], [1.58289262567091, 0.001582893153302, 0.521753014197035], [1.59361042775987, 0.00159361095896356, 0.488037952127581], [1.60361020054265, 0.0016036107350796, 0.454102995944702], [1.61288743844511, 0.00161288797607447, 0.419963435641873], [1.62143796144397, 0.00162143850192351, 0.385634653400566], [1.62925791695018, 0.00162925846003637, 0.351132116659541], [1.63634378154475, 0.0016363443269929, 0.316471371145711], [1.64269236256632, 0.00164269291013066, 0.281668033869746], [1.64830079954967, 0.00164830134898349, 0.246737786089549], [1.6531665655145, 0.00165316711657024, 0.211696366244795], [1.65728746810409, 0.00165728802053347, 0.17655956286569], [1.66066165057304, 0.00166066220412714, 0.141343207459179], [1.66328759262388, 0.0016632881470533, 0.106063167375774], [1.66516411109207, 0.00166516466614699, 0.0707353386602437], [1.66629036047909, 0.00166629091590943, 0.035375638889369], [1.6666658333334, 0.0016666663888889, -3.59868951548824e-15]], &quot;color&quot;:&quot;green&quot;, &quot;opacity&quot;:1, &quot;linewidth&quot;:1},{&quot;points&quot;:[[0.0, 0.0, 1.66666666666667], [-0.0176980305291583, 0.0306303043115844, 1.66629119362462], [-0.0353880868982833, 0.0612468075989223, 1.66516494367447], [-0.0530621985402402, 0.0918357150560621, 1.66328842426802], [-0.0707124020720725, 0.122383244310841, 1.66066248090421], [-0.0883307448830448, 0.152875631634774, 1.65728829674817], [-0.105909288717832, 0.183299138144549, 1.65316739209813], [-0.123440113253239, 0.213640055992319, 1.64830162370041], [-0.140915319666845, 0.243884714542016, 1.64269318391285], [-0.158327034195955, 0.274019486528898, 1.63634459971698], [-0.175667411685262, 0.304030794199555, 1.62925873157948], [-0.192928639121624, 0.333905115429601, 1.62143877216329], [-0.21010293915435, 0.363628989816311, 1.61288824488916], [-0.227182573599427, 0.39318902474344, 1.60361100234808], [-0.244159846926091, 0.422571901415503, 1.59361122456542], [-0.261027109724189, 0.451764380858794, 1.58289341711755], [-0.277776762150751, 0.48075330988644, 1.57146240910181], [-0.294401257354239, 0.509525627024799, 1.5593233509606], [-0.310893104874907, 0.53806836839854, 1.54648171216085], [-0.327244874019768, 0.566368673571743, 1.53294327872956], [-0.343449197210616, 0.594413791342401, 1.51871415064689], [-0.359498773303624, 0.622191085487692, 1.50380073909764], [-0.375386370879001, 0.649688040457457, 1.48820976358261], [-0.391104831499236, 0.6768922670133, 1.47194824889102], [-0.406647072934458, 0.70379150781078, 1.45502352193531], [-0.422006092353462, 0.730373642922171, 1.43744320844997], [-0.437174969478953, 0.756626695297311, 1.41921522955552], [-0.452146869705606, 0.782538836160076, 1.40034779818959], [-0.466915047179512, 0.808098390338037, 1.3808494154064], [-0.481472847837645, 0.833293841522922, 1.36072886654648], [-0.495813712405968, 0.858113837459488, 1.33999521727823], [-0.509931179354825, 0.882547195060482, 1.31865780951331], [-0.523818887810303, 0.906582905445376, 1.2967262571974], [-0.537470580420234, 0.930210138900616, 1.27421044197849], [-0.550880106173552, 0.953418249759136, 1.25112050875454], [-0.564041423171746, 0.976196781196955, 1.22746686110252], [-0.576948601351139, 0.998535469944682, 1.20326015659087], [-0.589595825154785, 1.02042425091181, 1.17851130197758], [-0.601977396152768, 1.04185326172174, 1.15323144829591], [-0.614087735609736, 1.06281284715541, 1.12743198583014], [-0.625921386998494, 1.08329356350165, 1.10112453898347], [-0.637473018458538, 1.10328618281223, 1.0743209610404], [-0.648737425198423, 1.12278169705963, 1.04703332882607], [-0.65970953184087, 1.1417713221958, 1.01927393726482], [-0.670384394709569, 1.16024650210997, 0.991055293840476], [-0.680757204056638, 1.17819891248373, 0.962390112960912], [-0.69082328622974, 1.19562046454172, 0.933291310229324], [-0.700578105777882, 1.21250330869615, 0.90377199662489], [-0.710017267494939, 1.22883983808361, 0.873845472595385], [-0.719136518399993, 1.24462269199243, 0.843525222064425], [-0.727931749653592, 1.2598447591792, 0.812824906356056], [-0.736398998409053, 1.27449918107289, 0.781758358039393], [-0.744534449597999, 1.28857935486505, 0.75033957469612], [-0.752334437649302, 1.30207893648485, 0.718582712613629], [-0.759795448140673, 1.31499184345753, 0.686502080406653], [-0.766914119382144, 1.32731225764492, 0.654112132570271], [-0.773687243930739, 1.33903462786696, 0.621427462967179], [-0.780111770035644, 1.35015367240284, 0.588462798252166], [-0.786184803013228, 1.36066438137077, 0.55523299123676], [-0.791903606551289, 1.37056201898533, 0.521753014197035], [-0.797265603941955, 1.37984212569118, 0.488037952127581], [-0.802268379242659, 1.38850052017246, 0.454102995944702], [-0.806909678364689, 1.39653330123669, 0.419963435641873], [-0.811187410088803, 1.40393684957259, 0.385634653400566], [-0.815099647007471, 1.41070782938079, 0.351132116659541], [-0.818644626393294, 1.41684318987682, 0.316471371145711], [-0.82182075099324, 1.42234016666571, 0.281668033869746], [-0.824626589748311, 1.42719628298755, 0.246737786089549], [-0.827060878438332, 1.43140935083342, 0.211696366244795], [-0.829122520251566, 1.43497747193123, 0.17655956286569], [-0.830810586278906, 1.43789903860105, 0.141343207459179], [-0.832124315932408, 1.44017273447945, 0.106063167375774], [-0.833063117287989, 1.44179753511262, 0.0707353386602437], [-0.833626567352127, 1.44277270841795, 0.035375638889369], [-0.833814412252452, 1.44309781501389, -3.59868951548824e-15]], &quot;color&quot;:&quot;green&quot;, &quot;opacity&quot;:1, &quot;linewidth&quot;:1},{&quot;points&quot;:[[0.0, 0.0, 1.66666666666667], [-0.0176980305291583, -0.0306303043115844, 1.66629119362462], [-0.0353880868982833, -0.0612468075989223, 1.66516494367447], [-0.0530621985402402, -0.0918357150560621, 1.66328842426802], [-0.0707124020720725, -0.122383244310841, 1.66066248090421], [-0.0883307448830448, -0.152875631634774, 1.65728829674817], [-0.105909288717832, -0.183299138144549, 1.65316739209813], [-0.123440113253239, -0.213640055992319, 1.64830162370041], [-0.140915319666845, -0.243884714542016, 1.64269318391285], [-0.158327034195955, -0.274019486528898, 1.63634459971698], [-0.175667411685262, -0.304030794199555, 1.62925873157948], [-0.192928639121624, -0.333905115429601, 1.62143877216329], [-0.21010293915435, -0.363628989816311, 1.61288824488916], [-0.227182573599427, -0.39318902474344, 1.60361100234808], [-0.244159846926091, -0.422571901415503, 1.59361122456542], [-0.261027109724189, -0.451764380858794, 1.58289341711755], [-0.277776762150751, -0.48075330988644, 1.57146240910181], [-0.294401257354239, -0.509525627024799, 1.5593233509606], [-0.310893104874907, -0.53806836839854, 1.54648171216085], [-0.327244874019768, -0.566368673571743, 1.53294327872956], [-0.343449197210616, -0.594413791342401, 1.51871415064689], [-0.359498773303624, -0.622191085487692, 1.50380073909764], [-0.375386370879001, -0.649688040457457, 1.48820976358261], [-0.391104831499236, -0.6768922670133, 1.47194824889102], [-0.406647072934458, -0.70379150781078, 1.45502352193531], [-0.422006092353462, -0.73037364292217, 1.43744320844997], [-0.437174969478953, -0.756626695297311, 1.41921522955552], [-0.452146869705606, -0.782538836160075, 1.40034779818959], [-0.466915047179512, -0.808098390338036, 1.3808494154064], [-0.481472847837645, -0.833293841522921, 1.36072886654648], [-0.495813712405968, -0.858113837459488, 1.33999521727823], [-0.509931179354825, -0.882547195060482, 1.31865780951331], [-0.523818887810303, -0.906582905445376, 1.2967262571974], [-0.537470580420234, -0.930210138900616, 1.27421044197849], [-0.550880106173552, -0.953418249759136, 1.25112050875454], [-0.564041423171747, -0.976196781196955, 1.22746686110252], [-0.576948601351139, -0.998535469944682, 1.20326015659087], [-0.589595825154785, -1.02042425091181, 1.17851130197758], [-0.601977396152768, -1.04185326172174, 1.15323144829591], [-0.614087735609737, -1.06281284715541, 1.12743198583014], [-0.625921386998494, -1.08329356350165, 1.10112453898347], [-0.637473018458538, -1.10328618281223, 1.0743209610404], [-0.648737425198423, -1.12278169705963, 1.04703332882607], [-0.65970953184087, -1.1417713221958, 1.01927393726482], [-0.670384394709569, -1.16024650210997, 0.991055293840476], [-0.680757204056638, -1.17819891248373, 0.962390112960912], [-0.69082328622974, -1.19562046454172, 0.933291310229324], [-0.700578105777882, -1.21250330869615, 0.90377199662489], [-0.710017267494939, -1.22883983808361, 0.873845472595385], [-0.719136518399994, -1.24462269199243, 0.843525222064425], [-0.727931749653592, -1.2598447591792, 0.812824906356056], [-0.736398998409053, -1.27449918107289, 0.781758358039393], [-0.744534449597999, -1.28857935486505, 0.75033957469612], [-0.752334437649303, -1.30207893648485, 0.718582712613629], [-0.759795448140673, -1.31499184345753, 0.686502080406653], [-0.766914119382144, -1.32731225764492, 0.654112132570271], [-0.773687243930739, -1.33903462786696, 0.621427462967179], [-0.780111770035644, -1.35015367240283, 0.588462798252166], [-0.786184803013228, -1.36066438137077, 0.55523299123676], [-0.791903606551289, -1.37056201898533, 0.521753014197035], [-0.797265603941955, -1.37984212569118, 0.488037952127581], [-0.80226837924266, -1.38850052017246, 0.454102995944702], [-0.806909678364689, -1.39653330123669, 0.419963435641873], [-0.811187410088804, -1.40393684957259, 0.385634653400566], [-0.815099647007471, -1.41070782938079, 0.351132116659541], [-0.818644626393294, -1.41684318987682, 0.316471371145711], [-0.82182075099324, -1.42234016666571, 0.281668033869746], [-0.824626589748312, -1.42719628298755, 0.246737786089549], [-0.827060878438332, -1.43140935083342, 0.211696366244795], [-0.829122520251566, -1.43497747193123, 0.17655956286569], [-0.830810586278906, -1.43789903860105, 0.141343207459179], [-0.832124315932408, -1.44017273447945, 0.106063167375774], [-0.833063117287989, -1.44179753511262, 0.0707353386602437], [-0.833626567352128, -1.44277270841795, 0.035375638889369], [-0.833814412252452, -1.44309781501389, -3.59868951548824e-15]], &quot;color&quot;:&quot;green&quot;, &quot;opacity&quot;:1, &quot;linewidth&quot;:1},{&quot;points&quot;:[[0.0, 0.0, 1.66666666666667], [0.0353756212015546, -3.53756329934221e-05, 1.66629119362462], [0.0707353032925808, -7.07353268710028e-05, 1.66516494367447], [0.106063114344198, -0.000106063149698551, 1.66328842426802], [0.141343136787584, -0.000141343183901938, 1.66066248090421], [0.176559474585919, -0.000176559533439046, 1.65728829674817], [0.211696260396624, -0.000211696330962006, 1.65316739209813], [0.24673766272067, -0.000246737744966514, 1.64830162370041], [0.281667893035743, -0.000281667986924991, 1.64269318391285], [0.316471212910041, -0.00031647131840039, 1.63634459971698], [0.3511319410935, -0.000351132058137419, 1.62925873157948], [0.385634460583258, -0.000385634589128011, 1.62143877216329], [0.419963225660175, -0.000419963365647843, 1.61288824488916], [0.454102768893226, -0.000454102920260735, 1.60361100234808], [0.488037708108628, -0.000488037870787778, 1.59361122456542], [0.521752753320552, -0.000521752927238044, 1.58289341711755], [0.55523271362029, -0.000555232898697764, 1.57146240910181], [0.588462504020793, -0.000588462700174858, 1.5593233509606], [0.621427152253475, -0.00062142735939575, 1.54648171216085], [0.654111805514234, -0.000654112023551387, 1.53294327872956], [0.686501737155643, -0.000686501965989434, 1.51871415064689], [0.718582353322304, -0.000718582592849629, 1.50380073909764], [0.750339199526366, -0.0007503394496393, 1.48820976358261], [0.781757967160248, -0.0007817582277461, 1.47194824889102], [0.812824499943638, -0.000812824770884995, 1.45502352193531], [0.843524800301851, -0.000843525081476636, 1.43744320844997], [0.873845035672686, -0.000873845326954211, 1.41921522955552], [0.903771544738931, -0.000903771845995954, 1.40034779818959], [0.933290843583709, -0.000933291154680493, 1.3808494154064], [0.962389631765897, -0.000962389952562272, 1.36072886654648], [0.991054798312872, -0.000991055128664297, 1.33999521727823], [1.01927342762789, -0.00101927376738552, 1.31865780951331], [1.04703280530945, -0.0010470331543202, 1.2967262571974], [1.07432042387996, -0.00107432078198658, 1.27421044197849], [1.10112398842125, -0.00110112435546238, 1.25112050875454], [1.1274314221142, -0.00112743179792448, 1.22746686110252], [1.15323087168023, -0.00115323125609032, 1.20326015659087], [1.17851071272198, -0.00117851110555867, 1.17851130197758], [1.20325955496085, -0.00120325995604715, 1.15323144829591], [1.22746624736914, -0.00122746665652434, 1.12743198583014], [1.25111988319434, -0.00125112030023408, 1.10112453898347], [1.27420980487332, -0.0012742102296097, 1.0743209610404], [1.29672560883433, -0.00129672604107597, 1.04703332882607], [1.31865715018446, -0.00131865758973662, 1.01927393726482], [1.33999454728068, -0.0013399949939453, 0.991055293840476], [1.3607281861821, -0.00136072863975792, 0.962390112960912], [1.38084872498175, -0.00138084918526442, 0.933291310229324], [1.40034709801575, -0.00140034756479787, 0.90377199662489], [1.41921451994796, -0.00141921499301922, 0.873845472595385], [1.43744248972842, -0.00143744296887567, 0.843525222064425], [1.45502279442361, -0.00145502327943096, 0.812824906356056], [1.47194751291695, -0.00147194800356587, 0.781758358039393], [1.4882090194778, -0.00148820951554721, 0.75033957469612], [1.50379998719734, -0.00150380048846373, 0.718582712613629], [1.51871339128988, -0.00151871389752741, 0.686502080406653], [1.53294251225799, -0.00153294302323856, 0.654112132570271], [1.54648093892006, -0.00154648145441343, 0.621427462967179], [1.55932257129899, -0.00155932309107291, 0.588462798252166], [1.57146162337067, -0.00157146214719093, 0.55523299123676], [1.58289262567091, -0.00158289315330151, 0.521753014197035], [1.59361042775987, -0.00159361095896307, 0.488037952127581], [1.60361020054265, -0.0016036107350791, 0.454102995944702], [1.61288743844511, -0.00161288797607397, 0.419963435641873], [1.62143796144397, -0.00162143850192301, 0.385634653400566], [1.62925791695018, -0.00162925846003587, 0.351132116659541], [1.63634378154475, -0.00163634432699239, 0.316471371145711], [1.64269236256632, -0.00164269291013016, 0.281668033869746], [1.64830079954967, -0.00164830134898298, 0.246737786089549], [1.6531665655145, -0.00165316711656973, 0.211696366244795], [1.65728746810409, -0.00165728802053296, 0.17655956286569], [1.66066165057304, -0.00166066220412663, 0.141343207459179], [1.66328759262388, -0.00166328814705278, 0.106063167375774], [1.66516411109207, -0.00166516466614648, 0.0707353386602437], [1.66629036047909, -0.00166629091590892, 0.035375638889369], [1.6666658333334, -0.00166666638888839, -3.59868951548824e-15]], &quot;color&quot;:&quot;green&quot;, &quot;opacity&quot;:1, &quot;linewidth&quot;:1},{&quot;points&quot;:[[0.0, 0.0, 2.0], [0.0424507454418655, 4.24507595921196e-05, 1.99954943234954], [0.0848823639510969, 8.48823922452296e-05, 1.99819793240936], [0.127275737213037, 0.0001272757796383, 1.99594610912162], [0.169611764145101, 0.000169611820682378, 1.99279497708505], [0.211871369503103, 0.000211871440126921, 1.9887459560978], [0.254035512475948, 0.000254035597154486, 1.98380087051775], [0.296085195264803, 0.000296085293959908, 1.97796194844049], [0.338001471642892, 0.000338001584310094, 1.97123182069542], [0.37976545549205, 0.000379765582080585, 1.96361351966038], [0.4213583293122, 0.000421358469765033, 1.95511047789537], [0.46276135269991, 0.000462761506953756, 1.94572652659595], [0.50395587079221, 0.000503956038777567, 1.935465893867], [0.544923322671871, 0.000544923504313051, 1.9243332028177], [0.585645249730354, 0.000585645444945515, 1.9123334694785], [0.626103303984662, 0.000626103512685847, 1.89947210054106], [0.666279256344348, 0.000666279478437522, 1.88575489092217], [0.706155004824952, 0.000706155240210047, 1.87118802115272], [0.74571258270417, 0.00074571283127513, 1.85577805459302], [0.78493416661708, 0.000784934428261907, 1.83953193447548], [0.823802084586771, 0.000823802359187576, 1.82245698077627], [0.862298823986765, 0.000862299111419821, 1.80456088691717], [0.900407039431639, 0.000900407339567439, 1.78585171629914], [0.938109560592298, 0.00093810987329561, 1.76633789866922], [0.975389399932366, 0.000975389725062296, 1.74602822632238], [1.01222976036222, 0.00101223009777228, 1.72493185013996], [1.04861404280722, 0.00104861439234538, 1.70305827546662], [1.08452585368672, 0.00108452621519548, 1.68041735782751], [1.11994901230045, 0.00111994938561694, 1.65701929848768], [1.15486755811908, 0.00115486794307508, 1.63287463985577], [1.18926575797545, 0.00118926615439752, 1.60799426073388], [1.22312811315347, 0.00122312852086301, 1.58238937141598], [1.25643936637134, 0.00125643978518463, 1.55607150863688], [1.28918450865596, 0.0012891849383843, 1.52905253037418], [1.32134878610549, 0.00132134922655527, 1.50134461050545], [1.35291770653704, 0.00135291815750979, 1.47296023332302], [1.38387704601628, 0.00138387750730881, 1.44391218790905], [1.41421285526637, 0.00141421332667085, 1.41421356237309], [1.44391146595302, 0.00144391194725703, 1.38387773795509], [1.47295949684297, 0.00147295998782966, 1.35291838299617], [1.50134385983321, 0.00150134436028136, 1.32134944678016], [1.52905176584798, 0.00152905227553211, 1.28918515324848], [1.55607073060119, 0.00155607124929164, 1.25643999459128], [1.58238858022136, 0.00158238910768443, 1.22312872471778], [1.60799345673682, 0.00160799399273485, 1.18926635260857], [1.63287382341852, 0.00163287436771001, 1.15486813555309], [1.6570184699781, 0.00165701902231782, 1.11994957227519], [1.6804165176189, 0.00168041707775796, 1.08452639594987], [1.70305742393756, 0.00170305799162359, 1.04861456711446], [1.72493098767411, 0.00172493156265133, 1.01223026647731], [1.74602735330834, 0.00174602793531769, 0.975389887627267], [1.76633701550034, 0.00176633760427958, 0.938110029647272], [1.78585082337335, 0.0017858514186572, 0.900407489635344], [1.8045599846368, 0.00180456058615704, 0.862299255136354], [1.82245606954786, 0.00182245667703346, 0.823802496487983], [1.83953101470959, 0.00183953162788684, 0.784934559084325], [1.85577712670407, 0.00185577774529669, 0.745712955560615], [1.87118708555879, 0.00187118770928807, 0.706155357902599], [1.8857539480448, 0.0018857545766297, 0.666279589484112], [1.89947115080509, 0.0018994717839624, 0.626103617036442], [1.91233251331185, 0.00191233315075627, 0.585645542553098], [1.92433224065118, 0.00192433288209551, 0.544923595133643], [1.93546492613413, 0.00193546557128937, 0.503956122770247], [1.94572555373277, 0.00194572620230821, 0.46276158408068], [1.95510950034022, 0.00195511015204364, 0.421358539991449], [1.9636125378537, 0.00196361319239148, 0.379765645374853], [1.97123083507959, 0.0019712314921568, 0.338001640643695], [1.9779609594596, 0.00197796161878018, 0.296085343307459], [1.9837998786174, 0.00198380053988429, 0.254035639493754], [1.98874496172491, 0.00198874562464016, 0.211871475438828], [1.99279398068765, 0.00199279464495257, 0.169611848951014], [1.99594511114865, 0.00199594577646396, 0.127275800850928], [1.99819693331048, 0.00199819759937639, 0.0848824063922925], [1.99954843257491, 0.00199954909909132, 0.0424507666672428], [1.99999900000008, 0.00199999966666668, -4.31842741858589e-15]], &quot;color&quot;:&quot;green&quot;, &quot;opacity&quot;:1, &quot;linewidth&quot;:1},{&quot;points&quot;:[[0.0, 0.0, 2.0], [-0.02123763663499, 0.0367563651739013, 1.99954943234954], [-0.0424657042779399, 0.0734961691187068, 1.99819793240936], [-0.0636746382482882, 0.110202858067275, 1.99594610912162], [-0.084854882486487, 0.146859893173009, 1.99279497708505], [-0.105996893859654, 0.183450757961729, 1.9887459560978], [-0.127091146461398, 0.219958965773459, 1.98380087051775], [-0.148128135903887, 0.256368067190783, 1.97796194844049], [-0.169098383600214, 0.292661657450419, 1.97123182069542], [-0.189992441035145, 0.328823383834678, 1.96361351966038], [-0.210800894022315, 0.364836953039466, 1.95511047789537], [-0.231514366945949, 0.400686138515521, 1.94572652659595], [-0.25212352698522, 0.436354787779573, 1.935465893867], [-0.272619088319312, 0.471826829692128, 1.9243332028177], [-0.292991816311309, 0.507086281698604, 1.9123334694785], [-0.313232531669026, 0.542117257030553, 1.89947210054106], [-0.333332114580901, 0.576903971863728, 1.88575489092217], [-0.353281508825086, 0.611430752429759, 1.87118802115272], [-0.373071725849889, 0.645682042078248, 1.85577805459302], [-0.392693848823722, 0.679642408286092, 1.83953193447548], [-0.412139036652739, 0.713296549610881, 1.82245698077627], [-0.431398527964349, 0.746629302585231, 1.80456088691717], [-0.450463645054801, 0.779625648548948, 1.78585171629914], [-0.469325797799083, 0.81227072041596, 1.76633789866922], [-0.48797648752135, 0.844549809372936, 1.74602822632238], [-0.506407310824154, 0.876448371506605, 1.72493185013996], [-0.524609963374743, 0.907952034356773, 1.70305827546662], [-0.542576243646727, 0.939046603392091, 1.68041735782751], [-0.560298056615414, 0.969718068405644, 1.65701929848768], [-0.577767417405174, 0.999952609827506, 1.63287463985577], [-0.594976454887161, 1.02973660495139, 1.60799426073388], [-0.61191741522579, 1.05905663407258, 1.58238937141598], [-0.628582665372364, 1.08789948653445, 1.55607150863688], [-0.64496469650428, 1.11625216668074, 1.52905253037418], [-0.661056127408263, 1.14410189971096, 1.50134461050545], [-0.676849707806096, 1.17143613743635, 1.47296023332302], [-0.692338321621367, 1.19824256393362, 1.44391218790905], [-0.707514990185741, 1.22450910109418, 1.41421356237309], [-0.722372875383322, 1.25022391406609, 1.38387773795509], [-0.736905282731684, 1.27537541658649, 1.35291838299617], [-0.751105664398193, 1.29995227620198, 1.32134944678016], [-0.764967622150246, 1.32394341937467, 1.28918515324848], [-0.778484910238108, 1.34733803647155, 1.25643999459128], [-0.791651438209044, 1.37012558663496, 1.22312872471778], [-0.804461273651483, 1.39229580253197, 1.18926635260857], [-0.816908644867965, 1.41383869498048, 1.15486813555309], [-0.828987943475688, 1.43474455745006, 1.11994957227519], [-0.840693726933458, 1.45500397043538, 1.08452639594987], [-0.852020720993926, 1.47460780570033, 1.04861456711446], [-0.862963822079992, 1.49354723039091, 1.01223026647731], [-0.873518099584311, 1.51181371101504, 0.975389887627267], [-0.883678798090864, 1.52939901728747, 0.938110029647272], [-0.893441339517599, 1.54629522583806, 0.900407489635344], [-0.902801325179163, 1.56249472378182, 0.862299255136354], [-0.911754537768807, 1.57799021214903, 0.823802496487983], [-0.920296943258572, 1.59277470917391, 0.784934559084325], [-0.928424692716886, 1.60684155344035, 0.745712955560615], [-0.936134124042773, 1.6201844068834, 0.706155357902599], [-0.943421763615873, 1.63279725764493, 0.666279589484112], [-0.950284327861547, 1.6446744227824, 0.626103617036442], [-0.956718724730346, 1.65581055082942, 0.585645542553098], [-0.962722055091191, 1.66620062420695, 0.544923595133643], [-0.968291614037627, 1.67583996148403, 0.503956122770247], [-0.973424892106564, 1.68472421948711, 0.46276158408068], [-0.978119576408965, 1.69284939525695, 0.421358539991449], [-0.982373551671952, 1.70021182785218, 0.379765645374853], [-0.986184901191888, 1.70680819999885, 0.338001640643695], [-0.989551907697974, 1.71263553958506, 0.296085343307459], [-0.992473054125998, 1.7176912210001, 0.254035639493754], [-0.994947024301879, 1.72197296631748, 0.211871475438828], [-0.996972703534687, 1.72547884632126, 0.169611848951014], [-0.99854917911889, 1.72820728137534, 0.127275800850928], [-0.999675740745587, 1.73015704213514, 0.0848824063922925], [-1.00035188082255, 1.73132725010153, 0.0424507666672428], [-1.00057729470294, 1.73171737801667, -4.31842741858589e-15]], &quot;color&quot;:&quot;green&quot;, &quot;opacity&quot;:1, &quot;linewidth&quot;:1},{&quot;points&quot;:[[0.0, 0.0, 2.0], [-0.02123763663499, -0.0367563651739013, 1.99954943234954], [-0.0424657042779399, -0.0734961691187068, 1.99819793240936], [-0.0636746382482882, -0.110202858067274, 1.99594610912162], [-0.0848548824864871, -0.146859893173009, 1.99279497708505], [-0.105996893859654, -0.183450757961729, 1.9887459560978], [-0.127091146461398, -0.219958965773459, 1.98380087051775], [-0.148128135903887, -0.256368067190783, 1.97796194844049], [-0.169098383600214, -0.292661657450419, 1.97123182069542], [-0.189992441035145, -0.328823383834678, 1.96361351966038], [-0.210800894022315, -0.364836953039466, 1.95511047789537], [-0.231514366945949, -0.400686138515521, 1.94572652659595], [-0.252123526985221, -0.436354787779573, 1.935465893867], [-0.272619088319312, -0.471826829692128, 1.9243332028177], [-0.292991816311309, -0.507086281698604, 1.9123334694785], [-0.313232531669026, -0.542117257030553, 1.89947210054106], [-0.333332114580901, -0.576903971863728, 1.88575489092217], [-0.353281508825087, -0.611430752429759, 1.87118802115272], [-0.373071725849889, -0.645682042078248, 1.85577805459302], [-0.392693848823722, -0.679642408286092, 1.83953193447548], [-0.412139036652739, -0.713296549610881, 1.82245698077627], [-0.431398527964349, -0.74662930258523, 1.80456088691717], [-0.450463645054801, -0.779625648548948, 1.78585171629914], [-0.469325797799083, -0.81227072041596, 1.76633789866922], [-0.48797648752135, -0.844549809372936, 1.74602822632238], [-0.506407310824154, -0.876448371506605, 1.72493185013996], [-0.524609963374743, -0.907952034356773, 1.70305827546662], [-0.542576243646727, -0.939046603392091, 1.68041735782751], [-0.560298056615414, -0.969718068405644, 1.65701929848768], [-0.577767417405174, -0.999952609827506, 1.63287463985577], [-0.594976454887161, -1.02973660495139, 1.60799426073388], [-0.61191741522579, -1.05905663407258, 1.58238937141598], [-0.628582665372364, -1.08789948653445, 1.55607150863688], [-0.644964696504281, -1.11625216668074, 1.52905253037418], [-0.661056127408263, -1.14410189971096, 1.50134461050545], [-0.676849707806096, -1.17143613743635, 1.47296023332302], [-0.692338321621367, -1.19824256393362, 1.44391218790905], [-0.707514990185742, -1.22450910109418, 1.41421356237309], [-0.722372875383322, -1.25022391406609, 1.38387773795509], [-0.736905282731684, -1.27537541658649, 1.35291838299617], [-0.751105664398193, -1.29995227620198, 1.32134944678016], [-0.764967622150246, -1.32394341937467, 1.28918515324848], [-0.778484910238108, -1.34733803647155, 1.25643999459128], [-0.791651438209044, -1.37012558663496, 1.22312872471778], [-0.804461273651483, -1.39229580253197, 1.18926635260857], [-0.816908644867965, -1.41383869498048, 1.15486813555309], [-0.828987943475688, -1.43474455745006, 1.11994957227519], [-0.840693726933458, -1.45500397043538, 1.08452639594987], [-0.852020720993927, -1.47460780570033, 1.04861456711446], [-0.862963822079992, -1.49354723039091, 1.01223026647731], [-0.873518099584311, -1.51181371101504, 0.975389887627267], [-0.883678798090864, -1.52939901728747, 0.938110029647272], [-0.893441339517599, -1.54629522583806, 0.900407489635344], [-0.902801325179163, -1.56249472378182, 0.862299255136354], [-0.911754537768808, -1.57799021214903, 0.823802496487983], [-0.920296943258572, -1.59277470917391, 0.784934559084325], [-0.928424692716887, -1.60684155344035, 0.745712955560615], [-0.936134124042773, -1.6201844068834, 0.706155357902599], [-0.943421763615873, -1.63279725764493, 0.666279589484112], [-0.950284327861547, -1.6446744227824, 0.626103617036442], [-0.956718724730346, -1.65581055082942, 0.585645542553098], [-0.962722055091191, -1.66620062420695, 0.544923595133643], [-0.968291614037627, -1.67583996148403, 0.503956122770247], [-0.973424892106564, -1.68472421948711, 0.46276158408068], [-0.978119576408965, -1.69284939525695, 0.421358539991449], [-0.982373551671953, -1.70021182785218, 0.379765645374853], [-0.986184901191888, -1.70680819999885, 0.338001640643695], [-0.989551907697974, -1.71263553958506, 0.296085343307459], [-0.992473054125999, -1.7176912210001, 0.254035639493754], [-0.99494702430188, -1.72197296631748, 0.211871475438828], [-0.996972703534687, -1.72547884632126, 0.169611848951014], [-0.99854917911889, -1.72820728137534, 0.127275800850928], [-0.999675740745587, -1.73015704213514, 0.0848824063922925], [-1.00035188082255, -1.73132725010153, 0.0424507666672428], [-1.00057729470294, -1.73171737801667, -4.31842741858589e-15]], &quot;color&quot;:&quot;green&quot;, &quot;opacity&quot;:1, &quot;linewidth&quot;:1},{&quot;points&quot;:[[0.0, 0.0, 2.0], [0.0424507454418655, -4.24507595921065e-05, 1.99954943234954], [0.0848823639510969, -8.48823922452033e-05, 1.99819793240936], [0.127275737213037, -0.000127275779638261, 1.99594610912162], [0.169611764145101, -0.000169611820682326, 1.99279497708505], [0.211871369503103, -0.000211871440126856, 1.9887459560978], [0.254035512475948, -0.000254035597154408, 1.98380087051775], [0.296085195264803, -0.000296085293959816, 1.97796194844049], [0.338001471642892, -0.00033800158430999, 1.97123182069542], [0.37976545549205, -0.000379765582080468, 1.96361351966038], [0.4213583293122, -0.000421358469764902, 1.95511047789537], [0.46276135269991, -0.000462761506953613, 1.94572652659595], [0.50395587079221, -0.000503956038777411, 1.935465893867], [0.544923322671871, -0.000544923504312882, 1.9243332028177], [0.585645249730354, -0.000585645444945334, 1.9123334694785], [0.626103303984662, -0.000626103512685653, 1.89947210054106], [0.666279256344348, -0.000666279478437316, 1.88575489092217], [0.706155004824952, -0.000706155240209829, 1.87118802115272], [0.74571258270417, -0.0007457128312749, 1.85577805459302], [0.78493416661708, -0.000784934428261664, 1.83953193447548], [0.823802084586771, -0.000823802359187321, 1.82245698077627], [0.862298823986765, -0.000862299111419554, 1.80456088691717], [0.900407039431639, -0.00090040733956716, 1.78585171629914], [0.938109560592298, -0.00093810987329532, 1.76633789866922], [0.975389399932366, -0.000975389725061994, 1.74602822632238], [1.01222976036222, -0.00101223009777196, 1.72493185013996], [1.04861404280722, -0.00104861439234505, 1.70305827546662], [1.08452585368672, -0.00108452621519514, 1.68041735782751], [1.11994901230045, -0.00111994938561659, 1.65701929848768], [1.15486755811908, -0.00115486794307473, 1.63287463985577], [1.18926575797545, -0.00118926615439716, 1.60799426073388], [1.22312811315347, -0.00122312852086263, 1.58238937141598], [1.25643936637134, -0.00125643978518424, 1.55607150863688], [1.28918450865596, -0.0012891849383839, 1.52905253037418], [1.32134878610549, -0.00132134922655486, 1.50134461050545], [1.35291770653704, -0.00135291815750937, 1.47296023332302], [1.38387704601628, -0.00138387750730839, 1.44391218790905], [1.41421285526637, -0.00141421332667041, 1.41421356237309], [1.44391146595302, -0.00144391194725658, 1.38387773795509], [1.47295949684297, -0.00147295998782921, 1.35291838299617], [1.50134385983321, -0.0015013443602809, 1.32134944678016], [1.52905176584798, -0.00152905227553164, 1.28918515324848], [1.55607073060119, -0.00155607124929116, 1.25643999459128], [1.58238858022136, -0.00158238910768394, 1.22312872471778], [1.60799345673682, -0.00160799399273435, 1.18926635260857], [1.63287382341852, -0.00163287436770951, 1.15486813555309], [1.6570184699781, -0.0016570190223173, 1.11994957227519], [1.6804165176189, -0.00168041707775744, 1.08452639594987], [1.70305742393756, -0.00170305799162306, 1.04861456711446], [1.72493098767411, -0.0017249315626508, 1.01223026647731], [1.74602735330834, -0.00174602793531715, 0.975389887627267], [1.76633701550034, -0.00176633760427904, 0.938110029647272], [1.78585082337335, -0.00178585141865665, 0.900407489635344], [1.8045599846368, -0.00180456058615648, 0.862299255136354], [1.82245606954786, -0.00182245667703289, 0.823802496487983], [1.83953101470959, -0.00183953162788627, 0.784934559084325], [1.85577712670407, -0.00185577774529612, 0.745712955560615], [1.87118708555879, -0.00187118770928749, 0.706155357902599], [1.8857539480448, -0.00188575457662912, 0.666279589484112], [1.89947115080509, -0.00189947178396181, 0.626103617036442], [1.91233251331185, -0.00191233315075568, 0.585645542553098], [1.92433224065118, -0.00192433288209492, 0.544923595133643], [1.93546492613413, -0.00193546557128877, 0.503956122770247], [1.94572555373277, -0.00194572620230761, 0.46276158408068], [1.95510950034022, -0.00195511015204304, 0.421358539991449], [1.9636125378537, -0.00196361319239087, 0.379765645374853], [1.97123083507959, -0.00197123149215619, 0.338001640643695], [1.9779609594596, -0.00197796161877957, 0.296085343307459], [1.9837998786174, -0.00198380053988368, 0.254035639493754], [1.98874496172491, -0.00198874562463955, 0.211871475438828], [1.99279398068765, -0.00199279464495196, 0.169611848951014], [1.99594511114865, -0.00199594577646334, 0.127275800850928], [1.99819693331048, -0.00199819759937577, 0.0848824063922925], [1.99954843257491, -0.0019995490990907, 0.0424507666672428], [1.99999900000008, -0.00199999966666606, -4.31842741858589e-15]], &quot;color&quot;:&quot;green&quot;, &quot;opacity&quot;:1, &quot;linewidth&quot;:1},{&quot;points&quot;:[[0.0, 0.0, 1.0], [0.0, 0.0, 1.0], [0.0, 0.0, 1.0], [0.0, 0.0, 1.0], [0.0, 0.0, 1.0], [0.0, 0.0, 1.0], [0.0, 0.0, 1.0], [0.0, 0.0, 1.0], [0.0, 0.0, 1.0], [0.0, 0.0, 1.0], [0.0, 0.0, 1.0], [0.0, 0.0, 1.0], [0.0, 0.0, 1.0], [0.0, 0.0, 1.0], [0.0, 0.0, 1.0], [0.0, 0.0, 1.0], [0.0, 0.0, 1.0], [0.0, 0.0, 1.0], [0.0, 0.0, 1.0], [0.0, 0.0, 1.0], [0.0, 0.0, 1.0], [0.0, 0.0, 1.0], [0.0, 0.0, 1.0], [0.0, 0.0, 1.0], [0.0, 0.0, 1.0], [0.0, 0.0, 1.0], [0.0, 0.0, 1.0], [0.0, 0.0, 1.0], [0.0, 0.0, 1.0], [0.0, 0.0, 1.0], [0.0, 0.0, 1.0], [0.0, 0.0, 1.0], [0.0, 0.0, 1.0], [0.0, 0.0, 1.0], [0.0, 0.0, 1.0], [0.0, 0.0, 1.0], [0.0, 0.0, 1.0], [0.0, 0.0, 1.0], [0.0, 0.0, 1.0], [0.0, 0.0, 1.0], [0.0, 0.0, 1.0], [0.0, 0.0, 1.0], [0.0, 0.0, 1.0], [0.0, 0.0, 1.0], [0.0, 0.0, 1.0], [0.0, 0.0, 1.0], [0.0, 0.0, 1.0], [0.0, 0.0, 1.0], [0.0, 0.0, 1.0], [0.0, 0.0, 1.0], [0.0, 0.0, 1.0], [0.0, 0.0, 1.0], [0.0, 0.0, 1.0], [0.0, 0.0, 1.0], [0.0, 0.0, 1.0], [0.0, 0.0, 1.0], [0.0, 0.0, 1.0], [0.0, 0.0, 1.0], [0.0, 0.0, 1.0], [0.0, 0.0, 1.0], [0.0, 0.0, 1.0], [0.0, 0.0, 1.0], [0.0, 0.0, 1.0], [0.0, 0.0, 1.0], [0.0, 0.0, 1.0], [0.0, 0.0, 1.0], [0.0, 0.0, 1.0], [0.0, 0.0, 1.0], [0.0, 0.0, 1.0], [0.0, 0.0, 1.0], [0.0, 0.0, 1.0], [0.0, 0.0, 1.0], [0.0, 0.0, 1.0], [0.0, 0.0, 1.0], [0.0, 0.0, 1.0]], &quot;color&quot;:&quot;red&quot;, &quot;opacity&quot;:1, &quot;linewidth&quot;:1},{&quot;points&quot;:[[0.499999750000021, 0.000499999916666671, 0.866025403784439], [0.498157251525062, 0.0428876760036782, 0.866025403784439], [0.492727801879706, 0.0849665419726677, 0.866025403784439], [0.483750495487854, 0.126433611493366, 0.866025403784439], [0.471289972901401, 0.166990303438841, 0.866025403784439], [0.455435955359853, 0.206344591800847, 0.866025403784439], [0.436302598757962, 0.244213108405443, 0.866025403784439], [0.414027671673116, 0.280323183288394, 0.866025403784439], [0.388771563371017, 0.314414808038768, 0.866025403784439], [0.36071612893248, 0.346242507973771, 0.866025403784439], [0.330063379816912, 0.375577109664363, 0.866025403784439], [0.297034029291017, 0.402207391084678, 0.866025403784439], [0.26186590319626, 0.42594160250345, 0.866025403784439], [0.224812227498279, 0.446608847166357, 0.866025403784439], [0.186139804948624, 0.464060311827771, 0.866025403784439], [0.146127093987682, 0.478170338271536, 0.866025403784439], [0.105062203721508, 0.488837328105353, 0.866025403784439], [0.0632408194096301, 0.495984474313862, 0.866025403784439], [0.0209640734012118, 0.499560314302916, 0.866025403784439], [-0.0214636231502179, 0.499539100452873, 0.866025403784439], [-0.063736772180872, 0.495920985512777, 0.866025403784439], [-0.105550988437043, 0.488732021500498, 0.866025403784439], [-0.146605191182717, 0.478023972116754, 0.866025403784439], [-0.186603772113213, 0.463873940023709, 0.866025403784439], [-0.225258723864905, 0.446383811671922, 0.866025403784439], [-0.262291713794832, 0.425679523673115, 0.866025403784439], [-0.297436088098064, 0.401910156001215, 0.866025403784439], [-0.330438791832303, 0.375246858551018, 0.866025403784439], [-0.361062191024696, 0.345881618783718, 0.866025403784439], [-0.389085783740887, 0.314025879332802, 0.866025403784439], [-0.414307787795865, 0.279909015524146, 0.866025403784439], [-0.436546593674384, 0.243776683772858, 0.866025403784439], [-0.455642072199304, 0.205889052749106, 0.866025403784439], [-0.471456727532042, 0.166518930049343, 0.866025403784439], [-0.483876687203048, 0.125949797861703, 0.866025403784439], [-0.492812522043637, 0.0844737717696417, 0.866025403784439], [-0.498199890115312, 0.0423894973913428, 0.866025403784439], [-0.5, -3.82856869892695e-16, 0.866025403784439], [-0.498199890115312, -0.0423894973913436, 0.866025403784439], [-0.492812522043637, -0.0844737717696424, 0.866025403784439], [-0.483876687203048, -0.125949797861704, 0.866025403784439], [-0.471456727532042, -0.166518930049344, 0.866025403784439], [-0.455642072199304, -0.205889052749106, 0.866025403784439], [-0.436546593674384, -0.243776683772858, 0.866025403784439], [-0.414307787795864, -0.279909015524147, 0.866025403784439], [-0.389085783740887, -0.314025879332802, 0.866025403784439], [-0.361062191024696, -0.345881618783719, 0.866025403784439], [-0.330438791832303, -0.375246858551018, 0.866025403784439], [-0.297436088098063, -0.401910156001215, 0.866025403784439], [-0.262291713794831, -0.425679523673115, 0.866025403784439], [-0.225258723864904, -0.446383811671923, 0.866025403784439], [-0.186603772113212, -0.46387394002371, 0.866025403784439], [-0.146605191182716, -0.478023972116754, 0.866025403784439], [-0.105550988437041, -0.488732021500498, 0.866025403784439], [-0.0637367721808708, -0.495920985512777, 0.866025403784439], [-0.0214636231502166, -0.499539100452873, 0.866025403784439], [0.0209640734012132, -0.499560314302916, 0.866025403784439], [0.0632408194096317, -0.495984474313862, 0.866025403784439], [0.10506220372151, -0.488837328105352, 0.866025403784439], [0.146127093987684, -0.478170338271535, 0.866025403784439], [0.186139804948626, -0.46406031182777, 0.866025403784439], [0.224812227498281, -0.446608847166356, 0.866025403784439], [0.261865903196262, -0.425941602503449, 0.866025403784439], [0.297034029291018, -0.402207391084677, 0.866025403784439], [0.330063379816914, -0.375577109664361, 0.866025403784439], [0.360716128932481, -0.346242507973769, 0.866025403784439], [0.388771563371018, -0.314414808038766, 0.866025403784439], [0.414027671673117, -0.280323183288392, 0.866025403784439], [0.436302598757964, -0.24421310840544, 0.866025403784439], [0.455435955359854, -0.206344591800844, 0.866025403784439], [0.471289972901402, -0.166990303438838, 0.866025403784439], [0.483750495487855, -0.126433611493363, 0.866025403784439], [0.492727801879707, -0.0849665419726647, 0.866025403784439], [0.498157251525062, -0.042887676003675, 0.866025403784439], [0.499999750000021, -0.000499999916663408, 0.866025403784439]], &quot;color&quot;:&quot;red&quot;, &quot;opacity&quot;:1, &quot;linewidth&quot;:1},{&quot;points&quot;:[[0.866024970771773, 0.000866025259446879, 0.5], [0.862833669800275, 0.0742836338569232, 0.5], [0.853429587157383, 0.147166367640094, 0.5], [0.837880436371582, 0.218989438890935, 0.5], [0.816298178162987, 0.289235689927417, 0.5], [0.788838214276936, 0.357399316866127, 0.5], [0.755698268523129, 0.422989511632553, 0.5], [0.717116963077282, 0.485533995994942, 0.5], [0.673372100296585, 0.544582422175162, 0.5], [0.62477866242062, 0.599709615550643, 0.5], [0.571686543560795, 0.650518636098545, 0.5], [0.514478030308943, 0.696643636538388, 0.5], [0.453565049105836, 0.737752496593282, 0.5], [0.389386200189752, 0.773549214401893, 0.5], [0.322403599481978, 0.803776037861956, 0.5], [0.253099551149058, 0.828215320558697, 0.5], [0.181973074800805, 0.846691088914688, 0.5], [0.109536312329767, 0.859070309276951, 0.5], [0.0363108402645021, 0.865263845817728, 0.5], [-0.037176085810689, 0.865227102351629, 0.5], [-0.110395327727713, 0.858960343447758, 0.5], [-0.182819674762073, 0.846508692524708, 0.5], [-0.253927639781814, 0.827961806942106, 0.5], [-0.323207214184089, 0.803453232428223, 0.5], [-0.390159554582144, 0.773159441492027, 0.5], [-0.454302574696964, 0.737298562743553, 0.5], [-0.51517441659038, 0.696128810272037, 0.5], [-0.572336776245225, 0.649946624390975, 0.5], [-0.625378059546914, 0.59908453713757, 0.5], [-0.673916345941974, 0.543908777895906, 0.5], [-0.717602138433903, 0.484816636384407, 0.5], [-0.75612088011516, 0.422233601995241, 0.5], [-0.789195219115161, 0.35661030008368, 0.5], [-0.816587005655653, 0.28841924726747, 0.5], [-0.838099006833792, 0.2181514490995, 0.5], [-0.853576326785737, 0.146312864611997, 0.5], [-0.862907522004953, 0.0734207631891142, 0.5], [-0.866025403784439, -6.63127550680935e-16, 0.5], [-0.862907522004953, -0.0734207631891155, 0.5], [-0.853576326785737, -0.146312864611998, 0.5], [-0.838099006833792, -0.218151449099501, 0.5], [-0.816587005655653, -0.288419247267472, 0.5], [-0.789195219115161, -0.356610300083681, 0.5], [-0.756120880115159, -0.422233601995242, 0.5], [-0.717602138433902, -0.484816636384408, 0.5], [-0.673916345941973, -0.543908777895907, 0.5], [-0.625378059546913, -0.599084537137571, 0.5], [-0.572336776245224, -0.649946624390976, 0.5], [-0.515174416590378, -0.696128810272038, 0.5], [-0.454302574696963, -0.737298562743554, 0.5], [-0.390159554582143, -0.773159441492028, 0.5], [-0.323207214184088, -0.803453232428224, 0.5], [-0.253927639781813, -0.827961806942106, 0.5], [-0.182819674762071, -0.846508692524708, 0.5], [-0.110395327727711, -0.858960343447759, 0.5], [-0.0371760858106867, -0.865227102351629, 0.5], [0.0363108402645046, -0.865263845817728, 0.5], [0.10953631232977, -0.85907030927695, 0.5], [0.181973074800807, -0.846691088914688, 0.5], [0.253099551149061, -0.828215320558696, 0.5], [0.322403599481981, -0.803776037861955, 0.5], [0.389386200189755, -0.773549214401892, 0.5], [0.453565049105839, -0.73775249659328, 0.5], [0.514478030308946, -0.696643636538386, 0.5], [0.571686543560798, -0.650518636098542, 0.5], [0.624778662420623, -0.59970961555064, 0.5], [0.673372100296587, -0.544582422175158, 0.5], [0.717116963077284, -0.485533995994938, 0.5], [0.755698268523131, -0.422989511632548, 0.5], [0.788838214276938, -0.357399316866123, 0.5], [0.816298178162988, -0.289235689927412, 0.5], [0.837880436371584, -0.21898943889093, 0.5], [0.853429587157384, -0.147166367640089, 0.5], [0.862833669800276, -0.0742836338569177, 0.5], [0.866024970771773, -0.000866025259441226, 0.5]], &quot;color&quot;:&quot;red&quot;, &quot;opacity&quot;:1, &quot;linewidth&quot;:1},{&quot;points&quot;:[[0.999999500000042, 0.000999999833333342, 6.12323399573677e-17], [0.996314503050123, 0.0857753520073564, 6.12323399573677e-17], [0.985455603759412, 0.169933083945335, 6.12323399573677e-17], [0.967500990975709, 0.252867222986733, 6.12323399573677e-17], [0.942579945802803, 0.333980606877682, 6.12323399573677e-17], [0.910871910719706, 0.412689183601694, 6.12323399573677e-17], [0.872605197515925, 0.488426216810885, 6.12323399573677e-17], [0.828055343346231, 0.560646366576789, 6.12323399573677e-17], [0.777543126742034, 0.628829616077536, 6.12323399573677e-17], [0.721432257864959, 0.692485015947542, 6.12323399573677e-17], [0.660126759633824, 0.751154219328726, 6.12323399573677e-17], [0.594068058582033, 0.804414782169357, 6.12323399573677e-17], [0.52373180639252, 0.8518832050069, 6.12323399573677e-17], [0.449624454996558, 0.893217694332713, 6.12323399573677e-17], [0.372279609897248, 0.928120623655542, 6.12323399573677e-17], [0.292254187975364, 0.956340676543072, 6.12323399573677e-17], [0.210124407443017, 0.977674656210705, 6.12323399573677e-17], [0.12648163881926, 0.991968948627725, 6.12323399573677e-17], [0.0419281468024236, 0.999120628605833, 6.12323399573677e-17], [-0.0429272463004359, 0.999078200905746, 6.12323399573677e-17], [-0.127473544361744, 0.991841971025553, 6.12323399573677e-17], [-0.211101976874085, 0.977464043000996, 6.12323399573677e-17], [-0.293210382365434, 0.956047944233508, 6.12323399573677e-17], [-0.373207544226426, 0.927747880047419, 6.12323399573677e-17], [-0.45051744772981, 0.892767623343845, 6.12323399573677e-17], [-0.524583427589664, 0.85135904734623, 6.12323399573677e-17], [-0.594872176196128, 0.803820312002429, 6.12323399573677e-17], [-0.660877583664607, 0.750493717102036, 6.12323399573677e-17], [-0.722124382049393, 0.691763237567437, 6.12323399573677e-17], [-0.778171567481775, 0.628051758665603, 6.12323399573677e-17], [-0.828615575591729, 0.559818031048292, 6.12323399573677e-17], [-0.873093187348769, 0.487553367545716, 6.12323399573677e-17], [-0.911284144398608, 0.411778105498212, 6.12323399573677e-17], [-0.942913455064084, 0.333037860098687, 6.12323399573677e-17], [-0.967753374406096, 0.251899595723406, 6.12323399573677e-17], [-0.985625044087275, 0.168947543539283, 6.12323399573677e-17], [-0.996399780230625, 0.0847789947826857, 6.12323399573677e-17], [-1.0, -7.6571373978539e-16, 6.12323399573677e-17], [-0.996399780230625, -0.0847789947826872, 6.12323399573677e-17], [-0.985625044087274, -0.168947543539285, 6.12323399573677e-17], [-0.967753374406095, -0.251899595723407, 6.12323399573677e-17], [-0.942913455064083, -0.333037860098688, 6.12323399573677e-17], [-0.911284144398608, -0.411778105498213, 6.12323399573677e-17], [-0.873093187348768, -0.487553367545717, 6.12323399573677e-17], [-0.828615575591729, -0.559818031048294, 6.12323399573677e-17], [-0.778171567481774, -0.628051758665605, 6.12323399573677e-17], [-0.722124382049392, -0.691763237567438, 6.12323399573677e-17], [-0.660877583664606, -0.750493717102037, 6.12323399573677e-17], [-0.594872176196127, -0.80382031200243, 6.12323399573677e-17], [-0.524583427589663, -0.85135904734623, 6.12323399573677e-17], [-0.450517447729809, -0.892767623343846, 6.12323399573677e-17], [-0.373207544226424, -0.92774788004742, 6.12323399573677e-17], [-0.293210382365432, -0.956047944233508, 6.12323399573677e-17], [-0.211101976874083, -0.977464043000997, 6.12323399573677e-17], [-0.127473544361742, -0.991841971025554, 6.12323399573677e-17], [-0.0429272463004332, -0.999078200905746, 6.12323399573677e-17], [0.0419281468024264, -0.999120628605833, 6.12323399573677e-17], [0.126481638819263, -0.991968948627725, 6.12323399573677e-17], [0.21012440744302, -0.977674656210705, 6.12323399573677e-17], [0.292254187975368, -0.956340676543071, 6.12323399573677e-17], [0.372279609897252, -0.928120623655541, 6.12323399573677e-17], [0.449624454996561, -0.893217694332712, 6.12323399573677e-17], [0.523731806392524, -0.851883205006897, 6.12323399573677e-17], [0.594068058582037, -0.804414782169354, 6.12323399573677e-17], [0.660126759633827, -0.751154219328723, 6.12323399573677e-17], [0.721432257864963, -0.692485015947538, 6.12323399573677e-17], [0.777543126742037, -0.628829616077532, 6.12323399573677e-17], [0.828055343346234, -0.560646366576784, 6.12323399573677e-17], [0.872605197515928, -0.48842621681088, 6.12323399573677e-17], [0.910871910719708, -0.412689183601689, 6.12323399573677e-17], [0.942579945802805, -0.333980606877677, 6.12323399573677e-17], [0.96750099097571, -0.252867222986727, 6.12323399573677e-17], [0.985455603759413, -0.169933083945329, 6.12323399573677e-17], [0.996314503050124, -0.0857753520073501, 6.12323399573677e-17], [0.999999500000042, -0.000999999833326815, 6.12323399573677e-17]], &quot;color&quot;:&quot;red&quot;, &quot;opacity&quot;:1, &quot;linewidth&quot;:1},{&quot;points&quot;:[[0.0, 0.0, 1.33333333333333], [0.0, 0.0, 1.33333333333333], [0.0, 0.0, 1.33333333333333], [0.0, 0.0, 1.33333333333333], [0.0, 0.0, 1.33333333333333], [0.0, 0.0, 1.33333333333333], [0.0, 0.0, 1.33333333333333], [0.0, 0.0, 1.33333333333333], [0.0, 0.0, 1.33333333333333], [0.0, 0.0, 1.33333333333333], [0.0, 0.0, 1.33333333333333], [0.0, 0.0, 1.33333333333333], [0.0, 0.0, 1.33333333333333], [0.0, 0.0, 1.33333333333333], [0.0, 0.0, 1.33333333333333], [0.0, 0.0, 1.33333333333333], [0.0, 0.0, 1.33333333333333], [0.0, 0.0, 1.33333333333333], [0.0, 0.0, 1.33333333333333], [0.0, 0.0, 1.33333333333333], [0.0, 0.0, 1.33333333333333], [0.0, 0.0, 1.33333333333333], [0.0, 0.0, 1.33333333333333], [0.0, 0.0, 1.33333333333333], [0.0, 0.0, 1.33333333333333], [0.0, 0.0, 1.33333333333333], [0.0, 0.0, 1.33333333333333], [0.0, 0.0, 1.33333333333333], [0.0, 0.0, 1.33333333333333], [0.0, 0.0, 1.33333333333333], [0.0, 0.0, 1.33333333333333], [0.0, 0.0, 1.33333333333333], [0.0, 0.0, 1.33333333333333], [0.0, 0.0, 1.33333333333333], [0.0, 0.0, 1.33333333333333], [0.0, 0.0, 1.33333333333333], [0.0, 0.0, 1.33333333333333], [0.0, 0.0, 1.33333333333333], [0.0, 0.0, 1.33333333333333], [0.0, 0.0, 1.33333333333333], [0.0, 0.0, 1.33333333333333], [0.0, 0.0, 1.33333333333333], [0.0, 0.0, 1.33333333333333], [0.0, 0.0, 1.33333333333333], [0.0, 0.0, 1.33333333333333], [0.0, 0.0, 1.33333333333333], [0.0, 0.0, 1.33333333333333], [0.0, 0.0, 1.33333333333333], [0.0, 0.0, 1.33333333333333], [0.0, 0.0, 1.33333333333333], [0.0, 0.0, 1.33333333333333], [0.0, 0.0, 1.33333333333333], [0.0, 0.0, 1.33333333333333], [0.0, 0.0, 1.33333333333333], [0.0, 0.0, 1.33333333333333], [0.0, 0.0, 1.33333333333333], [0.0, 0.0, 1.33333333333333], [0.0, 0.0, 1.33333333333333], [0.0, 0.0, 1.33333333333333], [0.0, 0.0, 1.33333333333333], [0.0, 0.0, 1.33333333333333], [0.0, 0.0, 1.33333333333333], [0.0, 0.0, 1.33333333333333], [0.0, 0.0, 1.33333333333333], [0.0, 0.0, 1.33333333333333], [0.0, 0.0, 1.33333333333333], [0.0, 0.0, 1.33333333333333], [0.0, 0.0, 1.33333333333333], [0.0, 0.0, 1.33333333333333], [0.0, 0.0, 1.33333333333333], [0.0, 0.0, 1.33333333333333], [0.0, 0.0, 1.33333333333333], [0.0, 0.0, 1.33333333333333], [0.0, 0.0, 1.33333333333333], [0.0, 0.0, 1.33333333333333]], &quot;color&quot;:&quot;red&quot;, &quot;opacity&quot;:1, &quot;linewidth&quot;:1},{&quot;points&quot;:[[0.666666333333361, 0.000666666555555561, 1.15470053837925], [0.664209668700082, 0.0571835680049043, 1.15470053837925], [0.656970402506275, 0.113288722630224, 1.15470053837925], [0.645000660650472, 0.168578148657822, 1.15470053837925], [0.628386630535202, 0.222653737918455, 1.15470053837925], [0.607247940479804, 0.275126122401129, 1.15470053837925], [0.58173679834395, 0.325617477873923, 1.15470053837925], [0.552036895564154, 0.373764244384526, 1.15470053837925], [0.518362084494689, 0.419219744051691, 1.15470053837925], [0.480954838576639, 0.461656677298361, 1.15470053837925], [0.440084506422549, 0.500769479552484, 1.15470053837925], [0.396045372388022, 0.536276521446238, 1.15470053837925], [0.349154537595014, 0.567922136671266, 1.15470053837925], [0.299749636664372, 0.595478462888475, 1.15470053837925], [0.248186406598165, 0.618747082437028, 1.15470053837925], [0.194836125316909, 0.637560451028714, 1.15470053837925], [0.140082938295345, 0.65178310414047, 1.15470053837925], [0.0843210925461735, 0.661312632418483, 1.15470053837925], [0.0279520978682824, 0.666080419070555, 1.15470053837925], [-0.0286181642002906, 0.666052133937164, 1.15470053837925], [-0.0849823629078293, 0.661227980683702, 1.15470053837925], [-0.14073465124939, 0.651642695333997, 1.15470053837925], [-0.195473588243622, 0.637365296155672, 1.15470053837925], [-0.248805029484284, 0.618498586698279, 1.15470053837925], [-0.300344965153207, 0.595178415562563, 1.15470053837925], [-0.349722285059776, 0.56757269823082, 1.15470053837925], [-0.396581450797419, 0.535880208001619, 1.15470053837925], [-0.440585055776405, 0.50032914473469, 1.15470053837925], [-0.481416254699595, 0.461175491711625, 1.15470053837925], [-0.51878104498785, 0.418701172443736, 1.15470053837925], [-0.552410383727819, 0.373212020698861, 1.15470053837925], [-0.582062124899179, 0.32503557836381, 1.15470053837925], [-0.607522762932405, 0.274518736998808, 1.15470053837925], [-0.628608970042722, 0.222025240065791, 1.15470053837925], [-0.64516891627073, 0.167933063815604, 1.15470053837925], [-0.65708336272485, 0.112631695692856, 1.15470053837925], [-0.66426652015375, 0.0565193298551238, 1.15470053837925], [-0.666666666666667, -5.10475826523593e-16, 1.15470053837925], [-0.66426652015375, -0.0565193298551248, 1.15470053837925], [-0.657083362724849, -0.112631695692857, 1.15470053837925], [-0.64516891627073, -0.167933063815605, 1.15470053837925], [-0.628608970042722, -0.222025240065792, 1.15470053837925], [-0.607522762932405, -0.274518736998809, 1.15470053837925], [-0.582062124899179, -0.325035578363811, 1.15470053837925], [-0.552410383727819, -0.373212020698862, 1.15470053837925], [-0.518781044987849, -0.418701172443736, 1.15470053837925], [-0.481416254699595, -0.461175491711625, 1.15470053837925], [-0.440585055776404, -0.500329144734691, 1.15470053837925], [-0.396581450797418, -0.53588020800162, 1.15470053837925], [-0.349722285059775, -0.56757269823082, 1.15470053837925], [-0.300344965153206, -0.595178415562564, 1.15470053837925], [-0.248805029484283, -0.61849858669828, 1.15470053837925], [-0.195473588243621, -0.637365296155672, 1.15470053837925], [-0.140734651249389, -0.651642695333998, 1.15470053837925], [-0.0849823629078277, -0.661227980683702, 1.15470053837925], [-0.0286181642002888, -0.666052133937164, 1.15470053837925], [0.0279520978682843, -0.666080419070555, 1.15470053837925], [0.0843210925461755, -0.661312632418483, 1.15470053837925], [0.140082938295347, -0.65178310414047, 1.15470053837925], [0.194836125316912, -0.637560451028714, 1.15470053837925], [0.248186406598168, -0.618747082437027, 1.15470053837925], [0.299749636664374, -0.595478462888474, 1.15470053837925], [0.349154537595016, -0.567922136671265, 1.15470053837925], [0.396045372388025, -0.536276521446236, 1.15470053837925], [0.440084506422551, -0.500769479552482, 1.15470053837925], [0.480954838576642, -0.461656677298359, 1.15470053837925], [0.518362084494691, -0.419219744051688, 1.15470053837925], [0.552036895564156, -0.373764244384523, 1.15470053837925], [0.581736798343952, -0.32561747787392, 1.15470053837925], [0.607247940479805, -0.275126122401126, 1.15470053837925], [0.628386630535203, -0.222653737918451, 1.15470053837925], [0.645000660650473, -0.168578148657818, 1.15470053837925], [0.656970402506275, -0.11328872263022, 1.15470053837925], [0.664209668700082, -0.0571835680049, 1.15470053837925], [0.666666333333361, -0.00066666655555121, 1.15470053837925]], &quot;color&quot;:&quot;red&quot;, &quot;opacity&quot;:1, &quot;linewidth&quot;:1},{&quot;points&quot;:[[1.15469996102903, 0.00115470034592917, 0.666666666666667], [1.15044489306703, 0.0990448451425643, 0.666666666666667], [1.13790611620984, 0.196221823520125, 0.666666666666667], [1.11717391516211, 0.291985918521247, 0.666666666666667], [1.08839757088398, 0.385647586569889, 0.666666666666667], [1.05178428570258, 0.47653242248817, 0.666666666666667], [1.00759769136417, 0.56398601551007, 0.666666666666667], [0.956155950769709, 0.647378661326589, 0.666666666666667], [0.897829467062113, 0.726109896233549, 0.666666666666667], [0.833038216560827, 0.799612820734191, 0.666666666666667], [0.762248724747727, 0.867358181464726, 0.666666666666667], [0.685970707078591, 0.928858182051184, 0.666666666666667], [0.604753398807781, 0.983669995457709, 0.666666666666667], [0.519181600253003, 1.03139895253586, 0.666666666666667], [0.42987146597597, 1.07170138381594, 0.666666666666667], [0.337466068198744, 1.10428709407826, 0.666666666666667], [0.242630766401073, 1.12892145188625, 0.666666666666667], [0.14604841643969, 1.14542707903593, 0.666666666666667], [0.0484144536860028, 1.15368512775697, 0.666666666666667], [-0.049568114414252, 1.15363613646884, 0.666666666666667], [-0.147193770303617, 1.14528045793034, 0.666666666666667], [-0.24375956634943, 1.12867825669961, 0.666666666666667], [-0.338570186375752, 1.10394907592281, 0.666666666666667], [-0.430942952245452, 1.07127097657096, 0.666666666666667], [-0.520212739442858, 1.0308792553227, 0.666666666666667], [-0.605736766262618, 0.983064750324738, 0.666666666666667], [-0.686899222120506, 0.928171747029383, 0.666666666666667], [-0.7631157016603, 0.866595499187966, 0.666666666666667], [-0.833837412729218, 0.798779382850094, 0.666666666666667], [-0.898555127922631, 0.725211703861208, 0.666666666666667], [-0.956802851245203, 0.646422181845876, 0.666666666666667], [-1.00816117348688, 0.562978135993655, 0.666666666666667], [-1.05226029215355, 0.475480400111573, 0.666666666666667], [-1.08878267420754, 0.384558996356627, 0.666666666666667], [-1.11746534244506, 0.290868598799333, 0.666666666666667], [-1.13810176904765, 0.195083819482662, 0.666666666666667], [-1.15054336267327, 0.0978943509188189, 0.666666666666667], [-1.15470053837925, -8.8417006757458e-16, 0.666666666666667], [-1.15054336267327, -0.0978943509188207, 0.666666666666667], [-1.13810176904765, -0.195083819482664, 0.666666666666667], [-1.11746534244506, -0.290868598799334, 0.666666666666667], [-1.08878267420754, -0.384558996356629, 0.666666666666667], [-1.05226029215355, -0.475480400111575, 0.666666666666667], [-1.00816117348688, -0.562978135993656, 0.666666666666667], [-0.956802851245202, -0.646422181845877, 0.666666666666667], [-0.89855512792263, -0.725211703861209, 0.666666666666667], [-0.833837412729217, -0.798779382850095, 0.666666666666667], [-0.763115701660299, -0.866595499187967, 0.666666666666667], [-0.686899222120505, -0.928171747029384, 0.666666666666667], [-0.605736766262617, -0.983064750324739, 0.666666666666667], [-0.520212739442857, -1.0308792553227, 0.666666666666667], [-0.43094295224545, -1.07127097657096, 0.666666666666667], [-0.33857018637575, -1.10394907592281, 0.666666666666667], [-0.243759566349428, -1.12867825669961, 0.666666666666667], [-0.147193770303614, -1.14528045793034, 0.666666666666667], [-0.049568114414249, -1.15363613646884, 0.666666666666667], [0.0484144536860061, -1.15368512775697, 0.666666666666667], [0.146048416439693, -1.14542707903593, 0.666666666666667], [0.242630766401076, -1.12892145188625, 0.666666666666667], [0.337466068198748, -1.10428709407826, 0.666666666666667], [0.429871465975974, -1.07170138381594, 0.666666666666667], [0.519181600253007, -1.03139895253586, 0.666666666666667], [0.604753398807785, -0.983669995457707, 0.666666666666667], [0.685970707078595, -0.928858182051181, 0.666666666666667], [0.762248724747731, -0.867358181464723, 0.666666666666667], [0.833038216560831, -0.799612820734187, 0.666666666666667], [0.897829467062117, -0.726109896233544, 0.666666666666667], [0.956155950769713, -0.647378661326584, 0.666666666666667], [1.00759769136417, -0.563986015510064, 0.666666666666667], [1.05178428570258, -0.476532422488164, 0.666666666666667], [1.08839757088398, -0.385647586569882, 0.666666666666667], [1.11717391516211, -0.29198591852124, 0.666666666666667], [1.13790611620984, -0.196221823520118, 0.666666666666667], [1.15044489306703, -0.0990448451425569, 0.666666666666667], [1.15469996102903, -0.00115470034592164, 0.666666666666667]], &quot;color&quot;:&quot;red&quot;, &quot;opacity&quot;:1, &quot;linewidth&quot;:1},{&quot;points&quot;:[[1.33333266666672, 0.00133333311111112, 8.16431199431569e-17], [1.32841933740016, 0.114367136009809, 8.16431199431569e-17], [1.31394080501255, 0.226577445260447, 8.16431199431569e-17], [1.29000132130094, 0.337156297315644, 8.16431199431569e-17], [1.2567732610704, 0.44530747583691, 8.16431199431569e-17], [1.21449588095961, 0.550252244802258, 8.16431199431569e-17], [1.1634735966879, 0.651234955747847, 8.16431199431569e-17], [1.10407379112831, 0.747528488769052, 8.16431199431569e-17], [1.03672416898938, 0.838439488103382, 8.16431199431569e-17], [0.961909677153279, 0.923313354596722, 8.16431199431569e-17], [0.880169012845098, 1.00153895910497, 8.16431199431569e-17], [0.792090744776045, 1.07255304289248, 8.16431199431569e-17], [0.698309075190027, 1.13584427334253, 8.16431199431569e-17], [0.599499273328743, 1.19095692577695, 8.16431199431569e-17], [0.496372813196331, 1.23749416487406, 8.16431199431569e-17], [0.389672250633819, 1.27512090205743, 8.16431199431569e-17], [0.280165876590689, 1.30356620828094, 8.16431199431569e-17], [0.168642185092347, 1.32262526483697, 8.16431199431569e-17], [0.0559041957365648, 1.33216083814111, 8.16431199431569e-17], [-0.0572363284005812, 1.33210426787433, 8.16431199431569e-17], [-0.169964725815659, 1.3224559613674, 8.16431199431569e-17], [-0.28146930249878, 1.30328539066799, 8.16431199431569e-17], [-0.390947176487245, 1.27473059231134, 8.16431199431569e-17], [-0.497610058968568, 1.23699717339656, 8.16431199431569e-17], [-0.600689930306414, 1.19035683112513, 8.16431199431569e-17], [-0.699444570119552, 1.13514539646164, 8.16431199431569e-17], [-0.793162901594837, 1.07176041600324, 8.16431199431569e-17], [-0.881170111552809, 1.00065828946938, 8.16431199431569e-17], [-0.962832509399191, 0.922350983423249, 8.16431199431569e-17], [-1.0375620899757, 0.837402344887471, 8.16431199431569e-17], [-1.10482076745564, 0.746424041397723, 8.16431199431569e-17], [-1.16412424979836, 0.650071156727621, 8.16431199431569e-17], [-1.21504552586481, 0.549037473997615, 8.16431199431569e-17], [-1.25721794008544, 0.444050480131582, 8.16431199431569e-17], [-1.29033783254146, 0.335866127631208, 8.16431199431569e-17], [-1.3141667254497, 0.225263391385711, 8.16431199431569e-17], [-1.3285330403075, 0.113038659710248, 8.16431199431569e-17], [-1.33333333333333, -1.02095165304719e-15, 8.16431199431569e-17], [-1.3285330403075, -0.11303865971025, 8.16431199431569e-17], [-1.3141667254497, -0.225263391385713, 8.16431199431569e-17], [-1.29033783254146, -0.33586612763121, 8.16431199431569e-17], [-1.25721794008544, -0.444050480131584, 8.16431199431569e-17], [-1.21504552586481, -0.549037473997617, 8.16431199431569e-17], [-1.16412424979836, -0.650071156727623, 8.16431199431569e-17], [-1.10482076745564, -0.746424041397725, 8.16431199431569e-17], [-1.0375620899757, -0.837402344887473, 8.16431199431569e-17], [-0.962832509399189, -0.922350983423251, 8.16431199431569e-17], [-0.881170111552808, -1.00065828946938, 8.16431199431569e-17], [-0.793162901594836, -1.07176041600324, 8.16431199431569e-17], [-0.699444570119551, -1.13514539646164, 8.16431199431569e-17], [-0.600689930306412, -1.19035683112513, 8.16431199431569e-17], [-0.497610058968566, -1.23699717339656, 8.16431199431569e-17], [-0.390947176487242, -1.27473059231134, 8.16431199431569e-17], [-0.281469302498777, -1.303285390668, 8.16431199431569e-17], [-0.169964725815655, -1.3224559613674, 8.16431199431569e-17], [-0.0572363284005776, -1.33210426787433, 8.16431199431569e-17], [0.0559041957365686, -1.33216083814111, 8.16431199431569e-17], [0.168642185092351, -1.32262526483697, 8.16431199431569e-17], [0.280165876590693, -1.30356620828094, 8.16431199431569e-17], [0.389672250633823, -1.27512090205743, 8.16431199431569e-17], [0.496372813196336, -1.23749416487405, 8.16431199431569e-17], [0.599499273328748, -1.19095692577695, 8.16431199431569e-17], [0.698309075190032, -1.13584427334253, 8.16431199431569e-17], [0.792090744776049, -1.07255304289247, 8.16431199431569e-17], [0.880169012845103, -1.00153895910496, 8.16431199431569e-17], [0.961909677153283, -0.923313354596718, 8.16431199431569e-17], [1.03672416898938, -0.838439488103376, 8.16431199431569e-17], [1.10407379112831, -0.747528488769046, 8.16431199431569e-17], [1.1634735966879, -0.65123495574784, 8.16431199431569e-17], [1.21449588095961, -0.550252244802252, 8.16431199431569e-17], [1.25677326107041, -0.445307475836902, 8.16431199431569e-17], [1.29000132130095, -0.337156297315636, 8.16431199431569e-17], [1.31394080501255, -0.226577445260439, 8.16431199431569e-17], [1.32841933740016, -0.1143671360098, 8.16431199431569e-17], [1.33333266666672, -0.00133333311110242, 8.16431199431569e-17]], &quot;color&quot;:&quot;red&quot;, &quot;opacity&quot;:1, &quot;linewidth&quot;:1},{&quot;points&quot;:[[0.0, 0.0, 1.66666666666667], [0.0, 0.0, 1.66666666666667], [0.0, 0.0, 1.66666666666667], [0.0, 0.0, 1.66666666666667], [0.0, 0.0, 1.66666666666667], [0.0, 0.0, 1.66666666666667], [0.0, 0.0, 1.66666666666667], [0.0, 0.0, 1.66666666666667], [0.0, 0.0, 1.66666666666667], [0.0, 0.0, 1.66666666666667], [0.0, 0.0, 1.66666666666667], [0.0, 0.0, 1.66666666666667], [0.0, 0.0, 1.66666666666667], [0.0, 0.0, 1.66666666666667], [0.0, 0.0, 1.66666666666667], [0.0, 0.0, 1.66666666666667], [0.0, 0.0, 1.66666666666667], [0.0, 0.0, 1.66666666666667], [0.0, 0.0, 1.66666666666667], [0.0, 0.0, 1.66666666666667], [0.0, 0.0, 1.66666666666667], [0.0, 0.0, 1.66666666666667], [0.0, 0.0, 1.66666666666667], [0.0, 0.0, 1.66666666666667], [0.0, 0.0, 1.66666666666667], [0.0, 0.0, 1.66666666666667], [0.0, 0.0, 1.66666666666667], [0.0, 0.0, 1.66666666666667], [0.0, 0.0, 1.66666666666667], [0.0, 0.0, 1.66666666666667], [0.0, 0.0, 1.66666666666667], [0.0, 0.0, 1.66666666666667], [0.0, 0.0, 1.66666666666667], [0.0, 0.0, 1.66666666666667], [0.0, 0.0, 1.66666666666667], [0.0, 0.0, 1.66666666666667], [0.0, 0.0, 1.66666666666667], [0.0, 0.0, 1.66666666666667], [0.0, 0.0, 1.66666666666667], [0.0, 0.0, 1.66666666666667], [0.0, 0.0, 1.66666666666667], [0.0, 0.0, 1.66666666666667], [0.0, 0.0, 1.66666666666667], [0.0, 0.0, 1.66666666666667], [0.0, 0.0, 1.66666666666667], [0.0, 0.0, 1.66666666666667], [0.0, 0.0, 1.66666666666667], [0.0, 0.0, 1.66666666666667], [0.0, 0.0, 1.66666666666667], [0.0, 0.0, 1.66666666666667], [0.0, 0.0, 1.66666666666667], [0.0, 0.0, 1.66666666666667], [0.0, 0.0, 1.66666666666667], [0.0, 0.0, 1.66666666666667], [0.0, 0.0, 1.66666666666667], [0.0, 0.0, 1.66666666666667], [0.0, 0.0, 1.66666666666667], [0.0, 0.0, 1.66666666666667], [0.0, 0.0, 1.66666666666667], [0.0, 0.0, 1.66666666666667], [0.0, 0.0, 1.66666666666667], [0.0, 0.0, 1.66666666666667], [0.0, 0.0, 1.66666666666667], [0.0, 0.0, 1.66666666666667], [0.0, 0.0, 1.66666666666667], [0.0, 0.0, 1.66666666666667], [0.0, 0.0, 1.66666666666667], [0.0, 0.0, 1.66666666666667], [0.0, 0.0, 1.66666666666667], [0.0, 0.0, 1.66666666666667], [0.0, 0.0, 1.66666666666667], [0.0, 0.0, 1.66666666666667], [0.0, 0.0, 1.66666666666667], [0.0, 0.0, 1.66666666666667], [0.0, 0.0, 1.66666666666667]], &quot;color&quot;:&quot;red&quot;, &quot;opacity&quot;:1, &quot;linewidth&quot;:1},{&quot;points&quot;:[[0.833332916666701, 0.000833333194444451, 1.44337567297406], [0.830262085875103, 0.0714794600061303, 1.44337567297406], [0.821213003132843, 0.14161090328778, 1.44337567297406], [0.80625082581309, 0.210722685822277, 1.44337567297406], [0.785483288169002, 0.278317172398068, 1.44337567297406], [0.759059925599755, 0.343907653001411, 1.44337567297406], [0.727170997929937, 0.407021847342404, 1.44337567297406], [0.690046119455192, 0.467205305480657, 1.44337567297406], [0.647952605618361, 0.524024680064613, 1.44337567297406], [0.601193548220799, 0.577070846622951, 1.44337567297406], [0.550105633028186, 0.625961849440605, 1.44337567297406], [0.495056715485028, 0.670345651807797, 1.44337567297406], [0.436443171993767, 0.709902670839083, 1.44337567297406], [0.374687045830465, 0.744348078610594, 1.44337567297406], [0.310233008247707, 0.773433853046285, 1.44337567297406], [0.243545156646137, 0.796950563785893, 1.44337567297406], [0.175103672869181, 0.814728880175588, 1.44337567297406], [0.105401365682717, 0.826640790523104, 1.44337567297406], [0.034940122335353, 0.832600523838194, 1.44337567297406], [-0.0357727052503632, 0.832565167421455, 1.44337567297406], [-0.106227953634787, 0.826534975854628, 1.44337567297406], [-0.175918314061738, 0.814553369167497, 1.44337567297406], [-0.244341985304528, 0.79670662019459, 1.44337567297406], [-0.311006286855355, 0.773123233372849, 1.44337567297406], [-0.375431206441509, 0.743973019453204, 1.44337567297406], [-0.43715285632472, 0.709465872788524, 1.44337567297406], [-0.495726813496773, 0.669850260002024, 1.44337567297406], [-0.550731319720506, 0.625411430918363, 1.44337567297406], [-0.601770318374494, 0.576469364639531, 1.44337567297406], [-0.648476306234812, 0.523376465554669, 1.44337567297406], [-0.690512979659774, 0.466515025873577, 1.44337567297406], [-0.727577656123974, 0.406294472954763, 1.44337567297406], [-0.759403453665507, 0.34314842124851, 1.44337567297406], [-0.785761212553403, 0.277531550082239, 1.44337567297406], [-0.806461145338413, 0.209916329769505, 1.44337567297406], [-0.821354203406062, 0.140789619616069, 1.44337567297406], [-0.830333150192187, 0.0706491623189047, 1.44337567297406], [-0.833333333333333, -6.38094783154491e-16, 1.44337567297406], [-0.830333150192187, -0.070649162318906, 1.44337567297406], [-0.821354203406062, -0.140789619616071, 1.44337567297406], [-0.806461145338413, -0.209916329769506, 1.44337567297406], [-0.785761212553402, -0.27753155008224, 1.44337567297406], [-0.759403453665506, -0.343148421248511, 1.44337567297406], [-0.727577656123973, -0.406294472954764, 1.44337567297406], [-0.690512979659774, -0.466515025873578, 1.44337567297406], [-0.648476306234811, -0.52337646555467, 1.44337567297406], [-0.601770318374493, -0.576469364639532, 1.44337567297406], [-0.550731319720505, -0.625411430918364, 1.44337567297406], [-0.495726813496772, -0.669850260002025, 1.44337567297406], [-0.437152856324719, -0.709465872788525, 1.44337567297406], [-0.375431206441507, -0.743973019453205, 1.44337567297406], [-0.311006286855354, -0.77312323337285, 1.44337567297406], [-0.244341985304526, -0.79670662019459, 1.44337567297406], [-0.175918314061736, -0.814553369167497, 1.44337567297406], [-0.106227953634785, -0.826534975854628, 1.44337567297406], [-0.035772705250361, -0.832565167421455, 1.44337567297406], [0.0349401223353554, -0.832600523838194, 1.44337567297406], [0.105401365682719, -0.826640790523104, 1.44337567297406], [0.175103672869183, -0.814728880175587, 1.44337567297406], [0.24354515664614, -0.796950563785892, 1.44337567297406], [0.31023300824771, -0.773433853046284, 1.44337567297406], [0.374687045830468, -0.744348078610593, 1.44337567297406], [0.43644317199377, -0.709902670839081, 1.44337567297406], [0.495056715485031, -0.670345651807795, 1.44337567297406], [0.550105633028189, -0.625961849440602, 1.44337567297406], [0.601193548220802, -0.577070846622948, 1.44337567297406], [0.647952605618364, -0.52402468006461, 1.44337567297406], [0.690046119455195, -0.467205305480654, 1.44337567297406], [0.727170997929939, -0.4070218473424, 1.44337567297406], [0.759059925599756, -0.343907653001407, 1.44337567297406], [0.785483288169004, -0.278317172398064, 1.44337567297406], [0.806250825813091, -0.210722685822272, 1.44337567297406], [0.821213003132844, -0.141610903287774, 1.44337567297406], [0.830262085875103, -0.0714794600061251, 1.44337567297406], [0.833332916666701, -0.000833333194439013, 1.44337567297406]], &quot;color&quot;:&quot;red&quot;, &quot;opacity&quot;:1, &quot;linewidth&quot;:1},{&quot;points&quot;:[[1.44337495128629, 0.00144337543241146, 0.833333333333333], [1.43805611633379, 0.123806056428205, 0.833333333333333], [1.4223826452623, 0.245277279400157, 0.833333333333333], [1.39646739395264, 0.364982398151558, 0.833333333333333], [1.36049696360498, 0.482059483212361, 0.833333333333333], [1.31473035712823, 0.595665528110212, 0.833333333333333], [1.25949711420521, 0.704982519387587, 0.833333333333333], [1.19519493846214, 0.809223326658237, 0.833333333333333], [1.12228683382764, 0.907637370291936, 0.833333333333333], [1.04129777070103, 0.999516025917739, 0.833333333333333], [0.952810905934658, 1.08419772683091, 0.833333333333333], [0.857463383848238, 1.16107272756398, 0.833333333333333], [0.755941748509727, 1.22958749432214, 0.833333333333333], [0.648977000316253, 1.28924869066982, 0.833333333333333], [0.537339332469963, 1.33962672976993, 0.833333333333333], [0.42183258524843, 1.38035886759783, 0.833333333333333], [0.303288458001341, 1.41115181485781, 0.833333333333333], [0.182560520549612, 1.43178384879492, 0.833333333333333], [0.0605180671075035, 1.44210640969621, 0.833333333333333], [-0.061960143017815, 1.44204517058605, 0.833333333333333], [-0.183992212879521, 1.43160057241293, 0.833333333333333], [-0.304699457936788, 1.41084782087451, 0.833333333333333], [-0.42321273296969, 1.37993634490351, 0.833333333333333], [-0.538678690306815, 1.3390887207137, 0.833333333333333], [-0.650265924303573, 1.28859906915338, 0.833333333333333], [-0.757170957828273, 1.22883093790592, 0.833333333333333], [-0.858624027650633, 1.16021468378673, 0.833333333333333], [-0.953894627075375, 1.08324437398496, 0.833333333333333], [-1.04229676591152, 0.998474228562617, 0.833333333333333], [-1.12319390990329, 0.90651462982651, 0.833333333333333], [-1.1960035640565, 0.808027727307345, 0.833333333333333], [-1.2602014668586, 0.703722669992068, 0.833333333333333], [-1.31532536519194, 0.594350500139466, 0.833333333333333], [-1.36097834275942, 0.480698745445784, 0.833333333333333], [-1.39683167805632, 0.363585748499166, 0.833333333333333], [-1.42262721130956, 0.243854774353328, 0.833333333333333], [-1.43817920334159, 0.122367938648524, 0.833333333333333], [-1.44337567297406, -1.10521258446822e-15, 0.833333333333333], [-1.43817920334159, -0.122367938648526, 0.833333333333333], [-1.42262721130956, -0.24385477435333, 0.833333333333333], [-1.39683167805632, -0.363585748499168, 0.833333333333333], [-1.36097834275942, -0.480698745445786, 0.833333333333333], [-1.31532536519193, -0.594350500139468, 0.833333333333333], [-1.2602014668586, -0.70372266999207, 0.833333333333333], [-1.1960035640565, -0.808027727307346, 0.833333333333333], [-1.12319390990329, -0.906514629826512, 0.833333333333333], [-1.04229676591152, -0.998474228562618, 0.833333333333333], [-0.953894627075374, -1.08324437398496, 0.833333333333333], [-0.858624027650631, -1.16021468378673, 0.833333333333333], [-0.757170957828271, -1.22883093790592, 0.833333333333333], [-0.650265924303571, -1.28859906915338, 0.833333333333333], [-0.538678690306813, -1.33908872071371, 0.833333333333333], [-0.423212732969688, -1.37993634490351, 0.833333333333333], [-0.304699457936785, -1.41084782087451, 0.833333333333333], [-0.183992212879518, -1.43160057241293, 0.833333333333333], [-0.0619601430178112, -1.44204517058605, 0.833333333333333], [0.0605180671075076, -1.44210640969621, 0.833333333333333], [0.182560520549617, -1.43178384879492, 0.833333333333333], [0.303288458001346, -1.41115181485781, 0.833333333333333], [0.421832585248435, -1.38035886759783, 0.833333333333333], [0.537339332469968, -1.33962672976992, 0.833333333333333], [0.648977000316258, -1.28924869066982, 0.833333333333333], [0.755941748509732, -1.22958749432213, 0.833333333333333], [0.857463383848243, -1.16107272756398, 0.833333333333333], [0.952810905934664, -1.0841977268309, 0.833333333333333], [1.04129777070104, -0.999516025917734, 0.833333333333333], [1.12228683382765, -0.907637370291931, 0.833333333333333], [1.19519493846214, -0.80922332665823, 0.833333333333333], [1.25949711420522, -0.70498251938758, 0.833333333333333], [1.31473035712823, -0.595665528110204, 0.833333333333333], [1.36049696360498, -0.482059483212353, 0.833333333333333], [1.39646739395264, -0.36498239815155, 0.833333333333333], [1.42238264526231, -0.245277279400148, 0.833333333333333], [1.43805611633379, -0.123806056428196, 0.833333333333333], [1.44337495128629, -0.00144337543240204, 0.833333333333333]], &quot;color&quot;:&quot;red&quot;, &quot;opacity&quot;:1, &quot;linewidth&quot;:1},{&quot;points&quot;:[[1.6666658333334, 0.0016666663888889, 1.02053899928946e-16], [1.66052417175021, 0.142958920012261, 1.02053899928946e-16], [1.64242600626569, 0.283221806575559, 1.02053899928946e-16], [1.61250165162618, 0.421445371644555, 1.02053899928946e-16], [1.570966576338, 0.556634344796137, 1.02053899928946e-16], [1.51811985119951, 0.687815306002823, 1.02053899928946e-16], [1.45434199585987, 0.814043694684808, 1.02053899928946e-16], [1.38009223891039, 0.934410610961315, 1.02053899928946e-16], [1.29590521123672, 1.04804936012923, 1.02053899928946e-16], [1.2023870964416, 1.1541416932459, 1.02053899928946e-16], [1.10021126605637, 1.25192369888121, 1.02053899928946e-16], [0.990113430970056, 1.34069130361559, 1.02053899928946e-16], [0.872886343987534, 1.41980534167817, 1.02053899928946e-16], [0.749374091660929, 1.48869615722119, 1.02053899928946e-16], [0.620466016495414, 1.54686770609257, 1.02053899928946e-16], [0.487090313292274, 1.59390112757179, 1.02053899928946e-16], [0.350207345738361, 1.62945776035118, 1.02053899928946e-16], [0.210802731365434, 1.65328158104621, 1.02053899928946e-16], [0.0698802446707059, 1.66520104767639, 1.02053899928946e-16], [-0.0715454105007264, 1.66513033484291, 1.02053899928946e-16], [-0.212455907269573, 1.65306995170926, 1.02053899928946e-16], [-0.351836628123475, 1.62910673833499, 1.02053899928946e-16], [-0.488683970609056, 1.59341324038918, 1.02053899928946e-16], [-0.62201257371071, 1.5462464667457, 1.02053899928946e-16], [-0.750862412883017, 1.48794603890641, 1.02053899928946e-16], [-0.87430571264944, 1.41893174557705, 1.02053899928946e-16], [-0.991453626993547, 1.33970052000405, 1.02053899928946e-16], [-1.10146263944101, 1.25082286183673, 1.02053899928946e-16], [-1.20354063674899, 1.15293872927906, 1.02053899928946e-16], [-1.29695261246962, 1.04675293110934, 1.02053899928946e-16], [-1.38102595931955, 0.933030051747154, 1.02053899928946e-16], [-1.45515531224795, 0.812588945909526, 1.02053899928946e-16], [-1.51880690733101, 0.686296842497019, 1.02053899928946e-16], [-1.57152242510681, 0.555063100164477, 1.02053899928946e-16], [-1.61292229067683, 0.41983265953901, 1.02053899928946e-16], [-1.64270840681212, 0.281579239232139, 1.02053899928946e-16], [-1.66066630038437, 0.141298324637809, 1.02053899928946e-16], [-1.66666666666667, -1.27618956630898e-15, 1.02053899928946e-16], [-1.66066630038437, -0.141298324637812, 1.02053899928946e-16], [-1.64270840681212, -0.281579239232141, 1.02053899928946e-16], [-1.61292229067683, -0.419832659539012, 1.02053899928946e-16], [-1.57152242510681, -0.55506310016448, 1.02053899928946e-16], [-1.51880690733101, -0.686296842497022, 1.02053899928946e-16], [-1.45515531224795, -0.812588945909528, 1.02053899928946e-16], [-1.38102595931955, -0.933030051747156, 1.02053899928946e-16], [-1.29695261246962, -1.04675293110934, 1.02053899928946e-16], [-1.20354063674899, -1.15293872927906, 1.02053899928946e-16], [-1.10146263944101, -1.25082286183673, 1.02053899928946e-16], [-0.991453626993545, -1.33970052000405, 1.02053899928946e-16], [-0.874305712649438, -1.41893174557705, 1.02053899928946e-16], [-0.750862412883015, -1.48794603890641, 1.02053899928946e-16], [-0.622012573710707, -1.5462464667457, 1.02053899928946e-16], [-0.488683970609053, -1.59341324038918, 1.02053899928946e-16], [-0.351836628123472, -1.62910673833499, 1.02053899928946e-16], [-0.212455907269569, -1.65306995170926, 1.02053899928946e-16], [-0.071545410500722, -1.66513033484291, 1.02053899928946e-16], [0.0698802446707107, -1.66520104767639, 1.02053899928946e-16], [0.210802731365439, -1.65328158104621, 1.02053899928946e-16], [0.350207345738367, -1.62945776035117, 1.02053899928946e-16], [0.487090313292279, -1.59390112757178, 1.02053899928946e-16], [0.62046601649542, -1.54686770609257, 1.02053899928946e-16], [0.749374091660935, -1.48869615722119, 1.02053899928946e-16], [0.87288634398754, -1.41980534167816, 1.02053899928946e-16], [0.990113430970062, -1.34069130361559, 1.02053899928946e-16], [1.10021126605638, -1.25192369888121, 1.02053899928946e-16], [1.2023870964416, -1.1541416932459, 1.02053899928946e-16], [1.29590521123673, -1.04804936012922, 1.02053899928946e-16], [1.38009223891039, -0.934410610961307, 1.02053899928946e-16], [1.45434199585988, -0.8140436946848, 1.02053899928946e-16], [1.51811985119951, -0.687815306002814, 1.02053899928946e-16], [1.57096657633801, -0.556634344796128, 1.02053899928946e-16], [1.61250165162618, -0.421445371644545, 1.02053899928946e-16], [1.64242600626569, -0.283221806575549, 1.02053899928946e-16], [1.66052417175021, -0.14295892001225, 1.02053899928946e-16], [1.6666658333334, -0.00166666638887803, 1.02053899928946e-16]], &quot;color&quot;:&quot;red&quot;, &quot;opacity&quot;:1, &quot;linewidth&quot;:1},{&quot;points&quot;:[[0.0, 0.0, 2.0], [0.0, 0.0, 2.0], [0.0, 0.0, 2.0], [0.0, 0.0, 2.0], [0.0, 0.0, 2.0], [0.0, 0.0, 2.0], [0.0, 0.0, 2.0], [0.0, 0.0, 2.0], [0.0, 0.0, 2.0], [0.0, 0.0, 2.0], [0.0, 0.0, 2.0], [0.0, 0.0, 2.0], [0.0, 0.0, 2.0], [0.0, 0.0, 2.0], [0.0, 0.0, 2.0], [0.0, 0.0, 2.0], [0.0, 0.0, 2.0], [0.0, 0.0, 2.0], [0.0, 0.0, 2.0], [0.0, 0.0, 2.0], [0.0, 0.0, 2.0], [0.0, 0.0, 2.0], [0.0, 0.0, 2.0], [0.0, 0.0, 2.0], [0.0, 0.0, 2.0], [0.0, 0.0, 2.0], [0.0, 0.0, 2.0], [0.0, 0.0, 2.0], [0.0, 0.0, 2.0], [0.0, 0.0, 2.0], [0.0, 0.0, 2.0], [0.0, 0.0, 2.0], [0.0, 0.0, 2.0], [0.0, 0.0, 2.0], [0.0, 0.0, 2.0], [0.0, 0.0, 2.0], [0.0, 0.0, 2.0], [0.0, 0.0, 2.0], [0.0, 0.0, 2.0], [0.0, 0.0, 2.0], [0.0, 0.0, 2.0], [0.0, 0.0, 2.0], [0.0, 0.0, 2.0], [0.0, 0.0, 2.0], [0.0, 0.0, 2.0], [0.0, 0.0, 2.0], [0.0, 0.0, 2.0], [0.0, 0.0, 2.0], [0.0, 0.0, 2.0], [0.0, 0.0, 2.0], [0.0, 0.0, 2.0], [0.0, 0.0, 2.0], [0.0, 0.0, 2.0], [0.0, 0.0, 2.0], [0.0, 0.0, 2.0], [0.0, 0.0, 2.0], [0.0, 0.0, 2.0], [0.0, 0.0, 2.0], [0.0, 0.0, 2.0], [0.0, 0.0, 2.0], [0.0, 0.0, 2.0], [0.0, 0.0, 2.0], [0.0, 0.0, 2.0], [0.0, 0.0, 2.0], [0.0, 0.0, 2.0], [0.0, 0.0, 2.0], [0.0, 0.0, 2.0], [0.0, 0.0, 2.0], [0.0, 0.0, 2.0], [0.0, 0.0, 2.0], [0.0, 0.0, 2.0], [0.0, 0.0, 2.0], [0.0, 0.0, 2.0], [0.0, 0.0, 2.0], [0.0, 0.0, 2.0]], &quot;color&quot;:&quot;red&quot;, &quot;opacity&quot;:1, &quot;linewidth&quot;:1},{&quot;points&quot;:[[0.999999500000041, 0.000999999833333341, 1.73205080756888], [0.996314503050123, 0.0857753520073564, 1.73205080756888], [0.985455603759412, 0.169933083945335, 1.73205080756888], [0.967500990975708, 0.252867222986733, 1.73205080756888], [0.942579945802803, 0.333980606877682, 1.73205080756888], [0.910871910719705, 0.412689183601694, 1.73205080756888], [0.872605197515925, 0.488426216810885, 1.73205080756888], [0.828055343346231, 0.560646366576789, 1.73205080756888], [0.777543126742034, 0.628829616077536, 1.73205080756888], [0.721432257864959, 0.692485015947542, 1.73205080756888], [0.660126759633823, 0.751154219328726, 1.73205080756888], [0.594068058582033, 0.804414782169356, 1.73205080756888], [0.52373180639252, 0.851883205006899, 1.73205080756888], [0.449624454996557, 0.893217694332713, 1.73205080756888], [0.372279609897248, 0.928120623655542, 1.73205080756888], [0.292254187975364, 0.956340676543072, 1.73205080756888], [0.210124407443017, 0.977674656210705, 1.73205080756888], [0.12648163881926, 0.991968948627725, 1.73205080756888], [0.0419281468024236, 0.999120628605833, 1.73205080756888], [-0.0429272463004359, 0.999078200905746, 1.73205080756888], [-0.127473544361744, 0.991841971025553, 1.73205080756888], [-0.211101976874085, 0.977464043000996, 1.73205080756888], [-0.293210382365434, 0.956047944233507, 1.73205080756888], [-0.373207544226426, 0.927747880047419, 1.73205080756888], [-0.45051744772981, 0.892767623343845, 1.73205080756888], [-0.524583427589664, 0.851359047346229, 1.73205080756888], [-0.594872176196128, 0.803820312002429, 1.73205080756888], [-0.660877583664607, 0.750493717102036, 1.73205080756888], [-0.722124382049393, 0.691763237567437, 1.73205080756888], [-0.778171567481775, 0.628051758665603, 1.73205080756888], [-0.828615575591729, 0.559818031048292, 1.73205080756888], [-0.873093187348769, 0.487553367545715, 1.73205080756888], [-0.911284144398608, 0.411778105498211, 1.73205080756888], [-0.942913455064083, 0.333037860098686, 1.73205080756888], [-0.967753374406095, 0.251899595723406, 1.73205080756888], [-0.985625044087274, 0.168947543539283, 1.73205080756888], [-0.996399780230625, 0.0847789947826857, 1.73205080756888], [-1.0, -7.6571373978539e-16, 1.73205080756888], [-0.996399780230624, -0.0847789947826872, 1.73205080756888], [-0.985625044087274, -0.168947543539285, 1.73205080756888], [-0.967753374406095, -0.251899595723407, 1.73205080756888], [-0.942913455064083, -0.333037860098688, 1.73205080756888], [-0.911284144398607, -0.411778105498213, 1.73205080756888], [-0.873093187348768, -0.487553367545717, 1.73205080756888], [-0.828615575591728, -0.559818031048293, 1.73205080756888], [-0.778171567481774, -0.628051758665604, 1.73205080756888], [-0.722124382049392, -0.691763237567438, 1.73205080756888], [-0.660877583664605, -0.750493717102037, 1.73205080756888], [-0.594872176196127, -0.80382031200243, 1.73205080756888], [-0.524583427589663, -0.85135904734623, 1.73205080756888], [-0.450517447729809, -0.892767623343846, 1.73205080756888], [-0.373207544226424, -0.927747880047419, 1.73205080756888], [-0.293210382365432, -0.956047944233508, 1.73205080756888], [-0.211101976874083, -0.977464043000996, 1.73205080756888], [-0.127473544361741, -0.991841971025553, 1.73205080756888], [-0.0429272463004332, -0.999078200905746, 1.73205080756888], [0.0419281468024264, -0.999120628605832, 1.73205080756888], [0.126481638819263, -0.991968948627724, 1.73205080756888], [0.21012440744302, -0.977674656210704, 1.73205080756888], [0.292254187975367, -0.956340676543071, 1.73205080756888], [0.372279609897252, -0.928120623655541, 1.73205080756888], [0.449624454996561, -0.893217694332711, 1.73205080756888], [0.523731806392524, -0.851883205006897, 1.73205080756888], [0.594068058582037, -0.804414782169354, 1.73205080756888], [0.660126759633827, -0.751154219328723, 1.73205080756888], [0.721432257864962, -0.692485015947538, 1.73205080756888], [0.777543126742037, -0.628829616077532, 1.73205080756888], [0.828055343346234, -0.560646366576784, 1.73205080756888], [0.872605197515927, -0.48842621681088, 1.73205080756888], [0.910871910719708, -0.412689183601689, 1.73205080756888], [0.942579945802805, -0.333980606877677, 1.73205080756888], [0.96750099097571, -0.252867222986727, 1.73205080756888], [0.985455603759413, -0.169933083945329, 1.73205080756888], [0.996314503050124, -0.0857753520073501, 1.73205080756888], [0.999999500000041, -0.000999999833326815, 1.73205080756888]], &quot;color&quot;:&quot;red&quot;, &quot;opacity&quot;:1, &quot;linewidth&quot;:1},{&quot;points&quot;:[[1.73204994154355, 0.00173205051889376, 1.0], [1.72566733960055, 0.148567267713846, 1.0], [1.70685917431477, 0.294332735280188, 1.0], [1.67576087274316, 0.43797887778187, 1.0], [1.63259635632597, 0.578471379854833, 1.0], [1.57767642855387, 0.714798633732254, 1.0], [1.51139653704626, 0.845979023265105, 1.0], [1.43423392615456, 0.971067991989884, 1.0], [1.34674420059317, 1.08916484435032, 1.0], [1.24955732484124, 1.19941923110129, 1.0], [1.14337308712159, 1.30103727219709, 1.0], [1.02895606061789, 1.39328727307678, 1.0], [0.907130098211672, 1.47550499318656, 1.0], [0.778772400379504, 1.54709842880379, 1.0], [0.644807198963955, 1.60755207572391, 1.0], [0.506199102298116, 1.65643064111739, 1.0], [0.363946149601609, 1.69338217782938, 1.0], [0.219072624659535, 1.7181406185539, 1.0], [0.0726216805290042, 1.73052769163546, 1.0], [-0.074352171621378, 1.73045420470326, 1.0], [-0.220790655455426, 1.71792068689552, 1.0], [-0.365639349524145, 1.69301738504942, 1.0], [-0.507855279563629, 1.65592361388421, 1.0], [-0.646414428368178, 1.60690646485645, 1.0], [-0.780319109164287, 1.54631888298405, 1.0], [-0.908605149393927, 1.47459712548711, 1.0], [-1.03034883318076, 1.39225762054407, 1.0], [-1.14467355249045, 1.29989324878195, 1.0], [-1.25075611909383, 1.19816907427514, 1.0], [-1.34783269188395, 1.08781755579181, 1.0], [-1.4352042768678, 0.969633272768813, 1.0], [-1.51224176023032, 0.844467203990482, 1.0], [-1.57839043823032, 0.71322060016736, 1.0], [-1.63317401131131, 0.576838494534941, 1.0], [-1.67619801366758, 0.436302898198999, 1.0], [-1.70715265357147, 0.292625729223994, 1.0], [-1.72581504400991, 0.146841526378228, 1.0], [-1.73205080756888, -1.32625510136187e-15, 1.0], [-1.72581504400991, -0.146841526378231, 1.0], [-1.70715265357147, -0.292625729223996, 1.0], [-1.67619801366758, -0.436302898199002, 1.0], [-1.63317401131131, -0.576838494534943, 1.0], [-1.57839043823032, -0.713220600167362, 1.0], [-1.51224176023032, -0.844467203990484, 1.0], [-1.4352042768678, -0.969633272768815, 1.0], [-1.34783269188395, -1.08781755579181, 1.0], [-1.25075611909383, -1.19816907427514, 1.0], [-1.14467355249045, -1.29989324878195, 1.0], [-1.03034883318076, -1.39225762054408, 1.0], [-0.908605149393925, -1.47459712548711, 1.0], [-0.780319109164285, -1.54631888298406, 1.0], [-0.646414428368176, -1.60690646485645, 1.0], [-0.507855279563625, -1.65592361388421, 1.0], [-0.365639349524142, -1.69301738504942, 1.0], [-0.220790655455421, -1.71792068689552, 1.0], [-0.0743521716213735, -1.73045420470326, 1.0], [0.0726216805290091, -1.73052769163546, 1.0], [0.21907262465954, -1.7181406185539, 1.0], [0.363946149601615, -1.69338217782938, 1.0], [0.506199102298122, -1.65643064111739, 1.0], [0.644807198963961, -1.60755207572391, 1.0], [0.77877240037951, -1.54709842880378, 1.0], [0.907130098211678, -1.47550499318656, 1.0], [1.02895606061789, -1.39328727307677, 1.0], [1.1433730871216, -1.30103727219708, 1.0], [1.24955732484125, -1.19941923110128, 1.0], [1.34674420059317, -1.08916484435032, 1.0], [1.43423392615457, -0.971067991989876, 1.0], [1.51139653704626, -0.845979023265097, 1.0], [1.57767642855388, -0.714798633732245, 1.0], [1.63259635632598, -0.578471379854824, 1.0], [1.67576087274317, -0.43797887778186, 1.0], [1.70685917431477, -0.294332735280178, 1.0], [1.72566733960055, -0.148567267713835, 1.0], [1.73204994154355, -0.00173205051888245, 1.0]], &quot;color&quot;:&quot;red&quot;, &quot;opacity&quot;:1, &quot;linewidth&quot;:1},{&quot;points&quot;:[[1.99999900000008, 0.00199999966666668, 1.22464679914735e-16], [1.99262900610025, 0.171550704014713, 1.22464679914735e-16], [1.97091120751882, 0.339866167890671, 1.22464679914735e-16], [1.93500198195142, 0.505734445973465, 1.22464679914735e-16], [1.88515989160561, 0.667961213755364, 1.22464679914735e-16], [1.82174382143941, 0.825378367203388, 1.22464679914735e-16], [1.74521039503185, 0.97685243362177, 1.22464679914735e-16], [1.65611068669246, 1.12129273315358, 1.22464679914735e-16], [1.55508625348407, 1.25765923215507, 1.22464679914735e-16], [1.44286451572992, 1.38497003189508, 1.22464679914735e-16], [1.32025351926765, 1.50230843865745, 1.22464679914735e-16], [1.18813611716407, 1.60882956433871, 1.22464679914735e-16], [1.04746361278504, 1.7037664100138, 1.22464679914735e-16], [0.899248909993115, 1.78643538866543, 1.22464679914735e-16], [0.744559219794496, 1.85624124731108, 1.22464679914735e-16], [0.584508375950728, 1.91268135308614, 1.22464679914735e-16], [0.420248814886034, 1.95534931242141, 1.22464679914735e-16], [0.252963277638521, 1.98393789725545, 1.22464679914735e-16], [0.0838562936048471, 1.99824125721167, 1.22464679914735e-16], [-0.0858544926008717, 1.99815640181149, 1.22464679914735e-16], [-0.254947088723488, 1.98368394205111, 1.22464679914735e-16], [-0.42220395374817, 1.95492808600199, 1.22464679914735e-16], [-0.586420764730867, 1.91209588846702, 1.22464679914735e-16], [-0.746415088452852, 1.85549576009484, 1.22464679914735e-16], [-0.901034895459621, 1.78553524668769, 1.22464679914735e-16], [-1.04916685517933, 1.70271809469246, 1.22464679914735e-16], [-1.18974435239226, 1.60764062400486, 1.22464679914735e-16], [-1.32175516732921, 1.50098743420407, 1.22464679914735e-16], [-1.44424876409879, 1.38352647513487, 1.22464679914735e-16], [-1.55634313496355, 1.25610351733121, 1.22464679914735e-16], [-1.65723115118346, 1.11963606209658, 1.22464679914735e-16], [-1.74618637469754, 0.975106735091431, 1.22464679914735e-16], [-1.82256828879722, 0.823556210996423, 1.22464679914735e-16], [-1.88582691012817, 0.666075720197373, 1.22464679914735e-16], [-1.93550674881219, 0.503799191446812, 1.22464679914735e-16], [-1.97125008817455, 0.337895087078567, 1.22464679914735e-16], [-1.99279956046125, 0.169557989565371, 1.22464679914735e-16], [-2.0, -1.53142747957078e-15, 1.22464679914735e-16], [-1.99279956046125, -0.169557989565374, 1.22464679914735e-16], [-1.97125008817455, -0.33789508707857, 1.22464679914735e-16], [-1.93550674881219, -0.503799191446815, 1.22464679914735e-16], [-1.88582691012817, -0.666075720197376, 1.22464679914735e-16], [-1.82256828879722, -0.823556210996426, 1.22464679914735e-16], [-1.74618637469754, -0.975106735091434, 1.22464679914735e-16], [-1.65723115118346, -1.11963606209659, 1.22464679914735e-16], [-1.55634313496355, -1.25610351733121, 1.22464679914735e-16], [-1.44424876409878, -1.38352647513488, 1.22464679914735e-16], [-1.32175516732921, -1.50098743420407, 1.22464679914735e-16], [-1.18974435239225, -1.60764062400486, 1.22464679914735e-16], [-1.04916685517933, -1.70271809469246, 1.22464679914735e-16], [-0.901034895459618, -1.78553524668769, 1.22464679914735e-16], [-0.746415088452849, -1.85549576009484, 1.22464679914735e-16], [-0.586420764730863, -1.91209588846702, 1.22464679914735e-16], [-0.422203953748166, -1.95492808600199, 1.22464679914735e-16], [-0.254947088723483, -1.98368394205111, 1.22464679914735e-16], [-0.0858544926008664, -1.99815640181149, 1.22464679914735e-16], [0.0838562936048528, -1.99824125721167, 1.22464679914735e-16], [0.252963277638527, -1.98393789725545, 1.22464679914735e-16], [0.42024881488604, -1.95534931242141, 1.22464679914735e-16], [0.584508375950735, -1.91268135308614, 1.22464679914735e-16], [0.744559219794503, -1.85624124731108, 1.22464679914735e-16], [0.899248909993122, -1.78643538866542, 1.22464679914735e-16], [1.04746361278505, -1.70376641001379, 1.22464679914735e-16], [1.18813611716407, -1.60882956433871, 1.22464679914735e-16], [1.32025351926765, -1.50230843865745, 1.22464679914735e-16], [1.44286451572992, -1.38497003189508, 1.22464679914735e-16], [1.55508625348407, -1.25765923215506, 1.22464679914735e-16], [1.65611068669247, -1.12129273315357, 1.22464679914735e-16], [1.74521039503185, -0.97685243362176, 1.22464679914735e-16], [1.82174382143942, -0.825378367203377, 1.22464679914735e-16], [1.88515989160561, -0.667961213755353, 1.22464679914735e-16], [1.93500198195142, -0.505734445973454, 1.22464679914735e-16], [1.97091120751883, -0.339866167890659, 1.22464679914735e-16], [1.99262900610025, -0.1715507040147, 1.22464679914735e-16], [1.99999900000008, -0.00199999966665363, 1.22464679914735e-16]], &quot;color&quot;:&quot;red&quot;, &quot;opacity&quot;:1, &quot;linewidth&quot;:1}];\n",
       "    for ( var i=0 ; i < lines.length ; i++ ) addLine( lines[i] );\n",
       "\n",
       "    function addLine( json ) {\n",
       "        var geometry = new THREE.Geometry();\n",
       "        for ( var i=0 ; i < json.points.length - 1 ; i++ ) {\n",
       "            var v = json.points[i];\n",
       "            geometry.vertices.push( new THREE.Vector3( a[0]*v[0], a[1]*v[1], a[2]*v[2] ) );\n",
       "            var v = json.points[i+1];\n",
       "            geometry.vertices.push( new THREE.Vector3( a[0]*v[0], a[1]*v[1], a[2]*v[2] ) );\n",
       "        }\n",
       "\n",
       "        var transparent = json.opacity < 1 ? true : false;\n",
       "        var material = new THREE.LineBasicMaterial( { color: json.color, linewidth: json.linewidth,\n",
       "                                                      transparent: transparent, opacity: json.opacity } );\n",
       "\n",
       "        var c = geometry.center().multiplyScalar( -1 );\n",
       "        var mesh = new THREE.LineSegments( geometry, material );\n",
       "        mesh.position.set( c.x, c.y, c.z );\n",
       "        scene.add( mesh );\n",
       "    }\n",
       "\n",
       "    var surfaces = [];\n",
       "    for ( var i=0 ; i < surfaces.length ; i++ ) addSurface( surfaces[i] );\n",
       "\n",
       "    function addSurface( json ) {\n",
       "        var geometry = new THREE.Geometry();\n",
       "        for ( var i=0 ; i < json.vertices.length ; i++ ) {\n",
       "            var v = json.vertices[i];\n",
       "            geometry.vertices.push( new THREE.Vector3( a[0]*v.x, a[1]*v.y, a[2]*v.z ) );\n",
       "        }\n",
       "        for ( var i=0 ; i < json.faces.length ; i++ ) {\n",
       "            var f = json.faces[i];\n",
       "            for ( var j=0 ; j < f.length - 2 ; j++ ) {\n",
       "                geometry.faces.push( new THREE.Face3( f[0], f[j+1], f[j+2] ) );\n",
       "            }\n",
       "        }\n",
       "        geometry.computeVertexNormals();\n",
       "\n",
       "        var transparent = json.opacity < 1 ? true : false;\n",
       "        var material = new THREE.MeshPhongMaterial( {\n",
       "                                     color: json.color, side: THREE.DoubleSide,\n",
       "                                     transparent: transparent, opacity: json.opacity,\n",
       "                                     shininess: 20 } );\n",
       "\n",
       "        var c = geometry.center().multiplyScalar( -1 );\n",
       "        var mesh = new THREE.Mesh( geometry, material );\n",
       "        mesh.position.set( c.x, c.y, c.z );\n",
       "        scene.add( mesh );\n",
       "    }\n",
       "\n",
       "    var scratch = new THREE.Vector3();\n",
       "\n",
       "    function render() {\n",
       "\n",
       "        if ( animate ) requestAnimationFrame( render );\n",
       "        renderer.render( scene, camera );\n",
       "\n",
       "        for ( var i=0 ; i < scene.children.length ; i++ ) {\n",
       "            if ( scene.children[i].type === 'Sprite' ) {\n",
       "                var sprite = scene.children[i];\n",
       "                var adjust = scratch.addVectors( sprite.position, scene.position )\n",
       "                               .sub( camera.position ).length() / 5;\n",
       "                sprite.scale.set( adjust, .25*adjust ); // ratio of canvas width to height\n",
       "            }\n",
       "        }\n",
       "    }\n",
       "    \n",
       "    render();\n",
       "    controls.update();\n",
       "    if ( !animate ) render();\n",
       "\n",
       "</script>\n",
       "\n",
       "</body>\n",
       "</html>\" \n",
       "        width=\"100%\"\n",
       "        height=\"400\"\n",
       "        style=\"border: 0;\">\n",
       "</iframe>\n"
      ],
      "text/plain": [
       "Graphics3d Object"
      ]
     },
     "metadata": {},
     "output_type": "display_data"
    }
   ],
   "source": [
    "graph = Y.plot(X, ranges={r:(1,2), th:(0,pi/2)}, number_values=4, \n",
    "               color={r:'blue', th:'green', ph:'red'})\n",
    "show(graph, aspect_ratio=1, viewer=viewer3D)"
   ]
  },
  {
   "cell_type": "markdown",
   "metadata": {
    "deletable": true,
    "editable": true
   },
   "source": [
    "<p>Conversly, the chart $X|_{U}$ can be plotted in terms of the chart $Y$ (this is not possible for the whole chart $X$ since its domain is larger than that of chart $Y$):</p>"
   ]
  },
  {
   "cell_type": "code",
   "execution_count": 52,
   "metadata": {
    "collapsed": false,
    "deletable": true,
    "editable": true
   },
   "outputs": [],
   "source": [
    "#graph = X_U.plot(Y)\n",
    "#show(graph, viewer=viewer3D, axes_labels=['r','theta','phi'])"
   ]
  },
  {
   "cell_type": "markdown",
   "metadata": {
    "deletable": true,
    "editable": true
   },
   "source": [
    "<h2>Points on the manifold</h2>\n",
    "<p>A point on $\\mathcal{M}$ is defined by its coordinates in a given chart:</p>"
   ]
  },
  {
   "cell_type": "code",
   "execution_count": 53,
   "metadata": {
    "collapsed": false,
    "deletable": true,
    "editable": true
   },
   "outputs": [
    {
     "name": "stdout",
     "output_type": "stream",
     "text": [
      "Point p on the 3-dimensional differentiable manifold M\n"
     ]
    },
    {
     "data": {
      "text/html": [
       "<html><script type=\"math/tex; mode=display\">\\newcommand{\\Bold}[1]{\\mathbf{#1}}p</script></html>"
      ],
      "text/plain": [
       "Point p on the 3-dimensional differentiable manifold M"
      ]
     },
     "execution_count": 53,
     "metadata": {},
     "output_type": "execute_result"
    }
   ],
   "source": [
    "p = M.point((1,2,-1), chart=X, name='p') ; print(p) ; p"
   ]
  },
  {
   "cell_type": "markdown",
   "metadata": {
    "deletable": true,
    "editable": true
   },
   "source": [
    "<p>Since $X=(\\mathcal{M}, (x,y,z))$ is the manifold's default chart, its name can be omitted:</p>"
   ]
  },
  {
   "cell_type": "code",
   "execution_count": 54,
   "metadata": {
    "collapsed": false,
    "deletable": true,
    "editable": true
   },
   "outputs": [
    {
     "name": "stdout",
     "output_type": "stream",
     "text": [
      "Point p on the 3-dimensional differentiable manifold M\n"
     ]
    },
    {
     "data": {
      "text/html": [
       "<html><script type=\"math/tex; mode=display\">\\newcommand{\\Bold}[1]{\\mathbf{#1}}p</script></html>"
      ],
      "text/plain": [
       "Point p on the 3-dimensional differentiable manifold M"
      ]
     },
     "execution_count": 54,
     "metadata": {},
     "output_type": "execute_result"
    }
   ],
   "source": [
    "p = M.point((1,2,-1), name='p') ; print(p) ; p"
   ]
  },
  {
   "cell_type": "markdown",
   "metadata": {
    "deletable": true,
    "editable": true
   },
   "source": [
    "<p>Of course, $p$ belongs to $\\mathcal{M}$:</p>"
   ]
  },
  {
   "cell_type": "code",
   "execution_count": 55,
   "metadata": {
    "collapsed": false,
    "deletable": true,
    "editable": true
   },
   "outputs": [
    {
     "data": {
      "text/html": [
       "<html><script type=\"math/tex; mode=display\">\\newcommand{\\Bold}[1]{\\mathbf{#1}}\\mathrm{True}</script></html>"
      ],
      "text/plain": [
       "True"
      ]
     },
     "execution_count": 55,
     "metadata": {},
     "output_type": "execute_result"
    }
   ],
   "source": [
    "p in M"
   ]
  },
  {
   "cell_type": "markdown",
   "metadata": {
    "deletable": true,
    "editable": true
   },
   "source": [
    "<p>It is also in $U$:</p>"
   ]
  },
  {
   "cell_type": "code",
   "execution_count": 56,
   "metadata": {
    "collapsed": false,
    "deletable": true,
    "editable": true
   },
   "outputs": [
    {
     "data": {
      "text/html": [
       "<html><script type=\"math/tex; mode=display\">\\newcommand{\\Bold}[1]{\\mathbf{#1}}\\mathrm{True}</script></html>"
      ],
      "text/plain": [
       "True"
      ]
     },
     "execution_count": 56,
     "metadata": {},
     "output_type": "execute_result"
    }
   ],
   "source": [
    "p in U"
   ]
  },
  {
   "cell_type": "markdown",
   "metadata": {
    "deletable": true,
    "editable": true
   },
   "source": [
    "<p>Indeed the coordinates of $p$ have $y\\not=0$:</p>"
   ]
  },
  {
   "cell_type": "code",
   "execution_count": 57,
   "metadata": {
    "collapsed": false,
    "deletable": true,
    "editable": true
   },
   "outputs": [
    {
     "data": {
      "text/html": [
       "<html><script type=\"math/tex; mode=display\">\\newcommand{\\Bold}[1]{\\mathbf{#1}}\\left(1, 2, -1\\right)</script></html>"
      ],
      "text/plain": [
       "(1, 2, -1)"
      ]
     },
     "execution_count": 57,
     "metadata": {},
     "output_type": "execute_result"
    }
   ],
   "source": [
    "p.coord(X)"
   ]
  },
  {
   "cell_type": "markdown",
   "metadata": {
    "deletable": true,
    "editable": true
   },
   "source": [
    "<p>Note in passing that since $X$ is the default chart on $\\mathcal{M}$, its name can be omitted in the arguments of coord():</p>"
   ]
  },
  {
   "cell_type": "code",
   "execution_count": 58,
   "metadata": {
    "collapsed": false,
    "deletable": true,
    "editable": true
   },
   "outputs": [
    {
     "data": {
      "text/html": [
       "<html><script type=\"math/tex; mode=display\">\\newcommand{\\Bold}[1]{\\mathbf{#1}}\\left(1, 2, -1\\right)</script></html>"
      ],
      "text/plain": [
       "(1, 2, -1)"
      ]
     },
     "execution_count": 58,
     "metadata": {},
     "output_type": "execute_result"
    }
   ],
   "source": [
    "p.coord()"
   ]
  },
  {
   "cell_type": "markdown",
   "metadata": {
    "deletable": true,
    "editable": true
   },
   "source": [
    "<p>The coordinates of $p$ can also be obtained by letting the chart acting of the point (from the very definition of a chart!):</p>"
   ]
  },
  {
   "cell_type": "code",
   "execution_count": 59,
   "metadata": {
    "collapsed": false,
    "deletable": true,
    "editable": true
   },
   "outputs": [
    {
     "data": {
      "text/html": [
       "<html><script type=\"math/tex; mode=display\">\\newcommand{\\Bold}[1]{\\mathbf{#1}}\\left(1, 2, -1\\right)</script></html>"
      ],
      "text/plain": [
       "(1, 2, -1)"
      ]
     },
     "execution_count": 59,
     "metadata": {},
     "output_type": "execute_result"
    }
   ],
   "source": [
    "X(p)"
   ]
  },
  {
   "cell_type": "markdown",
   "metadata": {
    "deletable": true,
    "editable": true
   },
   "source": [
    "<p>Let $q$ be a point with $y = 0$ and $x \\geq 0$:</p>"
   ]
  },
  {
   "cell_type": "code",
   "execution_count": 60,
   "metadata": {
    "collapsed": false,
    "deletable": true,
    "editable": true
   },
   "outputs": [],
   "source": [
    "q = M.point((1,0,2), name='q')"
   ]
  },
  {
   "cell_type": "markdown",
   "metadata": {
    "deletable": true,
    "editable": true
   },
   "source": [
    "<p>This time, the point does not belong to $U$:</p>"
   ]
  },
  {
   "cell_type": "code",
   "execution_count": 61,
   "metadata": {
    "collapsed": false,
    "deletable": true,
    "editable": true
   },
   "outputs": [
    {
     "data": {
      "text/html": [
       "<html><script type=\"math/tex; mode=display\">\\newcommand{\\Bold}[1]{\\mathbf{#1}}\\mathrm{False}</script></html>"
      ],
      "text/plain": [
       "False"
      ]
     },
     "execution_count": 61,
     "metadata": {},
     "output_type": "execute_result"
    }
   ],
   "source": [
    "q in U"
   ]
  },
  {
   "cell_type": "markdown",
   "metadata": {
    "deletable": true,
    "editable": true
   },
   "source": [
    "<p>Accordingly, we cannot ask for the coordinates of $q$ in the chart $Y=(U, (r,\\theta,\\phi))$:</p>"
   ]
  },
  {
   "cell_type": "code",
   "execution_count": 62,
   "metadata": {
    "collapsed": false,
    "deletable": true,
    "editable": true
   },
   "outputs": [
    {
     "name": "stdout",
     "output_type": "stream",
     "text": [
      "Error: the point does not belong to the domain of Chart (U, (r, theta, phi))\n"
     ]
    }
   ],
   "source": [
    "try:\n",
    "    q.coord(Y)\n",
    "except ValueError as exc:\n",
    "    print(\"Error: \" + str(exc))"
   ]
  },
  {
   "cell_type": "markdown",
   "metadata": {
    "deletable": true,
    "editable": true
   },
   "source": [
    "<p>but we can for point $p$:</p>"
   ]
  },
  {
   "cell_type": "code",
   "execution_count": 63,
   "metadata": {
    "collapsed": false,
    "deletable": true,
    "editable": true
   },
   "outputs": [
    {
     "data": {
      "image/png": "[encoded data removed]",
      "text/latex": [
       "$$\\left ( \\sqrt{6}, \\quad - \\operatorname{atan}{\\left (\\sqrt{5} \\right )} + \\pi, \\quad \\operatorname{atan}{\\left (2 \\right )}\\right )$$"
      ],
      "text/plain": [
       "(sqrt(6), -atan(sqrt(5)) + pi, atan(2))"
      ]
     },
     "execution_count": 63,
     "metadata": {},
     "output_type": "execute_result"
    }
   ],
   "source": [
    "p.coord(Y)"
   ]
  },
  {
   "cell_type": "code",
   "execution_count": 64,
   "metadata": {
    "collapsed": false,
    "deletable": true,
    "editable": true
   },
   "outputs": [
    {
     "data": {
      "image/png": "[encoded data removed]",
      "text/latex": [
       "$$\\left ( \\sqrt{6}, \\quad - \\operatorname{atan}{\\left (\\sqrt{5} \\right )} + \\pi, \\quad \\operatorname{atan}{\\left (2 \\right )}\\right )$$"
      ],
      "text/plain": [
       "(sqrt(6), -atan(sqrt(5)) + pi, atan(2))"
      ]
     },
     "execution_count": 64,
     "metadata": {},
     "output_type": "execute_result"
    }
   ],
   "source": [
    "Y(p)"
   ]
  },
  {
   "cell_type": "markdown",
   "metadata": {
    "deletable": true,
    "editable": true
   },
   "source": [
    "<p>Points can be compared:</p>"
   ]
  },
  {
   "cell_type": "code",
   "execution_count": 65,
   "metadata": {
    "collapsed": false,
    "deletable": true,
    "editable": true
   },
   "outputs": [
    {
     "data": {
      "text/html": [
       "<html><script type=\"math/tex; mode=display\">\\newcommand{\\Bold}[1]{\\mathbf{#1}}\\mathrm{False}</script></html>"
      ],
      "text/plain": [
       "False"
      ]
     },
     "execution_count": 65,
     "metadata": {},
     "output_type": "execute_result"
    }
   ],
   "source": [
    "q == p"
   ]
  },
  {
   "cell_type": "code",
   "execution_count": 66,
   "metadata": {
    "collapsed": false,
    "deletable": true,
    "editable": true
   },
   "outputs": [
    {
     "data": {
      "text/html": [
       "<html><script type=\"math/tex; mode=display\">\\newcommand{\\Bold}[1]{\\mathbf{#1}}\\mathrm{True}</script></html>"
      ],
      "text/plain": [
       "True"
      ]
     },
     "execution_count": 66,
     "metadata": {},
     "output_type": "execute_result"
    }
   ],
   "source": [
    "p1 = U.point((sqrt(6), pi-atan(sqrt(5)), atan(2)), Y)\n",
    "p1 == p"
   ]
  },
  {
   "cell_type": "markdown",
   "metadata": {
    "deletable": true,
    "editable": true
   },
   "source": [
    "<p>In SageMath's terminology, points are <strong>elements</strong>, whose <strong>parents</strong> are the manifold on which they have been defined:</p>"
   ]
  },
  {
   "cell_type": "code",
   "execution_count": 67,
   "metadata": {
    "collapsed": false,
    "deletable": true,
    "editable": true
   },
   "outputs": [
    {
     "data": {
      "text/html": [
       "<html><script type=\"math/tex; mode=display\">\\newcommand{\\Bold}[1]{\\mathbf{#1}}\\mathcal{M}</script></html>"
      ],
      "text/plain": [
       "3-dimensional differentiable manifold M"
      ]
     },
     "execution_count": 67,
     "metadata": {},
     "output_type": "execute_result"
    }
   ],
   "source": [
    "p.parent()"
   ]
  },
  {
   "cell_type": "code",
   "execution_count": 68,
   "metadata": {
    "collapsed": false,
    "deletable": true,
    "editable": true
   },
   "outputs": [
    {
     "data": {
      "text/html": [
       "<html><script type=\"math/tex; mode=display\">\\newcommand{\\Bold}[1]{\\mathbf{#1}}\\mathcal{M}</script></html>"
      ],
      "text/plain": [
       "3-dimensional differentiable manifold M"
      ]
     },
     "execution_count": 68,
     "metadata": {},
     "output_type": "execute_result"
    }
   ],
   "source": [
    "q.parent()"
   ]
  },
  {
   "cell_type": "code",
   "execution_count": 69,
   "metadata": {
    "collapsed": false,
    "deletable": true,
    "editable": true
   },
   "outputs": [
    {
     "data": {
      "text/html": [
       "<html><script type=\"math/tex; mode=display\">\\newcommand{\\Bold}[1]{\\mathbf{#1}}U</script></html>"
      ],
      "text/plain": [
       "Open subset U of the 3-dimensional differentiable manifold M"
      ]
     },
     "execution_count": 69,
     "metadata": {},
     "output_type": "execute_result"
    }
   ],
   "source": [
    "p1.parent()"
   ]
  },
  {
   "cell_type": "markdown",
   "metadata": {
    "deletable": true,
    "editable": true
   },
   "source": [
    "<h2>Scalar fields</h2>\n",
    "<p>A scalar field is a differentiable mapping $U \\longrightarrow \\mathbb{R}$, where $U$ is an open subset of $\\mathcal{M}$.</p>\n",
    "<p>The scalar field is defined by its expressions in terms of charts covering its domain (in general more than one chart is necessary to cover all the domain):</p>"
   ]
  },
  {
   "cell_type": "code",
   "execution_count": 70,
   "metadata": {
    "collapsed": false,
    "deletable": true,
    "editable": true
   },
   "outputs": [
    {
     "name": "stdout",
     "output_type": "stream",
     "text": [
      "Scalar field f on the Open subset U of the 3-dimensional differentiable manifold M\n"
     ]
    }
   ],
   "source": [
    "f = U.scalar_field({X_U: x+y^2+z^3}, name='f') ; print(f)"
   ]
  },
  {
   "cell_type": "markdown",
   "metadata": {
    "deletable": true,
    "editable": true
   },
   "source": [
    "<p>The coordinate expressions of the scalar field are passed as a Python dictionary, with the charts as keys, hence the writing <span style=\"font-family: courier new,courier;\">{X_U: x+y^2+z^3}</span>.</p>\n",
    "<p>Since in the present case, there is only one chart in the dictionary, an alternative writing is</p>"
   ]
  },
  {
   "cell_type": "code",
   "execution_count": 71,
   "metadata": {
    "collapsed": false,
    "deletable": true,
    "editable": true
   },
   "outputs": [
    {
     "name": "stdout",
     "output_type": "stream",
     "text": [
      "Scalar field f on the Open subset U of the 3-dimensional differentiable manifold M\n"
     ]
    }
   ],
   "source": [
    "f = U.scalar_field(x+y^2+z^3, chart=X_U, name='f') ; print(f)"
   ]
  },
  {
   "cell_type": "markdown",
   "metadata": {
    "deletable": true,
    "editable": true
   },
   "source": [
    "<p>Since X_U is the domain's default chart, it can be omitted in the above declaration:</p>"
   ]
  },
  {
   "cell_type": "code",
   "execution_count": 72,
   "metadata": {
    "collapsed": false,
    "deletable": true,
    "editable": true
   },
   "outputs": [
    {
     "name": "stdout",
     "output_type": "stream",
     "text": [
      "Scalar field f on the Open subset U of the 3-dimensional differentiable manifold M\n"
     ]
    }
   ],
   "source": [
    "f = U.scalar_field(x+y^2+z^3, name='f') ; print(f)"
   ]
  },
  {
   "cell_type": "markdown",
   "metadata": {
    "deletable": true,
    "editable": true
   },
   "source": [
    "As a mapping $U\\subset\\mathcal{M}\\longrightarrow\\mathbb{R}$, a scalar field acts on points, not on coordinates:"
   ]
  },
  {
   "cell_type": "code",
   "execution_count": 73,
   "metadata": {
    "collapsed": false,
    "deletable": true,
    "editable": true
   },
   "outputs": [
    {
     "data": {
      "image/png": "[encoded data removed]",
      "text/latex": [
       "$$4$$"
      ],
      "text/plain": [
       "4"
      ]
     },
     "execution_count": 73,
     "metadata": {},
     "output_type": "execute_result"
    }
   ],
   "source": [
    "f(p)"
   ]
  },
  {
   "cell_type": "markdown",
   "metadata": {
    "deletable": true,
    "editable": true
   },
   "source": [
    "The method `display()` provides the expression of the scalar field in terms of a given chart:"
   ]
  },
  {
   "cell_type": "code",
   "execution_count": 74,
   "metadata": {
    "collapsed": false,
    "deletable": true,
    "editable": true
   },
   "outputs": [
    {
     "data": {
      "text/html": [
       "<html><script type=\"math/tex; mode=display\">\\newcommand{\\Bold}[1]{\\mathbf{#1}}\\begin{array}{llcl} f:& U & \\longrightarrow & \\mathbb{R} \\\\ & \\left(x, y, z\\right) & \\longmapsto & x + y^{2} + z^{3} \\end{array}</script></html>"
      ],
      "text/plain": [
       "f: U --> R\n",
       "   (x, y, z) |--> x + y**2 + z**3"
      ]
     },
     "execution_count": 74,
     "metadata": {},
     "output_type": "execute_result"
    }
   ],
   "source": [
    "f.display(X_U)"
   ]
  },
  {
   "cell_type": "markdown",
   "metadata": {
    "deletable": true,
    "editable": true
   },
   "source": [
    "If no argument is provided, the method `display()` shows the coordinate expression of the scalar field in all the charts defined on the domain (except for *subcharts*, i.e. the restrictions of some chart to a subdomain):"
   ]
  },
  {
   "cell_type": "code",
   "execution_count": 75,
   "metadata": {
    "collapsed": false,
    "deletable": true,
    "editable": true
   },
   "outputs": [
    {
     "data": {
      "text/html": [
       "<html><script type=\"math/tex; mode=display\">\\newcommand{\\Bold}[1]{\\mathbf{#1}}\\begin{array}{llcl} f:& U & \\longrightarrow & \\mathbb{R} \\\\ & \\left(x, y, z\\right) & \\longmapsto & x + y^{2} + z^{3} \\\\ & \\left(r, {\\theta}, {\\phi}\\right) & \\longmapsto & r \\left(r^{2} \\cos^{3}{\\left (\\theta \\right )} + r \\sin^{2}{\\left (\\phi \\right )} \\sin^{2}{\\left (\\theta \\right )} + \\sin{\\left (\\theta \\right )} \\cos{\\left (\\phi \\right )}\\right) \\end{array}</script></html>"
      ],
      "text/plain": [
       "f: U --> R\n",
       "   (x, y, z) |--> x + y**2 + z**3\n",
       "   (r, theta, phi) |--> r*(r**2*cos(theta)**3 + r*sin(phi)**2*sin(theta)**2 + sin(theta)*cos(phi))"
      ]
     },
     "execution_count": 75,
     "metadata": {},
     "output_type": "execute_result"
    }
   ],
   "source": [
    "f.display()"
   ]
  },
  {
   "cell_type": "markdown",
   "metadata": {
    "deletable": true,
    "editable": true
   },
   "source": [
    "<p>Note that the expression of $f$ in terms of the coordinates $(r,\\theta,\\phi)$ has not been provided by the user but has been automatically computed by means of the change-of-coordinate formula declared above in the transition map. </p>"
   ]
  },
  {
   "cell_type": "code",
   "execution_count": 76,
   "metadata": {
    "collapsed": false,
    "deletable": true,
    "editable": true
   },
   "outputs": [
    {
     "data": {
      "text/html": [
       "<html><script type=\"math/tex; mode=display\">\\newcommand{\\Bold}[1]{\\mathbf{#1}}\\begin{array}{llcl} f:& U & \\longrightarrow & \\mathbb{R} \\\\ & \\left(r, {\\theta}, {\\phi}\\right) & \\longmapsto & r \\left(r^{2} \\cos^{3}{\\left (\\theta \\right )} + r \\sin^{2}{\\left (\\phi \\right )} \\sin^{2}{\\left (\\theta \\right )} + \\sin{\\left (\\theta \\right )} \\cos{\\left (\\phi \\right )}\\right) \\end{array}</script></html>"
      ],
      "text/plain": [
       "f: U --> R\n",
       "   (r, theta, phi) |--> r*(r**2*cos(theta)**3 + r*sin(phi)**2*sin(theta)**2 + sin(theta)*cos(phi))"
      ]
     },
     "execution_count": 76,
     "metadata": {},
     "output_type": "execute_result"
    }
   ],
   "source": [
    "f.display(Y)"
   ]
  },
  {
   "cell_type": "markdown",
   "metadata": {
    "deletable": true,
    "editable": true
   },
   "source": [
    "In each chart, the scalar field is represented by a function of the chart coordinates (an object of the type `ChartFunction` described above), which is accessible via the method `coord_function()`:"
   ]
  },
  {
   "cell_type": "code",
   "execution_count": 77,
   "metadata": {
    "collapsed": false,
    "deletable": true,
    "editable": true
   },
   "outputs": [
    {
     "data": {
      "text/html": [
       "<html><script type=\"math/tex; mode=display\">\\newcommand{\\Bold}[1]{\\mathbf{#1}}x + y^{2} + z^{3}</script></html>"
      ],
      "text/plain": [
       "x + y**2 + z**3"
      ]
     },
     "execution_count": 77,
     "metadata": {},
     "output_type": "execute_result"
    }
   ],
   "source": [
    "f.coord_function(X_U)"
   ]
  },
  {
   "cell_type": "code",
   "execution_count": 78,
   "metadata": {
    "collapsed": false,
    "deletable": true,
    "editable": true
   },
   "outputs": [
    {
     "data": {
      "text/html": [
       "<html><script type=\"math/tex; mode=display\">\\newcommand{\\Bold}[1]{\\mathbf{#1}}\\left ( x, \\quad y, \\quad z\\right ) \\mapsto x + y^{2} + z^{3}</script></html>"
      ],
      "text/plain": [
       "(x, y, z) |--> x + y**2 + z**3"
      ]
     },
     "execution_count": 78,
     "metadata": {},
     "output_type": "execute_result"
    }
   ],
   "source": [
    "f.coord_function(X_U).display()"
   ]
  },
  {
   "cell_type": "code",
   "execution_count": 79,
   "metadata": {
    "collapsed": false,
    "deletable": true,
    "editable": true
   },
   "outputs": [
    {
     "data": {
      "text/html": [
       "<html><script type=\"math/tex; mode=display\">\\newcommand{\\Bold}[1]{\\mathbf{#1}}r \\left(r^{2} \\cos^{3}{\\left (\\theta \\right )} + r \\sin^{2}{\\left (\\phi \\right )} \\sin^{2}{\\left (\\theta \\right )} + \\sin{\\left (\\theta \\right )} \\cos{\\left (\\phi \\right )}\\right)</script></html>"
      ],
      "text/plain": [
       "r*(r**2*cos(theta)**3 + r*sin(phi)**2*sin(theta)**2 + sin(theta)*cos(phi))"
      ]
     },
     "execution_count": 79,
     "metadata": {},
     "output_type": "execute_result"
    }
   ],
   "source": [
    "f.coord_function(Y)"
   ]
  },
  {
   "cell_type": "code",
   "execution_count": 80,
   "metadata": {
    "collapsed": false,
    "deletable": true,
    "editable": true
   },
   "outputs": [
    {
     "data": {
      "text/html": [
       "<html><script type=\"math/tex; mode=display\">\\newcommand{\\Bold}[1]{\\mathbf{#1}}\\left ( r, \\quad theta, \\quad phi\\right ) \\mapsto r \\left(r^{2} \\cos^{3}{\\left (\\theta \\right )} + r \\sin^{2}{\\left (\\phi \\right )} \\sin^{2}{\\left (\\theta \\right )} + \\sin{\\left (\\theta \\right )} \\cos{\\left (\\phi \\right )}\\right)</script></html>"
      ],
      "text/plain": [
       "(r, theta, phi) |--> r*(r**2*cos(theta)**3 + r*sin(phi)**2*sin(theta)**2 + sin(theta)*cos(phi))"
      ]
     },
     "execution_count": 80,
     "metadata": {},
     "output_type": "execute_result"
    }
   ],
   "source": [
    "f.coord_function(Y).display()"
   ]
  },
  {
   "cell_type": "markdown",
   "metadata": {
    "deletable": true,
    "editable": true
   },
   "source": [
    "The \"raw\" symbolic expression (here a SymPy object) is returned by the method `expr()`:"
   ]
  },
  {
   "cell_type": "code",
   "execution_count": 81,
   "metadata": {
    "collapsed": false,
    "deletable": true,
    "editable": true
   },
   "outputs": [
    {
     "data": {
      "image/png": "[encoded data removed]",
      "text/latex": [
       "$$x + y^{2} + z^{3}$$"
      ],
      "text/plain": [
       "x + y**2 + z**3"
      ]
     },
     "execution_count": 81,
     "metadata": {},
     "output_type": "execute_result"
    }
   ],
   "source": [
    "f.expr(X_U)"
   ]
  },
  {
   "cell_type": "code",
   "execution_count": 82,
   "metadata": {
    "collapsed": false,
    "deletable": true,
    "editable": true
   },
   "outputs": [
    {
     "data": {
      "image/png": "[encoded data removed]",
      "text/latex": [
       "$$r \\left(r^{2} \\cos^{3}{\\left (\\theta \\right )} + r \\sin^{2}{\\left (\\phi \\right )} \\sin^{2}{\\left (\\theta \\right )} + \\sin{\\left (\\theta \\right )} \\cos{\\left (\\phi \\right )}\\right)$$"
      ],
      "text/plain": [
       "r*(r**2*cos(theta)**3 + r*sin(phi)**2*sin(theta)**2 + sin(theta)*cos(phi))"
      ]
     },
     "execution_count": 82,
     "metadata": {},
     "output_type": "execute_result"
    }
   ],
   "source": [
    "f.expr(Y)"
   ]
  },
  {
   "cell_type": "code",
   "execution_count": 83,
   "metadata": {
    "collapsed": false,
    "deletable": true,
    "editable": true
   },
   "outputs": [
    {
     "data": {
      "text/html": [
       "<html><script type=\"math/tex; mode=display\">\\newcommand{\\Bold}[1]{\\mathbf{#1}}\\mathrm{True}</script></html>"
      ],
      "text/plain": [
       "True"
      ]
     },
     "execution_count": 83,
     "metadata": {},
     "output_type": "execute_result"
    }
   ],
   "source": [
    "f.expr(Y) is f.coord_function(Y).expr()"
   ]
  },
  {
   "cell_type": "markdown",
   "metadata": {
    "deletable": true,
    "editable": true
   },
   "source": [
    "<p>A scalar field can also be defined by some unspecified function of the coordinates:</p>"
   ]
  },
  {
   "cell_type": "code",
   "execution_count": 84,
   "metadata": {
    "collapsed": false,
    "deletable": true,
    "editable": true
   },
   "outputs": [
    {
     "name": "stdout",
     "output_type": "stream",
     "text": [
      "Scalar field h on the Open subset U of the 3-dimensional differentiable manifold M\n"
     ]
    }
   ],
   "source": [
    "h = U.scalar_field(function('H')(x, y, z), name='h') ; print(h)"
   ]
  },
  {
   "cell_type": "code",
   "execution_count": 85,
   "metadata": {
    "collapsed": false,
    "deletable": true,
    "editable": true
   },
   "outputs": [
    {
     "data": {
      "text/html": [
       "<html><script type=\"math/tex; mode=display\">\\newcommand{\\Bold}[1]{\\mathbf{#1}}\\begin{array}{llcl} h:& U & \\longrightarrow & \\mathbb{R} \\\\ & \\left(x, y, z\\right) & \\longmapsto & H{\\left (x,y,z \\right )} \\\\ & \\left(r, {\\theta}, {\\phi}\\right) & \\longmapsto & H{\\left (r \\sin{\\left (\\theta \\right )} \\cos{\\left (\\phi \\right )},r \\sin{\\left (\\phi \\right )} \\sin{\\left (\\theta \\right )},r \\cos{\\left (\\theta \\right )} \\right )} \\end{array}</script></html>"
      ],
      "text/plain": [
       "h: U --> R\n",
       "   (x, y, z) |--> H(x, y, z)\n",
       "   (r, theta, phi) |--> H(r*sin(theta)*cos(phi), r*sin(phi)*sin(theta), r*cos(theta))"
      ]
     },
     "execution_count": 85,
     "metadata": {},
     "output_type": "execute_result"
    }
   ],
   "source": [
    "h.display()"
   ]
  },
  {
   "cell_type": "code",
   "execution_count": 86,
   "metadata": {
    "collapsed": false,
    "deletable": true,
    "editable": true
   },
   "outputs": [
    {
     "data": {
      "text/html": [
       "<html><script type=\"math/tex; mode=display\">\\newcommand{\\Bold}[1]{\\mathbf{#1}}\\begin{array}{llcl} h:& U & \\longrightarrow & \\mathbb{R} \\\\ & \\left(r, {\\theta}, {\\phi}\\right) & \\longmapsto & H{\\left (r \\sin{\\left (\\theta \\right )} \\cos{\\left (\\phi \\right )},r \\sin{\\left (\\phi \\right )} \\sin{\\left (\\theta \\right )},r \\cos{\\left (\\theta \\right )} \\right )} \\end{array}</script></html>"
      ],
      "text/plain": [
       "h: U --> R\n",
       "   (r, theta, phi) |--> H(r*sin(theta)*cos(phi), r*sin(phi)*sin(theta), r*cos(theta))"
      ]
     },
     "execution_count": 86,
     "metadata": {},
     "output_type": "execute_result"
    }
   ],
   "source": [
    "h.display(Y)"
   ]
  },
  {
   "cell_type": "code",
   "execution_count": 87,
   "metadata": {
    "collapsed": false,
    "deletable": true,
    "editable": true
   },
   "outputs": [
    {
     "data": {
      "image/png": "[encoded data removed]",
      "text/latex": [
       "$$H{\\left (1,2,-1 \\right )}$$"
      ],
      "text/plain": [
       "H(1, 2, -1)"
      ]
     },
     "execution_count": 87,
     "metadata": {},
     "output_type": "execute_result"
    }
   ],
   "source": [
    "h(p) # remember that p is the point of coordinates (1,2,-1) in the chart X_U"
   ]
  },
  {
   "cell_type": "markdown",
   "metadata": {
    "deletable": true,
    "editable": true
   },
   "source": [
    "<p>The parent of $f$ is the set $C^\\infty(U)$ of all smooth scalar fields on $U$, which is a commutative algebra over $\\mathbb{R}$:</p>"
   ]
  },
  {
   "cell_type": "code",
   "execution_count": 88,
   "metadata": {
    "collapsed": false,
    "deletable": true,
    "editable": true
   },
   "outputs": [
    {
     "data": {
      "text/html": [
       "<html><script type=\"math/tex; mode=display\">\\newcommand{\\Bold}[1]{\\mathbf{#1}}C^{\\infty}\\left(U\\right)</script></html>"
      ],
      "text/plain": [
       "Algebra of differentiable scalar fields on the Open subset U of the 3-dimensional differentiable manifold M"
      ]
     },
     "execution_count": 88,
     "metadata": {},
     "output_type": "execute_result"
    }
   ],
   "source": [
    "CU = f.parent() ; CU"
   ]
  },
  {
   "cell_type": "code",
   "execution_count": 89,
   "metadata": {
    "collapsed": false,
    "deletable": true,
    "editable": true
   },
   "outputs": [
    {
     "name": "stdout",
     "output_type": "stream",
     "text": [
      "Algebra of differentiable scalar fields on the Open subset U of the 3-dimensional differentiable manifold M\n"
     ]
    }
   ],
   "source": [
    "print(CU)"
   ]
  },
  {
   "cell_type": "code",
   "execution_count": 90,
   "metadata": {
    "collapsed": false,
    "deletable": true,
    "editable": true
   },
   "outputs": [
    {
     "data": {
      "text/html": [
       "<html><script type=\"math/tex; mode=display\">\\newcommand{\\Bold}[1]{\\mathbf{#1}}\\mathbf{CommutativeAlgebras}_{\\text{SR}}</script></html>"
      ],
      "text/plain": [
       "Category of commutative algebras over Symbolic Ring"
      ]
     },
     "execution_count": 90,
     "metadata": {},
     "output_type": "execute_result"
    }
   ],
   "source": [
    "CU.category()"
   ]
  },
  {
   "cell_type": "markdown",
   "metadata": {
    "deletable": true,
    "editable": true
   },
   "source": [
    "<div id=\"insert_new_cell_before91\" class=\"insert_new_cell\"> </div>\n",
    "<div id=\"cell_text_91\" class=\"text_cell\">\n",
    "<p>The base ring of the algebra is the field $\\mathbb{R}$, which is represented here by SageMath's Symbolic Ring (SR):</p>\n",
    "</div>\n",
    "<div id=\"insert_new_cell_before86\" class=\"insert_new_cell\"> </div>"
   ]
  },
  {
   "cell_type": "code",
   "execution_count": 91,
   "metadata": {
    "collapsed": false,
    "deletable": true,
    "editable": true
   },
   "outputs": [
    {
     "data": {
      "text/html": [
       "<html><script type=\"math/tex; mode=display\">\\newcommand{\\Bold}[1]{\\mathbf{#1}}\\text{SR}</script></html>"
      ],
      "text/plain": [
       "Symbolic Ring"
      ]
     },
     "execution_count": 91,
     "metadata": {},
     "output_type": "execute_result"
    }
   ],
   "source": [
    "CU.base_ring()"
   ]
  },
  {
   "cell_type": "markdown",
   "metadata": {
    "deletable": true,
    "editable": true
   },
   "source": [
    "<p>Arithmetic operations on scalar fields are defined <span id=\"cell_outer_92\"><span id=\"cell_outer_91\"><span id=\"cell_outer_92\">through the algebra structure:</span></span></span></p>"
   ]
  },
  {
   "cell_type": "code",
   "execution_count": 92,
   "metadata": {
    "collapsed": false,
    "deletable": true,
    "editable": true
   },
   "outputs": [
    {
     "name": "stdout",
     "output_type": "stream",
     "text": [
      "Scalar field on the Open subset U of the 3-dimensional differentiable manifold M\n"
     ]
    }
   ],
   "source": [
    "s = f + 2*h ; print(s)"
   ]
  },
  {
   "cell_type": "code",
   "execution_count": 93,
   "metadata": {
    "collapsed": false,
    "deletable": true,
    "editable": true
   },
   "outputs": [
    {
     "data": {
      "text/html": [
       "<html><script type=\"math/tex; mode=display\">\\newcommand{\\Bold}[1]{\\mathbf{#1}}\\begin{array}{llcl} & U & \\longrightarrow & \\mathbb{R} \\\\ & \\left(x, y, z\\right) & \\longmapsto & x + y^{2} + z^{3} + 2 H{\\left (x,y,z \\right )} \\\\ & \\left(r, {\\theta}, {\\phi}\\right) & \\longmapsto & r^{3} \\cos^{3}{\\left (\\theta \\right )} + r^{2} \\sin^{2}{\\left (\\phi \\right )} \\sin^{2}{\\left (\\theta \\right )} + r \\sin{\\left (\\theta \\right )} \\cos{\\left (\\phi \\right )} + 2 H{\\left (r \\sin{\\left (\\theta \\right )} \\cos{\\left (\\phi \\right )},r \\sin{\\left (\\phi \\right )} \\sin{\\left (\\theta \\right )},r \\cos{\\left (\\theta \\right )} \\right )} \\end{array}</script></html>"
      ],
      "text/plain": [
       "U --> R\n",
       "(x, y, z) |--> x + y**2 + z**3 + 2*H(x, y, z)\n",
       "(r, theta, phi) |--> r**3*cos(theta)**3 + r**2*sin(phi)**2*sin(theta)**2 + r*sin(theta)*cos(phi) + 2*H(r*sin(theta)*cos(phi), r*sin(phi)*sin(theta), r*cos(theta))"
      ]
     },
     "execution_count": 93,
     "metadata": {},
     "output_type": "execute_result"
    }
   ],
   "source": [
    "s.display()"
   ]
  },
  {
   "cell_type": "markdown",
   "metadata": {
    "deletable": true,
    "editable": true
   },
   "source": [
    "<h2>Tangent spaces</h2>\n",
    "<p>The tangent vector space to the manifold at point $p$ is obtained as follows:</p>"
   ]
  },
  {
   "cell_type": "code",
   "execution_count": 94,
   "metadata": {
    "collapsed": false,
    "deletable": true,
    "editable": true
   },
   "outputs": [
    {
     "data": {
      "text/html": [
       "<html><script type=\"math/tex; mode=display\">\\newcommand{\\Bold}[1]{\\mathbf{#1}}T_{p}\\,\\mathcal{M}</script></html>"
      ],
      "text/plain": [
       "Tangent space at Point p on the 3-dimensional differentiable manifold M"
      ]
     },
     "execution_count": 94,
     "metadata": {},
     "output_type": "execute_result"
    }
   ],
   "source": [
    "Tp = M.tangent_space(p) ; Tp"
   ]
  },
  {
   "cell_type": "code",
   "execution_count": 95,
   "metadata": {
    "collapsed": false,
    "deletable": true,
    "editable": true
   },
   "outputs": [
    {
     "name": "stdout",
     "output_type": "stream",
     "text": [
      "Tangent space at Point p on the 3-dimensional differentiable manifold M\n"
     ]
    }
   ],
   "source": [
    "print(Tp)"
   ]
  },
  {
   "cell_type": "markdown",
   "metadata": {
    "deletable": true,
    "editable": true
   },
   "source": [
    "<p>$T_p\\, \\mathcal{M}$ is a 2-dimensional vector space over $\\mathbb{R}$ (represented here by SageMath's Symbolic Ring (SR)) :</p>"
   ]
  },
  {
   "cell_type": "code",
   "execution_count": 96,
   "metadata": {
    "collapsed": false,
    "deletable": true,
    "editable": true
   },
   "outputs": [
    {
     "name": "stdout",
     "output_type": "stream",
     "text": [
      "Category of finite dimensional vector spaces over Symbolic Ring\n"
     ]
    }
   ],
   "source": [
    "print(Tp.category())"
   ]
  },
  {
   "cell_type": "code",
   "execution_count": 97,
   "metadata": {
    "collapsed": false,
    "deletable": true,
    "editable": true
   },
   "outputs": [
    {
     "data": {
      "text/html": [
       "<html><script type=\"math/tex; mode=display\">\\newcommand{\\Bold}[1]{\\mathbf{#1}}3</script></html>"
      ],
      "text/plain": [
       "3"
      ]
     },
     "execution_count": 97,
     "metadata": {},
     "output_type": "execute_result"
    }
   ],
   "source": [
    "Tp.dim()"
   ]
  },
  {
   "cell_type": "markdown",
   "metadata": {
    "deletable": true,
    "editable": true
   },
   "source": [
    "<p>$T_p\\, \\mathcal{M}$ is automatically endowed with vector bases deduced from the vector frames defined around the point:</p>"
   ]
  },
  {
   "cell_type": "code",
   "execution_count": 98,
   "metadata": {
    "collapsed": false,
    "deletable": true,
    "editable": true
   },
   "outputs": [
    {
     "data": {
      "text/html": [
       "<html><script type=\"math/tex; mode=display\">\\newcommand{\\Bold}[1]{\\mathbf{#1}}\\left[\\left(\\frac{\\partial}{\\partial x },\\frac{\\partial}{\\partial y },\\frac{\\partial}{\\partial z }\\right), \\left(\\frac{\\partial}{\\partial r },\\frac{\\partial}{\\partial {\\theta} },\\frac{\\partial}{\\partial {\\phi} }\\right)\\right]</script></html>"
      ],
      "text/plain": [
       "[Basis (d/dx,d/dy,d/dz) on the Tangent space at Point p on the 3-dimensional differentiable manifold M,\n",
       " Basis (d/dr,d/dtheta,d/dphi) on the Tangent space at Point p on the 3-dimensional differentiable manifold M]"
      ]
     },
     "execution_count": 98,
     "metadata": {},
     "output_type": "execute_result"
    }
   ],
   "source": [
    "Tp.bases()"
   ]
  },
  {
   "cell_type": "markdown",
   "metadata": {
    "deletable": true,
    "editable": true
   },
   "source": [
    "<p>For the tangent space at the point $q$, on the contrary, there is only one pre-defined basis, since $q$ is not in the domain $U$ of the frame associated with coordinates $(r,\\theta,\\phi)$:</p>"
   ]
  },
  {
   "cell_type": "code",
   "execution_count": 99,
   "metadata": {
    "collapsed": false,
    "deletable": true,
    "editable": true
   },
   "outputs": [
    {
     "data": {
      "text/html": [
       "<html><script type=\"math/tex; mode=display\">\\newcommand{\\Bold}[1]{\\mathbf{#1}}\\left[\\left(\\frac{\\partial}{\\partial x },\\frac{\\partial}{\\partial y },\\frac{\\partial}{\\partial z }\\right)\\right]</script></html>"
      ],
      "text/plain": [
       "[Basis (d/dx,d/dy,d/dz) on the Tangent space at Point q on the 3-dimensional differentiable manifold M]"
      ]
     },
     "execution_count": 99,
     "metadata": {},
     "output_type": "execute_result"
    }
   ],
   "source": [
    "Tq = M.tangent_space(q)\n",
    "Tq.bases()"
   ]
  },
  {
   "cell_type": "markdown",
   "metadata": {
    "deletable": true,
    "editable": true
   },
   "source": [
    "<p>A random element:</p>"
   ]
  },
  {
   "cell_type": "code",
   "execution_count": 100,
   "metadata": {
    "collapsed": false,
    "deletable": true,
    "editable": true
   },
   "outputs": [
    {
     "name": "stdout",
     "output_type": "stream",
     "text": [
      "Tangent vector at Point p on the 3-dimensional differentiable manifold M\n"
     ]
    }
   ],
   "source": [
    "v = Tp.an_element() ; print(v)"
   ]
  },
  {
   "cell_type": "code",
   "execution_count": 101,
   "metadata": {
    "collapsed": false,
    "deletable": true,
    "editable": true
   },
   "outputs": [
    {
     "data": {
      "text/html": [
       "<html><script type=\"math/tex; mode=display\">\\newcommand{\\Bold}[1]{\\mathbf{#1}}\\frac{\\partial}{\\partial x } + 2 \\frac{\\partial}{\\partial y } + 3 \\frac{\\partial}{\\partial z }</script></html>"
      ],
      "text/plain": [
       "d/dx + 2 d/dy + 3 d/dz"
      ]
     },
     "execution_count": 101,
     "metadata": {},
     "output_type": "execute_result"
    }
   ],
   "source": [
    "v.display()"
   ]
  },
  {
   "cell_type": "code",
   "execution_count": 102,
   "metadata": {
    "collapsed": false,
    "deletable": true,
    "editable": true
   },
   "outputs": [
    {
     "name": "stdout",
     "output_type": "stream",
     "text": [
      "Tangent vector at Point q on the 3-dimensional differentiable manifold M\n"
     ]
    }
   ],
   "source": [
    "u = Tq.an_element() ; print(u)"
   ]
  },
  {
   "cell_type": "code",
   "execution_count": 103,
   "metadata": {
    "collapsed": false,
    "deletable": true,
    "editable": true
   },
   "outputs": [
    {
     "data": {
      "text/html": [
       "<html><script type=\"math/tex; mode=display\">\\newcommand{\\Bold}[1]{\\mathbf{#1}}\\frac{\\partial}{\\partial x } + 2 \\frac{\\partial}{\\partial y } + 3 \\frac{\\partial}{\\partial z }</script></html>"
      ],
      "text/plain": [
       "d/dx + 2 d/dy + 3 d/dz"
      ]
     },
     "execution_count": 103,
     "metadata": {},
     "output_type": "execute_result"
    }
   ],
   "source": [
    "u.display()"
   ]
  },
  {
   "cell_type": "markdown",
   "metadata": {
    "deletable": true,
    "editable": true
   },
   "source": [
    "<p>Note that, despite what the above simplified writing may suggest (the mention of the point $p$ or $q$ is omitted in the basis vectors), $u$ and $v$ are different vectors, for they belong to different vector spaces:</p>"
   ]
  },
  {
   "cell_type": "code",
   "execution_count": 104,
   "metadata": {
    "collapsed": false,
    "deletable": true,
    "editable": true
   },
   "outputs": [
    {
     "data": {
      "text/html": [
       "<html><script type=\"math/tex; mode=display\">\\newcommand{\\Bold}[1]{\\mathbf{#1}}T_{p}\\,\\mathcal{M}</script></html>"
      ],
      "text/plain": [
       "Tangent space at Point p on the 3-dimensional differentiable manifold M"
      ]
     },
     "execution_count": 104,
     "metadata": {},
     "output_type": "execute_result"
    }
   ],
   "source": [
    "v.parent()"
   ]
  },
  {
   "cell_type": "code",
   "execution_count": 105,
   "metadata": {
    "collapsed": false,
    "deletable": true,
    "editable": true
   },
   "outputs": [
    {
     "data": {
      "text/html": [
       "<html><script type=\"math/tex; mode=display\">\\newcommand{\\Bold}[1]{\\mathbf{#1}}T_{q}\\,\\mathcal{M}</script></html>"
      ],
      "text/plain": [
       "Tangent space at Point q on the 3-dimensional differentiable manifold M"
      ]
     },
     "execution_count": 105,
     "metadata": {},
     "output_type": "execute_result"
    }
   ],
   "source": [
    "u.parent()"
   ]
  },
  {
   "cell_type": "markdown",
   "metadata": {
    "deletable": true,
    "editable": true
   },
   "source": [
    "<p>In particular, it is not possible to add $u$ and $v$:</p>"
   ]
  },
  {
   "cell_type": "code",
   "execution_count": 106,
   "metadata": {
    "collapsed": false,
    "deletable": true,
    "editable": true
   },
   "outputs": [
    {
     "name": "stdout",
     "output_type": "stream",
     "text": [
      "Error: unsupported operand parent(s) for +: 'Tangent space at Point q on the 3-dimensional differentiable manifold M' and 'Tangent space at Point p on the 3-dimensional differentiable manifold M'\n"
     ]
    }
   ],
   "source": [
    "try:\n",
    "    s = u + v\n",
    "except TypeError as exc:\n",
    "    print(\"Error: \" + str(exc))"
   ]
  },
  {
   "cell_type": "markdown",
   "metadata": {
    "deletable": true,
    "editable": true
   },
   "source": [
    "<h2>Vector Fields</h2>\n",
    "<p>Each chart defines a vector frame on the chart domain: the so-called <strong>coordinate basis</strong>:</p>"
   ]
  },
  {
   "cell_type": "code",
   "execution_count": 107,
   "metadata": {
    "collapsed": false,
    "deletable": true,
    "editable": true
   },
   "outputs": [
    {
     "data": {
      "text/html": [
       "<html><script type=\"math/tex; mode=display\">\\newcommand{\\Bold}[1]{\\mathbf{#1}}\\left(\\mathcal{M}, \\left(\\frac{\\partial}{\\partial x },\\frac{\\partial}{\\partial y },\\frac{\\partial}{\\partial z }\\right)\\right)</script></html>"
      ],
      "text/plain": [
       "Coordinate frame (M, (d/dx,d/dy,d/dz))"
      ]
     },
     "execution_count": 107,
     "metadata": {},
     "output_type": "execute_result"
    }
   ],
   "source": [
    "X.frame()"
   ]
  },
  {
   "cell_type": "code",
   "execution_count": 108,
   "metadata": {
    "collapsed": false,
    "deletable": true,
    "editable": true
   },
   "outputs": [
    {
     "data": {
      "text/html": [
       "<html><script type=\"math/tex; mode=display\">\\newcommand{\\Bold}[1]{\\mathbf{#1}}\\mathcal{M}</script></html>"
      ],
      "text/plain": [
       "3-dimensional differentiable manifold M"
      ]
     },
     "execution_count": 108,
     "metadata": {},
     "output_type": "execute_result"
    }
   ],
   "source": [
    "X.frame().domain()  # this frame is defined on the whole manifold"
   ]
  },
  {
   "cell_type": "code",
   "execution_count": 109,
   "metadata": {
    "collapsed": false,
    "deletable": true,
    "editable": true
   },
   "outputs": [
    {
     "data": {
      "text/html": [
       "<html><script type=\"math/tex; mode=display\">\\newcommand{\\Bold}[1]{\\mathbf{#1}}\\left(U, \\left(\\frac{\\partial}{\\partial r },\\frac{\\partial}{\\partial {\\theta} },\\frac{\\partial}{\\partial {\\phi} }\\right)\\right)</script></html>"
      ],
      "text/plain": [
       "Coordinate frame (U, (d/dr,d/dtheta,d/dphi))"
      ]
     },
     "execution_count": 109,
     "metadata": {},
     "output_type": "execute_result"
    }
   ],
   "source": [
    "Y.frame()"
   ]
  },
  {
   "cell_type": "code",
   "execution_count": 110,
   "metadata": {
    "collapsed": false,
    "deletable": true,
    "editable": true
   },
   "outputs": [
    {
     "data": {
      "text/html": [
       "<html><script type=\"math/tex; mode=display\">\\newcommand{\\Bold}[1]{\\mathbf{#1}}U</script></html>"
      ],
      "text/plain": [
       "Open subset U of the 3-dimensional differentiable manifold M"
      ]
     },
     "execution_count": 110,
     "metadata": {},
     "output_type": "execute_result"
    }
   ],
   "source": [
    "Y.frame().domain() # this frame is defined only on U"
   ]
  },
  {
   "cell_type": "markdown",
   "metadata": {
    "deletable": true,
    "editable": true
   },
   "source": [
    "<p>The list of frames defined on a given open subset is <span>returned by the method <span style=\"font-family: courier new,courier;\">frames()</span></span>:</p>"
   ]
  },
  {
   "cell_type": "code",
   "execution_count": 111,
   "metadata": {
    "collapsed": false,
    "deletable": true,
    "editable": true
   },
   "outputs": [
    {
     "data": {
      "text/html": [
       "<html><script type=\"math/tex; mode=display\">\\newcommand{\\Bold}[1]{\\mathbf{#1}}\\left[\\left(\\mathcal{M}, \\left(\\frac{\\partial}{\\partial x },\\frac{\\partial}{\\partial y },\\frac{\\partial}{\\partial z }\\right)\\right), \\left(U, \\left(\\frac{\\partial}{\\partial x },\\frac{\\partial}{\\partial y },\\frac{\\partial}{\\partial z }\\right)\\right), \\left(U, \\left(\\frac{\\partial}{\\partial r },\\frac{\\partial}{\\partial {\\theta} },\\frac{\\partial}{\\partial {\\phi} }\\right)\\right)\\right]</script></html>"
      ],
      "text/plain": [
       "[Coordinate frame (M, (d/dx,d/dy,d/dz)),\n",
       " Coordinate frame (U, (d/dx,d/dy,d/dz)),\n",
       " Coordinate frame (U, (d/dr,d/dtheta,d/dphi))]"
      ]
     },
     "execution_count": 111,
     "metadata": {},
     "output_type": "execute_result"
    }
   ],
   "source": [
    "M.frames()"
   ]
  },
  {
   "cell_type": "code",
   "execution_count": 112,
   "metadata": {
    "collapsed": false,
    "deletable": true,
    "editable": true
   },
   "outputs": [
    {
     "data": {
      "text/html": [
       "<html><script type=\"math/tex; mode=display\">\\newcommand{\\Bold}[1]{\\mathbf{#1}}\\left[\\left(U, \\left(\\frac{\\partial}{\\partial x },\\frac{\\partial}{\\partial y },\\frac{\\partial}{\\partial z }\\right)\\right), \\left(U, \\left(\\frac{\\partial}{\\partial r },\\frac{\\partial}{\\partial {\\theta} },\\frac{\\partial}{\\partial {\\phi} }\\right)\\right)\\right]</script></html>"
      ],
      "text/plain": [
       "[Coordinate frame (U, (d/dx,d/dy,d/dz)),\n",
       " Coordinate frame (U, (d/dr,d/dtheta,d/dphi))]"
      ]
     },
     "execution_count": 112,
     "metadata": {},
     "output_type": "execute_result"
    }
   ],
   "source": [
    "U.frames()"
   ]
  },
  {
   "cell_type": "code",
   "execution_count": 113,
   "metadata": {
    "collapsed": false,
    "deletable": true,
    "editable": true
   },
   "outputs": [
    {
     "data": {
      "text/html": [
       "<html><script type=\"math/tex; mode=display\">\\newcommand{\\Bold}[1]{\\mathbf{#1}}\\left(\\mathcal{M}, \\left(\\frac{\\partial}{\\partial x },\\frac{\\partial}{\\partial y },\\frac{\\partial}{\\partial z }\\right)\\right)</script></html>"
      ],
      "text/plain": [
       "Coordinate frame (M, (d/dx,d/dy,d/dz))"
      ]
     },
     "execution_count": 113,
     "metadata": {},
     "output_type": "execute_result"
    }
   ],
   "source": [
    "M.default_frame()"
   ]
  },
  {
   "cell_type": "markdown",
   "metadata": {
    "deletable": true,
    "editable": true
   },
   "source": [
    "<p>Unless otherwise specified (via the command <span style=\"font-family: courier new,courier;\">set_default_frame()</span>), the default frame is that associated with the default chart:</p>"
   ]
  },
  {
   "cell_type": "code",
   "execution_count": 114,
   "metadata": {
    "collapsed": false,
    "deletable": true,
    "editable": true
   },
   "outputs": [
    {
     "data": {
      "text/html": [
       "<html><script type=\"math/tex; mode=display\">\\newcommand{\\Bold}[1]{\\mathbf{#1}}\\mathrm{True}</script></html>"
      ],
      "text/plain": [
       "True"
      ]
     },
     "execution_count": 114,
     "metadata": {},
     "output_type": "execute_result"
    }
   ],
   "source": [
    "M.default_frame() is M.default_chart().frame()"
   ]
  },
  {
   "cell_type": "code",
   "execution_count": 115,
   "metadata": {
    "collapsed": false,
    "deletable": true,
    "editable": true
   },
   "outputs": [
    {
     "data": {
      "text/html": [
       "<html><script type=\"math/tex; mode=display\">\\newcommand{\\Bold}[1]{\\mathbf{#1}}\\mathrm{True}</script></html>"
      ],
      "text/plain": [
       "True"
      ]
     },
     "execution_count": 115,
     "metadata": {},
     "output_type": "execute_result"
    }
   ],
   "source": [
    "U.default_frame() is U.default_chart().frame()"
   ]
  },
  {
   "cell_type": "markdown",
   "metadata": {
    "deletable": true,
    "editable": true
   },
   "source": [
    "<p>Individual elements of a frame can be accessed by means of their indices:</p>"
   ]
  },
  {
   "cell_type": "code",
   "execution_count": 116,
   "metadata": {
    "collapsed": false,
    "deletable": true,
    "editable": true
   },
   "outputs": [
    {
     "data": {
      "text/html": [
       "<html><script type=\"math/tex; mode=display\">\\newcommand{\\Bold}[1]{\\mathbf{#1}}\\frac{\\partial}{\\partial y }</script></html>"
      ],
      "text/plain": [
       "Vector field d/dy on the Open subset U of the 3-dimensional differentiable manifold M"
      ]
     },
     "execution_count": 116,
     "metadata": {},
     "output_type": "execute_result"
    }
   ],
   "source": [
    "e = U.default_frame() ; e2 = e[2] ; e2"
   ]
  },
  {
   "cell_type": "code",
   "execution_count": 117,
   "metadata": {
    "collapsed": false,
    "deletable": true,
    "editable": true
   },
   "outputs": [
    {
     "name": "stdout",
     "output_type": "stream",
     "text": [
      "Vector field d/dy on the Open subset U of the 3-dimensional differentiable manifold M\n"
     ]
    }
   ],
   "source": [
    "print(e2)"
   ]
  },
  {
   "cell_type": "markdown",
   "metadata": {
    "deletable": true,
    "editable": true
   },
   "source": [
    "<p><span id=\"cell_outer_109\">We may define a new vector field as follows:</span></p>"
   ]
  },
  {
   "cell_type": "code",
   "execution_count": 118,
   "metadata": {
    "collapsed": false,
    "deletable": true,
    "editable": true
   },
   "outputs": [
    {
     "name": "stdout",
     "output_type": "stream",
     "text": [
      "Vector field on the Open subset U of the 3-dimensional differentiable manifold M\n"
     ]
    }
   ],
   "source": [
    "v = e[2] + 2*x*e[3] ; print(v)"
   ]
  },
  {
   "cell_type": "code",
   "execution_count": 119,
   "metadata": {
    "collapsed": false,
    "deletable": true,
    "editable": true
   },
   "outputs": [
    {
     "data": {
      "text/html": [
       "<html><script type=\"math/tex; mode=display\">\\newcommand{\\Bold}[1]{\\mathbf{#1}}\\frac{\\partial}{\\partial y } + 2 x \\frac{\\partial}{\\partial z }</script></html>"
      ],
      "text/plain": [
       "d/dy + 2*x d/dz"
      ]
     },
     "execution_count": 119,
     "metadata": {},
     "output_type": "execute_result"
    }
   ],
   "source": [
    "v.display()"
   ]
  },
  {
   "cell_type": "markdown",
   "metadata": {
    "deletable": true,
    "editable": true
   },
   "source": [
    "<p>A vector field can be defined by its components with respect to a given vector frame. When the latter is not specified, the open set's default frame is of course assumed:</p>"
   ]
  },
  {
   "cell_type": "code",
   "execution_count": 120,
   "metadata": {
    "collapsed": false,
    "deletable": true,
    "editable": true
   },
   "outputs": [
    {
     "data": {
      "text/html": [
       "<html><script type=\"math/tex; mode=display\">\\newcommand{\\Bold}[1]{\\mathbf{#1}}v = \\left( y + 1 \\right) \\frac{\\partial}{\\partial x } - x \\frac{\\partial}{\\partial y } + x y z \\frac{\\partial}{\\partial z }</script></html>"
      ],
      "text/plain": [
       "v = (y + 1) d/dx - x d/dy + x*y*z d/dz"
      ]
     },
     "execution_count": 120,
     "metadata": {},
     "output_type": "execute_result"
    }
   ],
   "source": [
    "v = U.vector_field(name='v') # vector field defined on the open set U\n",
    "v[1] = 1+y\n",
    "v[2] = -x\n",
    "v[3] = x*y*z\n",
    "v.display()"
   ]
  },
  {
   "cell_type": "markdown",
   "metadata": {
    "deletable": true,
    "editable": true
   },
   "source": [
    "<p>Vector fields on $U$ are Sage <em>element</em> objects, whose <em>parent</em> is the set $\\mathfrak{X}(U)$ of vector fields defined on $U$:</p>"
   ]
  },
  {
   "cell_type": "code",
   "execution_count": 121,
   "metadata": {
    "collapsed": false,
    "deletable": true,
    "editable": true
   },
   "outputs": [
    {
     "data": {
      "text/html": [
       "<html><script type=\"math/tex; mode=display\">\\newcommand{\\Bold}[1]{\\mathbf{#1}}\\mathfrak{X}\\left(U\\right)</script></html>"
      ],
      "text/plain": [
       "Free module X(U) of vector fields on the Open subset U of the 3-dimensional differentiable manifold M"
      ]
     },
     "execution_count": 121,
     "metadata": {},
     "output_type": "execute_result"
    }
   ],
   "source": [
    "v.parent()"
   ]
  },
  {
   "cell_type": "markdown",
   "metadata": {
    "deletable": true,
    "editable": true
   },
   "source": [
    "<p>The set $\\mathfrak{X}(U)$ is a module over the commutative algebra $C^\\infty(U)$ of scalar fields on $U$:</p>"
   ]
  },
  {
   "cell_type": "code",
   "execution_count": 122,
   "metadata": {
    "collapsed": false,
    "deletable": true,
    "editable": true
   },
   "outputs": [
    {
     "name": "stdout",
     "output_type": "stream",
     "text": [
      "Free module X(U) of vector fields on the Open subset U of the 3-dimensional differentiable manifold M\n"
     ]
    }
   ],
   "source": [
    "print(v.parent())"
   ]
  },
  {
   "cell_type": "code",
   "execution_count": 123,
   "metadata": {
    "collapsed": false,
    "deletable": true,
    "editable": true
   },
   "outputs": [
    {
     "name": "stdout",
     "output_type": "stream",
     "text": [
      "Category of finite dimensional modules over Algebra of differentiable scalar fields on the Open subset U of the 3-dimensional differentiable manifold M\n"
     ]
    }
   ],
   "source": [
    "print(v.parent().category())"
   ]
  },
  {
   "cell_type": "code",
   "execution_count": 124,
   "metadata": {
    "collapsed": false,
    "deletable": true,
    "editable": true
   },
   "outputs": [
    {
     "data": {
      "text/html": [
       "<html><script type=\"math/tex; mode=display\">\\newcommand{\\Bold}[1]{\\mathbf{#1}}C^{\\infty}\\left(U\\right)</script></html>"
      ],
      "text/plain": [
       "Algebra of differentiable scalar fields on the Open subset U of the 3-dimensional differentiable manifold M"
      ]
     },
     "execution_count": 124,
     "metadata": {},
     "output_type": "execute_result"
    }
   ],
   "source": [
    "v.parent().base_ring()"
   ]
  },
  {
   "cell_type": "markdown",
   "metadata": {
    "deletable": true,
    "editable": true
   },
   "source": [
    "<p>A vector field acts on scalar fields:</p>"
   ]
  },
  {
   "cell_type": "code",
   "execution_count": 125,
   "metadata": {
    "collapsed": false,
    "deletable": true,
    "editable": true
   },
   "outputs": [
    {
     "data": {
      "text/html": [
       "<html><script type=\"math/tex; mode=display\">\\newcommand{\\Bold}[1]{\\mathbf{#1}}\\begin{array}{llcl} f:& U & \\longrightarrow & \\mathbb{R} \\\\ & \\left(x, y, z\\right) & \\longmapsto & x + y^{2} + z^{3} \\\\ & \\left(r, {\\theta}, {\\phi}\\right) & \\longmapsto & r \\left(r^{2} \\cos^{3}{\\left (\\theta \\right )} + r \\sin^{2}{\\left (\\phi \\right )} \\sin^{2}{\\left (\\theta \\right )} + \\sin{\\left (\\theta \\right )} \\cos{\\left (\\phi \\right )}\\right) \\end{array}</script></html>"
      ],
      "text/plain": [
       "f: U --> R\n",
       "   (x, y, z) |--> x + y**2 + z**3\n",
       "   (r, theta, phi) |--> r*(r**2*cos(theta)**3 + r*sin(phi)**2*sin(theta)**2 + sin(theta)*cos(phi))"
      ]
     },
     "execution_count": 125,
     "metadata": {},
     "output_type": "execute_result"
    }
   ],
   "source": [
    "f.display()"
   ]
  },
  {
   "cell_type": "code",
   "execution_count": 126,
   "metadata": {
    "collapsed": false,
    "deletable": true,
    "editable": true
   },
   "outputs": [
    {
     "name": "stdout",
     "output_type": "stream",
     "text": [
      "Scalar field v(f) on the Open subset U of the 3-dimensional differentiable manifold M\n"
     ]
    }
   ],
   "source": [
    "s = v(f) ; print(s)"
   ]
  },
  {
   "cell_type": "code",
   "execution_count": 127,
   "metadata": {
    "collapsed": false,
    "deletable": true,
    "editable": true
   },
   "outputs": [
    {
     "data": {
      "text/html": [
       "<html><script type=\"math/tex; mode=display\">\\newcommand{\\Bold}[1]{\\mathbf{#1}}\\begin{array}{llcl} v\\left(f\\right):& U & \\longrightarrow & \\mathbb{R} \\\\ & \\left(x, y, z\\right) & \\longmapsto & 3 x y z^{3} - 2 x y + y + 1 \\\\ & \\left(r, {\\theta}, {\\phi}\\right) & \\longmapsto & 3 r^{5} \\sin{\\left (\\phi \\right )} \\sin^{4}{\\left (\\theta \\right )} \\cos{\\left (\\phi \\right )} \\cos^{3}{\\left (\\theta \\right )} + 3 r^{5} \\sin{\\left (\\phi \\right )} \\sin^{2}{\\left (\\theta \\right )} \\cos{\\left (\\phi \\right )} \\cos^{5}{\\left (\\theta \\right )} - 2 r^{2} \\sin{\\left (\\phi \\right )} \\sin^{2}{\\left (\\theta \\right )} \\cos{\\left (\\phi \\right )} + r \\sin{\\left (\\phi \\right )} \\sin{\\left (\\theta \\right )} + 1 \\end{array}</script></html>"
      ],
      "text/plain": [
       "v(f): U --> R\n",
       "   (x, y, z) |--> 3*x*y*z**3 - 2*x*y + y + 1\n",
       "   (r, theta, phi) |--> 3*r**5*sin(phi)*sin(theta)**4*cos(phi)*cos(theta)**3 + 3*r**5*sin(phi)*sin(theta)**2*cos(phi)*cos(theta)**5 - 2*r**2*sin(phi)*sin(theta)**2*cos(phi) + r*sin(phi)*sin(theta) + 1"
      ]
     },
     "execution_count": 127,
     "metadata": {},
     "output_type": "execute_result"
    }
   ],
   "source": [
    "s.display()"
   ]
  },
  {
   "cell_type": "code",
   "execution_count": 128,
   "metadata": {
    "collapsed": false,
    "deletable": true,
    "editable": true
   },
   "outputs": [
    {
     "data": {
      "text/html": [
       "<html><script type=\"math/tex; mode=display\">\\newcommand{\\Bold}[1]{\\mathbf{#1}}\\frac{\\partial}{\\partial z } = \\frac{\\partial}{\\partial z }</script></html>"
      ],
      "text/plain": [
       "d/dz = d/dz"
      ]
     },
     "execution_count": 128,
     "metadata": {},
     "output_type": "execute_result"
    }
   ],
   "source": [
    "e[3].display()"
   ]
  },
  {
   "cell_type": "code",
   "execution_count": 129,
   "metadata": {
    "collapsed": false,
    "deletable": true,
    "editable": true
   },
   "outputs": [
    {
     "data": {
      "text/html": [
       "<html><script type=\"math/tex; mode=display\">\\newcommand{\\Bold}[1]{\\mathbf{#1}}\\begin{array}{llcl} \\frac{\\partial}{\\partial z } \\left( f \\right) : & U & \\longrightarrow & \\mathbb{R} \\\\ & \\left(x, y, z\\right) & \\longmapsto & 3 z^{2} \\\\ & \\left(r, {\\theta}, {\\phi}\\right) & \\longmapsto & 3 r^{2} \\cos^{2}{\\left (\\theta \\right )} \\end{array}</script></html>"
      ],
      "text/plain": [
       "d/dz(f): U --> R\n",
       "   (x, y, z) |--> 3*z**2\n",
       "   (r, theta, phi) |--> 3*r**2*cos(theta)**2"
      ]
     },
     "execution_count": 129,
     "metadata": {},
     "output_type": "execute_result"
    }
   ],
   "source": [
    "e[3](f).display()"
   ]
  },
  {
   "cell_type": "markdown",
   "metadata": {
    "deletable": true,
    "editable": true
   },
   "source": [
    "<p>Unset components are assumed to be zero:</p>"
   ]
  },
  {
   "cell_type": "code",
   "execution_count": 130,
   "metadata": {
    "collapsed": false,
    "deletable": true,
    "editable": true
   },
   "outputs": [
    {
     "data": {
      "text/html": [
       "<html><script type=\"math/tex; mode=display\">\\newcommand{\\Bold}[1]{\\mathbf{#1}}w = 3 \\frac{\\partial}{\\partial y }</script></html>"
      ],
      "text/plain": [
       "w = 3 d/dy"
      ]
     },
     "execution_count": 130,
     "metadata": {},
     "output_type": "execute_result"
    }
   ],
   "source": [
    "w = U.vector_field(name='w')\n",
    "w[2] = 3\n",
    "w.display()"
   ]
  },
  {
   "cell_type": "markdown",
   "metadata": {
    "deletable": true,
    "editable": true
   },
   "source": [
    "<p>A vector field on $U$ can be expanded in the vector frame associated with the chart $(r,\\theta,\\phi)$:</p>"
   ]
  },
  {
   "cell_type": "code",
   "execution_count": 131,
   "metadata": {
    "collapsed": false,
    "deletable": true,
    "editable": true
   },
   "outputs": [
    {
     "data": {
      "text/html": [
       "<html><script type=\"math/tex; mode=display\">\\newcommand{\\Bold}[1]{\\mathbf{#1}}v = \\left( \\frac{x \\left(y z^{2} + 1\\right)}{\\sqrt{x^{2} + y^{2} + z^{2}}} \\right) \\frac{\\partial}{\\partial r } + \\left( \\frac{x z \\left(- x^{2} y - y^{3} + 1\\right)}{\\sqrt{x^{2} + y^{2}} \\left(x^{2} + y^{2} + z^{2}\\right)} \\right) \\frac{\\partial}{\\partial {\\theta} } + \\left( - \\frac{x^{2} + y^{2} + y}{x^{2} + y^{2}} \\right) \\frac{\\partial}{\\partial {\\phi} }</script></html>"
      ],
      "text/plain": [
       "v = x*(y*z**2 + 1)/sqrt(x**2 + y**2 + z**2) d/dr + x*z*(-x**2*y - y**3 + 1)/(sqrt(x**2 + y**2)*(x**2 + y**2 + z**2)) d/dtheta - (x**2 + y**2 + y)/(x**2 + y**2) d/dphi"
      ]
     },
     "execution_count": 131,
     "metadata": {},
     "output_type": "execute_result"
    }
   ],
   "source": [
    "v.display(Y.frame())"
   ]
  },
  {
   "cell_type": "markdown",
   "metadata": {
    "deletable": true,
    "editable": true
   },
   "source": [
    "<p>By default, the components are expressed in terms of the default coordinates $(x,y,z)$. To express them in terms of the coordinates $(r,\\theta,\\phi)$, one should add the corresponding chart as the second argument of the method <span style=\"font-family: courier new,courier;\">display()</span>:</p>"
   ]
  },
  {
   "cell_type": "code",
   "execution_count": 132,
   "metadata": {
    "collapsed": false,
    "deletable": true,
    "editable": true
   },
   "outputs": [
    {
     "data": {
      "text/html": [
       "<html><script type=\"math/tex; mode=display\">\\newcommand{\\Bold}[1]{\\mathbf{#1}}v = \\left(r^{3} \\sin{\\left (\\phi \\right )} \\sin{\\left (\\theta \\right )} \\cos^{2}{\\left (\\theta \\right )} + 1\\right) \\sin{\\left (\\theta \\right )} \\cos{\\left (\\phi \\right )} \\frac{\\partial}{\\partial r } + \\frac{1}{r} \\left(- r^{3} \\sin{\\left (\\phi \\right )} \\sin^{3}{\\left (\\theta \\right )} + 1\\right) \\cos{\\left (\\phi \\right )} \\cos{\\left (\\theta \\right )} \\frac{\\partial}{\\partial {\\theta} } - \\frac{1}{r} \\left(r + \\frac{\\sin{\\left (\\phi \\right )}}{\\sin{\\left (\\theta \\right )}}\\right) \\frac{\\partial}{\\partial {\\phi} }</script></html>"
      ],
      "text/plain": [
       "v = (r**3*sin(phi)*sin(theta)*cos(theta)**2 + 1)*sin(theta)*cos(phi) d/dr + (-r**3*sin(phi)*sin(theta)**3 + 1)*cos(phi)*cos(theta)/r d/dtheta - (r + sin(phi)/sin(theta))/r d/dphi"
      ]
     },
     "execution_count": 132,
     "metadata": {},
     "output_type": "execute_result"
    }
   ],
   "source": [
    "v.display(Y.frame(), Y)"
   ]
  },
  {
   "cell_type": "code",
   "execution_count": 133,
   "metadata": {
    "collapsed": false,
    "deletable": true,
    "editable": true
   },
   "outputs": [
    {
     "data": {
      "text/html": [
       "<html><script type=\"math/tex; mode=display\">\\newcommand{\\Bold}[1]{\\mathbf{#1}}\\frac{\\partial}{\\partial x } = \\sin{\\left (\\theta \\right )} \\cos{\\left (\\phi \\right )} \\frac{\\partial}{\\partial r } + \\frac{1}{r} \\cos{\\left (\\phi \\right )} \\cos{\\left (\\theta \\right )} \\frac{\\partial}{\\partial {\\theta} } - \\frac{\\sin{\\left (\\phi \\right )}}{r \\sin{\\left (\\theta \\right )}} \\frac{\\partial}{\\partial {\\phi} }</script></html>"
      ],
      "text/plain": [
       "d/dx = sin(theta)*cos(phi) d/dr + cos(phi)*cos(theta)/r d/dtheta - sin(phi)/(r*sin(theta)) d/dphi"
      ]
     },
     "metadata": {},
     "output_type": "display_data"
    },
    {
     "data": {
      "text/html": [
       "<html><script type=\"math/tex; mode=display\">\\newcommand{\\Bold}[1]{\\mathbf{#1}}\\frac{\\partial}{\\partial y } = \\sin{\\left (\\phi \\right )} \\sin{\\left (\\theta \\right )} \\frac{\\partial}{\\partial r } + \\frac{1}{r} \\sin{\\left (\\phi \\right )} \\cos{\\left (\\theta \\right )} \\frac{\\partial}{\\partial {\\theta} } + \\frac{\\cos{\\left (\\phi \\right )}}{r \\sin{\\left (\\theta \\right )}} \\frac{\\partial}{\\partial {\\phi} }</script></html>"
      ],
      "text/plain": [
       "d/dy = sin(phi)*sin(theta) d/dr + sin(phi)*cos(theta)/r d/dtheta + cos(phi)/(r*sin(theta)) d/dphi"
      ]
     },
     "metadata": {},
     "output_type": "display_data"
    },
    {
     "data": {
      "text/html": [
       "<html><script type=\"math/tex; mode=display\">\\newcommand{\\Bold}[1]{\\mathbf{#1}}\\frac{\\partial}{\\partial z } = \\cos{\\left (\\theta \\right )} \\frac{\\partial}{\\partial r } - \\frac{1}{r} \\sin{\\left (\\theta \\right )} \\frac{\\partial}{\\partial {\\theta} }</script></html>"
      ],
      "text/plain": [
       "d/dz = cos(theta) d/dr - sin(theta)/r d/dtheta"
      ]
     },
     "metadata": {},
     "output_type": "display_data"
    }
   ],
   "source": [
    "for i in M.irange(): \n",
    "    show(e[i].display(Y.frame(), Y))"
   ]
  },
  {
   "cell_type": "markdown",
   "metadata": {
    "deletable": true,
    "editable": true
   },
   "source": [
    "<p>The components of a tensor field w.r.t. the default frame can also be obtained as a list, via the command <span style=\"font-family: courier new,courier;\">[:]</span>:</p>"
   ]
  },
  {
   "cell_type": "code",
   "execution_count": 134,
   "metadata": {
    "collapsed": false,
    "deletable": true,
    "editable": true
   },
   "outputs": [
    {
     "data": {
      "text/html": [
       "<html><script type=\"math/tex; mode=display\">\\newcommand{\\Bold}[1]{\\mathbf{#1}}\\left[y + 1, - x, x y z\\right]</script></html>"
      ],
      "text/plain": [
       "[y + 1, -x, x*y*z]"
      ]
     },
     "execution_count": 134,
     "metadata": {},
     "output_type": "execute_result"
    }
   ],
   "source": [
    "v[:]"
   ]
  },
  {
   "cell_type": "markdown",
   "metadata": {
    "deletable": true,
    "editable": true
   },
   "source": [
    "<p>An alternative is to use the method <span style=\"font-family: courier new,courier;\">display_comp()</span>:</p>"
   ]
  },
  {
   "cell_type": "code",
   "execution_count": 135,
   "metadata": {
    "collapsed": false,
    "deletable": true,
    "editable": true
   },
   "outputs": [
    {
     "data": {
      "text/html": [
       "<html><script type=\"math/tex; mode=display\">\\newcommand{\\Bold}[1]{\\mathbf{#1}}\\begin{array}{lcl} v_{\\phantom{\\, x}}^{ \\, x } & = & y + 1 \\\\ v_{\\phantom{\\, y}}^{ \\, y } & = & - x \\\\ v_{\\phantom{\\, z}}^{ \\, z } & = & x y z \\end{array}</script></html>"
      ],
      "text/plain": [
       "v^x = y + 1 \n",
       "v^y = -x \n",
       "v^z = x*y*z "
      ]
     },
     "execution_count": 135,
     "metadata": {},
     "output_type": "execute_result"
    }
   ],
   "source": [
    "v.display_comp()"
   ]
  },
  {
   "cell_type": "markdown",
   "metadata": {
    "deletable": true,
    "editable": true
   },
   "source": [
    "<p>To obtain the components w.r.t. to another frame, one may go through the method <span style=\"font-family: courier new,courier;\">comp()</span> and specify the frame:</p>"
   ]
  },
  {
   "cell_type": "code",
   "execution_count": 136,
   "metadata": {
    "collapsed": false,
    "deletable": true,
    "editable": true
   },
   "outputs": [
    {
     "data": {
      "text/html": [
       "<html><script type=\"math/tex; mode=display\">\\newcommand{\\Bold}[1]{\\mathbf{#1}}\\left[\\frac{x \\left(y z^{2} + 1\\right)}{\\sqrt{x^{2} + y^{2} + z^{2}}}, \\frac{x z \\left(- x^{2} y - y^{3} + 1\\right)}{\\sqrt{x^{2} + y^{2}} \\left(x^{2} + y^{2} + z^{2}\\right)}, - \\frac{x^{2} + y^{2} + y}{x^{2} + y^{2}}\\right]</script></html>"
      ],
      "text/plain": [
       "[x*(y*z**2 + 1)/sqrt(x**2 + y**2 + z**2),\n",
       " x*z*(-x**2*y - y**3 + 1)/(sqrt(x**2 + y**2)*(x**2 + y**2 + z**2)),\n",
       " -(x**2 + y**2 + y)/(x**2 + y**2)]"
      ]
     },
     "execution_count": 136,
     "metadata": {},
     "output_type": "execute_result"
    }
   ],
   "source": [
    "v.comp(Y.frame())[:]"
   ]
  },
  {
   "cell_type": "markdown",
   "metadata": {
    "deletable": true,
    "editable": true
   },
   "source": [
    "<p>However a shortcut is to provide the frame as the first argument of the square brackets:</p>"
   ]
  },
  {
   "cell_type": "code",
   "execution_count": 137,
   "metadata": {
    "collapsed": false,
    "deletable": true,
    "editable": true
   },
   "outputs": [
    {
     "data": {
      "text/html": [
       "<html><script type=\"math/tex; mode=display\">\\newcommand{\\Bold}[1]{\\mathbf{#1}}\\left[\\frac{x \\left(y z^{2} + 1\\right)}{\\sqrt{x^{2} + y^{2} + z^{2}}}, \\frac{x z \\left(- x^{2} y - y^{3} + 1\\right)}{\\sqrt{x^{2} + y^{2}} \\left(x^{2} + y^{2} + z^{2}\\right)}, - \\frac{x^{2} + y^{2} + y}{x^{2} + y^{2}}\\right]</script></html>"
      ],
      "text/plain": [
       "[x*(y*z**2 + 1)/sqrt(x**2 + y**2 + z**2),\n",
       " x*z*(-x**2*y - y**3 + 1)/(sqrt(x**2 + y**2)*(x**2 + y**2 + z**2)),\n",
       " -(x**2 + y**2 + y)/(x**2 + y**2)]"
      ]
     },
     "execution_count": 137,
     "metadata": {},
     "output_type": "execute_result"
    }
   ],
   "source": [
    "v[Y.frame(), :]"
   ]
  },
  {
   "cell_type": "code",
   "execution_count": 138,
   "metadata": {
    "collapsed": false,
    "deletable": true,
    "editable": true
   },
   "outputs": [
    {
     "data": {
      "text/html": [
       "<html><script type=\"math/tex; mode=display\">\\newcommand{\\Bold}[1]{\\mathbf{#1}}\\begin{array}{lcl} v_{\\phantom{\\, r}}^{ \\, r } & = & \\frac{x \\left(y z^{2} + 1\\right)}{\\sqrt{x^{2} + y^{2} + z^{2}}} \\\\ v_{\\phantom{\\, {\\theta}}}^{ \\, {\\theta} } & = & \\frac{x z \\left(- x^{2} y - y^{3} + 1\\right)}{\\sqrt{x^{2} + y^{2}} \\left(x^{2} + y^{2} + z^{2}\\right)} \\\\ v_{\\phantom{\\, {\\phi}}}^{ \\, {\\phi} } & = & - \\frac{x^{2} + y^{2} + y}{x^{2} + y^{2}} \\end{array}</script></html>"
      ],
      "text/plain": [
       "v^r = x*(y*z**2 + 1)/sqrt(x**2 + y**2 + z**2) \n",
       "v^theta = x*z*(-x**2*y - y**3 + 1)/(sqrt(x**2 + y**2)*(x**2 + y**2 + z**2)) \n",
       "v^phi = -(x**2 + y**2 + y)/(x**2 + y**2) "
      ]
     },
     "execution_count": 138,
     "metadata": {},
     "output_type": "execute_result"
    }
   ],
   "source": [
    "v.display_comp(Y.frame())"
   ]
  },
  {
   "cell_type": "markdown",
   "metadata": {
    "deletable": true,
    "editable": true
   },
   "source": [
    "<p>Components are shown expressed in terms of the default's coordinates; to get them in terms of the coordinates $(r,\\theta,\\phi)$ instead, add the chart name as the last argument in the square brackets:</p>"
   ]
  },
  {
   "cell_type": "code",
   "execution_count": 139,
   "metadata": {
    "collapsed": false,
    "deletable": true,
    "editable": true
   },
   "outputs": [
    {
     "data": {
      "text/html": [
       "<html><script type=\"math/tex; mode=display\">\\newcommand{\\Bold}[1]{\\mathbf{#1}}\\left[\\left(r^{3} \\sin{\\left (\\phi \\right )} \\sin{\\left (\\theta \\right )} \\cos^{2}{\\left (\\theta \\right )} + 1\\right) \\sin{\\left (\\theta \\right )} \\cos{\\left (\\phi \\right )}, \\frac{1}{r} \\left(- r^{3} \\sin{\\left (\\phi \\right )} \\sin^{3}{\\left (\\theta \\right )} + 1\\right) \\cos{\\left (\\phi \\right )} \\cos{\\left (\\theta \\right )}, - \\frac{1}{r} \\left(r + \\frac{\\sin{\\left (\\phi \\right )}}{\\sin{\\left (\\theta \\right )}}\\right)\\right]</script></html>"
      ],
      "text/plain": [
       "[(r**3*sin(phi)*sin(theta)*cos(theta)**2 + 1)*sin(theta)*cos(phi),\n",
       " (-r**3*sin(phi)*sin(theta)**3 + 1)*cos(phi)*cos(theta)/r,\n",
       " -(r + sin(phi)/sin(theta))/r]"
      ]
     },
     "execution_count": 139,
     "metadata": {},
     "output_type": "execute_result"
    }
   ],
   "source": [
    "v[Y.frame(), :, Y]"
   ]
  },
  {
   "cell_type": "markdown",
   "metadata": {
    "deletable": true,
    "editable": true
   },
   "source": [
    "<p>or specify the chart in <span style=\"font-family: courier new,courier;\">display_comp()</span>:<span style=\"font-family: courier new,courier;\"><br /></span></p>"
   ]
  },
  {
   "cell_type": "code",
   "execution_count": 140,
   "metadata": {
    "collapsed": false,
    "deletable": true,
    "editable": true
   },
   "outputs": [
    {
     "data": {
      "text/html": [
       "<html><script type=\"math/tex; mode=display\">\\newcommand{\\Bold}[1]{\\mathbf{#1}}\\begin{array}{lcl} v_{\\phantom{\\, r}}^{ \\, r } & = & \\left(r^{3} \\sin{\\left (\\phi \\right )} \\sin{\\left (\\theta \\right )} \\cos^{2}{\\left (\\theta \\right )} + 1\\right) \\sin{\\left (\\theta \\right )} \\cos{\\left (\\phi \\right )} \\\\ v_{\\phantom{\\, {\\theta}}}^{ \\, {\\theta} } & = & \\frac{1}{r} \\left(- r^{3} \\sin{\\left (\\phi \\right )} \\sin^{3}{\\left (\\theta \\right )} + 1\\right) \\cos{\\left (\\phi \\right )} \\cos{\\left (\\theta \\right )} \\\\ v_{\\phantom{\\, {\\phi}}}^{ \\, {\\phi} } & = & - \\frac{1}{r} \\left(r + \\frac{\\sin{\\left (\\phi \\right )}}{\\sin{\\left (\\theta \\right )}}\\right) \\end{array}</script></html>"
      ],
      "text/plain": [
       "v^r = (r**3*sin(phi)*sin(theta)*cos(theta)**2 + 1)*sin(theta)*cos(phi) \n",
       "v^theta = (-r**3*sin(phi)*sin(theta)**3 + 1)*cos(phi)*cos(theta)/r \n",
       "v^phi = -(r + sin(phi)/sin(theta))/r "
      ]
     },
     "execution_count": 140,
     "metadata": {},
     "output_type": "execute_result"
    }
   ],
   "source": [
    "v.display_comp(Y.frame(), chart=Y)"
   ]
  },
  {
   "cell_type": "markdown",
   "metadata": {
    "deletable": true,
    "editable": true
   },
   "source": [
    "To get some vector component as a scalar field instead of a coordinate expression, use double square brackets:"
   ]
  },
  {
   "cell_type": "code",
   "execution_count": 141,
   "metadata": {
    "collapsed": false,
    "deletable": true,
    "editable": true
   },
   "outputs": [
    {
     "name": "stdout",
     "output_type": "stream",
     "text": [
      "Scalar field on the Open subset U of the 3-dimensional differentiable manifold M\n"
     ]
    }
   ],
   "source": [
    "print(v[[1]])"
   ]
  },
  {
   "cell_type": "code",
   "execution_count": 142,
   "metadata": {
    "collapsed": false,
    "deletable": true,
    "editable": true
   },
   "outputs": [
    {
     "data": {
      "text/html": [
       "<html><script type=\"math/tex; mode=display\">\\newcommand{\\Bold}[1]{\\mathbf{#1}}\\begin{array}{llcl} & U & \\longrightarrow & \\mathbb{R} \\\\ & \\left(x, y, z\\right) & \\longmapsto & y + 1 \\\\ & \\left(r, {\\theta}, {\\phi}\\right) & \\longmapsto & r \\sin{\\left (\\phi \\right )} \\sin{\\left (\\theta \\right )} + 1 \\end{array}</script></html>"
      ],
      "text/plain": [
       "U --> R\n",
       "(x, y, z) |--> y + 1\n",
       "(r, theta, phi) |--> r*sin(phi)*sin(theta) + 1"
      ]
     },
     "execution_count": 142,
     "metadata": {},
     "output_type": "execute_result"
    }
   ],
   "source": [
    "v[[1]].display()"
   ]
  },
  {
   "cell_type": "code",
   "execution_count": 143,
   "metadata": {
    "collapsed": false,
    "deletable": true,
    "editable": true
   },
   "outputs": [
    {
     "data": {
      "image/png": "[encoded data removed]",
      "text/latex": [
       "$$y + 1$$"
      ],
      "text/plain": [
       "y + 1"
      ]
     },
     "execution_count": 143,
     "metadata": {},
     "output_type": "execute_result"
    }
   ],
   "source": [
    "v[[1]].expr(X_U)"
   ]
  },
  {
   "cell_type": "markdown",
   "metadata": {
    "deletable": true,
    "editable": true
   },
   "source": [
    "<p>A vector field can be defined with components being unspecified functions of the coordinates:</p>"
   ]
  },
  {
   "cell_type": "code",
   "execution_count": 144,
   "metadata": {
    "collapsed": false,
    "deletable": true,
    "editable": true
   },
   "outputs": [
    {
     "data": {
      "text/html": [
       "<html><script type=\"math/tex; mode=display\">\\newcommand{\\Bold}[1]{\\mathbf{#1}}u = \\operatorname{u_{x}}{\\left (x,y,z \\right )} \\frac{\\partial}{\\partial x } + \\operatorname{u_{y}}{\\left (x,y,z \\right )} \\frac{\\partial}{\\partial y } + \\operatorname{u_{z}}{\\left (x,y,z \\right )} \\frac{\\partial}{\\partial z }</script></html>"
      ],
      "text/plain": [
       "u = u_x(x, y, z) d/dx + u_y(x, y, z) d/dy + u_z(x, y, z) d/dz"
      ]
     },
     "execution_count": 144,
     "metadata": {},
     "output_type": "execute_result"
    }
   ],
   "source": [
    "u = U.vector_field(name='u')\n",
    "u[:] = [function('u_x')(x,y,z), function('u_y')(x,y,z), function('u_z')(x,y,z)]\n",
    "u.display()"
   ]
  },
  {
   "cell_type": "code",
   "execution_count": 145,
   "metadata": {
    "collapsed": false,
    "deletable": true,
    "editable": true
   },
   "outputs": [
    {
     "data": {
      "text/html": [
       "<html><script type=\"math/tex; mode=display\">\\newcommand{\\Bold}[1]{\\mathbf{#1}}s = \\left( y + \\operatorname{u_{x}}{\\left (x,y,z \\right )} + 1 \\right) \\frac{\\partial}{\\partial x } + \\left( - x + \\operatorname{u_{y}}{\\left (x,y,z \\right )} \\right) \\frac{\\partial}{\\partial y } + \\left( x y z + \\operatorname{u_{z}}{\\left (x,y,z \\right )} \\right) \\frac{\\partial}{\\partial z }</script></html>"
      ],
      "text/plain": [
       "s = (y + u_x(x, y, z) + 1) d/dx + (-x + u_y(x, y, z)) d/dy + (x*y*z + u_z(x, y, z)) d/dz"
      ]
     },
     "execution_count": 145,
     "metadata": {},
     "output_type": "execute_result"
    }
   ],
   "source": [
    "s = v + u ; s.set_name('s') ; s.display()"
   ]
  },
  {
   "cell_type": "markdown",
   "metadata": {
    "deletable": true,
    "editable": true
   },
   "source": [
    "<h3>Values of vector fields at a given point</h3>\n",
    "<p>The value of a vector field at some point of the manifold is obtained via the method <span style=\"font-family: courier new,courier;\">at()</span>:</p>"
   ]
  },
  {
   "cell_type": "code",
   "execution_count": 146,
   "metadata": {
    "collapsed": false,
    "deletable": true,
    "editable": true
   },
   "outputs": [
    {
     "name": "stdout",
     "output_type": "stream",
     "text": [
      "Tangent vector v at Point p on the 3-dimensional differentiable manifold M\n"
     ]
    }
   ],
   "source": [
    "vp = v.at(p) ; print(vp)"
   ]
  },
  {
   "cell_type": "code",
   "execution_count": 147,
   "metadata": {
    "collapsed": false,
    "deletable": true,
    "editable": true
   },
   "outputs": [
    {
     "data": {
      "text/html": [
       "<html><script type=\"math/tex; mode=display\">\\newcommand{\\Bold}[1]{\\mathbf{#1}}v = 3 \\frac{\\partial}{\\partial x } -\\frac{\\partial}{\\partial y } -2 \\frac{\\partial}{\\partial z }</script></html>"
      ],
      "text/plain": [
       "v = 3 d/dx - d/dy - 2 d/dz"
      ]
     },
     "execution_count": 147,
     "metadata": {},
     "output_type": "execute_result"
    }
   ],
   "source": [
    "vp.display()"
   ]
  },
  {
   "cell_type": "markdown",
   "metadata": {
    "deletable": true,
    "editable": true
   },
   "source": [
    "<p>Indeed, recall that, w.r.t. chart X_U=$(x,y,z)$,  the coordinates of the point $p$ and the components of the vector field $v$ are</p>"
   ]
  },
  {
   "cell_type": "code",
   "execution_count": 148,
   "metadata": {
    "collapsed": false,
    "deletable": true,
    "editable": true
   },
   "outputs": [
    {
     "data": {
      "text/html": [
       "<html><script type=\"math/tex; mode=display\">\\newcommand{\\Bold}[1]{\\mathbf{#1}}\\left(1, 2, -1\\right)</script></html>"
      ],
      "text/plain": [
       "(1, 2, -1)"
      ]
     },
     "execution_count": 148,
     "metadata": {},
     "output_type": "execute_result"
    }
   ],
   "source": [
    "p.coord(X_U)"
   ]
  },
  {
   "cell_type": "code",
   "execution_count": 149,
   "metadata": {
    "collapsed": false,
    "deletable": true,
    "editable": true
   },
   "outputs": [
    {
     "data": {
      "text/html": [
       "<html><script type=\"math/tex; mode=display\">\\newcommand{\\Bold}[1]{\\mathbf{#1}}v = \\left( y + 1 \\right) \\frac{\\partial}{\\partial x } - x \\frac{\\partial}{\\partial y } + x y z \\frac{\\partial}{\\partial z }</script></html>"
      ],
      "text/plain": [
       "v = (y + 1) d/dx - x d/dy + x*y*z d/dz"
      ]
     },
     "execution_count": 149,
     "metadata": {},
     "output_type": "execute_result"
    }
   ],
   "source": [
    "v.display(X_U.frame(), X_U)"
   ]
  },
  {
   "cell_type": "markdown",
   "metadata": {
    "deletable": true,
    "editable": true
   },
   "source": [
    "<p>Note that to simplify the writing, the symbol used to denote the value of the vector field at point $p$ is the same as that of the vector field itself (namely $v$); this can be changed by the method <span style=\"font-family: courier new,courier;\">set_name()</span>:</p>"
   ]
  },
  {
   "cell_type": "code",
   "execution_count": 150,
   "metadata": {
    "collapsed": false,
    "deletable": true,
    "editable": true
   },
   "outputs": [
    {
     "data": {
      "text/html": [
       "<html><script type=\"math/tex; mode=display\">\\newcommand{\\Bold}[1]{\\mathbf{#1}}v|_p = 3 \\frac{\\partial}{\\partial x } -\\frac{\\partial}{\\partial y } -2 \\frac{\\partial}{\\partial z }</script></html>"
      ],
      "text/plain": [
       "v = 3 d/dx - d/dy - 2 d/dz"
      ]
     },
     "execution_count": 150,
     "metadata": {},
     "output_type": "execute_result"
    }
   ],
   "source": [
    "vp.set_name(latex_name='v|_p')\n",
    "vp.display()"
   ]
  },
  {
   "cell_type": "markdown",
   "metadata": {
    "deletable": true,
    "editable": true
   },
   "source": [
    "<p>Of course, $v|_p$ belongs to the tangent space at $p$:</p>"
   ]
  },
  {
   "cell_type": "code",
   "execution_count": 151,
   "metadata": {
    "collapsed": false,
    "deletable": true,
    "editable": true
   },
   "outputs": [
    {
     "data": {
      "text/html": [
       "<html><script type=\"math/tex; mode=display\">\\newcommand{\\Bold}[1]{\\mathbf{#1}}T_{p}\\,\\mathcal{M}</script></html>"
      ],
      "text/plain": [
       "Tangent space at Point p on the 3-dimensional differentiable manifold M"
      ]
     },
     "execution_count": 151,
     "metadata": {},
     "output_type": "execute_result"
    }
   ],
   "source": [
    "vp.parent()"
   ]
  },
  {
   "cell_type": "code",
   "execution_count": 152,
   "metadata": {
    "collapsed": false,
    "deletable": true,
    "editable": true
   },
   "outputs": [
    {
     "data": {
      "text/html": [
       "<html><script type=\"math/tex; mode=display\">\\newcommand{\\Bold}[1]{\\mathbf{#1}}\\mathrm{True}</script></html>"
      ],
      "text/plain": [
       "True"
      ]
     },
     "execution_count": 152,
     "metadata": {},
     "output_type": "execute_result"
    }
   ],
   "source": [
    "vp in M.tangent_space(p)"
   ]
  },
  {
   "cell_type": "code",
   "execution_count": 153,
   "metadata": {
    "collapsed": false,
    "deletable": true,
    "editable": true
   },
   "outputs": [
    {
     "name": "stdout",
     "output_type": "stream",
     "text": [
      "Tangent vector u at Point p on the 3-dimensional differentiable manifold M\n"
     ]
    }
   ],
   "source": [
    "up = u.at(p) ; print(up)"
   ]
  },
  {
   "cell_type": "code",
   "execution_count": 154,
   "metadata": {
    "collapsed": false,
    "deletable": true,
    "editable": true
   },
   "outputs": [
    {
     "data": {
      "text/html": [
       "<html><script type=\"math/tex; mode=display\">\\newcommand{\\Bold}[1]{\\mathbf{#1}}u = \\verb|u_x(1,|\\phantom{\\verb!x!}\\verb|2,|\\phantom{\\verb!x!}\\verb|-1)| \\frac{\\partial}{\\partial x } + \\verb|u_y(1,|\\phantom{\\verb!x!}\\verb|2,|\\phantom{\\verb!x!}\\verb|-1)| \\frac{\\partial}{\\partial y } + \\verb|u_z(1,|\\phantom{\\verb!x!}\\verb|2,|\\phantom{\\verb!x!}\\verb|-1)| \\frac{\\partial}{\\partial z }</script></html>"
      ],
      "text/plain": [
       "u = u_x(1, 2, -1) d/dx + u_y(1, 2, -1) d/dy + u_z(1, 2, -1) d/dz"
      ]
     },
     "execution_count": 154,
     "metadata": {},
     "output_type": "execute_result"
    }
   ],
   "source": [
    "up.display()"
   ]
  },
  {
   "cell_type": "markdown",
   "metadata": {
    "deletable": true,
    "editable": true
   },
   "source": [
    "<h2>1-forms</h2>\n",
    "<p>A 1-form on $\\mathcal{M}$ is a field of linear forms. For instance, it can be the <strong>differential of a scalar field</strong>:</p>"
   ]
  },
  {
   "cell_type": "code",
   "execution_count": 155,
   "metadata": {
    "collapsed": false,
    "deletable": true,
    "editable": true
   },
   "outputs": [
    {
     "name": "stdout",
     "output_type": "stream",
     "text": [
      "1-form df on the Open subset U of the 3-dimensional differentiable manifold M\n"
     ]
    }
   ],
   "source": [
    "df = f.differential() ; print(df)"
   ]
  },
  {
   "cell_type": "code",
   "execution_count": 156,
   "metadata": {
    "collapsed": false,
    "deletable": true,
    "editable": true
   },
   "outputs": [
    {
     "data": {
      "text/html": [
       "<html><script type=\"math/tex; mode=display\">\\newcommand{\\Bold}[1]{\\mathbf{#1}}\\mathrm{d}f = \\mathrm{d} x + 2 y \\mathrm{d} y + 3 z^{2} \\mathrm{d} z</script></html>"
      ],
      "text/plain": [
       "df = dx + 2*y dy + 3*z**2 dz"
      ]
     },
     "execution_count": 156,
     "metadata": {},
     "output_type": "execute_result"
    }
   ],
   "source": [
    "df.display()"
   ]
  },
  {
   "cell_type": "markdown",
   "metadata": {
    "deletable": true,
    "editable": true
   },
   "source": [
    "<p>In the above writing, the 1-form is expanded over the basis $(\\mathrm{d}x, \\mathrm{d}y, \\mathrm{d}z)$ associated with the chart $(x,y,z)$. This basis can be accessed via the method <span style=\"font-family: courier new,courier;\">coframe()</span>:</p>"
   ]
  },
  {
   "cell_type": "code",
   "execution_count": 157,
   "metadata": {
    "collapsed": false,
    "deletable": true,
    "editable": true
   },
   "outputs": [
    {
     "data": {
      "text/html": [
       "<html><script type=\"math/tex; mode=display\">\\newcommand{\\Bold}[1]{\\mathbf{#1}}\\left(\\mathcal{M}, \\left(\\mathrm{d} x,\\mathrm{d} y,\\mathrm{d} z\\right)\\right)</script></html>"
      ],
      "text/plain": [
       "Coordinate coframe (M, (dx,dy,dz))"
      ]
     },
     "execution_count": 157,
     "metadata": {},
     "output_type": "execute_result"
    }
   ],
   "source": [
    "dX = X.coframe() ; dX"
   ]
  },
  {
   "cell_type": "markdown",
   "metadata": {
    "deletable": true,
    "editable": true
   },
   "source": [
    "<p>The list of all coframes defined on a given manifold open subset is returned by the method <span style=\"font-family: courier new,courier;\">coframes()</span>:</p>"
   ]
  },
  {
   "cell_type": "code",
   "execution_count": 158,
   "metadata": {
    "collapsed": false,
    "deletable": true,
    "editable": true
   },
   "outputs": [
    {
     "data": {
      "text/html": [
       "<html><script type=\"math/tex; mode=display\">\\newcommand{\\Bold}[1]{\\mathbf{#1}}\\left[\\left(\\mathcal{M}, \\left(\\mathrm{d} x,\\mathrm{d} y,\\mathrm{d} z\\right)\\right), \\left(U, \\left(\\mathrm{d} x,\\mathrm{d} y,\\mathrm{d} z\\right)\\right), \\left(U, \\left(\\mathrm{d} r,\\mathrm{d} {\\theta},\\mathrm{d} {\\phi}\\right)\\right)\\right]</script></html>"
      ],
      "text/plain": [
       "[Coordinate coframe (M, (dx,dy,dz)),\n",
       " Coordinate coframe (U, (dx,dy,dz)),\n",
       " Coordinate coframe (U, (dr,dtheta,dphi))]"
      ]
     },
     "execution_count": 158,
     "metadata": {},
     "output_type": "execute_result"
    }
   ],
   "source": [
    "M.coframes()"
   ]
  },
  {
   "cell_type": "markdown",
   "metadata": {
    "deletable": true,
    "editable": true
   },
   "source": [
    "<p>As for a vector field, the value of the differential form at some point on the manifold is obtained by the method <span style=\"font-family: courier new,courier;\">at()</span>:</p>"
   ]
  },
  {
   "cell_type": "code",
   "execution_count": 159,
   "metadata": {
    "collapsed": false,
    "deletable": true,
    "editable": true
   },
   "outputs": [
    {
     "name": "stdout",
     "output_type": "stream",
     "text": [
      "Linear form df on the Tangent space at Point p on the 3-dimensional differentiable manifold M\n"
     ]
    }
   ],
   "source": [
    "dfp = df.at(p) ; print(dfp)"
   ]
  },
  {
   "cell_type": "code",
   "execution_count": 160,
   "metadata": {
    "collapsed": false,
    "deletable": true,
    "editable": true
   },
   "outputs": [
    {
     "data": {
      "text/html": [
       "<html><script type=\"math/tex; mode=display\">\\newcommand{\\Bold}[1]{\\mathbf{#1}}\\mathrm{d}f = \\mathrm{d} x + 4 \\mathrm{d} y + 3 \\mathrm{d} z</script></html>"
      ],
      "text/plain": [
       "df = dx + 4 dy + 3 dz"
      ]
     },
     "execution_count": 160,
     "metadata": {},
     "output_type": "execute_result"
    }
   ],
   "source": [
    "dfp.display()"
   ]
  },
  {
   "cell_type": "markdown",
   "metadata": {
    "deletable": true,
    "editable": true
   },
   "source": [
    "<p>Recall that</p>"
   ]
  },
  {
   "cell_type": "code",
   "execution_count": 161,
   "metadata": {
    "collapsed": false,
    "deletable": true,
    "editable": true
   },
   "outputs": [
    {
     "data": {
      "text/html": [
       "<html><script type=\"math/tex; mode=display\">\\newcommand{\\Bold}[1]{\\mathbf{#1}}\\left(1, 2, -1\\right)</script></html>"
      ],
      "text/plain": [
       "(1, 2, -1)"
      ]
     },
     "execution_count": 161,
     "metadata": {},
     "output_type": "execute_result"
    }
   ],
   "source": [
    "p.coord()"
   ]
  },
  {
   "cell_type": "markdown",
   "metadata": {
    "deletable": true,
    "editable": true
   },
   "source": [
    "<p>The linear form $\\mathrm{d}f|_p$ belongs to the dual of the tangent vector space at $p$:</p>"
   ]
  },
  {
   "cell_type": "code",
   "execution_count": 162,
   "metadata": {
    "collapsed": false,
    "deletable": true,
    "editable": true
   },
   "outputs": [
    {
     "data": {
      "text/html": [
       "<html><script type=\"math/tex; mode=display\">\\newcommand{\\Bold}[1]{\\mathbf{#1}}T_{p}\\,\\mathcal{M}^*</script></html>"
      ],
      "text/plain": [
       "Dual of the Tangent space at Point p on the 3-dimensional differentiable manifold M"
      ]
     },
     "execution_count": 162,
     "metadata": {},
     "output_type": "execute_result"
    }
   ],
   "source": [
    "dfp.parent()"
   ]
  },
  {
   "cell_type": "code",
   "execution_count": 163,
   "metadata": {
    "collapsed": false,
    "deletable": true,
    "editable": true
   },
   "outputs": [
    {
     "data": {
      "text/html": [
       "<html><script type=\"math/tex; mode=display\">\\newcommand{\\Bold}[1]{\\mathbf{#1}}\\mathrm{True}</script></html>"
      ],
      "text/plain": [
       "True"
      ]
     },
     "execution_count": 163,
     "metadata": {},
     "output_type": "execute_result"
    }
   ],
   "source": [
    "dfp.parent() is M.tangent_space(p).dual()"
   ]
  },
  {
   "cell_type": "markdown",
   "metadata": {
    "deletable": true,
    "editable": true
   },
   "source": [
    "<p>As such, it is acting on vectors at $p$, yielding a real number:</p>"
   ]
  },
  {
   "cell_type": "code",
   "execution_count": 164,
   "metadata": {
    "collapsed": false,
    "deletable": true,
    "editable": true
   },
   "outputs": [
    {
     "name": "stdout",
     "output_type": "stream",
     "text": [
      "Tangent vector v at Point p on the 3-dimensional differentiable manifold M\n"
     ]
    },
    {
     "data": {
      "text/html": [
       "<html><script type=\"math/tex; mode=display\">\\newcommand{\\Bold}[1]{\\mathbf{#1}}v|_p = 3 \\frac{\\partial}{\\partial x } -\\frac{\\partial}{\\partial y } -2 \\frac{\\partial}{\\partial z }</script></html>"
      ],
      "text/plain": [
       "v = 3 d/dx - d/dy - 2 d/dz"
      ]
     },
     "execution_count": 164,
     "metadata": {},
     "output_type": "execute_result"
    }
   ],
   "source": [
    "print(vp) ; vp.display()"
   ]
  },
  {
   "cell_type": "code",
   "execution_count": 165,
   "metadata": {
    "collapsed": false,
    "deletable": true,
    "editable": true
   },
   "outputs": [
    {
     "data": {
      "image/png": "[encoded data removed]",
      "text/latex": [
       "$$-7$$"
      ],
      "text/plain": [
       "-7"
      ]
     },
     "execution_count": 165,
     "metadata": {},
     "output_type": "execute_result"
    }
   ],
   "source": [
    "dfp(vp)"
   ]
  },
  {
   "cell_type": "code",
   "execution_count": 166,
   "metadata": {
    "collapsed": false,
    "deletable": true,
    "editable": true
   },
   "outputs": [
    {
     "name": "stdout",
     "output_type": "stream",
     "text": [
      "Tangent vector u at Point p on the 3-dimensional differentiable manifold M\n"
     ]
    },
    {
     "data": {
      "text/html": [
       "<html><script type=\"math/tex; mode=display\">\\newcommand{\\Bold}[1]{\\mathbf{#1}}u = \\verb|u_x(1,|\\phantom{\\verb!x!}\\verb|2,|\\phantom{\\verb!x!}\\verb|-1)| \\frac{\\partial}{\\partial x } + \\verb|u_y(1,|\\phantom{\\verb!x!}\\verb|2,|\\phantom{\\verb!x!}\\verb|-1)| \\frac{\\partial}{\\partial y } + \\verb|u_z(1,|\\phantom{\\verb!x!}\\verb|2,|\\phantom{\\verb!x!}\\verb|-1)| \\frac{\\partial}{\\partial z }</script></html>"
      ],
      "text/plain": [
       "u = u_x(1, 2, -1) d/dx + u_y(1, 2, -1) d/dy + u_z(1, 2, -1) d/dz"
      ]
     },
     "execution_count": 166,
     "metadata": {},
     "output_type": "execute_result"
    }
   ],
   "source": [
    "print(up) ; up.display()"
   ]
  },
  {
   "cell_type": "code",
   "execution_count": 167,
   "metadata": {
    "collapsed": false,
    "deletable": true,
    "editable": true
   },
   "outputs": [
    {
     "data": {
      "image/png": "[encoded data removed]",
      "text/latex": [
       "$$\\operatorname{u_{x}}{\\left (1,2,-1 \\right )} + 4 \\operatorname{u_{y}}{\\left (1,2,-1 \\right )} + 3 \\operatorname{u_{z}}{\\left (1,2,-1 \\right )}$$"
      ],
      "text/plain": [
       "u_x(1, 2, -1) + 4*u_y(1, 2, -1) + 3*u_z(1, 2, -1)"
      ]
     },
     "execution_count": 167,
     "metadata": {},
     "output_type": "execute_result"
    }
   ],
   "source": [
    "dfp(up)"
   ]
  },
  {
   "cell_type": "markdown",
   "metadata": {
    "deletable": true,
    "editable": true
   },
   "source": [
    "<p>The differential 1-form of the unspecified scalar field $h$:</p>"
   ]
  },
  {
   "cell_type": "code",
   "execution_count": 168,
   "metadata": {
    "collapsed": false,
    "deletable": true,
    "editable": true
   },
   "outputs": [
    {
     "data": {
      "text/html": [
       "<html><script type=\"math/tex; mode=display\">\\newcommand{\\Bold}[1]{\\mathbf{#1}}\\begin{array}{llcl} h:& U & \\longrightarrow & \\mathbb{R} \\\\ & \\left(x, y, z\\right) & \\longmapsto & H{\\left (x,y,z \\right )} \\\\ & \\left(r, {\\theta}, {\\phi}\\right) & \\longmapsto & H{\\left (r \\sin{\\left (\\theta \\right )} \\cos{\\left (\\phi \\right )},r \\sin{\\left (\\phi \\right )} \\sin{\\left (\\theta \\right )},r \\cos{\\left (\\theta \\right )} \\right )} \\end{array}</script></html>"
      ],
      "text/plain": [
       "h: U --> R\n",
       "   (x, y, z) |--> H(x, y, z)\n",
       "   (r, theta, phi) |--> H(r*sin(theta)*cos(phi), r*sin(phi)*sin(theta), r*cos(theta))"
      ]
     },
     "execution_count": 168,
     "metadata": {},
     "output_type": "execute_result"
    }
   ],
   "source": [
    "h.display()"
   ]
  },
  {
   "cell_type": "code",
   "execution_count": 169,
   "metadata": {
    "collapsed": false,
    "deletable": true,
    "editable": true
   },
   "outputs": [
    {
     "data": {
      "text/html": [
       "<html><script type=\"math/tex; mode=display\">\\newcommand{\\Bold}[1]{\\mathbf{#1}}\\mathrm{d}h = \\frac{\\partial}{\\partial x} H{\\left (x,y,z \\right )} \\mathrm{d} x + \\frac{\\partial}{\\partial y} H{\\left (x,y,z \\right )} \\mathrm{d} y + \\frac{\\partial}{\\partial z} H{\\left (x,y,z \\right )} \\mathrm{d} z</script></html>"
      ],
      "text/plain": [
       "dh = Derivative(H(x, y, z), x) dx + Derivative(H(x, y, z), y) dy + Derivative(H(x, y, z), z) dz"
      ]
     },
     "execution_count": 169,
     "metadata": {},
     "output_type": "execute_result"
    }
   ],
   "source": [
    "h.display() ; dh = h.differential() ; dh.display()"
   ]
  },
  {
   "cell_type": "markdown",
   "metadata": {
    "deletable": true,
    "editable": true
   },
   "source": [
    "<p>A 1-form <span id=\"cell_outer_132\">can also be defined from scratch:</span></p>"
   ]
  },
  {
   "cell_type": "code",
   "execution_count": 170,
   "metadata": {
    "collapsed": false,
    "deletable": true,
    "editable": true
   },
   "outputs": [
    {
     "name": "stdout",
     "output_type": "stream",
     "text": [
      "1-form omega on the Open subset U of the 3-dimensional differentiable manifold M\n"
     ]
    }
   ],
   "source": [
    "om = U.one_form('omega', r'\\omega') ; print(om)"
   ]
  },
  {
   "cell_type": "markdown",
   "metadata": {
    "deletable": true,
    "editable": true
   },
   "source": [
    "<p>It can be specified by providing its components in a given coframe:</p>"
   ]
  },
  {
   "cell_type": "code",
   "execution_count": 171,
   "metadata": {
    "collapsed": false,
    "deletable": true,
    "editable": true
   },
   "outputs": [
    {
     "data": {
      "text/html": [
       "<html><script type=\"math/tex; mode=display\">\\newcommand{\\Bold}[1]{\\mathbf{#1}}\\omega = \\left( x^{2} + y^{2} \\right) \\mathrm{d} x + z \\mathrm{d} y + \\left( x - z \\right) \\mathrm{d} z</script></html>"
      ],
      "text/plain": [
       "omega = (x**2 + y**2) dx + z dy + (x - z) dz"
      ]
     },
     "execution_count": 171,
     "metadata": {},
     "output_type": "execute_result"
    }
   ],
   "source": [
    "om[:] = [x^2+y^2, z, x-z]    # components in the default coframe (dx,dy,dz)\n",
    "om.display()"
   ]
  },
  {
   "cell_type": "markdown",
   "metadata": {
    "deletable": true,
    "editable": true
   },
   "source": [
    "<p>Of course, one may set the components in a frame different from the default one:</p>"
   ]
  },
  {
   "cell_type": "code",
   "execution_count": 172,
   "metadata": {
    "collapsed": false,
    "deletable": true,
    "editable": true
   },
   "outputs": [
    {
     "data": {
      "text/html": [
       "<html><script type=\"math/tex; mode=display\">\\newcommand{\\Bold}[1]{\\mathbf{#1}}\\omega = r \\sin{\\left (\\theta \\right )} \\cos{\\left (\\phi \\right )} \\mathrm{d} r + r \\sin{\\left (\\phi \\right )} \\sin{\\left (\\theta \\right )} \\mathrm{d} {\\phi}</script></html>"
      ],
      "text/plain": [
       "omega = r*sin(theta)*cos(phi) dr + r*sin(phi)*sin(theta) dphi"
      ]
     },
     "execution_count": 172,
     "metadata": {},
     "output_type": "execute_result"
    }
   ],
   "source": [
    "om[Y.frame(), :, Y] = [r*sin(th)*cos(ph), 0, r*sin(th)*sin(ph)]\n",
    "om.display(Y.frame(), Y)"
   ]
  },
  {
   "cell_type": "markdown",
   "metadata": {
    "deletable": true,
    "editable": true
   },
   "source": [
    "<p>The components in the coframe $(\\mathrm{d}x,\\mathrm{d}y,\\mathrm{d}z)$ are updated automatically:</p>"
   ]
  },
  {
   "cell_type": "code",
   "execution_count": 173,
   "metadata": {
    "collapsed": false,
    "deletable": true,
    "editable": true
   },
   "outputs": [
    {
     "data": {
      "text/html": [
       "<html><script type=\"math/tex; mode=display\">\\newcommand{\\Bold}[1]{\\mathbf{#1}}\\omega = \\left( \\frac{x^{4} + x^{2} y^{2} - y^{2} \\sqrt{x^{2} + y^{2} + z^{2}}}{\\left(x^{2} + y^{2}\\right) \\sqrt{x^{2} + y^{2} + z^{2}}} \\right) \\mathrm{d} x + \\left( \\frac{x y \\left(x^{2} + y^{2} + \\sqrt{x^{2} + y^{2} + z^{2}}\\right)}{\\left(x^{2} + y^{2}\\right) \\sqrt{x^{2} + y^{2} + z^{2}}} \\right) \\mathrm{d} y + \\left( \\frac{x z}{\\sqrt{x^{2} + y^{2} + z^{2}}} \\right) \\mathrm{d} z</script></html>"
      ],
      "text/plain": [
       "omega = (x**4 + x**2*y**2 - y**2*sqrt(x**2 + y**2 + z**2))/((x**2 + y**2)*sqrt(x**2 + y**2 + z**2)) dx + x*y*(x**2 + y**2 + sqrt(x**2 + y**2 + z**2))/((x**2 + y**2)*sqrt(x**2 + y**2 + z**2)) dy + x*z/sqrt(x**2 + y**2 + z**2) dz"
      ]
     },
     "execution_count": 173,
     "metadata": {},
     "output_type": "execute_result"
    }
   ],
   "source": [
    "om.display()"
   ]
  },
  {
   "cell_type": "markdown",
   "metadata": {
    "deletable": true,
    "editable": true
   },
   "source": [
    "<p>Let us revert to the values set previously:</p>"
   ]
  },
  {
   "cell_type": "code",
   "execution_count": 174,
   "metadata": {
    "collapsed": false,
    "deletable": true,
    "editable": true
   },
   "outputs": [
    {
     "data": {
      "text/html": [
       "<html><script type=\"math/tex; mode=display\">\\newcommand{\\Bold}[1]{\\mathbf{#1}}\\omega = \\left( x^{2} + y^{2} \\right) \\mathrm{d} x + z \\mathrm{d} y + \\left( x - z \\right) \\mathrm{d} z</script></html>"
      ],
      "text/plain": [
       "omega = (x**2 + y**2) dx + z dy + (x - z) dz"
      ]
     },
     "execution_count": 174,
     "metadata": {},
     "output_type": "execute_result"
    }
   ],
   "source": [
    "om[:] = [x^2+y^2, z, x-z]\n",
    "om.display()"
   ]
  },
  {
   "cell_type": "markdown",
   "metadata": {
    "deletable": true,
    "editable": true
   },
   "source": [
    "<p>This time, the components in the coframe $(\\mathrm{d}r, \\mathrm{d}\\theta,\\mathrm{d}\\phi)$ are those that are updated:</p>"
   ]
  },
  {
   "cell_type": "code",
   "execution_count": 175,
   "metadata": {
    "collapsed": false,
    "deletable": true,
    "editable": true
   },
   "outputs": [
    {
     "data": {
      "text/html": [
       "<html><script type=\"math/tex; mode=display\">\\newcommand{\\Bold}[1]{\\mathbf{#1}}\\omega = r \\left(r \\sin^{3}{\\left (\\theta \\right )} \\cos{\\left (\\phi \\right )} + \\sqrt{2} \\sin{\\left (\\theta \\right )} \\sin{\\left (\\phi + \\frac{\\pi}{4} \\right )} \\cos{\\left (\\theta \\right )} - \\cos^{2}{\\left (\\theta \\right )}\\right) \\mathrm{d} r + r^{2} \\left(r \\sin^{2}{\\left (\\theta \\right )} \\cos{\\left (\\phi \\right )} \\cos{\\left (\\theta \\right )} + \\sin{\\left (\\phi \\right )} \\cos^{2}{\\left (\\theta \\right )} - \\sin^{2}{\\left (\\theta \\right )} \\cos{\\left (\\phi \\right )} + \\frac{1}{2} \\sin{\\left (2 \\theta \\right )}\\right) \\mathrm{d} {\\theta} + \\frac{r^{2}}{4} \\left(- 4 r \\sin{\\left (\\phi \\right )} \\sin^{3}{\\left (\\theta \\right )} - \\sin{\\left (\\phi - 2 \\theta \\right )} + \\sin{\\left (\\phi + 2 \\theta \\right )}\\right) \\mathrm{d} {\\phi}</script></html>"
      ],
      "text/plain": [
       "omega = r*(r*sin(theta)**3*cos(phi) + sqrt(2)*sin(theta)*sin(phi + pi/4)*cos(theta) - cos(theta)**2) dr + r**2*(r*sin(theta)**2*cos(phi)*cos(theta) + sin(phi)*cos(theta)**2 - sin(theta)**2*cos(phi) + sin(2*theta)/2) dtheta + r**2*(-4*r*sin(phi)*sin(theta)**3 - sin(phi - 2*theta) + sin(phi + 2*theta))/4 dphi"
      ]
     },
     "execution_count": 175,
     "metadata": {},
     "output_type": "execute_result"
    }
   ],
   "source": [
    "om.display(Y.frame(), Y)"
   ]
  },
  {
   "cell_type": "markdown",
   "metadata": {
    "deletable": true,
    "editable": true
   },
   "source": [
    "<p>A 1-form acts on vector fields, resulting in a scalar field:</p>"
   ]
  },
  {
   "cell_type": "code",
   "execution_count": 176,
   "metadata": {
    "collapsed": false,
    "deletable": true,
    "editable": true
   },
   "outputs": [
    {
     "name": "stdout",
     "output_type": "stream",
     "text": [
      "Scalar field omega(v) on the Open subset U of the 3-dimensional differentiable manifold M\n"
     ]
    },
    {
     "data": {
      "text/html": [
       "<html><script type=\"math/tex; mode=display\">\\newcommand{\\Bold}[1]{\\mathbf{#1}}\\begin{array}{llcl} \\omega\\left(v\\right):& U & \\longrightarrow & \\mathbb{R} \\\\ & \\left(x, y, z\\right) & \\longmapsto & x^{2} y z + x^{2} y + x^{2} - x y z^{2} - x z + y^{3} + y^{2} \\\\ & \\left(r, {\\theta}, {\\phi}\\right) & \\longmapsto & r^{2} \\left(- r^{2} \\sin^{3}{\\left (\\phi \\right )} \\sin^{2}{\\left (\\theta \\right )} \\cos{\\left (\\theta \\right )} + r^{2} \\sin{\\left (\\phi \\right )} \\sin^{3}{\\left (\\theta \\right )} \\cos{\\left (\\phi \\right )} + r^{2} \\sin{\\left (\\phi \\right )} \\sin^{2}{\\left (\\theta \\right )} \\cos{\\left (\\theta \\right )} - r^{2} \\sin{\\left (\\phi \\right )} \\sin{\\left (\\theta \\right )} \\cos{\\left (\\phi \\right )} + r \\sin{\\left (\\phi \\right )} \\sin^{2}{\\left (\\theta \\right )} + \\sin{\\left (\\theta \\right )} - \\cos{\\left (\\phi \\right )} \\cos{\\left (\\theta \\right )}\\right) \\sin{\\left (\\theta \\right )} \\end{array}</script></html>"
      ],
      "text/plain": [
       "omega(v): U --> R\n",
       "   (x, y, z) |--> x**2*y*z + x**2*y + x**2 - x*y*z**2 - x*z + y**3 + y**2\n",
       "   (r, theta, phi) |--> r**2*(-r**2*sin(phi)**3*sin(theta)**2*cos(theta) + r**2*sin(phi)*sin(theta)**3*cos(phi) + r**2*sin(phi)*sin(theta)**2*cos(theta) - r**2*sin(phi)*sin(theta)*cos(phi) + r*sin(phi)*sin(theta)**2 + sin(theta) - cos(phi)*cos(theta))*sin(theta)"
      ]
     },
     "execution_count": 176,
     "metadata": {},
     "output_type": "execute_result"
    }
   ],
   "source": [
    "v.display() ; om.display() ; print(om(v)) ; om(v).display()"
   ]
  },
  {
   "cell_type": "code",
   "execution_count": 177,
   "metadata": {
    "collapsed": false,
    "deletable": true,
    "editable": true
   },
   "outputs": [
    {
     "name": "stdout",
     "output_type": "stream",
     "text": [
      "Scalar field df(v) on the Open subset U of the 3-dimensional differentiable manifold M\n"
     ]
    },
    {
     "data": {
      "text/html": [
       "<html><script type=\"math/tex; mode=display\">\\newcommand{\\Bold}[1]{\\mathbf{#1}}\\begin{array}{llcl} \\mathrm{d}f\\left(v\\right):& U & \\longrightarrow & \\mathbb{R} \\\\ & \\left(x, y, z\\right) & \\longmapsto & 3 x y z^{3} - 2 x y + y + 1 \\\\ & \\left(r, {\\theta}, {\\phi}\\right) & \\longmapsto & 3 r^{5} \\sin{\\left (\\phi \\right )} \\sin^{2}{\\left (\\theta \\right )} \\cos{\\left (\\phi \\right )} \\cos^{3}{\\left (\\theta \\right )} - 2 r^{2} \\sin{\\left (\\phi \\right )} \\sin^{2}{\\left (\\theta \\right )} \\cos{\\left (\\phi \\right )} + r \\sin{\\left (\\phi \\right )} \\sin{\\left (\\theta \\right )} + 1 \\end{array}</script></html>"
      ],
      "text/plain": [
       "df(v): U --> R\n",
       "   (x, y, z) |--> 3*x*y*z**3 - 2*x*y + y + 1\n",
       "   (r, theta, phi) |--> 3*r**5*sin(phi)*sin(theta)**2*cos(phi)*cos(theta)**3 - 2*r**2*sin(phi)*sin(theta)**2*cos(phi) + r*sin(phi)*sin(theta) + 1"
      ]
     },
     "execution_count": 177,
     "metadata": {},
     "output_type": "execute_result"
    }
   ],
   "source": [
    "df.display() ; print(df(v)) ; df(v).display()"
   ]
  },
  {
   "cell_type": "code",
   "execution_count": 178,
   "metadata": {
    "collapsed": false,
    "deletable": true,
    "editable": true
   },
   "outputs": [
    {
     "data": {
      "text/html": [
       "<html><script type=\"math/tex; mode=display\">\\newcommand{\\Bold}[1]{\\mathbf{#1}}\\begin{array}{llcl} \\omega\\left(u\\right):& U & \\longrightarrow & \\mathbb{R} \\\\ & \\left(x, y, z\\right) & \\longmapsto & x^{2} \\operatorname{u_{x}}{\\left (x,y,z \\right )} + x \\operatorname{u_{z}}{\\left (x,y,z \\right )} + y^{2} \\operatorname{u_{x}}{\\left (x,y,z \\right )} + z \\operatorname{u_{y}}{\\left (x,y,z \\right )} - z \\operatorname{u_{z}}{\\left (x,y,z \\right )} \\\\ & \\left(r, {\\theta}, {\\phi}\\right) & \\longmapsto & r \\left(r \\operatorname{u_{x}}{\\left (r \\sin{\\left (\\theta \\right )} \\cos{\\left (\\phi \\right )},r \\sin{\\left (\\phi \\right )} \\sin{\\left (\\theta \\right )},r \\cos{\\left (\\theta \\right )} \\right )} \\sin^{2}{\\left (\\theta \\right )} + \\operatorname{u_{y}}{\\left (r \\sin{\\left (\\theta \\right )} \\cos{\\left (\\phi \\right )},r \\sin{\\left (\\phi \\right )} \\sin{\\left (\\theta \\right )},r \\cos{\\left (\\theta \\right )} \\right )} \\cos{\\left (\\theta \\right )} + \\operatorname{u_{z}}{\\left (r \\sin{\\left (\\theta \\right )} \\cos{\\left (\\phi \\right )},r \\sin{\\left (\\phi \\right )} \\sin{\\left (\\theta \\right )},r \\cos{\\left (\\theta \\right )} \\right )} \\sin{\\left (\\theta \\right )} \\cos{\\left (\\phi \\right )} - \\operatorname{u_{z}}{\\left (r \\sin{\\left (\\theta \\right )} \\cos{\\left (\\phi \\right )},r \\sin{\\left (\\phi \\right )} \\sin{\\left (\\theta \\right )},r \\cos{\\left (\\theta \\right )} \\right )} \\cos{\\left (\\theta \\right )}\\right) \\end{array}</script></html>"
      ],
      "text/plain": [
       "omega(u): U --> R\n",
       "   (x, y, z) |--> x**2*u_x(x, y, z) + x*u_z(x, y, z) + y**2*u_x(x, y, z) + z*u_y(x, y, z) - z*u_z(x, y, z)\n",
       "   (r, theta, phi) |--> r*(r*u_x(r*sin(theta)*cos(phi), r*sin(phi)*sin(theta), r*cos(theta))*sin(theta)**2 + u_y(r*sin(theta)*cos(phi), r*sin(phi)*sin(theta), r*cos(theta))*cos(theta) + u_z(r*sin(theta)*cos(phi), r*sin(phi)*sin(theta), r*cos(theta))*sin(theta)*cos(phi) - u_z(r*sin(theta)*cos(phi), r*sin(phi)*sin(theta), r*cos(theta))*cos(theta))"
      ]
     },
     "execution_count": 178,
     "metadata": {},
     "output_type": "execute_result"
    }
   ],
   "source": [
    "u.display() ; om(u).display()"
   ]
  },
  {
   "cell_type": "markdown",
   "metadata": {
    "deletable": true,
    "editable": true
   },
   "source": [
    "<p>In the case of a differential 1-form, the following identity holds:</p>"
   ]
  },
  {
   "cell_type": "code",
   "execution_count": 179,
   "metadata": {
    "collapsed": false,
    "deletable": true,
    "editable": true
   },
   "outputs": [
    {
     "data": {
      "text/html": [
       "<html><script type=\"math/tex; mode=display\">\\newcommand{\\Bold}[1]{\\mathbf{#1}}\\mathrm{True}</script></html>"
      ],
      "text/plain": [
       "True"
      ]
     },
     "execution_count": 179,
     "metadata": {},
     "output_type": "execute_result"
    }
   ],
   "source": [
    "df(v) == v(f)"
   ]
  },
  {
   "cell_type": "markdown",
   "metadata": {
    "deletable": true,
    "editable": true
   },
   "source": [
    "<p>1-forms are Sage <em>element</em> objects, whose <em>parent</em> is the $C^\\infty(U)$-module $\\Omega^{1}(U)$ of all 1-forms defined on $U$:</p>"
   ]
  },
  {
   "cell_type": "code",
   "execution_count": 180,
   "metadata": {
    "collapsed": false,
    "deletable": true,
    "editable": true
   },
   "outputs": [
    {
     "data": {
      "text/html": [
       "<html><script type=\"math/tex; mode=display\">\\newcommand{\\Bold}[1]{\\mathbf{#1}}\\Omega^{1}\\left(U\\right)</script></html>"
      ],
      "text/plain": [
       "Free module Omega^1(U) of 1-forms on the Open subset U of the 3-dimensional differentiable manifold M"
      ]
     },
     "execution_count": 180,
     "metadata": {},
     "output_type": "execute_result"
    }
   ],
   "source": [
    "df.parent()"
   ]
  },
  {
   "cell_type": "code",
   "execution_count": 181,
   "metadata": {
    "collapsed": false,
    "deletable": true,
    "editable": true
   },
   "outputs": [
    {
     "name": "stdout",
     "output_type": "stream",
     "text": [
      "Free module Omega^1(U) of 1-forms on the Open subset U of the 3-dimensional differentiable manifold M\n"
     ]
    }
   ],
   "source": [
    "print(df.parent())"
   ]
  },
  {
   "cell_type": "code",
   "execution_count": 182,
   "metadata": {
    "collapsed": false,
    "deletable": true,
    "editable": true
   },
   "outputs": [
    {
     "name": "stdout",
     "output_type": "stream",
     "text": [
      "Free module Omega^1(U) of 1-forms on the Open subset U of the 3-dimensional differentiable manifold M\n"
     ]
    }
   ],
   "source": [
    "print(om.parent())"
   ]
  },
  {
   "cell_type": "markdown",
   "metadata": {
    "deletable": true,
    "editable": true
   },
   "source": [
    "<p>$\\Omega^{1}(U)$ is actually the dual of the free module $\\mathfrak{X}(U)$:</p>"
   ]
  },
  {
   "cell_type": "code",
   "execution_count": 183,
   "metadata": {
    "collapsed": false,
    "deletable": true,
    "editable": true
   },
   "outputs": [
    {
     "data": {
      "text/html": [
       "<html><script type=\"math/tex; mode=display\">\\newcommand{\\Bold}[1]{\\mathbf{#1}}\\mathrm{True}</script></html>"
      ],
      "text/plain": [
       "True"
      ]
     },
     "execution_count": 183,
     "metadata": {},
     "output_type": "execute_result"
    }
   ],
   "source": [
    "df.parent() is v.parent().dual()"
   ]
  },
  {
   "cell_type": "markdown",
   "metadata": {
    "deletable": true,
    "editable": true
   },
   "source": [
    "<h2>Differential forms and exterior calculus</h2>\n",
    "<p>The <strong>exterior product</strong> of two 1-forms is taken via the method <span style=\"font-family: courier new,courier;\">wedge()</span> and results in a 2-form:</p>"
   ]
  },
  {
   "cell_type": "code",
   "execution_count": 184,
   "metadata": {
    "collapsed": false,
    "deletable": true,
    "editable": true
   },
   "outputs": [
    {
     "name": "stdout",
     "output_type": "stream",
     "text": [
      "2-form omega/\\df on the Open subset U of the 3-dimensional differentiable manifold M\n"
     ]
    },
    {
     "data": {
      "text/html": [
       "<html><script type=\"math/tex; mode=display\">\\newcommand{\\Bold}[1]{\\mathbf{#1}}\\omega\\wedge \\mathrm{d}f = \\left( 2 x^{2} y + 2 y^{3} - z \\right) \\mathrm{d} x\\wedge \\mathrm{d} y + \\left( 3 x^{2} z^{2} - x + 3 y^{2} z^{2} + z \\right) \\mathrm{d} x\\wedge \\mathrm{d} z + \\left( - 2 x y + 2 y z + 3 z^{3} \\right) \\mathrm{d} y\\wedge \\mathrm{d} z</script></html>"
      ],
      "text/plain": [
       "omega/\\df = (2*x**2*y + 2*y**3 - z) dx/\\dy + (3*x**2*z**2 - x + 3*y**2*z**2 + z) dx/\\dz + (-2*x*y + 2*y*z + 3*z**3) dy/\\dz"
      ]
     },
     "execution_count": 184,
     "metadata": {},
     "output_type": "execute_result"
    }
   ],
   "source": [
    "a = om.wedge(df) ; print(a) ; a.display()"
   ]
  },
  {
   "cell_type": "markdown",
   "metadata": {
    "deletable": true,
    "editable": true
   },
   "source": [
    "<p>A matrix view of the components:</p>"
   ]
  },
  {
   "cell_type": "code",
   "execution_count": 185,
   "metadata": {
    "collapsed": false,
    "deletable": true,
    "editable": true
   },
   "outputs": [
    {
     "data": {
      "text/html": [
       "<html><script type=\"math/tex; mode=display\">\\newcommand{\\Bold}[1]{\\mathbf{#1}}\\left(\\begin{array}{rrr}\n",
       "0 & 2 \\, x^{2} y + 2 \\, y^{3} - z & 3 \\, x^{2} z^{2} + 3 \\, y^{2} z^{2} - x + z \\\\\n",
       "-2 \\, x^{2} y - 2 \\, y^{3} + z & 0 & 3 \\, z^{3} - 2 \\, x y + 2 \\, y z \\\\\n",
       "-3 \\, x^{2} z^{2} - 3 \\, y^{2} z^{2} + x - z & -3 \\, z^{3} + 2 \\, x y - 2 \\, y z & 0\n",
       "\\end{array}\\right)</script></html>"
      ],
      "text/plain": [
       "[                             0            2*x^2*y + 2*y^3 - z  3*x^2*z^2 + 3*y^2*z^2 - x + z]\n",
       "[          -2*x^2*y - 2*y^3 + z                              0          3*z^3 - 2*x*y + 2*y*z]\n",
       "[-3*x^2*z^2 - 3*y^2*z^2 + x - z         -3*z^3 + 2*x*y - 2*y*z                              0]"
      ]
     },
     "execution_count": 185,
     "metadata": {},
     "output_type": "execute_result"
    }
   ],
   "source": [
    "a[:]"
   ]
  },
  {
   "cell_type": "markdown",
   "metadata": {
    "deletable": true,
    "editable": true
   },
   "source": [
    "<p>Displaying only the non-vanishing components, skipping the redundant ones (i.e. those that can be deduced by antisymmetry):</p>"
   ]
  },
  {
   "cell_type": "code",
   "execution_count": 186,
   "metadata": {
    "collapsed": false,
    "deletable": true,
    "editable": true
   },
   "outputs": [
    {
     "data": {
      "text/html": [
       "<html><script type=\"math/tex; mode=display\">\\newcommand{\\Bold}[1]{\\mathbf{#1}}\\begin{array}{lcl} \\omega\\wedge \\mathrm{d}f_{ \\, x \\, y }^{ \\phantom{\\, x}\\phantom{\\, y} } & = & 2 x^{2} y + 2 y^{3} - z \\\\ \\omega\\wedge \\mathrm{d}f_{ \\, x \\, z }^{ \\phantom{\\, x}\\phantom{\\, z} } & = & 3 x^{2} z^{2} - x + 3 y^{2} z^{2} + z \\\\ \\omega\\wedge \\mathrm{d}f_{ \\, y \\, z }^{ \\phantom{\\, y}\\phantom{\\, z} } & = & - 2 x y + 2 y z + 3 z^{3} \\end{array}</script></html>"
      ],
      "text/plain": [
       "omega/\\df_xy = 2*x**2*y + 2*y**3 - z \n",
       "omega/\\df_xz = 3*x**2*z**2 - x + 3*y**2*z**2 + z \n",
       "omega/\\df_yz = -2*x*y + 2*y*z + 3*z**3 "
      ]
     },
     "execution_count": 186,
     "metadata": {},
     "output_type": "execute_result"
    }
   ],
   "source": [
    "a.display_comp(only_nonredundant=True)"
   ]
  },
  {
   "cell_type": "markdown",
   "metadata": {
    "deletable": true,
    "editable": true
   },
   "source": [
    "<p>The 2-form $\\omega\\wedge\\mathrm{d}f$ can be expanded on the $(\\mathrm{d}r,\\mathrm{d}\\theta,\\mathrm{d}\\phi)$ coframe:</p>"
   ]
  },
  {
   "cell_type": "code",
   "execution_count": 187,
   "metadata": {
    "collapsed": false,
    "deletable": true,
    "editable": true
   },
   "outputs": [
    {
     "data": {
      "text/html": [
       "<html><script type=\"math/tex; mode=display\">\\newcommand{\\Bold}[1]{\\mathbf{#1}}\\omega\\wedge \\mathrm{d}f = r^{2} \\left(3 r^{3} \\sin^{4}{\\left (\\theta \\right )} \\cos{\\left (\\phi \\right )} - 3 r^{3} \\sin^{2}{\\left (\\theta \\right )} \\cos{\\left (\\phi \\right )} - 3 r^{2} \\sin{\\left (\\phi \\right )} \\cos^{3}{\\left (\\theta \\right )} - 2 r \\sin^{2}{\\left (\\phi \\right )} \\sin{\\left (\\theta \\right )} \\cos{\\left (\\theta \\right )} - 2 r \\sin^{2}{\\left (\\theta \\right )} \\cos^{3}{\\left (\\phi \\right )} + 2 r \\sin^{2}{\\left (\\theta \\right )} \\cos{\\left (\\phi \\right )} - \\sin^{2}{\\left (\\phi \\right )} \\sin{\\left (\\theta \\right )} + \\sin{\\left (\\theta \\right )} - \\cos{\\left (\\phi \\right )} \\cos{\\left (\\theta \\right )}\\right) \\mathrm{d} r\\wedge \\mathrm{d} {\\theta} + r^{2} \\left(3 r^{3} \\sin{\\left (\\phi \\right )} \\sin^{2}{\\left (\\theta \\right )} \\cos^{3}{\\left (\\theta \\right )} + 2 r^{2} \\sin{\\left (\\phi \\right )} \\sin^{4}{\\left (\\theta \\right )} - 3 r^{2} \\sin^{4}{\\left (\\theta \\right )} \\cos{\\left (\\phi \\right )} + 6 r^{2} \\sin^{2}{\\left (\\theta \\right )} \\cos{\\left (\\phi \\right )} - 3 r^{2} \\cos{\\left (\\phi \\right )} - 2 r \\sin^{3}{\\left (\\phi \\right )} \\sin^{2}{\\left (\\theta \\right )} \\cos{\\left (\\theta \\right )} + 2 r \\sin{\\left (\\phi \\right )} \\sin^{3}{\\left (\\theta \\right )} \\cos{\\left (\\phi \\right )} + 2 r \\sin{\\left (\\phi \\right )} \\sin^{2}{\\left (\\theta \\right )} \\cos{\\left (\\theta \\right )} - 2 r \\sin{\\left (\\phi \\right )} \\sin{\\left (\\theta \\right )} \\cos{\\left (\\phi \\right )} - \\sin{\\left (\\phi \\right )} \\sin^{2}{\\left (\\theta \\right )} - \\sin{\\left (\\phi \\right )} \\sin{\\left (\\theta \\right )} \\cos{\\left (\\phi \\right )} \\cos{\\left (\\theta \\right )} + \\sin{\\left (\\phi \\right )} - \\sin{\\left (\\theta \\right )} \\cos{\\left (\\theta \\right )}\\right) \\sin{\\left (\\theta \\right )} \\mathrm{d} r\\wedge \\mathrm{d} {\\phi} + r^{3} \\left(3 r^{3} \\sin{\\left (\\phi \\right )} \\sin^{5}{\\left (\\theta \\right )} - 3 r^{3} \\sin{\\left (\\phi \\right )} \\sin^{3}{\\left (\\theta \\right )} + 2 r^{2} \\sin{\\left (\\phi \\right )} \\sin^{3}{\\left (\\theta \\right )} \\cos{\\left (\\theta \\right )} + 3 r^{2} \\sin{\\left (\\theta \\right )} \\cos{\\left (\\phi \\right )} \\cos^{3}{\\left (\\theta \\right )} + 2 r \\sin^{3}{\\left (\\phi \\right )} \\sin^{3}{\\left (\\theta \\right )} - 2 r \\sin{\\left (\\phi \\right )} \\sin^{3}{\\left (\\theta \\right )} + 2 r \\sin{\\left (\\phi \\right )} \\sin^{2}{\\left (\\theta \\right )} \\cos{\\left (\\phi \\right )} \\cos{\\left (\\theta \\right )} + \\sin{\\left (\\phi \\right )} \\sin^{2}{\\left (\\theta \\right )} \\cos{\\left (\\phi \\right )} - \\sin{\\left (\\phi \\right )} \\sin{\\left (\\theta \\right )} \\cos{\\left (\\theta \\right )} + \\sin^{2}{\\left (\\theta \\right )} - 1\\right) \\sin{\\left (\\theta \\right )} \\mathrm{d} {\\theta}\\wedge \\mathrm{d} {\\phi}</script></html>"
      ],
      "text/plain": [
       "omega/\\df = r**2*(3*r**3*sin(theta)**4*cos(phi) - 3*r**3*sin(theta)**2*cos(phi) - 3*r**2*sin(phi)*cos(theta)**3 - 2*r*sin(phi)**2*sin(theta)*cos(theta) - 2*r*sin(theta)**2*cos(phi)**3 + 2*r*sin(theta)**2*cos(phi) - sin(phi)**2*sin(theta) + sin(theta) - cos(phi)*cos(theta)) dr/\\dtheta + r**2*(3*r**3*sin(phi)*sin(theta)**2*cos(theta)**3 + 2*r**2*sin(phi)*sin(theta)**4 - 3*r**2*sin(theta)**4*cos(phi) + 6*r**2*sin(theta)**2*cos(phi) - 3*r**2*cos(phi) - 2*r*sin(phi)**3*sin(theta)**2*cos(theta) + 2*r*sin(phi)*sin(theta)**3*cos(phi) + 2*r*sin(phi)*sin(theta)**2*cos(theta) - 2*r*sin(phi)*sin(theta)*cos(phi) - sin(phi)*sin(theta)**2 - sin(phi)*sin(theta)*cos(phi)*cos(theta) + sin(phi) - sin(theta)*cos(theta))*sin(theta) dr/\\dphi + r**3*(3*r**3*sin(phi)*sin(theta)**5 - 3*r**3*sin(phi)*sin(theta)**3 + 2*r**2*sin(phi)*sin(theta)**3*cos(theta) + 3*r**2*sin(theta)*cos(phi)*cos(theta)**3 + 2*r*sin(phi)**3*sin(theta)**3 - 2*r*sin(phi)*sin(theta)**3 + 2*r*sin(phi)*sin(theta)**2*cos(phi)*cos(theta) + sin(phi)*sin(theta)**2*cos(phi) - sin(phi)*sin(theta)*cos(theta) + sin(theta)**2 - 1)*sin(theta) dtheta/\\dphi"
      ]
     },
     "execution_count": 187,
     "metadata": {},
     "output_type": "execute_result"
    }
   ],
   "source": [
    "a.display(Y.frame(), Y)"
   ]
  },
  {
   "cell_type": "markdown",
   "metadata": {
    "deletable": true,
    "editable": true
   },
   "source": [
    "<p>As a 2-form, $A:=\\omega\\wedge\\mathrm{d}f$ can be applied to a pair of vectors and is antisymmetric:</p>"
   ]
  },
  {
   "cell_type": "code",
   "execution_count": 188,
   "metadata": {
    "collapsed": false,
    "deletable": true,
    "editable": true
   },
   "outputs": [
    {
     "name": "stdout",
     "output_type": "stream",
     "text": [
      "Scalar field A(u,v) on the Open subset U of the 3-dimensional differentiable manifold M\n"
     ]
    },
    {
     "data": {
      "text/html": [
       "<html><script type=\"math/tex; mode=display\">\\newcommand{\\Bold}[1]{\\mathbf{#1}}\\begin{array}{llcl} A\\left(u,v\\right):& U & \\longrightarrow & \\mathbb{R} \\\\ & \\left(x, y, z\\right) & \\longmapsto & 3 x^{3} y z^{3} \\operatorname{u_{x}}{\\left (x,y,z \\right )} - 2 x^{3} y \\operatorname{u_{x}}{\\left (x,y,z \\right )} - 2 x^{2} y^{2} z \\operatorname{u_{y}}{\\left (x,y,z \\right )} - 2 x^{2} y^{2} \\operatorname{u_{y}}{\\left (x,y,z \\right )} - 3 x^{2} y z^{2} \\operatorname{u_{z}}{\\left (x,y,z \\right )} - x^{2} y z \\operatorname{u_{x}}{\\left (x,y,z \\right )} - 2 x^{2} y \\operatorname{u_{y}}{\\left (x,y,z \\right )} - 2 x^{2} y \\operatorname{u_{z}}{\\left (x,y,z \\right )} - 3 x^{2} z^{2} \\operatorname{u_{z}}{\\left (x,y,z \\right )} + 3 x y^{3} z^{3} \\operatorname{u_{x}}{\\left (x,y,z \\right )} - 2 x y^{3} \\operatorname{u_{x}}{\\left (x,y,z \\right )} + 2 x y^{2} z^{2} \\operatorname{u_{y}}{\\left (x,y,z \\right )} + 3 x y z^{4} \\operatorname{u_{y}}{\\left (x,y,z \\right )} + x y z^{2} \\operatorname{u_{x}}{\\left (x,y,z \\right )} + 2 x y z \\operatorname{u_{z}}{\\left (x,y,z \\right )} + x y \\operatorname{u_{z}}{\\left (x,y,z \\right )} + 3 x z^{3} \\operatorname{u_{z}}{\\left (x,y,z \\right )} + x z \\operatorname{u_{x}}{\\left (x,y,z \\right )} + x \\operatorname{u_{z}}{\\left (x,y,z \\right )} - 2 y^{4} \\operatorname{u_{y}}{\\left (x,y,z \\right )} - 3 y^{3} z^{2} \\operatorname{u_{z}}{\\left (x,y,z \\right )} - 2 y^{3} \\operatorname{u_{y}}{\\left (x,y,z \\right )} - 3 y^{2} z^{2} \\operatorname{u_{z}}{\\left (x,y,z \\right )} + y z \\operatorname{u_{y}}{\\left (x,y,z \\right )} - y z \\operatorname{u_{z}}{\\left (x,y,z \\right )} + z \\operatorname{u_{y}}{\\left (x,y,z \\right )} - z \\operatorname{u_{z}}{\\left (x,y,z \\right )} \\\\ & \\left(r, {\\theta}, {\\phi}\\right) & \\longmapsto & r \\left(3 r^{6} \\operatorname{u_{x}}{\\left (r \\sin{\\left (\\theta \\right )} \\cos{\\left (\\phi \\right )},r \\sin{\\left (\\phi \\right )} \\sin{\\left (\\theta \\right )},r \\cos{\\left (\\theta \\right )} \\right )} \\sin^{3}{\\left (\\phi \\right )} \\sin^{4}{\\left (\\theta \\right )} \\cos{\\left (\\phi \\right )} \\cos^{3}{\\left (\\theta \\right )} + 3 r^{6} \\operatorname{u_{x}}{\\left (r \\sin{\\left (\\theta \\right )} \\cos{\\left (\\phi \\right )},r \\sin{\\left (\\phi \\right )} \\sin{\\left (\\theta \\right )},r \\cos{\\left (\\theta \\right )} \\right )} \\sin{\\left (\\phi \\right )} \\sin^{4}{\\left (\\theta \\right )} \\cos^{3}{\\left (\\phi \\right )} \\cos^{3}{\\left (\\theta \\right )} + 3 r^{5} \\operatorname{u_{y}}{\\left (r \\sin{\\left (\\theta \\right )} \\cos{\\left (\\phi \\right )},r \\sin{\\left (\\phi \\right )} \\sin{\\left (\\theta \\right )},r \\cos{\\left (\\theta \\right )} \\right )} \\sin{\\left (\\phi \\right )} \\sin^{2}{\\left (\\theta \\right )} \\cos{\\left (\\phi \\right )} \\cos^{4}{\\left (\\theta \\right )} - \\frac{r^{4}}{16} \\left(- \\cos{\\left (4 \\phi \\right )} + 1\\right) \\left(- \\cos{\\left (2 \\theta \\right )} + 1\\right)^{2} \\operatorname{u_{y}}{\\left (\\frac{r}{2} \\left(- \\sin{\\left (\\phi - \\theta \\right )} + \\sin{\\left (\\phi + \\theta \\right )}\\right),\\frac{r}{2} \\left(\\cos{\\left (\\phi - \\theta \\right )} - \\cos{\\left (\\phi + \\theta \\right )}\\right),r \\cos{\\left (\\theta \\right )} \\right )} \\cos{\\left (\\theta \\right )} + 2 r^{4} \\operatorname{u_{y}}{\\left (r \\sin{\\left (\\theta \\right )} \\cos{\\left (\\phi \\right )},r \\sin{\\left (\\phi \\right )} \\sin{\\left (\\theta \\right )},r \\cos{\\left (\\theta \\right )} \\right )} \\sin^{2}{\\left (\\phi \\right )} \\sin^{3}{\\left (\\theta \\right )} \\cos{\\left (\\phi \\right )} \\cos^{2}{\\left (\\theta \\right )} - 3 r^{4} \\operatorname{u_{z}}{\\left (r \\sin{\\left (\\theta \\right )} \\cos{\\left (\\phi \\right )},r \\sin{\\left (\\phi \\right )} \\sin{\\left (\\theta \\right )},r \\cos{\\left (\\theta \\right )} \\right )} \\sin^{3}{\\left (\\phi \\right )} \\sin^{3}{\\left (\\theta \\right )} \\cos^{2}{\\left (\\theta \\right )} - 3 r^{4} \\operatorname{u_{z}}{\\left (r \\sin{\\left (\\theta \\right )} \\cos{\\left (\\phi \\right )},r \\sin{\\left (\\phi \\right )} \\sin{\\left (\\theta \\right )},r \\cos{\\left (\\theta \\right )} \\right )} \\sin{\\left (\\phi \\right )} \\sin^{3}{\\left (\\theta \\right )} \\cos^{2}{\\left (\\phi \\right )} \\cos^{2}{\\left (\\theta \\right )} - \\frac{r^{3}}{16} \\left(- \\cos{\\left (4 \\phi \\right )} + 1\\right) \\left(- \\cos{\\left (2 \\theta \\right )} + 1\\right)^{2} \\operatorname{u_{y}}{\\left (\\frac{r}{2} \\left(- \\sin{\\left (\\phi - \\theta \\right )} + \\sin{\\left (\\phi + \\theta \\right )}\\right),\\frac{r}{2} \\left(\\cos{\\left (\\phi - \\theta \\right )} - \\cos{\\left (\\phi + \\theta \\right )}\\right),r \\cos{\\left (\\theta \\right )} \\right )} + \\frac{r^{3}}{32} \\left(2 \\sin{\\left (2 \\phi \\right )} - \\sin{\\left (2 \\phi - 4 \\theta \\right )} - \\sin{\\left (2 \\phi + 4 \\theta \\right )}\\right) \\operatorname{u_{x}}{\\left (\\frac{r}{2} \\left(- \\sin{\\left (\\phi - \\theta \\right )} + \\sin{\\left (\\phi + \\theta \\right )}\\right),\\frac{r}{2} \\left(\\cos{\\left (\\phi - \\theta \\right )} - \\cos{\\left (\\phi + \\theta \\right )}\\right),r \\cos{\\left (\\theta \\right )} \\right )} - 2 r^{3} \\operatorname{u_{x}}{\\left (r \\sin{\\left (\\theta \\right )} \\cos{\\left (\\phi \\right )},r \\sin{\\left (\\phi \\right )} \\sin{\\left (\\theta \\right )},r \\cos{\\left (\\theta \\right )} \\right )} \\sin^{3}{\\left (\\phi \\right )} \\sin^{4}{\\left (\\theta \\right )} \\cos{\\left (\\phi \\right )} - 2 r^{3} \\operatorname{u_{x}}{\\left (r \\sin{\\left (\\theta \\right )} \\cos{\\left (\\phi \\right )},r \\sin{\\left (\\phi \\right )} \\sin{\\left (\\theta \\right )},r \\cos{\\left (\\theta \\right )} \\right )} \\sin{\\left (\\phi \\right )} \\sin^{4}{\\left (\\theta \\right )} \\cos^{3}{\\left (\\phi \\right )} - r^{3} \\operatorname{u_{x}}{\\left (r \\sin{\\left (\\theta \\right )} \\cos{\\left (\\phi \\right )},r \\sin{\\left (\\phi \\right )} \\sin{\\left (\\theta \\right )},r \\cos{\\left (\\theta \\right )} \\right )} \\sin{\\left (\\phi \\right )} \\sin^{3}{\\left (\\theta \\right )} \\cos^{2}{\\left (\\phi \\right )} \\cos{\\left (\\theta \\right )} - 2 r^{3} \\operatorname{u_{y}}{\\left (r \\sin{\\left (\\theta \\right )} \\cos{\\left (\\phi \\right )},r \\sin{\\left (\\phi \\right )} \\sin{\\left (\\theta \\right )},r \\cos{\\left (\\theta \\right )} \\right )} \\sin^{4}{\\left (\\phi \\right )} \\sin^{4}{\\left (\\theta \\right )} - 3 r^{3} \\operatorname{u_{z}}{\\left (r \\sin{\\left (\\theta \\right )} \\cos{\\left (\\phi \\right )},r \\sin{\\left (\\phi \\right )} \\sin{\\left (\\theta \\right )},r \\cos{\\left (\\theta \\right )} \\right )} \\sin^{2}{\\left (\\phi \\right )} \\sin^{2}{\\left (\\theta \\right )} \\cos^{2}{\\left (\\theta \\right )} - 3 r^{3} \\operatorname{u_{z}}{\\left (r \\sin{\\left (\\theta \\right )} \\cos{\\left (\\phi \\right )},r \\sin{\\left (\\phi \\right )} \\sin{\\left (\\theta \\right )},r \\cos{\\left (\\theta \\right )} \\right )} \\sin^{2}{\\left (\\theta \\right )} \\cos^{2}{\\left (\\phi \\right )} \\cos^{2}{\\left (\\theta \\right )} + 3 r^{3} \\operatorname{u_{z}}{\\left (r \\sin{\\left (\\theta \\right )} \\cos{\\left (\\phi \\right )},r \\sin{\\left (\\phi \\right )} \\sin{\\left (\\theta \\right )},r \\cos{\\left (\\theta \\right )} \\right )} \\sin{\\left (\\theta \\right )} \\cos{\\left (\\phi \\right )} \\cos^{3}{\\left (\\theta \\right )} - 2 r^{2} \\operatorname{u_{y}}{\\left (r \\sin{\\left (\\theta \\right )} \\cos{\\left (\\phi \\right )},r \\sin{\\left (\\phi \\right )} \\sin{\\left (\\theta \\right )},r \\cos{\\left (\\theta \\right )} \\right )} \\sin^{3}{\\left (\\phi \\right )} \\sin^{3}{\\left (\\theta \\right )} - 2 r^{2} \\operatorname{u_{y}}{\\left (r \\sin{\\left (\\theta \\right )} \\cos{\\left (\\phi \\right )},r \\sin{\\left (\\phi \\right )} \\sin{\\left (\\theta \\right )},r \\cos{\\left (\\theta \\right )} \\right )} \\sin{\\left (\\phi \\right )} \\sin^{3}{\\left (\\theta \\right )} \\cos^{2}{\\left (\\phi \\right )} - 2 r^{2} \\operatorname{u_{z}}{\\left (r \\sin{\\left (\\theta \\right )} \\cos{\\left (\\phi \\right )},r \\sin{\\left (\\phi \\right )} \\sin{\\left (\\theta \\right )},r \\cos{\\left (\\theta \\right )} \\right )} \\sin{\\left (\\phi \\right )} \\sin^{3}{\\left (\\theta \\right )} \\cos^{2}{\\left (\\phi \\right )} + 2 r^{2} \\operatorname{u_{z}}{\\left (r \\sin{\\left (\\theta \\right )} \\cos{\\left (\\phi \\right )},r \\sin{\\left (\\phi \\right )} \\sin{\\left (\\theta \\right )},r \\cos{\\left (\\theta \\right )} \\right )} \\sin{\\left (\\phi \\right )} \\sin^{2}{\\left (\\theta \\right )} \\cos{\\left (\\phi \\right )} \\cos{\\left (\\theta \\right )} + \\frac{r}{4} \\left(- \\sin{\\left (\\phi - 2 \\theta \\right )} + \\sin{\\left (\\phi + 2 \\theta \\right )}\\right) \\operatorname{u_{x}}{\\left (\\frac{r}{2} \\left(- \\sin{\\left (\\phi - \\theta \\right )} + \\sin{\\left (\\phi + \\theta \\right )}\\right),\\frac{r}{2} \\left(\\cos{\\left (\\phi - \\theta \\right )} - \\cos{\\left (\\phi + \\theta \\right )}\\right),r \\cos{\\left (\\theta \\right )} \\right )} + \\frac{r}{4} \\left(\\cos{\\left (\\phi - 2 \\theta \\right )} - \\cos{\\left (\\phi + 2 \\theta \\right )}\\right) \\operatorname{u_{y}}{\\left (\\frac{r}{2} \\left(- \\sin{\\left (\\phi - \\theta \\right )} + \\sin{\\left (\\phi + \\theta \\right )}\\right),\\frac{r}{2} \\left(\\cos{\\left (\\phi - \\theta \\right )} - \\cos{\\left (\\phi + \\theta \\right )}\\right),r \\cos{\\left (\\theta \\right )} \\right )} - \\frac{r}{4} \\left(\\cos{\\left (\\phi - 2 \\theta \\right )} - \\cos{\\left (\\phi + 2 \\theta \\right )}\\right) \\operatorname{u_{z}}{\\left (\\frac{r}{2} \\left(- \\sin{\\left (\\phi - \\theta \\right )} + \\sin{\\left (\\phi + \\theta \\right )}\\right),\\frac{r}{2} \\left(\\cos{\\left (\\phi - \\theta \\right )} - \\cos{\\left (\\phi + \\theta \\right )}\\right),r \\cos{\\left (\\theta \\right )} \\right )} + r \\operatorname{u_{z}}{\\left (r \\sin{\\left (\\theta \\right )} \\cos{\\left (\\phi \\right )},r \\sin{\\left (\\phi \\right )} \\sin{\\left (\\theta \\right )},r \\cos{\\left (\\theta \\right )} \\right )} \\sin{\\left (\\phi \\right )} \\sin^{2}{\\left (\\theta \\right )} \\cos{\\left (\\phi \\right )} + \\operatorname{u_{y}}{\\left (r \\sin{\\left (\\theta \\right )} \\cos{\\left (\\phi \\right )},r \\sin{\\left (\\phi \\right )} \\sin{\\left (\\theta \\right )},r \\cos{\\left (\\theta \\right )} \\right )} \\cos{\\left (\\theta \\right )} + \\operatorname{u_{z}}{\\left (r \\sin{\\left (\\theta \\right )} \\cos{\\left (\\phi \\right )},r \\sin{\\left (\\phi \\right )} \\sin{\\left (\\theta \\right )},r \\cos{\\left (\\theta \\right )} \\right )} \\sin{\\left (\\theta \\right )} \\cos{\\left (\\phi \\right )} - \\operatorname{u_{z}}{\\left (r \\sin{\\left (\\theta \\right )} \\cos{\\left (\\phi \\right )},r \\sin{\\left (\\phi \\right )} \\sin{\\left (\\theta \\right )},r \\cos{\\left (\\theta \\right )} \\right )} \\cos{\\left (\\theta \\right )}\\right) \\end{array}</script></html>"
      ],
      "text/plain": [
       "A(u,v): U --> R\n",
       "   (x, y, z) |--> 3*x**3*y*z**3*u_x(x, y, z) - 2*x**3*y*u_x(x, y, z) - 2*x**2*y**2*z*u_y(x, y, z) - 2*x**2*y**2*u_y(x, y, z) - 3*x**2*y*z**2*u_z(x, y, z) - x**2*y*z*u_x(x, y, z) - 2*x**2*y*u_y(x, y, z) - 2*x**2*y*u_z(x, y, z) - 3*x**2*z**2*u_z(x, y, z) + 3*x*y**3*z**3*u_x(x, y, z) - 2*x*y**3*u_x(x, y, z) + 2*x*y**2*z**2*u_y(x, y, z) + 3*x*y*z**4*u_y(x, y, z) + x*y*z**2*u_x(x, y, z) + 2*x*y*z*u_z(x, y, z) + x*y*u_z(x, y, z) + 3*x*z**3*u_z(x, y, z) + x*z*u_x(x, y, z) + x*u_z(x, y, z) - 2*y**4*u_y(x, y, z) - 3*y**3*z**2*u_z(x, y, z) - 2*y**3*u_y(x, y, z) - 3*y**2*z**2*u_z(x, y, z) + y*z*u_y(x, y, z) - y*z*u_z(x, y, z) + z*u_y(x, y, z) - z*u_z(x, y, z)\n",
       "   (r, theta, phi) |--> r*(3*r**6*u_x(r*sin(theta)*cos(phi), r*sin(phi)*sin(theta), r*cos(theta))*sin(phi)**3*sin(theta)**4*cos(phi)*cos(theta)**3 + 3*r**6*u_x(r*sin(theta)*cos(phi), r*sin(phi)*sin(theta), r*cos(theta))*sin(phi)*sin(theta)**4*cos(phi)**3*cos(theta)**3 + 3*r**5*u_y(r*sin(theta)*cos(phi), r*sin(phi)*sin(theta), r*cos(theta))*sin(phi)*sin(theta)**2*cos(phi)*cos(theta)**4 - r**4*(-cos(4*phi) + 1)*(-cos(2*theta) + 1)**2*u_y(r*(-sin(phi - theta) + sin(phi + theta))/2, r*(cos(phi - theta) - cos(phi + theta))/2, r*cos(theta))*cos(theta)/16 + 2*r**4*u_y(r*sin(theta)*cos(phi), r*sin(phi)*sin(theta), r*cos(theta))*sin(phi)**2*sin(theta)**3*cos(phi)*cos(theta)**2 - 3*r**4*u_z(r*sin(theta)*cos(phi), r*sin(phi)*sin(theta), r*cos(theta))*sin(phi)**3*sin(theta)**3*cos(theta)**2 - 3*r**4*u_z(r*sin(theta)*cos(phi), r*sin(phi)*sin(theta), r*cos(theta))*sin(phi)*sin(theta)**3*cos(phi)**2*cos(theta)**2 - r**3*(-cos(4*phi) + 1)*(-cos(2*theta) + 1)**2*u_y(r*(-sin(phi - theta) + sin(phi + theta))/2, r*(cos(phi - theta) - cos(phi + theta))/2, r*cos(theta))/16 + r**3*(2*sin(2*phi) - sin(2*phi - 4*theta) - sin(2*phi + 4*theta))*u_x(r*(-sin(phi - theta) + sin(phi + theta))/2, r*(cos(phi - theta) - cos(phi + theta))/2, r*cos(theta))/32 - 2*r**3*u_x(r*sin(theta)*cos(phi), r*sin(phi)*sin(theta), r*cos(theta))*sin(phi)**3*sin(theta)**4*cos(phi) - 2*r**3*u_x(r*sin(theta)*cos(phi), r*sin(phi)*sin(theta), r*cos(theta))*sin(phi)*sin(theta)**4*cos(phi)**3 - r**3*u_x(r*sin(theta)*cos(phi), r*sin(phi)*sin(theta), r*cos(theta))*sin(phi)*sin(theta)**3*cos(phi)**2*cos(theta) - 2*r**3*u_y(r*sin(theta)*cos(phi), r*sin(phi)*sin(theta), r*cos(theta))*sin(phi)**4*sin(theta)**4 - 3*r**3*u_z(r*sin(theta)*cos(phi), r*sin(phi)*sin(theta), r*cos(theta))*sin(phi)**2*sin(theta)**2*cos(theta)**2 - 3*r**3*u_z(r*sin(theta)*cos(phi), r*sin(phi)*sin(theta), r*cos(theta))*sin(theta)**2*cos(phi)**2*cos(theta)**2 + 3*r**3*u_z(r*sin(theta)*cos(phi), r*sin(phi)*sin(theta), r*cos(theta))*sin(theta)*cos(phi)*cos(theta)**3 - 2*r**2*u_y(r*sin(theta)*cos(phi), r*sin(phi)*sin(theta), r*cos(theta))*sin(phi)**3*sin(theta)**3 - 2*r**2*u_y(r*sin(theta)*cos(phi), r*sin(phi)*sin(theta), r*cos(theta))*sin(phi)*sin(theta)**3*cos(phi)**2 - 2*r**2*u_z(r*sin(theta)*cos(phi), r*sin(phi)*sin(theta), r*cos(theta))*sin(phi)*sin(theta)**3*cos(phi)**2 + 2*r**2*u_z(r*sin(theta)*cos(phi), r*sin(phi)*sin(theta), r*cos(theta))*sin(phi)*sin(theta)**2*cos(phi)*cos(theta) + r*(-sin(phi - 2*theta) + sin(phi + 2*theta))*u_x(r*(-sin(phi - theta) + sin(phi + theta))/2, r*(cos(phi - theta) - cos(phi + theta))/2, r*cos(theta))/4 + r*(cos(phi - 2*theta) - cos(phi + 2*theta))*u_y(r*(-sin(phi - theta) + sin(phi + theta))/2, r*(cos(phi - theta) - cos(phi + theta))/2, r*cos(theta))/4 - r*(cos(phi - 2*theta) - cos(phi + 2*theta))*u_z(r*(-sin(phi - theta) + sin(phi + theta))/2, r*(cos(phi - theta) - cos(phi + theta))/2, r*cos(theta))/4 + r*u_z(r*sin(theta)*cos(phi), r*sin(phi)*sin(theta), r*cos(theta))*sin(phi)*sin(theta)**2*cos(phi) + u_y(r*sin(theta)*cos(phi), r*sin(phi)*sin(theta), r*cos(theta))*cos(theta) + u_z(r*sin(theta)*cos(phi), r*sin(phi)*sin(theta), r*cos(theta))*sin(theta)*cos(phi) - u_z(r*sin(theta)*cos(phi), r*sin(phi)*sin(theta), r*cos(theta))*cos(theta))"
      ]
     },
     "execution_count": 188,
     "metadata": {},
     "output_type": "execute_result"
    }
   ],
   "source": [
    "a.set_name('A')\n",
    "print(a(u,v)) ; a(u,v).display()"
   ]
  },
  {
   "cell_type": "code",
   "execution_count": 189,
   "metadata": {
    "collapsed": false,
    "deletable": true,
    "editable": true
   },
   "outputs": [
    {
     "data": {
      "text/html": [
       "<html><script type=\"math/tex; mode=display\">\\newcommand{\\Bold}[1]{\\mathbf{#1}}\\mathrm{True}</script></html>"
      ],
      "text/plain": [
       "True"
      ]
     },
     "execution_count": 189,
     "metadata": {},
     "output_type": "execute_result"
    }
   ],
   "source": [
    "a(u,v) == - a(v,u)"
   ]
  },
  {
   "cell_type": "code",
   "execution_count": 190,
   "metadata": {
    "collapsed": false,
    "deletable": true,
    "editable": true
   },
   "outputs": [
    {
     "name": "stdout",
     "output_type": "stream",
     "text": [
      "no symmetry; antisymmetry: (0, 1)\n"
     ]
    }
   ],
   "source": [
    "a.symmetries()"
   ]
  },
  {
   "cell_type": "markdown",
   "metadata": {
    "deletable": true,
    "editable": true
   },
   "source": [
    "<p>The <strong>exterior derivative</strong>  of a differential form:</p>"
   ]
  },
  {
   "cell_type": "code",
   "execution_count": 191,
   "metadata": {
    "collapsed": false,
    "deletable": true,
    "editable": true
   },
   "outputs": [
    {
     "name": "stdout",
     "output_type": "stream",
     "text": [
      "2-form domega on the Open subset U of the 3-dimensional differentiable manifold M\n"
     ]
    },
    {
     "data": {
      "text/html": [
       "<html><script type=\"math/tex; mode=display\">\\newcommand{\\Bold}[1]{\\mathbf{#1}}\\mathrm{d}\\omega = - 2 y \\mathrm{d} x\\wedge \\mathrm{d} y +\\mathrm{d} x\\wedge \\mathrm{d} z -\\mathrm{d} y\\wedge \\mathrm{d} z</script></html>"
      ],
      "text/plain": [
       "domega = -2*y dx/\\dy + dx/\\dz - dy/\\dz"
      ]
     },
     "execution_count": 191,
     "metadata": {},
     "output_type": "execute_result"
    }
   ],
   "source": [
    "dom = om.exterior_derivative() ; print(dom) ; dom.display()"
   ]
  },
  {
   "cell_type": "markdown",
   "metadata": {
    "deletable": true,
    "editable": true
   },
   "source": [
    "<p>Instead of invoking the method <span style=\"font-family: courier new,courier;\">exterior_derivative()</span>, one can use the function <span style=\"font-family: courier new,courier;\">xder</span>, after having imported it from <span style=\"font-family: courier new,courier;\">sage.manifolds.utilities</span>:</p>"
   ]
  },
  {
   "cell_type": "code",
   "execution_count": 192,
   "metadata": {
    "collapsed": false,
    "deletable": true,
    "editable": true
   },
   "outputs": [],
   "source": [
    "from sage.manifolds.utilities import xder\n",
    "dom = xder(om)"
   ]
  },
  {
   "cell_type": "code",
   "execution_count": 193,
   "metadata": {
    "collapsed": false,
    "deletable": true,
    "editable": true
   },
   "outputs": [
    {
     "name": "stdout",
     "output_type": "stream",
     "text": [
      "3-form dA on the Open subset U of the 3-dimensional differentiable manifold M\n"
     ]
    },
    {
     "data": {
      "text/html": [
       "<html><script type=\"math/tex; mode=display\">\\newcommand{\\Bold}[1]{\\mathbf{#1}}\\mathrm{d}A = \\left( - 6 y z^{2} - 2 y - 1 \\right) \\mathrm{d} x\\wedge \\mathrm{d} y\\wedge \\mathrm{d} z</script></html>"
      ],
      "text/plain": [
       "dA = (-6*y*z**2 - 2*y - 1) dx/\\dy/\\dz"
      ]
     },
     "execution_count": 193,
     "metadata": {},
     "output_type": "execute_result"
    }
   ],
   "source": [
    "da = xder(a) ; print(da) ; da.display()"
   ]
  },
  {
   "cell_type": "markdown",
   "metadata": {
    "deletable": true,
    "editable": true
   },
   "source": [
    "<p>The exterior derivative is nilpotent:</p>"
   ]
  },
  {
   "cell_type": "code",
   "execution_count": 194,
   "metadata": {
    "collapsed": false,
    "deletable": true,
    "editable": true
   },
   "outputs": [
    {
     "data": {
      "text/html": [
       "<html><script type=\"math/tex; mode=display\">\\newcommand{\\Bold}[1]{\\mathbf{#1}}\\mathrm{d}\\mathrm{d}f = 0</script></html>"
      ],
      "text/plain": [
       "ddf = 0"
      ]
     },
     "execution_count": 194,
     "metadata": {},
     "output_type": "execute_result"
    }
   ],
   "source": [
    "ddf = xder(df) ; ddf.display()"
   ]
  },
  {
   "cell_type": "code",
   "execution_count": 195,
   "metadata": {
    "collapsed": false,
    "deletable": true,
    "editable": true
   },
   "outputs": [
    {
     "data": {
      "text/html": [
       "<html><script type=\"math/tex; mode=display\">\\newcommand{\\Bold}[1]{\\mathbf{#1}}\\mathrm{d}\\mathrm{d}\\omega = 0</script></html>"
      ],
      "text/plain": [
       "ddomega = 0"
      ]
     },
     "execution_count": 195,
     "metadata": {},
     "output_type": "execute_result"
    }
   ],
   "source": [
    "ddom = xder(dom) ; ddom.display()"
   ]
  },
  {
   "cell_type": "markdown",
   "metadata": {
    "deletable": true,
    "editable": true
   },
   "source": [
    "<h2>Lie derivative</h2>\n",
    "<p>The Lie derivative of any tensor field with respect to a vector field is computed by the method <span style=\"font-family: courier new,courier;\">lie_derivative()</span>, with the vector field as the argument:</p>"
   ]
  },
  {
   "cell_type": "code",
   "execution_count": 196,
   "metadata": {
    "collapsed": false,
    "deletable": true,
    "editable": true
   },
   "outputs": [
    {
     "name": "stdout",
     "output_type": "stream",
     "text": [
      "1-form on the Open subset U of the 3-dimensional differentiable manifold M\n"
     ]
    },
    {
     "data": {
      "text/html": [
       "<html><script type=\"math/tex; mode=display\">\\newcommand{\\Bold}[1]{\\mathbf{#1}}\\left( x y z + 2 x - y z^{2} - z \\right) \\mathrm{d} x + \\left( x^{2} z + x^{2} + x y z - x z^{2} + y^{2} \\right) \\mathrm{d} y + \\left( x^{2} y - 2 x y z + y + 1 \\right) \\mathrm{d} z</script></html>"
      ],
      "text/plain": [
       "(x*y*z + 2*x - y*z**2 - z) dx + (x**2*z + x**2 + x*y*z - x*z**2 + y**2) dy + (x**2*y - 2*x*y*z + y + 1) dz"
      ]
     },
     "execution_count": 196,
     "metadata": {},
     "output_type": "execute_result"
    }
   ],
   "source": [
    "lv_om = om.lie_derivative(v) ; print(lv_om) ; lv_om.display()"
   ]
  },
  {
   "cell_type": "code",
   "execution_count": 197,
   "metadata": {
    "collapsed": false,
    "deletable": true,
    "editable": true
   },
   "outputs": [],
   "source": [
    "# lu_dh = dh.lie_derivative(u) ; print(lu_dh) ; lu_dh.display()"
   ]
  },
  {
   "cell_type": "markdown",
   "metadata": {
    "deletable": true,
    "editable": true
   },
   "source": [
    "<p>Let us check <strong>Cartan identity</strong> on the 1-form $\\omega$:</p>\n",
    "<p>$\\mathcal{L}_v \\omega = v\\cdot \\mathrm{d}\\omega + \\mathrm{d}\\langle \\omega, v\\rangle$</p>\n",
    "<p>and on the 2-form $A$:</p>\n",
    "<p>$\\mathcal{L}_v A = v\\cdot \\mathrm{d}A + \\mathrm{d}(v\\cdot A)$</p>"
   ]
  },
  {
   "cell_type": "code",
   "execution_count": 198,
   "metadata": {
    "collapsed": false,
    "deletable": true,
    "editable": true
   },
   "outputs": [
    {
     "data": {
      "text/html": [
       "<html><script type=\"math/tex; mode=display\">\\newcommand{\\Bold}[1]{\\mathbf{#1}}\\mathrm{True}</script></html>"
      ],
      "text/plain": [
       "True"
      ]
     },
     "execution_count": 198,
     "metadata": {},
     "output_type": "execute_result"
    }
   ],
   "source": [
    "om.lie_derivative(v) == v.contract(xder(om)) + xder(om(v))"
   ]
  },
  {
   "cell_type": "code",
   "execution_count": 199,
   "metadata": {
    "collapsed": false,
    "deletable": true,
    "editable": true
   },
   "outputs": [
    {
     "data": {
      "text/html": [
       "<html><script type=\"math/tex; mode=display\">\\newcommand{\\Bold}[1]{\\mathbf{#1}}\\mathrm{True}</script></html>"
      ],
      "text/plain": [
       "True"
      ]
     },
     "execution_count": 199,
     "metadata": {},
     "output_type": "execute_result"
    }
   ],
   "source": [
    "a.lie_derivative(v) == v.contract(xder(a)) + xder(v.contract(a))"
   ]
  },
  {
   "cell_type": "markdown",
   "metadata": {
    "deletable": true,
    "editable": true
   },
   "source": [
    "<p>The Lie derivative of a vector field along another one is the <strong>commutator</strong> of the two vectors fields:</p>"
   ]
  },
  {
   "cell_type": "code",
   "execution_count": 200,
   "metadata": {
    "collapsed": false,
    "deletable": true,
    "editable": true
   },
   "outputs": [],
   "source": [
    "# v.lie_derivative(u)(f) == u(v(f)) - v(u(f))"
   ]
  },
  {
   "cell_type": "markdown",
   "metadata": {
    "deletable": true,
    "editable": true
   },
   "source": [
    "<h2>Tensor fields of arbitrary rank</h2>\n",
    "<p>Up to now, we have encountered tensor fields</p>\n",
    "<ul>\n",
    "<li>of type (0,0) (i.e. scalar fields),</li>\n",
    "<li>of type (1,0) (i.e. vector fields),</li>\n",
    "<li>of type (0,1) (i.e. 1-forms),</li>\n",
    "<li>of type (0,2) and antisymmetric (i.e. 2-forms).</li>\n",
    "</ul>\n",
    "<p>More generally, tensor fields of any type $(p,q)$ can be introduced in SageMath. For instance a tensor field of type (1,2) on the open subset $U$ is declared as follows:</p>"
   ]
  },
  {
   "cell_type": "code",
   "execution_count": 201,
   "metadata": {
    "collapsed": false,
    "deletable": true,
    "editable": true
   },
   "outputs": [
    {
     "name": "stdout",
     "output_type": "stream",
     "text": [
      "Tensor field T of type (1,2) on the Open subset U of the 3-dimensional differentiable manifold M\n"
     ]
    }
   ],
   "source": [
    "t = U.tensor_field(1, 2, name='T') ; print(t)"
   ]
  },
  {
   "cell_type": "markdown",
   "metadata": {
    "deletable": true,
    "editable": true
   },
   "source": [
    "<p>As for vectors or 1-forms, the tensor's components with respect to the domain's default frame are set by means of square brackets:</p>"
   ]
  },
  {
   "cell_type": "code",
   "execution_count": 202,
   "metadata": {
    "collapsed": false,
    "deletable": true,
    "editable": true
   },
   "outputs": [],
   "source": [
    "t[1,2,1] = 1 + x^2\n",
    "t[3,2,1] = x*y*z"
   ]
  },
  {
   "cell_type": "markdown",
   "metadata": {
    "deletable": true,
    "editable": true
   },
   "source": [
    "<p>Unset components are zero:</p>"
   ]
  },
  {
   "cell_type": "code",
   "execution_count": 203,
   "metadata": {
    "collapsed": false,
    "deletable": true,
    "editable": true
   },
   "outputs": [
    {
     "data": {
      "text/html": [
       "<html><script type=\"math/tex; mode=display\">\\newcommand{\\Bold}[1]{\\mathbf{#1}}T = \\left( x^{2} + 1 \\right) \\frac{\\partial}{\\partial x }\\otimes \\mathrm{d} y\\otimes \\mathrm{d} x + x y z \\frac{\\partial}{\\partial z }\\otimes \\mathrm{d} y\\otimes \\mathrm{d} x</script></html>"
      ],
      "text/plain": [
       "T = (x**2 + 1) d/dx*dy*dx + x*y*z d/dz*dy*dx"
      ]
     },
     "execution_count": 203,
     "metadata": {},
     "output_type": "execute_result"
    }
   ],
   "source": [
    "t.display()"
   ]
  },
  {
   "cell_type": "code",
   "execution_count": 204,
   "metadata": {
    "collapsed": false,
    "deletable": true,
    "editable": true
   },
   "outputs": [
    {
     "data": {
      "text/html": [
       "<html><script type=\"math/tex; mode=display\">\\newcommand{\\Bold}[1]{\\mathbf{#1}}\\left[\\left[\\left[0, 0, 0\\right], \\left[x^{2} + 1, 0, 0\\right], \\left[0, 0, 0\\right]\\right], \\left[\\left[0, 0, 0\\right], \\left[0, 0, 0\\right], \\left[0, 0, 0\\right]\\right], \\left[\\left[0, 0, 0\\right], \\left[x y z, 0, 0\\right], \\left[0, 0, 0\\right]\\right]\\right]</script></html>"
      ],
      "text/plain": [
       "[[[0, 0, 0], [x**2 + 1, 0, 0], [0, 0, 0]],\n",
       " [[0, 0, 0], [0, 0, 0], [0, 0, 0]],\n",
       " [[0, 0, 0], [x*y*z, 0, 0], [0, 0, 0]]]"
      ]
     },
     "execution_count": 204,
     "metadata": {},
     "output_type": "execute_result"
    }
   ],
   "source": [
    "t[:]"
   ]
  },
  {
   "cell_type": "markdown",
   "metadata": {
    "deletable": true,
    "editable": true
   },
   "source": [
    "<p>Display of the nonzero components:</p>"
   ]
  },
  {
   "cell_type": "code",
   "execution_count": 205,
   "metadata": {
    "collapsed": false,
    "deletable": true,
    "editable": true
   },
   "outputs": [
    {
     "data": {
      "text/html": [
       "<html><script type=\"math/tex; mode=display\">\\newcommand{\\Bold}[1]{\\mathbf{#1}}\\begin{array}{lcl} T_{ \\phantom{\\, x} \\, y \\, x }^{ \\, x \\phantom{\\, y} \\phantom{\\, x} } & = & x^{2} + 1 \\\\ T_{ \\phantom{\\, z} \\, y \\, x }^{ \\, z \\phantom{\\, y} \\phantom{\\, x} } & = & x y z \\end{array}</script></html>"
      ],
      "text/plain": [
       "T^x_yx = x**2 + 1 \n",
       "T^z_yx = x*y*z "
      ]
     },
     "execution_count": 205,
     "metadata": {},
     "output_type": "execute_result"
    }
   ],
   "source": [
    "t.display_comp()"
   ]
  },
  {
   "cell_type": "markdown",
   "metadata": {
    "deletable": true,
    "editable": true
   },
   "source": [
    "<p>Double square brackets return the component (still w.r.t. the default frame) as a scalar field, while single square brackets return the expression of this scalar field in terms of the domain's default coordinates:</p>"
   ]
  },
  {
   "cell_type": "code",
   "execution_count": 206,
   "metadata": {
    "collapsed": false,
    "deletable": true,
    "editable": true
   },
   "outputs": [
    {
     "name": "stdout",
     "output_type": "stream",
     "text": [
      "Scalar field on the Open subset U of the 3-dimensional differentiable manifold M\n"
     ]
    },
    {
     "data": {
      "text/html": [
       "<html><script type=\"math/tex; mode=display\">\\newcommand{\\Bold}[1]{\\mathbf{#1}}\\begin{array}{llcl} & U & \\longrightarrow & \\mathbb{R} \\\\ & \\left(x, y, z\\right) & \\longmapsto & x^{2} + 1 \\\\ & \\left(r, {\\theta}, {\\phi}\\right) & \\longmapsto & r^{2} \\sin^{2}{\\left (\\theta \\right )} \\cos^{2}{\\left (\\phi \\right )} + 1 \\end{array}</script></html>"
      ],
      "text/plain": [
       "U --> R\n",
       "(x, y, z) |--> x**2 + 1\n",
       "(r, theta, phi) |--> r**2*sin(theta)**2*cos(phi)**2 + 1"
      ]
     },
     "execution_count": 206,
     "metadata": {},
     "output_type": "execute_result"
    }
   ],
   "source": [
    "print(t[[1,2,1]]) ; t[[1,2,1]].display()"
   ]
  },
  {
   "cell_type": "code",
   "execution_count": 207,
   "metadata": {
    "collapsed": false,
    "deletable": true,
    "editable": true
   },
   "outputs": [
    {
     "name": "stdout",
     "output_type": "stream",
     "text": [
      "x**2 + 1\n"
     ]
    },
    {
     "data": {
      "text/html": [
       "<html><script type=\"math/tex; mode=display\">\\newcommand{\\Bold}[1]{\\mathbf{#1}}x^{2} + 1</script></html>"
      ],
      "text/plain": [
       "x**2 + 1"
      ]
     },
     "execution_count": 207,
     "metadata": {},
     "output_type": "execute_result"
    }
   ],
   "source": [
    "print(t[1,2,1]) ; t[1,2,1]"
   ]
  },
  {
   "cell_type": "markdown",
   "metadata": {
    "deletable": true,
    "editable": true
   },
   "source": [
    "<p>A tensor field of type (1,2) maps a 3-tuple (1-form, vector field, vector field) to a scalar field:</p>"
   ]
  },
  {
   "cell_type": "code",
   "execution_count": 208,
   "metadata": {
    "collapsed": false,
    "deletable": true,
    "editable": true
   },
   "outputs": [
    {
     "name": "stdout",
     "output_type": "stream",
     "text": [
      "Scalar field T(omega,u,v) on the Open subset U of the 3-dimensional differentiable manifold M\n"
     ]
    },
    {
     "data": {
      "text/html": [
       "<html><script type=\"math/tex; mode=display\">\\newcommand{\\Bold}[1]{\\mathbf{#1}}\\begin{array}{llcl} T\\left(\\omega,u,v\\right):& U & \\longrightarrow & \\mathbb{R} \\\\ & \\left(x, y, z\\right) & \\longmapsto & \\left(x^{4} y + x^{4} + x^{2} y^{3} + x^{2} y^{2} z + x^{2} y^{2} + x^{2} y z + x^{2} y + x^{2} - x y^{2} z^{2} - x y z^{2} + y^{3} + y^{2}\\right) \\operatorname{u_{y}}{\\left (x,y,z \\right )} \\\\ & \\left(r, {\\theta}, {\\phi}\\right) & \\longmapsto & r^{2} \\left(- r^{3} \\sin^{4}{\\left (\\phi \\right )} \\sin^{2}{\\left (\\theta \\right )} \\cos{\\left (\\theta \\right )} + \\sqrt{2} r^{3} \\sin^{2}{\\left (\\phi \\right )} \\sin^{3}{\\left (\\theta \\right )} \\cos{\\left (\\phi + \\frac{\\pi}{4} \\right )} + r^{3} \\sin^{2}{\\left (\\phi \\right )} \\sin^{2}{\\left (\\theta \\right )} \\cos{\\left (\\theta \\right )} - r^{3} \\sin^{2}{\\left (\\phi \\right )} \\sin{\\left (\\theta \\right )} \\cos{\\left (\\phi \\right )} + r^{3} \\sin{\\left (\\phi \\right )} \\sin^{3}{\\left (\\theta \\right )} - r^{2} \\sin^{3}{\\left (\\phi \\right )} \\sin{\\left (\\theta \\right )} \\cos{\\left (\\theta \\right )} + \\sqrt{2} r^{2} \\sin{\\left (\\phi \\right )} \\sin^{2}{\\left (\\theta \\right )} \\cos{\\left (\\phi + \\frac{\\pi}{4} \\right )} + r^{2} \\sin{\\left (\\phi \\right )} \\sin{\\left (\\theta \\right )} \\cos{\\left (\\theta \\right )} - r^{2} \\sin{\\left (\\phi \\right )} \\cos{\\left (\\phi \\right )} + r^{2} \\sin^{2}{\\left (\\theta \\right )} + r \\sin{\\left (\\phi \\right )} \\sin{\\left (\\theta \\right )} + 1\\right) \\operatorname{u_{y}}{\\left (r \\sin{\\left (\\theta \\right )} \\cos{\\left (\\phi \\right )},r \\sin{\\left (\\phi \\right )} \\sin{\\left (\\theta \\right )},r \\cos{\\left (\\theta \\right )} \\right )} \\sin^{2}{\\left (\\theta \\right )} \\end{array}</script></html>"
      ],
      "text/plain": [
       "T(omega,u,v): U --> R\n",
       "   (x, y, z) |--> (x**4*y + x**4 + x**2*y**3 + x**2*y**2*z + x**2*y**2 + x**2*y*z + x**2*y + x**2 - x*y**2*z**2 - x*y*z**2 + y**3 + y**2)*u_y(x, y, z)\n",
       "   (r, theta, phi) |--> r**2*(-r**3*sin(phi)**4*sin(theta)**2*cos(theta) + sqrt(2)*r**3*sin(phi)**2*sin(theta)**3*cos(phi + pi/4) + r**3*sin(phi)**2*sin(theta)**2*cos(theta) - r**3*sin(phi)**2*sin(theta)*cos(phi) + r**3*sin(phi)*sin(theta)**3 - r**2*sin(phi)**3*sin(theta)*cos(theta) + sqrt(2)*r**2*sin(phi)*sin(theta)**2*cos(phi + pi/4) + r**2*sin(phi)*sin(theta)*cos(theta) - r**2*sin(phi)*cos(phi) + r**2*sin(theta)**2 + r*sin(phi)*sin(theta) + 1)*u_y(r*sin(theta)*cos(phi), r*sin(phi)*sin(theta), r*cos(theta))*sin(theta)**2"
      ]
     },
     "execution_count": 208,
     "metadata": {},
     "output_type": "execute_result"
    }
   ],
   "source": [
    "print(t(om, u, v)) ; t(om, u, v).display()"
   ]
  },
  {
   "cell_type": "markdown",
   "metadata": {
    "deletable": true,
    "editable": true
   },
   "source": [
    "<p>As for vectors and differential forms, the tensor components can be taken in any frame defined on the manifold:</p>"
   ]
  },
  {
   "cell_type": "code",
   "execution_count": 209,
   "metadata": {
    "collapsed": false,
    "deletable": true,
    "editable": true
   },
   "outputs": [
    {
     "data": {
      "text/html": [
       "<html><script type=\"math/tex; mode=display\">\\newcommand{\\Bold}[1]{\\mathbf{#1}}\\frac{r}{\\sqrt{r^{2}}} \\left(r^{3} \\sin{\\left (\\phi \\right )} \\sin{\\left (\\theta \\right )} \\cos^{2}{\\left (\\theta \\right )} + r^{2} \\sin^{2}{\\left (\\theta \\right )} \\cos^{2}{\\left (\\phi \\right )} + 1\\right) \\sin{\\left (\\phi \\right )} \\sin^{3}{\\left (\\theta \\right )} \\cos^{2}{\\left (\\phi \\right )}</script></html>"
      ],
      "text/plain": [
       "r*(r**3*sin(phi)*sin(theta)*cos(theta)**2 + r**2*sin(theta)**2*cos(phi)**2 + 1)*sin(phi)*sin(theta)**3*cos(phi)**2/sqrt(r**2)"
      ]
     },
     "execution_count": 209,
     "metadata": {},
     "output_type": "execute_result"
    }
   ],
   "source": [
    "t[Y.frame(), 1,1,1, Y]"
   ]
  },
  {
   "cell_type": "markdown",
   "metadata": {
    "deletable": true,
    "editable": true
   },
   "source": [
    "<h2>Tensor calculus</h2>\n",
    "<p>The<strong> tensor product</strong> $\\otimes$ is denoted by `*`:</p>"
   ]
  },
  {
   "cell_type": "code",
   "execution_count": 210,
   "metadata": {
    "collapsed": false,
    "deletable": true,
    "editable": true
   },
   "outputs": [
    {
     "data": {
      "image/png": "[encoded data removed]",
      "text/latex": [
       "$$\\left ( 0, \\quad 2\\right )$$"
      ],
      "text/plain": [
       "(0, 2)"
      ]
     },
     "execution_count": 210,
     "metadata": {},
     "output_type": "execute_result"
    }
   ],
   "source": [
    "v.tensor_type() ; a.tensor_type()"
   ]
  },
  {
   "cell_type": "code",
   "execution_count": 211,
   "metadata": {
    "collapsed": false,
    "deletable": true,
    "editable": true
   },
   "outputs": [
    {
     "name": "stdout",
     "output_type": "stream",
     "text": [
      "Tensor field v*A of type (1,2) on the Open subset U of the 3-dimensional differentiable manifold M\n"
     ]
    },
    {
     "data": {
      "text/html": [
       "<html><script type=\"math/tex; mode=display\">\\newcommand{\\Bold}[1]{\\mathbf{#1}}v\\otimes A</script></html>"
      ],
      "text/plain": [
       "Tensor field v*A of type (1,2) on the Open subset U of the 3-dimensional differentiable manifold M"
      ]
     },
     "execution_count": 211,
     "metadata": {},
     "output_type": "execute_result"
    }
   ],
   "source": [
    "b = v*a ; print(b) ; b"
   ]
  },
  {
   "cell_type": "markdown",
   "metadata": {
    "deletable": true,
    "editable": true
   },
   "source": [
    "<p>The tensor product preserves the (anti)symmetries: since $A$ is a 2-form, it is antisymmetric with respect to its two arguments (positions 0 and 1); as a result, b is antisymmetric with respect to its last two arguments (positions 1 and 2):</p>"
   ]
  },
  {
   "cell_type": "code",
   "execution_count": 212,
   "metadata": {
    "collapsed": false,
    "deletable": true,
    "editable": true
   },
   "outputs": [
    {
     "name": "stdout",
     "output_type": "stream",
     "text": [
      "no symmetry; antisymmetry: (0, 1)\n"
     ]
    }
   ],
   "source": [
    "a.symmetries()"
   ]
  },
  {
   "cell_type": "code",
   "execution_count": 213,
   "metadata": {
    "collapsed": false,
    "deletable": true,
    "editable": true
   },
   "outputs": [
    {
     "name": "stdout",
     "output_type": "stream",
     "text": [
      "no symmetry; antisymmetry: (1, 2)\n"
     ]
    }
   ],
   "source": [
    "b.symmetries()"
   ]
  },
  {
   "cell_type": "markdown",
   "metadata": {
    "deletable": true,
    "editable": true
   },
   "source": [
    "<p>Standard<strong> tensor arithmetics</strong> is implemented:</p>"
   ]
  },
  {
   "cell_type": "code",
   "execution_count": 214,
   "metadata": {
    "collapsed": false,
    "deletable": true,
    "editable": true
   },
   "outputs": [
    {
     "name": "stdout",
     "output_type": "stream",
     "text": [
      "Tensor field of type (1,2) on the Open subset U of the 3-dimensional differentiable manifold M\n"
     ]
    }
   ],
   "source": [
    "s = - t + 2*f* b ; print(s)"
   ]
  },
  {
   "cell_type": "markdown",
   "metadata": {
    "deletable": true,
    "editable": true
   },
   "source": [
    "<p><strong>Tensor contractions</strong> are dealt with by the methods <span style=\"font-family: courier new,courier;\">trace()</span> and <span style=\"font-family: courier new,courier;\">contract()</span>: for instance, let us contract the tensor $T$ w.r.t. its first two arguments (positions 0 and 1), i.e. let us form the tensor $c$ of components $c_i = T^k_{\\ \\, k i}$:</p>"
   ]
  },
  {
   "cell_type": "code",
   "execution_count": 215,
   "metadata": {
    "collapsed": false,
    "deletable": true,
    "editable": true
   },
   "outputs": [
    {
     "name": "stdout",
     "output_type": "stream",
     "text": [
      "1-form on the Open subset U of the 3-dimensional differentiable manifold M\n"
     ]
    }
   ],
   "source": [
    "c = t.trace(0,1)\n",
    "print(c)"
   ]
  },
  {
   "cell_type": "markdown",
   "metadata": {
    "deletable": true,
    "editable": true
   },
   "source": [
    "<p>An alternative to the writing <span style=\"font-family: courier new,courier;\">trace(0,1)</span> is to use the <strong>index notation</strong> to denote the contraction: the indices are given in a string inside the [] operator, with '^' in front of the contravariant indices and '_' in front of the covariant ones:</p>"
   ]
  },
  {
   "cell_type": "code",
   "execution_count": 216,
   "metadata": {
    "collapsed": false,
    "deletable": true,
    "editable": true
   },
   "outputs": [
    {
     "name": "stdout",
     "output_type": "stream",
     "text": [
      "1-form on the Open subset U of the 3-dimensional differentiable manifold M\n"
     ]
    },
    {
     "data": {
      "text/html": [
       "<html><script type=\"math/tex; mode=display\">\\newcommand{\\Bold}[1]{\\mathbf{#1}}\\mathrm{True}</script></html>"
      ],
      "text/plain": [
       "True"
      ]
     },
     "execution_count": 216,
     "metadata": {},
     "output_type": "execute_result"
    }
   ],
   "source": [
    "c1 = t['^k_ki']\n",
    "print(c1)\n",
    "c1 == c"
   ]
  },
  {
   "cell_type": "markdown",
   "metadata": {
    "deletable": true,
    "editable": true
   },
   "source": [
    "<p>The contraction is performed on the repeated index (here k); the letter denoting the remaining index (here i) is arbitrary:</p>"
   ]
  },
  {
   "cell_type": "code",
   "execution_count": 217,
   "metadata": {
    "collapsed": false,
    "deletable": true,
    "editable": true
   },
   "outputs": [
    {
     "data": {
      "text/html": [
       "<html><script type=\"math/tex; mode=display\">\\newcommand{\\Bold}[1]{\\mathbf{#1}}\\mathrm{True}</script></html>"
      ],
      "text/plain": [
       "True"
      ]
     },
     "execution_count": 217,
     "metadata": {},
     "output_type": "execute_result"
    }
   ],
   "source": [
    "t['^k_kj'] == c"
   ]
  },
  {
   "cell_type": "code",
   "execution_count": 218,
   "metadata": {
    "collapsed": false,
    "deletable": true,
    "editable": true
   },
   "outputs": [
    {
     "data": {
      "text/html": [
       "<html><script type=\"math/tex; mode=display\">\\newcommand{\\Bold}[1]{\\mathbf{#1}}\\mathrm{True}</script></html>"
      ],
      "text/plain": [
       "True"
      ]
     },
     "execution_count": 218,
     "metadata": {},
     "output_type": "execute_result"
    }
   ],
   "source": [
    "t['^b_ba'] == c"
   ]
  },
  {
   "cell_type": "markdown",
   "metadata": {
    "deletable": true,
    "editable": true
   },
   "source": [
    "<p>It can even be replaced by a dot:</p>"
   ]
  },
  {
   "cell_type": "code",
   "execution_count": 219,
   "metadata": {
    "collapsed": false,
    "deletable": true,
    "editable": true
   },
   "outputs": [
    {
     "data": {
      "text/html": [
       "<html><script type=\"math/tex; mode=display\">\\newcommand{\\Bold}[1]{\\mathbf{#1}}\\mathrm{True}</script></html>"
      ],
      "text/plain": [
       "True"
      ]
     },
     "execution_count": 219,
     "metadata": {},
     "output_type": "execute_result"
    }
   ],
   "source": [
    "t['^k_k.'] == c"
   ]
  },
  {
   "cell_type": "markdown",
   "metadata": {
    "deletable": true,
    "editable": true
   },
   "source": [
    "<p>LaTeX notations are allowed:</p>"
   ]
  },
  {
   "cell_type": "code",
   "execution_count": 220,
   "metadata": {
    "collapsed": false,
    "deletable": true,
    "editable": true
   },
   "outputs": [
    {
     "data": {
      "text/html": [
       "<html><script type=\"math/tex; mode=display\">\\newcommand{\\Bold}[1]{\\mathbf{#1}}\\mathrm{True}</script></html>"
      ],
      "text/plain": [
       "True"
      ]
     },
     "execution_count": 220,
     "metadata": {},
     "output_type": "execute_result"
    }
   ],
   "source": [
    "t['^{k}_{ki}'] == c"
   ]
  },
  {
   "cell_type": "markdown",
   "metadata": {
    "deletable": true,
    "editable": true
   },
   "source": [
    "<p>The contraction $T^i_{\\ j k} v^k$ of the tensor fields $T$ and $v$ is taken as follows (2 refers to the last index position of $T$ and 0 to the only index position of v):</p>"
   ]
  },
  {
   "cell_type": "code",
   "execution_count": 221,
   "metadata": {
    "collapsed": false,
    "deletable": true,
    "editable": true
   },
   "outputs": [
    {
     "name": "stdout",
     "output_type": "stream",
     "text": [
      "Tensor field of type (1,1) on the Open subset U of the 3-dimensional differentiable manifold M\n"
     ]
    }
   ],
   "source": [
    "tv = t.contract(2, v, 0)\n",
    "print(tv)"
   ]
  },
  {
   "cell_type": "markdown",
   "metadata": {
    "deletable": true,
    "editable": true
   },
   "source": [
    "<p>Since 2 corresponds to the last index position of $T$ and 0 to the first index position of $v$, a shortcut for the above is</p>"
   ]
  },
  {
   "cell_type": "code",
   "execution_count": 222,
   "metadata": {
    "collapsed": false,
    "deletable": true,
    "editable": true
   },
   "outputs": [
    {
     "name": "stdout",
     "output_type": "stream",
     "text": [
      "Tensor field of type (1,1) on the Open subset U of the 3-dimensional differentiable manifold M\n"
     ]
    }
   ],
   "source": [
    "tv1 = t.contract(v)\n",
    "print(tv1)"
   ]
  },
  {
   "cell_type": "code",
   "execution_count": 223,
   "metadata": {
    "collapsed": false,
    "deletable": true,
    "editable": true
   },
   "outputs": [
    {
     "data": {
      "text/html": [
       "<html><script type=\"math/tex; mode=display\">\\newcommand{\\Bold}[1]{\\mathbf{#1}}\\mathrm{True}</script></html>"
      ],
      "text/plain": [
       "True"
      ]
     },
     "execution_count": 223,
     "metadata": {},
     "output_type": "execute_result"
    }
   ],
   "source": [
    "tv1 == tv"
   ]
  },
  {
   "cell_type": "markdown",
   "metadata": {
    "deletable": true,
    "editable": true
   },
   "source": [
    "<p>Instead of <span style=\"font-family: courier new,courier;\">contract()</span>, the <strong>index notation</strong>, combined with the <strong>*</strong> operator, can be used to denote the contraction:</p>"
   ]
  },
  {
   "cell_type": "code",
   "execution_count": 224,
   "metadata": {
    "collapsed": false,
    "deletable": true,
    "editable": true
   },
   "outputs": [
    {
     "data": {
      "text/html": [
       "<html><script type=\"math/tex; mode=display\">\\newcommand{\\Bold}[1]{\\mathbf{#1}}\\mathrm{True}</script></html>"
      ],
      "text/plain": [
       "True"
      ]
     },
     "execution_count": 224,
     "metadata": {},
     "output_type": "execute_result"
    }
   ],
   "source": [
    "t['^i_jk']*v['^k'] == tv"
   ]
  },
  {
   "cell_type": "markdown",
   "metadata": {
    "deletable": true,
    "editable": true
   },
   "source": [
    "<p>The non-repeated indices can be replaced by dots:</p>"
   ]
  },
  {
   "cell_type": "code",
   "execution_count": 225,
   "metadata": {
    "collapsed": false,
    "deletable": true,
    "editable": true
   },
   "outputs": [
    {
     "data": {
      "text/html": [
       "<html><script type=\"math/tex; mode=display\">\\newcommand{\\Bold}[1]{\\mathbf{#1}}\\mathrm{True}</script></html>"
      ],
      "text/plain": [
       "True"
      ]
     },
     "execution_count": 225,
     "metadata": {},
     "output_type": "execute_result"
    }
   ],
   "source": [
    "t['^._.k']*v['^k'] == tv"
   ]
  },
  {
   "cell_type": "markdown",
   "metadata": {
    "deletable": true,
    "editable": true
   },
   "source": [
    "<h2>Metric structures</h2>\n",
    "<p>A <strong>Riemannian metric</strong> on the manifold $\\mathcal{M}$ is declared as follows:</p>"
   ]
  },
  {
   "cell_type": "code",
   "execution_count": 226,
   "metadata": {
    "collapsed": false,
    "deletable": true,
    "editable": true
   },
   "outputs": [
    {
     "name": "stdout",
     "output_type": "stream",
     "text": [
      "Riemannian metric g on the 3-dimensional differentiable manifold M\n"
     ]
    }
   ],
   "source": [
    "g = M.riemannian_metric('g')\n",
    "print(g)"
   ]
  },
  {
   "cell_type": "markdown",
   "metadata": {
    "deletable": true,
    "editable": true
   },
   "source": [
    "<p>It is a symmetric tensor field of type (0,2):</p>"
   ]
  },
  {
   "cell_type": "code",
   "execution_count": 227,
   "metadata": {
    "collapsed": false,
    "deletable": true,
    "editable": true
   },
   "outputs": [
    {
     "data": {
      "text/html": [
       "<html><script type=\"math/tex; mode=display\">\\newcommand{\\Bold}[1]{\\mathbf{#1}}\\mathcal{T}^{(0, 2)}\\left(\\right)</script></html>"
      ],
      "text/plain": [
       "Free module T^(0,2)(M) of type-(0,2) tensors fields on the 3-dimensional differentiable manifold M"
      ]
     },
     "execution_count": 227,
     "metadata": {},
     "output_type": "execute_result"
    }
   ],
   "source": [
    "g.parent()"
   ]
  },
  {
   "cell_type": "code",
   "execution_count": 228,
   "metadata": {
    "collapsed": false,
    "deletable": true,
    "editable": true
   },
   "outputs": [
    {
     "name": "stdout",
     "output_type": "stream",
     "text": [
      "Free module T^(0,2)(M) of type-(0,2) tensors fields on the 3-dimensional differentiable manifold M\n"
     ]
    }
   ],
   "source": [
    "print(g.parent())"
   ]
  },
  {
   "cell_type": "code",
   "execution_count": 229,
   "metadata": {
    "collapsed": false,
    "deletable": true,
    "editable": true
   },
   "outputs": [
    {
     "name": "stdout",
     "output_type": "stream",
     "text": [
      "symmetry: (0, 1); no antisymmetry\n"
     ]
    }
   ],
   "source": [
    "g.symmetries()"
   ]
  },
  {
   "cell_type": "markdown",
   "metadata": {
    "deletable": true,
    "editable": true
   },
   "source": [
    "<p>The metric is initialized by its components with respect to some vector frame. For instance, using the default frame of $\\mathcal{M}$:</p>"
   ]
  },
  {
   "cell_type": "code",
   "execution_count": 230,
   "metadata": {
    "collapsed": false,
    "deletable": true,
    "editable": true
   },
   "outputs": [
    {
     "data": {
      "text/html": [
       "<html><script type=\"math/tex; mode=display\">\\newcommand{\\Bold}[1]{\\mathbf{#1}}g = \\mathrm{d} x\\otimes \\mathrm{d} x+\\mathrm{d} y\\otimes \\mathrm{d} y+\\mathrm{d} z\\otimes \\mathrm{d} z</script></html>"
      ],
      "text/plain": [
       "g = dx*dx + dy*dy + dz*dz"
      ]
     },
     "execution_count": 230,
     "metadata": {},
     "output_type": "execute_result"
    }
   ],
   "source": [
    "g[1,1], g[2,2], g[3,3] = 1, 1, 1\n",
    "g.display()"
   ]
  },
  {
   "cell_type": "markdown",
   "metadata": {
    "deletable": true,
    "editable": true
   },
   "source": [
    "<p>The components w.r.t. another vector frame are obtained as for any tensor field:</p>"
   ]
  },
  {
   "cell_type": "code",
   "execution_count": 231,
   "metadata": {
    "collapsed": false,
    "deletable": true,
    "editable": true
   },
   "outputs": [
    {
     "data": {
      "text/html": [
       "<html><script type=\"math/tex; mode=display\">\\newcommand{\\Bold}[1]{\\mathbf{#1}}g = \\mathrm{d} r\\otimes \\mathrm{d} r + r^{2} \\mathrm{d} {\\theta}\\otimes \\mathrm{d} {\\theta} + r^{2} \\sin^{2}{\\left (\\theta \\right )} \\mathrm{d} {\\phi}\\otimes \\mathrm{d} {\\phi}</script></html>"
      ],
      "text/plain": [
       "g = dr*dr + r**2 dtheta*dtheta + r**2*sin(theta)**2 dphi*dphi"
      ]
     },
     "execution_count": 231,
     "metadata": {},
     "output_type": "execute_result"
    }
   ],
   "source": [
    "g.display(Y.frame(), Y)"
   ]
  },
  {
   "cell_type": "markdown",
   "metadata": {
    "deletable": true,
    "editable": true
   },
   "source": [
    "<p>Of course, the metric acts on vector pairs:</p>"
   ]
  },
  {
   "cell_type": "code",
   "execution_count": 232,
   "metadata": {
    "collapsed": false,
    "deletable": true,
    "editable": true
   },
   "outputs": [
    {
     "name": "stdout",
     "output_type": "stream",
     "text": [
      "Scalar field g(u,v) on the Open subset U of the 3-dimensional differentiable manifold M\n"
     ]
    },
    {
     "data": {
      "text/html": [
       "<html><script type=\"math/tex; mode=display\">\\newcommand{\\Bold}[1]{\\mathbf{#1}}\\begin{array}{llcl} g\\left(u,v\\right):& U & \\longrightarrow & \\mathbb{R} \\\\ & \\left(x, y, z\\right) & \\longmapsto & x y z \\operatorname{u_{z}}{\\left (x,y,z \\right )} - x \\operatorname{u_{y}}{\\left (x,y,z \\right )} + y \\operatorname{u_{x}}{\\left (x,y,z \\right )} + \\operatorname{u_{x}}{\\left (x,y,z \\right )} \\\\ & \\left(r, {\\theta}, {\\phi}\\right) & \\longmapsto & r^{3} \\operatorname{u_{z}}{\\left (r \\sin{\\left (\\theta \\right )} \\cos{\\left (\\phi \\right )},r \\sin{\\left (\\phi \\right )} \\sin{\\left (\\theta \\right )},r \\cos{\\left (\\theta \\right )} \\right )} \\sin{\\left (\\phi \\right )} \\sin^{2}{\\left (\\theta \\right )} \\cos{\\left (\\phi \\right )} \\cos{\\left (\\theta \\right )} + r \\operatorname{u_{x}}{\\left (r \\sin{\\left (\\theta \\right )} \\cos{\\left (\\phi \\right )},r \\sin{\\left (\\phi \\right )} \\sin{\\left (\\theta \\right )},r \\cos{\\left (\\theta \\right )} \\right )} \\sin{\\left (\\phi \\right )} \\sin{\\left (\\theta \\right )} - r \\operatorname{u_{y}}{\\left (r \\sin{\\left (\\theta \\right )} \\cos{\\left (\\phi \\right )},r \\sin{\\left (\\phi \\right )} \\sin{\\left (\\theta \\right )},r \\cos{\\left (\\theta \\right )} \\right )} \\sin{\\left (\\theta \\right )} \\cos{\\left (\\phi \\right )} + \\operatorname{u_{x}}{\\left (r \\sin{\\left (\\theta \\right )} \\cos{\\left (\\phi \\right )},r \\sin{\\left (\\phi \\right )} \\sin{\\left (\\theta \\right )},r \\cos{\\left (\\theta \\right )} \\right )} \\end{array}</script></html>"
      ],
      "text/plain": [
       "g(u,v): U --> R\n",
       "   (x, y, z) |--> x*y*z*u_z(x, y, z) - x*u_y(x, y, z) + y*u_x(x, y, z) + u_x(x, y, z)\n",
       "   (r, theta, phi) |--> r**3*u_z(r*sin(theta)*cos(phi), r*sin(phi)*sin(theta), r*cos(theta))*sin(phi)*sin(theta)**2*cos(phi)*cos(theta) + r*u_x(r*sin(theta)*cos(phi), r*sin(phi)*sin(theta), r*cos(theta))*sin(phi)*sin(theta) - r*u_y(r*sin(theta)*cos(phi), r*sin(phi)*sin(theta), r*cos(theta))*sin(theta)*cos(phi) + u_x(r*sin(theta)*cos(phi), r*sin(phi)*sin(theta), r*cos(theta))"
      ]
     },
     "execution_count": 232,
     "metadata": {},
     "output_type": "execute_result"
    }
   ],
   "source": [
    "u.display() ; v.display(); print(g(u,v)) ; g(u,v).display()"
   ]
  },
  {
   "cell_type": "markdown",
   "metadata": {
    "deletable": true,
    "editable": true
   },
   "source": [
    "<p>The <strong>Levi-Civita connection</strong> associated to the metric $g$:</p>"
   ]
  },
  {
   "cell_type": "code",
   "execution_count": 233,
   "metadata": {
    "collapsed": false,
    "deletable": true,
    "editable": true
   },
   "outputs": [
    {
     "name": "stdout",
     "output_type": "stream",
     "text": [
      "Levi-Civita connection nabla_g associated with the Riemannian metric g on the 3-dimensional differentiable manifold M\n"
     ]
    },
    {
     "data": {
      "text/html": [
       "<html><script type=\"math/tex; mode=display\">\\newcommand{\\Bold}[1]{\\mathbf{#1}}\\nabla_{g}</script></html>"
      ],
      "text/plain": [
       "Levi-Civita connection nabla_g associated with the Riemannian metric g on the 3-dimensional differentiable manifold M"
      ]
     },
     "execution_count": 233,
     "metadata": {},
     "output_type": "execute_result"
    }
   ],
   "source": [
    "nabla = g.connection() \n",
    "print(nabla) ; nabla"
   ]
  },
  {
   "cell_type": "markdown",
   "metadata": {
    "deletable": true,
    "editable": true
   },
   "source": [
    "<p>The Christoffel symbols with respect to the manifold's default coordinates:</p>"
   ]
  },
  {
   "cell_type": "code",
   "execution_count": 234,
   "metadata": {
    "collapsed": false,
    "deletable": true,
    "editable": true
   },
   "outputs": [
    {
     "data": {
      "text/html": [
       "<html><script type=\"math/tex; mode=display\">\\newcommand{\\Bold}[1]{\\mathbf{#1}}\\left[\\left[\\left[0, 0, 0\\right], \\left[0, 0, 0\\right], \\left[0, 0, 0\\right]\\right], \\left[\\left[0, 0, 0\\right], \\left[0, 0, 0\\right], \\left[0, 0, 0\\right]\\right], \\left[\\left[0, 0, 0\\right], \\left[0, 0, 0\\right], \\left[0, 0, 0\\right]\\right]\\right]</script></html>"
      ],
      "text/plain": [
       "[[[0, 0, 0], [0, 0, 0], [0, 0, 0]],\n",
       " [[0, 0, 0], [0, 0, 0], [0, 0, 0]],\n",
       " [[0, 0, 0], [0, 0, 0], [0, 0, 0]]]"
      ]
     },
     "execution_count": 234,
     "metadata": {},
     "output_type": "execute_result"
    }
   ],
   "source": [
    "nabla.coef()[:]"
   ]
  },
  {
   "cell_type": "markdown",
   "metadata": {
    "deletable": true,
    "editable": true
   },
   "source": [
    "<p>The Christoffel symbols with respect to the coordinates $(r,\\theta,\\phi)$:</p>"
   ]
  },
  {
   "cell_type": "code",
   "execution_count": 235,
   "metadata": {
    "collapsed": false,
    "deletable": true,
    "editable": true
   },
   "outputs": [
    {
     "data": {
      "text/html": [
       "<html><script type=\"math/tex; mode=display\">\\newcommand{\\Bold}[1]{\\mathbf{#1}}\\left[\\left[\\left[0, 0, 0\\right], \\left[0, - r, 0\\right], \\left[0, 0, - r \\sin^{2}{\\left (\\theta \\right )}\\right]\\right], \\left[\\left[0, \\frac{1}{r}, 0\\right], \\left[\\frac{1}{r}, 0, 0\\right], \\left[0, 0, - \\frac{1}{2} \\sin{\\left (2 \\theta \\right )}\\right]\\right], \\left[\\left[0, 0, \\frac{1}{r}\\right], \\left[0, 0, \\frac{1}{\\tan{\\left (\\theta \\right )}}\\right], \\left[\\frac{1}{r}, \\frac{1}{\\tan{\\left (\\theta \\right )}}, 0\\right]\\right]\\right]</script></html>"
      ],
      "text/plain": [
       "[[[0, 0, 0], [0, -r, 0], [0, 0, -r*sin(theta)**2]],\n",
       " [[0, 1/r, 0], [1/r, 0, 0], [0, 0, -sin(2*theta)/2]],\n",
       " [[0, 0, 1/r], [0, 0, 1/tan(theta)], [1/r, 1/tan(theta), 0]]]"
      ]
     },
     "execution_count": 235,
     "metadata": {},
     "output_type": "execute_result"
    }
   ],
   "source": [
    "nabla.coef(Y.frame())[:, Y]"
   ]
  },
  {
   "cell_type": "markdown",
   "metadata": {
    "deletable": true,
    "editable": true
   },
   "source": [
    "A nice view is obtained via the method `display()` (by default, only the nonzero connection coefficients are shown):"
   ]
  },
  {
   "cell_type": "code",
   "execution_count": 236,
   "metadata": {
    "collapsed": false,
    "deletable": true,
    "editable": true
   },
   "outputs": [
    {
     "data": {
      "text/html": [
       "<html><script type=\"math/tex; mode=display\">\\newcommand{\\Bold}[1]{\\mathbf{#1}}\\begin{array}{lcl} \\Gamma_{ \\phantom{\\, r} \\, {\\theta} \\, {\\theta} }^{ \\, r \\phantom{\\, {\\theta}} \\phantom{\\, {\\theta}} } & = & - r \\\\ \\Gamma_{ \\phantom{\\, r} \\, {\\phi} \\, {\\phi} }^{ \\, r \\phantom{\\, {\\phi}} \\phantom{\\, {\\phi}} } & = & - r \\sin^{2}{\\left (\\theta \\right )} \\\\ \\Gamma_{ \\phantom{\\, {\\theta}} \\, r \\, {\\theta} }^{ \\, {\\theta} \\phantom{\\, r} \\phantom{\\, {\\theta}} } & = & \\frac{1}{r} \\\\ \\Gamma_{ \\phantom{\\, {\\theta}} \\, {\\theta} \\, r }^{ \\, {\\theta} \\phantom{\\, {\\theta}} \\phantom{\\, r} } & = & \\frac{1}{r} \\\\ \\Gamma_{ \\phantom{\\, {\\theta}} \\, {\\phi} \\, {\\phi} }^{ \\, {\\theta} \\phantom{\\, {\\phi}} \\phantom{\\, {\\phi}} } & = & - \\frac{1}{2} \\sin{\\left (2 \\theta \\right )} \\\\ \\Gamma_{ \\phantom{\\, {\\phi}} \\, r \\, {\\phi} }^{ \\, {\\phi} \\phantom{\\, r} \\phantom{\\, {\\phi}} } & = & \\frac{1}{r} \\\\ \\Gamma_{ \\phantom{\\, {\\phi}} \\, {\\theta} \\, {\\phi} }^{ \\, {\\phi} \\phantom{\\, {\\theta}} \\phantom{\\, {\\phi}} } & = & \\frac{1}{\\tan{\\left (\\theta \\right )}} \\\\ \\Gamma_{ \\phantom{\\, {\\phi}} \\, {\\phi} \\, r }^{ \\, {\\phi} \\phantom{\\, {\\phi}} \\phantom{\\, r} } & = & \\frac{1}{r} \\\\ \\Gamma_{ \\phantom{\\, {\\phi}} \\, {\\phi} \\, {\\theta} }^{ \\, {\\phi} \\phantom{\\, {\\phi}} \\phantom{\\, {\\theta}} } & = & \\frac{1}{\\tan{\\left (\\theta \\right )}} \\end{array}</script></html>"
      ],
      "text/plain": [
       "Gam^r_theta,theta = -r \n",
       "Gam^r_phi,phi = -r*sin(theta)**2 \n",
       "Gam^theta_r,theta = 1/r \n",
       "Gam^theta_theta,r = 1/r \n",
       "Gam^theta_phi,phi = -sin(2*theta)/2 \n",
       "Gam^phi_r,phi = 1/r \n",
       "Gam^phi_theta,phi = 1/tan(theta) \n",
       "Gam^phi_phi,r = 1/r \n",
       "Gam^phi_phi,theta = 1/tan(theta) "
      ]
     },
     "execution_count": 236,
     "metadata": {},
     "output_type": "execute_result"
    }
   ],
   "source": [
    "nabla.display(frame=Y.frame(), chart=Y)"
   ]
  },
  {
   "cell_type": "markdown",
   "metadata": {
    "deletable": true,
    "editable": true
   },
   "source": [
    "<p>The connection acting as a covariant derivative:</p>"
   ]
  },
  {
   "cell_type": "code",
   "execution_count": 237,
   "metadata": {
    "collapsed": false,
    "deletable": true,
    "editable": true
   },
   "outputs": [
    {
     "name": "stdout",
     "output_type": "stream",
     "text": [
      "Tensor field nabla_g(v) of type (1,1) on the Open subset U of the 3-dimensional differentiable manifold M\n"
     ]
    },
    {
     "data": {
      "text/html": [
       "<html><script type=\"math/tex; mode=display\">\\newcommand{\\Bold}[1]{\\mathbf{#1}}\\nabla_{g} v = \\left( \\frac{1}{4 \\sqrt{x^{2} + y^{2}} \\sqrt{x^{2} + y^{2} + z^{2}} \\left(x^{6} + 3 x^{4} y^{2} + 2 x^{4} z^{2} + 3 x^{2} y^{4} + 4 x^{2} y^{2} z^{2} + x^{2} z^{4} + y^{6} + 2 y^{4} z^{2} + y^{2} z^{4}\\right)} \\left(- 3 x^{6} y^{2} z^{2} \\sin{\\left (3 \\operatorname{atan_{2}}{\\left (\\sqrt{x^{2} + y^{2}},z \\right )} \\right )} + 4 x^{6} \\sqrt{x^{2} + y^{2}} \\sqrt{x^{2} + y^{2} + z^{2}} - 6 x^{4} y^{4} z^{2} \\sin{\\left (3 \\operatorname{atan_{2}}{\\left (\\sqrt{x^{2} + y^{2}},z \\right )} \\right )} - 6 x^{4} y^{2} z^{4} \\sin{\\left (3 \\operatorname{atan_{2}}{\\left (\\sqrt{x^{2} + y^{2}},z \\right )} \\right )} - 3 x^{4} y^{2} z^{2} \\sqrt{x^{2} + y^{2}} \\sqrt{x^{2} + y^{2} + z^{2}} + 12 x^{4} y^{2} \\sqrt{x^{2} + y^{2}} \\sqrt{x^{2} + y^{2} + z^{2}} + 8 x^{4} z^{2} \\sqrt{x^{2} + y^{2}} \\sqrt{x^{2} + y^{2} + z^{2}} - 3 x^{2} y^{6} z^{2} \\sin{\\left (3 \\operatorname{atan_{2}}{\\left (\\sqrt{x^{2} + y^{2}},z \\right )} \\right )} - 6 x^{2} y^{4} z^{4} \\sin{\\left (3 \\operatorname{atan_{2}}{\\left (\\sqrt{x^{2} + y^{2}},z \\right )} \\right )} - 3 x^{2} y^{4} z^{2} \\sqrt{x^{2} + y^{2}} \\sqrt{x^{2} + y^{2} + z^{2}} + 12 x^{2} y^{4} \\sqrt{x^{2} + y^{2}} \\sqrt{x^{2} + y^{2} + z^{2}} - 3 x^{2} y^{2} z^{6} \\sin{\\left (3 \\operatorname{atan_{2}}{\\left (\\sqrt{x^{2} + y^{2}},z \\right )} \\right )} + 9 x^{2} y^{2} z^{4} \\sqrt{x^{2} + y^{2}} \\sqrt{x^{2} + y^{2} + z^{2}} + 16 x^{2} y^{2} z^{2} \\sqrt{x^{2} + y^{2}} \\sqrt{x^{2} + y^{2} + z^{2}} + 4 x^{2} z^{4} \\sqrt{x^{2} + y^{2}} \\sqrt{x^{2} + y^{2} + z^{2}} + 4 y^{6} \\sqrt{x^{2} + y^{2}} \\sqrt{x^{2} + y^{2} + z^{2}} + 8 y^{4} z^{2} \\sqrt{x^{2} + y^{2}} \\sqrt{x^{2} + y^{2} + z^{2}} + 4 y^{2} z^{4} \\sqrt{x^{2} + y^{2}} \\sqrt{x^{2} + y^{2} + z^{2}}\\right) \\right) \\frac{\\partial}{\\partial x }\\otimes \\mathrm{d} y + \\left( \\frac{1}{4 \\sqrt{x^{2} + y^{2}} \\sqrt{x^{2} + y^{2} + z^{2}} \\left(x^{6} + 3 x^{4} y^{2} + 2 x^{4} z^{2} + 3 x^{2} y^{4} + 4 x^{2} y^{2} z^{2} + x^{2} z^{4} + y^{6} + 2 y^{4} z^{2} + y^{2} z^{4}\\right)} \\left(- 3 x^{6} y^{2} z^{2} \\sin{\\left (3 \\operatorname{atan_{2}}{\\left (\\sqrt{x^{2} + y^{2}},z \\right )} \\right )} - 4 x^{6} \\sqrt{x^{2} + y^{2}} \\sqrt{x^{2} + y^{2} + z^{2}} - 6 x^{4} y^{4} z^{2} \\sin{\\left (3 \\operatorname{atan_{2}}{\\left (\\sqrt{x^{2} + y^{2}},z \\right )} \\right )} - 6 x^{4} y^{2} z^{4} \\sin{\\left (3 \\operatorname{atan_{2}}{\\left (\\sqrt{x^{2} + y^{2}},z \\right )} \\right )} - 3 x^{4} y^{2} z^{2} \\sqrt{x^{2} + y^{2}} \\sqrt{x^{2} + y^{2} + z^{2}} - 12 x^{4} y^{2} \\sqrt{x^{2} + y^{2}} \\sqrt{x^{2} + y^{2} + z^{2}} - 8 x^{4} z^{2} \\sqrt{x^{2} + y^{2}} \\sqrt{x^{2} + y^{2} + z^{2}} - 3 x^{2} y^{6} z^{2} \\sin{\\left (3 \\operatorname{atan_{2}}{\\left (\\sqrt{x^{2} + y^{2}},z \\right )} \\right )} - 6 x^{2} y^{4} z^{4} \\sin{\\left (3 \\operatorname{atan_{2}}{\\left (\\sqrt{x^{2} + y^{2}},z \\right )} \\right )} - 3 x^{2} y^{4} z^{2} \\sqrt{x^{2} + y^{2}} \\sqrt{x^{2} + y^{2} + z^{2}} - 12 x^{2} y^{4} \\sqrt{x^{2} + y^{2}} \\sqrt{x^{2} + y^{2} + z^{2}} - 3 x^{2} y^{2} z^{6} \\sin{\\left (3 \\operatorname{atan_{2}}{\\left (\\sqrt{x^{2} + y^{2}},z \\right )} \\right )} + 9 x^{2} y^{2} z^{4} \\sqrt{x^{2} + y^{2}} \\sqrt{x^{2} + y^{2} + z^{2}} - 16 x^{2} y^{2} z^{2} \\sqrt{x^{2} + y^{2}} \\sqrt{x^{2} + y^{2} + z^{2}} - 4 x^{2} z^{4} \\sqrt{x^{2} + y^{2}} \\sqrt{x^{2} + y^{2} + z^{2}} - 4 y^{6} \\sqrt{x^{2} + y^{2}} \\sqrt{x^{2} + y^{2} + z^{2}} - 8 y^{4} z^{2} \\sqrt{x^{2} + y^{2}} \\sqrt{x^{2} + y^{2} + z^{2}} - 4 y^{2} z^{4} \\sqrt{x^{2} + y^{2}} \\sqrt{x^{2} + y^{2} + z^{2}}\\right) \\right) \\frac{\\partial}{\\partial y }\\otimes \\mathrm{d} x + \\left( \\frac{y z}{4 \\sqrt{x^{2} + y^{2}} \\sqrt{x^{2} + y^{2} + z^{2}} \\left(x^{4} + 2 x^{2} y^{2} + 2 x^{2} z^{2} + y^{4} + 2 y^{2} z^{2} + z^{4}\\right)} \\left(3 x^{6} \\sin{\\left (3 \\operatorname{atan_{2}}{\\left (\\sqrt{x^{2} + y^{2}},z \\right )} \\right )} + 6 x^{4} y^{2} \\sin{\\left (3 \\operatorname{atan_{2}}{\\left (\\sqrt{x^{2} + y^{2}},z \\right )} \\right )} + 6 x^{4} z^{2} \\sin{\\left (3 \\operatorname{atan_{2}}{\\left (\\sqrt{x^{2} + y^{2}},z \\right )} \\right )} + 7 x^{4} \\sqrt{x^{2} + y^{2}} \\sqrt{x^{2} + y^{2} + z^{2}} + 3 x^{2} y^{4} \\sin{\\left (3 \\operatorname{atan_{2}}{\\left (\\sqrt{x^{2} + y^{2}},z \\right )} \\right )} + 6 x^{2} y^{2} z^{2} \\sin{\\left (3 \\operatorname{atan_{2}}{\\left (\\sqrt{x^{2} + y^{2}},z \\right )} \\right )} + 11 x^{2} y^{2} \\sqrt{x^{2} + y^{2}} \\sqrt{x^{2} + y^{2} + z^{2}} + 3 x^{2} z^{4} \\sin{\\left (3 \\operatorname{atan_{2}}{\\left (\\sqrt{x^{2} + y^{2}},z \\right )} \\right )} - x^{2} z^{2} \\sqrt{x^{2} + y^{2}} \\sqrt{x^{2} + y^{2} + z^{2}} + 4 y^{4} \\sqrt{x^{2} + y^{2}} \\sqrt{x^{2} + y^{2} + z^{2}} + 8 y^{2} z^{2} \\sqrt{x^{2} + y^{2}} \\sqrt{x^{2} + y^{2} + z^{2}} + 4 z^{4} \\sqrt{x^{2} + y^{2}} \\sqrt{x^{2} + y^{2} + z^{2}}\\right) \\right) \\frac{\\partial}{\\partial z }\\otimes \\mathrm{d} x + \\left( \\frac{x z}{4 \\sqrt{x^{2} + y^{2}} \\sqrt{x^{2} + y^{2} + z^{2}} \\left(x^{4} + 2 x^{2} y^{2} + 2 x^{2} z^{2} + y^{4} + 2 y^{2} z^{2} + z^{4}\\right)} \\left(3 x^{4} y^{2} \\sin{\\left (3 \\operatorname{atan_{2}}{\\left (\\sqrt{x^{2} + y^{2}},z \\right )} \\right )} + 4 x^{4} \\sqrt{x^{2} + y^{2}} \\sqrt{x^{2} + y^{2} + z^{2}} + 6 x^{2} y^{4} \\sin{\\left (3 \\operatorname{atan_{2}}{\\left (\\sqrt{x^{2} + y^{2}},z \\right )} \\right )} + 6 x^{2} y^{2} z^{2} \\sin{\\left (3 \\operatorname{atan_{2}}{\\left (\\sqrt{x^{2} + y^{2}},z \\right )} \\right )} + 11 x^{2} y^{2} \\sqrt{x^{2} + y^{2}} \\sqrt{x^{2} + y^{2} + z^{2}} + 8 x^{2} z^{2} \\sqrt{x^{2} + y^{2}} \\sqrt{x^{2} + y^{2} + z^{2}} + 3 y^{6} \\sin{\\left (3 \\operatorname{atan_{2}}{\\left (\\sqrt{x^{2} + y^{2}},z \\right )} \\right )} + 6 y^{4} z^{2} \\sin{\\left (3 \\operatorname{atan_{2}}{\\left (\\sqrt{x^{2} + y^{2}},z \\right )} \\right )} + 7 y^{4} \\sqrt{x^{2} + y^{2}} \\sqrt{x^{2} + y^{2} + z^{2}} + 3 y^{2} z^{4} \\sin{\\left (3 \\operatorname{atan_{2}}{\\left (\\sqrt{x^{2} + y^{2}},z \\right )} \\right )} - y^{2} z^{2} \\sqrt{x^{2} + y^{2}} \\sqrt{x^{2} + y^{2} + z^{2}} + 4 z^{4} \\sqrt{x^{2} + y^{2}} \\sqrt{x^{2} + y^{2} + z^{2}}\\right) \\right) \\frac{\\partial}{\\partial z }\\otimes \\mathrm{d} y + x y \\frac{\\partial}{\\partial z }\\otimes \\mathrm{d} z</script></html>"
      ],
      "text/plain": [
       "nabla_g(v) = (-3*x**6*y**2*z**2*sin(3*atan2(sqrt(x**2 + y**2), z)) + 4*x**6*sqrt(x**2 + y**2)*sqrt(x**2 + y**2 + z**2) - 6*x**4*y**4*z**2*sin(3*atan2(sqrt(x**2 + y**2), z)) - 6*x**4*y**2*z**4*sin(3*atan2(sqrt(x**2 + y**2), z)) - 3*x**4*y**2*z**2*sqrt(x**2 + y**2)*sqrt(x**2 + y**2 + z**2) + 12*x**4*y**2*sqrt(x**2 + y**2)*sqrt(x**2 + y**2 + z**2) + 8*x**4*z**2*sqrt(x**2 + y**2)*sqrt(x**2 + y**2 + z**2) - 3*x**2*y**6*z**2*sin(3*atan2(sqrt(x**2 + y**2), z)) - 6*x**2*y**4*z**4*sin(3*atan2(sqrt(x**2 + y**2), z)) - 3*x**2*y**4*z**2*sqrt(x**2 + y**2)*sqrt(x**2 + y**2 + z**2) + 12*x**2*y**4*sqrt(x**2 + y**2)*sqrt(x**2 + y**2 + z**2) - 3*x**2*y**2*z**6*sin(3*atan2(sqrt(x**2 + y**2), z)) + 9*x**2*y**2*z**4*sqrt(x**2 + y**2)*sqrt(x**2 + y**2 + z**2) + 16*x**2*y**2*z**2*sqrt(x**2 + y**2)*sqrt(x**2 + y**2 + z**2) + 4*x**2*z**4*sqrt(x**2 + y**2)*sqrt(x**2 + y**2 + z**2) + 4*y**6*sqrt(x**2 + y**2)*sqrt(x**2 + y**2 + z**2) + 8*y**4*z**2*sqrt(x**2 + y**2)*sqrt(x**2 + y**2 + z**2) + 4*y**2*z**4*sqrt(x**2 + y**2)*sqrt(x**2 + y**2 + z**2))/(4*sqrt(x**2 + y**2)*sqrt(x**2 + y**2 + z**2)*(x**6 + 3*x**4*y**2 + 2*x**4*z**2 + 3*x**2*y**4 + 4*x**2*y**2*z**2 + x**2*z**4 + y**6 + 2*y**4*z**2 + y**2*z**4)) d/dx*dy + (-3*x**6*y**2*z**2*sin(3*atan2(sqrt(x**2 + y**2), z)) - 4*x**6*sqrt(x**2 + y**2)*sqrt(x**2 + y**2 + z**2) - 6*x**4*y**4*z**2*sin(3*atan2(sqrt(x**2 + y**2), z)) - 6*x**4*y**2*z**4*sin(3*atan2(sqrt(x**2 + y**2), z)) - 3*x**4*y**2*z**2*sqrt(x**2 + y**2)*sqrt(x**2 + y**2 + z**2) - 12*x**4*y**2*sqrt(x**2 + y**2)*sqrt(x**2 + y**2 + z**2) - 8*x**4*z**2*sqrt(x**2 + y**2)*sqrt(x**2 + y**2 + z**2) - 3*x**2*y**6*z**2*sin(3*atan2(sqrt(x**2 + y**2), z)) - 6*x**2*y**4*z**4*sin(3*atan2(sqrt(x**2 + y**2), z)) - 3*x**2*y**4*z**2*sqrt(x**2 + y**2)*sqrt(x**2 + y**2 + z**2) - 12*x**2*y**4*sqrt(x**2 + y**2)*sqrt(x**2 + y**2 + z**2) - 3*x**2*y**2*z**6*sin(3*atan2(sqrt(x**2 + y**2), z)) + 9*x**2*y**2*z**4*sqrt(x**2 + y**2)*sqrt(x**2 + y**2 + z**2) - 16*x**2*y**2*z**2*sqrt(x**2 + y**2)*sqrt(x**2 + y**2 + z**2) - 4*x**2*z**4*sqrt(x**2 + y**2)*sqrt(x**2 + y**2 + z**2) - 4*y**6*sqrt(x**2 + y**2)*sqrt(x**2 + y**2 + z**2) - 8*y**4*z**2*sqrt(x**2 + y**2)*sqrt(x**2 + y**2 + z**2) - 4*y**2*z**4*sqrt(x**2 + y**2)*sqrt(x**2 + y**2 + z**2))/(4*sqrt(x**2 + y**2)*sqrt(x**2 + y**2 + z**2)*(x**6 + 3*x**4*y**2 + 2*x**4*z**2 + 3*x**2*y**4 + 4*x**2*y**2*z**2 + x**2*z**4 + y**6 + 2*y**4*z**2 + y**2*z**4)) d/dy*dx + y*z*(3*x**6*sin(3*atan2(sqrt(x**2 + y**2), z)) + 6*x**4*y**2*sin(3*atan2(sqrt(x**2 + y**2), z)) + 6*x**4*z**2*sin(3*atan2(sqrt(x**2 + y**2), z)) + 7*x**4*sqrt(x**2 + y**2)*sqrt(x**2 + y**2 + z**2) + 3*x**2*y**4*sin(3*atan2(sqrt(x**2 + y**2), z)) + 6*x**2*y**2*z**2*sin(3*atan2(sqrt(x**2 + y**2), z)) + 11*x**2*y**2*sqrt(x**2 + y**2)*sqrt(x**2 + y**2 + z**2) + 3*x**2*z**4*sin(3*atan2(sqrt(x**2 + y**2), z)) - x**2*z**2*sqrt(x**2 + y**2)*sqrt(x**2 + y**2 + z**2) + 4*y**4*sqrt(x**2 + y**2)*sqrt(x**2 + y**2 + z**2) + 8*y**2*z**2*sqrt(x**2 + y**2)*sqrt(x**2 + y**2 + z**2) + 4*z**4*sqrt(x**2 + y**2)*sqrt(x**2 + y**2 + z**2))/(4*sqrt(x**2 + y**2)*sqrt(x**2 + y**2 + z**2)*(x**4 + 2*x**2*y**2 + 2*x**2*z**2 + y**4 + 2*y**2*z**2 + z**4)) d/dz*dx + x*z*(3*x**4*y**2*sin(3*atan2(sqrt(x**2 + y**2), z)) + 4*x**4*sqrt(x**2 + y**2)*sqrt(x**2 + y**2 + z**2) + 6*x**2*y**4*sin(3*atan2(sqrt(x**2 + y**2), z)) + 6*x**2*y**2*z**2*sin(3*atan2(sqrt(x**2 + y**2), z)) + 11*x**2*y**2*sqrt(x**2 + y**2)*sqrt(x**2 + y**2 + z**2) + 8*x**2*z**2*sqrt(x**2 + y**2)*sqrt(x**2 + y**2 + z**2) + 3*y**6*sin(3*atan2(sqrt(x**2 + y**2), z)) + 6*y**4*z**2*sin(3*atan2(sqrt(x**2 + y**2), z)) + 7*y**4*sqrt(x**2 + y**2)*sqrt(x**2 + y**2 + z**2) + 3*y**2*z**4*sin(3*atan2(sqrt(x**2 + y**2), z)) - y**2*z**2*sqrt(x**2 + y**2)*sqrt(x**2 + y**2 + z**2) + 4*z**4*sqrt(x**2 + y**2)*sqrt(x**2 + y**2 + z**2))/(4*sqrt(x**2 + y**2)*sqrt(x**2 + y**2 + z**2)*(x**4 + 2*x**2*y**2 + 2*x**2*z**2 + y**4 + 2*y**2*z**2 + z**4)) d/dz*dy + x*y d/dz*dz"
      ]
     },
     "execution_count": 237,
     "metadata": {},
     "output_type": "execute_result"
    }
   ],
   "source": [
    "nab_v = nabla(v)\n",
    "print(nab_v) ; nab_v.display()"
   ]
  },
  {
   "cell_type": "markdown",
   "metadata": {
    "deletable": true,
    "editable": true
   },
   "source": [
    "<p>Being a Levi-Civita connection, $\\nabla_g$ is torsion.free:</p>"
   ]
  },
  {
   "cell_type": "code",
   "execution_count": 238,
   "metadata": {
    "collapsed": false,
    "deletable": true,
    "editable": true
   },
   "outputs": [
    {
     "name": "stdout",
     "output_type": "stream",
     "text": [
      "Tensor field of type (1,2) on the 3-dimensional differentiable manifold M\n"
     ]
    },
    {
     "data": {
      "text/html": [
       "<html><script type=\"math/tex; mode=display\">\\newcommand{\\Bold}[1]{\\mathbf{#1}}0</script></html>"
      ],
      "text/plain": [
       "0"
      ]
     },
     "execution_count": 238,
     "metadata": {},
     "output_type": "execute_result"
    }
   ],
   "source": [
    "print(nabla.torsion()) ; nabla.torsion().display()"
   ]
  },
  {
   "cell_type": "markdown",
   "metadata": {
    "deletable": true,
    "editable": true
   },
   "source": [
    "<p>In the present case, it is also flat:</p>"
   ]
  },
  {
   "cell_type": "code",
   "execution_count": 239,
   "metadata": {
    "collapsed": false,
    "deletable": true,
    "editable": true
   },
   "outputs": [
    {
     "name": "stdout",
     "output_type": "stream",
     "text": [
      "Tensor field Riem(g) of type (1,3) on the 3-dimensional differentiable manifold M\n"
     ]
    },
    {
     "data": {
      "text/html": [
       "<html><script type=\"math/tex; mode=display\">\\newcommand{\\Bold}[1]{\\mathbf{#1}}\\mathrm{Riem}\\left(g\\right) = 0</script></html>"
      ],
      "text/plain": [
       "Riem(g) = 0"
      ]
     },
     "execution_count": 239,
     "metadata": {},
     "output_type": "execute_result"
    }
   ],
   "source": [
    "print(nabla.riemann()) ; nabla.riemann().display()"
   ]
  },
  {
   "cell_type": "markdown",
   "metadata": {
    "deletable": true,
    "editable": true
   },
   "source": [
    "<p>Let us consider a non-flat metric, by changing $g_{rr}$ to $1/(1+r^2)$:</p>"
   ]
  },
  {
   "cell_type": "code",
   "execution_count": 240,
   "metadata": {
    "collapsed": false,
    "deletable": true,
    "editable": true
   },
   "outputs": [
    {
     "data": {
      "text/html": [
       "<html><script type=\"math/tex; mode=display\">\\newcommand{\\Bold}[1]{\\mathbf{#1}}g = \\left( \\frac{1}{r^{2} + 1} \\right) \\mathrm{d} r\\otimes \\mathrm{d} r + r^{2} \\mathrm{d} {\\theta}\\otimes \\mathrm{d} {\\theta} + r^{2} \\sin^{2}{\\left (\\theta \\right )} \\mathrm{d} {\\phi}\\otimes \\mathrm{d} {\\phi}</script></html>"
      ],
      "text/plain": [
       "g = 1/(r**2 + 1) dr*dr + r**2 dtheta*dtheta + r**2*sin(theta)**2 dphi*dphi"
      ]
     },
     "execution_count": 240,
     "metadata": {},
     "output_type": "execute_result"
    }
   ],
   "source": [
    "g[Y.frame(), 1,1, Y] = 1/(1+r^2)\n",
    "g.display(Y.frame(), Y)"
   ]
  },
  {
   "cell_type": "markdown",
   "metadata": {
    "deletable": true,
    "editable": true
   },
   "source": [
    "<p>For convenience, we change the default chart on the domain $U$ to Y=$(U,(r,\\theta,\\phi))$:</p>"
   ]
  },
  {
   "cell_type": "code",
   "execution_count": 241,
   "metadata": {
    "collapsed": false,
    "deletable": true,
    "editable": true
   },
   "outputs": [],
   "source": [
    "U.set_default_chart(Y)"
   ]
  },
  {
   "cell_type": "markdown",
   "metadata": {
    "deletable": true,
    "editable": true
   },
   "source": [
    "<p>In this way, we do not have to specify Y when asking for coordinate expressions in terms of $(r,\\theta,\\phi)$:</p>"
   ]
  },
  {
   "cell_type": "code",
   "execution_count": 242,
   "metadata": {
    "collapsed": false,
    "deletable": true,
    "editable": true
   },
   "outputs": [
    {
     "data": {
      "text/html": [
       "<html><script type=\"math/tex; mode=display\">\\newcommand{\\Bold}[1]{\\mathbf{#1}}g = \\left( \\frac{1}{r^{2} + 1} \\right) \\mathrm{d} r\\otimes \\mathrm{d} r + r^{2} \\mathrm{d} {\\theta}\\otimes \\mathrm{d} {\\theta} + r^{2} \\sin^{2}{\\left (\\theta \\right )} \\mathrm{d} {\\phi}\\otimes \\mathrm{d} {\\phi}</script></html>"
      ],
      "text/plain": [
       "g = 1/(r**2 + 1) dr*dr + r**2 dtheta*dtheta + r**2*sin(theta)**2 dphi*dphi"
      ]
     },
     "execution_count": 242,
     "metadata": {},
     "output_type": "execute_result"
    }
   ],
   "source": [
    "g.display(Y.frame())"
   ]
  },
  {
   "cell_type": "markdown",
   "metadata": {
    "deletable": true,
    "editable": true
   },
   "source": [
    "<p>We recognize the metric of the hyperbolic space $\\mathbb{H}^3$. Its expression in terms of the chart $(U,(x,y,z))$ is</p>"
   ]
  },
  {
   "cell_type": "code",
   "execution_count": 243,
   "metadata": {
    "collapsed": false,
    "deletable": true,
    "editable": true
   },
   "outputs": [
    {
     "data": {
      "text/html": [
       "<html><script type=\"math/tex; mode=display\">\\newcommand{\\Bold}[1]{\\mathbf{#1}}g = \\left( \\frac{y^{2} + z^{2} + 1}{x^{2} + y^{2} + z^{2} + 1} \\right) \\mathrm{d} x\\otimes \\mathrm{d} x + \\left( - \\frac{x y}{x^{2} + y^{2} + z^{2} + 1} \\right) \\mathrm{d} x\\otimes \\mathrm{d} y + \\left( - \\frac{x^{3} z}{x^{4} + 2 x^{2} y^{2} + 2 x^{2} z^{2} + x^{2} + y^{4} + 2 y^{2} z^{2} + y^{2} + z^{4} + z^{2}} - \\frac{x y^{2} z}{x^{4} + 2 x^{2} y^{2} + 2 x^{2} z^{2} + x^{2} + y^{4} + 2 y^{2} z^{2} + y^{2} + z^{4} + z^{2}} - \\frac{x z^{3}}{x^{4} + 2 x^{2} y^{2} + 2 x^{2} z^{2} + x^{2} + y^{4} + 2 y^{2} z^{2} + y^{2} + z^{4} + z^{2}} \\right) \\mathrm{d} x\\otimes \\mathrm{d} z + \\left( - \\frac{x y}{x^{2} + y^{2} + z^{2} + 1} \\right) \\mathrm{d} y\\otimes \\mathrm{d} x + \\left( \\frac{x^{2} + z^{2} + 1}{x^{2} + y^{2} + z^{2} + 1} \\right) \\mathrm{d} y\\otimes \\mathrm{d} y + \\left( - \\frac{x^{2} y z}{x^{4} + 2 x^{2} y^{2} + 2 x^{2} z^{2} + x^{2} + y^{4} + 2 y^{2} z^{2} + y^{2} + z^{4} + z^{2}} - \\frac{y^{3} z}{x^{4} + 2 x^{2} y^{2} + 2 x^{2} z^{2} + x^{2} + y^{4} + 2 y^{2} z^{2} + y^{2} + z^{4} + z^{2}} - \\frac{y z^{3}}{x^{4} + 2 x^{2} y^{2} + 2 x^{2} z^{2} + x^{2} + y^{4} + 2 y^{2} z^{2} + y^{2} + z^{4} + z^{2}} \\right) \\mathrm{d} y\\otimes \\mathrm{d} z + \\left( - \\frac{x^{3} z}{x^{4} + 2 x^{2} y^{2} + 2 x^{2} z^{2} + x^{2} + y^{4} + 2 y^{2} z^{2} + y^{2} + z^{4} + z^{2}} - \\frac{x y^{2} z}{x^{4} + 2 x^{2} y^{2} + 2 x^{2} z^{2} + x^{2} + y^{4} + 2 y^{2} z^{2} + y^{2} + z^{4} + z^{2}} - \\frac{x z^{3}}{x^{4} + 2 x^{2} y^{2} + 2 x^{2} z^{2} + x^{2} + y^{4} + 2 y^{2} z^{2} + y^{2} + z^{4} + z^{2}} \\right) \\mathrm{d} z\\otimes \\mathrm{d} x + \\left( - \\frac{x^{2} y z}{x^{4} + 2 x^{2} y^{2} + 2 x^{2} z^{2} + x^{2} + y^{4} + 2 y^{2} z^{2} + y^{2} + z^{4} + z^{2}} - \\frac{y^{3} z}{x^{4} + 2 x^{2} y^{2} + 2 x^{2} z^{2} + x^{2} + y^{4} + 2 y^{2} z^{2} + y^{2} + z^{4} + z^{2}} - \\frac{y z^{3}}{x^{4} + 2 x^{2} y^{2} + 2 x^{2} z^{2} + x^{2} + y^{4} + 2 y^{2} z^{2} + y^{2} + z^{4} + z^{2}} \\right) \\mathrm{d} z\\otimes \\mathrm{d} y + \\left( \\frac{x^{2} + y^{2} + 1}{x^{2} + y^{2} + z^{2} + 1} \\right) \\mathrm{d} z\\otimes \\mathrm{d} z</script></html>"
      ],
      "text/plain": [
       "g = (y**2 + z**2 + 1)/(x**2 + y**2 + z**2 + 1) dx*dx - x*y/(x**2 + y**2 + z**2 + 1) dx*dy + (-x**3*z/(x**4 + 2*x**2*y**2 + 2*x**2*z**2 + x**2 + y**4 + 2*y**2*z**2 + y**2 + z**4 + z**2) - x*y**2*z/(x**4 + 2*x**2*y**2 + 2*x**2*z**2 + x**2 + y**4 + 2*y**2*z**2 + y**2 + z**4 + z**2) - x*z**3/(x**4 + 2*x**2*y**2 + 2*x**2*z**2 + x**2 + y**4 + 2*y**2*z**2 + y**2 + z**4 + z**2)) dx*dz - x*y/(x**2 + y**2 + z**2 + 1) dy*dx + (x**2 + z**2 + 1)/(x**2 + y**2 + z**2 + 1) dy*dy + (-x**2*y*z/(x**4 + 2*x**2*y**2 + 2*x**2*z**2 + x**2 + y**4 + 2*y**2*z**2 + y**2 + z**4 + z**2) - y**3*z/(x**4 + 2*x**2*y**2 + 2*x**2*z**2 + x**2 + y**4 + 2*y**2*z**2 + y**2 + z**4 + z**2) - y*z**3/(x**4 + 2*x**2*y**2 + 2*x**2*z**2 + x**2 + y**4 + 2*y**2*z**2 + y**2 + z**4 + z**2)) dy*dz + (-x**3*z/(x**4 + 2*x**2*y**2 + 2*x**2*z**2 + x**2 + y**4 + 2*y**2*z**2 + y**2 + z**4 + z**2) - x*y**2*z/(x**4 + 2*x**2*y**2 + 2*x**2*z**2 + x**2 + y**4 + 2*y**2*z**2 + y**2 + z**4 + z**2) - x*z**3/(x**4 + 2*x**2*y**2 + 2*x**2*z**2 + x**2 + y**4 + 2*y**2*z**2 + y**2 + z**4 + z**2)) dz*dx + (-x**2*y*z/(x**4 + 2*x**2*y**2 + 2*x**2*z**2 + x**2 + y**4 + 2*y**2*z**2 + y**2 + z**4 + z**2) - y**3*z/(x**4 + 2*x**2*y**2 + 2*x**2*z**2 + x**2 + y**4 + 2*y**2*z**2 + y**2 + z**4 + z**2) - y*z**3/(x**4 + 2*x**2*y**2 + 2*x**2*z**2 + x**2 + y**4 + 2*y**2*z**2 + y**2 + z**4 + z**2)) dz*dy + (x**2 + y**2 + 1)/(x**2 + y**2 + z**2 + 1) dz*dz"
      ]
     },
     "execution_count": 243,
     "metadata": {},
     "output_type": "execute_result"
    }
   ],
   "source": [
    "g.display(X_U.frame(), X_U)"
   ]
  },
  {
   "cell_type": "markdown",
   "metadata": {
    "deletable": true,
    "editable": true
   },
   "source": [
    "<p>A matrix view of the components may be more appropriate:</p>"
   ]
  },
  {
   "cell_type": "code",
   "execution_count": 244,
   "metadata": {
    "collapsed": false,
    "deletable": true,
    "editable": true
   },
   "outputs": [
    {
     "data": {
      "text/html": [
       "<html><script type=\"math/tex; mode=display\">\\newcommand{\\Bold}[1]{\\mathbf{#1}}\\left(\\begin{array}{rrr}\n",
       "\\frac{y^{2} + z^{2} + 1}{x^{2} + y^{2} + z^{2} + 1} & -\\frac{x y}{x^{2} + y^{2} + z^{2} + 1} & -\\frac{x^{3} z}{x^{4} + 2 \\, x^{2} y^{2} + y^{4} + 2 \\, x^{2} z^{2} + 2 \\, y^{2} z^{2} + z^{4} + x^{2} + y^{2} + z^{2}} - \\frac{x y^{2} z}{x^{4} + 2 \\, x^{2} y^{2} + y^{4} + 2 \\, x^{2} z^{2} + 2 \\, y^{2} z^{2} + z^{4} + x^{2} + y^{2} + z^{2}} - \\frac{x z^{3}}{x^{4} + 2 \\, x^{2} y^{2} + y^{4} + 2 \\, x^{2} z^{2} + 2 \\, y^{2} z^{2} + z^{4} + x^{2} + y^{2} + z^{2}} \\\\\n",
       "-\\frac{x y}{x^{2} + y^{2} + z^{2} + 1} & \\frac{x^{2} + z^{2} + 1}{x^{2} + y^{2} + z^{2} + 1} & -\\frac{x^{2} y z}{x^{4} + 2 \\, x^{2} y^{2} + y^{4} + 2 \\, x^{2} z^{2} + 2 \\, y^{2} z^{2} + z^{4} + x^{2} + y^{2} + z^{2}} - \\frac{y^{3} z}{x^{4} + 2 \\, x^{2} y^{2} + y^{4} + 2 \\, x^{2} z^{2} + 2 \\, y^{2} z^{2} + z^{4} + x^{2} + y^{2} + z^{2}} - \\frac{y z^{3}}{x^{4} + 2 \\, x^{2} y^{2} + y^{4} + 2 \\, x^{2} z^{2} + 2 \\, y^{2} z^{2} + z^{4} + x^{2} + y^{2} + z^{2}} \\\\\n",
       "-\\frac{x^{3} z}{x^{4} + 2 \\, x^{2} y^{2} + y^{4} + 2 \\, x^{2} z^{2} + 2 \\, y^{2} z^{2} + z^{4} + x^{2} + y^{2} + z^{2}} - \\frac{x y^{2} z}{x^{4} + 2 \\, x^{2} y^{2} + y^{4} + 2 \\, x^{2} z^{2} + 2 \\, y^{2} z^{2} + z^{4} + x^{2} + y^{2} + z^{2}} - \\frac{x z^{3}}{x^{4} + 2 \\, x^{2} y^{2} + y^{4} + 2 \\, x^{2} z^{2} + 2 \\, y^{2} z^{2} + z^{4} + x^{2} + y^{2} + z^{2}} & -\\frac{x^{2} y z}{x^{4} + 2 \\, x^{2} y^{2} + y^{4} + 2 \\, x^{2} z^{2} + 2 \\, y^{2} z^{2} + z^{4} + x^{2} + y^{2} + z^{2}} - \\frac{y^{3} z}{x^{4} + 2 \\, x^{2} y^{2} + y^{4} + 2 \\, x^{2} z^{2} + 2 \\, y^{2} z^{2} + z^{4} + x^{2} + y^{2} + z^{2}} - \\frac{y z^{3}}{x^{4} + 2 \\, x^{2} y^{2} + y^{4} + 2 \\, x^{2} z^{2} + 2 \\, y^{2} z^{2} + z^{4} + x^{2} + y^{2} + z^{2}} & \\frac{x^{2} + y^{2} + 1}{x^{2} + y^{2} + z^{2} + 1}\n",
       "\\end{array}\\right)</script></html>"
      ],
      "text/plain": [
       "[                                                                                                                                                                                                           (y^2 + z^2 + 1)/(x^2 + y^2 + z^2 + 1)                                                                                                                                                                                                                       -x*y/(x^2 + y^2 + z^2 + 1) -x^3*z/(x^4 + 2*x^2*y^2 + y^4 + 2*x^2*z^2 + 2*y^2*z^2 + z^4 + x^2 + y^2 + z^2) - x*y^2*z/(x^4 + 2*x^2*y^2 + y^4 + 2*x^2*z^2 + 2*y^2*z^2 + z^4 + x^2 + y^2 + z^2) - x*z^3/(x^4 + 2*x^2*y^2 + y^4 + 2*x^2*z^2 + 2*y^2*z^2 + z^4 + x^2 + y^2 + z^2)]\n",
       "[                                                                                                                                                                                                                      -x*y/(x^2 + y^2 + z^2 + 1)                                                                                                                                                                                                            (x^2 + z^2 + 1)/(x^2 + y^2 + z^2 + 1) -x^2*y*z/(x^4 + 2*x^2*y^2 + y^4 + 2*x^2*z^2 + 2*y^2*z^2 + z^4 + x^2 + y^2 + z^2) - y^3*z/(x^4 + 2*x^2*y^2 + y^4 + 2*x^2*z^2 + 2*y^2*z^2 + z^4 + x^2 + y^2 + z^2) - y*z^3/(x^4 + 2*x^2*y^2 + y^4 + 2*x^2*z^2 + 2*y^2*z^2 + z^4 + x^2 + y^2 + z^2)]\n",
       "[-x^3*z/(x^4 + 2*x^2*y^2 + y^4 + 2*x^2*z^2 + 2*y^2*z^2 + z^4 + x^2 + y^2 + z^2) - x*y^2*z/(x^4 + 2*x^2*y^2 + y^4 + 2*x^2*z^2 + 2*y^2*z^2 + z^4 + x^2 + y^2 + z^2) - x*z^3/(x^4 + 2*x^2*y^2 + y^4 + 2*x^2*z^2 + 2*y^2*z^2 + z^4 + x^2 + y^2 + z^2) -x^2*y*z/(x^4 + 2*x^2*y^2 + y^4 + 2*x^2*z^2 + 2*y^2*z^2 + z^4 + x^2 + y^2 + z^2) - y^3*z/(x^4 + 2*x^2*y^2 + y^4 + 2*x^2*z^2 + 2*y^2*z^2 + z^4 + x^2 + y^2 + z^2) - y*z^3/(x^4 + 2*x^2*y^2 + y^4 + 2*x^2*z^2 + 2*y^2*z^2 + z^4 + x^2 + y^2 + z^2)                                                                                                                                                                                                            (x^2 + y^2 + 1)/(x^2 + y^2 + z^2 + 1)]"
      ]
     },
     "execution_count": 244,
     "metadata": {},
     "output_type": "execute_result"
    }
   ],
   "source": [
    "g[X_U.frame(), :, X_U]"
   ]
  },
  {
   "cell_type": "markdown",
   "metadata": {
    "deletable": true,
    "editable": true
   },
   "source": [
    "<p>We extend these components, a priori defined only on $U$, to the whole manifold $\\mathcal{M}$, by demanding the same coordinate expressions in the frame associated to the chart X=$(\\mathcal{M},(x,y,z))$:</p>"
   ]
  },
  {
   "cell_type": "code",
   "execution_count": 245,
   "metadata": {
    "collapsed": false,
    "deletable": true,
    "editable": true
   },
   "outputs": [
    {
     "data": {
      "text/html": [
       "<html><script type=\"math/tex; mode=display\">\\newcommand{\\Bold}[1]{\\mathbf{#1}}g = \\left( \\frac{y^{2} + z^{2} + 1}{x^{2} + y^{2} + z^{2} + 1} \\right) \\mathrm{d} x\\otimes \\mathrm{d} x + \\left( - \\frac{x y}{x^{2} + y^{2} + z^{2} + 1} \\right) \\mathrm{d} x\\otimes \\mathrm{d} y + \\left( - \\frac{x^{3} z}{x^{4} + 2 x^{2} y^{2} + 2 x^{2} z^{2} + x^{2} + y^{4} + 2 y^{2} z^{2} + y^{2} + z^{4} + z^{2}} - \\frac{x y^{2} z}{x^{4} + 2 x^{2} y^{2} + 2 x^{2} z^{2} + x^{2} + y^{4} + 2 y^{2} z^{2} + y^{2} + z^{4} + z^{2}} - \\frac{x z^{3}}{x^{4} + 2 x^{2} y^{2} + 2 x^{2} z^{2} + x^{2} + y^{4} + 2 y^{2} z^{2} + y^{2} + z^{4} + z^{2}} \\right) \\mathrm{d} x\\otimes \\mathrm{d} z + \\left( - \\frac{x y}{x^{2} + y^{2} + z^{2} + 1} \\right) \\mathrm{d} y\\otimes \\mathrm{d} x + \\left( \\frac{x^{2} + z^{2} + 1}{x^{2} + y^{2} + z^{2} + 1} \\right) \\mathrm{d} y\\otimes \\mathrm{d} y + \\left( - \\frac{x^{2} y z}{x^{4} + 2 x^{2} y^{2} + 2 x^{2} z^{2} + x^{2} + y^{4} + 2 y^{2} z^{2} + y^{2} + z^{4} + z^{2}} - \\frac{y^{3} z}{x^{4} + 2 x^{2} y^{2} + 2 x^{2} z^{2} + x^{2} + y^{4} + 2 y^{2} z^{2} + y^{2} + z^{4} + z^{2}} - \\frac{y z^{3}}{x^{4} + 2 x^{2} y^{2} + 2 x^{2} z^{2} + x^{2} + y^{4} + 2 y^{2} z^{2} + y^{2} + z^{4} + z^{2}} \\right) \\mathrm{d} y\\otimes \\mathrm{d} z + \\left( - \\frac{x^{3} z}{x^{4} + 2 x^{2} y^{2} + 2 x^{2} z^{2} + x^{2} + y^{4} + 2 y^{2} z^{2} + y^{2} + z^{4} + z^{2}} - \\frac{x y^{2} z}{x^{4} + 2 x^{2} y^{2} + 2 x^{2} z^{2} + x^{2} + y^{4} + 2 y^{2} z^{2} + y^{2} + z^{4} + z^{2}} - \\frac{x z^{3}}{x^{4} + 2 x^{2} y^{2} + 2 x^{2} z^{2} + x^{2} + y^{4} + 2 y^{2} z^{2} + y^{2} + z^{4} + z^{2}} \\right) \\mathrm{d} z\\otimes \\mathrm{d} x + \\left( - \\frac{x^{2} y z}{x^{4} + 2 x^{2} y^{2} + 2 x^{2} z^{2} + x^{2} + y^{4} + 2 y^{2} z^{2} + y^{2} + z^{4} + z^{2}} - \\frac{y^{3} z}{x^{4} + 2 x^{2} y^{2} + 2 x^{2} z^{2} + x^{2} + y^{4} + 2 y^{2} z^{2} + y^{2} + z^{4} + z^{2}} - \\frac{y z^{3}}{x^{4} + 2 x^{2} y^{2} + 2 x^{2} z^{2} + x^{2} + y^{4} + 2 y^{2} z^{2} + y^{2} + z^{4} + z^{2}} \\right) \\mathrm{d} z\\otimes \\mathrm{d} y + \\left( \\frac{x^{2} + y^{2} + 1}{x^{2} + y^{2} + z^{2} + 1} \\right) \\mathrm{d} z\\otimes \\mathrm{d} z</script></html>"
      ],
      "text/plain": [
       "g = (y**2 + z**2 + 1)/(x**2 + y**2 + z**2 + 1) dx*dx - x*y/(x**2 + y**2 + z**2 + 1) dx*dy + (-x**3*z/(x**4 + 2*x**2*y**2 + 2*x**2*z**2 + x**2 + y**4 + 2*y**2*z**2 + y**2 + z**4 + z**2) - x*y**2*z/(x**4 + 2*x**2*y**2 + 2*x**2*z**2 + x**2 + y**4 + 2*y**2*z**2 + y**2 + z**4 + z**2) - x*z**3/(x**4 + 2*x**2*y**2 + 2*x**2*z**2 + x**2 + y**4 + 2*y**2*z**2 + y**2 + z**4 + z**2)) dx*dz - x*y/(x**2 + y**2 + z**2 + 1) dy*dx + (x**2 + z**2 + 1)/(x**2 + y**2 + z**2 + 1) dy*dy + (-x**2*y*z/(x**4 + 2*x**2*y**2 + 2*x**2*z**2 + x**2 + y**4 + 2*y**2*z**2 + y**2 + z**4 + z**2) - y**3*z/(x**4 + 2*x**2*y**2 + 2*x**2*z**2 + x**2 + y**4 + 2*y**2*z**2 + y**2 + z**4 + z**2) - y*z**3/(x**4 + 2*x**2*y**2 + 2*x**2*z**2 + x**2 + y**4 + 2*y**2*z**2 + y**2 + z**4 + z**2)) dy*dz + (-x**3*z/(x**4 + 2*x**2*y**2 + 2*x**2*z**2 + x**2 + y**4 + 2*y**2*z**2 + y**2 + z**4 + z**2) - x*y**2*z/(x**4 + 2*x**2*y**2 + 2*x**2*z**2 + x**2 + y**4 + 2*y**2*z**2 + y**2 + z**4 + z**2) - x*z**3/(x**4 + 2*x**2*y**2 + 2*x**2*z**2 + x**2 + y**4 + 2*y**2*z**2 + y**2 + z**4 + z**2)) dz*dx + (-x**2*y*z/(x**4 + 2*x**2*y**2 + 2*x**2*z**2 + x**2 + y**4 + 2*y**2*z**2 + y**2 + z**4 + z**2) - y**3*z/(x**4 + 2*x**2*y**2 + 2*x**2*z**2 + x**2 + y**4 + 2*y**2*z**2 + y**2 + z**4 + z**2) - y*z**3/(x**4 + 2*x**2*y**2 + 2*x**2*z**2 + x**2 + y**4 + 2*y**2*z**2 + y**2 + z**4 + z**2)) dz*dy + (x**2 + y**2 + 1)/(x**2 + y**2 + z**2 + 1) dz*dz"
      ]
     },
     "execution_count": 245,
     "metadata": {},
     "output_type": "execute_result"
    }
   ],
   "source": [
    "g.add_comp_by_continuation(X.frame(), U, X)\n",
    "g.display()"
   ]
  },
  {
   "cell_type": "markdown",
   "metadata": {
    "deletable": true,
    "editable": true
   },
   "source": [
    "<p>The Levi-Civita connection is automatically recomputed, after the change in $g$:</p>"
   ]
  },
  {
   "cell_type": "code",
   "execution_count": 246,
   "metadata": {
    "collapsed": false,
    "deletable": true,
    "editable": true
   },
   "outputs": [],
   "source": [
    "nabla = g.connection()"
   ]
  },
  {
   "cell_type": "markdown",
   "metadata": {
    "deletable": true,
    "editable": true
   },
   "source": [
    "<p>In particular, the Christoffel symbols are different:</p>"
   ]
  },
  {
   "cell_type": "code",
   "execution_count": 247,
   "metadata": {
    "collapsed": false,
    "deletable": true,
    "editable": true
   },
   "outputs": [
    {
     "data": {
      "text/html": [
       "<html><script type=\"math/tex; mode=display\">\\newcommand{\\Bold}[1]{\\mathbf{#1}}\\begin{array}{lcl} \\Gamma_{ \\phantom{\\, x} \\, x \\, x }^{ \\, x \\phantom{\\, x} \\phantom{\\, x} } & = & - \\frac{x \\left(y^{2} + z^{2} + 1\\right)}{x^{2} + y^{2} + z^{2} + 1} \\\\ \\Gamma_{ \\phantom{\\, x} \\, x \\, y }^{ \\, x \\phantom{\\, x} \\phantom{\\, y} } & = & \\frac{x^{2} y}{x^{2} + y^{2} + z^{2} + 1} \\\\ \\Gamma_{ \\phantom{\\, x} \\, x \\, z }^{ \\, x \\phantom{\\, x} \\phantom{\\, z} } & = & \\frac{x^{2} z}{x^{2} + y^{2} + z^{2} + 1} \\\\ \\Gamma_{ \\phantom{\\, x} \\, y \\, y }^{ \\, x \\phantom{\\, y} \\phantom{\\, y} } & = & - \\frac{x \\left(x^{2} + z^{2} + 1\\right)}{x^{2} + y^{2} + z^{2} + 1} \\\\ \\Gamma_{ \\phantom{\\, x} \\, y \\, z }^{ \\, x \\phantom{\\, y} \\phantom{\\, z} } & = & \\frac{x y z}{x^{2} + y^{2} + z^{2} + 1} \\\\ \\Gamma_{ \\phantom{\\, x} \\, z \\, z }^{ \\, x \\phantom{\\, z} \\phantom{\\, z} } & = & - \\frac{x \\left(x^{2} + y^{2} + 1\\right)}{x^{2} + y^{2} + z^{2} + 1} \\\\ \\Gamma_{ \\phantom{\\, y} \\, x \\, x }^{ \\, y \\phantom{\\, x} \\phantom{\\, x} } & = & - \\frac{y \\left(y^{2} + z^{2} + 1\\right)}{x^{2} + y^{2} + z^{2} + 1} \\\\ \\Gamma_{ \\phantom{\\, y} \\, x \\, y }^{ \\, y \\phantom{\\, x} \\phantom{\\, y} } & = & \\frac{x y^{2}}{x^{2} + y^{2} + z^{2} + 1} \\\\ \\Gamma_{ \\phantom{\\, y} \\, x \\, z }^{ \\, y \\phantom{\\, x} \\phantom{\\, z} } & = & \\frac{x y z}{x^{2} + y^{2} + z^{2} + 1} \\\\ \\Gamma_{ \\phantom{\\, y} \\, y \\, y }^{ \\, y \\phantom{\\, y} \\phantom{\\, y} } & = & - \\frac{y \\left(x^{2} + z^{2} + 1\\right)}{x^{2} + y^{2} + z^{2} + 1} \\\\ \\Gamma_{ \\phantom{\\, y} \\, y \\, z }^{ \\, y \\phantom{\\, y} \\phantom{\\, z} } & = & \\frac{y^{2} z}{x^{2} + y^{2} + z^{2} + 1} \\\\ \\Gamma_{ \\phantom{\\, y} \\, z \\, z }^{ \\, y \\phantom{\\, z} \\phantom{\\, z} } & = & - \\frac{y \\left(x^{2} + y^{2} + 1\\right)}{x^{2} + y^{2} + z^{2} + 1} \\\\ \\Gamma_{ \\phantom{\\, z} \\, x \\, x }^{ \\, z \\phantom{\\, x} \\phantom{\\, x} } & = & - \\frac{z \\left(y^{2} + z^{2} + 1\\right)}{x^{2} + y^{2} + z^{2} + 1} \\\\ \\Gamma_{ \\phantom{\\, z} \\, x \\, y }^{ \\, z \\phantom{\\, x} \\phantom{\\, y} } & = & \\frac{x y z}{x^{2} + y^{2} + z^{2} + 1} \\\\ \\Gamma_{ \\phantom{\\, z} \\, x \\, z }^{ \\, z \\phantom{\\, x} \\phantom{\\, z} } & = & \\frac{x z^{2}}{x^{2} + y^{2} + z^{2} + 1} \\\\ \\Gamma_{ \\phantom{\\, z} \\, y \\, y }^{ \\, z \\phantom{\\, y} \\phantom{\\, y} } & = & - \\frac{z \\left(x^{2} + z^{2} + 1\\right)}{x^{2} + y^{2} + z^{2} + 1} \\\\ \\Gamma_{ \\phantom{\\, z} \\, y \\, z }^{ \\, z \\phantom{\\, y} \\phantom{\\, z} } & = & \\frac{y z^{2}}{x^{2} + y^{2} + z^{2} + 1} \\\\ \\Gamma_{ \\phantom{\\, z} \\, z \\, z }^{ \\, z \\phantom{\\, z} \\phantom{\\, z} } & = & - \\frac{z \\left(x^{2} + y^{2} + 1\\right)}{x^{2} + y^{2} + z^{2} + 1} \\end{array}</script></html>"
      ],
      "text/plain": [
       "Gam^x_xx = -x*(y**2 + z**2 + 1)/(x**2 + y**2 + z**2 + 1) \n",
       "Gam^x_xy = x**2*y/(x**2 + y**2 + z**2 + 1) \n",
       "Gam^x_xz = x**2*z/(x**2 + y**2 + z**2 + 1) \n",
       "Gam^x_yy = -x*(x**2 + z**2 + 1)/(x**2 + y**2 + z**2 + 1) \n",
       "Gam^x_yz = x*y*z/(x**2 + y**2 + z**2 + 1) \n",
       "Gam^x_zz = -x*(x**2 + y**2 + 1)/(x**2 + y**2 + z**2 + 1) \n",
       "Gam^y_xx = -y*(y**2 + z**2 + 1)/(x**2 + y**2 + z**2 + 1) \n",
       "Gam^y_xy = x*y**2/(x**2 + y**2 + z**2 + 1) \n",
       "Gam^y_xz = x*y*z/(x**2 + y**2 + z**2 + 1) \n",
       "Gam^y_yy = -y*(x**2 + z**2 + 1)/(x**2 + y**2 + z**2 + 1) \n",
       "Gam^y_yz = y**2*z/(x**2 + y**2 + z**2 + 1) \n",
       "Gam^y_zz = -y*(x**2 + y**2 + 1)/(x**2 + y**2 + z**2 + 1) \n",
       "Gam^z_xx = -z*(y**2 + z**2 + 1)/(x**2 + y**2 + z**2 + 1) \n",
       "Gam^z_xy = x*y*z/(x**2 + y**2 + z**2 + 1) \n",
       "Gam^z_xz = x*z**2/(x**2 + y**2 + z**2 + 1) \n",
       "Gam^z_yy = -z*(x**2 + z**2 + 1)/(x**2 + y**2 + z**2 + 1) \n",
       "Gam^z_yz = y*z**2/(x**2 + y**2 + z**2 + 1) \n",
       "Gam^z_zz = -z*(x**2 + y**2 + 1)/(x**2 + y**2 + z**2 + 1) "
      ]
     },
     "execution_count": 247,
     "metadata": {},
     "output_type": "execute_result"
    }
   ],
   "source": [
    "nabla.display(only_nonredundant=True)"
   ]
  },
  {
   "cell_type": "code",
   "execution_count": 248,
   "metadata": {
    "collapsed": false,
    "deletable": true,
    "editable": true
   },
   "outputs": [
    {
     "data": {
      "text/html": [
       "<html><script type=\"math/tex; mode=display\">\\newcommand{\\Bold}[1]{\\mathbf{#1}}\\begin{array}{lcl} \\Gamma_{ \\phantom{\\, r} \\, r \\, r }^{ \\, r \\phantom{\\, r} \\phantom{\\, r} } & = & - \\frac{r}{r^{2} + 1} \\\\ \\Gamma_{ \\phantom{\\, r} \\, {\\theta} \\, {\\theta} }^{ \\, r \\phantom{\\, {\\theta}} \\phantom{\\, {\\theta}} } & = & - r \\left(r^{2} + 1\\right) \\\\ \\Gamma_{ \\phantom{\\, r} \\, {\\phi} \\, {\\phi} }^{ \\, r \\phantom{\\, {\\phi}} \\phantom{\\, {\\phi}} } & = & - r \\left(r^{2} + 1\\right) \\sin^{2}{\\left (\\theta \\right )} \\\\ \\Gamma_{ \\phantom{\\, {\\theta}} \\, r \\, {\\theta} }^{ \\, {\\theta} \\phantom{\\, r} \\phantom{\\, {\\theta}} } & = & \\frac{1}{r} \\\\ \\Gamma_{ \\phantom{\\, {\\theta}} \\, {\\phi} \\, {\\phi} }^{ \\, {\\theta} \\phantom{\\, {\\phi}} \\phantom{\\, {\\phi}} } & = & - \\frac{1}{2} \\sin{\\left (2 \\theta \\right )} \\\\ \\Gamma_{ \\phantom{\\, {\\phi}} \\, r \\, {\\phi} }^{ \\, {\\phi} \\phantom{\\, r} \\phantom{\\, {\\phi}} } & = & \\frac{1}{r} \\\\ \\Gamma_{ \\phantom{\\, {\\phi}} \\, {\\theta} \\, {\\phi} }^{ \\, {\\phi} \\phantom{\\, {\\theta}} \\phantom{\\, {\\phi}} } & = & \\frac{1}{\\tan{\\left (\\theta \\right )}} \\end{array}</script></html>"
      ],
      "text/plain": [
       "Gam^r_r,r = -r/(r**2 + 1) \n",
       "Gam^r_theta,theta = -r*(r**2 + 1) \n",
       "Gam^r_phi,phi = -r*(r**2 + 1)*sin(theta)**2 \n",
       "Gam^theta_r,theta = 1/r \n",
       "Gam^theta_phi,phi = -sin(2*theta)/2 \n",
       "Gam^phi_r,phi = 1/r \n",
       "Gam^phi_theta,phi = 1/tan(theta) "
      ]
     },
     "execution_count": 248,
     "metadata": {},
     "output_type": "execute_result"
    }
   ],
   "source": [
    "nabla.display(frame=Y.frame(), chart=Y, only_nonredundant=True)"
   ]
  },
  {
   "cell_type": "markdown",
   "metadata": {
    "deletable": true,
    "editable": true
   },
   "source": [
    "<p>The <strong>Riemann tensor</strong> is now</p>"
   ]
  },
  {
   "cell_type": "code",
   "execution_count": 249,
   "metadata": {
    "collapsed": false,
    "deletable": true,
    "editable": true
   },
   "outputs": [
    {
     "name": "stdout",
     "output_type": "stream",
     "text": [
      "Tensor field Riem(g) of type (1,3) on the 3-dimensional differentiable manifold M\n"
     ]
    },
    {
     "data": {
      "text/html": [
       "<html><script type=\"math/tex; mode=display\">\\newcommand{\\Bold}[1]{\\mathbf{#1}}\\mathrm{Riem}\\left(g\\right) = - r^{2} \\frac{\\partial}{\\partial r }\\otimes \\mathrm{d} {\\theta}\\otimes \\mathrm{d} r\\otimes \\mathrm{d} {\\theta} + r^{2} \\frac{\\partial}{\\partial r }\\otimes \\mathrm{d} {\\theta}\\otimes \\mathrm{d} {\\theta}\\otimes \\mathrm{d} r - r^{2} \\sin^{2}{\\left (\\theta \\right )} \\frac{\\partial}{\\partial r }\\otimes \\mathrm{d} {\\phi}\\otimes \\mathrm{d} r\\otimes \\mathrm{d} {\\phi} + r^{2} \\sin^{2}{\\left (\\theta \\right )} \\frac{\\partial}{\\partial r }\\otimes \\mathrm{d} {\\phi}\\otimes \\mathrm{d} {\\phi}\\otimes \\mathrm{d} r + \\left( \\frac{1}{r^{2} + 1} \\right) \\frac{\\partial}{\\partial {\\theta} }\\otimes \\mathrm{d} r\\otimes \\mathrm{d} r\\otimes \\mathrm{d} {\\theta} + \\left( - \\frac{1}{r^{2} + 1} \\right) \\frac{\\partial}{\\partial {\\theta} }\\otimes \\mathrm{d} r\\otimes \\mathrm{d} {\\theta}\\otimes \\mathrm{d} r - r^{2} \\sin^{2}{\\left (\\theta \\right )} \\frac{\\partial}{\\partial {\\theta} }\\otimes \\mathrm{d} {\\phi}\\otimes \\mathrm{d} {\\theta}\\otimes \\mathrm{d} {\\phi} + r^{2} \\sin^{2}{\\left (\\theta \\right )} \\frac{\\partial}{\\partial {\\theta} }\\otimes \\mathrm{d} {\\phi}\\otimes \\mathrm{d} {\\phi}\\otimes \\mathrm{d} {\\theta} + \\left( \\frac{1}{r^{2} + 1} \\right) \\frac{\\partial}{\\partial {\\phi} }\\otimes \\mathrm{d} r\\otimes \\mathrm{d} r\\otimes \\mathrm{d} {\\phi} + \\left( - \\frac{1}{r^{2} + 1} \\right) \\frac{\\partial}{\\partial {\\phi} }\\otimes \\mathrm{d} r\\otimes \\mathrm{d} {\\phi}\\otimes \\mathrm{d} r + r^{2} \\frac{\\partial}{\\partial {\\phi} }\\otimes \\mathrm{d} {\\theta}\\otimes \\mathrm{d} {\\theta}\\otimes \\mathrm{d} {\\phi} - r^{2} \\frac{\\partial}{\\partial {\\phi} }\\otimes \\mathrm{d} {\\theta}\\otimes \\mathrm{d} {\\phi}\\otimes \\mathrm{d} {\\theta}</script></html>"
      ],
      "text/plain": [
       "Riem(g) = -r**2 d/dr*dtheta*dr*dtheta + r**2 d/dr*dtheta*dtheta*dr - r**2*sin(theta)**2 d/dr*dphi*dr*dphi + r**2*sin(theta)**2 d/dr*dphi*dphi*dr + 1/(r**2 + 1) d/dtheta*dr*dr*dtheta - 1/(r**2 + 1) d/dtheta*dr*dtheta*dr - r**2*sin(theta)**2 d/dtheta*dphi*dtheta*dphi + r**2*sin(theta)**2 d/dtheta*dphi*dphi*dtheta + 1/(r**2 + 1) d/dphi*dr*dr*dphi - 1/(r**2 + 1) d/dphi*dr*dphi*dr + r**2 d/dphi*dtheta*dtheta*dphi - r**2 d/dphi*dtheta*dphi*dtheta"
      ]
     },
     "execution_count": 249,
     "metadata": {},
     "output_type": "execute_result"
    }
   ],
   "source": [
    "Riem = nabla.riemann()\n",
    "print(Riem) ; Riem.display(Y.frame())"
   ]
  },
  {
   "cell_type": "markdown",
   "metadata": {
    "deletable": true,
    "editable": true
   },
   "source": [
    "<p>Note that it can be accessed directely via the metric, without any explicit mention of the connection:</p>"
   ]
  },
  {
   "cell_type": "code",
   "execution_count": 250,
   "metadata": {
    "collapsed": false,
    "deletable": true,
    "editable": true
   },
   "outputs": [
    {
     "data": {
      "text/html": [
       "<html><script type=\"math/tex; mode=display\">\\newcommand{\\Bold}[1]{\\mathbf{#1}}\\mathrm{True}</script></html>"
      ],
      "text/plain": [
       "True"
      ]
     },
     "execution_count": 250,
     "metadata": {},
     "output_type": "execute_result"
    }
   ],
   "source": [
    "g.riemann() is nabla.riemann()"
   ]
  },
  {
   "cell_type": "markdown",
   "metadata": {
    "deletable": true,
    "editable": true
   },
   "source": [
    "<p>The <strong>Ricci tensor</strong> is</p>"
   ]
  },
  {
   "cell_type": "code",
   "execution_count": 251,
   "metadata": {
    "collapsed": false,
    "deletable": true,
    "editable": true
   },
   "outputs": [
    {
     "name": "stdout",
     "output_type": "stream",
     "text": [
      "Field of symmetric bilinear forms Ric(g) on the 3-dimensional differentiable manifold M\n"
     ]
    },
    {
     "data": {
      "text/html": [
       "<html><script type=\"math/tex; mode=display\">\\newcommand{\\Bold}[1]{\\mathbf{#1}}\\mathrm{Ric}\\left(g\\right) = \\left( - \\frac{2}{r^{2} + 1} \\right) \\mathrm{d} r\\otimes \\mathrm{d} r - 2 r^{2} \\mathrm{d} {\\theta}\\otimes \\mathrm{d} {\\theta} - 2 r^{2} \\sin^{2}{\\left (\\theta \\right )} \\mathrm{d} {\\phi}\\otimes \\mathrm{d} {\\phi}</script></html>"
      ],
      "text/plain": [
       "Ric(g) = -2/(r**2 + 1) dr*dr - 2*r**2 dtheta*dtheta - 2*r**2*sin(theta)**2 dphi*dphi"
      ]
     },
     "execution_count": 251,
     "metadata": {},
     "output_type": "execute_result"
    }
   ],
   "source": [
    "Ric = g.ricci()\n",
    "print(Ric) ; Ric.display(Y.frame())"
   ]
  },
  {
   "cell_type": "markdown",
   "metadata": {
    "deletable": true,
    "editable": true
   },
   "source": [
    "<p>The<strong> Weyl tensor</strong> is:</p>"
   ]
  },
  {
   "cell_type": "code",
   "execution_count": 252,
   "metadata": {
    "collapsed": false,
    "deletable": true,
    "editable": true
   },
   "outputs": [
    {
     "name": "stdout",
     "output_type": "stream",
     "text": [
      "Tensor field C(g) of type (1,3) on the 3-dimensional differentiable manifold M\n"
     ]
    },
    {
     "data": {
      "text/html": [
       "<html><script type=\"math/tex; mode=display\">\\newcommand{\\Bold}[1]{\\mathbf{#1}}\\mathrm{C}\\left(g\\right) = 0</script></html>"
      ],
      "text/plain": [
       "C(g) = 0"
      ]
     },
     "execution_count": 252,
     "metadata": {},
     "output_type": "execute_result"
    }
   ],
   "source": [
    "C = g.weyl()\n",
    "print(C) ; C.display()"
   ]
  },
  {
   "cell_type": "markdown",
   "metadata": {
    "deletable": true,
    "editable": true
   },
   "source": [
    "<p>The Weyl tensor vanishes identically because the dimension of $\\mathcal{M}$ is 3.</p>\n",
    "<p>Finally, the <strong>Ricci scalar</strong> is </p>"
   ]
  },
  {
   "cell_type": "code",
   "execution_count": 253,
   "metadata": {
    "collapsed": false,
    "deletable": true,
    "editable": true
   },
   "outputs": [
    {
     "name": "stdout",
     "output_type": "stream",
     "text": [
      "Scalar field r(g) on the 3-dimensional differentiable manifold M\n"
     ]
    },
    {
     "data": {
      "text/html": [
       "<html><script type=\"math/tex; mode=display\">\\newcommand{\\Bold}[1]{\\mathbf{#1}}\\begin{array}{llcl} \\mathrm{r}\\left(g\\right):& \\mathcal{M} & \\longrightarrow & \\mathbb{R} \\\\ & \\left(x, y, z\\right) & \\longmapsto & -6 \\\\ \\mbox{on}\\ U : & \\left(r, {\\theta}, {\\phi}\\right) & \\longmapsto & -6 \\end{array}</script></html>"
      ],
      "text/plain": [
       "r(g): M --> R\n",
       "   (x, y, z) |--> -6\n",
       "on U: (r, theta, phi) |--> -6"
      ]
     },
     "execution_count": 253,
     "metadata": {},
     "output_type": "execute_result"
    }
   ],
   "source": [
    "R = g.ricci_scalar()\n",
    "print(R) ; R.display()"
   ]
  },
  {
   "cell_type": "markdown",
   "metadata": {
    "deletable": true,
    "editable": true
   },
   "source": [
    "<p>We recover the fact that $\\mathbb{H}^3$ is a Riemannian manifold of constant negative curvature.</p>\n",
    "\n",
    "<h2>Tensor transformations induced by a metric</h2>\n",
    "<p>The most important tensor transformation induced by the metric $g$ is the so-called <strong>musical isomorphism</strong>, or <strong>index raising</strong> and<strong> index lowering</strong>:</p>"
   ]
  },
  {
   "cell_type": "code",
   "execution_count": 254,
   "metadata": {
    "collapsed": false,
    "deletable": true,
    "editable": true
   },
   "outputs": [
    {
     "name": "stdout",
     "output_type": "stream",
     "text": [
      "Tensor field T of type (1,2) on the Open subset U of the 3-dimensional differentiable manifold M\n"
     ]
    }
   ],
   "source": [
    "print(t)"
   ]
  },
  {
   "cell_type": "code",
   "execution_count": 255,
   "metadata": {
    "collapsed": false,
    "deletable": true,
    "editable": true
   },
   "outputs": [
    {
     "data": {
      "text/html": [
       "<html><script type=\"math/tex; mode=display\">\\newcommand{\\Bold}[1]{\\mathbf{#1}}T = \\left( r^{2} \\sin^{2}{\\left (\\theta \\right )} \\cos^{2}{\\left (\\phi \\right )} + 1 \\right) \\frac{\\partial}{\\partial x }\\otimes \\mathrm{d} y\\otimes \\mathrm{d} x + r^{3} \\sin{\\left (\\phi \\right )} \\sin^{2}{\\left (\\theta \\right )} \\cos{\\left (\\phi \\right )} \\cos{\\left (\\theta \\right )} \\frac{\\partial}{\\partial z }\\otimes \\mathrm{d} y\\otimes \\mathrm{d} x</script></html>"
      ],
      "text/plain": [
       "T = (r**2*sin(theta)**2*cos(phi)**2 + 1) d/dx*dy*dx + r**3*sin(phi)*sin(theta)**2*cos(phi)*cos(theta) d/dz*dy*dx"
      ]
     },
     "execution_count": 255,
     "metadata": {},
     "output_type": "execute_result"
    }
   ],
   "source": [
    "t.display()"
   ]
  },
  {
   "cell_type": "code",
   "execution_count": 256,
   "metadata": {
    "collapsed": false,
    "deletable": true,
    "editable": true
   },
   "outputs": [
    {
     "data": {
      "text/html": [
       "<html><script type=\"math/tex; mode=display\">\\newcommand{\\Bold}[1]{\\mathbf{#1}}T = \\left( x^{2} + 1 \\right) \\frac{\\partial}{\\partial x }\\otimes \\mathrm{d} y\\otimes \\mathrm{d} x + x y z \\frac{\\partial}{\\partial z }\\otimes \\mathrm{d} y\\otimes \\mathrm{d} x</script></html>"
      ],
      "text/plain": [
       "T = (x**2 + 1) d/dx*dy*dx + x*y*z d/dz*dy*dx"
      ]
     },
     "execution_count": 256,
     "metadata": {},
     "output_type": "execute_result"
    }
   ],
   "source": [
    "t.display(X_U.frame(), X_U)"
   ]
  },
  {
   "cell_type": "markdown",
   "metadata": {
    "deletable": true,
    "editable": true
   },
   "source": [
    "<p>Raising the last index of $T$ with $g$:</p>"
   ]
  },
  {
   "cell_type": "code",
   "execution_count": 257,
   "metadata": {
    "collapsed": false,
    "deletable": true,
    "editable": true
   },
   "outputs": [
    {
     "name": "stdout",
     "output_type": "stream",
     "text": [
      "Tensor field of type (2,1) on the Open subset U of the 3-dimensional differentiable manifold M\n"
     ]
    }
   ],
   "source": [
    "s = t.up(g, 2)\n",
    "print(s)"
   ]
  },
  {
   "cell_type": "markdown",
   "metadata": {
    "deletable": true,
    "editable": true
   },
   "source": [
    "<p>Raising all the covariant indices of $T$ (i.e. those at the positions 1 and 2):</p>"
   ]
  },
  {
   "cell_type": "code",
   "execution_count": 258,
   "metadata": {
    "collapsed": false,
    "deletable": true,
    "editable": true
   },
   "outputs": [
    {
     "name": "stdout",
     "output_type": "stream",
     "text": [
      "Tensor field of type (3,0) on the Open subset U of the 3-dimensional differentiable manifold M\n"
     ]
    }
   ],
   "source": [
    "s = t.up(g)\n",
    "print(s)"
   ]
  },
  {
   "cell_type": "code",
   "execution_count": 259,
   "metadata": {
    "collapsed": false,
    "deletable": true,
    "editable": true
   },
   "outputs": [
    {
     "name": "stdout",
     "output_type": "stream",
     "text": [
      "Tensor field of type (0,3) on the Open subset U of the 3-dimensional differentiable manifold M\n"
     ]
    }
   ],
   "source": [
    "s = t.down(g)\n",
    "print(s)"
   ]
  },
  {
   "cell_type": "markdown",
   "metadata": {
    "deletable": true,
    "editable": true
   },
   "source": [
    "<h2>Hodge duality</h2>\n",
    "<p>The volume 3-form (Levi-Civita tensor) associated with the metric $g$ is</p>"
   ]
  },
  {
   "cell_type": "code",
   "execution_count": 260,
   "metadata": {
    "collapsed": false,
    "deletable": true,
    "editable": true
   },
   "outputs": [
    {
     "name": "stdout",
     "output_type": "stream",
     "text": [
      "3-form eps_g on the 3-dimensional differentiable manifold M\n"
     ]
    },
    {
     "data": {
      "text/html": [
       "<html><script type=\"math/tex; mode=display\">\\newcommand{\\Bold}[1]{\\mathbf{#1}}\\epsilon_{g} = \\left( \\frac{1}{\\sqrt{x^{2} + y^{2} + z^{2} + 1}} \\right) \\mathrm{d} x\\wedge \\mathrm{d} y\\wedge \\mathrm{d} z</script></html>"
      ],
      "text/plain": [
       "eps_g = 1/sqrt(x**2 + y**2 + z**2 + 1) dx/\\dy/\\dz"
      ]
     },
     "execution_count": 260,
     "metadata": {},
     "output_type": "execute_result"
    }
   ],
   "source": [
    "epsilon = g.volume_form()\n",
    "print(epsilon) ; epsilon.display()"
   ]
  },
  {
   "cell_type": "code",
   "execution_count": 261,
   "metadata": {
    "collapsed": false,
    "deletable": true,
    "editable": true
   },
   "outputs": [
    {
     "data": {
      "text/html": [
       "<html><script type=\"math/tex; mode=display\">\\newcommand{\\Bold}[1]{\\mathbf{#1}}\\epsilon_{g} = \\left( \\frac{r^{2} \\sin{\\left (\\theta \\right )}}{\\sqrt{r^{2} + 1}} \\right) \\mathrm{d} r\\wedge \\mathrm{d} {\\theta}\\wedge \\mathrm{d} {\\phi}</script></html>"
      ],
      "text/plain": [
       "eps_g = r**2*sin(theta)/sqrt(r**2 + 1) dr/\\dtheta/\\dphi"
      ]
     },
     "execution_count": 261,
     "metadata": {},
     "output_type": "execute_result"
    }
   ],
   "source": [
    "epsilon.display(Y.frame())"
   ]
  },
  {
   "cell_type": "code",
   "execution_count": 262,
   "metadata": {
    "collapsed": false,
    "deletable": true,
    "editable": true
   },
   "outputs": [
    {
     "name": "stdout",
     "output_type": "stream",
     "text": [
      "Scalar field f on the Open subset U of the 3-dimensional differentiable manifold M\n"
     ]
    },
    {
     "data": {
      "text/html": [
       "<html><script type=\"math/tex; mode=display\">\\newcommand{\\Bold}[1]{\\mathbf{#1}}\\begin{array}{llcl} f:& U & \\longrightarrow & \\mathbb{R} \\\\ & \\left(x, y, z\\right) & \\longmapsto & x + y^{2} + z^{3} \\\\ & \\left(r, {\\theta}, {\\phi}\\right) & \\longmapsto & r \\left(r^{2} \\cos^{3}{\\left (\\theta \\right )} + r \\sin^{2}{\\left (\\phi \\right )} \\sin^{2}{\\left (\\theta \\right )} + \\sin{\\left (\\theta \\right )} \\cos{\\left (\\phi \\right )}\\right) \\end{array}</script></html>"
      ],
      "text/plain": [
       "f: U --> R\n",
       "   (x, y, z) |--> x + y**2 + z**3\n",
       "   (r, theta, phi) |--> r*(r**2*cos(theta)**3 + r*sin(phi)**2*sin(theta)**2 + sin(theta)*cos(phi))"
      ]
     },
     "execution_count": 262,
     "metadata": {},
     "output_type": "execute_result"
    }
   ],
   "source": [
    "print(f) ; f.display()"
   ]
  },
  {
   "cell_type": "code",
   "execution_count": 263,
   "metadata": {
    "collapsed": false,
    "deletable": true,
    "editable": true
   },
   "outputs": [
    {
     "name": "stdout",
     "output_type": "stream",
     "text": [
      "3-form *f on the Open subset U of the 3-dimensional differentiable manifold M\n"
     ]
    },
    {
     "data": {
      "text/html": [
       "<html><script type=\"math/tex; mode=display\">\\newcommand{\\Bold}[1]{\\mathbf{#1}}\\star f = \\left( \\frac{r}{\\sqrt{r^{2} + 1}} \\left(r^{2} \\cos^{3}{\\left (\\theta \\right )} + r \\sin^{2}{\\left (\\phi \\right )} \\sin^{2}{\\left (\\theta \\right )} + \\sin{\\left (\\theta \\right )} \\cos{\\left (\\phi \\right )}\\right) \\right) \\mathrm{d} x\\wedge \\mathrm{d} y\\wedge \\mathrm{d} z</script></html>"
      ],
      "text/plain": [
       "*f = r*(r**2*cos(theta)**3 + r*sin(phi)**2*sin(theta)**2 + sin(theta)*cos(phi))/sqrt(r**2 + 1) dx/\\dy/\\dz"
      ]
     },
     "execution_count": 263,
     "metadata": {},
     "output_type": "execute_result"
    }
   ],
   "source": [
    "sf = f.hodge_dual(g)\n",
    "print(sf) ; sf.display()"
   ]
  },
  {
   "cell_type": "markdown",
   "metadata": {
    "deletable": true,
    "editable": true
   },
   "source": [
    "<p>We check the classical formula $\\star f = f\\, \\epsilon_g$, or, more precisely, $\\star f = f\\, \\epsilon_g|_U$ (for $f$ is defined on $U$ only):</p>"
   ]
  },
  {
   "cell_type": "code",
   "execution_count": 264,
   "metadata": {
    "collapsed": false,
    "deletable": true,
    "editable": true
   },
   "outputs": [
    {
     "data": {
      "text/html": [
       "<html><script type=\"math/tex; mode=display\">\\newcommand{\\Bold}[1]{\\mathbf{#1}}\\mathrm{True}</script></html>"
      ],
      "text/plain": [
       "True"
      ]
     },
     "execution_count": 264,
     "metadata": {},
     "output_type": "execute_result"
    }
   ],
   "source": [
    "sf == f * epsilon.restrict(U)"
   ]
  },
  {
   "cell_type": "markdown",
   "metadata": {
    "deletable": true,
    "editable": true
   },
   "source": [
    "<p>The Hodge dual of a 1-form is a 2-form:</p>"
   ]
  },
  {
   "cell_type": "code",
   "execution_count": 265,
   "metadata": {
    "collapsed": false,
    "deletable": true,
    "editable": true
   },
   "outputs": [
    {
     "name": "stdout",
     "output_type": "stream",
     "text": [
      "1-form omega on the Open subset U of the 3-dimensional differentiable manifold M\n"
     ]
    },
    {
     "data": {
      "text/html": [
       "<html><script type=\"math/tex; mode=display\">\\newcommand{\\Bold}[1]{\\mathbf{#1}}\\omega = r^{2} \\sin^{2}{\\left (\\theta \\right )} \\mathrm{d} x + r \\cos{\\left (\\theta \\right )} \\mathrm{d} y + r \\left(\\sin{\\left (\\theta \\right )} \\cos{\\left (\\phi \\right )} - \\cos{\\left (\\theta \\right )}\\right) \\mathrm{d} z</script></html>"
      ],
      "text/plain": [
       "omega = r**2*sin(theta)**2 dx + r*cos(theta) dy + r*(sin(theta)*cos(phi) - cos(theta)) dz"
      ]
     },
     "execution_count": 265,
     "metadata": {},
     "output_type": "execute_result"
    }
   ],
   "source": [
    "print(om) ; om.display()"
   ]
  },
  {
   "cell_type": "code",
   "execution_count": 266,
   "metadata": {
    "collapsed": false,
    "deletable": true,
    "editable": true
   },
   "outputs": [
    {
     "name": "stdout",
     "output_type": "stream",
     "text": [
      "2-form *omega on the Open subset U of the 3-dimensional differentiable manifold M\n"
     ]
    },
    {
     "data": {
      "text/html": [
       "<html><script type=\"math/tex; mode=display\">\\newcommand{\\Bold}[1]{\\mathbf{#1}}\\star \\omega = \\left( \\frac{r}{\\sqrt{r^{2} + 1}} \\left(r^{3} \\sin^{3}{\\left (\\theta \\right )} \\cos{\\left (\\phi \\right )} \\cos{\\left (\\theta \\right )} - \\sqrt{2} r^{2} \\sin^{3}{\\left (\\theta \\right )} \\sin{\\left (\\phi + \\frac{\\pi}{4} \\right )} + \\sqrt{2} r^{2} \\sin{\\left (\\theta \\right )} \\sin{\\left (\\phi + \\frac{\\pi}{4} \\right )} - r^{2} \\cos^{3}{\\left (\\theta \\right )} + \\sin{\\left (\\theta \\right )} \\cos{\\left (\\phi \\right )} - \\cos{\\left (\\theta \\right )}\\right) \\right) \\mathrm{d} x\\wedge \\mathrm{d} y + \\left( \\frac{r}{\\sqrt{r^{2} + 1}} \\left(- r^{3} \\sin{\\left (\\phi \\right )} \\sin^{4}{\\left (\\theta \\right )} \\cos{\\left (\\phi \\right )} - r^{2} \\sin{\\left (\\phi \\right )} \\sin^{3}{\\left (\\theta \\right )} - \\sqrt{2} r^{2} \\sin{\\left (\\phi \\right )} \\sin^{2}{\\left (\\theta \\right )} \\sin{\\left (\\phi + \\frac{\\pi}{4} \\right )} \\cos{\\left (\\theta \\right )} + r^{2} \\sin{\\left (\\phi \\right )} \\sin{\\left (\\theta \\right )} - \\cos{\\left (\\theta \\right )}\\right) \\right) \\mathrm{d} x\\wedge \\mathrm{d} z + \\left( \\frac{r^{2} \\sin{\\left (\\theta \\right )}}{\\sqrt{r^{2} + 1}} \\left(r^{2} \\sin^{3}{\\left (\\theta \\right )} \\cos^{2}{\\left (\\phi \\right )} + \\sqrt{2} r \\sin{\\left (\\phi \\right )} \\sin{\\left (\\theta \\right )} \\cos{\\left (\\theta \\right )} \\cos{\\left (\\phi + \\frac{\\pi}{4} \\right )} + r \\sin{\\left (\\theta \\right )} \\cos{\\left (\\theta \\right )} - r \\cos{\\left (\\phi \\right )} \\cos^{2}{\\left (\\theta \\right )} + \\sin{\\left (\\theta \\right )}\\right) \\right) \\mathrm{d} y\\wedge \\mathrm{d} z</script></html>"
      ],
      "text/plain": [
       "*omega = r*(r**3*sin(theta)**3*cos(phi)*cos(theta) - sqrt(2)*r**2*sin(theta)**3*sin(phi + pi/4) + sqrt(2)*r**2*sin(theta)*sin(phi + pi/4) - r**2*cos(theta)**3 + sin(theta)*cos(phi) - cos(theta))/sqrt(r**2 + 1) dx/\\dy + r*(-r**3*sin(phi)*sin(theta)**4*cos(phi) - r**2*sin(phi)*sin(theta)**3 - sqrt(2)*r**2*sin(phi)*sin(theta)**2*sin(phi + pi/4)*cos(theta) + r**2*sin(phi)*sin(theta) - cos(theta))/sqrt(r**2 + 1) dx/\\dz + r**2*(r**2*sin(theta)**3*cos(phi)**2 + sqrt(2)*r*sin(phi)*sin(theta)*cos(theta)*cos(phi + pi/4) + r*sin(theta)*cos(theta) - r*cos(phi)*cos(theta)**2 + sin(theta))*sin(theta)/sqrt(r**2 + 1) dy/\\dz"
      ]
     },
     "execution_count": 266,
     "metadata": {},
     "output_type": "execute_result"
    }
   ],
   "source": [
    "som = om.hodge_dual(g)\n",
    "print(som) ; som.display()"
   ]
  },
  {
   "cell_type": "markdown",
   "metadata": {
    "deletable": true,
    "editable": true
   },
   "source": [
    "<p>The Hodge dual of a 2-form is a 1-form:</p>"
   ]
  },
  {
   "cell_type": "code",
   "execution_count": 267,
   "metadata": {
    "collapsed": false,
    "deletable": true,
    "editable": true
   },
   "outputs": [
    {
     "name": "stdout",
     "output_type": "stream",
     "text": [
      "2-form A on the Open subset U of the 3-dimensional differentiable manifold M\n"
     ]
    }
   ],
   "source": [
    "print(a)"
   ]
  },
  {
   "cell_type": "code",
   "execution_count": 268,
   "metadata": {
    "collapsed": false,
    "deletable": true,
    "editable": true
   },
   "outputs": [
    {
     "name": "stdout",
     "output_type": "stream",
     "text": [
      "1-form *A on the Open subset U of the 3-dimensional differentiable manifold M\n"
     ]
    },
    {
     "data": {
      "text/html": [
       "<html><script type=\"math/tex; mode=display\">\\newcommand{\\Bold}[1]{\\mathbf{#1}}\\star A = \\left( \\frac{r^{2}}{\\sqrt{r^{2} + 1}} \\left(3 r^{4} \\sin^{3}{\\left (\\phi \\right )} \\sin^{4}{\\left (\\theta \\right )} \\cos{\\left (\\phi \\right )} \\cos^{2}{\\left (\\theta \\right )} + 3 r^{4} \\sin{\\left (\\phi \\right )} \\sin^{4}{\\left (\\theta \\right )} \\cos^{3}{\\left (\\phi \\right )} \\cos^{2}{\\left (\\theta \\right )} - 2 r^{3} \\sin^{3}{\\left (\\phi \\right )} \\sin^{4}{\\left (\\theta \\right )} \\cos{\\left (\\phi \\right )} \\cos{\\left (\\theta \\right )} + 3 r^{3} \\sin^{2}{\\left (\\phi \\right )} \\sin^{2}{\\left (\\theta \\right )} \\cos^{3}{\\left (\\theta \\right )} - 2 r^{3} \\sin{\\left (\\phi \\right )} \\sin^{4}{\\left (\\theta \\right )} \\cos^{3}{\\left (\\phi \\right )} \\cos{\\left (\\theta \\right )} + 3 r^{3} \\cos^{5}{\\left (\\theta \\right )} - \\frac{r^{2}}{16} \\left(2 \\sin{\\left (2 \\phi \\right )} - \\sin{\\left (2 \\phi - 4 \\theta \\right )} - \\sin{\\left (2 \\phi + 4 \\theta \\right )}\\right) - 2 r^{2} \\sin^{3}{\\left (\\phi \\right )} \\sin^{4}{\\left (\\theta \\right )} \\cos{\\left (\\phi \\right )} + 2 r^{2} \\sin^{3}{\\left (\\phi \\right )} \\sin^{3}{\\left (\\theta \\right )} \\cos{\\left (\\theta \\right )} + 2 r^{2} \\sin{\\left (\\phi \\right )} \\sin{\\left (\\theta \\right )} \\cos^{3}{\\left (\\theta \\right )} - r \\sin{\\left (\\phi \\right )} \\sin^{3}{\\left (\\theta \\right )} \\cos^{2}{\\left (\\phi \\right )} + r \\sin{\\left (\\phi \\right )} \\sin^{2}{\\left (\\theta \\right )} \\cos{\\left (\\phi \\right )} \\cos{\\left (\\theta \\right )} + r \\sin{\\left (\\theta \\right )} \\cos{\\left (\\phi \\right )} \\cos^{2}{\\left (\\theta \\right )} + 3 r \\cos^{3}{\\left (\\theta \\right )} - 2 \\sin{\\left (\\phi \\right )} \\sin^{2}{\\left (\\theta \\right )} \\cos{\\left (\\phi \\right )} + \\frac{1}{2} \\cos{\\left (\\phi - 2 \\theta \\right )} - \\frac{1}{2} \\cos{\\left (\\phi + 2 \\theta \\right )}\\right) \\right) \\mathrm{d} x + \\left( \\frac{r}{\\sqrt{r^{2} + 1}} \\left(- 3 r^{5} \\sin^{2}{\\left (\\phi \\right )} \\sin^{6}{\\left (\\theta \\right )} + 3 r^{5} \\sin^{2}{\\left (\\phi \\right )} \\sin^{4}{\\left (\\theta \\right )} + 3 r^{5} \\sin^{4}{\\left (\\theta \\right )} - 3 r^{5} \\sin^{2}{\\left (\\theta \\right )} - 2 r^{4} \\sin^{2}{\\left (\\phi \\right )} \\sin^{4}{\\left (\\theta \\right )} \\cos{\\left (\\theta \\right )} - 3 r^{4} \\sin{\\left (\\phi \\right )} \\sin^{2}{\\left (\\theta \\right )} \\cos{\\left (\\phi \\right )} \\cos^{3}{\\left (\\theta \\right )} - 2 r^{3} \\sin^{4}{\\left (\\phi \\right )} \\sin^{4}{\\left (\\theta \\right )} + 2 r^{3} \\sin^{2}{\\left (\\phi \\right )} \\sin^{4}{\\left (\\theta \\right )} - 2 r^{3} \\sin^{2}{\\left (\\phi \\right )} \\sin^{3}{\\left (\\theta \\right )} \\cos{\\left (\\phi \\right )} \\cos{\\left (\\theta \\right )} + 3 r^{3} \\sin^{4}{\\left (\\theta \\right )} - 3 r^{3} \\sin^{2}{\\left (\\theta \\right )} + r^{2} \\sin^{2}{\\left (\\phi \\right )} \\sin^{2}{\\left (\\theta \\right )} \\cos{\\left (\\theta \\right )} - \\sqrt{2} r^{2} \\sin^{3}{\\left (\\theta \\right )} \\sin{\\left (\\phi + \\frac{\\pi}{4} \\right )} + r^{2} \\sin^{3}{\\left (\\theta \\right )} \\cos^{3}{\\left (\\phi \\right )} - r^{2} \\sin^{2}{\\left (\\theta \\right )} \\cos{\\left (\\theta \\right )} + \\sqrt{2} r^{2} \\sin{\\left (\\theta \\right )} \\sin{\\left (\\phi + \\frac{\\pi}{4} \\right )} - r^{2} \\cos^{3}{\\left (\\theta \\right )} + \\sin{\\left (\\theta \\right )} \\cos{\\left (\\phi \\right )} - \\cos{\\left (\\theta \\right )}\\right) \\right) \\mathrm{d} y + \\left( \\frac{r}{\\sqrt{r^{2} + 1}} \\left(3 r^{5} \\sin{\\left (\\phi \\right )} \\sin^{3}{\\left (\\theta \\right )} \\cos^{3}{\\left (\\theta \\right )} + 2 r^{4} \\sin{\\left (\\phi \\right )} \\sin^{5}{\\left (\\theta \\right )} - 3 r^{4} \\sin^{5}{\\left (\\theta \\right )} \\cos{\\left (\\phi \\right )} + 6 r^{4} \\sin^{3}{\\left (\\theta \\right )} \\cos{\\left (\\phi \\right )} - 3 r^{4} \\sin{\\left (\\theta \\right )} \\cos{\\left (\\phi \\right )} - 2 r^{3} \\sin^{3}{\\left (\\phi \\right )} \\sin^{3}{\\left (\\theta \\right )} \\cos{\\left (\\theta \\right )} + 2 r^{3} \\sin{\\left (\\phi \\right )} \\sin^{4}{\\left (\\theta \\right )} \\cos{\\left (\\phi \\right )} + 2 r^{3} \\sin{\\left (\\phi \\right )} \\sin^{3}{\\left (\\theta \\right )} \\cos{\\left (\\theta \\right )} - 2 r^{3} \\sin{\\left (\\phi \\right )} \\sin^{2}{\\left (\\theta \\right )} \\cos{\\left (\\phi \\right )} + r^{2} \\sin{\\left (\\phi \\right )} \\sin^{3}{\\left (\\theta \\right )} - r^{2} \\sin{\\left (\\phi \\right )} \\sin^{2}{\\left (\\theta \\right )} \\cos{\\left (\\phi \\right )} \\cos{\\left (\\theta \\right )} + r^{2} \\sin{\\left (\\phi \\right )} \\sin{\\left (\\theta \\right )} - r^{2} \\sin^{2}{\\left (\\theta \\right )} \\cos{\\left (\\theta \\right )} - \\cos{\\left (\\theta \\right )}\\right) \\right) \\mathrm{d} z</script></html>"
      ],
      "text/plain": [
       "*A = r**2*(3*r**4*sin(phi)**3*sin(theta)**4*cos(phi)*cos(theta)**2 + 3*r**4*sin(phi)*sin(theta)**4*cos(phi)**3*cos(theta)**2 - 2*r**3*sin(phi)**3*sin(theta)**4*cos(phi)*cos(theta) + 3*r**3*sin(phi)**2*sin(theta)**2*cos(theta)**3 - 2*r**3*sin(phi)*sin(theta)**4*cos(phi)**3*cos(theta) + 3*r**3*cos(theta)**5 - r**2*(2*sin(2*phi) - sin(2*phi - 4*theta) - sin(2*phi + 4*theta))/16 - 2*r**2*sin(phi)**3*sin(theta)**4*cos(phi) + 2*r**2*sin(phi)**3*sin(theta)**3*cos(theta) + 2*r**2*sin(phi)*sin(theta)*cos(theta)**3 - r*sin(phi)*sin(theta)**3*cos(phi)**2 + r*sin(phi)*sin(theta)**2*cos(phi)*cos(theta) + r*sin(theta)*cos(phi)*cos(theta)**2 + 3*r*cos(theta)**3 - 2*sin(phi)*sin(theta)**2*cos(phi) + cos(phi - 2*theta)/2 - cos(phi + 2*theta)/2)/sqrt(r**2 + 1) dx + r*(-3*r**5*sin(phi)**2*sin(theta)**6 + 3*r**5*sin(phi)**2*sin(theta)**4 + 3*r**5*sin(theta)**4 - 3*r**5*sin(theta)**2 - 2*r**4*sin(phi)**2*sin(theta)**4*cos(theta) - 3*r**4*sin(phi)*sin(theta)**2*cos(phi)*cos(theta)**3 - 2*r**3*sin(phi)**4*sin(theta)**4 + 2*r**3*sin(phi)**2*sin(theta)**4 - 2*r**3*sin(phi)**2*sin(theta)**3*cos(phi)*cos(theta) + 3*r**3*sin(theta)**4 - 3*r**3*sin(theta)**2 + r**2*sin(phi)**2*sin(theta)**2*cos(theta) - sqrt(2)*r**2*sin(theta)**3*sin(phi + pi/4) + r**2*sin(theta)**3*cos(phi)**3 - r**2*sin(theta)**2*cos(theta) + sqrt(2)*r**2*sin(theta)*sin(phi + pi/4) - r**2*cos(theta)**3 + sin(theta)*cos(phi) - cos(theta))/sqrt(r**2 + 1) dy + r*(3*r**5*sin(phi)*sin(theta)**3*cos(theta)**3 + 2*r**4*sin(phi)*sin(theta)**5 - 3*r**4*sin(theta)**5*cos(phi) + 6*r**4*sin(theta)**3*cos(phi) - 3*r**4*sin(theta)*cos(phi) - 2*r**3*sin(phi)**3*sin(theta)**3*cos(theta) + 2*r**3*sin(phi)*sin(theta)**4*cos(phi) + 2*r**3*sin(phi)*sin(theta)**3*cos(theta) - 2*r**3*sin(phi)*sin(theta)**2*cos(phi) + r**2*sin(phi)*sin(theta)**3 - r**2*sin(phi)*sin(theta)**2*cos(phi)*cos(theta) + r**2*sin(phi)*sin(theta) - r**2*sin(theta)**2*cos(theta) - cos(theta))/sqrt(r**2 + 1) dz"
      ]
     },
     "execution_count": 268,
     "metadata": {},
     "output_type": "execute_result"
    }
   ],
   "source": [
    "sa = a.hodge_dual(g)\n",
    "print(sa) ; sa.display()"
   ]
  },
  {
   "cell_type": "markdown",
   "metadata": {
    "deletable": true,
    "editable": true
   },
   "source": [
    "<p>Finally, the Hodge dual of a 3-form is a 0-form:</p>"
   ]
  },
  {
   "cell_type": "code",
   "execution_count": 269,
   "metadata": {
    "collapsed": false,
    "deletable": true,
    "editable": true
   },
   "outputs": [
    {
     "name": "stdout",
     "output_type": "stream",
     "text": [
      "3-form dA on the Open subset U of the 3-dimensional differentiable manifold M\n"
     ]
    },
    {
     "data": {
      "text/html": [
       "<html><script type=\"math/tex; mode=display\">\\newcommand{\\Bold}[1]{\\mathbf{#1}}\\mathrm{d}A = \\left( - 6 r^{3} \\sin{\\left (\\phi \\right )} \\sin{\\left (\\theta \\right )} \\cos^{2}{\\left (\\theta \\right )} - 2 r \\sin{\\left (\\phi \\right )} \\sin{\\left (\\theta \\right )} - 1 \\right) \\mathrm{d} x\\wedge \\mathrm{d} y\\wedge \\mathrm{d} z</script></html>"
      ],
      "text/plain": [
       "dA = (-6*r**3*sin(phi)*sin(theta)*cos(theta)**2 - 2*r*sin(phi)*sin(theta) - 1) dx/\\dy/\\dz"
      ]
     },
     "execution_count": 269,
     "metadata": {},
     "output_type": "execute_result"
    }
   ],
   "source": [
    "print(da) ; da.display()"
   ]
  },
  {
   "cell_type": "code",
   "execution_count": 270,
   "metadata": {
    "collapsed": false,
    "deletable": true,
    "editable": true
   },
   "outputs": [
    {
     "name": "stdout",
     "output_type": "stream",
     "text": [
      "Scalar field *dA on the Open subset U of the 3-dimensional differentiable manifold M\n"
     ]
    },
    {
     "data": {
      "text/html": [
       "<html><script type=\"math/tex; mode=display\">\\newcommand{\\Bold}[1]{\\mathbf{#1}}\\begin{array}{llcl} \\star \\mathrm{d}A:& U & \\longrightarrow & \\mathbb{R} \\\\ & \\left(x, y, z\\right) & \\longmapsto & - \\frac{1}{6} \\left(36 y z^{2} + 12 y + 6\\right) \\sqrt{x^{2} + y^{2} + z^{2} + 1} \\\\ & \\left(r, {\\theta}, {\\phi}\\right) & \\longmapsto & - \\frac{1}{6} \\sqrt{r^{2} + 1} \\left(36 r^{3} \\sin{\\left (\\phi \\right )} \\sin{\\left (\\theta \\right )} \\cos^{2}{\\left (\\theta \\right )} + 12 r \\sin{\\left (\\phi \\right )} \\sin{\\left (\\theta \\right )} + 6\\right) \\end{array}</script></html>"
      ],
      "text/plain": [
       "*dA: U --> R\n",
       "   (x, y, z) |--> -(36*y*z**2 + 12*y + 6)*sqrt(x**2 + y**2 + z**2 + 1)/6\n",
       "   (r, theta, phi) |--> -sqrt(r**2 + 1)*(36*r**3*sin(phi)*sin(theta)*cos(theta)**2 + 12*r*sin(phi)*sin(theta) + 6)/6"
      ]
     },
     "execution_count": 270,
     "metadata": {},
     "output_type": "execute_result"
    }
   ],
   "source": [
    "sda = da.hodge_dual(g)\n",
    "print(sda) ; sda.display()"
   ]
  },
  {
   "cell_type": "markdown",
   "metadata": {
    "deletable": true,
    "editable": true
   },
   "source": [
    "<p>In dimension 3 and for a Riemannian metric, the Hodge star is idempotent:</p>"
   ]
  },
  {
   "cell_type": "code",
   "execution_count": 271,
   "metadata": {
    "collapsed": false,
    "deletable": true,
    "editable": true
   },
   "outputs": [
    {
     "data": {
      "text/html": [
       "<html><script type=\"math/tex; mode=display\">\\newcommand{\\Bold}[1]{\\mathbf{#1}}\\mathrm{True}</script></html>"
      ],
      "text/plain": [
       "True"
      ]
     },
     "execution_count": 271,
     "metadata": {},
     "output_type": "execute_result"
    }
   ],
   "source": [
    "sf.hodge_dual(g) == f"
   ]
  },
  {
   "cell_type": "code",
   "execution_count": 272,
   "metadata": {
    "collapsed": false,
    "deletable": true,
    "editable": true
   },
   "outputs": [
    {
     "data": {
      "text/html": [
       "<html><script type=\"math/tex; mode=display\">\\newcommand{\\Bold}[1]{\\mathbf{#1}}\\mathrm{True}</script></html>"
      ],
      "text/plain": [
       "True"
      ]
     },
     "execution_count": 272,
     "metadata": {},
     "output_type": "execute_result"
    }
   ],
   "source": [
    "som.hodge_dual(g) == om"
   ]
  },
  {
   "cell_type": "code",
   "execution_count": 273,
   "metadata": {
    "collapsed": false,
    "deletable": true,
    "editable": true
   },
   "outputs": [
    {
     "data": {
      "text/html": [
       "<html><script type=\"math/tex; mode=display\">\\newcommand{\\Bold}[1]{\\mathbf{#1}}\\mathrm{True}</script></html>"
      ],
      "text/plain": [
       "True"
      ]
     },
     "execution_count": 273,
     "metadata": {},
     "output_type": "execute_result"
    }
   ],
   "source": [
    "sa.hodge_dual(g) == a"
   ]
  },
  {
   "cell_type": "code",
   "execution_count": 274,
   "metadata": {
    "collapsed": false,
    "deletable": true,
    "editable": true
   },
   "outputs": [
    {
     "data": {
      "text/html": [
       "<html><script type=\"math/tex; mode=display\">\\newcommand{\\Bold}[1]{\\mathbf{#1}}\\mathrm{True}</script></html>"
      ],
      "text/plain": [
       "True"
      ]
     },
     "execution_count": 274,
     "metadata": {},
     "output_type": "execute_result"
    }
   ],
   "source": [
    "sda.hodge_dual(g) == da"
   ]
  },
  {
   "cell_type": "markdown",
   "metadata": {
    "deletable": true,
    "editable": true
   },
   "source": [
    "<h2>Getting help</h2>\n",
    "<p><span>To get the list of functions (methods) that can be called on a object, type the name of the object, followed by a dot and the TAB key, e.g. </span></p>\n",
    "<p><span><span style=\"font-family: courier new,courier;\">sa.<tab></span><br /></span></p>\n",
    "<p><span id=\"cell_outer_269\">To get information on an object or a method, use the question mark:</span></p>"
   ]
  },
  {
   "cell_type": "code",
   "execution_count": 275,
   "metadata": {
    "collapsed": false,
    "deletable": true,
    "editable": true
   },
   "outputs": [],
   "source": [
    "nabla?"
   ]
  },
  {
   "cell_type": "code",
   "execution_count": 276,
   "metadata": {
    "collapsed": false,
    "deletable": true,
    "editable": true
   },
   "outputs": [],
   "source": [
    "g.ricci_scalar?"
   ]
  },
  {
   "cell_type": "markdown",
   "metadata": {
    "deletable": true,
    "editable": true
   },
   "source": [
    "<p>Using a double question mark leads directly to the <strong>Python</strong> <strong>source code</strong> (SageMath is <span style=\"color: #ff0000;\"><strong>open source</strong></span>, isn't it?)<span style=\"color: #ff0000;\"><br /></span></p>"
   ]
  },
  {
   "cell_type": "code",
   "execution_count": 277,
   "metadata": {
    "collapsed": false,
    "deletable": true,
    "editable": true
   },
   "outputs": [],
   "source": [
    "g.ricci_scalar??"
   ]
  },
  {
   "cell_type": "markdown",
   "metadata": {
    "deletable": true,
    "editable": true
   },
   "source": [
    "<h2>Going further</h2>\n",
    "<p>Have a look at the <a href=\"http://sagemanifolds.obspm.fr/examples.html\">examples on SageManifolds page</a>, especially the <a href=\"http://nbviewer.jupyter.org/github/sagemanifolds/SageManifolds/blob/master/Worksheets/v1.0/SM_sphere_S2.ipynb\">2-dimensional sphere example</a> for usage on a non-parallelizable manifold (each scalar field has to be defined in at least two coordinate charts, the module $\\mathfrak{X}(\\mathcal{M})$ is no longer free and each tensor field has to be defined in at least two vector frames).</p>"
   ]
  }
 ],
 "metadata": {
  "kernelspec": {
   "display_name": "SageMath 8.1.beta8",
   "language": "",
   "name": "sagemath"
  },
  "language": "python",
  "language_info": {
   "codemirror_mode": {
    "name": "ipython",
    "version": 2
   },
   "file_extension": ".py",
   "mimetype": "text/x-python",
   "name": "python",
   "nbconvert_exporter": "python",
   "pygments_lexer": "ipython2",
   "version": "2.7.14"
  }
 },
 "nbformat": 4,
 "nbformat_minor": 0
}
