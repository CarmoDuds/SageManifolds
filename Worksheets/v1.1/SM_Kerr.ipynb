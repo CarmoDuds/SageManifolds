{
 "cells": [
  {
   "cell_type": "markdown",
   "metadata": {
    "deletable": true,
    "editable": true
   },
   "source": [
    "# Kerr spacetime\n",
    "\n",
    "This worksheet demonstrates a few capabilities of SageMath in computations regarding Kerr spacetime. The corresponding tools have been developed within the  [SageManifolds](http://sagemanifolds.obspm.fr) project (version 1.1, as included in SageMath 8.1).\n",
    "\n",
    "Click [here](https://raw.githubusercontent.com/sagemanifolds/SageManifolds/master/Worksheets/v1.1/SM_Kerr.ipynb) to download the worksheet file (ipynb format). To run it, you must start SageMath within the Jupyter notebook, via the command `sage -n jupyter`"
   ]
  },
  {
   "cell_type": "markdown",
   "metadata": {
    "deletable": true,
    "editable": true
   },
   "source": [
    "*NB:* a version of SageMath at least equal to 7.5 is required to run this worksheet:"
   ]
  },
  {
   "cell_type": "code",
   "execution_count": 1,
   "metadata": {
    "collapsed": false,
    "deletable": true,
    "editable": true
   },
   "outputs": [
    {
     "data": {
      "text/plain": [
       "'SageMath version 8.1, Release Date: 2017-12-07'"
      ]
     },
     "execution_count": 1,
     "metadata": {},
     "output_type": "execute_result"
    }
   ],
   "source": [
    "version()"
   ]
  },
  {
   "cell_type": "markdown",
   "metadata": {
    "deletable": true,
    "editable": true
   },
   "source": [
    "First we set up the notebook to display mathematical objects using LaTeX rendering:"
   ]
  },
  {
   "cell_type": "code",
   "execution_count": 2,
   "metadata": {
    "collapsed": true,
    "deletable": true,
    "editable": true
   },
   "outputs": [],
   "source": [
    "%display latex"
   ]
  },
  {
   "cell_type": "markdown",
   "metadata": {
    "deletable": true,
    "editable": true
   },
   "source": [
    "We also define a viewer for 3D plots (use `'threejs'` or `'jmol'` for interactive 3D graphics):"
   ]
  },
  {
   "cell_type": "code",
   "execution_count": 3,
   "metadata": {
    "collapsed": true,
    "deletable": true,
    "editable": true
   },
   "outputs": [],
   "source": [
    "viewer3D = 'threejs' # must be 'threejs', jmol', 'tachyon' or None (default)"
   ]
  },
  {
   "cell_type": "markdown",
   "metadata": {
    "deletable": true,
    "editable": true
   },
   "source": [
    "Since some computations are quite long, we ask for running them in parallel on 8 cores:"
   ]
  },
  {
   "cell_type": "code",
   "execution_count": 4,
   "metadata": {
    "collapsed": true,
    "deletable": true,
    "editable": true
   },
   "outputs": [],
   "source": [
    "Parallelism().set(nproc=8)"
   ]
  },
  {
   "cell_type": "markdown",
   "metadata": {
    "deletable": true,
    "editable": true
   },
   "source": [
    "## Spacetime manifold\n",
    "\n",
    "We declare the Kerr spacetime as a 4-dimensional diffentiable manifold:"
   ]
  },
  {
   "cell_type": "code",
   "execution_count": 5,
   "metadata": {
    "collapsed": false,
    "deletable": true,
    "editable": true
   },
   "outputs": [
    {
     "name": "stdout",
     "output_type": "stream",
     "text": [
      "4-dimensional differentiable manifold M\n"
     ]
    }
   ],
   "source": [
    "M = Manifold(4, 'M', r'\\mathcal{M}')\n",
    "print(M)"
   ]
  },
  {
   "cell_type": "markdown",
   "metadata": {
    "deletable": true,
    "editable": true
   },
   "source": [
    "Let us use the standard **Boyer-Lindquist coordinates** on it, by first introducing the part $\\mathcal{M}_0$ covered by these coordinates and then declaring a chart `BL` (for *Boyer-Lindquist*) on $\\mathcal{M}_0$, via the method `chart()`, the argument of which is a string expressing the coordinates names, their ranges (the default is $(-\\infty,+\\infty)$) and their LaTeX symbols:"
   ]
  },
  {
   "cell_type": "code",
   "execution_count": 6,
   "metadata": {
    "collapsed": false,
    "deletable": true,
    "editable": true
   },
   "outputs": [
    {
     "name": "stdout",
     "output_type": "stream",
     "text": [
      "Chart (M0, (t, r, th, ph))\n"
     ]
    },
    {
     "data": {
      "text/html": [
       "<html><script type=\"math/tex; mode=display\">\\newcommand{\\Bold}[1]{\\mathbf{#1}}\\left(\\mathcal{M}_0,(t, r, {\\theta}, {\\phi})\\right)</script></html>"
      ],
      "text/plain": [
       "Chart (M0, (t, r, th, ph))"
      ]
     },
     "execution_count": 6,
     "metadata": {},
     "output_type": "execute_result"
    }
   ],
   "source": [
    "M0 = M.open_subset('M0', r'\\mathcal{M}_0')\n",
    "BL.<t,r,th,ph> = M0.chart(r't r:(0,+oo) th:(0,pi):\\theta ph:(0,2*pi):\\phi') \n",
    "print(BL) ; BL"
   ]
  },
  {
   "cell_type": "code",
   "execution_count": 7,
   "metadata": {
    "collapsed": false,
    "deletable": true,
    "editable": true
   },
   "outputs": [
    {
     "data": {
      "text/html": [
       "<html><script type=\"math/tex; mode=display\">\\newcommand{\\Bold}[1]{\\mathbf{#1}}\\left(t, r\\right)</script></html>"
      ],
      "text/plain": [
       "(t, r)"
      ]
     },
     "execution_count": 7,
     "metadata": {},
     "output_type": "execute_result"
    }
   ],
   "source": [
    "BL[0], BL[1]"
   ]
  },
  {
   "cell_type": "markdown",
   "metadata": {
    "deletable": true,
    "editable": true
   },
   "source": [
    "<h2>Metric tensor</h2>\n",
    "\n",
    "<p>The 2 parameters $m$ and $a$ of the Kerr spacetime are declared as symbolic variables:</p>"
   ]
  },
  {
   "cell_type": "code",
   "execution_count": 8,
   "metadata": {
    "collapsed": false,
    "deletable": true,
    "editable": true
   },
   "outputs": [
    {
     "data": {
      "text/html": [
       "<html><script type=\"math/tex; mode=display\">\\newcommand{\\Bold}[1]{\\mathbf{#1}}\\left(m, a\\right)</script></html>"
      ],
      "text/plain": [
       "(m, a)"
      ]
     },
     "execution_count": 8,
     "metadata": {},
     "output_type": "execute_result"
    }
   ],
   "source": [
    "var('m, a', domain='real')"
   ]
  },
  {
   "cell_type": "markdown",
   "metadata": {
    "deletable": true,
    "editable": true
   },
   "source": [
    "<p>Let us introduce the spacetime metric:</p>"
   ]
  },
  {
   "cell_type": "code",
   "execution_count": 9,
   "metadata": {
    "collapsed": false,
    "deletable": true,
    "editable": true
   },
   "outputs": [],
   "source": [
    "g = M.lorentzian_metric('g')"
   ]
  },
  {
   "cell_type": "markdown",
   "metadata": {
    "deletable": true,
    "editable": true
   },
   "source": [
    "<p>The metric is set by its components in the coordinate frame associated with Boyer-Lindquist coordinates, which is the current manifold's default frame:</p>"
   ]
  },
  {
   "cell_type": "code",
   "execution_count": 10,
   "metadata": {
    "collapsed": false,
    "deletable": true,
    "editable": true
   },
   "outputs": [
    {
     "data": {
      "text/html": [
       "<html><script type=\"math/tex; mode=display\">\\newcommand{\\Bold}[1]{\\mathbf{#1}}g = \\left( \\frac{2 \\, m r}{a^{2} \\cos\\left({\\theta}\\right)^{2} + r^{2}} - 1 \\right) \\mathrm{d} t\\otimes \\mathrm{d} t + \\left( -\\frac{2 \\, a m r \\sin\\left({\\theta}\\right)^{2}}{a^{2} \\cos\\left({\\theta}\\right)^{2} + r^{2}} \\right) \\mathrm{d} t\\otimes \\mathrm{d} {\\phi} + \\left( \\frac{a^{2} \\cos\\left({\\theta}\\right)^{2} + r^{2}}{a^{2} - 2 \\, m r + r^{2}} \\right) \\mathrm{d} r\\otimes \\mathrm{d} r + \\left( a^{2} \\cos\\left({\\theta}\\right)^{2} + r^{2} \\right) \\mathrm{d} {\\theta}\\otimes \\mathrm{d} {\\theta} + \\left( -\\frac{2 \\, a m r \\sin\\left({\\theta}\\right)^{2}}{a^{2} \\cos\\left({\\theta}\\right)^{2} + r^{2}} \\right) \\mathrm{d} {\\phi}\\otimes \\mathrm{d} t + {\\left(\\frac{2 \\, a^{2} m r \\sin\\left({\\theta}\\right)^{2}}{a^{2} \\cos\\left({\\theta}\\right)^{2} + r^{2}} + a^{2} + r^{2}\\right)} \\sin\\left({\\theta}\\right)^{2} \\mathrm{d} {\\phi}\\otimes \\mathrm{d} {\\phi}</script></html>"
      ],
      "text/plain": [
       "g = (2*m*r/(a^2*cos(th)^2 + r^2) - 1) dt*dt - 2*a*m*r*sin(th)^2/(a^2*cos(th)^2 + r^2) dt*dph + (a^2*cos(th)^2 + r^2)/(a^2 - 2*m*r + r^2) dr*dr + (a^2*cos(th)^2 + r^2) dth*dth - 2*a*m*r*sin(th)^2/(a^2*cos(th)^2 + r^2) dph*dt + (2*a^2*m*r*sin(th)^2/(a^2*cos(th)^2 + r^2) + a^2 + r^2)*sin(th)^2 dph*dph"
      ]
     },
     "execution_count": 10,
     "metadata": {},
     "output_type": "execute_result"
    }
   ],
   "source": [
    "rho2 = r^2 + (a*cos(th))^2\n",
    "Delta = r^2 -2*m*r + a^2\n",
    "g[0,0] = -(1-2*m*r/rho2)\n",
    "g[0,3] = -2*a*m*r*sin(th)^2/rho2\n",
    "g[1,1], g[2,2] = rho2/Delta, rho2\n",
    "g[3,3] = (r^2+a^2+2*m*r*(a*sin(th))^2/rho2)*sin(th)^2\n",
    "g.display()"
   ]
  },
  {
   "cell_type": "markdown",
   "metadata": {
    "deletable": true,
    "editable": true
   },
   "source": [
    "<p>A matrix view of the components with respect to the manifold's default vector frame:</p>"
   ]
  },
  {
   "cell_type": "code",
   "execution_count": 11,
   "metadata": {
    "collapsed": false,
    "deletable": true,
    "editable": true
   },
   "outputs": [
    {
     "data": {
      "text/html": [
       "<html><script type=\"math/tex; mode=display\">\\newcommand{\\Bold}[1]{\\mathbf{#1}}\\left(\\begin{array}{rrrr}\n",
       "\\frac{2 \\, m r}{a^{2} \\cos\\left({\\theta}\\right)^{2} + r^{2}} - 1 & 0 & 0 & -\\frac{2 \\, a m r \\sin\\left({\\theta}\\right)^{2}}{a^{2} \\cos\\left({\\theta}\\right)^{2} + r^{2}} \\\\\n",
       "0 & \\frac{a^{2} \\cos\\left({\\theta}\\right)^{2} + r^{2}}{a^{2} - 2 \\, m r + r^{2}} & 0 & 0 \\\\\n",
       "0 & 0 & a^{2} \\cos\\left({\\theta}\\right)^{2} + r^{2} & 0 \\\\\n",
       "-\\frac{2 \\, a m r \\sin\\left({\\theta}\\right)^{2}}{a^{2} \\cos\\left({\\theta}\\right)^{2} + r^{2}} & 0 & 0 & {\\left(\\frac{2 \\, a^{2} m r \\sin\\left({\\theta}\\right)^{2}}{a^{2} \\cos\\left({\\theta}\\right)^{2} + r^{2}} + a^{2} + r^{2}\\right)} \\sin\\left({\\theta}\\right)^{2}\n",
       "\\end{array}\\right)</script></html>"
      ],
      "text/plain": [
       "[                                  2*m*r/(a^2*cos(th)^2 + r^2) - 1                                                                 0                                                                 0                          -2*a*m*r*sin(th)^2/(a^2*cos(th)^2 + r^2)]\n",
       "[                                                                0                         (a^2*cos(th)^2 + r^2)/(a^2 - 2*m*r + r^2)                                                                 0                                                                 0]\n",
       "[                                                                0                                                                 0                                               a^2*cos(th)^2 + r^2                                                                 0]\n",
       "[                         -2*a*m*r*sin(th)^2/(a^2*cos(th)^2 + r^2)                                                                 0                                                                 0 (2*a^2*m*r*sin(th)^2/(a^2*cos(th)^2 + r^2) + a^2 + r^2)*sin(th)^2]"
      ]
     },
     "execution_count": 11,
     "metadata": {},
     "output_type": "execute_result"
    }
   ],
   "source": [
    "g[:]"
   ]
  },
  {
   "cell_type": "markdown",
   "metadata": {
    "deletable": true,
    "editable": true
   },
   "source": [
    "<p>The list of the non-vanishing components:</p>"
   ]
  },
  {
   "cell_type": "code",
   "execution_count": 12,
   "metadata": {
    "collapsed": false,
    "deletable": true,
    "editable": true
   },
   "outputs": [
    {
     "data": {
      "text/html": [
       "<html><script type=\"math/tex; mode=display\">\\newcommand{\\Bold}[1]{\\mathbf{#1}}\\begin{array}{lcl} g_{ \\, t \\, t }^{ \\phantom{\\, t}\\phantom{\\, t} } & = & \\frac{2 \\, m r}{a^{2} \\cos\\left({\\theta}\\right)^{2} + r^{2}} - 1 \\\\ g_{ \\, t \\, {\\phi} }^{ \\phantom{\\, t}\\phantom{\\, {\\phi}} } & = & -\\frac{2 \\, a m r \\sin\\left({\\theta}\\right)^{2}}{a^{2} \\cos\\left({\\theta}\\right)^{2} + r^{2}} \\\\ g_{ \\, r \\, r }^{ \\phantom{\\, r}\\phantom{\\, r} } & = & \\frac{a^{2} \\cos\\left({\\theta}\\right)^{2} + r^{2}}{a^{2} - 2 \\, m r + r^{2}} \\\\ g_{ \\, {\\theta} \\, {\\theta} }^{ \\phantom{\\, {\\theta}}\\phantom{\\, {\\theta}} } & = & a^{2} \\cos\\left({\\theta}\\right)^{2} + r^{2} \\\\ g_{ \\, {\\phi} \\, t }^{ \\phantom{\\, {\\phi}}\\phantom{\\, t} } & = & -\\frac{2 \\, a m r \\sin\\left({\\theta}\\right)^{2}}{a^{2} \\cos\\left({\\theta}\\right)^{2} + r^{2}} \\\\ g_{ \\, {\\phi} \\, {\\phi} }^{ \\phantom{\\, {\\phi}}\\phantom{\\, {\\phi}} } & = & {\\left(\\frac{2 \\, a^{2} m r \\sin\\left({\\theta}\\right)^{2}}{a^{2} \\cos\\left({\\theta}\\right)^{2} + r^{2}} + a^{2} + r^{2}\\right)} \\sin\\left({\\theta}\\right)^{2} \\end{array}</script></html>"
      ],
      "text/plain": [
       "g_t,t = 2*m*r/(a^2*cos(th)^2 + r^2) - 1 \n",
       "g_t,ph = -2*a*m*r*sin(th)^2/(a^2*cos(th)^2 + r^2) \n",
       "g_r,r = (a^2*cos(th)^2 + r^2)/(a^2 - 2*m*r + r^2) \n",
       "g_th,th = a^2*cos(th)^2 + r^2 \n",
       "g_ph,t = -2*a*m*r*sin(th)^2/(a^2*cos(th)^2 + r^2) \n",
       "g_ph,ph = (2*a^2*m*r*sin(th)^2/(a^2*cos(th)^2 + r^2) + a^2 + r^2)*sin(th)^2 "
      ]
     },
     "execution_count": 12,
     "metadata": {},
     "output_type": "execute_result"
    }
   ],
   "source": [
    "g.display_comp()"
   ]
  },
  {
   "cell_type": "markdown",
   "metadata": {
    "deletable": true,
    "editable": true
   },
   "source": [
    "<h2>Levi-Civita Connection</h2>\n",
    "\n",
    "<p>The Levi-Civita connection $\\nabla$ associated with $g$:</p>"
   ]
  },
  {
   "cell_type": "code",
   "execution_count": 13,
   "metadata": {
    "collapsed": false,
    "deletable": true,
    "editable": true
   },
   "outputs": [
    {
     "name": "stdout",
     "output_type": "stream",
     "text": [
      "Levi-Civita connection nabla_g associated with the Lorentzian metric g on the 4-dimensional differentiable manifold M\n"
     ]
    }
   ],
   "source": [
    "nabla = g.connection() ; print(nabla)"
   ]
  },
  {
   "cell_type": "markdown",
   "metadata": {
    "deletable": true,
    "editable": true
   },
   "source": [
    "<p>Let us verify that the covariant derivative of $g$ with respect to $\\nabla$ vanishes identically:</p>"
   ]
  },
  {
   "cell_type": "code",
   "execution_count": 14,
   "metadata": {
    "collapsed": false,
    "deletable": true,
    "editable": true
   },
   "outputs": [
    {
     "data": {
      "text/html": [
       "<html><script type=\"math/tex; mode=display\">\\newcommand{\\Bold}[1]{\\mathbf{#1}}\\mathrm{True}</script></html>"
      ],
      "text/plain": [
       "True"
      ]
     },
     "execution_count": 14,
     "metadata": {},
     "output_type": "execute_result"
    }
   ],
   "source": [
    "nabla(g) == 0"
   ]
  },
  {
   "cell_type": "markdown",
   "metadata": {
    "deletable": true,
    "editable": true
   },
   "source": [
    "<p>Another view of the above property:</p>"
   ]
  },
  {
   "cell_type": "code",
   "execution_count": 15,
   "metadata": {
    "collapsed": false,
    "deletable": true,
    "editable": true
   },
   "outputs": [
    {
     "data": {
      "text/html": [
       "<html><script type=\"math/tex; mode=display\">\\newcommand{\\Bold}[1]{\\mathbf{#1}}\\nabla_{g} g = 0</script></html>"
      ],
      "text/plain": [
       "nabla_g(g) = 0"
      ]
     },
     "execution_count": 15,
     "metadata": {},
     "output_type": "execute_result"
    }
   ],
   "source": [
    "nabla(g).display()"
   ]
  },
  {
   "cell_type": "markdown",
   "metadata": {
    "deletable": true,
    "editable": true
   },
   "source": [
    "<p>The nonzero Christoffel symbols (skipping those that can be deduced by symmetry of the last two indices):</p>"
   ]
  },
  {
   "cell_type": "code",
   "execution_count": 16,
   "metadata": {
    "collapsed": false,
    "deletable": true,
    "editable": true
   },
   "outputs": [
    {
     "data": {
      "text/html": [
       "<html><script type=\"math/tex; mode=display\">\\newcommand{\\Bold}[1]{\\mathbf{#1}}\\begin{array}{lcl} \\Gamma_{ \\phantom{\\, t} \\, t \\, r }^{ \\, t \\phantom{\\, t} \\phantom{\\, r} } & = & \\frac{a^{2} m r^{2} + m r^{4} - {\\left(a^{4} m + a^{2} m r^{2}\\right)} \\cos\\left({\\theta}\\right)^{2}}{a^{2} r^{4} - 2 \\, m r^{5} + r^{6} + {\\left(a^{6} - 2 \\, a^{4} m r + a^{4} r^{2}\\right)} \\cos\\left({\\theta}\\right)^{4} + 2 \\, {\\left(a^{4} r^{2} - 2 \\, a^{2} m r^{3} + a^{2} r^{4}\\right)} \\cos\\left({\\theta}\\right)^{2}} \\\\ \\Gamma_{ \\phantom{\\, t} \\, t \\, {\\theta} }^{ \\, t \\phantom{\\, t} \\phantom{\\, {\\theta}} } & = & -\\frac{2 \\, a^{2} m r \\cos\\left({\\theta}\\right) \\sin\\left({\\theta}\\right)}{a^{4} \\cos\\left({\\theta}\\right)^{4} + 2 \\, a^{2} r^{2} \\cos\\left({\\theta}\\right)^{2} + r^{4}} \\\\ \\Gamma_{ \\phantom{\\, t} \\, r \\, {\\phi} }^{ \\, t \\phantom{\\, r} \\phantom{\\, {\\phi}} } & = & -\\frac{{\\left(a^{3} m r^{2} + 3 \\, a m r^{4} - {\\left(a^{5} m - a^{3} m r^{2}\\right)} \\cos\\left({\\theta}\\right)^{2}\\right)} \\sin\\left({\\theta}\\right)^{2}}{a^{2} r^{4} - 2 \\, m r^{5} + r^{6} + {\\left(a^{6} - 2 \\, a^{4} m r + a^{4} r^{2}\\right)} \\cos\\left({\\theta}\\right)^{4} + 2 \\, {\\left(a^{4} r^{2} - 2 \\, a^{2} m r^{3} + a^{2} r^{4}\\right)} \\cos\\left({\\theta}\\right)^{2}} \\\\ \\Gamma_{ \\phantom{\\, t} \\, {\\theta} \\, {\\phi} }^{ \\, t \\phantom{\\, {\\theta}} \\phantom{\\, {\\phi}} } & = & -\\frac{2 \\, {\\left(a^{5} m r \\cos\\left({\\theta}\\right) \\sin\\left({\\theta}\\right)^{5} - {\\left(a^{5} m r + a^{3} m r^{3}\\right)} \\cos\\left({\\theta}\\right) \\sin\\left({\\theta}\\right)^{3}\\right)}}{a^{6} \\cos\\left({\\theta}\\right)^{6} + 3 \\, a^{4} r^{2} \\cos\\left({\\theta}\\right)^{4} + 3 \\, a^{2} r^{4} \\cos\\left({\\theta}\\right)^{2} + r^{6}} \\\\ \\Gamma_{ \\phantom{\\, r} \\, t \\, t }^{ \\, r \\phantom{\\, t} \\phantom{\\, t} } & = & \\frac{a^{2} m r^{2} - 2 \\, m^{2} r^{3} + m r^{4} - {\\left(a^{4} m - 2 \\, a^{2} m^{2} r + a^{2} m r^{2}\\right)} \\cos\\left({\\theta}\\right)^{2}}{a^{6} \\cos\\left({\\theta}\\right)^{6} + 3 \\, a^{4} r^{2} \\cos\\left({\\theta}\\right)^{4} + 3 \\, a^{2} r^{4} \\cos\\left({\\theta}\\right)^{2} + r^{6}} \\\\ \\Gamma_{ \\phantom{\\, r} \\, t \\, {\\phi} }^{ \\, r \\phantom{\\, t} \\phantom{\\, {\\phi}} } & = & -\\frac{{\\left(a^{3} m r^{2} - 2 \\, a m^{2} r^{3} + a m r^{4} - {\\left(a^{5} m - 2 \\, a^{3} m^{2} r + a^{3} m r^{2}\\right)} \\cos\\left({\\theta}\\right)^{2}\\right)} \\sin\\left({\\theta}\\right)^{2}}{a^{6} \\cos\\left({\\theta}\\right)^{6} + 3 \\, a^{4} r^{2} \\cos\\left({\\theta}\\right)^{4} + 3 \\, a^{2} r^{4} \\cos\\left({\\theta}\\right)^{2} + r^{6}} \\\\ \\Gamma_{ \\phantom{\\, r} \\, r \\, r }^{ \\, r \\phantom{\\, r} \\phantom{\\, r} } & = & \\frac{a^{2} r - m r^{2} + {\\left(a^{2} m - a^{2} r\\right)} \\cos\\left({\\theta}\\right)^{2}}{a^{2} r^{2} - 2 \\, m r^{3} + r^{4} + {\\left(a^{4} - 2 \\, a^{2} m r + a^{2} r^{2}\\right)} \\cos\\left({\\theta}\\right)^{2}} \\\\ \\Gamma_{ \\phantom{\\, r} \\, r \\, {\\theta} }^{ \\, r \\phantom{\\, r} \\phantom{\\, {\\theta}} } & = & -\\frac{a^{2} \\cos\\left({\\theta}\\right) \\sin\\left({\\theta}\\right)}{a^{2} \\cos\\left({\\theta}\\right)^{2} + r^{2}} \\\\ \\Gamma_{ \\phantom{\\, r} \\, {\\theta} \\, {\\theta} }^{ \\, r \\phantom{\\, {\\theta}} \\phantom{\\, {\\theta}} } & = & -\\frac{a^{2} r - 2 \\, m r^{2} + r^{3}}{a^{2} \\cos\\left({\\theta}\\right)^{2} + r^{2}} \\\\ \\Gamma_{ \\phantom{\\, r} \\, {\\phi} \\, {\\phi} }^{ \\, r \\phantom{\\, {\\phi}} \\phantom{\\, {\\phi}} } & = & \\frac{{\\left(a^{4} m r^{2} - 2 \\, a^{2} m^{2} r^{3} + a^{2} m r^{4} - {\\left(a^{6} m - 2 \\, a^{4} m^{2} r + a^{4} m r^{2}\\right)} \\cos\\left({\\theta}\\right)^{2}\\right)} \\sin\\left({\\theta}\\right)^{4} - {\\left(a^{2} r^{5} - 2 \\, m r^{6} + r^{7} + {\\left(a^{6} r - 2 \\, a^{4} m r^{2} + a^{4} r^{3}\\right)} \\cos\\left({\\theta}\\right)^{4} + 2 \\, {\\left(a^{4} r^{3} - 2 \\, a^{2} m r^{4} + a^{2} r^{5}\\right)} \\cos\\left({\\theta}\\right)^{2}\\right)} \\sin\\left({\\theta}\\right)^{2}}{a^{6} \\cos\\left({\\theta}\\right)^{6} + 3 \\, a^{4} r^{2} \\cos\\left({\\theta}\\right)^{4} + 3 \\, a^{2} r^{4} \\cos\\left({\\theta}\\right)^{2} + r^{6}} \\\\ \\Gamma_{ \\phantom{\\, {\\theta}} \\, t \\, t }^{ \\, {\\theta} \\phantom{\\, t} \\phantom{\\, t} } & = & -\\frac{2 \\, a^{2} m r \\cos\\left({\\theta}\\right) \\sin\\left({\\theta}\\right)}{a^{6} \\cos\\left({\\theta}\\right)^{6} + 3 \\, a^{4} r^{2} \\cos\\left({\\theta}\\right)^{4} + 3 \\, a^{2} r^{4} \\cos\\left({\\theta}\\right)^{2} + r^{6}} \\\\ \\Gamma_{ \\phantom{\\, {\\theta}} \\, t \\, {\\phi} }^{ \\, {\\theta} \\phantom{\\, t} \\phantom{\\, {\\phi}} } & = & \\frac{2 \\, {\\left(a^{3} m r + a m r^{3}\\right)} \\cos\\left({\\theta}\\right) \\sin\\left({\\theta}\\right)}{a^{6} \\cos\\left({\\theta}\\right)^{6} + 3 \\, a^{4} r^{2} \\cos\\left({\\theta}\\right)^{4} + 3 \\, a^{2} r^{4} \\cos\\left({\\theta}\\right)^{2} + r^{6}} \\\\ \\Gamma_{ \\phantom{\\, {\\theta}} \\, r \\, r }^{ \\, {\\theta} \\phantom{\\, r} \\phantom{\\, r} } & = & \\frac{a^{2} \\cos\\left({\\theta}\\right) \\sin\\left({\\theta}\\right)}{a^{2} r^{2} - 2 \\, m r^{3} + r^{4} + {\\left(a^{4} - 2 \\, a^{2} m r + a^{2} r^{2}\\right)} \\cos\\left({\\theta}\\right)^{2}} \\\\ \\Gamma_{ \\phantom{\\, {\\theta}} \\, r \\, {\\theta} }^{ \\, {\\theta} \\phantom{\\, r} \\phantom{\\, {\\theta}} } & = & \\frac{r}{a^{2} \\cos\\left({\\theta}\\right)^{2} + r^{2}} \\\\ \\Gamma_{ \\phantom{\\, {\\theta}} \\, {\\theta} \\, {\\theta} }^{ \\, {\\theta} \\phantom{\\, {\\theta}} \\phantom{\\, {\\theta}} } & = & -\\frac{a^{2} \\cos\\left({\\theta}\\right) \\sin\\left({\\theta}\\right)}{a^{2} \\cos\\left({\\theta}\\right)^{2} + r^{2}} \\\\ \\Gamma_{ \\phantom{\\, {\\theta}} \\, {\\phi} \\, {\\phi} }^{ \\, {\\theta} \\phantom{\\, {\\phi}} \\phantom{\\, {\\phi}} } & = & -\\frac{{\\left({\\left(a^{6} - 2 \\, a^{4} m r + a^{4} r^{2}\\right)} \\cos\\left({\\theta}\\right)^{5} + 2 \\, {\\left(a^{4} r^{2} - 2 \\, a^{2} m r^{3} + a^{2} r^{4}\\right)} \\cos\\left({\\theta}\\right)^{3} + {\\left(2 \\, a^{4} m r + 4 \\, a^{2} m r^{3} + a^{2} r^{4} + r^{6}\\right)} \\cos\\left({\\theta}\\right)\\right)} \\sin\\left({\\theta}\\right)}{a^{6} \\cos\\left({\\theta}\\right)^{6} + 3 \\, a^{4} r^{2} \\cos\\left({\\theta}\\right)^{4} + 3 \\, a^{2} r^{4} \\cos\\left({\\theta}\\right)^{2} + r^{6}} \\\\ \\Gamma_{ \\phantom{\\, {\\phi}} \\, t \\, r }^{ \\, {\\phi} \\phantom{\\, t} \\phantom{\\, r} } & = & -\\frac{a^{3} m \\cos\\left({\\theta}\\right)^{2} - a m r^{2}}{a^{2} r^{4} - 2 \\, m r^{5} + r^{6} + {\\left(a^{6} - 2 \\, a^{4} m r + a^{4} r^{2}\\right)} \\cos\\left({\\theta}\\right)^{4} + 2 \\, {\\left(a^{4} r^{2} - 2 \\, a^{2} m r^{3} + a^{2} r^{4}\\right)} \\cos\\left({\\theta}\\right)^{2}} \\\\ \\Gamma_{ \\phantom{\\, {\\phi}} \\, t \\, {\\theta} }^{ \\, {\\phi} \\phantom{\\, t} \\phantom{\\, {\\theta}} } & = & -\\frac{2 \\, a m r \\cos\\left({\\theta}\\right)}{{\\left(a^{4} \\cos\\left({\\theta}\\right)^{4} + 2 \\, a^{2} r^{2} \\cos\\left({\\theta}\\right)^{2} + r^{4}\\right)} \\sin\\left({\\theta}\\right)} \\\\ \\Gamma_{ \\phantom{\\, {\\phi}} \\, r \\, {\\phi} }^{ \\, {\\phi} \\phantom{\\, r} \\phantom{\\, {\\phi}} } & = & -\\frac{a^{2} m r^{2} + 2 \\, m r^{4} - r^{5} + {\\left(a^{4} m - a^{4} r\\right)} \\cos\\left({\\theta}\\right)^{4} - {\\left(a^{4} m - a^{2} m r^{2} + 2 \\, a^{2} r^{3}\\right)} \\cos\\left({\\theta}\\right)^{2}}{a^{2} r^{4} - 2 \\, m r^{5} + r^{6} + {\\left(a^{6} - 2 \\, a^{4} m r + a^{4} r^{2}\\right)} \\cos\\left({\\theta}\\right)^{4} + 2 \\, {\\left(a^{4} r^{2} - 2 \\, a^{2} m r^{3} + a^{2} r^{4}\\right)} \\cos\\left({\\theta}\\right)^{2}} \\\\ \\Gamma_{ \\phantom{\\, {\\phi}} \\, {\\theta} \\, {\\phi} }^{ \\, {\\phi} \\phantom{\\, {\\theta}} \\phantom{\\, {\\phi}} } & = & \\frac{a^{4} \\cos\\left({\\theta}\\right) \\sin\\left({\\theta}\\right)^{4} - 2 \\, {\\left(a^{4} - a^{2} m r + a^{2} r^{2}\\right)} \\cos\\left({\\theta}\\right) \\sin\\left({\\theta}\\right)^{2} + {\\left(a^{4} + 2 \\, a^{2} r^{2} + r^{4}\\right)} \\cos\\left({\\theta}\\right)}{{\\left(a^{4} \\cos\\left({\\theta}\\right)^{4} + 2 \\, a^{2} r^{2} \\cos\\left({\\theta}\\right)^{2} + r^{4}\\right)} \\sin\\left({\\theta}\\right)} \\end{array}</script></html>"
      ],
      "text/plain": [
       "Gam^t_t,r = (a^2*m*r^2 + m*r^4 - (a^4*m + a^2*m*r^2)*cos(th)^2)/(a^2*r^4 - 2*m*r^5 + r^6 + (a^6 - 2*a^4*m*r + a^4*r^2)*cos(th)^4 + 2*(a^4*r^2 - 2*a^2*m*r^3 + a^2*r^4)*cos(th)^2) \n",
       "Gam^t_t,th = -2*a^2*m*r*cos(th)*sin(th)/(a^4*cos(th)^4 + 2*a^2*r^2*cos(th)^2 + r^4) \n",
       "Gam^t_r,ph = -(a^3*m*r^2 + 3*a*m*r^4 - (a^5*m - a^3*m*r^2)*cos(th)^2)*sin(th)^2/(a^2*r^4 - 2*m*r^5 + r^6 + (a^6 - 2*a^4*m*r + a^4*r^2)*cos(th)^4 + 2*(a^4*r^2 - 2*a^2*m*r^3 + a^2*r^4)*cos(th)^2) \n",
       "Gam^t_th,ph = -2*(a^5*m*r*cos(th)*sin(th)^5 - (a^5*m*r + a^3*m*r^3)*cos(th)*sin(th)^3)/(a^6*cos(th)^6 + 3*a^4*r^2*cos(th)^4 + 3*a^2*r^4*cos(th)^2 + r^6) \n",
       "Gam^r_t,t = (a^2*m*r^2 - 2*m^2*r^3 + m*r^4 - (a^4*m - 2*a^2*m^2*r + a^2*m*r^2)*cos(th)^2)/(a^6*cos(th)^6 + 3*a^4*r^2*cos(th)^4 + 3*a^2*r^4*cos(th)^2 + r^6) \n",
       "Gam^r_t,ph = -(a^3*m*r^2 - 2*a*m^2*r^3 + a*m*r^4 - (a^5*m - 2*a^3*m^2*r + a^3*m*r^2)*cos(th)^2)*sin(th)^2/(a^6*cos(th)^6 + 3*a^4*r^2*cos(th)^4 + 3*a^2*r^4*cos(th)^2 + r^6) \n",
       "Gam^r_r,r = (a^2*r - m*r^2 + (a^2*m - a^2*r)*cos(th)^2)/(a^2*r^2 - 2*m*r^3 + r^4 + (a^4 - 2*a^2*m*r + a^2*r^2)*cos(th)^2) \n",
       "Gam^r_r,th = -a^2*cos(th)*sin(th)/(a^2*cos(th)^2 + r^2) \n",
       "Gam^r_th,th = -(a^2*r - 2*m*r^2 + r^3)/(a^2*cos(th)^2 + r^2) \n",
       "Gam^r_ph,ph = ((a^4*m*r^2 - 2*a^2*m^2*r^3 + a^2*m*r^4 - (a^6*m - 2*a^4*m^2*r + a^4*m*r^2)*cos(th)^2)*sin(th)^4 - (a^2*r^5 - 2*m*r^6 + r^7 + (a^6*r - 2*a^4*m*r^2 + a^4*r^3)*cos(th)^4 + 2*(a^4*r^3 - 2*a^2*m*r^4 + a^2*r^5)*cos(th)^2)*sin(th)^2)/(a^6*cos(th)^6 + 3*a^4*r^2*cos(th)^4 + 3*a^2*r^4*cos(th)^2 + r^6) \n",
       "Gam^th_t,t = -2*a^2*m*r*cos(th)*sin(th)/(a^6*cos(th)^6 + 3*a^4*r^2*cos(th)^4 + 3*a^2*r^4*cos(th)^2 + r^6) \n",
       "Gam^th_t,ph = 2*(a^3*m*r + a*m*r^3)*cos(th)*sin(th)/(a^6*cos(th)^6 + 3*a^4*r^2*cos(th)^4 + 3*a^2*r^4*cos(th)^2 + r^6) \n",
       "Gam^th_r,r = a^2*cos(th)*sin(th)/(a^2*r^2 - 2*m*r^3 + r^4 + (a^4 - 2*a^2*m*r + a^2*r^2)*cos(th)^2) \n",
       "Gam^th_r,th = r/(a^2*cos(th)^2 + r^2) \n",
       "Gam^th_th,th = -a^2*cos(th)*sin(th)/(a^2*cos(th)^2 + r^2) \n",
       "Gam^th_ph,ph = -((a^6 - 2*a^4*m*r + a^4*r^2)*cos(th)^5 + 2*(a^4*r^2 - 2*a^2*m*r^3 + a^2*r^4)*cos(th)^3 + (2*a^4*m*r + 4*a^2*m*r^3 + a^2*r^4 + r^6)*cos(th))*sin(th)/(a^6*cos(th)^6 + 3*a^4*r^2*cos(th)^4 + 3*a^2*r^4*cos(th)^2 + r^6) \n",
       "Gam^ph_t,r = -(a^3*m*cos(th)^2 - a*m*r^2)/(a^2*r^4 - 2*m*r^5 + r^6 + (a^6 - 2*a^4*m*r + a^4*r^2)*cos(th)^4 + 2*(a^4*r^2 - 2*a^2*m*r^3 + a^2*r^4)*cos(th)^2) \n",
       "Gam^ph_t,th = -2*a*m*r*cos(th)/((a^4*cos(th)^4 + 2*a^2*r^2*cos(th)^2 + r^4)*sin(th)) \n",
       "Gam^ph_r,ph = -(a^2*m*r^2 + 2*m*r^4 - r^5 + (a^4*m - a^4*r)*cos(th)^4 - (a^4*m - a^2*m*r^2 + 2*a^2*r^3)*cos(th)^2)/(a^2*r^4 - 2*m*r^5 + r^6 + (a^6 - 2*a^4*m*r + a^4*r^2)*cos(th)^4 + 2*(a^4*r^2 - 2*a^2*m*r^3 + a^2*r^4)*cos(th)^2) \n",
       "Gam^ph_th,ph = (a^4*cos(th)*sin(th)^4 - 2*(a^4 - a^2*m*r + a^2*r^2)*cos(th)*sin(th)^2 + (a^4 + 2*a^2*r^2 + r^4)*cos(th))/((a^4*cos(th)^4 + 2*a^2*r^2*cos(th)^2 + r^4)*sin(th)) "
      ]
     },
     "execution_count": 16,
     "metadata": {},
     "output_type": "execute_result"
    }
   ],
   "source": [
    "g.christoffel_symbols_display()"
   ]
  },
  {
   "cell_type": "markdown",
   "metadata": {
    "deletable": true,
    "editable": true
   },
   "source": [
    "<h2>Killing vectors</h2>\n",
    "<p>The default vector frame on the spacetime manifold is the coordinate basis associated with Boyer-Lindquist coordinates:</p>"
   ]
  },
  {
   "cell_type": "code",
   "execution_count": 17,
   "metadata": {
    "collapsed": false,
    "deletable": true,
    "editable": true
   },
   "outputs": [
    {
     "data": {
      "text/html": [
       "<html><script type=\"math/tex; mode=display\">\\newcommand{\\Bold}[1]{\\mathbf{#1}}\\mathrm{True}</script></html>"
      ],
      "text/plain": [
       "True"
      ]
     },
     "execution_count": 17,
     "metadata": {},
     "output_type": "execute_result"
    }
   ],
   "source": [
    "M.default_frame() is BL.frame()"
   ]
  },
  {
   "cell_type": "code",
   "execution_count": 18,
   "metadata": {
    "collapsed": false,
    "deletable": true,
    "editable": true
   },
   "outputs": [
    {
     "data": {
      "text/html": [
       "<html><script type=\"math/tex; mode=display\">\\newcommand{\\Bold}[1]{\\mathbf{#1}}\\left(\\mathcal{M}_0, \\left(\\frac{\\partial}{\\partial t },\\frac{\\partial}{\\partial r },\\frac{\\partial}{\\partial {\\theta} },\\frac{\\partial}{\\partial {\\phi} }\\right)\\right)</script></html>"
      ],
      "text/plain": [
       "Coordinate frame (M0, (d/dt,d/dr,d/dth,d/dph))"
      ]
     },
     "execution_count": 18,
     "metadata": {},
     "output_type": "execute_result"
    }
   ],
   "source": [
    "BL.frame()"
   ]
  },
  {
   "cell_type": "markdown",
   "metadata": {
    "deletable": true,
    "editable": true
   },
   "source": [
    "<p>Let us consider the first vector field of this frame:</p>"
   ]
  },
  {
   "cell_type": "code",
   "execution_count": 19,
   "metadata": {
    "collapsed": false,
    "deletable": true,
    "editable": true
   },
   "outputs": [
    {
     "data": {
      "text/html": [
       "<html><script type=\"math/tex; mode=display\">\\newcommand{\\Bold}[1]{\\mathbf{#1}}\\frac{\\partial}{\\partial t }</script></html>"
      ],
      "text/plain": [
       "Vector field d/dt on the Open subset M0 of the 4-dimensional differentiable manifold M"
      ]
     },
     "execution_count": 19,
     "metadata": {},
     "output_type": "execute_result"
    }
   ],
   "source": [
    "xi = BL.frame()[0] ; xi"
   ]
  },
  {
   "cell_type": "code",
   "execution_count": 20,
   "metadata": {
    "collapsed": false,
    "deletable": true,
    "editable": true
   },
   "outputs": [
    {
     "name": "stdout",
     "output_type": "stream",
     "text": [
      "Vector field d/dt on the Open subset M0 of the 4-dimensional differentiable manifold M\n"
     ]
    }
   ],
   "source": [
    "print(xi)"
   ]
  },
  {
   "cell_type": "markdown",
   "metadata": {
    "deletable": true,
    "editable": true
   },
   "source": [
    "<p>The 1-form associated to it by metric duality is</p>"
   ]
  },
  {
   "cell_type": "code",
   "execution_count": 21,
   "metadata": {
    "collapsed": false,
    "deletable": true,
    "editable": true
   },
   "outputs": [
    {
     "data": {
      "text/html": [
       "<html><script type=\"math/tex; mode=display\">\\newcommand{\\Bold}[1]{\\mathbf{#1}}\\left( -\\frac{a^{2} \\cos\\left({\\theta}\\right)^{2} - 2 \\, m r + r^{2}}{a^{2} \\cos\\left({\\theta}\\right)^{2} + r^{2}} \\right) \\mathrm{d} t + \\left( -\\frac{2 \\, a m r \\sin\\left({\\theta}\\right)^{2}}{a^{2} \\cos\\left({\\theta}\\right)^{2} + r^{2}} \\right) \\mathrm{d} {\\phi}</script></html>"
      ],
      "text/plain": [
       "-(a^2*cos(th)^2 - 2*m*r + r^2)/(a^2*cos(th)^2 + r^2) dt - 2*a*m*r*sin(th)^2/(a^2*cos(th)^2 + r^2) dph"
      ]
     },
     "execution_count": 21,
     "metadata": {},
     "output_type": "execute_result"
    }
   ],
   "source": [
    "xi_form = xi.down(g) ; xi_form.display()"
   ]
  },
  {
   "cell_type": "markdown",
   "metadata": {
    "deletable": true,
    "editable": true
   },
   "source": [
    "<p>Its covariant derivative is</p>"
   ]
  },
  {
   "cell_type": "code",
   "execution_count": 22,
   "metadata": {
    "collapsed": false,
    "deletable": true,
    "editable": true
   },
   "outputs": [
    {
     "name": "stdout",
     "output_type": "stream",
     "text": [
      "Tensor field of type (0,2) on the Open subset M0 of the 4-dimensional differentiable manifold M\n"
     ]
    },
    {
     "data": {
      "text/html": [
       "<html><script type=\"math/tex; mode=display\">\\newcommand{\\Bold}[1]{\\mathbf{#1}}\\left( \\frac{a^{2} m \\cos\\left({\\theta}\\right)^{2} - m r^{2}}{a^{4} \\cos\\left({\\theta}\\right)^{4} + 2 \\, a^{2} r^{2} \\cos\\left({\\theta}\\right)^{2} + r^{4}} \\right) \\mathrm{d} t\\otimes \\mathrm{d} r + \\left( \\frac{2 \\, a^{2} m r \\cos\\left({\\theta}\\right) \\sin\\left({\\theta}\\right)}{a^{4} \\cos\\left({\\theta}\\right)^{4} + 2 \\, a^{2} r^{2} \\cos\\left({\\theta}\\right)^{2} + r^{4}} \\right) \\mathrm{d} t\\otimes \\mathrm{d} {\\theta} + \\left( -\\frac{a^{2} m \\cos\\left({\\theta}\\right)^{2} - m r^{2}}{a^{4} \\cos\\left({\\theta}\\right)^{4} + 2 \\, a^{2} r^{2} \\cos\\left({\\theta}\\right)^{2} + r^{4}} \\right) \\mathrm{d} r\\otimes \\mathrm{d} t + \\left( \\frac{{\\left(a^{3} m \\cos\\left({\\theta}\\right)^{2} - a m r^{2}\\right)} \\sin\\left({\\theta}\\right)^{2}}{a^{4} \\cos\\left({\\theta}\\right)^{4} + 2 \\, a^{2} r^{2} \\cos\\left({\\theta}\\right)^{2} + r^{4}} \\right) \\mathrm{d} r\\otimes \\mathrm{d} {\\phi} + \\left( -\\frac{2 \\, a^{2} m r \\cos\\left({\\theta}\\right) \\sin\\left({\\theta}\\right)}{a^{4} \\cos\\left({\\theta}\\right)^{4} + 2 \\, a^{2} r^{2} \\cos\\left({\\theta}\\right)^{2} + r^{4}} \\right) \\mathrm{d} {\\theta}\\otimes \\mathrm{d} t + \\left( \\frac{2 \\, {\\left(a^{3} m r + a m r^{3}\\right)} \\cos\\left({\\theta}\\right) \\sin\\left({\\theta}\\right)}{a^{4} \\cos\\left({\\theta}\\right)^{4} + 2 \\, a^{2} r^{2} \\cos\\left({\\theta}\\right)^{2} + r^{4}} \\right) \\mathrm{d} {\\theta}\\otimes \\mathrm{d} {\\phi} + \\left( -\\frac{{\\left(a^{3} m \\cos\\left({\\theta}\\right)^{2} - a m r^{2}\\right)} \\sin\\left({\\theta}\\right)^{2}}{a^{4} \\cos\\left({\\theta}\\right)^{4} + 2 \\, a^{2} r^{2} \\cos\\left({\\theta}\\right)^{2} + r^{4}} \\right) \\mathrm{d} {\\phi}\\otimes \\mathrm{d} r + \\left( -\\frac{2 \\, {\\left(a^{3} m r + a m r^{3}\\right)} \\cos\\left({\\theta}\\right) \\sin\\left({\\theta}\\right)}{a^{4} \\cos\\left({\\theta}\\right)^{4} + 2 \\, a^{2} r^{2} \\cos\\left({\\theta}\\right)^{2} + r^{4}} \\right) \\mathrm{d} {\\phi}\\otimes \\mathrm{d} {\\theta}</script></html>"
      ],
      "text/plain": [
       "(a^2*m*cos(th)^2 - m*r^2)/(a^4*cos(th)^4 + 2*a^2*r^2*cos(th)^2 + r^4) dt*dr + 2*a^2*m*r*cos(th)*sin(th)/(a^4*cos(th)^4 + 2*a^2*r^2*cos(th)^2 + r^4) dt*dth - (a^2*m*cos(th)^2 - m*r^2)/(a^4*cos(th)^4 + 2*a^2*r^2*cos(th)^2 + r^4) dr*dt + (a^3*m*cos(th)^2 - a*m*r^2)*sin(th)^2/(a^4*cos(th)^4 + 2*a^2*r^2*cos(th)^2 + r^4) dr*dph - 2*a^2*m*r*cos(th)*sin(th)/(a^4*cos(th)^4 + 2*a^2*r^2*cos(th)^2 + r^4) dth*dt + 2*(a^3*m*r + a*m*r^3)*cos(th)*sin(th)/(a^4*cos(th)^4 + 2*a^2*r^2*cos(th)^2 + r^4) dth*dph - (a^3*m*cos(th)^2 - a*m*r^2)*sin(th)^2/(a^4*cos(th)^4 + 2*a^2*r^2*cos(th)^2 + r^4) dph*dr - 2*(a^3*m*r + a*m*r^3)*cos(th)*sin(th)/(a^4*cos(th)^4 + 2*a^2*r^2*cos(th)^2 + r^4) dph*dth"
      ]
     },
     "execution_count": 22,
     "metadata": {},
     "output_type": "execute_result"
    }
   ],
   "source": [
    "nab_xi = nabla(xi_form) ; print(nab_xi) ; nab_xi.display()"
   ]
  },
  {
   "cell_type": "markdown",
   "metadata": {
    "deletable": true,
    "editable": true
   },
   "source": [
    "<p>Let us check that the Killing equation is satisfied:</p>"
   ]
  },
  {
   "cell_type": "code",
   "execution_count": 23,
   "metadata": {
    "collapsed": false,
    "deletable": true,
    "editable": true
   },
   "outputs": [
    {
     "data": {
      "text/html": [
       "<html><script type=\"math/tex; mode=display\">\\newcommand{\\Bold}[1]{\\mathbf{#1}}\\mathrm{True}</script></html>"
      ],
      "text/plain": [
       "True"
      ]
     },
     "execution_count": 23,
     "metadata": {},
     "output_type": "execute_result"
    }
   ],
   "source": [
    "nab_xi.symmetrize() == 0"
   ]
  },
  {
   "cell_type": "markdown",
   "metadata": {
    "deletable": true,
    "editable": true
   },
   "source": [
    "<p>Similarly, let us check that $\\frac{\\partial}{\\partial\\phi}$ is a Killing vector:</p>"
   ]
  },
  {
   "cell_type": "code",
   "execution_count": 24,
   "metadata": {
    "collapsed": false,
    "deletable": true,
    "editable": true
   },
   "outputs": [
    {
     "data": {
      "text/html": [
       "<html><script type=\"math/tex; mode=display\">\\newcommand{\\Bold}[1]{\\mathbf{#1}}\\frac{\\partial}{\\partial {\\phi} }</script></html>"
      ],
      "text/plain": [
       "Vector field d/dph on the Open subset M0 of the 4-dimensional differentiable manifold M"
      ]
     },
     "execution_count": 24,
     "metadata": {},
     "output_type": "execute_result"
    }
   ],
   "source": [
    "chi = BL.frame()[3] ; chi"
   ]
  },
  {
   "cell_type": "code",
   "execution_count": 25,
   "metadata": {
    "collapsed": false,
    "deletable": true,
    "editable": true
   },
   "outputs": [
    {
     "data": {
      "text/html": [
       "<html><script type=\"math/tex; mode=display\">\\newcommand{\\Bold}[1]{\\mathbf{#1}}\\mathrm{True}</script></html>"
      ],
      "text/plain": [
       "True"
      ]
     },
     "execution_count": 25,
     "metadata": {},
     "output_type": "execute_result"
    }
   ],
   "source": [
    "nabla(chi.down(g)).symmetrize() == 0"
   ]
  },
  {
   "cell_type": "markdown",
   "metadata": {
    "deletable": true,
    "editable": true
   },
   "source": [
    "<h2>Curvature</h2>\n",
    "\n",
    "<p>The Ricci tensor associated with $g$:</p>"
   ]
  },
  {
   "cell_type": "code",
   "execution_count": 26,
   "metadata": {
    "collapsed": false,
    "deletable": true,
    "editable": true
   },
   "outputs": [
    {
     "name": "stdout",
     "output_type": "stream",
     "text": [
      "Field of symmetric bilinear forms Ric(g) on the 4-dimensional differentiable manifold M\n"
     ]
    }
   ],
   "source": [
    "Ric = g.ricci() ; print(Ric)"
   ]
  },
  {
   "cell_type": "markdown",
   "metadata": {
    "deletable": true,
    "editable": true
   },
   "source": [
    "<p>Let us check that the Kerr metric is a solution of the vacuum Einstein equation:</p>"
   ]
  },
  {
   "cell_type": "code",
   "execution_count": 27,
   "metadata": {
    "collapsed": false,
    "deletable": true,
    "editable": true
   },
   "outputs": [
    {
     "data": {
      "text/html": [
       "<html><script type=\"math/tex; mode=display\">\\newcommand{\\Bold}[1]{\\mathbf{#1}}\\mathrm{True}</script></html>"
      ],
      "text/plain": [
       "True"
      ]
     },
     "execution_count": 27,
     "metadata": {},
     "output_type": "execute_result"
    }
   ],
   "source": [
    "Ric == 0"
   ]
  },
  {
   "cell_type": "markdown",
   "metadata": {
    "deletable": true,
    "editable": true
   },
   "source": [
    "<p>Another view of the above property:</p>"
   ]
  },
  {
   "cell_type": "code",
   "execution_count": 28,
   "metadata": {
    "collapsed": false,
    "deletable": true,
    "editable": true
   },
   "outputs": [
    {
     "data": {
      "text/html": [
       "<html><script type=\"math/tex; mode=display\">\\newcommand{\\Bold}[1]{\\mathbf{#1}}\\mathrm{Ric}\\left(g\\right) = 0</script></html>"
      ],
      "text/plain": [
       "Ric(g) = 0"
      ]
     },
     "execution_count": 28,
     "metadata": {},
     "output_type": "execute_result"
    }
   ],
   "source": [
    "Ric.display()"
   ]
  },
  {
   "cell_type": "markdown",
   "metadata": {
    "deletable": true,
    "editable": true
   },
   "source": [
    "<p>The Riemann curvature tensor associated with $g$:</p>"
   ]
  },
  {
   "cell_type": "code",
   "execution_count": 29,
   "metadata": {
    "collapsed": false,
    "deletable": true,
    "editable": true
   },
   "outputs": [
    {
     "name": "stdout",
     "output_type": "stream",
     "text": [
      "Tensor field Riem(g) of type (1,3) on the 4-dimensional differentiable manifold M\n"
     ]
    }
   ],
   "source": [
    "R = g.riemann() ; print(R)"
   ]
  },
  {
   "cell_type": "markdown",
   "metadata": {
    "deletable": true,
    "editable": true
   },
   "source": [
    "<p>Contrary to the Ricci tensor, the Riemann tensor does not vanish; for instance, the component $R^0_{\\ \\, 123}$ is</p>"
   ]
  },
  {
   "cell_type": "code",
   "execution_count": 30,
   "metadata": {
    "collapsed": false,
    "deletable": true,
    "editable": true
   },
   "outputs": [
    {
     "data": {
      "text/html": [
       "<html><script type=\"math/tex; mode=display\">\\newcommand{\\Bold}[1]{\\mathbf{#1}}-\\frac{{\\left(a^{7} m - 2 \\, a^{5} m^{2} r + a^{5} m r^{2}\\right)} \\cos\\left({\\theta}\\right) \\sin\\left({\\theta}\\right)^{5} + {\\left(a^{7} m + 2 \\, a^{5} m^{2} r + 6 \\, a^{5} m r^{2} - 6 \\, a^{3} m^{2} r^{3} + 5 \\, a^{3} m r^{4}\\right)} \\cos\\left({\\theta}\\right) \\sin\\left({\\theta}\\right)^{3} - 2 \\, {\\left(a^{7} m - a^{5} m r^{2} - 5 \\, a^{3} m r^{4} - 3 \\, a m r^{6}\\right)} \\cos\\left({\\theta}\\right) \\sin\\left({\\theta}\\right)}{a^{2} r^{6} - 2 \\, m r^{7} + r^{8} + {\\left(a^{8} - 2 \\, a^{6} m r + a^{6} r^{2}\\right)} \\cos\\left({\\theta}\\right)^{6} + 3 \\, {\\left(a^{6} r^{2} - 2 \\, a^{4} m r^{3} + a^{4} r^{4}\\right)} \\cos\\left({\\theta}\\right)^{4} + 3 \\, {\\left(a^{4} r^{4} - 2 \\, a^{2} m r^{5} + a^{2} r^{6}\\right)} \\cos\\left({\\theta}\\right)^{2}}</script></html>"
      ],
      "text/plain": [
       "-((a^7*m - 2*a^5*m^2*r + a^5*m*r^2)*cos(th)*sin(th)^5 + (a^7*m + 2*a^5*m^2*r + 6*a^5*m*r^2 - 6*a^3*m^2*r^3 + 5*a^3*m*r^4)*cos(th)*sin(th)^3 - 2*(a^7*m - a^5*m*r^2 - 5*a^3*m*r^4 - 3*a*m*r^6)*cos(th)*sin(th))/(a^2*r^6 - 2*m*r^7 + r^8 + (a^8 - 2*a^6*m*r + a^6*r^2)*cos(th)^6 + 3*(a^6*r^2 - 2*a^4*m*r^3 + a^4*r^4)*cos(th)^4 + 3*(a^4*r^4 - 2*a^2*m*r^5 + a^2*r^6)*cos(th)^2)"
      ]
     },
     "execution_count": 30,
     "metadata": {},
     "output_type": "execute_result"
    }
   ],
   "source": [
    "R[0,1,2,3]"
   ]
  },
  {
   "cell_type": "markdown",
   "metadata": {
    "deletable": true,
    "editable": true
   },
   "source": [
    "<h3>Bianchi identity</h3>\n",
    "\n",
    "<p>Let us check the Bianchi identity $\\nabla_p R^i_{\\ \\, j kl} + \\nabla_k R^i_{\\ \\, jlp} + \\nabla_l R^i_{\\ \\, jpk} = 0$:</p>"
   ]
  },
  {
   "cell_type": "code",
   "execution_count": 31,
   "metadata": {
    "collapsed": false,
    "deletable": true,
    "editable": true
   },
   "outputs": [
    {
     "name": "stdout",
     "output_type": "stream",
     "text": [
      "Tensor field nabla_g(Riem(g)) of type (1,4) on the 4-dimensional differentiable manifold M\n"
     ]
    }
   ],
   "source": [
    "DR = nabla(R) ; print(DR)  #long (takes a while)"
   ]
  },
  {
   "cell_type": "code",
   "execution_count": 32,
   "metadata": {
    "collapsed": false,
    "deletable": true,
    "editable": true
   },
   "outputs": [
    {
     "name": "stdout",
     "output_type": "stream",
     "text": [
      "0 0 0 0 0 0 0 0 0 0 0 0 0 0 0 0 0 0 0 0 0 0 0 0 0 0 0 0 0 0 0 0 0 0 0 0 0 0 0 0 0 0 0 0 0 0 0 0 0 0 0 0 0 0 0 0 0 0 0 0 0 0 0 0 0 0 0 0 0 0 0 0 0 0 0 0 0 0 0 0 0 0 0 0 0 0 0 0 0 0 0 0 0 0 0 0 0 0 0 0 0 0 0 0 0 0 0 0 0 0 0 0 0 0 0 0 0 0 0 0 0 0 0 0 0 0 0 0 0 0 0 0 0 0 0 0 0 0 0 0 0 0 0 0 0 0 0 0 0 0 0 0 0 0 0 0 0 0 0 0 0 0 0 0 0 0 0 0 0 0 0 0 0 0 0 0 0 0 0 0 0 0 0 0 0 0 0 0 0 0 0 0 0 0 0 0 0 0 0 0 0 0 0 0 0 0 0 0 0 0 0 0 0 0 0 0 0 0 0 0 0 0 0 0 0 0 0 0 0 0 0 0 0 0 0 0 0 0 0 0 0 0 0 0 0 0 0 0 0 0 0 0 0 0 0 0 0 0 0 0 0 0 0 0 0 0 0 0 0 0 0 0 0 0 0 0 0 0 0 0 0 0 0 0 0 0 0 0 0 0 0 0 0 0 0 0 0 0 0 0 0 0 0 0 0 0 0 0 0 0 0 0 0 0 0 0 0 0 0 0 0 0 0 0 0 0 0 0 0 0 0 0 0 0 0 0 0 0 0 0 0 0 0 0 0 0 0 0 0 0 0 0 0 0 0 0 0 0 0 0 0 0 0 0 0 0 0 0 0 0 0 0 0 0 0 0 0 0 0 0 0 0 0 0 0 0 0 0 0 0 0 0 0 0 0 0 0 0 0 0 0 0 0 0 0 0 0 0 0 0 0 0 0 0 0 0 0 0 0 0 0 0 0 0 0 0 0 0 0 0 0 0 0 0 0 0 0 0 0 0 0 0 0 0 0 0 0 0 0 0 0 0 0 0 0 0 0 0 0 0 0 0 0 0 0 0 0 0 0 0 0 0 0 0 0 0 0 0 0 0 0 0 0 0 0 0 0 0 0 0 0 0 0 0 0 0 0 0 0 0 0 0 0 0 0 0 0 0 0 0 0 0 0 0 0 0 0 0 0 0 0 0 0 0 0 0 0 0 0 0 0 0 0 0 0 0 0 0 0 0 0 0 0 0 0 0 0 0 0 0 0 0 0 0 0 0 0 0 0 0 0 0 0 0 0 0 0 0 0 0 0 0 0 0 0 0 0 0 0 0 0 0 0 0 0 0 0 0 0 0 0 0 0 0 0 0 0 0 0 0 0 0 0 0 0 0 0 0 0 0 0 0 0 0 0 0 0 0 0 0 0 0 0 0 0 0 0 0 0 0 0 0 0 0 0 0 0 0 0 0 0 0 0 0 0 0 0 0 0 0 0 0 0 0 0 0 0 0 0 0 0 0 0 0 0 0 0 0 0 0 0 0 0 0 0 0 0 0 0 0 0 0 0 0 0 0 0 0 0 0 0 0 0 0 0 0 0 0 0 0 0 0 0 0 0 0 0 0 0 0 0 0 0 0 0 0 0 0 0 0 0 0 0 0 0 0 0 0 0 0 0 0 0 0 0 0 0 0 0 0 0 0 0 0 0 0 0 0 0 0 0 0 0 0 0 0 0 0 0 0 0 0 0 0 0 0 0 0 0 0 0 0 0 0 0 0 0 0 0 0 0 0 0 0 0 0 0 0 0 0 0 0 0 0 0 0 0 0 0 0 0 0 0 0 0 0 0 0 0 0 0 0 0 0 0 0 0 0 0 0 0 0 0 0 0 0 0 0 0 0 0 0 0 0 0 0 0 0 0 0 0 0 0 0 0 0 0 0 0 0 0 0 0 0 0 0 0 0 0 0 0 0 0 0 0 0 0 0 0 0 0 0 0 0 0 0 0 0 0 0 0 0 0 0 0 0 0 0 0 0 0 0 0 0 0 0 0 0 0 0 0 0 0 0 0 0 0 0 0 0 0 0 0 0 0 0 0 0 0 0 0 0 0 0 0 0 0 0 0 0 0 0 0 0 0 0 0 0 0 0 0 0 0 0 0 0 0 0 0 0 0 0 0 0 0 0 0 0 0 0 0 0 0 0 0 0 0 0 0 0 0 0 0 0 0 0 0 0 0 0 0 0 0 0 0 0 0 0 0 0 0 0 0 0 0 0 0 0 0 0 0 0 0 0 0 0 0 0 0 0 0 0 0 0 0 0 0 0 0 0 0 0 0 0\n"
     ]
    }
   ],
   "source": [
    "for i in M.irange():\n",
    "    for j in M.irange():\n",
    "        for k in M.irange():\n",
    "            for l in M.irange():\n",
    "                for p in M.irange():\n",
    "                    print DR[i,j,k,l,p] + DR[i,j,l,p,k] + DR[i,j,p,k,l] ,"
   ]
  },
  {
   "cell_type": "markdown",
   "metadata": {
    "deletable": true,
    "editable": true
   },
   "source": [
    "<p>If the last sign in the Bianchi identity is changed to minus, the identity does no longer hold:</p>"
   ]
  },
  {
   "cell_type": "code",
   "execution_count": 33,
   "metadata": {
    "collapsed": false,
    "deletable": true,
    "editable": true
   },
   "outputs": [
    {
     "data": {
      "text/html": [
       "<html><script type=\"math/tex; mode=display\">\\newcommand{\\Bold}[1]{\\mathbf{#1}}0</script></html>"
      ],
      "text/plain": [
       "0"
      ]
     },
     "execution_count": 33,
     "metadata": {},
     "output_type": "execute_result"
    }
   ],
   "source": [
    "DR[0,1,2,3,1] + DR[0,1,3,1,2] + DR[0,1,1,2,3] # should be zero (Bianchi identity)"
   ]
  },
  {
   "cell_type": "code",
   "execution_count": 34,
   "metadata": {
    "collapsed": false,
    "deletable": true,
    "editable": true
   },
   "outputs": [
    {
     "data": {
      "text/html": [
       "<html><script type=\"math/tex; mode=display\">\\newcommand{\\Bold}[1]{\\mathbf{#1}}\\frac{24 \\, {\\left({\\left(a^{5} m r + a^{3} m r^{3}\\right)} \\cos\\left({\\theta}\\right) \\sin\\left({\\theta}\\right)^{3} - {\\left(a^{5} m r - a m r^{5}\\right)} \\cos\\left({\\theta}\\right) \\sin\\left({\\theta}\\right)\\right)}}{a^{2} r^{6} - 2 \\, m r^{7} + r^{8} + {\\left(a^{8} - 2 \\, a^{6} m r + a^{6} r^{2}\\right)} \\cos\\left({\\theta}\\right)^{6} + 3 \\, {\\left(a^{6} r^{2} - 2 \\, a^{4} m r^{3} + a^{4} r^{4}\\right)} \\cos\\left({\\theta}\\right)^{4} + 3 \\, {\\left(a^{4} r^{4} - 2 \\, a^{2} m r^{5} + a^{2} r^{6}\\right)} \\cos\\left({\\theta}\\right)^{2}}</script></html>"
      ],
      "text/plain": [
       "24*((a^5*m*r + a^3*m*r^3)*cos(th)*sin(th)^3 - (a^5*m*r - a*m*r^5)*cos(th)*sin(th))/(a^2*r^6 - 2*m*r^7 + r^8 + (a^8 - 2*a^6*m*r + a^6*r^2)*cos(th)^6 + 3*(a^6*r^2 - 2*a^4*m*r^3 + a^4*r^4)*cos(th)^4 + 3*(a^4*r^4 - 2*a^2*m*r^5 + a^2*r^6)*cos(th)^2)"
      ]
     },
     "execution_count": 34,
     "metadata": {},
     "output_type": "execute_result"
    }
   ],
   "source": [
    "DR[0,1,2,3,1] + DR[0,1,3,1,2] - DR[0,1,1,2,3] # note the change of the second + to -"
   ]
  },
  {
   "cell_type": "markdown",
   "metadata": {
    "deletable": true,
    "editable": true
   },
   "source": [
    "### Kretschmann scalar\n",
    "\n",
    "The tensor $R^\\flat$, of components $R_{abcd} = g_{am} R^m_{\\ \\, bcd}$:"
   ]
  },
  {
   "cell_type": "code",
   "execution_count": 35,
   "metadata": {
    "collapsed": false,
    "deletable": true,
    "editable": true
   },
   "outputs": [
    {
     "name": "stdout",
     "output_type": "stream",
     "text": [
      "Tensor field of type (0,4) on the 4-dimensional differentiable manifold M\n"
     ]
    }
   ],
   "source": [
    "dR = R.down(g) ; print(dR)"
   ]
  },
  {
   "cell_type": "markdown",
   "metadata": {
    "deletable": true,
    "editable": true
   },
   "source": [
    "The tensor $R^\\sharp$, of components $R^{abcd} = g^{bp} g^{cq} g^{dr} R^a_{\\ \\, pqr}$:"
   ]
  },
  {
   "cell_type": "code",
   "execution_count": 36,
   "metadata": {
    "collapsed": false,
    "deletable": true,
    "editable": true
   },
   "outputs": [
    {
     "name": "stdout",
     "output_type": "stream",
     "text": [
      "Tensor field of type (4,0) on the 4-dimensional differentiable manifold M\n"
     ]
    }
   ],
   "source": [
    "uR = R.up(g) ; print(uR)"
   ]
  },
  {
   "cell_type": "markdown",
   "metadata": {
    "deletable": true,
    "editable": true
   },
   "source": [
    "The Kretschmann scalar $K := R^{abcd} R_{abcd}$:"
   ]
  },
  {
   "cell_type": "code",
   "execution_count": 37,
   "metadata": {
    "collapsed": false,
    "deletable": true,
    "editable": true
   },
   "outputs": [
    {
     "data": {
      "text/html": [
       "<html><script type=\"math/tex; mode=display\">\\newcommand{\\Bold}[1]{\\mathbf{#1}}\\begin{array}{llcl} & \\mathcal{M} & \\longrightarrow & \\mathbb{R} \\\\ \\mbox{on}\\ \\mathcal{M}_0 : & \\left(t, r, {\\theta}, {\\phi}\\right) & \\longmapsto & -\\frac{48 \\, {\\left(a^{6} m^{2} \\cos\\left({\\theta}\\right)^{6} - 15 \\, a^{4} m^{2} r^{2} \\cos\\left({\\theta}\\right)^{4} + 15 \\, a^{2} m^{2} r^{4} \\cos\\left({\\theta}\\right)^{2} - m^{2} r^{6}\\right)}}{a^{12} \\cos\\left({\\theta}\\right)^{12} + 6 \\, a^{10} r^{2} \\cos\\left({\\theta}\\right)^{10} + 15 \\, a^{8} r^{4} \\cos\\left({\\theta}\\right)^{8} + 20 \\, a^{6} r^{6} \\cos\\left({\\theta}\\right)^{6} + 15 \\, a^{4} r^{8} \\cos\\left({\\theta}\\right)^{4} + 6 \\, a^{2} r^{10} \\cos\\left({\\theta}\\right)^{2} + r^{12}} \\end{array}</script></html>"
      ],
      "text/plain": [
       "M --> R\n",
       "on M0: (t, r, th, ph) |--> -48*(a^6*m^2*cos(th)^6 - 15*a^4*m^2*r^2*cos(th)^4 + 15*a^2*m^2*r^4*cos(th)^2 - m^2*r^6)/(a^12*cos(th)^12 + 6*a^10*r^2*cos(th)^10 + 15*a^8*r^4*cos(th)^8 + 20*a^6*r^6*cos(th)^6 + 15*a^4*r^8*cos(th)^4 + 6*a^2*r^10*cos(th)^2 + r^12)"
      ]
     },
     "execution_count": 37,
     "metadata": {},
     "output_type": "execute_result"
    }
   ],
   "source": [
    "Kr_scalar = uR['^{abcd}']*dR['_{abcd}']\n",
    "Kr_scalar.display()"
   ]
  },
  {
   "cell_type": "markdown",
   "metadata": {
    "deletable": true,
    "editable": true
   },
   "source": [
    "<p>A variant of this expression can be obtained by invoking the<span style=\"font-family: courier new,courier;\"> factor()</span> method on the coordinate function representing the scalar field in the manifold's default chart:</p>"
   ]
  },
  {
   "cell_type": "code",
   "execution_count": 38,
   "metadata": {
    "collapsed": false,
    "deletable": true,
    "editable": true
   },
   "outputs": [
    {
     "data": {
      "text/html": [
       "<html><script type=\"math/tex; mode=display\">\\newcommand{\\Bold}[1]{\\mathbf{#1}}-\\frac{48 \\, {\\left(a^{2} \\cos\\left({\\theta}\\right)^{2} + 4 \\, a r \\cos\\left({\\theta}\\right) + r^{2}\\right)} {\\left(a^{2} \\cos\\left({\\theta}\\right)^{2} - 4 \\, a r \\cos\\left({\\theta}\\right) + r^{2}\\right)} {\\left(a \\cos\\left({\\theta}\\right) + r\\right)} {\\left(a \\cos\\left({\\theta}\\right) - r\\right)} m^{2}}{{\\left(a^{2} \\cos\\left({\\theta}\\right)^{2} + r^{2}\\right)}^{6}}</script></html>"
      ],
      "text/plain": [
       "-48*(a^2*cos(th)^2 + 4*a*r*cos(th) + r^2)*(a^2*cos(th)^2 - 4*a*r*cos(th) + r^2)*(a*cos(th) + r)*(a*cos(th) - r)*m^2/(a^2*cos(th)^2 + r^2)^6"
      ]
     },
     "execution_count": 38,
     "metadata": {},
     "output_type": "execute_result"
    }
   ],
   "source": [
    "Kr = Kr_scalar.coord_function()\n",
    "Kr.factor()"
   ]
  },
  {
   "cell_type": "markdown",
   "metadata": {
    "deletable": true,
    "editable": true
   },
   "source": [
    "<p>As a check, we can compare Kr to the formula given by R. Conn Henry, <a href=\"http://iopscience.iop.org/0004-637X/535/1/350/fulltext/\">Astrophys. J. <strong>535</strong>, 350 (2000)</a>:</p>"
   ]
  },
  {
   "cell_type": "code",
   "execution_count": 39,
   "metadata": {
    "collapsed": false,
    "deletable": true,
    "editable": true
   },
   "outputs": [
    {
     "data": {
      "text/html": [
       "<html><script type=\"math/tex; mode=display\">\\newcommand{\\Bold}[1]{\\mathbf{#1}}\\mathrm{True}</script></html>"
      ],
      "text/plain": [
       "True"
      ]
     },
     "execution_count": 39,
     "metadata": {},
     "output_type": "execute_result"
    }
   ],
   "source": [
    "Kr == 48*m^2*(r^6 - 15*r^4*(a*cos(th))^2 + 15*r^2*(a*cos(th))^4 \n",
    "              - (a*cos(th))^6) / (r^2+(a*cos(th))^2)^6"
   ]
  },
  {
   "cell_type": "markdown",
   "metadata": {
    "deletable": true,
    "editable": true
   },
   "source": [
    "<p>The Schwarzschild value of the Kretschmann scalar is recovered by setting $a=0$:</p>"
   ]
  },
  {
   "cell_type": "code",
   "execution_count": 40,
   "metadata": {
    "collapsed": false,
    "deletable": true,
    "editable": true
   },
   "outputs": [
    {
     "data": {
      "text/html": [
       "<html><script type=\"math/tex; mode=display\">\\newcommand{\\Bold}[1]{\\mathbf{#1}}\\frac{48 \\, m^{2}}{r^{6}}</script></html>"
      ],
      "text/plain": [
       "48*m^2/r^6"
      ]
     },
     "execution_count": 40,
     "metadata": {},
     "output_type": "execute_result"
    }
   ],
   "source": [
    "Kr.expr().subs(a=0)"
   ]
  },
  {
   "cell_type": "markdown",
   "metadata": {
    "deletable": true,
    "editable": true
   },
   "source": [
    "<p>Let us plot the Kretschmann scalar for $m=1$ and  $a=0.9$:</p>"
   ]
  },
  {
   "cell_type": "code",
   "execution_count": 41,
   "metadata": {
    "collapsed": false,
    "deletable": true,
    "editable": true
   },
   "outputs": [
    {
     "data": {
      "text/html": [
       "\n",
       "<iframe srcdoc=\"<!DOCTYPE html>\n",
       "<html>\n",
       "<head>\n",
       "<title></title>\n",
       "<meta charset=&quot;utf-8&quot;>\n",
       "<meta name=viewport content=&quot;width=device-width, user-scalable=no, minimum-scale=1.0, maximum-scale=1.0&quot;>\n",
       "<style>\n",
       "\n",
       "    body { margin: 0px; overflow: hidden; }\n",
       "  \n",
       "</style>\n",
       "</head>\n",
       "\n",
       "<body>\n",
       "\n",
       "<script src=&quot;https://cdn.rawgit.com/mrdoob/three.js/r80/build/three.min.js&quot;></script>\n",
       "<script src=&quot;https://cdn.rawgit.com/mrdoob/three.js/r80/examples/js/controls/OrbitControls.js&quot;></script>\n",
       "            \n",
       "<script>\n",
       "\n",
       "    var scene = new THREE.Scene();\n",
       "\n",
       "    var renderer = new THREE.WebGLRenderer( { antialias: true } );\n",
       "    renderer.setSize( window.innerWidth, window.innerHeight );\n",
       "    renderer.setClearColor( 0xffffff, 1 );\n",
       "    document.body.appendChild( renderer.domElement );\n",
       "\n",
       "    var options = {&quot;aspect_ratio&quot;: [1.0, 1.0, 1.0], &quot;decimals&quot;: 2, &quot;frame&quot;: true, &quot;axes&quot;: false, &quot;axes_labels&quot;: [&quot;r&quot;, &quot;theta&quot;, &quot;Kr&quot;]};\n",
       "\n",
       "    // When animations are supported by the viewer, the value 'false'\n",
       "    // will be replaced with an option set in Python by the user\n",
       "    var animate = false; // options.animate;\n",
       "\n",
       "    var b = [{&quot;x&quot;:1.0, &quot;y&quot;:0.0, &quot;z&quot;:-22.8061601732}, {&quot;x&quot;:3.0, &quot;y&quot;:3.14159265359, &quot;z&quot;:46.6865845997}]; // bounds\n",
       "\n",
       "    if ( b[0].x === b[1].x ) {\n",
       "        b[0].x -= 1;\n",
       "        b[1].x += 1;\n",
       "    }\n",
       "    if ( b[0].y === b[1].y ) {\n",
       "        b[0].y -= 1;\n",
       "        b[1].y += 1;\n",
       "    }\n",
       "    if ( b[0].z === b[1].z ) {\n",
       "        b[0].z -= 1;\n",
       "        b[1].z += 1;\n",
       "    }\n",
       "\n",
       "    var rRange = Math.sqrt( Math.pow( b[1].x - b[0].x, 2 )\n",
       "                            + Math.pow( b[1].x - b[0].x, 2 ) );\n",
       "    var xRange = b[1].x - b[0].x;\n",
       "    var yRange = b[1].y - b[0].y;\n",
       "    var zRange = b[1].z - b[0].z;\n",
       "\n",
       "    var ar = options.aspect_ratio;\n",
       "    var a = [ ar[0], ar[1], ar[2] ]; // aspect multipliers\n",
       "    var autoAspect = 2.5;\n",
       "    if ( zRange > autoAspect * rRange && a[2] === 1 ) a[2] = autoAspect * rRange / zRange;\n",
       "\n",
       "    var xMid = ( b[0].x + b[1].x ) / 2;\n",
       "    var yMid = ( b[0].y + b[1].y ) / 2;\n",
       "    var zMid = ( b[0].z + b[1].z ) / 2;\n",
       "\n",
       "    var box = new THREE.Geometry();\n",
       "    box.vertices.push( new THREE.Vector3( a[0]*b[0].x, a[1]*b[0].y, a[2]*b[0].z ) );\n",
       "    box.vertices.push( new THREE.Vector3( a[0]*b[1].x, a[1]*b[1].y, a[2]*b[1].z ) );\n",
       "    var boxMesh = new THREE.LineSegments( box );\n",
       "    if ( options.frame ) scene.add( new THREE.BoxHelper( boxMesh, 'black' ) );\n",
       "\n",
       "    if ( options.axes_labels ) {\n",
       "        var d = options.decimals; // decimals\n",
       "        var offsetRatio = 0.1;\n",
       "        var al = options.axes_labels;\n",
       "\n",
       "        var offset = offsetRatio * a[1]*( b[1].y - b[0].y );\n",
       "        var xm = xMid.toFixed(d);\n",
       "        if ( /^-0.?0*$/.test(xm) ) xm = xm.substr(1);\n",
       "        addLabel( al[0] + '=' + xm, a[0]*xMid, a[1]*b[1].y+offset, a[2]*b[0].z );\n",
       "        addLabel( ( b[0].x ).toFixed(d), a[0]*b[0].x, a[1]*b[1].y+offset, a[2]*b[0].z );\n",
       "        addLabel( ( b[1].x ).toFixed(d), a[0]*b[1].x, a[1]*b[1].y+offset, a[2]*b[0].z );\n",
       "\n",
       "        var offset = offsetRatio * a[0]*( b[1].x - b[0].x );\n",
       "        var ym = yMid.toFixed(d);\n",
       "        if ( /^-0.?0*$/.test(ym) ) ym = ym.substr(1);\n",
       "        addLabel( al[1] + '=' + ym, a[0]*b[1].x+offset, a[1]*yMid, a[2]*b[0].z );\n",
       "        addLabel( ( b[0].y ).toFixed(d), a[0]*b[1].x+offset, a[1]*b[0].y, a[2]*b[0].z );\n",
       "        addLabel( ( b[1].y ).toFixed(d), a[0]*b[1].x+offset, a[1]*b[1].y, a[2]*b[0].z );\n",
       "\n",
       "        var offset = offsetRatio * a[1]*( b[1].y - b[0].y );\n",
       "        var zm = zMid.toFixed(d);\n",
       "        if ( /^-0.?0*$/.test(zm) ) zm = zm.substr(1);\n",
       "        addLabel( al[2] + '=' + zm, a[0]*b[1].x, a[1]*b[0].y-offset, a[2]*zMid );\n",
       "        addLabel( ( b[0].z ).toFixed(d), a[0]*b[1].x, a[1]*b[0].y-offset, a[2]*b[0].z );\n",
       "        addLabel( ( b[1].z ).toFixed(d), a[0]*b[1].x, a[1]*b[0].y-offset, a[2]*b[1].z );\n",
       "    }\n",
       "\n",
       "    function addLabel( text, x, y, z ) {\n",
       "        var fontsize = 14;\n",
       "\n",
       "        var canvas = document.createElement( 'canvas' );\n",
       "        canvas.width = 128;\n",
       "        canvas.height = 32; // powers of two\n",
       "\n",
       "        var context = canvas.getContext( '2d' );\n",
       "        context.fillStyle = 'black';\n",
       "        context.font = fontsize + 'px monospace';\n",
       "        context.textAlign = 'center';\n",
       "        context.textBaseline = 'middle';\n",
       "        context.fillText( text, .5*canvas.width, .5*canvas.height );\n",
       "\n",
       "        var texture = new THREE.Texture( canvas );\n",
       "        texture.needsUpdate = true;\n",
       "\n",
       "        var sprite = new THREE.Sprite( new THREE.SpriteMaterial( { map: texture } ) );\n",
       "        sprite.position.set( x, y, z );\n",
       "        sprite.scale.set( 1, .25 ); // ratio of width to height\n",
       "        scene.add( sprite );\n",
       "    }\n",
       "\n",
       "    if ( options.axes ) scene.add( new THREE.AxisHelper( Math.min( a[0]*b[1].x, a[1]*b[1].y, a[2]*b[1].z ) ) );\n",
       "\n",
       "    var camera = new THREE.PerspectiveCamera( 45, window.innerWidth / window.innerHeight, 0.1, 1000 );\n",
       "    camera.up.set( 0, 0, 1 );\n",
       "    camera.position.set( a[0]*(xMid+xRange), a[1]*(yMid+yRange), a[2]*(zMid+zRange) );\n",
       "\n",
       "    var lights = [{&quot;x&quot;:-5, &quot;y&quot;:3, &quot;z&quot;:0, &quot;color&quot;:&quot;#7f7f7f&quot;, &quot;parent&quot;:&quot;camera&quot;}];\n",
       "    for ( var i=0 ; i < lights.length ; i++ ) {\n",
       "        var light = new THREE.DirectionalLight( lights[i].color, 1 );\n",
       "        light.position.set( a[0]*lights[i].x, a[1]*lights[i].y, a[2]*lights[i].z );\n",
       "        if ( lights[i].parent === 'camera' ) {\n",
       "            light.target.position.set( a[0]*xMid, a[1]*yMid, a[2]*zMid );\n",
       "            scene.add( light.target );\n",
       "            camera.add( light );\n",
       "        } else scene.add( light );\n",
       "    }\n",
       "    scene.add( camera );\n",
       "\n",
       "    var ambient = {&quot;color&quot;:&quot;#7f7f7f&quot;};\n",
       "    scene.add( new THREE.AmbientLight( ambient.color, 1 ) );\n",
       "\n",
       "    var controls = new THREE.OrbitControls( camera, renderer.domElement );\n",
       "    controls.target.set( a[0]*xMid, a[1]*yMid, a[2]*zMid );\n",
       "    controls.addEventListener( 'change', function() { if ( !animate ) render(); } );\n",
       "\n",
       "    window.addEventListener( 'resize', function() {\n",
       "        \n",
       "        renderer.setSize( window.innerWidth, window.innerHeight );\n",
       "        camera.aspect = window.innerWidth / window.innerHeight;\n",
       "        camera.updateProjectionMatrix();\n",
       "        if ( !animate ) render();\n",
       "        \n",
       "    } );\n",
       "\n",
       "    var texts = [];\n",
       "    for ( var i=0 ; i < texts.length ; i++ )\n",
       "        addLabel( texts[i].text, a[0]*texts[i].x, a[1]*texts[i].y, a[2]*texts[i].z );\n",
       "\n",
       "    var points = [];\n",
       "    for ( var i=0 ; i < points.length ; i++ ) addPoint( points[i] );\n",
       "\n",
       "    function addPoint( json ) {\n",
       "        var geometry = new THREE.Geometry();\n",
       "        var v = json.point;\n",
       "        geometry.vertices.push( new THREE.Vector3( a[0]*v[0], a[1]*v[1], a[2]*v[2] ) );\n",
       "\n",
       "        var canvas = document.createElement( 'canvas' );\n",
       "        canvas.width = 128;\n",
       "        canvas.height = 128;\n",
       "\n",
       "        var context = canvas.getContext( '2d' );\n",
       "        context.arc( 64, 64, 64, 0, 2 * Math.PI );\n",
       "        context.fillStyle = json.color;\n",
       "        context.fill();\n",
       "\n",
       "        var texture = new THREE.Texture( canvas );\n",
       "        texture.needsUpdate = true;\n",
       "\n",
       "        var transparent = json.opacity < 1 ? true : false;\n",
       "        var material = new THREE.PointsMaterial( { size: json.size/100, map: texture,\n",
       "                                                   transparent: transparent, opacity: json.opacity,\n",
       "                                                   alphaTest: .1 } );\n",
       "\n",
       "        var c = geometry.center().multiplyScalar( -1 );\n",
       "        var mesh = new THREE.Points( geometry, material );\n",
       "        mesh.position.set( c.x, c.y, c.z );\n",
       "        scene.add( mesh );\n",
       "    }\n",
       "\n",
       "    var lines = [];\n",
       "    for ( var i=0 ; i < lines.length ; i++ ) addLine( lines[i] );\n",
       "\n",
       "    function addLine( json ) {\n",
       "        var geometry = new THREE.Geometry();\n",
       "        for ( var i=0 ; i < json.points.length - 1 ; i++ ) {\n",
       "            var v = json.points[i];\n",
       "            geometry.vertices.push( new THREE.Vector3( a[0]*v[0], a[1]*v[1], a[2]*v[2] ) );\n",
       "            var v = json.points[i+1];\n",
       "            geometry.vertices.push( new THREE.Vector3( a[0]*v[0], a[1]*v[1], a[2]*v[2] ) );\n",
       "        }\n",
       "\n",
       "        var transparent = json.opacity < 1 ? true : false;\n",
       "        var material = new THREE.LineBasicMaterial( { color: json.color, linewidth: json.linewidth,\n",
       "                                                      transparent: transparent, opacity: json.opacity } );\n",
       "\n",
       "        var c = geometry.center().multiplyScalar( -1 );\n",
       "        var mesh = new THREE.LineSegments( geometry, material );\n",
       "        mesh.position.set( c.x, c.y, c.z );\n",
       "        scene.add( mesh );\n",
       "    }\n",
       "\n",
       "    var surfaces = [{&quot;vertices&quot;:[{&quot;x&quot;:1,&quot;y&quot;:0,&quot;z&quot;:-2.51173},{&quot;x&quot;:1,&quot;y&quot;:0.0805537,&quot;z&quot;:-2.60878},{&quot;x&quot;:1,&quot;y&quot;:0.161107,&quot;z&quot;:-2.90811},{&quot;x&quot;:1,&quot;y&quot;:0.241661,&quot;z&quot;:-3.43441},{&quot;x&quot;:1,&quot;y&quot;:0.322215,&quot;z&quot;:-4.2291},{&quot;x&quot;:1,&quot;y&quot;:0.402768,&quot;z&quot;:-5.34939},{&quot;x&quot;:1,&quot;y&quot;:0.483322,&quot;z&quot;:-6.86415},{&quot;x&quot;:1,&quot;y&quot;:0.563876,&quot;z&quot;:-8.84246},{&quot;x&quot;:1,&quot;y&quot;:0.644429,&quot;z&quot;:-11.3283},{&quot;x&quot;:1,&quot;y&quot;:0.724983,&quot;z&quot;:-14.2927},{&quot;x&quot;:1,&quot;y&quot;:0.805537,&quot;z&quot;:-17.5543},{&quot;x&quot;:1,&quot;y&quot;:0.88609,&quot;z&quot;:-20.6678},{&quot;x&quot;:1,&quot;y&quot;:0.966644,&quot;z&quot;:-22.8062},{&quot;x&quot;:1,&quot;y&quot;:1.0472,&quot;z&quot;:-22.7134},{&quot;x&quot;:1,&quot;y&quot;:1.12775,&quot;z&quot;:-18.8675},{&quot;x&quot;:1,&quot;y&quot;:1.2083,&quot;z&quot;:-10.0113},{&quot;x&quot;:1,&quot;y&quot;:1.28886,&quot;z&quot;:3.94075},{&quot;x&quot;:1,&quot;y&quot;:1.36941,&quot;z&quot;:20.9931},{&quot;x&quot;:1,&quot;y&quot;:1.44997,&quot;z&quot;:36.9399},{&quot;x&quot;:1,&quot;y&quot;:1.53052,&quot;z&quot;:46.6866},{&quot;x&quot;:1,&quot;y&quot;:1.61107,&quot;z&quot;:46.6866},{&quot;x&quot;:1,&quot;y&quot;:1.69163,&quot;z&quot;:36.9399},{&quot;x&quot;:1,&quot;y&quot;:1.77218,&quot;z&quot;:20.9931},{&quot;x&quot;:1,&quot;y&quot;:1.85273,&quot;z&quot;:3.94075},{&quot;x&quot;:1,&quot;y&quot;:1.93329,&quot;z&quot;:-10.0113},{&quot;x&quot;:1,&quot;y&quot;:2.01384,&quot;z&quot;:-18.8675},{&quot;x&quot;:1,&quot;y&quot;:2.0944,&quot;z&quot;:-22.7134},{&quot;x&quot;:1,&quot;y&quot;:2.17495,&quot;z&quot;:-22.8062},{&quot;x&quot;:1,&quot;y&quot;:2.2555,&quot;z&quot;:-20.6678},{&quot;x&quot;:1,&quot;y&quot;:2.33606,&quot;z&quot;:-17.5543},{&quot;x&quot;:1,&quot;y&quot;:2.41661,&quot;z&quot;:-14.2927},{&quot;x&quot;:1,&quot;y&quot;:2.49716,&quot;z&quot;:-11.3283},{&quot;x&quot;:1,&quot;y&quot;:2.57772,&quot;z&quot;:-8.84246},{&quot;x&quot;:1,&quot;y&quot;:2.65827,&quot;z&quot;:-6.86415},{&quot;x&quot;:1,&quot;y&quot;:2.73882,&quot;z&quot;:-5.34939},{&quot;x&quot;:1,&quot;y&quot;:2.81938,&quot;z&quot;:-4.2291},{&quot;x&quot;:1,&quot;y&quot;:2.89993,&quot;z&quot;:-3.43441},{&quot;x&quot;:1,&quot;y&quot;:2.98049,&quot;z&quot;:-2.90811},{&quot;x&quot;:1,&quot;y&quot;:3.06104,&quot;z&quot;:-2.60878},{&quot;x&quot;:1,&quot;y&quot;:3.14159,&quot;z&quot;:-2.51173},{&quot;x&quot;:1.05128,&quot;y&quot;:0,&quot;z&quot;:-3.05942},{&quot;x&quot;:1.05128,&quot;y&quot;:0.0805537,&quot;z&quot;:-3.14384},{&quot;x&quot;:1.05128,&quot;y&quot;:0.161107,&quot;z&quot;:-3.40279},{&quot;x&quot;:1.05128,&quot;y&quot;:0.241661,&quot;z&quot;:-3.85315},{&quot;x&quot;:1.05128,&quot;y&quot;:0.322215,&quot;z&quot;:-4.52232},{&quot;x&quot;:1.05128,&quot;y&quot;:0.402768,&quot;z&quot;:-5.44603},{&quot;x&quot;:1.05128,&quot;y&quot;:0.483322,&quot;z&quot;:-6.66288},{&quot;x&quot;:1.05128,&quot;y&quot;:0.563876,&quot;z&quot;:-8.20286},{&quot;x&quot;:1.05128,&quot;y&quot;:0.644429,&quot;z&quot;:-10.0654},{&quot;x&quot;:1.05128,&quot;y&quot;:0.724983,&quot;z&quot;:-12.1823},{&quot;x&quot;:1.05128,&quot;y&quot;:0.805537,&quot;z&quot;:-14.3622},{&quot;x&quot;:1.05128,&quot;y&quot;:0.88609,&quot;z&quot;:-16.2219},{&quot;x&quot;:1.05128,&quot;y&quot;:0.966644,&quot;z&quot;:-17.1289},{&quot;x&quot;:1.05128,&quot;y&quot;:1.0472,&quot;z&quot;:-16.2093},{&quot;x&quot;:1.05128,&quot;y&quot;:1.12775,&quot;z&quot;:-12.506},{&quot;x&quot;:1.05128,&quot;y&quot;:1.2083,&quot;z&quot;:-5.35859},{&quot;x&quot;:1.05128,&quot;y&quot;:1.28886,&quot;z&quot;:5.03396},{&quot;x&quot;:1.05128,&quot;y&quot;:1.36941,&quot;z&quot;:17.131},{&quot;x&quot;:1.05128,&quot;y&quot;:1.44997,&quot;z&quot;:28.0946},{&quot;x&quot;:1.05128,&quot;y&quot;:1.53052,&quot;z&quot;:34.6761},{&quot;x&quot;:1.05128,&quot;y&quot;:1.61107,&quot;z&quot;:34.6761},{&quot;x&quot;:1.05128,&quot;y&quot;:1.69163,&quot;z&quot;:28.0946},{&quot;x&quot;:1.05128,&quot;y&quot;:1.77218,&quot;z&quot;:17.131},{&quot;x&quot;:1.05128,&quot;y&quot;:1.85273,&quot;z&quot;:5.03396},{&quot;x&quot;:1.05128,&quot;y&quot;:1.93329,&quot;z&quot;:-5.35859},{&quot;x&quot;:1.05128,&quot;y&quot;:2.01384,&quot;z&quot;:-12.506},{&quot;x&quot;:1.05128,&quot;y&quot;:2.0944,&quot;z&quot;:-16.2093},{&quot;x&quot;:1.05128,&quot;y&quot;:2.17495,&quot;z&quot;:-17.1289},{&quot;x&quot;:1.05128,&quot;y&quot;:2.2555,&quot;z&quot;:-16.2219},{&quot;x&quot;:1.05128,&quot;y&quot;:2.33606,&quot;z&quot;:-14.3622},{&quot;x&quot;:1.05128,&quot;y&quot;:2.41661,&quot;z&quot;:-12.1823},{&quot;x&quot;:1.05128,&quot;y&quot;:2.49716,&quot;z&quot;:-10.0654},{&quot;x&quot;:1.05128,&quot;y&quot;:2.57772,&quot;z&quot;:-8.20286},{&quot;x&quot;:1.05128,&quot;y&quot;:2.65827,&quot;z&quot;:-6.66288},{&quot;x&quot;:1.05128,&quot;y&quot;:2.73882,&quot;z&quot;:-5.44603},{&quot;x&quot;:1.05128,&quot;y&quot;:2.81938,&quot;z&quot;:-4.52232},{&quot;x&quot;:1.05128,&quot;y&quot;:2.89993,&quot;z&quot;:-3.85315},{&quot;x&quot;:1.05128,&quot;y&quot;:2.98049,&quot;z&quot;:-3.40279},{&quot;x&quot;:1.05128,&quot;y&quot;:3.06104,&quot;z&quot;:-3.14384},{&quot;x&quot;:1.05128,&quot;y&quot;:3.14159,&quot;z&quot;:-3.05942},{&quot;x&quot;:1.10256,&quot;y&quot;:0,&quot;z&quot;:-3.2839},{&quot;x&quot;:1.10256,&quot;y&quot;:0.0805537,&quot;z&quot;:-3.35508},{&quot;x&quot;:1.10256,&quot;y&quot;:0.161107,&quot;z&quot;:-3.57235},{&quot;x&quot;:1.10256,&quot;y&quot;:0.241661,&quot;z&quot;:-3.94659},{&quot;x&quot;:1.10256,&quot;y&quot;:0.322215,&quot;z&quot;:-4.49472},{&quot;x&quot;:1.10256,&quot;y&quot;:0.402768,&quot;z&quot;:-5.23695},{&quot;x&quot;:1.10256,&quot;y&quot;:0.483322,&quot;z&quot;:-6.19128},{&quot;x&quot;:1.10256,&quot;y&quot;:0.563876,&quot;z&quot;:-7.36309},{&quot;x&quot;:1.10256,&quot;y&quot;:0.644429,&quot;z&quot;:-8.7274},{&quot;x&quot;:1.10256,&quot;y&quot;:0.724983,&quot;z&quot;:-10.2014},{&quot;x&quot;:1.10256,&quot;y&quot;:0.805537,&quot;z&quot;:-11.6071},{&quot;x&quot;:1.10256,&quot;y&quot;:0.88609,&quot;z&quot;:-12.6316},{&quot;x&quot;:1.10256,&quot;y&quot;:0.966644,&quot;z&quot;:-12.8035},{&quot;x&quot;:1.10256,&quot;y&quot;:1.0472,&quot;z&quot;:-11.5237},{&quot;x&quot;:1.10256,&quot;y&quot;:1.12775,&quot;z&quot;:-8.19921},{&quot;x&quot;:1.10256,&quot;y&quot;:1.2083,&quot;z&quot;:-2.5072},{&quot;x&quot;:1.10256,&quot;y&quot;:1.28886,&quot;z&quot;:5.25851},{&quot;x&quot;:1.10256,&quot;y&quot;:1.36941,&quot;z&quot;:13.9356},{&quot;x&quot;:1.10256,&quot;y&quot;:1.44997,&quot;z&quot;:21.5916},{&quot;x&quot;:1.10256,&quot;y&quot;:1.53052,&quot;z&quot;:26.1166},{&quot;x&quot;:1.10256,&quot;y&quot;:1.61107,&quot;z&quot;:26.1166},{&quot;x&quot;:1.10256,&quot;y&quot;:1.69163,&quot;z&quot;:21.5916},{&quot;x&quot;:1.10256,&quot;y&quot;:1.77218,&quot;z&quot;:13.9356},{&quot;x&quot;:1.10256,&quot;y&quot;:1.85273,&quot;z&quot;:5.25851},{&quot;x&quot;:1.10256,&quot;y&quot;:1.93329,&quot;z&quot;:-2.5072},{&quot;x&quot;:1.10256,&quot;y&quot;:2.01384,&quot;z&quot;:-8.19921},{&quot;x&quot;:1.10256,&quot;y&quot;:2.0944,&quot;z&quot;:-11.5237},{&quot;x&quot;:1.10256,&quot;y&quot;:2.17495,&quot;z&quot;:-12.8035},{&quot;x&quot;:1.10256,&quot;y&quot;:2.2555,&quot;z&quot;:-12.6316},{&quot;x&quot;:1.10256,&quot;y&quot;:2.33606,&quot;z&quot;:-11.6071},{&quot;x&quot;:1.10256,&quot;y&quot;:2.41661,&quot;z&quot;:-10.2014},{&quot;x&quot;:1.10256,&quot;y&quot;:2.49716,&quot;z&quot;:-8.7274},{&quot;x&quot;:1.10256,&quot;y&quot;:2.57772,&quot;z&quot;:-7.36309},{&quot;x&quot;:1.10256,&quot;y&quot;:2.65827,&quot;z&quot;:-6.19128},{&quot;x&quot;:1.10256,&quot;y&quot;:2.73882,&quot;z&quot;:-5.23695},{&quot;x&quot;:1.10256,&quot;y&quot;:2.81938,&quot;z&quot;:-4.49472},{&quot;x&quot;:1.10256,&quot;y&quot;:2.89993,&quot;z&quot;:-3.94659},{&quot;x&quot;:1.10256,&quot;y&quot;:2.98049,&quot;z&quot;:-3.57235},{&quot;x&quot;:1.10256,&quot;y&quot;:3.06104,&quot;z&quot;:-3.35508},{&quot;x&quot;:1.10256,&quot;y&quot;:3.14159,&quot;z&quot;:-3.2839},{&quot;x&quot;:1.15385,&quot;y&quot;:0,&quot;z&quot;:-3.28839},{&quot;x&quot;:1.15385,&quot;y&quot;:0.0805537,&quot;z&quot;:-3.34694},{&quot;x&quot;:1.15385,&quot;y&quot;:0.161107,&quot;z&quot;:-3.52489},{&quot;x&quot;:1.15385,&quot;y&quot;:0.241661,&quot;z&quot;:-3.8287},{&quot;x&quot;:1.15385,&quot;y&quot;:0.322215,&quot;z&quot;:-4.26773},{&quot;x&quot;:1.15385,&quot;y&quot;:0.402768,&quot;z&quot;:-4.85151},{&quot;x&quot;:1.15385,&quot;y&quot;:0.483322,&quot;z&quot;:-5.58468},{&quot;x&quot;:1.15385,&quot;y&quot;:0.563876,&quot;z&quot;:-6.45821},{&quot;x&quot;:1.15385,&quot;y&quot;:0.644429,&quot;z&quot;:-7.43567},{&quot;x&quot;:1.15385,&quot;y&quot;:0.724983,&quot;z&quot;:-8.43359},{&quot;x&quot;:1.15385,&quot;y&quot;:0.805537,&quot;z&quot;:-9.29743},{&quot;x&quot;:1.15385,&quot;y&quot;:0.88609,&quot;z&quot;:-9.77974},{&quot;x&quot;:1.15385,&quot;y&quot;:0.966644,&quot;z&quot;:-9.53542},{&quot;x&quot;:1.15385,&quot;y&quot;:1.0472,&quot;z&quot;:-8.15862},{&quot;x&quot;:1.15385,&quot;y&quot;:1.12775,&quot;z&quot;:-5.28781},{&quot;x&quot;:1.15385,&quot;y&quot;:1.2083,&quot;z&quot;:-0.786823},{&quot;x&quot;:1.15385,&quot;y&quot;:1.28886,&quot;z&quot;:5.04286},{&quot;x&quot;:1.15385,&quot;y&quot;:1.36941,&quot;z&quot;:11.3343},{&quot;x&quot;:1.15385,&quot;y&quot;:1.44997,&quot;z&quot;:16.7583},{&quot;x&quot;:1.15385,&quot;y&quot;:1.53052,&quot;z&quot;:19.9213},{&quot;x&quot;:1.15385,&quot;y&quot;:1.61107,&quot;z&quot;:19.9213},{&quot;x&quot;:1.15385,&quot;y&quot;:1.69163,&quot;z&quot;:16.7583},{&quot;x&quot;:1.15385,&quot;y&quot;:1.77218,&quot;z&quot;:11.3343},{&quot;x&quot;:1.15385,&quot;y&quot;:1.85273,&quot;z&quot;:5.04286},{&quot;x&quot;:1.15385,&quot;y&quot;:1.93329,&quot;z&quot;:-0.786823},{&quot;x&quot;:1.15385,&quot;y&quot;:2.01384,&quot;z&quot;:-5.28781},{&quot;x&quot;:1.15385,&quot;y&quot;:2.0944,&quot;z&quot;:-8.15862},{&quot;x&quot;:1.15385,&quot;y&quot;:2.17495,&quot;z&quot;:-9.53542},{&quot;x&quot;:1.15385,&quot;y&quot;:2.2555,&quot;z&quot;:-9.77974},{&quot;x&quot;:1.15385,&quot;y&quot;:2.33606,&quot;z&quot;:-9.29743},{&quot;x&quot;:1.15385,&quot;y&quot;:2.41661,&quot;z&quot;:-8.43359},{&quot;x&quot;:1.15385,&quot;y&quot;:2.49716,&quot;z&quot;:-7.43567},{&quot;x&quot;:1.15385,&quot;y&quot;:2.57772,&quot;z&quot;:-6.45821},{&quot;x&quot;:1.15385,&quot;y&quot;:2.65827,&quot;z&quot;:-5.58468},{&quot;x&quot;:1.15385,&quot;y&quot;:2.73882,&quot;z&quot;:-4.85151},{&quot;x&quot;:1.15385,&quot;y&quot;:2.81938,&quot;z&quot;:-4.26773},{&quot;x&quot;:1.15385,&quot;y&quot;:2.89993,&quot;z&quot;:-3.8287},{&quot;x&quot;:1.15385,&quot;y&quot;:2.98049,&quot;z&quot;:-3.52489},{&quot;x&quot;:1.15385,&quot;y&quot;:3.06104,&quot;z&quot;:-3.34694},{&quot;x&quot;:1.15385,&quot;y&quot;:3.14159,&quot;z&quot;:-3.28839},{&quot;x&quot;:1.20513,&quot;y&quot;:0,&quot;z&quot;:-3.15146},{&quot;x&quot;:1.20513,&quot;y&quot;:0.0805537,&quot;z&quot;:-3.19867},{&quot;x&quot;:1.20513,&quot;y&quot;:0.161107,&quot;z&quot;:-3.34153},{&quot;x&quot;:1.20513,&quot;y&quot;:0.241661,&quot;z&quot;:-3.58337},{&quot;x&quot;:1.20513,&quot;y&quot;:0.322215,&quot;z&quot;:-3.92837},{&quot;x&quot;:1.20513,&quot;y&quot;:0.402768,&quot;z&quot;:-4.37902},{&quot;x&quot;:1.20513,&quot;y&quot;:0.483322,&quot;z&quot;:-4.9318},{&quot;x&quot;:1.20513,&quot;y&quot;:0.563876,&quot;z&quot;:-5.57011},{&quot;x&quot;:1.20513,&quot;y&quot;:0.644429,&quot;z&quot;:-6.254},{&quot;x&quot;:1.20513,&quot;y&quot;:0.724983,&quot;z&quot;:-6.90656},{&quot;x&quot;:1.20513,&quot;y&quot;:0.805537,&quot;z&quot;:-7.39897},{&quot;x&quot;:1.20513,&quot;y&quot;:0.88609,&quot;z&quot;:-7.53985},{&quot;x&quot;:1.20513,&quot;y&quot;:0.966644,&quot;z&quot;:-7.07978},{&quot;x&quot;:1.20513,&quot;y&quot;:1.0472,&quot;z&quot;:-5.74633},{&quot;x&quot;:1.20513,&quot;y&quot;:1.12775,&quot;z&quot;:-3.32384},{&quot;x&quot;:1.20513,&quot;y&quot;:1.2083,&quot;z&quot;:0.224},{&quot;x&quot;:1.20513,&quot;y&quot;:1.28886,&quot;z&quot;:4.6244},{&quot;x&quot;:1.20513,&quot;y&quot;:1.36941,&quot;z&quot;:9.2338},{&quot;x&quot;:1.20513,&quot;y&quot;:1.44997,&quot;z&quot;:13.1285},{&quot;x&quot;:1.20513,&quot;y&quot;:1.53052,&quot;z&quot;:15.3731},{&quot;x&quot;:1.20513,&quot;y&quot;:1.61107,&quot;z&quot;:15.3731},{&quot;x&quot;:1.20513,&quot;y&quot;:1.69163,&quot;z&quot;:13.1285},{&quot;x&quot;:1.20513,&quot;y&quot;:1.77218,&quot;z&quot;:9.2338},{&quot;x&quot;:1.20513,&quot;y&quot;:1.85273,&quot;z&quot;:4.6244},{&quot;x&quot;:1.20513,&quot;y&quot;:1.93329,&quot;z&quot;:0.224},{&quot;x&quot;:1.20513,&quot;y&quot;:2.01384,&quot;z&quot;:-3.32384},{&quot;x&quot;:1.20513,&quot;y&quot;:2.0944,&quot;z&quot;:-5.74633},{&quot;x&quot;:1.20513,&quot;y&quot;:2.17495,&quot;z&quot;:-7.07978},{&quot;x&quot;:1.20513,&quot;y&quot;:2.2555,&quot;z&quot;:-7.53985},{&quot;x&quot;:1.20513,&quot;y&quot;:2.33606,&quot;z&quot;:-7.39897},{&quot;x&quot;:1.20513,&quot;y&quot;:2.41661,&quot;z&quot;:-6.90656},{&quot;x&quot;:1.20513,&quot;y&quot;:2.49716,&quot;z&quot;:-6.254},{&quot;x&quot;:1.20513,&quot;y&quot;:2.57772,&quot;z&quot;:-5.57011},{&quot;x&quot;:1.20513,&quot;y&quot;:2.65827,&quot;z&quot;:-4.9318},{&quot;x&quot;:1.20513,&quot;y&quot;:2.73882,&quot;z&quot;:-4.37902},{&quot;x&quot;:1.20513,&quot;y&quot;:2.81938,&quot;z&quot;:-3.92837},{&quot;x&quot;:1.20513,&quot;y&quot;:2.89993,&quot;z&quot;:-3.58337},{&quot;x&quot;:1.20513,&quot;y&quot;:2.98049,&quot;z&quot;:-3.34153},{&quot;x&quot;:1.20513,&quot;y&quot;:3.06104,&quot;z&quot;:-3.19867},{&quot;x&quot;:1.20513,&quot;y&quot;:3.14159,&quot;z&quot;:-3.15146},{&quot;x&quot;:1.25641,&quot;y&quot;:0,&quot;z&quot;:-2.93075},{&quot;x&quot;:1.25641,&quot;y&quot;:0.0805537,&quot;z&quot;:-2.96815},{&quot;x&quot;:1.25641,&quot;y&quot;:0.161107,&quot;z&quot;:-3.08086},{&quot;x&quot;:1.25641,&quot;y&quot;:0.241661,&quot;z&quot;:-3.2701},{&quot;x&quot;:1.25641,&quot;y&quot;:0.322215,&quot;z&quot;:-3.53661},{&quot;x&quot;:1.25641,&quot;y&quot;:0.402768,&quot;z&quot;:-3.87851},{&quot;x&quot;:1.25641,&quot;y&quot;:0.483322,&quot;z&quot;:-4.2877},{&quot;x&quot;:1.25641,&quot;y&quot;:0.563876,&quot;z&quot;:-4.74444},{&quot;x&quot;:1.25641,&quot;y&quot;:0.644429,&quot;z&quot;:-5.20977},{&quot;x&quot;:1.25641,&quot;y&quot;:0.724983,&quot;z&quot;:-5.61637},{&quot;x&quot;:1.25641,&quot;y&quot;:0.805537,&quot;z&quot;:-5.85976},{&quot;x&quot;:1.25641,&quot;y&quot;:0.88609,&quot;z&quot;:-5.7942},{&quot;x&quot;:1.25641,&quot;y&quot;:0.966644,&quot;z&quot;:-5.24105},{&quot;x&quot;:1.25641,&quot;y&quot;:1.0472,&quot;z&quot;:-4.0191},{&quot;x&quot;:1.25641,&quot;y&quot;:1.12775,&quot;z&quot;:-2.00362},{&quot;x&quot;:1.25641,&quot;y&quot;:1.2083,&quot;z&quot;:0.791082},{&quot;x&quot;:1.25641,&quot;y&quot;:1.28886,&quot;z&quot;:4.13262},{&quot;x&quot;:1.25641,&quot;y&quot;:1.36941,&quot;z&quot;:7.54357},{&quot;x&quot;:1.25641,&quot;y&quot;:1.44997,&quot;z&quot;:10.3753},{&quot;x&quot;:1.25641,&quot;y&quot;:1.53052,&quot;z&quot;:11.9905},{&quot;x&quot;:1.25641,&quot;y&quot;:1.61107,&quot;z&quot;:11.9905},{&quot;x&quot;:1.25641,&quot;y&quot;:1.69163,&quot;z&quot;:10.3753},{&quot;x&quot;:1.25641,&quot;y&quot;:1.77218,&quot;z&quot;:7.54357},{&quot;x&quot;:1.25641,&quot;y&quot;:1.85273,&quot;z&quot;:4.13262},{&quot;x&quot;:1.25641,&quot;y&quot;:1.93329,&quot;z&quot;:0.791082},{&quot;x&quot;:1.25641,&quot;y&quot;:2.01384,&quot;z&quot;:-2.00362},{&quot;x&quot;:1.25641,&quot;y&quot;:2.0944,&quot;z&quot;:-4.0191},{&quot;x&quot;:1.25641,&quot;y&quot;:2.17495,&quot;z&quot;:-5.24105},{&quot;x&quot;:1.25641,&quot;y&quot;:2.2555,&quot;z&quot;:-5.7942},{&quot;x&quot;:1.25641,&quot;y&quot;:2.33606,&quot;z&quot;:-5.85976},{&quot;x&quot;:1.25641,&quot;y&quot;:2.41661,&quot;z&quot;:-5.61637},{&quot;x&quot;:1.25641,&quot;y&quot;:2.49716,&quot;z&quot;:-5.20977},{&quot;x&quot;:1.25641,&quot;y&quot;:2.57772,&quot;z&quot;:-4.74444},{&quot;x&quot;:1.25641,&quot;y&quot;:2.65827,&quot;z&quot;:-4.2877},{&quot;x&quot;:1.25641,&quot;y&quot;:2.73882,&quot;z&quot;:-3.87851},{&quot;x&quot;:1.25641,&quot;y&quot;:2.81938,&quot;z&quot;:-3.53661},{&quot;x&quot;:1.25641,&quot;y&quot;:2.89993,&quot;z&quot;:-3.2701},{&quot;x&quot;:1.25641,&quot;y&quot;:2.98049,&quot;z&quot;:-3.08086},{&quot;x&quot;:1.25641,&quot;y&quot;:3.06104,&quot;z&quot;:-2.96815},{&quot;x&quot;:1.25641,&quot;y&quot;:3.14159,&quot;z&quot;:-2.93075},{&quot;x&quot;:1.30769,&quot;y&quot;:0,&quot;z&quot;:-2.66702},{&quot;x&quot;:1.30769,&quot;y&quot;:0.0805537,&quot;z&quot;:-2.69618},{&quot;x&quot;:1.30769,&quot;y&quot;:0.161107,&quot;z&quot;:-2.78373},{&quot;x&quot;:1.30769,&quot;y&quot;:0.241661,&quot;z&quot;:-2.92947},{&quot;x&quot;:1.30769,&quot;y&quot;:0.322215,&quot;z&quot;:-3.13202},{&quot;x&quot;:1.30769,&quot;y&quot;:0.402768,&quot;z&quot;:-3.387},{&quot;x&quot;:1.30769,&quot;y&quot;:0.483322,&quot;z&quot;:-3.68413},{&quot;x&quot;:1.30769,&quot;y&quot;:0.563876,&quot;z&quot;:-4.00317},{&quot;x&quot;:1.30769,&quot;y&quot;:0.644429,&quot;z&quot;:-4.30848},{&quot;x&quot;:1.30769,&quot;y&quot;:0.724983,&quot;z&quot;:-4.5431},{&quot;x&quot;:1.30769,&quot;y&quot;:0.805537,&quot;z&quot;:-4.62384},{&quot;x&quot;:1.30769,&quot;y&quot;:0.88609,&quot;z&quot;:-4.44091},{&quot;x&quot;:1.30769,&quot;y&quot;:0.966644,&quot;z&quot;:-3.8673},{&quot;x&quot;:1.30769,&quot;y&quot;:1.0472,&quot;z&quot;:-2.78362},{&quot;x&quot;:1.30769,&quot;y&quot;:1.12775,&quot;z&quot;:-1.12118},{&quot;x&quot;:1.30769,&quot;y&quot;:1.2083,&quot;z&quot;:1.08253},{&quot;x&quot;:1.30769,&quot;y&quot;:1.28886,&quot;z&quot;:3.63594},{&quot;x&quot;:1.30769,&quot;y&quot;:1.36941,&quot;z&quot;:6.18424},{&quot;x&quot;:1.30769,&quot;y&quot;:1.44997,&quot;z&quot;:8.26726},{&quot;x&quot;:1.30769,&quot;y&quot;:1.53052,&quot;z&quot;:9.44451},{&quot;x&quot;:1.30769,&quot;y&quot;:1.61107,&quot;z&quot;:9.44451},{&quot;x&quot;:1.30769,&quot;y&quot;:1.69163,&quot;z&quot;:8.26726},{&quot;x&quot;:1.30769,&quot;y&quot;:1.77218,&quot;z&quot;:6.18424},{&quot;x&quot;:1.30769,&quot;y&quot;:1.85273,&quot;z&quot;:3.63594},{&quot;x&quot;:1.30769,&quot;y&quot;:1.93329,&quot;z&quot;:1.08253},{&quot;x&quot;:1.30769,&quot;y&quot;:2.01384,&quot;z&quot;:-1.12118},{&quot;x&quot;:1.30769,&quot;y&quot;:2.0944,&quot;z&quot;:-2.78362},{&quot;x&quot;:1.30769,&quot;y&quot;:2.17495,&quot;z&quot;:-3.8673},{&quot;x&quot;:1.30769,&quot;y&quot;:2.2555,&quot;z&quot;:-4.44091},{&quot;x&quot;:1.30769,&quot;y&quot;:2.33606,&quot;z&quot;:-4.62384},{&quot;x&quot;:1.30769,&quot;y&quot;:2.41661,&quot;z&quot;:-4.5431},{&quot;x&quot;:1.30769,&quot;y&quot;:2.49716,&quot;z&quot;:-4.30848},{&quot;x&quot;:1.30769,&quot;y&quot;:2.57772,&quot;z&quot;:-4.00317},{&quot;x&quot;:1.30769,&quot;y&quot;:2.65827,&quot;z&quot;:-3.68413},{&quot;x&quot;:1.30769,&quot;y&quot;:2.73882,&quot;z&quot;:-3.387},{&quot;x&quot;:1.30769,&quot;y&quot;:2.81938,&quot;z&quot;:-3.13202},{&quot;x&quot;:1.30769,&quot;y&quot;:2.89993,&quot;z&quot;:-2.92947},{&quot;x&quot;:1.30769,&quot;y&quot;:2.98049,&quot;z&quot;:-2.78373},{&quot;x&quot;:1.30769,&quot;y&quot;:3.06104,&quot;z&quot;:-2.69618},{&quot;x&quot;:1.30769,&quot;y&quot;:3.14159,&quot;z&quot;:-2.66702},{&quot;x&quot;:1.35897,&quot;y&quot;:0,&quot;z&quot;:-2.38807},{&quot;x&quot;:1.35897,&quot;y&quot;:0.0805537,&quot;z&quot;:-2.41048},{&quot;x&quot;:1.35897,&quot;y&quot;:0.161107,&quot;z&quot;:-2.47745},{&quot;x&quot;:1.35897,&quot;y&quot;:0.241661,&quot;z&quot;:-2.58795},{&quot;x&quot;:1.35897,&quot;y&quot;:0.322215,&quot;z&quot;:-2.73939},{&quot;x&quot;:1.35897,&quot;y&quot;:0.402768,&quot;z&quot;:-2.92611},{&quot;x&quot;:1.35897,&quot;y&quot;:0.483322,&quot;z&quot;:-3.1372},{&quot;x&quot;:1.35897,&quot;y&quot;:0.563876,&quot;z&quot;:-3.35342},{&quot;x&quot;:1.35897,&quot;y&quot;:0.644429,&quot;z&quot;:-3.54346},{&quot;x&quot;:1.35897,&quot;y&quot;:0.724983,&quot;z&quot;:-3.66019},{&quot;x&quot;:1.35897,&quot;y&quot;:0.805537,&quot;z&quot;:-3.63824},{&quot;x&quot;:1.35897,&quot;y&quot;:0.88609,&quot;z&quot;:-3.39557},{&quot;x&quot;:1.35897,&quot;y&quot;:0.966644,&quot;z&quot;:-2.8424},{&quot;x&quot;:1.35897,&quot;y&quot;:1.0472,&quot;z&quot;:-1.90095},{&quot;x&quot;:1.35897,&quot;y&quot;:1.12775,&quot;z&quot;:-0.536626},{&quot;x&quot;:1.35897,&quot;y&quot;:1.2083,&quot;z&quot;:1.20484},{&quot;x&quot;:1.35897,&quot;y&quot;:1.28886,&quot;z&quot;:3.16847},{&quot;x&quot;:1.35897,&quot;y&quot;:1.36941,&quot;z&quot;:5.08968},{&quot;x&quot;:1.35897,&quot;y&quot;:1.44997,&quot;z&quot;:6.63867},{&quot;x&quot;:1.35897,&quot;y&quot;:1.53052,&quot;z&quot;:7.50702},{&quot;x&quot;:1.35897,&quot;y&quot;:1.61107,&quot;z&quot;:7.50702},{&quot;x&quot;:1.35897,&quot;y&quot;:1.69163,&quot;z&quot;:6.63867},{&quot;x&quot;:1.35897,&quot;y&quot;:1.77218,&quot;z&quot;:5.08968},{&quot;x&quot;:1.35897,&quot;y&quot;:1.85273,&quot;z&quot;:3.16847},{&quot;x&quot;:1.35897,&quot;y&quot;:1.93329,&quot;z&quot;:1.20484},{&quot;x&quot;:1.35897,&quot;y&quot;:2.01384,&quot;z&quot;:-0.536626},{&quot;x&quot;:1.35897,&quot;y&quot;:2.0944,&quot;z&quot;:-1.90095},{&quot;x&quot;:1.35897,&quot;y&quot;:2.17495,&quot;z&quot;:-2.8424},{&quot;x&quot;:1.35897,&quot;y&quot;:2.2555,&quot;z&quot;:-3.39557},{&quot;x&quot;:1.35897,&quot;y&quot;:2.33606,&quot;z&quot;:-3.63824},{&quot;x&quot;:1.35897,&quot;y&quot;:2.41661,&quot;z&quot;:-3.66019},{&quot;x&quot;:1.35897,&quot;y&quot;:2.49716,&quot;z&quot;:-3.54346},{&quot;x&quot;:1.35897,&quot;y&quot;:2.57772,&quot;z&quot;:-3.35342},{&quot;x&quot;:1.35897,&quot;y&quot;:2.65827,&quot;z&quot;:-3.1372},{&quot;x&quot;:1.35897,&quot;y&quot;:2.73882,&quot;z&quot;:-2.92611},{&quot;x&quot;:1.35897,&quot;y&quot;:2.81938,&quot;z&quot;:-2.73939},{&quot;x&quot;:1.35897,&quot;y&quot;:2.89993,&quot;z&quot;:-2.58795},{&quot;x&quot;:1.35897,&quot;y&quot;:2.98049,&quot;z&quot;:-2.47745},{&quot;x&quot;:1.35897,&quot;y&quot;:3.06104,&quot;z&quot;:-2.41048},{&quot;x&quot;:1.35897,&quot;y&quot;:3.14159,&quot;z&quot;:-2.38807},{&quot;x&quot;:1.41026,&quot;y&quot;:0,&quot;z&quot;:-2.11204},{&quot;x&quot;:1.41026,&quot;y&quot;:0.0805537,&quot;z&quot;:-2.12899},{&quot;x&quot;:1.41026,&quot;y&quot;:0.161107,&quot;z&quot;:-2.17944},{&quot;x&quot;:1.41026,&quot;y&quot;:0.241661,&quot;z&quot;:-2.26187},{&quot;x&quot;:1.41026,&quot;y&quot;:0.322215,&quot;z&quot;:-2.3731},{&quot;x&quot;:1.41026,&quot;y&quot;:0.402768,&quot;z&quot;:-2.50702},{&quot;x&quot;:1.41026,&quot;y&quot;:0.483322,&quot;z&quot;:-2.65299},{&quot;x&quot;:1.41026,&quot;y&quot;:0.563876,&quot;z&quot;:-2.79356},{&quot;x&quot;:1.41026,&quot;y&quot;:0.644429,&quot;z&quot;:-2.90194},{&quot;x&quot;:1.41026,&quot;y&quot;:0.724983,&quot;z&quot;:-2.93974},{&quot;x&quot;:1.41026,&quot;y&quot;:0.805537,&quot;z&quot;:-2.85609},{&quot;x&quot;:1.41026,&quot;y&quot;:0.88609,&quot;z&quot;:-2.59004},{&quot;x&quot;:1.41026,&quot;y&quot;:0.966644,&quot;z&quot;:-2.07847},{&quot;x&quot;:1.41026,&quot;y&quot;:1.0472,&quot;z&quot;:-1.27147},{&quot;x&quot;:1.41026,&quot;y&quot;:1.12775,&quot;z&quot;:-0.154749},{&quot;x&quot;:1.41026,&quot;y&quot;:1.2083,&quot;z&quot;:1.22547},{&quot;x&quot;:1.41026,&quot;y&quot;:1.28886,&quot;z&quot;:2.74519},{&quot;x&quot;:1.41026,&quot;y&quot;:1.36941,&quot;z&quot;:4.2062},{&quot;x&quot;:1.41026,&quot;y&quot;:1.44997,&quot;z&quot;:5.36984},{&quot;x&quot;:1.41026,&quot;y&quot;:1.53052,&quot;z&quot;:6.01745},{&quot;x&quot;:1.41026,&quot;y&quot;:1.61107,&quot;z&quot;:6.01745},{&quot;x&quot;:1.41026,&quot;y&quot;:1.69163,&quot;z&quot;:5.36984},{&quot;x&quot;:1.41026,&quot;y&quot;:1.77218,&quot;z&quot;:4.2062},{&quot;x&quot;:1.41026,&quot;y&quot;:1.85273,&quot;z&quot;:2.74519},{&quot;x&quot;:1.41026,&quot;y&quot;:1.93329,&quot;z&quot;:1.22547},{&quot;x&quot;:1.41026,&quot;y&quot;:2.01384,&quot;z&quot;:-0.154749},{&quot;x&quot;:1.41026,&quot;y&quot;:2.0944,&quot;z&quot;:-1.27147},{&quot;x&quot;:1.41026,&quot;y&quot;:2.17495,&quot;z&quot;:-2.07847},{&quot;x&quot;:1.41026,&quot;y&quot;:2.2555,&quot;z&quot;:-2.59004},{&quot;x&quot;:1.41026,&quot;y&quot;:2.33606,&quot;z&quot;:-2.85609},{&quot;x&quot;:1.41026,&quot;y&quot;:2.41661,&quot;z&quot;:-2.93974},{&quot;x&quot;:1.41026,&quot;y&quot;:2.49716,&quot;z&quot;:-2.90194},{&quot;x&quot;:1.41026,&quot;y&quot;:2.57772,&quot;z&quot;:-2.79356},{&quot;x&quot;:1.41026,&quot;y&quot;:2.65827,&quot;z&quot;:-2.65299},{&quot;x&quot;:1.41026,&quot;y&quot;:2.73882,&quot;z&quot;:-2.50702},{&quot;x&quot;:1.41026,&quot;y&quot;:2.81938,&quot;z&quot;:-2.3731},{&quot;x&quot;:1.41026,&quot;y&quot;:2.89993,&quot;z&quot;:-2.26187},{&quot;x&quot;:1.41026,&quot;y&quot;:2.98049,&quot;z&quot;:-2.17944},{&quot;x&quot;:1.41026,&quot;y&quot;:3.06104,&quot;z&quot;:-2.12899},{&quot;x&quot;:1.41026,&quot;y&quot;:3.14159,&quot;z&quot;:-2.11204},{&quot;x&quot;:1.46154,&quot;y&quot;:0,&quot;z&quot;:-1.85007},{&quot;x&quot;:1.46154,&quot;y&quot;:0.0805537,&quot;z&quot;:-1.86269},{&quot;x&quot;:1.46154,&quot;y&quot;:0.161107,&quot;z&quot;:-1.90005},{&quot;x&quot;:1.46154,&quot;y&quot;:0.241661,&quot;z&quot;:-1.96044},{&quot;x&quot;:1.46154,&quot;y&quot;:0.322215,&quot;z&quot;:-2.04046},{&quot;x&quot;:1.46154,&quot;y&quot;:0.402768,&quot;z&quot;:-2.13408},{&quot;x&quot;:1.46154,&quot;y&quot;:0.483322,&quot;z&quot;:-2.23143},{&quot;x&quot;:1.46154,&quot;y&quot;:0.563876,&quot;z&quot;:-2.31714},{&quot;x&quot;:1.46154,&quot;y&quot;:0.644429,&quot;z&quot;:-2.36874},{&quot;x&quot;:1.46154,&quot;y&quot;:0.724983,&quot;z&quot;:-2.35529},{&quot;x&quot;:1.46154,&quot;y&quot;:0.805537,&quot;z&quot;:-2.2375},{&quot;x&quot;:1.46154,&quot;y&quot;:0.88609,&quot;z&quot;:-1.97028},{&quot;x&quot;:1.46154,&quot;y&quot;:0.966644,&quot;z&quot;:-1.5095},{&quot;x&quot;:1.46154,&quot;y&quot;:1.0472,&quot;z&quot;:-0.823797},{&quot;x&quot;:1.46154,&quot;y&quot;:1.12775,&quot;z&quot;:0.089385},{&quot;x&quot;:1.46154,&quot;y&quot;:1.2083,&quot;z&quot;:1.18707},{&quot;x&quot;:1.46154,&quot;y&quot;:1.28886,&quot;z&quot;:2.37064},{&quot;x&quot;:1.46154,&quot;y&quot;:1.36941,&quot;z&quot;:3.49087},{&quot;x&quot;:1.46154,&quot;y&quot;:1.44997,&quot;z&quot;:4.37339},{&quot;x&quot;:1.46154,&quot;y&quot;:1.53052,&quot;z&quot;:4.86135},{&quot;x&quot;:1.46154,&quot;y&quot;:1.61107,&quot;z&quot;:4.86135},{&quot;x&quot;:1.46154,&quot;y&quot;:1.69163,&quot;z&quot;:4.37339},{&quot;x&quot;:1.46154,&quot;y&quot;:1.77218,&quot;z&quot;:3.49087},{&quot;x&quot;:1.46154,&quot;y&quot;:1.85273,&quot;z&quot;:2.37064},{&quot;x&quot;:1.46154,&quot;y&quot;:1.93329,&quot;z&quot;:1.18707},{&quot;x&quot;:1.46154,&quot;y&quot;:2.01384,&quot;z&quot;:0.089385},{&quot;x&quot;:1.46154,&quot;y&quot;:2.0944,&quot;z&quot;:-0.823797},{&quot;x&quot;:1.46154,&quot;y&quot;:2.17495,&quot;z&quot;:-1.5095},{&quot;x&quot;:1.46154,&quot;y&quot;:2.2555,&quot;z&quot;:-1.97028},{&quot;x&quot;:1.46154,&quot;y&quot;:2.33606,&quot;z&quot;:-2.2375},{&quot;x&quot;:1.46154,&quot;y&quot;:2.41661,&quot;z&quot;:-2.35529},{&quot;x&quot;:1.46154,&quot;y&quot;:2.49716,&quot;z&quot;:-2.36874},{&quot;x&quot;:1.46154,&quot;y&quot;:2.57772,&quot;z&quot;:-2.31714},{&quot;x&quot;:1.46154,&quot;y&quot;:2.65827,&quot;z&quot;:-2.23143},{&quot;x&quot;:1.46154,&quot;y&quot;:2.73882,&quot;z&quot;:-2.13408},{&quot;x&quot;:1.46154,&quot;y&quot;:2.81938,&quot;z&quot;:-2.04046},{&quot;x&quot;:1.46154,&quot;y&quot;:2.89993,&quot;z&quot;:-1.96044},{&quot;x&quot;:1.46154,&quot;y&quot;:2.98049,&quot;z&quot;:-1.90005},{&quot;x&quot;:1.46154,&quot;y&quot;:3.06104,&quot;z&quot;:-1.86269},{&quot;x&quot;:1.46154,&quot;y&quot;:3.14159,&quot;z&quot;:-1.85007},{&quot;x&quot;:1.51282,&quot;y&quot;:0,&quot;z&quot;:-1.60841},{&quot;x&quot;:1.51282,&quot;y&quot;:0.0805537,&quot;z&quot;:-1.61763},{&quot;x&quot;:1.51282,&quot;y&quot;:0.161107,&quot;z&quot;:-1.64476},{&quot;x&quot;:1.51282,&quot;y&quot;:0.241661,&quot;z&quot;:-1.68806},{&quot;x&quot;:1.51282,&quot;y&quot;:0.322215,&quot;z&quot;:-1.74415},{&quot;x&quot;:1.51282,&quot;y&quot;:0.402768,&quot;z&quot;:-1.8074},{&quot;x&quot;:1.51282,&quot;y&quot;:0.483322,&quot;z&quot;:-1.86893},{&quot;x&quot;:1.51282,&quot;y&quot;:0.563876,&quot;z&quot;:-1.9155},{&quot;x&quot;:1.51282,&quot;y&quot;:0.644429,&quot;z&quot;:-1.92849},{&quot;x&quot;:1.51282,&quot;y&quot;:0.724983,&quot;z&quot;:-1.88321},{&quot;x&quot;:1.51282,&quot;y&quot;:0.805537,&quot;z&quot;:-1.74944},{&quot;x&quot;:1.51282,&quot;y&quot;:0.88609,&quot;z&quot;:-1.49395},{&quot;x&quot;:1.51282,&quot;y&quot;:0.966644,&quot;z&quot;:-1.0861},{&quot;x&quot;:1.51282,&quot;y&quot;:1.0472,&quot;z&quot;:-0.506748},{&quot;x&quot;:1.51282,&quot;y&quot;:1.12775,&quot;z&quot;:0.240159},{&quot;x&quot;:1.51282,&quot;y&quot;:1.2083,&quot;z&quot;:1.11644},{&quot;x&quot;:1.51282,&quot;y&quot;:1.28886,&quot;z&quot;:2.04391},{&quot;x&quot;:1.51282,&quot;y&quot;:1.36941,&quot;z&quot;:2.90958},{&quot;x&quot;:1.51282,&quot;y&quot;:1.44997,&quot;z&quot;:3.5849},{&quot;x&quot;:1.51282,&quot;y&quot;:1.53052,&quot;z&quot;:3.95612},{&quot;x&quot;:1.51282,&quot;y&quot;:1.61107,&quot;z&quot;:3.95612},{&quot;x&quot;:1.51282,&quot;y&quot;:1.69163,&quot;z&quot;:3.5849},{&quot;x&quot;:1.51282,&quot;y&quot;:1.77218,&quot;z&quot;:2.90958},{&quot;x&quot;:1.51282,&quot;y&quot;:1.85273,&quot;z&quot;:2.04391},{&quot;x&quot;:1.51282,&quot;y&quot;:1.93329,&quot;z&quot;:1.11644},{&quot;x&quot;:1.51282,&quot;y&quot;:2.01384,&quot;z&quot;:0.240159},{&quot;x&quot;:1.51282,&quot;y&quot;:2.0944,&quot;z&quot;:-0.506748},{&quot;x&quot;:1.51282,&quot;y&quot;:2.17495,&quot;z&quot;:-1.0861},{&quot;x&quot;:1.51282,&quot;y&quot;:2.2555,&quot;z&quot;:-1.49395},{&quot;x&quot;:1.51282,&quot;y&quot;:2.33606,&quot;z&quot;:-1.74944},{&quot;x&quot;:1.51282,&quot;y&quot;:2.41661,&quot;z&quot;:-1.88321},{&quot;x&quot;:1.51282,&quot;y&quot;:2.49716,&quot;z&quot;:-1.92849},{&quot;x&quot;:1.51282,&quot;y&quot;:2.57772,&quot;z&quot;:-1.9155},{&quot;x&quot;:1.51282,&quot;y&quot;:2.65827,&quot;z&quot;:-1.86893},{&quot;x&quot;:1.51282,&quot;y&quot;:2.73882,&quot;z&quot;:-1.8074},{&quot;x&quot;:1.51282,&quot;y&quot;:2.81938,&quot;z&quot;:-1.74415},{&quot;x&quot;:1.51282,&quot;y&quot;:2.89993,&quot;z&quot;:-1.68806},{&quot;x&quot;:1.51282,&quot;y&quot;:2.98049,&quot;z&quot;:-1.64476},{&quot;x&quot;:1.51282,&quot;y&quot;:3.06104,&quot;z&quot;:-1.61763},{&quot;x&quot;:1.51282,&quot;y&quot;:3.14159,&quot;z&quot;:-1.60841},{&quot;x&quot;:1.5641,&quot;y&quot;:0,&quot;z&quot;:-1.38997},{&quot;x&quot;:1.5641,&quot;y&quot;:0.0805537,&quot;z&quot;:-1.39655},{&quot;x&quot;:1.5641,&quot;y&quot;:0.161107,&quot;z&quot;:-1.41578},{&quot;x&quot;:1.5641,&quot;y&quot;:0.241661,&quot;z&quot;:-1.44596},{&quot;x&quot;:1.5641,&quot;y&quot;:0.322215,&quot;z&quot;:-1.48394},{&quot;x&quot;:1.5641,&quot;y&quot;:0.402768,&quot;z&quot;:-1.52459},{&quot;x&quot;:1.5641,&quot;y&quot;:0.483322,&quot;z&quot;:-1.5601},{&quot;x&quot;:1.5641,&quot;y&quot;:0.563876,&quot;z&quot;:-1.57926},{&quot;x&quot;:1.5641,&quot;y&quot;:0.644429,&quot;z&quot;:-1.56678},{&quot;x&quot;:1.5641,&quot;y&quot;:0.724983,&quot;z&quot;:-1.50307},{&quot;x&quot;:1.5641,&quot;y&quot;:0.805537,&quot;z&quot;:-1.36499},{&quot;x&quot;:1.5641,&quot;y&quot;:0.88609,&quot;z&quot;:-1.12814},{&quot;x&quot;:1.5641,&quot;y&quot;:0.966644,&quot;z&quot;:-0.771371},{&quot;x&quot;:1.5641,&quot;y&quot;:1.0472,&quot;z&quot;:-0.283598},{&quot;x&quot;:1.5641,&quot;y&quot;:1.12775,&quot;z&quot;:0.327963},{&quot;x&quot;:1.5641,&quot;y&quot;:1.2083,&quot;z&quot;:1.0303},{&quot;x&quot;:1.5641,&quot;y&quot;:1.28886,&quot;z&quot;:1.76146},{&quot;x&quot;:1.5641,&quot;y&quot;:1.36941,&quot;z&quot;:2.4354},{&quot;x&quot;:1.5641,&quot;y&quot;:1.44997,&quot;z&quot;:2.95652},{&quot;x&quot;:1.5641,&quot;y&quot;:1.53052,&quot;z&quot;:3.24147},{&quot;x&quot;:1.5641,&quot;y&quot;:1.61107,&quot;z&quot;:3.24147},{&quot;x&quot;:1.5641,&quot;y&quot;:1.69163,&quot;z&quot;:2.95652},{&quot;x&quot;:1.5641,&quot;y&quot;:1.77218,&quot;z&quot;:2.4354},{&quot;x&quot;:1.5641,&quot;y&quot;:1.85273,&quot;z&quot;:1.76146},{&quot;x&quot;:1.5641,&quot;y&quot;:1.93329,&quot;z&quot;:1.0303},{&quot;x&quot;:1.5641,&quot;y&quot;:2.01384,&quot;z&quot;:0.327963},{&quot;x&quot;:1.5641,&quot;y&quot;:2.0944,&quot;z&quot;:-0.283598},{&quot;x&quot;:1.5641,&quot;y&quot;:2.17495,&quot;z&quot;:-0.771371},{&quot;x&quot;:1.5641,&quot;y&quot;:2.2555,&quot;z&quot;:-1.12814},{&quot;x&quot;:1.5641,&quot;y&quot;:2.33606,&quot;z&quot;:-1.36499},{&quot;x&quot;:1.5641,&quot;y&quot;:2.41661,&quot;z&quot;:-1.50307},{&quot;x&quot;:1.5641,&quot;y&quot;:2.49716,&quot;z&quot;:-1.56678},{&quot;x&quot;:1.5641,&quot;y&quot;:2.57772,&quot;z&quot;:-1.57926},{&quot;x&quot;:1.5641,&quot;y&quot;:2.65827,&quot;z&quot;:-1.5601},{&quot;x&quot;:1.5641,&quot;y&quot;:2.73882,&quot;z&quot;:-1.52459},{&quot;x&quot;:1.5641,&quot;y&quot;:2.81938,&quot;z&quot;:-1.48394},{&quot;x&quot;:1.5641,&quot;y&quot;:2.89993,&quot;z&quot;:-1.44596},{&quot;x&quot;:1.5641,&quot;y&quot;:2.98049,&quot;z&quot;:-1.41578},{&quot;x&quot;:1.5641,&quot;y&quot;:3.06104,&quot;z&quot;:-1.39655},{&quot;x&quot;:1.5641,&quot;y&quot;:3.14159,&quot;z&quot;:-1.38997},{&quot;x&quot;:1.61538,&quot;y&quot;:0,&quot;z&quot;:-1.19546},{&quot;x&quot;:1.61538,&quot;y&quot;:0.0805537,&quot;z&quot;:-1.20002},{&quot;x&quot;:1.61538,&quot;y&quot;:0.161107,&quot;z&quot;:-1.21321},{&quot;x&quot;:1.61538,&quot;y&quot;:0.241661,&quot;z&quot;:-1.23346},{&quot;x&quot;:1.61538,&quot;y&quot;:0.322215,&quot;z&quot;:-1.25788},{&quot;x&quot;:1.61538,&quot;y&quot;:0.402768,&quot;z&quot;:-1.28192},{&quot;x&quot;:1.61538,&quot;y&quot;:0.483322,&quot;z&quot;:-1.29884},{&quot;x&quot;:1.61538,&quot;y&quot;:0.563876,&quot;z&quot;:-1.29924},{&quot;x&quot;:1.61538,&quot;y&quot;:0.644429,&quot;z&quot;:-1.27066},{&quot;x&quot;:1.61538,&quot;y&quot;:0.724983,&quot;z&quot;:-1.19764},{&quot;x&quot;:1.61538,&quot;y&quot;:0.805537,&quot;z&quot;:-1.06249},{&quot;x&quot;:1.61538,&quot;y&quot;:0.88609,&quot;z&quot;:-0.847365},{&quot;x&quot;:1.61538,&quot;y&quot;:0.966644,&quot;z&quot;:-0.537813},{&quot;x&quot;:1.61538,&quot;y&quot;:1.0472,&quot;z&quot;:-0.127951},{&quot;x&quot;:1.61538,&quot;y&quot;:1.12775,&quot;z&quot;:0.373629},{&quot;x&quot;:1.61538,&quot;y&quot;:1.2083,&quot;z&quot;:0.938862},{&quot;x&quot;:1.61538,&quot;y&quot;:1.28886,&quot;z&quot;:1.51863},{&quot;x&quot;:1.61538,&quot;y&quot;:1.36941,&quot;z&quot;:2.04702},{&quot;x&quot;:1.61538,&quot;y&quot;:1.44997,&quot;z&quot;:2.45234},{&quot;x&quot;:1.61538,&quot;y&quot;:1.53052,&quot;z&quot;:2.67291},{&quot;x&quot;:1.61538,&quot;y&quot;:1.61107,&quot;z&quot;:2.67291},{&quot;x&quot;:1.61538,&quot;y&quot;:1.69163,&quot;z&quot;:2.45234},{&quot;x&quot;:1.61538,&quot;y&quot;:1.77218,&quot;z&quot;:2.04702},{&quot;x&quot;:1.61538,&quot;y&quot;:1.85273,&quot;z&quot;:1.51863},{&quot;x&quot;:1.61538,&quot;y&quot;:1.93329,&quot;z&quot;:0.938862},{&quot;x&quot;:1.61538,&quot;y&quot;:2.01384,&quot;z&quot;:0.373629},{&quot;x&quot;:1.61538,&quot;y&quot;:2.0944,&quot;z&quot;:-0.127951},{&quot;x&quot;:1.61538,&quot;y&quot;:2.17495,&quot;z&quot;:-0.537813},{&quot;x&quot;:1.61538,&quot;y&quot;:2.2555,&quot;z&quot;:-0.847365},{&quot;x&quot;:1.61538,&quot;y&quot;:2.33606,&quot;z&quot;:-1.06249},{&quot;x&quot;:1.61538,&quot;y&quot;:2.41661,&quot;z&quot;:-1.19764},{&quot;x&quot;:1.61538,&quot;y&quot;:2.49716,&quot;z&quot;:-1.27066},{&quot;x&quot;:1.61538,&quot;y&quot;:2.57772,&quot;z&quot;:-1.29924},{&quot;x&quot;:1.61538,&quot;y&quot;:2.65827,&quot;z&quot;:-1.29884},{&quot;x&quot;:1.61538,&quot;y&quot;:2.73882,&quot;z&quot;:-1.28192},{&quot;x&quot;:1.61538,&quot;y&quot;:2.81938,&quot;z&quot;:-1.25788},{&quot;x&quot;:1.61538,&quot;y&quot;:2.89993,&quot;z&quot;:-1.23346},{&quot;x&quot;:1.61538,&quot;y&quot;:2.98049,&quot;z&quot;:-1.21321},{&quot;x&quot;:1.61538,&quot;y&quot;:3.06104,&quot;z&quot;:-1.20002},{&quot;x&quot;:1.61538,&quot;y&quot;:3.14159,&quot;z&quot;:-1.19546},{&quot;x&quot;:1.66667,&quot;y&quot;:0,&quot;z&quot;:-1.02423},{&quot;x&quot;:1.66667,&quot;y&quot;:0.0805537,&quot;z&quot;:-1.02726},{&quot;x&quot;:1.66667,&quot;y&quot;:0.161107,&quot;z&quot;:-1.03589},{&quot;x&quot;:1.66667,&quot;y&quot;:0.241661,&quot;z&quot;:-1.04868},{&quot;x&quot;:1.66667,&quot;y&quot;:0.322215,&quot;z&quot;:-1.06309},{&quot;x&quot;:1.66667,&quot;y&quot;:0.402768,&quot;z&quot;:-1.07512},{&quot;x&quot;:1.66667,&quot;y&quot;:0.483322,&quot;z&quot;:-1.07902},{&quot;x&quot;:1.66667,&quot;y&quot;:0.563876,&quot;z&quot;:-1.06698},{&quot;x&quot;:1.66667,&quot;y&quot;:0.644429,&quot;z&quot;:-1.02891},{&quot;x&quot;:1.66667,&quot;y&quot;:0.724983,&quot;z&quot;:-0.952627},{&quot;x&quot;:1.66667,&quot;y&quot;:0.805537,&quot;z&quot;:-0.824669},{&quot;x&quot;:1.66667,&quot;y&quot;:0.88609,&quot;z&quot;:-0.632006},{&quot;x&quot;:1.66667,&quot;y&quot;:0.966644,&quot;z&quot;:-0.364907},{&quot;x&quot;:1.66667,&quot;y&quot;:1.0472,&quot;z&quot;:-0.0208066},{&quot;x&quot;:1.66667,&quot;y&quot;:1.12775,&quot;z&quot;:0.391441},{&quot;x&quot;:1.66667,&quot;y&quot;:1.2083,&quot;z&quot;:0.848229},{&quot;x&quot;:1.66667,&quot;y&quot;:1.28886,&quot;z&quot;:1.31055},{&quot;x&quot;:1.66667,&quot;y&quot;:1.36941,&quot;z&quot;:1.72762},{&quot;x&quot;:1.66667,&quot;y&quot;:1.44997,&quot;z&quot;:2.04523},{&quot;x&quot;:1.66667,&quot;y&quot;:1.53052,&quot;z&quot;:2.21732},{&quot;x&quot;:1.66667,&quot;y&quot;:1.61107,&quot;z&quot;:2.21732},{&quot;x&quot;:1.66667,&quot;y&quot;:1.69163,&quot;z&quot;:2.04523},{&quot;x&quot;:1.66667,&quot;y&quot;:1.77218,&quot;z&quot;:1.72762},{&quot;x&quot;:1.66667,&quot;y&quot;:1.85273,&quot;z&quot;:1.31055},{&quot;x&quot;:1.66667,&quot;y&quot;:1.93329,&quot;z&quot;:0.848229},{&quot;x&quot;:1.66667,&quot;y&quot;:2.01384,&quot;z&quot;:0.391441},{&quot;x&quot;:1.66667,&quot;y&quot;:2.0944,&quot;z&quot;:-0.0208066},{&quot;x&quot;:1.66667,&quot;y&quot;:2.17495,&quot;z&quot;:-0.364907},{&quot;x&quot;:1.66667,&quot;y&quot;:2.2555,&quot;z&quot;:-0.632006},{&quot;x&quot;:1.66667,&quot;y&quot;:2.33606,&quot;z&quot;:-0.824669},{&quot;x&quot;:1.66667,&quot;y&quot;:2.41661,&quot;z&quot;:-0.952627},{&quot;x&quot;:1.66667,&quot;y&quot;:2.49716,&quot;z&quot;:-1.02891},{&quot;x&quot;:1.66667,&quot;y&quot;:2.57772,&quot;z&quot;:-1.06698},{&quot;x&quot;:1.66667,&quot;y&quot;:2.65827,&quot;z&quot;:-1.07902},{&quot;x&quot;:1.66667,&quot;y&quot;:2.73882,&quot;z&quot;:-1.07512},{&quot;x&quot;:1.66667,&quot;y&quot;:2.81938,&quot;z&quot;:-1.06309},{&quot;x&quot;:1.66667,&quot;y&quot;:2.89993,&quot;z&quot;:-1.04868},{&quot;x&quot;:1.66667,&quot;y&quot;:2.98049,&quot;z&quot;:-1.03589},{&quot;x&quot;:1.66667,&quot;y&quot;:3.06104,&quot;z&quot;:-1.02726},{&quot;x&quot;:1.66667,&quot;y&quot;:3.14159,&quot;z&quot;:-1.02423},{&quot;x&quot;:1.71795,&quot;y&quot;:0,&quot;z&quot;:-0.874814},{&quot;x&quot;:1.71795,&quot;y&quot;:0.0805537,&quot;z&quot;:-0.876689},{&quot;x&quot;:1.71795,&quot;y&quot;:0.161107,&quot;z&quot;:-0.881906},{&quot;x&quot;:1.71795,&quot;y&quot;:0.241661,&quot;z&quot;:-0.889198},{&quot;x&quot;:1.71795,&quot;y&quot;:0.322215,&quot;z&quot;:-0.89631},{&quot;x&quot;:1.71795,&quot;y&quot;:0.402768,&quot;z&quot;:-0.899803},{&quot;x&quot;:1.71795,&quot;y&quot;:0.483322,&quot;z&quot;:-0.894824},{&quot;x&quot;:1.71795,&quot;y&quot;:0.563876,&quot;z&quot;:-0.874906},{&quot;x&quot;:1.71795,&quot;y&quot;:0.644429,&quot;z&quot;:-0.831916},{&quot;x&quot;:1.71795,&quot;y&quot;:0.724983,&quot;z&quot;:-0.756291},{&quot;x&quot;:1.71795,&quot;y&quot;:0.805537,&quot;z&quot;:-0.637795},{&quot;x&quot;:1.71795,&quot;y&quot;:0.88609,&quot;z&quot;:-0.46696},{&quot;x&quot;:1.71795,&quot;y&quot;:0.966644,&quot;z&quot;:-0.237347},{&quot;x&quot;:1.71795,&quot;y&quot;:1.0472,&quot;z&quot;:0.0515369},{&quot;x&quot;:1.71795,&quot;y&quot;:1.12775,&quot;z&quot;:0.391183},{&quot;x&quot;:1.71795,&quot;y&quot;:1.2083,&quot;z&quot;:0.761871},{&quot;x&quot;:1.71795,&quot;y&quot;:1.28886,&quot;z&quot;:1.13255},{&quot;x&quot;:1.71795,&quot;y&quot;:1.36941,&quot;z&quot;:1.46385},{&quot;x&quot;:1.71795,&quot;y&quot;:1.44997,&quot;z&quot;:1.71449},{&quot;x&quot;:1.71795,&quot;y&quot;:1.53052,&quot;z&quot;:1.84975},{&quot;x&quot;:1.71795,&quot;y&quot;:1.61107,&quot;z&quot;:1.84975},{&quot;x&quot;:1.71795,&quot;y&quot;:1.69163,&quot;z&quot;:1.71449},{&quot;x&quot;:1.71795,&quot;y&quot;:1.77218,&quot;z&quot;:1.46385},{&quot;x&quot;:1.71795,&quot;y&quot;:1.85273,&quot;z&quot;:1.13255},{&quot;x&quot;:1.71795,&quot;y&quot;:1.93329,&quot;z&quot;:0.761871},{&quot;x&quot;:1.71795,&quot;y&quot;:2.01384,&quot;z&quot;:0.391183},{&quot;x&quot;:1.71795,&quot;y&quot;:2.0944,&quot;z&quot;:0.0515369},{&quot;x&quot;:1.71795,&quot;y&quot;:2.17495,&quot;z&quot;:-0.237347},{&quot;x&quot;:1.71795,&quot;y&quot;:2.2555,&quot;z&quot;:-0.46696},{&quot;x&quot;:1.71795,&quot;y&quot;:2.33606,&quot;z&quot;:-0.637795},{&quot;x&quot;:1.71795,&quot;y&quot;:2.41661,&quot;z&quot;:-0.756291},{&quot;x&quot;:1.71795,&quot;y&quot;:2.49716,&quot;z&quot;:-0.831916},{&quot;x&quot;:1.71795,&quot;y&quot;:2.57772,&quot;z&quot;:-0.874906},{&quot;x&quot;:1.71795,&quot;y&quot;:2.65827,&quot;z&quot;:-0.894824},{&quot;x&quot;:1.71795,&quot;y&quot;:2.73882,&quot;z&quot;:-0.899803},{&quot;x&quot;:1.71795,&quot;y&quot;:2.81938,&quot;z&quot;:-0.89631},{&quot;x&quot;:1.71795,&quot;y&quot;:2.89993,&quot;z&quot;:-0.889198},{&quot;x&quot;:1.71795,&quot;y&quot;:2.98049,&quot;z&quot;:-0.881906},{&quot;x&quot;:1.71795,&quot;y&quot;:3.06104,&quot;z&quot;:-0.876689},{&quot;x&quot;:1.71795,&quot;y&quot;:3.14159,&quot;z&quot;:-0.874814},{&quot;x&quot;:1.76923,&quot;y&quot;:0,&quot;z&quot;:-0.745313},{&quot;x&quot;:1.76923,&quot;y&quot;:0.0805537,&quot;z&quot;:-0.746335},{&quot;x&quot;:1.76923,&quot;y&quot;:0.161107,&quot;z&quot;:-0.749042},{&quot;x&quot;:1.76923,&quot;y&quot;:0.241661,&quot;z&quot;:-0.752321},{&quot;x&quot;:1.76923,&quot;y&quot;:0.322215,&quot;z&quot;:-0.754217},{&quot;x&quot;:1.76923,&quot;y&quot;:0.402768,&quot;z&quot;:-0.751789},{&quot;x&quot;:1.76923,&quot;y&quot;:0.483322,&quot;z&quot;:-0.740963},{&quot;x&quot;:1.76923,&quot;y&quot;:0.563876,&quot;z&quot;:-0.716423},{&quot;x&quot;:1.76923,&quot;y&quot;:0.644429,&quot;z&quot;:-0.671628},{&quot;x&quot;:1.76923,&quot;y&quot;:0.724983,&quot;z&quot;:-0.599087},{&quot;x&quot;:1.76923,&quot;y&quot;:0.805537,&quot;z&quot;:-0.491031},{&quot;x&quot;:1.76923,&quot;y&quot;:0.88609,&quot;z&quot;:-0.340617},{&quot;x&quot;:1.76923,&quot;y&quot;:0.966644,&quot;z&quot;:-0.143697},{&quot;x&quot;:1.76923,&quot;y&quot;:1.0472,&quot;z&quot;:0.0989728},{&quot;x&quot;:1.76923,&quot;y&quot;:1.12775,&quot;z&quot;:0.379542},{&quot;x&quot;:1.76923,&quot;y&quot;:1.2083,&quot;z&quot;:0.681605},{&quot;x&quot;:1.76923,&quot;y&quot;:1.28886,&quot;z&quot;:0.980367},{&quot;x&quot;:1.76923,&quot;y&quot;:1.36941,&quot;z&quot;:1.24515},{&quot;x&quot;:1.76923,&quot;y&quot;:1.44997,&quot;z&quot;:1.44425},{&quot;x&quot;:1.76923,&quot;y&quot;:1.53052,&quot;z&quot;:1.55132},{&quot;x&quot;:1.76923,&quot;y&quot;:1.61107,&quot;z&quot;:1.55132},{&quot;x&quot;:1.76923,&quot;y&quot;:1.69163,&quot;z&quot;:1.44425},{&quot;x&quot;:1.76923,&quot;y&quot;:1.77218,&quot;z&quot;:1.24515},{&quot;x&quot;:1.76923,&quot;y&quot;:1.85273,&quot;z&quot;:0.980367},{&quot;x&quot;:1.76923,&quot;y&quot;:1.93329,&quot;z&quot;:0.681605},{&quot;x&quot;:1.76923,&quot;y&quot;:2.01384,&quot;z&quot;:0.379542},{&quot;x&quot;:1.76923,&quot;y&quot;:2.0944,&quot;z&quot;:0.0989728},{&quot;x&quot;:1.76923,&quot;y&quot;:2.17495,&quot;z&quot;:-0.143697},{&quot;x&quot;:1.76923,&quot;y&quot;:2.2555,&quot;z&quot;:-0.340617},{&quot;x&quot;:1.76923,&quot;y&quot;:2.33606,&quot;z&quot;:-0.491031},{&quot;x&quot;:1.76923,&quot;y&quot;:2.41661,&quot;z&quot;:-0.599087},{&quot;x&quot;:1.76923,&quot;y&quot;:2.49716,&quot;z&quot;:-0.671628},{&quot;x&quot;:1.76923,&quot;y&quot;:2.57772,&quot;z&quot;:-0.716423},{&quot;x&quot;:1.76923,&quot;y&quot;:2.65827,&quot;z&quot;:-0.740963},{&quot;x&quot;:1.76923,&quot;y&quot;:2.73882,&quot;z&quot;:-0.751789},{&quot;x&quot;:1.76923,&quot;y&quot;:2.81938,&quot;z&quot;:-0.754217},{&quot;x&quot;:1.76923,&quot;y&quot;:2.89993,&quot;z&quot;:-0.752321},{&quot;x&quot;:1.76923,&quot;y&quot;:2.98049,&quot;z&quot;:-0.749042},{&quot;x&quot;:1.76923,&quot;y&quot;:3.06104,&quot;z&quot;:-0.746335},{&quot;x&quot;:1.76923,&quot;y&quot;:3.14159,&quot;z&quot;:-0.745313},{&quot;x&quot;:1.82051,&quot;y&quot;:0,&quot;z&quot;:-0.633675},{&quot;x&quot;:1.82051,&quot;y&quot;:0.0805537,&quot;z&quot;:-0.634076},{&quot;x&quot;:1.82051,&quot;y&quot;:0.161107,&quot;z&quot;:-0.634964},{&quot;x&quot;:1.82051,&quot;y&quot;:0.241661,&quot;z&quot;:-0.635373},{&quot;x&quot;:1.82051,&quot;y&quot;:0.322215,&quot;z&quot;:-0.633621},{&quot;x&quot;:1.82051,&quot;y&quot;:0.402768,&quot;z&quot;:-0.627214},{&quot;x&quot;:1.82051,&quot;y&quot;:0.483322,&quot;z&quot;:-0.612751},{&quot;x&quot;:1.82051,&quot;y&quot;:0.563876,&quot;z&quot;:-0.585874},{&quot;x&quot;:1.82051,&quot;y&quot;:0.644429,&quot;z&quot;:-0.541339},{&quot;x&quot;:1.82051,&quot;y&quot;:0.724983,&quot;z&quot;:-0.473286},{&quot;x&quot;:1.82051,&quot;y&quot;:0.805537,&quot;z&quot;:-0.375832},{&quot;x&quot;:1.82051,&quot;y&quot;:0.88609,&quot;z&quot;:-0.24406},{&quot;x&quot;:1.82051,&quot;y&quot;:0.966644,&quot;z&quot;:-0.0754108},{&quot;x&quot;:1.82051,&quot;y&quot;:1.0472,&quot;z&quot;:0.128653},{&quot;x&quot;:1.82051,&quot;y&quot;:1.12775,&quot;z&quot;:0.361068},{&quot;x&quot;:1.82051,&quot;y&quot;:1.2083,&quot;z&quot;:0.608215},{&quot;x&quot;:1.82051,&quot;y&quot;:1.28886,&quot;z&quot;:0.850235},{&quot;x&quot;:1.82051,&quot;y&quot;:1.36941,&quot;z&quot;:1.06308},{&quot;x&quot;:1.82051,&quot;y&quot;:1.44997,&quot;z&quot;:1.22225},{&quot;x&quot;:1.82051,&quot;y&quot;:1.53052,&quot;z&quot;:1.30755},{&quot;x&quot;:1.82051,&quot;y&quot;:1.61107,&quot;z&quot;:1.30755},{&quot;x&quot;:1.82051,&quot;y&quot;:1.69163,&quot;z&quot;:1.22225},{&quot;x&quot;:1.82051,&quot;y&quot;:1.77218,&quot;z&quot;:1.06308},{&quot;x&quot;:1.82051,&quot;y&quot;:1.85273,&quot;z&quot;:0.850235},{&quot;x&quot;:1.82051,&quot;y&quot;:1.93329,&quot;z&quot;:0.608215},{&quot;x&quot;:1.82051,&quot;y&quot;:2.01384,&quot;z&quot;:0.361068},{&quot;x&quot;:1.82051,&quot;y&quot;:2.0944,&quot;z&quot;:0.128653},{&quot;x&quot;:1.82051,&quot;y&quot;:2.17495,&quot;z&quot;:-0.0754108},{&quot;x&quot;:1.82051,&quot;y&quot;:2.2555,&quot;z&quot;:-0.24406},{&quot;x&quot;:1.82051,&quot;y&quot;:2.33606,&quot;z&quot;:-0.375832},{&quot;x&quot;:1.82051,&quot;y&quot;:2.41661,&quot;z&quot;:-0.473286},{&quot;x&quot;:1.82051,&quot;y&quot;:2.49716,&quot;z&quot;:-0.541339},{&quot;x&quot;:1.82051,&quot;y&quot;:2.57772,&quot;z&quot;:-0.585874},{&quot;x&quot;:1.82051,&quot;y&quot;:2.65827,&quot;z&quot;:-0.612751},{&quot;x&quot;:1.82051,&quot;y&quot;:2.73882,&quot;z&quot;:-0.627214},{&quot;x&quot;:1.82051,&quot;y&quot;:2.81938,&quot;z&quot;:-0.633621},{&quot;x&quot;:1.82051,&quot;y&quot;:2.89993,&quot;z&quot;:-0.635373},{&quot;x&quot;:1.82051,&quot;y&quot;:2.98049,&quot;z&quot;:-0.634964},{&quot;x&quot;:1.82051,&quot;y&quot;:3.06104,&quot;z&quot;:-0.634076},{&quot;x&quot;:1.82051,&quot;y&quot;:3.14159,&quot;z&quot;:-0.633675},{&quot;x&quot;:1.87179,&quot;y&quot;:0,&quot;z&quot;:-0.537844},{&quot;x&quot;:1.87179,&quot;y&quot;:0.0805537,&quot;z&quot;:-0.5378},{&quot;x&quot;:1.87179,&quot;y&quot;:0.161107,&quot;z&quot;:-0.537396},{&quot;x&quot;:1.87179,&quot;y&quot;:0.241661,&quot;z&quot;:-0.535801},{&quot;x&quot;:1.87179,&quot;y&quot;:0.322215,&quot;z&quot;:-0.531577},{&quot;x&quot;:1.87179,&quot;y&quot;:0.402768,&quot;z&quot;:-0.52262},{&quot;x&quot;:1.87179,&quot;y&quot;:0.483322,&quot;z&quot;:-0.506104},{&quot;x&quot;:1.87179,&quot;y&quot;:0.563876,&quot;z&quot;:-0.478467},{&quot;x&quot;:1.87179,&quot;y&quot;:0.644429,&quot;z&quot;:-0.435512},{&quot;x&quot;:1.87179,&quot;y&quot;:0.724983,&quot;z&quot;:-0.372661},{&quot;x&quot;:1.87179,&quot;y&quot;:0.805537,&quot;z&quot;:-0.28547},{&quot;x&quot;:1.87179,&quot;y&quot;:0.88609,&quot;z&quot;:-0.170435},{&quot;x&quot;:1.87179,&quot;y&quot;:0.966644,&quot;z&quot;:-0.026087},{&quot;x&quot;:1.87179,&quot;y&quot;:1.0472,&quot;z&quot;:0.145753},{&quot;x&quot;:1.87179,&quot;y&quot;:1.12775,&quot;z&quot;:0.338833},{&quot;x&quot;:1.87179,&quot;y&quot;:1.2083,&quot;z&quot;:0.541859},{&quot;x&quot;:1.87179,&quot;y&quot;:1.28886,&quot;z&quot;:0.738872},{&quot;x&quot;:1.87179,&quot;y&quot;:1.36941,&quot;z&quot;:0.910909},{&quot;x&quot;:1.87179,&quot;y&quot;:1.44997,&quot;z&quot;:1.03891},{&quot;x&quot;:1.87179,&quot;y&quot;:1.53052,&quot;z&quot;:1.10731},{&quot;x&quot;:1.87179,&quot;y&quot;:1.61107,&quot;z&quot;:1.10731},{&quot;x&quot;:1.87179,&quot;y&quot;:1.69163,&quot;z&quot;:1.03891},{&quot;x&quot;:1.87179,&quot;y&quot;:1.77218,&quot;z&quot;:0.910909},{&quot;x&quot;:1.87179,&quot;y&quot;:1.85273,&quot;z&quot;:0.738872},{&quot;x&quot;:1.87179,&quot;y&quot;:1.93329,&quot;z&quot;:0.541859},{&quot;x&quot;:1.87179,&quot;y&quot;:2.01384,&quot;z&quot;:0.338833},{&quot;x&quot;:1.87179,&quot;y&quot;:2.0944,&quot;z&quot;:0.145753},{&quot;x&quot;:1.87179,&quot;y&quot;:2.17495,&quot;z&quot;:-0.026087},{&quot;x&quot;:1.87179,&quot;y&quot;:2.2555,&quot;z&quot;:-0.170435},{&quot;x&quot;:1.87179,&quot;y&quot;:2.33606,&quot;z&quot;:-0.28547},{&quot;x&quot;:1.87179,&quot;y&quot;:2.41661,&quot;z&quot;:-0.372661},{&quot;x&quot;:1.87179,&quot;y&quot;:2.49716,&quot;z&quot;:-0.435512},{&quot;x&quot;:1.87179,&quot;y&quot;:2.57772,&quot;z&quot;:-0.478467},{&quot;x&quot;:1.87179,&quot;y&quot;:2.65827,&quot;z&quot;:-0.506104},{&quot;x&quot;:1.87179,&quot;y&quot;:2.73882,&quot;z&quot;:-0.52262},{&quot;x&quot;:1.87179,&quot;y&quot;:2.81938,&quot;z&quot;:-0.531577},{&quot;x&quot;:1.87179,&quot;y&quot;:2.89993,&quot;z&quot;:-0.535801},{&quot;x&quot;:1.87179,&quot;y&quot;:2.98049,&quot;z&quot;:-0.537396},{&quot;x&quot;:1.87179,&quot;y&quot;:3.06104,&quot;z&quot;:-0.5378},{&quot;x&quot;:1.87179,&quot;y&quot;:3.14159,&quot;z&quot;:-0.537844},{&quot;x&quot;:1.92308,&quot;y&quot;:0,&quot;z&quot;:-0.455853},{&quot;x&quot;:1.92308,&quot;y&quot;:0.0805537,&quot;z&quot;:-0.455499},{&quot;x&quot;:1.92308,&quot;y&quot;:0.161107,&quot;z&quot;:-0.454203},{&quot;x&quot;:1.92308,&quot;y&quot;:0.241661,&quot;z&quot;:-0.451254},{&quot;x&quot;:1.92308,&quot;y&quot;:0.322215,&quot;z&quot;:-0.44543},{&quot;x&quot;:1.92308,&quot;y&quot;:0.402768,&quot;z&quot;:-0.434965},{&quot;x&quot;:1.92308,&quot;y&quot;:0.483322,&quot;z&quot;:-0.417515},{&quot;x&quot;:1.92308,&quot;y&quot;:0.563876,&quot;z&quot;:-0.39018},{&quot;x&quot;:1.92308,&quot;y&quot;:0.644429,&quot;z&quot;:-0.349601},{&quot;x&quot;:1.92308,&quot;y&quot;:0.724983,&quot;z&quot;:-0.292209},{&quot;x&quot;:1.92308,&quot;y&quot;:0.805537,&quot;z&quot;:-0.214656},{&quot;x&quot;:1.92308,&quot;y&quot;:0.88609,&quot;z&quot;:-0.114472},{&quot;x&quot;:1.92308,&quot;y&quot;:0.966644,&quot;z&quot;:0.00907196},{&quot;x&quot;:1.92308,&quot;y&quot;:1.0472,&quot;z&quot;:0.154016},{&quot;x&quot;:1.92308,&quot;y&quot;:1.12775,&quot;z&quot;:0.31489},{&quot;x&quot;:1.92308,&quot;y&quot;:1.2083,&quot;z&quot;:0.482327},{&quot;x&quot;:1.92308,&quot;y&quot;:1.28886,&quot;z&quot;:0.643454},{&quot;x&quot;:1.92308,&quot;y&quot;:1.36941,&quot;z&quot;:0.783244},{&quot;x&quot;:1.92308,&quot;y&quot;:1.44997,&quot;z&quot;:0.886768},{&quot;x&quot;:1.92308,&quot;y&quot;:1.53052,&quot;z&quot;:0.941927},{&quot;x&quot;:1.92308,&quot;y&quot;:1.61107,&quot;z&quot;:0.941927},{&quot;x&quot;:1.92308,&quot;y&quot;:1.69163,&quot;z&quot;:0.886768},{&quot;x&quot;:1.92308,&quot;y&quot;:1.77218,&quot;z&quot;:0.783244},{&quot;x&quot;:1.92308,&quot;y&quot;:1.85273,&quot;z&quot;:0.643454},{&quot;x&quot;:1.92308,&quot;y&quot;:1.93329,&quot;z&quot;:0.482327},{&quot;x&quot;:1.92308,&quot;y&quot;:2.01384,&quot;z&quot;:0.31489},{&quot;x&quot;:1.92308,&quot;y&quot;:2.0944,&quot;z&quot;:0.154016},{&quot;x&quot;:1.92308,&quot;y&quot;:2.17495,&quot;z&quot;:0.00907196},{&quot;x&quot;:1.92308,&quot;y&quot;:2.2555,&quot;z&quot;:-0.114472},{&quot;x&quot;:1.92308,&quot;y&quot;:2.33606,&quot;z&quot;:-0.214656},{&quot;x&quot;:1.92308,&quot;y&quot;:2.41661,&quot;z&quot;:-0.292209},{&quot;x&quot;:1.92308,&quot;y&quot;:2.49716,&quot;z&quot;:-0.349601},{&quot;x&quot;:1.92308,&quot;y&quot;:2.57772,&quot;z&quot;:-0.39018},{&quot;x&quot;:1.92308,&quot;y&quot;:2.65827,&quot;z&quot;:-0.417515},{&quot;x&quot;:1.92308,&quot;y&quot;:2.73882,&quot;z&quot;:-0.434965},{&quot;x&quot;:1.92308,&quot;y&quot;:2.81938,&quot;z&quot;:-0.44543},{&quot;x&quot;:1.92308,&quot;y&quot;:2.89993,&quot;z&quot;:-0.451254},{&quot;x&quot;:1.92308,&quot;y&quot;:2.98049,&quot;z&quot;:-0.454203},{&quot;x&quot;:1.92308,&quot;y&quot;:3.06104,&quot;z&quot;:-0.455499},{&quot;x&quot;:1.92308,&quot;y&quot;:3.14159,&quot;z&quot;:-0.455853},{&quot;x&quot;:1.97436,&quot;y&quot;:0,&quot;z&quot;:-0.385889},{&quot;x&quot;:1.97436,&quot;y&quot;:0.0805537,&quot;z&quot;:-0.385326},{&quot;x&quot;:1.97436,&quot;y&quot;:0.161107,&quot;z&quot;:-0.383438},{&quot;x&quot;:1.97436,&quot;y&quot;:0.241661,&quot;z&quot;:-0.379618},{&quot;x&quot;:1.97436,&quot;y&quot;:0.322215,&quot;z&quot;:-0.372835},{&quot;x&quot;:1.97436,&quot;y&quot;:0.402768,&quot;z&quot;:-0.361608},{&quot;x&quot;:1.97436,&quot;y&quot;:0.483322,&quot;z&quot;:-0.344002},{&quot;x&quot;:1.97436,&quot;y&quot;:0.563876,&quot;z&quot;:-0.317655},{&quot;x&quot;:1.97436,&quot;y&quot;:0.644429,&quot;z&quot;:-0.279888},{&quot;x&quot;:1.97436,&quot;y&quot;:0.724983,&quot;z&quot;:-0.227918},{&quot;x&quot;:1.97436,&quot;y&quot;:0.805537,&quot;z&quot;:-0.159231},{&quot;x&quot;:1.97436,&quot;y&quot;:0.88609,&quot;z&quot;:-0.0721144},{&quot;x&quot;:1.97436,&quot;y&quot;:0.966644,&quot;z&quot;:0.0336666},{&quot;x&quot;:1.97436,&quot;y&quot;:1.0472,&quot;z&quot;:0.156151},{&quot;x&quot;:1.97436,&quot;y&quot;:1.12775,&quot;z&quot;:0.290588},{&quot;x&quot;:1.97436,&quot;y&quot;:1.2083,&quot;z&quot;:0.429204},{&quot;x&quot;:1.97436,&quot;y&quot;:1.28886,&quot;z&quot;:0.561578},{&quot;x&quot;:1.97436,&quot;y&quot;:1.36941,&quot;z&quot;:0.675735},{&quot;x&quot;:1.97436,&quot;y&quot;:1.44997,&quot;z&quot;:0.759915},{&quot;x&quot;:1.97436,&quot;y&quot;:1.53052,&quot;z&quot;:0.80465},{&quot;x&quot;:1.97436,&quot;y&quot;:1.61107,&quot;z&quot;:0.80465},{&quot;x&quot;:1.97436,&quot;y&quot;:1.69163,&quot;z&quot;:0.759915},{&quot;x&quot;:1.97436,&quot;y&quot;:1.77218,&quot;z&quot;:0.675735},{&quot;x&quot;:1.97436,&quot;y&quot;:1.85273,&quot;z&quot;:0.561578},{&quot;x&quot;:1.97436,&quot;y&quot;:1.93329,&quot;z&quot;:0.429204},{&quot;x&quot;:1.97436,&quot;y&quot;:2.01384,&quot;z&quot;:0.290588},{&quot;x&quot;:1.97436,&quot;y&quot;:2.0944,&quot;z&quot;:0.156151},{&quot;x&quot;:1.97436,&quot;y&quot;:2.17495,&quot;z&quot;:0.0336666},{&quot;x&quot;:1.97436,&quot;y&quot;:2.2555,&quot;z&quot;:-0.0721144},{&quot;x&quot;:1.97436,&quot;y&quot;:2.33606,&quot;z&quot;:-0.159231},{&quot;x&quot;:1.97436,&quot;y&quot;:2.41661,&quot;z&quot;:-0.227918},{&quot;x&quot;:1.97436,&quot;y&quot;:2.49716,&quot;z&quot;:-0.279888},{&quot;x&quot;:1.97436,&quot;y&quot;:2.57772,&quot;z&quot;:-0.317655},{&quot;x&quot;:1.97436,&quot;y&quot;:2.65827,&quot;z&quot;:-0.344002},{&quot;x&quot;:1.97436,&quot;y&quot;:2.73882,&quot;z&quot;:-0.361608},{&quot;x&quot;:1.97436,&quot;y&quot;:2.81938,&quot;z&quot;:-0.372835},{&quot;x&quot;:1.97436,&quot;y&quot;:2.89993,&quot;z&quot;:-0.379618},{&quot;x&quot;:1.97436,&quot;y&quot;:2.98049,&quot;z&quot;:-0.383438},{&quot;x&quot;:1.97436,&quot;y&quot;:3.06104,&quot;z&quot;:-0.385326},{&quot;x&quot;:1.97436,&quot;y&quot;:3.14159,&quot;z&quot;:-0.385889},{&quot;x&quot;:2.02564,&quot;y&quot;:0,&quot;z&quot;:-0.32631},{&quot;x&quot;:2.02564,&quot;y&quot;:0.0805537,&quot;z&quot;:-0.325614},{&quot;x&quot;:2.02564,&quot;y&quot;:0.161107,&quot;z&quot;:-0.323356},{&quot;x&quot;:2.02564,&quot;y&quot;:0.241661,&quot;z&quot;:-0.319022},{&quot;x&quot;:2.02564,&quot;y&quot;:0.322215,&quot;z&quot;:-0.311743},{&quot;x&quot;:2.02564,&quot;y&quot;:0.402768,&quot;z&quot;:-0.300283},{&quot;x&quot;:2.02564,&quot;y&quot;:0.483322,&quot;z&quot;:-0.283045},{&quot;x&quot;:2.02564,&quot;y&quot;:0.563876,&quot;z&quot;:-0.258109},{&quot;x&quot;:2.02564,&quot;y&quot;:0.644429,&quot;z&quot;:-0.22334},{&quot;x&quot;:2.02564,&quot;y&quot;:0.724983,&quot;z&quot;:-0.176571},{&quot;x&quot;:2.02564,&quot;y&quot;:0.805537,&quot;z&quot;:-0.115925},{&quot;x&quot;:2.02564,&quot;y&quot;:0.88609,&quot;z&quot;:-0.040238},{&quot;x&quot;:2.02564,&quot;y&quot;:0.966644,&quot;z&quot;:0.0504019},{&quot;x&quot;:2.02564,&quot;y&quot;:1.0472,&quot;z&quot;:0.154113},{&quot;x&quot;:2.02564,&quot;y&quot;:1.12775,&quot;z&quot;:0.26679},{&quot;x&quot;:2.02564,&quot;y&quot;:1.2083,&quot;z&quot;:0.381976},{&quot;x&quot;:2.02564,&quot;y&quot;:1.28886,&quot;z&quot;:0.491199},{&quot;x&quot;:2.02564,&quot;y&quot;:1.36941,&quot;z&quot;:0.584873},{&quot;x&quot;:2.02564,&quot;y&quot;:1.44997,&quot;z&quot;:0.653674},{&quot;x&quot;:2.02564,&quot;y&quot;:1.53052,&quot;z&quot;:0.690149},{&quot;x&quot;:2.02564,&quot;y&quot;:1.61107,&quot;z&quot;:0.690149},{&quot;x&quot;:2.02564,&quot;y&quot;:1.69163,&quot;z&quot;:0.653674},{&quot;x&quot;:2.02564,&quot;y&quot;:1.77218,&quot;z&quot;:0.584873},{&quot;x&quot;:2.02564,&quot;y&quot;:1.85273,&quot;z&quot;:0.491199},{&quot;x&quot;:2.02564,&quot;y&quot;:1.93329,&quot;z&quot;:0.381976},{&quot;x&quot;:2.02564,&quot;y&quot;:2.01384,&quot;z&quot;:0.26679},{&quot;x&quot;:2.02564,&quot;y&quot;:2.0944,&quot;z&quot;:0.154113},{&quot;x&quot;:2.02564,&quot;y&quot;:2.17495,&quot;z&quot;:0.0504019},{&quot;x&quot;:2.02564,&quot;y&quot;:2.2555,&quot;z&quot;:-0.040238},{&quot;x&quot;:2.02564,&quot;y&quot;:2.33606,&quot;z&quot;:-0.115925},{&quot;x&quot;:2.02564,&quot;y&quot;:2.41661,&quot;z&quot;:-0.176571},{&quot;x&quot;:2.02564,&quot;y&quot;:2.49716,&quot;z&quot;:-0.22334},{&quot;x&quot;:2.02564,&quot;y&quot;:2.57772,&quot;z&quot;:-0.258109},{&quot;x&quot;:2.02564,&quot;y&quot;:2.65827,&quot;z&quot;:-0.283045},{&quot;x&quot;:2.02564,&quot;y&quot;:2.73882,&quot;z&quot;:-0.300283},{&quot;x&quot;:2.02564,&quot;y&quot;:2.81938,&quot;z&quot;:-0.311743},{&quot;x&quot;:2.02564,&quot;y&quot;:2.89993,&quot;z&quot;:-0.319022},{&quot;x&quot;:2.02564,&quot;y&quot;:2.98049,&quot;z&quot;:-0.323356},{&quot;x&quot;:2.02564,&quot;y&quot;:3.06104,&quot;z&quot;:-0.325614},{&quot;x&quot;:2.02564,&quot;y&quot;:3.14159,&quot;z&quot;:-0.32631},{&quot;x&quot;:2.07692,&quot;y&quot;:0,&quot;z&quot;:-0.275657},{&quot;x&quot;:2.07692,&quot;y&quot;:0.0805537,&quot;z&quot;:-0.274884},{&quot;x&quot;:2.07692,&quot;y&quot;:0.161107,&quot;z&quot;:-0.27242},{&quot;x&quot;:2.07692,&quot;y&quot;:0.241661,&quot;z&quot;:-0.267831},{&quot;x&quot;:2.07692,&quot;y&quot;:0.322215,&quot;z&quot;:-0.260387},{&quot;x&quot;:2.07692,&quot;y&quot;:0.402768,&quot;z&quot;:-0.249057},{&quot;x&quot;:2.07692,&quot;y&quot;:0.483322,&quot;z&quot;:-0.232526},{&quot;x&quot;:2.07692,&quot;y&quot;:0.563876,&quot;z&quot;:-0.209238},{&quot;x&quot;:2.07692,&quot;y&quot;:0.644429,&quot;z&quot;:-0.177489},{&quot;x&quot;:2.07692,&quot;y&quot;:0.724983,&quot;z&quot;:-0.135597},{&quot;x&quot;:2.07692,&quot;y&quot;:0.805537,&quot;z&quot;:-0.0821661},{&quot;x&quot;:2.07692,&quot;y&quot;:0.88609,&quot;z&quot;:-0.0164332},{&quot;x&quot;:2.07692,&quot;y&quot;:0.966644,&quot;z&quot;:0.0613119},{&quot;x&quot;:2.07692,&quot;y&quot;:1.0472,&quot;z&quot;:0.149311},{&quot;x&quot;:2.07692,&quot;y&quot;:1.12775,&quot;z&quot;:0.244029},{&quot;x&quot;:2.07692,&quot;y&quot;:1.2083,&quot;z&quot;:0.340092},{&quot;x&quot;:2.07692,&quot;y&quot;:1.28886,&quot;z&quot;:0.430591},{&quot;x&quot;:2.07692,&quot;y&quot;:1.36941,&quot;z&quot;:0.50781},{&quot;x&quot;:2.07692,&quot;y&quot;:1.44997,&quot;z&quot;:0.564317},{&quot;x&quot;:2.07692,&quot;y&quot;:1.53052,&quot;z&quot;:0.594208},{&quot;x&quot;:2.07692,&quot;y&quot;:1.61107,&quot;z&quot;:0.594208},{&quot;x&quot;:2.07692,&quot;y&quot;:1.69163,&quot;z&quot;:0.564317},{&quot;x&quot;:2.07692,&quot;y&quot;:1.77218,&quot;z&quot;:0.50781},{&quot;x&quot;:2.07692,&quot;y&quot;:1.85273,&quot;z&quot;:0.430591},{&quot;x&quot;:2.07692,&quot;y&quot;:1.93329,&quot;z&quot;:0.340092},{&quot;x&quot;:2.07692,&quot;y&quot;:2.01384,&quot;z&quot;:0.244029},{&quot;x&quot;:2.07692,&quot;y&quot;:2.0944,&quot;z&quot;:0.149311},{&quot;x&quot;:2.07692,&quot;y&quot;:2.17495,&quot;z&quot;:0.0613119},{&quot;x&quot;:2.07692,&quot;y&quot;:2.2555,&quot;z&quot;:-0.0164332},{&quot;x&quot;:2.07692,&quot;y&quot;:2.33606,&quot;z&quot;:-0.0821661},{&quot;x&quot;:2.07692,&quot;y&quot;:2.41661,&quot;z&quot;:-0.135597},{&quot;x&quot;:2.07692,&quot;y&quot;:2.49716,&quot;z&quot;:-0.177489},{&quot;x&quot;:2.07692,&quot;y&quot;:2.57772,&quot;z&quot;:-0.209238},{&quot;x&quot;:2.07692,&quot;y&quot;:2.65827,&quot;z&quot;:-0.232526},{&quot;x&quot;:2.07692,&quot;y&quot;:2.73882,&quot;z&quot;:-0.249057},{&quot;x&quot;:2.07692,&quot;y&quot;:2.81938,&quot;z&quot;:-0.260387},{&quot;x&quot;:2.07692,&quot;y&quot;:2.89993,&quot;z&quot;:-0.267831},{&quot;x&quot;:2.07692,&quot;y&quot;:2.98049,&quot;z&quot;:-0.27242},{&quot;x&quot;:2.07692,&quot;y&quot;:3.06104,&quot;z&quot;:-0.274884},{&quot;x&quot;:2.07692,&quot;y&quot;:3.14159,&quot;z&quot;:-0.275657},{&quot;x&quot;:2.12821,&quot;y&quot;:0,&quot;z&quot;:-0.232647},{&quot;x&quot;:2.12821,&quot;y&quot;:0.0805537,&quot;z&quot;:-0.231837},{&quot;x&quot;:2.12821,&quot;y&quot;:0.161107,&quot;z&quot;:-0.229286},{&quot;x&quot;:2.12821,&quot;y&quot;:0.241661,&quot;z&quot;:-0.224627},{&quot;x&quot;:2.12821,&quot;y&quot;:0.322215,&quot;z&quot;:-0.217248},{&quot;x&quot;:2.12821,&quot;y&quot;:0.402768,&quot;z&quot;:-0.206292},{&quot;x&quot;:2.12821,&quot;y&quot;:0.483322,&quot;z&quot;:-0.190678},{&quot;x&quot;:2.12821,&quot;y&quot;:0.563876,&quot;z&quot;:-0.169142},{&quot;x&quot;:2.12821,&quot;y&quot;:0.644429,&quot;z&quot;:-0.140329},{&quot;x&quot;:2.12821,&quot;y&quot;:0.724983,&quot;z&quot;:-0.102935},{&quot;x&quot;:2.12821,&quot;y&quot;:0.805537,&quot;z&quot;:-0.0559308},{&quot;x&quot;:2.12821,&quot;y&quot;:0.88609,&quot;z&quot;:0.00115988},{&quot;x&quot;:2.12821,&quot;y&quot;:0.966644,&quot;z&quot;:0.0679261},{&quot;x&quot;:2.12821,&quot;y&quot;:1.0472,&quot;z&quot;:0.142755},{&quot;x&quot;:2.12821,&quot;y&quot;:1.12775,&quot;z&quot;:0.222609},{&quot;x&quot;:2.12821,&quot;y&quot;:1.2083,&quot;z&quot;:0.303007},{&quot;x&quot;:2.12821,&quot;y&quot;:1.28886,&quot;z&quot;:0.378293},{&quot;x&quot;:2.12821,&quot;y&quot;:1.36941,&quot;z&quot;:0.442228},{&quot;x&quot;:2.12821,&quot;y&quot;:1.44997,&quot;z&quot;:0.488854},{&quot;x&quot;:2.12821,&quot;y&quot;:1.53052,&quot;z&quot;:0.513467},{&quot;x&quot;:2.12821,&quot;y&quot;:1.61107,&quot;z&quot;:0.513467},{&quot;x&quot;:2.12821,&quot;y&quot;:1.69163,&quot;z&quot;:0.488854},{&quot;x&quot;:2.12821,&quot;y&quot;:1.77218,&quot;z&quot;:0.442228},{&quot;x&quot;:2.12821,&quot;y&quot;:1.85273,&quot;z&quot;:0.378293},{&quot;x&quot;:2.12821,&quot;y&quot;:1.93329,&quot;z&quot;:0.303007},{&quot;x&quot;:2.12821,&quot;y&quot;:2.01384,&quot;z&quot;:0.222609},{&quot;x&quot;:2.12821,&quot;y&quot;:2.0944,&quot;z&quot;:0.142755},{&quot;x&quot;:2.12821,&quot;y&quot;:2.17495,&quot;z&quot;:0.0679261},{&quot;x&quot;:2.12821,&quot;y&quot;:2.2555,&quot;z&quot;:0.00115988},{&quot;x&quot;:2.12821,&quot;y&quot;:2.33606,&quot;z&quot;:-0.0559308},{&quot;x&quot;:2.12821,&quot;y&quot;:2.41661,&quot;z&quot;:-0.102935},{&quot;x&quot;:2.12821,&quot;y&quot;:2.49716,&quot;z&quot;:-0.140329},{&quot;x&quot;:2.12821,&quot;y&quot;:2.57772,&quot;z&quot;:-0.169142},{&quot;x&quot;:2.12821,&quot;y&quot;:2.65827,&quot;z&quot;:-0.190678},{&quot;x&quot;:2.12821,&quot;y&quot;:2.73882,&quot;z&quot;:-0.206292},{&quot;x&quot;:2.12821,&quot;y&quot;:2.81938,&quot;z&quot;:-0.217248},{&quot;x&quot;:2.12821,&quot;y&quot;:2.89993,&quot;z&quot;:-0.224627},{&quot;x&quot;:2.12821,&quot;y&quot;:2.98049,&quot;z&quot;:-0.229286},{&quot;x&quot;:2.12821,&quot;y&quot;:3.06104,&quot;z&quot;:-0.231837},{&quot;x&quot;:2.12821,&quot;y&quot;:3.14159,&quot;z&quot;:-0.232647},{&quot;x&quot;:2.17949,&quot;y&quot;:0,&quot;z&quot;:-0.196161},{&quot;x&quot;:2.17949,&quot;y&quot;:0.0805537,&quot;z&quot;:-0.195344},{&quot;x&quot;:2.17949,&quot;y&quot;:0.161107,&quot;z&quot;:-0.19279},{&quot;x&quot;:2.17949,&quot;y&quot;:0.241661,&quot;z&quot;:-0.188191},{&quot;x&quot;:2.17949,&quot;y&quot;:0.322215,&quot;z&quot;:-0.181034},{&quot;x&quot;:2.17949,&quot;y&quot;:0.402768,&quot;z&quot;:-0.170607},{&quot;x&quot;:2.17949,&quot;y&quot;:0.483322,&quot;z&quot;:-0.156022},{&quot;x&quot;:2.17949,&quot;y&quot;:0.563876,&quot;z&quot;:-0.136256},{&quot;x&quot;:2.17949,&quot;y&quot;:0.644429,&quot;z&quot;:-0.11023},{&quot;x&quot;:2.17949,&quot;y&quot;:0.724983,&quot;z&quot;:-0.0769374},{&quot;x&quot;:2.17949,&quot;y&quot;:0.805537,&quot;z&quot;:-0.0356242},{&quot;x&quot;:2.17949,&quot;y&quot;:0.88609,&quot;z&quot;:0.0139784},{&quot;x&quot;:2.17949,&quot;y&quot;:0.966644,&quot;z&quot;:0.0713954},{&quot;x&quot;:2.17949,&quot;y&quot;:1.0472,&quot;z&quot;:0.135165},{&quot;x&quot;:2.17949,&quot;y&quot;:1.12775,&quot;z&quot;:0.202681},{&quot;x&quot;:2.17949,&quot;y&quot;:1.2083,&quot;z&quot;:0.2702},{&quot;x&quot;:2.17949,&quot;y&quot;:1.28886,&quot;z&quot;:0.333073},{&quot;x&quot;:2.17949,&quot;y&quot;:1.36941,&quot;z&quot;:0.386232},{&quot;x&quot;:2.17949,&quot;y&quot;:1.44997,&quot;z&quot;:0.424876},{&quot;x&quot;:2.17949,&quot;y&quot;:1.53052,&quot;z&quot;:0.445236},{&quot;x&quot;:2.17949,&quot;y&quot;:1.61107,&quot;z&quot;:0.445236},{&quot;x&quot;:2.17949,&quot;y&quot;:1.69163,&quot;z&quot;:0.424876},{&quot;x&quot;:2.17949,&quot;y&quot;:1.77218,&quot;z&quot;:0.386232},{&quot;x&quot;:2.17949,&quot;y&quot;:1.85273,&quot;z&quot;:0.333073},{&quot;x&quot;:2.17949,&quot;y&quot;:1.93329,&quot;z&quot;:0.2702},{&quot;x&quot;:2.17949,&quot;y&quot;:2.01384,&quot;z&quot;:0.202681},{&quot;x&quot;:2.17949,&quot;y&quot;:2.0944,&quot;z&quot;:0.135165},{&quot;x&quot;:2.17949,&quot;y&quot;:2.17495,&quot;z&quot;:0.0713954},{&quot;x&quot;:2.17949,&quot;y&quot;:2.2555,&quot;z&quot;:0.0139784},{&quot;x&quot;:2.17949,&quot;y&quot;:2.33606,&quot;z&quot;:-0.0356242},{&quot;x&quot;:2.17949,&quot;y&quot;:2.41661,&quot;z&quot;:-0.0769374},{&quot;x&quot;:2.17949,&quot;y&quot;:2.49716,&quot;z&quot;:-0.11023},{&quot;x&quot;:2.17949,&quot;y&quot;:2.57772,&quot;z&quot;:-0.136256},{&quot;x&quot;:2.17949,&quot;y&quot;:2.65827,&quot;z&quot;:-0.156022},{&quot;x&quot;:2.17949,&quot;y&quot;:2.73882,&quot;z&quot;:-0.170607},{&quot;x&quot;:2.17949,&quot;y&quot;:2.81938,&quot;z&quot;:-0.181034},{&quot;x&quot;:2.17949,&quot;y&quot;:2.89993,&quot;z&quot;:-0.188191},{&quot;x&quot;:2.17949,&quot;y&quot;:2.98049,&quot;z&quot;:-0.19279},{&quot;x&quot;:2.17949,&quot;y&quot;:3.06104,&quot;z&quot;:-0.195344},{&quot;x&quot;:2.17949,&quot;y&quot;:3.14159,&quot;z&quot;:-0.196161},{&quot;x&quot;:2.23077,&quot;y&quot;:0,&quot;z&quot;:-0.165234},{&quot;x&quot;:2.23077,&quot;y&quot;:0.0805537,&quot;z&quot;:-0.16443},{&quot;x&quot;:2.23077,&quot;y&quot;:0.161107,&quot;z&quot;:-0.161932},{&quot;x&quot;:2.23077,&quot;y&quot;:0.241661,&quot;z&quot;:-0.15748},{&quot;x&quot;:2.23077,&quot;y&quot;:0.322215,&quot;z&quot;:-0.150646},{&quot;x&quot;:2.23077,&quot;y&quot;:0.402768,&quot;z&quot;:-0.140841},{&quot;x&quot;:2.23077,&quot;y&quot;:0.483322,&quot;z&quot;:-0.127333},{&quot;x&quot;:2.23077,&quot;y&quot;:0.563876,&quot;z&quot;:-0.109295},{&quot;x&quot;:2.23077,&quot;y&quot;:0.644429,&quot;z&quot;:-0.0858705},{&quot;x&quot;:2.23077,&quot;y&quot;:0.724983,&quot;z&quot;:-0.056283},{&quot;x&quot;:2.23077,&quot;y&quot;:0.805537,&quot;z&quot;:-0.0199894},{&quot;x&quot;:2.23077,&quot;y&quot;:0.88609,&quot;z&quot;:0.0231338},{&quot;x&quot;:2.23077,&quot;y&quot;:0.966644,&quot;z&quot;:0.0725848},{&quot;x&quot;:2.23077,&quot;y&quot;:1.0472,&quot;z&quot;:0.127051},{&quot;x&quot;:2.23077,&quot;y&quot;:1.12775,&quot;z&quot;:0.184298},{&quot;x&quot;:2.23077,&quot;y&quot;:1.2083,&quot;z&quot;:0.24119},{&quot;x&quot;:2.23077,&quot;y&quot;:1.28886,&quot;z&quot;:0.293891},{&quot;x&quot;:2.23077,&quot;y&quot;:1.36941,&quot;z&quot;:0.338268},{&quot;x&quot;:2.23077,&quot;y&quot;:1.44997,&quot;z&quot;:0.370433},{&quot;x&quot;:2.23077,&quot;y&quot;:1.53052,&quot;z&quot;:0.38735},{&quot;x&quot;:2.23077,&quot;y&quot;:1.61107,&quot;z&quot;:0.38735},{&quot;x&quot;:2.23077,&quot;y&quot;:1.69163,&quot;z&quot;:0.370433},{&quot;x&quot;:2.23077,&quot;y&quot;:1.77218,&quot;z&quot;:0.338268},{&quot;x&quot;:2.23077,&quot;y&quot;:1.85273,&quot;z&quot;:0.293891},{&quot;x&quot;:2.23077,&quot;y&quot;:1.93329,&quot;z&quot;:0.24119},{&quot;x&quot;:2.23077,&quot;y&quot;:2.01384,&quot;z&quot;:0.184298},{&quot;x&quot;:2.23077,&quot;y&quot;:2.0944,&quot;z&quot;:0.127051},{&quot;x&quot;:2.23077,&quot;y&quot;:2.17495,&quot;z&quot;:0.0725848},{&quot;x&quot;:2.23077,&quot;y&quot;:2.2555,&quot;z&quot;:0.0231338},{&quot;x&quot;:2.23077,&quot;y&quot;:2.33606,&quot;z&quot;:-0.0199894},{&quot;x&quot;:2.23077,&quot;y&quot;:2.41661,&quot;z&quot;:-0.056283},{&quot;x&quot;:2.23077,&quot;y&quot;:2.49716,&quot;z&quot;:-0.0858705},{&quot;x&quot;:2.23077,&quot;y&quot;:2.57772,&quot;z&quot;:-0.109295},{&quot;x&quot;:2.23077,&quot;y&quot;:2.65827,&quot;z&quot;:-0.127333},{&quot;x&quot;:2.23077,&quot;y&quot;:2.73882,&quot;z&quot;:-0.140841},{&quot;x&quot;:2.23077,&quot;y&quot;:2.81938,&quot;z&quot;:-0.150646},{&quot;x&quot;:2.23077,&quot;y&quot;:2.89993,&quot;z&quot;:-0.15748},{&quot;x&quot;:2.23077,&quot;y&quot;:2.98049,&quot;z&quot;:-0.161932},{&quot;x&quot;:2.23077,&quot;y&quot;:3.06104,&quot;z&quot;:-0.16443},{&quot;x&quot;:2.23077,&quot;y&quot;:3.14159,&quot;z&quot;:-0.165234},{&quot;x&quot;:2.28205,&quot;y&quot;:0,&quot;z&quot;:-0.139033},{&quot;x&quot;:2.28205,&quot;y&quot;:0.0805537,&quot;z&quot;:-0.138257},{&quot;x&quot;:2.28205,&quot;y&quot;:0.161107,&quot;z&quot;:-0.135853},{&quot;x&quot;:2.28205,&quot;y&quot;:0.241661,&quot;z&quot;:-0.131607},{&quot;x&quot;:2.28205,&quot;y&quot;:0.322215,&quot;z&quot;:-0.125158},{&quot;x&quot;:2.28205,&quot;y&quot;:0.402768,&quot;z&quot;:-0.116019},{&quot;x&quot;:2.28205,&quot;y&quot;:0.483322,&quot;z&quot;:-0.10359},{&quot;x&quot;:2.28205,&quot;y&quot;:0.563876,&quot;z&quot;:-0.0872025},{&quot;x&quot;:2.28205,&quot;y&quot;:0.644429,&quot;z&quot;:-0.0661755},{&quot;x&quot;:2.28205,&quot;y&quot;:0.724983,&quot;z&quot;:-0.0399146},{&quot;x&quot;:2.28205,&quot;y&quot;:0.805537,&quot;z&quot;:-0.00803471},{&quot;x&quot;:2.28205,&quot;y&quot;:0.88609,&quot;z&quot;:0.0294861},{&quot;x&quot;:2.28205,&quot;y&quot;:0.966644,&quot;z&quot;:0.0721442},{&quot;x&quot;:2.28205,&quot;y&quot;:1.0472,&quot;z&quot;:0.118769},{&quot;x&quot;:2.28205,&quot;y&quot;:1.12775,&quot;z&quot;:0.167443},{&quot;x&quot;:2.28205,&quot;y&quot;:1.2083,&quot;z&quot;:0.215535},{&quot;x&quot;:2.28205,&quot;y&quot;:1.28886,&quot;z&quot;:0.25987},{&quot;x&quot;:2.28205,&quot;y&quot;:1.36941,&quot;z&quot;:0.297059},{&quot;x&quot;:2.28205,&quot;y&quot;:1.44997,&quot;z&quot;:0.32394},{&quot;x&quot;:2.28205,&quot;y&quot;:1.53052,&quot;z&quot;:0.338054},{&quot;x&quot;:2.28205,&quot;y&quot;:1.61107,&quot;z&quot;:0.338054},{&quot;x&quot;:2.28205,&quot;y&quot;:1.69163,&quot;z&quot;:0.32394},{&quot;x&quot;:2.28205,&quot;y&quot;:1.77218,&quot;z&quot;:0.297059},{&quot;x&quot;:2.28205,&quot;y&quot;:1.85273,&quot;z&quot;:0.25987},{&quot;x&quot;:2.28205,&quot;y&quot;:1.93329,&quot;z&quot;:0.215535},{&quot;x&quot;:2.28205,&quot;y&quot;:2.01384,&quot;z&quot;:0.167443},{&quot;x&quot;:2.28205,&quot;y&quot;:2.0944,&quot;z&quot;:0.118769},{&quot;x&quot;:2.28205,&quot;y&quot;:2.17495,&quot;z&quot;:0.0721442},{&quot;x&quot;:2.28205,&quot;y&quot;:2.2555,&quot;z&quot;:0.0294861},{&quot;x&quot;:2.28205,&quot;y&quot;:2.33606,&quot;z&quot;:-0.00803471},{&quot;x&quot;:2.28205,&quot;y&quot;:2.41661,&quot;z&quot;:-0.0399146},{&quot;x&quot;:2.28205,&quot;y&quot;:2.49716,&quot;z&quot;:-0.0661755},{&quot;x&quot;:2.28205,&quot;y&quot;:2.57772,&quot;z&quot;:-0.0872025},{&quot;x&quot;:2.28205,&quot;y&quot;:2.65827,&quot;z&quot;:-0.10359},{&quot;x&quot;:2.28205,&quot;y&quot;:2.73882,&quot;z&quot;:-0.116019},{&quot;x&quot;:2.28205,&quot;y&quot;:2.81938,&quot;z&quot;:-0.125158},{&quot;x&quot;:2.28205,&quot;y&quot;:2.89993,&quot;z&quot;:-0.131607},{&quot;x&quot;:2.28205,&quot;y&quot;:2.98049,&quot;z&quot;:-0.135853},{&quot;x&quot;:2.28205,&quot;y&quot;:3.06104,&quot;z&quot;:-0.138257},{&quot;x&quot;:2.28205,&quot;y&quot;:3.14159,&quot;z&quot;:-0.139033},{&quot;x&quot;:2.33333,&quot;y&quot;:0,&quot;z&quot;:-0.116846},{&quot;x&quot;:2.33333,&quot;y&quot;:0.0805537,&quot;z&quot;:-0.116106},{&quot;x&quot;:2.33333,&quot;y&quot;:0.161107,&quot;z&quot;:-0.113823},{&quot;x&quot;:2.33333,&quot;y&quot;:0.241661,&quot;z&quot;:-0.109815},{&quot;x&quot;:2.33333,&quot;y&quot;:0.322215,&quot;z&quot;:-0.103785},{&quot;x&quot;:2.33333,&quot;y&quot;:0.402768,&quot;z&quot;:-0.0953258},{&quot;x&quot;:2.33333,&quot;y&quot;:0.483322,&quot;z&quot;:-0.0839483},{&quot;x&quot;:2.33333,&quot;y&quot;:0.563876,&quot;z&quot;:-0.06911},{&quot;x&quot;:2.33333,&quot;y&quot;:0.644429,&quot;z&quot;:-0.0502734},{&quot;x&quot;:2.33333,&quot;y&quot;:0.724983,&quot;z&quot;:-0.0269842},{&quot;x&quot;:2.33333,&quot;y&quot;:0.805537,&quot;z&quot;:0.00102305},{&quot;x&quot;:2.33333,&quot;y&quot;:0.88609,&quot;z&quot;:0.033701},{&quot;x&quot;:2.33333,&quot;y&quot;:0.966644,&quot;z&quot;:0.0705606},{&quot;x&quot;:2.33333,&quot;y&quot;:1.0472,&quot;z&quot;:0.110562},{&quot;x&quot;:2.33333,&quot;y&quot;:1.12775,&quot;z&quot;:0.15206},{&quot;x&quot;:2.33333,&quot;y&quot;:1.2083,&quot;z&quot;:0.19284},{&quot;x&quot;:2.33333,&quot;y&quot;:1.28886,&quot;z&quot;:0.230265},{&quot;x&quot;:2.33333,&quot;y&quot;:1.36941,&quot;z&quot;:0.261547},{&quot;x&quot;:2.33333,&quot;y&quot;:1.44997,&quot;z&quot;:0.2841},{&quot;x&quot;:2.33333,&quot;y&quot;:1.53052,&quot;z&quot;:0.295923},{&quot;x&quot;:2.33333,&quot;y&quot;:1.61107,&quot;z&quot;:0.295923},{&quot;x&quot;:2.33333,&quot;y&quot;:1.69163,&quot;z&quot;:0.2841},{&quot;x&quot;:2.33333,&quot;y&quot;:1.77218,&quot;z&quot;:0.261547},{&quot;x&quot;:2.33333,&quot;y&quot;:1.85273,&quot;z&quot;:0.230265},{&quot;x&quot;:2.33333,&quot;y&quot;:1.93329,&quot;z&quot;:0.19284},{&quot;x&quot;:2.33333,&quot;y&quot;:2.01384,&quot;z&quot;:0.15206},{&quot;x&quot;:2.33333,&quot;y&quot;:2.0944,&quot;z&quot;:0.110562},{&quot;x&quot;:2.33333,&quot;y&quot;:2.17495,&quot;z&quot;:0.0705606},{&quot;x&quot;:2.33333,&quot;y&quot;:2.2555,&quot;z&quot;:0.033701},{&quot;x&quot;:2.33333,&quot;y&quot;:2.33606,&quot;z&quot;:0.00102305},{&quot;x&quot;:2.33333,&quot;y&quot;:2.41661,&quot;z&quot;:-0.0269842},{&quot;x&quot;:2.33333,&quot;y&quot;:2.49716,&quot;z&quot;:-0.0502734},{&quot;x&quot;:2.33333,&quot;y&quot;:2.57772,&quot;z&quot;:-0.06911},{&quot;x&quot;:2.33333,&quot;y&quot;:2.65827,&quot;z&quot;:-0.0839483},{&quot;x&quot;:2.33333,&quot;y&quot;:2.73882,&quot;z&quot;:-0.0953258},{&quot;x&quot;:2.33333,&quot;y&quot;:2.81938,&quot;z&quot;:-0.103785},{&quot;x&quot;:2.33333,&quot;y&quot;:2.89993,&quot;z&quot;:-0.109815},{&quot;x&quot;:2.33333,&quot;y&quot;:2.98049,&quot;z&quot;:-0.113823},{&quot;x&quot;:2.33333,&quot;y&quot;:3.06104,&quot;z&quot;:-0.116106},{&quot;x&quot;:2.33333,&quot;y&quot;:3.14159,&quot;z&quot;:-0.116846},{&quot;x&quot;:2.38462,&quot;y&quot;:0,&quot;z&quot;:-0.0980651},{&quot;x&quot;:2.38462,&quot;y&quot;:0.0805537,&quot;z&quot;:-0.0973661},{&quot;x&quot;:2.38462,&quot;y&quot;:0.161107,&quot;z&quot;:-0.0952179},{&quot;x&quot;:2.38462,&quot;y&quot;:0.241661,&quot;z&quot;:-0.0914678},{&quot;x&quot;:2.38462,&quot;y&quot;:0.322215,&quot;z&quot;:-0.0858669},{&quot;x&quot;:2.38462,&quot;y&quot;:0.402768,&quot;z&quot;:-0.0780802},{&quot;x&quot;:2.38462,&quot;y&quot;:0.483322,&quot;z&quot;:-0.0677057},{&quot;x&quot;:2.38462,&quot;y&quot;:0.563876,&quot;z&quot;:-0.0543058},{&quot;x&quot;:2.38462,&quot;y&quot;:0.644429,&quot;z&quot;:-0.0374558},{&quot;x&quot;:2.38462,&quot;y&quot;:0.724983,&quot;z&quot;:-0.0168116},{&quot;x&quot;:2.38462,&quot;y&quot;:0.805537,&quot;z&quot;:0.00780278},{&quot;x&quot;:2.38462,&quot;y&quot;:0.88609,&quot;z&quot;:0.0362943},{&quot;x&quot;:2.38462,&quot;y&quot;:0.966644,&quot;z&quot;:0.0681979},{&quot;x&quot;:2.38462,&quot;y&quot;:1.0472,&quot;z&quot;:0.102593},{&quot;x&quot;:2.38462,&quot;y&quot;:1.12775,&quot;z&quot;:0.138068},{&quot;x&quot;:2.38462,&quot;y&quot;:1.2083,&quot;z&quot;:0.172753},{&quot;x&quot;:2.38462,&quot;y&quot;:1.28886,&quot;z&quot;:0.204451},{&quot;x&quot;:2.38462,&quot;y&quot;:1.36941,&quot;z&quot;:0.230857},{&quot;x&quot;:2.38462,&quot;y&quot;:1.44997,&quot;z&quot;:0.249848},{&quot;x&quot;:2.38462,&quot;y&quot;:1.53052,&quot;z&quot;:0.25979},{&quot;x&quot;:2.38462,&quot;y&quot;:1.61107,&quot;z&quot;:0.25979},{&quot;x&quot;:2.38462,&quot;y&quot;:1.69163,&quot;z&quot;:0.249848},{&quot;x&quot;:2.38462,&quot;y&quot;:1.77218,&quot;z&quot;:0.230857},{&quot;x&quot;:2.38462,&quot;y&quot;:1.85273,&quot;z&quot;:0.204451},{&quot;x&quot;:2.38462,&quot;y&quot;:1.93329,&quot;z&quot;:0.172753},{&quot;x&quot;:2.38462,&quot;y&quot;:2.01384,&quot;z&quot;:0.138068},{&quot;x&quot;:2.38462,&quot;y&quot;:2.0944,&quot;z&quot;:0.102593},{&quot;x&quot;:2.38462,&quot;y&quot;:2.17495,&quot;z&quot;:0.0681979},{&quot;x&quot;:2.38462,&quot;y&quot;:2.2555,&quot;z&quot;:0.0362943},{&quot;x&quot;:2.38462,&quot;y&quot;:2.33606,&quot;z&quot;:0.00780278},{&quot;x&quot;:2.38462,&quot;y&quot;:2.41661,&quot;z&quot;:-0.0168116},{&quot;x&quot;:2.38462,&quot;y&quot;:2.49716,&quot;z&quot;:-0.0374558},{&quot;x&quot;:2.38462,&quot;y&quot;:2.57772,&quot;z&quot;:-0.0543058},{&quot;x&quot;:2.38462,&quot;y&quot;:2.65827,&quot;z&quot;:-0.0677057},{&quot;x&quot;:2.38462,&quot;y&quot;:2.73882,&quot;z&quot;:-0.0780802},{&quot;x&quot;:2.38462,&quot;y&quot;:2.81938,&quot;z&quot;:-0.0858669},{&quot;x&quot;:2.38462,&quot;y&quot;:2.89993,&quot;z&quot;:-0.0914678},{&quot;x&quot;:2.38462,&quot;y&quot;:2.98049,&quot;z&quot;:-0.0952179},{&quot;x&quot;:2.38462,&quot;y&quot;:3.06104,&quot;z&quot;:-0.0973661},{&quot;x&quot;:2.38462,&quot;y&quot;:3.14159,&quot;z&quot;:-0.0980651},{&quot;x&quot;:2.4359,&quot;y&quot;:0,&quot;z&quot;:-0.082171},{&quot;x&quot;:2.4359,&quot;y&quot;:0.0805537,&quot;z&quot;:-0.0815165},{&quot;x&quot;:2.4359,&quot;y&quot;:0.161107,&quot;z&quot;:-0.0795099},{&quot;x&quot;:2.4359,&quot;y&quot;:0.241661,&quot;z&quot;:-0.0760236},{&quot;x&quot;:2.4359,&quot;y&quot;:0.322215,&quot;z&quot;:-0.0708502},{&quot;x&quot;:2.4359,&quot;y&quot;:0.402768,&quot;z&quot;:-0.0637127},{&quot;x&quot;:2.4359,&quot;y&quot;:0.483322,&quot;z&quot;:-0.0542819},{&quot;x&quot;:2.4359,&quot;y&quot;:0.563876,&quot;z&quot;:-0.0422049},{&quot;x&quot;:2.4359,&quot;y&quot;:0.644429,&quot;z&quot;:-0.0271474},{&quot;x&quot;:2.4359,&quot;y&quot;:0.724983,&quot;z&quot;:-0.00885091},{&quot;x&quot;:2.4359,&quot;y&quot;:0.805537,&quot;z&quot;:0.012794},{&quot;x&quot;:2.4359,&quot;y&quot;:0.88609,&quot;z&quot;:0.0376652},{&quot;x&quot;:2.4359,&quot;y&quot;:0.966644,&quot;z&quot;:0.0653273},{&quot;x&quot;:2.4359,&quot;y&quot;:1.0472,&quot;z&quot;:0.0949678},{&quot;x&quot;:2.4359,&quot;y&quot;:1.12775,&quot;z&quot;:0.125372},{&quot;x&quot;:2.4359,&quot;y&quot;:1.2083,&quot;z&quot;:0.15496},{&quot;x&quot;:2.4359,&quot;y&quot;:1.28886,&quot;z&quot;:0.181893},{&quot;x&quot;:2.4359,&quot;y&quot;:1.36941,&quot;z&quot;:0.204259},{&quot;x&quot;:2.4359,&quot;y&quot;:1.44997,&quot;z&quot;:0.22031},{&quot;x&quot;:2.4359,&quot;y&quot;:1.53052,&quot;z&quot;:0.2287},{&quot;x&quot;:2.4359,&quot;y&quot;:1.61107,&quot;z&quot;:0.2287},{&quot;x&quot;:2.4359,&quot;y&quot;:1.69163,&quot;z&quot;:0.22031},{&quot;x&quot;:2.4359,&quot;y&quot;:1.77218,&quot;z&quot;:0.204259},{&quot;x&quot;:2.4359,&quot;y&quot;:1.85273,&quot;z&quot;:0.181893},{&quot;x&quot;:2.4359,&quot;y&quot;:1.93329,&quot;z&quot;:0.15496},{&quot;x&quot;:2.4359,&quot;y&quot;:2.01384,&quot;z&quot;:0.125372},{&quot;x&quot;:2.4359,&quot;y&quot;:2.0944,&quot;z&quot;:0.0949678},{&quot;x&quot;:2.4359,&quot;y&quot;:2.17495,&quot;z&quot;:0.0653273},{&quot;x&quot;:2.4359,&quot;y&quot;:2.2555,&quot;z&quot;:0.0376652},{&quot;x&quot;:2.4359,&quot;y&quot;:2.33606,&quot;z&quot;:0.012794},{&quot;x&quot;:2.4359,&quot;y&quot;:2.41661,&quot;z&quot;:-0.00885091},{&quot;x&quot;:2.4359,&quot;y&quot;:2.49716,&quot;z&quot;:-0.0271474},{&quot;x&quot;:2.4359,&quot;y&quot;:2.57772,&quot;z&quot;:-0.0422049},{&quot;x&quot;:2.4359,&quot;y&quot;:2.65827,&quot;z&quot;:-0.0542819},{&quot;x&quot;:2.4359,&quot;y&quot;:2.73882,&quot;z&quot;:-0.0637127},{&quot;x&quot;:2.4359,&quot;y&quot;:2.81938,&quot;z&quot;:-0.0708502},{&quot;x&quot;:2.4359,&quot;y&quot;:2.89993,&quot;z&quot;:-0.0760236},{&quot;x&quot;:2.4359,&quot;y&quot;:2.98049,&quot;z&quot;:-0.0795099},{&quot;x&quot;:2.4359,&quot;y&quot;:3.06104,&quot;z&quot;:-0.0815165},{&quot;x&quot;:2.4359,&quot;y&quot;:3.14159,&quot;z&quot;:-0.082171},{&quot;x&quot;:2.48718,&quot;y&quot;:0,&quot;z&quot;:-0.0687237},{&quot;x&quot;:2.48718,&quot;y&quot;:0.0805537,&quot;z&quot;:-0.0681146},{&quot;x&quot;:2.48718,&quot;y&quot;:0.161107,&quot;z&quot;:-0.0662512},{&quot;x&quot;:2.48718,&quot;y&quot;:0.241661,&quot;z&quot;:-0.0630268},{&quot;x&quot;:2.48718,&quot;y&quot;:0.322215,&quot;z&quot;:-0.0582687},{&quot;x&quot;:2.48718,&quot;y&quot;:0.402768,&quot;z&quot;:-0.051748},{&quot;x&quot;:2.48718,&quot;y&quot;:0.483322,&quot;z&quot;:-0.0431955},{&quot;x&quot;:2.48718,&quot;y&quot;:0.563876,&quot;z&quot;:-0.0323271},{&quot;x&quot;:2.48718,&quot;y&quot;:0.644429,&quot;z&quot;:-0.0188802},{&quot;x&quot;:2.48718,&quot;y&quot;:0.724983,&quot;z&quot;:-0.00266324},{&quot;x&quot;:2.48718,&quot;y&quot;:0.805537,&quot;z&quot;:0.0163839},{&quot;x&quot;:2.48718,&quot;y&quot;:0.88609,&quot;z&quot;:0.0381225},{&quot;x&quot;:2.48718,&quot;y&quot;:0.966644,&quot;z&quot;:0.0621493},{&quot;x&quot;:2.48718,&quot;y&quot;:1.0472,&quot;z&quot;:0.087748},{&quot;x&quot;:2.48718,&quot;y&quot;:1.12775,&quot;z&quot;:0.113873},{&quot;x&quot;:2.48718,&quot;y&quot;:1.2083,&quot;z&quot;:0.139184},{&quot;x&quot;:2.48718,&quot;y&quot;:1.28886,&quot;z&quot;:0.16214},{&quot;x&quot;:2.48718,&quot;y&quot;:1.36941,&quot;z&quot;:0.181148},{&quot;x&quot;:2.48718,&quot;y&quot;:1.44997,&quot;z&quot;:0.194759},{&quot;x&quot;:2.48718,&quot;y&quot;:1.53052,&quot;z&quot;:0.201865},{&quot;x&quot;:2.48718,&quot;y&quot;:1.61107,&quot;z&quot;:0.201865},{&quot;x&quot;:2.48718,&quot;y&quot;:1.69163,&quot;z&quot;:0.194759},{&quot;x&quot;:2.48718,&quot;y&quot;:1.77218,&quot;z&quot;:0.181148},{&quot;x&quot;:2.48718,&quot;y&quot;:1.85273,&quot;z&quot;:0.16214},{&quot;x&quot;:2.48718,&quot;y&quot;:1.93329,&quot;z&quot;:0.139184},{&quot;x&quot;:2.48718,&quot;y&quot;:2.01384,&quot;z&quot;:0.113873},{&quot;x&quot;:2.48718,&quot;y&quot;:2.0944,&quot;z&quot;:0.087748},{&quot;x&quot;:2.48718,&quot;y&quot;:2.17495,&quot;z&quot;:0.0621493},{&quot;x&quot;:2.48718,&quot;y&quot;:2.2555,&quot;z&quot;:0.0381225},{&quot;x&quot;:2.48718,&quot;y&quot;:2.33606,&quot;z&quot;:0.0163839},{&quot;x&quot;:2.48718,&quot;y&quot;:2.41661,&quot;z&quot;:-0.00266324},{&quot;x&quot;:2.48718,&quot;y&quot;:2.49716,&quot;z&quot;:-0.0188802},{&quot;x&quot;:2.48718,&quot;y&quot;:2.57772,&quot;z&quot;:-0.0323271},{&quot;x&quot;:2.48718,&quot;y&quot;:2.65827,&quot;z&quot;:-0.0431955},{&quot;x&quot;:2.48718,&quot;y&quot;:2.73882,&quot;z&quot;:-0.051748},{&quot;x&quot;:2.48718,&quot;y&quot;:2.81938,&quot;z&quot;:-0.0582687},{&quot;x&quot;:2.48718,&quot;y&quot;:2.89993,&quot;z&quot;:-0.0630268},{&quot;x&quot;:2.48718,&quot;y&quot;:2.98049,&quot;z&quot;:-0.0662512},{&quot;x&quot;:2.48718,&quot;y&quot;:3.06104,&quot;z&quot;:-0.0681146},{&quot;x&quot;:2.48718,&quot;y&quot;:3.14159,&quot;z&quot;:-0.0687237},{&quot;x&quot;:2.53846,&quot;y&quot;:0,&quot;z&quot;:-0.0573493},{&quot;x&quot;:2.53846,&quot;y&quot;:0.0805537,&quot;z&quot;:-0.0567852},{&quot;x&quot;:2.53846,&quot;y&quot;:0.161107,&quot;z&quot;:-0.0550627},{&quot;x&quot;:2.53846,&quot;y&quot;:0.241661,&quot;z&quot;:-0.0520926},{&quot;x&quot;:2.53846,&quot;y&quot;:0.322215,&quot;z&quot;:-0.0477314},{&quot;x&quot;:2.53846,&quot;y&quot;:0.402768,&quot;z&quot;:-0.0417898},{&quot;x&quot;:2.53846,&quot;y&quot;:0.483322,&quot;z&quot;:-0.034048},{&quot;x&quot;:2.53846,&quot;y&quot;:0.563876,&quot;z&quot;:-0.0242776},{&quot;x&quot;:2.53846,&quot;y&quot;:0.644429,&quot;z&quot;:-0.0122735},{&quot;x&quot;:2.53846,&quot;y&quot;:0.724983,&quot;z&quot;:0.00210408},{&quot;x&quot;:2.53846,&quot;y&quot;:0.805537,&quot;z&quot;:0.0188793},{&quot;x&quot;:2.53846,&quot;y&quot;:0.88609,&quot;z&quot;:0.0379052},{&quot;x&quot;:2.53846,&quot;y&quot;:0.966644,&quot;z&quot;:0.0588114},{&quot;x&quot;:2.53846,&quot;y&quot;:1.0472,&quot;z&quot;:0.0809671},{&quot;x&quot;:2.53846,&quot;y&quot;:1.12775,&quot;z&quot;:0.103471},{&quot;x&quot;:2.53846,&quot;y&quot;:1.2083,&quot;z&quot;:0.125184},{&quot;x&quot;:2.53846,&quot;y&quot;:1.28886,&quot;z&quot;:0.144807},{&quot;x&quot;:2.53846,&quot;y&quot;:1.36941,&quot;z&quot;:0.161012},{&quot;x&quot;:2.53846,&quot;y&quot;:1.44997,&quot;z&quot;:0.172592},{&quot;x&quot;:2.53846,&quot;y&quot;:1.53052,&quot;z&quot;:0.178631},{&quot;x&quot;:2.53846,&quot;y&quot;:1.61107,&quot;z&quot;:0.178631},{&quot;x&quot;:2.53846,&quot;y&quot;:1.69163,&quot;z&quot;:0.172592},{&quot;x&quot;:2.53846,&quot;y&quot;:1.77218,&quot;z&quot;:0.161012},{&quot;x&quot;:2.53846,&quot;y&quot;:1.85273,&quot;z&quot;:0.144807},{&quot;x&quot;:2.53846,&quot;y&quot;:1.93329,&quot;z&quot;:0.125184},{&quot;x&quot;:2.53846,&quot;y&quot;:2.01384,&quot;z&quot;:0.103471},{&quot;x&quot;:2.53846,&quot;y&quot;:2.0944,&quot;z&quot;:0.0809671},{&quot;x&quot;:2.53846,&quot;y&quot;:2.17495,&quot;z&quot;:0.0588114},{&quot;x&quot;:2.53846,&quot;y&quot;:2.2555,&quot;z&quot;:0.0379052},{&quot;x&quot;:2.53846,&quot;y&quot;:2.33606,&quot;z&quot;:0.0188793},{&quot;x&quot;:2.53846,&quot;y&quot;:2.41661,&quot;z&quot;:0.00210408},{&quot;x&quot;:2.53846,&quot;y&quot;:2.49716,&quot;z&quot;:-0.0122735},{&quot;x&quot;:2.53846,&quot;y&quot;:2.57772,&quot;z&quot;:-0.0242776},{&quot;x&quot;:2.53846,&quot;y&quot;:2.65827,&quot;z&quot;:-0.034048},{&quot;x&quot;:2.53846,&quot;y&quot;:2.73882,&quot;z&quot;:-0.0417898},{&quot;x&quot;:2.53846,&quot;y&quot;:2.81938,&quot;z&quot;:-0.0477314},{&quot;x&quot;:2.53846,&quot;y&quot;:2.89993,&quot;z&quot;:-0.0520926},{&quot;x&quot;:2.53846,&quot;y&quot;:2.98049,&quot;z&quot;:-0.0550627},{&quot;x&quot;:2.53846,&quot;y&quot;:3.06104,&quot;z&quot;:-0.0567852},{&quot;x&quot;:2.53846,&quot;y&quot;:3.14159,&quot;z&quot;:-0.0573493},{&quot;x&quot;:2.58974,&quot;y&quot;:0,&quot;z&quot;:-0.0477306},{&quot;x&quot;:2.58974,&quot;y&quot;:0.0805537,&quot;z&quot;:-0.0472102},{&quot;x&quot;:2.58974,&quot;y&quot;:0.161107,&quot;z&quot;:-0.0456238},{&quot;x&quot;:2.58974,&quot;y&quot;:0.241661,&quot;z&quot;:-0.0428969},{&quot;x&quot;:2.58974,&quot;y&quot;:0.322215,&quot;z&quot;:-0.0389101},{&quot;x&quot;:2.58974,&quot;y&quot;:0.402768,&quot;z&quot;:-0.0335074},{&quot;x&quot;:2.58974,&quot;y&quot;:0.483322,&quot;z&quot;:-0.0265091},{&quot;x&quot;:2.58974,&quot;y&quot;:0.563876,&quot;z&quot;:-0.0177323},{&quot;x&quot;:2.58974,&quot;y&quot;:0.644429,&quot;z&quot;:-0.00701755},{&quot;x&quot;:2.58974,&quot;y&quot;:0.724983,&quot;z&quot;:0.00573483},{&quot;x&quot;:2.58974,&quot;y&quot;:0.805537,&quot;z&quot;:0.0205229},{&quot;x&quot;:2.58974,&quot;y&quot;:0.88609,&quot;z&quot;:0.0371975},{&quot;x&quot;:2.58974,&quot;y&quot;:0.966644,&quot;z&quot;:0.0554208},{&quot;x&quot;:2.58974,&quot;y&quot;:1.0472,&quot;z&quot;:0.0746371},{&quot;x&quot;:2.58974,&quot;y&quot;:1.12775,&quot;z&quot;:0.0940687},{&quot;x&quot;:2.58974,&quot;y&quot;:1.2083,&quot;z&quot;:0.112744},{&quot;x&quot;:2.58974,&quot;y&quot;:1.28886,&quot;z&quot;:0.129568},{&quot;x&quot;:2.58974,&quot;y&quot;:1.36941,&quot;z&quot;:0.143425},{&quot;x&quot;:2.58974,&quot;y&quot;:1.44997,&quot;z&quot;:0.153309},{&quot;x&quot;:2.58974,&quot;y&quot;:1.53052,&quot;z&quot;:0.158458},{&quot;x&quot;:2.58974,&quot;y&quot;:1.61107,&quot;z&quot;:0.158458},{&quot;x&quot;:2.58974,&quot;y&quot;:1.69163,&quot;z&quot;:0.153309},{&quot;x&quot;:2.58974,&quot;y&quot;:1.77218,&quot;z&quot;:0.143425},{&quot;x&quot;:2.58974,&quot;y&quot;:1.85273,&quot;z&quot;:0.129568},{&quot;x&quot;:2.58974,&quot;y&quot;:1.93329,&quot;z&quot;:0.112744},{&quot;x&quot;:2.58974,&quot;y&quot;:2.01384,&quot;z&quot;:0.0940687},{&quot;x&quot;:2.58974,&quot;y&quot;:2.0944,&quot;z&quot;:0.0746371},{&quot;x&quot;:2.58974,&quot;y&quot;:2.17495,&quot;z&quot;:0.0554208},{&quot;x&quot;:2.58974,&quot;y&quot;:2.2555,&quot;z&quot;:0.0371975},{&quot;x&quot;:2.58974,&quot;y&quot;:2.33606,&quot;z&quot;:0.0205229},{&quot;x&quot;:2.58974,&quot;y&quot;:2.41661,&quot;z&quot;:0.00573483},{&quot;x&quot;:2.58974,&quot;y&quot;:2.49716,&quot;z&quot;:-0.00701755},{&quot;x&quot;:2.58974,&quot;y&quot;:2.57772,&quot;z&quot;:-0.0177323},{&quot;x&quot;:2.58974,&quot;y&quot;:2.65827,&quot;z&quot;:-0.0265091},{&quot;x&quot;:2.58974,&quot;y&quot;:2.73882,&quot;z&quot;:-0.0335074},{&quot;x&quot;:2.58974,&quot;y&quot;:2.81938,&quot;z&quot;:-0.0389101},{&quot;x&quot;:2.58974,&quot;y&quot;:2.89993,&quot;z&quot;:-0.0428969},{&quot;x&quot;:2.58974,&quot;y&quot;:2.98049,&quot;z&quot;:-0.0456238},{&quot;x&quot;:2.58974,&quot;y&quot;:3.06104,&quot;z&quot;:-0.0472102},{&quot;x&quot;:2.58974,&quot;y&quot;:3.14159,&quot;z&quot;:-0.0477306},{&quot;x&quot;:2.64103,&quot;y&quot;:0,&quot;z&quot;:-0.0395991},{&quot;x&quot;:2.64103,&quot;y&quot;:0.0805537,&quot;z&quot;:-0.0391205},{&quot;x&quot;:2.64103,&quot;y&quot;:0.161107,&quot;z&quot;:-0.0376637},{&quot;x&quot;:2.64103,&quot;y&quot;:0.241661,&quot;z&quot;:-0.0351665},{&quot;x&quot;:2.64103,&quot;y&quot;:0.322215,&quot;z&quot;:-0.0315297},{&quot;x&quot;:2.64103,&quot;y&quot;:0.402768,&quot;z&quot;:-0.0266247},{&quot;x&quot;:2.64103,&quot;y&quot;:0.483322,&quot;z&quot;:-0.020305},{&quot;x&quot;:2.64103,&quot;y&quot;:0.563876,&quot;z&quot;:-0.0124243},{&quot;x&quot;:2.64103,&quot;y&quot;:0.644429,&quot;z&quot;:-0.00285976},{&quot;x&quot;:2.64103,&quot;y&quot;:0.724983,&quot;z&quot;:0.00845742},{&quot;x&quot;:2.64103,&quot;y&quot;:0.805537,&quot;z&quot;:0.0215068},{&quot;x&quot;:2.64103,&quot;y&quot;:0.88609,&quot;z&quot;:0.0361414},{&quot;x&quot;:2.64103,&quot;y&quot;:0.966644,&quot;z&quot;:0.0520541},{&quot;x&quot;:2.64103,&quot;y&quot;:1.0472,&quot;z&quot;:0.0687559},{&quot;x&quot;:2.64103,&quot;y&quot;:1.12775,&quot;z&quot;:0.0855742},{&quot;x&quot;:2.64103,&quot;y&quot;:1.2083,&quot;z&quot;:0.101679},{&quot;x&quot;:2.64103,&quot;y&quot;:1.28886,&quot;z&quot;:0.116143},{&quot;x&quot;:2.64103,&quot;y&quot;:1.36941,&quot;z&quot;:0.128027},{&quot;x&quot;:2.64103,&quot;y&quot;:1.44997,&quot;z&quot;:0.136489},{&quot;x&quot;:2.64103,&quot;y&quot;:1.53052,&quot;z&quot;:0.140892},{&quot;x&quot;:2.64103,&quot;y&quot;:1.61107,&quot;z&quot;:0.140892},{&quot;x&quot;:2.64103,&quot;y&quot;:1.69163,&quot;z&quot;:0.136489},{&quot;x&quot;:2.64103,&quot;y&quot;:1.77218,&quot;z&quot;:0.128027},{&quot;x&quot;:2.64103,&quot;y&quot;:1.85273,&quot;z&quot;:0.116143},{&quot;x&quot;:2.64103,&quot;y&quot;:1.93329,&quot;z&quot;:0.101679},{&quot;x&quot;:2.64103,&quot;y&quot;:2.01384,&quot;z&quot;:0.0855742},{&quot;x&quot;:2.64103,&quot;y&quot;:2.0944,&quot;z&quot;:0.0687559},{&quot;x&quot;:2.64103,&quot;y&quot;:2.17495,&quot;z&quot;:0.0520541},{&quot;x&quot;:2.64103,&quot;y&quot;:2.2555,&quot;z&quot;:0.0361414},{&quot;x&quot;:2.64103,&quot;y&quot;:2.33606,&quot;z&quot;:0.0215068},{&quot;x&quot;:2.64103,&quot;y&quot;:2.41661,&quot;z&quot;:0.00845742},{&quot;x&quot;:2.64103,&quot;y&quot;:2.49716,&quot;z&quot;:-0.00285976},{&quot;x&quot;:2.64103,&quot;y&quot;:2.57772,&quot;z&quot;:-0.0124243},{&quot;x&quot;:2.64103,&quot;y&quot;:2.65827,&quot;z&quot;:-0.020305},{&quot;x&quot;:2.64103,&quot;y&quot;:2.73882,&quot;z&quot;:-0.0266247},{&quot;x&quot;:2.64103,&quot;y&quot;:2.81938,&quot;z&quot;:-0.0315297},{&quot;x&quot;:2.64103,&quot;y&quot;:2.89993,&quot;z&quot;:-0.0351665},{&quot;x&quot;:2.64103,&quot;y&quot;:2.98049,&quot;z&quot;:-0.0376637},{&quot;x&quot;:2.64103,&quot;y&quot;:3.06104,&quot;z&quot;:-0.0391205},{&quot;x&quot;:2.64103,&quot;y&quot;:3.14159,&quot;z&quot;:-0.0395991},{&quot;x&quot;:2.69231,&quot;y&quot;:0,&quot;z&quot;:-0.0327272},{&quot;x&quot;:2.69231,&quot;y&quot;:0.0805537,&quot;z&quot;:-0.0322883},{&quot;x&quot;:2.69231,&quot;y&quot;:0.161107,&quot;z&quot;:-0.0309536},{&quot;x&quot;:2.69231,&quot;y&quot;:0.241661,&quot;z&quot;:-0.0286714},{&quot;x&quot;:2.69231,&quot;y&quot;:0.322215,&quot;z&quot;:-0.0253593},{&quot;x&quot;:2.69231,&quot;y&quot;:0.402768,&quot;z&quot;:-0.0209114},{&quot;x&quot;:2.69231,&quot;y&quot;:0.483322,&quot;z&quot;:-0.0152086},{&quot;x&quot;:2.69231,&quot;y&quot;:0.563876,&quot;z&quot;:-0.00813418},{&quot;x&quot;:2.69231,&quot;y&quot;:0.644429,&quot;z&quot;:0.000405589},{&quot;x&quot;:2.69231,&quot;y&quot;:0.724983,&quot;z&quot;:0.0104558},{&quot;x&quot;:2.69231,&quot;y&quot;:0.805537,&quot;z&quot;:0.0219833},{&quot;x&quot;:2.69231,&quot;y&quot;:0.88609,&quot;z&quot;:0.0348458},{&quot;x&quot;:2.69231,&quot;y&quot;:0.966644,&quot;z&quot;:0.0487653},{&quot;x&quot;:2.69231,&quot;y&quot;:1.0472,&quot;z&quot;:0.0633113},{&quot;x&quot;:2.69231,&quot;y&quot;:1.12775,&quot;z&quot;:0.0779013},{&quot;x&quot;:2.69231,&quot;y&quot;:1.2083,&quot;z&quot;:0.0918247},{&quot;x&quot;:2.69231,&quot;y&quot;:1.28886,&quot;z&quot;:0.104293},{&quot;x&quot;:2.69231,&quot;y&quot;:1.36941,&quot;z&quot;:0.114514},{&quot;x&quot;:2.69231,&quot;y&quot;:1.44997,&quot;z&quot;:0.12178},{&quot;x&quot;:2.69231,&quot;y&quot;:1.53052,&quot;z&quot;:0.125557},{&quot;x&quot;:2.69231,&quot;y&quot;:1.61107,&quot;z&quot;:0.125557},{&quot;x&quot;:2.69231,&quot;y&quot;:1.69163,&quot;z&quot;:0.12178},{&quot;x&quot;:2.69231,&quot;y&quot;:1.77218,&quot;z&quot;:0.114514},{&quot;x&quot;:2.69231,&quot;y&quot;:1.85273,&quot;z&quot;:0.104293},{&quot;x&quot;:2.69231,&quot;y&quot;:1.93329,&quot;z&quot;:0.0918247},{&quot;x&quot;:2.69231,&quot;y&quot;:2.01384,&quot;z&quot;:0.0779013},{&quot;x&quot;:2.69231,&quot;y&quot;:2.0944,&quot;z&quot;:0.0633113},{&quot;x&quot;:2.69231,&quot;y&quot;:2.17495,&quot;z&quot;:0.0487653},{&quot;x&quot;:2.69231,&quot;y&quot;:2.2555,&quot;z&quot;:0.0348458},{&quot;x&quot;:2.69231,&quot;y&quot;:2.33606,&quot;z&quot;:0.0219833},{&quot;x&quot;:2.69231,&quot;y&quot;:2.41661,&quot;z&quot;:0.0104558},{&quot;x&quot;:2.69231,&quot;y&quot;:2.49716,&quot;z&quot;:0.000405589},{&quot;x&quot;:2.69231,&quot;y&quot;:2.57772,&quot;z&quot;:-0.00813418},{&quot;x&quot;:2.69231,&quot;y&quot;:2.65827,&quot;z&quot;:-0.0152086},{&quot;x&quot;:2.69231,&quot;y&quot;:2.73882,&quot;z&quot;:-0.0209114},{&quot;x&quot;:2.69231,&quot;y&quot;:2.81938,&quot;z&quot;:-0.0253593},{&quot;x&quot;:2.69231,&quot;y&quot;:2.89993,&quot;z&quot;:-0.0286714},{&quot;x&quot;:2.69231,&quot;y&quot;:2.98049,&quot;z&quot;:-0.0309536},{&quot;x&quot;:2.69231,&quot;y&quot;:3.06104,&quot;z&quot;:-0.0322883},{&quot;x&quot;:2.69231,&quot;y&quot;:3.14159,&quot;z&quot;:-0.0327272},{&quot;x&quot;:2.74359,&quot;y&quot;:0,&quot;z&quot;:-0.0269226},{&quot;x&quot;:2.74359,&quot;y&quot;:0.0805537,&quot;z&quot;:-0.0265206},{&quot;x&quot;:2.74359,&quot;y&quot;:0.161107,&quot;z&quot;:-0.0253001},{&quot;x&quot;:2.74359,&quot;y&quot;:0.241661,&quot;z&quot;:-0.0232177},{&quot;x&quot;:2.74359,&quot;y&quot;:0.322215,&quot;z&quot;:-0.0202052},{&quot;x&quot;:2.74359,&quot;y&quot;:0.402768,&quot;z&quot;:-0.0161754},{&quot;x&quot;:2.74359,&quot;y&quot;:0.483322,&quot;z&quot;:-0.0110316},{&quot;x&quot;:2.74359,&quot;y&quot;:0.563876,&quot;z&quot;:-0.00468128},{&quot;x&quot;:2.74359,&quot;y&quot;:0.644429,&quot;z&quot;:0.00294634},{&quot;x&quot;:2.74359,&quot;y&quot;:0.724983,&quot;z&quot;:0.0118782},{&quot;x&quot;:2.74359,&quot;y&quot;:0.805537,&quot;z&quot;:0.0220726},{&quot;x&quot;:2.74359,&quot;y&quot;:0.88609,&quot;z&quot;:0.033394},{&quot;x&quot;:2.74359,&quot;y&quot;:0.966644,&quot;z&quot;:0.0455913},{&quot;x&quot;:2.74359,&quot;y&quot;:1.0472,&quot;z&quot;:0.0582852},{&quot;x&quot;:2.74359,&quot;y&quot;:1.12775,&quot;z&quot;:0.0709704},{&quot;x&quot;:2.74359,&quot;y&quot;:1.2083,&quot;z&quot;:0.083037},{&quot;x&quot;:2.74359,&quot;y&quot;:1.28886,&quot;z&quot;:0.0938133},{&quot;x&quot;:2.74359,&quot;y&quot;:1.36941,&quot;z&quot;:0.102628},{&quot;x&quot;:2.74359,&quot;y&quot;:1.44997,&quot;z&quot;:0.108884},{&quot;x&quot;:2.74359,&quot;y&quot;:1.53052,&quot;z&quot;:0.112133},{&quot;x&quot;:2.74359,&quot;y&quot;:1.61107,&quot;z&quot;:0.112133},{&quot;x&quot;:2.74359,&quot;y&quot;:1.69163,&quot;z&quot;:0.108884},{&quot;x&quot;:2.74359,&quot;y&quot;:1.77218,&quot;z&quot;:0.102628},{&quot;x&quot;:2.74359,&quot;y&quot;:1.85273,&quot;z&quot;:0.0938133},{&quot;x&quot;:2.74359,&quot;y&quot;:1.93329,&quot;z&quot;:0.083037},{&quot;x&quot;:2.74359,&quot;y&quot;:2.01384,&quot;z&quot;:0.0709704},{&quot;x&quot;:2.74359,&quot;y&quot;:2.0944,&quot;z&quot;:0.0582852},{&quot;x&quot;:2.74359,&quot;y&quot;:2.17495,&quot;z&quot;:0.0455913},{&quot;x&quot;:2.74359,&quot;y&quot;:2.2555,&quot;z&quot;:0.033394},{&quot;x&quot;:2.74359,&quot;y&quot;:2.33606,&quot;z&quot;:0.0220726},{&quot;x&quot;:2.74359,&quot;y&quot;:2.41661,&quot;z&quot;:0.0118782},{&quot;x&quot;:2.74359,&quot;y&quot;:2.49716,&quot;z&quot;:0.00294634},{&quot;x&quot;:2.74359,&quot;y&quot;:2.57772,&quot;z&quot;:-0.00468128},{&quot;x&quot;:2.74359,&quot;y&quot;:2.65827,&quot;z&quot;:-0.0110316},{&quot;x&quot;:2.74359,&quot;y&quot;:2.73882,&quot;z&quot;:-0.0161754},{&quot;x&quot;:2.74359,&quot;y&quot;:2.81938,&quot;z&quot;:-0.0202052},{&quot;x&quot;:2.74359,&quot;y&quot;:2.89993,&quot;z&quot;:-0.0232177},{&quot;x&quot;:2.74359,&quot;y&quot;:2.98049,&quot;z&quot;:-0.0253001},{&quot;x&quot;:2.74359,&quot;y&quot;:3.06104,&quot;z&quot;:-0.0265206},{&quot;x&quot;:2.74359,&quot;y&quot;:3.14159,&quot;z&quot;:-0.0269226},{&quot;x&quot;:2.79487,&quot;y&quot;:0,&quot;z&quot;:-0.022022},{&quot;x&quot;:2.79487,&quot;y&quot;:0.0805537,&quot;z&quot;:-0.0216546},{&quot;x&quot;:2.79487,&quot;y&quot;:0.161107,&quot;z&quot;:-0.02054},{&quot;x&quot;:2.79487,&quot;y&quot;:0.241661,&quot;z&quot;:-0.0186423},{&quot;x&quot;:2.79487,&quot;y&quot;:0.322215,&quot;z&quot;:-0.0159049},{&quot;x&quot;:2.79487,&quot;y&quot;:0.402768,&quot;z&quot;:-0.0122561},{&quot;x&quot;:2.79487,&quot;y&quot;:0.483322,&quot;z&quot;:-0.00761777},{&quot;x&quot;:2.79487,&quot;y&quot;:0.563876,&quot;z&quot;:-0.00191674},{&quot;x&quot;:2.79487,&quot;y&quot;:0.644429,&quot;z&quot;:0.00489944},{&quot;x&quot;:2.79487,&quot;y&quot;:0.724983,&quot;z&quot;:0.012844},{&quot;x&quot;:2.79487,&quot;y&quot;:0.805537,&quot;z&quot;:0.0218699},{&quot;x&quot;:2.79487,&quot;y&quot;:0.88609,&quot;z&quot;:0.0318493},{&quot;x&quot;:2.79487,&quot;y&quot;:0.966644,&quot;z&quot;:0.0425559},{&quot;x&quot;:2.79487,&quot;y&quot;:1.0472,&quot;z&quot;:0.0536554},{&quot;x&quot;:2.79487,&quot;y&quot;:1.12775,&quot;z&quot;:0.0647086},{&quot;x&quot;:2.79487,&quot;y&quot;:1.2083,&quot;z&quot;:0.0751908},{&quot;x&quot;:2.79487,&quot;y&quot;:1.28886,&quot;z&quot;:0.084528},{&quot;x&quot;:2.79487,&quot;y&quot;:1.36941,&quot;z&quot;:0.09215},{&quot;x&quot;:2.79487,&quot;y&quot;:1.44997,&quot;z&quot;:0.0975517},{&quot;x&quot;:2.79487,&quot;y&quot;:1.53052,&quot;z&quot;:0.100354},{&quot;x&quot;:2.79487,&quot;y&quot;:1.61107,&quot;z&quot;:0.100354},{&quot;x&quot;:2.79487,&quot;y&quot;:1.69163,&quot;z&quot;:0.0975517},{&quot;x&quot;:2.79487,&quot;y&quot;:1.77218,&quot;z&quot;:0.09215},{&quot;x&quot;:2.79487,&quot;y&quot;:1.85273,&quot;z&quot;:0.084528},{&quot;x&quot;:2.79487,&quot;y&quot;:1.93329,&quot;z&quot;:0.0751908},{&quot;x&quot;:2.79487,&quot;y&quot;:2.01384,&quot;z&quot;:0.0647086},{&quot;x&quot;:2.79487,&quot;y&quot;:2.0944,&quot;z&quot;:0.0536554},{&quot;x&quot;:2.79487,&quot;y&quot;:2.17495,&quot;z&quot;:0.0425559},{&quot;x&quot;:2.79487,&quot;y&quot;:2.2555,&quot;z&quot;:0.0318493},{&quot;x&quot;:2.79487,&quot;y&quot;:2.33606,&quot;z&quot;:0.0218699},{&quot;x&quot;:2.79487,&quot;y&quot;:2.41661,&quot;z&quot;:0.012844},{&quot;x&quot;:2.79487,&quot;y&quot;:2.49716,&quot;z&quot;:0.00489944},{&quot;x&quot;:2.79487,&quot;y&quot;:2.57772,&quot;z&quot;:-0.00191674},{&quot;x&quot;:2.79487,&quot;y&quot;:2.65827,&quot;z&quot;:-0.00761777},{&quot;x&quot;:2.79487,&quot;y&quot;:2.73882,&quot;z&quot;:-0.0122561},{&quot;x&quot;:2.79487,&quot;y&quot;:2.81938,&quot;z&quot;:-0.0159049},{&quot;x&quot;:2.79487,&quot;y&quot;:2.89993,&quot;z&quot;:-0.0186423},{&quot;x&quot;:2.79487,&quot;y&quot;:2.98049,&quot;z&quot;:-0.02054},{&quot;x&quot;:2.79487,&quot;y&quot;:3.06104,&quot;z&quot;:-0.0216546},{&quot;x&quot;:2.79487,&quot;y&quot;:3.14159,&quot;z&quot;:-0.022022},{&quot;x&quot;:2.84615,&quot;y&quot;:0,&quot;z&quot;:-0.0178875},{&quot;x&quot;:2.84615,&quot;y&quot;:0.0805537,&quot;z&quot;:-0.0175521},{&quot;x&quot;:2.84615,&quot;y&quot;:0.161107,&quot;z&quot;:-0.0165354},{&quot;x&quot;:2.84615,&quot;y&quot;:0.241661,&quot;z&quot;:-0.0148077},{&quot;x&quot;:2.84615,&quot;y&quot;:0.322215,&quot;z&quot;:-0.0123219},{&quot;x&quot;:2.84615,&quot;y&quot;:0.402768,&quot;z&quot;:-0.00901952},{&quot;x&quot;:2.84615,&quot;y&quot;:0.483322,&quot;z&quot;:-0.00483724},{&quot;x&quot;:2.84615,&quot;y&quot;:0.563876,&quot;z&quot;:0.000282149},{&quot;x&quot;:2.84615,&quot;y&quot;:0.644429,&quot;z&quot;:0.0063767},{&quot;x&quot;:2.84615,&quot;y&quot;:0.724983,&quot;z&quot;:0.0134493},{&quot;x&quot;:2.84615,&quot;y&quot;:0.805537,&quot;z&quot;:0.0214502},{&quot;x&quot;:2.84615,&quot;y&quot;:0.88609,&quot;z&quot;:0.0302595},{&quot;x&quot;:2.84615,&quot;y&quot;:0.966644,&quot;z&quot;:0.0396735},{&quot;x&quot;:2.84615,&quot;y&quot;:1.0472,&quot;z&quot;:0.0493976},{&quot;x&quot;:2.84615,&quot;y&quot;:1.12775,&quot;z&quot;:0.0590493},{&quot;x&quot;:2.84615,&quot;y&quot;:1.2083,&quot;z&quot;:0.068176},{&quot;x&quot;:2.84615,&quot;y&quot;:1.28886,&quot;z&quot;:0.076286},{&quot;x&quot;:2.84615,&quot;y&quot;:1.36941,&quot;z&quot;:0.0828935},{&quot;x&quot;:2.84615,&quot;y&quot;:1.44997,&quot;z&quot;:0.0875696},{&quot;x&quot;:2.84615,&quot;y&quot;:1.53052,&quot;z&quot;:0.0899935},{&quot;x&quot;:2.84615,&quot;y&quot;:1.61107,&quot;z&quot;:0.0899935},{&quot;x&quot;:2.84615,&quot;y&quot;:1.69163,&quot;z&quot;:0.0875696},{&quot;x&quot;:2.84615,&quot;y&quot;:1.77218,&quot;z&quot;:0.0828935},{&quot;x&quot;:2.84615,&quot;y&quot;:1.85273,&quot;z&quot;:0.076286},{&quot;x&quot;:2.84615,&quot;y&quot;:1.93329,&quot;z&quot;:0.068176},{&quot;x&quot;:2.84615,&quot;y&quot;:2.01384,&quot;z&quot;:0.0590493},{&quot;x&quot;:2.84615,&quot;y&quot;:2.0944,&quot;z&quot;:0.0493976},{&quot;x&quot;:2.84615,&quot;y&quot;:2.17495,&quot;z&quot;:0.0396735},{&quot;x&quot;:2.84615,&quot;y&quot;:2.2555,&quot;z&quot;:0.0302595},{&quot;x&quot;:2.84615,&quot;y&quot;:2.33606,&quot;z&quot;:0.0214502},{&quot;x&quot;:2.84615,&quot;y&quot;:2.41661,&quot;z&quot;:0.0134493},{&quot;x&quot;:2.84615,&quot;y&quot;:2.49716,&quot;z&quot;:0.0063767},{&quot;x&quot;:2.84615,&quot;y&quot;:2.57772,&quot;z&quot;:0.000282149},{&quot;x&quot;:2.84615,&quot;y&quot;:2.65827,&quot;z&quot;:-0.00483724},{&quot;x&quot;:2.84615,&quot;y&quot;:2.73882,&quot;z&quot;:-0.00901952},{&quot;x&quot;:2.84615,&quot;y&quot;:2.81938,&quot;z&quot;:-0.0123219},{&quot;x&quot;:2.84615,&quot;y&quot;:2.89993,&quot;z&quot;:-0.0148077},{&quot;x&quot;:2.84615,&quot;y&quot;:2.98049,&quot;z&quot;:-0.0165354},{&quot;x&quot;:2.84615,&quot;y&quot;:3.06104,&quot;z&quot;:-0.0175521},{&quot;x&quot;:2.84615,&quot;y&quot;:3.14159,&quot;z&quot;:-0.0178875},{&quot;x&quot;:2.89744,&quot;y&quot;:0,&quot;z&quot;:-0.0144024},{&quot;x&quot;:2.89744,&quot;y&quot;:0.0805537,&quot;z&quot;:-0.0140964},{&quot;x&quot;:2.89744,&quot;y&quot;:0.161107,&quot;z&quot;:-0.0131699},{&quot;x&quot;:2.89744,&quot;y&quot;:0.241661,&quot;z&quot;:-0.0115979},{&quot;x&quot;:2.89744,&quot;y&quot;:0.322215,&quot;z&quot;:-0.00934176},{&quot;x&quot;:2.89744,&quot;y&quot;:0.402768,&quot;z&quot;:-0.00635346},{&quot;x&quot;:2.89744,&quot;y&quot;:0.483322,&quot;z&quot;:-0.00258218},{&quot;x&quot;:2.89744,&quot;y&quot;:0.563876,&quot;z&quot;:0.00201655},{&quot;x&quot;:2.89744,&quot;y&quot;:0.644429,&quot;z&quot;:0.00746943},{&quot;x&quot;:2.89744,&quot;y&quot;:0.724983,&quot;z&quot;:0.0137717},{&quot;x&quot;:2.89744,&quot;y&quot;:0.805537,&quot;z&quot;:0.0208724},{&quot;x&quot;:2.89744,&quot;y&quot;:0.88609,&quot;z&quot;:0.0286601},{&quot;x&quot;:2.89744,&quot;y&quot;:0.966644,&quot;z&quot;:0.0369516},{&quot;x&quot;:2.89744,&quot;y&quot;:1.0472,&quot;z&quot;:0.0454868},{&quot;x&quot;:2.89744,&quot;y&quot;:1.12775,&quot;z&quot;:0.0539321},{&quot;x&quot;:2.89744,&quot;y&quot;:1.2083,&quot;z&quot;:0.0618963},{&quot;x&quot;:2.89744,&quot;y&quot;:1.28886,&quot;z&quot;:0.0689571},{&quot;x&quot;:2.89744,&quot;y&quot;:1.36941,&quot;z&quot;:0.0746992},{&quot;x&quot;:2.89744,&quot;y&quot;:1.44997,&quot;z&quot;:0.0787574},{&quot;x&quot;:2.89744,&quot;y&quot;:1.53052,&quot;z&quot;:0.0808594},{&quot;x&quot;:2.89744,&quot;y&quot;:1.61107,&quot;z&quot;:0.0808594},{&quot;x&quot;:2.89744,&quot;y&quot;:1.69163,&quot;z&quot;:0.0787574},{&quot;x&quot;:2.89744,&quot;y&quot;:1.77218,&quot;z&quot;:0.0746992},{&quot;x&quot;:2.89744,&quot;y&quot;:1.85273,&quot;z&quot;:0.0689571},{&quot;x&quot;:2.89744,&quot;y&quot;:1.93329,&quot;z&quot;:0.0618963},{&quot;x&quot;:2.89744,&quot;y&quot;:2.01384,&quot;z&quot;:0.0539321},{&quot;x&quot;:2.89744,&quot;y&quot;:2.0944,&quot;z&quot;:0.0454868},{&quot;x&quot;:2.89744,&quot;y&quot;:2.17495,&quot;z&quot;:0.0369516},{&quot;x&quot;:2.89744,&quot;y&quot;:2.2555,&quot;z&quot;:0.0286601},{&quot;x&quot;:2.89744,&quot;y&quot;:2.33606,&quot;z&quot;:0.0208724},{&quot;x&quot;:2.89744,&quot;y&quot;:2.41661,&quot;z&quot;:0.0137717},{&quot;x&quot;:2.89744,&quot;y&quot;:2.49716,&quot;z&quot;:0.00746943},{&quot;x&quot;:2.89744,&quot;y&quot;:2.57772,&quot;z&quot;:0.00201655},{&quot;x&quot;:2.89744,&quot;y&quot;:2.65827,&quot;z&quot;:-0.00258218},{&quot;x&quot;:2.89744,&quot;y&quot;:2.73882,&quot;z&quot;:-0.00635346},{&quot;x&quot;:2.89744,&quot;y&quot;:2.81938,&quot;z&quot;:-0.00934176},{&quot;x&quot;:2.89744,&quot;y&quot;:2.89993,&quot;z&quot;:-0.0115979},{&quot;x&quot;:2.89744,&quot;y&quot;:2.98049,&quot;z&quot;:-0.0131699},{&quot;x&quot;:2.89744,&quot;y&quot;:3.06104,&quot;z&quot;:-0.0140964},{&quot;x&quot;:2.89744,&quot;y&quot;:3.14159,&quot;z&quot;:-0.0144024},{&quot;x&quot;:2.94872,&quot;y&quot;:0,&quot;z&quot;:-0.0114677},{&quot;x&quot;:2.94872,&quot;y&quot;:0.0805537,&quot;z&quot;:-0.0111888},{&quot;x&quot;:2.94872,&quot;y&quot;:0.161107,&quot;z&quot;:-0.0103449},{&quot;x&quot;:2.94872,&quot;y&quot;:0.241661,&quot;z&quot;:-0.00891528},{&quot;x&quot;:2.94872,&quot;y&quot;:0.322215,&quot;z&quot;:-0.00686814},{&quot;x&quot;:2.94872,&quot;y&quot;:0.402768,&quot;z&quot;:-0.00416425},{&quot;x&quot;:2.94872,&quot;y&quot;:0.483322,&quot;z&quot;:-0.000762942},{&quot;x&quot;:2.94872,&quot;y&quot;:0.563876,&quot;z&quot;:0.00336996},{&quot;x&quot;:2.94872,&quot;y&quot;:0.644429,&quot;z&quot;:0.00825221},{&quot;x&quot;:2.94872,&quot;y&quot;:0.724983,&quot;z&quot;:0.0138735},{&quot;x&quot;:2.94872,&quot;y&quot;:0.805537,&quot;z&quot;:0.020183},{&quot;x&quot;:2.94872,&quot;y&quot;:0.88609,&quot;z&quot;:0.0270776},{&quot;x&quot;:2.94872,&quot;y&quot;:0.966644,&quot;z&quot;:0.0343925},{&quot;x&quot;:2.94872,&quot;y&quot;:1.0472,&quot;z&quot;:0.0418979},{&quot;x&quot;:2.94872,&quot;y&quot;:1.12775,&quot;z&quot;:0.0493026},{&quot;x&quot;:2.94872,&quot;y&quot;:1.2083,&quot;z&quot;:0.0562674},{&quot;x&quot;:2.94872,&quot;y&quot;:1.28886,&quot;z&quot;:0.0624287},{&quot;x&quot;:2.94872,&quot;y&quot;:1.36941,&quot;z&quot;:0.0674306},{&quot;x&quot;:2.94872,&quot;y&quot;:1.44997,&quot;z&quot;:0.0709613},{&quot;x&quot;:2.94872,&quot;y&quot;:1.53052,&quot;z&quot;:0.0727886},{&quot;x&quot;:2.94872,&quot;y&quot;:1.61107,&quot;z&quot;:0.0727886},{&quot;x&quot;:2.94872,&quot;y&quot;:1.69163,&quot;z&quot;:0.0709613},{&quot;x&quot;:2.94872,&quot;y&quot;:1.77218,&quot;z&quot;:0.0674306},{&quot;x&quot;:2.94872,&quot;y&quot;:1.85273,&quot;z&quot;:0.0624287},{&quot;x&quot;:2.94872,&quot;y&quot;:1.93329,&quot;z&quot;:0.0562674},{&quot;x&quot;:2.94872,&quot;y&quot;:2.01384,&quot;z&quot;:0.0493026},{&quot;x&quot;:2.94872,&quot;y&quot;:2.0944,&quot;z&quot;:0.0418979},{&quot;x&quot;:2.94872,&quot;y&quot;:2.17495,&quot;z&quot;:0.0343925},{&quot;x&quot;:2.94872,&quot;y&quot;:2.2555,&quot;z&quot;:0.0270776},{&quot;x&quot;:2.94872,&quot;y&quot;:2.33606,&quot;z&quot;:0.020183},{&quot;x&quot;:2.94872,&quot;y&quot;:2.41661,&quot;z&quot;:0.0138735},{&quot;x&quot;:2.94872,&quot;y&quot;:2.49716,&quot;z&quot;:0.00825221},{&quot;x&quot;:2.94872,&quot;y&quot;:2.57772,&quot;z&quot;:0.00336996},{&quot;x&quot;:2.94872,&quot;y&quot;:2.65827,&quot;z&quot;:-0.000762942},{&quot;x&quot;:2.94872,&quot;y&quot;:2.73882,&quot;z&quot;:-0.00416425},{&quot;x&quot;:2.94872,&quot;y&quot;:2.81938,&quot;z&quot;:-0.00686814},{&quot;x&quot;:2.94872,&quot;y&quot;:2.89993,&quot;z&quot;:-0.00891528},{&quot;x&quot;:2.94872,&quot;y&quot;:2.98049,&quot;z&quot;:-0.0103449},{&quot;x&quot;:2.94872,&quot;y&quot;:3.06104,&quot;z&quot;:-0.0111888},{&quot;x&quot;:2.94872,&quot;y&quot;:3.14159,&quot;z&quot;:-0.0114677},{&quot;x&quot;:3,&quot;y&quot;:0,&quot;z&quot;:-0.00899962},{&quot;x&quot;:3,&quot;y&quot;:0.0805537,&quot;z&quot;:-0.00874548},{&quot;x&quot;:3,&quot;y&quot;:0.161107,&quot;z&quot;:-0.00797713},{&quot;x&quot;:3,&quot;y&quot;:0.241661,&quot;z&quot;:-0.00667746},{&quot;x&quot;:3,&quot;y&quot;:0.322215,&quot;z&quot;:-0.00482021},{&quot;x&quot;:3,&quot;y&quot;:0.402768,&quot;z&quot;:-0.00237348},{&quot;x&quot;:3,&quot;y&quot;:0.483322,&quot;z&quot;:0.000695047},{&quot;x&quot;:3,&quot;y&quot;:0.563876,&quot;z&quot;:0.00441127},{&quot;x&quot;:3,&quot;y&quot;:0.644429,&quot;z&quot;:0.00878596},{&quot;x&quot;:3,&quot;y&quot;:0.724983,&quot;z&quot;:0.0138049},{&quot;x&quot;:3,&quot;y&quot;:0.805537,&quot;z&quot;:0.0194182},{&quot;x&quot;:3,&quot;y&quot;:0.88609,&quot;z&quot;:0.0255308},{&quot;x&quot;:3,&quot;y&quot;:0.966644,&quot;z&quot;:0.0319947},{&quot;x&quot;:3,&quot;y&quot;:1.0472,&quot;z&quot;:0.0386066},{&quot;x&quot;:3,&quot;y&quot;:1.12775,&quot;z&quot;:0.0451116},{&quot;x&quot;:3,&quot;y&quot;:1.2083,&quot;z&quot;:0.0512152},{&quot;x&quot;:3,&quot;y&quot;:1.28886,&quot;z&quot;:0.0566035},{&quot;x&quot;:3,&quot;y&quot;:1.36941,&quot;z&quot;:0.0609707},{&quot;x&quot;:3,&quot;y&quot;:1.44997,&quot;z&quot;:0.0640497},{&quot;x&quot;:3,&quot;y&quot;:1.53052,&quot;z&quot;:0.065642},{&quot;x&quot;:3,&quot;y&quot;:1.61107,&quot;z&quot;:0.065642},{&quot;x&quot;:3,&quot;y&quot;:1.69163,&quot;z&quot;:0.0640497},{&quot;x&quot;:3,&quot;y&quot;:1.77218,&quot;z&quot;:0.0609707},{&quot;x&quot;:3,&quot;y&quot;:1.85273,&quot;z&quot;:0.0566035},{&quot;x&quot;:3,&quot;y&quot;:1.93329,&quot;z&quot;:0.0512152},{&quot;x&quot;:3,&quot;y&quot;:2.01384,&quot;z&quot;:0.0451116},{&quot;x&quot;:3,&quot;y&quot;:2.0944,&quot;z&quot;:0.0386066},{&quot;x&quot;:3,&quot;y&quot;:2.17495,&quot;z&quot;:0.0319947},{&quot;x&quot;:3,&quot;y&quot;:2.2555,&quot;z&quot;:0.0255308},{&quot;x&quot;:3,&quot;y&quot;:2.33606,&quot;z&quot;:0.0194182},{&quot;x&quot;:3,&quot;y&quot;:2.41661,&quot;z&quot;:0.0138049},{&quot;x&quot;:3,&quot;y&quot;:2.49716,&quot;z&quot;:0.00878596},{&quot;x&quot;:3,&quot;y&quot;:2.57772,&quot;z&quot;:0.00441127},{&quot;x&quot;:3,&quot;y&quot;:2.65827,&quot;z&quot;:0.000695047},{&quot;x&quot;:3,&quot;y&quot;:2.73882,&quot;z&quot;:-0.00237348},{&quot;x&quot;:3,&quot;y&quot;:2.81938,&quot;z&quot;:-0.00482021},{&quot;x&quot;:3,&quot;y&quot;:2.89993,&quot;z&quot;:-0.00667746},{&quot;x&quot;:3,&quot;y&quot;:2.98049,&quot;z&quot;:-0.00797713},{&quot;x&quot;:3,&quot;y&quot;:3.06104,&quot;z&quot;:-0.00874548},{&quot;x&quot;:3,&quot;y&quot;:3.14159,&quot;z&quot;:-0.00899962}], &quot;faces&quot;:[[0,1,41,40],[1,2,42,41],[2,3,43,42],[3,4,44,43],[4,5,45,44],[5,6,46,45],[6,7,47,46],[7,8,48,47],[8,9,49,48],[9,10,50,49],[10,11,51,50],[11,12,52,51],[12,13,53,52],[13,14,54,53],[14,15,55,54],[15,16,56,55],[16,17,57,56],[17,18,58,57],[18,19,59,58],[19,20,60,59],[20,21,61,60],[21,22,62,61],[22,23,63,62],[23,24,64,63],[24,25,65,64],[25,26,66,65],[26,27,67,66],[27,28,68,67],[28,29,69,68],[29,30,70,69],[30,31,71,70],[31,32,72,71],[32,33,73,72],[33,34,74,73],[34,35,75,74],[35,36,76,75],[36,37,77,76],[37,38,78,77],[38,39,79,78],[40,41,81,80],[41,42,82,81],[42,43,83,82],[43,44,84,83],[44,45,85,84],[45,46,86,85],[46,47,87,86],[47,48,88,87],[48,49,89,88],[49,50,90,89],[50,51,91,90],[51,52,92,91],[52,53,93,92],[53,54,94,93],[54,55,95,94],[55,56,96,95],[56,57,97,96],[57,58,98,97],[58,59,99,98],[59,60,100,99],[60,61,101,100],[61,62,102,101],[62,63,103,102],[63,64,104,103],[64,65,105,104],[65,66,106,105],[66,67,107,106],[67,68,108,107],[68,69,109,108],[69,70,110,109],[70,71,111,110],[71,72,112,111],[72,73,113,112],[73,74,114,113],[74,75,115,114],[75,76,116,115],[76,77,117,116],[77,78,118,117],[78,79,119,118],[80,81,121,120],[81,82,122,121],[82,83,123,122],[83,84,124,123],[84,85,125,124],[85,86,126,125],[86,87,127,126],[87,88,128,127],[88,89,129,128],[89,90,130,129],[90,91,131,130],[91,92,132,131],[92,93,133,132],[93,94,134,133],[94,95,135,134],[95,96,136,135],[96,97,137,136],[97,98,138,137],[98,99,139,138],[99,100,140,139],[100,101,141,140],[101,102,142,141],[102,103,143,142],[103,104,144,143],[104,105,145,144],[105,106,146,145],[106,107,147,146],[107,108,148,147],[108,109,149,148],[109,110,150,149],[110,111,151,150],[111,112,152,151],[112,113,153,152],[113,114,154,153],[114,115,155,154],[115,116,156,155],[116,117,157,156],[117,118,158,157],[118,119,159,158],[120,121,161,160],[121,122,162,161],[122,123,163,162],[123,124,164,163],[124,125,165,164],[125,126,166,165],[126,127,167,166],[127,128,168,167],[128,129,169,168],[129,130,170,169],[130,131,171,170],[131,132,172,171],[132,133,173,172],[133,134,174,173],[134,135,175,174],[135,136,176,175],[136,137,177,176],[137,138,178,177],[138,139,179,178],[139,140,180,179],[140,141,181,180],[141,142,182,181],[142,143,183,182],[143,144,184,183],[144,145,185,184],[145,146,186,185],[146,147,187,186],[147,148,188,187],[148,149,189,188],[149,150,190,189],[150,151,191,190],[151,152,192,191],[152,153,193,192],[153,154,194,193],[154,155,195,194],[155,156,196,195],[156,157,197,196],[157,158,198,197],[158,159,199,198],[160,161,201,200],[161,162,202,201],[162,163,203,202],[163,164,204,203],[164,165,205,204],[165,166,206,205],[166,167,207,206],[167,168,208,207],[168,169,209,208],[169,170,210,209],[170,171,211,210],[171,172,212,211],[172,173,213,212],[173,174,214,213],[174,175,215,214],[175,176,216,215],[176,177,217,216],[177,178,218,217],[178,179,219,218],[179,180,220,219],[180,181,221,220],[181,182,222,221],[182,183,223,222],[183,184,224,223],[184,185,225,224],[185,186,226,225],[186,187,227,226],[187,188,228,227],[188,189,229,228],[189,190,230,229],[190,191,231,230],[191,192,232,231],[192,193,233,232],[193,194,234,233],[194,195,235,234],[195,196,236,235],[196,197,237,236],[197,198,238,237],[198,199,239,238],[200,201,241,240],[201,202,242,241],[202,203,243,242],[203,204,244,243],[204,205,245,244],[205,206,246,245],[206,207,247,246],[207,208,248,247],[208,209,249,248],[209,210,250,249],[210,211,251,250],[211,212,252,251],[212,213,253,252],[213,214,254,253],[214,215,255,254],[215,216,256,255],[216,217,257,256],[217,218,258,257],[218,219,259,258],[219,220,260,259],[220,221,261,260],[221,222,262,261],[222,223,263,262],[223,224,264,263],[224,225,265,264],[225,226,266,265],[226,227,267,266],[227,228,268,267],[228,229,269,268],[229,230,270,269],[230,231,271,270],[231,232,272,271],[232,233,273,272],[233,234,274,273],[234,235,275,274],[235,236,276,275],[236,237,277,276],[237,238,278,277],[238,239,279,278],[240,241,281,280],[241,242,282,281],[242,243,283,282],[243,244,284,283],[244,245,285,284],[245,246,286,285],[246,247,287,286],[247,248,288,287],[248,249,289,288],[249,250,290,289],[250,251,291,290],[251,252,292,291],[252,253,293,292],[253,254,294,293],[254,255,295,294],[255,256,296,295],[256,257,297,296],[257,258,298,297],[258,259,299,298],[259,260,300,299],[260,261,301,300],[261,262,302,301],[262,263,303,302],[263,264,304,303],[264,265,305,304],[265,266,306,305],[266,267,307,306],[267,268,308,307],[268,269,309,308],[269,270,310,309],[270,271,311,310],[271,272,312,311],[272,273,313,312],[273,274,314,313],[274,275,315,314],[275,276,316,315],[276,277,317,316],[277,278,318,317],[278,279,319,318],[280,281,321,320],[281,282,322,321],[282,283,323,322],[283,284,324,323],[284,285,325,324],[285,286,326,325],[286,287,327,326],[287,288,328,327],[288,289,329,328],[289,290,330,329],[290,291,331,330],[291,292,332,331],[292,293,333,332],[293,294,334,333],[294,295,335,334],[295,296,336,335],[296,297,337,336],[297,298,338,337],[298,299,339,338],[299,300,340,339],[300,301,341,340],[301,302,342,341],[302,303,343,342],[303,304,344,343],[304,305,345,344],[305,306,346,345],[306,307,347,346],[307,308,348,347],[308,309,349,348],[309,310,350,349],[310,311,351,350],[311,312,352,351],[312,313,353,352],[313,314,354,353],[314,315,355,354],[315,316,356,355],[316,317,357,356],[317,318,358,357],[318,319,359,358],[320,321,361,360],[321,322,362,361],[322,323,363,362],[323,324,364,363],[324,325,365,364],[325,326,366,365],[326,327,367,366],[327,328,368,367],[328,329,369,368],[329,330,370,369],[330,331,371,370],[331,332,372,371],[332,333,373,372],[333,334,374,373],[334,335,375,374],[335,336,376,375],[336,337,377,376],[337,338,378,377],[338,339,379,378],[339,340,380,379],[340,341,381,380],[341,342,382,381],[342,343,383,382],[343,344,384,383],[344,345,385,384],[345,346,386,385],[346,347,387,386],[347,348,388,387],[348,349,389,388],[349,350,390,389],[350,351,391,390],[351,352,392,391],[352,353,393,392],[353,354,394,393],[354,355,395,394],[355,356,396,395],[356,357,397,396],[357,358,398,397],[358,359,399,398],[360,361,401,400],[361,362,402,401],[362,363,403,402],[363,364,404,403],[364,365,405,404],[365,366,406,405],[366,367,407,406],[367,368,408,407],[368,369,409,408],[369,370,410,409],[370,371,411,410],[371,372,412,411],[372,373,413,412],[373,374,414,413],[374,375,415,414],[375,376,416,415],[376,377,417,416],[377,378,418,417],[378,379,419,418],[379,380,420,419],[380,381,421,420],[381,382,422,421],[382,383,423,422],[383,384,424,423],[384,385,425,424],[385,386,426,425],[386,387,427,426],[387,388,428,427],[388,389,429,428],[389,390,430,429],[390,391,431,430],[391,392,432,431],[392,393,433,432],[393,394,434,433],[394,395,435,434],[395,396,436,435],[396,397,437,436],[397,398,438,437],[398,399,439,438],[400,401,441,440],[401,402,442,441],[402,403,443,442],[403,404,444,443],[404,405,445,444],[405,406,446,445],[406,407,447,446],[407,408,448,447],[408,409,449,448],[409,410,450,449],[410,411,451,450],[411,412,452,451],[412,413,453,452],[413,414,454,453],[414,415,455,454],[415,416,456,455],[416,417,457,456],[417,418,458,457],[418,419,459,458],[419,420,460,459],[420,421,461,460],[421,422,462,461],[422,423,463,462],[423,424,464,463],[424,425,465,464],[425,426,466,465],[426,427,467,466],[427,428,468,467],[428,429,469,468],[429,430,470,469],[430,431,471,470],[431,432,472,471],[432,433,473,472],[433,434,474,473],[434,435,475,474],[435,436,476,475],[436,437,477,476],[437,438,478,477],[438,439,479,478],[440,441,481,480],[441,442,482,481],[442,443,483,482],[443,444,484,483],[444,445,485,484],[445,446,486,485],[446,447,487,486],[447,448,488,487],[448,449,489,488],[449,450,490,489],[450,451,491,490],[451,452,492,491],[452,453,493,492],[453,454,494,493],[454,455,495,494],[455,456,496,495],[456,457,497,496],[457,458,498,497],[458,459,499,498],[459,460,500,499],[460,461,501,500],[461,462,502,501],[462,463,503,502],[463,464,504,503],[464,465,505,504],[465,466,506,505],[466,467,507,506],[467,468,508,507],[468,469,509,508],[469,470,510,509],[470,471,511,510],[471,472,512,511],[472,473,513,512],[473,474,514,513],[474,475,515,514],[475,476,516,515],[476,477,517,516],[477,478,518,517],[478,479,519,518],[480,481,521,520],[481,482,522,521],[482,483,523,522],[483,484,524,523],[484,485,525,524],[485,486,526,525],[486,487,527,526],[487,488,528,527],[488,489,529,528],[489,490,530,529],[490,491,531,530],[491,492,532,531],[492,493,533,532],[493,494,534,533],[494,495,535,534],[495,496,536,535],[496,497,537,536],[497,498,538,537],[498,499,539,538],[499,500,540,539],[500,501,541,540],[501,502,542,541],[502,503,543,542],[503,504,544,543],[504,505,545,544],[505,506,546,545],[506,507,547,546],[507,508,548,547],[508,509,549,548],[509,510,550,549],[510,511,551,550],[511,512,552,551],[512,513,553,552],[513,514,554,553],[514,515,555,554],[515,516,556,555],[516,517,557,556],[517,518,558,557],[518,519,559,558],[520,521,561,560],[521,522,562,561],[522,523,563,562],[523,524,564,563],[524,525,565,564],[525,526,566,565],[526,527,567,566],[527,528,568,567],[528,529,569,568],[529,530,570,569],[530,531,571,570],[531,532,572,571],[532,533,573,572],[533,534,574,573],[534,535,575,574],[535,536,576,575],[536,537,577,576],[537,538,578,577],[538,539,579,578],[539,540,580,579],[540,541,581,580],[541,542,582,581],[542,543,583,582],[543,544,584,583],[544,545,585,584],[545,546,586,585],[546,547,587,586],[547,548,588,587],[548,549,589,588],[549,550,590,589],[550,551,591,590],[551,552,592,591],[552,553,593,592],[553,554,594,593],[554,555,595,594],[555,556,596,595],[556,557,597,596],[557,558,598,597],[558,559,599,598],[560,561,601,600],[561,562,602,601],[562,563,603,602],[563,564,604,603],[564,565,605,604],[565,566,606,605],[566,567,607,606],[567,568,608,607],[568,569,609,608],[569,570,610,609],[570,571,611,610],[571,572,612,611],[572,573,613,612],[573,574,614,613],[574,575,615,614],[575,576,616,615],[576,577,617,616],[577,578,618,617],[578,579,619,618],[579,580,620,619],[580,581,621,620],[581,582,622,621],[582,583,623,622],[583,584,624,623],[584,585,625,624],[585,586,626,625],[586,587,627,626],[587,588,628,627],[588,589,629,628],[589,590,630,629],[590,591,631,630],[591,592,632,631],[592,593,633,632],[593,594,634,633],[594,595,635,634],[595,596,636,635],[596,597,637,636],[597,598,638,637],[598,599,639,638],[600,601,641,640],[601,602,642,641],[602,603,643,642],[603,604,644,643],[604,605,645,644],[605,606,646,645],[606,607,647,646],[607,608,648,647],[608,609,649,648],[609,610,650,649],[610,611,651,650],[611,612,652,651],[612,613,653,652],[613,614,654,653],[614,615,655,654],[615,616,656,655],[616,617,657,656],[617,618,658,657],[618,619,659,658],[619,620,660,659],[620,621,661,660],[621,622,662,661],[622,623,663,662],[623,624,664,663],[624,625,665,664],[625,626,666,665],[626,627,667,666],[627,628,668,667],[628,629,669,668],[629,630,670,669],[630,631,671,670],[631,632,672,671],[632,633,673,672],[633,634,674,673],[634,635,675,674],[635,636,676,675],[636,637,677,676],[637,638,678,677],[638,639,679,678],[640,641,681,680],[641,642,682,681],[642,643,683,682],[643,644,684,683],[644,645,685,684],[645,646,686,685],[646,647,687,686],[647,648,688,687],[648,649,689,688],[649,650,690,689],[650,651,691,690],[651,652,692,691],[652,653,693,692],[653,654,694,693],[654,655,695,694],[655,656,696,695],[656,657,697,696],[657,658,698,697],[658,659,699,698],[659,660,700,699],[660,661,701,700],[661,662,702,701],[662,663,703,702],[663,664,704,703],[664,665,705,704],[665,666,706,705],[666,667,707,706],[667,668,708,707],[668,669,709,708],[669,670,710,709],[670,671,711,710],[671,672,712,711],[672,673,713,712],[673,674,714,713],[674,675,715,714],[675,676,716,715],[676,677,717,716],[677,678,718,717],[678,679,719,718],[680,681,721,720],[681,682,722,721],[682,683,723,722],[683,684,724,723],[684,685,725,724],[685,686,726,725],[686,687,727,726],[687,688,728,727],[688,689,729,728],[689,690,730,729],[690,691,731,730],[691,692,732,731],[692,693,733,732],[693,694,734,733],[694,695,735,734],[695,696,736,735],[696,697,737,736],[697,698,738,737],[698,699,739,738],[699,700,740,739],[700,701,741,740],[701,702,742,741],[702,703,743,742],[703,704,744,743],[704,705,745,744],[705,706,746,745],[706,707,747,746],[707,708,748,747],[708,709,749,748],[709,710,750,749],[710,711,751,750],[711,712,752,751],[712,713,753,752],[713,714,754,753],[714,715,755,754],[715,716,756,755],[716,717,757,756],[717,718,758,757],[718,719,759,758],[720,721,761,760],[721,722,762,761],[722,723,763,762],[723,724,764,763],[724,725,765,764],[725,726,766,765],[726,727,767,766],[727,728,768,767],[728,729,769,768],[729,730,770,769],[730,731,771,770],[731,732,772,771],[732,733,773,772],[733,734,774,773],[734,735,775,774],[735,736,776,775],[736,737,777,776],[737,738,778,777],[738,739,779,778],[739,740,780,779],[740,741,781,780],[741,742,782,781],[742,743,783,782],[743,744,784,783],[744,745,785,784],[745,746,786,785],[746,747,787,786],[747,748,788,787],[748,749,789,788],[749,750,790,789],[750,751,791,790],[751,752,792,791],[752,753,793,792],[753,754,794,793],[754,755,795,794],[755,756,796,795],[756,757,797,796],[757,758,798,797],[758,759,799,798],[760,761,801,800],[761,762,802,801],[762,763,803,802],[763,764,804,803],[764,765,805,804],[765,766,806,805],[766,767,807,806],[767,768,808,807],[768,769,809,808],[769,770,810,809],[770,771,811,810],[771,772,812,811],[772,773,813,812],[773,774,814,813],[774,775,815,814],[775,776,816,815],[776,777,817,816],[777,778,818,817],[778,779,819,818],[779,780,820,819],[780,781,821,820],[781,782,822,821],[782,783,823,822],[783,784,824,823],[784,785,825,824],[785,786,826,825],[786,787,827,826],[787,788,828,827],[788,789,829,828],[789,790,830,829],[790,791,831,830],[791,792,832,831],[792,793,833,832],[793,794,834,833],[794,795,835,834],[795,796,836,835],[796,797,837,836],[797,798,838,837],[798,799,839,838],[800,801,841,840],[801,802,842,841],[802,803,843,842],[803,804,844,843],[804,805,845,844],[805,806,846,845],[806,807,847,846],[807,808,848,847],[808,809,849,848],[809,810,850,849],[810,811,851,850],[811,812,852,851],[812,813,853,852],[813,814,854,853],[814,815,855,854],[815,816,856,855],[816,817,857,856],[817,818,858,857],[818,819,859,858],[819,820,860,859],[820,821,861,860],[821,822,862,861],[822,823,863,862],[823,824,864,863],[824,825,865,864],[825,826,866,865],[826,827,867,866],[827,828,868,867],[828,829,869,868],[829,830,870,869],[830,831,871,870],[831,832,872,871],[832,833,873,872],[833,834,874,873],[834,835,875,874],[835,836,876,875],[836,837,877,876],[837,838,878,877],[838,839,879,878],[840,841,881,880],[841,842,882,881],[842,843,883,882],[843,844,884,883],[844,845,885,884],[845,846,886,885],[846,847,887,886],[847,848,888,887],[848,849,889,888],[849,850,890,889],[850,851,891,890],[851,852,892,891],[852,853,893,892],[853,854,894,893],[854,855,895,894],[855,856,896,895],[856,857,897,896],[857,858,898,897],[858,859,899,898],[859,860,900,899],[860,861,901,900],[861,862,902,901],[862,863,903,902],[863,864,904,903],[864,865,905,904],[865,866,906,905],[866,867,907,906],[867,868,908,907],[868,869,909,908],[869,870,910,909],[870,871,911,910],[871,872,912,911],[872,873,913,912],[873,874,914,913],[874,875,915,914],[875,876,916,915],[876,877,917,916],[877,878,918,917],[878,879,919,918],[880,881,921,920],[881,882,922,921],[882,883,923,922],[883,884,924,923],[884,885,925,924],[885,886,926,925],[886,887,927,926],[887,888,928,927],[888,889,929,928],[889,890,930,929],[890,891,931,930],[891,892,932,931],[892,893,933,932],[893,894,934,933],[894,895,935,934],[895,896,936,935],[896,897,937,936],[897,898,938,937],[898,899,939,938],[899,900,940,939],[900,901,941,940],[901,902,942,941],[902,903,943,942],[903,904,944,943],[904,905,945,944],[905,906,946,945],[906,907,947,946],[907,908,948,947],[908,909,949,948],[909,910,950,949],[910,911,951,950],[911,912,952,951],[912,913,953,952],[913,914,954,953],[914,915,955,954],[915,916,956,955],[916,917,957,956],[917,918,958,957],[918,919,959,958],[920,921,961,960],[921,922,962,961],[922,923,963,962],[923,924,964,963],[924,925,965,964],[925,926,966,965],[926,927,967,966],[927,928,968,967],[928,929,969,968],[929,930,970,969],[930,931,971,970],[931,932,972,971],[932,933,973,972],[933,934,974,973],[934,935,975,974],[935,936,976,975],[936,937,977,976],[937,938,978,977],[938,939,979,978],[939,940,980,979],[940,941,981,980],[941,942,982,981],[942,943,983,982],[943,944,984,983],[944,945,985,984],[945,946,986,985],[946,947,987,986],[947,948,988,987],[948,949,989,988],[949,950,990,989],[950,951,991,990],[951,952,992,991],[952,953,993,992],[953,954,994,993],[954,955,995,994],[955,956,996,995],[956,957,997,996],[957,958,998,997],[958,959,999,998],[960,961,1001,1000],[961,962,1002,1001],[962,963,1003,1002],[963,964,1004,1003],[964,965,1005,1004],[965,966,1006,1005],[966,967,1007,1006],[967,968,1008,1007],[968,969,1009,1008],[969,970,1010,1009],[970,971,1011,1010],[971,972,1012,1011],[972,973,1013,1012],[973,974,1014,1013],[974,975,1015,1014],[975,976,1016,1015],[976,977,1017,1016],[977,978,1018,1017],[978,979,1019,1018],[979,980,1020,1019],[980,981,1021,1020],[981,982,1022,1021],[982,983,1023,1022],[983,984,1024,1023],[984,985,1025,1024],[985,986,1026,1025],[986,987,1027,1026],[987,988,1028,1027],[988,989,1029,1028],[989,990,1030,1029],[990,991,1031,1030],[991,992,1032,1031],[992,993,1033,1032],[993,994,1034,1033],[994,995,1035,1034],[995,996,1036,1035],[996,997,1037,1036],[997,998,1038,1037],[998,999,1039,1038],[1000,1001,1041,1040],[1001,1002,1042,1041],[1002,1003,1043,1042],[1003,1004,1044,1043],[1004,1005,1045,1044],[1005,1006,1046,1045],[1006,1007,1047,1046],[1007,1008,1048,1047],[1008,1009,1049,1048],[1009,1010,1050,1049],[1010,1011,1051,1050],[1011,1012,1052,1051],[1012,1013,1053,1052],[1013,1014,1054,1053],[1014,1015,1055,1054],[1015,1016,1056,1055],[1016,1017,1057,1056],[1017,1018,1058,1057],[1018,1019,1059,1058],[1019,1020,1060,1059],[1020,1021,1061,1060],[1021,1022,1062,1061],[1022,1023,1063,1062],[1023,1024,1064,1063],[1024,1025,1065,1064],[1025,1026,1066,1065],[1026,1027,1067,1066],[1027,1028,1068,1067],[1028,1029,1069,1068],[1029,1030,1070,1069],[1030,1031,1071,1070],[1031,1032,1072,1071],[1032,1033,1073,1072],[1033,1034,1074,1073],[1034,1035,1075,1074],[1035,1036,1076,1075],[1036,1037,1077,1076],[1037,1038,1078,1077],[1038,1039,1079,1078],[1040,1041,1081,1080],[1041,1042,1082,1081],[1042,1043,1083,1082],[1043,1044,1084,1083],[1044,1045,1085,1084],[1045,1046,1086,1085],[1046,1047,1087,1086],[1047,1048,1088,1087],[1048,1049,1089,1088],[1049,1050,1090,1089],[1050,1051,1091,1090],[1051,1052,1092,1091],[1052,1053,1093,1092],[1053,1054,1094,1093],[1054,1055,1095,1094],[1055,1056,1096,1095],[1056,1057,1097,1096],[1057,1058,1098,1097],[1058,1059,1099,1098],[1059,1060,1100,1099],[1060,1061,1101,1100],[1061,1062,1102,1101],[1062,1063,1103,1102],[1063,1064,1104,1103],[1064,1065,1105,1104],[1065,1066,1106,1105],[1066,1067,1107,1106],[1067,1068,1108,1107],[1068,1069,1109,1108],[1069,1070,1110,1109],[1070,1071,1111,1110],[1071,1072,1112,1111],[1072,1073,1113,1112],[1073,1074,1114,1113],[1074,1075,1115,1114],[1075,1076,1116,1115],[1076,1077,1117,1116],[1077,1078,1118,1117],[1078,1079,1119,1118],[1080,1081,1121,1120],[1081,1082,1122,1121],[1082,1083,1123,1122],[1083,1084,1124,1123],[1084,1085,1125,1124],[1085,1086,1126,1125],[1086,1087,1127,1126],[1087,1088,1128,1127],[1088,1089,1129,1128],[1089,1090,1130,1129],[1090,1091,1131,1130],[1091,1092,1132,1131],[1092,1093,1133,1132],[1093,1094,1134,1133],[1094,1095,1135,1134],[1095,1096,1136,1135],[1096,1097,1137,1136],[1097,1098,1138,1137],[1098,1099,1139,1138],[1099,1100,1140,1139],[1100,1101,1141,1140],[1101,1102,1142,1141],[1102,1103,1143,1142],[1103,1104,1144,1143],[1104,1105,1145,1144],[1105,1106,1146,1145],[1106,1107,1147,1146],[1107,1108,1148,1147],[1108,1109,1149,1148],[1109,1110,1150,1149],[1110,1111,1151,1150],[1111,1112,1152,1151],[1112,1113,1153,1152],[1113,1114,1154,1153],[1114,1115,1155,1154],[1115,1116,1156,1155],[1116,1117,1157,1156],[1117,1118,1158,1157],[1118,1119,1159,1158],[1120,1121,1161,1160],[1121,1122,1162,1161],[1122,1123,1163,1162],[1123,1124,1164,1163],[1124,1125,1165,1164],[1125,1126,1166,1165],[1126,1127,1167,1166],[1127,1128,1168,1167],[1128,1129,1169,1168],[1129,1130,1170,1169],[1130,1131,1171,1170],[1131,1132,1172,1171],[1132,1133,1173,1172],[1133,1134,1174,1173],[1134,1135,1175,1174],[1135,1136,1176,1175],[1136,1137,1177,1176],[1137,1138,1178,1177],[1138,1139,1179,1178],[1139,1140,1180,1179],[1140,1141,1181,1180],[1141,1142,1182,1181],[1142,1143,1183,1182],[1143,1144,1184,1183],[1144,1145,1185,1184],[1145,1146,1186,1185],[1146,1147,1187,1186],[1147,1148,1188,1187],[1148,1149,1189,1188],[1149,1150,1190,1189],[1150,1151,1191,1190],[1151,1152,1192,1191],[1152,1153,1193,1192],[1153,1154,1194,1193],[1154,1155,1195,1194],[1155,1156,1196,1195],[1156,1157,1197,1196],[1157,1158,1198,1197],[1158,1159,1199,1198],[1160,1161,1201,1200],[1161,1162,1202,1201],[1162,1163,1203,1202],[1163,1164,1204,1203],[1164,1165,1205,1204],[1165,1166,1206,1205],[1166,1167,1207,1206],[1167,1168,1208,1207],[1168,1169,1209,1208],[1169,1170,1210,1209],[1170,1171,1211,1210],[1171,1172,1212,1211],[1172,1173,1213,1212],[1173,1174,1214,1213],[1174,1175,1215,1214],[1175,1176,1216,1215],[1176,1177,1217,1216],[1177,1178,1218,1217],[1178,1179,1219,1218],[1179,1180,1220,1219],[1180,1181,1221,1220],[1181,1182,1222,1221],[1182,1183,1223,1222],[1183,1184,1224,1223],[1184,1185,1225,1224],[1185,1186,1226,1225],[1186,1187,1227,1226],[1187,1188,1228,1227],[1188,1189,1229,1228],[1189,1190,1230,1229],[1190,1191,1231,1230],[1191,1192,1232,1231],[1192,1193,1233,1232],[1193,1194,1234,1233],[1194,1195,1235,1234],[1195,1196,1236,1235],[1196,1197,1237,1236],[1197,1198,1238,1237],[1198,1199,1239,1238],[1200,1201,1241,1240],[1201,1202,1242,1241],[1202,1203,1243,1242],[1203,1204,1244,1243],[1204,1205,1245,1244],[1205,1206,1246,1245],[1206,1207,1247,1246],[1207,1208,1248,1247],[1208,1209,1249,1248],[1209,1210,1250,1249],[1210,1211,1251,1250],[1211,1212,1252,1251],[1212,1213,1253,1252],[1213,1214,1254,1253],[1214,1215,1255,1254],[1215,1216,1256,1255],[1216,1217,1257,1256],[1217,1218,1258,1257],[1218,1219,1259,1258],[1219,1220,1260,1259],[1220,1221,1261,1260],[1221,1222,1262,1261],[1222,1223,1263,1262],[1223,1224,1264,1263],[1224,1225,1265,1264],[1225,1226,1266,1265],[1226,1227,1267,1266],[1227,1228,1268,1267],[1228,1229,1269,1268],[1229,1230,1270,1269],[1230,1231,1271,1270],[1231,1232,1272,1271],[1232,1233,1273,1272],[1233,1234,1274,1273],[1234,1235,1275,1274],[1235,1236,1276,1275],[1236,1237,1277,1276],[1237,1238,1278,1277],[1238,1239,1279,1278],[1240,1241,1281,1280],[1241,1242,1282,1281],[1242,1243,1283,1282],[1243,1244,1284,1283],[1244,1245,1285,1284],[1245,1246,1286,1285],[1246,1247,1287,1286],[1247,1248,1288,1287],[1248,1249,1289,1288],[1249,1250,1290,1289],[1250,1251,1291,1290],[1251,1252,1292,1291],[1252,1253,1293,1292],[1253,1254,1294,1293],[1254,1255,1295,1294],[1255,1256,1296,1295],[1256,1257,1297,1296],[1257,1258,1298,1297],[1258,1259,1299,1298],[1259,1260,1300,1299],[1260,1261,1301,1300],[1261,1262,1302,1301],[1262,1263,1303,1302],[1263,1264,1304,1303],[1264,1265,1305,1304],[1265,1266,1306,1305],[1266,1267,1307,1306],[1267,1268,1308,1307],[1268,1269,1309,1308],[1269,1270,1310,1309],[1270,1271,1311,1310],[1271,1272,1312,1311],[1272,1273,1313,1312],[1273,1274,1314,1313],[1274,1275,1315,1314],[1275,1276,1316,1315],[1276,1277,1317,1316],[1277,1278,1318,1317],[1278,1279,1319,1318],[1280,1281,1321,1320],[1281,1282,1322,1321],[1282,1283,1323,1322],[1283,1284,1324,1323],[1284,1285,1325,1324],[1285,1286,1326,1325],[1286,1287,1327,1326],[1287,1288,1328,1327],[1288,1289,1329,1328],[1289,1290,1330,1329],[1290,1291,1331,1330],[1291,1292,1332,1331],[1292,1293,1333,1332],[1293,1294,1334,1333],[1294,1295,1335,1334],[1295,1296,1336,1335],[1296,1297,1337,1336],[1297,1298,1338,1337],[1298,1299,1339,1338],[1299,1300,1340,1339],[1300,1301,1341,1340],[1301,1302,1342,1341],[1302,1303,1343,1342],[1303,1304,1344,1343],[1304,1305,1345,1344],[1305,1306,1346,1345],[1306,1307,1347,1346],[1307,1308,1348,1347],[1308,1309,1349,1348],[1309,1310,1350,1349],[1310,1311,1351,1350],[1311,1312,1352,1351],[1312,1313,1353,1352],[1313,1314,1354,1353],[1314,1315,1355,1354],[1315,1316,1356,1355],[1316,1317,1357,1356],[1317,1318,1358,1357],[1318,1319,1359,1358],[1320,1321,1361,1360],[1321,1322,1362,1361],[1322,1323,1363,1362],[1323,1324,1364,1363],[1324,1325,1365,1364],[1325,1326,1366,1365],[1326,1327,1367,1366],[1327,1328,1368,1367],[1328,1329,1369,1368],[1329,1330,1370,1369],[1330,1331,1371,1370],[1331,1332,1372,1371],[1332,1333,1373,1372],[1333,1334,1374,1373],[1334,1335,1375,1374],[1335,1336,1376,1375],[1336,1337,1377,1376],[1337,1338,1378,1377],[1338,1339,1379,1378],[1339,1340,1380,1379],[1340,1341,1381,1380],[1341,1342,1382,1381],[1342,1343,1383,1382],[1343,1344,1384,1383],[1344,1345,1385,1384],[1345,1346,1386,1385],[1346,1347,1387,1386],[1347,1348,1388,1387],[1348,1349,1389,1388],[1349,1350,1390,1389],[1350,1351,1391,1390],[1351,1352,1392,1391],[1352,1353,1393,1392],[1353,1354,1394,1393],[1354,1355,1395,1394],[1355,1356,1396,1395],[1356,1357,1397,1396],[1357,1358,1398,1397],[1358,1359,1399,1398],[1360,1361,1401,1400],[1361,1362,1402,1401],[1362,1363,1403,1402],[1363,1364,1404,1403],[1364,1365,1405,1404],[1365,1366,1406,1405],[1366,1367,1407,1406],[1367,1368,1408,1407],[1368,1369,1409,1408],[1369,1370,1410,1409],[1370,1371,1411,1410],[1371,1372,1412,1411],[1372,1373,1413,1412],[1373,1374,1414,1413],[1374,1375,1415,1414],[1375,1376,1416,1415],[1376,1377,1417,1416],[1377,1378,1418,1417],[1378,1379,1419,1418],[1379,1380,1420,1419],[1380,1381,1421,1420],[1381,1382,1422,1421],[1382,1383,1423,1422],[1383,1384,1424,1423],[1384,1385,1425,1424],[1385,1386,1426,1425],[1386,1387,1427,1426],[1387,1388,1428,1427],[1388,1389,1429,1428],[1389,1390,1430,1429],[1390,1391,1431,1430],[1391,1392,1432,1431],[1392,1393,1433,1432],[1393,1394,1434,1433],[1394,1395,1435,1434],[1395,1396,1436,1435],[1396,1397,1437,1436],[1397,1398,1438,1437],[1398,1399,1439,1438],[1400,1401,1441,1440],[1401,1402,1442,1441],[1402,1403,1443,1442],[1403,1404,1444,1443],[1404,1405,1445,1444],[1405,1406,1446,1445],[1406,1407,1447,1446],[1407,1408,1448,1447],[1408,1409,1449,1448],[1409,1410,1450,1449],[1410,1411,1451,1450],[1411,1412,1452,1451],[1412,1413,1453,1452],[1413,1414,1454,1453],[1414,1415,1455,1454],[1415,1416,1456,1455],[1416,1417,1457,1456],[1417,1418,1458,1457],[1418,1419,1459,1458],[1419,1420,1460,1459],[1420,1421,1461,1460],[1421,1422,1462,1461],[1422,1423,1463,1462],[1423,1424,1464,1463],[1424,1425,1465,1464],[1425,1426,1466,1465],[1426,1427,1467,1466],[1427,1428,1468,1467],[1428,1429,1469,1468],[1429,1430,1470,1469],[1430,1431,1471,1470],[1431,1432,1472,1471],[1432,1433,1473,1472],[1433,1434,1474,1473],[1434,1435,1475,1474],[1435,1436,1476,1475],[1436,1437,1477,1476],[1437,1438,1478,1477],[1438,1439,1479,1478],[1440,1441,1481,1480],[1441,1442,1482,1481],[1442,1443,1483,1482],[1443,1444,1484,1483],[1444,1445,1485,1484],[1445,1446,1486,1485],[1446,1447,1487,1486],[1447,1448,1488,1487],[1448,1449,1489,1488],[1449,1450,1490,1489],[1450,1451,1491,1490],[1451,1452,1492,1491],[1452,1453,1493,1492],[1453,1454,1494,1493],[1454,1455,1495,1494],[1455,1456,1496,1495],[1456,1457,1497,1496],[1457,1458,1498,1497],[1458,1459,1499,1498],[1459,1460,1500,1499],[1460,1461,1501,1500],[1461,1462,1502,1501],[1462,1463,1503,1502],[1463,1464,1504,1503],[1464,1465,1505,1504],[1465,1466,1506,1505],[1466,1467,1507,1506],[1467,1468,1508,1507],[1468,1469,1509,1508],[1469,1470,1510,1509],[1470,1471,1511,1510],[1471,1472,1512,1511],[1472,1473,1513,1512],[1473,1474,1514,1513],[1474,1475,1515,1514],[1475,1476,1516,1515],[1476,1477,1517,1516],[1477,1478,1518,1517],[1478,1479,1519,1518],[1480,1481,1521,1520],[1481,1482,1522,1521],[1482,1483,1523,1522],[1483,1484,1524,1523],[1484,1485,1525,1524],[1485,1486,1526,1525],[1486,1487,1527,1526],[1487,1488,1528,1527],[1488,1489,1529,1528],[1489,1490,1530,1529],[1490,1491,1531,1530],[1491,1492,1532,1531],[1492,1493,1533,1532],[1493,1494,1534,1533],[1494,1495,1535,1534],[1495,1496,1536,1535],[1496,1497,1537,1536],[1497,1498,1538,1537],[1498,1499,1539,1538],[1499,1500,1540,1539],[1500,1501,1541,1540],[1501,1502,1542,1541],[1502,1503,1543,1542],[1503,1504,1544,1543],[1504,1505,1545,1544],[1505,1506,1546,1545],[1506,1507,1547,1546],[1507,1508,1548,1547],[1508,1509,1549,1548],[1509,1510,1550,1549],[1510,1511,1551,1550],[1511,1512,1552,1551],[1512,1513,1553,1552],[1513,1514,1554,1553],[1514,1515,1555,1554],[1515,1516,1556,1555],[1516,1517,1557,1556],[1517,1518,1558,1557],[1518,1519,1559,1558],[1520,1521,1561,1560],[1521,1522,1562,1561],[1522,1523,1563,1562],[1523,1524,1564,1563],[1524,1525,1565,1564],[1525,1526,1566,1565],[1526,1527,1567,1566],[1527,1528,1568,1567],[1528,1529,1569,1568],[1529,1530,1570,1569],[1530,1531,1571,1570],[1531,1532,1572,1571],[1532,1533,1573,1572],[1533,1534,1574,1573],[1534,1535,1575,1574],[1535,1536,1576,1575],[1536,1537,1577,1576],[1537,1538,1578,1577],[1538,1539,1579,1578],[1539,1540,1580,1579],[1540,1541,1581,1580],[1541,1542,1582,1581],[1542,1543,1583,1582],[1543,1544,1584,1583],[1544,1545,1585,1584],[1545,1546,1586,1585],[1546,1547,1587,1586],[1547,1548,1588,1587],[1548,1549,1589,1588],[1549,1550,1590,1589],[1550,1551,1591,1590],[1551,1552,1592,1591],[1552,1553,1593,1592],[1553,1554,1594,1593],[1554,1555,1595,1594],[1555,1556,1596,1595],[1556,1557,1597,1596],[1557,1558,1598,1597],[1558,1559,1599,1598]], &quot;color&quot;:&quot;#6666ff&quot;, &quot;opacity&quot;:1}];\n",
       "    for ( var i=0 ; i < surfaces.length ; i++ ) addSurface( surfaces[i] );\n",
       "\n",
       "    function addSurface( json ) {\n",
       "        var geometry = new THREE.Geometry();\n",
       "        for ( var i=0 ; i < json.vertices.length ; i++ ) {\n",
       "            var v = json.vertices[i];\n",
       "            geometry.vertices.push( new THREE.Vector3( a[0]*v.x, a[1]*v.y, a[2]*v.z ) );\n",
       "        }\n",
       "        for ( var i=0 ; i < json.faces.length ; i++ ) {\n",
       "            var f = json.faces[i];\n",
       "            for ( var j=0 ; j < f.length - 2 ; j++ ) {\n",
       "                geometry.faces.push( new THREE.Face3( f[0], f[j+1], f[j+2] ) );\n",
       "            }\n",
       "        }\n",
       "        geometry.computeVertexNormals();\n",
       "\n",
       "        var transparent = json.opacity < 1 ? true : false;\n",
       "        var material = new THREE.MeshPhongMaterial( {\n",
       "                                     color: json.color, side: THREE.DoubleSide,\n",
       "                                     transparent: transparent, opacity: json.opacity,\n",
       "                                     shininess: 20 } );\n",
       "\n",
       "        var c = geometry.center().multiplyScalar( -1 );\n",
       "        var mesh = new THREE.Mesh( geometry, material );\n",
       "        mesh.position.set( c.x, c.y, c.z );\n",
       "        scene.add( mesh );\n",
       "    }\n",
       "\n",
       "    var scratch = new THREE.Vector3();\n",
       "\n",
       "    function render() {\n",
       "\n",
       "        if ( animate ) requestAnimationFrame( render );\n",
       "        renderer.render( scene, camera );\n",
       "\n",
       "        for ( var i=0 ; i < scene.children.length ; i++ ) {\n",
       "            if ( scene.children[i].type === 'Sprite' ) {\n",
       "                var sprite = scene.children[i];\n",
       "                var adjust = scratch.addVectors( sprite.position, scene.position )\n",
       "                               .sub( camera.position ).length() / 5;\n",
       "                sprite.scale.set( adjust, .25*adjust ); // ratio of canvas width to height\n",
       "            }\n",
       "        }\n",
       "    }\n",
       "    \n",
       "    render();\n",
       "    controls.update();\n",
       "    if ( !animate ) render();\n",
       "\n",
       "</script>\n",
       "\n",
       "</body>\n",
       "</html>\" \n",
       "        width=\"100%\"\n",
       "        height=\"400\"\n",
       "        style=\"border: 0;\">\n",
       "</iframe>\n"
      ],
      "text/plain": [
       "Graphics3d Object"
      ]
     },
     "execution_count": 41,
     "metadata": {},
     "output_type": "execute_result"
    }
   ],
   "source": [
    "K1 = Kr.expr().subs(m=1, a=0.9)\n",
    "plot3d(K1, (r,1,3), (th, 0, pi), viewer=viewer3D, online=True,\n",
    "       axes_labels=['r', 'theta', 'Kr'])"
   ]
  },
  {
   "cell_type": "code",
   "execution_count": null,
   "metadata": {
    "collapsed": true,
    "deletable": true,
    "editable": true
   },
   "outputs": [],
   "source": []
  }
 ],
 "metadata": {
  "kernelspec": {
   "display_name": "SageMath 8.1",
   "language": "",
   "name": "sagemath"
  },
  "language": "python",
  "language_info": {
   "codemirror_mode": {
    "name": "ipython",
    "version": 2
   },
   "file_extension": ".py",
   "mimetype": "text/x-python",
   "name": "python",
   "nbconvert_exporter": "python",
   "pygments_lexer": "ipython2",
   "version": "2.7.14"
  }
 },
 "nbformat": 4,
 "nbformat_minor": 0
}
