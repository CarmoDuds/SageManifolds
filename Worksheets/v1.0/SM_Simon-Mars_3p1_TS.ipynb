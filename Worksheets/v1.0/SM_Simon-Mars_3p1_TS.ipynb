{
 "cells": [
  {
   "cell_type": "markdown",
   "metadata": {},
   "source": [
    "# 3+1 Simon-Mars tensor in the $\\delta=2$ Tomimatsu-Sato spacetime\n",
    "\n",
    "This worksheet demonstrates a few capabilities of [SageManifolds](http://sagemanifolds.obspm.fr/) (version 1.0, as included in SageMath 7.5) in computations regarding the 3+1 decomposition of the Simon-Mars tensor in the $\\delta=2$ Tomimatsu-Sato spacetime. The results obtained here are used in the article [arXiv:1412.6542](http://arxiv.org/abs/1412.6542).\n",
    "\n",
    "Click [here](https://raw.githubusercontent.com/sagemanifolds/SageManifolds/master/Worksheets/v1.0/SM_Simon-Mars_3p1_TS2.ipynb) to download the worksheet file (ipynb format). To run it, you must start SageMath with the Jupyter notebook, via the command `sage -n jupyter`"
   ]
  },
  {
   "cell_type": "markdown",
   "metadata": {},
   "source": [
    "*NB:* a version of SageMath at least equal to 7.5 is required to run this worksheet:"
   ]
  },
  {
   "cell_type": "code",
   "execution_count": null,
   "metadata": {
    "collapsed": false
   },
   "outputs": [],
   "source": [
    "version()"
   ]
  },
  {
   "cell_type": "markdown",
   "metadata": {},
   "source": [
    "First we set up the notebook to display mathematical objects using LaTeX rendering:"
   ]
  },
  {
   "cell_type": "code",
   "execution_count": null,
   "metadata": {
    "collapsed": true
   },
   "outputs": [],
   "source": [
    "%display latex"
   ]
  },
  {
   "cell_type": "markdown",
   "metadata": {},
   "source": [
    "Since some computations are quite long, we ask for running them in parallel on 8 cores:"
   ]
  },
  {
   "cell_type": "code",
   "execution_count": null,
   "metadata": {
    "collapsed": true
   },
   "outputs": [],
   "source": [
    "Parallelism().set(nproc=8)"
   ]
  },
  {
   "cell_type": "markdown",
   "metadata": {},
   "source": [
    "<h2>Tomimatsu-Sato spacetime</h2>\n",
    "<p>The Tomimatsu-Sato metric is an exact stationary and axisymmetric  solution of the vacuum Einstein equation, which is asymptotically flat and has a non-zero angular momentum. It has been found in 1972 by A. Tomimatsu and H. Sato [<a href=\"http://dx.doi.org/10.1103/PhysRevLett.29.1344\">Phys. Rev. Lett. <strong>29</strong>, 1344 (1972)</a>], as a solution of the Ernst equation. It is actually the member $\\delta=2$ of a larger family of solutions parametrized by a positive integer $\\delta$ and exhibited by Tomimatsu and Sato in 1973 <a href=\"http://dx.doi.org/10.1143/PTP.50.95\">[Prog. Theor. Phys. <strong>50</strong>, 95 (1973)</a>], the member $\\delta=1$ being nothing but the Kerr metric. We refer to [<a href=\"http://dx.doi.org/10.1143/PTP.127.1057\">Manko, Prog. Theor. Phys.<strong> 127</strong>, 1057 (2012)</a>] for a discussion of the properties of this solution.</p>\n",
    "<h2>Spacelike hypersurface</h2>\n",
    "<p>We consider some hypersurface $\\Sigma$ of a spacelike foliation $(\\Sigma_t)_{t\\in\\mathbb{R}}$ of $\\delta=2$ Tomimatsu-Sato spacetime; we declare $\\Sigma_t$ as a 3-dimensional manifold:</p>"
   ]
  },
  {
   "cell_type": "code",
   "execution_count": null,
   "metadata": {
    "collapsed": false
   },
   "outputs": [],
   "source": [
    "Sig = Manifold(3, 'Sigma', r'\\Sigma', start_index=1)"
   ]
  },
  {
   "cell_type": "markdown",
   "metadata": {},
   "source": [
    "<p>On $\\Sigma$, we consider the prolate spheroidal <span id=\"cell_outer_1\">coordinates</span> $(x,y,\\phi)$, with $x\\in(1,+\\infty)$, $y\\in(-1,1)$ and $\\phi\\in(0,2\\pi)$ :</p>"
   ]
  },
  {
   "cell_type": "code",
   "execution_count": null,
   "metadata": {
    "collapsed": false
   },
   "outputs": [],
   "source": [
    "X.<r,y,ph> = Sig.chart(r'x:(1,+oo) y:(-1,1) ph:(0,2*pi):\\phi')\n",
    "print X ; X"
   ]
  },
  {
   "cell_type": "markdown",
   "metadata": {},
   "source": [
    "<h3>Riemannian metric on $\\Sigma$</h3>\n",
    "<p>The Tomimatsu-Sato metric depens on three parameters: the integer $\\delta$, the real number $p\\in[0,1]$, and the total mass $m$:</p>"
   ]
  },
  {
   "cell_type": "code",
   "execution_count": null,
   "metadata": {
    "collapsed": false
   },
   "outputs": [],
   "source": [
    "var('d, p, m')\n",
    "assume(m>0)\n",
    "assumptions()"
   ]
  },
  {
   "cell_type": "markdown",
   "metadata": {},
   "source": [
    "<p>We set $\\delta=2$ and choose a specific value for $p$, namely $p=1/5$:</p>"
   ]
  },
  {
   "cell_type": "code",
   "execution_count": null,
   "metadata": {
    "collapsed": false
   },
   "outputs": [],
   "source": [
    "d = 2\n",
    "p = 1/5"
   ]
  },
  {
   "cell_type": "markdown",
   "metadata": {},
   "source": [
    "<p>Furthermore, without any loss of generality, we may set $m=1$ (this simply fixes some length scale):</p>"
   ]
  },
  {
   "cell_type": "code",
   "execution_count": null,
   "metadata": {
    "collapsed": false
   },
   "outputs": [],
   "source": [
    "m=1"
   ]
  },
  {
   "cell_type": "markdown",
   "metadata": {},
   "source": [
    "<p>The parameter $q$ is related to $p$ by $p^2+q^2=1$:</p>"
   ]
  },
  {
   "cell_type": "code",
   "execution_count": null,
   "metadata": {
    "collapsed": false
   },
   "outputs": [],
   "source": [
    "q = sqrt(1-p^2)"
   ]
  },
  {
   "cell_type": "markdown",
   "metadata": {},
   "source": [
    "<p>Some shortcut notations:</p>"
   ]
  },
  {
   "cell_type": "code",
   "execution_count": null,
   "metadata": {
    "collapsed": false
   },
   "outputs": [],
   "source": [
    "AA2 = (p^2*(x^2-1)^2+q^2*(1-y^2)^2)^2-4*p^2*q^2*(x^2-1)*(1-y^2)*(x^2-y^2)^2\n",
    "BB2 = (p^2*x^4+2*p*x^3-2*p*x+q^2*y^4-1)^2+4*q^2*y^2*(p*x^3-p*x*y^2-y^2+1)^2\n",
    "CC2 = p^3*x*(1-x^2)*(2*(x^4-1)+(x^2+3)*(1-y^2))+p^2*(x^2-1)*((x^2-1)*(1-y^2)-4*x^2*(x^2-y^2))+q^2*(1-y^2)^3*(p*x+1)"
   ]
  },
  {
   "cell_type": "markdown",
   "metadata": {},
   "source": [
    "<p>The Riemannian metric $\\gamma$ induced by the spacetime metric $g$ on $\\Sigma$:</p>"
   ]
  },
  {
   "cell_type": "code",
   "execution_count": null,
   "metadata": {
    "collapsed": false
   },
   "outputs": [],
   "source": [
    "gam = Sig.riemannian_metric('gam', latex_name=r'\\gamma') \n",
    "gam[1,1] = m^2*BB2/(p^2*d^2*(x^2-1)*(x^2-y^2)^3)\n",
    "gam[2,2] = m^2*BB2/(p^2*d^2*(y^2-1)*(-x^2+y^2)^3)\n",
    "gam[3,3] = - m^2*(y^2-1)*(p^2*BB2^2*(x^2-1)+4*q^2*d^2*CC2^2*(y^2-1))/(AA2*BB2*d^2)\n",
    "gam.display()"
   ]
  },
  {
   "cell_type": "markdown",
   "metadata": {},
   "source": [
    "A view of the non-vanishing components of $\\gamma$ w.r.t. coordinates $(x,y,\\phi)$:"
   ]
  },
  {
   "cell_type": "code",
   "execution_count": null,
   "metadata": {
    "collapsed": false
   },
   "outputs": [],
   "source": [
    "gam.display_comp()"
   ]
  },
  {
   "cell_type": "code",
   "execution_count": null,
   "metadata": {
    "collapsed": false
   },
   "outputs": [],
   "source": [
    "gam.determinant().expr()"
   ]
  },
  {
   "cell_type": "code",
   "execution_count": null,
   "metadata": {
    "collapsed": false
   },
   "outputs": [],
   "source": [
    "from sage.manifolds.utilities import simplify_chain_real\n",
    "mdetg = - gam.determinant().expr()\n",
    "smdetg = sqrt(mdetg)\n",
    "smdetg"
   ]
  },
  {
   "cell_type": "code",
   "execution_count": null,
   "metadata": {
    "collapsed": false
   },
   "outputs": [],
   "source": [
    "expr = smdetg\n",
    "expr = expr.simplify_factorial()\n",
    "expr = expr.simplify_trig()\n",
    "expr = expr.simplify_rational()\n",
    "expr\n",
    "#simplify_chain_real(smdetg)"
   ]
  },
  {
   "cell_type": "code",
   "execution_count": null,
   "metadata": {
    "collapsed": true
   },
   "outputs": [],
   "source": [
    "from sage.manifolds.utilities import simplify_sqrt_real\n",
    "expr = simplify_sqrt_real(expr)"
   ]
  },
  {
   "cell_type": "code",
   "execution_count": null,
   "metadata": {
    "collapsed": false
   },
   "outputs": [],
   "source": [
    "print(expr)"
   ]
  },
  {
   "cell_type": "code",
   "execution_count": null,
   "metadata": {
    "collapsed": false
   },
   "outputs": [],
   "source": [
    "gam.sqrt_abs_det().expr()"
   ]
  },
  {
   "cell_type": "code",
   "execution_count": null,
   "metadata": {
    "collapsed": false
   },
   "outputs": [],
   "source": [
    "print(gam.volume_form())"
   ]
  },
  {
   "cell_type": "markdown",
   "metadata": {},
   "source": [
    "<h3>Lapse function and shift vector</h3>"
   ]
  },
  {
   "cell_type": "code",
   "execution_count": null,
   "metadata": {
    "collapsed": false
   },
   "outputs": [],
   "source": [
    "N2 = AA2/BB2 - 2*m*q*CC2*(y^2-1)/BB2*(2*m*q*CC2*(y^2-1)/(BB2*(m^2*(y^2-1)*(p^2*BB2^2*(x^2-1)+4*q^2*d^2*CC2^2*(y^2-1))/(AA2*BB2*d^2))))\n",
    "N2.simplify_full()"
   ]
  },
  {
   "cell_type": "code",
   "execution_count": null,
   "metadata": {
    "collapsed": false
   },
   "outputs": [],
   "source": [
    "N = Sig.scalar_field(sqrt(N2.simplify_full()), name='N')\n",
    "print N\n",
    "N.display()"
   ]
  },
  {
   "cell_type": "markdown",
   "metadata": {},
   "source": [
    "The coordinate expression of the scalar field $N$:"
   ]
  },
  {
   "cell_type": "code",
   "execution_count": null,
   "metadata": {
    "collapsed": false
   },
   "outputs": [],
   "source": [
    "N.expr()"
   ]
  },
  {
   "cell_type": "code",
   "execution_count": null,
   "metadata": {
    "collapsed": false
   },
   "outputs": [],
   "source": [
    "b3 = 2*m*q*CC2*(y^2-1)/(BB2*(m^2*(y^2-1)*(p^2*BB2^2*(x^2-1)+4*q^2*d^2*CC2^2*(y^2-1))/(AA2*BB2*d^2)))\n",
    "b = Sig.vector_field('beta', latex_name=r'\\beta') \n",
    "b[3] = b3.simplify_full()\n",
    "# unset components are zero \n",
    "b.display_comp(only_nonzero=False)"
   ]
  },
  {
   "cell_type": "markdown",
   "metadata": {},
   "source": [
    "<h3>Extrinsic curvature of $\\Sigma$</h3>\n",
    "<p>We use the formula $$K_{ij} = \\frac{1}{2N} \\mathcal{L}_{\\beta} \\gamma_{ij}, $$ which is valid for any stationary spacetime:</p>"
   ]
  },
  {
   "cell_type": "code",
   "execution_count": null,
   "metadata": {
    "collapsed": false
   },
   "outputs": [],
   "source": [
    "K = gam.lie_derivative(b) / (2*N)\n",
    "K.set_name('K')\n",
    "print K"
   ]
  },
  {
   "cell_type": "markdown",
   "metadata": {},
   "source": [
    "<p>The component $K_{13} = K_{x\\phi}$:</p>"
   ]
  },
  {
   "cell_type": "code",
   "execution_count": null,
   "metadata": {
    "collapsed": false
   },
   "outputs": [],
   "source": [
    "K[1,3]"
   ]
  },
  {
   "cell_type": "markdown",
   "metadata": {},
   "source": [
    "<p>The type-(1,1) tensor $K^\\sharp$ of components $K^i_{\\ \\, j} = \\gamma^{ik} K_{kj}$:</p>"
   ]
  },
  {
   "cell_type": "code",
   "execution_count": null,
   "metadata": {
    "collapsed": false
   },
   "outputs": [],
   "source": [
    "Ku = K.up(gam, 0)\n",
    "print Ku"
   ]
  },
  {
   "cell_type": "markdown",
   "metadata": {},
   "source": [
    "<p>We may check that the hypersurface $\\Sigma$ is maximal, i.e. that $K^k_{\\ \\, k} = 0$:</p>"
   ]
  },
  {
   "cell_type": "code",
   "execution_count": null,
   "metadata": {
    "collapsed": false
   },
   "outputs": [],
   "source": [
    "trK = Ku.trace()\n",
    "trK"
   ]
  },
  {
   "cell_type": "markdown",
   "metadata": {},
   "source": [
    "<h3>Connection and curvature</h3>\n",
    "<p>Let us call $D$ the Levi-Civita connection associated with $\\gamma$: </p>"
   ]
  },
  {
   "cell_type": "code",
   "execution_count": null,
   "metadata": {
    "collapsed": false
   },
   "outputs": [],
   "source": [
    "D = gam.connection(name='D')\n",
    "print D"
   ]
  },
  {
   "cell_type": "markdown",
   "metadata": {},
   "source": [
    "<p>The Ricci tensor associated with $\\gamma$:</p>"
   ]
  },
  {
   "cell_type": "code",
   "execution_count": null,
   "metadata": {
    "collapsed": false
   },
   "outputs": [],
   "source": [
    "Ric = gam.ricci()\n",
    "print Ric"
   ]
  },
  {
   "cell_type": "markdown",
   "metadata": {},
   "source": [
    "<p>The scalar curvature $R = \\gamma^{ij} R_{ij}$:</p>"
   ]
  },
  {
   "cell_type": "code",
   "execution_count": null,
   "metadata": {
    "collapsed": false
   },
   "outputs": [],
   "source": [
    "R = gam.ricci_scalar(name='R')\n",
    "print R"
   ]
  },
  {
   "cell_type": "markdown",
   "metadata": {},
   "source": [
    "<h3>Terms related to the extrinsic curvature</h3>\n",
    "<p>Let us first evaluate the term $K_{ij} K^{ij}$:</p>"
   ]
  },
  {
   "cell_type": "code",
   "execution_count": null,
   "metadata": {
    "collapsed": false
   },
   "outputs": [],
   "source": [
    "Kuu = Ku.up(gam, 1)\n",
    "trKK = K['_ij']*Kuu['^ij']\n",
    "print trKK"
   ]
  },
  {
   "cell_type": "markdown",
   "metadata": {},
   "source": [
    "<p>Then we compute the symmetric bilinear form $k_{ij} := K_{ik} K^k_{\\ \\, j}$:</p>"
   ]
  },
  {
   "cell_type": "code",
   "execution_count": null,
   "metadata": {
    "collapsed": false
   },
   "outputs": [],
   "source": [
    "KK = K['_ik']*Ku['^k_j']\n",
    "print KK"
   ]
  },
  {
   "cell_type": "markdown",
   "metadata": {},
   "source": [
    "<p>We check that this tensor field is symmetric:</p>"
   ]
  },
  {
   "cell_type": "code",
   "execution_count": null,
   "metadata": {
    "collapsed": false
   },
   "outputs": [],
   "source": [
    "KK1 = KK.symmetrize()\n",
    "KK == KK1"
   ]
  },
  {
   "cell_type": "markdown",
   "metadata": {},
   "source": [
    "<p>Accordingly, we work with the explicitly symmetric version:</p>"
   ]
  },
  {
   "cell_type": "code",
   "execution_count": null,
   "metadata": {
    "collapsed": false
   },
   "outputs": [],
   "source": [
    "KK = KK1\n",
    "print KK"
   ]
  },
  {
   "cell_type": "markdown",
   "metadata": {},
   "source": [
    "<p> </p>\n",
    "<h2>Electric and magnetic parts of the Weyl tensor</h2>\n",
    "<p>The electric part is the bilinear form $E$ given by $$ E_{ij} = R_{ij} + K K_{ij} - K_{ik} K^k_{\\ \\, j} $$</p>"
   ]
  },
  {
   "cell_type": "code",
   "execution_count": null,
   "metadata": {
    "collapsed": false
   },
   "outputs": [],
   "source": [
    "E = Ric + trK*K - KK\n",
    "print E"
   ]
  },
  {
   "cell_type": "markdown",
   "metadata": {},
   "source": [
    "<p>The magnetic part is the bilinear form $B$ defined by $$ B_{ij} = \\epsilon^k_{\\ \\, l i} D_k K^l_{\\ \\, j}, $$</p>\n",
    "<p>where $\\epsilon^k_{\\ \\, l i}$ are the components of the type-(1,2) tensor $\\epsilon^\\sharp$, related to the Levi-Civita alternating tensor $\\epsilon$ associated with $\\gamma$ by $\\epsilon^k_{\\ \\, l i} = \\gamma^{km} \\epsilon_{m l i}$. In SageManifolds, $\\epsilon$ is obtained by the command <span style=\"font-family: courier new,courier;\">volume_form()</span> and $\\epsilon^\\sharp$ by the command <span style=\"font-family: courier new,courier;\">volume_form(1)</span> (1 = 1 index raised):</p>"
   ]
  },
  {
   "cell_type": "code",
   "execution_count": null,
   "metadata": {
    "collapsed": false
   },
   "outputs": [],
   "source": [
    "eps = gam.volume_form() \n",
    "print eps"
   ]
  },
  {
   "cell_type": "code",
   "execution_count": null,
   "metadata": {
    "collapsed": false
   },
   "outputs": [],
   "source": [
    "epsu = gam.volume_form(1)\n",
    "print epsu"
   ]
  },
  {
   "cell_type": "code",
   "execution_count": null,
   "metadata": {
    "collapsed": false
   },
   "outputs": [],
   "source": [
    "DKu = D(Ku)\n",
    "B = epsu['^k_li']*DKu['^l_jk'] \n",
    "print B"
   ]
  },
  {
   "cell_type": "markdown",
   "metadata": {},
   "source": [
    "<p>Let us check that $B$ is symmetric:</p>"
   ]
  },
  {
   "cell_type": "code",
   "execution_count": null,
   "metadata": {
    "collapsed": false
   },
   "outputs": [],
   "source": [
    "B1 = B.symmetrize()\n",
    "B == B1"
   ]
  },
  {
   "cell_type": "markdown",
   "metadata": {},
   "source": [
    "<p>Accordingly, we set</p>"
   ]
  },
  {
   "cell_type": "code",
   "execution_count": null,
   "metadata": {
    "collapsed": false
   },
   "outputs": [],
   "source": [
    "B = B1\n",
    "B.set_name('B')\n",
    "print B"
   ]
  },
  {
   "cell_type": "markdown",
   "metadata": {},
   "source": [
    "<h2>3+1 decomposition of the Simon-Mars tensor</h2>\n",
    "<p>We proceed according to the computation presented in <a href=\"http://arxiv.org/abs/1412.6542\">arXiv:1412.6542</a>.</p>\n",
    "<p>Tensor $E^\\sharp$ of components $E^i_ {\\ \\, j}$:</p>"
   ]
  },
  {
   "cell_type": "code",
   "execution_count": null,
   "metadata": {
    "collapsed": false
   },
   "outputs": [],
   "source": [
    "Eu = E.up(gam, 0) \n",
    "print Eu"
   ]
  },
  {
   "cell_type": "markdown",
   "metadata": {},
   "source": [
    "<p>Tensor $B^\\sharp$ of components $B^i_{\\ \\, j}$:</p>"
   ]
  },
  {
   "cell_type": "code",
   "execution_count": null,
   "metadata": {
    "collapsed": false
   },
   "outputs": [],
   "source": [
    "Bu = B.up(gam, 0)\n",
    "print Bu"
   ]
  },
  {
   "cell_type": "markdown",
   "metadata": {},
   "source": [
    "<p>1-form $\\beta^\\flat$ of components $\\beta_i$ and its exterior derivative:</p>"
   ]
  },
  {
   "cell_type": "code",
   "execution_count": null,
   "metadata": {
    "collapsed": false
   },
   "outputs": [],
   "source": [
    "bd = b.down(gam)\n",
    "xdb = bd.exterior_derivative()\n",
    "print xdb"
   ]
  },
  {
   "cell_type": "markdown",
   "metadata": {},
   "source": [
    "<p>Scalar square of shift $\\beta_i \\beta^i$:</p>"
   ]
  },
  {
   "cell_type": "code",
   "execution_count": null,
   "metadata": {
    "collapsed": false
   },
   "outputs": [],
   "source": [
    "b2 = bd(b)\n",
    "print b2"
   ]
  },
  {
   "cell_type": "markdown",
   "metadata": {},
   "source": [
    "<p>Scalar $Y = E(\\beta,\\beta) = E_{ij} \\beta^i \\beta^j$:</p>"
   ]
  },
  {
   "cell_type": "code",
   "execution_count": null,
   "metadata": {
    "collapsed": false
   },
   "outputs": [],
   "source": [
    "Ebb = E(b,b)\n",
    "Y = Ebb\n",
    "print Y"
   ]
  },
  {
   "cell_type": "markdown",
   "metadata": {},
   "source": [
    "<p>Scalar $\\bar Y = B(\\beta,\\beta) = B_{ij}\\beta^i \\beta^j$:</p>"
   ]
  },
  {
   "cell_type": "code",
   "execution_count": null,
   "metadata": {
    "collapsed": false
   },
   "outputs": [],
   "source": [
    "Bbb = B(b,b)\n",
    "Y_bar = Bbb\n",
    "print Y_bar"
   ]
  },
  {
   "cell_type": "markdown",
   "metadata": {},
   "source": [
    "<p>1-form of components $Eb_i = E_{ij} \\beta^j$:</p>"
   ]
  },
  {
   "cell_type": "code",
   "execution_count": null,
   "metadata": {
    "collapsed": false
   },
   "outputs": [],
   "source": [
    "Eb = E.contract(b)\n",
    "print Eb"
   ]
  },
  {
   "cell_type": "markdown",
   "metadata": {},
   "source": [
    "<p>Vector field of components $Eub^i = E^i_{\\ \\, j} \\beta^j$:</p>"
   ]
  },
  {
   "cell_type": "code",
   "execution_count": null,
   "metadata": {
    "collapsed": false
   },
   "outputs": [],
   "source": [
    "Eub = Eu.contract(b)\n",
    "print Eub"
   ]
  },
  {
   "cell_type": "markdown",
   "metadata": {},
   "source": [
    "<p>1-form of components $Bb_i = B_{ij} \\beta^j$:</p>"
   ]
  },
  {
   "cell_type": "code",
   "execution_count": null,
   "metadata": {
    "collapsed": false
   },
   "outputs": [],
   "source": [
    "Bb = B.contract(b)\n",
    "print Bb"
   ]
  },
  {
   "cell_type": "markdown",
   "metadata": {},
   "source": [
    "<p>Vector field of components $Bub^i = B^i_{\\ \\, j} \\beta^j$:</p>"
   ]
  },
  {
   "cell_type": "code",
   "execution_count": null,
   "metadata": {
    "collapsed": false
   },
   "outputs": [],
   "source": [
    "Bub = Bu.contract(b)\n",
    "print Bub"
   ]
  },
  {
   "cell_type": "markdown",
   "metadata": {},
   "source": [
    "<p>Vector field of components $Kub^i = K^i_{\\ \\, j} \\beta^j$:</p>"
   ]
  },
  {
   "cell_type": "code",
   "execution_count": null,
   "metadata": {
    "collapsed": false
   },
   "outputs": [],
   "source": [
    "Kub = Ku.contract(b)\n",
    "print Kub"
   ]
  },
  {
   "cell_type": "code",
   "execution_count": null,
   "metadata": {
    "collapsed": false
   },
   "outputs": [],
   "source": [
    "T = 2*b(N) - 2*K(b,b)\n",
    "print T ; T.display()"
   ]
  },
  {
   "cell_type": "code",
   "execution_count": null,
   "metadata": {
    "collapsed": false
   },
   "outputs": [],
   "source": [
    "Db = D(b)  #  Db^i_j = D_j b^i\n",
    "Dbu = Db.up(gam, 1)  # Dbu^{ij} = D^j b^i\n",
    "bDb = b*Dbu  # bDb^{ijk} = b^i D^k b^j\n",
    "T_bar = eps['_ijk']*bDb['^ikj']\n",
    "print T_bar ; T_bar.display()"
   ]
  },
  {
   "cell_type": "code",
   "execution_count": null,
   "metadata": {
    "collapsed": false
   },
   "outputs": [],
   "source": [
    "epsb = eps.contract(b) \n",
    "print epsb"
   ]
  },
  {
   "cell_type": "code",
   "execution_count": null,
   "metadata": {
    "collapsed": false
   },
   "outputs": [],
   "source": [
    "epsB = eps['_ijl']*Bu['^l_k']\n",
    "print epsB"
   ]
  },
  {
   "cell_type": "code",
   "execution_count": null,
   "metadata": {
    "collapsed": false
   },
   "outputs": [],
   "source": [
    "Z = 2*N*( D(N)  -K.contract(b)) + b.contract(xdb)\n",
    "print Z"
   ]
  },
  {
   "cell_type": "code",
   "execution_count": null,
   "metadata": {
    "collapsed": false
   },
   "outputs": [],
   "source": [
    "DNu = D(N).up(gam)\n",
    "A = 2*(DNu - Ku.contract(b))*b + N*Dbu\n",
    "Z_bar = eps['_ijk']*A['^kj']\n",
    "print Z_bar"
   ]
  },
  {
   "cell_type": "code",
   "execution_count": null,
   "metadata": {
    "collapsed": false
   },
   "outputs": [],
   "source": [
    "W = N*Eb + epsb.contract(Bub)\n",
    "print W"
   ]
  },
  {
   "cell_type": "code",
   "execution_count": null,
   "metadata": {
    "collapsed": false
   },
   "outputs": [],
   "source": [
    "W_bar = N*Bb - epsb.contract(Eub)\n",
    "print W_bar"
   ]
  },
  {
   "cell_type": "code",
   "execution_count": null,
   "metadata": {
    "collapsed": false
   },
   "outputs": [],
   "source": [
    "M = - 4*Eb(Kub - DNu) - 2*(epsB['_ij.']*Dbu['^ji'])(b)\n",
    "print M ; M.display()"
   ]
  },
  {
   "cell_type": "code",
   "execution_count": null,
   "metadata": {
    "collapsed": false
   },
   "outputs": [],
   "source": [
    "M_bar = 2*(eps.contract(Eub))['_ij']*Dbu['^ji'] - 4*Bb(Kub - DNu)\n",
    "print M_bar ; M_bar.display()"
   ]
  },
  {
   "cell_type": "code",
   "execution_count": null,
   "metadata": {
    "collapsed": false
   },
   "outputs": [],
   "source": [
    "F = (N^2 - b2)*gam + bd*bd\n",
    "print F"
   ]
  },
  {
   "cell_type": "code",
   "execution_count": null,
   "metadata": {
    "collapsed": false
   },
   "outputs": [],
   "source": [
    "A = epsB['_ilk']*b['^l'] + epsB['_ikl']*b['^l'] + Bu['^m_i']*epsb['_mk'] - 2*N*E\n",
    "xdbE = xdb['_kl']*Eu['^k_i']\n",
    "L = 2*N*epsB['_kli']*Dbu['^kl'] + 2*xdb['_ij']*Eub['^j'] + 2*xdbE['_li']*b['^l'] \\\n",
    "    + 2*A['_ik']*(Kub - DNu)['^k']\n",
    "print L"
   ]
  },
  {
   "cell_type": "code",
   "execution_count": null,
   "metadata": {
    "collapsed": false
   },
   "outputs": [],
   "source": [
    "N2pbb = N^2 + b2\n",
    "V = N2pbb*E - 2*(b.contract(E)*bd).symmetrize() + Ebb*gam + 2*N*(b.contract(epsB).symmetrize())\n",
    "print V"
   ]
  },
  {
   "cell_type": "code",
   "execution_count": null,
   "metadata": {
    "collapsed": false
   },
   "outputs": [],
   "source": [
    "beps = b.contract(eps)\n",
    "V_bar = N2pbb*B - 2*(b.contract(B)*bd).symmetrize() + Bbb*gam \\\n",
    "        -2*N*(beps['_il']*Eu['^l_j']).symmetrize()\n",
    "print V_bar"
   ]
  },
  {
   "cell_type": "code",
   "execution_count": null,
   "metadata": {
    "collapsed": false
   },
   "outputs": [],
   "source": [
    "F = (N^2 - b2)*gam + bd*bd\n",
    "print F"
   ]
  },
  {
   "cell_type": "code",
   "execution_count": null,
   "metadata": {
    "collapsed": false
   },
   "outputs": [],
   "source": [
    "R1 = (4*(V*Z - V_bar*Z_bar) + F*L).antisymmetrize(1,2)\n",
    "print R1"
   ]
  },
  {
   "cell_type": "code",
   "execution_count": null,
   "metadata": {
    "collapsed": false
   },
   "outputs": [],
   "source": [
    "R2 = 4*(T*V - T_bar*V_bar - W*Z + W_bar*Z_bar) + M*F - N*bd*L\n",
    "print R2"
   ]
  },
  {
   "cell_type": "code",
   "execution_count": null,
   "metadata": {
    "collapsed": false
   },
   "outputs": [],
   "source": [
    "R3 = (4*(W*Z - W_bar*Z_bar) + N*bd*L).antisymmetrize()\n",
    "print R3"
   ]
  },
  {
   "cell_type": "code",
   "execution_count": null,
   "metadata": {
    "collapsed": false
   },
   "outputs": [],
   "source": [
    "R2[3,1] == -2*R3[3,1]"
   ]
  },
  {
   "cell_type": "code",
   "execution_count": null,
   "metadata": {
    "collapsed": false
   },
   "outputs": [],
   "source": [
    "R2[3,2] == -2*R3[3,2]"
   ]
  },
  {
   "cell_type": "code",
   "execution_count": null,
   "metadata": {
    "collapsed": false
   },
   "outputs": [],
   "source": [
    "R4 = 4*(T*W - T_bar*W_bar) -4*(Y*Z - Y_bar*Z_bar) + N*M*bd - b2*L\n",
    "print R4"
   ]
  },
  {
   "cell_type": "code",
   "execution_count": null,
   "metadata": {
    "collapsed": false
   },
   "outputs": [],
   "source": [
    "epsE = eps['_ijl']*Eu['^l_k']\n",
    "print epsE"
   ]
  },
  {
   "cell_type": "code",
   "execution_count": null,
   "metadata": {
    "collapsed": false
   },
   "outputs": [],
   "source": [
    "A = - epsE['_ilk']*b['^l'] - epsE['_ikl']*b['^l'] - Eu['^m_i']*epsb['_mk'] - 2*N*B\n",
    "xdbB = xdb['_kl']*Bu['^k_i']\n",
    "L_bar = - 2*N*epsE['_kli']*Dbu['^kl'] + 2*xdb['_ij']*Bub['^j'] + 2*xdbB['_li']*b['^l'] \\\n",
    "    + 2*A['_ik']*(Kub - DNu)['^k']\n",
    "print L_bar"
   ]
  },
  {
   "cell_type": "code",
   "execution_count": null,
   "metadata": {
    "collapsed": false
   },
   "outputs": [],
   "source": [
    "R1_bar = (4*(V*Z_bar + V_bar*Z) + F*L_bar).antisymmetrize(1,2)\n",
    "print R1_bar"
   ]
  },
  {
   "cell_type": "code",
   "execution_count": null,
   "metadata": {
    "collapsed": false
   },
   "outputs": [],
   "source": [
    "R2_bar = 4*(T_bar*V + T*V_bar) - 4*(W*Z_bar + W_bar*Z) + M_bar*F - N*bd*L_bar\n",
    "print R2_bar"
   ]
  },
  {
   "cell_type": "code",
   "execution_count": null,
   "metadata": {
    "collapsed": false
   },
   "outputs": [],
   "source": [
    "R3_bar = (4*(W*Z_bar + W_bar*Z) + N*bd*L_bar).antisymmetrize()\n",
    "print R3_bar"
   ]
  },
  {
   "cell_type": "code",
   "execution_count": null,
   "metadata": {
    "collapsed": false
   },
   "outputs": [],
   "source": [
    "R4_bar = 4*(T_bar*W + T*W_bar - Y*Z_bar - Y_bar*Z) + M_bar*N*bd - b2*L_bar\n",
    "print R4_bar"
   ]
  },
  {
   "cell_type": "code",
   "execution_count": null,
   "metadata": {
    "collapsed": false
   },
   "outputs": [],
   "source": [
    "R1u = R1.up(gam)\n",
    "print R1u"
   ]
  },
  {
   "cell_type": "code",
   "execution_count": null,
   "metadata": {
    "collapsed": false
   },
   "outputs": [],
   "source": [
    "R2u = R2.up(gam)\n",
    "print R2u"
   ]
  },
  {
   "cell_type": "code",
   "execution_count": null,
   "metadata": {
    "collapsed": false
   },
   "outputs": [],
   "source": [
    "R3u = R3.up(gam)\n",
    "print R3u"
   ]
  },
  {
   "cell_type": "code",
   "execution_count": null,
   "metadata": {
    "collapsed": false
   },
   "outputs": [],
   "source": [
    "R4u = R4.up(gam)\n",
    "print R4u"
   ]
  },
  {
   "cell_type": "code",
   "execution_count": null,
   "metadata": {
    "collapsed": false
   },
   "outputs": [],
   "source": [
    "R1_baru = R1_bar.up(gam)\n",
    "print R1_baru"
   ]
  },
  {
   "cell_type": "code",
   "execution_count": null,
   "metadata": {
    "collapsed": false
   },
   "outputs": [],
   "source": [
    "R2_baru = R2_bar.up(gam)\n",
    "print R2_baru"
   ]
  },
  {
   "cell_type": "code",
   "execution_count": null,
   "metadata": {
    "collapsed": false
   },
   "outputs": [],
   "source": [
    "R3_baru = R3_bar.up(gam)\n",
    "print R3_baru"
   ]
  },
  {
   "cell_type": "code",
   "execution_count": null,
   "metadata": {
    "collapsed": false
   },
   "outputs": [],
   "source": [
    "R4_baru = R4_bar.up(gam)\n",
    "print R4_baru"
   ]
  },
  {
   "cell_type": "markdown",
   "metadata": {},
   "source": [
    "<h3>Simon-Mars scalars</h3>"
   ]
  },
  {
   "cell_type": "code",
   "execution_count": null,
   "metadata": {
    "collapsed": false
   },
   "outputs": [],
   "source": [
    "S1 = 4*(R1['_ijk']*R1u['^ijk'] - R1_bar['_ijk']*R1_baru['^ijk'] - 2*(R2['_ij']*R2u['^ij'] \\\n",
    "     - R2_bar['_ij']*R2_baru['^ij']) - R3['_ij']*R3u['^ij'] + R3_bar['_ij']*R3_baru['^ij'] \\\n",
    "     + 2*(R4['_i']*R4u['^i'] - R4_bar['_i']*R4_baru['^i']))\n",
    "print S1"
   ]
  },
  {
   "cell_type": "code",
   "execution_count": null,
   "metadata": {
    "collapsed": false
   },
   "outputs": [],
   "source": [
    "S1E = S1.expr()"
   ]
  },
  {
   "cell_type": "code",
   "execution_count": null,
   "metadata": {
    "collapsed": false
   },
   "outputs": [],
   "source": [
    "S2 = 4*(R1['_ijk']*R1_baru['^ijk'] + R1_bar['_ijk']*R1u['^ijk'] - 2*(R2['_ij']*R2_baru['^ij'] \\\n",
    "     + R2_bar['_ij']*R2u['^ij']) - R3['_ij']*R3_baru['^ij'] - R3_bar['_ij']*R3u['^ij'] \\\n",
    "     + 2*(R4['_i']*R4_baru['^i'] + R4_bar['_i']*R4u['^i']))\n",
    "print S2"
   ]
  },
  {
   "cell_type": "code",
   "execution_count": null,
   "metadata": {
    "collapsed": false
   },
   "outputs": [],
   "source": [
    "S2E = S2.expr()"
   ]
  },
  {
   "cell_type": "code",
   "execution_count": null,
   "metadata": {
    "collapsed": false
   },
   "outputs": [],
   "source": [
    "lS1E = log(S1E,10).simplify_full()"
   ]
  },
  {
   "cell_type": "code",
   "execution_count": null,
   "metadata": {
    "collapsed": false
   },
   "outputs": [],
   "source": [
    "lS2E = log(S2E,10).simplify_full()"
   ]
  },
  {
   "cell_type": "markdown",
   "metadata": {},
   "source": [
    "<p>Simon-Mars scalars expressed in terms of the coordinates $X=-1/x,y$:</p>"
   ]
  },
  {
   "cell_type": "code",
   "execution_count": null,
   "metadata": {
    "collapsed": false
   },
   "outputs": [],
   "source": [
    "var('X')\n",
    "S1EX = S1E.subs(x=-1/X).simplify_full()\n",
    "S2EX = S2E.subs(x=-1/X).simplify_full()"
   ]
  },
  {
   "cell_type": "markdown",
   "metadata": {},
   "source": [
    "<p>Definition of the ergoregion:</p>"
   ]
  },
  {
   "cell_type": "code",
   "execution_count": null,
   "metadata": {
    "collapsed": false
   },
   "outputs": [],
   "source": [
    "g00 = - AA2/BB2\n",
    "g00X = g00.subs(x=-1/X).simplify_full()"
   ]
  },
  {
   "cell_type": "code",
   "execution_count": null,
   "metadata": {
    "collapsed": false
   },
   "outputs": [],
   "source": [
    "ergXy = implicit_plot(g00X, (X,-1,0), (y,-1,1), plot_points=200, fill=False, \n",
    "                      linewidth=1, color='black', \n",
    "                      axes_labels=(r\"$X\\,\\left[M^{-1}\\right]$\", r\"$y\\,\\left[M\\right]$\"), \n",
    "                      fontsize=14)"
   ]
  },
  {
   "cell_type": "markdown",
   "metadata": {},
   "source": [
    "<p>Due to the very high degree of the polynomials involved in the expression of the Simon-Mars scalars, the floating-point precision of Sage's <span style=\"font-family: courier new,courier;\">contour_plot</span> function (53 bits) is not sufficient. Taking avantage that Sage is <strong>open-source</strong>, we modify the function to allow for an arbitrary precision. First, we define a sampling function with a floating-point precision specified by the user (argument <span style=\"font-family: courier new,courier;\">precis</span>): </p>"
   ]
  },
  {
   "cell_type": "code",
   "execution_count": null,
   "metadata": {
    "collapsed": false
   },
   "outputs": [],
   "source": [
    "def array_precisXy(fXy, Xmin, Xmax, ymin, ymax, np, precis, tronc):\n",
    "    RP = RealField(precis)\n",
    "    Xmin = RP(Xmin)\n",
    "    Xmax = RP(Xmax)\n",
    "    ymin = RP(ymin)\n",
    "    ymax = RP(ymax)\n",
    "    dX = (Xmax - Xmin) / RP(np-1)\n",
    "    dy = (ymax - ymin) / RP(np-1)\n",
    "    resu = []\n",
    "    for i in range(np):\n",
    "        list_y = []\n",
    "        yy = ymin + dy * RP(i)\n",
    "        fyy = fXy.subs(y=yy)\n",
    "        for j in range(np):\n",
    "            XX = Xmin + dX * RP(j)\n",
    "            fyyXX = fyy.subs(X = XX)\n",
    "            val = RP(log(abs(fyyXX) + 1e-20, 10))\n",
    "            if val < -tronc:\n",
    "                val = -tronc\n",
    "            elif val > tronc:\n",
    "                val = tronc\n",
    "            list_y.append(val)\n",
    "        resu.append(list_y)\n",
    "    return resu"
   ]
  },
  {
   "cell_type": "markdown",
   "metadata": {},
   "source": [
    "<p>Then we redefine <span style=\"font-family: courier new,courier;\">contour_plot</span> so that it uses the sampling function with a floating-point precision of 200 bits:</p>"
   ]
  },
  {
   "cell_type": "code",
   "execution_count": null,
   "metadata": {
    "collapsed": false
   },
   "outputs": [],
   "source": [
    "from sage.misc.decorators import options, suboptions\n",
    "\n",
    "@suboptions('colorbar', orientation='vertical', format=None, spacing=None)\n",
    "@suboptions('label', fontsize=9, colors='blue', inline=None, inline_spacing=3, fmt=\"%1.2f\")\n",
    "@options(plot_points=100, fill=True, contours=None, linewidths=None, linestyles=None, \n",
    "         labels=False, frame=True, axes=False, colorbar=False, legend_label=None, \n",
    "         aspect_ratio=1)\n",
    "def contour_plot_precisXy(f, xrange, yrange, **options):\n",
    "    from sage.plot.all import Graphics\n",
    "    from sage.plot.misc import setup_for_eval_on_grid\n",
    "    from sage.plot.contour_plot import ContourPlot\n",
    "\n",
    "    np = options['plot_points']\n",
    "    precis = 200  # floating-point precision = 200 bits \n",
    "    tronc = 10\n",
    "    xy_data_array = array_precisXy(f, xrange[0], xrange[1], yrange[0], yrange[1], np, precis, \n",
    "                                   tronc)\n",
    "\n",
    "    g = Graphics()\n",
    "\n",
    "    # Reset aspect_ratio to 'automatic' in case scale is 'semilog[xy]'.\n",
    "    # Otherwise matplotlib complains.\n",
    "    scale = options.get('scale', None)\n",
    "    if isinstance(scale, (list, tuple)):\n",
    "        scale = scale[0]\n",
    "    if scale == 'semilogy' or scale == 'semilogx':\n",
    "        options['aspect_ratio'] = 'automatic'\n",
    "\n",
    "    g._set_extra_kwds(Graphics._extract_kwds_for_show(options, ignore=['xmin', 'xmax']))\n",
    "    g.add_primitive(ContourPlot(xy_data_array, xrange, yrange, options))\n",
    "    return g"
   ]
  },
  {
   "cell_type": "markdown",
   "metadata": {},
   "source": [
    "<p>Then we are able to draw the contour plot of the two Simon-Mars scalars, in terms of the coordinates $(X,y)$ (Figure 11 of <a href=\"http://arxiv.org/abs/1412.6542\">arXiv:1412.6542</a>):</p>"
   ]
  },
  {
   "cell_type": "code",
   "execution_count": null,
   "metadata": {
    "collapsed": false
   },
   "outputs": [],
   "source": [
    "c1Xy = contour_plot_precisXy(S1EX, (-1,0), (-1,1), plot_points=200, fill=False, cmap='hsv', \n",
    "                             linewidths=1, \n",
    "                             contours=(-10,-9,-8,-7,-6,-5,-4,-3,-2,-1,0,1,2,3,4,5,6,7,8), \n",
    "                             colorbar=True, colorbar_spacing='uniform', colorbar_format='%1.f', \n",
    "                             axes_labels=(r\"$X\\,\\left[M^{-1}\\right]$\", r\"$y\\,\\left[M\\right]$\"), \n",
    "                             fontsize=14)"
   ]
  },
  {
   "cell_type": "code",
   "execution_count": null,
   "metadata": {
    "collapsed": false
   },
   "outputs": [],
   "source": [
    "S1TSXy = c1Xy+ergXy\n",
    "show(S1TSXy)"
   ]
  },
  {
   "cell_type": "code",
   "execution_count": null,
   "metadata": {
    "collapsed": false
   },
   "outputs": [],
   "source": [
    "c2Xy = contour_plot_precisXy(S2EX, (-1,0), (-1,1), plot_points=200, fill=False, cmap='hsv', \n",
    "                             linewidths=1, \n",
    "                             contours=(-10,-9,-8,-7,-6,-5,-4,-3,-2,-1,0,1,2,3,4,5,6,7,8,9,10), \n",
    "                             colorbar=True, colorbar_spacing='uniform', colorbar_format='%1.f', \n",
    "                             axes_labels=(r\"$X\\,\\left[M^{-1}\\right]$\", r\"$y\\,\\left[M\\right]$\"), \n",
    "                             fontsize=14)"
   ]
  },
  {
   "cell_type": "code",
   "execution_count": null,
   "metadata": {
    "collapsed": false
   },
   "outputs": [],
   "source": [
    "S2TSXy = c2Xy + ergXy\n",
    "show(S2TSXy)"
   ]
  },
  {
   "cell_type": "markdown",
   "metadata": {},
   "source": [
    "<p>Let us do the same in terms of the Weyl-Lewis-Papapetrou cylindrical coordinates $(\\rho,z)$, which are related to the prolate spheroidal coordinates $(x,y)$ by $$ \\rho = \\sqrt{(x^2-1)(1-y^2)}  \\quad\\mbox{and}\\quad z=xy . $$ </p>\n",
    "<p>For simplicity, we denote $\\rho$ by $r$:</p>"
   ]
  },
  {
   "cell_type": "code",
   "execution_count": null,
   "metadata": {
    "collapsed": false
   },
   "outputs": [],
   "source": [
    "var('r z')"
   ]
  },
  {
   "cell_type": "code",
   "execution_count": null,
   "metadata": {
    "collapsed": false
   },
   "outputs": [],
   "source": [
    "S1Erz = S1E.subs(x=1/2*(sqrt(r^2+(z+1)^2)+sqrt(r^2+(z-1)^2)), \n",
    "                 y=1/2*(sqrt(r^2+(z+1)^2)-sqrt(r^2+(z-1)^2)))\n",
    "S1Erz = S1Erz.simplify_full()"
   ]
  },
  {
   "cell_type": "code",
   "execution_count": null,
   "metadata": {
    "collapsed": false
   },
   "outputs": [],
   "source": [
    "S2Erz = S2E.subs(x=1/2*(sqrt(r^2+(z+1)^2)+sqrt(r^2+(z-1)^2)), \n",
    "                 y=1/2*(sqrt(r^2+(z+1)^2)-sqrt(r^2+(z-1)^2)))\n",
    "S2Erz = S2Erz.simplify_full()"
   ]
  },
  {
   "cell_type": "code",
   "execution_count": null,
   "metadata": {
    "collapsed": false
   },
   "outputs": [],
   "source": [
    "def tab_precis(fz, zz, rmin, rmax, np, precis, tronc):\n",
    "    RP = RealField(precis)\n",
    "    rmin = RP(rmin)\n",
    "    rmax = RP(rmax)\n",
    "    zz = RP(zz)\n",
    "    dr = (rmax - rmin) / RP(np-1)\n",
    "    resu = []\n",
    "    fzz = fz.subs(z=zz)\n",
    "    for i in range(np):\n",
    "        rr = rmin + dr * RP(i)\n",
    "        val = RP(log(abs(fzz.subs(r = rr)), 10))\n",
    "        if val < -tronc:\n",
    "            val = -tronc\n",
    "        elif val > tronc:\n",
    "            val = tronc\n",
    "        resu.append((rr, zz, val))\n",
    "    return resu"
   ]
  },
  {
   "cell_type": "markdown",
   "metadata": {},
   "source": [
    "### 3D plots"
   ]
  },
  {
   "cell_type": "code",
   "execution_count": null,
   "metadata": {
    "collapsed": false
   },
   "outputs": [],
   "source": [
    "gg = Graphics()\n",
    "rmin = 0.1\n",
    "rmax = 3\n",
    "zmin = -2\n",
    "zmax = 2\n",
    "npr = 200\n",
    "npz = npr\n",
    "precis = 200 # 200-bits floating-point precision\n",
    "tronc = 5\n",
    "dz = (zmax-zmin) / (npz-1)\n",
    "for i in range(npz):\n",
    "    zz = zmin + i*dz\n",
    "    gg += line3d(tab_precis(S1Erz, zz, rmin, rmax, npr, precis, tronc))\n",
    "show(gg)"
   ]
  },
  {
   "cell_type": "code",
   "execution_count": null,
   "metadata": {
    "collapsed": false
   },
   "outputs": [],
   "source": [
    "gg2 = Graphics()\n",
    "rmin = 0.1\n",
    "rmax = 3\n",
    "zmin = -2\n",
    "zmax = 2\n",
    "npr = 200\n",
    "npz = npr\n",
    "precis = 200\n",
    "tronc = 5\n",
    "dz = (zmax-zmin) / (npz-1)\n",
    "for i in range(npz):\n",
    "    zz = zmin + i*dz\n",
    "    gg2 += line3d(tab_precis(S2Erz, zz, rmin, rmax, npr, precis, tronc))\n",
    "show(gg2)"
   ]
  },
  {
   "cell_type": "markdown",
   "metadata": {},
   "source": [
    "<p>Contour plots of the two Simon-Mars scalar fields in terms of coordinates $(\\rho,z)$ (Figure 12 of <a href=\"http://arxiv.org/abs/1412.6542\">arXiv:1412.6542</a>)</p>"
   ]
  },
  {
   "cell_type": "code",
   "execution_count": null,
   "metadata": {
    "collapsed": false
   },
   "outputs": [],
   "source": [
    "def array_precis(frz, rmin, rmax, zmin, zmax, np, precis, tronc):\n",
    "    RP = RealField(precis)\n",
    "    rmin = RP(rmin)\n",
    "    rmax = RP(rmax)\n",
    "    zmin = RP(zmin)\n",
    "    zmax = RP(zmax)\n",
    "    dr = (rmax - rmin) / RP(np-1)\n",
    "    dz = (zmax - zmin) / RP(np-1)\n",
    "    resu = []\n",
    "    for i in range(np):\n",
    "        list_z = []\n",
    "        zz = zmin + dz * RP(i)\n",
    "        fzz = frz.subs(z=zz)\n",
    "        for j in range(np):\n",
    "            rr = rmin + dr * RP(j)\n",
    "            fzzrr = fzz.subs(r = rr)\n",
    "            val = RP(log(abs(fzzrr) + 1e-20, 10))\n",
    "            if val < -tronc:\n",
    "                val = -tronc\n",
    "            elif val > tronc:\n",
    "                val = tronc\n",
    "            list_z.append(val)\n",
    "        resu.append(list_z)\n",
    "    return resu"
   ]
  },
  {
   "cell_type": "code",
   "execution_count": null,
   "metadata": {
    "collapsed": false
   },
   "outputs": [],
   "source": [
    "rmin = 0.1\n",
    "rmax = 3\n",
    "zmin = -2\n",
    "zmax = 2\n",
    "npr = 10\n",
    "npz = npr\n",
    "precis = 100\n",
    "tronc = 5\n",
    "val = array_precis(S1Erz, rmin, rmax, zmin, zmax, npr, precis, tronc)"
   ]
  },
  {
   "cell_type": "code",
   "execution_count": null,
   "metadata": {
    "collapsed": false
   },
   "outputs": [],
   "source": [
    "from sage.misc.decorators import options, suboptions\n",
    "\n",
    "@suboptions('colorbar', orientation='vertical', format=None, spacing=None)\n",
    "@suboptions('label', fontsize=9, colors='blue', inline=None, inline_spacing=3, fmt=\"%1.2f\")\n",
    "@options(plot_points=100, fill=True, contours=None, linewidths=None, linestyles=None, \n",
    "         labels=False, frame=True, axes=False, colorbar=False, legend_label=None, \n",
    "         aspect_ratio=1)\n",
    "def contour_plot_precis(f, xrange, yrange, **options):\n",
    "    from sage.plot.all import Graphics\n",
    "    from sage.plot.misc import setup_for_eval_on_grid\n",
    "    from sage.plot.contour_plot import ContourPlot\n",
    "\n",
    "    np = options['plot_points']\n",
    "    precis = 200\n",
    "    tronc = 10\n",
    "    xy_data_array = array_precis(f, xrange[0], xrange[1], yrange[0], yrange[1], np, precis, \n",
    "                                 tronc)\n",
    "\n",
    "    g = Graphics()\n",
    "\n",
    "    # Reset aspect_ratio to 'automatic' in case scale is 'semilog[xy]'.\n",
    "    # Otherwise matplotlib complains.\n",
    "    scale = options.get('scale', None)\n",
    "    if isinstance(scale, (list, tuple)):\n",
    "        scale = scale[0]\n",
    "    if scale == 'semilogy' or scale == 'semilogx':\n",
    "        options['aspect_ratio'] = 'automatic'\n",
    "\n",
    "    g._set_extra_kwds(Graphics._extract_kwds_for_show(options, ignore=['xmin', 'xmax']))\n",
    "    g.add_primitive(ContourPlot(xy_data_array, xrange, yrange, options))\n",
    "    return g"
   ]
  },
  {
   "cell_type": "code",
   "execution_count": null,
   "metadata": {
    "collapsed": false
   },
   "outputs": [],
   "source": [
    "c1rz = contour_plot_precis(S1Erz, (0.0001,10), (-5,5.001), plot_points=300, fill=False, \n",
    "                           cmap='hsv', linewidths=1, \n",
    "                           contours=(-10,-9,-8,-7,-6,-5.5,-5,-4.5,-4,-3.5,-3,-2.5,-2,-1.5,-1,\n",
    "                                     -0.5,0,0.5,1,1.5,2,2.5,3,3.5,4,4.5,5), \n",
    "                           colorbar=True, colorbar_spacing='uniform', colorbar_format='%1.f', \n",
    "                           axes_labels=(r\"$\\rho\\,\\left[M\\right]$\", r\"$z\\,\\left[M\\right]$\"), \n",
    "                           fontsize=14)"
   ]
  },
  {
   "cell_type": "code",
   "execution_count": null,
   "metadata": {
    "collapsed": false
   },
   "outputs": [],
   "source": [
    "g00rz = g00.subs(x=1/2*(sqrt(r^2+(z+1)^2)+sqrt(r^2+(z-1)^2)), \n",
    "                 y=1/2*(sqrt(r^2+(z+1)^2)-sqrt(r^2+(z-1)^2))).simplify_full()\n",
    "c2 = implicit_plot(g00rz, (0.0001,10), (-5,5.001), plot_points=200, fill=False, \n",
    "                   linewidth=1, color='black', \n",
    "                   axes_labels=(r\"$\\rho\\,\\left[M\\right]$\", r\"$z\\,\\left[M\\right]$\"), fontsize=14)\n",
    "S1TSrz = c1rz+c2\n",
    "show(S1TSrz)"
   ]
  },
  {
   "cell_type": "code",
   "execution_count": null,
   "metadata": {
    "collapsed": false
   },
   "outputs": [],
   "source": [
    "c2rz = contour_plot_precis(S2Erz, (0.0001,10), (-5,5.001), plot_points=300, fill=False, \n",
    "                           cmap='hsv', linewidths=1, \n",
    "                           contours=(-10,-9,-8,-7,-6,-5.5,-5,-4.5,-4,-3.5,-3,-2.5,-2,-1.5,-1,\n",
    "                                     -0.5,0,0.5,1,1.5,2,2.5,3,3.5,4,4.5,5), \n",
    "                           colorbar=True, colorbar_spacing='uniform', colorbar_format='%1.f', \n",
    "                           axes_labels=(r\"$\\rho\\,\\left[M\\right]$\", r\"$z\\,\\left[M\\right]$\"), \n",
    "                           fontsize=14)\n",
    "S2TSrz = c2rz+c2\n",
    "show(S2TSrz)"
   ]
  }
 ],
 "metadata": {
  "kernelspec": {
   "display_name": "SageMath 7.5.rc2",
   "language": "",
   "name": "sagemath"
  },
  "language": "python",
  "language_info": {
   "codemirror_mode": {
    "name": "ipython",
    "version": 2
   },
   "file_extension": ".py",
   "mimetype": "text/x-python",
   "name": "python",
   "nbconvert_exporter": "python",
   "pygments_lexer": "ipython2",
   "version": "2.7.12"
  }
 },
 "nbformat": 4,
 "nbformat_minor": 0
}
