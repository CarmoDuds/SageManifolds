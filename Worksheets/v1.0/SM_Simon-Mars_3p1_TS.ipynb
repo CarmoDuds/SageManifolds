{
 "cells": [
  {
   "cell_type": "markdown",
   "metadata": {},
   "source": [
    "# 3+1 Simon-Mars tensor in the $\\delta=2$ Tomimatsu-Sato spacetime\n",
    "\n",
    "This worksheet demonstrates a few capabilities of [SageManifolds](http://sagemanifolds.obspm.fr/) (version 1.0, as included in SageMath 7.5) in computations regarding the 3+1 decomposition of the Simon-Mars tensor in the $\\delta=2$ Tomimatsu-Sato spacetime. The results obtained here are used in the article [arXiv:1412.6542](http://arxiv.org/abs/1412.6542\">arXiv:1412.6542).\n",
    "\n",
    "Click [here](https://raw.githubusercontent.com/sagemanifolds/SageManifolds/master/Worksheets/v1.0/SM_Simon-Mars_3p1_TS2.ipynb) to download the worksheet file (ipynb format). To run it, you must start SageMath with the Jupyter notebook, via the command `sage -n jupyter`"
   ]
  },
  {
   "cell_type": "markdown",
   "metadata": {},
   "source": [
    "*NB:* a version of SageMath at least equal to 7.5 is required to run this worksheet:"
   ]
  },
  {
   "cell_type": "code",
   "execution_count": 1,
   "metadata": {
    "collapsed": false
   },
   "outputs": [
    {
     "data": {
      "text/plain": [
       "'SageMath version 7.5.rc2, Release Date: 2017-01-05'"
      ]
     },
     "execution_count": 1,
     "metadata": {},
     "output_type": "execute_result"
    }
   ],
   "source": [
    "version()"
   ]
  },
  {
   "cell_type": "markdown",
   "metadata": {},
   "source": [
    "First we set up the notebook to display mathematical objects using LaTeX rendering:"
   ]
  },
  {
   "cell_type": "code",
   "execution_count": 2,
   "metadata": {
    "collapsed": true
   },
   "outputs": [],
   "source": [
    "%display latex"
   ]
  },
  {
   "cell_type": "markdown",
   "metadata": {},
   "source": [
    "Since some computations are quite long, we ask for running them in parallel on 8 cores:"
   ]
  },
  {
   "cell_type": "code",
   "execution_count": 3,
   "metadata": {
    "collapsed": true
   },
   "outputs": [],
   "source": [
    "Parallelism().set(nproc=8)"
   ]
  },
  {
   "cell_type": "markdown",
   "metadata": {},
   "source": [
    "<h2>Tomimatsu-Sato spacetime</h2>\n",
    "<p>The Tomimatsu-Sato metric is an exact stationary and axisymmetric  solution of the vacuum Einstein equation, which is asymptotically flat and has a non-zero angular momentum. It has been found in 1972 by A. Tomimatsu and H. Sato [<a href=\"http://dx.doi.org/10.1103/PhysRevLett.29.1344\">Phys. Rev. Lett. <strong>29</strong>, 1344 (1972)</a>], as a solution of the Ernst equation. It is actually the member $\\delta=2$ of a larger family of solutions parametrized by a positive integer $\\delta$ and exhibited by Tomimatsu and Sato in 1973 <a href=\"http://dx.doi.org/10.1143/PTP.50.95\">[Prog. Theor. Phys. <strong>50</strong>, 95 (1973)</a>], the member $\\delta=1$ being nothing but the Kerr metric. We refer to [<a href=\"http://dx.doi.org/10.1143/PTP.127.1057\">Manko, Prog. Theor. Phys.<strong> 127</strong>, 1057 (2012)</a>] for a discussion of the properties of this solution.</p>\n",
    "<h2>Spacelike hypersurface</h2>\n",
    "<p>We consider some hypersurface $\\Sigma$ of a spacelike foliation $(\\Sigma_t)_{t\\in\\mathbb{R}}$ of $\\delta=2$ Tomimatsu-Sato spacetime; we declare $\\Sigma_t$ as a 3-dimensional manifold:</p>"
   ]
  },
  {
   "cell_type": "code",
   "execution_count": 4,
   "metadata": {
    "collapsed": false
   },
   "outputs": [],
   "source": [
    "Sig = Manifold(3, 'Sigma', r'\\Sigma', start_index=1)"
   ]
  },
  {
   "cell_type": "markdown",
   "metadata": {},
   "source": [
    "<p>On $\\Sigma$, we consider the prolate spheroidal <span id=\"cell_outer_1\">coordinates</span> $(x,y,\\phi)$, with $x\\in(1,+\\infty)$, $y\\in(-1,1)$ and $\\phi\\in(0,2\\pi)$ :</p>"
   ]
  },
  {
   "cell_type": "code",
   "execution_count": 5,
   "metadata": {
    "collapsed": false
   },
   "outputs": [
    {
     "name": "stdout",
     "output_type": "stream",
     "text": [
      "Chart (Sigma, (x, y, ph))\n"
     ]
    },
    {
     "data": {
      "text/html": [
       "<html><script type=\"math/tex; mode=display\">\\newcommand{\\Bold}[1]{\\mathbf{#1}}\\left(\\Sigma,(x, y, {\\phi})\\right)</script></html>"
      ],
      "text/plain": [
       "Chart (Sigma, (x, y, ph))"
      ]
     },
     "execution_count": 5,
     "metadata": {},
     "output_type": "execute_result"
    }
   ],
   "source": [
    "X.<r,y,ph> = Sig.chart(r'x:(1,+oo) y:(-1,1) ph:(0,2*pi):\\phi')\n",
    "print X ; X"
   ]
  },
  {
   "cell_type": "markdown",
   "metadata": {},
   "source": [
    "<h3>Riemannian metric on $\\Sigma$</h3>\n",
    "<p>The Tomimatsu-Sato metric depens on three parameters: the integer $\\delta$, the real number $p\\in[0,1]$, and the total mass $m$:</p>"
   ]
  },
  {
   "cell_type": "code",
   "execution_count": 6,
   "metadata": {
    "collapsed": false
   },
   "outputs": [
    {
     "data": {
      "text/html": [
       "<html><script type=\"math/tex; mode=display\">\\newcommand{\\Bold}[1]{\\mathbf{#1}}\\left[\\verb|x|\\phantom{\\verb!x!}\\verb|is|\\phantom{\\verb!x!}\\verb|real|, x > 1, \\verb|y|\\phantom{\\verb!x!}\\verb|is|\\phantom{\\verb!x!}\\verb|real|, y > \\left(-1\\right), y < 1, \\verb|ph|\\phantom{\\verb!x!}\\verb|is|\\phantom{\\verb!x!}\\verb|real|, {\\phi} > 0, {\\phi} < 2 \\, \\pi, m > 0\\right]</script></html>"
      ],
      "text/plain": [
       "[x is real,\n",
       " x > 1,\n",
       " y is real,\n",
       " y > -1,\n",
       " y < 1,\n",
       " ph is real,\n",
       " ph > 0,\n",
       " ph < 2*pi,\n",
       " m > 0]"
      ]
     },
     "execution_count": 6,
     "metadata": {},
     "output_type": "execute_result"
    }
   ],
   "source": [
    "var('d, p, m')\n",
    "assume(m>0)\n",
    "assumptions()"
   ]
  },
  {
   "cell_type": "markdown",
   "metadata": {},
   "source": [
    "<p>We set $\\delta=2$ and choose a specific value for $p$, namely $p=1/5$:</p>"
   ]
  },
  {
   "cell_type": "code",
   "execution_count": 7,
   "metadata": {
    "collapsed": false
   },
   "outputs": [],
   "source": [
    "d = 2\n",
    "p = 1/5"
   ]
  },
  {
   "cell_type": "markdown",
   "metadata": {},
   "source": [
    "<p>Furthermore, without any loss of generality, we may set $m=1$ (this simply fixes some length scale):</p>"
   ]
  },
  {
   "cell_type": "code",
   "execution_count": 8,
   "metadata": {
    "collapsed": false
   },
   "outputs": [],
   "source": [
    "m=1"
   ]
  },
  {
   "cell_type": "markdown",
   "metadata": {},
   "source": [
    "<p>The parameter $q$ is related to $p$ by $p^2+q^2=1$:</p>"
   ]
  },
  {
   "cell_type": "code",
   "execution_count": 9,
   "metadata": {
    "collapsed": false
   },
   "outputs": [],
   "source": [
    "q = sqrt(1-p^2)"
   ]
  },
  {
   "cell_type": "markdown",
   "metadata": {},
   "source": [
    "<p>Some shortcut notations:</p>"
   ]
  },
  {
   "cell_type": "code",
   "execution_count": 10,
   "metadata": {
    "collapsed": false
   },
   "outputs": [],
   "source": [
    "AA2 = (p^2*(x^2-1)^2+q^2*(1-y^2)^2)^2-4*p^2*q^2*(x^2-1)*(1-y^2)*(x^2-y^2)^2\n",
    "BB2 = (p^2*x^4+2*p*x^3-2*p*x+q^2*y^4-1)^2+4*q^2*y^2*(p*x^3-p*x*y^2-y^2+1)^2\n",
    "CC2 = p^3*x*(1-x^2)*(2*(x^4-1)+(x^2+3)*(1-y^2))+p^2*(x^2-1)*((x^2-1)*(1-y^2)-4*x^2*(x^2-y^2))+q^2*(1-y^2)^3*(p*x+1)"
   ]
  },
  {
   "cell_type": "markdown",
   "metadata": {},
   "source": [
    "<p>The Riemannian metric $\\gamma$ induced by the spacetime metric $g$ on $\\Sigma$:</p>"
   ]
  },
  {
   "cell_type": "code",
   "execution_count": 11,
   "metadata": {
    "collapsed": false
   },
   "outputs": [
    {
     "data": {
      "text/html": [
       "<html><script type=\"math/tex; mode=display\">\\newcommand{\\Bold}[1]{\\mathbf{#1}}\\gamma = \\left( \\frac{96 \\, {\\left(x^{3} - x y^{2} - 5 \\, y^{2} + 5\\right)}^{2} y^{2} + {\\left(x^{4} + 24 \\, y^{4} + 10 \\, x^{3} - 10 \\, x - 25\\right)}^{2}}{100 \\, {\\left(x^{2} - y^{2}\\right)}^{3} {\\left(x^{2} - 1\\right)}} \\right) \\mathrm{d} x\\otimes \\mathrm{d} x + \\left( -\\frac{96 \\, {\\left(x^{3} - x y^{2} - 5 \\, y^{2} + 5\\right)}^{2} y^{2} + {\\left(x^{4} + 24 \\, y^{4} + 10 \\, x^{3} - 10 \\, x - 25\\right)}^{2}}{100 \\, {\\left(x^{2} - y^{2}\\right)}^{3} {\\left(y^{2} - 1\\right)}} \\right) \\mathrm{d} y\\otimes \\mathrm{d} y -\\frac{{\\left({\\left(96 \\, {\\left(x^{3} - x y^{2} - 5 \\, y^{2} + 5\\right)}^{2} y^{2} + {\\left(x^{4} + 24 \\, y^{4} + 10 \\, x^{3} - 10 \\, x - 25\\right)}^{2}\\right)}^{2} {\\left(x^{2} - 1\\right)} + 9600 \\, {\\left(24 \\, {\\left(y^{2} - 1\\right)}^{3} {\\left(x + 5\\right)} + {\\left(2 \\, x^{4} - {\\left(x^{2} + 3\\right)} {\\left(y^{2} - 1\\right)} - 2\\right)} {\\left(x^{2} - 1\\right)} x + 5 \\, {\\left(4 \\, {\\left(x^{2} - y^{2}\\right)} x^{2} + {\\left(x^{2} - 1\\right)} {\\left(y^{2} - 1\\right)}\\right)} {\\left(x^{2} - 1\\right)}\\right)}^{2} {\\left(y^{2} - 1\\right)}\\right)} {\\left(y^{2} - 1\\right)}}{100 \\, {\\left(96 \\, {\\left(x^{2} - y^{2}\\right)}^{2} {\\left(x^{2} - 1\\right)} {\\left(y^{2} - 1\\right)} + {\\left({\\left(x^{2} - 1\\right)}^{2} + 24 \\, {\\left(y^{2} - 1\\right)}^{2}\\right)}^{2}\\right)} {\\left(96 \\, {\\left(x^{3} - x y^{2} - 5 \\, y^{2} + 5\\right)}^{2} y^{2} + {\\left(x^{4} + 24 \\, y^{4} + 10 \\, x^{3} - 10 \\, x - 25\\right)}^{2}\\right)}} \\mathrm{d} {\\phi}\\otimes \\mathrm{d} {\\phi}</script></html>"
      ],
      "text/plain": [
       "gam = 1/100*(96*(x^3 - x*y^2 - 5*y^2 + 5)^2*y^2 + (x^4 + 24*y^4 + 10*x^3 - 10*x - 25)^2)/((x^2 - y^2)^3*(x^2 - 1)) dx*dx - 1/100*(96*(x^3 - x*y^2 - 5*y^2 + 5)^2*y^2 + (x^4 + 24*y^4 + 10*x^3 - 10*x - 25)^2)/((x^2 - y^2)^3*(y^2 - 1)) dy*dy - 1/100*((96*(x^3 - x*y^2 - 5*y^2 + 5)^2*y^2 + (x^4 + 24*y^4 + 10*x^3 - 10*x - 25)^2)^2*(x^2 - 1) + 9600*(24*(y^2 - 1)^3*(x + 5) + (2*x^4 - (x^2 + 3)*(y^2 - 1) - 2)*(x^2 - 1)*x + 5*(4*(x^2 - y^2)*x^2 + (x^2 - 1)*(y^2 - 1))*(x^2 - 1))^2*(y^2 - 1))*(y^2 - 1)/((96*(x^2 - y^2)^2*(x^2 - 1)*(y^2 - 1) + ((x^2 - 1)^2 + 24*(y^2 - 1)^2)^2)*(96*(x^3 - x*y^2 - 5*y^2 + 5)^2*y^2 + (x^4 + 24*y^4 + 10*x^3 - 10*x - 25)^2)) dph*dph"
      ]
     },
     "execution_count": 11,
     "metadata": {},
     "output_type": "execute_result"
    }
   ],
   "source": [
    "gam = Sig.riemannian_metric('gam', latex_name=r'\\gamma') \n",
    "gam[1,1] = m^2*BB2/(p^2*d^2*(x^2-1)*(x^2-y^2)^3)\n",
    "gam[2,2] = m^2*BB2/(p^2*d^2*(y^2-1)*(-x^2+y^2)^3)\n",
    "gam[3,3] = - m^2*(y^2-1)*(p^2*BB2^2*(x^2-1)+4*q^2*d^2*CC2^2*(y^2-1))/(AA2*BB2*d^2)\n",
    "gam.display()"
   ]
  },
  {
   "cell_type": "markdown",
   "metadata": {},
   "source": [
    "A view of the non-vanishing components of $\\gamma$ w.r.t. coordinates $(x,y,\\phi)$:"
   ]
  },
  {
   "cell_type": "code",
   "execution_count": 12,
   "metadata": {
    "collapsed": false
   },
   "outputs": [
    {
     "data": {
      "text/html": [
       "<html><script type=\"math/tex; mode=display\">\\newcommand{\\Bold}[1]{\\mathbf{#1}}\\begin{array}{lcl} \\gamma_{ \\, x \\, x }^{ \\phantom{\\, x}\\phantom{\\, x} } & = & \\frac{96 \\, {\\left(x^{3} - x y^{2} - 5 \\, y^{2} + 5\\right)}^{2} y^{2} + {\\left(x^{4} + 24 \\, y^{4} + 10 \\, x^{3} - 10 \\, x - 25\\right)}^{2}}{100 \\, {\\left(x^{2} - y^{2}\\right)}^{3} {\\left(x^{2} - 1\\right)}} \\\\ \\gamma_{ \\, y \\, y }^{ \\phantom{\\, y}\\phantom{\\, y} } & = & -\\frac{96 \\, {\\left(x^{3} - x y^{2} - 5 \\, y^{2} + 5\\right)}^{2} y^{2} + {\\left(x^{4} + 24 \\, y^{4} + 10 \\, x^{3} - 10 \\, x - 25\\right)}^{2}}{100 \\, {\\left(x^{2} - y^{2}\\right)}^{3} {\\left(y^{2} - 1\\right)}} \\\\ \\gamma_{ \\, {\\phi} \\, {\\phi} }^{ \\phantom{\\, {\\phi}}\\phantom{\\, {\\phi}} } & = & -\\frac{{\\left({\\left(96 \\, {\\left(x^{3} - x y^{2} - 5 \\, y^{2} + 5\\right)}^{2} y^{2} + {\\left(x^{4} + 24 \\, y^{4} + 10 \\, x^{3} - 10 \\, x - 25\\right)}^{2}\\right)}^{2} {\\left(x^{2} - 1\\right)} + 9600 \\, {\\left(24 \\, {\\left(y^{2} - 1\\right)}^{3} {\\left(x + 5\\right)} + {\\left(2 \\, x^{4} - {\\left(x^{2} + 3\\right)} {\\left(y^{2} - 1\\right)} - 2\\right)} {\\left(x^{2} - 1\\right)} x + 5 \\, {\\left(4 \\, {\\left(x^{2} - y^{2}\\right)} x^{2} + {\\left(x^{2} - 1\\right)} {\\left(y^{2} - 1\\right)}\\right)} {\\left(x^{2} - 1\\right)}\\right)}^{2} {\\left(y^{2} - 1\\right)}\\right)} {\\left(y^{2} - 1\\right)}}{100 \\, {\\left(96 \\, {\\left(x^{2} - y^{2}\\right)}^{2} {\\left(x^{2} - 1\\right)} {\\left(y^{2} - 1\\right)} + {\\left({\\left(x^{2} - 1\\right)}^{2} + 24 \\, {\\left(y^{2} - 1\\right)}^{2}\\right)}^{2}\\right)} {\\left(96 \\, {\\left(x^{3} - x y^{2} - 5 \\, y^{2} + 5\\right)}^{2} y^{2} + {\\left(x^{4} + 24 \\, y^{4} + 10 \\, x^{3} - 10 \\, x - 25\\right)}^{2}\\right)}} \\end{array}</script></html>"
      ],
      "text/plain": [
       "gam_x,x = 1/100*(96*(x^3 - x*y^2 - 5*y^2 + 5)^2*y^2 + (x^4 + 24*y^4 + 10*x^3 - 10*x - 25)^2)/((x^2 - y^2)^3*(x^2 - 1)) \n",
       "gam_y,y = -1/100*(96*(x^3 - x*y^2 - 5*y^2 + 5)^2*y^2 + (x^4 + 24*y^4 + 10*x^3 - 10*x - 25)^2)/((x^2 - y^2)^3*(y^2 - 1)) \n",
       "gam_ph,ph = -1/100*((96*(x^3 - x*y^2 - 5*y^2 + 5)^2*y^2 + (x^4 + 24*y^4 + 10*x^3 - 10*x - 25)^2)^2*(x^2 - 1) + 9600*(24*(y^2 - 1)^3*(x + 5) + (2*x^4 - (x^2 + 3)*(y^2 - 1) - 2)*(x^2 - 1)*x + 5*(4*(x^2 - y^2)*x^2 + (x^2 - 1)*(y^2 - 1))*(x^2 - 1))^2*(y^2 - 1))*(y^2 - 1)/((96*(x^2 - y^2)^2*(x^2 - 1)*(y^2 - 1) + ((x^2 - 1)^2 + 24*(y^2 - 1)^2)^2)*(96*(x^3 - x*y^2 - 5*y^2 + 5)^2*y^2 + (x^4 + 24*y^4 + 10*x^3 - 10*x - 25)^2)) "
      ]
     },
     "execution_count": 12,
     "metadata": {},
     "output_type": "execute_result"
    }
   ],
   "source": [
    "gam.display_comp()"
   ]
  },
  {
   "cell_type": "code",
   "execution_count": 13,
   "metadata": {
    "collapsed": false
   },
   "outputs": [
    {
     "data": {
      "text/html": [
       "<html><script type=\"math/tex; mode=display\">\\newcommand{\\Bold}[1]{\\mathbf{#1}}\\frac{x^{18} + 60 \\, x^{17} + 331776 \\, {\\left(x^{2} - 1\\right)} y^{16} + 1599 \\, x^{16} + 25880 \\, x^{15} + 110592 \\, {\\left(x^{4} + 15 \\, x^{3} + 99 \\, x^{2} + 485 \\, x + 1200\\right)} y^{14} + 266700 \\, x^{14} + 1555560 \\, x^{13} - 9216 \\, {\\left(17 \\, x^{6} + 60 \\, x^{5} - 417 \\, x^{4} - 3040 \\, x^{3} - 13425 \\, x^{2} - 31020 \\, x - 16975\\right)} y^{12} + 3533300 \\, x^{12} - 4005000 \\, x^{11} + 9216 \\, {\\left(9 \\, x^{8} - 60 \\, x^{7} - 509 \\, x^{6} - 2430 \\, x^{5} - 9525 \\, x^{4} - 24260 \\, x^{3} - 71775 \\, x^{2} - 227250 \\, x - 290600\\right)} y^{10} - 17787450 \\, x^{10} - 18420000 \\, x^{9} + 5760 \\, {\\left(7 \\, x^{10} + 90 \\, x^{9} + 473 \\, x^{8} + 2460 \\, x^{7} + 10050 \\, x^{6} + 15200 \\, x^{5} + 53790 \\, x^{4} + 120900 \\, x^{3} + 198455 \\, x^{2} + 741350 \\, x + 1103625\\right)} y^{8} + 15656250 \\, x^{8} + 31485000 \\, x^{7} - 192 \\, {\\left(143 \\, x^{12} + 675 \\, x^{11} - 1043 \\, x^{10} - 7575 \\, x^{9} - 52650 \\, x^{8} - 224850 \\, x^{7} - 156150 \\, x^{6} + 1001250 \\, x^{5} + 3726075 \\, x^{4} + 6217375 \\, x^{3} + 4145625 \\, x^{2} + 19413125 \\, x + 33330000\\right)} y^{6} + 3527500 \\, x^{6} + 12975000 \\, x^{5} + 96 \\, {\\left(93 \\, x^{14} - 105 \\, x^{13} - 1693 \\, x^{12} - 13470 \\, x^{11} - 99575 \\, x^{10} - 222675 \\, x^{9} - 149025 \\, x^{8} - 1024500 \\, x^{7} - 2270025 \\, x^{6} + 2366625 \\, x^{5} + 9545625 \\, x^{4} + 11931250 \\, x^{3} + 451875 \\, x^{2} + 11346875 \\, x + 28273125\\right)} y^{4} + 80032500 \\, x^{4} + 102025000 \\, x^{3} + 192 \\, {\\left(x^{16} + 30 \\, x^{15} + 399 \\, x^{14} + 3955 \\, x^{13} + 19950 \\, x^{12} + 3765 \\, x^{11} + 19850 \\, x^{10} + 197000 \\, x^{9} + 47025 \\, x^{8} + 77000 \\, x^{7} + 646875 \\, x^{6} - 598125 \\, x^{5} - 2642500 \\, x^{4} - 2896875 \\, x^{3} + 1117500 \\, x^{2} + 1581250 \\, x - 687500\\right)} y^{2} - 78609375 \\, x^{2} - 180937500 \\, x - 150390625}{1000000 \\, {\\left(x^{14} + {\\left(x^{2} - 1\\right)} y^{12} - x^{12} - 6 \\, {\\left(x^{4} - x^{2}\\right)} y^{10} + 15 \\, {\\left(x^{6} - x^{4}\\right)} y^{8} - 20 \\, {\\left(x^{8} - x^{6}\\right)} y^{6} + 15 \\, {\\left(x^{10} - x^{8}\\right)} y^{4} - 6 \\, {\\left(x^{12} - x^{10}\\right)} y^{2}\\right)}}</script></html>"
      ],
      "text/plain": [
       "1/1000000*(x^18 + 60*x^17 + 331776*(x^2 - 1)*y^16 + 1599*x^16 + 25880*x^15 + 110592*(x^4 + 15*x^3 + 99*x^2 + 485*x + 1200)*y^14 + 266700*x^14 + 1555560*x^13 - 9216*(17*x^6 + 60*x^5 - 417*x^4 - 3040*x^3 - 13425*x^2 - 31020*x - 16975)*y^12 + 3533300*x^12 - 4005000*x^11 + 9216*(9*x^8 - 60*x^7 - 509*x^6 - 2430*x^5 - 9525*x^4 - 24260*x^3 - 71775*x^2 - 227250*x - 290600)*y^10 - 17787450*x^10 - 18420000*x^9 + 5760*(7*x^10 + 90*x^9 + 473*x^8 + 2460*x^7 + 10050*x^6 + 15200*x^5 + 53790*x^4 + 120900*x^3 + 198455*x^2 + 741350*x + 1103625)*y^8 + 15656250*x^8 + 31485000*x^7 - 192*(143*x^12 + 675*x^11 - 1043*x^10 - 7575*x^9 - 52650*x^8 - 224850*x^7 - 156150*x^6 + 1001250*x^5 + 3726075*x^4 + 6217375*x^3 + 4145625*x^2 + 19413125*x + 33330000)*y^6 + 3527500*x^6 + 12975000*x^5 + 96*(93*x^14 - 105*x^13 - 1693*x^12 - 13470*x^11 - 99575*x^10 - 222675*x^9 - 149025*x^8 - 1024500*x^7 - 2270025*x^6 + 2366625*x^5 + 9545625*x^4 + 11931250*x^3 + 451875*x^2 + 11346875*x + 28273125)*y^4 + 80032500*x^4 + 102025000*x^3 + 192*(x^16 + 30*x^15 + 399*x^14 + 3955*x^13 + 19950*x^12 + 3765*x^11 + 19850*x^10 + 197000*x^9 + 47025*x^8 + 77000*x^7 + 646875*x^6 - 598125*x^5 - 2642500*x^4 - 2896875*x^3 + 1117500*x^2 + 1581250*x - 687500)*y^2 - 78609375*x^2 - 180937500*x - 150390625)/(x^14 + (x^2 - 1)*y^12 - x^12 - 6*(x^4 - x^2)*y^10 + 15*(x^6 - x^4)*y^8 - 20*(x^8 - x^6)*y^6 + 15*(x^10 - x^8)*y^4 - 6*(x^12 - x^10)*y^2)"
      ]
     },
     "execution_count": 13,
     "metadata": {},
     "output_type": "execute_result"
    }
   ],
   "source": [
    "gam.determinant().expr()"
   ]
  },
  {
   "cell_type": "code",
   "execution_count": 14,
   "metadata": {
    "collapsed": false
   },
   "outputs": [
    {
     "data": {
      "text/html": [
       "<html><script type=\"math/tex; mode=display\">\\newcommand{\\Bold}[1]{\\mathbf{#1}}\\frac{1}{1000} \\, \\sqrt{-\\frac{x^{18} + 60 \\, x^{17} + 331776 \\, {\\left(x^{2} - 1\\right)} y^{16} + 1599 \\, x^{16} + 25880 \\, x^{15} + 110592 \\, {\\left(x^{4} + 15 \\, x^{3} + 99 \\, x^{2} + 485 \\, x + 1200\\right)} y^{14} + 266700 \\, x^{14} + 1555560 \\, x^{13} - 9216 \\, {\\left(17 \\, x^{6} + 60 \\, x^{5} - 417 \\, x^{4} - 3040 \\, x^{3} - 13425 \\, x^{2} - 31020 \\, x - 16975\\right)} y^{12} + 3533300 \\, x^{12} - 4005000 \\, x^{11} + 9216 \\, {\\left(9 \\, x^{8} - 60 \\, x^{7} - 509 \\, x^{6} - 2430 \\, x^{5} - 9525 \\, x^{4} - 24260 \\, x^{3} - 71775 \\, x^{2} - 227250 \\, x - 290600\\right)} y^{10} - 17787450 \\, x^{10} - 18420000 \\, x^{9} + 5760 \\, {\\left(7 \\, x^{10} + 90 \\, x^{9} + 473 \\, x^{8} + 2460 \\, x^{7} + 10050 \\, x^{6} + 15200 \\, x^{5} + 53790 \\, x^{4} + 120900 \\, x^{3} + 198455 \\, x^{2} + 741350 \\, x + 1103625\\right)} y^{8} + 15656250 \\, x^{8} + 31485000 \\, x^{7} - 192 \\, {\\left(143 \\, x^{12} + 675 \\, x^{11} - 1043 \\, x^{10} - 7575 \\, x^{9} - 52650 \\, x^{8} - 224850 \\, x^{7} - 156150 \\, x^{6} + 1001250 \\, x^{5} + 3726075 \\, x^{4} + 6217375 \\, x^{3} + 4145625 \\, x^{2} + 19413125 \\, x + 33330000\\right)} y^{6} + 3527500 \\, x^{6} + 12975000 \\, x^{5} + 96 \\, {\\left(93 \\, x^{14} - 105 \\, x^{13} - 1693 \\, x^{12} - 13470 \\, x^{11} - 99575 \\, x^{10} - 222675 \\, x^{9} - 149025 \\, x^{8} - 1024500 \\, x^{7} - 2270025 \\, x^{6} + 2366625 \\, x^{5} + 9545625 \\, x^{4} + 11931250 \\, x^{3} + 451875 \\, x^{2} + 11346875 \\, x + 28273125\\right)} y^{4} + 80032500 \\, x^{4} + 102025000 \\, x^{3} + 192 \\, {\\left(x^{16} + 30 \\, x^{15} + 399 \\, x^{14} + 3955 \\, x^{13} + 19950 \\, x^{12} + 3765 \\, x^{11} + 19850 \\, x^{10} + 197000 \\, x^{9} + 47025 \\, x^{8} + 77000 \\, x^{7} + 646875 \\, x^{6} - 598125 \\, x^{5} - 2642500 \\, x^{4} - 2896875 \\, x^{3} + 1117500 \\, x^{2} + 1581250 \\, x - 687500\\right)} y^{2} - 78609375 \\, x^{2} - 180937500 \\, x - 150390625}{x^{14} + {\\left(x^{2} - 1\\right)} y^{12} - x^{12} - 6 \\, {\\left(x^{4} - x^{2}\\right)} y^{10} + 15 \\, {\\left(x^{6} - x^{4}\\right)} y^{8} - 20 \\, {\\left(x^{8} - x^{6}\\right)} y^{6} + 15 \\, {\\left(x^{10} - x^{8}\\right)} y^{4} - 6 \\, {\\left(x^{12} - x^{10}\\right)} y^{2}}}</script></html>"
      ],
      "text/plain": [
       "1/1000*sqrt(-(x^18 + 60*x^17 + 331776*(x^2 - 1)*y^16 + 1599*x^16 + 25880*x^15 + 110592*(x^4 + 15*x^3 + 99*x^2 + 485*x + 1200)*y^14 + 266700*x^14 + 1555560*x^13 - 9216*(17*x^6 + 60*x^5 - 417*x^4 - 3040*x^3 - 13425*x^2 - 31020*x - 16975)*y^12 + 3533300*x^12 - 4005000*x^11 + 9216*(9*x^8 - 60*x^7 - 509*x^6 - 2430*x^5 - 9525*x^4 - 24260*x^3 - 71775*x^2 - 227250*x - 290600)*y^10 - 17787450*x^10 - 18420000*x^9 + 5760*(7*x^10 + 90*x^9 + 473*x^8 + 2460*x^7 + 10050*x^6 + 15200*x^5 + 53790*x^4 + 120900*x^3 + 198455*x^2 + 741350*x + 1103625)*y^8 + 15656250*x^8 + 31485000*x^7 - 192*(143*x^12 + 675*x^11 - 1043*x^10 - 7575*x^9 - 52650*x^8 - 224850*x^7 - 156150*x^6 + 1001250*x^5 + 3726075*x^4 + 6217375*x^3 + 4145625*x^2 + 19413125*x + 33330000)*y^6 + 3527500*x^6 + 12975000*x^5 + 96*(93*x^14 - 105*x^13 - 1693*x^12 - 13470*x^11 - 99575*x^10 - 222675*x^9 - 149025*x^8 - 1024500*x^7 - 2270025*x^6 + 2366625*x^5 + 9545625*x^4 + 11931250*x^3 + 451875*x^2 + 11346875*x + 28273125)*y^4 + 80032500*x^4 + 102025000*x^3 + 192*(x^16 + 30*x^15 + 399*x^14 + 3955*x^13 + 19950*x^12 + 3765*x^11 + 19850*x^10 + 197000*x^9 + 47025*x^8 + 77000*x^7 + 646875*x^6 - 598125*x^5 - 2642500*x^4 - 2896875*x^3 + 1117500*x^2 + 1581250*x - 687500)*y^2 - 78609375*x^2 - 180937500*x - 150390625)/(x^14 + (x^2 - 1)*y^12 - x^12 - 6*(x^4 - x^2)*y^10 + 15*(x^6 - x^4)*y^8 - 20*(x^8 - x^6)*y^6 + 15*(x^10 - x^8)*y^4 - 6*(x^12 - x^10)*y^2))"
      ]
     },
     "execution_count": 14,
     "metadata": {},
     "output_type": "execute_result"
    }
   ],
   "source": [
    "from sage.manifolds.utilities import simplify_chain_real\n",
    "mdetg = - gam.determinant().expr()\n",
    "smdetg = sqrt(mdetg)\n",
    "smdetg"
   ]
  },
  {
   "cell_type": "code",
   "execution_count": 15,
   "metadata": {
    "collapsed": false
   },
   "outputs": [
    {
     "data": {
      "text/html": [
       "<html><script type=\"math/tex; mode=display\">\\newcommand{\\Bold}[1]{\\mathbf{#1}}\\frac{1}{1000} \\, \\sqrt{-\\frac{x^{18} + 60 \\, x^{17} + 331776 \\, {\\left(x^{2} - 1\\right)} y^{16} + 1599 \\, x^{16} + 25880 \\, x^{15} + 110592 \\, {\\left(x^{4} + 15 \\, x^{3} + 99 \\, x^{2} + 485 \\, x + 1200\\right)} y^{14} + 266700 \\, x^{14} + 1555560 \\, x^{13} - 9216 \\, {\\left(17 \\, x^{6} + 60 \\, x^{5} - 417 \\, x^{4} - 3040 \\, x^{3} - 13425 \\, x^{2} - 31020 \\, x - 16975\\right)} y^{12} + 3533300 \\, x^{12} - 4005000 \\, x^{11} + 9216 \\, {\\left(9 \\, x^{8} - 60 \\, x^{7} - 509 \\, x^{6} - 2430 \\, x^{5} - 9525 \\, x^{4} - 24260 \\, x^{3} - 71775 \\, x^{2} - 227250 \\, x - 290600\\right)} y^{10} - 17787450 \\, x^{10} - 18420000 \\, x^{9} + 5760 \\, {\\left(7 \\, x^{10} + 90 \\, x^{9} + 473 \\, x^{8} + 2460 \\, x^{7} + 10050 \\, x^{6} + 15200 \\, x^{5} + 53790 \\, x^{4} + 120900 \\, x^{3} + 198455 \\, x^{2} + 741350 \\, x + 1103625\\right)} y^{8} + 15656250 \\, x^{8} + 31485000 \\, x^{7} - 192 \\, {\\left(143 \\, x^{12} + 675 \\, x^{11} - 1043 \\, x^{10} - 7575 \\, x^{9} - 52650 \\, x^{8} - 224850 \\, x^{7} - 156150 \\, x^{6} + 1001250 \\, x^{5} + 3726075 \\, x^{4} + 6217375 \\, x^{3} + 4145625 \\, x^{2} + 19413125 \\, x + 33330000\\right)} y^{6} + 3527500 \\, x^{6} + 12975000 \\, x^{5} + 96 \\, {\\left(93 \\, x^{14} - 105 \\, x^{13} - 1693 \\, x^{12} - 13470 \\, x^{11} - 99575 \\, x^{10} - 222675 \\, x^{9} - 149025 \\, x^{8} - 1024500 \\, x^{7} - 2270025 \\, x^{6} + 2366625 \\, x^{5} + 9545625 \\, x^{4} + 11931250 \\, x^{3} + 451875 \\, x^{2} + 11346875 \\, x + 28273125\\right)} y^{4} + 80032500 \\, x^{4} + 102025000 \\, x^{3} + 192 \\, {\\left(x^{16} + 30 \\, x^{15} + 399 \\, x^{14} + 3955 \\, x^{13} + 19950 \\, x^{12} + 3765 \\, x^{11} + 19850 \\, x^{10} + 197000 \\, x^{9} + 47025 \\, x^{8} + 77000 \\, x^{7} + 646875 \\, x^{6} - 598125 \\, x^{5} - 2642500 \\, x^{4} - 2896875 \\, x^{3} + 1117500 \\, x^{2} + 1581250 \\, x - 687500\\right)} y^{2} - 78609375 \\, x^{2} - 180937500 \\, x - 150390625}{x^{14} + {\\left(x^{2} - 1\\right)} y^{12} - x^{12} - 6 \\, {\\left(x^{4} - x^{2}\\right)} y^{10} + 15 \\, {\\left(x^{6} - x^{4}\\right)} y^{8} - 20 \\, {\\left(x^{8} - x^{6}\\right)} y^{6} + 15 \\, {\\left(x^{10} - x^{8}\\right)} y^{4} - 6 \\, {\\left(x^{12} - x^{10}\\right)} y^{2}}}</script></html>"
      ],
      "text/plain": [
       "1/1000*sqrt(-(x^18 + 60*x^17 + 331776*(x^2 - 1)*y^16 + 1599*x^16 + 25880*x^15 + 110592*(x^4 + 15*x^3 + 99*x^2 + 485*x + 1200)*y^14 + 266700*x^14 + 1555560*x^13 - 9216*(17*x^6 + 60*x^5 - 417*x^4 - 3040*x^3 - 13425*x^2 - 31020*x - 16975)*y^12 + 3533300*x^12 - 4005000*x^11 + 9216*(9*x^8 - 60*x^7 - 509*x^6 - 2430*x^5 - 9525*x^4 - 24260*x^3 - 71775*x^2 - 227250*x - 290600)*y^10 - 17787450*x^10 - 18420000*x^9 + 5760*(7*x^10 + 90*x^9 + 473*x^8 + 2460*x^7 + 10050*x^6 + 15200*x^5 + 53790*x^4 + 120900*x^3 + 198455*x^2 + 741350*x + 1103625)*y^8 + 15656250*x^8 + 31485000*x^7 - 192*(143*x^12 + 675*x^11 - 1043*x^10 - 7575*x^9 - 52650*x^8 - 224850*x^7 - 156150*x^6 + 1001250*x^5 + 3726075*x^4 + 6217375*x^3 + 4145625*x^2 + 19413125*x + 33330000)*y^6 + 3527500*x^6 + 12975000*x^5 + 96*(93*x^14 - 105*x^13 - 1693*x^12 - 13470*x^11 - 99575*x^10 - 222675*x^9 - 149025*x^8 - 1024500*x^7 - 2270025*x^6 + 2366625*x^5 + 9545625*x^4 + 11931250*x^3 + 451875*x^2 + 11346875*x + 28273125)*y^4 + 80032500*x^4 + 102025000*x^3 + 192*(x^16 + 30*x^15 + 399*x^14 + 3955*x^13 + 19950*x^12 + 3765*x^11 + 19850*x^10 + 197000*x^9 + 47025*x^8 + 77000*x^7 + 646875*x^6 - 598125*x^5 - 2642500*x^4 - 2896875*x^3 + 1117500*x^2 + 1581250*x - 687500)*y^2 - 78609375*x^2 - 180937500*x - 150390625)/(x^14 + (x^2 - 1)*y^12 - x^12 - 6*(x^4 - x^2)*y^10 + 15*(x^6 - x^4)*y^8 - 20*(x^8 - x^6)*y^6 + 15*(x^10 - x^8)*y^4 - 6*(x^12 - x^10)*y^2))"
      ]
     },
     "execution_count": 15,
     "metadata": {},
     "output_type": "execute_result"
    }
   ],
   "source": [
    "expr = smdetg\n",
    "expr = expr.simplify_factorial()\n",
    "expr = expr.simplify_trig()\n",
    "expr = expr.simplify_rational()\n",
    "expr\n",
    "#simplify_chain_real(smdetg)"
   ]
  },
  {
   "cell_type": "code",
   "execution_count": 16,
   "metadata": {
    "collapsed": true
   },
   "outputs": [],
   "source": [
    "from sage.manifolds.utilities import simplify_sqrt_real\n",
    "expr = simplify_sqrt_real(expr)"
   ]
  },
  {
   "cell_type": "code",
   "execution_count": 17,
   "metadata": {
    "collapsed": false
   },
   "outputs": [
    {
     "name": "stdout",
     "output_type": "stream",
     "text": [
      "1/1000*sqrt(-x^10 - 40*x^9 - 576*(x^2 - 1)*y^8 - 699*x^8 - 7920*x^7 - 96*(x^4 + 20*x^3 + 174*x^2 + 980*x + 2425)*y^6 - 39450*x^6 + 960*x^5 + 48*(3*x^6 + 20*x^5 - 3*x^4 + 40*x^3 + 925*x^2 + 5940*x + 14675)*y^4 + 39450*x^4 + 6000*x^3 - 96*(x^8 - x^6 + 20*x^5 - 20*x^3 + 375*x^2 + 3000*x + 7425)*y^2 + 9675*x^2 + 97000*x + 240625)*sqrt(x^8 + 576*y^8 + 20*x^7 + 96*(x^2 + 10*x + 25)*y^6 + 100*x^6 - 20*x^5 - 48*(3*x^4 + 10*x^3 + 30*x + 125)*y^4 - 250*x^4 - 500*x^3 + 96*(x^6 + 10*x^3 + 25)*y^2 + 100*x^2 + 500*x + 625)/(sqrt(x + 1)*sqrt(x - 1)*abs(-x^6 + 3*x^4*y^2 - 3*x^2*y^4 + y^6))\n"
     ]
    }
   ],
   "source": [
    "print(expr)"
   ]
  },
  {
   "cell_type": "code",
   "execution_count": 18,
   "metadata": {
    "collapsed": false
   },
   "outputs": [
    {
     "data": {
      "text/html": [
       "<html><script type=\"math/tex; mode=display\">\\newcommand{\\Bold}[1]{\\mathbf{#1}}\\frac{\\sqrt{x^{10} + 40 \\, x^{9} + 576 \\, {\\left(x^{2} - 1\\right)} y^{8} + 699 \\, x^{8} + 7920 \\, x^{7} + 96 \\, {\\left(x^{4} + 20 \\, x^{3} + 174 \\, x^{2} + 980 \\, x + 2425\\right)} y^{6} + 39450 \\, x^{6} - 960 \\, x^{5} - 48 \\, {\\left(3 \\, x^{6} + 20 \\, x^{5} - 3 \\, x^{4} + 40 \\, x^{3} + 925 \\, x^{2} + 5940 \\, x + 14675\\right)} y^{4} - 39450 \\, x^{4} - 6000 \\, x^{3} + 96 \\, {\\left(x^{8} - x^{6} + 20 \\, x^{5} - 20 \\, x^{3} + 375 \\, x^{2} + 3000 \\, x + 7425\\right)} y^{2} - 9675 \\, x^{2} - 97000 \\, x - 240625} \\sqrt{x^{8} + 576 \\, y^{8} + 20 \\, x^{7} + 96 \\, {\\left(x^{2} + 10 \\, x + 25\\right)} y^{6} + 100 \\, x^{6} - 20 \\, x^{5} - 48 \\, {\\left(3 \\, x^{4} + 10 \\, x^{3} + 30 \\, x + 125\\right)} y^{4} - 250 \\, x^{4} - 500 \\, x^{3} + 96 \\, {\\left(x^{6} + 10 \\, x^{3} + 25\\right)} y^{2} + 100 \\, x^{2} + 500 \\, x + 625}}{1000 \\, \\sqrt{x + 1} \\sqrt{x - 1} {\\left| -x^{6} + 3 \\, x^{4} y^{2} - 3 \\, x^{2} y^{4} + y^{6} \\right|}}</script></html>"
      ],
      "text/plain": [
       "1/1000*sqrt(x^10 + 40*x^9 + 576*(x^2 - 1)*y^8 + 699*x^8 + 7920*x^7 + 96*(x^4 + 20*x^3 + 174*x^2 + 980*x + 2425)*y^6 + 39450*x^6 - 960*x^5 - 48*(3*x^6 + 20*x^5 - 3*x^4 + 40*x^3 + 925*x^2 + 5940*x + 14675)*y^4 - 39450*x^4 - 6000*x^3 + 96*(x^8 - x^6 + 20*x^5 - 20*x^3 + 375*x^2 + 3000*x + 7425)*y^2 - 9675*x^2 - 97000*x - 240625)*sqrt(x^8 + 576*y^8 + 20*x^7 + 96*(x^2 + 10*x + 25)*y^6 + 100*x^6 - 20*x^5 - 48*(3*x^4 + 10*x^3 + 30*x + 125)*y^4 - 250*x^4 - 500*x^3 + 96*(x^6 + 10*x^3 + 25)*y^2 + 100*x^2 + 500*x + 625)/(sqrt(x + 1)*sqrt(x - 1)*abs(-x^6 + 3*x^4*y^2 - 3*x^2*y^4 + y^6))"
      ]
     },
     "execution_count": 18,
     "metadata": {},
     "output_type": "execute_result"
    }
   ],
   "source": [
    "gam.sqrt_abs_det().expr()"
   ]
  },
  {
   "cell_type": "code",
   "execution_count": 19,
   "metadata": {
    "collapsed": false
   },
   "outputs": [
    {
     "name": "stdout",
     "output_type": "stream",
     "text": [
      "3-form eps_gam on the 3-dimensional differentiable manifold Sigma\n"
     ]
    }
   ],
   "source": [
    "print(gam.volume_form())"
   ]
  },
  {
   "cell_type": "markdown",
   "metadata": {},
   "source": [
    "<h3>Lapse function and shift vector</h3>"
   ]
  },
  {
   "cell_type": "code",
   "execution_count": 20,
   "metadata": {
    "collapsed": false
   },
   "outputs": [
    {
     "data": {
      "text/html": [
       "<html><script type=\"math/tex; mode=display\">\\newcommand{\\Bold}[1]{\\mathbf{#1}}\\frac{x^{10} + 20 \\, x^{9} + 576 \\, {\\left(x^{2} - 1\\right)} y^{8} + 99 \\, x^{8} - 40 \\, x^{7} + 96 \\, {\\left(x^{4} + 10 \\, x^{3} + 24 \\, x^{2} - 10 \\, x - 25\\right)} y^{6} - 350 \\, x^{6} - 480 \\, x^{5} - 48 \\, {\\left(3 \\, x^{6} + 10 \\, x^{5} - 3 \\, x^{4} + 20 \\, x^{3} + 125 \\, x^{2} - 30 \\, x - 125\\right)} y^{4} + 350 \\, x^{4} + 1000 \\, x^{3} + 96 \\, {\\left(x^{8} - x^{6} + 10 \\, x^{5} - 10 \\, x^{3} + 25 \\, x^{2} - 25\\right)} y^{2} + 525 \\, x^{2} - 500 \\, x - 625}{x^{10} + 40 \\, x^{9} + 576 \\, {\\left(x^{2} - 1\\right)} y^{8} + 699 \\, x^{8} + 7920 \\, x^{7} + 96 \\, {\\left(x^{4} + 20 \\, x^{3} + 174 \\, x^{2} + 980 \\, x + 2425\\right)} y^{6} + 39450 \\, x^{6} - 960 \\, x^{5} - 48 \\, {\\left(3 \\, x^{6} + 20 \\, x^{5} - 3 \\, x^{4} + 40 \\, x^{3} + 925 \\, x^{2} + 5940 \\, x + 14675\\right)} y^{4} - 39450 \\, x^{4} - 6000 \\, x^{3} + 96 \\, {\\left(x^{8} - x^{6} + 20 \\, x^{5} - 20 \\, x^{3} + 375 \\, x^{2} + 3000 \\, x + 7425\\right)} y^{2} - 9675 \\, x^{2} - 97000 \\, x - 240625}</script></html>"
      ],
      "text/plain": [
       "(x^10 + 20*x^9 + 576*(x^2 - 1)*y^8 + 99*x^8 - 40*x^7 + 96*(x^4 + 10*x^3 + 24*x^2 - 10*x - 25)*y^6 - 350*x^6 - 480*x^5 - 48*(3*x^6 + 10*x^5 - 3*x^4 + 20*x^3 + 125*x^2 - 30*x - 125)*y^4 + 350*x^4 + 1000*x^3 + 96*(x^8 - x^6 + 10*x^5 - 10*x^3 + 25*x^2 - 25)*y^2 + 525*x^2 - 500*x - 625)/(x^10 + 40*x^9 + 576*(x^2 - 1)*y^8 + 699*x^8 + 7920*x^7 + 96*(x^4 + 20*x^3 + 174*x^2 + 980*x + 2425)*y^6 + 39450*x^6 - 960*x^5 - 48*(3*x^6 + 20*x^5 - 3*x^4 + 40*x^3 + 925*x^2 + 5940*x + 14675)*y^4 - 39450*x^4 - 6000*x^3 + 96*(x^8 - x^6 + 20*x^5 - 20*x^3 + 375*x^2 + 3000*x + 7425)*y^2 - 9675*x^2 - 97000*x - 240625)"
      ]
     },
     "execution_count": 20,
     "metadata": {},
     "output_type": "execute_result"
    }
   ],
   "source": [
    "N2 = AA2/BB2 - 2*m*q*CC2*(y^2-1)/BB2*(2*m*q*CC2*(y^2-1)/(BB2*(m^2*(y^2-1)*(p^2*BB2^2*(x^2-1)+4*q^2*d^2*CC2^2*(y^2-1))/(AA2*BB2*d^2))))\n",
    "N2.simplify_full()"
   ]
  },
  {
   "cell_type": "code",
   "execution_count": 21,
   "metadata": {
    "collapsed": false
   },
   "outputs": [
    {
     "name": "stdout",
     "output_type": "stream",
     "text": [
      "Scalar field N on the 3-dimensional differentiable manifold Sigma\n"
     ]
    },
    {
     "data": {
      "text/html": [
       "<html><script type=\"math/tex; mode=display\">\\newcommand{\\Bold}[1]{\\mathbf{#1}}\\begin{array}{llcl} N:& \\Sigma & \\longrightarrow & \\mathbb{R} \\\\ & \\left(x, y, {\\phi}\\right) & \\longmapsto & \\sqrt{\\frac{x^{10} + 20 \\, x^{9} + 576 \\, {\\left(x^{2} - 1\\right)} y^{8} + 99 \\, x^{8} - 40 \\, x^{7} + 96 \\, {\\left(x^{4} + 10 \\, x^{3} + 24 \\, x^{2} - 10 \\, x - 25\\right)} y^{6} - 350 \\, x^{6} - 480 \\, x^{5} - 48 \\, {\\left(3 \\, x^{6} + 10 \\, x^{5} - 3 \\, x^{4} + 20 \\, x^{3} + 125 \\, x^{2} - 30 \\, x - 125\\right)} y^{4} + 350 \\, x^{4} + 1000 \\, x^{3} + 96 \\, {\\left(x^{8} - x^{6} + 10 \\, x^{5} - 10 \\, x^{3} + 25 \\, x^{2} - 25\\right)} y^{2} + 525 \\, x^{2} - 500 \\, x - 625}{x^{10} + 40 \\, x^{9} + 576 \\, {\\left(x^{2} - 1\\right)} y^{8} + 699 \\, x^{8} + 7920 \\, x^{7} + 96 \\, {\\left(x^{4} + 20 \\, x^{3} + 174 \\, x^{2} + 980 \\, x + 2425\\right)} y^{6} + 39450 \\, x^{6} - 960 \\, x^{5} - 48 \\, {\\left(3 \\, x^{6} + 20 \\, x^{5} - 3 \\, x^{4} + 40 \\, x^{3} + 925 \\, x^{2} + 5940 \\, x + 14675\\right)} y^{4} - 39450 \\, x^{4} - 6000 \\, x^{3} + 96 \\, {\\left(x^{8} - x^{6} + 20 \\, x^{5} - 20 \\, x^{3} + 375 \\, x^{2} + 3000 \\, x + 7425\\right)} y^{2} - 9675 \\, x^{2} - 97000 \\, x - 240625}} \\end{array}</script></html>"
      ],
      "text/plain": [
       "N: Sigma --> R\n",
       "   (x, y, ph) |--> sqrt((x^10 + 20*x^9 + 576*(x^2 - 1)*y^8 + 99*x^8 - 40*x^7 + 96*(x^4 + 10*x^3 + 24*x^2 - 10*x - 25)*y^6 - 350*x^6 - 480*x^5 - 48*(3*x^6 + 10*x^5 - 3*x^4 + 20*x^3 + 125*x^2 - 30*x - 125)*y^4 + 350*x^4 + 1000*x^3 + 96*(x^8 - x^6 + 10*x^5 - 10*x^3 + 25*x^2 - 25)*y^2 + 525*x^2 - 500*x - 625)/(x^10 + 40*x^9 + 576*(x^2 - 1)*y^8 + 699*x^8 + 7920*x^7 + 96*(x^4 + 20*x^3 + 174*x^2 + 980*x + 2425)*y^6 + 39450*x^6 - 960*x^5 - 48*(3*x^6 + 20*x^5 - 3*x^4 + 40*x^3 + 925*x^2 + 5940*x + 14675)*y^4 - 39450*x^4 - 6000*x^3 + 96*(x^8 - x^6 + 20*x^5 - 20*x^3 + 375*x^2 + 3000*x + 7425)*y^2 - 9675*x^2 - 97000*x - 240625))"
      ]
     },
     "execution_count": 21,
     "metadata": {},
     "output_type": "execute_result"
    }
   ],
   "source": [
    "N = Sig.scalar_field(sqrt(N2.simplify_full()), name='N')\n",
    "print N\n",
    "N.display()"
   ]
  },
  {
   "cell_type": "markdown",
   "metadata": {},
   "source": [
    "The coordinate expression of the scalar field $N$:"
   ]
  },
  {
   "cell_type": "code",
   "execution_count": 22,
   "metadata": {
    "collapsed": false
   },
   "outputs": [
    {
     "data": {
      "text/html": [
       "<html><script type=\"math/tex; mode=display\">\\newcommand{\\Bold}[1]{\\mathbf{#1}}\\sqrt{\\frac{x^{10} + 20 \\, x^{9} + 576 \\, {\\left(x^{2} - 1\\right)} y^{8} + 99 \\, x^{8} - 40 \\, x^{7} + 96 \\, {\\left(x^{4} + 10 \\, x^{3} + 24 \\, x^{2} - 10 \\, x - 25\\right)} y^{6} - 350 \\, x^{6} - 480 \\, x^{5} - 48 \\, {\\left(3 \\, x^{6} + 10 \\, x^{5} - 3 \\, x^{4} + 20 \\, x^{3} + 125 \\, x^{2} - 30 \\, x - 125\\right)} y^{4} + 350 \\, x^{4} + 1000 \\, x^{3} + 96 \\, {\\left(x^{8} - x^{6} + 10 \\, x^{5} - 10 \\, x^{3} + 25 \\, x^{2} - 25\\right)} y^{2} + 525 \\, x^{2} - 500 \\, x - 625}{x^{10} + 40 \\, x^{9} + 576 \\, {\\left(x^{2} - 1\\right)} y^{8} + 699 \\, x^{8} + 7920 \\, x^{7} + 96 \\, {\\left(x^{4} + 20 \\, x^{3} + 174 \\, x^{2} + 980 \\, x + 2425\\right)} y^{6} + 39450 \\, x^{6} - 960 \\, x^{5} - 48 \\, {\\left(3 \\, x^{6} + 20 \\, x^{5} - 3 \\, x^{4} + 40 \\, x^{3} + 925 \\, x^{2} + 5940 \\, x + 14675\\right)} y^{4} - 39450 \\, x^{4} - 6000 \\, x^{3} + 96 \\, {\\left(x^{8} - x^{6} + 20 \\, x^{5} - 20 \\, x^{3} + 375 \\, x^{2} + 3000 \\, x + 7425\\right)} y^{2} - 9675 \\, x^{2} - 97000 \\, x - 240625}}</script></html>"
      ],
      "text/plain": [
       "sqrt((x^10 + 20*x^9 + 576*(x^2 - 1)*y^8 + 99*x^8 - 40*x^7 + 96*(x^4 + 10*x^3 + 24*x^2 - 10*x - 25)*y^6 - 350*x^6 - 480*x^5 - 48*(3*x^6 + 10*x^5 - 3*x^4 + 20*x^3 + 125*x^2 - 30*x - 125)*y^4 + 350*x^4 + 1000*x^3 + 96*(x^8 - x^6 + 10*x^5 - 10*x^3 + 25*x^2 - 25)*y^2 + 525*x^2 - 500*x - 625)/(x^10 + 40*x^9 + 576*(x^2 - 1)*y^8 + 699*x^8 + 7920*x^7 + 96*(x^4 + 20*x^3 + 174*x^2 + 980*x + 2425)*y^6 + 39450*x^6 - 960*x^5 - 48*(3*x^6 + 20*x^5 - 3*x^4 + 40*x^3 + 925*x^2 + 5940*x + 14675)*y^4 - 39450*x^4 - 6000*x^3 + 96*(x^8 - x^6 + 20*x^5 - 20*x^3 + 375*x^2 + 3000*x + 7425)*y^2 - 9675*x^2 - 97000*x - 240625))"
      ]
     },
     "execution_count": 22,
     "metadata": {},
     "output_type": "execute_result"
    }
   ],
   "source": [
    "N.expr()"
   ]
  },
  {
   "cell_type": "code",
   "execution_count": 23,
   "metadata": {
    "collapsed": false
   },
   "outputs": [
    {
     "data": {
      "text/html": [
       "<html><script type=\"math/tex; mode=display\">\\newcommand{\\Bold}[1]{\\mathbf{#1}}\\begin{array}{lcl} \\beta_{\\phantom{\\, x}}^{ \\, x } & = & 0 \\\\ \\beta_{\\phantom{\\, y}}^{ \\, y } & = & 0 \\\\ \\beta_{\\phantom{\\, {\\phi}}}^{ \\, {\\phi} } & = & -\\frac{400 \\, {\\left(2 \\, \\sqrt{6} x^{7} + 24 \\, {\\left(\\sqrt{6} x + 5 \\, \\sqrt{6}\\right)} y^{6} + 20 \\, \\sqrt{6} x^{6} - \\sqrt{6} x^{5} - 72 \\, {\\left(\\sqrt{6} x + 5 \\, \\sqrt{6}\\right)} y^{4} - 25 \\, \\sqrt{6} x^{4} - {\\left(\\sqrt{6} x^{5} + 15 \\, \\sqrt{6} x^{4} + 2 \\, \\sqrt{6} x^{3} - 10 \\, \\sqrt{6} x^{2} - 75 \\, \\sqrt{6} x - 365 \\, \\sqrt{6}\\right)} y^{2} + 10 \\, \\sqrt{6} x^{2} - 25 \\, \\sqrt{6} x - 125 \\, \\sqrt{6}\\right)}}{x^{10} + 40 \\, x^{9} + 576 \\, {\\left(x^{2} - 1\\right)} y^{8} + 699 \\, x^{8} + 7920 \\, x^{7} + 96 \\, {\\left(x^{4} + 20 \\, x^{3} + 174 \\, x^{2} + 980 \\, x + 2425\\right)} y^{6} + 39450 \\, x^{6} - 960 \\, x^{5} - 48 \\, {\\left(3 \\, x^{6} + 20 \\, x^{5} - 3 \\, x^{4} + 40 \\, x^{3} + 925 \\, x^{2} + 5940 \\, x + 14675\\right)} y^{4} - 39450 \\, x^{4} - 6000 \\, x^{3} + 96 \\, {\\left(x^{8} - x^{6} + 20 \\, x^{5} - 20 \\, x^{3} + 375 \\, x^{2} + 3000 \\, x + 7425\\right)} y^{2} - 9675 \\, x^{2} - 97000 \\, x - 240625} \\end{array}</script></html>"
      ],
      "text/plain": [
       "beta^x = 0 \n",
       "beta^y = 0 \n",
       "beta^ph = -400*(2*sqrt(6)*x^7 + 24*(sqrt(6)*x + 5*sqrt(6))*y^6 + 20*sqrt(6)*x^6 - sqrt(6)*x^5 - 72*(sqrt(6)*x + 5*sqrt(6))*y^4 - 25*sqrt(6)*x^4 - (sqrt(6)*x^5 + 15*sqrt(6)*x^4 + 2*sqrt(6)*x^3 - 10*sqrt(6)*x^2 - 75*sqrt(6)*x - 365*sqrt(6))*y^2 + 10*sqrt(6)*x^2 - 25*sqrt(6)*x - 125*sqrt(6))/(x^10 + 40*x^9 + 576*(x^2 - 1)*y^8 + 699*x^8 + 7920*x^7 + 96*(x^4 + 20*x^3 + 174*x^2 + 980*x + 2425)*y^6 + 39450*x^6 - 960*x^5 - 48*(3*x^6 + 20*x^5 - 3*x^4 + 40*x^3 + 925*x^2 + 5940*x + 14675)*y^4 - 39450*x^4 - 6000*x^3 + 96*(x^8 - x^6 + 20*x^5 - 20*x^3 + 375*x^2 + 3000*x + 7425)*y^2 - 9675*x^2 - 97000*x - 240625) "
      ]
     },
     "execution_count": 23,
     "metadata": {},
     "output_type": "execute_result"
    }
   ],
   "source": [
    "b3 = 2*m*q*CC2*(y^2-1)/(BB2*(m^2*(y^2-1)*(p^2*BB2^2*(x^2-1)+4*q^2*d^2*CC2^2*(y^2-1))/(AA2*BB2*d^2)))\n",
    "b = Sig.vector_field('beta', latex_name=r'\\beta') \n",
    "b[3] = b3.simplify_full()\n",
    "# unset components are zero \n",
    "b.display_comp(only_nonzero=False)"
   ]
  },
  {
   "cell_type": "markdown",
   "metadata": {},
   "source": [
    "<h3>Extrinsic curvature of $\\Sigma$</h3>\n",
    "<p>We use the formula $$K_{ij} = \\frac{1}{2N} \\mathcal{L}_{\\beta} \\gamma_{ij}, $$ which is valid for any stationary spacetime:</p>"
   ]
  },
  {
   "cell_type": "code",
   "execution_count": 24,
   "metadata": {
    "collapsed": false
   },
   "outputs": [
    {
     "name": "stdout",
     "output_type": "stream",
     "text": [
      "Field of symmetric bilinear forms K on the 3-dimensional differentiable manifold Sigma\n"
     ]
    }
   ],
   "source": [
    "K = gam.lie_derivative(b) / (2*N)\n",
    "K.set_name('K')\n",
    "print K"
   ]
  },
  {
   "cell_type": "markdown",
   "metadata": {},
   "source": [
    "<p>The component $K_{13} = K_{x\\phi}$:</p>"
   ]
  },
  {
   "cell_type": "code",
   "execution_count": 25,
   "metadata": {
    "collapsed": false
   },
   "outputs": [
    {
     "data": {
      "text/html": [
       "<html><script type=\"math/tex; mode=display\">\\newcommand{\\Bold}[1]{\\mathbf{#1}}\\frac{2 \\, {\\left(6 \\, \\sqrt{3} \\sqrt{2} x^{16} - 13824 \\, {\\left(\\sqrt{3} \\sqrt{2} x^{2} + 10 \\, \\sqrt{3} \\sqrt{2} x + \\sqrt{3} \\sqrt{2}\\right)} y^{16} + 240 \\, \\sqrt{3} \\sqrt{2} x^{15} + 3793 \\, \\sqrt{3} \\sqrt{2} x^{14} - 6912 \\, {\\left(\\sqrt{3} \\sqrt{2} x^{4} + 20 \\, \\sqrt{3} \\sqrt{2} x^{3} + 150 \\, \\sqrt{3} \\sqrt{2} x^{2} + 500 \\, \\sqrt{3} \\sqrt{2} x + 817 \\, \\sqrt{3} \\sqrt{2}\\right)} y^{14} + 27650 \\, \\sqrt{3} \\sqrt{2} x^{13} + 72403 \\, \\sqrt{3} \\sqrt{2} x^{12} + 576 \\, {\\left(27 \\, \\sqrt{3} \\sqrt{2} x^{6} + 310 \\, \\sqrt{3} \\sqrt{2} x^{5} + 1033 \\, \\sqrt{3} \\sqrt{2} x^{4} + 1060 \\, \\sqrt{3} \\sqrt{2} x^{3} + 10493 \\, \\sqrt{3} \\sqrt{2} x^{2} + 44870 \\, \\sqrt{3} \\sqrt{2} x + 69503 \\, \\sqrt{3} \\sqrt{2}\\right)} y^{12} - 81820 \\, \\sqrt{3} \\sqrt{2} x^{11} - 374975 \\, \\sqrt{3} \\sqrt{2} x^{10} - 96 \\, {\\left(109 \\, \\sqrt{3} \\sqrt{2} x^{8} + 520 \\, \\sqrt{3} \\sqrt{2} x^{7} + 1504 \\, \\sqrt{3} \\sqrt{2} x^{6} + 19360 \\, \\sqrt{3} \\sqrt{2} x^{5} + 92770 \\, \\sqrt{3} \\sqrt{2} x^{4} + 157960 \\, \\sqrt{3} \\sqrt{2} x^{3} + 148264 \\, \\sqrt{3} \\sqrt{2} x^{2} + 731920 \\, \\sqrt{3} \\sqrt{2} x + 1256425 \\, \\sqrt{3} \\sqrt{2}\\right)} y^{10} - 313810 \\, \\sqrt{3} \\sqrt{2} x^{9} + 669975 \\, \\sqrt{3} \\sqrt{2} x^{8} + 24 \\, {\\left(9 \\, \\sqrt{3} \\sqrt{2} x^{10} + 250 \\, \\sqrt{3} \\sqrt{2} x^{9} + 6873 \\, \\sqrt{3} \\sqrt{2} x^{8} + 40920 \\, \\sqrt{3} \\sqrt{2} x^{7} + 63402 \\, \\sqrt{3} \\sqrt{2} x^{6} + 146220 \\, \\sqrt{3} \\sqrt{2} x^{5} + 1047426 \\, \\sqrt{3} \\sqrt{2} x^{4} + 2249400 \\, \\sqrt{3} \\sqrt{2} x^{3} + 876525 \\, \\sqrt{3} \\sqrt{2} x^{2} + 4308810 \\, \\sqrt{3} \\sqrt{2} x + 8401925 \\, \\sqrt{3} \\sqrt{2}\\right)} y^{8} + 1617000 \\, \\sqrt{3} \\sqrt{2} x^{7} + 999675 \\, \\sqrt{3} \\sqrt{2} x^{6} + 96 \\, {\\left(20 \\, \\sqrt{3} \\sqrt{2} x^{11} - 179 \\, \\sqrt{3} \\sqrt{2} x^{10} - 50 \\, \\sqrt{3} \\sqrt{2} x^{9} - 2897 \\, \\sqrt{3} \\sqrt{2} x^{8} - 28400 \\, \\sqrt{3} \\sqrt{2} x^{7} - 57446 \\, \\sqrt{3} \\sqrt{2} x^{6} - 9020 \\, \\sqrt{3} \\sqrt{2} x^{5} - 237650 \\, \\sqrt{3} \\sqrt{2} x^{4} - 731060 \\, \\sqrt{3} \\sqrt{2} x^{3} - 267175 \\, \\sqrt{3} \\sqrt{2} x^{2} - 1037250 \\, \\sqrt{3} \\sqrt{2} x - 2111325 \\, \\sqrt{3} \\sqrt{2}\\right)} y^{6} - 2277250 \\, \\sqrt{3} \\sqrt{2} x^{5} - 4979375 \\, \\sqrt{3} \\sqrt{2} x^{4} - {\\left(187 \\, \\sqrt{3} \\sqrt{2} x^{14} + 3590 \\, \\sqrt{3} \\sqrt{2} x^{13} - 5207 \\, \\sqrt{3} \\sqrt{2} x^{12} - 73540 \\, \\sqrt{3} \\sqrt{2} x^{11} - 454637 \\, \\sqrt{3} \\sqrt{2} x^{10} - 1150150 \\, \\sqrt{3} \\sqrt{2} x^{9} + 199401 \\, \\sqrt{3} \\sqrt{2} x^{8} - 1059000 \\, \\sqrt{3} \\sqrt{2} x^{7} - 7811175 \\, \\sqrt{3} \\sqrt{2} x^{6} + 2899610 \\, \\sqrt{3} \\sqrt{2} x^{5} + 1675075 \\, \\sqrt{3} \\sqrt{2} x^{4} - 32834500 \\, \\sqrt{3} \\sqrt{2} x^{3} - 24681575 \\, \\sqrt{3} \\sqrt{2} x^{2} - 69684250 \\, \\sqrt{3} \\sqrt{2} x - 122823125 \\, \\sqrt{3} \\sqrt{2}\\right)} y^{4} - 4037500 \\, \\sqrt{3} \\sqrt{2} x^{3} + 3461875 \\, \\sqrt{3} \\sqrt{2} x^{2} - 6 \\, {\\left(\\sqrt{3} \\sqrt{2} x^{16} + 40 \\, \\sqrt{3} \\sqrt{2} x^{15} + 601 \\, \\sqrt{3} \\sqrt{2} x^{14} + 4010 \\, \\sqrt{3} \\sqrt{2} x^{13} + 12935 \\, \\sqrt{3} \\sqrt{2} x^{12} - 1060 \\, \\sqrt{3} \\sqrt{2} x^{11} + 10449 \\, \\sqrt{3} \\sqrt{2} x^{10} + 139590 \\, \\sqrt{3} \\sqrt{2} x^{9} + 57825 \\, \\sqrt{3} \\sqrt{2} x^{8} + 146960 \\, \\sqrt{3} \\sqrt{2} x^{7} + 781475 \\, \\sqrt{3} \\sqrt{2} x^{6} - 702250 \\, \\sqrt{3} \\sqrt{2} x^{5} - 2108075 \\, \\sqrt{3} \\sqrt{2} x^{4} - 348500 \\, \\sqrt{3} \\sqrt{2} x^{3} + 2381875 \\, \\sqrt{3} \\sqrt{2} x^{2} + 5456250 \\, \\sqrt{3} \\sqrt{2} x + 6941250 \\, \\sqrt{3} \\sqrt{2}\\right)} y^{2} + 7231250 \\, \\sqrt{3} \\sqrt{2} x + 6109375 \\, \\sqrt{3} \\sqrt{2}\\right)} \\sqrt{x^{10} + 40 \\, x^{9} + 576 \\, {\\left(x^{2} - 1\\right)} y^{8} + 699 \\, x^{8} + 7920 \\, x^{7} + 96 \\, {\\left(x^{4} + 20 \\, x^{3} + 174 \\, x^{2} + 980 \\, x + 2425\\right)} y^{6} + 39450 \\, x^{6} - 960 \\, x^{5} - 48 \\, {\\left(3 \\, x^{6} + 20 \\, x^{5} - 3 \\, x^{4} + 40 \\, x^{3} + 925 \\, x^{2} + 5940 \\, x + 14675\\right)} y^{4} - 39450 \\, x^{4} - 6000 \\, x^{3} + 96 \\, {\\left(x^{8} - x^{6} + 20 \\, x^{5} - 20 \\, x^{3} + 375 \\, x^{2} + 3000 \\, x + 7425\\right)} y^{2} - 9675 \\, x^{2} - 97000 \\, x - 240625}}{{\\left(x^{18} + 60 \\, x^{17} + 331776 \\, {\\left(x^{2} - 1\\right)} y^{16} + 1599 \\, x^{16} + 25880 \\, x^{15} + 110592 \\, {\\left(x^{4} + 15 \\, x^{3} + 99 \\, x^{2} + 485 \\, x + 1200\\right)} y^{14} + 266700 \\, x^{14} + 1555560 \\, x^{13} - 9216 \\, {\\left(17 \\, x^{6} + 60 \\, x^{5} - 417 \\, x^{4} - 3040 \\, x^{3} - 13425 \\, x^{2} - 31020 \\, x - 16975\\right)} y^{12} + 3533300 \\, x^{12} - 4005000 \\, x^{11} + 9216 \\, {\\left(9 \\, x^{8} - 60 \\, x^{7} - 509 \\, x^{6} - 2430 \\, x^{5} - 9525 \\, x^{4} - 24260 \\, x^{3} - 71775 \\, x^{2} - 227250 \\, x - 290600\\right)} y^{10} - 17787450 \\, x^{10} - 18420000 \\, x^{9} + 5760 \\, {\\left(7 \\, x^{10} + 90 \\, x^{9} + 473 \\, x^{8} + 2460 \\, x^{7} + 10050 \\, x^{6} + 15200 \\, x^{5} + 53790 \\, x^{4} + 120900 \\, x^{3} + 198455 \\, x^{2} + 741350 \\, x + 1103625\\right)} y^{8} + 15656250 \\, x^{8} + 31485000 \\, x^{7} - 192 \\, {\\left(143 \\, x^{12} + 675 \\, x^{11} - 1043 \\, x^{10} - 7575 \\, x^{9} - 52650 \\, x^{8} - 224850 \\, x^{7} - 156150 \\, x^{6} + 1001250 \\, x^{5} + 3726075 \\, x^{4} + 6217375 \\, x^{3} + 4145625 \\, x^{2} + 19413125 \\, x + 33330000\\right)} y^{6} + 3527500 \\, x^{6} + 12975000 \\, x^{5} + 96 \\, {\\left(93 \\, x^{14} - 105 \\, x^{13} - 1693 \\, x^{12} - 13470 \\, x^{11} - 99575 \\, x^{10} - 222675 \\, x^{9} - 149025 \\, x^{8} - 1024500 \\, x^{7} - 2270025 \\, x^{6} + 2366625 \\, x^{5} + 9545625 \\, x^{4} + 11931250 \\, x^{3} + 451875 \\, x^{2} + 11346875 \\, x + 28273125\\right)} y^{4} + 80032500 \\, x^{4} + 102025000 \\, x^{3} + 192 \\, {\\left(x^{16} + 30 \\, x^{15} + 399 \\, x^{14} + 3955 \\, x^{13} + 19950 \\, x^{12} + 3765 \\, x^{11} + 19850 \\, x^{10} + 197000 \\, x^{9} + 47025 \\, x^{8} + 77000 \\, x^{7} + 646875 \\, x^{6} - 598125 \\, x^{5} - 2642500 \\, x^{4} - 2896875 \\, x^{3} + 1117500 \\, x^{2} + 1581250 \\, x - 687500\\right)} y^{2} - 78609375 \\, x^{2} - 180937500 \\, x - 150390625\\right)} \\sqrt{x^{8} + 576 \\, y^{8} + 20 \\, x^{7} + 96 \\, {\\left(x^{2} + 10 \\, x + 25\\right)} y^{6} + 100 \\, x^{6} - 20 \\, x^{5} - 48 \\, {\\left(3 \\, x^{4} + 10 \\, x^{3} + 30 \\, x + 125\\right)} y^{4} - 250 \\, x^{4} - 500 \\, x^{3} + 96 \\, {\\left(x^{6} + 10 \\, x^{3} + 25\\right)} y^{2} + 100 \\, x^{2} + 500 \\, x + 625} \\sqrt{x + 1} \\sqrt{x - 1}}</script></html>"
      ],
      "text/plain": [
       "2*(6*sqrt(3)*sqrt(2)*x^16 - 13824*(sqrt(3)*sqrt(2)*x^2 + 10*sqrt(3)*sqrt(2)*x + sqrt(3)*sqrt(2))*y^16 + 240*sqrt(3)*sqrt(2)*x^15 + 3793*sqrt(3)*sqrt(2)*x^14 - 6912*(sqrt(3)*sqrt(2)*x^4 + 20*sqrt(3)*sqrt(2)*x^3 + 150*sqrt(3)*sqrt(2)*x^2 + 500*sqrt(3)*sqrt(2)*x + 817*sqrt(3)*sqrt(2))*y^14 + 27650*sqrt(3)*sqrt(2)*x^13 + 72403*sqrt(3)*sqrt(2)*x^12 + 576*(27*sqrt(3)*sqrt(2)*x^6 + 310*sqrt(3)*sqrt(2)*x^5 + 1033*sqrt(3)*sqrt(2)*x^4 + 1060*sqrt(3)*sqrt(2)*x^3 + 10493*sqrt(3)*sqrt(2)*x^2 + 44870*sqrt(3)*sqrt(2)*x + 69503*sqrt(3)*sqrt(2))*y^12 - 81820*sqrt(3)*sqrt(2)*x^11 - 374975*sqrt(3)*sqrt(2)*x^10 - 96*(109*sqrt(3)*sqrt(2)*x^8 + 520*sqrt(3)*sqrt(2)*x^7 + 1504*sqrt(3)*sqrt(2)*x^6 + 19360*sqrt(3)*sqrt(2)*x^5 + 92770*sqrt(3)*sqrt(2)*x^4 + 157960*sqrt(3)*sqrt(2)*x^3 + 148264*sqrt(3)*sqrt(2)*x^2 + 731920*sqrt(3)*sqrt(2)*x + 1256425*sqrt(3)*sqrt(2))*y^10 - 313810*sqrt(3)*sqrt(2)*x^9 + 669975*sqrt(3)*sqrt(2)*x^8 + 24*(9*sqrt(3)*sqrt(2)*x^10 + 250*sqrt(3)*sqrt(2)*x^9 + 6873*sqrt(3)*sqrt(2)*x^8 + 40920*sqrt(3)*sqrt(2)*x^7 + 63402*sqrt(3)*sqrt(2)*x^6 + 146220*sqrt(3)*sqrt(2)*x^5 + 1047426*sqrt(3)*sqrt(2)*x^4 + 2249400*sqrt(3)*sqrt(2)*x^3 + 876525*sqrt(3)*sqrt(2)*x^2 + 4308810*sqrt(3)*sqrt(2)*x + 8401925*sqrt(3)*sqrt(2))*y^8 + 1617000*sqrt(3)*sqrt(2)*x^7 + 999675*sqrt(3)*sqrt(2)*x^6 + 96*(20*sqrt(3)*sqrt(2)*x^11 - 179*sqrt(3)*sqrt(2)*x^10 - 50*sqrt(3)*sqrt(2)*x^9 - 2897*sqrt(3)*sqrt(2)*x^8 - 28400*sqrt(3)*sqrt(2)*x^7 - 57446*sqrt(3)*sqrt(2)*x^6 - 9020*sqrt(3)*sqrt(2)*x^5 - 237650*sqrt(3)*sqrt(2)*x^4 - 731060*sqrt(3)*sqrt(2)*x^3 - 267175*sqrt(3)*sqrt(2)*x^2 - 1037250*sqrt(3)*sqrt(2)*x - 2111325*sqrt(3)*sqrt(2))*y^6 - 2277250*sqrt(3)*sqrt(2)*x^5 - 4979375*sqrt(3)*sqrt(2)*x^4 - (187*sqrt(3)*sqrt(2)*x^14 + 3590*sqrt(3)*sqrt(2)*x^13 - 5207*sqrt(3)*sqrt(2)*x^12 - 73540*sqrt(3)*sqrt(2)*x^11 - 454637*sqrt(3)*sqrt(2)*x^10 - 1150150*sqrt(3)*sqrt(2)*x^9 + 199401*sqrt(3)*sqrt(2)*x^8 - 1059000*sqrt(3)*sqrt(2)*x^7 - 7811175*sqrt(3)*sqrt(2)*x^6 + 2899610*sqrt(3)*sqrt(2)*x^5 + 1675075*sqrt(3)*sqrt(2)*x^4 - 32834500*sqrt(3)*sqrt(2)*x^3 - 24681575*sqrt(3)*sqrt(2)*x^2 - 69684250*sqrt(3)*sqrt(2)*x - 122823125*sqrt(3)*sqrt(2))*y^4 - 4037500*sqrt(3)*sqrt(2)*x^3 + 3461875*sqrt(3)*sqrt(2)*x^2 - 6*(sqrt(3)*sqrt(2)*x^16 + 40*sqrt(3)*sqrt(2)*x^15 + 601*sqrt(3)*sqrt(2)*x^14 + 4010*sqrt(3)*sqrt(2)*x^13 + 12935*sqrt(3)*sqrt(2)*x^12 - 1060*sqrt(3)*sqrt(2)*x^11 + 10449*sqrt(3)*sqrt(2)*x^10 + 139590*sqrt(3)*sqrt(2)*x^9 + 57825*sqrt(3)*sqrt(2)*x^8 + 146960*sqrt(3)*sqrt(2)*x^7 + 781475*sqrt(3)*sqrt(2)*x^6 - 702250*sqrt(3)*sqrt(2)*x^5 - 2108075*sqrt(3)*sqrt(2)*x^4 - 348500*sqrt(3)*sqrt(2)*x^3 + 2381875*sqrt(3)*sqrt(2)*x^2 + 5456250*sqrt(3)*sqrt(2)*x + 6941250*sqrt(3)*sqrt(2))*y^2 + 7231250*sqrt(3)*sqrt(2)*x + 6109375*sqrt(3)*sqrt(2))*sqrt(x^10 + 40*x^9 + 576*(x^2 - 1)*y^8 + 699*x^8 + 7920*x^7 + 96*(x^4 + 20*x^3 + 174*x^2 + 980*x + 2425)*y^6 + 39450*x^6 - 960*x^5 - 48*(3*x^6 + 20*x^5 - 3*x^4 + 40*x^3 + 925*x^2 + 5940*x + 14675)*y^4 - 39450*x^4 - 6000*x^3 + 96*(x^8 - x^6 + 20*x^5 - 20*x^3 + 375*x^2 + 3000*x + 7425)*y^2 - 9675*x^2 - 97000*x - 240625)/((x^18 + 60*x^17 + 331776*(x^2 - 1)*y^16 + 1599*x^16 + 25880*x^15 + 110592*(x^4 + 15*x^3 + 99*x^2 + 485*x + 1200)*y^14 + 266700*x^14 + 1555560*x^13 - 9216*(17*x^6 + 60*x^5 - 417*x^4 - 3040*x^3 - 13425*x^2 - 31020*x - 16975)*y^12 + 3533300*x^12 - 4005000*x^11 + 9216*(9*x^8 - 60*x^7 - 509*x^6 - 2430*x^5 - 9525*x^4 - 24260*x^3 - 71775*x^2 - 227250*x - 290600)*y^10 - 17787450*x^10 - 18420000*x^9 + 5760*(7*x^10 + 90*x^9 + 473*x^8 + 2460*x^7 + 10050*x^6 + 15200*x^5 + 53790*x^4 + 120900*x^3 + 198455*x^2 + 741350*x + 1103625)*y^8 + 15656250*x^8 + 31485000*x^7 - 192*(143*x^12 + 675*x^11 - 1043*x^10 - 7575*x^9 - 52650*x^8 - 224850*x^7 - 156150*x^6 + 1001250*x^5 + 3726075*x^4 + 6217375*x^3 + 4145625*x^2 + 19413125*x + 33330000)*y^6 + 3527500*x^6 + 12975000*x^5 + 96*(93*x^14 - 105*x^13 - 1693*x^12 - 13470*x^11 - 99575*x^10 - 222675*x^9 - 149025*x^8 - 1024500*x^7 - 2270025*x^6 + 2366625*x^5 + 9545625*x^4 + 11931250*x^3 + 451875*x^2 + 11346875*x + 28273125)*y^4 + 80032500*x^4 + 102025000*x^3 + 192*(x^16 + 30*x^15 + 399*x^14 + 3955*x^13 + 19950*x^12 + 3765*x^11 + 19850*x^10 + 197000*x^9 + 47025*x^8 + 77000*x^7 + 646875*x^6 - 598125*x^5 - 2642500*x^4 - 2896875*x^3 + 1117500*x^2 + 1581250*x - 687500)*y^2 - 78609375*x^2 - 180937500*x - 150390625)*sqrt(x^8 + 576*y^8 + 20*x^7 + 96*(x^2 + 10*x + 25)*y^6 + 100*x^6 - 20*x^5 - 48*(3*x^4 + 10*x^3 + 30*x + 125)*y^4 - 250*x^4 - 500*x^3 + 96*(x^6 + 10*x^3 + 25)*y^2 + 100*x^2 + 500*x + 625)*sqrt(x + 1)*sqrt(x - 1))"
      ]
     },
     "execution_count": 25,
     "metadata": {},
     "output_type": "execute_result"
    }
   ],
   "source": [
    "K[1,3]"
   ]
  },
  {
   "cell_type": "markdown",
   "metadata": {},
   "source": [
    "<p>The type-(1,1) tensor $K^\\sharp$ of components $K^i_{\\ \\, j} = \\gamma^{ik} K_{kj}$:</p>"
   ]
  },
  {
   "cell_type": "code",
   "execution_count": 26,
   "metadata": {
    "collapsed": false
   },
   "outputs": [
    {
     "name": "stdout",
     "output_type": "stream",
     "text": [
      "Tensor field of type (1,1) on the 3-dimensional differentiable manifold Sigma\n"
     ]
    }
   ],
   "source": [
    "Ku = K.up(gam, 0)\n",
    "print Ku"
   ]
  },
  {
   "cell_type": "markdown",
   "metadata": {},
   "source": [
    "<p>We may check that the hypersurface $\\Sigma$ is maximal, i.e. that $K^k_{\\ \\, k} = 0$:</p>"
   ]
  },
  {
   "cell_type": "code",
   "execution_count": 27,
   "metadata": {
    "collapsed": false
   },
   "outputs": [
    {
     "data": {
      "text/html": [
       "<html><script type=\"math/tex; mode=display\">\\newcommand{\\Bold}[1]{\\mathbf{#1}}0</script></html>"
      ],
      "text/plain": [
       "Scalar field zero on the 3-dimensional differentiable manifold Sigma"
      ]
     },
     "execution_count": 27,
     "metadata": {},
     "output_type": "execute_result"
    }
   ],
   "source": [
    "trK = Ku.trace()\n",
    "trK"
   ]
  },
  {
   "cell_type": "markdown",
   "metadata": {},
   "source": [
    "<h3>Connection and curvature</h3>\n",
    "<p>Let us call $D$ the Levi-Civita connection associated with $\\gamma$: </p>"
   ]
  },
  {
   "cell_type": "code",
   "execution_count": 28,
   "metadata": {
    "collapsed": false
   },
   "outputs": [
    {
     "name": "stdout",
     "output_type": "stream",
     "text": [
      "Levi-Civita connection D associated with the Riemannian metric gam on the 3-dimensional differentiable manifold Sigma\n"
     ]
    }
   ],
   "source": [
    "D = gam.connection(name='D')\n",
    "print D"
   ]
  },
  {
   "cell_type": "markdown",
   "metadata": {},
   "source": [
    "<p>The Ricci tensor associated with $\\gamma$:</p>"
   ]
  },
  {
   "cell_type": "code",
   "execution_count": 29,
   "metadata": {
    "collapsed": false
   },
   "outputs": [
    {
     "name": "stdout",
     "output_type": "stream",
     "text": [
      "Field of symmetric bilinear forms Ric(gam) on the 3-dimensional differentiable manifold Sigma\n"
     ]
    }
   ],
   "source": [
    "Ric = gam.ricci()\n",
    "print Ric"
   ]
  },
  {
   "cell_type": "markdown",
   "metadata": {},
   "source": [
    "<p>The scalar curvature $R = \\gamma^{ij} R_{ij}$:</p>"
   ]
  },
  {
   "cell_type": "code",
   "execution_count": 30,
   "metadata": {
    "collapsed": false
   },
   "outputs": [
    {
     "name": "stdout",
     "output_type": "stream",
     "text": [
      "Scalar field R on the 3-dimensional differentiable manifold Sigma\n"
     ]
    }
   ],
   "source": [
    "R = gam.ricci_scalar(name='R')\n",
    "print R"
   ]
  },
  {
   "cell_type": "markdown",
   "metadata": {},
   "source": [
    "<h3>Terms related to the extrinsic curvature</h3>\n",
    "<p>Let us first evaluate the term $K_{ij} K^{ij}$:</p>"
   ]
  },
  {
   "cell_type": "code",
   "execution_count": 31,
   "metadata": {
    "collapsed": false
   },
   "outputs": [
    {
     "name": "stdout",
     "output_type": "stream",
     "text": [
      "Scalar field on the 3-dimensional differentiable manifold Sigma\n"
     ]
    }
   ],
   "source": [
    "Kuu = Ku.up(gam, 1)\n",
    "trKK = K['_ij']*Kuu['^ij']\n",
    "print trKK"
   ]
  },
  {
   "cell_type": "markdown",
   "metadata": {},
   "source": [
    "<p>Then we compute the symmetric bilinear form $k_{ij} := K_{ik} K^k_{\\ \\, j}$:</p>"
   ]
  },
  {
   "cell_type": "code",
   "execution_count": 32,
   "metadata": {
    "collapsed": false
   },
   "outputs": [
    {
     "name": "stdout",
     "output_type": "stream",
     "text": [
      "Tensor field of type (0,2) on the 3-dimensional differentiable manifold Sigma\n"
     ]
    }
   ],
   "source": [
    "KK = K['_ik']*Ku['^k_j']\n",
    "print KK"
   ]
  },
  {
   "cell_type": "markdown",
   "metadata": {},
   "source": [
    "<p>We check that this tensor field is symmetric:</p>"
   ]
  },
  {
   "cell_type": "code",
   "execution_count": 33,
   "metadata": {
    "collapsed": false
   },
   "outputs": [
    {
     "data": {
      "text/html": [
       "<html><script type=\"math/tex; mode=display\">\\newcommand{\\Bold}[1]{\\mathbf{#1}}\\mathrm{True}</script></html>"
      ],
      "text/plain": [
       "True"
      ]
     },
     "execution_count": 33,
     "metadata": {},
     "output_type": "execute_result"
    }
   ],
   "source": [
    "KK1 = KK.symmetrize()\n",
    "KK == KK1"
   ]
  },
  {
   "cell_type": "markdown",
   "metadata": {},
   "source": [
    "<p>Accordingly, we work with the explicitly symmetric version:</p>"
   ]
  },
  {
   "cell_type": "code",
   "execution_count": 34,
   "metadata": {
    "collapsed": false
   },
   "outputs": [
    {
     "name": "stdout",
     "output_type": "stream",
     "text": [
      "Field of symmetric bilinear forms on the 3-dimensional differentiable manifold Sigma\n"
     ]
    }
   ],
   "source": [
    "KK = KK1\n",
    "print KK"
   ]
  },
  {
   "cell_type": "markdown",
   "metadata": {},
   "source": [
    "<p> </p>\n",
    "<h2>Electric and magnetic parts of the Weyl tensor</h2>\n",
    "<p>The electric part is the bilinear form $E$ given by $$ E_{ij} = R_{ij} + K K_{ij} - K_{ik} K^k_{\\ \\, j} $$</p>"
   ]
  },
  {
   "cell_type": "code",
   "execution_count": 35,
   "metadata": {
    "collapsed": false
   },
   "outputs": [
    {
     "name": "stdout",
     "output_type": "stream",
     "text": [
      "Field of symmetric bilinear forms on the 3-dimensional differentiable manifold Sigma\n"
     ]
    }
   ],
   "source": [
    "E = Ric + trK*K - KK\n",
    "print E"
   ]
  },
  {
   "cell_type": "markdown",
   "metadata": {},
   "source": [
    "<p>The magnetic part is the bilinear form $B$ defined by $$ B_{ij} = \\epsilon^k_{\\ \\, l i} D_k K^l_{\\ \\, j}, $$</p>\n",
    "<p>where $\\epsilon^k_{\\ \\, l i}$ are the components of the type-(1,2) tensor $\\epsilon^\\sharp$, related to the Levi-Civita alternating tensor $\\epsilon$ associated with $\\gamma$ by $\\epsilon^k_{\\ \\, l i} = \\gamma^{km} \\epsilon_{m l i}$. In SageManifolds, $\\epsilon$ is obtained by the command <span style=\"font-family: courier new,courier;\">volume_form()</span> and $\\epsilon^\\sharp$ by the command <span style=\"font-family: courier new,courier;\">volume_form(1)</span> (1 = 1 index raised):</p>"
   ]
  },
  {
   "cell_type": "code",
   "execution_count": 36,
   "metadata": {
    "collapsed": false
   },
   "outputs": [
    {
     "name": "stdout",
     "output_type": "stream",
     "text": [
      "3-form eps_gam on the 3-dimensional differentiable manifold Sigma\n"
     ]
    }
   ],
   "source": [
    "eps = gam.volume_form() \n",
    "print eps"
   ]
  },
  {
   "cell_type": "code",
   "execution_count": 37,
   "metadata": {
    "collapsed": false
   },
   "outputs": [
    {
     "name": "stdout",
     "output_type": "stream",
     "text": [
      "Tensor field of type (1,2) on the 3-dimensional differentiable manifold Sigma\n"
     ]
    }
   ],
   "source": [
    "epsu = gam.volume_form(1)\n",
    "print epsu"
   ]
  },
  {
   "cell_type": "code",
   "execution_count": 38,
   "metadata": {
    "collapsed": false
   },
   "outputs": [
    {
     "name": "stdout",
     "output_type": "stream",
     "text": [
      "Tensor field of type (0,2) on the 3-dimensional differentiable manifold Sigma\n"
     ]
    }
   ],
   "source": [
    "DKu = D(Ku)\n",
    "B = epsu['^k_li']*DKu['^l_jk'] \n",
    "print B"
   ]
  },
  {
   "cell_type": "markdown",
   "metadata": {},
   "source": [
    "<p>Let us check that $B$ is symmetric:</p>"
   ]
  },
  {
   "cell_type": "code",
   "execution_count": 39,
   "metadata": {
    "collapsed": false
   },
   "outputs": [
    {
     "data": {
      "text/html": [
       "<html><script type=\"math/tex; mode=display\">\\newcommand{\\Bold}[1]{\\mathbf{#1}}\\mathrm{True}</script></html>"
      ],
      "text/plain": [
       "True"
      ]
     },
     "execution_count": 39,
     "metadata": {},
     "output_type": "execute_result"
    }
   ],
   "source": [
    "B1 = B.symmetrize()\n",
    "B == B1"
   ]
  },
  {
   "cell_type": "markdown",
   "metadata": {},
   "source": [
    "<p>Accordingly, we set</p>"
   ]
  },
  {
   "cell_type": "code",
   "execution_count": 40,
   "metadata": {
    "collapsed": false
   },
   "outputs": [
    {
     "name": "stdout",
     "output_type": "stream",
     "text": [
      "Field of symmetric bilinear forms B on the 3-dimensional differentiable manifold Sigma\n"
     ]
    }
   ],
   "source": [
    "B = B1\n",
    "B.set_name('B')\n",
    "print B"
   ]
  },
  {
   "cell_type": "markdown",
   "metadata": {},
   "source": [
    "<h2>3+1 decomposition of the Simon-Mars tensor</h2>\n",
    "<p>We proceed according to the computation presented in <a href=\"http://arxiv.org/abs/1412.6542\">arXiv:1412.6542</a>.</p>\n",
    "<p>Tensor $E^\\sharp$ of components $E^i_ {\\ \\, j}$:</p>"
   ]
  },
  {
   "cell_type": "code",
   "execution_count": 41,
   "metadata": {
    "collapsed": false
   },
   "outputs": [
    {
     "name": "stdout",
     "output_type": "stream",
     "text": [
      "Tensor field of type (1,1) on the 3-dimensional differentiable manifold Sigma\n"
     ]
    }
   ],
   "source": [
    "Eu = E.up(gam, 0) \n",
    "print Eu"
   ]
  },
  {
   "cell_type": "markdown",
   "metadata": {},
   "source": [
    "<p>Tensor $B^\\sharp$ of components $B^i_{\\ \\, j}$:</p>"
   ]
  },
  {
   "cell_type": "code",
   "execution_count": 42,
   "metadata": {
    "collapsed": false
   },
   "outputs": [
    {
     "name": "stdout",
     "output_type": "stream",
     "text": [
      "Tensor field of type (1,1) on the 3-dimensional differentiable manifold Sigma\n"
     ]
    }
   ],
   "source": [
    "Bu = B.up(gam, 0)\n",
    "print Bu"
   ]
  },
  {
   "cell_type": "markdown",
   "metadata": {},
   "source": [
    "<p>1-form $\\beta^\\flat$ of components $\\beta_i$ and its exterior derivative:</p>"
   ]
  },
  {
   "cell_type": "code",
   "execution_count": 44,
   "metadata": {
    "collapsed": false
   },
   "outputs": [
    {
     "name": "stdout",
     "output_type": "stream",
     "text": [
      "2-form on the 3-dimensional differentiable manifold Sigma\n"
     ]
    }
   ],
   "source": [
    "bd = b.down(gam)\n",
    "xdb = bd.exterior_derivative()\n",
    "print xdb"
   ]
  },
  {
   "cell_type": "markdown",
   "metadata": {},
   "source": [
    "<p>Scalar square of shift $\\beta_i \\beta^i$:</p>"
   ]
  },
  {
   "cell_type": "code",
   "execution_count": 45,
   "metadata": {
    "collapsed": false
   },
   "outputs": [
    {
     "name": "stdout",
     "output_type": "stream",
     "text": [
      "Scalar field on the 3-dimensional differentiable manifold Sigma\n"
     ]
    }
   ],
   "source": [
    "b2 = bd(b)\n",
    "print b2"
   ]
  },
  {
   "cell_type": "markdown",
   "metadata": {},
   "source": [
    "<p>Scalar $Y = E(\\beta,\\beta) = E_{ij} \\beta^i \\beta^j$:</p>"
   ]
  },
  {
   "cell_type": "code",
   "execution_count": 46,
   "metadata": {
    "collapsed": false
   },
   "outputs": [
    {
     "name": "stdout",
     "output_type": "stream",
     "text": [
      "Scalar field on the 3-dimensional differentiable manifold Sigma\n"
     ]
    }
   ],
   "source": [
    "Ebb = E(b,b)\n",
    "Y = Ebb\n",
    "print Y"
   ]
  },
  {
   "cell_type": "markdown",
   "metadata": {},
   "source": [
    "<p>Scalar $\\bar Y = B(\\beta,\\beta) = B_{ij}\\beta^i \\beta^j$:</p>"
   ]
  },
  {
   "cell_type": "code",
   "execution_count": 47,
   "metadata": {
    "collapsed": false
   },
   "outputs": [
    {
     "name": "stdout",
     "output_type": "stream",
     "text": [
      "Scalar field B(beta,beta) on the 3-dimensional differentiable manifold Sigma\n"
     ]
    }
   ],
   "source": [
    "Bbb = B(b,b)\n",
    "Y_bar = Bbb\n",
    "print Y_bar"
   ]
  },
  {
   "cell_type": "markdown",
   "metadata": {},
   "source": [
    "<p>1-form of components $Eb_i = E_{ij} \\beta^j$:</p>"
   ]
  },
  {
   "cell_type": "code",
   "execution_count": 48,
   "metadata": {
    "collapsed": false
   },
   "outputs": [
    {
     "name": "stdout",
     "output_type": "stream",
     "text": [
      "1-form on the 3-dimensional differentiable manifold Sigma\n"
     ]
    }
   ],
   "source": [
    "Eb = E.contract(b)\n",
    "print Eb"
   ]
  },
  {
   "cell_type": "markdown",
   "metadata": {},
   "source": [
    "<p>Vector field of components $Eub^i = E^i_{\\ \\, j} \\beta^j$:</p>"
   ]
  },
  {
   "cell_type": "code",
   "execution_count": 49,
   "metadata": {
    "collapsed": false
   },
   "outputs": [
    {
     "name": "stdout",
     "output_type": "stream",
     "text": [
      "Vector field on the 3-dimensional differentiable manifold Sigma\n"
     ]
    }
   ],
   "source": [
    "Eub = Eu.contract(b)\n",
    "print Eub"
   ]
  },
  {
   "cell_type": "markdown",
   "metadata": {},
   "source": [
    "<p>1-form of components $Bb_i = B_{ij} \\beta^j$:</p>"
   ]
  },
  {
   "cell_type": "code",
   "execution_count": 50,
   "metadata": {
    "collapsed": false
   },
   "outputs": [
    {
     "name": "stdout",
     "output_type": "stream",
     "text": [
      "1-form on the 3-dimensional differentiable manifold Sigma\n"
     ]
    }
   ],
   "source": [
    "Bb = B.contract(b)\n",
    "print Bb"
   ]
  },
  {
   "cell_type": "markdown",
   "metadata": {},
   "source": [
    "<p>Vector field of components $Bub^i = B^i_{\\ \\, j} \\beta^j$:</p>"
   ]
  },
  {
   "cell_type": "code",
   "execution_count": 51,
   "metadata": {
    "collapsed": false
   },
   "outputs": [
    {
     "name": "stdout",
     "output_type": "stream",
     "text": [
      "Vector field on the 3-dimensional differentiable manifold Sigma\n"
     ]
    }
   ],
   "source": [
    "Bub = Bu.contract(b)\n",
    "print Bub"
   ]
  },
  {
   "cell_type": "markdown",
   "metadata": {},
   "source": [
    "<p>Vector field of components $Kub^i = K^i_{\\ \\, j} \\beta^j$:</p>"
   ]
  },
  {
   "cell_type": "code",
   "execution_count": 52,
   "metadata": {
    "collapsed": false
   },
   "outputs": [
    {
     "name": "stdout",
     "output_type": "stream",
     "text": [
      "Vector field on the 3-dimensional differentiable manifold Sigma\n"
     ]
    }
   ],
   "source": [
    "Kub = Ku.contract(b)\n",
    "print Kub"
   ]
  },
  {
   "cell_type": "code",
   "execution_count": 53,
   "metadata": {
    "collapsed": false
   },
   "outputs": [
    {
     "name": "stdout",
     "output_type": "stream",
     "text": [
      "Scalar field zero on the 3-dimensional differentiable manifold Sigma\n"
     ]
    },
    {
     "data": {
      "text/html": [
       "<html><script type=\"math/tex; mode=display\">\\newcommand{\\Bold}[1]{\\mathbf{#1}}\\begin{array}{llcl} 0:& \\Sigma & \\longrightarrow & \\mathbb{R} \\\\ & \\left(x, y, {\\phi}\\right) & \\longmapsto & 0 \\end{array}</script></html>"
      ],
      "text/plain": [
       "zero: Sigma --> R\n",
       "   (x, y, ph) |--> 0"
      ]
     },
     "execution_count": 53,
     "metadata": {},
     "output_type": "execute_result"
    }
   ],
   "source": [
    "T = 2*b(N) - 2*K(b,b)\n",
    "print T ; T.display()"
   ]
  },
  {
   "cell_type": "code",
   "execution_count": 54,
   "metadata": {
    "collapsed": false
   },
   "outputs": [
    {
     "name": "stdout",
     "output_type": "stream",
     "text": [
      "Scalar field zero on the 3-dimensional differentiable manifold Sigma\n"
     ]
    },
    {
     "data": {
      "text/html": [
       "<html><script type=\"math/tex; mode=display\">\\newcommand{\\Bold}[1]{\\mathbf{#1}}\\begin{array}{llcl} 0:& \\Sigma & \\longrightarrow & \\mathbb{R} \\\\ & \\left(x, y, {\\phi}\\right) & \\longmapsto & 0 \\end{array}</script></html>"
      ],
      "text/plain": [
       "zero: Sigma --> R\n",
       "   (x, y, ph) |--> 0"
      ]
     },
     "execution_count": 54,
     "metadata": {},
     "output_type": "execute_result"
    }
   ],
   "source": [
    "Db = D(b)  #  Db^i_j = D_j b^i\n",
    "Dbu = Db.up(gam, 1)  # Dbu^{ij} = D^j b^i\n",
    "bDb = b*Dbu  # bDb^{ijk} = b^i D^k b^j\n",
    "T_bar = eps['_ijk']*bDb['^ikj']\n",
    "print T_bar ; T_bar.display()"
   ]
  },
  {
   "cell_type": "code",
   "execution_count": 55,
   "metadata": {
    "collapsed": false
   },
   "outputs": [
    {
     "name": "stdout",
     "output_type": "stream",
     "text": [
      "2-form on the 3-dimensional differentiable manifold Sigma\n"
     ]
    }
   ],
   "source": [
    "epsb = eps.contract(b) \n",
    "print epsb"
   ]
  },
  {
   "cell_type": "code",
   "execution_count": 56,
   "metadata": {
    "collapsed": false
   },
   "outputs": [
    {
     "name": "stdout",
     "output_type": "stream",
     "text": [
      "Tensor field of type (0,3) on the 3-dimensional differentiable manifold Sigma\n"
     ]
    }
   ],
   "source": [
    "epsB = eps['_ijl']*Bu['^l_k']\n",
    "print epsB"
   ]
  },
  {
   "cell_type": "code",
   "execution_count": 57,
   "metadata": {
    "collapsed": false
   },
   "outputs": [
    {
     "name": "stdout",
     "output_type": "stream",
     "text": [
      "1-form on the 3-dimensional differentiable manifold Sigma\n"
     ]
    }
   ],
   "source": [
    "Z = 2*N*( D(N)  -K.contract(b)) + b.contract(xdb)\n",
    "print Z"
   ]
  },
  {
   "cell_type": "code",
   "execution_count": 58,
   "metadata": {
    "collapsed": false
   },
   "outputs": [
    {
     "name": "stdout",
     "output_type": "stream",
     "text": [
      "1-form on the 3-dimensional differentiable manifold Sigma\n"
     ]
    }
   ],
   "source": [
    "DNu = D(N).up(gam)\n",
    "A = 2*(DNu - Ku.contract(b))*b + N*Dbu\n",
    "Z_bar = eps['_ijk']*A['^kj']\n",
    "print Z_bar"
   ]
  },
  {
   "cell_type": "code",
   "execution_count": 59,
   "metadata": {
    "collapsed": false
   },
   "outputs": [
    {
     "name": "stdout",
     "output_type": "stream",
     "text": [
      "1-form on the 3-dimensional differentiable manifold Sigma\n"
     ]
    }
   ],
   "source": [
    "W = N*Eb + epsb.contract(Bub)\n",
    "print W"
   ]
  },
  {
   "cell_type": "code",
   "execution_count": 60,
   "metadata": {
    "collapsed": false
   },
   "outputs": [
    {
     "name": "stdout",
     "output_type": "stream",
     "text": [
      "1-form on the 3-dimensional differentiable manifold Sigma\n"
     ]
    }
   ],
   "source": [
    "W_bar = N*Bb - epsb.contract(Eub)\n",
    "print W_bar"
   ]
  },
  {
   "cell_type": "code",
   "execution_count": 61,
   "metadata": {
    "collapsed": false
   },
   "outputs": [
    {
     "name": "stdout",
     "output_type": "stream",
     "text": [
      "Scalar field zero on the 3-dimensional differentiable manifold Sigma\n"
     ]
    },
    {
     "data": {
      "text/html": [
       "<html><script type=\"math/tex; mode=display\">\\newcommand{\\Bold}[1]{\\mathbf{#1}}\\begin{array}{llcl} 0:& \\Sigma & \\longrightarrow & \\mathbb{R} \\\\ & \\left(x, y, {\\phi}\\right) & \\longmapsto & 0 \\end{array}</script></html>"
      ],
      "text/plain": [
       "zero: Sigma --> R\n",
       "   (x, y, ph) |--> 0"
      ]
     },
     "execution_count": 61,
     "metadata": {},
     "output_type": "execute_result"
    }
   ],
   "source": [
    "M = - 4*Eb(Kub - DNu) - 2*(epsB['_ij.']*Dbu['^ji'])(b)\n",
    "print M ; M.display()"
   ]
  },
  {
   "cell_type": "code",
   "execution_count": 62,
   "metadata": {
    "collapsed": false
   },
   "outputs": [
    {
     "name": "stdout",
     "output_type": "stream",
     "text": [
      "Scalar field zero on the 3-dimensional differentiable manifold Sigma\n"
     ]
    },
    {
     "data": {
      "text/html": [
       "<html><script type=\"math/tex; mode=display\">\\newcommand{\\Bold}[1]{\\mathbf{#1}}\\begin{array}{llcl} 0:& \\Sigma & \\longrightarrow & \\mathbb{R} \\\\ & \\left(x, y, {\\phi}\\right) & \\longmapsto & 0 \\end{array}</script></html>"
      ],
      "text/plain": [
       "zero: Sigma --> R\n",
       "   (x, y, ph) |--> 0"
      ]
     },
     "execution_count": 62,
     "metadata": {},
     "output_type": "execute_result"
    }
   ],
   "source": [
    "M_bar = 2*(eps.contract(Eub))['_ij']*Dbu['^ji'] - 4*Bb(Kub - DNu)\n",
    "print M_bar ; M_bar.display()"
   ]
  },
  {
   "cell_type": "code",
   "execution_count": 63,
   "metadata": {
    "collapsed": false
   },
   "outputs": [
    {
     "name": "stdout",
     "output_type": "stream",
     "text": [
      "Field of symmetric bilinear forms on the 3-dimensional differentiable manifold Sigma\n"
     ]
    }
   ],
   "source": [
    "F = (N^2 - b2)*gam + bd*bd\n",
    "print F"
   ]
  },
  {
   "cell_type": "code",
   "execution_count": 64,
   "metadata": {
    "collapsed": false
   },
   "outputs": [
    {
     "name": "stdout",
     "output_type": "stream",
     "text": [
      "1-form on the 3-dimensional differentiable manifold Sigma\n"
     ]
    }
   ],
   "source": [
    "A = epsB['_ilk']*b['^l'] + epsB['_ikl']*b['^l'] + Bu['^m_i']*epsb['_mk'] - 2*N*E\n",
    "xdbE = xdb['_kl']*Eu['^k_i']\n",
    "L = 2*N*epsB['_kli']*Dbu['^kl'] + 2*xdb['_ij']*Eub['^j'] + 2*xdbE['_li']*b['^l'] \\\n",
    "    + 2*A['_ik']*(Kub - DNu)['^k']\n",
    "print L"
   ]
  },
  {
   "cell_type": "code",
   "execution_count": 65,
   "metadata": {
    "collapsed": false
   },
   "outputs": [
    {
     "name": "stdout",
     "output_type": "stream",
     "text": [
      "Field of symmetric bilinear forms on the 3-dimensional differentiable manifold Sigma\n"
     ]
    }
   ],
   "source": [
    "N2pbb = N^2 + b2\n",
    "V = N2pbb*E - 2*(b.contract(E)*bd).symmetrize() + Ebb*gam + 2*N*(b.contract(epsB).symmetrize())\n",
    "print V"
   ]
  },
  {
   "cell_type": "code",
   "execution_count": 66,
   "metadata": {
    "collapsed": false
   },
   "outputs": [
    {
     "name": "stdout",
     "output_type": "stream",
     "text": [
      "Field of symmetric bilinear forms on the 3-dimensional differentiable manifold Sigma\n"
     ]
    }
   ],
   "source": [
    "beps = b.contract(eps)\n",
    "V_bar = N2pbb*B - 2*(b.contract(B)*bd).symmetrize() + Bbb*gam \\\n",
    "        -2*N*(beps['_il']*Eu['^l_j']).symmetrize()\n",
    "print V_bar"
   ]
  },
  {
   "cell_type": "code",
   "execution_count": 67,
   "metadata": {
    "collapsed": false
   },
   "outputs": [
    {
     "name": "stdout",
     "output_type": "stream",
     "text": [
      "Field of symmetric bilinear forms on the 3-dimensional differentiable manifold Sigma\n"
     ]
    }
   ],
   "source": [
    "F = (N^2 - b2)*gam + bd*bd\n",
    "print F"
   ]
  },
  {
   "cell_type": "code",
   "execution_count": 68,
   "metadata": {
    "collapsed": false
   },
   "outputs": [
    {
     "name": "stdout",
     "output_type": "stream",
     "text": [
      "Tensor field of type (0,3) on the 3-dimensional differentiable manifold Sigma\n"
     ]
    }
   ],
   "source": [
    "R1 = (4*(V*Z - V_bar*Z_bar) + F*L).antisymmetrize(1,2)\n",
    "print R1"
   ]
  },
  {
   "cell_type": "code",
   "execution_count": 69,
   "metadata": {
    "collapsed": false
   },
   "outputs": [
    {
     "name": "stdout",
     "output_type": "stream",
     "text": [
      "Tensor field of type (0,2) on the 3-dimensional differentiable manifold Sigma\n"
     ]
    }
   ],
   "source": [
    "R2 = 4*(T*V - T_bar*V_bar - W*Z + W_bar*Z_bar) + M*F - N*bd*L\n",
    "print R2"
   ]
  },
  {
   "cell_type": "code",
   "execution_count": 70,
   "metadata": {
    "collapsed": false
   },
   "outputs": [
    {
     "name": "stdout",
     "output_type": "stream",
     "text": [
      "2-form on the 3-dimensional differentiable manifold Sigma\n"
     ]
    }
   ],
   "source": [
    "R3 = (4*(W*Z - W_bar*Z_bar) + N*bd*L).antisymmetrize()\n",
    "print R3"
   ]
  },
  {
   "cell_type": "code",
   "execution_count": 71,
   "metadata": {
    "collapsed": false
   },
   "outputs": [
    {
     "data": {
      "text/html": [
       "<html><script type=\"math/tex; mode=display\">\\newcommand{\\Bold}[1]{\\mathbf{#1}}\\mathrm{True}</script></html>"
      ],
      "text/plain": [
       "True"
      ]
     },
     "execution_count": 71,
     "metadata": {},
     "output_type": "execute_result"
    }
   ],
   "source": [
    "R2[3,1] == -2*R3[3,1]"
   ]
  },
  {
   "cell_type": "code",
   "execution_count": 72,
   "metadata": {
    "collapsed": false
   },
   "outputs": [
    {
     "data": {
      "text/html": [
       "<html><script type=\"math/tex; mode=display\">\\newcommand{\\Bold}[1]{\\mathbf{#1}}\\mathrm{True}</script></html>"
      ],
      "text/plain": [
       "True"
      ]
     },
     "execution_count": 72,
     "metadata": {},
     "output_type": "execute_result"
    }
   ],
   "source": [
    "R2[3,2] == -2*R3[3,2]"
   ]
  },
  {
   "cell_type": "code",
   "execution_count": 73,
   "metadata": {
    "collapsed": false
   },
   "outputs": [
    {
     "name": "stdout",
     "output_type": "stream",
     "text": [
      "1-form on the 3-dimensional differentiable manifold Sigma\n"
     ]
    }
   ],
   "source": [
    "R4 = 4*(T*W - T_bar*W_bar) -4*(Y*Z - Y_bar*Z_bar) + N*M*bd - b2*L\n",
    "print R4"
   ]
  },
  {
   "cell_type": "code",
   "execution_count": 74,
   "metadata": {
    "collapsed": false
   },
   "outputs": [
    {
     "name": "stdout",
     "output_type": "stream",
     "text": [
      "Tensor field of type (0,3) on the 3-dimensional differentiable manifold Sigma\n"
     ]
    }
   ],
   "source": [
    "epsE = eps['_ijl']*Eu['^l_k']\n",
    "print epsE"
   ]
  },
  {
   "cell_type": "code",
   "execution_count": 75,
   "metadata": {
    "collapsed": false
   },
   "outputs": [
    {
     "name": "stdout",
     "output_type": "stream",
     "text": [
      "1-form on the 3-dimensional differentiable manifold Sigma\n"
     ]
    }
   ],
   "source": [
    "A = - epsE['_ilk']*b['^l'] - epsE['_ikl']*b['^l'] - Eu['^m_i']*epsb['_mk'] - 2*N*B\n",
    "xdbB = xdb['_kl']*Bu['^k_i']\n",
    "L_bar = - 2*N*epsE['_kli']*Dbu['^kl'] + 2*xdb['_ij']*Bub['^j'] + 2*xdbB['_li']*b['^l'] \\\n",
    "    + 2*A['_ik']*(Kub - DNu)['^k']\n",
    "print L_bar"
   ]
  },
  {
   "cell_type": "code",
   "execution_count": 76,
   "metadata": {
    "collapsed": false
   },
   "outputs": [
    {
     "name": "stdout",
     "output_type": "stream",
     "text": [
      "Tensor field of type (0,3) on the 3-dimensional differentiable manifold Sigma\n"
     ]
    }
   ],
   "source": [
    "R1_bar = (4*(V*Z_bar + V_bar*Z) + F*L_bar).antisymmetrize(1,2)\n",
    "print R1_bar"
   ]
  },
  {
   "cell_type": "code",
   "execution_count": 77,
   "metadata": {
    "collapsed": false
   },
   "outputs": [
    {
     "name": "stdout",
     "output_type": "stream",
     "text": [
      "Tensor field of type (0,2) on the 3-dimensional differentiable manifold Sigma\n"
     ]
    }
   ],
   "source": [
    "R2_bar = 4*(T_bar*V + T*V_bar) - 4*(W*Z_bar + W_bar*Z) + M_bar*F - N*bd*L_bar\n",
    "print R2_bar"
   ]
  },
  {
   "cell_type": "code",
   "execution_count": 78,
   "metadata": {
    "collapsed": false
   },
   "outputs": [
    {
     "name": "stdout",
     "output_type": "stream",
     "text": [
      "2-form on the 3-dimensional differentiable manifold Sigma\n"
     ]
    }
   ],
   "source": [
    "R3_bar = (4*(W*Z_bar + W_bar*Z) + N*bd*L_bar).antisymmetrize()\n",
    "print R3_bar"
   ]
  },
  {
   "cell_type": "code",
   "execution_count": 79,
   "metadata": {
    "collapsed": false
   },
   "outputs": [
    {
     "name": "stdout",
     "output_type": "stream",
     "text": [
      "1-form on the 3-dimensional differentiable manifold Sigma\n"
     ]
    }
   ],
   "source": [
    "R4_bar = 4*(T_bar*W + T*W_bar - Y*Z_bar - Y_bar*Z) + M_bar*N*bd - b2*L_bar\n",
    "print R4_bar"
   ]
  },
  {
   "cell_type": "code",
   "execution_count": 80,
   "metadata": {
    "collapsed": false
   },
   "outputs": [
    {
     "name": "stdout",
     "output_type": "stream",
     "text": [
      "Tensor field of type (3,0) on the 3-dimensional differentiable manifold Sigma\n"
     ]
    }
   ],
   "source": [
    "R1u = R1.up(gam)\n",
    "print R1u"
   ]
  },
  {
   "cell_type": "code",
   "execution_count": 81,
   "metadata": {
    "collapsed": false
   },
   "outputs": [
    {
     "name": "stdout",
     "output_type": "stream",
     "text": [
      "Tensor field of type (2,0) on the 3-dimensional differentiable manifold Sigma\n"
     ]
    }
   ],
   "source": [
    "R2u = R2.up(gam)\n",
    "print R2u"
   ]
  },
  {
   "cell_type": "code",
   "execution_count": 82,
   "metadata": {
    "collapsed": false
   },
   "outputs": [
    {
     "name": "stdout",
     "output_type": "stream",
     "text": [
      "Tensor field of type (2,0) on the 3-dimensional differentiable manifold Sigma\n"
     ]
    }
   ],
   "source": [
    "R3u = R3.up(gam)\n",
    "print R3u"
   ]
  },
  {
   "cell_type": "code",
   "execution_count": 83,
   "metadata": {
    "collapsed": false
   },
   "outputs": [
    {
     "name": "stdout",
     "output_type": "stream",
     "text": [
      "Vector field on the 3-dimensional differentiable manifold Sigma\n"
     ]
    }
   ],
   "source": [
    "R4u = R4.up(gam)\n",
    "print R4u"
   ]
  },
  {
   "cell_type": "code",
   "execution_count": 84,
   "metadata": {
    "collapsed": false
   },
   "outputs": [
    {
     "name": "stdout",
     "output_type": "stream",
     "text": [
      "Tensor field of type (3,0) on the 3-dimensional differentiable manifold Sigma\n"
     ]
    }
   ],
   "source": [
    "R1_baru = R1_bar.up(gam)\n",
    "print R1_baru"
   ]
  },
  {
   "cell_type": "code",
   "execution_count": 85,
   "metadata": {
    "collapsed": false
   },
   "outputs": [
    {
     "name": "stdout",
     "output_type": "stream",
     "text": [
      "Tensor field of type (2,0) on the 3-dimensional differentiable manifold Sigma\n"
     ]
    }
   ],
   "source": [
    "R2_baru = R2_bar.up(gam)\n",
    "print R2_baru"
   ]
  },
  {
   "cell_type": "code",
   "execution_count": 86,
   "metadata": {
    "collapsed": false
   },
   "outputs": [
    {
     "name": "stdout",
     "output_type": "stream",
     "text": [
      "Tensor field of type (2,0) on the 3-dimensional differentiable manifold Sigma\n"
     ]
    }
   ],
   "source": [
    "R3_baru = R3_bar.up(gam)\n",
    "print R3_baru"
   ]
  },
  {
   "cell_type": "code",
   "execution_count": 87,
   "metadata": {
    "collapsed": false
   },
   "outputs": [
    {
     "name": "stdout",
     "output_type": "stream",
     "text": [
      "Vector field on the 3-dimensional differentiable manifold Sigma\n"
     ]
    }
   ],
   "source": [
    "R4_baru = R4_bar.up(gam)\n",
    "print R4_baru"
   ]
  },
  {
   "cell_type": "markdown",
   "metadata": {},
   "source": [
    "<h3>Simon-Mars scalars</h3>"
   ]
  },
  {
   "cell_type": "code",
   "execution_count": 88,
   "metadata": {
    "collapsed": false
   },
   "outputs": [
    {
     "name": "stdout",
     "output_type": "stream",
     "text": [
      "Scalar field on the 3-dimensional differentiable manifold Sigma\n"
     ]
    }
   ],
   "source": [
    "S1 = 4*(R1['_ijk']*R1u['^ijk'] - R1_bar['_ijk']*R1_baru['^ijk'] - 2*(R2['_ij']*R2u['^ij'] \\\n",
    "     - R2_bar['_ij']*R2_baru['^ij']) - R3['_ij']*R3u['^ij'] + R3_bar['_ij']*R3_baru['^ij'] \\\n",
    "     + 2*(R4['_i']*R4u['^i'] - R4_bar['_i']*R4_baru['^i']))\n",
    "print S1"
   ]
  },
  {
   "cell_type": "code",
   "execution_count": null,
   "metadata": {
    "collapsed": false
   },
   "outputs": [],
   "source": [
    "S1E = S1.expr()"
   ]
  },
  {
   "cell_type": "code",
   "execution_count": null,
   "metadata": {
    "collapsed": false
   },
   "outputs": [],
   "source": [
    "S2 = 4*(R1['_ijk']*R1_baru['^ijk'] + R1_bar['_ijk']*R1u['^ijk'] - 2*(R2['_ij']*R2_baru['^ij'] \\\n",
    "     + R2_bar['_ij']*R2u['^ij']) - R3['_ij']*R3_baru['^ij'] - R3_bar['_ij']*R3u['^ij'] \\\n",
    "     + 2*(R4['_i']*R4_baru['^i'] + R4_bar['_i']*R4u['^i']))\n",
    "print S2"
   ]
  },
  {
   "cell_type": "code",
   "execution_count": null,
   "metadata": {
    "collapsed": false
   },
   "outputs": [],
   "source": [
    "S2E = S2.expr()"
   ]
  },
  {
   "cell_type": "code",
   "execution_count": null,
   "metadata": {
    "collapsed": false
   },
   "outputs": [],
   "source": [
    "lS1E = log(S1E,10).simplify_full()"
   ]
  },
  {
   "cell_type": "code",
   "execution_count": null,
   "metadata": {
    "collapsed": false
   },
   "outputs": [],
   "source": [
    "lS2E = log(S2E,10).simplify_full()"
   ]
  },
  {
   "cell_type": "markdown",
   "metadata": {},
   "source": [
    "<p>Simon-Mars scalars expressed in terms of the coordinates $X=-1/x,y$:</p>"
   ]
  },
  {
   "cell_type": "code",
   "execution_count": null,
   "metadata": {
    "collapsed": false
   },
   "outputs": [],
   "source": [
    "var('X')\n",
    "S1EX = S1E.subs(x=-1/X).simplify_full()\n",
    "S2EX = S2E.subs(x=-1/X).simplify_full()"
   ]
  },
  {
   "cell_type": "markdown",
   "metadata": {},
   "source": [
    "<p>Definition of the ergoregion:</p>"
   ]
  },
  {
   "cell_type": "code",
   "execution_count": null,
   "metadata": {
    "collapsed": false
   },
   "outputs": [],
   "source": [
    "g00 = - AA2/BB2\n",
    "g00X = g00.subs(x=-1/X).simplify_full()"
   ]
  },
  {
   "cell_type": "code",
   "execution_count": null,
   "metadata": {
    "collapsed": false
   },
   "outputs": [],
   "source": [
    "ergXy = implicit_plot(g00X, (-1,0), (-1,1), plot_points=200, fill=False, \n",
    "                      linewidth=1, color='black', \n",
    "                      axes_labels=(r\"$X\\,\\left[M^{-1}\\right]$\", r\"$y\\,\\left[M\\right]$\"), \n",
    "                      fontsize=14)"
   ]
  },
  {
   "cell_type": "markdown",
   "metadata": {},
   "source": [
    "<p>Due to the very high degree of the polynomials involved in the expression of the Simon-Mars scalars, the floating-point precision of Sage's <span style=\"font-family: courier new,courier;\">contour_plot</span> function (53 bits) is not sufficient. Taking avantage that Sage is <strong>open-source</strong>, we modify the function to allow for an arbitrary precision. First, we define a sampling function with a floating-point precision specified by the user (argument <span style=\"font-family: courier new,courier;\">precis</span>): </p>"
   ]
  },
  {
   "cell_type": "code",
   "execution_count": null,
   "metadata": {
    "collapsed": false
   },
   "outputs": [],
   "source": [
    "def array_precisXy(fXy, Xmin, Xmax, ymin, ymax, np, precis, tronc):\n",
    "    RP = RealField(precis)\n",
    "    Xmin = RP(Xmin)\n",
    "    Xmax = RP(Xmax)\n",
    "    ymin = RP(ymin)\n",
    "    ymax = RP(ymax)\n",
    "    dX = (Xmax - Xmin) / RP(np-1)\n",
    "    dy = (ymax - ymin) / RP(np-1)\n",
    "    resu = []\n",
    "    for i in range(np):\n",
    "        list_y = []\n",
    "        yy = ymin + dy * RP(i)\n",
    "        fyy = fXy.subs(y=yy)\n",
    "        for j in range(np):\n",
    "            XX = Xmin + dX * RP(j)\n",
    "            fyyXX = fyy.subs(X = XX)\n",
    "            val = RP(log(abs(fyyXX) + 1e-20, 10))\n",
    "            if val < -tronc:\n",
    "                val = -tronc\n",
    "            elif val > tronc:\n",
    "                val = tronc\n",
    "            list_y.append(val)\n",
    "        resu.append(list_y)\n",
    "    return resu"
   ]
  },
  {
   "cell_type": "markdown",
   "metadata": {},
   "source": [
    "<p>Then we redefine <span style=\"font-family: courier new,courier;\">contour_plot</span> so that it uses the sampling function with a floating-point precision of 200 bits:</p>"
   ]
  },
  {
   "cell_type": "code",
   "execution_count": null,
   "metadata": {
    "collapsed": false
   },
   "outputs": [],
   "source": [
    "from sage.misc.decorators import options, suboptions\n",
    "\n",
    "@suboptions('colorbar', orientation='vertical', format=None, spacing=None)\n",
    "@suboptions('label', fontsize=9, colors='blue', inline=None, inline_spacing=3, fmt=\"%1.2f\")\n",
    "@options(plot_points=100, fill=True, contours=None, linewidths=None, linestyles=None, \n",
    "         labels=False, frame=True, axes=False, colorbar=False, legend_label=None, \n",
    "         aspect_ratio=1)\n",
    "def contour_plot_precisXy(f, xrange, yrange, **options):\n",
    "    from sage.plot.all import Graphics\n",
    "    from sage.plot.misc import setup_for_eval_on_grid\n",
    "    from sage.plot.contour_plot import ContourPlot\n",
    "\n",
    "    np = options['plot_points']\n",
    "    precis = 200  # floating-point precision = 200 bits \n",
    "    tronc = 10\n",
    "    xy_data_array = array_precisXy(f, xrange[0], xrange[1], yrange[0], yrange[1], np, precis, \n",
    "                                   tronc)\n",
    "\n",
    "    g = Graphics()\n",
    "\n",
    "    # Reset aspect_ratio to 'automatic' in case scale is 'semilog[xy]'.\n",
    "    # Otherwise matplotlib complains.\n",
    "    scale = options.get('scale', None)\n",
    "    if isinstance(scale, (list, tuple)):\n",
    "        scale = scale[0]\n",
    "    if scale == 'semilogy' or scale == 'semilogx':\n",
    "        options['aspect_ratio'] = 'automatic'\n",
    "\n",
    "    g._set_extra_kwds(Graphics._extract_kwds_for_show(options, ignore=['xmin', 'xmax']))\n",
    "    g.add_primitive(ContourPlot(xy_data_array, xrange, yrange, options))\n",
    "    return g"
   ]
  },
  {
   "cell_type": "markdown",
   "metadata": {},
   "source": [
    "<p>Then we are able to draw the contour plot of the two Simon-Mars scalars, in terms of the coordinates $(X,y)$ (Figure 11 of <a href=\"http://arxiv.org/abs/1412.6542\">arXiv:1412.6542</a>):</p>"
   ]
  },
  {
   "cell_type": "code",
   "execution_count": null,
   "metadata": {
    "collapsed": false
   },
   "outputs": [],
   "source": [
    "c1Xy = contour_plot_precisXy(S1EX, (-1,0), (-1,1), plot_points=200, fill=False, cmap='hsv', \n",
    "                             linewidths=1, \n",
    "                             contours=(-10,-9,-8,-7,-6,-5,-4,-3,-2,-1,0,1,2,3,4,5,6,7,8), \n",
    "                             colorbar=True, colorbar_spacing='uniform', colorbar_format='%1.f', \n",
    "                             axes_labels=(r\"$X\\,\\left[M^{-1}\\right]$\", r\"$y\\,\\left[M\\right]$\"), \n",
    "                             fontsize=14)"
   ]
  },
  {
   "cell_type": "code",
   "execution_count": null,
   "metadata": {
    "collapsed": false
   },
   "outputs": [],
   "source": [
    "S1TSXy = c1Xy+ergXy\n",
    "show(S1TSXy)"
   ]
  },
  {
   "cell_type": "code",
   "execution_count": null,
   "metadata": {
    "collapsed": false
   },
   "outputs": [],
   "source": [
    "c2Xy = contour_plot_precisXy(S2EX, (-1,0), (-1,1), plot_points=200, fill=False, cmap='hsv', \n",
    "                             linewidths=1, \n",
    "                             contours=(-10,-9,-8,-7,-6,-5,-4,-3,-2,-1,0,1,2,3,4,5,6,7,8,9,10), \n",
    "                             colorbar=True, colorbar_spacing='uniform', colorbar_format='%1.f', \n",
    "                             axes_labels=(r\"$X\\,\\left[M^{-1}\\right]$\", r\"$y\\,\\left[M\\right]$\"), \n",
    "                             fontsize=14)"
   ]
  },
  {
   "cell_type": "code",
   "execution_count": null,
   "metadata": {
    "collapsed": false
   },
   "outputs": [],
   "source": [
    "S2TSXy = c2Xy + ergXy\n",
    "show(S2TSXy)"
   ]
  },
  {
   "cell_type": "markdown",
   "metadata": {},
   "source": [
    "<p>Let us do the same in terms of the Weyl-Lewis-Papapetrou cylindrical coordinates $(\\rho,z)$, which are related to the prolate spheroidal coordinates $(x,y)$ by $$ \\rho = \\sqrt{(x^2-1)(1-y^2)}  \\quad\\mbox{and}\\quad z=xy . $$ </p>\n",
    "<p>For simplicity, we denote $\\rho$ by $r$:</p>"
   ]
  },
  {
   "cell_type": "code",
   "execution_count": null,
   "metadata": {
    "collapsed": false
   },
   "outputs": [],
   "source": [
    "var('r z')"
   ]
  },
  {
   "cell_type": "code",
   "execution_count": null,
   "metadata": {
    "collapsed": false
   },
   "outputs": [],
   "source": [
    "S1Erz = S1E.subs(x=1/2*(sqrt(r^2+(z+1)^2)+sqrt(r^2+(z-1)^2)), \n",
    "                 y=1/2*(sqrt(r^2+(z+1)^2)-sqrt(r^2+(z-1)^2)))\n",
    "S1Erz = S1Erz.simplify_full()"
   ]
  },
  {
   "cell_type": "code",
   "execution_count": null,
   "metadata": {
    "collapsed": false
   },
   "outputs": [],
   "source": [
    "S2Erz = S2E.subs(x=1/2*(sqrt(r^2+(z+1)^2)+sqrt(r^2+(z-1)^2)), \n",
    "                 y=1/2*(sqrt(r^2+(z+1)^2)-sqrt(r^2+(z-1)^2)))\n",
    "S2Erz = S2Erz.simplify_full()"
   ]
  },
  {
   "cell_type": "code",
   "execution_count": null,
   "metadata": {
    "collapsed": false
   },
   "outputs": [],
   "source": [
    "def tab_precis(fz, zz, rmin, rmax, np, precis, tronc):\n",
    "    RP = RealField(precis)\n",
    "    rmin = RP(rmin)\n",
    "    rmax = RP(rmax)\n",
    "    zz = RP(zz)\n",
    "    dr = (rmax - rmin) / RP(np-1)\n",
    "    resu = []\n",
    "    fzz = fz.subs(z=zz)\n",
    "    for i in range(np):\n",
    "        rr = rmin + dr * RP(i)\n",
    "        val = RP(log(abs(fzz.subs(r = rr)), 10))\n",
    "        if val < -tronc:\n",
    "            val = -tronc\n",
    "        elif val > tronc:\n",
    "            val = tronc\n",
    "        resu.append((rr, zz, val))\n",
    "    return resu"
   ]
  },
  {
   "cell_type": "markdown",
   "metadata": {},
   "source": [
    "### 3D plots"
   ]
  },
  {
   "cell_type": "code",
   "execution_count": null,
   "metadata": {
    "collapsed": false
   },
   "outputs": [],
   "source": [
    "gg = Graphics()\n",
    "rmin = 0.1\n",
    "rmax = 3\n",
    "zmin = -2\n",
    "zmax = 2\n",
    "npr = 200\n",
    "npz = npr\n",
    "precis = 200 # 200-bits floating-point precision\n",
    "tronc = 5\n",
    "dz = (zmax-zmin) / (npz-1)\n",
    "for i in range(npz):\n",
    "    zz = zmin + i*dz\n",
    "    gg += line3d(tab_precis(S1Erz, zz, rmin, rmax, npr, precis, tronc))\n",
    "show(gg)"
   ]
  },
  {
   "cell_type": "code",
   "execution_count": null,
   "metadata": {
    "collapsed": false
   },
   "outputs": [],
   "source": [
    "gg2 = Graphics()\n",
    "rmin = 0.1\n",
    "rmax = 3\n",
    "zmin = -2\n",
    "zmax = 2\n",
    "npr = 200\n",
    "npz = npr\n",
    "precis = 200\n",
    "tronc = 5\n",
    "dz = (zmax-zmin) / (npz-1)\n",
    "for i in range(npz):\n",
    "    zz = zmin + i*dz\n",
    "    gg2 += line3d(tab_precis(S2Erz, zz, rmin, rmax, npr, precis, tronc))\n",
    "show(gg2)"
   ]
  },
  {
   "cell_type": "markdown",
   "metadata": {},
   "source": [
    "<p>Contour plots of the two Simon-Mars scalar fields in terms of coordinates $(\\rho,z)$ (Figure 12 of <a href=\"http://arxiv.org/abs/1412.6542\">arXiv:1412.6542</a>)</p>"
   ]
  },
  {
   "cell_type": "code",
   "execution_count": null,
   "metadata": {
    "collapsed": false
   },
   "outputs": [],
   "source": [
    "def array_precis(frz, rmin, rmax, zmin, zmax, np, precis, tronc):\n",
    "    RP = RealField(precis)\n",
    "    rmin = RP(rmin)\n",
    "    rmax = RP(rmax)\n",
    "    zmin = RP(zmin)\n",
    "    zmax = RP(zmax)\n",
    "    dr = (rmax - rmin) / RP(np-1)\n",
    "    dz = (zmax - zmin) / RP(np-1)\n",
    "    resu = []\n",
    "    for i in range(np):\n",
    "        list_z = []\n",
    "        zz = zmin + dz * RP(i)\n",
    "        fzz = frz.subs(z=zz)\n",
    "        for j in range(np):\n",
    "            rr = rmin + dr * RP(j)\n",
    "            fzzrr = fzz.subs(r = rr)\n",
    "            val = RP(log(abs(fzzrr) + 1e-20, 10))\n",
    "            if val < -tronc:\n",
    "                val = -tronc\n",
    "            elif val > tronc:\n",
    "                val = tronc\n",
    "            list_z.append(val)\n",
    "        resu.append(list_z)\n",
    "    return resu"
   ]
  },
  {
   "cell_type": "code",
   "execution_count": null,
   "metadata": {
    "collapsed": false
   },
   "outputs": [],
   "source": [
    "rmin = 0.1\n",
    "rmax = 3\n",
    "zmin = -2\n",
    "zmax = 2\n",
    "npr = 10\n",
    "npz = npr\n",
    "precis = 100\n",
    "tronc = 5\n",
    "val = array_precis(S1Erz, rmin, rmax, zmin, zmax, npr, precis, tronc)"
   ]
  },
  {
   "cell_type": "code",
   "execution_count": null,
   "metadata": {
    "collapsed": false
   },
   "outputs": [],
   "source": [
    "from sage.misc.decorators import options, suboptions\n",
    "\n",
    "@suboptions('colorbar', orientation='vertical', format=None, spacing=None)\n",
    "@suboptions('label', fontsize=9, colors='blue', inline=None, inline_spacing=3, fmt=\"%1.2f\")\n",
    "@options(plot_points=100, fill=True, contours=None, linewidths=None, linestyles=None, \n",
    "         labels=False, frame=True, axes=False, colorbar=False, legend_label=None, \n",
    "         aspect_ratio=1)\n",
    "def contour_plot_precis(f, xrange, yrange, **options):\n",
    "    from sage.plot.all import Graphics\n",
    "    from sage.plot.misc import setup_for_eval_on_grid\n",
    "    from sage.plot.contour_plot import ContourPlot\n",
    "\n",
    "    np = options['plot_points']\n",
    "    precis = 200\n",
    "    tronc = 10\n",
    "    xy_data_array = array_precis(f, xrange[0], xrange[1], yrange[0], yrange[1], np, precis, \n",
    "                                 tronc)\n",
    "\n",
    "    g = Graphics()\n",
    "\n",
    "    # Reset aspect_ratio to 'automatic' in case scale is 'semilog[xy]'.\n",
    "    # Otherwise matplotlib complains.\n",
    "    scale = options.get('scale', None)\n",
    "    if isinstance(scale, (list, tuple)):\n",
    "        scale = scale[0]\n",
    "    if scale == 'semilogy' or scale == 'semilogx':\n",
    "        options['aspect_ratio'] = 'automatic'\n",
    "\n",
    "    g._set_extra_kwds(Graphics._extract_kwds_for_show(options, ignore=['xmin', 'xmax']))\n",
    "    g.add_primitive(ContourPlot(xy_data_array, xrange, yrange, options))\n",
    "    return g"
   ]
  },
  {
   "cell_type": "code",
   "execution_count": null,
   "metadata": {
    "collapsed": false
   },
   "outputs": [],
   "source": [
    "c1rz = contour_plot_precis(S1Erz, (0.0001,10), (-5,5.001), plot_points=300, fill=False, \n",
    "                           cmap='hsv', linewidths=1, \n",
    "                           contours=(-10,-9,-8,-7,-6,-5.5,-5,-4.5,-4,-3.5,-3,-2.5,-2,-1.5,-1,\n",
    "                                     -0.5,0,0.5,1,1.5,2,2.5,3,3.5,4,4.5,5), \n",
    "                           colorbar=True, colorbar_spacing='uniform', colorbar_format='%1.f', \n",
    "                           axes_labels=(r\"$\\rho\\,\\left[M\\right]$\", r\"$z\\,\\left[M\\right]$\"), \n",
    "                           fontsize=14)"
   ]
  },
  {
   "cell_type": "code",
   "execution_count": null,
   "metadata": {
    "collapsed": false
   },
   "outputs": [],
   "source": [
    "g00rz = g00.subs(x=1/2*(sqrt(r^2+(z+1)^2)+sqrt(r^2+(z-1)^2)), \n",
    "                 y=1/2*(sqrt(r^2+(z+1)^2)-sqrt(r^2+(z-1)^2))).simplify_full()\n",
    "c2 = implicit_plot(g00rz, (0.0001,10), (-5,5.001), plot_points=200, fill=False, \n",
    "                   linewidth=1, color='black', \n",
    "                   axes_labels=(r\"$\\rho\\,\\left[M\\right]$\", r\"$z\\,\\left[M\\right]$\"), fontsize=14)\n",
    "S1TSrz = c1rz+c2\n",
    "show(S1TSrz)"
   ]
  },
  {
   "cell_type": "code",
   "execution_count": null,
   "metadata": {
    "collapsed": false
   },
   "outputs": [],
   "source": [
    "c2rz = contour_plot_precis(S2Erz, (0.0001,10), (-5,5.001), plot_points=300, fill=False, \n",
    "                           cmap='hsv', linewidths=1, \n",
    "                           contours=(-10,-9,-8,-7,-6,-5.5,-5,-4.5,-4,-3.5,-3,-2.5,-2,-1.5,-1,\n",
    "                                     -0.5,0,0.5,1,1.5,2,2.5,3,3.5,4,4.5,5), \n",
    "                           colorbar=True, colorbar_spacing='uniform', colorbar_format='%1.f', \n",
    "                           axes_labels=(r\"$\\rho\\,\\left[M\\right]$\", r\"$z\\,\\left[M\\right]$\"), \n",
    "                           fontsize=14)\n",
    "S2TSrz = c2rz+c2\n",
    "show(S2TSrz)"
   ]
  }
 ],
 "metadata": {
  "kernelspec": {
   "display_name": "SageMath 7.5.rc2",
   "language": "",
   "name": "sagemath"
  },
  "language": "python",
  "language_info": {
   "codemirror_mode": {
    "name": "ipython",
    "version": 2
   },
   "file_extension": ".py",
   "mimetype": "text/x-python",
   "name": "python",
   "nbconvert_exporter": "python",
   "pygments_lexer": "ipython2",
   "version": "2.7.12"
  }
 },
 "nbformat": 4,
 "nbformat_minor": 0
}
