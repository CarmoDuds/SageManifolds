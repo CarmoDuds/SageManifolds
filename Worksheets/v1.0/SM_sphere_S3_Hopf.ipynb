{
 "cells": [
  {
   "cell_type": "markdown",
   "metadata": {},
   "source": [
    "# 3-sphere: charts and Hopf fibration\n",
    "\n",
    "This worksheet demonstrates a few capabilities of\n",
    "[SageManifolds](http://sagemanifolds.obspm.fr) (version 1.0, as included in SageMath 7.5)\n",
    "on the example of the 3-dimensional sphere, $\\mathbb{S}^3$.\n",
    "\n",
    "Click [here](https://raw.githubusercontent.com/sagemanifolds/SageManifolds/master/Worksheets/v1.0/SM_sphere_S3_Hopf.ipynb) to download the worksheet file (ipynb format). To run it, you must start SageMath with the Jupyter notebook, via the command `sage -n jupyter`"
   ]
  },
  {
   "cell_type": "markdown",
   "metadata": {},
   "source": [
    "*NB:* a version of SageMath at least equal to 7.5 is required to run this worksheet:"
   ]
  },
  {
   "cell_type": "code",
   "execution_count": null,
   "metadata": {
    "collapsed": false
   },
   "outputs": [],
   "source": [
    "version()"
   ]
  },
  {
   "cell_type": "markdown",
   "metadata": {},
   "source": [
    "First we set up the notebook to display mathematical objects using LaTeX formatting:"
   ]
  },
  {
   "cell_type": "code",
   "execution_count": null,
   "metadata": {
    "collapsed": true
   },
   "outputs": [],
   "source": [
    "%display latex"
   ]
  },
  {
   "cell_type": "markdown",
   "metadata": {},
   "source": [
    "We also define a viewer for 3D plots (use `'threejs'` or `'jmol'` for interactive 3D graphics):"
   ]
  },
  {
   "cell_type": "code",
   "execution_count": null,
   "metadata": {
    "collapsed": true
   },
   "outputs": [],
   "source": [
    "viewer3D = 'threejs' # must be 'threejs', jmol', 'tachyon' or None (default)"
   ]
  },
  {
   "cell_type": "markdown",
   "metadata": {},
   "source": [
    "## $\\mathbb{S}^3$ as a 3-dimensional differentiable manifold\n",
    "\n",
    "We start by declaring $\\mathbb{S}^3$ as a differentiable manifold of dimension 3 over $\\mathbb{R}$:"
   ]
  },
  {
   "cell_type": "code",
   "execution_count": null,
   "metadata": {
    "collapsed": true
   },
   "outputs": [],
   "source": [
    "S3 = Manifold(3, 'S^3', latex_name=r'\\mathbb{S}^3', start_index=1)"
   ]
  },
  {
   "cell_type": "markdown",
   "metadata": {},
   "source": [
    "The first argument, `3`, is the dimension of the manifold, while the second argument is the symbol used to label the manifold, with the LaTeX output specified by the argument `latex_name`. The argument `start_index` sets the index range to be used on the manifold for labelling components w.r.t. a basis or a frame: `start_index=1` corresponds to $\\{1,2,3\\}$; the default value is `start_index=0`, yielding to $\\{0,1,2\\}$."
   ]
  },
  {
   "cell_type": "code",
   "execution_count": null,
   "metadata": {
    "collapsed": false
   },
   "outputs": [],
   "source": [
    "print(S3)"
   ]
  },
  {
   "cell_type": "code",
   "execution_count": null,
   "metadata": {
    "collapsed": false
   },
   "outputs": [],
   "source": [
    "S3"
   ]
  },
  {
   "cell_type": "markdown",
   "metadata": {},
   "source": [
    "### Coordinate charts on $\\mathbb{S}^3$\n",
    "\n",
    "The 3-sphere cannot be covered by a single chart. At least two charts are necessary, for instance the charts associated with the stereographic projections from two distinct points, $N$ and $S$ say,\n",
    "which we may call the *North pole* and the *South pole* respectively. Let us introduce the open subsets covered by these two charts: \n",
    "$$ U := \\mathbb{S}^3\\setminus\\{N\\} $$  \n",
    "$$ V := \\mathbb{S}^3\\setminus\\{S\\} $$"
   ]
  },
  {
   "cell_type": "code",
   "execution_count": null,
   "metadata": {
    "collapsed": false
   },
   "outputs": [],
   "source": [
    "U = S3.open_subset('U') ; print(U)"
   ]
  },
  {
   "cell_type": "code",
   "execution_count": null,
   "metadata": {
    "collapsed": false
   },
   "outputs": [],
   "source": [
    "V = S3.open_subset('V') ; print(V)"
   ]
  },
  {
   "cell_type": "markdown",
   "metadata": {},
   "source": [
    "We declare that $\\mathbb{S}^3 = U \\cup V$:"
   ]
  },
  {
   "cell_type": "code",
   "execution_count": null,
   "metadata": {
    "collapsed": true
   },
   "outputs": [],
   "source": [
    "S3.declare_union(U, V)"
   ]
  },
  {
   "cell_type": "markdown",
   "metadata": {
    "collapsed": true
   },
   "source": [
    "Then we introduce the stereographic chart on $U$, denoting by $(x,y,z)$ the coordinates resulting from the stereographic projection from the North pole onto the equatorial plane:"
   ]
  },
  {
   "cell_type": "code",
   "execution_count": null,
   "metadata": {
    "collapsed": false
   },
   "outputs": [],
   "source": [
    "stereoN.<x,y,z> = U.chart()\n",
    "stereoN"
   ]
  },
  {
   "cell_type": "code",
   "execution_count": null,
   "metadata": {
    "collapsed": false
   },
   "outputs": [],
   "source": [
    "stereoN.coord_range()"
   ]
  },
  {
   "cell_type": "markdown",
   "metadata": {},
   "source": [
    "Similarly, we introduce on $V$ the coordinates $(x',y',z')$ corresponding to the stereographic projection from the South pole onto the equatorial plane:"
   ]
  },
  {
   "cell_type": "code",
   "execution_count": null,
   "metadata": {
    "collapsed": false
   },
   "outputs": [],
   "source": [
    "stereoS.<xp,yp,zp> = V.chart(\"xp:x' yp:y' zp:z'\")\n",
    "stereoS"
   ]
  },
  {
   "cell_type": "code",
   "execution_count": null,
   "metadata": {
    "collapsed": false
   },
   "outputs": [],
   "source": [
    "stereoS.coord_range()"
   ]
  },
  {
   "cell_type": "markdown",
   "metadata": {},
   "source": [
    "We have to specify the **transition map** between the charts `stereoN` = $(U,(x,y,z))$ and `stereoS` = $(V,(x',y',z'))$; it is given by the standard inversion formulas:"
   ]
  },
  {
   "cell_type": "code",
   "execution_count": null,
   "metadata": {
    "collapsed": false
   },
   "outputs": [],
   "source": [
    "r2 = x^2+y^2+z^2\n",
    "stereoN_to_S = stereoN.transition_map(stereoS, \n",
    "                                      (x/r2, y/r2, z/r2), \n",
    "                                      intersection_name='W',\n",
    "                                      restrictions1= x^2+y^2+z^2!=0, \n",
    "                                      restrictions2= xp^2+yp^2+zp^2!=0)\n",
    "stereoN_to_S.display()"
   ]
  },
  {
   "cell_type": "markdown",
   "metadata": {},
   "source": [
    "In the above declaration, `'W'` is the name given to the open subset where the two charts overlap: $W := U\\cap V$, the condition $x^2+y^2+z^2\\not=0$  defines $W$ as a subset of $U$, and the condition $x'^2+y'^2+z'^2\\not=0$ defines $W$ as a subset of $V$.\n",
    "\n",
    "The inverse coordinate transformation is computed by means of the method `inverse()`:"
   ]
  },
  {
   "cell_type": "code",
   "execution_count": null,
   "metadata": {
    "collapsed": false
   },
   "outputs": [],
   "source": [
    "stereoS_to_N = stereoN_to_S.inverse()\n",
    "stereoS_to_N.display()"
   ]
  },
  {
   "cell_type": "markdown",
   "metadata": {},
   "source": [
    "Note that the situation is of course perfectly symmetric regarding the coordinates $(x,y,z)$ and $(x',y',z')$.\n",
    "\n",
    "At this stage, the user's atlas has four charts:"
   ]
  },
  {
   "cell_type": "code",
   "execution_count": null,
   "metadata": {
    "collapsed": false
   },
   "outputs": [],
   "source": [
    "S3.atlas()"
   ]
  },
  {
   "cell_type": "markdown",
   "metadata": {},
   "source": [
    "For future reference, we store $W=U\\cap V$ into a Python variable:"
   ]
  },
  {
   "cell_type": "code",
   "execution_count": null,
   "metadata": {
    "collapsed": false
   },
   "outputs": [],
   "source": [
    "W = U.intersection(V)\n",
    "print(W)"
   ]
  },
  {
   "cell_type": "markdown",
   "metadata": {},
   "source": [
    "### The North and South poles\n",
    "\n",
    "$N$ is the point of $V$ of stereographic coordinates $(x',y',z')=(0,0,0)$:"
   ]
  },
  {
   "cell_type": "code",
   "execution_count": null,
   "metadata": {
    "collapsed": false
   },
   "outputs": [],
   "source": [
    "N = V((0,0,0), chart=stereoS, name='N')\n",
    "print(N)"
   ]
  },
  {
   "cell_type": "markdown",
   "metadata": {},
   "source": [
    "while $S$ is the point of U of stereographic coordinates $(x,y,z)=(0,0,0)$:"
   ]
  },
  {
   "cell_type": "code",
   "execution_count": null,
   "metadata": {
    "collapsed": false
   },
   "outputs": [],
   "source": [
    "S = U((0,0,0), chart=stereoN, name='S')\n",
    "print(S)"
   ]
  },
  {
   "cell_type": "markdown",
   "metadata": {},
   "source": [
    "We have of course"
   ]
  },
  {
   "cell_type": "code",
   "execution_count": null,
   "metadata": {
    "collapsed": false
   },
   "outputs": [],
   "source": [
    "all([N not in U, N in V, S in U, S not in V])"
   ]
  },
  {
   "cell_type": "markdown",
   "metadata": {},
   "source": [
    "## Embedding of $\\mathbb{S}^3$ into $\\mathbb{R}^4$\n",
    "\n",
    "Let us first declare $\\mathbb{R}^4$ as a 4-dimensional manifold covered by a single chart (the so-called **Cartesian coordinates**):"
   ]
  },
  {
   "cell_type": "code",
   "execution_count": null,
   "metadata": {
    "collapsed": false
   },
   "outputs": [],
   "source": [
    "R4 = Manifold(4, 'R^4', r'\\mathbb{R}^4')\n",
    "X4.<T,X,Y,Z> = R4.chart()\n",
    "X4"
   ]
  },
  {
   "cell_type": "markdown",
   "metadata": {},
   "source": [
    "The embedding of $\\mathbb{S}^3$ into $\\mathbb{R}^4$ is then defined by the standard formulas relating the stereographic coordinates to the ambient Cartesian ones when considering a **stereographic projection** from the point $(-1,0,0,0)$ to the equatorial plane $T=0$:"
   ]
  },
  {
   "cell_type": "code",
   "execution_count": null,
   "metadata": {
    "collapsed": false
   },
   "outputs": [],
   "source": [
    "rp2 = xp^2 + yp^2 + zp^2\n",
    "Phi = S3.diff_map(R4, {(stereoN, X4): \n",
    "                       [(1-r2)/(r2+1), 2*x/(r2+1), \n",
    "                        2*y/(r2+1), 2*z/(r2+1)],\n",
    "                       (stereoS, X4):\n",
    "                       [(rp2-1)/(rp2+1), 2*xp/(rp2+1), \n",
    "                        2*yp/(rp2+1), 2*zp/(rp2+1)]},\n",
    "                  name='Phi', latex_name=r'\\Phi')\n",
    "Phi.display()"
   ]
  },
  {
   "cell_type": "code",
   "execution_count": null,
   "metadata": {
    "collapsed": false
   },
   "outputs": [],
   "source": [
    "graph_stereoN = stereoN.plot(chart=X4, mapping=Phi, \n",
    "                             ambient_coords=(X,Y,Z),\n",
    "                             number_values=5,\n",
    "                             label_axes=False)\n",
    "show(graph_stereoN, viewer=viewer3D, axes_labels=['X', 'Y', 'Z'])"
   ]
  },
  {
   "cell_type": "code",
   "execution_count": null,
   "metadata": {
    "collapsed": false
   },
   "outputs": [],
   "source": [
    "graph_stereoN = stereoN.plot(chart=X4, mapping=Phi, \n",
    "                             ambient_coords=(X,Y,T),\n",
    "                             number_values=5,\n",
    "                             label_axes=False)"
   ]
  },
  {
   "cell_type": "code",
   "execution_count": null,
   "metadata": {
    "collapsed": false
   },
   "outputs": [],
   "source": [
    "pointN = N.plot(chart=X4, mapping=Phi, ambient_coords=(X,Y,T), color='red', \n",
    "                label_offset=0.05)\n",
    "pointS = S.plot(chart=X4, mapping=Phi, ambient_coords=(X,Y,T), color='green', \n",
    "                label_offset=0.05)\n",
    "show(graph_stereoN + pointN + pointS, viewer=viewer3D, \n",
    "     axes_labels=['X', 'Y', 'T'])"
   ]
  },
  {
   "cell_type": "markdown",
   "metadata": {},
   "source": [
    "### Projections of $\\mathbb{R}^4$ to $\\mathbb{S}^3$"
   ]
  },
  {
   "cell_type": "code",
   "execution_count": null,
   "metadata": {
    "collapsed": false
   },
   "outputs": [],
   "source": [
    "R4N = R4.open_subset('R4N', latex_name=r'\\mathbb{R}^4_N', \n",
    "                     coord_def={X4: T!=-1})\n",
    "X4N = X4.restrict(R4N)"
   ]
  },
  {
   "cell_type": "code",
   "execution_count": null,
   "metadata": {
    "collapsed": false
   },
   "outputs": [],
   "source": [
    "ProjN = R4N.diff_map(U, {(X4N, stereoN): \n",
    "                         [X/(1+T), Y/(1+T), Z/(1+T)]},\n",
    "                     name='P_N', latex_name=r'\\Pi_N')\n",
    "ProjN.display()"
   ]
  },
  {
   "cell_type": "code",
   "execution_count": null,
   "metadata": {
    "collapsed": true
   },
   "outputs": [],
   "source": [
    "R4S = R4.open_subset('R4S', latex_name=r'\\mathbb{R}^4_S', \n",
    "                     coord_def={X4: T!=1})\n",
    "X4S = X4.restrict(R4S)"
   ]
  },
  {
   "cell_type": "code",
   "execution_count": null,
   "metadata": {
    "collapsed": false
   },
   "outputs": [],
   "source": [
    "ProjS = R4S.diff_map(V, {(X4S, stereoS): \n",
    "                         [X/(1-T), Y/(1-T), Z/(1-T)]},\n",
    "                     name='P_S', latex_name=r'\\Pi_S')\n",
    "ProjS.display()"
   ]
  },
  {
   "cell_type": "code",
   "execution_count": null,
   "metadata": {
    "collapsed": false
   },
   "outputs": [],
   "source": [
    "var('a b c', domain='real')\n",
    "p = S3.point((1+a^2,b,c), chart=stereoN)\n",
    "stereoN(p)"
   ]
  },
  {
   "cell_type": "code",
   "execution_count": null,
   "metadata": {
    "collapsed": false
   },
   "outputs": [],
   "source": [
    "all([p in U, p in V])"
   ]
  },
  {
   "cell_type": "code",
   "execution_count": null,
   "metadata": {
    "collapsed": false
   },
   "outputs": [],
   "source": [
    "all([ProjN(Phi(p)) == p, ProjS(Phi(p)) == p])"
   ]
  },
  {
   "cell_type": "code",
   "execution_count": null,
   "metadata": {
    "collapsed": false
   },
   "outputs": [],
   "source": [
    "p = S3.point((1+a^2,b,c), chart=stereoS)\n",
    "all([ProjN(Phi(p)) == p, ProjS(Phi(p)) == p])"
   ]
  },
  {
   "cell_type": "code",
   "execution_count": null,
   "metadata": {
    "collapsed": false
   },
   "outputs": [],
   "source": [
    "q = R4.point((sqrt(3)/2, sin(a)*cos(b)/2, sin(a)*sin(b)/2, cos(a)/2))\n",
    "X4(q)"
   ]
  },
  {
   "cell_type": "code",
   "execution_count": null,
   "metadata": {
    "collapsed": false
   },
   "outputs": [],
   "source": [
    "all([q in R4N, q in R4S])"
   ]
  },
  {
   "cell_type": "code",
   "execution_count": null,
   "metadata": {
    "collapsed": false
   },
   "outputs": [],
   "source": [
    "all([Phi(ProjN(q)) == q, Phi(ProjS(q)) == q])"
   ]
  },
  {
   "cell_type": "markdown",
   "metadata": {},
   "source": [
    "## Hyperspherical coordinates"
   ]
  },
  {
   "cell_type": "code",
   "execution_count": null,
   "metadata": {
    "collapsed": false
   },
   "outputs": [],
   "source": [
    "A = W.open_subset('A', coord_def={stereoN.restrict(W): (y!=0, x<0), \n",
    "                                  stereoS.restrict(W): (yp!=0, xp<0)})\n",
    "print(A)"
   ]
  },
  {
   "cell_type": "code",
   "execution_count": null,
   "metadata": {
    "collapsed": false
   },
   "outputs": [],
   "source": [
    "spher.<ch,th,ph> = A.chart(r'ch:(0,pi):\\chi th:(0,pi):\\theta ph:(0,2*pi):\\phi')\n",
    "spher"
   ]
  },
  {
   "cell_type": "code",
   "execution_count": null,
   "metadata": {
    "collapsed": false
   },
   "outputs": [],
   "source": [
    "den = 1 + cos(ch)\n",
    "spher_to_stereoN = spher.transition_map(stereoN.restrict(A), \n",
    "                                        (sin(ch)*sin(th)*cos(ph)/den,\n",
    "                                         sin(ch)*sin(th)*sin(ph)/den,\n",
    "                                         sin(ch)*cos(th)/den))\n",
    "spher_to_stereoN.display()"
   ]
  },
  {
   "cell_type": "code",
   "execution_count": null,
   "metadata": {
    "collapsed": false
   },
   "outputs": [],
   "source": [
    "spher_to_stereoN.set_inverse(2*atan(sqrt(x^2+y^2+z^2)),\n",
    "                             atan2(sqrt(x^2+y^2), z),\n",
    "                             atan2(-y, -x)+pi,\n",
    "                             verbose=True)"
   ]
  },
  {
   "cell_type": "code",
   "execution_count": null,
   "metadata": {
    "collapsed": false
   },
   "outputs": [],
   "source": [
    "spher_to_stereoN.inverse().display()"
   ]
  },
  {
   "cell_type": "code",
   "execution_count": null,
   "metadata": {
    "collapsed": false
   },
   "outputs": [],
   "source": [
    "spher_to_stereoS = stereoN_to_S.restrict(A) * spher_to_stereoN\n",
    "spher_to_stereoS.display()"
   ]
  },
  {
   "cell_type": "code",
   "execution_count": null,
   "metadata": {
    "collapsed": false
   },
   "outputs": [],
   "source": [
    "stereoS_to_spher = spher_to_stereoN.inverse() * stereoS_to_N.restrict(A)\n",
    "stereoS_to_spher.display()"
   ]
  },
  {
   "cell_type": "code",
   "execution_count": null,
   "metadata": {
    "collapsed": false
   },
   "outputs": [],
   "source": [
    "Phi.display(stereoN.restrict(A), X4)"
   ]
  },
  {
   "cell_type": "code",
   "execution_count": null,
   "metadata": {
    "collapsed": false
   },
   "outputs": [],
   "source": [
    "Phi.display(spher, X4)"
   ]
  },
  {
   "cell_type": "code",
   "execution_count": null,
   "metadata": {
    "collapsed": false
   },
   "outputs": [],
   "source": [
    "Phi.display()"
   ]
  },
  {
   "cell_type": "code",
   "execution_count": null,
   "metadata": {
    "collapsed": false
   },
   "outputs": [],
   "source": [
    "# graph = spher.plot(stereoN, \n",
    "#                   number_values=9,\n",
    "#                   ranges={ch: (0, 3*pi/4)},\n",
    "#                   color={ch: 'red', th: 'green', ph: 'gold'})\n",
    "#show(graph, viewer=viewer3D, axes_labels=['x', 'y', 'z'])"
   ]
  },
  {
   "cell_type": "code",
   "execution_count": null,
   "metadata": {
    "collapsed": false
   },
   "outputs": [],
   "source": [
    "#graph = spher.plot(stereoN,\n",
    "#                   number_values={ch: 9, th: 9, ph: 1},\n",
    "#                   ranges={ch: (0, 3*pi/4)},\n",
    "#                   color={ch: 'red', th: 'green', ph: 'gold'})\n",
    "#show(graph, viewer=viewer3D, axes_labels=['x', 'y', 'z'])"
   ]
  },
  {
   "cell_type": "markdown",
   "metadata": {},
   "source": [
    "## Quaternions"
   ]
  },
  {
   "cell_type": "code",
   "execution_count": null,
   "metadata": {
    "collapsed": true
   },
   "outputs": [],
   "source": [
    "def qprod(p,q):\n",
    "    if p in R4 and q in R4:\n",
    "        T1, X1, Y1, Z1 = p.coord()\n",
    "        T2, X2, Y2, Z2 = q.coord()\n",
    "        return R4(((T1*T2-X1*X2-Y1*Y2-Z1*Z2).simplify_full(),\n",
    "                   (T1*X2+X1*T2+Y1*Z2-Z1*Y2).simplify_full(),\n",
    "                   (T1*Y2-X1*Z2+Y1*T2+Z1*X2).simplify_full(),\n",
    "                   (T1*Z2+X1*Y2-Y1*X2+Z1*T2).simplify_full()))\n",
    "    if p in S3 and q in S3:\n",
    "        a = qprod(Phi(p),Phi(q))\n",
    "        if a.coord() != (-1,0,0,0):\n",
    "            return ProjN(R4N(a))\n",
    "        return ProjS(R4S(a))\n",
    "    raise ValueError(\"Cannot evaluate qprod of {} and {}\".format(p,q))"
   ]
  },
  {
   "cell_type": "code",
   "execution_count": null,
   "metadata": {
    "collapsed": false
   },
   "outputs": [],
   "source": [
    "One = S3((0,0,0), chart=stereoN, name='1', latex_name=r'\\mathbf{1}')\n",
    "Phi(One).coord()"
   ]
  },
  {
   "cell_type": "code",
   "execution_count": null,
   "metadata": {
    "collapsed": false
   },
   "outputs": [],
   "source": [
    "One == S"
   ]
  },
  {
   "cell_type": "code",
   "execution_count": null,
   "metadata": {
    "collapsed": false
   },
   "outputs": [],
   "source": [
    "minusOne = S3((0,0,0), chart=stereoS, name='-1', latex_name=r'-\\mathbf{1}')\n",
    "Phi(minusOne).coord()"
   ]
  },
  {
   "cell_type": "code",
   "execution_count": null,
   "metadata": {
    "collapsed": false
   },
   "outputs": [],
   "source": [
    "minusOne == N"
   ]
  },
  {
   "cell_type": "code",
   "execution_count": null,
   "metadata": {
    "collapsed": false
   },
   "outputs": [],
   "source": [
    "I = S3((1,0,0), chart=stereoN, name='i', latex_name=r'\\mathbf{i}')\n",
    "Phi(I).coord()"
   ]
  },
  {
   "cell_type": "code",
   "execution_count": null,
   "metadata": {
    "collapsed": false
   },
   "outputs": [],
   "source": [
    "J = S3((0,1,0), chart=stereoN, name='j', latex_name=r'\\mathbf{j}')\n",
    "Phi(J).coord()"
   ]
  },
  {
   "cell_type": "code",
   "execution_count": null,
   "metadata": {
    "collapsed": false
   },
   "outputs": [],
   "source": [
    "K = S3((0,0,1), chart=stereoN, name='k', latex_name=r'\\mathbf{k}')\n",
    "Phi(K).coord()"
   ]
  },
  {
   "cell_type": "code",
   "execution_count": null,
   "metadata": {
    "collapsed": false
   },
   "outputs": [],
   "source": [
    "all([qprod(One,One) == One, qprod(I,I) == minusOne,\n",
    "     qprod(J,J) == minusOne, qprod(K,K) == minusOne])"
   ]
  },
  {
   "cell_type": "code",
   "execution_count": null,
   "metadata": {
    "collapsed": false
   },
   "outputs": [],
   "source": [
    "qprod(I, qprod(J,K)) == minusOne"
   ]
  },
  {
   "cell_type": "code",
   "execution_count": null,
   "metadata": {
    "collapsed": false
   },
   "outputs": [],
   "source": [
    "all([qprod(I,J) == K, qprod(J,K) == I,\n",
    "     qprod(K,I) == J])"
   ]
  },
  {
   "cell_type": "code",
   "execution_count": null,
   "metadata": {
    "collapsed": false
   },
   "outputs": [],
   "source": [
    "def qconj(p):\n",
    "    if p in R4:\n",
    "        T, X, Y, Z = p.coord()\n",
    "        return R4((T, -X, -Y, -Z))\n",
    "    if p in S3:\n",
    "        a = qconj(Phi(p))\n",
    "        if a.coord() != (-1,0,0,0):\n",
    "            return ProjN(a)\n",
    "        return ProjS(a)\n",
    "    raise ValueError(\"Cannot evaluate qconf of {}\".format(p)) "
   ]
  },
  {
   "cell_type": "code",
   "execution_count": null,
   "metadata": {
    "collapsed": false
   },
   "outputs": [],
   "source": [
    "minusI = qprod(minusOne, I)\n",
    "Phi(minusI).coord()"
   ]
  },
  {
   "cell_type": "code",
   "execution_count": null,
   "metadata": {
    "collapsed": false
   },
   "outputs": [],
   "source": [
    "minusJ = qprod(minusOne, J)\n",
    "Phi(minusJ).coord()"
   ]
  },
  {
   "cell_type": "code",
   "execution_count": null,
   "metadata": {
    "collapsed": false
   },
   "outputs": [],
   "source": [
    "minusK = qprod(minusOne, K)\n",
    "Phi(minusK).coord()"
   ]
  },
  {
   "cell_type": "code",
   "execution_count": null,
   "metadata": {
    "collapsed": false
   },
   "outputs": [],
   "source": [
    "all([qconj(One) == One, \n",
    "     qconj(I) == minusI,\n",
    "     qconj(J) == minusJ, \n",
    "     qconj(K) == minusK])"
   ]
  },
  {
   "cell_type": "code",
   "execution_count": null,
   "metadata": {
    "collapsed": false
   },
   "outputs": [],
   "source": [
    "assume(a != 0)\n",
    "p = S3((a,b,c), chart=stereoN)\n",
    "qconj(p).coord()"
   ]
  },
  {
   "cell_type": "code",
   "execution_count": null,
   "metadata": {
    "collapsed": false
   },
   "outputs": [],
   "source": [
    "p = S3((a,b,c), chart=stereoS)\n",
    "qconj(p).coord(chart=stereoS)"
   ]
  },
  {
   "cell_type": "code",
   "execution_count": null,
   "metadata": {
    "collapsed": false
   },
   "outputs": [],
   "source": [
    "forget(a!=0)"
   ]
  },
  {
   "cell_type": "code",
   "execution_count": null,
   "metadata": {
    "collapsed": true
   },
   "outputs": [],
   "source": [
    "def qnorm(p):\n",
    "    if p in R4:\n",
    "        T, X, Y, Z = p.coord()\n",
    "        return (sqrt(T^2 + X^2 + Y^2 + Z^2)).simplify_full()\n",
    "    if p in S3:\n",
    "        return 1\n",
    "    raise ValueError(\"Cannot evaluate qnorm of {}\".format(p)) "
   ]
  },
  {
   "cell_type": "code",
   "execution_count": null,
   "metadata": {
    "collapsed": false
   },
   "outputs": [],
   "source": [
    "var('d')\n",
    "p = R4((a,b,c,d))\n",
    "qnorm(p)"
   ]
  },
  {
   "cell_type": "code",
   "execution_count": null,
   "metadata": {
    "collapsed": false
   },
   "outputs": [],
   "source": [
    "R4((qnorm(p)^2,0,0,0)) == qprod(qconj(p), p)"
   ]
  },
  {
   "cell_type": "code",
   "execution_count": null,
   "metadata": {
    "collapsed": false
   },
   "outputs": [],
   "source": [
    "(qnorm(One), qnorm(I), qnorm(J), qnorm(K)) == (1, 1, 1, 1)"
   ]
  },
  {
   "cell_type": "markdown",
   "metadata": {},
   "source": [
    "### Cayley map (conjugation)"
   ]
  },
  {
   "cell_type": "code",
   "execution_count": null,
   "metadata": {
    "collapsed": true
   },
   "outputs": [],
   "source": [
    "def cayley(p):\n",
    "    if p in R4:\n",
    "        return qprod(p, qprod(Phi(K), qconj(p)))\n",
    "    raise ValueError(\"Cannot evaluate cayley on {}\".format(p)) "
   ]
  },
  {
   "cell_type": "code",
   "execution_count": null,
   "metadata": {
    "collapsed": false
   },
   "outputs": [],
   "source": [
    "p_generic = R4((T,X,Y,Z))\n",
    "coord_Cp = cayley(p_generic).coord()\n",
    "coord_Cp"
   ]
  },
  {
   "cell_type": "code",
   "execution_count": null,
   "metadata": {
    "collapsed": false
   },
   "outputs": [],
   "source": [
    "C = R4.diff_map(R4, coord_Cp, name='C')\n",
    "C.display()"
   ]
  },
  {
   "cell_type": "code",
   "execution_count": null,
   "metadata": {
    "collapsed": false
   },
   "outputs": [],
   "source": [
    "CS = C * Phi\n",
    "CS.display()"
   ]
  },
  {
   "cell_type": "markdown",
   "metadata": {},
   "source": [
    "We note that the codomain of $\\left.C \\right|_{\\mathbb{S}^3} = C\\circ \\Phi$ lies in the hyperplane $T=0$, which we shall denote by $\\Sigma_{T=0}$. Moreover, if we consider a generic point $p\\in U\\subset\\mathbb{S}^3$:"
   ]
  },
  {
   "cell_type": "code",
   "execution_count": null,
   "metadata": {
    "collapsed": false
   },
   "outputs": [],
   "source": [
    "p = S3((a,b,c), chart=stereoN)"
   ]
  },
  {
   "cell_type": "markdown",
   "metadata": {},
   "source": [
    "we have $\\| p \\| = 1$:"
   ]
  },
  {
   "cell_type": "code",
   "execution_count": null,
   "metadata": {
    "collapsed": false
   },
   "outputs": [],
   "source": [
    "qnorm(CS(p))"
   ]
  },
  {
   "cell_type": "markdown",
   "metadata": {},
   "source": [
    "For the only point of $\\mathbb{S}^3$ not lying in $U$, i.e. $N = -\\mathbf{1}$, we have as well"
   ]
  },
  {
   "cell_type": "code",
   "execution_count": null,
   "metadata": {
    "collapsed": false
   },
   "outputs": [],
   "source": [
    "qnorm(CS(N))"
   ]
  },
  {
   "cell_type": "markdown",
   "metadata": {},
   "source": [
    "We conclude that the codomain of $\\left.C \\right|_{\\mathbb{S}^3}$ lies in $\\mathbb{S}^3\\cap\\Sigma_{T=0}$, which is a 2-sphere. \n",
    "\n",
    "In particular, we have:"
   ]
  },
  {
   "cell_type": "code",
   "execution_count": null,
   "metadata": {
    "collapsed": false
   },
   "outputs": [],
   "source": [
    "CS(K) == Phi(K)"
   ]
  },
  {
   "cell_type": "code",
   "execution_count": null,
   "metadata": {
    "collapsed": false
   },
   "outputs": [],
   "source": [
    "CS(One) == Phi(K)"
   ]
  },
  {
   "cell_type": "code",
   "execution_count": null,
   "metadata": {
    "collapsed": false
   },
   "outputs": [],
   "source": [
    "CS(minusOne) == Phi(K)"
   ]
  },
  {
   "cell_type": "code",
   "execution_count": null,
   "metadata": {
    "collapsed": false
   },
   "outputs": [],
   "source": [
    "CS(I) == Phi(minusK)"
   ]
  },
  {
   "cell_type": "code",
   "execution_count": null,
   "metadata": {
    "collapsed": false
   },
   "outputs": [],
   "source": [
    "CS(J) == Phi(minusK)"
   ]
  },
  {
   "cell_type": "code",
   "execution_count": null,
   "metadata": {
    "collapsed": false
   },
   "outputs": [],
   "source": [
    "CS(minusI) == Phi(minusK)"
   ]
  },
  {
   "cell_type": "code",
   "execution_count": null,
   "metadata": {
    "collapsed": false
   },
   "outputs": [],
   "source": [
    "CS(minusJ) == Phi(minusK)"
   ]
  },
  {
   "cell_type": "code",
   "execution_count": null,
   "metadata": {
    "collapsed": false
   },
   "outputs": [],
   "source": [
    "CS1 = CS.restrict(S3, subcodomain=R4N)\n",
    "CS1.display()"
   ]
  },
  {
   "cell_type": "code",
   "execution_count": null,
   "metadata": {
    "collapsed": false
   },
   "outputs": [],
   "source": [
    "PCS1 = ProjN * CS1\n",
    "PCS1.display()"
   ]
  },
  {
   "cell_type": "code",
   "execution_count": null,
   "metadata": {
    "collapsed": false
   },
   "outputs": [],
   "source": [
    "h3 = PCS1.restrict(S3, subcodomain=W)\n",
    "h3.display()"
   ]
  },
  {
   "cell_type": "code",
   "execution_count": null,
   "metadata": {
    "collapsed": false
   },
   "outputs": [],
   "source": [
    "h3(K) == K"
   ]
  },
  {
   "cell_type": "code",
   "execution_count": null,
   "metadata": {
    "collapsed": false
   },
   "outputs": [],
   "source": [
    "h3(One) == K"
   ]
  },
  {
   "cell_type": "code",
   "execution_count": null,
   "metadata": {
    "collapsed": false
   },
   "outputs": [],
   "source": [
    "h3(minusK) == K"
   ]
  },
  {
   "cell_type": "code",
   "execution_count": null,
   "metadata": {
    "collapsed": false
   },
   "outputs": [],
   "source": [
    "h3(minusOne) == K"
   ]
  },
  {
   "cell_type": "code",
   "execution_count": null,
   "metadata": {
    "collapsed": false
   },
   "outputs": [],
   "source": [
    "h3(I) == minusK"
   ]
  },
  {
   "cell_type": "code",
   "execution_count": null,
   "metadata": {
    "collapsed": false
   },
   "outputs": [],
   "source": [
    "h3(J) == minusK"
   ]
  },
  {
   "cell_type": "code",
   "execution_count": null,
   "metadata": {
    "collapsed": false
   },
   "outputs": [],
   "source": [
    "hx, hy, hz = h3.expr(stereoN, stereoN)"
   ]
  },
  {
   "cell_type": "code",
   "execution_count": null,
   "metadata": {
    "collapsed": false
   },
   "outputs": [],
   "source": [
    "(hx, hy, hz)"
   ]
  },
  {
   "cell_type": "code",
   "execution_count": null,
   "metadata": {
    "collapsed": false
   },
   "outputs": [],
   "source": [
    "(hx^2 + hy^2 + hz^2).simplify_full()"
   ]
  },
  {
   "cell_type": "markdown",
   "metadata": {},
   "source": [
    "## The equatorial 2-sphere"
   ]
  },
  {
   "cell_type": "code",
   "execution_count": null,
   "metadata": {
    "collapsed": false
   },
   "outputs": [],
   "source": [
    "S2 = Manifold(2, 'S^2', latex_name=r'\\mathbb{S}^2')\n",
    "print(S2)"
   ]
  },
  {
   "cell_type": "code",
   "execution_count": null,
   "metadata": {
    "collapsed": false
   },
   "outputs": [],
   "source": [
    "U2 = S2.open_subset('U_2')\n",
    "V2 = S2.open_subset('V_2')\n",
    "S2.declare_union(U2, V2)"
   ]
  },
  {
   "cell_type": "code",
   "execution_count": null,
   "metadata": {
    "collapsed": false
   },
   "outputs": [],
   "source": [
    "stereoN2.<x2,y2> = U2.chart(\"x2:x_2 y2:y_2\")\n",
    "stereoN2"
   ]
  },
  {
   "cell_type": "code",
   "execution_count": null,
   "metadata": {
    "collapsed": false
   },
   "outputs": [],
   "source": [
    "stereoS2.<xp2,yp2> = V2.chart(r\"xp2:{x'}_2 yp2:{y'}_2\")\n",
    "stereoS2"
   ]
  },
  {
   "cell_type": "code",
   "execution_count": null,
   "metadata": {
    "collapsed": false
   },
   "outputs": [],
   "source": [
    "stereoN_to_S2 = stereoN2.transition_map(stereoS2, \n",
    "                                        (x2/(x2^2+y2^2), y2/(x2^2+y2^2)), \n",
    "                                        intersection_name='W_2',\n",
    "                                        restrictions1= x2^2+y2^2!=0, \n",
    "                                        restrictions2= xp2^2+xp2^2!=0)\n",
    "stereoN_to_S2.display()"
   ]
  },
  {
   "cell_type": "code",
   "execution_count": null,
   "metadata": {
    "collapsed": false
   },
   "outputs": [],
   "source": [
    "stereoS_to_N2 = stereoN_to_S2.inverse()\n",
    "stereoS_to_N2.display()"
   ]
  },
  {
   "cell_type": "code",
   "execution_count": null,
   "metadata": {
    "collapsed": false
   },
   "outputs": [],
   "source": [
    "W2 = U2.intersection(V2)"
   ]
  },
  {
   "cell_type": "code",
   "execution_count": null,
   "metadata": {
    "collapsed": false
   },
   "outputs": [],
   "source": [
    "Phi2 = S2.diff_map(S3, {(stereoN2, stereoN): \n",
    "                        [2*x2/(1+x2^2+y2^2), \n",
    "                         2*y2/(1+x2^2+y2^2),\n",
    "                         (x2^2+y2^2-1)/(1+x2^2+y2^2)],\n",
    "                        (stereoS2, stereoN): \n",
    "                        [2*xp2/(1+xp2^2+yp2^2), \n",
    "                         2*yp2/(1+xp2^2+yp2^2),\n",
    "                         (1-xp2^2-yp2^2)/(1+xp2^2+yp2^2)]},\n",
    "                   name='Phi2', latex_name=r'\\Phi_2')\n",
    "Phi2.display()"
   ]
  },
  {
   "cell_type": "code",
   "execution_count": null,
   "metadata": {
    "collapsed": false
   },
   "outputs": [],
   "source": [
    "I2 = S2((1,0), chart=stereoN2)\n",
    "J2 = S2((0,1), chart=stereoN2)\n",
    "K2 = S2((0,0), chart=stereoS2)\n",
    "minusK2 = S2((0,0), chart=stereoN2)"
   ]
  },
  {
   "cell_type": "code",
   "execution_count": null,
   "metadata": {
    "collapsed": false
   },
   "outputs": [],
   "source": [
    "all([Phi2(I2) == I, Phi2(J2) == J,\n",
    "     Phi2(K2) == K, Phi2(minusK2) == minusK])"
   ]
  },
  {
   "cell_type": "markdown",
   "metadata": {},
   "source": [
    "### Spherical coordinates on $\\mathbb{S}^2$"
   ]
  },
  {
   "cell_type": "code",
   "execution_count": null,
   "metadata": {
    "collapsed": false
   },
   "outputs": [],
   "source": [
    "A2 = W2.open_subset('A_2', \n",
    "                    coord_def={stereoN2.restrict(W2): (y2!=0, x2<0), \n",
    "                               stereoS2.restrict(W2): (yp2!=0, xp2<0)})\n",
    "spher2.<th2,ph2> = A2.chart(r'th2:(0,pi):\\theta_2 ph2:(0,2*pi):\\phi_2')\n",
    "spher2_to_stereoN2 = spher2.transition_map(stereoN2.restrict(A2), \n",
    "                                        (sin(th2)*cos(ph2)/(1-cos(th2)),\n",
    "                                         sin(th2)*sin(ph2)/(1-cos(th2))))\n",
    "spher2_to_stereoN2.set_inverse(2*atan(1/sqrt(x2^2+y2^2)), \n",
    "                               atan2(-y2,-x2)+pi)\n",
    "spher2_to_stereoS2 = stereoN_to_S2.restrict(A2) * spher2_to_stereoN2\n",
    "stereoS2_to_spher2 = spher2_to_stereoN2.inverse() * \\\n",
    "                     stereoN_to_S2.inverse().restrict(A2)"
   ]
  },
  {
   "cell_type": "code",
   "execution_count": null,
   "metadata": {
    "collapsed": false
   },
   "outputs": [],
   "source": [
    "A2.atlas()"
   ]
  },
  {
   "cell_type": "code",
   "execution_count": null,
   "metadata": {
    "collapsed": true
   },
   "outputs": [],
   "source": [
    "Wz1 = W.open_subset('Wz1', latex_name=r'W_{z\\not=1}', \n",
    "                    coord_def={stereoN.restrict(W): z!=1})"
   ]
  },
  {
   "cell_type": "code",
   "execution_count": null,
   "metadata": {
    "collapsed": false
   },
   "outputs": [],
   "source": [
    "all([I in Wz1, J in Wz1, minusK in Wz1,\n",
    "     K not in Wz1, One not in Wz1, minusOne not in Wz1])"
   ]
  },
  {
   "cell_type": "code",
   "execution_count": null,
   "metadata": {
    "collapsed": false
   },
   "outputs": [],
   "source": [
    "Proj2N = Wz1.diff_map(U2, {(stereoN.restrict(Wz1), stereoN2): \n",
    "                           [x/(1-z), y/(1-z)]},\n",
    "                      name='P_2^N', latex_name=r'\\Pi_2^N')\n",
    "Proj2N.display()"
   ]
  },
  {
   "cell_type": "code",
   "execution_count": null,
   "metadata": {
    "collapsed": false
   },
   "outputs": [],
   "source": [
    "p = U2((a,b), chart=stereoN2)\n",
    "Proj2N(Phi2(p)) == p"
   ]
  },
  {
   "cell_type": "code",
   "execution_count": null,
   "metadata": {
    "collapsed": false
   },
   "outputs": [],
   "source": [
    "assume(cos(a)!=1, cos(a)!=0)\n",
    "p = U((sin(a)*cos(b), sin(a)*sin(b), cos(a)), chart=stereoN)\n",
    "Phi2(Proj2N(p)) == p"
   ]
  },
  {
   "cell_type": "code",
   "execution_count": null,
   "metadata": {
    "collapsed": true
   },
   "outputs": [],
   "source": [
    "forget(cos(a)!=1, cos(a)!=0)"
   ]
  },
  {
   "cell_type": "code",
   "execution_count": null,
   "metadata": {
    "collapsed": true
   },
   "outputs": [],
   "source": [
    "Wzm1 = W.open_subset('Wzm1', latex_name=r'W_{z\\not=-1}', \n",
    "                     coord_def={stereoN.restrict(W): z!=-1})"
   ]
  },
  {
   "cell_type": "code",
   "execution_count": null,
   "metadata": {
    "collapsed": false
   },
   "outputs": [],
   "source": [
    "all([I in Wzm1, J in Wzm1, K in Wzm1,\n",
    "     minusK not in Wzm1, One not in Wzm1, \n",
    "     minusOne not in Wzm1])"
   ]
  },
  {
   "cell_type": "code",
   "execution_count": null,
   "metadata": {
    "collapsed": false
   },
   "outputs": [],
   "source": [
    "Proj2S = Wzm1.diff_map(V2, {(stereoN.restrict(Wzm1), stereoS2): \n",
    "                            [x/(1+z), y/(1+z)]},\n",
    "                       name='P_2^S', latex_name=r'\\Pi_2^S')\n",
    "Proj2S.display()"
   ]
  },
  {
   "cell_type": "code",
   "execution_count": null,
   "metadata": {
    "collapsed": false
   },
   "outputs": [],
   "source": [
    "p = V2((a,b), chart=stereoS2)\n",
    "Proj2S(Phi2(p)) == p"
   ]
  },
  {
   "cell_type": "code",
   "execution_count": null,
   "metadata": {
    "collapsed": false
   },
   "outputs": [],
   "source": [
    "assume(cos(a)!=-1, cos(a)!=0)\n",
    "p = U((sin(a)*cos(b), sin(a)*sin(b), cos(a)), chart=stereoN)\n",
    "Phi2(Proj2S(p)) == p"
   ]
  },
  {
   "cell_type": "code",
   "execution_count": null,
   "metadata": {
    "collapsed": true
   },
   "outputs": [],
   "source": [
    "forget(cos(a)!=-1, cos(a)!=0)"
   ]
  },
  {
   "cell_type": "markdown",
   "metadata": {},
   "source": [
    "### Hopf map"
   ]
  },
  {
   "cell_type": "code",
   "execution_count": null,
   "metadata": {
    "collapsed": false
   },
   "outputs": [],
   "source": [
    "hz"
   ]
  },
  {
   "cell_type": "code",
   "execution_count": null,
   "metadata": {
    "collapsed": false
   },
   "outputs": [],
   "source": [
    "hz.numerator() - hz.denominator() == 0"
   ]
  },
  {
   "cell_type": "code",
   "execution_count": null,
   "metadata": {
    "collapsed": true
   },
   "outputs": [],
   "source": [
    "D1 = U.open_subset('D_1', coord_def=({stereoN: x^2+y^2!=0}))"
   ]
  },
  {
   "cell_type": "code",
   "execution_count": null,
   "metadata": {
    "collapsed": false
   },
   "outputs": [],
   "source": [
    "h3D1 = h3.restrict(D1, subcodomain=Wz1)\n",
    "h3D1.display()"
   ]
  },
  {
   "cell_type": "code",
   "execution_count": null,
   "metadata": {
    "collapsed": false
   },
   "outputs": [],
   "source": [
    "hD1 = Proj2N * h3D1\n",
    "hD1.display()"
   ]
  },
  {
   "cell_type": "code",
   "execution_count": null,
   "metadata": {
    "collapsed": false
   },
   "outputs": [],
   "source": [
    "all([hD1(I) == minusK2, hD1(J) == minusK2])"
   ]
  },
  {
   "cell_type": "code",
   "execution_count": null,
   "metadata": {
    "collapsed": false
   },
   "outputs": [],
   "source": [
    "s = ((hz.numerator() + hz.denominator())/2).simplify_full()\n",
    "s"
   ]
  },
  {
   "cell_type": "code",
   "execution_count": null,
   "metadata": {
    "collapsed": false
   },
   "outputs": [],
   "source": [
    "(s-(x^2+y^2+z^2-1)^2).simplify_full()"
   ]
  },
  {
   "cell_type": "code",
   "execution_count": null,
   "metadata": {
    "collapsed": false
   },
   "outputs": [],
   "source": [
    "(x^2+y^2+z^2-1)^2 + 4*z^2 == 0"
   ]
  },
  {
   "cell_type": "code",
   "execution_count": null,
   "metadata": {
    "collapsed": true
   },
   "outputs": [],
   "source": [
    "D2 = U.open_subset('D_2', coord_def=({stereoN: (x^2+y^2!=1, z!=0)}))"
   ]
  },
  {
   "cell_type": "code",
   "execution_count": null,
   "metadata": {
    "collapsed": false
   },
   "outputs": [],
   "source": [
    "h3D2 = h3.restrict(D2, subcodomain=Wzm1)\n",
    "h3D2.display()"
   ]
  },
  {
   "cell_type": "code",
   "execution_count": null,
   "metadata": {
    "collapsed": false
   },
   "outputs": [],
   "source": [
    "hD2 = Proj2S * h3D2\n",
    "hD2.display()"
   ]
  },
  {
   "cell_type": "code",
   "execution_count": null,
   "metadata": {
    "collapsed": false
   },
   "outputs": [],
   "source": [
    "all([hD2(K) == K2, hD2(minusK) == K2, hD2(One) == K2])"
   ]
  },
  {
   "cell_type": "code",
   "execution_count": null,
   "metadata": {
    "collapsed": true
   },
   "outputs": [],
   "source": [
    "U.declare_union(D1, D2)"
   ]
  },
  {
   "cell_type": "code",
   "execution_count": null,
   "metadata": {
    "collapsed": false
   },
   "outputs": [],
   "source": [
    "hx, hy, hz = h3.expr(stereoS, stereoN)\n",
    "(hx, hy, hz)"
   ]
  },
  {
   "cell_type": "code",
   "execution_count": null,
   "metadata": {
    "collapsed": false
   },
   "outputs": [],
   "source": [
    "s = (hz.numerator() - hz.denominator()).simplify_full()\n",
    "s"
   ]
  },
  {
   "cell_type": "code",
   "execution_count": null,
   "metadata": {
    "collapsed": true
   },
   "outputs": [],
   "source": [
    "D3 = V.open_subset('D_3', coord_def=({stereoS: xp^2+yp^2!=0}))"
   ]
  },
  {
   "cell_type": "code",
   "execution_count": null,
   "metadata": {
    "collapsed": false
   },
   "outputs": [],
   "source": [
    "h3D3 = h3.restrict(D3, subcodomain=Wz1)\n",
    "h3D3.display()"
   ]
  },
  {
   "cell_type": "code",
   "execution_count": null,
   "metadata": {
    "collapsed": false
   },
   "outputs": [],
   "source": [
    "hD3 = Proj2N * h3D3\n",
    "hD3.display()"
   ]
  },
  {
   "cell_type": "code",
   "execution_count": null,
   "metadata": {
    "collapsed": false
   },
   "outputs": [],
   "source": [
    "stereoS(I)\n",
    "hD3(I) == minusK2"
   ]
  },
  {
   "cell_type": "code",
   "execution_count": null,
   "metadata": {
    "collapsed": false
   },
   "outputs": [],
   "source": [
    "stereoS(J)\n",
    "hD3(J) == minusK2"
   ]
  },
  {
   "cell_type": "code",
   "execution_count": null,
   "metadata": {
    "collapsed": false
   },
   "outputs": [],
   "source": [
    "s = ((hz.numerator() + hz.denominator())/2).simplify_full()\n",
    "s"
   ]
  },
  {
   "cell_type": "code",
   "execution_count": null,
   "metadata": {
    "collapsed": false
   },
   "outputs": [],
   "source": [
    "(s-(xp^2+yp^2+zp^2-1)^2).simplify_full()"
   ]
  },
  {
   "cell_type": "code",
   "execution_count": null,
   "metadata": {
    "collapsed": false
   },
   "outputs": [],
   "source": [
    "bool(s == (xp^2+yp^2+zp^2-1)^2 + 4*zp^2)"
   ]
  },
  {
   "cell_type": "code",
   "execution_count": null,
   "metadata": {
    "collapsed": false
   },
   "outputs": [],
   "source": [
    "(xp^2+yp^2+zp^2-1)^2 + 4*zp^2 == 0"
   ]
  },
  {
   "cell_type": "code",
   "execution_count": null,
   "metadata": {
    "collapsed": true
   },
   "outputs": [],
   "source": [
    "D4 = V.open_subset('D_4', coord_def=({stereoS: (xp^2+yp^2!=1, zp!=0)}))"
   ]
  },
  {
   "cell_type": "code",
   "execution_count": null,
   "metadata": {
    "collapsed": false
   },
   "outputs": [],
   "source": [
    "h3D4 = h3.restrict(D4, subcodomain=Wzm1)\n",
    "h3D4.display()"
   ]
  },
  {
   "cell_type": "code",
   "execution_count": null,
   "metadata": {
    "collapsed": false
   },
   "outputs": [],
   "source": [
    "hD4 = Proj2S * h3D4\n",
    "hD4.display()"
   ]
  },
  {
   "cell_type": "code",
   "execution_count": null,
   "metadata": {
    "collapsed": false
   },
   "outputs": [],
   "source": [
    "hD4(minusOne) == K2"
   ]
  },
  {
   "cell_type": "code",
   "execution_count": null,
   "metadata": {
    "collapsed": false
   },
   "outputs": [],
   "source": [
    "V.declare_union(D3, D4)"
   ]
  },
  {
   "cell_type": "markdown",
   "metadata": {},
   "source": [
    "#### Declaration of the Hopf map"
   ]
  },
  {
   "cell_type": "code",
   "execution_count": null,
   "metadata": {
    "collapsed": false
   },
   "outputs": [],
   "source": [
    "h = S3.diff_map(S2, name='h')"
   ]
  },
  {
   "cell_type": "code",
   "execution_count": null,
   "metadata": {
    "collapsed": false
   },
   "outputs": [],
   "source": [
    "h.add_expression(stereoN.restrict(D1), stereoN2, hD1.expr(stereoN.restrict(D1), stereoN2))\n",
    "h.add_expression(stereoN.restrict(D2), stereoS2, hD2.expr(stereoN.restrict(D2), stereoS2))\n",
    "h.add_expression(stereoS.restrict(D3), stereoN2, hD3.expr(stereoS.restrict(D3), stereoN2))\n",
    "h.add_expression(stereoS.restrict(D4), stereoS2, hD4.expr(stereoS.restrict(D4), stereoS2))"
   ]
  },
  {
   "cell_type": "code",
   "execution_count": null,
   "metadata": {
    "collapsed": false
   },
   "outputs": [],
   "source": [
    "h.display()"
   ]
  },
  {
   "cell_type": "code",
   "execution_count": null,
   "metadata": {
    "collapsed": false
   },
   "outputs": [],
   "source": [
    "h.display(stereoN.restrict(D1), stereoN2)"
   ]
  },
  {
   "cell_type": "code",
   "execution_count": null,
   "metadata": {
    "collapsed": false
   },
   "outputs": [],
   "source": [
    "h.display(stereoN.restrict(D2), stereoS2)"
   ]
  },
  {
   "cell_type": "code",
   "execution_count": null,
   "metadata": {
    "collapsed": false
   },
   "outputs": [],
   "source": [
    "h.display(stereoS.restrict(D3), stereoN2)"
   ]
  },
  {
   "cell_type": "code",
   "execution_count": null,
   "metadata": {
    "collapsed": false
   },
   "outputs": [],
   "source": [
    "h.display(stereoS.restrict(D4), stereoS2)"
   ]
  },
  {
   "cell_type": "code",
   "execution_count": null,
   "metadata": {
    "collapsed": false
   },
   "outputs": [],
   "source": [
    "all([h(One)==K2, h(minusOne)==K2, \n",
    "     h(K)==K2, h(minusK)==K2,\n",
    "     h(I)==minusK2, h(minusI)==minusK2,\n",
    "     h(J)==minusK2, h(minusJ)==minusK2])"
   ]
  },
  {
   "cell_type": "code",
   "execution_count": null,
   "metadata": {
    "collapsed": false
   },
   "outputs": [],
   "source": [
    "D1A = A.intersection(D1)\n",
    "spherD1A = spher.restrict(D1A)\n",
    "spherD1A"
   ]
  },
  {
   "cell_type": "code",
   "execution_count": null,
   "metadata": {
    "collapsed": true
   },
   "outputs": [],
   "source": [
    "stereoND1A = stereoN.restrict(D1).restrict(D1A)\n",
    "stereoND1A.add_restrictions((y!=0, x<0))"
   ]
  },
  {
   "cell_type": "code",
   "execution_count": null,
   "metadata": {
    "collapsed": false
   },
   "outputs": [],
   "source": [
    "D1A.atlas()"
   ]
  },
  {
   "cell_type": "code",
   "execution_count": null,
   "metadata": {
    "collapsed": false
   },
   "outputs": [],
   "source": [
    "spher_to_stereoND1A = spher_to_stereoN.restrict(D1A)\n",
    "stereoN_to_spherD1A = spher_to_stereoN.inverse().restrict(D1A)\n",
    "spher_to_stereoSD1A = spher_to_stereoS.restrict(D1A)\n",
    "stereoS_to_spherD1A = stereoS_to_spher.restrict(D1A)"
   ]
  },
  {
   "cell_type": "code",
   "execution_count": null,
   "metadata": {
    "collapsed": false
   },
   "outputs": [],
   "source": [
    "h.expr(stereoND1A, stereoN2)  # necessary\n",
    "h.display(spherD1A, stereoN2)"
   ]
  },
  {
   "cell_type": "code",
   "execution_count": null,
   "metadata": {
    "collapsed": false
   },
   "outputs": [],
   "source": [
    "hA = h.restrict(D1A, subcodomain=A2)\n",
    "hA.display(spherD1A, spher2)"
   ]
  },
  {
   "cell_type": "code",
   "execution_count": null,
   "metadata": {
    "collapsed": false
   },
   "outputs": [],
   "source": [
    "#stereoN.restrict(D1).plot(stereoN2, mapping=h, \n",
    "#             ranges={x:(-4,4.1), y:(-4,4.1), z:(-4,4.1)},\n",
    "#             plot_points=100)"
   ]
  },
  {
   "cell_type": "code",
   "execution_count": null,
   "metadata": {
    "collapsed": false
   },
   "outputs": [],
   "source": [
    "#stereoN.restrict(D2).plot(stereoS2, mapping=h1, \n",
    "#             ranges={x:(-4,4.1), y:(-4,4.1), z:(-4,4.1)},\n",
    "#             plot_points=800)"
   ]
  },
  {
   "cell_type": "code",
   "execution_count": null,
   "metadata": {
    "collapsed": false
   },
   "outputs": [],
   "source": [
    "h3.display()"
   ]
  },
  {
   "cell_type": "markdown",
   "metadata": {},
   "source": [
    "### Hopf coordinates"
   ]
  },
  {
   "cell_type": "code",
   "execution_count": null,
   "metadata": {
    "collapsed": false
   },
   "outputs": [],
   "source": [
    "B = D1.open_subset('B', coord_def={stereoN.restrict(D1): \n",
    "                                   [x^2+y^2+z^2!=1, \n",
    "                                    (1-x^2-y^2-z^2)*x-2*y*z!=0]})\n",
    "print(B)"
   ]
  },
  {
   "cell_type": "code",
   "execution_count": null,
   "metadata": {
    "collapsed": false
   },
   "outputs": [],
   "source": [
    "implicit_plot3d((1-x^2-y^2-z^2)*x-2*y*z==0, (x,-3,3), (y,-3,3), (z,-3,3),\n",
    "                viewer=viewer3D)"
   ]
  },
  {
   "cell_type": "code",
   "execution_count": null,
   "metadata": {
    "collapsed": false
   },
   "outputs": [],
   "source": [
    "Hcoord.<eta,alp,bet> = B.chart(r\"eta:(0,pi):\\eta valpha:(0,2*pi):\\alpha vbeta:(0,2*pi):\\beta\")\n",
    "Hcoord"
   ]
  },
  {
   "cell_type": "code",
   "execution_count": null,
   "metadata": {
    "collapsed": false
   },
   "outputs": [],
   "source": [
    "e2 = eta/2\n",
    "Hcoord_to_stereoN = Hcoord.transition_map(\n",
    "                        stereoN.restrict(D1),\n",
    "                        (sin(e2)*cos(alp+bet)/(1+cos(e2)*sin(alp)),\n",
    "                         sin(e2)*sin(alp+bet)/(1+cos(e2)*sin(alp)),\n",
    "                         cos(e2)*cos(alp)/(1+cos(e2)*sin(alp))))\n",
    "Hcoord_to_stereoN.display()"
   ]
  },
  {
   "cell_type": "code",
   "execution_count": null,
   "metadata": {
    "collapsed": false
   },
   "outputs": [],
   "source": [
    "Hcoord_to_stereoN.set_inverse(2*asin(2*sqrt(x^2+y^2)/(1+x^2+y^2+z^2)),\n",
    "                              atan2(x^2+y^2+z^2-1, -2*z) + pi,\n",
    "                              atan2(-y,-x) - atan2(x^2+y^2+z^2-1, -2*z),\n",
    "                              verbose=True)"
   ]
  },
  {
   "cell_type": "code",
   "execution_count": null,
   "metadata": {
    "collapsed": false
   },
   "outputs": [],
   "source": [
    "Hcoord_to_stereoN.inverse().display()"
   ]
  },
  {
   "cell_type": "code",
   "execution_count": null,
   "metadata": {
    "collapsed": false
   },
   "outputs": [],
   "source": [
    "PhiB = Phi.restrict(B)\n",
    "PhiB.display()"
   ]
  },
  {
   "cell_type": "code",
   "execution_count": null,
   "metadata": {
    "collapsed": false
   },
   "outputs": [],
   "source": [
    "PhiB.expression(Hcoord, X4)[1].factor().trig_reduce()"
   ]
  },
  {
   "cell_type": "code",
   "execution_count": null,
   "metadata": {
    "collapsed": false
   },
   "outputs": [],
   "source": [
    "PhiB.expression(Hcoord, X4)[2].factor().trig_reduce()"
   ]
  },
  {
   "cell_type": "code",
   "execution_count": null,
   "metadata": {
    "collapsed": false
   },
   "outputs": [],
   "source": [
    "B.atlas()"
   ]
  },
  {
   "cell_type": "code",
   "execution_count": null,
   "metadata": {
    "collapsed": false
   },
   "outputs": [],
   "source": [
    "h.expr(stereoN.restrict(B), stereoN2)"
   ]
  },
  {
   "cell_type": "code",
   "execution_count": null,
   "metadata": {
    "collapsed": false
   },
   "outputs": [],
   "source": [
    "h.display(Hcoord, stereoN2)"
   ]
  },
  {
   "cell_type": "code",
   "execution_count": null,
   "metadata": {
    "collapsed": false
   },
   "outputs": [],
   "source": [
    "hB = h.restrict(B, subcodomain=A2)\n",
    "hB.display()"
   ]
  },
  {
   "cell_type": "code",
   "execution_count": null,
   "metadata": {
    "collapsed": false
   },
   "outputs": [],
   "source": [
    "hB.display(Hcoord, spher2)"
   ]
  },
  {
   "cell_type": "code",
   "execution_count": null,
   "metadata": {
    "collapsed": false
   },
   "outputs": [],
   "source": [
    "p = B((eta,alp,bet), chart=Hcoord)\n",
    "C(Phi(p)).coord(X4)"
   ]
  },
  {
   "cell_type": "code",
   "execution_count": null,
   "metadata": {
    "collapsed": false
   },
   "outputs": [],
   "source": [
    "for cp in C(Phi(p)).coord(X4):\n",
    "    show(cp.trig_reduce().simplify_full())"
   ]
  },
  {
   "cell_type": "code",
   "execution_count": null,
   "metadata": {
    "collapsed": false
   },
   "outputs": [],
   "source": [
    "graph = Hcoord.plot(stereoN, \n",
    "                    fixed_coords={eta: pi/2},\n",
    "                    color={alp: 'green', bet: 'yellow'},\n",
    "                    number_values=9)\n",
    "#show(graph, viewer=viewer3D, axes_labels=['x','y','z'])"
   ]
  },
  {
   "cell_type": "code",
   "execution_count": null,
   "metadata": {
    "collapsed": false
   },
   "outputs": [],
   "source": [
    "graph = Hcoord.plot(X4, mapping=PhiB, ambient_coords=(X,Y,T), \n",
    "                    fixed_coords={eta: pi/2},\n",
    "                    color={alp: 'green', bet: 'yellow'},\n",
    "                    number_values=9)\n",
    "#show(graph, viewer=viewer3D, axes_labels=['X','Y','T'])"
   ]
  },
  {
   "cell_type": "code",
   "execution_count": null,
   "metadata": {
    "collapsed": false
   },
   "outputs": [],
   "source": [
    "graph = Hcoord.plot(X4, mapping=PhiB, ambient_coords=(X,Y,Z), \n",
    "                    color={eta: 'red', alp: 'green', bet: 'yellow'},\n",
    "                    number_values=7)\n",
    "#show(graph, viewer=viewer3D, axes_labels=['X','Y','Z'])"
   ]
  },
  {
   "cell_type": "code",
   "execution_count": null,
   "metadata": {
    "collapsed": false
   },
   "outputs": [],
   "source": [
    "# show(graph, viewer='tachyon', figsize=16)"
   ]
  },
  {
   "cell_type": "code",
   "execution_count": null,
   "metadata": {
    "collapsed": false
   },
   "outputs": [],
   "source": [
    "graph = Hcoord.plot(X4, mapping=PhiB, ambient_coords=(X,Y,T), \n",
    "                    color={eta: 'red', alp: 'green', bet: 'yellow'},\n",
    "                    number_values=7)\n",
    "#show(graph, viewer=viewer3D, axes_labels=['X','Y','T'])"
   ]
  },
  {
   "cell_type": "code",
   "execution_count": null,
   "metadata": {
    "collapsed": false
   },
   "outputs": [],
   "source": [
    "graph = Hcoord.plot(X4, mapping=PhiB, ambient_coords=(X,Z,T), \n",
    "                    color={eta: 'red', alp: 'green', bet: 'yellow'},\n",
    "                    number_values=7)\n",
    "#show(graph, viewer=viewer3D, axes_labels=['X','Z','T'])"
   ]
  },
  {
   "cell_type": "code",
   "execution_count": null,
   "metadata": {
    "collapsed": false
   },
   "outputs": [],
   "source": [
    "graph = Hcoord.plot(stereoN, \n",
    "                    fixed_coords={bet: pi/2}, \n",
    "                    ranges={eta: (0.5, 3)},\n",
    "                    color={eta: 'red', alp: 'green'},\n",
    "                    number_values=9)\n",
    "show(graph, viewer=viewer3D, axes_labels=['x','y','z'])"
   ]
  },
  {
   "cell_type": "code",
   "execution_count": null,
   "metadata": {
    "collapsed": false
   },
   "outputs": [],
   "source": [
    "graph1 = Hcoord.plot(stereoN, fixed_coords={eta: pi/3},\n",
    "                     color={alp: 'lightblue', bet: 'yellow'},\n",
    "                     number_values={alp: 1, bet: 9},\n",
    "                     label_axes=False)\n",
    "graph2 = Hcoord.plot(stereoN, fixed_coords={eta: pi/2},\n",
    "                     color={alp: 'gold', bet: 'yellow'},\n",
    "                     number_values={alp: 1, bet: 9},\n",
    "                     label_axes=False)\n",
    "graph3 = Hcoord.plot(stereoN, fixed_coords={eta: 5*pi/6},\n",
    "                     color={alp: 'red', bet: 'yellow'},\n",
    "                     number_values={alp: 1, bet: 9},\n",
    "                     label_axes=False)\n",
    "show(graph1+graph2+graph3, viewer=viewer3D, \n",
    "     axes_labels=['x','y','z'], aspect_ratio=1)"
   ]
  },
  {
   "cell_type": "code",
   "execution_count": null,
   "metadata": {
    "collapsed": false
   },
   "outputs": [],
   "source": [
    "# show(graph1+graph2+graph3, viewer='tachyon', figsize=16, aspect_ratio=1)"
   ]
  },
  {
   "cell_type": "markdown",
   "metadata": {
    "collapsed": true
   },
   "source": [
    "## Fibers"
   ]
  },
  {
   "cell_type": "code",
   "execution_count": null,
   "metadata": {
    "collapsed": true
   },
   "outputs": [],
   "source": [
    "R.<t> = RealLine()\n",
    "def fiber(eta, bet):\n",
    "    return S3.curve({Hcoord: (eta, t, bet)}, (t, 0, 2*pi))"
   ]
  },
  {
   "cell_type": "code",
   "execution_count": null,
   "metadata": {
    "collapsed": false
   },
   "outputs": [],
   "source": [
    "F = fiber(pi/3, pi/4)\n",
    "F"
   ]
  },
  {
   "cell_type": "code",
   "execution_count": null,
   "metadata": {
    "collapsed": false
   },
   "outputs": [],
   "source": [
    "F.display()"
   ]
  },
  {
   "cell_type": "code",
   "execution_count": null,
   "metadata": {
    "collapsed": false
   },
   "outputs": [],
   "source": [
    "graph= Graphics()\n",
    "etas = {pi/4: 'blue', pi/3: 'lightblue', pi/2: 'gold', \n",
    "        5*pi/6: 'red'}\n",
    "nb = 10\n",
    "betas = [2*pi/nb*k for k in range(nb)]\n",
    "#for eta_v, color_v in etas.items():\n",
    "#    for beta_v in betas:\n",
    "#        F = fiber(eta_v, beta_v)\n",
    "#        F.coord_expr(stereoN.restrict(B))\n",
    "#        graph += F.plot(chart=stereoN, color=color_v, label_axes=None)\n",
    "#show(graph, viewer=viewer3D)"
   ]
  },
  {
   "cell_type": "code",
   "execution_count": null,
   "metadata": {
    "collapsed": false
   },
   "outputs": [],
   "source": [
    "#show(graph, viewer='tachyon', figsize=24, aspect_ratio=1)"
   ]
  },
  {
   "cell_type": "code",
   "execution_count": null,
   "metadata": {
    "collapsed": false
   },
   "outputs": [],
   "source": [
    "graph = Graphics()\n",
    "#for eta_v, color_v in etas.items():\n",
    "#    for beta_v in betas:\n",
    "#        F = fiber(eta_v, beta_v)\n",
    "#        F.coord_expr(stereoN.restrict(B))\n",
    "#        graph += F.plot(chart=X4, ambient_coords=(X,Z,T), \n",
    "#                        mapping=Phi, color=color_v, \n",
    "#                        label_axes=None)\n",
    "#show(graph, viewer=viewer3D, axes_labels=['X', 'Z', 'T'])"
   ]
  },
  {
   "cell_type": "code",
   "execution_count": null,
   "metadata": {
    "collapsed": false
   },
   "outputs": [],
   "source": [
    "S3.atlas()"
   ]
  },
  {
   "cell_type": "code",
   "execution_count": null,
   "metadata": {
    "collapsed": false
   },
   "outputs": [],
   "source": [
    "len(S3.atlas())"
   ]
  },
  {
   "cell_type": "code",
   "execution_count": null,
   "metadata": {
    "collapsed": false
   },
   "outputs": [],
   "source": [
    "S3.top_charts()"
   ]
  }
 ],
 "metadata": {
  "kernelspec": {
   "display_name": "SageMath 7.5.1",
   "language": "",
   "name": "sagemath"
  },
  "language_info": {
   "codemirror_mode": {
    "name": "ipython",
    "version": 2
   },
   "file_extension": ".py",
   "mimetype": "text/x-python",
   "name": "python",
   "nbconvert_exporter": "python",
   "pygments_lexer": "ipython2",
   "version": "2.7.13"
  }
 },
 "nbformat": 4,
 "nbformat_minor": 0
}
