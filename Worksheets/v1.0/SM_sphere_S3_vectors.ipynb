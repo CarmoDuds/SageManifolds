{
 "cells": [
  {
   "cell_type": "markdown",
   "metadata": {},
   "source": [
    "# 3-sphere: vector fields and left-invariant parallelization\n",
    "\n",
    "This worksheet demonstrates a few capabilities of\n",
    "[SageManifolds](http://sagemanifolds.obspm.fr) (version 1.0, as included in SageMath 7.5)\n",
    "on the example of the 3-dimensional sphere, $\\mathbb{S}^3$.\n",
    "\n",
    "Click [here](https://raw.githubusercontent.com/sagemanifolds/SageManifolds/master/Worksheets/v1.0/SM_sphere_S3_vectors.ipynb) to download the worksheet file (ipynb format). To run it, you must start SageMath with the Jupyter notebook, via the command `sage -n jupyter`"
   ]
  },
  {
   "cell_type": "markdown",
   "metadata": {},
   "source": [
    "*NB:* a version of SageMath at least equal to 7.5 is required to run this worksheet:"
   ]
  },
  {
   "cell_type": "code",
   "execution_count": 1,
   "metadata": {
    "collapsed": false
   },
   "outputs": [
    {
     "data": {
      "text/plain": [
       "'SageMath version 7.5.1, Release Date: 2017-01-15'"
      ]
     },
     "execution_count": 1,
     "metadata": {},
     "output_type": "execute_result"
    }
   ],
   "source": [
    "version()"
   ]
  },
  {
   "cell_type": "markdown",
   "metadata": {},
   "source": [
    "First we set up the notebook to display mathematical objects using LaTeX formatting:"
   ]
  },
  {
   "cell_type": "code",
   "execution_count": 2,
   "metadata": {
    "collapsed": true
   },
   "outputs": [],
   "source": [
    "%display latex"
   ]
  },
  {
   "cell_type": "markdown",
   "metadata": {},
   "source": [
    "We also define a viewer for 3D plots (use `'threejs'` or `'jmol'` for interactive 3D graphics):"
   ]
  },
  {
   "cell_type": "code",
   "execution_count": 3,
   "metadata": {
    "collapsed": true
   },
   "outputs": [],
   "source": [
    "viewer3D = 'threejs' # must be 'threejs', jmol', 'tachyon' or None (default)"
   ]
  },
  {
   "cell_type": "markdown",
   "metadata": {},
   "source": [
    "To increase the computational speed, we ask for demanding computations to be parallelly performed on 8 cores:"
   ]
  },
  {
   "cell_type": "code",
   "execution_count": 4,
   "metadata": {
    "collapsed": true
   },
   "outputs": [],
   "source": [
    "Parallelism().set(nproc=8)"
   ]
  },
  {
   "cell_type": "markdown",
   "metadata": {},
   "source": [
    "## $\\mathbb{S}^3$ as a 3-dimensional differentiable manifold\n",
    "\n",
    "We start by declaring $\\mathbb{S}^3$ as a differentiable manifold of dimension 3 over $\\mathbb{R}$:"
   ]
  },
  {
   "cell_type": "code",
   "execution_count": 5,
   "metadata": {
    "collapsed": true
   },
   "outputs": [],
   "source": [
    "S3 = Manifold(3, 'S^3', latex_name=r'\\mathbb{S}^3', start_index=1)"
   ]
  },
  {
   "cell_type": "markdown",
   "metadata": {},
   "source": [
    "The first argument, `3`, is the dimension of the manifold, while the second argument is the symbol used to label the manifold, with the LaTeX output specified by the argument `latex_name`. The argument `start_index` sets the index range to be used on the manifold for labelling components w.r.t. a basis or a frame: `start_index=1` corresponds to $\\{1,2,3\\}$; the default value is `start_index=0`, yielding to $\\{0,1,2\\}$."
   ]
  },
  {
   "cell_type": "code",
   "execution_count": 6,
   "metadata": {
    "collapsed": false
   },
   "outputs": [
    {
     "name": "stdout",
     "output_type": "stream",
     "text": [
      "3-dimensional differentiable manifold S^3\n"
     ]
    }
   ],
   "source": [
    "print(S3)"
   ]
  },
  {
   "cell_type": "code",
   "execution_count": 7,
   "metadata": {
    "collapsed": false
   },
   "outputs": [
    {
     "data": {
      "text/html": [
       "<html><script type=\"math/tex; mode=display\">\\newcommand{\\Bold}[1]{\\mathbf{#1}}\\mathbb{S}^3</script></html>"
      ],
      "text/plain": [
       "3-dimensional differentiable manifold S^3"
      ]
     },
     "execution_count": 7,
     "metadata": {},
     "output_type": "execute_result"
    }
   ],
   "source": [
    "S3"
   ]
  },
  {
   "cell_type": "markdown",
   "metadata": {},
   "source": [
    "### Coordinate charts on $\\mathbb{S}^3$\n",
    "\n",
    "The 3-sphere cannot be covered by a single chart. At least two charts are necessary, for instance the charts associated with the stereographic projections from two distinct points, $N$ and $S$ say,\n",
    "which we may call the *North pole* and the *South pole* respectively. Let us introduce the open subsets covered by these two charts: \n",
    "$$ U := \\mathbb{S}^3\\setminus\\{N\\} $$  \n",
    "$$ V := \\mathbb{S}^3\\setminus\\{S\\} $$"
   ]
  },
  {
   "cell_type": "code",
   "execution_count": 8,
   "metadata": {
    "collapsed": false
   },
   "outputs": [
    {
     "name": "stdout",
     "output_type": "stream",
     "text": [
      "Open subset U of the 3-dimensional differentiable manifold S^3\n"
     ]
    }
   ],
   "source": [
    "U = S3.open_subset('U') ; print(U)"
   ]
  },
  {
   "cell_type": "code",
   "execution_count": 9,
   "metadata": {
    "collapsed": false
   },
   "outputs": [
    {
     "name": "stdout",
     "output_type": "stream",
     "text": [
      "Open subset V of the 3-dimensional differentiable manifold S^3\n"
     ]
    }
   ],
   "source": [
    "V = S3.open_subset('V') ; print(V)"
   ]
  },
  {
   "cell_type": "markdown",
   "metadata": {},
   "source": [
    "We declare that $\\mathbb{S}^3 = U \\cup V$:"
   ]
  },
  {
   "cell_type": "code",
   "execution_count": 10,
   "metadata": {
    "collapsed": true
   },
   "outputs": [],
   "source": [
    "S3.declare_union(U, V)"
   ]
  },
  {
   "cell_type": "markdown",
   "metadata": {
    "collapsed": true
   },
   "source": [
    "Then we introduce the stereographic chart on $U$, denoting by $(x,y,z)$ the coordinates resulting from the stereographic projection from the North pole onto the equatorial plane:"
   ]
  },
  {
   "cell_type": "code",
   "execution_count": 11,
   "metadata": {
    "collapsed": false
   },
   "outputs": [
    {
     "data": {
      "text/html": [
       "<html><script type=\"math/tex; mode=display\">\\newcommand{\\Bold}[1]{\\mathbf{#1}}\\left(U,(x, y, z)\\right)</script></html>"
      ],
      "text/plain": [
       "Chart (U, (x, y, z))"
      ]
     },
     "execution_count": 11,
     "metadata": {},
     "output_type": "execute_result"
    }
   ],
   "source": [
    "stereoN.<x,y,z> = U.chart()\n",
    "stereoN"
   ]
  },
  {
   "cell_type": "code",
   "execution_count": 12,
   "metadata": {
    "collapsed": false
   },
   "outputs": [
    {
     "data": {
      "text/html": [
       "<html><script type=\"math/tex; mode=display\">\\newcommand{\\Bold}[1]{\\mathbf{#1}}x :\\ \\left( -\\infty, +\\infty \\right) ;\\quad y :\\ \\left( -\\infty, +\\infty \\right) ;\\quad z :\\ \\left( -\\infty, +\\infty \\right)</script></html>"
      ],
      "text/plain": [
       "x: (-oo, +oo); y: (-oo, +oo); z: (-oo, +oo)"
      ]
     },
     "execution_count": 12,
     "metadata": {},
     "output_type": "execute_result"
    }
   ],
   "source": [
    "stereoN.coord_range()"
   ]
  },
  {
   "cell_type": "markdown",
   "metadata": {},
   "source": [
    "Similarly, we introduce on $V$ the coordinates $(x',y',z')$ corresponding to the stereographic projection from the South pole onto the equatorial plane:"
   ]
  },
  {
   "cell_type": "code",
   "execution_count": 13,
   "metadata": {
    "collapsed": false
   },
   "outputs": [
    {
     "data": {
      "text/html": [
       "<html><script type=\"math/tex; mode=display\">\\newcommand{\\Bold}[1]{\\mathbf{#1}}\\left(V,({x'}, {y'}, {z'})\\right)</script></html>"
      ],
      "text/plain": [
       "Chart (V, (xp, yp, zp))"
      ]
     },
     "execution_count": 13,
     "metadata": {},
     "output_type": "execute_result"
    }
   ],
   "source": [
    "stereoS.<xp,yp,zp> = V.chart(\"xp:x' yp:y' zp:z'\")\n",
    "stereoS"
   ]
  },
  {
   "cell_type": "code",
   "execution_count": 14,
   "metadata": {
    "collapsed": false
   },
   "outputs": [
    {
     "data": {
      "text/html": [
       "<html><script type=\"math/tex; mode=display\">\\newcommand{\\Bold}[1]{\\mathbf{#1}}{x'} :\\ \\left( -\\infty, +\\infty \\right) ;\\quad {y'} :\\ \\left( -\\infty, +\\infty \\right) ;\\quad {z'} :\\ \\left( -\\infty, +\\infty \\right)</script></html>"
      ],
      "text/plain": [
       "xp: (-oo, +oo); yp: (-oo, +oo); zp: (-oo, +oo)"
      ]
     },
     "execution_count": 14,
     "metadata": {},
     "output_type": "execute_result"
    }
   ],
   "source": [
    "stereoS.coord_range()"
   ]
  },
  {
   "cell_type": "markdown",
   "metadata": {},
   "source": [
    "We have to specify the **transition map** between the charts `stereoN` = $(U,(x,y,z))$ and `stereoS` = $(V,(x',y',z'))$; it is given by the standard inversion formulas:"
   ]
  },
  {
   "cell_type": "code",
   "execution_count": 15,
   "metadata": {
    "collapsed": false
   },
   "outputs": [
    {
     "data": {
      "text/html": [
       "<html><script type=\"math/tex; mode=display\">\\newcommand{\\Bold}[1]{\\mathbf{#1}}\\left\\{\\begin{array}{lcl} {x'} & = & \\frac{x}{x^{2} + y^{2} + z^{2}} \\\\ {y'} & = & \\frac{y}{x^{2} + y^{2} + z^{2}} \\\\ {z'} & = & \\frac{z}{x^{2} + y^{2} + z^{2}} \\end{array}\\right.</script></html>"
      ],
      "text/plain": [
       "xp = x/(x^2 + y^2 + z^2)\n",
       "yp = y/(x^2 + y^2 + z^2)\n",
       "zp = z/(x^2 + y^2 + z^2)"
      ]
     },
     "execution_count": 15,
     "metadata": {},
     "output_type": "execute_result"
    }
   ],
   "source": [
    "r2 = x^2+y^2+z^2\n",
    "stereoN_to_S = stereoN.transition_map(stereoS, \n",
    "                                      (x/r2, y/r2, z/r2), \n",
    "                                      intersection_name='W',\n",
    "                                      restrictions1= x^2+y^2+z^2!=0, \n",
    "                                      restrictions2= xp^2+yp^2+zp^2!=0)\n",
    "stereoN_to_S.display()"
   ]
  },
  {
   "cell_type": "markdown",
   "metadata": {},
   "source": [
    "In the above declaration, `'W'` is the name given to the open subset where the two charts overlap: $W := U\\cap V$, the condition $x^2+y^2+z^2\\not=0$  defines $W$ as a subset of $U$, and the condition $x'^2+y'^2+z'^2\\not=0$ defines $W$ as a subset of $V$.\n",
    "\n",
    "The inverse coordinate transformation is computed by means of the method `inverse()`:"
   ]
  },
  {
   "cell_type": "code",
   "execution_count": 16,
   "metadata": {
    "collapsed": false
   },
   "outputs": [
    {
     "data": {
      "text/html": [
       "<html><script type=\"math/tex; mode=display\">\\newcommand{\\Bold}[1]{\\mathbf{#1}}\\left\\{\\begin{array}{lcl} x & = & \\frac{{x'}}{{x'}^{2} + {y'}^{2} + {z'}^{2}} \\\\ y & = & \\frac{{y'}}{{x'}^{2} + {y'}^{2} + {z'}^{2}} \\\\ z & = & \\frac{{z'}}{{x'}^{2} + {y'}^{2} + {z'}^{2}} \\end{array}\\right.</script></html>"
      ],
      "text/plain": [
       "x = xp/(xp^2 + yp^2 + zp^2)\n",
       "y = yp/(xp^2 + yp^2 + zp^2)\n",
       "z = zp/(xp^2 + yp^2 + zp^2)"
      ]
     },
     "execution_count": 16,
     "metadata": {},
     "output_type": "execute_result"
    }
   ],
   "source": [
    "stereoS_to_N = stereoN_to_S.inverse()\n",
    "stereoS_to_N.display()"
   ]
  },
  {
   "cell_type": "markdown",
   "metadata": {},
   "source": [
    "Note that the situation is of course perfectly symmetric regarding the coordinates $(x,y,z)$ and $(x',y',z')$.\n",
    "\n",
    "At this stage, the user's atlas has four charts:"
   ]
  },
  {
   "cell_type": "code",
   "execution_count": 17,
   "metadata": {
    "collapsed": false
   },
   "outputs": [
    {
     "data": {
      "text/html": [
       "<html><script type=\"math/tex; mode=display\">\\newcommand{\\Bold}[1]{\\mathbf{#1}}\\left[\\left(U,(x, y, z)\\right), \\left(V,({x'}, {y'}, {z'})\\right), \\left(W,(x, y, z)\\right), \\left(W,({x'}, {y'}, {z'})\\right)\\right]</script></html>"
      ],
      "text/plain": [
       "[Chart (U, (x, y, z)),\n",
       " Chart (V, (xp, yp, zp)),\n",
       " Chart (W, (x, y, z)),\n",
       " Chart (W, (xp, yp, zp))]"
      ]
     },
     "execution_count": 17,
     "metadata": {},
     "output_type": "execute_result"
    }
   ],
   "source": [
    "S3.atlas()"
   ]
  },
  {
   "cell_type": "markdown",
   "metadata": {},
   "source": [
    "For future reference, we store $W=U\\cap V$ into a Python variable:"
   ]
  },
  {
   "cell_type": "code",
   "execution_count": 18,
   "metadata": {
    "collapsed": false
   },
   "outputs": [
    {
     "name": "stdout",
     "output_type": "stream",
     "text": [
      "Open subset W of the 3-dimensional differentiable manifold S^3\n"
     ]
    }
   ],
   "source": [
    "W = U.intersection(V)\n",
    "print(W)"
   ]
  },
  {
   "cell_type": "markdown",
   "metadata": {},
   "source": [
    "### The North and South poles\n",
    "\n",
    "$N$ is the point of $V$ of stereographic coordinates $(x',y',z')=(0,0,0)$:"
   ]
  },
  {
   "cell_type": "code",
   "execution_count": 19,
   "metadata": {
    "collapsed": false
   },
   "outputs": [
    {
     "name": "stdout",
     "output_type": "stream",
     "text": [
      "Point N on the 3-dimensional differentiable manifold S^3\n"
     ]
    }
   ],
   "source": [
    "N = V((0,0,0), chart=stereoS, name='N')\n",
    "print(N)"
   ]
  },
  {
   "cell_type": "markdown",
   "metadata": {},
   "source": [
    "while $S$ is the point of $U$ of stereographic coordinates $(x,y,z)=(0,0,0)$:"
   ]
  },
  {
   "cell_type": "code",
   "execution_count": 20,
   "metadata": {
    "collapsed": false
   },
   "outputs": [
    {
     "name": "stdout",
     "output_type": "stream",
     "text": [
      "Point S on the 3-dimensional differentiable manifold S^3\n"
     ]
    }
   ],
   "source": [
    "S = U((0,0,0), chart=stereoN, name='S')\n",
    "print(S)"
   ]
  },
  {
   "cell_type": "markdown",
   "metadata": {},
   "source": [
    "We have of course"
   ]
  },
  {
   "cell_type": "code",
   "execution_count": 21,
   "metadata": {
    "collapsed": false
   },
   "outputs": [
    {
     "data": {
      "text/html": [
       "<html><script type=\"math/tex; mode=display\">\\newcommand{\\Bold}[1]{\\mathbf{#1}}\\mathrm{True}</script></html>"
      ],
      "text/plain": [
       "True"
      ]
     },
     "execution_count": 21,
     "metadata": {},
     "output_type": "execute_result"
    }
   ],
   "source": [
    "all([N not in U, N in V, S in U, S not in V])"
   ]
  },
  {
   "cell_type": "markdown",
   "metadata": {},
   "source": [
    "## Embedding of $\\mathbb{S}^3$ into $\\mathbb{R}^4$\n",
    "\n",
    "Let us first declare $\\mathbb{R}^4$ as a 4-dimensional manifold covered by a single chart (the so-called **Cartesian coordinates**):"
   ]
  },
  {
   "cell_type": "code",
   "execution_count": 22,
   "metadata": {
    "collapsed": false
   },
   "outputs": [
    {
     "data": {
      "text/html": [
       "<html><script type=\"math/tex; mode=display\">\\newcommand{\\Bold}[1]{\\mathbf{#1}}\\left(\\mathbb{R}^4,(T, X, Y, Z)\\right)</script></html>"
      ],
      "text/plain": [
       "Chart (R^4, (T, X, Y, Z))"
      ]
     },
     "execution_count": 22,
     "metadata": {},
     "output_type": "execute_result"
    }
   ],
   "source": [
    "R4 = Manifold(4, 'R^4', r'\\mathbb{R}^4')\n",
    "X4.<T,X,Y,Z> = R4.chart()\n",
    "X4"
   ]
  },
  {
   "cell_type": "markdown",
   "metadata": {},
   "source": [
    "The embedding of $\\mathbb{S}^3$ into $\\mathbb{R}^4$ is then defined by the standard formulas relating the stereographic coordinates to the ambient Cartesian ones when considering a **stereographic projection** from the point $(-1,0,0,0)$ to the equatorial plane $T=0$:"
   ]
  },
  {
   "cell_type": "code",
   "execution_count": 23,
   "metadata": {
    "collapsed": false
   },
   "outputs": [
    {
     "data": {
      "text/html": [
       "<html><script type=\"math/tex; mode=display\">\\newcommand{\\Bold}[1]{\\mathbf{#1}}\\begin{array}{llcl} \\Phi:& \\mathbb{S}^3 & \\longrightarrow & \\mathbb{R}^4 \\\\ \\mbox{on}\\ U : & \\left(x, y, z\\right) & \\longmapsto & \\left(T, X, Y, Z\\right) = \\left(-\\frac{x^{2} + y^{2} + z^{2} - 1}{x^{2} + y^{2} + z^{2} + 1}, \\frac{2 \\, x}{x^{2} + y^{2} + z^{2} + 1}, \\frac{2 \\, y}{x^{2} + y^{2} + z^{2} + 1}, \\frac{2 \\, z}{x^{2} + y^{2} + z^{2} + 1}\\right) \\\\ \\mbox{on}\\ V : & \\left({x'}, {y'}, {z'}\\right) & \\longmapsto & \\left(T, X, Y, Z\\right) = \\left(\\frac{{x'}^{2} + {y'}^{2} + {z'}^{2} - 1}{{x'}^{2} + {y'}^{2} + {z'}^{2} + 1}, \\frac{2 \\, {x'}}{{x'}^{2} + {y'}^{2} + {z'}^{2} + 1}, \\frac{2 \\, {y'}}{{x'}^{2} + {y'}^{2} + {z'}^{2} + 1}, \\frac{2 \\, {z'}}{{x'}^{2} + {y'}^{2} + {z'}^{2} + 1}\\right) \\end{array}</script></html>"
      ],
      "text/plain": [
       "Phi: S^3 --> R^4\n",
       "on U: (x, y, z) |--> (T, X, Y, Z) = (-(x^2 + y^2 + z^2 - 1)/(x^2 + y^2 + z^2 + 1), 2*x/(x^2 + y^2 + z^2 + 1), 2*y/(x^2 + y^2 + z^2 + 1), 2*z/(x^2 + y^2 + z^2 + 1))\n",
       "on V: (xp, yp, zp) |--> (T, X, Y, Z) = ((xp^2 + yp^2 + zp^2 - 1)/(xp^2 + yp^2 + zp^2 + 1), 2*xp/(xp^2 + yp^2 + zp^2 + 1), 2*yp/(xp^2 + yp^2 + zp^2 + 1), 2*zp/(xp^2 + yp^2 + zp^2 + 1))"
      ]
     },
     "execution_count": 23,
     "metadata": {},
     "output_type": "execute_result"
    }
   ],
   "source": [
    "rp2 = xp^2 + yp^2 + zp^2\n",
    "Phi = S3.diff_map(R4, {(stereoN, X4): \n",
    "                       [(1-r2)/(r2+1), 2*x/(r2+1), \n",
    "                        2*y/(r2+1), 2*z/(r2+1)],\n",
    "                       (stereoS, X4):\n",
    "                       [(rp2-1)/(rp2+1), 2*xp/(rp2+1), \n",
    "                        2*yp/(rp2+1), 2*zp/(rp2+1)]},\n",
    "                  name='Phi', latex_name=r'\\Phi')\n",
    "Phi.display()"
   ]
  },
  {
   "cell_type": "markdown",
   "metadata": {},
   "source": [
    "With this choice of stereographic projection, the \"North\" pole is actually the point of coordinates $(-1,0,0,0)$ in $\\mathbb{R}^4$:"
   ]
  },
  {
   "cell_type": "code",
   "execution_count": 24,
   "metadata": {
    "collapsed": false
   },
   "outputs": [
    {
     "data": {
      "text/html": [
       "<html><script type=\"math/tex; mode=display\">\\newcommand{\\Bold}[1]{\\mathbf{#1}}\\left(-1, 0, 0, 0\\right)</script></html>"
      ],
      "text/plain": [
       "(-1, 0, 0, 0)"
      ]
     },
     "execution_count": 24,
     "metadata": {},
     "output_type": "execute_result"
    }
   ],
   "source": [
    "X4(Phi(N))"
   ]
  },
  {
   "cell_type": "markdown",
   "metadata": {},
   "source": [
    "while the \"South\" pole is the point of coordinates $(1,0,0,0)$:"
   ]
  },
  {
   "cell_type": "code",
   "execution_count": 25,
   "metadata": {
    "collapsed": false
   },
   "outputs": [
    {
     "data": {
      "text/html": [
       "<html><script type=\"math/tex; mode=display\">\\newcommand{\\Bold}[1]{\\mathbf{#1}}\\left(1, 0, 0, 0\\right)</script></html>"
      ],
      "text/plain": [
       "(1, 0, 0, 0)"
      ]
     },
     "execution_count": 25,
     "metadata": {},
     "output_type": "execute_result"
    }
   ],
   "source": [
    "X4(Phi(S))"
   ]
  },
  {
   "cell_type": "markdown",
   "metadata": {},
   "source": [
    "## Hyperspherical coordinates\n",
    "\n",
    "The hyperspherical coordinates $(\\chi, \\theta, \\phi)$ generalize the standard spherical coordinates $(\\theta, \\phi)$ on $\\mathbb{S}^2$. They are defined on the open domain $A\\subset W \\subset \\mathbb{S}^3$ that is the complement of the \"origin meridian\"; since the latter is defined by $y=0$ and $x\\geq 0$, we declare:"
   ]
  },
  {
   "cell_type": "code",
   "execution_count": 26,
   "metadata": {
    "collapsed": false
   },
   "outputs": [
    {
     "name": "stdout",
     "output_type": "stream",
     "text": [
      "Open subset A of the 3-dimensional differentiable manifold S^3\n"
     ]
    }
   ],
   "source": [
    "A = W.open_subset('A', coord_def={stereoN.restrict(W): (y!=0, x<0), \n",
    "                                  stereoS.restrict(W): (yp!=0, xp<0)})\n",
    "print(A)"
   ]
  },
  {
   "cell_type": "markdown",
   "metadata": {},
   "source": [
    "We then declare the chart $(A,(\\chi,\\theta,\\phi))$ by specifying the intervals spanned by the various coordinates:"
   ]
  },
  {
   "cell_type": "code",
   "execution_count": 27,
   "metadata": {
    "collapsed": false
   },
   "outputs": [
    {
     "data": {
      "text/html": [
       "<html><script type=\"math/tex; mode=display\">\\newcommand{\\Bold}[1]{\\mathbf{#1}}\\left(A,({\\chi}, {\\theta}, {\\phi})\\right)</script></html>"
      ],
      "text/plain": [
       "Chart (A, (ch, th, ph))"
      ]
     },
     "execution_count": 27,
     "metadata": {},
     "output_type": "execute_result"
    }
   ],
   "source": [
    "spher.<ch,th,ph> = A.chart(r'ch:(0,pi):\\chi th:(0,pi):\\theta ph:(0,2*pi):\\phi')\n",
    "spher"
   ]
  },
  {
   "cell_type": "code",
   "execution_count": 28,
   "metadata": {
    "collapsed": false
   },
   "outputs": [
    {
     "data": {
      "text/html": [
       "<html><script type=\"math/tex; mode=display\">\\newcommand{\\Bold}[1]{\\mathbf{#1}}{\\chi} :\\ \\left( 0 , \\pi \\right) ;\\quad {\\theta} :\\ \\left( 0 , \\pi \\right) ;\\quad {\\phi} :\\ \\left( 0 , 2 \\, \\pi \\right)</script></html>"
      ],
      "text/plain": [
       "ch: (0, pi); th: (0, pi); ph: (0, 2*pi)"
      ]
     },
     "execution_count": 28,
     "metadata": {},
     "output_type": "execute_result"
    }
   ],
   "source": [
    "spher.coord_range()"
   ]
  },
  {
   "cell_type": "markdown",
   "metadata": {},
   "source": [
    "The specification of the hyperspherical coordinates is completed by providing the transition map to the stereographic chart $(A,(x,y,z))$:"
   ]
  },
  {
   "cell_type": "code",
   "execution_count": 29,
   "metadata": {
    "collapsed": false
   },
   "outputs": [
    {
     "data": {
      "text/html": [
       "<html><script type=\"math/tex; mode=display\">\\newcommand{\\Bold}[1]{\\mathbf{#1}}\\left\\{\\begin{array}{lcl} x & = & \\frac{\\cos\\left({\\phi}\\right) \\sin\\left({\\chi}\\right) \\sin\\left({\\theta}\\right)}{\\cos\\left({\\chi}\\right) + 1} \\\\ y & = & \\frac{\\sin\\left({\\chi}\\right) \\sin\\left({\\phi}\\right) \\sin\\left({\\theta}\\right)}{\\cos\\left({\\chi}\\right) + 1} \\\\ z & = & \\frac{\\cos\\left({\\theta}\\right) \\sin\\left({\\chi}\\right)}{\\cos\\left({\\chi}\\right) + 1} \\end{array}\\right.</script></html>"
      ],
      "text/plain": [
       "x = cos(ph)*sin(ch)*sin(th)/(cos(ch) + 1)\n",
       "y = sin(ch)*sin(ph)*sin(th)/(cos(ch) + 1)\n",
       "z = cos(th)*sin(ch)/(cos(ch) + 1)"
      ]
     },
     "execution_count": 29,
     "metadata": {},
     "output_type": "execute_result"
    }
   ],
   "source": [
    "den = 1 + cos(ch)\n",
    "spher_to_stereoN = spher.transition_map(stereoN.restrict(A), \n",
    "                                        (sin(ch)*sin(th)*cos(ph)/den,\n",
    "                                         sin(ch)*sin(th)*sin(ph)/den,\n",
    "                                         sin(ch)*cos(th)/den))\n",
    "spher_to_stereoN.display()"
   ]
  },
  {
   "cell_type": "markdown",
   "metadata": {},
   "source": [
    "We also provide the inverse transition map, asking to check that the provided formulas are indeed correct (argument `verbose=True`):"
   ]
  },
  {
   "cell_type": "code",
   "execution_count": 30,
   "metadata": {
    "collapsed": false
   },
   "outputs": [
    {
     "name": "stdout",
     "output_type": "stream",
     "text": [
      "Check of the inverse coordinate transformation:\n",
      "  ch == 2*arctan(sqrt(-cos(ch) + 1)/sqrt(cos(ch) + 1))\n",
      "  th == arctan2(sqrt(-cos(ch) + 1)*sin(th)/sqrt(cos(ch) + 1), cos(th)*sin(ch)/(cos(ch) + 1))\n",
      "  ph == pi - arctan2(sin(ch)*sin(ph)*sin(th)/(cos(ch) + 1), -cos(ph)*sin(ch)*sin(th)/(cos(ch) + 1))\n",
      "  x == x\n",
      "  y == y\n",
      "  z == z\n"
     ]
    }
   ],
   "source": [
    "spher_to_stereoN.set_inverse(2*atan(sqrt(x^2+y^2+z^2)),\n",
    "                             atan2(sqrt(x^2+y^2), z),\n",
    "                             atan2(-y, -x)+pi,\n",
    "                             verbose=True)"
   ]
  },
  {
   "cell_type": "markdown",
   "metadata": {},
   "source": [
    "The check is passed, modulo some lack of trigonometric simplifications in the first three lines."
   ]
  },
  {
   "cell_type": "code",
   "execution_count": 31,
   "metadata": {
    "collapsed": false
   },
   "outputs": [
    {
     "data": {
      "text/html": [
       "<html><script type=\"math/tex; mode=display\">\\newcommand{\\Bold}[1]{\\mathbf{#1}}\\left\\{\\begin{array}{lcl} {\\chi} & = & 2 \\, \\arctan\\left(\\sqrt{x^{2} + y^{2} + z^{2}}\\right) \\\\ {\\theta} & = & \\arctan\\left(\\sqrt{x^{2} + y^{2}}, z\\right) \\\\ {\\phi} & = & \\pi + \\arctan\\left(-y, -x\\right) \\end{array}\\right.</script></html>"
      ],
      "text/plain": [
       "ch = 2*arctan(sqrt(x^2 + y^2 + z^2))\n",
       "th = arctan2(sqrt(x^2 + y^2), z)\n",
       "ph = pi + arctan2(-y, -x)"
      ]
     },
     "execution_count": 31,
     "metadata": {},
     "output_type": "execute_result"
    }
   ],
   "source": [
    "spher_to_stereoN.inverse().display()"
   ]
  },
  {
   "cell_type": "markdown",
   "metadata": {},
   "source": [
    "The transition map $(A,(\\chi,\\theta,\\phi))\\rightarrow (A,(x',y',z'))$ is obtained by combining the transition maps $(A,(\\chi,\\theta,\\phi))\\rightarrow (A,(x,y,z))$ and $(A,(x,y,z))\\rightarrow (A,(x',y',z'))$:"
   ]
  },
  {
   "cell_type": "code",
   "execution_count": 32,
   "metadata": {
    "collapsed": false
   },
   "outputs": [
    {
     "data": {
      "text/html": [
       "<html><script type=\"math/tex; mode=display\">\\newcommand{\\Bold}[1]{\\mathbf{#1}}\\left\\{\\begin{array}{lcl} {x'} & = & \\frac{{\\left(\\cos\\left({\\chi}\\right) + 1\\right)} \\cos\\left({\\phi}\\right) \\sin\\left({\\theta}\\right)}{\\sin\\left({\\chi}\\right)} \\\\ {y'} & = & \\frac{{\\left(\\cos\\left({\\chi}\\right) + 1\\right)} \\sin\\left({\\phi}\\right) \\sin\\left({\\theta}\\right)}{\\sin\\left({\\chi}\\right)} \\\\ {z'} & = & \\frac{{\\left(\\cos\\left({\\chi}\\right) + 1\\right)} \\cos\\left({\\theta}\\right)}{\\sin\\left({\\chi}\\right)} \\end{array}\\right.</script></html>"
      ],
      "text/plain": [
       "xp = (cos(ch) + 1)*cos(ph)*sin(th)/sin(ch)\n",
       "yp = (cos(ch) + 1)*sin(ph)*sin(th)/sin(ch)\n",
       "zp = (cos(ch) + 1)*cos(th)/sin(ch)"
      ]
     },
     "execution_count": 32,
     "metadata": {},
     "output_type": "execute_result"
    }
   ],
   "source": [
    "spher_to_stereoS = stereoN_to_S.restrict(A) * spher_to_stereoN\n",
    "spher_to_stereoS.display()"
   ]
  },
  {
   "cell_type": "markdown",
   "metadata": {},
   "source": [
    "Similarly, the transition map $(A,(x',y',z'))\\rightarrow (A,(\\chi,\\theta,\\phi))$ is obtained by combining the transition maps $(A,(x',y',z'))\\rightarrow (A,(x,y,z))$ and $(A,(x,y,z))\\rightarrow (A,(\\chi,\\theta,\\phi))$:"
   ]
  },
  {
   "cell_type": "code",
   "execution_count": 33,
   "metadata": {
    "collapsed": false
   },
   "outputs": [
    {
     "data": {
      "text/html": [
       "<html><script type=\"math/tex; mode=display\">\\newcommand{\\Bold}[1]{\\mathbf{#1}}\\left\\{\\begin{array}{lcl} {\\chi} & = & 2 \\, \\arctan\\left(\\frac{1}{\\sqrt{{x'}^{2} + {y'}^{2} + {z'}^{2}}}\\right) \\\\ {\\theta} & = & \\arctan\\left(\\frac{\\sqrt{{x'}^{2} + {y'}^{2}}}{{x'}^{2} + {y'}^{2} + {z'}^{2}}, \\frac{{z'}}{{x'}^{2} + {y'}^{2} + {z'}^{2}}\\right) \\\\ {\\phi} & = & \\pi - \\arctan\\left(\\frac{{y'}}{{x'}^{2} + {y'}^{2} + {z'}^{2}}, -\\frac{{x'}}{{x'}^{2} + {y'}^{2} + {z'}^{2}}\\right) \\end{array}\\right.</script></html>"
      ],
      "text/plain": [
       "ch = 2*arctan(1/sqrt(xp^2 + yp^2 + zp^2))\n",
       "th = arctan2(sqrt(xp^2 + yp^2)/(xp^2 + yp^2 + zp^2), zp/(xp^2 + yp^2 + zp^2))\n",
       "ph = pi - arctan2(yp/(xp^2 + yp^2 + zp^2), -xp/(xp^2 + yp^2 + zp^2))"
      ]
     },
     "execution_count": 33,
     "metadata": {},
     "output_type": "execute_result"
    }
   ],
   "source": [
    "stereoS_to_spher = spher_to_stereoN.inverse() * stereoS_to_N.restrict(A)\n",
    "stereoS_to_spher.display()"
   ]
  },
  {
   "cell_type": "markdown",
   "metadata": {},
   "source": [
    "At this stage, the user atlas of $\\mathbb{S}^3$ is"
   ]
  },
  {
   "cell_type": "code",
   "execution_count": 34,
   "metadata": {
    "collapsed": false
   },
   "outputs": [
    {
     "data": {
      "text/html": [
       "<html><script type=\"math/tex; mode=display\">\\newcommand{\\Bold}[1]{\\mathbf{#1}}\\left[\\left(U,(x, y, z)\\right), \\left(V,({x'}, {y'}, {z'})\\right), \\left(W,(x, y, z)\\right), \\left(W,({x'}, {y'}, {z'})\\right), \\left(A,(x, y, z)\\right), \\left(A,({x'}, {y'}, {z'})\\right), \\left(A,({\\chi}, {\\theta}, {\\phi})\\right)\\right]</script></html>"
      ],
      "text/plain": [
       "[Chart (U, (x, y, z)),\n",
       " Chart (V, (xp, yp, zp)),\n",
       " Chart (W, (x, y, z)),\n",
       " Chart (W, (xp, yp, zp)),\n",
       " Chart (A, (x, y, z)),\n",
       " Chart (A, (xp, yp, zp)),\n",
       " Chart (A, (ch, th, ph))]"
      ]
     },
     "execution_count": 34,
     "metadata": {},
     "output_type": "execute_result"
    }
   ],
   "source": [
    "S3.atlas()"
   ]
  },
  {
   "cell_type": "markdown",
   "metadata": {},
   "source": [
    "Let us get the coordinate expression of the restriction of the embedding $\\Phi$ to $A$:"
   ]
  },
  {
   "cell_type": "code",
   "execution_count": 35,
   "metadata": {
    "collapsed": false
   },
   "outputs": [
    {
     "data": {
      "text/html": [
       "<html><script type=\"math/tex; mode=display\">\\newcommand{\\Bold}[1]{\\mathbf{#1}}\\begin{array}{llcl} \\Phi:& \\mathbb{S}^3 & \\longrightarrow & \\mathbb{R}^4 \\\\ \\mbox{on}\\ A : & \\left(x, y, z\\right) & \\longmapsto & \\left(T, X, Y, Z\\right) = \\left(-\\frac{x^{2} + y^{2} + z^{2} - 1}{x^{2} + y^{2} + z^{2} + 1}, \\frac{2 \\, x}{x^{2} + y^{2} + z^{2} + 1}, \\frac{2 \\, y}{x^{2} + y^{2} + z^{2} + 1}, \\frac{2 \\, z}{x^{2} + y^{2} + z^{2} + 1}\\right) \\end{array}</script></html>"
      ],
      "text/plain": [
       "Phi: S^3 --> R^4\n",
       "on A: (x, y, z) |--> (T, X, Y, Z) = (-(x^2 + y^2 + z^2 - 1)/(x^2 + y^2 + z^2 + 1), 2*x/(x^2 + y^2 + z^2 + 1), 2*y/(x^2 + y^2 + z^2 + 1), 2*z/(x^2 + y^2 + z^2 + 1))"
      ]
     },
     "execution_count": 35,
     "metadata": {},
     "output_type": "execute_result"
    }
   ],
   "source": [
    "Phi.display(stereoN.restrict(A), X4)"
   ]
  },
  {
   "cell_type": "code",
   "execution_count": 36,
   "metadata": {
    "collapsed": false
   },
   "outputs": [
    {
     "data": {
      "text/html": [
       "<html><script type=\"math/tex; mode=display\">\\newcommand{\\Bold}[1]{\\mathbf{#1}}\\begin{array}{llcl} \\Phi:& \\mathbb{S}^3 & \\longrightarrow & \\mathbb{R}^4 \\\\ \\mbox{on}\\ A : & \\left({\\chi}, {\\theta}, {\\phi}\\right) & \\longmapsto & \\left(T, X, Y, Z\\right) = \\left(\\cos\\left({\\chi}\\right), \\cos\\left({\\phi}\\right) \\sin\\left({\\chi}\\right) \\sin\\left({\\theta}\\right), \\sin\\left({\\chi}\\right) \\sin\\left({\\phi}\\right) \\sin\\left({\\theta}\\right), \\cos\\left({\\theta}\\right) \\sin\\left({\\chi}\\right)\\right) \\end{array}</script></html>"
      ],
      "text/plain": [
       "Phi: S^3 --> R^4\n",
       "on A: (ch, th, ph) |--> (T, X, Y, Z) = (cos(ch), cos(ph)*sin(ch)*sin(th), sin(ch)*sin(ph)*sin(th), cos(th)*sin(ch))"
      ]
     },
     "execution_count": 36,
     "metadata": {},
     "output_type": "execute_result"
    }
   ],
   "source": [
    "Phi.display(spher, X4)"
   ]
  },
  {
   "cell_type": "code",
   "execution_count": 37,
   "metadata": {
    "collapsed": false
   },
   "outputs": [
    {
     "data": {
      "text/html": [
       "<html><script type=\"math/tex; mode=display\">\\newcommand{\\Bold}[1]{\\mathbf{#1}}\\begin{array}{llcl} \\Phi:& \\mathbb{S}^3 & \\longrightarrow & \\mathbb{R}^4 \\\\ \\mbox{on}\\ U : & \\left(x, y, z\\right) & \\longmapsto & \\left(T, X, Y, Z\\right) = \\left(-\\frac{x^{2} + y^{2} + z^{2} - 1}{x^{2} + y^{2} + z^{2} + 1}, \\frac{2 \\, x}{x^{2} + y^{2} + z^{2} + 1}, \\frac{2 \\, y}{x^{2} + y^{2} + z^{2} + 1}, \\frac{2 \\, z}{x^{2} + y^{2} + z^{2} + 1}\\right) \\\\ \\mbox{on}\\ V : & \\left({x'}, {y'}, {z'}\\right) & \\longmapsto & \\left(T, X, Y, Z\\right) = \\left(\\frac{{x'}^{2} + {y'}^{2} + {z'}^{2} - 1}{{x'}^{2} + {y'}^{2} + {z'}^{2} + 1}, \\frac{2 \\, {x'}}{{x'}^{2} + {y'}^{2} + {z'}^{2} + 1}, \\frac{2 \\, {y'}}{{x'}^{2} + {y'}^{2} + {z'}^{2} + 1}, \\frac{2 \\, {z'}}{{x'}^{2} + {y'}^{2} + {z'}^{2} + 1}\\right) \\\\ \\mbox{on}\\ A : & \\left({\\chi}, {\\theta}, {\\phi}\\right) & \\longmapsto & \\left(T, X, Y, Z\\right) = \\left(\\cos\\left({\\chi}\\right), \\cos\\left({\\phi}\\right) \\sin\\left({\\chi}\\right) \\sin\\left({\\theta}\\right), \\sin\\left({\\chi}\\right) \\sin\\left({\\phi}\\right) \\sin\\left({\\theta}\\right), \\cos\\left({\\theta}\\right) \\sin\\left({\\chi}\\right)\\right) \\end{array}</script></html>"
      ],
      "text/plain": [
       "Phi: S^3 --> R^4\n",
       "on U: (x, y, z) |--> (T, X, Y, Z) = (-(x^2 + y^2 + z^2 - 1)/(x^2 + y^2 + z^2 + 1), 2*x/(x^2 + y^2 + z^2 + 1), 2*y/(x^2 + y^2 + z^2 + 1), 2*z/(x^2 + y^2 + z^2 + 1))\n",
       "on V: (xp, yp, zp) |--> (T, X, Y, Z) = ((xp^2 + yp^2 + zp^2 - 1)/(xp^2 + yp^2 + zp^2 + 1), 2*xp/(xp^2 + yp^2 + zp^2 + 1), 2*yp/(xp^2 + yp^2 + zp^2 + 1), 2*zp/(xp^2 + yp^2 + zp^2 + 1))\n",
       "on A: (ch, th, ph) |--> (T, X, Y, Z) = (cos(ch), cos(ph)*sin(ch)*sin(th), sin(ch)*sin(ph)*sin(th), cos(th)*sin(ch))"
      ]
     },
     "execution_count": 37,
     "metadata": {},
     "output_type": "execute_result"
    }
   ],
   "source": [
    "Phi.display()"
   ]
  },
  {
   "cell_type": "markdown",
   "metadata": {},
   "source": [
    "## Projections from $\\mathbb{R}^4$ to $\\mathbb{S}^3$\n",
    "\n",
    "We will need some projection operators from (a subset of) $\\mathbb{R}^4$ to $\\mathbb{S}^3$.\n",
    "\n",
    "First, let $\\mathbb{R}^4_N$ be $\\mathbb{R}^4$ minus the hyperplane $T=-1$:"
   ]
  },
  {
   "cell_type": "code",
   "execution_count": 38,
   "metadata": {
    "collapsed": false
   },
   "outputs": [],
   "source": [
    "R4N = R4.open_subset('R4N', latex_name=r'\\mathbb{R}^4_N', \n",
    "                     coord_def={X4: T!=-1})\n",
    "X4N = X4.restrict(R4N)"
   ]
  },
  {
   "cell_type": "markdown",
   "metadata": {},
   "source": [
    "and let us consider the following projection $\\Pi_N: \\mathbb{R}^4_N \\to U\\subset\\mathbb{S}^3$:"
   ]
  },
  {
   "cell_type": "code",
   "execution_count": 39,
   "metadata": {
    "collapsed": false
   },
   "outputs": [
    {
     "data": {
      "text/html": [
       "<html><script type=\"math/tex; mode=display\">\\newcommand{\\Bold}[1]{\\mathbf{#1}}\\begin{array}{llcl} \\Pi_N:& \\mathbb{R}^4_N & \\longrightarrow & U \\\\ & \\left(T, X, Y, Z\\right) & \\longmapsto & \\left(x, y, z\\right) = \\left(\\frac{X}{T + 1}, \\frac{Y}{T + 1}, \\frac{Z}{T + 1}\\right) \\end{array}</script></html>"
      ],
      "text/plain": [
       "P_N: R4N --> U\n",
       "   (T, X, Y, Z) |--> (x, y, z) = (X/(T + 1), Y/(T + 1), Z/(T + 1))"
      ]
     },
     "execution_count": 39,
     "metadata": {},
     "output_type": "execute_result"
    }
   ],
   "source": [
    "ProjN = R4N.diff_map(U, {(X4N, stereoN): \n",
    "                         [X/(1+T), Y/(1+T), Z/(1+T)]},\n",
    "                     name='P_N', latex_name=r'\\Pi_N')\n",
    "ProjN.display()"
   ]
  },
  {
   "cell_type": "markdown",
   "metadata": {},
   "source": [
    "Similarly, let $\\mathbb{R}^4_S$ be $\\mathbb{R}^4$ minus the hyperplane $T=1$ and $\\Pi_S$ the \n",
    "following projection $\\mathbb{R}_S\\to V\\subset \\mathbb{S}^3$:"
   ]
  },
  {
   "cell_type": "code",
   "execution_count": 40,
   "metadata": {
    "collapsed": true
   },
   "outputs": [],
   "source": [
    "R4S = R4.open_subset('R4S', latex_name=r'\\mathbb{R}^4_S', \n",
    "                     coord_def={X4: T!=1})\n",
    "X4S = X4.restrict(R4S)"
   ]
  },
  {
   "cell_type": "code",
   "execution_count": 41,
   "metadata": {
    "collapsed": false
   },
   "outputs": [
    {
     "data": {
      "text/html": [
       "<html><script type=\"math/tex; mode=display\">\\newcommand{\\Bold}[1]{\\mathbf{#1}}\\begin{array}{llcl} \\Pi_S:& \\mathbb{R}^4_S & \\longrightarrow & V \\\\ & \\left(T, X, Y, Z\\right) & \\longmapsto & \\left({x'}, {y'}, {z'}\\right) = \\left(-\\frac{X}{T - 1}, -\\frac{Y}{T - 1}, -\\frac{Z}{T - 1}\\right) \\end{array}</script></html>"
      ],
      "text/plain": [
       "P_S: R4S --> V\n",
       "   (T, X, Y, Z) |--> (xp, yp, zp) = (-X/(T - 1), -Y/(T - 1), -Z/(T - 1))"
      ]
     },
     "execution_count": 41,
     "metadata": {},
     "output_type": "execute_result"
    }
   ],
   "source": [
    "ProjS = R4S.diff_map(V, {(X4S, stereoS): \n",
    "                         [X/(1-T), Y/(1-T), Z/(1-T)]},\n",
    "                     name='P_S', latex_name=r'\\Pi_S')\n",
    "ProjS.display()"
   ]
  },
  {
   "cell_type": "markdown",
   "metadata": {},
   "source": [
    "Let us check that once applied to an embedded point of $U\\cap V\\subset \\mathbb{S}^3$, this projection reduces to the identity:"
   ]
  },
  {
   "cell_type": "code",
   "execution_count": 42,
   "metadata": {
    "collapsed": false
   },
   "outputs": [
    {
     "data": {
      "text/html": [
       "<html><script type=\"math/tex; mode=display\">\\newcommand{\\Bold}[1]{\\mathbf{#1}}\\left(a^{2} + 1, b, c\\right)</script></html>"
      ],
      "text/plain": [
       "(a^2 + 1, b, c)"
      ]
     },
     "execution_count": 42,
     "metadata": {},
     "output_type": "execute_result"
    }
   ],
   "source": [
    "var('a b c', domain='real')\n",
    "p = S3((1+a^2,b,c), chart=stereoN)\n",
    "stereoN(p)"
   ]
  },
  {
   "cell_type": "code",
   "execution_count": 43,
   "metadata": {
    "collapsed": false
   },
   "outputs": [
    {
     "data": {
      "text/html": [
       "<html><script type=\"math/tex; mode=display\">\\newcommand{\\Bold}[1]{\\mathbf{#1}}\\mathrm{True}</script></html>"
      ],
      "text/plain": [
       "True"
      ]
     },
     "execution_count": 43,
     "metadata": {},
     "output_type": "execute_result"
    }
   ],
   "source": [
    "all([p in U, p in V])"
   ]
  },
  {
   "cell_type": "code",
   "execution_count": 44,
   "metadata": {
    "collapsed": false
   },
   "outputs": [
    {
     "data": {
      "text/html": [
       "<html><script type=\"math/tex; mode=display\">\\newcommand{\\Bold}[1]{\\mathbf{#1}}\\mathrm{True}</script></html>"
      ],
      "text/plain": [
       "True"
      ]
     },
     "execution_count": 44,
     "metadata": {},
     "output_type": "execute_result"
    }
   ],
   "source": [
    "all([ProjN(Phi(p)) == p, ProjS(Phi(p)) == p])"
   ]
  },
  {
   "cell_type": "code",
   "execution_count": 45,
   "metadata": {
    "collapsed": false
   },
   "outputs": [
    {
     "data": {
      "text/html": [
       "<html><script type=\"math/tex; mode=display\">\\newcommand{\\Bold}[1]{\\mathbf{#1}}\\mathrm{True}</script></html>"
      ],
      "text/plain": [
       "True"
      ]
     },
     "execution_count": 45,
     "metadata": {},
     "output_type": "execute_result"
    }
   ],
   "source": [
    "p = S3((1+a^2,b,c), chart=stereoS)\n",
    "all([ProjN(Phi(p)) == p, ProjS(Phi(p)) == p])"
   ]
  },
  {
   "cell_type": "code",
   "execution_count": 46,
   "metadata": {
    "collapsed": false
   },
   "outputs": [
    {
     "data": {
      "text/html": [
       "<html><script type=\"math/tex; mode=display\">\\newcommand{\\Bold}[1]{\\mathbf{#1}}\\left(\\frac{1}{2} \\, \\sqrt{3}, \\frac{1}{2} \\, \\cos\\left(b\\right) \\sin\\left(a\\right), \\frac{1}{2} \\, \\sin\\left(a\\right) \\sin\\left(b\\right), \\frac{1}{2} \\, \\cos\\left(a\\right)\\right)</script></html>"
      ],
      "text/plain": [
       "(1/2*sqrt(3), 1/2*cos(b)*sin(a), 1/2*sin(a)*sin(b), 1/2*cos(a))"
      ]
     },
     "execution_count": 46,
     "metadata": {},
     "output_type": "execute_result"
    }
   ],
   "source": [
    "q = R4((sqrt(3)/2, sin(a)*cos(b)/2, sin(a)*sin(b)/2, cos(a)/2))\n",
    "X4(q)"
   ]
  },
  {
   "cell_type": "code",
   "execution_count": 47,
   "metadata": {
    "collapsed": false
   },
   "outputs": [
    {
     "data": {
      "text/html": [
       "<html><script type=\"math/tex; mode=display\">\\newcommand{\\Bold}[1]{\\mathbf{#1}}\\mathrm{True}</script></html>"
      ],
      "text/plain": [
       "True"
      ]
     },
     "execution_count": 47,
     "metadata": {},
     "output_type": "execute_result"
    }
   ],
   "source": [
    "all([q in R4N, q in R4S])"
   ]
  },
  {
   "cell_type": "code",
   "execution_count": 48,
   "metadata": {
    "collapsed": false
   },
   "outputs": [
    {
     "data": {
      "text/html": [
       "<html><script type=\"math/tex; mode=display\">\\newcommand{\\Bold}[1]{\\mathbf{#1}}\\mathrm{True}</script></html>"
      ],
      "text/plain": [
       "True"
      ]
     },
     "execution_count": 48,
     "metadata": {},
     "output_type": "execute_result"
    }
   ],
   "source": [
    "all([Phi(ProjN(q)) == q, Phi(ProjS(q)) == q])"
   ]
  },
  {
   "cell_type": "markdown",
   "metadata": {},
   "source": [
    "## Quaternions"
   ]
  },
  {
   "cell_type": "markdown",
   "metadata": {},
   "source": [
    "We consider the (division) algebra of quaternions $\\mathbb{H}$ as $\\mathbb{R}^4$ endowed with the following (non-commutative) product:"
   ]
  },
  {
   "cell_type": "code",
   "execution_count": 49,
   "metadata": {
    "collapsed": true
   },
   "outputs": [],
   "source": [
    "def qprod(p,q):\n",
    "    if p in R4 and q in R4:\n",
    "        T1, X1, Y1, Z1 = X4(p)\n",
    "        T2, X2, Y2, Z2 = X4(q)\n",
    "        return R4(((T1*T2-X1*X2-Y1*Y2-Z1*Z2).simplify_full(),\n",
    "                   (T1*X2+X1*T2+Y1*Z2-Z1*Y2).simplify_full(),\n",
    "                   (T1*Y2-X1*Z2+Y1*T2+Z1*X2).simplify_full(),\n",
    "                   (T1*Z2+X1*Y2-Y1*X2+Z1*T2).simplify_full()))\n",
    "    if p in S3 and q in S3:\n",
    "        a = qprod(Phi(p),Phi(q))\n",
    "        if X4(a) == (-1,0,0,0):\n",
    "            return N\n",
    "        return ProjN(R4N(a))\n",
    "    raise ValueError(\"Cannot evaluate qprod of {} and {}\".format(p,q))"
   ]
  },
  {
   "cell_type": "markdown",
   "metadata": {},
   "source": [
    "Note that we have extended the definition of the quaternionic product to $\\mathbb{S}^3$ via the embedding $\\Phi$. \n",
    "\n",
    "### Distinguished quaternions on $\\mathbb{S}^3$\n",
    "\n",
    "Let us introduce two special points on $\\mathbb{S}^3$: $\\mathbf{1}$ and $-\\mathbf{1}$."
   ]
  },
  {
   "cell_type": "code",
   "execution_count": 50,
   "metadata": {
    "collapsed": false
   },
   "outputs": [
    {
     "data": {
      "text/html": [
       "<html><script type=\"math/tex; mode=display\">\\newcommand{\\Bold}[1]{\\mathbf{#1}}\\left(1, 0, 0, 0\\right)</script></html>"
      ],
      "text/plain": [
       "(1, 0, 0, 0)"
      ]
     },
     "execution_count": 50,
     "metadata": {},
     "output_type": "execute_result"
    }
   ],
   "source": [
    "One = S3((0,0,0), chart=stereoN, name='1', latex_name=r'\\mathbf{1}')\n",
    "X4(Phi(One))"
   ]
  },
  {
   "cell_type": "markdown",
   "metadata": {},
   "source": [
    "As we can see from the Cartesian coordinates of $\\Phi(\\mathbf{1})$, the point $\\mathbf{1}$ is actually nothing but the \"South\" pole used to define the stereographic chart $(V,(x',y',z'))$:"
   ]
  },
  {
   "cell_type": "code",
   "execution_count": 51,
   "metadata": {
    "collapsed": false
   },
   "outputs": [
    {
     "data": {
      "text/html": [
       "<html><script type=\"math/tex; mode=display\">\\newcommand{\\Bold}[1]{\\mathbf{#1}}\\mathrm{True}</script></html>"
      ],
      "text/plain": [
       "True"
      ]
     },
     "execution_count": 51,
     "metadata": {},
     "output_type": "execute_result"
    }
   ],
   "source": [
    "One == S"
   ]
  },
  {
   "cell_type": "code",
   "execution_count": 52,
   "metadata": {
    "collapsed": false
   },
   "outputs": [
    {
     "data": {
      "text/html": [
       "<html><script type=\"math/tex; mode=display\">\\newcommand{\\Bold}[1]{\\mathbf{#1}}\\left(-1, 0, 0, 0\\right)</script></html>"
      ],
      "text/plain": [
       "(-1, 0, 0, 0)"
      ]
     },
     "execution_count": 52,
     "metadata": {},
     "output_type": "execute_result"
    }
   ],
   "source": [
    "minusOne = S3((0,0,0), chart=stereoS, name='-1', latex_name=r'-\\mathbf{1}')\n",
    "X4(Phi(minusOne))"
   ]
  },
  {
   "cell_type": "markdown",
   "metadata": {},
   "source": [
    "The point $\\mathbf{-1}$ is thus nothing but the \"North\" pole used to define the stereographic chart $(U,(x,y,z))$:"
   ]
  },
  {
   "cell_type": "code",
   "execution_count": 53,
   "metadata": {
    "collapsed": false
   },
   "outputs": [
    {
     "data": {
      "text/html": [
       "<html><script type=\"math/tex; mode=display\">\\newcommand{\\Bold}[1]{\\mathbf{#1}}\\mathrm{True}</script></html>"
      ],
      "text/plain": [
       "True"
      ]
     },
     "execution_count": 53,
     "metadata": {},
     "output_type": "execute_result"
    }
   ],
   "source": [
    "minusOne == N"
   ]
  },
  {
   "cell_type": "markdown",
   "metadata": {},
   "source": [
    "Next we introduce the points $\\mathbf{i}$, $\\mathbf{j}$ and $\\mathbf{k}$ on $\\mathbb{S}^3$:"
   ]
  },
  {
   "cell_type": "code",
   "execution_count": 54,
   "metadata": {
    "collapsed": false
   },
   "outputs": [
    {
     "data": {
      "text/html": [
       "<html><script type=\"math/tex; mode=display\">\\newcommand{\\Bold}[1]{\\mathbf{#1}}\\left(0, 1, 0, 0\\right)</script></html>"
      ],
      "text/plain": [
       "(0, 1, 0, 0)"
      ]
     },
     "execution_count": 54,
     "metadata": {},
     "output_type": "execute_result"
    }
   ],
   "source": [
    "I = S3((1,0,0), chart=stereoN, name='i', latex_name=r'\\mathbf{i}')\n",
    "X4(Phi(I))"
   ]
  },
  {
   "cell_type": "code",
   "execution_count": 55,
   "metadata": {
    "collapsed": false
   },
   "outputs": [
    {
     "data": {
      "text/html": [
       "<html><script type=\"math/tex; mode=display\">\\newcommand{\\Bold}[1]{\\mathbf{#1}}\\left(1, 0, 0\\right)</script></html>"
      ],
      "text/plain": [
       "(1, 0, 0)"
      ]
     },
     "execution_count": 55,
     "metadata": {},
     "output_type": "execute_result"
    }
   ],
   "source": [
    "stereoS(I)"
   ]
  },
  {
   "cell_type": "code",
   "execution_count": 56,
   "metadata": {
    "collapsed": false
   },
   "outputs": [
    {
     "data": {
      "text/html": [
       "<html><script type=\"math/tex; mode=display\">\\newcommand{\\Bold}[1]{\\mathbf{#1}}\\left(0, 0, 1, 0\\right)</script></html>"
      ],
      "text/plain": [
       "(0, 0, 1, 0)"
      ]
     },
     "execution_count": 56,
     "metadata": {},
     "output_type": "execute_result"
    }
   ],
   "source": [
    "J = S3((0,1,0), chart=stereoN, name='j', latex_name=r'\\mathbf{j}')\n",
    "X4(Phi(J))"
   ]
  },
  {
   "cell_type": "code",
   "execution_count": 57,
   "metadata": {
    "collapsed": false
   },
   "outputs": [
    {
     "data": {
      "text/html": [
       "<html><script type=\"math/tex; mode=display\">\\newcommand{\\Bold}[1]{\\mathbf{#1}}\\left(0, 1, 0\\right)</script></html>"
      ],
      "text/plain": [
       "(0, 1, 0)"
      ]
     },
     "execution_count": 57,
     "metadata": {},
     "output_type": "execute_result"
    }
   ],
   "source": [
    "stereoS(J)"
   ]
  },
  {
   "cell_type": "markdown",
   "metadata": {},
   "source": [
    "Since $\\mathbf{j}$ lies in $A$, contrary to $\\mathbf{i}$, we may ask for its hyperspherical coordinates:"
   ]
  },
  {
   "cell_type": "code",
   "execution_count": 58,
   "metadata": {
    "collapsed": false
   },
   "outputs": [
    {
     "data": {
      "text/html": [
       "<html><script type=\"math/tex; mode=display\">\\newcommand{\\Bold}[1]{\\mathbf{#1}}\\left(\\frac{1}{2} \\, \\pi, \\frac{1}{2} \\, \\pi, \\frac{1}{2} \\, \\pi\\right)</script></html>"
      ],
      "text/plain": [
       "(1/2*pi, 1/2*pi, 1/2*pi)"
      ]
     },
     "execution_count": 58,
     "metadata": {},
     "output_type": "execute_result"
    }
   ],
   "source": [
    "spher(J)"
   ]
  },
  {
   "cell_type": "code",
   "execution_count": 59,
   "metadata": {
    "collapsed": false
   },
   "outputs": [
    {
     "data": {
      "text/html": [
       "<html><script type=\"math/tex; mode=display\">\\newcommand{\\Bold}[1]{\\mathbf{#1}}\\left(0, 0, 0, 1\\right)</script></html>"
      ],
      "text/plain": [
       "(0, 0, 0, 1)"
      ]
     },
     "execution_count": 59,
     "metadata": {},
     "output_type": "execute_result"
    }
   ],
   "source": [
    "K = S3((0,0,1), chart=stereoN, name='k', latex_name=r'\\mathbf{k}')\n",
    "X4(Phi(K))"
   ]
  },
  {
   "cell_type": "code",
   "execution_count": 60,
   "metadata": {
    "collapsed": false
   },
   "outputs": [
    {
     "data": {
      "text/html": [
       "<html><script type=\"math/tex; mode=display\">\\newcommand{\\Bold}[1]{\\mathbf{#1}}\\left(0, 0, 1\\right)</script></html>"
      ],
      "text/plain": [
       "(0, 0, 1)"
      ]
     },
     "execution_count": 60,
     "metadata": {},
     "output_type": "execute_result"
    }
   ],
   "source": [
    "stereoS(K)"
   ]
  },
  {
   "cell_type": "markdown",
   "metadata": {},
   "source": [
    "Hamilton's fundamental relations\n",
    "$$ \\mathbf{i} \\mathbf{j} \\mathbf{k} = \\mathbf{-1} $$\n",
    "$$ \\mathbf{i} \\mathbf{j} = \\mathbf{k},\\quad \\mathbf{j} \\mathbf{k} = \\mathbf{i}, \\quad \\mathbf{k} \\mathbf{i} = \\mathbf{j}$$\n",
    "are satisfied:"
   ]
  },
  {
   "cell_type": "code",
   "execution_count": 61,
   "metadata": {
    "collapsed": false
   },
   "outputs": [
    {
     "data": {
      "text/html": [
       "<html><script type=\"math/tex; mode=display\">\\newcommand{\\Bold}[1]{\\mathbf{#1}}\\mathrm{True}</script></html>"
      ],
      "text/plain": [
       "True"
      ]
     },
     "execution_count": 61,
     "metadata": {},
     "output_type": "execute_result"
    }
   ],
   "source": [
    "qprod(I, qprod(J,K)) == minusOne"
   ]
  },
  {
   "cell_type": "code",
   "execution_count": 62,
   "metadata": {
    "collapsed": false
   },
   "outputs": [
    {
     "data": {
      "text/html": [
       "<html><script type=\"math/tex; mode=display\">\\newcommand{\\Bold}[1]{\\mathbf{#1}}\\mathrm{True}</script></html>"
      ],
      "text/plain": [
       "True"
      ]
     },
     "execution_count": 62,
     "metadata": {},
     "output_type": "execute_result"
    }
   ],
   "source": [
    "all([qprod(I,J) == K, qprod(J,K) == I,\n",
    "     qprod(K,I) == J])"
   ]
  },
  {
   "cell_type": "markdown",
   "metadata": {},
   "source": [
    "These relations imply $\\mathbf{i}^2 = \\mathbf{-1}$, $\\mathbf{j}^2 = \\mathbf{-1}$ and $\\mathbf{k}^2 = \\mathbf{-1}$:"
   ]
  },
  {
   "cell_type": "code",
   "execution_count": 63,
   "metadata": {
    "collapsed": false
   },
   "outputs": [
    {
     "data": {
      "text/html": [
       "<html><script type=\"math/tex; mode=display\">\\newcommand{\\Bold}[1]{\\mathbf{#1}}\\mathrm{True}</script></html>"
      ],
      "text/plain": [
       "True"
      ]
     },
     "execution_count": 63,
     "metadata": {},
     "output_type": "execute_result"
    }
   ],
   "source": [
    "all([qprod(One,One) == One, qprod(I,I) == minusOne,\n",
    "     qprod(J,J) == minusOne, qprod(K,K) == minusOne])"
   ]
  },
  {
   "cell_type": "markdown",
   "metadata": {},
   "source": [
    "Let us introduce $\\mathbf{-i}$, $\\mathbf{-j}$ and $\\mathbf{-k}$, as points of $\\mathbb{S}^3$:"
   ]
  },
  {
   "cell_type": "code",
   "execution_count": 64,
   "metadata": {
    "collapsed": false
   },
   "outputs": [
    {
     "data": {
      "text/html": [
       "<html><script type=\"math/tex; mode=display\">\\newcommand{\\Bold}[1]{\\mathbf{#1}}\\left(0, -1, 0, 0\\right)</script></html>"
      ],
      "text/plain": [
       "(0, -1, 0, 0)"
      ]
     },
     "execution_count": 64,
     "metadata": {},
     "output_type": "execute_result"
    }
   ],
   "source": [
    "minusI = qprod(minusOne, I)\n",
    "X4(Phi(minusI))"
   ]
  },
  {
   "cell_type": "code",
   "execution_count": 65,
   "metadata": {
    "collapsed": false
   },
   "outputs": [
    {
     "data": {
      "text/html": [
       "<html><script type=\"math/tex; mode=display\">\\newcommand{\\Bold}[1]{\\mathbf{#1}}\\left(0, 0, -1, 0\\right)</script></html>"
      ],
      "text/plain": [
       "(0, 0, -1, 0)"
      ]
     },
     "execution_count": 65,
     "metadata": {},
     "output_type": "execute_result"
    }
   ],
   "source": [
    "minusJ = qprod(minusOne, J)\n",
    "X4(Phi(minusJ))"
   ]
  },
  {
   "cell_type": "code",
   "execution_count": 66,
   "metadata": {
    "collapsed": false
   },
   "outputs": [
    {
     "data": {
      "text/html": [
       "<html><script type=\"math/tex; mode=display\">\\newcommand{\\Bold}[1]{\\mathbf{#1}}\\left(0, 0, 0, -1\\right)</script></html>"
      ],
      "text/plain": [
       "(0, 0, 0, -1)"
      ]
     },
     "execution_count": 66,
     "metadata": {},
     "output_type": "execute_result"
    }
   ],
   "source": [
    "minusK = qprod(minusOne, K)\n",
    "X4(Phi(minusK))"
   ]
  },
  {
   "cell_type": "markdown",
   "metadata": {},
   "source": [
    "### Quaternionic conjugation"
   ]
  },
  {
   "cell_type": "markdown",
   "metadata": {},
   "source": [
    "In the comments below (but not in the SageMath code), we shall identify $\\mathbf{1}\\in \\mathbb{S}^3$ with $\\Phi(\\mathbf{1})\\in \\mathbb{R}^4$, $\\mathbf{i}\\in \\mathbb{S}^3$ with $\\Phi(\\mathbf{i})\\in \\mathbb{R}^4$, etc. In particular, we consider $(\\mathbf{1}, \\mathbf{i}, \\mathbf{j},\\mathbf{k})$ as a basis of the quaternion algebra $\\mathbb{H}$. \n",
    "\n",
    "The *conjugate* of a quaternion $q = T + X\\mathbf{i} + Y\\mathbf{j} + Z\\mathbf{k}$ is $\\bar{q} = T - X\\mathbf{i} - Y\\mathbf{j} - Z\\mathbf{k}$; hence we define:\n"
   ]
  },
  {
   "cell_type": "code",
   "execution_count": 67,
   "metadata": {
    "collapsed": false
   },
   "outputs": [],
   "source": [
    "def qconj(p):\n",
    "    if p in R4:\n",
    "        T, X, Y, Z = X4(p)\n",
    "        return R4((T, -X, -Y, -Z))\n",
    "    if p in S3:\n",
    "        a = qconj(Phi(p))\n",
    "        if X4(a) == (-1,0,0,0):\n",
    "            return N\n",
    "        return ProjN(a)\n",
    "    raise ValueError(\"Cannot evaluate qconf of {}\".format(p)) "
   ]
  },
  {
   "cell_type": "markdown",
   "metadata": {},
   "source": [
    "In particular, we have $\\bar{\\mathbf{1}} = \\mathbf{1}$, $\\bar{\\mathbf{i}} = -\\mathbf{i}$,  $\\bar{\\mathbf{j}} = -\\mathbf{j}$ and  $\\bar{\\mathbf{k}} = -\\mathbf{k}$:"
   ]
  },
  {
   "cell_type": "code",
   "execution_count": 68,
   "metadata": {
    "collapsed": false
   },
   "outputs": [
    {
     "data": {
      "text/html": [
       "<html><script type=\"math/tex; mode=display\">\\newcommand{\\Bold}[1]{\\mathbf{#1}}\\mathrm{True}</script></html>"
      ],
      "text/plain": [
       "True"
      ]
     },
     "execution_count": 68,
     "metadata": {},
     "output_type": "execute_result"
    }
   ],
   "source": [
    "all([qconj(One) == One, \n",
    "     qconj(I) == minusI,\n",
    "     qconj(J) == minusJ, \n",
    "     qconj(K) == minusK])"
   ]
  },
  {
   "cell_type": "markdown",
   "metadata": {},
   "source": [
    "The conjugate of an element of $\\mathbb{S}^3$"
   ]
  },
  {
   "cell_type": "code",
   "execution_count": 69,
   "metadata": {
    "collapsed": false
   },
   "outputs": [
    {
     "data": {
      "text/html": [
       "<html><script type=\"math/tex; mode=display\">\\newcommand{\\Bold}[1]{\\mathbf{#1}}\\left(-a, -b, -c\\right)</script></html>"
      ],
      "text/plain": [
       "(-a, -b, -c)"
      ]
     },
     "execution_count": 69,
     "metadata": {},
     "output_type": "execute_result"
    }
   ],
   "source": [
    "assume(a != 0)  # to ensure that qconj(p) is not N\n",
    "p = S3((a,b,c), chart=stereoN)\n",
    "stereoN(qconj(p))"
   ]
  },
  {
   "cell_type": "code",
   "execution_count": 70,
   "metadata": {
    "collapsed": false
   },
   "outputs": [
    {
     "data": {
      "text/html": [
       "<html><script type=\"math/tex; mode=display\">\\newcommand{\\Bold}[1]{\\mathbf{#1}}\\left(-a, -b, -c\\right)</script></html>"
      ],
      "text/plain": [
       "(-a, -b, -c)"
      ]
     },
     "execution_count": 70,
     "metadata": {},
     "output_type": "execute_result"
    }
   ],
   "source": [
    "p = S3((a,b,c), chart=stereoS)\n",
    "stereoS(qconj(p))"
   ]
  },
  {
   "cell_type": "code",
   "execution_count": 71,
   "metadata": {
    "collapsed": false
   },
   "outputs": [],
   "source": [
    "forget(a!=0)"
   ]
  },
  {
   "cell_type": "markdown",
   "metadata": {},
   "source": [
    "### Norm of a quaternion\n",
    "\n",
    "The quaternionic norm $\\| q\\| = \\sqrt{q\\bar{q}}$ coincide with the Euclidean norm in $\\mathbb{R}^4$, so that $\\mathbb{S}^3$ can be viewed as the set of unit quaternions; hence we define:"
   ]
  },
  {
   "cell_type": "code",
   "execution_count": 72,
   "metadata": {
    "collapsed": true
   },
   "outputs": [],
   "source": [
    "def qnorm(p):\n",
    "    if p in R4:\n",
    "        T, X, Y, Z = X4(p)\n",
    "        return (sqrt(T^2 + X^2 + Y^2 + Z^2)).simplify_full()\n",
    "    if p in S3:\n",
    "        return 1\n",
    "    raise ValueError(\"Cannot evaluate qnorm of {}\".format(p)) "
   ]
  },
  {
   "cell_type": "code",
   "execution_count": 73,
   "metadata": {
    "collapsed": false
   },
   "outputs": [
    {
     "data": {
      "text/html": [
       "<html><script type=\"math/tex; mode=display\">\\newcommand{\\Bold}[1]{\\mathbf{#1}}\\sqrt{a^{2} + b^{2} + c^{2} + d^{2}}</script></html>"
      ],
      "text/plain": [
       "sqrt(a^2 + b^2 + c^2 + d^2)"
      ]
     },
     "execution_count": 73,
     "metadata": {},
     "output_type": "execute_result"
    }
   ],
   "source": [
    "var('d', domain='real')\n",
    "q = R4((a,b,c,d))\n",
    "qnorm(q)"
   ]
  },
  {
   "cell_type": "markdown",
   "metadata": {},
   "source": [
    "Let us check that $\\| q\\|^2 = q\\bar{q}$:"
   ]
  },
  {
   "cell_type": "code",
   "execution_count": 74,
   "metadata": {
    "collapsed": false
   },
   "outputs": [
    {
     "data": {
      "text/html": [
       "<html><script type=\"math/tex; mode=display\">\\newcommand{\\Bold}[1]{\\mathbf{#1}}\\mathrm{True}</script></html>"
      ],
      "text/plain": [
       "True"
      ]
     },
     "execution_count": 74,
     "metadata": {},
     "output_type": "execute_result"
    }
   ],
   "source": [
    "R4((qnorm(q)^2,0,0,0)) == qprod(q, qconj(q))"
   ]
  },
  {
   "cell_type": "markdown",
   "metadata": {},
   "source": [
    "As elements of $\\mathbb{S}^3$, $\\mathbf{1}$,  $\\mathbf{i}$,  $\\mathbf{j}$ and  $\\mathbf{k}$ have all unit norm:"
   ]
  },
  {
   "cell_type": "code",
   "execution_count": 75,
   "metadata": {
    "collapsed": false
   },
   "outputs": [
    {
     "data": {
      "text/html": [
       "<html><script type=\"math/tex; mode=display\">\\newcommand{\\Bold}[1]{\\mathbf{#1}}\\mathrm{True}</script></html>"
      ],
      "text/plain": [
       "True"
      ]
     },
     "execution_count": 75,
     "metadata": {},
     "output_type": "execute_result"
    }
   ],
   "source": [
    "(qnorm(One), qnorm(I), qnorm(J), qnorm(K)) == (1, 1, 1, 1)"
   ]
  },
  {
   "cell_type": "markdown",
   "metadata": {},
   "source": [
    "## Lie group structure"
   ]
  },
  {
   "cell_type": "markdown",
   "metadata": {},
   "source": [
    "### Right translation by $\\mathbf{i}$\n",
    "\n",
    "The right translation by $\\mathbf{i}$ is the map $\\bar{R}_{\\mathbf{i}}: p \\mapsto p \\mathbf{i}$. We define it first at the level of $\\mathbb{R}^4$:"
   ]
  },
  {
   "cell_type": "code",
   "execution_count": 76,
   "metadata": {
    "collapsed": false
   },
   "outputs": [
    {
     "data": {
      "text/html": [
       "<html><script type=\"math/tex; mode=display\">\\newcommand{\\Bold}[1]{\\mathbf{#1}}\\begin{array}{llcl} & \\mathbb{R}^4 & \\longrightarrow & \\mathbb{R}^4 \\\\ & \\left(T, X, Y, Z\\right) & \\longmapsto & \\left(-X, T, Z, -Y\\right) \\end{array}</script></html>"
      ],
      "text/plain": [
       "R^4 --> R^4\n",
       "   (T, X, Y, Z) |--> (-X, T, Z, -Y)"
      ]
     },
     "execution_count": 76,
     "metadata": {},
     "output_type": "execute_result"
    }
   ],
   "source": [
    "p = R4((T,X,Y,Z))\n",
    "RI_R4 = R4.diff_map(R4, X4(qprod(p, Phi(I))))\n",
    "RI_R4.display()"
   ]
  },
  {
   "cell_type": "markdown",
   "metadata": {},
   "source": [
    "Focusing on its action on $\\mathbb{S}^3$, we consider then the map ${\\bar R}_{\\mathbf{i}}\\circ\\Phi$:"
   ]
  },
  {
   "cell_type": "code",
   "execution_count": 77,
   "metadata": {
    "collapsed": false
   },
   "outputs": [
    {
     "data": {
      "text/html": [
       "<html><script type=\"math/tex; mode=display\">\\newcommand{\\Bold}[1]{\\mathbf{#1}}\\begin{array}{llcl} & \\mathbb{S}^3 & \\longrightarrow & \\mathbb{R}^4 \\\\ \\mbox{on}\\ U : & \\left(x, y, z\\right) & \\longmapsto & \\left(T, X, Y, Z\\right) = \\left(-\\frac{2 \\, x}{x^{2} + y^{2} + z^{2} + 1}, -\\frac{x^{2} + y^{2} + z^{2} - 1}{x^{2} + y^{2} + z^{2} + 1}, \\frac{2 \\, z}{x^{2} + y^{2} + z^{2} + 1}, -\\frac{2 \\, y}{x^{2} + y^{2} + z^{2} + 1}\\right) \\\\ \\mbox{on}\\ V : & \\left({x'}, {y'}, {z'}\\right) & \\longmapsto & \\left(T, X, Y, Z\\right) = \\left(-\\frac{2 \\, {x'}}{{x'}^{2} + {y'}^{2} + {z'}^{2} + 1}, \\frac{{x'}^{2} + {y'}^{2} + {z'}^{2} - 1}{{x'}^{2} + {y'}^{2} + {z'}^{2} + 1}, \\frac{2 \\, {z'}}{{x'}^{2} + {y'}^{2} + {z'}^{2} + 1}, -\\frac{2 \\, {y'}}{{x'}^{2} + {y'}^{2} + {z'}^{2} + 1}\\right) \\\\ \\mbox{on}\\ A : & \\left({\\chi}, {\\theta}, {\\phi}\\right) & \\longmapsto & \\left(T, X, Y, Z\\right) = \\left(-\\cos\\left({\\phi}\\right) \\sin\\left({\\chi}\\right) \\sin\\left({\\theta}\\right), \\cos\\left({\\chi}\\right), \\cos\\left({\\theta}\\right) \\sin\\left({\\chi}\\right), -\\sin\\left({\\chi}\\right) \\sin\\left({\\phi}\\right) \\sin\\left({\\theta}\\right)\\right) \\end{array}</script></html>"
      ],
      "text/plain": [
       "S^3 --> R^4\n",
       "on U: (x, y, z) |--> (T, X, Y, Z) = (-2*x/(x^2 + y^2 + z^2 + 1), -(x^2 + y^2 + z^2 - 1)/(x^2 + y^2 + z^2 + 1), 2*z/(x^2 + y^2 + z^2 + 1), -2*y/(x^2 + y^2 + z^2 + 1))\n",
       "on V: (xp, yp, zp) |--> (T, X, Y, Z) = (-2*xp/(xp^2 + yp^2 + zp^2 + 1), (xp^2 + yp^2 + zp^2 - 1)/(xp^2 + yp^2 + zp^2 + 1), 2*zp/(xp^2 + yp^2 + zp^2 + 1), -2*yp/(xp^2 + yp^2 + zp^2 + 1))\n",
       "on A: (ch, th, ph) |--> (T, X, Y, Z) = (-cos(ph)*sin(ch)*sin(th), cos(ch), cos(th)*sin(ch), -sin(ch)*sin(ph)*sin(th))"
      ]
     },
     "execution_count": 77,
     "metadata": {},
     "output_type": "execute_result"
    }
   ],
   "source": [
    "RI_S3_R4 = RI_R4 * Phi\n",
    "RI_S3_R4.display()"
   ]
  },
  {
   "cell_type": "markdown",
   "metadata": {},
   "source": [
    "Let $U_{\\mathbf{i}} := U \\setminus \\{\\mathbf{i}\\}$; since the coordinates of $\\mathbf{i}$ in the chart $(U,(x,y,z))$ are $(1,0,0)$, we declare $U_{\\mathbf{i}}$ as"
   ]
  },
  {
   "cell_type": "code",
   "execution_count": 78,
   "metadata": {
    "collapsed": false
   },
   "outputs": [],
   "source": [
    "UI = U.open_subset('U_I', latex_name=r'U_{\\mathbf{i}}',\n",
    "                   coord_def={stereoN: (x!=1, y!=0, z!=0)})"
   ]
  },
  {
   "cell_type": "markdown",
   "metadata": {},
   "source": [
    "If we restrict $R_{\\mathbf{i}}\\circ\\Phi$ to $U_{\\mathbf{i}}$ the codomain can be taken to be $\\mathbb{R}^4_N$ since $\\mathbf{i}$ is the only point of $\\mathbb{S}^3$ for which $T(R_{\\mathbf{i}}(p)) = -1$. Hence we may apply the operator $\\Pi_N$ to define the right translation by $\\mathbf{i}$ as a map $U_{\\mathbf{i}}\\to U$:"
   ]
  },
  {
   "cell_type": "code",
   "execution_count": 79,
   "metadata": {
    "collapsed": false
   },
   "outputs": [
    {
     "data": {
      "text/html": [
       "<html><script type=\"math/tex; mode=display\">\\newcommand{\\Bold}[1]{\\mathbf{#1}}\\begin{array}{llcl} & U_{\\mathbf{i}} & \\longrightarrow & U \\\\ & \\left(x, y, z\\right) & \\longmapsto & \\left(x, y, z\\right) = \\left(-\\frac{x^{2} + y^{2} + z^{2} - 1}{x^{2} + y^{2} + z^{2} - 2 \\, x + 1}, \\frac{2 \\, z}{x^{2} + y^{2} + z^{2} - 2 \\, x + 1}, -\\frac{2 \\, y}{x^{2} + y^{2} + z^{2} - 2 \\, x + 1}\\right) \\end{array}</script></html>"
      ],
      "text/plain": [
       "U_I --> U\n",
       "   (x, y, z) |--> (x, y, z) = (-(x^2 + y^2 + z^2 - 1)/(x^2 + y^2 + z^2 - 2*x + 1), 2*z/(x^2 + y^2 + z^2 - 2*x + 1), -2*y/(x^2 + y^2 + z^2 - 2*x + 1))"
      ]
     },
     "execution_count": 79,
     "metadata": {},
     "output_type": "execute_result"
    }
   ],
   "source": [
    "RI_UI = ProjN * RI_S3_R4.restrict(UI, subcodomain=R4N)\n",
    "RI_UI.display()"
   ]
  },
  {
   "cell_type": "markdown",
   "metadata": {},
   "source": [
    "Similarly, if we restrict $R_{\\mathbf{i}}\\circ\\Phi$ to $V_{-\\mathbf{i}} := V \\setminus\\{-\\mathbf{i}\\}$, we get a map $V_{-\\mathbf{i}} \\to \\mathbb{R}^4_{S}$, so that composing by $\\Pi_S$, the right translation by $\\mathbf{i}$ becomes a map $V_{-\\mathbf{i}}\\to V$:"
   ]
  },
  {
   "cell_type": "code",
   "execution_count": 80,
   "metadata": {
    "collapsed": false
   },
   "outputs": [
    {
     "data": {
      "text/html": [
       "<html><script type=\"math/tex; mode=display\">\\newcommand{\\Bold}[1]{\\mathbf{#1}}\\begin{array}{llcl} & V_{-\\mathbf{i}} & \\longrightarrow & V \\\\ & \\left({x'}, {y'}, {z'}\\right) & \\longmapsto & \\left({x'}, {y'}, {z'}\\right) = \\left(\\frac{{x'}^{2} + {y'}^{2} + {z'}^{2} - 1}{{x'}^{2} + {y'}^{2} + {z'}^{2} + 2 \\, {x'} + 1}, \\frac{2 \\, {z'}}{{x'}^{2} + {y'}^{2} + {z'}^{2} + 2 \\, {x'} + 1}, -\\frac{2 \\, {y'}}{{x'}^{2} + {y'}^{2} + {z'}^{2} + 2 \\, {x'} + 1}\\right) \\end{array}</script></html>"
      ],
      "text/plain": [
       "V_mI --> V\n",
       "   (xp, yp, zp) |--> (xp, yp, zp) = ((xp^2 + yp^2 + zp^2 - 1)/(xp^2 + yp^2 + zp^2 + 2*xp + 1), 2*zp/(xp^2 + yp^2 + zp^2 + 2*xp + 1), -2*yp/(xp^2 + yp^2 + zp^2 + 2*xp + 1))"
      ]
     },
     "execution_count": 80,
     "metadata": {},
     "output_type": "execute_result"
    }
   ],
   "source": [
    "VmI = V.open_subset('V_mI', latex_name=r'V_{-\\mathbf{i}}',\n",
    "                    coord_def={stereoS: (xp!=-1, yp!=0, zp!=0)})\n",
    "RI_VmI = ProjS * RI_S3_R4.restrict(VmI, subcodomain=R4S)\n",
    "RI_VmI.display()"
   ]
  },
  {
   "cell_type": "markdown",
   "metadata": {},
   "source": [
    "We note that $\\mathbb{S}^3 = U_{\\mathbf{i}} \\cup V_{-\\mathbf{i}}$:"
   ]
  },
  {
   "cell_type": "code",
   "execution_count": 81,
   "metadata": {
    "collapsed": false
   },
   "outputs": [],
   "source": [
    "S3.declare_union(UI, VmI)"
   ]
  },
  {
   "cell_type": "markdown",
   "metadata": {},
   "source": [
    "Consequently, we can define the right translation by $\\mathbf{i}$ as a map \n",
    "$R_{\\mathbf{i}}: \\mathbb{S}^3\\to \\mathbb{S}^3$ by providing the coordinate expressions obtained above on $U_{\\mathbf{i}}$ and $V_{-\\mathbf{i}}$: "
   ]
  },
  {
   "cell_type": "code",
   "execution_count": 82,
   "metadata": {
    "collapsed": true
   },
   "outputs": [],
   "source": [
    "RI = S3.diff_map(S3, name='R_I', latex_name=r'{R_{\\mathbf{i}}}')\n",
    "RI.add_expression(stereoN.restrict(UI), stereoN, \n",
    "                  RI_UI.expr(stereoN.restrict(UI), stereoN))\n",
    "RI.add_expression(stereoS.restrict(VmI), stereoS, \n",
    "                  RI_VmI.expr(stereoS.restrict(VmI), stereoS))"
   ]
  },
  {
   "cell_type": "code",
   "execution_count": 83,
   "metadata": {
    "collapsed": false
   },
   "outputs": [
    {
     "data": {
      "text/html": [
       "<html><script type=\"math/tex; mode=display\">\\newcommand{\\Bold}[1]{\\mathbf{#1}}\\begin{array}{llcl} {R_{\\mathbf{i}}}:& \\mathbb{S}^3 & \\longrightarrow & \\mathbb{S}^3 \\\\ \\mbox{on}\\ U_{\\mathbf{i}} : & \\left(x, y, z\\right) & \\longmapsto & \\left(x, y, z\\right) = \\left(-\\frac{x^{2} + y^{2} + z^{2} - 1}{x^{2} + y^{2} + z^{2} - 2 \\, x + 1}, \\frac{2 \\, z}{x^{2} + y^{2} + z^{2} - 2 \\, x + 1}, -\\frac{2 \\, y}{x^{2} + y^{2} + z^{2} - 2 \\, x + 1}\\right) \\end{array}</script></html>"
      ],
      "text/plain": [
       "R_I: S^3 --> S^3\n",
       "on U_I: (x, y, z) |--> (x, y, z) = (-(x^2 + y^2 + z^2 - 1)/(x^2 + y^2 + z^2 - 2*x + 1), 2*z/(x^2 + y^2 + z^2 - 2*x + 1), -2*y/(x^2 + y^2 + z^2 - 2*x + 1))"
      ]
     },
     "execution_count": 83,
     "metadata": {},
     "output_type": "execute_result"
    }
   ],
   "source": [
    "RI.display(stereoN.restrict(UI), stereoN)"
   ]
  },
  {
   "cell_type": "code",
   "execution_count": 84,
   "metadata": {
    "collapsed": false
   },
   "outputs": [
    {
     "data": {
      "text/html": [
       "<html><script type=\"math/tex; mode=display\">\\newcommand{\\Bold}[1]{\\mathbf{#1}}\\begin{array}{llcl} {R_{\\mathbf{i}}}:& \\mathbb{S}^3 & \\longrightarrow & \\mathbb{S}^3 \\\\ \\mbox{on}\\ V_{-\\mathbf{i}} : & \\left({x'}, {y'}, {z'}\\right) & \\longmapsto & \\left({x'}, {y'}, {z'}\\right) = \\left(\\frac{{x'}^{2} + {y'}^{2} + {z'}^{2} - 1}{{x'}^{2} + {y'}^{2} + {z'}^{2} + 2 \\, {x'} + 1}, \\frac{2 \\, {z'}}{{x'}^{2} + {y'}^{2} + {z'}^{2} + 2 \\, {x'} + 1}, -\\frac{2 \\, {y'}}{{x'}^{2} + {y'}^{2} + {z'}^{2} + 2 \\, {x'} + 1}\\right) \\end{array}</script></html>"
      ],
      "text/plain": [
       "R_I: S^3 --> S^3\n",
       "on V_mI: (xp, yp, zp) |--> (xp, yp, zp) = ((xp^2 + yp^2 + zp^2 - 1)/(xp^2 + yp^2 + zp^2 + 2*xp + 1), 2*zp/(xp^2 + yp^2 + zp^2 + 2*xp + 1), -2*yp/(xp^2 + yp^2 + zp^2 + 2*xp + 1))"
      ]
     },
     "execution_count": 84,
     "metadata": {},
     "output_type": "execute_result"
    }
   ],
   "source": [
    "RI.display(stereoS.restrict(VmI), stereoS)"
   ]
  },
  {
   "cell_type": "markdown",
   "metadata": {},
   "source": [
    "Let us check the formulas $R_{\\mathbf{i}}(\\mathbf{1})=\\mathbf{i}$, $R_{\\mathbf{i}}(-\\mathbf{1})=-\\mathbf{i}$, $R_{\\mathbf{i}}(\\mathbf{i})=-\\mathbf{1}$, $R_{\\mathbf{i}}(-\\mathbf{i})=\\mathbf{1}$, $R_{\\mathbf{i}}(\\mathbf{j})=-\\mathbf{k}$, $R_{\\mathbf{i}}(-\\mathbf{j})=\\mathbf{k}$, $R_{\\mathbf{i}}(\\mathbf{k})=\\mathbf{j}$ and $R_{\\mathbf{i}}(-\\mathbf{k})=-\\mathbf{j}$:"
   ]
  },
  {
   "cell_type": "code",
   "execution_count": 85,
   "metadata": {
    "collapsed": false
   },
   "outputs": [
    {
     "data": {
      "text/html": [
       "<html><script type=\"math/tex; mode=display\">\\newcommand{\\Bold}[1]{\\mathbf{#1}}\\mathrm{True}</script></html>"
      ],
      "text/plain": [
       "True"
      ]
     },
     "execution_count": 85,
     "metadata": {},
     "output_type": "execute_result"
    }
   ],
   "source": [
    "all([RI(One)==I, RI(minusOne)==minusI, \n",
    "     RI(I)==minusOne, RI(minusI)==One,\n",
    "     RI(J)==minusK, RI(minusJ)==K,\n",
    "     RI(K)==J, RI(minusK)==minusJ])"
   ]
  },
  {
   "cell_type": "markdown",
   "metadata": {},
   "source": [
    "### Left-invariant vector field induced by the right translation by $\\mathbf{i}$\n",
    "\n",
    "Let us recall the expression of the right translation by $\\mathbf{i}$ on $\\mathbb{R}^4$:"
   ]
  },
  {
   "cell_type": "code",
   "execution_count": 86,
   "metadata": {
    "collapsed": false
   },
   "outputs": [
    {
     "data": {
      "text/html": [
       "<html><script type=\"math/tex; mode=display\">\\newcommand{\\Bold}[1]{\\mathbf{#1}}\\begin{array}{llcl} & \\mathbb{R}^4 & \\longrightarrow & \\mathbb{R}^4 \\\\ & \\left(T, X, Y, Z\\right) & \\longmapsto & \\left(-X, T, Z, -Y\\right) \\end{array}</script></html>"
      ],
      "text/plain": [
       "R^4 --> R^4\n",
       "   (T, X, Y, Z) |--> (-X, T, Z, -Y)"
      ]
     },
     "execution_count": 86,
     "metadata": {},
     "output_type": "execute_result"
    }
   ],
   "source": [
    "RI_R4.display()"
   ]
  },
  {
   "cell_type": "markdown",
   "metadata": {},
   "source": [
    "We turn it into a vector field $E_{\\mathbf{i}}$ on $\\mathbb{R}^4$ by identifying  $T_p\\mathbb{R}^4$ and $\\mathbb{R}^4$ at each point $p\\in\\mathbb{R}^4$:"
   ]
  },
  {
   "cell_type": "code",
   "execution_count": 87,
   "metadata": {
    "collapsed": false
   },
   "outputs": [
    {
     "data": {
      "text/html": [
       "<html><script type=\"math/tex; mode=display\">\\newcommand{\\Bold}[1]{\\mathbf{#1}}E_{\\mathbf{i}} = -X \\frac{\\partial}{\\partial T } + T \\frac{\\partial}{\\partial X } + Z \\frac{\\partial}{\\partial Y } -Y \\frac{\\partial}{\\partial Z }</script></html>"
      ],
      "text/plain": [
       "E_I = -X d/dT + T d/dX + Z d/dY - Y d/dZ"
      ]
     },
     "execution_count": 87,
     "metadata": {},
     "output_type": "execute_result"
    }
   ],
   "source": [
    "EI = R4.vector_field(name='E_I', latex_name=r'E_{\\mathbf{i}}')\n",
    "EI[:] = RI_R4.expression()\n",
    "EI.display()"
   ]
  },
  {
   "cell_type": "markdown",
   "metadata": {},
   "source": [
    "The \"radial\" vector field on $\\mathbb{R}^4$ is"
   ]
  },
  {
   "cell_type": "code",
   "execution_count": 88,
   "metadata": {
    "collapsed": false
   },
   "outputs": [
    {
     "data": {
      "text/html": [
       "<html><script type=\"math/tex; mode=display\">\\newcommand{\\Bold}[1]{\\mathbf{#1}}r = T \\frac{\\partial}{\\partial T } + X \\frac{\\partial}{\\partial X } + Y \\frac{\\partial}{\\partial Y } + Z \\frac{\\partial}{\\partial Z }</script></html>"
      ],
      "text/plain": [
       "r = T d/dT + X d/dX + Y d/dY + Z d/dZ"
      ]
     },
     "execution_count": 88,
     "metadata": {},
     "output_type": "execute_result"
    }
   ],
   "source": [
    "r = R4.vector_field(name='r')\n",
    "r[:] = (T,X,Y,Z)\n",
    "r.display()"
   ]
  },
  {
   "cell_type": "markdown",
   "metadata": {},
   "source": [
    "It is clear that $r\\cdot E_{\\mathbf{i}}=0$, where $\\cdot$ denotes the standard Euclidean scalar product in $\\mathbb{R}^4$. We can check this property explicitely by introducing the Euclidean metric:"
   ]
  },
  {
   "cell_type": "code",
   "execution_count": 89,
   "metadata": {
    "collapsed": false
   },
   "outputs": [
    {
     "data": {
      "text/html": [
       "<html><script type=\"math/tex; mode=display\">\\newcommand{\\Bold}[1]{\\mathbf{#1}}h = \\mathrm{d} T\\otimes \\mathrm{d} T+\\mathrm{d} X\\otimes \\mathrm{d} X+\\mathrm{d} Y\\otimes \\mathrm{d} Y+\\mathrm{d} Z\\otimes \\mathrm{d} Z</script></html>"
      ],
      "text/plain": [
       "h = dT*dT + dX*dX + dY*dY + dZ*dZ"
      ]
     },
     "execution_count": 89,
     "metadata": {},
     "output_type": "execute_result"
    }
   ],
   "source": [
    "h = R4.metric('h')\n",
    "h[0,0], h[1,1], h[2,2], h[3, 3] = 1, 1, 1, 1\n",
    "h.display()"
   ]
  },
  {
   "cell_type": "markdown",
   "metadata": {},
   "source": [
    "so that $r\\cdot E_{\\mathbf{i}} = h(r, E_{\\mathbf{i}})$:"
   ]
  },
  {
   "cell_type": "code",
   "execution_count": 90,
   "metadata": {
    "collapsed": false
   },
   "outputs": [
    {
     "data": {
      "text/html": [
       "<html><script type=\"math/tex; mode=display\">\\newcommand{\\Bold}[1]{\\mathbf{#1}}\\mathrm{True}</script></html>"
      ],
      "text/plain": [
       "True"
      ]
     },
     "execution_count": 90,
     "metadata": {},
     "output_type": "execute_result"
    }
   ],
   "source": [
    "h(r, EI) == 0"
   ]
  },
  {
   "cell_type": "markdown",
   "metadata": {},
   "source": [
    "This proves that the vector field $E_{\\mathbf{i}}$ is tangent to $\\mathbb{S}^3$, or more precisely to the embedded submanifold $\\Phi(\\mathbb{S}^3)$. Consequently, there exists a vector field $\\varepsilon_{\\mathbf{i}}$ on $\\mathbb{S}^3$, the pushforward of which by $\\Phi$ is \n",
    "$E_{\\mathbf{i}}$:\n",
    "$$\n",
    "   E_{\\mathbf{i}} = \\Phi^* \\varepsilon_{\\mathbf{i}}\n",
    "$$\n",
    "Let us determine the components of $\\varepsilon_{\\mathbf{i}}$ in the vector frame \n",
    "$\\left(\\frac{\\partial}{\\partial x}, \\frac{\\partial}{\\partial y}, \\frac{\\partial}{\\partial z}\\right)$ associated with the stereographic coordinates on $U$:"
   ]
  },
  {
   "cell_type": "code",
   "execution_count": 91,
   "metadata": {
    "collapsed": false
   },
   "outputs": [
    {
     "data": {
      "text/html": [
       "<html><script type=\"math/tex; mode=display\">\\newcommand{\\Bold}[1]{\\mathbf{#1}}\\left(U, \\left(\\frac{\\partial}{\\partial x },\\frac{\\partial}{\\partial y },\\frac{\\partial}{\\partial z }\\right)\\right)</script></html>"
      ],
      "text/plain": [
       "Coordinate frame (U, (d/dx,d/dy,d/dz))"
      ]
     },
     "execution_count": 91,
     "metadata": {},
     "output_type": "execute_result"
    }
   ],
   "source": [
    "frameN = stereoN.frame()\n",
    "frameN"
   ]
  },
  {
   "cell_type": "markdown",
   "metadata": {},
   "source": [
    "The pushforwards by $\\Phi$ of the stereographic frame vectors are:"
   ]
  },
  {
   "cell_type": "code",
   "execution_count": 92,
   "metadata": {
    "collapsed": false
   },
   "outputs": [
    {
     "data": {
      "text/html": [
       "<html><script type=\"math/tex; mode=display\">\\newcommand{\\Bold}[1]{\\mathbf{#1}}\\left[\\Phi^* \\frac{\\partial}{\\partial x }, \\Phi^* \\frac{\\partial}{\\partial y }, \\Phi^* \\frac{\\partial}{\\partial z }\\right]</script></html>"
      ],
      "text/plain": [
       "[Vector field Phi^*(d/dx) along the Open subset U of the 3-dimensional differentiable manifold S^3 with values on the 4-dimensional differentiable manifold R^4,\n",
       " Vector field Phi^*(d/dy) along the Open subset U of the 3-dimensional differentiable manifold S^3 with values on the 4-dimensional differentiable manifold R^4,\n",
       " Vector field Phi^*(d/dz) along the Open subset U of the 3-dimensional differentiable manifold S^3 with values on the 4-dimensional differentiable manifold R^4]"
      ]
     },
     "execution_count": 92,
     "metadata": {},
     "output_type": "execute_result"
    }
   ],
   "source": [
    "frameN_R4 = [Phi.pushforward(frameN[i]) for i in S3.irange()]\n",
    "frameN_R4"
   ]
  },
  {
   "cell_type": "code",
   "execution_count": 93,
   "metadata": {
    "collapsed": false
   },
   "outputs": [
    {
     "name": "stdout",
     "output_type": "stream",
     "text": [
      "Vector field Phi^*(d/dx) along the Open subset U of the 3-dimensional differentiable manifold S^3 with values on the 4-dimensional differentiable manifold R^4\n"
     ]
    }
   ],
   "source": [
    "print(frameN_R4[0])"
   ]
  },
  {
   "cell_type": "markdown",
   "metadata": {},
   "source": [
    "The expressions of $\\Phi^* \\frac{\\partial}{\\partial x}$, $\\Phi^* \\frac{\\partial}{\\partial y}$\n",
    "and $\\Phi^* \\frac{\\partial}{\\partial z}$ in terms of the canonical vector frame $\\left(\\frac{\\partial}{\\partial T}, \\frac{\\partial}{\\partial X},\\frac{\\partial}{\\partial Y},\\frac{\\partial}{\\partial Z}\\right)$ of $\\mathbb{R}^4$ are"
   ]
  },
  {
   "cell_type": "code",
   "execution_count": 94,
   "metadata": {
    "collapsed": false
   },
   "outputs": [
    {
     "data": {
      "text/html": [
       "<html><script type=\"math/tex; mode=display\">\\newcommand{\\Bold}[1]{\\mathbf{#1}}\\Phi^* \\frac{\\partial}{\\partial x } = \\left( -\\frac{4 \\, x}{x^{4} + y^{4} + z^{4} + 2 \\, {\\left(x^{2} + 1\\right)} y^{2} + 2 \\, {\\left(x^{2} + y^{2} + 1\\right)} z^{2} + 2 \\, x^{2} + 1} \\right) \\frac{\\partial}{\\partial T } + \\left( -\\frac{2 \\, {\\left(x^{2} - y^{2} - z^{2} - 1\\right)}}{x^{4} + y^{4} + z^{4} + 2 \\, {\\left(x^{2} + 1\\right)} y^{2} + 2 \\, {\\left(x^{2} + y^{2} + 1\\right)} z^{2} + 2 \\, x^{2} + 1} \\right) \\frac{\\partial}{\\partial X } + \\left( -\\frac{4 \\, x y}{x^{4} + y^{4} + z^{4} + 2 \\, {\\left(x^{2} + 1\\right)} y^{2} + 2 \\, {\\left(x^{2} + y^{2} + 1\\right)} z^{2} + 2 \\, x^{2} + 1} \\right) \\frac{\\partial}{\\partial Y } + \\left( -\\frac{4 \\, x z}{x^{4} + y^{4} + z^{4} + 2 \\, {\\left(x^{2} + 1\\right)} y^{2} + 2 \\, {\\left(x^{2} + y^{2} + 1\\right)} z^{2} + 2 \\, x^{2} + 1} \\right) \\frac{\\partial}{\\partial Z }</script></html>"
      ],
      "text/plain": [
       "Phi^*(d/dx) = -4*x/(x^4 + y^4 + z^4 + 2*(x^2 + 1)*y^2 + 2*(x^2 + y^2 + 1)*z^2 + 2*x^2 + 1) d/dT - 2*(x^2 - y^2 - z^2 - 1)/(x^4 + y^4 + z^4 + 2*(x^2 + 1)*y^2 + 2*(x^2 + y^2 + 1)*z^2 + 2*x^2 + 1) d/dX - 4*x*y/(x^4 + y^4 + z^4 + 2*(x^2 + 1)*y^2 + 2*(x^2 + y^2 + 1)*z^2 + 2*x^2 + 1) d/dY - 4*x*z/(x^4 + y^4 + z^4 + 2*(x^2 + 1)*y^2 + 2*(x^2 + y^2 + 1)*z^2 + 2*x^2 + 1) d/dZ"
      ]
     },
     "execution_count": 94,
     "metadata": {},
     "output_type": "execute_result"
    }
   ],
   "source": [
    "frameN_R4[0].display()"
   ]
  },
  {
   "cell_type": "code",
   "execution_count": 95,
   "metadata": {
    "collapsed": false
   },
   "outputs": [
    {
     "data": {
      "text/html": [
       "<html><script type=\"math/tex; mode=display\">\\newcommand{\\Bold}[1]{\\mathbf{#1}}\\Phi^* \\frac{\\partial}{\\partial y } = \\left( -\\frac{4 \\, y}{x^{4} + y^{4} + z^{4} + 2 \\, {\\left(x^{2} + 1\\right)} y^{2} + 2 \\, {\\left(x^{2} + y^{2} + 1\\right)} z^{2} + 2 \\, x^{2} + 1} \\right) \\frac{\\partial}{\\partial T } + \\left( -\\frac{4 \\, x y}{x^{4} + y^{4} + z^{4} + 2 \\, {\\left(x^{2} + 1\\right)} y^{2} + 2 \\, {\\left(x^{2} + y^{2} + 1\\right)} z^{2} + 2 \\, x^{2} + 1} \\right) \\frac{\\partial}{\\partial X } + \\left( \\frac{2 \\, {\\left(x^{2} - y^{2} + z^{2} + 1\\right)}}{x^{4} + y^{4} + z^{4} + 2 \\, {\\left(x^{2} + 1\\right)} y^{2} + 2 \\, {\\left(x^{2} + y^{2} + 1\\right)} z^{2} + 2 \\, x^{2} + 1} \\right) \\frac{\\partial}{\\partial Y } + \\left( -\\frac{4 \\, y z}{x^{4} + y^{4} + z^{4} + 2 \\, {\\left(x^{2} + 1\\right)} y^{2} + 2 \\, {\\left(x^{2} + y^{2} + 1\\right)} z^{2} + 2 \\, x^{2} + 1} \\right) \\frac{\\partial}{\\partial Z }</script></html>"
      ],
      "text/plain": [
       "Phi^*(d/dy) = -4*y/(x^4 + y^4 + z^4 + 2*(x^2 + 1)*y^2 + 2*(x^2 + y^2 + 1)*z^2 + 2*x^2 + 1) d/dT - 4*x*y/(x^4 + y^4 + z^4 + 2*(x^2 + 1)*y^2 + 2*(x^2 + y^2 + 1)*z^2 + 2*x^2 + 1) d/dX + 2*(x^2 - y^2 + z^2 + 1)/(x^4 + y^4 + z^4 + 2*(x^2 + 1)*y^2 + 2*(x^2 + y^2 + 1)*z^2 + 2*x^2 + 1) d/dY - 4*y*z/(x^4 + y^4 + z^4 + 2*(x^2 + 1)*y^2 + 2*(x^2 + y^2 + 1)*z^2 + 2*x^2 + 1) d/dZ"
      ]
     },
     "execution_count": 95,
     "metadata": {},
     "output_type": "execute_result"
    }
   ],
   "source": [
    "frameN_R4[1].display()"
   ]
  },
  {
   "cell_type": "code",
   "execution_count": 96,
   "metadata": {
    "collapsed": false
   },
   "outputs": [
    {
     "data": {
      "text/html": [
       "<html><script type=\"math/tex; mode=display\">\\newcommand{\\Bold}[1]{\\mathbf{#1}}\\Phi^* \\frac{\\partial}{\\partial z } = \\left( -\\frac{4 \\, z}{x^{4} + y^{4} + z^{4} + 2 \\, {\\left(x^{2} + 1\\right)} y^{2} + 2 \\, {\\left(x^{2} + y^{2} + 1\\right)} z^{2} + 2 \\, x^{2} + 1} \\right) \\frac{\\partial}{\\partial T } + \\left( -\\frac{4 \\, x z}{x^{4} + y^{4} + z^{4} + 2 \\, {\\left(x^{2} + 1\\right)} y^{2} + 2 \\, {\\left(x^{2} + y^{2} + 1\\right)} z^{2} + 2 \\, x^{2} + 1} \\right) \\frac{\\partial}{\\partial X } + \\left( -\\frac{4 \\, y z}{x^{4} + y^{4} + z^{4} + 2 \\, {\\left(x^{2} + 1\\right)} y^{2} + 2 \\, {\\left(x^{2} + y^{2} + 1\\right)} z^{2} + 2 \\, x^{2} + 1} \\right) \\frac{\\partial}{\\partial Y } + \\left( \\frac{2 \\, {\\left(x^{2} + y^{2} - z^{2} + 1\\right)}}{x^{4} + y^{4} + z^{4} + 2 \\, {\\left(x^{2} + 1\\right)} y^{2} + 2 \\, {\\left(x^{2} + y^{2} + 1\\right)} z^{2} + 2 \\, x^{2} + 1} \\right) \\frac{\\partial}{\\partial Z }</script></html>"
      ],
      "text/plain": [
       "Phi^*(d/dz) = -4*z/(x^4 + y^4 + z^4 + 2*(x^2 + 1)*y^2 + 2*(x^2 + y^2 + 1)*z^2 + 2*x^2 + 1) d/dT - 4*x*z/(x^4 + y^4 + z^4 + 2*(x^2 + 1)*y^2 + 2*(x^2 + y^2 + 1)*z^2 + 2*x^2 + 1) d/dX - 4*y*z/(x^4 + y^4 + z^4 + 2*(x^2 + 1)*y^2 + 2*(x^2 + y^2 + 1)*z^2 + 2*x^2 + 1) d/dY + 2*(x^2 + y^2 - z^2 + 1)/(x^4 + y^4 + z^4 + 2*(x^2 + 1)*y^2 + 2*(x^2 + y^2 + 1)*z^2 + 2*x^2 + 1) d/dZ"
      ]
     },
     "execution_count": 96,
     "metadata": {},
     "output_type": "execute_result"
    }
   ],
   "source": [
    "frameN_R4[2].display()"
   ]
  },
  {
   "cell_type": "markdown",
   "metadata": {},
   "source": [
    "Let us denote by $(a,b,c)$ the components of $\\left. \\varepsilon_{\\mathbf{i}} \\right|_{U}$ in the stereographic frame:\n",
    "$$ \\left. \\varepsilon_{\\mathbf{i}} \\right|_{U} = a \\frac{\\partial}{\\partial x}\n",
    "    + b \\frac{\\partial}{\\partial y}\n",
    "    + c \\frac{\\partial}{\\partial z} $$\n",
    "Since $\\Phi^*\\varepsilon_{\\mathbf{i}}=\\left. E_{\\mathbf{i}} \\right| _{\\Phi(\\mathbb{S}^3)}$, \n",
    "we get the linear system\n",
    "$$ a\\,  \\Phi^* \\frac{\\partial}{\\partial x} + b \\, \\Phi^* \\frac{\\partial}{\\partial y} \n",
    "    + c\\,  \\Phi^* \\frac{\\partial}{\\partial z} =\n",
    "    \\left. E_{\\mathbf{i}} \\right| _{\\Phi(U)} $$\n",
    "to be solved in $(a,b,c)$. The right-hand side is"
   ]
  },
  {
   "cell_type": "code",
   "execution_count": 97,
   "metadata": {
    "collapsed": false
   },
   "outputs": [
    {
     "data": {
      "text/html": [
       "<html><script type=\"math/tex; mode=display\">\\newcommand{\\Bold}[1]{\\mathbf{#1}}\\left[-\\frac{2 \\, x}{x^{2} + y^{2} + z^{2} + 1}, -\\frac{x^{2} + y^{2} + z^{2} - 1}{x^{2} + y^{2} + z^{2} + 1}, \\frac{2 \\, z}{x^{2} + y^{2} + z^{2} + 1}, -\\frac{2 \\, y}{x^{2} + y^{2} + z^{2} + 1}\\right]</script></html>"
      ],
      "text/plain": [
       "[-2*x/(x^2 + y^2 + z^2 + 1),\n",
       " -(x^2 + y^2 + z^2 - 1)/(x^2 + y^2 + z^2 + 1),\n",
       " 2*z/(x^2 + y^2 + z^2 + 1),\n",
       " -2*y/(x^2 + y^2 + z^2 + 1)]"
      ]
     },
     "execution_count": 97,
     "metadata": {},
     "output_type": "execute_result"
    }
   ],
   "source": [
    "p = U((x,y,z), chart=stereoN, name='p')\n",
    "EIp = EI.at(Phi(p))\n",
    "EIp[:]"
   ]
  },
  {
   "cell_type": "markdown",
   "metadata": {},
   "source": [
    "Hence the system:"
   ]
  },
  {
   "cell_type": "code",
   "execution_count": 98,
   "metadata": {
    "collapsed": false
   },
   "outputs": [
    {
     "data": {
      "text/html": [
       "<html><script type=\"math/tex; mode=display\">\\newcommand{\\Bold}[1]{\\mathbf{#1}}\\left[-\\frac{4 \\, {\\left(a x + b y + c z\\right)}}{x^{4} + y^{4} + z^{4} + 2 \\, {\\left(x^{2} + 1\\right)} y^{2} + 2 \\, {\\left(x^{2} + y^{2} + 1\\right)} z^{2} + 2 \\, x^{2} + 1} = -\\frac{2 \\, x}{x^{2} + y^{2} + z^{2} + 1}, -\\frac{2 \\, {\\left(a x^{2} + 2 \\, b x y - a y^{2} + 2 \\, c x z - a z^{2} - a\\right)}}{x^{4} + y^{4} + z^{4} + 2 \\, {\\left(x^{2} + 1\\right)} y^{2} + 2 \\, {\\left(x^{2} + y^{2} + 1\\right)} z^{2} + 2 \\, x^{2} + 1} = -\\frac{x^{2} + y^{2} + z^{2} - 1}{x^{2} + y^{2} + z^{2} + 1}, \\frac{2 \\, {\\left(b x^{2} - 2 \\, a x y - b y^{2} - 2 \\, c y z + b z^{2} + b\\right)}}{x^{4} + y^{4} + z^{4} + 2 \\, {\\left(x^{2} + 1\\right)} y^{2} + 2 \\, {\\left(x^{2} + y^{2} + 1\\right)} z^{2} + 2 \\, x^{2} + 1} = \\frac{2 \\, z}{x^{2} + y^{2} + z^{2} + 1}, \\frac{2 \\, {\\left(c x^{2} + c y^{2} - c z^{2} - 2 \\, {\\left(a x + b y\\right)} z + c\\right)}}{x^{4} + y^{4} + z^{4} + 2 \\, {\\left(x^{2} + 1\\right)} y^{2} + 2 \\, {\\left(x^{2} + y^{2} + 1\\right)} z^{2} + 2 \\, x^{2} + 1} = -\\frac{2 \\, y}{x^{2} + y^{2} + z^{2} + 1}\\right]</script></html>"
      ],
      "text/plain": [
       "[-4*(a*x + b*y + c*z)/(x^4 + y^4 + z^4 + 2*(x^2 + 1)*y^2 + 2*(x^2 + y^2 + 1)*z^2 + 2*x^2 + 1) == -2*x/(x^2 + y^2 + z^2 + 1),\n",
       " -2*(a*x^2 + 2*b*x*y - a*y^2 + 2*c*x*z - a*z^2 - a)/(x^4 + y^4 + z^4 + 2*(x^2 + 1)*y^2 + 2*(x^2 + y^2 + 1)*z^2 + 2*x^2 + 1) == -(x^2 + y^2 + z^2 - 1)/(x^2 + y^2 + z^2 + 1),\n",
       " 2*(b*x^2 - 2*a*x*y - b*y^2 - 2*c*y*z + b*z^2 + b)/(x^4 + y^4 + z^4 + 2*(x^2 + 1)*y^2 + 2*(x^2 + y^2 + 1)*z^2 + 2*x^2 + 1) == 2*z/(x^2 + y^2 + z^2 + 1),\n",
       " 2*(c*x^2 + c*y^2 - c*z^2 - 2*(a*x + b*y)*z + c)/(x^4 + y^4 + z^4 + 2*(x^2 + 1)*y^2 + 2*(x^2 + y^2 + 1)*z^2 + 2*x^2 + 1) == -2*y/(x^2 + y^2 + z^2 + 1)]"
      ]
     },
     "execution_count": 98,
     "metadata": {},
     "output_type": "execute_result"
    }
   ],
   "source": [
    "eqs = [(a*frameN_R4[0][i] + b*frameN_R4[1][i] + c*frameN_R4[2][i]).expr() == EIp[i]\n",
    "       for i in R4.irange()]\n",
    "eqs"
   ]
  },
  {
   "cell_type": "markdown",
   "metadata": {},
   "source": [
    "The unique solution is"
   ]
  },
  {
   "cell_type": "code",
   "execution_count": 99,
   "metadata": {
    "collapsed": false
   },
   "outputs": [
    {
     "data": {
      "text/html": [
       "<html><script type=\"math/tex; mode=display\">\\newcommand{\\Bold}[1]{\\mathbf{#1}}\\left[\\left\\{a : \\frac{1}{2} \\, x^{2} - \\frac{1}{2} \\, y^{2} - \\frac{1}{2} \\, z^{2} + \\frac{1}{2}, b : x y + z, c : x z - y\\right\\}\\right]</script></html>"
      ],
      "text/plain": [
       "[{a: 1/2*x^2 - 1/2*y^2 - 1/2*z^2 + 1/2, b: x*y + z, c: x*z - y}]"
      ]
     },
     "execution_count": 99,
     "metadata": {},
     "output_type": "execute_result"
    }
   ],
   "source": [
    "sol = solve(eqs, (a,b,c), solution_dict=True)\n",
    "sol"
   ]
  },
  {
   "cell_type": "markdown",
   "metadata": {},
   "source": [
    "The expression of $\\varepsilon_{\\mathbf{i}}$ in terms of the frame associated with the stereographic coordinates on $U$ is thus"
   ]
  },
  {
   "cell_type": "code",
   "execution_count": 100,
   "metadata": {
    "collapsed": false
   },
   "outputs": [
    {
     "data": {
      "text/html": [
       "<html><script type=\"math/tex; mode=display\">\\newcommand{\\Bold}[1]{\\mathbf{#1}}\\left( \\frac{1}{2} \\, x^{2} - \\frac{1}{2} \\, y^{2} - \\frac{1}{2} \\, z^{2} + \\frac{1}{2} \\right) \\frac{\\partial}{\\partial x } + \\left( x y + z \\right) \\frac{\\partial}{\\partial y } + \\left( x z - y \\right) \\frac{\\partial}{\\partial z }</script></html>"
      ],
      "text/plain": [
       "(1/2*x^2 - 1/2*y^2 - 1/2*z^2 + 1/2) d/dx + (x*y + z) d/dy + (x*z - y) d/dz"
      ]
     },
     "execution_count": 100,
     "metadata": {},
     "output_type": "execute_result"
    }
   ],
   "source": [
    "epsI = sol[0][a] * frameN[1] + sol[0][b] * frameN[2] + sol[0][c] * frameN[3]\n",
    "epsI.display()"
   ]
  },
  {
   "cell_type": "markdown",
   "metadata": {},
   "source": [
    "## Global vector frame on $\\mathbb{S}^3$"
   ]
  },
  {
   "cell_type": "markdown",
   "metadata": {},
   "source": [
    "The vector field $E_{\\mathbf{i}}$ never vanishes on $\\Phi(\\mathbb{S}^3)$, since it vanishes only at $(T,X,Y,Z)=(0,0,0,0)$. It follows that $\\varepsilon_{\\mathbf{i}}$ never vanishes on $\\mathbb{S}^3$. \n",
    "Similarly, starting from the right translation by $\\mathbf{j}$ and the right translation by $\\mathbf{k}$, we can construct global vector fields $\\varepsilon_{\\mathbf{j}}$ and $\\varepsilon_{\\mathbf{k}}$ that are always nonzero on $\\mathbb{S}^3$. \n",
    "Moreover, the vector fields\n",
    "$\\varepsilon_{\\mathbf{i}}$, $\\varepsilon_{\\mathbf{j}}$ and $\\varepsilon_{\\mathbf{k}}$ are linearly independent at any point of $\\mathbb{S}^3$. They thus form a global vector frame of $\\mathbb{S}^3$. This means that, as any Lie group, $\\mathbb{S}^3$ is a **parallelizable manifold**. This contrasts with $\\mathbb{S}^2$. Actually the only parallelizable spheres are $\\mathbb{S}^1$, $\\mathbb{S}^3$ and $\\mathbb{S}^7$.\n",
    "\n",
    "Let us declare the global vector frame $(\\varepsilon_{\\mathbf{i}}, \\varepsilon_{\\mathbf{j}}, \\varepsilon_{\\mathbf{k}})$, using the notations $\\varepsilon_1 := \\varepsilon_{\\mathbf{i}}$, $\\varepsilon_2 := \\varepsilon_{\\mathbf{j}}$ and $\\varepsilon_3 := \\varepsilon_{\\mathbf{k}}$:"
   ]
  },
  {
   "cell_type": "code",
   "execution_count": 101,
   "metadata": {
    "collapsed": false
   },
   "outputs": [
    {
     "data": {
      "text/html": [
       "<html><script type=\"math/tex; mode=display\">\\newcommand{\\Bold}[1]{\\mathbf{#1}}\\left(\\mathbb{S}^3, \\left(\\varepsilon_1,\\varepsilon_2,\\varepsilon_3\\right)\\right)</script></html>"
      ],
      "text/plain": [
       "Vector frame (S^3, (E_1,E_2,E_3))"
      ]
     },
     "execution_count": 101,
     "metadata": {},
     "output_type": "execute_result"
    }
   ],
   "source": [
    "E = S3.vector_frame('E', latex_symbol=r'\\varepsilon')\n",
    "E"
   ]
  },
  {
   "cell_type": "markdown",
   "metadata": {},
   "source": [
    "### Stereographic components of the vector field $\\varepsilon_1$"
   ]
  },
  {
   "cell_type": "markdown",
   "metadata": {},
   "source": [
    "On $U$, we can set the components of $\\varepsilon_1$ in the stereographic frame $\\left(\\frac{\\partial}{\\partial x}, \\frac{\\partial}{\\partial y}, \\frac{\\partial}{\\partial z}\\right)$ to those obtained above:"
   ]
  },
  {
   "cell_type": "code",
   "execution_count": 102,
   "metadata": {
    "collapsed": false
   },
   "outputs": [
    {
     "data": {
      "text/html": [
       "<html><script type=\"math/tex; mode=display\">\\newcommand{\\Bold}[1]{\\mathbf{#1}}\\varepsilon_1 = \\left( \\frac{1}{2} \\, x^{2} - \\frac{1}{2} \\, y^{2} - \\frac{1}{2} \\, z^{2} + \\frac{1}{2} \\right) \\frac{\\partial}{\\partial x } + \\left( x y + z \\right) \\frac{\\partial}{\\partial y } + \\left( x z - y \\right) \\frac{\\partial}{\\partial z }</script></html>"
      ],
      "text/plain": [
       "E_1 = (1/2*x^2 - 1/2*y^2 - 1/2*z^2 + 1/2) d/dx + (x*y + z) d/dy + (x*z - y) d/dz"
      ]
     },
     "execution_count": 102,
     "metadata": {},
     "output_type": "execute_result"
    }
   ],
   "source": [
    "E[1].restrict(U)[stereoN.frame(),:,stereoN] = (sol[0][a], sol[0][b], sol[0][c])\n",
    "E[1].display(stereoN.frame())"
   ]
  },
  {
   "cell_type": "markdown",
   "metadata": {},
   "source": [
    "Let us check that the pushforward of $\\varepsilon_1$ by $\\Phi$ coincides with $E_{\\mathbf{i}}$:"
   ]
  },
  {
   "cell_type": "code",
   "execution_count": 103,
   "metadata": {
    "collapsed": false
   },
   "outputs": [
    {
     "data": {
      "text/html": [
       "<html><script type=\"math/tex; mode=display\">\\newcommand{\\Bold}[1]{\\mathbf{#1}}\\Phi^*\\varepsilon_1 = \\left( -\\frac{2 \\, x}{x^{2} + y^{2} + z^{2} + 1} \\right) \\frac{\\partial}{\\partial T } + \\left( -\\frac{x^{2} + y^{2} + z^{2} - 1}{x^{2} + y^{2} + z^{2} + 1} \\right) \\frac{\\partial}{\\partial X } + \\left( \\frac{2 \\, z}{x^{2} + y^{2} + z^{2} + 1} \\right) \\frac{\\partial}{\\partial Y } + \\left( -\\frac{2 \\, y}{x^{2} + y^{2} + z^{2} + 1} \\right) \\frac{\\partial}{\\partial Z }</script></html>"
      ],
      "text/plain": [
       "Phi^*(E_1) = -2*x/(x^2 + y^2 + z^2 + 1) d/dT - (x^2 + y^2 + z^2 - 1)/(x^2 + y^2 + z^2 + 1) d/dX + 2*z/(x^2 + y^2 + z^2 + 1) d/dY - 2*y/(x^2 + y^2 + z^2 + 1) d/dZ"
      ]
     },
     "execution_count": 103,
     "metadata": {},
     "output_type": "execute_result"
    }
   ],
   "source": [
    "E1U_R4 = Phi.pushforward(E[1].restrict(U))\n",
    "E1U_R4.display()"
   ]
  },
  {
   "cell_type": "code",
   "execution_count": 104,
   "metadata": {
    "collapsed": false
   },
   "outputs": [
    {
     "data": {
      "text/html": [
       "<html><script type=\"math/tex; mode=display\">\\newcommand{\\Bold}[1]{\\mathbf{#1}}\\mathrm{True}</script></html>"
      ],
      "text/plain": [
       "True"
      ]
     },
     "execution_count": 104,
     "metadata": {},
     "output_type": "execute_result"
    }
   ],
   "source": [
    "all([E1U_R4[i] == EIp[i] for i in R4.irange()])"
   ]
  },
  {
   "cell_type": "markdown",
   "metadata": {},
   "source": [
    "Let us now determine the components of $\\varepsilon_1$ in the vector frame $\\left(\\frac{\\partial}{\\partial x'}, \\frac{\\partial}{\\partial y'}, \\frac{\\partial}{\\partial z'}\\right)$ associated with the stereographic chart from the South pole:"
   ]
  },
  {
   "cell_type": "code",
   "execution_count": 105,
   "metadata": {
    "collapsed": false
   },
   "outputs": [
    {
     "data": {
      "text/html": [
       "<html><script type=\"math/tex; mode=display\">\\newcommand{\\Bold}[1]{\\mathbf{#1}}\\left(V, \\left(\\frac{\\partial}{\\partial {x'} },\\frac{\\partial}{\\partial {y'} },\\frac{\\partial}{\\partial {z'} }\\right)\\right)</script></html>"
      ],
      "text/plain": [
       "Coordinate frame (V, (d/dxp,d/dyp,d/dzp))"
      ]
     },
     "execution_count": 105,
     "metadata": {},
     "output_type": "execute_result"
    }
   ],
   "source": [
    "frameS = stereoS.frame()\n",
    "frameS"
   ]
  },
  {
   "cell_type": "markdown",
   "metadata": {},
   "source": [
    "We use the same procedure as for the stereographic frame from the North pole:"
   ]
  },
  {
   "cell_type": "code",
   "execution_count": 106,
   "metadata": {
    "collapsed": false
   },
   "outputs": [
    {
     "data": {
      "text/html": [
       "<html><script type=\"math/tex; mode=display\">\\newcommand{\\Bold}[1]{\\mathbf{#1}}\\left[\\Phi^* \\frac{\\partial}{\\partial {x'} }, \\Phi^* \\frac{\\partial}{\\partial {y'} }, \\Phi^* \\frac{\\partial}{\\partial {z'} }\\right]</script></html>"
      ],
      "text/plain": [
       "[Vector field Phi^*(d/dxp) along the Open subset V of the 3-dimensional differentiable manifold S^3 with values on the 4-dimensional differentiable manifold R^4,\n",
       " Vector field Phi^*(d/dyp) along the Open subset V of the 3-dimensional differentiable manifold S^3 with values on the 4-dimensional differentiable manifold R^4,\n",
       " Vector field Phi^*(d/dzp) along the Open subset V of the 3-dimensional differentiable manifold S^3 with values on the 4-dimensional differentiable manifold R^4]"
      ]
     },
     "execution_count": 106,
     "metadata": {},
     "output_type": "execute_result"
    }
   ],
   "source": [
    "frameS_R4 = [Phi.pushforward(frameS[i]) for i in S3.irange()]\n",
    "frameS_R4"
   ]
  },
  {
   "cell_type": "code",
   "execution_count": 107,
   "metadata": {
    "collapsed": false
   },
   "outputs": [
    {
     "data": {
      "text/html": [
       "<html><script type=\"math/tex; mode=display\">\\newcommand{\\Bold}[1]{\\mathbf{#1}}\\left[-\\frac{2 \\, {x'}}{{x'}^{2} + {y'}^{2} + {z'}^{2} + 1}, \\frac{{x'}^{2} + {y'}^{2} + {z'}^{2} - 1}{{x'}^{2} + {y'}^{2} + {z'}^{2} + 1}, \\frac{2 \\, {z'}}{{x'}^{2} + {y'}^{2} + {z'}^{2} + 1}, -\\frac{2 \\, {y'}}{{x'}^{2} + {y'}^{2} + {z'}^{2} + 1}\\right]</script></html>"
      ],
      "text/plain": [
       "[-2*xp/(xp^2 + yp^2 + zp^2 + 1),\n",
       " (xp^2 + yp^2 + zp^2 - 1)/(xp^2 + yp^2 + zp^2 + 1),\n",
       " 2*zp/(xp^2 + yp^2 + zp^2 + 1),\n",
       " -2*yp/(xp^2 + yp^2 + zp^2 + 1)]"
      ]
     },
     "execution_count": 107,
     "metadata": {},
     "output_type": "execute_result"
    }
   ],
   "source": [
    "p = V((xp,yp,zp), chart=stereoS, name='p')\n",
    "EIp = EI.at(Phi(p))\n",
    "EIp[:]"
   ]
  },
  {
   "cell_type": "code",
   "execution_count": 108,
   "metadata": {
    "collapsed": false
   },
   "outputs": [
    {
     "data": {
      "text/html": [
       "<html><script type=\"math/tex; mode=display\">\\newcommand{\\Bold}[1]{\\mathbf{#1}}\\left[\\frac{4 \\, {\\left(a {x'} + b {y'} + c {z'}\\right)}}{{x'}^{4} + {y'}^{4} + {z'}^{4} + 2 \\, {\\left({x'}^{2} + 1\\right)} {y'}^{2} + 2 \\, {\\left({x'}^{2} + {y'}^{2} + 1\\right)} {z'}^{2} + 2 \\, {x'}^{2} + 1} = -\\frac{2 \\, {x'}}{{x'}^{2} + {y'}^{2} + {z'}^{2} + 1}, -\\frac{2 \\, {\\left(a {x'}^{2} + 2 \\, b {x'} {y'} - a {y'}^{2} + 2 \\, c {x'} {z'} - a {z'}^{2} - a\\right)}}{{x'}^{4} + {y'}^{4} + {z'}^{4} + 2 \\, {\\left({x'}^{2} + 1\\right)} {y'}^{2} + 2 \\, {\\left({x'}^{2} + {y'}^{2} + 1\\right)} {z'}^{2} + 2 \\, {x'}^{2} + 1} = \\frac{{x'}^{2} + {y'}^{2} + {z'}^{2} - 1}{{x'}^{2} + {y'}^{2} + {z'}^{2} + 1}, \\frac{2 \\, {\\left(b {x'}^{2} - 2 \\, a {x'} {y'} - b {y'}^{2} - 2 \\, c {y'} {z'} + b {z'}^{2} + b\\right)}}{{x'}^{4} + {y'}^{4} + {z'}^{4} + 2 \\, {\\left({x'}^{2} + 1\\right)} {y'}^{2} + 2 \\, {\\left({x'}^{2} + {y'}^{2} + 1\\right)} {z'}^{2} + 2 \\, {x'}^{2} + 1} = \\frac{2 \\, {z'}}{{x'}^{2} + {y'}^{2} + {z'}^{2} + 1}, \\frac{2 \\, {\\left(c {x'}^{2} + c {y'}^{2} - c {z'}^{2} - 2 \\, {\\left(a {x'} + b {y'}\\right)} {z'} + c\\right)}}{{x'}^{4} + {y'}^{4} + {z'}^{4} + 2 \\, {\\left({x'}^{2} + 1\\right)} {y'}^{2} + 2 \\, {\\left({x'}^{2} + {y'}^{2} + 1\\right)} {z'}^{2} + 2 \\, {x'}^{2} + 1} = -\\frac{2 \\, {y'}}{{x'}^{2} + {y'}^{2} + {z'}^{2} + 1}\\right]</script></html>"
      ],
      "text/plain": [
       "[4*(a*xp + b*yp + c*zp)/(xp^4 + yp^4 + zp^4 + 2*(xp^2 + 1)*yp^2 + 2*(xp^2 + yp^2 + 1)*zp^2 + 2*xp^2 + 1) == -2*xp/(xp^2 + yp^2 + zp^2 + 1),\n",
       " -2*(a*xp^2 + 2*b*xp*yp - a*yp^2 + 2*c*xp*zp - a*zp^2 - a)/(xp^4 + yp^4 + zp^4 + 2*(xp^2 + 1)*yp^2 + 2*(xp^2 + yp^2 + 1)*zp^2 + 2*xp^2 + 1) == (xp^2 + yp^2 + zp^2 - 1)/(xp^2 + yp^2 + zp^2 + 1),\n",
       " 2*(b*xp^2 - 2*a*xp*yp - b*yp^2 - 2*c*yp*zp + b*zp^2 + b)/(xp^4 + yp^4 + zp^4 + 2*(xp^2 + 1)*yp^2 + 2*(xp^2 + yp^2 + 1)*zp^2 + 2*xp^2 + 1) == 2*zp/(xp^2 + yp^2 + zp^2 + 1),\n",
       " 2*(c*xp^2 + c*yp^2 - c*zp^2 - 2*(a*xp + b*yp)*zp + c)/(xp^4 + yp^4 + zp^4 + 2*(xp^2 + 1)*yp^2 + 2*(xp^2 + yp^2 + 1)*zp^2 + 2*xp^2 + 1) == -2*yp/(xp^2 + yp^2 + zp^2 + 1)]"
      ]
     },
     "execution_count": 108,
     "metadata": {},
     "output_type": "execute_result"
    }
   ],
   "source": [
    "eqs = [(a*frameS_R4[0][i] + b*frameS_R4[1][i] + c*frameS_R4[2][i]).expr() == EIp[i] \n",
    "       for i in R4.irange()]\n",
    "eqs"
   ]
  },
  {
   "cell_type": "code",
   "execution_count": 109,
   "metadata": {
    "collapsed": false
   },
   "outputs": [
    {
     "data": {
      "text/html": [
       "<html><script type=\"math/tex; mode=display\">\\newcommand{\\Bold}[1]{\\mathbf{#1}}\\left[\\left\\{a : -\\frac{1}{2} \\, {x'}^{2} + \\frac{1}{2} \\, {y'}^{2} + \\frac{1}{2} \\, {z'}^{2} - \\frac{1}{2}, b : -{x'} {y'} + {z'}, c : -{x'} {z'} - {y'}\\right\\}\\right]</script></html>"
      ],
      "text/plain": [
       "[{a: -1/2*xp^2 + 1/2*yp^2 + 1/2*zp^2 - 1/2, b: -xp*yp + zp, c: -xp*zp - yp}]"
      ]
     },
     "execution_count": 109,
     "metadata": {},
     "output_type": "execute_result"
    }
   ],
   "source": [
    "sol = solve(eqs, (a,b,c), solution_dict=True)\n",
    "sol"
   ]
  },
  {
   "cell_type": "code",
   "execution_count": 110,
   "metadata": {
    "collapsed": false
   },
   "outputs": [
    {
     "data": {
      "text/html": [
       "<html><script type=\"math/tex; mode=display\">\\newcommand{\\Bold}[1]{\\mathbf{#1}}\\varepsilon_1 = \\left( -\\frac{1}{2} \\, {x'}^{2} + \\frac{1}{2} \\, {y'}^{2} + \\frac{1}{2} \\, {z'}^{2} - \\frac{1}{2} \\right) \\frac{\\partial}{\\partial {x'} } + \\left( -{x'} {y'} + {z'} \\right) \\frac{\\partial}{\\partial {y'} } + \\left( -{x'} {z'} - {y'} \\right) \\frac{\\partial}{\\partial {z'} }</script></html>"
      ],
      "text/plain": [
       "E_1 = (-1/2*xp^2 + 1/2*yp^2 + 1/2*zp^2 - 1/2) d/dxp + (-xp*yp + zp) d/dyp + (-xp*zp - yp) d/dzp"
      ]
     },
     "execution_count": 110,
     "metadata": {},
     "output_type": "execute_result"
    }
   ],
   "source": [
    "E[1].restrict(V)[stereoS.frame(),:, stereoS] = (sol[0][a], sol[0][b], sol[0][c])\n",
    "E[1].display(stereoS.frame())"
   ]
  },
  {
   "cell_type": "markdown",
   "metadata": {},
   "source": [
    "Again, we check the correctness by"
   ]
  },
  {
   "cell_type": "code",
   "execution_count": 111,
   "metadata": {
    "collapsed": false
   },
   "outputs": [
    {
     "data": {
      "text/html": [
       "<html><script type=\"math/tex; mode=display\">\\newcommand{\\Bold}[1]{\\mathbf{#1}}\\mathrm{True}</script></html>"
      ],
      "text/plain": [
       "True"
      ]
     },
     "execution_count": 111,
     "metadata": {},
     "output_type": "execute_result"
    }
   ],
   "source": [
    "E1V_R4 = Phi.pushforward(E[1].restrict(V))\n",
    "all([E1V_R4[i] == EIp[i] for i in R4.irange()])"
   ]
  },
  {
   "cell_type": "markdown",
   "metadata": {},
   "source": [
    "### Stereographic components of the vector field $\\varepsilon_2$\n",
    "\n",
    "The vector field $\\varepsilon_2 = \\varepsilon_{\\mathbf{j}}$ is induced by the right translation by $\\mathbf{j}$:"
   ]
  },
  {
   "cell_type": "code",
   "execution_count": 112,
   "metadata": {
    "collapsed": false
   },
   "outputs": [
    {
     "data": {
      "text/html": [
       "<html><script type=\"math/tex; mode=display\">\\newcommand{\\Bold}[1]{\\mathbf{#1}}\\begin{array}{llcl} & \\mathbb{R}^4 & \\longrightarrow & \\mathbb{R}^4 \\\\ & \\left(T, X, Y, Z\\right) & \\longmapsto & \\left(-Y, -Z, T, X\\right) \\end{array}</script></html>"
      ],
      "text/plain": [
       "R^4 --> R^4\n",
       "   (T, X, Y, Z) |--> (-Y, -Z, T, X)"
      ]
     },
     "execution_count": 112,
     "metadata": {},
     "output_type": "execute_result"
    }
   ],
   "source": [
    "p = R4((T,X,Y,Z))\n",
    "RJ_R4 = R4.diff_map(R4, X4(qprod(p, Phi(J))))\n",
    "RJ_R4.display()"
   ]
  },
  {
   "cell_type": "code",
   "execution_count": 113,
   "metadata": {
    "collapsed": false
   },
   "outputs": [
    {
     "data": {
      "text/html": [
       "<html><script type=\"math/tex; mode=display\">\\newcommand{\\Bold}[1]{\\mathbf{#1}}E_{\\mathbf{j}} = -Y \\frac{\\partial}{\\partial T } -Z \\frac{\\partial}{\\partial X } + T \\frac{\\partial}{\\partial Y } + X \\frac{\\partial}{\\partial Z }</script></html>"
      ],
      "text/plain": [
       "E_J = -Y d/dT - Z d/dX + T d/dY + X d/dZ"
      ]
     },
     "execution_count": 113,
     "metadata": {},
     "output_type": "execute_result"
    }
   ],
   "source": [
    "EJ = R4.vector_field(name='E_J', latex_name=r'E_{\\mathbf{j}}')\n",
    "EJ[:] = RJ_R4.expression()\n",
    "EJ.display()"
   ]
  },
  {
   "cell_type": "markdown",
   "metadata": {},
   "source": [
    "We determine the components of $\\varepsilon_2$ in the stereographic frame from the North pole as we did for $\\varepsilon_1$:"
   ]
  },
  {
   "cell_type": "code",
   "execution_count": 114,
   "metadata": {
    "collapsed": false
   },
   "outputs": [
    {
     "data": {
      "text/html": [
       "<html><script type=\"math/tex; mode=display\">\\newcommand{\\Bold}[1]{\\mathbf{#1}}\\left[-\\frac{2 \\, y}{x^{2} + y^{2} + z^{2} + 1}, -\\frac{2 \\, z}{x^{2} + y^{2} + z^{2} + 1}, -\\frac{x^{2} + y^{2} + z^{2} - 1}{x^{2} + y^{2} + z^{2} + 1}, \\frac{2 \\, x}{x^{2} + y^{2} + z^{2} + 1}\\right]</script></html>"
      ],
      "text/plain": [
       "[-2*y/(x^2 + y^2 + z^2 + 1),\n",
       " -2*z/(x^2 + y^2 + z^2 + 1),\n",
       " -(x^2 + y^2 + z^2 - 1)/(x^2 + y^2 + z^2 + 1),\n",
       " 2*x/(x^2 + y^2 + z^2 + 1)]"
      ]
     },
     "execution_count": 114,
     "metadata": {},
     "output_type": "execute_result"
    }
   ],
   "source": [
    "p = U((x,y,z), chart=stereoN)\n",
    "EJp = EJ.at(Phi(p))\n",
    "EJp[:]"
   ]
  },
  {
   "cell_type": "code",
   "execution_count": 115,
   "metadata": {
    "collapsed": false
   },
   "outputs": [
    {
     "data": {
      "text/html": [
       "<html><script type=\"math/tex; mode=display\">\\newcommand{\\Bold}[1]{\\mathbf{#1}}\\varepsilon_2 = \\left( x y - z \\right) \\frac{\\partial}{\\partial x } + \\left( -\\frac{1}{2} \\, x^{2} + \\frac{1}{2} \\, y^{2} - \\frac{1}{2} \\, z^{2} + \\frac{1}{2} \\right) \\frac{\\partial}{\\partial y } + \\left( y z + x \\right) \\frac{\\partial}{\\partial z }</script></html>"
      ],
      "text/plain": [
       "E_2 = (x*y - z) d/dx + (-1/2*x^2 + 1/2*y^2 - 1/2*z^2 + 1/2) d/dy + (y*z + x) d/dz"
      ]
     },
     "execution_count": 115,
     "metadata": {},
     "output_type": "execute_result"
    }
   ],
   "source": [
    "eqs = [(a*frameN_R4[0][i] + b*frameN_R4[1][i] + c*frameN_R4[2][i]).expr() == EJp[i]\n",
    "       for i in R4.irange()]\n",
    "sol = solve(eqs, (a,b,c), solution_dict=True)\n",
    "E[2].restrict(U)[stereoN.frame(),:,stereoN] = (sol[0][a], sol[0][b], sol[0][c])\n",
    "E[2].display(stereoN.frame())"
   ]
  },
  {
   "cell_type": "markdown",
   "metadata": {},
   "source": [
    "Check:"
   ]
  },
  {
   "cell_type": "code",
   "execution_count": 116,
   "metadata": {
    "collapsed": false
   },
   "outputs": [
    {
     "data": {
      "text/html": [
       "<html><script type=\"math/tex; mode=display\">\\newcommand{\\Bold}[1]{\\mathbf{#1}}\\mathrm{True}</script></html>"
      ],
      "text/plain": [
       "True"
      ]
     },
     "execution_count": 116,
     "metadata": {},
     "output_type": "execute_result"
    }
   ],
   "source": [
    "E2U_R4 = Phi.pushforward(E[2].restrict(U))\n",
    "all([E2U_R4[i] == EJp[i] for i in R4.irange()])"
   ]
  },
  {
   "cell_type": "markdown",
   "metadata": {},
   "source": [
    "We turn now to the stereographic components from the South pole:"
   ]
  },
  {
   "cell_type": "code",
   "execution_count": 117,
   "metadata": {
    "collapsed": false
   },
   "outputs": [
    {
     "data": {
      "text/html": [
       "<html><script type=\"math/tex; mode=display\">\\newcommand{\\Bold}[1]{\\mathbf{#1}}\\left[-\\frac{2 \\, {y'}}{{x'}^{2} + {y'}^{2} + {z'}^{2} + 1}, -\\frac{2 \\, {z'}}{{x'}^{2} + {y'}^{2} + {z'}^{2} + 1}, \\frac{{x'}^{2} + {y'}^{2} + {z'}^{2} - 1}{{x'}^{2} + {y'}^{2} + {z'}^{2} + 1}, \\frac{2 \\, {x'}}{{x'}^{2} + {y'}^{2} + {z'}^{2} + 1}\\right]</script></html>"
      ],
      "text/plain": [
       "[-2*yp/(xp^2 + yp^2 + zp^2 + 1),\n",
       " -2*zp/(xp^2 + yp^2 + zp^2 + 1),\n",
       " (xp^2 + yp^2 + zp^2 - 1)/(xp^2 + yp^2 + zp^2 + 1),\n",
       " 2*xp/(xp^2 + yp^2 + zp^2 + 1)]"
      ]
     },
     "execution_count": 117,
     "metadata": {},
     "output_type": "execute_result"
    }
   ],
   "source": [
    "p = V((xp,yp,zp), chart=stereoS)\n",
    "EJp = EJ.at(Phi(p))\n",
    "EJp[:]"
   ]
  },
  {
   "cell_type": "code",
   "execution_count": 118,
   "metadata": {
    "collapsed": false
   },
   "outputs": [
    {
     "data": {
      "text/html": [
       "<html><script type=\"math/tex; mode=display\">\\newcommand{\\Bold}[1]{\\mathbf{#1}}\\varepsilon_2 = \\left( -{x'} {y'} - {z'} \\right) \\frac{\\partial}{\\partial {x'} } + \\left( \\frac{1}{2} \\, {x'}^{2} - \\frac{1}{2} \\, {y'}^{2} + \\frac{1}{2} \\, {z'}^{2} - \\frac{1}{2} \\right) \\frac{\\partial}{\\partial {y'} } + \\left( -{y'} {z'} + {x'} \\right) \\frac{\\partial}{\\partial {z'} }</script></html>"
      ],
      "text/plain": [
       "E_2 = (-xp*yp - zp) d/dxp + (1/2*xp^2 - 1/2*yp^2 + 1/2*zp^2 - 1/2) d/dyp + (-yp*zp + xp) d/dzp"
      ]
     },
     "execution_count": 118,
     "metadata": {},
     "output_type": "execute_result"
    }
   ],
   "source": [
    "eqs = [(a*frameS_R4[0][i] + b*frameS_R4[1][i] + c*frameS_R4[2][i]).expr() == EJp[i] \n",
    "       for i in R4.irange()]\n",
    "sol = solve(eqs, (a,b,c), solution_dict=True)\n",
    "E[2].restrict(V)[stereoS.frame(),:, stereoS] = (sol[0][a], sol[0][b], sol[0][c])\n",
    "E[2].display(stereoS.frame())"
   ]
  },
  {
   "cell_type": "code",
   "execution_count": 119,
   "metadata": {
    "collapsed": false
   },
   "outputs": [
    {
     "data": {
      "text/html": [
       "<html><script type=\"math/tex; mode=display\">\\newcommand{\\Bold}[1]{\\mathbf{#1}}\\mathrm{True}</script></html>"
      ],
      "text/plain": [
       "True"
      ]
     },
     "execution_count": 119,
     "metadata": {},
     "output_type": "execute_result"
    }
   ],
   "source": [
    "E2V_R4 = Phi.pushforward(E[2].restrict(V))\n",
    "all([E2V_R4[i] == EJp[i] for i in R4.irange()])"
   ]
  },
  {
   "cell_type": "markdown",
   "metadata": {},
   "source": [
    "### Stereographic components of the vector field $\\varepsilon_3$\n",
    "\n",
    "The vector field $\\varepsilon_3 = \\varepsilon_{\\mathbf{k}}$ is induced by the right translation by $\\mathbf{k}$:"
   ]
  },
  {
   "cell_type": "code",
   "execution_count": 120,
   "metadata": {
    "collapsed": false
   },
   "outputs": [
    {
     "data": {
      "text/html": [
       "<html><script type=\"math/tex; mode=display\">\\newcommand{\\Bold}[1]{\\mathbf{#1}}\\begin{array}{llcl} & \\mathbb{R}^4 & \\longrightarrow & \\mathbb{R}^4 \\\\ & \\left(T, X, Y, Z\\right) & \\longmapsto & \\left(-Z, Y, -X, T\\right) \\end{array}</script></html>"
      ],
      "text/plain": [
       "R^4 --> R^4\n",
       "   (T, X, Y, Z) |--> (-Z, Y, -X, T)"
      ]
     },
     "execution_count": 120,
     "metadata": {},
     "output_type": "execute_result"
    }
   ],
   "source": [
    "p = R4((T,X,Y,Z))\n",
    "RK_R4 = R4.diff_map(R4, X4(qprod(p, Phi(K))))\n",
    "RK_R4.display()"
   ]
  },
  {
   "cell_type": "code",
   "execution_count": 121,
   "metadata": {
    "collapsed": false
   },
   "outputs": [
    {
     "data": {
      "text/html": [
       "<html><script type=\"math/tex; mode=display\">\\newcommand{\\Bold}[1]{\\mathbf{#1}}E_{\\mathbf{k}} = -Z \\frac{\\partial}{\\partial T } + Y \\frac{\\partial}{\\partial X } -X \\frac{\\partial}{\\partial Y } + T \\frac{\\partial}{\\partial Z }</script></html>"
      ],
      "text/plain": [
       "E_K = -Z d/dT + Y d/dX - X d/dY + T d/dZ"
      ]
     },
     "execution_count": 121,
     "metadata": {},
     "output_type": "execute_result"
    }
   ],
   "source": [
    "EK = R4.vector_field(name='E_K', latex_name=r'E_{\\mathbf{k}}')\n",
    "EK[:] = RK_R4.expression()\n",
    "EK.display()"
   ]
  },
  {
   "cell_type": "markdown",
   "metadata": {},
   "source": [
    "The components of $\\varepsilon_3$ in the two stereographic frames are obtained in the same manner as for $\\varepsilon_1$ and $\\varepsilon_2$"
   ]
  },
  {
   "cell_type": "code",
   "execution_count": 122,
   "metadata": {
    "collapsed": false
   },
   "outputs": [
    {
     "data": {
      "text/html": [
       "<html><script type=\"math/tex; mode=display\">\\newcommand{\\Bold}[1]{\\mathbf{#1}}\\varepsilon_3 = \\left( x z + y \\right) \\frac{\\partial}{\\partial x } + \\left( y z - x \\right) \\frac{\\partial}{\\partial y } + \\left( -\\frac{1}{2} \\, x^{2} - \\frac{1}{2} \\, y^{2} + \\frac{1}{2} \\, z^{2} + \\frac{1}{2} \\right) \\frac{\\partial}{\\partial z }</script></html>"
      ],
      "text/plain": [
       "E_3 = (x*z + y) d/dx + (y*z - x) d/dy + (-1/2*x^2 - 1/2*y^2 + 1/2*z^2 + 1/2) d/dz"
      ]
     },
     "execution_count": 122,
     "metadata": {},
     "output_type": "execute_result"
    }
   ],
   "source": [
    "p = U((x,y,z), chart=stereoN)\n",
    "EKp = EK.at(Phi(p))\n",
    "eqs = [(a*frameN_R4[0][i] + b*frameN_R4[1][i] + c*frameN_R4[2][i]).expr() == EKp[i]\n",
    "       for i in R4.irange()]\n",
    "sol = solve(eqs, (a,b,c), solution_dict=True)\n",
    "E[3].restrict(U)[stereoN.frame(),:,stereoN] = (sol[0][a], sol[0][b], sol[0][c])\n",
    "E[3].display(stereoN.frame())"
   ]
  },
  {
   "cell_type": "code",
   "execution_count": 123,
   "metadata": {
    "collapsed": false
   },
   "outputs": [
    {
     "data": {
      "text/html": [
       "<html><script type=\"math/tex; mode=display\">\\newcommand{\\Bold}[1]{\\mathbf{#1}}\\mathrm{True}</script></html>"
      ],
      "text/plain": [
       "True"
      ]
     },
     "execution_count": 123,
     "metadata": {},
     "output_type": "execute_result"
    }
   ],
   "source": [
    "E3U_R4 = Phi.pushforward(E[3].restrict(U))\n",
    "all([E3U_R4[i] == EKp[i] for i in R4.irange()])"
   ]
  },
  {
   "cell_type": "code",
   "execution_count": 124,
   "metadata": {
    "collapsed": false
   },
   "outputs": [
    {
     "data": {
      "text/html": [
       "<html><script type=\"math/tex; mode=display\">\\newcommand{\\Bold}[1]{\\mathbf{#1}}\\varepsilon_3 = \\left( -{x'} {z'} + {y'} \\right) \\frac{\\partial}{\\partial {x'} } + \\left( -{y'} {z'} - {x'} \\right) \\frac{\\partial}{\\partial {y'} } + \\left( \\frac{1}{2} \\, {x'}^{2} + \\frac{1}{2} \\, {y'}^{2} - \\frac{1}{2} \\, {z'}^{2} - \\frac{1}{2} \\right) \\frac{\\partial}{\\partial {z'} }</script></html>"
      ],
      "text/plain": [
       "E_3 = (-xp*zp + yp) d/dxp + (-yp*zp - xp) d/dyp + (1/2*xp^2 + 1/2*yp^2 - 1/2*zp^2 - 1/2) d/dzp"
      ]
     },
     "execution_count": 124,
     "metadata": {},
     "output_type": "execute_result"
    }
   ],
   "source": [
    "p = V((xp,yp,zp), chart=stereoS)\n",
    "EKp = EK.at(Phi(p))\n",
    "eqs = [(a*frameS_R4[0][i] + b*frameS_R4[1][i] + c*frameS_R4[2][i]).expr() == EKp[i] \n",
    "       for i in R4.irange()]\n",
    "sol = solve(eqs, (a,b,c), solution_dict=True)\n",
    "E[3].restrict(V)[stereoS.frame(),:, stereoS] = (sol[0][a], sol[0][b], sol[0][c])\n",
    "E[3].display(stereoS.frame())"
   ]
  },
  {
   "cell_type": "code",
   "execution_count": 125,
   "metadata": {
    "collapsed": false
   },
   "outputs": [
    {
     "data": {
      "text/html": [
       "<html><script type=\"math/tex; mode=display\">\\newcommand{\\Bold}[1]{\\mathbf{#1}}\\mathrm{True}</script></html>"
      ],
      "text/plain": [
       "True"
      ]
     },
     "execution_count": 125,
     "metadata": {},
     "output_type": "execute_result"
    }
   ],
   "source": [
    "E3V_R4 = Phi.pushforward(E[3].restrict(V))\n",
    "all([E3V_R4[i] == EKp[i] for i in R4.irange()])"
   ]
  },
  {
   "cell_type": "markdown",
   "metadata": {},
   "source": [
    "### Summary\n",
    "\n",
    "The vector fields on $\\mathbb{R}^4$ induced by the right translations by respectively $\\mathbf{i}$, $\\mathbf{j}$ and $\\mathbf{k}$ are"
   ]
  },
  {
   "cell_type": "code",
   "execution_count": 126,
   "metadata": {
    "collapsed": false,
    "scrolled": true
   },
   "outputs": [
    {
     "data": {
      "text/html": [
       "<html><script type=\"math/tex; mode=display\">\\newcommand{\\Bold}[1]{\\mathbf{#1}}E_{\\mathbf{i}} = -X \\frac{\\partial}{\\partial T } + T \\frac{\\partial}{\\partial X } + Z \\frac{\\partial}{\\partial Y } -Y \\frac{\\partial}{\\partial Z }</script></html>"
      ],
      "text/plain": [
       "E_I = -X d/dT + T d/dX + Z d/dY - Y d/dZ"
      ]
     },
     "metadata": {},
     "output_type": "display_data"
    },
    {
     "data": {
      "text/html": [
       "<html><script type=\"math/tex; mode=display\">\\newcommand{\\Bold}[1]{\\mathbf{#1}}E_{\\mathbf{j}} = -Y \\frac{\\partial}{\\partial T } -Z \\frac{\\partial}{\\partial X } + T \\frac{\\partial}{\\partial Y } + X \\frac{\\partial}{\\partial Z }</script></html>"
      ],
      "text/plain": [
       "E_J = -Y d/dT - Z d/dX + T d/dY + X d/dZ"
      ]
     },
     "metadata": {},
     "output_type": "display_data"
    },
    {
     "data": {
      "text/html": [
       "<html><script type=\"math/tex; mode=display\">\\newcommand{\\Bold}[1]{\\mathbf{#1}}E_{\\mathbf{k}} = -Z \\frac{\\partial}{\\partial T } + Y \\frac{\\partial}{\\partial X } -X \\frac{\\partial}{\\partial Y } + T \\frac{\\partial}{\\partial Z }</script></html>"
      ],
      "text/plain": [
       "E_K = -Z d/dT + Y d/dX - X d/dY + T d/dZ"
      ]
     },
     "metadata": {},
     "output_type": "display_data"
    }
   ],
   "source": [
    "show(EI.display())\n",
    "show(EJ.display())\n",
    "show(EK.display())"
   ]
  },
  {
   "cell_type": "markdown",
   "metadata": {},
   "source": [
    "As a check, we note that the above formulas coincide with those given in Problem 8-6 of Lee's textbook [*Introduction to Smooth Manifolds*](https://dx.doi.org/10.1007/978-1-4419-9982-5), 2nd ed., Springer (New York) (2013).\n",
    "\n",
    "The vector fields $E_{\\mathbf{i}}$, $E_{\\mathbf{j}}$ and $E_{\\mathbf{k}}$ are tangent to $\\Phi(\\mathbb{S}^3)\\subset\\mathbb{R}^4$ and therefore induce three vectors fields on $\\mathbb{S}^3$, $\\varepsilon_1$, $\\varepsilon_2$ and $\\varepsilon_3$, which form a global vector frame of $\\mathbb{S}^3$. The components of these vector fields with respect to the (local) stereographic frames are "
   ]
  },
  {
   "cell_type": "code",
   "execution_count": 127,
   "metadata": {
    "collapsed": false
   },
   "outputs": [
    {
     "data": {
      "text/html": [
       "<html><script type=\"math/tex; mode=display\">\\newcommand{\\Bold}[1]{\\mathbf{#1}}\\varepsilon_1 = \\left( \\frac{1}{2} \\, x^{2} - \\frac{1}{2} \\, y^{2} - \\frac{1}{2} \\, z^{2} + \\frac{1}{2} \\right) \\frac{\\partial}{\\partial x } + \\left( x y + z \\right) \\frac{\\partial}{\\partial y } + \\left( x z - y \\right) \\frac{\\partial}{\\partial z }</script></html>"
      ],
      "text/plain": [
       "E_1 = (1/2*x^2 - 1/2*y^2 - 1/2*z^2 + 1/2) d/dx + (x*y + z) d/dy + (x*z - y) d/dz"
      ]
     },
     "metadata": {},
     "output_type": "display_data"
    },
    {
     "data": {
      "text/html": [
       "<html><script type=\"math/tex; mode=display\">\\newcommand{\\Bold}[1]{\\mathbf{#1}}\\varepsilon_2 = \\left( x y - z \\right) \\frac{\\partial}{\\partial x } + \\left( -\\frac{1}{2} \\, x^{2} + \\frac{1}{2} \\, y^{2} - \\frac{1}{2} \\, z^{2} + \\frac{1}{2} \\right) \\frac{\\partial}{\\partial y } + \\left( y z + x \\right) \\frac{\\partial}{\\partial z }</script></html>"
      ],
      "text/plain": [
       "E_2 = (x*y - z) d/dx + (-1/2*x^2 + 1/2*y^2 - 1/2*z^2 + 1/2) d/dy + (y*z + x) d/dz"
      ]
     },
     "metadata": {},
     "output_type": "display_data"
    },
    {
     "data": {
      "text/html": [
       "<html><script type=\"math/tex; mode=display\">\\newcommand{\\Bold}[1]{\\mathbf{#1}}\\varepsilon_3 = \\left( x z + y \\right) \\frac{\\partial}{\\partial x } + \\left( y z - x \\right) \\frac{\\partial}{\\partial y } + \\left( -\\frac{1}{2} \\, x^{2} - \\frac{1}{2} \\, y^{2} + \\frac{1}{2} \\, z^{2} + \\frac{1}{2} \\right) \\frac{\\partial}{\\partial z }</script></html>"
      ],
      "text/plain": [
       "E_3 = (x*z + y) d/dx + (y*z - x) d/dy + (-1/2*x^2 - 1/2*y^2 + 1/2*z^2 + 1/2) d/dz"
      ]
     },
     "metadata": {},
     "output_type": "display_data"
    },
    {
     "name": "stdout",
     "output_type": "stream",
     "text": [
      " \n"
     ]
    },
    {
     "data": {
      "text/html": [
       "<html><script type=\"math/tex; mode=display\">\\newcommand{\\Bold}[1]{\\mathbf{#1}}\\varepsilon_1 = \\left( -\\frac{1}{2} \\, {x'}^{2} + \\frac{1}{2} \\, {y'}^{2} + \\frac{1}{2} \\, {z'}^{2} - \\frac{1}{2} \\right) \\frac{\\partial}{\\partial {x'} } + \\left( -{x'} {y'} + {z'} \\right) \\frac{\\partial}{\\partial {y'} } + \\left( -{x'} {z'} - {y'} \\right) \\frac{\\partial}{\\partial {z'} }</script></html>"
      ],
      "text/plain": [
       "E_1 = (-1/2*xp^2 + 1/2*yp^2 + 1/2*zp^2 - 1/2) d/dxp + (-xp*yp + zp) d/dyp + (-xp*zp - yp) d/dzp"
      ]
     },
     "metadata": {},
     "output_type": "display_data"
    },
    {
     "data": {
      "text/html": [
       "<html><script type=\"math/tex; mode=display\">\\newcommand{\\Bold}[1]{\\mathbf{#1}}\\varepsilon_2 = \\left( -{x'} {y'} - {z'} \\right) \\frac{\\partial}{\\partial {x'} } + \\left( \\frac{1}{2} \\, {x'}^{2} - \\frac{1}{2} \\, {y'}^{2} + \\frac{1}{2} \\, {z'}^{2} - \\frac{1}{2} \\right) \\frac{\\partial}{\\partial {y'} } + \\left( -{y'} {z'} + {x'} \\right) \\frac{\\partial}{\\partial {z'} }</script></html>"
      ],
      "text/plain": [
       "E_2 = (-xp*yp - zp) d/dxp + (1/2*xp^2 - 1/2*yp^2 + 1/2*zp^2 - 1/2) d/dyp + (-yp*zp + xp) d/dzp"
      ]
     },
     "metadata": {},
     "output_type": "display_data"
    },
    {
     "data": {
      "text/html": [
       "<html><script type=\"math/tex; mode=display\">\\newcommand{\\Bold}[1]{\\mathbf{#1}}\\varepsilon_3 = \\left( -{x'} {z'} + {y'} \\right) \\frac{\\partial}{\\partial {x'} } + \\left( -{y'} {z'} - {x'} \\right) \\frac{\\partial}{\\partial {y'} } + \\left( \\frac{1}{2} \\, {x'}^{2} + \\frac{1}{2} \\, {y'}^{2} - \\frac{1}{2} \\, {z'}^{2} - \\frac{1}{2} \\right) \\frac{\\partial}{\\partial {z'} }</script></html>"
      ],
      "text/plain": [
       "E_3 = (-xp*zp + yp) d/dxp + (-yp*zp - xp) d/dyp + (1/2*xp^2 + 1/2*yp^2 - 1/2*zp^2 - 1/2) d/dzp"
      ]
     },
     "metadata": {},
     "output_type": "display_data"
    }
   ],
   "source": [
    "for i in S3.irange():\n",
    "    show(E[i].display(stereoN.frame()))\n",
    "print(\" \")\n",
    "for i in S3.irange():\n",
    "    show(E[i].display(stereoS.frame()))"
   ]
  },
  {
   "cell_type": "markdown",
   "metadata": {},
   "source": [
    "To complete the connection between the global frame $(\\varepsilon_i)$ and the stereographic frames in $U$ and $V$, we shall declare the change-of-basis formulas related the two frames, so that they can be used automatically by SageMath when necessary. Starting with $U$, we first consider the restriction of the global frame to $U$:"
   ]
  },
  {
   "cell_type": "code",
   "execution_count": 128,
   "metadata": {
    "collapsed": false
   },
   "outputs": [
    {
     "data": {
      "text/html": [
       "<html><script type=\"math/tex; mode=display\">\\newcommand{\\Bold}[1]{\\mathbf{#1}}\\left(U, \\left(\\varepsilon_1,\\varepsilon_2,\\varepsilon_3\\right)\\right)</script></html>"
      ],
      "text/plain": [
       "Vector frame (U, (E_1,E_2,E_3))"
      ]
     },
     "execution_count": 128,
     "metadata": {},
     "output_type": "execute_result"
    }
   ],
   "source": [
    "E_U = E.restrict(U); E_U"
   ]
  },
  {
   "cell_type": "markdown",
   "metadata": {},
   "source": [
    "The automorphism $P$ such that on $U$, $\\varepsilon_i = P\\left(\\frac{\\partial}{\\partial x^i}\\right)$ is read directely on the components of $\\varepsilon_i$ with respect to the\n",
    "frame $\\left(\\frac{\\partial}{\\partial x^i}\\right) = \\left(\\frac{\\partial}{\\partial x}, \\frac{\\partial}{\\partial y}, \\frac{\\partial}{\\partial z} \\right)$:"
   ]
  },
  {
   "cell_type": "code",
   "execution_count": 129,
   "metadata": {
    "collapsed": false
   },
   "outputs": [
    {
     "data": {
      "text/html": [
       "<html><script type=\"math/tex; mode=display\">\\newcommand{\\Bold}[1]{\\mathbf{#1}}\\left(\\begin{array}{rrr}\n",
       "\\frac{1}{2} \\, x^{2} - \\frac{1}{2} \\, y^{2} - \\frac{1}{2} \\, z^{2} + \\frac{1}{2} & x y - z & x z + y \\\\\n",
       "x y + z & -\\frac{1}{2} \\, x^{2} + \\frac{1}{2} \\, y^{2} - \\frac{1}{2} \\, z^{2} + \\frac{1}{2} & y z - x \\\\\n",
       "x z - y & y z + x & -\\frac{1}{2} \\, x^{2} - \\frac{1}{2} \\, y^{2} + \\frac{1}{2} \\, z^{2} + \\frac{1}{2}\n",
       "\\end{array}\\right)</script></html>"
      ],
      "text/plain": [
       "[ 1/2*x^2 - 1/2*y^2 - 1/2*z^2 + 1/2                            x*y - z                            x*z + y]\n",
       "[                           x*y + z -1/2*x^2 + 1/2*y^2 - 1/2*z^2 + 1/2                            y*z - x]\n",
       "[                           x*z - y                            y*z + x -1/2*x^2 - 1/2*y^2 + 1/2*z^2 + 1/2]"
      ]
     },
     "execution_count": 129,
     "metadata": {},
     "output_type": "execute_result"
    }
   ],
   "source": [
    "P = U.automorphism_field()\n",
    "for i in S3.irange():\n",
    "    for j in S3.irange():\n",
    "        P[j,i] = E_U[i][j]\n",
    "P[:]"
   ]
  },
  {
   "cell_type": "markdown",
   "metadata": {},
   "source": [
    "Check of the formula $\\varepsilon_i = P\\left(\\frac{\\partial}{\\partial x^i}\\right)$:"
   ]
  },
  {
   "cell_type": "code",
   "execution_count": 130,
   "metadata": {
    "collapsed": false
   },
   "outputs": [
    {
     "data": {
      "text/html": [
       "<html><script type=\"math/tex; mode=display\">\\newcommand{\\Bold}[1]{\\mathbf{#1}}\\mathrm{True}</script></html>"
      ],
      "text/plain": [
       "True"
      ]
     },
     "execution_count": 130,
     "metadata": {},
     "output_type": "execute_result"
    }
   ],
   "source": [
    "all([E_U[i] == P(frameN[i]) for i in S3.irange()])"
   ]
  },
  {
   "cell_type": "markdown",
   "metadata": {},
   "source": [
    "We declare the change of frame by the method `set_change_of_frame`:"
   ]
  },
  {
   "cell_type": "code",
   "execution_count": 131,
   "metadata": {
    "collapsed": true
   },
   "outputs": [],
   "source": [
    "U.set_change_of_frame(frameN, E_U, P)"
   ]
  },
  {
   "cell_type": "markdown",
   "metadata": {},
   "source": [
    "The inverse is automatically computed:"
   ]
  },
  {
   "cell_type": "code",
   "execution_count": 132,
   "metadata": {
    "collapsed": false,
    "scrolled": true
   },
   "outputs": [
    {
     "data": {
      "text/html": [
       "<html><script type=\"math/tex; mode=display\">\\newcommand{\\Bold}[1]{\\mathbf{#1}}\\left(\\begin{array}{rrr}\n",
       "\\frac{2 \\, {\\left(x^{2} - y^{2} - z^{2} + 1\\right)}}{x^{4} + y^{4} + z^{4} + 2 \\, {\\left(x^{2} + 1\\right)} y^{2} + 2 \\, {\\left(x^{2} + y^{2} + 1\\right)} z^{2} + 2 \\, x^{2} + 1} & \\frac{4 \\, {\\left(x y + z\\right)}}{x^{4} + y^{4} + z^{4} + 2 \\, {\\left(x^{2} + 1\\right)} y^{2} + 2 \\, {\\left(x^{2} + y^{2} + 1\\right)} z^{2} + 2 \\, x^{2} + 1} & \\frac{4 \\, {\\left(x z - y\\right)}}{x^{4} + y^{4} + z^{4} + 2 \\, {\\left(x^{2} + 1\\right)} y^{2} + 2 \\, {\\left(x^{2} + y^{2} + 1\\right)} z^{2} + 2 \\, x^{2} + 1} \\\\\n",
       "\\frac{4 \\, {\\left(x y - z\\right)}}{x^{4} + y^{4} + z^{4} + 2 \\, {\\left(x^{2} + 1\\right)} y^{2} + 2 \\, {\\left(x^{2} + y^{2} + 1\\right)} z^{2} + 2 \\, x^{2} + 1} & -\\frac{2 \\, {\\left(x^{2} - y^{2} + z^{2} - 1\\right)}}{x^{4} + y^{4} + z^{4} + 2 \\, {\\left(x^{2} + 1\\right)} y^{2} + 2 \\, {\\left(x^{2} + y^{2} + 1\\right)} z^{2} + 2 \\, x^{2} + 1} & \\frac{4 \\, {\\left(y z + x\\right)}}{x^{4} + y^{4} + z^{4} + 2 \\, {\\left(x^{2} + 1\\right)} y^{2} + 2 \\, {\\left(x^{2} + y^{2} + 1\\right)} z^{2} + 2 \\, x^{2} + 1} \\\\\n",
       "\\frac{4 \\, {\\left(x z + y\\right)}}{x^{4} + y^{4} + z^{4} + 2 \\, {\\left(x^{2} + 1\\right)} y^{2} + 2 \\, {\\left(x^{2} + y^{2} + 1\\right)} z^{2} + 2 \\, x^{2} + 1} & \\frac{4 \\, {\\left(y z - x\\right)}}{x^{4} + y^{4} + z^{4} + 2 \\, {\\left(x^{2} + 1\\right)} y^{2} + 2 \\, {\\left(x^{2} + y^{2} + 1\\right)} z^{2} + 2 \\, x^{2} + 1} & -\\frac{2 \\, {\\left(x^{2} + y^{2} - z^{2} - 1\\right)}}{x^{4} + y^{4} + z^{4} + 2 \\, {\\left(x^{2} + 1\\right)} y^{2} + 2 \\, {\\left(x^{2} + y^{2} + 1\\right)} z^{2} + 2 \\, x^{2} + 1}\n",
       "\\end{array}\\right)</script></html>"
      ],
      "text/plain": [
       "[ 2*(x^2 - y^2 - z^2 + 1)/(x^4 + y^4 + z^4 + 2*(x^2 + 1)*y^2 + 2*(x^2 + y^2 + 1)*z^2 + 2*x^2 + 1)              4*(x*y + z)/(x^4 + y^4 + z^4 + 2*(x^2 + 1)*y^2 + 2*(x^2 + y^2 + 1)*z^2 + 2*x^2 + 1)              4*(x*z - y)/(x^4 + y^4 + z^4 + 2*(x^2 + 1)*y^2 + 2*(x^2 + y^2 + 1)*z^2 + 2*x^2 + 1)]\n",
       "[             4*(x*y - z)/(x^4 + y^4 + z^4 + 2*(x^2 + 1)*y^2 + 2*(x^2 + y^2 + 1)*z^2 + 2*x^2 + 1) -2*(x^2 - y^2 + z^2 - 1)/(x^4 + y^4 + z^4 + 2*(x^2 + 1)*y^2 + 2*(x^2 + y^2 + 1)*z^2 + 2*x^2 + 1)              4*(y*z + x)/(x^4 + y^4 + z^4 + 2*(x^2 + 1)*y^2 + 2*(x^2 + y^2 + 1)*z^2 + 2*x^2 + 1)]\n",
       "[             4*(x*z + y)/(x^4 + y^4 + z^4 + 2*(x^2 + 1)*y^2 + 2*(x^2 + y^2 + 1)*z^2 + 2*x^2 + 1)              4*(y*z - x)/(x^4 + y^4 + z^4 + 2*(x^2 + 1)*y^2 + 2*(x^2 + y^2 + 1)*z^2 + 2*x^2 + 1) -2*(x^2 + y^2 - z^2 - 1)/(x^4 + y^4 + z^4 + 2*(x^2 + 1)*y^2 + 2*(x^2 + y^2 + 1)*z^2 + 2*x^2 + 1)]"
      ]
     },
     "execution_count": 132,
     "metadata": {},
     "output_type": "execute_result"
    }
   ],
   "source": [
    "U.change_of_frame(E_U, frameN)[:]"
   ]
  },
  {
   "cell_type": "markdown",
   "metadata": {},
   "source": [
    "We do the same thing on $V$:"
   ]
  },
  {
   "cell_type": "code",
   "execution_count": 133,
   "metadata": {
    "collapsed": false
   },
   "outputs": [
    {
     "data": {
      "text/html": [
       "<html><script type=\"math/tex; mode=display\">\\newcommand{\\Bold}[1]{\\mathbf{#1}}\\left(V, \\left(\\varepsilon_1,\\varepsilon_2,\\varepsilon_3\\right)\\right)</script></html>"
      ],
      "text/plain": [
       "Vector frame (V, (E_1,E_2,E_3))"
      ]
     },
     "execution_count": 133,
     "metadata": {},
     "output_type": "execute_result"
    }
   ],
   "source": [
    "E_V = E.restrict(V); E_V"
   ]
  },
  {
   "cell_type": "code",
   "execution_count": 134,
   "metadata": {
    "collapsed": false
   },
   "outputs": [
    {
     "data": {
      "text/html": [
       "<html><script type=\"math/tex; mode=display\">\\newcommand{\\Bold}[1]{\\mathbf{#1}}\\left(\\begin{array}{rrr}\n",
       "-\\frac{1}{2} \\, {x'}^{2} + \\frac{1}{2} \\, {y'}^{2} + \\frac{1}{2} \\, {z'}^{2} - \\frac{1}{2} & -{x'} {y'} - {z'} & -{x'} {z'} + {y'} \\\\\n",
       "-{x'} {y'} + {z'} & \\frac{1}{2} \\, {x'}^{2} - \\frac{1}{2} \\, {y'}^{2} + \\frac{1}{2} \\, {z'}^{2} - \\frac{1}{2} & -{y'} {z'} - {x'} \\\\\n",
       "-{x'} {z'} - {y'} & -{y'} {z'} + {x'} & \\frac{1}{2} \\, {x'}^{2} + \\frac{1}{2} \\, {y'}^{2} - \\frac{1}{2} \\, {z'}^{2} - \\frac{1}{2}\n",
       "\\end{array}\\right)</script></html>"
      ],
      "text/plain": [
       "[-1/2*xp^2 + 1/2*yp^2 + 1/2*zp^2 - 1/2                           -xp*yp - zp                           -xp*zp + yp]\n",
       "[                          -xp*yp + zp  1/2*xp^2 - 1/2*yp^2 + 1/2*zp^2 - 1/2                           -yp*zp - xp]\n",
       "[                          -xp*zp - yp                           -yp*zp + xp  1/2*xp^2 + 1/2*yp^2 - 1/2*zp^2 - 1/2]"
      ]
     },
     "execution_count": 134,
     "metadata": {},
     "output_type": "execute_result"
    }
   ],
   "source": [
    "P = V.automorphism_field()\n",
    "for i in S3.irange():\n",
    "    for j in S3.irange():\n",
    "        P[j,i] = E_V[i][j]\n",
    "P[:]"
   ]
  },
  {
   "cell_type": "code",
   "execution_count": 135,
   "metadata": {
    "collapsed": false
   },
   "outputs": [
    {
     "data": {
      "text/html": [
       "<html><script type=\"math/tex; mode=display\">\\newcommand{\\Bold}[1]{\\mathbf{#1}}\\mathrm{True}</script></html>"
      ],
      "text/plain": [
       "True"
      ]
     },
     "execution_count": 135,
     "metadata": {},
     "output_type": "execute_result"
    }
   ],
   "source": [
    "all([E_V[i] == P(frameS[i]) for i in S3.irange()])"
   ]
  },
  {
   "cell_type": "code",
   "execution_count": 136,
   "metadata": {
    "collapsed": true
   },
   "outputs": [],
   "source": [
    "V.set_change_of_frame(frameS, E_V, P)"
   ]
  },
  {
   "cell_type": "code",
   "execution_count": 137,
   "metadata": {
    "collapsed": false
   },
   "outputs": [
    {
     "data": {
      "text/html": [
       "<html><script type=\"math/tex; mode=display\">\\newcommand{\\Bold}[1]{\\mathbf{#1}}\\left(\\begin{array}{rrr}\n",
       "-\\frac{2 \\, {\\left({x'}^{2} - {y'}^{2} - {z'}^{2} + 1\\right)}}{{x'}^{4} + {y'}^{4} + {z'}^{4} + 2 \\, {\\left({x'}^{2} + 1\\right)} {y'}^{2} + 2 \\, {\\left({x'}^{2} + {y'}^{2} + 1\\right)} {z'}^{2} + 2 \\, {x'}^{2} + 1} & -\\frac{4 \\, {\\left({x'} {y'} - {z'}\\right)}}{{x'}^{4} + {y'}^{4} + {z'}^{4} + 2 \\, {\\left({x'}^{2} + 1\\right)} {y'}^{2} + 2 \\, {\\left({x'}^{2} + {y'}^{2} + 1\\right)} {z'}^{2} + 2 \\, {x'}^{2} + 1} & -\\frac{4 \\, {\\left({x'} {z'} + {y'}\\right)}}{{x'}^{4} + {y'}^{4} + {z'}^{4} + 2 \\, {\\left({x'}^{2} + 1\\right)} {y'}^{2} + 2 \\, {\\left({x'}^{2} + {y'}^{2} + 1\\right)} {z'}^{2} + 2 \\, {x'}^{2} + 1} \\\\\n",
       "-\\frac{4 \\, {\\left({x'} {y'} + {z'}\\right)}}{{x'}^{4} + {y'}^{4} + {z'}^{4} + 2 \\, {\\left({x'}^{2} + 1\\right)} {y'}^{2} + 2 \\, {\\left({x'}^{2} + {y'}^{2} + 1\\right)} {z'}^{2} + 2 \\, {x'}^{2} + 1} & \\frac{2 \\, {\\left({x'}^{2} - {y'}^{2} + {z'}^{2} - 1\\right)}}{{x'}^{4} + {y'}^{4} + {z'}^{4} + 2 \\, {\\left({x'}^{2} + 1\\right)} {y'}^{2} + 2 \\, {\\left({x'}^{2} + {y'}^{2} + 1\\right)} {z'}^{2} + 2 \\, {x'}^{2} + 1} & -\\frac{4 \\, {\\left({y'} {z'} - {x'}\\right)}}{{x'}^{4} + {y'}^{4} + {z'}^{4} + 2 \\, {\\left({x'}^{2} + 1\\right)} {y'}^{2} + 2 \\, {\\left({x'}^{2} + {y'}^{2} + 1\\right)} {z'}^{2} + 2 \\, {x'}^{2} + 1} \\\\\n",
       "-\\frac{4 \\, {\\left({x'} {z'} - {y'}\\right)}}{{x'}^{4} + {y'}^{4} + {z'}^{4} + 2 \\, {\\left({x'}^{2} + 1\\right)} {y'}^{2} + 2 \\, {\\left({x'}^{2} + {y'}^{2} + 1\\right)} {z'}^{2} + 2 \\, {x'}^{2} + 1} & -\\frac{4 \\, {\\left({y'} {z'} + {x'}\\right)}}{{x'}^{4} + {y'}^{4} + {z'}^{4} + 2 \\, {\\left({x'}^{2} + 1\\right)} {y'}^{2} + 2 \\, {\\left({x'}^{2} + {y'}^{2} + 1\\right)} {z'}^{2} + 2 \\, {x'}^{2} + 1} & \\frac{2 \\, {\\left({x'}^{2} + {y'}^{2} - {z'}^{2} - 1\\right)}}{{x'}^{4} + {y'}^{4} + {z'}^{4} + 2 \\, {\\left({x'}^{2} + 1\\right)} {y'}^{2} + 2 \\, {\\left({x'}^{2} + {y'}^{2} + 1\\right)} {z'}^{2} + 2 \\, {x'}^{2} + 1}\n",
       "\\end{array}\\right)</script></html>"
      ],
      "text/plain": [
       "[-2*(xp^2 - yp^2 - zp^2 + 1)/(xp^4 + yp^4 + zp^4 + 2*(xp^2 + 1)*yp^2 + 2*(xp^2 + yp^2 + 1)*zp^2 + 2*xp^2 + 1)             -4*(xp*yp - zp)/(xp^4 + yp^4 + zp^4 + 2*(xp^2 + 1)*yp^2 + 2*(xp^2 + yp^2 + 1)*zp^2 + 2*xp^2 + 1)             -4*(xp*zp + yp)/(xp^4 + yp^4 + zp^4 + 2*(xp^2 + 1)*yp^2 + 2*(xp^2 + yp^2 + 1)*zp^2 + 2*xp^2 + 1)]\n",
       "[            -4*(xp*yp + zp)/(xp^4 + yp^4 + zp^4 + 2*(xp^2 + 1)*yp^2 + 2*(xp^2 + yp^2 + 1)*zp^2 + 2*xp^2 + 1)  2*(xp^2 - yp^2 + zp^2 - 1)/(xp^4 + yp^4 + zp^4 + 2*(xp^2 + 1)*yp^2 + 2*(xp^2 + yp^2 + 1)*zp^2 + 2*xp^2 + 1)             -4*(yp*zp - xp)/(xp^4 + yp^4 + zp^4 + 2*(xp^2 + 1)*yp^2 + 2*(xp^2 + yp^2 + 1)*zp^2 + 2*xp^2 + 1)]\n",
       "[            -4*(xp*zp - yp)/(xp^4 + yp^4 + zp^4 + 2*(xp^2 + 1)*yp^2 + 2*(xp^2 + yp^2 + 1)*zp^2 + 2*xp^2 + 1)             -4*(yp*zp + xp)/(xp^4 + yp^4 + zp^4 + 2*(xp^2 + 1)*yp^2 + 2*(xp^2 + yp^2 + 1)*zp^2 + 2*xp^2 + 1)  2*(xp^2 + yp^2 - zp^2 - 1)/(xp^4 + yp^4 + zp^4 + 2*(xp^2 + 1)*yp^2 + 2*(xp^2 + yp^2 + 1)*zp^2 + 2*xp^2 + 1)]"
      ]
     },
     "execution_count": 137,
     "metadata": {},
     "output_type": "execute_result"
    }
   ],
   "source": [
    "V.change_of_frame(E_V, frameS)[:]"
   ]
  },
  {
   "cell_type": "markdown",
   "metadata": {},
   "source": [
    "### $\\mathbb{S}^3$ as a parallelizable manifold\n",
    "\n",
    "Because it admits a global vector frame, $\\mathbb{S}^3$ is a parallelizable manifold:"
   ]
  },
  {
   "cell_type": "code",
   "execution_count": 138,
   "metadata": {
    "collapsed": false
   },
   "outputs": [
    {
     "data": {
      "text/html": [
       "<html><script type=\"math/tex; mode=display\">\\newcommand{\\Bold}[1]{\\mathbf{#1}}\\mathrm{True}</script></html>"
      ],
      "text/plain": [
       "True"
      ]
     },
     "execution_count": 138,
     "metadata": {},
     "output_type": "execute_result"
    }
   ],
   "source": [
    "S3.is_manifestly_parallelizable()"
   ]
  },
  {
   "cell_type": "markdown",
   "metadata": {},
   "source": [
    "Equivalently, the set $\\chi(\\mathbb{S}^3)$ of vector fields on $\\mathbb{S}^3$ is a **free module of finite rank** over the algebra $C^\\infty(\\mathbb{S}^3)$ (the algebra of smooth scalar fields on $\\mathbb{S}^3$:"
   ]
  },
  {
   "cell_type": "code",
   "execution_count": 139,
   "metadata": {
    "collapsed": false
   },
   "outputs": [
    {
     "data": {
      "text/html": [
       "<html><script type=\"math/tex; mode=display\">\\newcommand{\\Bold}[1]{\\mathbf{#1}}\\mathcal{X}\\left(\\mathbb{S}^3\\right)</script></html>"
      ],
      "text/plain": [
       "Free module X(S^3) of vector fields on the 3-dimensional differentiable manifold S^3"
      ]
     },
     "execution_count": 139,
     "metadata": {},
     "output_type": "execute_result"
    }
   ],
   "source": [
    "XS3 = S3.vector_field_module()\n",
    "XS3"
   ]
  },
  {
   "cell_type": "code",
   "execution_count": 140,
   "metadata": {
    "collapsed": false
   },
   "outputs": [
    {
     "data": {
      "text/html": [
       "<html><script type=\"math/tex; mode=display\">\\newcommand{\\Bold}[1]{\\mathbf{#1}}\\mathrm{True}</script></html>"
      ],
      "text/plain": [
       "True"
      ]
     },
     "execution_count": 140,
     "metadata": {},
     "output_type": "execute_result"
    }
   ],
   "source": [
    "isinstance(XS3, FiniteRankFreeModule)"
   ]
  },
  {
   "cell_type": "code",
   "execution_count": 141,
   "metadata": {
    "collapsed": false
   },
   "outputs": [
    {
     "name": "stdout",
     "output_type": "stream",
     "text": [
      "Category of finite dimensional modules over Algebra of differentiable scalar fields on the 3-dimensional differentiable manifold S^3\n"
     ]
    }
   ],
   "source": [
    "print(XS3.category())"
   ]
  },
  {
   "cell_type": "markdown",
   "metadata": {},
   "source": [
    "As a free module, $\\chi(\\mathbb{S}^3)$ admits a basis, which is nothing but the global vector frame constructed above:"
   ]
  },
  {
   "cell_type": "code",
   "execution_count": 142,
   "metadata": {
    "collapsed": false
   },
   "outputs": [
    {
     "data": {
      "text/html": [
       "<html><script type=\"math/tex; mode=display\">\\newcommand{\\Bold}[1]{\\mathbf{#1}}\\left(\\mathbb{S}^3, \\left(\\varepsilon_1,\\varepsilon_2,\\varepsilon_3\\right)\\right)</script></html>"
      ],
      "text/plain": [
       "Vector frame (S^3, (E_1,E_2,E_3))"
      ]
     },
     "execution_count": 142,
     "metadata": {},
     "output_type": "execute_result"
    }
   ],
   "source": [
    "XS3.default_basis()"
   ]
  },
  {
   "cell_type": "markdown",
   "metadata": {},
   "source": [
    "## Structure coefficients of the global frame\n",
    "\n",
    "On $U$, we may compute the **Lie brackets** $[\\varepsilon_i, \\varepsilon_j]$ of two vectors of the global frame:"
   ]
  },
  {
   "cell_type": "code",
   "execution_count": 143,
   "metadata": {
    "collapsed": false
   },
   "outputs": [
    {
     "data": {
      "text/html": [
       "<html><script type=\"math/tex; mode=display\">\\newcommand{\\Bold}[1]{\\mathbf{#1}}2 \\varepsilon_3</script></html>"
      ],
      "text/plain": [
       "2 E_3"
      ]
     },
     "execution_count": 143,
     "metadata": {},
     "output_type": "execute_result"
    }
   ],
   "source": [
    "E_U[1].bracket(E_U[2]).display(E_U)"
   ]
  },
  {
   "cell_type": "code",
   "execution_count": 144,
   "metadata": {
    "collapsed": false
   },
   "outputs": [
    {
     "data": {
      "text/html": [
       "<html><script type=\"math/tex; mode=display\">\\newcommand{\\Bold}[1]{\\mathbf{#1}}-2 \\varepsilon_2</script></html>"
      ],
      "text/plain": [
       "-2 E_2"
      ]
     },
     "execution_count": 144,
     "metadata": {},
     "output_type": "execute_result"
    }
   ],
   "source": [
    "E_U[1].bracket(E_U[3]).display(E_U)"
   ]
  },
  {
   "cell_type": "code",
   "execution_count": 145,
   "metadata": {
    "collapsed": false
   },
   "outputs": [
    {
     "data": {
      "text/html": [
       "<html><script type=\"math/tex; mode=display\">\\newcommand{\\Bold}[1]{\\mathbf{#1}}2 \\varepsilon_1</script></html>"
      ],
      "text/plain": [
       "2 E_1"
      ]
     },
     "execution_count": 145,
     "metadata": {},
     "output_type": "execute_result"
    }
   ],
   "source": [
    "E_U[2].bracket(E_U[3]).display(E_U)"
   ]
  },
  {
   "cell_type": "markdown",
   "metadata": {},
   "source": [
    "Equivalently, the structure coefficients of the frame $\\varepsilon$ are"
   ]
  },
  {
   "cell_type": "code",
   "execution_count": 146,
   "metadata": {
    "collapsed": false
   },
   "outputs": [
    {
     "data": {
      "text/html": [
       "<html><script type=\"math/tex; mode=display\">\\newcommand{\\Bold}[1]{\\mathbf{#1}}\\verb|3-indices|\\phantom{\\verb!x!}\\verb|components|\\phantom{\\verb!x!}\\verb|w.r.t.|\\phantom{\\verb!x!}\\verb|Vector|\\phantom{\\verb!x!}\\verb|frame|\\phantom{\\verb!x!}\\verb|(U,|\\phantom{\\verb!x!}\\verb|(E_1,E_2,E_3)),|\\phantom{\\verb!x!}\\verb|with|\\phantom{\\verb!x!}\\verb|antisymmetry|\\phantom{\\verb!x!}\\verb|on|\\phantom{\\verb!x!}\\verb|the|\\phantom{\\verb!x!}\\verb|index|\\phantom{\\verb!x!}\\verb|positions|\\phantom{\\verb!x!}\\verb|(1,|\\phantom{\\verb!x!}\\verb|2)|</script></html>"
      ],
      "text/plain": [
       "3-indices components w.r.t. Vector frame (U, (E_1,E_2,E_3)), with antisymmetry on the index positions (1, 2)"
      ]
     },
     "execution_count": 146,
     "metadata": {},
     "output_type": "execute_result"
    }
   ],
   "source": [
    "C = E_U.structure_coeff(); C"
   ]
  },
  {
   "cell_type": "code",
   "execution_count": 147,
   "metadata": {
    "collapsed": false
   },
   "outputs": [
    {
     "data": {
      "text/html": [
       "<html><script type=\"math/tex; mode=display\">\\newcommand{\\Bold}[1]{\\mathbf{#1}}\\begin{array}{lcl} C_{\\,1\\,2\\,3}^{\\phantom{\\, 1}\\phantom{\\, 2}\\phantom{\\, 3}} & = & 2 \\\\ C_{\\,1\\,3\\,2}^{\\phantom{\\, 1}\\phantom{\\, 3}\\phantom{\\, 2}} & = & -2 \\\\ C_{\\,2\\,1\\,3}^{\\phantom{\\, 2}\\phantom{\\, 1}\\phantom{\\, 3}} & = & -2 \\\\ C_{\\,2\\,3\\,1}^{\\phantom{\\, 2}\\phantom{\\, 3}\\phantom{\\, 1}} & = & 2 \\\\ C_{\\,3\\,1\\,2}^{\\phantom{\\, 3}\\phantom{\\, 1}\\phantom{\\, 2}} & = & 2 \\\\ C_{\\,3\\,2\\,1}^{\\phantom{\\, 3}\\phantom{\\, 2}\\phantom{\\, 1}} & = & -2 \\end{array}</script></html>"
      ],
      "text/plain": [
       "C_123 = 2 \n",
       "C_132 = -2 \n",
       "C_213 = -2 \n",
       "C_231 = 2 \n",
       "C_312 = 2 \n",
       "C_321 = -2 "
      ]
     },
     "execution_count": 147,
     "metadata": {},
     "output_type": "execute_result"
    }
   ],
   "source": [
    "C.display('C')"
   ]
  },
  {
   "cell_type": "markdown",
   "metadata": {},
   "source": [
    "By definition, the structure coefficients $C_{kij}$ obey the relation\n",
    "$[\\varepsilon_i, \\varepsilon_j] = C_{kij} \\, \\varepsilon_k$, as we can check:"
   ]
  },
  {
   "cell_type": "code",
   "execution_count": 148,
   "metadata": {
    "collapsed": false
   },
   "outputs": [
    {
     "data": {
      "text/html": [
       "<html><script type=\"math/tex; mode=display\">\\newcommand{\\Bold}[1]{\\mathbf{#1}}\\mathrm{True}</script></html>"
      ],
      "text/plain": [
       "True"
      ]
     },
     "execution_count": 148,
     "metadata": {},
     "output_type": "execute_result"
    }
   ],
   "source": [
    "E_U[1].bracket(E_U[2]) == sum(C[[k,1,2]]*E_U[k] for k in S3.irange())"
   ]
  },
  {
   "cell_type": "markdown",
   "metadata": {},
   "source": [
    "## Tangent space at the unit element\n",
    "\n",
    "The Lie algebra of $\\mathbb{S}^3$ can be identified with the tangent space at the unit element $\\mathbf{1}$:"
   ]
  },
  {
   "cell_type": "code",
   "execution_count": 149,
   "metadata": {
    "collapsed": false
   },
   "outputs": [
    {
     "data": {
      "text/html": [
       "<html><script type=\"math/tex; mode=display\">\\newcommand{\\Bold}[1]{\\mathbf{#1}}T_{\\mathbf{1}}\\,\\mathbb{S}^3</script></html>"
      ],
      "text/plain": [
       "Tangent space at Point 1 on the 3-dimensional differentiable manifold S^3"
      ]
     },
     "execution_count": 149,
     "metadata": {},
     "output_type": "execute_result"
    }
   ],
   "source": [
    "T1 = S3.tangent_space(One)\n",
    "T1"
   ]
  },
  {
   "cell_type": "markdown",
   "metadata": {},
   "source": [
    "The values taken by the global frame vectors at $\\mathbf{1}$ are"
   ]
  },
  {
   "cell_type": "code",
   "execution_count": 151,
   "metadata": {
    "collapsed": false
   },
   "outputs": [
    {
     "data": {
      "text/html": [
       "<html><script type=\"math/tex; mode=display\">\\newcommand{\\Bold}[1]{\\mathbf{#1}}\\varepsilon_1 = \\frac{1}{2} \\frac{\\partial}{\\partial x }</script></html>"
      ],
      "text/plain": [
       "E_1 = 1/2 d/dx"
      ]
     },
     "metadata": {},
     "output_type": "display_data"
    },
    {
     "data": {
      "text/html": [
       "<html><script type=\"math/tex; mode=display\">\\newcommand{\\Bold}[1]{\\mathbf{#1}}\\varepsilon_2 = \\frac{1}{2} \\frac{\\partial}{\\partial y }</script></html>"
      ],
      "text/plain": [
       "E_2 = 1/2 d/dy"
      ]
     },
     "metadata": {},
     "output_type": "display_data"
    },
    {
     "data": {
      "text/html": [
       "<html><script type=\"math/tex; mode=display\">\\newcommand{\\Bold}[1]{\\mathbf{#1}}\\varepsilon_3 = \\frac{1}{2} \\frac{\\partial}{\\partial z }</script></html>"
      ],
      "text/plain": [
       "E_3 = 1/2 d/dz"
      ]
     },
     "metadata": {},
     "output_type": "display_data"
    }
   ],
   "source": [
    "for i in S3.irange():\n",
    "    show(E[i].at(One).display())"
   ]
  },
  {
   "cell_type": "markdown",
   "metadata": {},
   "source": [
    "Each of these vectors belongs to $T_{\\mathbf{1}}\\mathbb{S}^3$:"
   ]
  },
  {
   "cell_type": "code",
   "execution_count": 152,
   "metadata": {
    "collapsed": false
   },
   "outputs": [
    {
     "data": {
      "text/html": [
       "<html><script type=\"math/tex; mode=display\">\\newcommand{\\Bold}[1]{\\mathbf{#1}}T_{\\mathbf{1}}\\,\\mathbb{S}^3</script></html>"
      ],
      "text/plain": [
       "Tangent space at Point 1 on the 3-dimensional differentiable manifold S^3"
      ]
     },
     "execution_count": 152,
     "metadata": {},
     "output_type": "execute_result"
    }
   ],
   "source": [
    "E[1].at(One).parent()"
   ]
  },
  {
   "cell_type": "code",
   "execution_count": 153,
   "metadata": {
    "collapsed": false
   },
   "outputs": [
    {
     "data": {
      "text/html": [
       "<html><script type=\"math/tex; mode=display\">\\newcommand{\\Bold}[1]{\\mathbf{#1}}\\mathrm{True}</script></html>"
      ],
      "text/plain": [
       "True"
      ]
     },
     "execution_count": 153,
     "metadata": {},
     "output_type": "execute_result"
    }
   ],
   "source": [
    "all([E[i].at(One).parent() is T1 for i in S3.irange()])"
   ]
  },
  {
   "cell_type": "markdown",
   "metadata": {},
   "source": [
    "The simple expressions of $(\\varepsilon_1, \\varepsilon_2, \\varepsilon_3)$ in terms of the basis $\\left(\\frac{\\partial}{\\partial x}, \\frac{\\partial}{\\partial y}, \\frac{\\partial}{\\partial z}\\right)$ of $T_{\\mathbf{1}}\\mathbb{S}^3$ induced by the stereographic coordinates stems from the fact that\n",
    "the $\\mathbb{R}^4$ vectors $(E_{\\mathbf{i}}, E_{\\mathbf{j}}, E_{\\mathbf{k}})$ coincide with \n",
    "the vectors $\\left(\\frac{\\partial}{\\partial X}, \\frac{\\partial}{\\partial Y}, \\frac{\\partial}{\\partial Z}\\right)$ at $\\Phi(\\mathbf{1})$:"
   ]
  },
  {
   "cell_type": "code",
   "execution_count": 154,
   "metadata": {
    "collapsed": false
   },
   "outputs": [
    {
     "data": {
      "text/html": [
       "<html><script type=\"math/tex; mode=display\">\\newcommand{\\Bold}[1]{\\mathbf{#1}}E_{\\mathbf{i}} = \\frac{\\partial}{\\partial X }</script></html>"
      ],
      "text/plain": [
       "E_I = d/dX"
      ]
     },
     "execution_count": 154,
     "metadata": {},
     "output_type": "execute_result"
    }
   ],
   "source": [
    "EI.at(Phi(One)).display()"
   ]
  },
  {
   "cell_type": "code",
   "execution_count": 155,
   "metadata": {
    "collapsed": false
   },
   "outputs": [
    {
     "data": {
      "text/html": [
       "<html><script type=\"math/tex; mode=display\">\\newcommand{\\Bold}[1]{\\mathbf{#1}}E_{\\mathbf{j}} = \\frac{\\partial}{\\partial Y }</script></html>"
      ],
      "text/plain": [
       "E_J = d/dY"
      ]
     },
     "execution_count": 155,
     "metadata": {},
     "output_type": "execute_result"
    }
   ],
   "source": [
    "EJ.at(Phi(One)).display()"
   ]
  },
  {
   "cell_type": "code",
   "execution_count": 156,
   "metadata": {
    "collapsed": false
   },
   "outputs": [
    {
     "data": {
      "text/html": [
       "<html><script type=\"math/tex; mode=display\">\\newcommand{\\Bold}[1]{\\mathbf{#1}}E_{\\mathbf{k}} = \\frac{\\partial}{\\partial Z }</script></html>"
      ],
      "text/plain": [
       "E_K = d/dZ"
      ]
     },
     "execution_count": 156,
     "metadata": {},
     "output_type": "execute_result"
    }
   ],
   "source": [
    "EK.at(Phi(One)).display()"
   ]
  },
  {
   "cell_type": "markdown",
   "metadata": {},
   "source": [
    "The extra factor $1/2$, which appears in the above expressions of $(\\varepsilon_1, \\varepsilon_2, \\varepsilon_3)$, arises from the fact that the stereographic coordinates $(x,y,z)$ have been defined with respect to the hyperplane $T=0$ and not to the hyperplane $T=1$ (to which $\\Phi(\\mathbf{1})$ belongs). "
   ]
  },
  {
   "cell_type": "markdown",
   "metadata": {},
   "source": [
    "## Link with the Hopf coordinates\n",
    "\n",
    "The Hopf coordinates have been introduced in the worksheet [3-sphere: charts, quaternions and the Hopf fribration](http://nbviewer.jupyter.org/github/sagemanifolds/SageManifolds/blob/master/Worksheets/v1.0/SM_sphere_S3_Hopf.ipynb)."
   ]
  },
  {
   "cell_type": "code",
   "execution_count": 157,
   "metadata": {
    "collapsed": false
   },
   "outputs": [],
   "source": [
    "B = U.open_subset('B', coord_def={stereoN.restrict(U): \n",
    "                                   [x^2+y^2!=0, x^2+y^2+z^2!=1, \n",
    "                                    (1-x^2-y^2-z^2)*x-2*y*z!=0]})"
   ]
  },
  {
   "cell_type": "code",
   "execution_count": 158,
   "metadata": {
    "collapsed": false
   },
   "outputs": [
    {
     "data": {
      "text/html": [
       "<html><script type=\"math/tex; mode=display\">\\newcommand{\\Bold}[1]{\\mathbf{#1}}\\left(B,({\\eta}, {\\alpha}, {\\beta})\\right)</script></html>"
      ],
      "text/plain": [
       "Chart (B, (eta, alpha, beta))"
      ]
     },
     "execution_count": 158,
     "metadata": {},
     "output_type": "execute_result"
    }
   ],
   "source": [
    "Hcoord.<eta,alp,bet> = B.chart(r\"eta:(0,pi/2):\\eta alpha:(0,2*pi):\\alpha beta:(0,2*pi):\\beta\")\n",
    "Hcoord"
   ]
  },
  {
   "cell_type": "code",
   "execution_count": 159,
   "metadata": {
    "collapsed": false
   },
   "outputs": [
    {
     "data": {
      "text/html": [
       "<html><script type=\"math/tex; mode=display\">\\newcommand{\\Bold}[1]{\\mathbf{#1}}\\left\\{\\begin{array}{lcl} x & = & \\frac{\\cos\\left({\\alpha} + {\\beta}\\right) \\sin\\left({\\eta}\\right)}{\\cos\\left({\\eta}\\right) \\sin\\left({\\alpha}\\right) + 1} \\\\ y & = & \\frac{\\sin\\left({\\alpha} + {\\beta}\\right) \\sin\\left({\\eta}\\right)}{\\cos\\left({\\eta}\\right) \\sin\\left({\\alpha}\\right) + 1} \\\\ z & = & \\frac{\\cos\\left({\\alpha}\\right) \\cos\\left({\\eta}\\right)}{\\cos\\left({\\eta}\\right) \\sin\\left({\\alpha}\\right) + 1} \\end{array}\\right.</script></html>"
      ],
      "text/plain": [
       "x = cos(alpha + beta)*sin(eta)/(cos(eta)*sin(alpha) + 1)\n",
       "y = sin(alpha + beta)*sin(eta)/(cos(eta)*sin(alpha) + 1)\n",
       "z = cos(alpha)*cos(eta)/(cos(eta)*sin(alpha) + 1)"
      ]
     },
     "execution_count": 159,
     "metadata": {},
     "output_type": "execute_result"
    }
   ],
   "source": [
    "Hcoord_to_stereoN = Hcoord.transition_map(\n",
    "                        stereoN.restrict(U),\n",
    "                        (sin(eta)*cos(alp+bet)/(1+cos(eta)*sin(alp)),\n",
    "                         sin(eta)*sin(alp+bet)/(1+cos(eta)*sin(alp)),\n",
    "                         cos(eta)*cos(alp)/(1+cos(eta)*sin(alp))))\n",
    "Hcoord_to_stereoN.display()"
   ]
  },
  {
   "cell_type": "code",
   "execution_count": 160,
   "metadata": {
    "collapsed": false
   },
   "outputs": [
    {
     "data": {
      "text/html": [
       "<html><script type=\"math/tex; mode=display\">\\newcommand{\\Bold}[1]{\\mathbf{#1}}\\left\\{\\begin{array}{lcl} {\\eta} & = & \\arcsin\\left(\\frac{2 \\, \\sqrt{x^{2} + y^{2}}}{x^{2} + y^{2} + z^{2} + 1}\\right) \\\\ {\\alpha} & = & \\pi + \\arctan\\left(x^{2} + y^{2} + z^{2} - 1, -2 \\, z\\right) \\\\ {\\beta} & = & -\\arctan\\left(x^{2} + y^{2} + z^{2} - 1, -2 \\, z\\right) + \\arctan\\left(-y, -x\\right) \\end{array}\\right.</script></html>"
      ],
      "text/plain": [
       "eta = arcsin(2*sqrt(x^2 + y^2)/(x^2 + y^2 + z^2 + 1))\n",
       "alpha = pi + arctan2(x^2 + y^2 + z^2 - 1, -2*z)\n",
       "beta = -arctan2(x^2 + y^2 + z^2 - 1, -2*z) + arctan2(-y, -x)"
      ]
     },
     "execution_count": 160,
     "metadata": {},
     "output_type": "execute_result"
    }
   ],
   "source": [
    "Hcoord_to_stereoN.set_inverse(asin(2*sqrt(x^2+y^2)/(1+x^2+y^2+z^2)),\n",
    "                              atan2(x^2+y^2+z^2-1, -2*z) + pi,\n",
    "                              atan2(-y,-x) - atan2(x^2+y^2+z^2-1, -2*z))\n",
    "Hcoord_to_stereoN.inverse().display()"
   ]
  },
  {
   "cell_type": "markdown",
   "metadata": {},
   "source": [
    "Let us express the vectors of the global frame $\\varepsilon$ in terms of the vector frame $\\left(\\frac{\\partial}{\\partial\\eta}, \\frac{\\partial}{\\partial\\alpha}, \\frac{\\partial}{\\partial\\beta}\\right)$ associated with the Hopf coordinates:"
   ]
  },
  {
   "cell_type": "code",
   "execution_count": 161,
   "metadata": {
    "collapsed": false
   },
   "outputs": [
    {
     "data": {
      "text/html": [
       "<html><script type=\"math/tex; mode=display\">\\newcommand{\\Bold}[1]{\\mathbf{#1}}\\varepsilon_1 = \\left( \\frac{{\\left(2 \\, \\cos\\left({\\alpha}\\right) \\cos\\left({\\beta}\\right) \\sin\\left({\\alpha}\\right) + {\\left(2 \\, \\cos\\left({\\alpha}\\right)^{2} - 1\\right)} \\sin\\left({\\beta}\\right)\\right)} {\\left| \\cos\\left({\\eta}\\right) \\sin\\left({\\alpha}\\right) + 1 \\right|} \\cos\\left({\\eta}\\right) \\sin\\left({\\eta}\\right)}{{\\left(\\cos\\left({\\eta}\\right) \\sin\\left({\\alpha}\\right) + 1\\right)} \\sqrt{\\cos\\left({\\eta}\\right) + 1} \\sqrt{-\\cos\\left({\\eta}\\right) + 1} {\\left| \\cos\\left({\\eta}\\right) \\right|}} \\right) \\frac{\\partial}{\\partial {\\eta} } + \\frac{{\\left(2 \\, \\cos\\left({\\alpha}\\right) \\sin\\left({\\alpha}\\right) \\sin\\left({\\beta}\\right) + {\\left(2 \\, \\sin\\left({\\alpha}\\right)^{2} - 1\\right)} \\cos\\left({\\beta}\\right)\\right)} \\sin\\left({\\eta}\\right)}{\\cos\\left({\\eta}\\right)} \\frac{\\partial}{\\partial {\\alpha} } + \\left( -\\frac{2 \\, \\cos\\left({\\alpha}\\right) \\sin\\left({\\alpha}\\right) \\sin\\left({\\beta}\\right) - {\\left(2 \\, \\cos\\left({\\alpha}\\right)^{2} - 1\\right)} \\cos\\left({\\beta}\\right)}{\\cos\\left({\\eta}\\right) \\sin\\left({\\eta}\\right)} \\right) \\frac{\\partial}{\\partial {\\beta} }</script></html>"
      ],
      "text/plain": [
       "E_1 = (2*cos(alpha)*cos(beta)*sin(alpha) + (2*cos(alpha)^2 - 1)*sin(beta))*abs(cos(eta)*sin(alpha) + 1)*cos(eta)*sin(eta)/((cos(eta)*sin(alpha) + 1)*sqrt(cos(eta) + 1)*sqrt(-cos(eta) + 1)*abs(cos(eta))) d/deta + (2*cos(alpha)*sin(alpha)*sin(beta) + (2*sin(alpha)^2 - 1)*cos(beta))*sin(eta)/cos(eta) d/dalpha - (2*cos(alpha)*sin(alpha)*sin(beta) - (2*cos(alpha)^2 - 1)*cos(beta))/(cos(eta)*sin(eta)) d/dbeta"
      ]
     },
     "execution_count": 161,
     "metadata": {},
     "output_type": "execute_result"
    }
   ],
   "source": [
    "E_U[1].display(Hcoord.frame(), Hcoord)"
   ]
  },
  {
   "cell_type": "markdown",
   "metadata": {},
   "source": [
    "There is a lack of simplifications: we should have $|\\cos\\eta\\sin\\alpha+1| = \\cos\\eta\\sin\\alpha+1$. Moreover, since $\\eta\\in(0,\\pi/2)$, $|\\cos\\eta|=\\cos\\eta$ and $\\sqrt{\\cos\\eta+1}\\sqrt{-\\cos\\eta+1}=|\\sin\\eta|=\\sin\\eta$. Accordingly the component $\\varepsilon_1^{\\ \\,  \\eta}$ can be simplified to"
   ]
  },
  {
   "cell_type": "code",
   "execution_count": 162,
   "metadata": {
    "collapsed": false
   },
   "outputs": [
    {
     "data": {
      "text/html": [
       "<html><script type=\"math/tex; mode=display\">\\newcommand{\\Bold}[1]{\\mathbf{#1}}\\frac{{\\left(2 \\, \\cos\\left({\\alpha}\\right) \\cos\\left({\\beta}\\right) \\sin\\left({\\alpha}\\right) + {\\left(2 \\, \\cos\\left({\\alpha}\\right)^{2} - 1\\right)} \\sin\\left({\\beta}\\right)\\right)} \\sin\\left({\\eta}\\right)}{\\sqrt{\\cos\\left({\\eta}\\right) + 1} \\sqrt{-\\cos\\left({\\eta}\\right) + 1}}</script></html>"
      ],
      "text/plain": [
       "(2*cos(alpha)*cos(beta)*sin(alpha) + (2*cos(alpha)^2 - 1)*sin(beta))*sin(eta)/(sqrt(cos(eta) + 1)*sqrt(-cos(eta) + 1))"
      ]
     },
     "execution_count": 162,
     "metadata": {},
     "output_type": "execute_result"
    }
   ],
   "source": [
    "E1_eta = E_U[1][Hcoord.frame(), 1, Hcoord].expr()\n",
    "E1_eta = E1_eta.subs({abs(cos(eta)): cos(eta), \n",
    "                      abs(cos(eta)*sin(alp)+1): cos(eta)*sin(alp)+1})\n",
    "E1_eta"
   ]
  },
  {
   "cell_type": "markdown",
   "metadata": {},
   "source": [
    "which can be simplified further to $\\varepsilon_1^{\\ \\,  \\eta}=\\sin(2\\alpha+\\beta)$. \n",
    "Similarly, we notice that $\\varepsilon_1^{\\ \\,  \\alpha}=-\\cos(2\\alpha+\\beta)\\tan\\eta$ and \n",
    "$\\varepsilon_1^{\\ \\,  \\beta}=\\cos(2\\alpha+\\beta)/(\\cos\\eta\\sin\\eta)$. Hence, we substitute these values for the components of $\\varepsilon_1$ via the method `add_comp` (NB: the method `set_comp` would erase the other sets of components):"
   ]
  },
  {
   "cell_type": "code",
   "execution_count": 163,
   "metadata": {
    "collapsed": false
   },
   "outputs": [
    {
     "data": {
      "text/html": [
       "<html><script type=\"math/tex; mode=display\">\\newcommand{\\Bold}[1]{\\mathbf{#1}}\\varepsilon_1 = \\sin\\left(2 \\, {\\alpha} + {\\beta}\\right) \\frac{\\partial}{\\partial {\\eta} } -\\cos\\left(2 \\, {\\alpha} + {\\beta}\\right) \\tan\\left({\\eta}\\right) \\frac{\\partial}{\\partial {\\alpha} } + \\frac{\\cos\\left(2 \\, {\\alpha} + {\\beta}\\right)}{\\cos\\left({\\eta}\\right) \\sin\\left({\\eta}\\right)} \\frac{\\partial}{\\partial {\\beta} }</script></html>"
      ],
      "text/plain": [
       "E_1 = sin(2*alpha + beta) d/deta - cos(2*alpha + beta)*tan(eta) d/dalpha + cos(2*alpha + beta)/(cos(eta)*sin(eta)) d/dbeta"
      ]
     },
     "execution_count": 163,
     "metadata": {},
     "output_type": "execute_result"
    }
   ],
   "source": [
    "E_U[1].add_comp(Hcoord.frame())[1, Hcoord] = sin(2*alp+bet)\n",
    "E_U[1].add_comp(Hcoord.frame())[2, Hcoord] = -cos(2*alp+bet) * tan(eta)\n",
    "E_U[1].add_comp(Hcoord.frame())[3, Hcoord] = cos(2*alp+bet) / (cos(eta)*sin(eta))\n",
    "E_U[1].display(Hcoord.frame(), Hcoord)"
   ]
  },
  {
   "cell_type": "markdown",
   "metadata": {},
   "source": [
    "Similarly, the components of $\\varepsilon_2$ require some simplification \"by hand\":"
   ]
  },
  {
   "cell_type": "code",
   "execution_count": 164,
   "metadata": {
    "collapsed": false
   },
   "outputs": [
    {
     "data": {
      "text/html": [
       "<html><script type=\"math/tex; mode=display\">\\newcommand{\\Bold}[1]{\\mathbf{#1}}\\varepsilon_2 = \\left( \\frac{{\\left(2 \\, \\cos\\left({\\alpha}\\right) \\sin\\left({\\alpha}\\right) \\sin\\left({\\beta}\\right) + {\\left(2 \\, \\sin\\left({\\alpha}\\right)^{2} - 1\\right)} \\cos\\left({\\beta}\\right)\\right)} {\\left| \\cos\\left({\\eta}\\right) \\sin\\left({\\alpha}\\right) + 1 \\right|} \\cos\\left({\\eta}\\right) \\sin\\left({\\eta}\\right)}{{\\left(\\cos\\left({\\eta}\\right) \\sin\\left({\\alpha}\\right) + 1\\right)} \\sqrt{\\cos\\left({\\eta}\\right) + 1} \\sqrt{-\\cos\\left({\\eta}\\right) + 1} {\\left| \\cos\\left({\\eta}\\right) \\right|}} \\right) \\frac{\\partial}{\\partial {\\eta} } -\\frac{{\\left(2 \\, \\cos\\left({\\alpha}\\right) \\cos\\left({\\beta}\\right) \\sin\\left({\\alpha}\\right) - {\\left(2 \\, \\sin\\left({\\alpha}\\right)^{2} - 1\\right)} \\sin\\left({\\beta}\\right)\\right)} \\sin\\left({\\eta}\\right)}{\\cos\\left({\\eta}\\right)} \\frac{\\partial}{\\partial {\\alpha} } + \\left( \\frac{2 \\, \\cos\\left({\\alpha}\\right) \\cos\\left({\\beta}\\right) \\sin\\left({\\alpha}\\right) + {\\left(2 \\, \\cos\\left({\\alpha}\\right)^{2} - 1\\right)} \\sin\\left({\\beta}\\right)}{\\cos\\left({\\eta}\\right) \\sin\\left({\\eta}\\right)} \\right) \\frac{\\partial}{\\partial {\\beta} }</script></html>"
      ],
      "text/plain": [
       "E_2 = (2*cos(alpha)*sin(alpha)*sin(beta) + (2*sin(alpha)^2 - 1)*cos(beta))*abs(cos(eta)*sin(alpha) + 1)*cos(eta)*sin(eta)/((cos(eta)*sin(alpha) + 1)*sqrt(cos(eta) + 1)*sqrt(-cos(eta) + 1)*abs(cos(eta))) d/deta - (2*cos(alpha)*cos(beta)*sin(alpha) - (2*sin(alpha)^2 - 1)*sin(beta))*sin(eta)/cos(eta) d/dalpha + (2*cos(alpha)*cos(beta)*sin(alpha) + (2*cos(alpha)^2 - 1)*sin(beta))/(cos(eta)*sin(eta)) d/dbeta"
      ]
     },
     "execution_count": 164,
     "metadata": {},
     "output_type": "execute_result"
    }
   ],
   "source": [
    "E_U[2].display(Hcoord.frame(), Hcoord)"
   ]
  },
  {
   "cell_type": "code",
   "execution_count": 165,
   "metadata": {
    "collapsed": false
   },
   "outputs": [
    {
     "data": {
      "text/html": [
       "<html><script type=\"math/tex; mode=display\">\\newcommand{\\Bold}[1]{\\mathbf{#1}}\\frac{{\\left(2 \\, \\cos\\left({\\alpha}\\right) \\sin\\left({\\alpha}\\right) \\sin\\left({\\beta}\\right) + {\\left(2 \\, \\sin\\left({\\alpha}\\right)^{2} - 1\\right)} \\cos\\left({\\beta}\\right)\\right)} \\sin\\left({\\eta}\\right)}{\\sqrt{\\cos\\left({\\eta}\\right) + 1} \\sqrt{-\\cos\\left({\\eta}\\right) + 1}}</script></html>"
      ],
      "text/plain": [
       "(2*cos(alpha)*sin(alpha)*sin(beta) + (2*sin(alpha)^2 - 1)*cos(beta))*sin(eta)/(sqrt(cos(eta) + 1)*sqrt(-cos(eta) + 1))"
      ]
     },
     "execution_count": 165,
     "metadata": {},
     "output_type": "execute_result"
    }
   ],
   "source": [
    "E2_eta = E_U[2][Hcoord.frame(), 1, Hcoord].expr()\n",
    "E2_eta = E2_eta.subs({abs(cos(eta)): cos(eta), \n",
    "                      abs(cos(eta)*sin(alp)+1): cos(eta)*sin(alp)+1})\n",
    "E2_eta"
   ]
  },
  {
   "cell_type": "code",
   "execution_count": 166,
   "metadata": {
    "collapsed": false
   },
   "outputs": [
    {
     "data": {
      "text/html": [
       "<html><script type=\"math/tex; mode=display\">\\newcommand{\\Bold}[1]{\\mathbf{#1}}\\varepsilon_2 = -\\cos\\left(2 \\, {\\alpha} + {\\beta}\\right) \\frac{\\partial}{\\partial {\\eta} } -\\sin\\left(2 \\, {\\alpha} + {\\beta}\\right) \\tan\\left({\\eta}\\right) \\frac{\\partial}{\\partial {\\alpha} } + \\frac{\\sin\\left(2 \\, {\\alpha} + {\\beta}\\right)}{\\cos\\left({\\eta}\\right) \\sin\\left({\\eta}\\right)} \\frac{\\partial}{\\partial {\\beta} }</script></html>"
      ],
      "text/plain": [
       "E_2 = -cos(2*alpha + beta) d/deta - sin(2*alpha + beta)*tan(eta) d/dalpha + sin(2*alpha + beta)/(cos(eta)*sin(eta)) d/dbeta"
      ]
     },
     "execution_count": 166,
     "metadata": {},
     "output_type": "execute_result"
    }
   ],
   "source": [
    "E_U[2].add_comp(Hcoord.frame())[1, Hcoord] = -cos(2*alp+bet)\n",
    "E_U[2].add_comp(Hcoord.frame())[2, Hcoord] = -sin(2*alp+bet) * tan(eta)\n",
    "E_U[2].add_comp(Hcoord.frame())[3, Hcoord] = sin(2*alp+bet) / (cos(eta)*sin(eta))\n",
    "E_U[2].display(Hcoord.frame(), Hcoord)"
   ]
  },
  {
   "cell_type": "markdown",
   "metadata": {},
   "source": [
    "The expression of $\\varepsilon_3$ in terms of the vector frame $\\left(\\frac{\\partial}{\\partial\\eta}, \\frac{\\partial}{\\partial\\alpha}, \\frac{\\partial}{\\partial\\beta}\\right)$ is particularly simple:"
   ]
  },
  {
   "cell_type": "code",
   "execution_count": 167,
   "metadata": {
    "collapsed": false
   },
   "outputs": [
    {
     "data": {
      "text/html": [
       "<html><script type=\"math/tex; mode=display\">\\newcommand{\\Bold}[1]{\\mathbf{#1}}\\varepsilon_3 = -\\frac{\\partial}{\\partial {\\alpha} }</script></html>"
      ],
      "text/plain": [
       "E_3 = -d/dalpha"
      ]
     },
     "execution_count": 167,
     "metadata": {},
     "output_type": "execute_result"
    }
   ],
   "source": [
    "E_U[3].display(Hcoord.frame(), Hcoord)"
   ]
  },
  {
   "cell_type": "markdown",
   "metadata": {},
   "source": [
    "This is not surprising since $\\varepsilon_3$ has been defined as the vector field induced by the right translation by $\\mathbf{k}$ and the **Hopf fibration** considered the worksheet [3-sphere: charts, quaternions and the Hopf fribration](http://nbviewer.jupyter.org/github/sagemanifolds/SageManifolds/blob/master/Worksheets/v1.0/SM_sphere_S3_Hopf.ipynb) has been defined with respect to $\\mathbf{k}$ as \n",
    "$$ \n",
    "    \\begin{array}{cccc}\n",
    "    h:& \\mathbb{S}^3 & \\to & \\mathbb{S}^2\\\\\n",
    "      &  q & \\mapsto & q \\mathbf{k} \\bar{q}\n",
    "    \\end{array}\n",
    "$$    \n",
    "More precisely, we have shown in the above worksheet that $\\frac{\\partial}{\\partial\\alpha}$ is tangent to the $\\mathbb{S}^1$ fibers of $h$ and it is easy to see that the field lines of $\\varepsilon_3$ coincide with these fibers: let $q\\in\\mathbb{S}^3$ and $q'\\in\\mathbb{S}^3$ be a point infinitely close to $q$ on a field line of $\\varepsilon_3$: \n",
    "$$\n",
    "    q' = q + \\lambda \\left. \\varepsilon_3 \\right| _q = q + \\lambda q \\, \\mathbf{k}, \n",
    "$$\n",
    "where $\\lambda = o(1)$ is an infinitesimal real number and the second equality stems from the very definition of $\\varepsilon_3 = \\varepsilon_{\\mathbf{k}}$ as the vector field associated with the right translation by $\\mathbf{k}$. We have then\n",
    "$$\n",
    "        \\overline{q'} = \\overline{q + \\lambda q \\, \\mathbf{k}} \n",
    "                      = \\bar{q} + \\lambda \\bar{\\mathbf{k}} \\bar{q}\n",
    "                      = \\bar{q} - \\lambda \\mathbf{k} \\bar{q}\n",
    "$$\n",
    "so that\n",
    "$$\n",
    "    h(q') = (q + \\lambda q \\, \\mathbf{k})\\mathbf{k}(\\bar{q} - \\lambda \\mathbf{k} \\bar{q}) . \n",
    "$$\n",
    "Expanding and using $\\mathbf{k}^2 = -1$ and $q\\bar{q} = 1$, we find \n",
    "$h(q') = h(q)$ at first order in $\\lambda$, which shows that $q$ and $q'$ belong to the same fiber of $h$. \n",
    "\n",
    "Accordingly the field lines of $\\varepsilon_3$ are circles, as we can check on a (projection) plot in the plane $z=0$:"
   ]
  },
  {
   "cell_type": "code",
   "execution_count": 168,
   "metadata": {
    "collapsed": false
   },
   "outputs": [
    {
     "data": {
      "image/png": "[encoded data removed]",
      "text/plain": [
       "Graphics object consisting of 80 graphics primitives"
      ]
     },
     "metadata": {},
     "output_type": "display_data"
    }
   ],
   "source": [
    "graph_z0 = E[3].plot(chart=stereoN, ambient_coords=(x,y),\n",
    "                     fixed_coords={z: 0}, max_range=1, scale=0.5)\n",
    "show(graph_z0, aspect_ratio=1)"
   ]
  },
  {
   "cell_type": "markdown",
   "metadata": {},
   "source": [
    "or in the plane $y=0$:"
   ]
  },
  {
   "cell_type": "code",
   "execution_count": 169,
   "metadata": {
    "collapsed": false
   },
   "outputs": [
    {
     "data": {
      "image/png": "[encoded data removed]",
      "text/plain": [
       "Graphics object consisting of 121 graphics primitives"
      ]
     },
     "metadata": {},
     "output_type": "display_data"
    }
   ],
   "source": [
    "graph_y0 = E[3].plot(chart=stereoN, ambient_coords=(x,z),\n",
    "                     fixed_coords={y: 0}, number_values=11,\n",
    "                     ranges={x: (-2,2), z: (-1,1)}, scale=0.4)\n",
    "show(graph_y0, aspect_ratio=1)"
   ]
  },
  {
   "cell_type": "markdown",
   "metadata": {},
   "source": [
    "A 3D view of $\\varepsilon_3$, in terms of the stereographic coordinates $(x,y,z)$:"
   ]
  },
  {
   "cell_type": "code",
   "execution_count": 170,
   "metadata": {
    "collapsed": false
   },
   "outputs": [
    {
     "data": {
      "text/html": [
       "\n",
       "<iframe srcdoc=\"<!DOCTYPE html>\n",
       "<html>\n",
       "<head>\n",
       "<title></title>\n",
       "<meta charset=utf-8>\n",
       "<meta name=viewport content='width=device-width, user-scalable=no, minimum-scale=1.0, maximum-scale=1.0'>\n",
       "<style>\n",
       "\n",
       "    body { margin: 0px; overflow: hidden; }\n",
       "  \n",
       "</style>\n",
       "</head>\n",
       "\n",
       "<body>\n",
       "\n",
       "<script src=http://rawgit.com/mrdoob/three.js/r80/build/three.js></script>\n",
       "<script src=http://rawgit.com/mrdoob/three.js/r80/examples/js/controls/OrbitControls.js></script>\n",
       "\n",
       "<script>\n",
       "\n",
       "    var scene = new THREE.Scene();\n",
       "\n",
       "    var renderer = new THREE.WebGLRenderer( { antialias: true } );\n",
       "    renderer.setSize( window.innerWidth, window.innerHeight );\n",
       "    renderer.setClearColor( 0xffffff, 1 );\n",
       "    document.body.appendChild( renderer.domElement );\n",
       "\n",
       "    var options = {&quot;aspect_ratio&quot;: [1.0, 1.0, 1.0], &quot;decimals&quot;: 2, &quot;frame&quot;: true, &quot;axes&quot;: false, &quot;axes_labels&quot;: [&quot;x&quot;, &quot;y&quot;, &quot;z&quot;]};\n",
       "\n",
       "    // When animations are supported by the viewer, the value 'false'\n",
       "    // will be replaced with an option set in Python by the user\n",
       "    var animate = false; // options.animate;\n",
       "\n",
       "    var lights = [{x:0, y:0, z:10}, {x:0, y:0, z:-10}];\n",
       "    for ( var i=0 ; i < lights.length ; i++ ) {\n",
       "        var light = new THREE.DirectionalLight( 0xdddddd, 1 );\n",
       "        light.position.set( lights[i].x, lights[i].y, lights[i].z );\n",
       "        scene.add( light );\n",
       "    }\n",
       "\n",
       "    scene.add( new THREE.AmbientLight( 0x404040, 1 ) );\n",
       "\n",
       "    var b = [{x:-1.5, y:-1.5, z:-1.06}, {x:1.5, y:1.5, z:1.27307849774}]; // bounds\n",
       "\n",
       "    if ( b[0].x === b[1].x ) {\n",
       "        b[0].x -= 1;\n",
       "        b[1].x += 1;\n",
       "    }\n",
       "    if ( b[0].y === b[1].y ) {\n",
       "        b[0].y -= 1;\n",
       "        b[1].y += 1;\n",
       "    }\n",
       "    if ( b[0].z === b[1].z ) {\n",
       "        b[0].z -= 1;\n",
       "        b[1].z += 1;\n",
       "    }\n",
       "\n",
       "    var rRange = Math.sqrt( Math.pow( b[1].x - b[0].x, 2 )\n",
       "                            + Math.pow( b[1].x - b[0].x, 2 ) );\n",
       "    var xRange = b[1].x - b[0].x;\n",
       "    var yRange = b[1].y - b[0].y;\n",
       "    var zRange = b[1].z - b[0].z;\n",
       "\n",
       "    var ar = options.aspect_ratio;\n",
       "    var a = [ ar[0], ar[1], ar[2] ]; // aspect multipliers\n",
       "    var autoAspect = 2.5;\n",
       "    if ( zRange > autoAspect * rRange && a[2] === 1 ) a[2] = autoAspect * rRange / zRange;\n",
       "\n",
       "    var xMid = ( b[0].x + b[1].x ) / 2;\n",
       "    var yMid = ( b[0].y + b[1].y ) / 2;\n",
       "    var zMid = ( b[0].z + b[1].z ) / 2;\n",
       "\n",
       "    scene.position.set( -a[0]*xMid, -a[1]*yMid, -a[2]*zMid );\n",
       "\n",
       "    var box = new THREE.Geometry();\n",
       "    box.vertices.push( new THREE.Vector3( a[0]*b[0].x, a[1]*b[0].y, a[2]*b[0].z ) );\n",
       "    box.vertices.push( new THREE.Vector3( a[0]*b[1].x, a[1]*b[1].y, a[2]*b[1].z ) );\n",
       "    var boxMesh = new THREE.LineSegments( box );\n",
       "    if ( options.frame ) scene.add( new THREE.BoxHelper( boxMesh, 'black' ) );\n",
       "\n",
       "    if ( options.axes_labels ) {\n",
       "        var d = options.decimals; // decimals\n",
       "        var offsetRatio = 0.1;\n",
       "        var al = options.axes_labels;\n",
       "\n",
       "        var offset = offsetRatio * ( b[1].y - b[0].y );\n",
       "        var xm = xMid.toFixed(d);\n",
       "        if ( /^-0.?0*$/.test(xm) ) xm = xm.substr(1);\n",
       "        addLabel( al[0] + '=' + xm, a[0]*xMid, a[1]*b[1].y+offset, a[2]*b[0].z );\n",
       "        addLabel( ( b[0].x ).toFixed(d), a[0]*b[0].x, a[1]*b[1].y+offset, a[2]*b[0].z );\n",
       "        addLabel( ( b[1].x ).toFixed(d), a[0]*b[1].x, a[1]*b[1].y+offset, a[2]*b[0].z );\n",
       "\n",
       "        var offset = offsetRatio * ( b[1].x - b[0].x );\n",
       "        var ym = yMid.toFixed(d);\n",
       "        if ( /^-0.?0*$/.test(ym) ) ym = ym.substr(1);\n",
       "        addLabel( al[1] + '=' + ym, a[0]*b[1].x+offset, a[1]*yMid, a[2]*b[0].z );\n",
       "        addLabel( ( b[0].y ).toFixed(d), a[0]*b[1].x+offset, a[1]*b[0].y, a[2]*b[0].z );\n",
       "        addLabel( ( b[1].y ).toFixed(d), a[0]*b[1].x+offset, a[1]*b[1].y, a[2]*b[0].z );\n",
       "\n",
       "        var offset = offsetRatio * ( b[1].y - b[0].y );\n",
       "        var zm = zMid.toFixed(d);\n",
       "        if ( /^-0.?0*$/.test(zm) ) zm = zm.substr(1);\n",
       "        addLabel( al[2] + '=' + zm, a[0]*b[1].x, a[1]*b[0].y-offset, a[2]*zMid );\n",
       "        addLabel( ( b[0].z ).toFixed(d), a[0]*b[1].x, a[1]*b[0].y-offset, a[2]*b[0].z );\n",
       "        addLabel( ( b[1].z ).toFixed(d), a[0]*b[1].x, a[1]*b[0].y-offset, a[2]*b[1].z );\n",
       "    }\n",
       "\n",
       "    var texts = [];\n",
       "    for ( var i=0 ; i < texts.length ; i++ )\n",
       "        addLabel( texts[i].text, texts[i].x, texts[i].y, texts[i].z );\n",
       "\n",
       "    function addLabel( text, x, y, z ) {\n",
       "        var fontsize = 14;\n",
       "\n",
       "        var canvas = document.createElement( 'canvas' );\n",
       "        canvas.width = 128;\n",
       "        canvas.height = 32; // powers of two\n",
       "\n",
       "        var context = canvas.getContext( '2d' );\n",
       "        context.fillStyle = 'black';\n",
       "        context.font = fontsize + 'px monospace';\n",
       "        context.textAlign = 'center';\n",
       "        context.textBaseline = 'middle';\n",
       "        context.fillText( text, .5*canvas.width, .5*canvas.height );\n",
       "\n",
       "        var texture = new THREE.Texture( canvas );\n",
       "        texture.needsUpdate = true;\n",
       "\n",
       "        var sprite = new THREE.Sprite( new THREE.SpriteMaterial( { map: texture } ) );\n",
       "        sprite.position.set( x, y, z );\n",
       "        sprite.scale.set( 1, .25 ); // ratio of width to height\n",
       "        scene.add( sprite );\n",
       "    }\n",
       "\n",
       "    if ( options.axes ) scene.add( new THREE.AxisHelper( Math.min( a[0]*b[1].x, a[1]*b[1].y, a[2]*b[1].z ) ) );\n",
       "\n",
       "    var camera = new THREE.PerspectiveCamera( 45, window.innerWidth / window.innerHeight, 0.1, 1000 );\n",
       "    camera.up.set( 0, 0, 1 );\n",
       "    var cameraOut = Math.max( a[0]*xRange, a[1]*yRange, a[2]*zRange );\n",
       "    camera.position.set( cameraOut, cameraOut, cameraOut );\n",
       "    camera.lookAt( scene.position );\n",
       "\n",
       "    var controls = new THREE.OrbitControls( camera, renderer.domElement );\n",
       "    controls.addEventListener( 'change', function() { if ( !animate ) render(); } );\n",
       "\n",
       "    window.addEventListener( 'resize', function() {\n",
       "        \n",
       "        renderer.setSize( window.innerWidth, window.innerHeight );\n",
       "        camera.aspect = window.innerWidth / window.innerHeight;\n",
       "        camera.updateProjectionMatrix();\n",
       "        if ( !animate ) render();\n",
       "        \n",
       "    } );\n",
       "    \n",
       "    var points = [];\n",
       "    for ( var i=0 ; i < points.length ; i++ ) addPoint( points[i] );\n",
       "\n",
       "    function addPoint( json ) {\n",
       "        var geometry = new THREE.Geometry();\n",
       "        var v = json.point;\n",
       "        geometry.vertices.push( new THREE.Vector3( a[0]*v[0], a[1]*v[1], a[2]*v[2] ) );\n",
       "\n",
       "        var canvas = document.createElement( 'canvas' );\n",
       "        canvas.width = 128;\n",
       "        canvas.height = 128;\n",
       "\n",
       "        var context = canvas.getContext( '2d' );\n",
       "        context.arc( 64, 64, 64, 0, 2 * Math.PI );\n",
       "        context.fillStyle = json.color;\n",
       "        context.fill();\n",
       "\n",
       "        var texture = new THREE.Texture( canvas );\n",
       "        texture.needsUpdate = true;\n",
       "        var material = new THREE.PointsMaterial( { size: json.size/100, map: texture,\n",
       "                                                   transparent: true, opacity: json.opacity,\n",
       "                                                   alphaTest: .1 } );\n",
       "        scene.add( new THREE.Points( geometry, material ) );\n",
       "    }\n",
       "\n",
       "    var lines = [];\n",
       "    for ( var i=0 ; i < lines.length ; i++ ) addLine( lines[i] );\n",
       "\n",
       "    function addLine( json ) {\n",
       "        var geometry = new THREE.Geometry();\n",
       "        for ( var i=0 ; i < json.points.length - 1 ; i++ ) {\n",
       "            var v = json.points[i];\n",
       "            geometry.vertices.push( new THREE.Vector3( a[0]*v[0], a[1]*v[1], a[2]*v[2] ) );\n",
       "            var v = json.points[i+1];\n",
       "            geometry.vertices.push( new THREE.Vector3( a[0]*v[0], a[1]*v[1], a[2]*v[2] ) );\n",
       "        }\n",
       "        var material = new THREE.LineBasicMaterial( { color: json.color, linewidth: json.linewidth,\n",
       "                                                      transparent: true, opacity: json.opacity } );\n",
       "        scene.add( new THREE.LineSegments( geometry, material ) );\n",
       "    }\n",
       "\n",
       "    var surfaces = [{vertices:[{x:-1,y:-0.68,z:-1},{x:-1,y:-0.68,z:-1.02},{x:-0.980979,y:-0.68,z:-1.00618},{x:-0.988244,y:-0.68,z:-0.98382},{x:-1.01176,y:-0.68,z:-0.98382},{x:-1.01902,y:-0.68,z:-1.00618},{x:-1,y:-1,z:-1.02},{x:-0.980979,y:-1,z:-1.00618},{x:-0.988244,y:-1,z:-0.98382},{x:-1.01176,y:-1,z:-0.98382},{x:-1.01902,y:-1,z:-1.00618},{x:-1,y:-1,z:-1}], faces:[[0,2,1],[0,3,2],[0,4,3],[0,5,4],[0,1,5],[1,2,7,6],[2,3,8,7],[3,4,9,8],[4,5,10,9],[5,1,6,10],[6,7,11],[7,8,11],[8,9,11],[9,10,11],[10,6,11]], color:'#0000ff', opacity:1},{vertices:[{x:-1,y:-0.5,z:-1},{x:-1,y:-0.68,z:-1.06},{x:-0.942937,y:-0.68,z:-1.01854},{x:-0.964733,y:-0.68,z:-0.951459},{x:-1.03527,y:-0.68,z:-0.951459},{x:-1.05706,y:-0.68,z:-1.01854},{x:-1,y:-0.68,z:-1}], faces:[[0,2,1],[0,3,2],[0,4,3],[0,5,4],[0,1,5],[1,2,6],[2,3,6],[3,4,6],[4,5,6],[5,1,6]], color:'#0000ff', opacity:1},{vertices:[{x:-1.04849,y:-0.757527,z:-0.707079},{x:-1.04403,y:-0.759859,z:-0.726434},{x:-1.02894,y:-0.754,z:-0.709378},{x:-1.04088,y:-0.753015,z:-0.689145},{x:-1.06334,y:-0.758265,z:-0.693696},{x:-1.06529,y:-0.762496,z:-0.716741},{x:-0.995533,y:-1.00233,z:-0.686022},{x:-0.980448,y:-0.996473,z:-0.668966},{x:-0.992383,y:-0.995488,z:-0.648733},{x:-1.01484,y:-1.00074,z:-0.653284},{x:-1.01679,y:-1.00497,z:-0.676329},{x:-1,y:-1,z:-0.666667}], faces:[[0,2,1],[0,3,2],[0,4,3],[0,5,4],[0,1,5],[1,2,7,6],[2,3,8,7],[3,4,9,8],[4,5,10,9],[5,1,6,10],[6,7,11],[7,8,11],[8,9,11],[9,10,11],[10,6,11]], color:'#0000ff', opacity:1},{vertices:[{x:-1.08333,y:-0.583333,z:-0.736111},{x:-1.0351,y:-0.764524,z:-0.765143},{x:-0.989839,y:-0.746946,z:-0.713977},{x:-1.02564,y:-0.74399,z:-0.653278},{x:-1.09303,y:-0.759742,z:-0.66693},{x:-1.09887,y:-0.772433,z:-0.736066},{x:-1.04849,y:-0.757527,z:-0.707079}], faces:[[0,2,1],[0,3,2],[0,4,3],[0,5,4],[0,1,5],[1,2,6],[2,3,6],[3,4,6],[4,5,6],[5,1,6]], color:'#0000ff', opacity:1},{vertices:[{x:-1.08952,y:-0.820952,z:-0.393016},{x:-1.07924,y:-0.821524,z:-0.410159},{x:-1.07222,y:-0.811347,z:-0.390161},{x:-1.08911,y:-0.814444,z:-0.374109},{x:-1.10658,y:-0.826536,z:-0.384185},{x:-1.10048,y:-0.830911,z:-0.406465},{x:-0.989714,y:-1.00057,z:-0.350476},{x:-0.982692,y:-0.990394,z:-0.330479},{x:-0.999589,y:-0.993492,z:-0.314426},{x:-1.01705,y:-1.00558,z:-0.324503},{x:-1.01095,y:-1.00996,z:-0.346783},{x:-1,y:-1,z:-0.333333}], faces:[[0,2,1],[0,3,2],[0,4,3],[0,5,4],[0,1,5],[1,2,7,6],[2,3,8,7],[3,4,9,8],[4,5,10,9],[5,1,6,10],[6,7,11],[7,8,11],[8,9,11],[9,10,11],[10,6,11]], color:'#0000ff', opacity:1},{vertices:[{x:-1.16667,y:-0.666667,z:-0.444444},{x:-1.05867,y:-0.822667,z:-0.444444},{x:-1.0376,y:-0.792135,z:-0.384452},{x:-1.08829,y:-0.801428,z:-0.336295},{x:-1.14069,y:-0.837703,z:-0.366524},{x:-1.12238,y:-0.850829,z:-0.433364},{x:-1.08952,y:-0.820952,z:-0.393016}], faces:[[0,2,1],[0,3,2],[0,4,3],[0,5,4],[0,1,5],[1,2,6],[2,3,6],[3,4,6],[4,5,6],[5,1,6]], color:'#0000ff', opacity:1},{vertices:[{x:-1.13,y:-0.87,z:-0.065},{x:-1.11667,y:-0.863333,z:-0.0783333},{x:-1.11954,y:-0.855259,z:-0.0564395},{x:-1.13687,y:-0.867556,z:-0.046376},{x:-1.14471,y:-0.883231,z:-0.0620502},{x:-1.13222,y:-0.880621,z:-0.081801},{x:-0.986667,y:-0.993333,z:-0.0133333},{x:-0.989539,y:-0.985259,z:0.00856053},{x:-1.00687,y:-0.997556,z:0.018624},{x:-1.01471,y:-1.01323,z:0.00294976},{x:-1.00222,y:-1.01062,z:-0.016801},{x:-1,y:-1,z:0}], faces:[[0,2,1],[0,3,2],[0,4,3],[0,5,4],[0,1,5],[1,2,7,6],[2,3,8,7],[3,4,9,8],[4,5,10,9],[5,1,6,10],[6,7,11],[7,8,11],[8,9,11],[9,10,11],[10,6,11]], color:'#0000ff', opacity:1},{vertices:[{x:-1.25,y:-0.75,z:-0.125},{x:-1.09,y:-0.85,z:-0.105},{x:-1.09862,y:-0.825777,z:-0.0393184},{x:-1.1506,y:-0.862669,z:-0.00912791},{x:-1.17412,y:-0.909692,z:-0.0561507},{x:-1.13666,y:-0.901862,z:-0.115403},{x:-1.13,y:-0.87,z:-0.065}], faces:[[0,2,1],[0,3,2],[0,4,3],[0,5,4],[0,1,5],[1,2,6],[2,3,6],[3,4,6],[4,5,6],[5,1,6]], color:'#0000ff', opacity:1},{vertices:[{x:-1.17905,y:-0.910476,z:0.273651},{x:-1.16876,y:-0.895619,z:0.265079},{x:-1.17641,y:-0.896103,z:0.287306},{x:-1.1877,y:-0.91645,z:0.290662},{x:-1.18703,y:-0.928542,z:0.270509},{x:-1.17533,y:-0.915667,z:0.254698},{x:-0.989714,y:-0.985143,z:0.324762},{x:-0.997365,y:-0.985627,z:0.346988},{x:-1.00866,y:-1.00597,z:0.350344},{x:-1.00799,y:-1.01807,z:0.330191},{x:-0.996278,y:-1.00519,z:0.314381},{x:-1,y:-1,z:0.333333}], faces:[[0,2,1],[0,3,2],[0,4,3],[0,5,4],[0,1,5],[1,2,7,6],[2,3,8,7],[3,4,9,8],[4,5,10,9],[5,1,6,10],[6,7,11],[7,8,11],[8,9,11],[9,10,11],[10,6,11]], color:'#0000ff', opacity:1},{vertices:[{x:-1.33333,y:-0.833333,z:0.222222},{x:-1.14819,y:-0.865905,z:0.247937},{x:-1.17114,y:-0.867356,z:0.314616},{x:-1.20502,y:-0.928398,z:0.324683},{x:-1.203,y:-0.964673,z:0.264225},{x:-1.16788,y:-0.92605,z:0.216793},{x:-1.17905,y:-0.910476,z:0.273651}], faces:[[0,2,1],[0,3,2],[0,4,3],[0,5,4],[0,1,5],[1,2,6],[2,3,6],[3,4,6],[4,5,6],[5,1,6]], color:'#0000ff', opacity:1},{vertices:[{x:-1.24247,y:-0.951505,z:0.626254},{x:-1.23801,y:-0.932399,z:0.622384},{x:-1.24331,y:-0.941353,z:0.643466},{x:-1.24746,y:-0.964338,z:0.640763},{x:-1.24472,y:-0.969588,z:0.61801},{x:-1.23887,y:-0.949849,z:0.606651},{x:-0.995533,y:-0.980893,z:0.662796},{x:-1.00084,y:-0.989848,z:0.683878},{x:-1.00498,y:-1.01283,z:0.681175},{x:-1.00224,y:-1.01808,z:0.658422},{x:-0.996401,y:-0.998344,z:0.647063},{x:-1,y:-1,z:0.666667}], faces:[[0,2,1],[0,3,2],[0,4,3],[0,5,4],[0,1,5],[1,2,7,6],[2,3,8,7],[3,4,9,8],[4,5,10,9],[5,1,6,10],[6,7,11],[7,8,11],[8,9,11],[9,10,11],[10,6,11]], color:'#0000ff', opacity:1},{vertices:[{x:-1.41667,y:-0.916667,z:0.597222},{x:-1.22907,y:-0.894185,z:0.614642},{x:-1.24499,y:-0.921049,z:0.677889},{x:-1.25743,y:-0.990002,z:0.669779},{x:-1.2492,y:-1.00575,z:0.60152},{x:-1.23168,y:-0.946536,z:0.567443},{x:-1.24247,y:-0.951505,z:0.626254}], faces:[[0,2,1],[0,3,2],[0,4,3],[0,5,4],[0,1,5],[1,2,6],[2,3,6],[3,4,6],[4,5,6],[5,1,6]], color:'#0000ff', opacity:1},{vertices:[{x:-1.32,y:-1,z:1},{x:-1.32,y:-0.98,z:1},{x:-1.32,y:-0.99382,z:1.01902},{x:-1.32,y:-1.01618,z:1.01176},{x:-1.32,y:-1.01618,z:0.988244},{x:-1.32,y:-0.99382,z:0.980979},{x:-1,y:-0.98,z:1},{x:-1,y:-0.99382,z:1.01902},{x:-1,y:-1.01618,z:1.01176},{x:-1,y:-1.01618,z:0.988244},{x:-1,y:-0.99382,z:0.980979},{x:-1,y:-1,z:1}], faces:[[0,2,1],[0,3,2],[0,4,3],[0,5,4],[0,1,5],[1,2,7,6],[2,3,8,7],[3,4,9,8],[4,5,10,9],[5,1,6,10],[6,7,11],[7,8,11],[8,9,11],[9,10,11],[10,6,11]], color:'#0000ff', opacity:1},{vertices:[{x:-1.5,y:-1,z:1},{x:-1.32,y:-0.94,z:1},{x:-1.32,y:-0.981459,z:1.05706},{x:-1.32,y:-1.04854,z:1.03527},{x:-1.32,y:-1.04854,z:0.964733},{x:-1.32,y:-0.981459,z:0.942937},{x:-1.32,y:-1,z:1}], faces:[[0,2,1],[0,3,2],[0,4,3],[0,5,4],[0,1,5],[1,2,6],[2,3,6],[3,4,6],[4,5,6],[5,1,6]], color:'#0000ff', opacity:1},{vertices:[{x:-0.951505,y:-0.424194,z:-0.959588},{x:-0.954731,y:-0.420323,z:-0.978943},{x:-0.934095,y:-0.426065,z:-0.96925},{x:-0.937519,y:-0.429221,z:-0.946205},{x:-0.960272,y:-0.425429,z:-0.941654},{x:-0.97091,y:-0.419929,z:-0.961887},{x:-1.00323,y:-0.662796,z:-1.01935},{x:-0.982589,y:-0.668538,z:-1.00966},{x:-0.986014,y:-0.671694,z:-0.986617},{x:-1.00877,y:-0.667902,z:-0.982066},{x:-1.0194,y:-0.662403,z:-1.0023},{x:-1,y:-0.666667,z:-1}], faces:[[0,2,1],[0,3,2],[0,4,3],[0,5,4],[0,1,5],[1,2,7,6],[2,3,8,7],[3,4,9,8],[4,5,10,9],[5,1,6,10],[6,7,11],[7,8,11],[8,9,11],[9,10,11],[10,6,11]], color:'#0000ff', opacity:1},{vertices:[{x:-0.916667,y:-0.25,z:-0.930556},{x:-0.961183,y:-0.412581,z:-1.01765},{x:-0.899273,y:-0.429809,z:-0.988575},{x:-0.909547,y:-0.439277,z:-0.919439},{x:-0.977806,y:-0.4279,z:-0.905787},{x:-1.00972,y:-0.411401,z:-0.966486},{x:-0.951505,y:-0.424194,z:-0.959588}], faces:[[0,2,1],[0,3,2],[0,4,3],[0,5,4],[0,1,5],[1,2,6],[2,3,6],[3,4,6],[4,5,6],[5,1,6]], color:'#0000ff', opacity:1},{vertices:[{x:-1,y:-0.485556,z:-0.666667},{x:-1,y:-0.485556,z:-0.686667},{x:-0.980979,y:-0.485556,z:-0.672847},{x:-0.988244,y:-0.485556,z:-0.650486},{x:-1.01176,y:-0.485556,z:-0.650486},{x:-1.01902,y:-0.485556,z:-0.672847},{x:-1,y:-0.666667,z:-0.686667},{x:-0.980979,y:-0.666667,z:-0.672847},{x:-0.988244,y:-0.666667,z:-0.650486},{x:-1.01176,y:-0.666667,z:-0.650486},{x:-1.01902,y:-0.666667,z:-0.672847},{x:-1,y:-0.666667,z:-0.666667}], faces:[[0,2,1],[0,3,2],[0,4,3],[0,5,4],[0,1,5],[1,2,7,6],[2,3,8,7],[3,4,9,8],[4,5,10,9],[5,1,6,10],[6,7,11],[7,8,11],[8,9,11],[9,10,11],[10,6,11]], color:'#0000ff', opacity:1},{vertices:[{x:-1,y:-0.305556,z:-0.666667},{x:-1,y:-0.485556,z:-0.726667},{x:-0.942937,y:-0.485556,z:-0.685208},{x:-0.964733,y:-0.485556,z:-0.618126},{x:-1.03527,y:-0.485556,z:-0.618126},{x:-1.05706,y:-0.485556,z:-0.685208},{x:-1,y:-0.485556,z:-0.666667}], faces:[[0,2,1],[0,3,2],[0,4,3],[0,5,4],[0,1,5],[1,2,6],[2,3,6],[3,4,6],[4,5,6],[5,1,6]], color:'#0000ff', opacity:1},{vertices:[{x:-1.03638,y:-0.533285,z:-0.351522},{x:-1.03064,y:-0.534329,z:-0.370652},{x:-1.01707,y:-0.528149,z:-0.352471},{x:-1.03018,y:-0.529067,z:-0.332978},{x:-1.05186,y:-0.535814,z:-0.339112},{x:-1.05214,y:-0.539066,z:-0.362395},{x:-0.994261,y:-0.66771,z:-0.352464},{x:-0.980694,y:-0.661531,z:-0.334283},{x:-0.993807,y:-0.662449,z:-0.31479},{x:-1.01548,y:-0.669196,z:-0.320923},{x:-1.01576,y:-0.672447,z:-0.344207},{x:-1,y:-0.666667,z:-0.333333}], faces:[[0,2,1],[0,3,2],[0,4,3],[0,5,4],[0,1,5],[1,2,7,6],[2,3,8,7],[3,4,9,8],[4,5,10,9],[5,1,6,10],[6,7,11],[7,8,11],[8,9,11],[9,10,11],[10,6,11]], color:'#0000ff', opacity:1},{vertices:[{x:-1.08333,y:-0.361111,z:-0.375},{x:-1.01916,y:-0.536415,z:-0.408913},{x:-0.978459,y:-0.517878,z:-0.354371},{x:-1.0178,y:-0.520632,z:-0.295891},{x:-1.08281,y:-0.540873,z:-0.314291},{x:-1.08365,y:-0.550627,z:-0.384143},{x:-1.03638,y:-0.533285,z:-0.351522}], faces:[[0,2,1],[0,3,2],[0,4,3],[0,5,4],[0,1,5],[1,2,6],[2,3,6],[3,4,6],[4,5,6],[5,1,6]], color:'#0000ff', opacity:1},{vertices:[{x:-1.06848,y:-0.563939,z:-0.0228283},{x:-1.05758,y:-0.560303,z:-0.0391919},{x:-1.05301,y:-0.552441,z:-0.0175098},{x:-1.06983,y:-0.560469,z:-0.00317762},{x:-1.08479,y:-0.573293,z:-0.016002},{x:-1.07722,y:-0.573191,z:-0.0382601},{x:-0.989091,y:-0.66303,z:-0.0163636},{x:-0.984525,y:-0.655168,z:0.00531852},{x:-1.00134,y:-0.663196,z:0.0196507},{x:-1.01631,y:-0.676021,z:0.00682626},{x:-1.00873,y:-0.675918,z:-0.0154318},{x:-1,y:-0.666667,z:0}], faces:[[0,2,1],[0,3,2],[0,4,3],[0,5,4],[0,1,5],[1,2,7,6],[2,3,8,7],[3,4,9,8],[4,5,10,9],[5,1,6,10],[6,7,11],[7,8,11],[8,9,11],[9,10,11],[10,6,11]], color:'#0000ff', opacity:1},{vertices:[{x:-1.16667,y:-0.416667,z:-0.0555556},{x:-1.03576,y:-0.55303,z:-0.0719192},{x:-1.02206,y:-0.529443,z:-0.00687272},{x:-1.07252,y:-0.553528,z:0.0361237},{x:-1.1174,y:-0.592002,z:-0.00234951},{x:-1.09468,y:-0.591694,z:-0.0691237},{x:-1.06848,y:-0.563939,z:-0.0228283}], faces:[[0,2,1],[0,3,2],[0,4,3],[0,5,4],[0,1,5],[1,2,6],[2,3,6],[3,4,6],[4,5,6],[5,1,6]], color:'#0000ff', opacity:1},{vertices:[{x:-1.10913,y:-0.581787,z:0.315145},{x:-1.09817,y:-0.570309,z:0.302971},{x:-1.10012,y:-0.56782,z:0.326269},{x:-1.11452,y:-0.584633,z:0.334194},{x:-1.12147,y:-0.597514,z:0.315794},{x:-1.11137,y:-0.588661,z:0.296497},{x:-0.989043,y:-0.655188,z:0.321159},{x:-0.990991,y:-0.652699,z:0.344457},{x:-1.00539,y:-0.669513,z:0.352382},{x:-1.01234,y:-0.682393,z:0.333982},{x:-1.00224,y:-0.67354,z:0.314685},{x:-1,y:-0.666667,z:0.333333}], faces:[[0,2,1],[0,3,2],[0,4,3],[0,5,4],[0,1,5],[1,2,7,6],[2,3,8,7],[3,4,9,8],[4,5,10,9],[5,1,6,10],[6,7,11],[7,8,11],[8,9,11],[9,10,11],[10,6,11]], color:'#0000ff', opacity:1},{vertices:[{x:-1.25,y:-0.472222,z:0.291667},{x:-1.07626,y:-0.547353,z:0.278623},{x:-1.0821,y:-0.539886,z:0.348517},{x:-1.1253,y:-0.590326,z:0.372292},{x:-1.14615,y:-0.628966,z:0.317091},{x:-1.11584,y:-0.602407,z:0.259201},{x:-1.10913,y:-0.581787,z:0.315145}], faces:[[0,2,1],[0,3,2],[0,4,3],[0,5,4],[0,1,5],[1,2,6],[2,3,6],[3,4,6],[4,5,6],[5,1,6]], color:'#0000ff', opacity:1},{vertices:[{x:-1.16718,y:-0.597009,z:0.666667},{x:-1.16008,y:-0.579967,z:0.658974},{x:-1.16217,y:-0.584989,z:0.681848},{x:-1.17118,y:-0.606622,z:0.683741},{x:-1.17466,y:-0.614969,z:0.662038},{x:-1.1678,y:-0.598496,z:0.646732},{x:-0.992899,y:-0.649625,z:0.658974},{x:-0.994992,y:-0.654648,z:0.681848},{x:-1.00401,y:-0.67628,z:0.683741},{x:-1.00748,y:-0.684627,z:0.662038},{x:-1.00062,y:-0.668154,z:0.646732},{x:-1,y:-0.666667,z:0.666667}], faces:[[0,2,1],[0,3,2],[0,4,3],[0,5,4],[0,1,5],[1,2,7,6],[2,3,8,7],[3,4,9,8],[4,5,10,9],[5,1,6,10],[6,7,11],[7,8,11],[8,9,11],[9,10,11],[10,6,11]], color:'#0000ff', opacity:1},{vertices:[{x:-1.33333,y:-0.527778,z:0.666667},{x:-1.14588,y:-0.545884,z:0.64359},{x:-1.15216,y:-0.560951,z:0.712209},{x:-1.1792,y:-0.625848,z:0.717891},{x:-1.18963,y:-0.65089,z:0.652782},{x:-1.16904,y:-0.601469,z:0.606862},{x:-1.16718,y:-0.597009,z:0.666667}], faces:[[0,2,1],[0,3,2],[0,4,3],[0,5,4],[0,1,5],[1,2,6],[2,3,6],[3,4,6],[4,5,6],[5,1,6]], color:'#0000ff', opacity:1},{vertices:[{x:-1.24247,y:-0.618172,z:1.04041},{x:-1.23925,y:-0.598817,z:1.03654},{x:-1.23779,y:-0.609123,z:1.05762},{x:-1.24281,y:-0.631934,z:1.05492},{x:-1.24736,y:-0.635727,z:1.03217},{x:-1.24516,y:-0.615259,z:1.02081},{x:-0.996774,y:-0.647312,z:0.996129},{x:-0.995322,y:-0.657618,z:1.01721},{x:-1.00033,y:-0.680429,z:1.01451},{x:-1.00489,y:-0.684221,z:0.991755},{x:-1.00268,y:-0.663754,z:0.980396},{x:-1,y:-0.666667,z:1}], faces:[[0,2,1],[0,3,2],[0,4,3],[0,5,4],[0,1,5],[1,2,7,6],[2,3,8,7],[3,4,9,8],[4,5,10,9],[5,1,6,10],[6,7,11],[7,8,11],[8,9,11],[9,10,11],[10,6,11]], color:'#0000ff', opacity:1},{vertices:[{x:-1.41667,y:-0.583333,z:1.06944},{x:-1.2328,y:-0.560108,z:1.0288},{x:-1.22844,y:-0.591025,z:1.09205},{x:-1.24348,y:-0.659459,z:1.08394},{x:-1.25713,y:-0.670835,z:1.01568},{x:-1.25053,y:-0.609433,z:0.981601},{x:-1.24247,y:-0.618172,z:1.04041}], faces:[[0,2,1],[0,3,2],[0,4,3],[0,5,4],[0,1,5],[1,2,6],[2,3,6],[3,4,6],[4,5,6],[5,1,6]], color:'#0000ff', opacity:1},{vertices:[{x:-0.910476,y:-0.154286,z:-0.940317},{x:-0.91619,y:-0.145714,z:-0.95746},{x:-0.895938,y:-0.157072,z:-0.953767},{x:-0.895777,y:-0.164579,z:-0.931487},{x:-0.91593,y:-0.157861,z:-0.92141},{x:-0.928546,y:-0.146202,z:-0.937463},{x:-1.00571,y:-0.324762,z:-1.01714},{x:-0.985462,y:-0.336119,z:-1.01345},{x:-0.985301,y:-0.343627,z:-0.991169},{x:-1.00545,y:-0.336909,z:-0.981093},{x:-1.01807,y:-0.32525,z:-0.997146},{x:-1,y:-0.333333,z:-1}], faces:[[0,2,1],[0,3,2],[0,4,3],[0,5,4],[0,1,5],[1,2,7,6],[2,3,8,7],[3,4,9,8],[4,5,10,9],[5,1,6,10],[6,7,11],[7,8,11],[8,9,11],[9,10,11],[10,6,11]], color:'#0000ff', opacity:1},{vertices:[{x:-0.833333,y:-8.32667e-17,z:-0.888889},{x:-0.927619,y:-0.128571,z:-0.991746},{x:-0.866862,y:-0.162643,z:-0.980666},{x:-0.866378,y:-0.185165,z:-0.913825},{x:-0.926836,y:-0.165013,z:-0.883596},{x:-0.964685,y:-0.130036,z:-0.931754},{x:-0.910476,y:-0.154286,z:-0.940317}], faces:[[0,2,1],[0,3,2],[0,4,3],[0,5,4],[0,1,5],[1,2,6],[2,3,6],[3,4,6],[4,5,6],[5,1,6]], color:'#0000ff', opacity:1},{vertices:[{x:-0.963623,y:-0.199952,z:-0.648478},{x:-0.968038,y:-0.196139,z:-0.667609},{x:-0.947111,y:-0.202972,z:-0.659352},{x:-0.949004,y:-0.205631,z:-0.636068},{x:-0.9711,y:-0.200441,z:-0.629935},{x:-0.982863,y:-0.194575,z:-0.649428},{x:-1.00441,y:-0.329521,z:-0.685797},{x:-0.983488,y:-0.336354,z:-0.67754},{x:-0.98538,y:-0.339013,z:-0.654257},{x:-1.00748,y:-0.333823,z:-0.648123},{x:-1.01924,y:-0.327956,z:-0.667616},{x:-1,y:-0.333333,z:-0.666667}], faces:[[0,2,1],[0,3,2],[0,4,3],[0,5,4],[0,1,5],[1,2,7,6],[2,3,8,7],[3,4,9,8],[4,5,10,9],[5,1,6,10],[6,7,11],[7,8,11],[8,9,11],[9,10,11],[10,6,11]], color:'#0000ff', opacity:1},{vertices:[{x:-0.916667,y:-0.0277778,z:-0.625},{x:-0.976867,y:-0.188514,z:-0.70587},{x:-0.914088,y:-0.209013,z:-0.681099},{x:-0.919764,y:-0.21699,z:-0.611248},{x:-0.986052,y:-0.201421,z:-0.592848},{x:-1.02134,y:-0.183821,z:-0.651327},{x:-0.963623,y:-0.199952,z:-0.648478}], faces:[[0,2,1],[0,3,2],[0,4,3],[0,5,4],[0,1,5],[1,2,6],[2,3,6],[3,4,6],[4,5,6],[5,1,6]], color:'#0000ff', opacity:1},{vertices:[{x:-1,y:-0.235556,z:-0.333333},{x:-1,y:-0.235556,z:-0.353333},{x:-0.980979,y:-0.235556,z:-0.339514},{x:-0.988244,y:-0.235556,z:-0.317153},{x:-1.01176,y:-0.235556,z:-0.317153},{x:-1.01902,y:-0.235556,z:-0.339514},{x:-1,y:-0.333333,z:-0.353333},{x:-0.980979,y:-0.333333,z:-0.339514},{x:-0.988244,y:-0.333333,z:-0.317153},{x:-1.01176,y:-0.333333,z:-0.317153},{x:-1.01902,y:-0.333333,z:-0.339514},{x:-1,y:-0.333333,z:-0.333333}], faces:[[0,2,1],[0,3,2],[0,4,3],[0,5,4],[0,1,5],[1,2,7,6],[2,3,8,7],[3,4,9,8],[4,5,10,9],[5,1,6,10],[6,7,11],[7,8,11],[8,9,11],[9,10,11],[10,6,11]], color:'#0000ff', opacity:1},{vertices:[{x:-1,y:-0.0555556,z:-0.333333},{x:-1,y:-0.235556,z:-0.393333},{x:-0.942937,y:-0.235556,z:-0.351874},{x:-0.964733,y:-0.235556,z:-0.284792},{x:-1.03527,y:-0.235556,z:-0.284792},{x:-1.05706,y:-0.235556,z:-0.351874},{x:-1,y:-0.235556,z:-0.333333}], faces:[[0,2,1],[0,3,2],[0,4,3],[0,5,4],[0,1,5],[1,2,6],[2,3,6],[3,4,6],[4,5,6],[5,1,6]], color:'#0000ff', opacity:1},{vertices:[{x:-1.02649,y:-0.25386,z:-0.0044152},{x:-1.02018,y:-0.252807,z:-0.0233626},{x:-1.00752,y:-0.247528,z:-0.00426359},{x:-1.02108,y:-0.250999,z:0.0146259},{x:-1.04212,y:-0.258424,z:0.00720121},{x:-1.04156,y:-0.259541,z:-0.0162769},{x:-0.993684,y:-0.332281,z:-0.0189474},{x:-0.981029,y:-0.327001,z:0.000151614},{x:-0.994591,y:-0.330473,z:0.0190411},{x:-1.01563,y:-0.337897,z:0.0116164},{x:-1.01507,y:-0.339015,z:-0.0118617},{x:-1,y:-0.333333,z:0}], faces:[[0,2,1],[0,3,2],[0,4,3],[0,5,4],[0,1,5],[1,2,7,6],[2,3,8,7],[3,4,9,8],[4,5,10,9],[5,1,6,10],[6,7,11],[7,8,11],[8,9,11],[9,10,11],[10,6,11]], color:'#0000ff', opacity:1},{vertices:[{x:-1.08333,y:-0.0833333,z:-0.0138889},{x:-1.00754,y:-0.250702,z:-0.0612573},{x:-0.969579,y:-0.234864,z:-0.00396036},{x:-1.01027,y:-0.245277,z:0.052708},{x:-1.07337,y:-0.267551,z:0.030434},{x:-1.07169,y:-0.270904,z:-0.0400004},{x:-1.02649,y:-0.25386,z:-0.0044152}], faces:[[0,2,1],[0,3,2],[0,4,3],[0,5,4],[0,1,5],[1,2,6],[2,3,6],[3,4,6],[4,5,6],[5,1,6]], color:'#0000ff', opacity:1},{vertices:[{x:-1.05867,y:-0.255111,z:0.333333},{x:-1.04907,y:-0.247911,z:0.317333},{x:-1.04353,y:-0.243756,z:0.339802},{x:-1.05891,y:-0.255293,z:0.353331},{x:-1.07396,y:-0.266579,z:0.339224},{x:-1.06787,y:-0.262016,z:0.316976},{x:-0.9904,y:-0.326133,z:0.317333},{x:-0.98486,y:-0.321978,z:0.339802},{x:-1.00024,y:-0.333516,z:0.353331},{x:-1.01529,y:-0.344801,z:0.339224},{x:-1.00921,y:-0.340239,z:0.316976},{x:-1,y:-0.333333,z:0.333333}], faces:[[0,2,1],[0,3,2],[0,4,3],[0,5,4],[0,1,5],[1,2,7,6],[2,3,8,7],[3,4,9,8],[4,5,10,9],[5,1,6,10],[6,7,11],[7,8,11],[8,9,11],[9,10,11],[10,6,11]], color:'#0000ff', opacity:1},{vertices:[{x:-1.16667,y:-0.111111,z:0.333333},{x:-1.02987,y:-0.233511,z:0.285333},{x:-1.01325,y:-0.221046,z:0.352739},{x:-1.0594,y:-0.255658,z:0.393326},{x:-1.10454,y:-0.289514,z:0.351006},{x:-1.08629,y:-0.275827,z:0.284262},{x:-1.05867,y:-0.255111,z:0.333333}], faces:[[0,2,1],[0,3,2],[0,4,3],[0,5,4],[0,1,5],[1,2,6],[2,3,6],[3,4,6],[4,5,6],[5,1,6]], color:'#0000ff', opacity:1},{vertices:[{x:-1.10913,y:-0.248454,z:0.684855},{x:-1.1007,y:-0.235009,z:0.672681},{x:-1.09781,y:-0.236284,z:0.695979},{x:-1.11056,y:-0.254377,z:0.703904},{x:-1.12134,y:-0.264285,z:0.685504},{x:-1.11524,y:-0.252315,z:0.666207},{x:-0.991572,y:-0.319889,z:0.654493},{x:-0.98868,y:-0.321163,z:0.677791},{x:-1.00143,y:-0.339257,z:0.685716},{x:-1.0122,y:-0.349164,z:0.667315},{x:-1.00611,y:-0.337194,z:0.648019},{x:-1,y:-0.333333,z:0.666667}], faces:[[0,2,1],[0,3,2],[0,4,3],[0,5,4],[0,1,5],[1,2,7,6],[2,3,8,7],[3,4,9,8],[4,5,10,9],[5,1,6,10],[6,7,11],[7,8,11],[8,9,11],[9,10,11],[10,6,11]], color:'#0000ff', opacity:1},{vertices:[{x:-1.25,y:-0.138889,z:0.708333},{x:-1.08385,y:-0.20812,z:0.648333},{x:-1.07517,y:-0.211943,z:0.718228},{x:-1.11343,y:-0.266224,z:0.742002},{x:-1.14575,y:-0.295947,z:0.686801},{x:-1.12746,y:-0.260037,z:0.628911},{x:-1.10913,y:-0.248454,z:0.684855}], faces:[[0,2,1],[0,3,2],[0,4,3],[0,5,4],[0,1,5],[1,2,6],[2,3,6],[3,4,6],[4,5,6],[5,1,6]], color:'#0000ff', opacity:1},{vertices:[{x:-1.17905,y:-0.24381,z:1.05968},{x:-1.17333,y:-0.226667,z:1.05111},{x:-1.16913,y:-0.233077,z:1.07334},{x:-1.17863,y:-0.25432,z:1.07669},{x:-1.18871,y:-0.261037,z:1.05654},{x:-1.18543,y:-0.243947,z:1.04073},{x:-0.994286,y:-0.31619,z:0.991429},{x:-0.990082,y:-0.322601,z:1.01366},{x:-0.999585,y:-0.343843,z:1.01701},{x:-1.00966,y:-0.350561,z:0.996858},{x:-1.00639,y:-0.333471,z:0.981047},{x:-1,y:-0.333333,z:1}], faces:[[0,2,1],[0,3,2],[0,4,3],[0,5,4],[0,1,5],[1,2,7,6],[2,3,8,7],[3,4,9,8],[4,5,10,9],[5,1,6,10],[6,7,11],[7,8,11],[8,9,11],[9,10,11],[10,6,11]], color:'#0000ff', opacity:1},{vertices:[{x:-1.33333,y:-0.166667,z:1.11111},{x:-1.1619,y:-0.192381,z:1.03397},{x:-1.14929,y:-0.211613,z:1.10065},{x:-1.1778,y:-0.27534,z:1.11071},{x:-1.20803,y:-0.295492,z:1.05026},{x:-1.19821,y:-0.244221,z:1.00282},{x:-1.17905,y:-0.24381,z:1.05968}], faces:[[0,2,1],[0,3,2],[0,4,3],[0,5,4],[0,1,5],[1,2,6],[2,3,6],[3,4,6],[4,5,6],[5,1,6]], color:'#0000ff', opacity:1},{vertices:[{x:-0.87,y:0.13,z:-0.935},{x:-0.876667,y:0.143333,z:-0.948333},{x:-0.859379,y:0.12778,z:-0.951801},{x:-0.856769,y:0.115295,z:-0.93205},{x:-0.872444,y:0.123132,z:-0.916376},{x:-0.884741,y:0.140461,z:-0.926439},{x:-1.00667,y:0.0133333,z:-1.01333},{x:-0.989379,y:-0.00222015,z:-1.0168},{x:-0.986769,y:-0.0147055,z:-0.99705},{x:-1.00244,y:-0.00686832,z:-0.981376},{x:-1.01474,y:0.0104606,z:-0.991439},{x:-1,y:0,z:-1}], faces:[[0,2,1],[0,3,2],[0,4,3],[0,5,4],[0,1,5],[1,2,7,6],[2,3,8,7],[3,4,9,8],[4,5,10,9],[5,1,6,10],[6,7,11],[7,8,11],[8,9,11],[9,10,11],[10,6,11]], color:'#0000ff', opacity:1},{vertices:[{x:-0.75,y:0.25,z:-0.875},{x:-0.89,y:0.17,z:-0.975},{x:-0.838138,y:0.12334,z:-0.985403},{x:-0.830308,y:0.0858836,z:-0.926151},{x:-0.877331,y:0.109395,z:-0.879128},{x:-0.914223,y:0.161382,z:-0.909318},{x:-0.87,y:0.13,z:-0.935}], faces:[[0,2,1],[0,3,2],[0,4,3],[0,5,4],[0,1,5],[1,2,6],[2,3,6],[3,4,6],[4,5,6],[5,1,6]], color:'#0000ff', opacity:1},{vertices:[{x:-0.931515,y:0.102727,z:-0.643838},{x:-0.939068,y:0.111399,z:-0.660202},{x:-0.919616,y:0.0982241,z:-0.65927},{x:-0.916609,y:0.0912728,z:-0.637012},{x:-0.934201,y:0.100151,z:-0.624188},{x:-0.948082,y:0.11259,z:-0.63852},{x:-1.00755,y:0.00867133,z:-0.68303},{x:-0.988101,y:-0.00450322,z:-0.682098},{x:-0.985094,y:-0.0114545,z:-0.65984},{x:-1.00269,y:-0.00257603,z:-0.647016},{x:-1.01657,y:0.00986239,z:-0.661348},{x:-1,y:0,z:-0.666667}], faces:[[0,2,1],[0,3,2],[0,4,3],[0,5,4],[0,1,5],[1,2,7,6],[2,3,8,7],[3,4,9,8],[4,5,10,9],[5,1,6,10],[6,7,11],[7,8,11],[8,9,11],[9,10,11],[10,6,11]], color:'#0000ff', opacity:1},{vertices:[{x:-0.833333,y:0.25,z:-0.611111},{x:-0.954172,y:0.128741,z:-0.692929},{x:-0.895819,y:0.0892176,z:-0.690134},{x:-0.886796,y:0.0683639,z:-0.62336},{x:-0.939574,y:0.0949992,z:-0.584886},{x:-0.981214,y:0.132314,z:-0.627883},{x:-0.931515,y:0.102727,z:-0.643838}], faces:[[0,2,1],[0,3,2],[0,4,3],[0,5,4],[0,1,5],[1,2,6],[2,3,6],[3,4,6],[4,5,6],[5,1,6]], color:'#0000ff', opacity:1},{vertices:[{x:-0.973509,y:0.0794737,z:-0.328918},{x:-0.979193,y:0.0824211,z:-0.347865},{x:-0.958046,y:0.0749785,z:-0.34078},{x:-0.958268,y:0.0737481,z:-0.317302},{x:-0.979552,y:0.0804303,z:-0.309877},{x:-0.992484,y:0.0857905,z:-0.328767},{x:-1.00568,y:0.00294737,z:-0.352281},{x:-0.984537,y:-0.00449522,z:-0.345195},{x:-0.984759,y:-0.00572557,z:-0.321717},{x:-1.00604,y:0.000956624,z:-0.314292},{x:-1.01898,y:0.00631679,z:-0.333182},{x:-1,y:0,z:-0.333333}], faces:[[0,2,1],[0,3,2],[0,4,3],[0,5,4],[0,1,5],[1,2,7,6],[2,3,8,7],[3,4,9,8],[4,5,10,9],[5,1,6,10],[6,7,11],[7,8,11],[8,9,11],[9,10,11],[10,6,11]], color:'#0000ff', opacity:1},{vertices:[{x:-0.916667,y:0.25,z:-0.319444},{x:-0.990561,y:0.0883158,z:-0.38576},{x:-0.927121,y:0.065988,z:-0.364503},{x:-0.927787,y:0.062297,z:-0.294069},{x:-0.991639,y:0.0823436,z:-0.271795},{x:-1.03044,y:0.0984241,z:-0.328463},{x:-0.973509,y:0.0794737,z:-0.328918}], faces:[[0,2,1],[0,3,2],[0,4,3],[0,5,4],[0,1,5],[1,2,6],[2,3,6],[3,4,6],[4,5,6],[5,1,6]], color:'#0000ff', opacity:1},{vertices:[{x:-1,y:0.07,z:4.28626e-18},{x:-1,y:0.07,z:-0.02},{x:-0.980979,y:0.07,z:-0.00618034},{x:-0.988244,y:0.07,z:0.0161803},{x:-1.01176,y:0.07,z:0.0161803},{x:-1.01902,y:0.07,z:-0.00618034},{x:-1,y:1.22465e-18,z:-0.02},{x:-0.980979,y:3.78437e-19,z:-0.00618034},{x:-0.988244,y:-9.9076e-19,z:0.0161803},{x:-1.01176,y:-9.9076e-19,z:0.0161803},{x:-1.01902,y:3.78437e-19,z:-0.00618034},{x:-1,y:0,z:0}], faces:[[0,2,1],[0,3,2],[0,4,3],[0,5,4],[0,1,5],[1,2,7,6],[2,3,8,7],[3,4,9,8],[4,5,10,9],[5,1,6,10],[6,7,11],[7,8,11],[8,9,11],[9,10,11],[10,6,11]], color:'#0000ff', opacity:1},{vertices:[{x:-1,y:0.25,z:1.53081e-17},{x:-1,y:0.07,z:-0.06},{x:-0.942937,y:0.07,z:-0.018541},{x:-0.964733,y:0.07,z:0.048541},{x:-1.03527,y:0.07,z:0.048541},{x:-1.05706,y:0.07,z:-0.018541},{x:-1,y:0.07,z:4.28626e-18}], faces:[[0,2,1],[0,3,2],[0,4,3],[0,5,4],[0,1,5],[1,2,6],[2,3,6],[3,4,6],[4,5,6],[5,1,6]], color:'#0000ff', opacity:1},{vertices:[{x:-1.02649,y:0.0794737,z:0.337749},{x:-1.02081,y:0.0824211,z:0.318801},{x:-1.00752,y:0.0857905,z:0.3379},{x:-1.02045,y:0.0804303,z:0.35679},{x:-1.04173,y:0.0737481,z:0.349365},{x:-1.04195,y:0.0749785,z:0.325887},{x:-0.994316,y:0.00294737,z:0.314386},{x:-0.981024,y:0.00631679,z:0.333485},{x:-0.993957,y:0.000956624,z:0.352374},{x:-1.01524,y:-0.00572557,z:0.34495},{x:-1.01546,y:-0.00449522,z:0.321472},{x:-1,y:0,z:0.333333}], faces:[[0,2,1],[0,3,2],[0,4,3],[0,5,4],[0,1,5],[1,2,7,6],[2,3,8,7],[3,4,9,8],[4,5,10,9],[5,1,6,10],[6,7,11],[7,8,11],[8,9,11],[9,10,11],[10,6,11]], color:'#0000ff', opacity:1},{vertices:[{x:-1.08333,y:0.25,z:0.347222},{x:-1.00944,y:0.0883158,z:0.280906},{x:-0.969564,y:0.0984241,z:0.338203},{x:-1.00836,y:0.0823436,z:0.394872},{x:-1.07221,y:0.062297,z:0.372598},{x:-1.07288,y:0.065988,z:0.302163},{x:-1.02649,y:0.0794737,z:0.337749}], faces:[[0,2,1],[0,3,2],[0,4,3],[0,5,4],[0,1,5],[1,2,6],[2,3,6],[3,4,6],[4,5,6],[5,1,6]], color:'#0000ff', opacity:1},{vertices:[{x:-1.06848,y:0.102727,z:0.689495},{x:-1.06093,y:0.111399,z:0.673131},{x:-1.05192,y:0.11259,z:0.694813},{x:-1.0658,y:0.100151,z:0.709146},{x:-1.08339,y:0.0912728,z:0.696321},{x:-1.08038,y:0.0982241,z:0.674063},{x:-0.992448,y:0.00867133,z:0.650303},{x:-0.983434,y:0.00986239,z:0.671985},{x:-0.997314,y:-0.00257603,z:0.686317},{x:-1.01491,y:-0.0114545,z:0.673493},{x:-1.0119,y:-0.00450322,z:0.651235},{x:-1,y:0,z:0.666667}], faces:[[0,2,1],[0,3,2],[0,4,3],[0,5,4],[0,1,5],[1,2,7,6],[2,3,8,7],[3,4,9,8],[4,5,10,9],[5,1,6,10],[6,7,11],[7,8,11],[8,9,11],[9,10,11],[10,6,11]], color:'#0000ff', opacity:1},{vertices:[{x:-1.16667,y:0.25,z:0.722222},{x:-1.04583,y:0.128741,z:0.640404},{x:-1.01879,y:0.132314,z:0.705451},{x:-1.06043,y:0.0949992,z:0.748447},{x:-1.1132,y:0.0683639,z:0.709974},{x:-1.10418,y:0.0892176,z:0.6432},{x:-1.06848,y:0.102727,z:0.689495}], faces:[[0,2,1],[0,3,2],[0,4,3],[0,5,4],[0,1,5],[1,2,6],[2,3,6],[3,4,6],[4,5,6],[5,1,6]], color:'#0000ff', opacity:1},{vertices:[{x:-1.13,y:0.13,z:1.065},{x:-1.12333,y:0.143333,z:1.05167},{x:-1.11526,y:0.140461,z:1.07356},{x:-1.12756,y:0.123132,z:1.08362},{x:-1.14323,y:0.115295,z:1.06795},{x:-1.14062,y:0.12778,z:1.0482},{x:-0.993333,y:0.0133333,z:0.986667},{x:-0.985259,y:0.0104606,z:1.00856},{x:-0.997556,y:-0.00686832,z:1.01862},{x:-1.01323,y:-0.0147055,z:1.00295},{x:-1.01062,y:-0.00222015,z:0.983199},{x:-1,y:0,z:1}], faces:[[0,2,1],[0,3,2],[0,4,3],[0,5,4],[0,1,5],[1,2,7,6],[2,3,8,7],[3,4,9,8],[4,5,10,9],[5,1,6,10],[6,7,11],[7,8,11],[8,9,11],[9,10,11],[10,6,11]], color:'#0000ff', opacity:1},{vertices:[{x:-1.25,y:0.25,z:1.125},{x:-1.11,y:0.17,z:1.025},{x:-1.08578,y:0.161382,z:1.09068},{x:-1.12267,y:0.109395,z:1.12087},{x:-1.16969,y:0.0858836,z:1.07385},{x:-1.16186,y:0.12334,z:1.0146},{x:-1.13,y:0.13,z:1.065}], faces:[[0,2,1],[0,3,2],[0,4,3],[0,5,4],[0,1,5],[1,2,6],[2,3,6],[3,4,6],[4,5,6],[5,1,6]], color:'#0000ff', opacity:1},{vertices:[{x:-0.820952,y:0.422857,z:-0.940317},{x:-0.826667,y:0.44,z:-0.948889},{x:-0.814566,y:0.42272,z:-0.95927},{x:-0.811291,y:0.40563,z:-0.943459},{x:-0.821368,y:0.412347,z:-0.923307},{x:-0.83087,y:0.433589,z:-0.926662},{x:-1.00571,y:0.350476,z:-1.00857},{x:-0.993614,y:0.333196,z:-1.01895},{x:-0.990339,y:0.316106,z:-1.00314},{x:-1.00042,y:0.322823,z:-0.982989},{x:-1.00992,y:0.344065,z:-0.986345},{x:-1,y:0.333333,z:-1}], faces:[[0,2,1],[0,3,2],[0,4,3],[0,5,4],[0,1,5],[1,2,7,6],[2,3,8,7],[3,4,9,8],[4,5,10,9],[5,1,6,10],[6,7,11],[7,8,11],[8,9,11],[9,10,11],[10,6,11]], color:'#0000ff', opacity:1},{vertices:[{x:-0.666667,y:0.5,z:-0.888889},{x:-0.838095,y:0.474286,z:-0.966032},{x:-0.801794,y:0.422446,z:-0.997175},{x:-0.791969,y:0.371174,z:-0.949743},{x:-0.822198,y:0.391327,z:-0.889285},{x:-0.850706,y:0.455053,z:-0.899352},{x:-0.820952,y:0.422857,z:-0.940317}], faces:[[0,2,1],[0,3,2],[0,4,3],[0,5,4],[0,1,5],[1,2,6],[2,3,6],[3,4,6],[4,5,6],[5,1,6]], color:'#0000ff', opacity:1},{vertices:[{x:-0.89087,y:0.418213,z:-0.648478},{x:-0.899298,y:0.431657,z:-0.660652},{x:-0.884759,y:0.414352,z:-0.667126},{x:-0.878665,y:0.402382,z:-0.647829},{x:-0.889437,y:0.412289,z:-0.629429},{x:-0.902189,y:0.430383,z:-0.637354},{x:-1.00843,y:0.346778,z:-0.678841},{x:-0.993889,y:0.329472,z:-0.685315},{x:-0.987795,y:0.317502,z:-0.666018},{x:-0.998568,y:0.32741,z:-0.647618},{x:-1.01132,y:0.345504,z:-0.655543},{x:-1,y:0.333333,z:-0.666667}], faces:[[0,2,1],[0,3,2],[0,4,3],[0,5,4],[0,1,5],[1,2,7,6],[2,3,8,7],[3,4,9,8],[4,5,10,9],[5,1,6,10],[6,7,11],[7,8,11],[8,9,11],[9,10,11],[10,6,11]], color:'#0000ff', opacity:1},{vertices:[{x:-0.75,y:0.527778,z:-0.625},{x:-0.916154,y:0.458547,z:-0.685},{x:-0.872537,y:0.40663,z:-0.704422},{x:-0.854255,y:0.37072,z:-0.646532},{x:-0.886573,y:0.400443,z:-0.591331},{x:-0.924829,y:0.454723,z:-0.615106},{x:-0.89087,y:0.418213,z:-0.648478}], faces:[[0,2,1],[0,3,2],[0,4,3],[0,5,4],[0,1,5],[1,2,6],[2,3,6],[3,4,6],[4,5,6],[5,1,6]], color:'#0000ff', opacity:1},{vertices:[{x:-0.941333,y:0.411556,z:-0.333333},{x:-0.950933,y:0.418756,z:-0.349333},{x:-0.932126,y:0.40465,z:-0.34969},{x:-0.926043,y:0.400088,z:-0.327442},{x:-0.94109,y:0.411373,z:-0.313336},{x:-0.956473,y:0.422911,z:-0.326865},{x:-1.0096,y:0.340533,z:-0.349333},{x:-0.990793,y:0.326428,z:-0.34969},{x:-0.98471,y:0.321866,z:-0.327442},{x:-0.999757,y:0.333151,z:-0.313336},{x:-1.01514,y:0.344688,z:-0.326865},{x:-1,y:0.333333,z:-0.333333}], faces:[[0,2,1],[0,3,2],[0,4,3],[0,5,4],[0,1,5],[1,2,7,6],[2,3,8,7],[3,4,9,8],[4,5,10,9],[5,1,6,10],[6,7,11],[7,8,11],[8,9,11],[9,10,11],[10,6,11]], color:'#0000ff', opacity:1},{vertices:[{x:-0.833333,y:0.555556,z:-0.333333},{x:-0.970133,y:0.433156,z:-0.381333},{x:-0.913712,y:0.39084,z:-0.382404},{x:-0.895463,y:0.377153,z:-0.315661},{x:-0.940605,y:0.411009,z:-0.27334},{x:-0.986754,y:0.445621,z:-0.313928},{x:-0.941333,y:0.411556,z:-0.333333}], faces:[[0,2,1],[0,3,2],[0,4,3],[0,5,4],[0,1,5],[1,2,6],[2,3,6],[3,4,6],[4,5,6],[5,1,6]], color:'#0000ff', opacity:1},{vertices:[{x:-0.973509,y:0.412807,z:-0.0044152},{x:-0.979825,y:0.41386,z:-0.0233626},{x:-0.958442,y:0.407126,z:-0.0162769},{x:-0.957881,y:0.408243,z:0.00720121},{x:-0.978917,y:0.415668,z:0.0146259},{x:-0.992479,y:0.419139,z:-0.00426359},{x:-1.00632,y:0.334386,z:-0.0189474},{x:-0.984933,y:0.327652,z:-0.0118617},{x:-0.984372,y:0.328769,z:0.0116164},{x:-1.00541,y:0.336194,z:0.0190411},{x:-1.01897,y:0.339665,z:0.000151614},{x:-1,y:0.333333,z:0}], faces:[[0,2,1],[0,3,2],[0,4,3],[0,5,4],[0,1,5],[1,2,7,6],[2,3,8,7],[3,4,9,8],[4,5,10,9],[5,1,6,10],[6,7,11],[7,8,11],[8,9,11],[9,10,11],[10,6,11]], color:'#0000ff', opacity:1},{vertices:[{x:-0.916667,y:0.583333,z:-0.0138889},{x:-0.992456,y:0.415965,z:-0.0612573},{x:-0.928307,y:0.395763,z:-0.0400004},{x:-0.926625,y:0.399115,z:0.030434},{x:-0.989735,y:0.421389,z:0.052708},{x:-1.03042,y:0.431803,z:-0.00396036},{x:-0.973509,y:0.412807,z:-0.0044152}], faces:[[0,2,1],[0,3,2],[0,4,3],[0,5,4],[0,1,5],[1,2,6],[2,3,6],[3,4,6],[4,5,6],[5,1,6]], color:'#0000ff', opacity:1},{vertices:[{x:-1,y:0.431111,z:0.333333},{x:-1,y:0.431111,z:0.313333},{x:-0.980979,y:0.431111,z:0.327153},{x:-0.988244,y:0.431111,z:0.349514},{x:-1.01176,y:0.431111,z:0.349514},{x:-1.01902,y:0.431111,z:0.327153},{x:-1,y:0.333333,z:0.313333},{x:-0.980979,y:0.333333,z:0.327153},{x:-0.988244,y:0.333333,z:0.349514},{x:-1.01176,y:0.333333,z:0.349514},{x:-1.01902,y:0.333333,z:0.327153},{x:-1,y:0.333333,z:0.333333}], faces:[[0,2,1],[0,3,2],[0,4,3],[0,5,4],[0,1,5],[1,2,7,6],[2,3,8,7],[3,4,9,8],[4,5,10,9],[5,1,6,10],[6,7,11],[7,8,11],[8,9,11],[9,10,11],[10,6,11]], color:'#0000ff', opacity:1},{vertices:[{x:-1,y:0.611111,z:0.333333},{x:-1,y:0.431111,z:0.273333},{x:-0.942937,y:0.431111,z:0.314792},{x:-0.964733,y:0.431111,z:0.381874},{x:-1.03527,y:0.431111,z:0.381874},{x:-1.05706,y:0.431111,z:0.314792},{x:-1,y:0.431111,z:0.333333}], faces:[[0,2,1],[0,3,2],[0,4,3],[0,5,4],[0,1,5],[1,2,6],[2,3,6],[3,4,6],[4,5,6],[5,1,6]], color:'#0000ff', opacity:1},{vertices:[{x:-1.03638,y:0.466715,z:0.684855},{x:-1.03196,y:0.470528,z:0.665725},{x:-1.01714,y:0.472092,z:0.683905},{x:-1.0289,y:0.466225,z:0.703399},{x:-1.051,y:0.461036,z:0.697265},{x:-1.05289,y:0.463695,z:0.673981},{x:-0.995585,y:0.337146,z:0.647536},{x:-0.98076,y:0.33871,z:0.665717},{x:-0.992524,y:0.332844,z:0.68521},{x:-1.01462,y:0.327654,z:0.679077},{x:-1.01651,y:0.330313,z:0.655793},{x:-1,y:0.333333,z:0.666667}], faces:[[0,2,1],[0,3,2],[0,4,3],[0,5,4],[0,1,5],[1,2,7,6],[2,3,8,7],[3,4,9,8],[4,5,10,9],[5,1,6,10],[6,7,11],[7,8,11],[8,9,11],[9,10,11],[10,6,11]], color:'#0000ff', opacity:1},{vertices:[{x:-1.08333,y:0.638889,z:0.708333},{x:-1.02313,y:0.478153,z:0.627464},{x:-0.978656,y:0.482845,z:0.682006},{x:-1.01395,y:0.465246,z:0.740486},{x:-1.08024,y:0.449677,z:0.722085},{x:-1.08591,y:0.457654,z:0.652234},{x:-1.03638,y:0.466715,z:0.684855}], faces:[[0,2,1],[0,3,2],[0,4,3],[0,5,4],[0,1,5],[1,2,6],[2,3,6],[3,4,6],[4,5,6],[5,1,6]], color:'#0000ff', opacity:1},{vertices:[{x:-1.08952,y:0.512381,z:1.05968},{x:-1.08381,y:0.520952,z:1.04254},{x:-1.07145,y:0.520464,z:1.06254},{x:-1.08407,y:0.508805,z:1.07859},{x:-1.10422,y:0.502088,z:1.06851},{x:-1.10406,y:0.509595,z:1.04623},{x:-0.994286,y:0.341905,z:0.982857},{x:-0.98193,y:0.341417,z:1.00285},{x:-0.994547,y:0.329758,z:1.01891},{x:-1.0147,y:0.32304,z:1.00883},{x:-1.01454,y:0.330547,z:0.986551},{x:-1,y:0.333333,z:1}], faces:[[0,2,1],[0,3,2],[0,4,3],[0,5,4],[0,1,5],[1,2,7,6],[2,3,8,7],[3,4,9,8],[4,5,10,9],[5,1,6,10],[6,7,11],[7,8,11],[8,9,11],[9,10,11],[10,6,11]], color:'#0000ff', opacity:1},{vertices:[{x:-1.16667,y:0.666667,z:1.11111},{x:-1.07238,y:0.538095,z:1.00825},{x:-1.03531,y:0.536631,z:1.06825},{x:-1.07316,y:0.501654,z:1.1164},{x:-1.13362,y:0.481501,z:1.08617},{x:-1.13314,y:0.504023,z:1.01933},{x:-1.08952,y:0.512381,z:1.05968}], faces:[[0,2,1],[0,3,2],[0,4,3],[0,5,4],[0,1,5],[1,2,6],[2,3,6],[3,4,6],[4,5,6],[5,1,6]], color:'#0000ff', opacity:1},{vertices:[{x:-0.757527,y:0.715161,z:-0.959588},{x:-0.760753,y:0.734516,z:-0.963459},{x:-0.754842,y:0.718074,z:-0.979192},{x:-0.752642,y:0.697607,z:-0.967833},{x:-0.757192,y:0.701399,z:-0.94508},{x:-0.762205,y:0.72421,z:-0.942376},{x:-1.00323,y:0.686022,z:-1.00387},{x:-0.997315,y:0.66958,z:-1.0196},{x:-0.995115,y:0.649112,z:-1.00824},{x:-0.999666,y:0.652904,z:-0.985492},{x:-1.00468,y:0.675716,z:-0.982789},{x:-1,y:0.666667,z:-1}], faces:[[0,2,1],[0,3,2],[0,4,3],[0,5,4],[0,1,5],[1,2,7,6],[2,3,8,7],[3,4,9,8],[4,5,10,9],[5,1,6,10],[6,7,11],[7,8,11],[8,9,11],[9,10,11],[10,6,11]], color:'#0000ff', opacity:1},{vertices:[{x:-0.583333,y:0.75,z:-0.930556},{x:-0.767204,y:0.773226,z:-0.971201},{x:-0.749473,y:0.7239,z:-1.0184},{x:-0.742872,y:0.662498,z:-0.984322},{x:-0.756524,y:0.673874,z:-0.916063},{x:-0.771562,y:0.742308,z:-0.907954},{x:-0.757527,y:0.715161,z:-0.959588}], faces:[[0,2,1],[0,3,2],[0,4,3],[0,5,4],[0,1,5],[1,2,6],[2,3,6],[3,4,6],[4,5,6],[5,1,6]], color:'#0000ff', opacity:1},{vertices:[{x:-0.832821,y:0.736325,z:-0.666667},{x:-0.839921,y:0.753366,z:-0.674359},{x:-0.832201,y:0.734838,z:-0.686602},{x:-0.825337,y:0.718364,z:-0.671295},{x:-0.828815,y:0.726712,z:-0.649592},{x:-0.837828,y:0.748344,z:-0.651486},{x:-1.0071,y:0.683708,z:-0.674359},{x:-0.99938,y:0.66518,z:-0.686602},{x:-0.992516,y:0.648706,z:-0.671295},{x:-0.995995,y:0.657053,z:-0.649592},{x:-1.00501,y:0.678686,z:-0.651486},{x:-1,y:0.666667,z:-0.666667}], faces:[[0,2,1],[0,3,2],[0,4,3],[0,5,4],[0,1,5],[1,2,7,6],[2,3,8,7],[3,4,9,8],[4,5,10,9],[5,1,6,10],[6,7,11],[7,8,11],[8,9,11],[9,10,11],[10,6,11]], color:'#0000ff', opacity:1},{vertices:[{x:-0.666667,y:0.805556,z:-0.666667},{x:-0.854122,y:0.787449,z:-0.689744},{x:-0.830962,y:0.731864,z:-0.726472},{x:-0.81037,y:0.682444,z:-0.680551},{x:-0.820804,y:0.707485,z:-0.615443},{x:-0.847844,y:0.772382,z:-0.621124},{x:-0.832821,y:0.736325,z:-0.666667}], faces:[[0,2,1],[0,3,2],[0,4,3],[0,5,4],[0,1,5],[1,2,6],[2,3,6],[3,4,6],[4,5,6],[5,1,6]], color:'#0000ff', opacity:1},{vertices:[{x:-0.89087,y:0.751546,z:-0.351522},{x:-0.901826,y:0.763024,z:-0.363696},{x:-0.888632,y:0.744673,z:-0.37017},{x:-0.87853,y:0.73582,z:-0.350873},{x:-0.885481,y:0.7487,z:-0.332473},{x:-0.899879,y:0.765513,z:-0.340398},{x:-1.01096,y:0.678145,z:-0.345507},{x:-0.997762,y:0.659793,z:-0.351981},{x:-0.98766,y:0.65094,z:-0.332685},{x:-0.994612,y:0.663821,z:-0.314284},{x:-1.00901,y:0.680634,z:-0.322209},{x:-1,y:0.666667,z:-0.333333}], faces:[[0,2,1],[0,3,2],[0,4,3],[0,5,4],[0,1,5],[1,2,7,6],[2,3,8,7],[3,4,9,8],[4,5,10,9],[5,1,6,10],[6,7,11],[7,8,11],[8,9,11],[9,10,11],[10,6,11]], color:'#0000ff', opacity:1},{vertices:[{x:-0.75,y:0.861111,z:-0.375},{x:-0.923739,y:0.785981,z:-0.388043},{x:-0.884156,y:0.730926,z:-0.407466},{x:-0.853851,y:0.704367,z:-0.349575},{x:-0.874704,y:0.743008,z:-0.294375},{x:-0.917898,y:0.793448,z:-0.318149},{x:-0.89087,y:0.751546,z:-0.351522}], faces:[[0,2,1],[0,3,2],[0,4,3],[0,5,4],[0,1,5],[1,2,6],[2,3,6],[3,4,6],[4,5,6],[5,1,6]], color:'#0000ff', opacity:1},{vertices:[{x:-0.931515,y:0.769394,z:-0.0228283},{x:-0.942424,y:0.77303,z:-0.0391919},{x:-0.922782,y:0.760142,z:-0.0382601},{x:-0.915209,y:0.76004,z:-0.016002},{x:-0.93017,y:0.772864,z:-0.00317762},{x:-0.946991,y:0.780893,z:-0.0175098},{x:-1.01091,y:0.670303,z:-0.0163636},{x:-0.991267,y:0.657415,z:-0.0154318},{x:-0.983693,y:0.657313,z:0.00682626},{x:-0.998655,y:0.670137,z:0.0196507},{x:-1.01548,y:0.678166,z:0.00531852},{x:-1,y:0.666667,z:0}], faces:[[0,2,1],[0,3,2],[0,4,3],[0,5,4],[0,1,5],[1,2,7,6],[2,3,8,7],[3,4,9,8],[4,5,10,9],[5,1,6,10],[6,7,11],[7,8,11],[8,9,11],[9,10,11],[10,6,11]], color:'#0000ff', opacity:1},{vertices:[{x:-0.833333,y:0.916667,z:-0.0555556},{x:-0.964242,y:0.780303,z:-0.0719192},{x:-0.905315,y:0.74164,z:-0.0691237},{x:-0.882596,y:0.741332,z:-0.00234951},{x:-0.927481,y:0.779805,z:0.0361237},{x:-0.977942,y:0.803891,z:-0.00687272},{x:-0.931515,y:0.769394,z:-0.0228283}], faces:[[0,2,1],[0,3,2],[0,4,3],[0,5,4],[0,1,5],[1,2,6],[2,3,6],[3,4,6],[4,5,6],[5,1,6]], color:'#0000ff', opacity:1},{vertices:[{x:-0.963623,y:0.800048,z:0.315145},{x:-0.969362,y:0.799005,z:0.296014},{x:-0.947864,y:0.794268,z:0.304271},{x:-0.948144,y:0.797519,z:0.327555},{x:-0.969816,y:0.804266,z:0.333688},{x:-0.982929,y:0.805184,z:0.314195},{x:-1.00574,y:0.665623,z:0.314203},{x:-0.984241,y:0.660886,z:0.32246},{x:-0.984521,y:0.664137,z:0.345743},{x:-1.00619,y:0.670884,z:0.351877},{x:-1.01931,y:0.671802,z:0.332384},{x:-1,y:0.666667,z:0.333333}], faces:[[0,2,1],[0,3,2],[0,4,3],[0,5,4],[0,1,5],[1,2,7,6],[2,3,8,7],[3,4,9,8],[4,5,10,9],[5,1,6,10],[6,7,11],[7,8,11],[8,9,11],[9,10,11],[10,6,11]], color:'#0000ff', opacity:1},{vertices:[{x:-0.916667,y:0.972222,z:0.291667},{x:-0.980841,y:0.796918,z:0.257754},{x:-0.916346,y:0.782706,z:0.282524},{x:-0.917187,y:0.792461,z:0.352375},{x:-0.982201,y:0.812701,z:0.370776},{x:-1.02154,y:0.815456,z:0.312296},{x:-0.963623,y:0.800048,z:0.315145}], faces:[[0,2,1],[0,3,2],[0,4,3],[0,5,4],[0,1,5],[1,2,6],[2,3,6],[3,4,6],[4,5,6],[5,1,6]], color:'#0000ff', opacity:1},{vertices:[{x:-1,y:0.847778,z:0.666667},{x:-1,y:0.847778,z:0.646667},{x:-0.980979,y:0.847778,z:0.660486},{x:-0.988244,y:0.847778,z:0.682847},{x:-1.01176,y:0.847778,z:0.682847},{x:-1.01902,y:0.847778,z:0.660486},{x:-1,y:0.666667,z:0.646667},{x:-0.980979,y:0.666667,z:0.660486},{x:-0.988244,y:0.666667,z:0.682847},{x:-1.01176,y:0.666667,z:0.682847},{x:-1.01902,y:0.666667,z:0.660486},{x:-1,y:0.666667,z:0.666667}], faces:[[0,2,1],[0,3,2],[0,4,3],[0,5,4],[0,1,5],[1,2,7,6],[2,3,8,7],[3,4,9,8],[4,5,10,9],[5,1,6,10],[6,7,11],[7,8,11],[8,9,11],[9,10,11],[10,6,11]], color:'#0000ff', opacity:1},{vertices:[{x:-1,y:1.02778,z:0.666667},{x:-1,y:0.847778,z:0.606667},{x:-0.942937,y:0.847778,z:0.648126},{x:-0.964733,y:0.847778,z:0.715208},{x:-1.03527,y:0.847778,z:0.715208},{x:-1.05706,y:0.847778,z:0.648126},{x:-1,y:0.847778,z:0.666667}], faces:[[0,2,1],[0,3,2],[0,4,3],[0,5,4],[0,1,5],[1,2,6],[2,3,6],[3,4,6],[4,5,6],[5,1,6]], color:'#0000ff', opacity:1},{vertices:[{x:-1.04849,y:0.90914,z:1.04041},{x:-1.04527,y:0.913011,z:1.02106},{x:-1.02909,y:0.913404,z:1.03811},{x:-1.03973,y:0.907904,z:1.05835},{x:-1.06248,y:0.904112,z:1.0538},{x:-1.06591,y:0.907268,z:1.03075},{x:-0.996774,y:0.670538,z:0.980645},{x:-0.980596,y:0.670931,z:0.997701},{x:-0.991233,y:0.665431,z:1.01793},{x:-1.01399,y:0.661639,z:1.01338},{x:-1.01741,y:0.664795,z:0.990338},{x:-1,y:0.666667,z:1}], faces:[[0,2,1],[0,3,2],[0,4,3],[0,5,4],[0,1,5],[1,2,7,6],[2,3,8,7],[3,4,9,8],[4,5,10,9],[5,1,6,10],[6,7,11],[7,8,11],[8,9,11],[9,10,11],[10,6,11]], color:'#0000ff', opacity:1},{vertices:[{x:-1.08333,y:1.08333,z:1.06944},{x:-1.03882,y:0.920753,z:0.982348},{x:-0.990282,y:0.921932,z:1.03351},{x:-1.02219,y:0.905433,z:1.09421},{x:-1.09045,y:0.894057,z:1.08056},{x:-1.10073,y:0.903525,z:1.01142},{x:-1.04849,y:0.90914,z:1.04041}], faces:[[0,2,1],[0,3,2],[0,4,3],[0,5,4],[0,1,5],[1,2,6],[2,3,6],[3,4,6],[4,5,6],[5,1,6]], color:'#0000ff', opacity:1},{vertices:[{x:-0.68,y:1,z:-1},{x:-0.68,y:1.02,z:-1},{x:-0.68,y:1.00618,z:-1.01902},{x:-0.68,y:0.98382,z:-1.01176},{x:-0.68,y:0.98382,z:-0.988244},{x:-0.68,y:1.00618,z:-0.980979},{x:-1,y:1.02,z:-1},{x:-1,y:1.00618,z:-1.01902},{x:-1,y:0.98382,z:-1.01176},{x:-1,y:0.98382,z:-0.988244},{x:-1,y:1.00618,z:-0.980979},{x:-1,y:1,z:-1}], faces:[[0,2,1],[0,3,2],[0,4,3],[0,5,4],[0,1,5],[1,2,7,6],[2,3,8,7],[3,4,9,8],[4,5,10,9],[5,1,6,10],[6,7,11],[7,8,11],[8,9,11],[9,10,11],[10,6,11]], color:'#0000ff', opacity:1},{vertices:[{x:-0.5,y:1,z:-1},{x:-0.68,y:1.06,z:-1},{x:-0.68,y:1.01854,z:-1.05706},{x:-0.68,y:0.951459,z:-1.03527},{x:-0.68,y:0.951459,z:-0.964733},{x:-0.68,y:1.01854,z:-0.942937},{x:-0.68,y:1,z:-1}], faces:[[0,2,1],[0,3,2],[0,4,3],[0,5,4],[0,1,5],[1,2,6],[2,3,6],[3,4,6],[4,5,6],[5,1,6]], color:'#0000ff', opacity:1},{vertices:[{x:-0.757527,y:1.04849,z:-0.707079},{x:-0.761993,y:1.0676,z:-0.71095},{x:-0.761125,y:1.05015,z:-0.726683},{x:-0.755284,y:1.03041,z:-0.715324},{x:-0.752542,y:1.03566,z:-0.692571},{x:-0.756689,y:1.05865,z:-0.689868},{x:-1.00447,y:1.01911,z:-0.670538},{x:-1.0036,y:1.00166,z:-0.68627},{x:-0.997758,y:0.981917,z:-0.674911},{x:-0.995016,y:0.987168,z:-0.652158},{x:-0.999162,y:1.01015,z:-0.649455},{x:-1,y:1,z:-0.666667}], faces:[[0,2,1],[0,3,2],[0,4,3],[0,5,4],[0,1,5],[1,2,7,6],[2,3,8,7],[3,4,9,8],[4,5,10,9],[5,1,6,10],[6,7,11],[7,8,11],[8,9,11],[9,10,11],[10,6,11]], color:'#0000ff', opacity:1},{vertices:[{x:-0.583333,y:1.08333,z:-0.736111},{x:-0.770926,y:1.10581,z:-0.718692},{x:-0.768323,y:1.05346,z:-0.76589},{x:-0.750799,y:0.994246,z:-0.731813},{x:-0.742573,y:1.01,z:-0.663554},{x:-0.755013,y:1.07895,z:-0.655445},{x:-0.757527,y:1.04849,z:-0.707079}], faces:[[0,2,1],[0,3,2],[0,4,3],[0,5,4],[0,1,5],[1,2,6],[2,3,6],[3,4,6],[4,5,6],[5,1,6]], color:'#0000ff', opacity:1},{vertices:[{x:-0.820952,y:1.08952,z:-0.393016},{x:-0.831238,y:1.10438,z:-0.401587},{x:-0.824674,y:1.08433,z:-0.411968},{x:-0.812967,y:1.07146,z:-0.396158},{x:-0.812295,y:1.08355,z:-0.376005},{x:-0.823587,y:1.1039,z:-0.379361},{x:-1.01029,y:1.01486,z:-0.341905},{x:-1.00372,y:0.994809,z:-0.352286},{x:-0.992015,y:0.981935,z:-0.336475},{x:-0.991343,y:0.994026,z:-0.316323},{x:-1.00263,y:1.01437,z:-0.319678},{x:-1,y:1,z:-0.333333}], faces:[[0,2,1],[0,3,2],[0,4,3],[0,5,4],[0,1,5],[1,2,7,6],[2,3,8,7],[3,4,9,8],[4,5,10,9],[5,1,6,10],[6,7,11],[7,8,11],[8,9,11],[9,10,11],[10,6,11]], color:'#0000ff', opacity:1},{vertices:[{x:-0.666667,y:1.16667,z:-0.444444},{x:-0.85181,y:1.1341,z:-0.41873},{x:-0.832118,y:1.07395,z:-0.449874},{x:-0.796996,y:1.03533,z:-0.402442},{x:-0.794981,y:1.0716,z:-0.341984},{x:-0.828857,y:1.13264,z:-0.352051},{x:-0.820952,y:1.08952,z:-0.393016}], faces:[[0,2,1],[0,3,2],[0,4,3],[0,5,4],[0,1,5],[1,2,6],[2,3,6],[3,4,6],[4,5,6],[5,1,6]], color:'#0000ff', opacity:1},{vertices:[{x:-0.87,y:1.13,z:-0.065},{x:-0.883333,y:1.13667,z:-0.0783333},{x:-0.86778,y:1.11938,z:-0.081801},{x:-0.855295,y:1.11677,z:-0.0620502},{x:-0.863132,y:1.13244,z:-0.046376},{x:-0.880461,y:1.14474,z:-0.0564395},{x:-1.01333,y:1.00667,z:-0.0133333},{x:-0.99778,y:0.989379,z:-0.016801},{x:-0.985295,y:0.986769,z:0.00294976},{x:-0.993132,y:1.00244,z:0.018624},{x:-1.01046,y:1.01474,z:0.00856053},{x:-1,y:1,z:0}], faces:[[0,2,1],[0,3,2],[0,4,3],[0,5,4],[0,1,5],[1,2,7,6],[2,3,8,7],[3,4,9,8],[4,5,10,9],[5,1,6,10],[6,7,11],[7,8,11],[8,9,11],[9,10,11],[10,6,11]], color:'#0000ff', opacity:1},{vertices:[{x:-0.75,y:1.25,z:-0.125},{x:-0.91,y:1.15,z:-0.105},{x:-0.86334,y:1.09814,z:-0.115403},{x:-0.825884,y:1.09031,z:-0.0561507},{x:-0.849395,y:1.13733,z:-0.00912791},{x:-0.901382,y:1.17422,z:-0.0393184},{x:-0.87,y:1.13,z:-0.065}], faces:[[0,2,1],[0,3,2],[0,4,3],[0,5,4],[0,1,5],[1,2,6],[2,3,6],[3,4,6],[4,5,6],[5,1,6]], color:'#0000ff', opacity:1},{vertices:[{x:-0.910476,y:1.17905,z:0.273651},{x:-0.920762,y:1.17848,z:0.256508},{x:-0.899525,y:1.16909,z:0.260201},{x:-0.893422,y:1.17346,z:0.282481},{x:-0.910888,y:1.18556,z:0.292558},{x:-0.927785,y:1.18865,z:0.276505},{x:-1.01029,y:0.999429,z:0.31619},{x:-0.989048,y:0.990041,z:0.319884},{x:-0.982946,y:0.994417,z:0.342164},{x:-1.00041,y:1.00651,z:0.35224},{x:-1.01731,y:1.00961,z:0.336188},{x:-1,y:1,z:0.333333}], faces:[[0,2,1],[0,3,2],[0,4,3],[0,5,4],[0,1,5],[1,2,7,6],[2,3,8,7],[3,4,9,8],[4,5,10,9],[5,1,6,10],[6,7,11],[7,8,11],[8,9,11],[9,10,11],[10,6,11]], color:'#0000ff', opacity:1},{vertices:[{x:-0.833333,y:1.33333,z:0.222222},{x:-0.941333,y:1.17733,z:0.222222},{x:-0.877622,y:1.14917,z:0.233303},{x:-0.859314,y:1.1623,z:0.300143},{x:-0.911711,y:1.19857,z:0.330372},{x:-0.962402,y:1.20786,z:0.282214},{x:-0.910476,y:1.17905,z:0.273651}], faces:[[0,2,1],[0,3,2],[0,4,3],[0,5,4],[0,1,5],[1,2,6],[2,3,6],[3,4,6],[4,5,6],[5,1,6]], color:'#0000ff', opacity:1},{vertices:[{x:-0.951505,y:1.24247,z:0.626254},{x:-0.955972,y:1.24014,z:0.6069},{x:-0.934714,y:1.2375,z:0.616592},{x:-0.936661,y:1.24173,z:0.639638},{x:-0.959123,y:1.24699,z:0.644188},{x:-0.971057,y:1.246,z:0.623955},{x:-1.00447,y:0.997667,z:0.647312},{x:-0.983209,y:0.995031,z:0.657004},{x:-0.985156,y:0.999262,z:0.68005},{x:-1.00762,y:1.00451,z:0.6846},{x:-1.01955,y:1.00353,z:0.664367},{x:-1,y:1,z:0.666667}], faces:[[0,2,1],[0,3,2],[0,4,3],[0,5,4],[0,1,5],[1,2,7,6],[2,3,8,7],[3,4,9,8],[4,5,10,9],[5,1,6,10],[6,7,11],[7,8,11],[8,9,11],[9,10,11],[10,6,11]], color:'#0000ff', opacity:1},{vertices:[{x:-0.916667,y:1.41667,z:0.597222},{x:-0.964905,y:1.23548,z:0.56819},{x:-0.901131,y:1.22757,z:0.597267},{x:-0.906973,y:1.24026,z:0.666404},{x:-0.974357,y:1.25601,z:0.680056},{x:-1.01016,y:1.25305,z:0.619356},{x:-0.951505,y:1.24247,z:0.626254}], faces:[[0,2,1],[0,3,2],[0,4,3],[0,5,4],[0,1,5],[1,2,6],[2,3,6],[3,4,6],[4,5,6],[5,1,6]], color:'#0000ff', opacity:1},{vertices:[{x:-1,y:1.32,z:1},{x:-1,y:1.32,z:0.98},{x:-0.980979,y:1.32,z:0.99382},{x:-0.988244,y:1.32,z:1.01618},{x:-1.01176,y:1.32,z:1.01618},{x:-1.01902,y:1.32,z:0.99382},{x:-1,y:1,z:0.98},{x:-0.980979,y:1,z:0.99382},{x:-0.988244,y:1,z:1.01618},{x:-1.01176,y:1,z:1.01618},{x:-1.01902,y:1,z:0.99382},{x:-1,y:1,z:1}], faces:[[0,2,1],[0,3,2],[0,4,3],[0,5,4],[0,1,5],[1,2,7,6],[2,3,8,7],[3,4,9,8],[4,5,10,9],[5,1,6,10],[6,7,11],[7,8,11],[8,9,11],[9,10,11],[10,6,11]], color:'#0000ff', opacity:1},{vertices:[{x:-1,y:1.5,z:1},{x:-1,y:1.32,z:0.94},{x:-0.942937,y:1.32,z:0.981459},{x:-0.964733,y:1.32,z:1.04854},{x:-1.03527,y:1.32,z:1.04854},{x:-1.05706,y:1.32,z:0.981459},{x:-1,y:1.32,z:1}], faces:[[0,2,1],[0,3,2],[0,4,3],[0,5,4],[0,1,5],[1,2,6],[2,3,6],[3,4,6],[4,5,6],[5,1,6]], color:'#0000ff', opacity:1},{vertices:[{x:-0.715161,y:-0.757527,z:-0.959588},{x:-0.711935,y:-0.753656,z:-0.978943},{x:-0.695757,y:-0.753263,z:-0.961887},{x:-0.706395,y:-0.758762,z:-0.941654},{x:-0.729148,y:-0.762555,z:-0.946205},{x:-0.732572,y:-0.759399,z:-0.96925},{x:-0.663441,y:-0.996129,z:-1.01935},{x:-0.647262,y:-0.995736,z:-1.0023},{x:-0.6579,y:-1.00124,z:-0.982066},{x:-0.680653,y:-1.00503,z:-0.986617},{x:-0.684077,y:-1.00187,z:-1.00966},{x:-0.666667,y:-1,z:-1}], faces:[[0,2,1],[0,3,2],[0,4,3],[0,5,4],[0,1,5],[1,2,7,6],[2,3,8,7],[3,4,9,8],[4,5,10,9],[5,1,6,10],[6,7,11],[7,8,11],[8,9,11],[9,10,11],[10,6,11]], color:'#0000ff', opacity:1},{vertices:[{x:-0.75,y:-0.583333,z:-0.930556},{x:-0.705484,y:-0.745914,z:-1.01765},{x:-0.656948,y:-0.744735,z:-0.966486},{x:-0.688861,y:-0.761234,z:-0.905787},{x:-0.75712,y:-0.77261,z:-0.919439},{x:-0.767393,y:-0.763142,z:-0.988575},{x:-0.715161,y:-0.757527,z:-0.959588}], faces:[[0,2,1],[0,3,2],[0,4,3],[0,5,4],[0,1,5],[1,2,6],[2,3,6],[3,4,6],[4,5,6],[5,1,6]], color:'#0000ff', opacity:1},{vertices:[{x:-0.736325,y:-0.832821,z:-0.666667},{x:-0.729224,y:-0.829862,z:-0.685128},{x:-0.717923,y:-0.825153,z:-0.665056},{x:-0.732053,y:-0.83104,z:-0.64721},{x:-0.752086,y:-0.839388,z:-0.656252},{x:-0.750338,y:-0.838659,z:-0.679687},{x:-0.659566,y:-0.997041,z:-0.685128},{x:-0.648265,y:-0.992333,z:-0.665056},{x:-0.662394,y:-0.99822,z:-0.64721},{x:-0.682428,y:-1.00657,z:-0.656252},{x:-0.68068,y:-1.00584,z:-0.679687},{x:-0.666667,y:-1,z:-0.666667}], faces:[[0,2,1],[0,3,2],[0,4,3],[0,5,4],[0,1,5],[1,2,7,6],[2,3,8,7],[3,4,9,8],[4,5,10,9],[5,1,6,10],[6,7,11],[7,8,11],[8,9,11],[9,10,11],[10,6,11]], color:'#0000ff', opacity:1},{vertices:[{x:-0.805556,y:-0.666667,z:-0.666667},{x:-0.715023,y:-0.823945,z:-0.722051},{x:-0.68112,y:-0.809819,z:-0.661834},{x:-0.723508,y:-0.82748,z:-0.608295},{x:-0.783608,y:-0.852522,z:-0.635424},{x:-0.778364,y:-0.850337,z:-0.705729},{x:-0.736325,y:-0.832821,z:-0.666667}], faces:[[0,2,1],[0,3,2],[0,4,3],[0,5,4],[0,1,5],[1,2,6],[2,3,6],[3,4,6],[4,5,6],[5,1,6]], color:'#0000ff', opacity:1},{vertices:[{x:-0.751546,y:-0.89087,z:-0.351522},{x:-0.740589,y:-0.884957,z:-0.367174},{x:-0.737244,y:-0.878622,z:-0.34478},{x:-0.753663,y:-0.889213,z:-0.331703},{x:-0.767157,y:-0.902093,z:-0.346015},{x:-0.759077,y:-0.899463,z:-0.367937},{x:-0.65571,y:-0.994087,z:-0.348986},{x:-0.652364,y:-0.987752,z:-0.326592},{x:-0.668784,y:-0.998344,z:-0.313515},{x:-0.682277,y:-1.01122,z:-0.327826},{x:-0.674197,y:-1.00859,z:-0.349748},{x:-0.666667,y:-1,z:-0.333333}], faces:[[0,2,1],[0,3,2],[0,4,3],[0,5,4],[0,1,5],[1,2,7,6],[2,3,8,7],[3,4,9,8],[4,5,10,9],[5,1,6,10],[6,7,11],[7,8,11],[8,9,11],[9,10,11],[10,6,11]], color:'#0000ff', opacity:1},{vertices:[{x:-0.861111,y:-0.75,z:-0.375},{x:-0.718676,y:-0.87313,z:-0.398478},{x:-0.708639,y:-0.854127,z:-0.331298},{x:-0.757898,y:-0.885901,z:-0.292066},{x:-0.798378,y:-0.924541,z:-0.335},{x:-0.774138,y:-0.916649,z:-0.400766},{x:-0.751546,y:-0.89087,z:-0.351522}], faces:[[0,2,1],[0,3,2],[0,4,3],[0,5,4],[0,1,5],[1,2,6],[2,3,6],[3,4,6],[4,5,6],[5,1,6]], color:'#0000ff', opacity:1},{vertices:[{x:-0.769394,y:-0.931515,z:-0.0228283},{x:-0.758485,y:-0.918788,z:-0.0337374},{x:-0.762564,y:-0.917207,z:-0.0106366},{x:-0.776082,y:-0.9354,z:-0.00438434},{x:-0.780357,y:-0.948224,z:-0.0236209},{x:-0.769481,y:-0.937957,z:-0.0417621},{x:-0.655758,y:-0.987273,z:-0.0109091},{x:-0.659837,y:-0.985692,z:0.0121916},{x:-0.673355,y:-1.00388,z:0.0184439},{x:-0.67763,y:-1.01671,z:-0.000792664},{x:-0.666754,y:-1.00644,z:-0.0189338},{x:-0.666667,y:-1,z:0}], faces:[[0,2,1],[0,3,2],[0,4,3],[0,5,4],[0,1,5],[1,2,7,6],[2,3,8,7],[3,4,9,8],[4,5,10,9],[5,1,6,10],[6,7,11],[7,8,11],[8,9,11],[9,10,11],[10,6,11]], color:'#0000ff', opacity:1},{vertices:[{x:-0.916667,y:-0.833333,z:-0.0555556},{x:-0.736667,y:-0.893333,z:-0.0555556},{x:-0.748905,y:-0.888591,z:0.0137467},{x:-0.789459,y:-0.943168,z:0.0325035},{x:-0.802283,y:-0.981641,z:-0.0252063},{x:-0.769656,y:-0.950842,z:-0.0796298},{x:-0.769394,y:-0.931515,z:-0.0228283}], faces:[[0,2,1],[0,3,2],[0,4,3],[0,5,4],[0,1,5],[1,2,6],[2,3,6],[3,4,6],[4,5,6],[5,1,6]], color:'#0000ff', opacity:1},{vertices:[{x:-0.800048,y:-0.963623,z:0.315145},{x:-0.794309,y:-0.945188,z:0.309928},{x:-0.799267,y:-0.952468,z:0.331727},{x:-0.805305,y:-0.975164,z:0.33061},{x:-0.804078,y:-0.981911,z:0.308121},{x:-0.797282,y:-0.963385,z:0.295339},{x:-0.660928,y:-0.981565,z:0.328116},{x:-0.665886,y:-0.988845,z:0.349915},{x:-0.671923,y:-1.01154,z:0.348799},{x:-0.670696,y:-1.01829,z:0.32631},{x:-0.663901,y:-0.999762,z:0.313527},{x:-0.666667,y:-1,z:0.333333}], faces:[[0,2,1],[0,3,2],[0,4,3],[0,5,4],[0,1,5],[1,2,7,6],[2,3,8,7],[3,4,9,8],[4,5,10,9],[5,1,6,10],[6,7,11],[7,8,11],[8,9,11],[9,10,11],[10,6,11]], color:'#0000ff', opacity:1},{vertices:[{x:-0.972222,y:-0.916667,z:0.291667},{x:-0.782831,y:-0.908319,z:0.299493},{x:-0.797705,y:-0.930158,z:0.364891},{x:-0.815817,y:-0.998245,z:0.361542},{x:-0.812137,y:-1.01849,z:0.294074},{x:-0.791751,y:-0.962908,z:0.255726},{x:-0.800048,y:-0.963623,z:0.315145}], faces:[[0,2,1],[0,3,2],[0,4,3],[0,5,4],[0,1,5],[1,2,6],[2,3,6],[3,4,6],[4,5,6],[5,1,6]], color:'#0000ff', opacity:1},{vertices:[{x:-0.847778,y:-1,z:0.666667},{x:-0.847778,y:-0.98,z:0.666667},{x:-0.847778,y:-0.99382,z:0.685688},{x:-0.847778,y:-1.01618,z:0.678422},{x:-0.847778,y:-1.01618,z:0.654911},{x:-0.847778,y:-0.99382,z:0.647646},{x:-0.666667,y:-0.98,z:0.666667},{x:-0.666667,y:-0.99382,z:0.685688},{x:-0.666667,y:-1.01618,z:0.678422},{x:-0.666667,y:-1.01618,z:0.654911},{x:-0.666667,y:-0.99382,z:0.647646},{x:-0.666667,y:-1,z:0.666667}], faces:[[0,2,1],[0,3,2],[0,4,3],[0,5,4],[0,1,5],[1,2,7,6],[2,3,8,7],[3,4,9,8],[4,5,10,9],[5,1,6,10],[6,7,11],[7,8,11],[8,9,11],[9,10,11],[10,6,11]], color:'#0000ff', opacity:1},{vertices:[{x:-1.02778,y:-1,z:0.666667},{x:-0.847778,y:-0.94,z:0.666667},{x:-0.847778,y:-0.981459,z:0.72373},{x:-0.847778,y:-1.04854,z:0.701934},{x:-0.847778,y:-1.04854,z:0.6314},{x:-0.847778,y:-0.981459,z:0.609603},{x:-0.847778,y:-1,z:0.666667}], faces:[[0,2,1],[0,3,2],[0,4,3],[0,5,4],[0,1,5],[1,2,6],[2,3,6],[3,4,6],[4,5,6],[5,1,6]], color:'#0000ff', opacity:1},{vertices:[{x:-0.90914,y:-1.04849,z:1.04041},{x:-0.912366,y:-1.02914,z:1.04428},{x:-0.906455,y:-1.04558,z:1.06002},{x:-0.904255,y:-1.06605,z:1.04866},{x:-0.908805,y:-1.06226,z:1.0259},{x:-0.913818,y:-1.03945,z:1.0232},{x:-0.669892,y:-0.980645,z:1.00387},{x:-0.663982,y:-0.997087,z:1.0196},{x:-0.661782,y:-1.01755,z:1.00824},{x:-0.666332,y:-1.01376,z:0.985492},{x:-0.671345,y:-0.990951,z:0.982789},{x:-0.666667,y:-1,z:1}], faces:[[0,2,1],[0,3,2],[0,4,3],[0,5,4],[0,1,5],[1,2,7,6],[2,3,8,7],[3,4,9,8],[4,5,10,9],[5,1,6,10],[6,7,11],[7,8,11],[8,9,11],[9,10,11],[10,6,11]], color:'#0000ff', opacity:1},{vertices:[{x:-1.08333,y:-1.08333,z:1.06944},{x:-0.918817,y:-0.99043,z:1.05203},{x:-0.901086,y:-1.03976,z:1.09922},{x:-0.894485,y:-1.10116,z:1.06515},{x:-0.908136,y:-1.08978,z:0.996888},{x:-0.923175,y:-1.02135,z:0.988778},{x:-0.90914,y:-1.04849,z:1.04041}], faces:[[0,2,1],[0,3,2],[0,4,3],[0,5,4],[0,1,5],[1,2,6],[2,3,6],[3,4,6],[4,5,6],[5,1,6]], color:'#0000ff', opacity:1},{vertices:[{x:-0.666667,y:-0.499487,z:-0.930342},{x:-0.666667,y:-0.491795,z:-0.948803},{x:-0.647646,y:-0.49711,z:-0.936047},{x:-0.654911,y:-0.50571,z:-0.915406},{x:-0.678422,y:-0.50571,z:-0.915406},{x:-0.685688,y:-0.49711,z:-0.936047},{x:-0.666667,y:-0.658974,z:-1.01846},{x:-0.647646,y:-0.66429,z:-1.0057},{x:-0.654911,y:-0.67289,z:-0.985064},{x:-0.678422,y:-0.67289,z:-0.985064},{x:-0.685688,y:-0.66429,z:-1.0057},{x:-0.666667,y:-0.666667,z:-1}], faces:[[0,2,1],[0,3,2],[0,4,3],[0,5,4],[0,1,5],[1,2,7,6],[2,3,8,7],[3,4,9,8],[4,5,10,9],[5,1,6,10],[6,7,11],[7,8,11],[8,9,11],[9,10,11],[10,6,11]], color:'#0000ff', opacity:1},{vertices:[{x:-0.666667,y:-0.333333,z:-0.861111},{x:-0.666667,y:-0.47641,z:-0.985726},{x:-0.609603,y:-0.492356,z:-0.947457},{x:-0.6314,y:-0.518157,z:-0.885535},{x:-0.701934,y:-0.518157,z:-0.885535},{x:-0.72373,y:-0.492356,z:-0.947457},{x:-0.666667,y:-0.499487,z:-0.930342}], faces:[[0,2,1],[0,3,2],[0,4,3],[0,5,4],[0,1,5],[1,2,6],[2,3,6],[3,4,6],[4,5,6],[5,1,6]], color:'#0000ff', opacity:1},{vertices:[{x:-0.687937,y:-0.560317,z:-0.640079},{x:-0.685006,y:-0.554969,z:-0.659127},{x:-0.668567,y:-0.555878,z:-0.642342},{x:-0.678896,y:-0.562922,z:-0.62243},{x:-0.701718,y:-0.566367,z:-0.626909},{x:-0.705495,y:-0.561452,z:-0.649588},{x:-0.663736,y:-0.661319,z:-0.685714},{x:-0.647297,y:-0.662227,z:-0.66893},{x:-0.657626,y:-0.669271,z:-0.649018},{x:-0.680449,y:-0.672716,z:-0.653496},{x:-0.684225,y:-0.667801,z:-0.676176},{x:-0.666667,y:-0.666667,z:-0.666667}], faces:[[0,2,1],[0,3,2],[0,4,3],[0,5,4],[0,1,5],[1,2,7,6],[2,3,8,7],[3,4,9,8],[4,5,10,9],[5,1,6,10],[6,7,11],[7,8,11],[8,9,11],[9,10,11],[10,6,11]], color:'#0000ff', opacity:1},{vertices:[{x:-0.722222,y:-0.388889,z:-0.597222},{x:-0.679145,y:-0.544274,z:-0.697222},{x:-0.629829,y:-0.546999,z:-0.646868},{x:-0.660815,y:-0.56813,z:-0.587132},{x:-0.729282,y:-0.578465,z:-0.600567},{x:-0.740611,y:-0.563721,z:-0.668607},{x:-0.687937,y:-0.560317,z:-0.640079}], faces:[[0,2,1],[0,3,2],[0,4,3],[0,5,4],[0,1,5],[1,2,6],[2,3,6],[3,4,6],[4,5,6],[5,1,6]], color:'#0000ff', opacity:1},{vertices:[{x:-0.697778,y:-0.604444,z:-0.325556},{x:-0.690667,y:-0.598667,z:-0.343333},{x:-0.679941,y:-0.595896,z:-0.322595},{x:-0.693865,y:-0.604939,z:-0.305948},{x:-0.713197,y:-0.613299,z:-0.316398},{x:-0.71122,y:-0.609422,z:-0.339503},{x:-0.659556,y:-0.660889,z:-0.351111},{x:-0.64883,y:-0.658118,z:-0.330373},{x:-0.662754,y:-0.667161,z:-0.313726},{x:-0.682085,y:-0.675521,z:-0.324176},{x:-0.680109,y:-0.671644,z:-0.347281},{x:-0.666667,y:-0.666667,z:-0.333333}], faces:[[0,2,1],[0,3,2],[0,4,3],[0,5,4],[0,1,5],[1,2,7,6],[2,3,8,7],[3,4,9,8],[4,5,10,9],[5,1,6,10],[6,7,11],[7,8,11],[8,9,11],[9,10,11],[10,6,11]], color:'#0000ff', opacity:1},{vertices:[{x:-0.777778,y:-0.444444,z:-0.305556},{x:-0.676444,y:-0.587111,z:-0.378889},{x:-0.644267,y:-0.578799,z:-0.316675},{x:-0.686039,y:-0.605928,z:-0.266734},{x:-0.744034,y:-0.631007,z:-0.298082},{x:-0.738104,y:-0.619377,z:-0.367398},{x:-0.697778,y:-0.604444,z:-0.325556}], faces:[[0,2,1],[0,3,2],[0,4,3],[0,5,4],[0,1,5],[1,2,6],[2,3,6],[3,4,6],[4,5,6],[5,1,6]], color:'#0000ff', opacity:1},{vertices:[{x:-0.706275,y:-0.627059,z:0.00330065},{x:-0.696863,y:-0.616471,z:-0.010817},{x:-0.693296,y:-0.614836,z:0.0123647},{x:-0.707665,y:-0.630093,z:0.0230202},{x:-0.720112,y:-0.641157,z:0.00642393},{x:-0.713436,y:-0.632738,z:-0.0144886},{x:-0.657255,y:-0.656078,z:-0.0141176},{x:-0.653688,y:-0.654444,z:0.00906409},{x:-0.668057,y:-0.669701,z:0.0197196},{x:-0.680505,y:-0.680765,z:0.00312327},{x:-0.673828,y:-0.672346,z:-0.0177893},{x:-0.666667,y:-0.666667,z:0}], faces:[[0,2,1],[0,3,2],[0,4,3],[0,5,4],[0,1,5],[1,2,7,6],[2,3,8,7],[3,4,9,8],[4,5,10,9],[5,1,6,10],[6,7,11],[7,8,11],[8,9,11],[9,10,11],[10,6,11]], color:'#0000ff', opacity:1},{vertices:[{x:-0.833333,y:-0.5,z:0.0138889},{x:-0.678039,y:-0.595294,z:-0.0390523},{x:-0.667339,y:-0.59039,z:0.0304929},{x:-0.710447,y:-0.636161,z:0.0624593},{x:-0.747788,y:-0.669353,z:0.0126705},{x:-0.727759,y:-0.644096,z:-0.0500672},{x:-0.706275,y:-0.627059,z:0.00330065}], faces:[[0,2,1],[0,3,2],[0,4,3],[0,5,4],[0,1,5],[1,2,6],[2,3,6],[3,4,6],[4,5,6],[5,1,6]], color:'#0000ff', opacity:1},{vertices:[{x:-0.728889,y:-0.635556,z:0.341111},{x:-0.721778,y:-0.619111,z:0.332222},{x:-0.721196,y:-0.623711,z:0.355272},{x:-0.731246,y:-0.64468,z:0.358752},{x:-0.738038,y:-0.653039,z:0.337853},{x:-0.732186,y:-0.637237,z:0.321457},{x:-0.659556,y:-0.650222,z:0.324444},{x:-0.658974,y:-0.654822,z:0.347494},{x:-0.669024,y:-0.675791,z:0.350974},{x:-0.675816,y:-0.68415,z:0.330075},{x:-0.669964,y:-0.668348,z:0.313679},{x:-0.666667,y:-0.666667,z:0.333333}], faces:[[0,2,1],[0,3,2],[0,4,3],[0,5,4],[0,1,5],[1,2,7,6],[2,3,8,7],[3,4,9,8],[4,5,10,9],[5,1,6,10],[6,7,11],[7,8,11],[8,9,11],[9,10,11],[10,6,11]], color:'#0000ff', opacity:1},{vertices:[{x:-0.888889,y:-0.555556,z:0.361111},{x:-0.707556,y:-0.586222,z:0.314444},{x:-0.705812,y:-0.600022,z:0.383594},{x:-0.73596,y:-0.662928,z:0.394033},{x:-0.756336,y:-0.688006,z:0.331336},{x:-0.738782,y:-0.6406,z:0.282148},{x:-0.728889,y:-0.635556,z:0.341111}], faces:[[0,2,1],[0,3,2],[0,4,3],[0,5,4],[0,1,5],[1,2,6],[2,3,6],[3,4,6],[4,5,6],[5,1,6]], color:'#0000ff', opacity:1},{vertices:[{x:-0.773016,y:-0.645397,z:0.693254},{x:-0.770085,y:-0.625983,z:0.689444},{x:-0.767024,y:-0.636611,z:0.710192},{x:-0.772243,y:-0.659381,z:0.707532},{x:-0.77853,y:-0.662825,z:0.68514},{x:-0.777197,y:-0.642185,z:0.673961},{x:-0.663736,y:-0.647253,z:0.662857},{x:-0.660675,y:-0.65788,z:0.683605},{x:-0.665894,y:-0.68065,z:0.680945},{x:-0.672181,y:-0.684095,z:0.658553},{x:-0.670847,y:-0.663454,z:0.647374},{x:-0.666667,y:-0.666667,z:0.666667}], faces:[[0,2,1],[0,3,2],[0,4,3],[0,5,4],[0,1,5],[1,2,7,6],[2,3,8,7],[3,4,9,8],[4,5,10,9],[5,1,6,10],[6,7,11],[7,8,11],[8,9,11],[9,10,11],[10,6,11]], color:'#0000ff', opacity:1},{vertices:[{x:-0.944444,y:-0.611111,z:0.736111},{x:-0.764225,y:-0.587155,z:0.681825},{x:-0.755041,y:-0.619038,z:0.744068},{x:-0.770698,y:-0.687348,z:0.736088},{x:-0.789559,y:-0.697683,z:0.668912},{x:-0.785558,y:-0.63576,z:0.635376},{x:-0.773016,y:-0.645397,z:0.693254}], faces:[[0,2,1],[0,3,2],[0,4,3],[0,5,4],[0,1,5],[1,2,6],[2,3,6],[3,4,6],[4,5,6],[5,1,6]], color:'#0000ff', opacity:1},{vertices:[{x:-0.833846,y:-0.666667,z:1.06966},{x:-0.833846,y:-0.646667,z:1.06966},{x:-0.82653,y:-0.660486,z:1.08722},{x:-0.829325,y:-0.682847,z:1.08051},{x:-0.838368,y:-0.682847,z:1.05881},{x:-0.841162,y:-0.660486,z:1.0521},{x:-0.666667,y:-0.646667,z:1},{x:-0.659351,y:-0.660486,z:1.01756},{x:-0.662145,y:-0.682847,z:1.01085},{x:-0.671188,y:-0.682847,z:0.989149},{x:-0.673982,y:-0.660486,z:0.982442},{x:-0.666667,y:-0.666667,z:1}], faces:[[0,2,1],[0,3,2],[0,4,3],[0,5,4],[0,1,5],[1,2,7,6],[2,3,8,7],[3,4,9,8],[4,5,10,9],[5,1,6,10],[6,7,11],[7,8,11],[8,9,11],[9,10,11],[10,6,11]], color:'#0000ff', opacity:1},{vertices:[{x:-1,y:-0.666667,z:1.13889},{x:-0.833846,y:-0.606667,z:1.06966},{x:-0.811899,y:-0.648126,z:1.12233},{x:-0.820282,y:-0.715208,z:1.10221},{x:-0.84741,y:-0.715208,z:1.0371},{x:-0.855794,y:-0.648126,z:1.01698},{x:-0.833846,y:-0.666667,z:1.06966}], faces:[[0,2,1],[0,3,2],[0,4,3],[0,5,4],[0,1,5],[1,2,6],[2,3,6],[3,4,6],[4,5,6],[5,1,6]], color:'#0000ff', opacity:1},{vertices:[{x:-0.63029,y:-0.224203,z:-0.921184},{x:-0.632899,y:-0.212029,z:-0.936836},{x:-0.612902,y:-0.222922,z:-0.930982},{x:-0.616935,y:-0.235585,z:-0.911587},{x:-0.639424,y:-0.232518,z:-0.905454},{x:-0.64929,y:-0.21796,z:-0.921058},{x:-0.669275,y:-0.321159,z:-1.01565},{x:-0.649279,y:-0.332052,z:-1.0098},{x:-0.653312,y:-0.344716,z:-0.990404},{x:-0.675801,y:-0.341649,z:-0.98427},{x:-0.685667,y:-0.32709,z:-0.999875},{x:-0.666667,y:-0.333333,z:-1}], faces:[[0,2,1],[0,3,2],[0,4,3],[0,5,4],[0,1,5],[1,2,7,6],[2,3,8,7],[3,4,9,8],[4,5,10,9],[5,1,6,10],[6,7,11],[7,8,11],[8,9,11],[9,10,11],[10,6,11]], color:'#0000ff', opacity:1},{vertices:[{x:-0.583333,y:-0.0833333,z:-0.819444},{x:-0.638116,y:-0.187681,z:-0.96814},{x:-0.578126,y:-0.22036,z:-0.95058},{x:-0.590225,y:-0.25835,z:-0.892395},{x:-0.657692,y:-0.24915,z:-0.873995},{x:-0.687291,y:-0.205474,z:-0.920808},{x:-0.63029,y:-0.224203,z:-0.921184}], faces:[[0,2,1],[0,3,2],[0,4,3],[0,5,4],[0,1,5],[1,2,6],[2,3,6],[3,4,6],[4,5,6],[5,1,6]], color:'#0000ff', opacity:1},{vertices:[{x:-0.658889,y:-0.271111,z:-0.635556},{x:-0.660256,y:-0.262051,z:-0.653333},{x:-0.640453,y:-0.269612,z:-0.643163},{x:-0.646127,y:-0.279244,z:-0.622479},{x:-0.669438,y:-0.277637,z:-0.619867},{x:-0.67817,y:-0.267011,z:-0.638936},{x:-0.668034,y:-0.324274,z:-0.684444},{x:-0.648231,y:-0.331834,z:-0.674274},{x:-0.653905,y:-0.341467,z:-0.65359},{x:-0.677216,y:-0.339859,z:-0.650978},{x:-0.685948,y:-0.329233,z:-0.670047},{x:-0.666667,y:-0.333333,z:-0.666667}], faces:[[0,2,1],[0,3,2],[0,4,3],[0,5,4],[0,1,5],[1,2,7,6],[2,3,8,7],[3,4,9,8],[4,5,10,9],[5,1,6,10],[6,7,11],[7,8,11],[8,9,11],[9,10,11],[10,6,11]], color:'#0000ff', opacity:1},{vertices:[{x:-0.638889,y:-0.111111,z:-0.555556},{x:-0.662991,y:-0.243932,z:-0.688889},{x:-0.603581,y:-0.266614,z:-0.658377},{x:-0.620604,y:-0.295511,z:-0.596327},{x:-0.690536,y:-0.290688,z:-0.588489},{x:-0.716732,y:-0.25881,z:-0.645696},{x:-0.658889,y:-0.271111,z:-0.635556}], faces:[[0,2,1],[0,3,2],[0,4,3],[0,5,4],[0,1,5],[1,2,6],[2,3,6],[3,4,6],[4,5,6],[5,1,6]], color:'#0000ff', opacity:1},{vertices:[{x:-0.670444,y:-0.306889,z:-0.323889},{x:-0.668578,y:-0.299956,z:-0.342556},{x:-0.6511,y:-0.302971,z:-0.327121},{x:-0.660356,y:-0.311401,z:-0.30722},{x:-0.683554,y:-0.313595,z:-0.310355},{x:-0.688635,y:-0.306522,z:-0.332193},{x:-0.6648,y:-0.3264,z:-0.352},{x:-0.647322,y:-0.329416,z:-0.336565},{x:-0.656578,y:-0.337845,z:-0.316664},{x:-0.679776,y:-0.34004,z:-0.319799},{x:-0.684857,y:-0.332966,z:-0.341638},{x:-0.666667,y:-0.333333,z:-0.333333}], faces:[[0,2,1],[0,3,2],[0,4,3],[0,5,4],[0,1,5],[1,2,7,6],[2,3,8,7],[3,4,9,8],[4,5,10,9],[5,1,6,10],[6,7,11],[7,8,11],[8,9,11],[9,10,11],[10,6,11]], color:'#0000ff', opacity:1},{vertices:[{x:-0.694444,y:-0.138889,z:-0.263889},{x:-0.664844,y:-0.286089,z:-0.379889},{x:-0.612411,y:-0.295135,z:-0.333585},{x:-0.640178,y:-0.320425,z:-0.273882},{x:-0.709772,y:-0.327008,z:-0.283286},{x:-0.725016,y:-0.305787,z:-0.348802},{x:-0.670444,y:-0.306889,z:-0.323889}], faces:[[0,2,1],[0,3,2],[0,4,3],[0,5,4],[0,1,5],[1,2,6],[2,3,6],[3,4,6],[4,5,6],[5,1,6]], color:'#0000ff', opacity:1},{vertices:[{x:-0.672857,y:-0.320952,z:0.00412698},{x:-0.667143,y:-0.312381,z:-0.0130159},{x:-0.654788,y:-0.312869,z:0.00698146},{x:-0.667404,y:-0.324528,z:0.023034},{x:-0.687556,y:-0.331246,z:0.0129577},{x:-0.687395,y:-0.323738,z:-0.00932236},{x:-0.660952,y:-0.324762,z:-0.0171429},{x:-0.648597,y:-0.32525,z:0.00285448},{x:-0.661213,y:-0.336909,z:0.018907},{x:-0.681366,y:-0.343627,z:0.0088307},{x:-0.681205,y:-0.336119,z:-0.0134493},{x:-0.666667,y:-0.333333,z:0}], faces:[[0,2,1],[0,3,2],[0,4,3],[0,5,4],[0,1,5],[1,2,7,6],[2,3,8,7],[3,4,9,8],[4,5,10,9],[5,1,6,10],[6,7,11],[7,8,11],[8,9,11],[9,10,11],[10,6,11]], color:'#0000ff', opacity:1},{vertices:[{x:-0.75,y:-0.166667,z:0.0555556},{x:-0.655714,y:-0.295238,z:-0.0473016},{x:-0.618648,y:-0.296702,z:0.0126904},{x:-0.656497,y:-0.331679,z:0.0608481},{x:-0.716955,y:-0.351832,z:0.0306191},{x:-0.716471,y:-0.32931,z:-0.0362211},{x:-0.672857,y:-0.320952,z:0.00412698}], faces:[[0,2,1],[0,3,2],[0,4,3],[0,5,4],[0,1,5],[1,2,6],[2,3,6],[3,4,6],[4,5,6],[5,1,6]], color:'#0000ff', opacity:1},{vertices:[{x:-0.685556,y:-0.314444,z:0.342778},{x:-0.678889,y:-0.301111,z:0.329444},{x:-0.670815,y:-0.303984,z:0.351338},{x:-0.683112,y:-0.321313,z:0.361402},{x:-0.698786,y:-0.32915,z:0.345728},{x:-0.696176,y:-0.316665,z:0.325977},{x:-0.66,y:-0.32,z:0.32},{x:-0.651926,y:-0.322873,z:0.341894},{x:-0.664223,y:-0.340202,z:0.351957},{x:-0.679897,y:-0.348039,z:0.336283},{x:-0.677287,y:-0.335553,z:0.316532},{x:-0.666667,y:-0.333333,z:0.333333}], faces:[[0,2,1],[0,3,2],[0,4,3],[0,5,4],[0,1,5],[1,2,7,6],[2,3,8,7],[3,4,9,8],[4,5,10,9],[5,1,6,10],[6,7,11],[7,8,11],[8,9,11],[9,10,11],[10,6,11]], color:'#0000ff', opacity:1},{vertices:[{x:-0.805556,y:-0.194444,z:0.402778},{x:-0.665556,y:-0.274444,z:0.302778},{x:-0.641333,y:-0.283063,z:0.368459},{x:-0.678224,y:-0.335049,z:0.39865},{x:-0.725247,y:-0.358561,z:0.351627},{x:-0.717417,y:-0.321105,z:0.292375},{x:-0.685556,y:-0.314444,z:0.342778}], faces:[[0,2,1],[0,3,2],[0,4,3],[0,5,4],[0,1,5],[1,2,6],[2,3,6],[3,4,6],[4,5,6],[5,1,6]], color:'#0000ff', opacity:1},{vertices:[{x:-0.721111,y:-0.302222,z:0.697778},{x:-0.716325,y:-0.284957,z:0.688889},{x:-0.708577,y:-0.292335,z:0.709825},{x:-0.718151,y:-0.313377,z:0.714112},{x:-0.731816,y:-0.319003,z:0.695826},{x:-0.730687,y:-0.301439,z:0.680237},{x:-0.66188,y:-0.316068,z:0.657778},{x:-0.654133,y:-0.323446,z:0.678714},{x:-0.663707,y:-0.344488,z:0.683001},{x:-0.677371,y:-0.350114,z:0.664715},{x:-0.676243,y:-0.33255,z:0.649126},{x:-0.666667,y:-0.333333,z:0.666667}], faces:[[0,2,1],[0,3,2],[0,4,3],[0,5,4],[0,1,5],[1,2,7,6],[2,3,8,7],[3,4,9,8],[4,5,10,9],[5,1,6,10],[6,7,11],[7,8,11],[8,9,11],[9,10,11],[10,6,11]], color:'#0000ff', opacity:1},{vertices:[{x:-0.861111,y:-0.222222,z:0.777778},{x:-0.706752,y:-0.250427,z:0.671111},{x:-0.683509,y:-0.272561,z:0.73392},{x:-0.712231,y:-0.335685,z:0.746782},{x:-0.753225,y:-0.352565,z:0.691922},{x:-0.749839,y:-0.299873,z:0.645155},{x:-0.721111,y:-0.302222,z:0.697778}], faces:[[0,2,1],[0,3,2],[0,4,3],[0,5,4],[0,1,5],[1,2,6],[2,3,6],[3,4,6],[4,5,6],[5,1,6]], color:'#0000ff', opacity:1},{vertices:[{x:-0.775797,y:-0.296957,z:1.07882},{x:-0.773188,y:-0.277826,z:1.0736},{x:-0.763413,y:-0.288564,z:1.09209},{x:-0.770752,y:-0.3109,z:1.09224},{x:-0.785063,y:-0.313967,z:1.07384},{x:-0.786569,y:-0.293526,z:1.06232},{x:-0.664058,y:-0.314203,z:0.994783},{x:-0.654282,y:-0.324941,z:1.01327},{x:-0.661621,y:-0.347277,z:1.01342},{x:-0.675933,y:-0.350344,z:0.995021},{x:-0.677439,y:-0.329903,z:0.983502},{x:-0.666667,y:-0.333333,z:1}], faces:[[0,2,1],[0,3,2],[0,4,3],[0,5,4],[0,1,5],[1,2,7,6],[2,3,8,7],[3,4,9,8],[4,5,10,9],[5,1,6,10],[6,7,11],[7,8,11],[8,9,11],[9,10,11],[10,6,11]], color:'#0000ff', opacity:1},{vertices:[{x:-0.916667,y:-0.25,z:1.18056},{x:-0.767971,y:-0.239565,z:1.06316},{x:-0.738644,y:-0.271779,z:1.11864},{x:-0.760662,y:-0.338787,z:1.11908},{x:-0.803595,y:-0.347987,z:1.06388},{x:-0.808113,y:-0.286665,z:1.02932},{x:-0.775797,y:-0.296957,z:1.07882}], faces:[[0,2,1],[0,3,2],[0,4,3],[0,5,4],[0,1,5],[1,2,6],[2,3,6],[3,4,6],[4,5,6],[5,1,6]], color:'#0000ff', opacity:1},{vertices:[{x:-0.598182,y:0.0684848,z:-0.920101},{x:-0.601818,y:0.0848485,z:-0.93101},{x:-0.583743,y:0.0700831,z:-0.933847},{x:-0.585622,y:0.053109,z:-0.917688},{x:-0.604858,y:0.0573838,z:-0.904863},{x:-0.614868,y:0.0769999,z:-0.913097},{x:-0.670303,y:0.0163636,z:-1.01091},{x:-0.652228,y:0.00159825,z:-1.01375},{x:-0.654106,y:-0.0153759,z:-0.997587},{x:-0.673343,y:-0.0111011,z:-0.984762},{x:-0.683353,y:0.00851503,z:-0.992996},{x:-0.666667,y:0,z:-1}], faces:[[0,2,1],[0,3,2],[0,4,3],[0,5,4],[0,1,5],[1,2,7,6],[2,3,8,7],[3,4,9,8],[4,5,10,9],[5,1,6,10],[6,7,11],[7,8,11],[8,9,11],[9,10,11],[10,6,11]], color:'#0000ff', opacity:1},{vertices:[{x:-0.5,y:0.166667,z:-0.805556},{x:-0.609091,y:0.117576,z:-0.952828},{x:-0.554865,y:0.0732796,z:-0.96134},{x:-0.560501,y:0.0223573,z:-0.912861},{x:-0.618211,y:0.0351817,z:-0.874387},{x:-0.648241,y:0.0940299,z:-0.899089},{x:-0.598182,y:0.0684848,z:-0.920101}], faces:[[0,2,1],[0,3,2],[0,4,3],[0,5,4],[0,1,5],[1,2,6],[2,3,6],[3,4,6],[4,5,6],[5,1,6]], color:'#0000ff', opacity:1},{vertices:[{x:-0.640261,y:0.0396078,z:-0.636961},{x:-0.644605,y:0.053092,z:-0.651078},{x:-0.625337,y:0.0396434,z:-0.650274},{x:-0.626694,y:0.0261457,z:-0.631071},{x:-0.646801,y:0.0312522,z:-0.620007},{x:-0.657871,y:0.047906,z:-0.632372},{x:-0.671011,y:0.0134842,z:-0.680784},{x:-0.651742,y:3.55493e-05,z:-0.67998},{x:-0.653099,y:-0.0134622,z:-0.660777},{x:-0.673206,y:-0.00835564,z:-0.649713},{x:-0.684276,y:0.00829812,z:-0.662078},{x:-0.666667,y:0,z:-0.666667}], faces:[[0,2,1],[0,3,2],[0,4,3],[0,5,4],[0,1,5],[1,2,7,6],[2,3,8,7],[3,4,9,8],[4,5,10,9],[5,1,6,10],[6,7,11],[7,8,11],[8,9,11],[9,10,11],[10,6,11]], color:'#0000ff', opacity:1},{vertices:[{x:-0.555556,y:0.166667,z:-0.541667},{x:-0.653293,y:0.0800603,z:-0.679314},{x:-0.595488,y:0.0397145,z:-0.676902},{x:-0.599558,y:-0.000778734,z:-0.619293},{x:-0.659879,y:0.0145409,z:-0.5861},{x:-0.693089,y:0.0645022,z:-0.623195},{x:-0.640261,y:0.0396078,z:-0.636961}], faces:[[0,2,1],[0,3,2],[0,4,3],[0,5,4],[0,1,5],[1,2,6],[2,3,6],[3,4,6],[4,5,6],[5,1,6]], color:'#0000ff', opacity:1},{vertices:[{x:-0.66254,y:0.012381,z:-0.327143},{x:-0.665968,y:0.0220952,z:-0.344286},{x:-0.645665,y:0.0121221,z:-0.337875},{x:-0.648682,y:0.00250667,z:-0.316633},{x:-0.67085,y:0.00653719,z:-0.309915},{x:-0.681533,y:0.0186436,z:-0.327006},{x:-0.670095,y:0.00971429,z:-0.350476},{x:-0.649792,y:-0.000258886,z:-0.344065},{x:-0.652809,y:-0.00987429,z:-0.322823},{x:-0.674977,y:-0.00584376,z:-0.316106},{x:-0.68566,y:0.00626264,z:-0.333196},{x:-0.666667,y:0,z:-0.333333}], faces:[[0,2,1],[0,3,2],[0,4,3],[0,5,4],[0,1,5],[1,2,7,6],[2,3,8,7],[3,4,9,8],[4,5,10,9],[5,1,6,10],[6,7,11],[7,8,11],[8,9,11],[9,10,11],[10,6,11]], color:'#0000ff', opacity:1},{vertices:[{x:-0.611111,y:0.166667,z:-0.25},{x:-0.672825,y:0.0415238,z:-0.378571},{x:-0.611916,y:0.0116043,z:-0.359339},{x:-0.620967,y:-0.0172419,z:-0.295613},{x:-0.68747,y:-0.00515032,z:-0.27546},{x:-0.719521,y:0.0311689,z:-0.326731},{x:-0.66254,y:0.012381,z:-0.327143}], faces:[[0,2,1],[0,3,2],[0,4,3],[0,5,4],[0,1,5],[1,2,6],[2,3,6],[3,4,6],[4,5,6],[5,1,6]], color:'#0000ff', opacity:1},{vertices:[{x:-0.666667,y:0.000512821,z:0.000213675},{x:-0.666667,y:0.00820513,z:-0.0182479},{x:-0.647646,y:0.00288987,z:-0.00549125},{x:-0.654911,y:-0.00571039,z:0.0151494},{x:-0.678422,y:-0.00571039,z:0.0151494},{x:-0.685688,y:0.00288987,z:-0.00549125},{x:-0.666667,y:0.00769231,z:-0.0184615},{x:-0.647646,y:0.00237705,z:-0.00570493},{x:-0.654911,y:-0.00622321,z:0.0149357},{x:-0.678422,y:-0.00622321,z:0.0149357},{x:-0.685688,y:0.00237705,z:-0.00570493},{x:-0.666667,y:0,z:0}], faces:[[0,2,1],[0,3,2],[0,4,3],[0,5,4],[0,1,5],[1,2,7,6],[2,3,8,7],[3,4,9,8],[4,5,10,9],[5,1,6,10],[6,7,11],[7,8,11],[8,9,11],[9,10,11],[10,6,11]], color:'#0000ff', opacity:1},{vertices:[{x:-0.666667,y:0.166667,z:0.0694444},{x:-0.666667,y:0.0235897,z:-0.0551709},{x:-0.609603,y:0.00764398,z:-0.0169011},{x:-0.6314,y:-0.0181568,z:0.0450208},{x:-0.701934,y:-0.0181568,z:0.0450208},{x:-0.72373,y:0.00764398,z:-0.0169011},{x:-0.666667,y:0.000512821,z:0.000213675}], faces:[[0,2,1],[0,3,2],[0,4,3],[0,5,4],[0,1,5],[1,2,6],[2,3,6],[3,4,6],[4,5,6],[5,1,6]], color:'#0000ff', opacity:1},{vertices:[{x:-0.670794,y:0.012381,z:0.339524},{x:-0.667365,y:0.0220952,z:0.322381},{x:-0.6518,y:0.0186436,z:0.339661},{x:-0.662483,y:0.00653719,z:0.356751},{x:-0.684651,y:0.00250667,z:0.350034},{x:-0.687668,y:0.0121221,z:0.328792},{x:-0.663238,y:0.00971429,z:0.31619},{x:-0.647673,y:0.00626264,z:0.333471},{x:-0.658356,y:-0.00584376,z:0.350561},{x:-0.680524,y:-0.00987429,z:0.343843},{x:-0.683541,y:-0.000258886,z:0.322601},{x:-0.666667,y:0,z:0.333333}], faces:[[0,2,1],[0,3,2],[0,4,3],[0,5,4],[0,1,5],[1,2,7,6],[2,3,8,7],[3,4,9,8],[4,5,10,9],[5,1,6,10],[6,7,11],[7,8,11],[8,9,11],[9,10,11],[10,6,11]], color:'#0000ff', opacity:1},{vertices:[{x:-0.722222,y:0.166667,z:0.416667},{x:-0.660508,y:0.0415238,z:0.288095},{x:-0.613813,y:0.0311689,z:0.339935},{x:-0.645863,y:-0.00515032,z:0.391207},{x:-0.712367,y:-0.0172419,z:0.371054},{x:-0.721418,y:0.0116043,z:0.307328},{x:-0.670794,y:0.012381,z:0.339524}], faces:[[0,2,1],[0,3,2],[0,4,3],[0,5,4],[0,1,5],[1,2,6],[2,3,6],[3,4,6],[4,5,6],[5,1,6]], color:'#0000ff', opacity:1},{vertices:[{x:-0.693072,y:0.0396078,z:0.696373},{x:-0.688728,y:0.053092,z:0.682255},{x:-0.675463,y:0.047906,z:0.700961},{x:-0.686533,y:0.0312522,z:0.713326},{x:-0.70664,y:0.0261457,z:0.702262},{x:-0.707996,y:0.0396434,z:0.683059},{x:-0.662323,y:0.0134842,z:0.652549},{x:-0.649057,y:0.00829812,z:0.671255},{x:-0.660127,y:-0.00835564,z:0.68362},{x:-0.680234,y:-0.0134622,z:0.672556},{x:-0.681591,y:3.55493e-05,z:0.653353},{x:-0.666667,y:0,z:0.666667}], faces:[[0,2,1],[0,3,2],[0,4,3],[0,5,4],[0,1,5],[1,2,7,6],[2,3,8,7],[3,4,9,8],[4,5,10,9],[5,1,6,10],[6,7,11],[7,8,11],[8,9,11],[9,10,11],[10,6,11]], color:'#0000ff', opacity:1},{vertices:[{x:-0.777778,y:0.166667,z:0.791667},{x:-0.68004,y:0.0800603,z:0.65402},{x:-0.640244,y:0.0645022,z:0.710138},{x:-0.673454,y:0.0145409,z:0.747233},{x:-0.733775,y:-0.000778734,z:0.714041},{x:-0.737846,y:0.0397145,z:0.656431},{x:-0.693072,y:0.0396078,z:0.696373}], faces:[[0,2,1],[0,3,2],[0,4,3],[0,5,4],[0,1,5],[1,2,6],[2,3,6],[3,4,6],[4,5,6],[5,1,6]], color:'#0000ff', opacity:1},{vertices:[{x:-0.735152,y:0.0684848,z:1.0799},{x:-0.731515,y:0.0848485,z:1.06899},{x:-0.718465,y:0.0769999,z:1.0869},{x:-0.728475,y:0.0573838,z:1.09514},{x:-0.747712,y:0.053109,z:1.08231},{x:-0.749591,y:0.0700831,z:1.06615},{x:-0.66303,y:0.0163636,z:0.989091},{x:-0.64998,y:0.00851503,z:1.007},{x:-0.65999,y:-0.0111011,z:1.01524},{x:-0.679227,y:-0.0153759,z:1.00241},{x:-0.681106,y:0.00159825,z:0.986254},{x:-0.666667,y:0,z:1}], faces:[[0,2,1],[0,3,2],[0,4,3],[0,5,4],[0,1,5],[1,2,7,6],[2,3,8,7],[3,4,9,8],[4,5,10,9],[5,1,6,10],[6,7,11],[7,8,11],[8,9,11],[9,10,11],[10,6,11]], color:'#0000ff', opacity:1},{vertices:[{x:-0.833333,y:0.166667,z:1.19444},{x:-0.724242,y:0.117576,z:1.04717},{x:-0.685092,y:0.0940299,z:1.10091},{x:-0.715122,y:0.0351817,z:1.12561},{x:-0.772832,y:0.0223573,z:1.08714},{x:-0.778469,y:0.0732796,z:1.03866},{x:-0.735152,y:0.0684848,z:1.0799}], faces:[[0,2,1],[0,3,2],[0,4,3],[0,5,4],[0,1,5],[1,2,6],[2,3,6],[3,4,6],[4,5,6],[5,1,6]], color:'#0000ff', opacity:1},{vertices:[{x:-0.557536,y:0.36971,z:-0.921184},{x:-0.560145,y:0.388841,z:-0.926401},{x:-0.546764,y:0.373141,z:-0.937682},{x:-0.54827,y:0.3527,z:-0.926163},{x:-0.562581,y:0.355767,z:-0.907762},{x:-0.56992,y:0.378103,z:-0.90791},{x:-0.669275,y:0.352464,z:-1.00522},{x:-0.655895,y:0.336764,z:-1.0165},{x:-0.657401,y:0.316323,z:-1.00498},{x:-0.671712,y:0.31939,z:-0.986579},{x:-0.679051,y:0.341726,z:-0.986726},{x:-0.666667,y:0.333333,z:-1}], faces:[[0,2,1],[0,3,2],[0,4,3],[0,5,4],[0,1,5],[1,2,7,6],[2,3,8,7],[3,4,9,8],[4,5,10,9],[5,1,6,10],[6,7,11],[7,8,11],[8,9,11],[9,10,11],[10,6,11]], color:'#0000ff', opacity:1},{vertices:[{x:-0.416667,y:0.416667,z:-0.819444},{x:-0.565362,y:0.427101,z:-0.936836},{x:-0.52522,y:0.380002,z:-0.970679},{x:-0.529738,y:0.31868,z:-0.936121},{x:-0.572672,y:0.32788,z:-0.88092},{x:-0.594689,y:0.394888,z:-0.881362},{x:-0.557536,y:0.36971,z:-0.921184}], faces:[[0,2,1],[0,3,2],[0,4,3],[0,5,4],[0,1,5],[1,2,6],[2,3,6],[3,4,6],[4,5,6],[5,1,6]], color:'#0000ff', opacity:1},{vertices:[{x:-0.612222,y:0.364444,z:-0.635556},{x:-0.617009,y:0.381709,z:-0.644444},{x:-0.602646,y:0.365228,z:-0.653097},{x:-0.601518,y:0.347663,z:-0.637508},{x:-0.615182,y:0.35329,z:-0.619221},{x:-0.624756,y:0.374332,z:-0.623508},{x:-0.671453,y:0.350598,z:-0.675556},{x:-0.657091,y:0.334116,z:-0.684208},{x:-0.655962,y:0.316552,z:-0.668619},{x:-0.669627,y:0.322179,z:-0.650332},{x:-0.679201,y:0.343221,z:-0.654619},{x:-0.666667,y:0.333333,z:-0.666667}], faces:[[0,2,1],[0,3,2],[0,4,3],[0,5,4],[0,1,5],[1,2,7,6],[2,3,8,7],[3,4,9,8],[4,5,10,9],[5,1,6,10],[6,7,11],[7,8,11],[8,9,11],[9,10,11],[10,6,11]], color:'#0000ff', opacity:1},{vertices:[{x:-0.472222,y:0.444444,z:-0.555556},{x:-0.626581,y:0.416239,z:-0.662222},{x:-0.583494,y:0.366794,z:-0.688179},{x:-0.580108,y:0.314102,z:-0.641412},{x:-0.621103,y:0.330982,z:-0.586552},{x:-0.649824,y:0.394106,z:-0.599413},{x:-0.612222,y:0.364444,z:-0.635556}], faces:[[0,2,1],[0,3,2],[0,4,3],[0,5,4],[0,1,5],[1,2,6],[2,3,6],[3,4,6],[4,5,6],[5,1,6]], color:'#0000ff', opacity:1},{vertices:[{x:-0.647778,y:0.352222,z:-0.323889},{x:-0.654444,y:0.365556,z:-0.337222},{x:-0.637157,y:0.350002,z:-0.34069},{x:-0.634547,y:0.337517,z:-0.320939},{x:-0.650221,y:0.345354,z:-0.305265},{x:-0.662519,y:0.362683,z:-0.315328},{x:-0.673333,y:0.346667,z:-0.346667},{x:-0.656046,y:0.331113,z:-0.350134},{x:-0.653436,y:0.318628,z:-0.330384},{x:-0.66911,y:0.326465,z:-0.314709},{x:-0.681408,y:0.343794,z:-0.324773},{x:-0.666667,y:0.333333,z:-0.333333}], faces:[[0,2,1],[0,3,2],[0,4,3],[0,5,4],[0,1,5],[1,2,7,6],[2,3,8,7],[3,4,9,8],[4,5,10,9],[5,1,6,10],[6,7,11],[7,8,11],[8,9,11],[9,10,11],[10,6,11]], color:'#0000ff', opacity:1},{vertices:[{x:-0.527778,y:0.472222,z:-0.263889},{x:-0.667778,y:0.392222,z:-0.363889},{x:-0.615916,y:0.345562,z:-0.374292},{x:-0.608086,y:0.308106,z:-0.31504},{x:-0.655109,y:0.331617,z:-0.268017},{x:-0.692,y:0.383604,z:-0.298207},{x:-0.647778,y:0.352222,z:-0.323889}], faces:[[0,2,1],[0,3,2],[0,4,3],[0,5,4],[0,1,5],[1,2,6],[2,3,6],[3,4,6],[4,5,6],[5,1,6]], color:'#0000ff', opacity:1},{vertices:[{x:-0.660476,y:0.345714,z:0.00412698},{x:-0.66619,y:0.354286,z:-0.0130159},{x:-0.645938,y:0.342928,z:-0.00932236},{x:-0.645777,y:0.335421,z:0.0129577},{x:-0.66593,y:0.342139,z:0.023034},{x:-0.678546,y:0.353798,z:0.00698146},{x:-0.672381,y:0.341905,z:-0.0171429},{x:-0.652129,y:0.330547,z:-0.0134493},{x:-0.651967,y:0.32304,z:0.0088307},{x:-0.67212,y:0.329758,z:0.018907},{x:-0.684736,y:0.341417,z:0.00285448},{x:-0.666667,y:0.333333,z:0}], faces:[[0,2,1],[0,3,2],[0,4,3],[0,5,4],[0,1,5],[1,2,7,6],[2,3,8,7],[3,4,9,8],[4,5,10,9],[5,1,6,10],[6,7,11],[7,8,11],[8,9,11],[9,10,11],[10,6,11]], color:'#0000ff', opacity:1},{vertices:[{x:-0.583333,y:0.5,z:0.0555556},{x:-0.677619,y:0.371429,z:-0.0473016},{x:-0.616862,y:0.337357,z:-0.0362211},{x:-0.616378,y:0.314835,z:0.0306191},{x:-0.676836,y:0.334987,z:0.0608481},{x:-0.714685,y:0.369964,z:0.0126904},{x:-0.660476,y:0.345714,z:0.00412698}], faces:[[0,2,1],[0,3,2],[0,4,3],[0,5,4],[0,1,5],[1,2,6],[2,3,6],[3,4,6],[4,5,6],[5,1,6]], color:'#0000ff', opacity:1},{vertices:[{x:-0.662889,y:0.359778,z:0.342778},{x:-0.664756,y:0.366711,z:0.324111},{x:-0.644698,y:0.360145,z:0.334473},{x:-0.64978,y:0.353071,z:0.356312},{x:-0.672978,y:0.355266,z:0.359447},{x:-0.682233,y:0.363696,z:0.339546},{x:-0.668533,y:0.340267,z:0.314667},{x:-0.648476,y:0.333701,z:0.325029},{x:-0.653558,y:0.326627,z:0.346868},{x:-0.676755,y:0.328821,z:0.350002},{x:-0.686011,y:0.337251,z:0.330101},{x:-0.666667,y:0.333333,z:0.333333}], faces:[[0,2,1],[0,3,2],[0,4,3],[0,5,4],[0,1,5],[1,2,7,6],[2,3,8,7],[3,4,9,8],[4,5,10,9],[5,1,6,10],[6,7,11],[7,8,11],[8,9,11],[9,10,11],[10,6,11]], color:'#0000ff', opacity:1},{vertices:[{x:-0.638889,y:0.527778,z:0.402778},{x:-0.668489,y:0.380578,z:0.286778},{x:-0.608317,y:0.360879,z:0.317864},{x:-0.623562,y:0.339659,z:0.38338},{x:-0.693155,y:0.346242,z:0.392785},{x:-0.720922,y:0.371531,z:0.333081},{x:-0.662889,y:0.359778,z:0.342778}], faces:[[0,2,1],[0,3,2],[0,4,3],[0,5,4],[0,1,5],[1,2,6],[2,3,6],[3,4,6],[4,5,6],[5,1,6]], color:'#0000ff', opacity:1},{vertices:[{x:-0.674444,y:0.395556,z:0.697778},{x:-0.673077,y:0.404615,z:0.68},{x:-0.655163,y:0.399656,z:0.694398},{x:-0.663896,y:0.38903,z:0.713466},{x:-0.687206,y:0.387422,z:0.710854},{x:-0.69288,y:0.397055,z:0.690171},{x:-0.665299,y:0.342393,z:0.648889},{x:-0.647386,y:0.337434,z:0.663286},{x:-0.656118,y:0.326808,z:0.682355},{x:-0.679428,y:0.3252,z:0.679743},{x:-0.685103,y:0.334832,z:0.65906},{x:-0.666667,y:0.333333,z:0.666667}], faces:[[0,2,1],[0,3,2],[0,4,3],[0,5,4],[0,1,5],[1,2,7,6],[2,3,8,7],[3,4,9,8],[4,5,10,9],[5,1,6,10],[6,7,11],[7,8,11],[8,9,11],[9,10,11],[10,6,11]], color:'#0000ff', opacity:1},{vertices:[{x:-0.694444,y:0.555556,z:0.777778},{x:-0.670342,y:0.422735,z:0.644444},{x:-0.616601,y:0.407856,z:0.687637},{x:-0.642798,y:0.375978,z:0.744844},{x:-0.712729,y:0.371155,z:0.737007},{x:-0.729752,y:0.400053,z:0.674956},{x:-0.674444,y:0.395556,z:0.697778}], faces:[[0,2,1],[0,3,2],[0,4,3],[0,5,4],[0,1,5],[1,2,6],[2,3,6],[3,4,6],[4,5,6],[5,1,6]], color:'#0000ff', opacity:1},{vertices:[{x:-0.703043,y:0.442464,z:1.07882},{x:-0.700435,y:0.454638,z:1.06316},{x:-0.684043,y:0.448707,z:1.07894},{x:-0.693909,y:0.434148,z:1.09455},{x:-0.716399,y:0.431082,z:1.08841},{x:-0.720431,y:0.443745,z:1.06902},{x:-0.664058,y:0.345507,z:0.984348},{x:-0.647666,y:0.339576,z:1.00013},{x:-0.657533,y:0.325018,z:1.01573},{x:-0.680022,y:0.321951,z:1.0096},{x:-0.684055,y:0.334614,z:0.990201},{x:-0.666667,y:0.333333,z:1}], faces:[[0,2,1],[0,3,2],[0,4,3],[0,5,4],[0,1,5],[1,2,7,6],[2,3,8,7],[3,4,9,8],[4,5,10,9],[5,1,6,10],[6,7,11],[7,8,11],[8,9,11],[9,10,11],[10,6,11]], color:'#0000ff', opacity:1},{vertices:[{x:-0.75,y:0.583333,z:1.18056},{x:-0.695217,y:0.478986,z:1.03186},{x:-0.646043,y:0.461193,z:1.07919},{x:-0.675641,y:0.417517,z:1.12601},{x:-0.743109,y:0.408317,z:1.1076},{x:-0.755207,y:0.446307,z:1.04942},{x:-0.703043,y:0.442464,z:1.07882}], faces:[[0,2,1],[0,3,2],[0,4,3],[0,5,4],[0,1,5],[1,2,6],[2,3,6],[3,4,6],[4,5,6],[5,1,6]], color:'#0000ff', opacity:1},{vertices:[{x:-0.499487,y:0.666667,z:-0.930342},{x:-0.499487,y:0.686667,z:-0.930342},{x:-0.492171,y:0.672847,z:-0.9479},{x:-0.494966,y:0.650486,z:-0.941193},{x:-0.504009,y:0.650486,z:-0.91949},{x:-0.506803,y:0.672847,z:-0.912784},{x:-0.666667,y:0.686667,z:-1},{x:-0.659351,y:0.672847,z:-1.01756},{x:-0.662145,y:0.650486,z:-1.01085},{x:-0.671188,y:0.650486,z:-0.989149},{x:-0.673982,y:0.672847,z:-0.982442},{x:-0.666667,y:0.666667,z:-1}], faces:[[0,2,1],[0,3,2],[0,4,3],[0,5,4],[0,1,5],[1,2,7,6],[2,3,8,7],[3,4,9,8],[4,5,10,9],[5,1,6,10],[6,7,11],[7,8,11],[8,9,11],[9,10,11],[10,6,11]], color:'#0000ff', opacity:1},{vertices:[{x:-0.333333,y:0.666667,z:-0.861111},{x:-0.499487,y:0.726667,z:-0.930342},{x:-0.47754,y:0.685208,z:-0.983016},{x:-0.485923,y:0.618126,z:-0.962896},{x:-0.513051,y:0.618126,z:-0.897788},{x:-0.521435,y:0.685208,z:-0.877668},{x:-0.499487,y:0.666667,z:-0.930342}], faces:[[0,2,1],[0,3,2],[0,4,3],[0,5,4],[0,1,5],[1,2,6],[2,3,6],[3,4,6],[4,5,6],[5,1,6]], color:'#0000ff', opacity:1},{vertices:[{x:-0.560317,y:0.687937,z:-0.640079},{x:-0.563248,y:0.70735,z:-0.643889},{x:-0.556137,y:0.691149,z:-0.659372},{x:-0.554803,y:0.670508,z:-0.648193},{x:-0.56109,y:0.673953,z:-0.625801},{x:-0.566309,y:0.696723,z:-0.623141},{x:-0.669597,y:0.686081,z:-0.670476},{x:-0.662486,y:0.669879,z:-0.685959},{x:-0.661152,y:0.649238,z:-0.674781},{x:-0.667439,y:0.652683,z:-0.652389},{x:-0.672658,y:0.675453,z:-0.649729},{x:-0.666667,y:0.666667,z:-0.666667}], faces:[[0,2,1],[0,3,2],[0,4,3],[0,5,4],[0,1,5],[1,2,7,6],[2,3,8,7],[3,4,9,8],[4,5,10,9],[5,1,6,10],[6,7,11],[7,8,11],[8,9,11],[9,10,11],[10,6,11]], color:'#0000ff', opacity:1},{vertices:[{x:-0.388889,y:0.722222,z:-0.597222},{x:-0.569109,y:0.746178,z:-0.651508},{x:-0.547775,y:0.697573,z:-0.697957},{x:-0.543775,y:0.635651,z:-0.664421},{x:-0.562636,y:0.645985,z:-0.597246},{x:-0.578293,y:0.714295,z:-0.589265},{x:-0.560317,y:0.687937,z:-0.640079}], faces:[[0,2,1],[0,3,2],[0,4,3],[0,5,4],[0,1,5],[1,2,6],[2,3,6],[3,4,6],[4,5,6],[5,1,6]], color:'#0000ff', opacity:1},{vertices:[{x:-0.604444,y:0.697778,z:-0.325556},{x:-0.611556,y:0.714222,z:-0.334444},{x:-0.601147,y:0.696096,z:-0.34521},{x:-0.595295,y:0.680294,z:-0.328814},{x:-0.602088,y:0.688654,z:-0.307915},{x:-0.612137,y:0.709622,z:-0.311395},{x:-0.673778,y:0.683111,z:-0.342222},{x:-0.663369,y:0.664985,z:-0.352988},{x:-0.657518,y:0.649183,z:-0.336592},{x:-0.66431,y:0.657543,z:-0.315693},{x:-0.674359,y:0.678511,z:-0.319172},{x:-0.666667,y:0.666667,z:-0.333333}], faces:[[0,2,1],[0,3,2],[0,4,3],[0,5,4],[0,1,5],[1,2,7,6],[2,3,8,7],[3,4,9,8],[4,5,10,9],[5,1,6,10],[6,7,11],[7,8,11],[8,9,11],[9,10,11],[10,6,11]], color:'#0000ff', opacity:1},{vertices:[{x:-0.444444,y:0.777778,z:-0.305556},{x:-0.625778,y:0.747111,z:-0.352222},{x:-0.594552,y:0.692733,z:-0.384519},{x:-0.576997,y:0.645327,z:-0.33533},{x:-0.597374,y:0.670406,z:-0.272633},{x:-0.627522,y:0.733312,z:-0.283073},{x:-0.604444,y:0.697778,z:-0.325556}], faces:[[0,2,1],[0,3,2],[0,4,3],[0,5,4],[0,1,5],[1,2,6],[2,3,6],[3,4,6],[4,5,6],[5,1,6]], color:'#0000ff', opacity:1},{vertices:[{x:-0.627059,y:0.706275,z:0.00330065},{x:-0.636471,y:0.716863,z:-0.010817},{x:-0.619897,y:0.700595,z:-0.0144886},{x:-0.613221,y:0.692176,z:0.00642393},{x:-0.625668,y:0.703241,z:0.0230202},{x:-0.640037,y:0.718498,z:0.0123647},{x:-0.676078,y:0.677255,z:-0.0141176},{x:-0.659505,y:0.660987,z:-0.0177893},{x:-0.652829,y:0.652569,z:0.00312327},{x:-0.665276,y:0.663633,z:0.0197196},{x:-0.679645,y:0.67889,z:0.00906409},{x:-0.666667,y:0.666667,z:0}], faces:[[0,2,1],[0,3,2],[0,4,3],[0,5,4],[0,1,5],[1,2,7,6],[2,3,8,7],[3,4,9,8],[4,5,10,9],[5,1,6,10],[6,7,11],[7,8,11],[8,9,11],[9,10,11],[10,6,11]], color:'#0000ff', opacity:1},{vertices:[{x:-0.5,y:0.833333,z:0.0138889},{x:-0.655294,y:0.738039,z:-0.0390523},{x:-0.605574,y:0.689237,z:-0.0500672},{x:-0.585545,y:0.66398,z:0.0126705},{x:-0.622887,y:0.697173,z:0.0624593},{x:-0.665994,y:0.742944,z:0.0304929},{x:-0.627059,y:0.706275,z:0.00330065}], faces:[[0,2,1],[0,3,2],[0,4,3],[0,5,4],[0,1,5],[1,2,6],[2,3,6],[3,4,6],[4,5,6],[5,1,6]], color:'#0000ff', opacity:1},{vertices:[{x:-0.635556,y:0.728889,z:0.341111},{x:-0.642667,y:0.734667,z:0.323333},{x:-0.622113,y:0.723911,z:0.327164},{x:-0.620137,y:0.720035,z:0.350269},{x:-0.639468,y:0.728394,z:0.360718},{x:-0.653393,y:0.737437,z:0.344071},{x:-0.673778,y:0.672444,z:0.315556},{x:-0.653225,y:0.661689,z:0.319386},{x:-0.651248,y:0.657813,z:0.342491},{x:-0.670579,y:0.666172,z:0.352941},{x:-0.684504,y:0.675215,z:0.336294},{x:-0.666667,y:0.666667,z:0.333333}], faces:[[0,2,1],[0,3,2],[0,4,3],[0,5,4],[0,1,5],[1,2,7,6],[2,3,8,7],[3,4,9,8],[4,5,10,9],[5,1,6,10],[6,7,11],[7,8,11],[8,9,11],[9,10,11],[10,6,11]], color:'#0000ff', opacity:1},{vertices:[{x:-0.555556,y:0.888889,z:0.361111},{x:-0.656889,y:0.746222,z:0.287778},{x:-0.595229,y:0.713956,z:0.299269},{x:-0.589299,y:0.702327,z:0.368584},{x:-0.647294,y:0.727405,z:0.399933},{x:-0.689067,y:0.754534,z:0.349992},{x:-0.635556,y:0.728889,z:0.341111}], faces:[[0,2,1],[0,3,2],[0,4,3],[0,5,4],[0,1,5],[1,2,6],[2,3,6],[3,4,6],[4,5,6],[5,1,6]], color:'#0000ff', opacity:1},{vertices:[{x:-0.645397,y:0.773016,z:0.693254},{x:-0.648327,y:0.778364,z:0.674206},{x:-0.627839,y:0.771882,z:0.683745},{x:-0.631615,y:0.766967,z:0.706425},{x:-0.654437,y:0.770412,z:0.710903},{x:-0.664766,y:0.777455,z:0.690991},{x:-0.669597,y:0.672015,z:0.647619},{x:-0.649108,y:0.665532,z:0.657158},{x:-0.652885,y:0.660618,z:0.679837},{x:-0.675707,y:0.664063,z:0.684316},{x:-0.686036,y:0.671106,z:0.664404},{x:-0.666667,y:0.666667,z:0.666667}], faces:[[0,2,1],[0,3,2],[0,4,3],[0,5,4],[0,1,5],[1,2,7,6],[2,3,8,7],[3,4,9,8],[4,5,10,9],[5,1,6,10],[6,7,11],[7,8,11],[8,9,11],[9,10,11],[10,6,11]], color:'#0000ff', opacity:1},{vertices:[{x:-0.611111,y:0.944444,z:0.736111},{x:-0.654188,y:0.78906,z:0.636111},{x:-0.592722,y:0.769613,z:0.664727},{x:-0.604051,y:0.754869,z:0.732766},{x:-0.672518,y:0.765203,z:0.746201},{x:-0.703505,y:0.786335,z:0.686465},{x:-0.645397,y:0.773016,z:0.693254}], faces:[[0,2,1],[0,3,2],[0,4,3],[0,5,4],[0,1,5],[1,2,6],[2,3,6],[3,4,6],[4,5,6],[5,1,6]], color:'#0000ff', opacity:1},{vertices:[{x:-0.666667,y:0.833846,z:1.06966},{x:-0.666667,y:0.841538,z:1.0512},{x:-0.647646,y:0.836223,z:1.06395},{x:-0.654911,y:0.827623,z:1.08459},{x:-0.678422,y:0.827623,z:1.08459},{x:-0.685688,y:0.836223,z:1.06395},{x:-0.666667,y:0.674359,z:0.981538},{x:-0.647646,y:0.669044,z:0.994295},{x:-0.654911,y:0.660443,z:1.01494},{x:-0.678422,y:0.660443,z:1.01494},{x:-0.685688,y:0.669044,z:0.994295},{x:-0.666667,y:0.666667,z:1}], faces:[[0,2,1],[0,3,2],[0,4,3],[0,5,4],[0,1,5],[1,2,7,6],[2,3,8,7],[3,4,9,8],[4,5,10,9],[5,1,6,10],[6,7,11],[7,8,11],[8,9,11],[9,10,11],[10,6,11]], color:'#0000ff', opacity:1},{vertices:[{x:-0.666667,y:1,z:1.13889},{x:-0.666667,y:0.856923,z:1.01427},{x:-0.609603,y:0.840977,z:1.05254},{x:-0.6314,y:0.815177,z:1.11447},{x:-0.701934,y:0.815177,z:1.11447},{x:-0.72373,y:0.840977,z:1.05254},{x:-0.666667,y:0.833846,z:1.06966}], faces:[[0,2,1],[0,3,2],[0,4,3],[0,5,4],[0,1,5],[1,2,6],[2,3,6],[3,4,6],[4,5,6],[5,1,6]], color:'#0000ff', opacity:1},{vertices:[{x:-0.424194,y:0.951505,z:-0.959588},{x:-0.420968,y:0.97086,z:-0.955717},{x:-0.419515,y:0.960554,z:-0.976799},{x:-0.424528,y:0.937743,z:-0.974096},{x:-0.429079,y:0.933951,z:-0.951343},{x:-0.426878,y:0.954418,z:-0.939984},{x:-0.663441,y:1.01935,z:-0.996129},{x:-0.661988,y:1.00905,z:-1.01721},{x:-0.667001,y:0.986238,z:-1.01451},{x:-0.671552,y:0.982446,z:-0.991755},{x:-0.669351,y:1.00291,z:-0.980396},{x:-0.666667,y:1,z:-1}], faces:[[0,2,1],[0,3,2],[0,4,3],[0,5,4],[0,1,5],[1,2,7,6],[2,3,8,7],[3,4,9,8],[4,5,10,9],[5,1,6,10],[6,7,11],[7,8,11],[8,9,11],[9,10,11],[10,6,11]], color:'#0000ff', opacity:1},{vertices:[{x:-0.25,y:0.916667,z:-0.930556},{x:-0.414516,y:1.00957,z:-0.947975},{x:-0.410159,y:0.978652,z:-1.01122},{x:-0.425197,y:0.910218,z:-1.00311},{x:-0.438849,y:0.898842,z:-0.934853},{x:-0.432248,y:0.960245,z:-0.900777},{x:-0.424194,y:0.951505,z:-0.959588}], faces:[[0,2,1],[0,3,2],[0,4,3],[0,5,4],[0,1,5],[1,2,6],[2,3,6],[3,4,6],[4,5,6],[5,1,6]], color:'#0000ff', opacity:1},{vertices:[{x:-0.485556,y:1,z:-0.666667},{x:-0.485556,y:1.02,z:-0.666667},{x:-0.485556,y:1.00618,z:-0.685688},{x:-0.485556,y:0.98382,z:-0.678422},{x:-0.485556,y:0.98382,z:-0.654911},{x:-0.485556,y:1.00618,z:-0.647646},{x:-0.666667,y:1.02,z:-0.666667},{x:-0.666667,y:1.00618,z:-0.685688},{x:-0.666667,y:0.98382,z:-0.678422},{x:-0.666667,y:0.98382,z:-0.654911},{x:-0.666667,y:1.00618,z:-0.647646},{x:-0.666667,y:1,z:-0.666667}], faces:[[0,2,1],[0,3,2],[0,4,3],[0,5,4],[0,1,5],[1,2,7,6],[2,3,8,7],[3,4,9,8],[4,5,10,9],[5,1,6,10],[6,7,11],[7,8,11],[8,9,11],[9,10,11],[10,6,11]], color:'#0000ff', opacity:1},{vertices:[{x:-0.305556,y:1,z:-0.666667},{x:-0.485556,y:1.06,z:-0.666667},{x:-0.485556,y:1.01854,z:-0.72373},{x:-0.485556,y:0.951459,z:-0.701934},{x:-0.485556,y:0.951459,z:-0.6314},{x:-0.485556,y:1.01854,z:-0.609603},{x:-0.485556,y:1,z:-0.666667}], faces:[[0,2,1],[0,3,2],[0,4,3],[0,5,4],[0,1,5],[1,2,6],[2,3,6],[3,4,6],[4,5,6],[5,1,6]], color:'#0000ff', opacity:1},{vertices:[{x:-0.533285,y:1.03638,z:-0.351522},{x:-0.539024,y:1.05481,z:-0.356739},{x:-0.536051,y:1.03662,z:-0.371328},{x:-0.529255,y:1.01809,z:-0.358545},{x:-0.528029,y:1.02484,z:-0.336056},{x:-0.534066,y:1.04753,z:-0.33494},{x:-0.672406,y:1.01843,z:-0.338551},{x:-0.669433,y:1.00024,z:-0.35314},{x:-0.662637,y:0.981713,z:-0.340357},{x:-0.66141,y:0.988459,z:-0.317868},{x:-0.667448,y:1.01115,z:-0.316751},{x:-0.666667,y:1,z:-0.333333}], faces:[[0,2,1],[0,3,2],[0,4,3],[0,5,4],[0,1,5],[1,2,7,6],[2,3,8,7],[3,4,9,8],[4,5,10,9],[5,1,6,10],[6,7,11],[7,8,11],[8,9,11],[9,10,11],[10,6,11]], color:'#0000ff', opacity:1},{vertices:[{x:-0.361111,y:1.08333,z:-0.375},{x:-0.550502,y:1.09168,z:-0.367174},{x:-0.541583,y:1.03709,z:-0.410941},{x:-0.521196,y:0.981515,z:-0.372593},{x:-0.517516,y:1.00175,z:-0.305125},{x:-0.535628,y:1.06984,z:-0.301776},{x:-0.533285,y:1.03638,z:-0.351522}], faces:[[0,2,1],[0,3,2],[0,4,3],[0,5,4],[0,1,5],[1,2,6],[2,3,6],[3,4,6],[4,5,6],[5,1,6]], color:'#0000ff', opacity:1},{vertices:[{x:-0.563939,y:1.06848,z:-0.0228283},{x:-0.574848,y:1.08121,z:-0.0337374},{x:-0.563852,y:1.06204,z:-0.0417621},{x:-0.552976,y:1.05178,z:-0.0236209},{x:-0.557251,y:1.0646,z:-0.00438434},{x:-0.570769,y:1.08279,z:-0.0106366},{x:-0.677576,y:1.01273,z:-0.0109091},{x:-0.666579,y:0.993558,z:-0.0189338},{x:-0.655704,y:0.983291,z:-0.000792664},{x:-0.659978,y:0.996116,z:0.0184439},{x:-0.673496,y:1.01431,z:0.0121916},{x:-0.666667,y:1,z:0}], faces:[[0,2,1],[0,3,2],[0,4,3],[0,5,4],[0,1,5],[1,2,7,6],[2,3,8,7],[3,4,9,8],[4,5,10,9],[5,1,6,10],[6,7,11],[7,8,11],[8,9,11],[9,10,11],[10,6,11]], color:'#0000ff', opacity:1},{vertices:[{x:-0.416667,y:1.16667,z:-0.0555556},{x:-0.596667,y:1.10667,z:-0.0555556},{x:-0.563678,y:1.04916,z:-0.0796298},{x:-0.53105,y:1.01836,z:-0.0252063},{x:-0.543875,y:1.05683,z:0.0325035},{x:-0.584428,y:1.11141,z:0.0137467},{x:-0.563939,y:1.06848,z:-0.0228283}], faces:[[0,2,1],[0,3,2],[0,4,3],[0,5,4],[0,1,5],[1,2,6],[2,3,6],[3,4,6],[4,5,6],[5,1,6]], color:'#0000ff', opacity:1},{vertices:[{x:-0.581787,y:1.10913,z:0.315145},{x:-0.592744,y:1.11504,z:0.299493},{x:-0.574257,y:1.10054,z:0.29873},{x:-0.566177,y:1.09791,z:0.320652},{x:-0.57967,y:1.11079,z:0.334963},{x:-0.59609,y:1.12138,z:0.321886},{x:-0.677623,y:1.00591,z:0.317681},{x:-0.659136,y:0.991407,z:0.316918},{x:-0.651056,y:0.988776,z:0.338841},{x:-0.664549,y:1.00166,z:0.353152},{x:-0.680969,y:1.01225,z:0.340075},{x:-0.666667,y:1,z:0.333333}], faces:[[0,2,1],[0,3,2],[0,4,3],[0,5,4],[0,1,5],[1,2,7,6],[2,3,8,7],[3,4,9,8],[4,5,10,9],[5,1,6,10],[6,7,11],[7,8,11],[8,9,11],[9,10,11],[10,6,11]], color:'#0000ff', opacity:1},{vertices:[{x:-0.472222,y:1.25,z:0.291667},{x:-0.614657,y:1.12687,z:0.268188},{x:-0.559195,y:1.08335,z:0.2659},{x:-0.534955,y:1.07546,z:0.331667},{x:-0.575436,y:1.1141,z:0.3746},{x:-0.624694,y:1.14587,z:0.335369},{x:-0.581787,y:1.10913,z:0.315145}], faces:[[0,2,1],[0,3,2],[0,4,3],[0,5,4],[0,1,5],[1,2,6],[2,3,6],[3,4,6],[4,5,6],[5,1,6]], color:'#0000ff', opacity:1},{vertices:[{x:-0.597009,y:1.16718,z:0.666667},{x:-0.604109,y:1.17014,z:0.648205},{x:-0.582995,y:1.16134,z:0.653646},{x:-0.581247,y:1.16061,z:0.677081},{x:-0.601281,y:1.16896,z:0.686124},{x:-0.61541,y:1.17485,z:0.668278},{x:-0.673767,y:1.00296,z:0.648205},{x:-0.652654,y:0.994161,z:0.653646},{x:-0.650905,y:0.993433,z:0.677081},{x:-0.670939,y:1.00178,z:0.686124},{x:-0.685068,y:1.00767,z:0.668278},{x:-0.666667,y:1,z:0.666667}], faces:[[0,2,1],[0,3,2],[0,4,3],[0,5,4],[0,1,5],[1,2,7,6],[2,3,8,7],[3,4,9,8],[4,5,10,9],[5,1,6,10],[6,7,11],[7,8,11],[8,9,11],[9,10,11],[10,6,11]], color:'#0000ff', opacity:1},{vertices:[{x:-0.527778,y:1.33333,z:0.666667},{x:-0.61831,y:1.17606,z:0.611282},{x:-0.554969,y:1.14966,z:0.627604},{x:-0.549725,y:1.14748,z:0.697909},{x:-0.609825,y:1.17252,z:0.725038},{x:-0.652213,y:1.19018,z:0.671499},{x:-0.597009,y:1.16718,z:0.666667}], faces:[[0,2,1],[0,3,2],[0,4,3],[0,5,4],[0,1,5],[1,2,6],[2,3,6],[3,4,6],[4,5,6],[5,1,6]], color:'#0000ff', opacity:1},{vertices:[{x:-0.618172,y:1.24247,z:1.04041},{x:-0.621398,y:1.24634,z:1.02106},{x:-0.600761,y:1.2406,z:1.03075},{x:-0.604186,y:1.23745,z:1.0538},{x:-0.626939,y:1.24124,z:1.05835},{x:-0.637576,y:1.24674,z:1.03811},{x:-0.669892,y:1.00387,z:0.980645},{x:-0.649256,y:0.998128,z:0.990338},{x:-0.65268,y:0.994972,z:1.01338},{x:-0.675433,y:0.998764,z:1.01793},{x:-0.686071,y:1.00426,z:0.997701},{x:-0.666667,y:1,z:1}], faces:[[0,2,1],[0,3,2],[0,4,3],[0,5,4],[0,1,5],[1,2,7,6],[2,3,8,7],[3,4,9,8],[4,5,10,9],[5,1,6,10],[6,7,11],[7,8,11],[8,9,11],[9,10,11],[10,6,11]], color:'#0000ff', opacity:1},{vertices:[{x:-0.583333,y:1.41667,z:1.06944},{x:-0.627849,y:1.25409,z:0.982348},{x:-0.56594,y:1.23686,z:1.01142},{x:-0.576213,y:1.22739,z:1.08056},{x:-0.644472,y:1.23877,z:1.09421},{x:-0.676385,y:1.25527,z:1.03351},{x:-0.618172,y:1.24247,z:1.04041}], faces:[[0,2,1],[0,3,2],[0,4,3],[0,5,4],[0,1,5],[1,2,6],[2,3,6],[3,4,6],[4,5,6],[5,1,6]], color:'#0000ff', opacity:1},{vertices:[{x:-0.422857,y:-0.820952,z:-0.940317},{x:-0.417143,y:-0.812381,z:-0.95746},{x:-0.404788,y:-0.812869,z:-0.937463},{x:-0.417404,y:-0.824528,z:-0.92141},{x:-0.437556,y:-0.831246,z:-0.931487},{x:-0.437395,y:-0.823738,z:-0.953767},{x:-0.327619,y:-0.991429,z:-1.01714},{x:-0.315264,y:-0.991917,z:-0.997146},{x:-0.32788,y:-1.00358,z:-0.981093},{x:-0.348033,y:-1.01029,z:-0.991169},{x:-0.347871,y:-1.00279,z:-1.01345},{x:-0.333333,y:-1,z:-1}], faces:[[0,2,1],[0,3,2],[0,4,3],[0,5,4],[0,1,5],[1,2,7,6],[2,3,8,7],[3,4,9,8],[4,5,10,9],[5,1,6,10],[6,7,11],[7,8,11],[8,9,11],[9,10,11],[10,6,11]], color:'#0000ff', opacity:1},{vertices:[{x:-0.5,y:-0.666667,z:-0.888889},{x:-0.405714,y:-0.795238,z:-0.991746},{x:-0.368648,y:-0.796702,z:-0.931754},{x:-0.406497,y:-0.831679,z:-0.883596},{x:-0.466955,y:-0.851832,z:-0.913825},{x:-0.466471,y:-0.82931,z:-0.980666},{x:-0.422857,y:-0.820952,z:-0.940317}], faces:[[0,2,1],[0,3,2],[0,4,3],[0,5,4],[0,1,5],[1,2,6],[2,3,6],[3,4,6],[4,5,6],[5,1,6]], color:'#0000ff', opacity:1},{vertices:[{x:-0.418213,y:-0.89087,z:-0.648478},{x:-0.409784,y:-0.881706,z:-0.66413},{x:-0.402821,y:-0.880022,z:-0.641737},{x:-0.417128,y:-0.893329,z:-0.62866},{x:-0.432934,y:-0.903237,z:-0.642971},{x:-0.428395,y:-0.896053,z:-0.664893},{x:-0.324905,y:-0.990836,z:-0.682319},{x:-0.317942,y:-0.989153,z:-0.659925},{x:-0.332249,y:-1.00246,z:-0.646848},{x:-0.348054,y:-1.01237,z:-0.661159},{x:-0.343516,y:-1.00518,z:-0.683082},{x:-0.333333,y:-1,z:-0.666667}], faces:[[0,2,1],[0,3,2],[0,4,3],[0,5,4],[0,1,5],[1,2,7,6],[2,3,8,7],[3,4,9,8],[4,5,10,9],[5,1,6,10],[6,7,11],[7,8,11],[8,9,11],[9,10,11],[10,6,11]], color:'#0000ff', opacity:1},{vertices:[{x:-0.527778,y:-0.75,z:-0.625},{x:-0.392928,y:-0.863378,z:-0.695435},{x:-0.372039,y:-0.858327,z:-0.628254},{x:-0.41496,y:-0.898249,z:-0.589023},{x:-0.462376,y:-0.927972,z:-0.631957},{x:-0.44876,y:-0.906421,z:-0.697723},{x:-0.418213,y:-0.89087,z:-0.648478}], faces:[[0,2,1],[0,3,2],[0,4,3],[0,5,4],[0,1,5],[1,2,6],[2,3,6],[3,4,6],[4,5,6],[5,1,6]], color:'#0000ff', opacity:1},{vertices:[{x:-0.411556,y:-0.941333,z:-0.333333},{x:-0.401956,y:-0.928533,z:-0.345333},{x:-0.401741,y:-0.928248,z:-0.321825},{x:-0.41509,y:-0.946046,z:-0.314221},{x:-0.423554,y:-0.957331,z:-0.33303},{x:-0.415437,y:-0.946508,z:-0.352258},{x:-0.323733,y:-0.9872,z:-0.345333},{x:-0.323519,y:-0.986914,z:-0.321825},{x:-0.336868,y:-1.00471,z:-0.314221},{x:-0.345332,y:-1.016,z:-0.33303},{x:-0.337214,y:-1.00517,z:-0.352258},{x:-0.333333,y:-1,z:-0.333333}], faces:[[0,2,1],[0,3,2],[0,4,3],[0,5,4],[0,1,5],[1,2,7,6],[2,3,8,7],[3,4,9,8],[4,5,10,9],[5,1,6,10],[6,7,11],[7,8,11],[8,9,11],[9,10,11],[10,6,11]], color:'#0000ff', opacity:1},{vertices:[{x:-0.555556,y:-0.833333,z:-0.333333},{x:-0.382756,y:-0.902933,z:-0.369333},{x:-0.382113,y:-0.902077,z:-0.298807},{x:-0.422159,y:-0.955471,z:-0.275995},{x:-0.447551,y:-0.989328,z:-0.332422},{x:-0.423199,y:-0.956858,z:-0.390109},{x:-0.411556,y:-0.941333,z:-0.333333}], faces:[[0,2,1],[0,3,2],[0,4,3],[0,5,4],[0,1,5],[1,2,6],[2,3,6],[3,4,6],[4,5,6],[5,1,6]], color:'#0000ff', opacity:1},{vertices:[{x:-0.412807,y:-0.973509,z:-0.0044152},{x:-0.406491,y:-0.955614,z:-0.010731},{x:-0.409854,y:-0.961972,z:0.0116531},{x:-0.417298,y:-0.984274,z:0.0118314},{x:-0.418535,y:-0.991698,z:-0.0104426},{x:-0.411856,y:-0.973986,z:-0.0243869},{x:-0.327018,y:-0.982105,z:-0.00631579},{x:-0.330381,y:-0.988464,z:0.0160683},{x:-0.337824,y:-1.01076,z:0.0162466},{x:-0.339062,y:-1.01819,z:-0.0060274},{x:-0.332383,y:-1.00048,z:-0.0199717},{x:-0.333333,y:-1,z:0}], faces:[[0,2,1],[0,3,2],[0,4,3],[0,5,4],[0,1,5],[1,2,7,6],[2,3,8,7],[3,4,9,8],[4,5,10,9],[5,1,6,10],[6,7,11],[7,8,11],[8,9,11],[9,10,11],[10,6,11]], color:'#0000ff', opacity:1},{vertices:[{x:-0.583333,y:-0.916667,z:-0.0138889},{x:-0.39386,y:-0.919825,z:-0.0233626},{x:-0.403949,y:-0.938899,z:0.0437898},{x:-0.42628,y:-1.0058,z:0.0443245},{x:-0.429992,y:-1.02808,z:-0.0224974},{x:-0.409955,y:-0.974939,z:-0.0643303},{x:-0.412807,y:-0.973509,z:-0.0044152}], faces:[[0,2,1],[0,3,2],[0,4,3],[0,5,4],[0,1,5],[1,2,6],[2,3,6],[3,4,6],[4,5,6],[5,1,6]], color:'#0000ff', opacity:1},{vertices:[{x:-0.431111,y:-1,z:0.333333},{x:-0.431111,y:-0.98,z:0.333333},{x:-0.431111,y:-0.99382,z:0.352354},{x:-0.431111,y:-1.01618,z:0.345089},{x:-0.431111,y:-1.01618,z:0.321578},{x:-0.431111,y:-0.99382,z:0.314312},{x:-0.333333,y:-0.98,z:0.333333},{x:-0.333333,y:-0.99382,z:0.352354},{x:-0.333333,y:-1.01618,z:0.345089},{x:-0.333333,y:-1.01618,z:0.321578},{x:-0.333333,y:-0.99382,z:0.314312},{x:-0.333333,y:-1,z:0.333333}], faces:[[0,2,1],[0,3,2],[0,4,3],[0,5,4],[0,1,5],[1,2,7,6],[2,3,8,7],[3,4,9,8],[4,5,10,9],[5,1,6,10],[6,7,11],[7,8,11],[8,9,11],[9,10,11],[10,6,11]], color:'#0000ff', opacity:1},{vertices:[{x:-0.611111,y:-1,z:0.333333},{x:-0.431111,y:-0.94,z:0.333333},{x:-0.431111,y:-0.981459,z:0.390397},{x:-0.431111,y:-1.04854,z:0.3686},{x:-0.431111,y:-1.04854,z:0.298066},{x:-0.431111,y:-0.981459,z:0.27627},{x:-0.431111,y:-1,z:0.333333}], faces:[[0,2,1],[0,3,2],[0,4,3],[0,5,4],[0,1,5],[1,2,6],[2,3,6],[3,4,6],[4,5,6],[5,1,6]], color:'#0000ff', opacity:1},{vertices:[{x:-0.466715,y:-1.03638,z:0.684855},{x:-0.47113,y:-1.01758,z:0.690072},{x:-0.464453,y:-1.03477,z:0.704661},{x:-0.460902,y:-1.05418,z:0.691879},{x:-0.465384,y:-1.04899,z:0.66939},{x:-0.471705,y:-1.02637,z:0.668273},{x:-0.337748,y:-0.981204,z:0.671884},{x:-0.331071,y:-0.99839,z:0.686473},{x:-0.327521,y:-1.0178,z:0.67369},{x:-0.332003,y:-1.01261,z:0.651201},{x:-0.338324,y:-0.989993,z:0.650085},{x:-0.333333,y:-1,z:0.666667}], faces:[[0,2,1],[0,3,2],[0,4,3],[0,5,4],[0,1,5],[1,2,7,6],[2,3,8,7],[3,4,9,8],[4,5,10,9],[5,1,6,10],[6,7,11],[7,8,11],[8,9,11],[9,10,11],[10,6,11]], color:'#0000ff', opacity:1},{vertices:[{x:-0.638889,y:-1.08333,z:0.708333},{x:-0.479959,y:-0.979989,z:0.700507},{x:-0.459929,y:-1.03155,z:0.744274},{x:-0.449277,y:-1.08978,z:0.705926},{x:-0.462723,y:-1.07421,z:0.638458},{x:-0.481686,y:-1.00636,z:0.635109},{x:-0.466715,y:-1.03638,z:0.684855}], faces:[[0,2,1],[0,3,2],[0,4,3],[0,5,4],[0,1,5],[1,2,6],[2,3,6],[3,4,6],[4,5,6],[5,1,6]], color:'#0000ff', opacity:1},{vertices:[{x:-0.512381,y:-1.08952,z:1.05968},{x:-0.518095,y:-1.07238,z:1.06825},{x:-0.505995,y:-1.08966,z:1.07864},{x:-0.50272,y:-1.10675,z:1.06282},{x:-0.512796,y:-1.10003,z:1.04267},{x:-0.522299,y:-1.07879,z:1.04603},{x:-0.339048,y:-0.982857,z:1.00857},{x:-0.326947,y:-1.00014,z:1.01895},{x:-0.323672,y:-1.01723,z:1.00314},{x:-0.333749,y:-1.01051,z:0.982989},{x:-0.343251,y:-0.989268,z:0.986345},{x:-0.333333,y:-1,z:1}], faces:[[0,2,1],[0,3,2],[0,4,3],[0,5,4],[0,1,5],[1,2,7,6],[2,3,8,7],[3,4,9,8],[4,5,10,9],[5,1,6,10],[6,7,11],[7,8,11],[8,9,11],[9,10,11],[10,6,11]], color:'#0000ff', opacity:1},{vertices:[{x:-0.666667,y:-1.16667,z:1.11111},{x:-0.529524,y:-1.0381,z:1.0854},{x:-0.493223,y:-1.08994,z:1.11654},{x:-0.483398,y:-1.14121,z:1.06911},{x:-0.513627,y:-1.12105,z:1.00865},{x:-0.542134,y:-1.05733,z:1.01872},{x:-0.512381,y:-1.08952,z:1.05968}], faces:[[0,2,1],[0,3,2],[0,4,3],[0,5,4],[0,1,5],[1,2,6],[2,3,6],[3,4,6],[4,5,6],[5,1,6]], color:'#0000ff', opacity:1},{vertices:[{x:-0.36971,y:-0.557536,z:-0.921184},{x:-0.367101,y:-0.545362,z:-0.936836},{x:-0.35071,y:-0.551293,z:-0.921058},{x:-0.360576,y:-0.565852,z:-0.905454},{x:-0.383065,y:-0.568918,z:-0.911587},{x:-0.387098,y:-0.556255,z:-0.930982},{x:-0.330725,y:-0.654493,z:-1.01565},{x:-0.314333,y:-0.660424,z:-0.999875},{x:-0.324199,y:-0.674982,z:-0.98427},{x:-0.346688,y:-0.678049,z:-0.990404},{x:-0.350721,y:-0.665386,z:-1.0098},{x:-0.333333,y:-0.666667,z:-1}], faces:[[0,2,1],[0,3,2],[0,4,3],[0,5,4],[0,1,5],[1,2,7,6],[2,3,8,7],[3,4,9,8],[4,5,10,9],[5,1,6,10],[6,7,11],[7,8,11],[8,9,11],[9,10,11],[10,6,11]], color:'#0000ff', opacity:1},{vertices:[{x:-0.416667,y:-0.416667,z:-0.819444},{x:-0.361884,y:-0.521014,z:-0.96814},{x:-0.312709,y:-0.538807,z:-0.920808},{x:-0.342308,y:-0.582483,z:-0.873995},{x:-0.409775,y:-0.591683,z:-0.892395},{x:-0.421874,y:-0.553693,z:-0.95058},{x:-0.36971,y:-0.557536,z:-0.921184}], faces:[[0,2,1],[0,3,2],[0,4,3],[0,5,4],[0,1,5],[1,2,6],[2,3,6],[3,4,6],[4,5,6],[5,1,6]], color:'#0000ff', opacity:1},{vertices:[{x:-0.364444,y:-0.612222,z:-0.635556},{x:-0.359658,y:-0.600598,z:-0.651111},{x:-0.346545,y:-0.604078,z:-0.631909},{x:-0.358169,y:-0.618813,z:-0.617746},{x:-0.378465,y:-0.62444,z:-0.628196},{x:-0.379385,y:-0.613182,z:-0.648816},{x:-0.328547,y:-0.655043,z:-0.682222},{x:-0.315434,y:-0.658523,z:-0.66302},{x:-0.327057,y:-0.673257,z:-0.648857},{x:-0.347354,y:-0.678884,z:-0.659307},{x:-0.348274,y:-0.667627,z:-0.679927},{x:-0.333333,y:-0.666667,z:-0.666667}], faces:[[0,2,1],[0,3,2],[0,4,3],[0,5,4],[0,1,5],[1,2,7,6],[2,3,8,7],[3,4,9,8],[4,5,10,9],[5,1,6,10],[6,7,11],[7,8,11],[8,9,11],[9,10,11],[10,6,11]], color:'#0000ff', opacity:1},{vertices:[{x:-0.444444,y:-0.472222,z:-0.555556},{x:-0.350085,y:-0.57735,z:-0.682222},{x:-0.310747,y:-0.58779,z:-0.624615},{x:-0.345617,y:-0.631994,z:-0.582127},{x:-0.406505,y:-0.648874,z:-0.613476},{x:-0.409267,y:-0.615102,z:-0.675338},{x:-0.364444,y:-0.612222,z:-0.635556}], faces:[[0,2,1],[0,3,2],[0,4,3],[0,5,4],[0,1,5],[1,2,6],[2,3,6],[3,4,6],[4,5,6],[5,1,6]], color:'#0000ff', opacity:1},{vertices:[{x:-0.352222,y:-0.647778,z:-0.323889},{x:-0.345556,y:-0.634444,z:-0.337222},{x:-0.337481,y:-0.637317,z:-0.315328},{x:-0.349779,y:-0.654646,z:-0.305265},{x:-0.365453,y:-0.662483,z:-0.320939},{x:-0.362843,y:-0.649998,z:-0.34069},{x:-0.326667,y:-0.653333,z:-0.346667},{x:-0.318592,y:-0.656206,z:-0.324773},{x:-0.33089,y:-0.673535,z:-0.314709},{x:-0.346564,y:-0.681372,z:-0.330384},{x:-0.343954,y:-0.668887,z:-0.350134},{x:-0.333333,y:-0.666667,z:-0.333333}], faces:[[0,2,1],[0,3,2],[0,4,3],[0,5,4],[0,1,5],[1,2,7,6],[2,3,8,7],[3,4,9,8],[4,5,10,9],[5,1,6,10],[6,7,11],[7,8,11],[8,9,11],[9,10,11],[10,6,11]], color:'#0000ff', opacity:1},{vertices:[{x:-0.472222,y:-0.527778,z:-0.263889},{x:-0.332222,y:-0.607778,z:-0.363889},{x:-0.308,y:-0.616396,z:-0.298207},{x:-0.344891,y:-0.668383,z:-0.268017},{x:-0.391914,y:-0.691894,z:-0.31504},{x:-0.384084,y:-0.654438,z:-0.374292},{x:-0.352222,y:-0.647778,z:-0.323889}], faces:[[0,2,1],[0,3,2],[0,4,3],[0,5,4],[0,1,5],[1,2,6],[2,3,6],[3,4,6],[4,5,6],[5,1,6]], color:'#0000ff', opacity:1},{vertices:[{x:-0.345714,y:-0.660476,z:0.00412698},{x:-0.34,y:-0.643333,z:-0.00444444},{x:-0.335797,y:-0.649744,z:0.0177821},{x:-0.345299,y:-0.670986,z:0.0211377},{x:-0.355375,y:-0.677704,z:0.000985097},{x:-0.3521,y:-0.660613,z:-0.0148256},{x:-0.327619,y:-0.649524,z:-0.00857143},{x:-0.323416,y:-0.655935,z:0.0136551},{x:-0.332918,y:-0.677177,z:0.0170107},{x:-0.342994,y:-0.683894,z:-0.00314189},{x:-0.339719,y:-0.666804,z:-0.0189525},{x:-0.333333,y:-0.666667,z:0}], faces:[[0,2,1],[0,3,2],[0,4,3],[0,5,4],[0,1,5],[1,2,7,6],[2,3,8,7],[3,4,9,8],[4,5,10,9],[5,1,6,10],[6,7,11],[7,8,11],[8,9,11],[9,10,11],[10,6,11]], color:'#0000ff', opacity:1},{vertices:[{x:-0.5,y:-0.583333,z:0.0555556},{x:-0.328571,y:-0.609048,z:-0.0215873},{x:-0.315961,y:-0.62828,z:0.0450923},{x:-0.344469,y:-0.692006,z:0.0551592},{x:-0.374698,y:-0.712159,z:-0.00529868},{x:-0.364873,y:-0.660888,z:-0.0527306},{x:-0.345714,y:-0.660476,z:0.00412698}], faces:[[0,2,1],[0,3,2],[0,4,3],[0,5,4],[0,1,5],[1,2,6],[2,3,6],[3,4,6],[4,5,6],[5,1,6]], color:'#0000ff', opacity:1},{vertices:[{x:-0.359778,y:-0.662889,z:0.342778},{x:-0.357911,y:-0.643156,z:0.340111},{x:-0.352607,y:-0.655016,z:0.359707},{x:-0.357213,y:-0.677756,z:0.355907},{x:-0.365363,y:-0.679951,z:0.333963},{x:-0.365795,y:-0.658566,z:0.324201},{x:-0.331467,y:-0.646933,z:0.330667},{x:-0.326163,y:-0.658793,z:0.350262},{x:-0.330768,y:-0.681534,z:0.346463},{x:-0.338919,y:-0.683728,z:0.324519},{x:-0.33935,y:-0.662344,z:0.314756},{x:-0.333333,y:-0.666667,z:0.333333}], faces:[[0,2,1],[0,3,2],[0,4,3],[0,5,4],[0,1,5],[1,2,7,6],[2,3,8,7],[3,4,9,8],[4,5,10,9],[5,1,6,10],[6,7,11],[7,8,11],[8,9,11],[9,10,11],[10,6,11]], color:'#0000ff', opacity:1},{vertices:[{x:-0.527778,y:-0.638889,z:0.402778},{x:-0.354178,y:-0.603689,z:0.334778},{x:-0.338265,y:-0.639269,z:0.393565},{x:-0.352082,y:-0.707491,z:0.382166},{x:-0.376534,y:-0.714074,z:0.316334},{x:-0.377829,y:-0.649921,z:0.287046},{x:-0.359778,y:-0.662889,z:0.342778}], faces:[[0,2,1],[0,3,2],[0,4,3],[0,5,4],[0,1,5],[1,2,6],[2,3,6],[3,4,6],[4,5,6],[5,1,6]], color:'#0000ff', opacity:1},{vertices:[{x:-0.395556,y:-0.674444,z:0.697778},{x:-0.396923,y:-0.654615,z:0.7},{x:-0.387362,y:-0.669618,z:0.715372},{x:-0.389124,y:-0.69129,z:0.706429},{x:-0.399774,y:-0.689683,z:0.68553},{x:-0.404595,y:-0.667016,z:0.681557},{x:-0.334701,y:-0.646838,z:0.668889},{x:-0.32514,y:-0.66184,z:0.684261},{x:-0.326902,y:-0.683513,z:0.675318},{x:-0.337552,y:-0.681905,z:0.654419},{x:-0.342372,y:-0.659239,z:0.650446},{x:-0.333333,y:-0.666667,z:0.666667}], faces:[[0,2,1],[0,3,2],[0,4,3],[0,5,4],[0,1,5],[1,2,7,6],[2,3,8,7],[3,4,9,8],[4,5,10,9],[5,1,6,10],[6,7,11],[7,8,11],[8,9,11],[9,10,11],[10,6,11]], color:'#0000ff', opacity:1},{vertices:[{x:-0.555556,y:-0.694444,z:0.777778},{x:-0.399658,y:-0.614957,z:0.704444},{x:-0.370974,y:-0.659964,z:0.750561},{x:-0.376261,y:-0.724982,z:0.723733},{x:-0.408212,y:-0.720159,z:0.661036},{x:-0.422673,y:-0.65216,z:0.649115},{x:-0.395556,y:-0.674444,z:0.697778}], faces:[[0,2,1],[0,3,2],[0,4,3],[0,5,4],[0,1,5],[1,2,6],[2,3,6],[3,4,6],[4,5,6],[5,1,6]], color:'#0000ff', opacity:1},{vertices:[{x:-0.442464,y:-0.703043,z:1.07882},{x:-0.445072,y:-0.683913,z:1.08403},{x:-0.431692,y:-0.699613,z:1.09531},{x:-0.433198,y:-0.720054,z:1.0838},{x:-0.447509,y:-0.716987,z:1.0654},{x:-0.454848,y:-0.694651,z:1.06554},{x:-0.335942,y:-0.647536,z:1.00522},{x:-0.322561,y:-0.663236,z:1.0165},{x:-0.324067,y:-0.683677,z:1.00498},{x:-0.338379,y:-0.68061,z:0.986579},{x:-0.345718,y:-0.658274,z:0.986726},{x:-0.333333,y:-0.666667,z:1}], faces:[[0,2,1],[0,3,2],[0,4,3],[0,5,4],[0,1,5],[1,2,7,6],[2,3,8,7],[3,4,9,8],[4,5,10,9],[5,1,6,10],[6,7,11],[7,8,11],[8,9,11],[9,10,11],[10,6,11]], color:'#0000ff', opacity:1},{vertices:[{x:-0.583333,y:-0.75,z:1.18056},{x:-0.45029,y:-0.645652,z:1.09447},{x:-0.410148,y:-0.692752,z:1.12831},{x:-0.414665,y:-0.754074,z:1.09375},{x:-0.457599,y:-0.744874,z:1.03855},{x:-0.479616,y:-0.677866,z:1.03899},{x:-0.442464,y:-0.703043,z:1.07882}], faces:[[0,2,1],[0,3,2],[0,4,3],[0,5,4],[0,1,5],[1,2,6],[2,3,6],[3,4,6],[4,5,6],[5,1,6]], color:'#0000ff', opacity:1},{vertices:[{x:-0.333333,y:-0.274667,z:-0.921778},{x:-0.333333,y:-0.258667,z:-0.933778},{x:-0.314312,y:-0.269722,z:-0.925486},{x:-0.321578,y:-0.287611,z:-0.91207},{x:-0.345089,y:-0.287611,z:-0.91207},{x:-0.352354,y:-0.269722,z:-0.925486},{x:-0.333333,y:-0.317333,z:-1.012},{x:-0.314312,y:-0.328389,z:-1.00371},{x:-0.321578,y:-0.346278,z:-0.990292},{x:-0.345089,y:-0.346278,z:-0.990292},{x:-0.352354,y:-0.328389,z:-1.00371},{x:-0.333333,y:-0.333333,z:-1}], faces:[[0,2,1],[0,3,2],[0,4,3],[0,5,4],[0,1,5],[1,2,7,6],[2,3,8,7],[3,4,9,8],[4,5,10,9],[5,1,6,10],[6,7,11],[7,8,11],[8,9,11],[9,10,11],[10,6,11]], color:'#0000ff', opacity:1},{vertices:[{x:-0.333333,y:-0.166667,z:-0.777778},{x:-0.333333,y:-0.226667,z:-0.957778},{x:-0.27627,y:-0.259834,z:-0.932902},{x:-0.298066,y:-0.313499,z:-0.892653},{x:-0.3686,y:-0.313499,z:-0.892653},{x:-0.390397,y:-0.259834,z:-0.932902},{x:-0.333333,y:-0.274667,z:-0.921778}], faces:[[0,2,1],[0,3,2],[0,4,3],[0,5,4],[0,1,5],[1,2,6],[2,3,6],[3,4,6],[4,5,6],[5,1,6]], color:'#0000ff', opacity:1},{vertices:[{x:-0.337111,y:-0.314444,z:-0.645889},{x:-0.336085,y:-0.299573,z:-0.659222},{x:-0.317968,y:-0.308873,z:-0.647473},{x:-0.326306,y:-0.325873,z:-0.633535},{x:-0.349576,y:-0.327079,z:-0.636669},{x:-0.35562,y:-0.310824,z:-0.652545},{x:-0.332308,y:-0.318462,z:-0.68},{x:-0.31419,y:-0.327762,z:-0.668251},{x:-0.322528,y:-0.344762,z:-0.654312},{x:-0.345798,y:-0.345968,z:-0.657447},{x:-0.351842,y:-0.329713,z:-0.673323},{x:-0.333333,y:-0.333333,z:-0.666667}], faces:[[0,2,1],[0,3,2],[0,4,3],[0,5,4],[0,1,5],[1,2,7,6],[2,3,8,7],[3,4,9,8],[4,5,10,9],[5,1,6,10],[6,7,11],[7,8,11],[8,9,11],[9,10,11],[10,6,11]], color:'#0000ff', opacity:1},{vertices:[{x:-0.361111,y:-0.194444,z:-0.513889},{x:-0.334034,y:-0.269829,z:-0.685889},{x:-0.279682,y:-0.297731,z:-0.650641},{x:-0.304695,y:-0.34873,z:-0.608826},{x:-0.374506,y:-0.352348,z:-0.61823},{x:-0.392638,y:-0.303584,z:-0.665858},{x:-0.337111,y:-0.314444,z:-0.645889}], faces:[[0,2,1],[0,3,2],[0,4,3],[0,5,4],[0,1,5],[1,2,6],[2,3,6],[3,4,6],[4,5,6],[5,1,6]], color:'#0000ff', opacity:1},{vertices:[{x:-0.388889,y:-0.222222,z:-0.222222},{x:-0.325926,y:-0.292593,z:-0.37037},{x:-0.28173,y:-0.313699,z:-0.327166},{x:-0.308848,y:-0.361939,z:-0.292485},{x:-0.369804,y:-0.370647,z:-0.314255},{x:-0.380358,y:-0.327789,z:-0.362391},{x:-0.333333,y:-0.333333,z:-0.333333}], faces:[[0,2,1],[0,3,2],[0,4,3],[0,5,4],[0,1,5],[1,2,6],[2,3,6],[3,4,6],[4,5,6],[5,1,6]], color:'#0000ff', opacity:1},{vertices:[{x:-0.416667,y:-0.25,z:0.0972222},{x:-0.324074,y:-0.291667,z:-0.0277778},{x:-0.290845,y:-0.311652,z:0.0178344},{x:-0.316333,y:-0.3616,z:0.0388001},{x:-0.365315,y:-0.372485,z:0.00614533},{x:-0.370099,y:-0.329264,z:-0.035002},{x:-0.333333,y:-0.333333,z:0}], faces:[[0,2,1],[0,3,2],[0,4,3],[0,5,4],[0,1,5],[1,2,6],[2,3,6],[3,4,6],[4,5,6],[5,1,6]], color:'#0000ff', opacity:1},{vertices:[{x:-0.444444,y:-0.277778,z:0.444444},{x:-0.325926,y:-0.281481,z:0.314815},{x:-0.292298,y:-0.310265,z:0.362835},{x:-0.315379,y:-0.370928,z:0.370085},{x:-0.363273,y:-0.379636,z:0.326545},{x:-0.369791,y:-0.324355,z:0.292386},{x:-0.333333,y:-0.333333,z:0.333333}], faces:[[0,2,1],[0,3,2],[0,4,3],[0,5,4],[0,1,5],[1,2,6],[2,3,6],[3,4,6],[4,5,6],[5,1,6]], color:'#0000ff', opacity:1},{vertices:[{x:-0.352222,y:-0.329556,z:0.687444},{x:-0.351197,y:-0.309761,z:0.684778},{x:-0.337761,y:-0.322463,z:0.699301},{x:-0.344311,y:-0.344967,z:0.697439},{x:-0.361793,y:-0.346173,z:0.681765},{x:-0.366049,y:-0.324414,z:0.67394},{x:-0.332308,y:-0.313538,z:0.664},{x:-0.318872,y:-0.326241,z:0.678523},{x:-0.325422,y:-0.348745,z:0.676661},{x:-0.342905,y:-0.349951,z:0.660987},{x:-0.34716,y:-0.328192,z:0.653162},{x:-0.333333,y:-0.333333,z:0.666667}], faces:[[0,2,1],[0,3,2],[0,4,3],[0,5,4],[0,1,5],[1,2,7,6],[2,3,8,7],[3,4,9,8],[4,5,10,9],[5,1,6,10],[6,7,11],[7,8,11],[8,9,11],[9,10,11],[10,6,11]], color:'#0000ff', opacity:1},{vertices:[{x:-0.472222,y:-0.305556,z:0.819444},{x:-0.349145,y:-0.270171,z:0.679444},{x:-0.30884,y:-0.308278,z:0.723015},{x:-0.328487,y:-0.37579,z:0.717428},{x:-0.380936,y:-0.379407,z:0.670405},{x:-0.393703,y:-0.314131,z:0.64693},{x:-0.352222,y:-0.329556,z:0.687444}], faces:[[0,2,1],[0,3,2],[0,4,3],[0,5,4],[0,1,5],[1,2,6],[2,3,6],[3,4,6],[4,5,6],[5,1,6]], color:'#0000ff', opacity:1},{vertices:[{x:-0.392,y:-0.333333,z:1.07822},{x:-0.392,y:-0.313333,z:1.07822},{x:-0.376783,y:-0.327153,z:1.08963},{x:-0.382595,y:-0.349514,z:1.08528},{x:-0.401405,y:-0.349514,z:1.07117},{x:-0.407217,y:-0.327153,z:1.06681},{x:-0.333333,y:-0.313333,z:1},{x:-0.318116,y:-0.327153,z:1.01141},{x:-0.323929,y:-0.349514,z:1.00705},{x:-0.342738,y:-0.349514,z:0.992947},{x:-0.34855,y:-0.327153,z:0.988587},{x:-0.333333,y:-0.333333,z:1}], faces:[[0,2,1],[0,3,2],[0,4,3],[0,5,4],[0,1,5],[1,2,7,6],[2,3,8,7],[3,4,9,8],[4,5,10,9],[5,1,6,10],[6,7,11],[7,8,11],[8,9,11],[9,10,11],[10,6,11]], color:'#0000ff', opacity:1},{vertices:[{x:-0.5,y:-0.333333,z:1.22222},{x:-0.392,y:-0.273333,z:1.07822},{x:-0.346349,y:-0.314792,z:1.11246},{x:-0.363786,y:-0.381874,z:1.09938},{x:-0.420214,y:-0.381874,z:1.05706},{x:-0.437651,y:-0.314792,z:1.04398},{x:-0.392,y:-0.333333,z:1.07822}], faces:[[0,2,1],[0,3,2],[0,4,3],[0,5,4],[0,1,5],[1,2,6],[2,3,6],[3,4,6],[4,5,6],[5,1,6]], color:'#0000ff', opacity:1},{vertices:[{x:-0.306842,y:0.0264912,z:-0.924942},{x:-0.307895,y:0.0454386,z:-0.931257},{x:-0.289147,y:0.0313452,z:-0.9329},{x:-0.294854,y:0.0105438,z:-0.923544},{x:-0.317127,y:0.0117812,z:-0.91612},{x:-0.325187,y:0.0333474,z:-0.920887},{x:-0.334386,y:0.0189474,z:-1.00632},{x:-0.315639,y:0.00485395,z:-1.00796},{x:-0.321345,y:-0.0159475,z:-0.998603},{x:-0.343619,y:-0.01471,z:-0.991178},{x:-0.351679,y:0.00685617,z:-0.995945},{x:-0.333333,y:0,z:-1}], faces:[[0,2,1],[0,3,2],[0,4,3],[0,5,4],[0,1,5],[1,2,7,6],[2,3,8,7],[3,4,9,8],[4,5,10,9],[5,1,6,10],[6,7,11],[7,8,11],[8,9,11],[9,10,11],[10,6,11]], color:'#0000ff', opacity:1},{vertices:[{x:-0.25,y:0.0833333,z:-0.763889},{x:-0.31,y:0.0833333,z:-0.943889},{x:-0.253758,y:0.0410531,z:-0.948817},{x:-0.270876,y:-0.0213512,z:-0.92075},{x:-0.337698,y:-0.0176388,z:-0.898476},{x:-0.361878,y:0.0470597,z:-0.912777},{x:-0.306842,y:0.0264912,z:-0.924942}], faces:[[0,2,1],[0,3,2],[0,4,3],[0,5,4],[0,1,5],[1,2,6],[2,3,6],[3,4,6],[4,5,6],[5,1,6]], color:'#0000ff', opacity:1},{vertices:[{x:-0.329206,y:0.00619048,z:-0.654286},{x:-0.330525,y:0.0242125,z:-0.662857},{x:-0.311429,y:0.0105054,z:-0.662369},{x:-0.316901,y:-0.00916471,z:-0.65071},{x:-0.339378,y:-0.00761451,z:-0.643993},{x:-0.347799,y:0.0130137,z:-0.6515},{x:-0.334652,y:0.018022,z:-0.675238},{x:-0.315556,y:0.00431496,z:-0.67475},{x:-0.321028,y:-0.0153552,z:-0.663091},{x:-0.343505,y:-0.013805,z:-0.656373},{x:-0.351926,y:0.00682324,z:-0.663881},{x:-0.333333,y:0,z:-0.666667}], faces:[[0,2,1],[0,3,2],[0,4,3],[0,5,4],[0,1,5],[1,2,7,6],[2,3,8,7],[3,4,9,8],[4,5,10,9],[5,1,6,10],[6,7,11],[7,8,11],[8,9,11],[9,10,11],[10,6,11]], color:'#0000ff', opacity:1},{vertices:[{x:-0.277778,y:0.0833333,z:-0.5},{x:-0.333162,y:0.0602564,z:-0.68},{x:-0.275874,y:0.0191353,z:-0.678536},{x:-0.292289,y:-0.0398751,z:-0.643559},{x:-0.359723,y:-0.0352245,z:-0.623406},{x:-0.384984,y:0.0266602,z:-0.645928},{x:-0.329206,y:0.00619048,z:-0.654286}], faces:[[0,2,1],[0,3,2],[0,4,3],[0,5,4],[0,1,5],[1,2,6],[2,3,6],[3,4,6],[4,5,6],[5,1,6]], color:'#0000ff', opacity:1},{vertices:[{x:-0.305556,y:0.0833333,z:-0.208333},{x:-0.336111,y:0.0425926,z:-0.361111},{x:-0.286639,y:0.01052,z:-0.350723},{x:-0.301697,y:-0.0360909,z:-0.316303},{x:-0.360475,y:-0.0328254,z:-0.305418},{x:-0.381745,y:0.0158037,z:-0.333111},{x:-0.333333,y:0,z:-0.333333}], faces:[[0,2,1],[0,3,2],[0,4,3],[0,5,4],[0,1,5],[1,2,6],[2,3,6],[3,4,6],[4,5,6],[5,1,6]], color:'#0000ff', opacity:1},{vertices:[{x:-0.333333,y:0.0833333,z:0.111111},{x:-0.333333,y:0.037037,z:-0.0277778},{x:-0.289303,y:0.0114451,z:-0.00858381},{x:-0.306121,y:-0.0299636,z:0.0224727},{x:-0.360546,y:-0.0299636,z:0.0224727},{x:-0.377364,y:0.0114451,z:-0.00858381},{x:-0.333333,y:0,z:0}], faces:[[0,2,1],[0,3,2],[0,4,3],[0,5,4],[0,1,5],[1,2,6],[2,3,6],[3,4,6],[4,5,6],[5,1,6]], color:'#0000ff', opacity:1},{vertices:[{x:-0.361111,y:0.0833333,z:0.458333},{x:-0.330556,y:0.0425926,z:0.305556},{x:-0.284922,y:0.0158037,z:0.333556},{x:-0.306191,y:-0.0328254,z:0.361248},{x:-0.36497,y:-0.0360909,z:0.350364},{x:-0.380028,y:0.01052,z:0.315943},{x:-0.333333,y:0,z:0.333333}], faces:[[0,2,1],[0,3,2],[0,4,3],[0,5,4],[0,1,5],[1,2,6],[2,3,6],[3,4,6],[4,5,6],[5,1,6]], color:'#0000ff', opacity:1},{vertices:[{x:-0.33746,y:0.00619048,z:0.679048},{x:-0.336142,y:0.0242125,z:0.670476},{x:-0.318868,y:0.0130137,z:0.681834},{x:-0.327288,y:-0.00761451,z:0.689341},{x:-0.349766,y:-0.00916471,z:0.682623},{x:-0.355238,y:0.0105054,z:0.670964},{x:-0.332015,y:0.018022,z:0.658095},{x:-0.314741,y:0.00682324,z:0.669453},{x:-0.323161,y:-0.013805,z:0.67696},{x:-0.345639,y:-0.0153552,z:0.670242},{x:-0.351111,y:0.00431496,z:0.658583},{x:-0.333333,y:0,z:0.666667}], faces:[[0,2,1],[0,3,2],[0,4,3],[0,5,4],[0,1,5],[1,2,7,6],[2,3,8,7],[3,4,9,8],[4,5,10,9],[5,1,6,10],[6,7,11],[7,8,11],[8,9,11],[9,10,11],[10,6,11]], color:'#0000ff', opacity:1},{vertices:[{x:-0.388889,y:0.0833333,z:0.833333},{x:-0.333504,y:0.0602564,z:0.653333},{x:-0.281683,y:0.0266602,z:0.687405},{x:-0.306944,y:-0.0352245,z:0.709927},{x:-0.374378,y:-0.0398751,z:0.689775},{x:-0.390793,y:0.0191353,z:0.654798},{x:-0.33746,y:0.00619048,z:0.679048}], faces:[[0,2,1],[0,3,2],[0,4,3],[0,5,4],[0,1,5],[1,2,6],[2,3,6],[3,4,6],[4,5,6],[5,1,6]], color:'#0000ff', opacity:1},{vertices:[{x:-0.359825,y:0.0264912,z:1.07506},{x:-0.358772,y:0.0454386,z:1.06874},{x:-0.341479,y:0.0333474,z:1.07911},{x:-0.349539,y:0.0117812,z:1.08388},{x:-0.371813,y:0.0105438,z:1.07646},{x:-0.377519,y:0.0313452,z:1.0671},{x:-0.332281,y:0.0189474,z:0.993684},{x:-0.314988,y:0.00685617,z:1.00405},{x:-0.323048,y:-0.01471,z:1.00882},{x:-0.345322,y:-0.0159475,z:1.0014},{x:-0.351028,y:0.00485395,z:0.992042},{x:-0.333333,y:0,z:1}], faces:[[0,2,1],[0,3,2],[0,4,3],[0,5,4],[0,1,5],[1,2,7,6],[2,3,8,7],[3,4,9,8],[4,5,10,9],[5,1,6,10],[6,7,11],[7,8,11],[8,9,11],[9,10,11],[10,6,11]], color:'#0000ff', opacity:1},{vertices:[{x:-0.416667,y:0.0833333,z:1.23611},{x:-0.356667,y:0.0833333,z:1.05611},{x:-0.304789,y:0.0470597,z:1.08722},{x:-0.328968,y:-0.0176388,z:1.10152},{x:-0.39579,y:-0.0213512,z:1.07925},{x:-0.412909,y:0.0410531,z:1.05118},{x:-0.359825,y:0.0264912,z:1.07506}], faces:[[0,2,1],[0,3,2],[0,4,3],[0,5,4],[0,1,5],[1,2,6],[2,3,6],[3,4,6],[4,5,6],[5,1,6]], color:'#0000ff', opacity:1},{vertices:[{x:-0.274667,y:0.333333,z:-0.921778},{x:-0.274667,y:0.353333,z:-0.921778},{x:-0.25945,y:0.339514,z:-0.93319},{x:-0.265262,y:0.317153,z:-0.928831},{x:-0.284071,y:0.317153,z:-0.914724},{x:-0.289884,y:0.339514,z:-0.910365},{x:-0.333333,y:0.353333,z:-1},{x:-0.318116,y:0.339514,z:-1.01141},{x:-0.323929,y:0.317153,z:-1.00705},{x:-0.342738,y:0.317153,z:-0.992947},{x:-0.34855,y:0.339514,z:-0.988587},{x:-0.333333,y:0.333333,z:-1}], faces:[[0,2,1],[0,3,2],[0,4,3],[0,5,4],[0,1,5],[1,2,7,6],[2,3,8,7],[3,4,9,8],[4,5,10,9],[5,1,6,10],[6,7,11],[7,8,11],[8,9,11],[9,10,11],[10,6,11]], color:'#0000ff', opacity:1},{vertices:[{x:-0.166667,y:0.333333,z:-0.777778},{x:-0.274667,y:0.393333,z:-0.921778},{x:-0.229016,y:0.351874,z:-0.956016},{x:-0.246453,y:0.284792,z:-0.942938},{x:-0.30288,y:0.284792,z:-0.900618},{x:-0.320317,y:0.351874,z:-0.88754},{x:-0.274667,y:0.333333,z:-0.921778}], faces:[[0,2,1],[0,3,2],[0,4,3],[0,5,4],[0,1,5],[1,2,6],[2,3,6],[3,4,6],[4,5,6],[5,1,6]], color:'#0000ff', opacity:1},{vertices:[{x:-0.314444,y:0.337111,z:-0.645889},{x:-0.31547,y:0.356906,z:-0.648556},{x:-0.300617,y:0.342253,z:-0.659394},{x:-0.304873,y:0.320494,z:-0.651569},{x:-0.322356,y:0.3217,z:-0.635894},{x:-0.328905,y:0.344204,z:-0.634032},{x:-0.334359,y:0.353128,z:-0.669333},{x:-0.319506,y:0.338475,z:-0.680171},{x:-0.323762,y:0.316716,z:-0.672346},{x:-0.341245,y:0.317922,z:-0.656672},{x:-0.347794,y:0.340426,z:-0.65481},{x:-0.333333,y:0.333333,z:-0.666667}], faces:[[0,2,1],[0,3,2],[0,4,3],[0,5,4],[0,1,5],[1,2,7,6],[2,3,8,7],[3,4,9,8],[4,5,10,9],[5,1,6,10],[6,7,11],[7,8,11],[8,9,11],[9,10,11],[10,6,11]], color:'#0000ff', opacity:1},{vertices:[{x:-0.194444,y:0.361111,z:-0.513889},{x:-0.317521,y:0.396496,z:-0.653889},{x:-0.272964,y:0.352536,z:-0.686403},{x:-0.285731,y:0.287259,z:-0.662928},{x:-0.338179,y:0.290877,z:-0.615905},{x:-0.357827,y:0.358388,z:-0.610319},{x:-0.314444,y:0.337111,z:-0.645889}], faces:[[0,2,1],[0,3,2],[0,4,3],[0,5,4],[0,1,5],[1,2,6],[2,3,6],[3,4,6],[4,5,6],[5,1,6]], color:'#0000ff', opacity:1},{vertices:[{x:-0.222222,y:0.388889,z:-0.222222},{x:-0.340741,y:0.385185,z:-0.351852},{x:-0.296876,y:0.342312,z:-0.37428},{x:-0.303394,y:0.28703,z:-0.340121},{x:-0.351287,y:0.295738,z:-0.296582},{x:-0.374369,y:0.356401,z:-0.303832},{x:-0.333333,y:0.333333,z:-0.333333}], faces:[[0,2,1],[0,3,2],[0,4,3],[0,5,4],[0,1,5],[1,2,6],[2,3,6],[3,4,6],[4,5,6],[5,1,6]], color:'#0000ff', opacity:1},{vertices:[{x:-0.25,y:0.416667,z:0.0972222},{x:-0.342593,y:0.375,z:-0.0277778},{x:-0.296567,y:0.337403,z:-0.035002},{x:-0.301351,y:0.294182,z:0.00614533},{x:-0.350333,y:0.305067,z:0.0388001},{x:-0.375822,y:0.355015,z:0.0178344},{x:-0.333333,y:0.333333,z:0}], faces:[[0,2,1],[0,3,2],[0,4,3],[0,5,4],[0,1,5],[1,2,6],[2,3,6],[3,4,6],[4,5,6],[5,1,6]], color:'#0000ff', opacity:1},{vertices:[{x:-0.277778,y:0.444444,z:0.444444},{x:-0.340741,y:0.374074,z:0.296296},{x:-0.286308,y:0.338878,z:0.304276},{x:-0.296863,y:0.296019,z:0.352412},{x:-0.357818,y:0.304727,z:0.374182},{x:-0.384936,y:0.352968,z:0.3395},{x:-0.333333,y:0.333333,z:0.333333}], faces:[[0,2,1],[0,3,2],[0,4,3],[0,5,4],[0,1,5],[1,2,6],[2,3,6],[3,4,6],[4,5,6],[5,1,6]], color:'#0000ff', opacity:1},{vertices:[{x:-0.329556,y:0.352222,z:0.687444},{x:-0.330581,y:0.367094,z:0.674111},{x:-0.311046,y:0.355842,z:0.680788},{x:-0.317091,y:0.339588,z:0.696664},{x:-0.340361,y:0.340794,z:0.699799},{x:-0.348699,y:0.357793,z:0.68586},{x:-0.334359,y:0.348205,z:0.653333},{x:-0.314824,y:0.336954,z:0.66001},{x:-0.320868,y:0.320699,z:0.675886},{x:-0.344139,y:0.321905,z:0.679021},{x:-0.352476,y:0.338904,z:0.665083},{x:-0.333333,y:0.333333,z:0.666667}], faces:[[0,2,1],[0,3,2],[0,4,3],[0,5,4],[0,1,5],[1,2,7,6],[2,3,8,7],[3,4,9,8],[4,5,10,9],[5,1,6,10],[6,7,11],[7,8,11],[8,9,11],[9,10,11],[10,6,11]], color:'#0000ff', opacity:1},{vertices:[{x:-0.305556,y:0.472222,z:0.819444},{x:-0.332632,y:0.396838,z:0.647444},{x:-0.274028,y:0.363083,z:0.667475},{x:-0.292161,y:0.314319,z:0.715103},{x:-0.361972,y:0.317936,z:0.724507},{x:-0.386985,y:0.368935,z:0.682692},{x:-0.329556,y:0.352222,z:0.687444}], faces:[[0,2,1],[0,3,2],[0,4,3],[0,5,4],[0,1,5],[1,2,6],[2,3,6],[3,4,6],[4,5,6],[5,1,6]], color:'#0000ff', opacity:1},{vertices:[{x:-0.333333,y:0.392,z:1.07822},{x:-0.333333,y:0.408,z:1.06622},{x:-0.314312,y:0.396944,z:1.07451},{x:-0.321578,y:0.379056,z:1.08793},{x:-0.345089,y:0.379056,z:1.08793},{x:-0.352354,y:0.396944,z:1.07451},{x:-0.333333,y:0.349333,z:0.988},{x:-0.314312,y:0.338278,z:0.996292},{x:-0.321578,y:0.320389,z:1.00971},{x:-0.345089,y:0.320389,z:1.00971},{x:-0.352354,y:0.338278,z:0.996292},{x:-0.333333,y:0.333333,z:1}], faces:[[0,2,1],[0,3,2],[0,4,3],[0,5,4],[0,1,5],[1,2,7,6],[2,3,8,7],[3,4,9,8],[4,5,10,9],[5,1,6,10],[6,7,11],[7,8,11],[8,9,11],[9,10,11],[10,6,11]], color:'#0000ff', opacity:1},{vertices:[{x:-0.333333,y:0.5,z:1.22222},{x:-0.333333,y:0.44,z:1.04222},{x:-0.27627,y:0.406833,z:1.0671},{x:-0.298066,y:0.353167,z:1.10735},{x:-0.3686,y:0.353167,z:1.10735},{x:-0.390397,y:0.406833,z:1.0671},{x:-0.333333,y:0.392,z:1.07822}], faces:[[0,2,1],[0,3,2],[0,4,3],[0,5,4],[0,1,5],[1,2,6],[2,3,6],[3,4,6],[4,5,6],[5,1,6]], color:'#0000ff', opacity:1},{vertices:[{x:-0.224203,y:0.63029,z:-0.921184},{x:-0.221594,y:0.64942,z:-0.915966},{x:-0.211819,y:0.638683,z:-0.934457},{x:-0.219158,y:0.616346,z:-0.934605},{x:-0.233469,y:0.61328,z:-0.916204},{x:-0.234975,y:0.63372,z:-0.904685},{x:-0.330725,y:0.685797,z:-0.994783},{x:-0.320949,y:0.675059,z:-1.01327},{x:-0.328288,y:0.652723,z:-1.01342},{x:-0.342599,y:0.649656,z:-0.995021},{x:-0.344105,y:0.670097,z:-0.983502},{x:-0.333333,y:0.666667,z:-1}], faces:[[0,2,1],[0,3,2],[0,4,3],[0,5,4],[0,1,5],[1,2,7,6],[2,3,8,7],[3,4,9,8],[4,5,10,9],[5,1,6,10],[6,7,11],[7,8,11],[8,9,11],[9,10,11],[10,6,11]], color:'#0000ff', opacity:1},{vertices:[{x:-0.0833333,y:0.583333,z:-0.819444},{x:-0.216377,y:0.687681,z:-0.905531},{x:-0.18705,y:0.655468,z:-0.961005},{x:-0.209067,y:0.588459,z:-0.961447},{x:-0.252001,y:0.579259,z:-0.906246},{x:-0.256519,y:0.640582,z:-0.871688},{x:-0.224203,y:0.63029,z:-0.921184}], faces:[[0,2,1],[0,3,2],[0,4,3],[0,5,4],[0,1,5],[1,2,6],[2,3,6],[3,4,6],[4,5,6],[5,1,6]], color:'#0000ff', opacity:1},{vertices:[{x:-0.271111,y:0.658889,z:-0.635556},{x:-0.269744,y:0.678718,z:-0.633333},{x:-0.262072,y:0.666317,z:-0.651777},{x:-0.266892,y:0.643651,z:-0.647803},{x:-0.277543,y:0.642043,z:-0.626904},{x:-0.279305,y:0.663716,z:-0.617961},{x:-0.331966,y:0.686496,z:-0.664444},{x:-0.324294,y:0.674095,z:-0.682888},{x:-0.329114,y:0.651428,z:-0.678914},{x:-0.339765,y:0.649821,z:-0.658015},{x:-0.341527,y:0.671494,z:-0.649072},{x:-0.333333,y:0.666667,z:-0.666667}], faces:[[0,2,1],[0,3,2],[0,4,3],[0,5,4],[0,1,5],[1,2,7,6],[2,3,8,7],[3,4,9,8],[4,5,10,9],[5,1,6,10],[6,7,11],[7,8,11],[8,9,11],[9,10,11],[10,6,11]], color:'#0000ff', opacity:1},{vertices:[{x:-0.111111,y:0.638889,z:-0.555556},{x:-0.267009,y:0.718376,z:-0.628889},{x:-0.243994,y:0.681173,z:-0.684218},{x:-0.258454,y:0.613174,z:-0.672298},{x:-0.290406,y:0.608351,z:-0.6096},{x:-0.295693,y:0.67337,z:-0.582772},{x:-0.271111,y:0.658889,z:-0.635556}], faces:[[0,2,1],[0,3,2],[0,4,3],[0,5,4],[0,1,5],[1,2,6],[2,3,6],[3,4,6],[4,5,6],[5,1,6]], color:'#0000ff', opacity:1},{vertices:[{x:-0.306889,y:0.670444,z:-0.323889},{x:-0.308756,y:0.690178,z:-0.326556},{x:-0.300872,y:0.674767,z:-0.342466},{x:-0.301303,y:0.653383,z:-0.332704},{x:-0.309454,y:0.655577,z:-0.31076},{x:-0.31406,y:0.678318,z:-0.30696},{x:-0.3352,y:0.6864,z:-0.336},{x:-0.327316,y:0.670989,z:-0.35191},{x:-0.327748,y:0.649605,z:-0.342148},{x:-0.335898,y:0.651799,z:-0.320204},{x:-0.340504,y:0.67454,z:-0.316404},{x:-0.333333,y:0.666667,z:-0.333333}], faces:[[0,2,1],[0,3,2],[0,4,3],[0,5,4],[0,1,5],[1,2,7,6],[2,3,8,7],[3,4,9,8],[4,5,10,9],[5,1,6,10],[6,7,11],[7,8,11],[8,9,11],[9,10,11],[10,6,11]], color:'#0000ff', opacity:1},{vertices:[{x:-0.138889,y:0.694444,z:-0.263889},{x:-0.312489,y:0.729644,z:-0.331889},{x:-0.288837,y:0.683412,z:-0.37962},{x:-0.290132,y:0.619259,z:-0.350333},{x:-0.314584,y:0.625842,z:-0.284501},{x:-0.328401,y:0.694064,z:-0.273102},{x:-0.306889,y:0.670444,z:-0.323889}], faces:[[0,2,1],[0,3,2],[0,4,3],[0,5,4],[0,1,5],[1,2,6],[2,3,6],[3,4,6],[4,5,6],[5,1,6]], color:'#0000ff', opacity:1},{vertices:[{x:-0.320952,y:0.672857,z:0.00412698},{x:-0.326667,y:0.69,z:-0.00444444},{x:-0.314566,y:0.67272,z:-0.0148256},{x:-0.311291,y:0.65563,z:0.000985097},{x:-0.321368,y:0.662347,z:0.0211377},{x:-0.33087,y:0.683589,z:0.0177821},{x:-0.339048,y:0.68381,z:-0.00857143},{x:-0.326947,y:0.666529,z:-0.0189525},{x:-0.323672,y:0.649439,z:-0.00314189},{x:-0.333749,y:0.656157,z:0.0170107},{x:-0.343251,y:0.677399,z:0.0136551},{x:-0.333333,y:0.666667,z:0}], faces:[[0,2,1],[0,3,2],[0,4,3],[0,5,4],[0,1,5],[1,2,7,6],[2,3,8,7],[3,4,9,8],[4,5,10,9],[5,1,6,10],[6,7,11],[7,8,11],[8,9,11],[9,10,11],[10,6,11]], color:'#0000ff', opacity:1},{vertices:[{x:-0.166667,y:0.75,z:0.0555556},{x:-0.338095,y:0.724286,z:-0.0215873},{x:-0.301794,y:0.672446,z:-0.0527306},{x:-0.291969,y:0.621174,z:-0.00529868},{x:-0.322198,y:0.641327,z:0.0551592},{x:-0.350706,y:0.705053,z:0.0450923},{x:-0.320952,y:0.672857,z:0.00412698}], faces:[[0,2,1],[0,3,2],[0,4,3],[0,5,4],[0,1,5],[1,2,6],[2,3,6],[3,4,6],[4,5,6],[5,1,6]], color:'#0000ff', opacity:1},{vertices:[{x:-0.314444,y:0.685556,z:0.342778},{x:-0.321111,y:0.698889,z:0.329444},{x:-0.303824,y:0.683335,z:0.325977},{x:-0.301214,y:0.67085,z:0.345728},{x:-0.316888,y:0.678687,z:0.361402},{x:-0.329185,y:0.696016,z:0.351338},{x:-0.34,y:0.68,z:0.32},{x:-0.322713,y:0.664447,z:0.316532},{x:-0.320103,y:0.651961,z:0.336283},{x:-0.335777,y:0.659798,z:0.351957},{x:-0.348074,y:0.677127,z:0.341894},{x:-0.333333,y:0.666667,z:0.333333}], faces:[[0,2,1],[0,3,2],[0,4,3],[0,5,4],[0,1,5],[1,2,7,6],[2,3,8,7],[3,4,9,8],[4,5,10,9],[5,1,6,10],[6,7,11],[7,8,11],[8,9,11],[9,10,11],[10,6,11]], color:'#0000ff', opacity:1},{vertices:[{x:-0.194444,y:0.805556,z:0.402778},{x:-0.334444,y:0.725556,z:0.302778},{x:-0.282583,y:0.678895,z:0.292375},{x:-0.274753,y:0.641439,z:0.351627},{x:-0.321776,y:0.664951,z:0.39865},{x:-0.358667,y:0.716937,z:0.368459},{x:-0.314444,y:0.685556,z:0.342778}], faces:[[0,2,1],[0,3,2],[0,4,3],[0,5,4],[0,1,5],[1,2,6],[2,3,6],[3,4,6],[4,5,6],[5,1,6]], color:'#0000ff', opacity:1},{vertices:[{x:-0.302222,y:0.721111,z:0.697778},{x:-0.307009,y:0.732735,z:0.682222},{x:-0.287281,y:0.720151,z:0.684517},{x:-0.288202,y:0.708894,z:0.705138},{x:-0.308498,y:0.71452,z:0.715587},{x:-0.320121,y:0.729255,z:0.701425},{x:-0.33812,y:0.678291,z:0.651111},{x:-0.318392,y:0.665707,z:0.653406},{x:-0.319313,y:0.654449,z:0.674027},{x:-0.339609,y:0.660076,z:0.684476},{x:-0.351232,y:0.674811,z:0.670314},{x:-0.333333,y:0.666667,z:0.666667}], faces:[[0,2,1],[0,3,2],[0,4,3],[0,5,4],[0,1,5],[1,2,7,6],[2,3,8,7],[3,4,9,8],[4,5,10,9],[5,1,6,10],[6,7,11],[7,8,11],[8,9,11],[9,10,11],[10,6,11]], color:'#0000ff', opacity:1},{vertices:[{x:-0.222222,y:0.861111,z:0.777778},{x:-0.316581,y:0.755983,z:0.651111},{x:-0.2574,y:0.718231,z:0.657995},{x:-0.260161,y:0.684459,z:0.719858},{x:-0.32105,y:0.701339,z:0.751206},{x:-0.355919,y:0.745543,z:0.708718},{x:-0.302222,y:0.721111,z:0.697778}], faces:[[0,2,1],[0,3,2],[0,4,3],[0,5,4],[0,1,5],[1,2,6],[2,3,6],[3,4,6],[4,5,6],[5,1,6]], color:'#0000ff', opacity:1},{vertices:[{x:-0.296957,y:0.775797,z:1.07882},{x:-0.299565,y:0.787971,z:1.06316},{x:-0.279569,y:0.777078,z:1.06902},{x:-0.283601,y:0.764415,z:1.08841},{x:-0.306091,y:0.767482,z:1.09455},{x:-0.315957,y:0.78204,z:1.07894},{x:-0.335942,y:0.678841,z:0.984348},{x:-0.315945,y:0.667948,z:0.990201},{x:-0.319978,y:0.655284,z:1.0096},{x:-0.342467,y:0.658351,z:1.01573},{x:-0.352334,y:0.67291,z:1.00013},{x:-0.333333,y:0.666667,z:1}], faces:[[0,2,1],[0,3,2],[0,4,3],[0,5,4],[0,1,5],[1,2,7,6],[2,3,8,7],[3,4,9,8],[4,5,10,9],[5,1,6,10],[6,7,11],[7,8,11],[8,9,11],[9,10,11],[10,6,11]], color:'#0000ff', opacity:1},{vertices:[{x:-0.25,y:0.916667,z:1.18056},{x:-0.304783,y:0.812319,z:1.03186},{x:-0.244793,y:0.77964,z:1.04942},{x:-0.256891,y:0.74165,z:1.1076},{x:-0.324359,y:0.75085,z:1.12601},{x:-0.353957,y:0.794526,z:1.07919},{x:-0.296957,y:0.775797,z:1.07882}], faces:[[0,2,1],[0,3,2],[0,4,3],[0,5,4],[0,1,5],[1,2,6],[2,3,6],[3,4,6],[4,5,6],[5,1,6]], color:'#0000ff', opacity:1},{vertices:[{x:-0.154286,y:0.910476,z:-0.940317},{x:-0.148571,y:0.927619,z:-0.931746},{x:-0.144368,y:0.921208,z:-0.953973},{x:-0.153871,y:0.899966,z:-0.957328},{x:-0.163947,y:0.893249,z:-0.937176},{x:-0.160672,y:0.910339,z:-0.921365},{x:-0.327619,y:1.01714,z:-0.991429},{x:-0.323416,y:1.01073,z:-1.01366},{x:-0.332918,y:0.98949,z:-1.01701},{x:-0.342994,y:0.982772,z:-0.996858},{x:-0.339719,y:0.999863,z:-0.981047},{x:-0.333333,y:1,z:-1}], faces:[[0,2,1],[0,3,2],[0,4,3],[0,5,4],[0,1,5],[1,2,7,6],[2,3,8,7],[3,4,9,8],[4,5,10,9],[5,1,6,10],[6,7,11],[7,8,11],[8,9,11],[9,10,11],[10,6,11]], color:'#0000ff', opacity:1},{vertices:[{x:-8.32667e-17,y:0.833333,z:-0.888889},{x:-0.137143,y:0.961905,z:-0.914603},{x:-0.124533,y:0.942672,z:-0.981283},{x:-0.15304,y:0.878946,z:-0.99135},{x:-0.183269,y:0.858793,z:-0.930892},{x:-0.173444,y:0.910065,z:-0.88346},{x:-0.154286,y:0.910476,z:-0.940317}], faces:[[0,2,1],[0,3,2],[0,4,3],[0,5,4],[0,1,5],[1,2,6],[2,3,6],[3,4,6],[4,5,6],[5,1,6]], color:'#0000ff', opacity:1},{vertices:[{x:-0.199952,y:0.963623,z:-0.648478},{x:-0.195537,y:0.982419,z:-0.643261},{x:-0.194961,y:0.97363,z:-0.66506},{x:-0.201282,y:0.951012,z:-0.663944},{x:-0.205764,y:0.945822,z:-0.641455},{x:-0.202214,y:0.965233,z:-0.628672},{x:-0.328919,y:1.0188,z:-0.661449},{x:-0.328343,y:1.01001,z:-0.683249},{x:-0.334664,y:0.987389,z:-0.682132},{x:-0.339146,y:0.982199,z:-0.659643},{x:-0.335595,y:1.00161,z:-0.64686},{x:-0.333333,y:1,z:-0.666667}], faces:[[0,2,1],[0,3,2],[0,4,3],[0,5,4],[0,1,5],[1,2,7,6],[2,3,8,7],[3,4,9,8],[4,5,10,9],[5,1,6,10],[6,7,11],[7,8,11],[8,9,11],[9,10,11],[10,6,11]], color:'#0000ff', opacity:1},{vertices:[{x:-0.0277778,y:0.916667,z:-0.625},{x:-0.186708,y:1.02001,z:-0.632826},{x:-0.184981,y:0.993644,z:-0.698224},{x:-0.203943,y:0.925789,z:-0.694875},{x:-0.21739,y:0.91022,z:-0.627407},{x:-0.206737,y:0.968452,z:-0.589059},{x:-0.199952,y:0.963623,z:-0.648478}], faces:[[0,2,1],[0,3,2],[0,4,3],[0,5,4],[0,1,5],[1,2,6],[2,3,6],[3,4,6],[4,5,6],[5,1,6]], color:'#0000ff', opacity:1},{vertices:[{x:-0.235556,y:1,z:-0.333333},{x:-0.235556,y:1.02,z:-0.333333},{x:-0.235556,y:1.00618,z:-0.352354},{x:-0.235556,y:0.98382,z:-0.345089},{x:-0.235556,y:0.98382,z:-0.321578},{x:-0.235556,y:1.00618,z:-0.314312},{x:-0.333333,y:1.02,z:-0.333333},{x:-0.333333,y:1.00618,z:-0.352354},{x:-0.333333,y:0.98382,z:-0.345089},{x:-0.333333,y:0.98382,z:-0.321578},{x:-0.333333,y:1.00618,z:-0.314312},{x:-0.333333,y:1,z:-0.333333}], faces:[[0,2,1],[0,3,2],[0,4,3],[0,5,4],[0,1,5],[1,2,7,6],[2,3,8,7],[3,4,9,8],[4,5,10,9],[5,1,6,10],[6,7,11],[7,8,11],[8,9,11],[9,10,11],[10,6,11]], color:'#0000ff', opacity:1},{vertices:[{x:-0.0555556,y:1,z:-0.333333},{x:-0.235556,y:1.06,z:-0.333333},{x:-0.235556,y:1.01854,z:-0.390397},{x:-0.235556,y:0.951459,z:-0.3686},{x:-0.235556,y:0.951459,z:-0.298066},{x:-0.235556,y:1.01854,z:-0.27627},{x:-0.235556,y:1,z:-0.333333}], faces:[[0,2,1],[0,3,2],[0,4,3],[0,5,4],[0,1,5],[1,2,6],[2,3,6],[3,4,6],[4,5,6],[5,1,6]], color:'#0000ff', opacity:1},{vertices:[{x:-0.25386,y:1.02649,z:-0.0044152},{x:-0.260175,y:1.04439,z:-0.010731},{x:-0.25481,y:1.02601,z:-0.0243869},{x:-0.248131,y:1.0083,z:-0.0104426},{x:-0.249369,y:1.01573,z:0.0118314},{x:-0.256812,y:1.03803,z:0.0116531},{x:-0.339649,y:1.01789,z:-0.00631579},{x:-0.334284,y:0.999523,z:-0.0199717},{x:-0.327605,y:0.981811,z:-0.0060274},{x:-0.328842,y:0.989235,z:0.0162466},{x:-0.336286,y:1.01154,z:0.0160683},{x:-0.333333,y:1,z:0}], faces:[[0,2,1],[0,3,2],[0,4,3],[0,5,4],[0,1,5],[1,2,7,6],[2,3,8,7],[3,4,9,8],[4,5,10,9],[5,1,6,10],[6,7,11],[7,8,11],[8,9,11],[9,10,11],[10,6,11]], color:'#0000ff', opacity:1},{vertices:[{x:-0.0833333,y:1.08333,z:-0.0138889},{x:-0.272807,y:1.08018,z:-0.0233626},{x:-0.256711,y:1.02506,z:-0.0643303},{x:-0.236675,y:0.971923,z:-0.0224974},{x:-0.240387,y:0.994197,z:0.0443245},{x:-0.262718,y:1.0611,z:0.0437898},{x:-0.25386,y:1.02649,z:-0.0044152}], faces:[[0,2,1],[0,3,2],[0,4,3],[0,5,4],[0,1,5],[1,2,6],[2,3,6],[3,4,6],[4,5,6],[5,1,6]], color:'#0000ff', opacity:1},{vertices:[{x:-0.255111,y:1.05867,z:0.333333},{x:-0.264711,y:1.07147,z:0.321333},{x:-0.25123,y:1.05349,z:0.314408},{x:-0.243112,y:1.04267,z:0.333637},{x:-0.251577,y:1.05395,z:0.352446},{x:-0.264925,y:1.07175,z:0.344842},{x:-0.342933,y:1.0128,z:0.321333},{x:-0.329452,y:0.994825,z:0.314408},{x:-0.321335,y:0.984002,z:0.333637},{x:-0.329799,y:0.995287,z:0.352446},{x:-0.343148,y:1.01309,z:0.344842},{x:-0.333333,y:1,z:0.333333}], faces:[[0,2,1],[0,3,2],[0,4,3],[0,5,4],[0,1,5],[1,2,7,6],[2,3,8,7],[3,4,9,8],[4,5,10,9],[5,1,6,10],[6,7,11],[7,8,11],[8,9,11],[9,10,11],[10,6,11]], color:'#0000ff', opacity:1},{vertices:[{x:-0.111111,y:1.16667,z:0.333333},{x:-0.283911,y:1.09707,z:0.297333},{x:-0.243468,y:1.04314,z:0.276558},{x:-0.219115,y:1.01067,z:0.334244},{x:-0.244508,y:1.04453,z:0.390672},{x:-0.284554,y:1.09792,z:0.367859},{x:-0.255111,y:1.05867,z:0.333333}], faces:[[0,2,1],[0,3,2],[0,4,3],[0,5,4],[0,1,5],[1,2,6],[2,3,6],[3,4,6],[4,5,6],[5,1,6]], color:'#0000ff', opacity:1},{vertices:[{x:-0.248454,y:1.10913,z:0.684855},{x:-0.256882,y:1.11829,z:0.669203},{x:-0.238272,y:1.10395,z:0.66844},{x:-0.233733,y:1.09676,z:0.690362},{x:-0.249538,y:1.10667,z:0.704674},{x:-0.263845,y:1.11998,z:0.691596},{x:-0.341761,y:1.00916,z:0.651014},{x:-0.323151,y:0.994816,z:0.650252},{x:-0.318612,y:0.987632,z:0.672174},{x:-0.334418,y:0.99754,z:0.686485},{x:-0.348725,y:1.01085,z:0.673408},{x:-0.333333,y:1,z:0.666667}], faces:[[0,2,1],[0,3,2],[0,4,3],[0,5,4],[0,1,5],[1,2,7,6],[2,3,8,7],[3,4,9,8],[4,5,10,9],[5,1,6,10],[6,7,11],[7,8,11],[8,9,11],[9,10,11],[10,6,11]], color:'#0000ff', opacity:1},{vertices:[{x:-0.138889,y:1.25,z:0.708333},{x:-0.273738,y:1.13662,z:0.637899},{x:-0.217907,y:1.09358,z:0.63561},{x:-0.204291,y:1.07203,z:0.701377},{x:-0.251707,y:1.10175,z:0.744311},{x:-0.294628,y:1.14167,z:0.705079},{x:-0.248454,y:1.10913,z:0.684855}], faces:[[0,2,1],[0,3,2],[0,4,3],[0,5,4],[0,1,5],[1,2,6],[2,3,6],[3,4,6],[4,5,6],[5,1,6]], color:'#0000ff', opacity:1},{vertices:[{x:-0.24381,y:1.17905,z:1.05968},{x:-0.249524,y:1.18762,z:1.04254},{x:-0.229272,y:1.17626,z:1.04623},{x:-0.22911,y:1.16875,z:1.06851},{x:-0.249263,y:1.17547,z:1.07859},{x:-0.261879,y:1.18713,z:1.06254},{x:-0.339048,y:1.00857,z:0.982857},{x:-0.318795,y:0.997214,z:0.986551},{x:-0.318634,y:0.989707,z:1.00883},{x:-0.338787,y:0.996424,z:1.01891},{x:-0.351403,y:1.00808,z:1.00285},{x:-0.333333,y:1,z:1}], faces:[[0,2,1],[0,3,2],[0,4,3],[0,5,4],[0,1,5],[1,2,7,6],[2,3,8,7],[3,4,9,8],[4,5,10,9],[5,1,6,10],[6,7,11],[7,8,11],[8,9,11],[9,10,11],[10,6,11]], color:'#0000ff', opacity:1},{vertices:[{x:-0.166667,y:1.33333,z:1.11111},{x:-0.260952,y:1.20476,z:1.00825},{x:-0.200195,y:1.17069,z:1.01933},{x:-0.199712,y:1.14817,z:1.08617},{x:-0.26017,y:1.16832,z:1.1164},{x:-0.298018,y:1.2033,z:1.06825},{x:-0.24381,y:1.17905,z:1.05968}], faces:[[0,2,1],[0,3,2],[0,4,3],[0,5,4],[0,1,5],[1,2,6],[2,3,6],[3,4,6],[4,5,6],[5,1,6]], color:'#0000ff', opacity:1},{vertices:[{x:-0.13,y:-0.87,z:-0.935},{x:-0.123333,y:-0.856667,z:-0.948333},{x:-0.115259,y:-0.859539,z:-0.926439},{x:-0.127556,y:-0.876868,z:-0.916376},{x:-0.143231,y:-0.884705,z:-0.93205},{x:-0.140621,y:-0.87222,z:-0.951801},{x:0.00666667,y:-0.986667,z:-1.01333},{x:0.0147409,y:-0.989539,z:-0.991439},{x:0.00244369,y:-1.00687,z:-0.981376},{x:-0.0132306,y:-1.01471,z:-0.99705},{x:-0.0106206,y:-1.00222,z:-1.0168},{x:0,y:-1,z:-1}], faces:[[0,2,1],[0,3,2],[0,4,3],[0,5,4],[0,1,5],[1,2,7,6],[2,3,8,7],[3,4,9,8],[4,5,10,9],[5,1,6,10],[6,7,11],[7,8,11],[8,9,11],[9,10,11],[10,6,11]], color:'#0000ff', opacity:1},{vertices:[{x:-0.25,y:-0.75,z:-0.875},{x:-0.11,y:-0.83,z:-0.975},{x:-0.0857774,y:-0.838618,z:-0.909318},{x:-0.122669,y:-0.890605,z:-0.879128},{x:-0.169692,y:-0.914116,z:-0.926151},{x:-0.161862,y:-0.87666,z:-0.985403},{x:-0.13,y:-0.87,z:-0.935}], faces:[[0,2,1],[0,3,2],[0,4,3],[0,5,4],[0,1,5],[1,2,6],[2,3,6],[3,4,6],[4,5,6],[5,1,6]], color:'#0000ff', opacity:1},{vertices:[{x:-0.102727,y:-0.931515,z:-0.643838},{x:-0.0951748,y:-0.91655,z:-0.654747},{x:-0.0921465,y:-0.919708,z:-0.631647},{x:-0.10374,y:-0.939183,z:-0.625394},{x:-0.113934,y:-0.948061,z:-0.644631},{x:-0.10864,y:-0.934074,z:-0.662772},{x:0.00755245,y:-0.985035,z:-0.677576},{x:0.0105808,y:-0.988193,z:-0.654475},{x:-0.00101318,y:-1.00767,z:-0.648223},{x:-0.0112069,y:-1.01655,z:-0.667459},{x:-0.00591309,y:-1.00256,z:-0.685601},{x:0,y:-1,z:-0.666667}], faces:[[0,2,1],[0,3,2],[0,4,3],[0,5,4],[0,1,5],[1,2,7,6],[2,3,8,7],[3,4,9,8],[4,5,10,9],[5,1,6,10],[6,7,11],[7,8,11],[8,9,11],[9,10,11],[10,6,11]], color:'#0000ff', opacity:1},{vertices:[{x:-0.25,y:-0.833333,z:-0.611111},{x:-0.0800699,y:-0.88662,z:-0.676566},{x:-0.070985,y:-0.896093,z:-0.607263},{x:-0.105767,y:-0.954518,z:-0.588507},{x:-0.136348,y:-0.981154,z:-0.646216},{x:-0.120467,y:-0.93919,z:-0.70064},{x:-0.102727,y:-0.931515,z:-0.643838}], faces:[[0,2,1],[0,3,2],[0,4,3],[0,5,4],[0,1,5],[1,2,6],[2,3,6],[3,4,6],[4,5,6],[5,1,6]], color:'#0000ff', opacity:1},{vertices:[{x:-0.0794737,y:-0.973509,z:-0.328918},{x:-0.0737895,y:-0.955404,z:-0.335234},{x:-0.0749141,y:-0.962508,z:-0.31285},{x:-0.0823399,y:-0.984815,z:-0.312672},{x:-0.0858047,y:-0.991497,z:-0.334946},{x:-0.0805203,y:-0.97332,z:-0.34889},{x:0.00568421,y:-0.981895,z:-0.339649},{x:0.00455963,y:-0.988999,z:-0.317265},{x:-0.0028662,y:-1.01131,z:-0.317087},{x:-0.00633104,y:-1.01799,z:-0.339361},{x:-0.0010466,y:-0.999811,z:-0.353305},{x:0,y:-1,z:-0.333333}], faces:[[0,2,1],[0,3,2],[0,4,3],[0,5,4],[0,1,5],[1,2,7,6],[2,3,8,7],[3,4,9,8],[4,5,10,9],[5,1,6,10],[6,7,11],[7,8,11],[8,9,11],[9,10,11],[10,6,11]], color:'#0000ff', opacity:1},{vertices:[{x:-0.25,y:-0.916667,z:-0.319444},{x:-0.0624211,y:-0.919193,z:-0.347865},{x:-0.0657948,y:-0.940506,z:-0.280713},{x:-0.0880723,y:-1.00743,z:-0.280178},{x:-0.0984668,y:-1.02747,z:-0.347},{x:-0.0826135,y:-0.972942,z:-0.388833},{x:-0.0794737,y:-0.973509,z:-0.328918}], faces:[[0,2,1],[0,3,2],[0,4,3],[0,5,4],[0,1,5],[1,2,6],[2,3,6],[3,4,6],[4,5,6],[5,1,6]], color:'#0000ff', opacity:1},{vertices:[{x:-0.07,y:-1,z:4.28626e-18},{x:-0.07,y:-0.98,z:4.28626e-18},{x:-0.07,y:-0.99382,z:0.0190211},{x:-0.07,y:-1.01618,z:0.0117557},{x:-0.07,y:-1.01618,z:-0.0117557},{x:-0.07,y:-0.99382,z:-0.0190211},{x:0,y:-0.98,z:0},{x:1.16471e-18,y:-0.99382,z:0.0190211},{x:7.19829e-19,y:-1.01618,z:0.0117557},{x:-7.19829e-19,y:-1.01618,z:-0.0117557},{x:-1.16471e-18,y:-0.99382,z:-0.0190211},{x:0,y:-1,z:0}], faces:[[0,2,1],[0,3,2],[0,4,3],[0,5,4],[0,1,5],[1,2,7,6],[2,3,8,7],[3,4,9,8],[4,5,10,9],[5,1,6,10],[6,7,11],[7,8,11],[8,9,11],[9,10,11],[10,6,11]], color:'#0000ff', opacity:1},{vertices:[{x:-0.25,y:-1,z:1.53081e-17},{x:-0.07,y:-0.94,z:4.28626e-18},{x:-0.07,y:-0.981459,z:0.0570634},{x:-0.07,y:-1.04854,z:0.0352671},{x:-0.07,y:-1.04854,z:-0.0352671},{x:-0.07,y:-0.981459,z:-0.0570634},{x:-0.07,y:-1,z:4.28626e-18}], faces:[[0,2,1],[0,3,2],[0,4,3],[0,5,4],[0,1,5],[1,2,6],[2,3,6],[3,4,6],[4,5,6],[5,1,6]], color:'#0000ff', opacity:1},{vertices:[{x:-0.0794737,y:-1.02649,z:0.337749},{x:-0.0851579,y:-1.00839,z:0.344064},{x:-0.0784271,y:-1.0263,z:0.35772},{x:-0.0731426,y:-1.04448,z:0.343776},{x:-0.0766075,y:-1.0378,z:0.321502},{x:-0.0840333,y:-1.01549,z:0.32168},{x:-0.00568421,y:-0.981895,z:0.339649},{x:0.0010466,y:-0.999811,z:0.353305},{x:0.00633104,y:-1.01799,z:0.339361},{x:0.0028662,y:-1.01131,z:0.317087},{x:-0.00455963,y:-0.988999,z:0.317265},{x:0,y:-1,z:0.333333}], faces:[[0,2,1],[0,3,2],[0,4,3],[0,5,4],[0,1,5],[1,2,7,6],[2,3,8,7],[3,4,9,8],[4,5,10,9],[5,1,6,10],[6,7,11],[7,8,11],[8,9,11],[9,10,11],[10,6,11]], color:'#0000ff', opacity:1},{vertices:[{x:-0.25,y:-1.08333,z:0.347222},{x:-0.0965263,y:-0.972175,z:0.356696},{x:-0.0763339,y:-1.02592,z:0.397664},{x:-0.0604806,y:-1.08046,z:0.355831},{x:-0.0708751,y:-1.06041,z:0.289009},{x:-0.0931526,y:-0.993489,z:0.289544},{x:-0.0794737,y:-1.02649,z:0.337749}], faces:[[0,2,1],[0,3,2],[0,4,3],[0,5,4],[0,1,5],[1,2,6],[2,3,6],[3,4,6],[4,5,6],[5,1,6]], color:'#0000ff', opacity:1},{vertices:[{x:-0.102727,y:-1.06848,z:0.689495},{x:-0.11028,y:-1.05352,z:0.700404},{x:-0.0968142,y:-1.07104,z:0.708429},{x:-0.0915203,y:-1.08503,z:0.690288},{x:-0.101714,y:-1.07615,z:0.671051},{x:-0.113308,y:-1.05668,z:0.677303},{x:-0.00755245,y:-0.985035,z:0.677576},{x:0.00591309,y:-1.00256,z:0.685601},{x:0.0112069,y:-1.01655,z:0.667459},{x:0.00101318,y:-1.00767,z:0.648223},{x:-0.0105808,y:-0.988193,z:0.654475},{x:0,y:-1,z:0.666667}], faces:[[0,2,1],[0,3,2],[0,4,3],[0,5,4],[0,1,5],[1,2,7,6],[2,3,8,7],[3,4,9,8],[4,5,10,9],[5,1,6,10],[6,7,11],[7,8,11],[8,9,11],[9,10,11],[10,6,11]], color:'#0000ff', opacity:1},{vertices:[{x:-0.25,y:-1.16667,z:0.722222},{x:-0.125385,y:-1.02359,z:0.722222},{x:-0.084988,y:-1.07616,z:0.746296},{x:-0.0691065,y:-1.11812,z:0.691873},{x:-0.0996877,y:-1.09149,z:0.634163},{x:-0.13447,y:-1.03306,z:0.65292},{x:-0.102727,y:-1.06848,z:0.689495}], faces:[[0,2,1],[0,3,2],[0,4,3],[0,5,4],[0,1,5],[1,2,6],[2,3,6],[3,4,6],[4,5,6],[5,1,6]], color:'#0000ff', opacity:1},{vertices:[{x:-0.13,y:-1.13,z:1.065},{x:-0.136667,y:-1.11667,z:1.07833},{x:-0.119379,y:-1.13222,z:1.0818},{x:-0.116769,y:-1.14471,z:1.06205},{x:-0.132444,y:-1.13687,z:1.04638},{x:-0.144741,y:-1.11954,z:1.05644},{x:-0.00666667,y:-0.986667,z:1.01333},{x:0.0106206,y:-1.00222,z:1.0168},{x:0.0132306,y:-1.01471,z:0.99705},{x:-0.00244369,y:-1.00687,z:0.981376},{x:-0.0147409,y:-0.989539,z:0.991439},{x:0,y:-1,z:1}], faces:[[0,2,1],[0,3,2],[0,4,3],[0,5,4],[0,1,5],[1,2,7,6],[2,3,8,7],[3,4,9,8],[4,5,10,9],[5,1,6,10],[6,7,11],[7,8,11],[8,9,11],[9,10,11],[10,6,11]], color:'#0000ff', opacity:1},{vertices:[{x:-0.25,y:-1.25,z:1.125},{x:-0.15,y:-1.09,z:1.105},{x:-0.0981381,y:-1.13666,z:1.1154},{x:-0.0903083,y:-1.17412,z:1.05615},{x:-0.137331,y:-1.1506,z:1.00913},{x:-0.174223,y:-1.09862,z:1.03932},{x:-0.13,y:-1.13,z:1.065}], faces:[[0,2,1],[0,3,2],[0,4,3],[0,5,4],[0,1,5],[1,2,6],[2,3,6],[3,4,6],[4,5,6],[5,1,6]], color:'#0000ff', opacity:1},{vertices:[{x:-0.0684848,y:-0.598182,z:-0.920101},{x:-0.0648485,y:-0.581818,z:-0.93101},{x:-0.0517984,y:-0.589667,z:-0.913097},{x:-0.0618084,y:-0.609283,z:-0.904863},{x:-0.081045,y:-0.613558,z:-0.917688},{x:-0.0829239,y:-0.596584,z:-0.933847},{x:0.00363636,y:-0.650303,z:-1.01091},{x:0.0166864,y:-0.658152,z:-0.992996},{x:0.00667642,y:-0.677768,z:-0.984762},{x:-0.0125602,y:-0.682043,z:-0.997587},{x:-0.014439,y:-0.665068,z:-1.01375},{x:0,y:-0.666667,z:-1}], faces:[[0,2,1],[0,3,2],[0,4,3],[0,5,4],[0,1,5],[1,2,7,6],[2,3,8,7],[3,4,9,8],[4,5,10,9],[5,1,6,10],[6,7,11],[7,8,11],[8,9,11],[9,10,11],[10,6,11]], color:'#0000ff', opacity:1},{vertices:[{x:-0.166667,y:-0.5,z:-0.805556},{x:-0.0575758,y:-0.549091,z:-0.952828},{x:-0.0184255,y:-0.572637,z:-0.899089},{x:-0.0484556,y:-0.631485,z:-0.874387},{x:-0.106165,y:-0.644309,z:-0.912861},{x:-0.111802,y:-0.593387,z:-0.96134},{x:-0.0684848,y:-0.598182,z:-0.920101}], faces:[[0,2,1],[0,3,2],[0,4,3],[0,5,4],[0,1,5],[1,2,6],[2,3,6],[3,4,6],[4,5,6],[5,1,6]], color:'#0000ff', opacity:1},{vertices:[{x:-0.0396078,y:-0.640261,z:-0.636961},{x:-0.035264,y:-0.623157,z:-0.646373},{x:-0.0254413,y:-0.630845,z:-0.626442},{x:-0.0351963,y:-0.651546,z:-0.621048},{x:-0.0510479,y:-0.656652,z:-0.637645},{x:-0.0510897,y:-0.639107,z:-0.653296},{x:0.00434389,y:-0.649563,z:-0.676078},{x:0.0141665,y:-0.65725,z:-0.656148},{x:0.00441151,y:-0.677951,z:-0.650754},{x:-0.0114401,y:-0.683057,z:-0.667351},{x:-0.0114819,y:-0.665513,z:-0.683002},{x:0,y:-0.666667,z:-0.666667}], faces:[[0,2,1],[0,3,2],[0,4,3],[0,5,4],[0,1,5],[1,2,7,6],[2,3,8,7],[3,4,9,8],[4,5,10,9],[5,1,6,10],[6,7,11],[7,8,11],[8,9,11],[9,10,11],[10,6,11]], color:'#0000ff', opacity:1},{vertices:[{x:-0.166667,y:-0.555556,z:-0.541667},{x:-0.0265762,y:-0.588949,z:-0.665196},{x:0.00289177,y:-0.612011,z:-0.605406},{x:-0.0263733,y:-0.674114,z:-0.589224},{x:-0.0739281,y:-0.689434,z:-0.639012},{x:-0.0740534,y:-0.636799,z:-0.685966},{x:-0.0396078,y:-0.640261,z:-0.636961}], faces:[[0,2,1],[0,3,2],[0,4,3],[0,5,4],[0,1,5],[1,2,6],[2,3,6],[3,4,6],[4,5,6],[5,1,6]], color:'#0000ff', opacity:1},{vertices:[{x:-0.012381,y:-0.66254,z:-0.327143},{x:-0.00895238,y:-0.643683,z:-0.332857},{x:-0.00208263,y:-0.653452,z:-0.312605},{x:-0.00944481,y:-0.67578,z:-0.312444},{x:-0.0208646,y:-0.679811,z:-0.332596},{x:-0.0205603,y:-0.659973,z:-0.345212},{x:0.00342857,y:-0.64781,z:-0.339048},{x:0.0102983,y:-0.657579,z:-0.318795},{x:0.00293614,y:-0.679907,z:-0.318634},{x:-0.00848369,y:-0.683938,z:-0.338787},{x:-0.00817935,y:-0.6641,z:-0.351403},{x:0,y:-0.666667,z:-0.333333}], faces:[[0,2,1],[0,3,2],[0,4,3],[0,5,4],[0,1,5],[1,2,7,6],[2,3,8,7],[3,4,9,8],[4,5,10,9],[5,1,6,10],[6,7,11],[7,8,11],[8,9,11],[9,10,11],[10,6,11]], color:'#0000ff', opacity:1},{vertices:[{x:-0.166667,y:-0.611111,z:-0.25},{x:-0.00209524,y:-0.605968,z:-0.344286},{x:0.018514,y:-0.635276,z:-0.283529},{x:-0.00357253,y:-0.702261,z:-0.283045},{x:-0.037832,y:-0.714353,z:-0.343503},{x:-0.036919,y:-0.65484,z:-0.381352},{x:-0.012381,y:-0.66254,z:-0.327143}], faces:[[0,2,1],[0,3,2],[0,4,3],[0,5,4],[0,1,5],[1,2,6],[2,3,6],[3,4,6],[4,5,6],[5,1,6]], color:'#0000ff', opacity:1},{vertices:[{x:-0.000512821,y:-0.666667,z:0.000213675},{x:-0.000512821,y:-0.646667,z:0.000213675},{x:0.006803,y:-0.660486,z:0.0177716},{x:0.0040086,y:-0.682847,z:0.0110651},{x:-0.00503425,y:-0.682847,z:-0.0106377},{x:-0.00782864,y:-0.660486,z:-0.0173443},{x:0,y:-0.646667,z:0},{x:0.00731582,y:-0.660486,z:0.017558},{x:0.00452143,y:-0.682847,z:0.0108514},{x:-0.00452143,y:-0.682847,z:-0.0108514},{x:-0.00731582,y:-0.660486,z:-0.017558},{x:0,y:-0.666667,z:0}], faces:[[0,2,1],[0,3,2],[0,4,3],[0,5,4],[0,1,5],[1,2,7,6],[2,3,8,7],[3,4,9,8],[4,5,10,9],[5,1,6,10],[6,7,11],[7,8,11],[8,9,11],[9,10,11],[10,6,11]], color:'#0000ff', opacity:1},{vertices:[{x:-0.166667,y:-0.666667,z:0.0694444},{x:-0.000512821,y:-0.606667,z:0.000213675},{x:0.0214346,y:-0.648126,z:0.0528876},{x:0.0130515,y:-0.715208,z:0.0327679},{x:-0.0140771,y:-0.715208,z:-0.0323406},{x:-0.0224603,y:-0.648126,z:-0.0524602},{x:-0.000512821,y:-0.666667,z:0.000213675}], faces:[[0,2,1],[0,3,2],[0,4,3],[0,5,4],[0,1,5],[1,2,6],[2,3,6],[3,4,6],[4,5,6],[5,1,6]], color:'#0000ff', opacity:1},{vertices:[{x:-0.012381,y:-0.670794,z:0.339524},{x:-0.0158095,y:-0.651937,z:0.345238},{x:-0.0042016,y:-0.668227,z:0.357593},{x:-0.00389727,y:-0.688065,z:0.344977},{x:-0.0153171,y:-0.684034,z:0.324825},{x:-0.0226793,y:-0.661706,z:0.324986},{x:-0.00342857,y:-0.64781,z:0.339048},{x:0.00817935,y:-0.6641,z:0.351403},{x:0.00848369,y:-0.683938,z:0.338787},{x:-0.00293614,y:-0.679907,z:0.318634},{x:-0.0102983,y:-0.657579,z:0.318795},{x:0,y:-0.666667,z:0.333333}], faces:[[0,2,1],[0,3,2],[0,4,3],[0,5,4],[0,1,5],[1,2,7,6],[2,3,8,7],[3,4,9,8],[4,5,10,9],[5,1,6,10],[6,7,11],[7,8,11],[8,9,11],[9,10,11],[10,6,11]], color:'#0000ff', opacity:1},{vertices:[{x:-0.166667,y:-0.722222,z:0.416667},{x:-0.0226667,y:-0.614222,z:0.356667},{x:0.0121571,y:-0.663094,z:0.393733},{x:0.0130701,y:-0.722607,z:0.355884},{x:-0.0211894,y:-0.710515,z:0.295426},{x:-0.0432759,y:-0.64353,z:0.29591},{x:-0.012381,y:-0.670794,z:0.339524}], faces:[[0,2,1],[0,3,2],[0,4,3],[0,5,4],[0,1,5],[1,2,6],[2,3,6],[3,4,6],[4,5,6],[5,1,6]], color:'#0000ff', opacity:1},{vertices:[{x:-0.0396078,y:-0.693072,z:0.696373},{x:-0.0439517,y:-0.675968,z:0.705784},{x:-0.028126,y:-0.691918,z:0.712708},{x:-0.0281678,y:-0.709463,z:0.697056},{x:-0.0440194,y:-0.704356,z:0.68046},{x:-0.0537744,y:-0.683655,z:0.685854},{x:-0.00434389,y:-0.649563,z:0.676078},{x:0.0114819,y:-0.665513,z:0.683002},{x:0.0114401,y:-0.683057,z:0.667351},{x:-0.00441151,y:-0.677951,z:0.650754},{x:-0.0141665,y:-0.65725,z:0.656148},{x:0,y:-0.666667,z:0.666667}], faces:[[0,2,1],[0,3,2],[0,4,3],[0,5,4],[0,1,5],[1,2,7,6],[2,3,8,7],[3,4,9,8],[4,5,10,9],[5,1,6,10],[6,7,11],[7,8,11],[8,9,11],[9,10,11],[10,6,11]], color:'#0000ff', opacity:1},{vertices:[{x:-0.166667,y:-0.777778,z:0.791667},{x:-0.0526395,y:-0.64176,z:0.724608},{x:-0.00516225,y:-0.689609,z:0.745378},{x:-0.00528762,y:-0.742244,z:0.698424},{x:-0.0528424,y:-0.726925,z:0.648635},{x:-0.0821075,y:-0.664822,z:0.664818},{x:-0.0396078,y:-0.693072,z:0.696373}], faces:[[0,2,1],[0,3,2],[0,4,3],[0,5,4],[0,1,5],[1,2,6],[2,3,6],[3,4,6],[4,5,6],[5,1,6]], color:'#0000ff', opacity:1},{vertices:[{x:-0.0684848,y:-0.735152,z:1.0799},{x:-0.0721212,y:-0.718788,z:1.09081},{x:-0.0540458,y:-0.733553,z:1.09365},{x:-0.0559247,y:-0.750527,z:1.07749},{x:-0.0751613,y:-0.746253,z:1.06466},{x:-0.0851713,y:-0.726636,z:1.07289},{x:-0.00363636,y:-0.650303,z:1.01091},{x:0.014439,y:-0.665068,z:1.01375},{x:0.0125602,y:-0.682043,z:0.997587},{x:-0.00667642,y:-0.677768,z:0.984762},{x:-0.0166864,y:-0.658152,z:0.992996},{x:0,y:-0.666667,z:1}], faces:[[0,2,1],[0,3,2],[0,4,3],[0,5,4],[0,1,5],[1,2,7,6],[2,3,8,7],[3,4,9,8],[4,5,10,9],[5,1,6,10],[6,7,11],[7,8,11],[8,9,11],[9,10,11],[10,6,11]], color:'#0000ff', opacity:1},{vertices:[{x:-0.166667,y:-0.833333,z:1.19444},{x:-0.0793939,y:-0.686061,z:1.11263},{x:-0.0251677,y:-0.730357,z:1.12114},{x:-0.0308043,y:-0.781279,z:1.07266},{x:-0.0885141,y:-0.768455,z:1.03419},{x:-0.118544,y:-0.709606,z:1.05889},{x:-0.0684848,y:-0.735152,z:1.0799}], faces:[[0,2,1],[0,3,2],[0,4,3],[0,5,4],[0,1,5],[1,2,6],[2,3,6],[3,4,6],[4,5,6],[5,1,6]], color:'#0000ff', opacity:1},{vertices:[{x:-0.0264912,y:-0.306842,z:-0.924942},{x:-0.0254386,y:-0.287895,z:-0.931257},{x:-0.00814593,y:-0.299986,z:-0.920887},{x:-0.0162058,y:-0.321552,z:-0.91612},{x:-0.0384798,y:-0.32279,z:-0.923544},{x:-0.044186,y:-0.301988,z:-0.9329},{x:0.00105263,y:-0.314386,z:-1.00632},{x:0.0183453,y:-0.326477,z:-0.995945},{x:0.0102854,y:-0.348043,z:-0.991178},{x:-0.0119886,y:-0.349281,z:-0.998603},{x:-0.0176947,y:-0.328479,z:-1.00796},{x:0,y:-0.333333,z:-1}], faces:[[0,2,1],[0,3,2],[0,4,3],[0,5,4],[0,1,5],[1,2,7,6],[2,3,8,7],[3,4,9,8],[4,5,10,9],[5,1,6,10],[6,7,11],[7,8,11],[8,9,11],[9,10,11],[10,6,11]], color:'#0000ff', opacity:1},{vertices:[{x:-0.0833333,y:-0.25,z:-0.763889},{x:-0.0233333,y:-0.25,z:-0.943889},{x:0.0285447,y:-0.286274,z:-0.912777},{x:0.00436493,y:-0.350972,z:-0.898476},{x:-0.062457,y:-0.354684,z:-0.92075},{x:-0.0795754,y:-0.29228,z:-0.948817},{x:-0.0264912,y:-0.306842,z:-0.924942}], faces:[[0,2,1],[0,3,2],[0,4,3],[0,5,4],[0,1,5],[1,2,6],[2,3,6],[3,4,6],[4,5,6],[5,1,6]], color:'#0000ff', opacity:1},{vertices:[{x:-0.00619048,y:-0.329206,z:-0.654286},{x:-0.00487179,y:-0.310085,z:-0.66},{x:0.0113569,y:-0.322044,z:-0.6479},{x:0.00333574,y:-0.3439,z:-0.644625},{x:-0.0178504,y:-0.345451,z:-0.654701},{x:-0.0229229,y:-0.324552,z:-0.664203},{x:0.00131868,y:-0.314212,z:-0.672381},{x:0.0175474,y:-0.326171,z:-0.660281},{x:0.00952622,y:-0.348027,z:-0.657006},{x:-0.0116599,y:-0.349578,z:-0.667082},{x:-0.0167324,y:-0.328679,z:-0.676584},{x:0,y:-0.333333,z:-0.666667}], faces:[[0,2,1],[0,3,2],[0,4,3],[0,5,4],[0,1,5],[1,2,7,6],[2,3,8,7],[3,4,9,8],[4,5,10,9],[5,1,6,10],[6,7,11],[7,8,11],[8,9,11],[9,10,11],[10,6,11]], color:'#0000ff', opacity:1},{vertices:[{x:-0.0833333,y:-0.277778,z:-0.5},{x:-0.00223443,y:-0.271844,z:-0.671429},{x:0.0464518,y:-0.307718,z:-0.635127},{x:0.0223882,y:-0.373288,z:-0.625302},{x:-0.0411701,y:-0.377939,z:-0.655531},{x:-0.0563878,y:-0.315243,z:-0.684039},{x:-0.00619048,y:-0.329206,z:-0.654286}], faces:[[0,2,1],[0,3,2],[0,4,3],[0,5,4],[0,1,5],[1,2,6],[2,3,6],[3,4,6],[4,5,6],[5,1,6]], color:'#0000ff', opacity:1},{vertices:[{x:-0.0833333,y:-0.305556,z:-0.208333},{x:0.00277778,y:-0.283333,z:-0.342593},{x:0.0413663,y:-0.315241,z:-0.309776},{x:0.022788,y:-0.372151,z:-0.309515},{x:-0.0272826,y:-0.375417,z:-0.34217},{x:-0.0396496,y:-0.320524,z:-0.362613},{x:0,y:-0.333333,z:-0.333333}], faces:[[0,2,1],[0,3,2],[0,4,3],[0,5,4],[0,1,5],[1,2,6],[2,3,6],[3,4,6],[4,5,6],[5,1,6]], color:'#0000ff', opacity:1},{vertices:[{x:-0.0833333,y:-0.333333,z:0.111111},{x:0,y:-0.287037,z:0},{x:0.0352243,y:-0.319027,z:0.0264182},{x:0.0217698,y:-0.370788,z:0.0163274},{x:-0.0217698,y:-0.370788,z:-0.0163274},{x:-0.0352243,y:-0.319027,z:-0.0264182},{x:0,y:-0.333333,z:0}], faces:[[0,2,1],[0,3,2],[0,4,3],[0,5,4],[0,1,5],[1,2,6],[2,3,6],[3,4,6],[4,5,6],[5,1,6]], color:'#0000ff', opacity:1},{vertices:[{x:-0.0833333,y:-0.361111,z:0.458333},{x:-0.00277778,y:-0.283333,z:0.342593},{x:0.0396496,y:-0.320524,z:0.362613},{x:0.0272826,y:-0.375417,z:0.34217},{x:-0.022788,y:-0.372151,z:0.309515},{x:-0.0413663,y:-0.315241,z:0.309776},{x:0,y:-0.333333,z:0.333333}], faces:[[0,2,1],[0,3,2],[0,4,3],[0,5,4],[0,1,5],[1,2,6],[2,3,6],[3,4,6],[4,5,6],[5,1,6]], color:'#0000ff', opacity:1},{vertices:[{x:-0.00619048,y:-0.33746,z:0.679048},{x:-0.00750916,y:-0.318339,z:0.684762},{x:0.0105419,y:-0.332806,z:0.688965},{x:0.00546941,y:-0.353705,z:0.679463},{x:-0.0157167,y:-0.352154,z:0.669387},{x:-0.0237379,y:-0.330298,z:0.672662},{x:-0.00131868,y:-0.314212,z:0.672381},{x:0.0167324,y:-0.328679,z:0.676584},{x:0.0116599,y:-0.349578,z:0.667082},{x:-0.00952622,y:-0.348027,z:0.657006},{x:-0.0175474,y:-0.326171,z:0.660281},{x:0,y:-0.333333,z:0.666667}], faces:[[0,2,1],[0,3,2],[0,4,3],[0,5,4],[0,1,5],[1,2,7,6],[2,3,8,7],[3,4,9,8],[4,5,10,9],[5,1,6,10],[6,7,11],[7,8,11],[8,9,11],[9,10,11],[10,6,11]], color:'#0000ff', opacity:1},{vertices:[{x:-0.0833333,y:-0.388889,z:0.833333},{x:-0.0101465,y:-0.280098,z:0.69619},{x:0.0440068,y:-0.323497,z:0.708801},{x:0.0287892,y:-0.386193,z:0.680293},{x:-0.0347691,y:-0.381542,z:0.650064},{x:-0.0588327,y:-0.315972,z:0.659889},{x:-0.00619048,y:-0.33746,z:0.679048}], faces:[[0,2,1],[0,3,2],[0,4,3],[0,5,4],[0,1,5],[1,2,6],[2,3,6],[3,4,6],[4,5,6],[5,1,6]], color:'#0000ff', opacity:1},{vertices:[{x:-0.0264912,y:-0.359825,z:1.07506},{x:-0.0275439,y:-0.340877,z:1.08137},{x:-0.00879649,y:-0.354971,z:1.08302},{x:-0.0145026,y:-0.375772,z:1.07366},{x:-0.0367766,y:-0.374535,z:1.06624},{x:-0.0448365,y:-0.352968,z:1.071},{x:-0.00105263,y:-0.314386,z:1.00632},{x:0.0176947,y:-0.328479,z:1.00796},{x:0.0119886,y:-0.349281,z:0.998603},{x:-0.0102854,y:-0.348043,z:0.991178},{x:-0.0183453,y:-0.326477,z:0.995945},{x:0,y:-0.333333,z:1}], faces:[[0,2,1],[0,3,2],[0,4,3],[0,5,4],[0,1,5],[1,2,7,6],[2,3,8,7],[3,4,9,8],[4,5,10,9],[5,1,6,10],[6,7,11],[7,8,11],[8,9,11],[9,10,11],[10,6,11]], color:'#0000ff', opacity:1},{vertices:[{x:-0.0833333,y:-0.416667,z:1.23611},{x:-0.0296491,y:-0.302982,z:1.09401},{x:0.026593,y:-0.345263,z:1.09893},{x:0.00947451,y:-0.407667,z:1.07087},{x:-0.0573474,y:-0.403955,z:1.04859},{x:-0.0815271,y:-0.339256,z:1.06289},{x:-0.0264912,y:-0.359825,z:1.07506}], faces:[[0,2,1],[0,3,2],[0,4,3],[0,5,4],[0,1,5],[1,2,6],[2,3,6],[3,4,6],[4,5,6],[5,1,6]], color:'#0000ff', opacity:1},{vertices:[{x:0,y:0,z:-0.93},{x:0,y:0.02,z:-0.93},{x:0.0190211,y:0.00618034,z:-0.93},{x:0.0117557,y:-0.0161803,z:-0.93},{x:-0.0117557,y:-0.0161803,z:-0.93},{x:-0.0190211,y:0.00618034,z:-0.93},{x:0,y:0.02,z:-1},{x:0.0190211,y:0.00618034,z:-1},{x:0.0117557,y:-0.0161803,z:-1},{x:-0.0117557,y:-0.0161803,z:-1},{x:-0.0190211,y:0.00618034,z:-1},{x:0,y:0,z:-1}], faces:[[0,2,1],[0,3,2],[0,4,3],[0,5,4],[0,1,5],[1,2,7,6],[2,3,8,7],[3,4,9,8],[4,5,10,9],[5,1,6,10],[6,7,11],[7,8,11],[8,9,11],[9,10,11],[10,6,11]], color:'#0000ff', opacity:1},{vertices:[{x:0,y:0,z:-0.75},{x:0,y:0.06,z:-0.93},{x:0.0570634,y:0.018541,z:-0.93},{x:0.0352671,y:-0.048541,z:-0.93},{x:-0.0352671,y:-0.048541,z:-0.93},{x:-0.0570634,y:0.018541,z:-0.93},{x:0,y:0,z:-0.93}], faces:[[0,2,1],[0,3,2],[0,4,3],[0,5,4],[0,1,5],[1,2,6],[2,3,6],[3,4,6],[4,5,6],[5,1,6]], color:'#0000ff', opacity:1},{vertices:[{x:0,y:0,z:-0.666111},{x:0,y:0.02,z:-0.666111},{x:0.0190211,y:0.00618034,z:-0.666111},{x:0.0117557,y:-0.0161803,z:-0.666111},{x:-0.0117557,y:-0.0161803,z:-0.666111},{x:-0.0190211,y:0.00618034,z:-0.666111},{x:0,y:0.02,z:-0.666667},{x:0.0190211,y:0.00618034,z:-0.666667},{x:0.0117557,y:-0.0161803,z:-0.666667},{x:-0.0117557,y:-0.0161803,z:-0.666667},{x:-0.0190211,y:0.00618034,z:-0.666667},{x:0,y:0,z:-0.666667}], faces:[[0,2,1],[0,3,2],[0,4,3],[0,5,4],[0,1,5],[1,2,7,6],[2,3,8,7],[3,4,9,8],[4,5,10,9],[5,1,6,10],[6,7,11],[7,8,11],[8,9,11],[9,10,11],[10,6,11]], color:'#0000ff', opacity:1},{vertices:[{x:0,y:0,z:-0.486111},{x:0,y:0.06,z:-0.666111},{x:0.0570634,y:0.018541,z:-0.666111},{x:0.0352671,y:-0.048541,z:-0.666111},{x:-0.0352671,y:-0.048541,z:-0.666111},{x:-0.0570634,y:0.018541,z:-0.666111},{x:0,y:0,z:-0.666111}], faces:[[0,2,1],[0,3,2],[0,4,3],[0,5,4],[0,1,5],[1,2,6],[2,3,6],[3,4,6],[4,5,6],[5,1,6]], color:'#0000ff', opacity:1},{vertices:[{x:0,y:0,z:-0.194444},{x:0,y:0.0462963,z:-0.333333},{x:0.0440304,y:0.0143063,z:-0.333333},{x:0.0272123,y:-0.0374545,z:-0.333333},{x:-0.0272123,y:-0.0374545,z:-0.333333},{x:-0.0440304,y:0.0143063,z:-0.333333},{x:0,y:0,z:-0.333333}], faces:[[0,2,1],[0,3,2],[0,4,3],[0,5,4],[0,1,5],[1,2,6],[2,3,6],[3,4,6],[4,5,6],[5,1,6]], color:'#0000ff', opacity:1},{vertices:[{x:0,y:0,z:0.125},{x:0,y:0.0416667,z:0},{x:0.0396274,y:0.0128757,z:0},{x:0.0244911,y:-0.033709,z:0},{x:-0.0244911,y:-0.033709,z:0},{x:-0.0396274,y:0.0128757,z:0},{x:0,y:0,z:0}], faces:[[0,2,1],[0,3,2],[0,4,3],[0,5,4],[0,1,5],[1,2,6],[2,3,6],[3,4,6],[4,5,6],[5,1,6]], color:'#0000ff', opacity:1},{vertices:[{x:0,y:0,z:0.472222},{x:0,y:0.0462963,z:0.333333},{x:0.0440304,y:0.0143063,z:0.333333},{x:0.0272123,y:-0.0374545,z:0.333333},{x:-0.0272123,y:-0.0374545,z:0.333333},{x:-0.0440304,y:0.0143063,z:0.333333},{x:0,y:0,z:0.333333}], faces:[[0,2,1],[0,3,2],[0,4,3],[0,5,4],[0,1,5],[1,2,6],[2,3,6],[3,4,6],[4,5,6],[5,1,6]], color:'#0000ff', opacity:1},{vertices:[{x:0,y:0,z:0.667222},{x:0,y:0.02,z:0.667222},{x:0.0190211,y:0.00618034,z:0.667222},{x:0.0117557,y:-0.0161803,z:0.667222},{x:-0.0117557,y:-0.0161803,z:0.667222},{x:-0.0190211,y:0.00618034,z:0.667222},{x:0,y:0.02,z:0.666667},{x:0.0190211,y:0.00618034,z:0.666667},{x:0.0117557,y:-0.0161803,z:0.666667},{x:-0.0117557,y:-0.0161803,z:0.666667},{x:-0.0190211,y:0.00618034,z:0.666667},{x:0,y:0,z:0.666667}], faces:[[0,2,1],[0,3,2],[0,4,3],[0,5,4],[0,1,5],[1,2,7,6],[2,3,8,7],[3,4,9,8],[4,5,10,9],[5,1,6,10],[6,7,11],[7,8,11],[8,9,11],[9,10,11],[10,6,11]], color:'#0000ff', opacity:1},{vertices:[{x:0,y:0,z:0.847222},{x:0,y:0.06,z:0.667222},{x:0.0570634,y:0.018541,z:0.667222},{x:0.0352671,y:-0.048541,z:0.667222},{x:-0.0352671,y:-0.048541,z:0.667222},{x:-0.0570634,y:0.018541,z:0.667222},{x:0,y:0,z:0.667222}], faces:[[0,2,1],[0,3,2],[0,4,3],[0,5,4],[0,1,5],[1,2,6],[2,3,6],[3,4,6],[4,5,6],[5,1,6]], color:'#0000ff', opacity:1},{vertices:[{x:0,y:0,z:1.07},{x:0,y:0.02,z:1.07},{x:0.0190211,y:0.00618034,z:1.07},{x:0.0117557,y:-0.0161803,z:1.07},{x:-0.0117557,y:-0.0161803,z:1.07},{x:-0.0190211,y:0.00618034,z:1.07},{x:0,y:0.02,z:1},{x:0.0190211,y:0.00618034,z:1},{x:0.0117557,y:-0.0161803,z:1},{x:-0.0117557,y:-0.0161803,z:1},{x:-0.0190211,y:0.00618034,z:1},{x:0,y:0,z:1}], faces:[[0,2,1],[0,3,2],[0,4,3],[0,5,4],[0,1,5],[1,2,7,6],[2,3,8,7],[3,4,9,8],[4,5,10,9],[5,1,6,10],[6,7,11],[7,8,11],[8,9,11],[9,10,11],[10,6,11]], color:'#0000ff', opacity:1},{vertices:[{x:0,y:0,z:1.25},{x:0,y:0.06,z:1.07},{x:0.0570634,y:0.018541,z:1.07},{x:0.0352671,y:-0.048541,z:1.07},{x:-0.0352671,y:-0.048541,z:1.07},{x:-0.0570634,y:0.018541,z:1.07},{x:0,y:0,z:1.07}], faces:[[0,2,1],[0,3,2],[0,4,3],[0,5,4],[0,1,5],[1,2,6],[2,3,6],[3,4,6],[4,5,6],[5,1,6]], color:'#0000ff', opacity:1},{vertices:[{x:0.0264912,y:0.306842,z:-0.924942},{x:0.0275439,y:0.325789,z:-0.918626},{x:0.0448365,y:0.313698,z:-0.928997},{x:0.0367766,y:0.292132,z:-0.933763},{x:0.0145026,y:0.290895,z:-0.926339},{x:0.00879649,y:0.311696,z:-0.916983},{x:0.00105263,y:0.352281,z:-0.993684},{x:0.0183453,y:0.34019,z:-1.00405},{x:0.0102854,y:0.318623,z:-1.00882},{x:-0.0119886,y:0.317386,z:-1.0014},{x:-0.0176947,y:0.338187,z:-0.992042},{x:0,y:0.333333,z:-1}], faces:[[0,2,1],[0,3,2],[0,4,3],[0,5,4],[0,1,5],[1,2,7,6],[2,3,8,7],[3,4,9,8],[4,5,10,9],[5,1,6,10],[6,7,11],[7,8,11],[8,9,11],[9,10,11],[10,6,11]], color:'#0000ff', opacity:1},{vertices:[{x:0.0833333,y:0.25,z:-0.763889},{x:0.0296491,y:0.363684,z:-0.905994},{x:0.0815271,y:0.327411,z:-0.937106},{x:0.0573474,y:0.262712,z:-0.951407},{x:-0.00947451,y:0.259,z:-0.929133},{x:-0.026593,y:0.321404,z:-0.901066},{x:0.0264912,y:0.306842,z:-0.924942}], faces:[[0,2,1],[0,3,2],[0,4,3],[0,5,4],[0,1,5],[1,2,6],[2,3,6],[3,4,6],[4,5,6],[5,1,6]], color:'#0000ff', opacity:1},{vertices:[{x:0.00619048,y:0.329206,z:-0.654286},{x:0.00750916,y:0.348327,z:-0.648571},{x:0.0237379,y:0.336369,z:-0.660672},{x:0.0157167,y:0.314512,z:-0.663947},{x:-0.00546941,y:0.312962,z:-0.653871},{x:-0.0105419,y:0.333861,z:-0.644368},{x:0.00131868,y:0.352454,z:-0.660952},{x:0.0175474,y:0.340496,z:-0.673053},{x:0.00952622,y:0.318639,z:-0.676328},{x:-0.0116599,y:0.317089,z:-0.666251},{x:-0.0167324,y:0.337988,z:-0.656749},{x:0,y:0.333333,z:-0.666667}], faces:[[0,2,1],[0,3,2],[0,4,3],[0,5,4],[0,1,5],[1,2,7,6],[2,3,8,7],[3,4,9,8],[4,5,10,9],[5,1,6,10],[6,7,11],[7,8,11],[8,9,11],[9,10,11],[10,6,11]], color:'#0000ff', opacity:1},{vertices:[{x:0.0833333,y:0.277778,z:-0.5},{x:0.0101465,y:0.386569,z:-0.637143},{x:0.0588327,y:0.350695,z:-0.673444},{x:0.0347691,y:0.285124,z:-0.683269},{x:-0.0287892,y:0.280474,z:-0.65304},{x:-0.0440068,y:0.34317,z:-0.624533},{x:0.00619048,y:0.329206,z:-0.654286}], faces:[[0,2,1],[0,3,2],[0,4,3],[0,5,4],[0,1,5],[1,2,6],[2,3,6],[3,4,6],[4,5,6],[5,1,6]], color:'#0000ff', opacity:1},{vertices:[{x:0.0833333,y:0.305556,z:-0.208333},{x:0.00277778,y:0.383333,z:-0.324074},{x:0.0413663,y:0.351426,z:-0.35689},{x:0.022788,y:0.294515,z:-0.357152},{x:-0.0272826,y:0.29125,z:-0.324497},{x:-0.0396496,y:0.346142,z:-0.304054},{x:0,y:0.333333,z:-0.333333}], faces:[[0,2,1],[0,3,2],[0,4,3],[0,5,4],[0,1,5],[1,2,6],[2,3,6],[3,4,6],[4,5,6],[5,1,6]], color:'#0000ff', opacity:1},{vertices:[{x:0.0833333,y:0.333333,z:0.111111},{x:0,y:0.37963,z:0},{x:0.0352243,y:0.34764,z:-0.0264182},{x:0.0217698,y:0.295879,z:-0.0163274},{x:-0.0217698,y:0.295879,z:0.0163274},{x:-0.0352243,y:0.34764,z:0.0264182},{x:0,y:0.333333,z:0}], faces:[[0,2,1],[0,3,2],[0,4,3],[0,5,4],[0,1,5],[1,2,6],[2,3,6],[3,4,6],[4,5,6],[5,1,6]], color:'#0000ff', opacity:1},{vertices:[{x:0.0833333,y:0.361111,z:0.458333},{x:-0.00277778,y:0.383333,z:0.324074},{x:0.0396496,y:0.346142,z:0.304054},{x:0.0272826,y:0.29125,z:0.324497},{x:-0.022788,y:0.294515,z:0.357152},{x:-0.0413663,y:0.351426,z:0.35689},{x:0,y:0.333333,z:0.333333}], faces:[[0,2,1],[0,3,2],[0,4,3],[0,5,4],[0,1,5],[1,2,6],[2,3,6],[3,4,6],[4,5,6],[5,1,6]], color:'#0000ff', opacity:1},{vertices:[{x:0.00619048,y:0.33746,z:0.679048},{x:0.00487179,y:0.356581,z:0.673333},{x:0.0229229,y:0.342115,z:0.66913},{x:0.0178504,y:0.321216,z:0.678632},{x:-0.00333574,y:0.322766,z:0.688709},{x:-0.0113569,y:0.344623,z:0.685434},{x:-0.00131868,y:0.352454,z:0.660952},{x:0.0167324,y:0.337988,z:0.656749},{x:0.0116599,y:0.317089,z:0.666251},{x:-0.00952622,y:0.318639,z:0.676328},{x:-0.0175474,y:0.340496,z:0.673053},{x:0,y:0.333333,z:0.666667}], faces:[[0,2,1],[0,3,2],[0,4,3],[0,5,4],[0,1,5],[1,2,7,6],[2,3,8,7],[3,4,9,8],[4,5,10,9],[5,1,6,10],[6,7,11],[7,8,11],[8,9,11],[9,10,11],[10,6,11]], color:'#0000ff', opacity:1},{vertices:[{x:0.0833333,y:0.388889,z:0.833333},{x:0.00223443,y:0.394823,z:0.661905},{x:0.0563878,y:0.351424,z:0.649294},{x:0.0411701,y:0.288728,z:0.677802},{x:-0.0223882,y:0.293378,z:0.708031},{x:-0.0464518,y:0.358949,z:0.698206},{x:0.00619048,y:0.33746,z:0.679048}], faces:[[0,2,1],[0,3,2],[0,4,3],[0,5,4],[0,1,5],[1,2,6],[2,3,6],[3,4,6],[4,5,6],[5,1,6]], color:'#0000ff', opacity:1},{vertices:[{x:0.0264912,y:0.359825,z:1.07506},{x:0.0254386,y:0.378772,z:1.06874},{x:0.044186,y:0.364679,z:1.0671},{x:0.0384798,y:0.343877,z:1.07646},{x:0.0162058,y:0.345115,z:1.08388},{x:0.00814593,y:0.366681,z:1.07911},{x:-0.00105263,y:0.352281,z:0.993684},{x:0.0176947,y:0.338187,z:0.992042},{x:0.0119886,y:0.317386,z:1.0014},{x:-0.0102854,y:0.318623,z:1.00882},{x:-0.0183453,y:0.34019,z:1.00405},{x:0,y:0.333333,z:1}], faces:[[0,2,1],[0,3,2],[0,4,3],[0,5,4],[0,1,5],[1,2,7,6],[2,3,8,7],[3,4,9,8],[4,5,10,9],[5,1,6,10],[6,7,11],[7,8,11],[8,9,11],[9,10,11],[10,6,11]], color:'#0000ff', opacity:1},{vertices:[{x:0.0833333,y:0.416667,z:1.23611},{x:0.0233333,y:0.416667,z:1.05611},{x:0.0795754,y:0.374386,z:1.05118},{x:0.062457,y:0.311982,z:1.07925},{x:-0.00436493,y:0.315694,z:1.10152},{x:-0.0285447,y:0.380393,z:1.08722},{x:0.0264912,y:0.359825,z:1.07506}], faces:[[0,2,1],[0,3,2],[0,4,3],[0,5,4],[0,1,5],[1,2,6],[2,3,6],[3,4,6],[4,5,6],[5,1,6]], color:'#0000ff', opacity:1},{vertices:[{x:0.0684848,y:0.598182,z:-0.920101},{x:0.0721212,y:0.614545,z:-0.909192},{x:0.0851713,y:0.606697,z:-0.927105},{x:0.0751613,y:0.587081,z:-0.935339},{x:0.0559247,y:0.582806,z:-0.922514},{x:0.0540458,y:0.59978,z:-0.906355},{x:0.00363636,y:0.68303,z:-0.989091},{x:0.0166864,y:0.675182,z:-1.007},{x:0.00667642,y:0.655566,z:-1.01524},{x:-0.0125602,y:0.651291,z:-1.00241},{x:-0.014439,y:0.668265,z:-0.986254},{x:0,y:0.666667,z:-1}], faces:[[0,2,1],[0,3,2],[0,4,3],[0,5,4],[0,1,5],[1,2,7,6],[2,3,8,7],[3,4,9,8],[4,5,10,9],[5,1,6,10],[6,7,11],[7,8,11],[8,9,11],[9,10,11],[10,6,11]], color:'#0000ff', opacity:1},{vertices:[{x:0.166667,y:0.5,z:-0.805556},{x:0.0793939,y:0.647273,z:-0.887374},{x:0.118544,y:0.623727,z:-0.941113},{x:0.0885141,y:0.564879,z:-0.965815},{x:0.0308043,y:0.552054,z:-0.927341},{x:0.0251677,y:0.602977,z:-0.878862},{x:0.0684848,y:0.598182,z:-0.920101}], faces:[[0,2,1],[0,3,2],[0,4,3],[0,5,4],[0,1,5],[1,2,6],[2,3,6],[3,4,6],[4,5,6],[5,1,6]], color:'#0000ff', opacity:1},{vertices:[{x:0.0396078,y:0.640261,z:-0.636961},{x:0.0439517,y:0.657366,z:-0.627549},{x:0.0537744,y:0.649678,z:-0.647479},{x:0.0440194,y:0.628977,z:-0.652873},{x:0.0281678,y:0.623871,z:-0.636277},{x:0.028126,y:0.641416,z:-0.620626},{x:0.00434389,y:0.683771,z:-0.657255},{x:0.0141665,y:0.676083,z:-0.677185},{x:0.00441151,y:0.655382,z:-0.682579},{x:-0.0114401,y:0.650276,z:-0.665983},{x:-0.0114819,y:0.667821,z:-0.650332},{x:0,y:0.666667,z:-0.666667}], faces:[[0,2,1],[0,3,2],[0,4,3],[0,5,4],[0,1,5],[1,2,7,6],[2,3,8,7],[3,4,9,8],[4,5,10,9],[5,1,6,10],[6,7,11],[7,8,11],[8,9,11],[9,10,11],[10,6,11]], color:'#0000ff', opacity:1},{vertices:[{x:0.166667,y:0.555556,z:-0.541667},{x:0.0526395,y:0.691574,z:-0.608725},{x:0.0821075,y:0.668512,z:-0.668516},{x:0.0528424,y:0.606409,z:-0.684698},{x:0.00528762,y:0.591089,z:-0.634909},{x:0.00516225,y:0.643724,z:-0.587956},{x:0.0396078,y:0.640261,z:-0.636961}], faces:[[0,2,1],[0,3,2],[0,4,3],[0,5,4],[0,1,5],[1,2,6],[2,3,6],[3,4,6],[4,5,6],[5,1,6]], color:'#0000ff', opacity:1},{vertices:[{x:0.012381,y:0.66254,z:-0.327143},{x:0.0158095,y:0.681397,z:-0.321429},{x:0.0226793,y:0.671628,z:-0.341681},{x:0.0153171,y:0.649299,z:-0.341842},{x:0.00389727,y:0.645269,z:-0.321689},{x:0.0042016,y:0.665106,z:-0.309073},{x:0.00342857,y:0.685524,z:-0.327619},{x:0.0102983,y:0.675755,z:-0.347871},{x:0.00293614,y:0.653426,z:-0.348033},{x:-0.00848369,y:0.649396,z:-0.32788},{x:-0.00817935,y:0.669233,z:-0.315264},{x:0,y:0.666667,z:-0.333333}], faces:[[0,2,1],[0,3,2],[0,4,3],[0,5,4],[0,1,5],[1,2,7,6],[2,3,8,7],[3,4,9,8],[4,5,10,9],[5,1,6,10],[6,7,11],[7,8,11],[8,9,11],[9,10,11],[10,6,11]], color:'#0000ff', opacity:1},{vertices:[{x:0.166667,y:0.611111,z:-0.25},{x:0.0226667,y:0.719111,z:-0.31},{x:0.0432759,y:0.689804,z:-0.370757},{x:0.0211894,y:0.622818,z:-0.371241},{x:-0.0130701,y:0.610727,z:-0.310783},{x:-0.0121571,y:0.670239,z:-0.272934},{x:0.012381,y:0.66254,z:-0.327143}], faces:[[0,2,1],[0,3,2],[0,4,3],[0,5,4],[0,1,5],[1,2,6],[2,3,6],[3,4,6],[4,5,6],[5,1,6]], color:'#0000ff', opacity:1},{vertices:[{x:0.000512821,y:0.666667,z:0.000213675},{x:0.000512821,y:0.686667,z:0.000213675},{x:0.00782864,y:0.672847,z:-0.0173443},{x:0.00503425,y:0.650486,z:-0.0106377},{x:-0.0040086,y:0.650486,z:0.0110651},{x:-0.006803,y:0.672847,z:0.0177716},{x:0,y:0.686667,z:0},{x:0.00731582,y:0.672847,z:-0.017558},{x:0.00452143,y:0.650486,z:-0.0108514},{x:-0.00452143,y:0.650486,z:0.0108514},{x:-0.00731582,y:0.672847,z:0.017558},{x:0,y:0.666667,z:0}], faces:[[0,2,1],[0,3,2],[0,4,3],[0,5,4],[0,1,5],[1,2,7,6],[2,3,8,7],[3,4,9,8],[4,5,10,9],[5,1,6,10],[6,7,11],[7,8,11],[8,9,11],[9,10,11],[10,6,11]], color:'#0000ff', opacity:1},{vertices:[{x:0.166667,y:0.666667,z:0.0694444},{x:0.000512821,y:0.726667,z:0.000213675},{x:0.0224603,y:0.685208,z:-0.0524602},{x:0.0140771,y:0.618126,z:-0.0323406},{x:-0.0130515,y:0.618126,z:0.0327679},{x:-0.0214346,y:0.685208,z:0.0528876},{x:0.000512821,y:0.666667,z:0.000213675}], faces:[[0,2,1],[0,3,2],[0,4,3],[0,5,4],[0,1,5],[1,2,6],[2,3,6],[3,4,6],[4,5,6],[5,1,6]], color:'#0000ff', opacity:1},{vertices:[{x:0.012381,y:0.670794,z:0.339524},{x:0.00895238,y:0.689651,z:0.33381},{x:0.0205603,y:0.67336,z:0.321454},{x:0.0208646,y:0.653523,z:0.33407},{x:0.00944481,y:0.657553,z:0.354223},{x:0.00208263,y:0.679882,z:0.354062},{x:-0.00342857,y:0.685524,z:0.327619},{x:0.00817935,y:0.669233,z:0.315264},{x:0.00848369,y:0.649396,z:0.32788},{x:-0.00293614,y:0.653426,z:0.348033},{x:-0.0102983,y:0.675755,z:0.347871},{x:0,y:0.666667,z:0.333333}], faces:[[0,2,1],[0,3,2],[0,4,3],[0,5,4],[0,1,5],[1,2,7,6],[2,3,8,7],[3,4,9,8],[4,5,10,9],[5,1,6,10],[6,7,11],[7,8,11],[8,9,11],[9,10,11],[10,6,11]], color:'#0000ff', opacity:1},{vertices:[{x:0.166667,y:0.722222,z:0.416667},{x:0.00209524,y:0.727365,z:0.322381},{x:0.036919,y:0.678493,z:0.285315},{x:0.037832,y:0.618981,z:0.323164},{x:0.00357253,y:0.631072,z:0.383622},{x:-0.018514,y:0.698057,z:0.383138},{x:0.012381,y:0.670794,z:0.339524}], faces:[[0,2,1],[0,3,2],[0,4,3],[0,5,4],[0,1,5],[1,2,6],[2,3,6],[3,4,6],[4,5,6],[5,1,6]], color:'#0000ff', opacity:1},{vertices:[{x:0.0396078,y:0.693072,z:0.696373},{x:0.035264,y:0.710176,z:0.686961},{x:0.0510897,y:0.694226,z:0.680037},{x:0.0510479,y:0.676681,z:0.695689},{x:0.0351963,y:0.681788,z:0.712285},{x:0.0254413,y:0.702489,z:0.706891},{x:-0.00434389,y:0.683771,z:0.657255},{x:0.0114819,y:0.667821,z:0.650332},{x:0.0114401,y:0.650276,z:0.665983},{x:-0.00441151,y:0.655382,z:0.682579},{x:-0.0141665,y:0.676083,z:0.677185},{x:0,y:0.666667,z:0.666667}], faces:[[0,2,1],[0,3,2],[0,4,3],[0,5,4],[0,1,5],[1,2,7,6],[2,3,8,7],[3,4,9,8],[4,5,10,9],[5,1,6,10],[6,7,11],[7,8,11],[8,9,11],[9,10,11],[10,6,11]], color:'#0000ff', opacity:1},{vertices:[{x:0.166667,y:0.777778,z:0.791667},{x:0.0265762,y:0.744384,z:0.668137},{x:0.0740534,y:0.696534,z:0.647367},{x:0.0739281,y:0.6439,z:0.694321},{x:0.0263733,y:0.659219,z:0.74411},{x:-0.00289177,y:0.721322,z:0.727927},{x:0.0396078,y:0.693072,z:0.696373}], faces:[[0,2,1],[0,3,2],[0,4,3],[0,5,4],[0,1,5],[1,2,6],[2,3,6],[3,4,6],[4,5,6],[5,1,6]], color:'#0000ff', opacity:1},{vertices:[{x:0.0684848,y:0.735152,z:1.0799},{x:0.0648485,y:0.751515,z:1.06899},{x:0.0829239,y:0.73675,z:1.06615},{x:0.081045,y:0.719776,z:1.08231},{x:0.0618084,y:0.72405,z:1.09514},{x:0.0517984,y:0.743667,z:1.0869},{x:-0.00363636,y:0.68303,z:0.989091},{x:0.014439,y:0.668265,z:0.986254},{x:0.0125602,y:0.651291,z:1.00241},{x:-0.00667642,y:0.655566,z:1.01524},{x:-0.0166864,y:0.675182,z:1.007},{x:0,y:0.666667,z:1}], faces:[[0,2,1],[0,3,2],[0,4,3],[0,5,4],[0,1,5],[1,2,7,6],[2,3,8,7],[3,4,9,8],[4,5,10,9],[5,1,6,10],[6,7,11],[7,8,11],[8,9,11],[9,10,11],[10,6,11]], color:'#0000ff', opacity:1},{vertices:[{x:0.166667,y:0.833333,z:1.19444},{x:0.0575758,y:0.784242,z:1.04717},{x:0.111802,y:0.739946,z:1.03866},{x:0.106165,y:0.689024,z:1.08714},{x:0.0484556,y:0.701848,z:1.12561},{x:0.0184255,y:0.760697,z:1.10091},{x:0.0684848,y:0.735152,z:1.0799}], faces:[[0,2,1],[0,3,2],[0,4,3],[0,5,4],[0,1,5],[1,2,6],[2,3,6],[3,4,6],[4,5,6],[5,1,6]], color:'#0000ff', opacity:1},{vertices:[{x:0.13,y:0.87,z:-0.935},{x:0.136667,y:0.883333,z:-0.921667},{x:0.144741,y:0.880461,z:-0.943561},{x:0.132444,y:0.863132,z:-0.953624},{x:0.116769,y:0.855295,z:-0.93795},{x:0.119379,y:0.86778,z:-0.918199},{x:0.00666667,y:1.01333,z:-0.986667},{x:0.0147409,y:1.01046,z:-1.00856},{x:0.00244369,y:0.993132,z:-1.01862},{x:-0.0132306,y:0.985295,z:-1.00295},{x:-0.0106206,y:0.99778,z:-0.983199},{x:0,y:1,z:-1}], faces:[[0,2,1],[0,3,2],[0,4,3],[0,5,4],[0,1,5],[1,2,7,6],[2,3,8,7],[3,4,9,8],[4,5,10,9],[5,1,6,10],[6,7,11],[7,8,11],[8,9,11],[9,10,11],[10,6,11]], color:'#0000ff', opacity:1},{vertices:[{x:0.25,y:0.75,z:-0.875},{x:0.15,y:0.91,z:-0.895},{x:0.174223,y:0.901382,z:-0.960682},{x:0.137331,y:0.849395,z:-0.990872},{x:0.0903083,y:0.825884,z:-0.943849},{x:0.0981381,y:0.86334,z:-0.884597},{x:0.13,y:0.87,z:-0.935}], faces:[[0,2,1],[0,3,2],[0,4,3],[0,5,4],[0,1,5],[1,2,6],[2,3,6],[3,4,6],[4,5,6],[5,1,6]], color:'#0000ff', opacity:1},{vertices:[{x:0.102727,y:0.931515,z:-0.643838},{x:0.11028,y:0.94648,z:-0.632929},{x:0.113308,y:0.943322,z:-0.65603},{x:0.101714,y:0.923847,z:-0.662282},{x:0.0915203,y:0.914969,z:-0.643046},{x:0.0968142,y:0.928957,z:-0.624905},{x:0.00755245,y:1.01497,z:-0.655758},{x:0.0105808,y:1.01181,z:-0.678858},{x:-0.00101318,y:0.992332,z:-0.685111},{x:-0.0112069,y:0.983454,z:-0.665874},{x:-0.00591309,y:0.997442,z:-0.647733},{x:0,y:1,z:-0.666667}], faces:[[0,2,1],[0,3,2],[0,4,3],[0,5,4],[0,1,5],[1,2,7,6],[2,3,8,7],[3,4,9,8],[4,5,10,9],[5,1,6,10],[6,7,11],[7,8,11],[8,9,11],[9,10,11],[10,6,11]], color:'#0000ff', opacity:1},{vertices:[{x:0.25,y:0.833333,z:-0.611111},{x:0.125385,y:0.97641,z:-0.611111},{x:0.13447,y:0.966937,z:-0.680413},{x:0.0996877,y:0.908512,z:-0.69917},{x:0.0691065,y:0.881877,z:-0.64146},{x:0.084988,y:0.92384,z:-0.587037},{x:0.102727,y:0.931515,z:-0.643838}], faces:[[0,2,1],[0,3,2],[0,4,3],[0,5,4],[0,1,5],[1,2,6],[2,3,6],[3,4,6],[4,5,6],[5,1,6]], color:'#0000ff', opacity:1},{vertices:[{x:0.0794737,y:0.973509,z:-0.328918},{x:0.0851579,y:0.991614,z:-0.322602},{x:0.0840333,y:0.98451,z:-0.344986},{x:0.0766075,y:0.962202,z:-0.345165},{x:0.0731426,y:0.95552,z:-0.322891},{x:0.0784271,y:0.973698,z:-0.308946},{x:0.00568421,y:1.01811,z:-0.327018},{x:0.00455963,y:1.011,z:-0.349402},{x:-0.0028662,y:0.988694,z:-0.34958},{x:-0.00633104,y:0.982011,z:-0.327306},{x:-0.0010466,y:1.00019,z:-0.313362},{x:0,y:1,z:-0.333333}], faces:[[0,2,1],[0,3,2],[0,4,3],[0,5,4],[0,1,5],[1,2,7,6],[2,3,8,7],[3,4,9,8],[4,5,10,9],[5,1,6,10],[6,7,11],[7,8,11],[8,9,11],[9,10,11],[10,6,11]], color:'#0000ff', opacity:1},{vertices:[{x:0.25,y:0.916667,z:-0.319444},{x:0.0965263,y:1.02782,z:-0.309971},{x:0.0931526,y:1.00651,z:-0.377123},{x:0.0708751,y:0.93959,z:-0.377658},{x:0.0604806,y:0.919543,z:-0.310836},{x:0.0763339,y:0.974075,z:-0.269003},{x:0.0794737,y:0.973509,z:-0.328918}], faces:[[0,2,1],[0,3,2],[0,4,3],[0,5,4],[0,1,5],[1,2,6],[2,3,6],[3,4,6],[4,5,6],[5,1,6]], color:'#0000ff', opacity:1},{vertices:[{x:0.07,y:1,z:4.28626e-18},{x:0.07,y:1.02,z:4.28626e-18},{x:0.07,y:1.00618,z:-0.0190211},{x:0.07,y:0.98382,z:-0.0117557},{x:0.07,y:0.98382,z:0.0117557},{x:0.07,y:1.00618,z:0.0190211},{x:0,y:1.02,z:0},{x:1.16471e-18,y:1.00618,z:-0.0190211},{x:7.19829e-19,y:0.98382,z:-0.0117557},{x:-7.19829e-19,y:0.98382,z:0.0117557},{x:-1.16471e-18,y:1.00618,z:0.0190211},{x:0,y:1,z:0}], faces:[[0,2,1],[0,3,2],[0,4,3],[0,5,4],[0,1,5],[1,2,7,6],[2,3,8,7],[3,4,9,8],[4,5,10,9],[5,1,6,10],[6,7,11],[7,8,11],[8,9,11],[9,10,11],[10,6,11]], color:'#0000ff', opacity:1},{vertices:[{x:0.25,y:1,z:1.53081e-17},{x:0.07,y:1.06,z:4.28626e-18},{x:0.07,y:1.01854,z:-0.0570634},{x:0.07,y:0.951459,z:-0.0352671},{x:0.07,y:0.951459,z:0.0352671},{x:0.07,y:1.01854,z:0.0570634},{x:0.07,y:1,z:4.28626e-18}], faces:[[0,2,1],[0,3,2],[0,4,3],[0,5,4],[0,1,5],[1,2,6],[2,3,6],[3,4,6],[4,5,6],[5,1,6]], color:'#0000ff', opacity:1},{vertices:[{x:0.0794737,y:1.02649,z:0.337749},{x:0.0737895,y:1.0446,z:0.331433},{x:0.0805203,y:1.02668,z:0.317777},{x:0.0858047,y:1.0085,z:0.331721},{x:0.0823399,y:1.01518,z:0.353995},{x:0.0749141,y:1.03749,z:0.353817},{x:-0.00568421,y:1.01811,z:0.327018},{x:0.0010466,y:1.00019,z:0.313362},{x:0.00633104,y:0.982011,z:0.327306},{x:0.0028662,y:0.988694,z:0.34958},{x:-0.00455963,y:1.011,z:0.349402},{x:0,y:1,z:0.333333}], faces:[[0,2,1],[0,3,2],[0,4,3],[0,5,4],[0,1,5],[1,2,7,6],[2,3,8,7],[3,4,9,8],[4,5,10,9],[5,1,6,10],[6,7,11],[7,8,11],[8,9,11],[9,10,11],[10,6,11]], color:'#0000ff', opacity:1},{vertices:[{x:0.25,y:1.08333,z:0.347222},{x:0.0624211,y:1.08081,z:0.318801},{x:0.0826135,y:1.02706,z:0.277833},{x:0.0984668,y:0.972526,z:0.319666},{x:0.0880723,y:0.992572,z:0.386488},{x:0.0657948,y:1.05949,z:0.385954},{x:0.0794737,y:1.02649,z:0.337749}], faces:[[0,2,1],[0,3,2],[0,4,3],[0,5,4],[0,1,5],[1,2,6],[2,3,6],[3,4,6],[4,5,6],[5,1,6]], color:'#0000ff', opacity:1},{vertices:[{x:0.102727,y:1.06848,z:0.689495},{x:0.0951748,y:1.08345,z:0.678586},{x:0.10864,y:1.06593,z:0.670561},{x:0.113934,y:1.05194,z:0.688702},{x:0.10374,y:1.06082,z:0.707939},{x:0.0921465,y:1.08029,z:0.701687},{x:-0.00755245,y:1.01497,z:0.655758},{x:0.00591309,y:0.997442,z:0.647733},{x:0.0112069,y:0.983454,z:0.665874},{x:0.00101318,y:0.992332,z:0.685111},{x:-0.0105808,y:1.01181,z:0.678858},{x:0,y:1,z:0.666667}], faces:[[0,2,1],[0,3,2],[0,4,3],[0,5,4],[0,1,5],[1,2,7,6],[2,3,8,7],[3,4,9,8],[4,5,10,9],[5,1,6,10],[6,7,11],[7,8,11],[8,9,11],[9,10,11],[10,6,11]], color:'#0000ff', opacity:1},{vertices:[{x:0.25,y:1.16667,z:0.722222},{x:0.0800699,y:1.11338,z:0.656768},{x:0.120467,y:1.06081,z:0.632693},{x:0.136348,y:1.01885,z:0.687117},{x:0.105767,y:1.04548,z:0.744827},{x:0.070985,y:1.10391,z:0.72607},{x:0.102727,y:1.06848,z:0.689495}], faces:[[0,2,1],[0,3,2],[0,4,3],[0,5,4],[0,1,5],[1,2,6],[2,3,6],[3,4,6],[4,5,6],[5,1,6]], color:'#0000ff', opacity:1},{vertices:[{x:0.13,y:1.13,z:1.065},{x:0.123333,y:1.14333,z:1.05167},{x:0.140621,y:1.12778,z:1.0482},{x:0.143231,y:1.11529,z:1.06795},{x:0.127556,y:1.12313,z:1.08362},{x:0.115259,y:1.14046,z:1.07356},{x:-0.00666667,y:1.01333,z:0.986667},{x:0.0106206,y:0.99778,z:0.983199},{x:0.0132306,y:0.985295,z:1.00295},{x:-0.00244369,y:0.993132,z:1.01862},{x:-0.0147409,y:1.01046,z:1.00856},{x:0,y:1,z:1}], faces:[[0,2,1],[0,3,2],[0,4,3],[0,5,4],[0,1,5],[1,2,7,6],[2,3,8,7],[3,4,9,8],[4,5,10,9],[5,1,6,10],[6,7,11],[7,8,11],[8,9,11],[9,10,11],[10,6,11]], color:'#0000ff', opacity:1},{vertices:[{x:0.25,y:1.25,z:1.125},{x:0.11,y:1.17,z:1.025},{x:0.161862,y:1.12334,z:1.0146},{x:0.169692,y:1.08588,z:1.07385},{x:0.122669,y:1.1094,z:1.12087},{x:0.0857774,y:1.16138,z:1.09068},{x:0.13,y:1.13,z:1.065}], faces:[[0,2,1],[0,3,2],[0,4,3],[0,5,4],[0,1,5],[1,2,6],[2,3,6],[3,4,6],[4,5,6],[5,1,6]], color:'#0000ff', opacity:1},{vertices:[{x:0.154286,y:-0.910476,z:-0.940317},{x:0.16,y:-0.893333,z:-0.948889},{x:0.164203,y:-0.899744,z:-0.926662},{x:0.154701,y:-0.920986,z:-0.923307},{x:0.144625,y:-0.927704,z:-0.943459},{x:0.1479,y:-0.910613,z:-0.95927},{x:0.339048,y:-0.982857,z:-1.00857},{x:0.343251,y:-0.989268,z:-0.986345},{x:0.333749,y:-1.01051,z:-0.982989},{x:0.323672,y:-1.01723,z:-1.00314},{x:0.326947,y:-1.00014,z:-1.01895},{x:0.333333,y:-1,z:-1}], faces:[[0,2,1],[0,3,2],[0,4,3],[0,5,4],[0,1,5],[1,2,7,6],[2,3,8,7],[3,4,9,8],[4,5,10,9],[5,1,6,10],[6,7,11],[7,8,11],[8,9,11],[9,10,11],[10,6,11]], color:'#0000ff', opacity:1},{vertices:[{x:-2.77556e-17,y:-0.833333,z:-0.888889},{x:0.171429,y:-0.859048,z:-0.966032},{x:0.184039,y:-0.87828,z:-0.899352},{x:0.155531,y:-0.942006,z:-0.889285},{x:0.125302,y:-0.962159,z:-0.949743},{x:0.135127,y:-0.910888,z:-0.997175},{x:0.154286,y:-0.910476,z:-0.940317}], faces:[[0,2,1],[0,3,2],[0,4,3],[0,5,4],[0,1,5],[1,2,6],[2,3,6],[3,4,6],[4,5,6],[5,1,6]], color:'#0000ff', opacity:1},{vertices:[{x:0.199952,y:-0.963623,z:-0.648478},{x:0.204366,y:-0.944827,z:-0.653696},{x:0.204942,y:-0.953616,z:-0.631896},{x:0.198621,y:-0.976235,z:-0.633013},{x:0.194139,y:-0.981424,z:-0.655502},{x:0.19769,y:-0.962014,z:-0.668285},{x:0.337748,y:-0.981204,z:-0.671884},{x:0.338324,y:-0.989993,z:-0.650085},{x:0.332003,y:-1.01261,z:-0.651201},{x:0.327521,y:-1.0178,z:-0.67369},{x:0.331071,y:-0.99839,z:-0.686473},{x:0.333333,y:-1,z:-0.666667}], faces:[[0,2,1],[0,3,2],[0,4,3],[0,5,4],[0,1,5],[1,2,7,6],[2,3,8,7],[3,4,9,8],[4,5,10,9],[5,1,6,10],[6,7,11],[7,8,11],[8,9,11],[9,10,11],[10,6,11]], color:'#0000ff', opacity:1},{vertices:[{x:0.0277778,y:-0.916667,z:-0.625},{x:0.213196,y:-0.907235,z:-0.66413},{x:0.214923,y:-0.933602,z:-0.598733},{x:0.19596,y:-1.00146,z:-0.602082},{x:0.182514,y:-1.01703,z:-0.669549},{x:0.193166,y:-0.958794,z:-0.707897},{x:0.199952,y:-0.963623,z:-0.648478}], faces:[[0,2,1],[0,3,2],[0,4,3],[0,5,4],[0,1,5],[1,2,6],[2,3,6],[3,4,6],[4,5,6],[5,1,6]], color:'#0000ff', opacity:1},{vertices:[{x:0.235556,y:-1,z:-0.333333},{x:0.235556,y:-0.98,z:-0.333333},{x:0.235556,y:-0.99382,z:-0.314312},{x:0.235556,y:-1.01618,z:-0.321578},{x:0.235556,y:-1.01618,z:-0.345089},{x:0.235556,y:-0.99382,z:-0.352354},{x:0.333333,y:-0.98,z:-0.333333},{x:0.333333,y:-0.99382,z:-0.314312},{x:0.333333,y:-1.01618,z:-0.321578},{x:0.333333,y:-1.01618,z:-0.345089},{x:0.333333,y:-0.99382,z:-0.352354},{x:0.333333,y:-1,z:-0.333333}], faces:[[0,2,1],[0,3,2],[0,4,3],[0,5,4],[0,1,5],[1,2,7,6],[2,3,8,7],[3,4,9,8],[4,5,10,9],[5,1,6,10],[6,7,11],[7,8,11],[8,9,11],[9,10,11],[10,6,11]], color:'#0000ff', opacity:1},{vertices:[{x:0.0555556,y:-1,z:-0.333333},{x:0.235556,y:-0.94,z:-0.333333},{x:0.235556,y:-0.981459,z:-0.27627},{x:0.235556,y:-1.04854,z:-0.298066},{x:0.235556,y:-1.04854,z:-0.3686},{x:0.235556,y:-0.981459,z:-0.390397},{x:0.235556,y:-1,z:-0.333333}], faces:[[0,2,1],[0,3,2],[0,4,3],[0,5,4],[0,1,5],[1,2,6],[2,3,6],[3,4,6],[4,5,6],[5,1,6]], color:'#0000ff', opacity:1},{vertices:[{x:0.25386,y:-1.02649,z:-0.0044152},{x:0.247544,y:-1.0086,z:0.00190058},{x:0.252909,y:-1.02697,z:0.0155565},{x:0.259588,y:-1.04468,z:0.0016122},{x:0.258351,y:-1.03726,z:-0.0206618},{x:0.250907,y:-1.01495,z:-0.0204835},{x:0.327018,y:-0.982105,z:0.00631579},{x:0.332383,y:-1.00048,z:0.0199717},{x:0.339062,y:-1.01819,z:0.0060274},{x:0.337824,y:-1.01076,z:-0.0162466},{x:0.330381,y:-0.988464,z:-0.0160683},{x:0.333333,y:-1,z:0}], faces:[[0,2,1],[0,3,2],[0,4,3],[0,5,4],[0,1,5],[1,2,7,6],[2,3,8,7],[3,4,9,8],[4,5,10,9],[5,1,6,10],[6,7,11],[7,8,11],[8,9,11],[9,10,11],[10,6,11]], color:'#0000ff', opacity:1},{vertices:[{x:0.0833333,y:-1.08333,z:-0.0138889},{x:0.234912,y:-0.972807,z:0.0145322},{x:0.251008,y:-1.02792,z:0.0554999},{x:0.271045,y:-1.08106,z:0.013667},{x:0.267332,y:-1.05879,z:-0.0531549},{x:0.245001,y:-0.991882,z:-0.0526202},{x:0.25386,y:-1.02649,z:-0.0044152}], faces:[[0,2,1],[0,3,2],[0,4,3],[0,5,4],[0,1,5],[1,2,6],[2,3,6],[3,4,6],[4,5,6],[5,1,6]], color:'#0000ff', opacity:1},{vertices:[{x:0.255111,y:-1.05867,z:0.333333},{x:0.245511,y:-1.04587,z:0.345333},{x:0.258992,y:-1.06384,z:0.352258},{x:0.26711,y:-1.07466,z:0.33303},{x:0.258646,y:-1.06338,z:0.314221},{x:0.245297,y:-1.04558,z:0.321825},{x:0.323733,y:-0.9872,z:0.345333},{x:0.337214,y:-1.00517,z:0.352258},{x:0.345332,y:-1.016,z:0.33303},{x:0.336868,y:-1.00471,z:0.314221},{x:0.323519,y:-0.986914,z:0.321825},{x:0.333333,y:-1,z:0.333333}], faces:[[0,2,1],[0,3,2],[0,4,3],[0,5,4],[0,1,5],[1,2,7,6],[2,3,8,7],[3,4,9,8],[4,5,10,9],[5,1,6,10],[6,7,11],[7,8,11],[8,9,11],[9,10,11],[10,6,11]], color:'#0000ff', opacity:1},{vertices:[{x:0.111111,y:-1.16667,z:0.333333},{x:0.226311,y:-1.02027,z:0.369333},{x:0.266754,y:-1.07419,z:0.390109},{x:0.291107,y:-1.10666,z:0.332422},{x:0.265715,y:-1.0728,z:0.275995},{x:0.225669,y:-1.01941,z:0.298807},{x:0.255111,y:-1.05867,z:0.333333}], faces:[[0,2,1],[0,3,2],[0,4,3],[0,5,4],[0,1,5],[1,2,6],[2,3,6],[3,4,6],[4,5,6],[5,1,6]], color:'#0000ff', opacity:1},{vertices:[{x:0.248454,y:-1.10913,z:0.684855},{x:0.240026,y:-1.09997,z:0.700507},{x:0.258636,y:-1.11431,z:0.70127},{x:0.263175,y:-1.1215,z:0.679348},{x:0.24737,y:-1.11159,z:0.665037},{x:0.233063,y:-1.09828,z:0.678114},{x:0.324905,y:-0.990836,z:0.682319},{x:0.343516,y:-1.00518,z:0.683082},{x:0.348054,y:-1.01237,z:0.661159},{x:0.332249,y:-1.00246,z:0.646848},{x:0.317942,y:-0.989153,z:0.659925},{x:0.333333,y:-1,z:0.666667}], faces:[[0,2,1],[0,3,2],[0,4,3],[0,5,4],[0,1,5],[1,2,7,6],[2,3,8,7],[3,4,9,8],[4,5,10,9],[5,1,6,10],[6,7,11],[7,8,11],[8,9,11],[9,10,11],[10,6,11]], color:'#0000ff', opacity:1},{vertices:[{x:0.138889,y:-1.25,z:0.708333},{x:0.22317,y:-1.08164,z:0.731812},{x:0.279001,y:-1.12468,z:0.7341},{x:0.292618,y:-1.14623,z:0.668333},{x:0.245202,y:-1.11651,z:0.6254},{x:0.20228,y:-1.07659,z:0.664631},{x:0.248454,y:-1.10913,z:0.684855}], faces:[[0,2,1],[0,3,2],[0,4,3],[0,5,4],[0,1,5],[1,2,6],[2,3,6],[3,4,6],[4,5,6],[5,1,6]], color:'#0000ff', opacity:1},{vertices:[{x:0.24381,y:-1.17905,z:1.05968},{x:0.238095,y:-1.17048,z:1.07683},{x:0.258348,y:-1.18183,z:1.07313},{x:0.258509,y:-1.18934,z:1.05085},{x:0.238356,y:-1.18262,z:1.04078},{x:0.22574,y:-1.17096,z:1.05683},{x:0.327619,y:-0.991429,z:1.01714},{x:0.347871,y:-1.00279,z:1.01345},{x:0.348033,y:-1.01029,z:0.991169},{x:0.32788,y:-1.00358,z:0.981093},{x:0.315264,y:-0.991917,z:0.997146},{x:0.333333,y:-1,z:1}], faces:[[0,2,1],[0,3,2],[0,4,3],[0,5,4],[0,1,5],[1,2,7,6],[2,3,8,7],[3,4,9,8],[4,5,10,9],[5,1,6,10],[6,7,11],[7,8,11],[8,9,11],[9,10,11],[10,6,11]], color:'#0000ff', opacity:1},{vertices:[{x:0.166667,y:-1.33333,z:1.11111},{x:0.226667,y:-1.15333,z:1.11111},{x:0.287424,y:-1.18741,z:1.10003},{x:0.287907,y:-1.20993,z:1.03319},{x:0.227449,y:-1.18977,z:1.00296},{x:0.189601,y:-1.1548,z:1.05112},{x:0.24381,y:-1.17905,z:1.05968}], faces:[[0,2,1],[0,3,2],[0,4,3],[0,5,4],[0,1,5],[1,2,6],[2,3,6],[3,4,6],[4,5,6],[5,1,6]], color:'#0000ff', opacity:1},{vertices:[{x:0.224203,y:-0.63029,z:-0.921184},{x:0.226812,y:-0.611159,z:-0.926401},{x:0.236587,y:-0.621897,z:-0.90791},{x:0.229248,y:-0.644233,z:-0.907762},{x:0.214937,y:-0.6473,z:-0.926163},{x:0.213431,y:-0.626859,z:-0.937682},{x:0.335942,y:-0.647536,z:-1.00522},{x:0.345718,y:-0.658274,z:-0.986726},{x:0.338379,y:-0.68061,z:-0.986579},{x:0.324067,y:-0.683677,z:-1.00498},{x:0.322561,y:-0.663236,z:-1.0165},{x:0.333333,y:-0.666667,z:-1}], faces:[[0,2,1],[0,3,2],[0,4,3],[0,5,4],[0,1,5],[1,2,7,6],[2,3,8,7],[3,4,9,8],[4,5,10,9],[5,1,6,10],[6,7,11],[7,8,11],[8,9,11],[9,10,11],[10,6,11]], color:'#0000ff', opacity:1},{vertices:[{x:0.0833333,y:-0.583333,z:-0.819444},{x:0.232029,y:-0.572899,z:-0.936836},{x:0.261356,y:-0.605112,z:-0.881362},{x:0.239338,y:-0.67212,z:-0.88092},{x:0.196405,y:-0.68132,z:-0.936121},{x:0.191887,y:-0.619998,z:-0.970679},{x:0.224203,y:-0.63029,z:-0.921184}], faces:[[0,2,1],[0,3,2],[0,4,3],[0,5,4],[0,1,5],[1,2,6],[2,3,6],[3,4,6],[4,5,6],[5,1,6]], color:'#0000ff', opacity:1},{vertices:[{x:0.271111,y:-0.658889,z:-0.635556},{x:0.272479,y:-0.63906,z:-0.637778},{x:0.28015,y:-0.651461,z:-0.619335},{x:0.27533,y:-0.674127,z:-0.623308},{x:0.26468,y:-0.675735,z:-0.644207},{x:0.262917,y:-0.654062,z:-0.65315},{x:0.334701,y:-0.646838,z:-0.668889},{x:0.342372,y:-0.659239,z:-0.650446},{x:0.337552,y:-0.681905,z:-0.654419},{x:0.326902,y:-0.683513,z:-0.675318},{x:0.32514,y:-0.66184,z:-0.684261},{x:0.333333,y:-0.666667,z:-0.666667}], faces:[[0,2,1],[0,3,2],[0,4,3],[0,5,4],[0,1,5],[1,2,7,6],[2,3,8,7],[3,4,9,8],[4,5,10,9],[5,1,6,10],[6,7,11],[7,8,11],[8,9,11],[9,10,11],[10,6,11]], color:'#0000ff', opacity:1},{vertices:[{x:0.111111,y:-0.638889,z:-0.555556},{x:0.275214,y:-0.599402,z:-0.642222},{x:0.298228,y:-0.636605,z:-0.586893},{x:0.283768,y:-0.704604,z:-0.598814},{x:0.251816,y:-0.709426,z:-0.661511},{x:0.24653,y:-0.644408,z:-0.688339},{x:0.271111,y:-0.658889,z:-0.635556}], faces:[[0,2,1],[0,3,2],[0,4,3],[0,5,4],[0,1,5],[1,2,6],[2,3,6],[3,4,6],[4,5,6],[5,1,6]], color:'#0000ff', opacity:1},{vertices:[{x:0.306889,y:-0.670444,z:-0.323889},{x:0.305022,y:-0.650711,z:-0.321222},{x:0.312906,y:-0.666122,z:-0.305312},{x:0.312474,y:-0.687506,z:-0.315074},{x:0.304324,y:-0.685312,z:-0.337018},{x:0.299718,y:-0.662571,z:-0.340818},{x:0.331467,y:-0.646933,z:-0.330667},{x:0.33935,y:-0.662344,z:-0.314756},{x:0.338919,y:-0.683728,z:-0.324519},{x:0.330768,y:-0.681534,z:-0.346463},{x:0.326163,y:-0.658793,z:-0.350262},{x:0.333333,y:-0.666667,z:-0.333333}], faces:[[0,2,1],[0,3,2],[0,4,3],[0,5,4],[0,1,5],[1,2,7,6],[2,3,8,7],[3,4,9,8],[4,5,10,9],[5,1,6,10],[6,7,11],[7,8,11],[8,9,11],[9,10,11],[10,6,11]], color:'#0000ff', opacity:1},{vertices:[{x:0.138889,y:-0.694444,z:-0.263889},{x:0.301289,y:-0.611244,z:-0.315889},{x:0.32494,y:-0.657477,z:-0.268158},{x:0.323645,y:-0.72163,z:-0.297445},{x:0.299193,y:-0.715047,z:-0.363277},{x:0.285376,y:-0.646825,z:-0.374676},{x:0.306889,y:-0.670444,z:-0.323889}], faces:[[0,2,1],[0,3,2],[0,4,3],[0,5,4],[0,1,5],[1,2,6],[2,3,6],[3,4,6],[4,5,6],[5,1,6]], color:'#0000ff', opacity:1},{vertices:[{x:0.320952,y:-0.672857,z:0.00412698},{x:0.315238,y:-0.655714,z:0.0126984},{x:0.327338,y:-0.672994,z:0.0230795},{x:0.330613,y:-0.690085,z:0.00726887},{x:0.320537,y:-0.683367,z:-0.0128838},{x:0.311035,y:-0.662125,z:-0.00952812},{x:0.327619,y:-0.649524,z:0.00857143},{x:0.339719,y:-0.666804,z:0.0189525},{x:0.342994,y:-0.683894,z:0.00314189},{x:0.332918,y:-0.677177,z:-0.0170107},{x:0.323416,y:-0.655935,z:-0.0136551},{x:0.333333,y:-0.666667,z:0}], faces:[[0,2,1],[0,3,2],[0,4,3],[0,5,4],[0,1,5],[1,2,7,6],[2,3,8,7],[3,4,9,8],[4,5,10,9],[5,1,6,10],[6,7,11],[7,8,11],[8,9,11],[9,10,11],[10,6,11]], color:'#0000ff', opacity:1},{vertices:[{x:0.166667,y:-0.75,z:0.0555556},{x:0.30381,y:-0.621429,z:0.0298413},{x:0.340111,y:-0.673269,z:0.0609846},{x:0.349936,y:-0.72454,z:0.0135526},{x:0.319707,y:-0.704387,z:-0.0469053},{x:0.291199,y:-0.640661,z:-0.0368383},{x:0.320952,y:-0.672857,z:0.00412698}], faces:[[0,2,1],[0,3,2],[0,4,3],[0,5,4],[0,1,5],[1,2,6],[2,3,6],[3,4,6],[4,5,6],[5,1,6]], color:'#0000ff', opacity:1},{vertices:[{x:0.314444,y:-0.685556,z:0.342778},{x:0.307778,y:-0.672222,z:0.356111},{x:0.325065,y:-0.687776,z:0.359579},{x:0.327675,y:-0.700261,z:0.339828},{x:0.312001,y:-0.692424,z:0.324154},{x:0.299704,y:-0.675095,z:0.334217},{x:0.326667,y:-0.653333,z:0.346667},{x:0.343954,y:-0.668887,z:0.350134},{x:0.346564,y:-0.681372,z:0.330384},{x:0.33089,y:-0.673535,z:0.314709},{x:0.318592,y:-0.656206,z:0.324773},{x:0.333333,y:-0.666667,z:0.333333}], faces:[[0,2,1],[0,3,2],[0,4,3],[0,5,4],[0,1,5],[1,2,7,6],[2,3,8,7],[3,4,9,8],[4,5,10,9],[5,1,6,10],[6,7,11],[7,8,11],[8,9,11],[9,10,11],[10,6,11]], color:'#0000ff', opacity:1},{vertices:[{x:0.194444,y:-0.805556,z:0.402778},{x:0.294444,y:-0.645556,z:0.382778},{x:0.346306,y:-0.692216,z:0.393181},{x:0.354136,y:-0.729672,z:0.333929},{x:0.307113,y:-0.706161,z:0.286906},{x:0.270222,y:-0.654174,z:0.317096},{x:0.314444,y:-0.685556,z:0.342778}], faces:[[0,2,1],[0,3,2],[0,4,3],[0,5,4],[0,1,5],[1,2,6],[2,3,6],[3,4,6],[4,5,6],[5,1,6]], color:'#0000ff', opacity:1},{vertices:[{x:0.302222,y:-0.721111,z:0.697778},{x:0.297436,y:-0.709487,z:0.713333},{x:0.317163,y:-0.722071,z:0.711039},{x:0.316243,y:-0.733328,z:0.690418},{x:0.295946,y:-0.727702,z:0.679968},{x:0.284323,y:-0.712967,z:0.694131},{x:0.328547,y:-0.655043,z:0.682222},{x:0.348274,y:-0.667627,z:0.679927},{x:0.347354,y:-0.678884,z:0.659307},{x:0.327057,y:-0.673257,z:0.648857},{x:0.315434,y:-0.658523,z:0.66302},{x:0.333333,y:-0.666667,z:0.666667}], faces:[[0,2,1],[0,3,2],[0,4,3],[0,5,4],[0,1,5],[1,2,7,6],[2,3,8,7],[3,4,9,8],[4,5,10,9],[5,1,6,10],[6,7,11],[7,8,11],[8,9,11],[9,10,11],[10,6,11]], color:'#0000ff', opacity:1},{vertices:[{x:0.222222,y:-0.861111,z:0.777778},{x:0.287863,y:-0.686239,z:0.744444},{x:0.347045,y:-0.723991,z:0.73756},{x:0.344283,y:-0.757763,z:0.675698},{x:0.283395,y:-0.740883,z:0.644349},{x:0.248525,y:-0.696679,z:0.686837},{x:0.302222,y:-0.721111,z:0.697778}], faces:[[0,2,1],[0,3,2],[0,4,3],[0,5,4],[0,1,5],[1,2,6],[2,3,6],[3,4,6],[4,5,6],[5,1,6]], color:'#0000ff', opacity:1},{vertices:[{x:0.296957,y:-0.775797,z:1.07882},{x:0.294348,y:-0.763623,z:1.09447},{x:0.314345,y:-0.774516,z:1.08862},{x:0.310312,y:-0.787179,z:1.06922},{x:0.287822,y:-0.784113,z:1.06309},{x:0.277956,y:-0.769554,z:1.07869},{x:0.330725,y:-0.654493,z:1.01565},{x:0.350721,y:-0.665386,z:1.0098},{x:0.346688,y:-0.678049,z:0.990404},{x:0.324199,y:-0.674982,z:0.98427},{x:0.314333,y:-0.660424,z:0.999875},{x:0.333333,y:-0.666667,z:1}], faces:[[0,2,1],[0,3,2],[0,4,3],[0,5,4],[0,1,5],[1,2,7,6],[2,3,8,7],[3,4,9,8],[4,5,10,9],[5,1,6,10],[6,7,11],[7,8,11],[8,9,11],[9,10,11],[10,6,11]], color:'#0000ff', opacity:1},{vertices:[{x:0.25,y:-0.916667,z:1.18056},{x:0.28913,y:-0.739275,z:1.12577},{x:0.349121,y:-0.771954,z:1.10821},{x:0.337022,y:-0.809944,z:1.05003},{x:0.269554,y:-0.800744,z:1.03163},{x:0.239956,y:-0.757068,z:1.07844},{x:0.296957,y:-0.775797,z:1.07882}], faces:[[0,2,1],[0,3,2],[0,4,3],[0,5,4],[0,1,5],[1,2,6],[2,3,6],[3,4,6],[4,5,6],[5,1,6]], color:'#0000ff', opacity:1},{vertices:[{x:0.274667,y:-0.333333,z:-0.921778},{x:0.274667,y:-0.313333,z:-0.921778},{x:0.289884,y:-0.327153,z:-0.910365},{x:0.284071,y:-0.349514,z:-0.914724},{x:0.265262,y:-0.349514,z:-0.928831},{x:0.25945,y:-0.327153,z:-0.93319},{x:0.333333,y:-0.313333,z:-1},{x:0.34855,y:-0.327153,z:-0.988587},{x:0.342738,y:-0.349514,z:-0.992947},{x:0.323929,y:-0.349514,z:-1.00705},{x:0.318116,y:-0.327153,z:-1.01141},{x:0.333333,y:-0.333333,z:-1}], faces:[[0,2,1],[0,3,2],[0,4,3],[0,5,4],[0,1,5],[1,2,7,6],[2,3,8,7],[3,4,9,8],[4,5,10,9],[5,1,6,10],[6,7,11],[7,8,11],[8,9,11],[9,10,11],[10,6,11]], color:'#0000ff', opacity:1},{vertices:[{x:0.166667,y:-0.333333,z:-0.777778},{x:0.274667,y:-0.273333,z:-0.921778},{x:0.320317,y:-0.314792,z:-0.88754},{x:0.30288,y:-0.381874,z:-0.900618},{x:0.246453,y:-0.381874,z:-0.942938},{x:0.229016,y:-0.314792,z:-0.956016},{x:0.274667,y:-0.333333,z:-0.921778}], faces:[[0,2,1],[0,3,2],[0,4,3],[0,5,4],[0,1,5],[1,2,6],[2,3,6],[3,4,6],[4,5,6],[5,1,6]], color:'#0000ff', opacity:1},{vertices:[{x:0.314444,y:-0.337111,z:-0.645889},{x:0.313419,y:-0.317316,z:-0.643222},{x:0.328271,y:-0.33197,z:-0.632384},{x:0.324016,y:-0.353728,z:-0.640209},{x:0.306533,y:-0.352523,z:-0.655883},{x:0.299984,y:-0.330019,z:-0.657746},{x:0.332308,y:-0.313538,z:-0.664},{x:0.34716,y:-0.328192,z:-0.653162},{x:0.342905,y:-0.349951,z:-0.660987},{x:0.325422,y:-0.348745,z:-0.676661},{x:0.318872,y:-0.326241,z:-0.678523},{x:0.333333,y:-0.333333,z:-0.666667}], faces:[[0,2,1],[0,3,2],[0,4,3],[0,5,4],[0,1,5],[1,2,7,6],[2,3,8,7],[3,4,9,8],[4,5,10,9],[5,1,6,10],[6,7,11],[7,8,11],[8,9,11],[9,10,11],[10,6,11]], color:'#0000ff', opacity:1},{vertices:[{x:0.194444,y:-0.361111,z:-0.513889},{x:0.311368,y:-0.277726,z:-0.637889},{x:0.355925,y:-0.321687,z:-0.605374},{x:0.343158,y:-0.386963,z:-0.62885},{x:0.290709,y:-0.383346,z:-0.675872},{x:0.271062,y:-0.315834,z:-0.681459},{x:0.314444,y:-0.337111,z:-0.645889}], faces:[[0,2,1],[0,3,2],[0,4,3],[0,5,4],[0,1,5],[1,2,6],[2,3,6],[3,4,6],[4,5,6],[5,1,6]], color:'#0000ff', opacity:1},{vertices:[{x:0.222222,y:-0.388889,z:-0.222222},{x:0.325926,y:-0.281481,z:-0.314815},{x:0.369791,y:-0.324355,z:-0.292386},{x:0.363273,y:-0.379636,z:-0.326545},{x:0.315379,y:-0.370928,z:-0.370085},{x:0.292298,y:-0.310265,z:-0.362835},{x:0.333333,y:-0.333333,z:-0.333333}], faces:[[0,2,1],[0,3,2],[0,4,3],[0,5,4],[0,1,5],[1,2,6],[2,3,6],[3,4,6],[4,5,6],[5,1,6]], color:'#0000ff', opacity:1},{vertices:[{x:0.25,y:-0.416667,z:0.0972222},{x:0.324074,y:-0.291667,z:0.0277778},{x:0.370099,y:-0.329264,z:0.035002},{x:0.365315,y:-0.372485,z:-0.00614533},{x:0.316333,y:-0.3616,z:-0.0388001},{x:0.290845,y:-0.311652,z:-0.0178344},{x:0.333333,y:-0.333333,z:0}], faces:[[0,2,1],[0,3,2],[0,4,3],[0,5,4],[0,1,5],[1,2,6],[2,3,6],[3,4,6],[4,5,6],[5,1,6]], color:'#0000ff', opacity:1},{vertices:[{x:0.277778,y:-0.444444,z:0.444444},{x:0.325926,y:-0.292593,z:0.37037},{x:0.380358,y:-0.327789,z:0.362391},{x:0.369804,y:-0.370647,z:0.314255},{x:0.308848,y:-0.361939,z:0.292485},{x:0.28173,y:-0.313699,z:0.327166},{x:0.333333,y:-0.333333,z:0.333333}], faces:[[0,2,1],[0,3,2],[0,4,3],[0,5,4],[0,1,5],[1,2,6],[2,3,6],[3,4,6],[4,5,6],[5,1,6]], color:'#0000ff', opacity:1},{vertices:[{x:0.329556,y:-0.352222,z:0.687444},{x:0.32853,y:-0.33735,z:0.700778},{x:0.348065,y:-0.348602,z:0.694101},{x:0.34202,y:-0.364857,z:0.678225},{x:0.31875,y:-0.363651,z:0.67509},{x:0.310413,y:-0.346651,z:0.689029},{x:0.332308,y:-0.318462,z:0.68},{x:0.351842,y:-0.329713,z:0.673323},{x:0.345798,y:-0.345968,z:0.657447},{x:0.322528,y:-0.344762,z:0.654312},{x:0.31419,y:-0.327762,z:0.668251},{x:0.333333,y:-0.333333,z:0.666667}], faces:[[0,2,1],[0,3,2],[0,4,3],[0,5,4],[0,1,5],[1,2,7,6],[2,3,8,7],[3,4,9,8],[4,5,10,9],[5,1,6,10],[6,7,11],[7,8,11],[8,9,11],[9,10,11],[10,6,11]], color:'#0000ff', opacity:1},{vertices:[{x:0.305556,y:-0.472222,z:0.819444},{x:0.326479,y:-0.307607,z:0.727444},{x:0.385083,y:-0.341362,z:0.707414},{x:0.36695,y:-0.390125,z:0.659786},{x:0.297139,y:-0.386508,z:0.650381},{x:0.272127,y:-0.335509,z:0.692197},{x:0.329556,y:-0.352222,z:0.687444}], faces:[[0,2,1],[0,3,2],[0,4,3],[0,5,4],[0,1,5],[1,2,6],[2,3,6],[3,4,6],[4,5,6],[5,1,6]], color:'#0000ff', opacity:1},{vertices:[{x:0.333333,y:-0.392,z:1.07822},{x:0.333333,y:-0.376,z:1.09022},{x:0.352354,y:-0.387056,z:1.08193},{x:0.345089,y:-0.404944,z:1.06851},{x:0.321578,y:-0.404944,z:1.06851},{x:0.314312,y:-0.387056,z:1.08193},{x:0.333333,y:-0.317333,z:1.012},{x:0.352354,y:-0.328389,z:1.00371},{x:0.345089,y:-0.346278,z:0.990292},{x:0.321578,y:-0.346278,z:0.990292},{x:0.314312,y:-0.328389,z:1.00371},{x:0.333333,y:-0.333333,z:1}], faces:[[0,2,1],[0,3,2],[0,4,3],[0,5,4],[0,1,5],[1,2,7,6],[2,3,8,7],[3,4,9,8],[4,5,10,9],[5,1,6,10],[6,7,11],[7,8,11],[8,9,11],[9,10,11],[10,6,11]], color:'#0000ff', opacity:1},{vertices:[{x:0.333333,y:-0.5,z:1.22222},{x:0.333333,y:-0.344,z:1.11422},{x:0.390397,y:-0.377167,z:1.08935},{x:0.3686,y:-0.430833,z:1.0491},{x:0.298066,y:-0.430833,z:1.0491},{x:0.27627,y:-0.377167,z:1.08935},{x:0.333333,y:-0.392,z:1.07822}], faces:[[0,2,1],[0,3,2],[0,4,3],[0,5,4],[0,1,5],[1,2,6],[2,3,6],[3,4,6],[4,5,6],[5,1,6]], color:'#0000ff', opacity:1},{vertices:[{x:0.306842,y:-0.0264912,z:-0.924942},{x:0.305789,y:-0.00754386,z:-0.918626},{x:0.324537,y:-0.0216373,z:-0.916983},{x:0.318831,y:-0.0424387,z:-0.926339},{x:0.296557,y:-0.0412012,z:-0.933763},{x:0.288497,y:-0.0196351,z:-0.928997},{x:0.332281,y:0.0189474,z:-0.993684},{x:0.351028,y:0.00485395,z:-0.992042},{x:0.345322,y:-0.0159475,z:-1.0014},{x:0.323048,y:-0.01471,z:-1.00882},{x:0.314988,y:0.00685617,z:-1.00405},{x:0.333333,y:0,z:-1}], faces:[[0,2,1],[0,3,2],[0,4,3],[0,5,4],[0,1,5],[1,2,7,6],[2,3,8,7],[3,4,9,8],[4,5,10,9],[5,1,6,10],[6,7,11],[7,8,11],[8,9,11],[9,10,11],[10,6,11]], color:'#0000ff', opacity:1},{vertices:[{x:0.25,y:-0.0833333,z:-0.763889},{x:0.303684,y:0.0303509,z:-0.905994},{x:0.359926,y:-0.0119294,z:-0.901066},{x:0.342808,y:-0.0743336,z:-0.929133},{x:0.275986,y:-0.0706213,z:-0.951407},{x:0.251806,y:-0.00592272,z:-0.937106},{x:0.306842,y:-0.0264912,z:-0.924942}], faces:[[0,2,1],[0,3,2],[0,4,3],[0,5,4],[0,1,5],[1,2,6],[2,3,6],[3,4,6],[4,5,6],[5,1,6]], color:'#0000ff', opacity:1},{vertices:[{x:0.329206,y:-0.00619048,z:-0.654286},{x:0.327888,y:0.0118315,z:-0.645714},{x:0.346984,y:-0.00187552,z:-0.646202},{x:0.341512,y:-0.0215457,z:-0.657861},{x:0.319034,y:-0.0199955,z:-0.664579},{x:0.310614,y:0.000632762,z:-0.657072},{x:0.332015,y:0.018022,z:-0.658095},{x:0.351111,y:0.00431496,z:-0.658583},{x:0.345639,y:-0.0153552,z:-0.670242},{x:0.323161,y:-0.013805,z:-0.67696},{x:0.314741,y:0.00682324,z:-0.669453},{x:0.333333,y:0,z:-0.666667}], faces:[[0,2,1],[0,3,2],[0,4,3],[0,5,4],[0,1,5],[1,2,7,6],[2,3,8,7],[3,4,9,8],[4,5,10,9],[5,1,6,10],[6,7,11],[7,8,11],[8,9,11],[9,10,11],[10,6,11]], color:'#0000ff', opacity:1},{vertices:[{x:0.277778,y:-0.0833333,z:-0.5},{x:0.32525,y:0.0478755,z:-0.628571},{x:0.382539,y:0.00675439,z:-0.630036},{x:0.366124,y:-0.052256,z:-0.665013},{x:0.29869,y:-0.0476054,z:-0.685165},{x:0.273429,y:0.0142792,z:-0.662643},{x:0.329206,y:-0.00619048,z:-0.654286}], faces:[[0,2,1],[0,3,2],[0,4,3],[0,5,4],[0,1,5],[1,2,6],[2,3,6],[3,4,6],[4,5,6],[5,1,6]], color:'#0000ff', opacity:1},{vertices:[{x:0.305556,y:-0.0833333,z:-0.208333},{x:0.330556,y:0.0425926,z:-0.305556},{x:0.380028,y:0.01052,z:-0.315943},{x:0.36497,y:-0.0360909,z:-0.350364},{x:0.306191,y:-0.0328254,z:-0.361248},{x:0.284922,y:0.0158037,z:-0.333556},{x:0.333333,y:0,z:-0.333333}], faces:[[0,2,1],[0,3,2],[0,4,3],[0,5,4],[0,1,5],[1,2,6],[2,3,6],[3,4,6],[4,5,6],[5,1,6]], color:'#0000ff', opacity:1},{vertices:[{x:0.333333,y:-0.0833333,z:0.111111},{x:0.333333,y:0.037037,z:0.0277778},{x:0.377364,y:0.0114451,z:0.00858381},{x:0.360546,y:-0.0299636,z:-0.0224727},{x:0.306121,y:-0.0299636,z:-0.0224727},{x:0.289303,y:0.0114451,z:0.00858381},{x:0.333333,y:0,z:0}], faces:[[0,2,1],[0,3,2],[0,4,3],[0,5,4],[0,1,5],[1,2,6],[2,3,6],[3,4,6],[4,5,6],[5,1,6]], color:'#0000ff', opacity:1},{vertices:[{x:0.361111,y:-0.0833333,z:0.458333},{x:0.336111,y:0.0425926,z:0.361111},{x:0.381745,y:0.0158037,z:0.333111},{x:0.360475,y:-0.0328254,z:0.305418},{x:0.301697,y:-0.0360909,z:0.316303},{x:0.286639,y:0.01052,z:0.350723},{x:0.333333,y:0,z:0.333333}], faces:[[0,2,1],[0,3,2],[0,4,3],[0,5,4],[0,1,5],[1,2,6],[2,3,6],[3,4,6],[4,5,6],[5,1,6]], color:'#0000ff', opacity:1},{vertices:[{x:0.33746,y:-0.00619048,z:0.679048},{x:0.338779,y:0.0118315,z:0.687619},{x:0.356053,y:0.000632762,z:0.676262},{x:0.347632,y:-0.0199955,z:0.668754},{x:0.325155,y:-0.0215457,z:0.675472},{x:0.319683,y:-0.00187552,z:0.687131},{x:0.334652,y:0.018022,z:0.675238},{x:0.351926,y:0.00682324,z:0.663881},{x:0.343505,y:-0.013805,z:0.656373},{x:0.321028,y:-0.0153552,z:0.663091},{x:0.315556,y:0.00431496,z:0.67475},{x:0.333333,y:0,z:0.666667}], faces:[[0,2,1],[0,3,2],[0,4,3],[0,5,4],[0,1,5],[1,2,7,6],[2,3,8,7],[3,4,9,8],[4,5,10,9],[5,1,6,10],[6,7,11],[7,8,11],[8,9,11],[9,10,11],[10,6,11]], color:'#0000ff', opacity:1},{vertices:[{x:0.388889,y:-0.0833333,z:0.833333},{x:0.341416,y:0.0478755,z:0.704762},{x:0.393238,y:0.0142792,z:0.67069},{x:0.367977,y:-0.0476054,z:0.648168},{x:0.300543,y:-0.052256,z:0.668321},{x:0.284128,y:0.00675439,z:0.703298},{x:0.33746,y:-0.00619048,z:0.679048}], faces:[[0,2,1],[0,3,2],[0,4,3],[0,5,4],[0,1,5],[1,2,6],[2,3,6],[3,4,6],[4,5,6],[5,1,6]], color:'#0000ff', opacity:1},{vertices:[{x:0.359825,y:-0.0264912,z:1.07506},{x:0.360877,y:-0.00754386,z:1.08137},{x:0.37817,y:-0.0196351,z:1.071},{x:0.37011,y:-0.0412012,z:1.06624},{x:0.347836,y:-0.0424387,z:1.07366},{x:0.34213,y:-0.0216373,z:1.08302},{x:0.334386,y:0.0189474,z:1.00632},{x:0.351679,y:0.00685617,z:0.995945},{x:0.343619,y:-0.01471,z:0.991178},{x:0.321345,y:-0.0159475,z:0.998603},{x:0.315639,y:0.00485395,z:1.00796},{x:0.333333,y:0,z:1}], faces:[[0,2,1],[0,3,2],[0,4,3],[0,5,4],[0,1,5],[1,2,7,6],[2,3,8,7],[3,4,9,8],[4,5,10,9],[5,1,6,10],[6,7,11],[7,8,11],[8,9,11],[9,10,11],[10,6,11]], color:'#0000ff', opacity:1},{vertices:[{x:0.416667,y:-0.0833333,z:1.23611},{x:0.362982,y:0.0303509,z:1.09401},{x:0.41486,y:-0.00592272,z:1.06289},{x:0.390681,y:-0.0706213,z:1.04859},{x:0.323859,y:-0.0743336,z:1.07087},{x:0.30674,y:-0.0119294,z:1.09893},{x:0.359825,y:-0.0264912,z:1.07506}], faces:[[0,2,1],[0,3,2],[0,4,3],[0,5,4],[0,1,5],[1,2,6],[2,3,6],[3,4,6],[4,5,6],[5,1,6]], color:'#0000ff', opacity:1},{vertices:[{x:0.333333,y:0.274667,z:-0.921778},{x:0.333333,y:0.290667,z:-0.909778},{x:0.352354,y:0.279611,z:-0.91807},{x:0.345089,y:0.261722,z:-0.931486},{x:0.321578,y:0.261722,z:-0.931486},{x:0.314312,y:0.279611,z:-0.91807},{x:0.333333,y:0.349333,z:-0.988},{x:0.352354,y:0.338278,z:-0.996292},{x:0.345089,y:0.320389,z:-1.00971},{x:0.321578,y:0.320389,z:-1.00971},{x:0.314312,y:0.338278,z:-0.996292},{x:0.333333,y:0.333333,z:-1}], faces:[[0,2,1],[0,3,2],[0,4,3],[0,5,4],[0,1,5],[1,2,7,6],[2,3,8,7],[3,4,9,8],[4,5,10,9],[5,1,6,10],[6,7,11],[7,8,11],[8,9,11],[9,10,11],[10,6,11]], color:'#0000ff', opacity:1},{vertices:[{x:0.333333,y:0.166667,z:-0.777778},{x:0.333333,y:0.322667,z:-0.885778},{x:0.390397,y:0.289499,z:-0.910653},{x:0.3686,y:0.235834,z:-0.950902},{x:0.298066,y:0.235834,z:-0.950902},{x:0.27627,y:0.289499,z:-0.910653},{x:0.333333,y:0.274667,z:-0.921778}], faces:[[0,2,1],[0,3,2],[0,4,3],[0,5,4],[0,1,5],[1,2,6],[2,3,6],[3,4,6],[4,5,6],[5,1,6]], color:'#0000ff', opacity:1},{vertices:[{x:0.337111,y:0.314444,z:-0.645889},{x:0.338137,y:0.329316,z:-0.632556},{x:0.356254,y:0.320016,z:-0.644305},{x:0.347916,y:0.303016,z:-0.658243},{x:0.324646,y:0.30181,z:-0.655108},{x:0.318602,y:0.318065,z:-0.639233},{x:0.334359,y:0.348205,z:-0.653333},{x:0.352476,y:0.338904,z:-0.665083},{x:0.344139,y:0.321905,z:-0.679021},{x:0.320868,y:0.320699,z:-0.675886},{x:0.314824,y:0.336954,z:-0.66001},{x:0.333333,y:0.333333,z:-0.666667}], faces:[[0,2,1],[0,3,2],[0,4,3],[0,5,4],[0,1,5],[1,2,7,6],[2,3,8,7],[3,4,9,8],[4,5,10,9],[5,1,6,10],[6,7,11],[7,8,11],[8,9,11],[9,10,11],[10,6,11]], color:'#0000ff', opacity:1},{vertices:[{x:0.361111,y:0.194444,z:-0.513889},{x:0.340188,y:0.35906,z:-0.605889},{x:0.39454,y:0.331158,z:-0.641137},{x:0.369527,y:0.280158,z:-0.682952},{x:0.299716,y:0.276541,z:-0.673547},{x:0.281584,y:0.325305,z:-0.62592},{x:0.337111,y:0.314444,z:-0.645889}], faces:[[0,2,1],[0,3,2],[0,4,3],[0,5,4],[0,1,5],[1,2,6],[2,3,6],[3,4,6],[4,5,6],[5,1,6]], color:'#0000ff', opacity:1},{vertices:[{x:0.388889,y:0.222222,z:-0.222222},{x:0.340741,y:0.374074,z:-0.296296},{x:0.384936,y:0.352968,z:-0.3395},{x:0.357818,y:0.304727,z:-0.374182},{x:0.296863,y:0.296019,z:-0.352412},{x:0.286308,y:0.338878,z:-0.304276},{x:0.333333,y:0.333333,z:-0.333333}], faces:[[0,2,1],[0,3,2],[0,4,3],[0,5,4],[0,1,5],[1,2,6],[2,3,6],[3,4,6],[4,5,6],[5,1,6]], color:'#0000ff', opacity:1},{vertices:[{x:0.416667,y:0.25,z:0.0972222},{x:0.342593,y:0.375,z:0.0277778},{x:0.375822,y:0.355015,z:-0.0178344},{x:0.350333,y:0.305067,z:-0.0388001},{x:0.301351,y:0.294182,z:-0.00614533},{x:0.296567,y:0.337403,z:0.035002},{x:0.333333,y:0.333333,z:0}], faces:[[0,2,1],[0,3,2],[0,4,3],[0,5,4],[0,1,5],[1,2,6],[2,3,6],[3,4,6],[4,5,6],[5,1,6]], color:'#0000ff', opacity:1},{vertices:[{x:0.444444,y:0.277778,z:0.444444},{x:0.340741,y:0.385185,z:0.351852},{x:0.374369,y:0.356401,z:0.303832},{x:0.351287,y:0.295738,z:0.296582},{x:0.303394,y:0.28703,z:0.340121},{x:0.296876,y:0.342312,z:0.37428},{x:0.333333,y:0.333333,z:0.333333}], faces:[[0,2,1],[0,3,2],[0,4,3],[0,5,4],[0,1,5],[1,2,6],[2,3,6],[3,4,6],[4,5,6],[5,1,6]], color:'#0000ff', opacity:1},{vertices:[{x:0.352222,y:0.329556,z:0.687444},{x:0.353248,y:0.34935,z:0.690111},{x:0.366683,y:0.336648,z:0.675588},{x:0.360134,y:0.314144,z:0.67745},{x:0.342651,y:0.312938,z:0.693124},{x:0.338395,y:0.334697,z:0.700949},{x:0.334359,y:0.353128,z:0.669333},{x:0.347794,y:0.340426,z:0.65481},{x:0.341245,y:0.317922,z:0.656672},{x:0.323762,y:0.316716,z:0.672346},{x:0.319506,y:0.338475,z:0.680171},{x:0.333333,y:0.333333,z:0.666667}], faces:[[0,2,1],[0,3,2],[0,4,3],[0,5,4],[0,1,5],[1,2,7,6],[2,3,8,7],[3,4,9,8],[4,5,10,9],[5,1,6,10],[6,7,11],[7,8,11],[8,9,11],[9,10,11],[10,6,11]], color:'#0000ff', opacity:1},{vertices:[{x:0.472222,y:0.305556,z:0.819444},{x:0.355299,y:0.38894,z:0.695444},{x:0.395605,y:0.350833,z:0.651874},{x:0.375957,y:0.283321,z:0.657461},{x:0.323509,y:0.279704,z:0.704484},{x:0.310741,y:0.34498,z:0.727959},{x:0.352222,y:0.329556,z:0.687444}], faces:[[0,2,1],[0,3,2],[0,4,3],[0,5,4],[0,1,5],[1,2,6],[2,3,6],[3,4,6],[4,5,6],[5,1,6]], color:'#0000ff', opacity:1},{vertices:[{x:0.392,y:0.333333,z:1.07822},{x:0.392,y:0.353333,z:1.07822},{x:0.407217,y:0.339514,z:1.06681},{x:0.401405,y:0.317153,z:1.07117},{x:0.382595,y:0.317153,z:1.08528},{x:0.376783,y:0.339514,z:1.08963},{x:0.333333,y:0.353333,z:1},{x:0.34855,y:0.339514,z:0.988587},{x:0.342738,y:0.317153,z:0.992947},{x:0.323929,y:0.317153,z:1.00705},{x:0.318116,y:0.339514,z:1.01141},{x:0.333333,y:0.333333,z:1}], faces:[[0,2,1],[0,3,2],[0,4,3],[0,5,4],[0,1,5],[1,2,7,6],[2,3,8,7],[3,4,9,8],[4,5,10,9],[5,1,6,10],[6,7,11],[7,8,11],[8,9,11],[9,10,11],[10,6,11]], color:'#0000ff', opacity:1},{vertices:[{x:0.5,y:0.333333,z:1.22222},{x:0.392,y:0.393333,z:1.07822},{x:0.437651,y:0.351874,z:1.04398},{x:0.420214,y:0.284792,z:1.05706},{x:0.363786,y:0.284792,z:1.09938},{x:0.346349,y:0.351874,z:1.11246},{x:0.392,y:0.333333,z:1.07822}], faces:[[0,2,1],[0,3,2],[0,4,3],[0,5,4],[0,1,5],[1,2,6],[2,3,6],[3,4,6],[4,5,6],[5,1,6]], color:'#0000ff', opacity:1},{vertices:[{x:0.36971,y:0.557536,z:-0.921184},{x:0.372319,y:0.56971,z:-0.905531},{x:0.38871,y:0.563779,z:-0.921309},{x:0.378844,y:0.549221,z:-0.936913},{x:0.356355,y:0.546154,z:-0.93078},{x:0.352322,y:0.558817,z:-0.911385},{x:0.335942,y:0.678841,z:-0.984348},{x:0.352334,y:0.67291,z:-1.00013},{x:0.342467,y:0.658351,z:-1.01573},{x:0.319978,y:0.655284,z:-1.0096},{x:0.315945,y:0.667948,z:-0.990201},{x:0.333333,y:0.666667,z:-1}], faces:[[0,2,1],[0,3,2],[0,4,3],[0,5,4],[0,1,5],[1,2,7,6],[2,3,8,7],[3,4,9,8],[4,5,10,9],[5,1,6,10],[6,7,11],[7,8,11],[8,9,11],[9,10,11],[10,6,11]], color:'#0000ff', opacity:1},{vertices:[{x:0.416667,y:0.416667,z:-0.819444},{x:0.377536,y:0.594058,z:-0.874227},{x:0.426711,y:0.576265,z:-0.921559},{x:0.397112,y:0.53259,z:-0.968372},{x:0.329645,y:0.523389,z:-0.949972},{x:0.317546,y:0.561379,z:-0.891787},{x:0.36971,y:0.557536,z:-0.921184}], faces:[[0,2,1],[0,3,2],[0,4,3],[0,5,4],[0,1,5],[1,2,6],[2,3,6],[3,4,6],[4,5,6],[5,1,6]], color:'#0000ff', opacity:1},{vertices:[{x:0.364444,y:0.612222,z:-0.635556},{x:0.369231,y:0.623846,z:-0.62},{x:0.382343,y:0.620366,z:-0.639202},{x:0.37072,y:0.605632,z:-0.653365},{x:0.350424,y:0.600005,z:-0.642916},{x:0.349504,y:0.611262,z:-0.622295},{x:0.33812,y:0.678291,z:-0.651111},{x:0.351232,y:0.674811,z:-0.670314},{x:0.339609,y:0.660076,z:-0.684476},{x:0.319313,y:0.654449,z:-0.674027},{x:0.318392,y:0.665707,z:-0.653406},{x:0.333333,y:0.666667,z:-0.666667}], faces:[[0,2,1],[0,3,2],[0,4,3],[0,5,4],[0,1,5],[1,2,7,6],[2,3,8,7],[3,4,9,8],[4,5,10,9],[5,1,6,10],[6,7,11],[7,8,11],[8,9,11],[9,10,11],[10,6,11]], color:'#0000ff', opacity:1},{vertices:[{x:0.444444,y:0.472222,z:-0.555556},{x:0.378803,y:0.647094,z:-0.588889},{x:0.418141,y:0.636654,z:-0.646496},{x:0.383272,y:0.59245,z:-0.688984},{x:0.322384,y:0.57557,z:-0.657635},{x:0.319622,y:0.609342,z:-0.595773},{x:0.364444,y:0.612222,z:-0.635556}], faces:[[0,2,1],[0,3,2],[0,4,3],[0,5,4],[0,1,5],[1,2,6],[2,3,6],[3,4,6],[4,5,6],[5,1,6]], color:'#0000ff', opacity:1},{vertices:[{x:0.352222,y:0.647778,z:-0.323889},{x:0.358889,y:0.661111,z:-0.310556},{x:0.366963,y:0.658238,z:-0.332449},{x:0.354666,y:0.640909,z:-0.342513},{x:0.338992,y:0.633072,z:-0.326839},{x:0.341602,y:0.645558,z:-0.307088},{x:0.34,y:0.68,z:-0.32},{x:0.348074,y:0.677127,z:-0.341894},{x:0.335777,y:0.659798,z:-0.351957},{x:0.320103,y:0.651961,z:-0.336283},{x:0.322713,y:0.664447,z:-0.316532},{x:0.333333,y:0.666667,z:-0.333333}], faces:[[0,2,1],[0,3,2],[0,4,3],[0,5,4],[0,1,5],[1,2,7,6],[2,3,8,7],[3,4,9,8],[4,5,10,9],[5,1,6,10],[6,7,11],[7,8,11],[8,9,11],[9,10,11],[10,6,11]], color:'#0000ff', opacity:1},{vertices:[{x:0.472222,y:0.527778,z:-0.263889},{x:0.372222,y:0.687778,z:-0.283889},{x:0.396445,y:0.67916,z:-0.34957},{x:0.359553,y:0.627173,z:-0.379761},{x:0.31253,y:0.603661,z:-0.332738},{x:0.32036,y:0.641117,z:-0.273486},{x:0.352222,y:0.647778,z:-0.323889}], faces:[[0,2,1],[0,3,2],[0,4,3],[0,5,4],[0,1,5],[1,2,6],[2,3,6],[3,4,6],[4,5,6],[5,1,6]], color:'#0000ff', opacity:1},{vertices:[{x:0.345714,y:0.660476,z:0.00412698},{x:0.351429,y:0.677619,z:0.0126984},{x:0.355632,y:0.671208,z:-0.00952812},{x:0.346129,y:0.649966,z:-0.0128838},{x:0.336053,y:0.643249,z:0.00726887},{x:0.339328,y:0.660339,z:0.0230795},{x:0.339048,y:0.68381,z:0.00857143},{x:0.343251,y:0.677399,z:-0.0136551},{x:0.333749,y:0.656157,z:-0.0170107},{x:0.323672,y:0.649439,z:0.00314189},{x:0.326947,y:0.666529,z:0.0189525},{x:0.333333,y:0.666667,z:0}], faces:[[0,2,1],[0,3,2],[0,4,3],[0,5,4],[0,1,5],[1,2,7,6],[2,3,8,7],[3,4,9,8],[4,5,10,9],[5,1,6,10],[6,7,11],[7,8,11],[8,9,11],[9,10,11],[10,6,11]], color:'#0000ff', opacity:1},{vertices:[{x:0.5,y:0.583333,z:0.0555556},{x:0.362857,y:0.711905,z:0.0298413},{x:0.375467,y:0.692672,z:-0.0368383},{x:0.34696,y:0.628946,z:-0.0469053},{x:0.316731,y:0.608793,z:0.0135526},{x:0.326556,y:0.660065,z:0.0609846},{x:0.345714,y:0.660476,z:0.00412698}], faces:[[0,2,1],[0,3,2],[0,4,3],[0,5,4],[0,1,5],[1,2,6],[2,3,6],[3,4,6],[4,5,6],[5,1,6]], color:'#0000ff', opacity:1},{vertices:[{x:0.359778,y:0.662889,z:0.342778},{x:0.361644,y:0.682622,z:0.345444},{x:0.366949,y:0.670762,z:0.325849},{x:0.362343,y:0.648021,z:0.329648},{x:0.354192,y:0.645827,z:0.351592},{x:0.353761,y:0.667212,z:0.361355},{x:0.3352,y:0.6864,z:0.336},{x:0.340504,y:0.67454,z:0.316404},{x:0.335898,y:0.651799,z:0.320204},{x:0.327748,y:0.649605,z:0.342148},{x:0.327316,y:0.670989,z:0.35191},{x:0.333333,y:0.666667,z:0.333333}], faces:[[0,2,1],[0,3,2],[0,4,3],[0,5,4],[0,1,5],[1,2,7,6],[2,3,8,7],[3,4,9,8],[4,5,10,9],[5,1,6,10],[6,7,11],[7,8,11],[8,9,11],[9,10,11],[10,6,11]], color:'#0000ff', opacity:1},{vertices:[{x:0.527778,y:0.638889,z:0.402778},{x:0.365378,y:0.722089,z:0.350778},{x:0.38129,y:0.686509,z:0.291991},{x:0.367473,y:0.618287,z:0.30339},{x:0.343021,y:0.611703,z:0.369222},{x:0.341726,y:0.675857,z:0.398509},{x:0.359778,y:0.662889,z:0.342778}], faces:[[0,2,1],[0,3,2],[0,4,3],[0,5,4],[0,1,5],[1,2,6],[2,3,6],[3,4,6],[4,5,6],[5,1,6]], color:'#0000ff', opacity:1},{vertices:[{x:0.395556,y:0.674444,z:0.697778},{x:0.394188,y:0.694274,z:0.695556},{x:0.403749,y:0.679271,z:0.680183},{x:0.401987,y:0.657599,z:0.689126},{x:0.391337,y:0.659206,z:0.710025},{x:0.386517,y:0.681873,z:0.713999},{x:0.331966,y:0.686496,z:0.664444},{x:0.341527,y:0.671494,z:0.649072},{x:0.339765,y:0.649821,z:0.658015},{x:0.329114,y:0.651428,z:0.678914},{x:0.324294,y:0.674095,z:0.682888},{x:0.333333,y:0.666667,z:0.666667}], faces:[[0,2,1],[0,3,2],[0,4,3],[0,5,4],[0,1,5],[1,2,7,6],[2,3,8,7],[3,4,9,8],[4,5,10,9],[5,1,6,10],[6,7,11],[7,8,11],[8,9,11],[9,10,11],[10,6,11]], color:'#0000ff', opacity:1},{vertices:[{x:0.555556,y:0.694444,z:0.777778},{x:0.391453,y:0.733932,z:0.691111},{x:0.420137,y:0.688925,z:0.644995},{x:0.41485,y:0.623907,z:0.671823},{x:0.382899,y:0.62873,z:0.73452},{x:0.368439,y:0.696729,z:0.746441},{x:0.395556,y:0.674444,z:0.697778}], faces:[[0,2,1],[0,3,2],[0,4,3],[0,5,4],[0,1,5],[1,2,6],[2,3,6],[3,4,6],[4,5,6],[5,1,6]], color:'#0000ff', opacity:1},{vertices:[{x:0.442464,y:0.703043,z:1.07882},{x:0.439855,y:0.722174,z:1.0736},{x:0.453236,y:0.706474,z:1.06232},{x:0.45173,y:0.686033,z:1.07384},{x:0.437419,y:0.6891,z:1.09224},{x:0.43008,y:0.711436,z:1.09209},{x:0.330725,y:0.685797,z:0.994783},{x:0.344105,y:0.670097,z:0.983502},{x:0.342599,y:0.649656,z:0.995021},{x:0.328288,y:0.652723,z:1.01342},{x:0.320949,y:0.675059,z:1.01327},{x:0.333333,y:0.666667,z:1}], faces:[[0,2,1],[0,3,2],[0,4,3],[0,5,4],[0,1,5],[1,2,7,6],[2,3,8,7],[3,4,9,8],[4,5,10,9],[5,1,6,10],[6,7,11],[7,8,11],[8,9,11],[9,10,11],[10,6,11]], color:'#0000ff', opacity:1},{vertices:[{x:0.583333,y:0.75,z:1.18056},{x:0.434638,y:0.760435,z:1.06316},{x:0.47478,y:0.713335,z:1.02932},{x:0.470262,y:0.652013,z:1.06388},{x:0.427328,y:0.661213,z:1.11908},{x:0.405311,y:0.728221,z:1.11864},{x:0.442464,y:0.703043,z:1.07882}], faces:[[0,2,1],[0,3,2],[0,4,3],[0,5,4],[0,1,5],[1,2,6],[2,3,6],[3,4,6],[4,5,6],[5,1,6]], color:'#0000ff', opacity:1},{vertices:[{x:0.422857,y:0.820952,z:-0.940317},{x:0.428571,y:0.829524,z:-0.923175},{x:0.440927,y:0.829036,z:-0.943172},{x:0.428311,y:0.817377,z:-0.959224},{x:0.408158,y:0.810659,z:-0.949148},{x:0.408319,y:0.818166,z:-0.926868},{x:0.339048,y:1.00857,z:-0.982857},{x:0.351403,y:1.00808,z:-1.00285},{x:0.338787,y:0.996424,z:-1.01891},{x:0.318634,y:0.989707,z:-1.00883},{x:0.318795,y:0.997214,z:-0.986551},{x:0.333333,y:1,z:-1}], faces:[[0,2,1],[0,3,2],[0,4,3],[0,5,4],[0,1,5],[1,2,7,6],[2,3,8,7],[3,4,9,8],[4,5,10,9],[5,1,6,10],[6,7,11],[7,8,11],[8,9,11],[9,10,11],[10,6,11]], color:'#0000ff', opacity:1},{vertices:[{x:0.5,y:0.666667,z:-0.888889},{x:0.44,y:0.846667,z:-0.888889},{x:0.477066,y:0.845202,z:-0.948881},{x:0.439217,y:0.810225,z:-0.997039},{x:0.378759,y:0.790073,z:-0.96681},{x:0.379243,y:0.812595,z:-0.899969},{x:0.422857,y:0.820952,z:-0.940317}], faces:[[0,2,1],[0,3,2],[0,4,3],[0,5,4],[0,1,5],[1,2,6],[2,3,6],[3,4,6],[4,5,6],[5,1,6]], color:'#0000ff', opacity:1},{vertices:[{x:0.418213,y:0.89087,z:-0.648478},{x:0.426641,y:0.900033,z:-0.632826},{x:0.433604,y:0.901717,z:-0.65522},{x:0.419297,y:0.88841,z:-0.668297},{x:0.403491,y:0.878502,z:-0.653985},{x:0.40803,y:0.885686,z:-0.632063},{x:0.341761,y:1.00916,z:-0.651014},{x:0.348725,y:1.01085,z:-0.673408},{x:0.334418,y:0.99754,z:-0.686485},{x:0.318612,y:0.987632,z:-0.672174},{x:0.323151,y:0.994816,z:-0.650252},{x:0.333333,y:1,z:-0.666667}], faces:[[0,2,1],[0,3,2],[0,4,3],[0,5,4],[0,1,5],[1,2,7,6],[2,3,8,7],[3,4,9,8],[4,5,10,9],[5,1,6,10],[6,7,11],[7,8,11],[8,9,11],[9,10,11],[10,6,11]], color:'#0000ff', opacity:1},{vertices:[{x:0.527778,y:0.75,z:-0.625},{x:0.443497,y:0.918361,z:-0.601522},{x:0.464386,y:0.923412,z:-0.668702},{x:0.421465,y:0.88349,z:-0.707934},{x:0.374049,y:0.853767,z:-0.665},{x:0.387665,y:0.875318,z:-0.599234},{x:0.418213,y:0.89087,z:-0.648478}], faces:[[0,2,1],[0,3,2],[0,4,3],[0,5,4],[0,1,5],[1,2,6],[2,3,6],[3,4,6],[4,5,6],[5,1,6]], color:'#0000ff', opacity:1},{vertices:[{x:0.411556,y:0.941333,z:-0.333333},{x:0.421156,y:0.954133,z:-0.321333},{x:0.42137,y:0.954419,z:-0.344842},{x:0.408021,y:0.936621,z:-0.352446},{x:0.399557,y:0.925335,z:-0.333637},{x:0.407675,y:0.936159,z:-0.314408},{x:0.342933,y:1.0128,z:-0.321333},{x:0.343148,y:1.01309,z:-0.344842},{x:0.329799,y:0.995287,z:-0.352446},{x:0.321335,y:0.984002,z:-0.333637},{x:0.329452,y:0.994825,z:-0.314408},{x:0.333333,y:1,z:-0.333333}], faces:[[0,2,1],[0,3,2],[0,4,3],[0,5,4],[0,1,5],[1,2,7,6],[2,3,8,7],[3,4,9,8],[4,5,10,9],[5,1,6,10],[6,7,11],[7,8,11],[8,9,11],[9,10,11],[10,6,11]], color:'#0000ff', opacity:1},{vertices:[{x:0.555556,y:0.833333,z:-0.333333},{x:0.440356,y:0.979733,z:-0.297333},{x:0.440998,y:0.98059,z:-0.367859},{x:0.400952,y:0.927195,z:-0.390672},{x:0.37556,y:0.893339,z:-0.334244},{x:0.399912,y:0.925809,z:-0.276558},{x:0.411556,y:0.941333,z:-0.333333}], faces:[[0,2,1],[0,3,2],[0,4,3],[0,5,4],[0,1,5],[1,2,6],[2,3,6],[3,4,6],[4,5,6],[5,1,6]], color:'#0000ff', opacity:1},{vertices:[{x:0.412807,y:0.973509,z:-0.0044152},{x:0.419123,y:0.991404,z:0.00190058},{x:0.41576,y:0.985045,z:-0.0204835},{x:0.408316,y:0.962744,z:-0.0206618},{x:0.407079,y:0.955319,z:0.0016122},{x:0.413758,y:0.973032,z:0.0155565},{x:0.339649,y:1.01789,z:0.00631579},{x:0.336286,y:1.01154,z:-0.0160683},{x:0.328842,y:0.989235,z:-0.0162466},{x:0.327605,y:0.981811,z:0.0060274},{x:0.334284,y:0.999523,z:0.0199717},{x:0.333333,y:1,z:0}], faces:[[0,2,1],[0,3,2],[0,4,3],[0,5,4],[0,1,5],[1,2,7,6],[2,3,8,7],[3,4,9,8],[4,5,10,9],[5,1,6,10],[6,7,11],[7,8,11],[8,9,11],[9,10,11],[10,6,11]], color:'#0000ff', opacity:1},{vertices:[{x:0.583333,y:0.916667,z:-0.0138889},{x:0.431754,y:1.02719,z:0.0145322},{x:0.421665,y:1.00812,z:-0.0526202},{x:0.399334,y:0.941214,z:-0.0531549},{x:0.395622,y:0.91894,z:0.013667},{x:0.415659,y:0.972078,z:0.0554999},{x:0.412807,y:0.973509,z:-0.0044152}], faces:[[0,2,1],[0,3,2],[0,4,3],[0,5,4],[0,1,5],[1,2,6],[2,3,6],[3,4,6],[4,5,6],[5,1,6]], color:'#0000ff', opacity:1},{vertices:[{x:0.431111,y:1,z:0.333333},{x:0.431111,y:1.02,z:0.333333},{x:0.431111,y:1.00618,z:0.314312},{x:0.431111,y:0.98382,z:0.321578},{x:0.431111,y:0.98382,z:0.345089},{x:0.431111,y:1.00618,z:0.352354},{x:0.333333,y:1.02,z:0.333333},{x:0.333333,y:1.00618,z:0.314312},{x:0.333333,y:0.98382,z:0.321578},{x:0.333333,y:0.98382,z:0.345089},{x:0.333333,y:1.00618,z:0.352354},{x:0.333333,y:1,z:0.333333}], faces:[[0,2,1],[0,3,2],[0,4,3],[0,5,4],[0,1,5],[1,2,7,6],[2,3,8,7],[3,4,9,8],[4,5,10,9],[5,1,6,10],[6,7,11],[7,8,11],[8,9,11],[9,10,11],[10,6,11]], color:'#0000ff', opacity:1},{vertices:[{x:0.611111,y:1,z:0.333333},{x:0.431111,y:1.06,z:0.333333},{x:0.431111,y:1.01854,z:0.27627},{x:0.431111,y:0.951459,z:0.298066},{x:0.431111,y:0.951459,z:0.3686},{x:0.431111,y:1.01854,z:0.390397},{x:0.431111,y:1,z:0.333333}], faces:[[0,2,1],[0,3,2],[0,4,3],[0,5,4],[0,1,5],[1,2,6],[2,3,6],[3,4,6],[4,5,6],[5,1,6]], color:'#0000ff', opacity:1},{vertices:[{x:0.466715,y:1.03638,z:0.684855},{x:0.4623,y:1.05517,z:0.679638},{x:0.468977,y:1.03799,z:0.665049},{x:0.472528,y:1.01858,z:0.677831},{x:0.468046,y:1.02377,z:0.700321},{x:0.461725,y:1.04638,z:0.701437},{x:0.328919,y:1.0188,z:0.661449},{x:0.335595,y:1.00161,z:0.64686},{x:0.339146,y:0.982199,z:0.659643},{x:0.334664,y:0.987389,z:0.682132},{x:0.328343,y:1.01001,z:0.683249},{x:0.333333,y:1,z:0.666667}], faces:[[0,2,1],[0,3,2],[0,4,3],[0,5,4],[0,1,5],[1,2,7,6],[2,3,8,7],[3,4,9,8],[4,5,10,9],[5,1,6,10],[6,7,11],[7,8,11],[8,9,11],[9,10,11],[10,6,11]], color:'#0000ff', opacity:1},{vertices:[{x:0.638889,y:1.08333,z:0.708333},{x:0.453471,y:1.09276,z:0.669203},{x:0.473501,y:1.04121,z:0.625436},{x:0.484153,y:0.982973,z:0.663784},{x:0.470707,y:0.998543,z:0.731252},{x:0.451744,y:1.0664,z:0.734601},{x:0.466715,y:1.03638,z:0.684855}], faces:[[0,2,1],[0,3,2],[0,4,3],[0,5,4],[0,1,5],[1,2,6],[2,3,6],[3,4,6],[4,5,6],[5,1,6]], color:'#0000ff', opacity:1},{vertices:[{x:0.512381,y:1.08952,z:1.05968},{x:0.506667,y:1.10667,z:1.05111},{x:0.518767,y:1.08939,z:1.04073},{x:0.522042,y:1.0723,z:1.05654},{x:0.511966,y:1.07901,z:1.07669},{x:0.502463,y:1.10026,z:1.07334},{x:0.327619,y:1.01714,z:0.991429},{x:0.339719,y:0.999863,z:0.981047},{x:0.342994,y:0.982772,z:0.996858},{x:0.332918,y:0.98949,z:1.01701},{x:0.323416,y:1.01073,z:1.01366},{x:0.333333,y:1,z:1}], faces:[[0,2,1],[0,3,2],[0,4,3],[0,5,4],[0,1,5],[1,2,7,6],[2,3,8,7],[3,4,9,8],[4,5,10,9],[5,1,6,10],[6,7,11],[7,8,11],[8,9,11],[9,10,11],[10,6,11]], color:'#0000ff', opacity:1},{vertices:[{x:0.666667,y:1.16667,z:1.11111},{x:0.495238,y:1.14095,z:1.03397},{x:0.531539,y:1.08911,z:1.00282},{x:0.541364,y:1.03784,z:1.05026},{x:0.511135,y:1.05799,z:1.11071},{x:0.482628,y:1.12172,z:1.10065},{x:0.512381,y:1.08952,z:1.05968}], faces:[[0,2,1],[0,3,2],[0,4,3],[0,5,4],[0,1,5],[1,2,6],[2,3,6],[3,4,6],[4,5,6],[5,1,6]], color:'#0000ff', opacity:1},{vertices:[{x:0.424194,y:-0.951505,z:-0.959588},{x:0.427419,y:-0.932151,z:-0.963459},{x:0.428872,y:-0.942456,z:-0.942376},{x:0.423859,y:-0.965268,z:-0.94508},{x:0.419309,y:-0.96906,z:-0.967833},{x:0.421509,y:-0.948592,z:-0.979192},{x:0.669892,y:-0.980645,z:-1.00387},{x:0.671345,y:-0.990951,z:-0.982789},{x:0.666332,y:-1.01376,z:-0.985492},{x:0.661782,y:-1.01755,z:-1.00824},{x:0.663982,y:-0.997087,z:-1.0196},{x:0.666667,y:-1,z:-1}], faces:[[0,2,1],[0,3,2],[0,4,3],[0,5,4],[0,1,5],[1,2,7,6],[2,3,8,7],[3,4,9,8],[4,5,10,9],[5,1,6,10],[6,7,11],[7,8,11],[8,9,11],[9,10,11],[10,6,11]], color:'#0000ff', opacity:1},{vertices:[{x:0.25,y:-0.916667,z:-0.930556},{x:0.433871,y:-0.893441,z:-0.971201},{x:0.438229,y:-0.924359,z:-0.907954},{x:0.42319,y:-0.992792,z:-0.916063},{x:0.409538,y:-1.00417,z:-0.984322},{x:0.41614,y:-0.942766,z:-1.0184},{x:0.424194,y:-0.951505,z:-0.959588}], faces:[[0,2,1],[0,3,2],[0,4,3],[0,5,4],[0,1,5],[1,2,6],[2,3,6],[3,4,6],[4,5,6],[5,1,6]], color:'#0000ff', opacity:1},{vertices:[{x:0.485556,y:-1,z:-0.666667},{x:0.485556,y:-0.98,z:-0.666667},{x:0.485556,y:-0.99382,z:-0.647646},{x:0.485556,y:-1.01618,z:-0.654911},{x:0.485556,y:-1.01618,z:-0.678422},{x:0.485556,y:-0.99382,z:-0.685688},{x:0.666667,y:-0.98,z:-0.666667},{x:0.666667,y:-0.99382,z:-0.647646},{x:0.666667,y:-1.01618,z:-0.654911},{x:0.666667,y:-1.01618,z:-0.678422},{x:0.666667,y:-0.99382,z:-0.685688},{x:0.666667,y:-1,z:-0.666667}], faces:[[0,2,1],[0,3,2],[0,4,3],[0,5,4],[0,1,5],[1,2,7,6],[2,3,8,7],[3,4,9,8],[4,5,10,9],[5,1,6,10],[6,7,11],[7,8,11],[8,9,11],[9,10,11],[10,6,11]], color:'#0000ff', opacity:1},{vertices:[{x:0.305556,y:-1,z:-0.666667},{x:0.485556,y:-0.94,z:-0.666667},{x:0.485556,y:-0.981459,z:-0.609603},{x:0.485556,y:-1.04854,z:-0.6314},{x:0.485556,y:-1.04854,z:-0.701934},{x:0.485556,y:-0.981459,z:-0.72373},{x:0.485556,y:-1,z:-0.666667}], faces:[[0,2,1],[0,3,2],[0,4,3],[0,5,4],[0,1,5],[1,2,6],[2,3,6],[3,4,6],[4,5,6],[5,1,6]], color:'#0000ff', opacity:1},{vertices:[{x:0.533285,y:-1.03638,z:-0.351522},{x:0.527546,y:-1.01794,z:-0.346304},{x:0.530519,y:-1.03614,z:-0.331715},{x:0.537315,y:-1.05466,z:-0.344498},{x:0.538541,y:-1.04792,z:-0.366987},{x:0.532504,y:-1.02522,z:-0.368104},{x:0.660928,y:-0.981565,z:-0.328116},{x:0.663901,y:-0.999762,z:-0.313527},{x:0.670696,y:-1.01829,z:-0.32631},{x:0.671923,y:-1.01154,z:-0.348799},{x:0.665886,y:-0.988845,z:-0.349915},{x:0.666667,y:-1,z:-0.333333}], faces:[[0,2,1],[0,3,2],[0,4,3],[0,5,4],[0,1,5],[1,2,7,6],[2,3,8,7],[3,4,9,8],[4,5,10,9],[5,1,6,10],[6,7,11],[7,8,11],[8,9,11],[9,10,11],[10,6,11]], color:'#0000ff', opacity:1},{vertices:[{x:0.361111,y:-1.08333,z:-0.375},{x:0.516068,y:-0.981072,z:-0.33587},{x:0.524987,y:-1.03566,z:-0.292103},{x:0.545374,y:-1.09124,z:-0.330451},{x:0.549054,y:-1.071,z:-0.397918},{x:0.530942,y:-1.00291,z:-0.401267},{x:0.533285,y:-1.03638,z:-0.351522}], faces:[[0,2,1],[0,3,2],[0,4,3],[0,5,4],[0,1,5],[1,2,6],[2,3,6],[3,4,6],[4,5,6],[5,1,6]], color:'#0000ff', opacity:1},{vertices:[{x:0.563939,y:-1.06848,z:-0.0228283},{x:0.55303,y:-1.05576,z:-0.0119192},{x:0.564027,y:-1.07493,z:-0.00389445},{x:0.574902,y:-1.08519,z:-0.0220356},{x:0.570628,y:-1.07237,z:-0.0412722},{x:0.55711,y:-1.05418,z:-0.0350199},{x:0.655758,y:-0.987273,z:0.0109091},{x:0.666754,y:-1.00644,z:0.0189338},{x:0.67763,y:-1.01671,z:0.000792664},{x:0.673355,y:-1.00388,z:-0.0184439},{x:0.659837,y:-0.985692,z:-0.0121916},{x:0.666667,y:-1,z:0}], faces:[[0,2,1],[0,3,2],[0,4,3],[0,5,4],[0,1,5],[1,2,7,6],[2,3,8,7],[3,4,9,8],[4,5,10,9],[5,1,6,10],[6,7,11],[7,8,11],[8,9,11],[9,10,11],[10,6,11]], color:'#0000ff', opacity:1},{vertices:[{x:0.416667,y:-1.16667,z:-0.0555556},{x:0.531212,y:-1.0303,z:0.00989899},{x:0.564201,y:-1.08781,z:0.0339732},{x:0.596829,y:-1.11861,z:-0.0204503},{x:0.584004,y:-1.08014,z:-0.0781601},{x:0.543451,y:-1.02556,z:-0.0594032},{x:0.563939,y:-1.06848,z:-0.0228283}], faces:[[0,2,1],[0,3,2],[0,4,3],[0,5,4],[0,1,5],[1,2,6],[2,3,6],[3,4,6],[4,5,6],[5,1,6]], color:'#0000ff', opacity:1},{vertices:[{x:0.581787,y:-1.10913,z:0.315145},{x:0.570831,y:-1.10322,z:0.330797},{x:0.589318,y:-1.11772,z:0.33156},{x:0.597398,y:-1.12035,z:0.309638},{x:0.583905,y:-1.10747,z:0.295326},{x:0.567485,y:-1.09688,z:0.308404},{x:0.65571,y:-0.994087,z:0.348986},{x:0.674197,y:-1.00859,z:0.349748},{x:0.682277,y:-1.01122,z:0.327826},{x:0.668784,y:-0.998344,z:0.313515},{x:0.652364,y:-0.987752,z:0.326592},{x:0.666667,y:-1,z:0.333333}], faces:[[0,2,1],[0,3,2],[0,4,3],[0,5,4],[0,1,5],[1,2,7,6],[2,3,8,7],[3,4,9,8],[4,5,10,9],[5,1,6,10],[6,7,11],[7,8,11],[8,9,11],[9,10,11],[10,6,11]], color:'#0000ff', opacity:1},{vertices:[{x:0.472222,y:-1.25,z:0.291667},{x:0.548918,y:-1.09139,z:0.362101},{x:0.60438,y:-1.13491,z:0.36439},{x:0.62862,y:-1.1428,z:0.298623},{x:0.588139,y:-1.10416,z:0.255689},{x:0.538881,y:-1.07239,z:0.294921},{x:0.581787,y:-1.10913,z:0.315145}], faces:[[0,2,1],[0,3,2],[0,4,3],[0,5,4],[0,1,5],[1,2,6],[2,3,6],[3,4,6],[4,5,6],[5,1,6]], color:'#0000ff', opacity:1},{vertices:[{x:0.597009,y:-1.16718,z:0.666667},{x:0.589908,y:-1.16422,z:0.685128},{x:0.611022,y:-1.17302,z:0.679687},{x:0.61277,y:-1.17375,z:0.656252},{x:0.592736,y:-1.1654,z:0.64721},{x:0.578607,y:-1.15951,z:0.665056},{x:0.659566,y:-0.997041,z:0.685128},{x:0.68068,y:-1.00584,z:0.679687},{x:0.682428,y:-1.00657,z:0.656252},{x:0.662394,y:-0.99822,z:0.64721},{x:0.648265,y:-0.992333,z:0.665056},{x:0.666667,y:-1,z:0.666667}], faces:[[0,2,1],[0,3,2],[0,4,3],[0,5,4],[0,1,5],[1,2,7,6],[2,3,8,7],[3,4,9,8],[4,5,10,9],[5,1,6,10],[6,7,11],[7,8,11],[8,9,11],[9,10,11],[10,6,11]], color:'#0000ff', opacity:1},{vertices:[{x:0.527778,y:-1.33333,z:0.666667},{x:0.575707,y:-1.1583,z:0.722051},{x:0.639048,y:-1.1847,z:0.705729},{x:0.644292,y:-1.18688,z:0.635424},{x:0.584192,y:-1.16184,z:0.608295},{x:0.541804,y:-1.14418,z:0.661834},{x:0.597009,y:-1.16718,z:0.666667}], faces:[[0,2,1],[0,3,2],[0,4,3],[0,5,4],[0,1,5],[1,2,6],[2,3,6],[3,4,6],[4,5,6],[5,1,6]], color:'#0000ff', opacity:1},{vertices:[{x:0.618172,y:-1.24247,z:1.04041},{x:0.614946,y:-1.2386,z:1.05977},{x:0.635583,y:-1.24434,z:1.05007},{x:0.632158,y:-1.2475,z:1.02703},{x:0.609405,y:-1.24371,z:1.02248},{x:0.598768,y:-1.23821,z:1.04271},{x:0.663441,y:-0.996129,z:1.01935},{x:0.684077,y:-1.00187,z:1.00966},{x:0.680653,y:-1.00503,z:0.986617},{x:0.6579,y:-1.00124,z:0.982066},{x:0.647262,y:-0.995736,z:1.0023},{x:0.666667,y:-1,z:1}], faces:[[0,2,1],[0,3,2],[0,4,3],[0,5,4],[0,1,5],[1,2,7,6],[2,3,8,7],[3,4,9,8],[4,5,10,9],[5,1,6,10],[6,7,11],[7,8,11],[8,9,11],[9,10,11],[10,6,11]], color:'#0000ff', opacity:1},{vertices:[{x:0.583333,y:-1.41667,z:1.06944},{x:0.608495,y:-1.23086,z:1.09848},{x:0.670404,y:-1.24809,z:1.0694},{x:0.660131,y:-1.25756,z:1.00026},{x:0.591872,y:-1.24618,z:0.986611},{x:0.559959,y:-1.22968,z:1.04731},{x:0.618172,y:-1.24247,z:1.04041}], faces:[[0,2,1],[0,3,2],[0,4,3],[0,5,4],[0,1,5],[1,2,6],[2,3,6],[3,4,6],[4,5,6],[5,1,6]], color:'#0000ff', opacity:1},{vertices:[{x:0.499487,y:-0.666667,z:-0.930342},{x:0.499487,y:-0.646667,z:-0.930342},{x:0.506803,y:-0.660486,z:-0.912784},{x:0.504009,y:-0.682847,z:-0.91949},{x:0.494966,y:-0.682847,z:-0.941193},{x:0.492171,y:-0.660486,z:-0.9479},{x:0.666667,y:-0.646667,z:-1},{x:0.673982,y:-0.660486,z:-0.982442},{x:0.671188,y:-0.682847,z:-0.989149},{x:0.662145,y:-0.682847,z:-1.01085},{x:0.659351,y:-0.660486,z:-1.01756},{x:0.666667,y:-0.666667,z:-1}], faces:[[0,2,1],[0,3,2],[0,4,3],[0,5,4],[0,1,5],[1,2,7,6],[2,3,8,7],[3,4,9,8],[4,5,10,9],[5,1,6,10],[6,7,11],[7,8,11],[8,9,11],[9,10,11],[10,6,11]], color:'#0000ff', opacity:1},{vertices:[{x:0.333333,y:-0.666667,z:-0.861111},{x:0.499487,y:-0.606667,z:-0.930342},{x:0.521435,y:-0.648126,z:-0.877668},{x:0.513051,y:-0.715208,z:-0.897788},{x:0.485923,y:-0.715208,z:-0.962896},{x:0.47754,y:-0.648126,z:-0.983016},{x:0.499487,y:-0.666667,z:-0.930342}], faces:[[0,2,1],[0,3,2],[0,4,3],[0,5,4],[0,1,5],[1,2,6],[2,3,6],[3,4,6],[4,5,6],[5,1,6]], color:'#0000ff', opacity:1},{vertices:[{x:0.560317,y:-0.687937,z:-0.640079},{x:0.557387,y:-0.668523,z:-0.63627},{x:0.564498,y:-0.684724,z:-0.620787},{x:0.565832,y:-0.705365,z:-0.631965},{x:0.559545,y:-0.70192,z:-0.654357},{x:0.554326,y:-0.67915,z:-0.657018},{x:0.663736,y:-0.647253,z:-0.662857},{x:0.670847,y:-0.663454,z:-0.647374},{x:0.672181,y:-0.684095,z:-0.658553},{x:0.665894,y:-0.68065,z:-0.680945},{x:0.660675,y:-0.65788,z:-0.683605},{x:0.666667,y:-0.666667,z:-0.666667}], faces:[[0,2,1],[0,3,2],[0,4,3],[0,5,4],[0,1,5],[1,2,7,6],[2,3,8,7],[3,4,9,8],[4,5,10,9],[5,1,6,10],[6,7,11],[7,8,11],[8,9,11],[9,10,11],[10,6,11]], color:'#0000ff', opacity:1},{vertices:[{x:0.388889,y:-0.722222,z:-0.597222},{x:0.551526,y:-0.629695,z:-0.628651},{x:0.57286,y:-0.6783,z:-0.582202},{x:0.57686,y:-0.740222,z:-0.615738},{x:0.557999,y:-0.729888,z:-0.682913},{x:0.542342,y:-0.661578,z:-0.690894},{x:0.560317,y:-0.687937,z:-0.640079}], faces:[[0,2,1],[0,3,2],[0,4,3],[0,5,4],[0,1,5],[1,2,6],[2,3,6],[3,4,6],[4,5,6],[5,1,6]], color:'#0000ff', opacity:1},{vertices:[{x:0.604444,y:-0.697778,z:-0.325556},{x:0.597333,y:-0.681333,z:-0.316667},{x:0.607742,y:-0.699459,z:-0.305901},{x:0.613594,y:-0.715261,z:-0.322297},{x:0.606801,y:-0.706902,z:-0.343196},{x:0.596752,y:-0.685933,z:-0.339716},{x:0.659556,y:-0.650222,z:-0.324444},{x:0.669964,y:-0.668348,z:-0.313679},{x:0.675816,y:-0.68415,z:-0.330075},{x:0.669024,y:-0.675791,z:-0.350974},{x:0.658974,y:-0.654822,z:-0.347494},{x:0.666667,y:-0.666667,z:-0.333333}], faces:[[0,2,1],[0,3,2],[0,4,3],[0,5,4],[0,1,5],[1,2,7,6],[2,3,8,7],[3,4,9,8],[4,5,10,9],[5,1,6,10],[6,7,11],[7,8,11],[8,9,11],[9,10,11],[10,6,11]], color:'#0000ff', opacity:1},{vertices:[{x:0.444444,y:-0.777778,z:-0.305556},{x:0.583111,y:-0.648444,z:-0.298889},{x:0.614337,y:-0.702822,z:-0.266592},{x:0.631892,y:-0.750229,z:-0.315781},{x:0.611515,y:-0.72515,z:-0.378478},{x:0.581367,y:-0.662244,z:-0.368038},{x:0.604444,y:-0.697778,z:-0.325556}], faces:[[0,2,1],[0,3,2],[0,4,3],[0,5,4],[0,1,5],[1,2,6],[2,3,6],[3,4,6],[4,5,6],[5,1,6]], color:'#0000ff', opacity:1},{vertices:[{x:0.627059,y:-0.706275,z:0.00330065},{x:0.617647,y:-0.695686,z:0.0174183},{x:0.63422,y:-0.711954,z:0.0210899},{x:0.640897,y:-0.720373,z:0.000177382},{x:0.628449,y:-0.709308,z:-0.0164189},{x:0.61408,y:-0.694051,z:-0.00576343},{x:0.657255,y:-0.656078,z:0.0141176},{x:0.673828,y:-0.672346,z:0.0177893},{x:0.680505,y:-0.680765,z:-0.00312327},{x:0.668057,y:-0.669701,z:-0.0197196},{x:0.653688,y:-0.654444,z:-0.00906409},{x:0.666667,y:-0.666667,z:0}], faces:[[0,2,1],[0,3,2],[0,4,3],[0,5,4],[0,1,5],[1,2,7,6],[2,3,8,7],[3,4,9,8],[4,5,10,9],[5,1,6,10],[6,7,11],[7,8,11],[8,9,11],[9,10,11],[10,6,11]], color:'#0000ff', opacity:1},{vertices:[{x:0.5,y:-0.833333,z:0.0138889},{x:0.598824,y:-0.67451,z:0.0456536},{x:0.648544,y:-0.723312,z:0.0566685},{x:0.668572,y:-0.748569,z:-0.00606916},{x:0.631231,y:-0.715376,z:-0.055858},{x:0.588124,y:-0.669605,z:-0.0238916},{x:0.627059,y:-0.706275,z:0.00330065}], faces:[[0,2,1],[0,3,2],[0,4,3],[0,5,4],[0,1,5],[1,2,6],[2,3,6],[3,4,6],[4,5,6],[5,1,6]], color:'#0000ff', opacity:1},{vertices:[{x:0.635556,y:-0.728889,z:0.341111},{x:0.628444,y:-0.723111,z:0.358889},{x:0.648998,y:-0.733867,z:0.355059},{x:0.650974,y:-0.737743,z:0.331953},{x:0.631643,y:-0.729383,z:0.321504},{x:0.617719,y:-0.72034,z:0.338151},{x:0.659556,y:-0.660889,z:0.351111},{x:0.680109,y:-0.671644,z:0.347281},{x:0.682085,y:-0.675521,z:0.324176},{x:0.662754,y:-0.667161,z:0.313726},{x:0.64883,y:-0.658118,z:0.330373},{x:0.666667,y:-0.666667,z:0.333333}], faces:[[0,2,1],[0,3,2],[0,4,3],[0,5,4],[0,1,5],[1,2,7,6],[2,3,8,7],[3,4,9,8],[4,5,10,9],[5,1,6,10],[6,7,11],[7,8,11],[8,9,11],[9,10,11],[10,6,11]], color:'#0000ff', opacity:1},{vertices:[{x:0.555556,y:-0.888889,z:0.361111},{x:0.614222,y:-0.711556,z:0.394444},{x:0.675882,y:-0.743822,z:0.382954},{x:0.681812,y:-0.755451,z:0.313638},{x:0.623817,y:-0.730372,z:0.282289},{x:0.582044,y:-0.703243,z:0.332231},{x:0.635556,y:-0.728889,z:0.341111}], faces:[[0,2,1],[0,3,2],[0,4,3],[0,5,4],[0,1,5],[1,2,6],[2,3,6],[3,4,6],[4,5,6],[5,1,6]], color:'#0000ff', opacity:1},{vertices:[{x:0.645397,y:-0.773016,z:0.693254},{x:0.642466,y:-0.767668,z:0.712302},{x:0.662955,y:-0.77415,z:0.702763},{x:0.659179,y:-0.779065,z:0.680083},{x:0.636356,y:-0.77562,z:0.675605},{x:0.626028,y:-0.768576,z:0.695517},{x:0.663736,y:-0.661319,z:0.685714},{x:0.684225,y:-0.667801,z:0.676176},{x:0.680449,y:-0.672716,z:0.653496},{x:0.657626,y:-0.669271,z:0.649018},{x:0.647297,y:-0.662227,z:0.66893},{x:0.666667,y:-0.666667,z:0.666667}], faces:[[0,2,1],[0,3,2],[0,4,3],[0,5,4],[0,1,5],[1,2,7,6],[2,3,8,7],[3,4,9,8],[4,5,10,9],[5,1,6,10],[6,7,11],[7,8,11],[8,9,11],[9,10,11],[10,6,11]], color:'#0000ff', opacity:1},{vertices:[{x:0.611111,y:-0.944444,z:0.736111},{x:0.636606,y:-0.756972,z:0.750397},{x:0.698071,y:-0.776419,z:0.721781},{x:0.686743,y:-0.791163,z:0.653742},{x:0.618275,y:-0.780828,z:0.640307},{x:0.587289,y:-0.759697,z:0.700043},{x:0.645397,y:-0.773016,z:0.693254}], faces:[[0,2,1],[0,3,2],[0,4,3],[0,5,4],[0,1,5],[1,2,6],[2,3,6],[3,4,6],[4,5,6],[5,1,6]], color:'#0000ff', opacity:1},{vertices:[{x:0.666667,y:-0.833846,z:1.06966},{x:0.666667,y:-0.826154,z:1.08812},{x:0.685688,y:-0.831469,z:1.07536},{x:0.678422,y:-0.840069,z:1.05472},{x:0.654911,y:-0.840069,z:1.05472},{x:0.647646,y:-0.831469,z:1.07536},{x:0.666667,y:-0.658974,z:1.01846},{x:0.685688,y:-0.66429,z:1.0057},{x:0.678422,y:-0.67289,z:0.985064},{x:0.654911,y:-0.67289,z:0.985064},{x:0.647646,y:-0.66429,z:1.0057},{x:0.666667,y:-0.666667,z:1}], faces:[[0,2,1],[0,3,2],[0,4,3],[0,5,4],[0,1,5],[1,2,7,6],[2,3,8,7],[3,4,9,8],[4,5,10,9],[5,1,6,10],[6,7,11],[7,8,11],[8,9,11],[9,10,11],[10,6,11]], color:'#0000ff', opacity:1},{vertices:[{x:0.666667,y:-1,z:1.13889},{x:0.666667,y:-0.810769,z:1.12504},{x:0.72373,y:-0.826715,z:1.08677},{x:0.701934,y:-0.852516,z:1.02485},{x:0.6314,y:-0.852516,z:1.02485},{x:0.609603,y:-0.826715,z:1.08677},{x:0.666667,y:-0.833846,z:1.06966}], faces:[[0,2,1],[0,3,2],[0,4,3],[0,5,4],[0,1,5],[1,2,6],[2,3,6],[3,4,6],[4,5,6],[5,1,6]], color:'#0000ff', opacity:1},{vertices:[{x:0.557536,y:-0.36971,z:-0.921184},{x:0.554928,y:-0.35058,z:-0.915966},{x:0.568308,y:-0.36628,z:-0.904685},{x:0.566802,y:-0.38672,z:-0.916204},{x:0.552491,y:-0.383654,z:-0.934605},{x:0.545152,y:-0.361317,z:-0.934457},{x:0.664058,y:-0.314203,z:-0.994783},{x:0.677439,y:-0.329903,z:-0.983502},{x:0.675933,y:-0.350344,z:-0.995021},{x:0.661621,y:-0.347277,z:-1.01342},{x:0.654282,y:-0.324941,z:-1.01327},{x:0.666667,y:-0.333333,z:-1}], faces:[[0,2,1],[0,3,2],[0,4,3],[0,5,4],[0,1,5],[1,2,7,6],[2,3,8,7],[3,4,9,8],[4,5,10,9],[5,1,6,10],[6,7,11],[7,8,11],[8,9,11],[9,10,11],[10,6,11]], color:'#0000ff', opacity:1},{vertices:[{x:0.416667,y:-0.416667,z:-0.819444},{x:0.54971,y:-0.312319,z:-0.905531},{x:0.589852,y:-0.359418,z:-0.871688},{x:0.585335,y:-0.420741,z:-0.906246},{x:0.542401,y:-0.411541,z:-0.961447},{x:0.520384,y:-0.344532,z:-0.961005},{x:0.557536,y:-0.36971,z:-0.921184}], faces:[[0,2,1],[0,3,2],[0,4,3],[0,5,4],[0,1,5],[1,2,6],[2,3,6],[3,4,6],[4,5,6],[5,1,6]], color:'#0000ff', opacity:1},{vertices:[{x:0.612222,y:-0.364444,z:-0.635556},{x:0.607436,y:-0.347179,z:-0.626667},{x:0.621798,y:-0.363661,z:-0.618015},{x:0.622927,y:-0.381225,z:-0.633603},{x:0.609262,y:-0.375599,z:-0.65189},{x:0.599688,y:-0.354557,z:-0.647603},{x:0.66188,y:-0.316068,z:-0.657778},{x:0.676243,y:-0.33255,z:-0.649126},{x:0.677371,y:-0.350114,z:-0.664715},{x:0.663707,y:-0.344488,z:-0.683001},{x:0.654133,y:-0.323446,z:-0.678714},{x:0.666667,y:-0.333333,z:-0.666667}], faces:[[0,2,1],[0,3,2],[0,4,3],[0,5,4],[0,1,5],[1,2,7,6],[2,3,8,7],[3,4,9,8],[4,5,10,9],[5,1,6,10],[6,7,11],[7,8,11],[8,9,11],[9,10,11],[10,6,11]], color:'#0000ff', opacity:1},{vertices:[{x:0.472222,y:-0.444444,z:-0.555556},{x:0.597863,y:-0.31265,z:-0.608889},{x:0.64095,y:-0.362095,z:-0.582932},{x:0.644336,y:-0.414787,z:-0.629699},{x:0.603342,y:-0.397907,z:-0.684559},{x:0.57462,y:-0.334783,z:-0.671698},{x:0.612222,y:-0.364444,z:-0.635556}], faces:[[0,2,1],[0,3,2],[0,4,3],[0,5,4],[0,1,5],[1,2,6],[2,3,6],[3,4,6],[4,5,6],[5,1,6]], color:'#0000ff', opacity:1},{vertices:[{x:0.647778,y:-0.352222,z:-0.323889},{x:0.641111,y:-0.338889,z:-0.310556},{x:0.658398,y:-0.354442,z:-0.307088},{x:0.661008,y:-0.366928,z:-0.326839},{x:0.645334,y:-0.359091,z:-0.342513},{x:0.633037,y:-0.341762,z:-0.332449},{x:0.66,y:-0.32,z:-0.32},{x:0.677287,y:-0.335553,z:-0.316532},{x:0.679897,y:-0.348039,z:-0.336283},{x:0.664223,y:-0.340202,z:-0.351957},{x:0.651926,y:-0.322873,z:-0.341894},{x:0.666667,y:-0.333333,z:-0.333333}], faces:[[0,2,1],[0,3,2],[0,4,3],[0,5,4],[0,1,5],[1,2,7,6],[2,3,8,7],[3,4,9,8],[4,5,10,9],[5,1,6,10],[6,7,11],[7,8,11],[8,9,11],[9,10,11],[10,6,11]], color:'#0000ff', opacity:1},{vertices:[{x:0.527778,y:-0.472222,z:-0.263889},{x:0.627778,y:-0.312222,z:-0.283889},{x:0.67964,y:-0.358883,z:-0.273486},{x:0.68747,y:-0.396339,z:-0.332738},{x:0.640447,y:-0.372827,z:-0.379761},{x:0.603555,y:-0.32084,z:-0.34957},{x:0.647778,y:-0.352222,z:-0.323889}], faces:[[0,2,1],[0,3,2],[0,4,3],[0,5,4],[0,1,5],[1,2,6],[2,3,6],[3,4,6],[4,5,6],[5,1,6]], color:'#0000ff', opacity:1},{vertices:[{x:0.660476,y:-0.345714,z:0.00412698},{x:0.654762,y:-0.337143,z:0.0212698},{x:0.675014,y:-0.3485,z:0.0175763},{x:0.675175,y:-0.356007,z:-0.00470372},{x:0.655023,y:-0.34929,z:-0.01478},{x:0.642407,y:-0.337631,z:0.00127251},{x:0.660952,y:-0.324762,z:0.0171429},{x:0.681205,y:-0.336119,z:0.0134493},{x:0.681366,y:-0.343627,z:-0.0088307},{x:0.661213,y:-0.336909,z:-0.018907},{x:0.648597,y:-0.32525,z:-0.00285448},{x:0.666667,y:-0.333333,z:0}], faces:[[0,2,1],[0,3,2],[0,4,3],[0,5,4],[0,1,5],[1,2,7,6],[2,3,8,7],[3,4,9,8],[4,5,10,9],[5,1,6,10],[6,7,11],[7,8,11],[8,9,11],[9,10,11],[10,6,11]], color:'#0000ff', opacity:1},{vertices:[{x:0.583333,y:-0.5,z:0.0555556},{x:0.643333,y:-0.32,z:0.0555556},{x:0.70409,y:-0.354072,z:0.044475},{x:0.704574,y:-0.376594,z:-0.0223651},{x:0.644116,y:-0.356441,z:-0.0525941},{x:0.606267,y:-0.321464,z:-0.00443645},{x:0.660476,y:-0.345714,z:0.00412698}], faces:[[0,2,1],[0,3,2],[0,4,3],[0,5,4],[0,1,5],[1,2,6],[2,3,6],[3,4,6],[4,5,6],[5,1,6]], color:'#0000ff', opacity:1},{vertices:[{x:0.662889,y:-0.359778,z:0.342778},{x:0.661022,y:-0.352844,z:0.361444},{x:0.68108,y:-0.359411,z:0.351082},{x:0.675998,y:-0.366484,z:0.329244},{x:0.6528,y:-0.36429,z:0.326109},{x:0.643545,y:-0.35586,z:0.34601},{x:0.6648,y:-0.3264,z:0.352},{x:0.684857,y:-0.332966,z:0.341638},{x:0.679776,y:-0.34004,z:0.319799},{x:0.656578,y:-0.337845,z:0.316664},{x:0.647322,y:-0.329416,z:0.336565},{x:0.666667,y:-0.333333,z:0.333333}], faces:[[0,2,1],[0,3,2],[0,4,3],[0,5,4],[0,1,5],[1,2,7,6],[2,3,8,7],[3,4,9,8],[4,5,10,9],[5,1,6,10],[6,7,11],[7,8,11],[8,9,11],[9,10,11],[10,6,11]], color:'#0000ff', opacity:1},{vertices:[{x:0.638889,y:-0.527778,z:0.402778},{x:0.657289,y:-0.338978,z:0.398778},{x:0.717461,y:-0.358676,z:0.367691},{x:0.702216,y:-0.379897,z:0.302175},{x:0.632622,y:-0.373314,z:0.292771},{x:0.604856,y:-0.348024,z:0.352474},{x:0.662889,y:-0.359778,z:0.342778}], faces:[[0,2,1],[0,3,2],[0,4,3],[0,5,4],[0,1,5],[1,2,6],[2,3,6],[3,4,6],[4,5,6],[5,1,6]], color:'#0000ff', opacity:1},{vertices:[{x:0.674444,y:-0.395556,z:0.697778},{x:0.675812,y:-0.386496,z:0.715556},{x:0.693726,y:-0.391455,z:0.701158},{x:0.684993,y:-0.402081,z:0.682089},{x:0.661683,y:-0.403689,z:0.684701},{x:0.656008,y:-0.394057,z:0.705385},{x:0.668034,y:-0.324274,z:0.684444},{x:0.685948,y:-0.329233,z:0.670047},{x:0.677216,y:-0.339859,z:0.650978},{x:0.653905,y:-0.341467,z:0.65359},{x:0.648231,y:-0.331834,z:0.674274},{x:0.666667,y:-0.333333,z:0.666667}], faces:[[0,2,1],[0,3,2],[0,4,3],[0,5,4],[0,1,5],[1,2,7,6],[2,3,8,7],[3,4,9,8],[4,5,10,9],[5,1,6,10],[6,7,11],[7,8,11],[8,9,11],[9,10,11],[10,6,11]], color:'#0000ff', opacity:1},{vertices:[{x:0.694444,y:-0.555556,z:0.777778},{x:0.678547,y:-0.368376,z:0.751111},{x:0.732288,y:-0.383255,z:0.707918},{x:0.706091,y:-0.415133,z:0.650712},{x:0.63616,y:-0.419956,z:0.658549},{x:0.619137,y:-0.391058,z:0.720599},{x:0.674444,y:-0.395556,z:0.697778}], faces:[[0,2,1],[0,3,2],[0,4,3],[0,5,4],[0,1,5],[1,2,6],[2,3,6],[3,4,6],[4,5,6],[5,1,6]], color:'#0000ff', opacity:1},{vertices:[{x:0.703043,y:-0.442464,z:1.07882},{x:0.705652,y:-0.43029,z:1.09447},{x:0.722044,y:-0.436221,z:1.07869},{x:0.712178,y:-0.450779,z:1.06309},{x:0.689688,y:-0.453846,z:1.06922},{x:0.685655,y:-0.441183,z:1.08862},{x:0.669275,y:-0.321159,z:1.01565},{x:0.685667,y:-0.32709,z:0.999875},{x:0.675801,y:-0.341649,z:0.98427},{x:0.653312,y:-0.344716,z:0.990404},{x:0.649279,y:-0.332052,z:1.0098},{x:0.666667,y:-0.333333,z:1}], faces:[[0,2,1],[0,3,2],[0,4,3],[0,5,4],[0,1,5],[1,2,7,6],[2,3,8,7],[3,4,9,8],[4,5,10,9],[5,1,6,10],[6,7,11],[7,8,11],[8,9,11],[9,10,11],[10,6,11]], color:'#0000ff', opacity:1},{vertices:[{x:0.75,y:-0.583333,z:1.18056},{x:0.71087,y:-0.405942,z:1.12577},{x:0.760044,y:-0.423735,z:1.07844},{x:0.730446,y:-0.46741,z:1.03163},{x:0.662978,y:-0.476611,z:1.05003},{x:0.650879,y:-0.438621,z:1.10821},{x:0.703043,y:-0.442464,z:1.07882}], faces:[[0,2,1],[0,3,2],[0,4,3],[0,5,4],[0,1,5],[1,2,6],[2,3,6],[3,4,6],[4,5,6],[5,1,6]], color:'#0000ff', opacity:1},{vertices:[{x:0.598182,y:-0.0684848,z:-0.920101},{x:0.594545,y:-0.0521212,z:-0.909192},{x:0.612621,y:-0.0668866,z:-0.906355},{x:0.610742,y:-0.0838607,z:-0.922514},{x:0.591505,y:-0.0795859,z:-0.935339},{x:0.581495,y:-0.0599698,z:-0.927105},{x:0.66303,y:0.0163636,z:-0.989091},{x:0.681106,y:0.00159825,z:-0.986254},{x:0.679227,y:-0.0153759,z:-1.00241},{x:0.65999,y:-0.0111011,z:-1.01524},{x:0.64998,y:0.00851503,z:-1.007},{x:0.666667,y:0,z:-1}], faces:[[0,2,1],[0,3,2],[0,4,3],[0,5,4],[0,1,5],[1,2,7,6],[2,3,8,7],[3,4,9,8],[4,5,10,9],[5,1,6,10],[6,7,11],[7,8,11],[8,9,11],[9,10,11],[10,6,11]], color:'#0000ff', opacity:1},{vertices:[{x:0.5,y:-0.166667,z:-0.805556},{x:0.587273,y:-0.0193939,z:-0.887374},{x:0.641499,y:-0.0636901,z:-0.878862},{x:0.635862,y:-0.114612,z:-0.927341},{x:0.578153,y:-0.101788,z:-0.965815},{x:0.548122,y:-0.0429398,z:-0.941113},{x:0.598182,y:-0.0684848,z:-0.920101}], faces:[[0,2,1],[0,3,2],[0,4,3],[0,5,4],[0,1,5],[1,2,6],[2,3,6],[3,4,6],[4,5,6],[5,1,6]], color:'#0000ff', opacity:1},{vertices:[{x:0.640261,y:-0.0396078,z:-0.636961},{x:0.635918,y:-0.0261237,z:-0.622843},{x:0.655186,y:-0.0395723,z:-0.623647},{x:0.653829,y:-0.05307,z:-0.64285},{x:0.633722,y:-0.0479635,z:-0.653914},{x:0.622652,y:-0.0313097,z:-0.641549},{x:0.662323,y:0.0134842,z:-0.652549},{x:0.681591,y:3.55493e-05,z:-0.653353},{x:0.680234,y:-0.0134622,z:-0.672556},{x:0.660127,y:-0.00835564,z:-0.68362},{x:0.649057,y:0.00829812,z:-0.671255},{x:0.666667,y:0,z:-0.666667}], faces:[[0,2,1],[0,3,2],[0,4,3],[0,5,4],[0,1,5],[1,2,7,6],[2,3,8,7],[3,4,9,8],[4,5,10,9],[5,1,6,10],[6,7,11],[7,8,11],[8,9,11],[9,10,11],[10,6,11]], color:'#0000ff', opacity:1},{vertices:[{x:0.555556,y:-0.166667,z:-0.541667},{x:0.62723,y:0.000844646,z:-0.594608},{x:0.685035,y:-0.0395012,z:-0.59702},{x:0.680965,y:-0.0799944,z:-0.654629},{x:0.620644,y:-0.0646748,z:-0.687821},{x:0.587434,y:-0.0147135,z:-0.650726},{x:0.640261,y:-0.0396078,z:-0.636961}], faces:[[0,2,1],[0,3,2],[0,4,3],[0,5,4],[0,1,5],[1,2,6],[2,3,6],[3,4,6],[4,5,6],[5,1,6]], color:'#0000ff', opacity:1},{vertices:[{x:0.66254,y:-0.012381,z:-0.327143},{x:0.659111,y:-0.00266667,z:-0.31},{x:0.679414,y:-0.0126398,z:-0.316411},{x:0.676397,y:-0.0222552,z:-0.337653},{x:0.65423,y:-0.0182247,z:-0.34437},{x:0.643546,y:-0.00611831,z:-0.32728},{x:0.663238,y:0.00971429,z:-0.31619},{x:0.683541,y:-0.000258886,z:-0.322601},{x:0.680524,y:-0.00987429,z:-0.343843},{x:0.658356,y:-0.00584376,z:-0.350561},{x:0.647673,y:0.00626264,z:-0.333471},{x:0.666667,y:0,z:-0.333333}], faces:[[0,2,1],[0,3,2],[0,4,3],[0,5,4],[0,1,5],[1,2,7,6],[2,3,8,7],[3,4,9,8],[4,5,10,9],[5,1,6,10],[6,7,11],[7,8,11],[8,9,11],[9,10,11],[10,6,11]], color:'#0000ff', opacity:1},{vertices:[{x:0.611111,y:-0.166667,z:-0.25},{x:0.652254,y:0.0167619,z:-0.275714},{x:0.713164,y:-0.0131576,z:-0.294947},{x:0.704113,y:-0.0420038,z:-0.358673},{x:0.637609,y:-0.0299122,z:-0.378826},{x:0.605559,y:0.00640698,z:-0.327554},{x:0.66254,y:-0.012381,z:-0.327143}], faces:[[0,2,1],[0,3,2],[0,4,3],[0,5,4],[0,1,5],[1,2,6],[2,3,6],[3,4,6],[4,5,6],[5,1,6]], color:'#0000ff', opacity:1},{vertices:[{x:0.666667,y:-0.000512821,z:0.000213675},{x:0.666667,y:0.00717949,z:0.0186752},{x:0.685688,y:0.00186423,z:0.0059186},{x:0.678422,y:-0.00673603,z:-0.014722},{x:0.654911,y:-0.00673603,z:-0.014722},{x:0.647646,y:0.00186423,z:0.0059186},{x:0.666667,y:0.00769231,z:0.0184615},{x:0.685688,y:0.00237705,z:0.00570493},{x:0.678422,y:-0.00622321,z:-0.0149357},{x:0.654911,y:-0.00622321,z:-0.0149357},{x:0.647646,y:0.00237705,z:0.00570493},{x:0.666667,y:0,z:0}], faces:[[0,2,1],[0,3,2],[0,4,3],[0,5,4],[0,1,5],[1,2,7,6],[2,3,8,7],[3,4,9,8],[4,5,10,9],[5,1,6,10],[6,7,11],[7,8,11],[8,9,11],[9,10,11],[10,6,11]], color:'#0000ff', opacity:1},{vertices:[{x:0.666667,y:-0.166667,z:0.0694444},{x:0.666667,y:0.0225641,z:0.0555983},{x:0.72373,y:0.00661834,z:0.0173285},{x:0.701934,y:-0.0191824,z:-0.0445934},{x:0.6314,y:-0.0191824,z:-0.0445934},{x:0.609603,y:0.00661834,z:0.0173285},{x:0.666667,y:-0.000512821,z:0.000213675}], faces:[[0,2,1],[0,3,2],[0,4,3],[0,5,4],[0,1,5],[1,2,6],[2,3,6],[3,4,6],[4,5,6],[5,1,6]], color:'#0000ff', opacity:1},{vertices:[{x:0.670794,y:-0.012381,z:0.339524},{x:0.674222,y:-0.00266667,z:0.356667},{x:0.689787,y:-0.00611831,z:0.339387},{x:0.679104,y:-0.0182247,z:0.322296},{x:0.656936,y:-0.0222552,z:0.329014},{x:0.653919,y:-0.0126398,z:0.350256},{x:0.670095,y:0.00971429,z:0.350476},{x:0.68566,y:0.00626264,z:0.333196},{x:0.674977,y:-0.00584376,z:0.316106},{x:0.652809,y:-0.00987429,z:0.322823},{x:0.649792,y:-0.000258886,z:0.344065},{x:0.666667,y:0,z:0.333333}], faces:[[0,2,1],[0,3,2],[0,4,3],[0,5,4],[0,1,5],[1,2,7,6],[2,3,8,7],[3,4,9,8],[4,5,10,9],[5,1,6,10],[6,7,11],[7,8,11],[8,9,11],[9,10,11],[10,6,11]], color:'#0000ff', opacity:1},{vertices:[{x:0.722222,y:-0.166667,z:0.416667},{x:0.681079,y:0.0167619,z:0.390952},{x:0.727775,y:0.00640698,z:0.339112},{x:0.695724,y:-0.0299122,z:0.287841},{x:0.62922,y:-0.0420038,z:0.307994},{x:0.620169,y:-0.0131576,z:0.37172},{x:0.670794,y:-0.012381,z:0.339524}], faces:[[0,2,1],[0,3,2],[0,4,3],[0,5,4],[0,1,5],[1,2,6],[2,3,6],[3,4,6],[4,5,6],[5,1,6]], color:'#0000ff', opacity:1},{vertices:[{x:0.693072,y:-0.0396078,z:0.696373},{x:0.697416,y:-0.0261237,z:0.71049},{x:0.710681,y:-0.0313097,z:0.691784},{x:0.699611,y:-0.0479635,z:0.679419},{x:0.679504,y:-0.05307,z:0.690483},{x:0.678147,y:-0.0395723,z:0.709686},{x:0.671011,y:0.0134842,z:0.680784},{x:0.684276,y:0.00829812,z:0.662078},{x:0.673206,y:-0.00835564,z:0.649713},{x:0.653099,y:-0.0134622,z:0.660777},{x:0.651742,y:3.55493e-05,z:0.67998},{x:0.666667,y:0,z:0.666667}], faces:[[0,2,1],[0,3,2],[0,4,3],[0,5,4],[0,1,5],[1,2,7,6],[2,3,8,7],[3,4,9,8],[4,5,10,9],[5,1,6,10],[6,7,11],[7,8,11],[8,9,11],[9,10,11],[10,6,11]], color:'#0000ff', opacity:1},{vertices:[{x:0.777778,y:-0.166667,z:0.791667},{x:0.706104,y:0.000844646,z:0.738725},{x:0.7459,y:-0.0147135,z:0.682607},{x:0.71269,y:-0.0646748,z:0.645512},{x:0.652368,y:-0.0799944,z:0.678705},{x:0.648298,y:-0.0395012,z:0.736314},{x:0.693072,y:-0.0396078,z:0.696373}], faces:[[0,2,1],[0,3,2],[0,4,3],[0,5,4],[0,1,5],[1,2,6],[2,3,6],[3,4,6],[4,5,6],[5,1,6]], color:'#0000ff', opacity:1},{vertices:[{x:0.735152,y:-0.0684848,z:1.0799},{x:0.738788,y:-0.0521212,z:1.09081},{x:0.751838,y:-0.0599698,z:1.07289},{x:0.741828,y:-0.0795859,z:1.06466},{x:0.722591,y:-0.0838607,z:1.07749},{x:0.720712,y:-0.0668866,z:1.09365},{x:0.670303,y:0.0163636,z:1.01091},{x:0.683353,y:0.00851503,z:0.992996},{x:0.673343,y:-0.0111011,z:0.984762},{x:0.654106,y:-0.0153759,z:0.997587},{x:0.652228,y:0.00159825,z:1.01375},{x:0.666667,y:0,z:1}], faces:[[0,2,1],[0,3,2],[0,4,3],[0,5,4],[0,1,5],[1,2,7,6],[2,3,8,7],[3,4,9,8],[4,5,10,9],[5,1,6,10],[6,7,11],[7,8,11],[8,9,11],[9,10,11],[10,6,11]], color:'#0000ff', opacity:1},{vertices:[{x:0.833333,y:-0.166667,z:1.19444},{x:0.746061,y:-0.0193939,z:1.11263},{x:0.785211,y:-0.0429398,z:1.05889},{x:0.755181,y:-0.101788,z:1.03419},{x:0.697471,y:-0.114612,z:1.07266},{x:0.691834,y:-0.0636901,z:1.12114},{x:0.735152,y:-0.0684848,z:1.0799}], faces:[[0,2,1],[0,3,2],[0,4,3],[0,5,4],[0,1,5],[1,2,6],[2,3,6],[3,4,6],[4,5,6],[5,1,6]], color:'#0000ff', opacity:1},{vertices:[{x:0.63029,y:0.224203,z:-0.921184},{x:0.627681,y:0.236377,z:-0.905531},{x:0.647678,y:0.225484,z:-0.911385},{x:0.643645,y:0.212821,z:-0.93078},{x:0.621156,y:0.215887,z:-0.936913},{x:0.61129,y:0.230446,z:-0.921309},{x:0.664058,y:0.345507,z:-0.984348},{x:0.684055,y:0.334614,z:-0.990201},{x:0.680022,y:0.321951,z:-1.0096},{x:0.657533,y:0.325018,z:-1.01573},{x:0.647666,y:0.339576,z:-1.00013},{x:0.666667,y:0.333333,z:-1}], faces:[[0,2,1],[0,3,2],[0,4,3],[0,5,4],[0,1,5],[1,2,7,6],[2,3,8,7],[3,4,9,8],[4,5,10,9],[5,1,6,10],[6,7,11],[7,8,11],[8,9,11],[9,10,11],[10,6,11]], color:'#0000ff', opacity:1},{vertices:[{x:0.583333,y:0.0833333,z:-0.819444},{x:0.622464,y:0.260725,z:-0.874227},{x:0.682454,y:0.228046,z:-0.891787},{x:0.670355,y:0.190056,z:-0.949972},{x:0.602888,y:0.199256,z:-0.968372},{x:0.573289,y:0.242932,z:-0.921559},{x:0.63029,y:0.224203,z:-0.921184}], faces:[[0,2,1],[0,3,2],[0,4,3],[0,5,4],[0,1,5],[1,2,6],[2,3,6],[3,4,6],[4,5,6],[5,1,6]], color:'#0000ff', opacity:1},{vertices:[{x:0.658889,y:0.271111,z:-0.635556},{x:0.657521,y:0.280171,z:-0.617778},{x:0.677325,y:0.27261,z:-0.627948},{x:0.67165,y:0.262978,z:-0.648632},{x:0.64834,y:0.264585,z:-0.651244},{x:0.639608,y:0.275211,z:-0.632175},{x:0.665299,y:0.342393,z:-0.648889},{x:0.685103,y:0.334832,z:-0.65906},{x:0.679428,y:0.3252,z:-0.679743},{x:0.656118,y:0.326808,z:-0.682355},{x:0.647386,y:0.337434,z:-0.663286},{x:0.666667,y:0.333333,z:-0.666667}], faces:[[0,2,1],[0,3,2],[0,4,3],[0,5,4],[0,1,5],[1,2,7,6],[2,3,8,7],[3,4,9,8],[4,5,10,9],[5,1,6,10],[6,7,11],[7,8,11],[8,9,11],[9,10,11],[10,6,11]], color:'#0000ff', opacity:1},{vertices:[{x:0.638889,y:0.111111,z:-0.555556},{x:0.654786,y:0.298291,z:-0.582222},{x:0.714197,y:0.275608,z:-0.612734},{x:0.697174,y:0.246711,z:-0.674785},{x:0.627242,y:0.251534,z:-0.682622},{x:0.601045,y:0.283412,z:-0.625415},{x:0.658889,y:0.271111,z:-0.635556}], faces:[[0,2,1],[0,3,2],[0,4,3],[0,5,4],[0,1,5],[1,2,6],[2,3,6],[3,4,6],[4,5,6],[5,1,6]], color:'#0000ff', opacity:1},{vertices:[{x:0.670444,y:0.306889,z:-0.323889},{x:0.672311,y:0.313822,z:-0.305222},{x:0.689789,y:0.310807,z:-0.320657},{x:0.680533,y:0.302377,z:-0.340558},{x:0.657335,y:0.300183,z:-0.337423},{x:0.652254,y:0.307256,z:-0.315584},{x:0.668533,y:0.340267,z:-0.314667},{x:0.686011,y:0.337251,z:-0.330101},{x:0.676755,y:0.328821,z:-0.350002},{x:0.653558,y:0.326627,z:-0.346868},{x:0.648476,y:0.333701,z:-0.325029},{x:0.666667,y:0.333333,z:-0.333333}], faces:[[0,2,1],[0,3,2],[0,4,3],[0,5,4],[0,1,5],[1,2,7,6],[2,3,8,7],[3,4,9,8],[4,5,10,9],[5,1,6,10],[6,7,11],[7,8,11],[8,9,11],[9,10,11],[10,6,11]], color:'#0000ff', opacity:1},{vertices:[{x:0.694444,y:0.138889,z:-0.263889},{x:0.676044,y:0.327689,z:-0.267889},{x:0.728477,y:0.318642,z:-0.314192},{x:0.700711,y:0.293353,z:-0.373896},{x:0.631117,y:0.28677,z:-0.364492},{x:0.615872,y:0.307991,z:-0.298975},{x:0.670444,y:0.306889,z:-0.323889}], faces:[[0,2,1],[0,3,2],[0,4,3],[0,5,4],[0,1,5],[1,2,6],[2,3,6],[3,4,6],[4,5,6],[5,1,6]], color:'#0000ff', opacity:1},{vertices:[{x:0.672857,y:0.320952,z:0.00412698},{x:0.678571,y:0.329524,z:0.0212698},{x:0.690927,y:0.329036,z:0.00127251},{x:0.678311,y:0.317377,z:-0.01478},{x:0.658158,y:0.310659,z:-0.00470372},{x:0.658319,y:0.318166,z:0.0175763},{x:0.672381,y:0.341905,z:0.0171429},{x:0.684736,y:0.341417,z:-0.00285448},{x:0.67212,y:0.329758,z:-0.018907},{x:0.651967,y:0.32304,z:-0.0088307},{x:0.652129,y:0.330547,z:0.0134493},{x:0.666667,y:0.333333,z:0}], faces:[[0,2,1],[0,3,2],[0,4,3],[0,5,4],[0,1,5],[1,2,7,6],[2,3,8,7],[3,4,9,8],[4,5,10,9],[5,1,6,10],[6,7,11],[7,8,11],[8,9,11],[9,10,11],[10,6,11]], color:'#0000ff', opacity:1},{vertices:[{x:0.75,y:0.166667,z:0.0555556},{x:0.69,y:0.346667,z:0.0555556},{x:0.727066,y:0.345202,z:-0.00443645},{x:0.689217,y:0.310225,z:-0.0525941},{x:0.628759,y:0.290073,z:-0.0223651},{x:0.629243,y:0.312595,z:0.044475},{x:0.672857,y:0.320952,z:0.00412698}], faces:[[0,2,1],[0,3,2],[0,4,3],[0,5,4],[0,1,5],[1,2,6],[2,3,6],[3,4,6],[4,5,6],[5,1,6]], color:'#0000ff', opacity:1},{vertices:[{x:0.685556,y:0.314444,z:0.342778},{x:0.692222,y:0.327778,z:0.356111},{x:0.700296,y:0.324905,z:0.334217},{x:0.687999,y:0.307576,z:0.324154},{x:0.672325,y:0.299739,z:0.339828},{x:0.674935,y:0.312224,z:0.359579},{x:0.673333,y:0.346667,z:0.346667},{x:0.681408,y:0.343794,z:0.324773},{x:0.66911,y:0.326465,z:0.314709},{x:0.653436,y:0.318628,z:0.330384},{x:0.656046,y:0.331113,z:0.350134},{x:0.666667,y:0.333333,z:0.333333}], faces:[[0,2,1],[0,3,2],[0,4,3],[0,5,4],[0,1,5],[1,2,7,6],[2,3,8,7],[3,4,9,8],[4,5,10,9],[5,1,6,10],[6,7,11],[7,8,11],[8,9,11],[9,10,11],[10,6,11]], color:'#0000ff', opacity:1},{vertices:[{x:0.805556,y:0.194444,z:0.402778},{x:0.705556,y:0.354444,z:0.382778},{x:0.729778,y:0.345826,z:0.317096},{x:0.692887,y:0.293839,z:0.286906},{x:0.645864,y:0.270328,z:0.333929},{x:0.653694,y:0.307784,z:0.393181},{x:0.685556,y:0.314444,z:0.342778}], faces:[[0,2,1],[0,3,2],[0,4,3],[0,5,4],[0,1,5],[1,2,6],[2,3,6],[3,4,6],[4,5,6],[5,1,6]], color:'#0000ff', opacity:1},{vertices:[{x:0.721111,y:0.302222,z:0.697778},{x:0.725897,y:0.319487,z:0.706667},{x:0.733645,y:0.312109,z:0.68573},{x:0.724071,y:0.291068,z:0.681443},{x:0.710407,y:0.285441,z:0.69973},{x:0.711535,y:0.303005,z:0.715319},{x:0.671453,y:0.350598,z:0.675556},{x:0.679201,y:0.343221,z:0.654619},{x:0.669627,y:0.322179,z:0.650332},{x:0.655962,y:0.316552,z:0.668619},{x:0.657091,y:0.334116,z:0.684208},{x:0.666667,y:0.333333,z:0.666667}], faces:[[0,2,1],[0,3,2],[0,4,3],[0,5,4],[0,1,5],[1,2,7,6],[2,3,8,7],[3,4,9,8],[4,5,10,9],[5,1,6,10],[6,7,11],[7,8,11],[8,9,11],[9,10,11],[10,6,11]], color:'#0000ff', opacity:1},{vertices:[{x:0.861111,y:0.222222,z:0.777778},{x:0.73547,y:0.354017,z:0.724444},{x:0.758713,y:0.331884,z:0.661636},{x:0.729992,y:0.268759,z:0.648774},{x:0.688997,y:0.251879,z:0.703634},{x:0.692383,y:0.304572,z:0.750401},{x:0.721111,y:0.302222,z:0.697778}], faces:[[0,2,1],[0,3,2],[0,4,3],[0,5,4],[0,1,5],[1,2,6],[2,3,6],[3,4,6],[4,5,6],[5,1,6]], color:'#0000ff', opacity:1},{vertices:[{x:0.775797,y:0.296957,z:1.07882},{x:0.778406,y:0.316087,z:1.08403},{x:0.788181,y:0.305349,z:1.06554},{x:0.780842,y:0.283013,z:1.0654},{x:0.766531,y:0.279946,z:1.0838},{x:0.765025,y:0.300387,z:1.09531},{x:0.669275,y:0.352464,z:1.00522},{x:0.679051,y:0.341726,z:0.986726},{x:0.671712,y:0.31939,z:0.986579},{x:0.657401,y:0.316323,z:1.00498},{x:0.655895,y:0.336764,z:1.0165},{x:0.666667,y:0.333333,z:1}], faces:[[0,2,1],[0,3,2],[0,4,3],[0,5,4],[0,1,5],[1,2,7,6],[2,3,8,7],[3,4,9,8],[4,5,10,9],[5,1,6,10],[6,7,11],[7,8,11],[8,9,11],[9,10,11],[10,6,11]], color:'#0000ff', opacity:1},{vertices:[{x:0.916667,y:0.25,z:1.18056},{x:0.783623,y:0.354348,z:1.09447},{x:0.81295,y:0.322134,z:1.03899},{x:0.790933,y:0.255126,z:1.03855},{x:0.747999,y:0.245926,z:1.09375},{x:0.743481,y:0.307248,z:1.12831},{x:0.775797,y:0.296957,z:1.07882}], faces:[[0,2,1],[0,3,2],[0,4,3],[0,5,4],[0,1,5],[1,2,6],[2,3,6],[3,4,6],[4,5,6],[5,1,6]], color:'#0000ff', opacity:1},{vertices:[{x:0.666667,y:0.499487,z:-0.930342},{x:0.666667,y:0.507179,z:-0.91188},{x:0.685688,y:0.501864,z:-0.924637},{x:0.678422,y:0.493264,z:-0.945278},{x:0.654911,y:0.493264,z:-0.945278},{x:0.647646,y:0.501864,z:-0.924637},{x:0.666667,y:0.674359,z:-0.981538},{x:0.685688,y:0.669044,z:-0.994295},{x:0.678422,y:0.660443,z:-1.01494},{x:0.654911,y:0.660443,z:-1.01494},{x:0.647646,y:0.669044,z:-0.994295},{x:0.666667,y:0.666667,z:-1}], faces:[[0,2,1],[0,3,2],[0,4,3],[0,5,4],[0,1,5],[1,2,7,6],[2,3,8,7],[3,4,9,8],[4,5,10,9],[5,1,6,10],[6,7,11],[7,8,11],[8,9,11],[9,10,11],[10,6,11]], color:'#0000ff', opacity:1},{vertices:[{x:0.666667,y:0.333333,z:-0.861111},{x:0.666667,y:0.522564,z:-0.874957},{x:0.72373,y:0.506618,z:-0.913227},{x:0.701934,y:0.480818,z:-0.975149},{x:0.6314,y:0.480818,z:-0.975149},{x:0.609603,y:0.506618,z:-0.913227},{x:0.666667,y:0.499487,z:-0.930342}], faces:[[0,2,1],[0,3,2],[0,4,3],[0,5,4],[0,1,5],[1,2,6],[2,3,6],[3,4,6],[4,5,6],[5,1,6]], color:'#0000ff', opacity:1},{vertices:[{x:0.687937,y:0.560317,z:-0.640079},{x:0.690867,y:0.565665,z:-0.621032},{x:0.707306,y:0.564757,z:-0.637816},{x:0.696977,y:0.557713,z:-0.657728},{x:0.674155,y:0.554268,z:-0.65325},{x:0.670378,y:0.559183,z:-0.63057},{x:0.669597,y:0.672015,z:-0.647619},{x:0.686036,y:0.671106,z:-0.664404},{x:0.675707,y:0.664063,z:-0.684316},{x:0.652885,y:0.660618,z:-0.679837},{x:0.649108,y:0.665532,z:-0.657158},{x:0.666667,y:0.666667,z:-0.666667}], faces:[[0,2,1],[0,3,2],[0,4,3],[0,5,4],[0,1,5],[1,2,7,6],[2,3,8,7],[3,4,9,8],[4,5,10,9],[5,1,6,10],[6,7,11],[7,8,11],[8,9,11],[9,10,11],[10,6,11]], color:'#0000ff', opacity:1},{vertices:[{x:0.722222,y:0.388889,z:-0.597222},{x:0.696728,y:0.576361,z:-0.582937},{x:0.746044,y:0.573636,z:-0.63329},{x:0.715058,y:0.552505,z:-0.693026},{x:0.646591,y:0.54217,z:-0.679591},{x:0.635262,y:0.556914,z:-0.611552},{x:0.687937,y:0.560317,z:-0.640079}], faces:[[0,2,1],[0,3,2],[0,4,3],[0,5,4],[0,1,5],[1,2,6],[2,3,6],[3,4,6],[4,5,6],[5,1,6]], color:'#0000ff', opacity:1},{vertices:[{x:0.697778,y:0.604444,z:-0.325556},{x:0.704889,y:0.610222,z:-0.307778},{x:0.715615,y:0.612993,z:-0.328516},{x:0.701691,y:0.60395,z:-0.345163},{x:0.682359,y:0.59559,z:-0.334713},{x:0.684336,y:0.599467,z:-0.311608},{x:0.673778,y:0.672444,z:-0.315556},{x:0.684504,y:0.675215,z:-0.336294},{x:0.670579,y:0.666172,z:-0.352941},{x:0.651248,y:0.657813,z:-0.342491},{x:0.653225,y:0.661689,z:-0.319386},{x:0.666667,y:0.666667,z:-0.333333}], faces:[[0,2,1],[0,3,2],[0,4,3],[0,5,4],[0,1,5],[1,2,7,6],[2,3,8,7],[3,4,9,8],[4,5,10,9],[5,1,6,10],[6,7,11],[7,8,11],[8,9,11],[9,10,11],[10,6,11]], color:'#0000ff', opacity:1},{vertices:[{x:0.777778,y:0.444444,z:-0.305556},{x:0.719111,y:0.621778,z:-0.272222},{x:0.751289,y:0.63009,z:-0.334436},{x:0.709516,y:0.602961,z:-0.384377},{x:0.651521,y:0.577882,z:-0.353029},{x:0.657451,y:0.589512,z:-0.283713},{x:0.697778,y:0.604444,z:-0.325556}], faces:[[0,2,1],[0,3,2],[0,4,3],[0,5,4],[0,1,5],[1,2,6],[2,3,6],[3,4,6],[4,5,6],[5,1,6]], color:'#0000ff', opacity:1},{vertices:[{x:0.706275,y:0.627059,z:0.00330065},{x:0.715686,y:0.637647,z:0.0174183},{x:0.719253,y:0.639282,z:-0.00576343},{x:0.704884,y:0.624025,z:-0.0164189},{x:0.692437,y:0.612961,z:0.000177382},{x:0.699113,y:0.62138,z:0.0210899},{x:0.676078,y:0.677255,z:0.0141176},{x:0.679645,y:0.67889,z:-0.00906409},{x:0.665276,y:0.663633,z:-0.0197196},{x:0.652829,y:0.652569,z:-0.00312327},{x:0.659505,y:0.660987,z:0.0177893},{x:0.666667,y:0.666667,z:0}], faces:[[0,2,1],[0,3,2],[0,4,3],[0,5,4],[0,1,5],[1,2,7,6],[2,3,8,7],[3,4,9,8],[4,5,10,9],[5,1,6,10],[6,7,11],[7,8,11],[8,9,11],[9,10,11],[10,6,11]], color:'#0000ff', opacity:1},{vertices:[{x:0.833333,y:0.5,z:0.0138889},{x:0.73451,y:0.658824,z:0.0456536},{x:0.74521,y:0.663728,z:-0.0238916},{x:0.702103,y:0.617957,z:-0.055858},{x:0.664761,y:0.584764,z:-0.00606916},{x:0.68479,y:0.610021,z:0.0566685},{x:0.706275,y:0.627059,z:0.00330065}], faces:[[0,2,1],[0,3,2],[0,4,3],[0,5,4],[0,1,5],[1,2,6],[2,3,6],[3,4,6],[4,5,6],[5,1,6]], color:'#0000ff', opacity:1},{vertices:[{x:0.728889,y:0.635556,z:0.341111},{x:0.736,y:0.652,z:0.35},{x:0.736581,y:0.6474,z:0.32695},{x:0.726532,y:0.626432,z:0.32347},{x:0.71974,y:0.618072,z:0.344369},{x:0.725591,y:0.633874,z:0.360766},{x:0.673778,y:0.683111,z:0.342222},{x:0.674359,y:0.678511,z:0.319172},{x:0.66431,y:0.657543,z:0.315693},{x:0.657518,y:0.649183,z:0.336592},{x:0.663369,y:0.664985,z:0.352988},{x:0.666667,y:0.666667,z:0.333333}], faces:[[0,2,1],[0,3,2],[0,4,3],[0,5,4],[0,1,5],[1,2,7,6],[2,3,8,7],[3,4,9,8],[4,5,10,9],[5,1,6,10],[6,7,11],[7,8,11],[8,9,11],[9,10,11],[10,6,11]], color:'#0000ff', opacity:1},{vertices:[{x:0.888889,y:0.555556,z:0.361111},{x:0.750222,y:0.684889,z:0.367778},{x:0.751966,y:0.67109,z:0.298629},{x:0.721818,y:0.608183,z:0.288189},{x:0.701442,y:0.583105,z:0.350886},{x:0.718996,y:0.630511,z:0.400075},{x:0.728889,y:0.635556,z:0.341111}], faces:[[0,2,1],[0,3,2],[0,4,3],[0,5,4],[0,1,5],[1,2,6],[2,3,6],[3,4,6],[4,5,6],[5,1,6]], color:'#0000ff', opacity:1},{vertices:[{x:0.773016,y:0.645397,z:0.693254},{x:0.775946,y:0.664811,z:0.697063},{x:0.779008,y:0.654183,z:0.676316},{x:0.773789,y:0.631413,z:0.678976},{x:0.767502,y:0.627968,z:0.701368},{x:0.768835,y:0.648609,z:0.712547},{x:0.669597,y:0.686081,z:0.670476},{x:0.672658,y:0.675453,z:0.649729},{x:0.667439,y:0.652683,z:0.652389},{x:0.661152,y:0.649238,z:0.674781},{x:0.662486,y:0.669879,z:0.685959},{x:0.666667,y:0.666667,z:0.666667}], faces:[[0,2,1],[0,3,2],[0,4,3],[0,5,4],[0,1,5],[1,2,7,6],[2,3,8,7],[3,4,9,8],[4,5,10,9],[5,1,6,10],[6,7,11],[7,8,11],[8,9,11],[9,10,11],[10,6,11]], color:'#0000ff', opacity:1},{vertices:[{x:0.944444,y:0.611111,z:0.736111},{x:0.781807,y:0.703639,z:0.704683},{x:0.790991,y:0.671755,z:0.64244},{x:0.775334,y:0.603446,z:0.65042},{x:0.756473,y:0.593111,z:0.717596},{x:0.760474,y:0.655034,z:0.751132},{x:0.773016,y:0.645397,z:0.693254}], faces:[[0,2,1],[0,3,2],[0,4,3],[0,5,4],[0,1,5],[1,2,6],[2,3,6],[3,4,6],[4,5,6],[5,1,6]], color:'#0000ff', opacity:1},{vertices:[{x:0.833846,y:0.666667,z:1.06966},{x:0.833846,y:0.686667,z:1.06966},{x:0.841162,y:0.672847,z:1.0521},{x:0.838368,y:0.650486,z:1.05881},{x:0.829325,y:0.650486,z:1.08051},{x:0.82653,y:0.672847,z:1.08722},{x:0.666667,y:0.686667,z:1},{x:0.673982,y:0.672847,z:0.982442},{x:0.671188,y:0.650486,z:0.989149},{x:0.662145,y:0.650486,z:1.01085},{x:0.659351,y:0.672847,z:1.01756},{x:0.666667,y:0.666667,z:1}], faces:[[0,2,1],[0,3,2],[0,4,3],[0,5,4],[0,1,5],[1,2,7,6],[2,3,8,7],[3,4,9,8],[4,5,10,9],[5,1,6,10],[6,7,11],[7,8,11],[8,9,11],[9,10,11],[10,6,11]], color:'#0000ff', opacity:1},{vertices:[{x:1,y:0.666667,z:1.13889},{x:0.833846,y:0.726667,z:1.06966},{x:0.855794,y:0.685208,z:1.01698},{x:0.84741,y:0.618126,z:1.0371},{x:0.820282,y:0.618126,z:1.10221},{x:0.811899,y:0.685208,z:1.12233},{x:0.833846,y:0.666667,z:1.06966}], faces:[[0,2,1],[0,3,2],[0,4,3],[0,5,4],[0,1,5],[1,2,6],[2,3,6],[3,4,6],[4,5,6],[5,1,6]], color:'#0000ff', opacity:1},{vertices:[{x:0.715161,y:0.757527,z:-0.959588},{x:0.718387,y:0.761398,z:-0.940233},{x:0.734566,y:0.761791,z:-0.957288},{x:0.723928,y:0.756291,z:-0.977522},{x:0.701175,y:0.752499,z:-0.972971},{x:0.697751,y:0.755655,z:-0.949925},{x:0.669892,y:1.00387,z:-0.980645},{x:0.686071,y:1.00426,z:-0.997701},{x:0.675433,y:0.998764,z:-1.01793},{x:0.65268,y:0.994972,z:-1.01338},{x:0.649256,y:0.998128,z:-0.990338},{x:0.666667,y:1,z:-1}], faces:[[0,2,1],[0,3,2],[0,4,3],[0,5,4],[0,1,5],[1,2,7,6],[2,3,8,7],[3,4,9,8],[4,5,10,9],[5,1,6,10],[6,7,11],[7,8,11],[8,9,11],[9,10,11],[10,6,11]], color:'#0000ff', opacity:1},{vertices:[{x:0.75,y:0.583333,z:-0.930556},{x:0.724839,y:0.76914,z:-0.901523},{x:0.773374,y:0.770319,z:-0.952689},{x:0.741462,y:0.75382,z:-1.01339},{x:0.673203,y:0.742444,z:-0.999737},{x:0.662929,y:0.751912,z:-0.9306},{x:0.715161,y:0.757527,z:-0.959588}], faces:[[0,2,1],[0,3,2],[0,4,3],[0,5,4],[0,1,5],[1,2,6],[2,3,6],[3,4,6],[4,5,6],[5,1,6]], color:'#0000ff', opacity:1},{vertices:[{x:0.736325,y:0.832821,z:-0.666667},{x:0.743425,y:0.835779,z:-0.648205},{x:0.754726,y:0.840488,z:-0.668278},{x:0.740597,y:0.834601,z:-0.686124},{x:0.720564,y:0.826253,z:-0.677081},{x:0.722312,y:0.826982,z:-0.653646},{x:0.673767,y:1.00296,z:-0.648205},{x:0.685068,y:1.00767,z:-0.668278},{x:0.670939,y:1.00178,z:-0.686124},{x:0.650905,y:0.993433,z:-0.677081},{x:0.652654,y:0.994161,z:-0.653646},{x:0.666667,y:1,z:-0.666667}], faces:[[0,2,1],[0,3,2],[0,4,3],[0,5,4],[0,1,5],[1,2,7,6],[2,3,8,7],[3,4,9,8],[4,5,10,9],[5,1,6,10],[6,7,11],[7,8,11],[8,9,11],[9,10,11],[10,6,11]], color:'#0000ff', opacity:1},{vertices:[{x:0.805556,y:0.666667,z:-0.666667},{x:0.757627,y:0.841696,z:-0.611282},{x:0.791529,y:0.855822,z:-0.671499},{x:0.749141,y:0.838161,z:-0.725038},{x:0.689041,y:0.813119,z:-0.697909},{x:0.694285,y:0.815304,z:-0.627604},{x:0.736325,y:0.832821,z:-0.666667}], faces:[[0,2,1],[0,3,2],[0,4,3],[0,5,4],[0,1,5],[1,2,6],[2,3,6],[3,4,6],[4,5,6],[5,1,6]], color:'#0000ff', opacity:1},{vertices:[{x:0.751546,y:0.89087,z:-0.351522},{x:0.762502,y:0.896783,z:-0.33587},{x:0.765848,y:0.903117,z:-0.358263},{x:0.749429,y:0.892526,z:-0.37134},{x:0.735935,y:0.879646,z:-0.357029},{x:0.744015,y:0.882277,z:-0.335107},{x:0.677623,y:1.00591,z:-0.317681},{x:0.680969,y:1.01225,z:-0.340075},{x:0.664549,y:1.00166,z:-0.353152},{x:0.651056,y:0.988776,z:-0.338841},{x:0.659136,y:0.991407,z:-0.316918},{x:0.666667,y:1,z:-0.333333}], faces:[[0,2,1],[0,3,2],[0,4,3],[0,5,4],[0,1,5],[1,2,7,6],[2,3,8,7],[3,4,9,8],[4,5,10,9],[5,1,6,10],[6,7,11],[7,8,11],[8,9,11],[9,10,11],[10,6,11]], color:'#0000ff', opacity:1},{vertices:[{x:0.861111,y:0.75,z:-0.375},{x:0.784415,y:0.908609,z:-0.304565},{x:0.794453,y:0.927612,z:-0.371746},{x:0.745194,y:0.895839,z:-0.410977},{x:0.704714,y:0.857198,z:-0.368043},{x:0.728954,y:0.86509,z:-0.302277},{x:0.751546,y:0.89087,z:-0.351522}], faces:[[0,2,1],[0,3,2],[0,4,3],[0,5,4],[0,1,5],[1,2,6],[2,3,6],[3,4,6],[4,5,6],[5,1,6]], color:'#0000ff', opacity:1},{vertices:[{x:0.769394,y:0.931515,z:-0.0228283},{x:0.780303,y:0.944242,z:-0.0119192},{x:0.776223,y:0.945823,z:-0.0350199},{x:0.762706,y:0.927631,z:-0.0412722},{x:0.758431,y:0.914806,z:-0.0220356},{x:0.769307,y:0.925073,z:-0.00389445},{x:0.677576,y:1.01273,z:0.0109091},{x:0.673496,y:1.01431,z:-0.0121916},{x:0.659978,y:0.996116,z:-0.0184439},{x:0.655704,y:0.983291,z:0.000792664},{x:0.666579,y:0.993558,z:0.0189338},{x:0.666667,y:1,z:0}], faces:[[0,2,1],[0,3,2],[0,4,3],[0,5,4],[0,1,5],[1,2,7,6],[2,3,8,7],[3,4,9,8],[4,5,10,9],[5,1,6,10],[6,7,11],[7,8,11],[8,9,11],[9,10,11],[10,6,11]], color:'#0000ff', opacity:1},{vertices:[{x:0.916667,y:0.833333,z:-0.0555556},{x:0.802121,y:0.969697,z:0.00989899},{x:0.789882,y:0.974439,z:-0.0594032},{x:0.749329,y:0.919862,z:-0.0781601},{x:0.736505,y:0.881389,z:-0.0204503},{x:0.769132,y:0.912188,z:0.0339732},{x:0.769394,y:0.931515,z:-0.0228283}], faces:[[0,2,1],[0,3,2],[0,4,3],[0,5,4],[0,1,5],[1,2,6],[2,3,6],[3,4,6],[4,5,6],[5,1,6]], color:'#0000ff', opacity:1},{vertices:[{x:0.800048,y:0.963623,z:0.315145},{x:0.805787,y:0.982058,z:0.320362},{x:0.800829,y:0.974778,z:0.298563},{x:0.794792,y:0.952083,z:0.299679},{x:0.796019,y:0.945336,z:0.322169},{x:0.802814,y:0.963862,z:0.334951},{x:0.672406,y:1.01843,z:0.338551},{x:0.667448,y:1.01115,z:0.316751},{x:0.66141,y:0.988459,z:0.317868},{x:0.662637,y:0.981713,z:0.340357},{x:0.669433,y:1.00024,z:0.35314},{x:0.666667,y:1,z:0.333333}], faces:[[0,2,1],[0,3,2],[0,4,3],[0,5,4],[0,1,5],[1,2,7,6],[2,3,8,7],[3,4,9,8],[4,5,10,9],[5,1,6,10],[6,7,11],[7,8,11],[8,9,11],[9,10,11],[10,6,11]], color:'#0000ff', opacity:1},{vertices:[{x:0.972222,y:0.916667,z:0.291667},{x:0.817266,y:1.01893,z:0.330797},{x:0.802392,y:0.997088,z:0.265399},{x:0.784279,y:0.929001,z:0.268748},{x:0.787959,y:0.908761,z:0.336216},{x:0.808346,y:0.964338,z:0.374564},{x:0.800048,y:0.963623,z:0.315145}], faces:[[0,2,1],[0,3,2],[0,4,3],[0,5,4],[0,1,5],[1,2,6],[2,3,6],[3,4,6],[4,5,6],[5,1,6]], color:'#0000ff', opacity:1},{vertices:[{x:0.847778,y:1,z:0.666667},{x:0.847778,y:1.02,z:0.666667},{x:0.847778,y:1.00618,z:0.647646},{x:0.847778,y:0.98382,z:0.654911},{x:0.847778,y:0.98382,z:0.678422},{x:0.847778,y:1.00618,z:0.685688},{x:0.666667,y:1.02,z:0.666667},{x:0.666667,y:1.00618,z:0.647646},{x:0.666667,y:0.98382,z:0.654911},{x:0.666667,y:0.98382,z:0.678422},{x:0.666667,y:1.00618,z:0.685688},{x:0.666667,y:1,z:0.666667}], faces:[[0,2,1],[0,3,2],[0,4,3],[0,5,4],[0,1,5],[1,2,7,6],[2,3,8,7],[3,4,9,8],[4,5,10,9],[5,1,6,10],[6,7,11],[7,8,11],[8,9,11],[9,10,11],[10,6,11]], color:'#0000ff', opacity:1},{vertices:[{x:1.02778,y:1,z:0.666667},{x:0.847778,y:1.06,z:0.666667},{x:0.847778,y:1.01854,z:0.609603},{x:0.847778,y:0.951459,z:0.6314},{x:0.847778,y:0.951459,z:0.701934},{x:0.847778,y:1.01854,z:0.72373},{x:0.847778,y:1,z:0.666667}], faces:[[0,2,1],[0,3,2],[0,4,3],[0,5,4],[0,1,5],[1,2,6],[2,3,6],[3,4,6],[4,5,6],[5,1,6]], color:'#0000ff', opacity:1},{vertices:[{x:0.90914,y:1.04849,z:1.04041},{x:0.905914,y:1.06785,z:1.03654},{x:0.911824,y:1.05141,z:1.02081},{x:0.914025,y:1.03094,z:1.03217},{x:0.909474,y:1.03473,z:1.05492},{x:0.904461,y:1.05754,z:1.05762},{x:0.663441,y:1.01935,z:0.996129},{x:0.669351,y:1.00291,z:0.980396},{x:0.671552,y:0.982446,z:0.991755},{x:0.667001,y:0.986238,z:1.01451},{x:0.661988,y:1.00905,z:1.01721},{x:0.666667,y:1,z:1}], faces:[[0,2,1],[0,3,2],[0,4,3],[0,5,4],[0,1,5],[1,2,7,6],[2,3,8,7],[3,4,9,8],[4,5,10,9],[5,1,6,10],[6,7,11],[7,8,11],[8,9,11],[9,10,11],[10,6,11]], color:'#0000ff', opacity:1},{vertices:[{x:1.08333,y:1.08333,z:1.06944},{x:0.899462,y:1.10656,z:1.0288},{x:0.917194,y:1.05723,z:0.981601},{x:0.923795,y:0.995831,z:1.01568},{x:0.910143,y:1.00721,z:1.08394},{x:0.895105,y:1.07564,z:1.09205},{x:0.90914,y:1.04849,z:1.04041}], faces:[[0,2,1],[0,3,2],[0,4,3],[0,5,4],[0,1,5],[1,2,6],[2,3,6],[3,4,6],[4,5,6],[5,1,6]], color:'#0000ff', opacity:1},{vertices:[{x:0.68,y:-1,z:-1},{x:0.68,y:-0.98,z:-1},{x:0.68,y:-0.99382,z:-0.980979},{x:0.68,y:-1.01618,z:-0.988244},{x:0.68,y:-1.01618,z:-1.01176},{x:0.68,y:-0.99382,z:-1.01902},{x:1,y:-0.98,z:-1},{x:1,y:-0.99382,z:-0.980979},{x:1,y:-1.01618,z:-0.988244},{x:1,y:-1.01618,z:-1.01176},{x:1,y:-0.99382,z:-1.01902},{x:1,y:-1,z:-1}], faces:[[0,2,1],[0,3,2],[0,4,3],[0,5,4],[0,1,5],[1,2,7,6],[2,3,8,7],[3,4,9,8],[4,5,10,9],[5,1,6,10],[6,7,11],[7,8,11],[8,9,11],[9,10,11],[10,6,11]], color:'#0000ff', opacity:1},{vertices:[{x:0.5,y:-1,z:-1},{x:0.68,y:-0.94,z:-1},{x:0.68,y:-0.981459,z:-0.942937},{x:0.68,y:-1.04854,z:-0.964733},{x:0.68,y:-1.04854,z:-1.03527},{x:0.68,y:-0.981459,z:-1.05706},{x:0.68,y:-1,z:-1}], faces:[[0,2,1],[0,3,2],[0,4,3],[0,5,4],[0,1,5],[1,2,6],[2,3,6],[3,4,6],[4,5,6],[5,1,6]], color:'#0000ff', opacity:1},{vertices:[{x:0.757527,y:-1.04849,z:-0.707079},{x:0.75306,y:-1.02939,z:-0.703208},{x:0.753928,y:-1.04684,z:-0.687475},{x:0.759769,y:-1.06658,z:-0.698834},{x:0.762511,y:-1.06133,z:-0.721587},{x:0.758365,y:-1.03834,z:-0.72429},{x:0.995533,y:-0.980893,z:-0.662796},{x:0.996401,y:-0.998344,z:-0.647063},{x:1.00224,y:-1.01808,z:-0.658422},{x:1.00498,y:-1.01283,z:-0.681175},{x:1.00084,y:-0.989848,z:-0.683878},{x:1,y:-1,z:-0.666667}], faces:[[0,2,1],[0,3,2],[0,4,3],[0,5,4],[0,1,5],[1,2,7,6],[2,3,8,7],[3,4,9,8],[4,5,10,9],[5,1,6,10],[6,7,11],[7,8,11],[8,9,11],[9,10,11],[10,6,11]], color:'#0000ff', opacity:1},{vertices:[{x:0.583333,y:-1.08333,z:-0.736111},{x:0.744127,y:-0.991175,z:-0.695466},{x:0.746731,y:-1.04353,z:-0.648268},{x:0.764254,y:-1.10274,z:-0.682344},{x:0.77248,y:-1.08699,z:-0.750603},{x:0.760041,y:-1.01804,z:-0.758713},{x:0.757527,y:-1.04849,z:-0.707079}], faces:[[0,2,1],[0,3,2],[0,4,3],[0,5,4],[0,1,5],[1,2,6],[2,3,6],[3,4,6],[4,5,6],[5,1,6]], color:'#0000ff', opacity:1},{vertices:[{x:0.820952,y:-1.08952,z:-0.393016},{x:0.810667,y:-1.07467,z:-0.384444},{x:0.81723,y:-1.09471,z:-0.374063},{x:0.828938,y:-1.10759,z:-0.389874},{x:0.82961,y:-1.0955,z:-0.410027},{x:0.818317,y:-1.07515,z:-0.406671},{x:0.989714,y:-0.985143,z:-0.324762},{x:0.996278,y:-1.00519,z:-0.314381},{x:1.00799,y:-1.01807,z:-0.330191},{x:1.00866,y:-1.00597,z:-0.350344},{x:0.997365,y:-0.985627,z:-0.346988},{x:1,y:-1,z:-0.333333}], faces:[[0,2,1],[0,3,2],[0,4,3],[0,5,4],[0,1,5],[1,2,7,6],[2,3,8,7],[3,4,9,8],[4,5,10,9],[5,1,6,10],[6,7,11],[7,8,11],[8,9,11],[9,10,11],[10,6,11]], color:'#0000ff', opacity:1},{vertices:[{x:0.666667,y:-1.16667,z:-0.444444},{x:0.790095,y:-1.04495,z:-0.367302},{x:0.809787,y:-1.1051,z:-0.336158},{x:0.844909,y:-1.14372,z:-0.38359},{x:0.846924,y:-1.10745,z:-0.444048},{x:0.813047,y:-1.0464,z:-0.433981},{x:0.820952,y:-1.08952,z:-0.393016}], faces:[[0,2,1],[0,3,2],[0,4,3],[0,5,4],[0,1,5],[1,2,6],[2,3,6],[3,4,6],[4,5,6],[5,1,6]], color:'#0000ff', opacity:1},{vertices:[{x:0.87,y:-1.13,z:-0.065},{x:0.856667,y:-1.12333,z:-0.0516667},{x:0.87222,y:-1.14062,z:-0.048199},{x:0.884705,y:-1.14323,z:-0.0679498},{x:0.876868,y:-1.12756,z:-0.083624},{x:0.859539,y:-1.11526,z:-0.0735605},{x:0.986667,y:-0.993333,z:0.0133333},{x:1.00222,y:-1.01062,z:0.016801},{x:1.01471,y:-1.01323,z:-0.00294976},{x:1.00687,y:-0.997556,z:-0.018624},{x:0.989539,y:-0.985259,z:-0.00856053},{x:1,y:-1,z:0}], faces:[[0,2,1],[0,3,2],[0,4,3],[0,5,4],[0,1,5],[1,2,7,6],[2,3,8,7],[3,4,9,8],[4,5,10,9],[5,1,6,10],[6,7,11],[7,8,11],[8,9,11],[9,10,11],[10,6,11]], color:'#0000ff', opacity:1},{vertices:[{x:0.75,y:-1.25,z:-0.125},{x:0.83,y:-1.11,z:-0.025},{x:0.87666,y:-1.16186,z:-0.0145971},{x:0.914116,y:-1.16969,z:-0.0738493},{x:0.890605,y:-1.12267,z:-0.120872},{x:0.838618,y:-1.08578,z:-0.0906816},{x:0.87,y:-1.13,z:-0.065}], faces:[[0,2,1],[0,3,2],[0,4,3],[0,5,4],[0,1,5],[1,2,6],[2,3,6],[3,4,6],[4,5,6],[5,1,6]], color:'#0000ff', opacity:1},{vertices:[{x:0.910476,y:-1.17905,z:0.273651},{x:0.90019,y:-1.17962,z:0.290794},{x:0.921428,y:-1.18901,z:0.2871},{x:0.92753,y:-1.18463,z:0.26482},{x:0.910065,y:-1.17254,z:0.254744},{x:0.893168,y:-1.16944,z:0.270796},{x:0.989714,y:-1.00057,z:0.350476},{x:1.01095,y:-1.00996,z:0.346783},{x:1.01705,y:-1.00558,z:0.324503},{x:0.999589,y:-0.993492,z:0.314426},{x:0.982692,y:-0.990394,z:0.330479},{x:1,y:-1,z:0.333333}], faces:[[0,2,1],[0,3,2],[0,4,3],[0,5,4],[0,1,5],[1,2,7,6],[2,3,8,7],[3,4,9,8],[4,5,10,9],[5,1,6,10],[6,7,11],[7,8,11],[8,9,11],[9,10,11],[10,6,11]], color:'#0000ff', opacity:1},{vertices:[{x:0.833333,y:-1.33333,z:0.222222},{x:0.879619,y:-1.18076,z:0.325079},{x:0.943331,y:-1.20892,z:0.313999},{x:0.961639,y:-1.1958,z:0.247159},{x:0.909242,y:-1.15952,z:0.21693},{x:0.858551,y:-1.15023,z:0.265087},{x:0.910476,y:-1.17905,z:0.273651}], faces:[[0,2,1],[0,3,2],[0,4,3],[0,5,4],[0,1,5],[1,2,6],[2,3,6],[3,4,6],[4,5,6],[5,1,6]], color:'#0000ff', opacity:1},{vertices:[{x:0.951505,y:-1.24247,z:0.626254},{x:0.947039,y:-1.24481,z:0.645609},{x:0.968297,y:-1.24744,z:0.635917},{x:0.966349,y:-1.24321,z:0.612871},{x:0.943888,y:-1.23796,z:0.608321},{x:0.931954,y:-1.23895,z:0.628554},{x:0.995533,y:-1.00233,z:0.686022},{x:1.01679,y:-1.00497,z:0.676329},{x:1.01484,y:-1.00074,z:0.653284},{x:0.992383,y:-0.995488,z:0.648733},{x:0.980448,y:-0.996473,z:0.668966},{x:1,y:-1,z:0.666667}], faces:[[0,2,1],[0,3,2],[0,4,3],[0,5,4],[0,1,5],[1,2,7,6],[2,3,8,7],[3,4,9,8],[4,5,10,9],[5,1,6,10],[6,7,11],[7,8,11],[8,9,11],[9,10,11],[10,6,11]], color:'#0000ff', opacity:1},{vertices:[{x:0.916667,y:-1.41667,z:0.597222},{x:0.938106,y:-1.24947,z:0.684319},{x:1.00188,y:-1.25738,z:0.655242},{x:0.996038,y:-1.24469,z:0.586105},{x:0.928654,y:-1.22894,z:0.572453},{x:0.89285,y:-1.23189,z:0.633153},{x:0.951505,y:-1.24247,z:0.626254}], faces:[[0,2,1],[0,3,2],[0,4,3],[0,5,4],[0,1,5],[1,2,6],[2,3,6],[3,4,6],[4,5,6],[5,1,6]], color:'#0000ff', opacity:1},{vertices:[{x:1,y:-1.32,z:1},{x:1,y:-1.32,z:1.02},{x:1.01902,y:-1.32,z:1.00618},{x:1.01176,y:-1.32,z:0.98382},{x:0.988244,y:-1.32,z:0.98382},{x:0.980979,y:-1.32,z:1.00618},{x:1,y:-1,z:1.02},{x:1.01902,y:-1,z:1.00618},{x:1.01176,y:-1,z:0.98382},{x:0.988244,y:-1,z:0.98382},{x:0.980979,y:-1,z:1.00618},{x:1,y:-1,z:1}], faces:[[0,2,1],[0,3,2],[0,4,3],[0,5,4],[0,1,5],[1,2,7,6],[2,3,8,7],[3,4,9,8],[4,5,10,9],[5,1,6,10],[6,7,11],[7,8,11],[8,9,11],[9,10,11],[10,6,11]], color:'#0000ff', opacity:1},{vertices:[{x:1,y:-1.5,z:1},{x:1,y:-1.32,z:1.06},{x:1.05706,y:-1.32,z:1.01854},{x:1.03527,y:-1.32,z:0.951459},{x:0.964733,y:-1.32,z:0.951459},{x:0.942937,y:-1.32,z:1.01854},{x:1,y:-1.32,z:1}], faces:[[0,2,1],[0,3,2],[0,4,3],[0,5,4],[0,1,5],[1,2,6],[2,3,6],[3,4,6],[4,5,6],[5,1,6]], color:'#0000ff', opacity:1},{vertices:[{x:0.757527,y:-0.715161,z:-0.959588},{x:0.754301,y:-0.695806,z:-0.955717},{x:0.760212,y:-0.712248,z:-0.939984},{x:0.762412,y:-0.732716,z:-0.951343},{x:0.757861,y:-0.728924,z:-0.974096},{x:0.752849,y:-0.706112,z:-0.976799},{x:0.996774,y:-0.647312,z:-0.996129},{x:1.00268,y:-0.663754,z:-0.980396},{x:1.00489,y:-0.684221,z:-0.991755},{x:1.00033,y:-0.680429,z:-1.01451},{x:0.995322,y:-0.657618,z:-1.01721},{x:1,y:-0.666667,z:-1}], faces:[[0,2,1],[0,3,2],[0,4,3],[0,5,4],[0,1,5],[1,2,7,6],[2,3,8,7],[3,4,9,8],[4,5,10,9],[5,1,6,10],[6,7,11],[7,8,11],[8,9,11],[9,10,11],[10,6,11]], color:'#0000ff', opacity:1},{vertices:[{x:0.583333,y:-0.75,z:-0.930556},{x:0.747849,y:-0.657097,z:-0.947975},{x:0.765581,y:-0.706422,z:-0.900777},{x:0.772182,y:-0.767825,z:-0.934853},{x:0.75853,y:-0.756448,z:-1.00311},{x:0.743492,y:-0.688015,z:-1.01122},{x:0.757527,y:-0.715161,z:-0.959588}], faces:[[0,2,1],[0,3,2],[0,4,3],[0,5,4],[0,1,5],[1,2,6],[2,3,6],[3,4,6],[4,5,6],[5,1,6]], color:'#0000ff', opacity:1},{vertices:[{x:0.832821,y:-0.736325,z:-0.666667},{x:0.82572,y:-0.719283,z:-0.658974},{x:0.83344,y:-0.737812,z:-0.646732},{x:0.840304,y:-0.754285,z:-0.662038},{x:0.836826,y:-0.745938,z:-0.683741},{x:0.827813,y:-0.724306,z:-0.681848},{x:0.992899,y:-0.649625,z:-0.658974},{x:1.00062,y:-0.668154,z:-0.646732},{x:1.00748,y:-0.684627,z:-0.662038},{x:1.00401,y:-0.67628,z:-0.683741},{x:0.994992,y:-0.654648,z:-0.681848},{x:1,y:-0.666667,z:-0.666667}], faces:[[0,2,1],[0,3,2],[0,4,3],[0,5,4],[0,1,5],[1,2,7,6],[2,3,8,7],[3,4,9,8],[4,5,10,9],[5,1,6,10],[6,7,11],[7,8,11],[8,9,11],[9,10,11],[10,6,11]], color:'#0000ff', opacity:1},{vertices:[{x:0.666667,y:-0.805556,z:-0.666667},{x:0.811519,y:-0.685201,z:-0.64359},{x:0.834679,y:-0.740786,z:-0.606862},{x:0.855271,y:-0.790206,z:-0.652782},{x:0.844837,y:-0.765164,z:-0.717891},{x:0.817797,y:-0.700267,z:-0.712209},{x:0.832821,y:-0.736325,z:-0.666667}], faces:[[0,2,1],[0,3,2],[0,4,3],[0,5,4],[0,1,5],[1,2,6],[2,3,6],[3,4,6],[4,5,6],[5,1,6]], color:'#0000ff', opacity:1},{vertices:[{x:0.89087,y:-0.751546,z:-0.351522},{x:0.879913,y:-0.740068,z:-0.339348},{x:0.893107,y:-0.758419,z:-0.332874},{x:0.903209,y:-0.767272,z:-0.352171},{x:0.896258,y:-0.754392,z:-0.370571},{x:0.88186,y:-0.737579,z:-0.362646},{x:0.989043,y:-0.655188,z:-0.321159},{x:1.00224,y:-0.67354,z:-0.314685},{x:1.01234,y:-0.682393,z:-0.333982},{x:1.00539,y:-0.669513,z:-0.352382},{x:0.990991,y:-0.652699,z:-0.344457},{x:1,y:-0.666667,z:-0.333333}], faces:[[0,2,1],[0,3,2],[0,4,3],[0,5,4],[0,1,5],[1,2,7,6],[2,3,8,7],[3,4,9,8],[4,5,10,9],[5,1,6,10],[6,7,11],[7,8,11],[8,9,11],[9,10,11],[10,6,11]], color:'#0000ff', opacity:1},{vertices:[{x:0.75,y:-0.861111,z:-0.375},{x:0.858,y:-0.717111,z:-0.315},{x:0.897583,y:-0.772166,z:-0.295578},{x:0.927888,y:-0.798724,z:-0.353468},{x:0.907035,y:-0.760084,z:-0.408669},{x:0.863841,y:-0.709644,z:-0.384894},{x:0.89087,y:-0.751546,z:-0.351522}], faces:[[0,2,1],[0,3,2],[0,4,3],[0,5,4],[0,1,5],[1,2,6],[2,3,6],[3,4,6],[4,5,6],[5,1,6]], color:'#0000ff', opacity:1},{vertices:[{x:0.931515,y:-0.769394,z:-0.0228283},{x:0.920606,y:-0.765758,z:-0.00646465},{x:0.940248,y:-0.778645,z:-0.00739648},{x:0.947822,y:-0.778748,z:-0.0296545},{x:0.93286,y:-0.765924,z:-0.0424789},{x:0.91604,y:-0.757895,z:-0.0281468},{x:0.989091,y:-0.66303,z:0.0163636},{x:1.00873,y:-0.675918,z:0.0154318},{x:1.01631,y:-0.676021,z:-0.00682626},{x:1.00134,y:-0.663196,z:-0.0196507},{x:0.984525,y:-0.655168,z:-0.00531852},{x:1,y:-0.666667,z:0}], faces:[[0,2,1],[0,3,2],[0,4,3],[0,5,4],[0,1,5],[1,2,7,6],[2,3,8,7],[3,4,9,8],[4,5,10,9],[5,1,6,10],[6,7,11],[7,8,11],[8,9,11],[9,10,11],[10,6,11]], color:'#0000ff', opacity:1},{vertices:[{x:0.833333,y:-0.916667,z:-0.0555556},{x:0.898788,y:-0.758485,z:0.0262626},{x:0.957715,y:-0.797148,z:0.0234671},{x:0.980435,y:-0.797456,z:-0.0433071},{x:0.935549,y:-0.758983,z:-0.0817803},{x:0.885089,y:-0.734897,z:-0.0387838},{x:0.931515,y:-0.769394,z:-0.0228283}], faces:[[0,2,1],[0,3,2],[0,4,3],[0,5,4],[0,1,5],[1,2,6],[2,3,6],[3,4,6],[4,5,6],[5,1,6]], color:'#0000ff', opacity:1},{vertices:[{x:0.963623,y:-0.800048,z:0.315145},{x:0.957884,y:-0.801092,z:0.334275},{x:0.979382,y:-0.805829,z:0.326019},{x:0.979102,y:-0.802577,z:0.302735},{x:0.957431,y:-0.795831,z:0.296601},{x:0.944317,y:-0.794913,z:0.316095},{x:0.994261,y:-0.66771,z:0.352464},{x:1.01576,y:-0.672447,z:0.344207},{x:1.01548,y:-0.669196,z:0.320923},{x:0.993807,y:-0.662449,z:0.31479},{x:0.980694,y:-0.661531,z:0.334283},{x:1,y:-0.666667,z:0.333333}], faces:[[0,2,1],[0,3,2],[0,4,3],[0,5,4],[0,1,5],[1,2,7,6],[2,3,8,7],[3,4,9,8],[4,5,10,9],[5,1,6,10],[6,7,11],[7,8,11],[8,9,11],[9,10,11],[10,6,11]], color:'#0000ff', opacity:1},{vertices:[{x:0.916667,y:-0.972222,z:0.291667},{x:0.946406,y:-0.803179,z:0.372536},{x:1.0109,y:-0.81739,z:0.347766},{x:1.01006,y:-0.807636,z:0.277915},{x:0.945045,y:-0.787396,z:0.259514},{x:0.905705,y:-0.784641,z:0.317994},{x:0.963623,y:-0.800048,z:0.315145}], faces:[[0,2,1],[0,3,2],[0,4,3],[0,5,4],[0,1,5],[1,2,6],[2,3,6],[3,4,6],[4,5,6],[5,1,6]], color:'#0000ff', opacity:1},{vertices:[{x:1,y:-0.847778,z:0.666667},{x:1,y:-0.847778,z:0.686667},{x:1.01902,y:-0.847778,z:0.672847},{x:1.01176,y:-0.847778,z:0.650486},{x:0.988244,y:-0.847778,z:0.650486},{x:0.980979,y:-0.847778,z:0.672847},{x:1,y:-0.666667,z:0.686667},{x:1.01902,y:-0.666667,z:0.672847},{x:1.01176,y:-0.666667,z:0.650486},{x:0.988244,y:-0.666667,z:0.650486},{x:0.980979,y:-0.666667,z:0.672847},{x:1,y:-0.666667,z:0.666667}], faces:[[0,2,1],[0,3,2],[0,4,3],[0,5,4],[0,1,5],[1,2,7,6],[2,3,8,7],[3,4,9,8],[4,5,10,9],[5,1,6,10],[6,7,11],[7,8,11],[8,9,11],[9,10,11],[10,6,11]], color:'#0000ff', opacity:1},{vertices:[{x:1,y:-1.02778,z:0.666667},{x:1,y:-0.847778,z:0.726667},{x:1.05706,y:-0.847778,z:0.685208},{x:1.03527,y:-0.847778,z:0.618126},{x:0.964733,y:-0.847778,z:0.618126},{x:0.942937,y:-0.847778,z:0.685208},{x:1,y:-0.847778,z:0.666667}], faces:[[0,2,1],[0,3,2],[0,4,3],[0,5,4],[0,1,5],[1,2,6],[2,3,6],[3,4,6],[4,5,6],[5,1,6]], color:'#0000ff', opacity:1},{vertices:[{x:1.04849,y:-0.90914,z:1.04041},{x:1.05172,y:-0.905269,z:1.05977},{x:1.0679,y:-0.904876,z:1.04271},{x:1.05726,y:-0.910375,z:1.02248},{x:1.03451,y:-0.914168,z:1.02703},{x:1.03108,y:-0.911012,z:1.05007},{x:1.00323,y:-0.662796,z:1.01935},{x:1.0194,y:-0.662403,z:1.0023},{x:1.00877,y:-0.667902,z:0.982066},{x:0.986014,y:-0.671694,z:0.986617},{x:0.982589,y:-0.668538,z:1.00966},{x:1,y:-0.666667,z:1}], faces:[[0,2,1],[0,3,2],[0,4,3],[0,5,4],[0,1,5],[1,2,7,6],[2,3,8,7],[3,4,9,8],[4,5,10,9],[5,1,6,10],[6,7,11],[7,8,11],[8,9,11],[9,10,11],[10,6,11]], color:'#0000ff', opacity:1},{vertices:[{x:1.08333,y:-1.08333,z:1.06944},{x:1.05817,y:-0.897527,z:1.09848},{x:1.10671,y:-0.896347,z:1.04731},{x:1.07479,y:-0.912847,z:0.986611},{x:1.00654,y:-0.924223,z:1.00026},{x:0.996262,y:-0.914755,z:1.0694},{x:1.04849,y:-0.90914,z:1.04041}], faces:[[0,2,1],[0,3,2],[0,4,3],[0,5,4],[0,1,5],[1,2,6],[2,3,6],[3,4,6],[4,5,6],[5,1,6]], color:'#0000ff', opacity:1},{vertices:[{x:0.820952,y:-0.422857,z:-0.940317},{x:0.815238,y:-0.405714,z:-0.931746},{x:0.827338,y:-0.422994,z:-0.921365},{x:0.830613,y:-0.440085,z:-0.937176},{x:0.820537,y:-0.433367,z:-0.957328},{x:0.811035,y:-0.412125,z:-0.953973},{x:0.994286,y:-0.31619,z:-0.991429},{x:1.00639,y:-0.333471,z:-0.981047},{x:1.00966,y:-0.350561,z:-0.996858},{x:0.999585,y:-0.343843,z:-1.01701},{x:0.990082,y:-0.322601,z:-1.01366},{x:1,y:-0.333333,z:-1}], faces:[[0,2,1],[0,3,2],[0,4,3],[0,5,4],[0,1,5],[1,2,7,6],[2,3,8,7],[3,4,9,8],[4,5,10,9],[5,1,6,10],[6,7,11],[7,8,11],[8,9,11],[9,10,11],[10,6,11]], color:'#0000ff', opacity:1},{vertices:[{x:0.666667,y:-0.5,z:-0.888889},{x:0.80381,y:-0.371429,z:-0.914603},{x:0.840111,y:-0.423269,z:-0.88346},{x:0.849936,y:-0.47454,z:-0.930892},{x:0.819707,y:-0.454387,z:-0.99135},{x:0.791199,y:-0.390661,z:-0.981283},{x:0.820952,y:-0.422857,z:-0.940317}], faces:[[0,2,1],[0,3,2],[0,4,3],[0,5,4],[0,1,5],[1,2,6],[2,3,6],[3,4,6],[4,5,6],[5,1,6]], color:'#0000ff', opacity:1},{vertices:[{x:0.89087,y:-0.418213,z:-0.648478},{x:0.882441,y:-0.404768,z:-0.636304},{x:0.896981,y:-0.422073,z:-0.62983},{x:0.903074,y:-0.434044,z:-0.649127},{x:0.892302,y:-0.424136,z:-0.667527},{x:0.87955,y:-0.406042,z:-0.659602},{x:0.991572,y:-0.319889,z:-0.654493},{x:1.00611,y:-0.337194,z:-0.648019},{x:1.0122,y:-0.349164,z:-0.667315},{x:1.00143,y:-0.339257,z:-0.685716},{x:0.98868,y:-0.321163,z:-0.677791},{x:1,y:-0.333333,z:-0.666667}], faces:[[0,2,1],[0,3,2],[0,4,3],[0,5,4],[0,1,5],[1,2,7,6],[2,3,8,7],[3,4,9,8],[4,5,10,9],[5,1,6,10],[6,7,11],[7,8,11],[8,9,11],[9,10,11],[10,6,11]], color:'#0000ff', opacity:1},{vertices:[{x:0.75,y:-0.527778,z:-0.625},{x:0.865585,y:-0.377878,z:-0.611957},{x:0.909202,y:-0.429795,z:-0.592534},{x:0.927484,y:-0.465706,z:-0.650425},{x:0.895166,y:-0.435982,z:-0.705625},{x:0.85691,y:-0.381702,z:-0.681851},{x:0.89087,y:-0.418213,z:-0.648478}], faces:[[0,2,1],[0,3,2],[0,4,3],[0,5,4],[0,1,5],[1,2,6],[2,3,6],[3,4,6],[4,5,6],[5,1,6]], color:'#0000ff', opacity:1},{vertices:[{x:0.941333,y:-0.411556,z:-0.333333},{x:0.931733,y:-0.404356,z:-0.317333},{x:0.95054,y:-0.418461,z:-0.316976},{x:0.956624,y:-0.423023,z:-0.339224},{x:0.941576,y:-0.411738,z:-0.353331},{x:0.926193,y:-0.4002,z:-0.339802},{x:0.9904,y:-0.326133,z:-0.317333},{x:1.00921,y:-0.340239,z:-0.316976},{x:1.01529,y:-0.344801,z:-0.339224},{x:1.00024,y:-0.333516,z:-0.353331},{x:0.98486,y:-0.321978,z:-0.339802},{x:1,y:-0.333333,z:-0.333333}], faces:[[0,2,1],[0,3,2],[0,4,3],[0,5,4],[0,1,5],[1,2,7,6],[2,3,8,7],[3,4,9,8],[4,5,10,9],[5,1,6,10],[6,7,11],[7,8,11],[8,9,11],[9,10,11],[10,6,11]], color:'#0000ff', opacity:1},{vertices:[{x:0.833333,y:-0.555556,z:-0.333333},{x:0.912533,y:-0.389956,z:-0.285333},{x:0.968954,y:-0.432271,z:-0.284262},{x:0.987204,y:-0.445959,z:-0.351006},{x:0.942062,y:-0.412102,z:-0.393326},{x:0.895913,y:-0.37749,z:-0.352739},{x:0.941333,y:-0.411556,z:-0.333333}], faces:[[0,2,1],[0,3,2],[0,4,3],[0,5,4],[0,1,5],[1,2,6],[2,3,6],[3,4,6],[4,5,6],[5,1,6]], color:'#0000ff', opacity:1},{vertices:[{x:0.973509,y:-0.412807,z:-0.0044152},{x:0.967193,y:-0.411754,z:0.0145322},{x:0.988576,y:-0.418488,z:0.00744653},{x:0.989137,y:-0.417371,z:-0.0160316},{x:0.9681,y:-0.409946,z:-0.0234563},{x:0.954538,y:-0.406475,z:-0.00456682},{x:0.993684,y:-0.332281,z:0.0189474},{x:1.01507,y:-0.339015,z:0.0118617},{x:1.01563,y:-0.337897,z:-0.0116164},{x:0.994591,y:-0.330473,z:-0.0190411},{x:0.981029,y:-0.327001,z:-0.000151614},{x:1,y:-0.333333,z:0}], faces:[[0,2,1],[0,3,2],[0,4,3],[0,5,4],[0,1,5],[1,2,7,6],[2,3,8,7],[3,4,9,8],[4,5,10,9],[5,1,6,10],[6,7,11],[7,8,11],[8,9,11],[9,10,11],[10,6,11]], color:'#0000ff', opacity:1},{vertices:[{x:0.916667,y:-0.583333,z:-0.0138889},{x:0.954561,y:-0.409649,z:0.0524269},{x:1.01871,y:-0.429851,z:0.03117},{x:1.02039,y:-0.426499,z:-0.0392645},{x:0.957283,y:-0.404225,z:-0.0615384},{x:0.916597,y:-0.393811,z:-0.00487005},{x:0.973509,y:-0.412807,z:-0.0044152}], faces:[[0,2,1],[0,3,2],[0,4,3],[0,5,4],[0,1,5],[1,2,6],[2,3,6],[3,4,6],[4,5,6],[5,1,6]], color:'#0000ff', opacity:1},{vertices:[{x:1,y:-0.431111,z:0.333333},{x:1,y:-0.431111,z:0.353333},{x:1.01902,y:-0.431111,z:0.339514},{x:1.01176,y:-0.431111,z:0.317153},{x:0.988244,y:-0.431111,z:0.317153},{x:0.980979,y:-0.431111,z:0.339514},{x:1,y:-0.333333,z:0.353333},{x:1.01902,y:-0.333333,z:0.339514},{x:1.01176,y:-0.333333,z:0.317153},{x:0.988244,y:-0.333333,z:0.317153},{x:0.980979,y:-0.333333,z:0.339514},{x:1,y:-0.333333,z:0.333333}], faces:[[0,2,1],[0,3,2],[0,4,3],[0,5,4],[0,1,5],[1,2,7,6],[2,3,8,7],[3,4,9,8],[4,5,10,9],[5,1,6,10],[6,7,11],[7,8,11],[8,9,11],[9,10,11],[10,6,11]], color:'#0000ff', opacity:1},{vertices:[{x:1,y:-0.611111,z:0.333333},{x:1,y:-0.431111,z:0.393333},{x:1.05706,y:-0.431111,z:0.351874},{x:1.03527,y:-0.431111,z:0.284792},{x:0.964733,y:-0.431111,z:0.284792},{x:0.942937,y:-0.431111,z:0.351874},{x:1,y:-0.431111,z:0.333333}], faces:[[0,2,1],[0,3,2],[0,4,3],[0,5,4],[0,1,5],[1,2,6],[2,3,6],[3,4,6],[4,5,6],[5,1,6]], color:'#0000ff', opacity:1},{vertices:[{x:1.03638,y:-0.466715,z:0.684855},{x:1.04079,y:-0.462902,z:0.703986},{x:1.05562,y:-0.461338,z:0.685805},{x:1.04385,y:-0.467205,z:0.666312},{x:1.02176,y:-0.472394,z:0.672445},{x:1.01986,y:-0.469735,z:0.695729},{x:1.00441,y:-0.329521,z:0.685797},{x:1.01924,y:-0.327956,z:0.667616},{x:1.00748,y:-0.333823,z:0.648123},{x:0.98538,y:-0.339013,z:0.654257},{x:0.983488,y:-0.336354,z:0.67754},{x:1,y:-0.333333,z:0.666667}], faces:[[0,2,1],[0,3,2],[0,4,3],[0,5,4],[0,1,5],[1,2,7,6],[2,3,8,7],[3,4,9,8],[4,5,10,9],[5,1,6,10],[6,7,11],[7,8,11],[8,9,11],[9,10,11],[10,6,11]], color:'#0000ff', opacity:1},{vertices:[{x:1.08333,y:-0.638889,z:0.708333},{x:1.04962,y:-0.455277,z:0.742246},{x:1.0941,y:-0.450584,z:0.687704},{x:1.05881,y:-0.468184,z:0.629224},{x:0.992518,y:-0.483753,z:0.647625},{x:0.986841,y:-0.475776,z:0.717476},{x:1.03638,y:-0.466715,z:0.684855}], faces:[[0,2,1],[0,3,2],[0,4,3],[0,5,4],[0,1,5],[1,2,6],[2,3,6],[3,4,6],[4,5,6],[5,1,6]], color:'#0000ff', opacity:1},{vertices:[{x:1.08952,y:-0.512381,z:1.05968},{x:1.09524,y:-0.50381,z:1.07683},{x:1.10759,y:-0.504298,z:1.05683},{x:1.09498,y:-0.515957,z:1.04078},{x:1.07482,y:-0.522674,z:1.05085},{x:1.07499,y:-0.515167,z:1.07313},{x:1.00571,y:-0.324762,z:1.01714},{x:1.01807,y:-0.32525,z:0.997146},{x:1.00545,y:-0.336909,z:0.981093},{x:0.985301,y:-0.343627,z:0.991169},{x:0.985462,y:-0.336119,z:1.01345},{x:1,y:-0.333333,z:1}], faces:[[0,2,1],[0,3,2],[0,4,3],[0,5,4],[0,1,5],[1,2,7,6],[2,3,8,7],[3,4,9,8],[4,5,10,9],[5,1,6,10],[6,7,11],[7,8,11],[8,9,11],[9,10,11],[10,6,11]], color:'#0000ff', opacity:1},{vertices:[{x:1.16667,y:-0.666667,z:1.11111},{x:1.10667,y:-0.486667,z:1.11111},{x:1.14373,y:-0.488131,z:1.05112},{x:1.10588,y:-0.523108,z:1.00296},{x:1.04543,y:-0.543261,z:1.03319},{x:1.04591,y:-0.520739,z:1.10003},{x:1.08952,y:-0.512381,z:1.05968}], faces:[[0,2,1],[0,3,2],[0,4,3],[0,5,4],[0,1,5],[1,2,6],[2,3,6],[3,4,6],[4,5,6],[5,1,6]], color:'#0000ff', opacity:1},{vertices:[{x:0.87,y:-0.13,z:-0.935},{x:0.863333,y:-0.116667,z:-0.921667},{x:0.880621,y:-0.13222,z:-0.918199},{x:0.883231,y:-0.144705,z:-0.93795},{x:0.867556,y:-0.136868,z:-0.953624},{x:0.855259,y:-0.119539,z:-0.943561},{x:0.993333,y:0.0133333,z:-0.986667},{x:1.01062,y:-0.00222015,z:-0.983199},{x:1.01323,y:-0.0147055,z:-1.00295},{x:0.997556,y:-0.00686832,z:-1.01862},{x:0.985259,y:0.0104606,z:-1.00856},{x:1,y:0,z:-1}], faces:[[0,2,1],[0,3,2],[0,4,3],[0,5,4],[0,1,5],[1,2,7,6],[2,3,8,7],[3,4,9,8],[4,5,10,9],[5,1,6,10],[6,7,11],[7,8,11],[8,9,11],[9,10,11],[10,6,11]], color:'#0000ff', opacity:1},{vertices:[{x:0.75,y:-0.25,z:-0.875},{x:0.85,y:-0.09,z:-0.895},{x:0.901862,y:-0.13666,z:-0.884597},{x:0.909692,y:-0.174116,z:-0.943849},{x:0.862669,y:-0.150605,z:-0.990872},{x:0.825777,y:-0.0986182,z:-0.960682},{x:0.87,y:-0.13,z:-0.935}], faces:[[0,2,1],[0,3,2],[0,4,3],[0,5,4],[0,1,5],[1,2,6],[2,3,6],[3,4,6],[4,5,6],[5,1,6]], color:'#0000ff', opacity:1},{vertices:[{x:0.931515,y:-0.102727,z:-0.643838},{x:0.923963,y:-0.0940559,z:-0.627475},{x:0.943414,y:-0.10723,z:-0.628407},{x:0.946421,y:-0.114182,z:-0.650665},{x:0.928829,y:-0.105303,z:-0.663489},{x:0.914949,y:-0.0928649,z:-0.649157},{x:0.992448,y:0.00867133,z:-0.650303},{x:1.0119,y:-0.00450322,z:-0.651235},{x:1.01491,y:-0.0114545,z:-0.673493},{x:0.997314,y:-0.00257603,z:-0.686317},{x:0.983434,y:0.00986239,z:-0.671985},{x:1,y:0,z:-0.666667}], faces:[[0,2,1],[0,3,2],[0,4,3],[0,5,4],[0,1,5],[1,2,7,6],[2,3,8,7],[3,4,9,8],[4,5,10,9],[5,1,6,10],[6,7,11],[7,8,11],[8,9,11],[9,10,11],[10,6,11]], color:'#0000ff', opacity:1},{vertices:[{x:0.833333,y:-0.25,z:-0.611111},{x:0.908858,y:-0.0767133,z:-0.594747},{x:0.967211,y:-0.116237,z:-0.597543},{x:0.976234,y:-0.137091,z:-0.664317},{x:0.923457,y:-0.110455,z:-0.70279},{x:0.881816,y:-0.0731401,z:-0.659794},{x:0.931515,y:-0.102727,z:-0.643838}], faces:[[0,2,1],[0,3,2],[0,4,3],[0,5,4],[0,1,5],[1,2,6],[2,3,6],[3,4,6],[4,5,6],[5,1,6]], color:'#0000ff', opacity:1},{vertices:[{x:0.973509,y:-0.0794737,z:-0.328918},{x:0.967825,y:-0.0765263,z:-0.309971},{x:0.988971,y:-0.0839689,z:-0.317056},{x:0.988749,y:-0.0851993,z:-0.340535},{x:0.967465,y:-0.0785171,z:-0.347959},{x:0.954533,y:-0.0731569,z:-0.32907},{x:0.994316,y:0.00294737,z:-0.314386},{x:1.01546,y:-0.00449522,z:-0.321472},{x:1.01524,y:-0.00572557,z:-0.34495},{x:0.993957,y:0.000956624,z:-0.352374},{x:0.981024,y:0.00631679,z:-0.333485},{x:1,y:0,z:-0.333333}], faces:[[0,2,1],[0,3,2],[0,4,3],[0,5,4],[0,1,5],[1,2,7,6],[2,3,8,7],[3,4,9,8],[4,5,10,9],[5,1,6,10],[6,7,11],[7,8,11],[8,9,11],[9,10,11],[10,6,11]], color:'#0000ff', opacity:1},{vertices:[{x:0.916667,y:-0.25,z:-0.319444},{x:0.956456,y:-0.0706316,z:-0.272076},{x:1.0199,y:-0.0929593,z:-0.293333},{x:1.01923,y:-0.0966504,z:-0.363767},{x:0.955379,y:-0.0766038,z:-0.386041},{x:0.916582,y:-0.0605233,z:-0.329373},{x:0.973509,y:-0.0794737,z:-0.328918}], faces:[[0,2,1],[0,3,2],[0,4,3],[0,5,4],[0,1,5],[1,2,6],[2,3,6],[3,4,6],[4,5,6],[5,1,6]], color:'#0000ff', opacity:1},{vertices:[{x:1,y:-0.07,z:4.28626e-18},{x:1,y:-0.07,z:0.02},{x:1.01902,y:-0.07,z:0.00618034},{x:1.01176,y:-0.07,z:-0.0161803},{x:0.988244,y:-0.07,z:-0.0161803},{x:0.980979,y:-0.07,z:0.00618034},{x:1,y:1.22465e-18,z:0.02},{x:1.01902,y:3.78437e-19,z:0.00618034},{x:1.01176,y:-9.9076e-19,z:-0.0161803},{x:0.988244,y:-9.9076e-19,z:-0.0161803},{x:0.980979,y:3.78437e-19,z:0.00618034},{x:1,y:0,z:0}], faces:[[0,2,1],[0,3,2],[0,4,3],[0,5,4],[0,1,5],[1,2,7,6],[2,3,8,7],[3,4,9,8],[4,5,10,9],[5,1,6,10],[6,7,11],[7,8,11],[8,9,11],[9,10,11],[10,6,11]], color:'#0000ff', opacity:1},{vertices:[{x:1,y:-0.25,z:1.53081e-17},{x:1,y:-0.07,z:0.06},{x:1.05706,y:-0.07,z:0.018541},{x:1.03527,y:-0.07,z:-0.048541},{x:0.964733,y:-0.07,z:-0.048541},{x:0.942937,y:-0.07,z:0.018541},{x:1,y:-0.07,z:4.28626e-18}], faces:[[0,2,1],[0,3,2],[0,4,3],[0,5,4],[0,1,5],[1,2,6],[2,3,6],[3,4,6],[4,5,6],[5,1,6]], color:'#0000ff', opacity:1},{vertices:[{x:1.02649,y:-0.0794737,z:0.337749},{x:1.03218,y:-0.0765263,z:0.356696},{x:1.04547,y:-0.0731569,z:0.337597},{x:1.03253,y:-0.0785171,z:0.318707},{x:1.01125,y:-0.0851993,z:0.326132},{x:1.01103,y:-0.0839689,z:0.34961},{x:1.00568,y:0.00294737,z:0.352281},{x:1.01898,y:0.00631679,z:0.333182},{x:1.00604,y:0.000956624,z:0.314292},{x:0.984759,y:-0.00572557,z:0.321717},{x:0.984537,y:-0.00449522,z:0.345195},{x:1,y:0,z:0.333333}], faces:[[0,2,1],[0,3,2],[0,4,3],[0,5,4],[0,1,5],[1,2,7,6],[2,3,8,7],[3,4,9,8],[4,5,10,9],[5,1,6,10],[6,7,11],[7,8,11],[8,9,11],[9,10,11],[10,6,11]], color:'#0000ff', opacity:1},{vertices:[{x:1.08333,y:-0.25,z:0.347222},{x:1.04354,y:-0.0706316,z:0.394591},{x:1.08342,y:-0.0605233,z:0.337294},{x:1.04462,y:-0.0766038,z:0.280625},{x:0.980769,y:-0.0966504,z:0.302899},{x:0.980103,y:-0.0929593,z:0.373334},{x:1.02649,y:-0.0794737,z:0.337749}], faces:[[0,2,1],[0,3,2],[0,4,3],[0,5,4],[0,1,5],[1,2,6],[2,3,6],[3,4,6],[4,5,6],[5,1,6]], color:'#0000ff', opacity:1},{vertices:[{x:1.06848,y:-0.102727,z:0.689495},{x:1.07604,y:-0.0940559,z:0.705859},{x:1.08505,y:-0.0928649,z:0.684176},{x:1.07117,y:-0.105303,z:0.669844},{x:1.05358,y:-0.114182,z:0.682669},{x:1.05659,y:-0.10723,z:0.704927},{x:1.00755,y:0.00867133,z:0.68303},{x:1.01657,y:0.00986239,z:0.661348},{x:1.00269,y:-0.00257603,z:0.647016},{x:0.985094,y:-0.0114545,z:0.65984},{x:0.988101,y:-0.00450322,z:0.682098},{x:1,y:0,z:0.666667}], faces:[[0,2,1],[0,3,2],[0,4,3],[0,5,4],[0,1,5],[1,2,7,6],[2,3,8,7],[3,4,9,8],[4,5,10,9],[5,1,6,10],[6,7,11],[7,8,11],[8,9,11],[9,10,11],[10,6,11]], color:'#0000ff', opacity:1},{vertices:[{x:1.16667,y:-0.25,z:0.722222},{x:1.09114,y:-0.0767133,z:0.738586},{x:1.11818,y:-0.0731401,z:0.673539},{x:1.07654,y:-0.110455,z:0.630543},{x:1.02377,y:-0.137091,z:0.669016},{x:1.03279,y:-0.116237,z:0.73579},{x:1.06848,y:-0.102727,z:0.689495}], faces:[[0,2,1],[0,3,2],[0,4,3],[0,5,4],[0,1,5],[1,2,6],[2,3,6],[3,4,6],[4,5,6],[5,1,6]], color:'#0000ff', opacity:1},{vertices:[{x:1.13,y:-0.13,z:1.065},{x:1.13667,y:-0.116667,z:1.07833},{x:1.14474,y:-0.119539,z:1.05644},{x:1.13244,y:-0.136868,z:1.04638},{x:1.11677,y:-0.144705,z:1.06205},{x:1.11938,y:-0.13222,z:1.0818},{x:1.00667,y:0.0133333,z:1.01333},{x:1.01474,y:0.0104606,z:0.991439},{x:1.00244,y:-0.00686832,z:0.981376},{x:0.986769,y:-0.0147055,z:0.99705},{x:0.989379,y:-0.00222015,z:1.0168},{x:1,y:0,z:1}], faces:[[0,2,1],[0,3,2],[0,4,3],[0,5,4],[0,1,5],[1,2,7,6],[2,3,8,7],[3,4,9,8],[4,5,10,9],[5,1,6,10],[6,7,11],[7,8,11],[8,9,11],[9,10,11],[10,6,11]], color:'#0000ff', opacity:1},{vertices:[{x:1.25,y:-0.25,z:1.125},{x:1.15,y:-0.09,z:1.105},{x:1.17422,y:-0.0986182,z:1.03932},{x:1.13733,y:-0.150605,z:1.00913},{x:1.09031,y:-0.174116,z:1.05615},{x:1.09814,y:-0.13666,z:1.1154},{x:1.13,y:-0.13,z:1.065}], faces:[[0,2,1],[0,3,2],[0,4,3],[0,5,4],[0,1,5],[1,2,6],[2,3,6],[3,4,6],[4,5,6],[5,1,6]], color:'#0000ff', opacity:1},{vertices:[{x:0.910476,y:0.154286,z:-0.940317},{x:0.904762,y:0.162857,z:-0.923175},{x:0.925014,y:0.1515,z:-0.926868},{x:0.925175,y:0.143993,z:-0.949148},{x:0.905023,y:0.15071,z:-0.959224},{x:0.892407,y:0.162369,z:-0.943172},{x:0.994286,y:0.341905,z:-0.982857},{x:1.01454,y:0.330547,z:-0.986551},{x:1.0147,y:0.32304,z:-1.00883},{x:0.994547,y:0.329758,z:-1.01891},{x:0.98193,y:0.341417,z:-1.00285},{x:1,y:0.333333,z:-1}], faces:[[0,2,1],[0,3,2],[0,4,3],[0,5,4],[0,1,5],[1,2,7,6],[2,3,8,7],[3,4,9,8],[4,5,10,9],[5,1,6,10],[6,7,11],[7,8,11],[8,9,11],[9,10,11],[10,6,11]], color:'#0000ff', opacity:1},{vertices:[{x:0.833333,y:-2.77556e-17,z:-0.888889},{x:0.893333,y:0.18,z:-0.888889},{x:0.95409,y:0.145928,z:-0.899969},{x:0.954574,y:0.123406,z:-0.96681},{x:0.894116,y:0.143559,z:-0.997039},{x:0.856267,y:0.178536,z:-0.948881},{x:0.910476,y:0.154286,z:-0.940317}], faces:[[0,2,1],[0,3,2],[0,4,3],[0,5,4],[0,1,5],[1,2,6],[2,3,6],[3,4,6],[4,5,6],[5,1,6]], color:'#0000ff', opacity:1},{vertices:[{x:0.963623,y:0.199952,z:-0.648478},{x:0.959208,y:0.203764,z:-0.629348},{x:0.980135,y:0.196931,z:-0.637605},{x:0.978243,y:0.194272,z:-0.660888},{x:0.956147,y:0.199462,z:-0.667022},{x:0.944383,y:0.205329,z:-0.647529},{x:0.995585,y:0.337146,z:-0.647536},{x:1.01651,y:0.330313,z:-0.655793},{x:1.01462,y:0.327654,z:-0.679077},{x:0.992524,y:0.332844,z:-0.68521},{x:0.98076,y:0.33871,z:-0.665717},{x:1,y:0.333333,z:-0.666667}], faces:[[0,2,1],[0,3,2],[0,4,3],[0,5,4],[0,1,5],[1,2,7,6],[2,3,8,7],[3,4,9,8],[4,5,10,9],[5,1,6,10],[6,7,11],[7,8,11],[8,9,11],[9,10,11],[10,6,11]], color:'#0000ff', opacity:1},{vertices:[{x:0.916667,y:0.0277778,z:-0.625},{x:0.950379,y:0.21139,z:-0.591087},{x:1.01316,y:0.19089,z:-0.615857},{x:1.00748,y:0.182913,z:-0.685709},{x:0.941194,y:0.198483,z:-0.704109},{x:0.905902,y:0.216082,z:-0.645629},{x:0.963623,y:0.199952,z:-0.648478}], faces:[[0,2,1],[0,3,2],[0,4,3],[0,5,4],[0,1,5],[1,2,6],[2,3,6],[3,4,6],[4,5,6],[5,1,6]], color:'#0000ff', opacity:1},{vertices:[{x:1,y:0.235556,z:-0.333333},{x:1,y:0.235556,z:-0.313333},{x:1.01902,y:0.235556,z:-0.327153},{x:1.01176,y:0.235556,z:-0.349514},{x:0.988244,y:0.235556,z:-0.349514},{x:0.980979,y:0.235556,z:-0.327153},{x:1,y:0.333333,z:-0.313333},{x:1.01902,y:0.333333,z:-0.327153},{x:1.01176,y:0.333333,z:-0.349514},{x:0.988244,y:0.333333,z:-0.349514},{x:0.980979,y:0.333333,z:-0.327153},{x:1,y:0.333333,z:-0.333333}], faces:[[0,2,1],[0,3,2],[0,4,3],[0,5,4],[0,1,5],[1,2,7,6],[2,3,8,7],[3,4,9,8],[4,5,10,9],[5,1,6,10],[6,7,11],[7,8,11],[8,9,11],[9,10,11],[10,6,11]], color:'#0000ff', opacity:1},{vertices:[{x:1,y:0.0555556,z:-0.333333},{x:1,y:0.235556,z:-0.273333},{x:1.05706,y:0.235556,z:-0.314792},{x:1.03527,y:0.235556,z:-0.381874},{x:0.964733,y:0.235556,z:-0.381874},{x:0.942937,y:0.235556,z:-0.314792},{x:1,y:0.235556,z:-0.333333}], faces:[[0,2,1],[0,3,2],[0,4,3],[0,5,4],[0,1,5],[1,2,6],[2,3,6],[3,4,6],[4,5,6],[5,1,6]], color:'#0000ff', opacity:1},{vertices:[{x:1.02649,y:0.25386,z:-0.0044152},{x:1.03281,y:0.254912,z:0.0145322},{x:1.04546,y:0.260192,z:-0.00456682},{x:1.0319,y:0.25672,z:-0.0234563},{x:1.01086,y:0.249296,z:-0.0160316},{x:1.01142,y:0.248178,z:0.00744653},{x:1.00632,y:0.334386,z:0.0189474},{x:1.01897,y:0.339665,z:-0.000151614},{x:1.00541,y:0.336194,z:-0.0190411},{x:0.984372,y:0.328769,z:-0.0116164},{x:0.984933,y:0.327652,z:0.0118617},{x:1,y:0.333333,z:0}], faces:[[0,2,1],[0,3,2],[0,4,3],[0,5,4],[0,1,5],[1,2,7,6],[2,3,8,7],[3,4,9,8],[4,5,10,9],[5,1,6,10],[6,7,11],[7,8,11],[8,9,11],[9,10,11],[10,6,11]], color:'#0000ff', opacity:1},{vertices:[{x:1.08333,y:0.0833333,z:-0.0138889},{x:1.04544,y:0.257018,z:0.0524269},{x:1.0834,y:0.272856,z:-0.00487005},{x:1.04272,y:0.262442,z:-0.0615384},{x:0.979608,y:0.240168,z:-0.0392645},{x:0.98129,y:0.236815,z:0.03117},{x:1.02649,y:0.25386,z:-0.0044152}], faces:[[0,2,1],[0,3,2],[0,4,3],[0,5,4],[0,1,5],[1,2,6],[2,3,6],[3,4,6],[4,5,6],[5,1,6]], color:'#0000ff', opacity:1},{vertices:[{x:1.05867,y:0.255111,z:0.333333},{x:1.06827,y:0.262311,z:0.349333},{x:1.07381,y:0.266466,z:0.326865},{x:1.05842,y:0.254929,z:0.313336},{x:1.04338,y:0.243643,z:0.327442},{x:1.04946,y:0.248206,z:0.34969},{x:1.0096,y:0.340533,z:0.349333},{x:1.01514,y:0.344688,z:0.326865},{x:0.999757,y:0.333151,z:0.313336},{x:0.98471,y:0.321866,z:0.327442},{x:0.990793,y:0.326428,z:0.34969},{x:1,y:0.333333,z:0.333333}], faces:[[0,2,1],[0,3,2],[0,4,3],[0,5,4],[0,1,5],[1,2,7,6],[2,3,8,7],[3,4,9,8],[4,5,10,9],[5,1,6,10],[6,7,11],[7,8,11],[8,9,11],[9,10,11],[10,6,11]], color:'#0000ff', opacity:1},{vertices:[{x:1.16667,y:0.111111,z:0.333333},{x:1.08747,y:0.276711,z:0.381333},{x:1.10409,y:0.289176,z:0.313928},{x:1.05794,y:0.254565,z:0.27334},{x:1.0128,y:0.220708,z:0.315661},{x:1.03105,y:0.234395,z:0.382404},{x:1.05867,y:0.255111,z:0.333333}], faces:[[0,2,1],[0,3,2],[0,4,3],[0,5,4],[0,1,5],[1,2,6],[2,3,6],[3,4,6],[4,5,6],[5,1,6]], color:'#0000ff', opacity:1},{vertices:[{x:1.10913,y:0.248454,z:0.684855},{x:1.11756,y:0.261899,z:0.697029},{x:1.12045,y:0.260624,z:0.673731},{x:1.1077,y:0.242531,z:0.665806},{x:1.09693,y:0.232623,z:0.684206},{x:1.10302,y:0.244593,z:0.703503},{x:1.00843,y:0.346778,z:0.678841},{x:1.01132,y:0.345504,z:0.655543},{x:0.998568,y:0.32741,z:0.647618},{x:0.987795,y:0.317502,z:0.666018},{x:0.993889,y:0.329472,z:0.685315},{x:1,y:0.333333,z:0.666667}], faces:[[0,2,1],[0,3,2],[0,4,3],[0,5,4],[0,1,5],[1,2,7,6],[2,3,8,7],[3,4,9,8],[4,5,10,9],[5,1,6,10],[6,7,11],[7,8,11],[8,9,11],[9,10,11],[10,6,11]], color:'#0000ff', opacity:1},{vertices:[{x:1.25,y:0.138889,z:0.708333},{x:1.13441,y:0.288789,z:0.721377},{x:1.14309,y:0.284965,z:0.651483},{x:1.10483,y:0.230685,z:0.627708},{x:1.07252,y:0.200961,z:0.682909},{x:1.0908,y:0.236871,z:0.740799},{x:1.10913,y:0.248454,z:0.684855}], faces:[[0,2,1],[0,3,2],[0,4,3],[0,5,4],[0,1,5],[1,2,6],[2,3,6],[3,4,6],[4,5,6],[5,1,6]], color:'#0000ff', opacity:1},{vertices:[{x:1.17905,y:0.24381,z:1.05968},{x:1.18476,y:0.260952,z:1.06825},{x:1.18897,y:0.254542,z:1.04603},{x:1.17946,y:0.233299,z:1.04267},{x:1.16939,y:0.226582,z:1.06282},{x:1.17266,y:0.243672,z:1.07864},{x:1.00571,y:0.350476,z:1.00857},{x:1.00992,y:0.344065,z:0.986345},{x:1.00042,y:0.322823,z:0.982989},{x:0.990339,y:0.316106,z:1.00314},{x:0.993614,y:0.333196,z:1.01895},{x:1,y:0.333333,z:1}], faces:[[0,2,1],[0,3,2],[0,4,3],[0,5,4],[0,1,5],[1,2,7,6],[2,3,8,7],[3,4,9,8],[4,5,10,9],[5,1,6,10],[6,7,11],[7,8,11],[8,9,11],[9,10,11],[10,6,11]], color:'#0000ff', opacity:1},{vertices:[{x:1.33333,y:0.166667,z:1.11111},{x:1.19619,y:0.295238,z:1.0854},{x:1.2088,y:0.276006,z:1.01872},{x:1.18029,y:0.212279,z:1.00865},{x:1.15006,y:0.192127,z:1.06911},{x:1.15989,y:0.243398,z:1.11654},{x:1.17905,y:0.24381,z:1.05968}], faces:[[0,2,1],[0,3,2],[0,4,3],[0,5,4],[0,1,5],[1,2,6],[2,3,6],[3,4,6],[4,5,6],[5,1,6]], color:'#0000ff', opacity:1},{vertices:[{x:0.951505,y:0.424194,z:-0.959588},{x:0.94828,y:0.428065,z:-0.940233},{x:0.968916,y:0.422322,z:-0.949925},{x:0.965492,y:0.419166,z:-0.972971},{x:0.942739,y:0.422958,z:-0.977522},{x:0.932101,y:0.428458,z:-0.957288},{x:0.996774,y:0.670538,z:-0.980645},{x:1.01741,y:0.664795,z:-0.990338},{x:1.01399,y:0.661639,z:-1.01338},{x:0.991233,y:0.665431,z:-1.01793},{x:0.980596,y:0.670931,z:-0.997701},{x:1,y:0.666667,z:-1}], faces:[[0,2,1],[0,3,2],[0,4,3],[0,5,4],[0,1,5],[1,2,7,6],[2,3,8,7],[3,4,9,8],[4,5,10,9],[5,1,6,10],[6,7,11],[7,8,11],[8,9,11],[9,10,11],[10,6,11]], color:'#0000ff', opacity:1},{vertices:[{x:0.916667,y:0.25,z:-0.930556},{x:0.941828,y:0.435806,z:-0.901523},{x:1.00374,y:0.418578,z:-0.9306},{x:0.993464,y:0.40911,z:-0.999737},{x:0.925205,y:0.420487,z:-1.01339},{x:0.893292,y:0.436986,z:-0.952689},{x:0.951505,y:0.424194,z:-0.959588}], faces:[[0,2,1],[0,3,2],[0,4,3],[0,5,4],[0,1,5],[1,2,6],[2,3,6],[3,4,6],[4,5,6],[5,1,6]], color:'#0000ff', opacity:1},{vertices:[{x:1,y:0.485556,z:-0.666667},{x:1,y:0.485556,z:-0.646667},{x:1.01902,y:0.485556,z:-0.660486},{x:1.01176,y:0.485556,z:-0.682847},{x:0.988244,y:0.485556,z:-0.682847},{x:0.980979,y:0.485556,z:-0.660486},{x:1,y:0.666667,z:-0.646667},{x:1.01902,y:0.666667,z:-0.660486},{x:1.01176,y:0.666667,z:-0.682847},{x:0.988244,y:0.666667,z:-0.682847},{x:0.980979,y:0.666667,z:-0.660486},{x:1,y:0.666667,z:-0.666667}], faces:[[0,2,1],[0,3,2],[0,4,3],[0,5,4],[0,1,5],[1,2,7,6],[2,3,8,7],[3,4,9,8],[4,5,10,9],[5,1,6,10],[6,7,11],[7,8,11],[8,9,11],[9,10,11],[10,6,11]], color:'#0000ff', opacity:1},{vertices:[{x:1,y:0.305556,z:-0.666667},{x:1,y:0.485556,z:-0.606667},{x:1.05706,y:0.485556,z:-0.648126},{x:1.03527,y:0.485556,z:-0.715208},{x:0.964733,y:0.485556,z:-0.715208},{x:0.942937,y:0.485556,z:-0.648126},{x:1,y:0.485556,z:-0.666667}], faces:[[0,2,1],[0,3,2],[0,4,3],[0,5,4],[0,1,5],[1,2,6],[2,3,6],[3,4,6],[4,5,6],[5,1,6]], color:'#0000ff', opacity:1},{vertices:[{x:1.03638,y:0.533285,z:-0.351522},{x:1.04212,y:0.532242,z:-0.332391},{x:1.05568,y:0.538421,z:-0.350572},{x:1.04257,y:0.537503,z:-0.370065},{x:1.0209,y:0.530756,z:-0.363932},{x:1.02062,y:0.527504,z:-0.340648},{x:1.00574,y:0.665623,z:-0.314203},{x:1.01931,y:0.671802,z:-0.332384},{x:1.00619,y:0.670884,z:-0.351877},{x:0.984521,y:0.664137,z:-0.345743},{x:0.984241,y:0.660886,z:-0.32246},{x:1,y:0.666667,z:-0.333333}], faces:[[0,2,1],[0,3,2],[0,4,3],[0,5,4],[0,1,5],[1,2,7,6],[2,3,8,7],[3,4,9,8],[4,5,10,9],[5,1,6,10],[6,7,11],[7,8,11],[8,9,11],[9,10,11],[10,6,11]], color:'#0000ff', opacity:1},{vertices:[{x:1.08333,y:0.361111,z:-0.375},{x:1.05359,y:0.530155,z:-0.29413},{x:1.09429,y:0.548692,z:-0.348673},{x:1.05495,y:0.545938,z:-0.407152},{x:0.989941,y:0.525697,z:-0.388752},{x:0.9891,y:0.515943,z:-0.318901},{x:1.03638,y:0.533285,z:-0.351522}], faces:[[0,2,1],[0,3,2],[0,4,3],[0,5,4],[0,1,5],[1,2,6],[2,3,6],[3,4,6],[4,5,6],[5,1,6]], color:'#0000ff', opacity:1},{vertices:[{x:1.06848,y:0.563939,z:-0.0228283},{x:1.07939,y:0.567576,z:-0.00646465},{x:1.08396,y:0.575438,z:-0.0281468},{x:1.06714,y:0.56741,z:-0.0424789},{x:1.05218,y:0.554585,z:-0.0296545},{x:1.05975,y:0.554688,z:-0.00739648},{x:1.01091,y:0.670303,z:0.0163636},{x:1.01548,y:0.678166,z:-0.00531852},{x:0.998655,y:0.670137,z:-0.0196507},{x:0.983693,y:0.657313,z:-0.00682626},{x:0.991267,y:0.657415,z:0.0154318},{x:1,y:0.666667,z:0}], faces:[[0,2,1],[0,3,2],[0,4,3],[0,5,4],[0,1,5],[1,2,7,6],[2,3,8,7],[3,4,9,8],[4,5,10,9],[5,1,6,10],[6,7,11],[7,8,11],[8,9,11],[9,10,11],[10,6,11]], color:'#0000ff', opacity:1},{vertices:[{x:1.16667,y:0.416667,z:-0.0555556},{x:1.10121,y:0.574848,z:0.0262626},{x:1.11491,y:0.598436,z:-0.0387838},{x:1.06445,y:0.57435,z:-0.0817803},{x:1.01957,y:0.535877,z:-0.0433071},{x:1.04229,y:0.536185,z:0.0234671},{x:1.06848,y:0.563939,z:-0.0228283}], faces:[[0,2,1],[0,3,2],[0,4,3],[0,5,4],[0,1,5],[1,2,6],[2,3,6],[3,4,6],[4,5,6],[5,1,6]], color:'#0000ff', opacity:1},{vertices:[{x:1.10913,y:0.581787,z:0.315145},{x:1.12009,y:0.593266,z:0.327319},{x:1.11814,y:0.595755,z:0.304021},{x:1.10374,y:0.578941,z:0.296096},{x:1.09679,y:0.566061,z:0.314496},{x:1.10689,y:0.574914,z:0.333793},{x:1.01096,y:0.678145,z:0.345507},{x:1.00901,y:0.680634,z:0.322209},{x:0.994612,y:0.663821,z:0.314284},{x:0.98766,y:0.65094,z:0.332685},{x:0.997762,y:0.659793,z:0.351981},{x:1,y:0.666667,z:0.333333}], faces:[[0,2,1],[0,3,2],[0,4,3],[0,5,4],[0,1,5],[1,2,7,6],[2,3,8,7],[3,4,9,8],[4,5,10,9],[5,1,6,10],[6,7,11],[7,8,11],[8,9,11],[9,10,11],[10,6,11]], color:'#0000ff', opacity:1},{vertices:[{x:1.25,y:0.472222,z:0.291667},{x:1.142,y:0.616222,z:0.351667},{x:1.13616,y:0.623689,z:0.281772},{x:1.09297,y:0.573249,z:0.257998},{x:1.07211,y:0.534609,z:0.313199},{x:1.10242,y:0.561168,z:0.371089},{x:1.10913,y:0.581787,z:0.315145}], faces:[[0,2,1],[0,3,2],[0,4,3],[0,5,4],[0,1,5],[1,2,6],[2,3,6],[3,4,6],[4,5,6],[5,1,6]], color:'#0000ff', opacity:1},{vertices:[{x:1.16718,y:0.597009,z:0.666667},{x:1.17428,y:0.61405,z:0.674359},{x:1.17219,y:0.609028,z:0.651486},{x:1.16317,y:0.587395,z:0.649592},{x:1.1597,y:0.579048,z:0.671295},{x:1.16656,y:0.595522,z:0.686602},{x:1.0071,y:0.683708,z:0.674359},{x:1.00501,y:0.678686,z:0.651486},{x:0.995995,y:0.657053,z:0.649592},{x:0.992516,y:0.648706,z:0.671295},{x:0.99938,y:0.66518,z:0.686602},{x:1,y:0.666667,z:0.666667}], faces:[[0,2,1],[0,3,2],[0,4,3],[0,5,4],[0,1,5],[1,2,7,6],[2,3,8,7],[3,4,9,8],[4,5,10,9],[5,1,6,10],[6,7,11],[7,8,11],[8,9,11],[9,10,11],[10,6,11]], color:'#0000ff', opacity:1},{vertices:[{x:1.33333,y:0.527778,z:0.666667},{x:1.18848,y:0.648133,z:0.689744},{x:1.1822,y:0.633066,z:0.621124},{x:1.15516,y:0.568169,z:0.615443},{x:1.14473,y:0.543127,z:0.680551},{x:1.16532,y:0.592548,z:0.726472},{x:1.16718,y:0.597009,z:0.666667}], faces:[[0,2,1],[0,3,2],[0,4,3],[0,5,4],[0,1,5],[1,2,6],[2,3,6],[3,4,6],[4,5,6],[5,1,6]], color:'#0000ff', opacity:1},{vertices:[{x:1.24247,y:0.618172,z:1.04041},{x:1.2457,y:0.637527,z:1.04428},{x:1.24715,y:0.627221,z:1.0232},{x:1.24214,y:0.60441,z:1.0259},{x:1.23759,y:0.600618,z:1.04866},{x:1.23979,y:0.621085,z:1.06002},{x:1.00323,y:0.686022,z:1.00387},{x:1.00468,y:0.675716,z:0.982789},{x:0.999666,y:0.652904,z:0.985492},{x:0.995115,y:0.649112,z:1.00824},{x:0.997315,y:0.66958,z:1.0196},{x:1,y:0.666667,z:1}], faces:[[0,2,1],[0,3,2],[0,4,3],[0,5,4],[0,1,5],[1,2,7,6],[2,3,8,7],[3,4,9,8],[4,5,10,9],[5,1,6,10],[6,7,11],[7,8,11],[8,9,11],[9,10,11],[10,6,11]], color:'#0000ff', opacity:1},{vertices:[{x:1.41667,y:0.583333,z:1.06944},{x:1.25215,y:0.676237,z:1.05203},{x:1.25651,y:0.645319,z:0.988778},{x:1.24147,y:0.576885,z:0.996888},{x:1.22782,y:0.565509,z:1.06515},{x:1.23442,y:0.626911,z:1.09922},{x:1.24247,y:0.618172,z:1.04041}], faces:[[0,2,1],[0,3,2],[0,4,3],[0,5,4],[0,1,5],[1,2,6],[2,3,6],[3,4,6],[4,5,6],[5,1,6]], color:'#0000ff', opacity:1},{vertices:[{x:1,y:0.68,z:-1},{x:1,y:0.68,z:-0.98},{x:1.01902,y:0.68,z:-0.99382},{x:1.01176,y:0.68,z:-1.01618},{x:0.988244,y:0.68,z:-1.01618},{x:0.980979,y:0.68,z:-0.99382},{x:1,y:1,z:-0.98},{x:1.01902,y:1,z:-0.99382},{x:1.01176,y:1,z:-1.01618},{x:0.988244,y:1,z:-1.01618},{x:0.980979,y:1,z:-0.99382},{x:1,y:1,z:-1}], faces:[[0,2,1],[0,3,2],[0,4,3],[0,5,4],[0,1,5],[1,2,7,6],[2,3,8,7],[3,4,9,8],[4,5,10,9],[5,1,6,10],[6,7,11],[7,8,11],[8,9,11],[9,10,11],[10,6,11]], color:'#0000ff', opacity:1},{vertices:[{x:1,y:0.5,z:-1},{x:1,y:0.68,z:-0.94},{x:1.05706,y:0.68,z:-0.981459},{x:1.03527,y:0.68,z:-1.04854},{x:0.964733,y:0.68,z:-1.04854},{x:0.942937,y:0.68,z:-0.981459},{x:1,y:0.68,z:-1}], faces:[[0,2,1],[0,3,2],[0,4,3],[0,5,4],[0,1,5],[1,2,6],[2,3,6],[3,4,6],[4,5,6],[5,1,6]], color:'#0000ff', opacity:1},{vertices:[{x:1.04849,y:0.757527,z:-0.707079},{x:1.05296,y:0.755194,z:-0.687724},{x:1.06805,y:0.761054,z:-0.704779},{x:1.05611,y:0.762039,z:-0.725013},{x:1.03365,y:0.756789,z:-0.720462},{x:1.0317,y:0.752558,z:-0.697416},{x:1.00447,y:0.997667,z:-0.647312},{x:1.01955,y:1.00353,z:-0.664367},{x:1.00762,y:1.00451,z:-0.6846},{x:0.985156,y:0.999262,z:-0.68005},{x:0.983209,y:0.995031,z:-0.657004},{x:1,y:1,z:-0.666667}], faces:[[0,2,1],[0,3,2],[0,4,3],[0,5,4],[0,1,5],[1,2,7,6],[2,3,8,7],[3,4,9,8],[4,5,10,9],[5,1,6,10],[6,7,11],[7,8,11],[8,9,11],[9,10,11],[10,6,11]], color:'#0000ff', opacity:1},{vertices:[{x:1.08333,y:0.583333,z:-0.736111},{x:1.06189,y:0.750529,z:-0.649014},{x:1.10715,y:0.768108,z:-0.70018},{x:1.07135,y:0.771064,z:-0.76088},{x:1.00396,y:0.755312,z:-0.747228},{x:0.998121,y:0.742621,z:-0.678091},{x:1.04849,y:0.757527,z:-0.707079}], faces:[[0,2,1],[0,3,2],[0,4,3],[0,5,4],[0,1,5],[1,2,6],[2,3,6],[3,4,6],[4,5,6],[5,1,6]], color:'#0000ff', opacity:1},{vertices:[{x:1.08952,y:0.820952,z:-0.393016},{x:1.09981,y:0.820381,z:-0.375873},{x:1.10683,y:0.830558,z:-0.39587},{x:1.08994,y:0.82746,z:-0.411923},{x:1.07247,y:0.815369,z:-0.401847},{x:1.07857,y:0.810994,z:-0.379567},{x:1.01029,y:0.999429,z:-0.31619},{x:1.01731,y:1.00961,z:-0.336188},{x:1.00041,y:1.00651,z:-0.35224},{x:0.982946,y:0.994417,z:-0.342164},{x:0.989048,y:0.990041,z:-0.319884},{x:1,y:1,z:-0.333333}], faces:[[0,2,1],[0,3,2],[0,4,3],[0,5,4],[0,1,5],[1,2,7,6],[2,3,8,7],[3,4,9,8],[4,5,10,9],[5,1,6,10],[6,7,11],[7,8,11],[8,9,11],[9,10,11],[10,6,11]], color:'#0000ff', opacity:1},{vertices:[{x:1.16667,y:0.666667,z:-0.444444},{x:1.12038,y:0.819238,z:-0.341587},{x:1.14145,y:0.84977,z:-0.401579},{x:1.09076,y:0.840477,z:-0.449737},{x:1.03836,y:0.804202,z:-0.419508},{x:1.05667,y:0.791076,z:-0.352668},{x:1.08952,y:0.820952,z:-0.393016}], faces:[[0,2,1],[0,3,2],[0,4,3],[0,5,4],[0,1,5],[1,2,6],[2,3,6],[3,4,6],[4,5,6],[5,1,6]], color:'#0000ff', opacity:1},{vertices:[{x:1.13,y:0.87,z:-0.065},{x:1.14333,y:0.876667,z:-0.0516667},{x:1.14046,y:0.884741,z:-0.0735605},{x:1.12313,y:0.872444,z:-0.083624},{x:1.11529,y:0.856769,z:-0.0679498},{x:1.12778,y:0.859379,z:-0.048199},{x:1.01333,y:1.00667,z:0.0133333},{x:1.01046,y:1.01474,z:-0.00856053},{x:0.993132,y:1.00244,z:-0.018624},{x:0.985295,y:0.986769,z:-0.00294976},{x:0.99778,y:0.989379,z:0.016801},{x:1,y:1,z:0}], faces:[[0,2,1],[0,3,2],[0,4,3],[0,5,4],[0,1,5],[1,2,7,6],[2,3,8,7],[3,4,9,8],[4,5,10,9],[5,1,6,10],[6,7,11],[7,8,11],[8,9,11],[9,10,11],[10,6,11]], color:'#0000ff', opacity:1},{vertices:[{x:1.25,y:0.75,z:-0.125},{x:1.17,y:0.89,z:-0.025},{x:1.16138,y:0.914223,z:-0.0906816},{x:1.1094,y:0.877331,z:-0.120872},{x:1.08588,y:0.830308,z:-0.0738493},{x:1.12334,y:0.838138,z:-0.0145971},{x:1.13,y:0.87,z:-0.065}], faces:[[0,2,1],[0,3,2],[0,4,3],[0,5,4],[0,1,5],[1,2,6],[2,3,6],[3,4,6],[4,5,6],[5,1,6]], color:'#0000ff', opacity:1},{vertices:[{x:1.17905,y:0.910476,z:0.273651},{x:1.18933,y:0.925333,z:0.282222},{x:1.18168,y:0.92485,z:0.259996},{x:1.17039,y:0.904502,z:0.25664},{x:1.17106,y:0.892411,z:0.276793},{x:1.18277,y:0.905285,z:0.292603},{x:1.01029,y:1.01486,z:0.341905},{x:1.00263,y:1.01437,z:0.319678},{x:0.991343,y:0.994026,z:0.316323},{x:0.992015,y:0.981935,z:0.336475},{x:1.00372,y:0.994809,z:0.352286},{x:1,y:1,z:0.333333}], faces:[[0,2,1],[0,3,2],[0,4,3],[0,5,4],[0,1,5],[1,2,7,6],[2,3,8,7],[3,4,9,8],[4,5,10,9],[5,1,6,10],[6,7,11],[7,8,11],[8,9,11],[9,10,11],[10,6,11]], color:'#0000ff', opacity:1},{vertices:[{x:1.33333,y:0.833333,z:0.222222},{x:1.2099,y:0.955048,z:0.299365},{x:1.18695,y:0.953596,z:0.232685},{x:1.15308,y:0.892555,z:0.222619},{x:1.15509,y:0.85628,z:0.283076},{x:1.19021,y:0.894903,z:0.330508},{x:1.17905,y:0.910476,z:0.273651}], faces:[[0,2,1],[0,3,2],[0,4,3],[0,5,4],[0,1,5],[1,2,6],[2,3,6],[3,4,6],[4,5,6],[5,1,6]], color:'#0000ff', opacity:1},{vertices:[{x:1.24247,y:0.951505,z:0.626254},{x:1.24694,y:0.970612,z:0.630125},{x:1.24163,y:0.961658,z:0.609043},{x:1.23749,y:0.938673,z:0.611746},{x:1.24023,y:0.933422,z:0.634499},{x:1.24607,y:0.953162,z:0.645858},{x:1.00447,y:1.01911,z:0.670538},{x:0.999162,y:1.01015,z:0.649455},{x:0.995016,y:0.987168,z:0.652158},{x:0.997758,y:0.981917,z:0.674911},{x:1.0036,y:1.00166,z:0.68627},{x:1,y:1,z:0.666667}], faces:[[0,2,1],[0,3,2],[0,4,3],[0,5,4],[0,1,5],[1,2,7,6],[2,3,8,7],[3,4,9,8],[4,5,10,9],[5,1,6,10],[6,7,11],[7,8,11],[8,9,11],[9,10,11],[10,6,11]], color:'#0000ff', opacity:1},{vertices:[{x:1.41667,y:0.916667,z:0.597222},{x:1.25587,y:1.00883,z:0.637867},{x:1.23996,y:0.981962,z:0.57462},{x:1.22752,y:0.913008,z:0.58273},{x:1.23575,y:0.897256,z:0.650989},{x:1.25327,y:0.956475,z:0.685066},{x:1.24247,y:0.951505,z:0.626254}], faces:[[0,2,1],[0,3,2],[0,4,3],[0,5,4],[0,1,5],[1,2,6],[2,3,6],[3,4,6],[4,5,6],[5,1,6]], color:'#0000ff', opacity:1},{vertices:[{x:1.32,y:1,z:1},{x:1.32,y:1.02,z:1},{x:1.32,y:1.00618,z:0.980979},{x:1.32,y:0.98382,z:0.988244},{x:1.32,y:0.98382,z:1.01176},{x:1.32,y:1.00618,z:1.01902},{x:1,y:1.02,z:1},{x:1,y:1.00618,z:0.980979},{x:1,y:0.98382,z:0.988244},{x:1,y:0.98382,z:1.01176},{x:1,y:1.00618,z:1.01902},{x:1,y:1,z:1}], faces:[[0,2,1],[0,3,2],[0,4,3],[0,5,4],[0,1,5],[1,2,7,6],[2,3,8,7],[3,4,9,8],[4,5,10,9],[5,1,6,10],[6,7,11],[7,8,11],[8,9,11],[9,10,11],[10,6,11]], color:'#0000ff', opacity:1},{vertices:[{x:1.5,y:1,z:1},{x:1.32,y:1.06,z:1},{x:1.32,y:1.01854,z:0.942937},{x:1.32,y:0.951459,z:0.964733},{x:1.32,y:0.951459,z:1.03527},{x:1.32,y:1.01854,z:1.05706},{x:1.32,y:1,z:1}], faces:[[0,2,1],[0,3,2],[0,4,3],[0,5,4],[0,1,5],[1,2,6],[2,3,6],[3,4,6],[4,5,6],[5,1,6]], color:'#0000ff', opacity:1}];\n",
       "    for ( var i=0 ; i < surfaces.length ; i++ ) addSurface( surfaces[i] );\n",
       "\n",
       "    function addSurface( json ) {\n",
       "        var geometry = new THREE.Geometry();\n",
       "        for ( var i=0 ; i < json.vertices.length ; i++ ) {\n",
       "            var v = json.vertices[i];\n",
       "            geometry.vertices.push( new THREE.Vector3( a[0]*v.x, a[1]*v.y, a[2]*v.z ) );\n",
       "        }\n",
       "        for ( var i=0 ; i < json.faces.length ; i++ ) {\n",
       "            var f = json.faces[i];\n",
       "            for ( var j=0 ; j < f.length - 2 ; j++ ) {\n",
       "                geometry.faces.push( new THREE.Face3( f[0], f[j+1], f[j+2] ) );\n",
       "            }\n",
       "        }\n",
       "        geometry.computeVertexNormals();\n",
       "        var depthWrite = json.opacity < 1 ? false : true;\n",
       "        var material = new THREE.MeshPhongMaterial( {\n",
       "                                     color: json.color , side: THREE.DoubleSide,\n",
       "                                     transparent: true, opacity: json.opacity,\n",
       "                                     shininess: 20, depthWrite: depthWrite } );\n",
       "        scene.add( new THREE.Mesh( geometry, material ) );\n",
       "    }\n",
       "\n",
       "    var scratch = new THREE.Vector3();\n",
       "\n",
       "    function render() {\n",
       "\n",
       "        if ( animate ) requestAnimationFrame( render );\n",
       "        renderer.render( scene, camera );\n",
       "\n",
       "        for ( var i=0 ; i < scene.children.length ; i++ ) {\n",
       "            if ( scene.children[i].type === 'Sprite' ) {\n",
       "                var sprite = scene.children[i];\n",
       "                var adjust = scratch.addVectors( sprite.position, scene.position )\n",
       "                               .sub( camera.position ).length() / 5;\n",
       "                sprite.scale.set( adjust, .25*adjust ); // ratio of canvas width to height\n",
       "            }\n",
       "        }\n",
       "    }\n",
       "    \n",
       "    render();\n",
       "    if ( !animate ) render();\n",
       "\n",
       "</script>\n",
       "\n",
       "</body>\n",
       "</html>\" \n",
       "        width=\"100%\"\n",
       "        height=\"400\"\n",
       "        style=\"border: 0;\">\n",
       "</iframe>\n"
      ],
      "text/plain": [
       "Graphics3d Object"
      ]
     },
     "metadata": {},
     "output_type": "display_data"
    }
   ],
   "source": [
    "graph = E[3].plot(chart=stereoN, max_range=1, number_values=7, \n",
    "                  scale=0.25, label_axes=False)\n",
    "show(graph, viewer=viewer3D, axes_labels=['x','y','z'])"
   ]
  },
  {
   "cell_type": "code",
   "execution_count": null,
   "metadata": {
    "collapsed": true
   },
   "outputs": [],
   "source": []
  }
 ],
 "metadata": {
  "kernelspec": {
   "display_name": "SageMath 7.5.1",
   "language": "",
   "name": "sagemath"
  },
  "language_info": {
   "codemirror_mode": {
    "name": "ipython",
    "version": 2
   },
   "file_extension": ".py",
   "mimetype": "text/x-python",
   "name": "python",
   "nbconvert_exporter": "python",
   "pygments_lexer": "ipython2",
   "version": "2.7.13"
  }
 },
 "nbformat": 4,
 "nbformat_minor": 0
}
