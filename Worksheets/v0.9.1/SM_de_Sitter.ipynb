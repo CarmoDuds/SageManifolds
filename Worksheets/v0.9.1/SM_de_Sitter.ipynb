{
 "cells": [
  {
   "cell_type": "markdown",
   "metadata": {},
   "source": [
    "# de Sitter spacetime\n",
    "\n",
    "This worksheet demonstrates a few capabilities of [SageManifolds](http://sagemanifolds.obspm.fr) (version 0.9.1) in computations regarding de Sitter spacetime.\n",
    "\n",
    "Click [here](https://raw.githubusercontent.com/sagemanifolds/SageManifolds/master/Worksheets/v0.9.1/SM_de_Sitter.ipynb) to download the worksheet file (ipynb format). To run it, you must start SageMath within the Jupyter notebook, via the command `sage -n jupyter`"
   ]
  },
  {
   "cell_type": "markdown",
   "metadata": {},
   "source": [
    "First we set up the notebook to display mathematical objects using LaTeX formatting:"
   ]
  },
  {
   "cell_type": "code",
   "execution_count": 1,
   "metadata": {
    "collapsed": true
   },
   "outputs": [],
   "source": [
    "%display latex"
   ]
  },
  {
   "cell_type": "markdown",
   "metadata": {},
   "source": [
    "We also define a viewer for 3D plots (use `'jmol'` for interactive 3D graphics):"
   ]
  },
  {
   "cell_type": "code",
   "execution_count": 2,
   "metadata": {
    "collapsed": true
   },
   "outputs": [],
   "source": [
    "viewer3D = 'tachyon' # must be 'jmol', 'tachyon' or None (default)"
   ]
  },
  {
   "cell_type": "markdown",
   "metadata": {},
   "source": [
    "## Spacetime manifold\n",
    "\n",
    "We declare the de Sitter spacetime as a 4-dimensional differentiable manifold:"
   ]
  },
  {
   "cell_type": "code",
   "execution_count": 3,
   "metadata": {
    "collapsed": false
   },
   "outputs": [
    {
     "name": "stdout",
     "output_type": "stream",
     "text": [
      "4-dimensional differentiable manifold M\n"
     ]
    },
    {
     "data": {
      "text/html": [
       "<html><script type=\"math/tex; mode=display\">\\newcommand{\\Bold}[1]{\\mathbf{#1}}\\mathcal{M}</script></html>"
      ],
      "text/plain": [
       "4-dimensional differentiable manifold M"
      ]
     },
     "execution_count": 3,
     "metadata": {},
     "output_type": "execute_result"
    }
   ],
   "source": [
    "M = Manifold(4, 'M', r'\\mathcal{M}')\n",
    "print(M) ; M"
   ]
  },
  {
   "cell_type": "markdown",
   "metadata": {},
   "source": [
    "<p>We consider hyperspherical coordinates $(\\tau,\\chi,\\theta,\\phi)$ on $\\mathcal{M}$. Allowing for the standard coordinate singularities at $\\chi=0$, $\\chi=\\pi$, $\\theta=0$ or $\\theta=\\pi$, these coordinates cover the entire spacetime manifold (which is topologically $\\mathbb{R}\\times\\mathbb{S}^3$). If we restrict ourselves to <em>regular</em> coordinates (i.e. to consider only mathematically well defined charts), the hyperspherical coordinates cover only an open part of $\\mathcal{M}$, which we call $\\mathcal{M}_0$, on which $\\chi$ spans the open interval $(0,\\pi)$, $\\theta$ the open interval $(0,\\pi)$ and $\\phi$ the open interval $(0,2\\pi)$. Therefore, we declare:</p>"
   ]
  },
  {
   "cell_type": "code",
   "execution_count": 4,
   "metadata": {
    "collapsed": false
   },
   "outputs": [
    {
     "name": "stdout",
     "output_type": "stream",
     "text": [
      "Chart (M_0, (ta, ch, th, ph))\n"
     ]
    },
    {
     "data": {
      "text/html": [
       "<html><script type=\"math/tex; mode=display\">\\newcommand{\\Bold}[1]{\\mathbf{#1}}\\left(\\mathcal{M}_0,({\\tau}, {\\chi}, {\\theta}, {\\phi})\\right)</script></html>"
      ],
      "text/plain": [
       "Chart (M_0, (ta, ch, th, ph))"
      ]
     },
     "execution_count": 4,
     "metadata": {},
     "output_type": "execute_result"
    }
   ],
   "source": [
    "M0 = M.open_subset('M_0', r'\\mathcal{M}_0')\n",
    "X_hyp.<ta,ch,th,ph> = M0.chart(r'ta:\\tau ch:(0,pi):\\chi th:(0,pi):\\theta ph:(0,2*pi):\\phi')\n",
    "print(X_hyp) ; X_hyp"
   ]
  },
  {
   "cell_type": "markdown",
   "metadata": {},
   "source": [
    "<h2>$\\mathbb{R}^5$ as an ambient space</h2>\n",
    "<p>The de Sitter metric can be defined as that induced by the embedding of $\\mathcal{M}$ into a 5-dimensional Minkowski space, i.e. $\\mathbb{R}^5$ equipped with a flat Lorentzian metric. We therefore introduce $\\mathbb{R}^5$ as a 5-dimensional manifold covered by canonical coordinates:</p>"
   ]
  },
  {
   "cell_type": "code",
   "execution_count": 5,
   "metadata": {
    "collapsed": false
   },
   "outputs": [
    {
     "name": "stdout",
     "output_type": "stream",
     "text": [
      "Chart (R5, (T, W, X, Y, Z))\n"
     ]
    },
    {
     "data": {
      "text/html": [
       "<html><script type=\"math/tex; mode=display\">\\newcommand{\\Bold}[1]{\\mathbf{#1}}\\left(\\mathbb{R}^5,(T, W, X, Y, Z)\\right)</script></html>"
      ],
      "text/plain": [
       "Chart (R5, (T, W, X, Y, Z))"
      ]
     },
     "execution_count": 5,
     "metadata": {},
     "output_type": "execute_result"
    }
   ],
   "source": [
    "R5 = Manifold(5, 'R5', r'\\mathbb{R}^5')\n",
    "X5.<T,W,X,Y,Z> = R5.chart()\n",
    "print(X5) ; X5"
   ]
  },
  {
   "cell_type": "markdown",
   "metadata": {},
   "source": [
    "The embedding of $\\mathcal{M}$ into $\\mathbb{R}^5$ is defined as a differential mapping $\\Phi$ from $\\mathcal{M}$ to $\\mathbb{R}^5$, by providing its expression in terms of $\\mathcal{M}$'s default chart (which is X_hyp = $(\\mathcal{M}_0,(\\tau,\\chi,\\theta,\\phi))$ ) and $\\mathbb{R}^5$'s default chart (which is X5 = $(\\mathbb{R}^5,(T,W,X,Y,Z))$ ):"
   ]
  },
  {
   "cell_type": "code",
   "execution_count": 6,
   "metadata": {
    "collapsed": false
   },
   "outputs": [
    {
     "name": "stdout",
     "output_type": "stream",
     "text": [
      "Differentiable map Phi from the 4-dimensional differentiable manifold M to the 5-dimensional differentiable manifold R5\n"
     ]
    },
    {
     "data": {
      "text/html": [
       "<html><script type=\"math/tex; mode=display\">\\newcommand{\\Bold}[1]{\\mathbf{#1}}\\begin{array}{llcl} \\Phi:& \\mathcal{M} & \\longrightarrow & \\mathbb{R}^5 \\\\ \\mbox{on}\\ \\mathcal{M}_0 : & \\left({\\tau}, {\\chi}, {\\theta}, {\\phi}\\right) & \\longmapsto & \\left(T, W, X, Y, Z\\right) = \\left(\\frac{\\sinh\\left(b {\\tau}\\right)}{b}, \\frac{\\cos\\left({\\chi}\\right) \\cosh\\left(b {\\tau}\\right)}{b}, \\frac{\\cos\\left({\\phi}\\right) \\cosh\\left(b {\\tau}\\right) \\sin\\left({\\chi}\\right) \\sin\\left({\\theta}\\right)}{b}, \\frac{\\cosh\\left(b {\\tau}\\right) \\sin\\left({\\chi}\\right) \\sin\\left({\\phi}\\right) \\sin\\left({\\theta}\\right)}{b}, \\frac{\\cos\\left({\\theta}\\right) \\cosh\\left(b {\\tau}\\right) \\sin\\left({\\chi}\\right)}{b}\\right) \\end{array}</script></html>"
      ],
      "text/plain": [
       "Phi: M --> R5\n",
       "on M_0: (ta, ch, th, ph) |--> (T, W, X, Y, Z) = (sinh(b*ta)/b, cos(ch)*cosh(b*ta)/b, cos(ph)*cosh(b*ta)*sin(ch)*sin(th)/b, cosh(b*ta)*sin(ch)*sin(ph)*sin(th)/b, cos(th)*cosh(b*ta)*sin(ch)/b)"
      ]
     },
     "execution_count": 6,
     "metadata": {},
     "output_type": "execute_result"
    }
   ],
   "source": [
    "var('b', domain='real')\n",
    "Phi = M.diff_map(R5, [sinh(b*ta)/b,\n",
    "                      cosh(b*ta)/b * cos(ch),\n",
    "                      cosh(b*ta)/b * sin(ch)*sin(th)*cos(ph),\n",
    "                      cosh(b*ta)/b * sin(ch)*sin(th)*sin(ph),\n",
    "                      cosh(b*ta)/b * sin(ch)*cos(th)],\n",
    "                 name='Phi', latex_name=r'\\Phi')\n",
    "print(Phi) ; Phi.display()"
   ]
  },
  {
   "cell_type": "markdown",
   "metadata": {},
   "source": [
    "<p>The constant $b$ is a scale parameter. Considering de Sitter metric as a solution of vacuum Einstein equation with positive cosmological constant $\\Lambda$, one has $b = \\sqrt{\\Lambda/3}$. </p>\n",
    "<p>Let us evaluate the image of a point via the mapping $\\Phi$:</p>"
   ]
  },
  {
   "cell_type": "code",
   "execution_count": 7,
   "metadata": {
    "collapsed": false
   },
   "outputs": [
    {
     "name": "stdout",
     "output_type": "stream",
     "text": [
      "Point p on the 4-dimensional differentiable manifold M\n"
     ]
    }
   ],
   "source": [
    "p = M.point((ta, ch, th, ph), name='p') ; print(p)"
   ]
  },
  {
   "cell_type": "code",
   "execution_count": 8,
   "metadata": {
    "collapsed": false
   },
   "outputs": [
    {
     "data": {
      "text/html": [
       "<html><script type=\"math/tex; mode=display\">\\newcommand{\\Bold}[1]{\\mathbf{#1}}\\left({\\tau}, {\\chi}, {\\theta}, {\\phi}\\right)</script></html>"
      ],
      "text/plain": [
       "(ta, ch, th, ph)"
      ]
     },
     "execution_count": 8,
     "metadata": {},
     "output_type": "execute_result"
    }
   ],
   "source": [
    "p.coord()"
   ]
  },
  {
   "cell_type": "code",
   "execution_count": 9,
   "metadata": {
    "collapsed": false
   },
   "outputs": [
    {
     "name": "stdout",
     "output_type": "stream",
     "text": [
      "Point Phi(p) on the 5-dimensional differentiable manifold R5\n"
     ]
    }
   ],
   "source": [
    "q = Phi(p) ; print(q)"
   ]
  },
  {
   "cell_type": "code",
   "execution_count": 10,
   "metadata": {
    "collapsed": false
   },
   "outputs": [
    {
     "data": {
      "text/html": [
       "<html><script type=\"math/tex; mode=display\">\\newcommand{\\Bold}[1]{\\mathbf{#1}}\\left(\\frac{\\sinh\\left(b {\\tau}\\right)}{b}, \\frac{\\cos\\left({\\chi}\\right) \\cosh\\left(b {\\tau}\\right)}{b}, \\frac{\\cos\\left({\\phi}\\right) \\cosh\\left(b {\\tau}\\right) \\sin\\left({\\chi}\\right) \\sin\\left({\\theta}\\right)}{b}, \\frac{\\cosh\\left(b {\\tau}\\right) \\sin\\left({\\chi}\\right) \\sin\\left({\\phi}\\right) \\sin\\left({\\theta}\\right)}{b}, \\frac{\\cos\\left({\\theta}\\right) \\cosh\\left(b {\\tau}\\right) \\sin\\left({\\chi}\\right)}{b}\\right)</script></html>"
      ],
      "text/plain": [
       "(sinh(b*ta)/b,\n",
       " cos(ch)*cosh(b*ta)/b,\n",
       " cos(ph)*cosh(b*ta)*sin(ch)*sin(th)/b,\n",
       " cosh(b*ta)*sin(ch)*sin(ph)*sin(th)/b,\n",
       " cos(th)*cosh(b*ta)*sin(ch)/b)"
      ]
     },
     "execution_count": 10,
     "metadata": {},
     "output_type": "execute_result"
    }
   ],
   "source": [
    "q.coord()"
   ]
  },
  {
   "cell_type": "markdown",
   "metadata": {},
   "source": [
    "<p>The image of $\\mathcal{M}$ by $\\Phi$ is a hyperboloid of one sheet, of equation $-T^2+W^2+X^2+Y^2+Z^2=b^{-2}$. Indeed:</p>"
   ]
  },
  {
   "cell_type": "code",
   "execution_count": 11,
   "metadata": {
    "collapsed": false
   },
   "outputs": [
    {
     "data": {
      "text/html": [
       "<html><script type=\"math/tex; mode=display\">\\newcommand{\\Bold}[1]{\\mathbf{#1}}\\frac{1}{b^{2}}</script></html>"
      ],
      "text/plain": [
       "b^(-2)"
      ]
     },
     "execution_count": 11,
     "metadata": {},
     "output_type": "execute_result"
    }
   ],
   "source": [
    "(Tq,Wq,Xq,Yq,Zq) = q.coord()\n",
    "s = -Tq^2 + Wq^2 + Xq^2 + Yq^2 + Zq^2\n",
    "s.simplify_full()"
   ]
  },
  {
   "cell_type": "markdown",
   "metadata": {},
   "source": [
    "<p>We may use the embedding $\\Phi$ to draw the coordinate grid $(\\tau,\\chi)$ in terms of the coordinates $(W,X,T)$ for $\\theta=\\pi/2$ and $\\phi=0$ (red) and $\\theta=\\pi/2$ and $\\phi=\\pi$ (green) (the brown lines are the lines $\\tau={\\rm const}$):</p>"
   ]
  },
  {
   "cell_type": "code",
   "execution_count": 12,
   "metadata": {
    "collapsed": false
   },
   "outputs": [
    {
     "data": {
      "image/png": "[encoded data removed]",
      "text/plain": [
       "Graphics3d Object"
      ]
     },
     "metadata": {},
     "output_type": "display_data"
    }
   ],
   "source": [
    "graph1 = X_hyp.plot(X5, mapping=Phi, ambient_coords=(W,X,T), fixed_coords={th:pi/2, ph:0},\n",
    "                    nb_values=9, color={ta:'red', ch:'brown'}, thickness=2, max_range=2,\n",
    "                    parameters={b:1}, label_axes=False)\n",
    "graph2 = X_hyp.plot(X5, mapping=Phi, ambient_coords=(W,X,T), fixed_coords={th:pi/2, ph:pi},\n",
    "                    nb_values=9, color={ta:'green', ch:'brown'}, thickness=2, max_range=2,\n",
    "                    parameters={b:1}, label_axes=False)\n",
    "from sage.manifolds.utilities import set_axes_labels\n",
    "show(set_axes_labels(graph1+graph2,'W','X','T'), aspect_ratio=1, viewer=viewer3D)"
   ]
  },
  {
   "cell_type": "markdown",
   "metadata": {},
   "source": [
    "<h2>Spacetime metric</h2>\n",
    "<p>First, we introduce on $\\mathbb{R}^5$ the Minkowski metric $h$:</p>"
   ]
  },
  {
   "cell_type": "code",
   "execution_count": 13,
   "metadata": {
    "collapsed": false
   },
   "outputs": [
    {
     "data": {
      "text/html": [
       "<html><script type=\"math/tex; mode=display\">\\newcommand{\\Bold}[1]{\\mathbf{#1}}h = -\\mathrm{d} T\\otimes \\mathrm{d} T+\\mathrm{d} W\\otimes \\mathrm{d} W+\\mathrm{d} X\\otimes \\mathrm{d} X+\\mathrm{d} Y\\otimes \\mathrm{d} Y+\\mathrm{d} Z\\otimes \\mathrm{d} Z</script></html>"
      ],
      "text/plain": [
       "h = -dT*dT + dW*dW + dX*dX + dY*dY + dZ*dZ"
      ]
     },
     "execution_count": 13,
     "metadata": {},
     "output_type": "execute_result"
    }
   ],
   "source": [
    "h = R5.lorentzian_metric('h')\n",
    "h[0,0], h[1,1], h[2,2], h[3,3], h[4,4] = -1, 1, 1, 1, 1\n",
    "h.display()"
   ]
  },
  {
   "cell_type": "markdown",
   "metadata": {},
   "source": [
    "<p>As mentionned above, the de Sitter metric $g$ on $\\mathcal{M}$ is that induced by $h$, i.e.$g$ is the pullback of $h$ by the mapping $\\Phi$:</p>"
   ]
  },
  {
   "cell_type": "code",
   "execution_count": 14,
   "metadata": {
    "collapsed": false
   },
   "outputs": [],
   "source": [
    "g = M.metric('g')\n",
    "g.set( Phi.pullback(h) )"
   ]
  },
  {
   "cell_type": "markdown",
   "metadata": {},
   "source": [
    "<p>The expression of $g$ in terms of $\\mathcal{M}$'s default frame is found to be</p>"
   ]
  },
  {
   "cell_type": "code",
   "execution_count": 15,
   "metadata": {
    "collapsed": false
   },
   "outputs": [
    {
     "data": {
      "text/html": [
       "<html><script type=\"math/tex; mode=display\">\\newcommand{\\Bold}[1]{\\mathbf{#1}}g = -\\mathrm{d} {\\tau}\\otimes \\mathrm{d} {\\tau} + \\frac{\\cosh\\left(b {\\tau}\\right)^{2}}{b^{2}} \\mathrm{d} {\\chi}\\otimes \\mathrm{d} {\\chi} + \\frac{\\cosh\\left(b {\\tau}\\right)^{2} \\sin\\left({\\chi}\\right)^{2}}{b^{2}} \\mathrm{d} {\\theta}\\otimes \\mathrm{d} {\\theta} + \\frac{\\cosh\\left(b {\\tau}\\right)^{2} \\sin\\left({\\chi}\\right)^{2} \\sin\\left({\\theta}\\right)^{2}}{b^{2}} \\mathrm{d} {\\phi}\\otimes \\mathrm{d} {\\phi}</script></html>"
      ],
      "text/plain": [
       "g = -dta*dta + cosh(b*ta)^2/b^2 dch*dch + cosh(b*ta)^2*sin(ch)^2/b^2 dth*dth + cosh(b*ta)^2*sin(ch)^2*sin(th)^2/b^2 dph*dph"
      ]
     },
     "execution_count": 15,
     "metadata": {},
     "output_type": "execute_result"
    }
   ],
   "source": [
    "g.display()"
   ]
  },
  {
   "cell_type": "code",
   "execution_count": 16,
   "metadata": {
    "collapsed": false
   },
   "outputs": [
    {
     "data": {
      "text/html": [
       "<html><script type=\"math/tex; mode=display\">\\newcommand{\\Bold}[1]{\\mathbf{#1}}\\left(\\begin{array}{rrrr}\n",
       "-1 & 0 & 0 & 0 \\\\\n",
       "0 & \\frac{\\cosh\\left(b {\\tau}\\right)^{2}}{b^{2}} & 0 & 0 \\\\\n",
       "0 & 0 & \\frac{\\cosh\\left(b {\\tau}\\right)^{2} \\sin\\left({\\chi}\\right)^{2}}{b^{2}} & 0 \\\\\n",
       "0 & 0 & 0 & \\frac{\\cosh\\left(b {\\tau}\\right)^{2} \\sin\\left({\\chi}\\right)^{2} \\sin\\left({\\theta}\\right)^{2}}{b^{2}}\n",
       "\\end{array}\\right)</script></html>"
      ],
      "text/plain": [
       "[                                  -1                                    0                                    0                                    0]\n",
       "[                                   0                     cosh(b*ta)^2/b^2                                    0                                    0]\n",
       "[                                   0                                    0           cosh(b*ta)^2*sin(ch)^2/b^2                                    0]\n",
       "[                                   0                                    0                                    0 cosh(b*ta)^2*sin(ch)^2*sin(th)^2/b^2]"
      ]
     },
     "execution_count": 16,
     "metadata": {},
     "output_type": "execute_result"
    }
   ],
   "source": [
    "g[:]"
   ]
  },
  {
   "cell_type": "markdown",
   "metadata": {},
   "source": [
    "<h2>Curvature</h2>\n",
    "<p>The Riemann tensor of $g$ is</p>"
   ]
  },
  {
   "cell_type": "code",
   "execution_count": 17,
   "metadata": {
    "collapsed": false
   },
   "outputs": [
    {
     "name": "stdout",
     "output_type": "stream",
     "text": [
      "Tensor field Riem(g) of type (1,3) on the 4-dimensional differentiable manifold M\n"
     ]
    },
    {
     "data": {
      "text/html": [
       "<html><script type=\"math/tex; mode=display\">\\newcommand{\\Bold}[1]{\\mathbf{#1}}\\mathrm{Riem}\\left(g\\right) = \\cosh\\left(b {\\tau}\\right)^{2} \\frac{\\partial}{\\partial {\\tau} }\\otimes \\mathrm{d} {\\chi}\\otimes \\mathrm{d} {\\tau}\\otimes \\mathrm{d} {\\chi} -\\cosh\\left(b {\\tau}\\right)^{2} \\frac{\\partial}{\\partial {\\tau} }\\otimes \\mathrm{d} {\\chi}\\otimes \\mathrm{d} {\\chi}\\otimes \\mathrm{d} {\\tau} + \\cosh\\left(b {\\tau}\\right)^{2} \\sin\\left({\\chi}\\right)^{2} \\frac{\\partial}{\\partial {\\tau} }\\otimes \\mathrm{d} {\\theta}\\otimes \\mathrm{d} {\\tau}\\otimes \\mathrm{d} {\\theta} -\\cosh\\left(b {\\tau}\\right)^{2} \\sin\\left({\\chi}\\right)^{2} \\frac{\\partial}{\\partial {\\tau} }\\otimes \\mathrm{d} {\\theta}\\otimes \\mathrm{d} {\\theta}\\otimes \\mathrm{d} {\\tau} + \\cosh\\left(b {\\tau}\\right)^{2} \\sin\\left({\\chi}\\right)^{2} \\sin\\left({\\theta}\\right)^{2} \\frac{\\partial}{\\partial {\\tau} }\\otimes \\mathrm{d} {\\phi}\\otimes \\mathrm{d} {\\tau}\\otimes \\mathrm{d} {\\phi} -\\cosh\\left(b {\\tau}\\right)^{2} \\sin\\left({\\chi}\\right)^{2} \\sin\\left({\\theta}\\right)^{2} \\frac{\\partial}{\\partial {\\tau} }\\otimes \\mathrm{d} {\\phi}\\otimes \\mathrm{d} {\\phi}\\otimes \\mathrm{d} {\\tau} + b^{2} \\frac{\\partial}{\\partial {\\chi} }\\otimes \\mathrm{d} {\\tau}\\otimes \\mathrm{d} {\\tau}\\otimes \\mathrm{d} {\\chi} -b^{2} \\frac{\\partial}{\\partial {\\chi} }\\otimes \\mathrm{d} {\\tau}\\otimes \\mathrm{d} {\\chi}\\otimes \\mathrm{d} {\\tau} + \\cosh\\left(b {\\tau}\\right)^{2} \\sin\\left({\\chi}\\right)^{2} \\frac{\\partial}{\\partial {\\chi} }\\otimes \\mathrm{d} {\\theta}\\otimes \\mathrm{d} {\\chi}\\otimes \\mathrm{d} {\\theta} -\\cosh\\left(b {\\tau}\\right)^{2} \\sin\\left({\\chi}\\right)^{2} \\frac{\\partial}{\\partial {\\chi} }\\otimes \\mathrm{d} {\\theta}\\otimes \\mathrm{d} {\\theta}\\otimes \\mathrm{d} {\\chi} + \\cosh\\left(b {\\tau}\\right)^{2} \\sin\\left({\\chi}\\right)^{2} \\sin\\left({\\theta}\\right)^{2} \\frac{\\partial}{\\partial {\\chi} }\\otimes \\mathrm{d} {\\phi}\\otimes \\mathrm{d} {\\chi}\\otimes \\mathrm{d} {\\phi} -\\cosh\\left(b {\\tau}\\right)^{2} \\sin\\left({\\chi}\\right)^{2} \\sin\\left({\\theta}\\right)^{2} \\frac{\\partial}{\\partial {\\chi} }\\otimes \\mathrm{d} {\\phi}\\otimes \\mathrm{d} {\\phi}\\otimes \\mathrm{d} {\\chi} + b^{2} \\frac{\\partial}{\\partial {\\theta} }\\otimes \\mathrm{d} {\\tau}\\otimes \\mathrm{d} {\\tau}\\otimes \\mathrm{d} {\\theta} -b^{2} \\frac{\\partial}{\\partial {\\theta} }\\otimes \\mathrm{d} {\\tau}\\otimes \\mathrm{d} {\\theta}\\otimes \\mathrm{d} {\\tau} + \\left( -\\frac{\\sin\\left({\\chi}\\right)^{2} \\sinh\\left(b {\\tau}\\right)^{2} - \\cos\\left({\\chi}\\right)^{2} + 1}{\\sin\\left({\\chi}\\right)^{2}} \\right) \\frac{\\partial}{\\partial {\\theta} }\\otimes \\mathrm{d} {\\chi}\\otimes \\mathrm{d} {\\chi}\\otimes \\mathrm{d} {\\theta} + \\cosh\\left(b {\\tau}\\right)^{2} \\frac{\\partial}{\\partial {\\theta} }\\otimes \\mathrm{d} {\\chi}\\otimes \\mathrm{d} {\\theta}\\otimes \\mathrm{d} {\\chi} + \\cosh\\left(b {\\tau}\\right)^{2} \\sin\\left({\\chi}\\right)^{2} \\sin\\left({\\theta}\\right)^{2} \\frac{\\partial}{\\partial {\\theta} }\\otimes \\mathrm{d} {\\phi}\\otimes \\mathrm{d} {\\theta}\\otimes \\mathrm{d} {\\phi} -\\cosh\\left(b {\\tau}\\right)^{2} \\sin\\left({\\chi}\\right)^{2} \\sin\\left({\\theta}\\right)^{2} \\frac{\\partial}{\\partial {\\theta} }\\otimes \\mathrm{d} {\\phi}\\otimes \\mathrm{d} {\\phi}\\otimes \\mathrm{d} {\\theta} + b^{2} \\frac{\\partial}{\\partial {\\phi} }\\otimes \\mathrm{d} {\\tau}\\otimes \\mathrm{d} {\\tau}\\otimes \\mathrm{d} {\\phi} -b^{2} \\frac{\\partial}{\\partial {\\phi} }\\otimes \\mathrm{d} {\\tau}\\otimes \\mathrm{d} {\\phi}\\otimes \\mathrm{d} {\\tau} + \\left( -\\frac{\\sin\\left({\\chi}\\right)^{2} \\sinh\\left(b {\\tau}\\right)^{2} - \\cos\\left({\\chi}\\right)^{2} + 1}{\\sin\\left({\\chi}\\right)^{2}} \\right) \\frac{\\partial}{\\partial {\\phi} }\\otimes \\mathrm{d} {\\chi}\\otimes \\mathrm{d} {\\chi}\\otimes \\mathrm{d} {\\phi} + \\cosh\\left(b {\\tau}\\right)^{2} \\frac{\\partial}{\\partial {\\phi} }\\otimes \\mathrm{d} {\\chi}\\otimes \\mathrm{d} {\\phi}\\otimes \\mathrm{d} {\\chi} -\\cosh\\left(b {\\tau}\\right)^{2} \\sin\\left({\\chi}\\right)^{2} \\frac{\\partial}{\\partial {\\phi} }\\otimes \\mathrm{d} {\\theta}\\otimes \\mathrm{d} {\\theta}\\otimes \\mathrm{d} {\\phi} + \\cosh\\left(b {\\tau}\\right)^{2} \\sin\\left({\\chi}\\right)^{2} \\frac{\\partial}{\\partial {\\phi} }\\otimes \\mathrm{d} {\\theta}\\otimes \\mathrm{d} {\\phi}\\otimes \\mathrm{d} {\\theta}</script></html>"
      ],
      "text/plain": [
       "Riem(g) = cosh(b*ta)^2 d/dta*dch*dta*dch - cosh(b*ta)^2 d/dta*dch*dch*dta + cosh(b*ta)^2*sin(ch)^2 d/dta*dth*dta*dth - cosh(b*ta)^2*sin(ch)^2 d/dta*dth*dth*dta + cosh(b*ta)^2*sin(ch)^2*sin(th)^2 d/dta*dph*dta*dph - cosh(b*ta)^2*sin(ch)^2*sin(th)^2 d/dta*dph*dph*dta + b^2 d/dch*dta*dta*dch - b^2 d/dch*dta*dch*dta + cosh(b*ta)^2*sin(ch)^2 d/dch*dth*dch*dth - cosh(b*ta)^2*sin(ch)^2 d/dch*dth*dth*dch + cosh(b*ta)^2*sin(ch)^2*sin(th)^2 d/dch*dph*dch*dph - cosh(b*ta)^2*sin(ch)^2*sin(th)^2 d/dch*dph*dph*dch + b^2 d/dth*dta*dta*dth - b^2 d/dth*dta*dth*dta - (sin(ch)^2*sinh(b*ta)^2 - cos(ch)^2 + 1)/sin(ch)^2 d/dth*dch*dch*dth + cosh(b*ta)^2 d/dth*dch*dth*dch + cosh(b*ta)^2*sin(ch)^2*sin(th)^2 d/dth*dph*dth*dph - cosh(b*ta)^2*sin(ch)^2*sin(th)^2 d/dth*dph*dph*dth + b^2 d/dph*dta*dta*dph - b^2 d/dph*dta*dph*dta - (sin(ch)^2*sinh(b*ta)^2 - cos(ch)^2 + 1)/sin(ch)^2 d/dph*dch*dch*dph + cosh(b*ta)^2 d/dph*dch*dph*dch - cosh(b*ta)^2*sin(ch)^2 d/dph*dth*dth*dph + cosh(b*ta)^2*sin(ch)^2 d/dph*dth*dph*dth"
      ]
     },
     "execution_count": 17,
     "metadata": {},
     "output_type": "execute_result"
    }
   ],
   "source": [
    "Riem = g.riemann()\n",
    "print(Riem)\n",
    "Riem.display()"
   ]
  },
  {
   "cell_type": "code",
   "execution_count": 18,
   "metadata": {
    "collapsed": false
   },
   "outputs": [
    {
     "data": {
      "text/html": [
       "<html><script type=\"math/tex; mode=display\">\\newcommand{\\Bold}[1]{\\mathbf{#1}}\\begin{array}{lcl} \\mathrm{Riem}\\left(g\\right)_{ \\phantom{\\, {\\tau}} \\, {\\chi} \\, {\\tau} \\, {\\chi} }^{ \\, {\\tau} \\phantom{\\, {\\chi}} \\phantom{\\, {\\tau}} \\phantom{\\, {\\chi}} } & = & \\cosh\\left(b {\\tau}\\right)^{2} \\\\ \\mathrm{Riem}\\left(g\\right)_{ \\phantom{\\, {\\tau}} \\, {\\theta} \\, {\\tau} \\, {\\theta} }^{ \\, {\\tau} \\phantom{\\, {\\theta}} \\phantom{\\, {\\tau}} \\phantom{\\, {\\theta}} } & = & \\cosh\\left(b {\\tau}\\right)^{2} \\sin\\left({\\chi}\\right)^{2} \\\\ \\mathrm{Riem}\\left(g\\right)_{ \\phantom{\\, {\\tau}} \\, {\\phi} \\, {\\tau} \\, {\\phi} }^{ \\, {\\tau} \\phantom{\\, {\\phi}} \\phantom{\\, {\\tau}} \\phantom{\\, {\\phi}} } & = & \\cosh\\left(b {\\tau}\\right)^{2} \\sin\\left({\\chi}\\right)^{2} \\sin\\left({\\theta}\\right)^{2} \\\\ \\mathrm{Riem}\\left(g\\right)_{ \\phantom{\\, {\\chi}} \\, {\\tau} \\, {\\tau} \\, {\\chi} }^{ \\, {\\chi} \\phantom{\\, {\\tau}} \\phantom{\\, {\\tau}} \\phantom{\\, {\\chi}} } & = & b^{2} \\\\ \\mathrm{Riem}\\left(g\\right)_{ \\phantom{\\, {\\chi}} \\, {\\theta} \\, {\\chi} \\, {\\theta} }^{ \\, {\\chi} \\phantom{\\, {\\theta}} \\phantom{\\, {\\chi}} \\phantom{\\, {\\theta}} } & = & \\cosh\\left(b {\\tau}\\right)^{2} \\sin\\left({\\chi}\\right)^{2} \\\\ \\mathrm{Riem}\\left(g\\right)_{ \\phantom{\\, {\\chi}} \\, {\\phi} \\, {\\chi} \\, {\\phi} }^{ \\, {\\chi} \\phantom{\\, {\\phi}} \\phantom{\\, {\\chi}} \\phantom{\\, {\\phi}} } & = & \\cosh\\left(b {\\tau}\\right)^{2} \\sin\\left({\\chi}\\right)^{2} \\sin\\left({\\theta}\\right)^{2} \\\\ \\mathrm{Riem}\\left(g\\right)_{ \\phantom{\\, {\\theta}} \\, {\\tau} \\, {\\tau} \\, {\\theta} }^{ \\, {\\theta} \\phantom{\\, {\\tau}} \\phantom{\\, {\\tau}} \\phantom{\\, {\\theta}} } & = & b^{2} \\\\ \\mathrm{Riem}\\left(g\\right)_{ \\phantom{\\, {\\theta}} \\, {\\chi} \\, {\\chi} \\, {\\theta} }^{ \\, {\\theta} \\phantom{\\, {\\chi}} \\phantom{\\, {\\chi}} \\phantom{\\, {\\theta}} } & = & -\\frac{\\sin\\left({\\chi}\\right)^{2} \\sinh\\left(b {\\tau}\\right)^{2} - \\cos\\left({\\chi}\\right)^{2} + 1}{\\sin\\left({\\chi}\\right)^{2}} \\\\ \\mathrm{Riem}\\left(g\\right)_{ \\phantom{\\, {\\theta}} \\, {\\phi} \\, {\\theta} \\, {\\phi} }^{ \\, {\\theta} \\phantom{\\, {\\phi}} \\phantom{\\, {\\theta}} \\phantom{\\, {\\phi}} } & = & \\cosh\\left(b {\\tau}\\right)^{2} \\sin\\left({\\chi}\\right)^{2} \\sin\\left({\\theta}\\right)^{2} \\\\ \\mathrm{Riem}\\left(g\\right)_{ \\phantom{\\, {\\phi}} \\, {\\tau} \\, {\\tau} \\, {\\phi} }^{ \\, {\\phi} \\phantom{\\, {\\tau}} \\phantom{\\, {\\tau}} \\phantom{\\, {\\phi}} } & = & b^{2} \\\\ \\mathrm{Riem}\\left(g\\right)_{ \\phantom{\\, {\\phi}} \\, {\\chi} \\, {\\chi} \\, {\\phi} }^{ \\, {\\phi} \\phantom{\\, {\\chi}} \\phantom{\\, {\\chi}} \\phantom{\\, {\\phi}} } & = & -\\frac{\\sin\\left({\\chi}\\right)^{2} \\sinh\\left(b {\\tau}\\right)^{2} - \\cos\\left({\\chi}\\right)^{2} + 1}{\\sin\\left({\\chi}\\right)^{2}} \\\\ \\mathrm{Riem}\\left(g\\right)_{ \\phantom{\\, {\\phi}} \\, {\\theta} \\, {\\theta} \\, {\\phi} }^{ \\, {\\phi} \\phantom{\\, {\\theta}} \\phantom{\\, {\\theta}} \\phantom{\\, {\\phi}} } & = & -\\cosh\\left(b {\\tau}\\right)^{2} \\sin\\left({\\chi}\\right)^{2} \\end{array}</script></html>"
      ],
      "text/plain": [
       "Riem(g)^ta_ch,ta,ch = cosh(b*ta)^2 \n",
       "Riem(g)^ta_th,ta,th = cosh(b*ta)^2*sin(ch)^2 \n",
       "Riem(g)^ta_ph,ta,ph = cosh(b*ta)^2*sin(ch)^2*sin(th)^2 \n",
       "Riem(g)^ch_ta,ta,ch = b^2 \n",
       "Riem(g)^ch_th,ch,th = cosh(b*ta)^2*sin(ch)^2 \n",
       "Riem(g)^ch_ph,ch,ph = cosh(b*ta)^2*sin(ch)^2*sin(th)^2 \n",
       "Riem(g)^th_ta,ta,th = b^2 \n",
       "Riem(g)^th_ch,ch,th = -(sin(ch)^2*sinh(b*ta)^2 - cos(ch)^2 + 1)/sin(ch)^2 \n",
       "Riem(g)^th_ph,th,ph = cosh(b*ta)^2*sin(ch)^2*sin(th)^2 \n",
       "Riem(g)^ph_ta,ta,ph = b^2 \n",
       "Riem(g)^ph_ch,ch,ph = -(sin(ch)^2*sinh(b*ta)^2 - cos(ch)^2 + 1)/sin(ch)^2 \n",
       "Riem(g)^ph_th,th,ph = -cosh(b*ta)^2*sin(ch)^2 "
      ]
     },
     "execution_count": 18,
     "metadata": {},
     "output_type": "execute_result"
    }
   ],
   "source": [
    "Riem.display_comp(only_nonredundant=True)"
   ]
  },
  {
   "cell_type": "markdown",
   "metadata": {},
   "source": [
    "<p>The Ricci tensor:</p>"
   ]
  },
  {
   "cell_type": "code",
   "execution_count": 19,
   "metadata": {
    "collapsed": false
   },
   "outputs": [
    {
     "name": "stdout",
     "output_type": "stream",
     "text": [
      "Field of symmetric bilinear forms Ric(g) on the 4-dimensional differentiable manifold M\n"
     ]
    },
    {
     "data": {
      "text/html": [
       "<html><script type=\"math/tex; mode=display\">\\newcommand{\\Bold}[1]{\\mathbf{#1}}\\mathrm{Ric}\\left(g\\right) = -3 \\, b^{2} \\mathrm{d} {\\tau}\\otimes \\mathrm{d} {\\tau} + 3 \\, \\cosh\\left(b {\\tau}\\right)^{2} \\mathrm{d} {\\chi}\\otimes \\mathrm{d} {\\chi} + 3 \\, \\cosh\\left(b {\\tau}\\right)^{2} \\sin\\left({\\chi}\\right)^{2} \\mathrm{d} {\\theta}\\otimes \\mathrm{d} {\\theta} + 3 \\, \\cosh\\left(b {\\tau}\\right)^{2} \\sin\\left({\\chi}\\right)^{2} \\sin\\left({\\theta}\\right)^{2} \\mathrm{d} {\\phi}\\otimes \\mathrm{d} {\\phi}</script></html>"
      ],
      "text/plain": [
       "Ric(g) = -3*b^2 dta*dta + 3*cosh(b*ta)^2 dch*dch + 3*cosh(b*ta)^2*sin(ch)^2 dth*dth + 3*cosh(b*ta)^2*sin(ch)^2*sin(th)^2 dph*dph"
      ]
     },
     "execution_count": 19,
     "metadata": {},
     "output_type": "execute_result"
    }
   ],
   "source": [
    "Ric = g.ricci()\n",
    "print(Ric)\n",
    "Ric.display()"
   ]
  },
  {
   "cell_type": "code",
   "execution_count": 20,
   "metadata": {
    "collapsed": false
   },
   "outputs": [
    {
     "data": {
      "text/html": [
       "<html><script type=\"math/tex; mode=display\">\\newcommand{\\Bold}[1]{\\mathbf{#1}}\\left(\\begin{array}{rrrr}\n",
       "-3 \\, b^{2} & 0 & 0 & 0 \\\\\n",
       "0 & 3 \\, \\cosh\\left(b {\\tau}\\right)^{2} & 0 & 0 \\\\\n",
       "0 & 0 & 3 \\, \\cosh\\left(b {\\tau}\\right)^{2} \\sin\\left({\\chi}\\right)^{2} & 0 \\\\\n",
       "0 & 0 & 0 & 3 \\, \\cosh\\left(b {\\tau}\\right)^{2} \\sin\\left({\\chi}\\right)^{2} \\sin\\left({\\theta}\\right)^{2}\n",
       "\\end{array}\\right)</script></html>"
      ],
      "text/plain": [
       "[                            -3*b^2                                  0                                  0                                  0]\n",
       "[                                 0                     3*cosh(b*ta)^2                                  0                                  0]\n",
       "[                                 0                                  0           3*cosh(b*ta)^2*sin(ch)^2                                  0]\n",
       "[                                 0                                  0                                  0 3*cosh(b*ta)^2*sin(ch)^2*sin(th)^2]"
      ]
     },
     "execution_count": 20,
     "metadata": {},
     "output_type": "execute_result"
    }
   ],
   "source": [
    "Ric[:]"
   ]
  },
  {
   "cell_type": "markdown",
   "metadata": {},
   "source": [
    "<p>The Ricci scalar:</p>"
   ]
  },
  {
   "cell_type": "code",
   "execution_count": 21,
   "metadata": {
    "collapsed": false
   },
   "outputs": [
    {
     "name": "stdout",
     "output_type": "stream",
     "text": [
      "Scalar field r(g) on the 4-dimensional differentiable manifold M\n"
     ]
    },
    {
     "data": {
      "text/html": [
       "<html><script type=\"math/tex; mode=display\">\\newcommand{\\Bold}[1]{\\mathbf{#1}}\\begin{array}{llcl} \\mathrm{r}\\left(g\\right):& \\mathcal{M} & \\longrightarrow & \\mathbb{R} \\\\ \\mbox{on}\\ \\mathcal{M}_0 : & \\left({\\tau}, {\\chi}, {\\theta}, {\\phi}\\right) & \\longmapsto & 12 \\, b^{2} \\end{array}</script></html>"
      ],
      "text/plain": [
       "r(g): M --> R\n",
       "on M_0: (ta, ch, th, ph) |--> 12*b^2"
      ]
     },
     "execution_count": 21,
     "metadata": {},
     "output_type": "execute_result"
    }
   ],
   "source": [
    "R = g.ricci_scalar()\n",
    "print(R)\n",
    "R.display()"
   ]
  },
  {
   "cell_type": "markdown",
   "metadata": {},
   "source": [
    "We recover the fact that de Sitter spacetime has a constant curvature. It is indeed a **maximally symmetric space**. In particular, the Riemann tensor is expressible as\n",
    "$$ R^i_{\\ \\, jlk} = \\frac{R}{n(n-1)} \\left( \\delta^i_{\\ \\, k} g_{jl} - \\delta^i_{\\ \\, l} g_{jk} \\right), $$\n",
    "where $n$ is the dimension of $\\mathcal{M}$: $n=4$ in the present case. Let us check this formula here, under the form $R^i_{\\ \\, jlk} = -\\frac{R}{6} g_{j[k} \\delta^i_{\\ \\, l]}$:"
   ]
  },
  {
   "cell_type": "code",
   "execution_count": 22,
   "metadata": {
    "collapsed": false
   },
   "outputs": [
    {
     "data": {
      "text/html": [
       "<html><script type=\"math/tex; mode=display\">\\newcommand{\\Bold}[1]{\\mathbf{#1}}\\mathrm{True}</script></html>"
      ],
      "text/plain": [
       "True"
      ]
     },
     "execution_count": 22,
     "metadata": {},
     "output_type": "execute_result"
    }
   ],
   "source": [
    "delta = M.tangent_identity_field() \n",
    "Riem == - (R/6)*(g*delta).antisymmetrize(2,3)  # 2,3 = last positions of the type-(1,3) tensor g*delta"
   ]
  },
  {
   "cell_type": "markdown",
   "metadata": {},
   "source": [
    "We may also check that de Sitter metric is a solution of the vacuum **Einstein equation** with (positive) cosmological constant:"
   ]
  },
  {
   "cell_type": "code",
   "execution_count": 23,
   "metadata": {
    "collapsed": false
   },
   "outputs": [
    {
     "data": {
      "text/html": [
       "<html><script type=\"math/tex; mode=display\">\\newcommand{\\Bold}[1]{\\mathbf{#1}}\\mathrm{True}</script></html>"
      ],
      "text/plain": [
       "True"
      ]
     },
     "execution_count": 23,
     "metadata": {},
     "output_type": "execute_result"
    }
   ],
   "source": [
    "Lambda = 3*b^2\n",
    "Ric - 1/2*R*g + Lambda*g == 0"
   ]
  }
 ],
 "metadata": {
  "kernelspec": {
   "display_name": "SageMath 7.4.beta4",
   "language": "",
   "name": "sagemath"
  },
  "language": "python",
  "language_info": {
   "codemirror_mode": {
    "name": "ipython",
    "version": 2
   },
   "file_extension": ".py",
   "mimetype": "text/x-python",
   "name": "python",
   "nbconvert_exporter": "python",
   "pygments_lexer": "ipython2",
   "version": "2.7.10"
  }
 },
 "nbformat": 4,
 "nbformat_minor": 0
}
