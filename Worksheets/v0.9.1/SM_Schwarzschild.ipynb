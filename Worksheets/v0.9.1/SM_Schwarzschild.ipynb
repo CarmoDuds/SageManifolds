{
 "cells": [
  {
   "cell_type": "markdown",
   "metadata": {},
   "source": [
    "# Schwarzschild spacetime\n",
    "\n",
    "This worksheet demonstrates a few capabilities of <a href=\"http://sagemanifolds.obspm.fr/\">SageManifolds</a> (version 0.9.1) in computations regarding Schwarzschild spacetime.\n",
    "\n",
    "Click [here](https://raw.githubusercontent.com/sagemanifolds/SageManifolds/master/Worksheets/v0.9.1/SM_Schwarzschild.ipynb) to download the worksheet file (ipynb format). To run it, you must start SageMath with the Jupyter notebook, via the command `sage -n jupyter`\n"
   ]
  },
  {
   "cell_type": "markdown",
   "metadata": {},
   "source": [
    "First we set up the notebook to display mathematical objects using LaTeX formatting:"
   ]
  },
  {
   "cell_type": "code",
   "execution_count": 1,
   "metadata": {
    "collapsed": true
   },
   "outputs": [],
   "source": [
    "%display latex"
   ]
  },
  {
   "cell_type": "markdown",
   "metadata": {},
   "source": [
    "## Spacetime manifold\n",
    "\n",
    "We declare the Schwarzschild spacetime as a 4-dimensional differentiable manifold:"
   ]
  },
  {
   "cell_type": "code",
   "execution_count": 2,
   "metadata": {
    "collapsed": false
   },
   "outputs": [
    {
     "data": {
      "text/html": [
       "<html><script type=\"math/tex; mode=display\">\\newcommand{\\Bold}[1]{\\mathbf{#1}}\\mathcal{M}</script></html>"
      ],
      "text/plain": [
       "4-dimensional differentiable manifold M"
      ]
     },
     "execution_count": 2,
     "metadata": {},
     "output_type": "execute_result"
    }
   ],
   "source": [
    "M = Manifold(4, 'M', r'\\mathcal{M}') ; M"
   ]
  },
  {
   "cell_type": "code",
   "execution_count": 3,
   "metadata": {
    "collapsed": false
   },
   "outputs": [
    {
     "name": "stdout",
     "output_type": "stream",
     "text": [
      "4-dimensional differentiable manifold M\n"
     ]
    }
   ],
   "source": [
    "print(M)"
   ]
  },
  {
   "cell_type": "markdown",
   "metadata": {},
   "source": [
    "<p>The spacetime manifold $\\mathcal{M}$ can be split into 4 regions, corresponding to the 4 quadrants in the Kruskal diagram.Let us denote by $\\mathcal{R}_{\\mathrm{I}}$ to $\\mathcal{R}_{\\mathrm{IV}}$ the interiors of these 4 regions. $\\mathcal{R}_{\\mathrm{I}}$ and  $\\mathcal{R}_{\\mathrm{III}}$  are asymtotically flat regions outside the event horizon;  $\\mathcal{R}_{\\mathrm{II}}$ is inside the future event horizon and $\\mathcal{R}_{\\mathrm{IV}}$ is inside the past event horizon.</p>"
   ]
  },
  {
   "cell_type": "code",
   "execution_count": 4,
   "metadata": {
    "collapsed": false
   },
   "outputs": [
    {
     "data": {
      "text/html": [
       "<html><script type=\"math/tex; mode=display\">\\newcommand{\\Bold}[1]{\\mathbf{#1}}\\left(\\mathcal{R}_{\\mathrm{I}}, \\mathcal{R}_{\\mathrm{II}}, \\mathcal{R}_{\\mathrm{III}}, \\mathcal{R}_{\\mathrm{IV}}\\right)</script></html>"
      ],
      "text/plain": [
       "(Open subset R_I of the 4-dimensional differentiable manifold M,\n",
       " Open subset R_II of the 4-dimensional differentiable manifold M,\n",
       " Open subset R_III of the 4-dimensional differentiable manifold M,\n",
       " Open subset R_IV of the 4-dimensional differentiable manifold M)"
      ]
     },
     "execution_count": 4,
     "metadata": {},
     "output_type": "execute_result"
    }
   ],
   "source": [
    "regI = M.open_subset('R_I', r'\\mathcal{R}_{\\mathrm{I}}')\n",
    "regII = M.open_subset('R_II', r'\\mathcal{R}_{\\mathrm{II}}')\n",
    "regIII = M.open_subset('R_III', r'\\mathcal{R}_{\\mathrm{III}}')\n",
    "regIV = M.open_subset('R_IV', r'\\mathcal{R}_{\\mathrm{IV}}')\n",
    "regI, regII, regIII, regIV"
   ]
  },
  {
   "cell_type": "markdown",
   "metadata": {},
   "source": [
    "<p><span id=\"cell_outer_8\">The parameter $m$ of </span><span id=\"cell_outer_8\">the Schwarzschild spacetime is declared as a symbolic variable:</span></p>"
   ]
  },
  {
   "cell_type": "code",
   "execution_count": 5,
   "metadata": {
    "collapsed": false
   },
   "outputs": [],
   "source": [
    "m = var('m') ; assume(m>=0)"
   ]
  },
  {
   "cell_type": "markdown",
   "metadata": {},
   "source": [
    "<h2>Boyer-Lindquist coordinates</h2>\n",
    "<p>The standard Boyer-Lindquist coordinates (also called Schwarzschild coordinates) are defined on $\\mathcal{R}_{\\mathrm{I}}\\cup \\mathcal{R}_{\\mathrm{II}}$</p>"
   ]
  },
  {
   "cell_type": "code",
   "execution_count": 6,
   "metadata": {
    "collapsed": false
   },
   "outputs": [
    {
     "data": {
      "text/html": [
       "<html><script type=\"math/tex; mode=display\">\\newcommand{\\Bold}[1]{\\mathbf{#1}}\\mathcal{R}_{\\mathrm{I}}\\cup \\mathcal{R}_{\\mathrm{II}}</script></html>"
      ],
      "text/plain": [
       "Open subset R_I_union_R_II of the 4-dimensional differentiable manifold M"
      ]
     },
     "execution_count": 6,
     "metadata": {},
     "output_type": "execute_result"
    }
   ],
   "source": [
    "regI_II = regI.union(regII) ; regI_II"
   ]
  },
  {
   "cell_type": "code",
   "execution_count": 7,
   "metadata": {
    "collapsed": false
   },
   "outputs": [
    {
     "name": "stdout",
     "output_type": "stream",
     "text": [
      "Chart (R_I_union_R_II, (t, r, th, ph))\n"
     ]
    }
   ],
   "source": [
    "X.<t,r,th,ph> = regI_II.chart(r't r:(0,+oo) th:(0,pi):\\theta ph:(0,2*pi):\\phi')\n",
    "print(X)"
   ]
  },
  {
   "cell_type": "code",
   "execution_count": 8,
   "metadata": {
    "collapsed": false
   },
   "outputs": [
    {
     "data": {
      "text/html": [
       "<html><script type=\"math/tex; mode=display\">\\newcommand{\\Bold}[1]{\\mathbf{#1}}\\left(\\mathcal{R}_{\\mathrm{I}}\\cup \\mathcal{R}_{\\mathrm{II}},(t, r, {\\theta}, {\\phi})\\right)</script></html>"
      ],
      "text/plain": [
       "Chart (R_I_union_R_II, (t, r, th, ph))"
      ]
     },
     "execution_count": 8,
     "metadata": {},
     "output_type": "execute_result"
    }
   ],
   "source": [
    "X"
   ]
  },
  {
   "cell_type": "markdown",
   "metadata": {},
   "source": [
    "<p>We naturally introduce two subcharts as the restrictions of the chart $X$ to regions $\\mathcal{R}_{\\mathrm{I}}$ and $\\mathcal{R}_{\\mathrm{II}}$ respectively. Since, in terms of the Boyer-Lindquist coordinates, $\\mathcal{R}_{\\mathrm{I}}$ (resp. $\\mathcal{R}_{\\mathrm{II}}$) is defined by $r>2m$ (resp. $r<2m$), we set</p>"
   ]
  },
  {
   "cell_type": "code",
   "execution_count": 9,
   "metadata": {
    "collapsed": false
   },
   "outputs": [
    {
     "data": {
      "text/html": [
       "<html><script type=\"math/tex; mode=display\">\\newcommand{\\Bold}[1]{\\mathbf{#1}}\\left(\\mathcal{R}_{\\mathrm{I}},(t, r, {\\theta}, {\\phi})\\right)</script></html>"
      ],
      "text/plain": [
       "Chart (R_I, (t, r, th, ph))"
      ]
     },
     "execution_count": 9,
     "metadata": {},
     "output_type": "execute_result"
    }
   ],
   "source": [
    "X_I = X.restrict(regI, r>2*m) ; X_I"
   ]
  },
  {
   "cell_type": "code",
   "execution_count": 10,
   "metadata": {
    "collapsed": false
   },
   "outputs": [
    {
     "data": {
      "text/html": [
       "<html><script type=\"math/tex; mode=display\">\\newcommand{\\Bold}[1]{\\mathbf{#1}}\\left(\\mathcal{R}_{\\mathrm{II}},(t, r, {\\theta}, {\\phi})\\right)</script></html>"
      ],
      "text/plain": [
       "Chart (R_II, (t, r, th, ph))"
      ]
     },
     "execution_count": 10,
     "metadata": {},
     "output_type": "execute_result"
    }
   ],
   "source": [
    "X_II = X.restrict(regII, r<2*m) ; X_II"
   ]
  },
  {
   "cell_type": "markdown",
   "metadata": {},
   "source": [
    "<p>At this stage, the manifold's atlas has 3 charts:</p>"
   ]
  },
  {
   "cell_type": "code",
   "execution_count": 11,
   "metadata": {
    "collapsed": false
   },
   "outputs": [
    {
     "data": {
      "text/html": [
       "<html><script type=\"math/tex; mode=display\">\\newcommand{\\Bold}[1]{\\mathbf{#1}}\\left[\\left(\\mathcal{R}_{\\mathrm{I}}\\cup \\mathcal{R}_{\\mathrm{II}},(t, r, {\\theta}, {\\phi})\\right), \\left(\\mathcal{R}_{\\mathrm{I}},(t, r, {\\theta}, {\\phi})\\right), \\left(\\mathcal{R}_{\\mathrm{II}},(t, r, {\\theta}, {\\phi})\\right)\\right]</script></html>"
      ],
      "text/plain": [
       "[Chart (R_I_union_R_II, (t, r, th, ph)),\n",
       " Chart (R_I, (t, r, th, ph)),\n",
       " Chart (R_II, (t, r, th, ph))]"
      ]
     },
     "execution_count": 11,
     "metadata": {},
     "output_type": "execute_result"
    }
   ],
   "source": [
    "M.atlas()"
   ]
  },
  {
   "cell_type": "code",
   "execution_count": 12,
   "metadata": {
    "collapsed": false
   },
   "outputs": [
    {
     "data": {
      "text/html": [
       "<html><script type=\"math/tex; mode=display\">\\newcommand{\\Bold}[1]{\\mathbf{#1}}\\left(\\mathcal{R}_{\\mathrm{I}}\\cup \\mathcal{R}_{\\mathrm{II}},(t, r, {\\theta}, {\\phi})\\right)</script></html>"
      ],
      "text/plain": [
       "Chart (R_I_union_R_II, (t, r, th, ph))"
      ]
     },
     "execution_count": 12,
     "metadata": {},
     "output_type": "execute_result"
    }
   ],
   "source": [
    "M.default_chart()"
   ]
  },
  {
   "cell_type": "markdown",
   "metadata": {},
   "source": [
    "<p>Three vector frames have been defined on the manifold: the three coordinate frames:</p>"
   ]
  },
  {
   "cell_type": "code",
   "execution_count": 13,
   "metadata": {
    "collapsed": false
   },
   "outputs": [
    {
     "data": {
      "text/html": [
       "<html><script type=\"math/tex; mode=display\">\\newcommand{\\Bold}[1]{\\mathbf{#1}}\\left[\\left(\\mathcal{R}_{\\mathrm{I}}\\cup \\mathcal{R}_{\\mathrm{II}} ,\\left(\\frac{\\partial}{\\partial t },\\frac{\\partial}{\\partial r },\\frac{\\partial}{\\partial {\\theta} },\\frac{\\partial}{\\partial {\\phi} }\\right)\\right), \\left(\\mathcal{R}_{\\mathrm{I}} ,\\left(\\frac{\\partial}{\\partial t },\\frac{\\partial}{\\partial r },\\frac{\\partial}{\\partial {\\theta} },\\frac{\\partial}{\\partial {\\phi} }\\right)\\right), \\left(\\mathcal{R}_{\\mathrm{II}} ,\\left(\\frac{\\partial}{\\partial t },\\frac{\\partial}{\\partial r },\\frac{\\partial}{\\partial {\\theta} },\\frac{\\partial}{\\partial {\\phi} }\\right)\\right)\\right]</script></html>"
      ],
      "text/plain": [
       "[Coordinate frame (R_I_union_R_II, (d/dt,d/dr,d/dth,d/dph)),\n",
       " Coordinate frame (R_I, (d/dt,d/dr,d/dth,d/dph)),\n",
       " Coordinate frame (R_II, (d/dt,d/dr,d/dth,d/dph))]"
      ]
     },
     "execution_count": 13,
     "metadata": {},
     "output_type": "execute_result"
    }
   ],
   "source": [
    "M.frames()"
   ]
  },
  {
   "cell_type": "code",
   "execution_count": 14,
   "metadata": {
    "collapsed": false
   },
   "outputs": [
    {
     "name": "stdout",
     "output_type": "stream",
     "text": [
      "Coordinate frame (R_I_union_R_II, (d/dt,d/dr,d/dth,d/dph))\n"
     ]
    }
   ],
   "source": [
    "print(M.default_frame())"
   ]
  },
  {
   "cell_type": "code",
   "execution_count": 15,
   "metadata": {
    "collapsed": false
   },
   "outputs": [
    {
     "data": {
      "text/html": [
       "<html><script type=\"math/tex; mode=display\">\\newcommand{\\Bold}[1]{\\mathbf{#1}}\\mathcal{R}_{\\mathrm{I}}\\cup \\mathcal{R}_{\\mathrm{II}}</script></html>"
      ],
      "text/plain": [
       "Open subset R_I_union_R_II of the 4-dimensional differentiable manifold M"
      ]
     },
     "execution_count": 15,
     "metadata": {},
     "output_type": "execute_result"
    }
   ],
   "source": [
    "M.default_frame().domain()"
   ]
  },
  {
   "cell_type": "markdown",
   "metadata": {},
   "source": [
    "<h2>Metric tensor</h2>\n",
    "<p>The metric tensor is defined as follows:</p>"
   ]
  },
  {
   "cell_type": "code",
   "execution_count": 16,
   "metadata": {
    "collapsed": false
   },
   "outputs": [
    {
     "name": "stdout",
     "output_type": "stream",
     "text": [
      "Lorentzian metric g on the 4-dimensional differentiable manifold M\n"
     ]
    }
   ],
   "source": [
    "g = M.lorentzian_metric('g')\n",
    "print(g)"
   ]
  },
  {
   "cell_type": "markdown",
   "metadata": {},
   "source": [
    "<p><span>The metric tensor is set by its components in the coordinate frame associated with Schwarzschild coordinates, which is the current manifold's default frame:</span></p>"
   ]
  },
  {
   "cell_type": "code",
   "execution_count": 17,
   "metadata": {
    "collapsed": false
   },
   "outputs": [],
   "source": [
    "g[0,0], g[1,1] = -(1-2*m/r), 1/(1-2*m/r)\n",
    "g[2,2], g[3,3] = r^2, (r*sin(th))^2"
   ]
  },
  {
   "cell_type": "code",
   "execution_count": 18,
   "metadata": {
    "collapsed": false
   },
   "outputs": [
    {
     "data": {
      "text/html": [
       "<html><script type=\"math/tex; mode=display\">\\newcommand{\\Bold}[1]{\\mathbf{#1}}g = \\left( \\frac{2 \\, m}{r} - 1 \\right) \\mathrm{d} t\\otimes \\mathrm{d} t + \\left( -\\frac{1}{\\frac{2 \\, m}{r} - 1} \\right) \\mathrm{d} r\\otimes \\mathrm{d} r + r^{2} \\mathrm{d} {\\theta}\\otimes \\mathrm{d} {\\theta} + r^{2} \\sin\\left({\\theta}\\right)^{2} \\mathrm{d} {\\phi}\\otimes \\mathrm{d} {\\phi}</script></html>"
      ],
      "text/plain": [
       "g = (2*m/r - 1) dt*dt - 1/(2*m/r - 1) dr*dr + r^2 dth*dth + r^2*sin(th)^2 dph*dph"
      ]
     },
     "execution_count": 18,
     "metadata": {},
     "output_type": "execute_result"
    }
   ],
   "source": [
    "g.display()"
   ]
  },
  {
   "cell_type": "markdown",
   "metadata": {},
   "source": [
    "<p>As an example, let us consider a vector field defined only on $\\mathcal{R}_{\\mathrm{I}}$:</p>"
   ]
  },
  {
   "cell_type": "code",
   "execution_count": 19,
   "metadata": {
    "collapsed": false
   },
   "outputs": [
    {
     "data": {
      "text/html": [
       "<html><script type=\"math/tex; mode=display\">\\newcommand{\\Bold}[1]{\\mathbf{#1}}v = \\frac{\\partial}{\\partial t } + \\left( -\\frac{2 \\, m}{r} + 1 \\right) \\frac{\\partial}{\\partial r }</script></html>"
      ],
      "text/plain": [
       "v = d/dt + (-2*m/r + 1) d/dr"
      ]
     },
     "execution_count": 19,
     "metadata": {},
     "output_type": "execute_result"
    }
   ],
   "source": [
    "v = regI.vector_field('v')\n",
    "v[0] = 1\n",
    "v[1] = 1 - 2*m/r\n",
    "# unset components are zero   \n",
    "v.display()"
   ]
  },
  {
   "cell_type": "code",
   "execution_count": 20,
   "metadata": {
    "collapsed": false
   },
   "outputs": [
    {
     "data": {
      "text/html": [
       "<html><script type=\"math/tex; mode=display\">\\newcommand{\\Bold}[1]{\\mathbf{#1}}\\mathcal{R}_{\\mathrm{I}}</script></html>"
      ],
      "text/plain": [
       "Open subset R_I of the 4-dimensional differentiable manifold M"
      ]
     },
     "execution_count": 20,
     "metadata": {},
     "output_type": "execute_result"
    }
   ],
   "source": [
    "v.domain()"
   ]
  },
  {
   "cell_type": "code",
   "execution_count": 21,
   "metadata": {
    "collapsed": false
   },
   "outputs": [
    {
     "data": {
      "text/html": [
       "<html><script type=\"math/tex; mode=display\">\\newcommand{\\Bold}[1]{\\mathbf{#1}}\\mathcal{M}</script></html>"
      ],
      "text/plain": [
       "4-dimensional differentiable manifold M"
      ]
     },
     "execution_count": 21,
     "metadata": {},
     "output_type": "execute_result"
    }
   ],
   "source": [
    "g.domain()"
   ]
  },
  {
   "cell_type": "markdown",
   "metadata": {},
   "source": [
    "<p>Since $\\mathcal{R}_{\\mathrm{I}}\\subset \\mathcal{M}$, it is possible to apply $g$ to $v$:</p>"
   ]
  },
  {
   "cell_type": "code",
   "execution_count": 22,
   "metadata": {
    "collapsed": false
   },
   "outputs": [
    {
     "name": "stdout",
     "output_type": "stream",
     "text": [
      "Scalar field g(v,v) on the Open subset R_I of the 4-dimensional differentiable manifold M\n"
     ]
    }
   ],
   "source": [
    "s = g(v,v) ; print(s)"
   ]
  },
  {
   "cell_type": "code",
   "execution_count": 23,
   "metadata": {
    "collapsed": false
   },
   "outputs": [
    {
     "data": {
      "text/html": [
       "<html><script type=\"math/tex; mode=display\">\\newcommand{\\Bold}[1]{\\mathbf{#1}}\\begin{array}{llcl} g\\left(v,v\\right):& \\mathcal{R}_{\\mathrm{I}} & \\longrightarrow & \\mathbb{R} \\\\ & \\left(t, r, {\\theta}, {\\phi}\\right) & \\longmapsto & 0 \\end{array}</script></html>"
      ],
      "text/plain": [
       "g(v,v): R_I --> R\n",
       "   (t, r, th, ph) |--> 0"
      ]
     },
     "execution_count": 23,
     "metadata": {},
     "output_type": "execute_result"
    }
   ],
   "source": [
    "s.display() # v is indeed a null vector"
   ]
  },
  {
   "cell_type": "markdown",
   "metadata": {},
   "source": [
    "<div id=\"cell_text_59\" class=\"text_cell\">\n",
    "<h2>Levi-Civita Connection</h2>\n",
    "</div>\n",
    "<div id=\"insert_new_cell_before27\" class=\"insert_new_cell\"> </div>\n",
    "<div id=\"cell_text_27\" class=\"text_cell\">\n",
    "<p>The Levi-Civita connection $\\nabla$ associated with $g$:</p>\n",
    "</div>"
   ]
  },
  {
   "cell_type": "code",
   "execution_count": 24,
   "metadata": {
    "collapsed": false
   },
   "outputs": [
    {
     "name": "stdout",
     "output_type": "stream",
     "text": [
      "Levi-Civita connection nabla_g associated with the Lorentzian metric g on the 4-dimensional differentiable manifold M\n"
     ]
    }
   ],
   "source": [
    "nab = g.connection() ; print(nab)"
   ]
  },
  {
   "cell_type": "markdown",
   "metadata": {},
   "source": [
    "<p>Let us verify that the covariant derivative of $g$ with respect to $\\nabla$ vanishes identically:</p>"
   ]
  },
  {
   "cell_type": "code",
   "execution_count": 25,
   "metadata": {
    "collapsed": false
   },
   "outputs": [
    {
     "data": {
      "text/html": [
       "<html><script type=\"math/tex; mode=display\">\\newcommand{\\Bold}[1]{\\mathbf{#1}}\\mathrm{True}</script></html>"
      ],
      "text/plain": [
       "True"
      ]
     },
     "execution_count": 25,
     "metadata": {},
     "output_type": "execute_result"
    }
   ],
   "source": [
    "nab(g) == 0"
   ]
  },
  {
   "cell_type": "code",
   "execution_count": 26,
   "metadata": {
    "collapsed": false
   },
   "outputs": [
    {
     "data": {
      "text/html": [
       "<html><script type=\"math/tex; mode=display\">\\newcommand{\\Bold}[1]{\\mathbf{#1}}\\nabla_{g} g = 0</script></html>"
      ],
      "text/plain": [
       "nabla_g(g) = 0"
      ]
     },
     "execution_count": 26,
     "metadata": {},
     "output_type": "execute_result"
    }
   ],
   "source": [
    "nab(g).display()"
   ]
  },
  {
   "cell_type": "markdown",
   "metadata": {},
   "source": [
    "<p>The nonzero Christoffel symbols of $g$ with respect to Schwarzschild coordinates, skipping those that can be deduced by symmetry:</p>"
   ]
  },
  {
   "cell_type": "code",
   "execution_count": 27,
   "metadata": {
    "collapsed": false
   },
   "outputs": [
    {
     "data": {
      "text/html": [
       "<html><script type=\"math/tex; mode=display\">\\newcommand{\\Bold}[1]{\\mathbf{#1}}\\begin{array}{lcl} \\Gamma_{ \\phantom{\\, t} \\, t \\, r }^{ \\, t \\phantom{\\, t} \\phantom{\\, r} } & = & -\\frac{m}{2 \\, m r - r^{2}} \\\\ \\Gamma_{ \\phantom{\\, r} \\, t \\, t }^{ \\, r \\phantom{\\, t} \\phantom{\\, t} } & = & -\\frac{2 \\, m^{2} - m r}{r^{3}} \\\\ \\Gamma_{ \\phantom{\\, r} \\, r \\, r }^{ \\, r \\phantom{\\, r} \\phantom{\\, r} } & = & \\frac{m}{2 \\, m r - r^{2}} \\\\ \\Gamma_{ \\phantom{\\, r} \\, {\\theta} \\, {\\theta} }^{ \\, r \\phantom{\\, {\\theta}} \\phantom{\\, {\\theta}} } & = & 2 \\, m - r \\\\ \\Gamma_{ \\phantom{\\, r} \\, {\\phi} \\, {\\phi} }^{ \\, r \\phantom{\\, {\\phi}} \\phantom{\\, {\\phi}} } & = & {\\left(2 \\, m - r\\right)} \\sin\\left({\\theta}\\right)^{2} \\\\ \\Gamma_{ \\phantom{\\, {\\theta}} \\, r \\, {\\theta} }^{ \\, {\\theta} \\phantom{\\, r} \\phantom{\\, {\\theta}} } & = & \\frac{1}{r} \\\\ \\Gamma_{ \\phantom{\\, {\\theta}} \\, {\\phi} \\, {\\phi} }^{ \\, {\\theta} \\phantom{\\, {\\phi}} \\phantom{\\, {\\phi}} } & = & -\\cos\\left({\\theta}\\right) \\sin\\left({\\theta}\\right) \\\\ \\Gamma_{ \\phantom{\\, {\\phi}} \\, r \\, {\\phi} }^{ \\, {\\phi} \\phantom{\\, r} \\phantom{\\, {\\phi}} } & = & \\frac{1}{r} \\\\ \\Gamma_{ \\phantom{\\, {\\phi}} \\, {\\theta} \\, {\\phi} }^{ \\, {\\phi} \\phantom{\\, {\\theta}} \\phantom{\\, {\\phi}} } & = & \\frac{\\cos\\left({\\theta}\\right)}{\\sin\\left({\\theta}\\right)} \\end{array}</script></html>"
      ],
      "text/plain": [
       "Gam^t_t,r = -m/(2*m*r - r^2) \n",
       "Gam^r_t,t = -(2*m^2 - m*r)/r^3 \n",
       "Gam^r_r,r = m/(2*m*r - r^2) \n",
       "Gam^r_th,th = 2*m - r \n",
       "Gam^r_ph,ph = (2*m - r)*sin(th)^2 \n",
       "Gam^th_r,th = 1/r \n",
       "Gam^th_ph,ph = -cos(th)*sin(th) \n",
       "Gam^ph_r,ph = 1/r \n",
       "Gam^ph_th,ph = cos(th)/sin(th) "
      ]
     },
     "execution_count": 27,
     "metadata": {},
     "output_type": "execute_result"
    }
   ],
   "source": [
    "g.christoffel_symbols_display()"
   ]
  },
  {
   "cell_type": "markdown",
   "metadata": {},
   "source": [
    "<h2>Curvature</h2>\n",
    "\n",
    "<p>The Riemann curvature tensor associated with $g$:</p>"
   ]
  },
  {
   "cell_type": "code",
   "execution_count": 28,
   "metadata": {
    "collapsed": false
   },
   "outputs": [
    {
     "name": "stdout",
     "output_type": "stream",
     "text": [
      "Tensor field Riem(g) of type (1,3) on the 4-dimensional differentiable manifold M\n"
     ]
    }
   ],
   "source": [
    "R = g.riemann() ; print(R)"
   ]
  },
  {
   "cell_type": "markdown",
   "metadata": {},
   "source": [
    "<p>The Weyl conformal tensor associated with $g$:</p>"
   ]
  },
  {
   "cell_type": "code",
   "execution_count": 29,
   "metadata": {
    "collapsed": false
   },
   "outputs": [
    {
     "name": "stdout",
     "output_type": "stream",
     "text": [
      "Tensor field C(g) of type (1,3) on the 4-dimensional differentiable manifold M\n"
     ]
    }
   ],
   "source": [
    "C = g.weyl() ; print(C)"
   ]
  },
  {
   "cell_type": "code",
   "execution_count": 30,
   "metadata": {
    "collapsed": false
   },
   "outputs": [
    {
     "data": {
      "text/html": [
       "<html><script type=\"math/tex; mode=display\">\\newcommand{\\Bold}[1]{\\mathbf{#1}}\\mathrm{C}\\left(g\\right) = \\left( -\\frac{2 \\, m}{2 \\, m r^{2} - r^{3}} \\right) \\frac{\\partial}{\\partial t }\\otimes \\mathrm{d} r\\otimes \\mathrm{d} t\\otimes \\mathrm{d} r + \\left( \\frac{2 \\, m}{2 \\, m r^{2} - r^{3}} \\right) \\frac{\\partial}{\\partial t }\\otimes \\mathrm{d} r\\otimes \\mathrm{d} r\\otimes \\mathrm{d} t -\\frac{m}{r} \\frac{\\partial}{\\partial t }\\otimes \\mathrm{d} {\\theta}\\otimes \\mathrm{d} t\\otimes \\mathrm{d} {\\theta} + \\frac{m}{r} \\frac{\\partial}{\\partial t }\\otimes \\mathrm{d} {\\theta}\\otimes \\mathrm{d} {\\theta}\\otimes \\mathrm{d} t -\\frac{m \\sin\\left({\\theta}\\right)^{2}}{r} \\frac{\\partial}{\\partial t }\\otimes \\mathrm{d} {\\phi}\\otimes \\mathrm{d} t\\otimes \\mathrm{d} {\\phi} + \\frac{m \\sin\\left({\\theta}\\right)^{2}}{r} \\frac{\\partial}{\\partial t }\\otimes \\mathrm{d} {\\phi}\\otimes \\mathrm{d} {\\phi}\\otimes \\mathrm{d} t -\\frac{2 \\, {\\left(2 \\, m^{2} - m r\\right)}}{r^{4}} \\frac{\\partial}{\\partial r }\\otimes \\mathrm{d} t\\otimes \\mathrm{d} t\\otimes \\mathrm{d} r + \\frac{2 \\, {\\left(2 \\, m^{2} - m r\\right)}}{r^{4}} \\frac{\\partial}{\\partial r }\\otimes \\mathrm{d} t\\otimes \\mathrm{d} r\\otimes \\mathrm{d} t -\\frac{m}{r} \\frac{\\partial}{\\partial r }\\otimes \\mathrm{d} {\\theta}\\otimes \\mathrm{d} r\\otimes \\mathrm{d} {\\theta} + \\frac{m}{r} \\frac{\\partial}{\\partial r }\\otimes \\mathrm{d} {\\theta}\\otimes \\mathrm{d} {\\theta}\\otimes \\mathrm{d} r -\\frac{m \\sin\\left({\\theta}\\right)^{2}}{r} \\frac{\\partial}{\\partial r }\\otimes \\mathrm{d} {\\phi}\\otimes \\mathrm{d} r\\otimes \\mathrm{d} {\\phi} + \\frac{m \\sin\\left({\\theta}\\right)^{2}}{r} \\frac{\\partial}{\\partial r }\\otimes \\mathrm{d} {\\phi}\\otimes \\mathrm{d} {\\phi}\\otimes \\mathrm{d} r + \\left( \\frac{2 \\, m^{2} - m r}{r^{4}} \\right) \\frac{\\partial}{\\partial {\\theta} }\\otimes \\mathrm{d} t\\otimes \\mathrm{d} t\\otimes \\mathrm{d} {\\theta} + \\left( -\\frac{2 \\, m^{2} - m r}{r^{4}} \\right) \\frac{\\partial}{\\partial {\\theta} }\\otimes \\mathrm{d} t\\otimes \\mathrm{d} {\\theta}\\otimes \\mathrm{d} t + \\left( -\\frac{m}{2 \\, m r^{2} - r^{3}} \\right) \\frac{\\partial}{\\partial {\\theta} }\\otimes \\mathrm{d} r\\otimes \\mathrm{d} r\\otimes \\mathrm{d} {\\theta} + \\left( \\frac{m}{2 \\, m r^{2} - r^{3}} \\right) \\frac{\\partial}{\\partial {\\theta} }\\otimes \\mathrm{d} r\\otimes \\mathrm{d} {\\theta}\\otimes \\mathrm{d} r + \\frac{2 \\, m \\sin\\left({\\theta}\\right)^{2}}{r} \\frac{\\partial}{\\partial {\\theta} }\\otimes \\mathrm{d} {\\phi}\\otimes \\mathrm{d} {\\theta}\\otimes \\mathrm{d} {\\phi} -\\frac{2 \\, m \\sin\\left({\\theta}\\right)^{2}}{r} \\frac{\\partial}{\\partial {\\theta} }\\otimes \\mathrm{d} {\\phi}\\otimes \\mathrm{d} {\\phi}\\otimes \\mathrm{d} {\\theta} + \\left( \\frac{2 \\, m^{2} - m r}{r^{4}} \\right) \\frac{\\partial}{\\partial {\\phi} }\\otimes \\mathrm{d} t\\otimes \\mathrm{d} t\\otimes \\mathrm{d} {\\phi} + \\left( -\\frac{2 \\, m^{2} - m r}{r^{4}} \\right) \\frac{\\partial}{\\partial {\\phi} }\\otimes \\mathrm{d} t\\otimes \\mathrm{d} {\\phi}\\otimes \\mathrm{d} t + \\left( -\\frac{m}{2 \\, m r^{2} - r^{3}} \\right) \\frac{\\partial}{\\partial {\\phi} }\\otimes \\mathrm{d} r\\otimes \\mathrm{d} r\\otimes \\mathrm{d} {\\phi} + \\left( \\frac{m}{2 \\, m r^{2} - r^{3}} \\right) \\frac{\\partial}{\\partial {\\phi} }\\otimes \\mathrm{d} r\\otimes \\mathrm{d} {\\phi}\\otimes \\mathrm{d} r -\\frac{2 \\, m}{r} \\frac{\\partial}{\\partial {\\phi} }\\otimes \\mathrm{d} {\\theta}\\otimes \\mathrm{d} {\\theta}\\otimes \\mathrm{d} {\\phi} + \\frac{2 \\, m}{r} \\frac{\\partial}{\\partial {\\phi} }\\otimes \\mathrm{d} {\\theta}\\otimes \\mathrm{d} {\\phi}\\otimes \\mathrm{d} {\\theta}</script></html>"
      ],
      "text/plain": [
       "C(g) = -2*m/(2*m*r^2 - r^3) d/dt*dr*dt*dr + 2*m/(2*m*r^2 - r^3) d/dt*dr*dr*dt - m/r d/dt*dth*dt*dth + m/r d/dt*dth*dth*dt - m*sin(th)^2/r d/dt*dph*dt*dph + m*sin(th)^2/r d/dt*dph*dph*dt - 2*(2*m^2 - m*r)/r^4 d/dr*dt*dt*dr + 2*(2*m^2 - m*r)/r^4 d/dr*dt*dr*dt - m/r d/dr*dth*dr*dth + m/r d/dr*dth*dth*dr - m*sin(th)^2/r d/dr*dph*dr*dph + m*sin(th)^2/r d/dr*dph*dph*dr + (2*m^2 - m*r)/r^4 d/dth*dt*dt*dth - (2*m^2 - m*r)/r^4 d/dth*dt*dth*dt - m/(2*m*r^2 - r^3) d/dth*dr*dr*dth + m/(2*m*r^2 - r^3) d/dth*dr*dth*dr + 2*m*sin(th)^2/r d/dth*dph*dth*dph - 2*m*sin(th)^2/r d/dth*dph*dph*dth + (2*m^2 - m*r)/r^4 d/dph*dt*dt*dph - (2*m^2 - m*r)/r^4 d/dph*dt*dph*dt - m/(2*m*r^2 - r^3) d/dph*dr*dr*dph + m/(2*m*r^2 - r^3) d/dph*dr*dph*dr - 2*m/r d/dph*dth*dth*dph + 2*m/r d/dph*dth*dph*dth"
      ]
     },
     "execution_count": 30,
     "metadata": {},
     "output_type": "execute_result"
    }
   ],
   "source": [
    "C.display()"
   ]
  },
  {
   "cell_type": "markdown",
   "metadata": {},
   "source": [
    "<p>The Ricci tensor associated with $g$:</p>"
   ]
  },
  {
   "cell_type": "code",
   "execution_count": 31,
   "metadata": {
    "collapsed": false
   },
   "outputs": [
    {
     "name": "stdout",
     "output_type": "stream",
     "text": [
      "Field of symmetric bilinear forms Ric(g) on the 4-dimensional differentiable manifold M\n"
     ]
    }
   ],
   "source": [
    "Ric = g.ricci() ; print(Ric)"
   ]
  },
  {
   "cell_type": "markdown",
   "metadata": {},
   "source": [
    "<h3>Einstein equation</h3>\n",
    "<p>Let us check that the Schwarzschild metric is a solution of the vacuum Einstein equation:</p>"
   ]
  },
  {
   "cell_type": "code",
   "execution_count": 32,
   "metadata": {
    "collapsed": false
   },
   "outputs": [
    {
     "data": {
      "text/html": [
       "<html><script type=\"math/tex; mode=display\">\\newcommand{\\Bold}[1]{\\mathbf{#1}}\\mathrm{True}</script></html>"
      ],
      "text/plain": [
       "True"
      ]
     },
     "execution_count": 32,
     "metadata": {},
     "output_type": "execute_result"
    }
   ],
   "source": [
    "Ric == 0"
   ]
  },
  {
   "cell_type": "code",
   "execution_count": 33,
   "metadata": {
    "collapsed": false
   },
   "outputs": [
    {
     "data": {
      "text/html": [
       "<html><script type=\"math/tex; mode=display\">\\newcommand{\\Bold}[1]{\\mathbf{#1}}\\mathrm{Ric}\\left(g\\right) = 0</script></html>"
      ],
      "text/plain": [
       "Ric(g) = 0"
      ]
     },
     "execution_count": 33,
     "metadata": {},
     "output_type": "execute_result"
    }
   ],
   "source": [
    "Ric.display() # another view of the above"
   ]
  },
  {
   "cell_type": "markdown",
   "metadata": {},
   "source": [
    "<p>Contrary to the Ricci tensor, the Riemann tensor does not vanish:</p>"
   ]
  },
  {
   "cell_type": "code",
   "execution_count": 34,
   "metadata": {
    "collapsed": false
   },
   "outputs": [
    {
     "data": {
      "text/html": [
       "<html><script type=\"math/tex; mode=display\">\\newcommand{\\Bold}[1]{\\mathbf{#1}}\\left[\\left[\\left[\\left[0, 0, 0, 0\\right], \\left[0, 0, 0, 0\\right], \\left[0, 0, 0, 0\\right], \\left[0, 0, 0, 0\\right]\\right], \\left[\\left[0, -\\frac{2 \\, m}{2 \\, m r^{2} - r^{3}}, 0, 0\\right], \\left[\\frac{2 \\, m}{2 \\, m r^{2} - r^{3}}, 0, 0, 0\\right], \\left[0, 0, 0, 0\\right], \\left[0, 0, 0, 0\\right]\\right], \\left[\\left[0, 0, -\\frac{m}{r}, 0\\right], \\left[0, 0, 0, 0\\right], \\left[\\frac{m}{r}, 0, 0, 0\\right], \\left[0, 0, 0, 0\\right]\\right], \\left[\\left[0, 0, 0, -\\frac{m \\sin\\left({\\theta}\\right)^{2}}{r}\\right], \\left[0, 0, 0, 0\\right], \\left[0, 0, 0, 0\\right], \\left[\\frac{m \\sin\\left({\\theta}\\right)^{2}}{r}, 0, 0, 0\\right]\\right]\\right], \\left[\\left[\\left[0, -\\frac{2 \\, {\\left(2 \\, m^{2} - m r\\right)}}{r^{4}}, 0, 0\\right], \\left[\\frac{2 \\, {\\left(2 \\, m^{2} - m r\\right)}}{r^{4}}, 0, 0, 0\\right], \\left[0, 0, 0, 0\\right], \\left[0, 0, 0, 0\\right]\\right], \\left[\\left[0, 0, 0, 0\\right], \\left[0, 0, 0, 0\\right], \\left[0, 0, 0, 0\\right], \\left[0, 0, 0, 0\\right]\\right], \\left[\\left[0, 0, 0, 0\\right], \\left[0, 0, -\\frac{m}{r}, 0\\right], \\left[0, \\frac{m}{r}, 0, 0\\right], \\left[0, 0, 0, 0\\right]\\right], \\left[\\left[0, 0, 0, 0\\right], \\left[0, 0, 0, -\\frac{m \\sin\\left({\\theta}\\right)^{2}}{r}\\right], \\left[0, 0, 0, 0\\right], \\left[0, \\frac{m \\sin\\left({\\theta}\\right)^{2}}{r}, 0, 0\\right]\\right]\\right], \\left[\\left[\\left[0, 0, \\frac{2 \\, m^{2} - m r}{r^{4}}, 0\\right], \\left[0, 0, 0, 0\\right], \\left[-\\frac{2 \\, m^{2} - m r}{r^{4}}, 0, 0, 0\\right], \\left[0, 0, 0, 0\\right]\\right], \\left[\\left[0, 0, 0, 0\\right], \\left[0, 0, -\\frac{m}{2 \\, m r^{2} - r^{3}}, 0\\right], \\left[0, \\frac{m}{2 \\, m r^{2} - r^{3}}, 0, 0\\right], \\left[0, 0, 0, 0\\right]\\right], \\left[\\left[0, 0, 0, 0\\right], \\left[0, 0, 0, 0\\right], \\left[0, 0, 0, 0\\right], \\left[0, 0, 0, 0\\right]\\right], \\left[\\left[0, 0, 0, 0\\right], \\left[0, 0, 0, 0\\right], \\left[0, 0, 0, \\frac{2 \\, m \\sin\\left({\\theta}\\right)^{2}}{r}\\right], \\left[0, 0, -\\frac{2 \\, m \\sin\\left({\\theta}\\right)^{2}}{r}, 0\\right]\\right]\\right], \\left[\\left[\\left[0, 0, 0, \\frac{2 \\, m^{2} - m r}{r^{4}}\\right], \\left[0, 0, 0, 0\\right], \\left[0, 0, 0, 0\\right], \\left[-\\frac{2 \\, m^{2} - m r}{r^{4}}, 0, 0, 0\\right]\\right], \\left[\\left[0, 0, 0, 0\\right], \\left[0, 0, 0, -\\frac{m}{2 \\, m r^{2} - r^{3}}\\right], \\left[0, 0, 0, 0\\right], \\left[0, \\frac{m}{2 \\, m r^{2} - r^{3}}, 0, 0\\right]\\right], \\left[\\left[0, 0, 0, 0\\right], \\left[0, 0, 0, 0\\right], \\left[0, 0, 0, -\\frac{2 \\, m}{r}\\right], \\left[0, 0, \\frac{2 \\, m}{r}, 0\\right]\\right], \\left[\\left[0, 0, 0, 0\\right], \\left[0, 0, 0, 0\\right], \\left[0, 0, 0, 0\\right], \\left[0, 0, 0, 0\\right]\\right]\\right]\\right]</script></html>"
      ],
      "text/plain": [
       "[[[[0, 0, 0, 0], [0, 0, 0, 0], [0, 0, 0, 0], [0, 0, 0, 0]],\n",
       "  [[0, -2*m/(2*m*r^2 - r^3), 0, 0],\n",
       "   [2*m/(2*m*r^2 - r^3), 0, 0, 0],\n",
       "   [0, 0, 0, 0],\n",
       "   [0, 0, 0, 0]],\n",
       "  [[0, 0, -m/r, 0], [0, 0, 0, 0], [m/r, 0, 0, 0], [0, 0, 0, 0]],\n",
       "  [[0, 0, 0, -m*sin(th)^2/r],\n",
       "   [0, 0, 0, 0],\n",
       "   [0, 0, 0, 0],\n",
       "   [m*sin(th)^2/r, 0, 0, 0]]],\n",
       " [[[0, -2*(2*m^2 - m*r)/r^4, 0, 0],\n",
       "   [2*(2*m^2 - m*r)/r^4, 0, 0, 0],\n",
       "   [0, 0, 0, 0],\n",
       "   [0, 0, 0, 0]],\n",
       "  [[0, 0, 0, 0], [0, 0, 0, 0], [0, 0, 0, 0], [0, 0, 0, 0]],\n",
       "  [[0, 0, 0, 0], [0, 0, -m/r, 0], [0, m/r, 0, 0], [0, 0, 0, 0]],\n",
       "  [[0, 0, 0, 0],\n",
       "   [0, 0, 0, -m*sin(th)^2/r],\n",
       "   [0, 0, 0, 0],\n",
       "   [0, m*sin(th)^2/r, 0, 0]]],\n",
       " [[[0, 0, (2*m^2 - m*r)/r^4, 0],\n",
       "   [0, 0, 0, 0],\n",
       "   [-(2*m^2 - m*r)/r^4, 0, 0, 0],\n",
       "   [0, 0, 0, 0]],\n",
       "  [[0, 0, 0, 0],\n",
       "   [0, 0, -m/(2*m*r^2 - r^3), 0],\n",
       "   [0, m/(2*m*r^2 - r^3), 0, 0],\n",
       "   [0, 0, 0, 0]],\n",
       "  [[0, 0, 0, 0], [0, 0, 0, 0], [0, 0, 0, 0], [0, 0, 0, 0]],\n",
       "  [[0, 0, 0, 0],\n",
       "   [0, 0, 0, 0],\n",
       "   [0, 0, 0, 2*m*sin(th)^2/r],\n",
       "   [0, 0, -2*m*sin(th)^2/r, 0]]],\n",
       " [[[0, 0, 0, (2*m^2 - m*r)/r^4],\n",
       "   [0, 0, 0, 0],\n",
       "   [0, 0, 0, 0],\n",
       "   [-(2*m^2 - m*r)/r^4, 0, 0, 0]],\n",
       "  [[0, 0, 0, 0],\n",
       "   [0, 0, 0, -m/(2*m*r^2 - r^3)],\n",
       "   [0, 0, 0, 0],\n",
       "   [0, m/(2*m*r^2 - r^3), 0, 0]],\n",
       "  [[0, 0, 0, 0], [0, 0, 0, 0], [0, 0, 0, -2*m/r], [0, 0, 2*m/r, 0]],\n",
       "  [[0, 0, 0, 0], [0, 0, 0, 0], [0, 0, 0, 0], [0, 0, 0, 0]]]]"
      ]
     },
     "execution_count": 34,
     "metadata": {},
     "output_type": "execute_result"
    }
   ],
   "source": [
    "R[:]"
   ]
  },
  {
   "cell_type": "code",
   "execution_count": 35,
   "metadata": {
    "collapsed": false
   },
   "outputs": [
    {
     "data": {
      "text/html": [
       "<html><script type=\"math/tex; mode=display\">\\newcommand{\\Bold}[1]{\\mathbf{#1}}\\mathrm{Riem}\\left(g\\right) = \\left( -\\frac{2 \\, m}{2 \\, m r^{2} - r^{3}} \\right) \\frac{\\partial}{\\partial t }\\otimes \\mathrm{d} r\\otimes \\mathrm{d} t\\otimes \\mathrm{d} r + \\left( \\frac{2 \\, m}{2 \\, m r^{2} - r^{3}} \\right) \\frac{\\partial}{\\partial t }\\otimes \\mathrm{d} r\\otimes \\mathrm{d} r\\otimes \\mathrm{d} t -\\frac{m}{r} \\frac{\\partial}{\\partial t }\\otimes \\mathrm{d} {\\theta}\\otimes \\mathrm{d} t\\otimes \\mathrm{d} {\\theta} + \\frac{m}{r} \\frac{\\partial}{\\partial t }\\otimes \\mathrm{d} {\\theta}\\otimes \\mathrm{d} {\\theta}\\otimes \\mathrm{d} t -\\frac{m \\sin\\left({\\theta}\\right)^{2}}{r} \\frac{\\partial}{\\partial t }\\otimes \\mathrm{d} {\\phi}\\otimes \\mathrm{d} t\\otimes \\mathrm{d} {\\phi} + \\frac{m \\sin\\left({\\theta}\\right)^{2}}{r} \\frac{\\partial}{\\partial t }\\otimes \\mathrm{d} {\\phi}\\otimes \\mathrm{d} {\\phi}\\otimes \\mathrm{d} t -\\frac{2 \\, {\\left(2 \\, m^{2} - m r\\right)}}{r^{4}} \\frac{\\partial}{\\partial r }\\otimes \\mathrm{d} t\\otimes \\mathrm{d} t\\otimes \\mathrm{d} r + \\frac{2 \\, {\\left(2 \\, m^{2} - m r\\right)}}{r^{4}} \\frac{\\partial}{\\partial r }\\otimes \\mathrm{d} t\\otimes \\mathrm{d} r\\otimes \\mathrm{d} t -\\frac{m}{r} \\frac{\\partial}{\\partial r }\\otimes \\mathrm{d} {\\theta}\\otimes \\mathrm{d} r\\otimes \\mathrm{d} {\\theta} + \\frac{m}{r} \\frac{\\partial}{\\partial r }\\otimes \\mathrm{d} {\\theta}\\otimes \\mathrm{d} {\\theta}\\otimes \\mathrm{d} r -\\frac{m \\sin\\left({\\theta}\\right)^{2}}{r} \\frac{\\partial}{\\partial r }\\otimes \\mathrm{d} {\\phi}\\otimes \\mathrm{d} r\\otimes \\mathrm{d} {\\phi} + \\frac{m \\sin\\left({\\theta}\\right)^{2}}{r} \\frac{\\partial}{\\partial r }\\otimes \\mathrm{d} {\\phi}\\otimes \\mathrm{d} {\\phi}\\otimes \\mathrm{d} r + \\left( \\frac{2 \\, m^{2} - m r}{r^{4}} \\right) \\frac{\\partial}{\\partial {\\theta} }\\otimes \\mathrm{d} t\\otimes \\mathrm{d} t\\otimes \\mathrm{d} {\\theta} + \\left( -\\frac{2 \\, m^{2} - m r}{r^{4}} \\right) \\frac{\\partial}{\\partial {\\theta} }\\otimes \\mathrm{d} t\\otimes \\mathrm{d} {\\theta}\\otimes \\mathrm{d} t + \\left( -\\frac{m}{2 \\, m r^{2} - r^{3}} \\right) \\frac{\\partial}{\\partial {\\theta} }\\otimes \\mathrm{d} r\\otimes \\mathrm{d} r\\otimes \\mathrm{d} {\\theta} + \\left( \\frac{m}{2 \\, m r^{2} - r^{3}} \\right) \\frac{\\partial}{\\partial {\\theta} }\\otimes \\mathrm{d} r\\otimes \\mathrm{d} {\\theta}\\otimes \\mathrm{d} r + \\frac{2 \\, m \\sin\\left({\\theta}\\right)^{2}}{r} \\frac{\\partial}{\\partial {\\theta} }\\otimes \\mathrm{d} {\\phi}\\otimes \\mathrm{d} {\\theta}\\otimes \\mathrm{d} {\\phi} -\\frac{2 \\, m \\sin\\left({\\theta}\\right)^{2}}{r} \\frac{\\partial}{\\partial {\\theta} }\\otimes \\mathrm{d} {\\phi}\\otimes \\mathrm{d} {\\phi}\\otimes \\mathrm{d} {\\theta} + \\left( \\frac{2 \\, m^{2} - m r}{r^{4}} \\right) \\frac{\\partial}{\\partial {\\phi} }\\otimes \\mathrm{d} t\\otimes \\mathrm{d} t\\otimes \\mathrm{d} {\\phi} + \\left( -\\frac{2 \\, m^{2} - m r}{r^{4}} \\right) \\frac{\\partial}{\\partial {\\phi} }\\otimes \\mathrm{d} t\\otimes \\mathrm{d} {\\phi}\\otimes \\mathrm{d} t + \\left( -\\frac{m}{2 \\, m r^{2} - r^{3}} \\right) \\frac{\\partial}{\\partial {\\phi} }\\otimes \\mathrm{d} r\\otimes \\mathrm{d} r\\otimes \\mathrm{d} {\\phi} + \\left( \\frac{m}{2 \\, m r^{2} - r^{3}} \\right) \\frac{\\partial}{\\partial {\\phi} }\\otimes \\mathrm{d} r\\otimes \\mathrm{d} {\\phi}\\otimes \\mathrm{d} r -\\frac{2 \\, m}{r} \\frac{\\partial}{\\partial {\\phi} }\\otimes \\mathrm{d} {\\theta}\\otimes \\mathrm{d} {\\theta}\\otimes \\mathrm{d} {\\phi} + \\frac{2 \\, m}{r} \\frac{\\partial}{\\partial {\\phi} }\\otimes \\mathrm{d} {\\theta}\\otimes \\mathrm{d} {\\phi}\\otimes \\mathrm{d} {\\theta}</script></html>"
      ],
      "text/plain": [
       "Riem(g) = -2*m/(2*m*r^2 - r^3) d/dt*dr*dt*dr + 2*m/(2*m*r^2 - r^3) d/dt*dr*dr*dt - m/r d/dt*dth*dt*dth + m/r d/dt*dth*dth*dt - m*sin(th)^2/r d/dt*dph*dt*dph + m*sin(th)^2/r d/dt*dph*dph*dt - 2*(2*m^2 - m*r)/r^4 d/dr*dt*dt*dr + 2*(2*m^2 - m*r)/r^4 d/dr*dt*dr*dt - m/r d/dr*dth*dr*dth + m/r d/dr*dth*dth*dr - m*sin(th)^2/r d/dr*dph*dr*dph + m*sin(th)^2/r d/dr*dph*dph*dr + (2*m^2 - m*r)/r^4 d/dth*dt*dt*dth - (2*m^2 - m*r)/r^4 d/dth*dt*dth*dt - m/(2*m*r^2 - r^3) d/dth*dr*dr*dth + m/(2*m*r^2 - r^3) d/dth*dr*dth*dr + 2*m*sin(th)^2/r d/dth*dph*dth*dph - 2*m*sin(th)^2/r d/dth*dph*dph*dth + (2*m^2 - m*r)/r^4 d/dph*dt*dt*dph - (2*m^2 - m*r)/r^4 d/dph*dt*dph*dt - m/(2*m*r^2 - r^3) d/dph*dr*dr*dph + m/(2*m*r^2 - r^3) d/dph*dr*dph*dr - 2*m/r d/dph*dth*dth*dph + 2*m/r d/dph*dth*dph*dth"
      ]
     },
     "execution_count": 35,
     "metadata": {},
     "output_type": "execute_result"
    }
   ],
   "source": [
    "R.display()"
   ]
  },
  {
   "cell_type": "markdown",
   "metadata": {},
   "source": [
    "<p>The nonzero components of the Riemann tensor, skipping those that can be deduced by antisymmetry:</p>"
   ]
  },
  {
   "cell_type": "code",
   "execution_count": 36,
   "metadata": {
    "collapsed": false
   },
   "outputs": [
    {
     "data": {
      "text/html": [
       "<html><script type=\"math/tex; mode=display\">\\newcommand{\\Bold}[1]{\\mathbf{#1}}\\begin{array}{lcl} \\mathrm{Riem}\\left(g\\right)_{ \\phantom{\\, t} \\, r \\, t \\, r }^{ \\, t \\phantom{\\, r} \\phantom{\\, t} \\phantom{\\, r} } & = & -\\frac{2 \\, m}{2 \\, m r^{2} - r^{3}} \\\\ \\mathrm{Riem}\\left(g\\right)_{ \\phantom{\\, t} \\, {\\theta} \\, t \\, {\\theta} }^{ \\, t \\phantom{\\, {\\theta}} \\phantom{\\, t} \\phantom{\\, {\\theta}} } & = & -\\frac{m}{r} \\\\ \\mathrm{Riem}\\left(g\\right)_{ \\phantom{\\, t} \\, {\\phi} \\, t \\, {\\phi} }^{ \\, t \\phantom{\\, {\\phi}} \\phantom{\\, t} \\phantom{\\, {\\phi}} } & = & -\\frac{m \\sin\\left({\\theta}\\right)^{2}}{r} \\\\ \\mathrm{Riem}\\left(g\\right)_{ \\phantom{\\, r} \\, t \\, t \\, r }^{ \\, r \\phantom{\\, t} \\phantom{\\, t} \\phantom{\\, r} } & = & -\\frac{2 \\, {\\left(2 \\, m^{2} - m r\\right)}}{r^{4}} \\\\ \\mathrm{Riem}\\left(g\\right)_{ \\phantom{\\, r} \\, {\\theta} \\, r \\, {\\theta} }^{ \\, r \\phantom{\\, {\\theta}} \\phantom{\\, r} \\phantom{\\, {\\theta}} } & = & -\\frac{m}{r} \\\\ \\mathrm{Riem}\\left(g\\right)_{ \\phantom{\\, r} \\, {\\phi} \\, r \\, {\\phi} }^{ \\, r \\phantom{\\, {\\phi}} \\phantom{\\, r} \\phantom{\\, {\\phi}} } & = & -\\frac{m \\sin\\left({\\theta}\\right)^{2}}{r} \\\\ \\mathrm{Riem}\\left(g\\right)_{ \\phantom{\\, {\\theta}} \\, t \\, t \\, {\\theta} }^{ \\, {\\theta} \\phantom{\\, t} \\phantom{\\, t} \\phantom{\\, {\\theta}} } & = & \\frac{2 \\, m^{2} - m r}{r^{4}} \\\\ \\mathrm{Riem}\\left(g\\right)_{ \\phantom{\\, {\\theta}} \\, r \\, r \\, {\\theta} }^{ \\, {\\theta} \\phantom{\\, r} \\phantom{\\, r} \\phantom{\\, {\\theta}} } & = & -\\frac{m}{2 \\, m r^{2} - r^{3}} \\\\ \\mathrm{Riem}\\left(g\\right)_{ \\phantom{\\, {\\theta}} \\, {\\phi} \\, {\\theta} \\, {\\phi} }^{ \\, {\\theta} \\phantom{\\, {\\phi}} \\phantom{\\, {\\theta}} \\phantom{\\, {\\phi}} } & = & \\frac{2 \\, m \\sin\\left({\\theta}\\right)^{2}}{r} \\\\ \\mathrm{Riem}\\left(g\\right)_{ \\phantom{\\, {\\phi}} \\, t \\, t \\, {\\phi} }^{ \\, {\\phi} \\phantom{\\, t} \\phantom{\\, t} \\phantom{\\, {\\phi}} } & = & \\frac{2 \\, m^{2} - m r}{r^{4}} \\\\ \\mathrm{Riem}\\left(g\\right)_{ \\phantom{\\, {\\phi}} \\, r \\, r \\, {\\phi} }^{ \\, {\\phi} \\phantom{\\, r} \\phantom{\\, r} \\phantom{\\, {\\phi}} } & = & -\\frac{m}{2 \\, m r^{2} - r^{3}} \\\\ \\mathrm{Riem}\\left(g\\right)_{ \\phantom{\\, {\\phi}} \\, {\\theta} \\, {\\theta} \\, {\\phi} }^{ \\, {\\phi} \\phantom{\\, {\\theta}} \\phantom{\\, {\\theta}} \\phantom{\\, {\\phi}} } & = & -\\frac{2 \\, m}{r} \\end{array}</script></html>"
      ],
      "text/plain": [
       "Riem(g)^t_r,t,r = -2*m/(2*m*r^2 - r^3) \n",
       "Riem(g)^t_th,t,th = -m/r \n",
       "Riem(g)^t_ph,t,ph = -m*sin(th)^2/r \n",
       "Riem(g)^r_t,t,r = -2*(2*m^2 - m*r)/r^4 \n",
       "Riem(g)^r_th,r,th = -m/r \n",
       "Riem(g)^r_ph,r,ph = -m*sin(th)^2/r \n",
       "Riem(g)^th_t,t,th = (2*m^2 - m*r)/r^4 \n",
       "Riem(g)^th_r,r,th = -m/(2*m*r^2 - r^3) \n",
       "Riem(g)^th_ph,th,ph = 2*m*sin(th)^2/r \n",
       "Riem(g)^ph_t,t,ph = (2*m^2 - m*r)/r^4 \n",
       "Riem(g)^ph_r,r,ph = -m/(2*m*r^2 - r^3) \n",
       "Riem(g)^ph_th,th,ph = -2*m/r "
      ]
     },
     "execution_count": 36,
     "metadata": {},
     "output_type": "execute_result"
    }
   ],
   "source": [
    "R.display_comp(only_nonredundant=True)"
   ]
  },
  {
   "cell_type": "code",
   "execution_count": 37,
   "metadata": {
    "collapsed": false
   },
   "outputs": [
    {
     "data": {
      "text/html": [
       "<html><script type=\"math/tex; mode=display\">\\newcommand{\\Bold}[1]{\\mathbf{#1}}\\left(\\begin{array}{rrrr}\n",
       "0 & 0 & 0 & 0 \\\\\n",
       "0 & 0 & 0 & 0 \\\\\n",
       "0 & 0 & 0 & 0 \\\\\n",
       "0 & 0 & 0 & 0\n",
       "\\end{array}\\right)</script></html>"
      ],
      "text/plain": [
       "[0 0 0 0]\n",
       "[0 0 0 0]\n",
       "[0 0 0 0]\n",
       "[0 0 0 0]"
      ]
     },
     "execution_count": 37,
     "metadata": {},
     "output_type": "execute_result"
    }
   ],
   "source": [
    "Ric[:]"
   ]
  },
  {
   "cell_type": "markdown",
   "metadata": {},
   "source": [
    "<p>Since the Ricci tensor is zero, the Weyl tensor is of course equal to the Riemann tensor:</p>"
   ]
  },
  {
   "cell_type": "code",
   "execution_count": 38,
   "metadata": {
    "collapsed": false
   },
   "outputs": [
    {
     "data": {
      "text/html": [
       "<html><script type=\"math/tex; mode=display\">\\newcommand{\\Bold}[1]{\\mathbf{#1}}\\mathrm{True}</script></html>"
      ],
      "text/plain": [
       "True"
      ]
     },
     "execution_count": 38,
     "metadata": {},
     "output_type": "execute_result"
    }
   ],
   "source": [
    "C == R"
   ]
  },
  {
   "cell_type": "markdown",
   "metadata": {},
   "source": [
    "<h3>Bianchi identity</h3>\n",
    "\n",
    "<p>Let us check the Bianchi identity $\\nabla_p R^i_{\\ \\, j kl} + \\nabla_k R^i_{\\ \\, jlp} + \\nabla_l R^i_{\\ \\, jpk} = 0$:</p>"
   ]
  },
  {
   "cell_type": "code",
   "execution_count": 39,
   "metadata": {
    "collapsed": false
   },
   "outputs": [
    {
     "name": "stdout",
     "output_type": "stream",
     "text": [
      "Tensor field nabla_g(Riem(g)) of type (1,4) on the 4-dimensional differentiable manifold M\n"
     ]
    }
   ],
   "source": [
    "DR = nab(R) ; print(DR)"
   ]
  },
  {
   "cell_type": "code",
   "execution_count": 40,
   "metadata": {
    "collapsed": false
   },
   "outputs": [
    {
     "name": "stdout",
     "output_type": "stream",
     "text": [
      "0 0 0 0 0 0 0 0 0 0 0 0 0 0 0 0 0 0 0 0 0 0 0 0 0 0 0 0 0 0 0 0 0 0 0 0 0 0 0 0 0 0 0 0 0 0 0 0 0 0 0 0 0 0 0 0 0 0 0 0 0 0 0 0 0 0 0 0 0 0 0 0 0 0 0 0 0 0 0 0 0 0 0 0 0 0 0 0 0 0 0 0 0 0 0 0 0 0 0 0 0 0 0 0 0 0 0 0 0 0 0 0 0 0 0 0 0 0 0 0 0 0 0 0 0 0 0 0 0 0 0 0 0 0 0 0 0 0 0 0 0 0 0 0 0 0 0 0 0 0 0 0 0 0 0 0 0 0 0 0 0 0 0 0 0 0 0 0 0 0 0 0 0 0 0 0 0 0 0 0 0 0 0 0 0 0 0 0 0 0 0 0 0 0 0 0 0 0 0 0 0 0 0 0 0 0 0 0 0 0 0 0 0 0 0 0 0 0 0 0 0 0 0 0 0 0 0 0 0 0 0 0 0 0 0 0 0 0 0 0 0 0 0 0 0 0 0 0 0 0 0 0 0 0 0 0 0 0 0 0 0 0 0 0 0 0 0 0 0 0 0 0 0 0 0 0 0 0 0 0 0 0 0 0 0 0 0 0 0 0 0 0 0 0 0 0 0 0 0 0 0 0 0 0 0 0 0 0 0 0 0 0 0 0 0 0 0 0 0 0 0 0 0 0 0 0 0 0 0 0 0 0 0 0 0 0 0 0 0 0 0 0 0 0 0 0 0 0 0 0 0 0 0 0 0 0 0 0 0 0 0 0 0 0 0 0 0 0 0 0 0 0 0 0 0 0 0 0 0 0 0 0 0 0 0 0 0 0 0 0 0 0 0 0 0 0 0 0 0 0 0 0 0 0 0 0 0 0 0 0 0 0 0 0 0 0 0 0 0 0 0 0 0 0 0 0 0 0 0 0 0 0 0 0 0 0 0 0 0 0 0 0 0 0 0 0 0 0 0 0 0 0 0 0 0 0 0 0 0 0 0 0 0 0 0 0 0 0 0 0 0 0 0 0 0 0 0 0 0 0 0 0 0 0 0 0 0 0 0 0 0 0 0 0 0 0 0 0 0 0 0 0 0 0 0 0 0 0 0 0 0 0 0 0 0 0 0 0 0 0 0 0 0 0 0 0 0 0 0 0 0 0 0 0 0 0 0 0 0 0 0 0 0 0 0 0 0 0 0 0 0 0 0 0 0 0 0 0 0 0 0 0 0 0 0 0 0 0 0 0 0 0 0 0 0 0 0 0 0 0 0 0 0 0 0 0 0 0 0 0 0 0 0 0 0 0 0 0 0 0 0 0 0 0 0 0 0 0 0 0 0 0 0 0 0 0 0 0 0 0 0 0 0 0 0 0 0 0 0 0 0 0 0 0 0 0 0 0 0 0 0 0 0 0 0 0 0 0 0 0 0 0 0 0 0 0 0 0 0 0 0 0 0 0 0 0 0 0 0 0 0 0 0 0 0 0 0 0 0 0 0 0 0 0 0 0 0 0 0 0 0 0 0 0 0 0 0 0 0 0 0 0 0 0 0 0 0 0 0 0 0 0 0 0 0 0 0 0 0 0 0 0 0 0 0 0 0 0 0 0 0 0 0 0 0 0 0 0 0 0 0 0 0 0 0 0 0 0 0 0 0 0 0 0 0 0 0 0 0 0 0 0 0 0 0 0 0 0 0 0 0 0 0 0 0 0 0 0 0 0 0 0 0 0 0 0 0 0 0 0 0 0 0 0 0 0 0 0 0 0 0 0 0 0 0 0 0 0 0 0 0 0 0 0 0 0 0 0 0 0 0 0 0 0 0 0 0 0 0 0 0 0 0 0 0 0 0 0 0 0 0 0 0 0 0 0 0 0 0 0 0 0 0 0 0 0 0 0 0 0 0 0 0 0 0 0 0 0 0 0 0 0 0 0 0 0 0 0 0 0 0 0 0 0 0 0 0 0 0 0 0 0 0 0 0 0 0 0 0 0 0 0 0 0 0 0 0 0 0 0 0 0 0 0 0 0 0 0 0 0 0 0 0 0 0 0 0 0 0 0 0 0 0 0 0 0 0 0 0 0 0 0 0 0 0 0 0 0 0 0 0 0 0 0 0 0 0 0 0 0 0 0 0 0 0 0 0 0 0 0 0 0 0 0 0 0 0 0 0 0 0 0 0 0 0 0 0 0 0 0 0 0 0 0 0 0 0 0 0 0 0 0 0 0 0 0 0 0 0 0 0 0 0 0 0 0 0 0 0 0 0 0 0 0\n"
     ]
    }
   ],
   "source": [
    "for i in M.irange():\n",
    "    for j in M.irange():\n",
    "        for k in M.irange():\n",
    "            for l in M.irange():\n",
    "                for p in M.irange():\n",
    "                    print DR[i,j,k,l,p] + DR[i,j,l,p,k] + DR[i,j,p,k,l] ,"
   ]
  },
  {
   "cell_type": "markdown",
   "metadata": {},
   "source": [
    "<p>Let us check that if we turn the first $+$ sign into a $-$ one, the Bianchi identity does no longer hold:</p>"
   ]
  },
  {
   "cell_type": "code",
   "execution_count": 41,
   "metadata": {
    "collapsed": false
   },
   "outputs": [
    {
     "name": "stdout",
     "output_type": "stream",
     "text": [
      "0 0 0 0 0 0 0 0 0 0 0 0 0 0 0 0 0 0 0 0 0 0 0 0 0 0 0 0 0 0 0 0 0 0 0 0 0 0 0 0 0 0 0 0 0 0 0 0 0 0 0 0 0 0 0 0 0 0 0 0 0 0 0 0 0 0 0 0 0 0 0 0 0 0 0 0 0 0 0 0 0 -12*m/(2*m*r^3 - r^4) 0 0 12*m/(2*m*r^3 - r^4) 0 0 0 0 0 0 0 0 0 0 0 0 0 -6*m/r^2 0 0 0 0 0 6*m/r^2 0 0 0 0 0 0 0 0 0 0 -6*m*sin(th)^2/r^2 0 0 0 0 0 0 0 0 6*m*sin(th)^2/r^2 0 0 0 0 0 0 0 0 0 0 0 0 0 0 0 0 0 0 0 0 0 -6*m/r^2 0 0 0 0 0 6*m/r^2 0 0 0 0 0 0 0 0 -6*m/r^2 0 0 6*m/r^2 0 0 0 0 0 0 0 0 0 0 0 0 0 0 0 0 0 0 0 0 0 0 0 0 0 0 0 0 0 0 0 0 0 0 0 0 0 0 0 0 0 0 0 0 0 0 -6*m*sin(th)^2/r^2 0 0 0 0 0 0 0 0 6*m*sin(th)^2/r^2 0 0 0 0 0 0 0 0 0 0 0 0 0 0 0 0 0 0 0 0 -6*m*sin(th)^2/r^2 0 0 6*m*sin(th)^2/r^2 0 0 0 0 0 0 0 0 0 0 0 0 0 0 0 0 0 0 0 0 0 0 0 0 0 0 0 0 -12*(2*m^2 - m*r)/r^5 0 0 12*(2*m^2 - m*r)/r^5 0 0 0 0 0 0 0 0 0 0 0 0 0 -6*(4*m^3 - 4*m^2*r + m*r^2)/r^4 0 0 0 0 0 6*(4*m^3 - 4*m^2*r + m*r^2)/r^4 0 0 0 0 0 0 0 0 0 0 -6*(4*m^3 - 4*m^2*r + m*r^2)*sin(th)^2/r^4 0 0 0 0 0 0 0 0 6*(4*m^3 - 4*m^2*r + m*r^2)*sin(th)^2/r^4 0 0 0 0 0 0 0 0 0 0 0 0 0 0 0 0 0 0 0 0 0 0 0 0 0 0 0 0 0 0 0 0 0 0 0 0 0 0 0 0 0 0 0 0 0 0 0 0 0 0 0 0 0 0 0 0 0 0 0 0 0 0 0 0 0 0 0 0 0 0 0 0 0 0 0 0 0 0 0 0 0 0 0 0 0 0 0 0 0 -6*m/r^2 0 0 6*m/r^2 0 0 0 0 0 0 0 0 0 0 0 0 0 0 0 0 0 0 0 0 0 0 0 0 0 0 0 0 0 0 0 0 0 6*(2*m^2 - m*r)*sin(th)^2/r 0 0 -6*(2*m^2 - m*r)*sin(th)^2/r 0 0 0 0 0 0 0 0 0 0 0 0 0 0 0 0 0 0 0 0 0 0 0 0 -6*m*sin(th)^2/r^2 0 0 0 0 0 6*m*sin(th)^2/r^2 0 0 0 0 0 0 0 0 0 0 0 0 0 -6*(2*m^2 - m*r)*sin(th)^2/r 0 0 6*(2*m^2 - m*r)*sin(th)^2/r 0 0 0 0 0 0 0 0 0 0 0 0 0 0 0 0 0 0 0 0 0 0 0 0 0 0 0 0 0 0 0 0 0 0 0 6*(2*m^2 - m*r)/r^5 0 0 0 0 0 -6*(2*m^2 - m*r)/r^5 0 0 0 0 0 0 0 0 6*(2*m^2 - m*r)/r^5 0 0 -6*(2*m^2 - m*r)/r^5 0 0 0 0 0 0 0 0 0 0 0 0 0 0 0 0 0 0 0 0 0 0 0 0 0 0 0 0 0 0 0 0 0 0 0 0 0 0 0 0 0 0 0 0 0 0 0 0 0 -6*m/(2*m*r^3 - r^4) 0 0 6*m/(2*m*r^3 - r^4) 0 0 0 0 0 0 0 0 0 0 0 0 0 0 0 0 0 0 0 0 0 0 0 0 0 0 0 0 0 0 0 0 0 6*m*sin(th)^2/r^2 0 0 -6*m*sin(th)^2/r^2 0 0 0 0 0 0 0 0 0 0 0 0 0 0 0 0 0 0 0 0 0 0 0 0 0 0 0 0 0 0 0 0 0 0 0 0 0 0 0 0 0 0 0 0 0 0 0 0 0 0 0 0 0 0 0 0 0 0 0 0 0 0 0 0 0 0 0 0 0 0 0 0 0 0 0 0 0 0 0 0 0 0 0 0 0 0 0 0 0 0 0 0 12*m*sin(th)^2/r^2 0 0 -12*m*sin(th)^2/r^2 0 0 0 0 0 0 0 0 6*m*sin(th)^2/r^2 0 0 0 0 0 -6*m*sin(th)^2/r^2 0 0 0 0 0 0 0 0 -6*m*sin(th)^2/r^2 0 0 6*m*sin(th)^2/r^2 0 0 0 0 0 0 0 0 0 0 0 0 0 0 0 0 0 0 0 0 0 0 0 0 0 6*(2*m^2 - m*r)/r^5 0 0 0 0 0 0 0 0 -6*(2*m^2 - m*r)/r^5 0 0 0 0 0 0 0 0 0 0 0 0 0 0 0 0 0 0 0 0 6*(2*m^2 - m*r)/r^5 0 0 -6*(2*m^2 - m*r)/r^5 0 0 0 0 0 0 0 0 0 0 0 0 0 0 0 0 0 0 0 0 0 0 0 0 0 0 0 0 0 0 0 0 0 0 -6*m/(2*m*r^3 - r^4) 0 0 0 0 0 6*m/(2*m*r^3 - r^4) 0 0 0 0 0 0 0 0 0 0 0 0 0 -6*m/r^2 0 0 6*m/r^2 0 0 0 0 0 0 0 0 0 0 0 0 0 0 0 0 0 0 0 0 0 0 0 0 0 0 0 0 0 0 0 0 0 0 0 0 0 0 0 0 0 0 0 0 -12*m/r^2 0 0 12*m/r^2 0 0 0 0 0 0 0 0 -6*m/r^2 0 0 0 0 0 6*m/r^2 0 0 0 0 0 0 0 0 6*m/r^2 0 0 -6*m/r^2 0 0 0 0 0 0 0 0 0 0 0 0 0 0 0 0 0 0 0 0 0 0 0 0 0 0 0 0 0 0 0 0 0 0 0 0 0 0 0 0 0 0 0 0 0 0 0 0 0 0 0 0 0 0 0 0 0 0 0 0 0 0 0 0 0 0 0 0 0 0\n"
     ]
    }
   ],
   "source": [
    "for i in M.irange():\n",
    "    for j in M.irange():\n",
    "        for k in M.irange():\n",
    "            for l in M.irange():\n",
    "                for p in M.irange():\n",
    "                    print DR[i,j,k,l,p] - DR[i,j,l,p,k] + DR[i,j,p,k,l] ,"
   ]
  },
  {
   "cell_type": "markdown",
   "metadata": {},
   "source": [
    "<h3>Kretschmann scalar</h3>\n",
    "<p>Let us first introduce tensor $R^\\flat$, of components $R_{ijkl} = g_{ip} R^p_{\\ \\, jkl}$:</p>"
   ]
  },
  {
   "cell_type": "code",
   "execution_count": 42,
   "metadata": {
    "collapsed": false
   },
   "outputs": [
    {
     "name": "stdout",
     "output_type": "stream",
     "text": [
      "Tensor field of type (0,4) on the 4-dimensional differentiable manifold M\n"
     ]
    }
   ],
   "source": [
    "dR = R.down(g) ; print(dR)"
   ]
  },
  {
   "cell_type": "markdown",
   "metadata": {},
   "source": [
    "<p>and tensor $R^\\sharp$, of components $R^{ijkl} = g^{jp} g^{kq} g^{lr} R^i_{\\ \\, pqr}$:</p>"
   ]
  },
  {
   "cell_type": "code",
   "execution_count": 43,
   "metadata": {
    "collapsed": false
   },
   "outputs": [
    {
     "name": "stdout",
     "output_type": "stream",
     "text": [
      "Tensor field of type (4,0) on the 4-dimensional differentiable manifold M\n"
     ]
    }
   ],
   "source": [
    "uR = R.up(g) ; print(uR)"
   ]
  },
  {
   "cell_type": "markdown",
   "metadata": {},
   "source": [
    "<p>The Kretschmann scalar is $K := R^{ijkl} R_{ijkl}$:</p>"
   ]
  },
  {
   "cell_type": "code",
   "execution_count": 44,
   "metadata": {
    "collapsed": false
   },
   "outputs": [
    {
     "data": {
      "text/html": [
       "<html><script type=\"math/tex; mode=display\">\\newcommand{\\Bold}[1]{\\mathbf{#1}}\\frac{48 \\, m^{2}}{r^{6}}</script></html>"
      ],
      "text/plain": [
       "48*m^2/r^6"
      ]
     },
     "execution_count": 44,
     "metadata": {},
     "output_type": "execute_result"
    }
   ],
   "source": [
    "Kr = 0\n",
    "for i in M.irange():\n",
    "    for j in M.irange():\n",
    "        for k in M.irange():\n",
    "            for l in M.irange():\n",
    "                Kr += uR[i,j,k,l]*dR[i,j,k,l]\n",
    "Kr"
   ]
  },
  {
   "cell_type": "markdown",
   "metadata": {},
   "source": [
    "<p>Instead of the above loops, the Kretschmann scalar can also be computed by means of the contract() method, asking that the contraction takes place on all indices (positions 0, 1, 2, 3):</p>"
   ]
  },
  {
   "cell_type": "code",
   "execution_count": 45,
   "metadata": {
    "collapsed": false
   },
   "outputs": [
    {
     "data": {
      "text/html": [
       "<html><script type=\"math/tex; mode=display\">\\newcommand{\\Bold}[1]{\\mathbf{#1}}\\frac{48 \\, m^{2}}{r^{6}}</script></html>"
      ],
      "text/plain": [
       "48*m^2/r^6"
      ]
     },
     "execution_count": 45,
     "metadata": {},
     "output_type": "execute_result"
    }
   ],
   "source": [
    "Kr = uR.contract(0, 1, 2, 3, dR, 0, 1, 2, 3)\n",
    "Kr.expr()"
   ]
  },
  {
   "cell_type": "markdown",
   "metadata": {},
   "source": [
    "<p>The contraction can also be performed by means of index notations:</p>"
   ]
  },
  {
   "cell_type": "code",
   "execution_count": 46,
   "metadata": {
    "collapsed": false
   },
   "outputs": [
    {
     "data": {
      "text/html": [
       "<html><script type=\"math/tex; mode=display\">\\newcommand{\\Bold}[1]{\\mathbf{#1}}\\frac{48 \\, m^{2}}{r^{6}}</script></html>"
      ],
      "text/plain": [
       "48*m^2/r^6"
      ]
     },
     "execution_count": 46,
     "metadata": {},
     "output_type": "execute_result"
    }
   ],
   "source": [
    "Kr = uR['^{ijkl}']*dR['_{ijkl}']\n",
    "Kr.expr()"
   ]
  },
  {
   "cell_type": "markdown",
   "metadata": {},
   "source": [
    "<h2>Eddington-Finkelstein coordinates</h2>\n",
    "<p>Let us introduce new coordinates on the spacetime manifold: the ingoing Eddington-Finkelstein ones:</p>"
   ]
  },
  {
   "cell_type": "code",
   "execution_count": 47,
   "metadata": {
    "collapsed": false
   },
   "outputs": [
    {
     "name": "stdout",
     "output_type": "stream",
     "text": [
      "Chart (R_I_union_R_II, (v, r, th, ph))\n"
     ]
    },
    {
     "data": {
      "text/html": [
       "<html><script type=\"math/tex; mode=display\">\\newcommand{\\Bold}[1]{\\mathbf{#1}}\\left(\\mathcal{R}_{\\mathrm{I}}\\cup \\mathcal{R}_{\\mathrm{II}},(v, r, {\\theta}, {\\varphi})\\right)</script></html>"
      ],
      "text/plain": [
       "Chart (R_I_union_R_II, (v, r, th, ph))"
      ]
     },
     "execution_count": 47,
     "metadata": {},
     "output_type": "execute_result"
    }
   ],
   "source": [
    "X_EF.<v,r,th,ph> = regI_II.chart(r'v r:(0,+oo) th:(0,pi):\\theta ph:(0,2*pi):\\varphi')\n",
    "print(X_EF) ; X_EF"
   ]
  },
  {
   "cell_type": "markdown",
   "metadata": {},
   "source": [
    "<p>The change from Schwarzschild (Boyer-Lindquist) coordinates to the ingoing Eddington-Finkelstein ones:</p>"
   ]
  },
  {
   "cell_type": "code",
   "execution_count": 48,
   "metadata": {
    "collapsed": false
   },
   "outputs": [],
   "source": [
    "ch_BL_EF_I = X_I.transition_map(X_EF, [t+r+2*m*ln(r/(2*m)-1), r, th, ph], restrictions2=r>2*m)"
   ]
  },
  {
   "cell_type": "code",
   "execution_count": 49,
   "metadata": {
    "collapsed": false
   },
   "outputs": [
    {
     "name": "stdout",
     "output_type": "stream",
     "text": [
      "Change of coordinates from Chart (R_I, (t, r, th, ph)) to Chart (R_I, (v, r, th, ph))\n"
     ]
    },
    {
     "data": {
      "text/html": [
       "<html><script type=\"math/tex; mode=display\">\\newcommand{\\Bold}[1]{\\mathbf{#1}}\\left(\\mathcal{R}_{\\mathrm{I}},(t, r, {\\theta}, {\\varphi})\\right) \\rightarrow \\left(\\mathcal{R}_{\\mathrm{I}},(v, r, {\\theta}, {\\varphi})\\right)</script></html>"
      ],
      "text/plain": [
       "Change of coordinates from Chart (R_I, (t, r, th, ph)) to Chart (R_I, (v, r, th, ph))"
      ]
     },
     "execution_count": 49,
     "metadata": {},
     "output_type": "execute_result"
    }
   ],
   "source": [
    "print(ch_BL_EF_I) ; ch_BL_EF_I"
   ]
  },
  {
   "cell_type": "code",
   "execution_count": 50,
   "metadata": {
    "collapsed": false
   },
   "outputs": [
    {
     "data": {
      "text/html": [
       "<html><script type=\"math/tex; mode=display\">\\newcommand{\\Bold}[1]{\\mathbf{#1}}\\left\\{\\begin{array}{lcl} v & = & 2 \\, m \\log\\left(\\frac{r}{2 \\, m} - 1\\right) + r + t \\\\ r & = & r \\\\ {\\theta} & = & {\\theta} \\\\ {\\varphi} & = & {\\varphi} \\end{array}\\right.</script></html>"
      ],
      "text/plain": [
       "v = 2*m*log(1/2*r/m - 1) + r + t\n",
       "r = r\n",
       "th = th\n",
       "ph = ph"
      ]
     },
     "execution_count": 50,
     "metadata": {},
     "output_type": "execute_result"
    }
   ],
   "source": [
    "ch_BL_EF_I.display()"
   ]
  },
  {
   "cell_type": "code",
   "execution_count": 51,
   "metadata": {
    "collapsed": false
   },
   "outputs": [
    {
     "data": {
      "text/html": [
       "<html><script type=\"math/tex; mode=display\">\\newcommand{\\Bold}[1]{\\mathbf{#1}}\\left(\\mathcal{R}_{\\mathrm{I}},(v, r, {\\theta}, {\\varphi})\\right)</script></html>"
      ],
      "text/plain": [
       "Chart (R_I, (v, r, th, ph))"
      ]
     },
     "execution_count": 51,
     "metadata": {},
     "output_type": "execute_result"
    }
   ],
   "source": [
    "X_EF_I = X_EF.restrict(regI) ; X_EF_I"
   ]
  },
  {
   "cell_type": "code",
   "execution_count": 52,
   "metadata": {
    "collapsed": false
   },
   "outputs": [],
   "source": [
    "ch_BL_EF_II = X_II.transition_map(X_EF, [t+r+2*m*ln(1-r/(2*m)), r, th, ph], restrictions2=r<2*m)"
   ]
  },
  {
   "cell_type": "code",
   "execution_count": 53,
   "metadata": {
    "collapsed": false
   },
   "outputs": [
    {
     "name": "stdout",
     "output_type": "stream",
     "text": [
      "Change of coordinates from Chart (R_II, (t, r, th, ph)) to Chart (R_II, (v, r, th, ph))\n"
     ]
    },
    {
     "data": {
      "text/html": [
       "<html><script type=\"math/tex; mode=display\">\\newcommand{\\Bold}[1]{\\mathbf{#1}}\\left(\\mathcal{R}_{\\mathrm{II}},(t, r, {\\theta}, {\\varphi})\\right) \\rightarrow \\left(\\mathcal{R}_{\\mathrm{II}},(v, r, {\\theta}, {\\varphi})\\right)</script></html>"
      ],
      "text/plain": [
       "Change of coordinates from Chart (R_II, (t, r, th, ph)) to Chart (R_II, (v, r, th, ph))"
      ]
     },
     "execution_count": 53,
     "metadata": {},
     "output_type": "execute_result"
    }
   ],
   "source": [
    "print(ch_BL_EF_II) ; ch_BL_EF_II"
   ]
  },
  {
   "cell_type": "code",
   "execution_count": 54,
   "metadata": {
    "collapsed": false
   },
   "outputs": [
    {
     "data": {
      "text/html": [
       "<html><script type=\"math/tex; mode=display\">\\newcommand{\\Bold}[1]{\\mathbf{#1}}\\left\\{\\begin{array}{lcl} v & = & 2 \\, m \\log\\left(-\\frac{r}{2 \\, m} + 1\\right) + r + t \\\\ r & = & r \\\\ {\\theta} & = & {\\theta} \\\\ {\\varphi} & = & {\\varphi} \\end{array}\\right.</script></html>"
      ],
      "text/plain": [
       "v = 2*m*log(-1/2*r/m + 1) + r + t\n",
       "r = r\n",
       "th = th\n",
       "ph = ph"
      ]
     },
     "execution_count": 54,
     "metadata": {},
     "output_type": "execute_result"
    }
   ],
   "source": [
    "ch_BL_EF_II.display()"
   ]
  },
  {
   "cell_type": "code",
   "execution_count": 55,
   "metadata": {
    "collapsed": false
   },
   "outputs": [
    {
     "data": {
      "text/html": [
       "<html><script type=\"math/tex; mode=display\">\\newcommand{\\Bold}[1]{\\mathbf{#1}}\\left(\\mathcal{R}_{\\mathrm{II}},(v, r, {\\theta}, {\\varphi})\\right)</script></html>"
      ],
      "text/plain": [
       "Chart (R_II, (v, r, th, ph))"
      ]
     },
     "execution_count": 55,
     "metadata": {},
     "output_type": "execute_result"
    }
   ],
   "source": [
    "X_EF_II = X_EF.restrict(regII) ; X_EF_II"
   ]
  },
  {
   "cell_type": "markdown",
   "metadata": {},
   "source": [
    "<p>The manifold's atlas has now 6 charts:</p>"
   ]
  },
  {
   "cell_type": "code",
   "execution_count": 56,
   "metadata": {
    "collapsed": false
   },
   "outputs": [
    {
     "data": {
      "text/html": [
       "<html><script type=\"math/tex; mode=display\">\\newcommand{\\Bold}[1]{\\mathbf{#1}}\\left[\\left(\\mathcal{R}_{\\mathrm{I}}\\cup \\mathcal{R}_{\\mathrm{II}},(t, r, {\\theta}, {\\varphi})\\right), \\left(\\mathcal{R}_{\\mathrm{I}},(t, r, {\\theta}, {\\varphi})\\right), \\left(\\mathcal{R}_{\\mathrm{II}},(t, r, {\\theta}, {\\varphi})\\right), \\left(\\mathcal{R}_{\\mathrm{I}}\\cup \\mathcal{R}_{\\mathrm{II}},(v, r, {\\theta}, {\\varphi})\\right), \\left(\\mathcal{R}_{\\mathrm{I}},(v, r, {\\theta}, {\\varphi})\\right), \\left(\\mathcal{R}_{\\mathrm{II}},(v, r, {\\theta}, {\\varphi})\\right)\\right]</script></html>"
      ],
      "text/plain": [
       "[Chart (R_I_union_R_II, (t, r, th, ph)),\n",
       " Chart (R_I, (t, r, th, ph)),\n",
       " Chart (R_II, (t, r, th, ph)),\n",
       " Chart (R_I_union_R_II, (v, r, th, ph)),\n",
       " Chart (R_I, (v, r, th, ph)),\n",
       " Chart (R_II, (v, r, th, ph))]"
      ]
     },
     "execution_count": 56,
     "metadata": {},
     "output_type": "execute_result"
    }
   ],
   "source": [
    "M.atlas()"
   ]
  },
  {
   "cell_type": "markdown",
   "metadata": {},
   "source": [
    "<p>The default chart is 'BL':</p>"
   ]
  },
  {
   "cell_type": "code",
   "execution_count": 57,
   "metadata": {
    "collapsed": false
   },
   "outputs": [
    {
     "data": {
      "text/html": [
       "<html><script type=\"math/tex; mode=display\">\\newcommand{\\Bold}[1]{\\mathbf{#1}}\\left(\\mathcal{R}_{\\mathrm{I}}\\cup \\mathcal{R}_{\\mathrm{II}},(t, r, {\\theta}, {\\varphi})\\right)</script></html>"
      ],
      "text/plain": [
       "Chart (R_I_union_R_II, (t, r, th, ph))"
      ]
     },
     "execution_count": 57,
     "metadata": {},
     "output_type": "execute_result"
    }
   ],
   "source": [
    "M.default_chart()"
   ]
  },
  {
   "cell_type": "markdown",
   "metadata": {},
   "source": [
    "<p>The change from Eddington-Finkelstein coordinates to the Schwarzschild (Boyer-Lindquist) ones, computed as the inverse of ch_BL_EF:</p>"
   ]
  },
  {
   "cell_type": "code",
   "execution_count": 58,
   "metadata": {
    "collapsed": false
   },
   "outputs": [
    {
     "name": "stdout",
     "output_type": "stream",
     "text": [
      "Change of coordinates from Chart (R_I, (v, r, th, ph)) to Chart (R_I, (t, r, th, ph))\n"
     ]
    }
   ],
   "source": [
    "ch_EF_BL_I = ch_BL_EF_I.inverse() ; print(ch_EF_BL_I)"
   ]
  },
  {
   "cell_type": "code",
   "execution_count": 59,
   "metadata": {
    "collapsed": false
   },
   "outputs": [
    {
     "data": {
      "text/html": [
       "<html><script type=\"math/tex; mode=display\">\\newcommand{\\Bold}[1]{\\mathbf{#1}}\\left\\{\\begin{array}{lcl} t & = & 2 \\, m \\log\\left(2\\right) + 2 \\, m \\log\\left(m\\right) - 2 \\, m \\log\\left(-2 \\, m + r\\right) - r + v \\\\ r & = & r \\\\ {\\theta} & = & {\\theta} \\\\ {\\varphi} & = & {\\varphi} \\end{array}\\right.</script></html>"
      ],
      "text/plain": [
       "t = 2*m*log(2) + 2*m*log(m) - 2*m*log(-2*m + r) - r + v\n",
       "r = r\n",
       "th = th\n",
       "ph = ph"
      ]
     },
     "execution_count": 59,
     "metadata": {},
     "output_type": "execute_result"
    }
   ],
   "source": [
    "ch_EF_BL_I.display()"
   ]
  },
  {
   "cell_type": "code",
   "execution_count": 60,
   "metadata": {
    "collapsed": false
   },
   "outputs": [
    {
     "name": "stdout",
     "output_type": "stream",
     "text": [
      "Change of coordinates from Chart (R_II, (v, r, th, ph)) to Chart (R_II, (t, r, th, ph))\n"
     ]
    }
   ],
   "source": [
    "ch_EF_BL_II = ch_BL_EF_II.inverse() ; print(ch_EF_BL_II)"
   ]
  },
  {
   "cell_type": "code",
   "execution_count": 61,
   "metadata": {
    "collapsed": false
   },
   "outputs": [
    {
     "data": {
      "text/html": [
       "<html><script type=\"math/tex; mode=display\">\\newcommand{\\Bold}[1]{\\mathbf{#1}}\\left\\{\\begin{array}{lcl} t & = & 2 \\, m \\log\\left(2\\right) - 2 \\, m \\log\\left(2 \\, m - r\\right) + 2 \\, m \\log\\left(m\\right) - r + v \\\\ r & = & r \\\\ {\\theta} & = & {\\theta} \\\\ {\\varphi} & = & {\\varphi} \\end{array}\\right.</script></html>"
      ],
      "text/plain": [
       "t = 2*m*log(2) - 2*m*log(2*m - r) + 2*m*log(m) - r + v\n",
       "r = r\n",
       "th = th\n",
       "ph = ph"
      ]
     },
     "execution_count": 61,
     "metadata": {},
     "output_type": "execute_result"
    }
   ],
   "source": [
    "ch_EF_BL_II.display()"
   ]
  },
  {
   "cell_type": "markdown",
   "metadata": {},
   "source": [
    "<p>At this stage, 6 vector frames have been defined on the manifold: the 6 coordinate frames associated with the various charts:</p>"
   ]
  },
  {
   "cell_type": "code",
   "execution_count": 62,
   "metadata": {
    "collapsed": false
   },
   "outputs": [
    {
     "data": {
      "text/html": [
       "<html><script type=\"math/tex; mode=display\">\\newcommand{\\Bold}[1]{\\mathbf{#1}}\\left[\\left(\\mathcal{R}_{\\mathrm{I}}\\cup \\mathcal{R}_{\\mathrm{II}} ,\\left(\\frac{\\partial}{\\partial t },\\frac{\\partial}{\\partial r },\\frac{\\partial}{\\partial {\\theta} },\\frac{\\partial}{\\partial {\\phi} }\\right)\\right), \\left(\\mathcal{R}_{\\mathrm{I}} ,\\left(\\frac{\\partial}{\\partial t },\\frac{\\partial}{\\partial r },\\frac{\\partial}{\\partial {\\theta} },\\frac{\\partial}{\\partial {\\phi} }\\right)\\right), \\left(\\mathcal{R}_{\\mathrm{II}} ,\\left(\\frac{\\partial}{\\partial t },\\frac{\\partial}{\\partial r },\\frac{\\partial}{\\partial {\\theta} },\\frac{\\partial}{\\partial {\\phi} }\\right)\\right), \\left(\\mathcal{R}_{\\mathrm{I}}\\cup \\mathcal{R}_{\\mathrm{II}} ,\\left(\\frac{\\partial}{\\partial v },\\frac{\\partial}{\\partial r },\\frac{\\partial}{\\partial {\\theta} },\\frac{\\partial}{\\partial {\\varphi} }\\right)\\right), \\left(\\mathcal{R}_{\\mathrm{I}} ,\\left(\\frac{\\partial}{\\partial v },\\frac{\\partial}{\\partial r },\\frac{\\partial}{\\partial {\\theta} },\\frac{\\partial}{\\partial {\\varphi} }\\right)\\right), \\left(\\mathcal{R}_{\\mathrm{II}} ,\\left(\\frac{\\partial}{\\partial v },\\frac{\\partial}{\\partial r },\\frac{\\partial}{\\partial {\\theta} },\\frac{\\partial}{\\partial {\\varphi} }\\right)\\right)\\right]</script></html>"
      ],
      "text/plain": [
       "[Coordinate frame (R_I_union_R_II, (d/dt,d/dr,d/dth,d/dph)),\n",
       " Coordinate frame (R_I, (d/dt,d/dr,d/dth,d/dph)),\n",
       " Coordinate frame (R_II, (d/dt,d/dr,d/dth,d/dph)),\n",
       " Coordinate frame (R_I_union_R_II, (d/dv,d/dr,d/dth,d/dph)),\n",
       " Coordinate frame (R_I, (d/dv,d/dr,d/dth,d/dph)),\n",
       " Coordinate frame (R_II, (d/dv,d/dr,d/dth,d/dph))]"
      ]
     },
     "execution_count": 62,
     "metadata": {},
     "output_type": "execute_result"
    }
   ],
   "source": [
    "M.frames()"
   ]
  },
  {
   "cell_type": "markdown",
   "metadata": {},
   "source": [
    "<p>The default frame is:</p>"
   ]
  },
  {
   "cell_type": "code",
   "execution_count": 63,
   "metadata": {
    "collapsed": false
   },
   "outputs": [
    {
     "data": {
      "text/html": [
       "<html><script type=\"math/tex; mode=display\">\\newcommand{\\Bold}[1]{\\mathbf{#1}}\\left(\\mathcal{R}_{\\mathrm{I}}\\cup \\mathcal{R}_{\\mathrm{II}} ,\\left(\\frac{\\partial}{\\partial t },\\frac{\\partial}{\\partial r },\\frac{\\partial}{\\partial {\\theta} },\\frac{\\partial}{\\partial {\\phi} }\\right)\\right)</script></html>"
      ],
      "text/plain": [
       "Coordinate frame (R_I_union_R_II, (d/dt,d/dr,d/dth,d/dph))"
      ]
     },
     "execution_count": 63,
     "metadata": {},
     "output_type": "execute_result"
    }
   ],
   "source": [
    "M.default_frame()"
   ]
  },
  {
   "cell_type": "markdown",
   "metadata": {},
   "source": [
    "<p>The coframes are the duals of the defined vector frames:</p>"
   ]
  },
  {
   "cell_type": "code",
   "execution_count": 64,
   "metadata": {
    "collapsed": false
   },
   "outputs": [
    {
     "data": {
      "text/html": [
       "<html><script type=\"math/tex; mode=display\">\\newcommand{\\Bold}[1]{\\mathbf{#1}}\\left[\\left(\\mathcal{R}_{\\mathrm{I}}\\cup \\mathcal{R}_{\\mathrm{II}} ,\\left(\\mathrm{d} t,\\mathrm{d} r,\\mathrm{d} {\\theta},\\mathrm{d} {\\phi}\\right)\\right), \\left(\\mathcal{R}_{\\mathrm{I}} ,\\left(\\mathrm{d} t,\\mathrm{d} r,\\mathrm{d} {\\theta},\\mathrm{d} {\\phi}\\right)\\right), \\left(\\mathcal{R}_{\\mathrm{II}} ,\\left(\\mathrm{d} t,\\mathrm{d} r,\\mathrm{d} {\\theta},\\mathrm{d} {\\phi}\\right)\\right), \\left(\\mathcal{R}_{\\mathrm{I}}\\cup \\mathcal{R}_{\\mathrm{II}} ,\\left(\\mathrm{d} v,\\mathrm{d} r,\\mathrm{d} {\\theta},\\mathrm{d} {\\varphi}\\right)\\right), \\left(\\mathcal{R}_{\\mathrm{I}} ,\\left(\\mathrm{d} v,\\mathrm{d} r,\\mathrm{d} {\\theta},\\mathrm{d} {\\varphi}\\right)\\right), \\left(\\mathcal{R}_{\\mathrm{II}} ,\\left(\\mathrm{d} v,\\mathrm{d} r,\\mathrm{d} {\\theta},\\mathrm{d} {\\varphi}\\right)\\right)\\right]</script></html>"
      ],
      "text/plain": [
       "[Coordinate coframe (R_I_union_R_II, (dt,dr,dth,dph)),\n",
       " Coordinate coframe (R_I, (dt,dr,dth,dph)),\n",
       " Coordinate coframe (R_II, (dt,dr,dth,dph)),\n",
       " Coordinate coframe (R_I_union_R_II, (dv,dr,dth,dph)),\n",
       " Coordinate coframe (R_I, (dv,dr,dth,dph)),\n",
       " Coordinate coframe (R_II, (dv,dr,dth,dph))]"
      ]
     },
     "execution_count": 64,
     "metadata": {},
     "output_type": "execute_result"
    }
   ],
   "source": [
    "M.coframes()"
   ]
  },
  {
   "cell_type": "markdown",
   "metadata": {},
   "source": [
    "<p>If not specified, tensor components are assumed to refer to the manifold's default frame. For instance, for the metric tensor:</p>"
   ]
  },
  {
   "cell_type": "code",
   "execution_count": 65,
   "metadata": {
    "collapsed": false
   },
   "outputs": [
    {
     "data": {
      "text/html": [
       "<html><script type=\"math/tex; mode=display\">\\newcommand{\\Bold}[1]{\\mathbf{#1}}g = \\left( \\frac{2 \\, m}{r} - 1 \\right) \\mathrm{d} t\\otimes \\mathrm{d} t + \\left( -\\frac{1}{\\frac{2 \\, m}{r} - 1} \\right) \\mathrm{d} r\\otimes \\mathrm{d} r + r^{2} \\mathrm{d} {\\theta}\\otimes \\mathrm{d} {\\theta} + r^{2} \\sin\\left({\\theta}\\right)^{2} \\mathrm{d} {\\phi}\\otimes \\mathrm{d} {\\phi}</script></html>"
      ],
      "text/plain": [
       "g = (2*m/r - 1) dt*dt - 1/(2*m/r - 1) dr*dr + r^2 dth*dth + r^2*sin(th)^2 dph*dph"
      ]
     },
     "execution_count": 65,
     "metadata": {},
     "output_type": "execute_result"
    }
   ],
   "source": [
    "g.display()"
   ]
  },
  {
   "cell_type": "code",
   "execution_count": 66,
   "metadata": {
    "collapsed": false
   },
   "outputs": [
    {
     "data": {
      "text/html": [
       "<html><script type=\"math/tex; mode=display\">\\newcommand{\\Bold}[1]{\\mathbf{#1}}\\left(\\begin{array}{rrrr}\n",
       "\\frac{2 \\, m}{r} - 1 & 0 & 0 & 0 \\\\\n",
       "0 & -\\frac{1}{\\frac{2 \\, m}{r} - 1} & 0 & 0 \\\\\n",
       "0 & 0 & r^{2} & 0 \\\\\n",
       "0 & 0 & 0 & r^{2} \\sin\\left({\\theta}\\right)^{2}\n",
       "\\end{array}\\right)</script></html>"
      ],
      "text/plain": [
       "[     2*m/r - 1              0              0              0]\n",
       "[             0 -1/(2*m/r - 1)              0              0]\n",
       "[             0              0            r^2              0]\n",
       "[             0              0              0  r^2*sin(th)^2]"
      ]
     },
     "execution_count": 66,
     "metadata": {},
     "output_type": "execute_result"
    }
   ],
   "source": [
    "g[:]"
   ]
  },
  {
   "cell_type": "markdown",
   "metadata": {},
   "source": [
    "<p>The tensor components in the frame associated with Eddington-Finkelstein coordinates in Region I are obtained by providing the frame to the function <span style=\"font-family: courier new,courier;\">display()</span>:</p>"
   ]
  },
  {
   "cell_type": "code",
   "execution_count": 67,
   "metadata": {
    "collapsed": false
   },
   "outputs": [
    {
     "data": {
      "text/html": [
       "<html><script type=\"math/tex; mode=display\">\\newcommand{\\Bold}[1]{\\mathbf{#1}}g = \\left( \\frac{2 \\, m - r}{r} \\right) \\mathrm{d} v\\otimes \\mathrm{d} v +\\mathrm{d} v\\otimes \\mathrm{d} r +\\mathrm{d} r\\otimes \\mathrm{d} v + r^{2} \\mathrm{d} {\\theta}\\otimes \\mathrm{d} {\\theta} + r^{2} \\sin\\left({\\theta}\\right)^{2} \\mathrm{d} {\\varphi}\\otimes \\mathrm{d} {\\varphi}</script></html>"
      ],
      "text/plain": [
       "g = (2*m - r)/r dv*dv + dv*dr + dr*dv + r^2 dth*dth + r^2*sin(th)^2 dph*dph"
      ]
     },
     "execution_count": 67,
     "metadata": {},
     "output_type": "execute_result"
    }
   ],
   "source": [
    "g.display(X_EF_I.frame())"
   ]
  },
  {
   "cell_type": "markdown",
   "metadata": {},
   "source": [
    "<p>They are also returned by the method comp(), with the frame as argument:</p>"
   ]
  },
  {
   "cell_type": "code",
   "execution_count": 68,
   "metadata": {
    "collapsed": false
   },
   "outputs": [
    {
     "data": {
      "text/html": [
       "<html><script type=\"math/tex; mode=display\">\\newcommand{\\Bold}[1]{\\mathbf{#1}}\\left(\\begin{array}{rrrr}\n",
       "\\frac{2 \\, m - r}{r} & 1 & 0 & 0 \\\\\n",
       "1 & 0 & 0 & 0 \\\\\n",
       "0 & 0 & r^{2} & 0 \\\\\n",
       "0 & 0 & 0 & r^{2} \\sin\\left({\\theta}\\right)^{2}\n",
       "\\end{array}\\right)</script></html>"
      ],
      "text/plain": [
       "[  (2*m - r)/r             1             0             0]\n",
       "[            1             0             0             0]\n",
       "[            0             0           r^2             0]\n",
       "[            0             0             0 r^2*sin(th)^2]"
      ]
     },
     "execution_count": 68,
     "metadata": {},
     "output_type": "execute_result"
    }
   ],
   "source": [
    "g.comp(X_EF_I.frame())[:]"
   ]
  },
  {
   "cell_type": "markdown",
   "metadata": {},
   "source": [
    "<p>or, as a schortcut,</p>"
   ]
  },
  {
   "cell_type": "code",
   "execution_count": 69,
   "metadata": {
    "collapsed": false
   },
   "outputs": [
    {
     "data": {
      "text/html": [
       "<html><script type=\"math/tex; mode=display\">\\newcommand{\\Bold}[1]{\\mathbf{#1}}\\left(\\begin{array}{rrrr}\n",
       "\\frac{2 \\, m - r}{r} & 1 & 0 & 0 \\\\\n",
       "1 & 0 & 0 & 0 \\\\\n",
       "0 & 0 & r^{2} & 0 \\\\\n",
       "0 & 0 & 0 & r^{2} \\sin\\left({\\theta}\\right)^{2}\n",
       "\\end{array}\\right)</script></html>"
      ],
      "text/plain": [
       "[  (2*m - r)/r             1             0             0]\n",
       "[            1             0             0             0]\n",
       "[            0             0           r^2             0]\n",
       "[            0             0             0 r^2*sin(th)^2]"
      ]
     },
     "execution_count": 69,
     "metadata": {},
     "output_type": "execute_result"
    }
   ],
   "source": [
    "g[X_EF_I.frame(),:]"
   ]
  },
  {
   "cell_type": "markdown",
   "metadata": {},
   "source": [
    "<p>Similarly, the metric<span id=\"cell_outer_53\"> components in the frame associated with Eddington-Finkelstein coordinates in Region II are obtained by<br /></span></p>"
   ]
  },
  {
   "cell_type": "code",
   "execution_count": 70,
   "metadata": {
    "collapsed": false
   },
   "outputs": [
    {
     "data": {
      "text/html": [
       "<html><script type=\"math/tex; mode=display\">\\newcommand{\\Bold}[1]{\\mathbf{#1}}g = \\left( \\frac{2 \\, m - r}{r} \\right) \\mathrm{d} v\\otimes \\mathrm{d} v +\\mathrm{d} v\\otimes \\mathrm{d} r +\\mathrm{d} r\\otimes \\mathrm{d} v + r^{2} \\mathrm{d} {\\theta}\\otimes \\mathrm{d} {\\theta} + r^{2} \\sin\\left({\\theta}\\right)^{2} \\mathrm{d} {\\varphi}\\otimes \\mathrm{d} {\\varphi}</script></html>"
      ],
      "text/plain": [
       "g = (2*m - r)/r dv*dv + dv*dr + dr*dv + r^2 dth*dth + r^2*sin(th)^2 dph*dph"
      ]
     },
     "execution_count": 70,
     "metadata": {},
     "output_type": "execute_result"
    }
   ],
   "source": [
    "g.display(X_EF_II.frame())"
   ]
  },
  {
   "cell_type": "markdown",
   "metadata": {},
   "source": [
    "<p><span id=\"cell_outer_56\">Note that their form is identical to that in Region I.</span></p>\n",
    "\n",
    "<h3>Plot of the Boyer-Lindquist coordinates in terms of the Eddington-Finkelstein ones</h3>\n",
    "<p>Let us perform the plot in Region I:</p>"
   ]
  },
  {
   "cell_type": "code",
   "execution_count": 71,
   "metadata": {
    "collapsed": false
   },
   "outputs": [
    {
     "data": {
      "image/png": "[encoded data removed]",
      "text/plain": [
       "Graphics object consisting of 18 graphics primitives"
      ]
     },
     "execution_count": 71,
     "metadata": {},
     "output_type": "execute_result"
    }
   ],
   "source": [
    "X_I.plot(X_EF_I, ranges={t:(0,8), r:(2.1,10)}, fixed_coords={th:pi/2,ph:0}, ambient_coords=(r,v), style={t:'--', r:'-'}, parameters={m:1})"
   ]
  },
  {
   "cell_type": "markdown",
   "metadata": {},
   "source": [
    "<h2>Tetrad of the static observer</h2>\n",
    "<p>Let us introduce the orthonormal tetrad $(e_\\alpha)$ associated with the static observers in Schwarzschild spacetime, i.e. the observers whose worldlines are parallel to the timelike Killing vector in the Region I.</p>\n",
    "<p>The orthonormal tetrad is defined via a tangent-space automorphism that relates it to the Boyer-Lindquist coordinate frame in Region I:</p>"
   ]
  },
  {
   "cell_type": "code",
   "execution_count": 72,
   "metadata": {
    "collapsed": false
   },
   "outputs": [
    {
     "data": {
      "text/html": [
       "<html><script type=\"math/tex; mode=display\">\\newcommand{\\Bold}[1]{\\mathbf{#1}}\\left(\\begin{array}{rrrr}\n",
       "\\frac{1}{\\sqrt{-\\frac{2 \\, m}{r} + 1}} & 0 & 0 & 0 \\\\\n",
       "0 & \\sqrt{-\\frac{2 \\, m}{r} + 1} & 0 & 0 \\\\\n",
       "0 & 0 & \\frac{1}{r} & 0 \\\\\n",
       "0 & 0 & 0 & \\frac{1}{r \\sin\\left({\\theta}\\right)}\n",
       "\\end{array}\\right)</script></html>"
      ],
      "text/plain": [
       "[1/sqrt(-2*m/r + 1)                  0                  0                  0]\n",
       "[                 0   sqrt(-2*m/r + 1)                  0                  0]\n",
       "[                 0                  0                1/r                  0]\n",
       "[                 0                  0                  0      1/(r*sin(th))]"
      ]
     },
     "execution_count": 72,
     "metadata": {},
     "output_type": "execute_result"
    }
   ],
   "source": [
    "ch_to_stat = regI.automorphism_field()\n",
    "ch_to_stat[0,0], ch_to_stat[1,1] = 1/sqrt(1-2*m/r), sqrt(1-2*m/r)\n",
    "ch_to_stat[2,2], ch_to_stat[3,3] = 1/r, 1/(r*sin(th))\n",
    "ch_to_stat[:]"
   ]
  },
  {
   "cell_type": "code",
   "execution_count": 73,
   "metadata": {
    "collapsed": false
   },
   "outputs": [
    {
     "name": "stdout",
     "output_type": "stream",
     "text": [
      "Vector frame (R_I, (e_0,e_1,e_2,e_3))\n"
     ]
    }
   ],
   "source": [
    "e = X_I.frame().new_frame(ch_to_stat, 'e') ; print(e)"
   ]
  },
  {
   "cell_type": "markdown",
   "metadata": {},
   "source": [
    "<p>At this stage, 7 vector frames have been defined on the manifold $\\mathcal{M}$:</p>"
   ]
  },
  {
   "cell_type": "code",
   "execution_count": 74,
   "metadata": {
    "collapsed": false
   },
   "outputs": [
    {
     "data": {
      "text/html": [
       "<html><script type=\"math/tex; mode=display\">\\newcommand{\\Bold}[1]{\\mathbf{#1}}\\left[\\left(\\mathcal{R}_{\\mathrm{I}}\\cup \\mathcal{R}_{\\mathrm{II}} ,\\left(\\frac{\\partial}{\\partial t },\\frac{\\partial}{\\partial r },\\frac{\\partial}{\\partial {\\theta} },\\frac{\\partial}{\\partial {\\phi} }\\right)\\right), \\left(\\mathcal{R}_{\\mathrm{I}} ,\\left(\\frac{\\partial}{\\partial t },\\frac{\\partial}{\\partial r },\\frac{\\partial}{\\partial {\\theta} },\\frac{\\partial}{\\partial {\\phi} }\\right)\\right), \\left(\\mathcal{R}_{\\mathrm{II}} ,\\left(\\frac{\\partial}{\\partial t },\\frac{\\partial}{\\partial r },\\frac{\\partial}{\\partial {\\theta} },\\frac{\\partial}{\\partial {\\phi} }\\right)\\right), \\left(\\mathcal{R}_{\\mathrm{I}}\\cup \\mathcal{R}_{\\mathrm{II}} ,\\left(\\frac{\\partial}{\\partial v },\\frac{\\partial}{\\partial r },\\frac{\\partial}{\\partial {\\theta} },\\frac{\\partial}{\\partial {\\varphi} }\\right)\\right), \\left(\\mathcal{R}_{\\mathrm{I}} ,\\left(\\frac{\\partial}{\\partial v },\\frac{\\partial}{\\partial r },\\frac{\\partial}{\\partial {\\theta} },\\frac{\\partial}{\\partial {\\varphi} }\\right)\\right), \\left(\\mathcal{R}_{\\mathrm{II}} ,\\left(\\frac{\\partial}{\\partial v },\\frac{\\partial}{\\partial r },\\frac{\\partial}{\\partial {\\theta} },\\frac{\\partial}{\\partial {\\varphi} }\\right)\\right), \\left(\\mathcal{R}_{\\mathrm{I}}, \\left(e_0,e_1,e_2,e_3\\right)\\right)\\right]</script></html>"
      ],
      "text/plain": [
       "[Coordinate frame (R_I_union_R_II, (d/dt,d/dr,d/dth,d/dph)),\n",
       " Coordinate frame (R_I, (d/dt,d/dr,d/dth,d/dph)),\n",
       " Coordinate frame (R_II, (d/dt,d/dr,d/dth,d/dph)),\n",
       " Coordinate frame (R_I_union_R_II, (d/dv,d/dr,d/dth,d/dph)),\n",
       " Coordinate frame (R_I, (d/dv,d/dr,d/dth,d/dph)),\n",
       " Coordinate frame (R_II, (d/dv,d/dr,d/dth,d/dph)),\n",
       " Vector frame (R_I, (e_0,e_1,e_2,e_3))]"
      ]
     },
     "execution_count": 74,
     "metadata": {},
     "output_type": "execute_result"
    }
   ],
   "source": [
    "M.frames()"
   ]
  },
  {
   "cell_type": "markdown",
   "metadata": {},
   "source": [
    "<p>The first vector of the tetrad is the static observer 4-velocity:</p>"
   ]
  },
  {
   "cell_type": "code",
   "execution_count": 75,
   "metadata": {
    "collapsed": false
   },
   "outputs": [
    {
     "name": "stdout",
     "output_type": "stream",
     "text": [
      "Vector field e_0 on the Open subset R_I of the 4-dimensional differentiable manifold M\n"
     ]
    }
   ],
   "source": [
    "print(e[0])"
   ]
  },
  {
   "cell_type": "code",
   "execution_count": 76,
   "metadata": {
    "collapsed": false
   },
   "outputs": [
    {
     "data": {
      "text/html": [
       "<html><script type=\"math/tex; mode=display\">\\newcommand{\\Bold}[1]{\\mathbf{#1}}e_0 = \\left( \\frac{1}{\\sqrt{-\\frac{2 \\, m}{r} + 1}} \\right) \\frac{\\partial}{\\partial t }</script></html>"
      ],
      "text/plain": [
       "e_0 = 1/sqrt(-2*m/r + 1) d/dt"
      ]
     },
     "execution_count": 76,
     "metadata": {},
     "output_type": "execute_result"
    }
   ],
   "source": [
    "e[0].display()"
   ]
  },
  {
   "cell_type": "markdown",
   "metadata": {},
   "source": [
    "<p>As any 4-velocity, it is a unit timelike vector:</p>"
   ]
  },
  {
   "cell_type": "code",
   "execution_count": 77,
   "metadata": {
    "collapsed": false
   },
   "outputs": [
    {
     "data": {
      "text/html": [
       "<html><script type=\"math/tex; mode=display\">\\newcommand{\\Bold}[1]{\\mathbf{#1}}-1</script></html>"
      ],
      "text/plain": [
       "-1"
      ]
     },
     "execution_count": 77,
     "metadata": {},
     "output_type": "execute_result"
    }
   ],
   "source": [
    "g(e[0],e[0]).expr()"
   ]
  },
  {
   "cell_type": "markdown",
   "metadata": {},
   "source": [
    "<p>Let us check that the tetrad $(e_\\alpha)$ is orthonormal:</p>"
   ]
  },
  {
   "cell_type": "code",
   "execution_count": 78,
   "metadata": {
    "collapsed": false
   },
   "outputs": [
    {
     "name": "stdout",
     "output_type": "stream",
     "text": [
      "-1 0 0 0  \n",
      "0 1 0 0  \n",
      "0 0 1 0  \n",
      "0 0 0 1  \n"
     ]
    }
   ],
   "source": [
    "for i in M.irange():\n",
    "    for j in M.irange():\n",
    "        print g(e[i],e[j]).expr() , \n",
    "    print \" \""
   ]
  },
  {
   "cell_type": "markdown",
   "metadata": {},
   "source": [
    "<p>Another view of the above result:</p>"
   ]
  },
  {
   "cell_type": "code",
   "execution_count": 79,
   "metadata": {
    "collapsed": false
   },
   "outputs": [
    {
     "data": {
      "text/html": [
       "<html><script type=\"math/tex; mode=display\">\\newcommand{\\Bold}[1]{\\mathbf{#1}}\\left(\\begin{array}{rrrr}\n",
       "-1 & 0 & 0 & 0 \\\\\n",
       "0 & 1 & 0 & 0 \\\\\n",
       "0 & 0 & 1 & 0 \\\\\n",
       "0 & 0 & 0 & 1\n",
       "\\end{array}\\right)</script></html>"
      ],
      "text/plain": [
       "[-1  0  0  0]\n",
       "[ 0  1  0  0]\n",
       "[ 0  0  1  0]\n",
       "[ 0  0  0  1]"
      ]
     },
     "execution_count": 79,
     "metadata": {},
     "output_type": "execute_result"
    }
   ],
   "source": [
    "g[e,:]"
   ]
  },
  {
   "cell_type": "markdown",
   "metadata": {},
   "source": [
    "<p>or, equivalently,</p>"
   ]
  },
  {
   "cell_type": "code",
   "execution_count": 80,
   "metadata": {
    "collapsed": false
   },
   "outputs": [
    {
     "data": {
      "text/html": [
       "<html><script type=\"math/tex; mode=display\">\\newcommand{\\Bold}[1]{\\mathbf{#1}}g = -e^0\\otimes e^0+e^1\\otimes e^1+e^2\\otimes e^2+e^3\\otimes e^3</script></html>"
      ],
      "text/plain": [
       "g = -e^0*e^0 + e^1*e^1 + e^2*e^2 + e^3*e^3"
      ]
     },
     "execution_count": 80,
     "metadata": {},
     "output_type": "execute_result"
    }
   ],
   "source": [
    "g.display(e)"
   ]
  },
  {
   "cell_type": "markdown",
   "metadata": {},
   "source": [
    "<p>The expression of the 4-velocity $e_0$ and the vector $e_1$ in terms of the frame associated with Eddington-Finkelstein coordinates:</p>"
   ]
  },
  {
   "cell_type": "code",
   "execution_count": 81,
   "metadata": {
    "collapsed": false
   },
   "outputs": [
    {
     "data": {
      "text/html": [
       "<html><script type=\"math/tex; mode=display\">\\newcommand{\\Bold}[1]{\\mathbf{#1}}e_0 = \\left( \\frac{\\sqrt{r}}{\\sqrt{-2 \\, m + r}} \\right) \\frac{\\partial}{\\partial v }</script></html>"
      ],
      "text/plain": [
       "e_0 = sqrt(r)/sqrt(-2*m + r) d/dv"
      ]
     },
     "execution_count": 81,
     "metadata": {},
     "output_type": "execute_result"
    }
   ],
   "source": [
    "e[0].display(X_EF_I.frame())"
   ]
  },
  {
   "cell_type": "code",
   "execution_count": 82,
   "metadata": {
    "collapsed": false
   },
   "outputs": [
    {
     "data": {
      "text/html": [
       "<html><script type=\"math/tex; mode=display\">\\newcommand{\\Bold}[1]{\\mathbf{#1}}e_1 = \\left( \\frac{\\sqrt{r}}{\\sqrt{-2 \\, m + r}} \\right) \\frac{\\partial}{\\partial v } + \\left( \\frac{\\sqrt{-2 \\, m + r}}{\\sqrt{r}} \\right) \\frac{\\partial}{\\partial r }</script></html>"
      ],
      "text/plain": [
       "e_1 = sqrt(r)/sqrt(-2*m + r) d/dv + sqrt(-2*m + r)/sqrt(r) d/dr"
      ]
     },
     "execution_count": 82,
     "metadata": {},
     "output_type": "execute_result"
    }
   ],
   "source": [
    "e[1].display(X_EF_I.frame())"
   ]
  },
  {
   "cell_type": "markdown",
   "metadata": {},
   "source": [
    "<p>Contrary to vectors of a coordinate frame, the vectors of the tetrad $e$ do not commute: their structure coefficients are not identically zero:</p>"
   ]
  },
  {
   "cell_type": "code",
   "execution_count": 83,
   "metadata": {
    "collapsed": false
   },
   "outputs": [
    {
     "data": {
      "text/html": [
       "<html><script type=\"math/tex; mode=display\">\\newcommand{\\Bold}[1]{\\mathbf{#1}}\\left[\\left[\\left[0, -\\frac{m \\sqrt{-2 \\, m + r}}{{\\left(2 \\, m r - r^{2}\\right)} \\sqrt{r}}, 0, 0\\right], \\left[\\frac{m \\sqrt{-2 \\, m + r}}{{\\left(2 \\, m r - r^{2}\\right)} \\sqrt{r}}, 0, 0, 0\\right], \\left[0, 0, 0, 0\\right], \\left[0, 0, 0, 0\\right]\\right], \\left[\\left[0, 0, 0, 0\\right], \\left[0, 0, 0, 0\\right], \\left[0, 0, 0, 0\\right], \\left[0, 0, 0, 0\\right]\\right], \\left[\\left[0, 0, 0, 0\\right], \\left[0, 0, -\\frac{\\sqrt{-2 \\, m + r}}{r^{\\frac{3}{2}}}, 0\\right], \\left[0, \\frac{\\sqrt{-2 \\, m + r}}{r^{\\frac{3}{2}}}, 0, 0\\right], \\left[0, 0, 0, 0\\right]\\right], \\left[\\left[0, 0, 0, 0\\right], \\left[0, 0, 0, -\\frac{\\sqrt{-2 \\, m + r}}{r^{\\frac{3}{2}}}\\right], \\left[0, 0, 0, -\\frac{\\cos\\left({\\theta}\\right)}{r \\sin\\left({\\theta}\\right)}\\right], \\left[0, \\frac{\\sqrt{-2 \\, m + r}}{r^{\\frac{3}{2}}}, \\frac{\\cos\\left({\\theta}\\right)}{r \\sin\\left({\\theta}\\right)}, 0\\right]\\right]\\right]</script></html>"
      ],
      "text/plain": [
       "[[[0, -m*sqrt(-2*m + r)/((2*m*r - r^2)*sqrt(r)), 0, 0],\n",
       "  [m*sqrt(-2*m + r)/((2*m*r - r^2)*sqrt(r)), 0, 0, 0],\n",
       "  [0, 0, 0, 0],\n",
       "  [0, 0, 0, 0]],\n",
       " [[0, 0, 0, 0], [0, 0, 0, 0], [0, 0, 0, 0], [0, 0, 0, 0]],\n",
       " [[0, 0, 0, 0],\n",
       "  [0, 0, -sqrt(-2*m + r)/r^(3/2), 0],\n",
       "  [0, sqrt(-2*m + r)/r^(3/2), 0, 0],\n",
       "  [0, 0, 0, 0]],\n",
       " [[0, 0, 0, 0],\n",
       "  [0, 0, 0, -sqrt(-2*m + r)/r^(3/2)],\n",
       "  [0, 0, 0, -cos(th)/(r*sin(th))],\n",
       "  [0, sqrt(-2*m + r)/r^(3/2), cos(th)/(r*sin(th)), 0]]]"
      ]
     },
     "execution_count": 83,
     "metadata": {},
     "output_type": "execute_result"
    }
   ],
   "source": [
    "e.structure_coef()[:]"
   ]
  },
  {
   "cell_type": "markdown",
   "metadata": {},
   "source": [
    "<p>Equivalently, the Lie derivative of one vector along another one is not necessarily zero:</p>"
   ]
  },
  {
   "cell_type": "code",
   "execution_count": 84,
   "metadata": {
    "collapsed": false
   },
   "outputs": [
    {
     "data": {
      "text/html": [
       "<html><script type=\"math/tex; mode=display\">\\newcommand{\\Bold}[1]{\\mathbf{#1}}\\left( \\frac{m \\sqrt{-2 \\, m + r}}{{\\left(2 \\, m r - r^{2}\\right)} \\sqrt{r}} \\right) e_0</script></html>"
      ],
      "text/plain": [
       "m*sqrt(-2*m + r)/((2*m*r - r^2)*sqrt(r)) e_0"
      ]
     },
     "execution_count": 84,
     "metadata": {},
     "output_type": "execute_result"
    }
   ],
   "source": [
    "e[0].lie_der(e[1]).display(e)"
   ]
  },
  {
   "cell_type": "markdown",
   "metadata": {},
   "source": [
    "<p>The curvature 2-form $\\Omega^0_{\\ \\, 1}$ associated with the tetrad $(e_\\alpha)$:</p>"
   ]
  },
  {
   "cell_type": "code",
   "execution_count": 85,
   "metadata": {
    "collapsed": false
   },
   "outputs": [
    {
     "data": {
      "text/html": [
       "<html><script type=\"math/tex; mode=display\">\\newcommand{\\Bold}[1]{\\mathbf{#1}}\\Omega^0_{\\ \\, 1} = \\frac{2 \\, m}{r^{3}} \\mathrm{d} t\\wedge \\mathrm{d} r</script></html>"
      ],
      "text/plain": [
       "curvature (0,1) of connection nabla_g w.r.t. Vector frame (R_I, (e_0,e_1,e_2,e_3)) = 2*m/r^3 dt/\\dr"
      ]
     },
     "execution_count": 85,
     "metadata": {},
     "output_type": "execute_result"
    }
   ],
   "source": [
    "g.connection().curvature_form(0,1,e).display(X_I.frame())"
   ]
  },
  {
   "cell_type": "markdown",
   "metadata": {},
   "source": [
    "<h2>Kruskal-Szekeres coordinates</h2>\n",
    "<p>Let us now introduce the Kruskal-Szekeres coordinates $(U,V,\\theta,\\varphi)$ on the spacetime manifold, via the standard transformation expressing them in terms of the Boyer-Lindquist coordinates $(t,r,\\theta,\\varphi)$:</p>"
   ]
  },
  {
   "cell_type": "code",
   "execution_count": 86,
   "metadata": {
    "collapsed": false
   },
   "outputs": [
    {
     "data": {
      "text/html": [
       "<html><script type=\"math/tex; mode=display\">\\newcommand{\\Bold}[1]{\\mathbf{#1}}\\mathcal{R}_{\\mathrm{I}}\\cup \\mathcal{R}_{\\mathrm{II}}\\cup \\mathcal{R}_{\\mathrm{III}}\\cup \\mathcal{R}_{\\mathrm{IV}}</script></html>"
      ],
      "text/plain": [
       "Open subset R_I_union_R_II_union_R_III_union_R_IV of the 4-dimensional differentiable manifold M"
      ]
     },
     "execution_count": 86,
     "metadata": {},
     "output_type": "execute_result"
    }
   ],
   "source": [
    "M0 = regI.union(regII).union(regIII).union(regIV) ; M0"
   ]
  },
  {
   "cell_type": "code",
   "execution_count": 87,
   "metadata": {
    "collapsed": false
   },
   "outputs": [
    {
     "data": {
      "text/html": [
       "<html><script type=\"math/tex; mode=display\">\\newcommand{\\Bold}[1]{\\mathbf{#1}}\\left(\\mathcal{R}_{\\mathrm{I}}\\cup \\mathcal{R}_{\\mathrm{II}}\\cup \\mathcal{R}_{\\mathrm{III}}\\cup \\mathcal{R}_{\\mathrm{IV}},(U, V, {\\theta}, {\\varphi})\\right)</script></html>"
      ],
      "text/plain": [
       "Chart (R_I_union_R_II_union_R_III_union_R_IV, (U, V, th, ph))"
      ]
     },
     "execution_count": 87,
     "metadata": {},
     "output_type": "execute_result"
    }
   ],
   "source": [
    "X_KS.<U,V,th,ph> = M0.chart(r'U V th:(0,pi):\\theta ph:(0,2*pi):\\varphi')\n",
    "X_KS.add_restrictions(V^2 < 1 + U^2)\n",
    "X_KS"
   ]
  },
  {
   "cell_type": "code",
   "execution_count": 88,
   "metadata": {
    "collapsed": false
   },
   "outputs": [
    {
     "data": {
      "text/html": [
       "<html><script type=\"math/tex; mode=display\">\\newcommand{\\Bold}[1]{\\mathbf{#1}}\\left(\\mathcal{R}_{\\mathrm{I}},(U, V, {\\theta}, {\\varphi})\\right)</script></html>"
      ],
      "text/plain": [
       "Chart (R_I, (U, V, th, ph))"
      ]
     },
     "execution_count": 88,
     "metadata": {},
     "output_type": "execute_result"
    }
   ],
   "source": [
    "X_KS_I = X_KS.restrict(regI, [U>0, V<U, V>-U]) ; X_KS_I"
   ]
  },
  {
   "cell_type": "code",
   "execution_count": 89,
   "metadata": {
    "collapsed": false
   },
   "outputs": [
    {
     "name": "stdout",
     "output_type": "stream",
     "text": [
      "Change of coordinates from Chart (R_I, (t, r, th, ph)) to Chart (R_I, (U, V, th, ph))\n"
     ]
    },
    {
     "data": {
      "text/html": [
       "<html><script type=\"math/tex; mode=display\">\\newcommand{\\Bold}[1]{\\mathbf{#1}}\\left\\{\\begin{array}{lcl} U & = & \\sqrt{\\frac{r}{2 \\, m} - 1} \\cosh\\left(\\frac{t}{4 \\, m}\\right) e^{\\left(\\frac{r}{4 \\, m}\\right)} \\\\ V & = & \\sqrt{\\frac{r}{2 \\, m} - 1} e^{\\left(\\frac{r}{4 \\, m}\\right)} \\sinh\\left(\\frac{t}{4 \\, m}\\right) \\\\ {\\theta} & = & {\\theta} \\\\ {\\varphi} & = & {\\varphi} \\end{array}\\right.</script></html>"
      ],
      "text/plain": [
       "U = sqrt(1/2*r/m - 1)*cosh(1/4*t/m)*e^(1/4*r/m)\n",
       "V = sqrt(1/2*r/m - 1)*e^(1/4*r/m)*sinh(1/4*t/m)\n",
       "th = th\n",
       "ph = ph"
      ]
     },
     "execution_count": 89,
     "metadata": {},
     "output_type": "execute_result"
    }
   ],
   "source": [
    "ch_BL_KS_I = X_I.transition_map(X_KS_I, [sqrt(r/(2*m)-1)*exp(r/(4*m))*cosh(t/(4*m)), \n",
    "                                         sqrt(r/(2*m)-1)*exp(r/(4*m))*sinh(t/(4*m)), th, ph])\n",
    "print(ch_BL_KS_I)\n",
    "ch_BL_KS_I.display()"
   ]
  },
  {
   "cell_type": "code",
   "execution_count": 90,
   "metadata": {
    "collapsed": false
   },
   "outputs": [
    {
     "data": {
      "text/html": [
       "<html><script type=\"math/tex; mode=display\">\\newcommand{\\Bold}[1]{\\mathbf{#1}}\\left(\\mathcal{R}_{\\mathrm{II}},(U, V, {\\theta}, {\\varphi})\\right)</script></html>"
      ],
      "text/plain": [
       "Chart (R_II, (U, V, th, ph))"
      ]
     },
     "execution_count": 90,
     "metadata": {},
     "output_type": "execute_result"
    }
   ],
   "source": [
    "X_KS_II = X_KS.restrict(regII, [V>0, V>U, V>-U]) ; X_KS_II"
   ]
  },
  {
   "cell_type": "code",
   "execution_count": 91,
   "metadata": {
    "collapsed": false
   },
   "outputs": [
    {
     "name": "stdout",
     "output_type": "stream",
     "text": [
      "Change of coordinates from Chart (R_II, (t, r, th, ph)) to Chart (R_II, (U, V, th, ph))\n"
     ]
    },
    {
     "data": {
      "text/html": [
       "<html><script type=\"math/tex; mode=display\">\\newcommand{\\Bold}[1]{\\mathbf{#1}}\\left\\{\\begin{array}{lcl} U & = & \\sqrt{-\\frac{r}{2 \\, m} + 1} e^{\\left(\\frac{r}{4 \\, m}\\right)} \\sinh\\left(\\frac{t}{4 \\, m}\\right) \\\\ V & = & \\sqrt{-\\frac{r}{2 \\, m} + 1} \\cosh\\left(\\frac{t}{4 \\, m}\\right) e^{\\left(\\frac{r}{4 \\, m}\\right)} \\\\ {\\theta} & = & {\\theta} \\\\ {\\varphi} & = & {\\varphi} \\end{array}\\right.</script></html>"
      ],
      "text/plain": [
       "U = sqrt(-1/2*r/m + 1)*e^(1/4*r/m)*sinh(1/4*t/m)\n",
       "V = sqrt(-1/2*r/m + 1)*cosh(1/4*t/m)*e^(1/4*r/m)\n",
       "th = th\n",
       "ph = ph"
      ]
     },
     "execution_count": 91,
     "metadata": {},
     "output_type": "execute_result"
    }
   ],
   "source": [
    "ch_BL_KS_II = X_II.transition_map(X_KS_II, [sqrt(1-r/(2*m))*exp(r/(4*m))*sinh(t/(4*m)), \n",
    "                                            sqrt(1-r/(2*m))*exp(r/(4*m))*cosh(t/(4*m)), th, ph])\n",
    "print(ch_BL_KS_II)\n",
    "ch_BL_KS_II.display()"
   ]
  },
  {
   "cell_type": "markdown",
   "metadata": {},
   "source": [
    "<h3>Plot of the Boyer-Lindquist coordinates in terms of the Kruskal ones</h3>\n",
    "<p>We draw the Boyer-Lindquist chart in Region I (red) and Region II (green), with lines of constant $r$ being dashed:</p>"
   ]
  },
  {
   "cell_type": "code",
   "execution_count": 92,
   "metadata": {
    "collapsed": false
   },
   "outputs": [
    {
     "data": {
      "image/png": "[encoded data removed]",
      "text/plain": [
       "Graphics object consisting of 52 graphics primitives"
      ]
     },
     "metadata": {},
     "output_type": "display_data"
    }
   ],
   "source": [
    "graphI = X_I.plot(X_KS, ranges={t:(-12,12), r:(2.001,5)}, nb_values={t:17, r:9}, \n",
    "                  fixed_coords={th:pi/2,ph:0}, ambient_coords=(U,V), \n",
    "                  style={t:'--', r:'-'}, parameters={m:1})\n",
    "graphII = X_II.plot(X_KS, ranges={t:(-12,12), r:(0.001,1.999)}, nb_values={t:17, r:9}, \n",
    "                    fixed_coords={th:pi/2,ph:0}, ambient_coords=(U,V), \n",
    "                    style={t:'--', r:'-'}, color='green', parameters={m:1})\n",
    "show(graphI+graphII, xmin=-3, xmax=3, ymin=-3, ymax=3, axes_labels=['$U$', '$V$'])"
   ]
  },
  {
   "cell_type": "markdown",
   "metadata": {},
   "source": [
    "<p>We may add to the graph the singularity $r=0$ as a Boyer-Lindquist chart plot with $(r,\\theta,\\phi)$ fixed at $(0, \\pi/2, 0)$.  Similarly, we add the event horizon $r=2m$ as a Boyer-Lindquist chart plot with $(r,\\theta,\\phi)$ fixed at $(2.00001m, \\pi/2, 0)$:</p>"
   ]
  },
  {
   "cell_type": "code",
   "execution_count": 93,
   "metadata": {
    "collapsed": false
   },
   "outputs": [
    {
     "data": {
      "image/png": "[encoded data removed]",
      "text/plain": [
       "Graphics object consisting of 54 graphics primitives"
      ]
     },
     "metadata": {},
     "output_type": "display_data"
    }
   ],
   "source": [
    "graph_r0 = X_II.plot(X_KS, fixed_coords={r:0, th:pi/2, ph:0}, ambient_coords=(U,V),\n",
    "                     color='yellow', thickness=3, parameters={m:1})\n",
    "graph_r2 = X_I.plot(X_KS, ranges={t:(-40,40)}, fixed_coords={r:2.00001, th:pi/2, ph:0},\n",
    "                    ambient_coords=(U,V), color='black', thickness=2, parameters={m:1})\n",
    "show(graphI+graphII+graph_r0+graph_r2, xmin=-3, xmax=3, ymin=-3, ymax=3, \n",
    "     axes_labels=['$U$', '$V$'])"
   ]
  },
  {
   "cell_type": "markdown",
   "metadata": {},
   "source": [
    "<h3>Plot of the Eddington-Finkelstein coordinates in terms of the Kruskal ones</h3>\n",
    "<p>We first get the change of coordinates $(v,r,\\theta,\\phi) \\mapsto (U,V,\\theta,\\phi)$ by composing the change $(v,r,\\theta,\\phi) \\mapsto (t,r,\\theta,\\phi)$ with $(t,r,\\theta,\\phi) \\mapsto (U,V,\\theta,\\phi)$: </p>"
   ]
  },
  {
   "cell_type": "code",
   "execution_count": 94,
   "metadata": {
    "collapsed": false
   },
   "outputs": [
    {
     "data": {
      "text/html": [
       "<html><script type=\"math/tex; mode=display\">\\newcommand{\\Bold}[1]{\\mathbf{#1}}\\left(\\mathcal{R}_{\\mathrm{I}},(v, r, {\\theta}, {\\varphi})\\right) \\rightarrow \\left(\\mathcal{R}_{\\mathrm{I}},(U, V, {\\theta}, {\\varphi})\\right)</script></html>"
      ],
      "text/plain": [
       "Change of coordinates from Chart (R_I, (v, r, th, ph)) to Chart (R_I, (U, V, th, ph))"
      ]
     },
     "execution_count": 94,
     "metadata": {},
     "output_type": "execute_result"
    }
   ],
   "source": [
    "ch_EF_KS_I = ch_BL_KS_I * ch_EF_BL_I\n",
    "ch_EF_KS_I"
   ]
  },
  {
   "cell_type": "code",
   "execution_count": 95,
   "metadata": {
    "collapsed": false
   },
   "outputs": [
    {
     "data": {
      "text/html": [
       "<html><script type=\"math/tex; mode=display\">\\newcommand{\\Bold}[1]{\\mathbf{#1}}\\left\\{\\begin{array}{lcl} U & = & \\frac{\\sqrt{2} \\sqrt{-2 \\, m + r} \\cosh\\left(\\frac{2 \\, m \\log\\left(2\\right) + 2 \\, m \\log\\left(m\\right) - 2 \\, m \\log\\left(-2 \\, m + r\\right) - r + v}{4 \\, m}\\right) e^{\\left(\\frac{r}{4 \\, m}\\right)}}{2 \\, \\sqrt{m}} \\\\ V & = & \\frac{\\sqrt{2} \\sqrt{-2 \\, m + r} e^{\\left(\\frac{r}{4 \\, m}\\right)} \\sinh\\left(\\frac{2 \\, m \\log\\left(2\\right) + 2 \\, m \\log\\left(m\\right) - 2 \\, m \\log\\left(-2 \\, m + r\\right) - r + v}{4 \\, m}\\right)}{2 \\, \\sqrt{m}} \\\\ {\\theta} & = & {\\theta} \\\\ {\\varphi} & = & {\\varphi} \\end{array}\\right.</script></html>"
      ],
      "text/plain": [
       "U = 1/2*sqrt(2)*sqrt(-2*m + r)*cosh(1/4*(2*m*log(2) + 2*m*log(m) - 2*m*log(-2*m + r) - r + v)/m)*e^(1/4*r/m)/sqrt(m)\n",
       "V = 1/2*sqrt(2)*sqrt(-2*m + r)*e^(1/4*r/m)*sinh(1/4*(2*m*log(2) + 2*m*log(m) - 2*m*log(-2*m + r) - r + v)/m)/sqrt(m)\n",
       "th = th\n",
       "ph = ph"
      ]
     },
     "execution_count": 95,
     "metadata": {},
     "output_type": "execute_result"
    }
   ],
   "source": [
    "ch_EF_KS_I.display()"
   ]
  },
  {
   "cell_type": "code",
   "execution_count": 96,
   "metadata": {
    "collapsed": false
   },
   "outputs": [
    {
     "data": {
      "text/html": [
       "<html><script type=\"math/tex; mode=display\">\\newcommand{\\Bold}[1]{\\mathbf{#1}}\\left(\\mathcal{R}_{\\mathrm{II}},(v, r, {\\theta}, {\\varphi})\\right) \\rightarrow \\left(\\mathcal{R}_{\\mathrm{II}},(U, V, {\\theta}, {\\varphi})\\right)</script></html>"
      ],
      "text/plain": [
       "Change of coordinates from Chart (R_II, (v, r, th, ph)) to Chart (R_II, (U, V, th, ph))"
      ]
     },
     "execution_count": 96,
     "metadata": {},
     "output_type": "execute_result"
    }
   ],
   "source": [
    "ch_EF_KS_II = ch_BL_KS_II * ch_EF_BL_II\n",
    "ch_EF_KS_II"
   ]
  },
  {
   "cell_type": "code",
   "execution_count": 97,
   "metadata": {
    "collapsed": false
   },
   "outputs": [
    {
     "data": {
      "image/png": "[encoded data removed]",
      "text/plain": [
       "Graphics object consisting of 54 graphics primitives"
      ]
     },
     "metadata": {},
     "output_type": "display_data"
    }
   ],
   "source": [
    "graphI_EF = X_EF_I.plot(X_KS, ranges={v:(-12,12), r:(2.001,5)}, nb_values={v:17, r:9},\n",
    "                        fixed_coords={th:pi/2,ph:0}, ambient_coords=(U,V),\n",
    "                        style={v:'--', r:'-'}, parameters={m:1})\n",
    "graphII_EF = X_EF_II.plot(X_KS, ranges={v:(-12,12), r:(0.001,1.999)}, nb_values={v:17, r:9},\n",
    "                          fixed_coords={th:pi/2,ph:0}, ambient_coords=(U,V),\n",
    "                          style={v:'--', r:'-'}, color='green', parameters={m:1})\n",
    "show(graphI_EF+graphII_EF+graph_r0+graph_r2, xmin=-3, xmax=3, ymin=-3, ymax=3,\n",
    "     axes_labels=['$U$', '$V$'])"
   ]
  },
  {
   "cell_type": "markdown",
   "metadata": {},
   "source": [
    "<p>There are now 9 charts defined on the spacetime manifold:</p>"
   ]
  },
  {
   "cell_type": "code",
   "execution_count": 98,
   "metadata": {
    "collapsed": false
   },
   "outputs": [
    {
     "data": {
      "text/html": [
       "<html><script type=\"math/tex; mode=display\">\\newcommand{\\Bold}[1]{\\mathbf{#1}}\\left[\\left(\\mathcal{R}_{\\mathrm{I}}\\cup \\mathcal{R}_{\\mathrm{II}},(t, r, {\\theta}, {\\varphi})\\right), \\left(\\mathcal{R}_{\\mathrm{I}},(t, r, {\\theta}, {\\varphi})\\right), \\left(\\mathcal{R}_{\\mathrm{II}},(t, r, {\\theta}, {\\varphi})\\right), \\left(\\mathcal{R}_{\\mathrm{I}}\\cup \\mathcal{R}_{\\mathrm{II}},(v, r, {\\theta}, {\\varphi})\\right), \\left(\\mathcal{R}_{\\mathrm{I}},(v, r, {\\theta}, {\\varphi})\\right), \\left(\\mathcal{R}_{\\mathrm{II}},(v, r, {\\theta}, {\\varphi})\\right), \\left(\\mathcal{R}_{\\mathrm{I}}\\cup \\mathcal{R}_{\\mathrm{II}}\\cup \\mathcal{R}_{\\mathrm{III}}\\cup \\mathcal{R}_{\\mathrm{IV}},(U, V, {\\theta}, {\\varphi})\\right), \\left(\\mathcal{R}_{\\mathrm{I}},(U, V, {\\theta}, {\\varphi})\\right), \\left(\\mathcal{R}_{\\mathrm{II}},(U, V, {\\theta}, {\\varphi})\\right)\\right]</script></html>"
      ],
      "text/plain": [
       "[Chart (R_I_union_R_II, (t, r, th, ph)),\n",
       " Chart (R_I, (t, r, th, ph)),\n",
       " Chart (R_II, (t, r, th, ph)),\n",
       " Chart (R_I_union_R_II, (v, r, th, ph)),\n",
       " Chart (R_I, (v, r, th, ph)),\n",
       " Chart (R_II, (v, r, th, ph)),\n",
       " Chart (R_I_union_R_II_union_R_III_union_R_IV, (U, V, th, ph)),\n",
       " Chart (R_I, (U, V, th, ph)),\n",
       " Chart (R_II, (U, V, th, ph))]"
      ]
     },
     "execution_count": 98,
     "metadata": {},
     "output_type": "execute_result"
    }
   ],
   "source": [
    "M.atlas()"
   ]
  },
  {
   "cell_type": "code",
   "execution_count": 99,
   "metadata": {
    "collapsed": false
   },
   "outputs": [
    {
     "data": {
      "text/html": [
       "<html><script type=\"math/tex; mode=display\">\\newcommand{\\Bold}[1]{\\mathbf{#1}}9</script></html>"
      ],
      "text/plain": [
       "9"
      ]
     },
     "execution_count": 99,
     "metadata": {},
     "output_type": "execute_result"
    }
   ],
   "source": [
    "len(M.atlas())"
   ]
  },
  {
   "cell_type": "markdown",
   "metadata": {},
   "source": [
    "<p>There are 8 explicit coordinate changes (the coordinate change KS $\\rightarrow$ BL is not known in explicit form):</p>"
   ]
  },
  {
   "cell_type": "code",
   "execution_count": 100,
   "metadata": {
    "collapsed": false
   },
   "outputs": [
    {
     "data": {
      "text/html": [
       "<html><script type=\"math/tex; mode=display\">\\newcommand{\\Bold}[1]{\\mathbf{#1}}\\left\\{\\left(\\left(\\mathcal{R}_{\\mathrm{I}},(t, r, {\\theta}, {\\varphi})\\right), \\left(\\mathcal{R}_{\\mathrm{I}},(v, r, {\\theta}, {\\varphi})\\right)\\right) : \\left(\\mathcal{R}_{\\mathrm{I}},(t, r, {\\theta}, {\\varphi})\\right) \\rightarrow \\left(\\mathcal{R}_{\\mathrm{I}},(v, r, {\\theta}, {\\varphi})\\right), \\left(\\left(\\mathcal{R}_{\\mathrm{I}},(t, r, {\\theta}, {\\varphi})\\right), \\left(\\mathcal{R}_{\\mathrm{I}},(U, V, {\\theta}, {\\varphi})\\right)\\right) : \\left(\\mathcal{R}_{\\mathrm{I}},(t, r, {\\theta}, {\\varphi})\\right) \\rightarrow \\left(\\mathcal{R}_{\\mathrm{I}},(U, V, {\\theta}, {\\varphi})\\right), \\left(\\left(\\mathcal{R}_{\\mathrm{I}},(v, r, {\\theta}, {\\varphi})\\right), \\left(\\mathcal{R}_{\\mathrm{I}},(U, V, {\\theta}, {\\varphi})\\right)\\right) : \\left(\\mathcal{R}_{\\mathrm{I}},(v, r, {\\theta}, {\\varphi})\\right) \\rightarrow \\left(\\mathcal{R}_{\\mathrm{I}},(U, V, {\\theta}, {\\varphi})\\right), \\left(\\left(\\mathcal{R}_{\\mathrm{II}},(t, r, {\\theta}, {\\varphi})\\right), \\left(\\mathcal{R}_{\\mathrm{II}},(v, r, {\\theta}, {\\varphi})\\right)\\right) : \\left(\\mathcal{R}_{\\mathrm{II}},(t, r, {\\theta}, {\\varphi})\\right) \\rightarrow \\left(\\mathcal{R}_{\\mathrm{II}},(v, r, {\\theta}, {\\varphi})\\right), \\left(\\left(\\mathcal{R}_{\\mathrm{II}},(t, r, {\\theta}, {\\varphi})\\right), \\left(\\mathcal{R}_{\\mathrm{II}},(U, V, {\\theta}, {\\varphi})\\right)\\right) : \\left(\\mathcal{R}_{\\mathrm{II}},(t, r, {\\theta}, {\\varphi})\\right) \\rightarrow \\left(\\mathcal{R}_{\\mathrm{II}},(U, V, {\\theta}, {\\varphi})\\right), \\left(\\left(\\mathcal{R}_{\\mathrm{I}},(v, r, {\\theta}, {\\varphi})\\right), \\left(\\mathcal{R}_{\\mathrm{I}},(t, r, {\\theta}, {\\varphi})\\right)\\right) : \\left(\\mathcal{R}_{\\mathrm{I}},(v, r, {\\theta}, {\\varphi})\\right) \\rightarrow \\left(\\mathcal{R}_{\\mathrm{I}},(t, r, {\\theta}, {\\varphi})\\right), \\left(\\left(\\mathcal{R}_{\\mathrm{II}},(v, r, {\\theta}, {\\varphi})\\right), \\left(\\mathcal{R}_{\\mathrm{II}},(U, V, {\\theta}, {\\varphi})\\right)\\right) : \\left(\\mathcal{R}_{\\mathrm{II}},(v, r, {\\theta}, {\\varphi})\\right) \\rightarrow \\left(\\mathcal{R}_{\\mathrm{II}},(U, V, {\\theta}, {\\varphi})\\right), \\left(\\left(\\mathcal{R}_{\\mathrm{II}},(v, r, {\\theta}, {\\varphi})\\right), \\left(\\mathcal{R}_{\\mathrm{II}},(t, r, {\\theta}, {\\varphi})\\right)\\right) : \\left(\\mathcal{R}_{\\mathrm{II}},(v, r, {\\theta}, {\\varphi})\\right) \\rightarrow \\left(\\mathcal{R}_{\\mathrm{II}},(t, r, {\\theta}, {\\varphi})\\right)\\right\\}</script></html>"
      ],
      "text/plain": [
       "{(Chart (R_II, (v, r, th, ph)),\n",
       "  Chart (R_II, (U, V, th, ph))): Change of coordinates from Chart (R_II, (v, r, th, ph)) to Chart (R_II, (U, V, th, ph)),\n",
       " (Chart (R_II, (v, r, th, ph)),\n",
       "  Chart (R_II, (t, r, th, ph))): Change of coordinates from Chart (R_II, (v, r, th, ph)) to Chart (R_II, (t, r, th, ph)),\n",
       " (Chart (R_I, (v, r, th, ph)),\n",
       "  Chart (R_I, (U, V, th, ph))): Change of coordinates from Chart (R_I, (v, r, th, ph)) to Chart (R_I, (U, V, th, ph)),\n",
       " (Chart (R_I, (v, r, th, ph)),\n",
       "  Chart (R_I, (t, r, th, ph))): Change of coordinates from Chart (R_I, (v, r, th, ph)) to Chart (R_I, (t, r, th, ph)),\n",
       " (Chart (R_II, (t, r, th, ph)),\n",
       "  Chart (R_II, (U, V, th, ph))): Change of coordinates from Chart (R_II, (t, r, th, ph)) to Chart (R_II, (U, V, th, ph)),\n",
       " (Chart (R_II, (t, r, th, ph)),\n",
       "  Chart (R_II, (v, r, th, ph))): Change of coordinates from Chart (R_II, (t, r, th, ph)) to Chart (R_II, (v, r, th, ph)),\n",
       " (Chart (R_I, (t, r, th, ph)),\n",
       "  Chart (R_I, (U, V, th, ph))): Change of coordinates from Chart (R_I, (t, r, th, ph)) to Chart (R_I, (U, V, th, ph)),\n",
       " (Chart (R_I, (t, r, th, ph)),\n",
       "  Chart (R_I, (v, r, th, ph))): Change of coordinates from Chart (R_I, (t, r, th, ph)) to Chart (R_I, (v, r, th, ph))}"
      ]
     },
     "execution_count": 100,
     "metadata": {},
     "output_type": "execute_result"
    }
   ],
   "source": [
    "M.coord_changes()"
   ]
  },
  {
   "cell_type": "code",
   "execution_count": 101,
   "metadata": {
    "collapsed": false
   },
   "outputs": [
    {
     "data": {
      "text/html": [
       "<html><script type=\"math/tex; mode=display\">\\newcommand{\\Bold}[1]{\\mathbf{#1}}8</script></html>"
      ],
      "text/plain": [
       "8"
      ]
     },
     "execution_count": 101,
     "metadata": {},
     "output_type": "execute_result"
    }
   ],
   "source": [
    "len(M.coord_changes())"
   ]
  },
  {
   "cell_type": "markdown",
   "metadata": {},
   "source": [
    "<p>There are 10 vector frames (among which 9 coordinate frames):</p>"
   ]
  },
  {
   "cell_type": "code",
   "execution_count": 102,
   "metadata": {
    "collapsed": false
   },
   "outputs": [
    {
     "data": {
      "text/html": [
       "<html><script type=\"math/tex; mode=display\">\\newcommand{\\Bold}[1]{\\mathbf{#1}}\\left[\\left(\\mathcal{R}_{\\mathrm{I}}\\cup \\mathcal{R}_{\\mathrm{II}} ,\\left(\\frac{\\partial}{\\partial t },\\frac{\\partial}{\\partial r },\\frac{\\partial}{\\partial {\\theta} },\\frac{\\partial}{\\partial {\\phi} }\\right)\\right), \\left(\\mathcal{R}_{\\mathrm{I}} ,\\left(\\frac{\\partial}{\\partial t },\\frac{\\partial}{\\partial r },\\frac{\\partial}{\\partial {\\theta} },\\frac{\\partial}{\\partial {\\phi} }\\right)\\right), \\left(\\mathcal{R}_{\\mathrm{II}} ,\\left(\\frac{\\partial}{\\partial t },\\frac{\\partial}{\\partial r },\\frac{\\partial}{\\partial {\\theta} },\\frac{\\partial}{\\partial {\\phi} }\\right)\\right), \\left(\\mathcal{R}_{\\mathrm{I}}\\cup \\mathcal{R}_{\\mathrm{II}} ,\\left(\\frac{\\partial}{\\partial v },\\frac{\\partial}{\\partial r },\\frac{\\partial}{\\partial {\\theta} },\\frac{\\partial}{\\partial {\\varphi} }\\right)\\right), \\left(\\mathcal{R}_{\\mathrm{I}} ,\\left(\\frac{\\partial}{\\partial v },\\frac{\\partial}{\\partial r },\\frac{\\partial}{\\partial {\\theta} },\\frac{\\partial}{\\partial {\\varphi} }\\right)\\right), \\left(\\mathcal{R}_{\\mathrm{II}} ,\\left(\\frac{\\partial}{\\partial v },\\frac{\\partial}{\\partial r },\\frac{\\partial}{\\partial {\\theta} },\\frac{\\partial}{\\partial {\\varphi} }\\right)\\right), \\left(\\mathcal{R}_{\\mathrm{I}}, \\left(e_0,e_1,e_2,e_3\\right)\\right), \\left(\\mathcal{R}_{\\mathrm{I}}\\cup \\mathcal{R}_{\\mathrm{II}}\\cup \\mathcal{R}_{\\mathrm{III}}\\cup \\mathcal{R}_{\\mathrm{IV}} ,\\left(\\frac{\\partial}{\\partial U },\\frac{\\partial}{\\partial V },\\frac{\\partial}{\\partial {\\theta} },\\frac{\\partial}{\\partial {\\varphi} }\\right)\\right), \\left(\\mathcal{R}_{\\mathrm{I}} ,\\left(\\frac{\\partial}{\\partial U },\\frac{\\partial}{\\partial V },\\frac{\\partial}{\\partial {\\theta} },\\frac{\\partial}{\\partial {\\varphi} }\\right)\\right), \\left(\\mathcal{R}_{\\mathrm{II}} ,\\left(\\frac{\\partial}{\\partial U },\\frac{\\partial}{\\partial V },\\frac{\\partial}{\\partial {\\theta} },\\frac{\\partial}{\\partial {\\varphi} }\\right)\\right)\\right]</script></html>"
      ],
      "text/plain": [
       "[Coordinate frame (R_I_union_R_II, (d/dt,d/dr,d/dth,d/dph)),\n",
       " Coordinate frame (R_I, (d/dt,d/dr,d/dth,d/dph)),\n",
       " Coordinate frame (R_II, (d/dt,d/dr,d/dth,d/dph)),\n",
       " Coordinate frame (R_I_union_R_II, (d/dv,d/dr,d/dth,d/dph)),\n",
       " Coordinate frame (R_I, (d/dv,d/dr,d/dth,d/dph)),\n",
       " Coordinate frame (R_II, (d/dv,d/dr,d/dth,d/dph)),\n",
       " Vector frame (R_I, (e_0,e_1,e_2,e_3)),\n",
       " Coordinate frame (R_I_union_R_II_union_R_III_union_R_IV, (d/dU,d/dV,d/dth,d/dph)),\n",
       " Coordinate frame (R_I, (d/dU,d/dV,d/dth,d/dph)),\n",
       " Coordinate frame (R_II, (d/dU,d/dV,d/dth,d/dph))]"
      ]
     },
     "execution_count": 102,
     "metadata": {},
     "output_type": "execute_result"
    }
   ],
   "source": [
    "M.frames()"
   ]
  },
  {
   "cell_type": "code",
   "execution_count": 103,
   "metadata": {
    "collapsed": false
   },
   "outputs": [
    {
     "data": {
      "text/html": [
       "<html><script type=\"math/tex; mode=display\">\\newcommand{\\Bold}[1]{\\mathbf{#1}}10</script></html>"
      ],
      "text/plain": [
       "10"
      ]
     },
     "execution_count": 103,
     "metadata": {},
     "output_type": "execute_result"
    }
   ],
   "source": [
    "len(M.frames())"
   ]
  },
  {
   "cell_type": "markdown",
   "metadata": {},
   "source": [
    "<p>There are 14 fields of tangent space automorphisms expressing the changes of coordinate bases and tetrad:</p>"
   ]
  },
  {
   "cell_type": "code",
   "execution_count": 104,
   "metadata": {
    "collapsed": false
   },
   "outputs": [
    {
     "data": {
      "text/html": [
       "<html><script type=\"math/tex; mode=display\">\\newcommand{\\Bold}[1]{\\mathbf{#1}}14</script></html>"
      ],
      "text/plain": [
       "14"
      ]
     },
     "execution_count": 104,
     "metadata": {},
     "output_type": "execute_result"
    }
   ],
   "source": [
    "len(M.changes_of_frame())"
   ]
  },
  {
   "cell_type": "markdown",
   "metadata": {},
   "source": [
    "<p>Thanks to these changes of frames, the components of the metric tensor with respect to the Kruskal-Szekeres can be computed by the method <span style=\"font-family: courier new,courier;\">display()</span> and are found to be:</p>"
   ]
  },
  {
   "cell_type": "code",
   "execution_count": 105,
   "metadata": {
    "collapsed": false
   },
   "outputs": [
    {
     "data": {
      "text/html": [
       "<html><script type=\"math/tex; mode=display\">\\newcommand{\\Bold}[1]{\\mathbf{#1}}g = \\frac{32 \\, m^{3} e^{\\left(-\\frac{r}{2 \\, m}\\right)}}{r} \\mathrm{d} U\\otimes \\mathrm{d} U -\\frac{32 \\, m^{3} e^{\\left(-\\frac{r}{2 \\, m}\\right)}}{r} \\mathrm{d} V\\otimes \\mathrm{d} V + r^{2} \\mathrm{d} {\\theta}\\otimes \\mathrm{d} {\\theta} + r^{2} \\sin\\left({\\theta}\\right)^{2} \\mathrm{d} {\\varphi}\\otimes \\mathrm{d} {\\varphi}</script></html>"
      ],
      "text/plain": [
       "g = 32*m^3*e^(-1/2*r/m)/r dU*dU - 32*m^3*e^(-1/2*r/m)/r dV*dV + r^2 dth*dth + r^2*sin(th)^2 dph*dph"
      ]
     },
     "execution_count": 105,
     "metadata": {},
     "output_type": "execute_result"
    }
   ],
   "source": [
    "g.display(X_KS_I.frame())"
   ]
  },
  {
   "cell_type": "code",
   "execution_count": 106,
   "metadata": {
    "collapsed": false
   },
   "outputs": [
    {
     "data": {
      "text/html": [
       "<html><script type=\"math/tex; mode=display\">\\newcommand{\\Bold}[1]{\\mathbf{#1}}\\left(\\begin{array}{rrrr}\n",
       "\\frac{32 \\, m^{3} e^{\\left(-\\frac{r}{2 \\, m}\\right)}}{r} & 0 & 0 & 0 \\\\\n",
       "0 & -\\frac{32 \\, m^{3} e^{\\left(-\\frac{r}{2 \\, m}\\right)}}{r} & 0 & 0 \\\\\n",
       "0 & 0 & r^{2} & 0 \\\\\n",
       "0 & 0 & 0 & r^{2} \\sin\\left({\\theta}\\right)^{2}\n",
       "\\end{array}\\right)</script></html>"
      ],
      "text/plain": [
       "[ 32*m^3*e^(-1/2*r/m)/r                      0                      0                      0]\n",
       "[                     0 -32*m^3*e^(-1/2*r/m)/r                      0                      0]\n",
       "[                     0                      0                    r^2                      0]\n",
       "[                     0                      0                      0          r^2*sin(th)^2]"
      ]
     },
     "execution_count": 106,
     "metadata": {},
     "output_type": "execute_result"
    }
   ],
   "source": [
    "g[X_KS_I.frame(),:]"
   ]
  },
  {
   "cell_type": "code",
   "execution_count": 107,
   "metadata": {
    "collapsed": false
   },
   "outputs": [
    {
     "data": {
      "text/html": [
       "<html><script type=\"math/tex; mode=display\">\\newcommand{\\Bold}[1]{\\mathbf{#1}}g = \\frac{32 \\, m^{3} e^{\\left(-\\frac{r}{2 \\, m}\\right)}}{r} \\mathrm{d} U\\otimes \\mathrm{d} U -\\frac{32 \\, m^{3} e^{\\left(-\\frac{r}{2 \\, m}\\right)}}{r} \\mathrm{d} V\\otimes \\mathrm{d} V + r^{2} \\mathrm{d} {\\theta}\\otimes \\mathrm{d} {\\theta} + r^{2} \\sin\\left({\\theta}\\right)^{2} \\mathrm{d} {\\varphi}\\otimes \\mathrm{d} {\\varphi}</script></html>"
      ],
      "text/plain": [
       "g = 32*m^3*e^(-1/2*r/m)/r dU*dU - 32*m^3*e^(-1/2*r/m)/r dV*dV + r^2 dth*dth + r^2*sin(th)^2 dph*dph"
      ]
     },
     "execution_count": 107,
     "metadata": {},
     "output_type": "execute_result"
    }
   ],
   "source": [
    "g.display(X_KS_II.frame())"
   ]
  },
  {
   "cell_type": "markdown",
   "metadata": {},
   "source": [
    "<p>The first vector of the orthonormal tetrad $e$ expressed on the <span id=\"cell_outer_86\"><span id=\"cell_outer_121\">Kruskal-Szekeres</span></span> frame:</p>"
   ]
  },
  {
   "cell_type": "code",
   "execution_count": 108,
   "metadata": {
    "collapsed": false
   },
   "outputs": [
    {
     "data": {
      "text/html": [
       "<html><script type=\"math/tex; mode=display\">\\newcommand{\\Bold}[1]{\\mathbf{#1}}e_0 = \\frac{\\sqrt{2} \\sqrt{r} e^{\\left(\\frac{r}{4 \\, m}\\right)} \\sinh\\left(\\frac{t}{4 \\, m}\\right)}{8 \\, m^{\\frac{3}{2}}} \\frac{\\partial}{\\partial U } + \\frac{\\sqrt{2} \\sqrt{r} \\cosh\\left(\\frac{t}{4 \\, m}\\right) e^{\\left(\\frac{r}{4 \\, m}\\right)}}{8 \\, m^{\\frac{3}{2}}} \\frac{\\partial}{\\partial V }</script></html>"
      ],
      "text/plain": [
       "e_0 = 1/8*sqrt(2)*sqrt(r)*e^(1/4*r/m)*sinh(1/4*t/m)/m^(3/2) d/dU + 1/8*sqrt(2)*sqrt(r)*cosh(1/4*t/m)*e^(1/4*r/m)/m^(3/2) d/dV"
      ]
     },
     "execution_count": 108,
     "metadata": {},
     "output_type": "execute_result"
    }
   ],
   "source": [
    "e[0].display(X_KS_I.frame())"
   ]
  },
  {
   "cell_type": "markdown",
   "metadata": {},
   "source": [
    "<p>The Riemann curvature tensor in terms of the <span id=\"cell_outer_121\">Kruskal-Szekeres</span> coordinates:</p>"
   ]
  },
  {
   "cell_type": "code",
   "execution_count": 109,
   "metadata": {
    "collapsed": false
   },
   "outputs": [
    {
     "data": {
      "text/html": [
       "<html><script type=\"math/tex; mode=display\">\\newcommand{\\Bold}[1]{\\mathbf{#1}}\\mathrm{Riem}\\left(g\\right) = -\\frac{64 \\, m^{4} e^{\\left(-\\frac{r}{2 \\, m}\\right)}}{r^{4}} \\frac{\\partial}{\\partial U }\\otimes \\mathrm{d} V\\otimes \\mathrm{d} U\\otimes \\mathrm{d} V + \\frac{64 \\, m^{4} e^{\\left(-\\frac{r}{2 \\, m}\\right)}}{r^{4}} \\frac{\\partial}{\\partial U }\\otimes \\mathrm{d} V\\otimes \\mathrm{d} V\\otimes \\mathrm{d} U -\\frac{m}{r} \\frac{\\partial}{\\partial U }\\otimes \\mathrm{d} {\\theta}\\otimes \\mathrm{d} U\\otimes \\mathrm{d} {\\theta} + \\frac{m}{r} \\frac{\\partial}{\\partial U }\\otimes \\mathrm{d} {\\theta}\\otimes \\mathrm{d} {\\theta}\\otimes \\mathrm{d} U -\\frac{m \\sin\\left({\\theta}\\right)^{2}}{r} \\frac{\\partial}{\\partial U }\\otimes \\mathrm{d} {\\varphi}\\otimes \\mathrm{d} U\\otimes \\mathrm{d} {\\varphi} + \\frac{m \\sin\\left({\\theta}\\right)^{2}}{r} \\frac{\\partial}{\\partial U }\\otimes \\mathrm{d} {\\varphi}\\otimes \\mathrm{d} {\\varphi}\\otimes \\mathrm{d} U -\\frac{64 \\, m^{4} e^{\\left(-\\frac{r}{2 \\, m}\\right)}}{r^{4}} \\frac{\\partial}{\\partial V }\\otimes \\mathrm{d} U\\otimes \\mathrm{d} U\\otimes \\mathrm{d} V + \\frac{64 \\, m^{4} e^{\\left(-\\frac{r}{2 \\, m}\\right)}}{r^{4}} \\frac{\\partial}{\\partial V }\\otimes \\mathrm{d} U\\otimes \\mathrm{d} V\\otimes \\mathrm{d} U -\\frac{m}{r} \\frac{\\partial}{\\partial V }\\otimes \\mathrm{d} {\\theta}\\otimes \\mathrm{d} V\\otimes \\mathrm{d} {\\theta} + \\frac{m}{r} \\frac{\\partial}{\\partial V }\\otimes \\mathrm{d} {\\theta}\\otimes \\mathrm{d} {\\theta}\\otimes \\mathrm{d} V -\\frac{m \\sin\\left({\\theta}\\right)^{2}}{r} \\frac{\\partial}{\\partial V }\\otimes \\mathrm{d} {\\varphi}\\otimes \\mathrm{d} V\\otimes \\mathrm{d} {\\varphi} + \\frac{m \\sin\\left({\\theta}\\right)^{2}}{r} \\frac{\\partial}{\\partial V }\\otimes \\mathrm{d} {\\varphi}\\otimes \\mathrm{d} {\\varphi}\\otimes \\mathrm{d} V + \\frac{32 \\, m^{4} e^{\\left(-\\frac{r}{2 \\, m}\\right)}}{r^{4}} \\frac{\\partial}{\\partial {\\theta} }\\otimes \\mathrm{d} U\\otimes \\mathrm{d} U\\otimes \\mathrm{d} {\\theta} -\\frac{32 \\, m^{4} e^{\\left(-\\frac{r}{2 \\, m}\\right)}}{r^{4}} \\frac{\\partial}{\\partial {\\theta} }\\otimes \\mathrm{d} U\\otimes \\mathrm{d} {\\theta}\\otimes \\mathrm{d} U -\\frac{32 \\, m^{4} e^{\\left(-\\frac{r}{2 \\, m}\\right)}}{r^{4}} \\frac{\\partial}{\\partial {\\theta} }\\otimes \\mathrm{d} V\\otimes \\mathrm{d} V\\otimes \\mathrm{d} {\\theta} + \\frac{32 \\, m^{4} e^{\\left(-\\frac{r}{2 \\, m}\\right)}}{r^{4}} \\frac{\\partial}{\\partial {\\theta} }\\otimes \\mathrm{d} V\\otimes \\mathrm{d} {\\theta}\\otimes \\mathrm{d} V + \\frac{2 \\, m \\sin\\left({\\theta}\\right)^{2}}{r} \\frac{\\partial}{\\partial {\\theta} }\\otimes \\mathrm{d} {\\varphi}\\otimes \\mathrm{d} {\\theta}\\otimes \\mathrm{d} {\\varphi} -\\frac{2 \\, m \\sin\\left({\\theta}\\right)^{2}}{r} \\frac{\\partial}{\\partial {\\theta} }\\otimes \\mathrm{d} {\\varphi}\\otimes \\mathrm{d} {\\varphi}\\otimes \\mathrm{d} {\\theta} + \\frac{32 \\, m^{4} e^{\\left(-\\frac{r}{2 \\, m}\\right)}}{r^{4}} \\frac{\\partial}{\\partial {\\varphi} }\\otimes \\mathrm{d} U\\otimes \\mathrm{d} U\\otimes \\mathrm{d} {\\varphi} -\\frac{32 \\, m^{4} e^{\\left(-\\frac{r}{2 \\, m}\\right)}}{r^{4}} \\frac{\\partial}{\\partial {\\varphi} }\\otimes \\mathrm{d} U\\otimes \\mathrm{d} {\\varphi}\\otimes \\mathrm{d} U -\\frac{32 \\, m^{4} e^{\\left(-\\frac{r}{2 \\, m}\\right)}}{r^{4}} \\frac{\\partial}{\\partial {\\varphi} }\\otimes \\mathrm{d} V\\otimes \\mathrm{d} V\\otimes \\mathrm{d} {\\varphi} + \\frac{32 \\, m^{4} e^{\\left(-\\frac{r}{2 \\, m}\\right)}}{r^{4}} \\frac{\\partial}{\\partial {\\varphi} }\\otimes \\mathrm{d} V\\otimes \\mathrm{d} {\\varphi}\\otimes \\mathrm{d} V -\\frac{2 \\, m}{r} \\frac{\\partial}{\\partial {\\varphi} }\\otimes \\mathrm{d} {\\theta}\\otimes \\mathrm{d} {\\theta}\\otimes \\mathrm{d} {\\varphi} + \\frac{2 \\, m}{r} \\frac{\\partial}{\\partial {\\varphi} }\\otimes \\mathrm{d} {\\theta}\\otimes \\mathrm{d} {\\varphi}\\otimes \\mathrm{d} {\\theta}</script></html>"
      ],
      "text/plain": [
       "Riem(g) = -64*m^4*e^(-1/2*r/m)/r^4 d/dU*dV*dU*dV + 64*m^4*e^(-1/2*r/m)/r^4 d/dU*dV*dV*dU - m/r d/dU*dth*dU*dth + m/r d/dU*dth*dth*dU - m*sin(th)^2/r d/dU*dph*dU*dph + m*sin(th)^2/r d/dU*dph*dph*dU - 64*m^4*e^(-1/2*r/m)/r^4 d/dV*dU*dU*dV + 64*m^4*e^(-1/2*r/m)/r^4 d/dV*dU*dV*dU - m/r d/dV*dth*dV*dth + m/r d/dV*dth*dth*dV - m*sin(th)^2/r d/dV*dph*dV*dph + m*sin(th)^2/r d/dV*dph*dph*dV + 32*m^4*e^(-1/2*r/m)/r^4 d/dth*dU*dU*dth - 32*m^4*e^(-1/2*r/m)/r^4 d/dth*dU*dth*dU - 32*m^4*e^(-1/2*r/m)/r^4 d/dth*dV*dV*dth + 32*m^4*e^(-1/2*r/m)/r^4 d/dth*dV*dth*dV + 2*m*sin(th)^2/r d/dth*dph*dth*dph - 2*m*sin(th)^2/r d/dth*dph*dph*dth + 32*m^4*e^(-1/2*r/m)/r^4 d/dph*dU*dU*dph - 32*m^4*e^(-1/2*r/m)/r^4 d/dph*dU*dph*dU - 32*m^4*e^(-1/2*r/m)/r^4 d/dph*dV*dV*dph + 32*m^4*e^(-1/2*r/m)/r^4 d/dph*dV*dph*dV - 2*m/r d/dph*dth*dth*dph + 2*m/r d/dph*dth*dph*dth"
      ]
     },
     "execution_count": 109,
     "metadata": {},
     "output_type": "execute_result"
    }
   ],
   "source": [
    "g.riemann().display(X_KS_I.frame())"
   ]
  },
  {
   "cell_type": "code",
   "execution_count": 110,
   "metadata": {
    "collapsed": false
   },
   "outputs": [
    {
     "data": {
      "text/html": [
       "<html><script type=\"math/tex; mode=display\">\\newcommand{\\Bold}[1]{\\mathbf{#1}}\\begin{array}{lcl} \\mathrm{Riem}\\left(g\\right)_{ \\phantom{\\, U} \\, V \\, U \\, V }^{ \\, U \\phantom{\\, V} \\phantom{\\, U} \\phantom{\\, V} } & = & -\\frac{64 \\, m^{4} e^{\\left(-\\frac{r}{2 \\, m}\\right)}}{r^{4}} \\\\ \\mathrm{Riem}\\left(g\\right)_{ \\phantom{\\, U} \\, {\\theta} \\, U \\, {\\theta} }^{ \\, U \\phantom{\\, {\\theta}} \\phantom{\\, U} \\phantom{\\, {\\theta}} } & = & -\\frac{m}{r} \\\\ \\mathrm{Riem}\\left(g\\right)_{ \\phantom{\\, U} \\, {\\varphi} \\, U \\, {\\varphi} }^{ \\, U \\phantom{\\, {\\varphi}} \\phantom{\\, U} \\phantom{\\, {\\varphi}} } & = & -\\frac{m \\sin\\left({\\theta}\\right)^{2}}{r} \\\\ \\mathrm{Riem}\\left(g\\right)_{ \\phantom{\\, V} \\, U \\, U \\, V }^{ \\, V \\phantom{\\, U} \\phantom{\\, U} \\phantom{\\, V} } & = & -\\frac{64 \\, m^{4} e^{\\left(-\\frac{r}{2 \\, m}\\right)}}{r^{4}} \\\\ \\mathrm{Riem}\\left(g\\right)_{ \\phantom{\\, V} \\, {\\theta} \\, V \\, {\\theta} }^{ \\, V \\phantom{\\, {\\theta}} \\phantom{\\, V} \\phantom{\\, {\\theta}} } & = & -\\frac{m}{r} \\\\ \\mathrm{Riem}\\left(g\\right)_{ \\phantom{\\, V} \\, {\\varphi} \\, V \\, {\\varphi} }^{ \\, V \\phantom{\\, {\\varphi}} \\phantom{\\, V} \\phantom{\\, {\\varphi}} } & = & -\\frac{m \\sin\\left({\\theta}\\right)^{2}}{r} \\\\ \\mathrm{Riem}\\left(g\\right)_{ \\phantom{\\, {\\theta}} \\, U \\, U \\, {\\theta} }^{ \\, {\\theta} \\phantom{\\, U} \\phantom{\\, U} \\phantom{\\, {\\theta}} } & = & \\frac{32 \\, m^{4} e^{\\left(-\\frac{r}{2 \\, m}\\right)}}{r^{4}} \\\\ \\mathrm{Riem}\\left(g\\right)_{ \\phantom{\\, {\\theta}} \\, V \\, V \\, {\\theta} }^{ \\, {\\theta} \\phantom{\\, V} \\phantom{\\, V} \\phantom{\\, {\\theta}} } & = & -\\frac{32 \\, m^{4} e^{\\left(-\\frac{r}{2 \\, m}\\right)}}{r^{4}} \\\\ \\mathrm{Riem}\\left(g\\right)_{ \\phantom{\\, {\\theta}} \\, {\\varphi} \\, {\\theta} \\, {\\varphi} }^{ \\, {\\theta} \\phantom{\\, {\\varphi}} \\phantom{\\, {\\theta}} \\phantom{\\, {\\varphi}} } & = & \\frac{2 \\, m \\sin\\left({\\theta}\\right)^{2}}{r} \\\\ \\mathrm{Riem}\\left(g\\right)_{ \\phantom{\\, {\\varphi}} \\, U \\, U \\, {\\varphi} }^{ \\, {\\varphi} \\phantom{\\, U} \\phantom{\\, U} \\phantom{\\, {\\varphi}} } & = & \\frac{32 \\, m^{4} e^{\\left(-\\frac{r}{2 \\, m}\\right)}}{r^{4}} \\\\ \\mathrm{Riem}\\left(g\\right)_{ \\phantom{\\, {\\varphi}} \\, V \\, V \\, {\\varphi} }^{ \\, {\\varphi} \\phantom{\\, V} \\phantom{\\, V} \\phantom{\\, {\\varphi}} } & = & -\\frac{32 \\, m^{4} e^{\\left(-\\frac{r}{2 \\, m}\\right)}}{r^{4}} \\\\ \\mathrm{Riem}\\left(g\\right)_{ \\phantom{\\, {\\varphi}} \\, {\\theta} \\, {\\theta} \\, {\\varphi} }^{ \\, {\\varphi} \\phantom{\\, {\\theta}} \\phantom{\\, {\\theta}} \\phantom{\\, {\\varphi}} } & = & -\\frac{2 \\, m}{r} \\end{array}</script></html>"
      ],
      "text/plain": [
       "Riem(g)^U_V,U,V = -64*m^4*e^(-1/2*r/m)/r^4 \n",
       "Riem(g)^U_th,U,th = -m/r \n",
       "Riem(g)^U_ph,U,ph = -m*sin(th)^2/r \n",
       "Riem(g)^V_U,U,V = -64*m^4*e^(-1/2*r/m)/r^4 \n",
       "Riem(g)^V_th,V,th = -m/r \n",
       "Riem(g)^V_ph,V,ph = -m*sin(th)^2/r \n",
       "Riem(g)^th_U,U,th = 32*m^4*e^(-1/2*r/m)/r^4 \n",
       "Riem(g)^th_V,V,th = -32*m^4*e^(-1/2*r/m)/r^4 \n",
       "Riem(g)^th_ph,th,ph = 2*m*sin(th)^2/r \n",
       "Riem(g)^ph_U,U,ph = 32*m^4*e^(-1/2*r/m)/r^4 \n",
       "Riem(g)^ph_V,V,ph = -32*m^4*e^(-1/2*r/m)/r^4 \n",
       "Riem(g)^ph_th,th,ph = -2*m/r "
      ]
     },
     "execution_count": 110,
     "metadata": {},
     "output_type": "execute_result"
    }
   ],
   "source": [
    "g.riemann().display_comp(X_KS_I.frame(), only_nonredundant=True)"
   ]
  },
  {
   "cell_type": "markdown",
   "metadata": {},
   "source": [
    "<p>The curvature 2-form $\\Omega^0_{\\ \\, 1}$ associated to the Kruskal-Szekeres coordinate frame:</p>"
   ]
  },
  {
   "cell_type": "code",
   "execution_count": 111,
   "metadata": {
    "collapsed": false
   },
   "outputs": [
    {
     "name": "stdout",
     "output_type": "stream",
     "text": [
      "2-form curvature (0,1) of connection nabla_g w.r.t. Coordinate frame (R_I, (d/dU,d/dV,d/dth,d/dph)) on the Open subset R_I of the 4-dimensional differentiable manifold M\n"
     ]
    }
   ],
   "source": [
    "om = g.connection().curvature_form(0,1, X_KS_I.frame()) ; print(om)"
   ]
  },
  {
   "cell_type": "code",
   "execution_count": 112,
   "metadata": {
    "collapsed": false
   },
   "outputs": [
    {
     "data": {
      "text/html": [
       "<html><script type=\"math/tex; mode=display\">\\newcommand{\\Bold}[1]{\\mathbf{#1}}\\Omega^0_{\\ \\, 1} = -\\frac{64 \\, m^{4} e^{\\left(-\\frac{r}{2 \\, m}\\right)}}{r^{4}} \\mathrm{d} U\\wedge \\mathrm{d} V</script></html>"
      ],
      "text/plain": [
       "curvature (0,1) of connection nabla_g w.r.t. Coordinate frame (R_I, (d/dU,d/dV,d/dth,d/dph)) = -64*m^4*e^(-1/2*r/m)/r^4 dU/\\dV"
      ]
     },
     "execution_count": 112,
     "metadata": {},
     "output_type": "execute_result"
    }
   ],
   "source": [
    "om.display(X_KS_I.frame())"
   ]
  },
  {
   "cell_type": "markdown",
   "metadata": {},
   "source": [
    "<h2>Isotropic coordinates</h2>\n",
    "<p>Let us now introduce isotropic coordinates $(t,\\bar{r},\\theta,\\varphi)$ on the spacetime manifold:</p>"
   ]
  },
  {
   "cell_type": "code",
   "execution_count": 113,
   "metadata": {
    "collapsed": false
   },
   "outputs": [
    {
     "data": {
      "text/html": [
       "<html><script type=\"math/tex; mode=display\">\\newcommand{\\Bold}[1]{\\mathbf{#1}}\\mathcal{R}_{\\mathrm{I}}\\cup \\mathcal{R}_{\\mathrm{III}}</script></html>"
      ],
      "text/plain": [
       "Open subset R_I_union_R_III of the 4-dimensional differentiable manifold M"
      ]
     },
     "execution_count": 113,
     "metadata": {},
     "output_type": "execute_result"
    }
   ],
   "source": [
    "regI_III = regI.union(regIII) ; regI_III"
   ]
  },
  {
   "cell_type": "code",
   "execution_count": 114,
   "metadata": {
    "collapsed": false
   },
   "outputs": [
    {
     "name": "stdout",
     "output_type": "stream",
     "text": [
      "Chart (R_I_union_R_III, (t, ri, th, ph))\n"
     ]
    },
    {
     "data": {
      "text/html": [
       "<html><script type=\"math/tex; mode=display\">\\newcommand{\\Bold}[1]{\\mathbf{#1}}\\left(\\mathcal{R}_{\\mathrm{I}}\\cup \\mathcal{R}_{\\mathrm{III}},(t, {\\bar{r}}, {\\theta}, {\\varphi})\\right)</script></html>"
      ],
      "text/plain": [
       "Chart (R_I_union_R_III, (t, ri, th, ph))"
      ]
     },
     "execution_count": 114,
     "metadata": {},
     "output_type": "execute_result"
    }
   ],
   "source": [
    "X_iso.<t,ri,th,ph> = regI_III.chart(r't ri:(0,+oo):\\bar{r} th:(0,pi):\\theta ph:(0,2*pi):\\varphi')\n",
    "print(X_iso) ; X_iso"
   ]
  },
  {
   "cell_type": "code",
   "execution_count": 115,
   "metadata": {
    "collapsed": false
   },
   "outputs": [
    {
     "data": {
      "text/html": [
       "<html><script type=\"math/tex; mode=display\">\\newcommand{\\Bold}[1]{\\mathbf{#1}}\\left(\\mathcal{R}_{\\mathrm{I}},(t, {\\bar{r}}, {\\theta}, {\\varphi})\\right)</script></html>"
      ],
      "text/plain": [
       "Chart (R_I, (t, ri, th, ph))"
      ]
     },
     "execution_count": 115,
     "metadata": {},
     "output_type": "execute_result"
    }
   ],
   "source": [
    "X_iso_I = X_iso.restrict(regI, ri>m/2) ; X_iso_I"
   ]
  },
  {
   "cell_type": "markdown",
   "metadata": {},
   "source": [
    "<p>The transformation from the isotropic coordinates to the Boyer-Lindquist ones:</p>"
   ]
  },
  {
   "cell_type": "code",
   "execution_count": 116,
   "metadata": {
    "collapsed": false
   },
   "outputs": [
    {
     "name": "stdout",
     "output_type": "stream",
     "text": [
      "Change of coordinates from Chart (R_I, (t, ri, th, ph)) to Chart (R_I, (t, r, th, ph))\n"
     ]
    },
    {
     "data": {
      "text/html": [
       "<html><script type=\"math/tex; mode=display\">\\newcommand{\\Bold}[1]{\\mathbf{#1}}\\left\\{\\begin{array}{lcl} t & = & t \\\\ r & = & \\frac{1}{4} \\, {\\bar{r}} {\\left(\\frac{m}{{\\bar{r}}} + 2\\right)}^{2} \\\\ {\\theta} & = & {\\theta} \\\\ {\\varphi} & = & {\\varphi} \\end{array}\\right.</script></html>"
      ],
      "text/plain": [
       "t = t\n",
       "r = 1/4*ri*(m/ri + 2)^2\n",
       "th = th\n",
       "ph = ph"
      ]
     },
     "execution_count": 116,
     "metadata": {},
     "output_type": "execute_result"
    }
   ],
   "source": [
    "assume(2*ri>m) # we consider only region I\n",
    "ch_iso_BL_I = X_iso_I.transition_map(X_I, [t, ri*(1+m/(2*ri))^2, th, ph])\n",
    "print(ch_iso_BL_I)\n",
    "ch_iso_BL_I.display()"
   ]
  },
  {
   "cell_type": "code",
   "execution_count": 132,
   "metadata": {
    "collapsed": false
   },
   "outputs": [
    {
     "name": "stdout",
     "output_type": "stream",
     "text": [
      "Check of the inverse coordinate transformation:\n",
      "  t == t\n",
      "  ri == ri\n",
      "  th == th\n",
      "  ph == ph\n",
      "  t == t\n",
      "  r == r\n",
      "  th == th\n",
      "  ph == ph\n"
     ]
    }
   ],
   "source": [
    "assume(r>2*m) # we consider only region I\n",
    "ch_iso_BL_I.set_inverse(t, (r-m+sqrt(r*(r-2*m)))/2, th, ph, verbose=True)"
   ]
  },
  {
   "cell_type": "code",
   "execution_count": 118,
   "metadata": {
    "collapsed": false
   },
   "outputs": [
    {
     "data": {
      "text/html": [
       "<html><script type=\"math/tex; mode=display\">\\newcommand{\\Bold}[1]{\\mathbf{#1}}\\left\\{\\begin{array}{lcl} t & = & t \\\\ {\\bar{r}} & = & -\\frac{1}{2} \\, m + \\frac{1}{2} \\, r + \\frac{1}{2} \\, \\sqrt{-{\\left(2 \\, m - r\\right)} r} \\\\ {\\theta} & = & {\\theta} \\\\ {\\varphi} & = & {\\varphi} \\end{array}\\right.</script></html>"
      ],
      "text/plain": [
       "t = t\n",
       "ri = -1/2*m + 1/2*r + 1/2*sqrt(-(2*m - r)*r)\n",
       "th = th\n",
       "ph = ph"
      ]
     },
     "execution_count": 118,
     "metadata": {},
     "output_type": "execute_result"
    }
   ],
   "source": [
    "ch_iso_BL_I.inverse().display()"
   ]
  },
  {
   "cell_type": "markdown",
   "metadata": {},
   "source": [
    "<p><span id=\"cell_outer_90\">At this stage, 11 charts have been defined on the manifold $\\mathcal{M}$:</span></p>"
   ]
  },
  {
   "cell_type": "code",
   "execution_count": 119,
   "metadata": {
    "collapsed": false
   },
   "outputs": [
    {
     "data": {
      "text/html": [
       "<html><script type=\"math/tex; mode=display\">\\newcommand{\\Bold}[1]{\\mathbf{#1}}\\left[\\left(\\mathcal{R}_{\\mathrm{I}}\\cup \\mathcal{R}_{\\mathrm{II}},(t, r, {\\theta}, {\\varphi})\\right), \\left(\\mathcal{R}_{\\mathrm{I}},(t, r, {\\theta}, {\\varphi})\\right), \\left(\\mathcal{R}_{\\mathrm{II}},(t, r, {\\theta}, {\\varphi})\\right), \\left(\\mathcal{R}_{\\mathrm{I}}\\cup \\mathcal{R}_{\\mathrm{II}},(v, r, {\\theta}, {\\varphi})\\right), \\left(\\mathcal{R}_{\\mathrm{I}},(v, r, {\\theta}, {\\varphi})\\right), \\left(\\mathcal{R}_{\\mathrm{II}},(v, r, {\\theta}, {\\varphi})\\right), \\left(\\mathcal{R}_{\\mathrm{I}}\\cup \\mathcal{R}_{\\mathrm{II}}\\cup \\mathcal{R}_{\\mathrm{III}}\\cup \\mathcal{R}_{\\mathrm{IV}},(U, V, {\\theta}, {\\varphi})\\right), \\left(\\mathcal{R}_{\\mathrm{I}},(U, V, {\\theta}, {\\varphi})\\right), \\left(\\mathcal{R}_{\\mathrm{II}},(U, V, {\\theta}, {\\varphi})\\right), \\left(\\mathcal{R}_{\\mathrm{I}}\\cup \\mathcal{R}_{\\mathrm{III}},(t, {\\bar{r}}, {\\theta}, {\\varphi})\\right), \\left(\\mathcal{R}_{\\mathrm{I}},(t, {\\bar{r}}, {\\theta}, {\\varphi})\\right)\\right]</script></html>"
      ],
      "text/plain": [
       "[Chart (R_I_union_R_II, (t, r, th, ph)),\n",
       " Chart (R_I, (t, r, th, ph)),\n",
       " Chart (R_II, (t, r, th, ph)),\n",
       " Chart (R_I_union_R_II, (v, r, th, ph)),\n",
       " Chart (R_I, (v, r, th, ph)),\n",
       " Chart (R_II, (v, r, th, ph)),\n",
       " Chart (R_I_union_R_II_union_R_III_union_R_IV, (U, V, th, ph)),\n",
       " Chart (R_I, (U, V, th, ph)),\n",
       " Chart (R_II, (U, V, th, ph)),\n",
       " Chart (R_I_union_R_III, (t, ri, th, ph)),\n",
       " Chart (R_I, (t, ri, th, ph))]"
      ]
     },
     "execution_count": 119,
     "metadata": {},
     "output_type": "execute_result"
    }
   ],
   "source": [
    "M.atlas()"
   ]
  },
  {
   "cell_type": "code",
   "execution_count": 120,
   "metadata": {
    "collapsed": false
   },
   "outputs": [
    {
     "data": {
      "text/html": [
       "<html><script type=\"math/tex; mode=display\">\\newcommand{\\Bold}[1]{\\mathbf{#1}}11</script></html>"
      ],
      "text/plain": [
       "11"
      ]
     },
     "execution_count": 120,
     "metadata": {},
     "output_type": "execute_result"
    }
   ],
   "source": [
    "len(M.atlas())"
   ]
  },
  {
   "cell_type": "markdown",
   "metadata": {},
   "source": [
    "<p>12 vector frames have been defined on $\\mathcal{M}$: 11 coordinate bases and the tetrad $(e_\\alpha)$:</p>"
   ]
  },
  {
   "cell_type": "code",
   "execution_count": 121,
   "metadata": {
    "collapsed": false
   },
   "outputs": [
    {
     "data": {
      "text/html": [
       "<html><script type=\"math/tex; mode=display\">\\newcommand{\\Bold}[1]{\\mathbf{#1}}\\left[\\left(\\mathcal{R}_{\\mathrm{I}}\\cup \\mathcal{R}_{\\mathrm{II}} ,\\left(\\frac{\\partial}{\\partial t },\\frac{\\partial}{\\partial r },\\frac{\\partial}{\\partial {\\theta} },\\frac{\\partial}{\\partial {\\phi} }\\right)\\right), \\left(\\mathcal{R}_{\\mathrm{I}} ,\\left(\\frac{\\partial}{\\partial t },\\frac{\\partial}{\\partial r },\\frac{\\partial}{\\partial {\\theta} },\\frac{\\partial}{\\partial {\\phi} }\\right)\\right), \\left(\\mathcal{R}_{\\mathrm{II}} ,\\left(\\frac{\\partial}{\\partial t },\\frac{\\partial}{\\partial r },\\frac{\\partial}{\\partial {\\theta} },\\frac{\\partial}{\\partial {\\phi} }\\right)\\right), \\left(\\mathcal{R}_{\\mathrm{I}}\\cup \\mathcal{R}_{\\mathrm{II}} ,\\left(\\frac{\\partial}{\\partial v },\\frac{\\partial}{\\partial r },\\frac{\\partial}{\\partial {\\theta} },\\frac{\\partial}{\\partial {\\varphi} }\\right)\\right), \\left(\\mathcal{R}_{\\mathrm{I}} ,\\left(\\frac{\\partial}{\\partial v },\\frac{\\partial}{\\partial r },\\frac{\\partial}{\\partial {\\theta} },\\frac{\\partial}{\\partial {\\varphi} }\\right)\\right), \\left(\\mathcal{R}_{\\mathrm{II}} ,\\left(\\frac{\\partial}{\\partial v },\\frac{\\partial}{\\partial r },\\frac{\\partial}{\\partial {\\theta} },\\frac{\\partial}{\\partial {\\varphi} }\\right)\\right), \\left(\\mathcal{R}_{\\mathrm{I}}, \\left(e_0,e_1,e_2,e_3\\right)\\right), \\left(\\mathcal{R}_{\\mathrm{I}}\\cup \\mathcal{R}_{\\mathrm{II}}\\cup \\mathcal{R}_{\\mathrm{III}}\\cup \\mathcal{R}_{\\mathrm{IV}} ,\\left(\\frac{\\partial}{\\partial U },\\frac{\\partial}{\\partial V },\\frac{\\partial}{\\partial {\\theta} },\\frac{\\partial}{\\partial {\\varphi} }\\right)\\right), \\left(\\mathcal{R}_{\\mathrm{I}} ,\\left(\\frac{\\partial}{\\partial U },\\frac{\\partial}{\\partial V },\\frac{\\partial}{\\partial {\\theta} },\\frac{\\partial}{\\partial {\\varphi} }\\right)\\right), \\left(\\mathcal{R}_{\\mathrm{II}} ,\\left(\\frac{\\partial}{\\partial U },\\frac{\\partial}{\\partial V },\\frac{\\partial}{\\partial {\\theta} },\\frac{\\partial}{\\partial {\\varphi} }\\right)\\right), \\left(\\mathcal{R}_{\\mathrm{I}}\\cup \\mathcal{R}_{\\mathrm{III}} ,\\left(\\frac{\\partial}{\\partial t },\\frac{\\partial}{\\partial {\\bar{r}} },\\frac{\\partial}{\\partial {\\theta} },\\frac{\\partial}{\\partial {\\varphi} }\\right)\\right), \\left(\\mathcal{R}_{\\mathrm{I}} ,\\left(\\frac{\\partial}{\\partial t },\\frac{\\partial}{\\partial {\\bar{r}} },\\frac{\\partial}{\\partial {\\theta} },\\frac{\\partial}{\\partial {\\varphi} }\\right)\\right)\\right]</script></html>"
      ],
      "text/plain": [
       "[Coordinate frame (R_I_union_R_II, (d/dt,d/dr,d/dth,d/dph)),\n",
       " Coordinate frame (R_I, (d/dt,d/dr,d/dth,d/dph)),\n",
       " Coordinate frame (R_II, (d/dt,d/dr,d/dth,d/dph)),\n",
       " Coordinate frame (R_I_union_R_II, (d/dv,d/dr,d/dth,d/dph)),\n",
       " Coordinate frame (R_I, (d/dv,d/dr,d/dth,d/dph)),\n",
       " Coordinate frame (R_II, (d/dv,d/dr,d/dth,d/dph)),\n",
       " Vector frame (R_I, (e_0,e_1,e_2,e_3)),\n",
       " Coordinate frame (R_I_union_R_II_union_R_III_union_R_IV, (d/dU,d/dV,d/dth,d/dph)),\n",
       " Coordinate frame (R_I, (d/dU,d/dV,d/dth,d/dph)),\n",
       " Coordinate frame (R_II, (d/dU,d/dV,d/dth,d/dph)),\n",
       " Coordinate frame (R_I_union_R_III, (d/dt,d/dri,d/dth,d/dph)),\n",
       " Coordinate frame (R_I, (d/dt,d/dri,d/dth,d/dph))]"
      ]
     },
     "execution_count": 121,
     "metadata": {},
     "output_type": "execute_result"
    }
   ],
   "source": [
    "M.frames()"
   ]
  },
  {
   "cell_type": "code",
   "execution_count": 122,
   "metadata": {
    "collapsed": false
   },
   "outputs": [
    {
     "data": {
      "text/html": [
       "<html><script type=\"math/tex; mode=display\">\\newcommand{\\Bold}[1]{\\mathbf{#1}}12</script></html>"
      ],
      "text/plain": [
       "12"
      ]
     },
     "execution_count": 122,
     "metadata": {},
     "output_type": "execute_result"
    }
   ],
   "source": [
    "len(M.frames())"
   ]
  },
  {
   "cell_type": "markdown",
   "metadata": {},
   "source": [
    "<p>The components of the metric tensor in terms of the isotropic coordinates are given by</p>"
   ]
  },
  {
   "cell_type": "code",
   "execution_count": 123,
   "metadata": {
    "collapsed": false
   },
   "outputs": [
    {
     "data": {
      "text/html": [
       "<html><script type=\"math/tex; mode=display\">\\newcommand{\\Bold}[1]{\\mathbf{#1}}g = \\left( -\\frac{m^{2} - 4 \\, m {\\bar{r}} + 4 \\, {\\bar{r}}^{2}}{m^{2} + 4 \\, m {\\bar{r}} + 4 \\, {\\bar{r}}^{2}} \\right) \\mathrm{d} t\\otimes \\mathrm{d} t + \\left( \\frac{m^{4} + 8 \\, m^{3} {\\bar{r}} + 24 \\, m^{2} {\\bar{r}}^{2} + 32 \\, m {\\bar{r}}^{3} + 16 \\, {\\bar{r}}^{4}}{16 \\, {\\bar{r}}^{4}} \\right) \\mathrm{d} {\\bar{r}}\\otimes \\mathrm{d} {\\bar{r}} + \\left( \\frac{m^{4} + 8 \\, m^{3} {\\bar{r}} + 24 \\, m^{2} {\\bar{r}}^{2} + 32 \\, m {\\bar{r}}^{3} + 16 \\, {\\bar{r}}^{4}}{16 \\, {\\bar{r}}^{2}} \\right) \\mathrm{d} {\\theta}\\otimes \\mathrm{d} {\\theta} + \\frac{{\\left(m^{4} + 8 \\, m^{3} {\\bar{r}} + 24 \\, m^{2} {\\bar{r}}^{2} + 32 \\, m {\\bar{r}}^{3} + 16 \\, {\\bar{r}}^{4}\\right)} \\sin\\left({\\theta}\\right)^{2}}{16 \\, {\\bar{r}}^{2}} \\mathrm{d} {\\varphi}\\otimes \\mathrm{d} {\\varphi}</script></html>"
      ],
      "text/plain": [
       "g = -(m^2 - 4*m*ri + 4*ri^2)/(m^2 + 4*m*ri + 4*ri^2) dt*dt + 1/16*(m^4 + 8*m^3*ri + 24*m^2*ri^2 + 32*m*ri^3 + 16*ri^4)/ri^4 dri*dri + 1/16*(m^4 + 8*m^3*ri + 24*m^2*ri^2 + 32*m*ri^3 + 16*ri^4)/ri^2 dth*dth + 1/16*(m^4 + 8*m^3*ri + 24*m^2*ri^2 + 32*m*ri^3 + 16*ri^4)*sin(th)^2/ri^2 dph*dph"
      ]
     },
     "execution_count": 123,
     "metadata": {},
     "output_type": "execute_result"
    }
   ],
   "source": [
    "g.display(X_iso_I.frame(), X_iso_I)"
   ]
  },
  {
   "cell_type": "markdown",
   "metadata": {},
   "source": [
    "<p>The $g_{00}$ component can be factorized:</p>"
   ]
  },
  {
   "cell_type": "code",
   "execution_count": 124,
   "metadata": {
    "collapsed": false
   },
   "outputs": [
    {
     "data": {
      "text/html": [
       "<html><script type=\"math/tex; mode=display\">\\newcommand{\\Bold}[1]{\\mathbf{#1}}-\\frac{m^{2} - 4 \\, m {\\bar{r}} + 4 \\, {\\bar{r}}^{2}}{m^{2} + 4 \\, m {\\bar{r}} + 4 \\, {\\bar{r}}^{2}}</script></html>"
      ],
      "text/plain": [
       "-(m^2 - 4*m*ri + 4*ri^2)/(m^2 + 4*m*ri + 4*ri^2)"
      ]
     },
     "execution_count": 124,
     "metadata": {},
     "output_type": "execute_result"
    }
   ],
   "source": [
    "g[X_iso_I.frame(), 0,0, X_iso_I]"
   ]
  },
  {
   "cell_type": "code",
   "execution_count": 125,
   "metadata": {
    "collapsed": false
   },
   "outputs": [
    {
     "data": {
      "text/html": [
       "<html><script type=\"math/tex; mode=display\">\\newcommand{\\Bold}[1]{\\mathbf{#1}}-\\frac{{\\left(m - 2 \\, {\\bar{r}}\\right)}^{2}}{{\\left(m + 2 \\, {\\bar{r}}\\right)}^{2}}</script></html>"
      ],
      "text/plain": [
       "-(m - 2*ri)^2/(m + 2*ri)^2"
      ]
     },
     "execution_count": 125,
     "metadata": {},
     "output_type": "execute_result"
    }
   ],
   "source": [
    "g[X_iso_I.frame(), 0,0, X_iso_I].factor()"
   ]
  },
  {
   "cell_type": "markdown",
   "metadata": {},
   "source": [
    "<p>Let us also factorize the other components:</p>"
   ]
  },
  {
   "cell_type": "code",
   "execution_count": 126,
   "metadata": {
    "collapsed": false
   },
   "outputs": [],
   "source": [
    "for i in range(1,4):\n",
    "    g[X_iso_I.frame(), i,i, X_iso_I].factor()"
   ]
  },
  {
   "cell_type": "markdown",
   "metadata": {},
   "source": [
    "<p>The output of the <span style=\"font-family: courier new,courier;\">display()</span> command looks nicer:</p>"
   ]
  },
  {
   "cell_type": "code",
   "execution_count": 127,
   "metadata": {
    "collapsed": false
   },
   "outputs": [
    {
     "data": {
      "text/html": [
       "<html><script type=\"math/tex; mode=display\">\\newcommand{\\Bold}[1]{\\mathbf{#1}}g = -\\frac{{\\left(m - 2 \\, {\\bar{r}}\\right)}^{2}}{{\\left(m + 2 \\, {\\bar{r}}\\right)}^{2}} \\mathrm{d} t\\otimes \\mathrm{d} t + \\frac{{\\left(m + 2 \\, {\\bar{r}}\\right)}^{4}}{16 \\, {\\bar{r}}^{4}} \\mathrm{d} {\\bar{r}}\\otimes \\mathrm{d} {\\bar{r}} + \\frac{{\\left(m + 2 \\, {\\bar{r}}\\right)}^{4}}{16 \\, {\\bar{r}}^{2}} \\mathrm{d} {\\theta}\\otimes \\mathrm{d} {\\theta} + \\frac{{\\left(m + 2 \\, {\\bar{r}}\\right)}^{4} \\sin\\left({\\theta}\\right)^{2}}{16 \\, {\\bar{r}}^{2}} \\mathrm{d} {\\varphi}\\otimes \\mathrm{d} {\\varphi}</script></html>"
      ],
      "text/plain": [
       "g = -(m - 2*ri)^2/(m + 2*ri)^2 dt*dt + 1/16*(m + 2*ri)^4/ri^4 dri*dri + 1/16*(m + 2*ri)^4/ri^2 dth*dth + 1/16*(m + 2*ri)^4*sin(th)^2/ri^2 dph*dph"
      ]
     },
     "execution_count": 127,
     "metadata": {},
     "output_type": "execute_result"
    }
   ],
   "source": [
    "g.display(X_iso_I.frame(), X_iso_I)"
   ]
  },
  {
   "cell_type": "markdown",
   "metadata": {},
   "source": [
    "<p>Expression of the tetrad associated with the static observer in terms of the isotropic coordinate basis:</p>"
   ]
  },
  {
   "cell_type": "code",
   "execution_count": 128,
   "metadata": {
    "collapsed": false
   },
   "outputs": [
    {
     "data": {
      "text/html": [
       "<html><script type=\"math/tex; mode=display\">\\newcommand{\\Bold}[1]{\\mathbf{#1}}e_0 = \\left( -\\frac{m + 2 \\, {\\bar{r}}}{m - 2 \\, {\\bar{r}}} \\right) \\frac{\\partial}{\\partial t }</script></html>"
      ],
      "text/plain": [
       "e_0 = -(m + 2*ri)/(m - 2*ri) d/dt"
      ]
     },
     "execution_count": 128,
     "metadata": {},
     "output_type": "execute_result"
    }
   ],
   "source": [
    "e[0].display(X_iso_I.frame(), X_iso_I)"
   ]
  },
  {
   "cell_type": "code",
   "execution_count": 129,
   "metadata": {
    "collapsed": false
   },
   "outputs": [
    {
     "data": {
      "text/html": [
       "<html><script type=\"math/tex; mode=display\">\\newcommand{\\Bold}[1]{\\mathbf{#1}}e_1 = \\left( \\frac{4 \\, {\\bar{r}}^{2}}{m^{2} + 4 \\, m {\\bar{r}} + 4 \\, {\\bar{r}}^{2}} \\right) \\frac{\\partial}{\\partial {\\bar{r}} }</script></html>"
      ],
      "text/plain": [
       "e_1 = 4*ri^2/(m^2 + 4*m*ri + 4*ri^2) d/dri"
      ]
     },
     "execution_count": 129,
     "metadata": {},
     "output_type": "execute_result"
    }
   ],
   "source": [
    "e[1].display(X_iso_I.frame(), X_iso_I)"
   ]
  },
  {
   "cell_type": "code",
   "execution_count": 130,
   "metadata": {
    "collapsed": false
   },
   "outputs": [
    {
     "data": {
      "text/html": [
       "<html><script type=\"math/tex; mode=display\">\\newcommand{\\Bold}[1]{\\mathbf{#1}}e_2 = \\left( \\frac{4 \\, {\\bar{r}}}{m^{2} + 4 \\, m {\\bar{r}} + 4 \\, {\\bar{r}}^{2}} \\right) \\frac{\\partial}{\\partial {\\theta} }</script></html>"
      ],
      "text/plain": [
       "e_2 = 4*ri/(m^2 + 4*m*ri + 4*ri^2) d/dth"
      ]
     },
     "execution_count": 130,
     "metadata": {},
     "output_type": "execute_result"
    }
   ],
   "source": [
    "e[2].display(X_iso_I.frame(), X_iso_I)"
   ]
  },
  {
   "cell_type": "code",
   "execution_count": 131,
   "metadata": {
    "collapsed": false
   },
   "outputs": [
    {
     "data": {
      "text/html": [
       "<html><script type=\"math/tex; mode=display\">\\newcommand{\\Bold}[1]{\\mathbf{#1}}e_3 = \\frac{4 \\, {\\bar{r}}}{{\\left(m^{2} + 4 \\, m {\\bar{r}} + 4 \\, {\\bar{r}}^{2}\\right)} \\sin\\left({\\theta}\\right)} \\frac{\\partial}{\\partial {\\varphi} }</script></html>"
      ],
      "text/plain": [
       "e_3 = 4*ri/((m^2 + 4*m*ri + 4*ri^2)*sin(th)) d/dph"
      ]
     },
     "execution_count": 131,
     "metadata": {},
     "output_type": "execute_result"
    }
   ],
   "source": [
    "e[3].display(X_iso_I.frame(), X_iso_I)"
   ]
  },
  {
   "cell_type": "code",
   "execution_count": null,
   "metadata": {
    "collapsed": false
   },
   "outputs": [],
   "source": []
  }
 ],
 "metadata": {
  "kernelspec": {
   "display_name": "SageMath 7.4.beta1",
   "language": "",
   "name": "sagemath"
  },
  "language": "python",
  "language_info": {
   "codemirror_mode": {
    "name": "ipython",
    "version": 2
   },
   "file_extension": ".py",
   "mimetype": "text/x-python",
   "name": "python",
   "nbconvert_exporter": "python",
   "pygments_lexer": "ipython2",
   "version": "2.7.10"
  }
 },
 "nbformat": 4,
 "nbformat_minor": 0
}
