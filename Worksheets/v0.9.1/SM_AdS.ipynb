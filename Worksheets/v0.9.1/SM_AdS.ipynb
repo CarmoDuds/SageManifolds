{
 "cells": [
  {
   "cell_type": "markdown",
   "metadata": {},
   "source": [
    "# Anti-de Sitter spacetime\n",
    "\n",
    "This worksheet demonstrates a few capabilities of [SageManifolds](http://sagemanifolds.obspm.fr) (version 0.9.1) in computations regarding anti-de Sitter spacetime.\n",
    "\n",
    "Click [here](https://raw.githubusercontent.com/sagemanifolds/SageManifolds/master/Worksheets/v0.9.1/SM_AdS.ipynb) to download the worksheet file (ipynb format). To run it, you must start SageMath within the Jupyter notebook, via the command `sage -n jupyter`"
   ]
  },
  {
   "cell_type": "markdown",
   "metadata": {},
   "source": [
    "First we set up the notebook to display mathematical objects using LaTeX formatting:"
   ]
  },
  {
   "cell_type": "code",
   "execution_count": 1,
   "metadata": {
    "collapsed": true
   },
   "outputs": [],
   "source": [
    "%display latex"
   ]
  },
  {
   "cell_type": "markdown",
   "metadata": {},
   "source": [
    "We also define a viewer for 3D plots (use `'jmol'` for interactive 3D graphics):"
   ]
  },
  {
   "cell_type": "code",
   "execution_count": 2,
   "metadata": {
    "collapsed": true
   },
   "outputs": [],
   "source": [
    "viewer3D = 'tachyon' # must be 'jmol', 'tachyon' or None (default)"
   ]
  },
  {
   "cell_type": "markdown",
   "metadata": {},
   "source": [
    "## Spacetime manifold\n",
    "\n",
    "We declare the anti-de Sitter spacetime as a 4-dimensional differentiable manifold:"
   ]
  },
  {
   "cell_type": "code",
   "execution_count": 3,
   "metadata": {
    "collapsed": false
   },
   "outputs": [
    {
     "name": "stdout",
     "output_type": "stream",
     "text": [
      "4-dimensional differentiable manifold M\n"
     ]
    },
    {
     "data": {
      "text/html": [
       "<html><script type=\"math/tex; mode=display\">\\newcommand{\\Bold}[1]{\\mathbf{#1}}\\mathcal{M}</script></html>"
      ],
      "text/plain": [
       "4-dimensional differentiable manifold M"
      ]
     },
     "execution_count": 3,
     "metadata": {},
     "output_type": "execute_result"
    }
   ],
   "source": [
    "M = Manifold(4, 'M', r'\\mathcal{M}')\n",
    "print(M) ; M"
   ]
  },
  {
   "cell_type": "markdown",
   "metadata": {},
   "source": [
    "<p>We consider hyperbolic coordinates $(\\tau,\\rho,\\theta,\\phi)$ on $\\mathcal{M}$. Allowing for the standard coordinate singularities at $\\rho=0$, $\\theta=0$ or $\\theta=\\pi$, these coordinates cover the entire spacetime manifold (which is topologically $\\mathbb{R}^4$). If we restrict ourselves to <em>regular</em> coordinates (i.e. to considering only mathematically well defined charts), the hyperbolic coordinates cover only an open part of $\\mathcal{M}$, which we call $\\mathcal{M}_0$, on which $\\rho$ spans the open interval $(0,+\\infty)$, $\\theta$ the open interval $(0,\\pi)$ and $\\phi$ the open interval $(0,2\\pi)$. Therefore, we declare:</p>"
   ]
  },
  {
   "cell_type": "code",
   "execution_count": 4,
   "metadata": {
    "collapsed": false
   },
   "outputs": [
    {
     "name": "stdout",
     "output_type": "stream",
     "text": [
      "Chart (M_0, (ta, rh, th, ph))\n"
     ]
    },
    {
     "data": {
      "text/html": [
       "<html><script type=\"math/tex; mode=display\">\\newcommand{\\Bold}[1]{\\mathbf{#1}}\\left(\\mathcal{M}_0,({\\tau}, {\\rho}, {\\theta}, {\\phi})\\right)</script></html>"
      ],
      "text/plain": [
       "Chart (M_0, (ta, rh, th, ph))"
      ]
     },
     "execution_count": 4,
     "metadata": {},
     "output_type": "execute_result"
    }
   ],
   "source": [
    "M0 = M.open_subset('M_0', r'\\mathcal{M}_0' )\n",
    "X_hyp.<ta,rh,th,ph> = M0.chart(r'ta:\\tau rh:(0,+oo):\\rho th:(0,pi):\\theta ph:(0,2*pi):\\phi')\n",
    "print(X_hyp) ; X_hyp"
   ]
  },
  {
   "cell_type": "markdown",
   "metadata": {},
   "source": [
    "<h2>$\\mathbb{R}^5$ as an ambient space</h2>\n",
    "<p>The AdS metric can be defined as that induced by the immersion of $\\mathcal{M}$ in $\\mathbb{R}^5$ equipped with a flat pseudo-Riemannian metric of signature $(-,-,+,+,+)$. We therefore introduce $\\mathbb{R}^5$ as a 5-dimensional manifold covered by canonical coordinates:</p>"
   ]
  },
  {
   "cell_type": "code",
   "execution_count": 5,
   "metadata": {
    "collapsed": false
   },
   "outputs": [
    {
     "name": "stdout",
     "output_type": "stream",
     "text": [
      "Chart (R5, (U, V, X, Y, Z))\n"
     ]
    },
    {
     "data": {
      "text/html": [
       "<html><script type=\"math/tex; mode=display\">\\newcommand{\\Bold}[1]{\\mathbf{#1}}\\left(\\mathbb{R}^5,(U, V, X, Y, Z)\\right)</script></html>"
      ],
      "text/plain": [
       "Chart (R5, (U, V, X, Y, Z))"
      ]
     },
     "execution_count": 5,
     "metadata": {},
     "output_type": "execute_result"
    }
   ],
   "source": [
    "R5 = Manifold(5, 'R5', r'\\mathbb{R}^5')\n",
    "X5.<U,V,X,Y,Z> = R5.chart()\n",
    "print(X5) ; X5"
   ]
  },
  {
   "cell_type": "markdown",
   "metadata": {},
   "source": [
    "<p>The AdS immersion into $\\mathbb{R}^5$ is defined as a differential map $\\Phi$ from $\\mathcal{M}$ to $\\mathbb{R}^5$, by providing its expression in terms of $\\mathcal{M}$'s default chart (which is X_hyp = $(\\mathcal{M}_0,(\\tau,\\rho,\\theta,\\phi))$ ) and $\\mathbb{R}^5$'s default chart (which is X5 = $(\\mathbb{R}^5,(U,V,X,Y,Z))$ ):</p>"
   ]
  },
  {
   "cell_type": "code",
   "execution_count": 6,
   "metadata": {
    "collapsed": false
   },
   "outputs": [
    {
     "name": "stdout",
     "output_type": "stream",
     "text": [
      "Differentiable map Phi from the 4-dimensional differentiable manifold M to the 5-dimensional differentiable manifold R5\n"
     ]
    },
    {
     "data": {
      "text/html": [
       "<html><script type=\"math/tex; mode=display\">\\newcommand{\\Bold}[1]{\\mathbf{#1}}\\begin{array}{llcl} \\Phi:& \\mathcal{M} & \\longrightarrow & \\mathbb{R}^5 \\\\ \\mbox{on}\\ \\mathcal{M}_0 : & \\left({\\tau}, {\\rho}, {\\theta}, {\\phi}\\right) & \\longmapsto & \\left(U, V, X, Y, Z\\right) = \\left(\\frac{\\cosh\\left({\\rho}\\right) \\sin\\left(b {\\tau}\\right)}{b}, \\frac{\\cos\\left(b {\\tau}\\right) \\cosh\\left({\\rho}\\right)}{b}, \\frac{\\cos\\left({\\phi}\\right) \\sin\\left({\\theta}\\right) \\sinh\\left({\\rho}\\right)}{b}, \\frac{\\sin\\left({\\phi}\\right) \\sin\\left({\\theta}\\right) \\sinh\\left({\\rho}\\right)}{b}, \\frac{\\cos\\left({\\theta}\\right) \\sinh\\left({\\rho}\\right)}{b}\\right) \\end{array}</script></html>"
      ],
      "text/plain": [
       "Phi: M --> R5\n",
       "on M_0: (ta, rh, th, ph) |--> (U, V, X, Y, Z) = (cosh(rh)*sin(b*ta)/b, cos(b*ta)*cosh(rh)/b, cos(ph)*sin(th)*sinh(rh)/b, sin(ph)*sin(th)*sinh(rh)/b, cos(th)*sinh(rh)/b)"
      ]
     },
     "execution_count": 6,
     "metadata": {},
     "output_type": "execute_result"
    }
   ],
   "source": [
    "var('b', domain='real')\n",
    "assume(b>0)\n",
    "Phi = M.diff_map(R5, [sin(b*ta)/b * cosh(rh),\n",
    "                      cos(b*ta)/b * cosh(rh),\n",
    "                      sinh(rh)/b *sin(th)*cos(ph),\n",
    "                      sinh(rh)/b *sin(th)*sin(ph),\n",
    "                      sinh(rh)/b *cos(th)],\n",
    "                 name='Phi', latex_name=r'\\Phi')\n",
    "print(Phi) ; Phi.display()"
   ]
  },
  {
   "cell_type": "markdown",
   "metadata": {},
   "source": [
    "<p>The constant $b$ is a scale parameter. Considering AdS metric as a solution of vacuum Einstein equation with negative cosmological constant $\\Lambda$, one has $b = \\sqrt{-\\Lambda/3}$. </p>\n",
    "<p>Let us evaluate the image of a point via the map $\\Phi$:</p>"
   ]
  },
  {
   "cell_type": "code",
   "execution_count": 7,
   "metadata": {
    "collapsed": false
   },
   "outputs": [
    {
     "name": "stdout",
     "output_type": "stream",
     "text": [
      "Point p on the 4-dimensional differentiable manifold M\n"
     ]
    }
   ],
   "source": [
    "p = M.point((ta, rh, th, ph), name='p') ; print(p)"
   ]
  },
  {
   "cell_type": "code",
   "execution_count": 8,
   "metadata": {
    "collapsed": false
   },
   "outputs": [
    {
     "data": {
      "text/html": [
       "<html><script type=\"math/tex; mode=display\">\\newcommand{\\Bold}[1]{\\mathbf{#1}}\\left({\\tau}, {\\rho}, {\\theta}, {\\phi}\\right)</script></html>"
      ],
      "text/plain": [
       "(ta, rh, th, ph)"
      ]
     },
     "execution_count": 8,
     "metadata": {},
     "output_type": "execute_result"
    }
   ],
   "source": [
    "p.coord()"
   ]
  },
  {
   "cell_type": "code",
   "execution_count": 9,
   "metadata": {
    "collapsed": false
   },
   "outputs": [
    {
     "name": "stdout",
     "output_type": "stream",
     "text": [
      "Point Phi(p) on the 5-dimensional differentiable manifold R5\n"
     ]
    }
   ],
   "source": [
    "q = Phi(p) ; print(q)"
   ]
  },
  {
   "cell_type": "code",
   "execution_count": 10,
   "metadata": {
    "collapsed": false
   },
   "outputs": [
    {
     "data": {
      "text/html": [
       "<html><script type=\"math/tex; mode=display\">\\newcommand{\\Bold}[1]{\\mathbf{#1}}\\left(\\frac{\\cosh\\left({\\rho}\\right) \\sin\\left(b {\\tau}\\right)}{b}, \\frac{\\cos\\left(b {\\tau}\\right) \\cosh\\left({\\rho}\\right)}{b}, \\frac{\\cos\\left({\\phi}\\right) \\sin\\left({\\theta}\\right) \\sinh\\left({\\rho}\\right)}{b}, \\frac{\\sin\\left({\\phi}\\right) \\sin\\left({\\theta}\\right) \\sinh\\left({\\rho}\\right)}{b}, \\frac{\\cos\\left({\\theta}\\right) \\sinh\\left({\\rho}\\right)}{b}\\right)</script></html>"
      ],
      "text/plain": [
       "(cosh(rh)*sin(b*ta)/b,\n",
       " cos(b*ta)*cosh(rh)/b,\n",
       " cos(ph)*sin(th)*sinh(rh)/b,\n",
       " sin(ph)*sin(th)*sinh(rh)/b,\n",
       " cos(th)*sinh(rh)/b)"
      ]
     },
     "execution_count": 10,
     "metadata": {},
     "output_type": "execute_result"
    }
   ],
   "source": [
    "q.coord()"
   ]
  },
  {
   "cell_type": "markdown",
   "metadata": {},
   "source": [
    "<p>The image of $\\mathcal{M}$ by the immersion $\\Phi$ is a hyperboloid of one sheet, of equation $-U^2-V^2+X^2+Y^2+Z^2=-b^{-2}$. Indeed:</p>"
   ]
  },
  {
   "cell_type": "code",
   "execution_count": 11,
   "metadata": {
    "collapsed": false
   },
   "outputs": [
    {
     "data": {
      "text/html": [
       "<html><script type=\"math/tex; mode=display\">\\newcommand{\\Bold}[1]{\\mathbf{#1}}-\\frac{1}{b^{2}}</script></html>"
      ],
      "text/plain": [
       "-1/b^2"
      ]
     },
     "execution_count": 11,
     "metadata": {},
     "output_type": "execute_result"
    }
   ],
   "source": [
    "(Uq,Vq,Xq,Yq,Zq) = q.coord()\n",
    "s = - Uq^2 - Vq^2 + Xq^2 + Yq^2 + Zq^2\n",
    "s.simplify_full()"
   ]
  },
  {
   "cell_type": "markdown",
   "metadata": {},
   "source": [
    "<p>We may use the immersion $\\Phi$ to draw the coordinate grid $(\\tau,\\rho)$ in terms of the coordinates $(U,V,X)$ for $\\theta=\\pi/2$ and $\\phi=0$ (red) and $\\theta=\\pi/2$ and $\\phi=\\pi$ (green) (the brown lines are the lines $\\tau={\\rm const}$):</p>"
   ]
  },
  {
   "cell_type": "code",
   "execution_count": 12,
   "metadata": {
    "collapsed": false
   },
   "outputs": [
    {
     "data": {
      "image/png": "[encoded data removed]",
      "text/plain": [
       "Graphics3d Object"
      ]
     },
     "metadata": {},
     "output_type": "display_data"
    }
   ],
   "source": [
    "graph1 = X_hyp.plot(X5, mapping=Phi, ambient_coords=(V,X,U), fixed_coords={th:pi/2, ph:0}, \n",
    "                    ranges={ta:(0,2*pi), rh:(0,2)}, nb_values=9, color={ta:'red', rh:'brown'},\n",
    "                    thickness=2, parameters={b:1}, label_axes=False)\n",
    "graph2 = X_hyp.plot(X5, mapping=Phi, ambient_coords=(V,X,U), fixed_coords={th:pi/2, ph:pi},\n",
    "                    ranges={ta:(0,2*pi), rh:(0,2)}, nb_values=9, color={ta:'green', rh:'brown'},\n",
    "                    thickness=2, parameters={b:1}, label_axes=False)\n",
    "from sage.manifolds.utilities import set_axes_labels\n",
    "show(set_axes_labels(graph1+graph2,'V','X','U'), aspect_ratio=1, viewer=viewer3D)"
   ]
  },
  {
   "cell_type": "markdown",
   "metadata": {},
   "source": [
    "<h2>Spacetime metric</h2>\n",
    "<p>First, we introduce on $\\mathbb{R}^5$ the flat pseudo-Riemannian metric $h$ of signature $(-,-,+,+,+)$:</p>"
   ]
  },
  {
   "cell_type": "code",
   "execution_count": 13,
   "metadata": {
    "collapsed": false
   },
   "outputs": [
    {
     "data": {
      "text/html": [
       "<html><script type=\"math/tex; mode=display\">\\newcommand{\\Bold}[1]{\\mathbf{#1}}h = -\\mathrm{d} U\\otimes \\mathrm{d} U-\\mathrm{d} V\\otimes \\mathrm{d} V+\\mathrm{d} X\\otimes \\mathrm{d} X+\\mathrm{d} Y\\otimes \\mathrm{d} Y+\\mathrm{d} Z\\otimes \\mathrm{d} Z</script></html>"
      ],
      "text/plain": [
       "h = -dU*dU - dV*dV + dX*dX + dY*dY + dZ*dZ"
      ]
     },
     "execution_count": 13,
     "metadata": {},
     "output_type": "execute_result"
    }
   ],
   "source": [
    "h = R5.metric('h', signature=1)\n",
    "h[0,0], h[1,1], h[2,2], h[3,3], h[4,4] = -1, -1, 1, 1, 1\n",
    "h.display()"
   ]
  },
  {
   "cell_type": "markdown",
   "metadata": {},
   "source": [
    "<p>As mentionned above, the AdS metric $g$ on $\\mathcal{M}$ is that induced by $h$, i.e.$g$ is the pullback of $h$ by the map $\\Phi$:</p>"
   ]
  },
  {
   "cell_type": "code",
   "execution_count": 14,
   "metadata": {
    "collapsed": false
   },
   "outputs": [],
   "source": [
    "g = M.lorentzian_metric('g')\n",
    "g.set( Phi.pullback(h) )"
   ]
  },
  {
   "cell_type": "markdown",
   "metadata": {},
   "source": [
    "<p>The expression of $g$ in terms of $\\mathcal{M}$'s default frame is found to be</p>"
   ]
  },
  {
   "cell_type": "code",
   "execution_count": 15,
   "metadata": {
    "collapsed": false
   },
   "outputs": [
    {
     "data": {
      "text/html": [
       "<html><script type=\"math/tex; mode=display\">\\newcommand{\\Bold}[1]{\\mathbf{#1}}g = -\\cosh\\left({\\rho}\\right)^{2} \\mathrm{d} {\\tau}\\otimes \\mathrm{d} {\\tau} + \\frac{1}{b^{2}} \\mathrm{d} {\\rho}\\otimes \\mathrm{d} {\\rho} + \\frac{\\sinh\\left({\\rho}\\right)^{2}}{b^{2}} \\mathrm{d} {\\theta}\\otimes \\mathrm{d} {\\theta} + \\frac{\\sin\\left({\\theta}\\right)^{2} \\sinh\\left({\\rho}\\right)^{2}}{b^{2}} \\mathrm{d} {\\phi}\\otimes \\mathrm{d} {\\phi}</script></html>"
      ],
      "text/plain": [
       "g = -cosh(rh)^2 dta*dta + b^(-2) drh*drh + sinh(rh)^2/b^2 dth*dth + sin(th)^2*sinh(rh)^2/b^2 dph*dph"
      ]
     },
     "execution_count": 15,
     "metadata": {},
     "output_type": "execute_result"
    }
   ],
   "source": [
    "g.display()"
   ]
  },
  {
   "cell_type": "code",
   "execution_count": 16,
   "metadata": {
    "collapsed": false
   },
   "outputs": [
    {
     "data": {
      "text/html": [
       "<html><script type=\"math/tex; mode=display\">\\newcommand{\\Bold}[1]{\\mathbf{#1}}\\left(\\begin{array}{rrrr}\n",
       "-\\cosh\\left({\\rho}\\right)^{2} & 0 & 0 & 0 \\\\\n",
       "0 & \\frac{1}{b^{2}} & 0 & 0 \\\\\n",
       "0 & 0 & \\frac{\\sinh\\left({\\rho}\\right)^{2}}{b^{2}} & 0 \\\\\n",
       "0 & 0 & 0 & \\frac{\\sin\\left({\\theta}\\right)^{2} \\sinh\\left({\\rho}\\right)^{2}}{b^{2}}\n",
       "\\end{array}\\right)</script></html>"
      ],
      "text/plain": [
       "[             -cosh(rh)^2                        0                        0                        0]\n",
       "[                       0                   b^(-2)                        0                        0]\n",
       "[                       0                        0           sinh(rh)^2/b^2                        0]\n",
       "[                       0                        0                        0 sin(th)^2*sinh(rh)^2/b^2]"
      ]
     },
     "execution_count": 16,
     "metadata": {},
     "output_type": "execute_result"
    }
   ],
   "source": [
    "g[:]"
   ]
  },
  {
   "cell_type": "markdown",
   "metadata": {},
   "source": [
    "<h2>Curvature</h2>\n",
    "<p>The Riemann tensor of $g$ is</p>"
   ]
  },
  {
   "cell_type": "code",
   "execution_count": 17,
   "metadata": {
    "collapsed": false
   },
   "outputs": [
    {
     "name": "stdout",
     "output_type": "stream",
     "text": [
      "Tensor field Riem(g) of type (1,3) on the 4-dimensional differentiable manifold M\n"
     ]
    },
    {
     "data": {
      "text/html": [
       "<html><script type=\"math/tex; mode=display\">\\newcommand{\\Bold}[1]{\\mathbf{#1}}\\mathrm{Riem}\\left(g\\right) = -\\frac{\\partial}{\\partial {\\tau} }\\otimes \\mathrm{d} {\\rho}\\otimes \\mathrm{d} {\\tau}\\otimes \\mathrm{d} {\\rho}+\\frac{\\partial}{\\partial {\\tau} }\\otimes \\mathrm{d} {\\rho}\\otimes \\mathrm{d} {\\rho}\\otimes \\mathrm{d} {\\tau} -\\sinh\\left({\\rho}\\right)^{2} \\frac{\\partial}{\\partial {\\tau} }\\otimes \\mathrm{d} {\\theta}\\otimes \\mathrm{d} {\\tau}\\otimes \\mathrm{d} {\\theta} + \\sinh\\left({\\rho}\\right)^{2} \\frac{\\partial}{\\partial {\\tau} }\\otimes \\mathrm{d} {\\theta}\\otimes \\mathrm{d} {\\theta}\\otimes \\mathrm{d} {\\tau} -\\sin\\left({\\theta}\\right)^{2} \\sinh\\left({\\rho}\\right)^{2} \\frac{\\partial}{\\partial {\\tau} }\\otimes \\mathrm{d} {\\phi}\\otimes \\mathrm{d} {\\tau}\\otimes \\mathrm{d} {\\phi} + \\sin\\left({\\theta}\\right)^{2} \\sinh\\left({\\rho}\\right)^{2} \\frac{\\partial}{\\partial {\\tau} }\\otimes \\mathrm{d} {\\phi}\\otimes \\mathrm{d} {\\phi}\\otimes \\mathrm{d} {\\tau} -b^{2} \\cosh\\left({\\rho}\\right)^{2} \\frac{\\partial}{\\partial {\\rho} }\\otimes \\mathrm{d} {\\tau}\\otimes \\mathrm{d} {\\tau}\\otimes \\mathrm{d} {\\rho} + b^{2} \\cosh\\left({\\rho}\\right)^{2} \\frac{\\partial}{\\partial {\\rho} }\\otimes \\mathrm{d} {\\tau}\\otimes \\mathrm{d} {\\rho}\\otimes \\mathrm{d} {\\tau} -\\sinh\\left({\\rho}\\right)^{2} \\frac{\\partial}{\\partial {\\rho} }\\otimes \\mathrm{d} {\\theta}\\otimes \\mathrm{d} {\\rho}\\otimes \\mathrm{d} {\\theta} + \\sinh\\left({\\rho}\\right)^{2} \\frac{\\partial}{\\partial {\\rho} }\\otimes \\mathrm{d} {\\theta}\\otimes \\mathrm{d} {\\theta}\\otimes \\mathrm{d} {\\rho} -\\sin\\left({\\theta}\\right)^{2} \\sinh\\left({\\rho}\\right)^{2} \\frac{\\partial}{\\partial {\\rho} }\\otimes \\mathrm{d} {\\phi}\\otimes \\mathrm{d} {\\rho}\\otimes \\mathrm{d} {\\phi} + \\sin\\left({\\theta}\\right)^{2} \\sinh\\left({\\rho}\\right)^{2} \\frac{\\partial}{\\partial {\\rho} }\\otimes \\mathrm{d} {\\phi}\\otimes \\mathrm{d} {\\phi}\\otimes \\mathrm{d} {\\rho} -b^{2} \\cosh\\left({\\rho}\\right)^{2} \\frac{\\partial}{\\partial {\\theta} }\\otimes \\mathrm{d} {\\tau}\\otimes \\mathrm{d} {\\tau}\\otimes \\mathrm{d} {\\theta} + b^{2} \\cosh\\left({\\rho}\\right)^{2} \\frac{\\partial}{\\partial {\\theta} }\\otimes \\mathrm{d} {\\tau}\\otimes \\mathrm{d} {\\theta}\\otimes \\mathrm{d} {\\tau} +\\frac{\\partial}{\\partial {\\theta} }\\otimes \\mathrm{d} {\\rho}\\otimes \\mathrm{d} {\\rho}\\otimes \\mathrm{d} {\\theta} -\\frac{\\partial}{\\partial {\\theta} }\\otimes \\mathrm{d} {\\rho}\\otimes \\mathrm{d} {\\theta}\\otimes \\mathrm{d} {\\rho} -\\sin\\left({\\theta}\\right)^{2} \\sinh\\left({\\rho}\\right)^{2} \\frac{\\partial}{\\partial {\\theta} }\\otimes \\mathrm{d} {\\phi}\\otimes \\mathrm{d} {\\theta}\\otimes \\mathrm{d} {\\phi} + \\sin\\left({\\theta}\\right)^{2} \\sinh\\left({\\rho}\\right)^{2} \\frac{\\partial}{\\partial {\\theta} }\\otimes \\mathrm{d} {\\phi}\\otimes \\mathrm{d} {\\phi}\\otimes \\mathrm{d} {\\theta} -b^{2} \\cosh\\left({\\rho}\\right)^{2} \\frac{\\partial}{\\partial {\\phi} }\\otimes \\mathrm{d} {\\tau}\\otimes \\mathrm{d} {\\tau}\\otimes \\mathrm{d} {\\phi} + b^{2} \\cosh\\left({\\rho}\\right)^{2} \\frac{\\partial}{\\partial {\\phi} }\\otimes \\mathrm{d} {\\tau}\\otimes \\mathrm{d} {\\phi}\\otimes \\mathrm{d} {\\tau} +\\frac{\\partial}{\\partial {\\phi} }\\otimes \\mathrm{d} {\\rho}\\otimes \\mathrm{d} {\\rho}\\otimes \\mathrm{d} {\\phi} -\\frac{\\partial}{\\partial {\\phi} }\\otimes \\mathrm{d} {\\rho}\\otimes \\mathrm{d} {\\phi}\\otimes \\mathrm{d} {\\rho} + \\sinh\\left({\\rho}\\right)^{2} \\frac{\\partial}{\\partial {\\phi} }\\otimes \\mathrm{d} {\\theta}\\otimes \\mathrm{d} {\\theta}\\otimes \\mathrm{d} {\\phi} -\\sinh\\left({\\rho}\\right)^{2} \\frac{\\partial}{\\partial {\\phi} }\\otimes \\mathrm{d} {\\theta}\\otimes \\mathrm{d} {\\phi}\\otimes \\mathrm{d} {\\theta}</script></html>"
      ],
      "text/plain": [
       "Riem(g) = -d/dta*drh*dta*drh + d/dta*drh*drh*dta - sinh(rh)^2 d/dta*dth*dta*dth + sinh(rh)^2 d/dta*dth*dth*dta - sin(th)^2*sinh(rh)^2 d/dta*dph*dta*dph + sin(th)^2*sinh(rh)^2 d/dta*dph*dph*dta - b^2*cosh(rh)^2 d/drh*dta*dta*drh + b^2*cosh(rh)^2 d/drh*dta*drh*dta - sinh(rh)^2 d/drh*dth*drh*dth + sinh(rh)^2 d/drh*dth*dth*drh - sin(th)^2*sinh(rh)^2 d/drh*dph*drh*dph + sin(th)^2*sinh(rh)^2 d/drh*dph*dph*drh - b^2*cosh(rh)^2 d/dth*dta*dta*dth + b^2*cosh(rh)^2 d/dth*dta*dth*dta + d/dth*drh*drh*dth - d/dth*drh*dth*drh - sin(th)^2*sinh(rh)^2 d/dth*dph*dth*dph + sin(th)^2*sinh(rh)^2 d/dth*dph*dph*dth - b^2*cosh(rh)^2 d/dph*dta*dta*dph + b^2*cosh(rh)^2 d/dph*dta*dph*dta + d/dph*drh*drh*dph - d/dph*drh*dph*drh + sinh(rh)^2 d/dph*dth*dth*dph - sinh(rh)^2 d/dph*dth*dph*dth"
      ]
     },
     "execution_count": 17,
     "metadata": {},
     "output_type": "execute_result"
    }
   ],
   "source": [
    "Riem = g.riemann()\n",
    "print(Riem)\n",
    "Riem.display()"
   ]
  },
  {
   "cell_type": "code",
   "execution_count": 18,
   "metadata": {
    "collapsed": false
   },
   "outputs": [
    {
     "data": {
      "text/html": [
       "<html><script type=\"math/tex; mode=display\">\\newcommand{\\Bold}[1]{\\mathbf{#1}}\\begin{array}{lcl} \\mathrm{Riem}\\left(g\\right)_{ \\phantom{\\, {\\tau}} \\, {\\rho} \\, {\\tau} \\, {\\rho} }^{ \\, {\\tau} \\phantom{\\, {\\rho}} \\phantom{\\, {\\tau}} \\phantom{\\, {\\rho}} } & = & -1 \\\\ \\mathrm{Riem}\\left(g\\right)_{ \\phantom{\\, {\\tau}} \\, {\\theta} \\, {\\tau} \\, {\\theta} }^{ \\, {\\tau} \\phantom{\\, {\\theta}} \\phantom{\\, {\\tau}} \\phantom{\\, {\\theta}} } & = & -\\sinh\\left({\\rho}\\right)^{2} \\\\ \\mathrm{Riem}\\left(g\\right)_{ \\phantom{\\, {\\tau}} \\, {\\phi} \\, {\\tau} \\, {\\phi} }^{ \\, {\\tau} \\phantom{\\, {\\phi}} \\phantom{\\, {\\tau}} \\phantom{\\, {\\phi}} } & = & -\\sin\\left({\\theta}\\right)^{2} \\sinh\\left({\\rho}\\right)^{2} \\\\ \\mathrm{Riem}\\left(g\\right)_{ \\phantom{\\, {\\rho}} \\, {\\tau} \\, {\\tau} \\, {\\rho} }^{ \\, {\\rho} \\phantom{\\, {\\tau}} \\phantom{\\, {\\tau}} \\phantom{\\, {\\rho}} } & = & -b^{2} \\cosh\\left({\\rho}\\right)^{2} \\\\ \\mathrm{Riem}\\left(g\\right)_{ \\phantom{\\, {\\rho}} \\, {\\theta} \\, {\\rho} \\, {\\theta} }^{ \\, {\\rho} \\phantom{\\, {\\theta}} \\phantom{\\, {\\rho}} \\phantom{\\, {\\theta}} } & = & -\\sinh\\left({\\rho}\\right)^{2} \\\\ \\mathrm{Riem}\\left(g\\right)_{ \\phantom{\\, {\\rho}} \\, {\\phi} \\, {\\rho} \\, {\\phi} }^{ \\, {\\rho} \\phantom{\\, {\\phi}} \\phantom{\\, {\\rho}} \\phantom{\\, {\\phi}} } & = & -\\sin\\left({\\theta}\\right)^{2} \\sinh\\left({\\rho}\\right)^{2} \\\\ \\mathrm{Riem}\\left(g\\right)_{ \\phantom{\\, {\\theta}} \\, {\\tau} \\, {\\tau} \\, {\\theta} }^{ \\, {\\theta} \\phantom{\\, {\\tau}} \\phantom{\\, {\\tau}} \\phantom{\\, {\\theta}} } & = & -b^{2} \\cosh\\left({\\rho}\\right)^{2} \\\\ \\mathrm{Riem}\\left(g\\right)_{ \\phantom{\\, {\\theta}} \\, {\\rho} \\, {\\rho} \\, {\\theta} }^{ \\, {\\theta} \\phantom{\\, {\\rho}} \\phantom{\\, {\\rho}} \\phantom{\\, {\\theta}} } & = & 1 \\\\ \\mathrm{Riem}\\left(g\\right)_{ \\phantom{\\, {\\theta}} \\, {\\phi} \\, {\\theta} \\, {\\phi} }^{ \\, {\\theta} \\phantom{\\, {\\phi}} \\phantom{\\, {\\theta}} \\phantom{\\, {\\phi}} } & = & -\\sin\\left({\\theta}\\right)^{2} \\sinh\\left({\\rho}\\right)^{2} \\\\ \\mathrm{Riem}\\left(g\\right)_{ \\phantom{\\, {\\phi}} \\, {\\tau} \\, {\\tau} \\, {\\phi} }^{ \\, {\\phi} \\phantom{\\, {\\tau}} \\phantom{\\, {\\tau}} \\phantom{\\, {\\phi}} } & = & -b^{2} \\cosh\\left({\\rho}\\right)^{2} \\\\ \\mathrm{Riem}\\left(g\\right)_{ \\phantom{\\, {\\phi}} \\, {\\rho} \\, {\\rho} \\, {\\phi} }^{ \\, {\\phi} \\phantom{\\, {\\rho}} \\phantom{\\, {\\rho}} \\phantom{\\, {\\phi}} } & = & 1 \\\\ \\mathrm{Riem}\\left(g\\right)_{ \\phantom{\\, {\\phi}} \\, {\\theta} \\, {\\theta} \\, {\\phi} }^{ \\, {\\phi} \\phantom{\\, {\\theta}} \\phantom{\\, {\\theta}} \\phantom{\\, {\\phi}} } & = & \\sinh\\left({\\rho}\\right)^{2} \\end{array}</script></html>"
      ],
      "text/plain": [
       "Riem(g)^ta_rh,ta,rh = -1 \n",
       "Riem(g)^ta_th,ta,th = -sinh(rh)^2 \n",
       "Riem(g)^ta_ph,ta,ph = -sin(th)^2*sinh(rh)^2 \n",
       "Riem(g)^rh_ta,ta,rh = -b^2*cosh(rh)^2 \n",
       "Riem(g)^rh_th,rh,th = -sinh(rh)^2 \n",
       "Riem(g)^rh_ph,rh,ph = -sin(th)^2*sinh(rh)^2 \n",
       "Riem(g)^th_ta,ta,th = -b^2*cosh(rh)^2 \n",
       "Riem(g)^th_rh,rh,th = 1 \n",
       "Riem(g)^th_ph,th,ph = -sin(th)^2*sinh(rh)^2 \n",
       "Riem(g)^ph_ta,ta,ph = -b^2*cosh(rh)^2 \n",
       "Riem(g)^ph_rh,rh,ph = 1 \n",
       "Riem(g)^ph_th,th,ph = sinh(rh)^2 "
      ]
     },
     "execution_count": 18,
     "metadata": {},
     "output_type": "execute_result"
    }
   ],
   "source": [
    "Riem.display_comp(only_nonredundant=True)"
   ]
  },
  {
   "cell_type": "markdown",
   "metadata": {},
   "source": [
    "<p>The Ricci tensor:</p>"
   ]
  },
  {
   "cell_type": "code",
   "execution_count": 19,
   "metadata": {
    "collapsed": false
   },
   "outputs": [
    {
     "name": "stdout",
     "output_type": "stream",
     "text": [
      "Field of symmetric bilinear forms Ric(g) on the 4-dimensional differentiable manifold M\n"
     ]
    },
    {
     "data": {
      "text/html": [
       "<html><script type=\"math/tex; mode=display\">\\newcommand{\\Bold}[1]{\\mathbf{#1}}\\mathrm{Ric}\\left(g\\right) = 3 \\, b^{2} \\cosh\\left({\\rho}\\right)^{2} \\mathrm{d} {\\tau}\\otimes \\mathrm{d} {\\tau} -3 \\mathrm{d} {\\rho}\\otimes \\mathrm{d} {\\rho} -3 \\, \\sinh\\left({\\rho}\\right)^{2} \\mathrm{d} {\\theta}\\otimes \\mathrm{d} {\\theta} -3 \\, \\sin\\left({\\theta}\\right)^{2} \\sinh\\left({\\rho}\\right)^{2} \\mathrm{d} {\\phi}\\otimes \\mathrm{d} {\\phi}</script></html>"
      ],
      "text/plain": [
       "Ric(g) = 3*b^2*cosh(rh)^2 dta*dta - 3 drh*drh - 3*sinh(rh)^2 dth*dth - 3*sin(th)^2*sinh(rh)^2 dph*dph"
      ]
     },
     "execution_count": 19,
     "metadata": {},
     "output_type": "execute_result"
    }
   ],
   "source": [
    "Ric = g.ricci()\n",
    "print(Ric)\n",
    "Ric.display()"
   ]
  },
  {
   "cell_type": "code",
   "execution_count": 20,
   "metadata": {
    "collapsed": false
   },
   "outputs": [
    {
     "data": {
      "text/html": [
       "<html><script type=\"math/tex; mode=display\">\\newcommand{\\Bold}[1]{\\mathbf{#1}}\\left(\\begin{array}{rrrr}\n",
       "3 \\, b^{2} \\cosh\\left({\\rho}\\right)^{2} & 0 & 0 & 0 \\\\\n",
       "0 & -3 & 0 & 0 \\\\\n",
       "0 & 0 & -3 \\, \\sinh\\left({\\rho}\\right)^{2} & 0 \\\\\n",
       "0 & 0 & 0 & -3 \\, \\sin\\left({\\theta}\\right)^{2} \\sinh\\left({\\rho}\\right)^{2}\n",
       "\\end{array}\\right)</script></html>"
      ],
      "text/plain": [
       "[       3*b^2*cosh(rh)^2                       0                       0                       0]\n",
       "[                      0                      -3                       0                       0]\n",
       "[                      0                       0           -3*sinh(rh)^2                       0]\n",
       "[                      0                       0                       0 -3*sin(th)^2*sinh(rh)^2]"
      ]
     },
     "execution_count": 20,
     "metadata": {},
     "output_type": "execute_result"
    }
   ],
   "source": [
    "Ric[:]"
   ]
  },
  {
   "cell_type": "markdown",
   "metadata": {},
   "source": [
    "<p>The Ricci scalar:</p>"
   ]
  },
  {
   "cell_type": "code",
   "execution_count": 21,
   "metadata": {
    "collapsed": false
   },
   "outputs": [
    {
     "name": "stdout",
     "output_type": "stream",
     "text": [
      "Scalar field r(g) on the 4-dimensional differentiable manifold M\n"
     ]
    },
    {
     "data": {
      "text/html": [
       "<html><script type=\"math/tex; mode=display\">\\newcommand{\\Bold}[1]{\\mathbf{#1}}\\begin{array}{llcl} \\mathrm{r}\\left(g\\right):& \\mathcal{M} & \\longrightarrow & \\mathbb{R} \\\\ \\mbox{on}\\ \\mathcal{M}_0 : & \\left({\\tau}, {\\rho}, {\\theta}, {\\phi}\\right) & \\longmapsto & -12 \\, b^{2} \\end{array}</script></html>"
      ],
      "text/plain": [
       "r(g): M --> R\n",
       "on M_0: (ta, rh, th, ph) |--> -12*b^2"
      ]
     },
     "execution_count": 21,
     "metadata": {},
     "output_type": "execute_result"
    }
   ],
   "source": [
    "R = g.ricci_scalar()\n",
    "print(R)\n",
    "R.display()"
   ]
  },
  {
   "cell_type": "markdown",
   "metadata": {},
   "source": [
    "We recover the fact that AdS spacetime has a constant curvature. It is indeed a **maximally symmetric space**. In particular, the Riemann tensor is expressible as\n",
    "$$ R^i_{\\ \\, jlk} = \\frac{R}{n(n-1)} \\left( \\delta^i_{\\ \\, k} g_{jl} - \\delta^i_{\\ \\, l} g_{jk} \\right), $$\n",
    "where $n$ is the dimension of $\\mathcal{M}$: $n=4$ in the present case. Let us check this formula here, under the form $R^i_{\\ \\, jlk} = -\\frac{R}{6} g_{j[k} \\delta^i_{\\ \\, l]}$:"
   ]
  },
  {
   "cell_type": "code",
   "execution_count": 22,
   "metadata": {
    "collapsed": false
   },
   "outputs": [
    {
     "data": {
      "text/html": [
       "<html><script type=\"math/tex; mode=display\">\\newcommand{\\Bold}[1]{\\mathbf{#1}}\\mathrm{True}</script></html>"
      ],
      "text/plain": [
       "True"
      ]
     },
     "execution_count": 22,
     "metadata": {},
     "output_type": "execute_result"
    }
   ],
   "source": [
    "delta = M.tangent_identity_field() \n",
    "Riem == - (R/6)*(g*delta).antisymmetrize(2,3)  # 2,3 = last positions of the type-(1,3) tensor g*delta"
   ]
  },
  {
   "cell_type": "markdown",
   "metadata": {},
   "source": [
    "<p>We may also check that AdS metric is a solution of the vacuum <strong>Einstein equation</strong> with (negative) cosmological constant:</p>"
   ]
  },
  {
   "cell_type": "code",
   "execution_count": 23,
   "metadata": {
    "collapsed": false
   },
   "outputs": [
    {
     "data": {
      "text/html": [
       "<html><script type=\"math/tex; mode=display\">\\newcommand{\\Bold}[1]{\\mathbf{#1}}\\mathrm{True}</script></html>"
      ],
      "text/plain": [
       "True"
      ]
     },
     "execution_count": 23,
     "metadata": {},
     "output_type": "execute_result"
    }
   ],
   "source": [
    "Lambda = -3*b^2\n",
    "Ric - 1/2*R*g + Lambda*g == 0"
   ]
  },
  {
   "cell_type": "markdown",
   "metadata": {},
   "source": [
    "## Spherical coordinates\n",
    "Let us introduce spherical coordinates $(\\tau,r,\\theta,\\phi)$ on the AdS spacetime via the coordinate change\n",
    "$$ r = \\frac{\\sinh(\\rho)}{b} $$"
   ]
  },
  {
   "cell_type": "code",
   "execution_count": 24,
   "metadata": {
    "collapsed": false
   },
   "outputs": [
    {
     "name": "stdout",
     "output_type": "stream",
     "text": [
      "Chart (M_0, (ta, r, th, ph))\n"
     ]
    },
    {
     "data": {
      "text/html": [
       "<html><script type=\"math/tex; mode=display\">\\newcommand{\\Bold}[1]{\\mathbf{#1}}\\left(\\mathcal{M}_0,({\\tau}, r, {\\theta}, {\\phi})\\right)</script></html>"
      ],
      "text/plain": [
       "Chart (M_0, (ta, r, th, ph))"
      ]
     },
     "execution_count": 24,
     "metadata": {},
     "output_type": "execute_result"
    }
   ],
   "source": [
    "X_spher.<ta,r,th,ph> = M0.chart(r'ta:\\tau r:(0,+oo) th:(0,pi):\\theta ph:(0,2*pi):\\phi')\n",
    "print(X_spher) ; X_spher"
   ]
  },
  {
   "cell_type": "code",
   "execution_count": 25,
   "metadata": {
    "collapsed": false
   },
   "outputs": [
    {
     "data": {
      "text/html": [
       "<html><script type=\"math/tex; mode=display\">\\newcommand{\\Bold}[1]{\\mathbf{#1}}\\left\\{\\begin{array}{lcl} {\\tau} & = & {\\tau} \\\\ r & = & \\frac{\\sinh\\left({\\rho}\\right)}{b} \\\\ {\\theta} & = & {\\theta} \\\\ {\\phi} & = & {\\phi} \\end{array}\\right.</script></html>"
      ],
      "text/plain": [
       "ta = ta\n",
       "r = sinh(rh)/b\n",
       "th = th\n",
       "ph = ph"
      ]
     },
     "execution_count": 25,
     "metadata": {},
     "output_type": "execute_result"
    }
   ],
   "source": [
    "hyp_to_spher = X_hyp.transition_map(X_spher, [ta, sinh(rh)/b, th, ph])\n",
    "hyp_to_spher.display()"
   ]
  },
  {
   "cell_type": "code",
   "execution_count": 26,
   "metadata": {
    "collapsed": false
   },
   "outputs": [
    {
     "data": {
      "text/html": [
       "<html><script type=\"math/tex; mode=display\">\\newcommand{\\Bold}[1]{\\mathbf{#1}}\\left\\{\\begin{array}{lcl} {\\tau} & = & {\\tau} \\\\ {\\rho} & = & {\\rm arcsinh}\\left(b r\\right) \\\\ {\\theta} & = & {\\theta} \\\\ {\\phi} & = & {\\phi} \\end{array}\\right.</script></html>"
      ],
      "text/plain": [
       "ta = ta\n",
       "rh = arcsinh(b*r)\n",
       "th = th\n",
       "ph = ph"
      ]
     },
     "execution_count": 26,
     "metadata": {},
     "output_type": "execute_result"
    }
   ],
   "source": [
    "hyp_to_spher.set_inverse(ta, asinh(b*r), th, ph)\n",
    "spher_to_hyp = hyp_to_spher.inverse()\n",
    "spher_to_hyp.display()"
   ]
  },
  {
   "cell_type": "markdown",
   "metadata": {},
   "source": [
    "<p>The expression of the metric tensor in the new coordinates is</p>"
   ]
  },
  {
   "cell_type": "code",
   "execution_count": 27,
   "metadata": {
    "collapsed": false
   },
   "outputs": [
    {
     "data": {
      "text/html": [
       "<html><script type=\"math/tex; mode=display\">\\newcommand{\\Bold}[1]{\\mathbf{#1}}g = \\left( -b^{2} r^{2} - 1 \\right) \\mathrm{d} {\\tau}\\otimes \\mathrm{d} {\\tau} + \\left( \\frac{1}{b^{2} r^{2} + 1} \\right) \\mathrm{d} r\\otimes \\mathrm{d} r + r^{2} \\mathrm{d} {\\theta}\\otimes \\mathrm{d} {\\theta} + r^{2} \\sin\\left({\\theta}\\right)^{2} \\mathrm{d} {\\phi}\\otimes \\mathrm{d} {\\phi}</script></html>"
      ],
      "text/plain": [
       "g = (-b^2*r^2 - 1) dta*dta + 1/(b^2*r^2 + 1) dr*dr + r^2 dth*dth + r^2*sin(th)^2 dph*dph"
      ]
     },
     "execution_count": 27,
     "metadata": {},
     "output_type": "execute_result"
    }
   ],
   "source": [
    "g.display(X_spher.frame(), X_spher)"
   ]
  },
  {
   "cell_type": "markdown",
   "metadata": {},
   "source": [
    "Similarly, the expression of the Riemann tensor is"
   ]
  },
  {
   "cell_type": "code",
   "execution_count": 28,
   "metadata": {
    "collapsed": false
   },
   "outputs": [
    {
     "data": {
      "text/html": [
       "<html><script type=\"math/tex; mode=display\">\\newcommand{\\Bold}[1]{\\mathbf{#1}}\\begin{array}{lcl} \\mathrm{Riem}\\left(g\\right)_{ \\phantom{\\, {\\tau}} \\, r \\, {\\tau} \\, r }^{ \\, {\\tau} \\phantom{\\, r} \\phantom{\\, {\\tau}} \\phantom{\\, r} } & = & -\\frac{b^{2}}{b^{2} r^{2} + 1} \\\\ \\mathrm{Riem}\\left(g\\right)_{ \\phantom{\\, {\\tau}} \\, {\\theta} \\, {\\tau} \\, {\\theta} }^{ \\, {\\tau} \\phantom{\\, {\\theta}} \\phantom{\\, {\\tau}} \\phantom{\\, {\\theta}} } & = & -b^{2} r^{2} \\\\ \\mathrm{Riem}\\left(g\\right)_{ \\phantom{\\, {\\tau}} \\, {\\phi} \\, {\\tau} \\, {\\phi} }^{ \\, {\\tau} \\phantom{\\, {\\phi}} \\phantom{\\, {\\tau}} \\phantom{\\, {\\phi}} } & = & -b^{2} r^{2} \\sin\\left({\\theta}\\right)^{2} \\\\ \\mathrm{Riem}\\left(g\\right)_{ \\phantom{\\, r} \\, {\\tau} \\, {\\tau} \\, r }^{ \\, r \\phantom{\\, {\\tau}} \\phantom{\\, {\\tau}} \\phantom{\\, r} } & = & -b^{4} r^{2} - b^{2} \\\\ \\mathrm{Riem}\\left(g\\right)_{ \\phantom{\\, r} \\, {\\theta} \\, r \\, {\\theta} }^{ \\, r \\phantom{\\, {\\theta}} \\phantom{\\, r} \\phantom{\\, {\\theta}} } & = & -b^{2} r^{2} \\\\ \\mathrm{Riem}\\left(g\\right)_{ \\phantom{\\, r} \\, {\\phi} \\, r \\, {\\phi} }^{ \\, r \\phantom{\\, {\\phi}} \\phantom{\\, r} \\phantom{\\, {\\phi}} } & = & -b^{2} r^{2} \\sin\\left({\\theta}\\right)^{2} \\\\ \\mathrm{Riem}\\left(g\\right)_{ \\phantom{\\, {\\theta}} \\, {\\tau} \\, {\\tau} \\, {\\theta} }^{ \\, {\\theta} \\phantom{\\, {\\tau}} \\phantom{\\, {\\tau}} \\phantom{\\, {\\theta}} } & = & -b^{4} r^{2} - b^{2} \\\\ \\mathrm{Riem}\\left(g\\right)_{ \\phantom{\\, {\\theta}} \\, r \\, r \\, {\\theta} }^{ \\, {\\theta} \\phantom{\\, r} \\phantom{\\, r} \\phantom{\\, {\\theta}} } & = & \\frac{b^{2}}{b^{2} r^{2} + 1} \\\\ \\mathrm{Riem}\\left(g\\right)_{ \\phantom{\\, {\\theta}} \\, {\\phi} \\, {\\theta} \\, {\\phi} }^{ \\, {\\theta} \\phantom{\\, {\\phi}} \\phantom{\\, {\\theta}} \\phantom{\\, {\\phi}} } & = & -b^{2} r^{2} \\sin\\left({\\theta}\\right)^{2} \\\\ \\mathrm{Riem}\\left(g\\right)_{ \\phantom{\\, {\\phi}} \\, {\\tau} \\, {\\tau} \\, {\\phi} }^{ \\, {\\phi} \\phantom{\\, {\\tau}} \\phantom{\\, {\\tau}} \\phantom{\\, {\\phi}} } & = & -b^{4} r^{2} - b^{2} \\\\ \\mathrm{Riem}\\left(g\\right)_{ \\phantom{\\, {\\phi}} \\, r \\, r \\, {\\phi} }^{ \\, {\\phi} \\phantom{\\, r} \\phantom{\\, r} \\phantom{\\, {\\phi}} } & = & \\frac{b^{2}}{b^{2} r^{2} + 1} \\\\ \\mathrm{Riem}\\left(g\\right)_{ \\phantom{\\, {\\phi}} \\, {\\theta} \\, {\\theta} \\, {\\phi} }^{ \\, {\\phi} \\phantom{\\, {\\theta}} \\phantom{\\, {\\theta}} \\phantom{\\, {\\phi}} } & = & b^{2} r^{2} \\end{array}</script></html>"
      ],
      "text/plain": [
       "Riem(g)^ta_r,ta,r = -b^2/(b^2*r^2 + 1) \n",
       "Riem(g)^ta_th,ta,th = -b^2*r^2 \n",
       "Riem(g)^ta_ph,ta,ph = -b^2*r^2*sin(th)^2 \n",
       "Riem(g)^r_ta,ta,r = -b^4*r^2 - b^2 \n",
       "Riem(g)^r_th,r,th = -b^2*r^2 \n",
       "Riem(g)^r_ph,r,ph = -b^2*r^2*sin(th)^2 \n",
       "Riem(g)^th_ta,ta,th = -b^4*r^2 - b^2 \n",
       "Riem(g)^th_r,r,th = b^2/(b^2*r^2 + 1) \n",
       "Riem(g)^th_ph,th,ph = -b^2*r^2*sin(th)^2 \n",
       "Riem(g)^ph_ta,ta,ph = -b^4*r^2 - b^2 \n",
       "Riem(g)^ph_r,r,ph = b^2/(b^2*r^2 + 1) \n",
       "Riem(g)^ph_th,th,ph = b^2*r^2 "
      ]
     },
     "execution_count": 28,
     "metadata": {},
     "output_type": "execute_result"
    }
   ],
   "source": [
    "Riem.display_comp(X_spher.frame(), X_spher, only_nonredundant=True)"
   ]
  }
 ],
 "metadata": {
  "kernelspec": {
   "display_name": "SageMath 7.4.beta4",
   "language": "",
   "name": "sagemath"
  },
  "language": "python",
  "language_info": {
   "codemirror_mode": {
    "name": "ipython",
    "version": 2
   },
   "file_extension": ".py",
   "mimetype": "text/x-python",
   "name": "python",
   "nbconvert_exporter": "python",
   "pygments_lexer": "ipython2",
   "version": "2.7.10"
  }
 },
 "nbformat": 4,
 "nbformat_minor": 0
}
