{
 "cells": [
  {
   "cell_type": "code",
   "execution_count": 1,
   "metadata": {},
   "outputs": [
    {
     "name": "stdout",
     "output_type": "stream",
     "text": [
      "2-dimensional differentiable manifold M\n"
     ]
    }
   ],
   "source": [
    "M = Manifold(2,\"M\");print(M)"
   ]
  },
  {
   "cell_type": "code",
   "execution_count": 2,
   "metadata": {},
   "outputs": [],
   "source": [
    "U = M.open_subset('U')"
   ]
  },
  {
   "cell_type": "code",
   "execution_count": 3,
   "metadata": {},
   "outputs": [],
   "source": [
    "V = U.open_subset('V')"
   ]
  },
  {
   "cell_type": "code",
   "execution_count": 4,
   "metadata": {},
   "outputs": [],
   "source": [
    "a = M.vector_field()"
   ]
  },
  {
   "cell_type": "code",
   "execution_count": 5,
   "metadata": {},
   "outputs": [],
   "source": [
<<<<<<< HEAD
    "aV = a.restrict(V) # inverting those 2 lines yields different results in the next cell\n",
    "aU = a.restrict(U)"
=======
    "aV = a.restrict(V)"
>>>>>>> 2d851b9c27341bb3f3c460d19622207d79a12030
   ]
  },
  {
   "cell_type": "code",
   "execution_count": 6,
   "metadata": {},
<<<<<<< HEAD
=======
   "outputs": [],
   "source": [
    "aU = a.restrict(U)"
   ]
  },
  {
   "cell_type": "code",
   "execution_count": 7,
   "metadata": {},
>>>>>>> 2d851b9c27341bb3f3c460d19622207d79a12030
   "outputs": [
    {
     "data": {
      "text/plain": [
<<<<<<< HEAD
       "False"
      ]
     },
     "execution_count": 6,
=======
       "True"
      ]
     },
     "execution_count": 7,
>>>>>>> 2d851b9c27341bb3f3c460d19622207d79a12030
     "metadata": {},
     "output_type": "execute_result"
    }
   ],
   "source": [
    "aU.restrict(V) is aV"
   ]
  },
  {
   "cell_type": "code",
   "execution_count": null,
   "metadata": {},
   "outputs": [],
   "source": []
  }
 ],
 "metadata": {
  "kernelspec": {
<<<<<<< HEAD
   "display_name": "SageMath 8.3.beta1",
=======
   "display_name": "SageMath 8.3.beta0",
>>>>>>> 2d851b9c27341bb3f3c460d19622207d79a12030
   "language": "",
   "name": "sagemath"
  },
  "language_info": {
   "codemirror_mode": {
    "name": "ipython",
    "version": 2
   },
   "file_extension": ".py",
   "mimetype": "text/x-python",
   "name": "python",
   "nbconvert_exporter": "python",
   "pygments_lexer": "ipython2",
   "version": "2.7.14"
  }
 },
 "nbformat": 4,
 "nbformat_minor": 2
}
