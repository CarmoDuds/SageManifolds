{
 "cells": [
  {
   "cell_type": "code",
   "execution_count": 1,
   "metadata": {},
   "outputs": [],
   "source": [
    "%display latex"
   ]
  },
  {
   "cell_type": "code",
   "execution_count": 2,
   "metadata": {},
   "outputs": [
    {
     "name": "stdout",
     "output_type": "stream",
     "text": [
      "3-dimensional Riemannian manifold M\n"
     ]
    }
   ],
   "source": [
    "M = Manifold(3,'M',structure = \"Riemannian\");print(M)"
   ]
  },
  {
   "cell_type": "code",
   "execution_count": 3,
   "metadata": {},
   "outputs": [
    {
     "name": "stdout",
     "output_type": "stream",
     "text": [
      "2-dimensional pseudo-Riemannian submanifold N embedded in 3-dimensional differentiable manifold M\n"
     ]
    }
   ],
   "source": [
    "N = Manifold(2,'N',ambient = M,structure = \"Riemannian\");print(N)"
   ]
  },
  {
   "cell_type": "code",
   "execution_count": 4,
   "metadata": {},
   "outputs": [
    {
     "data": {
      "text/html": [
       "<html><script type=\"math/tex; mode=display\">\\newcommand{\\Bold}[1]{\\mathbf{#1}}\\left(N,({\\theta}, {\\phi})\\right)</script></html>"
      ],
      "text/plain": [
       "Chart (N, (th, ph))"
      ]
     },
     "execution_count": 4,
     "metadata": {},
     "output_type": "execute_result"
    }
   ],
   "source": [
    "C.<th,ph> = N.chart(r'th:(0,pi):\\theta ph:(-pi,pi):\\phi');C"
   ]
  },
  {
   "cell_type": "code",
   "execution_count": 5,
   "metadata": {},
   "outputs": [],
   "source": [
    "r = var('r')\n",
    "assume(r>0)"
   ]
  },
  {
   "cell_type": "code",
   "execution_count": 6,
   "metadata": {},
   "outputs": [
    {
     "data": {
      "text/html": [
       "<html><script type=\"math/tex; mode=display\">\\newcommand{\\Bold}[1]{\\mathbf{#1}}\\left(M,(x, y, z)\\right)</script></html>"
      ],
      "text/plain": [
       "Chart (M, (x, y, z))"
      ]
     },
     "execution_count": 6,
     "metadata": {},
     "output_type": "execute_result"
    }
   ],
   "source": [
    "E.<x,y,z> = M.chart();E"
   ]
  },
  {
   "cell_type": "code",
   "execution_count": 7,
   "metadata": {},
   "outputs": [
    {
     "data": {
      "text/html": [
       "<html><script type=\"math/tex; mode=display\">\\newcommand{\\Bold}[1]{\\mathbf{#1}}\\begin{array}{llcl} & N & \\longrightarrow & M \\\\ & \\left({\\theta}, {\\phi}\\right) & \\longmapsto & \\left(x, y, z\\right) = \\left(r \\cos\\left({\\phi}\\right) \\sin\\left({\\theta}\\right), r \\sin\\left({\\phi}\\right) \\sin\\left({\\theta}\\right), r \\cos\\left({\\theta}\\right)\\right) \\end{array}</script></html>"
      ],
      "text/plain": [
       "N --> M\n",
       "   (th, ph) |--> (x, y, z) = (r*cos(ph)*sin(th), r*sin(ph)*sin(th), r*cos(th))"
      ]
     },
     "execution_count": 7,
     "metadata": {},
     "output_type": "execute_result"
    }
   ],
   "source": [
    "phi = N.diff_map(M,{(C,E):[r*sin(th)*cos(ph),r*sin(th)*sin(ph),r*cos(th)]});phi.display()"
   ]
  },
  {
   "cell_type": "code",
   "execution_count": 8,
   "metadata": {},
   "outputs": [
    {
     "data": {
      "text/html": [
       "<html><script type=\"math/tex; mode=display\">\\newcommand{\\Bold}[1]{\\mathbf{#1}}\\begin{array}{llcl} & M & \\longrightarrow & N \\\\ & \\left(x, y, z\\right) & \\longmapsto & \\left({\\theta}, {\\phi}\\right) = \\left(\\arccos\\left(\\frac{z}{r}\\right), \\arctan\\left(y, x\\right)\\right) \\end{array}</script></html>"
      ],
      "text/plain": [
       "M --> N\n",
       "   (x, y, z) |--> (th, ph) = (arccos(z/r), arctan2(y, x))"
      ]
     },
     "execution_count": 8,
     "metadata": {},
     "output_type": "execute_result"
    }
   ],
   "source": [
    "phi_inv = M.diff_map(N,{(E,C):[arccos(z/r),atan2(y,x)]});phi_inv.display()"
   ]
  },
  {
   "cell_type": "code",
   "execution_count": 9,
   "metadata": {},
   "outputs": [
    {
     "data": {
      "text/html": [
       "<html><script type=\"math/tex; mode=display\">\\newcommand{\\Bold}[1]{\\mathbf{#1}}\\begin{array}{llcl} & M & \\longrightarrow & \\mathbb{R} \\\\ & \\left(x, y, z\\right) & \\longmapsto & \\sqrt{x^{2} + y^{2} + z^{2}} \\end{array}</script></html>"
      ],
      "text/plain": [
       "M --> R\n",
       "(x, y, z) |--> sqrt(x^2 + y^2 + z^2)"
      ]
     },
     "execution_count": 9,
     "metadata": {},
     "output_type": "execute_result"
    }
   ],
   "source": [
    "phi_inv_r = M.scalar_field({E:sqrt(x**2+y**2+z**2)}); phi_inv_r.display()"
   ]
  },
  {
   "cell_type": "code",
   "execution_count": 10,
   "metadata": {},
   "outputs": [],
   "source": [
    "N.set_immersion(phi,phi_inverse = phi_inv,var = r,t_inverse = {r:phi_inv_r})"
   ]
  },
  {
   "cell_type": "code",
   "execution_count": 11,
   "metadata": {},
   "outputs": [],
   "source": [
    "N.declare_embedding()"
   ]
  },
  {
   "cell_type": "code",
   "execution_count": 12,
   "metadata": {},
   "outputs": [
    {
     "data": {
      "text/html": [
       "<html><script type=\"math/tex; mode=display\">\\newcommand{\\Bold}[1]{\\mathbf{#1}}\\left[\\left(M,(\\mathit{th}_{M}, \\mathit{ph}_{M}, r_{M})\\right)\\right]</script></html>"
      ],
      "text/plain": [
       "[Chart (M, (th_M, ph_M, r_M))]"
      ]
     },
     "execution_count": 12,
     "metadata": {},
     "output_type": "execute_result"
    }
   ],
   "source": [
    "T = N.adapted_chart();T"
   ]
  },
  {
   "cell_type": "code",
   "execution_count": 13,
   "metadata": {},
   "outputs": [],
   "source": [
    "g = M.metric('g')\n",
    "g[0,0],g[1,1],g[2,2]=1,1,1"
   ]
  },
  {
   "cell_type": "code",
   "execution_count": 14,
   "metadata": {},
   "outputs": [],
   "source": [
    "#N.normal().display(T[0].frame(),T[0]) #dans un référentiel plus adapté :"
   ]
  },
  {
   "cell_type": "code",
   "execution_count": 15,
   "metadata": {},
   "outputs": [
    {
     "data": {
      "text/html": [
       "<html><script type=\"math/tex; mode=display\">\\newcommand{\\Bold}[1]{\\mathbf{#1}}0</script></html>"
      ],
      "text/plain": [
       "0"
      ]
     },
     "execution_count": 15,
     "metadata": {},
     "output_type": "execute_result"
    }
   ],
   "source": [
    "N.shift().display()"
   ]
  },
  {
   "cell_type": "code",
   "execution_count": 16,
   "metadata": {},
   "outputs": [
    {
     "data": {
      "text/html": [
       "<html><script type=\"math/tex; mode=display\">\\newcommand{\\Bold}[1]{\\mathbf{#1}}\\frac{\\partial}{\\partial r_{M} } = \\left( \\frac{x}{\\sqrt{x^{2} + y^{2} + z^{2}}} \\right) \\frac{\\partial}{\\partial x } + \\left( \\frac{y}{\\sqrt{x^{2} + y^{2} + z^{2}}} \\right) \\frac{\\partial}{\\partial y } + \\left( \\frac{z}{\\sqrt{x^{2} + y^{2} + z^{2}}} \\right) \\frac{\\partial}{\\partial z }</script></html>"
      ],
      "text/plain": [
       "d/dr_M = x/sqrt(x^2 + y^2 + z^2) d/dx + y/sqrt(x^2 + y^2 + z^2) d/dy + z/sqrt(x^2 + y^2 + z^2) d/dz"
      ]
     },
     "execution_count": 16,
     "metadata": {},
     "output_type": "execute_result"
    }
   ],
   "source": [
    "N._adapted_charts[0].frame()[2].display()"
   ]
  },
  {
   "cell_type": "code",
   "execution_count": 17,
   "metadata": {},
   "outputs": [
    {
     "name": "stdout",
     "output_type": "stream",
     "text": [
      "-r_M dth_M*dth_M - r_M*sin(th_M)^2 dph_M*dph_M\n"
     ]
    }
   ],
   "source": [
    "print(N.ambient_second_fundamental_form().display(T[0].frame(),T[0]))"
   ]
  },
  {
   "cell_type": "code",
   "execution_count": 18,
   "metadata": {},
   "outputs": [
    {
     "data": {
      "text/html": [
       "<html><script type=\"math/tex; mode=display\">\\newcommand{\\Bold}[1]{\\mathbf{#1}}\\left[\\verb|th|\\phantom{\\verb!x!}\\verb|is|\\phantom{\\verb!x!}\\verb|real|, {\\theta} > 0, {\\theta} < \\pi, \\verb|ph|\\phantom{\\verb!x!}\\verb|is|\\phantom{\\verb!x!}\\verb|real|, {\\phi} > -\\pi, {\\phi} < \\pi, r > 0, \\verb|x|\\phantom{\\verb!x!}\\verb|is|\\phantom{\\verb!x!}\\verb|real|, \\verb|y|\\phantom{\\verb!x!}\\verb|is|\\phantom{\\verb!x!}\\verb|real|, \\verb|z|\\phantom{\\verb!x!}\\verb|is|\\phantom{\\verb!x!}\\verb|real|, \\verb|th_M|\\phantom{\\verb!x!}\\verb|is|\\phantom{\\verb!x!}\\verb|real|, \\verb|ph_M|\\phantom{\\verb!x!}\\verb|is|\\phantom{\\verb!x!}\\verb|real|, \\verb|r_M|\\phantom{\\verb!x!}\\verb|is|\\phantom{\\verb!x!}\\verb|real|, \\mathit{th}_{M} > 0, \\mathit{th}_{M} < \\pi, \\mathit{ph}_{M} > -\\pi, \\mathit{ph}_{M} < \\pi, r_{M} > 0\\right]</script></html>"
      ],
      "text/plain": [
       "[th is real,\n",
       " th > 0,\n",
       " th < pi,\n",
       " ph is real,\n",
       " ph > -pi,\n",
       " ph < pi,\n",
       " r > 0,\n",
       " x is real,\n",
       " y is real,\n",
       " z is real,\n",
       " th_M is real,\n",
       " ph_M is real,\n",
       " r_M is real,\n",
       " th_M > 0,\n",
       " th_M < pi,\n",
       " ph_M > -pi,\n",
       " ph_M < pi,\n",
       " r_M > 0]"
      ]
     },
     "execution_count": 18,
     "metadata": {},
     "output_type": "execute_result"
    }
   ],
   "source": [
    "assumptions()"
   ]
  },
  {
   "cell_type": "code",
   "execution_count": 19,
   "metadata": {},
   "outputs": [
    {
     "name": "stdout",
     "output_type": "stream",
     "text": [
      "r_M^2 dth_M*dth_M + r_M^2*sin(th_M)^2 dph_M*dph_M + 2 dr_M*dr_M\n"
     ]
    }
   ],
   "source": [
    "print(N.ambient_first_fundamental_form().display(T[0].frame(),T[0]))"
   ]
  },
  {
   "cell_type": "code",
   "execution_count": null,
   "metadata": {},
   "outputs": [],
   "source": []
  }
 ],
 "metadata": {
  "kernelspec": {
   "display_name": "SageMath 8.2.rc3",
   "language": "",
   "name": "sagemath"
  },
  "language_info": {
   "codemirror_mode": {
    "name": "ipython",
    "version": 2
   },
   "file_extension": ".py",
   "mimetype": "text/x-python",
   "name": "python",
   "nbconvert_exporter": "python",
   "pygments_lexer": "ipython2",
   "version": "2.7.14"
  }
 },
 "nbformat": 4,
 "nbformat_minor": 2
}
