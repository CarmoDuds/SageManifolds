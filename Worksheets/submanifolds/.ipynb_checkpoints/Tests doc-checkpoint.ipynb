{
 "cells": [
  {
   "cell_type": "code",
   "execution_count": 4,
   "metadata": {},
   "outputs": [
    {
     "name": "stdout",
     "output_type": "stream",
     "text": [
      "[0 < u]\n"
     ]
    },
    {
     "data": {
      "text/plain": [
       "[Chart (M, (u_M, v_M, t_M))]"
      ]
     },
     "execution_count": 4,
     "metadata": {},
     "output_type": "execute_result"
    }
   ],
   "source": [
    "M = Manifold(3,'M',structure=\"topological\")\n",
    "N = Manifold(2,'N',ambient = M,structure=\"topological\")\n",
    "CM.<x,y,z> = M.chart()\n",
    "CN.<u,v> = N.chart()\n",
    "CN.add_restrictions(0<u) # u>0  ????????????????????????????????????????????????????????????????????????????\n",
    "print(CN._restrictions)\n",
    "t = var('t')\n",
    "phi = N.continuous_map(M,{(CN,CM):[u,v,t+u**2+v**2]}); phi\n",
    "phi_inv = M.continuous_map(N,{(CM,CN):[x,y]})\n",
    "phi_inv_t = M.scalar_field({CM:z-x**2-y**2})\n",
    "N.set_immersion(phi,phi_inverse = phi_inv,var = t,t_inverse = {t:phi_inv_t})\n",
    "N.declare_embedding()\n",
    "N.adapted_chart()\n",
    "# P0 = N.plot({t:0},srange(-1,1,0.1),srange(-1,1,0.1),CN,CM,opacity=0.3,mesh=True)\n",
    "# P1 = N.plot({t:1},srange(-1,1,0.1),srange(-1,1,0.1),CN,CM,opacity=0.3,mesh=True)\n",
    "# P2 = N.plot({t:2},srange(-1,1,0.1),srange(-1,1,0.1),CN,CM,opacity=0.3,mesh=True)\n",
    "# P3 = N.plot({t:3},srange(-1,1,0.1),srange(-1,1,0.1),CN,CM,opacity=0.3,mesh=True)\n",
    "# show(P0+P1+P2+P3)\n"
   ]
  },
  {
   "cell_type": "code",
   "execution_count": null,
   "metadata": {},
   "outputs": [],
   "source": []
  }
 ],
 "metadata": {
  "kernelspec": {
   "display_name": "SageMath 8.2.rc0",
   "language": "",
   "name": "sagemath"
  },
  "language_info": {
   "codemirror_mode": {
    "name": "ipython",
    "version": 2
   },
   "file_extension": ".py",
   "mimetype": "text/x-python",
   "name": "python",
   "nbconvert_exporter": "python",
   "pygments_lexer": "ipython2",
   "version": "2.7.14"
  }
 },
 "nbformat": 4,
 "nbformat_minor": 2
}
