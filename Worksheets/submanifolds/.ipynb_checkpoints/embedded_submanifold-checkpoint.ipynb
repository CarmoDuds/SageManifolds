{
 "cells": [
  {
   "cell_type": "code",
   "execution_count": 1,
   "metadata": {},
   "outputs": [],
   "source": [
    "%display latex"
   ]
  },
  {
   "cell_type": "code",
   "execution_count": 2,
   "metadata": {},
   "outputs": [
    {
     "name": "stdout",
     "output_type": "stream",
     "text": [
      "3-dimensional Riemannian manifold M\n"
     ]
    }
   ],
   "source": [
    "M = Manifold(3,'M',structure=\"Riemannian\");print(M)"
   ]
  },
  {
   "cell_type": "code",
   "execution_count": 3,
   "metadata": {},
   "outputs": [
    {
     "name": "stdout",
     "output_type": "stream",
     "text": [
      "2-dimensional pseudo-Riemannian submanifold N embedded in 3-dimensional differentiable manifold M\n"
     ]
    }
   ],
   "source": [
    "N = Manifold(2,'N',ambient = M, structure=\"Riemannian\");print(N)"
   ]
  },
  {
   "cell_type": "code",
   "execution_count": 4,
   "metadata": {},
   "outputs": [
    {
     "data": {
      "text/html": [
       "<html><script type=\"math/tex; mode=display\">\\newcommand{\\Bold}[1]{\\mathbf{#1}}\\left(N,(u, v)\\right)</script></html>"
      ],
      "text/plain": [
       "Chart (N, (u, v))"
      ]
     },
     "execution_count": 4,
     "metadata": {},
     "output_type": "execute_result"
    }
   ],
   "source": [
    "BU.<u,v> = N.chart();BU"
   ]
  },
  {
   "cell_type": "code",
   "execution_count": 5,
   "metadata": {},
   "outputs": [
    {
     "data": {
      "text/html": [
       "<html><script type=\"math/tex; mode=display\">\\newcommand{\\Bold}[1]{\\mathbf{#1}}\\left(N,(x, y)\\right)</script></html>"
      ],
      "text/plain": [
       "Chart (N, (x, y))"
      ]
     },
     "execution_count": 5,
     "metadata": {},
     "output_type": "execute_result"
    }
   ],
   "source": [
    "BV.<x,y> = N.chart();BV"
   ]
  },
  {
   "cell_type": "code",
   "execution_count": 6,
   "metadata": {},
   "outputs": [
    {
     "data": {
      "text/html": [
       "<html><script type=\"math/tex; mode=display\">\\newcommand{\\Bold}[1]{\\mathbf{#1}}\\left\\{\\begin{array}{lcl} x & = & \\frac{1}{2} \\, \\sqrt{2} {\\left(u + v\\right)} \\\\ y & = & \\frac{1}{2} \\, \\sqrt{2} {\\left(u - v\\right)} \\end{array}\\right.</script></html>"
      ],
      "text/plain": [
       "x = 1/2*sqrt(2)*(u + v)\n",
       "y = 1/2*sqrt(2)*(u - v)"
      ]
     },
     "execution_count": 6,
     "metadata": {},
     "output_type": "execute_result"
    }
   ],
   "source": [
    "trans = BU.transition_map(BV,(1/sqrt(2)*(u+v),1/sqrt(2)*(u-v)));trans.display()"
   ]
  },
  {
   "cell_type": "code",
   "execution_count": 7,
   "metadata": {},
   "outputs": [
    {
     "data": {
      "text/html": [
       "<html><script type=\"math/tex; mode=display\">\\newcommand{\\Bold}[1]{\\mathbf{#1}}\\left(N,(x, y)\\right) \\rightarrow \\left(N,(u, v)\\right)</script></html>"
      ],
      "text/plain": [
       "Change of coordinates from Chart (N, (x, y)) to Chart (N, (u, v))"
      ]
     },
     "execution_count": 7,
     "metadata": {},
     "output_type": "execute_result"
    }
   ],
   "source": [
    "trans.inverse()"
   ]
  },
  {
   "cell_type": "code",
   "execution_count": 8,
   "metadata": {},
   "outputs": [
    {
     "data": {
      "text/html": [
       "<html><script type=\"math/tex; mode=display\">\\newcommand{\\Bold}[1]{\\mathbf{#1}}\\left(M,(a, b, c)\\right)</script></html>"
      ],
      "text/plain": [
       "Chart (M, (a, b, c))"
      ]
     },
     "execution_count": 8,
     "metadata": {},
     "output_type": "execute_result"
    }
   ],
   "source": [
    "CU.<a,b,c> = M.chart();CU"
   ]
  },
  {
   "cell_type": "code",
   "execution_count": 9,
   "metadata": {},
   "outputs": [
    {
     "data": {
      "text/html": [
       "<html><script type=\"math/tex; mode=display\">\\newcommand{\\Bold}[1]{\\mathbf{#1}}\\left(M,(d, e, f)\\right)</script></html>"
      ],
      "text/plain": [
       "Chart (M, (d, e, f))"
      ]
     },
     "execution_count": 9,
     "metadata": {},
     "output_type": "execute_result"
    }
   ],
   "source": [
    "CV.<d,e,f> = M.chart();CV"
   ]
  },
  {
   "cell_type": "code",
   "execution_count": 10,
   "metadata": {},
   "outputs": [],
   "source": [
    "t = var('t')"
   ]
  },
  {
   "cell_type": "code",
   "execution_count": 11,
   "metadata": {},
   "outputs": [
    {
     "name": "stdout",
     "output_type": "stream",
     "text": [
      "Differentiable map from the 2-dimensional pseudo-Riemannian submanifold N embedded in 3-dimensional differentiable manifold M to the 3-dimensional Riemannian manifold M\n"
     ]
    },
    {
     "data": {
      "text/html": [
       "<html><script type=\"math/tex; mode=display\">\\newcommand{\\Bold}[1]{\\mathbf{#1}}\\begin{array}{llcl} & N & \\longrightarrow & M \\\\ & \\left(u, v\\right) & \\longmapsto & \\left(a, b, c\\right) = \\left(u, v, u^{2} + v^{2} + t\\right) \\\\ & \\left(u, v\\right) & \\longmapsto & \\left(d, e, f\\right) = \\left(\\frac{1}{2} \\, \\sqrt{2} {\\left(u + v\\right)}, \\frac{1}{2} \\, \\sqrt{2} {\\left(u - v\\right)}, u^{2} + v^{2} + t\\right) \\\\ & \\left(x, y\\right) & \\longmapsto & \\left(a, b, c\\right) = \\left(\\frac{1}{2} \\, \\sqrt{2} x + \\frac{1}{2} \\, \\sqrt{2} y, \\frac{1}{2} \\, \\sqrt{2} x - \\frac{1}{2} \\, \\sqrt{2} y, x^{2} + y^{2} + t\\right) \\\\ & \\left(x, y\\right) & \\longmapsto & \\left(d, e, f\\right) = \\left(x, y, x^{2} + y^{2} + t\\right) \\end{array}</script></html>"
      ],
      "text/plain": [
       "N --> M\n",
       "   (u, v) |--> (a, b, c) = (u, v, u^2 + v^2 + t)\n",
       "   (u, v) |--> (d, e, f) = (1/2*sqrt(2)*(u + v), 1/2*sqrt(2)*(u - v), u^2 + v^2 + t)\n",
       "   (x, y) |--> (a, b, c) = (1/2*sqrt(2)*x + 1/2*sqrt(2)*y, 1/2*sqrt(2)*x - 1/2*sqrt(2)*y, x^2 + y^2 + t)\n",
       "   (x, y) |--> (d, e, f) = (x, y, x^2 + y^2 + t)"
      ]
     },
     "execution_count": 11,
     "metadata": {},
     "output_type": "execute_result"
    }
   ],
   "source": [
    "phi = N.diff_map(M,{(BU,CU):[u,v,t+u**2+v**2],(BV,CV):[x,y,t+x**2+y**2]}); print(phi); phi.display()"
   ]
  },
  {
   "cell_type": "code",
   "execution_count": 12,
   "metadata": {
    "scrolled": true
   },
   "outputs": [
    {
     "name": "stdout",
     "output_type": "stream",
     "text": [
      "Differentiable map from the 3-dimensional Riemannian manifold M to the 2-dimensional pseudo-Riemannian submanifold N embedded in 3-dimensional differentiable manifold M\n"
     ]
    },
    {
     "data": {
      "text/html": [
       "<html><script type=\"math/tex; mode=display\">\\newcommand{\\Bold}[1]{\\mathbf{#1}}\\begin{array}{llcl} & M & \\longrightarrow & N \\\\ & \\left(a, b, c\\right) & \\longmapsto & \\left(u, v\\right) = \\left(a, b\\right) \\\\ & \\left(a, b, c\\right) & \\longmapsto & \\left(x, y\\right) = \\left(\\frac{1}{2} \\, \\sqrt{2} {\\left(a + b\\right)}, \\frac{1}{2} \\, \\sqrt{2} {\\left(a - b\\right)}\\right) \\\\ & \\left(d, e, f\\right) & \\longmapsto & \\left(u, v\\right) = \\left(\\frac{1}{2} \\, \\sqrt{2} d + \\frac{1}{2} \\, \\sqrt{2} e, \\frac{1}{2} \\, \\sqrt{2} d - \\frac{1}{2} \\, \\sqrt{2} e\\right) \\\\ & \\left(d, e, f\\right) & \\longmapsto & \\left(x, y\\right) = \\left(d, e\\right) \\end{array}</script></html>"
      ],
      "text/plain": [
       "M --> N\n",
       "   (a, b, c) |--> (u, v) = (a, b)\n",
       "   (a, b, c) |--> (x, y) = (1/2*sqrt(2)*(a + b), 1/2*sqrt(2)*(a - b))\n",
       "   (d, e, f) |--> (u, v) = (1/2*sqrt(2)*d + 1/2*sqrt(2)*e, 1/2*sqrt(2)*d - 1/2*sqrt(2)*e)\n",
       "   (d, e, f) |--> (x, y) = (d, e)"
      ]
     },
     "execution_count": 12,
     "metadata": {},
     "output_type": "execute_result"
    }
   ],
   "source": [
    "phi_inv = M.diff_map(N,{(CU,BU):[a,b],(CV,BV):[d,e]}); print(phi_inv); phi_inv.display()"
   ]
  },
  {
   "cell_type": "code",
   "execution_count": 13,
   "metadata": {},
   "outputs": [
    {
     "data": {
      "text/html": [
       "<html><script type=\"math/tex; mode=display\">\\newcommand{\\Bold}[1]{\\mathbf{#1}}\\begin{array}{llcl} & M & \\longrightarrow & \\mathbb{R} \\\\ & \\left(a, b, c\\right) & \\longmapsto & -a^{2} - b^{2} + c \\\\ & \\left(d, e, f\\right) & \\longmapsto & -d^{2} - e^{2} + f \\end{array}</script></html>"
      ],
      "text/plain": [
       "M --> R\n",
       "(a, b, c) |--> -a^2 - b^2 + c\n",
       "(d, e, f) |--> -d^2 - e^2 + f"
      ]
     },
     "execution_count": 13,
     "metadata": {},
     "output_type": "execute_result"
    }
   ],
   "source": [
    "phi_inv_t = M.scalar_field({CU:c-a**2-b**2,CV:f-e**2-d**2}); phi_inv_t.display()"
   ]
  },
  {
   "cell_type": "code",
   "execution_count": 14,
   "metadata": {},
   "outputs": [
    {
     "name": "stdout",
     "output_type": "stream",
     "text": [
      "True\n",
      "False\n"
     ]
    }
   ],
   "source": [
    "N.set_immersion(phi,phi_inverse = phi_inv,var = t,t_inverse = {t:phi_inv_t})\n",
    "print(N._immersed)\n",
    "print(N._embedded)"
   ]
  },
  {
   "cell_type": "code",
   "execution_count": 15,
   "metadata": {},
   "outputs": [
    {
     "name": "stdout",
     "output_type": "stream",
     "text": [
      "True\n",
      "True\n"
     ]
    }
   ],
   "source": [
    "N.declare_embedding()\n",
    "print(N._immersed)\n",
    "print(N._embedded)"
   ]
  },
  {
   "cell_type": "code",
   "execution_count": 16,
   "metadata": {},
   "outputs": [
    {
     "data": {
      "text/html": [
       "<html><script type=\"math/tex; mode=display\">\\newcommand{\\Bold}[1]{\\mathbf{#1}}\\left(u, v\\right)</script></html>"
      ],
      "text/plain": [
       "(u, v)"
      ]
     },
     "execution_count": 16,
     "metadata": {},
     "output_type": "execute_result"
    }
   ],
   "source": [
    "BU(N._immersion_inv(N._immersion((u,v))))"
   ]
  },
  {
   "cell_type": "code",
   "execution_count": 17,
   "metadata": {},
   "outputs": [
    {
     "data": {
      "text/html": [
       "<html><script type=\"math/tex; mode=display\">\\newcommand{\\Bold}[1]{\\mathbf{#1}}\\left[\\left(M,(x_{M}, y_{M}, t_{M})\\right), \\left(M,(u_{M}, v_{M}, t_{M})\\right)\\right]</script></html>"
      ],
      "text/plain": [
       "[Chart (M, (x_M, y_M, t_M)), Chart (M, (u_M, v_M, t_M))]"
      ]
     },
     "execution_count": 17,
     "metadata": {},
     "output_type": "execute_result"
    }
   ],
   "source": [
    "T = N.adapted_chart();T"
   ]
  },
  {
   "cell_type": "code",
   "execution_count": 18,
   "metadata": {},
   "outputs": [
    {
     "name": "stdout",
     "output_type": "stream",
     "text": [
      "(Chart (M, (a, b, c)), Chart (M, (u_M, v_M, t_M)))\n",
      "(Chart (M, (u_M, v_M, t_M)), Chart (M, (x_M, y_M, t_M)))\n",
      "(Chart (M, (d, e, f)), Chart (M, (a, b, c)))\n",
      "(Chart (M, (u_M, v_M, t_M)), Chart (M, (a, b, c)))\n",
      "(Chart (M, (d, e, f)), Chart (M, (x_M, y_M, t_M)))\n",
      "(Chart (M, (x_M, y_M, t_M)), Chart (M, (d, e, f)))\n",
      "(Chart (M, (x_M, y_M, t_M)), Chart (M, (a, b, c)))\n",
      "(Chart (M, (a, b, c)), Chart (M, (d, e, f)))\n",
      "(Chart (M, (x_M, y_M, t_M)), Chart (M, (u_M, v_M, t_M)))\n",
      "(Chart (M, (a, b, c)), Chart (M, (x_M, y_M, t_M)))\n",
      "(Chart (M, (u_M, v_M, t_M)), Chart (M, (d, e, f)))\n",
      "(Chart (M, (d, e, f)), Chart (M, (u_M, v_M, t_M)))\n"
     ]
    }
   ],
   "source": [
    "for chart in list(M._coord_changes):\n",
    "    print(chart)"
   ]
  },
  {
   "cell_type": "code",
   "execution_count": 19,
   "metadata": {},
   "outputs": [
    {
     "data": {
      "text/html": [
       "<html><script type=\"math/tex; mode=display\">\\newcommand{\\Bold}[1]{\\mathbf{#1}}\\left\\{\\begin{array}{lcl} a & = & u_{M} \\\\ b & = & v_{M} \\\\ c & = & u_{M}^{2} + v_{M}^{2} + t_{M} \\end{array}\\right.</script></html>"
      ],
      "text/plain": [
       "a = u_M\n",
       "b = v_M\n",
       "c = u_M^2 + v_M^2 + t_M"
      ]
     },
     "execution_count": 19,
     "metadata": {},
     "output_type": "execute_result"
    }
   ],
   "source": [
    "M._coord_changes[list(M._coord_changes)[3]].display()"
   ]
  },
  {
   "cell_type": "code",
   "execution_count": 20,
   "metadata": {},
   "outputs": [
    {
     "data": {
      "text/html": [
       "<html><script type=\"math/tex; mode=display\">\\newcommand{\\Bold}[1]{\\mathbf{#1}}\\begin{array}{llcl} & M & \\longrightarrow & \\mathbb{R} \\\\ & \\left(a, b, c\\right) & \\longmapsto & -a^{2} - b^{2} + c \\\\ & \\left(d, e, f\\right) & \\longmapsto & -d^{2} - e^{2} + f \\\\ & \\left(x_{M}, y_{M}, t_{M}\\right) & \\longmapsto & t_{M} \\\\ & \\left(u_{M}, v_{M}, t_{M}\\right) & \\longmapsto & t_{M} \\end{array}</script></html>"
      ],
      "text/plain": [
       "M --> R\n",
       "(a, b, c) |--> -a^2 - b^2 + c\n",
       "(d, e, f) |--> -d^2 - e^2 + f\n",
       "(x_M, y_M, t_M) |--> t_M\n",
       "(u_M, v_M, t_M) |--> t_M"
      ]
     },
     "execution_count": 20,
     "metadata": {},
     "output_type": "execute_result"
    }
   ],
   "source": [
    "phi_inv_t.display()"
   ]
  },
  {
   "cell_type": "code",
   "execution_count": 21,
   "metadata": {},
   "outputs": [],
   "source": [
    "# P0 = N.plot({t:0},srange(-1,1,0.1),srange(-1,1,0.1),BU,T[0],opacity=0.3,mesh=True)\n",
    "# P1 = N.plot({t:1},srange(-1,1,0.1),srange(-1,1,0.1),BU,T[0],opacity=0.3,mesh=True)\n",
    "# P2 = N.plot({t:2},srange(-1,1,0.1),srange(-1,1,0.1),BU,T[0],opacity=0.3,mesh=True)\n",
    "# P3 = N.plot({t:3},srange(-1,1,0.1),srange(-1,1,0.1),BU,T[0],opacity=0.3,mesh=True)\n",
    "# show(P0+P1+P2+P3)"
   ]
  },
  {
   "cell_type": "code",
   "execution_count": 22,
   "metadata": {},
   "outputs": [],
   "source": [
    "# P0 = N.plot({t:0},srange(-1,1,0.1),srange(-1,1,0.1),BU,CU,opacity=0.3,mesh=True)\n",
    "# P1 = N.plot({t:1},srange(-1,1,0.1),srange(-1,1,0.1),BU,CU,opacity=0.3,mesh=True)\n",
    "# P2 = N.plot({t:2},srange(-1,1,0.1),srange(-1,1,0.1),BU,CU,opacity=0.3,mesh=True)\n",
    "# P3 = N.plot({t:3},srange(-1,1,0.1),srange(-1,1,0.1),BU,CU,opacity=0.3,mesh=True)\n",
    "# show(P0+P1+P2+P3)"
   ]
  },
  {
   "cell_type": "code",
   "execution_count": null,
   "metadata": {},
   "outputs": [],
   "source": []
  }
 ],
 "metadata": {
  "kernelspec": {
   "display_name": "SageMath 8.2.rc0",
   "language": "",
   "name": "sagemath"
  },
  "language_info": {
   "codemirror_mode": {
    "name": "ipython",
    "version": 2
   },
   "file_extension": ".py",
   "mimetype": "text/x-python",
   "name": "python",
   "nbconvert_exporter": "python",
   "pygments_lexer": "ipython2",
   "version": "2.7.14"
  }
 },
 "nbformat": 4,
 "nbformat_minor": 2
}
