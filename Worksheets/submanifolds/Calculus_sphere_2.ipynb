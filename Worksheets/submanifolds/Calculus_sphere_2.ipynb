{
 "cells": [
  {
   "cell_type": "code",
   "execution_count": 1,
   "metadata": {},
   "outputs": [],
   "source": [
    "%display latex"
   ]
  },
  {
   "cell_type": "code",
   "execution_count": 2,
   "metadata": {},
   "outputs": [
    {
     "name": "stdout",
     "output_type": "stream",
     "text": [
      "3-dimensional Riemannian manifold M\n"
     ]
    }
   ],
   "source": [
    "M = Manifold(3,'M',structure = \"Riemannian\",start_index = 1);print(M)"
   ]
  },
  {
   "cell_type": "code",
   "execution_count": 3,
   "metadata": {},
   "outputs": [
    {
     "name": "stdout",
     "output_type": "stream",
     "text": [
      "2-dimensional pseudo-Riemannian submanifold N embedded in 3-dimensional differentiable manifold M\n"
     ]
    }
   ],
   "source": [
    "N = Manifold(2,'N',ambient = M,structure = \"Riemannian\");print(N)"
   ]
  },
  {
   "cell_type": "code",
   "execution_count": 4,
   "metadata": {},
   "outputs": [],
   "source": [
    "U = N.open_subset('U')"
   ]
  },
  {
   "cell_type": "code",
   "execution_count": 5,
   "metadata": {},
   "outputs": [],
   "source": [
    "V = N.open_subset('V')"
   ]
  },
  {
   "cell_type": "code",
   "execution_count": 6,
   "metadata": {},
   "outputs": [],
   "source": [
    "N.declare_union(U,V)"
   ]
  },
  {
   "cell_type": "code",
   "execution_count": 7,
   "metadata": {},
   "outputs": [],
   "source": [
    "stereoN.<x,y> = U.chart()"
   ]
  },
  {
   "cell_type": "code",
   "execution_count": 8,
   "metadata": {},
   "outputs": [],
   "source": [
    "stereoS.<xp,yp> = V.chart(\"xp:x' yp:y'\")"
   ]
  },
  {
   "cell_type": "code",
   "execution_count": 9,
   "metadata": {},
   "outputs": [
    {
     "data": {
      "text/html": [
       "<html><script type=\"math/tex; mode=display\">\\newcommand{\\Bold}[1]{\\mathbf{#1}}\\left[\\left(U,(x, y)\\right), \\left(V,({x'}, {y'})\\right)\\right]</script></html>"
      ],
      "text/plain": [
       "[Chart (U, (x, y)), Chart (V, (xp, yp))]"
      ]
     },
     "execution_count": 9,
     "metadata": {},
     "output_type": "execute_result"
    }
   ],
   "source": [
    "N.atlas()"
   ]
  },
  {
   "cell_type": "code",
   "execution_count": 10,
   "metadata": {},
   "outputs": [],
   "source": [
    "stereoN_to_S = stereoN.transition_map(stereoS, \n",
    "                                      (x/(x^2+y^2), y/(x^2+y^2)), \n",
    "                                      intersection_name='W',\n",
    "                                      restrictions1= x^2+y^2!=0, \n",
    "                                      restrictions2= xp^2+yp^2!=0)"
   ]
  },
  {
   "cell_type": "code",
   "execution_count": 11,
   "metadata": {},
   "outputs": [
    {
     "data": {
      "text/html": [
       "<html><script type=\"math/tex; mode=display\">\\newcommand{\\Bold}[1]{\\mathbf{#1}}\\left\\{\\begin{array}{lcl} x & = & \\frac{{x'}}{{x'}^{2} + {y'}^{2}} \\\\ y & = & \\frac{{y'}}{{x'}^{2} + {y'}^{2}} \\end{array}\\right.</script></html>"
      ],
      "text/plain": [
       "x = xp/(xp^2 + yp^2)\n",
       "y = yp/(xp^2 + yp^2)"
      ]
     },
     "execution_count": 11,
     "metadata": {},
     "output_type": "execute_result"
    }
   ],
   "source": [
    "stereoS_to_N = stereoN_to_S.inverse()\n",
    "stereoS_to_N.display()"
   ]
  },
  {
   "cell_type": "code",
   "execution_count": 12,
   "metadata": {},
   "outputs": [
    {
     "data": {
      "text/html": [
       "<html><script type=\"math/tex; mode=display\">\\newcommand{\\Bold}[1]{\\mathbf{#1}}\\left[\\left(U,(x, y)\\right), \\left(V,({x'}, {y'})\\right), \\left(W,(x, y)\\right), \\left(W,({x'}, {y'})\\right)\\right]</script></html>"
      ],
      "text/plain": [
       "[Chart (U, (x, y)),\n",
       " Chart (V, (xp, yp)),\n",
       " Chart (W, (x, y)),\n",
       " Chart (W, (xp, yp))]"
      ]
     },
     "execution_count": 12,
     "metadata": {},
     "output_type": "execute_result"
    }
   ],
   "source": [
    "N.atlas()"
   ]
  },
  {
   "cell_type": "code",
   "execution_count": 13,
   "metadata": {},
   "outputs": [],
   "source": [
    "W = U.intersection(V)"
   ]
  },
  {
   "cell_type": "code",
   "execution_count": 14,
   "metadata": {},
   "outputs": [],
   "source": [
    "stereoN_W = stereoN.restrict(W)\n",
    "stereoS_W = stereoS.restrict(W)"
   ]
  },
  {
   "cell_type": "code",
   "execution_count": 15,
   "metadata": {},
   "outputs": [],
   "source": [
    "A = W.open_subset('A', coord_def={stereoN_W: (y!=0, x<0), \n",
    "                                  stereoS_W: (yp!=0, xp<0)})"
   ]
  },
  {
   "cell_type": "code",
   "execution_count": 16,
   "metadata": {},
   "outputs": [
    {
     "data": {
      "text/html": [
       "<html><script type=\"math/tex; mode=display\">\\newcommand{\\Bold}[1]{\\mathbf{#1}}\\left(A,({\\theta}, {\\phi})\\right)</script></html>"
      ],
      "text/plain": [
       "Chart (A, (th, ph))"
      ]
     },
     "execution_count": 16,
     "metadata": {},
     "output_type": "execute_result"
    }
   ],
   "source": [
    "spher.<th,ph> = A.chart(r'th:(0,pi):\\theta ph:(0,2*pi):\\phi') ; spher"
   ]
  },
  {
   "cell_type": "code",
   "execution_count": 17,
   "metadata": {},
   "outputs": [],
   "source": [
    "stereoN_A = stereoN_W.restrict(A)"
   ]
  },
  {
   "cell_type": "code",
   "execution_count": 18,
   "metadata": {},
   "outputs": [
    {
     "data": {
      "text/html": [
       "<html><script type=\"math/tex; mode=display\">\\newcommand{\\Bold}[1]{\\mathbf{#1}}\\left\\{\\begin{array}{lcl} x & = & -\\frac{\\cos\\left({\\phi}\\right) \\sin\\left({\\theta}\\right)}{\\cos\\left({\\theta}\\right) - 1} \\\\ y & = & -\\frac{\\sin\\left({\\phi}\\right) \\sin\\left({\\theta}\\right)}{\\cos\\left({\\theta}\\right) - 1} \\end{array}\\right.</script></html>"
      ],
      "text/plain": [
       "x = -cos(ph)*sin(th)/(cos(th) - 1)\n",
       "y = -sin(ph)*sin(th)/(cos(th) - 1)"
      ]
     },
     "execution_count": 18,
     "metadata": {},
     "output_type": "execute_result"
    }
   ],
   "source": [
    "spher_to_stereoN = spher.transition_map(stereoN_A, \n",
    "                                        (sin(th)*cos(ph)/(1-cos(th)),\n",
    "                                         sin(th)*sin(ph)/(1-cos(th))))\n",
    "spher_to_stereoN.display()"
   ]
  },
  {
   "cell_type": "code",
   "execution_count": 19,
   "metadata": {},
   "outputs": [
    {
     "name": "stdout",
     "output_type": "stream",
     "text": [
      "Check of the inverse coordinate transformation:\n",
      "  th == 2*arctan(sqrt(-cos(th) + 1)/sqrt(cos(th) + 1))\n",
      "  ph == pi + arctan2(sin(ph)*sin(th)/(cos(th) - 1), cos(ph)*sin(th)/(cos(th) - 1))\n",
      "  x == x\n",
      "  y == y\n"
     ]
    }
   ],
   "source": [
    "spher_to_stereoN.set_inverse(2*atan(1/sqrt(x^2+y^2)), atan2(-y,-x)+pi,\n",
    "                             verbose=True)"
   ]
  },
  {
   "cell_type": "code",
   "execution_count": 20,
   "metadata": {},
   "outputs": [
    {
     "data": {
      "text/html": [
       "<html><script type=\"math/tex; mode=display\">\\newcommand{\\Bold}[1]{\\mathbf{#1}}\\left\\{\\begin{array}{lcl} {x'} & = & -\\frac{\\cos\\left({\\phi}\\right) \\cos\\left({\\theta}\\right) - \\cos\\left({\\phi}\\right)}{\\sin\\left({\\theta}\\right)} \\\\ {y'} & = & -\\frac{\\cos\\left({\\theta}\\right) \\sin\\left({\\phi}\\right) - \\sin\\left({\\phi}\\right)}{\\sin\\left({\\theta}\\right)} \\end{array}\\right.</script></html>"
      ],
      "text/plain": [
       "xp = -(cos(ph)*cos(th) - cos(ph))/sin(th)\n",
       "yp = -(cos(th)*sin(ph) - sin(ph))/sin(th)"
      ]
     },
     "execution_count": 20,
     "metadata": {},
     "output_type": "execute_result"
    }
   ],
   "source": [
    "stereoN_to_S_A = stereoN_to_S.restrict(A)\n",
    "spher_to_stereoS = stereoN_to_S_A * spher_to_stereoN\n",
    "spher_to_stereoS.display()"
   ]
  },
  {
   "cell_type": "code",
   "execution_count": 21,
   "metadata": {},
   "outputs": [
    {
     "data": {
      "text/html": [
       "<html><script type=\"math/tex; mode=display\">\\newcommand{\\Bold}[1]{\\mathbf{#1}}\\left\\{\\begin{array}{lcl} {\\theta} & = & 2 \\, \\arctan\\left(\\sqrt{{x'}^{2} + {y'}^{2}}\\right) \\\\ {\\phi} & = & \\pi - \\arctan\\left(\\frac{{y'}}{{x'}^{2} + {y'}^{2}}, -\\frac{{x'}}{{x'}^{2} + {y'}^{2}}\\right) \\end{array}\\right.</script></html>"
      ],
      "text/plain": [
       "th = 2*arctan(sqrt(xp^2 + yp^2))\n",
       "ph = pi - arctan2(yp/(xp^2 + yp^2), -xp/(xp^2 + yp^2))"
      ]
     },
     "execution_count": 21,
     "metadata": {},
     "output_type": "execute_result"
    }
   ],
   "source": [
    "stereoS_to_N_A = stereoN_to_S.inverse().restrict(A)\n",
    "stereoS_to_spher = spher_to_stereoN.inverse() * stereoS_to_N_A \n",
    "stereoS_to_spher.display()"
   ]
  },
  {
   "cell_type": "code",
   "execution_count": 22,
   "metadata": {},
   "outputs": [
    {
     "data": {
      "text/html": [
       "<html><script type=\"math/tex; mode=display\">\\newcommand{\\Bold}[1]{\\mathbf{#1}}\\left(M,(X, Y, Z)\\right)</script></html>"
      ],
      "text/plain": [
       "Chart (M, (X, Y, Z))"
      ]
     },
     "execution_count": 22,
     "metadata": {},
     "output_type": "execute_result"
    }
   ],
   "source": [
    "E.<X,Y,Z> = M.chart();E"
   ]
  },
  {
   "cell_type": "code",
   "execution_count": 23,
   "metadata": {},
   "outputs": [],
   "source": [
    "r=1"
   ]
  },
  {
   "cell_type": "code",
   "execution_count": 24,
   "metadata": {},
   "outputs": [],
   "source": [
    "phi = N.diff_map(M, {(stereoN, E): [2*x/(1+x^2+y^2),\n",
    "                                    2*y/(1+x^2+y^2),\n",
    "                                    (x^2+y^2-1)/(1+x^2+y^2)],\n",
    "                       (stereoS, E): [2*xp/(1+xp^2+yp^2), \n",
    "                                      2*yp/(1+xp^2+yp^2),\n",
    "                                      (1-xp^2-yp^2)/(1+xp^2+yp^2)]},\n",
    "                  name='Phi', latex_name=r'\\Phi')"
   ]
  },
  {
   "cell_type": "code",
   "execution_count": 25,
   "metadata": {},
   "outputs": [
    {
     "data": {
      "text/html": [
       "<html><script type=\"math/tex; mode=display\">\\newcommand{\\Bold}[1]{\\mathbf{#1}}\\begin{array}{llcl} \\Phi:& N & \\longrightarrow & M \\\\ \\mbox{on}\\ U : & \\left(x, y\\right) & \\longmapsto & \\left(X, Y, Z\\right) = \\left(\\frac{2 \\, x}{x^{2} + y^{2} + 1}, \\frac{2 \\, y}{x^{2} + y^{2} + 1}, \\frac{x^{2} + y^{2} - 1}{x^{2} + y^{2} + 1}\\right) \\\\ \\mbox{on}\\ V : & \\left({x'}, {y'}\\right) & \\longmapsto & \\left(X, Y, Z\\right) = \\left(\\frac{2 \\, {x'}}{{x'}^{2} + {y'}^{2} + 1}, \\frac{2 \\, {y'}}{{x'}^{2} + {y'}^{2} + 1}, -\\frac{{x'}^{2} + {y'}^{2} - 1}{{x'}^{2} + {y'}^{2} + 1}\\right) \\end{array}</script></html>"
      ],
      "text/plain": [
       "Phi: N --> M\n",
       "on U: (x, y) |--> (X, Y, Z) = (2*x/(x^2 + y^2 + 1), 2*y/(x^2 + y^2 + 1), (x^2 + y^2 - 1)/(x^2 + y^2 + 1))\n",
       "on V: (xp, yp) |--> (X, Y, Z) = (2*xp/(xp^2 + yp^2 + 1), 2*yp/(xp^2 + yp^2 + 1), -(xp^2 + yp^2 - 1)/(xp^2 + yp^2 + 1))"
      ]
     },
     "execution_count": 25,
     "metadata": {},
     "output_type": "execute_result"
    }
   ],
   "source": [
    "phi.display()"
   ]
  },
  {
   "cell_type": "code",
   "execution_count": 26,
   "metadata": {},
   "outputs": [
    {
     "data": {
      "text/html": [
       "<html><script type=\"math/tex; mode=display\">\\newcommand{\\Bold}[1]{\\mathbf{#1}}\\begin{array}{llcl} \\Phi:& N & \\longrightarrow & M \\end{array}</script></html>"
      ],
      "text/plain": [
       "Phi: N --> M"
      ]
     },
     "execution_count": 26,
     "metadata": {},
     "output_type": "execute_result"
    }
   ],
   "source": [
    "phi.display(spher,E)"
   ]
  },
  {
   "cell_type": "code",
   "execution_count": 27,
   "metadata": {},
   "outputs": [],
   "source": [
    "N.set_immersion(phi)"
   ]
  },
  {
   "cell_type": "code",
   "execution_count": 28,
   "metadata": {},
   "outputs": [],
   "source": [
    "N.declare_embedding()"
   ]
  },
  {
   "cell_type": "code",
   "execution_count": 29,
   "metadata": {},
   "outputs": [],
   "source": [
    "g = M.metric('g')\n",
    "g[3,3],g[1,1],g[2,2]=1,1,1"
   ]
  },
  {
   "cell_type": "code",
   "execution_count": 30,
   "metadata": {},
   "outputs": [],
   "source": [
    "#n.restrict(U).display()"
   ]
  },
  {
   "cell_type": "code",
   "execution_count": 31,
   "metadata": {},
   "outputs": [],
   "source": [
    "#n.restrict(V).display()"
   ]
  },
  {
   "cell_type": "code",
   "execution_count": 32,
   "metadata": {},
   "outputs": [],
   "source": [
    "#n.restrict(V).display(format_spec = spher)"
   ]
  },
  {
   "cell_type": "code",
   "execution_count": 33,
   "metadata": {},
   "outputs": [],
   "source": [
    "#K = N.second_fundamental_form()"
   ]
  },
  {
   "cell_type": "code",
   "execution_count": 34,
   "metadata": {},
   "outputs": [],
   "source": [
    "#K[:]"
   ]
  },
  {
   "cell_type": "code",
   "execution_count": 35,
   "metadata": {},
   "outputs": [],
   "source": [
    "#K.restrict(A)[spher.frame(),:,spher]"
   ]
  },
  {
   "cell_type": "code",
   "execution_count": 36,
   "metadata": {},
   "outputs": [],
   "source": [
    "#N.ambient_extrinsic_curvature()"
   ]
  },
  {
   "cell_type": "code",
   "execution_count": 37,
   "metadata": {},
   "outputs": [],
   "source": [
    "#(phi.restrict(U).pushforward(stereoN.frame()[:][0]).down(N.ambient_metric().along(phi))*phi.restrict(U).pushforward(stereoN.frame()[:][1]).down(N.ambient_metric().along(phi))).display()"
   ]
  },
  {
   "cell_type": "code",
   "execution_count": 38,
   "metadata": {},
   "outputs": [
    {
     "name": "stdout",
     "output_type": "stream",
     "text": [
      "Way 9 bis\n"
     ]
    },
    {
     "data": {
      "text/html": [
       "<html><script type=\"math/tex; mode=display\">\\newcommand{\\Bold}[1]{\\mathbf{#1}}\\left(N, \\left(\\frac{\\partial}{\\partial X },\\frac{\\partial}{\\partial Y },\\frac{\\partial}{\\partial Z }\\right)\\right)</script></html>"
      ],
      "text/plain": [
       "Vector frame (N, (d/dX,d/dY,d/dZ)) with values on the 3-dimensional Riemannian manifold M"
      ]
     },
     "execution_count": 38,
     "metadata": {},
     "output_type": "execute_result"
    }
   ],
   "source": [
    "max_frame = M.default_frame().along(phi)\n",
    "max_frame"
   ]
  },
  {
   "cell_type": "code",
   "execution_count": 39,
   "metadata": {},
   "outputs": [
    {
     "data": {
      "text/html": [
       "<html><script type=\"math/tex; mode=display\">\\newcommand{\\Bold}[1]{\\mathbf{#1}}\\left[\\left(U, \\left(\\frac{\\partial}{\\partial x },\\frac{\\partial}{\\partial y }\\right)\\right), \\left(V, \\left(\\frac{\\partial}{\\partial {x'} },\\frac{\\partial}{\\partial {y'} }\\right)\\right), \\left(W, \\left(\\frac{\\partial}{\\partial x },\\frac{\\partial}{\\partial y }\\right)\\right), \\left(W, \\left(\\frac{\\partial}{\\partial {x'} },\\frac{\\partial}{\\partial {y'} }\\right)\\right), \\left(A, \\left(\\frac{\\partial}{\\partial x },\\frac{\\partial}{\\partial y }\\right)\\right), \\left(A, \\left(\\frac{\\partial}{\\partial {x'} },\\frac{\\partial}{\\partial {y'} }\\right)\\right), \\left(A, \\left(\\frac{\\partial}{\\partial {\\theta} },\\frac{\\partial}{\\partial {\\phi} }\\right)\\right), \\left(N, \\left(\\frac{\\partial}{\\partial X },\\frac{\\partial}{\\partial Y },\\frac{\\partial}{\\partial Z }\\right)\\right)\\right]</script></html>"
      ],
      "text/plain": [
       "[Coordinate frame (U, (d/dx,d/dy)),\n",
       " Coordinate frame (V, (d/dxp,d/dyp)),\n",
       " Coordinate frame (W, (d/dx,d/dy)),\n",
       " Coordinate frame (W, (d/dxp,d/dyp)),\n",
       " Coordinate frame (A, (d/dx,d/dy)),\n",
       " Coordinate frame (A, (d/dxp,d/dyp)),\n",
       " Coordinate frame (A, (d/dth,d/dph)),\n",
       " Vector frame (N, (d/dX,d/dY,d/dZ)) with values on the 3-dimensional Riemannian manifold M]"
      ]
     },
     "execution_count": 39,
     "metadata": {},
     "output_type": "execute_result"
    }
   ],
   "source": [
    "N.frames()"
   ]
  },
  {
   "cell_type": "code",
   "execution_count": 40,
   "metadata": {},
   "outputs": [],
   "source": [
    "def calc_normal(chart):\n",
    "    eps = g.volume_form(N._dim).along(\n",
    "        phi).restrict(chart.domain())\n",
    "    args = list(range(N._dim)) + [eps] + list(range(N._dim))\n",
    "    r = N.irange()\n",
    "    n_form = phi.restrict(chart.domain()).pushforward(\n",
    "        chart.frame()[r.next()]).down(\n",
    "        g.along(phi).restrict(\n",
    "            chart.domain()))\n",
    "    for i in r:\n",
    "        n_form = n_form.wedge(\n",
    "            phi.restrict(chart.domain()).pushforward(\n",
    "                chart.frame()[i]).down(\n",
    "                g.along(\n",
    "                    phi).restrict(\n",
    "                    chart.domain())))\n",
    "    n_comp = (n_form.contract(*args) / factorial(\n",
    "        N._dim)).contract(\n",
    "        g.inverse().along(phi))\n",
    "    n_comp = n_comp / n_comp.norm(\n",
    "        g.along(phi))\n",
    "\n",
    "    frame = next(iter(n_comp._components))\n",
    "    \n",
    "    norm_rst = N._normal.restrict(chart.domain())\n",
    "    norm_rst.add_comp(max_frame.restrict(chart.domain()))[:] = n_comp[:]\n",
    "    \n",
    "    #N._normal.add_comp(max_frame)[:] = n_comp[:]\n",
    "    N._normal.add_comp_by_continuation(max_frame, chart.domain(), chart)\n",
    "    #N._normal.restrict(chart.domain())"
   ]
  },
  {
   "cell_type": "code",
   "execution_count": 41,
   "metadata": {},
   "outputs": [],
   "source": [
    "from Queue import Queue"
   ]
  },
  {
   "cell_type": "code",
   "execution_count": 42,
   "metadata": {
    "scrolled": false
   },
   "outputs": [
    {
     "name": "stdout",
     "output_type": "stream",
     "text": [
      "Way 9 bis\n",
      "Way 0\n",
      "(Vector frame (N, (d/dX,d/dY,d/dZ)) with values on the 3-dimensional Riemannian manifold M, Open subset U of the 2-dimensional pseudo-Riemannian submanifold N embedded in 3-dimensional differentiable manifold M)\n",
      "Way 0\n",
      "(Vector frame (N, (d/dX,d/dY,d/dZ)) with values on the 3-dimensional Riemannian manifold M, Open subset U of the 2-dimensional pseudo-Riemannian submanifold N embedded in 3-dimensional differentiable manifold M)\n",
      "Chart (U, (x, y))\n",
      "(Chart (U, (x, y)), Chart (W, (x, y)))\n",
      "Way 9 bis\n",
      "(Chart (U, (x, y)), Chart (A, (x, y)))\n",
      "Way 9 bis\n",
      "Chart (W, (x, y))\n",
      "(Chart (W, (x, y)), Chart (W, (xp, yp)))\n",
      "Chart (A, (x, y))\n",
      "(Chart (A, (x, y)), Chart (A, (xp, yp)))\n",
      "(Chart (A, (x, y)), Chart (A, (th, ph)))\n",
      "Chart (W, (xp, yp))\n",
      "(Chart (W, (xp, yp)), Chart (V, (xp, yp)))\n",
      "Chart (A, (xp, yp))\n",
      "Chart (A, (th, ph))\n",
      "Chart (V, (xp, yp))\n"
     ]
    }
   ],
   "source": [
    "N._normal = N.vector_field(\"n\",r\"n\", phi)\n",
    "# start breadth-first graph exploration\n",
    "marked = set()\n",
    "f = Queue()\n",
    "recache = False\n",
    "\n",
    "for v in N.top_charts():\n",
    "    if v not in marked:\n",
    "        f.put(v)\n",
    "        calc_normal(v)  # initial calculus\n",
    "        marked.add(v)\n",
    "        while not f.empty():\n",
    "            v = f.get()\n",
    "            # for each neighbor:\n",
    "            print(v)\n",
    "            for vp in N.atlas():\n",
    "                # case restriction\n",
    "                if vp in v._subcharts and vp not in marked:\n",
    "                    print(v,vp)\n",
    "                    f.put(vp)\n",
    "                    #calc_by_restrict(v, vp)\n",
    "                    #max_frame.restrict(vp.domain())\n",
    "                    N._normal.restrict(vp.domain())\n",
    "                    marked.add(vp)\n",
    "\n",
    "                # case continuation\n",
    "                if vp in v._supercharts and vp not in marked:\n",
    "                    print(v,vp)\n",
    "                    f.put(vp)\n",
    "                    #calc_by_continuation(v, vp)\n",
    "                    marked.add(vp)\n",
    "\n",
    "                # case coordinates change\n",
    "                if (v, vp) in N.coord_changes() and vp not in marked:\n",
    "                    print(v,vp)\n",
    "                    f.put(vp)\n",
    "                    #calc_by_coord_change(v, vp)\n",
    "                    N._normal.comp(max_frame,vp)\n",
    "                    marked.add(vp)"
   ]
  },
  {
   "cell_type": "code",
   "execution_count": 43,
   "metadata": {},
   "outputs": [
    {
     "name": "stdout",
     "output_type": "stream",
     "text": [
      "Way 9 bis\n",
      "Way 2\n",
      "Way 3\n"
     ]
    }
   ],
   "source": [
    "N._normal.add_comp_by_continuation(max_frame.restrict(V), W, stereoS)"
   ]
  },
  {
   "cell_type": "code",
   "execution_count": 45,
   "metadata": {},
   "outputs": [
    {
     "name": "stdout",
     "output_type": "stream",
     "text": [
      "Way 0\n",
      "(Vector frame (N, (d/dX,d/dY,d/dZ)) with values on the 3-dimensional Riemannian manifold M, Open subset V of the 2-dimensional pseudo-Riemannian submanifold N embedded in 3-dimensional differentiable manifold M)\n",
      "1-index components w.r.t. Vector frame (N, (d/dX,d/dY,d/dZ)) with values on the 3-dimensional Riemannian manifold M\n"
     ]
    }
   ],
   "source": [
    "N._normal.add_expr_by_continuation(max_frame, V) #fails"
   ]
  },
  {
   "cell_type": "code",
   "execution_count": 46,
   "metadata": {},
   "outputs": [
    {
     "data": {
      "text/html": [
       "<html><script type=\"math/tex; mode=display\">\\newcommand{\\Bold}[1]{\\mathbf{#1}}\\begin{array}{llcl} & N & \\longrightarrow & \\mathbb{R} \\\\ \\mbox{on}\\ U : & \\left(x, y\\right) & \\longmapsto & -\\frac{2 \\, x}{x^{2} + y^{2} + 1} \\\\ \\mbox{on}\\ V : & \\left({x'}, {y'}\\right) & \\longmapsto & -\\frac{2 \\, {x'}}{{x'}^{2} + {y'}^{2} + 1} \\\\ \\mbox{on}\\ A : & \\left({\\theta}, {\\phi}\\right) & \\longmapsto & -\\cos\\left({\\phi}\\right) \\sin\\left({\\theta}\\right) \\end{array}</script></html>"
      ],
      "text/plain": [
       "N --> R\n",
       "on U: (x, y) |--> -2*x/(x^2 + y^2 + 1)\n",
       "on V: (xp, yp) |--> -2*xp/(xp^2 + yp^2 + 1)\n",
       "on A: (th, ph) |--> -cos(ph)*sin(th)"
      ]
     },
     "execution_count": 46,
     "metadata": {},
     "output_type": "execute_result"
    }
   ],
   "source": [
    "N._normal.restrict(N)._components.values()[0]._comp[(1,)].display()"
   ]
  },
  {
   "cell_type": "code",
   "execution_count": null,
   "metadata": {},
   "outputs": [],
   "source": []
  },
  {
   "cell_type": "code",
   "execution_count": null,
   "metadata": {},
   "outputs": [],
   "source": []
  }
 ],
 "metadata": {
  "kernelspec": {
   "display_name": "SageMath 8.3.beta0",
   "language": "",
   "name": "sagemath"
  },
  "language_info": {
   "codemirror_mode": {
    "name": "ipython",
    "version": 2
   },
   "file_extension": ".py",
   "mimetype": "text/x-python",
   "name": "python",
   "nbconvert_exporter": "python",
   "pygments_lexer": "ipython2",
   "version": "2.7.14"
  }
 },
 "nbformat": 4,
 "nbformat_minor": 2
}
