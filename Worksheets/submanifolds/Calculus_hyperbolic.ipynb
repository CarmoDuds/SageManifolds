{
 "cells": [
  {
   "cell_type": "code",
   "execution_count": 1,
   "metadata": {},
   "outputs": [],
   "source": [
    "%display latex"
   ]
  },
  {
   "cell_type": "code",
   "execution_count": 2,
   "metadata": {},
   "outputs": [
    {
     "name": "stdout",
     "output_type": "stream",
     "text": [
      "4-dimensional Lorentzian manifold M\n"
     ]
    }
   ],
   "source": [
    "M = Manifold(4,'M',structure = \"Lorentzian\");print(M)"
   ]
  },
  {
   "cell_type": "code",
   "execution_count": 3,
   "metadata": {},
   "outputs": [
    {
     "name": "stdout",
     "output_type": "stream",
     "text": [
      "3-dimensional pseudo-Riemannian submanifold N embedded in 4-dimensional differentiable manifold M\n"
     ]
    }
   ],
   "source": [
    "N = Manifold(3,'N',ambient = M,structure = \"Riemannian\");print(N)"
   ]
  },
  {
   "cell_type": "code",
   "execution_count": 4,
   "metadata": {},
   "outputs": [
    {
     "data": {
      "text/html": [
       "<html><script type=\"math/tex; mode=display\">\\newcommand{\\Bold}[1]{\\mathbf{#1}}\\left(N,({\\rho}, {\\theta}, {\\phi})\\right)</script></html>"
      ],
      "text/plain": [
       "Chart (N, (rh, th, ph))"
      ]
     },
     "execution_count": 4,
     "metadata": {},
     "output_type": "execute_result"
    }
   ],
   "source": [
    "C.<rh,th,ph> = N.chart(r'rh:(0,+oo):\\rho th:(0,pi):\\theta ph:(-pi,pi):\\phi');C"
   ]
  },
  {
   "cell_type": "code",
   "execution_count": 5,
   "metadata": {},
   "outputs": [],
   "source": [
    "b = var('b',domain = 'real')\n",
    "assume(b>0)\n",
    "t = var('t',domain = 'real')"
   ]
  },
  {
   "cell_type": "code",
   "execution_count": 6,
   "metadata": {},
   "outputs": [
    {
     "data": {
      "text/html": [
       "<html><script type=\"math/tex; mode=display\">\\newcommand{\\Bold}[1]{\\mathbf{#1}}\\left(M,(w, x, y, z)\\right)</script></html>"
      ],
      "text/plain": [
       "Chart (M, (w, x, y, z))"
      ]
     },
     "execution_count": 6,
     "metadata": {},
     "output_type": "execute_result"
    }
   ],
   "source": [
    "E.<w,x,y,z> = M.chart();E"
   ]
  },
  {
   "cell_type": "code",
   "execution_count": 7,
   "metadata": {},
   "outputs": [
    {
     "data": {
      "text/html": [
       "<html><script type=\"math/tex; mode=display\">\\newcommand{\\Bold}[1]{\\mathbf{#1}}\\begin{array}{llcl} & N & \\longrightarrow & M \\\\ & \\left({\\rho}, {\\theta}, {\\phi}\\right) & \\longmapsto & \\left(w, x, y, z\\right) = \\left(b \\cosh\\left({\\rho}\\right) + t, b \\cos\\left({\\phi}\\right) \\sin\\left({\\theta}\\right) \\sinh\\left({\\rho}\\right), b \\sin\\left({\\phi}\\right) \\sin\\left({\\theta}\\right) \\sinh\\left({\\rho}\\right), b \\cos\\left({\\theta}\\right) \\sinh\\left({\\rho}\\right)\\right) \\end{array}</script></html>"
      ],
      "text/plain": [
       "N --> M\n",
       "   (rh, th, ph) |--> (w, x, y, z) = (b*cosh(rh) + t, b*cos(ph)*sin(th)*sinh(rh), b*sin(ph)*sin(th)*sinh(rh), b*cos(th)*sinh(rh))"
      ]
     },
     "execution_count": 7,
     "metadata": {},
     "output_type": "execute_result"
    }
   ],
   "source": [
    "# phi = N.diff_map(M,{(C,E):[b*(exp(rh)-exp(-rh))/2*sin(th)*cos(ph),\n",
    "#                            b*(exp(rh)-exp(-rh))/2*sin(th)*sin(ph),\n",
    "#                            b*(exp(rh)-exp(-rh))/2*cos(th),\n",
    "#                            b*(exp(rh)+exp(-rh))/2+t]});phi.display()\n",
    "phi = N.diff_map(M,{(C,E):[b*cosh(rh)+t,\n",
    "                           b*sinh(rh)*sin(th)*cos(ph),\n",
    "                           b*sinh(rh)*sin(th)*sin(ph),\n",
    "                           b*sinh(rh)*cos(th)]});phi.display()"
   ]
  },
  {
   "cell_type": "code",
   "execution_count": 8,
   "metadata": {},
   "outputs": [
    {
     "data": {
      "text/html": [
       "<html><script type=\"math/tex; mode=display\">\\newcommand{\\Bold}[1]{\\mathbf{#1}}\\begin{array}{llcl} & M & \\longrightarrow & N \\\\ & \\left(w, x, y, z\\right) & \\longmapsto & \\left({\\rho}, {\\theta}, {\\phi}\\right) = \\left(\\log\\left(\\sqrt{\\frac{b^{2} + x^{2} + y^{2} + z^{2}}{b^{2}} - 1} + \\frac{\\sqrt{b^{2} + x^{2} + y^{2} + z^{2}}}{b}\\right), \\arccos\\left(\\frac{z}{b \\sqrt{\\frac{b^{2} + x^{2} + y^{2} + z^{2}}{b^{2}} - 1}}\\right), \\arctan\\left(y, x\\right)\\right) \\end{array}</script></html>"
      ],
      "text/plain": [
       "M --> N\n",
       "   (w, x, y, z) |--> (rh, th, ph) = (log(sqrt((b^2 + x^2 + y^2 + z^2)/b^2 - 1) + sqrt(b^2 + x^2 + y^2 + z^2)/b), arccos(z/(b*sqrt((b^2 + x^2 + y^2 + z^2)/b^2 - 1))), arctan2(y, x))"
      ]
     },
     "execution_count": 8,
     "metadata": {},
     "output_type": "execute_result"
    }
   ],
   "source": [
    "phi_inv = M.diff_map(N,{(E,C):[log(sqrt(x**2+y**2+z**2+b**2)/b+sqrt((x**2+y**2+z**2+b**2)/b^2-1)),\n",
    "                               arccos(z/(b*sqrt((x**2+y**2+z**2+b**2)/b^2-1))),\n",
    "                               atan2(y,x)]});phi_inv.display()\n",
    "# phi_inv = M.diff_map(N,{(E,C):[arccosh(sqrt(x**2+y**2+z**2+b**2)/b),\n",
    "#                                arccos(z/(b*sinh(arccosh(sqrt(x**2+y**2+z**2+b**2)/b)))),\n",
    "#                                atan2(y,x)]});phi_inv.display()"
   ]
  },
  {
   "cell_type": "code",
   "execution_count": 9,
   "metadata": {},
   "outputs": [
    {
     "data": {
      "text/html": [
       "<html><script type=\"math/tex; mode=display\">\\newcommand{\\Bold}[1]{\\mathbf{#1}}\\begin{array}{llcl} & M & \\longrightarrow & M \\\\ & \\left(w, x, y, z\\right) & \\longmapsto & \\left(\\frac{b^{2} + x^{2} + y^{2} + z^{2} + \\sqrt{b^{2} + x^{2} + y^{2} + z^{2}} {\\left(t + \\sqrt{x^{2} + y^{2} + z^{2}}\\right)} + \\sqrt{x^{2} + y^{2} + z^{2}} t}{\\sqrt{b^{2} + x^{2} + y^{2} + z^{2}} + \\sqrt{x^{2} + y^{2} + z^{2}}}, x, y, z\\right) \\end{array}</script></html>"
      ],
      "text/plain": [
       "M --> M\n",
       "   (w, x, y, z) |--> ((b^2 + x^2 + y^2 + z^2 + sqrt(b^2 + x^2 + y^2 + z^2)*(t + sqrt(x^2 + y^2 + z^2)) + sqrt(x^2 + y^2 + z^2)*t)/(sqrt(b^2 + x^2 + y^2 + z^2) + sqrt(x^2 + y^2 + z^2)), x, y, z)"
      ]
     },
     "execution_count": 9,
     "metadata": {},
     "output_type": "execute_result"
    }
   ],
   "source": [
    "(phi*phi_inv).display()"
   ]
  },
  {
   "cell_type": "code",
   "execution_count": 10,
   "metadata": {},
   "outputs": [],
   "source": [
    "assume(w-t>0)"
   ]
  },
  {
   "cell_type": "code",
   "execution_count": 11,
   "metadata": {},
   "outputs": [
    {
     "data": {
      "text/html": [
       "<html><script type=\"math/tex; mode=display\">\\newcommand{\\Bold}[1]{\\mathbf{#1}}w</script></html>"
      ],
      "text/plain": [
       "w"
      ]
     },
     "execution_count": 11,
     "metadata": {},
     "output_type": "execute_result"
    }
   ],
   "source": [
    "(phi*phi_inv).expr()[0].subs({b**2:(w-t)**2-x**2-y**2-z**2}).simplify().expand().simplify_full()"
   ]
  },
  {
   "cell_type": "code",
   "execution_count": 12,
   "metadata": {},
   "outputs": [],
   "source": [
    "forget(w-t>0)"
   ]
  },
  {
   "cell_type": "code",
   "execution_count": 13,
   "metadata": {},
   "outputs": [
    {
     "data": {
      "text/html": [
       "<html><script type=\"math/tex; mode=display\">\\newcommand{\\Bold}[1]{\\mathbf{#1}}\\begin{array}{llcl} & M & \\longrightarrow & \\mathbb{R} \\\\ & \\left(w, x, y, z\\right) & \\longmapsto & w - \\sqrt{b^{2} + x^{2} + y^{2} + z^{2}} \\end{array}</script></html>"
      ],
      "text/plain": [
       "M --> R\n",
       "(w, x, y, z) |--> w - sqrt(b^2 + x^2 + y^2 + z^2)"
      ]
     },
     "execution_count": 13,
     "metadata": {},
     "output_type": "execute_result"
    }
   ],
   "source": [
    "phi_inv_t = M.scalar_field({E:w-sqrt(x**2+y**2+z**2+b**2)}); phi_inv_t.display()"
   ]
  },
  {
   "cell_type": "code",
   "execution_count": 14,
   "metadata": {},
   "outputs": [],
   "source": [
    "N.set_immersion(phi,phi_inverse = phi_inv,var = t,t_inverse = {t:phi_inv_t})"
   ]
  },
  {
   "cell_type": "code",
   "execution_count": 15,
   "metadata": {},
   "outputs": [],
   "source": [
    "N.declare_embedding()"
   ]
  },
  {
   "cell_type": "code",
   "execution_count": 16,
   "metadata": {},
   "outputs": [
    {
     "data": {
      "text/html": [
       "<html><script type=\"math/tex; mode=display\">\\newcommand{\\Bold}[1]{\\mathbf{#1}}\\left[\\left(M,({{{\\rho}}_M}, {{{\\theta}}_M}, {{{\\phi}}_M}, t_{M})\\right)\\right]</script></html>"
      ],
      "text/plain": [
       "[Chart (M, (rh_M, th_M, ph_M, t_M))]"
      ]
     },
     "execution_count": 16,
     "metadata": {},
     "output_type": "execute_result"
    }
   ],
   "source": [
    "T = N.adapted_chart();T"
   ]
  },
  {
   "cell_type": "code",
   "execution_count": 17,
   "metadata": {},
   "outputs": [],
   "source": [
    "g = M.metric('g')\n",
    "g[0,0],g[1,1],g[2,2],g[3,3]=-1,1,1,1"
   ]
  },
  {
   "cell_type": "code",
   "execution_count": 18,
   "metadata": {},
   "outputs": [
    {
     "data": {
      "text/html": [
       "<html><script type=\"math/tex; mode=display\">\\newcommand{\\Bold}[1]{\\mathbf{#1}}2</script></html>"
      ],
      "text/plain": [
       "2"
      ]
     },
     "execution_count": 18,
     "metadata": {},
     "output_type": "execute_result"
    }
   ],
   "source": [
    "len(M.coord_changes())"
   ]
  },
  {
   "cell_type": "code",
   "execution_count": 19,
   "metadata": {},
   "outputs": [
    {
     "data": {
      "text/html": [
       "<html><script type=\"math/tex; mode=display\">\\newcommand{\\Bold}[1]{\\mathbf{#1}}\\left(\\begin{array}{rrr}\n",
       "b^{2} & 0 & 0 \\\\\n",
       "0 & b^{2} \\sinh\\left({\\rho}\\right)^{2} & 0 \\\\\n",
       "0 & 0 & b^{2} \\sin\\left({\\theta}\\right)^{2} \\sinh\\left({\\rho}\\right)^{2}\n",
       "\\end{array}\\right)</script></html>"
      ],
      "text/plain": [
       "[                     b^2                        0                        0]\n",
       "[                       0           b^2*sinh(rh)^2                        0]\n",
       "[                       0                        0 b^2*sin(th)^2*sinh(rh)^2]"
      ]
     },
     "execution_count": 19,
     "metadata": {},
     "output_type": "execute_result"
    }
   ],
   "source": [
    "N.induced_metric()[:]"
   ]
  },
  {
   "cell_type": "code",
   "execution_count": 20,
   "metadata": {},
   "outputs": [
    {
     "data": {
      "text/html": [
       "<html><script type=\"math/tex; mode=display\">\\newcommand{\\Bold}[1]{\\mathbf{#1}}\\left( \\frac{\\sqrt{b^{2} + x^{2} + y^{2} + z^{2}}}{b} \\right) \\frac{\\partial}{\\partial w } + \\frac{x}{b} \\frac{\\partial}{\\partial x } + \\frac{y}{b} \\frac{\\partial}{\\partial y } + \\frac{z}{b} \\frac{\\partial}{\\partial z }</script></html>"
      ],
      "text/plain": [
       "sqrt(b^2 + x^2 + y^2 + z^2)/b d/dw + x/b d/dx + y/b d/dy + z/b d/dz"
      ]
     },
     "execution_count": 20,
     "metadata": {},
     "output_type": "execute_result"
    }
   ],
   "source": [
    "N.normal().display()"
   ]
  },
  {
   "cell_type": "code",
   "execution_count": 21,
   "metadata": {},
   "outputs": [
    {
     "data": {
      "text/html": [
       "<html><script type=\"math/tex; mode=display\">\\newcommand{\\Bold}[1]{\\mathbf{#1}}\\begin{array}{llcl} & M & \\longrightarrow & \\mathbb{R} \\\\ & \\left(w, x, y, z\\right) & \\longmapsto & -1 \\\\ & \\left({{{\\rho}}_M}, {{{\\theta}}_M}, {{{\\phi}}_M}, t_{M}\\right) & \\longmapsto & -1 \\end{array}</script></html>"
      ],
      "text/plain": [
       "M --> R\n",
       "(w, x, y, z) |--> -1\n",
       "(rh_M, th_M, ph_M, t_M) |--> -1"
      ]
     },
     "execution_count": 21,
     "metadata": {},
     "output_type": "execute_result"
    }
   ],
   "source": [
    "N.ambient_metric()(N.normal(),N.normal()).display() # on vérifie le genre du vecteur normal :"
   ]
  },
  {
   "cell_type": "code",
   "execution_count": 22,
   "metadata": {},
   "outputs": [
    {
     "data": {
      "text/html": [
       "<html><script type=\"math/tex; mode=display\">\\newcommand{\\Bold}[1]{\\mathbf{#1}}\\begin{array}{llcl} N:& M & \\longrightarrow & \\mathbb{R} \\\\ & \\left(w, x, y, z\\right) & \\longmapsto & \\frac{\\sqrt{b^{2} + x^{2} + y^{2} + z^{2}}}{b} \\\\ & \\left({{{\\rho}}_M}, {{{\\theta}}_M}, {{{\\phi}}_M}, t_{M}\\right) & \\longmapsto & \\cosh\\left({{{\\rho}}_M}\\right) \\end{array}</script></html>"
      ],
      "text/plain": [
       "N: M --> R\n",
       "   (w, x, y, z) |--> sqrt(b^2 + x^2 + y^2 + z^2)/b\n",
       "   (rh_M, th_M, ph_M, t_M) |--> cosh(rh_M)"
      ]
     },
     "execution_count": 22,
     "metadata": {},
     "output_type": "execute_result"
    }
   ],
   "source": [
    "N.lapse().display()"
   ]
  },
  {
   "cell_type": "code",
   "execution_count": 23,
   "metadata": {},
   "outputs": [
    {
     "data": {
      "text/html": [
       "<html><script type=\"math/tex; mode=display\">\\newcommand{\\Bold}[1]{\\mathbf{#1}}\\beta = \\left( -\\frac{x^{2} + y^{2} + z^{2}}{b^{2}} \\right) \\frac{\\partial}{\\partial w } + \\left( -\\frac{\\sqrt{b^{2} + x^{2} + y^{2} + z^{2}} x}{b^{2}} \\right) \\frac{\\partial}{\\partial x } + \\left( -\\frac{\\sqrt{b^{2} + x^{2} + y^{2} + z^{2}} y}{b^{2}} \\right) \\frac{\\partial}{\\partial y } + \\left( -\\frac{\\sqrt{b^{2} + x^{2} + y^{2} + z^{2}} z}{b^{2}} \\right) \\frac{\\partial}{\\partial z }</script></html>"
      ],
      "text/plain": [
       "beta = -(x^2 + y^2 + z^2)/b^2 d/dw - sqrt(b^2 + x^2 + y^2 + z^2)*x/b^2 d/dx - sqrt(b^2 + x^2 + y^2 + z^2)*y/b^2 d/dy - sqrt(b^2 + x^2 + y^2 + z^2)*z/b^2 d/dz"
      ]
     },
     "execution_count": 23,
     "metadata": {},
     "output_type": "execute_result"
    }
   ],
   "source": [
    "N.shift().display()"
   ]
  },
  {
   "cell_type": "code",
   "execution_count": 24,
   "metadata": {},
   "outputs": [],
   "source": [
    "#N.ambient_extrinsic_curvature()[:]"
   ]
  },
  {
   "cell_type": "code",
   "execution_count": 25,
   "metadata": {},
   "outputs": [],
   "source": [
    "#N.second_fundamental_form()[:]"
   ]
  },
  {
   "cell_type": "code",
   "execution_count": 26,
   "metadata": {},
   "outputs": [
    {
     "data": {
      "text/html": [
       "<html><script type=\"math/tex; mode=display\">\\newcommand{\\Bold}[1]{\\mathbf{#1}}\\gamma</script></html>"
      ],
      "text/plain": [
       "Tensor field gamma of type (0,2) on the 4-dimensional Lorentzian manifold M"
      ]
     },
     "execution_count": 26,
     "metadata": {},
     "output_type": "execute_result"
    }
   ],
   "source": [
    "N.ambient_first_fundamental_form()"
   ]
  },
  {
   "cell_type": "code",
   "execution_count": 27,
   "metadata": {},
   "outputs": [
    {
     "data": {
      "text/html": [
       "<html><script type=\"math/tex; mode=display\">\\newcommand{\\Bold}[1]{\\mathbf{#1}}\\left(\\begin{array}{rrrr}\n",
       "\\frac{x^{2} + y^{2} + z^{2}}{b^{2}} & -\\frac{\\sqrt{b^{2} + x^{2} + y^{2} + z^{2}} x}{b^{2}} & -\\frac{\\sqrt{b^{2} + x^{2} + y^{2} + z^{2}} y}{b^{2}} & -\\frac{\\sqrt{b^{2} + x^{2} + y^{2} + z^{2}} z}{b^{2}} \\\\\n",
       "-\\frac{\\sqrt{b^{2} + x^{2} + y^{2} + z^{2}} x}{b^{2}} & \\frac{b^{2} + x^{2}}{b^{2}} & \\frac{x y}{b^{2}} & \\frac{x z}{b^{2}} \\\\\n",
       "-\\frac{\\sqrt{b^{2} + x^{2} + y^{2} + z^{2}} y}{b^{2}} & \\frac{x y}{b^{2}} & \\frac{b^{2} + y^{2}}{b^{2}} & \\frac{y z}{b^{2}} \\\\\n",
       "-\\frac{\\sqrt{b^{2} + x^{2} + y^{2} + z^{2}} z}{b^{2}} & \\frac{x z}{b^{2}} & \\frac{y z}{b^{2}} & \\frac{b^{2} + z^{2}}{b^{2}}\n",
       "\\end{array}\\right)</script></html>"
      ],
      "text/plain": [
       "[             (x^2 + y^2 + z^2)/b^2 -sqrt(b^2 + x^2 + y^2 + z^2)*x/b^2 -sqrt(b^2 + x^2 + y^2 + z^2)*y/b^2 -sqrt(b^2 + x^2 + y^2 + z^2)*z/b^2]\n",
       "[-sqrt(b^2 + x^2 + y^2 + z^2)*x/b^2                    (b^2 + x^2)/b^2                            x*y/b^2                            x*z/b^2]\n",
       "[-sqrt(b^2 + x^2 + y^2 + z^2)*y/b^2                            x*y/b^2                    (b^2 + y^2)/b^2                            y*z/b^2]\n",
       "[-sqrt(b^2 + x^2 + y^2 + z^2)*z/b^2                            x*z/b^2                            y*z/b^2                    (b^2 + z^2)/b^2]"
      ]
     },
     "execution_count": 27,
     "metadata": {},
     "output_type": "execute_result"
    }
   ],
   "source": [
    "N.project(M.metric())[:]"
   ]
  },
  {
   "cell_type": "code",
   "execution_count": 28,
   "metadata": {},
   "outputs": [
    {
     "data": {
      "text/html": [
       "<html><script type=\"math/tex; mode=display\">\\newcommand{\\Bold}[1]{\\mathbf{#1}}\\mathrm{True}</script></html>"
      ],
      "text/plain": [
       "True"
      ]
     },
     "execution_count": 28,
     "metadata": {},
     "output_type": "execute_result"
    }
   ],
   "source": [
    "N.ambient_first_fundamental_form()==N.project(M.metric())"
   ]
  },
  {
   "cell_type": "code",
   "execution_count": 29,
   "metadata": {},
   "outputs": [
    {
     "data": {
      "text/html": [
       "<html><script type=\"math/tex; mode=display\">\\newcommand{\\Bold}[1]{\\mathbf{#1}}\\overrightarrow{\\gamma}</script></html>"
      ],
      "text/plain": [
       "Tensor field gamma of type (1,1) on the 4-dimensional Lorentzian manifold M"
      ]
     },
     "execution_count": 29,
     "metadata": {},
     "output_type": "execute_result"
    }
   ],
   "source": [
    "N.projector()"
   ]
  },
  {
   "cell_type": "code",
   "execution_count": 30,
   "metadata": {},
   "outputs": [
    {
     "name": "stdout",
     "output_type": "stream",
     "text": [
      "Tensor field gamma of type (1,1) on the 4-dimensional Lorentzian manifold M\n"
     ]
    }
   ],
   "source": [
    "print(N.projector())"
   ]
  },
  {
   "cell_type": "code",
   "execution_count": null,
   "metadata": {},
   "outputs": [],
   "source": []
  }
 ],
 "metadata": {
  "kernelspec": {
   "display_name": "SageMath 8.2.rc3",
   "language": "",
   "name": "sagemath"
  },
  "language_info": {
   "codemirror_mode": {
    "name": "ipython",
    "version": 2
   },
   "file_extension": ".py",
   "mimetype": "text/x-python",
   "name": "python",
   "nbconvert_exporter": "python",
   "pygments_lexer": "ipython2",
   "version": "2.7.14"
  }
 },
 "nbformat": 4,
 "nbformat_minor": 2
}
