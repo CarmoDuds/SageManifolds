{
 "cells": [
  {
   "cell_type": "code",
   "execution_count": 1,
   "metadata": {},
   "outputs": [],
   "source": [
    "%display latex"
   ]
  },
  {
   "cell_type": "code",
   "execution_count": 2,
   "metadata": {},
   "outputs": [
    {
     "name": "stdout",
     "output_type": "stream",
     "text": [
      "4-dimensional Lorentzian manifold M\n"
     ]
    }
   ],
   "source": [
    "M = Manifold(4,'M',structure = \"Lorentzian\");print(M)"
   ]
  },
  {
   "cell_type": "code",
   "execution_count": 3,
   "metadata": {},
   "outputs": [
    {
     "name": "stdout",
     "output_type": "stream",
     "text": [
      "3-dimensional pseudo-Riemannian submanifold N embedded in 4-dimensional differentiable manifold M\n"
     ]
    }
   ],
   "source": [
    "N = Manifold(3,'N',ambient = M,structure = \"Riemannian\");print(N)"
   ]
  },
  {
   "cell_type": "code",
   "execution_count": 4,
   "metadata": {},
   "outputs": [
    {
     "data": {
      "text/html": [
       "<html><script type=\"math/tex; mode=display\">\\newcommand{\\Bold}[1]{\\mathbf{#1}}\\left(N,({\\rho}, {\\theta}, {\\phi})\\right)</script></html>"
      ],
      "text/plain": [
       "Chart (N, (rh, th, ph))"
      ]
     },
     "execution_count": 4,
     "metadata": {},
     "output_type": "execute_result"
    }
   ],
   "source": [
    "C.<rh,th,ph> = N.chart(r'rh:(0,+oo):\\rho th:(0,pi):\\theta ph:(-pi,pi):\\phi');C"
   ]
  },
  {
   "cell_type": "code",
   "execution_count": 5,
   "metadata": {},
   "outputs": [],
   "source": [
    "b = var('b')\n",
    "assume(b>0)"
   ]
  },
  {
   "cell_type": "code",
   "execution_count": 6,
   "metadata": {},
   "outputs": [
    {
     "data": {
      "text/html": [
       "<html><script type=\"math/tex; mode=display\">\\newcommand{\\Bold}[1]{\\mathbf{#1}}\\left(M,(x, y, z, t)\\right)</script></html>"
      ],
      "text/plain": [
       "Chart (M, (x, y, z, t))"
      ]
     },
     "execution_count": 6,
     "metadata": {},
     "output_type": "execute_result"
    }
   ],
   "source": [
    "E.<x,y,z,t> = M.chart();E"
   ]
  },
  {
   "cell_type": "code",
   "execution_count": 7,
   "metadata": {},
   "outputs": [
    {
     "data": {
      "text/html": [
       "<html><script type=\"math/tex; mode=display\">\\newcommand{\\Bold}[1]{\\mathbf{#1}}\\begin{array}{llcl} & N & \\longrightarrow & M \\\\ & \\left({\\rho}, {\\theta}, {\\phi}\\right) & \\longmapsto & \\left(x, y, z, t\\right) = \\left(b \\cos\\left({\\phi}\\right) \\sin\\left({\\theta}\\right) \\sinh\\left({\\rho}\\right), b \\sin\\left({\\phi}\\right) \\sin\\left({\\theta}\\right) \\sinh\\left({\\rho}\\right), b \\cos\\left({\\theta}\\right) \\sinh\\left({\\rho}\\right), b \\cosh\\left({\\rho}\\right)\\right) \\end{array}</script></html>"
      ],
      "text/plain": [
       "N --> M\n",
       "   (rh, th, ph) |--> (x, y, z, t) = (b*cos(ph)*sin(th)*sinh(rh), b*sin(ph)*sin(th)*sinh(rh), b*cos(th)*sinh(rh), b*cosh(rh))"
      ]
     },
     "execution_count": 7,
     "metadata": {},
     "output_type": "execute_result"
    }
   ],
   "source": [
    "phi = N.diff_map(M,{(C,E):[b*sinh(rh)*sin(th)*cos(ph),\n",
    "                           b*sinh(rh)*sin(th)*sin(ph),\n",
    "                           b*sinh(rh)*cos(th),\n",
    "                           b*cosh(rh)]});phi.display()"
   ]
  },
  {
   "cell_type": "code",
   "execution_count": 8,
   "metadata": {},
   "outputs": [
    {
     "data": {
      "text/html": [
       "<html><script type=\"math/tex; mode=display\">\\newcommand{\\Bold}[1]{\\mathbf{#1}}\\begin{array}{llcl} & M & \\longrightarrow & N \\\\ & \\left(x, y, z, t\\right) & \\longmapsto & \\left({\\rho}, {\\theta}, {\\phi}\\right) = \\left(\\operatorname{arcosh}\\left(\\frac{t}{b}\\right), \\arccos\\left(\\frac{z}{b \\sqrt{\\frac{t}{b} + 1} \\sqrt{\\frac{t}{b} - 1}}\\right), \\arctan\\left(\\frac{y}{x}\\right)\\right) \\end{array}</script></html>"
      ],
      "text/plain": [
       "M --> N\n",
       "   (x, y, z, t) |--> (rh, th, ph) = (arccosh(t/b), arccos(z/(b*sqrt(t/b + 1)*sqrt(t/b - 1))), arctan(y/x))"
      ]
     },
     "execution_count": 8,
     "metadata": {},
     "output_type": "execute_result"
    }
   ],
   "source": [
    "phi_inv = M.diff_map(N,{(E,C):[arccosh(t/b),\n",
    "                               arccos(z/sinh(arccosh(t/b))/b),\n",
    "                               arctan(y/x)]});phi_inv.display()"
   ]
  },
  {
   "cell_type": "code",
   "execution_count": 9,
   "metadata": {},
   "outputs": [
    {
     "data": {
      "text/html": [
       "<html><script type=\"math/tex; mode=display\">\\newcommand{\\Bold}[1]{\\mathbf{#1}}\\begin{array}{llcl} & M & \\longrightarrow & \\mathbb{R} \\\\ & \\left(x, y, z, t\\right) & \\longmapsto & \\sqrt{t^{2} - x^{2} - y^{2} - z^{2}} \\end{array}</script></html>"
      ],
      "text/plain": [
       "M --> R\n",
       "(x, y, z, t) |--> sqrt(t^2 - x^2 - y^2 - z^2)"
      ]
     },
     "execution_count": 9,
     "metadata": {},
     "output_type": "execute_result"
    }
   ],
   "source": [
    "phi_inv_b = M.scalar_field({E:sqrt(-x**2-y**2-z**2+t**2)}); phi_inv_b.display()"
   ]
  },
  {
   "cell_type": "code",
   "execution_count": 10,
   "metadata": {},
   "outputs": [],
   "source": [
    "N.set_immersion(phi,phi_inverse = phi_inv,var = b,t_inverse = {b:phi_inv_b})"
   ]
  },
  {
   "cell_type": "code",
   "execution_count": 11,
   "metadata": {},
   "outputs": [],
   "source": [
    "N.declare_embedding()"
   ]
  },
  {
   "cell_type": "code",
   "execution_count": 12,
   "metadata": {},
   "outputs": [
    {
     "data": {
      "text/html": [
       "<html><script type=\"math/tex; mode=display\">\\newcommand{\\Bold}[1]{\\mathbf{#1}}\\left[\\left(M,(\\mathit{rh}_{M}, \\mathit{th}_{M}, \\mathit{ph}_{M}, b_{M})\\right)\\right]</script></html>"
      ],
      "text/plain": [
       "[Chart (M, (rh_M, th_M, ph_M, b_M))]"
      ]
     },
     "execution_count": 12,
     "metadata": {},
     "output_type": "execute_result"
    }
   ],
   "source": [
    "T = N.adapted_chart();T"
   ]
  },
  {
   "cell_type": "code",
   "execution_count": 13,
   "metadata": {},
   "outputs": [],
   "source": [
    "g = M.metric('g')\n",
    "g[0,0],g[1,1],g[2,2],g[3,3]=1,1,1,-1"
   ]
  },
  {
   "cell_type": "code",
   "execution_count": 14,
   "metadata": {},
   "outputs": [
    {
     "data": {
      "text/html": [
       "<html><script type=\"math/tex; mode=display\">\\newcommand{\\Bold}[1]{\\mathbf{#1}}\\left(\\begin{array}{rrr}\n",
       "b^{2} & 0 & 0 \\\\\n",
       "0 & b^{2} \\sinh\\left({\\rho}\\right)^{2} & 0 \\\\\n",
       "0 & 0 & b^{2} \\sin\\left({\\theta}\\right)^{2} \\sinh\\left({\\rho}\\right)^{2}\n",
       "\\end{array}\\right)</script></html>"
      ],
      "text/plain": [
       "[                     b^2                        0                        0]\n",
       "[                       0           b^2*sinh(rh)^2                        0]\n",
       "[                       0                        0 b^2*sin(th)^2*sinh(rh)^2]"
      ]
     },
     "execution_count": 14,
     "metadata": {},
     "output_type": "execute_result"
    }
   ],
   "source": [
    "N.gamma()[:]"
   ]
  },
  {
   "cell_type": "code",
   "execution_count": 15,
   "metadata": {},
   "outputs": [],
   "source": [
    "#N.K().display()"
   ]
  },
  {
   "cell_type": "code",
   "execution_count": 16,
   "metadata": {},
   "outputs": [
    {
     "data": {
      "text/html": [
       "<html><script type=\"math/tex; mode=display\">\\newcommand{\\Bold}[1]{\\mathbf{#1}}\\begin{array}{llcl} & M & \\longrightarrow & \\mathbb{R} \\\\ & \\left(x, y, z, t\\right) & \\longmapsto & 1 \\\\ & \\left(\\mathit{rh}_{M}, \\mathit{th}_{M}, \\mathit{ph}_{M}, b_{M}\\right) & \\longmapsto & 1 \\end{array}</script></html>"
      ],
      "text/plain": [
       "M --> R\n",
       "(x, y, z, t) |--> 1\n",
       "(rh_M, th_M, ph_M, b_M) |--> 1"
      ]
     },
     "execution_count": 16,
     "metadata": {},
     "output_type": "execute_result"
    }
   ],
   "source": [
    "N.lapse().display()"
   ]
  },
  {
   "cell_type": "code",
   "execution_count": 17,
   "metadata": {},
   "outputs": [
    {
     "data": {
      "text/html": [
       "<html><script type=\"math/tex; mode=display\">\\newcommand{\\Bold}[1]{\\mathbf{#1}}\\left( \\frac{x}{\\sqrt{t^{2} - x^{2} - y^{2} - z^{2}}} \\right) \\frac{\\partial}{\\partial x } + \\left( \\frac{y}{\\sqrt{t^{2} - x^{2} - y^{2} - z^{2}}} \\right) \\frac{\\partial}{\\partial y } + \\left( \\frac{z}{\\sqrt{t^{2} - x^{2} - y^{2} - z^{2}}} \\right) \\frac{\\partial}{\\partial z } + \\left( \\frac{t}{\\sqrt{t^{2} - x^{2} - y^{2} - z^{2}}} \\right) \\frac{\\partial}{\\partial t }</script></html>"
      ],
      "text/plain": [
       "x/sqrt(t^2 - x^2 - y^2 - z^2) d/dx + y/sqrt(t^2 - x^2 - y^2 - z^2) d/dy + z/sqrt(t^2 - x^2 - y^2 - z^2) d/dz + t/sqrt(t^2 - x^2 - y^2 - z^2) d/dt"
      ]
     },
     "execution_count": 17,
     "metadata": {},
     "output_type": "execute_result"
    }
   ],
   "source": [
    "N.normal().display()"
   ]
  },
  {
   "cell_type": "code",
   "execution_count": 18,
   "metadata": {},
   "outputs": [
    {
     "data": {
      "text/html": [
       "<html><script type=\"math/tex; mode=display\">\\newcommand{\\Bold}[1]{\\mathbf{#1}}\\frac{\\partial}{\\partial b_{M} }</script></html>"
      ],
      "text/plain": [
       "d/db_M"
      ]
     },
     "execution_count": 18,
     "metadata": {},
     "output_type": "execute_result"
    }
   ],
   "source": [
    "N.normal().display(T[0].frame(),T[0])"
   ]
  },
  {
   "cell_type": "code",
   "execution_count": 19,
   "metadata": {},
   "outputs": [
    {
     "data": {
      "text/html": [
       "<html><script type=\"math/tex; mode=display\">\\newcommand{\\Bold}[1]{\\mathbf{#1}}\\begin{array}{llcl} & M & \\longrightarrow & \\mathbb{R} \\\\ & \\left(x, y, z, t\\right) & \\longmapsto & -1 \\\\ & \\left(\\mathit{rh}_{M}, \\mathit{th}_{M}, \\mathit{ph}_{M}, b_{M}\\right) & \\longmapsto & -1 \\end{array}</script></html>"
      ],
      "text/plain": [
       "M --> R\n",
       "(x, y, z, t) |--> -1\n",
       "(rh_M, th_M, ph_M, b_M) |--> -1"
      ]
     },
     "execution_count": 19,
     "metadata": {},
     "output_type": "execute_result"
    }
   ],
   "source": [
    "N.ambient_g()(N.gradt(),N.gradt()).display() # on vérifie le genre du vecteur normal :"
   ]
  },
  {
   "cell_type": "code",
   "execution_count": 20,
   "metadata": {},
   "outputs": [
    {
     "data": {
      "text/html": [
       "<html><script type=\"math/tex; mode=display\">\\newcommand{\\Bold}[1]{\\mathbf{#1}}\\left(\\begin{array}{rrr}\n",
       "b^{2} & 0 & 0 \\\\\n",
       "0 & b^{2} \\sinh\\left({\\rho}\\right)^{2} & 0 \\\\\n",
       "0 & 0 & b^{2} \\sin\\left({\\theta}\\right)^{2} \\sinh\\left({\\rho}\\right)^{2}\n",
       "\\end{array}\\right)</script></html>"
      ],
      "text/plain": [
       "[                     b^2                        0                        0]\n",
       "[                       0           b^2*sinh(rh)^2                        0]\n",
       "[                       0                        0 b^2*sin(th)^2*sinh(rh)^2]"
      ]
     },
     "execution_count": 20,
     "metadata": {},
     "output_type": "execute_result"
    }
   ],
   "source": [
    "N.gamma()[:]"
   ]
  },
  {
   "cell_type": "code",
   "execution_count": 21,
   "metadata": {},
   "outputs": [
    {
     "data": {
      "text/html": [
       "<html><script type=\"math/tex; mode=display\">\\newcommand{\\Bold}[1]{\\mathbf{#1}}\\left(\\begin{array}{rrr}\n",
       "-b & 0 & 0 \\\\\n",
       "0 & b \\cos\\left({\\theta}\\right)^{2} \\sin\\left({\\theta}\\right)^{2} \\sinh\\left({\\rho}\\right)^{4} - b \\cos\\left({\\theta}\\right)^{2} \\sinh\\left({\\rho}\\right)^{2} + {\\left(b \\sin\\left({\\theta}\\right)^{4} \\sinh\\left({\\rho}\\right)^{4} - b \\cosh\\left({\\rho}\\right)^{2} \\sin\\left({\\theta}\\right)^{2} \\sinh\\left({\\rho}\\right)^{2}\\right)} \\sqrt{-\\cos\\left({\\theta}\\right)^{2} \\sinh\\left({\\rho}\\right)^{2} - \\sin\\left({\\theta}\\right)^{2} \\sinh\\left({\\rho}\\right)^{2} + \\cosh\\left({\\rho}\\right)^{2}} & 0 \\\\\n",
       "0 & 0 & -b \\sin\\left({\\theta}\\right)^{2} \\sinh\\left({\\rho}\\right)^{2}\n",
       "\\end{array}\\right)</script></html>"
      ],
      "text/plain": [
       "[                                                                                                                                                                                      -b                                                                                                                                                                                        0                                                                                                                                                                                        0]\n",
       "[                                                                                                                                                                                       0 b*cos(th)^2*sin(th)^2*sinh(rh)^4 - b*cos(th)^2*sinh(rh)^2 + (b*sin(th)^4*sinh(rh)^4 - b*cosh(rh)^2*sin(th)^2*sinh(rh)^2)*sqrt(-cos(th)^2*sinh(rh)^2 - sin(th)^2*sinh(rh)^2 + cosh(rh)^2)                                                                                                                                                                                        0]\n",
       "[                                                                                                                                                                                       0                                                                                                                                                                                        0                                                                                                                                                                  -b*sin(th)^2*sinh(rh)^2]"
      ]
     },
     "execution_count": 21,
     "metadata": {},
     "output_type": "execute_result"
    }
   ],
   "source": [
    "N.K()[:] # très long : jusqu'à 2 minutes"
   ]
  },
  {
   "cell_type": "code",
   "execution_count": 22,
   "metadata": {},
   "outputs": [
    {
     "data": {
      "text/html": [
       "<html><script type=\"math/tex; mode=display\">\\newcommand{\\Bold}[1]{\\mathbf{#1}}-b \\sinh\\left({\\rho}\\right)^{2}</script></html>"
      ],
      "text/plain": [
       "-b*sinh(rh)^2"
      ]
     },
     "execution_count": 22,
     "metadata": {},
     "output_type": "execute_result"
    }
   ],
   "source": [
    "#Le second terme peut être simplifié : \n",
    "N.K()[1,1]._express.values()[0].trig_reduce().trig_simplify()"
   ]
  },
  {
   "cell_type": "code",
   "execution_count": null,
   "metadata": {},
   "outputs": [],
   "source": []
  }
 ],
 "metadata": {
  "kernelspec": {
   "display_name": "SageMath 8.2.rc3",
   "language": "",
   "name": "sagemath"
  },
  "language_info": {
   "codemirror_mode": {
    "name": "ipython",
    "version": 2
   },
   "file_extension": ".py",
   "mimetype": "text/x-python",
   "name": "python",
   "nbconvert_exporter": "python",
   "pygments_lexer": "ipython2",
   "version": "2.7.14"
  }
 },
 "nbformat": 4,
 "nbformat_minor": 2
}
