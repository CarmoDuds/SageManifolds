{
 "cells": [
  {
   "cell_type": "code",
   "execution_count": 1,
   "metadata": {},
   "outputs": [],
   "source": [
    "%display latex"
   ]
  },
  {
   "cell_type": "code",
   "execution_count": 2,
   "metadata": {},
   "outputs": [
    {
     "name": "stdout",
     "output_type": "stream",
     "text": [
      "3-dimensional Riemannian manifold M\n"
     ]
    }
   ],
   "source": [
    "M = Manifold(3,'M',structure = \"Riemannian\",start_index = 1);print(M)"
   ]
  },
  {
   "cell_type": "code",
   "execution_count": 3,
   "metadata": {},
   "outputs": [
    {
     "name": "stdout",
     "output_type": "stream",
     "text": [
      "2-dimensional Riemannian manifold N\n"
     ]
    }
   ],
   "source": [
    "N = Manifold(2,'N',structure = \"Riemannian\");print(N)"
   ]
  },
  {
   "cell_type": "code",
   "execution_count": 4,
   "metadata": {},
   "outputs": [],
   "source": [
    "U = N.open_subset('U')"
   ]
  },
  {
   "cell_type": "code",
   "execution_count": 5,
   "metadata": {},
   "outputs": [],
   "source": [
    "stereoN.<x,y> = U.chart()"
   ]
  },
  {
   "cell_type": "code",
   "execution_count": 6,
   "metadata": {},
   "outputs": [],
   "source": [
    "W = U.open_subset('W')"
   ]
  },
  {
   "cell_type": "code",
   "execution_count": 7,
   "metadata": {},
   "outputs": [
    {
     "data": {
      "text/html": [
       "<html><script type=\"math/tex; mode=display\">\\newcommand{\\Bold}[1]{\\mathbf{#1}}\\left(M,(X, Y, Z)\\right)</script></html>"
      ],
      "text/plain": [
       "Chart (M, (X, Y, Z))"
      ]
     },
     "execution_count": 7,
     "metadata": {},
     "output_type": "execute_result"
    }
   ],
   "source": [
    "E.<X,Y,Z> = M.chart();E"
   ]
  },
  {
   "cell_type": "code",
   "execution_count": 8,
   "metadata": {},
   "outputs": [],
   "source": [
    "phi = N.diff_map(M, {(stereoN, E): [2*x/(1+x^2+y^2),\n",
    "                                    2*y/(1+x^2+y^2),\n",
    "                                    (x^2+y^2-1)/(1+x^2+y^2)]},\n",
    "                  name='Phi', latex_name=r'\\Phi')"
   ]
  },
  {
   "cell_type": "code",
   "execution_count": 9,
   "metadata": {},
   "outputs": [
    {
     "data": {
      "text/html": [
       "<html><script type=\"math/tex; mode=display\">\\newcommand{\\Bold}[1]{\\mathbf{#1}}\\left(N, \\left(\\frac{\\partial}{\\partial X },\\frac{\\partial}{\\partial Y },\\frac{\\partial}{\\partial Z }\\right)\\right)</script></html>"
      ],
      "text/plain": [
       "Vector frame (N, (d/dX,d/dY,d/dZ)) with values on the 3-dimensional Riemannian manifold M"
      ]
     },
     "execution_count": 9,
     "metadata": {},
     "output_type": "execute_result"
    }
   ],
   "source": [
    "F = E.frame().along(phi)\n",
    "F"
   ]
  },
  {
   "cell_type": "code",
   "execution_count": 10,
   "metadata": {},
   "outputs": [
    {
     "name": "stdout",
     "output_type": "stream",
     "text": [
      "False\n",
      "True\n",
      "True\n"
     ]
    }
   ],
   "source": [
    "print(F.restrict(W) is F.restrict(U).restrict(W))\n",
    "print(F.restrict(W) is F.restrict(U).restrict(W))\n",
    "print(F.restrict(W) is F.restrict(U).restrict(W))"
   ]
  },
  {
   "cell_type": "code",
   "execution_count": 11,
   "metadata": {},
   "outputs": [
    {
     "data": {
      "text/html": [
       "<html><script type=\"math/tex; mode=display\">\\newcommand{\\Bold}[1]{\\mathbf{#1}}v</script></html>"
      ],
      "text/plain": [
       "Vector field v along the Open subset W of the 2-dimensional Riemannian manifold N with values on the 3-dimensional Riemannian manifold M"
      ]
     },
     "execution_count": 11,
     "metadata": {},
     "output_type": "execute_result"
    }
   ],
   "source": [
    "v = N.vector_field(\"v\",r\"v\",phi)\n",
    "v.restrict(U)\n",
    "v.restrict(W)"
   ]
  },
  {
   "cell_type": "code",
   "execution_count": 12,
   "metadata": {},
   "outputs": [
    {
     "name": "stdout",
     "output_type": "stream",
     "text": [
      "True\n",
      "True\n",
      "True\n"
     ]
    }
   ],
   "source": [
    "print(F.restrict(W) is F.restrict(U).restrict(W))\n",
    "print(F.restrict(W) is F.restrict(U).restrict(W))\n",
    "print(F.restrict(W) is F.restrict(U).restrict(W))"
   ]
  },
  {
   "cell_type": "code",
   "execution_count": null,
   "metadata": {},
   "outputs": [],
   "source": []
  }
 ],
 "metadata": {
  "kernelspec": {
   "display_name": "SageMath 8.3.beta0",
   "language": "",
   "name": "sagemath"
  },
  "language_info": {
   "codemirror_mode": {
    "name": "ipython",
    "version": 2
   },
   "file_extension": ".py",
   "mimetype": "text/x-python",
   "name": "python",
   "nbconvert_exporter": "python",
   "pygments_lexer": "ipython2",
   "version": "2.7.14"
  }
 },
 "nbformat": 4,
 "nbformat_minor": 2
}
