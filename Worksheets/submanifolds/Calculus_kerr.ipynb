{
 "cells": [
  {
   "cell_type": "markdown",
   "metadata": {},
   "source": [
    "## 3+1 slicing of Kerr spacetime"
   ]
  },
  {
   "cell_type": "code",
   "execution_count": 1,
   "metadata": {},
   "outputs": [],
   "source": [
    "%display latex\n",
    "Parallelism().set_default(nproc=4)"
   ]
  },
  {
   "cell_type": "code",
   "execution_count": 2,
   "metadata": {},
   "outputs": [
    {
     "name": "stdout",
     "output_type": "stream",
     "text": [
      "4-dimensional Lorentzian manifold M\n"
     ]
    }
   ],
   "source": [
    "M = Manifold(4,'M',structure = \"Lorentzian\");print(M)"
   ]
  },
  {
   "cell_type": "code",
   "execution_count": 3,
   "metadata": {},
   "outputs": [
    {
     "name": "stdout",
     "output_type": "stream",
     "text": [
      "3-dimensional pseudo-Riemannian submanifold N embedded in 4-dimensional differentiable manifold M\n"
     ]
    }
   ],
   "source": [
    "N = Manifold(3,'N',ambient = M,structure = \"Riemannian\");print(N)"
   ]
  },
  {
   "cell_type": "code",
   "execution_count": 4,
   "metadata": {},
   "outputs": [],
   "source": [
    "C.<t,r,th,ph> = M.chart(r't:(-oo,+oo) r:(0,+oo) th:(0,pi):\\theta ph:(-pi,pi):\\phi')"
   ]
  },
  {
   "cell_type": "code",
   "execution_count": 5,
   "metadata": {},
   "outputs": [],
   "source": [
    "g = M.metric()"
   ]
  },
  {
   "cell_type": "code",
   "execution_count": 6,
   "metadata": {},
   "outputs": [],
   "source": [
    "m = var('m') # mass\n",
    "a = var('a') # ratio J/m"
   ]
  },
  {
   "cell_type": "code",
   "execution_count": 7,
   "metadata": {},
   "outputs": [],
   "source": [
    "rho = sqrt(r**2+a**2*cos(th)**2)"
   ]
  },
  {
   "cell_type": "code",
   "execution_count": 8,
   "metadata": {},
   "outputs": [],
   "source": [
    "g[0,0],g[1,1],g[2,2],g[3,3] = -(1-2*m*r/rho**2),1+2*m*r/rho**2,rho**2,(r**2+a**2+2*a**2*m*r*sin(th)**2/rho**2)*sin(th)**2\n",
    "g[0,1] = 2*m*r/rho**2\n",
    "g[0,3] = -2*a*m*r/rho**2*sin(th)**2\n",
    "g[1,3] = -a*sin(th)**2*(1+2*m*r/rho**2)"
   ]
  },
  {
   "cell_type": "code",
   "execution_count": 9,
   "metadata": {},
   "outputs": [
    {
     "data": {
      "text/html": [
       "<html><script type=\"math/tex; mode=display\">\\newcommand{\\Bold}[1]{\\mathbf{#1}}\\left(\\begin{array}{rrrr}\n",
       "\\frac{2 \\, m r}{a^{2} \\cos\\left({\\theta}\\right)^{2} + r^{2}} - 1 & \\frac{2 \\, m r}{a^{2} \\cos\\left({\\theta}\\right)^{2} + r^{2}} & 0 & -\\frac{2 \\, a m r \\sin\\left({\\theta}\\right)^{2}}{a^{2} \\cos\\left({\\theta}\\right)^{2} + r^{2}} \\\\\n",
       "\\frac{2 \\, m r}{a^{2} \\cos\\left({\\theta}\\right)^{2} + r^{2}} & \\frac{2 \\, m r}{a^{2} \\cos\\left({\\theta}\\right)^{2} + r^{2}} + 1 & 0 & -a {\\left(\\frac{2 \\, m r}{a^{2} \\cos\\left({\\theta}\\right)^{2} + r^{2}} + 1\\right)} \\sin\\left({\\theta}\\right)^{2} \\\\\n",
       "0 & 0 & a^{2} \\cos\\left({\\theta}\\right)^{2} + r^{2} & 0 \\\\\n",
       "-\\frac{2 \\, a m r \\sin\\left({\\theta}\\right)^{2}}{a^{2} \\cos\\left({\\theta}\\right)^{2} + r^{2}} & -a {\\left(\\frac{2 \\, m r}{a^{2} \\cos\\left({\\theta}\\right)^{2} + r^{2}} + 1\\right)} \\sin\\left({\\theta}\\right)^{2} & 0 & {\\left(\\frac{2 \\, a^{2} m r \\sin\\left({\\theta}\\right)^{2}}{a^{2} \\cos\\left({\\theta}\\right)^{2} + r^{2}} + a^{2} + r^{2}\\right)} \\sin\\left({\\theta}\\right)^{2}\n",
       "\\end{array}\\right)</script></html>"
      ],
      "text/plain": [
       "[                                  2*m*r/(a^2*cos(th)^2 + r^2) - 1                                       2*m*r/(a^2*cos(th)^2 + r^2)                                                                 0                          -2*a*m*r*sin(th)^2/(a^2*cos(th)^2 + r^2)]\n",
       "[                                      2*m*r/(a^2*cos(th)^2 + r^2)                                   2*m*r/(a^2*cos(th)^2 + r^2) + 1                                                                 0                    -a*(2*m*r/(a^2*cos(th)^2 + r^2) + 1)*sin(th)^2]\n",
       "[                                                                0                                                                 0                                               a^2*cos(th)^2 + r^2                                                                 0]\n",
       "[                         -2*a*m*r*sin(th)^2/(a^2*cos(th)^2 + r^2)                    -a*(2*m*r/(a^2*cos(th)^2 + r^2) + 1)*sin(th)^2                                                                 0 (2*a^2*m*r*sin(th)^2/(a^2*cos(th)^2 + r^2) + a^2 + r^2)*sin(th)^2]"
      ]
     },
     "execution_count": 9,
     "metadata": {},
     "output_type": "execute_result"
    }
   ],
   "source": [
    "g[:]"
   ]
  },
  {
   "cell_type": "code",
   "execution_count": 10,
   "metadata": {},
   "outputs": [],
   "source": [
    "nab = g.connection() # long time"
   ]
  },
  {
   "cell_type": "markdown",
   "metadata": {},
   "source": [
    "List of Christoffel symbols:"
   ]
  },
  {
   "cell_type": "code",
   "execution_count": 11,
   "metadata": {},
   "outputs": [
    {
     "data": {
      "text/html": [
       "<html><script type=\"math/tex; mode=display\">\\newcommand{\\Bold}[1]{\\mathbf{#1}}\\begin{array}{lcl} \\Gamma_{ \\phantom{\\, t} \\, t \\, t }^{ \\, t \\phantom{\\, t} \\phantom{\\, t} } & = & -\\frac{2 \\, {\\left(a^{2} m^{2} r \\cos\\left({\\theta}\\right)^{2} - m^{2} r^{3}\\right)}}{a^{6} \\cos\\left({\\theta}\\right)^{6} + 3 \\, a^{4} r^{2} \\cos\\left({\\theta}\\right)^{4} + 3 \\, a^{2} r^{4} \\cos\\left({\\theta}\\right)^{2} + r^{6}} \\\\ \\Gamma_{ \\phantom{\\, t} \\, t \\, r }^{ \\, t \\phantom{\\, t} \\phantom{\\, r} } & = & -\\frac{a^{4} m \\cos\\left({\\theta}\\right)^{4} + 2 \\, a^{2} m^{2} r \\cos\\left({\\theta}\\right)^{2} - 2 \\, m^{2} r^{3} - m r^{4}}{a^{6} \\cos\\left({\\theta}\\right)^{6} + 3 \\, a^{4} r^{2} \\cos\\left({\\theta}\\right)^{4} + 3 \\, a^{2} r^{4} \\cos\\left({\\theta}\\right)^{2} + r^{6}} \\\\ \\Gamma_{ \\phantom{\\, t} \\, t \\, {\\theta} }^{ \\, t \\phantom{\\, t} \\phantom{\\, {\\theta}} } & = & -\\frac{2 \\, a^{2} m r \\cos\\left({\\theta}\\right) \\sin\\left({\\theta}\\right)}{a^{4} \\cos\\left({\\theta}\\right)^{4} + 2 \\, a^{2} r^{2} \\cos\\left({\\theta}\\right)^{2} + r^{4}} \\\\ \\Gamma_{ \\phantom{\\, t} \\, t \\, {\\phi} }^{ \\, t \\phantom{\\, t} \\phantom{\\, {\\phi}} } & = & \\frac{2 \\, {\\left(a^{3} m^{2} r \\cos\\left({\\theta}\\right)^{2} - a m^{2} r^{3}\\right)} \\sin\\left({\\theta}\\right)^{2}}{a^{6} \\cos\\left({\\theta}\\right)^{6} + 3 \\, a^{4} r^{2} \\cos\\left({\\theta}\\right)^{4} + 3 \\, a^{2} r^{4} \\cos\\left({\\theta}\\right)^{2} + r^{6}} \\\\ \\Gamma_{ \\phantom{\\, t} \\, r \\, r }^{ \\, t \\phantom{\\, r} \\phantom{\\, r} } & = & -\\frac{2 \\, {\\left(a^{4} m \\cos\\left({\\theta}\\right)^{4} + a^{2} m^{2} r \\cos\\left({\\theta}\\right)^{2} - m^{2} r^{3} - m r^{4}\\right)}}{a^{6} \\cos\\left({\\theta}\\right)^{6} + 3 \\, a^{4} r^{2} \\cos\\left({\\theta}\\right)^{4} + 3 \\, a^{2} r^{4} \\cos\\left({\\theta}\\right)^{2} + r^{6}} \\\\ \\Gamma_{ \\phantom{\\, t} \\, r \\, {\\theta} }^{ \\, t \\phantom{\\, r} \\phantom{\\, {\\theta}} } & = & -\\frac{2 \\, a^{2} m r \\cos\\left({\\theta}\\right) \\sin\\left({\\theta}\\right)}{a^{4} \\cos\\left({\\theta}\\right)^{4} + 2 \\, a^{2} r^{2} \\cos\\left({\\theta}\\right)^{2} + r^{4}} \\\\ \\Gamma_{ \\phantom{\\, t} \\, r \\, {\\phi} }^{ \\, t \\phantom{\\, r} \\phantom{\\, {\\phi}} } & = & \\frac{{\\left(a^{5} m \\cos\\left({\\theta}\\right)^{4} + 2 \\, a^{3} m^{2} r \\cos\\left({\\theta}\\right)^{2} - 2 \\, a m^{2} r^{3} - a m r^{4}\\right)} \\sin\\left({\\theta}\\right)^{2}}{a^{6} \\cos\\left({\\theta}\\right)^{6} + 3 \\, a^{4} r^{2} \\cos\\left({\\theta}\\right)^{4} + 3 \\, a^{2} r^{4} \\cos\\left({\\theta}\\right)^{2} + r^{6}} \\\\ \\Gamma_{ \\phantom{\\, t} \\, {\\theta} \\, {\\theta} }^{ \\, t \\phantom{\\, {\\theta}} \\phantom{\\, {\\theta}} } & = & -\\frac{2 \\, m r^{2}}{a^{2} \\cos\\left({\\theta}\\right)^{2} + r^{2}} \\\\ \\Gamma_{ \\phantom{\\, t} \\, {\\theta} \\, {\\phi} }^{ \\, t \\phantom{\\, {\\theta}} \\phantom{\\, {\\phi}} } & = & \\frac{2 \\, a^{3} m r \\cos\\left({\\theta}\\right) \\sin\\left({\\theta}\\right)^{3}}{a^{4} \\cos\\left({\\theta}\\right)^{4} + 2 \\, a^{2} r^{2} \\cos\\left({\\theta}\\right)^{2} + r^{4}} \\\\ \\Gamma_{ \\phantom{\\, t} \\, {\\phi} \\, {\\phi} }^{ \\, t \\phantom{\\, {\\phi}} \\phantom{\\, {\\phi}} } & = & -\\frac{2 \\, {\\left({\\left(a^{4} m^{2} r \\cos\\left({\\theta}\\right)^{2} - a^{2} m^{2} r^{3}\\right)} \\sin\\left({\\theta}\\right)^{4} + {\\left(a^{4} m r^{2} \\cos\\left({\\theta}\\right)^{4} + 2 \\, a^{2} m r^{4} \\cos\\left({\\theta}\\right)^{2} + m r^{6}\\right)} \\sin\\left({\\theta}\\right)^{2}\\right)}}{a^{6} \\cos\\left({\\theta}\\right)^{6} + 3 \\, a^{4} r^{2} \\cos\\left({\\theta}\\right)^{4} + 3 \\, a^{2} r^{4} \\cos\\left({\\theta}\\right)^{2} + r^{6}} \\\\ \\Gamma_{ \\phantom{\\, r} \\, t \\, t }^{ \\, r \\phantom{\\, t} \\phantom{\\, t} } & = & \\frac{a^{2} m r^{2} - 2 \\, m^{2} r^{3} + m r^{4} - {\\left(a^{4} m - 2 \\, a^{2} m^{2} r + a^{2} m r^{2}\\right)} \\cos\\left({\\theta}\\right)^{2}}{a^{6} \\cos\\left({\\theta}\\right)^{6} + 3 \\, a^{4} r^{2} \\cos\\left({\\theta}\\right)^{4} + 3 \\, a^{2} r^{4} \\cos\\left({\\theta}\\right)^{2} + r^{6}} \\\\ \\Gamma_{ \\phantom{\\, r} \\, t \\, r }^{ \\, r \\phantom{\\, t} \\phantom{\\, r} } & = & \\frac{2 \\, a^{2} m^{2} r \\cos\\left({\\theta}\\right)^{2} - 2 \\, m^{2} r^{3} - {\\left(a^{4} m \\cos\\left({\\theta}\\right)^{2} - a^{2} m r^{2}\\right)} \\sin\\left({\\theta}\\right)^{2}}{a^{6} \\cos\\left({\\theta}\\right)^{6} + 3 \\, a^{4} r^{2} \\cos\\left({\\theta}\\right)^{4} + 3 \\, a^{2} r^{4} \\cos\\left({\\theta}\\right)^{2} + r^{6}} \\\\ \\Gamma_{ \\phantom{\\, r} \\, t \\, {\\phi} }^{ \\, r \\phantom{\\, t} \\phantom{\\, {\\phi}} } & = & -\\frac{{\\left(a^{3} m r^{2} - 2 \\, a m^{2} r^{3} + a m r^{4} - {\\left(a^{5} m - 2 \\, a^{3} m^{2} r + a^{3} m r^{2}\\right)} \\cos\\left({\\theta}\\right)^{2}\\right)} \\sin\\left({\\theta}\\right)^{2}}{a^{6} \\cos\\left({\\theta}\\right)^{6} + 3 \\, a^{4} r^{2} \\cos\\left({\\theta}\\right)^{4} + 3 \\, a^{2} r^{4} \\cos\\left({\\theta}\\right)^{2} + r^{6}} \\\\ \\Gamma_{ \\phantom{\\, r} \\, r \\, r }^{ \\, r \\phantom{\\, r} \\phantom{\\, r} } & = & \\frac{2 \\, a^{4} m \\cos\\left({\\theta}\\right)^{4} + a^{2} m r^{2} - 2 \\, m^{2} r^{3} - m r^{4} - {\\left(a^{4} m - 2 \\, a^{2} m^{2} r + a^{2} m r^{2}\\right)} \\cos\\left({\\theta}\\right)^{2}}{a^{6} \\cos\\left({\\theta}\\right)^{6} + 3 \\, a^{4} r^{2} \\cos\\left({\\theta}\\right)^{4} + 3 \\, a^{2} r^{4} \\cos\\left({\\theta}\\right)^{2} + r^{6}} \\\\ \\Gamma_{ \\phantom{\\, r} \\, r \\, {\\theta} }^{ \\, r \\phantom{\\, r} \\phantom{\\, {\\theta}} } & = & -\\frac{a^{2} \\cos\\left({\\theta}\\right) \\sin\\left({\\theta}\\right)}{a^{2} \\cos\\left({\\theta}\\right)^{2} + r^{2}} \\\\ \\Gamma_{ \\phantom{\\, r} \\, r \\, {\\phi} }^{ \\, r \\phantom{\\, r} \\phantom{\\, {\\phi}} } & = & \\frac{{\\left(a^{5} m \\cos\\left({\\theta}\\right)^{2} - a^{3} m r^{2}\\right)} \\sin\\left({\\theta}\\right)^{4} + {\\left(a^{5} r \\cos\\left({\\theta}\\right)^{4} + 2 \\, a m^{2} r^{3} + a r^{5} - 2 \\, {\\left(a^{3} m^{2} r - a^{3} r^{3}\\right)} \\cos\\left({\\theta}\\right)^{2}\\right)} \\sin\\left({\\theta}\\right)^{2}}{a^{6} \\cos\\left({\\theta}\\right)^{6} + 3 \\, a^{4} r^{2} \\cos\\left({\\theta}\\right)^{4} + 3 \\, a^{2} r^{4} \\cos\\left({\\theta}\\right)^{2} + r^{6}} \\\\ \\Gamma_{ \\phantom{\\, r} \\, {\\theta} \\, {\\theta} }^{ \\, r \\phantom{\\, {\\theta}} \\phantom{\\, {\\theta}} } & = & -\\frac{a^{2} r - 2 \\, m r^{2} + r^{3}}{a^{2} \\cos\\left({\\theta}\\right)^{2} + r^{2}} \\\\ \\Gamma_{ \\phantom{\\, r} \\, {\\phi} \\, {\\phi} }^{ \\, r \\phantom{\\, {\\phi}} \\phantom{\\, {\\phi}} } & = & \\frac{{\\left(a^{4} m r^{2} - 2 \\, a^{2} m^{2} r^{3} + a^{2} m r^{4} - {\\left(a^{6} m - 2 \\, a^{4} m^{2} r + a^{4} m r^{2}\\right)} \\cos\\left({\\theta}\\right)^{2}\\right)} \\sin\\left({\\theta}\\right)^{4} - {\\left(a^{2} r^{5} - 2 \\, m r^{6} + r^{7} + {\\left(a^{6} r - 2 \\, a^{4} m r^{2} + a^{4} r^{3}\\right)} \\cos\\left({\\theta}\\right)^{4} + 2 \\, {\\left(a^{4} r^{3} - 2 \\, a^{2} m r^{4} + a^{2} r^{5}\\right)} \\cos\\left({\\theta}\\right)^{2}\\right)} \\sin\\left({\\theta}\\right)^{2}}{a^{6} \\cos\\left({\\theta}\\right)^{6} + 3 \\, a^{4} r^{2} \\cos\\left({\\theta}\\right)^{4} + 3 \\, a^{2} r^{4} \\cos\\left({\\theta}\\right)^{2} + r^{6}} \\\\ \\Gamma_{ \\phantom{\\, {\\theta}} \\, t \\, t }^{ \\, {\\theta} \\phantom{\\, t} \\phantom{\\, t} } & = & -\\frac{2 \\, a^{2} m r \\cos\\left({\\theta}\\right) \\sin\\left({\\theta}\\right)}{a^{6} \\cos\\left({\\theta}\\right)^{6} + 3 \\, a^{4} r^{2} \\cos\\left({\\theta}\\right)^{4} + 3 \\, a^{2} r^{4} \\cos\\left({\\theta}\\right)^{2} + r^{6}} \\\\ \\Gamma_{ \\phantom{\\, {\\theta}} \\, t \\, r }^{ \\, {\\theta} \\phantom{\\, t} \\phantom{\\, r} } & = & -\\frac{2 \\, a^{2} m r \\cos\\left({\\theta}\\right) \\sin\\left({\\theta}\\right)}{a^{6} \\cos\\left({\\theta}\\right)^{6} + 3 \\, a^{4} r^{2} \\cos\\left({\\theta}\\right)^{4} + 3 \\, a^{2} r^{4} \\cos\\left({\\theta}\\right)^{2} + r^{6}} \\\\ \\Gamma_{ \\phantom{\\, {\\theta}} \\, t \\, {\\phi} }^{ \\, {\\theta} \\phantom{\\, t} \\phantom{\\, {\\phi}} } & = & \\frac{2 \\, {\\left(a^{3} m r + a m r^{3}\\right)} \\cos\\left({\\theta}\\right) \\sin\\left({\\theta}\\right)}{a^{6} \\cos\\left({\\theta}\\right)^{6} + 3 \\, a^{4} r^{2} \\cos\\left({\\theta}\\right)^{4} + 3 \\, a^{2} r^{4} \\cos\\left({\\theta}\\right)^{2} + r^{6}} \\\\ \\Gamma_{ \\phantom{\\, {\\theta}} \\, r \\, r }^{ \\, {\\theta} \\phantom{\\, r} \\phantom{\\, r} } & = & -\\frac{2 \\, a^{2} m r \\cos\\left({\\theta}\\right) \\sin\\left({\\theta}\\right)}{a^{6} \\cos\\left({\\theta}\\right)^{6} + 3 \\, a^{4} r^{2} \\cos\\left({\\theta}\\right)^{4} + 3 \\, a^{2} r^{4} \\cos\\left({\\theta}\\right)^{2} + r^{6}} \\\\ \\Gamma_{ \\phantom{\\, {\\theta}} \\, r \\, {\\theta} }^{ \\, {\\theta} \\phantom{\\, r} \\phantom{\\, {\\theta}} } & = & \\frac{r}{a^{2} \\cos\\left({\\theta}\\right)^{2} + r^{2}} \\\\ \\Gamma_{ \\phantom{\\, {\\theta}} \\, r \\, {\\phi} }^{ \\, {\\theta} \\phantom{\\, r} \\phantom{\\, {\\phi}} } & = & \\frac{{\\left(a^{5} \\cos\\left({\\theta}\\right)^{5} + 2 \\, a^{3} r^{2} \\cos\\left({\\theta}\\right)^{3} + {\\left(2 \\, a^{3} m r + 2 \\, a m r^{3} + a r^{4}\\right)} \\cos\\left({\\theta}\\right)\\right)} \\sin\\left({\\theta}\\right)}{a^{6} \\cos\\left({\\theta}\\right)^{6} + 3 \\, a^{4} r^{2} \\cos\\left({\\theta}\\right)^{4} + 3 \\, a^{2} r^{4} \\cos\\left({\\theta}\\right)^{2} + r^{6}} \\\\ \\Gamma_{ \\phantom{\\, {\\theta}} \\, {\\theta} \\, {\\theta} }^{ \\, {\\theta} \\phantom{\\, {\\theta}} \\phantom{\\, {\\theta}} } & = & -\\frac{a^{2} \\cos\\left({\\theta}\\right) \\sin\\left({\\theta}\\right)}{a^{2} \\cos\\left({\\theta}\\right)^{2} + r^{2}} \\\\ \\Gamma_{ \\phantom{\\, {\\theta}} \\, {\\phi} \\, {\\phi} }^{ \\, {\\theta} \\phantom{\\, {\\phi}} \\phantom{\\, {\\phi}} } & = & -\\frac{{\\left({\\left(a^{6} - 2 \\, a^{4} m r + a^{4} r^{2}\\right)} \\cos\\left({\\theta}\\right)^{5} + 2 \\, {\\left(a^{4} r^{2} - 2 \\, a^{2} m r^{3} + a^{2} r^{4}\\right)} \\cos\\left({\\theta}\\right)^{3} + {\\left(2 \\, a^{4} m r + 4 \\, a^{2} m r^{3} + a^{2} r^{4} + r^{6}\\right)} \\cos\\left({\\theta}\\right)\\right)} \\sin\\left({\\theta}\\right)}{a^{6} \\cos\\left({\\theta}\\right)^{6} + 3 \\, a^{4} r^{2} \\cos\\left({\\theta}\\right)^{4} + 3 \\, a^{2} r^{4} \\cos\\left({\\theta}\\right)^{2} + r^{6}} \\\\ \\Gamma_{ \\phantom{\\, {\\phi}} \\, t \\, t }^{ \\, {\\phi} \\phantom{\\, t} \\phantom{\\, t} } & = & -\\frac{a^{3} m \\cos\\left({\\theta}\\right)^{2} - a m r^{2}}{a^{6} \\cos\\left({\\theta}\\right)^{6} + 3 \\, a^{4} r^{2} \\cos\\left({\\theta}\\right)^{4} + 3 \\, a^{2} r^{4} \\cos\\left({\\theta}\\right)^{2} + r^{6}} \\\\ \\Gamma_{ \\phantom{\\, {\\phi}} \\, t \\, r }^{ \\, {\\phi} \\phantom{\\, t} \\phantom{\\, r} } & = & -\\frac{a^{3} m \\cos\\left({\\theta}\\right)^{2} - a m r^{2}}{a^{6} \\cos\\left({\\theta}\\right)^{6} + 3 \\, a^{4} r^{2} \\cos\\left({\\theta}\\right)^{4} + 3 \\, a^{2} r^{4} \\cos\\left({\\theta}\\right)^{2} + r^{6}} \\\\ \\Gamma_{ \\phantom{\\, {\\phi}} \\, t \\, {\\theta} }^{ \\, {\\phi} \\phantom{\\, t} \\phantom{\\, {\\theta}} } & = & -\\frac{2 \\, a m r \\cos\\left({\\theta}\\right)}{{\\left(a^{4} \\cos\\left({\\theta}\\right)^{4} + 2 \\, a^{2} r^{2} \\cos\\left({\\theta}\\right)^{2} + r^{4}\\right)} \\sin\\left({\\theta}\\right)} \\\\ \\Gamma_{ \\phantom{\\, {\\phi}} \\, t \\, {\\phi} }^{ \\, {\\phi} \\phantom{\\, t} \\phantom{\\, {\\phi}} } & = & \\frac{{\\left(a^{4} m \\cos\\left({\\theta}\\right)^{2} - a^{2} m r^{2}\\right)} \\sin\\left({\\theta}\\right)^{2}}{a^{6} \\cos\\left({\\theta}\\right)^{6} + 3 \\, a^{4} r^{2} \\cos\\left({\\theta}\\right)^{4} + 3 \\, a^{2} r^{4} \\cos\\left({\\theta}\\right)^{2} + r^{6}} \\\\ \\Gamma_{ \\phantom{\\, {\\phi}} \\, r \\, r }^{ \\, {\\phi} \\phantom{\\, r} \\phantom{\\, r} } & = & -\\frac{a^{3} m \\cos\\left({\\theta}\\right)^{2} - a m r^{2}}{a^{6} \\cos\\left({\\theta}\\right)^{6} + 3 \\, a^{4} r^{2} \\cos\\left({\\theta}\\right)^{4} + 3 \\, a^{2} r^{4} \\cos\\left({\\theta}\\right)^{2} + r^{6}} \\\\ \\Gamma_{ \\phantom{\\, {\\phi}} \\, r \\, {\\theta} }^{ \\, {\\phi} \\phantom{\\, r} \\phantom{\\, {\\theta}} } & = & -\\frac{a^{3} \\cos\\left({\\theta}\\right)^{3} + {\\left(2 \\, a m r + a r^{2}\\right)} \\cos\\left({\\theta}\\right)}{{\\left(a^{4} \\cos\\left({\\theta}\\right)^{4} + 2 \\, a^{2} r^{2} \\cos\\left({\\theta}\\right)^{2} + r^{4}\\right)} \\sin\\left({\\theta}\\right)} \\\\ \\Gamma_{ \\phantom{\\, {\\phi}} \\, r \\, {\\phi} }^{ \\, {\\phi} \\phantom{\\, r} \\phantom{\\, {\\phi}} } & = & \\frac{a^{4} r \\cos\\left({\\theta}\\right)^{4} + 2 \\, a^{2} r^{3} \\cos\\left({\\theta}\\right)^{2} + r^{5} + {\\left(a^{4} m \\cos\\left({\\theta}\\right)^{2} - a^{2} m r^{2}\\right)} \\sin\\left({\\theta}\\right)^{2}}{a^{6} \\cos\\left({\\theta}\\right)^{6} + 3 \\, a^{4} r^{2} \\cos\\left({\\theta}\\right)^{4} + 3 \\, a^{2} r^{4} \\cos\\left({\\theta}\\right)^{2} + r^{6}} \\\\ \\Gamma_{ \\phantom{\\, {\\phi}} \\, {\\theta} \\, {\\theta} }^{ \\, {\\phi} \\phantom{\\, {\\theta}} \\phantom{\\, {\\theta}} } & = & -\\frac{a r}{a^{2} \\cos\\left({\\theta}\\right)^{2} + r^{2}} \\\\ \\Gamma_{ \\phantom{\\, {\\phi}} \\, {\\theta} \\, {\\phi} }^{ \\, {\\phi} \\phantom{\\, {\\theta}} \\phantom{\\, {\\phi}} } & = & \\frac{a^{4} \\cos\\left({\\theta}\\right)^{5} - 2 \\, {\\left(a^{2} m r - a^{2} r^{2}\\right)} \\cos\\left({\\theta}\\right)^{3} + {\\left(2 \\, a^{2} m r + r^{4}\\right)} \\cos\\left({\\theta}\\right)}{{\\left(a^{4} \\cos\\left({\\theta}\\right)^{4} + 2 \\, a^{2} r^{2} \\cos\\left({\\theta}\\right)^{2} + r^{4}\\right)} \\sin\\left({\\theta}\\right)} \\\\ \\Gamma_{ \\phantom{\\, {\\phi}} \\, {\\phi} \\, {\\phi} }^{ \\, {\\phi} \\phantom{\\, {\\phi}} \\phantom{\\, {\\phi}} } & = & -\\frac{{\\left(a^{5} m \\cos\\left({\\theta}\\right)^{2} - a^{3} m r^{2}\\right)} \\sin\\left({\\theta}\\right)^{4} + {\\left(a^{5} r \\cos\\left({\\theta}\\right)^{4} + 2 \\, a^{3} r^{3} \\cos\\left({\\theta}\\right)^{2} + a r^{5}\\right)} \\sin\\left({\\theta}\\right)^{2}}{a^{6} \\cos\\left({\\theta}\\right)^{6} + 3 \\, a^{4} r^{2} \\cos\\left({\\theta}\\right)^{4} + 3 \\, a^{2} r^{4} \\cos\\left({\\theta}\\right)^{2} + r^{6}} \\end{array}</script></html>"
      ],
      "text/plain": [
       "Gam^t_t,t = -2*(a^2*m^2*r*cos(th)^2 - m^2*r^3)/(a^6*cos(th)^6 + 3*a^4*r^2*cos(th)^4 + 3*a^2*r^4*cos(th)^2 + r^6) \n",
       "Gam^t_t,r = -(a^4*m*cos(th)^4 + 2*a^2*m^2*r*cos(th)^2 - 2*m^2*r^3 - m*r^4)/(a^6*cos(th)^6 + 3*a^4*r^2*cos(th)^4 + 3*a^2*r^4*cos(th)^2 + r^6) \n",
       "Gam^t_t,th = -2*a^2*m*r*cos(th)*sin(th)/(a^4*cos(th)^4 + 2*a^2*r^2*cos(th)^2 + r^4) \n",
       "Gam^t_t,ph = 2*(a^3*m^2*r*cos(th)^2 - a*m^2*r^3)*sin(th)^2/(a^6*cos(th)^6 + 3*a^4*r^2*cos(th)^4 + 3*a^2*r^4*cos(th)^2 + r^6) \n",
       "Gam^t_r,r = -2*(a^4*m*cos(th)^4 + a^2*m^2*r*cos(th)^2 - m^2*r^3 - m*r^4)/(a^6*cos(th)^6 + 3*a^4*r^2*cos(th)^4 + 3*a^2*r^4*cos(th)^2 + r^6) \n",
       "Gam^t_r,th = -2*a^2*m*r*cos(th)*sin(th)/(a^4*cos(th)^4 + 2*a^2*r^2*cos(th)^2 + r^4) \n",
       "Gam^t_r,ph = (a^5*m*cos(th)^4 + 2*a^3*m^2*r*cos(th)^2 - 2*a*m^2*r^3 - a*m*r^4)*sin(th)^2/(a^6*cos(th)^6 + 3*a^4*r^2*cos(th)^4 + 3*a^2*r^4*cos(th)^2 + r^6) \n",
       "Gam^t_th,th = -2*m*r^2/(a^2*cos(th)^2 + r^2) \n",
       "Gam^t_th,ph = 2*a^3*m*r*cos(th)*sin(th)^3/(a^4*cos(th)^4 + 2*a^2*r^2*cos(th)^2 + r^4) \n",
       "Gam^t_ph,ph = -2*((a^4*m^2*r*cos(th)^2 - a^2*m^2*r^3)*sin(th)^4 + (a^4*m*r^2*cos(th)^4 + 2*a^2*m*r^4*cos(th)^2 + m*r^6)*sin(th)^2)/(a^6*cos(th)^6 + 3*a^4*r^2*cos(th)^4 + 3*a^2*r^4*cos(th)^2 + r^6) \n",
       "Gam^r_t,t = (a^2*m*r^2 - 2*m^2*r^3 + m*r^4 - (a^4*m - 2*a^2*m^2*r + a^2*m*r^2)*cos(th)^2)/(a^6*cos(th)^6 + 3*a^4*r^2*cos(th)^4 + 3*a^2*r^4*cos(th)^2 + r^6) \n",
       "Gam^r_t,r = (2*a^2*m^2*r*cos(th)^2 - 2*m^2*r^3 - (a^4*m*cos(th)^2 - a^2*m*r^2)*sin(th)^2)/(a^6*cos(th)^6 + 3*a^4*r^2*cos(th)^4 + 3*a^2*r^4*cos(th)^2 + r^6) \n",
       "Gam^r_t,ph = -(a^3*m*r^2 - 2*a*m^2*r^3 + a*m*r^4 - (a^5*m - 2*a^3*m^2*r + a^3*m*r^2)*cos(th)^2)*sin(th)^2/(a^6*cos(th)^6 + 3*a^4*r^2*cos(th)^4 + 3*a^2*r^4*cos(th)^2 + r^6) \n",
       "Gam^r_r,r = (2*a^4*m*cos(th)^4 + a^2*m*r^2 - 2*m^2*r^3 - m*r^4 - (a^4*m - 2*a^2*m^2*r + a^2*m*r^2)*cos(th)^2)/(a^6*cos(th)^6 + 3*a^4*r^2*cos(th)^4 + 3*a^2*r^4*cos(th)^2 + r^6) \n",
       "Gam^r_r,th = -a^2*cos(th)*sin(th)/(a^2*cos(th)^2 + r^2) \n",
       "Gam^r_r,ph = ((a^5*m*cos(th)^2 - a^3*m*r^2)*sin(th)^4 + (a^5*r*cos(th)^4 + 2*a*m^2*r^3 + a*r^5 - 2*(a^3*m^2*r - a^3*r^3)*cos(th)^2)*sin(th)^2)/(a^6*cos(th)^6 + 3*a^4*r^2*cos(th)^4 + 3*a^2*r^4*cos(th)^2 + r^6) \n",
       "Gam^r_th,th = -(a^2*r - 2*m*r^2 + r^3)/(a^2*cos(th)^2 + r^2) \n",
       "Gam^r_ph,ph = ((a^4*m*r^2 - 2*a^2*m^2*r^3 + a^2*m*r^4 - (a^6*m - 2*a^4*m^2*r + a^4*m*r^2)*cos(th)^2)*sin(th)^4 - (a^2*r^5 - 2*m*r^6 + r^7 + (a^6*r - 2*a^4*m*r^2 + a^4*r^3)*cos(th)^4 + 2*(a^4*r^3 - 2*a^2*m*r^4 + a^2*r^5)*cos(th)^2)*sin(th)^2)/(a^6*cos(th)^6 + 3*a^4*r^2*cos(th)^4 + 3*a^2*r^4*cos(th)^2 + r^6) \n",
       "Gam^th_t,t = -2*a^2*m*r*cos(th)*sin(th)/(a^6*cos(th)^6 + 3*a^4*r^2*cos(th)^4 + 3*a^2*r^4*cos(th)^2 + r^6) \n",
       "Gam^th_t,r = -2*a^2*m*r*cos(th)*sin(th)/(a^6*cos(th)^6 + 3*a^4*r^2*cos(th)^4 + 3*a^2*r^4*cos(th)^2 + r^6) \n",
       "Gam^th_t,ph = 2*(a^3*m*r + a*m*r^3)*cos(th)*sin(th)/(a^6*cos(th)^6 + 3*a^4*r^2*cos(th)^4 + 3*a^2*r^4*cos(th)^2 + r^6) \n",
       "Gam^th_r,r = -2*a^2*m*r*cos(th)*sin(th)/(a^6*cos(th)^6 + 3*a^4*r^2*cos(th)^4 + 3*a^2*r^4*cos(th)^2 + r^6) \n",
       "Gam^th_r,th = r/(a^2*cos(th)^2 + r^2) \n",
       "Gam^th_r,ph = (a^5*cos(th)^5 + 2*a^3*r^2*cos(th)^3 + (2*a^3*m*r + 2*a*m*r^3 + a*r^4)*cos(th))*sin(th)/(a^6*cos(th)^6 + 3*a^4*r^2*cos(th)^4 + 3*a^2*r^4*cos(th)^2 + r^6) \n",
       "Gam^th_th,th = -a^2*cos(th)*sin(th)/(a^2*cos(th)^2 + r^2) \n",
       "Gam^th_ph,ph = -((a^6 - 2*a^4*m*r + a^4*r^2)*cos(th)^5 + 2*(a^4*r^2 - 2*a^2*m*r^3 + a^2*r^4)*cos(th)^3 + (2*a^4*m*r + 4*a^2*m*r^3 + a^2*r^4 + r^6)*cos(th))*sin(th)/(a^6*cos(th)^6 + 3*a^4*r^2*cos(th)^4 + 3*a^2*r^4*cos(th)^2 + r^6) \n",
       "Gam^ph_t,t = -(a^3*m*cos(th)^2 - a*m*r^2)/(a^6*cos(th)^6 + 3*a^4*r^2*cos(th)^4 + 3*a^2*r^4*cos(th)^2 + r^6) \n",
       "Gam^ph_t,r = -(a^3*m*cos(th)^2 - a*m*r^2)/(a^6*cos(th)^6 + 3*a^4*r^2*cos(th)^4 + 3*a^2*r^4*cos(th)^2 + r^6) \n",
       "Gam^ph_t,th = -2*a*m*r*cos(th)/((a^4*cos(th)^4 + 2*a^2*r^2*cos(th)^2 + r^4)*sin(th)) \n",
       "Gam^ph_t,ph = (a^4*m*cos(th)^2 - a^2*m*r^2)*sin(th)^2/(a^6*cos(th)^6 + 3*a^4*r^2*cos(th)^4 + 3*a^2*r^4*cos(th)^2 + r^6) \n",
       "Gam^ph_r,r = -(a^3*m*cos(th)^2 - a*m*r^2)/(a^6*cos(th)^6 + 3*a^4*r^2*cos(th)^4 + 3*a^2*r^4*cos(th)^2 + r^6) \n",
       "Gam^ph_r,th = -(a^3*cos(th)^3 + (2*a*m*r + a*r^2)*cos(th))/((a^4*cos(th)^4 + 2*a^2*r^2*cos(th)^2 + r^4)*sin(th)) \n",
       "Gam^ph_r,ph = (a^4*r*cos(th)^4 + 2*a^2*r^3*cos(th)^2 + r^5 + (a^4*m*cos(th)^2 - a^2*m*r^2)*sin(th)^2)/(a^6*cos(th)^6 + 3*a^4*r^2*cos(th)^4 + 3*a^2*r^4*cos(th)^2 + r^6) \n",
       "Gam^ph_th,th = -a*r/(a^2*cos(th)^2 + r^2) \n",
       "Gam^ph_th,ph = (a^4*cos(th)^5 - 2*(a^2*m*r - a^2*r^2)*cos(th)^3 + (2*a^2*m*r + r^4)*cos(th))/((a^4*cos(th)^4 + 2*a^2*r^2*cos(th)^2 + r^4)*sin(th)) \n",
       "Gam^ph_ph,ph = -((a^5*m*cos(th)^2 - a^3*m*r^2)*sin(th)^4 + (a^5*r*cos(th)^4 + 2*a^3*r^3*cos(th)^2 + a*r^5)*sin(th)^2)/(a^6*cos(th)^6 + 3*a^4*r^2*cos(th)^4 + 3*a^2*r^4*cos(th)^2 + r^6) "
      ]
     },
     "execution_count": 11,
     "metadata": {},
     "output_type": "execute_result"
    }
   ],
   "source": [
    "nab.display(only_nonredundant=True)"
   ]
  },
  {
   "cell_type": "markdown",
   "metadata": {},
   "source": [
    "Check of Einstein equation (nice simplification):"
   ]
  },
  {
   "cell_type": "code",
   "execution_count": 12,
   "metadata": {},
   "outputs": [
    {
     "data": {
      "text/html": [
       "<html><script type=\"math/tex; mode=display\">\\newcommand{\\Bold}[1]{\\mathbf{#1}}\\left(\\begin{array}{rrrr}\n",
       "0 & 0 & 0 & 0 \\\\\n",
       "0 & 0 & 0 & 0 \\\\\n",
       "0 & 0 & 0 & 0 \\\\\n",
       "0 & 0 & 0 & 0\n",
       "\\end{array}\\right)</script></html>"
      ],
      "text/plain": [
       "[0 0 0 0]\n",
       "[0 0 0 0]\n",
       "[0 0 0 0]\n",
       "[0 0 0 0]"
      ]
     },
     "execution_count": 12,
     "metadata": {},
     "output_type": "execute_result"
    }
   ],
   "source": [
    "nab.ricci()[:] # long time"
   ]
  },
  {
   "cell_type": "markdown",
   "metadata": {},
   "source": [
    "## Slicing:"
   ]
  },
  {
   "cell_type": "code",
   "execution_count": 13,
   "metadata": {},
   "outputs": [],
   "source": [
    "tau = var(r'tau') # foliation parameter"
   ]
  },
  {
   "cell_type": "code",
   "execution_count": 14,
   "metadata": {},
   "outputs": [],
   "source": [
    "CN.<r0,th0,ph0> = N.chart(r'r0:(0,+oo) th0:(0,pi):\\theta_0 ph0:(-pi,pi):\\phi_0')"
   ]
  },
  {
   "cell_type": "code",
   "execution_count": 15,
   "metadata": {},
   "outputs": [
    {
     "data": {
      "text/html": [
       "<html><script type=\"math/tex; mode=display\">\\newcommand{\\Bold}[1]{\\mathbf{#1}}\\begin{array}{llcl} & N & \\longrightarrow & M \\\\ & \\left(r_{0}, {\\theta_0}, {\\phi_0}\\right) & \\longmapsto & \\left(t, r, {\\theta}, {\\phi}\\right) = \\left(\\tau, r_{0}, {\\theta_0}, {\\phi_0}\\right) \\end{array}</script></html>"
      ],
      "text/plain": [
       "N --> M\n",
       "   (r0, th0, ph0) |--> (t, r, th, ph) = (tau, r0, th0, ph0)"
      ]
     },
     "execution_count": 15,
     "metadata": {},
     "output_type": "execute_result"
    }
   ],
   "source": [
    "phi = N.diff_map(M,{(CN,C):[tau,r0,th0,ph0]});phi.display() # simple embedding"
   ]
  },
  {
   "cell_type": "code",
   "execution_count": 16,
   "metadata": {},
   "outputs": [
    {
     "data": {
      "text/html": [
       "<html><script type=\"math/tex; mode=display\">\\newcommand{\\Bold}[1]{\\mathbf{#1}}\\begin{array}{llcl} & M & \\longrightarrow & N \\\\ & \\left(t, r, {\\theta}, {\\phi}\\right) & \\longmapsto & \\left(r_{0}, {\\theta_0}, {\\phi_0}\\right) = \\left(r, {\\theta}, {\\phi}\\right) \\end{array}</script></html>"
      ],
      "text/plain": [
       "M --> N\n",
       "   (t, r, th, ph) |--> (r0, th0, ph0) = (r, th, ph)"
      ]
     },
     "execution_count": 16,
     "metadata": {},
     "output_type": "execute_result"
    }
   ],
   "source": [
    "phi_inv = M.diff_map(N,{(C,CN):[r,th,ph]});phi_inv.display() # partial inverse embedding"
   ]
  },
  {
   "cell_type": "code",
   "execution_count": 17,
   "metadata": {},
   "outputs": [
    {
     "data": {
      "text/html": [
       "<html><script type=\"math/tex; mode=display\">\\newcommand{\\Bold}[1]{\\mathbf{#1}}\\begin{array}{llcl} & M & \\longrightarrow & \\mathbb{R} \\\\ & \\left(t, r, {\\theta}, {\\phi}\\right) & \\longmapsto & t \\end{array}</script></html>"
      ],
      "text/plain": [
       "M --> R\n",
       "(t, r, th, ph) |--> t"
      ]
     },
     "execution_count": 17,
     "metadata": {},
     "output_type": "execute_result"
    }
   ],
   "source": [
    "phi_inv_tau = M.scalar_field({C:t}); phi_inv_tau.display() # remaining partial inverse"
   ]
  },
  {
   "cell_type": "code",
   "execution_count": 18,
   "metadata": {},
   "outputs": [],
   "source": [
    "N.set_embedding(phi, inverse=phi_inv, var=tau, t_inverse={tau: phi_inv_tau})"
   ]
  },
  {
   "cell_type": "markdown",
   "metadata": {},
   "source": [
    "Computing the adapted chart is needed for computing the shift and extrinsic curvature."
   ]
  },
  {
   "cell_type": "code",
   "execution_count": 19,
   "metadata": {},
   "outputs": [
    {
     "data": {
      "text/html": [
       "<html><script type=\"math/tex; mode=display\">\\newcommand{\\Bold}[1]{\\mathbf{#1}}\\left[\\left(M,({{r_{0}}_M}, {{{\\theta_0}}_M}, {{{\\phi_0}}_M}, \\tau_{M})\\right)\\right]</script></html>"
      ],
      "text/plain": [
       "[Chart (M, (r0_M, th0_M, ph0_M, tau_M))]"
      ]
     },
     "execution_count": 19,
     "metadata": {},
     "output_type": "execute_result"
    }
   ],
   "source": [
    "T = N.adapted_chart();T"
   ]
  },
  {
   "cell_type": "code",
   "execution_count": 20,
   "metadata": {},
   "outputs": [
    {
     "data": {
      "text/html": [
       "<html><script type=\"math/tex; mode=display\">\\newcommand{\\Bold}[1]{\\mathbf{#1}}\\left(\\begin{array}{rrr}\n",
       "\\frac{a^{2} \\cos\\left({\\theta_0}\\right)^{2} + 2 \\, m r_{0} + r_{0}^{2}}{a^{2} \\cos\\left({\\theta_0}\\right)^{2} + r_{0}^{2}} & 0 & -\\frac{{\\left(a^{3} \\cos\\left({\\theta_0}\\right)^{2} + 2 \\, a m r_{0} + a r_{0}^{2}\\right)} \\sin\\left({\\theta_0}\\right)^{2}}{a^{2} \\cos\\left({\\theta_0}\\right)^{2} + r_{0}^{2}} \\\\\n",
       "0 & a^{2} \\cos\\left({\\theta_0}\\right)^{2} + r_{0}^{2} & 0 \\\\\n",
       "-\\frac{{\\left(a^{3} \\cos\\left({\\theta_0}\\right)^{2} + 2 \\, a m r_{0} + a r_{0}^{2}\\right)} \\sin\\left({\\theta_0}\\right)^{2}}{a^{2} \\cos\\left({\\theta_0}\\right)^{2} + r_{0}^{2}} & 0 & \\frac{2 \\, a^{2} m r_{0} \\sin\\left({\\theta_0}\\right)^{4} + {\\left(a^{2} r_{0}^{2} + r_{0}^{4} + {\\left(a^{4} + a^{2} r_{0}^{2}\\right)} \\cos\\left({\\theta_0}\\right)^{2}\\right)} \\sin\\left({\\theta_0}\\right)^{2}}{a^{2} \\cos\\left({\\theta_0}\\right)^{2} + r_{0}^{2}}\n",
       "\\end{array}\\right)</script></html>"
      ],
      "text/plain": [
       "[                                                    (a^2*cos(th0)^2 + 2*m*r0 + r0^2)/(a^2*cos(th0)^2 + r0^2)                                                                                                            0                                     -(a^3*cos(th0)^2 + 2*a*m*r0 + a*r0^2)*sin(th0)^2/(a^2*cos(th0)^2 + r0^2)]\n",
       "[                                                                                                           0                                                                                        a^2*cos(th0)^2 + r0^2                                                                                                            0]\n",
       "[                                    -(a^3*cos(th0)^2 + 2*a*m*r0 + a*r0^2)*sin(th0)^2/(a^2*cos(th0)^2 + r0^2)                                                                                                            0 (2*a^2*m*r0*sin(th0)^4 + (a^2*r0^2 + r0^4 + (a^4 + a^2*r0^2)*cos(th0)^2)*sin(th0)^2)/(a^2*cos(th0)^2 + r0^2)]"
      ]
     },
     "execution_count": 20,
     "metadata": {},
     "output_type": "execute_result"
    }
   ],
   "source": [
    "N.induced_metric()[:]"
   ]
  },
  {
   "cell_type": "markdown",
   "metadata": {},
   "source": [
    "#### Check of unitarity of the normal vector: "
   ]
  },
  {
   "cell_type": "code",
   "execution_count": 21,
   "metadata": {},
   "outputs": [
    {
     "data": {
      "text/html": [
       "<html><script type=\"math/tex; mode=display\">\\newcommand{\\Bold}[1]{\\mathbf{#1}}\\begin{array}{llcl} g\\left(n,n\\right):& M & \\longrightarrow & \\mathbb{R} \\\\ & \\left(t, r, {\\theta}, {\\phi}\\right) & \\longmapsto & -1 \\\\ & \\left({{r_{0}}_M}, {{{\\theta_0}}_M}, {{{\\phi_0}}_M}, \\tau_{M}\\right) & \\longmapsto & -1 \\end{array}</script></html>"
      ],
      "text/plain": [
       "g(n,n): M --> R\n",
       "   (t, r, th, ph) |--> -1\n",
       "   (r0_M, th0_M, ph0_M, tau_M) |--> -1"
      ]
     },
     "execution_count": 21,
     "metadata": {},
     "output_type": "execute_result"
    }
   ],
   "source": [
    "g(N.normal(),N.normal()).display()"
   ]
  },
  {
   "cell_type": "code",
   "execution_count": 22,
   "metadata": {},
   "outputs": [
    {
     "data": {
      "text/html": [
       "<html><script type=\"math/tex; mode=display\">\\newcommand{\\Bold}[1]{\\mathbf{#1}}\\left(\\begin{array}{rrr}\n",
       "\\frac{2 \\, a^{2} m r_{0} \\sin\\left({\\theta_0}\\right)^{2} + a^{2} r_{0}^{2} + r_{0}^{4} + {\\left(a^{4} + a^{2} r_{0}^{2}\\right)} \\cos\\left({\\theta_0}\\right)^{2}}{a^{4} \\cos\\left({\\theta_0}\\right)^{4} + 2 \\, m r_{0}^{3} + r_{0}^{4} + 2 \\, {\\left(a^{2} m r_{0} + a^{2} r_{0}^{2}\\right)} \\cos\\left({\\theta_0}\\right)^{2}} & 0 & \\frac{a}{a^{2} \\cos\\left({\\theta_0}\\right)^{2} + r_{0}^{2}} \\\\\n",
       "0 & \\frac{1}{a^{2} \\cos\\left({\\theta_0}\\right)^{2} + r_{0}^{2}} & 0 \\\\\n",
       "\\frac{a}{a^{2} \\cos\\left({\\theta_0}\\right)^{2} + r_{0}^{2}} & 0 & -\\frac{1}{a^{2} \\sin\\left({\\theta_0}\\right)^{4} - {\\left(a^{2} + r_{0}^{2}\\right)} \\sin\\left({\\theta_0}\\right)^{2}}\n",
       "\\end{array}\\right)</script></html>"
      ],
      "text/plain": [
       "[(2*a^2*m*r0*sin(th0)^2 + a^2*r0^2 + r0^4 + (a^4 + a^2*r0^2)*cos(th0)^2)/(a^4*cos(th0)^4 + 2*m*r0^3 + r0^4 + 2*(a^2*m*r0 + a^2*r0^2)*cos(th0)^2)                                                                                                                                               0                                                                                                                       a/(a^2*cos(th0)^2 + r0^2)]\n",
       "[                                                                                                                                              0                                                                                                                       1/(a^2*cos(th0)^2 + r0^2)                                                                                                                                               0]\n",
       "[                                                                                                                      a/(a^2*cos(th0)^2 + r0^2)                                                                                                                                               0                                                                                                   -1/(a^2*sin(th0)^4 - (a^2 + r0^2)*sin(th0)^2)]"
      ]
     },
     "execution_count": 22,
     "metadata": {},
     "output_type": "execute_result"
    }
   ],
   "source": [
    "N.induced_metric().inverse()[:]"
   ]
  },
  {
   "cell_type": "code",
   "execution_count": 23,
   "metadata": {},
   "outputs": [
    {
     "data": {
      "text/html": [
       "<html><script type=\"math/tex; mode=display\">\\newcommand{\\Bold}[1]{\\mathbf{#1}}\\begin{array}{llcl} N:& M & \\longrightarrow & \\mathbb{R} \\\\ & \\left(t, r, {\\theta}, {\\phi}\\right) & \\longmapsto & \\frac{\\sqrt{a^{2} \\cos\\left({\\theta}\\right)^{2} + r^{2}}}{\\sqrt{a^{2} \\cos\\left({\\theta}\\right)^{2} + 2 \\, m r + r^{2}}} \\\\ & \\left({{r_{0}}_M}, {{{\\theta_0}}_M}, {{{\\phi_0}}_M}, \\tau_{M}\\right) & \\longmapsto & \\frac{\\sqrt{a^{2} \\cos\\left({{{\\theta_0}}_M}\\right)^{2} + {{r_{0}}_M}^{2}}}{\\sqrt{a^{2} \\cos\\left({{{\\theta_0}}_M}\\right)^{2} + 2 \\, m {{r_{0}}_M} + {{r_{0}}_M}^{2}}} \\end{array}</script></html>"
      ],
      "text/plain": [
       "N: M --> R\n",
       "   (t, r, th, ph) |--> sqrt(a^2*cos(th)^2 + r^2)/sqrt(a^2*cos(th)^2 + 2*m*r + r^2)\n",
       "   (r0_M, th0_M, ph0_M, tau_M) |--> sqrt(a^2*cos(th0_M)^2 + r0_M^2)/sqrt(a^2*cos(th0_M)^2 + 2*m*r0_M + r0_M^2)"
      ]
     },
     "execution_count": 23,
     "metadata": {},
     "output_type": "execute_result"
    }
   ],
   "source": [
    "N.lapse().display()"
   ]
  },
  {
   "cell_type": "code",
   "execution_count": 24,
   "metadata": {},
   "outputs": [
    {
     "data": {
      "text/html": [
       "<html><script type=\"math/tex; mode=display\">\\newcommand{\\Bold}[1]{\\mathbf{#1}}\\beta = \\left( \\frac{2 \\, m r}{a^{2} \\cos\\left({\\theta}\\right)^{2} + 2 \\, m r + r^{2}} \\right) \\frac{\\partial}{\\partial r }</script></html>"
      ],
      "text/plain": [
       "beta = 2*m*r/(a^2*cos(th)^2 + 2*m*r + r^2) d/dr"
      ]
     },
     "execution_count": 24,
     "metadata": {},
     "output_type": "execute_result"
    }
   ],
   "source": [
    "N.shift().display()"
   ]
  },
  {
   "cell_type": "code",
   "execution_count": 25,
   "metadata": {},
   "outputs": [
    {
     "data": {
      "text/html": [
       "<html><script type=\"math/tex; mode=display\">\\newcommand{\\Bold}[1]{\\mathbf{#1}}\\left(\\begin{array}{rrr}\n",
       "\\frac{2 \\, {\\left(a^{4} m \\cos\\left({\\theta_0}\\right)^{4} + a^{2} m^{2} r_{0} \\cos\\left({\\theta_0}\\right)^{2} - m^{2} r_{0}^{3} - m r_{0}^{4}\\right)}}{{\\left(a^{4} \\cos\\left({\\theta_0}\\right)^{4} + 2 \\, a^{2} r_{0}^{2} \\cos\\left({\\theta_0}\\right)^{2} + r_{0}^{4}\\right)} \\sqrt{a^{2} \\cos\\left({\\theta_0}\\right)^{2} + 2 \\, m r_{0} + r_{0}^{2}} \\sqrt{a^{2} \\cos\\left({\\theta_0}\\right)^{2} + r_{0}^{2}}} & \\frac{2 \\, \\sqrt{a^{2} \\cos\\left({\\theta_0}\\right)^{2} + r_{0}^{2}} a^{2} m r_{0} \\cos\\left({\\theta_0}\\right) \\sin\\left({\\theta_0}\\right)}{{\\left(a^{4} \\cos\\left({\\theta_0}\\right)^{4} + 2 \\, a^{2} r_{0}^{2} \\cos\\left({\\theta_0}\\right)^{2} + r_{0}^{4}\\right)} \\sqrt{a^{2} \\cos\\left({\\theta_0}\\right)^{2} + 2 \\, m r_{0} + r_{0}^{2}}} & -\\frac{a^{5} m \\sin\\left({\\theta_0}\\right)^{6} - 2 \\, {\\left(a^{5} m + a^{3} m^{2} r_{0}\\right)} \\sin\\left({\\theta_0}\\right)^{4} + {\\left(a^{5} m + 2 \\, a^{3} m^{2} r_{0} - 2 \\, a m^{2} r_{0}^{3} - a m r_{0}^{4}\\right)} \\sin\\left({\\theta_0}\\right)^{2}}{{\\left(a^{4} \\cos\\left({\\theta_0}\\right)^{4} + 2 \\, a^{2} r_{0}^{2} \\cos\\left({\\theta_0}\\right)^{2} + r_{0}^{4}\\right)} \\sqrt{a^{2} \\cos\\left({\\theta_0}\\right)^{2} + 2 \\, m r_{0} + r_{0}^{2}} \\sqrt{a^{2} \\cos\\left({\\theta_0}\\right)^{2} + r_{0}^{2}}} \\\\\n",
       "\\frac{2 \\, \\sqrt{a^{2} \\cos\\left({\\theta_0}\\right)^{2} + r_{0}^{2}} a^{2} m r_{0} \\cos\\left({\\theta_0}\\right) \\sin\\left({\\theta_0}\\right)}{{\\left(a^{4} \\cos\\left({\\theta_0}\\right)^{4} + 2 \\, a^{2} r_{0}^{2} \\cos\\left({\\theta_0}\\right)^{2} + r_{0}^{4}\\right)} \\sqrt{a^{2} \\cos\\left({\\theta_0}\\right)^{2} + 2 \\, m r_{0} + r_{0}^{2}}} & \\frac{2 \\, m r_{0}^{2}}{\\sqrt{a^{2} \\cos\\left({\\theta_0}\\right)^{2} + 2 \\, m r_{0} + r_{0}^{2}} \\sqrt{a^{2} \\cos\\left({\\theta_0}\\right)^{2} + r_{0}^{2}}} & -\\frac{2 \\, a^{3} m r_{0} \\cos\\left({\\theta_0}\\right) \\sin\\left({\\theta_0}\\right)^{3}}{\\sqrt{a^{2} \\cos\\left({\\theta_0}\\right)^{2} + 2 \\, m r_{0} + r_{0}^{2}} {\\left(a^{2} \\cos\\left({\\theta_0}\\right)^{2} + r_{0}^{2}\\right)}^{\\frac{3}{2}}} \\\\\n",
       "-\\frac{a^{5} m \\sin\\left({\\theta_0}\\right)^{6} - 2 \\, {\\left(a^{5} m + a^{3} m^{2} r_{0}\\right)} \\sin\\left({\\theta_0}\\right)^{4} + {\\left(a^{5} m + 2 \\, a^{3} m^{2} r_{0} - 2 \\, a m^{2} r_{0}^{3} - a m r_{0}^{4}\\right)} \\sin\\left({\\theta_0}\\right)^{2}}{{\\left(a^{4} \\cos\\left({\\theta_0}\\right)^{4} + 2 \\, a^{2} r_{0}^{2} \\cos\\left({\\theta_0}\\right)^{2} + r_{0}^{4}\\right)} \\sqrt{a^{2} \\cos\\left({\\theta_0}\\right)^{2} + 2 \\, m r_{0} + r_{0}^{2}} \\sqrt{a^{2} \\cos\\left({\\theta_0}\\right)^{2} + r_{0}^{2}}} & -\\frac{2 \\, a^{3} m r_{0} \\cos\\left({\\theta_0}\\right) \\sin\\left({\\theta_0}\\right)^{3}}{\\sqrt{a^{2} \\cos\\left({\\theta_0}\\right)^{2} + 2 \\, m r_{0} + r_{0}^{2}} {\\left(a^{2} \\cos\\left({\\theta_0}\\right)^{2} + r_{0}^{2}\\right)}^{\\frac{3}{2}}} & -\\frac{2 \\, {\\left({\\left(a^{4} m^{2} r_{0} - a^{4} m r_{0}^{2}\\right)} \\sin\\left({\\theta_0}\\right)^{6} - {\\left(a^{4} m^{2} r_{0} - 2 \\, a^{4} m r_{0}^{2} - a^{2} m^{2} r_{0}^{3} - 2 \\, a^{2} m r_{0}^{4}\\right)} \\sin\\left({\\theta_0}\\right)^{4} - {\\left(a^{4} m r_{0}^{2} + 2 \\, a^{2} m r_{0}^{4} + m r_{0}^{6}\\right)} \\sin\\left({\\theta_0}\\right)^{2}\\right)} \\sqrt{-a^{2} \\sin\\left({\\theta_0}\\right)^{2} + a^{2} + 2 \\, m r_{0} + r_{0}^{2}} \\sqrt{-a^{2} \\sin\\left({\\theta_0}\\right)^{2} + a^{2} + r_{0}^{2}}}{a^{8} \\cos\\left({\\theta_0}\\right)^{8} + 2 \\, m r_{0}^{7} + r_{0}^{8} + 2 \\, {\\left(a^{6} m r_{0} + 2 \\, a^{6} r_{0}^{2}\\right)} \\cos\\left({\\theta_0}\\right)^{6} + 6 \\, {\\left(a^{4} m r_{0}^{3} + a^{4} r_{0}^{4}\\right)} \\cos\\left({\\theta_0}\\right)^{4} + 2 \\, {\\left(3 \\, a^{2} m r_{0}^{5} + 2 \\, a^{2} r_{0}^{6}\\right)} \\cos\\left({\\theta_0}\\right)^{2}}\n",
       "\\end{array}\\right)</script></html>"
      ],
      "text/plain": [
       "[                                                                                                                                                                                                                          2*(a^4*m*cos(th0)^4 + a^2*m^2*r0*cos(th0)^2 - m^2*r0^3 - m*r0^4)/((a^4*cos(th0)^4 + 2*a^2*r0^2*cos(th0)^2 + r0^4)*sqrt(a^2*cos(th0)^2 + 2*m*r0 + r0^2)*sqrt(a^2*cos(th0)^2 + r0^2))                                                                                                                                                                                                                                                               2*sqrt(a^2*cos(th0)^2 + r0^2)*a^2*m*r0*cos(th0)*sin(th0)/((a^4*cos(th0)^4 + 2*a^2*r0^2*cos(th0)^2 + r0^4)*sqrt(a^2*cos(th0)^2 + 2*m*r0 + r0^2))                                                                                                                                                                      -(a^5*m*sin(th0)^6 - 2*(a^5*m + a^3*m^2*r0)*sin(th0)^4 + (a^5*m + 2*a^3*m^2*r0 - 2*a*m^2*r0^3 - a*m*r0^4)*sin(th0)^2)/((a^4*cos(th0)^4 + 2*a^2*r0^2*cos(th0)^2 + r0^4)*sqrt(a^2*cos(th0)^2 + 2*m*r0 + r0^2)*sqrt(a^2*cos(th0)^2 + r0^2))]\n",
       "[                                                                                                                                                                                                                                                              2*sqrt(a^2*cos(th0)^2 + r0^2)*a^2*m*r0*cos(th0)*sin(th0)/((a^4*cos(th0)^4 + 2*a^2*r0^2*cos(th0)^2 + r0^4)*sqrt(a^2*cos(th0)^2 + 2*m*r0 + r0^2))                                                                                                                                                                                                                                                                                                                                   2*m*r0^2/(sqrt(a^2*cos(th0)^2 + 2*m*r0 + r0^2)*sqrt(a^2*cos(th0)^2 + r0^2))                                                                                                                                                                                                                                                                                                          -2*a^3*m*r0*cos(th0)*sin(th0)^3/(sqrt(a^2*cos(th0)^2 + 2*m*r0 + r0^2)*(a^2*cos(th0)^2 + r0^2)^(3/2))]\n",
       "[                                                                                                                                                                     -(a^5*m*sin(th0)^6 - 2*(a^5*m + a^3*m^2*r0)*sin(th0)^4 + (a^5*m + 2*a^3*m^2*r0 - 2*a*m^2*r0^3 - a*m*r0^4)*sin(th0)^2)/((a^4*cos(th0)^4 + 2*a^2*r0^2*cos(th0)^2 + r0^4)*sqrt(a^2*cos(th0)^2 + 2*m*r0 + r0^2)*sqrt(a^2*cos(th0)^2 + r0^2))                                                                                                                                                                                                                                                                                                          -2*a^3*m*r0*cos(th0)*sin(th0)^3/(sqrt(a^2*cos(th0)^2 + 2*m*r0 + r0^2)*(a^2*cos(th0)^2 + r0^2)^(3/2)) -2*((a^4*m^2*r0 - a^4*m*r0^2)*sin(th0)^6 - (a^4*m^2*r0 - 2*a^4*m*r0^2 - a^2*m^2*r0^3 - 2*a^2*m*r0^4)*sin(th0)^4 - (a^4*m*r0^2 + 2*a^2*m*r0^4 + m*r0^6)*sin(th0)^2)*sqrt(-a^2*sin(th0)^2 + a^2 + 2*m*r0 + r0^2)*sqrt(-a^2*sin(th0)^2 + a^2 + r0^2)/(a^8*cos(th0)^8 + 2*m*r0^7 + r0^8 + 2*(a^6*m*r0 + 2*a^6*r0^2)*cos(th0)^6 + 6*(a^4*m*r0^3 + a^4*r0^4)*cos(th0)^4 + 2*(3*a^2*m*r0^5 + 2*a^2*r0^6)*cos(th0)^2)]"
      ]
     },
     "execution_count": 25,
     "metadata": {},
     "output_type": "execute_result"
    }
   ],
   "source": [
    "N.second_fundamental_form()[:] # long time"
   ]
  },
  {
   "cell_type": "markdown",
   "metadata": {},
   "source": [
    "### Example of mixed projection"
   ]
  },
  {
   "cell_type": "code",
   "execution_count": 26,
   "metadata": {},
   "outputs": [],
   "source": [
    "v = M.vector_field()\n",
    "v.add_comp()[:] = [1,1,1,1]"
   ]
  },
  {
   "cell_type": "code",
   "execution_count": 27,
   "metadata": {},
   "outputs": [
    {
     "data": {
      "text/html": [
       "<html><script type=\"math/tex; mode=display\">\\newcommand{\\Bold}[1]{\\mathbf{#1}}\\left( \\frac{a^{4} \\cos\\left({\\theta}\\right)^{4} + 4 \\, m r^{3} + r^{4} + 2 \\, {\\left(2 \\, a^{2} m r + a^{2} r^{2}\\right)} \\cos\\left({\\theta}\\right)^{2}}{a^{4} \\cos\\left({\\theta}\\right)^{4} + 4 \\, m^{2} r^{2} + 4 \\, m r^{3} + r^{4} + 2 \\, {\\left(2 \\, a^{2} m r + a^{2} r^{2}\\right)} \\cos\\left({\\theta}\\right)^{2}} \\right) \\frac{\\partial}{\\partial r } + \\left( \\frac{a^{2} \\cos\\left({\\theta}\\right)^{2} + r^{2}}{a^{2} \\cos\\left({\\theta}\\right)^{2} + 2 \\, m r + r^{2}} \\right) \\frac{\\partial}{\\partial {\\theta} } + \\left( \\frac{a^{2} \\cos\\left({\\theta}\\right)^{2} + r^{2}}{a^{2} \\cos\\left({\\theta}\\right)^{2} + 2 \\, m r + r^{2}} \\right) \\frac{\\partial}{\\partial {\\phi} }</script></html>"
      ],
      "text/plain": [
       "(a^4*cos(th)^4 + 4*m*r^3 + r^4 + 2*(2*a^2*m*r + a^2*r^2)*cos(th)^2)/(a^4*cos(th)^4 + 4*m^2*r^2 + 4*m*r^3 + r^4 + 2*(2*a^2*m*r + a^2*r^2)*cos(th)^2) d/dr + (a^2*cos(th)^2 + r^2)/(a^2*cos(th)^2 + 2*m*r + r^2) d/dth + (a^2*cos(th)^2 + r^2)/(a^2*cos(th)^2 + 2*m*r + r^2) d/dph"
      ]
     },
     "execution_count": 27,
     "metadata": {},
     "output_type": "execute_result"
    }
   ],
   "source": [
    "N.mixed_projection(v*v*v,[0,2]).display()"
   ]
  },
  {
   "cell_type": "code",
   "execution_count": null,
   "metadata": {},
   "outputs": [],
   "source": []
  }
 ],
 "metadata": {
  "kernelspec": {
   "display_name": "SageMath 8.3.beta2",
   "language": "",
   "name": "sagemath"
  },
  "language_info": {
   "codemirror_mode": {
    "name": "ipython",
    "version": 2
   },
   "file_extension": ".py",
   "mimetype": "text/x-python",
   "name": "python",
   "nbconvert_exporter": "python",
   "pygments_lexer": "ipython2",
   "version": "2.7.14"
  }
 },
 "nbformat": 4,
 "nbformat_minor": 2
}
