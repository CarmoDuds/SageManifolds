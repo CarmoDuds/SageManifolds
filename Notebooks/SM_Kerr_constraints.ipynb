{
 "cells": [
  {
   "cell_type": "markdown",
   "id": "c00ce43c-8671-4177-8ab6-8eb58832fb74",
   "metadata": {},
   "source": [
    "# Einstein constraints on a Boyer-Lindquist slice of Kerr spacetime"
   ]
  },
  {
   "cell_type": "markdown",
   "id": "05ef00da-4a4f-40b6-b37f-fcee973e11d9",
   "metadata": {},
   "source": [
    "This notebook demonstrates a few capabilities of SageMath in computations regarding hypersurfaces of a pseudo-Riemannian manifold. The corresponding tools have been developed in the framework of the  [SageManifolds](https://sagemanifolds.obspm.fr) project."
   ]
  },
  {
   "cell_type": "code",
   "execution_count": 1,
   "id": "39aacfcd-71a5-4216-b60d-e43b340eda33",
   "metadata": {},
   "outputs": [
    {
     "data": {
      "text/plain": [
       "'SageMath version 10.4.beta6, Release Date: 2024-05-12'"
      ]
     },
     "execution_count": 1,
     "metadata": {},
     "output_type": "execute_result"
    }
   ],
   "source": [
    "version()"
   ]
  },
  {
   "cell_type": "markdown",
   "id": "e976c18d-1921-4287-8b96-810cbfb999d3",
   "metadata": {},
   "source": [
    "First we set up the notebook to display maths with LaTeX rendering:"
   ]
  },
  {
   "cell_type": "code",
   "execution_count": 2,
   "id": "363e3bab-b538-4f29-ae07-649578d1cb1f",
   "metadata": {},
   "outputs": [],
   "source": [
    "%display latex"
   ]
  },
  {
   "cell_type": "markdown",
   "id": "5b0341e1-3603-4a70-82d1-9805fb5307c4",
   "metadata": {},
   "source": [
    "We ask for running computations in parallel on 8 threads:"
   ]
  },
  {
   "cell_type": "code",
   "execution_count": 3,
   "id": "1a85b5f5-5517-4a6d-a6a1-b2d9411d685b",
   "metadata": {},
   "outputs": [],
   "source": [
    "Parallelism().set(nproc=8)"
   ]
  },
  {
   "cell_type": "markdown",
   "id": "cc4b3519-9a30-406b-99c0-e4ee3007cd0b",
   "metadata": {},
   "source": [
    "## Kerr spacetime $(M,g)$"
   ]
  },
  {
   "cell_type": "markdown",
   "id": "ac5dcae8-713a-48d8-ab82-494ae6994ab8",
   "metadata": {},
   "source": [
    "The mass parameter $m$ and spin parameter $a$ of Kerr solution:"
   ]
  },
  {
   "cell_type": "code",
   "execution_count": 4,
   "id": "9ae70523-2f2c-48ea-9cf2-be00067e9c87",
   "metadata": {},
   "outputs": [],
   "source": [
    "m, a = var('m a', domain='real')\n",
    "assume(a<m)"
   ]
  },
  {
   "cell_type": "markdown",
   "id": "0b7ecb17-222f-487d-b691-692b48db549e",
   "metadata": {},
   "source": [
    "The Kerr spacetime declared as a 4-dimensional Lorentzian manifold:"
   ]
  },
  {
   "cell_type": "code",
   "execution_count": 5,
   "id": "da3d61cb-7f2a-4d56-b2e9-ff5863b22cb3",
   "metadata": {},
   "outputs": [
    {
     "name": "stdout",
     "output_type": "stream",
     "text": [
      "4-dimensional Lorentzian manifold M\n"
     ]
    }
   ],
   "source": [
    "M = Manifold(4, 'M', structure='Lorentzian')\n",
    "print(M)"
   ]
  },
  {
   "cell_type": "markdown",
   "id": "550a0fbd-5ad0-4cc9-8c8c-57c780dd5d13",
   "metadata": {},
   "source": [
    "On $M$, we consider the *\"rational-polynomial\" coordinates* $(t,r,y,\\phi)$ inherited from the standard **Boyer-Lindquist coordinates** $(t,r,\\theta,\\phi)$ via $y=\\cos\\theta$:"
   ]
  },
  {
   "cell_type": "code",
   "execution_count": 6,
   "id": "89a6723f-40d5-47a1-b154-3bc0a7888c32",
   "metadata": {},
   "outputs": [
    {
     "data": {
      "text/html": [
       "<html>\\(\\displaystyle \\left(M,(t, r, y, {\\phi})\\right)\\)</html>"
      ],
      "text/latex": [
       "$\\displaystyle \\left(M,(t, r, y, {\\phi})\\right)$"
      ],
      "text/plain": [
       "Chart (M, (t, r, y, ph))"
      ]
     },
     "execution_count": 6,
     "metadata": {},
     "output_type": "execute_result"
    }
   ],
   "source": [
    "BL.<t,r,y,ph> = M.chart(r't r:(0,+oo) y:(-1,1) ph:(0,2*pi):\\phi') \n",
    "BL"
   ]
  },
  {
   "cell_type": "markdown",
   "id": "594d5723-80e7-4632-94c7-1c7ba73f49f2",
   "metadata": {},
   "source": [
    "We focus on the exterior of the Kerr black hole, on which $\\Delta := r^2 - 2 mr + a^2 > 0$: "
   ]
  },
  {
   "cell_type": "code",
   "execution_count": 7,
   "id": "d033928f-f11e-48af-8fbc-afc4d7a04612",
   "metadata": {},
   "outputs": [],
   "source": [
    "assume(a^2 -2*m*r+ r^2 > 0)"
   ]
  },
  {
   "cell_type": "markdown",
   "id": "c48942d1-2082-416d-bd55-89c8cfddb161",
   "metadata": {},
   "source": [
    "The Kerr metric:"
   ]
  },
  {
   "cell_type": "code",
   "execution_count": 8,
   "id": "3de0af8e-ab6f-41fd-931a-be04ef5c43ec",
   "metadata": {},
   "outputs": [
    {
     "data": {
      "text/html": [
       "<html>\\(\\displaystyle g = \\left( \\frac{2 \\, m r}{a^{2} y^{2} + r^{2}} - 1 \\right) \\mathrm{d} t\\otimes \\mathrm{d} t + \\left( \\frac{2 \\, {\\left(y^{2} - 1\\right)} a m r}{a^{2} y^{2} + r^{2}} \\right) \\mathrm{d} t\\otimes \\mathrm{d} {\\phi} + \\left( \\frac{a^{2} y^{2} + r^{2}}{a^{2} - 2 \\, m r + r^{2}} \\right) \\mathrm{d} r\\otimes \\mathrm{d} r + \\left( -\\frac{a^{2} y^{2} + r^{2}}{y^{2} - 1} \\right) \\mathrm{d} y\\otimes \\mathrm{d} y + \\left( \\frac{2 \\, {\\left(y^{2} - 1\\right)} a m r}{a^{2} y^{2} + r^{2}} \\right) \\mathrm{d} {\\phi}\\otimes \\mathrm{d} t + {\\left(\\frac{2 \\, {\\left(y^{2} - 1\\right)} a^{2} m r}{a^{2} y^{2} + r^{2}} - a^{2} - r^{2}\\right)} {\\left(y^{2} - 1\\right)} \\mathrm{d} {\\phi}\\otimes \\mathrm{d} {\\phi}\\)</html>"
      ],
      "text/latex": [
       "$\\displaystyle g = \\left( \\frac{2 \\, m r}{a^{2} y^{2} + r^{2}} - 1 \\right) \\mathrm{d} t\\otimes \\mathrm{d} t + \\left( \\frac{2 \\, {\\left(y^{2} - 1\\right)} a m r}{a^{2} y^{2} + r^{2}} \\right) \\mathrm{d} t\\otimes \\mathrm{d} {\\phi} + \\left( \\frac{a^{2} y^{2} + r^{2}}{a^{2} - 2 \\, m r + r^{2}} \\right) \\mathrm{d} r\\otimes \\mathrm{d} r + \\left( -\\frac{a^{2} y^{2} + r^{2}}{y^{2} - 1} \\right) \\mathrm{d} y\\otimes \\mathrm{d} y + \\left( \\frac{2 \\, {\\left(y^{2} - 1\\right)} a m r}{a^{2} y^{2} + r^{2}} \\right) \\mathrm{d} {\\phi}\\otimes \\mathrm{d} t + {\\left(\\frac{2 \\, {\\left(y^{2} - 1\\right)} a^{2} m r}{a^{2} y^{2} + r^{2}} - a^{2} - r^{2}\\right)} {\\left(y^{2} - 1\\right)} \\mathrm{d} {\\phi}\\otimes \\mathrm{d} {\\phi}$"
      ],
      "text/plain": [
       "g = (2*m*r/(a^2*y^2 + r^2) - 1) dt⊗dt + 2*(y^2 - 1)*a*m*r/(a^2*y^2 + r^2) dt⊗dph + (a^2*y^2 + r^2)/(a^2 - 2*m*r + r^2) dr⊗dr - (a^2*y^2 + r^2)/(y^2 - 1) dy⊗dy + 2*(y^2 - 1)*a*m*r/(a^2*y^2 + r^2) dph⊗dt + (2*(y^2 - 1)*a^2*m*r/(a^2*y^2 + r^2) - a^2 - r^2)*(y^2 - 1) dph⊗dph"
      ]
     },
     "execution_count": 8,
     "metadata": {},
     "output_type": "execute_result"
    }
   ],
   "source": [
    "g = M.metric()\n",
    "rho2 = r^2 + (a*y)^2\n",
    "Delta = r^2 -2*m*r + a^2\n",
    "g[0,0] = -(1-2*m*r/rho2)\n",
    "g[0,3] = -2*a*m*r*(1 - y^2)/rho2\n",
    "g[1,1], g[2,2] = rho2/Delta, rho2/(1 - y^2)\n",
    "g[3,3] = (r^2 + a^2 + 2*m*r*a^2*(1 - y^2)/rho2)*(1 - y^2)\n",
    "g.display()"
   ]
  },
  {
   "cell_type": "markdown",
   "id": "4d4b1d89-4e68-4217-b0ed-7fb5b5eeddbe",
   "metadata": {},
   "source": [
    "As a test, let us check that $g$ is a solution of the **vacuum Einstein equation**:"
   ]
  },
  {
   "cell_type": "code",
   "execution_count": 9,
   "id": "2b4930ff-0b0d-4631-8fb0-d9a8fc995e21",
   "metadata": {},
   "outputs": [
    {
     "data": {
      "text/html": [
       "<html>\\(\\displaystyle \\mathrm{Ric}\\left(g\\right) = 0\\)</html>"
      ],
      "text/latex": [
       "$\\displaystyle \\mathrm{Ric}\\left(g\\right) = 0$"
      ],
      "text/plain": [
       "Ric(g) = 0"
      ]
     },
     "execution_count": 9,
     "metadata": {},
     "output_type": "execute_result"
    }
   ],
   "source": [
    "g.ricci().display()"
   ]
  },
  {
   "cell_type": "markdown",
   "id": "2ec16849-35d8-4de4-8e75-f8d2a9a3d38b",
   "metadata": {},
   "source": [
    "## Spacelike hypersurface $(\\Sigma,\\gamma)$\n",
    "\n",
    "We declare $\\Sigma$ as a 3-dimensional (immersed) submanifold of $M$ via the keyword `ambient`:"
   ]
  },
  {
   "cell_type": "code",
   "execution_count": 10,
   "id": "626870e8-59e9-463b-8102-7da821df79e3",
   "metadata": {},
   "outputs": [
    {
     "name": "stdout",
     "output_type": "stream",
     "text": [
      "3-dimensional Riemannian submanifold S immersed in the 4-dimensional Lorentzian manifold M\n"
     ]
    }
   ],
   "source": [
    "S = Manifold(3, 'S', latex_name=r'\\Sigma', ambient=M, \n",
    "             structure=\"Riemannian\", start_index=1)\n",
    "print(S)"
   ]
  },
  {
   "cell_type": "code",
   "execution_count": 11,
   "id": "fb42203c-c354-49e9-af77-b389e68f90fb",
   "metadata": {},
   "outputs": [
    {
     "data": {
      "text/html": [
       "<html>\\(\\displaystyle \\Sigma\\)</html>"
      ],
      "text/latex": [
       "$\\displaystyle \\Sigma$"
      ],
      "text/plain": [
       "3-dimensional Riemannian submanifold S immersed in the 4-dimensional Lorentzian manifold M"
      ]
     },
     "execution_count": 11,
     "metadata": {},
     "output_type": "execute_result"
    }
   ],
   "source": [
    "S"
   ]
  },
  {
   "cell_type": "markdown",
   "id": "6751868d-becd-47cf-84f1-20c00ee30459",
   "metadata": {},
   "source": [
    "We consider $\\Sigma$ to be a constant Boyer-Lindquist coordinate $t$ hypersurface. Natural coordinates on $\\Sigma$ are then the Boyer-Lindquist coordinates $(r,y,\\phi)$:"
   ]
  },
  {
   "cell_type": "code",
   "execution_count": 12,
   "id": "5fa63fd7-8881-4014-8a3f-01fb69421ce9",
   "metadata": {},
   "outputs": [
    {
     "data": {
      "text/html": [
       "<html>\\(\\displaystyle \\left(\\Sigma,(r, y, {\\phi})\\right)\\)</html>"
      ],
      "text/latex": [
       "$\\displaystyle \\left(\\Sigma,(r, y, {\\phi})\\right)$"
      ],
      "text/plain": [
       "Chart (S, (r, y, ph))"
      ]
     },
     "execution_count": 12,
     "metadata": {},
     "output_type": "execute_result"
    }
   ],
   "source": [
    "BLS = S.chart(r'r:(0,+oo) y:(-1,1) ph:(0,2*pi):\\phi')\n",
    "BLS"
   ]
  },
  {
   "cell_type": "markdown",
   "id": "243d59ab-283e-470f-b25c-2128eb550629",
   "metadata": {},
   "source": [
    "At this stage, the user atlas of $\\Sigma$ contains a single chart:"
   ]
  },
  {
   "cell_type": "code",
   "execution_count": 13,
   "id": "f75fc052-f1ab-44e6-8b7a-eda3fd2eb3c5",
   "metadata": {},
   "outputs": [
    {
     "data": {
      "text/html": [
       "<html>\\(\\displaystyle \\left[\\left(\\Sigma,(r, y, {\\phi})\\right)\\right]\\)</html>"
      ],
      "text/latex": [
       "$\\displaystyle \\left[\\left(\\Sigma,(r, y, {\\phi})\\right)\\right]$"
      ],
      "text/plain": [
       "[Chart (S, (r, y, ph))]"
      ]
     },
     "execution_count": 13,
     "metadata": {},
     "output_type": "execute_result"
    }
   ],
   "source": [
    "S.atlas()"
   ]
  },
  {
   "cell_type": "markdown",
   "id": "e966b016-7e9a-47a0-9d97-21e93413a212",
   "metadata": {},
   "source": [
    "The embedding $\\Phi: \\Sigma \\to M$:"
   ]
  },
  {
   "cell_type": "code",
   "execution_count": 14,
   "id": "c9be07fe-5491-40cf-af5b-32c6f9321408",
   "metadata": {},
   "outputs": [
    {
     "data": {
      "text/html": [
       "<html>\\(\\displaystyle \\begin{array}{llcl} \\Phi:& \\Sigma & \\longrightarrow & M \\\\ & \\left(r, y, {\\phi}\\right) & \\longmapsto & \\left(t, r, y, {\\phi}\\right) = \\left(t, r, y, {\\phi}\\right) \\end{array}\\)</html>"
      ],
      "text/latex": [
       "$\\displaystyle \\begin{array}{llcl} \\Phi:& \\Sigma & \\longrightarrow & M \\\\ & \\left(r, y, {\\phi}\\right) & \\longmapsto & \\left(t, r, y, {\\phi}\\right) = \\left(t, r, y, {\\phi}\\right) \\end{array}$"
      ],
      "text/plain": [
       "Phi: S → M\n",
       "   (r, y, ph) ↦ (t, r, y, ph) = (t, r, y, ph)"
      ]
     },
     "execution_count": 14,
     "metadata": {},
     "output_type": "execute_result"
    }
   ],
   "source": [
    "Phi = S.diff_map(M, {(BLS, BL): (t, r, y, ph)}, name='Phi',\n",
    "                 latex_name=r'\\Phi')\n",
    "Phi.display()"
   ]
  },
  {
   "cell_type": "markdown",
   "id": "66bc8bff-28d1-4048-9af7-9a6d96d69150",
   "metadata": {},
   "source": [
    "The partial inverse:"
   ]
  },
  {
   "cell_type": "code",
   "execution_count": 15,
   "id": "204160fc-a819-4387-a611-7c72d165a580",
   "metadata": {},
   "outputs": [
    {
     "data": {
      "text/html": [
       "<html>\\(\\displaystyle \\begin{array}{llcl} & M & \\longrightarrow & \\Sigma \\\\ & \\left(t, r, y, {\\phi}\\right) & \\longmapsto & \\left(r, y, {\\phi}\\right) = \\left(r, y, {\\phi}\\right) \\end{array}\\)</html>"
      ],
      "text/latex": [
       "$\\displaystyle \\begin{array}{llcl} & M & \\longrightarrow & \\Sigma \\\\ & \\left(t, r, y, {\\phi}\\right) & \\longmapsto & \\left(r, y, {\\phi}\\right) = \\left(r, y, {\\phi}\\right) \\end{array}$"
      ],
      "text/plain": [
       "M → S\n",
       "   (t, r, y, ph) ↦ (r, y, ph) = (r, y, ph)"
      ]
     },
     "execution_count": 15,
     "metadata": {},
     "output_type": "execute_result"
    }
   ],
   "source": [
    "Phi_inv = M.diff_map(S, {(BL, BLS): (r, y, ph)})\n",
    "Phi_inv.display()"
   ]
  },
  {
   "cell_type": "code",
   "execution_count": 16,
   "id": "ace095f5-bd06-4391-9f4e-f4ac84f88ad0",
   "metadata": {},
   "outputs": [
    {
     "data": {
      "text/html": [
       "<html>\\(\\displaystyle \\mathrm{True}\\)</html>"
      ],
      "text/latex": [
       "$\\displaystyle \\mathrm{True}$"
      ],
      "text/plain": [
       "True"
      ]
     },
     "execution_count": 16,
     "metadata": {},
     "output_type": "execute_result"
    }
   ],
   "source": [
    "Phi_inv*Phi == S.identity_map()"
   ]
  },
  {
   "cell_type": "markdown",
   "id": "97ae8ec8-916e-46d9-a1ec-8ba54ea7b520",
   "metadata": {},
   "source": [
    "$t$ as a scalar field on $M$:"
   ]
  },
  {
   "cell_type": "code",
   "execution_count": 17,
   "id": "92e826ee-bbdb-44f1-a5da-e7220a973f7c",
   "metadata": {},
   "outputs": [
    {
     "data": {
      "text/html": [
       "<html>\\(\\displaystyle \\begin{array}{llcl} & M & \\longrightarrow & \\mathbb{R} \\\\ & \\left(t, r, y, {\\phi}\\right) & \\longmapsto & t \\end{array}\\)</html>"
      ],
      "text/latex": [
       "$\\displaystyle \\begin{array}{llcl} & M & \\longrightarrow & \\mathbb{R} \\\\ & \\left(t, r, y, {\\phi}\\right) & \\longmapsto & t \\end{array}$"
      ],
      "text/plain": [
       "M → ℝ\n",
       "(t, r, y, ph) ↦ t"
      ]
     },
     "execution_count": 17,
     "metadata": {},
     "output_type": "execute_result"
    }
   ],
   "source": [
    "t_scalar = M.scalar_field(t)\n",
    "t_scalar.display()"
   ]
  },
  {
   "cell_type": "markdown",
   "id": "1137a238-b065-4f3e-8080-1795556c8480",
   "metadata": {},
   "source": [
    "We declare that $\\Phi$ is the embedding of $\\Sigma$ in $M$ and that $\\Sigma$ is a level\n",
    "surface of $t$:"
   ]
  },
  {
   "cell_type": "code",
   "execution_count": 18,
   "id": "718ababf-de0b-40d2-b8db-f2320662c120",
   "metadata": {
    "jp-MarkdownHeadingCollapsed": true
   },
   "outputs": [
    {
     "name": "stdout",
     "output_type": "stream",
     "text": [
      "3-dimensional Riemannian submanifold S embedded in the 4-dimensional Lorentzian manifold M\n"
     ]
    }
   ],
   "source": [
    "S.set_embedding(Phi, inverse=Phi_inv, var=t,\n",
    "                t_inverse = {t: t_scalar})\n",
    "print(S)"
   ]
  },
  {
   "cell_type": "markdown",
   "id": "cd4b2a60-a682-40fb-b4bc-77a0139afcd5",
   "metadata": {},
   "source": [
    "For some computations, $\\Sigma$ is considered as belonging to a foliation of $M$ by\n",
    "a family of hypersurfaces $(\\Sigma_t)_{t\\in\\mathbb{R}}$. A chart of $M$ adapted to the\n",
    "foliation is computed by the method `adapted_chart`. In the present case, it is trivial, \n",
    "since $t$ is one of the coordinate of the default chart of $M$:\n"
   ]
  },
  {
   "cell_type": "code",
   "execution_count": 19,
   "id": "b9447abd-b79e-4dfd-9c12-072be6e24f53",
   "metadata": {},
   "outputs": [
    {
     "data": {
      "text/html": [
       "<html>\\(\\displaystyle \\left[\\left(M,({{r}_{M}}, {{y}_{M}}, {{{\\phi}}_{M}}, {{t}_{M}})\\right)\\right]\\)</html>"
      ],
      "text/latex": [
       "$\\displaystyle \\left[\\left(M,({{r}_{M}}, {{y}_{M}}, {{{\\phi}}_{M}}, {{t}_{M}})\\right)\\right]$"
      ],
      "text/plain": [
       "[Chart (M, (r_M, y_M, ph_M, t_M))]"
      ]
     },
     "execution_count": 19,
     "metadata": {},
     "output_type": "execute_result"
    }
   ],
   "source": [
    "S.adapted_chart()"
   ]
  },
  {
   "cell_type": "code",
   "execution_count": 20,
   "id": "9b305a49-eb40-4c12-b651-b4b8edde927a",
   "metadata": {},
   "outputs": [
    {
     "data": {
      "text/html": [
       "<html>\\(\\displaystyle \\left[\\left(M,(t, r, y, {\\phi})\\right), \\left(M,({{r}_{M}}, {{y}_{M}}, {{{\\phi}}_{M}}, {{t}_{M}})\\right)\\right]\\)</html>"
      ],
      "text/latex": [
       "$\\displaystyle \\left[\\left(M,(t, r, y, {\\phi})\\right), \\left(M,({{r}_{M}}, {{y}_{M}}, {{{\\phi}}_{M}}, {{t}_{M}})\\right)\\right]$"
      ],
      "text/plain": [
       "[Chart (M, (t, r, y, ph)), Chart (M, (r_M, y_M, ph_M, t_M))]"
      ]
     },
     "execution_count": 20,
     "metadata": {},
     "output_type": "execute_result"
    }
   ],
   "source": [
    "M.atlas()"
   ]
  },
  {
   "cell_type": "markdown",
   "id": "b1c0a870-f90b-4a4b-90f4-c2149c20fe36",
   "metadata": {},
   "source": [
    "### The Riemannian metric $\\gamma$ induced by $g$ on $\\Sigma$"
   ]
  },
  {
   "cell_type": "markdown",
   "id": "8974e0a4-7501-4015-963b-742a9b491082",
   "metadata": {},
   "source": [
    "$\\gamma$ is the first fundamental form of $\\Sigma$:"
   ]
  },
  {
   "cell_type": "code",
   "execution_count": 21,
   "id": "089d3434-5352-42c1-b4be-f47bd889499d",
   "metadata": {},
   "outputs": [
    {
     "data": {
      "text/html": [
       "<html>\\(\\displaystyle \\gamma = \\left( \\frac{a^{2} y^{2} + r^{2}}{a^{2} - 2 \\, m r + r^{2}} \\right) \\mathrm{d} r\\otimes \\mathrm{d} r + \\left( -\\frac{a^{2} y^{2} + r^{2}}{y^{2} - 1} \\right) \\mathrm{d} y\\otimes \\mathrm{d} y + \\left( -\\frac{{\\left(a^{4} - 2 \\, a^{2} m r + a^{2} r^{2}\\right)} y^{4} - 2 \\, a^{2} m r - a^{2} r^{2} - r^{4} - {\\left(a^{4} - 4 \\, a^{2} m r - r^{4}\\right)} y^{2}}{a^{2} y^{2} + r^{2}} \\right) \\mathrm{d} {\\phi}\\otimes \\mathrm{d} {\\phi}\\)</html>"
      ],
      "text/latex": [
       "$\\displaystyle \\gamma = \\left( \\frac{a^{2} y^{2} + r^{2}}{a^{2} - 2 \\, m r + r^{2}} \\right) \\mathrm{d} r\\otimes \\mathrm{d} r + \\left( -\\frac{a^{2} y^{2} + r^{2}}{y^{2} - 1} \\right) \\mathrm{d} y\\otimes \\mathrm{d} y + \\left( -\\frac{{\\left(a^{4} - 2 \\, a^{2} m r + a^{2} r^{2}\\right)} y^{4} - 2 \\, a^{2} m r - a^{2} r^{2} - r^{4} - {\\left(a^{4} - 4 \\, a^{2} m r - r^{4}\\right)} y^{2}}{a^{2} y^{2} + r^{2}} \\right) \\mathrm{d} {\\phi}\\otimes \\mathrm{d} {\\phi}$"
      ],
      "text/plain": [
       "gamma = (a^2*y^2 + r^2)/(a^2 - 2*m*r + r^2) dr⊗dr - (a^2*y^2 + r^2)/(y^2 - 1) dy⊗dy - ((a^4 - 2*a^2*m*r + a^2*r^2)*y^4 - 2*a^2*m*r - a^2*r^2 - r^4 - (a^4 - 4*a^2*m*r - r^4)*y^2)/(a^2*y^2 + r^2) dph⊗dph"
      ]
     },
     "execution_count": 21,
     "metadata": {},
     "output_type": "execute_result"
    }
   ],
   "source": [
    "gam = S.first_fundamental_form()\n",
    "gam.display()"
   ]
  },
  {
   "cell_type": "markdown",
   "id": "8e5ea3d5-5760-4e87-859a-cdb176a37629",
   "metadata": {},
   "source": [
    "It is actually the pullback of $g$ by the embedding $\\Phi$:"
   ]
  },
  {
   "cell_type": "code",
   "execution_count": 22,
   "id": "b7f36ae5-6b94-48cb-8e10-36591673f5fc",
   "metadata": {},
   "outputs": [
    {
     "data": {
      "text/html": [
       "<html>\\(\\displaystyle \\mathrm{True}\\)</html>"
      ],
      "text/latex": [
       "$\\displaystyle \\mathrm{True}$"
      ],
      "text/plain": [
       "True"
      ]
     },
     "execution_count": 22,
     "metadata": {},
     "output_type": "execute_result"
    }
   ],
   "source": [
    "gam == Phi.pullback(g)"
   ]
  },
  {
   "cell_type": "markdown",
   "id": "43e31511-a1b9-44cb-826c-e5b27bcbba0c",
   "metadata": {},
   "source": [
    "An alias of `first_fundamental_form` is `induced_metric`:"
   ]
  },
  {
   "cell_type": "code",
   "execution_count": 23,
   "id": "da2e59f0-16c4-45d9-8ddb-7f2774aabf19",
   "metadata": {},
   "outputs": [
    {
     "data": {
      "text/html": [
       "<html>\\(\\displaystyle \\mathrm{True}\\)</html>"
      ],
      "text/latex": [
       "$\\displaystyle \\mathrm{True}$"
      ],
      "text/plain": [
       "True"
      ]
     },
     "execution_count": 23,
     "metadata": {},
     "output_type": "execute_result"
    }
   ],
   "source": [
    "gam is S.induced_metric()"
   ]
  },
  {
   "cell_type": "markdown",
   "id": "14a6fadc-d1f3-4d58-b739-c24335309462",
   "metadata": {},
   "source": [
    "The Levi-Civita connection $D$ associated with $\\gamma$:"
   ]
  },
  {
   "cell_type": "code",
   "execution_count": 24,
   "id": "7c388184-a616-469f-90c4-29c3e7e20e51",
   "metadata": {},
   "outputs": [
    {
     "name": "stdout",
     "output_type": "stream",
     "text": [
      "Levi-Civita connection D associated with the Riemannian metric gamma on the 3-dimensional Riemannian submanifold S embedded in the 4-dimensional Lorentzian manifold M\n"
     ]
    }
   ],
   "source": [
    "D = gam.connection(name='D')\n",
    "print(D)"
   ]
  },
  {
   "cell_type": "code",
   "execution_count": 25,
   "id": "814b7600-530f-4231-af7b-ffddcdac02e2",
   "metadata": {},
   "outputs": [
    {
     "data": {
      "text/html": [
       "<html>\\(\\displaystyle \\begin{array}{lcl} \\Gamma_{ \\phantom{\\, r} \\, r \\, r }^{ \\, r \\phantom{\\, r} \\phantom{\\, r} } & = & \\frac{a^{2} r - m r^{2} + {\\left(a^{2} m - a^{2} r\\right)} y^{2}}{a^{2} r^{2} - 2 \\, m r^{3} + r^{4} + {\\left(a^{4} - 2 \\, a^{2} m r + a^{2} r^{2}\\right)} y^{2}} \\\\ \\Gamma_{ \\phantom{\\, r} \\, r \\, y }^{ \\, r \\phantom{\\, r} \\phantom{\\, y} } & = & \\frac{a^{2} y}{a^{2} y^{2} + r^{2}} \\\\ \\Gamma_{ \\phantom{\\, r} \\, y \\, r }^{ \\, r \\phantom{\\, y} \\phantom{\\, r} } & = & \\frac{a^{2} y}{a^{2} y^{2} + r^{2}} \\\\ \\Gamma_{ \\phantom{\\, r} \\, y \\, y }^{ \\, r \\phantom{\\, y} \\phantom{\\, y} } & = & \\frac{a^{2} r - 2 \\, m r^{2} + r^{3}}{a^{2} y^{4} - {\\left(a^{2} - r^{2}\\right)} y^{2} - r^{2}} \\\\ \\Gamma_{ \\phantom{\\, r} \\, {\\phi} \\, {\\phi} }^{ \\, r \\phantom{\\, {\\phi}} \\phantom{\\, {\\phi}} } & = & \\frac{a^{4} m r^{2} - 2 \\, a^{2} m^{2} r^{3} + a^{2} m r^{4} - a^{2} r^{5} + 2 \\, m r^{6} - r^{7} - {\\left(a^{6} m + 3 \\, a^{4} m r^{2} - a^{4} r^{3} - {\\left(a^{6} + 2 \\, a^{4} m^{2}\\right)} r\\right)} y^{6} + {\\left(2 \\, a^{6} m + 5 \\, a^{4} m r^{2} - 3 \\, a^{2} m r^{4} + 2 \\, a^{2} r^{5} + {\\left(a^{4} - 2 \\, a^{2} m^{2}\\right)} r^{3} - {\\left(a^{6} + 4 \\, a^{4} m^{2}\\right)} r\\right)} y^{4} - {\\left(a^{6} m - 2 \\, a^{4} m^{2} r + 3 \\, a^{4} m r^{2} - 2 \\, a^{2} m r^{4} + a^{2} r^{5} + 2 \\, m r^{6} - r^{7} + 2 \\, {\\left(a^{4} - 2 \\, a^{2} m^{2}\\right)} r^{3}\\right)} y^{2}}{a^{6} y^{6} + 3 \\, a^{4} r^{2} y^{4} + 3 \\, a^{2} r^{4} y^{2} + r^{6}} \\\\ \\Gamma_{ \\phantom{\\, y} \\, r \\, r }^{ \\, y \\phantom{\\, r} \\phantom{\\, r} } & = & \\frac{a^{2} y^{3} - a^{2} y}{a^{2} r^{2} - 2 \\, m r^{3} + r^{4} + {\\left(a^{4} - 2 \\, a^{2} m r + a^{2} r^{2}\\right)} y^{2}} \\\\ \\Gamma_{ \\phantom{\\, y} \\, r \\, y }^{ \\, y \\phantom{\\, r} \\phantom{\\, y} } & = & \\frac{r}{a^{2} y^{2} + r^{2}} \\\\ \\Gamma_{ \\phantom{\\, y} \\, y \\, r }^{ \\, y \\phantom{\\, y} \\phantom{\\, r} } & = & \\frac{r}{a^{2} y^{2} + r^{2}} \\\\ \\Gamma_{ \\phantom{\\, y} \\, y \\, y }^{ \\, y \\phantom{\\, y} \\phantom{\\, y} } & = & -\\frac{{\\left(a^{2} + r^{2}\\right)} y}{a^{2} y^{4} - {\\left(a^{2} - r^{2}\\right)} y^{2} - r^{2}} \\\\ \\Gamma_{ \\phantom{\\, y} \\, {\\phi} \\, {\\phi} }^{ \\, y \\phantom{\\, {\\phi}} \\phantom{\\, {\\phi}} } & = & -\\frac{{\\left(a^{6} - 2 \\, a^{4} m r + a^{4} r^{2}\\right)} y^{7} - {\\left(a^{6} - 2 \\, a^{4} m r - a^{4} r^{2} + 4 \\, a^{2} m r^{3} - 2 \\, a^{2} r^{4}\\right)} y^{5} + {\\left(2 \\, a^{4} m r - 2 \\, a^{4} r^{2} + 8 \\, a^{2} m r^{3} - a^{2} r^{4} + r^{6}\\right)} y^{3} - {\\left(2 \\, a^{4} m r + 4 \\, a^{2} m r^{3} + a^{2} r^{4} + r^{6}\\right)} y}{a^{6} y^{6} + 3 \\, a^{4} r^{2} y^{4} + 3 \\, a^{2} r^{4} y^{2} + r^{6}} \\\\ \\Gamma_{ \\phantom{\\, {\\phi}} \\, r \\, {\\phi} }^{ \\, {\\phi} \\phantom{\\, r} \\phantom{\\, {\\phi}} } & = & -\\frac{a^{2} m r^{2} - r^{5} + {\\left(a^{4} m - a^{4} r\\right)} y^{4} - {\\left(a^{4} m + a^{2} m r^{2} + 2 \\, a^{2} r^{3}\\right)} y^{2}}{2 \\, a^{2} m r^{3} + a^{2} r^{4} + r^{6} + {\\left(a^{6} - 2 \\, a^{4} m r + a^{4} r^{2}\\right)} y^{4} + 2 \\, {\\left(a^{4} m r + a^{4} r^{2} - a^{2} m r^{3} + a^{2} r^{4}\\right)} y^{2}} \\\\ \\Gamma_{ \\phantom{\\, {\\phi}} \\, y \\, {\\phi} }^{ \\, {\\phi} \\phantom{\\, y} \\phantom{\\, {\\phi}} } & = & \\frac{{\\left(a^{6} - 2 \\, a^{4} m r + a^{4} r^{2}\\right)} y^{5} + 2 \\, {\\left(a^{4} r^{2} - 2 \\, a^{2} m r^{3} + a^{2} r^{4}\\right)} y^{3} + {\\left(2 \\, a^{4} m r + 4 \\, a^{2} m r^{3} + a^{2} r^{4} + r^{6}\\right)} y}{{\\left(a^{6} - 2 \\, a^{4} m r + a^{4} r^{2}\\right)} y^{6} - 2 \\, a^{2} m r^{3} - a^{2} r^{4} - r^{6} - {\\left(a^{6} - 4 \\, a^{4} m r - a^{4} r^{2} + 2 \\, a^{2} m r^{3} - 2 \\, a^{2} r^{4}\\right)} y^{4} - {\\left(2 \\, a^{4} m r + 2 \\, a^{4} r^{2} - 4 \\, a^{2} m r^{3} + a^{2} r^{4} - r^{6}\\right)} y^{2}} \\\\ \\Gamma_{ \\phantom{\\, {\\phi}} \\, {\\phi} \\, r }^{ \\, {\\phi} \\phantom{\\, {\\phi}} \\phantom{\\, r} } & = & -\\frac{a^{2} m r^{2} - r^{5} + {\\left(a^{4} m - a^{4} r\\right)} y^{4} - {\\left(a^{4} m + a^{2} m r^{2} + 2 \\, a^{2} r^{3}\\right)} y^{2}}{2 \\, a^{2} m r^{3} + a^{2} r^{4} + r^{6} + {\\left(a^{6} - 2 \\, a^{4} m r + a^{4} r^{2}\\right)} y^{4} + 2 \\, {\\left(a^{4} m r + a^{4} r^{2} - a^{2} m r^{3} + a^{2} r^{4}\\right)} y^{2}} \\\\ \\Gamma_{ \\phantom{\\, {\\phi}} \\, {\\phi} \\, y }^{ \\, {\\phi} \\phantom{\\, {\\phi}} \\phantom{\\, y} } & = & \\frac{{\\left(a^{6} - 2 \\, a^{4} m r + a^{4} r^{2}\\right)} y^{5} + 2 \\, {\\left(a^{4} r^{2} - 2 \\, a^{2} m r^{3} + a^{2} r^{4}\\right)} y^{3} + {\\left(2 \\, a^{4} m r + 4 \\, a^{2} m r^{3} + a^{2} r^{4} + r^{6}\\right)} y}{{\\left(a^{6} - 2 \\, a^{4} m r + a^{4} r^{2}\\right)} y^{6} - 2 \\, a^{2} m r^{3} - a^{2} r^{4} - r^{6} - {\\left(a^{6} - 4 \\, a^{4} m r - a^{4} r^{2} + 2 \\, a^{2} m r^{3} - 2 \\, a^{2} r^{4}\\right)} y^{4} - {\\left(2 \\, a^{4} m r + 2 \\, a^{4} r^{2} - 4 \\, a^{2} m r^{3} + a^{2} r^{4} - r^{6}\\right)} y^{2}} \\end{array}\\)</html>"
      ],
      "text/latex": [
       "$\\displaystyle \\begin{array}{lcl} \\Gamma_{ \\phantom{\\, r} \\, r \\, r }^{ \\, r \\phantom{\\, r} \\phantom{\\, r} } & = & \\frac{a^{2} r - m r^{2} + {\\left(a^{2} m - a^{2} r\\right)} y^{2}}{a^{2} r^{2} - 2 \\, m r^{3} + r^{4} + {\\left(a^{4} - 2 \\, a^{2} m r + a^{2} r^{2}\\right)} y^{2}} \\\\ \\Gamma_{ \\phantom{\\, r} \\, r \\, y }^{ \\, r \\phantom{\\, r} \\phantom{\\, y} } & = & \\frac{a^{2} y}{a^{2} y^{2} + r^{2}} \\\\ \\Gamma_{ \\phantom{\\, r} \\, y \\, r }^{ \\, r \\phantom{\\, y} \\phantom{\\, r} } & = & \\frac{a^{2} y}{a^{2} y^{2} + r^{2}} \\\\ \\Gamma_{ \\phantom{\\, r} \\, y \\, y }^{ \\, r \\phantom{\\, y} \\phantom{\\, y} } & = & \\frac{a^{2} r - 2 \\, m r^{2} + r^{3}}{a^{2} y^{4} - {\\left(a^{2} - r^{2}\\right)} y^{2} - r^{2}} \\\\ \\Gamma_{ \\phantom{\\, r} \\, {\\phi} \\, {\\phi} }^{ \\, r \\phantom{\\, {\\phi}} \\phantom{\\, {\\phi}} } & = & \\frac{a^{4} m r^{2} - 2 \\, a^{2} m^{2} r^{3} + a^{2} m r^{4} - a^{2} r^{5} + 2 \\, m r^{6} - r^{7} - {\\left(a^{6} m + 3 \\, a^{4} m r^{2} - a^{4} r^{3} - {\\left(a^{6} + 2 \\, a^{4} m^{2}\\right)} r\\right)} y^{6} + {\\left(2 \\, a^{6} m + 5 \\, a^{4} m r^{2} - 3 \\, a^{2} m r^{4} + 2 \\, a^{2} r^{5} + {\\left(a^{4} - 2 \\, a^{2} m^{2}\\right)} r^{3} - {\\left(a^{6} + 4 \\, a^{4} m^{2}\\right)} r\\right)} y^{4} - {\\left(a^{6} m - 2 \\, a^{4} m^{2} r + 3 \\, a^{4} m r^{2} - 2 \\, a^{2} m r^{4} + a^{2} r^{5} + 2 \\, m r^{6} - r^{7} + 2 \\, {\\left(a^{4} - 2 \\, a^{2} m^{2}\\right)} r^{3}\\right)} y^{2}}{a^{6} y^{6} + 3 \\, a^{4} r^{2} y^{4} + 3 \\, a^{2} r^{4} y^{2} + r^{6}} \\\\ \\Gamma_{ \\phantom{\\, y} \\, r \\, r }^{ \\, y \\phantom{\\, r} \\phantom{\\, r} } & = & \\frac{a^{2} y^{3} - a^{2} y}{a^{2} r^{2} - 2 \\, m r^{3} + r^{4} + {\\left(a^{4} - 2 \\, a^{2} m r + a^{2} r^{2}\\right)} y^{2}} \\\\ \\Gamma_{ \\phantom{\\, y} \\, r \\, y }^{ \\, y \\phantom{\\, r} \\phantom{\\, y} } & = & \\frac{r}{a^{2} y^{2} + r^{2}} \\\\ \\Gamma_{ \\phantom{\\, y} \\, y \\, r }^{ \\, y \\phantom{\\, y} \\phantom{\\, r} } & = & \\frac{r}{a^{2} y^{2} + r^{2}} \\\\ \\Gamma_{ \\phantom{\\, y} \\, y \\, y }^{ \\, y \\phantom{\\, y} \\phantom{\\, y} } & = & -\\frac{{\\left(a^{2} + r^{2}\\right)} y}{a^{2} y^{4} - {\\left(a^{2} - r^{2}\\right)} y^{2} - r^{2}} \\\\ \\Gamma_{ \\phantom{\\, y} \\, {\\phi} \\, {\\phi} }^{ \\, y \\phantom{\\, {\\phi}} \\phantom{\\, {\\phi}} } & = & -\\frac{{\\left(a^{6} - 2 \\, a^{4} m r + a^{4} r^{2}\\right)} y^{7} - {\\left(a^{6} - 2 \\, a^{4} m r - a^{4} r^{2} + 4 \\, a^{2} m r^{3} - 2 \\, a^{2} r^{4}\\right)} y^{5} + {\\left(2 \\, a^{4} m r - 2 \\, a^{4} r^{2} + 8 \\, a^{2} m r^{3} - a^{2} r^{4} + r^{6}\\right)} y^{3} - {\\left(2 \\, a^{4} m r + 4 \\, a^{2} m r^{3} + a^{2} r^{4} + r^{6}\\right)} y}{a^{6} y^{6} + 3 \\, a^{4} r^{2} y^{4} + 3 \\, a^{2} r^{4} y^{2} + r^{6}} \\\\ \\Gamma_{ \\phantom{\\, {\\phi}} \\, r \\, {\\phi} }^{ \\, {\\phi} \\phantom{\\, r} \\phantom{\\, {\\phi}} } & = & -\\frac{a^{2} m r^{2} - r^{5} + {\\left(a^{4} m - a^{4} r\\right)} y^{4} - {\\left(a^{4} m + a^{2} m r^{2} + 2 \\, a^{2} r^{3}\\right)} y^{2}}{2 \\, a^{2} m r^{3} + a^{2} r^{4} + r^{6} + {\\left(a^{6} - 2 \\, a^{4} m r + a^{4} r^{2}\\right)} y^{4} + 2 \\, {\\left(a^{4} m r + a^{4} r^{2} - a^{2} m r^{3} + a^{2} r^{4}\\right)} y^{2}} \\\\ \\Gamma_{ \\phantom{\\, {\\phi}} \\, y \\, {\\phi} }^{ \\, {\\phi} \\phantom{\\, y} \\phantom{\\, {\\phi}} } & = & \\frac{{\\left(a^{6} - 2 \\, a^{4} m r + a^{4} r^{2}\\right)} y^{5} + 2 \\, {\\left(a^{4} r^{2} - 2 \\, a^{2} m r^{3} + a^{2} r^{4}\\right)} y^{3} + {\\left(2 \\, a^{4} m r + 4 \\, a^{2} m r^{3} + a^{2} r^{4} + r^{6}\\right)} y}{{\\left(a^{6} - 2 \\, a^{4} m r + a^{4} r^{2}\\right)} y^{6} - 2 \\, a^{2} m r^{3} - a^{2} r^{4} - r^{6} - {\\left(a^{6} - 4 \\, a^{4} m r - a^{4} r^{2} + 2 \\, a^{2} m r^{3} - 2 \\, a^{2} r^{4}\\right)} y^{4} - {\\left(2 \\, a^{4} m r + 2 \\, a^{4} r^{2} - 4 \\, a^{2} m r^{3} + a^{2} r^{4} - r^{6}\\right)} y^{2}} \\\\ \\Gamma_{ \\phantom{\\, {\\phi}} \\, {\\phi} \\, r }^{ \\, {\\phi} \\phantom{\\, {\\phi}} \\phantom{\\, r} } & = & -\\frac{a^{2} m r^{2} - r^{5} + {\\left(a^{4} m - a^{4} r\\right)} y^{4} - {\\left(a^{4} m + a^{2} m r^{2} + 2 \\, a^{2} r^{3}\\right)} y^{2}}{2 \\, a^{2} m r^{3} + a^{2} r^{4} + r^{6} + {\\left(a^{6} - 2 \\, a^{4} m r + a^{4} r^{2}\\right)} y^{4} + 2 \\, {\\left(a^{4} m r + a^{4} r^{2} - a^{2} m r^{3} + a^{2} r^{4}\\right)} y^{2}} \\\\ \\Gamma_{ \\phantom{\\, {\\phi}} \\, {\\phi} \\, y }^{ \\, {\\phi} \\phantom{\\, {\\phi}} \\phantom{\\, y} } & = & \\frac{{\\left(a^{6} - 2 \\, a^{4} m r + a^{4} r^{2}\\right)} y^{5} + 2 \\, {\\left(a^{4} r^{2} - 2 \\, a^{2} m r^{3} + a^{2} r^{4}\\right)} y^{3} + {\\left(2 \\, a^{4} m r + 4 \\, a^{2} m r^{3} + a^{2} r^{4} + r^{6}\\right)} y}{{\\left(a^{6} - 2 \\, a^{4} m r + a^{4} r^{2}\\right)} y^{6} - 2 \\, a^{2} m r^{3} - a^{2} r^{4} - r^{6} - {\\left(a^{6} - 4 \\, a^{4} m r - a^{4} r^{2} + 2 \\, a^{2} m r^{3} - 2 \\, a^{2} r^{4}\\right)} y^{4} - {\\left(2 \\, a^{4} m r + 2 \\, a^{4} r^{2} - 4 \\, a^{2} m r^{3} + a^{2} r^{4} - r^{6}\\right)} y^{2}} \\end{array}$"
      ],
      "text/plain": [
       "Gam^r_r,r = (a^2*r - m*r^2 + (a^2*m - a^2*r)*y^2)/(a^2*r^2 - 2*m*r^3 + r^4 + (a^4 - 2*a^2*m*r + a^2*r^2)*y^2) \n",
       "Gam^r_r,y = a^2*y/(a^2*y^2 + r^2) \n",
       "Gam^r_y,r = a^2*y/(a^2*y^2 + r^2) \n",
       "Gam^r_y,y = (a^2*r - 2*m*r^2 + r^3)/(a^2*y^4 - (a^2 - r^2)*y^2 - r^2) \n",
       "Gam^r_ph,ph = (a^4*m*r^2 - 2*a^2*m^2*r^3 + a^2*m*r^4 - a^2*r^5 + 2*m*r^6 - r^7 - (a^6*m + 3*a^4*m*r^2 - a^4*r^3 - (a^6 + 2*a^4*m^2)*r)*y^6 + (2*a^6*m + 5*a^4*m*r^2 - 3*a^2*m*r^4 + 2*a^2*r^5 + (a^4 - 2*a^2*m^2)*r^3 - (a^6 + 4*a^4*m^2)*r)*y^4 - (a^6*m - 2*a^4*m^2*r + 3*a^4*m*r^2 - 2*a^2*m*r^4 + a^2*r^5 + 2*m*r^6 - r^7 + 2*(a^4 - 2*a^2*m^2)*r^3)*y^2)/(a^6*y^6 + 3*a^4*r^2*y^4 + 3*a^2*r^4*y^2 + r^6) \n",
       "Gam^y_r,r = (a^2*y^3 - a^2*y)/(a^2*r^2 - 2*m*r^3 + r^4 + (a^4 - 2*a^2*m*r + a^2*r^2)*y^2) \n",
       "Gam^y_r,y = r/(a^2*y^2 + r^2) \n",
       "Gam^y_y,r = r/(a^2*y^2 + r^2) \n",
       "Gam^y_y,y = -(a^2 + r^2)*y/(a^2*y^4 - (a^2 - r^2)*y^2 - r^2) \n",
       "Gam^y_ph,ph = -((a^6 - 2*a^4*m*r + a^4*r^2)*y^7 - (a^6 - 2*a^4*m*r - a^4*r^2 + 4*a^2*m*r^3 - 2*a^2*r^4)*y^5 + (2*a^4*m*r - 2*a^4*r^2 + 8*a^2*m*r^3 - a^2*r^4 + r^6)*y^3 - (2*a^4*m*r + 4*a^2*m*r^3 + a^2*r^4 + r^6)*y)/(a^6*y^6 + 3*a^4*r^2*y^4 + 3*a^2*r^4*y^2 + r^6) \n",
       "Gam^ph_r,ph = -(a^2*m*r^2 - r^5 + (a^4*m - a^4*r)*y^4 - (a^4*m + a^2*m*r^2 + 2*a^2*r^3)*y^2)/(2*a^2*m*r^3 + a^2*r^4 + r^6 + (a^6 - 2*a^4*m*r + a^4*r^2)*y^4 + 2*(a^4*m*r + a^4*r^2 - a^2*m*r^3 + a^2*r^4)*y^2) \n",
       "Gam^ph_y,ph = ((a^6 - 2*a^4*m*r + a^4*r^2)*y^5 + 2*(a^4*r^2 - 2*a^2*m*r^3 + a^2*r^4)*y^3 + (2*a^4*m*r + 4*a^2*m*r^3 + a^2*r^4 + r^6)*y)/((a^6 - 2*a^4*m*r + a^4*r^2)*y^6 - 2*a^2*m*r^3 - a^2*r^4 - r^6 - (a^6 - 4*a^4*m*r - a^4*r^2 + 2*a^2*m*r^3 - 2*a^2*r^4)*y^4 - (2*a^4*m*r + 2*a^4*r^2 - 4*a^2*m*r^3 + a^2*r^4 - r^6)*y^2) \n",
       "Gam^ph_ph,r = -(a^2*m*r^2 - r^5 + (a^4*m - a^4*r)*y^4 - (a^4*m + a^2*m*r^2 + 2*a^2*r^3)*y^2)/(2*a^2*m*r^3 + a^2*r^4 + r^6 + (a^6 - 2*a^4*m*r + a^4*r^2)*y^4 + 2*(a^4*m*r + a^4*r^2 - a^2*m*r^3 + a^2*r^4)*y^2) \n",
       "Gam^ph_ph,y = ((a^6 - 2*a^4*m*r + a^4*r^2)*y^5 + 2*(a^4*r^2 - 2*a^2*m*r^3 + a^2*r^4)*y^3 + (2*a^4*m*r + 4*a^2*m*r^3 + a^2*r^4 + r^6)*y)/((a^6 - 2*a^4*m*r + a^4*r^2)*y^6 - 2*a^2*m*r^3 - a^2*r^4 - r^6 - (a^6 - 4*a^4*m*r - a^4*r^2 + 2*a^2*m*r^3 - 2*a^2*r^4)*y^4 - (2*a^4*m*r + 2*a^4*r^2 - 4*a^2*m*r^3 + a^2*r^4 - r^6)*y^2) "
      ]
     },
     "execution_count": 25,
     "metadata": {},
     "output_type": "execute_result"
    }
   ],
   "source": [
    "D.display()"
   ]
  },
  {
   "cell_type": "markdown",
   "id": "abe0404d-c694-43e5-902b-a2575bb39fb8",
   "metadata": {},
   "source": [
    "The unit normal to $\\Sigma$ (actually to the foliation $(\\Sigma_t)_{t\\in\\mathbb{R}}$):"
   ]
  },
  {
   "cell_type": "code",
   "execution_count": 26,
   "id": "734d44c3-a92d-42ff-9d01-412402cd7cf3",
   "metadata": {},
   "outputs": [
    {
     "name": "stdout",
     "output_type": "stream",
     "text": [
      "Vector field n on the 4-dimensional Lorentzian manifold M\n"
     ]
    },
    {
     "data": {
      "text/html": [
       "<html>\\(\\displaystyle n = \\left( \\frac{\\sqrt{2 \\, a^{2} m r + a^{2} r^{2} + r^{4} + {\\left(a^{4} - 2 \\, a^{2} m r + a^{2} r^{2}\\right)} y^{2}} \\sqrt{a^{2} y^{2} + r^{2}} \\sqrt{a^{2} - 2 \\, m r + r^{2}}}{a^{2} r^{2} - 2 \\, m r^{3} + r^{4} + {\\left(a^{4} - 2 \\, a^{2} m r + a^{2} r^{2}\\right)} y^{2}} \\right) \\frac{\\partial}{\\partial t } + \\left( \\frac{2 \\, \\sqrt{a^{2} y^{2} + r^{2}} \\sqrt{a^{2} - 2 \\, m r + r^{2}} a m r}{\\sqrt{2 \\, a^{2} m r + a^{2} r^{2} + r^{4} + {\\left(a^{4} - 2 \\, a^{2} m r + a^{2} r^{2}\\right)} y^{2}} {\\left(a^{2} r^{2} - 2 \\, m r^{3} + r^{4} + {\\left(a^{4} - 2 \\, a^{2} m r + a^{2} r^{2}\\right)} y^{2}\\right)}} \\right) \\frac{\\partial}{\\partial {\\phi} }\\)</html>"
      ],
      "text/latex": [
       "$\\displaystyle n = \\left( \\frac{\\sqrt{2 \\, a^{2} m r + a^{2} r^{2} + r^{4} + {\\left(a^{4} - 2 \\, a^{2} m r + a^{2} r^{2}\\right)} y^{2}} \\sqrt{a^{2} y^{2} + r^{2}} \\sqrt{a^{2} - 2 \\, m r + r^{2}}}{a^{2} r^{2} - 2 \\, m r^{3} + r^{4} + {\\left(a^{4} - 2 \\, a^{2} m r + a^{2} r^{2}\\right)} y^{2}} \\right) \\frac{\\partial}{\\partial t } + \\left( \\frac{2 \\, \\sqrt{a^{2} y^{2} + r^{2}} \\sqrt{a^{2} - 2 \\, m r + r^{2}} a m r}{\\sqrt{2 \\, a^{2} m r + a^{2} r^{2} + r^{4} + {\\left(a^{4} - 2 \\, a^{2} m r + a^{2} r^{2}\\right)} y^{2}} {\\left(a^{2} r^{2} - 2 \\, m r^{3} + r^{4} + {\\left(a^{4} - 2 \\, a^{2} m r + a^{2} r^{2}\\right)} y^{2}\\right)}} \\right) \\frac{\\partial}{\\partial {\\phi} }$"
      ],
      "text/plain": [
       "n = sqrt(2*a^2*m*r + a^2*r^2 + r^4 + (a^4 - 2*a^2*m*r + a^2*r^2)*y^2)*sqrt(a^2*y^2 + r^2)*sqrt(a^2 - 2*m*r + r^2)/(a^2*r^2 - 2*m*r^3 + r^4 + (a^4 - 2*a^2*m*r + a^2*r^2)*y^2) ∂/∂t + 2*sqrt(a^2*y^2 + r^2)*sqrt(a^2 - 2*m*r + r^2)*a*m*r/(sqrt(2*a^2*m*r + a^2*r^2 + r^4 + (a^4 - 2*a^2*m*r + a^2*r^2)*y^2)*(a^2*r^2 - 2*m*r^3 + r^4 + (a^4 - 2*a^2*m*r + a^2*r^2)*y^2)) ∂/∂ph"
      ]
     },
     "execution_count": 26,
     "metadata": {},
     "output_type": "execute_result"
    }
   ],
   "source": [
    "n = S.normal()\n",
    "print(n)\n",
    "n.display()"
   ]
  },
  {
   "cell_type": "markdown",
   "id": "8fe8ac82-3736-439b-8777-ad565a72f11a",
   "metadata": {},
   "source": [
    "Let us check that $n$ is a unit timelike vector:"
   ]
  },
  {
   "cell_type": "code",
   "execution_count": 27,
   "id": "0ea115ff-feeb-4e13-850e-f5b2c4cc876b",
   "metadata": {},
   "outputs": [
    {
     "data": {
      "text/html": [
       "<html>\\(\\displaystyle -1\\)</html>"
      ],
      "text/latex": [
       "$\\displaystyle -1$"
      ],
      "text/plain": [
       "-1"
      ]
     },
     "execution_count": 27,
     "metadata": {},
     "output_type": "execute_result"
    }
   ],
   "source": [
    "g(n,n).expr()"
   ]
  },
  {
   "cell_type": "markdown",
   "id": "6f458f51-9593-41db-a7d7-4e916094930a",
   "metadata": {},
   "source": [
    "## The second fundamental form $K$:"
   ]
  },
  {
   "cell_type": "code",
   "execution_count": 28,
   "id": "c519f2a5-853f-4a5c-bd01-a137a64c497b",
   "metadata": {},
   "outputs": [
    {
     "name": "stdout",
     "output_type": "stream",
     "text": [
      "Field of symmetric bilinear forms K on the 3-dimensional Riemannian submanifold S embedded in the 4-dimensional Lorentzian manifold M\n"
     ]
    }
   ],
   "source": [
    "K = S.second_fundamental_form()\n",
    "print(K)"
   ]
  },
  {
   "cell_type": "code",
   "execution_count": 29,
   "id": "2078e80e-4bd6-459c-b3c0-5395bd832684",
   "metadata": {},
   "outputs": [
    {
     "data": {
      "text/html": [
       "<html>\\(\\displaystyle K = \\left( \\frac{{\\left(a^{3} m r^{2} + 3 \\, a m r^{4} + {\\left(a^{5} m - a^{3} m r^{2}\\right)} y^{4} - {\\left(a^{5} m + 3 \\, a m r^{4}\\right)} y^{2}\\right)} \\sqrt{a^{2} y^{2} + r^{2}}}{{\\left(a^{4} y^{4} + 2 \\, a^{2} r^{2} y^{2} + r^{4}\\right)} \\sqrt{2 \\, a^{2} m r + a^{2} r^{2} + r^{4} + {\\left(a^{4} - 2 \\, a^{2} m r + a^{2} r^{2}\\right)} y^{2}} \\sqrt{a^{2} - 2 \\, m r + r^{2}}} \\right) \\mathrm{d} r\\otimes \\mathrm{d} {\\phi} + \\left( -\\frac{2 \\, {\\left(a^{3} m r y^{3} - a^{3} m r y\\right)} \\sqrt{a^{2} y^{2} + r^{2}} \\sqrt{a^{2} - 2 \\, m r + r^{2}}}{{\\left(a^{4} y^{4} + 2 \\, a^{2} r^{2} y^{2} + r^{4}\\right)} \\sqrt{2 \\, a^{2} m r + a^{2} r^{2} + r^{4} + {\\left(a^{4} - 2 \\, a^{2} m r + a^{2} r^{2}\\right)} y^{2}}} \\right) \\mathrm{d} y\\otimes \\mathrm{d} {\\phi} + \\left( \\frac{{\\left(a^{3} m r^{2} + 3 \\, a m r^{4} + {\\left(a^{5} m - a^{3} m r^{2}\\right)} y^{4} - {\\left(a^{5} m + 3 \\, a m r^{4}\\right)} y^{2}\\right)} \\sqrt{a^{2} y^{2} + r^{2}}}{{\\left(a^{4} y^{4} + 2 \\, a^{2} r^{2} y^{2} + r^{4}\\right)} \\sqrt{2 \\, a^{2} m r + a^{2} r^{2} + r^{4} + {\\left(a^{4} - 2 \\, a^{2} m r + a^{2} r^{2}\\right)} y^{2}} \\sqrt{a^{2} - 2 \\, m r + r^{2}}} \\right) \\mathrm{d} {\\phi}\\otimes \\mathrm{d} r + \\left( -\\frac{2 \\, {\\left(a^{3} m r y^{3} - a^{3} m r y\\right)} \\sqrt{a^{2} y^{2} + r^{2}} \\sqrt{a^{2} - 2 \\, m r + r^{2}}}{{\\left(a^{4} y^{4} + 2 \\, a^{2} r^{2} y^{2} + r^{4}\\right)} \\sqrt{2 \\, a^{2} m r + a^{2} r^{2} + r^{4} + {\\left(a^{4} - 2 \\, a^{2} m r + a^{2} r^{2}\\right)} y^{2}}} \\right) \\mathrm{d} {\\phi}\\otimes \\mathrm{d} y\\)</html>"
      ],
      "text/latex": [
       "$\\displaystyle K = \\left( \\frac{{\\left(a^{3} m r^{2} + 3 \\, a m r^{4} + {\\left(a^{5} m - a^{3} m r^{2}\\right)} y^{4} - {\\left(a^{5} m + 3 \\, a m r^{4}\\right)} y^{2}\\right)} \\sqrt{a^{2} y^{2} + r^{2}}}{{\\left(a^{4} y^{4} + 2 \\, a^{2} r^{2} y^{2} + r^{4}\\right)} \\sqrt{2 \\, a^{2} m r + a^{2} r^{2} + r^{4} + {\\left(a^{4} - 2 \\, a^{2} m r + a^{2} r^{2}\\right)} y^{2}} \\sqrt{a^{2} - 2 \\, m r + r^{2}}} \\right) \\mathrm{d} r\\otimes \\mathrm{d} {\\phi} + \\left( -\\frac{2 \\, {\\left(a^{3} m r y^{3} - a^{3} m r y\\right)} \\sqrt{a^{2} y^{2} + r^{2}} \\sqrt{a^{2} - 2 \\, m r + r^{2}}}{{\\left(a^{4} y^{4} + 2 \\, a^{2} r^{2} y^{2} + r^{4}\\right)} \\sqrt{2 \\, a^{2} m r + a^{2} r^{2} + r^{4} + {\\left(a^{4} - 2 \\, a^{2} m r + a^{2} r^{2}\\right)} y^{2}}} \\right) \\mathrm{d} y\\otimes \\mathrm{d} {\\phi} + \\left( \\frac{{\\left(a^{3} m r^{2} + 3 \\, a m r^{4} + {\\left(a^{5} m - a^{3} m r^{2}\\right)} y^{4} - {\\left(a^{5} m + 3 \\, a m r^{4}\\right)} y^{2}\\right)} \\sqrt{a^{2} y^{2} + r^{2}}}{{\\left(a^{4} y^{4} + 2 \\, a^{2} r^{2} y^{2} + r^{4}\\right)} \\sqrt{2 \\, a^{2} m r + a^{2} r^{2} + r^{4} + {\\left(a^{4} - 2 \\, a^{2} m r + a^{2} r^{2}\\right)} y^{2}} \\sqrt{a^{2} - 2 \\, m r + r^{2}}} \\right) \\mathrm{d} {\\phi}\\otimes \\mathrm{d} r + \\left( -\\frac{2 \\, {\\left(a^{3} m r y^{3} - a^{3} m r y\\right)} \\sqrt{a^{2} y^{2} + r^{2}} \\sqrt{a^{2} - 2 \\, m r + r^{2}}}{{\\left(a^{4} y^{4} + 2 \\, a^{2} r^{2} y^{2} + r^{4}\\right)} \\sqrt{2 \\, a^{2} m r + a^{2} r^{2} + r^{4} + {\\left(a^{4} - 2 \\, a^{2} m r + a^{2} r^{2}\\right)} y^{2}}} \\right) \\mathrm{d} {\\phi}\\otimes \\mathrm{d} y$"
      ],
      "text/plain": [
       "K = (a^3*m*r^2 + 3*a*m*r^4 + (a^5*m - a^3*m*r^2)*y^4 - (a^5*m + 3*a*m*r^4)*y^2)*sqrt(a^2*y^2 + r^2)/((a^4*y^4 + 2*a^2*r^2*y^2 + r^4)*sqrt(2*a^2*m*r + a^2*r^2 + r^4 + (a^4 - 2*a^2*m*r + a^2*r^2)*y^2)*sqrt(a^2 - 2*m*r + r^2)) dr⊗dph - 2*(a^3*m*r*y^3 - a^3*m*r*y)*sqrt(a^2*y^2 + r^2)*sqrt(a^2 - 2*m*r + r^2)/((a^4*y^4 + 2*a^2*r^2*y^2 + r^4)*sqrt(2*a^2*m*r + a^2*r^2 + r^4 + (a^4 - 2*a^2*m*r + a^2*r^2)*y^2)) dy⊗dph + (a^3*m*r^2 + 3*a*m*r^4 + (a^5*m - a^3*m*r^2)*y^4 - (a^5*m + 3*a*m*r^4)*y^2)*sqrt(a^2*y^2 + r^2)/((a^4*y^4 + 2*a^2*r^2*y^2 + r^4)*sqrt(2*a^2*m*r + a^2*r^2 + r^4 + (a^4 - 2*a^2*m*r + a^2*r^2)*y^2)*sqrt(a^2 - 2*m*r + r^2)) dph⊗dr - 2*(a^3*m*r*y^3 - a^3*m*r*y)*sqrt(a^2*y^2 + r^2)*sqrt(a^2 - 2*m*r + r^2)/((a^4*y^4 + 2*a^2*r^2*y^2 + r^4)*sqrt(2*a^2*m*r + a^2*r^2 + r^4 + (a^4 - 2*a^2*m*r + a^2*r^2)*y^2)) dph⊗dy"
      ]
     },
     "execution_count": 29,
     "metadata": {},
     "output_type": "execute_result"
    }
   ],
   "source": [
    "K.display()"
   ]
  },
  {
   "cell_type": "code",
   "execution_count": 30,
   "id": "1c335401-057f-428f-9f26-0e7526009bda",
   "metadata": {},
   "outputs": [
    {
     "data": {
      "text/html": [
       "<html>\\(\\displaystyle \\begin{array}{lcl} {K}_{ \\, r \\, {\\phi} }^{ \\phantom{\\, r}\\phantom{\\, {\\phi}} } & = & \\frac{{\\left(a^{3} m r^{2} + 3 \\, a m r^{4} + {\\left(a^{5} m - a^{3} m r^{2}\\right)} y^{4} - {\\left(a^{5} m + 3 \\, a m r^{4}\\right)} y^{2}\\right)} \\sqrt{a^{2} y^{2} + r^{2}}}{{\\left(a^{4} y^{4} + 2 \\, a^{2} r^{2} y^{2} + r^{4}\\right)} \\sqrt{2 \\, a^{2} m r + a^{2} r^{2} + r^{4} + {\\left(a^{4} - 2 \\, a^{2} m r + a^{2} r^{2}\\right)} y^{2}} \\sqrt{a^{2} - 2 \\, m r + r^{2}}} \\\\ {K}_{ \\, y \\, {\\phi} }^{ \\phantom{\\, y}\\phantom{\\, {\\phi}} } & = & -\\frac{2 \\, {\\left(a^{3} m r y^{3} - a^{3} m r y\\right)} \\sqrt{a^{2} y^{2} + r^{2}} \\sqrt{a^{2} - 2 \\, m r + r^{2}}}{{\\left(a^{4} y^{4} + 2 \\, a^{2} r^{2} y^{2} + r^{4}\\right)} \\sqrt{2 \\, a^{2} m r + a^{2} r^{2} + r^{4} + {\\left(a^{4} - 2 \\, a^{2} m r + a^{2} r^{2}\\right)} y^{2}}} \\\\ {K}_{ \\, {\\phi} \\, r }^{ \\phantom{\\, {\\phi}}\\phantom{\\, r} } & = & \\frac{{\\left(a^{3} m r^{2} + 3 \\, a m r^{4} + {\\left(a^{5} m - a^{3} m r^{2}\\right)} y^{4} - {\\left(a^{5} m + 3 \\, a m r^{4}\\right)} y^{2}\\right)} \\sqrt{a^{2} y^{2} + r^{2}}}{{\\left(a^{4} y^{4} + 2 \\, a^{2} r^{2} y^{2} + r^{4}\\right)} \\sqrt{2 \\, a^{2} m r + a^{2} r^{2} + r^{4} + {\\left(a^{4} - 2 \\, a^{2} m r + a^{2} r^{2}\\right)} y^{2}} \\sqrt{a^{2} - 2 \\, m r + r^{2}}} \\\\ {K}_{ \\, {\\phi} \\, y }^{ \\phantom{\\, {\\phi}}\\phantom{\\, y} } & = & -\\frac{2 \\, {\\left(a^{3} m r y^{3} - a^{3} m r y\\right)} \\sqrt{a^{2} y^{2} + r^{2}} \\sqrt{a^{2} - 2 \\, m r + r^{2}}}{{\\left(a^{4} y^{4} + 2 \\, a^{2} r^{2} y^{2} + r^{4}\\right)} \\sqrt{2 \\, a^{2} m r + a^{2} r^{2} + r^{4} + {\\left(a^{4} - 2 \\, a^{2} m r + a^{2} r^{2}\\right)} y^{2}}} \\end{array}\\)</html>"
      ],
      "text/latex": [
       "$\\displaystyle \\begin{array}{lcl} {K}_{ \\, r \\, {\\phi} }^{ \\phantom{\\, r}\\phantom{\\, {\\phi}} } & = & \\frac{{\\left(a^{3} m r^{2} + 3 \\, a m r^{4} + {\\left(a^{5} m - a^{3} m r^{2}\\right)} y^{4} - {\\left(a^{5} m + 3 \\, a m r^{4}\\right)} y^{2}\\right)} \\sqrt{a^{2} y^{2} + r^{2}}}{{\\left(a^{4} y^{4} + 2 \\, a^{2} r^{2} y^{2} + r^{4}\\right)} \\sqrt{2 \\, a^{2} m r + a^{2} r^{2} + r^{4} + {\\left(a^{4} - 2 \\, a^{2} m r + a^{2} r^{2}\\right)} y^{2}} \\sqrt{a^{2} - 2 \\, m r + r^{2}}} \\\\ {K}_{ \\, y \\, {\\phi} }^{ \\phantom{\\, y}\\phantom{\\, {\\phi}} } & = & -\\frac{2 \\, {\\left(a^{3} m r y^{3} - a^{3} m r y\\right)} \\sqrt{a^{2} y^{2} + r^{2}} \\sqrt{a^{2} - 2 \\, m r + r^{2}}}{{\\left(a^{4} y^{4} + 2 \\, a^{2} r^{2} y^{2} + r^{4}\\right)} \\sqrt{2 \\, a^{2} m r + a^{2} r^{2} + r^{4} + {\\left(a^{4} - 2 \\, a^{2} m r + a^{2} r^{2}\\right)} y^{2}}} \\\\ {K}_{ \\, {\\phi} \\, r }^{ \\phantom{\\, {\\phi}}\\phantom{\\, r} } & = & \\frac{{\\left(a^{3} m r^{2} + 3 \\, a m r^{4} + {\\left(a^{5} m - a^{3} m r^{2}\\right)} y^{4} - {\\left(a^{5} m + 3 \\, a m r^{4}\\right)} y^{2}\\right)} \\sqrt{a^{2} y^{2} + r^{2}}}{{\\left(a^{4} y^{4} + 2 \\, a^{2} r^{2} y^{2} + r^{4}\\right)} \\sqrt{2 \\, a^{2} m r + a^{2} r^{2} + r^{4} + {\\left(a^{4} - 2 \\, a^{2} m r + a^{2} r^{2}\\right)} y^{2}} \\sqrt{a^{2} - 2 \\, m r + r^{2}}} \\\\ {K}_{ \\, {\\phi} \\, y }^{ \\phantom{\\, {\\phi}}\\phantom{\\, y} } & = & -\\frac{2 \\, {\\left(a^{3} m r y^{3} - a^{3} m r y\\right)} \\sqrt{a^{2} y^{2} + r^{2}} \\sqrt{a^{2} - 2 \\, m r + r^{2}}}{{\\left(a^{4} y^{4} + 2 \\, a^{2} r^{2} y^{2} + r^{4}\\right)} \\sqrt{2 \\, a^{2} m r + a^{2} r^{2} + r^{4} + {\\left(a^{4} - 2 \\, a^{2} m r + a^{2} r^{2}\\right)} y^{2}}} \\end{array}$"
      ],
      "text/plain": [
       "K_r,ph = (a^3*m*r^2 + 3*a*m*r^4 + (a^5*m - a^3*m*r^2)*y^4 - (a^5*m + 3*a*m*r^4)*y^2)*sqrt(a^2*y^2 + r^2)/((a^4*y^4 + 2*a^2*r^2*y^2 + r^4)*sqrt(2*a^2*m*r + a^2*r^2 + r^4 + (a^4 - 2*a^2*m*r + a^2*r^2)*y^2)*sqrt(a^2 - 2*m*r + r^2)) \n",
       "K_y,ph = -2*(a^3*m*r*y^3 - a^3*m*r*y)*sqrt(a^2*y^2 + r^2)*sqrt(a^2 - 2*m*r + r^2)/((a^4*y^4 + 2*a^2*r^2*y^2 + r^4)*sqrt(2*a^2*m*r + a^2*r^2 + r^4 + (a^4 - 2*a^2*m*r + a^2*r^2)*y^2)) \n",
       "K_ph,r = (a^3*m*r^2 + 3*a*m*r^4 + (a^5*m - a^3*m*r^2)*y^4 - (a^5*m + 3*a*m*r^4)*y^2)*sqrt(a^2*y^2 + r^2)/((a^4*y^4 + 2*a^2*r^2*y^2 + r^4)*sqrt(2*a^2*m*r + a^2*r^2 + r^4 + (a^4 - 2*a^2*m*r + a^2*r^2)*y^2)*sqrt(a^2 - 2*m*r + r^2)) \n",
       "K_ph,y = -2*(a^3*m*r*y^3 - a^3*m*r*y)*sqrt(a^2*y^2 + r^2)*sqrt(a^2 - 2*m*r + r^2)/((a^4*y^4 + 2*a^2*r^2*y^2 + r^4)*sqrt(2*a^2*m*r + a^2*r^2 + r^4 + (a^4 - 2*a^2*m*r + a^2*r^2)*y^2)) "
      ]
     },
     "execution_count": 30,
     "metadata": {},
     "output_type": "execute_result"
    }
   ],
   "source": [
    "K.display_comp()"
   ]
  },
  {
   "cell_type": "markdown",
   "id": "80d1f54b-a72a-42ad-af00-f4ec3dffc325",
   "metadata": {},
   "source": [
    "The metric dual $K^i_{\\ \\, j} = \\gamma^{ik} K_{kj}$:"
   ]
  },
  {
   "cell_type": "code",
   "execution_count": 31,
   "id": "975837c7-8951-4b7f-9caa-24062cffc85d",
   "metadata": {},
   "outputs": [
    {
     "name": "stdout",
     "output_type": "stream",
     "text": [
      "Tensor field of type (1,1) on the 3-dimensional Riemannian submanifold S embedded in the 4-dimensional Lorentzian manifold M\n"
     ]
    }
   ],
   "source": [
    "Ku = K.up(gam, 0)  # 0 = first index of K\n",
    "print(Ku)"
   ]
  },
  {
   "cell_type": "code",
   "execution_count": 32,
   "id": "0b49af28-b0b5-402b-8452-861f4b0f2976",
   "metadata": {},
   "outputs": [
    {
     "data": {
      "text/html": [
       "<html>\\(\\displaystyle \\left( \\frac{{\\left(a^{3} m r^{2} + 3 \\, a m r^{4} + {\\left(a^{5} m - a^{3} m r^{2}\\right)} y^{4} - {\\left(a^{5} m + 3 \\, a m r^{4}\\right)} y^{2}\\right)} \\sqrt{a^{2} - 2 \\, m r + r^{2}}}{{\\left(a^{4} y^{4} + 2 \\, a^{2} r^{2} y^{2} + r^{4}\\right)} \\sqrt{2 \\, a^{2} m r + a^{2} r^{2} + r^{4} + {\\left(a^{4} - 2 \\, a^{2} m r + a^{2} r^{2}\\right)} y^{2}} \\sqrt{a^{2} y^{2} + r^{2}}} \\right) \\frac{\\partial}{\\partial r }\\otimes \\mathrm{d} {\\phi} + \\left( \\frac{2 \\, {\\left(a^{3} m r y^{5} - 2 \\, a^{3} m r y^{3} + a^{3} m r y\\right)} \\sqrt{a^{2} - 2 \\, m r + r^{2}}}{{\\left(a^{4} y^{4} + 2 \\, a^{2} r^{2} y^{2} + r^{4}\\right)} \\sqrt{2 \\, a^{2} m r + a^{2} r^{2} + r^{4} + {\\left(a^{4} - 2 \\, a^{2} m r + a^{2} r^{2}\\right)} y^{2}} \\sqrt{a^{2} y^{2} + r^{2}}} \\right) \\frac{\\partial}{\\partial y }\\otimes \\mathrm{d} {\\phi} + \\left( \\frac{{\\left(a^{3} m r^{2} + 3 \\, a m r^{4} - {\\left(a^{5} m - a^{3} m r^{2}\\right)} y^{2}\\right)} \\sqrt{a^{2} y^{2} + r^{2}}}{{\\left(2 \\, a^{2} m r^{3} + a^{2} r^{4} + r^{6} + {\\left(a^{6} - 2 \\, a^{4} m r + a^{4} r^{2}\\right)} y^{4} + 2 \\, {\\left(a^{4} m r + a^{4} r^{2} - a^{2} m r^{3} + a^{2} r^{4}\\right)} y^{2}\\right)} \\sqrt{2 \\, a^{2} m r + a^{2} r^{2} + r^{4} + {\\left(a^{4} - 2 \\, a^{2} m r + a^{2} r^{2}\\right)} y^{2}} \\sqrt{a^{2} - 2 \\, m r + r^{2}}} \\right) \\frac{\\partial}{\\partial {\\phi} }\\otimes \\mathrm{d} r + \\left( \\frac{2 \\, \\sqrt{a^{2} y^{2} + r^{2}} \\sqrt{a^{2} - 2 \\, m r + r^{2}} a^{3} m r y}{{\\left(2 \\, a^{2} m r^{3} + a^{2} r^{4} + r^{6} + {\\left(a^{6} - 2 \\, a^{4} m r + a^{4} r^{2}\\right)} y^{4} + 2 \\, {\\left(a^{4} m r + a^{4} r^{2} - a^{2} m r^{3} + a^{2} r^{4}\\right)} y^{2}\\right)} \\sqrt{2 \\, a^{2} m r + a^{2} r^{2} + r^{4} + {\\left(a^{4} - 2 \\, a^{2} m r + a^{2} r^{2}\\right)} y^{2}}} \\right) \\frac{\\partial}{\\partial {\\phi} }\\otimes \\mathrm{d} y\\)</html>"
      ],
      "text/latex": [
       "$\\displaystyle \\left( \\frac{{\\left(a^{3} m r^{2} + 3 \\, a m r^{4} + {\\left(a^{5} m - a^{3} m r^{2}\\right)} y^{4} - {\\left(a^{5} m + 3 \\, a m r^{4}\\right)} y^{2}\\right)} \\sqrt{a^{2} - 2 \\, m r + r^{2}}}{{\\left(a^{4} y^{4} + 2 \\, a^{2} r^{2} y^{2} + r^{4}\\right)} \\sqrt{2 \\, a^{2} m r + a^{2} r^{2} + r^{4} + {\\left(a^{4} - 2 \\, a^{2} m r + a^{2} r^{2}\\right)} y^{2}} \\sqrt{a^{2} y^{2} + r^{2}}} \\right) \\frac{\\partial}{\\partial r }\\otimes \\mathrm{d} {\\phi} + \\left( \\frac{2 \\, {\\left(a^{3} m r y^{5} - 2 \\, a^{3} m r y^{3} + a^{3} m r y\\right)} \\sqrt{a^{2} - 2 \\, m r + r^{2}}}{{\\left(a^{4} y^{4} + 2 \\, a^{2} r^{2} y^{2} + r^{4}\\right)} \\sqrt{2 \\, a^{2} m r + a^{2} r^{2} + r^{4} + {\\left(a^{4} - 2 \\, a^{2} m r + a^{2} r^{2}\\right)} y^{2}} \\sqrt{a^{2} y^{2} + r^{2}}} \\right) \\frac{\\partial}{\\partial y }\\otimes \\mathrm{d} {\\phi} + \\left( \\frac{{\\left(a^{3} m r^{2} + 3 \\, a m r^{4} - {\\left(a^{5} m - a^{3} m r^{2}\\right)} y^{2}\\right)} \\sqrt{a^{2} y^{2} + r^{2}}}{{\\left(2 \\, a^{2} m r^{3} + a^{2} r^{4} + r^{6} + {\\left(a^{6} - 2 \\, a^{4} m r + a^{4} r^{2}\\right)} y^{4} + 2 \\, {\\left(a^{4} m r + a^{4} r^{2} - a^{2} m r^{3} + a^{2} r^{4}\\right)} y^{2}\\right)} \\sqrt{2 \\, a^{2} m r + a^{2} r^{2} + r^{4} + {\\left(a^{4} - 2 \\, a^{2} m r + a^{2} r^{2}\\right)} y^{2}} \\sqrt{a^{2} - 2 \\, m r + r^{2}}} \\right) \\frac{\\partial}{\\partial {\\phi} }\\otimes \\mathrm{d} r + \\left( \\frac{2 \\, \\sqrt{a^{2} y^{2} + r^{2}} \\sqrt{a^{2} - 2 \\, m r + r^{2}} a^{3} m r y}{{\\left(2 \\, a^{2} m r^{3} + a^{2} r^{4} + r^{6} + {\\left(a^{6} - 2 \\, a^{4} m r + a^{4} r^{2}\\right)} y^{4} + 2 \\, {\\left(a^{4} m r + a^{4} r^{2} - a^{2} m r^{3} + a^{2} r^{4}\\right)} y^{2}\\right)} \\sqrt{2 \\, a^{2} m r + a^{2} r^{2} + r^{4} + {\\left(a^{4} - 2 \\, a^{2} m r + a^{2} r^{2}\\right)} y^{2}}} \\right) \\frac{\\partial}{\\partial {\\phi} }\\otimes \\mathrm{d} y$"
      ],
      "text/plain": [
       "(a^3*m*r^2 + 3*a*m*r^4 + (a^5*m - a^3*m*r^2)*y^4 - (a^5*m + 3*a*m*r^4)*y^2)*sqrt(a^2 - 2*m*r + r^2)/((a^4*y^4 + 2*a^2*r^2*y^2 + r^4)*sqrt(2*a^2*m*r + a^2*r^2 + r^4 + (a^4 - 2*a^2*m*r + a^2*r^2)*y^2)*sqrt(a^2*y^2 + r^2)) ∂/∂r⊗dph + 2*(a^3*m*r*y^5 - 2*a^3*m*r*y^3 + a^3*m*r*y)*sqrt(a^2 - 2*m*r + r^2)/((a^4*y^4 + 2*a^2*r^2*y^2 + r^4)*sqrt(2*a^2*m*r + a^2*r^2 + r^4 + (a^4 - 2*a^2*m*r + a^2*r^2)*y^2)*sqrt(a^2*y^2 + r^2)) ∂/∂y⊗dph + (a^3*m*r^2 + 3*a*m*r^4 - (a^5*m - a^3*m*r^2)*y^2)*sqrt(a^2*y^2 + r^2)/((2*a^2*m*r^3 + a^2*r^4 + r^6 + (a^6 - 2*a^4*m*r + a^4*r^2)*y^4 + 2*(a^4*m*r + a^4*r^2 - a^2*m*r^3 + a^2*r^4)*y^2)*sqrt(2*a^2*m*r + a^2*r^2 + r^4 + (a^4 - 2*a^2*m*r + a^2*r^2)*y^2)*sqrt(a^2 - 2*m*r + r^2)) ∂/∂ph⊗dr + 2*sqrt(a^2*y^2 + r^2)*sqrt(a^2 - 2*m*r + r^2)*a^3*m*r*y/((2*a^2*m*r^3 + a^2*r^4 + r^6 + (a^6 - 2*a^4*m*r + a^4*r^2)*y^4 + 2*(a^4*m*r + a^4*r^2 - a^2*m*r^3 + a^2*r^4)*y^2)*sqrt(2*a^2*m*r + a^2*r^2 + r^4 + (a^4 - 2*a^2*m*r + a^2*r^2)*y^2)) ∂/∂ph⊗dy"
      ]
     },
     "execution_count": 32,
     "metadata": {},
     "output_type": "execute_result"
    }
   ],
   "source": [
    "Ku.display()"
   ]
  },
  {
   "cell_type": "markdown",
   "id": "09e3ba34-7cde-41d9-85ca-32a251d90bbc",
   "metadata": {},
   "source": [
    "The trace $K := K^i_{\\ \\, i}$:"
   ]
  },
  {
   "cell_type": "code",
   "execution_count": 33,
   "id": "0a906ee4-620d-4c98-b305-cf4fce999e33",
   "metadata": {},
   "outputs": [
    {
     "name": "stdout",
     "output_type": "stream",
     "text": [
      "Scalar field zero on the 3-dimensional Riemannian submanifold S embedded in the 4-dimensional Lorentzian manifold M\n"
     ]
    }
   ],
   "source": [
    "trK = Ku.trace()\n",
    "print(trK)"
   ]
  },
  {
   "cell_type": "markdown",
   "id": "9c38ad68-2261-4eda-a19a-b586fc392ab0",
   "metadata": {},
   "source": [
    "We have $K=0$:"
   ]
  },
  {
   "cell_type": "code",
   "execution_count": 34,
   "id": "e1f73a7f-bea0-42bc-874e-5718bc69d68d",
   "metadata": {},
   "outputs": [
    {
     "data": {
      "text/html": [
       "<html>\\(\\displaystyle 0\\)</html>"
      ],
      "text/latex": [
       "$\\displaystyle 0$"
      ],
      "text/plain": [
       "0"
      ]
     },
     "execution_count": 34,
     "metadata": {},
     "output_type": "execute_result"
    }
   ],
   "source": [
    "trK.expr()"
   ]
  },
  {
   "cell_type": "markdown",
   "id": "c9ca1e7f-0ea8-4f56-a023-b23db11c734f",
   "metadata": {},
   "source": [
    "i.e. $\\Sigma$ is a **maximal hypersurface** of $(M,g)$."
   ]
  },
  {
   "cell_type": "markdown",
   "id": "40271cf7-5f05-4368-a1e5-0c000c7c0ae9",
   "metadata": {},
   "source": [
    "## Hamiltonian constraint\n",
    "\n",
    "The vacuum Hamiltonian constraint equation is \n",
    "$$ R + K^2 -K_{ij} K^{ij} = 0 $$\n",
    "where $R = \\mathrm{tr}_\\gamma \\mathbf{R} = \\gamma^{ij} R_{ij}$ is the Ricci scalar of $\\gamma$.\n",
    "Let us first evaluate $R$:"
   ]
  },
  {
   "cell_type": "code",
   "execution_count": 35,
   "id": "07f379be-c888-49c5-a04b-093b50b1c842",
   "metadata": {},
   "outputs": [
    {
     "name": "stdout",
     "output_type": "stream",
     "text": [
      "Scalar field r(gamma) on the 3-dimensional Riemannian submanifold S embedded in the 4-dimensional Lorentzian manifold M\n"
     ]
    },
    {
     "data": {
      "text/html": [
       "<html>\\(\\displaystyle \\begin{array}{llcl} \\mathrm{r}\\left(\\gamma\\right):& \\Sigma & \\longrightarrow & \\mathbb{R} \\\\ & \\left(r, y, {\\phi}\\right) & \\longmapsto & \\frac{2 \\, {\\left(a^{6} m^{2} r^{4} + 6 \\, a^{4} m^{2} r^{6} + 9 \\, a^{2} m^{2} r^{8} - {\\left(a^{10} m^{2} - 6 \\, a^{8} m^{2} r^{2} + 8 \\, a^{6} m^{3} r^{3} - 3 \\, a^{6} m^{2} r^{4}\\right)} y^{6} + {\\left(a^{10} m^{2} - 8 \\, a^{8} m^{2} r^{2} + 16 \\, a^{6} m^{3} r^{3} - 3 \\, a^{6} m^{2} r^{4} - 6 \\, a^{4} m^{2} r^{6}\\right)} y^{4} + {\\left(2 \\, a^{8} m^{2} r^{2} - 8 \\, a^{6} m^{3} r^{3} - a^{6} m^{2} r^{4} - 9 \\, a^{2} m^{2} r^{8}\\right)} y^{2}\\right)}}{4 \\, a^{4} m^{2} r^{8} + 4 \\, a^{4} m r^{9} + a^{4} r^{10} + 4 \\, a^{2} m r^{11} + 2 \\, a^{2} r^{12} + r^{14} + {\\left(a^{14} - 4 \\, a^{12} m r - 4 \\, a^{10} m r^{3} + a^{10} r^{4} + 2 \\, {\\left(a^{12} + 2 \\, a^{10} m^{2}\\right)} r^{2}\\right)} y^{10} + {\\left(4 \\, a^{12} m r - 12 \\, a^{10} m r^{3} - 16 \\, a^{8} m r^{5} + 5 \\, a^{8} r^{6} + 2 \\, {\\left(5 \\, a^{10} + 6 \\, a^{8} m^{2}\\right)} r^{4} + {\\left(5 \\, a^{12} - 8 \\, a^{10} m^{2}\\right)} r^{2}\\right)} y^{8} + 2 \\, {\\left(2 \\, a^{10} m^{2} r^{2} + 8 \\, a^{10} m r^{3} - 4 \\, a^{8} m r^{5} - 12 \\, a^{6} m r^{7} + 5 \\, a^{6} r^{8} + 2 \\, {\\left(5 \\, a^{8} + 3 \\, a^{6} m^{2}\\right)} r^{6} + {\\left(5 \\, a^{10} - 12 \\, a^{8} m^{2}\\right)} r^{4}\\right)} y^{6} + 2 \\, {\\left(6 \\, a^{8} m^{2} r^{4} + 12 \\, a^{8} m r^{5} + 4 \\, a^{6} m r^{7} - 8 \\, a^{4} m r^{9} + 5 \\, a^{4} r^{10} + 2 \\, {\\left(5 \\, a^{6} + a^{4} m^{2}\\right)} r^{8} + {\\left(5 \\, a^{8} - 12 \\, a^{6} m^{2}\\right)} r^{6}\\right)} y^{4} + {\\left(12 \\, a^{6} m^{2} r^{6} + 16 \\, a^{6} m r^{7} + 12 \\, a^{4} m r^{9} + 10 \\, a^{4} r^{10} - 4 \\, a^{2} m r^{11} + 5 \\, a^{2} r^{12} + {\\left(5 \\, a^{6} - 8 \\, a^{4} m^{2}\\right)} r^{8}\\right)} y^{2}} \\end{array}\\)</html>"
      ],
      "text/latex": [
       "$\\displaystyle \\begin{array}{llcl} \\mathrm{r}\\left(\\gamma\\right):& \\Sigma & \\longrightarrow & \\mathbb{R} \\\\ & \\left(r, y, {\\phi}\\right) & \\longmapsto & \\frac{2 \\, {\\left(a^{6} m^{2} r^{4} + 6 \\, a^{4} m^{2} r^{6} + 9 \\, a^{2} m^{2} r^{8} - {\\left(a^{10} m^{2} - 6 \\, a^{8} m^{2} r^{2} + 8 \\, a^{6} m^{3} r^{3} - 3 \\, a^{6} m^{2} r^{4}\\right)} y^{6} + {\\left(a^{10} m^{2} - 8 \\, a^{8} m^{2} r^{2} + 16 \\, a^{6} m^{3} r^{3} - 3 \\, a^{6} m^{2} r^{4} - 6 \\, a^{4} m^{2} r^{6}\\right)} y^{4} + {\\left(2 \\, a^{8} m^{2} r^{2} - 8 \\, a^{6} m^{3} r^{3} - a^{6} m^{2} r^{4} - 9 \\, a^{2} m^{2} r^{8}\\right)} y^{2}\\right)}}{4 \\, a^{4} m^{2} r^{8} + 4 \\, a^{4} m r^{9} + a^{4} r^{10} + 4 \\, a^{2} m r^{11} + 2 \\, a^{2} r^{12} + r^{14} + {\\left(a^{14} - 4 \\, a^{12} m r - 4 \\, a^{10} m r^{3} + a^{10} r^{4} + 2 \\, {\\left(a^{12} + 2 \\, a^{10} m^{2}\\right)} r^{2}\\right)} y^{10} + {\\left(4 \\, a^{12} m r - 12 \\, a^{10} m r^{3} - 16 \\, a^{8} m r^{5} + 5 \\, a^{8} r^{6} + 2 \\, {\\left(5 \\, a^{10} + 6 \\, a^{8} m^{2}\\right)} r^{4} + {\\left(5 \\, a^{12} - 8 \\, a^{10} m^{2}\\right)} r^{2}\\right)} y^{8} + 2 \\, {\\left(2 \\, a^{10} m^{2} r^{2} + 8 \\, a^{10} m r^{3} - 4 \\, a^{8} m r^{5} - 12 \\, a^{6} m r^{7} + 5 \\, a^{6} r^{8} + 2 \\, {\\left(5 \\, a^{8} + 3 \\, a^{6} m^{2}\\right)} r^{6} + {\\left(5 \\, a^{10} - 12 \\, a^{8} m^{2}\\right)} r^{4}\\right)} y^{6} + 2 \\, {\\left(6 \\, a^{8} m^{2} r^{4} + 12 \\, a^{8} m r^{5} + 4 \\, a^{6} m r^{7} - 8 \\, a^{4} m r^{9} + 5 \\, a^{4} r^{10} + 2 \\, {\\left(5 \\, a^{6} + a^{4} m^{2}\\right)} r^{8} + {\\left(5 \\, a^{8} - 12 \\, a^{6} m^{2}\\right)} r^{6}\\right)} y^{4} + {\\left(12 \\, a^{6} m^{2} r^{6} + 16 \\, a^{6} m r^{7} + 12 \\, a^{4} m r^{9} + 10 \\, a^{4} r^{10} - 4 \\, a^{2} m r^{11} + 5 \\, a^{2} r^{12} + {\\left(5 \\, a^{6} - 8 \\, a^{4} m^{2}\\right)} r^{8}\\right)} y^{2}} \\end{array}$"
      ],
      "text/plain": [
       "r(gamma): S → ℝ\n",
       "   (r, y, ph) ↦ 2*(a^6*m^2*r^4 + 6*a^4*m^2*r^6 + 9*a^2*m^2*r^8 - (a^10*m^2 - 6*a^8*m^2*r^2 + 8*a^6*m^3*r^3 - 3*a^6*m^2*r^4)*y^6 + (a^10*m^2 - 8*a^8*m^2*r^2 + 16*a^6*m^3*r^3 - 3*a^6*m^2*r^4 - 6*a^4*m^2*r^6)*y^4 + (2*a^8*m^2*r^2 - 8*a^6*m^3*r^3 - a^6*m^2*r^4 - 9*a^2*m^2*r^8)*y^2)/(4*a^4*m^2*r^8 + 4*a^4*m*r^9 + a^4*r^10 + 4*a^2*m*r^11 + 2*a^2*r^12 + r^14 + (a^14 - 4*a^12*m*r - 4*a^10*m*r^3 + a^10*r^4 + 2*(a^12 + 2*a^10*m^2)*r^2)*y^10 + (4*a^12*m*r - 12*a^10*m*r^3 - 16*a^8*m*r^5 + 5*a^8*r^6 + 2*(5*a^10 + 6*a^8*m^2)*r^4 + (5*a^12 - 8*a^10*m^2)*r^2)*y^8 + 2*(2*a^10*m^2*r^2 + 8*a^10*m*r^3 - 4*a^8*m*r^5 - 12*a^6*m*r^7 + 5*a^6*r^8 + 2*(5*a^8 + 3*a^6*m^2)*r^6 + (5*a^10 - 12*a^8*m^2)*r^4)*y^6 + 2*(6*a^8*m^2*r^4 + 12*a^8*m*r^5 + 4*a^6*m*r^7 - 8*a^4*m*r^9 + 5*a^4*r^10 + 2*(5*a^6 + a^4*m^2)*r^8 + (5*a^8 - 12*a^6*m^2)*r^6)*y^4 + (12*a^6*m^2*r^6 + 16*a^6*m*r^7 + 12*a^4*m*r^9 + 10*a^4*r^10 - 4*a^2*m*r^11 + 5*a^2*r^12 + (5*a^6 - 8*a^4*m^2)*r^8)*y^2)"
      ]
     },
     "execution_count": 35,
     "metadata": {},
     "output_type": "execute_result"
    }
   ],
   "source": [
    "R = gam.ricci_scalar()\n",
    "print(R)\n",
    "R.display()"
   ]
  },
  {
   "cell_type": "code",
   "execution_count": 36,
   "id": "71041f16-2b9b-4864-9236-9302dbd14d8f",
   "metadata": {},
   "outputs": [
    {
     "data": {
      "text/html": [
       "<html>\\(\\displaystyle -\\frac{2 \\, {\\left(a^{8} y^{4} - 6 \\, a^{6} r^{2} y^{4} + 8 \\, a^{4} m r^{3} y^{4} - 3 \\, a^{4} r^{4} y^{4} + 2 \\, a^{6} r^{2} y^{2} - 8 \\, a^{4} m r^{3} y^{2} + 6 \\, a^{2} r^{6} y^{2} + a^{4} r^{4} + 6 \\, a^{2} r^{6} + 9 \\, r^{8}\\right)} a^{2} m^{2} {\\left(y + 1\\right)} {\\left(y - 1\\right)}}{{\\left(a^{4} y^{2} - 2 \\, a^{2} m r y^{2} + a^{2} r^{2} y^{2} + 2 \\, a^{2} m r + a^{2} r^{2} + r^{4}\\right)}^{2} {\\left(a^{2} y^{2} + r^{2}\\right)}^{3}}\\)</html>"
      ],
      "text/latex": [
       "$\\displaystyle -\\frac{2 \\, {\\left(a^{8} y^{4} - 6 \\, a^{6} r^{2} y^{4} + 8 \\, a^{4} m r^{3} y^{4} - 3 \\, a^{4} r^{4} y^{4} + 2 \\, a^{6} r^{2} y^{2} - 8 \\, a^{4} m r^{3} y^{2} + 6 \\, a^{2} r^{6} y^{2} + a^{4} r^{4} + 6 \\, a^{2} r^{6} + 9 \\, r^{8}\\right)} a^{2} m^{2} {\\left(y + 1\\right)} {\\left(y - 1\\right)}}{{\\left(a^{4} y^{2} - 2 \\, a^{2} m r y^{2} + a^{2} r^{2} y^{2} + 2 \\, a^{2} m r + a^{2} r^{2} + r^{4}\\right)}^{2} {\\left(a^{2} y^{2} + r^{2}\\right)}^{3}}$"
      ],
      "text/plain": [
       "-2*(a^8*y^4 - 6*a^6*r^2*y^4 + 8*a^4*m*r^3*y^4 - 3*a^4*r^4*y^4 + 2*a^6*r^2*y^2 - 8*a^4*m*r^3*y^2 + 6*a^2*r^6*y^2 + a^4*r^4 + 6*a^2*r^6 + 9*r^8)*a^2*m^2*(y + 1)*(y - 1)/((a^4*y^2 - 2*a^2*m*r*y^2 + a^2*r^2*y^2 + 2*a^2*m*r + a^2*r^2 + r^4)^2*(a^2*y^2 + r^2)^3)"
      ]
     },
     "execution_count": 36,
     "metadata": {},
     "output_type": "execute_result"
    }
   ],
   "source": [
    "R.expr().factor()"
   ]
  },
  {
   "cell_type": "markdown",
   "id": "cde9d36b-ebe8-4c93-ab2e-75a5a87cb32d",
   "metadata": {},
   "source": [
    "The term $K_{ij} K^{ij}$:"
   ]
  },
  {
   "cell_type": "code",
   "execution_count": 37,
   "id": "603baccd-f5e4-4008-8d8b-d5dd2c56d558",
   "metadata": {},
   "outputs": [
    {
     "name": "stdout",
     "output_type": "stream",
     "text": [
      "Scalar field on the 3-dimensional Riemannian submanifold S embedded in the 4-dimensional Lorentzian manifold M\n"
     ]
    },
    {
     "data": {
      "text/html": [
       "<html>\\(\\displaystyle \\begin{array}{llcl} & \\Sigma & \\longrightarrow & \\mathbb{R} \\\\ & \\left(r, y, {\\phi}\\right) & \\longmapsto & \\frac{2 \\, {\\left(a^{6} m^{2} r^{4} + 6 \\, a^{4} m^{2} r^{6} + 9 \\, a^{2} m^{2} r^{8} - {\\left(a^{10} m^{2} - 6 \\, a^{8} m^{2} r^{2} + 8 \\, a^{6} m^{3} r^{3} - 3 \\, a^{6} m^{2} r^{4}\\right)} y^{6} + {\\left(a^{10} m^{2} - 8 \\, a^{8} m^{2} r^{2} + 16 \\, a^{6} m^{3} r^{3} - 3 \\, a^{6} m^{2} r^{4} - 6 \\, a^{4} m^{2} r^{6}\\right)} y^{4} + {\\left(2 \\, a^{8} m^{2} r^{2} - 8 \\, a^{6} m^{3} r^{3} - a^{6} m^{2} r^{4} - 9 \\, a^{2} m^{2} r^{8}\\right)} y^{2}\\right)}}{4 \\, a^{4} m^{2} r^{8} + 4 \\, a^{4} m r^{9} + a^{4} r^{10} + 4 \\, a^{2} m r^{11} + 2 \\, a^{2} r^{12} + r^{14} + {\\left(a^{14} - 4 \\, a^{12} m r - 4 \\, a^{10} m r^{3} + a^{10} r^{4} + 2 \\, {\\left(a^{12} + 2 \\, a^{10} m^{2}\\right)} r^{2}\\right)} y^{10} + {\\left(4 \\, a^{12} m r - 12 \\, a^{10} m r^{3} - 16 \\, a^{8} m r^{5} + 5 \\, a^{8} r^{6} + 2 \\, {\\left(5 \\, a^{10} + 6 \\, a^{8} m^{2}\\right)} r^{4} + {\\left(5 \\, a^{12} - 8 \\, a^{10} m^{2}\\right)} r^{2}\\right)} y^{8} + 2 \\, {\\left(2 \\, a^{10} m^{2} r^{2} + 8 \\, a^{10} m r^{3} - 4 \\, a^{8} m r^{5} - 12 \\, a^{6} m r^{7} + 5 \\, a^{6} r^{8} + 2 \\, {\\left(5 \\, a^{8} + 3 \\, a^{6} m^{2}\\right)} r^{6} + {\\left(5 \\, a^{10} - 12 \\, a^{8} m^{2}\\right)} r^{4}\\right)} y^{6} + 2 \\, {\\left(6 \\, a^{8} m^{2} r^{4} + 12 \\, a^{8} m r^{5} + 4 \\, a^{6} m r^{7} - 8 \\, a^{4} m r^{9} + 5 \\, a^{4} r^{10} + 2 \\, {\\left(5 \\, a^{6} + a^{4} m^{2}\\right)} r^{8} + {\\left(5 \\, a^{8} - 12 \\, a^{6} m^{2}\\right)} r^{6}\\right)} y^{4} + {\\left(12 \\, a^{6} m^{2} r^{6} + 16 \\, a^{6} m r^{7} + 12 \\, a^{4} m r^{9} + 10 \\, a^{4} r^{10} - 4 \\, a^{2} m r^{11} + 5 \\, a^{2} r^{12} + {\\left(5 \\, a^{6} - 8 \\, a^{4} m^{2}\\right)} r^{8}\\right)} y^{2}} \\end{array}\\)</html>"
      ],
      "text/latex": [
       "$\\displaystyle \\begin{array}{llcl} & \\Sigma & \\longrightarrow & \\mathbb{R} \\\\ & \\left(r, y, {\\phi}\\right) & \\longmapsto & \\frac{2 \\, {\\left(a^{6} m^{2} r^{4} + 6 \\, a^{4} m^{2} r^{6} + 9 \\, a^{2} m^{2} r^{8} - {\\left(a^{10} m^{2} - 6 \\, a^{8} m^{2} r^{2} + 8 \\, a^{6} m^{3} r^{3} - 3 \\, a^{6} m^{2} r^{4}\\right)} y^{6} + {\\left(a^{10} m^{2} - 8 \\, a^{8} m^{2} r^{2} + 16 \\, a^{6} m^{3} r^{3} - 3 \\, a^{6} m^{2} r^{4} - 6 \\, a^{4} m^{2} r^{6}\\right)} y^{4} + {\\left(2 \\, a^{8} m^{2} r^{2} - 8 \\, a^{6} m^{3} r^{3} - a^{6} m^{2} r^{4} - 9 \\, a^{2} m^{2} r^{8}\\right)} y^{2}\\right)}}{4 \\, a^{4} m^{2} r^{8} + 4 \\, a^{4} m r^{9} + a^{4} r^{10} + 4 \\, a^{2} m r^{11} + 2 \\, a^{2} r^{12} + r^{14} + {\\left(a^{14} - 4 \\, a^{12} m r - 4 \\, a^{10} m r^{3} + a^{10} r^{4} + 2 \\, {\\left(a^{12} + 2 \\, a^{10} m^{2}\\right)} r^{2}\\right)} y^{10} + {\\left(4 \\, a^{12} m r - 12 \\, a^{10} m r^{3} - 16 \\, a^{8} m r^{5} + 5 \\, a^{8} r^{6} + 2 \\, {\\left(5 \\, a^{10} + 6 \\, a^{8} m^{2}\\right)} r^{4} + {\\left(5 \\, a^{12} - 8 \\, a^{10} m^{2}\\right)} r^{2}\\right)} y^{8} + 2 \\, {\\left(2 \\, a^{10} m^{2} r^{2} + 8 \\, a^{10} m r^{3} - 4 \\, a^{8} m r^{5} - 12 \\, a^{6} m r^{7} + 5 \\, a^{6} r^{8} + 2 \\, {\\left(5 \\, a^{8} + 3 \\, a^{6} m^{2}\\right)} r^{6} + {\\left(5 \\, a^{10} - 12 \\, a^{8} m^{2}\\right)} r^{4}\\right)} y^{6} + 2 \\, {\\left(6 \\, a^{8} m^{2} r^{4} + 12 \\, a^{8} m r^{5} + 4 \\, a^{6} m r^{7} - 8 \\, a^{4} m r^{9} + 5 \\, a^{4} r^{10} + 2 \\, {\\left(5 \\, a^{6} + a^{4} m^{2}\\right)} r^{8} + {\\left(5 \\, a^{8} - 12 \\, a^{6} m^{2}\\right)} r^{6}\\right)} y^{4} + {\\left(12 \\, a^{6} m^{2} r^{6} + 16 \\, a^{6} m r^{7} + 12 \\, a^{4} m r^{9} + 10 \\, a^{4} r^{10} - 4 \\, a^{2} m r^{11} + 5 \\, a^{2} r^{12} + {\\left(5 \\, a^{6} - 8 \\, a^{4} m^{2}\\right)} r^{8}\\right)} y^{2}} \\end{array}$"
      ],
      "text/plain": [
       "S → ℝ\n",
       "(r, y, ph) ↦ 2*(a^6*m^2*r^4 + 6*a^4*m^2*r^6 + 9*a^2*m^2*r^8 - (a^10*m^2 - 6*a^8*m^2*r^2 + 8*a^6*m^3*r^3 - 3*a^6*m^2*r^4)*y^6 + (a^10*m^2 - 8*a^8*m^2*r^2 + 16*a^6*m^3*r^3 - 3*a^6*m^2*r^4 - 6*a^4*m^2*r^6)*y^4 + (2*a^8*m^2*r^2 - 8*a^6*m^3*r^3 - a^6*m^2*r^4 - 9*a^2*m^2*r^8)*y^2)/(4*a^4*m^2*r^8 + 4*a^4*m*r^9 + a^4*r^10 + 4*a^2*m*r^11 + 2*a^2*r^12 + r^14 + (a^14 - 4*a^12*m*r - 4*a^10*m*r^3 + a^10*r^4 + 2*(a^12 + 2*a^10*m^2)*r^2)*y^10 + (4*a^12*m*r - 12*a^10*m*r^3 - 16*a^8*m*r^5 + 5*a^8*r^6 + 2*(5*a^10 + 6*a^8*m^2)*r^4 + (5*a^12 - 8*a^10*m^2)*r^2)*y^8 + 2*(2*a^10*m^2*r^2 + 8*a^10*m*r^3 - 4*a^8*m*r^5 - 12*a^6*m*r^7 + 5*a^6*r^8 + 2*(5*a^8 + 3*a^6*m^2)*r^6 + (5*a^10 - 12*a^8*m^2)*r^4)*y^6 + 2*(6*a^8*m^2*r^4 + 12*a^8*m*r^5 + 4*a^6*m*r^7 - 8*a^4*m*r^9 + 5*a^4*r^10 + 2*(5*a^6 + a^4*m^2)*r^8 + (5*a^8 - 12*a^6*m^2)*r^6)*y^4 + (12*a^6*m^2*r^6 + 16*a^6*m*r^7 + 12*a^4*m*r^9 + 10*a^4*r^10 - 4*a^2*m*r^11 + 5*a^2*r^12 + (5*a^6 - 8*a^4*m^2)*r^8)*y^2)"
      ]
     },
     "execution_count": 37,
     "metadata": {},
     "output_type": "execute_result"
    }
   ],
   "source": [
    "Kuu = Ku.up(gam, 1)\n",
    "KK = K['_ij']*Kuu['^ij']\n",
    "print(KK)\n",
    "KK.display()"
   ]
  },
  {
   "cell_type": "markdown",
   "id": "11b5dcc4-7397-4304-874b-a353cf559b2b",
   "metadata": {},
   "source": [
    "Finally the Hamiltonian constraint:"
   ]
  },
  {
   "cell_type": "code",
   "execution_count": 38,
   "id": "e22c6d05-5baa-4654-be9e-a2f456dbbe09",
   "metadata": {},
   "outputs": [
    {
     "name": "stdout",
     "output_type": "stream",
     "text": [
      "Scalar field on the 3-dimensional Riemannian submanifold S embedded in the 4-dimensional Lorentzian manifold M\n"
     ]
    },
    {
     "data": {
      "text/html": [
       "<html>\\(\\displaystyle \\begin{array}{llcl} & \\Sigma & \\longrightarrow & \\mathbb{R} \\\\ & \\left(r, y, {\\phi}\\right) & \\longmapsto & 0 \\end{array}\\)</html>"
      ],
      "text/latex": [
       "$\\displaystyle \\begin{array}{llcl} & \\Sigma & \\longrightarrow & \\mathbb{R} \\\\ & \\left(r, y, {\\phi}\\right) & \\longmapsto & 0 \\end{array}$"
      ],
      "text/plain": [
       "S → ℝ\n",
       "(r, y, ph) ↦ 0"
      ]
     },
     "execution_count": 38,
     "metadata": {},
     "output_type": "execute_result"
    }
   ],
   "source": [
    "Ham = R + trK^2 - KK\n",
    "print(Ham)\n",
    "Ham.display()"
   ]
  },
  {
   "cell_type": "code",
   "execution_count": 39,
   "id": "6840bed1-d520-4f26-aa74-82130a37f68f",
   "metadata": {},
   "outputs": [
    {
     "data": {
      "text/html": [
       "<html>\\(\\displaystyle 0\\)</html>"
      ],
      "text/latex": [
       "$\\displaystyle 0$"
      ],
      "text/plain": [
       "0"
      ]
     },
     "execution_count": 39,
     "metadata": {},
     "output_type": "execute_result"
    }
   ],
   "source": [
    "Ham.expr()"
   ]
  },
  {
   "cell_type": "markdown",
   "id": "2b7988bf-fe95-4358-9294-e496192c3f05",
   "metadata": {},
   "source": [
    "Hence the Hamiltonian constraint is fulfilled. "
   ]
  },
  {
   "cell_type": "markdown",
   "id": "fa823948-9af4-455c-b251-1a20d84c9912",
   "metadata": {},
   "source": [
    "## The momentum constraint\n",
    "\n",
    "In vacuum, the momentum constraint is\n",
    "$$ D_j K^j_{\\ \\, i} - D_i K = 0 $$"
   ]
  },
  {
   "cell_type": "markdown",
   "id": "e4fa8c98-8eee-4aa7-87ed-64b36750d672",
   "metadata": {},
   "source": [
    "Given that $D_k K^j_{\\ \\, i}$ is the tensor $(DK)^j_{\\ \\, ik}$, we evaluate the momentum constraint \n",
    "as follows:"
   ]
  },
  {
   "cell_type": "code",
   "execution_count": 40,
   "id": "7e7d6c87-a6e0-4818-a296-47ccd7d1f389",
   "metadata": {},
   "outputs": [
    {
     "name": "stdout",
     "output_type": "stream",
     "text": [
      "1-form on the 3-dimensional Riemannian submanifold S embedded in the 4-dimensional Lorentzian manifold M\n"
     ]
    }
   ],
   "source": [
    "mom = D(Ku)['^j_{ij}'] - D(trK)\n",
    "print(mom)"
   ]
  },
  {
   "cell_type": "code",
   "execution_count": 41,
   "id": "2e3cb80d-f43a-487b-b3b9-b3c5ebc25230",
   "metadata": {},
   "outputs": [
    {
     "data": {
      "text/html": [
       "<html>\\(\\displaystyle 0\\)</html>"
      ],
      "text/latex": [
       "$\\displaystyle 0$"
      ],
      "text/plain": [
       "0"
      ]
     },
     "execution_count": 41,
     "metadata": {},
     "output_type": "execute_result"
    }
   ],
   "source": [
    "mom.display()"
   ]
  },
  {
   "cell_type": "markdown",
   "id": "10114b32-c85c-45d7-8ed7-a69784eae9ea",
   "metadata": {},
   "source": [
    "Hence the momentum constraint is fulfilled. "
   ]
  },
  {
   "cell_type": "markdown",
   "id": "51247d98-81f6-4803-9f97-1827ee09b399",
   "metadata": {},
   "source": [
    "*Remark:* an alternative writting for `D(Ku)['^j_{ij}']` is `D(Ku).trace(0,2)`:"
   ]
  },
  {
   "cell_type": "code",
   "execution_count": 42,
   "id": "71e0f020-255a-4df0-8b4b-f753c88c55b7",
   "metadata": {},
   "outputs": [
    {
     "data": {
      "text/html": [
       "<html>\\(\\displaystyle \\mathrm{True}\\)</html>"
      ],
      "text/latex": [
       "$\\displaystyle \\mathrm{True}$"
      ],
      "text/plain": [
       "True"
      ]
     },
     "execution_count": 42,
     "metadata": {},
     "output_type": "execute_result"
    }
   ],
   "source": [
    "mom == D(Ku).trace(0,2) - D(trK)"
   ]
  }
 ],
 "metadata": {
  "kernelspec": {
   "display_name": "SageMath 10.4.beta6",
   "language": "sage",
   "name": "sagemath"
  },
  "language_info": {
   "codemirror_mode": {
    "name": "ipython",
    "version": 3
   },
   "file_extension": ".py",
   "mimetype": "text/x-python",
   "name": "python",
   "nbconvert_exporter": "python",
   "pygments_lexer": "ipython3",
   "version": "3.10.12"
  }
 },
 "nbformat": 4,
 "nbformat_minor": 5
}
