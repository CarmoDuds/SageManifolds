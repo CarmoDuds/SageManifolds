{
 "cells": [
  {
   "cell_type": "markdown",
   "metadata": {},
   "source": [
    "# Kerr spacetime in quasi-isotropic coordinates\n",
    "\n",
    "## Check of the 3+1 Einstein equations"
   ]
  },
  {
   "cell_type": "markdown",
   "metadata": {},
   "source": [
    "This SageMath notebook accompanies the article _High precision numerical sequences of rotating hairy black holes_ by\n",
    "Gustavo Garcı́a, Eric Gourgoulhon, Philippe Grandclément and Marcelo Salgado. It involves SageMath tools developed through the [SageManifolds](https://sagemanifolds.obspm.fr/) project. "
   ]
  },
  {
   "cell_type": "markdown",
   "metadata": {},
   "source": [
    "*NB:* a version of SageMath at least equal to 8.2 is required to run this notebook:"
   ]
  },
  {
   "cell_type": "code",
   "execution_count": 1,
   "metadata": {},
   "outputs": [
    {
     "data": {
      "text/plain": [
       "'SageMath version 9.8.rc1, Release Date: 2023-02-05'"
      ]
     },
     "execution_count": 1,
     "metadata": {},
     "output_type": "execute_result"
    }
   ],
   "source": [
    "version()"
   ]
  },
  {
   "cell_type": "markdown",
   "metadata": {},
   "source": [
    "First we set up the notebook to display mathematical objects using LaTeX rendering:"
   ]
  },
  {
   "cell_type": "code",
   "execution_count": 2,
   "metadata": {},
   "outputs": [],
   "source": [
    "%display latex"
   ]
  },
  {
   "cell_type": "markdown",
   "metadata": {},
   "source": [
    "Since some computations are quite long, we ask for running them in parallel on 8 cores:"
   ]
  },
  {
   "cell_type": "code",
   "execution_count": 3,
   "metadata": {},
   "outputs": [],
   "source": [
    "Parallelism().set(nproc=8)"
   ]
  },
  {
   "cell_type": "markdown",
   "metadata": {},
   "source": [
    "## Spacelike hypersurface\n",
    "\n",
    "We consider some hypersurface $\\Sigma$ of a spacelike foliation $(\\Sigma_t)_{t\\in\\mathbb{R}}$ of Kerr spacetime; we declare $\\Sigma_t$ as a 3-dimensional Riemannian manifold:"
   ]
  },
  {
   "cell_type": "code",
   "execution_count": 4,
   "metadata": {},
   "outputs": [
    {
     "name": "stdout",
     "output_type": "stream",
     "text": [
      "3-dimensional Riemannian manifold Sigma\n"
     ]
    }
   ],
   "source": [
    "Sig = Manifold(3, 'Sigma', latex_name=r'\\Sigma', \n",
    "               structure='Riemannian', metric_name='gam', \n",
    "               metric_latex_name=r'\\gamma', start_index=1)\n",
    "print(Sig)"
   ]
  },
  {
   "cell_type": "markdown",
   "metadata": {},
   "source": [
    "On $\\Sigma$, we consider the _\"rational-polynomial\" quasi-isotropic coordinates_ $(r,y,\\phi)$ inheritated from the **quasi-isotropic (QI) coordinates** $(t,r,\\theta,\\phi)$ of Kerr spacetime, via $y=\\cos\\theta$:"
   ]
  },
  {
   "cell_type": "code",
   "execution_count": 5,
   "metadata": {},
   "outputs": [
    {
     "name": "stdout",
     "output_type": "stream",
     "text": [
      "Chart (Sigma, (r, y, ph))\n"
     ]
    },
    {
     "data": {
      "text/html": [
       "<html>\\(\\displaystyle \\left(\\Sigma,(r, y, {\\phi})\\right)\\)</html>"
      ],
      "text/latex": [
       "$\\displaystyle \\left(\\Sigma,(r, y, {\\phi})\\right)$"
      ],
      "text/plain": [
       "Chart (Sigma, (r, y, ph))"
      ]
     },
     "execution_count": 5,
     "metadata": {},
     "output_type": "execute_result"
    }
   ],
   "source": [
    "X.<r,y,ph> = Sig.chart(r'r:(1,+oo) y:(-1,1) ph:(0,2*pi):\\phi')\n",
    "print(X) ; X"
   ]
  },
  {
   "cell_type": "markdown",
   "metadata": {},
   "source": [
    "<h3>Riemannian metric on $\\Sigma$</h3>\n",
    "\n",
    "<p>First the two Kerr parameters:</p>"
   ]
  },
  {
   "cell_type": "code",
   "execution_count": 6,
   "metadata": {},
   "outputs": [
    {
     "data": {
      "text/html": [
       "<html>\\(\\displaystyle \\left[\\verb|r|\\verb| |\\verb|is|\\verb| |\\verb|real|, r > 1, \\verb|y|\\verb| |\\verb|is|\\verb| |\\verb|real|, y > \\left(-1\\right), y &lt; 1, \\verb|ph|\\verb| |\\verb|is|\\verb| |\\verb|real|, {\\phi} > 0, {\\phi} &lt; 2 \\, \\pi, \\verb|m|\\verb| |\\verb|is|\\verb| |\\verb|real|, \\verb|a|\\verb| |\\verb|is|\\verb| |\\verb|real|, m > 0, a > 0\\right]\\)</html>"
      ],
      "text/latex": [
       "$\\displaystyle \\left[\\verb|r|\\verb| |\\verb|is|\\verb| |\\verb|real|, r > 1, \\verb|y|\\verb| |\\verb|is|\\verb| |\\verb|real|, y > \\left(-1\\right), y < 1, \\verb|ph|\\verb| |\\verb|is|\\verb| |\\verb|real|, {\\phi} > 0, {\\phi} < 2 \\, \\pi, \\verb|m|\\verb| |\\verb|is|\\verb| |\\verb|real|, \\verb|a|\\verb| |\\verb|is|\\verb| |\\verb|real|, m > 0, a > 0\\right]$"
      ],
      "text/plain": [
       "[r is real,\n",
       " r > 1,\n",
       " y is real,\n",
       " y > -1,\n",
       " y < 1,\n",
       " ph is real,\n",
       " ph > 0,\n",
       " ph < 2*pi,\n",
       " m is real,\n",
       " a is real,\n",
       " m > 0,\n",
       " a > 0]"
      ]
     },
     "execution_count": 6,
     "metadata": {},
     "output_type": "execute_result"
    }
   ],
   "source": [
    "var('m, a', domain='real')\n",
    "assume(m > 0)\n",
    "assume(a > 0)\n",
    "#assume(a^2-2*m*r+r^2 > 0)  # region where Sigma is spacelike\n",
    "assumptions()"
   ]
  },
  {
   "cell_type": "markdown",
   "metadata": {},
   "source": [
    "To simplify the computations, we set $m=1$:"
   ]
  },
  {
   "cell_type": "code",
   "execution_count": 7,
   "metadata": {},
   "outputs": [],
   "source": [
    "m = 1"
   ]
  },
  {
   "cell_type": "markdown",
   "metadata": {},
   "source": [
    "A shortcut for $\\cos(2\\theta)$:"
   ]
  },
  {
   "cell_type": "code",
   "execution_count": 8,
   "metadata": {},
   "outputs": [],
   "source": [
    "cos2t = 2*y^2 - 1 "
   ]
  },
  {
   "cell_type": "code",
   "execution_count": 9,
   "metadata": {},
   "outputs": [
    {
     "data": {
      "text/html": [
       "<html>\\(\\displaystyle \\frac{8 \\, {\\left(2 \\, y^{2} - 1\\right)} a^{2} r^{2} + a^{4} + {\\left(2 \\, r + 1\\right)}^{4} - 2 \\, a^{2} {\\left(4 \\, r + 1\\right)}}{16 \\, r^{4}}\\)</html>"
      ],
      "text/latex": [
       "$\\displaystyle \\frac{8 \\, {\\left(2 \\, y^{2} - 1\\right)} a^{2} r^{2} + a^{4} + {\\left(2 \\, r + 1\\right)}^{4} - 2 \\, a^{2} {\\left(4 \\, r + 1\\right)}}{16 \\, r^{4}}$"
      ],
      "text/plain": [
       "1/16*(8*(2*y^2 - 1)*a^2*r^2 + a^4 + (2*r + 1)^4 - 2*a^2*(4*r + 1))/r^4"
      ]
     },
     "execution_count": 9,
     "metadata": {},
     "output_type": "execute_result"
    }
   ],
   "source": [
    "A2 = (-2*a^2*m*(m + 4*r) + 8*a^2*r^2*cos2t + a^4 + (m + 2*r)^4) / (16*r^4)\n",
    "A2"
   ]
  },
  {
   "cell_type": "code",
   "execution_count": 10,
   "metadata": {},
   "outputs": [
    {
     "data": {
      "text/html": [
       "<html>\\(\\displaystyle \\frac{a^{8} + {\\left(2 \\, r + 1\\right)}^{8} + 4 \\, {\\left(2 \\, r^{2} - 4 \\, r - 1\\right)} a^{6} + 8 \\, {\\left(a^{2} + 4 \\, r^{2} - 1\\right)}^{2} {\\left(2 \\, y^{2} - 1\\right)} a^{2} r^{2} + 2 \\, {\\left(16 \\, r^{4} - 32 \\, r^{3} + 48 \\, r^{2} + 24 \\, r + 3\\right)} a^{4} + 4 \\, {\\left(8 \\, r^{4} + 8 \\, r^{3} - 18 \\, r^{2} - 8 \\, r - 1\\right)} a^{2} {\\left(2 \\, r + 1\\right)}^{2}}{16 \\, {\\left(8 \\, {\\left(2 \\, y^{2} - 1\\right)} a^{2} r^{2} + a^{4} + {\\left(2 \\, r + 1\\right)}^{4} - 2 \\, a^{2} {\\left(4 \\, r + 1\\right)}\\right)} r^{4}}\\)</html>"
      ],
      "text/latex": [
       "$\\displaystyle \\frac{a^{8} + {\\left(2 \\, r + 1\\right)}^{8} + 4 \\, {\\left(2 \\, r^{2} - 4 \\, r - 1\\right)} a^{6} + 8 \\, {\\left(a^{2} + 4 \\, r^{2} - 1\\right)}^{2} {\\left(2 \\, y^{2} - 1\\right)} a^{2} r^{2} + 2 \\, {\\left(16 \\, r^{4} - 32 \\, r^{3} + 48 \\, r^{2} + 24 \\, r + 3\\right)} a^{4} + 4 \\, {\\left(8 \\, r^{4} + 8 \\, r^{3} - 18 \\, r^{2} - 8 \\, r - 1\\right)} a^{2} {\\left(2 \\, r + 1\\right)}^{2}}{16 \\, {\\left(8 \\, {\\left(2 \\, y^{2} - 1\\right)} a^{2} r^{2} + a^{4} + {\\left(2 \\, r + 1\\right)}^{4} - 2 \\, a^{2} {\\left(4 \\, r + 1\\right)}\\right)} r^{4}}$"
      ],
      "text/plain": [
       "1/16*(a^8 + (2*r + 1)^8 + 4*(2*r^2 - 4*r - 1)*a^6 + 8*(a^2 + 4*r^2 - 1)^2*(2*y^2 - 1)*a^2*r^2 + 2*(16*r^4 - 32*r^3 + 48*r^2 + 24*r + 3)*a^4 + 4*(8*r^4 + 8*r^3 - 18*r^2 - 8*r - 1)*a^2*(2*r + 1)^2)/((8*(2*y^2 - 1)*a^2*r^2 + a^4 + (2*r + 1)^4 - 2*a^2*(4*r + 1))*r^4)"
      ]
     },
     "execution_count": 10,
     "metadata": {},
     "output_type": "execute_result"
    }
   ],
   "source": [
    "B2n = (8*a^2*r^2*cos2t*(a^2 - m^2 + 4*r^2)^2 - 4*a^6*(m^2 +4*m*r - 2*r^2)\n",
    "       + a^4*(96*m^2*r^2 + 48*m^3*r + 6*m^4 - 64*m*r^3 + 32*r^4)\n",
    "       - 4*a^2*(m + 2*r)^2*(18*m^2*r^2 + 8*m^3*r + m^4 - 8*m*r^3 - 8*r^4)\n",
    "       + a^8 + (m + 2*r)^8)\n",
    "\n",
    "B2d = 16*r^4*(-2*a^2*m*(m + 4*r) + 8*a^2*r^2*cos2t + a^4 + (m + 2*r)^4)\n",
    "\n",
    "B2 = B2n / B2d\n",
    "B2"
   ]
  },
  {
   "cell_type": "markdown",
   "metadata": {},
   "source": [
    "The metric $\\gamma$ induced by the spacetime metric $g$ on $\\Sigma$:"
   ]
  },
  {
   "cell_type": "code",
   "execution_count": 11,
   "metadata": {},
   "outputs": [
    {
     "data": {
      "text/html": [
       "<html>\\(\\displaystyle \\gamma = \\left( \\frac{8 \\, {\\left(2 \\, y^{2} - 1\\right)} a^{2} r^{2} + a^{4} + {\\left(2 \\, r + 1\\right)}^{4} - 2 \\, a^{2} {\\left(4 \\, r + 1\\right)}}{16 \\, r^{4}} \\right) \\mathrm{d} r\\otimes \\mathrm{d} r + \\left( -\\frac{8 \\, {\\left(2 \\, y^{2} - 1\\right)} a^{2} r^{2} + a^{4} + {\\left(2 \\, r + 1\\right)}^{4} - 2 \\, a^{2} {\\left(4 \\, r + 1\\right)}}{16 \\, {\\left(y^{2} - 1\\right)} r^{2}} \\right) \\mathrm{d} y\\otimes \\mathrm{d} y -\\frac{{\\left(a^{8} + {\\left(2 \\, r + 1\\right)}^{8} + 4 \\, {\\left(2 \\, r^{2} - 4 \\, r - 1\\right)} a^{6} + 8 \\, {\\left(a^{2} + 4 \\, r^{2} - 1\\right)}^{2} {\\left(2 \\, y^{2} - 1\\right)} a^{2} r^{2} + 2 \\, {\\left(16 \\, r^{4} - 32 \\, r^{3} + 48 \\, r^{2} + 24 \\, r + 3\\right)} a^{4} + 4 \\, {\\left(8 \\, r^{4} + 8 \\, r^{3} - 18 \\, r^{2} - 8 \\, r - 1\\right)} a^{2} {\\left(2 \\, r + 1\\right)}^{2}\\right)} {\\left(y^{2} - 1\\right)}}{16 \\, {\\left(8 \\, {\\left(2 \\, y^{2} - 1\\right)} a^{2} r^{2} + a^{4} + {\\left(2 \\, r + 1\\right)}^{4} - 2 \\, a^{2} {\\left(4 \\, r + 1\\right)}\\right)} r^{2}} \\mathrm{d} {\\phi}\\otimes \\mathrm{d} {\\phi}\\)</html>"
      ],
      "text/latex": [
       "$\\displaystyle \\gamma = \\left( \\frac{8 \\, {\\left(2 \\, y^{2} - 1\\right)} a^{2} r^{2} + a^{4} + {\\left(2 \\, r + 1\\right)}^{4} - 2 \\, a^{2} {\\left(4 \\, r + 1\\right)}}{16 \\, r^{4}} \\right) \\mathrm{d} r\\otimes \\mathrm{d} r + \\left( -\\frac{8 \\, {\\left(2 \\, y^{2} - 1\\right)} a^{2} r^{2} + a^{4} + {\\left(2 \\, r + 1\\right)}^{4} - 2 \\, a^{2} {\\left(4 \\, r + 1\\right)}}{16 \\, {\\left(y^{2} - 1\\right)} r^{2}} \\right) \\mathrm{d} y\\otimes \\mathrm{d} y -\\frac{{\\left(a^{8} + {\\left(2 \\, r + 1\\right)}^{8} + 4 \\, {\\left(2 \\, r^{2} - 4 \\, r - 1\\right)} a^{6} + 8 \\, {\\left(a^{2} + 4 \\, r^{2} - 1\\right)}^{2} {\\left(2 \\, y^{2} - 1\\right)} a^{2} r^{2} + 2 \\, {\\left(16 \\, r^{4} - 32 \\, r^{3} + 48 \\, r^{2} + 24 \\, r + 3\\right)} a^{4} + 4 \\, {\\left(8 \\, r^{4} + 8 \\, r^{3} - 18 \\, r^{2} - 8 \\, r - 1\\right)} a^{2} {\\left(2 \\, r + 1\\right)}^{2}\\right)} {\\left(y^{2} - 1\\right)}}{16 \\, {\\left(8 \\, {\\left(2 \\, y^{2} - 1\\right)} a^{2} r^{2} + a^{4} + {\\left(2 \\, r + 1\\right)}^{4} - 2 \\, a^{2} {\\left(4 \\, r + 1\\right)}\\right)} r^{2}} \\mathrm{d} {\\phi}\\otimes \\mathrm{d} {\\phi}$"
      ],
      "text/plain": [
       "gam = 1/16*(8*(2*y^2 - 1)*a^2*r^2 + a^4 + (2*r + 1)^4 - 2*a^2*(4*r + 1))/r^4 dr⊗dr - 1/16*(8*(2*y^2 - 1)*a^2*r^2 + a^4 + (2*r + 1)^4 - 2*a^2*(4*r + 1))/((y^2 - 1)*r^2) dy⊗dy - 1/16*(a^8 + (2*r + 1)^8 + 4*(2*r^2 - 4*r - 1)*a^6 + 8*(a^2 + 4*r^2 - 1)^2*(2*y^2 - 1)*a^2*r^2 + 2*(16*r^4 - 32*r^3 + 48*r^2 + 24*r + 3)*a^4 + 4*(8*r^4 + 8*r^3 - 18*r^2 - 8*r - 1)*a^2*(2*r + 1)^2)*(y^2 - 1)/((8*(2*y^2 - 1)*a^2*r^2 + a^4 + (2*r + 1)^4 - 2*a^2*(4*r + 1))*r^2) dph⊗dph"
      ]
     },
     "execution_count": 11,
     "metadata": {},
     "output_type": "execute_result"
    }
   ],
   "source": [
    "gam = Sig.metric()\n",
    "gam[1,1] = A2\n",
    "gam[2,2] = A2*r^2/(1 - y^2)\n",
    "gam[3,3] = B2*r^2*(1 - y^2)\n",
    "gam.display()"
   ]
  },
  {
   "cell_type": "markdown",
   "metadata": {},
   "source": [
    "A matrix view of the components w.r.t. coordinates $(r,y,\\phi)$:"
   ]
  },
  {
   "cell_type": "code",
   "execution_count": 12,
   "metadata": {},
   "outputs": [
    {
     "data": {
      "text/html": [
       "<html>\\(\\displaystyle \\left(\\begin{array}{rrr}\n",
       "\\frac{8 \\, {\\left(2 \\, y^{2} - 1\\right)} a^{2} r^{2} + a^{4} + {\\left(2 \\, r + 1\\right)}^{4} - 2 \\, a^{2} {\\left(4 \\, r + 1\\right)}}{16 \\, r^{4}} & 0 & 0 \\\\\n",
       "0 & -\\frac{8 \\, {\\left(2 \\, y^{2} - 1\\right)} a^{2} r^{2} + a^{4} + {\\left(2 \\, r + 1\\right)}^{4} - 2 \\, a^{2} {\\left(4 \\, r + 1\\right)}}{16 \\, {\\left(y^{2} - 1\\right)} r^{2}} & 0 \\\\\n",
       "0 & 0 & -\\frac{{\\left(a^{8} + {\\left(2 \\, r + 1\\right)}^{8} + 4 \\, {\\left(2 \\, r^{2} - 4 \\, r - 1\\right)} a^{6} + 8 \\, {\\left(a^{2} + 4 \\, r^{2} - 1\\right)}^{2} {\\left(2 \\, y^{2} - 1\\right)} a^{2} r^{2} + 2 \\, {\\left(16 \\, r^{4} - 32 \\, r^{3} + 48 \\, r^{2} + 24 \\, r + 3\\right)} a^{4} + 4 \\, {\\left(8 \\, r^{4} + 8 \\, r^{3} - 18 \\, r^{2} - 8 \\, r - 1\\right)} a^{2} {\\left(2 \\, r + 1\\right)}^{2}\\right)} {\\left(y^{2} - 1\\right)}}{16 \\, {\\left(8 \\, {\\left(2 \\, y^{2} - 1\\right)} a^{2} r^{2} + a^{4} + {\\left(2 \\, r + 1\\right)}^{4} - 2 \\, a^{2} {\\left(4 \\, r + 1\\right)}\\right)} r^{2}}\n",
       "\\end{array}\\right)\\)</html>"
      ],
      "text/latex": [
       "$\\displaystyle \\left(\\begin{array}{rrr}\n",
       "\\frac{8 \\, {\\left(2 \\, y^{2} - 1\\right)} a^{2} r^{2} + a^{4} + {\\left(2 \\, r + 1\\right)}^{4} - 2 \\, a^{2} {\\left(4 \\, r + 1\\right)}}{16 \\, r^{4}} & 0 & 0 \\\\\n",
       "0 & -\\frac{8 \\, {\\left(2 \\, y^{2} - 1\\right)} a^{2} r^{2} + a^{4} + {\\left(2 \\, r + 1\\right)}^{4} - 2 \\, a^{2} {\\left(4 \\, r + 1\\right)}}{16 \\, {\\left(y^{2} - 1\\right)} r^{2}} & 0 \\\\\n",
       "0 & 0 & -\\frac{{\\left(a^{8} + {\\left(2 \\, r + 1\\right)}^{8} + 4 \\, {\\left(2 \\, r^{2} - 4 \\, r - 1\\right)} a^{6} + 8 \\, {\\left(a^{2} + 4 \\, r^{2} - 1\\right)}^{2} {\\left(2 \\, y^{2} - 1\\right)} a^{2} r^{2} + 2 \\, {\\left(16 \\, r^{4} - 32 \\, r^{3} + 48 \\, r^{2} + 24 \\, r + 3\\right)} a^{4} + 4 \\, {\\left(8 \\, r^{4} + 8 \\, r^{3} - 18 \\, r^{2} - 8 \\, r - 1\\right)} a^{2} {\\left(2 \\, r + 1\\right)}^{2}\\right)} {\\left(y^{2} - 1\\right)}}{16 \\, {\\left(8 \\, {\\left(2 \\, y^{2} - 1\\right)} a^{2} r^{2} + a^{4} + {\\left(2 \\, r + 1\\right)}^{4} - 2 \\, a^{2} {\\left(4 \\, r + 1\\right)}\\right)} r^{2}}\n",
       "\\end{array}\\right)$"
      ],
      "text/plain": [
       "[                                                                                                                                                                                                            1/16*(8*(2*y^2 - 1)*a^2*r^2 + a^4 + (2*r + 1)^4 - 2*a^2*(4*r + 1))/r^4                                                                                                                                                                                                                                                                                  0                                                                                                                                                                                                                                                                                  0]\n",
       "[                                                                                                                                                                                                                                                                                 0                                                                                                                                                                                                -1/16*(8*(2*y^2 - 1)*a^2*r^2 + a^4 + (2*r + 1)^4 - 2*a^2*(4*r + 1))/((y^2 - 1)*r^2)                                                                                                                                                                                                                                                                                  0]\n",
       "[                                                                                                                                                                                                                                                                                 0                                                                                                                                                                                                                                                                                  0 -1/16*(a^8 + (2*r + 1)^8 + 4*(2*r^2 - 4*r - 1)*a^6 + 8*(a^2 + 4*r^2 - 1)^2*(2*y^2 - 1)*a^2*r^2 + 2*(16*r^4 - 32*r^3 + 48*r^2 + 24*r + 3)*a^4 + 4*(8*r^4 + 8*r^3 - 18*r^2 - 8*r - 1)*a^2*(2*r + 1)^2)*(y^2 - 1)/((8*(2*y^2 - 1)*a^2*r^2 + a^4 + (2*r + 1)^4 - 2*a^2*(4*r + 1))*r^2)]"
      ]
     },
     "execution_count": 12,
     "metadata": {},
     "output_type": "execute_result"
    }
   ],
   "source": [
    "gam[:]"
   ]
  },
  {
   "cell_type": "markdown",
   "metadata": {},
   "source": [
    "<h3>Lapse function and shift vector</h3>"
   ]
  },
  {
   "cell_type": "code",
   "execution_count": 13,
   "metadata": {},
   "outputs": [
    {
     "data": {
      "text/html": [
       "<html>\\(\\displaystyle -\\frac{r^{2} {\\left(\\frac{\\sqrt{-a^{2} + 1}}{r} + 2\\right)} {\\left(\\frac{\\sqrt{-a^{2} + 1}}{r} - 2\\right)}}{\\sqrt{\\frac{a^{8} + {\\left(2 \\, r + 1\\right)}^{8} + 4 \\, {\\left(2 \\, r^{2} - 4 \\, r - 1\\right)} a^{6} + 8 \\, {\\left(a^{2} + 4 \\, r^{2} - 1\\right)}^{2} {\\left(2 \\, y^{2} - 1\\right)} a^{2} r^{2} + 2 \\, {\\left(16 \\, r^{4} - 32 \\, r^{3} + 48 \\, r^{2} + 24 \\, r + 3\\right)} a^{4} + 4 \\, {\\left(8 \\, r^{4} + 8 \\, r^{3} - 18 \\, r^{2} - 8 \\, r - 1\\right)} a^{2} {\\left(2 \\, r + 1\\right)}^{2}}{8 \\, {\\left(2 \\, y^{2} - 1\\right)} a^{2} r^{2} + a^{4} + {\\left(2 \\, r + 1\\right)}^{4} - 2 \\, a^{2} {\\left(4 \\, r + 1\\right)}}}}\\)</html>"
      ],
      "text/latex": [
       "$\\displaystyle -\\frac{r^{2} {\\left(\\frac{\\sqrt{-a^{2} + 1}}{r} + 2\\right)} {\\left(\\frac{\\sqrt{-a^{2} + 1}}{r} - 2\\right)}}{\\sqrt{\\frac{a^{8} + {\\left(2 \\, r + 1\\right)}^{8} + 4 \\, {\\left(2 \\, r^{2} - 4 \\, r - 1\\right)} a^{6} + 8 \\, {\\left(a^{2} + 4 \\, r^{2} - 1\\right)}^{2} {\\left(2 \\, y^{2} - 1\\right)} a^{2} r^{2} + 2 \\, {\\left(16 \\, r^{4} - 32 \\, r^{3} + 48 \\, r^{2} + 24 \\, r + 3\\right)} a^{4} + 4 \\, {\\left(8 \\, r^{4} + 8 \\, r^{3} - 18 \\, r^{2} - 8 \\, r - 1\\right)} a^{2} {\\left(2 \\, r + 1\\right)}^{2}}{8 \\, {\\left(2 \\, y^{2} - 1\\right)} a^{2} r^{2} + a^{4} + {\\left(2 \\, r + 1\\right)}^{4} - 2 \\, a^{2} {\\left(4 \\, r + 1\\right)}}}}$"
      ],
      "text/plain": [
       "-r^2*(sqrt(-a^2 + 1)/r + 2)*(sqrt(-a^2 + 1)/r - 2)/sqrt((a^8 + (2*r + 1)^8 + 4*(2*r^2 - 4*r - 1)*a^6 + 8*(a^2 + 4*r^2 - 1)^2*(2*y^2 - 1)*a^2*r^2 + 2*(16*r^4 - 32*r^3 + 48*r^2 + 24*r + 3)*a^4 + 4*(8*r^4 + 8*r^3 - 18*r^2 - 8*r - 1)*a^2*(2*r + 1)^2)/(8*(2*y^2 - 1)*a^2*r^2 + a^4 + (2*r + 1)^4 - 2*a^2*(4*r + 1)))"
      ]
     },
     "execution_count": 13,
     "metadata": {},
     "output_type": "execute_result"
    }
   ],
   "source": [
    "N1 = (1 - sqrt(m^2 - a^2)/(2*r))*(1 + sqrt(m^2 - a^2)/(2*r)) / sqrt(B2)\n",
    "N1"
   ]
  },
  {
   "cell_type": "code",
   "execution_count": 14,
   "metadata": {},
   "outputs": [
    {
     "name": "stdout",
     "output_type": "stream",
     "text": [
      "Scalar field N on the 3-dimensional Riemannian manifold Sigma\n"
     ]
    },
    {
     "data": {
      "text/html": [
       "<html>\\(\\displaystyle \\begin{array}{llcl} N:& \\Sigma & \\longrightarrow & \\mathbb{R} \\\\ & \\left(r, y, {\\phi}\\right) & \\longmapsto & -\\frac{r^{2} {\\left(\\frac{\\sqrt{-a^{2} + 1}}{r} + 2\\right)} {\\left(\\frac{\\sqrt{-a^{2} + 1}}{r} - 2\\right)}}{\\sqrt{\\frac{a^{8} + {\\left(2 \\, r + 1\\right)}^{8} + 4 \\, {\\left(2 \\, r^{2} - 4 \\, r - 1\\right)} a^{6} + 8 \\, {\\left(a^{2} + 4 \\, r^{2} - 1\\right)}^{2} {\\left(2 \\, y^{2} - 1\\right)} a^{2} r^{2} + 2 \\, {\\left(16 \\, r^{4} - 32 \\, r^{3} + 48 \\, r^{2} + 24 \\, r + 3\\right)} a^{4} + 4 \\, {\\left(8 \\, r^{4} + 8 \\, r^{3} - 18 \\, r^{2} - 8 \\, r - 1\\right)} a^{2} {\\left(2 \\, r + 1\\right)}^{2}}{8 \\, {\\left(2 \\, y^{2} - 1\\right)} a^{2} r^{2} + a^{4} + {\\left(2 \\, r + 1\\right)}^{4} - 2 \\, a^{2} {\\left(4 \\, r + 1\\right)}}}} \\end{array}\\)</html>"
      ],
      "text/latex": [
       "$\\displaystyle \\begin{array}{llcl} N:& \\Sigma & \\longrightarrow & \\mathbb{R} \\\\ & \\left(r, y, {\\phi}\\right) & \\longmapsto & -\\frac{r^{2} {\\left(\\frac{\\sqrt{-a^{2} + 1}}{r} + 2\\right)} {\\left(\\frac{\\sqrt{-a^{2} + 1}}{r} - 2\\right)}}{\\sqrt{\\frac{a^{8} + {\\left(2 \\, r + 1\\right)}^{8} + 4 \\, {\\left(2 \\, r^{2} - 4 \\, r - 1\\right)} a^{6} + 8 \\, {\\left(a^{2} + 4 \\, r^{2} - 1\\right)}^{2} {\\left(2 \\, y^{2} - 1\\right)} a^{2} r^{2} + 2 \\, {\\left(16 \\, r^{4} - 32 \\, r^{3} + 48 \\, r^{2} + 24 \\, r + 3\\right)} a^{4} + 4 \\, {\\left(8 \\, r^{4} + 8 \\, r^{3} - 18 \\, r^{2} - 8 \\, r - 1\\right)} a^{2} {\\left(2 \\, r + 1\\right)}^{2}}{8 \\, {\\left(2 \\, y^{2} - 1\\right)} a^{2} r^{2} + a^{4} + {\\left(2 \\, r + 1\\right)}^{4} - 2 \\, a^{2} {\\left(4 \\, r + 1\\right)}}}} \\end{array}$"
      ],
      "text/plain": [
       "N: Sigma → ℝ\n",
       "   (r, y, ph) ↦ -r^2*(sqrt(-a^2 + 1)/r + 2)*(sqrt(-a^2 + 1)/r - 2)/sqrt((a^8 + (2*r + 1)^8 + 4*(2*r^2 - 4*r - 1)*a^6 + 8*(a^2 + 4*r^2 - 1)^2*(2*y^2 - 1)*a^2*r^2 + 2*(16*r^4 - 32*r^3 + 48*r^2 + 24*r + 3)*a^4 + 4*(8*r^4 + 8*r^3 - 18*r^2 - 8*r - 1)*a^2*(2*r + 1)^2)/(8*(2*y^2 - 1)*a^2*r^2 + a^4 + (2*r + 1)^4 - 2*a^2*(4*r + 1)))"
      ]
     },
     "execution_count": 14,
     "metadata": {},
     "output_type": "execute_result"
    }
   ],
   "source": [
    "N = Sig.scalar_field(N1, name='N')\n",
    "print(N)\n",
    "N.display()"
   ]
  },
  {
   "cell_type": "code",
   "execution_count": 15,
   "metadata": {},
   "outputs": [
    {
     "data": {
      "text/html": [
       "<html>\\(\\displaystyle \\beta = \\left( \\frac{128 \\, a r^{5} {\\left(\\frac{a^{2} - 1}{r^{2}} - \\frac{4}{r} - 4\\right)}}{a^{8} + {\\left(2 \\, r + 1\\right)}^{8} + 4 \\, {\\left(2 \\, r^{2} - 4 \\, r - 1\\right)} a^{6} + 8 \\, {\\left(a^{2} + 4 \\, r^{2} - 1\\right)}^{2} {\\left(2 \\, y^{2} - 1\\right)} a^{2} r^{2} + 2 \\, {\\left(16 \\, r^{4} - 32 \\, r^{3} + 48 \\, r^{2} + 24 \\, r + 3\\right)} a^{4} + 4 \\, {\\left(8 \\, r^{4} + 8 \\, r^{3} - 18 \\, r^{2} - 8 \\, r - 1\\right)} a^{2} {\\left(2 \\, r + 1\\right)}^{2}} \\right) \\frac{\\partial}{\\partial {\\phi} }\\)</html>"
      ],
      "text/latex": [
       "$\\displaystyle \\beta = \\left( \\frac{128 \\, a r^{5} {\\left(\\frac{a^{2} - 1}{r^{2}} - \\frac{4}{r} - 4\\right)}}{a^{8} + {\\left(2 \\, r + 1\\right)}^{8} + 4 \\, {\\left(2 \\, r^{2} - 4 \\, r - 1\\right)} a^{6} + 8 \\, {\\left(a^{2} + 4 \\, r^{2} - 1\\right)}^{2} {\\left(2 \\, y^{2} - 1\\right)} a^{2} r^{2} + 2 \\, {\\left(16 \\, r^{4} - 32 \\, r^{3} + 48 \\, r^{2} + 24 \\, r + 3\\right)} a^{4} + 4 \\, {\\left(8 \\, r^{4} + 8 \\, r^{3} - 18 \\, r^{2} - 8 \\, r - 1\\right)} a^{2} {\\left(2 \\, r + 1\\right)}^{2}} \\right) \\frac{\\partial}{\\partial {\\phi} }$"
      ],
      "text/plain": [
       "beta = 128*a*r^5*((a^2 - 1)/r^2 - 4/r - 4)/(a^8 + (2*r + 1)^8 + 4*(2*r^2 - 4*r - 1)*a^6 + 8*(a^2 + 4*r^2 - 1)^2*(2*y^2 - 1)*a^2*r^2 + 2*(16*r^4 - 32*r^3 + 48*r^2 + 24*r + 3)*a^4 + 4*(8*r^4 + 8*r^3 - 18*r^2 - 8*r - 1)*a^2*(2*r + 1)^2) ∂/∂ph"
      ]
     },
     "execution_count": 15,
     "metadata": {},
     "output_type": "execute_result"
    }
   ],
   "source": [
    "b = Sig.vector_field(name='beta', latex_name=r'\\beta') \n",
    "b[3] = -2*a*m/(r^3*(A2*B2))*(1 + m/r + (m^2 - a^2)/(4*r^2))  \n",
    "# unset components are zero \n",
    "b.display()"
   ]
  },
  {
   "cell_type": "markdown",
   "metadata": {},
   "source": [
    "### Extrinsic curvature of $\\Sigma$\n",
    "\n",
    "We use the formula\n",
    "$$ K_{ij} = \\frac{1}{2N} \\mathcal{L}_{\\beta} \\gamma_{ij} $$\n",
    "which is valid for any stationary spacetime:"
   ]
  },
  {
   "cell_type": "code",
   "execution_count": 16,
   "metadata": {},
   "outputs": [
    {
     "name": "stdout",
     "output_type": "stream",
     "text": [
      "Field of symmetric bilinear forms K on the 3-dimensional Riemannian manifold Sigma\n"
     ]
    }
   ],
   "source": [
    "K = gam.lie_derivative(b) / (2*N)\n",
    "K.set_name('K')\n",
    "print(K)"
   ]
  },
  {
   "cell_type": "code",
   "execution_count": 17,
   "metadata": {},
   "outputs": [
    {
     "data": {
      "text/html": [
       "<html>\\(\\displaystyle \\begin{array}{lcl} K_{ \\, r \\, {\\phi} }^{ \\phantom{\\, r}\\phantom{\\, {\\phi}} } & = & \\frac{4 \\, {\\left(3 \\, a^{9} + 768 \\, a r^{8} + 3072 \\, a r^{7} - 12 \\, a^{7} - 256 \\, {\\left(2 \\, a^{3} - 21 \\, a\\right)} r^{6} - 1792 \\, {\\left(a^{3} - 3 \\, a\\right)} r^{5} + 18 \\, a^{5} + 32 \\, {\\left(5 \\, a^{5} - 78 \\, a^{3} + 105 \\, a\\right)} r^{4} - 16 \\, {\\left(16 \\, a^{3} r^{6} + 32 \\, a^{3} r^{5} - 24 \\, {\\left(a^{5} - a^{3}\\right)} r^{4} - 8 \\, {\\left(a^{5} - a^{3}\\right)} r^{3} + {\\left(a^{7} - 2 \\, a^{5} + a^{3}\\right)} r^{2}\\right)} y^{4} + 448 \\, {\\left(a^{5} - 4 \\, a^{3} + 3 \\, a\\right)} r^{3} - 12 \\, a^{3} - 16 \\, {\\left(2 \\, a^{7} - 25 \\, a^{5} + 44 \\, a^{3} - 21 \\, a\\right)} r^{2} - {\\left(3 \\, a^{9} + 768 \\, a r^{8} + 3072 \\, a r^{7} - 12 \\, a^{7} - 768 \\, {\\left(a^{3} - 7 \\, a\\right)} r^{6} - 768 \\, {\\left(3 \\, a^{3} - 7 \\, a\\right)} r^{5} + 18 \\, a^{5} + 32 \\, {\\left(17 \\, a^{5} - 90 \\, a^{3} + 105 \\, a\\right)} r^{4} + 192 \\, {\\left(3 \\, a^{5} - 10 \\, a^{3} + 7 \\, a\\right)} r^{3} - 12 \\, a^{3} - 48 \\, {\\left(a^{7} - 9 \\, a^{5} + 15 \\, a^{3} - 7 \\, a\\right)} r^{2} - 48 \\, {\\left(a^{7} - 3 \\, a^{5} + 3 \\, a^{3} - a\\right)} r + 3 \\, a\\right)} y^{2} - 48 \\, {\\left(a^{7} - 3 \\, a^{5} + 3 \\, a^{3} - a\\right)} r + 3 \\, a\\right)} \\sqrt{a^{8} + 256 \\, r^{8} + 1024 \\, r^{7} - 4 \\, a^{6} + 256 \\, {\\left(a^{2} + 7\\right)} r^{5} + 1792 \\, r^{6} - 32 \\, {\\left(a^{4} + 2 \\, a^{2} - 35\\right)} r^{4} + 6 \\, a^{4} - 64 \\, {\\left(a^{4} + 6 \\, a^{2} - 7\\right)} r^{3} + 112 \\, {\\left(a^{4} - 2 \\, a^{2} + 1\\right)} r^{2} + 16 \\, {\\left(16 \\, a^{2} r^{6} + 8 \\, {\\left(a^{4} - a^{2}\\right)} r^{4} + {\\left(a^{6} - 2 \\, a^{4} + a^{2}\\right)} r^{2}\\right)} y^{2} - 4 \\, a^{2} - 16 \\, {\\left(a^{6} - 3 \\, a^{4} + 3 \\, a^{2} - 1\\right)} r + 1}}{{\\left(a^{12} + 4096 \\, r^{12} - 2048 \\, {\\left(a^{2} - 33\\right)} r^{10} + 24576 \\, r^{11} - 6 \\, a^{10} - 2048 \\, {\\left(3 \\, a^{2} - 55\\right)} r^{9} - 256 \\, {\\left(a^{4} + 62 \\, a^{2} - 495\\right)} r^{8} + 15 \\, a^{8} - 1024 \\, {\\left(3 \\, a^{4} + 32 \\, a^{2} - 99\\right)} r^{7} + 256 \\, {\\left(a^{6} - 3 \\, a^{4} - 165 \\, a^{2} + 231\\right)} r^{6} - 20 \\, a^{6} + 256 \\, {\\left(3 \\, a^{6} + 29 \\, a^{4} - 131 \\, a^{2} + 99\\right)} r^{5} - 16 \\, {\\left(a^{8} + 60 \\, a^{6} - 618 \\, a^{4} + 1052 \\, a^{2} - 495\\right)} r^{4} + 256 \\, {\\left(16 \\, a^{4} r^{8} + 8 \\, {\\left(a^{6} - a^{4}\\right)} r^{6} + {\\left(a^{8} - 2 \\, a^{6} + a^{4}\\right)} r^{4}\\right)} y^{4} + 15 \\, a^{4} + 32 \\, {\\left(3 \\, a^{8} - 64 \\, a^{6} + 174 \\, a^{4} - 168 \\, a^{2} + 55\\right)} r^{3} - 8 \\, {\\left(a^{10} - 37 \\, a^{8} + 138 \\, a^{6} - 202 \\, a^{4} + 133 \\, a^{2} - 33\\right)} r^{2} + 32 \\, {\\left(256 \\, a^{2} r^{10} + 768 \\, a^{2} r^{9} + 1024 \\, a^{2} r^{8} + 64 \\, {\\left(3 \\, a^{4} + 13 \\, a^{2}\\right)} r^{7} - 32 \\, {\\left(a^{6} - 2 \\, a^{4} - 15 \\, a^{2}\\right)} r^{6} - 16 \\, {\\left(3 \\, a^{6} + 10 \\, a^{4} - 13 \\, a^{2}\\right)} r^{5} + 64 \\, {\\left(a^{6} - 2 \\, a^{4} + a^{2}\\right)} r^{4} - 12 \\, {\\left(a^{8} - 3 \\, a^{6} + 3 \\, a^{4} - a^{2}\\right)} r^{3} + {\\left(a^{10} - 4 \\, a^{8} + 6 \\, a^{6} - 4 \\, a^{4} + a^{2}\\right)} r^{2}\\right)} y^{2} - 6 \\, a^{2} - 24 \\, {\\left(a^{10} - 5 \\, a^{8} + 10 \\, a^{6} - 10 \\, a^{4} + 5 \\, a^{2} - 1\\right)} r + 1\\right)} \\sqrt{16 \\, a^{2} r^{2} y^{2} + a^{4} + 16 \\, r^{4} - 8 \\, {\\left(a^{2} - 3\\right)} r^{2} + 32 \\, r^{3} - 2 \\, a^{2} - 8 \\, {\\left(a^{2} - 1\\right)} r + 1}} \\\\ K_{ \\, y \\, {\\phi} }^{ \\phantom{\\, y}\\phantom{\\, {\\phi}} } & = & -\\frac{128 \\, \\sqrt{a^{8} + 256 \\, r^{8} + 1024 \\, r^{7} - 4 \\, a^{6} + 256 \\, {\\left(a^{2} + 7\\right)} r^{5} + 1792 \\, r^{6} - 32 \\, {\\left(a^{4} + 2 \\, a^{2} - 35\\right)} r^{4} + 6 \\, a^{4} - 64 \\, {\\left(a^{4} + 6 \\, a^{2} - 7\\right)} r^{3} + 112 \\, {\\left(a^{4} - 2 \\, a^{2} + 1\\right)} r^{2} + 16 \\, {\\left(16 \\, a^{2} r^{6} + 8 \\, {\\left(a^{4} - a^{2}\\right)} r^{4} + {\\left(a^{6} - 2 \\, a^{4} + a^{2}\\right)} r^{2}\\right)} y^{2} - 4 \\, a^{2} - 16 \\, {\\left(a^{6} - 3 \\, a^{4} + 3 \\, a^{2} - 1\\right)} r + 1} {\\left({\\left(16 \\, a^{3} r^{7} + 16 \\, a^{3} r^{6} + 4 \\, {\\left(a^{5} - a^{3}\\right)} r^{4} - {\\left(a^{7} - 2 \\, a^{5} + a^{3}\\right)} r^{3}\\right)} y^{3} - {\\left(16 \\, a^{3} r^{7} + 16 \\, a^{3} r^{6} + 4 \\, {\\left(a^{5} - a^{3}\\right)} r^{4} - {\\left(a^{7} - 2 \\, a^{5} + a^{3}\\right)} r^{3}\\right)} y\\right)}}{{\\left(a^{12} + 4096 \\, r^{12} - 2048 \\, {\\left(a^{2} - 33\\right)} r^{10} + 24576 \\, r^{11} - 6 \\, a^{10} - 2048 \\, {\\left(3 \\, a^{2} - 55\\right)} r^{9} - 256 \\, {\\left(a^{4} + 62 \\, a^{2} - 495\\right)} r^{8} + 15 \\, a^{8} - 1024 \\, {\\left(3 \\, a^{4} + 32 \\, a^{2} - 99\\right)} r^{7} + 256 \\, {\\left(a^{6} - 3 \\, a^{4} - 165 \\, a^{2} + 231\\right)} r^{6} - 20 \\, a^{6} + 256 \\, {\\left(3 \\, a^{6} + 29 \\, a^{4} - 131 \\, a^{2} + 99\\right)} r^{5} - 16 \\, {\\left(a^{8} + 60 \\, a^{6} - 618 \\, a^{4} + 1052 \\, a^{2} - 495\\right)} r^{4} + 256 \\, {\\left(16 \\, a^{4} r^{8} + 8 \\, {\\left(a^{6} - a^{4}\\right)} r^{6} + {\\left(a^{8} - 2 \\, a^{6} + a^{4}\\right)} r^{4}\\right)} y^{4} + 15 \\, a^{4} + 32 \\, {\\left(3 \\, a^{8} - 64 \\, a^{6} + 174 \\, a^{4} - 168 \\, a^{2} + 55\\right)} r^{3} - 8 \\, {\\left(a^{10} - 37 \\, a^{8} + 138 \\, a^{6} - 202 \\, a^{4} + 133 \\, a^{2} - 33\\right)} r^{2} + 32 \\, {\\left(256 \\, a^{2} r^{10} + 768 \\, a^{2} r^{9} + 1024 \\, a^{2} r^{8} + 64 \\, {\\left(3 \\, a^{4} + 13 \\, a^{2}\\right)} r^{7} - 32 \\, {\\left(a^{6} - 2 \\, a^{4} - 15 \\, a^{2}\\right)} r^{6} - 16 \\, {\\left(3 \\, a^{6} + 10 \\, a^{4} - 13 \\, a^{2}\\right)} r^{5} + 64 \\, {\\left(a^{6} - 2 \\, a^{4} + a^{2}\\right)} r^{4} - 12 \\, {\\left(a^{8} - 3 \\, a^{6} + 3 \\, a^{4} - a^{2}\\right)} r^{3} + {\\left(a^{10} - 4 \\, a^{8} + 6 \\, a^{6} - 4 \\, a^{4} + a^{2}\\right)} r^{2}\\right)} y^{2} - 6 \\, a^{2} - 24 \\, {\\left(a^{10} - 5 \\, a^{8} + 10 \\, a^{6} - 10 \\, a^{4} + 5 \\, a^{2} - 1\\right)} r + 1\\right)} \\sqrt{16 \\, a^{2} r^{2} y^{2} + a^{4} + 16 \\, r^{4} - 8 \\, {\\left(a^{2} - 3\\right)} r^{2} + 32 \\, r^{3} - 2 \\, a^{2} - 8 \\, {\\left(a^{2} - 1\\right)} r + 1}} \\end{array}\\)</html>"
      ],
      "text/latex": [
       "$\\displaystyle \\begin{array}{lcl} K_{ \\, r \\, {\\phi} }^{ \\phantom{\\, r}\\phantom{\\, {\\phi}} } & = & \\frac{4 \\, {\\left(3 \\, a^{9} + 768 \\, a r^{8} + 3072 \\, a r^{7} - 12 \\, a^{7} - 256 \\, {\\left(2 \\, a^{3} - 21 \\, a\\right)} r^{6} - 1792 \\, {\\left(a^{3} - 3 \\, a\\right)} r^{5} + 18 \\, a^{5} + 32 \\, {\\left(5 \\, a^{5} - 78 \\, a^{3} + 105 \\, a\\right)} r^{4} - 16 \\, {\\left(16 \\, a^{3} r^{6} + 32 \\, a^{3} r^{5} - 24 \\, {\\left(a^{5} - a^{3}\\right)} r^{4} - 8 \\, {\\left(a^{5} - a^{3}\\right)} r^{3} + {\\left(a^{7} - 2 \\, a^{5} + a^{3}\\right)} r^{2}\\right)} y^{4} + 448 \\, {\\left(a^{5} - 4 \\, a^{3} + 3 \\, a\\right)} r^{3} - 12 \\, a^{3} - 16 \\, {\\left(2 \\, a^{7} - 25 \\, a^{5} + 44 \\, a^{3} - 21 \\, a\\right)} r^{2} - {\\left(3 \\, a^{9} + 768 \\, a r^{8} + 3072 \\, a r^{7} - 12 \\, a^{7} - 768 \\, {\\left(a^{3} - 7 \\, a\\right)} r^{6} - 768 \\, {\\left(3 \\, a^{3} - 7 \\, a\\right)} r^{5} + 18 \\, a^{5} + 32 \\, {\\left(17 \\, a^{5} - 90 \\, a^{3} + 105 \\, a\\right)} r^{4} + 192 \\, {\\left(3 \\, a^{5} - 10 \\, a^{3} + 7 \\, a\\right)} r^{3} - 12 \\, a^{3} - 48 \\, {\\left(a^{7} - 9 \\, a^{5} + 15 \\, a^{3} - 7 \\, a\\right)} r^{2} - 48 \\, {\\left(a^{7} - 3 \\, a^{5} + 3 \\, a^{3} - a\\right)} r + 3 \\, a\\right)} y^{2} - 48 \\, {\\left(a^{7} - 3 \\, a^{5} + 3 \\, a^{3} - a\\right)} r + 3 \\, a\\right)} \\sqrt{a^{8} + 256 \\, r^{8} + 1024 \\, r^{7} - 4 \\, a^{6} + 256 \\, {\\left(a^{2} + 7\\right)} r^{5} + 1792 \\, r^{6} - 32 \\, {\\left(a^{4} + 2 \\, a^{2} - 35\\right)} r^{4} + 6 \\, a^{4} - 64 \\, {\\left(a^{4} + 6 \\, a^{2} - 7\\right)} r^{3} + 112 \\, {\\left(a^{4} - 2 \\, a^{2} + 1\\right)} r^{2} + 16 \\, {\\left(16 \\, a^{2} r^{6} + 8 \\, {\\left(a^{4} - a^{2}\\right)} r^{4} + {\\left(a^{6} - 2 \\, a^{4} + a^{2}\\right)} r^{2}\\right)} y^{2} - 4 \\, a^{2} - 16 \\, {\\left(a^{6} - 3 \\, a^{4} + 3 \\, a^{2} - 1\\right)} r + 1}}{{\\left(a^{12} + 4096 \\, r^{12} - 2048 \\, {\\left(a^{2} - 33\\right)} r^{10} + 24576 \\, r^{11} - 6 \\, a^{10} - 2048 \\, {\\left(3 \\, a^{2} - 55\\right)} r^{9} - 256 \\, {\\left(a^{4} + 62 \\, a^{2} - 495\\right)} r^{8} + 15 \\, a^{8} - 1024 \\, {\\left(3 \\, a^{4} + 32 \\, a^{2} - 99\\right)} r^{7} + 256 \\, {\\left(a^{6} - 3 \\, a^{4} - 165 \\, a^{2} + 231\\right)} r^{6} - 20 \\, a^{6} + 256 \\, {\\left(3 \\, a^{6} + 29 \\, a^{4} - 131 \\, a^{2} + 99\\right)} r^{5} - 16 \\, {\\left(a^{8} + 60 \\, a^{6} - 618 \\, a^{4} + 1052 \\, a^{2} - 495\\right)} r^{4} + 256 \\, {\\left(16 \\, a^{4} r^{8} + 8 \\, {\\left(a^{6} - a^{4}\\right)} r^{6} + {\\left(a^{8} - 2 \\, a^{6} + a^{4}\\right)} r^{4}\\right)} y^{4} + 15 \\, a^{4} + 32 \\, {\\left(3 \\, a^{8} - 64 \\, a^{6} + 174 \\, a^{4} - 168 \\, a^{2} + 55\\right)} r^{3} - 8 \\, {\\left(a^{10} - 37 \\, a^{8} + 138 \\, a^{6} - 202 \\, a^{4} + 133 \\, a^{2} - 33\\right)} r^{2} + 32 \\, {\\left(256 \\, a^{2} r^{10} + 768 \\, a^{2} r^{9} + 1024 \\, a^{2} r^{8} + 64 \\, {\\left(3 \\, a^{4} + 13 \\, a^{2}\\right)} r^{7} - 32 \\, {\\left(a^{6} - 2 \\, a^{4} - 15 \\, a^{2}\\right)} r^{6} - 16 \\, {\\left(3 \\, a^{6} + 10 \\, a^{4} - 13 \\, a^{2}\\right)} r^{5} + 64 \\, {\\left(a^{6} - 2 \\, a^{4} + a^{2}\\right)} r^{4} - 12 \\, {\\left(a^{8} - 3 \\, a^{6} + 3 \\, a^{4} - a^{2}\\right)} r^{3} + {\\left(a^{10} - 4 \\, a^{8} + 6 \\, a^{6} - 4 \\, a^{4} + a^{2}\\right)} r^{2}\\right)} y^{2} - 6 \\, a^{2} - 24 \\, {\\left(a^{10} - 5 \\, a^{8} + 10 \\, a^{6} - 10 \\, a^{4} + 5 \\, a^{2} - 1\\right)} r + 1\\right)} \\sqrt{16 \\, a^{2} r^{2} y^{2} + a^{4} + 16 \\, r^{4} - 8 \\, {\\left(a^{2} - 3\\right)} r^{2} + 32 \\, r^{3} - 2 \\, a^{2} - 8 \\, {\\left(a^{2} - 1\\right)} r + 1}} \\\\ K_{ \\, y \\, {\\phi} }^{ \\phantom{\\, y}\\phantom{\\, {\\phi}} } & = & -\\frac{128 \\, \\sqrt{a^{8} + 256 \\, r^{8} + 1024 \\, r^{7} - 4 \\, a^{6} + 256 \\, {\\left(a^{2} + 7\\right)} r^{5} + 1792 \\, r^{6} - 32 \\, {\\left(a^{4} + 2 \\, a^{2} - 35\\right)} r^{4} + 6 \\, a^{4} - 64 \\, {\\left(a^{4} + 6 \\, a^{2} - 7\\right)} r^{3} + 112 \\, {\\left(a^{4} - 2 \\, a^{2} + 1\\right)} r^{2} + 16 \\, {\\left(16 \\, a^{2} r^{6} + 8 \\, {\\left(a^{4} - a^{2}\\right)} r^{4} + {\\left(a^{6} - 2 \\, a^{4} + a^{2}\\right)} r^{2}\\right)} y^{2} - 4 \\, a^{2} - 16 \\, {\\left(a^{6} - 3 \\, a^{4} + 3 \\, a^{2} - 1\\right)} r + 1} {\\left({\\left(16 \\, a^{3} r^{7} + 16 \\, a^{3} r^{6} + 4 \\, {\\left(a^{5} - a^{3}\\right)} r^{4} - {\\left(a^{7} - 2 \\, a^{5} + a^{3}\\right)} r^{3}\\right)} y^{3} - {\\left(16 \\, a^{3} r^{7} + 16 \\, a^{3} r^{6} + 4 \\, {\\left(a^{5} - a^{3}\\right)} r^{4} - {\\left(a^{7} - 2 \\, a^{5} + a^{3}\\right)} r^{3}\\right)} y\\right)}}{{\\left(a^{12} + 4096 \\, r^{12} - 2048 \\, {\\left(a^{2} - 33\\right)} r^{10} + 24576 \\, r^{11} - 6 \\, a^{10} - 2048 \\, {\\left(3 \\, a^{2} - 55\\right)} r^{9} - 256 \\, {\\left(a^{4} + 62 \\, a^{2} - 495\\right)} r^{8} + 15 \\, a^{8} - 1024 \\, {\\left(3 \\, a^{4} + 32 \\, a^{2} - 99\\right)} r^{7} + 256 \\, {\\left(a^{6} - 3 \\, a^{4} - 165 \\, a^{2} + 231\\right)} r^{6} - 20 \\, a^{6} + 256 \\, {\\left(3 \\, a^{6} + 29 \\, a^{4} - 131 \\, a^{2} + 99\\right)} r^{5} - 16 \\, {\\left(a^{8} + 60 \\, a^{6} - 618 \\, a^{4} + 1052 \\, a^{2} - 495\\right)} r^{4} + 256 \\, {\\left(16 \\, a^{4} r^{8} + 8 \\, {\\left(a^{6} - a^{4}\\right)} r^{6} + {\\left(a^{8} - 2 \\, a^{6} + a^{4}\\right)} r^{4}\\right)} y^{4} + 15 \\, a^{4} + 32 \\, {\\left(3 \\, a^{8} - 64 \\, a^{6} + 174 \\, a^{4} - 168 \\, a^{2} + 55\\right)} r^{3} - 8 \\, {\\left(a^{10} - 37 \\, a^{8} + 138 \\, a^{6} - 202 \\, a^{4} + 133 \\, a^{2} - 33\\right)} r^{2} + 32 \\, {\\left(256 \\, a^{2} r^{10} + 768 \\, a^{2} r^{9} + 1024 \\, a^{2} r^{8} + 64 \\, {\\left(3 \\, a^{4} + 13 \\, a^{2}\\right)} r^{7} - 32 \\, {\\left(a^{6} - 2 \\, a^{4} - 15 \\, a^{2}\\right)} r^{6} - 16 \\, {\\left(3 \\, a^{6} + 10 \\, a^{4} - 13 \\, a^{2}\\right)} r^{5} + 64 \\, {\\left(a^{6} - 2 \\, a^{4} + a^{2}\\right)} r^{4} - 12 \\, {\\left(a^{8} - 3 \\, a^{6} + 3 \\, a^{4} - a^{2}\\right)} r^{3} + {\\left(a^{10} - 4 \\, a^{8} + 6 \\, a^{6} - 4 \\, a^{4} + a^{2}\\right)} r^{2}\\right)} y^{2} - 6 \\, a^{2} - 24 \\, {\\left(a^{10} - 5 \\, a^{8} + 10 \\, a^{6} - 10 \\, a^{4} + 5 \\, a^{2} - 1\\right)} r + 1\\right)} \\sqrt{16 \\, a^{2} r^{2} y^{2} + a^{4} + 16 \\, r^{4} - 8 \\, {\\left(a^{2} - 3\\right)} r^{2} + 32 \\, r^{3} - 2 \\, a^{2} - 8 \\, {\\left(a^{2} - 1\\right)} r + 1}} \\end{array}$"
      ],
      "text/plain": [
       "K_r,ph = 4*(3*a^9 + 768*a*r^8 + 3072*a*r^7 - 12*a^7 - 256*(2*a^3 - 21*a)*r^6 - 1792*(a^3 - 3*a)*r^5 + 18*a^5 + 32*(5*a^5 - 78*a^3 + 105*a)*r^4 - 16*(16*a^3*r^6 + 32*a^3*r^5 - 24*(a^5 - a^3)*r^4 - 8*(a^5 - a^3)*r^3 + (a^7 - 2*a^5 + a^3)*r^2)*y^4 + 448*(a^5 - 4*a^3 + 3*a)*r^3 - 12*a^3 - 16*(2*a^7 - 25*a^5 + 44*a^3 - 21*a)*r^2 - (3*a^9 + 768*a*r^8 + 3072*a*r^7 - 12*a^7 - 768*(a^3 - 7*a)*r^6 - 768*(3*a^3 - 7*a)*r^5 + 18*a^5 + 32*(17*a^5 - 90*a^3 + 105*a)*r^4 + 192*(3*a^5 - 10*a^3 + 7*a)*r^3 - 12*a^3 - 48*(a^7 - 9*a^5 + 15*a^3 - 7*a)*r^2 - 48*(a^7 - 3*a^5 + 3*a^3 - a)*r + 3*a)*y^2 - 48*(a^7 - 3*a^5 + 3*a^3 - a)*r + 3*a)*sqrt(a^8 + 256*r^8 + 1024*r^7 - 4*a^6 + 256*(a^2 + 7)*r^5 + 1792*r^6 - 32*(a^4 + 2*a^2 - 35)*r^4 + 6*a^4 - 64*(a^4 + 6*a^2 - 7)*r^3 + 112*(a^4 - 2*a^2 + 1)*r^2 + 16*(16*a^2*r^6 + 8*(a^4 - a^2)*r^4 + (a^6 - 2*a^4 + a^2)*r^2)*y^2 - 4*a^2 - 16*(a^6 - 3*a^4 + 3*a^2 - 1)*r + 1)/((a^12 + 4096*r^12 - 2048*(a^2 - 33)*r^10 + 24576*r^11 - 6*a^10 - 2048*(3*a^2 - 55)*r^9 - 256*(a^4 + 62*a^2 - 495)*r^8 + 15*a^8 - 1024*(3*a^4 + 32*a^2 - 99)*r^7 + 256*(a^6 - 3*a^4 - 165*a^2 + 231)*r^6 - 20*a^6 + 256*(3*a^6 + 29*a^4 - 131*a^2 + 99)*r^5 - 16*(a^8 + 60*a^6 - 618*a^4 + 1052*a^2 - 495)*r^4 + 256*(16*a^4*r^8 + 8*(a^6 - a^4)*r^6 + (a^8 - 2*a^6 + a^4)*r^4)*y^4 + 15*a^4 + 32*(3*a^8 - 64*a^6 + 174*a^4 - 168*a^2 + 55)*r^3 - 8*(a^10 - 37*a^8 + 138*a^6 - 202*a^4 + 133*a^2 - 33)*r^2 + 32*(256*a^2*r^10 + 768*a^2*r^9 + 1024*a^2*r^8 + 64*(3*a^4 + 13*a^2)*r^7 - 32*(a^6 - 2*a^4 - 15*a^2)*r^6 - 16*(3*a^6 + 10*a^4 - 13*a^2)*r^5 + 64*(a^6 - 2*a^4 + a^2)*r^4 - 12*(a^8 - 3*a^6 + 3*a^4 - a^2)*r^3 + (a^10 - 4*a^8 + 6*a^6 - 4*a^4 + a^2)*r^2)*y^2 - 6*a^2 - 24*(a^10 - 5*a^8 + 10*a^6 - 10*a^4 + 5*a^2 - 1)*r + 1)*sqrt(16*a^2*r^2*y^2 + a^4 + 16*r^4 - 8*(a^2 - 3)*r^2 + 32*r^3 - 2*a^2 - 8*(a^2 - 1)*r + 1)) \n",
       "K_y,ph = -128*sqrt(a^8 + 256*r^8 + 1024*r^7 - 4*a^6 + 256*(a^2 + 7)*r^5 + 1792*r^6 - 32*(a^4 + 2*a^2 - 35)*r^4 + 6*a^4 - 64*(a^4 + 6*a^2 - 7)*r^3 + 112*(a^4 - 2*a^2 + 1)*r^2 + 16*(16*a^2*r^6 + 8*(a^4 - a^2)*r^4 + (a^6 - 2*a^4 + a^2)*r^2)*y^2 - 4*a^2 - 16*(a^6 - 3*a^4 + 3*a^2 - 1)*r + 1)*((16*a^3*r^7 + 16*a^3*r^6 + 4*(a^5 - a^3)*r^4 - (a^7 - 2*a^5 + a^3)*r^3)*y^3 - (16*a^3*r^7 + 16*a^3*r^6 + 4*(a^5 - a^3)*r^4 - (a^7 - 2*a^5 + a^3)*r^3)*y)/((a^12 + 4096*r^12 - 2048*(a^2 - 33)*r^10 + 24576*r^11 - 6*a^10 - 2048*(3*a^2 - 55)*r^9 - 256*(a^4 + 62*a^2 - 495)*r^8 + 15*a^8 - 1024*(3*a^4 + 32*a^2 - 99)*r^7 + 256*(a^6 - 3*a^4 - 165*a^2 + 231)*r^6 - 20*a^6 + 256*(3*a^6 + 29*a^4 - 131*a^2 + 99)*r^5 - 16*(a^8 + 60*a^6 - 618*a^4 + 1052*a^2 - 495)*r^4 + 256*(16*a^4*r^8 + 8*(a^6 - a^4)*r^6 + (a^8 - 2*a^6 + a^4)*r^4)*y^4 + 15*a^4 + 32*(3*a^8 - 64*a^6 + 174*a^4 - 168*a^2 + 55)*r^3 - 8*(a^10 - 37*a^8 + 138*a^6 - 202*a^4 + 133*a^2 - 33)*r^2 + 32*(256*a^2*r^10 + 768*a^2*r^9 + 1024*a^2*r^8 + 64*(3*a^4 + 13*a^2)*r^7 - 32*(a^6 - 2*a^4 - 15*a^2)*r^6 - 16*(3*a^6 + 10*a^4 - 13*a^2)*r^5 + 64*(a^6 - 2*a^4 + a^2)*r^4 - 12*(a^8 - 3*a^6 + 3*a^4 - a^2)*r^3 + (a^10 - 4*a^8 + 6*a^6 - 4*a^4 + a^2)*r^2)*y^2 - 6*a^2 - 24*(a^10 - 5*a^8 + 10*a^6 - 10*a^4 + 5*a^2 - 1)*r + 1)*sqrt(16*a^2*r^2*y^2 + a^4 + 16*r^4 - 8*(a^2 - 3)*r^2 + 32*r^3 - 2*a^2 - 8*(a^2 - 1)*r + 1)) "
      ]
     },
     "execution_count": 17,
     "metadata": {},
     "output_type": "execute_result"
    }
   ],
   "source": [
    "K.display_comp(only_nonredundant=True)"
   ]
  },
  {
   "cell_type": "markdown",
   "metadata": {},
   "source": [
    "<p>The type-(1,1) tensor $K^\\sharp$ of components $K^i_{\\ \\, j} = \\gamma^{ik} K_{kj}$:</p>"
   ]
  },
  {
   "cell_type": "code",
   "execution_count": 18,
   "metadata": {},
   "outputs": [
    {
     "name": "stdout",
     "output_type": "stream",
     "text": [
      "Tensor field of type (1,1) on the 3-dimensional Riemannian manifold Sigma\n"
     ]
    }
   ],
   "source": [
    "Ku = K.up(gam, 0)\n",
    "print(Ku)"
   ]
  },
  {
   "cell_type": "markdown",
   "metadata": {},
   "source": [
    "<p>We may check that the hypersurface $\\Sigma$ is maximal, i.e. that $K^k_{\\ \\, k} = 0$:</p>"
   ]
  },
  {
   "cell_type": "code",
   "execution_count": 19,
   "metadata": {},
   "outputs": [
    {
     "name": "stdout",
     "output_type": "stream",
     "text": [
      "Scalar field zero on the 3-dimensional Riemannian manifold Sigma\n"
     ]
    },
    {
     "data": {
      "text/html": [
       "<html>\\(\\displaystyle \\begin{array}{llcl} 0:& \\Sigma & \\longrightarrow & \\mathbb{R} \\\\ & \\left(r, y, {\\phi}\\right) & \\longmapsto & 0 \\end{array}\\)</html>"
      ],
      "text/latex": [
       "$\\displaystyle \\begin{array}{llcl} 0:& \\Sigma & \\longrightarrow & \\mathbb{R} \\\\ & \\left(r, y, {\\phi}\\right) & \\longmapsto & 0 \\end{array}$"
      ],
      "text/plain": [
       "zero: Sigma → ℝ\n",
       "   (r, y, ph) ↦ 0"
      ]
     },
     "execution_count": 19,
     "metadata": {},
     "output_type": "execute_result"
    }
   ],
   "source": [
    "trK = Ku.trace()\n",
    "print(trK)\n",
    "trK.display()"
   ]
  },
  {
   "cell_type": "markdown",
   "metadata": {},
   "source": [
    "<h3>Connection and curvature</h3>\n",
    "<p>Let us call $D$ the Levi-Civita connection associated with $\\gamma$: </p>"
   ]
  },
  {
   "cell_type": "code",
   "execution_count": 20,
   "metadata": {},
   "outputs": [
    {
     "name": "stdout",
     "output_type": "stream",
     "text": [
      "Levi-Civita connection D associated with the Riemannian metric gam on the 3-dimensional Riemannian manifold Sigma\n"
     ]
    }
   ],
   "source": [
    "D = gam.connection(name='D')\n",
    "print(D)"
   ]
  },
  {
   "cell_type": "markdown",
   "metadata": {},
   "source": [
    "<p>The Ricci tensor associated with $\\gamma$:</p>"
   ]
  },
  {
   "cell_type": "code",
   "execution_count": 21,
   "metadata": {},
   "outputs": [
    {
     "name": "stdout",
     "output_type": "stream",
     "text": [
      "Field of symmetric bilinear forms Ric(gam) on the 3-dimensional Riemannian manifold Sigma\n"
     ]
    }
   ],
   "source": [
    "Ric = gam.ricci()\n",
    "print(Ric)"
   ]
  },
  {
   "cell_type": "markdown",
   "metadata": {},
   "source": [
    "<p>The scalar curvature $R = \\gamma^{ij} R_{ij}$:</p>"
   ]
  },
  {
   "cell_type": "code",
   "execution_count": 22,
   "metadata": {},
   "outputs": [
    {
     "name": "stdout",
     "output_type": "stream",
     "text": [
      "Scalar field R on the 3-dimensional Riemannian manifold Sigma\n"
     ]
    }
   ],
   "source": [
    "R = gam.ricci_scalar(name='R')\n",
    "print(R)"
   ]
  },
  {
   "cell_type": "markdown",
   "metadata": {},
   "source": [
    "The coordinate expression of the scalar curvature is quite long:"
   ]
  },
  {
   "cell_type": "code",
   "execution_count": 23,
   "metadata": {},
   "outputs": [
    {
     "name": "stdout",
     "output_type": "stream",
     "text": [
      "8192*(589824*a^2*r^22 + 4718592*a^2*r^21 - 393216*(2*a^4 - 45*a^2)*r^20 - 5898240*(a^4 - 7*a^2)*r^19 + 16384*(31*a^6 - 1242*a^4 + 4095*a^2)*r^18 + 32768*(107*a^6 - 1308*a^4 + 2457*a^2)*r^17 - 8192*(26*a^8 - 1325*a^6 + 7524*a^4 - 9009*a^2)*r^16 - 8192*(159*a^8 - 2441*a^6 + 7821*a^4 - 6435*a^2)*r^15 + 512*(123*a^10 - 6780*a^8 + 47810*a^6 - 97020*a^4 + 57915*a^2)*r^14 + 2048*(159*a^10 - 2600*a^8 + 10262*a^6 - 14256*a^4 + 6435*a^2)*r^13 - 512*(26*a^12 - 1377*a^10 + 10200*a^8 - 25382*a^6 + 25542*a^4 - 9009*a^2)*r^12 - 512*(107*a^12 - 1629*a^10 + 6702*a^8 - 11402*a^6 + 8679*a^4 - 2457*a^2)*r^11 + 64*(31*a^14 - 1366*a^12 + 9249*a^10 - 23956*a^8 + 29569*a^6 - 17622*a^4 + 4095*a^2)*r^10 + 5760*(a^14 - 12*a^12 + 45*a^10 - 80*a^8 + 75*a^6 - 36*a^4 + 7*a^2)*r^9 - 96*(2*a^16 - 57*a^14 + 300*a^12 - 715*a^10 + 930*a^8 - 687*a^6 + 272*a^4 - 45*a^2)*r^8 - 288*(a^16 - 7*a^14 + 21*a^12 - 35*a^10 + 35*a^8 - 21*a^6 + 7*a^4 - a^2)*r^7 + 9*(a^18 - 8*a^16 + 28*a^14 - 56*a^12 + 70*a^10 - 56*a^8 + 28*a^6 - 8*a^4 + a^2)*r^6 + 256*(768*a^6*r^18 + 1024*a^6*r^17 + 768*(a^8 - a^6)*r^16 + 2304*(a^8 - a^6)*r^15 - 32*(23*a^10 - 78*a^8 + 55*a^6)*r^14 - 576*(a^10 - 2*a^8 + a^6)*r^13 + 48*(a^12 - 3*a^10 + 3*a^8 - a^6)*r^12 - 16*(a^12 - 3*a^10 + 3*a^8 - a^6)*r^11 + 3*(a^14 - 4*a^12 + 6*a^10 - 4*a^8 + a^6)*r^10)*y^6 - 32*(12288*a^4*r^20 + 73728*a^4*r^19 - 6144*(2*a^6 - 33*a^4)*r^18 - 2048*(49*a^6 - 165*a^4)*r^17 + 256*(85*a^8 - 1026*a^6 + 1485*a^4)*r^16 + 1024*(83*a^8 - 348*a^6 + 297*a^4)*r^15 - 256*(46*a^10 - 513*a^8 + 1160*a^6 - 693*a^4)*r^14 - 256*(83*a^10 - 431*a^8 + 645*a^6 - 297*a^4)*r^13 + 16*(85*a^12 - 1196*a^10 + 3622*a^8 - 3996*a^6 + 1485*a^4)*r^12 + 32*(49*a^12 - 312*a^10 + 642*a^8 - 544*a^6 + 165*a^4)*r^11 - 24*(2*a^14 - 41*a^12 + 144*a^10 - 206*a^8 + 134*a^6 - 33*a^4)*r^10 - 72*(a^14 - 5*a^12 + 10*a^10 - 10*a^8 + 5*a^6 - a^4)*r^9 + 3*(a^16 - 6*a^14 + 15*a^12 - 20*a^10 + 15*a^8 - 6*a^6 + a^4)*r^8)*y^4 - (589824*a^2*r^22 + 4718592*a^2*r^21 - 1179648*(a^4 - 15*a^2)*r^20 - 8257536*(a^4 - 5*a^2)*r^19 + 16384*(67*a^6 - 1638*a^4 + 4095*a^2)*r^18 + 98304*(71*a^6 - 546*a^4 + 819*a^2)*r^17 - 8192*(87*a^8 - 2327*a^6 + 9009*a^4 - 9009*a^2)*r^16 - 8192*(419*a^8 - 3761*a^6 + 9009*a^4 - 6435*a^2)*r^15 + 512*(491*a^10 - 13740*a^8 + 65490*a^6 - 108108*a^4 + 57915*a^2)*r^14 + 2048*(419*a^10 - 4180*a^8 + 12770*a^6 - 15444*a^4 + 6435*a^2)*r^13 - 512*(87*a^12 - 2501*a^10 + 13750*a^8 - 29354*a^6 + 27027*a^4 - 9009*a^2)*r^12 - 1536*(71*a^12 - 759*a^10 + 2670*a^8 - 4166*a^6 + 3003*a^4 - 819*a^2)*r^11 + 64*(67*a^14 - 1906*a^12 + 11049*a^10 - 26476*a^8 + 31189*a^6 - 18018*a^4 + 4095*a^2)*r^10 + 8064*(a^14 - 10*a^12 + 35*a^10 - 60*a^8 + 55*a^6 - 26*a^4 + 5*a^2)*r^9 - 288*(a^16 - 21*a^14 + 105*a^12 - 245*a^10 + 315*a^8 - 231*a^6 + 91*a^4 - 15*a^2)*r^8 - 288*(a^16 - 7*a^14 + 21*a^12 - 35*a^10 + 35*a^8 - 21*a^6 + 7*a^4 - a^2)*r^7 + 9*(a^18 - 8*a^16 + 28*a^14 - 56*a^12 + 70*a^10 - 56*a^8 + 28*a^6 - 8*a^4 + a^2)*r^6)*y^2)/(a^28 + 268435456*r^28 - 402653184*(a^2 - 63)*r^26 + 3758096384*r^27 - 14*a^26 - 939524096*(5*a^2 - 117)*r^25 + 16777216*(11*a^4 - 1638*a^2 + 20475)*r^24 + 91*a^24 + 201326592*(7*a^4 - 534*a^2 + 4095)*r^23 + 16777216*(a^6 + 375*a^4 - 18753*a^2 + 94185)*r^22 - 364*a^22 + 16777216*(35*a^6 + 1423*a^4 - 43351*a^2 + 148005)*r^21 - 1048576*(39*a^8 - 2956*a^6 - 76134*a^4 + 1303764*a^2 - 3108105)*r^20 + 1001*a^20 - 2097152*(203*a^8 - 3292*a^6 - 104366*a^4 + 1013188*a^2 - 1726725)*r^19 + 524288*(19*a^10 - 2745*a^8 + 5286*a^6 + 905382*a^4 - 5265337*a^2 + 6561555)*r^18 - 2002*a^18 + 524288*(63*a^10 - 5019*a^8 - 56714*a^6 + 1553610*a^4 - 5762757*a^2 + 5368545)*r^17 + 65536*(27*a^12 - 1346*a^10 - 31755*a^8 - 1666396*a^6 + 17081941*a^4 - 42756802*a^2 + 30421755)*r^16 + 3003*a^16 + 524288*(63*a^12 - 434*a^10 + 10297*a^8 - 430748*a^6 + 2381633*a^4 - 4219026*a^2 + 2340135)*r^15 - 131072*(9*a^14 - 917*a^12 + 945*a^10 - 200277*a^8 + 2525523*a^6 - 8718567*a^4 + 11375091*a^2 - 5014575)*r^14 - 3432*a^14 - 131072*(63*a^14 - 497*a^12 + 10731*a^10 - 441045*a^8 + 2812381*a^6 - 6600659*a^4 + 6559161*a^2 - 2340135)*r^13 + 4096*(27*a^16 - 1400*a^14 - 29036*a^12 - 1604232*a^10 + 20382978*a^8 - 78587080*a^6 + 133017300*a^4 - 103600312*a^2 + 30421755)*r^12 + 3003*a^12 - 8192*(63*a^16 - 5208*a^14 - 41468*a^12 + 1708632*a^10 - 10588710*a^8 + 27374360*a^6 - 34947516*a^4 + 21868392*a^2 - 5368545)*r^11 + 2048*(19*a^18 - 2821*a^16 + 16380*a^14 + 867692*a^12 - 8844150*a^10 + 33031306*a^8 - 61454484*a^6 + 61336060*a^4 - 31511557*a^2 + 6561555)*r^10 + 1048576*(256*a^10*r^18 + 256*(a^12 - a^10)*r^16 + 96*(a^14 - 2*a^12 + a^10)*r^14 + 16*(a^16 - 3*a^14 + 3*a^12 - a^10)*r^12 + (a^18 - 4*a^16 + 6*a^14 - 4*a^12 + a^10)*r^10)*y^10 - 2002*a^10 + 2048*(203*a^18 - 4307*a^16 - 85876*a^14 + 1500068*a^12 - 7802390*a^10 + 19792502*a^8 - 27917668*a^6 + 22437556*a^4 - 9646813*a^2 + 1726725)*r^9 - 256*(39*a^20 - 3190*a^18 - 57813*a^16 + 1715448*a^14 - 12012994*a^12 + 39683196*a^10 - 73821090*a^8 + 82172408*a^6 - 54520293*a^4 + 19952394*a^2 - 3108105)*r^8 + 65536*(20480*a^8*r^20 + 57344*a^8*r^19 + 2048*(5*a^10 + 29*a^8)*r^18 + 2048*(21*a^10 + 11*a^8)*r^17 - 256*(5*a^12 - 154*a^10 + 21*a^8)*r^16 + 1024*(7*a^12 + 2*a^10 - 9*a^8)*r^15 - 256*(5*a^14 - 53*a^12 + 27*a^10 + 21*a^8)*r^14 - 256*(7*a^14 - 5*a^12 - 11*a^10 + 9*a^8)*r^13 - 16*(5*a^16 - 164*a^14 + 334*a^12 - 196*a^10 + 21*a^8)*r^12 - 32*(21*a^16 - 52*a^14 + 30*a^12 + 12*a^10 - 11*a^8)*r^11 + 8*(5*a^18 + 9*a^16 - 86*a^14 + 154*a^12 - 111*a^10 + 29*a^8)*r^10 - 56*(a^18 - 5*a^16 + 10*a^14 - 10*a^12 + 5*a^10 - a^8)*r^9 + 5*(a^20 - 6*a^18 + 15*a^16 - 20*a^14 + 15*a^12 - 6*a^10 + a^8)*r^8)*y^8 + 1001*a^8 - 1024*(35*a^20 + 1178*a^18 - 52577*a^16 + 480120*a^14 - 1994986*a^12 + 4674460*a^10 - 6727098*a^8 + 6100472*a^6 - 3412985*a^4 + 1079386*a^2 - 148005)*r^7 + 256*(a^22 + 367*a^20 - 21725*a^18 + 254653*a^16 - 1299494*a^14 + 3713542*a^12 - 6608042*a^10 + 7653610*a^8 - 5802443*a^6 + 2787579*a^4 - 772233*a^2 + 94185)*r^6 + 8192*(327680*a^6*r^22 + 1835008*a^6*r^21 + 4718592*a^6*r^20 + 65536*(7*a^8 + 113*a^6)*r^19 - 16384*(5*a^10 - 90*a^8 - 487*a^6)*r^18 - 49152*(7*a^10 - 38*a^8 - 129*a^6)*r^17 - 32768*(9*a^10 - 32*a^8 - 121*a^6)*r^16 - 4096*(21*a^12 - 15*a^10 - a^8 - 517*a^6)*r^15 + 512*(15*a^14 - 380*a^12 + 234*a^10 - 924*a^8 + 2079*a^6)*r^14 + 1024*(21*a^14 - 36*a^12 + 14*a^10 - 516*a^8 + 517*a^6)*r^13 - 2048*(9*a^14 - 50*a^12 - 48*a^10 + 210*a^8 - 121*a^6)*r^12 + 768*(7*a^16 - 59*a^14 + 6*a^12 + 266*a^10 - 349*a^8 + 129*a^6)*r^11 - 64*(5*a^18 - 110*a^16 - 97*a^14 + 1388*a^12 - 2557*a^10 + 1858*a^8 - 487*a^6)*r^10 - 64*(7*a^18 + 78*a^16 - 495*a^14 + 1060*a^12 - 1095*a^10 + 558*a^8 - 113*a^6)*r^9 + 1152*(a^18 - 6*a^16 + 15*a^14 - 20*a^12 + 15*a^10 - 6*a^8 + a^6)*r^8 - 112*(a^20 - 7*a^18 + 21*a^16 - 35*a^14 + 35*a^12 - 21*a^10 + 7*a^8 - a^6)*r^7 + 5*(a^22 - 8*a^20 + 28*a^18 - 56*a^16 + 70*a^14 - 56*a^12 + 28*a^10 - 8*a^8 + a^6)*r^6)*y^6 - 364*a^6 - 768*(7*a^22 - 597*a^20 + 9153*a^18 - 56667*a^16 + 193158*a^14 - 412146*a^12 + 583842*a^10 - 561078*a^8 + 363267*a^6 - 152233*a^4 + 37389*a^2 - 4095)*r^5 + 16*(11*a^24 - 1748*a^22 + 37350*a^20 - 279780*a^18 + 1120245*a^16 - 2803752*a^14 + 4714836*a^12 - 5505000*a^10 + 4496805*a^8 - 2530820*a^6 + 937766*a^4 - 206388*a^2 + 20475)*r^4 + 512*(5242880*a^4*r^24 + 44040192*a^4*r^23 - 2621440*(a^6 - 67*a^4)*r^22 - 524288*(21*a^6 - 845*a^4)*r^21 - 196608*(5*a^8 + 118*a^6 - 4043*a^4)*r^20 - 524288*(21*a^8 + 88*a^6 - 2065*a^4)*r^19 + 131072*(5*a^10 - 249*a^8 - 801*a^6 + 8909*a^4)*r^18 + 393216*(7*a^10 - 115*a^8 - 523*a^6 + 2615*a^4)*r^17 + 8192*(5*a^12 + 172*a^10 - 3354*a^8 - 36964*a^6 + 92365*a^4)*r^16 + 49152*(21*a^12 - 48*a^10 + 322*a^8 - 6856*a^6 + 9633*a^4)*r^15 - 12288*(5*a^14 - 227*a^12 + 170*a^10 - 5054*a^8 + 23793*a^6 - 20735*a^4)*r^14 - 12288*(21*a^14 - 69*a^12 + 370*a^10 - 7178*a^8 + 16489*a^6 - 9633*a^4)*r^13 + 512*(5*a^16 + 162*a^14 - 3693*a^12 - 30084*a^10 + 162939*a^8 - 221694*a^6 + 92365*a^4)*r^12 - 6144*(7*a^16 - 136*a^14 - 157*a^12 + 3832*a^10 - 9299*a^8 + 8368*a^6 - 2615*a^4)*r^11 + 512*(5*a^18 - 269*a^16 + 225*a^14 + 10599*a^12 - 39441*a^10 + 56409*a^8 - 36437*a^6 + 8909*a^4)*r^10 + 512*(21*a^18 - 17*a^16 - 2295*a^14 + 10995*a^12 - 21425*a^10 + 21069*a^8 - 10413*a^6 + 2065*a^4)*r^9 - 48*(5*a^20 + 88*a^18 - 4676*a^16 + 25928*a^14 - 62930*a^12 + 82600*a^10 - 61348*a^8 + 24376*a^6 - 4043*a^4)*r^8 + 32*(21*a^20 - 992*a^18 + 6356*a^16 - 18480*a^14 + 30310*a^12 - 30016*a^10 + 17892*a^8 - 5936*a^6 + 845*a^4)*r^7 - 40*(a^22 - 75*a^20 + 564*a^18 - 1932*a^16 + 3822*a^14 - 4746*a^12 + 3780*a^10 - 1884*a^8 + 537*a^6 - 67*a^4)*r^6 - 168*(a^22 - 9*a^20 + 36*a^18 - 84*a^16 + 126*a^14 - 126*a^12 + 84*a^10 - 36*a^8 + 9*a^6 - a^4)*r^5 + 5*(a^24 - 10*a^22 + 45*a^20 - 120*a^18 + 210*a^16 - 252*a^14 + 210*a^12 - 120*a^10 + 45*a^8 - 10*a^6 + a^4)*r^4)*y^4 + 91*a^4 + 224*(5*a^24 - 172*a^22 + 1562*a^20 - 7260*a^18 + 20955*a^16 - 40920*a^14 + 56364*a^12 - 55704*a^10 + 39435*a^8 - 19580*a^6 + 6490*a^4 - 1292*a^2 + 117)*r^3 - 24*(a^26 - 75*a^24 + 822*a^22 - 4378*a^20 + 14355*a^18 - 31977*a^16 + 50820*a^14 - 59004*a^12 + 50391*a^10 - 31405*a^8 + 13926*a^6 - 4170*a^4 + 757*a^2 - 63)*r^2 + 16*(83886080*a^2*r^26 + 939524096*a^2*r^25 - 16777216*(5*a^4 - 301*a^2)*r^24 - 33554432*(21*a^4 - 517*a^2)*r^23 + 10485760*(a^6 - 290*a^4 + 4081*a^2)*r^22 - 8388608*(7*a^6 + 1090*a^4 - 9625*a^2)*r^21 + 1048576*(15*a^8 - 421*a^6 - 20451*a^4 + 115577*a^2)*r^20 + 2097152*(77*a^8 - 391*a^6 - 19465*a^4 + 70851*a^2)*r^19 - 65536*(85*a^10 - 7764*a^8 - 7810*a^6 + 972460*a^4 - 2313003*a^2)*r^18 - 1048576*(21*a^10 - 772*a^8 - 5434*a^6 + 78060*a^4 - 124355*a^2)*r^17 - 131072*(5*a^12 - 65*a^10 - 4270*a^8 - 111522*a^6 + 661945*a^4 - 728365*a^2)*r^16 - 262144*(49*a^12 - 213*a^10 + 3042*a^8 - 89874*a^6 + 290781*a^4 - 228361*a^2)*r^15 + 16384*(35*a^14 - 2482*a^12 + 2205*a^10 - 205884*a^8 + 1687917*a^6 - 3401970*a^4 + 1969331*a^2)*r^14 + 65536*(49*a^14 - 262*a^12 + 3255*a^10 - 92916*a^8 + 380655*a^6 - 519142*a^4 + 228361*a^2)*r^13 - 8192*(5*a^16 - 75*a^14 - 4135*a^12 - 103047*a^10 + 880719*a^8 - 2163777*a^6 + 2118675*a^4 - 728365*a^2)*r^12 + 16384*(21*a^16 - 835*a^14 - 3055*a^12 + 92025*a^10 - 374065*a^8 + 612679*a^6 - 451125*a^4 + 124355*a^2)*r^11 - 256*(85*a^18 - 8104*a^16 + 23756*a^14 + 956776*a^12 - 6218562*a^10 + 15110248*a^8 - 17775668*a^6 + 10224472*a^4 - 2313003*a^2)*r^10 - 2048*(77*a^18 - 776*a^16 - 16740*a^14 + 163496*a^12 - 544610*a^10 + 901128*a^8 - 805444*a^6 + 373720*a^4 - 70851*a^2)*r^9 + 256*(15*a^20 - 511*a^18 - 17700*a^16 + 231668*a^14 - 991582*a^12 + 2136270*a^10 - 2615764*a^8 + 1855940*a^6 - 713913*a^4 + 115577*a^2)*r^8 + 512*(7*a^20 + 1041*a^18 - 17108*a^16 + 90020*a^14 - 240030*a^12 + 374878*a^10 - 359716*a^8 + 209748*a^6 - 68465*a^4 + 9625*a^2)*r^7 + 160*(a^22 - 298*a^20 + 6429*a^18 - 40824*a^16 + 130578*a^14 - 248892*a^12 + 301938*a^10 - 236664*a^8 + 116589*a^6 - 32938*a^4 + 4081*a^2)*r^6 + 128*(21*a^22 - 706*a^20 + 5409*a^18 - 20376*a^16 + 46074*a^14 - 67788*a^12 + 66906*a^10 - 44184*a^8 + 18801*a^6 - 4674*a^4 + 517*a^2)*r^5 - 16*(5*a^24 - 351*a^22 + 3235*a^20 - 14145*a^18 + 37170*a^16 - 64470*a^14 + 76902*a^12 - 63810*a^10 + 36345*a^8 - 13595*a^6 + 3015*a^4 - 301*a^2)*r^4 - 224*(a^24 - 11*a^22 + 55*a^20 - 165*a^18 + 330*a^16 - 462*a^14 + 462*a^12 - 330*a^10 + 165*a^8 - 55*a^6 + 11*a^4 - a^2)*r^3 + 5*(a^26 - 12*a^24 + 66*a^22 - 220*a^20 + 495*a^18 - 792*a^16 + 924*a^14 - 792*a^12 + 495*a^10 - 220*a^8 + 66*a^6 - 12*a^4 + a^2)*r^2)*y^2 - 14*a^2 - 56*(a^26 - 13*a^24 + 78*a^22 - 286*a^20 + 715*a^18 - 1287*a^16 + 1716*a^14 - 1716*a^12 + 1287*a^10 - 715*a^8 + 286*a^6 - 78*a^4 + 13*a^2 - 1)*r + 1)\n"
     ]
    }
   ],
   "source": [
    "print(R.expr())"
   ]
  },
  {
   "cell_type": "markdown",
   "metadata": {},
   "source": [
    "<h2>3+1 Einstein equations</h2>\n",
    "<p>Let us check that the vacuum 3+1 Einstein equations are satisfied.</p>\n",
    "<p>We start by the contraint equations:</p>\n",
    "<h3>Hamiltonian constraint</h3>\n",
    "\n",
    "<p>Let us first evaluate the term $K_{ij} K^{ij}$:</p>"
   ]
  },
  {
   "cell_type": "code",
   "execution_count": 24,
   "metadata": {},
   "outputs": [
    {
     "name": "stdout",
     "output_type": "stream",
     "text": [
      "Scalar field on the 3-dimensional Riemannian manifold Sigma\n"
     ]
    }
   ],
   "source": [
    "Kuu = Ku.up(gam, 1)\n",
    "trKK = K['_ij']*Kuu['^ij']\n",
    "print(trKK)"
   ]
  },
  {
   "cell_type": "markdown",
   "metadata": {},
   "source": [
    "The vacuum Hamiltonian constraint equation is \n",
    "$$ R + K^2 -K_{ij} K^{ij} = 0 $$"
   ]
  },
  {
   "cell_type": "code",
   "execution_count": 25,
   "metadata": {},
   "outputs": [
    {
     "name": "stdout",
     "output_type": "stream",
     "text": [
      "Scalar field on the 3-dimensional Riemannian manifold Sigma\n"
     ]
    },
    {
     "data": {
      "text/html": [
       "<html>\\(\\displaystyle \\begin{array}{llcl} & \\Sigma & \\longrightarrow & \\mathbb{R} \\\\ & \\left(r, y, {\\phi}\\right) & \\longmapsto & 0 \\end{array}\\)</html>"
      ],
      "text/latex": [
       "$\\displaystyle \\begin{array}{llcl} & \\Sigma & \\longrightarrow & \\mathbb{R} \\\\ & \\left(r, y, {\\phi}\\right) & \\longmapsto & 0 \\end{array}$"
      ],
      "text/plain": [
       "Sigma → ℝ\n",
       "(r, y, ph) ↦ 0"
      ]
     },
     "execution_count": 25,
     "metadata": {},
     "output_type": "execute_result"
    }
   ],
   "source": [
    "Ham = R + trK^2 - trKK\n",
    "print(Ham)\n",
    "Ham.display()"
   ]
  },
  {
   "cell_type": "markdown",
   "metadata": {},
   "source": [
    "Hence the Hamiltonian constraint is fulfilled. "
   ]
  },
  {
   "cell_type": "markdown",
   "metadata": {},
   "source": [
    "### Momentum constraint\n",
    "\n",
    "In vaccum, the momentum constraint is\n",
    "$$ D_j K^j_{\\ \\, i} - D_i K = 0 $$"
   ]
  },
  {
   "cell_type": "code",
   "execution_count": 26,
   "metadata": {},
   "outputs": [
    {
     "name": "stdout",
     "output_type": "stream",
     "text": [
      "1-form on the 3-dimensional Riemannian manifold Sigma\n"
     ]
    },
    {
     "data": {
      "text/html": [
       "<html>\\(\\displaystyle 0\\)</html>"
      ],
      "text/latex": [
       "$\\displaystyle 0$"
      ],
      "text/plain": [
       "0"
      ]
     },
     "execution_count": 26,
     "metadata": {},
     "output_type": "execute_result"
    }
   ],
   "source": [
    "mom = D(Ku).trace(0,2) - D(trK)\n",
    "print(mom)\n",
    "mom.display()"
   ]
  },
  {
   "cell_type": "markdown",
   "metadata": {},
   "source": [
    "Hence the momentum constraint is fulfilled. "
   ]
  },
  {
   "cell_type": "markdown",
   "metadata": {},
   "source": [
    "<h3>Dynamical Einstein equations</h3>\n",
    "<p>Let us first evaluate the symmetric bilinear form $k_{ij} := K_{ik} K^k_{\\ \\, j}$:</p>"
   ]
  },
  {
   "cell_type": "code",
   "execution_count": 27,
   "metadata": {},
   "outputs": [
    {
     "name": "stdout",
     "output_type": "stream",
     "text": [
      "Tensor field of type (0,2) on the 3-dimensional Riemannian manifold Sigma\n"
     ]
    }
   ],
   "source": [
    "KK = K['_ik']*Ku['^k_j']\n",
    "print(KK)"
   ]
  },
  {
   "cell_type": "code",
   "execution_count": 28,
   "metadata": {},
   "outputs": [
    {
     "data": {
      "text/html": [
       "<html>\\(\\displaystyle \\mathrm{True}\\)</html>"
      ],
      "text/latex": [
       "$\\displaystyle \\mathrm{True}$"
      ],
      "text/plain": [
       "True"
      ]
     },
     "execution_count": 28,
     "metadata": {},
     "output_type": "execute_result"
    }
   ],
   "source": [
    "KK1 = KK.symmetrize()\n",
    "KK == KK1"
   ]
  },
  {
   "cell_type": "code",
   "execution_count": 29,
   "metadata": {},
   "outputs": [
    {
     "name": "stdout",
     "output_type": "stream",
     "text": [
      "Field of symmetric bilinear forms on the 3-dimensional Riemannian manifold Sigma\n"
     ]
    }
   ],
   "source": [
    "KK = KK1\n",
    "print(KK)"
   ]
  },
  {
   "cell_type": "markdown",
   "metadata": {},
   "source": [
    "<p>In vacuum and for stationary spacetimes, the dynamical Einstein equations are\n",
    "$$ \\mathcal{L}_\\beta K_{ij} - D_i D_j N + N \\left( R_{ij} + K K_{ij} - 2 K_{ik} K^k_{\\ \\, j}\\right) = 0 $$"
   ]
  },
  {
   "cell_type": "code",
   "execution_count": 30,
   "metadata": {},
   "outputs": [
    {
     "name": "stdout",
     "output_type": "stream",
     "text": [
      "Tensor field of type (0,2) on the 3-dimensional Riemannian manifold Sigma\n"
     ]
    },
    {
     "data": {
      "text/html": [
       "<html>\\(\\displaystyle 0\\)</html>"
      ],
      "text/latex": [
       "$\\displaystyle 0$"
      ],
      "text/plain": [
       "0"
      ]
     },
     "execution_count": 30,
     "metadata": {},
     "output_type": "execute_result"
    }
   ],
   "source": [
    "dyn = K.lie_derivative(b) - D(D(N)) + N*( Ric + trK*K - 2*KK )\n",
    "print(dyn)\n",
    "dyn.display()"
   ]
  },
  {
   "cell_type": "markdown",
   "metadata": {},
   "source": [
    "Hence the dynamical Einstein equations are fulfilled."
   ]
  }
 ],
 "metadata": {
  "kernelspec": {
   "display_name": "SageMath 9.8.rc1",
   "language": "sage",
   "name": "sagemath"
  },
  "language": "python",
  "language_info": {
   "codemirror_mode": {
    "name": "ipython",
    "version": 3
   },
   "file_extension": ".py",
   "mimetype": "text/x-python",
   "name": "python",
   "nbconvert_exporter": "python",
   "pygments_lexer": "ipython3",
   "version": "3.10.6"
  }
 },
 "nbformat": 4,
 "nbformat_minor": 1
}
