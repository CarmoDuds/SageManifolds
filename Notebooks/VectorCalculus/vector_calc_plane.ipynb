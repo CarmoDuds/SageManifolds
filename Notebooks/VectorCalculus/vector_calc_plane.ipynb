{
 "cells": [
  {
   "cell_type": "markdown",
   "metadata": {},
   "source": [
    "# Vector calculus in the Euclidean plane\n",
    "\n",
    "This notebook illustrates some vector calculus capabilities of SageMath within the 2-dimensional Euclidean space. The corresponding tools have been developed within\n",
    "the [SageManifolds](https://sagemanifolds.obspm.fr) project.\n"
   ]
  },
  {
   "cell_type": "markdown",
   "metadata": {},
   "source": [
    "*NB:* a version of SageMath at least equal to 8.3 is required to run this notebook:"
   ]
  },
  {
   "cell_type": "code",
   "execution_count": 1,
   "metadata": {},
   "outputs": [
    {
     "data": {
      "text/plain": [
       "'SageMath version 9.8, Release Date: 2023-02-11'"
      ]
     },
     "execution_count": 1,
     "metadata": {},
     "output_type": "execute_result"
    }
   ],
   "source": [
    "version()"
   ]
  },
  {
   "cell_type": "markdown",
   "metadata": {},
   "source": [
    "First we set up the notebook to display math formulas using LaTeX formatting:"
   ]
  },
  {
   "cell_type": "code",
   "execution_count": 2,
   "metadata": {},
   "outputs": [],
   "source": [
    "%display latex"
   ]
  },
  {
   "cell_type": "markdown",
   "metadata": {},
   "source": [
    "## 1. Defining the Euclidean plane\n",
    "\n",
    "We define the Euclidean plane $\\mathbb{E}^2$ as a 2-dimensional Euclidean space, with Cartesian coordinates $(x,y)$:"
   ]
  },
  {
   "cell_type": "code",
   "execution_count": 3,
   "metadata": {},
   "outputs": [
    {
     "name": "stdout",
     "output_type": "stream",
     "text": [
      "Euclidean plane E^2\n"
     ]
    },
    {
     "data": {
      "text/html": [
       "<html>\\(\\displaystyle \\mathbb{E}^{2}\\)</html>"
      ],
      "text/latex": [
       "$\\displaystyle \\mathbb{E}^{2}$"
      ],
      "text/plain": [
       "Euclidean plane E^2"
      ]
     },
     "execution_count": 3,
     "metadata": {},
     "output_type": "execute_result"
    }
   ],
   "source": [
    "E.<x,y> = EuclideanSpace()\n",
    "print(E)\n",
    "E"
   ]
  },
  {
   "cell_type": "markdown",
   "metadata": {},
   "source": [
    "Thanks to the use of `<x,y>` in the above command, the Python variables `x` and `y` are assigned to the symbolic variables $x$ and $y$ describing the Cartesian coordinates: "
   ]
  },
  {
   "cell_type": "code",
   "execution_count": 4,
   "metadata": {},
   "outputs": [
    {
     "data": {
      "text/html": [
       "<html>\\(\\displaystyle \\verb|&lt;class|\\verb| |\\verb|'sage.symbolic.expression.Expression'>|\\)</html>"
      ],
      "text/latex": [
       "$\\displaystyle \\verb|<class|\\verb| |\\verb|'sage.symbolic.expression.Expression'>|$"
      ],
      "text/plain": [
       "<class 'sage.symbolic.expression.Expression'>"
      ]
     },
     "execution_count": 4,
     "metadata": {},
     "output_type": "execute_result"
    }
   ],
   "source": [
    "type(y)"
   ]
  },
  {
   "cell_type": "markdown",
   "metadata": {},
   "source": [
    "Instead of using the variables `x` and `y`, one may also access to the coordinates by their indices in the chart of Cartesian coordinates:"
   ]
  },
  {
   "cell_type": "code",
   "execution_count": 5,
   "metadata": {},
   "outputs": [
    {
     "data": {
      "text/html": [
       "<html>\\(\\displaystyle \\left(\\mathbb{E}^{2},(x, y)\\right)\\)</html>"
      ],
      "text/latex": [
       "$\\displaystyle \\left(\\mathbb{E}^{2},(x, y)\\right)$"
      ],
      "text/plain": [
       "Chart (E^2, (x, y))"
      ]
     },
     "execution_count": 5,
     "metadata": {},
     "output_type": "execute_result"
    }
   ],
   "source": [
    "cartesian = E.cartesian_coordinates()\n",
    "cartesian"
   ]
  },
  {
   "cell_type": "code",
   "execution_count": 6,
   "metadata": {},
   "outputs": [
    {
     "data": {
      "text/html": [
       "<html>\\(\\displaystyle x\\)</html>"
      ],
      "text/latex": [
       "$\\displaystyle x$"
      ],
      "text/plain": [
       "x"
      ]
     },
     "execution_count": 6,
     "metadata": {},
     "output_type": "execute_result"
    }
   ],
   "source": [
    "cartesian[1]"
   ]
  },
  {
   "cell_type": "code",
   "execution_count": 7,
   "metadata": {},
   "outputs": [
    {
     "data": {
      "text/html": [
       "<html>\\(\\displaystyle y\\)</html>"
      ],
      "text/latex": [
       "$\\displaystyle y$"
      ],
      "text/plain": [
       "y"
      ]
     },
     "execution_count": 7,
     "metadata": {},
     "output_type": "execute_result"
    }
   ],
   "source": [
    "cartesian[2]"
   ]
  },
  {
   "cell_type": "code",
   "execution_count": 8,
   "metadata": {},
   "outputs": [
    {
     "data": {
      "text/html": [
       "<html>\\(\\displaystyle \\mathrm{True}\\)</html>"
      ],
      "text/latex": [
       "$\\displaystyle \\mathrm{True}$"
      ],
      "text/plain": [
       "True"
      ]
     },
     "execution_count": 8,
     "metadata": {},
     "output_type": "execute_result"
    }
   ],
   "source": [
    "y is cartesian[2]"
   ]
  },
  {
   "cell_type": "markdown",
   "metadata": {},
   "source": [
    "Each of the Cartesian coordinates spans the entire real line:"
   ]
  },
  {
   "cell_type": "code",
   "execution_count": 9,
   "metadata": {},
   "outputs": [
    {
     "data": {
      "text/html": [
       "<html>\\(\\displaystyle x :\\ \\left( -\\infty, +\\infty \\right) ;\\quad y :\\ \\left( -\\infty, +\\infty \\right)\\)</html>"
      ],
      "text/latex": [
       "$\\displaystyle x :\\ \\left( -\\infty, +\\infty \\right) ;\\quad y :\\ \\left( -\\infty, +\\infty \\right)$"
      ],
      "text/plain": [
       "x: (-oo, +oo); y: (-oo, +oo)"
      ]
     },
     "execution_count": 9,
     "metadata": {},
     "output_type": "execute_result"
    }
   ],
   "source": [
    "cartesian.coord_range()"
   ]
  },
  {
   "cell_type": "markdown",
   "metadata": {},
   "source": [
    "## 2. Vector fields"
   ]
  },
  {
   "cell_type": "markdown",
   "metadata": {},
   "source": [
    "The Euclidean plane $\\mathbb{E}^2$ is canonically endowed with the vector frame associated with Cartesian coordinates:"
   ]
  },
  {
   "cell_type": "code",
   "execution_count": 10,
   "metadata": {},
   "outputs": [
    {
     "data": {
      "text/html": [
       "<html>\\(\\displaystyle \\left(\\mathbb{E}^{2}, \\left(e_{ x },e_{ y }\\right)\\right)\\)</html>"
      ],
      "text/latex": [
       "$\\displaystyle \\left(\\mathbb{E}^{2}, \\left(e_{ x },e_{ y }\\right)\\right)$"
      ],
      "text/plain": [
       "Coordinate frame (E^2, (e_x,e_y))"
      ]
     },
     "execution_count": 10,
     "metadata": {},
     "output_type": "execute_result"
    }
   ],
   "source": [
    "E.default_frame()"
   ]
  },
  {
   "cell_type": "markdown",
   "metadata": {},
   "source": [
    "Vector fields on $\\mathbb{E}^2$ are then defined from their components in that frame:"
   ]
  },
  {
   "cell_type": "code",
   "execution_count": 11,
   "metadata": {},
   "outputs": [
    {
     "data": {
      "text/html": [
       "<html>\\(\\displaystyle v = -y e_{ x } + x e_{ y }\\)</html>"
      ],
      "text/latex": [
       "$\\displaystyle v = -y e_{ x } + x e_{ y }$"
      ],
      "text/plain": [
       "v = -y e_x + x e_y"
      ]
     },
     "execution_count": 11,
     "metadata": {},
     "output_type": "execute_result"
    }
   ],
   "source": [
    "v = E.vector_field(-y, x, name='v')\n",
    "v.display()"
   ]
  },
  {
   "cell_type": "markdown",
   "metadata": {},
   "source": [
    "The access to individual components is performed by the square bracket operator:"
   ]
  },
  {
   "cell_type": "code",
   "execution_count": 12,
   "metadata": {},
   "outputs": [
    {
     "data": {
      "text/html": [
       "<html>\\(\\displaystyle -y\\)</html>"
      ],
      "text/latex": [
       "$\\displaystyle -y$"
      ],
      "text/plain": [
       "-y"
      ]
     },
     "execution_count": 12,
     "metadata": {},
     "output_type": "execute_result"
    }
   ],
   "source": [
    "v[1]"
   ]
  },
  {
   "cell_type": "code",
   "execution_count": 13,
   "metadata": {},
   "outputs": [
    {
     "data": {
      "text/html": [
       "<html>\\(\\displaystyle \\left[-y, x\\right]\\)</html>"
      ],
      "text/latex": [
       "$\\displaystyle \\left[-y, x\\right]$"
      ],
      "text/plain": [
       "[-y, x]"
      ]
     },
     "execution_count": 13,
     "metadata": {},
     "output_type": "execute_result"
    }
   ],
   "source": [
    "v[:]"
   ]
  },
  {
   "cell_type": "markdown",
   "metadata": {},
   "source": [
    "A plot of the vector field $v$ (this is with default parameters, see the [list of options](http://doc.sagemath.org/html/en/reference/manifolds/sage/manifolds/differentiable/vectorfield.html#sage.manifolds.differentiable.vectorfield.VectorField.plot) for customizing the plot):"
   ]
  },
  {
   "cell_type": "code",
   "execution_count": 14,
   "metadata": {},
   "outputs": [
    {
     "data": {
      "image/png": "[encoded data removed]",
      "text/plain": [
       "Graphics object consisting of 80 graphics primitives"
      ]
     },
     "execution_count": 14,
     "metadata": {},
     "output_type": "execute_result"
    }
   ],
   "source": [
    "v.plot()"
   ]
  },
  {
   "cell_type": "markdown",
   "metadata": {},
   "source": [
    "One may also define a vector field by setting the components in a second stage:"
   ]
  },
  {
   "cell_type": "code",
   "execution_count": 15,
   "metadata": {},
   "outputs": [
    {
     "data": {
      "text/html": [
       "<html>\\(\\displaystyle w = w_{x}\\left(x, y\\right) e_{ x } + w_{y}\\left(x, y\\right) e_{ y }\\)</html>"
      ],
      "text/latex": [
       "$\\displaystyle w = w_{x}\\left(x, y\\right) e_{ x } + w_{y}\\left(x, y\\right) e_{ y }$"
      ],
      "text/plain": [
       "w = w_x(x, y) e_x + w_y(x, y) e_y"
      ]
     },
     "execution_count": 15,
     "metadata": {},
     "output_type": "execute_result"
    }
   ],
   "source": [
    "w = E.vector_field(name='w')\n",
    "w[1] = function('w_x')(x,y)\n",
    "w[2] = function('w_y')(x,y)\n",
    "w.display()"
   ]
  },
  {
   "cell_type": "markdown",
   "metadata": {},
   "source": [
    "Note that in the above example the components of $w$ are unspecified functions of $(x,y)$, contrary to the components of $v$."
   ]
  },
  {
   "cell_type": "markdown",
   "metadata": {},
   "source": [
    "Standard linear algebra operations are available on vector fields:"
   ]
  },
  {
   "cell_type": "code",
   "execution_count": 16,
   "metadata": {},
   "outputs": [
    {
     "data": {
      "text/html": [
       "<html>\\(\\displaystyle \\left( x w_{x}\\left(x, y\\right) - 2 \\, y \\right) e_{ x } + \\left( x w_{y}\\left(x, y\\right) + 2 \\, x \\right) e_{ y }\\)</html>"
      ],
      "text/latex": [
       "$\\displaystyle \\left( x w_{x}\\left(x, y\\right) - 2 \\, y \\right) e_{ x } + \\left( x w_{y}\\left(x, y\\right) + 2 \\, x \\right) e_{ y }$"
      ],
      "text/plain": [
       "(x*w_x(x, y) - 2*y) e_x + (x*w_y(x, y) + 2*x) e_y"
      ]
     },
     "execution_count": 16,
     "metadata": {},
     "output_type": "execute_result"
    }
   ],
   "source": [
    "s = 2*v + x*w\n",
    "s.display()"
   ]
  },
  {
   "cell_type": "markdown",
   "metadata": {},
   "source": [
    "A name can be given to the result of the computation:"
   ]
  },
  {
   "cell_type": "code",
   "execution_count": 17,
   "metadata": {},
   "outputs": [
    {
     "data": {
      "text/html": [
       "<html>\\(\\displaystyle s = \\left( x w_{x}\\left(x, y\\right) - 2 \\, y \\right) e_{ x } + \\left( x w_{y}\\left(x, y\\right) + 2 \\, x \\right) e_{ y }\\)</html>"
      ],
      "text/latex": [
       "$\\displaystyle s = \\left( x w_{x}\\left(x, y\\right) - 2 \\, y \\right) e_{ x } + \\left( x w_{y}\\left(x, y\\right) + 2 \\, x \\right) e_{ y }$"
      ],
      "text/plain": [
       "s = (x*w_x(x, y) - 2*y) e_x + (x*w_y(x, y) + 2*x) e_y"
      ]
     },
     "execution_count": 17,
     "metadata": {},
     "output_type": "execute_result"
    }
   ],
   "source": [
    "s.set_name('s')\n",
    "s.display()"
   ]
  },
  {
   "cell_type": "markdown",
   "metadata": {},
   "source": [
    "### Scalar product and norm\n",
    "\n",
    "The dot (scalar) product of $v$ by $w$ in performed by the operator `dot_product`; it gives rise to a scalar field on $\\mathbb{E}^2$:"
   ]
  },
  {
   "cell_type": "code",
   "execution_count": 18,
   "metadata": {},
   "outputs": [
    {
     "name": "stdout",
     "output_type": "stream",
     "text": [
      "Scalar field v.w on the Euclidean plane E^2\n"
     ]
    }
   ],
   "source": [
    "s = v.dot_product(w)\n",
    "print(s)"
   ]
  },
  {
   "cell_type": "markdown",
   "metadata": {},
   "source": [
    "A shortcut alias of `dot_product` is `dot`:"
   ]
  },
  {
   "cell_type": "code",
   "execution_count": 19,
   "metadata": {},
   "outputs": [
    {
     "data": {
      "text/html": [
       "<html>\\(\\displaystyle \\mathrm{True}\\)</html>"
      ],
      "text/latex": [
       "$\\displaystyle \\mathrm{True}$"
      ],
      "text/plain": [
       "True"
      ]
     },
     "execution_count": 19,
     "metadata": {},
     "output_type": "execute_result"
    }
   ],
   "source": [
    "s == v.dot(w)"
   ]
  },
  {
   "cell_type": "code",
   "execution_count": 20,
   "metadata": {},
   "outputs": [
    {
     "data": {
      "text/html": [
       "<html>\\(\\displaystyle \\begin{array}{llcl} {v}\\cdot{w}:& \\mathbb{E}^{2} & \\longrightarrow & \\mathbb{R} \\\\ & \\left(x, y\\right) & \\longmapsto & -y w_{x}\\left(x, y\\right) + x w_{y}\\left(x, y\\right) \\end{array}\\)</html>"
      ],
      "text/latex": [
       "$\\displaystyle \\begin{array}{llcl} {v}\\cdot{w}:& \\mathbb{E}^{2} & \\longrightarrow & \\mathbb{R} \\\\ & \\left(x, y\\right) & \\longmapsto & -y w_{x}\\left(x, y\\right) + x w_{y}\\left(x, y\\right) \\end{array}$"
      ],
      "text/plain": [
       "v.w: E^2 → ℝ\n",
       "   (x, y) ↦ -y*w_x(x, y) + x*w_y(x, y)"
      ]
     },
     "execution_count": 20,
     "metadata": {},
     "output_type": "execute_result"
    }
   ],
   "source": [
    "s.display()"
   ]
  },
  {
   "cell_type": "markdown",
   "metadata": {},
   "source": [
    "The symbolic expression representing the scalar field $v\\cdot w$ is obtained by means of the method `expr()`:"
   ]
  },
  {
   "cell_type": "code",
   "execution_count": 21,
   "metadata": {},
   "outputs": [
    {
     "data": {
      "text/html": [
       "<html>\\(\\displaystyle -y w_{x}\\left(x, y\\right) + x w_{y}\\left(x, y\\right)\\)</html>"
      ],
      "text/latex": [
       "$\\displaystyle -y w_{x}\\left(x, y\\right) + x w_{y}\\left(x, y\\right)$"
      ],
      "text/plain": [
       "-y*w_x(x, y) + x*w_y(x, y)"
      ]
     },
     "execution_count": 21,
     "metadata": {},
     "output_type": "execute_result"
    }
   ],
   "source": [
    "s.expr()"
   ]
  },
  {
   "cell_type": "code",
   "execution_count": 22,
   "metadata": {},
   "outputs": [
    {
     "data": {
      "text/html": [
       "<html>\\(\\displaystyle \\verb|&lt;class|\\verb| |\\verb|'sage.symbolic.expression.Expression'>|\\)</html>"
      ],
      "text/latex": [
       "$\\displaystyle \\verb|<class|\\verb| |\\verb|'sage.symbolic.expression.Expression'>|$"
      ],
      "text/plain": [
       "<class 'sage.symbolic.expression.Expression'>"
      ]
     },
     "execution_count": 22,
     "metadata": {},
     "output_type": "execute_result"
    }
   ],
   "source": [
    "type(_)"
   ]
  },
  {
   "cell_type": "markdown",
   "metadata": {},
   "source": [
    "The Euclidean norm of the vector field $v$ is a scalar field on $\\mathbb{E}^2$:"
   ]
  },
  {
   "cell_type": "code",
   "execution_count": 23,
   "metadata": {},
   "outputs": [
    {
     "data": {
      "text/html": [
       "<html>\\(\\displaystyle \\begin{array}{llcl} \\left\\|v\\right\\|:& \\mathbb{E}^{2} & \\longrightarrow & \\mathbb{R} \\\\ & \\left(x, y\\right) & \\longmapsto & \\sqrt{x^{2} + y^{2}} \\end{array}\\)</html>"
      ],
      "text/latex": [
       "$\\displaystyle \\begin{array}{llcl} \\left\\|v\\right\\|:& \\mathbb{E}^{2} & \\longrightarrow & \\mathbb{R} \\\\ & \\left(x, y\\right) & \\longmapsto & \\sqrt{x^{2} + y^{2}} \\end{array}$"
      ],
      "text/plain": [
       "|v|: E^2 → ℝ\n",
       "   (x, y) ↦ sqrt(x^2 + y^2)"
      ]
     },
     "execution_count": 23,
     "metadata": {},
     "output_type": "execute_result"
    }
   ],
   "source": [
    "s = norm(v)\n",
    "s.display()"
   ]
  },
  {
   "cell_type": "markdown",
   "metadata": {},
   "source": [
    "Again, the corresponding symbolic expression is obtained via `expr()`:"
   ]
  },
  {
   "cell_type": "code",
   "execution_count": 24,
   "metadata": {},
   "outputs": [
    {
     "data": {
      "text/html": [
       "<html>\\(\\displaystyle \\sqrt{x^{2} + y^{2}}\\)</html>"
      ],
      "text/latex": [
       "$\\displaystyle \\sqrt{x^{2} + y^{2}}$"
      ],
      "text/plain": [
       "sqrt(x^2 + y^2)"
      ]
     },
     "execution_count": 24,
     "metadata": {},
     "output_type": "execute_result"
    }
   ],
   "source": [
    "s.expr()"
   ]
  },
  {
   "cell_type": "code",
   "execution_count": 25,
   "metadata": {},
   "outputs": [
    {
     "data": {
      "text/html": [
       "<html>\\(\\displaystyle \\sqrt{w_{x}\\left(x, y\\right)^{2} + w_{y}\\left(x, y\\right)^{2}}\\)</html>"
      ],
      "text/latex": [
       "$\\displaystyle \\sqrt{w_{x}\\left(x, y\\right)^{2} + w_{y}\\left(x, y\\right)^{2}}$"
      ],
      "text/plain": [
       "sqrt(w_x(x, y)^2 + w_y(x, y)^2)"
      ]
     },
     "execution_count": 25,
     "metadata": {},
     "output_type": "execute_result"
    }
   ],
   "source": [
    "norm(w).expr()"
   ]
  },
  {
   "cell_type": "markdown",
   "metadata": {},
   "source": [
    "We have of course $\\|v\\|^2 = v\\cdot v$ :"
   ]
  },
  {
   "cell_type": "code",
   "execution_count": 26,
   "metadata": {},
   "outputs": [
    {
     "data": {
      "text/html": [
       "<html>\\(\\displaystyle \\mathrm{True}\\)</html>"
      ],
      "text/latex": [
       "$\\displaystyle \\mathrm{True}$"
      ],
      "text/plain": [
       "True"
      ]
     },
     "execution_count": 26,
     "metadata": {},
     "output_type": "execute_result"
    }
   ],
   "source": [
    "norm(v)^2 == v.dot(v)"
   ]
  },
  {
   "cell_type": "markdown",
   "metadata": {},
   "source": [
    "### Values at a given point\n",
    "\n",
    "We introduce a point $p\\in \\mathbb{E}^2$ via the generic SageMath syntax for creating an element from its parent (here $\\mathbb{E}^2$), i.e. the call operator `()`, with the Cartesian coordinates of the point as the first argument:"
   ]
  },
  {
   "cell_type": "code",
   "execution_count": 27,
   "metadata": {},
   "outputs": [
    {
     "name": "stdout",
     "output_type": "stream",
     "text": [
      "Point p on the Euclidean plane E^2\n"
     ]
    }
   ],
   "source": [
    "p = E((-2,3), name='p')\n",
    "print(p)"
   ]
  },
  {
   "cell_type": "markdown",
   "metadata": {},
   "source": [
    "The coordinates of $p$ are returned by the method ``coord()``:"
   ]
  },
  {
   "cell_type": "code",
   "execution_count": 28,
   "metadata": {},
   "outputs": [
    {
     "data": {
      "text/html": [
       "<html>\\(\\displaystyle \\left(-2, 3\\right)\\)</html>"
      ],
      "text/latex": [
       "$\\displaystyle \\left(-2, 3\\right)$"
      ],
      "text/plain": [
       "(-2, 3)"
      ]
     },
     "execution_count": 28,
     "metadata": {},
     "output_type": "execute_result"
    }
   ],
   "source": [
    "p.coord()"
   ]
  },
  {
   "cell_type": "markdown",
   "metadata": {},
   "source": [
    "or by letting the chart `cartesian` act on the point:"
   ]
  },
  {
   "cell_type": "code",
   "execution_count": 29,
   "metadata": {},
   "outputs": [
    {
     "data": {
      "text/html": [
       "<html>\\(\\displaystyle \\left(-2, 3\\right)\\)</html>"
      ],
      "text/latex": [
       "$\\displaystyle \\left(-2, 3\\right)$"
      ],
      "text/plain": [
       "(-2, 3)"
      ]
     },
     "execution_count": 29,
     "metadata": {},
     "output_type": "execute_result"
    }
   ],
   "source": [
    "cartesian(p)"
   ]
  },
  {
   "cell_type": "markdown",
   "metadata": {},
   "source": [
    "The value of the scalar field ``s = norm(v)`` at $p$ is"
   ]
  },
  {
   "cell_type": "code",
   "execution_count": 30,
   "metadata": {},
   "outputs": [
    {
     "data": {
      "text/html": [
       "<html>\\(\\displaystyle \\sqrt{13}\\)</html>"
      ],
      "text/latex": [
       "$\\displaystyle \\sqrt{13}$"
      ],
      "text/plain": [
       "sqrt(13)"
      ]
     },
     "execution_count": 30,
     "metadata": {},
     "output_type": "execute_result"
    }
   ],
   "source": [
    "s(p)"
   ]
  },
  {
   "cell_type": "markdown",
   "metadata": {},
   "source": [
    "The value of a vector field at $p$ is obtained by the method `at` (since the call operator `()` is reserved for the action of vector fields on scalar fields, see Section 5 below):"
   ]
  },
  {
   "cell_type": "code",
   "execution_count": 31,
   "metadata": {},
   "outputs": [
    {
     "name": "stdout",
     "output_type": "stream",
     "text": [
      "Vector v at Point p on the Euclidean plane E^2\n"
     ]
    }
   ],
   "source": [
    "vp = v.at(p)\n",
    "print(vp)"
   ]
  },
  {
   "cell_type": "code",
   "execution_count": 32,
   "metadata": {},
   "outputs": [
    {
     "data": {
      "text/html": [
       "<html>\\(\\displaystyle v = -3 e_{ x } -2 e_{ y }\\)</html>"
      ],
      "text/latex": [
       "$\\displaystyle v = -3 e_{ x } -2 e_{ y }$"
      ],
      "text/plain": [
       "v = -3 e_x - 2 e_y"
      ]
     },
     "execution_count": 32,
     "metadata": {},
     "output_type": "execute_result"
    }
   ],
   "source": [
    "vp.display()"
   ]
  },
  {
   "cell_type": "code",
   "execution_count": 33,
   "metadata": {},
   "outputs": [
    {
     "data": {
      "text/html": [
       "<html>\\(\\displaystyle w = w_{x}\\left(-2, 3\\right) e_{ x } + w_{y}\\left(-2, 3\\right) e_{ y }\\)</html>"
      ],
      "text/latex": [
       "$\\displaystyle w = w_{x}\\left(-2, 3\\right) e_{ x } + w_{y}\\left(-2, 3\\right) e_{ y }$"
      ],
      "text/plain": [
       "w = w_x(-2, 3) e_x + w_y(-2, 3) e_y"
      ]
     },
     "execution_count": 33,
     "metadata": {},
     "output_type": "execute_result"
    }
   ],
   "source": [
    "wp = w.at(p)\n",
    "wp.display()"
   ]
  },
  {
   "cell_type": "code",
   "execution_count": 34,
   "metadata": {},
   "outputs": [
    {
     "data": {
      "text/html": [
       "<html>\\(\\displaystyle \\left( \\pi w_{x}\\left(-2, 3\\right) - 3 \\right) e_{ x } + \\left( \\pi w_{y}\\left(-2, 3\\right) - 2 \\right) e_{ y }\\)</html>"
      ],
      "text/latex": [
       "$\\displaystyle \\left( \\pi w_{x}\\left(-2, 3\\right) - 3 \\right) e_{ x } + \\left( \\pi w_{y}\\left(-2, 3\\right) - 2 \\right) e_{ y }$"
      ],
      "text/plain": [
       "(pi*w_x(-2, 3) - 3) e_x + (pi*w_y(-2, 3) - 2) e_y"
      ]
     },
     "execution_count": 34,
     "metadata": {},
     "output_type": "execute_result"
    }
   ],
   "source": [
    "s = v.at(p) + pi*w.at(p)\n",
    "s.display()"
   ]
  },
  {
   "cell_type": "markdown",
   "metadata": {},
   "source": [
    "## 3. Differential operators\n",
    "\n",
    "Tu use functional notations, i.e. `div(v)` instead of `v.div()` for the divergence of the vector field `v`, we import the functions `div`, `grad`, etc. in the global namespace:"
   ]
  },
  {
   "cell_type": "code",
   "execution_count": 35,
   "metadata": {},
   "outputs": [],
   "source": [
    "from sage.manifolds.operators import *"
   ]
  },
  {
   "cell_type": "markdown",
   "metadata": {},
   "source": [
    "### Divergence\n",
    "\n",
    "The divergence of a vector field is returned by the function `div`; the output is a scalar field on $\\mathbb{E}^2$:"
   ]
  },
  {
   "cell_type": "code",
   "execution_count": 36,
   "metadata": {},
   "outputs": [
    {
     "name": "stdout",
     "output_type": "stream",
     "text": [
      "Scalar field div(v) on the Euclidean plane E^2\n"
     ]
    }
   ],
   "source": [
    "print(div(v))"
   ]
  },
  {
   "cell_type": "code",
   "execution_count": 37,
   "metadata": {},
   "outputs": [
    {
     "data": {
      "text/html": [
       "<html>\\(\\displaystyle \\begin{array}{llcl} \\mathrm{div}\\left(v\\right):& \\mathbb{E}^{2} & \\longrightarrow & \\mathbb{R} \\\\ & \\left(x, y\\right) & \\longmapsto & 0 \\end{array}\\)</html>"
      ],
      "text/latex": [
       "$\\displaystyle \\begin{array}{llcl} \\mathrm{div}\\left(v\\right):& \\mathbb{E}^{2} & \\longrightarrow & \\mathbb{R} \\\\ & \\left(x, y\\right) & \\longmapsto & 0 \\end{array}$"
      ],
      "text/plain": [
       "div(v): E^2 → ℝ\n",
       "   (x, y) ↦ 0"
      ]
     },
     "execution_count": 37,
     "metadata": {},
     "output_type": "execute_result"
    }
   ],
   "source": [
    "div(v).display()"
   ]
  },
  {
   "cell_type": "markdown",
   "metadata": {},
   "source": [
    "In the present case, $\\mathrm{div}\\, v$ vanishes identically:"
   ]
  },
  {
   "cell_type": "code",
   "execution_count": 38,
   "metadata": {},
   "outputs": [
    {
     "data": {
      "text/html": [
       "<html>\\(\\displaystyle \\mathrm{True}\\)</html>"
      ],
      "text/latex": [
       "$\\displaystyle \\mathrm{True}$"
      ],
      "text/plain": [
       "True"
      ]
     },
     "execution_count": 38,
     "metadata": {},
     "output_type": "execute_result"
    }
   ],
   "source": [
    "div(v) == 0"
   ]
  },
  {
   "cell_type": "markdown",
   "metadata": {},
   "source": [
    "On the contrary, the divergence of $w$ is"
   ]
  },
  {
   "cell_type": "code",
   "execution_count": 39,
   "metadata": {},
   "outputs": [
    {
     "data": {
      "text/html": [
       "<html>\\(\\displaystyle \\begin{array}{llcl} \\mathrm{div}\\left(w\\right):& \\mathbb{E}^{2} & \\longrightarrow & \\mathbb{R} \\\\ & \\left(x, y\\right) & \\longmapsto & \\frac{\\partial\\,w_{x}}{\\partial x} + \\frac{\\partial\\,w_{y}}{\\partial y} \\end{array}\\)</html>"
      ],
      "text/latex": [
       "$\\displaystyle \\begin{array}{llcl} \\mathrm{div}\\left(w\\right):& \\mathbb{E}^{2} & \\longrightarrow & \\mathbb{R} \\\\ & \\left(x, y\\right) & \\longmapsto & \\frac{\\partial\\,w_{x}}{\\partial x} + \\frac{\\partial\\,w_{y}}{\\partial y} \\end{array}$"
      ],
      "text/plain": [
       "div(w): E^2 → ℝ\n",
       "   (x, y) ↦ d(w_x)/dx + d(w_y)/dy"
      ]
     },
     "execution_count": 39,
     "metadata": {},
     "output_type": "execute_result"
    }
   ],
   "source": [
    "div(w).display()"
   ]
  },
  {
   "cell_type": "code",
   "execution_count": 40,
   "metadata": {},
   "outputs": [
    {
     "data": {
      "text/html": [
       "<html>\\(\\displaystyle \\frac{\\partial}{\\partial x}w_{x}\\left(x, y\\right) + \\frac{\\partial}{\\partial y}w_{y}\\left(x, y\\right)\\)</html>"
      ],
      "text/latex": [
       "$\\displaystyle \\frac{\\partial}{\\partial x}w_{x}\\left(x, y\\right) + \\frac{\\partial}{\\partial y}w_{y}\\left(x, y\\right)$"
      ],
      "text/plain": [
       "diff(w_x(x, y), x) + diff(w_y(x, y), y)"
      ]
     },
     "execution_count": 40,
     "metadata": {},
     "output_type": "execute_result"
    }
   ],
   "source": [
    "div(w).expr()"
   ]
  },
  {
   "cell_type": "markdown",
   "metadata": {},
   "source": [
    "### Gradient\n",
    "\n",
    "The gradient of a scalar field, e.g. `s = norm(v)`, is returned by the function `grad`; the output is a vector field:"
   ]
  },
  {
   "cell_type": "code",
   "execution_count": 41,
   "metadata": {},
   "outputs": [
    {
     "name": "stdout",
     "output_type": "stream",
     "text": [
      "Vector field grad(|v|) on the Euclidean plane E^2\n"
     ]
    }
   ],
   "source": [
    "s = norm(v)\n",
    "print(grad(s))"
   ]
  },
  {
   "cell_type": "code",
   "execution_count": 42,
   "metadata": {},
   "outputs": [
    {
     "data": {
      "text/html": [
       "<html>\\(\\displaystyle \\mathrm{grad}\\left(\\left\\|v\\right\\|\\right) = \\left( \\frac{x}{\\sqrt{x^{2} + y^{2}}} \\right) e_{ x } + \\left( \\frac{y}{\\sqrt{x^{2} + y^{2}}} \\right) e_{ y }\\)</html>"
      ],
      "text/latex": [
       "$\\displaystyle \\mathrm{grad}\\left(\\left\\|v\\right\\|\\right) = \\left( \\frac{x}{\\sqrt{x^{2} + y^{2}}} \\right) e_{ x } + \\left( \\frac{y}{\\sqrt{x^{2} + y^{2}}} \\right) e_{ y }$"
      ],
      "text/plain": [
       "grad(|v|) = x/sqrt(x^2 + y^2) e_x + y/sqrt(x^2 + y^2) e_y"
      ]
     },
     "execution_count": 42,
     "metadata": {},
     "output_type": "execute_result"
    }
   ],
   "source": [
    "grad(s).display()"
   ]
  },
  {
   "cell_type": "code",
   "execution_count": 43,
   "metadata": {},
   "outputs": [
    {
     "data": {
      "text/html": [
       "<html>\\(\\displaystyle \\frac{y}{\\sqrt{x^{2} + y^{2}}}\\)</html>"
      ],
      "text/latex": [
       "$\\displaystyle \\frac{y}{\\sqrt{x^{2} + y^{2}}}$"
      ],
      "text/plain": [
       "y/sqrt(x^2 + y^2)"
      ]
     },
     "execution_count": 43,
     "metadata": {},
     "output_type": "execute_result"
    }
   ],
   "source": [
    "grad(s)[2]"
   ]
  },
  {
   "cell_type": "markdown",
   "metadata": {},
   "source": [
    "For a generic scalar field"
   ]
  },
  {
   "cell_type": "code",
   "execution_count": 44,
   "metadata": {},
   "outputs": [],
   "source": [
    "F = E.scalar_field(function('f')(x,y), name='F')"
   ]
  },
  {
   "cell_type": "markdown",
   "metadata": {},
   "source": [
    "we have"
   ]
  },
  {
   "cell_type": "code",
   "execution_count": 45,
   "metadata": {},
   "outputs": [
    {
     "data": {
      "text/html": [
       "<html>\\(\\displaystyle \\mathrm{grad}\\left(F\\right) = \\frac{\\partial\\,f}{\\partial x} e_{ x } + \\frac{\\partial\\,f}{\\partial y} e_{ y }\\)</html>"
      ],
      "text/latex": [
       "$\\displaystyle \\mathrm{grad}\\left(F\\right) = \\frac{\\partial\\,f}{\\partial x} e_{ x } + \\frac{\\partial\\,f}{\\partial y} e_{ y }$"
      ],
      "text/plain": [
       "grad(F) = d(f)/dx e_x + d(f)/dy e_y"
      ]
     },
     "execution_count": 45,
     "metadata": {},
     "output_type": "execute_result"
    }
   ],
   "source": [
    "grad(F).display()"
   ]
  },
  {
   "cell_type": "code",
   "execution_count": 46,
   "metadata": {},
   "outputs": [
    {
     "data": {
      "text/html": [
       "<html>\\(\\displaystyle \\left[\\frac{\\partial\\,f}{\\partial x}, \\frac{\\partial\\,f}{\\partial y}\\right]\\)</html>"
      ],
      "text/latex": [
       "$\\displaystyle \\left[\\frac{\\partial\\,f}{\\partial x}, \\frac{\\partial\\,f}{\\partial y}\\right]$"
      ],
      "text/plain": [
       "[d(f)/dx, d(f)/dy]"
      ]
     },
     "execution_count": 46,
     "metadata": {},
     "output_type": "execute_result"
    }
   ],
   "source": [
    "grad(F)[:]"
   ]
  },
  {
   "cell_type": "markdown",
   "metadata": {},
   "source": [
    "Of course, we may combine `grad` and `div`:"
   ]
  },
  {
   "cell_type": "code",
   "execution_count": 47,
   "metadata": {},
   "outputs": [
    {
     "data": {
      "text/html": [
       "<html>\\(\\displaystyle \\mathrm{grad}\\left(\\mathrm{div}\\left(w\\right)\\right) = \\left( \\frac{\\partial^2\\,w_{x}}{\\partial x ^ 2} + \\frac{\\partial^2\\,w_{y}}{\\partial x\\partial y} \\right) e_{ x } + \\left( \\frac{\\partial^2\\,w_{x}}{\\partial x\\partial y} + \\frac{\\partial^2\\,w_{y}}{\\partial y ^ 2} \\right) e_{ y }\\)</html>"
      ],
      "text/latex": [
       "$\\displaystyle \\mathrm{grad}\\left(\\mathrm{div}\\left(w\\right)\\right) = \\left( \\frac{\\partial^2\\,w_{x}}{\\partial x ^ 2} + \\frac{\\partial^2\\,w_{y}}{\\partial x\\partial y} \\right) e_{ x } + \\left( \\frac{\\partial^2\\,w_{x}}{\\partial x\\partial y} + \\frac{\\partial^2\\,w_{y}}{\\partial y ^ 2} \\right) e_{ y }$"
      ],
      "text/plain": [
       "grad(div(w)) = (d^2(w_x)/dx^2 + d^2(w_y)/dxdy) e_x + (d^2(w_x)/dxdy + d^2(w_y)/dy^2) e_y"
      ]
     },
     "execution_count": 47,
     "metadata": {},
     "output_type": "execute_result"
    }
   ],
   "source": [
    "grad(div(w)).display()"
   ]
  },
  {
   "cell_type": "markdown",
   "metadata": {},
   "source": [
    "### Laplace operator\n",
    "\n",
    "The Laplace operator is obtained by the function `laplacian`; it can act on a scalar field:"
   ]
  },
  {
   "cell_type": "code",
   "execution_count": 48,
   "metadata": {},
   "outputs": [
    {
     "data": {
      "text/html": [
       "<html>\\(\\displaystyle \\begin{array}{llcl} \\Delta\\left(F\\right):& \\mathbb{E}^{2} & \\longrightarrow & \\mathbb{R} \\\\ & \\left(x, y\\right) & \\longmapsto & \\frac{\\partial^2\\,f}{\\partial x ^ 2} + \\frac{\\partial^2\\,f}{\\partial y ^ 2} \\end{array}\\)</html>"
      ],
      "text/latex": [
       "$\\displaystyle \\begin{array}{llcl} \\Delta\\left(F\\right):& \\mathbb{E}^{2} & \\longrightarrow & \\mathbb{R} \\\\ & \\left(x, y\\right) & \\longmapsto & \\frac{\\partial^2\\,f}{\\partial x ^ 2} + \\frac{\\partial^2\\,f}{\\partial y ^ 2} \\end{array}$"
      ],
      "text/plain": [
       "Delta(F): E^2 → ℝ\n",
       "   (x, y) ↦ d^2(f)/dx^2 + d^2(f)/dy^2"
      ]
     },
     "execution_count": 48,
     "metadata": {},
     "output_type": "execute_result"
    }
   ],
   "source": [
    "laplacian(F).display()"
   ]
  },
  {
   "cell_type": "markdown",
   "metadata": {},
   "source": [
    "as well as on a vector field:"
   ]
  },
  {
   "cell_type": "code",
   "execution_count": 49,
   "metadata": {},
   "outputs": [
    {
     "data": {
      "text/html": [
       "<html>\\(\\displaystyle \\Delta\\left(w\\right) = \\left( \\frac{\\partial^2\\,w_{x}}{\\partial x ^ 2} + \\frac{\\partial^2\\,w_{x}}{\\partial y ^ 2} \\right) e_{ x } + \\left( \\frac{\\partial^2\\,w_{y}}{\\partial x ^ 2} + \\frac{\\partial^2\\,w_{y}}{\\partial y ^ 2} \\right) e_{ y }\\)</html>"
      ],
      "text/latex": [
       "$\\displaystyle \\Delta\\left(w\\right) = \\left( \\frac{\\partial^2\\,w_{x}}{\\partial x ^ 2} + \\frac{\\partial^2\\,w_{x}}{\\partial y ^ 2} \\right) e_{ x } + \\left( \\frac{\\partial^2\\,w_{y}}{\\partial x ^ 2} + \\frac{\\partial^2\\,w_{y}}{\\partial y ^ 2} \\right) e_{ y }$"
      ],
      "text/plain": [
       "Delta(w) = (d^2(w_x)/dx^2 + d^2(w_x)/dy^2) e_x + (d^2(w_y)/dx^2 + d^2(w_y)/dy^2) e_y"
      ]
     },
     "execution_count": 49,
     "metadata": {},
     "output_type": "execute_result"
    }
   ],
   "source": [
    "laplacian(w).display()"
   ]
  },
  {
   "cell_type": "markdown",
   "metadata": {},
   "source": [
    "For a scalar field, we have the identity:"
   ]
  },
  {
   "cell_type": "code",
   "execution_count": 50,
   "metadata": {},
   "outputs": [
    {
     "data": {
      "text/html": [
       "<html>\\(\\displaystyle \\mathrm{True}\\)</html>"
      ],
      "text/latex": [
       "$\\displaystyle \\mathrm{True}$"
      ],
      "text/plain": [
       "True"
      ]
     },
     "execution_count": 50,
     "metadata": {},
     "output_type": "execute_result"
    }
   ],
   "source": [
    "laplacian(F) == div(grad(F))"
   ]
  },
  {
   "cell_type": "markdown",
   "metadata": {},
   "source": [
    "## 4. Polar coordinates\n",
    "\n",
    "Polar coordinates $(r,\\phi)$ are introduced on $\\mathbb{E}^2$ by"
   ]
  },
  {
   "cell_type": "code",
   "execution_count": 51,
   "metadata": {},
   "outputs": [
    {
     "data": {
      "text/html": [
       "<html>\\(\\displaystyle \\left(\\mathbb{E}^{2},(r, {\\phi})\\right)\\)</html>"
      ],
      "text/latex": [
       "$\\displaystyle \\left(\\mathbb{E}^{2},(r, {\\phi})\\right)$"
      ],
      "text/plain": [
       "Chart (E^2, (r, ph))"
      ]
     },
     "execution_count": 51,
     "metadata": {},
     "output_type": "execute_result"
    }
   ],
   "source": [
    "polar.<r,ph> = E.polar_coordinates()\n",
    "polar"
   ]
  },
  {
   "cell_type": "code",
   "execution_count": 52,
   "metadata": {},
   "outputs": [
    {
     "data": {
      "text/html": [
       "<html>\\(\\displaystyle r :\\ \\left( 0 , +\\infty \\right) ;\\quad {\\phi} :\\ \\left[ 0 , 2 \\, \\pi \\right] \\mbox{(periodic)}\\)</html>"
      ],
      "text/latex": [
       "$\\displaystyle r :\\ \\left( 0 , +\\infty \\right) ;\\quad {\\phi} :\\ \\left[ 0 , 2 \\, \\pi \\right] \\mbox{(periodic)}$"
      ],
      "text/plain": [
       "r: (0, +oo); ph: [0, 2*pi] (periodic)"
      ]
     },
     "execution_count": 52,
     "metadata": {},
     "output_type": "execute_result"
    }
   ],
   "source": [
    "polar.coord_range()"
   ]
  },
  {
   "cell_type": "markdown",
   "metadata": {},
   "source": [
    "They are related to Cartesian coordinates by the following transformations:"
   ]
  },
  {
   "cell_type": "code",
   "execution_count": 53,
   "metadata": {},
   "outputs": [
    {
     "data": {
      "text/html": [
       "<html>\\(\\displaystyle \\left\\{\\begin{array}{lcl} x & = & r \\cos\\left({\\phi}\\right) \\\\ y & = & r \\sin\\left({\\phi}\\right) \\end{array}\\right.\\)</html>"
      ],
      "text/latex": [
       "$\\displaystyle \\left\\{\\begin{array}{lcl} x & = & r \\cos\\left({\\phi}\\right) \\\\ y & = & r \\sin\\left({\\phi}\\right) \\end{array}\\right.$"
      ],
      "text/plain": [
       "x = r*cos(ph)\n",
       "y = r*sin(ph)"
      ]
     },
     "execution_count": 53,
     "metadata": {},
     "output_type": "execute_result"
    }
   ],
   "source": [
    "E.coord_change(polar, cartesian).display()"
   ]
  },
  {
   "cell_type": "code",
   "execution_count": 54,
   "metadata": {},
   "outputs": [
    {
     "data": {
      "text/html": [
       "<html>\\(\\displaystyle \\left\\{\\begin{array}{lcl} r & = & \\sqrt{x^{2} + y^{2}} \\\\ {\\phi} & = & \\arctan\\left(y, x\\right) \\end{array}\\right.\\)</html>"
      ],
      "text/latex": [
       "$\\displaystyle \\left\\{\\begin{array}{lcl} r & = & \\sqrt{x^{2} + y^{2}} \\\\ {\\phi} & = & \\arctan\\left(y, x\\right) \\end{array}\\right.$"
      ],
      "text/plain": [
       "r = sqrt(x^2 + y^2)\n",
       "ph = arctan2(y, x)"
      ]
     },
     "execution_count": 54,
     "metadata": {},
     "output_type": "execute_result"
    }
   ],
   "source": [
    "E.coord_change(cartesian, polar).display()"
   ]
  },
  {
   "cell_type": "markdown",
   "metadata": {},
   "source": [
    "A chart can be plotted in terms of another one; it appears then as a coordinate grid:"
   ]
  },
  {
   "cell_type": "code",
   "execution_count": 55,
   "metadata": {},
   "outputs": [
    {
     "data": {
      "image/png": "[encoded data removed]",
      "text/plain": [
       "Graphics object consisting of 18 graphics primitives"
      ]
     },
     "execution_count": 55,
     "metadata": {},
     "output_type": "execute_result"
    }
   ],
   "source": [
    "polar.plot(chart=cartesian)"
   ]
  },
  {
   "cell_type": "markdown",
   "metadata": {},
   "source": [
    "Many `plot` options are available, type `polar.plot?` to get them."
   ]
  },
  {
   "cell_type": "markdown",
   "metadata": {},
   "source": [
    "The orthonormal vector frame associated to polar coordinates is"
   ]
  },
  {
   "cell_type": "code",
   "execution_count": 56,
   "metadata": {},
   "outputs": [
    {
     "data": {
      "text/html": [
       "<html>\\(\\displaystyle \\left(\\mathbb{E}^{2}, \\left(e_{ r },e_{ {\\phi} }\\right)\\right)\\)</html>"
      ],
      "text/latex": [
       "$\\displaystyle \\left(\\mathbb{E}^{2}, \\left(e_{ r },e_{ {\\phi} }\\right)\\right)$"
      ],
      "text/plain": [
       "Vector frame (E^2, (e_r,e_ph))"
      ]
     },
     "execution_count": 56,
     "metadata": {},
     "output_type": "execute_result"
    }
   ],
   "source": [
    "polar_frame = E.polar_frame()\n",
    "polar_frame"
   ]
  },
  {
   "cell_type": "code",
   "execution_count": 57,
   "metadata": {},
   "outputs": [
    {
     "data": {
      "text/html": [
       "<html>\\(\\displaystyle e_{ r } = \\left( \\frac{x}{\\sqrt{x^{2} + y^{2}}} \\right) e_{ x } + \\left( \\frac{y}{\\sqrt{x^{2} + y^{2}}} \\right) e_{ y }\\)</html>"
      ],
      "text/latex": [
       "$\\displaystyle e_{ r } = \\left( \\frac{x}{\\sqrt{x^{2} + y^{2}}} \\right) e_{ x } + \\left( \\frac{y}{\\sqrt{x^{2} + y^{2}}} \\right) e_{ y }$"
      ],
      "text/plain": [
       "e_r = x/sqrt(x^2 + y^2) e_x + y/sqrt(x^2 + y^2) e_y"
      ]
     },
     "execution_count": 57,
     "metadata": {},
     "output_type": "execute_result"
    }
   ],
   "source": [
    "er = polar_frame[1]\n",
    "er.display()  # display in the default frame (Cartesian frame) \n",
    "              # with the default coordinates (Cartesian)"
   ]
  },
  {
   "cell_type": "code",
   "execution_count": 58,
   "metadata": {},
   "outputs": [
    {
     "data": {
      "text/html": [
       "<html>\\(\\displaystyle e_{ r } = \\cos\\left({\\phi}\\right) e_{ x } + \\sin\\left({\\phi}\\right) e_{ y }\\)</html>"
      ],
      "text/latex": [
       "$\\displaystyle e_{ r } = \\cos\\left({\\phi}\\right) e_{ x } + \\sin\\left({\\phi}\\right) e_{ y }$"
      ],
      "text/plain": [
       "e_r = cos(ph) e_x + sin(ph) e_y"
      ]
     },
     "execution_count": 58,
     "metadata": {},
     "output_type": "execute_result"
    }
   ],
   "source": [
    "er.display(cartesian.frame(), polar) # display in the Cartesian frame\n",
    "                                     # with components expressed in polar coordinates"
   ]
  },
  {
   "cell_type": "code",
   "execution_count": 59,
   "metadata": {},
   "outputs": [
    {
     "data": {
      "text/html": [
       "<html>\\(\\displaystyle e_{ {\\phi} } = \\left( -\\frac{y}{\\sqrt{x^{2} + y^{2}}} \\right) e_{ x } + \\left( \\frac{x}{\\sqrt{x^{2} + y^{2}}} \\right) e_{ y }\\)</html>"
      ],
      "text/latex": [
       "$\\displaystyle e_{ {\\phi} } = \\left( -\\frac{y}{\\sqrt{x^{2} + y^{2}}} \\right) e_{ x } + \\left( \\frac{x}{\\sqrt{x^{2} + y^{2}}} \\right) e_{ y }$"
      ],
      "text/plain": [
       "e_ph = -y/sqrt(x^2 + y^2) e_x + x/sqrt(x^2 + y^2) e_y"
      ]
     },
     "execution_count": 59,
     "metadata": {},
     "output_type": "execute_result"
    }
   ],
   "source": [
    "eph = polar_frame[2]\n",
    "eph.display()"
   ]
  },
  {
   "cell_type": "code",
   "execution_count": 60,
   "metadata": {},
   "outputs": [
    {
     "data": {
      "text/html": [
       "<html>\\(\\displaystyle e_{ {\\phi} } = -\\sin\\left({\\phi}\\right) e_{ x } + \\cos\\left({\\phi}\\right) e_{ y }\\)</html>"
      ],
      "text/latex": [
       "$\\displaystyle e_{ {\\phi} } = -\\sin\\left({\\phi}\\right) e_{ x } + \\cos\\left({\\phi}\\right) e_{ y }$"
      ],
      "text/plain": [
       "e_ph = -sin(ph) e_x + cos(ph) e_y"
      ]
     },
     "execution_count": 60,
     "metadata": {},
     "output_type": "execute_result"
    }
   ],
   "source": [
    "eph.display(cartesian.frame(), polar)"
   ]
  },
  {
   "cell_type": "code",
   "execution_count": 61,
   "metadata": {},
   "outputs": [
    {
     "data": {
      "text/html": [
       "<html>\\(\\displaystyle e_{ {\\phi} } = \\frac{1}{r} \\frac{\\partial}{\\partial {\\phi} }\\)</html>"
      ],
      "text/latex": [
       "$\\displaystyle e_{ {\\phi} } = \\frac{1}{r} \\frac{\\partial}{\\partial {\\phi} }$"
      ],
      "text/plain": [
       "e_ph = 1/r ∂/∂ph"
      ]
     },
     "execution_count": 61,
     "metadata": {},
     "output_type": "execute_result"
    }
   ],
   "source": [
    "eph.display(polar.frame(), polar)"
   ]
  },
  {
   "cell_type": "markdown",
   "metadata": {},
   "source": [
    "We may check that $(e_r, e_\\phi)$ is an orthonormal frame:"
   ]
  },
  {
   "cell_type": "code",
   "execution_count": 62,
   "metadata": {},
   "outputs": [
    {
     "data": {
      "text/html": [
       "<html>\\(\\displaystyle \\mathrm{True}\\)</html>"
      ],
      "text/latex": [
       "$\\displaystyle \\mathrm{True}$"
      ],
      "text/plain": [
       "True"
      ]
     },
     "execution_count": 62,
     "metadata": {},
     "output_type": "execute_result"
    }
   ],
   "source": [
    "all([er.dot(er) == 1,\n",
    "     er.dot(eph) == 0,\n",
    "     eph.dot(eph) == 1])"
   ]
  },
  {
   "cell_type": "markdown",
   "metadata": {},
   "source": [
    "Scalar fields can be expressed in terms of polar coordinates:"
   ]
  },
  {
   "cell_type": "code",
   "execution_count": 63,
   "metadata": {},
   "outputs": [
    {
     "data": {
      "text/html": [
       "<html>\\(\\displaystyle \\begin{array}{llcl} F:& \\mathbb{E}^{2} & \\longrightarrow & \\mathbb{R} \\\\ & \\left(x, y\\right) & \\longmapsto & f\\left(x, y\\right) \\\\ & \\left(r, {\\phi}\\right) & \\longmapsto & f\\left(r \\cos\\left({\\phi}\\right), r \\sin\\left({\\phi}\\right)\\right) \\end{array}\\)</html>"
      ],
      "text/latex": [
       "$\\displaystyle \\begin{array}{llcl} F:& \\mathbb{E}^{2} & \\longrightarrow & \\mathbb{R} \\\\ & \\left(x, y\\right) & \\longmapsto & f\\left(x, y\\right) \\\\ & \\left(r, {\\phi}\\right) & \\longmapsto & f\\left(r \\cos\\left({\\phi}\\right), r \\sin\\left({\\phi}\\right)\\right) \\end{array}$"
      ],
      "text/plain": [
       "F: E^2 → ℝ\n",
       "   (x, y) ↦ f(x, y)\n",
       "   (r, ph) ↦ f(r*cos(ph), r*sin(ph))"
      ]
     },
     "execution_count": 63,
     "metadata": {},
     "output_type": "execute_result"
    }
   ],
   "source": [
    "F.display()"
   ]
  },
  {
   "cell_type": "code",
   "execution_count": 64,
   "metadata": {},
   "outputs": [
    {
     "data": {
      "text/html": [
       "<html>\\(\\displaystyle \\begin{array}{llcl} F:& \\mathbb{E}^{2} & \\longrightarrow & \\mathbb{R} \\\\ & \\left(r, {\\phi}\\right) & \\longmapsto & f\\left(r \\cos\\left({\\phi}\\right), r \\sin\\left({\\phi}\\right)\\right) \\end{array}\\)</html>"
      ],
      "text/latex": [
       "$\\displaystyle \\begin{array}{llcl} F:& \\mathbb{E}^{2} & \\longrightarrow & \\mathbb{R} \\\\ & \\left(r, {\\phi}\\right) & \\longmapsto & f\\left(r \\cos\\left({\\phi}\\right), r \\sin\\left({\\phi}\\right)\\right) \\end{array}$"
      ],
      "text/plain": [
       "F: E^2 → ℝ\n",
       "   (r, ph) ↦ f(r*cos(ph), r*sin(ph))"
      ]
     },
     "execution_count": 64,
     "metadata": {},
     "output_type": "execute_result"
    }
   ],
   "source": [
    "F.display(polar)"
   ]
  },
  {
   "cell_type": "markdown",
   "metadata": {},
   "source": [
    "and we may ask for the components of vector fields in terms of the polar frame:"
   ]
  },
  {
   "cell_type": "code",
   "execution_count": 65,
   "metadata": {},
   "outputs": [
    {
     "data": {
      "text/html": [
       "<html>\\(\\displaystyle v = -y e_{ x } + x e_{ y }\\)</html>"
      ],
      "text/latex": [
       "$\\displaystyle v = -y e_{ x } + x e_{ y }$"
      ],
      "text/plain": [
       "v = -y e_x + x e_y"
      ]
     },
     "execution_count": 65,
     "metadata": {},
     "output_type": "execute_result"
    }
   ],
   "source": [
    "v.display()  # default frame and default coordinates (both Cartesian ones)"
   ]
  },
  {
   "cell_type": "code",
   "execution_count": 66,
   "metadata": {},
   "outputs": [
    {
     "data": {
      "text/html": [
       "<html>\\(\\displaystyle v = \\left( \\sqrt{x^{2} + y^{2}} \\right) e_{ {\\phi} }\\)</html>"
      ],
      "text/latex": [
       "$\\displaystyle v = \\left( \\sqrt{x^{2} + y^{2}} \\right) e_{ {\\phi} }$"
      ],
      "text/plain": [
       "v = sqrt(x^2 + y^2) e_ph"
      ]
     },
     "execution_count": 66,
     "metadata": {},
     "output_type": "execute_result"
    }
   ],
   "source": [
    "v.display(polar_frame)  # polar frame and default coordinates"
   ]
  },
  {
   "cell_type": "code",
   "execution_count": 67,
   "metadata": {},
   "outputs": [
    {
     "data": {
      "text/html": [
       "<html>\\(\\displaystyle v = r e_{ {\\phi} }\\)</html>"
      ],
      "text/latex": [
       "$\\displaystyle v = r e_{ {\\phi} }$"
      ],
      "text/plain": [
       "v = r e_ph"
      ]
     },
     "execution_count": 67,
     "metadata": {},
     "output_type": "execute_result"
    }
   ],
   "source": [
    "v.display(polar_frame, polar)  # polar frame and polar coordinates"
   ]
  },
  {
   "cell_type": "code",
   "execution_count": 68,
   "metadata": {},
   "outputs": [
    {
     "data": {
      "text/html": [
       "<html>\\(\\displaystyle w = w_{x}\\left(x, y\\right) e_{ x } + w_{y}\\left(x, y\\right) e_{ y }\\)</html>"
      ],
      "text/latex": [
       "$\\displaystyle w = w_{x}\\left(x, y\\right) e_{ x } + w_{y}\\left(x, y\\right) e_{ y }$"
      ],
      "text/plain": [
       "w = w_x(x, y) e_x + w_y(x, y) e_y"
      ]
     },
     "execution_count": 68,
     "metadata": {},
     "output_type": "execute_result"
    }
   ],
   "source": [
    "w.display()"
   ]
  },
  {
   "cell_type": "code",
   "execution_count": 69,
   "metadata": {},
   "outputs": [
    {
     "data": {
      "text/html": [
       "<html>\\(\\displaystyle w = \\left( \\cos\\left({\\phi}\\right) w_{x}\\left(r \\cos\\left({\\phi}\\right), r \\sin\\left({\\phi}\\right)\\right) + \\sin\\left({\\phi}\\right) w_{y}\\left(r \\cos\\left({\\phi}\\right), r \\sin\\left({\\phi}\\right)\\right) \\right) e_{ r } + \\left( -\\sin\\left({\\phi}\\right) w_{x}\\left(r \\cos\\left({\\phi}\\right), r \\sin\\left({\\phi}\\right)\\right) + \\cos\\left({\\phi}\\right) w_{y}\\left(r \\cos\\left({\\phi}\\right), r \\sin\\left({\\phi}\\right)\\right) \\right) e_{ {\\phi} }\\)</html>"
      ],
      "text/latex": [
       "$\\displaystyle w = \\left( \\cos\\left({\\phi}\\right) w_{x}\\left(r \\cos\\left({\\phi}\\right), r \\sin\\left({\\phi}\\right)\\right) + \\sin\\left({\\phi}\\right) w_{y}\\left(r \\cos\\left({\\phi}\\right), r \\sin\\left({\\phi}\\right)\\right) \\right) e_{ r } + \\left( -\\sin\\left({\\phi}\\right) w_{x}\\left(r \\cos\\left({\\phi}\\right), r \\sin\\left({\\phi}\\right)\\right) + \\cos\\left({\\phi}\\right) w_{y}\\left(r \\cos\\left({\\phi}\\right), r \\sin\\left({\\phi}\\right)\\right) \\right) e_{ {\\phi} }$"
      ],
      "text/plain": [
       "w = (cos(ph)*w_x(r*cos(ph), r*sin(ph)) + sin(ph)*w_y(r*cos(ph), r*sin(ph))) e_r + (-sin(ph)*w_x(r*cos(ph), r*sin(ph)) + cos(ph)*w_y(r*cos(ph), r*sin(ph))) e_ph"
      ]
     },
     "execution_count": 69,
     "metadata": {},
     "output_type": "execute_result"
    }
   ],
   "source": [
    "w.display(polar_frame, polar)"
   ]
  },
  {
   "cell_type": "markdown",
   "metadata": {},
   "source": [
    "### Gradient in polar coordinates\n",
    "\n",
    "Let us define a generic scalar field in terms of polar coordinates:"
   ]
  },
  {
   "cell_type": "code",
   "execution_count": 70,
   "metadata": {},
   "outputs": [
    {
     "data": {
      "text/html": [
       "<html>\\(\\displaystyle \\begin{array}{llcl} H:& \\mathbb{E}^{2} & \\longrightarrow & \\mathbb{R} \\\\ & \\left(r, {\\phi}\\right) & \\longmapsto & h\\left(r, {\\phi}\\right) \\end{array}\\)</html>"
      ],
      "text/latex": [
       "$\\displaystyle \\begin{array}{llcl} H:& \\mathbb{E}^{2} & \\longrightarrow & \\mathbb{R} \\\\ & \\left(r, {\\phi}\\right) & \\longmapsto & h\\left(r, {\\phi}\\right) \\end{array}$"
      ],
      "text/plain": [
       "H: E^2 → ℝ\n",
       "   (r, ph) ↦ h(r, ph)"
      ]
     },
     "execution_count": 70,
     "metadata": {},
     "output_type": "execute_result"
    }
   ],
   "source": [
    "H = E.scalar_field({polar: function('h')(r,ph)}, name='H')\n",
    "H.display(polar)"
   ]
  },
  {
   "cell_type": "markdown",
   "metadata": {},
   "source": [
    "The gradient of $H$ is then"
   ]
  },
  {
   "cell_type": "code",
   "execution_count": 71,
   "metadata": {},
   "outputs": [
    {
     "data": {
      "text/html": [
       "<html>\\(\\displaystyle \\mathrm{grad}\\left(H\\right) = \\frac{\\partial\\,h}{\\partial r} e_{ r } + \\frac{\\frac{\\partial\\,h}{\\partial {\\phi}}}{r} e_{ {\\phi} }\\)</html>"
      ],
      "text/latex": [
       "$\\displaystyle \\mathrm{grad}\\left(H\\right) = \\frac{\\partial\\,h}{\\partial r} e_{ r } + \\frac{\\frac{\\partial\\,h}{\\partial {\\phi}}}{r} e_{ {\\phi} }$"
      ],
      "text/plain": [
       "grad(H) = d(h)/dr e_r + d(h)/dph/r e_ph"
      ]
     },
     "execution_count": 71,
     "metadata": {},
     "output_type": "execute_result"
    }
   ],
   "source": [
    "grad(H).display(polar_frame, polar)"
   ]
  },
  {
   "cell_type": "markdown",
   "metadata": {},
   "source": [
    "To access to individual components is perfomed by the square bracket operator, where, in addition to the index, one has to specify the vector frame (as the first element) and the coordinate chart (as the last element) if they are not the default ones:"
   ]
  },
  {
   "cell_type": "code",
   "execution_count": 72,
   "metadata": {},
   "outputs": [
    {
     "data": {
      "text/html": [
       "<html>\\(\\displaystyle \\frac{\\frac{\\partial\\,h}{\\partial {\\phi}}}{r}\\)</html>"
      ],
      "text/latex": [
       "$\\displaystyle \\frac{\\frac{\\partial\\,h}{\\partial {\\phi}}}{r}$"
      ],
      "text/plain": [
       "d(h)/dph/r"
      ]
     },
     "execution_count": 72,
     "metadata": {},
     "output_type": "execute_result"
    }
   ],
   "source": [
    "grad(H)[polar_frame, 2, polar]"
   ]
  },
  {
   "cell_type": "code",
   "execution_count": 73,
   "metadata": {},
   "outputs": [
    {
     "data": {
      "text/html": [
       "<html>\\(\\displaystyle \\mathrm{grad}\\left(H\\right) = \\left( \\frac{r \\cos\\left({\\phi}\\right) \\frac{\\partial\\,h}{\\partial r} - \\sin\\left({\\phi}\\right) \\frac{\\partial\\,h}{\\partial {\\phi}}}{r} \\right) e_{ x } + \\left( \\frac{r \\sin\\left({\\phi}\\right) \\frac{\\partial\\,h}{\\partial r} + \\cos\\left({\\phi}\\right) \\frac{\\partial\\,h}{\\partial {\\phi}}}{r} \\right) e_{ y }\\)</html>"
      ],
      "text/latex": [
       "$\\displaystyle \\mathrm{grad}\\left(H\\right) = \\left( \\frac{r \\cos\\left({\\phi}\\right) \\frac{\\partial\\,h}{\\partial r} - \\sin\\left({\\phi}\\right) \\frac{\\partial\\,h}{\\partial {\\phi}}}{r} \\right) e_{ x } + \\left( \\frac{r \\sin\\left({\\phi}\\right) \\frac{\\partial\\,h}{\\partial r} + \\cos\\left({\\phi}\\right) \\frac{\\partial\\,h}{\\partial {\\phi}}}{r} \\right) e_{ y }$"
      ],
      "text/plain": [
       "grad(H) = (r*cos(ph)*d(h)/dr - sin(ph)*d(h)/dph)/r e_x + (r*sin(ph)*d(h)/dr + cos(ph)*d(h)/dph)/r e_y"
      ]
     },
     "execution_count": 73,
     "metadata": {},
     "output_type": "execute_result"
    }
   ],
   "source": [
    "grad(H).display(cartesian.frame(), polar)"
   ]
  },
  {
   "cell_type": "markdown",
   "metadata": {},
   "source": [
    "### Divergence in polar coordinates\n",
    "\n",
    "Let us define a generic vector field in terms of polar coordinates:"
   ]
  },
  {
   "cell_type": "code",
   "execution_count": 74,
   "metadata": {},
   "outputs": [
    {
     "data": {
      "text/html": [
       "<html>\\(\\displaystyle u = u_{r}\\left(r, {\\phi}\\right) e_{ r } + u_\\phi\\left(r, {\\phi}\\right) e_{ {\\phi} }\\)</html>"
      ],
      "text/latex": [
       "$\\displaystyle u = u_{r}\\left(r, {\\phi}\\right) e_{ r } + u_\\phi\\left(r, {\\phi}\\right) e_{ {\\phi} }$"
      ],
      "text/plain": [
       "u = u_r(r, ph) e_r + u_ph(r, ph) e_ph"
      ]
     },
     "execution_count": 74,
     "metadata": {},
     "output_type": "execute_result"
    }
   ],
   "source": [
    "u = E.vector_field(function('u_r')(r,ph),\n",
    "                   function('u_ph', latex_name=r'u_\\phi')(r,ph),\n",
    "                   frame=polar_frame, chart=polar, name='u')\n",
    "u.display(polar_frame, polar)"
   ]
  },
  {
   "cell_type": "code",
   "execution_count": 75,
   "metadata": {},
   "outputs": [
    {
     "data": {
      "text/html": [
       "<html>\\(\\displaystyle \\begin{array}{llcl} \\mathrm{div}\\left(u\\right):& \\mathbb{E}^{2} & \\longrightarrow & \\mathbb{R} \\\\ & \\left(r, {\\phi}\\right) & \\longmapsto & \\frac{r \\frac{\\partial\\,u_{r}}{\\partial r} + u_{r}\\left(r, {\\phi}\\right) + \\frac{\\partial\\,u_\\phi}{\\partial {\\phi}}}{r} \\end{array}\\)</html>"
      ],
      "text/latex": [
       "$\\displaystyle \\begin{array}{llcl} \\mathrm{div}\\left(u\\right):& \\mathbb{E}^{2} & \\longrightarrow & \\mathbb{R} \\\\ & \\left(r, {\\phi}\\right) & \\longmapsto & \\frac{r \\frac{\\partial\\,u_{r}}{\\partial r} + u_{r}\\left(r, {\\phi}\\right) + \\frac{\\partial\\,u_\\phi}{\\partial {\\phi}}}{r} \\end{array}$"
      ],
      "text/plain": [
       "div(u): E^2 → ℝ\n",
       "   (r, ph) ↦ (r*d(u_r)/dr + u_r(r, ph) + d(u_ph)/dph)/r"
      ]
     },
     "execution_count": 75,
     "metadata": {},
     "output_type": "execute_result"
    }
   ],
   "source": [
    "div(u).display(polar)"
   ]
  },
  {
   "cell_type": "code",
   "execution_count": 76,
   "metadata": {},
   "outputs": [
    {
     "data": {
      "text/html": [
       "<html>\\(\\displaystyle \\frac{r \\frac{\\partial}{\\partial r}u_{r}\\left(r, {\\phi}\\right) + u_{r}\\left(r, {\\phi}\\right) + \\frac{\\partial}{\\partial {\\phi}}u_\\phi\\left(r, {\\phi}\\right)}{r}\\)</html>"
      ],
      "text/latex": [
       "$\\displaystyle \\frac{r \\frac{\\partial}{\\partial r}u_{r}\\left(r, {\\phi}\\right) + u_{r}\\left(r, {\\phi}\\right) + \\frac{\\partial}{\\partial {\\phi}}u_\\phi\\left(r, {\\phi}\\right)}{r}$"
      ],
      "text/plain": [
       "(r*diff(u_r(r, ph), r) + u_r(r, ph) + diff(u_ph(r, ph), ph))/r"
      ]
     },
     "execution_count": 76,
     "metadata": {},
     "output_type": "execute_result"
    }
   ],
   "source": [
    "div(u).expr(polar)"
   ]
  },
  {
   "cell_type": "code",
   "execution_count": 77,
   "metadata": {},
   "outputs": [
    {
     "data": {
      "text/html": [
       "<html>\\(\\displaystyle \\frac{u_{r}\\left(r, {\\phi}\\right)}{r} + \\frac{\\frac{\\partial}{\\partial {\\phi}}u_\\phi\\left(r, {\\phi}\\right)}{r} + \\frac{\\partial}{\\partial r}u_{r}\\left(r, {\\phi}\\right)\\)</html>"
      ],
      "text/latex": [
       "$\\displaystyle \\frac{u_{r}\\left(r, {\\phi}\\right)}{r} + \\frac{\\frac{\\partial}{\\partial {\\phi}}u_\\phi\\left(r, {\\phi}\\right)}{r} + \\frac{\\partial}{\\partial r}u_{r}\\left(r, {\\phi}\\right)$"
      ],
      "text/plain": [
       "u_r(r, ph)/r + diff(u_ph(r, ph), ph)/r + diff(u_r(r, ph), r)"
      ]
     },
     "execution_count": 77,
     "metadata": {},
     "output_type": "execute_result"
    }
   ],
   "source": [
    "div(u).expr(polar).expand()"
   ]
  },
  {
   "cell_type": "markdown",
   "metadata": {},
   "source": [
    "### Using polar coordinates by default:\n",
    "\n",
    "In order to avoid specifying the arguments `polar_frame` and `polar` in `display()`, `expr()` and `[]`, we may change the default values by"
   ]
  },
  {
   "cell_type": "code",
   "execution_count": 78,
   "metadata": {},
   "outputs": [],
   "source": [
    "E.set_default_chart(polar)\n",
    "E.set_default_frame(polar_frame)"
   ]
  },
  {
   "cell_type": "markdown",
   "metadata": {},
   "source": [
    "Then we have"
   ]
  },
  {
   "cell_type": "code",
   "execution_count": 79,
   "metadata": {},
   "outputs": [
    {
     "data": {
      "text/html": [
       "<html>\\(\\displaystyle u = u_{r}\\left(r, {\\phi}\\right) e_{ r } + u_\\phi\\left(r, {\\phi}\\right) e_{ {\\phi} }\\)</html>"
      ],
      "text/latex": [
       "$\\displaystyle u = u_{r}\\left(r, {\\phi}\\right) e_{ r } + u_\\phi\\left(r, {\\phi}\\right) e_{ {\\phi} }$"
      ],
      "text/plain": [
       "u = u_r(r, ph) e_r + u_ph(r, ph) e_ph"
      ]
     },
     "execution_count": 79,
     "metadata": {},
     "output_type": "execute_result"
    }
   ],
   "source": [
    "u.display()"
   ]
  },
  {
   "cell_type": "code",
   "execution_count": 80,
   "metadata": {},
   "outputs": [
    {
     "data": {
      "text/html": [
       "<html>\\(\\displaystyle u_{r}\\left(r, {\\phi}\\right)\\)</html>"
      ],
      "text/latex": [
       "$\\displaystyle u_{r}\\left(r, {\\phi}\\right)$"
      ],
      "text/plain": [
       "u_r(r, ph)"
      ]
     },
     "execution_count": 80,
     "metadata": {},
     "output_type": "execute_result"
    }
   ],
   "source": [
    "u[1]"
   ]
  },
  {
   "cell_type": "code",
   "execution_count": 81,
   "metadata": {},
   "outputs": [
    {
     "data": {
      "text/html": [
       "<html>\\(\\displaystyle v = r e_{ {\\phi} }\\)</html>"
      ],
      "text/latex": [
       "$\\displaystyle v = r e_{ {\\phi} }$"
      ],
      "text/plain": [
       "v = r e_ph"
      ]
     },
     "execution_count": 81,
     "metadata": {},
     "output_type": "execute_result"
    }
   ],
   "source": [
    "v.display()"
   ]
  },
  {
   "cell_type": "code",
   "execution_count": 82,
   "metadata": {},
   "outputs": [
    {
     "data": {
      "text/html": [
       "<html>\\(\\displaystyle r\\)</html>"
      ],
      "text/latex": [
       "$\\displaystyle r$"
      ],
      "text/plain": [
       "r"
      ]
     },
     "execution_count": 82,
     "metadata": {},
     "output_type": "execute_result"
    }
   ],
   "source": [
    "v[2]"
   ]
  },
  {
   "cell_type": "code",
   "execution_count": 83,
   "metadata": {},
   "outputs": [
    {
     "data": {
      "text/html": [
       "<html>\\(\\displaystyle w = \\left( \\cos\\left({\\phi}\\right) w_{x}\\left(r \\cos\\left({\\phi}\\right), r \\sin\\left({\\phi}\\right)\\right) + \\sin\\left({\\phi}\\right) w_{y}\\left(r \\cos\\left({\\phi}\\right), r \\sin\\left({\\phi}\\right)\\right) \\right) e_{ r } + \\left( -\\sin\\left({\\phi}\\right) w_{x}\\left(r \\cos\\left({\\phi}\\right), r \\sin\\left({\\phi}\\right)\\right) + \\cos\\left({\\phi}\\right) w_{y}\\left(r \\cos\\left({\\phi}\\right), r \\sin\\left({\\phi}\\right)\\right) \\right) e_{ {\\phi} }\\)</html>"
      ],
      "text/latex": [
       "$\\displaystyle w = \\left( \\cos\\left({\\phi}\\right) w_{x}\\left(r \\cos\\left({\\phi}\\right), r \\sin\\left({\\phi}\\right)\\right) + \\sin\\left({\\phi}\\right) w_{y}\\left(r \\cos\\left({\\phi}\\right), r \\sin\\left({\\phi}\\right)\\right) \\right) e_{ r } + \\left( -\\sin\\left({\\phi}\\right) w_{x}\\left(r \\cos\\left({\\phi}\\right), r \\sin\\left({\\phi}\\right)\\right) + \\cos\\left({\\phi}\\right) w_{y}\\left(r \\cos\\left({\\phi}\\right), r \\sin\\left({\\phi}\\right)\\right) \\right) e_{ {\\phi} }$"
      ],
      "text/plain": [
       "w = (cos(ph)*w_x(r*cos(ph), r*sin(ph)) + sin(ph)*w_y(r*cos(ph), r*sin(ph))) e_r + (-sin(ph)*w_x(r*cos(ph), r*sin(ph)) + cos(ph)*w_y(r*cos(ph), r*sin(ph))) e_ph"
      ]
     },
     "execution_count": 83,
     "metadata": {},
     "output_type": "execute_result"
    }
   ],
   "source": [
    "w.display()"
   ]
  },
  {
   "cell_type": "code",
   "execution_count": 84,
   "metadata": {},
   "outputs": [
    {
     "data": {
      "text/html": [
       "<html>\\(\\displaystyle \\frac{r \\frac{\\partial}{\\partial r}u_{r}\\left(r, {\\phi}\\right) + u_{r}\\left(r, {\\phi}\\right) + \\frac{\\partial}{\\partial {\\phi}}u_\\phi\\left(r, {\\phi}\\right)}{r}\\)</html>"
      ],
      "text/latex": [
       "$\\displaystyle \\frac{r \\frac{\\partial}{\\partial r}u_{r}\\left(r, {\\phi}\\right) + u_{r}\\left(r, {\\phi}\\right) + \\frac{\\partial}{\\partial {\\phi}}u_\\phi\\left(r, {\\phi}\\right)}{r}$"
      ],
      "text/plain": [
       "(r*diff(u_r(r, ph), r) + u_r(r, ph) + diff(u_ph(r, ph), ph))/r"
      ]
     },
     "execution_count": 84,
     "metadata": {},
     "output_type": "execute_result"
    }
   ],
   "source": [
    "div(u).expr()"
   ]
  },
  {
   "cell_type": "markdown",
   "metadata": {},
   "source": [
    "## 5. Advanced topics: the Euclidean plane as a Riemannian manifold\n",
    "\n",
    "$\\mathbb{E}^2$ is actually a Riemannian manifold, i.e. a smooth real manifold endowed with a positive definite metric tensor:"
   ]
  },
  {
   "cell_type": "code",
   "execution_count": 85,
   "metadata": {},
   "outputs": [
    {
     "name": "stdout",
     "output_type": "stream",
     "text": [
      "Join of Category of smooth manifolds over Real Field with 53 bits of precision and Category of connected manifolds over Real Field with 53 bits of precision and Category of complete metric spaces\n"
     ]
    }
   ],
   "source": [
    "print(E.category())"
   ]
  },
  {
   "cell_type": "code",
   "execution_count": 86,
   "metadata": {},
   "outputs": [
    {
     "data": {
      "text/html": [
       "<html>\\(\\displaystyle \\mathrm{True}\\)</html>"
      ],
      "text/latex": [
       "$\\displaystyle \\mathrm{True}$"
      ],
      "text/plain": [
       "True"
      ]
     },
     "execution_count": 86,
     "metadata": {},
     "output_type": "execute_result"
    }
   ],
   "source": [
    "E.base_field() is RR"
   ]
  },
  {
   "cell_type": "markdown",
   "metadata": {},
   "source": [
    "Actually `RR` is used here as a proxy for the real field (this should be replaced in the future, see the discussion at [#24456](https://github.com/sagemath/sage/issues/24456)) and the 53 bits of precision play of course no role for the symbolic computations. "
   ]
  },
  {
   "cell_type": "markdown",
   "metadata": {},
   "source": [
    "The user atlas of $\\mathbb{E}^2$ has two charts:"
   ]
  },
  {
   "cell_type": "code",
   "execution_count": 87,
   "metadata": {},
   "outputs": [
    {
     "data": {
      "text/html": [
       "<html>\\(\\displaystyle \\left[\\left(\\mathbb{E}^{2},(x, y)\\right), \\left(\\mathbb{E}^{2},(r, {\\phi})\\right)\\right]\\)</html>"
      ],
      "text/latex": [
       "$\\displaystyle \\left[\\left(\\mathbb{E}^{2},(x, y)\\right), \\left(\\mathbb{E}^{2},(r, {\\phi})\\right)\\right]$"
      ],
      "text/plain": [
       "[Chart (E^2, (x, y)), Chart (E^2, (r, ph))]"
      ]
     },
     "execution_count": 87,
     "metadata": {},
     "output_type": "execute_result"
    }
   ],
   "source": [
    "E.atlas()"
   ]
  },
  {
   "cell_type": "markdown",
   "metadata": {},
   "source": [
    "while there are three vector frames defined on $\\mathbb{E}^2$:"
   ]
  },
  {
   "cell_type": "code",
   "execution_count": 88,
   "metadata": {},
   "outputs": [
    {
     "data": {
      "text/html": [
       "<html>\\(\\displaystyle \\left[\\left(\\mathbb{E}^{2}, \\left(e_{ x },e_{ y }\\right)\\right), \\left(\\mathbb{E}^{2}, \\left(\\frac{\\partial}{\\partial r },\\frac{\\partial}{\\partial {\\phi} }\\right)\\right), \\left(\\mathbb{E}^{2}, \\left(e_{ r },e_{ {\\phi} }\\right)\\right)\\right]\\)</html>"
      ],
      "text/latex": [
       "$\\displaystyle \\left[\\left(\\mathbb{E}^{2}, \\left(e_{ x },e_{ y }\\right)\\right), \\left(\\mathbb{E}^{2}, \\left(\\frac{\\partial}{\\partial r },\\frac{\\partial}{\\partial {\\phi} }\\right)\\right), \\left(\\mathbb{E}^{2}, \\left(e_{ r },e_{ {\\phi} }\\right)\\right)\\right]$"
      ],
      "text/plain": [
       "[Coordinate frame (E^2, (e_x,e_y)),\n",
       " Coordinate frame (E^2, (∂/∂r,∂/∂ph)),\n",
       " Vector frame (E^2, (e_r,e_ph))]"
      ]
     },
     "execution_count": 88,
     "metadata": {},
     "output_type": "execute_result"
    }
   ],
   "source": [
    "E.frames()"
   ]
  },
  {
   "cell_type": "markdown",
   "metadata": {},
   "source": [
    "Indeed, there are two frames associated with polar coordinates: the coordinate frame $(\\frac{\\partial}{\\partial r}, \\frac{\\partial}{\\partial \\phi})$ and the orthonormal frame $(e_r, e_\\phi)$."
   ]
  },
  {
   "cell_type": "markdown",
   "metadata": {},
   "source": [
    "### Riemannian metric\n",
    "\n",
    "The default metric tensor of $\\mathbb{E}^2$ is"
   ]
  },
  {
   "cell_type": "code",
   "execution_count": 89,
   "metadata": {},
   "outputs": [
    {
     "name": "stdout",
     "output_type": "stream",
     "text": [
      "Riemannian metric g on the Euclidean plane E^2\n"
     ]
    }
   ],
   "source": [
    "g = E.metric()\n",
    "print(g)"
   ]
  },
  {
   "cell_type": "code",
   "execution_count": 90,
   "metadata": {},
   "outputs": [
    {
     "data": {
      "text/html": [
       "<html>\\(\\displaystyle g = e^{ r }\\otimes e^{ r }+e^{ {\\phi} }\\otimes e^{ {\\phi} }\\)</html>"
      ],
      "text/latex": [
       "$\\displaystyle g = e^{ r }\\otimes e^{ r }+e^{ {\\phi} }\\otimes e^{ {\\phi} }$"
      ],
      "text/plain": [
       "g = e^r⊗e^r + e^ph⊗e^ph"
      ]
     },
     "execution_count": 90,
     "metadata": {},
     "output_type": "execute_result"
    }
   ],
   "source": [
    "g.display()"
   ]
  },
  {
   "cell_type": "markdown",
   "metadata": {},
   "source": [
    "In the above display, $e^r$ and $e^\\phi$ are the 1-forms defining the coframe dual to the orthonormal polar frame $(e_r,e_\\phi)$, which is the default vector frame on $\\mathbb{E}^2$:"
   ]
  },
  {
   "cell_type": "code",
   "execution_count": 91,
   "metadata": {},
   "outputs": [
    {
     "data": {
      "text/html": [
       "<html>\\(\\displaystyle \\left(\\mathbb{E}^{2}, \\left(e^{ r },e^{ {\\phi} }\\right)\\right)\\)</html>"
      ],
      "text/latex": [
       "$\\displaystyle \\left(\\mathbb{E}^{2}, \\left(e^{ r },e^{ {\\phi} }\\right)\\right)$"
      ],
      "text/plain": [
       "Coframe (E^2, (e^r,e^ph))"
      ]
     },
     "execution_count": 91,
     "metadata": {},
     "output_type": "execute_result"
    }
   ],
   "source": [
    "polar_frame.coframe()"
   ]
  },
  {
   "cell_type": "markdown",
   "metadata": {},
   "source": [
    "Of course, we may ask for display with respect to frames different from the default one:"
   ]
  },
  {
   "cell_type": "code",
   "execution_count": 92,
   "metadata": {},
   "outputs": [
    {
     "data": {
      "text/html": [
       "<html>\\(\\displaystyle g = \\mathrm{d} x\\otimes \\mathrm{d} x+\\mathrm{d} y\\otimes \\mathrm{d} y\\)</html>"
      ],
      "text/latex": [
       "$\\displaystyle g = \\mathrm{d} x\\otimes \\mathrm{d} x+\\mathrm{d} y\\otimes \\mathrm{d} y$"
      ],
      "text/plain": [
       "g = dx⊗dx + dy⊗dy"
      ]
     },
     "execution_count": 92,
     "metadata": {},
     "output_type": "execute_result"
    }
   ],
   "source": [
    "g.display(cartesian.frame())"
   ]
  },
  {
   "cell_type": "code",
   "execution_count": 93,
   "metadata": {},
   "outputs": [
    {
     "data": {
      "text/html": [
       "<html>\\(\\displaystyle g = \\mathrm{d} r\\otimes \\mathrm{d} r + r^{2} \\mathrm{d} {\\phi}\\otimes \\mathrm{d} {\\phi}\\)</html>"
      ],
      "text/latex": [
       "$\\displaystyle g = \\mathrm{d} r\\otimes \\mathrm{d} r + r^{2} \\mathrm{d} {\\phi}\\otimes \\mathrm{d} {\\phi}$"
      ],
      "text/plain": [
       "g = dr⊗dr + r^2 dph⊗dph"
      ]
     },
     "execution_count": 93,
     "metadata": {},
     "output_type": "execute_result"
    }
   ],
   "source": [
    "g.display(polar.frame())"
   ]
  },
  {
   "cell_type": "code",
   "execution_count": 94,
   "metadata": {},
   "outputs": [
    {
     "data": {
      "text/html": [
       "<html>\\(\\displaystyle \\left(\\begin{array}{rr}\n",
       "1 & 0 \\\\\n",
       "0 & 1\n",
       "\\end{array}\\right)\\)</html>"
      ],
      "text/latex": [
       "$\\displaystyle \\left(\\begin{array}{rr}\n",
       "1 & 0 \\\\\n",
       "0 & 1\n",
       "\\end{array}\\right)$"
      ],
      "text/plain": [
       "[1 0]\n",
       "[0 1]"
      ]
     },
     "execution_count": 94,
     "metadata": {},
     "output_type": "execute_result"
    }
   ],
   "source": [
    "g[:]"
   ]
  },
  {
   "cell_type": "code",
   "execution_count": 95,
   "metadata": {},
   "outputs": [
    {
     "data": {
      "text/html": [
       "<html>\\(\\displaystyle \\left(\\begin{array}{rr}\n",
       "1 & 0 \\\\\n",
       "0 & r^{2}\n",
       "\\end{array}\\right)\\)</html>"
      ],
      "text/latex": [
       "$\\displaystyle \\left(\\begin{array}{rr}\n",
       "1 & 0 \\\\\n",
       "0 & r^{2}\n",
       "\\end{array}\\right)$"
      ],
      "text/plain": [
       "[  1   0]\n",
       "[  0 r^2]"
      ]
     },
     "execution_count": 95,
     "metadata": {},
     "output_type": "execute_result"
    }
   ],
   "source": [
    "g[polar.frame(),:]"
   ]
  },
  {
   "cell_type": "markdown",
   "metadata": {},
   "source": [
    "It is a *flat* metric: its (Riemann) curvature tensor is zero: "
   ]
  },
  {
   "cell_type": "code",
   "execution_count": 96,
   "metadata": {},
   "outputs": [
    {
     "name": "stdout",
     "output_type": "stream",
     "text": [
      "Tensor field Riem(g) of type (1,3) on the Euclidean plane E^2\n"
     ]
    }
   ],
   "source": [
    "print(g.riemann())"
   ]
  },
  {
   "cell_type": "code",
   "execution_count": 97,
   "metadata": {},
   "outputs": [
    {
     "data": {
      "text/html": [
       "<html>\\(\\displaystyle \\mathrm{Riem}\\left(g\\right) = 0\\)</html>"
      ],
      "text/latex": [
       "$\\displaystyle \\mathrm{Riem}\\left(g\\right) = 0$"
      ],
      "text/plain": [
       "Riem(g) = 0"
      ]
     },
     "execution_count": 97,
     "metadata": {},
     "output_type": "execute_result"
    }
   ],
   "source": [
    "g.riemann().display()"
   ]
  },
  {
   "cell_type": "markdown",
   "metadata": {},
   "source": [
    "The metric $g$ is defining the dot product on $\\mathbb{E}^2$:"
   ]
  },
  {
   "cell_type": "code",
   "execution_count": 98,
   "metadata": {},
   "outputs": [
    {
     "data": {
      "text/html": [
       "<html>\\(\\displaystyle \\mathrm{True}\\)</html>"
      ],
      "text/latex": [
       "$\\displaystyle \\mathrm{True}$"
      ],
      "text/plain": [
       "True"
      ]
     },
     "execution_count": 98,
     "metadata": {},
     "output_type": "execute_result"
    }
   ],
   "source": [
    "v.dot(w) == g(v,w)"
   ]
  },
  {
   "cell_type": "code",
   "execution_count": 99,
   "metadata": {},
   "outputs": [
    {
     "data": {
      "text/html": [
       "<html>\\(\\displaystyle \\mathrm{True}\\)</html>"
      ],
      "text/latex": [
       "$\\displaystyle \\mathrm{True}$"
      ],
      "text/plain": [
       "True"
      ]
     },
     "execution_count": 99,
     "metadata": {},
     "output_type": "execute_result"
    }
   ],
   "source": [
    "norm(v) == sqrt(g(v,v))"
   ]
  },
  {
   "cell_type": "markdown",
   "metadata": {},
   "source": [
    "### Vector fields as derivatives"
   ]
  },
  {
   "cell_type": "markdown",
   "metadata": {},
   "source": [
    "Vector fields acts as derivative on scalar fields: "
   ]
  },
  {
   "cell_type": "code",
   "execution_count": 100,
   "metadata": {},
   "outputs": [
    {
     "name": "stdout",
     "output_type": "stream",
     "text": [
      "Scalar field v(F) on the Euclidean plane E^2\n"
     ]
    }
   ],
   "source": [
    "print(v(F))"
   ]
  },
  {
   "cell_type": "code",
   "execution_count": 101,
   "metadata": {},
   "outputs": [
    {
     "data": {
      "text/html": [
       "<html>\\(\\displaystyle \\begin{array}{llcl} v\\left(F\\right):& \\mathbb{E}^{2} & \\longrightarrow & \\mathbb{R} \\\\ & \\left(x, y\\right) & \\longmapsto & -y \\frac{\\partial\\,f}{\\partial x} + x \\frac{\\partial\\,f}{\\partial y} \\\\ & \\left(r, {\\phi}\\right) & \\longmapsto & -r \\sin\\left({\\phi}\\right) \\frac{\\partial\\,f}{\\partial \\left( r \\cos\\left({\\phi}\\right) \\right)} + r \\cos\\left({\\phi}\\right) \\frac{\\partial\\,f}{\\partial \\left( r \\sin\\left({\\phi}\\right) \\right)} \\end{array}\\)</html>"
      ],
      "text/latex": [
       "$\\displaystyle \\begin{array}{llcl} v\\left(F\\right):& \\mathbb{E}^{2} & \\longrightarrow & \\mathbb{R} \\\\ & \\left(x, y\\right) & \\longmapsto & -y \\frac{\\partial\\,f}{\\partial x} + x \\frac{\\partial\\,f}{\\partial y} \\\\ & \\left(r, {\\phi}\\right) & \\longmapsto & -r \\sin\\left({\\phi}\\right) \\frac{\\partial\\,f}{\\partial \\left( r \\cos\\left({\\phi}\\right) \\right)} + r \\cos\\left({\\phi}\\right) \\frac{\\partial\\,f}{\\partial \\left( r \\sin\\left({\\phi}\\right) \\right)} \\end{array}$"
      ],
      "text/plain": [
       "v(F): E^2 → ℝ\n",
       "   (x, y) ↦ -y*d(f)/dx + x*d(f)/dy\n",
       "   (r, ph) ↦ -r*sin(ph)*d(f)/d(r*cos(ph)) + r*cos(ph)*d(f)/d(r*sin(ph))"
      ]
     },
     "execution_count": 101,
     "metadata": {},
     "output_type": "execute_result"
    }
   ],
   "source": [
    "v(F).display()"
   ]
  },
  {
   "cell_type": "code",
   "execution_count": 102,
   "metadata": {},
   "outputs": [
    {
     "data": {
      "text/html": [
       "<html>\\(\\displaystyle \\mathrm{True}\\)</html>"
      ],
      "text/latex": [
       "$\\displaystyle \\mathrm{True}$"
      ],
      "text/plain": [
       "True"
      ]
     },
     "execution_count": 102,
     "metadata": {},
     "output_type": "execute_result"
    }
   ],
   "source": [
    "v(F) == v.dot(grad(F))"
   ]
  },
  {
   "cell_type": "code",
   "execution_count": 103,
   "metadata": {},
   "outputs": [
    {
     "name": "stdout",
     "output_type": "stream",
     "text": [
      "1-form dF on the Euclidean plane E^2\n"
     ]
    }
   ],
   "source": [
    "dF = F.differential()\n",
    "print(dF)"
   ]
  },
  {
   "cell_type": "code",
   "execution_count": 104,
   "metadata": {},
   "outputs": [
    {
     "data": {
      "text/html": [
       "<html>\\(\\displaystyle \\mathrm{True}\\)</html>"
      ],
      "text/latex": [
       "$\\displaystyle \\mathrm{True}$"
      ],
      "text/plain": [
       "True"
      ]
     },
     "execution_count": 104,
     "metadata": {},
     "output_type": "execute_result"
    }
   ],
   "source": [
    "v(F) == dF(v)"
   ]
  },
  {
   "cell_type": "markdown",
   "metadata": {},
   "source": [
    "The set $\\mathfrak{X}(\\mathbb{E}^2)$ of all vector fields on $\\mathbb{E}^2$ is a free module of rank 2 over the commutative algebra of smooth scalar fields on $\\mathbb{E}^2$, $C^\\infty(\\mathbb{E}^2)$:"
   ]
  },
  {
   "cell_type": "code",
   "execution_count": 105,
   "metadata": {},
   "outputs": [
    {
     "name": "stdout",
     "output_type": "stream",
     "text": [
      "Free module X(E^2) of vector fields on the Euclidean plane E^2\n"
     ]
    },
    {
     "data": {
      "text/html": [
       "<html>\\(\\displaystyle \\mathfrak{X}\\left(\\mathbb{E}^{2}\\right)\\)</html>"
      ],
      "text/latex": [
       "$\\displaystyle \\mathfrak{X}\\left(\\mathbb{E}^{2}\\right)$"
      ],
      "text/plain": [
       "Free module X(E^2) of vector fields on the Euclidean plane E^2"
      ]
     },
     "execution_count": 105,
     "metadata": {},
     "output_type": "execute_result"
    }
   ],
   "source": [
    "XE = v.parent()\n",
    "print(XE)\n",
    "XE"
   ]
  },
  {
   "cell_type": "code",
   "execution_count": 106,
   "metadata": {},
   "outputs": [
    {
     "name": "stdout",
     "output_type": "stream",
     "text": [
      "Category of finite dimensional modules over Algebra of differentiable scalar fields on the Euclidean plane E^2\n"
     ]
    }
   ],
   "source": [
    "print(XE.category())"
   ]
  },
  {
   "cell_type": "code",
   "execution_count": 107,
   "metadata": {},
   "outputs": [
    {
     "name": "stdout",
     "output_type": "stream",
     "text": [
      "Algebra of differentiable scalar fields on the Euclidean plane E^2\n"
     ]
    },
    {
     "data": {
      "text/html": [
       "<html>\\(\\displaystyle C^{\\infty}\\left(\\mathbb{E}^{2}\\right)\\)</html>"
      ],
      "text/latex": [
       "$\\displaystyle C^{\\infty}\\left(\\mathbb{E}^{2}\\right)$"
      ],
      "text/plain": [
       "Algebra of differentiable scalar fields on the Euclidean plane E^2"
      ]
     },
     "execution_count": 107,
     "metadata": {},
     "output_type": "execute_result"
    }
   ],
   "source": [
    "print(XE.base_ring())\n",
    "XE.base_ring()"
   ]
  },
  {
   "cell_type": "code",
   "execution_count": 108,
   "metadata": {},
   "outputs": [
    {
     "data": {
      "text/html": [
       "<html>\\(\\displaystyle C^{\\infty}\\left(\\mathbb{E}^{2}\\right)\\)</html>"
      ],
      "text/latex": [
       "$\\displaystyle C^{\\infty}\\left(\\mathbb{E}^{2}\\right)$"
      ],
      "text/plain": [
       "Algebra of differentiable scalar fields on the Euclidean plane E^2"
      ]
     },
     "execution_count": 108,
     "metadata": {},
     "output_type": "execute_result"
    }
   ],
   "source": [
    "CE = F.parent()\n",
    "CE"
   ]
  },
  {
   "cell_type": "code",
   "execution_count": 109,
   "metadata": {},
   "outputs": [
    {
     "data": {
      "text/html": [
       "<html>\\(\\displaystyle \\mathrm{True}\\)</html>"
      ],
      "text/latex": [
       "$\\displaystyle \\mathrm{True}$"
      ],
      "text/plain": [
       "True"
      ]
     },
     "execution_count": 109,
     "metadata": {},
     "output_type": "execute_result"
    }
   ],
   "source": [
    "CE is XE.base_ring()"
   ]
  },
  {
   "cell_type": "code",
   "execution_count": 110,
   "metadata": {},
   "outputs": [
    {
     "name": "stdout",
     "output_type": "stream",
     "text": [
      "Join of Category of commutative algebras over Symbolic Ring and Category of homsets of topological spaces\n"
     ]
    }
   ],
   "source": [
    "print(CE.category())"
   ]
  },
  {
   "cell_type": "code",
   "execution_count": 111,
   "metadata": {},
   "outputs": [
    {
     "data": {
      "text/html": [
       "<html>\\(\\displaystyle 2\\)</html>"
      ],
      "text/latex": [
       "$\\displaystyle 2$"
      ],
      "text/plain": [
       "2"
      ]
     },
     "execution_count": 111,
     "metadata": {},
     "output_type": "execute_result"
    }
   ],
   "source": [
    "rank(XE)"
   ]
  },
  {
   "cell_type": "markdown",
   "metadata": {},
   "source": [
    "The bases of the free module $\\mathfrak{X}(\\mathbb{E}^2)$ are nothing but the vector frames defined on $\\mathbb{E}^2$:"
   ]
  },
  {
   "cell_type": "code",
   "execution_count": 112,
   "metadata": {},
   "outputs": [
    {
     "data": {
      "text/html": [
       "<html>\\(\\displaystyle \\left[\\left(\\mathbb{E}^{2}, \\left(e_{ x },e_{ y }\\right)\\right), \\left(\\mathbb{E}^{2}, \\left(\\frac{\\partial}{\\partial r },\\frac{\\partial}{\\partial {\\phi} }\\right)\\right), \\left(\\mathbb{E}^{2}, \\left(e_{ r },e_{ {\\phi} }\\right)\\right)\\right]\\)</html>"
      ],
      "text/latex": [
       "$\\displaystyle \\left[\\left(\\mathbb{E}^{2}, \\left(e_{ x },e_{ y }\\right)\\right), \\left(\\mathbb{E}^{2}, \\left(\\frac{\\partial}{\\partial r },\\frac{\\partial}{\\partial {\\phi} }\\right)\\right), \\left(\\mathbb{E}^{2}, \\left(e_{ r },e_{ {\\phi} }\\right)\\right)\\right]$"
      ],
      "text/plain": [
       "[Coordinate frame (E^2, (e_x,e_y)),\n",
       " Coordinate frame (E^2, (∂/∂r,∂/∂ph)),\n",
       " Vector frame (E^2, (e_r,e_ph))]"
      ]
     },
     "execution_count": 112,
     "metadata": {},
     "output_type": "execute_result"
    }
   ],
   "source": [
    "XE.bases()"
   ]
  },
  {
   "cell_type": "markdown",
   "metadata": {},
   "source": [
    "### Tangent spaces"
   ]
  },
  {
   "cell_type": "markdown",
   "metadata": {},
   "source": [
    "Vector fields evaluated at a point are vectors in the tangent space at this point:"
   ]
  },
  {
   "cell_type": "code",
   "execution_count": 113,
   "metadata": {},
   "outputs": [
    {
     "data": {
      "text/html": [
       "<html>\\(\\displaystyle v = -3 e_{ x } -2 e_{ y }\\)</html>"
      ],
      "text/latex": [
       "$\\displaystyle v = -3 e_{ x } -2 e_{ y }$"
      ],
      "text/plain": [
       "v = -3 e_x - 2 e_y"
      ]
     },
     "execution_count": 113,
     "metadata": {},
     "output_type": "execute_result"
    }
   ],
   "source": [
    "vp = v.at(p)\n",
    "vp.display()"
   ]
  },
  {
   "cell_type": "code",
   "execution_count": 114,
   "metadata": {},
   "outputs": [
    {
     "name": "stdout",
     "output_type": "stream",
     "text": [
      "Tangent space at Point p on the Euclidean plane E^2\n"
     ]
    },
    {
     "data": {
      "text/html": [
       "<html>\\(\\displaystyle T_{p}\\,\\mathbb{E}^{2}\\)</html>"
      ],
      "text/latex": [
       "$\\displaystyle T_{p}\\,\\mathbb{E}^{2}$"
      ],
      "text/plain": [
       "Tangent space at Point p on the Euclidean plane E^2"
      ]
     },
     "execution_count": 114,
     "metadata": {},
     "output_type": "execute_result"
    }
   ],
   "source": [
    "Tp = vp.parent()\n",
    "print(Tp)\n",
    "Tp"
   ]
  },
  {
   "cell_type": "code",
   "execution_count": 115,
   "metadata": {},
   "outputs": [
    {
     "name": "stdout",
     "output_type": "stream",
     "text": [
      "Category of finite dimensional vector spaces over Symbolic Ring\n"
     ]
    }
   ],
   "source": [
    "print(Tp.category())"
   ]
  },
  {
   "cell_type": "code",
   "execution_count": 116,
   "metadata": {},
   "outputs": [
    {
     "data": {
      "text/html": [
       "<html>\\(\\displaystyle 2\\)</html>"
      ],
      "text/latex": [
       "$\\displaystyle 2$"
      ],
      "text/plain": [
       "2"
      ]
     },
     "execution_count": 116,
     "metadata": {},
     "output_type": "execute_result"
    }
   ],
   "source": [
    "dim(Tp)"
   ]
  },
  {
   "cell_type": "code",
   "execution_count": 117,
   "metadata": {},
   "outputs": [
    {
     "data": {
      "text/html": [
       "<html>\\(\\displaystyle \\mathrm{True}\\)</html>"
      ],
      "text/latex": [
       "$\\displaystyle \\mathrm{True}$"
      ],
      "text/plain": [
       "True"
      ]
     },
     "execution_count": 117,
     "metadata": {},
     "output_type": "execute_result"
    }
   ],
   "source": [
    "isinstance(Tp, FiniteRankFreeModule)"
   ]
  },
  {
   "cell_type": "code",
   "execution_count": 118,
   "metadata": {},
   "outputs": [
    {
     "data": {
      "text/html": [
       "<html>\\(\\displaystyle \\left[\\left(e_{ r },e_{ {\\phi} }\\right), \\left(e_{ x },e_{ y }\\right)\\right]\\)</html>"
      ],
      "text/latex": [
       "$\\displaystyle \\left[\\left(e_{ r },e_{ {\\phi} }\\right), \\left(e_{ x },e_{ y }\\right)\\right]$"
      ],
      "text/plain": [
       "[Basis (e_r,e_ph) on the Tangent space at Point p on the Euclidean plane E^2,\n",
       " Basis (e_x,e_y) on the Tangent space at Point p on the Euclidean plane E^2]"
      ]
     },
     "execution_count": 118,
     "metadata": {},
     "output_type": "execute_result"
    }
   ],
   "source": [
    "sorted(Tp.bases(), key=str)"
   ]
  },
  {
   "cell_type": "markdown",
   "metadata": {},
   "source": [
    "### Levi-Civita connection\n",
    "\n",
    "The Levi-Civita connection associated to the Euclidean metric $g$ is"
   ]
  },
  {
   "cell_type": "code",
   "execution_count": 119,
   "metadata": {},
   "outputs": [
    {
     "name": "stdout",
     "output_type": "stream",
     "text": [
      "Levi-Civita connection nabla_g associated with the Riemannian metric g on the Euclidean plane E^2\n"
     ]
    },
    {
     "data": {
      "text/html": [
       "<html>\\(\\displaystyle \\nabla_{g}\\)</html>"
      ],
      "text/latex": [
       "$\\displaystyle \\nabla_{g}$"
      ],
      "text/plain": [
       "Levi-Civita connection nabla_g associated with the Riemannian metric g on the Euclidean plane E^2"
      ]
     },
     "execution_count": 119,
     "metadata": {},
     "output_type": "execute_result"
    }
   ],
   "source": [
    "nabla = g.connection()\n",
    "print(nabla)\n",
    "nabla"
   ]
  },
  {
   "cell_type": "markdown",
   "metadata": {},
   "source": [
    "The corresponding Christoffel symbols with respect to the polar coordinates are:"
   ]
  },
  {
   "cell_type": "code",
   "execution_count": 120,
   "metadata": {},
   "outputs": [
    {
     "data": {
      "text/html": [
       "<html>\\(\\displaystyle \\begin{array}{lcl} \\Gamma_{ \\phantom{\\, r} \\, {\\phi} \\, {\\phi} }^{ \\, r \\phantom{\\, {\\phi}} \\phantom{\\, {\\phi}} } & = & -r \\\\ \\Gamma_{ \\phantom{\\, {\\phi}} \\, r \\, {\\phi} }^{ \\, {\\phi} \\phantom{\\, r} \\phantom{\\, {\\phi}} } & = & \\frac{1}{r} \\end{array}\\)</html>"
      ],
      "text/latex": [
       "$\\displaystyle \\begin{array}{lcl} \\Gamma_{ \\phantom{\\, r} \\, {\\phi} \\, {\\phi} }^{ \\, r \\phantom{\\, {\\phi}} \\phantom{\\, {\\phi}} } & = & -r \\\\ \\Gamma_{ \\phantom{\\, {\\phi}} \\, r \\, {\\phi} }^{ \\, {\\phi} \\phantom{\\, r} \\phantom{\\, {\\phi}} } & = & \\frac{1}{r} \\end{array}$"
      ],
      "text/plain": [
       "Gam^r_ph,ph = -r \n",
       "Gam^ph_r,ph = 1/r "
      ]
     },
     "execution_count": 120,
     "metadata": {},
     "output_type": "execute_result"
    }
   ],
   "source": [
    "g.christoffel_symbols_display()"
   ]
  },
  {
   "cell_type": "markdown",
   "metadata": {},
   "source": [
    "By default, only nonzero and nonredundant values are displayed (for instance $\\Gamma^\\phi_{\\ \\, \\phi r}$ is skipped, since it can be deduced from  $\\Gamma^\\phi_{\\ \\, r \\phi}$ by symmetry on the last two indices).\n",
    "\n",
    "The Christoffel symbols with respect to the Cartesian coordinates are all zero: "
   ]
  },
  {
   "cell_type": "code",
   "execution_count": 121,
   "metadata": {},
   "outputs": [
    {
     "data": {
      "text/html": [
       "<html>\\(\\displaystyle \\begin{array}{lcl} \\Gamma_{ \\phantom{\\, x} \\, x \\, x }^{ \\, x \\phantom{\\, x} \\phantom{\\, x} } & = & 0 \\\\ \\Gamma_{ \\phantom{\\, x} \\, x \\, y }^{ \\, x \\phantom{\\, x} \\phantom{\\, y} } & = & 0 \\\\ \\Gamma_{ \\phantom{\\, x} \\, y \\, y }^{ \\, x \\phantom{\\, y} \\phantom{\\, y} } & = & 0 \\\\ \\Gamma_{ \\phantom{\\, y} \\, x \\, x }^{ \\, y \\phantom{\\, x} \\phantom{\\, x} } & = & 0 \\\\ \\Gamma_{ \\phantom{\\, y} \\, x \\, y }^{ \\, y \\phantom{\\, x} \\phantom{\\, y} } & = & 0 \\\\ \\Gamma_{ \\phantom{\\, y} \\, y \\, y }^{ \\, y \\phantom{\\, y} \\phantom{\\, y} } & = & 0 \\end{array}\\)</html>"
      ],
      "text/latex": [
       "$\\displaystyle \\begin{array}{lcl} \\Gamma_{ \\phantom{\\, x} \\, x \\, x }^{ \\, x \\phantom{\\, x} \\phantom{\\, x} } & = & 0 \\\\ \\Gamma_{ \\phantom{\\, x} \\, x \\, y }^{ \\, x \\phantom{\\, x} \\phantom{\\, y} } & = & 0 \\\\ \\Gamma_{ \\phantom{\\, x} \\, y \\, y }^{ \\, x \\phantom{\\, y} \\phantom{\\, y} } & = & 0 \\\\ \\Gamma_{ \\phantom{\\, y} \\, x \\, x }^{ \\, y \\phantom{\\, x} \\phantom{\\, x} } & = & 0 \\\\ \\Gamma_{ \\phantom{\\, y} \\, x \\, y }^{ \\, y \\phantom{\\, x} \\phantom{\\, y} } & = & 0 \\\\ \\Gamma_{ \\phantom{\\, y} \\, y \\, y }^{ \\, y \\phantom{\\, y} \\phantom{\\, y} } & = & 0 \\end{array}$"
      ],
      "text/plain": [
       "Gam^x_xx = 0 \n",
       "Gam^x_xy = 0 \n",
       "Gam^x_yy = 0 \n",
       "Gam^y_xx = 0 \n",
       "Gam^y_xy = 0 \n",
       "Gam^y_yy = 0 "
      ]
     },
     "execution_count": 121,
     "metadata": {},
     "output_type": "execute_result"
    }
   ],
   "source": [
    "g.christoffel_symbols_display(chart=cartesian, only_nonzero=False)"
   ]
  },
  {
   "cell_type": "markdown",
   "metadata": {},
   "source": [
    "$\\nabla_g$ is the connection involved in differential operators:"
   ]
  },
  {
   "cell_type": "code",
   "execution_count": 122,
   "metadata": {},
   "outputs": [
    {
     "data": {
      "text/html": [
       "<html>\\(\\displaystyle \\mathrm{True}\\)</html>"
      ],
      "text/latex": [
       "$\\displaystyle \\mathrm{True}$"
      ],
      "text/plain": [
       "True"
      ]
     },
     "execution_count": 122,
     "metadata": {},
     "output_type": "execute_result"
    }
   ],
   "source": [
    "grad(F) == nabla(F).up(g)"
   ]
  },
  {
   "cell_type": "code",
   "execution_count": 123,
   "metadata": {},
   "outputs": [
    {
     "data": {
      "text/html": [
       "<html>\\(\\displaystyle \\mathrm{True}\\)</html>"
      ],
      "text/latex": [
       "$\\displaystyle \\mathrm{True}$"
      ],
      "text/plain": [
       "True"
      ]
     },
     "execution_count": 123,
     "metadata": {},
     "output_type": "execute_result"
    }
   ],
   "source": [
    "nabla(F) == grad(F).down(g)"
   ]
  },
  {
   "cell_type": "code",
   "execution_count": 124,
   "metadata": {},
   "outputs": [
    {
     "data": {
      "text/html": [
       "<html>\\(\\displaystyle \\mathrm{True}\\)</html>"
      ],
      "text/latex": [
       "$\\displaystyle \\mathrm{True}$"
      ],
      "text/plain": [
       "True"
      ]
     },
     "execution_count": 124,
     "metadata": {},
     "output_type": "execute_result"
    }
   ],
   "source": [
    "div(v) == nabla(v).trace()"
   ]
  },
  {
   "cell_type": "code",
   "execution_count": 125,
   "metadata": {},
   "outputs": [
    {
     "data": {
      "text/html": [
       "<html>\\(\\displaystyle \\mathrm{True}\\)</html>"
      ],
      "text/latex": [
       "$\\displaystyle \\mathrm{True}$"
      ],
      "text/plain": [
       "True"
      ]
     },
     "execution_count": 125,
     "metadata": {},
     "output_type": "execute_result"
    }
   ],
   "source": [
    "div(w) == nabla(w).trace()"
   ]
  },
  {
   "cell_type": "code",
   "execution_count": 126,
   "metadata": {},
   "outputs": [
    {
     "data": {
      "text/html": [
       "<html>\\(\\displaystyle \\mathrm{True}\\)</html>"
      ],
      "text/latex": [
       "$\\displaystyle \\mathrm{True}$"
      ],
      "text/plain": [
       "True"
      ]
     },
     "execution_count": 126,
     "metadata": {},
     "output_type": "execute_result"
    }
   ],
   "source": [
    "laplacian(F) == nabla(nabla(F).up(g)).trace()"
   ]
  },
  {
   "cell_type": "code",
   "execution_count": 127,
   "metadata": {},
   "outputs": [
    {
     "data": {
      "text/html": [
       "<html>\\(\\displaystyle \\mathrm{True}\\)</html>"
      ],
      "text/latex": [
       "$\\displaystyle \\mathrm{True}$"
      ],
      "text/plain": [
       "True"
      ]
     },
     "execution_count": 127,
     "metadata": {},
     "output_type": "execute_result"
    }
   ],
   "source": [
    "laplacian(w) == nabla(nabla(w).up(g)).trace(1,2)"
   ]
  }
 ],
 "metadata": {
  "kernelspec": {
   "display_name": "SageMath 9.8",
   "language": "sage",
   "name": "sagemath"
  },
  "language_info": {
   "codemirror_mode": {
    "name": "ipython",
    "version": 3
   },
   "file_extension": ".py",
   "mimetype": "text/x-python",
   "name": "python",
   "nbconvert_exporter": "python",
   "pygments_lexer": "ipython3",
   "version": "3.10.6"
  }
 },
 "nbformat": 4,
 "nbformat_minor": 4
}
