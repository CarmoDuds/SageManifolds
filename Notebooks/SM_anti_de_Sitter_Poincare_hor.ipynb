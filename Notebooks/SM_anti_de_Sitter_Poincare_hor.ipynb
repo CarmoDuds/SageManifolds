{
 "cells": [
  {
   "cell_type": "markdown",
   "metadata": {},
   "source": [
    "# AdS Poincaré horizon as a degenerate Killing horizon"
   ]
  },
  {
   "cell_type": "markdown",
   "metadata": {},
   "source": [
    "This notebook demonstrates some capabilities of [SageMath](https://www.sagemath.org/) in computations regarding the Poincaré horizon of the 4-dimensional anti-de Sitter spacetime. It also provides computations and figures for Example 17 of Chap. 3 of the lecture notes [Geometry and physics of black holes](https://luth.obspm.fr/~luthier/gourgoulhon/bh16/). \n",
    "\n",
    "The corresponding tools have been developed within the  [SageManifolds](https://sagemanifolds.obspm.fr) project."
   ]
  },
  {
   "cell_type": "code",
   "execution_count": 1,
   "metadata": {},
   "outputs": [
    {
     "data": {
      "text/plain": [
       "'SageMath version 9.5.beta1, Release Date: 2021-09-13'"
      ]
     },
     "execution_count": 1,
     "metadata": {},
     "output_type": "execute_result"
    }
   ],
   "source": [
    "version()"
   ]
  },
  {
   "cell_type": "markdown",
   "metadata": {},
   "source": [
    "First we set up the notebook to display mathematical objects using LaTeX rendering and we ask for running tensor computations in parallel on 8 threads:"
   ]
  },
  {
   "cell_type": "code",
   "execution_count": 2,
   "metadata": {},
   "outputs": [],
   "source": [
    "%display latex\n",
    "Parallelism().set(nproc=8)"
   ]
  },
  {
   "cell_type": "markdown",
   "metadata": {},
   "source": [
    "## Spacetime manifold\n",
    "\n",
    "We declare the anti-de Sitter spacetime as a 4-dimensional Lorentzian manifold:"
   ]
  },
  {
   "cell_type": "code",
   "execution_count": 3,
   "metadata": {},
   "outputs": [
    {
     "name": "stdout",
     "output_type": "stream",
     "text": [
      "4-dimensional Lorentzian manifold M\n"
     ]
    },
    {
     "data": {
      "text/html": [
       "<html>\\[\\newcommand{\\Bold}[1]{\\mathbf{#1}}\\mathscr{M}\\]</html>"
      ],
      "text/latex": [
       "$$\\newcommand{\\Bold}[1]{\\mathbf{#1}}\\mathscr{M}$$"
      ],
      "text/plain": [
       "4-dimensional Lorentzian manifold M"
      ]
     },
     "execution_count": 3,
     "metadata": {},
     "output_type": "execute_result"
    }
   ],
   "source": [
    "M = Manifold(4, 'M', latex_name=r'\\mathscr{M}', structure='Lorentzian')\n",
    "print(M)\n",
    "M"
   ]
  },
  {
   "cell_type": "markdown",
   "metadata": {},
   "source": [
    "and endow it with the **conformal coordinates** $(\\tau, \\chi, \\theta,\\phi)$\n",
    "(cf. the generic [anti-de Sitter notebook](https://nbviewer.jupyter.org/github/sagemanifolds/SageManifolds/blob/master/Notebooks/SM_anti_de_Sitter.ipynb)):"
   ]
  },
  {
   "cell_type": "code",
   "execution_count": 4,
   "metadata": {},
   "outputs": [
    {
     "name": "stdout",
     "output_type": "stream",
     "text": [
      "Chart (M, (ta, ch, th, ph))\n"
     ]
    },
    {
     "data": {
      "text/html": [
       "<html>\\[\\newcommand{\\Bold}[1]{\\mathbf{#1}}\\left(\\mathscr{M},({\\tau}, {\\chi}, {\\theta}, {\\phi})\\right)\\]</html>"
      ],
      "text/latex": [
       "$$\\newcommand{\\Bold}[1]{\\mathbf{#1}}\\left(\\mathscr{M},({\\tau}, {\\chi}, {\\theta}, {\\phi})\\right)$$"
      ],
      "text/plain": [
       "Chart (M, (ta, ch, th, ph))"
      ]
     },
     "execution_count": 4,
     "metadata": {},
     "output_type": "execute_result"
    }
   ],
   "source": [
    "X_conf.<ta,ch,th,ph> = M.chart(r'ta:\\tau ch:(0,pi/2):\\chi th:(0,pi):\\theta ph:(0,2*pi):periodic:\\phi')\n",
    "print(X_conf)\n",
    "X_conf"
   ]
  },
  {
   "cell_type": "code",
   "execution_count": 5,
   "metadata": {},
   "outputs": [
    {
     "data": {
      "text/html": [
       "<html>\\[\\newcommand{\\Bold}[1]{\\mathbf{#1}}{\\tau} :\\ \\left( -\\infty, +\\infty \\right) ;\\quad {\\chi} :\\ \\left( 0 , \\frac{1}{2} \\, \\pi \\right) ;\\quad {\\theta} :\\ \\left( 0 , \\pi \\right) ;\\quad {\\phi} :\\ \\left[ 0 , 2 \\, \\pi \\right] \\mbox{(periodic)}\\]</html>"
      ],
      "text/latex": [
       "$$\\newcommand{\\Bold}[1]{\\mathbf{#1}}{\\tau} :\\ \\left( -\\infty, +\\infty \\right) ;\\quad {\\chi} :\\ \\left( 0 , \\frac{1}{2} \\, \\pi \\right) ;\\quad {\\theta} :\\ \\left( 0 , \\pi \\right) ;\\quad {\\phi} :\\ \\left[ 0 , 2 \\, \\pi \\right] \\mbox{(periodic)}$$"
      ],
      "text/plain": [
       "ta: (-oo, +oo); ch: (0, 1/2*pi); th: (0, pi); ph: [0, 2*pi] (periodic)"
      ]
     },
     "execution_count": 5,
     "metadata": {},
     "output_type": "execute_result"
    }
   ],
   "source": [
    "X_conf.coord_range()"
   ]
  },
  {
   "cell_type": "markdown",
   "metadata": {},
   "source": [
    "### Spacetime metric"
   ]
  },
  {
   "cell_type": "markdown",
   "metadata": {},
   "source": [
    "First of all, we declare the AdS length scale $\\ell$ as a symbolic variable:"
   ]
  },
  {
   "cell_type": "code",
   "execution_count": 6,
   "metadata": {},
   "outputs": [],
   "source": [
    "var('l', latex_name=r'\\ell', domain='real')\n",
    "assume(l>0)"
   ]
  },
  {
   "cell_type": "markdown",
   "metadata": {},
   "source": [
    "Then we define the metric tensor $g$ by providing its nonzero components:"
   ]
  },
  {
   "cell_type": "code",
   "execution_count": 7,
   "metadata": {},
   "outputs": [
    {
     "data": {
      "text/html": [
       "<html>\\[\\newcommand{\\Bold}[1]{\\mathbf{#1}}g = -\\frac{{\\ell}^{2}}{\\cos\\left({\\chi}\\right)^{2}} \\mathrm{d} {\\tau}\\otimes \\mathrm{d} {\\tau} + \\frac{{\\ell}^{2}}{\\cos\\left({\\chi}\\right)^{2}} \\mathrm{d} {\\chi}\\otimes \\mathrm{d} {\\chi} + \\frac{{\\ell}^{2} \\sin\\left({\\chi}\\right)^{2}}{\\cos\\left({\\chi}\\right)^{2}} \\mathrm{d} {\\theta}\\otimes \\mathrm{d} {\\theta} + \\frac{{\\ell}^{2} \\sin\\left({\\chi}\\right)^{2} \\sin\\left({\\theta}\\right)^{2}}{\\cos\\left({\\chi}\\right)^{2}} \\mathrm{d} {\\phi}\\otimes \\mathrm{d} {\\phi}\\]</html>"
      ],
      "text/latex": [
       "$$\\newcommand{\\Bold}[1]{\\mathbf{#1}}g = -\\frac{{\\ell}^{2}}{\\cos\\left({\\chi}\\right)^{2}} \\mathrm{d} {\\tau}\\otimes \\mathrm{d} {\\tau} + \\frac{{\\ell}^{2}}{\\cos\\left({\\chi}\\right)^{2}} \\mathrm{d} {\\chi}\\otimes \\mathrm{d} {\\chi} + \\frac{{\\ell}^{2} \\sin\\left({\\chi}\\right)^{2}}{\\cos\\left({\\chi}\\right)^{2}} \\mathrm{d} {\\theta}\\otimes \\mathrm{d} {\\theta} + \\frac{{\\ell}^{2} \\sin\\left({\\chi}\\right)^{2} \\sin\\left({\\theta}\\right)^{2}}{\\cos\\left({\\chi}\\right)^{2}} \\mathrm{d} {\\phi}\\otimes \\mathrm{d} {\\phi}$$"
      ],
      "text/plain": [
       "g = -l^2/cos(ch)^2 dta⊗dta + l^2/cos(ch)^2 dch⊗dch + l^2*sin(ch)^2/cos(ch)^2 dth⊗dth + l^2*sin(ch)^2*sin(th)^2/cos(ch)^2 dph⊗dph"
      ]
     },
     "execution_count": 7,
     "metadata": {},
     "output_type": "execute_result"
    }
   ],
   "source": [
    "g = M.metric()\n",
    "g[0,0] = -l^2/cos(ch)^2\n",
    "g[1,1] = l^2/cos(ch)^2\n",
    "g[2,2] = l^2/cos(ch)^2*sin(ch)^2\n",
    "g[3,3] = l^2/cos(ch)^2*sin(ch)^2*sin(th)^2\n",
    "g.display()"
   ]
  },
  {
   "cell_type": "markdown",
   "metadata": {},
   "source": [
    "Let us check that $g$ is a solution of the vaccum **Einstein equation** with the cosmological constant\n",
    "$\\Lambda = - 3 /\\ell^2$:"
   ]
  },
  {
   "cell_type": "code",
   "execution_count": 8,
   "metadata": {},
   "outputs": [
    {
     "data": {
      "text/html": [
       "<html>\\[\\newcommand{\\Bold}[1]{\\mathbf{#1}}\\mathrm{True}\\]</html>"
      ],
      "text/latex": [
       "$$\\newcommand{\\Bold}[1]{\\mathbf{#1}}\\mathrm{True}$$"
      ],
      "text/plain": [
       "True"
      ]
     },
     "execution_count": 8,
     "metadata": {},
     "output_type": "execute_result"
    }
   ],
   "source": [
    "Ric = g.ricci()\n",
    "R = g.ricci_scalar()\n",
    "Lambda = -3/l^2\n",
    "\n",
    "Ric - 1/2*R*g + Lambda*g == 0"
   ]
  },
  {
   "cell_type": "markdown",
   "metadata": {},
   "source": [
    "## Poincaré patch"
   ]
  },
  {
   "cell_type": "markdown",
   "metadata": {},
   "source": [
    "The **Poincaré patch** is the open subset $\\mathscr{M}_{\\rm P}$ of $\\mathscr{M}$ defined by\n",
    "$$ \\cos\\tau - \\sin\\chi \\sin\\theta \\cos\\phi > 0 \\quad\\mbox{and}\\quad -\\pi < \\tau < \\pi.$$\n",
    "Hence we declare it as"
   ]
  },
  {
   "cell_type": "code",
   "execution_count": 9,
   "metadata": {},
   "outputs": [
    {
     "name": "stdout",
     "output_type": "stream",
     "text": [
      "Open subset MP of the 4-dimensional Lorentzian manifold M\n"
     ]
    },
    {
     "data": {
      "text/html": [
       "<html>\\[\\newcommand{\\Bold}[1]{\\mathbf{#1}}\\mathscr{M}_{\\rm P}\\]</html>"
      ],
      "text/latex": [
       "$$\\newcommand{\\Bold}[1]{\\mathbf{#1}}\\mathscr{M}_{\\rm P}$$"
      ],
      "text/plain": [
       "Open subset MP of the 4-dimensional Lorentzian manifold M"
      ]
     },
     "execution_count": 9,
     "metadata": {},
     "output_type": "execute_result"
    }
   ],
   "source": [
    "MP = M.open_subset('MP', latex_name=r'\\mathscr{M}_{\\rm P}', \n",
    "                   coord_def={X_conf: [cos(ta) - sin(ch)*sin(th)*cos(ph)>0, ta>-pi, ta<pi]})\n",
    "print(MP)\n",
    "MP"
   ]
  },
  {
   "cell_type": "markdown",
   "metadata": {},
   "source": [
    "We introduce the **Poincaré coordinates** $(t,x,y,u)$ on $\\mathscr{M}_{\\rm P}$ as"
   ]
  },
  {
   "cell_type": "code",
   "execution_count": 10,
   "metadata": {},
   "outputs": [
    {
     "data": {
      "text/html": [
       "<html>\\[\\newcommand{\\Bold}[1]{\\mathbf{#1}}\\left(\\mathscr{M}_{\\rm P},(t, x, y, u)\\right)\\]</html>"
      ],
      "text/latex": [
       "$$\\newcommand{\\Bold}[1]{\\mathbf{#1}}\\left(\\mathscr{M}_{\\rm P},(t, x, y, u)\\right)$$"
      ],
      "text/plain": [
       "Chart (MP, (t, x, y, u))"
      ]
     },
     "execution_count": 10,
     "metadata": {},
     "output_type": "execute_result"
    }
   ],
   "source": [
    "X_Poinc.<t,x,y,u> = MP.chart('t x y u:(0,+oo)')\n",
    "X_Poinc"
   ]
  },
  {
   "cell_type": "code",
   "execution_count": 11,
   "metadata": {},
   "outputs": [
    {
     "data": {
      "text/html": [
       "<html>\\[\\newcommand{\\Bold}[1]{\\mathbf{#1}}t :\\ \\left( -\\infty, +\\infty \\right) ;\\quad x :\\ \\left( -\\infty, +\\infty \\right) ;\\quad y :\\ \\left( -\\infty, +\\infty \\right) ;\\quad u :\\ \\left( 0 , +\\infty \\right)\\]</html>"
      ],
      "text/latex": [
       "$$\\newcommand{\\Bold}[1]{\\mathbf{#1}}t :\\ \\left( -\\infty, +\\infty \\right) ;\\quad x :\\ \\left( -\\infty, +\\infty \\right) ;\\quad y :\\ \\left( -\\infty, +\\infty \\right) ;\\quad u :\\ \\left( 0 , +\\infty \\right)$$"
      ],
      "text/plain": [
       "t: (-oo, +oo); x: (-oo, +oo); y: (-oo, +oo); u: (0, +oo)"
      ]
     },
     "execution_count": 11,
     "metadata": {},
     "output_type": "execute_result"
    }
   ],
   "source": [
    "X_Poinc.coord_range()"
   ]
  },
  {
   "cell_type": "markdown",
   "metadata": {},
   "source": [
    "The Poincaré coordinates are defined by their link to the conformal coordinates, which we declare via the method `transition_map` on the restriction of the conformal coordinates to $\\mathscr{M}_{\\rm P}$, `X_conf.restrict(MP)`:"
   ]
  },
  {
   "cell_type": "code",
   "execution_count": 12,
   "metadata": {},
   "outputs": [
    {
     "data": {
      "text/html": [
       "<html>\\[\\newcommand{\\Bold}[1]{\\mathbf{#1}}\\left\\{\\begin{array}{lcl} t & = & -\\frac{{\\ell} \\sin\\left({\\tau}\\right)}{\\cos\\left({\\phi}\\right) \\sin\\left({\\chi}\\right) \\sin\\left({\\theta}\\right) - \\cos\\left({\\tau}\\right)} \\\\ x & = & -\\frac{{\\ell} \\sin\\left({\\chi}\\right) \\sin\\left({\\phi}\\right) \\sin\\left({\\theta}\\right)}{\\cos\\left({\\phi}\\right) \\sin\\left({\\chi}\\right) \\sin\\left({\\theta}\\right) - \\cos\\left({\\tau}\\right)} \\\\ y & = & -\\frac{{\\ell} \\cos\\left({\\theta}\\right) \\sin\\left({\\chi}\\right)}{\\cos\\left({\\phi}\\right) \\sin\\left({\\chi}\\right) \\sin\\left({\\theta}\\right) - \\cos\\left({\\tau}\\right)} \\\\ u & = & -\\frac{{\\left(\\cos\\left({\\phi}\\right) \\sin\\left({\\chi}\\right) \\sin\\left({\\theta}\\right) - \\cos\\left({\\tau}\\right)\\right)} {\\ell}}{\\cos\\left({\\chi}\\right)} \\end{array}\\right.\\]</html>"
      ],
      "text/latex": [
       "$$\\newcommand{\\Bold}[1]{\\mathbf{#1}}\\left\\{\\begin{array}{lcl} t & = & -\\frac{{\\ell} \\sin\\left({\\tau}\\right)}{\\cos\\left({\\phi}\\right) \\sin\\left({\\chi}\\right) \\sin\\left({\\theta}\\right) - \\cos\\left({\\tau}\\right)} \\\\ x & = & -\\frac{{\\ell} \\sin\\left({\\chi}\\right) \\sin\\left({\\phi}\\right) \\sin\\left({\\theta}\\right)}{\\cos\\left({\\phi}\\right) \\sin\\left({\\chi}\\right) \\sin\\left({\\theta}\\right) - \\cos\\left({\\tau}\\right)} \\\\ y & = & -\\frac{{\\ell} \\cos\\left({\\theta}\\right) \\sin\\left({\\chi}\\right)}{\\cos\\left({\\phi}\\right) \\sin\\left({\\chi}\\right) \\sin\\left({\\theta}\\right) - \\cos\\left({\\tau}\\right)} \\\\ u & = & -\\frac{{\\left(\\cos\\left({\\phi}\\right) \\sin\\left({\\chi}\\right) \\sin\\left({\\theta}\\right) - \\cos\\left({\\tau}\\right)\\right)} {\\ell}}{\\cos\\left({\\chi}\\right)} \\end{array}\\right.$$"
      ],
      "text/plain": [
       "t = -l*sin(ta)/(cos(ph)*sin(ch)*sin(th) - cos(ta))\n",
       "x = -l*sin(ch)*sin(ph)*sin(th)/(cos(ph)*sin(ch)*sin(th) - cos(ta))\n",
       "y = -l*cos(th)*sin(ch)/(cos(ph)*sin(ch)*sin(th) - cos(ta))\n",
       "u = -(cos(ph)*sin(ch)*sin(th) - cos(ta))*l/cos(ch)"
      ]
     },
     "execution_count": 12,
     "metadata": {},
     "output_type": "execute_result"
    }
   ],
   "source": [
    "conf_to_Poinc = X_conf.restrict(MP).transition_map(X_Poinc, \n",
    "                            [l*sin(ta)/(cos(ta) - sin(ch)*sin(th)*cos(ph)),\n",
    "                             l*sin(ch)*sin(th)*sin(ph)/(cos(ta) - sin(ch)*sin(th)*cos(ph)),\n",
    "                             l*sin(ch)*cos(th)/(cos(ta) - sin(ch)*sin(th)*cos(ph)),\n",
    "                             l*(cos(ta) - sin(ch)*sin(th)*cos(ph))/cos(ch)])\n",
    "conf_to_Poinc.display()"
   ]
  },
  {
   "cell_type": "markdown",
   "metadata": {},
   "source": [
    "In order to help SageMath with simplifications, we explicitly set some assumptions:"
   ]
  },
  {
   "cell_type": "code",
   "execution_count": 13,
   "metadata": {},
   "outputs": [],
   "source": [
    "assume(sin(ch)>0, sin(th)>0)\n",
    "assume(cos(ta) - sin(ch)*sin(th)*cos(ph)>0)"
   ]
  },
  {
   "cell_type": "markdown",
   "metadata": {},
   "source": [
    "We provide the inverse of the coordinate change $(\\tau,\\chi,\\theta,\\phi) \\mapsto (t,x,y,u)$ by means of the method `set_inverse`:"
   ]
  },
  {
   "cell_type": "code",
   "execution_count": 14,
   "metadata": {},
   "outputs": [
    {
     "name": "stdout",
     "output_type": "stream",
     "text": [
      "Check of the inverse coordinate transformation:\n",
      "  ta == -arctan2(2*l^2*sin(ta)/(cos(ph)*sin(ch)*sin(th) - cos(ta)), -2*l^2*cos(ta)/(cos(ph)*sin(ch)*sin(th) - cos(ta)))  **failed**\n",
      "  ch == ch  *passed*\n",
      "  th == th  *passed*\n",
      "  ph == -arctan2(2*l^2*sin(ch)*sin(ph)*sin(th)/(cos(ph)*sin(ch)*sin(th) - cos(ta)), -2*l^2*cos(ph)*sin(ch)*sin(th)/(cos(ph)*sin(ch)*sin(th) - cos(ta)))  **failed**\n",
      "  t == t  *passed*\n",
      "  x == x  *passed*\n",
      "  y == y  *passed*\n",
      "  u == u  *passed*\n",
      "NB: a failed report can reflect a mere lack of simplification.\n"
     ]
    }
   ],
   "source": [
    "conf_to_Poinc.set_inverse(atan2(2*l*t, x^2+y^2-t^2+l^2*(1+l^2/u^2)),\n",
    "            acos(2*l^3/u/sqrt((x^2+y^2-t^2+l^2*(1+l^2/u^2))^2 + 4*l^2*t^2)),\n",
    "            acos(2*l*y/sqrt((x^2+y^2-t^2+l^2*(1+l^2/u^2))^2\n",
    "                                                    + 4*l^2*(t^2-l^4/u^2))),\n",
    "            atan2(2*l*x, x^2+y^2-t^2-l^2*(1-l^2/u^2)))          "
   ]
  },
  {
   "cell_type": "code",
   "execution_count": 15,
   "metadata": {},
   "outputs": [
    {
     "data": {
      "text/html": [
       "<html>\\[\\newcommand{\\Bold}[1]{\\mathbf{#1}}\\left\\{\\begin{array}{lcl} {\\tau} & = & \\arctan\\left(2 \\, {\\ell} t, {\\ell}^{2} {\\left(\\frac{{\\ell}^{2}}{u^{2}} + 1\\right)} - t^{2} + x^{2} + y^{2}\\right) \\\\ {\\chi} & = & \\arccos\\left(\\frac{2 \\, {\\ell}^{3}}{\\sqrt{4 \\, {\\ell}^{2} t^{2} + {\\left({\\ell}^{2} {\\left(\\frac{{\\ell}^{2}}{u^{2}} + 1\\right)} - t^{2} + x^{2} + y^{2}\\right)}^{2}} u}\\right) \\\\ {\\theta} & = & \\arccos\\left(\\frac{2 \\, {\\ell} y}{\\sqrt{4 \\, {\\left(t^{2} - \\frac{{\\ell}^{4}}{u^{2}}\\right)} {\\ell}^{2} + {\\left({\\ell}^{2} {\\left(\\frac{{\\ell}^{2}}{u^{2}} + 1\\right)} - t^{2} + x^{2} + y^{2}\\right)}^{2}}}\\right) \\\\ {\\phi} & = & \\arctan\\left(2 \\, {\\ell} x, {\\ell}^{2} {\\left(\\frac{{\\ell}^{2}}{u^{2}} - 1\\right)} - t^{2} + x^{2} + y^{2}\\right) \\end{array}\\right.\\]</html>"
      ],
      "text/latex": [
       "$$\\newcommand{\\Bold}[1]{\\mathbf{#1}}\\left\\{\\begin{array}{lcl} {\\tau} & = & \\arctan\\left(2 \\, {\\ell} t, {\\ell}^{2} {\\left(\\frac{{\\ell}^{2}}{u^{2}} + 1\\right)} - t^{2} + x^{2} + y^{2}\\right) \\\\ {\\chi} & = & \\arccos\\left(\\frac{2 \\, {\\ell}^{3}}{\\sqrt{4 \\, {\\ell}^{2} t^{2} + {\\left({\\ell}^{2} {\\left(\\frac{{\\ell}^{2}}{u^{2}} + 1\\right)} - t^{2} + x^{2} + y^{2}\\right)}^{2}} u}\\right) \\\\ {\\theta} & = & \\arccos\\left(\\frac{2 \\, {\\ell} y}{\\sqrt{4 \\, {\\left(t^{2} - \\frac{{\\ell}^{4}}{u^{2}}\\right)} {\\ell}^{2} + {\\left({\\ell}^{2} {\\left(\\frac{{\\ell}^{2}}{u^{2}} + 1\\right)} - t^{2} + x^{2} + y^{2}\\right)}^{2}}}\\right) \\\\ {\\phi} & = & \\arctan\\left(2 \\, {\\ell} x, {\\ell}^{2} {\\left(\\frac{{\\ell}^{2}}{u^{2}} - 1\\right)} - t^{2} + x^{2} + y^{2}\\right) \\end{array}\\right.$$"
      ],
      "text/plain": [
       "ta = arctan2(2*l*t, l^2*(l^2/u^2 + 1) - t^2 + x^2 + y^2)\n",
       "ch = arccos(2*l^3/(sqrt(4*l^2*t^2 + (l^2*(l^2/u^2 + 1) - t^2 + x^2 + y^2)^2)*u))\n",
       "th = arccos(2*l*y/sqrt(4*(t^2 - l^4/u^2)*l^2 + (l^2*(l^2/u^2 + 1) - t^2 + x^2 + y^2)^2))\n",
       "ph = arctan2(2*l*x, l^2*(l^2/u^2 - 1) - t^2 + x^2 + y^2)"
      ]
     },
     "execution_count": 15,
     "metadata": {},
     "output_type": "execute_result"
    }
   ],
   "source": [
    "conf_to_Poinc.inverse().display()"
   ]
  },
  {
   "cell_type": "markdown",
   "metadata": {},
   "source": [
    "We note that the Jacobian of the coordinate change is quite involved:"
   ]
  },
  {
   "cell_type": "code",
   "execution_count": 16,
   "metadata": {},
   "outputs": [
    {
     "data": {
      "text/html": [
       "<html>\\[\\newcommand{\\Bold}[1]{\\mathbf{#1}}\\left(\\begin{array}{rrrr}\n",
       "-\\frac{{\\ell} \\cos\\left({\\phi}\\right) \\cos\\left({\\tau}\\right) \\sin\\left({\\chi}\\right) \\sin\\left({\\theta}\\right) - {\\ell}}{\\cos\\left({\\phi}\\right)^{2} \\sin\\left({\\chi}\\right)^{2} \\sin\\left({\\theta}\\right)^{2} - 2 \\, \\cos\\left({\\phi}\\right) \\cos\\left({\\tau}\\right) \\sin\\left({\\chi}\\right) \\sin\\left({\\theta}\\right) + \\cos\\left({\\tau}\\right)^{2}} & \\frac{{\\ell} \\cos\\left({\\chi}\\right) \\cos\\left({\\phi}\\right) \\sin\\left({\\tau}\\right) \\sin\\left({\\theta}\\right)}{\\cos\\left({\\phi}\\right)^{2} \\sin\\left({\\chi}\\right)^{2} \\sin\\left({\\theta}\\right)^{2} - 2 \\, \\cos\\left({\\phi}\\right) \\cos\\left({\\tau}\\right) \\sin\\left({\\chi}\\right) \\sin\\left({\\theta}\\right) + \\cos\\left({\\tau}\\right)^{2}} & \\frac{{\\ell} \\cos\\left({\\phi}\\right) \\cos\\left({\\theta}\\right) \\sin\\left({\\chi}\\right) \\sin\\left({\\tau}\\right)}{\\cos\\left({\\phi}\\right)^{2} \\sin\\left({\\chi}\\right)^{2} \\sin\\left({\\theta}\\right)^{2} - 2 \\, \\cos\\left({\\phi}\\right) \\cos\\left({\\tau}\\right) \\sin\\left({\\chi}\\right) \\sin\\left({\\theta}\\right) + \\cos\\left({\\tau}\\right)^{2}} & -\\frac{{\\ell} \\sin\\left({\\chi}\\right) \\sin\\left({\\phi}\\right) \\sin\\left({\\tau}\\right) \\sin\\left({\\theta}\\right)}{\\cos\\left({\\phi}\\right)^{2} \\sin\\left({\\chi}\\right)^{2} \\sin\\left({\\theta}\\right)^{2} - 2 \\, \\cos\\left({\\phi}\\right) \\cos\\left({\\tau}\\right) \\sin\\left({\\chi}\\right) \\sin\\left({\\theta}\\right) + \\cos\\left({\\tau}\\right)^{2}} \\\\\n",
       "\\frac{{\\ell} \\sin\\left({\\chi}\\right) \\sin\\left({\\phi}\\right) \\sin\\left({\\tau}\\right) \\sin\\left({\\theta}\\right)}{\\cos\\left({\\phi}\\right)^{2} \\sin\\left({\\chi}\\right)^{2} \\sin\\left({\\theta}\\right)^{2} - 2 \\, \\cos\\left({\\phi}\\right) \\cos\\left({\\tau}\\right) \\sin\\left({\\chi}\\right) \\sin\\left({\\theta}\\right) + \\cos\\left({\\tau}\\right)^{2}} & \\frac{{\\ell} \\cos\\left({\\chi}\\right) \\cos\\left({\\tau}\\right) \\sin\\left({\\phi}\\right) \\sin\\left({\\theta}\\right)}{\\cos\\left({\\phi}\\right)^{2} \\sin\\left({\\chi}\\right)^{2} \\sin\\left({\\theta}\\right)^{2} - 2 \\, \\cos\\left({\\phi}\\right) \\cos\\left({\\tau}\\right) \\sin\\left({\\chi}\\right) \\sin\\left({\\theta}\\right) + \\cos\\left({\\tau}\\right)^{2}} & \\frac{{\\ell} \\cos\\left({\\tau}\\right) \\cos\\left({\\theta}\\right) \\sin\\left({\\chi}\\right) \\sin\\left({\\phi}\\right)}{\\cos\\left({\\phi}\\right)^{2} \\sin\\left({\\chi}\\right)^{2} \\sin\\left({\\theta}\\right)^{2} - 2 \\, \\cos\\left({\\phi}\\right) \\cos\\left({\\tau}\\right) \\sin\\left({\\chi}\\right) \\sin\\left({\\theta}\\right) + \\cos\\left({\\tau}\\right)^{2}} & \\frac{{\\ell} \\cos\\left({\\phi}\\right) \\cos\\left({\\tau}\\right) \\sin\\left({\\chi}\\right) \\sin\\left({\\theta}\\right) - {\\ell} \\sin\\left({\\chi}\\right)^{2} \\sin\\left({\\theta}\\right)^{2}}{\\cos\\left({\\phi}\\right)^{2} \\sin\\left({\\chi}\\right)^{2} \\sin\\left({\\theta}\\right)^{2} - 2 \\, \\cos\\left({\\phi}\\right) \\cos\\left({\\tau}\\right) \\sin\\left({\\chi}\\right) \\sin\\left({\\theta}\\right) + \\cos\\left({\\tau}\\right)^{2}} \\\\\n",
       "\\frac{{\\ell} \\cos\\left({\\theta}\\right) \\sin\\left({\\chi}\\right) \\sin\\left({\\tau}\\right)}{\\cos\\left({\\phi}\\right)^{2} \\sin\\left({\\chi}\\right)^{2} \\sin\\left({\\theta}\\right)^{2} - 2 \\, \\cos\\left({\\phi}\\right) \\cos\\left({\\tau}\\right) \\sin\\left({\\chi}\\right) \\sin\\left({\\theta}\\right) + \\cos\\left({\\tau}\\right)^{2}} & \\frac{{\\ell} \\cos\\left({\\chi}\\right) \\cos\\left({\\tau}\\right) \\cos\\left({\\theta}\\right)}{\\cos\\left({\\phi}\\right)^{2} \\sin\\left({\\chi}\\right)^{2} \\sin\\left({\\theta}\\right)^{2} - 2 \\, \\cos\\left({\\phi}\\right) \\cos\\left({\\tau}\\right) \\sin\\left({\\chi}\\right) \\sin\\left({\\theta}\\right) + \\cos\\left({\\tau}\\right)^{2}} & \\frac{{\\ell} \\cos\\left({\\phi}\\right) \\sin\\left({\\chi}\\right)^{2} - {\\ell} \\cos\\left({\\tau}\\right) \\sin\\left({\\chi}\\right) \\sin\\left({\\theta}\\right)}{\\cos\\left({\\phi}\\right)^{2} \\sin\\left({\\chi}\\right)^{2} \\sin\\left({\\theta}\\right)^{2} - 2 \\, \\cos\\left({\\phi}\\right) \\cos\\left({\\tau}\\right) \\sin\\left({\\chi}\\right) \\sin\\left({\\theta}\\right) + \\cos\\left({\\tau}\\right)^{2}} & -\\frac{{\\ell} \\cos\\left({\\theta}\\right) \\sin\\left({\\chi}\\right)^{2} \\sin\\left({\\phi}\\right) \\sin\\left({\\theta}\\right)}{\\cos\\left({\\phi}\\right)^{2} \\sin\\left({\\chi}\\right)^{2} \\sin\\left({\\theta}\\right)^{2} - 2 \\, \\cos\\left({\\phi}\\right) \\cos\\left({\\tau}\\right) \\sin\\left({\\chi}\\right) \\sin\\left({\\theta}\\right) + \\cos\\left({\\tau}\\right)^{2}} \\\\\n",
       "-\\frac{{\\ell} \\sin\\left({\\tau}\\right)}{\\cos\\left({\\chi}\\right)} & \\frac{{\\ell} \\cos\\left({\\tau}\\right) \\sin\\left({\\chi}\\right) - {\\ell} \\cos\\left({\\phi}\\right) \\sin\\left({\\theta}\\right)}{\\cos\\left({\\chi}\\right)^{2}} & -\\frac{{\\ell} \\cos\\left({\\phi}\\right) \\cos\\left({\\theta}\\right) \\sin\\left({\\chi}\\right)}{\\cos\\left({\\chi}\\right)} & \\frac{{\\ell} \\sin\\left({\\chi}\\right) \\sin\\left({\\phi}\\right) \\sin\\left({\\theta}\\right)}{\\cos\\left({\\chi}\\right)}\n",
       "\\end{array}\\right)\\]</html>"
      ],
      "text/latex": [
       "$$\\newcommand{\\Bold}[1]{\\mathbf{#1}}\\left(\\begin{array}{rrrr}\n",
       "-\\frac{{\\ell} \\cos\\left({\\phi}\\right) \\cos\\left({\\tau}\\right) \\sin\\left({\\chi}\\right) \\sin\\left({\\theta}\\right) - {\\ell}}{\\cos\\left({\\phi}\\right)^{2} \\sin\\left({\\chi}\\right)^{2} \\sin\\left({\\theta}\\right)^{2} - 2 \\, \\cos\\left({\\phi}\\right) \\cos\\left({\\tau}\\right) \\sin\\left({\\chi}\\right) \\sin\\left({\\theta}\\right) + \\cos\\left({\\tau}\\right)^{2}} & \\frac{{\\ell} \\cos\\left({\\chi}\\right) \\cos\\left({\\phi}\\right) \\sin\\left({\\tau}\\right) \\sin\\left({\\theta}\\right)}{\\cos\\left({\\phi}\\right)^{2} \\sin\\left({\\chi}\\right)^{2} \\sin\\left({\\theta}\\right)^{2} - 2 \\, \\cos\\left({\\phi}\\right) \\cos\\left({\\tau}\\right) \\sin\\left({\\chi}\\right) \\sin\\left({\\theta}\\right) + \\cos\\left({\\tau}\\right)^{2}} & \\frac{{\\ell} \\cos\\left({\\phi}\\right) \\cos\\left({\\theta}\\right) \\sin\\left({\\chi}\\right) \\sin\\left({\\tau}\\right)}{\\cos\\left({\\phi}\\right)^{2} \\sin\\left({\\chi}\\right)^{2} \\sin\\left({\\theta}\\right)^{2} - 2 \\, \\cos\\left({\\phi}\\right) \\cos\\left({\\tau}\\right) \\sin\\left({\\chi}\\right) \\sin\\left({\\theta}\\right) + \\cos\\left({\\tau}\\right)^{2}} & -\\frac{{\\ell} \\sin\\left({\\chi}\\right) \\sin\\left({\\phi}\\right) \\sin\\left({\\tau}\\right) \\sin\\left({\\theta}\\right)}{\\cos\\left({\\phi}\\right)^{2} \\sin\\left({\\chi}\\right)^{2} \\sin\\left({\\theta}\\right)^{2} - 2 \\, \\cos\\left({\\phi}\\right) \\cos\\left({\\tau}\\right) \\sin\\left({\\chi}\\right) \\sin\\left({\\theta}\\right) + \\cos\\left({\\tau}\\right)^{2}} \\\\\n",
       "\\frac{{\\ell} \\sin\\left({\\chi}\\right) \\sin\\left({\\phi}\\right) \\sin\\left({\\tau}\\right) \\sin\\left({\\theta}\\right)}{\\cos\\left({\\phi}\\right)^{2} \\sin\\left({\\chi}\\right)^{2} \\sin\\left({\\theta}\\right)^{2} - 2 \\, \\cos\\left({\\phi}\\right) \\cos\\left({\\tau}\\right) \\sin\\left({\\chi}\\right) \\sin\\left({\\theta}\\right) + \\cos\\left({\\tau}\\right)^{2}} & \\frac{{\\ell} \\cos\\left({\\chi}\\right) \\cos\\left({\\tau}\\right) \\sin\\left({\\phi}\\right) \\sin\\left({\\theta}\\right)}{\\cos\\left({\\phi}\\right)^{2} \\sin\\left({\\chi}\\right)^{2} \\sin\\left({\\theta}\\right)^{2} - 2 \\, \\cos\\left({\\phi}\\right) \\cos\\left({\\tau}\\right) \\sin\\left({\\chi}\\right) \\sin\\left({\\theta}\\right) + \\cos\\left({\\tau}\\right)^{2}} & \\frac{{\\ell} \\cos\\left({\\tau}\\right) \\cos\\left({\\theta}\\right) \\sin\\left({\\chi}\\right) \\sin\\left({\\phi}\\right)}{\\cos\\left({\\phi}\\right)^{2} \\sin\\left({\\chi}\\right)^{2} \\sin\\left({\\theta}\\right)^{2} - 2 \\, \\cos\\left({\\phi}\\right) \\cos\\left({\\tau}\\right) \\sin\\left({\\chi}\\right) \\sin\\left({\\theta}\\right) + \\cos\\left({\\tau}\\right)^{2}} & \\frac{{\\ell} \\cos\\left({\\phi}\\right) \\cos\\left({\\tau}\\right) \\sin\\left({\\chi}\\right) \\sin\\left({\\theta}\\right) - {\\ell} \\sin\\left({\\chi}\\right)^{2} \\sin\\left({\\theta}\\right)^{2}}{\\cos\\left({\\phi}\\right)^{2} \\sin\\left({\\chi}\\right)^{2} \\sin\\left({\\theta}\\right)^{2} - 2 \\, \\cos\\left({\\phi}\\right) \\cos\\left({\\tau}\\right) \\sin\\left({\\chi}\\right) \\sin\\left({\\theta}\\right) + \\cos\\left({\\tau}\\right)^{2}} \\\\\n",
       "\\frac{{\\ell} \\cos\\left({\\theta}\\right) \\sin\\left({\\chi}\\right) \\sin\\left({\\tau}\\right)}{\\cos\\left({\\phi}\\right)^{2} \\sin\\left({\\chi}\\right)^{2} \\sin\\left({\\theta}\\right)^{2} - 2 \\, \\cos\\left({\\phi}\\right) \\cos\\left({\\tau}\\right) \\sin\\left({\\chi}\\right) \\sin\\left({\\theta}\\right) + \\cos\\left({\\tau}\\right)^{2}} & \\frac{{\\ell} \\cos\\left({\\chi}\\right) \\cos\\left({\\tau}\\right) \\cos\\left({\\theta}\\right)}{\\cos\\left({\\phi}\\right)^{2} \\sin\\left({\\chi}\\right)^{2} \\sin\\left({\\theta}\\right)^{2} - 2 \\, \\cos\\left({\\phi}\\right) \\cos\\left({\\tau}\\right) \\sin\\left({\\chi}\\right) \\sin\\left({\\theta}\\right) + \\cos\\left({\\tau}\\right)^{2}} & \\frac{{\\ell} \\cos\\left({\\phi}\\right) \\sin\\left({\\chi}\\right)^{2} - {\\ell} \\cos\\left({\\tau}\\right) \\sin\\left({\\chi}\\right) \\sin\\left({\\theta}\\right)}{\\cos\\left({\\phi}\\right)^{2} \\sin\\left({\\chi}\\right)^{2} \\sin\\left({\\theta}\\right)^{2} - 2 \\, \\cos\\left({\\phi}\\right) \\cos\\left({\\tau}\\right) \\sin\\left({\\chi}\\right) \\sin\\left({\\theta}\\right) + \\cos\\left({\\tau}\\right)^{2}} & -\\frac{{\\ell} \\cos\\left({\\theta}\\right) \\sin\\left({\\chi}\\right)^{2} \\sin\\left({\\phi}\\right) \\sin\\left({\\theta}\\right)}{\\cos\\left({\\phi}\\right)^{2} \\sin\\left({\\chi}\\right)^{2} \\sin\\left({\\theta}\\right)^{2} - 2 \\, \\cos\\left({\\phi}\\right) \\cos\\left({\\tau}\\right) \\sin\\left({\\chi}\\right) \\sin\\left({\\theta}\\right) + \\cos\\left({\\tau}\\right)^{2}} \\\\\n",
       "-\\frac{{\\ell} \\sin\\left({\\tau}\\right)}{\\cos\\left({\\chi}\\right)} & \\frac{{\\ell} \\cos\\left({\\tau}\\right) \\sin\\left({\\chi}\\right) - {\\ell} \\cos\\left({\\phi}\\right) \\sin\\left({\\theta}\\right)}{\\cos\\left({\\chi}\\right)^{2}} & -\\frac{{\\ell} \\cos\\left({\\phi}\\right) \\cos\\left({\\theta}\\right) \\sin\\left({\\chi}\\right)}{\\cos\\left({\\chi}\\right)} & \\frac{{\\ell} \\sin\\left({\\chi}\\right) \\sin\\left({\\phi}\\right) \\sin\\left({\\theta}\\right)}{\\cos\\left({\\chi}\\right)}\n",
       "\\end{array}\\right)$$"
      ],
      "text/plain": [
       "[                   -(l*cos(ph)*cos(ta)*sin(ch)*sin(th) - l)/(cos(ph)^2*sin(ch)^2*sin(th)^2 - 2*cos(ph)*cos(ta)*sin(ch)*sin(th) + cos(ta)^2)                           l*cos(ch)*cos(ph)*sin(ta)*sin(th)/(cos(ph)^2*sin(ch)^2*sin(th)^2 - 2*cos(ph)*cos(ta)*sin(ch)*sin(th) + cos(ta)^2)                           l*cos(ph)*cos(th)*sin(ch)*sin(ta)/(cos(ph)^2*sin(ch)^2*sin(th)^2 - 2*cos(ph)*cos(ta)*sin(ch)*sin(th) + cos(ta)^2)                          -l*sin(ch)*sin(ph)*sin(ta)*sin(th)/(cos(ph)^2*sin(ch)^2*sin(th)^2 - 2*cos(ph)*cos(ta)*sin(ch)*sin(th) + cos(ta)^2)]\n",
       "[                          l*sin(ch)*sin(ph)*sin(ta)*sin(th)/(cos(ph)^2*sin(ch)^2*sin(th)^2 - 2*cos(ph)*cos(ta)*sin(ch)*sin(th) + cos(ta)^2)                           l*cos(ch)*cos(ta)*sin(ph)*sin(th)/(cos(ph)^2*sin(ch)^2*sin(th)^2 - 2*cos(ph)*cos(ta)*sin(ch)*sin(th) + cos(ta)^2)                           l*cos(ta)*cos(th)*sin(ch)*sin(ph)/(cos(ph)^2*sin(ch)^2*sin(th)^2 - 2*cos(ph)*cos(ta)*sin(ch)*sin(th) + cos(ta)^2) (l*cos(ph)*cos(ta)*sin(ch)*sin(th) - l*sin(ch)^2*sin(th)^2)/(cos(ph)^2*sin(ch)^2*sin(th)^2 - 2*cos(ph)*cos(ta)*sin(ch)*sin(th) + cos(ta)^2)]\n",
       "[                                  l*cos(th)*sin(ch)*sin(ta)/(cos(ph)^2*sin(ch)^2*sin(th)^2 - 2*cos(ph)*cos(ta)*sin(ch)*sin(th) + cos(ta)^2)                                   l*cos(ch)*cos(ta)*cos(th)/(cos(ph)^2*sin(ch)^2*sin(th)^2 - 2*cos(ph)*cos(ta)*sin(ch)*sin(th) + cos(ta)^2)           (l*cos(ph)*sin(ch)^2 - l*cos(ta)*sin(ch)*sin(th))/(cos(ph)^2*sin(ch)^2*sin(th)^2 - 2*cos(ph)*cos(ta)*sin(ch)*sin(th) + cos(ta)^2)                        -l*cos(th)*sin(ch)^2*sin(ph)*sin(th)/(cos(ph)^2*sin(ch)^2*sin(th)^2 - 2*cos(ph)*cos(ta)*sin(ch)*sin(th) + cos(ta)^2)]\n",
       "[                                                                                                                         -l*sin(ta)/cos(ch)                                                                                           (l*cos(ta)*sin(ch) - l*cos(ph)*sin(th))/cos(ch)^2                                                                                                          -l*cos(ph)*cos(th)*sin(ch)/cos(ch)                                                                                                           l*sin(ch)*sin(ph)*sin(th)/cos(ch)]"
      ]
     },
     "execution_count": 16,
     "metadata": {},
     "output_type": "execute_result"
    }
   ],
   "source": [
    "conf_to_Poinc.jacobian()"
   ]
  },
  {
   "cell_type": "markdown",
   "metadata": {},
   "source": [
    "### Plot of the Poincaré coordinate grid in terms of the conformal coordinates $(\\tau,\\chi)$"
   ]
  },
  {
   "cell_type": "markdown",
   "metadata": {},
   "source": [
    "For plotting purposes, we introduce the 2-dimensional plane $\\mathbb{R}^2$, spanned by\n",
    "Cartesian coordinates $(\\tau, x_\\chi)$:"
   ]
  },
  {
   "cell_type": "code",
   "execution_count": 17,
   "metadata": {},
   "outputs": [
    {
     "data": {
      "text/html": [
       "<html>\\[\\newcommand{\\Bold}[1]{\\mathbf{#1}}\\left(\\mathbb{R}^2,({\\tau}, {x_\\chi})\\right)\\]</html>"
      ],
      "text/latex": [
       "$$\\newcommand{\\Bold}[1]{\\mathbf{#1}}\\left(\\mathbb{R}^2,({\\tau}, {x_\\chi})\\right)$$"
      ],
      "text/plain": [
       "Chart (R^2, (ta, x_ch))"
      ]
     },
     "execution_count": 17,
     "metadata": {},
     "output_type": "execute_result"
    }
   ],
   "source": [
    "R2 = Manifold(2, 'R^2', latex_name=r'\\mathbb{R}^2')\n",
    "X2.<ta, x_ch> = R2.chart(r'ta:\\tau x_ch:x_\\chi')\n",
    "X2"
   ]
  },
  {
   "cell_type": "markdown",
   "metadata": {},
   "source": [
    "and define the following map from AdS spacetime to $\\mathbb{R}^2$:"
   ]
  },
  {
   "cell_type": "code",
   "execution_count": 18,
   "metadata": {},
   "outputs": [
    {
     "data": {
      "text/html": [
       "<html>\\[\\newcommand{\\Bold}[1]{\\mathbf{#1}}\\begin{array}{llcl} & \\mathscr{M} & \\longrightarrow & \\mathbb{R}^2 \\\\ & \\left({\\tau}, {\\chi}, {\\theta}, {\\phi}\\right) & \\longmapsto & \\left({\\tau}, {x_\\chi}\\right) = \\left({\\tau}, {\\chi} \\cos\\left({\\phi}\\right)\\right) \\end{array}\\]</html>"
      ],
      "text/latex": [
       "$$\\newcommand{\\Bold}[1]{\\mathbf{#1}}\\begin{array}{llcl} & \\mathscr{M} & \\longrightarrow & \\mathbb{R}^2 \\\\ & \\left({\\tau}, {\\chi}, {\\theta}, {\\phi}\\right) & \\longmapsto & \\left({\\tau}, {x_\\chi}\\right) = \\left({\\tau}, {\\chi} \\cos\\left({\\phi}\\right)\\right) \\end{array}$$"
      ],
      "text/plain": [
       "M → R^2\n",
       "   (ta, ch, th, ph) ↦ (ta, x_ch) = (ta, ch*cos(ph))"
      ]
     },
     "execution_count": 18,
     "metadata": {},
     "output_type": "execute_result"
    }
   ],
   "source": [
    "Phi = M.diff_map(R2, {(X_conf, X2): [ta, ch*cos(ph)]})\n",
    "Phi.display()"
   ]
  },
  {
   "cell_type": "markdown",
   "metadata": {},
   "source": [
    "Let us the grid of coordinates $(t,u)$ for $(x,y)=(0,0)$ in terms of the coordinates $(\\tau,\\chi)$. This is achieved by using the method `plot` on the chart `X_Poinc`:"
   ]
  },
  {
   "cell_type": "code",
   "execution_count": 19,
   "metadata": {},
   "outputs": [],
   "source": [
    "graph1 = X_Poinc.plot(X2, ambient_coords=(x_ch, ta), mapping=Phi.restrict(MP),\n",
    "                      fixed_coords={x: 0, y: 0}, \n",
    "                      ranges={t: (-15, 15), u: (0.01, 12)}, parameters={l: 1},\n",
    "                      color={t: 'red', u: 'grey'}, number_values={t: 33, u: 25}, \n",
    "                      plot_points=200)"
   ]
  },
  {
   "cell_type": "markdown",
   "metadata": {},
   "source": [
    "We superpose the plot of the Poincaré horizon and a few labels:"
   ]
  },
  {
   "cell_type": "code",
   "execution_count": 20,
   "metadata": {},
   "outputs": [
    {
     "data": {
      "image/png": "[encoded data removed]",
      "text/plain": [
       "Graphics object consisting of 64 graphics primitives"
      ]
     },
     "metadata": {},
     "output_type": "display_data"
    }
   ],
   "source": [
    "graph = polygon([(-pi/2, -pi), (pi/2, 0), (-pi/2, pi)], color='cornsilk')\n",
    "graph += graph1\n",
    "graph_hor = plot(pi/2 - ch, (ch, -pi/2, pi/2), color='green',\n",
    "                 thickness=3) \\\n",
    "           + plot(ch - pi/2, (ch, -pi/2, pi/2), color='green',\n",
    "                  thickness=3) \\\n",
    "           + text(r'$\\mathscr{H}$', (-0.9, 2.85), fontsize=18, color='green')\n",
    "graph += graph_hor\n",
    "region_labels = text(r'$\\mathscr{M}$', (1, 2.5), fontsize=18, color='black') \\\n",
    "                + text(r'$\\mathscr{M}_{\\rm P}$', (-0.4, 0.5), fontsize=18, \n",
    "                       color='black')\n",
    "graph += region_labels\n",
    "\n",
    "show(graph, frame=True, gridlines=True, figsize=8)\n",
    "graph.save('neh_AdS_Poincare_patch.pdf', frame=True, \n",
    "           gridlines=True, figsize=8)"
   ]
  },
  {
   "cell_type": "markdown",
   "metadata": {},
   "source": [
    "## Metric tensor in terms of Poincaré coordinates "
   ]
  },
  {
   "cell_type": "markdown",
   "metadata": {},
   "source": [
    "The computation of the metric components with respect to Poincaré coordinates is triggered by the method `display` when it receives the Poincaré chart `X_Poinc` as an argument:"
   ]
  },
  {
   "cell_type": "code",
   "execution_count": 21,
   "metadata": {},
   "outputs": [
    {
     "data": {
      "text/html": [
       "<html>\\[\\newcommand{\\Bold}[1]{\\mathbf{#1}}g = -\\frac{u^{2}}{{\\ell}^{2}} \\mathrm{d} t\\otimes \\mathrm{d} t + \\frac{u^{2}}{{\\ell}^{2}} \\mathrm{d} x\\otimes \\mathrm{d} x + \\frac{u^{2}}{{\\ell}^{2}} \\mathrm{d} y\\otimes \\mathrm{d} y + \\frac{{\\ell}^{2}}{u^{2}} \\mathrm{d} u\\otimes \\mathrm{d} u\\]</html>"
      ],
      "text/latex": [
       "$$\\newcommand{\\Bold}[1]{\\mathbf{#1}}g = -\\frac{u^{2}}{{\\ell}^{2}} \\mathrm{d} t\\otimes \\mathrm{d} t + \\frac{u^{2}}{{\\ell}^{2}} \\mathrm{d} x\\otimes \\mathrm{d} x + \\frac{u^{2}}{{\\ell}^{2}} \\mathrm{d} y\\otimes \\mathrm{d} y + \\frac{{\\ell}^{2}}{u^{2}} \\mathrm{d} u\\otimes \\mathrm{d} u$$"
      ],
      "text/plain": [
       "g = -u^2/l^2 dt⊗dt + u^2/l^2 dx⊗dx + u^2/l^2 dy⊗dy + l^2/u^2 du⊗du"
      ]
     },
     "execution_count": 21,
     "metadata": {},
     "output_type": "execute_result"
    }
   ],
   "source": [
    "g.display(X_Poinc)"
   ]
  },
  {
   "cell_type": "markdown",
   "metadata": {},
   "source": [
    "## Killing vector $\\xi$"
   ]
  },
  {
   "cell_type": "markdown",
   "metadata": {},
   "source": [
    "Since the above components of $g$ do not depend of $t$, the coordinate vector $\\displaystyle\\frac{\\partial}{\\partial t}$ is clearly a Killing vector of $(\\mathscr{M}_{\\rm P}, g)$. Its expression in terms the conformal coordinates is"
   ]
  },
  {
   "cell_type": "code",
   "execution_count": 22,
   "metadata": {},
   "outputs": [
    {
     "data": {
      "text/html": [
       "<html>\\[\\newcommand{\\Bold}[1]{\\mathbf{#1}}\\frac{\\partial}{\\partial t } = \\left( -\\frac{\\cos\\left({\\phi}\\right) \\cos\\left({\\tau}\\right) \\sin\\left({\\chi}\\right) \\sin\\left({\\theta}\\right) - 1}{{\\ell}} \\right) \\frac{\\partial}{\\partial {\\tau} } -\\frac{\\cos\\left({\\chi}\\right) \\cos\\left({\\phi}\\right) \\sin\\left({\\tau}\\right) \\sin\\left({\\theta}\\right)}{{\\ell}} \\frac{\\partial}{\\partial {\\chi} } -\\frac{\\cos\\left({\\phi}\\right) \\cos\\left({\\theta}\\right) \\sin\\left({\\tau}\\right)}{{\\ell} \\sin\\left({\\chi}\\right)} \\frac{\\partial}{\\partial {\\theta} } + \\frac{\\sin\\left({\\phi}\\right) \\sin\\left({\\tau}\\right)}{{\\ell} \\sin\\left({\\chi}\\right) \\sin\\left({\\theta}\\right)} \\frac{\\partial}{\\partial {\\phi} }\\]</html>"
      ],
      "text/latex": [
       "$$\\newcommand{\\Bold}[1]{\\mathbf{#1}}\\frac{\\partial}{\\partial t } = \\left( -\\frac{\\cos\\left({\\phi}\\right) \\cos\\left({\\tau}\\right) \\sin\\left({\\chi}\\right) \\sin\\left({\\theta}\\right) - 1}{{\\ell}} \\right) \\frac{\\partial}{\\partial {\\tau} } -\\frac{\\cos\\left({\\chi}\\right) \\cos\\left({\\phi}\\right) \\sin\\left({\\tau}\\right) \\sin\\left({\\theta}\\right)}{{\\ell}} \\frac{\\partial}{\\partial {\\chi} } -\\frac{\\cos\\left({\\phi}\\right) \\cos\\left({\\theta}\\right) \\sin\\left({\\tau}\\right)}{{\\ell} \\sin\\left({\\chi}\\right)} \\frac{\\partial}{\\partial {\\theta} } + \\frac{\\sin\\left({\\phi}\\right) \\sin\\left({\\tau}\\right)}{{\\ell} \\sin\\left({\\chi}\\right) \\sin\\left({\\theta}\\right)} \\frac{\\partial}{\\partial {\\phi} }$$"
      ],
      "text/plain": [
       "∂/∂t = -(cos(ph)*cos(ta)*sin(ch)*sin(th) - 1)/l ∂/∂ta - cos(ch)*cos(ph)*sin(ta)*sin(th)/l ∂/∂ch - cos(ph)*cos(th)*sin(ta)/(l*sin(ch)) ∂/∂th + sin(ph)*sin(ta)/(l*sin(ch)*sin(th)) ∂/∂ph"
      ]
     },
     "execution_count": 22,
     "metadata": {},
     "output_type": "execute_result"
    }
   ],
   "source": [
    "vt = X_Poinc.frame()[0]\n",
    "vt.display()"
   ]
  },
  {
   "cell_type": "markdown",
   "metadata": {},
   "source": [
    "Let us check that $\\xi$ is indeed a Killing vector of $(\\mathcal{M}_{\\rm P}, g)$:"
   ]
  },
  {
   "cell_type": "code",
   "execution_count": 23,
   "metadata": {},
   "outputs": [
    {
     "data": {
      "text/html": [
       "<html>\\[\\newcommand{\\Bold}[1]{\\mathbf{#1}}0\\]</html>"
      ],
      "text/latex": [
       "$$\\newcommand{\\Bold}[1]{\\mathbf{#1}}0$$"
      ],
      "text/plain": [
       "0"
      ]
     },
     "execution_count": 23,
     "metadata": {},
     "output_type": "execute_result"
    }
   ],
   "source": [
    "g.restrict(MP).lie_derivative(vt).display()"
   ]
  },
  {
   "cell_type": "markdown",
   "metadata": {},
   "source": [
    "We note that the components of $\\partial/\\partial t$ with respect to conformal coordinates are smooth functions\n",
    "of $(\\tau,\\chi,\\theta,\\phi)$ that can be extended beyond $\\mathscr{M}_{\\rm P}$. We may therefore extend $\\partial/\\partial t$ to a vector field $\\xi$ defined on the entire AdS spacetime $\\mathscr{M}$:"
   ]
  },
  {
   "cell_type": "code",
   "execution_count": 24,
   "metadata": {},
   "outputs": [
    {
     "data": {
      "text/html": [
       "<html>\\[\\newcommand{\\Bold}[1]{\\mathbf{#1}}\\xi = \\left( -\\frac{\\cos\\left({\\phi}\\right) \\cos\\left({\\tau}\\right) \\sin\\left({\\chi}\\right) \\sin\\left({\\theta}\\right) - 1}{{\\ell}} \\right) \\frac{\\partial}{\\partial {\\tau} } -\\frac{\\cos\\left({\\chi}\\right) \\cos\\left({\\phi}\\right) \\sin\\left({\\tau}\\right) \\sin\\left({\\theta}\\right)}{{\\ell}} \\frac{\\partial}{\\partial {\\chi} } -\\frac{\\cos\\left({\\phi}\\right) \\cos\\left({\\theta}\\right) \\sin\\left({\\tau}\\right)}{{\\ell} \\sin\\left({\\chi}\\right)} \\frac{\\partial}{\\partial {\\theta} } + \\frac{\\sin\\left({\\phi}\\right) \\sin\\left({\\tau}\\right)}{{\\ell} \\sin\\left({\\chi}\\right) \\sin\\left({\\theta}\\right)} \\frac{\\partial}{\\partial {\\phi} }\\]</html>"
      ],
      "text/latex": [
       "$$\\newcommand{\\Bold}[1]{\\mathbf{#1}}\\xi = \\left( -\\frac{\\cos\\left({\\phi}\\right) \\cos\\left({\\tau}\\right) \\sin\\left({\\chi}\\right) \\sin\\left({\\theta}\\right) - 1}{{\\ell}} \\right) \\frac{\\partial}{\\partial {\\tau} } -\\frac{\\cos\\left({\\chi}\\right) \\cos\\left({\\phi}\\right) \\sin\\left({\\tau}\\right) \\sin\\left({\\theta}\\right)}{{\\ell}} \\frac{\\partial}{\\partial {\\chi} } -\\frac{\\cos\\left({\\phi}\\right) \\cos\\left({\\theta}\\right) \\sin\\left({\\tau}\\right)}{{\\ell} \\sin\\left({\\chi}\\right)} \\frac{\\partial}{\\partial {\\theta} } + \\frac{\\sin\\left({\\phi}\\right) \\sin\\left({\\tau}\\right)}{{\\ell} \\sin\\left({\\chi}\\right) \\sin\\left({\\theta}\\right)} \\frac{\\partial}{\\partial {\\phi} }$$"
      ],
      "text/plain": [
       "xi = -(cos(ph)*cos(ta)*sin(ch)*sin(th) - 1)/l ∂/∂ta - cos(ch)*cos(ph)*sin(ta)*sin(th)/l ∂/∂ch - cos(ph)*cos(th)*sin(ta)/(l*sin(ch)) ∂/∂th + sin(ph)*sin(ta)/(l*sin(ch)*sin(th)) ∂/∂ph"
      ]
     },
     "execution_count": 24,
     "metadata": {},
     "output_type": "execute_result"
    }
   ],
   "source": [
    "xi = M.vector_field([vt[i].expr() for i in M.irange()], \n",
    "                    name='xi', latex_name=r'\\xi')\n",
    "xi.display()"
   ]
  },
  {
   "cell_type": "markdown",
   "metadata": {},
   "source": [
    "Let us check that the restriction of $\\xi$ to $\\mathscr{M}_{\\rm P}$ coincides with $\\partial/\\partial t$:"
   ]
  },
  {
   "cell_type": "code",
   "execution_count": 25,
   "metadata": {},
   "outputs": [
    {
     "data": {
      "text/html": [
       "<html>\\[\\newcommand{\\Bold}[1]{\\mathbf{#1}}\\xi = \\frac{\\partial}{\\partial t }\\]</html>"
      ],
      "text/latex": [
       "$$\\newcommand{\\Bold}[1]{\\mathbf{#1}}\\xi = \\frac{\\partial}{\\partial t }$$"
      ],
      "text/plain": [
       "xi = ∂/∂t"
      ]
     },
     "execution_count": 25,
     "metadata": {},
     "output_type": "execute_result"
    }
   ],
   "source": [
    "xi.restrict(MP).display(X_Poinc)"
   ]
  },
  {
   "cell_type": "markdown",
   "metadata": {},
   "source": [
    "$\\xi$ is a global Killing vector:"
   ]
  },
  {
   "cell_type": "code",
   "execution_count": 26,
   "metadata": {},
   "outputs": [
    {
     "data": {
      "text/html": [
       "<html>\\[\\newcommand{\\Bold}[1]{\\mathbf{#1}}0\\]</html>"
      ],
      "text/latex": [
       "$$\\newcommand{\\Bold}[1]{\\mathbf{#1}}0$$"
      ],
      "text/plain": [
       "0"
      ]
     },
     "execution_count": 26,
     "metadata": {},
     "output_type": "execute_result"
    }
   ],
   "source": [
    "g.lie_derivative(xi).display()"
   ]
  },
  {
   "cell_type": "markdown",
   "metadata": {},
   "source": [
    "Another view of the same property by forming the **Killing equation** $\\nabla_a \\xi_b + \\nabla_b \\xi_a = 0$:"
   ]
  },
  {
   "cell_type": "code",
   "execution_count": 27,
   "metadata": {},
   "outputs": [
    {
     "data": {
      "text/html": [
       "<html>\\[\\newcommand{\\Bold}[1]{\\mathbf{#1}}0\\]</html>"
      ],
      "text/latex": [
       "$$\\newcommand{\\Bold}[1]{\\mathbf{#1}}0$$"
      ],
      "text/plain": [
       "0"
      ]
     },
     "execution_count": 27,
     "metadata": {},
     "output_type": "execute_result"
    }
   ],
   "source": [
    "nabla = g.connection()\n",
    "\n",
    "nabla(xi.down(g)).symmetrize().display()"
   ]
  },
  {
   "cell_type": "markdown",
   "metadata": {},
   "source": [
    "### Plot of $\\xi$"
   ]
  },
  {
   "cell_type": "code",
   "execution_count": 28,
   "metadata": {},
   "outputs": [
    {
     "data": {
      "image/png": "[encoded data removed]",
      "text/plain": [
       "Graphics object consisting of 235 graphics primitives"
      ]
     },
     "metadata": {},
     "output_type": "display_data"
    }
   ],
   "source": [
    "graph = polygon([(-pi/2, -pi), (pi/2, 0), (-pi/2, pi)], color='cornsilk')\n",
    "\n",
    "graph += xi.plot(X2, ambient_coords=(x_ch, ta), mapping=Phi,\n",
    "                 fixed_coords={th: pi/2}, parameters={l: 1},\n",
    "                 ranges={ta: (-pi, pi)}, number_values={ta: 11, ch: 7, ph: 3},\n",
    "                 color='red', scale=0.3, arrowsize=2)\n",
    "\n",
    "graph += graph_hor\n",
    "show(graph, frame=True, gridlines=True, figsize=8, aspect_ratio=1)\n",
    "graph.save(\"neh_AdS_Killing_vec.pdf\", frame=True, gridlines=True, \n",
    "           figsize=8, aspect_ratio=1)"
   ]
  },
  {
   "cell_type": "markdown",
   "metadata": {},
   "source": [
    "## $u$ as a scalar field on the whole AdS spacetime"
   ]
  },
  {
   "cell_type": "markdown",
   "metadata": {},
   "source": [
    "The expression of the Poincaré coordinate $u$ in terms of the conformal coordinates $(\\tau,\\chi,\\theta,\\phi)$\n",
    "is read as the last component (index `3`) of the coordinate transformation `conf_to_Poinc`, which \n",
    "implements $(\\tau,\\chi,\\theta,\\phi)\\mapsto (t,x,y,u)$:"
   ]
  },
  {
   "cell_type": "code",
   "execution_count": 29,
   "metadata": {},
   "outputs": [
    {
     "data": {
      "text/html": [
       "<html>\\[\\newcommand{\\Bold}[1]{\\mathbf{#1}}\\left(-\\frac{{\\ell} \\sin\\left({\\tau}\\right)}{\\cos\\left({\\phi}\\right) \\sin\\left({\\chi}\\right) \\sin\\left({\\theta}\\right) - \\cos\\left({\\tau}\\right)}, -\\frac{{\\ell} \\sin\\left({\\chi}\\right) \\sin\\left({\\phi}\\right) \\sin\\left({\\theta}\\right)}{\\cos\\left({\\phi}\\right) \\sin\\left({\\chi}\\right) \\sin\\left({\\theta}\\right) - \\cos\\left({\\tau}\\right)}, -\\frac{{\\ell} \\cos\\left({\\theta}\\right) \\sin\\left({\\chi}\\right)}{\\cos\\left({\\phi}\\right) \\sin\\left({\\chi}\\right) \\sin\\left({\\theta}\\right) - \\cos\\left({\\tau}\\right)}, -\\frac{{\\ell} \\cos\\left({\\phi}\\right) \\sin\\left({\\chi}\\right) \\sin\\left({\\theta}\\right) - {\\ell} \\cos\\left({\\tau}\\right)}{\\cos\\left({\\chi}\\right)}\\right)\\]</html>"
      ],
      "text/latex": [
       "$$\\newcommand{\\Bold}[1]{\\mathbf{#1}}\\left(-\\frac{{\\ell} \\sin\\left({\\tau}\\right)}{\\cos\\left({\\phi}\\right) \\sin\\left({\\chi}\\right) \\sin\\left({\\theta}\\right) - \\cos\\left({\\tau}\\right)}, -\\frac{{\\ell} \\sin\\left({\\chi}\\right) \\sin\\left({\\phi}\\right) \\sin\\left({\\theta}\\right)}{\\cos\\left({\\phi}\\right) \\sin\\left({\\chi}\\right) \\sin\\left({\\theta}\\right) - \\cos\\left({\\tau}\\right)}, -\\frac{{\\ell} \\cos\\left({\\theta}\\right) \\sin\\left({\\chi}\\right)}{\\cos\\left({\\phi}\\right) \\sin\\left({\\chi}\\right) \\sin\\left({\\theta}\\right) - \\cos\\left({\\tau}\\right)}, -\\frac{{\\ell} \\cos\\left({\\phi}\\right) \\sin\\left({\\chi}\\right) \\sin\\left({\\theta}\\right) - {\\ell} \\cos\\left({\\tau}\\right)}{\\cos\\left({\\chi}\\right)}\\right)$$"
      ],
      "text/plain": [
       "(-l*sin(ta)/(cos(ph)*sin(ch)*sin(th) - cos(ta)),\n",
       " -l*sin(ch)*sin(ph)*sin(th)/(cos(ph)*sin(ch)*sin(th) - cos(ta)),\n",
       " -l*cos(th)*sin(ch)/(cos(ph)*sin(ch)*sin(th) - cos(ta)),\n",
       " -(l*cos(ph)*sin(ch)*sin(th) - l*cos(ta))/cos(ch))"
      ]
     },
     "execution_count": 29,
     "metadata": {},
     "output_type": "execute_result"
    }
   ],
   "source": [
    "conf_to_Poinc(ta, ch, th, ph)"
   ]
  },
  {
   "cell_type": "code",
   "execution_count": 30,
   "metadata": {},
   "outputs": [
    {
     "data": {
      "text/html": [
       "<html>\\[\\newcommand{\\Bold}[1]{\\mathbf{#1}}-\\frac{{\\ell} \\cos\\left({\\phi}\\right) \\sin\\left({\\chi}\\right) \\sin\\left({\\theta}\\right) - {\\ell} \\cos\\left({\\tau}\\right)}{\\cos\\left({\\chi}\\right)}\\]</html>"
      ],
      "text/latex": [
       "$$\\newcommand{\\Bold}[1]{\\mathbf{#1}}-\\frac{{\\ell} \\cos\\left({\\phi}\\right) \\sin\\left({\\chi}\\right) \\sin\\left({\\theta}\\right) - {\\ell} \\cos\\left({\\tau}\\right)}{\\cos\\left({\\chi}\\right)}$$"
      ],
      "text/plain": [
       "-(l*cos(ph)*sin(ch)*sin(th) - l*cos(ta))/cos(ch)"
      ]
     },
     "execution_count": 30,
     "metadata": {},
     "output_type": "execute_result"
    }
   ],
   "source": [
    "conf_to_Poinc(ta, ch, th, ph)[3]"
   ]
  },
  {
   "cell_type": "markdown",
   "metadata": {},
   "source": [
    "This expression being regular in all $\\mathscr{M}$, we may extend $u$ to a scalar field defined on $\\mathscr{M}$ by"
   ]
  },
  {
   "cell_type": "code",
   "execution_count": 31,
   "metadata": {},
   "outputs": [
    {
     "data": {
      "text/html": [
       "<html>\\[\\newcommand{\\Bold}[1]{\\mathbf{#1}}\\begin{array}{llcl} u:& \\mathscr{M} & \\longrightarrow & \\mathbb{R} \\\\ & \\left({\\tau}, {\\chi}, {\\theta}, {\\phi}\\right) & \\longmapsto & -\\frac{{\\ell} \\cos\\left({\\phi}\\right) \\sin\\left({\\chi}\\right) \\sin\\left({\\theta}\\right) - {\\ell} \\cos\\left({\\tau}\\right)}{\\cos\\left({\\chi}\\right)} \\\\ \\mbox{on}\\ \\mathscr{M}_{\\rm P} : & \\left(t, x, y, u\\right) & \\longmapsto & u \\end{array}\\]</html>"
      ],
      "text/latex": [
       "$$\\newcommand{\\Bold}[1]{\\mathbf{#1}}\\begin{array}{llcl} u:& \\mathscr{M} & \\longrightarrow & \\mathbb{R} \\\\ & \\left({\\tau}, {\\chi}, {\\theta}, {\\phi}\\right) & \\longmapsto & -\\frac{{\\ell} \\cos\\left({\\phi}\\right) \\sin\\left({\\chi}\\right) \\sin\\left({\\theta}\\right) - {\\ell} \\cos\\left({\\tau}\\right)}{\\cos\\left({\\chi}\\right)} \\\\ \\mbox{on}\\ \\mathscr{M}_{\\rm P} : & \\left(t, x, y, u\\right) & \\longmapsto & u \\end{array}$$"
      ],
      "text/plain": [
       "u: M → ℝ\n",
       "   (ta, ch, th, ph) ↦ -(l*cos(ph)*sin(ch)*sin(th) - l*cos(ta))/cos(ch)\n",
       "on MP: (t, x, y, u) ↦ u"
      ]
     },
     "execution_count": 31,
     "metadata": {},
     "output_type": "execute_result"
    }
   ],
   "source": [
    "U = M.scalar_field(conf_to_Poinc(ta, ch, th, ph)[3], name='u')\n",
    "U.display()"
   ]
  },
  {
   "cell_type": "markdown",
   "metadata": {},
   "source": [
    "## The Poincaré horizon as the submanifold $u=0$"
   ]
  },
  {
   "cell_type": "markdown",
   "metadata": {},
   "source": [
    "The **Poincaré horizon** \n",
    "is the hypersurface $\\mathscr{H}$ bounding the Poincaré patch $\\mathscr{M}_{\\rm P}$ in \n",
    "$\\mathscr{M}$. It follows that $\\mathscr{H}$ is the level set $u=0$ within the region $-\\pi<\\tau<\\pi$.\n",
    "$\\mathscr{H}$ has actually two connected components: one for $-\\pi < \\tau < 0$ and the other one\n",
    "for $0 < \\tau <\\pi$. In what follows, we focus on the connected component that has $0 < \\tau <\\pi$; we define\n",
    "it as a submanifold of $\\mathscr{M}$, by means of the keyword `ambient` in the function `Manifold`:"
   ]
  },
  {
   "cell_type": "code",
   "execution_count": 32,
   "metadata": {},
   "outputs": [
    {
     "name": "stdout",
     "output_type": "stream",
     "text": [
      "3-dimensional differentiable submanifold H immersed in the 4-dimensional Lorentzian manifold M\n"
     ]
    }
   ],
   "source": [
    "H = Manifold(3, 'H', ambient=M, latex_name=r'\\mathscr{H}')\n",
    "print(H)"
   ]
  },
  {
   "cell_type": "markdown",
   "metadata": {},
   "source": [
    "We consider that $\\mathscr{H}$ is spanned by the coordinates $(\\chi,\\theta,\\phi)$, so that we declare the following \n",
    "chart:"
   ]
  },
  {
   "cell_type": "code",
   "execution_count": 33,
   "metadata": {},
   "outputs": [
    {
     "data": {
      "text/html": [
       "<html>\\[\\newcommand{\\Bold}[1]{\\mathbf{#1}}\\left(\\mathscr{H},({\\chi}, {\\theta}, {\\phi})\\right)\\]</html>"
      ],
      "text/latex": [
       "$$\\newcommand{\\Bold}[1]{\\mathbf{#1}}\\left(\\mathscr{H},({\\chi}, {\\theta}, {\\phi})\\right)$$"
      ],
      "text/plain": [
       "Chart (H, (ch, th, ph))"
      ]
     },
     "execution_count": 33,
     "metadata": {},
     "output_type": "execute_result"
    }
   ],
   "source": [
    "XH.<ch,th,ph> = H.chart(r'ch:(0,pi/2):\\chi th:(0,pi):\\theta ph:(0,2*pi):periodic:\\phi')\n",
    "XH"
   ]
  },
  {
   "cell_type": "markdown",
   "metadata": {},
   "source": [
    "The **embedding $F$ of** $\\mathscr{H}$ **into** $\\mathscr{M}$ is easily defined in the pair of charts\n",
    "`(XH, X_conf)` by noticing that, for $0 < \\tau <\\pi$,  $u=0 \\iff \\tau = \\arccos(\\sin\\chi\\sin\\theta\\cos\\phi)$:"
   ]
  },
  {
   "cell_type": "code",
   "execution_count": 34,
   "metadata": {},
   "outputs": [
    {
     "data": {
      "text/html": [
       "<html>\\[\\newcommand{\\Bold}[1]{\\mathbf{#1}}\\begin{array}{llcl} F:& \\mathscr{H} & \\longrightarrow & \\mathscr{M} \\\\ & \\left({\\chi}, {\\theta}, {\\phi}\\right) & \\longmapsto & \\left({\\tau}, {\\chi}, {\\theta}, {\\phi}\\right) = \\left(\\arccos\\left(\\cos\\left({\\phi}\\right) \\sin\\left({\\chi}\\right) \\sin\\left({\\theta}\\right)\\right), {\\chi}, {\\theta}, {\\phi}\\right) \\end{array}\\]</html>"
      ],
      "text/latex": [
       "$$\\newcommand{\\Bold}[1]{\\mathbf{#1}}\\begin{array}{llcl} F:& \\mathscr{H} & \\longrightarrow & \\mathscr{M} \\\\ & \\left({\\chi}, {\\theta}, {\\phi}\\right) & \\longmapsto & \\left({\\tau}, {\\chi}, {\\theta}, {\\phi}\\right) = \\left(\\arccos\\left(\\cos\\left({\\phi}\\right) \\sin\\left({\\chi}\\right) \\sin\\left({\\theta}\\right)\\right), {\\chi}, {\\theta}, {\\phi}\\right) \\end{array}$$"
      ],
      "text/plain": [
       "F: H → M\n",
       "   (ch, th, ph) ↦ (ta, ch, th, ph) = (arccos(cos(ph)*sin(ch)*sin(th)), ch, th, ph)"
      ]
     },
     "execution_count": 34,
     "metadata": {},
     "output_type": "execute_result"
    }
   ],
   "source": [
    "F = H.diff_map(M, {(XH, X_conf): (acos(sin(ch)*sin(th)*cos(ph)), ch, th, ph)},\n",
    "               name='F')\n",
    "F.display()"
   ]
  },
  {
   "cell_type": "markdown",
   "metadata": {},
   "source": [
    "We declare that $F$ is the embedding of $\\mathscr{H}$ into $\\mathscr{M}$, thereby ending the definition of $\\mathscr{H}$:"
   ]
  },
  {
   "cell_type": "code",
   "execution_count": 35,
   "metadata": {},
   "outputs": [
    {
     "name": "stdout",
     "output_type": "stream",
     "text": [
      "3-dimensional differentiable submanifold H embedded in the 4-dimensional Lorentzian manifold M\n"
     ]
    }
   ],
   "source": [
    "H.set_embedding(F)\n",
    "print(H)"
   ]
  },
  {
   "cell_type": "markdown",
   "metadata": {},
   "source": [
    "We may check that the scalar field $u$ is zero on $\\mathscr{H}$ by considering the pullback of $u$ by $F$:"
   ]
  },
  {
   "cell_type": "code",
   "execution_count": 36,
   "metadata": {},
   "outputs": [
    {
     "name": "stdout",
     "output_type": "stream",
     "text": [
      "Scalar field F^*(u) on the 3-dimensional differentiable submanifold H embedded in the 4-dimensional Lorentzian manifold M\n"
     ]
    }
   ],
   "source": [
    "FU = F.pullback(U)\n",
    "print(FU)"
   ]
  },
  {
   "cell_type": "code",
   "execution_count": 37,
   "metadata": {},
   "outputs": [
    {
     "data": {
      "text/html": [
       "<html>\\[\\newcommand{\\Bold}[1]{\\mathbf{#1}}\\begin{array}{llcl} {F}^*u:& \\mathscr{H} & \\longrightarrow & \\mathbb{R} \\\\ & \\left({\\chi}, {\\theta}, {\\phi}\\right) & \\longmapsto & 0 \\end{array}\\]</html>"
      ],
      "text/latex": [
       "$$\\newcommand{\\Bold}[1]{\\mathbf{#1}}\\begin{array}{llcl} {F}^*u:& \\mathscr{H} & \\longrightarrow & \\mathbb{R} \\\\ & \\left({\\chi}, {\\theta}, {\\phi}\\right) & \\longmapsto & 0 \\end{array}$$"
      ],
      "text/plain": [
       "F^*(u): H → ℝ\n",
       "   (ch, th, ph) ↦ 0"
      ]
     },
     "execution_count": 37,
     "metadata": {},
     "output_type": "execute_result"
    }
   ],
   "source": [
    "FU.display()"
   ]
  },
  {
   "cell_type": "markdown",
   "metadata": {},
   "source": [
    "### Null character of the hypersurface $\\mathscr{H}$"
   ]
  },
  {
   "cell_type": "markdown",
   "metadata": {},
   "source": [
    "The metric induced by $g$ on $\\mathscr{H}$ is obtained as the pullback of $g$ by the embedding $F$:"
   ]
  },
  {
   "cell_type": "code",
   "execution_count": 38,
   "metadata": {},
   "outputs": [
    {
     "name": "stdout",
     "output_type": "stream",
     "text": [
      "Field of symmetric bilinear forms F^*(g) on the 3-dimensional differentiable submanifold H embedded in the 4-dimensional Lorentzian manifold M\n"
     ]
    }
   ],
   "source": [
    "Fg = F.pullback(g)\n",
    "print(Fg)"
   ]
  },
  {
   "cell_type": "code",
   "execution_count": 39,
   "metadata": {},
   "outputs": [
    {
     "data": {
      "text/html": [
       "<html>\\[\\newcommand{\\Bold}[1]{\\mathbf{#1}}{F}^*g = \\left( \\frac{{\\ell}^{2} \\cos\\left({\\phi}\\right)^{2} \\sin\\left({\\theta}\\right)^{2} - {\\ell}^{2}}{\\cos\\left({\\chi}\\right)^{2} \\cos\\left({\\phi}\\right)^{2} \\sin\\left({\\chi}\\right)^{2} \\sin\\left({\\theta}\\right)^{2} - \\cos\\left({\\chi}\\right)^{2}} \\right) \\mathrm{d} {\\chi}\\otimes \\mathrm{d} {\\chi} + \\left( \\frac{{\\ell}^{2} \\cos\\left({\\phi}\\right)^{2} \\cos\\left({\\theta}\\right) \\sin\\left({\\chi}\\right) \\sin\\left({\\theta}\\right)}{\\cos\\left({\\chi}\\right) \\cos\\left({\\phi}\\right)^{2} \\sin\\left({\\chi}\\right)^{2} \\sin\\left({\\theta}\\right)^{2} - \\cos\\left({\\chi}\\right)} \\right) \\mathrm{d} {\\chi}\\otimes \\mathrm{d} {\\theta} + \\left( -\\frac{{\\ell}^{2} \\cos\\left({\\phi}\\right) \\sin\\left({\\chi}\\right) \\sin\\left({\\phi}\\right) \\sin\\left({\\theta}\\right)^{2}}{\\cos\\left({\\chi}\\right) \\cos\\left({\\phi}\\right)^{2} \\sin\\left({\\chi}\\right)^{2} \\sin\\left({\\theta}\\right)^{2} - \\cos\\left({\\chi}\\right)} \\right) \\mathrm{d} {\\chi}\\otimes \\mathrm{d} {\\phi} + \\left( \\frac{{\\ell}^{2} \\cos\\left({\\phi}\\right)^{2} \\cos\\left({\\theta}\\right) \\sin\\left({\\chi}\\right) \\sin\\left({\\theta}\\right)}{\\cos\\left({\\chi}\\right) \\cos\\left({\\phi}\\right)^{2} \\sin\\left({\\chi}\\right)^{2} \\sin\\left({\\theta}\\right)^{2} - \\cos\\left({\\chi}\\right)} \\right) \\mathrm{d} {\\theta}\\otimes \\mathrm{d} {\\chi} + \\left( \\frac{{\\ell}^{2} \\cos\\left({\\phi}\\right)^{2} \\sin\\left({\\chi}\\right)^{4} \\sin\\left({\\theta}\\right)^{2} + {\\ell}^{2} \\cos\\left({\\phi}\\right)^{2} \\cos\\left({\\theta}\\right)^{2} \\sin\\left({\\chi}\\right)^{2} - {\\ell}^{2} \\sin\\left({\\chi}\\right)^{2}}{\\cos\\left({\\chi}\\right)^{2} \\cos\\left({\\phi}\\right)^{2} \\sin\\left({\\chi}\\right)^{2} \\sin\\left({\\theta}\\right)^{2} - \\cos\\left({\\chi}\\right)^{2}} \\right) \\mathrm{d} {\\theta}\\otimes \\mathrm{d} {\\theta} + \\left( -\\frac{{\\ell}^{2} \\cos\\left({\\phi}\\right) \\cos\\left({\\theta}\\right) \\sin\\left({\\chi}\\right)^{2} \\sin\\left({\\phi}\\right) \\sin\\left({\\theta}\\right)}{\\cos\\left({\\chi}\\right)^{2} \\cos\\left({\\phi}\\right)^{2} \\sin\\left({\\chi}\\right)^{2} \\sin\\left({\\theta}\\right)^{2} - \\cos\\left({\\chi}\\right)^{2}} \\right) \\mathrm{d} {\\theta}\\otimes \\mathrm{d} {\\phi} + \\left( -\\frac{{\\ell}^{2} \\cos\\left({\\phi}\\right) \\sin\\left({\\chi}\\right) \\sin\\left({\\phi}\\right) \\sin\\left({\\theta}\\right)^{2}}{\\cos\\left({\\chi}\\right) \\cos\\left({\\phi}\\right)^{2} \\sin\\left({\\chi}\\right)^{2} \\sin\\left({\\theta}\\right)^{2} - \\cos\\left({\\chi}\\right)} \\right) \\mathrm{d} {\\phi}\\otimes \\mathrm{d} {\\chi} + \\left( -\\frac{{\\ell}^{2} \\cos\\left({\\phi}\\right) \\cos\\left({\\theta}\\right) \\sin\\left({\\chi}\\right)^{2} \\sin\\left({\\phi}\\right) \\sin\\left({\\theta}\\right)}{\\cos\\left({\\chi}\\right)^{2} \\cos\\left({\\phi}\\right)^{2} \\sin\\left({\\chi}\\right)^{2} \\sin\\left({\\theta}\\right)^{2} - \\cos\\left({\\chi}\\right)^{2}} \\right) \\mathrm{d} {\\phi}\\otimes \\mathrm{d} {\\theta} + \\left( \\frac{{\\ell}^{2} \\cos\\left({\\phi}\\right)^{2} \\sin\\left({\\chi}\\right)^{4} \\sin\\left({\\theta}\\right)^{4} - {\\ell}^{2} \\cos\\left({\\phi}\\right)^{2} \\sin\\left({\\chi}\\right)^{2} \\sin\\left({\\theta}\\right)^{2}}{\\cos\\left({\\chi}\\right)^{2} \\cos\\left({\\phi}\\right)^{2} \\sin\\left({\\chi}\\right)^{2} \\sin\\left({\\theta}\\right)^{2} - \\cos\\left({\\chi}\\right)^{2}} \\right) \\mathrm{d} {\\phi}\\otimes \\mathrm{d} {\\phi}\\]</html>"
      ],
      "text/latex": [
       "$$\\newcommand{\\Bold}[1]{\\mathbf{#1}}{F}^*g = \\left( \\frac{{\\ell}^{2} \\cos\\left({\\phi}\\right)^{2} \\sin\\left({\\theta}\\right)^{2} - {\\ell}^{2}}{\\cos\\left({\\chi}\\right)^{2} \\cos\\left({\\phi}\\right)^{2} \\sin\\left({\\chi}\\right)^{2} \\sin\\left({\\theta}\\right)^{2} - \\cos\\left({\\chi}\\right)^{2}} \\right) \\mathrm{d} {\\chi}\\otimes \\mathrm{d} {\\chi} + \\left( \\frac{{\\ell}^{2} \\cos\\left({\\phi}\\right)^{2} \\cos\\left({\\theta}\\right) \\sin\\left({\\chi}\\right) \\sin\\left({\\theta}\\right)}{\\cos\\left({\\chi}\\right) \\cos\\left({\\phi}\\right)^{2} \\sin\\left({\\chi}\\right)^{2} \\sin\\left({\\theta}\\right)^{2} - \\cos\\left({\\chi}\\right)} \\right) \\mathrm{d} {\\chi}\\otimes \\mathrm{d} {\\theta} + \\left( -\\frac{{\\ell}^{2} \\cos\\left({\\phi}\\right) \\sin\\left({\\chi}\\right) \\sin\\left({\\phi}\\right) \\sin\\left({\\theta}\\right)^{2}}{\\cos\\left({\\chi}\\right) \\cos\\left({\\phi}\\right)^{2} \\sin\\left({\\chi}\\right)^{2} \\sin\\left({\\theta}\\right)^{2} - \\cos\\left({\\chi}\\right)} \\right) \\mathrm{d} {\\chi}\\otimes \\mathrm{d} {\\phi} + \\left( \\frac{{\\ell}^{2} \\cos\\left({\\phi}\\right)^{2} \\cos\\left({\\theta}\\right) \\sin\\left({\\chi}\\right) \\sin\\left({\\theta}\\right)}{\\cos\\left({\\chi}\\right) \\cos\\left({\\phi}\\right)^{2} \\sin\\left({\\chi}\\right)^{2} \\sin\\left({\\theta}\\right)^{2} - \\cos\\left({\\chi}\\right)} \\right) \\mathrm{d} {\\theta}\\otimes \\mathrm{d} {\\chi} + \\left( \\frac{{\\ell}^{2} \\cos\\left({\\phi}\\right)^{2} \\sin\\left({\\chi}\\right)^{4} \\sin\\left({\\theta}\\right)^{2} + {\\ell}^{2} \\cos\\left({\\phi}\\right)^{2} \\cos\\left({\\theta}\\right)^{2} \\sin\\left({\\chi}\\right)^{2} - {\\ell}^{2} \\sin\\left({\\chi}\\right)^{2}}{\\cos\\left({\\chi}\\right)^{2} \\cos\\left({\\phi}\\right)^{2} \\sin\\left({\\chi}\\right)^{2} \\sin\\left({\\theta}\\right)^{2} - \\cos\\left({\\chi}\\right)^{2}} \\right) \\mathrm{d} {\\theta}\\otimes \\mathrm{d} {\\theta} + \\left( -\\frac{{\\ell}^{2} \\cos\\left({\\phi}\\right) \\cos\\left({\\theta}\\right) \\sin\\left({\\chi}\\right)^{2} \\sin\\left({\\phi}\\right) \\sin\\left({\\theta}\\right)}{\\cos\\left({\\chi}\\right)^{2} \\cos\\left({\\phi}\\right)^{2} \\sin\\left({\\chi}\\right)^{2} \\sin\\left({\\theta}\\right)^{2} - \\cos\\left({\\chi}\\right)^{2}} \\right) \\mathrm{d} {\\theta}\\otimes \\mathrm{d} {\\phi} + \\left( -\\frac{{\\ell}^{2} \\cos\\left({\\phi}\\right) \\sin\\left({\\chi}\\right) \\sin\\left({\\phi}\\right) \\sin\\left({\\theta}\\right)^{2}}{\\cos\\left({\\chi}\\right) \\cos\\left({\\phi}\\right)^{2} \\sin\\left({\\chi}\\right)^{2} \\sin\\left({\\theta}\\right)^{2} - \\cos\\left({\\chi}\\right)} \\right) \\mathrm{d} {\\phi}\\otimes \\mathrm{d} {\\chi} + \\left( -\\frac{{\\ell}^{2} \\cos\\left({\\phi}\\right) \\cos\\left({\\theta}\\right) \\sin\\left({\\chi}\\right)^{2} \\sin\\left({\\phi}\\right) \\sin\\left({\\theta}\\right)}{\\cos\\left({\\chi}\\right)^{2} \\cos\\left({\\phi}\\right)^{2} \\sin\\left({\\chi}\\right)^{2} \\sin\\left({\\theta}\\right)^{2} - \\cos\\left({\\chi}\\right)^{2}} \\right) \\mathrm{d} {\\phi}\\otimes \\mathrm{d} {\\theta} + \\left( \\frac{{\\ell}^{2} \\cos\\left({\\phi}\\right)^{2} \\sin\\left({\\chi}\\right)^{4} \\sin\\left({\\theta}\\right)^{4} - {\\ell}^{2} \\cos\\left({\\phi}\\right)^{2} \\sin\\left({\\chi}\\right)^{2} \\sin\\left({\\theta}\\right)^{2}}{\\cos\\left({\\chi}\\right)^{2} \\cos\\left({\\phi}\\right)^{2} \\sin\\left({\\chi}\\right)^{2} \\sin\\left({\\theta}\\right)^{2} - \\cos\\left({\\chi}\\right)^{2}} \\right) \\mathrm{d} {\\phi}\\otimes \\mathrm{d} {\\phi}$$"
      ],
      "text/plain": [
       "F^*(g) = (l^2*cos(ph)^2*sin(th)^2 - l^2)/(cos(ch)^2*cos(ph)^2*sin(ch)^2*sin(th)^2 - cos(ch)^2) dch⊗dch + l^2*cos(ph)^2*cos(th)*sin(ch)*sin(th)/(cos(ch)*cos(ph)^2*sin(ch)^2*sin(th)^2 - cos(ch)) dch⊗dth - l^2*cos(ph)*sin(ch)*sin(ph)*sin(th)^2/(cos(ch)*cos(ph)^2*sin(ch)^2*sin(th)^2 - cos(ch)) dch⊗dph + l^2*cos(ph)^2*cos(th)*sin(ch)*sin(th)/(cos(ch)*cos(ph)^2*sin(ch)^2*sin(th)^2 - cos(ch)) dth⊗dch + (l^2*cos(ph)^2*sin(ch)^4*sin(th)^2 + l^2*cos(ph)^2*cos(th)^2*sin(ch)^2 - l^2*sin(ch)^2)/(cos(ch)^2*cos(ph)^2*sin(ch)^2*sin(th)^2 - cos(ch)^2) dth⊗dth - l^2*cos(ph)*cos(th)*sin(ch)^2*sin(ph)*sin(th)/(cos(ch)^2*cos(ph)^2*sin(ch)^2*sin(th)^2 - cos(ch)^2) dth⊗dph - l^2*cos(ph)*sin(ch)*sin(ph)*sin(th)^2/(cos(ch)*cos(ph)^2*sin(ch)^2*sin(th)^2 - cos(ch)) dph⊗dch - l^2*cos(ph)*cos(th)*sin(ch)^2*sin(ph)*sin(th)/(cos(ch)^2*cos(ph)^2*sin(ch)^2*sin(th)^2 - cos(ch)^2) dph⊗dth + (l^2*cos(ph)^2*sin(ch)^4*sin(th)^4 - l^2*cos(ph)^2*sin(ch)^2*sin(th)^2)/(cos(ch)^2*cos(ph)^2*sin(ch)^2*sin(th)^2 - cos(ch)^2) dph⊗dph"
      ]
     },
     "execution_count": 39,
     "metadata": {},
     "output_type": "execute_result"
    }
   ],
   "source": [
    "Fg.display()"
   ]
  },
  {
   "cell_type": "markdown",
   "metadata": {},
   "source": [
    "We declare a metric $h$ on $\\mathscr{H}$ and initialize it with the pullback $F^* g$:"
   ]
  },
  {
   "cell_type": "code",
   "execution_count": 40,
   "metadata": {},
   "outputs": [
    {
     "data": {
      "text/html": [
       "<html>\\[\\newcommand{\\Bold}[1]{\\mathbf{#1}}h = \\left( \\frac{{\\ell}^{2} \\cos\\left({\\phi}\\right)^{2} \\sin\\left({\\theta}\\right)^{2} - {\\ell}^{2}}{\\cos\\left({\\chi}\\right)^{2} \\cos\\left({\\phi}\\right)^{2} \\sin\\left({\\chi}\\right)^{2} \\sin\\left({\\theta}\\right)^{2} - \\cos\\left({\\chi}\\right)^{2}} \\right) \\mathrm{d} {\\chi}\\otimes \\mathrm{d} {\\chi} + \\left( \\frac{{\\ell}^{2} \\cos\\left({\\phi}\\right)^{2} \\cos\\left({\\theta}\\right) \\sin\\left({\\chi}\\right) \\sin\\left({\\theta}\\right)}{\\cos\\left({\\chi}\\right) \\cos\\left({\\phi}\\right)^{2} \\sin\\left({\\chi}\\right)^{2} \\sin\\left({\\theta}\\right)^{2} - \\cos\\left({\\chi}\\right)} \\right) \\mathrm{d} {\\chi}\\otimes \\mathrm{d} {\\theta} + \\left( -\\frac{{\\ell}^{2} \\cos\\left({\\phi}\\right) \\sin\\left({\\chi}\\right) \\sin\\left({\\phi}\\right) \\sin\\left({\\theta}\\right)^{2}}{\\cos\\left({\\chi}\\right) \\cos\\left({\\phi}\\right)^{2} \\sin\\left({\\chi}\\right)^{2} \\sin\\left({\\theta}\\right)^{2} - \\cos\\left({\\chi}\\right)} \\right) \\mathrm{d} {\\chi}\\otimes \\mathrm{d} {\\phi} + \\left( \\frac{{\\ell}^{2} \\cos\\left({\\phi}\\right)^{2} \\cos\\left({\\theta}\\right) \\sin\\left({\\chi}\\right) \\sin\\left({\\theta}\\right)}{\\cos\\left({\\chi}\\right) \\cos\\left({\\phi}\\right)^{2} \\sin\\left({\\chi}\\right)^{2} \\sin\\left({\\theta}\\right)^{2} - \\cos\\left({\\chi}\\right)} \\right) \\mathrm{d} {\\theta}\\otimes \\mathrm{d} {\\chi} + \\left( \\frac{{\\ell}^{2} \\cos\\left({\\phi}\\right)^{2} \\sin\\left({\\chi}\\right)^{4} \\sin\\left({\\theta}\\right)^{2} + {\\ell}^{2} \\cos\\left({\\phi}\\right)^{2} \\cos\\left({\\theta}\\right)^{2} \\sin\\left({\\chi}\\right)^{2} - {\\ell}^{2} \\sin\\left({\\chi}\\right)^{2}}{\\cos\\left({\\chi}\\right)^{2} \\cos\\left({\\phi}\\right)^{2} \\sin\\left({\\chi}\\right)^{2} \\sin\\left({\\theta}\\right)^{2} - \\cos\\left({\\chi}\\right)^{2}} \\right) \\mathrm{d} {\\theta}\\otimes \\mathrm{d} {\\theta} + \\left( -\\frac{{\\ell}^{2} \\cos\\left({\\phi}\\right) \\cos\\left({\\theta}\\right) \\sin\\left({\\chi}\\right)^{2} \\sin\\left({\\phi}\\right) \\sin\\left({\\theta}\\right)}{\\cos\\left({\\chi}\\right)^{2} \\cos\\left({\\phi}\\right)^{2} \\sin\\left({\\chi}\\right)^{2} \\sin\\left({\\theta}\\right)^{2} - \\cos\\left({\\chi}\\right)^{2}} \\right) \\mathrm{d} {\\theta}\\otimes \\mathrm{d} {\\phi} + \\left( -\\frac{{\\ell}^{2} \\cos\\left({\\phi}\\right) \\sin\\left({\\chi}\\right) \\sin\\left({\\phi}\\right) \\sin\\left({\\theta}\\right)^{2}}{\\cos\\left({\\chi}\\right) \\cos\\left({\\phi}\\right)^{2} \\sin\\left({\\chi}\\right)^{2} \\sin\\left({\\theta}\\right)^{2} - \\cos\\left({\\chi}\\right)} \\right) \\mathrm{d} {\\phi}\\otimes \\mathrm{d} {\\chi} + \\left( -\\frac{{\\ell}^{2} \\cos\\left({\\phi}\\right) \\cos\\left({\\theta}\\right) \\sin\\left({\\chi}\\right)^{2} \\sin\\left({\\phi}\\right) \\sin\\left({\\theta}\\right)}{\\cos\\left({\\chi}\\right)^{2} \\cos\\left({\\phi}\\right)^{2} \\sin\\left({\\chi}\\right)^{2} \\sin\\left({\\theta}\\right)^{2} - \\cos\\left({\\chi}\\right)^{2}} \\right) \\mathrm{d} {\\phi}\\otimes \\mathrm{d} {\\theta} + \\left( \\frac{{\\ell}^{2} \\cos\\left({\\phi}\\right)^{2} \\sin\\left({\\chi}\\right)^{4} \\sin\\left({\\theta}\\right)^{4} - {\\ell}^{2} \\cos\\left({\\phi}\\right)^{2} \\sin\\left({\\chi}\\right)^{2} \\sin\\left({\\theta}\\right)^{2}}{\\cos\\left({\\chi}\\right)^{2} \\cos\\left({\\phi}\\right)^{2} \\sin\\left({\\chi}\\right)^{2} \\sin\\left({\\theta}\\right)^{2} - \\cos\\left({\\chi}\\right)^{2}} \\right) \\mathrm{d} {\\phi}\\otimes \\mathrm{d} {\\phi}\\]</html>"
      ],
      "text/latex": [
       "$$\\newcommand{\\Bold}[1]{\\mathbf{#1}}h = \\left( \\frac{{\\ell}^{2} \\cos\\left({\\phi}\\right)^{2} \\sin\\left({\\theta}\\right)^{2} - {\\ell}^{2}}{\\cos\\left({\\chi}\\right)^{2} \\cos\\left({\\phi}\\right)^{2} \\sin\\left({\\chi}\\right)^{2} \\sin\\left({\\theta}\\right)^{2} - \\cos\\left({\\chi}\\right)^{2}} \\right) \\mathrm{d} {\\chi}\\otimes \\mathrm{d} {\\chi} + \\left( \\frac{{\\ell}^{2} \\cos\\left({\\phi}\\right)^{2} \\cos\\left({\\theta}\\right) \\sin\\left({\\chi}\\right) \\sin\\left({\\theta}\\right)}{\\cos\\left({\\chi}\\right) \\cos\\left({\\phi}\\right)^{2} \\sin\\left({\\chi}\\right)^{2} \\sin\\left({\\theta}\\right)^{2} - \\cos\\left({\\chi}\\right)} \\right) \\mathrm{d} {\\chi}\\otimes \\mathrm{d} {\\theta} + \\left( -\\frac{{\\ell}^{2} \\cos\\left({\\phi}\\right) \\sin\\left({\\chi}\\right) \\sin\\left({\\phi}\\right) \\sin\\left({\\theta}\\right)^{2}}{\\cos\\left({\\chi}\\right) \\cos\\left({\\phi}\\right)^{2} \\sin\\left({\\chi}\\right)^{2} \\sin\\left({\\theta}\\right)^{2} - \\cos\\left({\\chi}\\right)} \\right) \\mathrm{d} {\\chi}\\otimes \\mathrm{d} {\\phi} + \\left( \\frac{{\\ell}^{2} \\cos\\left({\\phi}\\right)^{2} \\cos\\left({\\theta}\\right) \\sin\\left({\\chi}\\right) \\sin\\left({\\theta}\\right)}{\\cos\\left({\\chi}\\right) \\cos\\left({\\phi}\\right)^{2} \\sin\\left({\\chi}\\right)^{2} \\sin\\left({\\theta}\\right)^{2} - \\cos\\left({\\chi}\\right)} \\right) \\mathrm{d} {\\theta}\\otimes \\mathrm{d} {\\chi} + \\left( \\frac{{\\ell}^{2} \\cos\\left({\\phi}\\right)^{2} \\sin\\left({\\chi}\\right)^{4} \\sin\\left({\\theta}\\right)^{2} + {\\ell}^{2} \\cos\\left({\\phi}\\right)^{2} \\cos\\left({\\theta}\\right)^{2} \\sin\\left({\\chi}\\right)^{2} - {\\ell}^{2} \\sin\\left({\\chi}\\right)^{2}}{\\cos\\left({\\chi}\\right)^{2} \\cos\\left({\\phi}\\right)^{2} \\sin\\left({\\chi}\\right)^{2} \\sin\\left({\\theta}\\right)^{2} - \\cos\\left({\\chi}\\right)^{2}} \\right) \\mathrm{d} {\\theta}\\otimes \\mathrm{d} {\\theta} + \\left( -\\frac{{\\ell}^{2} \\cos\\left({\\phi}\\right) \\cos\\left({\\theta}\\right) \\sin\\left({\\chi}\\right)^{2} \\sin\\left({\\phi}\\right) \\sin\\left({\\theta}\\right)}{\\cos\\left({\\chi}\\right)^{2} \\cos\\left({\\phi}\\right)^{2} \\sin\\left({\\chi}\\right)^{2} \\sin\\left({\\theta}\\right)^{2} - \\cos\\left({\\chi}\\right)^{2}} \\right) \\mathrm{d} {\\theta}\\otimes \\mathrm{d} {\\phi} + \\left( -\\frac{{\\ell}^{2} \\cos\\left({\\phi}\\right) \\sin\\left({\\chi}\\right) \\sin\\left({\\phi}\\right) \\sin\\left({\\theta}\\right)^{2}}{\\cos\\left({\\chi}\\right) \\cos\\left({\\phi}\\right)^{2} \\sin\\left({\\chi}\\right)^{2} \\sin\\left({\\theta}\\right)^{2} - \\cos\\left({\\chi}\\right)} \\right) \\mathrm{d} {\\phi}\\otimes \\mathrm{d} {\\chi} + \\left( -\\frac{{\\ell}^{2} \\cos\\left({\\phi}\\right) \\cos\\left({\\theta}\\right) \\sin\\left({\\chi}\\right)^{2} \\sin\\left({\\phi}\\right) \\sin\\left({\\theta}\\right)}{\\cos\\left({\\chi}\\right)^{2} \\cos\\left({\\phi}\\right)^{2} \\sin\\left({\\chi}\\right)^{2} \\sin\\left({\\theta}\\right)^{2} - \\cos\\left({\\chi}\\right)^{2}} \\right) \\mathrm{d} {\\phi}\\otimes \\mathrm{d} {\\theta} + \\left( \\frac{{\\ell}^{2} \\cos\\left({\\phi}\\right)^{2} \\sin\\left({\\chi}\\right)^{4} \\sin\\left({\\theta}\\right)^{4} - {\\ell}^{2} \\cos\\left({\\phi}\\right)^{2} \\sin\\left({\\chi}\\right)^{2} \\sin\\left({\\theta}\\right)^{2}}{\\cos\\left({\\chi}\\right)^{2} \\cos\\left({\\phi}\\right)^{2} \\sin\\left({\\chi}\\right)^{2} \\sin\\left({\\theta}\\right)^{2} - \\cos\\left({\\chi}\\right)^{2}} \\right) \\mathrm{d} {\\phi}\\otimes \\mathrm{d} {\\phi}$$"
      ],
      "text/plain": [
       "h = (l^2*cos(ph)^2*sin(th)^2 - l^2)/(cos(ch)^2*cos(ph)^2*sin(ch)^2*sin(th)^2 - cos(ch)^2) dch⊗dch + l^2*cos(ph)^2*cos(th)*sin(ch)*sin(th)/(cos(ch)*cos(ph)^2*sin(ch)^2*sin(th)^2 - cos(ch)) dch⊗dth - l^2*cos(ph)*sin(ch)*sin(ph)*sin(th)^2/(cos(ch)*cos(ph)^2*sin(ch)^2*sin(th)^2 - cos(ch)) dch⊗dph + l^2*cos(ph)^2*cos(th)*sin(ch)*sin(th)/(cos(ch)*cos(ph)^2*sin(ch)^2*sin(th)^2 - cos(ch)) dth⊗dch + (l^2*cos(ph)^2*sin(ch)^4*sin(th)^2 + l^2*cos(ph)^2*cos(th)^2*sin(ch)^2 - l^2*sin(ch)^2)/(cos(ch)^2*cos(ph)^2*sin(ch)^2*sin(th)^2 - cos(ch)^2) dth⊗dth - l^2*cos(ph)*cos(th)*sin(ch)^2*sin(ph)*sin(th)/(cos(ch)^2*cos(ph)^2*sin(ch)^2*sin(th)^2 - cos(ch)^2) dth⊗dph - l^2*cos(ph)*sin(ch)*sin(ph)*sin(th)^2/(cos(ch)*cos(ph)^2*sin(ch)^2*sin(th)^2 - cos(ch)) dph⊗dch - l^2*cos(ph)*cos(th)*sin(ch)^2*sin(ph)*sin(th)/(cos(ch)^2*cos(ph)^2*sin(ch)^2*sin(th)^2 - cos(ch)^2) dph⊗dth + (l^2*cos(ph)^2*sin(ch)^4*sin(th)^4 - l^2*cos(ph)^2*sin(ch)^2*sin(th)^2)/(cos(ch)^2*cos(ph)^2*sin(ch)^2*sin(th)^2 - cos(ch)^2) dph⊗dph"
      ]
     },
     "execution_count": 40,
     "metadata": {},
     "output_type": "execute_result"
    }
   ],
   "source": [
    "h = H.metric('h')\n",
    "h.set(Fg)\n",
    "h.display()"
   ]
  },
  {
   "cell_type": "markdown",
   "metadata": {},
   "source": [
    "This is a degenerate metric:"
   ]
  },
  {
   "cell_type": "code",
   "execution_count": 41,
   "metadata": {},
   "outputs": [
    {
     "data": {
      "text/html": [
       "<html>\\[\\newcommand{\\Bold}[1]{\\mathbf{#1}}\\begin{array}{llcl} & \\mathscr{H} & \\longrightarrow & \\mathbb{R} \\\\ & \\left({\\chi}, {\\theta}, {\\phi}\\right) & \\longmapsto & 0 \\end{array}\\]</html>"
      ],
      "text/latex": [
       "$$\\newcommand{\\Bold}[1]{\\mathbf{#1}}\\begin{array}{llcl} & \\mathscr{H} & \\longrightarrow & \\mathbb{R} \\\\ & \\left({\\chi}, {\\theta}, {\\phi}\\right) & \\longmapsto & 0 \\end{array}$$"
      ],
      "text/plain": [
       "H → ℝ\n",
       "(ch, th, ph) ↦ 0"
      ]
     },
     "execution_count": 41,
     "metadata": {},
     "output_type": "execute_result"
    }
   ],
   "source": [
    "h.determinant().display()"
   ]
  },
  {
   "cell_type": "markdown",
   "metadata": {},
   "source": [
    "Hence the Poincaré horizon $\\mathscr{H}$ is a **null hypersurface**. "
   ]
  },
  {
   "cell_type": "markdown",
   "metadata": {},
   "source": [
    "### The normal to the Poincaré horizon"
   ]
  },
  {
   "cell_type": "markdown",
   "metadata": {},
   "source": [
    "Since $\\mathscr{H}$ is the isosurface $u=0$, its normal $k$ is defined as the gradient of $u$:"
   ]
  },
  {
   "cell_type": "code",
   "execution_count": 42,
   "metadata": {},
   "outputs": [
    {
     "data": {
      "text/html": [
       "<html>\\[\\newcommand{\\Bold}[1]{\\mathbf{#1}}\\mathrm{d}u = -\\frac{{\\ell} \\sin\\left({\\tau}\\right)}{\\cos\\left({\\chi}\\right)} \\mathrm{d} {\\tau} + \\left( \\frac{{\\ell} \\cos\\left({\\tau}\\right) \\sin\\left({\\chi}\\right) - {\\ell} \\cos\\left({\\phi}\\right) \\sin\\left({\\theta}\\right)}{\\cos\\left({\\chi}\\right)^{2}} \\right) \\mathrm{d} {\\chi} -\\frac{{\\ell} \\cos\\left({\\phi}\\right) \\cos\\left({\\theta}\\right) \\sin\\left({\\chi}\\right)}{\\cos\\left({\\chi}\\right)} \\mathrm{d} {\\theta} + \\frac{{\\ell} \\sin\\left({\\chi}\\right) \\sin\\left({\\phi}\\right) \\sin\\left({\\theta}\\right)}{\\cos\\left({\\chi}\\right)} \\mathrm{d} {\\phi}\\]</html>"
      ],
      "text/latex": [
       "$$\\newcommand{\\Bold}[1]{\\mathbf{#1}}\\mathrm{d}u = -\\frac{{\\ell} \\sin\\left({\\tau}\\right)}{\\cos\\left({\\chi}\\right)} \\mathrm{d} {\\tau} + \\left( \\frac{{\\ell} \\cos\\left({\\tau}\\right) \\sin\\left({\\chi}\\right) - {\\ell} \\cos\\left({\\phi}\\right) \\sin\\left({\\theta}\\right)}{\\cos\\left({\\chi}\\right)^{2}} \\right) \\mathrm{d} {\\chi} -\\frac{{\\ell} \\cos\\left({\\phi}\\right) \\cos\\left({\\theta}\\right) \\sin\\left({\\chi}\\right)}{\\cos\\left({\\chi}\\right)} \\mathrm{d} {\\theta} + \\frac{{\\ell} \\sin\\left({\\chi}\\right) \\sin\\left({\\phi}\\right) \\sin\\left({\\theta}\\right)}{\\cos\\left({\\chi}\\right)} \\mathrm{d} {\\phi}$$"
      ],
      "text/plain": [
       "du = -l*sin(ta)/cos(ch) dta + (l*cos(ta)*sin(ch) - l*cos(ph)*sin(th))/cos(ch)^2 dch - l*cos(ph)*cos(th)*sin(ch)/cos(ch) dth + l*sin(ch)*sin(ph)*sin(th)/cos(ch) dph"
      ]
     },
     "execution_count": 42,
     "metadata": {},
     "output_type": "execute_result"
    }
   ],
   "source": [
    "dU = diff(U)\n",
    "dU.display()"
   ]
  },
  {
   "cell_type": "markdown",
   "metadata": {},
   "source": [
    "`dU` is a 1-form; we turn it into a vector field by raising its index with the metric $g$, via the method `up`:"
   ]
  },
  {
   "cell_type": "code",
   "execution_count": 43,
   "metadata": {},
   "outputs": [
    {
     "data": {
      "text/html": [
       "<html>\\[\\newcommand{\\Bold}[1]{\\mathbf{#1}}k = \\frac{\\cos\\left({\\chi}\\right) \\sin\\left({\\tau}\\right)}{{\\ell}} \\frac{\\partial}{\\partial {\\tau} } + \\left( \\frac{\\cos\\left({\\tau}\\right) \\sin\\left({\\chi}\\right) - \\cos\\left({\\phi}\\right) \\sin\\left({\\theta}\\right)}{{\\ell}} \\right) \\frac{\\partial}{\\partial {\\chi} } -\\frac{\\cos\\left({\\chi}\\right) \\cos\\left({\\phi}\\right) \\cos\\left({\\theta}\\right)}{{\\ell} \\sin\\left({\\chi}\\right)} \\frac{\\partial}{\\partial {\\theta} } + \\frac{\\cos\\left({\\chi}\\right) \\sin\\left({\\phi}\\right)}{{\\ell} \\sin\\left({\\chi}\\right) \\sin\\left({\\theta}\\right)} \\frac{\\partial}{\\partial {\\phi} }\\]</html>"
      ],
      "text/latex": [
       "$$\\newcommand{\\Bold}[1]{\\mathbf{#1}}k = \\frac{\\cos\\left({\\chi}\\right) \\sin\\left({\\tau}\\right)}{{\\ell}} \\frac{\\partial}{\\partial {\\tau} } + \\left( \\frac{\\cos\\left({\\tau}\\right) \\sin\\left({\\chi}\\right) - \\cos\\left({\\phi}\\right) \\sin\\left({\\theta}\\right)}{{\\ell}} \\right) \\frac{\\partial}{\\partial {\\chi} } -\\frac{\\cos\\left({\\chi}\\right) \\cos\\left({\\phi}\\right) \\cos\\left({\\theta}\\right)}{{\\ell} \\sin\\left({\\chi}\\right)} \\frac{\\partial}{\\partial {\\theta} } + \\frac{\\cos\\left({\\chi}\\right) \\sin\\left({\\phi}\\right)}{{\\ell} \\sin\\left({\\chi}\\right) \\sin\\left({\\theta}\\right)} \\frac{\\partial}{\\partial {\\phi} }$$"
      ],
      "text/plain": [
       "k = cos(ch)*sin(ta)/l ∂/∂ta + (cos(ta)*sin(ch) - cos(ph)*sin(th))/l ∂/∂ch - cos(ch)*cos(ph)*cos(th)/(l*sin(ch)) ∂/∂th + cos(ch)*sin(ph)/(l*sin(ch)*sin(th)) ∂/∂ph"
      ]
     },
     "execution_count": 43,
     "metadata": {},
     "output_type": "execute_result"
    }
   ],
   "source": [
    "k = dU.up(g)\n",
    "k.set_name('k')\n",
    "k.display()"
   ]
  },
  {
   "cell_type": "markdown",
   "metadata": {},
   "source": [
    "Plot of $k$:"
   ]
  },
  {
   "cell_type": "code",
   "execution_count": 44,
   "metadata": {},
   "outputs": [
    {
     "data": {
      "image/png": "[encoded data removed]",
      "text/plain": [
       "Graphics object consisting of 236 graphics primitives"
      ]
     },
     "metadata": {},
     "output_type": "display_data"
    }
   ],
   "source": [
    "graph = k.plot(X2, ambient_coords=(x_ch, ta), mapping=Phi,\n",
    "               fixed_coords={th: pi/2}, parameters={l: 1},\n",
    "               ranges={ta: (-pi, pi)}, number_values={ta: 11, ch: 7, ph: 3},\n",
    "               color='orange', scale=0.3, arrowsize=2)\n",
    "graph += graph_hor\n",
    "graph += line([(-pi/2, -pi), (-pi/2, pi)], color='black')\n",
    "graph += line([(pi/2, -pi), (pi/2, pi)], color='black')\n",
    "show(graph, frame=True, gridlines=True, figsize=8, aspect_ratio=1)"
   ]
  },
  {
   "cell_type": "markdown",
   "metadata": {},
   "source": [
    "We note that, graphically, $k$ appears tangent to $\\mathscr{H}$, in agreement with $\\mathscr{H}$ being a null hypersurface (the only kind of hypersurface for which the normal is also tangent to the hypersurface)."
   ]
  },
  {
   "cell_type": "markdown",
   "metadata": {},
   "source": [
    "The spacetime metric $g$ restricted to $\\mathscr{H}$ is evaluated by means of the method `along`:"
   ]
  },
  {
   "cell_type": "code",
   "execution_count": 45,
   "metadata": {},
   "outputs": [
    {
     "name": "stdout",
     "output_type": "stream",
     "text": [
      "Lorentzian metric g_H along the 3-dimensional differentiable submanifold H embedded in the 4-dimensional Lorentzian manifold M with values on the 4-dimensional Lorentzian manifold M\n"
     ]
    }
   ],
   "source": [
    "g_H = H.lorentzian_metric('g_H', latex_name=r'\\left.g\\right|_{\\mathscr{H}}', \n",
    "                          dest_map=F)\n",
    "g_H.set(g.along(F))\n",
    "print(g_H)"
   ]
  },
  {
   "cell_type": "code",
   "execution_count": 46,
   "metadata": {},
   "outputs": [
    {
     "data": {
      "text/html": [
       "<html>\\[\\newcommand{\\Bold}[1]{\\mathbf{#1}}\\left.g\\right|_{\\mathscr{H}} = -\\frac{{\\ell}^{2}}{\\cos\\left({\\chi}\\right)^{2}} \\mathrm{d} {\\tau}\\otimes \\mathrm{d} {\\tau} + \\frac{{\\ell}^{2}}{\\cos\\left({\\chi}\\right)^{2}} \\mathrm{d} {\\chi}\\otimes \\mathrm{d} {\\chi} + \\frac{{\\ell}^{2} \\sin\\left({\\chi}\\right)^{2}}{\\cos\\left({\\chi}\\right)^{2}} \\mathrm{d} {\\theta}\\otimes \\mathrm{d} {\\theta} + \\frac{{\\ell}^{2} \\sin\\left({\\chi}\\right)^{2} \\sin\\left({\\theta}\\right)^{2}}{\\cos\\left({\\chi}\\right)^{2}} \\mathrm{d} {\\phi}\\otimes \\mathrm{d} {\\phi}\\]</html>"
      ],
      "text/latex": [
       "$$\\newcommand{\\Bold}[1]{\\mathbf{#1}}\\left.g\\right|_{\\mathscr{H}} = -\\frac{{\\ell}^{2}}{\\cos\\left({\\chi}\\right)^{2}} \\mathrm{d} {\\tau}\\otimes \\mathrm{d} {\\tau} + \\frac{{\\ell}^{2}}{\\cos\\left({\\chi}\\right)^{2}} \\mathrm{d} {\\chi}\\otimes \\mathrm{d} {\\chi} + \\frac{{\\ell}^{2} \\sin\\left({\\chi}\\right)^{2}}{\\cos\\left({\\chi}\\right)^{2}} \\mathrm{d} {\\theta}\\otimes \\mathrm{d} {\\theta} + \\frac{{\\ell}^{2} \\sin\\left({\\chi}\\right)^{2} \\sin\\left({\\theta}\\right)^{2}}{\\cos\\left({\\chi}\\right)^{2}} \\mathrm{d} {\\phi}\\otimes \\mathrm{d} {\\phi}$$"
      ],
      "text/plain": [
       "g_H = -l^2/cos(ch)^2 dta⊗dta + l^2/cos(ch)^2 dch⊗dch + l^2*sin(ch)^2/cos(ch)^2 dth⊗dth + l^2*sin(ch)^2*sin(th)^2/cos(ch)^2 dph⊗dph"
      ]
     },
     "execution_count": 46,
     "metadata": {},
     "output_type": "execute_result"
    }
   ],
   "source": [
    "g_H.display()"
   ]
  },
  {
   "cell_type": "markdown",
   "metadata": {},
   "source": [
    "The vector field $k$ restricted to $\\mathscr{H}$:"
   ]
  },
  {
   "cell_type": "code",
   "execution_count": 47,
   "metadata": {},
   "outputs": [
    {
     "name": "stdout",
     "output_type": "stream",
     "text": [
      "Vector field k_H along the 3-dimensional differentiable submanifold H embedded in the 4-dimensional Lorentzian manifold M with values on the 4-dimensional Lorentzian manifold M\n"
     ]
    }
   ],
   "source": [
    "k_H = k.along(F)\n",
    "k_H.set_name('k_H', latex_name=r'\\left.k\\right|_{\\mathscr{H}}')\n",
    "print(k_H)"
   ]
  },
  {
   "cell_type": "code",
   "execution_count": 48,
   "metadata": {},
   "outputs": [
    {
     "data": {
      "text/html": [
       "<html>\\[\\newcommand{\\Bold}[1]{\\mathbf{#1}}\\left.k\\right|_{\\mathscr{H}} = \\left( \\frac{\\sqrt{\\cos\\left({\\phi}\\right) \\sin\\left({\\chi}\\right) \\sin\\left({\\theta}\\right) + 1} \\sqrt{-\\cos\\left({\\phi}\\right) \\sin\\left({\\chi}\\right) \\sin\\left({\\theta}\\right) + 1} \\cos\\left({\\chi}\\right)}{{\\ell}} \\right) \\frac{\\partial}{\\partial {\\tau} } -\\frac{\\cos\\left({\\chi}\\right)^{2} \\cos\\left({\\phi}\\right) \\sin\\left({\\theta}\\right)}{{\\ell}} \\frac{\\partial}{\\partial {\\chi} } -\\frac{\\cos\\left({\\chi}\\right) \\cos\\left({\\phi}\\right) \\cos\\left({\\theta}\\right)}{{\\ell} \\sin\\left({\\chi}\\right)} \\frac{\\partial}{\\partial {\\theta} } + \\frac{\\cos\\left({\\chi}\\right) \\sin\\left({\\phi}\\right)}{{\\ell} \\sin\\left({\\chi}\\right) \\sin\\left({\\theta}\\right)} \\frac{\\partial}{\\partial {\\phi} }\\]</html>"
      ],
      "text/latex": [
       "$$\\newcommand{\\Bold}[1]{\\mathbf{#1}}\\left.k\\right|_{\\mathscr{H}} = \\left( \\frac{\\sqrt{\\cos\\left({\\phi}\\right) \\sin\\left({\\chi}\\right) \\sin\\left({\\theta}\\right) + 1} \\sqrt{-\\cos\\left({\\phi}\\right) \\sin\\left({\\chi}\\right) \\sin\\left({\\theta}\\right) + 1} \\cos\\left({\\chi}\\right)}{{\\ell}} \\right) \\frac{\\partial}{\\partial {\\tau} } -\\frac{\\cos\\left({\\chi}\\right)^{2} \\cos\\left({\\phi}\\right) \\sin\\left({\\theta}\\right)}{{\\ell}} \\frac{\\partial}{\\partial {\\chi} } -\\frac{\\cos\\left({\\chi}\\right) \\cos\\left({\\phi}\\right) \\cos\\left({\\theta}\\right)}{{\\ell} \\sin\\left({\\chi}\\right)} \\frac{\\partial}{\\partial {\\theta} } + \\frac{\\cos\\left({\\chi}\\right) \\sin\\left({\\phi}\\right)}{{\\ell} \\sin\\left({\\chi}\\right) \\sin\\left({\\theta}\\right)} \\frac{\\partial}{\\partial {\\phi} }$$"
      ],
      "text/plain": [
       "k_H = sqrt(cos(ph)*sin(ch)*sin(th) + 1)*sqrt(-cos(ph)*sin(ch)*sin(th) + 1)*cos(ch)/l ∂/∂ta - cos(ch)^2*cos(ph)*sin(th)/l ∂/∂ch - cos(ch)*cos(ph)*cos(th)/(l*sin(ch)) ∂/∂th + cos(ch)*sin(ph)/(l*sin(ch)*sin(th)) ∂/∂ph"
      ]
     },
     "execution_count": 48,
     "metadata": {},
     "output_type": "execute_result"
    }
   ],
   "source": [
    "k_H.display()"
   ]
  },
  {
   "cell_type": "markdown",
   "metadata": {},
   "source": [
    "Check that $\\left.k\\right|_{\\mathscr{H}}$ is a null vector field:"
   ]
  },
  {
   "cell_type": "code",
   "execution_count": 49,
   "metadata": {},
   "outputs": [
    {
     "data": {
      "text/html": [
       "<html>\\[\\newcommand{\\Bold}[1]{\\mathbf{#1}}0\\]</html>"
      ],
      "text/latex": [
       "$$\\newcommand{\\Bold}[1]{\\mathbf{#1}}0$$"
      ],
      "text/plain": [
       "0"
      ]
     },
     "execution_count": 49,
     "metadata": {},
     "output_type": "execute_result"
    }
   ],
   "source": [
    "g_H(k_H, k_H).expr()"
   ]
  },
  {
   "cell_type": "markdown",
   "metadata": {},
   "source": [
    "Since $\\left.k\\right|_{\\mathscr{H}}$ is normal to $\\mathscr{H}$, we recover the fact that $\\mathscr{H}$ is a null hypersurface. "
   ]
  },
  {
   "cell_type": "markdown",
   "metadata": {},
   "source": [
    "### Killing horizon character "
   ]
  },
  {
   "cell_type": "markdown",
   "metadata": {},
   "source": [
    "The Killing vector field $\\xi$ restricted to $\\mathscr{H}$:"
   ]
  },
  {
   "cell_type": "code",
   "execution_count": 50,
   "metadata": {},
   "outputs": [
    {
     "name": "stdout",
     "output_type": "stream",
     "text": [
      "Vector field xi_H along the 3-dimensional differentiable submanifold H embedded in the 4-dimensional Lorentzian manifold M with values on the 4-dimensional Lorentzian manifold M\n"
     ]
    }
   ],
   "source": [
    "xi_H = xi.along(F)\n",
    "xi_H.set_name('xi_H', latex_name=r'\\left.\\xi\\right|_{\\mathscr{H}}')\n",
    "print(xi_H)"
   ]
  },
  {
   "cell_type": "code",
   "execution_count": 51,
   "metadata": {},
   "outputs": [
    {
     "data": {
      "text/html": [
       "<html>\\[\\newcommand{\\Bold}[1]{\\mathbf{#1}}\\left.\\xi\\right|_{\\mathscr{H}} = \\left( -\\frac{\\cos\\left({\\phi}\\right)^{2} \\sin\\left({\\chi}\\right)^{2} \\sin\\left({\\theta}\\right)^{2} - 1}{{\\ell}} \\right) \\frac{\\partial}{\\partial {\\tau} } + \\left( -\\frac{\\sqrt{\\cos\\left({\\phi}\\right) \\sin\\left({\\chi}\\right) \\sin\\left({\\theta}\\right) + 1} \\sqrt{-\\cos\\left({\\phi}\\right) \\sin\\left({\\chi}\\right) \\sin\\left({\\theta}\\right) + 1} \\cos\\left({\\chi}\\right) \\cos\\left({\\phi}\\right) \\sin\\left({\\theta}\\right)}{{\\ell}} \\right) \\frac{\\partial}{\\partial {\\chi} } + \\left( -\\frac{\\sqrt{\\cos\\left({\\phi}\\right) \\sin\\left({\\chi}\\right) \\sin\\left({\\theta}\\right) + 1} \\sqrt{-\\cos\\left({\\phi}\\right) \\sin\\left({\\chi}\\right) \\sin\\left({\\theta}\\right) + 1} \\cos\\left({\\phi}\\right) \\cos\\left({\\theta}\\right)}{{\\ell} \\sin\\left({\\chi}\\right)} \\right) \\frac{\\partial}{\\partial {\\theta} } + \\left( \\frac{\\sqrt{\\cos\\left({\\phi}\\right) \\sin\\left({\\chi}\\right) \\sin\\left({\\theta}\\right) + 1} \\sqrt{-\\cos\\left({\\phi}\\right) \\sin\\left({\\chi}\\right) \\sin\\left({\\theta}\\right) + 1} \\sin\\left({\\phi}\\right)}{{\\ell} \\sin\\left({\\chi}\\right) \\sin\\left({\\theta}\\right)} \\right) \\frac{\\partial}{\\partial {\\phi} }\\]</html>"
      ],
      "text/latex": [
       "$$\\newcommand{\\Bold}[1]{\\mathbf{#1}}\\left.\\xi\\right|_{\\mathscr{H}} = \\left( -\\frac{\\cos\\left({\\phi}\\right)^{2} \\sin\\left({\\chi}\\right)^{2} \\sin\\left({\\theta}\\right)^{2} - 1}{{\\ell}} \\right) \\frac{\\partial}{\\partial {\\tau} } + \\left( -\\frac{\\sqrt{\\cos\\left({\\phi}\\right) \\sin\\left({\\chi}\\right) \\sin\\left({\\theta}\\right) + 1} \\sqrt{-\\cos\\left({\\phi}\\right) \\sin\\left({\\chi}\\right) \\sin\\left({\\theta}\\right) + 1} \\cos\\left({\\chi}\\right) \\cos\\left({\\phi}\\right) \\sin\\left({\\theta}\\right)}{{\\ell}} \\right) \\frac{\\partial}{\\partial {\\chi} } + \\left( -\\frac{\\sqrt{\\cos\\left({\\phi}\\right) \\sin\\left({\\chi}\\right) \\sin\\left({\\theta}\\right) + 1} \\sqrt{-\\cos\\left({\\phi}\\right) \\sin\\left({\\chi}\\right) \\sin\\left({\\theta}\\right) + 1} \\cos\\left({\\phi}\\right) \\cos\\left({\\theta}\\right)}{{\\ell} \\sin\\left({\\chi}\\right)} \\right) \\frac{\\partial}{\\partial {\\theta} } + \\left( \\frac{\\sqrt{\\cos\\left({\\phi}\\right) \\sin\\left({\\chi}\\right) \\sin\\left({\\theta}\\right) + 1} \\sqrt{-\\cos\\left({\\phi}\\right) \\sin\\left({\\chi}\\right) \\sin\\left({\\theta}\\right) + 1} \\sin\\left({\\phi}\\right)}{{\\ell} \\sin\\left({\\chi}\\right) \\sin\\left({\\theta}\\right)} \\right) \\frac{\\partial}{\\partial {\\phi} }$$"
      ],
      "text/plain": [
       "xi_H = -(cos(ph)^2*sin(ch)^2*sin(th)^2 - 1)/l ∂/∂ta - sqrt(cos(ph)*sin(ch)*sin(th) + 1)*sqrt(-cos(ph)*sin(ch)*sin(th) + 1)*cos(ch)*cos(ph)*sin(th)/l ∂/∂ch - sqrt(cos(ph)*sin(ch)*sin(th) + 1)*sqrt(-cos(ph)*sin(ch)*sin(th) + 1)*cos(ph)*cos(th)/(l*sin(ch)) ∂/∂th + sqrt(cos(ph)*sin(ch)*sin(th) + 1)*sqrt(-cos(ph)*sin(ch)*sin(th) + 1)*sin(ph)/(l*sin(ch)*sin(th)) ∂/∂ph"
      ]
     },
     "execution_count": 51,
     "metadata": {},
     "output_type": "execute_result"
    }
   ],
   "source": [
    "xi_H.display()"
   ]
  },
  {
   "cell_type": "markdown",
   "metadata": {},
   "source": [
    "Value of $\\tau$ on $\\mathscr{H}$:"
   ]
  },
  {
   "cell_type": "code",
   "execution_count": 52,
   "metadata": {},
   "outputs": [
    {
     "data": {
      "text/html": [
       "<html>\\[\\newcommand{\\Bold}[1]{\\mathbf{#1}}\\arccos\\left(\\cos\\left({\\phi}\\right) \\sin\\left({\\chi}\\right) \\sin\\left({\\theta}\\right)\\right)\\]</html>"
      ],
      "text/latex": [
       "$$\\newcommand{\\Bold}[1]{\\mathbf{#1}}\\arccos\\left(\\cos\\left({\\phi}\\right) \\sin\\left({\\chi}\\right) \\sin\\left({\\theta}\\right)\\right)$$"
      ],
      "text/plain": [
       "arccos(cos(ph)*sin(ch)*sin(th))"
      ]
     },
     "execution_count": 52,
     "metadata": {},
     "output_type": "execute_result"
    }
   ],
   "source": [
    "ta_H = F.expr()[0]\n",
    "ta_H"
   ]
  },
  {
   "cell_type": "markdown",
   "metadata": {},
   "source": [
    "We check that\n",
    "$ \\xi \\stackrel{\\mathscr{H}}{=} \\frac{\\sin\\tau}{\\cos\\chi} \\, k $:"
   ]
  },
  {
   "cell_type": "code",
   "execution_count": 53,
   "metadata": {},
   "outputs": [
    {
     "data": {
      "text/html": [
       "<html>\\[\\newcommand{\\Bold}[1]{\\mathbf{#1}}\\mathrm{True}\\]</html>"
      ],
      "text/latex": [
       "$$\\newcommand{\\Bold}[1]{\\mathbf{#1}}\\mathrm{True}$$"
      ],
      "text/plain": [
       "True"
      ]
     },
     "execution_count": 53,
     "metadata": {},
     "output_type": "execute_result"
    }
   ],
   "source": [
    "xi_H == sin(ta_H)/cos(ch)*k_H"
   ]
  },
  {
   "cell_type": "markdown",
   "metadata": {},
   "source": [
    "Hence, on $\\mathscr{H}$, the Killing vector $\\xi$ is normal to $\\mathscr{H}$. \n",
    "$\\mathscr{H}$ being a null hypersurface, this implies that $\\mathscr{H}$ **is a Killing horizon**."
   ]
  },
  {
   "cell_type": "markdown",
   "metadata": {},
   "source": [
    "As a consequence, $\\xi$ must be a null vector on $\\mathscr{H}$. We can check this property by computing the scalar square of $\\xi$ in all $\\mathscr{M}$:"
   ]
  },
  {
   "cell_type": "code",
   "execution_count": 54,
   "metadata": {},
   "outputs": [
    {
     "data": {
      "text/html": [
       "<html>\\[\\newcommand{\\Bold}[1]{\\mathbf{#1}}\\begin{array}{llcl} g\\left(\\xi,\\xi\\right):& \\mathscr{M} & \\longrightarrow & \\mathbb{R} \\\\ & \\left({\\tau}, {\\chi}, {\\theta}, {\\phi}\\right) & \\longmapsto & -\\frac{\\cos\\left({\\phi}\\right)^{2} \\sin\\left({\\chi}\\right)^{2} \\sin\\left({\\theta}\\right)^{2} - 2 \\, \\cos\\left({\\phi}\\right) \\cos\\left({\\tau}\\right) \\sin\\left({\\chi}\\right) \\sin\\left({\\theta}\\right) - \\sin\\left({\\tau}\\right)^{2} + 1}{\\cos\\left({\\chi}\\right)^{2}} \\\\ \\mbox{on}\\ \\mathscr{M}_{\\rm P} : & \\left(t, x, y, u\\right) & \\longmapsto & -\\frac{u^{2}}{{\\ell}^{2}} \\end{array}\\]</html>"
      ],
      "text/latex": [
       "$$\\newcommand{\\Bold}[1]{\\mathbf{#1}}\\begin{array}{llcl} g\\left(\\xi,\\xi\\right):& \\mathscr{M} & \\longrightarrow & \\mathbb{R} \\\\ & \\left({\\tau}, {\\chi}, {\\theta}, {\\phi}\\right) & \\longmapsto & -\\frac{\\cos\\left({\\phi}\\right)^{2} \\sin\\left({\\chi}\\right)^{2} \\sin\\left({\\theta}\\right)^{2} - 2 \\, \\cos\\left({\\phi}\\right) \\cos\\left({\\tau}\\right) \\sin\\left({\\chi}\\right) \\sin\\left({\\theta}\\right) - \\sin\\left({\\tau}\\right)^{2} + 1}{\\cos\\left({\\chi}\\right)^{2}} \\\\ \\mbox{on}\\ \\mathscr{M}_{\\rm P} : & \\left(t, x, y, u\\right) & \\longmapsto & -\\frac{u^{2}}{{\\ell}^{2}} \\end{array}$$"
      ],
      "text/plain": [
       "g(xi,xi): M → ℝ\n",
       "   (ta, ch, th, ph) ↦ -(cos(ph)^2*sin(ch)^2*sin(th)^2 - 2*cos(ph)*cos(ta)*sin(ch)*sin(th) - sin(ta)^2 + 1)/cos(ch)^2\n",
       "on MP: (t, x, y, u) ↦ -u^2/l^2"
      ]
     },
     "execution_count": 54,
     "metadata": {},
     "output_type": "execute_result"
    }
   ],
   "source": [
    "xi2 = g(xi, xi)\n",
    "xi2.display()"
   ]
  },
  {
   "cell_type": "markdown",
   "metadata": {},
   "source": [
    "and notice that it is equal to $-u^2/\\ell^2$:"
   ]
  },
  {
   "cell_type": "code",
   "execution_count": 55,
   "metadata": {},
   "outputs": [
    {
     "data": {
      "text/html": [
       "<html>\\[\\newcommand{\\Bold}[1]{\\mathbf{#1}}\\mathrm{True}\\]</html>"
      ],
      "text/latex": [
       "$$\\newcommand{\\Bold}[1]{\\mathbf{#1}}\\mathrm{True}$$"
      ],
      "text/plain": [
       "True"
      ]
     },
     "execution_count": 55,
     "metadata": {},
     "output_type": "execute_result"
    }
   ],
   "source": [
    "xi2 == - U^2/l^2"
   ]
  },
  {
   "cell_type": "markdown",
   "metadata": {},
   "source": [
    "so that $\\xi$ is null on $\\mathscr{H}$ as a direct consequence of the vanishing of $u$ on $\\mathscr{H}$. Incidentally, the above formula implies that the Killing vector $\\xi$ is timelike everywhere on the AdS spacetime, except on the Poincaré horizon, where it is null. "
   ]
  },
  {
   "cell_type": "markdown",
   "metadata": {},
   "source": [
    "## Degenerate character of the Killing horizon $\\mathscr{H}$ "
   ]
  },
  {
   "cell_type": "markdown",
   "metadata": {},
   "source": [
    "The **non-affinity coefficient** $\\kappa$ of $\\xi$ on $\\mathscr{H}$ is defined by $\\nabla_\\xi \\xi \\stackrel{\\mathscr{H}}{=} \\kappa \\xi$. To compute $\\kappa$, we first compute the \"acceleration\" vector\n",
    "$\\nabla_\\xi \\xi$:"
   ]
  },
  {
   "cell_type": "code",
   "execution_count": 56,
   "metadata": {},
   "outputs": [
    {
     "data": {
      "text/html": [
       "<html>\\[\\newcommand{\\Bold}[1]{\\mathbf{#1}}\\left( -\\frac{\\cos\\left({\\phi}\\right) \\sin\\left({\\chi}\\right) \\sin\\left({\\tau}\\right) \\sin\\left({\\theta}\\right) - \\cos\\left({\\tau}\\right) \\sin\\left({\\tau}\\right)}{{\\ell}^{2}} \\right) \\frac{\\partial}{\\partial {\\tau} } + \\left( -\\frac{\\cos\\left({\\phi}\\right)^{2} \\cos\\left({\\theta}\\right)^{2} \\sin\\left({\\chi}\\right) \\sin\\left({\\tau}\\right)^{2} - \\cos\\left({\\phi}\\right)^{2} \\cos\\left({\\tau}\\right)^{2} \\sin\\left({\\chi}\\right) \\sin\\left({\\theta}\\right)^{2} + \\sin\\left({\\chi}\\right) \\sin\\left({\\phi}\\right)^{2} \\sin\\left({\\tau}\\right)^{2} - {\\left(\\cos\\left({\\chi}\\right)^{2} - 2\\right)} \\cos\\left({\\phi}\\right) \\cos\\left({\\tau}\\right) \\sin\\left({\\theta}\\right) - \\sin\\left({\\chi}\\right)}{{\\ell}^{2} \\cos\\left({\\chi}\\right)} \\right) \\frac{\\partial}{\\partial {\\chi} } + \\left( \\frac{\\cos\\left({\\phi}\\right)^{2} \\cos\\left({\\theta}\\right) \\sin\\left({\\chi}\\right) \\sin\\left({\\theta}\\right) - \\cos\\left({\\phi}\\right) \\cos\\left({\\tau}\\right) \\cos\\left({\\theta}\\right)}{{\\ell}^{2} \\sin\\left({\\chi}\\right)} \\right) \\frac{\\partial}{\\partial {\\theta} } + \\left( -\\frac{\\cos\\left({\\phi}\\right) \\sin\\left({\\chi}\\right) \\sin\\left({\\phi}\\right) \\sin\\left({\\theta}\\right) - \\cos\\left({\\tau}\\right) \\sin\\left({\\phi}\\right)}{{\\ell}^{2} \\sin\\left({\\chi}\\right) \\sin\\left({\\theta}\\right)} \\right) \\frac{\\partial}{\\partial {\\phi} }\\]</html>"
      ],
      "text/latex": [
       "$$\\newcommand{\\Bold}[1]{\\mathbf{#1}}\\left( -\\frac{\\cos\\left({\\phi}\\right) \\sin\\left({\\chi}\\right) \\sin\\left({\\tau}\\right) \\sin\\left({\\theta}\\right) - \\cos\\left({\\tau}\\right) \\sin\\left({\\tau}\\right)}{{\\ell}^{2}} \\right) \\frac{\\partial}{\\partial {\\tau} } + \\left( -\\frac{\\cos\\left({\\phi}\\right)^{2} \\cos\\left({\\theta}\\right)^{2} \\sin\\left({\\chi}\\right) \\sin\\left({\\tau}\\right)^{2} - \\cos\\left({\\phi}\\right)^{2} \\cos\\left({\\tau}\\right)^{2} \\sin\\left({\\chi}\\right) \\sin\\left({\\theta}\\right)^{2} + \\sin\\left({\\chi}\\right) \\sin\\left({\\phi}\\right)^{2} \\sin\\left({\\tau}\\right)^{2} - {\\left(\\cos\\left({\\chi}\\right)^{2} - 2\\right)} \\cos\\left({\\phi}\\right) \\cos\\left({\\tau}\\right) \\sin\\left({\\theta}\\right) - \\sin\\left({\\chi}\\right)}{{\\ell}^{2} \\cos\\left({\\chi}\\right)} \\right) \\frac{\\partial}{\\partial {\\chi} } + \\left( \\frac{\\cos\\left({\\phi}\\right)^{2} \\cos\\left({\\theta}\\right) \\sin\\left({\\chi}\\right) \\sin\\left({\\theta}\\right) - \\cos\\left({\\phi}\\right) \\cos\\left({\\tau}\\right) \\cos\\left({\\theta}\\right)}{{\\ell}^{2} \\sin\\left({\\chi}\\right)} \\right) \\frac{\\partial}{\\partial {\\theta} } + \\left( -\\frac{\\cos\\left({\\phi}\\right) \\sin\\left({\\chi}\\right) \\sin\\left({\\phi}\\right) \\sin\\left({\\theta}\\right) - \\cos\\left({\\tau}\\right) \\sin\\left({\\phi}\\right)}{{\\ell}^{2} \\sin\\left({\\chi}\\right) \\sin\\left({\\theta}\\right)} \\right) \\frac{\\partial}{\\partial {\\phi} }$$"
      ],
      "text/plain": [
       "-(cos(ph)*sin(ch)*sin(ta)*sin(th) - cos(ta)*sin(ta))/l^2 ∂/∂ta - (cos(ph)^2*cos(th)^2*sin(ch)*sin(ta)^2 - cos(ph)^2*cos(ta)^2*sin(ch)*sin(th)^2 + sin(ch)*sin(ph)^2*sin(ta)^2 - (cos(ch)^2 - 2)*cos(ph)*cos(ta)*sin(th) - sin(ch))/(l^2*cos(ch)) ∂/∂ch + (cos(ph)^2*cos(th)*sin(ch)*sin(th) - cos(ph)*cos(ta)*cos(th))/(l^2*sin(ch)) ∂/∂th - (cos(ph)*sin(ch)*sin(ph)*sin(th) - cos(ta)*sin(ph))/(l^2*sin(ch)*sin(th)) ∂/∂ph"
      ]
     },
     "execution_count": 56,
     "metadata": {},
     "output_type": "execute_result"
    }
   ],
   "source": [
    "acc = nabla(xi).contract(xi)\n",
    "acc.display()"
   ]
  },
  {
   "cell_type": "markdown",
   "metadata": {},
   "source": [
    "and subsquently evaluate it on $\\mathscr{H}$:"
   ]
  },
  {
   "cell_type": "code",
   "execution_count": 57,
   "metadata": {},
   "outputs": [
    {
     "data": {
      "text/html": [
       "<html>\\[\\newcommand{\\Bold}[1]{\\mathbf{#1}}0\\]</html>"
      ],
      "text/latex": [
       "$$\\newcommand{\\Bold}[1]{\\mathbf{#1}}0$$"
      ],
      "text/plain": [
       "0"
      ]
     },
     "execution_count": 57,
     "metadata": {},
     "output_type": "execute_result"
    }
   ],
   "source": [
    "acc.along(F).display()"
   ]
  },
  {
   "cell_type": "markdown",
   "metadata": {},
   "source": [
    "Hence we get $\\kappa = 0$, so that the Poincaré horizon $\\mathscr{H}$ is a **degenerate Killing horizon**. "
   ]
  },
  {
   "cell_type": "markdown",
   "metadata": {},
   "source": [
    "Note that $\\kappa = 0$ can also be obtained via the formula\n",
    "$$\\mathrm{d}(\\xi\\cdot\\xi) \\stackrel{\\mathscr{H}}{=} -2 \\kappa  \\underline{\\xi} . $$\n",
    "which holds for any Killing horizon. The left hand side is computed as"
   ]
  },
  {
   "cell_type": "code",
   "execution_count": 58,
   "metadata": {},
   "outputs": [
    {
     "data": {
      "text/html": [
       "<html>\\[\\newcommand{\\Bold}[1]{\\mathbf{#1}}\\mathrm{d}g\\left(\\xi,\\xi\\right) = -\\frac{2 \\, {\\left(\\cos\\left({\\phi}\\right) \\sin\\left({\\chi}\\right) \\sin\\left({\\tau}\\right) \\sin\\left({\\theta}\\right) - \\cos\\left({\\tau}\\right) \\sin\\left({\\tau}\\right)\\right)}}{\\cos\\left({\\chi}\\right)^{2}} \\mathrm{d} {\\tau} -\\frac{2 \\, {\\left(\\cos\\left({\\phi}\\right)^{2} \\sin\\left({\\chi}\\right) \\sin\\left({\\theta}\\right)^{2} + {\\left(\\cos\\left({\\chi}\\right)^{2} - 2\\right)} \\cos\\left({\\phi}\\right) \\cos\\left({\\tau}\\right) \\sin\\left({\\theta}\\right) + \\cos\\left({\\tau}\\right)^{2} \\sin\\left({\\chi}\\right)\\right)}}{\\cos\\left({\\chi}\\right)^{3}} \\mathrm{d} {\\chi} -\\frac{2 \\, {\\left(\\cos\\left({\\phi}\\right)^{2} \\cos\\left({\\theta}\\right) \\sin\\left({\\chi}\\right)^{2} \\sin\\left({\\theta}\\right) - \\cos\\left({\\phi}\\right) \\cos\\left({\\tau}\\right) \\cos\\left({\\theta}\\right) \\sin\\left({\\chi}\\right)\\right)}}{\\cos\\left({\\chi}\\right)^{2}} \\mathrm{d} {\\theta} + \\frac{2 \\, {\\left(\\cos\\left({\\phi}\\right) \\sin\\left({\\chi}\\right)^{2} \\sin\\left({\\phi}\\right) \\sin\\left({\\theta}\\right)^{2} - \\cos\\left({\\tau}\\right) \\sin\\left({\\chi}\\right) \\sin\\left({\\phi}\\right) \\sin\\left({\\theta}\\right)\\right)}}{\\cos\\left({\\chi}\\right)^{2}} \\mathrm{d} {\\phi}\\]</html>"
      ],
      "text/latex": [
       "$$\\newcommand{\\Bold}[1]{\\mathbf{#1}}\\mathrm{d}g\\left(\\xi,\\xi\\right) = -\\frac{2 \\, {\\left(\\cos\\left({\\phi}\\right) \\sin\\left({\\chi}\\right) \\sin\\left({\\tau}\\right) \\sin\\left({\\theta}\\right) - \\cos\\left({\\tau}\\right) \\sin\\left({\\tau}\\right)\\right)}}{\\cos\\left({\\chi}\\right)^{2}} \\mathrm{d} {\\tau} -\\frac{2 \\, {\\left(\\cos\\left({\\phi}\\right)^{2} \\sin\\left({\\chi}\\right) \\sin\\left({\\theta}\\right)^{2} + {\\left(\\cos\\left({\\chi}\\right)^{2} - 2\\right)} \\cos\\left({\\phi}\\right) \\cos\\left({\\tau}\\right) \\sin\\left({\\theta}\\right) + \\cos\\left({\\tau}\\right)^{2} \\sin\\left({\\chi}\\right)\\right)}}{\\cos\\left({\\chi}\\right)^{3}} \\mathrm{d} {\\chi} -\\frac{2 \\, {\\left(\\cos\\left({\\phi}\\right)^{2} \\cos\\left({\\theta}\\right) \\sin\\left({\\chi}\\right)^{2} \\sin\\left({\\theta}\\right) - \\cos\\left({\\phi}\\right) \\cos\\left({\\tau}\\right) \\cos\\left({\\theta}\\right) \\sin\\left({\\chi}\\right)\\right)}}{\\cos\\left({\\chi}\\right)^{2}} \\mathrm{d} {\\theta} + \\frac{2 \\, {\\left(\\cos\\left({\\phi}\\right) \\sin\\left({\\chi}\\right)^{2} \\sin\\left({\\phi}\\right) \\sin\\left({\\theta}\\right)^{2} - \\cos\\left({\\tau}\\right) \\sin\\left({\\chi}\\right) \\sin\\left({\\phi}\\right) \\sin\\left({\\theta}\\right)\\right)}}{\\cos\\left({\\chi}\\right)^{2}} \\mathrm{d} {\\phi}$$"
      ],
      "text/plain": [
       "dg(xi,xi) = -2*(cos(ph)*sin(ch)*sin(ta)*sin(th) - cos(ta)*sin(ta))/cos(ch)^2 dta - 2*(cos(ph)^2*sin(ch)*sin(th)^2 + (cos(ch)^2 - 2)*cos(ph)*cos(ta)*sin(th) + cos(ta)^2*sin(ch))/cos(ch)^3 dch - 2*(cos(ph)^2*cos(th)*sin(ch)^2*sin(th) - cos(ph)*cos(ta)*cos(th)*sin(ch))/cos(ch)^2 dth + 2*(cos(ph)*sin(ch)^2*sin(ph)*sin(th)^2 - cos(ta)*sin(ch)*sin(ph)*sin(th))/cos(ch)^2 dph"
      ]
     },
     "execution_count": 58,
     "metadata": {},
     "output_type": "execute_result"
    }
   ],
   "source": [
    "dxi2 = diff(xi2)\n",
    "dxi2.display()"
   ]
  },
  {
   "cell_type": "markdown",
   "metadata": {},
   "source": [
    "The restriction of this 1-form to $\\mathscr{H}$ is computed by means of the method `along`:"
   ]
  },
  {
   "cell_type": "code",
   "execution_count": 59,
   "metadata": {},
   "outputs": [
    {
     "name": "stdout",
     "output_type": "stream",
     "text": [
      "1-form dg(xi,xi) along the 3-dimensional differentiable submanifold H embedded in the 4-dimensional Lorentzian manifold M with values on the 4-dimensional Lorentzian manifold M\n"
     ]
    }
   ],
   "source": [
    "dxi2_H = dxi2.along(F)\n",
    "print(dxi2_H)"
   ]
  },
  {
   "cell_type": "code",
   "execution_count": 60,
   "metadata": {},
   "outputs": [
    {
     "data": {
      "text/html": [
       "<html>\\[\\newcommand{\\Bold}[1]{\\mathbf{#1}}\\mathrm{d}g\\left(\\xi,\\xi\\right) = 0\\]</html>"
      ],
      "text/latex": [
       "$$\\newcommand{\\Bold}[1]{\\mathbf{#1}}\\mathrm{d}g\\left(\\xi,\\xi\\right) = 0$$"
      ],
      "text/plain": [
       "dg(xi,xi) = 0"
      ]
     },
     "execution_count": 60,
     "metadata": {},
     "output_type": "execute_result"
    }
   ],
   "source": [
    "dxi2_H.display()"
   ]
  },
  {
   "cell_type": "markdown",
   "metadata": {},
   "source": [
    "Hence $\\mathrm{d}(\\xi\\cdot\\xi) \\stackrel{\\mathscr{H}}{=} 0$ and we recover $\\kappa=0$."
   ]
  }
 ],
 "metadata": {
  "kernelspec": {
   "display_name": "SageMath 9.5.beta1",
   "language": "sage",
   "name": "sagemath"
  },
  "language_info": {
   "codemirror_mode": {
    "name": "ipython",
    "version": 3
   },
   "file_extension": ".py",
   "mimetype": "text/x-python",
   "name": "python",
   "nbconvert_exporter": "python",
   "pygments_lexer": "ipython3",
   "version": "3.8.10"
  }
 },
 "nbformat": 4,
 "nbformat_minor": 4
}
