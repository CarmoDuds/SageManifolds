{
 "cells": [
  {
   "cell_type": "markdown",
   "metadata": {},
   "source": [
    "# Kerr-Newman spacetime\n",
    "\n",
    "This notebook demonstrates a few capabilities of SageMath in computations regarding Kerr-Newman spacetime. The corresponding tools have been developed within the  [SageManifolds](https://sagemanifolds.obspm.fr) project.\n",
    "\n",
    "Click [here](https://raw.githubusercontent.com/sagemanifolds/SageManifolds/master/Notebooks/SM_Kerr_Newman.ipynb) to download the notebook file (ipynb format). To run it, you must start SageMath within the Jupyter notebook, via the command `sage -n jupyter`"
   ]
  },
  {
   "cell_type": "markdown",
   "metadata": {},
   "source": [
    "*NB:* a version of SageMath at least equal to 9.1 is required to run this notebook:"
   ]
  },
  {
   "cell_type": "code",
   "execution_count": 1,
   "metadata": {},
   "outputs": [
    {
     "data": {
      "text/plain": [
       "'SageMath version 9.2.beta13, Release Date: 2020-09-21'"
      ]
     },
     "execution_count": 1,
     "metadata": {},
     "output_type": "execute_result"
    }
   ],
   "source": [
    "version()"
   ]
  },
  {
   "cell_type": "markdown",
   "metadata": {},
   "source": [
    "First we set up the notebook to display mathematical objects using LaTeX rendering:"
   ]
  },
  {
   "cell_type": "code",
   "execution_count": 2,
   "metadata": {},
   "outputs": [],
   "source": [
    "%display latex"
   ]
  },
  {
   "cell_type": "markdown",
   "metadata": {},
   "source": [
    "and we initialize a time counter for benchmarking:"
   ]
  },
  {
   "cell_type": "code",
   "execution_count": 3,
   "metadata": {},
   "outputs": [],
   "source": [
    "import time\n",
    "comput_time0 = time.perf_counter()"
   ]
  },
  {
   "cell_type": "markdown",
   "metadata": {},
   "source": [
    "Since some computations are quite heavy, we ask for running them in parallel on 8 threads:"
   ]
  },
  {
   "cell_type": "code",
   "execution_count": 4,
   "metadata": {},
   "outputs": [],
   "source": [
    "Parallelism().set(nproc=8)"
   ]
  },
  {
   "cell_type": "markdown",
   "metadata": {},
   "source": [
    "## Spacetime manifold\n",
    "\n",
    "We declare the Kerr-Newman spacetime (or more precisely the part of it covered by Boyer-Lindquist coordinates) as a 4-dimensional Lorentzian manifold $\\mathcal{M}$:"
   ]
  },
  {
   "cell_type": "code",
   "execution_count": 5,
   "metadata": {},
   "outputs": [],
   "source": [
    "M = Manifold(4, 'M', latex_name=r'\\mathcal{M}', structure='Lorentzian')"
   ]
  },
  {
   "cell_type": "markdown",
   "metadata": {},
   "source": [
    "We then introduce the standard <strong>Boyer-Lindquist coordinates</strong> as a chart `BL` (for *Boyer-Lindquist*) on $\\mathcal{M}$, via the method `chart()`, the argument of which is a string\n",
    "(delimited by `r\"...\"` because of the backslash symbols) expressing the coordinates names, their ranges (the default is $(-\\infty,+\\infty)$) and their LaTeX symbols:"
   ]
  },
  {
   "cell_type": "code",
   "execution_count": 6,
   "metadata": {},
   "outputs": [
    {
     "name": "stdout",
     "output_type": "stream",
     "text": [
      "Chart (M, (t, r, th, ph))\n"
     ]
    },
    {
     "data": {
      "text/html": [
       "<html><script type=\"math/tex; mode=display\">\\newcommand{\\Bold}[1]{\\mathbf{#1}}\\left(\\mathcal{M},(t, r, {\\theta}, {\\phi})\\right)</script></html>"
      ],
      "text/latex": [
       "\\begin{math}\n",
       "\\newcommand{\\Bold}[1]{\\mathbf{#1}}\\left(\\mathcal{M},(t, r, {\\theta}, {\\phi})\\right)\n",
       "\\end{math}"
      ],
      "text/plain": [
       "Chart (M, (t, r, th, ph))"
      ]
     },
     "execution_count": 6,
     "metadata": {},
     "output_type": "execute_result"
    }
   ],
   "source": [
    "BL.<t,r,th,ph> = M.chart(r't r th:(0,pi):\\theta ph:(0,2*pi):\\phi') \n",
    "print(BL); BL"
   ]
  },
  {
   "cell_type": "markdown",
   "metadata": {},
   "source": [
    "<h2>Metric tensor</h2>\n",
    "<p>The 3 parameters $m$, $a$ and $q$ of the Kerr-Newman spacetime are declared as symbolic variables:</p>"
   ]
  },
  {
   "cell_type": "code",
   "execution_count": 7,
   "metadata": {},
   "outputs": [
    {
     "data": {
      "text/html": [
       "<html><script type=\"math/tex; mode=display\">\\newcommand{\\Bold}[1]{\\mathbf{#1}}\\left(m, a, q\\right)</script></html>"
      ],
      "text/latex": [
       "\\begin{math}\n",
       "\\newcommand{\\Bold}[1]{\\mathbf{#1}}\\left(m, a, q\\right)\n",
       "\\end{math}"
      ],
      "text/plain": [
       "(m, a, q)"
      ]
     },
     "execution_count": 7,
     "metadata": {},
     "output_type": "execute_result"
    }
   ],
   "source": [
    "var('m a q')"
   ]
  },
  {
   "cell_type": "markdown",
   "metadata": {},
   "source": [
    "We get the (yet undefined) spacetime metric:"
   ]
  },
  {
   "cell_type": "code",
   "execution_count": 8,
   "metadata": {},
   "outputs": [],
   "source": [
    "g = M.metric()"
   ]
  },
  {
   "cell_type": "markdown",
   "metadata": {},
   "source": [
    "<p>The metric is defined by its components in the coordinate frame associated with Boyer-Lindquist coordinates, which is the current manifold's default frame:</p>"
   ]
  },
  {
   "cell_type": "code",
   "execution_count": 9,
   "metadata": {},
   "outputs": [
    {
     "data": {
      "text/html": [
       "<html><script type=\"math/tex; mode=display\">\\newcommand{\\Bold}[1]{\\mathbf{#1}}g = \\left( -\\frac{q^{2} - 2 \\, m r}{a^{2} \\cos\\left({\\theta}\\right)^{2} + r^{2}} - 1 \\right) \\mathrm{d} t\\otimes \\mathrm{d} t + \\left( \\frac{{\\left(q^{2} - 2 \\, m r\\right)} a \\sin\\left({\\theta}\\right)^{2}}{a^{2} \\cos\\left({\\theta}\\right)^{2} + r^{2}} \\right) \\mathrm{d} t\\otimes \\mathrm{d} {\\phi} + \\left( \\frac{a^{2} \\cos\\left({\\theta}\\right)^{2} + r^{2}}{a^{2} + q^{2} - 2 \\, m r + r^{2}} \\right) \\mathrm{d} r\\otimes \\mathrm{d} r + \\left( a^{2} \\cos\\left({\\theta}\\right)^{2} + r^{2} \\right) \\mathrm{d} {\\theta}\\otimes \\mathrm{d} {\\theta} + \\left( \\frac{{\\left(q^{2} - 2 \\, m r\\right)} a \\sin\\left({\\theta}\\right)^{2}}{a^{2} \\cos\\left({\\theta}\\right)^{2} + r^{2}} \\right) \\mathrm{d} {\\phi}\\otimes \\mathrm{d} t -{\\left(\\frac{{\\left(q^{2} - 2 \\, m r\\right)} a^{2} \\sin\\left({\\theta}\\right)^{2}}{a^{2} \\cos\\left({\\theta}\\right)^{2} + r^{2}} - a^{2} - r^{2}\\right)} \\sin\\left({\\theta}\\right)^{2} \\mathrm{d} {\\phi}\\otimes \\mathrm{d} {\\phi}</script></html>"
      ],
      "text/latex": [
       "\\begin{math}\n",
       "\\newcommand{\\Bold}[1]{\\mathbf{#1}}g = \\left( -\\frac{q^{2} - 2 \\, m r}{a^{2} \\cos\\left({\\theta}\\right)^{2} + r^{2}} - 1 \\right) \\mathrm{d} t\\otimes \\mathrm{d} t + \\left( \\frac{{\\left(q^{2} - 2 \\, m r\\right)} a \\sin\\left({\\theta}\\right)^{2}}{a^{2} \\cos\\left({\\theta}\\right)^{2} + r^{2}} \\right) \\mathrm{d} t\\otimes \\mathrm{d} {\\phi} + \\left( \\frac{a^{2} \\cos\\left({\\theta}\\right)^{2} + r^{2}}{a^{2} + q^{2} - 2 \\, m r + r^{2}} \\right) \\mathrm{d} r\\otimes \\mathrm{d} r + \\left( a^{2} \\cos\\left({\\theta}\\right)^{2} + r^{2} \\right) \\mathrm{d} {\\theta}\\otimes \\mathrm{d} {\\theta} + \\left( \\frac{{\\left(q^{2} - 2 \\, m r\\right)} a \\sin\\left({\\theta}\\right)^{2}}{a^{2} \\cos\\left({\\theta}\\right)^{2} + r^{2}} \\right) \\mathrm{d} {\\phi}\\otimes \\mathrm{d} t -{\\left(\\frac{{\\left(q^{2} - 2 \\, m r\\right)} a^{2} \\sin\\left({\\theta}\\right)^{2}}{a^{2} \\cos\\left({\\theta}\\right)^{2} + r^{2}} - a^{2} - r^{2}\\right)} \\sin\\left({\\theta}\\right)^{2} \\mathrm{d} {\\phi}\\otimes \\mathrm{d} {\\phi}\n",
       "\\end{math}"
      ],
      "text/plain": [
       "g = (-(q^2 - 2*m*r)/(a^2*cos(th)^2 + r^2) - 1) dt*dt + (q^2 - 2*m*r)*a*sin(th)^2/(a^2*cos(th)^2 + r^2) dt*dph + (a^2*cos(th)^2 + r^2)/(a^2 + q^2 - 2*m*r + r^2) dr*dr + (a^2*cos(th)^2 + r^2) dth*dth + (q^2 - 2*m*r)*a*sin(th)^2/(a^2*cos(th)^2 + r^2) dph*dt - ((q^2 - 2*m*r)*a^2*sin(th)^2/(a^2*cos(th)^2 + r^2) - a^2 - r^2)*sin(th)^2 dph*dph"
      ]
     },
     "execution_count": 9,
     "metadata": {},
     "output_type": "execute_result"
    }
   ],
   "source": [
    "rho2 = r^2 + (a*cos(th))^2\n",
    "Delta = r^2 -2*m*r + a^2 + q^2\n",
    "g[0,0] = -1 + (2*m*r-q^2)/rho2\n",
    "g[0,3] = -a*sin(th)^2*(2*m*r-q^2)/rho2\n",
    "g[1,1], g[2,2] = rho2/Delta, rho2\n",
    "g[3,3] = (r^2 + a^2 + (2*m*r-q^2)*(a*sin(th))^2/rho2)*sin(th)^2\n",
    "g.display()"
   ]
  },
  {
   "cell_type": "markdown",
   "metadata": {},
   "source": [
    "<p><span id=\"cell_outer_11\">The list of the non-vanishing components:</span></p>"
   ]
  },
  {
   "cell_type": "code",
   "execution_count": 10,
   "metadata": {},
   "outputs": [
    {
     "data": {
      "text/html": [
       "<html><script type=\"math/tex; mode=display\">\\newcommand{\\Bold}[1]{\\mathbf{#1}}\\begin{array}{lcl} g_{ \\, t \\, t }^{ \\phantom{\\, t}\\phantom{\\, t} } & = & -\\frac{q^{2} - 2 \\, m r}{a^{2} \\cos\\left({\\theta}\\right)^{2} + r^{2}} - 1 \\\\ g_{ \\, t \\, {\\phi} }^{ \\phantom{\\, t}\\phantom{\\, {\\phi}} } & = & \\frac{{\\left(q^{2} - 2 \\, m r\\right)} a \\sin\\left({\\theta}\\right)^{2}}{a^{2} \\cos\\left({\\theta}\\right)^{2} + r^{2}} \\\\ g_{ \\, r \\, r }^{ \\phantom{\\, r}\\phantom{\\, r} } & = & \\frac{a^{2} \\cos\\left({\\theta}\\right)^{2} + r^{2}}{a^{2} + q^{2} - 2 \\, m r + r^{2}} \\\\ g_{ \\, {\\theta} \\, {\\theta} }^{ \\phantom{\\, {\\theta}}\\phantom{\\, {\\theta}} } & = & a^{2} \\cos\\left({\\theta}\\right)^{2} + r^{2} \\\\ g_{ \\, {\\phi} \\, t }^{ \\phantom{\\, {\\phi}}\\phantom{\\, t} } & = & \\frac{{\\left(q^{2} - 2 \\, m r\\right)} a \\sin\\left({\\theta}\\right)^{2}}{a^{2} \\cos\\left({\\theta}\\right)^{2} + r^{2}} \\\\ g_{ \\, {\\phi} \\, {\\phi} }^{ \\phantom{\\, {\\phi}}\\phantom{\\, {\\phi}} } & = & -{\\left(\\frac{{\\left(q^{2} - 2 \\, m r\\right)} a^{2} \\sin\\left({\\theta}\\right)^{2}}{a^{2} \\cos\\left({\\theta}\\right)^{2} + r^{2}} - a^{2} - r^{2}\\right)} \\sin\\left({\\theta}\\right)^{2} \\end{array}</script></html>"
      ],
      "text/latex": [
       "\\begin{math}\n",
       "\\newcommand{\\Bold}[1]{\\mathbf{#1}}\\begin{array}{lcl} g_{ \\, t \\, t }^{ \\phantom{\\, t}\\phantom{\\, t} } & = & -\\frac{q^{2} - 2 \\, m r}{a^{2} \\cos\\left({\\theta}\\right)^{2} + r^{2}} - 1 \\\\ g_{ \\, t \\, {\\phi} }^{ \\phantom{\\, t}\\phantom{\\, {\\phi}} } & = & \\frac{{\\left(q^{2} - 2 \\, m r\\right)} a \\sin\\left({\\theta}\\right)^{2}}{a^{2} \\cos\\left({\\theta}\\right)^{2} + r^{2}} \\\\ g_{ \\, r \\, r }^{ \\phantom{\\, r}\\phantom{\\, r} } & = & \\frac{a^{2} \\cos\\left({\\theta}\\right)^{2} + r^{2}}{a^{2} + q^{2} - 2 \\, m r + r^{2}} \\\\ g_{ \\, {\\theta} \\, {\\theta} }^{ \\phantom{\\, {\\theta}}\\phantom{\\, {\\theta}} } & = & a^{2} \\cos\\left({\\theta}\\right)^{2} + r^{2} \\\\ g_{ \\, {\\phi} \\, t }^{ \\phantom{\\, {\\phi}}\\phantom{\\, t} } & = & \\frac{{\\left(q^{2} - 2 \\, m r\\right)} a \\sin\\left({\\theta}\\right)^{2}}{a^{2} \\cos\\left({\\theta}\\right)^{2} + r^{2}} \\\\ g_{ \\, {\\phi} \\, {\\phi} }^{ \\phantom{\\, {\\phi}}\\phantom{\\, {\\phi}} } & = & -{\\left(\\frac{{\\left(q^{2} - 2 \\, m r\\right)} a^{2} \\sin\\left({\\theta}\\right)^{2}}{a^{2} \\cos\\left({\\theta}\\right)^{2} + r^{2}} - a^{2} - r^{2}\\right)} \\sin\\left({\\theta}\\right)^{2} \\end{array}\n",
       "\\end{math}"
      ],
      "text/plain": [
       "g_t,t = -(q^2 - 2*m*r)/(a^2*cos(th)^2 + r^2) - 1 \n",
       "g_t,ph = (q^2 - 2*m*r)*a*sin(th)^2/(a^2*cos(th)^2 + r^2) \n",
       "g_r,r = (a^2*cos(th)^2 + r^2)/(a^2 + q^2 - 2*m*r + r^2) \n",
       "g_th,th = a^2*cos(th)^2 + r^2 \n",
       "g_ph,t = (q^2 - 2*m*r)*a*sin(th)^2/(a^2*cos(th)^2 + r^2) \n",
       "g_ph,ph = -((q^2 - 2*m*r)*a^2*sin(th)^2/(a^2*cos(th)^2 + r^2) - a^2 - r^2)*sin(th)^2 "
      ]
     },
     "execution_count": 10,
     "metadata": {},
     "output_type": "execute_result"
    }
   ],
   "source": [
    "g.display_comp()"
   ]
  },
  {
   "cell_type": "markdown",
   "metadata": {},
   "source": [
    "<p>The component $g^{tt}$ of the inverse metric:</p>"
   ]
  },
  {
   "cell_type": "code",
   "execution_count": 11,
   "metadata": {},
   "outputs": [
    {
     "data": {
      "text/html": [
       "<html><script type=\"math/tex; mode=display\">\\newcommand{\\Bold}[1]{\\mathbf{#1}}\\frac{a^{4} + 2 \\, a^{2} r^{2} + r^{4} - {\\left(a^{4} + a^{2} q^{2} - 2 \\, a^{2} m r + a^{2} r^{2}\\right)} \\sin\\left({\\theta}\\right)^{2}}{2 \\, m r^{3} - r^{4} - {\\left(a^{2} + q^{2}\\right)} r^{2} - {\\left(a^{4} + a^{2} q^{2} - 2 \\, a^{2} m r + a^{2} r^{2}\\right)} \\cos\\left({\\theta}\\right)^{2}}</script></html>"
      ],
      "text/latex": [
       "\\begin{math}\n",
       "\\newcommand{\\Bold}[1]{\\mathbf{#1}}\\frac{a^{4} + 2 \\, a^{2} r^{2} + r^{4} - {\\left(a^{4} + a^{2} q^{2} - 2 \\, a^{2} m r + a^{2} r^{2}\\right)} \\sin\\left({\\theta}\\right)^{2}}{2 \\, m r^{3} - r^{4} - {\\left(a^{2} + q^{2}\\right)} r^{2} - {\\left(a^{4} + a^{2} q^{2} - 2 \\, a^{2} m r + a^{2} r^{2}\\right)} \\cos\\left({\\theta}\\right)^{2}}\n",
       "\\end{math}"
      ],
      "text/plain": [
       "(a^4 + 2*a^2*r^2 + r^4 - (a^4 + a^2*q^2 - 2*a^2*m*r + a^2*r^2)*sin(th)^2)/(2*m*r^3 - r^4 - (a^2 + q^2)*r^2 - (a^4 + a^2*q^2 - 2*a^2*m*r + a^2*r^2)*cos(th)^2)"
      ]
     },
     "execution_count": 11,
     "metadata": {},
     "output_type": "execute_result"
    }
   ],
   "source": [
    "g.inverse()[0,0]"
   ]
  },
  {
   "cell_type": "markdown",
   "metadata": {},
   "source": [
    "<p>The lapse function:</p>"
   ]
  },
  {
   "cell_type": "code",
   "execution_count": 12,
   "metadata": {},
   "outputs": [
    {
     "data": {
      "text/html": [
       "<html><script type=\"math/tex; mode=display\">\\newcommand{\\Bold}[1]{\\mathbf{#1}}\\mbox{Scalar field on the 4-dimensional Lorentzian manifold M}</script></html>"
      ],
      "text/latex": [
       "\\begin{math}\n",
       "\\newcommand{\\Bold}[1]{\\mathbf{#1}}\\mbox{Scalar field on the 4-dimensional Lorentzian manifold M}\n",
       "\\end{math}"
      ],
      "text/plain": [
       "Scalar field on the 4-dimensional Lorentzian manifold M"
      ]
     },
     "execution_count": 12,
     "metadata": {},
     "output_type": "execute_result"
    }
   ],
   "source": [
    "N = 1/sqrt(-(g.inverse()[[0,0]])); N"
   ]
  },
  {
   "cell_type": "code",
   "execution_count": 13,
   "metadata": {},
   "outputs": [
    {
     "data": {
      "text/html": [
       "<html><script type=\"math/tex; mode=display\">\\newcommand{\\Bold}[1]{\\mathbf{#1}}\\begin{array}{llcl} & \\mathcal{M} & \\longrightarrow & \\mathbb{R} \\\\ & \\left(t, r, {\\theta}, {\\phi}\\right) & \\longmapsto & \\frac{\\sqrt{a^{2} \\cos\\left({\\theta}\\right)^{2} + r^{2}} \\sqrt{{\\left| a^{2} + q^{2} - 2 \\, m r + r^{2} \\right|}}}{\\sqrt{a^{4} + 2 \\, a^{2} r^{2} + r^{4} - {\\left(a^{4} + a^{2} q^{2} - 2 \\, a^{2} m r + a^{2} r^{2}\\right)} \\sin\\left({\\theta}\\right)^{2}}} \\end{array}</script></html>"
      ],
      "text/latex": [
       "\\begin{math}\n",
       "\\newcommand{\\Bold}[1]{\\mathbf{#1}}\\begin{array}{llcl} & \\mathcal{M} & \\longrightarrow & \\mathbb{R} \\\\ & \\left(t, r, {\\theta}, {\\phi}\\right) & \\longmapsto & \\frac{\\sqrt{a^{2} \\cos\\left({\\theta}\\right)^{2} + r^{2}} \\sqrt{{\\left| a^{2} + q^{2} - 2 \\, m r + r^{2} \\right|}}}{\\sqrt{a^{4} + 2 \\, a^{2} r^{2} + r^{4} - {\\left(a^{4} + a^{2} q^{2} - 2 \\, a^{2} m r + a^{2} r^{2}\\right)} \\sin\\left({\\theta}\\right)^{2}}} \\end{array}\n",
       "\\end{math}"
      ],
      "text/plain": [
       "M --> R\n",
       "(t, r, th, ph) |--> sqrt(a^2*cos(th)^2 + r^2)*sqrt(abs(a^2 + q^2 - 2*m*r + r^2))/sqrt(a^4 + 2*a^2*r^2 + r^4 - (a^4 + a^2*q^2 - 2*a^2*m*r + a^2*r^2)*sin(th)^2)"
      ]
     },
     "execution_count": 13,
     "metadata": {},
     "output_type": "execute_result"
    }
   ],
   "source": [
    "N.display()"
   ]
  },
  {
   "cell_type": "markdown",
   "metadata": {},
   "source": [
    "<h2>Electromagnetic field tensor</h2>\n",
    "<p>Let us first introduce the 1-form basis associated with Boyer-Lindquist coordinates:</p>"
   ]
  },
  {
   "cell_type": "code",
   "execution_count": 14,
   "metadata": {},
   "outputs": [
    {
     "data": {
      "text/html": [
       "<html><script type=\"math/tex; mode=display\">\\newcommand{\\Bold}[1]{\\mathbf{#1}}\\left(\\mathcal{M}, \\left(\\mathrm{d} t,\\mathrm{d} r,\\mathrm{d} {\\theta},\\mathrm{d} {\\phi}\\right)\\right)</script></html>"
      ],
      "text/latex": [
       "\\begin{math}\n",
       "\\newcommand{\\Bold}[1]{\\mathbf{#1}}\\left(\\mathcal{M}, \\left(\\mathrm{d} t,\\mathrm{d} r,\\mathrm{d} {\\theta},\\mathrm{d} {\\phi}\\right)\\right)\n",
       "\\end{math}"
      ],
      "text/plain": [
       "Coordinate coframe (M, (dt,dr,dth,dph))"
      ]
     },
     "execution_count": 14,
     "metadata": {},
     "output_type": "execute_result"
    }
   ],
   "source": [
    "dBL = BL.coframe(); dBL"
   ]
  },
  {
   "cell_type": "markdown",
   "metadata": {},
   "source": [
    "<p>The electromagnetic field tensor $F$ is formed as [cf. e.g. Eq. (33.5) of Misner, Thorne & Wheeler (1973)]</p>"
   ]
  },
  {
   "cell_type": "code",
   "execution_count": 15,
   "metadata": {},
   "outputs": [
    {
     "data": {
      "text/html": [
       "<html><script type=\"math/tex; mode=display\">\\newcommand{\\Bold}[1]{\\mathbf{#1}}F = \\left( \\frac{a^{2} q \\cos\\left({\\theta}\\right)^{2} - q r^{2}}{a^{4} \\cos\\left({\\theta}\\right)^{4} + 2 \\, a^{2} r^{2} \\cos\\left({\\theta}\\right)^{2} + r^{4}} \\right) \\mathrm{d} t\\wedge \\mathrm{d} r + \\left( \\frac{2 \\, a^{2} q r \\cos\\left({\\theta}\\right) \\sin\\left({\\theta}\\right)}{a^{4} \\cos\\left({\\theta}\\right)^{4} + 2 \\, a^{2} r^{2} \\cos\\left({\\theta}\\right)^{2} + r^{4}} \\right) \\mathrm{d} t\\wedge \\mathrm{d} {\\theta} + \\left( \\frac{{\\left(a^{3} q \\cos\\left({\\theta}\\right)^{2} - a q r^{2}\\right)} \\sin\\left({\\theta}\\right)^{2}}{a^{4} \\cos\\left({\\theta}\\right)^{4} + 2 \\, a^{2} r^{2} \\cos\\left({\\theta}\\right)^{2} + r^{4}} \\right) \\mathrm{d} r\\wedge \\mathrm{d} {\\phi} + \\left( \\frac{2 \\, {\\left(a^{3} q r + a q r^{3}\\right)} \\cos\\left({\\theta}\\right) \\sin\\left({\\theta}\\right)}{a^{4} \\cos\\left({\\theta}\\right)^{4} + 2 \\, a^{2} r^{2} \\cos\\left({\\theta}\\right)^{2} + r^{4}} \\right) \\mathrm{d} {\\theta}\\wedge \\mathrm{d} {\\phi}</script></html>"
      ],
      "text/latex": [
       "\\begin{math}\n",
       "\\newcommand{\\Bold}[1]{\\mathbf{#1}}F = \\left( \\frac{a^{2} q \\cos\\left({\\theta}\\right)^{2} - q r^{2}}{a^{4} \\cos\\left({\\theta}\\right)^{4} + 2 \\, a^{2} r^{2} \\cos\\left({\\theta}\\right)^{2} + r^{4}} \\right) \\mathrm{d} t\\wedge \\mathrm{d} r + \\left( \\frac{2 \\, a^{2} q r \\cos\\left({\\theta}\\right) \\sin\\left({\\theta}\\right)}{a^{4} \\cos\\left({\\theta}\\right)^{4} + 2 \\, a^{2} r^{2} \\cos\\left({\\theta}\\right)^{2} + r^{4}} \\right) \\mathrm{d} t\\wedge \\mathrm{d} {\\theta} + \\left( \\frac{{\\left(a^{3} q \\cos\\left({\\theta}\\right)^{2} - a q r^{2}\\right)} \\sin\\left({\\theta}\\right)^{2}}{a^{4} \\cos\\left({\\theta}\\right)^{4} + 2 \\, a^{2} r^{2} \\cos\\left({\\theta}\\right)^{2} + r^{4}} \\right) \\mathrm{d} r\\wedge \\mathrm{d} {\\phi} + \\left( \\frac{2 \\, {\\left(a^{3} q r + a q r^{3}\\right)} \\cos\\left({\\theta}\\right) \\sin\\left({\\theta}\\right)}{a^{4} \\cos\\left({\\theta}\\right)^{4} + 2 \\, a^{2} r^{2} \\cos\\left({\\theta}\\right)^{2} + r^{4}} \\right) \\mathrm{d} {\\theta}\\wedge \\mathrm{d} {\\phi}\n",
       "\\end{math}"
      ],
      "text/plain": [
       "F = (a^2*q*cos(th)^2 - q*r^2)/(a^4*cos(th)^4 + 2*a^2*r^2*cos(th)^2 + r^4) dt/\\dr + 2*a^2*q*r*cos(th)*sin(th)/(a^4*cos(th)^4 + 2*a^2*r^2*cos(th)^2 + r^4) dt/\\dth + (a^3*q*cos(th)^2 - a*q*r^2)*sin(th)^2/(a^4*cos(th)^4 + 2*a^2*r^2*cos(th)^2 + r^4) dr/\\dph + 2*(a^3*q*r + a*q*r^3)*cos(th)*sin(th)/(a^4*cos(th)^4 + 2*a^2*r^2*cos(th)^2 + r^4) dth/\\dph"
      ]
     },
     "execution_count": 15,
     "metadata": {},
     "output_type": "execute_result"
    }
   ],
   "source": [
    "F = q/rho2^2 * (r^2-a^2*cos(th)^2)* dBL[1].wedge( dBL[0] - a*sin(th)^2* dBL[3] ) + \\\n",
    "    2*q/rho2^2 * a*r*cos(th)*sin(th)* dBL[2].wedge( (r^2+a^2)* dBL[3] - a* dBL[0] ) \n",
    "F.set_name('F')\n",
    "F.display()"
   ]
  },
  {
   "cell_type": "markdown",
   "metadata": {},
   "source": [
    "<p>The list of non-vanishing components:</p>"
   ]
  },
  {
   "cell_type": "code",
   "execution_count": 16,
   "metadata": {},
   "outputs": [
    {
     "data": {
      "text/html": [
       "<html><script type=\"math/tex; mode=display\">\\newcommand{\\Bold}[1]{\\mathbf{#1}}\\begin{array}{lcl} F_{ \\, t \\, r }^{ \\phantom{\\, t}\\phantom{\\, r} } & = & \\frac{a^{2} q \\cos\\left({\\theta}\\right)^{2} - q r^{2}}{a^{4} \\cos\\left({\\theta}\\right)^{4} + 2 \\, a^{2} r^{2} \\cos\\left({\\theta}\\right)^{2} + r^{4}} \\\\ F_{ \\, t \\, {\\theta} }^{ \\phantom{\\, t}\\phantom{\\, {\\theta}} } & = & \\frac{2 \\, a^{2} q r \\cos\\left({\\theta}\\right) \\sin\\left({\\theta}\\right)}{a^{4} \\cos\\left({\\theta}\\right)^{4} + 2 \\, a^{2} r^{2} \\cos\\left({\\theta}\\right)^{2} + r^{4}} \\\\ F_{ \\, r \\, t }^{ \\phantom{\\, r}\\phantom{\\, t} } & = & -\\frac{a^{2} q \\cos\\left({\\theta}\\right)^{2} - q r^{2}}{a^{4} \\cos\\left({\\theta}\\right)^{4} + 2 \\, a^{2} r^{2} \\cos\\left({\\theta}\\right)^{2} + r^{4}} \\\\ F_{ \\, r \\, {\\phi} }^{ \\phantom{\\, r}\\phantom{\\, {\\phi}} } & = & \\frac{{\\left(a^{3} q \\cos\\left({\\theta}\\right)^{2} - a q r^{2}\\right)} \\sin\\left({\\theta}\\right)^{2}}{a^{4} \\cos\\left({\\theta}\\right)^{4} + 2 \\, a^{2} r^{2} \\cos\\left({\\theta}\\right)^{2} + r^{4}} \\\\ F_{ \\, {\\theta} \\, t }^{ \\phantom{\\, {\\theta}}\\phantom{\\, t} } & = & -\\frac{2 \\, a^{2} q r \\cos\\left({\\theta}\\right) \\sin\\left({\\theta}\\right)}{a^{4} \\cos\\left({\\theta}\\right)^{4} + 2 \\, a^{2} r^{2} \\cos\\left({\\theta}\\right)^{2} + r^{4}} \\\\ F_{ \\, {\\theta} \\, {\\phi} }^{ \\phantom{\\, {\\theta}}\\phantom{\\, {\\phi}} } & = & \\frac{2 \\, {\\left(a^{3} q r + a q r^{3}\\right)} \\cos\\left({\\theta}\\right) \\sin\\left({\\theta}\\right)}{a^{4} \\cos\\left({\\theta}\\right)^{4} + 2 \\, a^{2} r^{2} \\cos\\left({\\theta}\\right)^{2} + r^{4}} \\\\ F_{ \\, {\\phi} \\, r }^{ \\phantom{\\, {\\phi}}\\phantom{\\, r} } & = & -\\frac{{\\left(a^{3} q \\cos\\left({\\theta}\\right)^{2} - a q r^{2}\\right)} \\sin\\left({\\theta}\\right)^{2}}{a^{4} \\cos\\left({\\theta}\\right)^{4} + 2 \\, a^{2} r^{2} \\cos\\left({\\theta}\\right)^{2} + r^{4}} \\\\ F_{ \\, {\\phi} \\, {\\theta} }^{ \\phantom{\\, {\\phi}}\\phantom{\\, {\\theta}} } & = & -\\frac{2 \\, {\\left(a^{3} q r + a q r^{3}\\right)} \\cos\\left({\\theta}\\right) \\sin\\left({\\theta}\\right)}{a^{4} \\cos\\left({\\theta}\\right)^{4} + 2 \\, a^{2} r^{2} \\cos\\left({\\theta}\\right)^{2} + r^{4}} \\end{array}</script></html>"
      ],
      "text/latex": [
       "\\begin{math}\n",
       "\\newcommand{\\Bold}[1]{\\mathbf{#1}}\\begin{array}{lcl} F_{ \\, t \\, r }^{ \\phantom{\\, t}\\phantom{\\, r} } & = & \\frac{a^{2} q \\cos\\left({\\theta}\\right)^{2} - q r^{2}}{a^{4} \\cos\\left({\\theta}\\right)^{4} + 2 \\, a^{2} r^{2} \\cos\\left({\\theta}\\right)^{2} + r^{4}} \\\\ F_{ \\, t \\, {\\theta} }^{ \\phantom{\\, t}\\phantom{\\, {\\theta}} } & = & \\frac{2 \\, a^{2} q r \\cos\\left({\\theta}\\right) \\sin\\left({\\theta}\\right)}{a^{4} \\cos\\left({\\theta}\\right)^{4} + 2 \\, a^{2} r^{2} \\cos\\left({\\theta}\\right)^{2} + r^{4}} \\\\ F_{ \\, r \\, t }^{ \\phantom{\\, r}\\phantom{\\, t} } & = & -\\frac{a^{2} q \\cos\\left({\\theta}\\right)^{2} - q r^{2}}{a^{4} \\cos\\left({\\theta}\\right)^{4} + 2 \\, a^{2} r^{2} \\cos\\left({\\theta}\\right)^{2} + r^{4}} \\\\ F_{ \\, r \\, {\\phi} }^{ \\phantom{\\, r}\\phantom{\\, {\\phi}} } & = & \\frac{{\\left(a^{3} q \\cos\\left({\\theta}\\right)^{2} - a q r^{2}\\right)} \\sin\\left({\\theta}\\right)^{2}}{a^{4} \\cos\\left({\\theta}\\right)^{4} + 2 \\, a^{2} r^{2} \\cos\\left({\\theta}\\right)^{2} + r^{4}} \\\\ F_{ \\, {\\theta} \\, t }^{ \\phantom{\\, {\\theta}}\\phantom{\\, t} } & = & -\\frac{2 \\, a^{2} q r \\cos\\left({\\theta}\\right) \\sin\\left({\\theta}\\right)}{a^{4} \\cos\\left({\\theta}\\right)^{4} + 2 \\, a^{2} r^{2} \\cos\\left({\\theta}\\right)^{2} + r^{4}} \\\\ F_{ \\, {\\theta} \\, {\\phi} }^{ \\phantom{\\, {\\theta}}\\phantom{\\, {\\phi}} } & = & \\frac{2 \\, {\\left(a^{3} q r + a q r^{3}\\right)} \\cos\\left({\\theta}\\right) \\sin\\left({\\theta}\\right)}{a^{4} \\cos\\left({\\theta}\\right)^{4} + 2 \\, a^{2} r^{2} \\cos\\left({\\theta}\\right)^{2} + r^{4}} \\\\ F_{ \\, {\\phi} \\, r }^{ \\phantom{\\, {\\phi}}\\phantom{\\, r} } & = & -\\frac{{\\left(a^{3} q \\cos\\left({\\theta}\\right)^{2} - a q r^{2}\\right)} \\sin\\left({\\theta}\\right)^{2}}{a^{4} \\cos\\left({\\theta}\\right)^{4} + 2 \\, a^{2} r^{2} \\cos\\left({\\theta}\\right)^{2} + r^{4}} \\\\ F_{ \\, {\\phi} \\, {\\theta} }^{ \\phantom{\\, {\\phi}}\\phantom{\\, {\\theta}} } & = & -\\frac{2 \\, {\\left(a^{3} q r + a q r^{3}\\right)} \\cos\\left({\\theta}\\right) \\sin\\left({\\theta}\\right)}{a^{4} \\cos\\left({\\theta}\\right)^{4} + 2 \\, a^{2} r^{2} \\cos\\left({\\theta}\\right)^{2} + r^{4}} \\end{array}\n",
       "\\end{math}"
      ],
      "text/plain": [
       "F_t,r = (a^2*q*cos(th)^2 - q*r^2)/(a^4*cos(th)^4 + 2*a^2*r^2*cos(th)^2 + r^4) \n",
       "F_t,th = 2*a^2*q*r*cos(th)*sin(th)/(a^4*cos(th)^4 + 2*a^2*r^2*cos(th)^2 + r^4) \n",
       "F_r,t = -(a^2*q*cos(th)^2 - q*r^2)/(a^4*cos(th)^4 + 2*a^2*r^2*cos(th)^2 + r^4) \n",
       "F_r,ph = (a^3*q*cos(th)^2 - a*q*r^2)*sin(th)^2/(a^4*cos(th)^4 + 2*a^2*r^2*cos(th)^2 + r^4) \n",
       "F_th,t = -2*a^2*q*r*cos(th)*sin(th)/(a^4*cos(th)^4 + 2*a^2*r^2*cos(th)^2 + r^4) \n",
       "F_th,ph = 2*(a^3*q*r + a*q*r^3)*cos(th)*sin(th)/(a^4*cos(th)^4 + 2*a^2*r^2*cos(th)^2 + r^4) \n",
       "F_ph,r = -(a^3*q*cos(th)^2 - a*q*r^2)*sin(th)^2/(a^4*cos(th)^4 + 2*a^2*r^2*cos(th)^2 + r^4) \n",
       "F_ph,th = -2*(a^3*q*r + a*q*r^3)*cos(th)*sin(th)/(a^4*cos(th)^4 + 2*a^2*r^2*cos(th)^2 + r^4) "
      ]
     },
     "execution_count": 16,
     "metadata": {},
     "output_type": "execute_result"
    }
   ],
   "source": [
    "F.display_comp()"
   ]
  },
  {
   "cell_type": "markdown",
   "metadata": {},
   "source": [
    "<p>The Hodge dual of $F$:</p>"
   ]
  },
  {
   "cell_type": "code",
   "execution_count": 17,
   "metadata": {},
   "outputs": [
    {
     "data": {
      "text/html": [
       "<html><script type=\"math/tex; mode=display\">\\newcommand{\\Bold}[1]{\\mathbf{#1}}\\star F = \\left( \\frac{2 \\, a q r \\sqrt{\\cos\\left({\\theta}\\right) + 1} \\sqrt{-\\cos\\left({\\theta}\\right) + 1} \\cos\\left({\\theta}\\right)}{{\\left(a^{4} \\cos\\left({\\theta}\\right)^{4} + 2 \\, a^{2} r^{2} \\cos\\left({\\theta}\\right)^{2} + r^{4}\\right)} \\sin\\left({\\theta}\\right)} \\right) \\mathrm{d} t\\wedge \\mathrm{d} r + \\left( -\\frac{{\\left(a^{3} q \\cos\\left({\\theta}\\right)^{2} - a q r^{2}\\right)} \\sqrt{\\cos\\left({\\theta}\\right) + 1} \\sqrt{-\\cos\\left({\\theta}\\right) + 1}}{a^{4} \\cos\\left({\\theta}\\right)^{4} + 2 \\, a^{2} r^{2} \\cos\\left({\\theta}\\right)^{2} + r^{4}} \\right) \\mathrm{d} t\\wedge \\mathrm{d} {\\theta} + \\left( \\frac{2 \\, a^{2} q r \\sqrt{\\cos\\left({\\theta}\\right) + 1} \\sqrt{-\\cos\\left({\\theta}\\right) + 1} \\cos\\left({\\theta}\\right) \\sin\\left({\\theta}\\right)}{a^{4} \\cos\\left({\\theta}\\right)^{4} + 2 \\, a^{2} r^{2} \\cos\\left({\\theta}\\right)^{2} + r^{4}} \\right) \\mathrm{d} r\\wedge \\mathrm{d} {\\phi} + \\left( -\\frac{{\\left(a^{4} q - q r^{4} - {\\left(a^{4} q + a^{2} q r^{2}\\right)} \\sin\\left({\\theta}\\right)^{2}\\right)} \\sqrt{\\cos\\left({\\theta}\\right) + 1} \\sqrt{-\\cos\\left({\\theta}\\right) + 1}}{a^{4} \\cos\\left({\\theta}\\right)^{4} + 2 \\, a^{2} r^{2} \\cos\\left({\\theta}\\right)^{2} + r^{4}} \\right) \\mathrm{d} {\\theta}\\wedge \\mathrm{d} {\\phi}</script></html>"
      ],
      "text/latex": [
       "\\begin{math}\n",
       "\\newcommand{\\Bold}[1]{\\mathbf{#1}}\\star F = \\left( \\frac{2 \\, a q r \\sqrt{\\cos\\left({\\theta}\\right) + 1} \\sqrt{-\\cos\\left({\\theta}\\right) + 1} \\cos\\left({\\theta}\\right)}{{\\left(a^{4} \\cos\\left({\\theta}\\right)^{4} + 2 \\, a^{2} r^{2} \\cos\\left({\\theta}\\right)^{2} + r^{4}\\right)} \\sin\\left({\\theta}\\right)} \\right) \\mathrm{d} t\\wedge \\mathrm{d} r + \\left( -\\frac{{\\left(a^{3} q \\cos\\left({\\theta}\\right)^{2} - a q r^{2}\\right)} \\sqrt{\\cos\\left({\\theta}\\right) + 1} \\sqrt{-\\cos\\left({\\theta}\\right) + 1}}{a^{4} \\cos\\left({\\theta}\\right)^{4} + 2 \\, a^{2} r^{2} \\cos\\left({\\theta}\\right)^{2} + r^{4}} \\right) \\mathrm{d} t\\wedge \\mathrm{d} {\\theta} + \\left( \\frac{2 \\, a^{2} q r \\sqrt{\\cos\\left({\\theta}\\right) + 1} \\sqrt{-\\cos\\left({\\theta}\\right) + 1} \\cos\\left({\\theta}\\right) \\sin\\left({\\theta}\\right)}{a^{4} \\cos\\left({\\theta}\\right)^{4} + 2 \\, a^{2} r^{2} \\cos\\left({\\theta}\\right)^{2} + r^{4}} \\right) \\mathrm{d} r\\wedge \\mathrm{d} {\\phi} + \\left( -\\frac{{\\left(a^{4} q - q r^{4} - {\\left(a^{4} q + a^{2} q r^{2}\\right)} \\sin\\left({\\theta}\\right)^{2}\\right)} \\sqrt{\\cos\\left({\\theta}\\right) + 1} \\sqrt{-\\cos\\left({\\theta}\\right) + 1}}{a^{4} \\cos\\left({\\theta}\\right)^{4} + 2 \\, a^{2} r^{2} \\cos\\left({\\theta}\\right)^{2} + r^{4}} \\right) \\mathrm{d} {\\theta}\\wedge \\mathrm{d} {\\phi}\n",
       "\\end{math}"
      ],
      "text/plain": [
       "*F = 2*a*q*r*sqrt(cos(th) + 1)*sqrt(-cos(th) + 1)*cos(th)/((a^4*cos(th)^4 + 2*a^2*r^2*cos(th)^2 + r^4)*sin(th)) dt/\\dr - (a^3*q*cos(th)^2 - a*q*r^2)*sqrt(cos(th) + 1)*sqrt(-cos(th) + 1)/(a^4*cos(th)^4 + 2*a^2*r^2*cos(th)^2 + r^4) dt/\\dth + 2*a^2*q*r*sqrt(cos(th) + 1)*sqrt(-cos(th) + 1)*cos(th)*sin(th)/(a^4*cos(th)^4 + 2*a^2*r^2*cos(th)^2 + r^4) dr/\\dph - (a^4*q - q*r^4 - (a^4*q + a^2*q*r^2)*sin(th)^2)*sqrt(cos(th) + 1)*sqrt(-cos(th) + 1)/(a^4*cos(th)^4 + 2*a^2*r^2*cos(th)^2 + r^4) dth/\\dph"
      ]
     },
     "execution_count": 17,
     "metadata": {},
     "output_type": "execute_result"
    }
   ],
   "source": [
    "star_F = F.hodge_dual(g)\n",
    "star_F.display()"
   ]
  },
  {
   "cell_type": "markdown",
   "metadata": {},
   "source": [
    "<h3>Maxwell equations</h3>\n",
    "\n",
    "<p>Let us check that $F$ obeys the two (source-free) Maxwell equations:</p>"
   ]
  },
  {
   "cell_type": "code",
   "execution_count": 18,
   "metadata": {},
   "outputs": [
    {
     "data": {
      "text/html": [
       "<html><script type=\"math/tex; mode=display\">\\newcommand{\\Bold}[1]{\\mathbf{#1}}\\mathrm{d}F = 0</script></html>"
      ],
      "text/latex": [
       "\\begin{math}\n",
       "\\newcommand{\\Bold}[1]{\\mathbf{#1}}\\mathrm{d}F = 0\n",
       "\\end{math}"
      ],
      "text/plain": [
       "dF = 0"
      ]
     },
     "execution_count": 18,
     "metadata": {},
     "output_type": "execute_result"
    }
   ],
   "source": [
    "F.exterior_derivative().display()"
   ]
  },
  {
   "cell_type": "code",
   "execution_count": 19,
   "metadata": {},
   "outputs": [
    {
     "data": {
      "text/html": [
       "<html><script type=\"math/tex; mode=display\">\\newcommand{\\Bold}[1]{\\mathbf{#1}}\\mathrm{d}\\star F = 0</script></html>"
      ],
      "text/latex": [
       "\\begin{math}\n",
       "\\newcommand{\\Bold}[1]{\\mathbf{#1}}\\mathrm{d}\\star F = 0\n",
       "\\end{math}"
      ],
      "text/plain": [
       "d*F = 0"
      ]
     },
     "execution_count": 19,
     "metadata": {},
     "output_type": "execute_result"
    }
   ],
   "source": [
    "star_F.exterior_derivative().display()"
   ]
  },
  {
   "cell_type": "markdown",
   "metadata": {},
   "source": [
    "<h2>Levi-Civita Connection</h2>\n",
    "\n",
    "<p>The Levi-Civita connection $\\nabla$ associated with $g$:</p>"
   ]
  },
  {
   "cell_type": "code",
   "execution_count": 20,
   "metadata": {},
   "outputs": [
    {
     "name": "stdout",
     "output_type": "stream",
     "text": [
      "Levi-Civita connection nabla_g associated with the Lorentzian metric g on the 4-dimensional Lorentzian manifold M\n"
     ]
    }
   ],
   "source": [
    "nabla = g.connection()\n",
    "print(nabla)"
   ]
  },
  {
   "cell_type": "markdown",
   "metadata": {},
   "source": [
    "<p>Let us verify that the covariant derivative of $g$ with respect to $\\nabla$ vanishes identically:</p>"
   ]
  },
  {
   "cell_type": "code",
   "execution_count": 21,
   "metadata": {},
   "outputs": [
    {
     "data": {
      "text/html": [
       "<html><script type=\"math/tex; mode=display\">\\newcommand{\\Bold}[1]{\\mathbf{#1}}\\mathrm{True}</script></html>"
      ],
      "text/latex": [
       "\\begin{math}\n",
       "\\newcommand{\\Bold}[1]{\\mathbf{#1}}\\mathrm{True}\n",
       "\\end{math}"
      ],
      "text/plain": [
       "True"
      ]
     },
     "execution_count": 21,
     "metadata": {},
     "output_type": "execute_result"
    }
   ],
   "source": [
    "nabla(g) == 0"
   ]
  },
  {
   "cell_type": "markdown",
   "metadata": {},
   "source": [
    "<p>Another view of the above property:</p>"
   ]
  },
  {
   "cell_type": "code",
   "execution_count": 22,
   "metadata": {},
   "outputs": [
    {
     "data": {
      "text/html": [
       "<html><script type=\"math/tex; mode=display\">\\newcommand{\\Bold}[1]{\\mathbf{#1}}\\nabla_{g} g = 0</script></html>"
      ],
      "text/latex": [
       "\\begin{math}\n",
       "\\newcommand{\\Bold}[1]{\\mathbf{#1}}\\nabla_{g} g = 0\n",
       "\\end{math}"
      ],
      "text/plain": [
       "nabla_g(g) = 0"
      ]
     },
     "execution_count": 22,
     "metadata": {},
     "output_type": "execute_result"
    }
   ],
   "source": [
    "nabla(g).display()"
   ]
  },
  {
   "cell_type": "markdown",
   "metadata": {},
   "source": [
    "<p><span id=\"cell_outer_13\">The nonzero Christoffel symbols (skipping those that can be deduced by symmetry of the last two indices):</span></p>"
   ]
  },
  {
   "cell_type": "code",
   "execution_count": 23,
   "metadata": {},
   "outputs": [
    {
     "data": {
      "text/html": [
       "<html><script type=\"math/tex; mode=display\">\\newcommand{\\Bold}[1]{\\mathbf{#1}}\\begin{array}{lcl} \\Gamma_{ \\phantom{\\, t} \\, t \\, r }^{ \\, t \\phantom{\\, t} \\phantom{\\, r} } & = & \\frac{a^{4} m + a^{2} q^{2} r + q^{2} r^{3} - m r^{4} - {\\left(a^{4} m + a^{2} m r^{2}\\right)} \\sin\\left({\\theta}\\right)^{2}}{2 \\, m r^{5} - r^{6} - {\\left(a^{2} + q^{2}\\right)} r^{4} - {\\left(a^{6} + a^{4} q^{2} - 2 \\, a^{4} m r + a^{4} r^{2}\\right)} \\cos\\left({\\theta}\\right)^{4} + 2 \\, {\\left(2 \\, a^{2} m r^{3} - a^{2} r^{4} - {\\left(a^{4} + a^{2} q^{2}\\right)} r^{2}\\right)} \\cos\\left({\\theta}\\right)^{2}} \\\\ \\Gamma_{ \\phantom{\\, t} \\, t \\, {\\theta} }^{ \\, t \\phantom{\\, t} \\phantom{\\, {\\theta}} } & = & \\frac{{\\left(a^{2} q^{2} - 2 \\, a^{2} m r\\right)} \\cos\\left({\\theta}\\right) \\sin\\left({\\theta}\\right)}{a^{4} \\cos\\left({\\theta}\\right)^{4} + 2 \\, a^{2} r^{2} \\cos\\left({\\theta}\\right)^{2} + r^{4}} \\\\ \\Gamma_{ \\phantom{\\, t} \\, r \\, {\\phi} }^{ \\, t \\phantom{\\, r} \\phantom{\\, {\\phi}} } & = & -\\frac{a^{3} q^{2} r - a^{3} m r^{2} + 2 \\, a q^{2} r^{3} - 3 \\, a m r^{4} - {\\left(a^{5} m + a^{3} q^{2} r - a^{3} m r^{2}\\right)} \\cos\\left({\\theta}\\right)^{4} + {\\left(a^{5} m - 2 \\, a q^{2} r^{3} + 3 \\, a m r^{4}\\right)} \\cos\\left({\\theta}\\right)^{2}}{2 \\, m r^{5} - r^{6} - {\\left(a^{2} + q^{2}\\right)} r^{4} - {\\left(a^{6} + a^{4} q^{2} - 2 \\, a^{4} m r + a^{4} r^{2}\\right)} \\cos\\left({\\theta}\\right)^{4} + 2 \\, {\\left(2 \\, a^{2} m r^{3} - a^{2} r^{4} - {\\left(a^{4} + a^{2} q^{2}\\right)} r^{2}\\right)} \\cos\\left({\\theta}\\right)^{2}} \\\\ \\Gamma_{ \\phantom{\\, t} \\, {\\theta} \\, {\\phi} }^{ \\, t \\phantom{\\, {\\theta}} \\phantom{\\, {\\phi}} } & = & \\frac{{\\left(a^{5} q^{2} - 2 \\, a^{5} m r\\right)} \\cos\\left({\\theta}\\right) \\sin\\left({\\theta}\\right)^{5} - {\\left(a^{5} q^{2} - 2 \\, a^{5} m r + a^{3} q^{2} r^{2} - 2 \\, a^{3} m r^{3}\\right)} \\cos\\left({\\theta}\\right) \\sin\\left({\\theta}\\right)^{3}}{a^{6} \\cos\\left({\\theta}\\right)^{6} + 3 \\, a^{4} r^{2} \\cos\\left({\\theta}\\right)^{4} + 3 \\, a^{2} r^{4} \\cos\\left({\\theta}\\right)^{2} + r^{6}} \\\\ \\Gamma_{ \\phantom{\\, r} \\, t \\, t }^{ \\, r \\phantom{\\, t} \\phantom{\\, t} } & = & \\frac{m r^{4} - {\\left(2 \\, m^{2} + q^{2}\\right)} r^{3} + {\\left(a^{2} m + 3 \\, m q^{2}\\right)} r^{2} - {\\left(a^{4} m + a^{2} m q^{2} - 2 \\, a^{2} m^{2} r + a^{2} m r^{2}\\right)} \\cos\\left({\\theta}\\right)^{2} - {\\left(a^{2} q^{2} + q^{4}\\right)} r}{a^{6} \\cos\\left({\\theta}\\right)^{6} + 3 \\, a^{4} r^{2} \\cos\\left({\\theta}\\right)^{4} + 3 \\, a^{2} r^{4} \\cos\\left({\\theta}\\right)^{2} + r^{6}} \\\\ \\Gamma_{ \\phantom{\\, r} \\, t \\, {\\phi} }^{ \\, r \\phantom{\\, t} \\phantom{\\, {\\phi}} } & = & -\\frac{{\\left(a m r^{4} - {\\left(2 \\, a m^{2} + a q^{2}\\right)} r^{3} + {\\left(a^{3} m + 3 \\, a m q^{2}\\right)} r^{2} - {\\left(a^{5} m + a^{3} m q^{2} - 2 \\, a^{3} m^{2} r + a^{3} m r^{2}\\right)} \\cos\\left({\\theta}\\right)^{2} - {\\left(a^{3} q^{2} + a q^{4}\\right)} r\\right)} \\sin\\left({\\theta}\\right)^{2}}{a^{6} \\cos\\left({\\theta}\\right)^{6} + 3 \\, a^{4} r^{2} \\cos\\left({\\theta}\\right)^{4} + 3 \\, a^{2} r^{4} \\cos\\left({\\theta}\\right)^{2} + r^{6}} \\\\ \\Gamma_{ \\phantom{\\, r} \\, r \\, r }^{ \\, r \\phantom{\\, r} \\phantom{\\, r} } & = & -\\frac{a^{2} m + q^{2} r - m r^{2} - {\\left(a^{2} m - a^{2} r\\right)} \\sin\\left({\\theta}\\right)^{2}}{2 \\, m r^{3} - r^{4} - {\\left(a^{2} + q^{2}\\right)} r^{2} - {\\left(a^{4} + a^{2} q^{2} - 2 \\, a^{2} m r + a^{2} r^{2}\\right)} \\cos\\left({\\theta}\\right)^{2}} \\\\ \\Gamma_{ \\phantom{\\, r} \\, r \\, {\\theta} }^{ \\, r \\phantom{\\, r} \\phantom{\\, {\\theta}} } & = & -\\frac{a^{2} \\cos\\left({\\theta}\\right) \\sin\\left({\\theta}\\right)}{a^{2} \\cos\\left({\\theta}\\right)^{2} + r^{2}} \\\\ \\Gamma_{ \\phantom{\\, r} \\, {\\theta} \\, {\\theta} }^{ \\, r \\phantom{\\, {\\theta}} \\phantom{\\, {\\theta}} } & = & \\frac{2 \\, m r^{2} - r^{3} - {\\left(a^{2} + q^{2}\\right)} r}{a^{2} \\cos\\left({\\theta}\\right)^{2} + r^{2}} \\\\ \\Gamma_{ \\phantom{\\, r} \\, {\\phi} \\, {\\phi} }^{ \\, r \\phantom{\\, {\\phi}} \\phantom{\\, {\\phi}} } & = & \\frac{{\\left(a^{2} m r^{4} - {\\left(2 \\, a^{2} m^{2} + a^{2} q^{2}\\right)} r^{3} + {\\left(a^{4} m + 3 \\, a^{2} m q^{2}\\right)} r^{2} - {\\left(a^{6} m + a^{4} m q^{2} - 2 \\, a^{4} m^{2} r + a^{4} m r^{2}\\right)} \\cos\\left({\\theta}\\right)^{2} - {\\left(a^{4} q^{2} + a^{2} q^{4}\\right)} r\\right)} \\sin\\left({\\theta}\\right)^{4} + {\\left(2 \\, m r^{6} - r^{7} - {\\left(a^{2} + q^{2}\\right)} r^{5} + {\\left(2 \\, a^{4} m r^{2} - a^{4} r^{3} - {\\left(a^{6} + a^{4} q^{2}\\right)} r\\right)} \\cos\\left({\\theta}\\right)^{4} + 2 \\, {\\left(2 \\, a^{2} m r^{4} - a^{2} r^{5} - {\\left(a^{4} + a^{2} q^{2}\\right)} r^{3}\\right)} \\cos\\left({\\theta}\\right)^{2}\\right)} \\sin\\left({\\theta}\\right)^{2}}{a^{6} \\cos\\left({\\theta}\\right)^{6} + 3 \\, a^{4} r^{2} \\cos\\left({\\theta}\\right)^{4} + 3 \\, a^{2} r^{4} \\cos\\left({\\theta}\\right)^{2} + r^{6}} \\\\ \\Gamma_{ \\phantom{\\, {\\theta}} \\, t \\, t }^{ \\, {\\theta} \\phantom{\\, t} \\phantom{\\, t} } & = & \\frac{{\\left(a^{2} q^{2} - 2 \\, a^{2} m r\\right)} \\cos\\left({\\theta}\\right) \\sin\\left({\\theta}\\right)}{a^{6} \\cos\\left({\\theta}\\right)^{6} + 3 \\, a^{4} r^{2} \\cos\\left({\\theta}\\right)^{4} + 3 \\, a^{2} r^{4} \\cos\\left({\\theta}\\right)^{2} + r^{6}} \\\\ \\Gamma_{ \\phantom{\\, {\\theta}} \\, t \\, {\\phi} }^{ \\, {\\theta} \\phantom{\\, t} \\phantom{\\, {\\phi}} } & = & -\\frac{{\\left(a^{3} q^{2} - 2 \\, a^{3} m r + a q^{2} r^{2} - 2 \\, a m r^{3}\\right)} \\cos\\left({\\theta}\\right) \\sin\\left({\\theta}\\right)}{a^{6} \\cos\\left({\\theta}\\right)^{6} + 3 \\, a^{4} r^{2} \\cos\\left({\\theta}\\right)^{4} + 3 \\, a^{2} r^{4} \\cos\\left({\\theta}\\right)^{2} + r^{6}} \\\\ \\Gamma_{ \\phantom{\\, {\\theta}} \\, r \\, r }^{ \\, {\\theta} \\phantom{\\, r} \\phantom{\\, r} } & = & -\\frac{a^{2} \\cos\\left({\\theta}\\right) \\sin\\left({\\theta}\\right)}{2 \\, m r^{3} - r^{4} - {\\left(a^{2} + q^{2}\\right)} r^{2} - {\\left(a^{4} + a^{2} q^{2} - 2 \\, a^{2} m r + a^{2} r^{2}\\right)} \\cos\\left({\\theta}\\right)^{2}} \\\\ \\Gamma_{ \\phantom{\\, {\\theta}} \\, r \\, {\\theta} }^{ \\, {\\theta} \\phantom{\\, r} \\phantom{\\, {\\theta}} } & = & \\frac{r}{a^{2} \\cos\\left({\\theta}\\right)^{2} + r^{2}} \\\\ \\Gamma_{ \\phantom{\\, {\\theta}} \\, {\\theta} \\, {\\theta} }^{ \\, {\\theta} \\phantom{\\, {\\theta}} \\phantom{\\, {\\theta}} } & = & -\\frac{a^{2} \\cos\\left({\\theta}\\right) \\sin\\left({\\theta}\\right)}{a^{2} \\cos\\left({\\theta}\\right)^{2} + r^{2}} \\\\ \\Gamma_{ \\phantom{\\, {\\theta}} \\, {\\phi} \\, {\\phi} }^{ \\, {\\theta} \\phantom{\\, {\\phi}} \\phantom{\\, {\\phi}} } & = & -\\frac{{\\left({\\left(a^{6} + a^{4} q^{2} - 2 \\, a^{4} m r + a^{4} r^{2}\\right)} \\cos\\left({\\theta}\\right)^{5} - 2 \\, {\\left(2 \\, a^{2} m r^{3} - a^{2} r^{4} - {\\left(a^{4} + a^{2} q^{2}\\right)} r^{2}\\right)} \\cos\\left({\\theta}\\right)^{3} - {\\left(a^{4} q^{2} - 2 \\, a^{4} m r + 2 \\, a^{2} q^{2} r^{2} - 4 \\, a^{2} m r^{3} - a^{2} r^{4} - r^{6}\\right)} \\cos\\left({\\theta}\\right)\\right)} \\sin\\left({\\theta}\\right)}{a^{6} \\cos\\left({\\theta}\\right)^{6} + 3 \\, a^{4} r^{2} \\cos\\left({\\theta}\\right)^{4} + 3 \\, a^{2} r^{4} \\cos\\left({\\theta}\\right)^{2} + r^{6}} \\\\ \\Gamma_{ \\phantom{\\, {\\phi}} \\, t \\, r }^{ \\, {\\phi} \\phantom{\\, t} \\phantom{\\, r} } & = & \\frac{a^{3} m \\cos\\left({\\theta}\\right)^{2} + a q^{2} r - a m r^{2}}{2 \\, m r^{5} - r^{6} - {\\left(a^{2} + q^{2}\\right)} r^{4} - {\\left(a^{6} + a^{4} q^{2} - 2 \\, a^{4} m r + a^{4} r^{2}\\right)} \\cos\\left({\\theta}\\right)^{4} + 2 \\, {\\left(2 \\, a^{2} m r^{3} - a^{2} r^{4} - {\\left(a^{4} + a^{2} q^{2}\\right)} r^{2}\\right)} \\cos\\left({\\theta}\\right)^{2}} \\\\ \\Gamma_{ \\phantom{\\, {\\phi}} \\, t \\, {\\theta} }^{ \\, {\\phi} \\phantom{\\, t} \\phantom{\\, {\\theta}} } & = & \\frac{{\\left(a q^{2} - 2 \\, a m r\\right)} \\cos\\left({\\theta}\\right)}{{\\left(a^{4} \\cos\\left({\\theta}\\right)^{4} + 2 \\, a^{2} r^{2} \\cos\\left({\\theta}\\right)^{2} + r^{4}\\right)} \\sin\\left({\\theta}\\right)} \\\\ \\Gamma_{ \\phantom{\\, {\\phi}} \\, r \\, {\\phi} }^{ \\, {\\phi} \\phantom{\\, r} \\phantom{\\, {\\phi}} } & = & -\\frac{a^{2} q^{2} r - a^{2} m r^{2} + q^{2} r^{3} - 2 \\, m r^{4} + r^{5} - {\\left(a^{4} m - a^{4} r\\right)} \\cos\\left({\\theta}\\right)^{4} + {\\left(a^{4} m - a^{2} m r^{2} + 2 \\, a^{2} r^{3}\\right)} \\cos\\left({\\theta}\\right)^{2}}{2 \\, m r^{5} - r^{6} - {\\left(a^{2} + q^{2}\\right)} r^{4} - {\\left(a^{6} + a^{4} q^{2} - 2 \\, a^{4} m r + a^{4} r^{2}\\right)} \\cos\\left({\\theta}\\right)^{4} + 2 \\, {\\left(2 \\, a^{2} m r^{3} - a^{2} r^{4} - {\\left(a^{4} + a^{2} q^{2}\\right)} r^{2}\\right)} \\cos\\left({\\theta}\\right)^{2}} \\\\ \\Gamma_{ \\phantom{\\, {\\phi}} \\, {\\theta} \\, {\\phi} }^{ \\, {\\phi} \\phantom{\\, {\\theta}} \\phantom{\\, {\\phi}} } & = & \\frac{a^{4} \\cos\\left({\\theta}\\right) \\sin\\left({\\theta}\\right)^{4} - {\\left(2 \\, a^{4} + a^{2} q^{2} - 2 \\, a^{2} m r + 2 \\, a^{2} r^{2}\\right)} \\cos\\left({\\theta}\\right) \\sin\\left({\\theta}\\right)^{2} + {\\left(a^{4} + 2 \\, a^{2} r^{2} + r^{4}\\right)} \\cos\\left({\\theta}\\right)}{{\\left(a^{4} \\cos\\left({\\theta}\\right)^{4} + 2 \\, a^{2} r^{2} \\cos\\left({\\theta}\\right)^{2} + r^{4}\\right)} \\sin\\left({\\theta}\\right)} \\end{array}</script></html>"
      ],
      "text/latex": [
       "\\begin{math}\n",
       "\\newcommand{\\Bold}[1]{\\mathbf{#1}}\\begin{array}{lcl} \\Gamma_{ \\phantom{\\, t} \\, t \\, r }^{ \\, t \\phantom{\\, t} \\phantom{\\, r} } & = & \\frac{a^{4} m + a^{2} q^{2} r + q^{2} r^{3} - m r^{4} - {\\left(a^{4} m + a^{2} m r^{2}\\right)} \\sin\\left({\\theta}\\right)^{2}}{2 \\, m r^{5} - r^{6} - {\\left(a^{2} + q^{2}\\right)} r^{4} - {\\left(a^{6} + a^{4} q^{2} - 2 \\, a^{4} m r + a^{4} r^{2}\\right)} \\cos\\left({\\theta}\\right)^{4} + 2 \\, {\\left(2 \\, a^{2} m r^{3} - a^{2} r^{4} - {\\left(a^{4} + a^{2} q^{2}\\right)} r^{2}\\right)} \\cos\\left({\\theta}\\right)^{2}} \\\\ \\Gamma_{ \\phantom{\\, t} \\, t \\, {\\theta} }^{ \\, t \\phantom{\\, t} \\phantom{\\, {\\theta}} } & = & \\frac{{\\left(a^{2} q^{2} - 2 \\, a^{2} m r\\right)} \\cos\\left({\\theta}\\right) \\sin\\left({\\theta}\\right)}{a^{4} \\cos\\left({\\theta}\\right)^{4} + 2 \\, a^{2} r^{2} \\cos\\left({\\theta}\\right)^{2} + r^{4}} \\\\ \\Gamma_{ \\phantom{\\, t} \\, r \\, {\\phi} }^{ \\, t \\phantom{\\, r} \\phantom{\\, {\\phi}} } & = & -\\frac{a^{3} q^{2} r - a^{3} m r^{2} + 2 \\, a q^{2} r^{3} - 3 \\, a m r^{4} - {\\left(a^{5} m + a^{3} q^{2} r - a^{3} m r^{2}\\right)} \\cos\\left({\\theta}\\right)^{4} + {\\left(a^{5} m - 2 \\, a q^{2} r^{3} + 3 \\, a m r^{4}\\right)} \\cos\\left({\\theta}\\right)^{2}}{2 \\, m r^{5} - r^{6} - {\\left(a^{2} + q^{2}\\right)} r^{4} - {\\left(a^{6} + a^{4} q^{2} - 2 \\, a^{4} m r + a^{4} r^{2}\\right)} \\cos\\left({\\theta}\\right)^{4} + 2 \\, {\\left(2 \\, a^{2} m r^{3} - a^{2} r^{4} - {\\left(a^{4} + a^{2} q^{2}\\right)} r^{2}\\right)} \\cos\\left({\\theta}\\right)^{2}} \\\\ \\Gamma_{ \\phantom{\\, t} \\, {\\theta} \\, {\\phi} }^{ \\, t \\phantom{\\, {\\theta}} \\phantom{\\, {\\phi}} } & = & \\frac{{\\left(a^{5} q^{2} - 2 \\, a^{5} m r\\right)} \\cos\\left({\\theta}\\right) \\sin\\left({\\theta}\\right)^{5} - {\\left(a^{5} q^{2} - 2 \\, a^{5} m r + a^{3} q^{2} r^{2} - 2 \\, a^{3} m r^{3}\\right)} \\cos\\left({\\theta}\\right) \\sin\\left({\\theta}\\right)^{3}}{a^{6} \\cos\\left({\\theta}\\right)^{6} + 3 \\, a^{4} r^{2} \\cos\\left({\\theta}\\right)^{4} + 3 \\, a^{2} r^{4} \\cos\\left({\\theta}\\right)^{2} + r^{6}} \\\\ \\Gamma_{ \\phantom{\\, r} \\, t \\, t }^{ \\, r \\phantom{\\, t} \\phantom{\\, t} } & = & \\frac{m r^{4} - {\\left(2 \\, m^{2} + q^{2}\\right)} r^{3} + {\\left(a^{2} m + 3 \\, m q^{2}\\right)} r^{2} - {\\left(a^{4} m + a^{2} m q^{2} - 2 \\, a^{2} m^{2} r + a^{2} m r^{2}\\right)} \\cos\\left({\\theta}\\right)^{2} - {\\left(a^{2} q^{2} + q^{4}\\right)} r}{a^{6} \\cos\\left({\\theta}\\right)^{6} + 3 \\, a^{4} r^{2} \\cos\\left({\\theta}\\right)^{4} + 3 \\, a^{2} r^{4} \\cos\\left({\\theta}\\right)^{2} + r^{6}} \\\\ \\Gamma_{ \\phantom{\\, r} \\, t \\, {\\phi} }^{ \\, r \\phantom{\\, t} \\phantom{\\, {\\phi}} } & = & -\\frac{{\\left(a m r^{4} - {\\left(2 \\, a m^{2} + a q^{2}\\right)} r^{3} + {\\left(a^{3} m + 3 \\, a m q^{2}\\right)} r^{2} - {\\left(a^{5} m + a^{3} m q^{2} - 2 \\, a^{3} m^{2} r + a^{3} m r^{2}\\right)} \\cos\\left({\\theta}\\right)^{2} - {\\left(a^{3} q^{2} + a q^{4}\\right)} r\\right)} \\sin\\left({\\theta}\\right)^{2}}{a^{6} \\cos\\left({\\theta}\\right)^{6} + 3 \\, a^{4} r^{2} \\cos\\left({\\theta}\\right)^{4} + 3 \\, a^{2} r^{4} \\cos\\left({\\theta}\\right)^{2} + r^{6}} \\\\ \\Gamma_{ \\phantom{\\, r} \\, r \\, r }^{ \\, r \\phantom{\\, r} \\phantom{\\, r} } & = & -\\frac{a^{2} m + q^{2} r - m r^{2} - {\\left(a^{2} m - a^{2} r\\right)} \\sin\\left({\\theta}\\right)^{2}}{2 \\, m r^{3} - r^{4} - {\\left(a^{2} + q^{2}\\right)} r^{2} - {\\left(a^{4} + a^{2} q^{2} - 2 \\, a^{2} m r + a^{2} r^{2}\\right)} \\cos\\left({\\theta}\\right)^{2}} \\\\ \\Gamma_{ \\phantom{\\, r} \\, r \\, {\\theta} }^{ \\, r \\phantom{\\, r} \\phantom{\\, {\\theta}} } & = & -\\frac{a^{2} \\cos\\left({\\theta}\\right) \\sin\\left({\\theta}\\right)}{a^{2} \\cos\\left({\\theta}\\right)^{2} + r^{2}} \\\\ \\Gamma_{ \\phantom{\\, r} \\, {\\theta} \\, {\\theta} }^{ \\, r \\phantom{\\, {\\theta}} \\phantom{\\, {\\theta}} } & = & \\frac{2 \\, m r^{2} - r^{3} - {\\left(a^{2} + q^{2}\\right)} r}{a^{2} \\cos\\left({\\theta}\\right)^{2} + r^{2}} \\\\ \\Gamma_{ \\phantom{\\, r} \\, {\\phi} \\, {\\phi} }^{ \\, r \\phantom{\\, {\\phi}} \\phantom{\\, {\\phi}} } & = & \\frac{{\\left(a^{2} m r^{4} - {\\left(2 \\, a^{2} m^{2} + a^{2} q^{2}\\right)} r^{3} + {\\left(a^{4} m + 3 \\, a^{2} m q^{2}\\right)} r^{2} - {\\left(a^{6} m + a^{4} m q^{2} - 2 \\, a^{4} m^{2} r + a^{4} m r^{2}\\right)} \\cos\\left({\\theta}\\right)^{2} - {\\left(a^{4} q^{2} + a^{2} q^{4}\\right)} r\\right)} \\sin\\left({\\theta}\\right)^{4} + {\\left(2 \\, m r^{6} - r^{7} - {\\left(a^{2} + q^{2}\\right)} r^{5} + {\\left(2 \\, a^{4} m r^{2} - a^{4} r^{3} - {\\left(a^{6} + a^{4} q^{2}\\right)} r\\right)} \\cos\\left({\\theta}\\right)^{4} + 2 \\, {\\left(2 \\, a^{2} m r^{4} - a^{2} r^{5} - {\\left(a^{4} + a^{2} q^{2}\\right)} r^{3}\\right)} \\cos\\left({\\theta}\\right)^{2}\\right)} \\sin\\left({\\theta}\\right)^{2}}{a^{6} \\cos\\left({\\theta}\\right)^{6} + 3 \\, a^{4} r^{2} \\cos\\left({\\theta}\\right)^{4} + 3 \\, a^{2} r^{4} \\cos\\left({\\theta}\\right)^{2} + r^{6}} \\\\ \\Gamma_{ \\phantom{\\, {\\theta}} \\, t \\, t }^{ \\, {\\theta} \\phantom{\\, t} \\phantom{\\, t} } & = & \\frac{{\\left(a^{2} q^{2} - 2 \\, a^{2} m r\\right)} \\cos\\left({\\theta}\\right) \\sin\\left({\\theta}\\right)}{a^{6} \\cos\\left({\\theta}\\right)^{6} + 3 \\, a^{4} r^{2} \\cos\\left({\\theta}\\right)^{4} + 3 \\, a^{2} r^{4} \\cos\\left({\\theta}\\right)^{2} + r^{6}} \\\\ \\Gamma_{ \\phantom{\\, {\\theta}} \\, t \\, {\\phi} }^{ \\, {\\theta} \\phantom{\\, t} \\phantom{\\, {\\phi}} } & = & -\\frac{{\\left(a^{3} q^{2} - 2 \\, a^{3} m r + a q^{2} r^{2} - 2 \\, a m r^{3}\\right)} \\cos\\left({\\theta}\\right) \\sin\\left({\\theta}\\right)}{a^{6} \\cos\\left({\\theta}\\right)^{6} + 3 \\, a^{4} r^{2} \\cos\\left({\\theta}\\right)^{4} + 3 \\, a^{2} r^{4} \\cos\\left({\\theta}\\right)^{2} + r^{6}} \\\\ \\Gamma_{ \\phantom{\\, {\\theta}} \\, r \\, r }^{ \\, {\\theta} \\phantom{\\, r} \\phantom{\\, r} } & = & -\\frac{a^{2} \\cos\\left({\\theta}\\right) \\sin\\left({\\theta}\\right)}{2 \\, m r^{3} - r^{4} - {\\left(a^{2} + q^{2}\\right)} r^{2} - {\\left(a^{4} + a^{2} q^{2} - 2 \\, a^{2} m r + a^{2} r^{2}\\right)} \\cos\\left({\\theta}\\right)^{2}} \\\\ \\Gamma_{ \\phantom{\\, {\\theta}} \\, r \\, {\\theta} }^{ \\, {\\theta} \\phantom{\\, r} \\phantom{\\, {\\theta}} } & = & \\frac{r}{a^{2} \\cos\\left({\\theta}\\right)^{2} + r^{2}} \\\\ \\Gamma_{ \\phantom{\\, {\\theta}} \\, {\\theta} \\, {\\theta} }^{ \\, {\\theta} \\phantom{\\, {\\theta}} \\phantom{\\, {\\theta}} } & = & -\\frac{a^{2} \\cos\\left({\\theta}\\right) \\sin\\left({\\theta}\\right)}{a^{2} \\cos\\left({\\theta}\\right)^{2} + r^{2}} \\\\ \\Gamma_{ \\phantom{\\, {\\theta}} \\, {\\phi} \\, {\\phi} }^{ \\, {\\theta} \\phantom{\\, {\\phi}} \\phantom{\\, {\\phi}} } & = & -\\frac{{\\left({\\left(a^{6} + a^{4} q^{2} - 2 \\, a^{4} m r + a^{4} r^{2}\\right)} \\cos\\left({\\theta}\\right)^{5} - 2 \\, {\\left(2 \\, a^{2} m r^{3} - a^{2} r^{4} - {\\left(a^{4} + a^{2} q^{2}\\right)} r^{2}\\right)} \\cos\\left({\\theta}\\right)^{3} - {\\left(a^{4} q^{2} - 2 \\, a^{4} m r + 2 \\, a^{2} q^{2} r^{2} - 4 \\, a^{2} m r^{3} - a^{2} r^{4} - r^{6}\\right)} \\cos\\left({\\theta}\\right)\\right)} \\sin\\left({\\theta}\\right)}{a^{6} \\cos\\left({\\theta}\\right)^{6} + 3 \\, a^{4} r^{2} \\cos\\left({\\theta}\\right)^{4} + 3 \\, a^{2} r^{4} \\cos\\left({\\theta}\\right)^{2} + r^{6}} \\\\ \\Gamma_{ \\phantom{\\, {\\phi}} \\, t \\, r }^{ \\, {\\phi} \\phantom{\\, t} \\phantom{\\, r} } & = & \\frac{a^{3} m \\cos\\left({\\theta}\\right)^{2} + a q^{2} r - a m r^{2}}{2 \\, m r^{5} - r^{6} - {\\left(a^{2} + q^{2}\\right)} r^{4} - {\\left(a^{6} + a^{4} q^{2} - 2 \\, a^{4} m r + a^{4} r^{2}\\right)} \\cos\\left({\\theta}\\right)^{4} + 2 \\, {\\left(2 \\, a^{2} m r^{3} - a^{2} r^{4} - {\\left(a^{4} + a^{2} q^{2}\\right)} r^{2}\\right)} \\cos\\left({\\theta}\\right)^{2}} \\\\ \\Gamma_{ \\phantom{\\, {\\phi}} \\, t \\, {\\theta} }^{ \\, {\\phi} \\phantom{\\, t} \\phantom{\\, {\\theta}} } & = & \\frac{{\\left(a q^{2} - 2 \\, a m r\\right)} \\cos\\left({\\theta}\\right)}{{\\left(a^{4} \\cos\\left({\\theta}\\right)^{4} + 2 \\, a^{2} r^{2} \\cos\\left({\\theta}\\right)^{2} + r^{4}\\right)} \\sin\\left({\\theta}\\right)} \\\\ \\Gamma_{ \\phantom{\\, {\\phi}} \\, r \\, {\\phi} }^{ \\, {\\phi} \\phantom{\\, r} \\phantom{\\, {\\phi}} } & = & -\\frac{a^{2} q^{2} r - a^{2} m r^{2} + q^{2} r^{3} - 2 \\, m r^{4} + r^{5} - {\\left(a^{4} m - a^{4} r\\right)} \\cos\\left({\\theta}\\right)^{4} + {\\left(a^{4} m - a^{2} m r^{2} + 2 \\, a^{2} r^{3}\\right)} \\cos\\left({\\theta}\\right)^{2}}{2 \\, m r^{5} - r^{6} - {\\left(a^{2} + q^{2}\\right)} r^{4} - {\\left(a^{6} + a^{4} q^{2} - 2 \\, a^{4} m r + a^{4} r^{2}\\right)} \\cos\\left({\\theta}\\right)^{4} + 2 \\, {\\left(2 \\, a^{2} m r^{3} - a^{2} r^{4} - {\\left(a^{4} + a^{2} q^{2}\\right)} r^{2}\\right)} \\cos\\left({\\theta}\\right)^{2}} \\\\ \\Gamma_{ \\phantom{\\, {\\phi}} \\, {\\theta} \\, {\\phi} }^{ \\, {\\phi} \\phantom{\\, {\\theta}} \\phantom{\\, {\\phi}} } & = & \\frac{a^{4} \\cos\\left({\\theta}\\right) \\sin\\left({\\theta}\\right)^{4} - {\\left(2 \\, a^{4} + a^{2} q^{2} - 2 \\, a^{2} m r + 2 \\, a^{2} r^{2}\\right)} \\cos\\left({\\theta}\\right) \\sin\\left({\\theta}\\right)^{2} + {\\left(a^{4} + 2 \\, a^{2} r^{2} + r^{4}\\right)} \\cos\\left({\\theta}\\right)}{{\\left(a^{4} \\cos\\left({\\theta}\\right)^{4} + 2 \\, a^{2} r^{2} \\cos\\left({\\theta}\\right)^{2} + r^{4}\\right)} \\sin\\left({\\theta}\\right)} \\end{array}\n",
       "\\end{math}"
      ],
      "text/plain": [
       "Gam^t_t,r = (a^4*m + a^2*q^2*r + q^2*r^3 - m*r^4 - (a^4*m + a^2*m*r^2)*sin(th)^2)/(2*m*r^5 - r^6 - (a^2 + q^2)*r^4 - (a^6 + a^4*q^2 - 2*a^4*m*r + a^4*r^2)*cos(th)^4 + 2*(2*a^2*m*r^3 - a^2*r^4 - (a^4 + a^2*q^2)*r^2)*cos(th)^2) \n",
       "Gam^t_t,th = (a^2*q^2 - 2*a^2*m*r)*cos(th)*sin(th)/(a^4*cos(th)^4 + 2*a^2*r^2*cos(th)^2 + r^4) \n",
       "Gam^t_r,ph = -(a^3*q^2*r - a^3*m*r^2 + 2*a*q^2*r^3 - 3*a*m*r^4 - (a^5*m + a^3*q^2*r - a^3*m*r^2)*cos(th)^4 + (a^5*m - 2*a*q^2*r^3 + 3*a*m*r^4)*cos(th)^2)/(2*m*r^5 - r^6 - (a^2 + q^2)*r^4 - (a^6 + a^4*q^2 - 2*a^4*m*r + a^4*r^2)*cos(th)^4 + 2*(2*a^2*m*r^3 - a^2*r^4 - (a^4 + a^2*q^2)*r^2)*cos(th)^2) \n",
       "Gam^t_th,ph = ((a^5*q^2 - 2*a^5*m*r)*cos(th)*sin(th)^5 - (a^5*q^2 - 2*a^5*m*r + a^3*q^2*r^2 - 2*a^3*m*r^3)*cos(th)*sin(th)^3)/(a^6*cos(th)^6 + 3*a^4*r^2*cos(th)^4 + 3*a^2*r^4*cos(th)^2 + r^6) \n",
       "Gam^r_t,t = (m*r^4 - (2*m^2 + q^2)*r^3 + (a^2*m + 3*m*q^2)*r^2 - (a^4*m + a^2*m*q^2 - 2*a^2*m^2*r + a^2*m*r^2)*cos(th)^2 - (a^2*q^2 + q^4)*r)/(a^6*cos(th)^6 + 3*a^4*r^2*cos(th)^4 + 3*a^2*r^4*cos(th)^2 + r^6) \n",
       "Gam^r_t,ph = -(a*m*r^4 - (2*a*m^2 + a*q^2)*r^3 + (a^3*m + 3*a*m*q^2)*r^2 - (a^5*m + a^3*m*q^2 - 2*a^3*m^2*r + a^3*m*r^2)*cos(th)^2 - (a^3*q^2 + a*q^4)*r)*sin(th)^2/(a^6*cos(th)^6 + 3*a^4*r^2*cos(th)^4 + 3*a^2*r^4*cos(th)^2 + r^6) \n",
       "Gam^r_r,r = -(a^2*m + q^2*r - m*r^2 - (a^2*m - a^2*r)*sin(th)^2)/(2*m*r^3 - r^4 - (a^2 + q^2)*r^2 - (a^4 + a^2*q^2 - 2*a^2*m*r + a^2*r^2)*cos(th)^2) \n",
       "Gam^r_r,th = -a^2*cos(th)*sin(th)/(a^2*cos(th)^2 + r^2) \n",
       "Gam^r_th,th = (2*m*r^2 - r^3 - (a^2 + q^2)*r)/(a^2*cos(th)^2 + r^2) \n",
       "Gam^r_ph,ph = ((a^2*m*r^4 - (2*a^2*m^2 + a^2*q^2)*r^3 + (a^4*m + 3*a^2*m*q^2)*r^2 - (a^6*m + a^4*m*q^2 - 2*a^4*m^2*r + a^4*m*r^2)*cos(th)^2 - (a^4*q^2 + a^2*q^4)*r)*sin(th)^4 + (2*m*r^6 - r^7 - (a^2 + q^2)*r^5 + (2*a^4*m*r^2 - a^4*r^3 - (a^6 + a^4*q^2)*r)*cos(th)^4 + 2*(2*a^2*m*r^4 - a^2*r^5 - (a^4 + a^2*q^2)*r^3)*cos(th)^2)*sin(th)^2)/(a^6*cos(th)^6 + 3*a^4*r^2*cos(th)^4 + 3*a^2*r^4*cos(th)^2 + r^6) \n",
       "Gam^th_t,t = (a^2*q^2 - 2*a^2*m*r)*cos(th)*sin(th)/(a^6*cos(th)^6 + 3*a^4*r^2*cos(th)^4 + 3*a^2*r^4*cos(th)^2 + r^6) \n",
       "Gam^th_t,ph = -(a^3*q^2 - 2*a^3*m*r + a*q^2*r^2 - 2*a*m*r^3)*cos(th)*sin(th)/(a^6*cos(th)^6 + 3*a^4*r^2*cos(th)^4 + 3*a^2*r^4*cos(th)^2 + r^6) \n",
       "Gam^th_r,r = -a^2*cos(th)*sin(th)/(2*m*r^3 - r^4 - (a^2 + q^2)*r^2 - (a^4 + a^2*q^2 - 2*a^2*m*r + a^2*r^2)*cos(th)^2) \n",
       "Gam^th_r,th = r/(a^2*cos(th)^2 + r^2) \n",
       "Gam^th_th,th = -a^2*cos(th)*sin(th)/(a^2*cos(th)^2 + r^2) \n",
       "Gam^th_ph,ph = -((a^6 + a^4*q^2 - 2*a^4*m*r + a^4*r^2)*cos(th)^5 - 2*(2*a^2*m*r^3 - a^2*r^4 - (a^4 + a^2*q^2)*r^2)*cos(th)^3 - (a^4*q^2 - 2*a^4*m*r + 2*a^2*q^2*r^2 - 4*a^2*m*r^3 - a^2*r^4 - r^6)*cos(th))*sin(th)/(a^6*cos(th)^6 + 3*a^4*r^2*cos(th)^4 + 3*a^2*r^4*cos(th)^2 + r^6) \n",
       "Gam^ph_t,r = (a^3*m*cos(th)^2 + a*q^2*r - a*m*r^2)/(2*m*r^5 - r^6 - (a^2 + q^2)*r^4 - (a^6 + a^4*q^2 - 2*a^4*m*r + a^4*r^2)*cos(th)^4 + 2*(2*a^2*m*r^3 - a^2*r^4 - (a^4 + a^2*q^2)*r^2)*cos(th)^2) \n",
       "Gam^ph_t,th = (a*q^2 - 2*a*m*r)*cos(th)/((a^4*cos(th)^4 + 2*a^2*r^2*cos(th)^2 + r^4)*sin(th)) \n",
       "Gam^ph_r,ph = -(a^2*q^2*r - a^2*m*r^2 + q^2*r^3 - 2*m*r^4 + r^5 - (a^4*m - a^4*r)*cos(th)^4 + (a^4*m - a^2*m*r^2 + 2*a^2*r^3)*cos(th)^2)/(2*m*r^5 - r^6 - (a^2 + q^2)*r^4 - (a^6 + a^4*q^2 - 2*a^4*m*r + a^4*r^2)*cos(th)^4 + 2*(2*a^2*m*r^3 - a^2*r^4 - (a^4 + a^2*q^2)*r^2)*cos(th)^2) \n",
       "Gam^ph_th,ph = (a^4*cos(th)*sin(th)^4 - (2*a^4 + a^2*q^2 - 2*a^2*m*r + 2*a^2*r^2)*cos(th)*sin(th)^2 + (a^4 + 2*a^2*r^2 + r^4)*cos(th))/((a^4*cos(th)^4 + 2*a^2*r^2*cos(th)^2 + r^4)*sin(th)) "
      ]
     },
     "execution_count": 23,
     "metadata": {},
     "output_type": "execute_result"
    }
   ],
   "source": [
    "g.christoffel_symbols_display()"
   ]
  },
  {
   "cell_type": "markdown",
   "metadata": {},
   "source": [
    "<h2>Killing vectors</h2>\n",
    "<p><span id=\"cell_outer_32\">The default vector frame on the spacetime manifold is the coordinate basis associated with Boyer-Lindquist coordinates:</span></p>"
   ]
  },
  {
   "cell_type": "code",
   "execution_count": 24,
   "metadata": {},
   "outputs": [
    {
     "data": {
      "text/html": [
       "<html><script type=\"math/tex; mode=display\">\\newcommand{\\Bold}[1]{\\mathbf{#1}}\\mathrm{True}</script></html>"
      ],
      "text/latex": [
       "\\begin{math}\n",
       "\\newcommand{\\Bold}[1]{\\mathbf{#1}}\\mathrm{True}\n",
       "\\end{math}"
      ],
      "text/plain": [
       "True"
      ]
     },
     "execution_count": 24,
     "metadata": {},
     "output_type": "execute_result"
    }
   ],
   "source": [
    "M.default_frame() is BL.frame()"
   ]
  },
  {
   "cell_type": "code",
   "execution_count": 25,
   "metadata": {},
   "outputs": [
    {
     "data": {
      "text/html": [
       "<html><script type=\"math/tex; mode=display\">\\newcommand{\\Bold}[1]{\\mathbf{#1}}\\left(\\mathcal{M}, \\left(\\frac{\\partial}{\\partial t },\\frac{\\partial}{\\partial r },\\frac{\\partial}{\\partial {\\theta} },\\frac{\\partial}{\\partial {\\phi} }\\right)\\right)</script></html>"
      ],
      "text/latex": [
       "\\begin{math}\n",
       "\\newcommand{\\Bold}[1]{\\mathbf{#1}}\\left(\\mathcal{M}, \\left(\\frac{\\partial}{\\partial t },\\frac{\\partial}{\\partial r },\\frac{\\partial}{\\partial {\\theta} },\\frac{\\partial}{\\partial {\\phi} }\\right)\\right)\n",
       "\\end{math}"
      ],
      "text/plain": [
       "Coordinate frame (M, (d/dt,d/dr,d/dth,d/dph))"
      ]
     },
     "execution_count": 25,
     "metadata": {},
     "output_type": "execute_result"
    }
   ],
   "source": [
    "BL.frame()"
   ]
  },
  {
   "cell_type": "markdown",
   "metadata": {},
   "source": [
    "<p>Let us consider the first vector field of this frame:</p>"
   ]
  },
  {
   "cell_type": "code",
   "execution_count": 26,
   "metadata": {},
   "outputs": [
    {
     "data": {
      "text/html": [
       "<html><script type=\"math/tex; mode=display\">\\newcommand{\\Bold}[1]{\\mathbf{#1}}\\frac{\\partial}{\\partial t }</script></html>"
      ],
      "text/latex": [
       "\\begin{math}\n",
       "\\newcommand{\\Bold}[1]{\\mathbf{#1}}\\frac{\\partial}{\\partial t }\n",
       "\\end{math}"
      ],
      "text/plain": [
       "Vector field d/dt on the 4-dimensional Lorentzian manifold M"
      ]
     },
     "execution_count": 26,
     "metadata": {},
     "output_type": "execute_result"
    }
   ],
   "source": [
    "xi = BL.frame()[0] ; xi"
   ]
  },
  {
   "cell_type": "code",
   "execution_count": 27,
   "metadata": {},
   "outputs": [
    {
     "name": "stdout",
     "output_type": "stream",
     "text": [
      "Vector field d/dt on the 4-dimensional Lorentzian manifold M\n"
     ]
    }
   ],
   "source": [
    "print(xi)"
   ]
  },
  {
   "cell_type": "markdown",
   "metadata": {},
   "source": [
    "<p><span id=\"cell_outer_35\">The 1-form associated to it by metric duality is</span></p>"
   ]
  },
  {
   "cell_type": "code",
   "execution_count": 28,
   "metadata": {},
   "outputs": [
    {
     "data": {
      "text/html": [
       "<html><script type=\"math/tex; mode=display\">\\newcommand{\\Bold}[1]{\\mathbf{#1}}\\left( -\\frac{q^{2} - 2 \\, m r}{a^{2} \\cos\\left({\\theta}\\right)^{2} + r^{2}} - 1 \\right) \\mathrm{d} t + \\left( \\frac{{\\left(q^{2} - 2 \\, m r\\right)} a \\sin\\left({\\theta}\\right)^{2}}{a^{2} \\cos\\left({\\theta}\\right)^{2} + r^{2}} \\right) \\mathrm{d} {\\phi}</script></html>"
      ],
      "text/latex": [
       "\\begin{math}\n",
       "\\newcommand{\\Bold}[1]{\\mathbf{#1}}\\left( -\\frac{q^{2} - 2 \\, m r}{a^{2} \\cos\\left({\\theta}\\right)^{2} + r^{2}} - 1 \\right) \\mathrm{d} t + \\left( \\frac{{\\left(q^{2} - 2 \\, m r\\right)} a \\sin\\left({\\theta}\\right)^{2}}{a^{2} \\cos\\left({\\theta}\\right)^{2} + r^{2}} \\right) \\mathrm{d} {\\phi}\n",
       "\\end{math}"
      ],
      "text/plain": [
       "(-(q^2 - 2*m*r)/(a^2*cos(th)^2 + r^2) - 1) dt + (q^2 - 2*m*r)*a*sin(th)^2/(a^2*cos(th)^2 + r^2) dph"
      ]
     },
     "execution_count": 28,
     "metadata": {},
     "output_type": "execute_result"
    }
   ],
   "source": [
    "xi_form = xi.down(g)\n",
    "xi_form.display()"
   ]
  },
  {
   "cell_type": "markdown",
   "metadata": {},
   "source": [
    "<p><span id=\"cell_outer_36\">Its covariant derivative is</span></p>"
   ]
  },
  {
   "cell_type": "code",
   "execution_count": 29,
   "metadata": {},
   "outputs": [
    {
     "name": "stdout",
     "output_type": "stream",
     "text": [
      "Tensor field of type (0,2) on the 4-dimensional Lorentzian manifold M\n"
     ]
    },
    {
     "data": {
      "text/html": [
       "<html><script type=\"math/tex; mode=display\">\\newcommand{\\Bold}[1]{\\mathbf{#1}}\\left( \\frac{m r^{4} - {\\left(2 \\, m^{2} + q^{2}\\right)} r^{3} + {\\left(a^{2} m + 3 \\, m q^{2}\\right)} r^{2} - {\\left(a^{4} m + a^{2} m q^{2} - 2 \\, a^{2} m^{2} r + a^{2} m r^{2}\\right)} \\cos\\left({\\theta}\\right)^{2} - {\\left(a^{2} q^{2} + q^{4}\\right)} r}{2 \\, m r^{5} - r^{6} - {\\left(a^{2} + q^{2}\\right)} r^{4} - {\\left(a^{6} + a^{4} q^{2} - 2 \\, a^{4} m r + a^{4} r^{2}\\right)} \\cos\\left({\\theta}\\right)^{4} + 2 \\, {\\left(2 \\, a^{2} m r^{3} - a^{2} r^{4} - {\\left(a^{4} + a^{2} q^{2}\\right)} r^{2}\\right)} \\cos\\left({\\theta}\\right)^{2}} \\right) \\mathrm{d} t\\otimes \\mathrm{d} r + \\left( -\\frac{{\\left(a^{2} q^{2} - 2 \\, a^{2} m r\\right)} \\cos\\left({\\theta}\\right) \\sin\\left({\\theta}\\right)}{a^{4} \\cos\\left({\\theta}\\right)^{4} + 2 \\, a^{2} r^{2} \\cos\\left({\\theta}\\right)^{2} + r^{4}} \\right) \\mathrm{d} t\\otimes \\mathrm{d} {\\theta} + \\left( -\\frac{m r^{4} - {\\left(2 \\, m^{2} + q^{2}\\right)} r^{3} + {\\left(a^{2} m + 3 \\, m q^{2}\\right)} r^{2} - {\\left(a^{4} m + a^{2} m q^{2} - 2 \\, a^{2} m^{2} r + a^{2} m r^{2}\\right)} \\cos\\left({\\theta}\\right)^{2} - {\\left(a^{2} q^{2} + q^{4}\\right)} r}{2 \\, m r^{5} - r^{6} - {\\left(a^{2} + q^{2}\\right)} r^{4} - {\\left(a^{6} + a^{4} q^{2} - 2 \\, a^{4} m r + a^{4} r^{2}\\right)} \\cos\\left({\\theta}\\right)^{4} + 2 \\, {\\left(2 \\, a^{2} m r^{3} - a^{2} r^{4} - {\\left(a^{4} + a^{2} q^{2}\\right)} r^{2}\\right)} \\cos\\left({\\theta}\\right)^{2}} \\right) \\mathrm{d} r\\otimes \\mathrm{d} t + \\left( -\\frac{a^{3} m \\cos\\left({\\theta}\\right)^{4} - a q^{2} r + a m r^{2} - {\\left(a^{3} m - a q^{2} r + a m r^{2}\\right)} \\cos\\left({\\theta}\\right)^{2}}{a^{4} \\cos\\left({\\theta}\\right)^{4} + 2 \\, a^{2} r^{2} \\cos\\left({\\theta}\\right)^{2} + r^{4}} \\right) \\mathrm{d} r\\otimes \\mathrm{d} {\\phi} + \\left( \\frac{{\\left(a^{2} q^{2} - 2 \\, a^{2} m r\\right)} \\cos\\left({\\theta}\\right) \\sin\\left({\\theta}\\right)}{a^{4} \\cos\\left({\\theta}\\right)^{4} + 2 \\, a^{2} r^{2} \\cos\\left({\\theta}\\right)^{2} + r^{4}} \\right) \\mathrm{d} {\\theta}\\otimes \\mathrm{d} t + \\left( -\\frac{{\\left(a^{3} q^{2} - 2 \\, a^{3} m r + a q^{2} r^{2} - 2 \\, a m r^{3}\\right)} \\cos\\left({\\theta}\\right) \\sin\\left({\\theta}\\right)}{a^{4} \\cos\\left({\\theta}\\right)^{4} + 2 \\, a^{2} r^{2} \\cos\\left({\\theta}\\right)^{2} + r^{4}} \\right) \\mathrm{d} {\\theta}\\otimes \\mathrm{d} {\\phi} + \\left( \\frac{a^{3} m \\cos\\left({\\theta}\\right)^{4} - a q^{2} r + a m r^{2} - {\\left(a^{3} m - a q^{2} r + a m r^{2}\\right)} \\cos\\left({\\theta}\\right)^{2}}{a^{4} \\cos\\left({\\theta}\\right)^{4} + 2 \\, a^{2} r^{2} \\cos\\left({\\theta}\\right)^{2} + r^{4}} \\right) \\mathrm{d} {\\phi}\\otimes \\mathrm{d} r + \\left( \\frac{{\\left(a^{3} q^{2} - 2 \\, a^{3} m r + a q^{2} r^{2} - 2 \\, a m r^{3}\\right)} \\cos\\left({\\theta}\\right) \\sin\\left({\\theta}\\right)}{a^{4} \\cos\\left({\\theta}\\right)^{4} + 2 \\, a^{2} r^{2} \\cos\\left({\\theta}\\right)^{2} + r^{4}} \\right) \\mathrm{d} {\\phi}\\otimes \\mathrm{d} {\\theta}</script></html>"
      ],
      "text/latex": [
       "\\begin{math}\n",
       "\\newcommand{\\Bold}[1]{\\mathbf{#1}}\\left( \\frac{m r^{4} - {\\left(2 \\, m^{2} + q^{2}\\right)} r^{3} + {\\left(a^{2} m + 3 \\, m q^{2}\\right)} r^{2} - {\\left(a^{4} m + a^{2} m q^{2} - 2 \\, a^{2} m^{2} r + a^{2} m r^{2}\\right)} \\cos\\left({\\theta}\\right)^{2} - {\\left(a^{2} q^{2} + q^{4}\\right)} r}{2 \\, m r^{5} - r^{6} - {\\left(a^{2} + q^{2}\\right)} r^{4} - {\\left(a^{6} + a^{4} q^{2} - 2 \\, a^{4} m r + a^{4} r^{2}\\right)} \\cos\\left({\\theta}\\right)^{4} + 2 \\, {\\left(2 \\, a^{2} m r^{3} - a^{2} r^{4} - {\\left(a^{4} + a^{2} q^{2}\\right)} r^{2}\\right)} \\cos\\left({\\theta}\\right)^{2}} \\right) \\mathrm{d} t\\otimes \\mathrm{d} r + \\left( -\\frac{{\\left(a^{2} q^{2} - 2 \\, a^{2} m r\\right)} \\cos\\left({\\theta}\\right) \\sin\\left({\\theta}\\right)}{a^{4} \\cos\\left({\\theta}\\right)^{4} + 2 \\, a^{2} r^{2} \\cos\\left({\\theta}\\right)^{2} + r^{4}} \\right) \\mathrm{d} t\\otimes \\mathrm{d} {\\theta} + \\left( -\\frac{m r^{4} - {\\left(2 \\, m^{2} + q^{2}\\right)} r^{3} + {\\left(a^{2} m + 3 \\, m q^{2}\\right)} r^{2} - {\\left(a^{4} m + a^{2} m q^{2} - 2 \\, a^{2} m^{2} r + a^{2} m r^{2}\\right)} \\cos\\left({\\theta}\\right)^{2} - {\\left(a^{2} q^{2} + q^{4}\\right)} r}{2 \\, m r^{5} - r^{6} - {\\left(a^{2} + q^{2}\\right)} r^{4} - {\\left(a^{6} + a^{4} q^{2} - 2 \\, a^{4} m r + a^{4} r^{2}\\right)} \\cos\\left({\\theta}\\right)^{4} + 2 \\, {\\left(2 \\, a^{2} m r^{3} - a^{2} r^{4} - {\\left(a^{4} + a^{2} q^{2}\\right)} r^{2}\\right)} \\cos\\left({\\theta}\\right)^{2}} \\right) \\mathrm{d} r\\otimes \\mathrm{d} t + \\left( -\\frac{a^{3} m \\cos\\left({\\theta}\\right)^{4} - a q^{2} r + a m r^{2} - {\\left(a^{3} m - a q^{2} r + a m r^{2}\\right)} \\cos\\left({\\theta}\\right)^{2}}{a^{4} \\cos\\left({\\theta}\\right)^{4} + 2 \\, a^{2} r^{2} \\cos\\left({\\theta}\\right)^{2} + r^{4}} \\right) \\mathrm{d} r\\otimes \\mathrm{d} {\\phi} + \\left( \\frac{{\\left(a^{2} q^{2} - 2 \\, a^{2} m r\\right)} \\cos\\left({\\theta}\\right) \\sin\\left({\\theta}\\right)}{a^{4} \\cos\\left({\\theta}\\right)^{4} + 2 \\, a^{2} r^{2} \\cos\\left({\\theta}\\right)^{2} + r^{4}} \\right) \\mathrm{d} {\\theta}\\otimes \\mathrm{d} t + \\left( -\\frac{{\\left(a^{3} q^{2} - 2 \\, a^{3} m r + a q^{2} r^{2} - 2 \\, a m r^{3}\\right)} \\cos\\left({\\theta}\\right) \\sin\\left({\\theta}\\right)}{a^{4} \\cos\\left({\\theta}\\right)^{4} + 2 \\, a^{2} r^{2} \\cos\\left({\\theta}\\right)^{2} + r^{4}} \\right) \\mathrm{d} {\\theta}\\otimes \\mathrm{d} {\\phi} + \\left( \\frac{a^{3} m \\cos\\left({\\theta}\\right)^{4} - a q^{2} r + a m r^{2} - {\\left(a^{3} m - a q^{2} r + a m r^{2}\\right)} \\cos\\left({\\theta}\\right)^{2}}{a^{4} \\cos\\left({\\theta}\\right)^{4} + 2 \\, a^{2} r^{2} \\cos\\left({\\theta}\\right)^{2} + r^{4}} \\right) \\mathrm{d} {\\phi}\\otimes \\mathrm{d} r + \\left( \\frac{{\\left(a^{3} q^{2} - 2 \\, a^{3} m r + a q^{2} r^{2} - 2 \\, a m r^{3}\\right)} \\cos\\left({\\theta}\\right) \\sin\\left({\\theta}\\right)}{a^{4} \\cos\\left({\\theta}\\right)^{4} + 2 \\, a^{2} r^{2} \\cos\\left({\\theta}\\right)^{2} + r^{4}} \\right) \\mathrm{d} {\\phi}\\otimes \\mathrm{d} {\\theta}\n",
       "\\end{math}"
      ],
      "text/plain": [
       "(m*r^4 - (2*m^2 + q^2)*r^3 + (a^2*m + 3*m*q^2)*r^2 - (a^4*m + a^2*m*q^2 - 2*a^2*m^2*r + a^2*m*r^2)*cos(th)^2 - (a^2*q^2 + q^4)*r)/(2*m*r^5 - r^6 - (a^2 + q^2)*r^4 - (a^6 + a^4*q^2 - 2*a^4*m*r + a^4*r^2)*cos(th)^4 + 2*(2*a^2*m*r^3 - a^2*r^4 - (a^4 + a^2*q^2)*r^2)*cos(th)^2) dt*dr - (a^2*q^2 - 2*a^2*m*r)*cos(th)*sin(th)/(a^4*cos(th)^4 + 2*a^2*r^2*cos(th)^2 + r^4) dt*dth - (m*r^4 - (2*m^2 + q^2)*r^3 + (a^2*m + 3*m*q^2)*r^2 - (a^4*m + a^2*m*q^2 - 2*a^2*m^2*r + a^2*m*r^2)*cos(th)^2 - (a^2*q^2 + q^4)*r)/(2*m*r^5 - r^6 - (a^2 + q^2)*r^4 - (a^6 + a^4*q^2 - 2*a^4*m*r + a^4*r^2)*cos(th)^4 + 2*(2*a^2*m*r^3 - a^2*r^4 - (a^4 + a^2*q^2)*r^2)*cos(th)^2) dr*dt - (a^3*m*cos(th)^4 - a*q^2*r + a*m*r^2 - (a^3*m - a*q^2*r + a*m*r^2)*cos(th)^2)/(a^4*cos(th)^4 + 2*a^2*r^2*cos(th)^2 + r^4) dr*dph + (a^2*q^2 - 2*a^2*m*r)*cos(th)*sin(th)/(a^4*cos(th)^4 + 2*a^2*r^2*cos(th)^2 + r^4) dth*dt - (a^3*q^2 - 2*a^3*m*r + a*q^2*r^2 - 2*a*m*r^3)*cos(th)*sin(th)/(a^4*cos(th)^4 + 2*a^2*r^2*cos(th)^2 + r^4) dth*dph + (a^3*m*cos(th)^4 - a*q^2*r + a*m*r^2 - (a^3*m - a*q^2*r + a*m*r^2)*cos(th)^2)/(a^4*cos(th)^4 + 2*a^2*r^2*cos(th)^2 + r^4) dph*dr + (a^3*q^2 - 2*a^3*m*r + a*q^2*r^2 - 2*a*m*r^3)*cos(th)*sin(th)/(a^4*cos(th)^4 + 2*a^2*r^2*cos(th)^2 + r^4) dph*dth"
      ]
     },
     "execution_count": 29,
     "metadata": {},
     "output_type": "execute_result"
    }
   ],
   "source": [
    "nab_xi = nabla(xi_form)\n",
    "print(nab_xi)\n",
    "nab_xi.display()"
   ]
  },
  {
   "cell_type": "markdown",
   "metadata": {},
   "source": [
    "<p><span id=\"cell_outer_37\">Let us check that the vector field $\\xi=\\frac{\\partial}{\\partial t}$ obeys Killing equation:</span></p>"
   ]
  },
  {
   "cell_type": "code",
   "execution_count": 30,
   "metadata": {},
   "outputs": [
    {
     "data": {
      "text/html": [
       "<html><script type=\"math/tex; mode=display\">\\newcommand{\\Bold}[1]{\\mathbf{#1}}\\mathrm{True}</script></html>"
      ],
      "text/latex": [
       "\\begin{math}\n",
       "\\newcommand{\\Bold}[1]{\\mathbf{#1}}\\mathrm{True}\n",
       "\\end{math}"
      ],
      "text/plain": [
       "True"
      ]
     },
     "execution_count": 30,
     "metadata": {},
     "output_type": "execute_result"
    }
   ],
   "source": [
    "nab_xi.symmetrize() == 0"
   ]
  },
  {
   "cell_type": "markdown",
   "metadata": {},
   "source": [
    "<p><span id=\"cell_outer_38\">Similarly, let us check that</span> $\\chi := \\frac{\\partial}{\\partial\\phi}$ is a Killing vector:</p>"
   ]
  },
  {
   "cell_type": "code",
   "execution_count": 31,
   "metadata": {},
   "outputs": [
    {
     "data": {
      "text/html": [
       "<html><script type=\"math/tex; mode=display\">\\newcommand{\\Bold}[1]{\\mathbf{#1}}\\frac{\\partial}{\\partial {\\phi} }</script></html>"
      ],
      "text/latex": [
       "\\begin{math}\n",
       "\\newcommand{\\Bold}[1]{\\mathbf{#1}}\\frac{\\partial}{\\partial {\\phi} }\n",
       "\\end{math}"
      ],
      "text/plain": [
       "Vector field d/dph on the 4-dimensional Lorentzian manifold M"
      ]
     },
     "execution_count": 31,
     "metadata": {},
     "output_type": "execute_result"
    }
   ],
   "source": [
    "chi = BL.frame()[3] ; chi"
   ]
  },
  {
   "cell_type": "code",
   "execution_count": 32,
   "metadata": {},
   "outputs": [
    {
     "data": {
      "text/html": [
       "<html><script type=\"math/tex; mode=display\">\\newcommand{\\Bold}[1]{\\mathbf{#1}}\\mathrm{True}</script></html>"
      ],
      "text/latex": [
       "\\begin{math}\n",
       "\\newcommand{\\Bold}[1]{\\mathbf{#1}}\\mathrm{True}\n",
       "\\end{math}"
      ],
      "text/plain": [
       "True"
      ]
     },
     "execution_count": 32,
     "metadata": {},
     "output_type": "execute_result"
    }
   ],
   "source": [
    "nabla(chi.down(g)).symmetrize() == 0"
   ]
  },
  {
   "cell_type": "markdown",
   "metadata": {},
   "source": [
    "<p>Another way to check that $\\xi$ and $\\chi$ are Killing vectors is the vanishing of the Lie derivative of the metric tensor along them:</p>"
   ]
  },
  {
   "cell_type": "code",
   "execution_count": 33,
   "metadata": {},
   "outputs": [
    {
     "data": {
      "text/html": [
       "<html><script type=\"math/tex; mode=display\">\\newcommand{\\Bold}[1]{\\mathbf{#1}}\\mathrm{True}</script></html>"
      ],
      "text/latex": [
       "\\begin{math}\n",
       "\\newcommand{\\Bold}[1]{\\mathbf{#1}}\\mathrm{True}\n",
       "\\end{math}"
      ],
      "text/plain": [
       "True"
      ]
     },
     "execution_count": 33,
     "metadata": {},
     "output_type": "execute_result"
    }
   ],
   "source": [
    "g.lie_derivative(xi) == 0"
   ]
  },
  {
   "cell_type": "code",
   "execution_count": 34,
   "metadata": {},
   "outputs": [
    {
     "data": {
      "text/html": [
       "<html><script type=\"math/tex; mode=display\">\\newcommand{\\Bold}[1]{\\mathbf{#1}}\\mathrm{True}</script></html>"
      ],
      "text/latex": [
       "\\begin{math}\n",
       "\\newcommand{\\Bold}[1]{\\mathbf{#1}}\\mathrm{True}\n",
       "\\end{math}"
      ],
      "text/plain": [
       "True"
      ]
     },
     "execution_count": 34,
     "metadata": {},
     "output_type": "execute_result"
    }
   ],
   "source": [
    "g.lie_derivative(chi) == 0"
   ]
  },
  {
   "cell_type": "markdown",
   "metadata": {},
   "source": [
    "<h2>Curvature</h2>\n",
    "\n",
    "<p>The Ricci tensor associated with $g$:</p>"
   ]
  },
  {
   "cell_type": "code",
   "execution_count": 35,
   "metadata": {},
   "outputs": [
    {
     "name": "stdout",
     "output_type": "stream",
     "text": [
      "Field of symmetric bilinear forms Ric(g) on the 4-dimensional Lorentzian manifold M\n"
     ]
    }
   ],
   "source": [
    "Ric = g.ricci()\n",
    "print(Ric)"
   ]
  },
  {
   "cell_type": "code",
   "execution_count": 36,
   "metadata": {},
   "outputs": [
    {
     "data": {
      "text/html": [
       "<html><script type=\"math/tex; mode=display\">\\newcommand{\\Bold}[1]{\\mathbf{#1}}\\mathrm{Ric}\\left(g\\right) = \\left( -\\frac{a^{2} q^{2} \\cos\\left({\\theta}\\right)^{2} - 2 \\, a^{2} q^{2} - q^{4} + 2 \\, m q^{2} r - q^{2} r^{2}}{a^{6} \\cos\\left({\\theta}\\right)^{6} + 3 \\, a^{4} r^{2} \\cos\\left({\\theta}\\right)^{4} + 3 \\, a^{2} r^{4} \\cos\\left({\\theta}\\right)^{2} + r^{6}} \\right) \\mathrm{d} t\\otimes \\mathrm{d} t + \\left( \\frac{{\\left(2 \\, a^{5} q^{2} + a^{3} q^{4} - 2 \\, a^{3} m q^{2} r + 2 \\, a^{3} q^{2} r^{2}\\right)} \\sin\\left({\\theta}\\right)^{4} - {\\left(2 \\, a^{5} q^{2} + a^{3} q^{4} - 2 \\, a^{3} m q^{2} r - 2 \\, a m q^{2} r^{3} + 2 \\, a q^{2} r^{4} + {\\left(4 \\, a^{3} q^{2} + a q^{4}\\right)} r^{2}\\right)} \\sin\\left({\\theta}\\right)^{2}}{a^{8} \\cos\\left({\\theta}\\right)^{8} + 4 \\, a^{6} r^{2} \\cos\\left({\\theta}\\right)^{6} + 6 \\, a^{4} r^{4} \\cos\\left({\\theta}\\right)^{4} + 4 \\, a^{2} r^{6} \\cos\\left({\\theta}\\right)^{2} + r^{8}} \\right) \\mathrm{d} t\\otimes \\mathrm{d} {\\phi} + \\left( \\frac{q^{2}}{2 \\, m r^{3} - r^{4} - {\\left(a^{2} + q^{2}\\right)} r^{2} - {\\left(a^{4} + a^{2} q^{2} - 2 \\, a^{2} m r + a^{2} r^{2}\\right)} \\cos\\left({\\theta}\\right)^{2}} \\right) \\mathrm{d} r\\otimes \\mathrm{d} r + \\left( \\frac{q^{2}}{a^{2} \\cos\\left({\\theta}\\right)^{2} + r^{2}} \\right) \\mathrm{d} {\\theta}\\otimes \\mathrm{d} {\\theta} + \\left( \\frac{{\\left(2 \\, a^{5} q^{2} + a^{3} q^{4} - 2 \\, a^{3} m q^{2} r + 2 \\, a^{3} q^{2} r^{2}\\right)} \\sin\\left({\\theta}\\right)^{4} - {\\left(2 \\, a^{5} q^{2} + a^{3} q^{4} - 2 \\, a^{3} m q^{2} r - 2 \\, a m q^{2} r^{3} + 2 \\, a q^{2} r^{4} + {\\left(4 \\, a^{3} q^{2} + a q^{4}\\right)} r^{2}\\right)} \\sin\\left({\\theta}\\right)^{2}}{a^{8} \\cos\\left({\\theta}\\right)^{8} + 4 \\, a^{6} r^{2} \\cos\\left({\\theta}\\right)^{6} + 6 \\, a^{4} r^{4} \\cos\\left({\\theta}\\right)^{4} + 4 \\, a^{2} r^{6} \\cos\\left({\\theta}\\right)^{2} + r^{8}} \\right) \\mathrm{d} {\\phi}\\otimes \\mathrm{d} t + \\left( -\\frac{{\\left(a^{6} q^{2} + a^{4} q^{4} - 2 \\, a^{4} m q^{2} r + a^{4} q^{2} r^{2}\\right)} \\sin\\left({\\theta}\\right)^{6} - {\\left(a^{4} q^{4} - 2 \\, a^{4} m q^{2} r + a^{2} q^{4} r^{2} - 2 \\, a^{2} m q^{2} r^{3}\\right)} \\sin\\left({\\theta}\\right)^{4} - {\\left(a^{6} q^{2} + 3 \\, a^{4} q^{2} r^{2} + 3 \\, a^{2} q^{2} r^{4} + q^{2} r^{6}\\right)} \\sin\\left({\\theta}\\right)^{2}}{a^{8} \\cos\\left({\\theta}\\right)^{8} + 4 \\, a^{6} r^{2} \\cos\\left({\\theta}\\right)^{6} + 6 \\, a^{4} r^{4} \\cos\\left({\\theta}\\right)^{4} + 4 \\, a^{2} r^{6} \\cos\\left({\\theta}\\right)^{2} + r^{8}} \\right) \\mathrm{d} {\\phi}\\otimes \\mathrm{d} {\\phi}</script></html>"
      ],
      "text/latex": [
       "\\begin{math}\n",
       "\\newcommand{\\Bold}[1]{\\mathbf{#1}}\\mathrm{Ric}\\left(g\\right) = \\left( -\\frac{a^{2} q^{2} \\cos\\left({\\theta}\\right)^{2} - 2 \\, a^{2} q^{2} - q^{4} + 2 \\, m q^{2} r - q^{2} r^{2}}{a^{6} \\cos\\left({\\theta}\\right)^{6} + 3 \\, a^{4} r^{2} \\cos\\left({\\theta}\\right)^{4} + 3 \\, a^{2} r^{4} \\cos\\left({\\theta}\\right)^{2} + r^{6}} \\right) \\mathrm{d} t\\otimes \\mathrm{d} t + \\left( \\frac{{\\left(2 \\, a^{5} q^{2} + a^{3} q^{4} - 2 \\, a^{3} m q^{2} r + 2 \\, a^{3} q^{2} r^{2}\\right)} \\sin\\left({\\theta}\\right)^{4} - {\\left(2 \\, a^{5} q^{2} + a^{3} q^{4} - 2 \\, a^{3} m q^{2} r - 2 \\, a m q^{2} r^{3} + 2 \\, a q^{2} r^{4} + {\\left(4 \\, a^{3} q^{2} + a q^{4}\\right)} r^{2}\\right)} \\sin\\left({\\theta}\\right)^{2}}{a^{8} \\cos\\left({\\theta}\\right)^{8} + 4 \\, a^{6} r^{2} \\cos\\left({\\theta}\\right)^{6} + 6 \\, a^{4} r^{4} \\cos\\left({\\theta}\\right)^{4} + 4 \\, a^{2} r^{6} \\cos\\left({\\theta}\\right)^{2} + r^{8}} \\right) \\mathrm{d} t\\otimes \\mathrm{d} {\\phi} + \\left( \\frac{q^{2}}{2 \\, m r^{3} - r^{4} - {\\left(a^{2} + q^{2}\\right)} r^{2} - {\\left(a^{4} + a^{2} q^{2} - 2 \\, a^{2} m r + a^{2} r^{2}\\right)} \\cos\\left({\\theta}\\right)^{2}} \\right) \\mathrm{d} r\\otimes \\mathrm{d} r + \\left( \\frac{q^{2}}{a^{2} \\cos\\left({\\theta}\\right)^{2} + r^{2}} \\right) \\mathrm{d} {\\theta}\\otimes \\mathrm{d} {\\theta} + \\left( \\frac{{\\left(2 \\, a^{5} q^{2} + a^{3} q^{4} - 2 \\, a^{3} m q^{2} r + 2 \\, a^{3} q^{2} r^{2}\\right)} \\sin\\left({\\theta}\\right)^{4} - {\\left(2 \\, a^{5} q^{2} + a^{3} q^{4} - 2 \\, a^{3} m q^{2} r - 2 \\, a m q^{2} r^{3} + 2 \\, a q^{2} r^{4} + {\\left(4 \\, a^{3} q^{2} + a q^{4}\\right)} r^{2}\\right)} \\sin\\left({\\theta}\\right)^{2}}{a^{8} \\cos\\left({\\theta}\\right)^{8} + 4 \\, a^{6} r^{2} \\cos\\left({\\theta}\\right)^{6} + 6 \\, a^{4} r^{4} \\cos\\left({\\theta}\\right)^{4} + 4 \\, a^{2} r^{6} \\cos\\left({\\theta}\\right)^{2} + r^{8}} \\right) \\mathrm{d} {\\phi}\\otimes \\mathrm{d} t + \\left( -\\frac{{\\left(a^{6} q^{2} + a^{4} q^{4} - 2 \\, a^{4} m q^{2} r + a^{4} q^{2} r^{2}\\right)} \\sin\\left({\\theta}\\right)^{6} - {\\left(a^{4} q^{4} - 2 \\, a^{4} m q^{2} r + a^{2} q^{4} r^{2} - 2 \\, a^{2} m q^{2} r^{3}\\right)} \\sin\\left({\\theta}\\right)^{4} - {\\left(a^{6} q^{2} + 3 \\, a^{4} q^{2} r^{2} + 3 \\, a^{2} q^{2} r^{4} + q^{2} r^{6}\\right)} \\sin\\left({\\theta}\\right)^{2}}{a^{8} \\cos\\left({\\theta}\\right)^{8} + 4 \\, a^{6} r^{2} \\cos\\left({\\theta}\\right)^{6} + 6 \\, a^{4} r^{4} \\cos\\left({\\theta}\\right)^{4} + 4 \\, a^{2} r^{6} \\cos\\left({\\theta}\\right)^{2} + r^{8}} \\right) \\mathrm{d} {\\phi}\\otimes \\mathrm{d} {\\phi}\n",
       "\\end{math}"
      ],
      "text/plain": [
       "Ric(g) = -(a^2*q^2*cos(th)^2 - 2*a^2*q^2 - q^4 + 2*m*q^2*r - q^2*r^2)/(a^6*cos(th)^6 + 3*a^4*r^2*cos(th)^4 + 3*a^2*r^4*cos(th)^2 + r^6) dt*dt + ((2*a^5*q^2 + a^3*q^4 - 2*a^3*m*q^2*r + 2*a^3*q^2*r^2)*sin(th)^4 - (2*a^5*q^2 + a^3*q^4 - 2*a^3*m*q^2*r - 2*a*m*q^2*r^3 + 2*a*q^2*r^4 + (4*a^3*q^2 + a*q^4)*r^2)*sin(th)^2)/(a^8*cos(th)^8 + 4*a^6*r^2*cos(th)^6 + 6*a^4*r^4*cos(th)^4 + 4*a^2*r^6*cos(th)^2 + r^8) dt*dph + q^2/(2*m*r^3 - r^4 - (a^2 + q^2)*r^2 - (a^4 + a^2*q^2 - 2*a^2*m*r + a^2*r^2)*cos(th)^2) dr*dr + q^2/(a^2*cos(th)^2 + r^2) dth*dth + ((2*a^5*q^2 + a^3*q^4 - 2*a^3*m*q^2*r + 2*a^3*q^2*r^2)*sin(th)^4 - (2*a^5*q^2 + a^3*q^4 - 2*a^3*m*q^2*r - 2*a*m*q^2*r^3 + 2*a*q^2*r^4 + (4*a^3*q^2 + a*q^4)*r^2)*sin(th)^2)/(a^8*cos(th)^8 + 4*a^6*r^2*cos(th)^6 + 6*a^4*r^4*cos(th)^4 + 4*a^2*r^6*cos(th)^2 + r^8) dph*dt - ((a^6*q^2 + a^4*q^4 - 2*a^4*m*q^2*r + a^4*q^2*r^2)*sin(th)^6 - (a^4*q^4 - 2*a^4*m*q^2*r + a^2*q^4*r^2 - 2*a^2*m*q^2*r^3)*sin(th)^4 - (a^6*q^2 + 3*a^4*q^2*r^2 + 3*a^2*q^2*r^4 + q^2*r^6)*sin(th)^2)/(a^8*cos(th)^8 + 4*a^6*r^2*cos(th)^6 + 6*a^4*r^4*cos(th)^4 + 4*a^2*r^6*cos(th)^2 + r^8) dph*dph"
      ]
     },
     "execution_count": 36,
     "metadata": {},
     "output_type": "execute_result"
    }
   ],
   "source": [
    "Ric.display()"
   ]
  },
  {
   "cell_type": "code",
   "execution_count": 37,
   "metadata": {},
   "outputs": [
    {
     "data": {
      "text/html": [
       "<html><script type=\"math/tex; mode=display\">\\newcommand{\\Bold}[1]{\\mathbf{#1}}\\left(\\begin{array}{rrrr}\n",
       "-\\frac{a^{2} q^{2} \\cos\\left({\\theta}\\right)^{2} - 2 \\, a^{2} q^{2} - q^{4} + 2 \\, m q^{2} r - q^{2} r^{2}}{a^{6} \\cos\\left({\\theta}\\right)^{6} + 3 \\, a^{4} r^{2} \\cos\\left({\\theta}\\right)^{4} + 3 \\, a^{2} r^{4} \\cos\\left({\\theta}\\right)^{2} + r^{6}} & 0 & 0 & \\frac{{\\left(2 \\, a^{5} q^{2} + a^{3} q^{4} - 2 \\, a^{3} m q^{2} r + 2 \\, a^{3} q^{2} r^{2}\\right)} \\sin\\left({\\theta}\\right)^{4} - {\\left(2 \\, a^{5} q^{2} + a^{3} q^{4} - 2 \\, a^{3} m q^{2} r - 2 \\, a m q^{2} r^{3} + 2 \\, a q^{2} r^{4} + {\\left(4 \\, a^{3} q^{2} + a q^{4}\\right)} r^{2}\\right)} \\sin\\left({\\theta}\\right)^{2}}{a^{8} \\cos\\left({\\theta}\\right)^{8} + 4 \\, a^{6} r^{2} \\cos\\left({\\theta}\\right)^{6} + 6 \\, a^{4} r^{4} \\cos\\left({\\theta}\\right)^{4} + 4 \\, a^{2} r^{6} \\cos\\left({\\theta}\\right)^{2} + r^{8}} \\\\\n",
       "0 & \\frac{q^{2}}{2 \\, m r^{3} - r^{4} - {\\left(a^{2} + q^{2}\\right)} r^{2} - {\\left(a^{4} + a^{2} q^{2} - 2 \\, a^{2} m r + a^{2} r^{2}\\right)} \\cos\\left({\\theta}\\right)^{2}} & 0 & 0 \\\\\n",
       "0 & 0 & \\frac{q^{2}}{a^{2} \\cos\\left({\\theta}\\right)^{2} + r^{2}} & 0 \\\\\n",
       "\\frac{{\\left(2 \\, a^{5} q^{2} + a^{3} q^{4} - 2 \\, a^{3} m q^{2} r + 2 \\, a^{3} q^{2} r^{2}\\right)} \\sin\\left({\\theta}\\right)^{4} - {\\left(2 \\, a^{5} q^{2} + a^{3} q^{4} - 2 \\, a^{3} m q^{2} r - 2 \\, a m q^{2} r^{3} + 2 \\, a q^{2} r^{4} + {\\left(4 \\, a^{3} q^{2} + a q^{4}\\right)} r^{2}\\right)} \\sin\\left({\\theta}\\right)^{2}}{a^{8} \\cos\\left({\\theta}\\right)^{8} + 4 \\, a^{6} r^{2} \\cos\\left({\\theta}\\right)^{6} + 6 \\, a^{4} r^{4} \\cos\\left({\\theta}\\right)^{4} + 4 \\, a^{2} r^{6} \\cos\\left({\\theta}\\right)^{2} + r^{8}} & 0 & 0 & -\\frac{{\\left(a^{6} q^{2} + a^{4} q^{4} - 2 \\, a^{4} m q^{2} r + a^{4} q^{2} r^{2}\\right)} \\sin\\left({\\theta}\\right)^{6} - {\\left(a^{4} q^{4} - 2 \\, a^{4} m q^{2} r + a^{2} q^{4} r^{2} - 2 \\, a^{2} m q^{2} r^{3}\\right)} \\sin\\left({\\theta}\\right)^{4} - {\\left(a^{6} q^{2} + 3 \\, a^{4} q^{2} r^{2} + 3 \\, a^{2} q^{2} r^{4} + q^{2} r^{6}\\right)} \\sin\\left({\\theta}\\right)^{2}}{a^{8} \\cos\\left({\\theta}\\right)^{8} + 4 \\, a^{6} r^{2} \\cos\\left({\\theta}\\right)^{6} + 6 \\, a^{4} r^{4} \\cos\\left({\\theta}\\right)^{4} + 4 \\, a^{2} r^{6} \\cos\\left({\\theta}\\right)^{2} + r^{8}}\n",
       "\\end{array}\\right)</script></html>"
      ],
      "text/latex": [
       "\\begin{math}\n",
       "\\newcommand{\\Bold}[1]{\\mathbf{#1}}\\left(\\begin{array}{rrrr}\n",
       "-\\frac{a^{2} q^{2} \\cos\\left({\\theta}\\right)^{2} - 2 \\, a^{2} q^{2} - q^{4} + 2 \\, m q^{2} r - q^{2} r^{2}}{a^{6} \\cos\\left({\\theta}\\right)^{6} + 3 \\, a^{4} r^{2} \\cos\\left({\\theta}\\right)^{4} + 3 \\, a^{2} r^{4} \\cos\\left({\\theta}\\right)^{2} + r^{6}} & 0 & 0 & \\frac{{\\left(2 \\, a^{5} q^{2} + a^{3} q^{4} - 2 \\, a^{3} m q^{2} r + 2 \\, a^{3} q^{2} r^{2}\\right)} \\sin\\left({\\theta}\\right)^{4} - {\\left(2 \\, a^{5} q^{2} + a^{3} q^{4} - 2 \\, a^{3} m q^{2} r - 2 \\, a m q^{2} r^{3} + 2 \\, a q^{2} r^{4} + {\\left(4 \\, a^{3} q^{2} + a q^{4}\\right)} r^{2}\\right)} \\sin\\left({\\theta}\\right)^{2}}{a^{8} \\cos\\left({\\theta}\\right)^{8} + 4 \\, a^{6} r^{2} \\cos\\left({\\theta}\\right)^{6} + 6 \\, a^{4} r^{4} \\cos\\left({\\theta}\\right)^{4} + 4 \\, a^{2} r^{6} \\cos\\left({\\theta}\\right)^{2} + r^{8}} \\\\\n",
       "0 & \\frac{q^{2}}{2 \\, m r^{3} - r^{4} - {\\left(a^{2} + q^{2}\\right)} r^{2} - {\\left(a^{4} + a^{2} q^{2} - 2 \\, a^{2} m r + a^{2} r^{2}\\right)} \\cos\\left({\\theta}\\right)^{2}} & 0 & 0 \\\\\n",
       "0 & 0 & \\frac{q^{2}}{a^{2} \\cos\\left({\\theta}\\right)^{2} + r^{2}} & 0 \\\\\n",
       "\\frac{{\\left(2 \\, a^{5} q^{2} + a^{3} q^{4} - 2 \\, a^{3} m q^{2} r + 2 \\, a^{3} q^{2} r^{2}\\right)} \\sin\\left({\\theta}\\right)^{4} - {\\left(2 \\, a^{5} q^{2} + a^{3} q^{4} - 2 \\, a^{3} m q^{2} r - 2 \\, a m q^{2} r^{3} + 2 \\, a q^{2} r^{4} + {\\left(4 \\, a^{3} q^{2} + a q^{4}\\right)} r^{2}\\right)} \\sin\\left({\\theta}\\right)^{2}}{a^{8} \\cos\\left({\\theta}\\right)^{8} + 4 \\, a^{6} r^{2} \\cos\\left({\\theta}\\right)^{6} + 6 \\, a^{4} r^{4} \\cos\\left({\\theta}\\right)^{4} + 4 \\, a^{2} r^{6} \\cos\\left({\\theta}\\right)^{2} + r^{8}} & 0 & 0 & -\\frac{{\\left(a^{6} q^{2} + a^{4} q^{4} - 2 \\, a^{4} m q^{2} r + a^{4} q^{2} r^{2}\\right)} \\sin\\left({\\theta}\\right)^{6} - {\\left(a^{4} q^{4} - 2 \\, a^{4} m q^{2} r + a^{2} q^{4} r^{2} - 2 \\, a^{2} m q^{2} r^{3}\\right)} \\sin\\left({\\theta}\\right)^{4} - {\\left(a^{6} q^{2} + 3 \\, a^{4} q^{2} r^{2} + 3 \\, a^{2} q^{2} r^{4} + q^{2} r^{6}\\right)} \\sin\\left({\\theta}\\right)^{2}}{a^{8} \\cos\\left({\\theta}\\right)^{8} + 4 \\, a^{6} r^{2} \\cos\\left({\\theta}\\right)^{6} + 6 \\, a^{4} r^{4} \\cos\\left({\\theta}\\right)^{4} + 4 \\, a^{2} r^{6} \\cos\\left({\\theta}\\right)^{2} + r^{8}}\n",
       "\\end{array}\\right)\n",
       "\\end{math}"
      ],
      "text/plain": [
       "[                                                                                                                                                              -(a^2*q^2*cos(th)^2 - 2*a^2*q^2 - q^4 + 2*m*q^2*r - q^2*r^2)/(a^6*cos(th)^6 + 3*a^4*r^2*cos(th)^4 + 3*a^2*r^4*cos(th)^2 + r^6)                                                                                                                                                                                                                                                                                            0                                                                                                                                                                                                                                                                                            0                          ((2*a^5*q^2 + a^3*q^4 - 2*a^3*m*q^2*r + 2*a^3*q^2*r^2)*sin(th)^4 - (2*a^5*q^2 + a^3*q^4 - 2*a^3*m*q^2*r - 2*a*m*q^2*r^3 + 2*a*q^2*r^4 + (4*a^3*q^2 + a*q^4)*r^2)*sin(th)^2)/(a^8*cos(th)^8 + 4*a^6*r^2*cos(th)^6 + 6*a^4*r^4*cos(th)^4 + 4*a^2*r^6*cos(th)^2 + r^8)]\n",
       "[                                                                                                                                                                                                                                                                                           0                                                                                                                                                                                                      q^2/(2*m*r^3 - r^4 - (a^2 + q^2)*r^2 - (a^4 + a^2*q^2 - 2*a^2*m*r + a^2*r^2)*cos(th)^2)                                                                                                                                                                                                                                                                                            0                                                                                                                                                                                                                                                                                            0]\n",
       "[                                                                                                                                                                                                                                                                                           0                                                                                                                                                                                                                                                                                            0                                                                                                                                                                                                                                                                    q^2/(a^2*cos(th)^2 + r^2)                                                                                                                                                                                                                                                                                            0]\n",
       "[                         ((2*a^5*q^2 + a^3*q^4 - 2*a^3*m*q^2*r + 2*a^3*q^2*r^2)*sin(th)^4 - (2*a^5*q^2 + a^3*q^4 - 2*a^3*m*q^2*r - 2*a*m*q^2*r^3 + 2*a*q^2*r^4 + (4*a^3*q^2 + a*q^4)*r^2)*sin(th)^2)/(a^8*cos(th)^8 + 4*a^6*r^2*cos(th)^6 + 6*a^4*r^4*cos(th)^4 + 4*a^2*r^6*cos(th)^2 + r^8)                                                                                                                                                                                                                                                                                            0                                                                                                                                                                                                                                                                                            0 -((a^6*q^2 + a^4*q^4 - 2*a^4*m*q^2*r + a^4*q^2*r^2)*sin(th)^6 - (a^4*q^4 - 2*a^4*m*q^2*r + a^2*q^4*r^2 - 2*a^2*m*q^2*r^3)*sin(th)^4 - (a^6*q^2 + 3*a^4*q^2*r^2 + 3*a^2*q^2*r^4 + q^2*r^6)*sin(th)^2)/(a^8*cos(th)^8 + 4*a^6*r^2*cos(th)^6 + 6*a^4*r^4*cos(th)^4 + 4*a^2*r^6*cos(th)^2 + r^8)]"
      ]
     },
     "execution_count": 37,
     "metadata": {},
     "output_type": "execute_result"
    }
   ],
   "source": [
    "Ric[:]"
   ]
  },
  {
   "cell_type": "markdown",
   "metadata": {},
   "source": [
    "<p>Let us check that in the Kerr case, i.e. when $q=0$, the Ricci tensor is zero:</p>"
   ]
  },
  {
   "cell_type": "code",
   "execution_count": 38,
   "metadata": {},
   "outputs": [
    {
     "data": {
      "text/html": [
       "<html><script type=\"math/tex; mode=display\">\\newcommand{\\Bold}[1]{\\mathbf{#1}}\\left(\\begin{array}{rrrr}\n",
       "0 & 0 & 0 & 0 \\\\\n",
       "0 & 0 & 0 & 0 \\\\\n",
       "0 & 0 & 0 & 0 \\\\\n",
       "0 & 0 & 0 & 0\n",
       "\\end{array}\\right)</script></html>"
      ],
      "text/latex": [
       "\\begin{math}\n",
       "\\newcommand{\\Bold}[1]{\\mathbf{#1}}\\left(\\begin{array}{rrrr}\n",
       "0 & 0 & 0 & 0 \\\\\n",
       "0 & 0 & 0 & 0 \\\\\n",
       "0 & 0 & 0 & 0 \\\\\n",
       "0 & 0 & 0 & 0\n",
       "\\end{array}\\right)\n",
       "\\end{math}"
      ],
      "text/plain": [
       "[0 0 0 0]\n",
       "[0 0 0 0]\n",
       "[0 0 0 0]\n",
       "[0 0 0 0]"
      ]
     },
     "execution_count": 38,
     "metadata": {},
     "output_type": "execute_result"
    }
   ],
   "source": [
    "Ric_Kerr = Ric.copy()\n",
    "Ric_Kerr.apply_map(lambda f: f.subs({q: 0}))\n",
    "Ric_Kerr[:]"
   ]
  },
  {
   "cell_type": "markdown",
   "metadata": {},
   "source": [
    "<p>The Riemann curvature tensor associated with $g$:</p>"
   ]
  },
  {
   "cell_type": "code",
   "execution_count": 39,
   "metadata": {},
   "outputs": [
    {
     "name": "stdout",
     "output_type": "stream",
     "text": [
      "Tensor field Riem(g) of type (1,3) on the 4-dimensional Lorentzian manifold M\n"
     ]
    }
   ],
   "source": [
    "R = g.riemann()\n",
    "print(R)"
   ]
  },
  {
   "cell_type": "markdown",
   "metadata": {},
   "source": [
    "<p>The component $R^0_{\\ \\, 101}$ of the Riemann tensor is</p>"
   ]
  },
  {
   "cell_type": "code",
   "execution_count": 40,
   "metadata": {},
   "outputs": [
    {
     "data": {
      "text/html": [
       "<html><script type=\"math/tex; mode=display\">\\newcommand{\\Bold}[1]{\\mathbf{#1}}\\frac{4 \\, a^{2} q^{2} r^{2} - 3 \\, a^{2} m r^{3} + 3 \\, q^{2} r^{4} - 2 \\, m r^{5} + {\\left(a^{4} q^{2} - 3 \\, a^{4} m r\\right)} \\cos\\left({\\theta}\\right)^{4} - {\\left(2 \\, a^{4} q^{2} - 9 \\, a^{4} m r + 2 \\, a^{2} q^{2} r^{2} - 7 \\, a^{2} m r^{3}\\right)} \\cos\\left({\\theta}\\right)^{2}}{2 \\, m r^{7} - r^{8} - {\\left(a^{2} + q^{2}\\right)} r^{6} - {\\left(a^{8} + a^{6} q^{2} - 2 \\, a^{6} m r + a^{6} r^{2}\\right)} \\cos\\left({\\theta}\\right)^{6} + 3 \\, {\\left(2 \\, a^{4} m r^{3} - a^{4} r^{4} - {\\left(a^{6} + a^{4} q^{2}\\right)} r^{2}\\right)} \\cos\\left({\\theta}\\right)^{4} + 3 \\, {\\left(2 \\, a^{2} m r^{5} - a^{2} r^{6} - {\\left(a^{4} + a^{2} q^{2}\\right)} r^{4}\\right)} \\cos\\left({\\theta}\\right)^{2}}</script></html>"
      ],
      "text/latex": [
       "\\begin{math}\n",
       "\\newcommand{\\Bold}[1]{\\mathbf{#1}}\\frac{4 \\, a^{2} q^{2} r^{2} - 3 \\, a^{2} m r^{3} + 3 \\, q^{2} r^{4} - 2 \\, m r^{5} + {\\left(a^{4} q^{2} - 3 \\, a^{4} m r\\right)} \\cos\\left({\\theta}\\right)^{4} - {\\left(2 \\, a^{4} q^{2} - 9 \\, a^{4} m r + 2 \\, a^{2} q^{2} r^{2} - 7 \\, a^{2} m r^{3}\\right)} \\cos\\left({\\theta}\\right)^{2}}{2 \\, m r^{7} - r^{8} - {\\left(a^{2} + q^{2}\\right)} r^{6} - {\\left(a^{8} + a^{6} q^{2} - 2 \\, a^{6} m r + a^{6} r^{2}\\right)} \\cos\\left({\\theta}\\right)^{6} + 3 \\, {\\left(2 \\, a^{4} m r^{3} - a^{4} r^{4} - {\\left(a^{6} + a^{4} q^{2}\\right)} r^{2}\\right)} \\cos\\left({\\theta}\\right)^{4} + 3 \\, {\\left(2 \\, a^{2} m r^{5} - a^{2} r^{6} - {\\left(a^{4} + a^{2} q^{2}\\right)} r^{4}\\right)} \\cos\\left({\\theta}\\right)^{2}}\n",
       "\\end{math}"
      ],
      "text/plain": [
       "(4*a^2*q^2*r^2 - 3*a^2*m*r^3 + 3*q^2*r^4 - 2*m*r^5 + (a^4*q^2 - 3*a^4*m*r)*cos(th)^4 - (2*a^4*q^2 - 9*a^4*m*r + 2*a^2*q^2*r^2 - 7*a^2*m*r^3)*cos(th)^2)/(2*m*r^7 - r^8 - (a^2 + q^2)*r^6 - (a^8 + a^6*q^2 - 2*a^6*m*r + a^6*r^2)*cos(th)^6 + 3*(2*a^4*m*r^3 - a^4*r^4 - (a^6 + a^4*q^2)*r^2)*cos(th)^4 + 3*(2*a^2*m*r^5 - a^2*r^6 - (a^4 + a^2*q^2)*r^4)*cos(th)^2)"
      ]
     },
     "execution_count": 40,
     "metadata": {},
     "output_type": "execute_result"
    }
   ],
   "source": [
    "R[0,1,0,1]"
   ]
  },
  {
   "cell_type": "markdown",
   "metadata": {},
   "source": [
    "<p>The expression in the uncharged limit (Kerr spacetime) is</p>"
   ]
  },
  {
   "cell_type": "code",
   "execution_count": 41,
   "metadata": {},
   "outputs": [
    {
     "data": {
      "text/html": [
       "<html><script type=\"math/tex; mode=display\">\\newcommand{\\Bold}[1]{\\mathbf{#1}}\\frac{3 \\, a^{4} m r \\cos\\left({\\theta}\\right)^{4} + 3 \\, a^{2} m r^{3} + 2 \\, m r^{5} - {\\left(9 \\, a^{4} m r + 7 \\, a^{2} m r^{3}\\right)} \\cos\\left({\\theta}\\right)^{2}}{a^{2} r^{6} - 2 \\, m r^{7} + r^{8} + {\\left(a^{8} - 2 \\, a^{6} m r + a^{6} r^{2}\\right)} \\cos\\left({\\theta}\\right)^{6} + 3 \\, {\\left(a^{6} r^{2} - 2 \\, a^{4} m r^{3} + a^{4} r^{4}\\right)} \\cos\\left({\\theta}\\right)^{4} + 3 \\, {\\left(a^{4} r^{4} - 2 \\, a^{2} m r^{5} + a^{2} r^{6}\\right)} \\cos\\left({\\theta}\\right)^{2}}</script></html>"
      ],
      "text/latex": [
       "\\begin{math}\n",
       "\\newcommand{\\Bold}[1]{\\mathbf{#1}}\\frac{3 \\, a^{4} m r \\cos\\left({\\theta}\\right)^{4} + 3 \\, a^{2} m r^{3} + 2 \\, m r^{5} - {\\left(9 \\, a^{4} m r + 7 \\, a^{2} m r^{3}\\right)} \\cos\\left({\\theta}\\right)^{2}}{a^{2} r^{6} - 2 \\, m r^{7} + r^{8} + {\\left(a^{8} - 2 \\, a^{6} m r + a^{6} r^{2}\\right)} \\cos\\left({\\theta}\\right)^{6} + 3 \\, {\\left(a^{6} r^{2} - 2 \\, a^{4} m r^{3} + a^{4} r^{4}\\right)} \\cos\\left({\\theta}\\right)^{4} + 3 \\, {\\left(a^{4} r^{4} - 2 \\, a^{2} m r^{5} + a^{2} r^{6}\\right)} \\cos\\left({\\theta}\\right)^{2}}\n",
       "\\end{math}"
      ],
      "text/plain": [
       "(3*a^4*m*r*cos(th)^4 + 3*a^2*m*r^3 + 2*m*r^5 - (9*a^4*m*r + 7*a^2*m*r^3)*cos(th)^2)/(a^2*r^6 - 2*m*r^7 + r^8 + (a^8 - 2*a^6*m*r + a^6*r^2)*cos(th)^6 + 3*(a^6*r^2 - 2*a^4*m*r^3 + a^4*r^4)*cos(th)^4 + 3*(a^4*r^4 - 2*a^2*m*r^5 + a^2*r^6)*cos(th)^2)"
      ]
     },
     "execution_count": 41,
     "metadata": {},
     "output_type": "execute_result"
    }
   ],
   "source": [
    "R[0,1,0,1].expr().subs(q=0).simplify_rational()"
   ]
  },
  {
   "cell_type": "markdown",
   "metadata": {},
   "source": [
    "<p>while in the non-rotating limit (Reissner-Nordström spacetime), it is</p>"
   ]
  },
  {
   "cell_type": "code",
   "execution_count": 42,
   "metadata": {},
   "outputs": [
    {
     "data": {
      "text/html": [
       "<html><script type=\"math/tex; mode=display\">\\newcommand{\\Bold}[1]{\\mathbf{#1}}-\\frac{3 \\, q^{2} - 2 \\, m r}{q^{2} r^{2} - 2 \\, m r^{3} + r^{4}}</script></html>"
      ],
      "text/latex": [
       "\\begin{math}\n",
       "\\newcommand{\\Bold}[1]{\\mathbf{#1}}-\\frac{3 \\, q^{2} - 2 \\, m r}{q^{2} r^{2} - 2 \\, m r^{3} + r^{4}}\n",
       "\\end{math}"
      ],
      "text/plain": [
       "-(3*q^2 - 2*m*r)/(q^2*r^2 - 2*m*r^3 + r^4)"
      ]
     },
     "execution_count": 42,
     "metadata": {},
     "output_type": "execute_result"
    }
   ],
   "source": [
    "R[0,1,0,1].expr().subs(a=0).simplify_rational()"
   ]
  },
  {
   "cell_type": "markdown",
   "metadata": {},
   "source": [
    "<p>In the Schwarzschild limit, it reduces to</p>"
   ]
  },
  {
   "cell_type": "code",
   "execution_count": 43,
   "metadata": {},
   "outputs": [
    {
     "data": {
      "text/html": [
       "<html><script type=\"math/tex; mode=display\">\\newcommand{\\Bold}[1]{\\mathbf{#1}}-\\frac{2 \\, m}{2 \\, m r^{2} - r^{3}}</script></html>"
      ],
      "text/latex": [
       "\\begin{math}\n",
       "\\newcommand{\\Bold}[1]{\\mathbf{#1}}-\\frac{2 \\, m}{2 \\, m r^{2} - r^{3}}\n",
       "\\end{math}"
      ],
      "text/plain": [
       "-2*m/(2*m*r^2 - r^3)"
      ]
     },
     "execution_count": 43,
     "metadata": {},
     "output_type": "execute_result"
    }
   ],
   "source": [
    "R[0,1,0,1].expr().subs(a=0, q=0).simplify_rational()"
   ]
  },
  {
   "cell_type": "markdown",
   "metadata": {},
   "source": [
    "<p>Obviously, it vanishes in the flat space limit:</p>"
   ]
  },
  {
   "cell_type": "code",
   "execution_count": 44,
   "metadata": {},
   "outputs": [
    {
     "data": {
      "text/html": [
       "<html><script type=\"math/tex; mode=display\">\\newcommand{\\Bold}[1]{\\mathbf{#1}}0</script></html>"
      ],
      "text/latex": [
       "\\begin{math}\n",
       "\\newcommand{\\Bold}[1]{\\mathbf{#1}}0\n",
       "\\end{math}"
      ],
      "text/plain": [
       "0"
      ]
     },
     "execution_count": 44,
     "metadata": {},
     "output_type": "execute_result"
    }
   ],
   "source": [
    "R[0,1,0,1].expr().subs(m=0, a=0, q=0)"
   ]
  },
  {
   "cell_type": "markdown",
   "metadata": {},
   "source": [
    "<h3>Bianchi identity</h3>\n",
    "\n",
    "<p>Let us check the Bianchi identity $\\nabla_p R^i_{\\ \\, j kl} + \\nabla_k R^i_{\\ \\, jlp} + \\nabla_l R^i_{\\ \\, jpk} = 0$:</p>"
   ]
  },
  {
   "cell_type": "code",
   "execution_count": 45,
   "metadata": {},
   "outputs": [
    {
     "name": "stdout",
     "output_type": "stream",
     "text": [
      "Tensor field nabla_g(Riem(g)) of type (1,4) on the 4-dimensional Lorentzian manifold M\n"
     ]
    }
   ],
   "source": [
    "DR = nabla(R)   # long (takes a while)\n",
    "print(DR)  "
   ]
  },
  {
   "cell_type": "code",
   "execution_count": 46,
   "metadata": {},
   "outputs": [
    {
     "name": "stdout",
     "output_type": "stream",
     "text": [
      "0 0 0 0 0 0 0 0 0 0 0 0 0 0 0 0 0 0 0 0 0 0 0 0 0 0 0 0 0 0 0 0 0 0 0 0 0 0 0 0 0 0 0 0 0 0 0 0 0 0 0 0 0 0 0 0 0 0 0 0 0 0 0 0 0 0 0 0 0 0 0 0 0 0 0 0 0 0 0 0 0 0 0 0 0 0 0 0 0 0 0 0 0 0 0 0 0 0 0 0 0 0 0 0 0 0 0 0 0 0 0 0 0 0 0 0 0 0 0 0 0 0 0 0 0 0 0 0 0 0 0 0 0 0 0 0 0 0 0 0 0 0 0 0 0 0 0 0 0 0 0 0 0 0 0 0 0 0 0 0 0 0 0 0 0 0 0 0 0 0 0 0 0 0 0 0 0 0 0 0 0 0 0 0 0 0 0 0 0 0 0 0 0 0 0 0 0 0 0 0 0 0 0 0 0 0 0 0 0 0 0 0 0 0 0 0 0 0 0 0 0 0 0 0 0 0 0 0 0 0 0 0 0 0 0 0 0 0 0 0 0 0 0 0 0 0 0 0 0 0 0 0 0 0 0 0 0 0 0 0 0 0 0 0 0 0 0 0 0 0 0 0 0 0 0 0 0 0 0 0 0 0 0 0 0 0 0 0 0 0 0 0 0 0 0 0 0 0 0 0 0 0 0 0 0 0 0 0 0 0 0 0 0 0 0 0 0 0 0 0 0 0 0 0 0 0 0 0 0 0 0 0 0 0 0 0 0 0 0 0 0 0 0 0 0 0 0 0 0 0 0 0 0 0 0 0 0 0 0 0 0 0 0 0 0 0 0 0 0 0 0 0 0 0 0 0 0 0 0 0 0 0 0 0 0 0 0 0 0 0 0 0 0 0 0 0 0 0 0 0 0 0 0 0 0 0 0 0 0 0 0 0 0 0 0 0 0 0 0 0 0 0 0 0 0 0 0 0 0 0 0 0 0 0 0 0 0 0 0 0 0 0 0 0 0 0 0 0 0 0 0 0 0 0 0 0 0 0 0 0 0 0 0 0 0 0 0 0 0 0 0 0 0 0 0 0 0 0 0 0 0 0 0 0 0 0 0 0 0 0 0 0 0 0 0 0 0 0 0 0 0 0 0 0 0 0 0 0 0 0 0 0 0 0 0 0 0 0 0 0 0 0 0 0 0 0 0 0 0 0 0 0 0 0 0 0 0 0 0 0 0 0 0 0 0 0 0 0 0 0 0 0 0 0 0 0 0 0 0 0 0 0 0 0 0 0 0 0 0 0 0 0 0 0 0 0 0 0 0 0 0 0 0 0 0 0 0 0 0 0 0 0 0 0 0 0 0 0 0 0 0 0 0 0 0 0 0 0 0 0 0 0 0 0 0 0 0 0 0 0 0 0 0 0 0 0 0 0 0 0 0 0 0 0 0 0 0 0 0 0 0 0 0 0 0 0 0 0 0 0 0 0 0 0 0 0 0 0 0 0 0 0 0 0 0 0 0 0 0 0 0 0 0 0 0 0 0 0 0 0 0 0 0 0 0 0 0 0 0 0 0 0 0 0 0 0 0 0 0 0 0 0 0 0 0 0 0 0 0 0 0 0 0 0 0 0 0 0 0 0 0 0 0 0 0 0 0 0 0 0 0 0 0 0 0 0 0 0 0 0 0 0 0 0 0 0 0 0 0 0 0 0 0 0 0 0 0 0 0 0 0 0 0 0 0 0 0 0 0 0 0 0 0 0 0 0 0 0 0 0 0 0 0 0 0 0 0 0 0 0 0 0 0 0 0 0 0 0 0 0 0 0 0 0 0 0 0 0 0 0 0 0 0 0 0 0 0 0 0 0 0 0 0 0 0 0 0 0 0 0 0 0 0 0 0 0 0 0 0 0 0 0 0 0 0 0 0 0 0 0 0 0 0 0 0 0 0 0 0 0 0 0 0 0 0 0 0 0 0 0 0 0 0 0 0 0 0 0 0 0 0 0 0 0 0 0 0 0 0 0 0 0 0 0 0 0 0 0 0 0 0 0 0 0 0 0 0 0 0 0 0 0 0 0 0 0 0 0 0 0 0 0 0 0 0 0 0 0 0 0 0 0 0 0 0 0 0 0 0 0 0 0 0 0 0 0 0 0 0 0 0 0 0 0 0 0 0 0 0 0 0 0 0 0 0 0 0 0 0 0 0 0 0 0 0 0 0 0 0 0 0 0 0 0 0 0 0 0 0 0 0 0 0 0 0 0 0 0 0 0 0 0 0 0 0 0 0 0 0 0 0 0 0 0 0 0 0 0 0 0 0 0 0 0 "
     ]
    }
   ],
   "source": [
    "for i in M.irange():\n",
    "    for j in M.irange():\n",
    "        for k in M.irange():\n",
    "            for l in M.irange():\n",
    "                for p in M.irange():\n",
    "                    print(DR[i,j,k,l,p] + DR[i,j,l,p,k] + DR[i,j,p,k,l], end=' ')"
   ]
  },
  {
   "cell_type": "markdown",
   "metadata": {},
   "source": [
    "<p>If the last sign in the Bianchi identity is changed to minus, the identity does no longer hold:</p>"
   ]
  },
  {
   "cell_type": "code",
   "execution_count": 47,
   "metadata": {},
   "outputs": [
    {
     "data": {
      "text/html": [
       "<html><script type=\"math/tex; mode=display\">\\newcommand{\\Bold}[1]{\\mathbf{#1}}0</script></html>"
      ],
      "text/latex": [
       "\\begin{math}\n",
       "\\newcommand{\\Bold}[1]{\\mathbf{#1}}0\n",
       "\\end{math}"
      ],
      "text/plain": [
       "0"
      ]
     },
     "execution_count": 47,
     "metadata": {},
     "output_type": "execute_result"
    }
   ],
   "source": [
    "DR[0,1,2,3,1] + DR[0,1,3,1,2] + DR[0,1,1,2,3] # should be zero (Bianchi identity)"
   ]
  },
  {
   "cell_type": "code",
   "execution_count": 48,
   "metadata": {},
   "outputs": [
    {
     "data": {
      "text/html": [
       "<html><script type=\"math/tex; mode=display\">\\newcommand{\\Bold}[1]{\\mathbf{#1}}-\\frac{4 \\, {\\left({\\left(a^{5} q^{2} - 6 \\, a^{5} m r + a^{3} q^{2} r^{2} - 6 \\, a^{3} m r^{3}\\right)} \\cos\\left({\\theta}\\right)^{3} - {\\left(5 \\, a^{3} q^{2} r^{2} - 6 \\, a^{3} m r^{3} + 5 \\, a q^{2} r^{4} - 6 \\, a m r^{5}\\right)} \\cos\\left({\\theta}\\right)\\right)} \\sin\\left({\\theta}\\right)}{2 \\, m r^{7} - r^{8} - {\\left(a^{2} + q^{2}\\right)} r^{6} - {\\left(a^{8} + a^{6} q^{2} - 2 \\, a^{6} m r + a^{6} r^{2}\\right)} \\cos\\left({\\theta}\\right)^{6} + 3 \\, {\\left(2 \\, a^{4} m r^{3} - a^{4} r^{4} - {\\left(a^{6} + a^{4} q^{2}\\right)} r^{2}\\right)} \\cos\\left({\\theta}\\right)^{4} + 3 \\, {\\left(2 \\, a^{2} m r^{5} - a^{2} r^{6} - {\\left(a^{4} + a^{2} q^{2}\\right)} r^{4}\\right)} \\cos\\left({\\theta}\\right)^{2}}</script></html>"
      ],
      "text/latex": [
       "\\begin{math}\n",
       "\\newcommand{\\Bold}[1]{\\mathbf{#1}}-\\frac{4 \\, {\\left({\\left(a^{5} q^{2} - 6 \\, a^{5} m r + a^{3} q^{2} r^{2} - 6 \\, a^{3} m r^{3}\\right)} \\cos\\left({\\theta}\\right)^{3} - {\\left(5 \\, a^{3} q^{2} r^{2} - 6 \\, a^{3} m r^{3} + 5 \\, a q^{2} r^{4} - 6 \\, a m r^{5}\\right)} \\cos\\left({\\theta}\\right)\\right)} \\sin\\left({\\theta}\\right)}{2 \\, m r^{7} - r^{8} - {\\left(a^{2} + q^{2}\\right)} r^{6} - {\\left(a^{8} + a^{6} q^{2} - 2 \\, a^{6} m r + a^{6} r^{2}\\right)} \\cos\\left({\\theta}\\right)^{6} + 3 \\, {\\left(2 \\, a^{4} m r^{3} - a^{4} r^{4} - {\\left(a^{6} + a^{4} q^{2}\\right)} r^{2}\\right)} \\cos\\left({\\theta}\\right)^{4} + 3 \\, {\\left(2 \\, a^{2} m r^{5} - a^{2} r^{6} - {\\left(a^{4} + a^{2} q^{2}\\right)} r^{4}\\right)} \\cos\\left({\\theta}\\right)^{2}}\n",
       "\\end{math}"
      ],
      "text/plain": [
       "-4*((a^5*q^2 - 6*a^5*m*r + a^3*q^2*r^2 - 6*a^3*m*r^3)*cos(th)^3 - (5*a^3*q^2*r^2 - 6*a^3*m*r^3 + 5*a*q^2*r^4 - 6*a*m*r^5)*cos(th))*sin(th)/(2*m*r^7 - r^8 - (a^2 + q^2)*r^6 - (a^8 + a^6*q^2 - 2*a^6*m*r + a^6*r^2)*cos(th)^6 + 3*(2*a^4*m*r^3 - a^4*r^4 - (a^6 + a^4*q^2)*r^2)*cos(th)^4 + 3*(2*a^2*m*r^5 - a^2*r^6 - (a^4 + a^2*q^2)*r^4)*cos(th)^2)"
      ]
     },
     "execution_count": 48,
     "metadata": {},
     "output_type": "execute_result"
    }
   ],
   "source": [
    "DR[0,1,2,3,1] + DR[0,1,3,1,2] - DR[0,1,1,2,3] # note the change of the second + to -"
   ]
  },
  {
   "cell_type": "markdown",
   "metadata": {},
   "source": [
    "### Ricci scalar\n",
    "\n",
    "The Ricci scalar $R = g^{ab} R_{ab}$ of the Kerr-Newman spacetime vanishes identically:"
   ]
  },
  {
   "cell_type": "code",
   "execution_count": 49,
   "metadata": {},
   "outputs": [
    {
     "data": {
      "text/html": [
       "<html><script type=\"math/tex; mode=display\">\\newcommand{\\Bold}[1]{\\mathbf{#1}}\\begin{array}{llcl} \\mathrm{r}\\left(g\\right):& \\mathcal{M} & \\longrightarrow & \\mathbb{R} \\\\ & \\left(t, r, {\\theta}, {\\phi}\\right) & \\longmapsto & 0 \\end{array}</script></html>"
      ],
      "text/latex": [
       "\\begin{math}\n",
       "\\newcommand{\\Bold}[1]{\\mathbf{#1}}\\begin{array}{llcl} \\mathrm{r}\\left(g\\right):& \\mathcal{M} & \\longrightarrow & \\mathbb{R} \\\\ & \\left(t, r, {\\theta}, {\\phi}\\right) & \\longmapsto & 0 \\end{array}\n",
       "\\end{math}"
      ],
      "text/plain": [
       "r(g): M --> R\n",
       "   (t, r, th, ph) |--> 0"
      ]
     },
     "execution_count": 49,
     "metadata": {},
     "output_type": "execute_result"
    }
   ],
   "source": [
    "g.ricci_scalar().display()"
   ]
  },
  {
   "cell_type": "markdown",
   "metadata": {},
   "source": [
    "<h2>Einstein equation</h2>\n",
    "<p>The Einstein tensor is</p>"
   ]
  },
  {
   "cell_type": "code",
   "execution_count": 50,
   "metadata": {},
   "outputs": [
    {
     "name": "stdout",
     "output_type": "stream",
     "text": [
      "Field of symmetric bilinear forms Ric(g)-unnamed metric on the 4-dimensional Lorentzian manifold M\n"
     ]
    }
   ],
   "source": [
    "G = Ric - 1/2*g.ricci_scalar()*g\n",
    "print(G)"
   ]
  },
  {
   "cell_type": "markdown",
   "metadata": {},
   "source": [
    "<p>Since the Ricci scalar is zero, the Einstein tensor reduces to the Ricci tensor:</p>"
   ]
  },
  {
   "cell_type": "code",
   "execution_count": 51,
   "metadata": {},
   "outputs": [
    {
     "data": {
      "text/html": [
       "<html><script type=\"math/tex; mode=display\">\\newcommand{\\Bold}[1]{\\mathbf{#1}}\\mathrm{True}</script></html>"
      ],
      "text/latex": [
       "\\begin{math}\n",
       "\\newcommand{\\Bold}[1]{\\mathbf{#1}}\\mathrm{True}\n",
       "\\end{math}"
      ],
      "text/plain": [
       "True"
      ]
     },
     "execution_count": 51,
     "metadata": {},
     "output_type": "execute_result"
    }
   ],
   "source": [
    "G == Ric"
   ]
  },
  {
   "cell_type": "markdown",
   "metadata": {},
   "source": [
    "The invariant $F_{ab} F^{ab}$ of the electromagnetic field:"
   ]
  },
  {
   "cell_type": "code",
   "execution_count": 52,
   "metadata": {},
   "outputs": [
    {
     "name": "stdout",
     "output_type": "stream",
     "text": [
      "Scalar field on the 4-dimensional Lorentzian manifold M\n"
     ]
    }
   ],
   "source": [
    "Fuu = F.up(g)\n",
    "F2 = F['_ab']*Fuu['^ab'] ; print(F2)"
   ]
  },
  {
   "cell_type": "code",
   "execution_count": 53,
   "metadata": {},
   "outputs": [
    {
     "data": {
      "text/html": [
       "<html><script type=\"math/tex; mode=display\">\\newcommand{\\Bold}[1]{\\mathbf{#1}}\\begin{array}{llcl} & \\mathcal{M} & \\longrightarrow & \\mathbb{R} \\\\ & \\left(t, r, {\\theta}, {\\phi}\\right) & \\longmapsto & -\\frac{2 \\, {\\left(a^{4} q^{2} \\cos\\left({\\theta}\\right)^{4} - 6 \\, a^{2} q^{2} r^{2} \\cos\\left({\\theta}\\right)^{2} + q^{2} r^{4}\\right)}}{a^{8} \\cos\\left({\\theta}\\right)^{8} + 4 \\, a^{6} r^{2} \\cos\\left({\\theta}\\right)^{6} + 6 \\, a^{4} r^{4} \\cos\\left({\\theta}\\right)^{4} + 4 \\, a^{2} r^{6} \\cos\\left({\\theta}\\right)^{2} + r^{8}} \\end{array}</script></html>"
      ],
      "text/latex": [
       "\\begin{math}\n",
       "\\newcommand{\\Bold}[1]{\\mathbf{#1}}\\begin{array}{llcl} & \\mathcal{M} & \\longrightarrow & \\mathbb{R} \\\\ & \\left(t, r, {\\theta}, {\\phi}\\right) & \\longmapsto & -\\frac{2 \\, {\\left(a^{4} q^{2} \\cos\\left({\\theta}\\right)^{4} - 6 \\, a^{2} q^{2} r^{2} \\cos\\left({\\theta}\\right)^{2} + q^{2} r^{4}\\right)}}{a^{8} \\cos\\left({\\theta}\\right)^{8} + 4 \\, a^{6} r^{2} \\cos\\left({\\theta}\\right)^{6} + 6 \\, a^{4} r^{4} \\cos\\left({\\theta}\\right)^{4} + 4 \\, a^{2} r^{6} \\cos\\left({\\theta}\\right)^{2} + r^{8}} \\end{array}\n",
       "\\end{math}"
      ],
      "text/plain": [
       "M --> R\n",
       "(t, r, th, ph) |--> -2*(a^4*q^2*cos(th)^4 - 6*a^2*q^2*r^2*cos(th)^2 + q^2*r^4)/(a^8*cos(th)^8 + 4*a^6*r^2*cos(th)^6 + 6*a^4*r^4*cos(th)^4 + 4*a^2*r^6*cos(th)^2 + r^8)"
      ]
     },
     "execution_count": 53,
     "metadata": {},
     "output_type": "execute_result"
    }
   ],
   "source": [
    "F2.display()"
   ]
  },
  {
   "cell_type": "markdown",
   "metadata": {},
   "source": [
    "<p>The energy-momentum tensor of the electromagnetic field:</p>"
   ]
  },
  {
   "cell_type": "code",
   "execution_count": 54,
   "metadata": {},
   "outputs": [
    {
     "name": "stdout",
     "output_type": "stream",
     "text": [
      "Tensor field of type (0,2) on the 4-dimensional Lorentzian manifold M\n"
     ]
    }
   ],
   "source": [
    "Fud = F.up(g,0)\n",
    "T = 1/(4*pi)*( F['_k.']*Fud['^k_.'] - 1/4*F2 * g ); print(T)"
   ]
  },
  {
   "cell_type": "code",
   "execution_count": 55,
   "metadata": {},
   "outputs": [
    {
     "data": {
      "text/html": [
       "<html><script type=\"math/tex; mode=display\">\\newcommand{\\Bold}[1]{\\mathbf{#1}}\\left(\\begin{array}{rrrr}\n",
       "-\\frac{a^{2} q^{2} \\cos\\left({\\theta}\\right)^{2} - 2 \\, a^{2} q^{2} - q^{4} + 2 \\, m q^{2} r - q^{2} r^{2}}{8 \\, {\\left(\\pi a^{6} \\cos\\left({\\theta}\\right)^{6} + 3 \\, \\pi a^{4} r^{2} \\cos\\left({\\theta}\\right)^{4} + 3 \\, \\pi a^{2} r^{4} \\cos\\left({\\theta}\\right)^{2} + \\pi r^{6}\\right)}} & 0 & 0 & -\\frac{{\\left(2 \\, a^{3} q^{2} + a q^{4} - 2 \\, a m q^{2} r + 2 \\, a q^{2} r^{2}\\right)} \\sin\\left({\\theta}\\right)^{2}}{8 \\, {\\left(\\pi a^{6} \\cos\\left({\\theta}\\right)^{6} + 3 \\, \\pi a^{4} r^{2} \\cos\\left({\\theta}\\right)^{4} + 3 \\, \\pi a^{2} r^{4} \\cos\\left({\\theta}\\right)^{2} + \\pi r^{6}\\right)}} \\\\\n",
       "0 & \\frac{q^{2}}{8 \\, {\\left(2 \\, \\pi m r^{3} - \\pi r^{4} - {\\left(\\pi a^{2} + \\pi q^{2}\\right)} r^{2} - {\\left(\\pi a^{4} + \\pi a^{2} q^{2} - 2 \\, \\pi a^{2} m r + \\pi a^{2} r^{2}\\right)} \\cos\\left({\\theta}\\right)^{2}\\right)}} & 0 & 0 \\\\\n",
       "0 & 0 & \\frac{q^{2}}{8 \\, {\\left(\\pi a^{2} \\cos\\left({\\theta}\\right)^{2} + \\pi r^{2}\\right)}} & 0 \\\\\n",
       "-\\frac{{\\left(2 \\, a^{3} q^{2} + a q^{4} - 2 \\, a m q^{2} r + 2 \\, a q^{2} r^{2}\\right)} \\sin\\left({\\theta}\\right)^{2}}{8 \\, {\\left(\\pi a^{6} \\cos\\left({\\theta}\\right)^{6} + 3 \\, \\pi a^{4} r^{2} \\cos\\left({\\theta}\\right)^{4} + 3 \\, \\pi a^{2} r^{4} \\cos\\left({\\theta}\\right)^{2} + \\pi r^{6}\\right)}} & 0 & 0 & -\\frac{{\\left(2 \\, a^{2} m q^{2} r^{5} - 2 \\, a^{2} q^{2} r^{6} - {\\left(2 \\, a^{4} q^{2} + a^{2} q^{4}\\right)} r^{4} - {\\left(2 \\, a^{8} q^{2} + a^{6} q^{4} - 2 \\, a^{6} m q^{2} r + 2 \\, a^{6} q^{2} r^{2}\\right)} \\cos\\left({\\theta}\\right)^{4} + 2 \\, {\\left(2 \\, a^{4} m q^{2} r^{3} + 2 \\, a^{4} q^{2} r^{4} + {\\left(2 \\, a^{6} q^{2} - a^{4} q^{4}\\right)} r^{2}\\right)} \\cos\\left({\\theta}\\right)^{2}\\right)} \\sin\\left({\\theta}\\right)^{4} - {\\left(a^{2} q^{2} r^{6} + q^{2} r^{8} + {\\left(a^{8} q^{2} + a^{6} q^{2} r^{2}\\right)} \\cos\\left({\\theta}\\right)^{6} - 5 \\, {\\left(a^{6} q^{2} r^{2} + a^{4} q^{2} r^{4}\\right)} \\cos\\left({\\theta}\\right)^{4} + {\\left(8 \\, a^{6} q^{2} r^{2} + 11 \\, a^{4} q^{2} r^{4} + 3 \\, a^{2} q^{2} r^{6}\\right)} \\cos\\left({\\theta}\\right)^{2}\\right)} \\sin\\left({\\theta}\\right)^{2}}{8 \\, {\\left(\\pi a^{10} \\cos\\left({\\theta}\\right)^{10} + 5 \\, \\pi a^{8} r^{2} \\cos\\left({\\theta}\\right)^{8} + 10 \\, \\pi a^{6} r^{4} \\cos\\left({\\theta}\\right)^{6} + 10 \\, \\pi a^{4} r^{6} \\cos\\left({\\theta}\\right)^{4} + 5 \\, \\pi a^{2} r^{8} \\cos\\left({\\theta}\\right)^{2} + \\pi r^{10}\\right)}}\n",
       "\\end{array}\\right)</script></html>"
      ],
      "text/latex": [
       "\\begin{math}\n",
       "\\newcommand{\\Bold}[1]{\\mathbf{#1}}\\left(\\begin{array}{rrrr}\n",
       "-\\frac{a^{2} q^{2} \\cos\\left({\\theta}\\right)^{2} - 2 \\, a^{2} q^{2} - q^{4} + 2 \\, m q^{2} r - q^{2} r^{2}}{8 \\, {\\left(\\pi a^{6} \\cos\\left({\\theta}\\right)^{6} + 3 \\, \\pi a^{4} r^{2} \\cos\\left({\\theta}\\right)^{4} + 3 \\, \\pi a^{2} r^{4} \\cos\\left({\\theta}\\right)^{2} + \\pi r^{6}\\right)}} & 0 & 0 & -\\frac{{\\left(2 \\, a^{3} q^{2} + a q^{4} - 2 \\, a m q^{2} r + 2 \\, a q^{2} r^{2}\\right)} \\sin\\left({\\theta}\\right)^{2}}{8 \\, {\\left(\\pi a^{6} \\cos\\left({\\theta}\\right)^{6} + 3 \\, \\pi a^{4} r^{2} \\cos\\left({\\theta}\\right)^{4} + 3 \\, \\pi a^{2} r^{4} \\cos\\left({\\theta}\\right)^{2} + \\pi r^{6}\\right)}} \\\\\n",
       "0 & \\frac{q^{2}}{8 \\, {\\left(2 \\, \\pi m r^{3} - \\pi r^{4} - {\\left(\\pi a^{2} + \\pi q^{2}\\right)} r^{2} - {\\left(\\pi a^{4} + \\pi a^{2} q^{2} - 2 \\, \\pi a^{2} m r + \\pi a^{2} r^{2}\\right)} \\cos\\left({\\theta}\\right)^{2}\\right)}} & 0 & 0 \\\\\n",
       "0 & 0 & \\frac{q^{2}}{8 \\, {\\left(\\pi a^{2} \\cos\\left({\\theta}\\right)^{2} + \\pi r^{2}\\right)}} & 0 \\\\\n",
       "-\\frac{{\\left(2 \\, a^{3} q^{2} + a q^{4} - 2 \\, a m q^{2} r + 2 \\, a q^{2} r^{2}\\right)} \\sin\\left({\\theta}\\right)^{2}}{8 \\, {\\left(\\pi a^{6} \\cos\\left({\\theta}\\right)^{6} + 3 \\, \\pi a^{4} r^{2} \\cos\\left({\\theta}\\right)^{4} + 3 \\, \\pi a^{2} r^{4} \\cos\\left({\\theta}\\right)^{2} + \\pi r^{6}\\right)}} & 0 & 0 & -\\frac{{\\left(2 \\, a^{2} m q^{2} r^{5} - 2 \\, a^{2} q^{2} r^{6} - {\\left(2 \\, a^{4} q^{2} + a^{2} q^{4}\\right)} r^{4} - {\\left(2 \\, a^{8} q^{2} + a^{6} q^{4} - 2 \\, a^{6} m q^{2} r + 2 \\, a^{6} q^{2} r^{2}\\right)} \\cos\\left({\\theta}\\right)^{4} + 2 \\, {\\left(2 \\, a^{4} m q^{2} r^{3} + 2 \\, a^{4} q^{2} r^{4} + {\\left(2 \\, a^{6} q^{2} - a^{4} q^{4}\\right)} r^{2}\\right)} \\cos\\left({\\theta}\\right)^{2}\\right)} \\sin\\left({\\theta}\\right)^{4} - {\\left(a^{2} q^{2} r^{6} + q^{2} r^{8} + {\\left(a^{8} q^{2} + a^{6} q^{2} r^{2}\\right)} \\cos\\left({\\theta}\\right)^{6} - 5 \\, {\\left(a^{6} q^{2} r^{2} + a^{4} q^{2} r^{4}\\right)} \\cos\\left({\\theta}\\right)^{4} + {\\left(8 \\, a^{6} q^{2} r^{2} + 11 \\, a^{4} q^{2} r^{4} + 3 \\, a^{2} q^{2} r^{6}\\right)} \\cos\\left({\\theta}\\right)^{2}\\right)} \\sin\\left({\\theta}\\right)^{2}}{8 \\, {\\left(\\pi a^{10} \\cos\\left({\\theta}\\right)^{10} + 5 \\, \\pi a^{8} r^{2} \\cos\\left({\\theta}\\right)^{8} + 10 \\, \\pi a^{6} r^{4} \\cos\\left({\\theta}\\right)^{6} + 10 \\, \\pi a^{4} r^{6} \\cos\\left({\\theta}\\right)^{4} + 5 \\, \\pi a^{2} r^{8} \\cos\\left({\\theta}\\right)^{2} + \\pi r^{10}\\right)}}\n",
       "\\end{array}\\right)\n",
       "\\end{math}"
      ],
      "text/plain": [
       "[                                                                                                                                                                                                                                                                                                                                                                                                  -1/8*(a^2*q^2*cos(th)^2 - 2*a^2*q^2 - q^4 + 2*m*q^2*r - q^2*r^2)/(pi*a^6*cos(th)^6 + 3*pi*a^4*r^2*cos(th)^4 + 3*pi*a^2*r^4*cos(th)^2 + pi*r^6)                                                                                                                                                                                                                                                                                                                                                                                                                                                                                                                                                0                                                                                                                                                                                                                                                                                                                                                                                                                                                                                                                                                0                                                                                                                                                                                                                                                                                                                                                                                                     -1/8*(2*a^3*q^2 + a*q^4 - 2*a*m*q^2*r + 2*a*q^2*r^2)*sin(th)^2/(pi*a^6*cos(th)^6 + 3*pi*a^4*r^2*cos(th)^4 + 3*pi*a^2*r^4*cos(th)^2 + pi*r^6)]\n",
       "[                                                                                                                                                                                                                                                                                                                                                                                                                                                                                                                                               0                                                                                                                                                                                                                                                                                                                                                                                                                              1/8*q^2/(2*pi*m*r^3 - pi*r^4 - (pi*a^2 + pi*q^2)*r^2 - (pi*a^4 + pi*a^2*q^2 - 2*pi*a^2*m*r + pi*a^2*r^2)*cos(th)^2)                                                                                                                                                                                                                                                                                                                                                                                                                                                                                                                                                0                                                                                                                                                                                                                                                                                                                                                                                                                                                                                                                                                0]\n",
       "[                                                                                                                                                                                                                                                                                                                                                                                                                                                                                                                                               0                                                                                                                                                                                                                                                                                                                                                                                                                                                                                                                                                0                                                                                                                                                                                                                                                                                                                                                                                                                                                                                                              1/8*q^2/(pi*a^2*cos(th)^2 + pi*r^2)                                                                                                                                                                                                                                                                                                                                                                                                                                                                                                                                                0]\n",
       "[                                                                                                                                                                                                                                                                                                                                                                                                    -1/8*(2*a^3*q^2 + a*q^4 - 2*a*m*q^2*r + 2*a*q^2*r^2)*sin(th)^2/(pi*a^6*cos(th)^6 + 3*pi*a^4*r^2*cos(th)^4 + 3*pi*a^2*r^4*cos(th)^2 + pi*r^6)                                                                                                                                                                                                                                                                                                                                                                                                                                                                                                                                                0                                                                                                                                                                                                                                                                                                                                                                                                                                                                                                                                                0 -1/8*((2*a^2*m*q^2*r^5 - 2*a^2*q^2*r^6 - (2*a^4*q^2 + a^2*q^4)*r^4 - (2*a^8*q^2 + a^6*q^4 - 2*a^6*m*q^2*r + 2*a^6*q^2*r^2)*cos(th)^4 + 2*(2*a^4*m*q^2*r^3 + 2*a^4*q^2*r^4 + (2*a^6*q^2 - a^4*q^4)*r^2)*cos(th)^2)*sin(th)^4 - (a^2*q^2*r^6 + q^2*r^8 + (a^8*q^2 + a^6*q^2*r^2)*cos(th)^6 - 5*(a^6*q^2*r^2 + a^4*q^2*r^4)*cos(th)^4 + (8*a^6*q^2*r^2 + 11*a^4*q^2*r^4 + 3*a^2*q^2*r^6)*cos(th)^2)*sin(th)^2)/(pi*a^10*cos(th)^10 + 5*pi*a^8*r^2*cos(th)^8 + 10*pi*a^6*r^4*cos(th)^6 + 10*pi*a^4*r^6*cos(th)^4 + 5*pi*a^2*r^8*cos(th)^2 + pi*r^10)]"
      ]
     },
     "execution_count": 55,
     "metadata": {},
     "output_type": "execute_result"
    }
   ],
   "source": [
    "T[:]"
   ]
  },
  {
   "cell_type": "markdown",
   "metadata": {},
   "source": [
    "<p>Check of the Einstein equation:</p>"
   ]
  },
  {
   "cell_type": "code",
   "execution_count": 56,
   "metadata": {},
   "outputs": [
    {
     "data": {
      "text/html": [
       "<html><script type=\"math/tex; mode=display\">\\newcommand{\\Bold}[1]{\\mathbf{#1}}\\mathrm{True}</script></html>"
      ],
      "text/latex": [
       "\\begin{math}\n",
       "\\newcommand{\\Bold}[1]{\\mathbf{#1}}\\mathrm{True}\n",
       "\\end{math}"
      ],
      "text/plain": [
       "True"
      ]
     },
     "execution_count": 56,
     "metadata": {},
     "output_type": "execute_result"
    }
   ],
   "source": [
    "G == 8*pi*T"
   ]
  },
  {
   "cell_type": "markdown",
   "metadata": {},
   "source": [
    "### Kretschmann scalar\n",
    "\n",
    "The tensor $R^\\flat$, of components $R_{abcd} = g_{am} R^m_{\\ \\, bcd}$:"
   ]
  },
  {
   "cell_type": "code",
   "execution_count": 57,
   "metadata": {},
   "outputs": [
    {
     "name": "stdout",
     "output_type": "stream",
     "text": [
      "Tensor field of type (0,4) on the 4-dimensional Lorentzian manifold M\n"
     ]
    }
   ],
   "source": [
    "dR = R.down(g)\n",
    "print(dR)"
   ]
  },
  {
   "cell_type": "markdown",
   "metadata": {},
   "source": [
    "The tensor $R^\\sharp$, of components $R^{abcd} = g^{bp} g^{cq} g^{dr} R^a_{\\ \\, pqr}$:"
   ]
  },
  {
   "cell_type": "code",
   "execution_count": 58,
   "metadata": {},
   "outputs": [
    {
     "name": "stdout",
     "output_type": "stream",
     "text": [
      "Tensor field of type (4,0) on the 4-dimensional Lorentzian manifold M\n"
     ]
    }
   ],
   "source": [
    "uR = R.up(g)\n",
    "print(uR)"
   ]
  },
  {
   "cell_type": "markdown",
   "metadata": {},
   "source": [
    "The Kretschmann scalar $K := R^{abcd} R_{abcd}$:"
   ]
  },
  {
   "cell_type": "code",
   "execution_count": 59,
   "metadata": {},
   "outputs": [
    {
     "data": {
      "text/html": [
       "<html><script type=\"math/tex; mode=display\">\\newcommand{\\Bold}[1]{\\mathbf{#1}}\\begin{array}{llcl} & \\mathcal{M} & \\longrightarrow & \\mathbb{R} \\\\ & \\left(t, r, {\\theta}, {\\phi}\\right) & \\longmapsto & -\\frac{8 \\, {\\left(6 \\, m^{2} r^{8} - 12 \\, {\\left(m^{3} + m q^{2}\\right)} r^{7} + {\\left(6 \\, a^{2} m^{2} + 30 \\, m^{2} q^{2} + 7 \\, q^{4}\\right)} r^{6} - 6 \\, {\\left(a^{8} m^{2} + a^{6} m^{2} q^{2} - 2 \\, a^{6} m^{3} r + a^{6} m^{2} r^{2}\\right)} \\cos\\left({\\theta}\\right)^{6} - 2 \\, {\\left(6 \\, a^{2} m q^{2} + 13 \\, m q^{4}\\right)} r^{5} + 7 \\, {\\left(a^{2} q^{4} + q^{6}\\right)} r^{4} + {\\left(7 \\, a^{6} q^{4} + 7 \\, a^{4} q^{6} + 90 \\, a^{4} m^{2} r^{4} - 60 \\, {\\left(3 \\, a^{4} m^{3} + a^{4} m q^{2}\\right)} r^{3} + {\\left(90 \\, a^{6} m^{2} + 210 \\, a^{4} m^{2} q^{2} + 7 \\, a^{4} q^{4}\\right)} r^{2} - 2 \\, {\\left(30 \\, a^{6} m q^{2} + 37 \\, a^{4} m q^{4}\\right)} r\\right)} \\cos\\left({\\theta}\\right)^{4} - 2 \\, {\\left(45 \\, a^{2} m^{2} r^{6} - 30 \\, {\\left(3 \\, a^{2} m^{3} + 2 \\, a^{2} m q^{2}\\right)} r^{5} + {\\left(45 \\, a^{4} m^{2} + 165 \\, a^{2} m^{2} q^{2} + 17 \\, a^{2} q^{4}\\right)} r^{4} - 2 \\, {\\left(30 \\, a^{4} m q^{2} + 47 \\, a^{2} m q^{4}\\right)} r^{3} + 17 \\, {\\left(a^{4} q^{4} + a^{2} q^{6}\\right)} r^{2}\\right)} \\cos\\left({\\theta}\\right)^{2}\\right)}}{2 \\, m r^{13} - r^{14} - {\\left(a^{2} + q^{2}\\right)} r^{12} - {\\left(a^{14} + a^{12} q^{2} - 2 \\, a^{12} m r + a^{12} r^{2}\\right)} \\cos\\left({\\theta}\\right)^{12} + 6 \\, {\\left(2 \\, a^{10} m r^{3} - a^{10} r^{4} - {\\left(a^{12} + a^{10} q^{2}\\right)} r^{2}\\right)} \\cos\\left({\\theta}\\right)^{10} + 15 \\, {\\left(2 \\, a^{8} m r^{5} - a^{8} r^{6} - {\\left(a^{10} + a^{8} q^{2}\\right)} r^{4}\\right)} \\cos\\left({\\theta}\\right)^{8} + 20 \\, {\\left(2 \\, a^{6} m r^{7} - a^{6} r^{8} - {\\left(a^{8} + a^{6} q^{2}\\right)} r^{6}\\right)} \\cos\\left({\\theta}\\right)^{6} + 15 \\, {\\left(2 \\, a^{4} m r^{9} - a^{4} r^{10} - {\\left(a^{6} + a^{4} q^{2}\\right)} r^{8}\\right)} \\cos\\left({\\theta}\\right)^{4} + 6 \\, {\\left(2 \\, a^{2} m r^{11} - a^{2} r^{12} - {\\left(a^{4} + a^{2} q^{2}\\right)} r^{10}\\right)} \\cos\\left({\\theta}\\right)^{2}} \\end{array}</script></html>"
      ],
      "text/latex": [
       "\\begin{math}\n",
       "\\newcommand{\\Bold}[1]{\\mathbf{#1}}\\begin{array}{llcl} & \\mathcal{M} & \\longrightarrow & \\mathbb{R} \\\\ & \\left(t, r, {\\theta}, {\\phi}\\right) & \\longmapsto & -\\frac{8 \\, {\\left(6 \\, m^{2} r^{8} - 12 \\, {\\left(m^{3} + m q^{2}\\right)} r^{7} + {\\left(6 \\, a^{2} m^{2} + 30 \\, m^{2} q^{2} + 7 \\, q^{4}\\right)} r^{6} - 6 \\, {\\left(a^{8} m^{2} + a^{6} m^{2} q^{2} - 2 \\, a^{6} m^{3} r + a^{6} m^{2} r^{2}\\right)} \\cos\\left({\\theta}\\right)^{6} - 2 \\, {\\left(6 \\, a^{2} m q^{2} + 13 \\, m q^{4}\\right)} r^{5} + 7 \\, {\\left(a^{2} q^{4} + q^{6}\\right)} r^{4} + {\\left(7 \\, a^{6} q^{4} + 7 \\, a^{4} q^{6} + 90 \\, a^{4} m^{2} r^{4} - 60 \\, {\\left(3 \\, a^{4} m^{3} + a^{4} m q^{2}\\right)} r^{3} + {\\left(90 \\, a^{6} m^{2} + 210 \\, a^{4} m^{2} q^{2} + 7 \\, a^{4} q^{4}\\right)} r^{2} - 2 \\, {\\left(30 \\, a^{6} m q^{2} + 37 \\, a^{4} m q^{4}\\right)} r\\right)} \\cos\\left({\\theta}\\right)^{4} - 2 \\, {\\left(45 \\, a^{2} m^{2} r^{6} - 30 \\, {\\left(3 \\, a^{2} m^{3} + 2 \\, a^{2} m q^{2}\\right)} r^{5} + {\\left(45 \\, a^{4} m^{2} + 165 \\, a^{2} m^{2} q^{2} + 17 \\, a^{2} q^{4}\\right)} r^{4} - 2 \\, {\\left(30 \\, a^{4} m q^{2} + 47 \\, a^{2} m q^{4}\\right)} r^{3} + 17 \\, {\\left(a^{4} q^{4} + a^{2} q^{6}\\right)} r^{2}\\right)} \\cos\\left({\\theta}\\right)^{2}\\right)}}{2 \\, m r^{13} - r^{14} - {\\left(a^{2} + q^{2}\\right)} r^{12} - {\\left(a^{14} + a^{12} q^{2} - 2 \\, a^{12} m r + a^{12} r^{2}\\right)} \\cos\\left({\\theta}\\right)^{12} + 6 \\, {\\left(2 \\, a^{10} m r^{3} - a^{10} r^{4} - {\\left(a^{12} + a^{10} q^{2}\\right)} r^{2}\\right)} \\cos\\left({\\theta}\\right)^{10} + 15 \\, {\\left(2 \\, a^{8} m r^{5} - a^{8} r^{6} - {\\left(a^{10} + a^{8} q^{2}\\right)} r^{4}\\right)} \\cos\\left({\\theta}\\right)^{8} + 20 \\, {\\left(2 \\, a^{6} m r^{7} - a^{6} r^{8} - {\\left(a^{8} + a^{6} q^{2}\\right)} r^{6}\\right)} \\cos\\left({\\theta}\\right)^{6} + 15 \\, {\\left(2 \\, a^{4} m r^{9} - a^{4} r^{10} - {\\left(a^{6} + a^{4} q^{2}\\right)} r^{8}\\right)} \\cos\\left({\\theta}\\right)^{4} + 6 \\, {\\left(2 \\, a^{2} m r^{11} - a^{2} r^{12} - {\\left(a^{4} + a^{2} q^{2}\\right)} r^{10}\\right)} \\cos\\left({\\theta}\\right)^{2}} \\end{array}\n",
       "\\end{math}"
      ],
      "text/plain": [
       "M --> R\n",
       "(t, r, th, ph) |--> -8*(6*m^2*r^8 - 12*(m^3 + m*q^2)*r^7 + (6*a^2*m^2 + 30*m^2*q^2 + 7*q^4)*r^6 - 6*(a^8*m^2 + a^6*m^2*q^2 - 2*a^6*m^3*r + a^6*m^2*r^2)*cos(th)^6 - 2*(6*a^2*m*q^2 + 13*m*q^4)*r^5 + 7*(a^2*q^4 + q^6)*r^4 + (7*a^6*q^4 + 7*a^4*q^6 + 90*a^4*m^2*r^4 - 60*(3*a^4*m^3 + a^4*m*q^2)*r^3 + (90*a^6*m^2 + 210*a^4*m^2*q^2 + 7*a^4*q^4)*r^2 - 2*(30*a^6*m*q^2 + 37*a^4*m*q^4)*r)*cos(th)^4 - 2*(45*a^2*m^2*r^6 - 30*(3*a^2*m^3 + 2*a^2*m*q^2)*r^5 + (45*a^4*m^2 + 165*a^2*m^2*q^2 + 17*a^2*q^4)*r^4 - 2*(30*a^4*m*q^2 + 47*a^2*m*q^4)*r^3 + 17*(a^4*q^4 + a^2*q^6)*r^2)*cos(th)^2)/(2*m*r^13 - r^14 - (a^2 + q^2)*r^12 - (a^14 + a^12*q^2 - 2*a^12*m*r + a^12*r^2)*cos(th)^12 + 6*(2*a^10*m*r^3 - a^10*r^4 - (a^12 + a^10*q^2)*r^2)*cos(th)^10 + 15*(2*a^8*m*r^5 - a^8*r^6 - (a^10 + a^8*q^2)*r^4)*cos(th)^8 + 20*(2*a^6*m*r^7 - a^6*r^8 - (a^8 + a^6*q^2)*r^6)*cos(th)^6 + 15*(2*a^4*m*r^9 - a^4*r^10 - (a^6 + a^4*q^2)*r^8)*cos(th)^4 + 6*(2*a^2*m*r^11 - a^2*r^12 - (a^4 + a^2*q^2)*r^10)*cos(th)^2)"
      ]
     },
     "execution_count": 59,
     "metadata": {},
     "output_type": "execute_result"
    }
   ],
   "source": [
    "Kr_scalar = uR['^ijkl']*dR['_ijkl']\n",
    "Kr_scalar.display()"
   ]
  },
  {
   "cell_type": "markdown",
   "metadata": {},
   "source": [
    "A variant of this expression can be obtained by invoking the `factor()` method on the coordinate function representing the scalar field in the manifold's default chart:"
   ]
  },
  {
   "cell_type": "code",
   "execution_count": 60,
   "metadata": {},
   "outputs": [
    {
     "data": {
      "text/html": [
       "<html><script type=\"math/tex; mode=display\">\\newcommand{\\Bold}[1]{\\mathbf{#1}}-\\frac{8 \\, {\\left(6 \\, a^{6} m^{2} \\cos\\left({\\theta}\\right)^{6} - 7 \\, a^{4} q^{4} \\cos\\left({\\theta}\\right)^{4} + 60 \\, a^{4} m q^{2} r \\cos\\left({\\theta}\\right)^{4} - 90 \\, a^{4} m^{2} r^{2} \\cos\\left({\\theta}\\right)^{4} + 34 \\, a^{2} q^{4} r^{2} \\cos\\left({\\theta}\\right)^{2} - 120 \\, a^{2} m q^{2} r^{3} \\cos\\left({\\theta}\\right)^{2} + 90 \\, a^{2} m^{2} r^{4} \\cos\\left({\\theta}\\right)^{2} - 7 \\, q^{4} r^{4} + 12 \\, m q^{2} r^{5} - 6 \\, m^{2} r^{6}\\right)}}{{\\left(a^{2} \\cos\\left({\\theta}\\right)^{2} + r^{2}\\right)}^{6}}</script></html>"
      ],
      "text/latex": [
       "\\begin{math}\n",
       "\\newcommand{\\Bold}[1]{\\mathbf{#1}}-\\frac{8 \\, {\\left(6 \\, a^{6} m^{2} \\cos\\left({\\theta}\\right)^{6} - 7 \\, a^{4} q^{4} \\cos\\left({\\theta}\\right)^{4} + 60 \\, a^{4} m q^{2} r \\cos\\left({\\theta}\\right)^{4} - 90 \\, a^{4} m^{2} r^{2} \\cos\\left({\\theta}\\right)^{4} + 34 \\, a^{2} q^{4} r^{2} \\cos\\left({\\theta}\\right)^{2} - 120 \\, a^{2} m q^{2} r^{3} \\cos\\left({\\theta}\\right)^{2} + 90 \\, a^{2} m^{2} r^{4} \\cos\\left({\\theta}\\right)^{2} - 7 \\, q^{4} r^{4} + 12 \\, m q^{2} r^{5} - 6 \\, m^{2} r^{6}\\right)}}{{\\left(a^{2} \\cos\\left({\\theta}\\right)^{2} + r^{2}\\right)}^{6}}\n",
       "\\end{math}"
      ],
      "text/plain": [
       "-8*(6*a^6*m^2*cos(th)^6 - 7*a^4*q^4*cos(th)^4 + 60*a^4*m*q^2*r*cos(th)^4 - 90*a^4*m^2*r^2*cos(th)^4 + 34*a^2*q^4*r^2*cos(th)^2 - 120*a^2*m*q^2*r^3*cos(th)^2 + 90*a^2*m^2*r^4*cos(th)^2 - 7*q^4*r^4 + 12*m*q^2*r^5 - 6*m^2*r^6)/(a^2*cos(th)^2 + r^2)^6"
      ]
     },
     "execution_count": 60,
     "metadata": {},
     "output_type": "execute_result"
    }
   ],
   "source": [
    "Kr = Kr_scalar.coord_function()\n",
    "Kr.factor()"
   ]
  },
  {
   "cell_type": "markdown",
   "metadata": {},
   "source": [
    "<p>As a check, we can compare Kr to the formula given by R. Conn Henry, <a href=\"http://iopscience.iop.org/0004-637X/535/1/350/fulltext/\">Astrophys. J. <strong>535</strong>, 350 (2000)</a>:</p>"
   ]
  },
  {
   "cell_type": "code",
   "execution_count": 61,
   "metadata": {},
   "outputs": [
    {
     "data": {
      "text/html": [
       "<html><script type=\"math/tex; mode=display\">\\newcommand{\\Bold}[1]{\\mathbf{#1}}\\mathrm{True}</script></html>"
      ],
      "text/latex": [
       "\\begin{math}\n",
       "\\newcommand{\\Bold}[1]{\\mathbf{#1}}\\mathrm{True}\n",
       "\\end{math}"
      ],
      "text/plain": [
       "True"
      ]
     },
     "execution_count": 61,
     "metadata": {},
     "output_type": "execute_result"
    }
   ],
   "source": [
    "Kr == 8/(r^2+(a*cos(th))^2)^6 *( \n",
    "          6*m^2*(r^6 - 15*r^4*(a*cos(th))^2 + 15*r^2*(a*cos(th))^4 - (a*cos(th))^6) \n",
    "        - 12*m*q^2*r*(r^4 - 10*(a*r*cos(th))^2 + 5*(a*cos(th))^4) \n",
    "        + q^4*(7*r^4 - 34*(a*r*cos(th))^2 + 7*(a*cos(th))^4) )"
   ]
  },
  {
   "cell_type": "markdown",
   "metadata": {},
   "source": [
    "<p>The Schwarzschild value of the Kretschmann scalar is recovered by setting $a=0$ and $q=0$:</p>"
   ]
  },
  {
   "cell_type": "code",
   "execution_count": 62,
   "metadata": {},
   "outputs": [
    {
     "data": {
      "text/html": [
       "<html><script type=\"math/tex; mode=display\">\\newcommand{\\Bold}[1]{\\mathbf{#1}}\\frac{48 \\, m^{2}}{r^{6}}</script></html>"
      ],
      "text/latex": [
       "\\begin{math}\n",
       "\\newcommand{\\Bold}[1]{\\mathbf{#1}}\\frac{48 \\, m^{2}}{r^{6}}\n",
       "\\end{math}"
      ],
      "text/plain": [
       "48*m^2/r^6"
      ]
     },
     "execution_count": 62,
     "metadata": {},
     "output_type": "execute_result"
    }
   ],
   "source": [
    "Kr.expr().subs(a=0, q=0)"
   ]
  },
  {
   "cell_type": "markdown",
   "metadata": {},
   "source": [
    "<p>Let us plot the Kretschmann scalar for $m=1$, $a=0.9$ and $q=0.5$:</p>"
   ]
  },
  {
   "cell_type": "code",
   "execution_count": 63,
   "metadata": {},
   "outputs": [
    {
     "data": {
      "text/html": [
       "\n",
       "<iframe srcdoc=\"<!DOCTYPE html>\n",
       "<html>\n",
       "<head>\n",
       "<title></title>\n",
       "<meta charset=&quot;utf-8&quot;>\n",
       "<meta name=viewport content=&quot;width=device-width, user-scalable=no, minimum-scale=1.0, maximum-scale=1.0&quot;>\n",
       "<style>\n",
       "\n",
       "    body { margin: 0px; overflow: hidden; }\n",
       "\n",
       "    #menu-container { position: absolute; bottom: 30px; right: 40px; cursor: default; }\n",
       "\n",
       "    #menu-message { position: absolute; bottom: 0px; right: 0px; white-space: nowrap;\n",
       "                    display: none; background-color: #F5F5F5; padding: 10px; }\n",
       "\n",
       "    #menu-content { position: absolute; bottom: 0px; right: 0px;\n",
       "                    display: none; background-color: #F5F5F5; border-bottom: 1px solid black;\n",
       "                    border-right: 1px solid black; border-left: 1px solid black; }\n",
       "\n",
       "    #menu-content div { border-top: 1px solid black; padding: 10px; white-space: nowrap; }\n",
       "\n",
       "    #menu-content div:hover { background-color: #FEFEFE;; }\n",
       "\n",
       "</style>\n",
       "\n",
       "</head>\n",
       "\n",
       "<body>\n",
       "\n",
       "<script src=&quot;/nbextensions/threejs/build/three.min.js&quot;></script>\n",
       "<script src=&quot;/nbextensions/threejs/examples/js/controls/OrbitControls.js&quot;></script>\n",
       "<script>\n",
       "  if ( !window.THREE ) document.write(' \\\n",
       "<script src=&quot;https://cdn.jsdelivr.net/gh/mrdoob/three.js@r117/build/three.min.js&quot;><\\/script> \\\n",
       "<script src=&quot;https://cdn.jsdelivr.net/gh/mrdoob/three.js@r117/examples/js/controls/OrbitControls.js&quot;><\\/script> \\\n",
       "            ');\n",
       "</script>\n",
       "        \n",
       "<script>\n",
       "\n",
       "    var scene = new THREE.Scene();\n",
       "\n",
       "    var renderer = new THREE.WebGLRenderer( { antialias: true, preserveDrawingBuffer: true } );\n",
       "    renderer.setPixelRatio( window.devicePixelRatio );\n",
       "    renderer.setSize( window.innerWidth, window.innerHeight );\n",
       "    renderer.setClearColor( 0xffffff, 1 );\n",
       "    document.body.appendChild( renderer.domElement );\n",
       "\n",
       "    var options = {&quot;animate&quot;: false, &quot;animationControls&quot;: true, &quot;aspectRatio&quot;: [1.0, 1.0, 1.0], &quot;autoPlay&quot;: true, &quot;axes&quot;: false, &quot;axesLabels&quot;: [&quot;r&quot;, &quot;theta&quot;, &quot;Kr&quot;], &quot;decimals&quot;: 2, &quot;delay&quot;: 20, &quot;frame&quot;: true, &quot;loop&quot;: true, &quot;projection&quot;: &quot;perspective&quot;, &quot;viewpoint&quot;: false};\n",
       "    var animate = options.animate;\n",
       "\n",
       "    var b = [{&quot;x&quot;:1.0, &quot;y&quot;:0.0, &quot;z&quot;:-16.13816719187259}, {&quot;x&quot;:3.0, &quot;y&quot;:3.141592653589793, &quot;z&quot;:26.637746631623816}]; // bounds\n",
       "\n",
       "    if ( b[0].x === b[1].x ) {\n",
       "        b[0].x -= 1;\n",
       "        b[1].x += 1;\n",
       "    }\n",
       "    if ( b[0].y === b[1].y ) {\n",
       "        b[0].y -= 1;\n",
       "        b[1].y += 1;\n",
       "    }\n",
       "    if ( b[0].z === b[1].z ) {\n",
       "        b[0].z -= 1;\n",
       "        b[1].z += 1;\n",
       "    }\n",
       "\n",
       "    var rRange = Math.sqrt( Math.pow( b[1].x - b[0].x, 2 )\n",
       "                            + Math.pow( b[1].y - b[0].y, 2 ) );\n",
       "    var xRange = b[1].x - b[0].x;\n",
       "    var yRange = b[1].y - b[0].y;\n",
       "    var zRange = b[1].z - b[0].z;\n",
       "\n",
       "    var ar = options.aspectRatio;\n",
       "    var a = [ ar[0], ar[1], ar[2] ]; // aspect multipliers\n",
       "    var autoAspect = 2.5;\n",
       "    if ( zRange > autoAspect * rRange && a[2] === 1 ) a[2] = autoAspect * rRange / zRange;\n",
       "\n",
       "    // Distance from (xMid,yMid,zMid) to any corner of the bounding box, after applying aspectRatio\n",
       "    var midToCorner = Math.sqrt( a[0]*a[0]*xRange*xRange + a[1]*a[1]*yRange*yRange + a[2]*a[2]*zRange*zRange ) / 2;\n",
       "\n",
       "    var xMid = ( b[0].x + b[1].x ) / 2;\n",
       "    var yMid = ( b[0].y + b[1].y ) / 2;\n",
       "    var zMid = ( b[0].z + b[1].z ) / 2;\n",
       "\n",
       "    var box = new THREE.Geometry();\n",
       "    box.vertices.push( new THREE.Vector3( a[0]*b[0].x, a[1]*b[0].y, a[2]*b[0].z ) );\n",
       "    box.vertices.push( new THREE.Vector3( a[0]*b[1].x, a[1]*b[1].y, a[2]*b[1].z ) );\n",
       "    var boxMesh = new THREE.Line( box );\n",
       "    if ( options.frame ) scene.add( new THREE.BoxHelper( boxMesh, 'black' ) );\n",
       "\n",
       "    if ( options.axesLabels ) {\n",
       "\n",
       "        var d = options.decimals; // decimals\n",
       "        var offsetRatio = 0.1;\n",
       "        var al = options.axesLabels;\n",
       "\n",
       "        var offset = offsetRatio * a[1]*( b[1].y - b[0].y );\n",
       "        var xm = xMid.toFixed(d);\n",
       "        if ( /^-0.?0*$/.test(xm) ) xm = xm.substr(1);\n",
       "        addLabel( al[0] + '=' + xm, a[0]*xMid, a[1]*b[1].y+offset, a[2]*b[0].z );\n",
       "        addLabel( ( b[0].x ).toFixed(d), a[0]*b[0].x, a[1]*b[1].y+offset, a[2]*b[0].z );\n",
       "        addLabel( ( b[1].x ).toFixed(d), a[0]*b[1].x, a[1]*b[1].y+offset, a[2]*b[0].z );\n",
       "\n",
       "        var offset = offsetRatio * a[0]*( b[1].x - b[0].x );\n",
       "        var ym = yMid.toFixed(d);\n",
       "        if ( /^-0.?0*$/.test(ym) ) ym = ym.substr(1);\n",
       "        addLabel( al[1] + '=' + ym, a[0]*b[1].x+offset, a[1]*yMid, a[2]*b[0].z );\n",
       "        addLabel( ( b[0].y ).toFixed(d), a[0]*b[1].x+offset, a[1]*b[0].y, a[2]*b[0].z );\n",
       "        addLabel( ( b[1].y ).toFixed(d), a[0]*b[1].x+offset, a[1]*b[1].y, a[2]*b[0].z );\n",
       "\n",
       "        var offset = offsetRatio * a[1]*( b[1].y - b[0].y );\n",
       "        var zm = zMid.toFixed(d);\n",
       "        if ( /^-0.?0*$/.test(zm) ) zm = zm.substr(1);\n",
       "        addLabel( al[2] + '=' + zm, a[0]*b[1].x, a[1]*b[0].y-offset, a[2]*zMid );\n",
       "        addLabel( ( b[0].z ).toFixed(d), a[0]*b[1].x, a[1]*b[0].y-offset, a[2]*b[0].z );\n",
       "        addLabel( ( b[1].z ).toFixed(d), a[0]*b[1].x, a[1]*b[0].y-offset, a[2]*b[1].z );\n",
       "\n",
       "    }\n",
       "\n",
       "    function addLabel( text, x, y, z, color='black', fontsize=14 ) {\n",
       "\n",
       "        var canvas = document.createElement( 'canvas' );\n",
       "        var context = canvas.getContext( '2d' );\n",
       "        var pixelRatio = Math.round( window.devicePixelRatio );\n",
       "\n",
       "        context.font = fontsize + 'px monospace';\n",
       "        var width = context.measureText( text ).width;\n",
       "        var height = fontsize;\n",
       "\n",
       "        // The dimensions of the canvas's underlying image data need to be powers\n",
       "        // of two in order for the resulting texture to support mipmapping.\n",
       "        canvas.width = THREE.MathUtils.ceilPowerOfTwo( width * pixelRatio );\n",
       "        canvas.height = THREE.MathUtils.ceilPowerOfTwo( height * pixelRatio );\n",
       "\n",
       "        // Re-compute the unscaled dimensions after the power of two conversion.\n",
       "        width = canvas.width / pixelRatio;\n",
       "        height = canvas.height / pixelRatio;\n",
       "\n",
       "        canvas.style.width = width + 'px';\n",
       "        canvas.style.height = height + 'px';\n",
       "\n",
       "        context.scale( pixelRatio, pixelRatio );\n",
       "        context.fillStyle = color;\n",
       "        context.font = fontsize + 'px monospace'; // Must be set again after measureText.\n",
       "        context.textAlign = 'center';\n",
       "        context.textBaseline = 'middle';\n",
       "        context.fillText( text, width/2, height/2 );\n",
       "\n",
       "        var texture = new THREE.Texture( canvas );\n",
       "        texture.needsUpdate = true;\n",
       "\n",
       "        var materialOptions = { map: texture, sizeAttenuation: false };\n",
       "        var sprite = new THREE.Sprite( new THREE.SpriteMaterial( materialOptions ) );\n",
       "        sprite.position.set( x, y, z );\n",
       "\n",
       "        // Scaling factor, chosen somewhat arbitrarily so that the size of the text\n",
       "        // is consistent with previously generated plots.\n",
       "        var scale = 1/625;\n",
       "        if ( options.projection === 'orthographic' ) {\n",
       "            scale = midToCorner/256; // Needs to scale along with the plot itself.\n",
       "        }\n",
       "        sprite.scale.set( scale * width, scale * height, 1 );\n",
       "\n",
       "        scene.add( sprite );\n",
       "\n",
       "        return sprite;\n",
       "\n",
       "    }\n",
       "\n",
       "    if ( options.axes ) scene.add( new THREE.AxesHelper( Math.min( a[0]*b[1].x, a[1]*b[1].y, a[2]*b[1].z ) ) );\n",
       "\n",
       "    var camera = createCamera();\n",
       "    camera.up.set( 0, 0, 1 );\n",
       "    camera.position.set( a[0]*xMid, a[1]*yMid, a[2]*zMid );\n",
       "\n",
       "    var offset = new THREE.Vector3( a[0]*xRange, a[1]*yRange, a[2]*zRange );\n",
       "\n",
       "    if ( options.viewpoint ) {\n",
       "\n",
       "        var aa = options.viewpoint;\n",
       "        var axis = new THREE.Vector3( aa[0][0], aa[0][1], aa[0][2] ).normalize();\n",
       "        var angle = aa[1] * Math.PI / 180;\n",
       "        var q = new THREE.Quaternion().setFromAxisAngle( axis, angle ).inverse();\n",
       "\n",
       "        offset.set( 0, 0, offset.length() );\n",
       "        offset.applyQuaternion( q );\n",
       "\n",
       "    }\n",
       "\n",
       "    camera.position.add( offset );\n",
       "\n",
       "    function createCamera() {\n",
       "\n",
       "        var aspect = window.innerWidth / window.innerHeight;\n",
       "\n",
       "        if ( options.projection === 'orthographic' ) {\n",
       "            var camera = new THREE.OrthographicCamera( -1, 1, 1, -1, -1000, 1000 );\n",
       "            updateCameraAspect( camera, aspect );\n",
       "            return camera;\n",
       "        }\n",
       "\n",
       "        return new THREE.PerspectiveCamera( 45, aspect, 0.1, 1000 );\n",
       "\n",
       "    }\n",
       "\n",
       "    function updateCameraAspect( camera, aspect ) {\n",
       "\n",
       "        if ( camera.isPerspectiveCamera ) {\n",
       "            camera.aspect = aspect;\n",
       "        } else if ( camera.isOrthographicCamera ) {\n",
       "            // Fit the camera frustum to the bounding box's diagonal so that the entire plot fits\n",
       "            // within at the default zoom level and camera position.\n",
       "            if ( aspect > 1 ) { // Wide window\n",
       "                camera.top = midToCorner;\n",
       "                camera.right = midToCorner * aspect;\n",
       "            } else { // Tall or square window\n",
       "                camera.top = midToCorner / aspect;\n",
       "                camera.right = midToCorner;\n",
       "            }\n",
       "            camera.bottom = -camera.top;\n",
       "            camera.left = -camera.right;\n",
       "        }\n",
       "\n",
       "        camera.updateProjectionMatrix();\n",
       "\n",
       "    }\n",
       "\n",
       "    var lights = [{&quot;x&quot;:-5, &quot;y&quot;:3, &quot;z&quot;:0, &quot;color&quot;:&quot;#7f7f7f&quot;, &quot;parent&quot;:&quot;camera&quot;}];\n",
       "    for ( var i=0 ; i < lights.length ; i++ ) {\n",
       "        var light = new THREE.DirectionalLight( lights[i].color, 1 );\n",
       "        light.position.set( a[0]*lights[i].x, a[1]*lights[i].y, a[2]*lights[i].z );\n",
       "        if ( lights[i].parent === 'camera' ) {\n",
       "            light.target.position.set( a[0]*xMid, a[1]*yMid, a[2]*zMid );\n",
       "            scene.add( light.target );\n",
       "            camera.add( light );\n",
       "        } else scene.add( light );\n",
       "    }\n",
       "    scene.add( camera );\n",
       "\n",
       "    var ambient = {&quot;color&quot;:&quot;#7f7f7f&quot;};\n",
       "    scene.add( new THREE.AmbientLight( ambient.color, 1 ) );\n",
       "\n",
       "    var controls = new THREE.OrbitControls( camera, renderer.domElement );\n",
       "    controls.target.set( a[0]*xMid, a[1]*yMid, a[2]*zMid );\n",
       "    controls.addEventListener( 'change', function() { if ( !animate ) render(); } );\n",
       "\n",
       "    window.addEventListener( 'resize', function() {\n",
       "\n",
       "        renderer.setSize( window.innerWidth, window.innerHeight );\n",
       "        updateCameraAspect( camera, window.innerWidth / window.innerHeight );\n",
       "        if ( !animate ) render();\n",
       "\n",
       "    } );\n",
       "\n",
       "    var texts = [];\n",
       "    for ( var i=0 ; i < texts.length ; i++ ) addText( texts[i] );\n",
       "\n",
       "    function addText( json ) {\n",
       "        var sprite = addLabel( json.text, a[0]*json.x, a[1]*json.y, a[2]*json.z, json.color );\n",
       "        sprite.userData = json;\n",
       "    }\n",
       "\n",
       "    var points = [];\n",
       "    for ( var i=0 ; i < points.length ; i++ ) addPoint( points[i] );\n",
       "\n",
       "    function addPoint( json ) {\n",
       "\n",
       "        var geometry = new THREE.Geometry();\n",
       "        var v = json.point;\n",
       "        geometry.vertices.push( new THREE.Vector3( a[0]*v[0], a[1]*v[1], a[2]*v[2] ) );\n",
       "\n",
       "        var canvas = document.createElement( 'canvas' );\n",
       "        canvas.width = 128;\n",
       "        canvas.height = 128;\n",
       "\n",
       "        var context = canvas.getContext( '2d' );\n",
       "        context.arc( 64, 64, 64, 0, 2 * Math.PI );\n",
       "        context.fillStyle = json.color;\n",
       "        context.fill();\n",
       "\n",
       "        var texture = new THREE.Texture( canvas );\n",
       "        texture.needsUpdate = true;\n",
       "\n",
       "        var transparent = json.opacity < 1 ? true : false;\n",
       "        var size = camera.isOrthographicCamera ? json.size : json.size/100;\n",
       "        var material = new THREE.PointsMaterial( { size: size, map: texture,\n",
       "                                                   transparent: transparent, opacity: json.opacity,\n",
       "                                                   alphaTest: .1 } );\n",
       "\n",
       "        var c = new THREE.Vector3();\n",
       "        geometry.computeBoundingBox();\n",
       "        geometry.boundingBox.getCenter( c );\n",
       "        geometry.translate( -c.x, -c.y, -c.z );\n",
       "\n",
       "        var mesh = new THREE.Points( geometry, material );\n",
       "        mesh.position.set( c.x, c.y, c.z );\n",
       "        mesh.userData = json;\n",
       "        scene.add( mesh );\n",
       "\n",
       "    }\n",
       "\n",
       "    var lines = [];\n",
       "    for ( var i=0 ; i < lines.length ; i++ ) addLine( lines[i] );\n",
       "\n",
       "    function addLine( json ) {\n",
       "\n",
       "        var geometry = new THREE.Geometry();\n",
       "        for ( var i=0 ; i < json.points.length ; i++ ) {\n",
       "            var v = json.points[i];\n",
       "            geometry.vertices.push( new THREE.Vector3( a[0]*v[0], a[1]*v[1], a[2]*v[2] ) );\n",
       "        }\n",
       "\n",
       "        var transparent = json.opacity < 1 ? true : false;\n",
       "        var material = new THREE.LineBasicMaterial( { color: json.color, linewidth: json.linewidth,\n",
       "                                                      transparent: transparent, opacity: json.opacity } );\n",
       "\n",
       "        var c = new THREE.Vector3();\n",
       "        geometry.computeBoundingBox();\n",
       "        geometry.boundingBox.getCenter( c );\n",
       "        geometry.translate( -c.x, -c.y, -c.z );\n",
       "\n",
       "        var mesh = new THREE.Line( geometry, material );\n",
       "        mesh.position.set( c.x, c.y, c.z );\n",
       "        mesh.userData = json;\n",
       "        scene.add( mesh );\n",
       "\n",
       "    }\n",
       "\n",
       "    var surfaces = [{&quot;vertices&quot;: [{&quot;x&quot;: 1.0, &quot;y&quot;: 0.0, &quot;z&quot;: -0.13147262869831028}, {&quot;x&quot;: 1.0, &quot;y&quot;: 0.08055365778435367, &quot;z&quot;: -0.19200896625802244}, {&quot;x&quot;: 1.0512820512820513, &quot;y&quot;: 0.08055365778435367, &quot;z&quot;: -1.0156987946785971}, {&quot;x&quot;: 1.0512820512820513, &quot;y&quot;: 0.0, &quot;z&quot;: -0.9594173656310465}, {&quot;x&quot;: 1.0, &quot;y&quot;: 0.16110731556870733, &quot;z&quot;: -0.3798682460679458}, {&quot;x&quot;: 1.0512820512820513, &quot;y&quot;: 0.16110731556870733, &quot;z&quot;: -1.1891045189323768}, {&quot;x&quot;: 1.0, &quot;y&quot;: 0.241660973353061, &quot;z&quot;: -0.7140639442546837}, {&quot;x&quot;: 1.0512820512820513, &quot;y&quot;: 0.241660973353061, &quot;z&quot;: -1.4933190073922733}, {&quot;x&quot;: 1.0, &quot;y&quot;: 0.32221463113741466, &quot;z&quot;: -1.2269588297779257}, {&quot;x&quot;: 1.0512820512820513, &quot;y&quot;: 0.32221463113741466, &quot;z&quot;: -1.950961285134189}, {&quot;x&quot;: 1.0, &quot;y&quot;: 0.4027682889217683, &quot;z&quot;: -1.9644692963075234}, {&quot;x&quot;: 1.0512820512820513, &quot;y&quot;: 0.4027682889217683, &quot;z&quot;: -2.5925775757186935}, {&quot;x&quot;: 1.0, &quot;y&quot;: 0.48332194670612194, &quot;z&quot;: -2.9843742887263787}, {&quot;x&quot;: 1.0512820512820513, &quot;y&quot;: 0.48332194670612194, &quot;z&quot;: -3.4535605110093384}, {&quot;x&quot;: 1.0, &quot;y&quot;: 0.5638756044904756, &quot;z&quot;: -4.349902603847421}, {&quot;x&quot;: 1.0512820512820513, &quot;y&quot;: 0.5638756044904756, &quot;z&quot;: -4.566858324012532}, {&quot;x&quot;: 1.0, &quot;y&quot;: 0.6444292622748292, &quot;z&quot;: -6.113886926377088}, {&quot;x&quot;: 1.0512820512820513, &quot;y&quot;: 0.6444292622748292, &quot;z&quot;: -5.948284557636333}, {&quot;x&quot;: 1.0, &quot;y&quot;: 0.7249829200591829, &quot;z&quot;: -8.286743147970762}, {&quot;x&quot;: 1.0512820512820513, &quot;y&quot;: 0.7249829200591829, &quot;z&quot;: -7.570530233814716}, {&quot;x&quot;: 1.0, &quot;y&quot;: 0.8055365778435365, &quot;z&quot;: -10.781060420840118}, {&quot;x&quot;: 1.0512820512820513, &quot;y&quot;: 0.8055365778435365, &quot;z&quot;: -9.323010816133849}, {&quot;x&quot;: 1.0, &quot;y&quot;: 0.8860902356278901, &quot;z&quot;: -13.33076846888736}, {&quot;x&quot;: 1.0512820512820513, &quot;y&quot;: 0.8860902356278901, &quot;z&quot;: -10.96016045222825}, {&quot;x&quot;: 1.0, &quot;y&quot;: 0.9666438934122438, &quot;z&quot;: -15.400606978376576}, {&quot;x&quot;: 1.0512820512820513, &quot;y&quot;: 0.9666438934122438, &quot;z&quot;: -12.05430447886187}, {&quot;x&quot;: 1.0, &quot;y&quot;: 1.0471975511965974, &quot;z&quot;: -16.13816719187259}, {&quot;x&quot;: 1.0512820512820513, &quot;y&quot;: 1.0471975511965974, &quot;z&quot;: -11.992033681103457}, {&quot;x&quot;: 1.0, &quot;y&quot;: 1.1277512089809512, &quot;z&quot;: -14.468762005904475}, {&quot;x&quot;: 1.0512820512820513, &quot;y&quot;: 1.1277512089809512, &quot;z&quot;: -10.075966097759173}, {&quot;x&quot;: 1.0, &quot;y&quot;: 1.208304866765305, &quot;z&quot;: -9.449886791743113}, {&quot;x&quot;: 1.0512820512820513, &quot;y&quot;: 1.208304866765305, &quot;z&quot;: -5.787836430473861}, {&quot;x&quot;: 1.0, &quot;y&quot;: 1.2888585245496587, &quot;z&quot;: -0.9028272331777403}, {&quot;x&quot;: 1.0512820512820513, &quot;y&quot;: 1.2888585245496587, &quot;z&quot;: 0.8094278788790926}, {&quot;x&quot;: 1.0, &quot;y&quot;: 1.3694121823340124, &quot;z&quot;: 9.930848640594961}, {&quot;x&quot;: 1.0512820512820513, &quot;y&quot;: 1.3694121823340124, &quot;z&quot;: 8.713681063990522}, {&quot;x&quot;: 1.0, &quot;y&quot;: 1.4499658401183662, &quot;z&quot;: 20.261106413313374}, {&quot;x&quot;: 1.0512820512820513, &quot;y&quot;: 1.4499658401183662, &quot;z&quot;: 15.99344334282219}, {&quot;x&quot;: 1.0, &quot;y&quot;: 1.53051949790272, &quot;z&quot;: 26.637746631623816}, {&quot;x&quot;: 1.0512820512820513, &quot;y&quot;: 1.53051949790272, &quot;z&quot;: 20.400086408595172}, {&quot;x&quot;: 1.0, &quot;y&quot;: 1.6110731556870737, &quot;z&quot;: 26.637746631623806}, {&quot;x&quot;: 1.0512820512820513, &quot;y&quot;: 1.6110731556870737, &quot;z&quot;: 20.40008640859517}, {&quot;x&quot;: 1.0, &quot;y&quot;: 1.6916268134714274, &quot;z&quot;: 20.26110641331334}, {&quot;x&quot;: 1.0512820512820513, &quot;y&quot;: 1.6916268134714274, &quot;z&quot;: 15.993443342822172}, {&quot;x&quot;: 1.0, &quot;y&quot;: 1.7721804712557812, &quot;z&quot;: 9.930848640594908}, {&quot;x&quot;: 1.0512820512820513, &quot;y&quot;: 1.7721804712557812, &quot;z&quot;: 8.713681063990487}, {&quot;x&quot;: 1.0, &quot;y&quot;: 1.852734129040135, &quot;z&quot;: -0.9028272331777725}, {&quot;x&quot;: 1.0512820512820513, &quot;y&quot;: 1.852734129040135, &quot;z&quot;: 0.8094278788790671}, {&quot;x&quot;: 1.0, &quot;y&quot;: 1.9332877868244887, &quot;z&quot;: -9.44988679174315}, {&quot;x&quot;: 1.0512820512820513, &quot;y&quot;: 1.9332877868244887, &quot;z&quot;: -5.787836430473883}, {&quot;x&quot;: 1.0, &quot;y&quot;: 2.0138414446088424, &quot;z&quot;: -14.468762005904487}, {&quot;x&quot;: 1.0512820512820513, &quot;y&quot;: 2.0138414446088424, &quot;z&quot;: -10.075966097759189}, {&quot;x&quot;: 1.0, &quot;y&quot;: 2.094395102393196, &quot;z&quot;: -16.138167191872583}, {&quot;x&quot;: 1.0512820512820513, &quot;y&quot;: 2.094395102393196, &quot;z&quot;: -11.99203368110347}, {&quot;x&quot;: 1.0, &quot;y&quot;: 2.17494876017755, &quot;z&quot;: -15.400606978376574}, {&quot;x&quot;: 1.0512820512820513, &quot;y&quot;: 2.17494876017755, &quot;z&quot;: -12.054304478861846}, {&quot;x&quot;: 1.0, &quot;y&quot;: 2.2555024179619036, &quot;z&quot;: -13.330768468887344}, {&quot;x&quot;: 1.0512820512820513, &quot;y&quot;: 2.2555024179619036, &quot;z&quot;: -10.960160452228237}, {&quot;x&quot;: 1.0, &quot;y&quot;: 2.3360560757462574, &quot;z&quot;: -10.781060420840118}, {&quot;x&quot;: 1.0512820512820513, &quot;y&quot;: 2.3360560757462574, &quot;z&quot;: -9.32301081613384}, {&quot;x&quot;: 1.0, &quot;y&quot;: 2.416609733530611, &quot;z&quot;: -8.286743147970748}, {&quot;x&quot;: 1.0512820512820513, &quot;y&quot;: 2.416609733530611, &quot;z&quot;: -7.570530233814698}, {&quot;x&quot;: 1.0, &quot;y&quot;: 2.497163391314965, &quot;z&quot;: -6.1138869263770665}, {&quot;x&quot;: 1.0512820512820513, &quot;y&quot;: 2.497163391314965, &quot;z&quot;: -5.948284557636327}, {&quot;x&quot;: 1.0, &quot;y&quot;: 2.5777170490993186, &quot;z&quot;: -4.349902603847394}, {&quot;x&quot;: 1.0512820512820513, &quot;y&quot;: 2.5777170490993186, &quot;z&quot;: -4.566858324012513}, {&quot;x&quot;: 1.0, &quot;y&quot;: 2.6582707068836724, &quot;z&quot;: -2.9843742887263596}, {&quot;x&quot;: 1.0512820512820513, &quot;y&quot;: 2.6582707068836724, &quot;z&quot;: -3.4535605110093224}, {&quot;x&quot;: 1.0, &quot;y&quot;: 2.738824364668026, &quot;z&quot;: -1.9644692963075086}, {&quot;x&quot;: 1.0512820512820513, &quot;y&quot;: 2.738824364668026, &quot;z&quot;: -2.5925775757186837}, {&quot;x&quot;: 1.0, &quot;y&quot;: 2.81937802245238, &quot;z&quot;: -1.2269588297779166}, {&quot;x&quot;: 1.0512820512820513, &quot;y&quot;: 2.81937802245238, &quot;z&quot;: -1.950961285134184}, {&quot;x&quot;: 1.0, &quot;y&quot;: 2.8999316802367336, &quot;z&quot;: -0.71406394425468}, {&quot;x&quot;: 1.0512820512820513, &quot;y&quot;: 2.8999316802367336, &quot;z&quot;: -1.4933190073922682}, {&quot;x&quot;: 1.0, &quot;y&quot;: 2.9804853380210874, &quot;z&quot;: -0.3798682460679404}, {&quot;x&quot;: 1.0512820512820513, &quot;y&quot;: 2.9804853380210874, &quot;z&quot;: -1.1891045189323695}, {&quot;x&quot;: 1.0, &quot;y&quot;: 3.061038995805441, &quot;z&quot;: -0.1920089662580212}, {&quot;x&quot;: 1.0512820512820513, &quot;y&quot;: 3.061038995805441, &quot;z&quot;: -1.0156987946785911}, {&quot;x&quot;: 1.0, &quot;y&quot;: 3.141592653589793, &quot;z&quot;: -0.13147262869831028}, {&quot;x&quot;: 1.0512820512820513, &quot;y&quot;: 3.141592653589793, &quot;z&quot;: -0.9594173656310465}, {&quot;x&quot;: 1.1025641025641026, &quot;y&quot;: 0.08055365778435367, &quot;z&quot;: -1.5189740387022128}, {&quot;x&quot;: 1.1025641025641026, &quot;y&quot;: 0.0, &quot;z&quot;: -1.4690744270984337}, {&quot;x&quot;: 1.1025641025641026, &quot;y&quot;: 0.16110731556870733, &quot;z&quot;: -1.6718338095593448}, {&quot;x&quot;: 1.1025641025641026, &quot;y&quot;: 0.241660973353061, &quot;z&quot;: -1.9369837131256114}, {&quot;x&quot;: 1.1025641025641026, &quot;y&quot;: 0.32221463113741466, &quot;z&quot;: -2.329304405933764}, {&quot;x&quot;: 1.1025641025641026, &quot;y&quot;: 0.4027682889217683, &quot;z&quot;: -2.8676278577431034}, {&quot;x&quot;: 1.1025641025641026, &quot;y&quot;: 0.48332194670612194, &quot;z&quot;: -3.571191182491472}, {&quot;x&quot;: 1.1025641025641026, &quot;y&quot;: 0.5638756044904756, &quot;z&quot;: -4.452630233110538}, {&quot;x&quot;: 1.1025641025641026, &quot;y&quot;: 0.6444292622748292, &quot;z&quot;: -5.505501551095864}, {&quot;x&quot;: 1.1025641025641026, &quot;y&quot;: 0.7249829200591829, &quot;z&quot;: -6.684343542271885}, {&quot;x&quot;: 1.1025641025641026, &quot;y&quot;: 0.8055365778435365, &quot;z&quot;: -7.876852481950767}, {&quot;x&quot;: 1.1025641025641026, &quot;y&quot;: 0.8860902356278901, &quot;z&quot;: -8.872501546397817}, {&quot;x&quot;: 1.1025641025641026, &quot;y&quot;: 0.9666438934122438, &quot;z&quot;: -9.34145703019547}, {&quot;x&quot;: 1.1025641025641026, &quot;y&quot;: 1.0471975511965974, &quot;z&quot;: -8.851043489260565}, {&quot;x&quot;: 1.1025641025641026, &quot;y&quot;: 1.1277512089809512, &quot;z&quot;: -6.956355264162442}, {&quot;x&quot;: 1.1025641025641026, &quot;y&quot;: 1.208304866765305, &quot;z&quot;: -3.3885871909027823}, {&quot;x&quot;: 1.1025641025641026, &quot;y&quot;: 1.2888585245496587, &quot;z&quot;: 1.6916484900006554}, {&quot;x&quot;: 1.1025641025641026, &quot;y&quot;: 1.3694121823340124, &quot;z&quot;: 7.502406989028461}, {&quot;x&quot;: 1.1025641025641026, &quot;y&quot;: 1.4499658401183662, &quot;z&quot;: 12.69883353125916}, {&quot;x&quot;: 1.1025641025641026, &quot;y&quot;: 1.53051949790272, &quot;z&quot;: 15.792093819026109}, {&quot;x&quot;: 1.1025641025641026, &quot;y&quot;: 1.6110731556870737, &quot;z&quot;: 15.792093819026102}, {&quot;x&quot;: 1.1025641025641026, &quot;y&quot;: 1.6916268134714274, &quot;z&quot;: 12.698833531259142}, {&quot;x&quot;: 1.1025641025641026, &quot;y&quot;: 1.7721804712557812, &quot;z&quot;: 7.502406989028426}, {&quot;x&quot;: 1.1025641025641026, &quot;y&quot;: 1.852734129040135, &quot;z&quot;: 1.6916484900006343}, {&quot;x&quot;: 1.1025641025641026, &quot;y&quot;: 1.9332877868244887, &quot;z&quot;: -3.388587190902799}, {&quot;x&quot;: 1.1025641025641026, &quot;y&quot;: 2.0138414446088424, &quot;z&quot;: -6.956355264162457}, {&quot;x&quot;: 1.1025641025641026, &quot;y&quot;: 2.094395102393196, &quot;z&quot;: -8.851043489260583}, {&quot;x&quot;: 1.1025641025641026, &quot;y&quot;: 2.17494876017755, &quot;z&quot;: -9.341457030195462}, {&quot;x&quot;: 1.1025641025641026, &quot;y&quot;: 2.2555024179619036, &quot;z&quot;: -8.872501546397828}, {&quot;x&quot;: 1.1025641025641026, &quot;y&quot;: 2.3360560757462574, &quot;z&quot;: -7.876852481950755}, {&quot;x&quot;: 1.1025641025641026, &quot;y&quot;: 2.416609733530611, &quot;z&quot;: -6.684343542271875}, {&quot;x&quot;: 1.1025641025641026, &quot;y&quot;: 2.497163391314965, &quot;z&quot;: -5.505501551095854}, {&quot;x&quot;: 1.1025641025641026, &quot;y&quot;: 2.5777170490993186, &quot;z&quot;: -4.452630233110522}, {&quot;x&quot;: 1.1025641025641026, &quot;y&quot;: 2.6582707068836724, &quot;z&quot;: -3.571191182491462}, {&quot;x&quot;: 1.1025641025641026, &quot;y&quot;: 2.738824364668026, &quot;z&quot;: -2.8676278577430927}, {&quot;x&quot;: 1.1025641025641026, &quot;y&quot;: 2.81937802245238, &quot;z&quot;: -2.3293044059337595}, {&quot;x&quot;: 1.1025641025641026, &quot;y&quot;: 2.8999316802367336, &quot;z&quot;: -1.9369837131256038}, {&quot;x&quot;: 1.1025641025641026, &quot;y&quot;: 2.9804853380210874, &quot;z&quot;: -1.6718338095593368}, {&quot;x&quot;: 1.1025641025641026, &quot;y&quot;: 3.061038995805441, &quot;z&quot;: -1.5189740387022108}, {&quot;x&quot;: 1.1025641025641026, &quot;y&quot;: 3.141592653589793, &quot;z&quot;: -1.4690744270984337}, {&quot;x&quot;: 1.153846153846154, &quot;y&quot;: 0.08055365778435367, &quot;z&quot;: -1.7870362639826383}, {&quot;x&quot;: 1.153846153846154, &quot;y&quot;: 0.0, &quot;z&quot;: -1.7442949279755955}, {&quot;x&quot;: 1.153846153846154, &quot;y&quot;: 0.16110731556870733, &quot;z&quot;: -1.917321200604885}, {&quot;x&quot;: 1.153846153846154, &quot;y&quot;: 0.241660973353061, &quot;z&quot;: -2.1411041397792596}, {&quot;x&quot;: 1.153846153846154, &quot;y&quot;: 0.32221463113741466, &quot;z&quot;: -2.4674215733709155}, {&quot;x&quot;: 1.153846153846154, &quot;y&quot;: 0.4027682889217683, &quot;z&quot;: -2.9066021185582334}, {&quot;x&quot;: 1.153846153846154, &quot;y&quot;: 0.48332194670612194, &quot;z&quot;: -3.4667965708444863}, {&quot;x&quot;: 1.153846153846154, &quot;y&quot;: 0.5638756044904756, &quot;z&quot;: -4.147817616090894}, {&quot;x&quot;: 1.153846153846154, &quot;y&quot;: 0.6444292622748292, &quot;z&quot;: -4.931120942879118}, {&quot;x&quot;: 1.153846153846154, &quot;y&quot;: 0.7249829200591829, &quot;z&quot;: -5.7651302568881535}, {&quot;x&quot;: 1.153846153846154, &quot;y&quot;: 0.8055365778435365, &quot;z&quot;: -6.5467005592265695}, {&quot;x&quot;: 1.153846153846154, &quot;y&quot;: 0.8860902356278901, &quot;z&quot;: -7.103242126831992}, {&quot;x&quot;: 1.153846153846154, &quot;y&quot;: 0.9666438934122438, &quot;z&quot;: -7.186382157644365}, {&quot;x&quot;: 1.153846153846154, &quot;y&quot;: 1.0471975511965974, &quot;z&quot;: -6.495447907838813}, {&quot;x&quot;: 1.153846153846154, &quot;y&quot;: 1.1277512089809512, &quot;z&quot;: -4.751513132678395}, {&quot;x&quot;: 1.153846153846154, &quot;y&quot;: 1.208304866765305, &quot;z&quot;: -1.8292961020705505}, {&quot;x&quot;: 1.153846153846154, &quot;y&quot;: 1.2888585245496587, &quot;z&quot;: 2.0843197393827477}, {&quot;x&quot;: 1.153846153846154, &quot;y&quot;: 1.3694121823340124, &quot;z&quot;: 6.390101576118556}, {&quot;x&quot;: 1.153846153846154, &quot;y&quot;: 1.4499658401183662, &quot;z&quot;: 10.144803030565352}, {&quot;x&quot;: 1.153846153846154, &quot;y&quot;: 1.53051949790272, &quot;z&quot;: 12.347714474667454}, {&quot;x&quot;: 1.153846153846154, &quot;y&quot;: 1.6110731556870737, &quot;z&quot;: 12.347714474667452}, {&quot;x&quot;: 1.153846153846154, &quot;y&quot;: 1.6916268134714274, &quot;z&quot;: 10.144803030565342}, {&quot;x&quot;: 1.153846153846154, &quot;y&quot;: 1.7721804712557812, &quot;z&quot;: 6.390101576118537}, {&quot;x&quot;: 1.153846153846154, &quot;y&quot;: 1.852734129040135, &quot;z&quot;: 2.084319739382735}, {&quot;x&quot;: 1.153846153846154, &quot;y&quot;: 1.9332877868244887, &quot;z&quot;: -1.8292961020705654}, {&quot;x&quot;: 1.153846153846154, &quot;y&quot;: 2.0138414446088424, &quot;z&quot;: -4.751513132678409}, {&quot;x&quot;: 1.153846153846154, &quot;y&quot;: 2.094395102393196, &quot;z&quot;: -6.495447907838814}, {&quot;x&quot;: 1.153846153846154, &quot;y&quot;: 2.17494876017755, &quot;z&quot;: -7.1863821576443705}, {&quot;x&quot;: 1.153846153846154, &quot;y&quot;: 2.2555024179619036, &quot;z&quot;: -7.103242126831984}, {&quot;x&quot;: 1.153846153846154, &quot;y&quot;: 2.3360560757462574, &quot;z&quot;: -6.546700559226566}, {&quot;x&quot;: 1.153846153846154, &quot;y&quot;: 2.416609733530611, &quot;z&quot;: -5.765130256888144}, {&quot;x&quot;: 1.153846153846154, &quot;y&quot;: 2.497163391314965, &quot;z&quot;: -4.931120942879112}, {&quot;x&quot;: 1.153846153846154, &quot;y&quot;: 2.5777170490993186, &quot;z&quot;: -4.147817616090882}, {&quot;x&quot;: 1.153846153846154, &quot;y&quot;: 2.6582707068836724, &quot;z&quot;: -3.4667965708444766}, {&quot;x&quot;: 1.153846153846154, &quot;y&quot;: 2.738824364668026, &quot;z&quot;: -2.9066021185582214}, {&quot;x&quot;: 1.153846153846154, &quot;y&quot;: 2.81937802245238, &quot;z&quot;: -2.46742157337091}, {&quot;x&quot;: 1.153846153846154, &quot;y&quot;: 2.8999316802367336, &quot;z&quot;: -2.1411041397792565}, {&quot;x&quot;: 1.153846153846154, &quot;y&quot;: 2.9804853380210874, &quot;z&quot;: -1.9173212006048828}, {&quot;x&quot;: 1.153846153846154, &quot;y&quot;: 3.061038995805441, &quot;z&quot;: -1.7870362639826394}, {&quot;x&quot;: 1.153846153846154, &quot;y&quot;: 3.141592653589793, &quot;z&quot;: -1.7442949279755955}, {&quot;x&quot;: 1.2051282051282053, &quot;y&quot;: 0.08055365778435367, &quot;z&quot;: -1.8890107290911549}, {&quot;x&quot;: 1.2051282051282053, &quot;y&quot;: 0.0, &quot;z&quot;: -1.8533631315322734}, {&quot;x&quot;: 1.2051282051282053, &quot;y&quot;: 0.16110731556870733, &quot;z&quot;: -1.9971879709438662}, {&quot;x&quot;: 1.2051282051282053, &quot;y&quot;: 0.241660973353061, &quot;z&quot;: -2.18134507954497}, {&quot;x&quot;: 1.2051282051282053, &quot;y&quot;: 0.32221463113741466, &quot;z&quot;: -2.4462942205089577}, {&quot;x&quot;: 1.2051282051282053, &quot;y&quot;: 0.4027682889217683, &quot;z&quot;: -2.7964668469284693}, {&quot;x&quot;: 1.2051282051282053, &quot;y&quot;: 0.48332194670612194, &quot;z&quot;: -3.232798842328583}, {&quot;x&quot;: 1.2051282051282053, &quot;y&quot;: 0.5638756044904756, &quot;z&quot;: -3.747610243825048}, {&quot;x&quot;: 1.2051282051282053, &quot;y&quot;: 0.6444292622748292, &quot;z&quot;: -4.3168781864289}, {&quot;x&quot;: 1.2051282051282053, &quot;y&quot;: 0.7249829200591829, &quot;z&quot;: -4.88979467261781}, {&quot;x&quot;: 1.2051282051282053, &quot;y&quot;: 0.8055365778435365, &quot;z&quot;: -5.376893798280295}, {&quot;x&quot;: 1.2051282051282053, &quot;y&quot;: 0.8860902356278901, &quot;z&quot;: -5.640779965588785}, {&quot;x&quot;: 1.2051282051282053, &quot;y&quot;: 0.9666438934122438, &quot;z&quot;: -5.497542351348035}, {&quot;x&quot;: 1.2051282051282053, &quot;y&quot;: 1.0471975511965974, &quot;z&quot;: -4.740725387425802}, {&quot;x&quot;: 1.2051282051282053, &quot;y&quot;: 1.1277512089809512, &quot;z&quot;: -3.1990279705260156}, {&quot;x&quot;: 1.2051282051282053, &quot;y&quot;: 1.208304866765305, &quot;z&quot;: -0.827439408202437}, {&quot;x&quot;: 1.2051282051282053, &quot;y&quot;: 1.2888585245496587, &quot;z&quot;: 2.194050387841811}, {&quot;x&quot;: 1.2051282051282053, &quot;y&quot;: 1.3694121823340124, &quot;z&quot;: 5.410442990485629}, {&quot;x&quot;: 1.2051282051282053, &quot;y&quot;: 1.4499658401183662, &quot;z&quot;: 8.154758367909503}, {&quot;x&quot;: 1.2051282051282053, &quot;y&quot;: 1.53051949790272, &quot;z&quot;: 9.744701760278463}, {&quot;x&quot;: 1.2051282051282053, &quot;y&quot;: 1.6110731556870737, &quot;z&quot;: 9.744701760278462}, {&quot;x&quot;: 1.2051282051282053, &quot;y&quot;: 1.6916268134714274, &quot;z&quot;: 8.154758367909498}, {&quot;x&quot;: 1.2051282051282053, &quot;y&quot;: 1.7721804712557812, &quot;z&quot;: 5.410442990485612}, {&quot;x&quot;: 1.2051282051282053, &quot;y&quot;: 1.852734129040135, &quot;z&quot;: 2.1940503878418003}, {&quot;x&quot;: 1.2051282051282053, &quot;y&quot;: 1.9332877868244887, &quot;z&quot;: -0.8274394082024484}, {&quot;x&quot;: 1.2051282051282053, &quot;y&quot;: 2.0138414446088424, &quot;z&quot;: -3.1990279705260227}, {&quot;x&quot;: 1.2051282051282053, &quot;y&quot;: 2.094395102393196, &quot;z&quot;: -4.740725387425811}, {&quot;x&quot;: 1.2051282051282053, &quot;y&quot;: 2.17494876017755, &quot;z&quot;: -5.497542351348036}, {&quot;x&quot;: 1.2051282051282053, &quot;y&quot;: 2.2555024179619036, &quot;z&quot;: -5.640779965588782}, {&quot;x&quot;: 1.2051282051282053, &quot;y&quot;: 2.3360560757462574, &quot;z&quot;: -5.376893798280297}, {&quot;x&quot;: 1.2051282051282053, &quot;y&quot;: 2.416609733530611, &quot;z&quot;: -4.889794672617805}, {&quot;x&quot;: 1.2051282051282053, &quot;y&quot;: 2.497163391314965, &quot;z&quot;: -4.316878186428898}, {&quot;x&quot;: 1.2051282051282053, &quot;y&quot;: 2.5777170490993186, &quot;z&quot;: -3.747610243825039}, {&quot;x&quot;: 1.2051282051282053, &quot;y&quot;: 2.6582707068836724, &quot;z&quot;: -3.2327988423285734}, {&quot;x&quot;: 1.2051282051282053, &quot;y&quot;: 2.738824364668026, &quot;z&quot;: -2.796466846928466}, {&quot;x&quot;: 1.2051282051282053, &quot;y&quot;: 2.81937802245238, &quot;z&quot;: -2.446294220508953}, {&quot;x&quot;: 1.2051282051282053, &quot;y&quot;: 2.8999316802367336, &quot;z&quot;: -2.181345079544968}, {&quot;x&quot;: 1.2051282051282053, &quot;y&quot;: 2.9804853380210874, &quot;z&quot;: -1.9971879709438616}, {&quot;x&quot;: 1.2051282051282053, &quot;y&quot;: 3.061038995805441, &quot;z&quot;: -1.889010729091154}, {&quot;x&quot;: 1.2051282051282053, &quot;y&quot;: 3.141592653589793, &quot;z&quot;: -1.8533631315322734}, {&quot;x&quot;: 1.2564102564102566, &quot;y&quot;: 0.08055365778435367, &quot;z&quot;: -1.8786610935178414}, {&quot;x&quot;: 1.2564102564102566, &quot;y&quot;: 0.0, &quot;z&quot;: -1.8495666173399374}, {&quot;x&quot;: 1.2564102564102566, &quot;y&quot;: 0.16110731556870733, &quot;z&quot;: -1.966582468172934}, {&quot;x&quot;: 1.2564102564102566, &quot;y&quot;: 0.241660973353061, &quot;z&quot;: -2.114997428605924}, {&quot;x&quot;: 1.2564102564102566, &quot;y&quot;: 0.32221463113741466, &quot;z&quot;: -2.3257925441570815}, {&quot;x&quot;: 1.2564102564102566, &quot;y&quot;: 0.4027682889217683, &quot;z&quot;: -2.59950373117525}, {&quot;x&quot;: 1.2564102564102566, &quot;y&quot;: 0.48332194670612194, &quot;z&quot;: -2.9326684799112765}, {&quot;x&quot;: 1.2564102564102566, &quot;y&quot;: 0.5638756044904756, &quot;z&quot;: -3.313734762356003}, {&quot;x&quot;: 1.2564102564102566, &quot;y&quot;: 0.6444292622748292, &quot;z&quot;: -3.717284826082353}, {&quot;x&quot;: 1.2564102564102566, &quot;y&quot;: 0.7249829200591829, &quot;z&quot;: -4.096825851964341}, {&quot;x&quot;: 1.2564102564102566, &quot;y&quot;: 0.8055365778435365, &quot;z&quot;: -4.37752298683306}, {&quot;x&quot;: 1.2564102564102566, &quot;y&quot;: 0.8860902356278901, &quot;z&quot;: -4.452186119595398}, {&quot;x&quot;: 1.2564102564102566, &quot;y&quot;: 0.9666438934122438, &quot;z&quot;: -4.186301332030949}, {&quot;x&quot;: 1.2564102564102566, &quot;y&quot;: 1.0471975511965974, &quot;z&quot;: -3.4395955927073283}, {&quot;x&quot;: 1.2564102564102566, &quot;y&quot;: 1.1277512089809512, &quot;z&quot;: -2.1097241774004014}, {&quot;x&quot;: 1.2564102564102566, &quot;y&quot;: 1.208304866765305, &quot;z&quot;: -0.19471981629437557}, {&quot;x&quot;: 1.2564102564102566, &quot;y&quot;: 1.2888585245496587, &quot;z&quot;: 2.145814138668059}, {&quot;x&quot;: 1.2564102564102566, &quot;y&quot;: 1.3694121823340124, &quot;z&quot;: 4.567761849460384}, {&quot;x&quot;: 1.2564102564102566, &quot;y&quot;: 1.4499658401183662, &quot;z&quot;: 6.595425581515445}, {&quot;x&quot;: 1.2564102564102566, &quot;y&quot;: 1.53051949790272, &quot;z&quot;: 7.757273538974943}, {&quot;x&quot;: 1.2564102564102566, &quot;y&quot;: 1.6110731556870737, &quot;z&quot;: 7.757273538974942}, {&quot;x&quot;: 1.2564102564102566, &quot;y&quot;: 1.6916268134714274, &quot;z&quot;: 6.595425581515442}, {&quot;x&quot;: 1.2564102564102566, &quot;y&quot;: 1.7721804712557812, &quot;z&quot;: 4.56776184946037}, {&quot;x&quot;: 1.2564102564102566, &quot;y&quot;: 1.852734129040135, &quot;z&quot;: 2.1458141386680505}, {&quot;x&quot;: 1.2564102564102566, &quot;y&quot;: 1.9332877868244887, &quot;z&quot;: -0.19471981629438426}, {&quot;x&quot;: 1.2564102564102566, &quot;y&quot;: 2.0138414446088424, &quot;z&quot;: -2.1097241774004116}, {&quot;x&quot;: 1.2564102564102566, &quot;y&quot;: 2.094395102393196, &quot;z&quot;: -3.4395955927073287}, {&quot;x&quot;: 1.2564102564102566, &quot;y&quot;: 2.17494876017755, &quot;z&quot;: -4.18630133203095}, {&quot;x&quot;: 1.2564102564102566, &quot;y&quot;: 2.2555024179619036, &quot;z&quot;: -4.4521861195954}, {&quot;x&quot;: 1.2564102564102566, &quot;y&quot;: 2.3360560757462574, &quot;z&quot;: -4.377522986833058}, {&quot;x&quot;: 1.2564102564102566, &quot;y&quot;: 2.416609733530611, &quot;z&quot;: -4.096825851964343}, {&quot;x&quot;: 1.2564102564102566, &quot;y&quot;: 2.497163391314965, &quot;z&quot;: -3.717284826082347}, {&quot;x&quot;: 1.2564102564102566, &quot;y&quot;: 2.5777170490993186, &quot;z&quot;: -3.313734762356}, {&quot;x&quot;: 1.2564102564102566, &quot;y&quot;: 2.6582707068836724, &quot;z&quot;: -2.93266847991127}, {&quot;x&quot;: 1.2564102564102566, &quot;y&quot;: 2.738824364668026, &quot;z&quot;: -2.5995037311752447}, {&quot;x&quot;: 1.2564102564102566, &quot;y&quot;: 2.81937802245238, &quot;z&quot;: -2.325792544157074}, {&quot;x&quot;: 1.2564102564102566, &quot;y&quot;: 2.8999316802367336, &quot;z&quot;: -2.114997428605921}, {&quot;x&quot;: 1.2564102564102566, &quot;y&quot;: 2.9804853380210874, &quot;z&quot;: -1.966582468172935}, {&quot;x&quot;: 1.2564102564102566, &quot;y&quot;: 3.061038995805441, &quot;z&quot;: -1.8786610935178418}, {&quot;x&quot;: 1.2564102564102566, &quot;y&quot;: 3.141592653589793, &quot;z&quot;: -1.8495666173399374}, {&quot;x&quot;: 1.307692307692308, &quot;y&quot;: 0.08055365778435367, &quot;z&quot;: -1.7963677903261845}, {&quot;x&quot;: 1.307692307692308, &quot;y&quot;: 0.0, &quot;z&quot;: -1.7730563564539488}, {&quot;x&quot;: 1.307692307692308, &quot;y&quot;: 0.16110731556870733, &quot;z&quot;: -1.8665266330721226}, {&quot;x&quot;: 1.307692307692308, &quot;y&quot;: 0.241660973353061, &quot;z&quot;: -1.9839819431899322}, {&quot;x&quot;: 1.307692307692308, &quot;y&quot;: 0.32221463113741466, &quot;z&quot;: -2.148687707636355}, {&quot;x&quot;: 1.307692307692308, &quot;y&quot;: 0.4027682889217683, &quot;z&quot;: -2.3587563106791993}, {&quot;x&quot;: 1.307692307692308, &quot;y&quot;: 0.48332194670612194, &quot;z&quot;: -2.6082920809161516}, {&quot;x&quot;: 1.307692307692308, &quot;y&quot;: 0.5638756044904756, &quot;z&quot;: -2.88421890316636}, {&quot;x&quot;: 1.307692307692308, &quot;y&quot;: 0.6444292622748292, &quot;z&quot;: -3.162073928317261}, {&quot;x&quot;: 1.307692307692308, &quot;y&quot;: 0.7249829200591829, &quot;z&quot;: -3.4011774085612756}, {&quot;x&quot;: 1.307692307692308, &quot;y&quot;: 0.8055365778435365, &quot;z&quot;: -3.540448748919702}, {&quot;x&quot;: 1.307692307692308, &quot;y&quot;: 0.8860902356278901, &quot;z&quot;: -3.4974559502160667}, {&quot;x&quot;: 1.307692307692308, &quot;y&quot;: 0.9666438934122438, &quot;z&quot;: -3.174733722834047}, {&quot;x&quot;: 1.307692307692308, &quot;y&quot;: 1.0471975511965974, &quot;z&quot;: -2.4779628799950433}, {&quot;x&quot;: 1.307692307692308, &quot;y&quot;: 1.1277512089809512, &quot;z&quot;: -1.348455435769621}, {&quot;x&quot;: 1.307692307692308, &quot;y&quot;: 1.208304866765305, &quot;z&quot;: 0.1942679206769611}, {&quot;x&quot;: 1.307692307692308, &quot;y&quot;: 1.2888585245496587, &quot;z&quot;: 2.014736164894816}, {&quot;x&quot;: 1.307692307692308, &quot;y&quot;: 1.3694121823340124, &quot;z&quot;: 3.852864339329707}, {&quot;x&quot;: 1.307692307692308, &quot;y&quot;: 1.4499658401183662, &quot;z&quot;: 5.3663923463761565}, {&quot;x&quot;: 1.307692307692308, &quot;y&quot;: 1.53051949790272, &quot;z&quot;: 6.225248572979555}, {&quot;x&quot;: 1.307692307692308, &quot;y&quot;: 1.6110731556870737, &quot;z&quot;: 6.225248572979552}, {&quot;x&quot;: 1.307692307692308, &quot;y&quot;: 1.6916268134714274, &quot;z&quot;: 5.366392346376153}, {&quot;x&quot;: 1.307692307692308, &quot;y&quot;: 1.7721804712557812, &quot;z&quot;: 3.8528643393297015}, {&quot;x&quot;: 1.307692307692308, &quot;y&quot;: 1.852734129040135, &quot;z&quot;: 2.0147361648948103}, {&quot;x&quot;: 1.307692307692308, &quot;y&quot;: 1.9332877868244887, &quot;z&quot;: 0.19426792067695378}, {&quot;x&quot;: 1.307692307692308, &quot;y&quot;: 2.0138414446088424, &quot;z&quot;: -1.3484554357696268}, {&quot;x&quot;: 1.307692307692308, &quot;y&quot;: 2.094395102393196, &quot;z&quot;: -2.4779628799950455}, {&quot;x&quot;: 1.307692307692308, &quot;y&quot;: 2.17494876017755, &quot;z&quot;: -3.1747337228340506}, {&quot;x&quot;: 1.307692307692308, &quot;y&quot;: 2.2555024179619036, &quot;z&quot;: -3.497455950216065}, {&quot;x&quot;: 1.307692307692308, &quot;y&quot;: 2.3360560757462574, &quot;z&quot;: -3.540448748919699}, {&quot;x&quot;: 1.307692307692308, &quot;y&quot;: 2.416609733530611, &quot;z&quot;: -3.4011774085612743}, {&quot;x&quot;: 1.307692307692308, &quot;y&quot;: 2.497163391314965, &quot;z&quot;: -3.1620739283172568}, {&quot;x&quot;: 1.307692307692308, &quot;y&quot;: 2.5777170490993186, &quot;z&quot;: -2.8842189031663548}, {&quot;x&quot;: 1.307692307692308, &quot;y&quot;: 2.6582707068836724, &quot;z&quot;: -2.6082920809161476}, {&quot;x&quot;: 1.307692307692308, &quot;y&quot;: 2.738824364668026, &quot;z&quot;: -2.358756310679193}, {&quot;x&quot;: 1.307692307692308, &quot;y&quot;: 2.81937802245238, &quot;z&quot;: -2.1486877076363515}, {&quot;x&quot;: 1.307692307692308, &quot;y&quot;: 2.8999316802367336, &quot;z&quot;: -1.98398194318993}, {&quot;x&quot;: 1.307692307692308, &quot;y&quot;: 2.9804853380210874, &quot;z&quot;: -1.8665266330721235}, {&quot;x&quot;: 1.307692307692308, &quot;y&quot;: 3.061038995805441, &quot;z&quot;: -1.7963677903261837}, {&quot;x&quot;: 1.307692307692308, &quot;y&quot;: 3.141592653589793, &quot;z&quot;: -1.7730563564539488}, {&quot;x&quot;: 1.3589743589743593, &quot;y&quot;: 0.08055365778435367, &quot;z&quot;: -1.6715218963899494}, {&quot;x&quot;: 1.3589743589743593, &quot;y&quot;: 0.0, &quot;z&quot;: -1.6531511096584546}, {&quot;x&quot;: 1.3589743589743593, &quot;y&quot;: 0.16110731556870733, &quot;z&quot;: -1.7265852113582931}, {&quot;x&quot;: 1.3589743589743593, &quot;y&quot;: 0.241660973353061, &quot;z&quot;: -1.8179992650060914}, {&quot;x&quot;: 1.3589743589743593, &quot;y&quot;: 0.32221463113741466, &quot;z&quot;: -1.944515933707602}, {&quot;x&quot;: 1.3589743589743593, &quot;y&quot;: 0.4027682889217683, &quot;z&quot;: -2.102866420980632}, {&quot;x&quot;: 1.3589743589743593, &quot;y&quot;: 0.48332194670612194, &quot;z&quot;: -2.2860388217234617}, {&quot;x&quot;: 1.3589743589743593, &quot;y&quot;: 0.5638756044904756, &quot;z&quot;: -2.4808770709678334}, {&quot;x&quot;: 1.3589743589743593, &quot;y&quot;: 0.6444292622748292, &quot;z&quot;: -2.665089957855153}, {&quot;x&quot;: 1.3589743589743593, &quot;y&quot;: 0.7249829200591829, &quot;z&quot;: -2.8041215538015307}, {&quot;x&quot;: 1.3589743589743593, &quot;y&quot;: 0.8055365778435365, &quot;z&quot;: -2.8489687525130662}, {&quot;x&quot;: 1.3589743589743593, &quot;y&quot;: 0.8860902356278901, &quot;z&quot;: -2.7369003443614366}, {&quot;x&quot;: 1.3589743589743593, &quot;y&quot;: 0.9666438934122438, &quot;z&quot;: -2.3978282520978844}, {&quot;x&quot;: 1.3589743589743593, &quot;y&quot;: 1.0471975511965974, &quot;z&quot;: -1.7690581154587948}, {&quot;x&quot;: 1.3589743589743593, &quot;y&quot;: 1.1277512089809512, &quot;z&quot;: -0.8191671816032698}, {&quot;x&quot;: 1.3589743589743593, &quot;y&quot;: 1.208304866765305, &quot;z&quot;: 0.4230518476518649}, {&quot;x&quot;: 1.3589743589743593, &quot;y&quot;: 1.2888585245496587, &quot;z&quot;: 1.8454746406231688}, {&quot;x&quot;: 1.3589743589743593, &quot;y&quot;: 1.3694121823340124, &quot;z&quot;: 3.2512351852699064}, {&quot;x&quot;: 1.3589743589743593, &quot;y&quot;: 1.4499658401183662, &quot;z&quot;: 4.391911962042035}, {&quot;x&quot;: 1.3589743589743593, &quot;y&quot;: 1.53051949790272, &quot;z&quot;: 5.033642132573034}, {&quot;x&quot;: 1.3589743589743593, &quot;y&quot;: 1.6110731556870737, &quot;z&quot;: 5.033642132573033}, {&quot;x&quot;: 1.3589743589743593, &quot;y&quot;: 1.6916268134714274, &quot;z&quot;: 4.391911962042032}, {&quot;x&quot;: 1.3589743589743593, &quot;y&quot;: 1.7721804712557812, &quot;z&quot;: 3.2512351852698984}, {&quot;x&quot;: 1.3589743589743593, &quot;y&quot;: 1.852734129040135, &quot;z&quot;: 1.845474640623165}, {&quot;x&quot;: 1.3589743589743593, &quot;y&quot;: 1.9332877868244887, &quot;z&quot;: 0.4230518476518604}, {&quot;x&quot;: 1.3589743589743593, &quot;y&quot;: 2.0138414446088424, &quot;z&quot;: -0.8191671816032754}, {&quot;x&quot;: 1.3589743589743593, &quot;y&quot;: 2.094395102393196, &quot;z&quot;: -1.7690581154587985}, {&quot;x&quot;: 1.3589743589743593, &quot;y&quot;: 2.17494876017755, &quot;z&quot;: -2.397828252097885}, {&quot;x&quot;: 1.3589743589743593, &quot;y&quot;: 2.2555024179619036, &quot;z&quot;: -2.7369003443614393}, {&quot;x&quot;: 1.3589743589743593, &quot;y&quot;: 2.3360560757462574, &quot;z&quot;: -2.8489687525130636}, {&quot;x&quot;: 1.3589743589743593, &quot;y&quot;: 2.416609733530611, &quot;z&quot;: -2.8041215538015267}, {&quot;x&quot;: 1.3589743589743593, &quot;y&quot;: 2.497163391314965, &quot;z&quot;: -2.665089957855155}, {&quot;x&quot;: 1.3589743589743593, &quot;y&quot;: 2.5777170490993186, &quot;z&quot;: -2.4808770709678325}, {&quot;x&quot;: 1.3589743589743593, &quot;y&quot;: 2.6582707068836724, &quot;z&quot;: -2.286038821723459}, {&quot;x&quot;: 1.3589743589743593, &quot;y&quot;: 2.738824364668026, &quot;z&quot;: -2.1028664209806305}, {&quot;x&quot;: 1.3589743589743593, &quot;y&quot;: 2.81937802245238, &quot;z&quot;: -1.9445159337075997}, {&quot;x&quot;: 1.3589743589743593, &quot;y&quot;: 2.8999316802367336, &quot;z&quot;: -1.8179992650060903}, {&quot;x&quot;: 1.3589743589743593, &quot;y&quot;: 2.9804853380210874, &quot;z&quot;: -1.726585211358291}, {&quot;x&quot;: 1.3589743589743593, &quot;y&quot;: 3.061038995805441, &quot;z&quot;: -1.6715218963899494}, {&quot;x&quot;: 1.3589743589743593, &quot;y&quot;: 3.141592653589793, &quot;z&quot;: -1.6531511096584546}, {&quot;x&quot;: 1.4102564102564106, &quot;y&quot;: 0.08055365778435367, &quot;z&quot;: -1.5248661470509308}, {&quot;x&quot;: 1.4102564102564106, &quot;y&quot;: 0.0, &quot;z&quot;: -1.5106146609196556}, {&quot;x&quot;: 1.4102564102564106, &quot;y&quot;: 0.16110731556870733, &quot;z&quot;: -1.5674010713027924}, {&quot;x&quot;: 1.4102564102564106, &quot;y&quot;: 0.241660973353061, &quot;z&quot;: -1.637397690533373}, {&quot;x&quot;: 1.4102564102564106, &quot;y&quot;: 0.32221463113741466, &quot;z&quot;: -1.7329247990026633}, {&quot;x&quot;: 1.4102564102564106, &quot;y&quot;: 0.4027682889217683, &quot;z&quot;: -1.8500439588344724}, {&quot;x&quot;: 1.4102564102564106, &quot;y&quot;: 0.48332194670612194, &quot;z&quot;: -1.9814711712127566}, {&quot;x&quot;: 1.4102564102564106, &quot;y&quot;: 0.5638756044904756, &quot;z&quot;: -2.114797382528335}, {&quot;x&quot;: 1.4102564102564106, &quot;y&quot;: 0.6444292622748292, &quot;z&quot;: -2.23041142958024}, {&quot;x&quot;: 1.4102564102564106, &quot;y&quot;: 0.7249829200591829, &quot;z&quot;: -2.2995561609689754}, {&quot;x&quot;: 1.4102564102564106, &quot;y&quot;: 0.8055365778435365, &quot;z&quot;: -2.283403050333739}, {&quot;x&quot;: 1.4102564102564106, &quot;y&quot;: 0.8860902356278901, &quot;z&quot;: -2.1345862809252396}, {&quot;x&quot;: 1.4102564102564106, &quot;y&quot;: 0.9666438934122438, &quot;z&quot;: -1.8030353734693672}, {&quot;x&quot;: 1.4102564102564106, &quot;y&quot;: 1.0471975511965974, &quot;z&quot;: -1.24765881300695}, {&quot;x&quot;: 1.4102564102564106, &quot;y&quot;: 1.1277512089809512, &quot;z&quot;: -0.45376765622731025}, {&quot;x&quot;: 1.4102564102564106, &quot;y&quot;: 1.208304866765305, &quot;z&quot;: 0.5472817074022064}, {&quot;x&quot;: 1.4102564102564106, &quot;y&quot;: 1.2888585245496587, &quot;z&quot;: 1.6640738101400017}, {&quot;x&quot;: 1.4102564102564106, &quot;y&quot;: 1.3694121823340124, &quot;z&quot;: 2.7471632130823727}, {&quot;x&quot;: 1.4102564102564106, &quot;y&quot;: 1.4499658401183662, &quot;z&quot;: 3.6146713211110804}, {&quot;x&quot;: 1.4102564102564106, &quot;y&quot;: 1.53051949790272, &quot;z&quot;: 4.098994304210943}, {&quot;x&quot;: 1.4102564102564106, &quot;y&quot;: 1.6110731556870737, &quot;z&quot;: 4.098994304210942}, {&quot;x&quot;: 1.4102564102564106, &quot;y&quot;: 1.6916268134714274, &quot;z&quot;: 3.614671321111078}, {&quot;x&quot;: 1.4102564102564106, &quot;y&quot;: 1.7721804712557812, &quot;z&quot;: 2.747163213082369}, {&quot;x&quot;: 1.4102564102564106, &quot;y&quot;: 1.852734129040135, &quot;z&quot;: 1.664073810139998}, {&quot;x&quot;: 1.4102564102564106, &quot;y&quot;: 1.9332877868244887, &quot;z&quot;: 0.5472817074022014}, {&quot;x&quot;: 1.4102564102564106, &quot;y&quot;: 2.0138414446088424, &quot;z&quot;: -0.45376765622731496}, {&quot;x&quot;: 1.4102564102564106, &quot;y&quot;: 2.094395102393196, &quot;z&quot;: -1.2476588130069528}, {&quot;x&quot;: 1.4102564102564106, &quot;y&quot;: 2.17494876017755, &quot;z&quot;: -1.8030353734693694}, {&quot;x&quot;: 1.4102564102564106, &quot;y&quot;: 2.2555024179619036, &quot;z&quot;: -2.134586280925242}, {&quot;x&quot;: 1.4102564102564106, &quot;y&quot;: 2.3360560757462574, &quot;z&quot;: -2.2834030503337406}, {&quot;x&quot;: 1.4102564102564106, &quot;y&quot;: 2.416609733530611, &quot;z&quot;: -2.2995561609689754}, {&quot;x&quot;: 1.4102564102564106, &quot;y&quot;: 2.497163391314965, &quot;z&quot;: -2.23041142958024}, {&quot;x&quot;: 1.4102564102564106, &quot;y&quot;: 2.5777170490993186, &quot;z&quot;: -2.1147973825283333}, {&quot;x&quot;: 1.4102564102564106, &quot;y&quot;: 2.6582707068836724, &quot;z&quot;: -1.9814711712127573}, {&quot;x&quot;: 1.4102564102564106, &quot;y&quot;: 2.738824364668026, &quot;z&quot;: -1.8500439588344715}, {&quot;x&quot;: 1.4102564102564106, &quot;y&quot;: 2.81937802245238, &quot;z&quot;: -1.732924799002661}, {&quot;x&quot;: 1.4102564102564106, &quot;y&quot;: 2.8999316802367336, &quot;z&quot;: -1.637397690533372}, {&quot;x&quot;: 1.4102564102564106, &quot;y&quot;: 2.9804853380210874, &quot;z&quot;: -1.567401071302791}, {&quot;x&quot;: 1.4102564102564106, &quot;y&quot;: 3.061038995805441, &quot;z&quot;: -1.5248661470509297}, {&quot;x&quot;: 1.4102564102564106, &quot;y&quot;: 3.141592653589793, &quot;z&quot;: -1.5106146609196556}, {&quot;x&quot;: 1.461538461538462, &quot;y&quot;: 0.08055365778435367, &quot;z&quot;: -1.3705592447175006}, {&quot;x&quot;: 1.461538461538462, &quot;y&quot;: 0.0, &quot;z&quot;: -1.3596769008308867}, {&quot;x&quot;: 1.461538461538462, &quot;y&quot;: 0.16110731556870733, &quot;z&quot;: -1.4028898693036607}, {&quot;x&quot;: 1.461538461538462, &quot;y&quot;: 0.241660973353061, &quot;z&quot;: -1.4555862837483846}, {&quot;x&quot;: 1.461538461538462, &quot;y&quot;: 0.32221463113741466, &quot;z&quot;: -1.5263905065035233}, {&quot;x&quot;: 1.461538461538462, &quot;y&quot;: 0.4027682889217683, &quot;z&quot;: -1.6111611685834246}, {&quot;x&quot;: 1.461538461538462, &quot;y&quot;: 0.48332194670612194, &quot;z&quot;: -1.7028536724179886}, {&quot;x&quot;: 1.461538461538462, &quot;y&quot;: 0.5638756044904756, &quot;z&quot;: -1.7902268646369188}, {&quot;x&quot;: 1.461538461538462, &quot;y&quot;: 0.6444292622748292, &quot;z&quot;: -1.8564375393542436}, {&quot;x&quot;: 1.461538461538462, &quot;y&quot;: 0.7249829200591829, &quot;z&quot;: -1.8779042809700313}, {&quot;x&quot;: 1.461538461538462, &quot;y&quot;: 0.8055365778435365, &quot;z&quot;: -1.8241401046491061}, {&quot;x&quot;: 1.461538461538462, &quot;y&quot;: 0.8860902356278901, &quot;z&quot;: -1.6595967296672285}, {&quot;x&quot;: 1.461538461538462, &quot;y&quot;: 0.9666438934122438, &quot;z&quot;: -1.3487272638195444}, {&quot;x&quot;: 1.461538461538462, &quot;y&quot;: 1.0471975511965974, &quot;z&quot;: -0.8650963240357041}, {&quot;x&quot;: 1.461538461538462, &quot;y&quot;: 1.1277512089809512, &quot;z&quot;: -0.20403761825847785}, {&quot;x&quot;: 1.461538461538462, &quot;y&quot;: 1.208304866765305, &quot;z&quot;: 0.6040291814020342}, {&quot;x&quot;: 1.461538461538462, &quot;y&quot;: 1.2888585245496587, &quot;z&quot;: 1.4852351000474864}, {&quot;x&quot;: 1.461538461538462, &quot;y&quot;: 1.3694121823340124, &quot;z&quot;: 2.3256981239454406}, {&quot;x&quot;: 1.461538461538462, &quot;y&quot;: 1.4499658401183662, &quot;z&quot;: 2.9911252430402144}, {&quot;x&quot;: 1.461538461538462, &quot;y&quot;: 1.53051949790272, &quot;z&quot;: 3.3600917451905246}, {&quot;x&quot;: 1.461538461538462, &quot;y&quot;: 1.6110731556870737, &quot;z&quot;: 3.3600917451905232}, {&quot;x&quot;: 1.461538461538462, &quot;y&quot;: 1.6916268134714274, &quot;z&quot;: 2.991125243040209}, {&quot;x&quot;: 1.461538461538462, &quot;y&quot;: 1.7721804712557812, &quot;z&quot;: 2.3256981239454375}, {&quot;x&quot;: 1.461538461538462, &quot;y&quot;: 1.852734129040135, &quot;z&quot;: 1.485235100047484}, {&quot;x&quot;: 1.461538461538462, &quot;y&quot;: 1.9332877868244887, &quot;z&quot;: 0.6040291814020308}, {&quot;x&quot;: 1.461538461538462, &quot;y&quot;: 2.0138414446088424, &quot;z&quot;: -0.20403761825848166}, {&quot;x&quot;: 1.461538461538462, &quot;y&quot;: 2.094395102393196, &quot;z&quot;: -0.8650963240357059}, {&quot;x&quot;: 1.461538461538462, &quot;y&quot;: 2.17494876017755, &quot;z&quot;: -1.3487272638195476}, {&quot;x&quot;: 1.461538461538462, &quot;y&quot;: 2.2555024179619036, &quot;z&quot;: -1.6595967296672283}, {&quot;x&quot;: 1.461538461538462, &quot;y&quot;: 2.3360560757462574, &quot;z&quot;: -1.824140104649108}, {&quot;x&quot;: 1.461538461538462, &quot;y&quot;: 2.416609733530611, &quot;z&quot;: -1.87790428097003}, {&quot;x&quot;: 1.461538461538462, &quot;y&quot;: 2.497163391314965, &quot;z&quot;: -1.8564375393542425}, {&quot;x&quot;: 1.461538461538462, &quot;y&quot;: 2.5777170490993186, &quot;z&quot;: -1.7902268646369168}, {&quot;x&quot;: 1.461538461538462, &quot;y&quot;: 2.6582707068836724, &quot;z&quot;: -1.7028536724179864}, {&quot;x&quot;: 1.461538461538462, &quot;y&quot;: 2.738824364668026, &quot;z&quot;: -1.6111611685834215}, {&quot;x&quot;: 1.461538461538462, &quot;y&quot;: 2.81937802245238, &quot;z&quot;: -1.526390506503521}, {&quot;x&quot;: 1.461538461538462, &quot;y&quot;: 2.8999316802367336, &quot;z&quot;: -1.4555862837483828}, {&quot;x&quot;: 1.461538461538462, &quot;y&quot;: 2.9804853380210874, &quot;z&quot;: -1.402889869303661}, {&quot;x&quot;: 1.461538461538462, &quot;y&quot;: 3.061038995805441, &quot;z&quot;: -1.3705592447175012}, {&quot;x&quot;: 1.461538461538462, &quot;y&quot;: 3.141592653589793, &quot;z&quot;: -1.3596769008308867}, {&quot;x&quot;: 1.5128205128205132, &quot;y&quot;: 0.08055365778435367, &quot;z&quot;: -1.2178852761651386}, {&quot;x&quot;: 1.5128205128205132, &quot;y&quot;: 0.0, &quot;z&quot;: -1.2097153551282205}, {&quot;x&quot;: 1.5128205128205132, &quot;y&quot;: 0.16110731556870733, &quot;z&quot;: -1.2420326430090927}, {&quot;x&quot;: 1.5128205128205132, &quot;y&quot;: 0.241660973353061, &quot;z&quot;: -1.2809636133868938}, {&quot;x&quot;: 1.5128205128205132, &quot;y&quot;: 0.32221463113741466, &quot;z&quot;: -1.3323288653917038}, {&quot;x&quot;: 1.5128205128205132, &quot;y&quot;: 0.4027682889217683, &quot;z&quot;: -1.3920754736151622}, {&quot;x&quot;: 1.5128205128205132, &quot;y&quot;: 0.48332194670612194, &quot;z&quot;: -1.4536832577681007}, {&quot;x&quot;: 1.5128205128205132, &quot;y&quot;: 0.5638756044904756, &quot;z&quot;: -1.5072430792550073}, {&quot;x&quot;: 1.5128205128205132, &quot;y&quot;: 0.6444292622748292, &quot;z&quot;: -1.538535114851549}, {&quot;x&quot;: 1.5128205128205132, &quot;y&quot;: 0.7249829200591829, &quot;z&quot;: -1.5284299372505832}, {&quot;x&quot;: 1.5128205128205132, &quot;y&quot;: 0.8055365778435365, &quot;z&quot;: -1.4531527199831178}, {&quot;x&quot;: 1.5128205128205132, &quot;y&quot;: 0.8860902356278901, &quot;z&quot;: -1.2861539245622595}, {&quot;x&quot;: 1.5128205128205132, &quot;y&quot;: 0.9666438934122438, &quot;z&quot;: -1.002362487589636}, {&quot;x&quot;: 1.5128205128205132, &quot;y&quot;: 1.0471975511965974, &quot;z&quot;: -0.5852160485248944}, {&quot;x&quot;: 1.5128205128205132, &quot;y&quot;: 1.1277512089809512, &quot;z&quot;: -0.035833325963710166}, {&quot;x&quot;: 1.5128205128205132, &quot;y&quot;: 1.208304866765305, &quot;z&quot;: 0.6179653799204529}, {&quot;x&quot;: 1.5128205128205132, &quot;y&quot;: 1.2888585245496587, &quot;z&quot;: 1.3167886673389804}, {&quot;x&quot;: 1.5128205128205132, &quot;y&quot;: 1.3694121823340124, &quot;z&quot;: 1.9734693817940259}, {&quot;x&quot;: 1.5128205128205132, &quot;y&quot;: 1.4499658401183662, &quot;z&quot;: 2.4880294514173684}, {&quot;x&quot;: 1.5128205128205132, &quot;y&quot;: 1.53051949790272, &quot;z&quot;: 2.771594159282243}, {&quot;x&quot;: 1.5128205128205132, &quot;y&quot;: 1.6110731556870737, &quot;z&quot;: 2.7715941592822424}, {&quot;x&quot;: 1.5128205128205132, &quot;y&quot;: 1.6916268134714274, &quot;z&quot;: 2.488029451417365}, {&quot;x&quot;: 1.5128205128205132, &quot;y&quot;: 1.7721804712557812, &quot;z&quot;: 1.9734693817940234}, {&quot;x&quot;: 1.5128205128205132, &quot;y&quot;: 1.852734129040135, &quot;z&quot;: 1.3167886673389788}, {&quot;x&quot;: 1.5128205128205132, &quot;y&quot;: 1.9332877868244887, &quot;z&quot;: 0.6179653799204504}, {&quot;x&quot;: 1.5128205128205132, &quot;y&quot;: 2.0138414446088424, &quot;z&quot;: -0.03583332596371314}, {&quot;x&quot;: 1.5128205128205132, &quot;y&quot;: 2.094395102393196, &quot;z&quot;: -0.5852160485248957}, {&quot;x&quot;: 1.5128205128205132, &quot;y&quot;: 2.17494876017755, &quot;z&quot;: -1.0023624875896382}, {&quot;x&quot;: 1.5128205128205132, &quot;y&quot;: 2.2555024179619036, &quot;z&quot;: -1.2861539245622613}, {&quot;x&quot;: 1.5128205128205132, &quot;y&quot;: 2.3360560757462574, &quot;z&quot;: -1.4531527199831187}, {&quot;x&quot;: 1.5128205128205132, &quot;y&quot;: 2.416609733530611, &quot;z&quot;: -1.5284299372505827}, {&quot;x&quot;: 1.5128205128205132, &quot;y&quot;: 2.497163391314965, &quot;z&quot;: -1.538535114851548}, {&quot;x&quot;: 1.5128205128205132, &quot;y&quot;: 2.5777170490993186, &quot;z&quot;: -1.5072430792550064}, {&quot;x&quot;: 1.5128205128205132, &quot;y&quot;: 2.6582707068836724, &quot;z&quot;: -1.4536832577680998}, {&quot;x&quot;: 1.5128205128205132, &quot;y&quot;: 2.738824364668026, &quot;z&quot;: -1.3920754736151597}, {&quot;x&quot;: 1.5128205128205132, &quot;y&quot;: 2.81937802245238, &quot;z&quot;: -1.3323288653917031}, {&quot;x&quot;: 1.5128205128205132, &quot;y&quot;: 2.8999316802367336, &quot;z&quot;: -1.280963613386893}, {&quot;x&quot;: 1.5128205128205132, &quot;y&quot;: 2.9804853380210874, &quot;z&quot;: -1.2420326430090933}, {&quot;x&quot;: 1.5128205128205132, &quot;y&quot;: 3.061038995805441, &quot;z&quot;: -1.21788527616514}, {&quot;x&quot;: 1.5128205128205132, &quot;y&quot;: 3.141592653589793, &quot;z&quot;: -1.2097153551282205}, {&quot;x&quot;: 1.5641025641025645, &quot;y&quot;: 0.08055365778435367, &quot;z&quot;: -1.0726093850497065}, {&quot;x&quot;: 1.5641025641025645, &quot;y&quot;: 0.0, &quot;z&quot;: -1.0665938264752972}, {&quot;x&quot;: 1.5641025641025645, &quot;y&quot;: 0.16110731556870733, &quot;z&quot;: -1.090281585755904}, {&quot;x&quot;: 1.5641025641025645, &quot;y&quot;: 0.241660973353061, &quot;z&quot;: -1.1184031141103852}, {&quot;x&quot;: 1.5641025641025645, &quot;y&quot;: 0.32221463113741466, &quot;z&quot;: -1.1546816172956478}, {&quot;x&quot;: 1.5641025641025645, &quot;y&quot;: 0.4027682889217683, &quot;z&quot;: -1.1953221251276598}, {&quot;x&quot;: 1.5641025641025645, &quot;y&quot;: 0.48332194670612194, &quot;z&quot;: -1.2344647810369154}, {&quot;x&quot;: 1.5641025641025645, &quot;y&quot;: 0.5638756044904756, &quot;z&quot;: -1.2635419153275478}, {&quot;x&quot;: 1.5641025641025645, &quot;y&quot;: 0.6444292622748292, &quot;z&quot;: -1.2706984929158682}, {&quot;x&quot;: 1.5641025641025645, &quot;y&quot;: 0.7249829200591829, &quot;z&quot;: -1.240540898983938}, {&quot;x&quot;: 1.5641025641025645, &quot;y&quot;: 0.8055365778435365, &quot;z&quot;: -1.1546244874306906}, {&quot;x&quot;: 1.5641025641025645, &quot;y&quot;: 0.8860902356278901, &quot;z&quot;: -0.9932028328668558}, {&quot;x&quot;: 1.5641025641025645, &quot;y&quot;: 0.9666438934122438, &quot;z&quot;: -0.7387257393717052}, {&quot;x&quot;: 1.5641025641025645, &quot;y&quot;: 1.0471975511965974, &quot;z&quot;: -0.3812277613646098}, {&quot;x&quot;: 1.5641025641025645, &quot;y&quot;: 1.1277512089809512, &quot;z&quot;: 0.07503264551137331}, {&quot;x&quot;: 1.5641025641025645, &quot;y&quot;: 1.208304866765305, &quot;z&quot;: 0.6054695682444482}, {&quot;x&quot;: 1.5641025641025645, &quot;y&quot;: 1.2888585245496587, &quot;z&quot;: 1.162447137818853}, {&quot;x&quot;: 1.5641025641025645, &quot;y&quot;: 1.3694121823340124, &quot;z&quot;: 1.678923712046572}, {&quot;x&quot;: 1.5641025641025645, &quot;y&quot;: 1.4499658401183662, &quot;z&quot;: 2.079871216508928}, {&quot;x&quot;: 1.5641025641025645, &quot;y&quot;: 1.53051949790272, &quot;z&quot;: 2.2996053926608084}, {&quot;x&quot;: 1.5641025641025645, &quot;y&quot;: 1.6110731556870737, &quot;z&quot;: 2.299605392660808}, {&quot;x&quot;: 1.5641025641025645, &quot;y&quot;: 1.6916268134714274, &quot;z&quot;: 2.0798712165089244}, {&quot;x&quot;: 1.5641025641025645, &quot;y&quot;: 1.7721804712557812, &quot;z&quot;: 1.678923712046571}, {&quot;x&quot;: 1.5641025641025645, &quot;y&quot;: 1.852734129040135, &quot;z&quot;: 1.1624471378188515}, {&quot;x&quot;: 1.5641025641025645, &quot;y&quot;: 1.9332877868244887, &quot;z&quot;: 0.6054695682444463}, {&quot;x&quot;: 1.5641025641025645, &quot;y&quot;: 2.0138414446088424, &quot;z&quot;: 0.07503264551137097}, {&quot;x&quot;: 1.5641025641025645, &quot;y&quot;: 2.094395102393196, &quot;z&quot;: -0.38122776136461095}, {&quot;x&quot;: 1.5641025641025645, &quot;y&quot;: 2.17494876017755, &quot;z&quot;: -0.7387257393717076}, {&quot;x&quot;: 1.5641025641025645, &quot;y&quot;: 2.2555024179619036, &quot;z&quot;: -0.9932028328668571}, {&quot;x&quot;: 1.5641025641025645, &quot;y&quot;: 2.3360560757462574, &quot;z&quot;: -1.154624487430692}, {&quot;x&quot;: 1.5641025641025645, &quot;y&quot;: 2.416609733530611, &quot;z&quot;: -1.2405408989839384}, {&quot;x&quot;: 1.5641025641025645, &quot;y&quot;: 2.497163391314965, &quot;z&quot;: -1.2706984929158665}, {&quot;x&quot;: 1.5641025641025645, &quot;y&quot;: 2.5777170490993186, &quot;z&quot;: -1.2635419153275473}, {&quot;x&quot;: 1.5641025641025645, &quot;y&quot;: 2.6582707068836724, &quot;z&quot;: -1.234464781036916}, {&quot;x&quot;: 1.5641025641025645, &quot;y&quot;: 2.738824364668026, &quot;z&quot;: -1.1953221251276576}, {&quot;x&quot;: 1.5641025641025645, &quot;y&quot;: 2.81937802245238, &quot;z&quot;: -1.1546816172956464}, {&quot;x&quot;: 1.5641025641025645, &quot;y&quot;: 2.8999316802367336, &quot;z&quot;: -1.1184031141103847}, {&quot;x&quot;: 1.5641025641025645, &quot;y&quot;: 2.9804853380210874, &quot;z&quot;: -1.090281585755904}, {&quot;x&quot;: 1.5641025641025645, &quot;y&quot;: 3.061038995805441, &quot;z&quot;: -1.0726093850497065}, {&quot;x&quot;: 1.5641025641025645, &quot;y&quot;: 3.141592653589793, &quot;z&quot;: -1.0665938264752972}, {&quot;x&quot;: 1.6153846153846159, &quot;y&quot;: 0.08055365778435367, &quot;z&quot;: -0.9380186805116715}, {&quot;x&quot;: 1.6153846153846159, &quot;y&quot;: 0.0, &quot;z&quot;: -0.9336936275132202}, {&quot;x&quot;: 1.6153846153846159, &quot;y&quot;: 0.16110731556870733, &quot;z&quot;: -0.9506288696510965}, {&quot;x&quot;: 1.6153846153846159, &quot;y&quot;: 0.241660973353061, &quot;z&quot;: -0.9703643026626536}, {&quot;x&quot;: 1.6153846153846159, &quot;y&quot;: 0.32221463113741466, &quot;z&quot;: -0.995076825248929}, {&quot;x&quot;: 1.6153846153846159, &quot;y&quot;: 0.4027682889217683, &quot;z&quot;: -1.0213167466997481}, {&quot;x&quot;: 1.6153846153846159, &quot;y&quot;: 0.48332194670612194, &quot;z&quot;: -1.043925976933759}, {&quot;x&quot;: 1.6153846153846159, &quot;y&quot;: 0.5638756044904756, &quot;z&quot;: -1.0556008433107882}, {&quot;x&quot;: 1.6153846153846159, &quot;y&quot;: 0.6444292622748292, &quot;z&quot;: -1.0465501690054861}, {&quot;x&quot;: 1.6153846153846159, &quot;y&quot;: 0.7249829200591829, &quot;z&quot;: -1.0044614290884983}, {&quot;x&quot;: 1.6153846153846159, &quot;y&quot;: 0.8055365778435365, &quot;z&quot;: -0.9150826800950966}, {&quot;x&quot;: 1.6153846153846159, &quot;y&quot;: 0.8860902356278901, &quot;z&quot;: -0.7637836055313291}, {&quot;x&quot;: 1.6153846153846159, &quot;y&quot;: 0.9666438934122438, &quot;z&quot;: -0.5383916765017989}, {&quot;x&quot;: 1.6153846153846159, &quot;y&quot;: 1.0471975511965974, &quot;z&quot;: -0.23330463909682228}, {&quot;x&quot;: 1.6153846153846159, &quot;y&quot;: 1.1277512089809512, &quot;z&quot;: 0.14570513537007324}, {&quot;x&quot;: 1.6153846153846159, &quot;y&quot;: 1.208304866765305, &quot;z&quot;: 0.5773679629783371}, {&quot;x&quot;: 1.6153846153846159, &quot;y&quot;: 1.2888585245496587, &quot;z&quot;: 1.0235009845824163}, {&quot;x&quot;: 1.6153846153846159, &quot;y&quot;: 1.3694121823340124, &quot;z&quot;: 1.4322800564747342}, {&quot;x&quot;: 1.6153846153846159, &quot;y&quot;: 1.4499658401183662, &quot;z&quot;: 1.746964798103171}, {&quot;x&quot;: 1.6153846153846159, &quot;y&quot;: 1.53051949790272, &quot;z&quot;: 1.9185620107329726}, {&quot;x&quot;: 1.6153846153846159, &quot;y&quot;: 1.6110731556870737, &quot;z&quot;: 1.9185620107329726}, {&quot;x&quot;: 1.6153846153846159, &quot;y&quot;: 1.6916268134714274, &quot;z&quot;: 1.7469647981031695}, {&quot;x&quot;: 1.6153846153846159, &quot;y&quot;: 1.7721804712557812, &quot;z&quot;: 1.432280056474733}, {&quot;x&quot;: 1.6153846153846159, &quot;y&quot;: 1.852734129040135, &quot;z&quot;: 1.0235009845824148}, {&quot;x&quot;: 1.6153846153846159, &quot;y&quot;: 1.9332877868244887, &quot;z&quot;: 0.5773679629783356}, {&quot;x&quot;: 1.6153846153846159, &quot;y&quot;: 2.0138414446088424, &quot;z&quot;: 0.1457051353700712}, {&quot;x&quot;: 1.6153846153846159, &quot;y&quot;: 2.094395102393196, &quot;z&quot;: -0.233304639096823}, {&quot;x&quot;: 1.6153846153846159, &quot;y&quot;: 2.17494876017755, &quot;z&quot;: -0.5383916765018006}, {&quot;x&quot;: 1.6153846153846159, &quot;y&quot;: 2.2555024179619036, &quot;z&quot;: -0.7637836055313305}, {&quot;x&quot;: 1.6153846153846159, &quot;y&quot;: 2.3360560757462574, &quot;z&quot;: -0.9150826800950972}, {&quot;x&quot;: 1.6153846153846159, &quot;y&quot;: 2.416609733530611, &quot;z&quot;: -1.0044614290885}, {&quot;x&quot;: 1.6153846153846159, &quot;y&quot;: 2.497163391314965, &quot;z&quot;: -1.046550169005485}, {&quot;x&quot;: 1.6153846153846159, &quot;y&quot;: 2.5777170490993186, &quot;z&quot;: -1.0556008433107889}, {&quot;x&quot;: 1.6153846153846159, &quot;y&quot;: 2.6582707068836724, &quot;z&quot;: -1.0439259769337588}, {&quot;x&quot;: 1.6153846153846159, &quot;y&quot;: 2.738824364668026, &quot;z&quot;: -1.0213167466997484}, {&quot;x&quot;: 1.6153846153846159, &quot;y&quot;: 2.81937802245238, &quot;z&quot;: -0.9950768252489292}, {&quot;x&quot;: 1.6153846153846159, &quot;y&quot;: 2.8999316802367336, &quot;z&quot;: -0.9703643026626526}, {&quot;x&quot;: 1.6153846153846159, &quot;y&quot;: 2.9804853380210874, &quot;z&quot;: -0.9506288696510968}, {&quot;x&quot;: 1.6153846153846159, &quot;y&quot;: 3.061038995805441, &quot;z&quot;: -0.938018680511672}, {&quot;x&quot;: 1.6153846153846159, &quot;y&quot;: 3.141592653589793, &quot;z&quot;: -0.9336936275132202}, {&quot;x&quot;: 1.6666666666666672, &quot;y&quot;: 0.08055365778435367, &quot;z&quot;: -0.815700977892115}, {&quot;x&quot;: 1.6666666666666672, &quot;y&quot;: 0.0, &quot;z&quot;: -0.8126874240392298}, {&quot;x&quot;: 1.6666666666666672, &quot;y&quot;: 0.16110731556870733, &quot;z&quot;: -0.8243990361829484}, {&quot;x&quot;: 1.6666666666666672, &quot;y&quot;: 0.241660973353061, &quot;z&quot;: -0.8377041643711306}, {&quot;x&quot;: 1.6666666666666672, &quot;y&quot;: 0.32221463113741466, &quot;z&quot;: -0.8536580071003435}, {&quot;x&quot;: 1.6666666666666672, &quot;y&quot;: 0.4027682889217683, &quot;z&quot;: -0.8691898792261968}, {&quot;x&quot;: 1.6666666666666672, &quot;y&quot;: 0.48332194670612194, &quot;z&quot;: -0.8798279802011896}, {&quot;x&quot;: 1.6666666666666672, &quot;y&quot;: 0.5638756044904756, &quot;z&quot;: -0.8794117812629294}, {&quot;x&quot;: 1.6666666666666672, &quot;y&quot;: 0.6444292622748292, &quot;z&quot;: -0.8599118718328278}, {&quot;x&quot;: 1.6666666666666672, &quot;y&quot;: 0.7249829200591829, &quot;z&quot;: -0.8115254856321495}, {&quot;x&quot;: 1.6666666666666672, &quot;y&quot;: 0.8055365778435365, &quot;z&quot;: -0.7232759291353732}, {&quot;x&quot;: 1.6666666666666672, &quot;y&quot;: 0.8860902356278901, &quot;z&quot;: -0.5843651783417178}, {&quot;x&quot;: 1.6666666666666672, &quot;y&quot;: 0.9666438934122438, &quot;z&quot;: -0.38645120515818476}, {&quot;x&quot;: 1.6666666666666672, &quot;y&quot;: 1.0471975511965974, &quot;z&quot;: -0.126778677131761}, {&quot;x&quot;: 1.6666666666666672, &quot;y&quot;: 1.1277512089809512, &quot;z&quot;: 0.18834327477796522}, {&quot;x&quot;: 1.6666666666666672, &quot;y&quot;: 1.208304866765305, &quot;z&quot;: 0.5407641741723193}, {&quot;x&quot;: 1.6666666666666672, &quot;y&quot;: 1.2888585245496587, &quot;z&quot;: 0.899859546282701}, {&quot;x&quot;: 1.6666666666666672, &quot;y&quot;: 1.3694121823340124, &quot;z&quot;: 1.2253605174104092}, {&quot;x&quot;: 1.6666666666666672, &quot;y&quot;: 1.4499658401183662, &quot;z&quot;: 1.474036704074605}, {&quot;x&quot;: 1.6666666666666672, &quot;y&quot;: 1.53051949790272, &quot;z&quot;: 1.6090246629644893}, {&quot;x&quot;: 1.6666666666666672, &quot;y&quot;: 1.6110731556870737, &quot;z&quot;: 1.6090246629644893}, {&quot;x&quot;: 1.6666666666666672, &quot;y&quot;: 1.6916268134714274, &quot;z&quot;: 1.4740367040746039}, {&quot;x&quot;: 1.6666666666666672, &quot;y&quot;: 1.7721804712557812, &quot;z&quot;: 1.2253605174104085}, {&quot;x&quot;: 1.6666666666666672, &quot;y&quot;: 1.852734129040135, &quot;z&quot;: 0.8998595462826999}, {&quot;x&quot;: 1.6666666666666672, &quot;y&quot;: 1.9332877868244887, &quot;z&quot;: 0.540764174172318}, {&quot;x&quot;: 1.6666666666666672, &quot;y&quot;: 2.0138414446088424, &quot;z&quot;: 0.18834327477796328}, {&quot;x&quot;: 1.6666666666666672, &quot;y&quot;: 2.094395102393196, &quot;z&quot;: -0.12677867713176166}, {&quot;x&quot;: 1.6666666666666672, &quot;y&quot;: 2.17494876017755, &quot;z&quot;: -0.3864512051581862}, {&quot;x&quot;: 1.6666666666666672, &quot;y&quot;: 2.2555024179619036, &quot;z&quot;: -0.5843651783417184}, {&quot;x&quot;: 1.6666666666666672, &quot;y&quot;: 2.3360560757462574, &quot;z&quot;: -0.7232759291353749}, {&quot;x&quot;: 1.6666666666666672, &quot;y&quot;: 2.416609733530611, &quot;z&quot;: -0.8115254856321498}, {&quot;x&quot;: 1.6666666666666672, &quot;y&quot;: 2.497163391314965, &quot;z&quot;: -0.859911871832829}, {&quot;x&quot;: 1.6666666666666672, &quot;y&quot;: 2.5777170490993186, &quot;z&quot;: -0.8794117812629295}, {&quot;x&quot;: 1.6666666666666672, &quot;y&quot;: 2.6582707068836724, &quot;z&quot;: -0.8798279802011899}, {&quot;x&quot;: 1.6666666666666672, &quot;y&quot;: 2.738824364668026, &quot;z&quot;: -0.869189879226196}, {&quot;x&quot;: 1.6666666666666672, &quot;y&quot;: 2.81937802245238, &quot;z&quot;: -0.8536580071003429}, {&quot;x&quot;: 1.6666666666666672, &quot;y&quot;: 2.8999316802367336, &quot;z&quot;: -0.8377041643711312}, {&quot;x&quot;: 1.6666666666666672, &quot;y&quot;: 2.9804853380210874, &quot;z&quot;: -0.8243990361829486}, {&quot;x&quot;: 1.6666666666666672, &quot;y&quot;: 3.061038995805441, &quot;z&quot;: -0.8157009778921152}, {&quot;x&quot;: 1.6666666666666672, &quot;y&quot;: 3.141592653589793, &quot;z&quot;: -0.8126874240392298}, {&quot;x&quot;: 1.7179487179487185, &quot;y&quot;: 0.08055365778435367, &quot;z&quot;: -0.7061145730711283}, {&quot;x&quot;: 1.7179487179487185, &quot;y&quot;: 0.0, &quot;z&quot;: -0.7041070792002664}, {&quot;x&quot;: 1.7179487179487185, &quot;y&quot;: 0.16110731556870733, &quot;z&quot;: -0.7118236686582899}, {&quot;x&quot;: 1.7179487179487185, &quot;y&quot;: 0.241660973353061, &quot;z&quot;: -0.720256840406534}, {&quot;x&quot;: 1.7179487179487185, &quot;y&quot;: 0.32221463113741466, &quot;z&quot;: -0.7296636429130158}, {&quot;x&quot;: 1.7179487179487185, &quot;y&quot;: 0.4027682889217683, &quot;z&quot;: -0.7373526053057696}, {&quot;x&quot;: 1.7179487179487185, &quot;y&quot;: 0.48332194670612194, &quot;z&quot;: -0.7394909310636792}, {&quot;x&quot;: 1.7179487179487185, &quot;y&quot;: 0.5638756044904756, &quot;z&quot;: -0.7309240056582503}, {&quot;x&quot;: 1.7179487179487185, &quot;y&quot;: 0.6444292622748292, &quot;z&quot;: -0.7051027883400564}, {&quot;x&quot;: 1.7179487179487185, &quot;y&quot;: 0.7249829200591829, &quot;z&quot;: -0.6542504402827517}, {&quot;x&quot;: 1.7179487179487185, &quot;y&quot;: 0.8055365778435365, &quot;z&quot;: -0.5699359139815572}, {&quot;x&quot;: 1.7179487179487185, &quot;y&quot;: 0.8860902356278901, &quot;z&quot;: -0.4442231091393809}, {&quot;x&quot;: 1.7179487179487185, &quot;y&quot;: 0.9666438934122438, &quot;z&quot;: -0.27148748101797704}, {&quot;x&quot;: 1.7179487179487185, &quot;y&quot;: 1.0471975511965974, &quot;z&quot;: -0.05079634470341582}, {&quot;x&quot;: 1.7179487179487185, &quot;y&quot;: 1.1277512089809512, &quot;z&quot;: 0.2115719655910469}, {&quot;x&quot;: 1.7179487179487185, &quot;y&quot;: 1.208304866765305, &quot;z&quot;: 0.5002659111440788}, {&quot;x&quot;: 1.7179487179487185, &quot;y&quot;: 1.2888585245496587, &quot;z&quot;: 0.790686428064602}, {&quot;x&quot;: 1.7179487179487185, &quot;y&quot;: 1.3694121823340124, &quot;z&quot;: 1.0513794428254226}, {&quot;x&quot;: 1.7179487179487185, &quot;y&quot;: 1.4499658401183662, &quot;z&quot;: 1.2491713101126085}, {&quot;x&quot;: 1.7179487179487185, &quot;y&quot;: 1.53051949790272, &quot;z&quot;: 1.3560947937596992}, {&quot;x&quot;: 1.7179487179487185, &quot;y&quot;: 1.6110731556870737, &quot;z&quot;: 1.3560947937596994}, {&quot;x&quot;: 1.7179487179487185, &quot;y&quot;: 1.6916268134714274, &quot;z&quot;: 1.2491713101126065}, {&quot;x&quot;: 1.7179487179487185, &quot;y&quot;: 1.7721804712557812, &quot;z&quot;: 1.051379442825422}, {&quot;x&quot;: 1.7179487179487185, &quot;y&quot;: 1.852734129040135, &quot;z&quot;: 0.7906864280646011}, {&quot;x&quot;: 1.7179487179487185, &quot;y&quot;: 1.9332877868244887, &quot;z&quot;: 0.5002659111440778}, {&quot;x&quot;: 1.7179487179487185, &quot;y&quot;: 2.0138414446088424, &quot;z&quot;: 0.2115719655910454}, {&quot;x&quot;: 1.7179487179487185, &quot;y&quot;: 2.094395102393196, &quot;z&quot;: -0.050796344703416416}, {&quot;x&quot;: 1.7179487179487185, &quot;y&quot;: 2.17494876017755, &quot;z&quot;: -0.27148748101797826}, {&quot;x&quot;: 1.7179487179487185, &quot;y&quot;: 2.2555024179619036, &quot;z&quot;: -0.4442231091393816}, {&quot;x&quot;: 1.7179487179487185, &quot;y&quot;: 2.3360560757462574, &quot;z&quot;: -0.5699359139815576}, {&quot;x&quot;: 1.7179487179487185, &quot;y&quot;: 2.416609733530611, &quot;z&quot;: -0.6542504402827526}, {&quot;x&quot;: 1.7179487179487185, &quot;y&quot;: 2.497163391314965, &quot;z&quot;: -0.7051027883400555}, {&quot;x&quot;: 1.7179487179487185, &quot;y&quot;: 2.5777170490993186, &quot;z&quot;: -0.7309240056582504}, {&quot;x&quot;: 1.7179487179487185, &quot;y&quot;: 2.6582707068836724, &quot;z&quot;: -0.7394909310636791}, {&quot;x&quot;: 1.7179487179487185, &quot;y&quot;: 2.738824364668026, &quot;z&quot;: -0.7373526053057693}, {&quot;x&quot;: 1.7179487179487185, &quot;y&quot;: 2.81937802245238, &quot;z&quot;: -0.7296636429130144}, {&quot;x&quot;: 1.7179487179487185, &quot;y&quot;: 2.8999316802367336, &quot;z&quot;: -0.7202568404065335}, {&quot;x&quot;: 1.7179487179487185, &quot;y&quot;: 2.9804853380210874, &quot;z&quot;: -0.7118236686582904}, {&quot;x&quot;: 1.7179487179487185, &quot;y&quot;: 3.061038995805441, &quot;z&quot;: -0.7061145730711286}, {&quot;x&quot;: 1.7179487179487185, &quot;y&quot;: 3.141592653589793, &quot;z&quot;: -0.7041070792002664}, {&quot;x&quot;: 1.7692307692307698, &quot;y&quot;: 0.08055365778435367, &quot;z&quot;: -0.6089966889173303}, {&quot;x&quot;: 1.7692307692307698, &quot;y&quot;: 0.0, &quot;z&quot;: -0.6077519133757017}, {&quot;x&quot;: 1.7692307692307698, &quot;y&quot;: 0.16110731556870733, &quot;z&quot;: -0.6124496764368408}, {&quot;x&quot;: 1.7692307692307698, &quot;y&quot;: 0.241660973353061, &quot;z&quot;: -0.617239131938821}, {&quot;x&quot;: 1.7692307692307698, &quot;y&quot;: 0.32221463113741466, &quot;z&quot;: -0.6218231788705169}, {&quot;x&quot;: 1.7692307692307698, &quot;y&quot;: 0.4027682889217683, &quot;z&quot;: -0.6238700179460697}, {&quot;x&quot;: 1.7692307692307698, &quot;y&quot;: 0.48332194670612194, &quot;z&quot;: -0.6201230811315059}, {&quot;x&quot;: 1.7692307692307698, &quot;y&quot;: 0.5638756044904756, &quot;z&quot;: -0.6062960449621402}, {&quot;x&quot;: 1.7692307692307698, &quot;y&quot;: 0.6444292622748292, &quot;z&quot;: -0.5770695590956295}, {&quot;x&quot;: 1.7692307692307698, &quot;y&quot;: 0.7249829200591829, &quot;z&quot;: -0.5262912659292392}, {&quot;x&quot;: 1.7692307692307698, &quot;y&quot;: 0.8055365778435365, &quot;z&quot;: -0.4475013439406519}, {&quot;x&quot;: 1.7692307692307698, &quot;y&quot;: 0.8860902356278901, &quot;z&quot;: -0.3348956964033674}, {&quot;x&quot;: 1.7692307692307698, &quot;y&quot;: 0.9666438934122438, &quot;z&quot;: -0.18476873281934406}, {&quot;x&quot;: 1.7692307692307698, &quot;y&quot;: 1.0471975511965974, &quot;z&quot;: 0.0026774675003804894}, {&quot;x&quot;: 1.7692307692307698, &quot;y&quot;: 1.1277512089809512, &quot;z&quot;: 0.2215069087207342}, {&quot;x&quot;: 1.7692307692307698, &quot;y&quot;: 1.208304866765305, &quot;z&quot;: 0.45880920851163}, {&quot;x&quot;: 1.7692307692307698, &quot;y&quot;: 1.2888585245496587, &quot;z&quot;: 0.6947831602721293}, {&quot;x&quot;: 1.7692307692307698, &quot;y&quot;: 1.3694121823340124, &quot;z&quot;: 0.9047314183545921}, {&quot;x&quot;: 1.7692307692307698, &quot;y&quot;: 1.4499658401183662, &quot;z&quot;: 1.0630218320704272}, {&quot;x&quot;: 1.7692307692307698, &quot;y&quot;: 1.53051949790272, &quot;z&quot;: 1.1482689961859098}, {&quot;x&quot;: 1.7692307692307698, &quot;y&quot;: 1.6110731556870737, &quot;z&quot;: 1.14826899618591}, {&quot;x&quot;: 1.7692307692307698, &quot;y&quot;: 1.6916268134714274, &quot;z&quot;: 1.0630218320704254}, {&quot;x&quot;: 1.7692307692307698, &quot;y&quot;: 1.7721804712557812, &quot;z&quot;: 0.9047314183545916}, {&quot;x&quot;: 1.7692307692307698, &quot;y&quot;: 1.852734129040135, &quot;z&quot;: 0.6947831602721289}, {&quot;x&quot;: 1.7692307692307698, &quot;y&quot;: 1.9332877868244887, &quot;z&quot;: 0.45880920851162926}, {&quot;x&quot;: 1.7692307692307698, &quot;y&quot;: 2.0138414446088424, &quot;z&quot;: 0.2215069087207333}, {&quot;x&quot;: 1.7692307692307698, &quot;y&quot;: 2.094395102393196, &quot;z&quot;: 0.002677467500379763}, {&quot;x&quot;: 1.7692307692307698, &quot;y&quot;: 2.17494876017755, &quot;z&quot;: -0.18476873281934492}, {&quot;x&quot;: 1.7692307692307698, &quot;y&quot;: 2.2555024179619036, &quot;z&quot;: -0.3348956964033681}, {&quot;x&quot;: 1.7692307692307698, &quot;y&quot;: 2.3360560757462574, &quot;z&quot;: -0.44750134394065255}, {&quot;x&quot;: 1.7692307692307698, &quot;y&quot;: 2.416609733530611, &quot;z&quot;: -0.5262912659292404}, {&quot;x&quot;: 1.7692307692307698, &quot;y&quot;: 2.497163391314965, &quot;z&quot;: -0.5770695590956297}, {&quot;x&quot;: 1.7692307692307698, &quot;y&quot;: 2.5777170490993186, &quot;z&quot;: -0.6062960449621405}, {&quot;x&quot;: 1.7692307692307698, &quot;y&quot;: 2.6582707068836724, &quot;z&quot;: -0.620123081131506}, {&quot;x&quot;: 1.7692307692307698, &quot;y&quot;: 2.738824364668026, &quot;z&quot;: -0.6238700179460691}, {&quot;x&quot;: 1.7692307692307698, &quot;y&quot;: 2.81937802245238, &quot;z&quot;: -0.6218231788705165}, {&quot;x&quot;: 1.7692307692307698, &quot;y&quot;: 2.8999316802367336, &quot;z&quot;: -0.6172391319388217}, {&quot;x&quot;: 1.7692307692307698, &quot;y&quot;: 2.9804853380210874, &quot;z&quot;: -0.6124496764368401}, {&quot;x&quot;: 1.7692307692307698, &quot;y&quot;: 3.061038995805441, &quot;z&quot;: -0.6089966889173305}, {&quot;x&quot;: 1.7692307692307698, &quot;y&quot;: 3.141592653589793, &quot;z&quot;: -0.6077519133757017}, {&quot;x&quot;: 1.8205128205128212, &quot;y&quot;: 0.08055365778435367, &quot;z&quot;: -0.5236504208962701}, {&quot;x&quot;: 1.8205128205128212, &quot;y&quot;: 0.0, &quot;z&quot;: -0.5229764089284505}, {&quot;x&quot;: 1.8205128205128212, &quot;y&quot;: 0.16110731556870733, &quot;z&quot;: -0.525423401294882}, {&quot;x&quot;: 1.8205128205128212, &quot;y&quot;: 0.241660973353061, &quot;z&quot;: -0.5275279447481699}, {&quot;x&quot;: 1.8205128205128212, &quot;y&quot;: 0.32221463113741466, &quot;z&quot;: -0.5286209158541015}, {&quot;x&quot;: 1.8205128205128212, &quot;y&quot;: 0.4027682889217683, &quot;z&quot;: -0.526700094309716}, {&quot;x&quot;: 1.8205128205128212, &quot;y&quot;: 0.48332194670612194, &quot;z&quot;: -0.5190171211068892}, {&quot;x&quot;: 1.8205128205128212, &quot;y&quot;: 0.5638756044904756, &quot;z&quot;: -0.5020247698385301}, {&quot;x&quot;: 1.8205128205128212, &quot;y&quot;: 0.6444292622748292, &quot;z&quot;: -0.4714164719239277}, {&quot;x&quot;: 1.8205128205128212, &quot;y&quot;: 0.7249829200591829, &quot;z&quot;: -0.42233602459368996}, {&quot;x&quot;: 1.8205128205128212, &quot;y&quot;: 0.8055365778435365, &quot;z&quot;: -0.34984583395499047}, {&quot;x&quot;: 1.8205128205128212, &quot;y&quot;: 0.8860902356278901, &quot;z&quot;: -0.24972662914527138}, {&quot;x&quot;: 1.8205128205128212, &quot;y&quot;: 0.9666438934122438, &quot;z&quot;: -0.119620186285587}, {&quot;x&quot;: 1.8205128205128212, &quot;y&quot;: 1.0471975511965974, &quot;z&quot;: 0.039595153410326885}, {&quot;x&quot;: 1.8205128205128212, &quot;y&quot;: 1.1277512089809512, &quot;z&quot;: 0.2224795337146726}, {&quot;x&quot;: 1.8205128205128212, &quot;y&quot;: 1.208304866765305, &quot;z&quot;: 0.4182134515178301}, {&quot;x&quot;: 1.8205128205128212, &quot;y&quot;: 1.2888585245496587, &quot;z&quot;: 0.6108167004061944}, {&quot;x&quot;: 1.8205128205128212, &quot;y&quot;: 1.3694121823340124, &quot;z&quot;: 0.7807967543185403}, {&quot;x&quot;: 1.8205128205128212, &quot;y&quot;: 1.4499658401183662, &quot;z&quot;: 0.9082171601610459}, {&quot;x&quot;: 1.8205128205128212, &quot;y&quot;: 1.53051949790272, &quot;z&quot;: 0.9766026564690833}, {&quot;x&quot;: 1.8205128205128212, &quot;y&quot;: 1.6110731556870737, &quot;z&quot;: 0.976602656469083}, {&quot;x&quot;: 1.8205128205128212, &quot;y&quot;: 1.6916268134714274, &quot;z&quot;: 0.9082171601610446}, {&quot;x&quot;: 1.8205128205128212, &quot;y&quot;: 1.7721804712557812, &quot;z&quot;: 0.7807967543185399}, {&quot;x&quot;: 1.8205128205128212, &quot;y&quot;: 1.852734129040135, &quot;z&quot;: 0.6108167004061938}, {&quot;x&quot;: 1.8205128205128212, &quot;y&quot;: 1.9332877868244887, &quot;z&quot;: 0.41821345151782946}, {&quot;x&quot;: 1.8205128205128212, &quot;y&quot;: 2.0138414446088424, &quot;z&quot;: 0.22247953371467144}, {&quot;x&quot;: 1.8205128205128212, &quot;y&quot;: 2.094395102393196, &quot;z&quot;: 0.0395951534103262}, {&quot;x&quot;: 1.8205128205128212, &quot;y&quot;: 2.17494876017755, &quot;z&quot;: -0.11962018628558789}, {&quot;x&quot;: 1.8205128205128212, &quot;y&quot;: 2.2555024179619036, &quot;z&quot;: -0.2497266291452725}, {&quot;x&quot;: 1.8205128205128212, &quot;y&quot;: 2.3360560757462574, &quot;z&quot;: -0.3498458339549913}, {&quot;x&quot;: 1.8205128205128212, &quot;y&quot;: 2.416609733530611, &quot;z&quot;: -0.42233602459369046}, {&quot;x&quot;: 1.8205128205128212, &quot;y&quot;: 2.497163391314965, &quot;z&quot;: -0.4714164719239278}, {&quot;x&quot;: 1.8205128205128212, &quot;y&quot;: 2.5777170490993186, &quot;z&quot;: -0.5020247698385305}, {&quot;x&quot;: 1.8205128205128212, &quot;y&quot;: 2.6582707068836724, &quot;z&quot;: -0.5190171211068895}, {&quot;x&quot;: 1.8205128205128212, &quot;y&quot;: 2.738824364668026, &quot;z&quot;: -0.526700094309716}, {&quot;x&quot;: 1.8205128205128212, &quot;y&quot;: 2.81937802245238, &quot;z&quot;: -0.5286209158541015}, {&quot;x&quot;: 1.8205128205128212, &quot;y&quot;: 2.8999316802367336, &quot;z&quot;: -0.5275279447481701}, {&quot;x&quot;: 1.8205128205128212, &quot;y&quot;: 2.9804853380210874, &quot;z&quot;: -0.525423401294882}, {&quot;x&quot;: 1.8205128205128212, &quot;y&quot;: 3.061038995805441, &quot;z&quot;: -0.5236504208962703}, {&quot;x&quot;: 1.8205128205128212, &quot;y&quot;: 3.141592653589793, &quot;z&quot;: -0.5229764089284505}, {&quot;x&quot;: 1.8717948717948725, &quot;y&quot;: 0.08055365778435367, &quot;z&quot;: -0.4491420270624309}, {&quot;x&quot;: 1.8717948717948725, &quot;y&quot;: 0.0, &quot;z&quot;: -0.4488887041046229}, {&quot;x&quot;: 1.8717948717948725, &quot;y&quot;: 0.16110731556870733, &quot;z&quot;: -0.4496838709859745}, {&quot;x&quot;: 1.8717948717948725, &quot;y&quot;: 0.241660973353061, &quot;z&quot;: -0.449845371884424}, {&quot;x&quot;: 1.8717948717948725, &quot;y&quot;: 0.32221463113741466, &quot;z&quot;: -0.44846654260931523}, {&quot;x&quot;: 1.8717948717948725, &quot;y&quot;: 0.4027682889217683, &quot;z&quot;: -0.44384007444409035}, {&quot;x&quot;: 1.8717948717948725, &quot;y&quot;: 0.48332194670612194, &quot;z&quot;: -0.4336586985711943}, {&quot;x&quot;: 1.8717948717948725, &quot;y&quot;: 0.5638756044904756, &quot;z&quot;: -0.41499782012258857}, {&quot;x&quot;: 1.8717948717948725, &quot;y&quot;: 0.6444292622748292, &quot;z&quot;: -0.3843796918805288}, {&quot;x&quot;: 1.8717948717948725, &quot;y&quot;: 0.7249829200591829, &quot;z&quot;: -0.3379785115531714}, {&quot;x&quot;: 1.8717948717948725, &quot;y&quot;: 0.8055365778435365, &quot;z&quot;: -0.2720297611289433}, {&quot;x&quot;: 1.8717948717948725, &quot;y&quot;: 0.8860902356278901, &quot;z&quot;: -0.18348980259605038}, {&quot;x&quot;: 1.8717948717948725, &quot;y&quot;: 0.9666438934122438, &quot;z&quot;: -0.070939526781493}, {&quot;x&quot;: 1.8717948717948725, &quot;y&quot;: 1.0471975511965974, &quot;z&quot;: 0.0643689921346275}, {&quot;x&quot;: 1.8717948717948725, &quot;y&quot;: 1.1277512089809512, &quot;z&quot;: 0.21755066601980527}, {&quot;x&quot;: 1.8717948717948725, &quot;y&quot;: 1.208304866765305, &quot;z&quot;: 0.379555737423808}, {&quot;x&quot;: 1.8717948717948725, &quot;y&quot;: 1.2888585245496587, &quot;z&quot;: 0.5374503538878049}, {&quot;x&quot;: 1.8717948717948725, &quot;y&quot;: 1.3694121823340124, &quot;z&quot;: 0.6757714165745681}, {&quot;x&quot;: 1.8717948717948725, &quot;y&quot;: 1.4499658401183662, &quot;z&quot;: 0.7789137544513891}, {&quot;x&quot;: 1.8717948717948725, &quot;y&quot;: 1.53051949790272, &quot;z&quot;: 0.8340942243429408}, {&quot;x&quot;: 1.8717948717948725, &quot;y&quot;: 1.6110731556870737, &quot;z&quot;: 0.8340942243429408}, {&quot;x&quot;: 1.8717948717948725, &quot;y&quot;: 1.6916268134714274, &quot;z&quot;: 0.7789137544513876}, {&quot;x&quot;: 1.8717948717948725, &quot;y&quot;: 1.7721804712557812, &quot;z&quot;: 0.6757714165745677}, {&quot;x&quot;: 1.8717948717948725, &quot;y&quot;: 1.852734129040135, &quot;z&quot;: 0.5374503538878044}, {&quot;x&quot;: 1.8717948717948725, &quot;y&quot;: 1.9332877868244887, &quot;z&quot;: 0.3795557374238073}, {&quot;x&quot;: 1.8717948717948725, &quot;y&quot;: 2.0138414446088424, &quot;z&quot;: 0.21755066601980408}, {&quot;x&quot;: 1.8717948717948725, &quot;y&quot;: 2.094395102393196, &quot;z&quot;: 0.06436899213462705}, {&quot;x&quot;: 1.8717948717948725, &quot;y&quot;: 2.17494876017755, &quot;z&quot;: -0.07093952678149364}, {&quot;x&quot;: 1.8717948717948725, &quot;y&quot;: 2.2555024179619036, &quot;z&quot;: -0.18348980259605088}, {&quot;x&quot;: 1.8717948717948725, &quot;y&quot;: 2.3360560757462574, &quot;z&quot;: -0.2720297611289437}, {&quot;x&quot;: 1.8717948717948725, &quot;y&quot;: 2.416609733530611, &quot;z&quot;: -0.3379785115531724}, {&quot;x&quot;: 1.8717948717948725, &quot;y&quot;: 2.497163391314965, &quot;z&quot;: -0.3843796918805293}, {&quot;x&quot;: 1.8717948717948725, &quot;y&quot;: 2.5777170490993186, &quot;z&quot;: -0.4149978201225891}, {&quot;x&quot;: 1.8717948717948725, &quot;y&quot;: 2.6582707068836724, &quot;z&quot;: -0.43365869857119504}, {&quot;x&quot;: 1.8717948717948725, &quot;y&quot;: 2.738824364668026, &quot;z&quot;: -0.4438400744440904}, {&quot;x&quot;: 1.8717948717948725, &quot;y&quot;: 2.81937802245238, &quot;z&quot;: -0.4484665426093156}, {&quot;x&quot;: 1.8717948717948725, &quot;y&quot;: 2.8999316802367336, &quot;z&quot;: -0.44984537188442353}, {&quot;x&quot;: 1.8717948717948725, &quot;y&quot;: 2.9804853380210874, &quot;z&quot;: -0.4496838709859739}, {&quot;x&quot;: 1.8717948717948725, &quot;y&quot;: 3.061038995805441, &quot;z&quot;: -0.44914202706243134}, {&quot;x&quot;: 1.8717948717948725, &quot;y&quot;: 3.141592653589793, &quot;z&quot;: -0.4488887041046229}, {&quot;x&quot;: 1.9230769230769238, &quot;y&quot;: 0.08055365778435367, &quot;z&quot;: -0.3844332329176181}, {&quot;x&quot;: 1.9230769230769238, &quot;y&quot;: 0.0, &quot;z&quot;: -0.384484245701918}, {&quot;x&quot;: 1.9230769230769238, &quot;y&quot;: 0.16110731556870733, &quot;z&quot;: -0.38409074698451207}, {&quot;x&quot;: 1.9230769230769238, &quot;y&quot;: 0.241660973353061, &quot;z&quot;: -0.38287832360061097}, {&quot;x&quot;: 1.9230769230769238, &quot;y&quot;: 0.32221463113741466, &quot;z&quot;: -0.37980088173084114}, {&quot;x&quot;: 1.9230769230769238, &quot;y&quot;: 0.4027682889217683, &quot;z&quot;: -0.37341052281341597}, {&quot;x&quot;: 1.9230769230769238, &quot;y&quot;: 0.48332194670612194, &quot;z&quot;: -0.3617782865033175}, {&quot;x&quot;: 1.9230769230769238, &quot;y&quot;: 0.5638756044904756, &quot;z&quot;: -0.34250001008477177}, {&quot;x&quot;: 1.9230769230769238, &quot;y&quot;: 0.6444292622748292, &quot;z&quot;: -0.3127729677365137}, {&quot;x&quot;: 1.9230769230769238, &quot;y&quot;: 0.7249829200591829, &quot;z&quot;: -0.269588269302132}, {&quot;x&quot;: 1.9230769230769238, &quot;y&quot;: 0.8055365778435365, &quot;z&quot;: -0.21008396495427784}, {&quot;x&quot;: 1.9230769230769238, &quot;y&quot;: 0.8860902356278901, &quot;z&quot;: -0.13208657544046565}, {&quot;x&quot;: 1.9230769230769238, &quot;y&quot;: 0.9666438934122438, &quot;z&quot;: -0.03482519595597545}, {&quot;x&quot;: 1.9230769230769238, &quot;y&quot;: 1.0471975511965974, &quot;z&quot;: 0.08027118785320775}, {&quot;x&quot;: 1.9230769230769238, &quot;y&quot;: 1.1277512089809512, &quot;z&quot;: 0.2088752777200636}, {&quot;x&quot;: 1.9230769230769238, &quot;y&quot;: 1.208304866765305, &quot;z&quot;: 0.34342359665936023}, {&quot;x&quot;: 1.9230769230769238, &quot;y&quot;: 1.2888585245496587, &quot;z&quot;: 0.47341532948067455}, {&quot;x&quot;: 1.9230769230769238, &quot;y&quot;: 1.3694121823340124, &quot;z&quot;: 0.5865224685221649}, {&quot;x&quot;: 1.9230769230769238, &quot;y&quot;: 1.4499658401183662, &quot;z&quot;: 0.6704554134362049}, {&quot;x&quot;: 1.9230769230769238, &quot;y&quot;: 1.53051949790272, &quot;z&quot;: 0.7152282628816524}, {&quot;x&quot;: 1.9230769230769238, &quot;y&quot;: 1.6110731556870737, &quot;z&quot;: 0.7152282628816524}, {&quot;x&quot;: 1.9230769230769238, &quot;y&quot;: 1.6916268134714274, &quot;z&quot;: 0.670455413436204}, {&quot;x&quot;: 1.9230769230769238, &quot;y&quot;: 1.7721804712557812, &quot;z&quot;: 0.5865224685221647}, {&quot;x&quot;: 1.9230769230769238, &quot;y&quot;: 1.852734129040135, &quot;z&quot;: 0.4734153294806743}, {&quot;x&quot;: 1.9230769230769238, &quot;y&quot;: 1.9332877868244887, &quot;z&quot;: 0.3434235966593597}, {&quot;x&quot;: 1.9230769230769238, &quot;y&quot;: 2.0138414446088424, &quot;z&quot;: 0.20887527772006298}, {&quot;x&quot;: 1.9230769230769238, &quot;y&quot;: 2.094395102393196, &quot;z&quot;: 0.08027118785320728}, {&quot;x&quot;: 1.9230769230769238, &quot;y&quot;: 2.17494876017755, &quot;z&quot;: -0.03482519595597603}, {&quot;x&quot;: 1.9230769230769238, &quot;y&quot;: 2.2555024179619036, &quot;z&quot;: -0.13208657544046648}, {&quot;x&quot;: 1.9230769230769238, &quot;y&quot;: 2.3360560757462574, &quot;z&quot;: -0.21008396495427833}, {&quot;x&quot;: 1.9230769230769238, &quot;y&quot;: 2.416609733530611, &quot;z&quot;: -0.2695882693021327}, {&quot;x&quot;: 1.9230769230769238, &quot;y&quot;: 2.497163391314965, &quot;z&quot;: -0.31277296773651403}, {&quot;x&quot;: 1.9230769230769238, &quot;y&quot;: 2.5777170490993186, &quot;z&quot;: -0.3425000100847722}, {&quot;x&quot;: 1.9230769230769238, &quot;y&quot;: 2.6582707068836724, &quot;z&quot;: -0.3617782865033176}, {&quot;x&quot;: 1.9230769230769238, &quot;y&quot;: 2.738824364668026, &quot;z&quot;: -0.3734105228134164}, {&quot;x&quot;: 1.9230769230769238, &quot;y&quot;: 2.81937802245238, &quot;z&quot;: -0.3798008817308414}, {&quot;x&quot;: 1.9230769230769238, &quot;y&quot;: 2.8999316802367336, &quot;z&quot;: -0.38287832360061136}, {&quot;x&quot;: 1.9230769230769238, &quot;y&quot;: 2.9804853380210874, &quot;z&quot;: -0.3840907469845123}, {&quot;x&quot;: 1.9230769230769238, &quot;y&quot;: 3.061038995805441, &quot;z&quot;: -0.38443323291761805}, {&quot;x&quot;: 1.9230769230769238, &quot;y&quot;: 3.141592653589793, &quot;z&quot;: -0.384484245701918}, {&quot;x&quot;: 1.9743589743589751, &quot;y&quot;: 0.08055365778435367, &quot;z&quot;: -0.3284672109479049}, {&quot;x&quot;: 1.9743589743589751, &quot;y&quot;: 0.0, &quot;z&quot;: -0.3287330901221299}, {&quot;x&quot;: 1.9743589743589751, &quot;y&quot;: 0.16110731556870733, &quot;z&quot;: -0.32750611233745075}, {&quot;x&quot;: 1.9743589743589751, &quot;y&quot;: 0.241660973353061, &quot;z&quot;: -0.32535257149065017}, {&quot;x&quot;: 1.9743589743589751, &quot;y&quot;: 0.32221463113741466, &quot;z&quot;: -0.32115751129319087}, {&quot;x&quot;: 1.9743589743589751, &quot;y&quot;: 0.4027682889217683, &quot;z&quot;: -0.3136983321947552}, {&quot;x&quot;: 1.9743589743589751, &quot;y&quot;: 0.48332194670612194, &quot;z&quot;: -0.30136763131610134}, {&quot;x&quot;: 1.9743589743589751, &quot;y&quot;: 0.5638756044904756, &quot;z&quot;: -0.2821936731805323}, {&quot;x&quot;: 1.9743589743589751, &quot;y&quot;: 0.6444292622748292, &quot;z&quot;: -0.25392150495556953}, {&quot;x&quot;: 1.9743589743589751, &quot;y&quot;: 0.7249829200591829, &quot;z&quot;: -0.21418859223786998}, {&quot;x&quot;: 1.9743589743589751, &quot;y&quot;: 0.8055365778435365, &quot;z&quot;: -0.16082652148001317}, {&quot;x&quot;: 1.9743589743589751, &quot;y&quot;: 0.8860902356278901, &quot;z&quot;: -0.09230421949656946}, {&quot;x&quot;: 1.9743589743589751, &quot;y&quot;: 0.9666438934122438, &quot;z&quot;: -0.008292262002062657}, {&quot;x&quot;: 1.9743589743589751, &quot;y&quot;: 1.0471975511965974, &quot;z&quot;: 0.08972893664511564}, {&quot;x&quot;: 1.9743589743589751, &quot;y&quot;: 1.1277512089809512, &quot;z&quot;: 0.197962067983003}, {&quot;x&quot;: 1.9743589743589751, &quot;y&quot;: 1.208304866765305, &quot;z&quot;: 0.3100855703118045}, {&quot;x&quot;: 1.9743589743589751, &quot;y&quot;: 1.2888585245496587, &quot;z&quot;: 0.4175461978240081}, {&quot;x&quot;: 1.9743589743589751, &quot;y&quot;: 1.3694121823340124, &quot;z&quot;: 0.5104673244305133}, {&quot;x&quot;: 1.9743589743589751, &quot;y&quot;: 1.4499658401183662, &quot;z&quot;: 0.5791136208186703}, {&quot;x&quot;: 1.9743589743589751, &quot;y&quot;: 1.53051949790272, &quot;z&quot;: 0.6156337370631371}, {&quot;x&quot;: 1.9743589743589751, &quot;y&quot;: 1.6110731556870737, &quot;z&quot;: 0.615633737063137}, {&quot;x&quot;: 1.9743589743589751, &quot;y&quot;: 1.6916268134714274, &quot;z&quot;: 0.5791136208186695}, {&quot;x&quot;: 1.9743589743589751, &quot;y&quot;: 1.7721804712557812, &quot;z&quot;: 0.5104673244305131}, {&quot;x&quot;: 1.9743589743589751, &quot;y&quot;: 1.852734129040135, &quot;z&quot;: 0.41754619782400776}, {&quot;x&quot;: 1.9743589743589751, &quot;y&quot;: 1.9332877868244887, &quot;z&quot;: 0.3100855703118041}, {&quot;x&quot;: 1.9743589743589751, &quot;y&quot;: 2.0138414446088424, &quot;z&quot;: 0.1979620679830025}, {&quot;x&quot;: 1.9743589743589751, &quot;y&quot;: 2.094395102393196, &quot;z&quot;: 0.08972893664511535}, {&quot;x&quot;: 1.9743589743589751, &quot;y&quot;: 2.17494876017755, &quot;z&quot;: -0.008292262002063155}, {&quot;x&quot;: 1.9743589743589751, &quot;y&quot;: 2.2555024179619036, &quot;z&quot;: -0.09230421949656986}, {&quot;x&quot;: 1.9743589743589751, &quot;y&quot;: 2.3360560757462574, &quot;z&quot;: -0.16082652148001378}, {&quot;x&quot;: 1.9743589743589751, &quot;y&quot;: 2.416609733530611, &quot;z&quot;: -0.21418859223787054}, {&quot;x&quot;: 1.9743589743589751, &quot;y&quot;: 2.497163391314965, &quot;z&quot;: -0.25392150495557}, {&quot;x&quot;: 1.9743589743589751, &quot;y&quot;: 2.5777170490993186, &quot;z&quot;: -0.2821936731805325}, {&quot;x&quot;: 1.9743589743589751, &quot;y&quot;: 2.6582707068836724, &quot;z&quot;: -0.3013676313161018}, {&quot;x&quot;: 1.9743589743589751, &quot;y&quot;: 2.738824364668026, &quot;z&quot;: -0.3136983321947549}, {&quot;x&quot;: 1.9743589743589751, &quot;y&quot;: 2.81937802245238, &quot;z&quot;: -0.3211575112931912}, {&quot;x&quot;: 1.9743589743589751, &quot;y&quot;: 2.8999316802367336, &quot;z&quot;: -0.3253525714906502}, {&quot;x&quot;: 1.9743589743589751, &quot;y&quot;: 2.9804853380210874, &quot;z&quot;: -0.32750611233745075}, {&quot;x&quot;: 1.9743589743589751, &quot;y&quot;: 3.061038995805441, &quot;z&quot;: -0.3284672109479047}, {&quot;x&quot;: 1.9743589743589751, &quot;y&quot;: 3.141592653589793, &quot;z&quot;: -0.3287330901221299}, {&quot;x&quot;: 2.0256410256410264, &quot;y&quot;: 0.08055365778435367, &quot;z&quot;: -0.28022208022777295}, {&quot;x&quot;: 2.0256410256410264, &quot;y&quot;: 0.0, &quot;z&quot;: -0.2806346106392768}, {&quot;x&quot;: 2.0256410256410264, &quot;y&quot;: 0.16110731556870733, &quot;z&quot;: -0.27884418674430855}, {&quot;x&quot;: 2.0256410256410264, &quot;y&quot;: 0.241660973353061, &quot;z&quot;: -0.2760756222597533}, {&quot;x&quot;: 2.0256410256410264, &quot;y&quot;: 0.32221463113741466, &quot;z&quot;: -0.27119496444524405}, {&quot;x&quot;: 2.0256410256410264, &quot;y&quot;: 0.4027682889217683, &quot;z&quot;: -0.263173409145768}, {&quot;x&quot;: 2.0256410256410264, &quot;y&quot;: 0.48332194670612194, &quot;z&quot;: -0.2506749973663587}, {&quot;x&quot;: 2.0256410256410264, &quot;y&quot;: 0.5638756044904756, &quot;z&quot;: -0.23208566656097715}, {&quot;x&quot;: 2.0256410256410264, &quot;y&quot;: 0.6444292622748292, &quot;z&quot;: -0.20559376652129985}, {&quot;x&quot;: 2.0256410256410264, &quot;y&quot;: 0.7249829200591829, &quot;z&quot;: -0.16934740902915663}, {&quot;x&quot;: 2.0256410256410264, &quot;y&quot;: 0.8055365778435365, &quot;z&quot;: -0.12171048153784615}, {&quot;x&quot;: 2.0256410256410264, &quot;y&quot;: 0.8860902356278901, &quot;z&quot;: -0.06162468451743704}, {&quot;x&quot;: 2.0256410256410264, &quot;y&quot;: 0.9666438934122438, &quot;z&quot;: 0.010944315361554248}, {&quot;x&quot;: 2.0256410256410264, &quot;y&quot;: 1.0471975511965974, &quot;z&quot;: 0.09454228405594078}, {&quot;x&quot;: 2.0256410256410264, &quot;y&quot;: 1.1277512089809512, &quot;z&quot;: 0.1858585974835763}, {&quot;x&quot;: 2.0256410256410264, &quot;y&quot;: 1.208304866765305, &quot;z&quot;: 0.2796061739235204}, {&quot;x&quot;: 2.0256410256410264, &quot;y&quot;: 1.2888585245496587, &quot;z&quot;: 0.3687947878662}, {&quot;x&quot;: 2.0256410256410264, &quot;y&quot;: 1.3694121823340124, &quot;z&quot;: 0.44547400035110624}, {&quot;x&quot;: 2.0256410256410264, &quot;y&quot;: 1.4499658401183662, &quot;z&quot;: 0.5018883676265993}, {&quot;x&quot;: 2.0256410256410264, &quot;y&quot;: 1.53051949790272, &quot;z&quot;: 0.5318266158242768}, {&quot;x&quot;: 2.0256410256410264, &quot;y&quot;: 1.6110731556870737, &quot;z&quot;: 0.5318266158242768}, {&quot;x&quot;: 2.0256410256410264, &quot;y&quot;: 1.6916268134714274, &quot;z&quot;: 0.5018883676265992}, {&quot;x&quot;: 2.0256410256410264, &quot;y&quot;: 1.7721804712557812, &quot;z&quot;: 0.44547400035110607}, {&quot;x&quot;: 2.0256410256410264, &quot;y&quot;: 1.852734129040135, &quot;z&quot;: 0.36879478786619974}, {&quot;x&quot;: 2.0256410256410264, &quot;y&quot;: 1.9332877868244887, &quot;z&quot;: 0.27960617392352005}, {&quot;x&quot;: 2.0256410256410264, &quot;y&quot;: 2.0138414446088424, &quot;z&quot;: 0.18585859748357592}, {&quot;x&quot;: 2.0256410256410264, &quot;y&quot;: 2.094395102393196, &quot;z&quot;: 0.09454228405594053}, {&quot;x&quot;: 2.0256410256410264, &quot;y&quot;: 2.17494876017755, &quot;z&quot;: 0.010944315361553799}, {&quot;x&quot;: 2.0256410256410264, &quot;y&quot;: 2.2555024179619036, &quot;z&quot;: -0.06162468451743738}, {&quot;x&quot;: 2.0256410256410264, &quot;y&quot;: 2.3360560757462574, &quot;z&quot;: -0.1217104815378465}, {&quot;x&quot;: 2.0256410256410264, &quot;y&quot;: 2.416609733530611, &quot;z&quot;: -0.16934740902915715}, {&quot;x&quot;: 2.0256410256410264, &quot;y&quot;: 2.497163391314965, &quot;z&quot;: -0.20559376652130026}, {&quot;x&quot;: 2.0256410256410264, &quot;y&quot;: 2.5777170490993186, &quot;z&quot;: -0.23208566656097748}, {&quot;x&quot;: 2.0256410256410264, &quot;y&quot;: 2.6582707068836724, &quot;z&quot;: -0.250674997366359}, {&quot;x&quot;: 2.0256410256410264, &quot;y&quot;: 2.738824364668026, &quot;z&quot;: -0.26317340914576787}, {&quot;x&quot;: 2.0256410256410264, &quot;y&quot;: 2.81937802245238, &quot;z&quot;: -0.2711949644452439}, {&quot;x&quot;: 2.0256410256410264, &quot;y&quot;: 2.8999316802367336, &quot;z&quot;: -0.2760756222597531}, {&quot;x&quot;: 2.0256410256410264, &quot;y&quot;: 2.9804853380210874, &quot;z&quot;: -0.27884418674430855}, {&quot;x&quot;: 2.0256410256410264, &quot;y&quot;: 3.061038995805441, &quot;z&quot;: -0.28022208022777273}, {&quot;x&quot;: 2.0256410256410264, &quot;y&quot;: 3.141592653589793, &quot;z&quot;: -0.2806346106392768}, {&quot;x&quot;: 2.0769230769230775, &quot;y&quot;: 0.08055365778435367, &quot;z&quot;: -0.23874203412622957}, {&quot;x&quot;: 2.0769230769230775, &quot;y&quot;: 0.0, &quot;z&quot;: -0.23924968174792355}, {&quot;x&quot;: 2.0769230769230775, &quot;y&quot;: 0.16110731556870733, &quot;z&quot;: -0.23709917146181478}, {&quot;x&quot;: 2.0769230769230775, &quot;y&quot;: 0.241660973353061, &quot;z&quot;: -0.23395872193851047}, {&quot;x&quot;: 2.0769230769230775, &quot;y&quot;: 0.32221463113741466, &quot;z&quot;: -0.22870981106742916}, {&quot;x&quot;: 2.0769230769230775, &quot;y&quot;: 0.4027682889217683, &quot;z&quot;: -0.2204890992033249}, {&quot;x&quot;: 2.0769230769230775, &quot;y&quot;: 0.48332194670612194, &quot;z&quot;: -0.20818855259554012}, {&quot;x&quot;: 2.0769230769230775, &quot;y&quot;: 0.5638756044904756, &quot;z&quot;: -0.19048892112314447}, {&quot;x&quot;: 2.0769230769230775, &quot;y&quot;: 0.6444292622748292, &quot;z&quot;: -0.16593657964092606}, {&quot;x&quot;: 2.0769230769230775, &quot;y&quot;: 0.7249829200591829, &quot;z&quot;: -0.13308261814737563}, {&quot;x&quot;: 2.0769230769230775, &quot;y&quot;: 0.8055365778435365, &quot;z&quot;: -0.09069900982973005}, {&quot;x&quot;: 2.0769230769230775, &quot;y&quot;: 0.8860902356278901, &quot;z&quot;: -0.038074001673977245}, {&quot;x&quot;: 2.0769230769230775, &quot;y&quot;: 0.9666438934122438, &quot;z&quot;: 0.024634842665877236}, {&quot;x&quot;: 2.0769230769230775, &quot;y&quot;: 1.0471975511965974, &quot;z&quot;: 0.09604519819192668}, {&quot;x&quot;: 2.0769230769230775, &quot;y&quot;: 1.1277512089809512, &quot;z&quot;: 0.1732835923361435}, {&quot;x&quot;: 2.0769230769230775, &quot;y&quot;: 1.208304866765305, &quot;z&quot;: 0.25192313355264945}, {&quot;x&quot;: 2.0769230769230775, &quot;y&quot;: 1.2888585245496587, &quot;z&quot;: 0.3262315708900415}, {&quot;x&quot;: 2.0769230769230775, &quot;y&quot;: 1.3694121823340124, &quot;z&quot;: 0.3897792838225064}, {&quot;x&quot;: 2.0769230769230775, &quot;y&quot;: 1.4499658401183662, &quot;z&quot;: 0.43635458423692164}, {&quot;x&quot;: 2.0769230769230775, &quot;y&quot;: 1.53051949790272, &quot;z&quot;: 0.4610146366894604}, {&quot;x&quot;: 2.0769230769230775, &quot;y&quot;: 1.6110731556870737, &quot;z&quot;: 0.46101463668946036}, {&quot;x&quot;: 2.0769230769230775, &quot;y&quot;: 1.6916268134714274, &quot;z&quot;: 0.43635458423692147}, {&quot;x&quot;: 2.0769230769230775, &quot;y&quot;: 1.7721804712557812, &quot;z&quot;: 0.38977928382250626}, {&quot;x&quot;: 2.0769230769230775, &quot;y&quot;: 1.852734129040135, &quot;z&quot;: 0.3262315708900413}, {&quot;x&quot;: 2.0769230769230775, &quot;y&quot;: 1.9332877868244887, &quot;z&quot;: 0.2519231335526493}, {&quot;x&quot;: 2.0769230769230775, &quot;y&quot;: 2.0138414446088424, &quot;z&quot;: 0.17328359233614307}, {&quot;x&quot;: 2.0769230769230775, &quot;y&quot;: 2.094395102393196, &quot;z&quot;: 0.09604519819192642}, {&quot;x&quot;: 2.0769230769230775, &quot;y&quot;: 2.17494876017755, &quot;z&quot;: 0.024634842665876875}, {&quot;x&quot;: 2.0769230769230775, &quot;y&quot;: 2.2555024179619036, &quot;z&quot;: -0.03807400167397761}, {&quot;x&quot;: 2.0769230769230775, &quot;y&quot;: 2.3360560757462574, &quot;z&quot;: -0.09069900982973045}, {&quot;x&quot;: 2.0769230769230775, &quot;y&quot;: 2.416609733530611, &quot;z&quot;: -0.13308261814737588}, {&quot;x&quot;: 2.0769230769230775, &quot;y&quot;: 2.497163391314965, &quot;z&quot;: -0.16593657964092642}, {&quot;x&quot;: 2.0769230769230775, &quot;y&quot;: 2.5777170490993186, &quot;z&quot;: -0.19048892112314472}, {&quot;x&quot;: 2.0769230769230775, &quot;y&quot;: 2.6582707068836724, &quot;z&quot;: -0.20818855259554053}, {&quot;x&quot;: 2.0769230769230775, &quot;y&quot;: 2.738824364668026, &quot;z&quot;: -0.22048909920332505}, {&quot;x&quot;: 2.0769230769230775, &quot;y&quot;: 2.81937802245238, &quot;z&quot;: -0.22870981106742946}, {&quot;x&quot;: 2.0769230769230775, &quot;y&quot;: 2.8999316802367336, &quot;z&quot;: -0.2339587219385102}, {&quot;x&quot;: 2.0769230769230775, &quot;y&quot;: 2.9804853380210874, &quot;z&quot;: -0.2370991714618146}, {&quot;x&quot;: 2.0769230769230775, &quot;y&quot;: 3.061038995805441, &quot;z&quot;: -0.23874203412622977}, {&quot;x&quot;: 2.0769230769230775, &quot;y&quot;: 3.141592653589793, &quot;z&quot;: -0.23924968174792355}, {&quot;x&quot;: 2.1282051282051286, &quot;y&quot;: 0.08055365778435367, &quot;z&quot;: -0.2031533697269787}, {&quot;x&quot;: 2.1282051282051286, &quot;y&quot;: 0.0, &quot;z&quot;: -0.20371760634534608}, {&quot;x&quot;: 2.1282051282051286, &quot;y&quot;: 0.16110731556870733, &quot;z&quot;: -0.20135850800248853}, {&quot;x&quot;: 2.1282051282051286, &quot;y&quot;: 0.241660973353061, &quot;z&quot;: -0.19802524604536845}, {&quot;x&quot;: 2.1282051282051286, &quot;y&quot;: 0.32221463113741466, &quot;z&quot;: -0.19263773584407662}, {&quot;x&quot;: 2.1282051282051286, &quot;y&quot;: 0.4027682889217683, &quot;z&quot;: -0.18447310065002348}, {&quot;x&quot;: 2.1282051282051286, &quot;y&quot;: 0.48332194670612194, &quot;z&quot;: -0.17261390282340372}, {&quot;x&quot;: 2.1282051282051286, &quot;y&quot;: 0.5638756044904756, &quot;z&quot;: -0.1559832449298916}, {&quot;x&quot;: 2.1282051282051286, &quot;y&quot;: 0.6444292622748292, &quot;z&quot;: -0.1334162141080441}, {&quot;x&quot;: 2.1282051282051286, &quot;y&quot;: 0.7249829200591829, &quot;z&quot;: -0.10378163497489992}, {&quot;x&quot;: 2.1282051282051286, &quot;y&quot;: 0.8055365778435365, &quot;z&quot;: -0.06616394905278468}, {&quot;x&quot;: 2.1282051282051286, &quot;y&quot;: 0.8860902356278901, &quot;z&quot;: -0.02010411283139137}, {&quot;x&quot;: 2.1282051282051286, &quot;y&quot;: 0.9666438934122438, &quot;z&quot;: 0.03412071768981621}, {&quot;x&quot;: 2.1282051282051286, &quot;y&quot;: 1.0471975511965974, &quot;z&quot;: 0.09522485172072244}, {&quot;x&quot;: 2.1282051282051286, &quot;y&quot;: 1.1277512089809512, &quot;z&quot;: 0.16072165879164518}, {&quot;x&quot;: 2.1282051282051286, &quot;y&quot;: 1.208304866765305, &quot;z&quot;: 0.2268989942374782}, {&quot;x&quot;: 2.1282051282051286, &quot;y&quot;: 1.2888585245496587, &quot;z&quot;: 0.28904013059637634}, {&quot;x&quot;: 2.1282051282051286, &quot;y&quot;: 1.3694121823340124, &quot;z&quot;: 0.34192188852605726}, {&quot;x&quot;: 2.1282051282051286, &quot;y&quot;: 1.4499658401183662, &quot;z&quot;: 0.3805431416203166}, {&quot;x&quot;: 2.1282051282051286, &quot;y&quot;: 1.53051949790272, &quot;z&quot;: 0.4009482385750857}, {&quot;x&quot;: 2.1282051282051286, &quot;y&quot;: 1.6110731556870737, &quot;z&quot;: 0.4009482385750856}, {&quot;x&quot;: 2.1282051282051286, &quot;y&quot;: 1.6916268134714274, &quot;z&quot;: 0.3805431416203165}, {&quot;x&quot;: 2.1282051282051286, &quot;y&quot;: 1.7721804712557812, &quot;z&quot;: 0.3419218885260572}, {&quot;x&quot;: 2.1282051282051286, &quot;y&quot;: 1.852734129040135, &quot;z&quot;: 0.2890401305963761}, {&quot;x&quot;: 2.1282051282051286, &quot;y&quot;: 1.9332877868244887, &quot;z&quot;: 0.22689899423747797}, {&quot;x&quot;: 2.1282051282051286, &quot;y&quot;: 2.0138414446088424, &quot;z&quot;: 0.16072165879164493}, {&quot;x&quot;: 2.1282051282051286, &quot;y&quot;: 2.094395102393196, &quot;z&quot;: 0.09522485172072223}, {&quot;x&quot;: 2.1282051282051286, &quot;y&quot;: 2.17494876017755, &quot;z&quot;: 0.03412071768981587}, {&quot;x&quot;: 2.1282051282051286, &quot;y&quot;: 2.2555024179619036, &quot;z&quot;: -0.020104112831391765}, {&quot;x&quot;: 2.1282051282051286, &quot;y&quot;: 2.3360560757462574, &quot;z&quot;: -0.06616394905278497}, {&quot;x&quot;: 2.1282051282051286, &quot;y&quot;: 2.416609733530611, &quot;z&quot;: -0.10378163497490038}, {&quot;x&quot;: 2.1282051282051286, &quot;y&quot;: 2.497163391314965, &quot;z&quot;: -0.13341621410804436}, {&quot;x&quot;: 2.1282051282051286, &quot;y&quot;: 2.5777170490993186, &quot;z&quot;: -0.15598324492989182}, {&quot;x&quot;: 2.1282051282051286, &quot;y&quot;: 2.6582707068836724, &quot;z&quot;: -0.172613902823404}, {&quot;x&quot;: 2.1282051282051286, &quot;y&quot;: 2.738824364668026, &quot;z&quot;: -0.18447310065002373}, {&quot;x&quot;: 2.1282051282051286, &quot;y&quot;: 2.81937802245238, &quot;z&quot;: -0.19263773584407667}, {&quot;x&quot;: 2.1282051282051286, &quot;y&quot;: 2.8999316802367336, &quot;z&quot;: -0.1980252460453684}, {&quot;x&quot;: 2.1282051282051286, &quot;y&quot;: 2.9804853380210874, &quot;z&quot;: -0.20135850800248864}, {&quot;x&quot;: 2.1282051282051286, &quot;y&quot;: 3.061038995805441, &quot;z&quot;: -0.2031533697269785}, {&quot;x&quot;: 2.1282051282051286, &quot;y&quot;: 3.141592653589793, &quot;z&quot;: -0.20371760634534608}, {&quot;x&quot;: 2.1794871794871797, &quot;y&quot;: 0.08055365778435367, &quot;z&quot;: -0.1726705818491034}, {&quot;x&quot;: 2.1794871794871797, &quot;y&quot;: 0.0, &quot;z&quot;: -0.1732629566911024}, {&quot;x&quot;: 2.1794871794871797, &quot;y&quot;: 0.16110731556870733, &quot;z&quot;: -0.17080667930788046}, {&quot;x&quot;: 2.1794871794871797, &quot;y&quot;: 0.241660973353061, &quot;z&quot;: -0.16741051302604276}, {&quot;x&quot;: 2.1794871794871797, &quot;y&quot;: 0.32221463113741466, &quot;z&quot;: -0.16204744739312008}, {&quot;x&quot;: 2.1794871794871797, &quot;y&quot;: 0.4027682889217683, &quot;z&quot;: -0.1541133080762674}, {&quot;x&quot;: 2.1794871794871797, &quot;y&quot;: 0.48332194670612194, &quot;z&quot;: -0.14284952842989296}, {&quot;x&quot;: 2.1794871794871797, &quot;y&quot;: 0.5638756044904756, &quot;z&quot;: -0.12737803436113532}, {&quot;x&quot;: 2.1794871794871797, &quot;y&quot;: 0.6444292622748292, &quot;z&quot;: -0.1067664675899841}, {&quot;x&quot;: 2.1794871794871797, &quot;y&quot;: 0.7249829200591829, &quot;z&quot;: -0.08013399468565498}, {&quot;x&quot;: 2.1794871794871797, &quot;y&quot;: 0.8055365778435365, &quot;z&quot;: -0.04680396123687872}, {&quot;x&quot;: 2.1794871794871797, &quot;y&quot;: 0.8860902356278901, &quot;z&quot;: -0.006500355894033886}, {&quot;x&quot;: 2.1794871794871797, &quot;y&quot;: 0.9666438934122438, &quot;z&quot;: 0.04043032138935012}, {&quot;x&quot;: 2.1794871794871797, &quot;y&quot;: 1.0471975511965974, &quot;z&quot;: 0.09281011010899129}, {&quot;x&quot;: 2.1794871794871797, &quot;y&quot;: 1.1277512089809512, &quot;z&quot;: 0.14849118311141168}, {&quot;x&quot;: 2.1794871794871797, &quot;y&quot;: 1.208304866765305, &quot;z&quot;: 0.2043553125654425}, {&quot;x&quot;: 2.1794871794871797, &quot;y&quot;: 1.2888585245496587, &quot;z&quot;: 0.25650814522234955}, {&quot;x&quot;: 2.1794871794871797, &quot;y&quot;: 1.3694121823340124, &quot;z&quot;: 0.3006879796191303}, {&quot;x&quot;: 2.1794871794871797, &quot;y&quot;: 1.4499658401183662, &quot;z&quot;: 0.3328481839812221}, {&quot;x&quot;: 2.1794871794871797, &quot;y&quot;: 1.53051949790272, &quot;z&quot;: 0.3498060245451094}, {&quot;x&quot;: 2.1794871794871797, &quot;y&quot;: 1.6110731556870737, &quot;z&quot;: 0.34980602454510934}, {&quot;x&quot;: 2.1794871794871797, &quot;y&quot;: 1.6916268134714274, &quot;z&quot;: 0.3328481839812221}, {&quot;x&quot;: 2.1794871794871797, &quot;y&quot;: 1.7721804712557812, &quot;z&quot;: 0.30068797961913013}, {&quot;x&quot;: 2.1794871794871797, &quot;y&quot;: 1.852734129040135, &quot;z&quot;: 0.2565081452223493}, {&quot;x&quot;: 2.1794871794871797, &quot;y&quot;: 1.9332877868244887, &quot;z&quot;: 0.20435531256544232}, {&quot;x&quot;: 2.1794871794871797, &quot;y&quot;: 2.0138414446088424, &quot;z&quot;: 0.14849118311141146}, {&quot;x&quot;: 2.1794871794871797, &quot;y&quot;: 2.094395102393196, &quot;z&quot;: 0.0928101101089911}, {&quot;x&quot;: 2.1794871794871797, &quot;y&quot;: 2.17494876017755, &quot;z&quot;: 0.0404303213893498}, {&quot;x&quot;: 2.1794871794871797, &quot;y&quot;: 2.2555024179619036, &quot;z&quot;: -0.0065003558940341846}, {&quot;x&quot;: 2.1794871794871797, &quot;y&quot;: 2.3360560757462574, &quot;z&quot;: -0.046803961236879014}, {&quot;x&quot;: 2.1794871794871797, &quot;y&quot;: 2.416609733530611, &quot;z&quot;: -0.08013399468565534}, {&quot;x&quot;: 2.1794871794871797, &quot;y&quot;: 2.497163391314965, &quot;z&quot;: -0.10676646758998434}, {&quot;x&quot;: 2.1794871794871797, &quot;y&quot;: 2.5777170490993186, &quot;z&quot;: -0.12737803436113543}, {&quot;x&quot;: 2.1794871794871797, &quot;y&quot;: 2.6582707068836724, &quot;z&quot;: -0.14284952842989326}, {&quot;x&quot;: 2.1794871794871797, &quot;y&quot;: 2.738824364668026, &quot;z&quot;: -0.15411330807626739}, {&quot;x&quot;: 2.1794871794871797, &quot;y&quot;: 2.81937802245238, &quot;z&quot;: -0.1620474473931202}, {&quot;x&quot;: 2.1794871794871797, &quot;y&quot;: 2.8999316802367336, &quot;z&quot;: -0.16741051302604276}, {&quot;x&quot;: 2.1794871794871797, &quot;y&quot;: 2.9804853380210874, &quot;z&quot;: -0.17080667930788018}, {&quot;x&quot;: 2.1794871794871797, &quot;y&quot;: 3.061038995805441, &quot;z&quot;: -0.17267058184910328}, {&quot;x&quot;: 2.1794871794871797, &quot;y&quot;: 3.141592653589793, &quot;z&quot;: -0.1732629566911024}, {&quot;x&quot;: 2.230769230769231, &quot;y&quot;: 0.08055365778435367, &quot;z&quot;: -0.14659613618958742}, {&quot;x&quot;: 2.230769230769231, &quot;y&quot;: 0.0, &quot;z&quot;: -0.14719595938114025}, {&quot;x&quot;: 2.230769230769231, &quot;y&quot;: 0.16110731556870733, &quot;z&quot;: -0.1447231133093571}, {&quot;x&quot;: 2.230769230769231, &quot;y&quot;: 0.241660973353061, &quot;z&quot;: -0.14135646457339948}, {&quot;x&quot;: 2.230769230769231, &quot;y&quot;: 0.32221463113741466, &quot;z&quot;: -0.13613064497415145}, {&quot;x&quot;: 2.230769230769231, &quot;y&quot;: 0.4027682889217683, &quot;z&quot;: -0.12854143882705477}, {&quot;x&quot;: 2.230769230769231, &quot;y&quot;: 0.48332194670612194, &quot;z&quot;: -0.11796237728839891}, {&quot;x&quot;: 2.230769230769231, &quot;y&quot;: 0.5638756044904756, &quot;z&quot;: -0.10367824739294253}, {&quot;x&quot;: 2.230769230769231, &quot;y&quot;: 0.6444292622748292, &quot;z&quot;: -0.08494385228660452}, {&quot;x&quot;: 2.230769230769231, &quot;y&quot;: 0.7249829200591829, &quot;z&quot;: -0.06107547164095703}, {&quot;x&quot;: 2.230769230769231, &quot;y&quot;: 0.8055365778435365, &quot;z&quot;: -0.03157877842532423}, {&quot;x&quot;: 2.230769230769231, &quot;y&quot;: 0.8860902356278901, &quot;z&quot;: 0.003690867437543562}, {&quot;x&quot;: 2.230769230769231, &quot;y&quot;: 0.9666438934122438, &quot;z&quot;: 0.04435215293997872}, {&quot;x&quot;: 2.230769230769231, &quot;y&quot;: 1.0471975511965974, &quot;z&quot;: 0.08933729360887228}, {&quot;x&quot;: 2.230769230769231, &quot;y&quot;: 1.1277512089809512, &quot;z&quot;: 0.13679305448392545}, {&quot;x&quot;: 2.230769230769231, &quot;y&quot;: 1.208304866765305, &quot;z&quot;: 0.18409502140083106}, {&quot;x&quot;: 2.230769230769231, &quot;y&quot;: 1.2888585245496587, &quot;z&quot;: 0.22801694190588614}, {&quot;x&quot;: 2.230769230769231, &quot;y&quot;: 1.3694121823340124, &quot;z&quot;: 0.26506682707520124}, {&quot;x&quot;: 2.230769230769231, &quot;y&quot;: 1.4499658401183662, &quot;z&quot;: 0.29195461713940735}, {&quot;x&quot;: 2.230769230769231, &quot;y&quot;: 1.53051949790272, &quot;z&quot;: 0.30610622346780597}, {&quot;x&quot;: 2.230769230769231, &quot;y&quot;: 1.6110731556870737, &quot;z&quot;: 0.30610622346780597}, {&quot;x&quot;: 2.230769230769231, &quot;y&quot;: 1.6916268134714274, &quot;z&quot;: 0.2919546171394073}, {&quot;x&quot;: 2.230769230769231, &quot;y&quot;: 1.7721804712557812, &quot;z&quot;: 0.26506682707520113}, {&quot;x&quot;: 2.230769230769231, &quot;y&quot;: 1.852734129040135, &quot;z&quot;: 0.22801694190588603}, {&quot;x&quot;: 2.230769230769231, &quot;y&quot;: 1.9332877868244887, &quot;z&quot;: 0.18409502140083092}, {&quot;x&quot;: 2.230769230769231, &quot;y&quot;: 2.0138414446088424, &quot;z&quot;: 0.13679305448392523}, {&quot;x&quot;: 2.230769230769231, &quot;y&quot;: 2.094395102393196, &quot;z&quot;: 0.08933729360887215}, {&quot;x&quot;: 2.230769230769231, &quot;y&quot;: 2.17494876017755, &quot;z&quot;: 0.04435215293997843}, {&quot;x&quot;: 2.230769230769231, &quot;y&quot;: 2.2555024179619036, &quot;z&quot;: 0.003690867437543292}, {&quot;x&quot;: 2.230769230769231, &quot;y&quot;: 2.3360560757462574, &quot;z&quot;: -0.03157877842532452}, {&quot;x&quot;: 2.230769230769231, &quot;y&quot;: 2.416609733530611, &quot;z&quot;: -0.06107547164095733}, {&quot;x&quot;: 2.230769230769231, &quot;y&quot;: 2.497163391314965, &quot;z&quot;: -0.08494385228660471}, {&quot;x&quot;: 2.230769230769231, &quot;y&quot;: 2.5777170490993186, &quot;z&quot;: -0.10367824739294275}, {&quot;x&quot;: 2.230769230769231, &quot;y&quot;: 2.6582707068836724, &quot;z&quot;: -0.11796237728839915}, {&quot;x&quot;: 2.230769230769231, &quot;y&quot;: 2.738824364668026, &quot;z&quot;: -0.12854143882705482}, {&quot;x&quot;: 2.230769230769231, &quot;y&quot;: 2.81937802245238, &quot;z&quot;: -0.13613064497415153}, {&quot;x&quot;: 2.230769230769231, &quot;y&quot;: 2.8999316802367336, &quot;z&quot;: -0.14135646457339945}, {&quot;x&quot;: 2.230769230769231, &quot;y&quot;: 2.9804853380210874, &quot;z&quot;: -0.14472311330935705}, {&quot;x&quot;: 2.230769230769231, &quot;y&quot;: 3.061038995805441, &quot;z&quot;: -0.14659613618958728}, {&quot;x&quot;: 2.230769230769231, &quot;y&quot;: 3.141592653589793, &quot;z&quot;: -0.14719595938114025}, {&quot;x&quot;: 2.282051282051282, &quot;y&quot;: 0.08055365778435367, &quot;z&quot;: -0.12431641491583424}, {&quot;x&quot;: 2.282051282051282, &quot;y&quot;: 0.0, &quot;z&quot;: -0.12490893614006583}, {&quot;x&quot;: 2.282051282051282, &quot;y&quot;: 0.16110731556870733, &quot;z&quot;: -0.1224766213230601}, {&quot;x&quot;: 2.282051282051282, &quot;y&quot;: 0.241660973353061, &quot;z&quot;: -0.11920352547069354}, {&quot;x&quot;: 2.282051282051282, &quot;y&quot;: 0.32221463113741466, &quot;z&quot;: -0.11419014893361244}, {&quot;x&quot;: 2.282051282051282, &quot;y&quot;: 0.4027682889217683, &quot;z&quot;: -0.10701621697693399}, {&quot;x&quot;: 2.282051282051282, &quot;y&quot;: 0.48332194670612194, &quot;z&quot;: -0.09716488613004759}, {&quot;x&quot;: 2.282051282051282, &quot;y&quot;: 0.5638756044904756, &quot;z&quot;: -0.08405419191103734}, {&quot;x&quot;: 2.282051282051282, &quot;y&quot;: 0.6444292622748292, &quot;z&quot;: -0.06708946866766151}, {&quot;x&quot;: 2.282051282051282, &quot;y&quot;: 0.7249829200591829, &quot;z&quot;: -0.0457420927252184}, {&quot;x&quot;: 2.282051282051282, &quot;y&quot;: 0.8055365778435365, &quot;z&quot;: -0.019656565389527373}, {&quot;x&quot;: 2.282051282051282, &quot;y&quot;: 0.8860902356278901, &quot;z&quot;: 0.011218609563792524}, {&quot;x&quot;: 2.282051282051282, &quot;y&quot;: 0.9666438934122438, &quot;z&quot;: 0.04649066730286691}, {&quot;x&quot;: 2.282051282051282, &quot;y&quot;: 1.0471975511965974, &quot;z&quot;: 0.08519913623815747}, {&quot;x&quot;: 2.282051282051282, &quot;y&quot;: 1.1277512089809512, &quot;z&quot;: 0.12574564096719357}, {&quot;x&quot;: 2.282051282051282, &quot;y&quot;: 1.208304866765305, &quot;z&quot;: 0.16591677787718548}, {&quot;x&quot;: 2.282051282051282, &quot;y&quot;: 1.2888585245496587, &quot;z&quot;: 0.20303082797223315}, {&quot;x&quot;: 2.282051282051282, &quot;y&quot;: 1.3694121823340124, &quot;z&quot;: 0.23421470744707376}, {&quot;x&quot;: 2.282051282051282, &quot;y&quot;: 1.4499658401183662, &quot;z&quot;: 0.25678110071955945}, {&quot;x&quot;: 2.282051282051282, &quot;y&quot;: 1.53051949790272, &quot;z&quot;: 0.26863785293667686}, {&quot;x&quot;: 2.282051282051282, &quot;y&quot;: 1.6110731556870737, &quot;z&quot;: 0.26863785293667686}, {&quot;x&quot;: 2.282051282051282, &quot;y&quot;: 1.6916268134714274, &quot;z&quot;: 0.2567811007195594}, {&quot;x&quot;: 2.282051282051282, &quot;y&quot;: 1.7721804712557812, &quot;z&quot;: 0.23421470744707368}, {&quot;x&quot;: 2.282051282051282, &quot;y&quot;: 1.852734129040135, &quot;z&quot;: 0.20303082797223307}, {&quot;x&quot;: 2.282051282051282, &quot;y&quot;: 1.9332877868244887, &quot;z&quot;: 0.16591677787718537}, {&quot;x&quot;: 2.282051282051282, &quot;y&quot;: 2.0138414446088424, &quot;z&quot;: 0.1257456409671934}, {&quot;x&quot;: 2.282051282051282, &quot;y&quot;: 2.094395102393196, &quot;z&quot;: 0.08519913623815735}, {&quot;x&quot;: 2.282051282051282, &quot;y&quot;: 2.17494876017755, &quot;z&quot;: 0.04649066730286672}, {&quot;x&quot;: 2.282051282051282, &quot;y&quot;: 2.2555024179619036, &quot;z&quot;: 0.01121860956379231}, {&quot;x&quot;: 2.282051282051282, &quot;y&quot;: 2.3360560757462574, &quot;z&quot;: -0.019656565389527602}, {&quot;x&quot;: 2.282051282051282, &quot;y&quot;: 2.416609733530611, &quot;z&quot;: -0.04574209272521867}, {&quot;x&quot;: 2.282051282051282, &quot;y&quot;: 2.497163391314965, &quot;z&quot;: -0.06708946866766172}, {&quot;x&quot;: 2.282051282051282, &quot;y&quot;: 2.5777170490993186, &quot;z&quot;: -0.08405419191103752}, {&quot;x&quot;: 2.282051282051282, &quot;y&quot;: 2.6582707068836724, &quot;z&quot;: -0.09716488613004771}, {&quot;x&quot;: 2.282051282051282, &quot;y&quot;: 2.738824364668026, &quot;z&quot;: -0.10701621697693406}, {&quot;x&quot;: 2.282051282051282, &quot;y&quot;: 2.81937802245238, &quot;z&quot;: -0.11419014893361251}, {&quot;x&quot;: 2.282051282051282, &quot;y&quot;: 2.8999316802367336, &quot;z&quot;: -0.11920352547069363}, {&quot;x&quot;: 2.282051282051282, &quot;y&quot;: 2.9804853380210874, &quot;z&quot;: -0.12247662132306009}, {&quot;x&quot;: 2.282051282051282, &quot;y&quot;: 3.061038995805441, &quot;z&quot;: -0.12431641491583417}, {&quot;x&quot;: 2.282051282051282, &quot;y&quot;: 3.141592653589793, &quot;z&quot;: -0.12490893614006583}, {&quot;x&quot;: 2.333333333333333, &quot;y&quot;: 0.08055365778435367, &quot;z&quot;: -0.10529552568497229}, {&quot;x&quot;: 2.333333333333333, &quot;y&quot;: 0.0, &quot;z&quot;: -0.10587050988653249}, {&quot;x&quot;: 2.333333333333333, &quot;y&quot;: 0.16110731556870733, &quot;z&quot;: -0.1035180028896546}, {&quot;x&quot;: 2.333333333333333, &quot;y&quot;: 0.241660973353061, &quot;z&quot;: -0.10038116252042174}, {&quot;x&quot;: 2.333333333333333, &quot;y&quot;: 0.32221463113741466, &quot;z&quot;: -0.09562753026372521}, {&quot;x&quot;: 2.333333333333333, &quot;y&quot;: 0.4027682889217683, &quot;z&quot;: -0.08890716779359488}, {&quot;x&quot;: 2.333333333333333, &quot;y&quot;: 0.48332194670612194, &quot;z&quot;: -0.07979407283430316}, {&quot;x&quot;: 2.333333333333333, &quot;y&quot;: 0.5638756044904756, &quot;z&quot;: -0.06781520573973489}, {&quot;x&quot;: 2.333333333333333, &quot;y&quot;: 0.6444292622748292, &quot;z&quot;: -0.05249690803472303}, {&quot;x&quot;: 2.333333333333333, &quot;y&quot;: 0.7249829200591829, &quot;z&quot;: -0.03343249834734424}, {&quot;x&quot;: 2.333333333333333, &quot;y&quot;: 0.8055365778435365, &quot;z&quot;: -0.010371872375152016}, {&quot;x&quot;: 2.333333333333333, &quot;y&quot;: 0.8860902356278901, &quot;z&quot;: 0.016671534865146404}, {&quot;x&quot;: 2.333333333333333, &quot;y&quot;: 0.9666438934122438, &quot;z&quot;: 0.04730896006667951}, {&quot;x&quot;: 2.333333333333333, &quot;y&quot;: 1.0471975511965974, &quot;z&quot;: 0.08068129653395101}, {&quot;x&quot;: 2.333333333333333, &quot;y&quot;: 1.1277512089809512, &quot;z&quot;: 0.11540988995398982}, {&quot;x&quot;: 2.333333333333333, &quot;y&quot;: 1.208304866765305, &quot;z&quot;: 0.14962389802554704}, {&quot;x&quot;: 2.333333333333333, &quot;y&quot;: 1.2888585245496587, &quot;z&quot;: 0.18108687143927943}, {&quot;x&quot;: 2.333333333333333, &quot;y&quot;: 1.3694121823340124, &quot;z&quot;: 0.2074255020795595}, {&quot;x&quot;: 2.333333333333333, &quot;y&quot;: 1.4499658401183662, &quot;z&quot;: 0.22643502312771677}, {&quot;x&quot;: 2.333333333333333, &quot;y&quot;: 1.53051949790272, &quot;z&quot;: 0.23640690305896206}, {&quot;x&quot;: 2.333333333333333, &quot;y&quot;: 1.6110731556870737, &quot;z&quot;: 0.23640690305896206}, {&quot;x&quot;: 2.333333333333333, &quot;y&quot;: 1.6916268134714274, &quot;z&quot;: 0.22643502312771677}, {&quot;x&quot;: 2.333333333333333, &quot;y&quot;: 1.7721804712557812, &quot;z&quot;: 0.20742550207955943}, {&quot;x&quot;: 2.333333333333333, &quot;y&quot;: 1.852734129040135, &quot;z&quot;: 0.18108687143927935}, {&quot;x&quot;: 2.333333333333333, &quot;y&quot;: 1.9332877868244887, &quot;z&quot;: 0.1496238980255469}, {&quot;x&quot;: 2.333333333333333, &quot;y&quot;: 2.0138414446088424, &quot;z&quot;: 0.11540988995398967}, {&quot;x&quot;: 2.333333333333333, &quot;y&quot;: 2.094395102393196, &quot;z&quot;: 0.08068129653395088}, {&quot;x&quot;: 2.333333333333333, &quot;y&quot;: 2.17494876017755, &quot;z&quot;: 0.04730896006667934}, {&quot;x&quot;: 2.333333333333333, &quot;y&quot;: 2.2555024179619036, &quot;z&quot;: 0.016671534865146217}, {&quot;x&quot;: 2.333333333333333, &quot;y&quot;: 2.3360560757462574, &quot;z&quot;: -0.010371872375152223}, {&quot;x&quot;: 2.333333333333333, &quot;y&quot;: 2.416609733530611, &quot;z&quot;: -0.033432498347344464}, {&quot;x&quot;: 2.333333333333333, &quot;y&quot;: 2.497163391314965, &quot;z&quot;: -0.05249690803472323}, {&quot;x&quot;: 2.333333333333333, &quot;y&quot;: 2.5777170490993186, &quot;z&quot;: -0.06781520573973505}, {&quot;x&quot;: 2.333333333333333, &quot;y&quot;: 2.6582707068836724, &quot;z&quot;: -0.07979407283430334}, {&quot;x&quot;: 2.333333333333333, &quot;y&quot;: 2.738824364668026, &quot;z&quot;: -0.08890716779359496}, {&quot;x&quot;: 2.333333333333333, &quot;y&quot;: 2.81937802245238, &quot;z&quot;: -0.09562753026372539}, {&quot;x&quot;: 2.333333333333333, &quot;y&quot;: 2.8999316802367336, &quot;z&quot;: -0.10038116252042174}, {&quot;x&quot;: 2.333333333333333, &quot;y&quot;: 2.9804853380210874, &quot;z&quot;: -0.10351800288965451}, {&quot;x&quot;: 2.333333333333333, &quot;y&quot;: 3.061038995805441, &quot;z&quot;: -0.10529552568497236}, {&quot;x&quot;: 2.333333333333333, &quot;y&quot;: 3.141592653589793, &quot;z&quot;: -0.10587050988653249}, {&quot;x&quot;: 2.384615384615384, &quot;y&quot;: 0.08055365778435367, &quot;z&quot;: -0.08906809735776604}, {&quot;x&quot;: 2.384615384615384, &quot;y&quot;: 0.0, &quot;z&quot;: -0.08961871639441067}, {&quot;x&quot;: 2.384615384615384, &quot;y&quot;: 0.16110731556870733, &quot;z&quot;: -0.08737188636499123}, {&quot;x&quot;: 2.384615384615384, &quot;y&quot;: 0.241660973353061, &quot;z&quot;: -0.08439811268158133}, {&quot;x&quot;: 2.384615384615384, &quot;y&quot;: 0.32221463113741466, &quot;z&quot;: -0.07993105153532426}, {&quot;x&quot;: 2.384615384615384, &quot;y&quot;: 0.4027682889217683, &quot;z&quot;: -0.07367960091865332}, {&quot;x&quot;: 2.384615384615384, &quot;y&quot;: 0.48332194670612194, &quot;z&quot;: -0.06529294872623166}, {&quot;x&quot;: 2.384615384615384, &quot;y&quot;: 0.5638756044904756, &quot;z&quot;: -0.05438703775173754}, {&quot;x&quot;: 2.384615384615384, &quot;y&quot;: 0.6444292622748292, &quot;z&quot;: -0.04058543917248964}, {&quot;x&quot;: 2.384615384615384, &quot;y&quot;: 0.7249829200591829, &quot;z&quot;: -0.023577257016671186}, {&quot;x&quot;: 2.384615384615384, &quot;y&quot;: 0.8055365778435365, &quot;z&quot;: -0.003192093933512302}, {&quot;x&quot;: 2.384615384615384, &quot;y&quot;: 0.8860902356278901, &quot;z&quot;: 0.02051243218811072}, {&quot;x&quot;: 2.384615384615384, &quot;y&quot;: 0.9666438934122438, &quot;z&quot;: 0.047161443062624514}, {&quot;x&quot;: 2.384615384615384, &quot;y&quot;: 1.0471975511965974, &quot;z&quot;: 0.07598962719908299}, {&quot;x&quot;: 2.384615384615384, &quot;y&quot;: 1.1277512089809512, &quot;z&quot;: 0.10580732131675083}, {&quot;x&quot;: 2.384615384615384, &quot;y&quot;: 1.208304866765305, &quot;z&quot;: 0.13502965792700095}, {&quot;x&quot;: 2.384615384615384, &quot;y&quot;: 1.2888585245496587, &quot;z&quot;: 0.1617854753409077}, {&quot;x&quot;: 2.384615384615384, &quot;y&quot;: 1.3694121823340124, &quot;z&quot;: 0.18410672268384623}, {&quot;x&quot;: 2.384615384615384, &quot;y&quot;: 1.4499658401183662, &quot;z&quot;: 0.20017678152166846}, {&quot;x&quot;: 2.384615384615384, &quot;y&quot;: 1.53051949790272, &quot;z&quot;: 0.2085940400850457}, {&quot;x&quot;: 2.384615384615384, &quot;y&quot;: 1.6110731556870737, &quot;z&quot;: 0.2085940400850457}, {&quot;x&quot;: 2.384615384615384, &quot;y&quot;: 1.6916268134714274, &quot;z&quot;: 0.20017678152166846}, {&quot;x&quot;: 2.384615384615384, &quot;y&quot;: 1.7721804712557812, &quot;z&quot;: 0.18410672268384615}, {&quot;x&quot;: 2.384615384615384, &quot;y&quot;: 1.852734129040135, &quot;z&quot;: 0.16178547534090768}, {&quot;x&quot;: 2.384615384615384, &quot;y&quot;: 1.9332877868244887, &quot;z&quot;: 0.13502965792700086}, {&quot;x&quot;: 2.384615384615384, &quot;y&quot;: 2.0138414446088424, &quot;z&quot;: 0.10580732131675072}, {&quot;x&quot;: 2.384615384615384, &quot;y&quot;: 2.094395102393196, &quot;z&quot;: 0.07598962719908288}, {&quot;x&quot;: 2.384615384615384, &quot;y&quot;: 2.17494876017755, &quot;z&quot;: 0.047161443062624334}, {&quot;x&quot;: 2.384615384615384, &quot;y&quot;: 2.2555024179619036, &quot;z&quot;: 0.020512432188110535}, {&quot;x&quot;: 2.384615384615384, &quot;y&quot;: 2.3360560757462574, &quot;z&quot;: -0.003192093933512495}, {&quot;x&quot;: 2.384615384615384, &quot;y&quot;: 2.416609733530611, &quot;z&quot;: -0.023577257016671346}, {&quot;x&quot;: 2.384615384615384, &quot;y&quot;: 2.497163391314965, &quot;z&quot;: -0.040585439172489794}, {&quot;x&quot;: 2.384615384615384, &quot;y&quot;: 2.5777170490993186, &quot;z&quot;: -0.05438703775173768}, {&quot;x&quot;: 2.384615384615384, &quot;y&quot;: 2.6582707068836724, &quot;z&quot;: -0.06529294872623188}, {&quot;x&quot;: 2.384615384615384, &quot;y&quot;: 2.738824364668026, &quot;z&quot;: -0.07367960091865342}, {&quot;x&quot;: 2.384615384615384, &quot;y&quot;: 2.81937802245238, &quot;z&quot;: -0.07993105153532439}, {&quot;x&quot;: 2.384615384615384, &quot;y&quot;: 2.8999316802367336, &quot;z&quot;: -0.08439811268158132}, {&quot;x&quot;: 2.384615384615384, &quot;y&quot;: 2.9804853380210874, &quot;z&quot;: -0.08737188636499121}, {&quot;x&quot;: 2.384615384615384, &quot;y&quot;: 3.061038995805441, &quot;z&quot;: -0.08906809735776607}, {&quot;x&quot;: 2.384615384615384, &quot;y&quot;: 3.141592653589793, &quot;z&quot;: -0.08961871639441067}, {&quot;x&quot;: 2.4358974358974352, &quot;y&quot;: 0.08055365778435367, &quot;z&quot;: -0.07523178860057413}, {&quot;x&quot;: 2.4358974358974352, &quot;y&quot;: 0.0, &quot;z&quot;: -0.07575376274987873}, {&quot;x&quot;: 2.4358974358974352, &quot;y&quot;: 0.16110731556870733, &quot;z&quot;: -0.07362848446934124}, {&quot;x&quot;: 2.4358974358974352, &quot;y&quot;: 0.241660973353061, &quot;z&quot;: -0.07083287486966804}, {&quot;x&quot;: 2.4358974358974352, &quot;y&quot;: 0.32221463113741466, &quot;z&quot;: -0.0666643819546765}, {&quot;x&quot;: 2.4358974358974352, &quot;y&quot;: 0.4027682889217683, &quot;z&quot;: -0.06088105483503109}, {&quot;x&quot;: 2.4358974358974352, &quot;y&quot;: 0.48332194670612194, &quot;z&quot;: -0.053194263088776665}, {&quot;x&quot;: 2.4358974358974352, &quot;y&quot;: 0.5638756044904756, &quot;z&quot;: -0.04329260369110682}, {&quot;x&quot;: 2.4358974358974352, &quot;y&quot;: 0.6444292622748292, &quot;z&quot;: -0.0308777375079281}, {&quot;x&quot;: 2.4358974358974352, &quot;y&quot;: 0.7249829200591829, &quot;z&quot;: -0.015713919061422426}, {&quot;x&quot;: 2.4358974358974352, &quot;y&quot;: 0.8055365778435365, &quot;z&quot;: 0.002309266509827006}, {&quot;x&quot;: 2.4358974358974352, &quot;y&quot;: 0.8860902356278901, &quot;z&quot;: 0.02310520611228895}, {&quot;x&quot;: 2.4358974358974352, &quot;y&quot;: 0.9666438934122438, &quot;z&quot;: 0.046318894348874554}, {&quot;x&quot;: 2.4358974358974352, &quot;y&quot;: 1.0471975511965974, &quot;z&quot;: 0.07127057018621129}, {&quot;x&quot;: 2.4358974358974352, &quot;y&quot;: 1.1277512089809512, &quot;z&quot;: 0.0969328978925721}, {&quot;x&quot;: 2.4358974358974352, &quot;y&quot;: 1.208304866765305, &quot;z&quot;: 0.12196017822064152}, {&quot;x&quot;: 2.4358974358974352, &quot;y&quot;: 1.2888585245496587, &quot;z&quot;: 0.1447818921956776}, {&quot;x&quot;: 2.4358974358974352, &quot;y&quot;: 1.3694121823340124, &quot;z&quot;: 0.1637599330218577}, {&quot;x&quot;: 2.4358974358974352, &quot;y&quot;: 1.4499658401183662, &quot;z&quot;: 0.17739132063338242}, {&quot;x&quot;: 2.4358974358974352, &quot;y&quot;: 1.53051949790272, &quot;z&quot;: 0.1845211947564397}, {&quot;x&quot;: 2.4358974358974352, &quot;y&quot;: 1.6110731556870737, &quot;z&quot;: 0.18452119475643963}, {&quot;x&quot;: 2.4358974358974352, &quot;y&quot;: 1.6916268134714274, &quot;z&quot;: 0.1773913206333824}, {&quot;x&quot;: 2.4358974358974352, &quot;y&quot;: 1.7721804712557812, &quot;z&quot;: 0.16375993302185768}, {&quot;x&quot;: 2.4358974358974352, &quot;y&quot;: 1.852734129040135, &quot;z&quot;: 0.14478189219567753}, {&quot;x&quot;: 2.4358974358974352, &quot;y&quot;: 1.9332877868244887, &quot;z&quot;: 0.12196017822064144}, {&quot;x&quot;: 2.4358974358974352, &quot;y&quot;: 2.0138414446088424, &quot;z&quot;: 0.09693289789257199}, {&quot;x&quot;: 2.4358974358974352, &quot;y&quot;: 2.094395102393196, &quot;z&quot;: 0.07127057018621122}, {&quot;x&quot;: 2.4358974358974352, &quot;y&quot;: 2.17494876017755, &quot;z&quot;: 0.04631889434887441}, {&quot;x&quot;: 2.4358974358974352, &quot;y&quot;: 2.2555024179619036, &quot;z&quot;: 0.02310520611228879}, {&quot;x&quot;: 2.4358974358974352, &quot;y&quot;: 2.3360560757462574, &quot;z&quot;: 0.002309266509826852}, {&quot;x&quot;: 2.4358974358974352, &quot;y&quot;: 2.416609733530611, &quot;z&quot;: -0.015713919061422606}, {&quot;x&quot;: 2.4358974358974352, &quot;y&quot;: 2.497163391314965, &quot;z&quot;: -0.03087773750792822}, {&quot;x&quot;: 2.4358974358974352, &quot;y&quot;: 2.5777170490993186, &quot;z&quot;: -0.043292603691106955}, {&quot;x&quot;: 2.4358974358974352, &quot;y&quot;: 2.6582707068836724, &quot;z&quot;: -0.05319426308877679}, {&quot;x&quot;: 2.4358974358974352, &quot;y&quot;: 2.738824364668026, &quot;z&quot;: -0.06088105483503119}, {&quot;x&quot;: 2.4358974358974352, &quot;y&quot;: 2.81937802245238, &quot;z&quot;: -0.0666643819546766}, {&quot;x&quot;: 2.4358974358974352, &quot;y&quot;: 2.8999316802367336, &quot;z&quot;: -0.07083287486966813}, {&quot;x&quot;: 2.4358974358974352, &quot;y&quot;: 2.9804853380210874, &quot;z&quot;: -0.0736284844693412}, {&quot;x&quot;: 2.4358974358974352, &quot;y&quot;: 3.061038995805441, &quot;z&quot;: -0.07523178860057408}, {&quot;x&quot;: 2.4358974358974352, &quot;y&quot;: 3.141592653589793, &quot;z&quot;: -0.07575376274987873}, {&quot;x&quot;: 2.4871794871794863, &quot;y&quot;: 0.08055365778435367, &quot;z&quot;: -0.0634399612865856}, {&quot;x&quot;: 2.4871794871794863, &quot;y&quot;: 0.0, &quot;z&quot;: -0.0639308973118844}, {&quot;x&quot;: 2.4871794871794863, &quot;y&quot;: 0.16110731556870733, &quot;z&quot;: -0.06193567695358766}, {&quot;x&quot;: 2.4871794871794863, &quot;y&quot;: 0.241660973353061, &quot;z&quot;: -0.05932480689099612}, {&quot;x&quot;: 2.4871794871794863, &quot;y&quot;: 0.32221463113741466, &quot;z&quot;: -0.05545632022203273}, {&quot;x&quot;: 2.4871794871794863, &quot;y&quot;: 0.4027682889217683, &quot;z&quot;: -0.05012928395774047}, {&quot;x&quot;: 2.4871794871794863, &quot;y&quot;: 0.48332194670612194, &quot;z&quot;: -0.043106457392714646}, {&quot;x&quot;: 2.4871794871794863, &quot;y&quot;: 0.5638756044904756, &quot;z&quot;: -0.03413573537273248}, {&quot;x&quot;: 2.4871794871794863, &quot;y&quot;: 0.6444292622748292, &quot;z&quot;: -0.02298146582234431}, {&quot;x&quot;: 2.4871794871794863, &quot;y&quot;: 0.7249829200591829, &quot;z&quot;: -0.00946677546040126}, {&quot;x&quot;: 2.4871794871794863, &quot;y&quot;: 0.8055365778435365, &quot;z&quot;: 0.006473901317696934}, {&quot;x&quot;: 2.4871794871794863, &quot;y&quot;: 0.8860902356278901, &quot;z&quot;: 0.02473600442379791}, {&quot;x&quot;: 2.4871794871794863, &quot;y&quot;: 0.9666438934122438, &quot;z&quot;: 0.044987690630866155}, {&quot;x&quot;: 2.4871794871794863, &quot;y&quot;: 1.0471975511965974, &quot;z&quot;: 0.0666264272139113}, {&quot;x&quot;: 2.4871794871794863, &quot;y&quot;: 1.1277512089809512, &quot;z&quot;: 0.08876419989007936}, {&quot;x&quot;: 2.4871794871794863, &quot;y&quot;: 1.208304866765305, &quot;z&quot;: 0.11025572290748259}, {&quot;x&quot;: 2.4871794871794863, &quot;y&quot;: 1.2888585245496587, &quot;z&quot;: 0.1297787081993222}, {&quot;x&quot;: 2.4871794871794863, &quot;y&quot;: 1.3694121823340124, &quot;z&quot;: 0.1459647320277933}, {&quot;x&quot;: 2.4871794871794863, &quot;y&quot;: 1.4499658401183662, &quot;z&quot;: 0.15756535966834112}, {&quot;x&quot;: 2.4871794871794863, &quot;y&quot;: 1.53051949790272, &quot;z&quot;: 0.16362504015571105}, {&quot;x&quot;: 2.4871794871794863, &quot;y&quot;: 1.6110731556870737, &quot;z&quot;: 0.16362504015571105}, {&quot;x&quot;: 2.4871794871794863, &quot;y&quot;: 1.6916268134714274, &quot;z&quot;: 0.15756535966834115}, {&quot;x&quot;: 2.4871794871794863, &quot;y&quot;: 1.7721804712557812, &quot;z&quot;: 0.14596473202779325}, {&quot;x&quot;: 2.4871794871794863, &quot;y&quot;: 1.852734129040135, &quot;z&quot;: 0.12977870819932213}, {&quot;x&quot;: 2.4871794871794863, &quot;y&quot;: 1.9332877868244887, &quot;z&quot;: 0.11025572290748255}, {&quot;x&quot;: 2.4871794871794863, &quot;y&quot;: 2.0138414446088424, &quot;z&quot;: 0.08876419989007928}, {&quot;x&quot;: 2.4871794871794863, &quot;y&quot;: 2.094395102393196, &quot;z&quot;: 0.06662642721391122}, {&quot;x&quot;: 2.4871794871794863, &quot;y&quot;: 2.17494876017755, &quot;z&quot;: 0.044987690630866016}, {&quot;x&quot;: 2.4871794871794863, &quot;y&quot;: 2.2555024179619036, &quot;z&quot;: 0.02473600442379777}, {&quot;x&quot;: 2.4871794871794863, &quot;y&quot;: 2.3360560757462574, &quot;z&quot;: 0.006473901317696821}, {&quot;x&quot;: 2.4871794871794863, &quot;y&quot;: 2.416609733530611, &quot;z&quot;: -0.009466775460401398}, {&quot;x&quot;: 2.4871794871794863, &quot;y&quot;: 2.497163391314965, &quot;z&quot;: -0.02298146582234442}, {&quot;x&quot;: 2.4871794871794863, &quot;y&quot;: 2.5777170490993186, &quot;z&quot;: -0.034135735372732554}, {&quot;x&quot;: 2.4871794871794863, &quot;y&quot;: 2.6582707068836724, &quot;z&quot;: -0.04310645739271481}, {&quot;x&quot;: 2.4871794871794863, &quot;y&quot;: 2.738824364668026, &quot;z&quot;: -0.05012928395774058}, {&quot;x&quot;: 2.4871794871794863, &quot;y&quot;: 2.81937802245238, &quot;z&quot;: -0.055456320222032764}, {&quot;x&quot;: 2.4871794871794863, &quot;y&quot;: 2.8999316802367336, &quot;z&quot;: -0.05932480689099608}, {&quot;x&quot;: 2.4871794871794863, &quot;y&quot;: 2.9804853380210874, &quot;z&quot;: -0.06193567695358772}, {&quot;x&quot;: 2.4871794871794863, &quot;y&quot;: 3.061038995805441, &quot;z&quot;: -0.06343996128658563}, {&quot;x&quot;: 2.4871794871794863, &quot;y&quot;: 3.141592653589793, &quot;z&quot;: -0.0639308973118844}, {&quot;x&quot;: 2.5384615384615374, &quot;y&quot;: 0.08055365778435367, &quot;z&quot;: -0.053394783835204636}, {&quot;x&quot;: 2.5384615384615374, &quot;y&quot;: 0.0, &quot;z&quot;: -0.053853666988918976}, {&quot;x&quot;: 2.5384615384615374, &quot;y&quot;: 0.16110731556870733, &quot;z&quot;: -0.051991652564911124}, {&quot;x&quot;: 2.5384615384615374, &quot;y&quot;: 0.241660973353061, &quot;z&quot;: -0.049566001761868206}, {&quot;x&quot;: 2.5384615384615374, &quot;y&quot;: 0.32221463113741466, &quot;z&quot;: -0.04599161245799939}, {&quot;x&quot;: 2.5384615384615374, &quot;y&quot;: 0.4027682889217683, &quot;z&quot;: -0.041101754902059}, {&quot;x&quot;: 2.5384615384615374, &quot;y&quot;: 0.48332194670612194, &quot;z&quot;: -0.0347016374856181}, {&quot;x&quot;: 2.5384615384615374, &quot;y&quot;: 0.5638756044904756, &quot;z&quot;: -0.02658753473604447}, {&quot;x&quot;: 2.5384615384615374, &quot;y&quot;: 0.6444292622748292, &quot;z&quot;: -0.016574088047658753}, {&quot;x&quot;: 2.5384615384615374, &quot;y&quot;: 0.7249829200591829, &quot;z&quot;: -0.004530455228150048}, {&quot;x&quot;: 2.5384615384615374, &quot;y&quot;: 0.8055365778435365, &quot;z&quot;: 0.009575677285195894}, {&quot;x&quot;: 2.5384615384615374, &quot;y&quot;: 0.8860902356278901, &quot;z&quot;: 0.02562977275140055}, {&quot;x&quot;: 2.5384615384615374, &quot;y&quot;: 0.9666438934122438, &quot;z&quot;: 0.043324594740703715}, {&quot;x&quot;: 2.5384615384615374, &quot;y&quot;: 1.0471975511965974, &quot;z&quot;: 0.06212680266495175}, {&quot;x&quot;: 2.5384615384615374, &quot;y&quot;: 1.1277512089809512, &quot;z&quot;: 0.08126793107691462}, {&quot;x&quot;: 2.5384615384615374, &quot;y&quot;: 1.208304866765305, &quot;z&quot;: 0.09977097844782859}, {&quot;x&quot;: 2.5384615384615374, &quot;y&quot;: 1.2888585245496587, &quot;z&quot;: 0.11651926097252609}, {&quot;x&quot;: 2.5384615384615374, &quot;y&quot;: 1.3694121823340124, &quot;z&quot;: 0.1303656243651504}, {&quot;x&quot;: 2.5384615384615374, &quot;y&quot;: 1.4499658401183662, &quot;z&quot;: 0.1402690959168909}, {&quot;x&quot;: 2.5384615384615374, &quot;y&quot;: 1.53051949790272, &quot;z&quot;: 0.14543583969840218}, {&quot;x&quot;: 2.5384615384615374, &quot;y&quot;: 1.6110731556870737, &quot;z&quot;: 0.14543583969840215}, {&quot;x&quot;: 2.5384615384615374, &quot;y&quot;: 1.6916268134714274, &quot;z&quot;: 0.1402690959168909}, {&quot;x&quot;: 2.5384615384615374, &quot;y&quot;: 1.7721804712557812, &quot;z&quot;: 0.13036562436515034}, {&quot;x&quot;: 2.5384615384615374, &quot;y&quot;: 1.852734129040135, &quot;z&quot;: 0.11651926097252605}, {&quot;x&quot;: 2.5384615384615374, &quot;y&quot;: 1.9332877868244887, &quot;z&quot;: 0.0997709784478285}, {&quot;x&quot;: 2.5384615384615374, &quot;y&quot;: 2.0138414446088424, &quot;z&quot;: 0.08126793107691453}, {&quot;x&quot;: 2.5384615384615374, &quot;y&quot;: 2.094395102393196, &quot;z&quot;: 0.062126802664951686}, {&quot;x&quot;: 2.5384615384615374, &quot;y&quot;: 2.17494876017755, &quot;z&quot;: 0.043324594740703576}, {&quot;x&quot;: 2.5384615384615374, &quot;y&quot;: 2.2555024179619036, &quot;z&quot;: 0.025629772751400416}, {&quot;x&quot;: 2.5384615384615374, &quot;y&quot;: 2.3360560757462574, &quot;z&quot;: 0.009575677285195785}, {&quot;x&quot;: 2.5384615384615374, &quot;y&quot;: 2.416609733530611, &quot;z&quot;: -0.00453045522815017}, {&quot;x&quot;: 2.5384615384615374, &quot;y&quot;: 2.497163391314965, &quot;z&quot;: -0.01657408804765886}, {&quot;x&quot;: 2.5384615384615374, &quot;y&quot;: 2.5777170490993186, &quot;z&quot;: -0.026587534736044593}, {&quot;x&quot;: 2.5384615384615374, &quot;y&quot;: 2.6582707068836724, &quot;z&quot;: -0.03470163748561824}, {&quot;x&quot;: 2.5384615384615374, &quot;y&quot;: 2.738824364668026, &quot;z&quot;: -0.04110175490205909}, {&quot;x&quot;: 2.5384615384615374, &quot;y&quot;: 2.81937802245238, &quot;z&quot;: -0.045991612457999466}, {&quot;x&quot;: 2.5384615384615374, &quot;y&quot;: 2.8999316802367336, &quot;z&quot;: -0.04956600176186825}, {&quot;x&quot;: 2.5384615384615374, &quot;y&quot;: 2.9804853380210874, &quot;z&quot;: -0.05199165256491112}, {&quot;x&quot;: 2.5384615384615374, &quot;y&quot;: 3.061038995805441, &quot;z&quot;: -0.05339478383520458}, {&quot;x&quot;: 2.5384615384615374, &quot;y&quot;: 3.141592653589793, &quot;z&quot;: -0.053853666988918976}, {&quot;x&quot;: 2.5897435897435885, &quot;y&quot;: 0.08055365778435367, &quot;z&quot;: -0.04484090463333872}, {&quot;x&quot;: 2.5897435897435885, &quot;y&quot;: 0.0, &quot;z&quot;: -0.04526771073787783}, {&quot;x&quot;: 2.5897435897435885, &quot;y&quot;: 0.16110731556870733, &quot;z&quot;: -0.04353822353982986}, {&quot;x&quot;: 2.5897435897435885, &quot;y&quot;: 0.241660973353061, &quot;z&quot;: -0.04129400977766412}, {&quot;x&quot;: 2.5897435897435885, &quot;y&quot;: 0.32221463113741466, &quot;z&quot;: -0.03800286212011033}, {&quot;x&quot;: 2.5897435897435885, &quot;y&quot;: 0.4027682889217683, &quot;z&quot;: -0.03352655399997439}, {&quot;x&quot;: 2.5897435897435885, &quot;y&quot;: 0.48332194670612194, &quot;z&quot;: -0.027705343622008227}, {&quot;x&quot;: 2.5897435897435885, &quot;y&quot;: 0.5638756044904756, &quot;z&quot;: -0.02037496374235964}, {&quot;x&quot;: 2.5897435897435885, &quot;y&quot;: 0.6444292622748292, &quot;z&quot;: -0.01139037694788856}, {&quot;x&quot;: 2.5897435897435885, &quot;y&quot;: 0.7249829200591829, &quot;z&quot;: -0.000656643327894132}, {&quot;x&quot;: 2.5897435897435885, &quot;y&quot;: 0.8055365778435365, &quot;z&quot;: 0.01183417186307239}, {&quot;x&quot;: 2.5897435897435885, &quot;y&quot;: 0.8860902356278901, &quot;z&quot;: 0.025963240930656786}, {&quot;x&quot;: 2.5897435897435885, &quot;y&quot;: 0.9666438934122438, &quot;z&quot;: 0.04144814142442784}, {&quot;x&quot;: 2.5897435897435885, &quot;y&quot;: 1.0471975511965974, &quot;z&quot;: 0.05781718223892715}, {&quot;x&quot;: 2.5897435897435885, &quot;y&quot;: 1.1277512089809512, &quot;z&quot;: 0.07440449889277251}, {&quot;x&quot;: 2.5897435897435885, &quot;y&quot;: 1.208304866765305, &quot;z&quot;: 0.09037469703730475}, {&quot;x&quot;: 2.5897435897435885, &quot;y&quot;: 1.2888585245496587, &quot;z&quot;: 0.10478192051006016}, {&quot;x&quot;: 2.5897435897435885, &quot;y&quot;: 1.3694121823340124, &quot;z&quot;: 0.11666123477460312}, {&quot;x&quot;: 2.5897435897435885, &quot;y&quot;: 1.4499658401183662, &quot;z&quot;: 0.125141446699391}, {&quot;x&quot;: 2.5897435897435885, &quot;y&quot;: 1.53051949790272, &quot;z&quot;: 0.1295605019026512}, {&quot;x&quot;: 2.5897435897435885, &quot;y&quot;: 1.6110731556870737, &quot;z&quot;: 0.12956050190265117}, {&quot;x&quot;: 2.5897435897435885, &quot;y&quot;: 1.6916268134714274, &quot;z&quot;: 0.125141446699391}, {&quot;x&quot;: 2.5897435897435885, &quot;y&quot;: 1.7721804712557812, &quot;z&quot;: 0.1166612347746031}, {&quot;x&quot;: 2.5897435897435885, &quot;y&quot;: 1.852734129040135, &quot;z&quot;: 0.10478192051006015}, {&quot;x&quot;: 2.5897435897435885, &quot;y&quot;: 1.9332877868244887, &quot;z&quot;: 0.0903746970373047}, {&quot;x&quot;: 2.5897435897435885, &quot;y&quot;: 2.0138414446088424, &quot;z&quot;: 0.07440449889277245}, {&quot;x&quot;: 2.5897435897435885, &quot;y&quot;: 2.094395102393196, &quot;z&quot;: 0.0578171822389271}, {&quot;x&quot;: 2.5897435897435885, &quot;y&quot;: 2.17494876017755, &quot;z&quot;: 0.041448141424427716}, {&quot;x&quot;: 2.5897435897435885, &quot;y&quot;: 2.2555024179619036, &quot;z&quot;: 0.025963240930656672}, {&quot;x&quot;: 2.5897435897435885, &quot;y&quot;: 2.3360560757462574, &quot;z&quot;: 0.011834171863072271}, {&quot;x&quot;: 2.5897435897435885, &quot;y&quot;: 2.416609733530611, &quot;z&quot;: -0.0006566433278942418}, {&quot;x&quot;: 2.5897435897435885, &quot;y&quot;: 2.497163391314965, &quot;z&quot;: -0.011390376947888654}, {&quot;x&quot;: 2.5897435897435885, &quot;y&quot;: 2.5777170490993186, &quot;z&quot;: -0.02037496374235975}, {&quot;x&quot;: 2.5897435897435885, &quot;y&quot;: 2.6582707068836724, &quot;z&quot;: -0.027705343622008317}, {&quot;x&quot;: 2.5897435897435885, &quot;y&quot;: 2.738824364668026, &quot;z&quot;: -0.03352655399997448}, {&quot;x&quot;: 2.5897435897435885, &quot;y&quot;: 2.81937802245238, &quot;z&quot;: -0.03800286212011035}, {&quot;x&quot;: 2.5897435897435885, &quot;y&quot;: 2.8999316802367336, &quot;z&quot;: -0.04129400977766414}, {&quot;x&quot;: 2.5897435897435885, &quot;y&quot;: 2.9804853380210874, &quot;z&quot;: -0.04353822353982986}, {&quot;x&quot;: 2.5897435897435885, &quot;y&quot;: 3.061038995805441, &quot;z&quot;: -0.044840904633338646}, {&quot;x&quot;: 2.5897435897435885, &quot;y&quot;: 3.141592653589793, &quot;z&quot;: -0.04526771073787783}, {&quot;x&quot;: 2.6410256410256396, &quot;y&quot;: 0.08055365778435367, &quot;z&quot;: -0.03755975387502057}, {&quot;x&quot;: 2.6410256410256396, &quot;y&quot;: 0.0, &quot;z&quot;: -0.03795515472741758}, {&quot;x&quot;: 2.6410256410256396, &quot;y&quot;: 0.16110731556870733, &quot;z&quot;: -0.036354849226243026}, {&quot;x&quot;: 2.6410256410256396, &quot;y&quot;: 0.241660973353061, &quot;z&quot;: -0.03428540540168362}, {&quot;x&quot;: 2.6410256410256396, &quot;y&quot;: 0.32221463113741466, &quot;z&quot;: -0.031263476000133475}, {&quot;x&quot;: 2.6410256410256396, &quot;y&quot;: 0.4027682889217683, &quot;z&quot;: -0.027174576113912392}, {&quot;x&quot;: 2.6410256410256396, &quot;y&quot;: 0.48332194670612194, &quot;z&quot;: -0.021887894548534136}, {&quot;x&quot;: 2.6410256410256396, &quot;y&quot;: 0.5638756044904756, &quot;z&quot;: -0.015271334086431512}, {&quot;x&quot;: 2.6410256410256396, &quot;y&quot;: 0.6444292622748292, &quot;z&quot;: -0.00721215408267711}, {&quot;x&quot;: 2.6410256410256396, &quot;y&quot;: 0.7249829200591829, &quot;z&quot;: 0.0023566709615839556}, {&quot;x&quot;: 2.6410256410256396, &quot;y&quot;: 0.8055365778435365, &quot;z&quot;: 0.013425471426724466}, {&quot;x&quot;: 2.6410256410256396, &quot;y&quot;: 0.8860902356278901, &quot;z&quot;: 0.025875122554139818}, {&quot;x&quot;: 2.6410256410256396, &quot;y&quot;: 0.9666438934122438, &quot;z&quot;: 0.03944741545594333}, {&quot;x&quot;: 2.6410256410256396, &quot;y&quot;: 1.0471975511965974, &quot;z&quot;: 0.05372536457432999}, {&quot;x&quot;: 2.6410256410256396, &quot;y&quot;: 1.1277512089809512, &quot;z&quot;: 0.0681312053160504}, {&quot;x&quot;: 2.6410256410256396, &quot;y&quot;: 1.208304866765305, &quot;z&quot;: 0.0819489627205042}, {&quot;x&quot;: 2.6410256410256396, &quot;y&quot;: 1.2888585245496587, &quot;z&quot;: 0.09437514799599067}, {&quot;x&quot;: 2.6410256410256396, &quot;y&quot;: 1.3694121823340124, &quot;z&quot;: 0.10459542782518982}, {&quot;x&quot;: 2.6410256410256396, &quot;y&quot;: 1.4499658401183662, &quot;z&quot;: 0.11187809955017358}, {&quot;x&quot;: 2.6410256410256396, &quot;y&quot;: 1.53051949790272, &quot;z&quot;: 0.1156689464405527}, {&quot;x&quot;: 2.6410256410256396, &quot;y&quot;: 1.6110731556870737, &quot;z&quot;: 0.1156689464405527}, {&quot;x&quot;: 2.6410256410256396, &quot;y&quot;: 1.6916268134714274, &quot;z&quot;: 0.11187809955017357}, {&quot;x&quot;: 2.6410256410256396, &quot;y&quot;: 1.7721804712557812, &quot;z&quot;: 0.1045954278251898}, {&quot;x&quot;: 2.6410256410256396, &quot;y&quot;: 1.852734129040135, &quot;z&quot;: 0.09437514799599066}, {&quot;x&quot;: 2.6410256410256396, &quot;y&quot;: 1.9332877868244887, &quot;z&quot;: 0.08194896272050417}, {&quot;x&quot;: 2.6410256410256396, &quot;y&quot;: 2.0138414446088424, &quot;z&quot;: 0.06813120531605035}, {&quot;x&quot;: 2.6410256410256396, &quot;y&quot;: 2.094395102393196, &quot;z&quot;: 0.05372536457432997}, {&quot;x&quot;: 2.6410256410256396, &quot;y&quot;: 2.17494876017755, &quot;z&quot;: 0.0394474154559432}, {&quot;x&quot;: 2.6410256410256396, &quot;y&quot;: 2.2555024179619036, &quot;z&quot;: 0.025875122554139696}, {&quot;x&quot;: 2.6410256410256396, &quot;y&quot;: 2.3360560757462574, &quot;z&quot;: 0.013425471426724372}, {&quot;x&quot;: 2.6410256410256396, &quot;y&quot;: 2.416609733530611, &quot;z&quot;: 0.0023566709615838485}, {&quot;x&quot;: 2.6410256410256396, &quot;y&quot;: 2.497163391314965, &quot;z&quot;: -0.0072121540826771855}, {&quot;x&quot;: 2.6410256410256396, &quot;y&quot;: 2.5777170490993186, &quot;z&quot;: -0.015271334086431611}, {&quot;x&quot;: 2.6410256410256396, &quot;y&quot;: 2.6582707068836724, &quot;z&quot;: -0.02188789454853424}, {&quot;x&quot;: 2.6410256410256396, &quot;y&quot;: 2.738824364668026, &quot;z&quot;: -0.02717457611391243}, {&quot;x&quot;: 2.6410256410256396, &quot;y&quot;: 2.81937802245238, &quot;z&quot;: -0.031263476000133524}, {&quot;x&quot;: 2.6410256410256396, &quot;y&quot;: 2.8999316802367336, &quot;z&quot;: -0.03428540540168369}, {&quot;x&quot;: 2.6410256410256396, &quot;y&quot;: 2.9804853380210874, &quot;z&quot;: -0.036354849226243054}, {&quot;x&quot;: 2.6410256410256396, &quot;y&quot;: 3.061038995805441, &quot;z&quot;: -0.03755975387502058}, {&quot;x&quot;: 2.6410256410256396, &quot;y&quot;: 3.141592653589793, &quot;z&quot;: -0.03795515472741758}, {&quot;x&quot;: 2.6923076923076907, &quot;y&quot;: 0.08055365778435367, &quot;z&quot;: -0.03136448022157359}, {&quot;x&quot;: 2.6923076923076907, &quot;y&quot;: 0.0, &quot;z&quot;: -0.03172962127746245}, {&quot;x&quot;: 2.6923076923076907, &quot;y&quot;: 0.16110731556870733, &quot;z&quot;: -0.03025335783908365}, {&quot;x&quot;: 2.6923076923076907, &quot;y&quot;: 0.241660973353061, &quot;z&quot;: -0.02835015815294828}, {&quot;x&quot;: 2.6923076923076907, &quot;y&quot;: 0.32221463113741466, &quot;z&quot;: -0.02558156223753234}, {&quot;x&quot;: 2.6923076923076907, &quot;y&quot;: 0.4027682889217683, &quot;z&quot;: -0.02185285318968592}, {&quot;x&quot;: 2.6923076923076907, &quot;y&quot;: 0.48332194670612194, &quot;z&quot;: -0.017057092319962275}, {&quot;x&quot;: 2.6923076923076907, &quot;y&quot;: 0.5638756044904756, &quot;z&quot;: -0.011088399055383636}, {&quot;x&quot;: 2.6923076923076907, &quot;y&quot;: 0.6444292622748292, &quot;z&quot;: -0.0038598719978916235}, {&quot;x&quot;: 2.6923076923076907, &quot;y&quot;: 0.7249829200591829, &quot;z&quot;: 0.004673897237969843}, {&quot;x&quot;: 2.6923076923076907, &quot;y&quot;: 0.8055365778435365, &quot;z&quot;: 0.014490792030544333}, {&quot;x&quot;: 2.6923076923076907, &quot;y&quot;: 0.8860902356278901, &quot;z&quot;: 0.025474135707202455}, {&quot;x&quot;: 2.6923076923076907, &quot;y&quot;: 0.9666438934122438, &quot;z&quot;: 0.03738882735906832}, {&quot;x&quot;: 2.6923076923076907, &quot;y&quot;: 1.0471975511965974, &quot;z&quot;: 0.0498662809879236}, {&quot;x&quot;: 2.6923076923076907, &quot;y&quot;: 1.1277512089809512, &quot;z&quot;: 0.06240443737201068}, {&quot;x&quot;: 2.6923076923076907, &quot;y&quot;: 1.208304866765305, &quot;z&quot;: 0.0743882529364427}, {&quot;x&quot;: 2.6923076923076907, &quot;y&quot;: 1.2888585245496587, &quot;z&quot;: 0.08513324354925965}, {&quot;x&quot;: 2.6923076923076907, &quot;y&quot;: 1.3694121823340124, &quot;z&quot;: 0.09394997941916364}, {&quot;x&quot;: 2.6923076923076907, &quot;y&quot;: 1.4499658401183662, &quot;z&quot;: 0.10022180016840454}, {&quot;x&quot;: 2.6923076923076907, &quot;y&quot;: 1.53051949790272, &quot;z&quot;: 0.10348308865553513}, {&quot;x&quot;: 2.6923076923076907, &quot;y&quot;: 1.6110731556870737, &quot;z&quot;: 0.10348308865553513}, {&quot;x&quot;: 2.6923076923076907, &quot;y&quot;: 1.6916268134714274, &quot;z&quot;: 0.10022180016840451}, {&quot;x&quot;: 2.6923076923076907, &quot;y&quot;: 1.7721804712557812, &quot;z&quot;: 0.09394997941916362}, {&quot;x&quot;: 2.6923076923076907, &quot;y&quot;: 1.852734129040135, &quot;z&quot;: 0.08513324354925961}, {&quot;x&quot;: 2.6923076923076907, &quot;y&quot;: 1.9332877868244887, &quot;z&quot;: 0.07438825293644268}, {&quot;x&quot;: 2.6923076923076907, &quot;y&quot;: 2.0138414446088424, &quot;z&quot;: 0.062404437372010624}, {&quot;x&quot;: 2.6923076923076907, &quot;y&quot;: 2.094395102393196, &quot;z&quot;: 0.04986628098792357}, {&quot;x&quot;: 2.6923076923076907, &quot;y&quot;: 2.17494876017755, &quot;z&quot;: 0.03738882735906822}, {&quot;x&quot;: 2.6923076923076907, &quot;y&quot;: 2.2555024179619036, &quot;z&quot;: 0.025474135707202354}, {&quot;x&quot;: 2.6923076923076907, &quot;y&quot;: 2.3360560757462574, &quot;z&quot;: 0.014490792030544245}, {&quot;x&quot;: 2.6923076923076907, &quot;y&quot;: 2.416609733530611, &quot;z&quot;: 0.00467389723796977}, {&quot;x&quot;: 2.6923076923076907, &quot;y&quot;: 2.497163391314965, &quot;z&quot;: -0.0038598719978917015}, {&quot;x&quot;: 2.6923076923076907, &quot;y&quot;: 2.5777170490993186, &quot;z&quot;: -0.011088399055383709}, {&quot;x&quot;: 2.6923076923076907, &quot;y&quot;: 2.6582707068836724, &quot;z&quot;: -0.017057092319962372}, {&quot;x&quot;: 2.6923076923076907, &quot;y&quot;: 2.738824364668026, &quot;z&quot;: -0.021852853189685963}, {&quot;x&quot;: 2.6923076923076907, &quot;y&quot;: 2.81937802245238, &quot;z&quot;: -0.025581562237532385}, {&quot;x&quot;: 2.6923076923076907, &quot;y&quot;: 2.8999316802367336, &quot;z&quot;: -0.028350158152948324}, {&quot;x&quot;: 2.6923076923076907, &quot;y&quot;: 2.9804853380210874, &quot;z&quot;: -0.030253357839083686}, {&quot;x&quot;: 2.6923076923076907, &quot;y&quot;: 3.061038995805441, &quot;z&quot;: -0.03136448022157361}, {&quot;x&quot;: 2.6923076923076907, &quot;y&quot;: 3.141592653589793, &quot;z&quot;: -0.03172962127746245}, {&quot;x&quot;: 2.743589743589742, &quot;y&quot;: 0.08055365778435367, &quot;z&quot;: -0.02609549716342253}, {&quot;x&quot;: 2.743589743589742, &quot;y&quot;: 0.0, &quot;z&quot;: -0.026431831009845638}, {&quot;x&quot;: 2.743589743589742, &quot;y&quot;: 0.16110731556870733, &quot;z&quot;: -0.025073327400764418}, {&quot;x&quot;: 2.743589743589742, &quot;y&quot;: 0.241660973353061, &quot;z&quot;: -0.023326744988871558}, {&quot;x&quot;: 2.743589743589742, &quot;y&quot;: 0.32221463113741466, &quot;z&quot;: -0.020794684009972225}, {&quot;x&quot;: 2.743589743589742, &quot;y&quot;: 0.4027682889217683, &quot;z&quot;: -0.01739888175651874}, {&quot;x&quot;: 2.743589743589742, &quot;y&quot;: 0.48332194670612194, &quot;z&quot;: -0.013052092353960312}, {&quot;x&quot;: 2.743589743589742, &quot;y&quot;: 0.5638756044904756, &quot;z&quot;: -0.007669788846214589}, {&quot;x&quot;: 2.743589743589742, &quot;y&quot;: 0.6444292622748292, &quot;z&quot;: -0.0011857121757274317}, {&quot;x&quot;: 2.743589743589742, &quot;y&quot;: 0.7249829200591829, &quot;z&quot;: 0.0064288907406424255}, {&quot;x&quot;: 2.743589743589742, &quot;y&quot;: 0.8055365778435365, &quot;z&quot;: 0.015143367899488806}, {&quot;x&quot;: 2.743589743589742, &quot;y&quot;: 0.8860902356278901, &quot;z&quot;: 0.02484531818467128}, {&quot;x&quot;: 2.743589743589742, &quot;y&quot;: 0.9666438934122438, &quot;z&quot;: 0.035321348928776246}, {&quot;x&quot;: 2.743589743589742, &quot;y&quot;: 1.0471975511965974, &quot;z&quot;: 0.04624560349556004}, {&quot;x&quot;: 2.743589743589742, &quot;y&quot;: 1.1277512089809512, &quot;z&quot;: 0.057181139305215276}, {&quot;x&quot;: 2.743589743589742, &quot;y&quot;: 1.208304866765305, &quot;z&quot;: 0.06759840903628422}, {&quot;x&quot;: 2.743589743589742, &quot;y&quot;: 1.2888585245496587, &quot;z&quot;: 0.07691269682626718}, {&quot;x&quot;: 2.743589743589742, &quot;y&quot;: 1.3694121823340124, &quot;z&quot;: 0.08453851450655907}, {&quot;x&quot;: 2.743589743589742, &quot;y&quot;: 1.4499658401183662, &quot;z&quot;: 0.08995443052908594}, {&quot;x&quot;: 2.743589743589742, &quot;y&quot;: 1.53051949790272, &quot;z&quot;: 0.09276790390892772}, {&quot;x&quot;: 2.743589743589742, &quot;y&quot;: 1.6110731556870737, &quot;z&quot;: 0.09276790390892772}, {&quot;x&quot;: 2.743589743589742, &quot;y&quot;: 1.6916268134714274, &quot;z&quot;: 0.08995443052908594}, {&quot;x&quot;: 2.743589743589742, &quot;y&quot;: 1.7721804712557812, &quot;z&quot;: 0.08453851450655905}, {&quot;x&quot;: 2.743589743589742, &quot;y&quot;: 1.852734129040135, &quot;z&quot;: 0.07691269682626715}, {&quot;x&quot;: 2.743589743589742, &quot;y&quot;: 1.9332877868244887, &quot;z&quot;: 0.0675984090362842}, {&quot;x&quot;: 2.743589743589742, &quot;y&quot;: 2.0138414446088424, &quot;z&quot;: 0.05718113930521523}, {&quot;x&quot;: 2.743589743589742, &quot;y&quot;: 2.094395102393196, &quot;z&quot;: 0.046245603495560006}, {&quot;x&quot;: 2.743589743589742, &quot;y&quot;: 2.17494876017755, &quot;z&quot;: 0.03532134892877619}, {&quot;x&quot;: 2.743589743589742, &quot;y&quot;: 2.2555024179619036, &quot;z&quot;: 0.024845318184671214}, {&quot;x&quot;: 2.743589743589742, &quot;y&quot;: 2.3360560757462574, &quot;z&quot;: 0.015143367899488743}, {&quot;x&quot;: 2.743589743589742, &quot;y&quot;: 2.416609733530611, &quot;z&quot;: 0.006428890740642351}, {&quot;x&quot;: 2.743589743589742, &quot;y&quot;: 2.497163391314965, &quot;z&quot;: -0.0011857121757275048}, {&quot;x&quot;: 2.743589743589742, &quot;y&quot;: 2.5777170490993186, &quot;z&quot;: -0.007669788846214667}, {&quot;x&quot;: 2.743589743589742, &quot;y&quot;: 2.6582707068836724, &quot;z&quot;: -0.013052092353960385}, {&quot;x&quot;: 2.743589743589742, &quot;y&quot;: 2.738824364668026, &quot;z&quot;: -0.017398881756518804}, {&quot;x&quot;: 2.743589743589742, &quot;y&quot;: 2.81937802245238, &quot;z&quot;: -0.020794684009972256}, {&quot;x&quot;: 2.743589743589742, &quot;y&quot;: 2.8999316802367336, &quot;z&quot;: -0.023326744988871596}, {&quot;x&quot;: 2.743589743589742, &quot;y&quot;: 2.9804853380210874, &quot;z&quot;: -0.025073327400764435}, {&quot;x&quot;: 2.743589743589742, &quot;y&quot;: 3.061038995805441, &quot;z&quot;: -0.026095497163422576}, {&quot;x&quot;: 2.743589743589742, &quot;y&quot;: 3.141592653589793, &quot;z&quot;: -0.026431831009845638}, {&quot;x&quot;: 2.794871794871793, &quot;y&quot;: 0.08055365778435367, &quot;z&quot;: -0.021616596188786502}, {&quot;x&quot;: 2.794871794871793, &quot;y&quot;: 0.0, &quot;z&quot;: -0.021925758926362216}, {&quot;x&quot;: 2.794871794871793, &quot;y&quot;: 0.16110731556870733, &quot;z&quot;: -0.020678072038497794}, {&quot;x&quot;: 2.794871794871793, &quot;y&quot;: 0.241660973353061, &quot;z&quot;: -0.01907793184398822}, {&quot;x&quot;: 2.794871794871793, &quot;y&quot;: 0.32221463113741466, &quot;z&quot;: -0.016765370201662393}, {&quot;x&quot;: 2.794871794871793, &quot;y&quot;: 0.4027682889217683, &quot;z&quot;: -0.013675816426384005}, {&quot;x&quot;: 2.794871794871793, &quot;y&quot;: 0.48332194670612194, &quot;z&quot;: -0.009738264207417826}, {&quot;x&quot;: 2.794871794871793, &quot;y&quot;: 0.5638756044904756, &quot;z&quot;: -0.0048855675968286156}, {&quot;x&quot;: 2.794871794871793, &quot;y&quot;: 0.6444292622748292, &quot;z&quot;: 0.0009320725768317961}, {&quot;x&quot;: 2.794871794871793, &quot;y&quot;: 0.7249829200591829, &quot;z&quot;: 0.007730660498152776}, {&quot;x&quot;: 2.794871794871793, &quot;y&quot;: 0.8055365778435365, &quot;z&quot;: 0.015473961132196543}, {&quot;x&quot;: 2.794871794871793, &quot;y&quot;: 0.8860902356278901, &quot;z&quot;: 0.024055005925973098}, {&quot;x&quot;: 2.794871794871793, &quot;y&quot;: 0.9666438934122438, &quot;z&quot;: 0.03328056210774836}, {&quot;x&quot;: 2.794871794871793, &quot;y&quot;: 1.0471975511965974, &quot;z&quot;: 0.042862440962664415}, {&quot;x&quot;: 2.794871794871793, &quot;y&quot;: 1.1277512089809512, &quot;z&quot;: 0.05241977106743038}, {&quot;x&quot;: 2.794871794871793, &quot;y&quot;: 1.208304866765305, &quot;z&quot;: 0.061495588915800814}, {&quot;x&quot;: 2.794871794871793, &quot;y&quot;: 1.2888585245496587, &quot;z&quot;: 0.06958906067365454}, {&quot;x&quot;: 2.794871794871793, &quot;y&quot;: 1.3694121823340124, &quot;z&quot;: 0.07620148016562087}, {&quot;x&quot;: 2.794871794871793, &quot;y&quot;: 1.4499658401183662, &quot;z&quot;: 0.08089052452343472}, {&quot;x&quot;: 2.794871794871793, &quot;y&quot;: 1.53051949790272, &quot;z&quot;: 0.08332415100888732}, {&quot;x&quot;: 2.794871794871793, &quot;y&quot;: 1.6110731556870737, &quot;z&quot;: 0.0833241510088873}, {&quot;x&quot;: 2.794871794871793, &quot;y&quot;: 1.6916268134714274, &quot;z&quot;: 0.0808905245234347}, {&quot;x&quot;: 2.794871794871793, &quot;y&quot;: 1.7721804712557812, &quot;z&quot;: 0.07620148016562085}, {&quot;x&quot;: 2.794871794871793, &quot;y&quot;: 1.852734129040135, &quot;z&quot;: 0.06958906067365452}, {&quot;x&quot;: 2.794871794871793, &quot;y&quot;: 1.9332877868244887, &quot;z&quot;: 0.06149558891580078}, {&quot;x&quot;: 2.794871794871793, &quot;y&quot;: 2.0138414446088424, &quot;z&quot;: 0.052419771067430336}, {&quot;x&quot;: 2.794871794871793, &quot;y&quot;: 2.094395102393196, &quot;z&quot;: 0.042862440962664373}, {&quot;x&quot;: 2.794871794871793, &quot;y&quot;: 2.17494876017755, &quot;z&quot;: 0.033280562107748324}, {&quot;x&quot;: 2.794871794871793, &quot;y&quot;: 2.2555024179619036, &quot;z&quot;: 0.024055005925973042}, {&quot;x&quot;: 2.794871794871793, &quot;y&quot;: 2.3360560757462574, &quot;z&quot;: 0.015473961132196486}, {&quot;x&quot;: 2.794871794871793, &quot;y&quot;: 2.416609733530611, &quot;z&quot;: 0.007730660498152705}, {&quot;x&quot;: 2.794871794871793, &quot;y&quot;: 2.497163391314965, &quot;z&quot;: 0.0009320725768317351}, {&quot;x&quot;: 2.794871794871793, &quot;y&quot;: 2.5777170490993186, &quot;z&quot;: -0.004885567596828683}, {&quot;x&quot;: 2.794871794871793, &quot;y&quot;: 2.6582707068836724, &quot;z&quot;: -0.00973826420741789}, {&quot;x&quot;: 2.794871794871793, &quot;y&quot;: 2.738824364668026, &quot;z&quot;: -0.013675816426384064}, {&quot;x&quot;: 2.794871794871793, &quot;y&quot;: 2.81937802245238, &quot;z&quot;: -0.016765370201662445}, {&quot;x&quot;: 2.794871794871793, &quot;y&quot;: 2.8999316802367336, &quot;z&quot;: -0.019077931843988254}, {&quot;x&quot;: 2.794871794871793, &quot;y&quot;: 2.9804853380210874, &quot;z&quot;: -0.020678072038497818}, {&quot;x&quot;: 2.794871794871793, &quot;y&quot;: 3.061038995805441, &quot;z&quot;: -0.021616596188786516}, {&quot;x&quot;: 2.794871794871793, &quot;y&quot;: 3.141592653589793, &quot;z&quot;: -0.021925758926362216}, {&quot;x&quot;: 2.846153846153844, &quot;y&quot;: 0.08055365778435367, &quot;z&quot;: -0.017811575172981507}, {&quot;x&quot;: 2.846153846153844, &quot;y&quot;: 0.0, &quot;z&quot;: -0.018095295677850884}, {&quot;x&quot;: 2.846153846153844, &quot;y&quot;: 0.16110731556870733, &quot;z&quot;: -0.016951173447854753}, {&quot;x&quot;: 2.846153846153844, &quot;y&quot;: 0.241660973353061, &quot;z&quot;: -0.015487149646457848}, {&quot;x&quot;: 2.846153846153844, &quot;y&quot;: 0.32221463113741466, &quot;z&quot;: -0.013377287906846426}, {&quot;x&quot;: 2.846153846153844, &quot;y&quot;: 0.4027682889217683, &quot;z&quot;: -0.010568407942766958}, {&quot;x&quot;: 2.846153846153844, &quot;y&quot;: 0.48332194670612194, &quot;z&quot;: -0.007002890115985872}, {&quot;x&quot;: 2.846153846153844, &quot;y&quot;: 0.5638756044904756, &quot;z&quot;: -0.002627723968670927}, {&quot;x&quot;: 2.846153846153844, &quot;y&quot;: 0.6444292622748292, &quot;z&quot;: 0.0025937956060680637}, {&quot;x&quot;: 2.846153846153844, &quot;y&quot;: 0.7249829200591829, &quot;z&quot;: 0.008667995931492376}, {&quot;x&quot;: 2.846153846153844, &quot;y&quot;: 0.8055365778435365, &quot;z&quot;: 0.015555273155311078}, {&quot;x&quot;: 2.846153846153844, &quot;y&quot;: 0.8860902356278901, &quot;z&quot;: 0.023154762245471954}, {&quot;x&quot;: 2.846153846153844, &quot;y&quot;: 0.9666438934122438, &quot;z&quot;: 0.03129179216714852}, {&quot;x&quot;: 2.846153846153844, &quot;y&quot;: 1.0471975511965974, &quot;z&quot;: 0.03971134850310426}, {&quot;x&quot;: 2.846153846153844, &quot;y&quot;: 1.1277512089809512, &quot;z&quot;: 0.048080901639597357}, {&quot;x&quot;: 2.846153846153844, &quot;y&quot;: 1.208304866765305, &quot;z&quot;: 0.05600524740111023}, {&quot;x&quot;: 2.846153846153844, &quot;y&quot;: 1.2888585245496587, &quot;z&quot;: 0.06305427582460152}, {&quot;x&quot;: 2.846153846153844, &quot;y&quot;: 1.3694121823340124, &quot;z&quot;: 0.06880196713960497}, {&quot;x&quot;: 2.846153846153844, &quot;y&quot;: 1.4499658401183662, &quot;z&quot;: 0.07287194222202371}, {&quot;x&quot;: 2.846153846153844, &quot;y&quot;: 1.53051949790272, &quot;z&quot;: 0.07498242456617288}, {&quot;x&quot;: 2.846153846153844, &quot;y&quot;: 1.6110731556870737, &quot;z&quot;: 0.07498242456617278}, {&quot;x&quot;: 2.846153846153844, &quot;y&quot;: 1.6916268134714274, &quot;z&quot;: 0.07287194222202369}, {&quot;x&quot;: 2.846153846153844, &quot;y&quot;: 1.7721804712557812, &quot;z&quot;: 0.06880196713960497}, {&quot;x&quot;: 2.846153846153844, &quot;y&quot;: 1.852734129040135, &quot;z&quot;: 0.0630542758246015}, {&quot;x&quot;: 2.846153846153844, &quot;y&quot;: 1.9332877868244887, &quot;z&quot;: 0.056005247401110195}, {&quot;x&quot;: 2.846153846153844, &quot;y&quot;: 2.0138414446088424, &quot;z&quot;: 0.04808090163959733}, {&quot;x&quot;: 2.846153846153844, &quot;y&quot;: 2.094395102393196, &quot;z&quot;: 0.039711348503104246}, {&quot;x&quot;: 2.846153846153844, &quot;y&quot;: 2.17494876017755, &quot;z&quot;: 0.031291792167148495}, {&quot;x&quot;: 2.846153846153844, &quot;y&quot;: 2.2555024179619036, &quot;z&quot;: 0.02315476224547191}, {&quot;x&quot;: 2.846153846153844, &quot;y&quot;: 2.3360560757462574, &quot;z&quot;: 0.015555273155311031}, {&quot;x&quot;: 2.846153846153844, &quot;y&quot;: 2.416609733530611, &quot;z&quot;: 0.008667995931492308}, {&quot;x&quot;: 2.846153846153844, &quot;y&quot;: 2.497163391314965, &quot;z&quot;: 0.0025937956060680134}, {&quot;x&quot;: 2.846153846153844, &quot;y&quot;: 2.5777170490993186, &quot;z&quot;: -0.0026277239686709974}, {&quot;x&quot;: 2.846153846153844, &quot;y&quot;: 2.6582707068836724, &quot;z&quot;: -0.007002890115985938}, {&quot;x&quot;: 2.846153846153844, &quot;y&quot;: 2.738824364668026, &quot;z&quot;: -0.010568407942767002}, {&quot;x&quot;: 2.846153846153844, &quot;y&quot;: 2.81937802245238, &quot;z&quot;: -0.013377287906846471}, {&quot;x&quot;: 2.846153846153844, &quot;y&quot;: 2.8999316802367336, &quot;z&quot;: -0.015487149646457895}, {&quot;x&quot;: 2.846153846153844, &quot;y&quot;: 2.9804853380210874, &quot;z&quot;: -0.01695117344785477}, {&quot;x&quot;: 2.846153846153844, &quot;y&quot;: 3.061038995805441, &quot;z&quot;: -0.017811575172981514}, {&quot;x&quot;: 2.846153846153844, &quot;y&quot;: 3.141592653589793, &quot;z&quot;: -0.018095295677850884}, {&quot;x&quot;: 2.897435897435895, &quot;y&quot;: 0.08055365778435367, &quot;z&quot;: -0.01458132756646536}, {&quot;x&quot;: 2.897435897435895, &quot;y&quot;: 0.0, &quot;z&quot;: -0.014841361842889884}, {&quot;x&quot;: 2.897435897435895, &quot;y&quot;: 0.16110731556870733, &quot;z&quot;: -0.013793496354144279}, {&quot;x&quot;: 2.897435897435895, &quot;y&quot;: 0.241660973353061, &quot;z&quot;: -0.012455392343437136}, {&quot;x&quot;: 2.897435897435895, &quot;y&quot;: 0.32221463113741466, &quot;z&quot;: -0.01053198845989706}, {&quot;x&quot;: 2.897435897435895, &quot;y&quot;: 0.4027682889217683, &quot;z&quot;: -0.007979577316111585}, {&quot;x&quot;: 2.897435897435895, &quot;y&quot;: 0.48332194670612194, &quot;z&quot;: -0.0047515690094954}, {&quot;x&quot;: 2.897435897435895, &quot;y&quot;: 0.5638756044904756, &quot;z&quot;: -0.0008064368214811364}, {&quot;x&quot;: 2.897435897435895, &quot;y&quot;: 0.6444292622748292, &quot;z&quot;: 0.003882138466180667}, {&quot;x&quot;: 2.897435897435895, &quot;y&quot;: 0.7249829200591829, &quot;z&quot;: 0.009313219543290178}, {&quot;x&quot;: 2.897435897435895, &quot;y&quot;: 0.8055365778435365, &quot;z&quot;: 0.015445480608066827}, {&quot;x&quot;: 2.897435897435895, &quot;y&quot;: 0.8860902356278901, &quot;z&quot;: 0.02218448240855654}, {&quot;x&quot;: 2.897435897435895, &quot;y&quot;: 0.9666438934122438, &quot;z&quot;: 0.029372533216638137}, {&quot;x&quot;: 2.897435897435895, &quot;y&quot;: 1.0471975511965974, &quot;z&quot;: 0.03678381944556704}, {&quot;x&quot;: 2.897435897435895, &quot;y&quot;: 1.1277512089809512, &quot;z&quot;: 0.04412754491067246}, {&quot;x&quot;: 2.897435897435895, &quot;y&quot;: 1.208304866765305, &quot;z&quot;: 0.051061171433728736}, {&quot;x&quot;: 2.897435897435895, &quot;y&quot;: 1.2888585245496587, &quot;z&quot;: 0.05721438285035551}, {&quot;x&quot;: 2.897435897435895, &quot;y&quot;: 1.3694121823340124, &quot;z&quot;: 0.062222228228129096}, {&quot;x&quot;: 2.897435897435895, &quot;y&quot;: 1.4499658401183662, &quot;z&quot;: 0.06576348131523063}, {&quot;x&quot;: 2.897435897435895, &quot;y&quot;: 1.53051949790272, &quot;z&quot;: 0.06759827606959176}, {&quot;x&quot;: 2.897435897435895, &quot;y&quot;: 1.6110731556870737, &quot;z&quot;: 0.06759827606959172}, {&quot;x&quot;: 2.897435897435895, &quot;y&quot;: 1.6916268134714274, &quot;z&quot;: 0.06576348131523062}, {&quot;x&quot;: 2.897435897435895, &quot;y&quot;: 1.7721804712557812, &quot;z&quot;: 0.062222228228129096}, {&quot;x&quot;: 2.897435897435895, &quot;y&quot;: 1.852734129040135, &quot;z&quot;: 0.05721438285035549}, {&quot;x&quot;: 2.897435897435895, &quot;y&quot;: 1.9332877868244887, &quot;z&quot;: 0.05106117143372871}, {&quot;x&quot;: 2.897435897435895, &quot;y&quot;: 2.0138414446088424, &quot;z&quot;: 0.04412754491067243}, {&quot;x&quot;: 2.897435897435895, &quot;y&quot;: 2.094395102393196, &quot;z&quot;: 0.036783819445567016}, {&quot;x&quot;: 2.897435897435895, &quot;y&quot;: 2.17494876017755, &quot;z&quot;: 0.029372533216638106}, {&quot;x&quot;: 2.897435897435895, &quot;y&quot;: 2.2555024179619036, &quot;z&quot;: 0.02218448240855649}, {&quot;x&quot;: 2.897435897435895, &quot;y&quot;: 2.3360560757462574, &quot;z&quot;: 0.015445480608066789}, {&quot;x&quot;: 2.897435897435895, &quot;y&quot;: 2.416609733530611, &quot;z&quot;: 0.009313219543290119}, {&quot;x&quot;: 2.897435897435895, &quot;y&quot;: 2.497163391314965, &quot;z&quot;: 0.0038821384661806247}, {&quot;x&quot;: 2.897435897435895, &quot;y&quot;: 2.5777170490993186, &quot;z&quot;: -0.0008064368214811938}, {&quot;x&quot;: 2.897435897435895, &quot;y&quot;: 2.6582707068836724, &quot;z&quot;: -0.004751569009495455}, {&quot;x&quot;: 2.897435897435895, &quot;y&quot;: 2.738824364668026, &quot;z&quot;: -0.007979577316111635}, {&quot;x&quot;: 2.897435897435895, &quot;y&quot;: 2.81937802245238, &quot;z&quot;: -0.010531988459897104}, {&quot;x&quot;: 2.897435897435895, &quot;y&quot;: 2.8999316802367336, &quot;z&quot;: -0.012455392343437186}, {&quot;x&quot;: 2.897435897435895, &quot;y&quot;: 2.9804853380210874, &quot;z&quot;: -0.01379349635414429}, {&quot;x&quot;: 2.897435897435895, &quot;y&quot;: 3.061038995805441, &quot;z&quot;: -0.014581327566465385}, {&quot;x&quot;: 2.897435897435895, &quot;y&quot;: 3.141592653589793, &quot;z&quot;: -0.014841361842889884}, {&quot;x&quot;: 2.9487179487179462, &quot;y&quot;: 0.08055365778435367, &quot;z&quot;: -0.011841338767139794}, {&quot;x&quot;: 2.9487179487179462, &quot;y&quot;: 0.0, &quot;z&quot;: -0.012079423357256352}, {&quot;x&quot;: 2.9487179487179462, &quot;y&quot;: 0.16110731556870733, &quot;z&quot;: -0.011120629083694883}, {&quot;x&quot;: 2.9487179487179462, &quot;y&quot;: 0.241660973353061, &quot;z&quot;: -0.009898569258228414}, {&quot;x&quot;: 2.9487179487179462, &quot;y&quot;: 0.32221463113741466, &quot;z&quot;: -0.008146147086706508}, {&quot;x&quot;: 2.9487179487179462, &quot;y&quot;: 0.4027682889217683, &quot;z&quot;: -0.005827530736937607}, {&quot;x&quot;: 2.9487179487179462, &quot;y&quot;: 0.48332194670612194, &quot;z&quot;: -0.002905212721934817}, {&quot;x&quot;: 2.9487179487179462, &quot;y&quot;: 0.5638756044904756, &quot;z&quot;: 0.0006530167043393807}, {&quot;x&quot;: 2.9487179487179462, &quot;y&quot;: 0.6444292622748292, &quot;z&quot;: 0.004865269216024395}, {&quot;x&quot;: 2.9487179487179462, &quot;y&quot;: 0.7249829200591829, &quot;z&quot;: 0.009725233230812943}, {&quot;x&quot;: 2.9487179487179462, &quot;y&quot;: 0.8055365778435365, &quot;z&quot;: 0.015191072481807235}, {&quot;x&quot;: 2.9487179487179462, &quot;y&quot;: 0.8860902356278901, &quot;z&quot;: 0.02117484912412794}, {&quot;x&quot;: 2.9487179487179462, &quot;y&quot;: 0.9666438934122438, &quot;z&quot;: 0.027534326050603918}, {&quot;x&quot;: 2.9487179487179462, &quot;y&quot;: 1.0471975511965974, &quot;z&quot;: 0.034069387426638016}, {&quot;x&quot;: 2.9487179487179462, &quot;y&quot;: 1.1277512089809512, &quot;z&quot;: 0.04052531614382882}, {&quot;x&quot;: 2.9487179487179462, &quot;y&quot;: 1.208304866765305, &quot;z&quot;: 0.046604584661417904}, {&quot;x&quot;: 2.9487179487179462, &quot;y&quot;: 1.2888585245496587, &quot;z&quot;: 0.051987565577211195}, {&quot;x&quot;: 2.9487179487179462, &quot;y&quot;: 1.3694121823340124, &quot;z&quot;: 0.05636077033412363}, {&quot;x&quot;: 2.9487179487179462, &quot;y&quot;: 1.4499658401183662, &quot;z&quot;: 0.05944924924953886}, {&quot;x&quot;: 2.9487179487179462, &quot;y&quot;: 1.53051949790272, &quot;z&quot;: 0.06104819773354265}, {&quot;x&quot;: 2.9487179487179462, &quot;y&quot;: 1.6110731556870737, &quot;z&quot;: 0.06104819773354256}, {&quot;x&quot;: 2.9487179487179462, &quot;y&quot;: 1.6916268134714274, &quot;z&quot;: 0.05944924924953885}, {&quot;x&quot;: 2.9487179487179462, &quot;y&quot;: 1.7721804712557812, &quot;z&quot;: 0.05636077033412362}, {&quot;x&quot;: 2.9487179487179462, &quot;y&quot;: 1.852734129040135, &quot;z&quot;: 0.05198756557721119}, {&quot;x&quot;: 2.9487179487179462, &quot;y&quot;: 1.9332877868244887, &quot;z&quot;: 0.046604584661417876}, {&quot;x&quot;: 2.9487179487179462, &quot;y&quot;: 2.0138414446088424, &quot;z&quot;: 0.040525316143828795}, {&quot;x&quot;: 2.9487179487179462, &quot;y&quot;: 2.094395102393196, &quot;z&quot;: 0.034069387426637995}, {&quot;x&quot;: 2.9487179487179462, &quot;y&quot;: 2.17494876017755, &quot;z&quot;: 0.027534326050603887}, {&quot;x&quot;: 2.9487179487179462, &quot;y&quot;: 2.2555024179619036, &quot;z&quot;: 0.021174849124127898}, {&quot;x&quot;: 2.9487179487179462, &quot;y&quot;: 2.3360560757462574, &quot;z&quot;: 0.015191072481807203}, {&quot;x&quot;: 2.9487179487179462, &quot;y&quot;: 2.416609733530611, &quot;z&quot;: 0.009725233230812886}, {&quot;x&quot;: 2.9487179487179462, &quot;y&quot;: 2.497163391314965, &quot;z&quot;: 0.004865269216024351}, {&quot;x&quot;: 2.9487179487179462, &quot;y&quot;: 2.5777170490993186, &quot;z&quot;: 0.0006530167043393292}, {&quot;x&quot;: 2.9487179487179462, &quot;y&quot;: 2.6582707068836724, &quot;z&quot;: -0.002905212721934867}, {&quot;x&quot;: 2.9487179487179462, &quot;y&quot;: 2.738824364668026, &quot;z&quot;: -0.005827530736937637}, {&quot;x&quot;: 2.9487179487179462, &quot;y&quot;: 2.81937802245238, &quot;z&quot;: -0.008146147086706548}, {&quot;x&quot;: 2.9487179487179462, &quot;y&quot;: 2.8999316802367336, &quot;z&quot;: -0.009898569258228457}, {&quot;x&quot;: 2.9487179487179462, &quot;y&quot;: 2.9804853380210874, &quot;z&quot;: -0.011120629083694895}, {&quot;x&quot;: 2.9487179487179462, &quot;y&quot;: 3.061038995805441, &quot;z&quot;: -0.0118413387671398}, {&quot;x&quot;: 2.9487179487179462, &quot;y&quot;: 3.141592653589793, &quot;z&quot;: -0.012079423357256352}, {&quot;x&quot;: 3.0, &quot;y&quot;: 0.08055365778435367, &quot;z&quot;: -0.00951953901492432}, {&quot;x&quot;: 3.0, &quot;y&quot;: 0.0, &quot;z&quot;: -0.009737358804094142}, {&quot;x&quot;: 3.0, &quot;y&quot;: 0.16110731556870733, &quot;z&quot;: -0.008860694472051768}, {&quot;x&quot;: 3.0, &quot;y&quot;: 0.241660973353061, &quot;z&quot;: -0.00774525018733265}, {&quot;x&quot;: 3.0, &quot;y&quot;: 0.32221463113741466, &quot;z&quot;: -0.006149225167204325}, {&quot;x&quot;: 3.0, &quot;y&quot;: 0.4027682889217683, &quot;z&quot;: -0.0040433325097614155}, {&quot;x&quot;: 3.0, &quot;y&quot;: 0.48332194670612194, &quot;z&quot;: -0.0013975381138704402}, {&quot;x&quot;: 3.0, &quot;y&quot;: 0.5638756044904756, &quot;z&quot;: 0.0018128213197717016}, {&quot;x&quot;: 3.0, &quot;y&quot;: 0.6444292622748292, &quot;z&quot;: 0.0055994012303856215}, {&quot;x&quot;: 3.0, &quot;y&quot;: 0.7249829200591829, &quot;z&quot;: 0.009951993343351782}, {&quot;x&quot;: 3.0, &quot;y&quot;: 0.8055365778435365, &quot;z&quot;: 0.014829129017867145}, {&quot;x&quot;: 3.0, &quot;y&quot;: 0.8860902356278901, &quot;z&quot;: 0.020149276422823482}, {&quot;x&quot;: 3.0, &quot;y&quot;: 0.9666438934122438, &quot;z&quot;: 0.025784211625261334}, {&quot;x&quot;: 3.0, &quot;y&quot;: 1.0471975511965974, &quot;z&quot;: 0.03155643484828275}, {&quot;x&quot;: 3.0, &quot;y&quot;: 1.1277512089809512, &quot;z&quot;: 0.037242465426189524}, {&quot;x&quot;: 3.0, &quot;y&quot;: 1.208304866765305, &quot;z&quot;: 0.04258332784126777}, {&quot;x&quot;: 3.0, &quot;y&quot;: 1.2888585245496587, &quot;z&quot;: 0.04730247761755886}, {&quot;x&quot;: 3.0, &quot;y&quot;: 1.3694121823340124, &quot;z&quot;: 0.05112991984560324}, {&quot;x&quot;: 3.0, &quot;y&quot;: 1.4499658401183662, &quot;z&quot;: 0.053829654899701956}, {&quot;x&quot;: 3.0, &quot;y&quot;: 1.53051949790272, &quot;z&quot;: 0.05522630544812487}, {&quot;x&quot;: 3.0, &quot;y&quot;: 1.6110731556870737, &quot;z&quot;: 0.055226305448124756}, {&quot;x&quot;: 3.0, &quot;y&quot;: 1.6916268134714274, &quot;z&quot;: 0.053829654899701956}, {&quot;x&quot;: 3.0, &quot;y&quot;: 1.7721804712557812, &quot;z&quot;: 0.05112991984560323}, {&quot;x&quot;: 3.0, &quot;y&quot;: 1.852734129040135, &quot;z&quot;: 0.047302477617558854}, {&quot;x&quot;: 3.0, &quot;y&quot;: 1.9332877868244887, &quot;z&quot;: 0.04258332784126775}, {&quot;x&quot;: 3.0, &quot;y&quot;: 2.0138414446088424, &quot;z&quot;: 0.0372424654261895}, {&quot;x&quot;: 3.0, &quot;y&quot;: 2.094395102393196, &quot;z&quot;: 0.03155643484828274}, {&quot;x&quot;: 3.0, &quot;y&quot;: 2.17494876017755, &quot;z&quot;: 0.025784211625261302}, {&quot;x&quot;: 3.0, &quot;y&quot;: 2.2555024179619036, &quot;z&quot;: 0.020149276422823454}, {&quot;x&quot;: 3.0, &quot;y&quot;: 2.3360560757462574, &quot;z&quot;: 0.014829129017867114}, {&quot;x&quot;: 3.0, &quot;y&quot;: 2.416609733530611, &quot;z&quot;: 0.009951993343351733}, {&quot;x&quot;: 3.0, &quot;y&quot;: 2.497163391314965, &quot;z&quot;: 0.005599401230385579}, {&quot;x&quot;: 3.0, &quot;y&quot;: 2.5777170490993186, &quot;z&quot;: 0.0018128213197716484}, {&quot;x&quot;: 3.0, &quot;y&quot;: 2.6582707068836724, &quot;z&quot;: -0.0013975381138704901}, {&quot;x&quot;: 3.0, &quot;y&quot;: 2.738824364668026, &quot;z&quot;: -0.0040433325097614485}, {&quot;x&quot;: 3.0, &quot;y&quot;: 2.81937802245238, &quot;z&quot;: -0.006149225167204364}, {&quot;x&quot;: 3.0, &quot;y&quot;: 2.8999316802367336, &quot;z&quot;: -0.007745250187332684}, {&quot;x&quot;: 3.0, &quot;y&quot;: 2.9804853380210874, &quot;z&quot;: -0.008860694472051785}, {&quot;x&quot;: 3.0, &quot;y&quot;: 3.061038995805441, &quot;z&quot;: -0.009519539014924326}, {&quot;x&quot;: 3.0, &quot;y&quot;: 3.141592653589793, &quot;z&quot;: -0.009737358804094142}], &quot;faces&quot;: [[0, 1, 2, 3], [1, 4, 5, 2], [4, 6, 7, 5], [6, 8, 9, 7], [8, 10, 11, 9], [10, 12, 13, 11], [12, 14, 15, 13], [14, 16, 17, 15], [16, 18, 19, 17], [18, 20, 21, 19], [20, 22, 23, 21], [22, 24, 25, 23], [24, 26, 27, 25], [26, 28, 29, 27], [28, 30, 31, 29], [30, 32, 33, 31], [32, 34, 35, 33], [34, 36, 37, 35], [36, 38, 39, 37], [38, 40, 41, 39], [40, 42, 43, 41], [42, 44, 45, 43], [44, 46, 47, 45], [46, 48, 49, 47], [48, 50, 51, 49], [50, 52, 53, 51], [52, 54, 55, 53], [54, 56, 57, 55], [56, 58, 59, 57], [58, 60, 61, 59], [60, 62, 63, 61], [62, 64, 65, 63], [64, 66, 67, 65], [66, 68, 69, 67], [68, 70, 71, 69], [70, 72, 73, 71], [72, 74, 75, 73], [74, 76, 77, 75], [76, 78, 79, 77], [3, 2, 80, 81], [2, 5, 82, 80], [5, 7, 83, 82], [7, 9, 84, 83], [9, 11, 85, 84], [11, 13, 86, 85], [13, 15, 87, 86], [15, 17, 88, 87], [17, 19, 89, 88], [19, 21, 90, 89], [21, 23, 91, 90], [23, 25, 92, 91], [25, 27, 93, 92], [27, 29, 94, 93], [29, 31, 95, 94], [31, 33, 96, 95], [33, 35, 97, 96], [35, 37, 98, 97], [37, 39, 99, 98], [39, 41, 100, 99], [41, 43, 101, 100], [43, 45, 102, 101], [45, 47, 103, 102], [47, 49, 104, 103], [49, 51, 105, 104], [51, 53, 106, 105], [53, 55, 107, 106], [55, 57, 108, 107], [57, 59, 109, 108], [59, 61, 110, 109], [61, 63, 111, 110], [63, 65, 112, 111], [65, 67, 113, 112], [67, 69, 114, 113], [69, 71, 115, 114], [71, 73, 116, 115], [73, 75, 117, 116], [75, 77, 118, 117], [77, 79, 119, 118], [81, 80, 120, 121], [80, 82, 122, 120], [82, 83, 123, 122], [83, 84, 124, 123], [84, 85, 125, 124], [85, 86, 126, 125], [86, 87, 127, 126], [87, 88, 128, 127], [88, 89, 129, 128], [89, 90, 130, 129], [90, 91, 131, 130], [91, 92, 132, 131], [92, 93, 133, 132], [93, 94, 134, 133], [94, 95, 135, 134], [95, 96, 136, 135], [96, 97, 137, 136], [97, 98, 138, 137], [98, 99, 139, 138], [99, 100, 140, 139], [100, 101, 141, 140], [101, 102, 142, 141], [102, 103, 143, 142], [103, 104, 144, 143], [104, 105, 145, 144], [105, 106, 146, 145], [106, 107, 147, 146], [107, 108, 148, 147], [108, 109, 149, 148], [109, 110, 150, 149], [110, 111, 151, 150], [111, 112, 152, 151], [112, 113, 153, 152], [113, 114, 154, 153], [114, 115, 155, 154], [115, 116, 156, 155], [116, 117, 157, 156], [117, 118, 158, 157], [118, 119, 159, 158], [121, 120, 160, 161], [120, 122, 162, 160], [122, 123, 163, 162], [123, 124, 164, 163], [124, 125, 165, 164], [125, 126, 166, 165], [126, 127, 167, 166], [127, 128, 168, 167], [128, 129, 169, 168], [129, 130, 170, 169], [130, 131, 171, 170], [131, 132, 172, 171], [132, 133, 173, 172], [133, 134, 174, 173], [134, 135, 175, 174], [135, 136, 176, 175], [136, 137, 177, 176], [137, 138, 178, 177], [138, 139, 179, 178], [139, 140, 180, 179], [140, 141, 181, 180], [141, 142, 182, 181], [142, 143, 183, 182], [143, 144, 184, 183], [144, 145, 185, 184], [145, 146, 186, 185], [146, 147, 187, 186], [147, 148, 188, 187], [148, 149, 189, 188], [149, 150, 190, 189], [150, 151, 191, 190], [151, 152, 192, 191], [152, 153, 193, 192], [153, 154, 194, 193], [154, 155, 195, 194], [155, 156, 196, 195], [156, 157, 197, 196], [157, 158, 198, 197], [158, 159, 199, 198], [161, 160, 200, 201], [160, 162, 202, 200], [162, 163, 203, 202], [163, 164, 204, 203], [164, 165, 205, 204], [165, 166, 206, 205], [166, 167, 207, 206], [167, 168, 208, 207], [168, 169, 209, 208], [169, 170, 210, 209], [170, 171, 211, 210], [171, 172, 212, 211], [172, 173, 213, 212], [173, 174, 214, 213], [174, 175, 215, 214], [175, 176, 216, 215], [176, 177, 217, 216], [177, 178, 218, 217], [178, 179, 219, 218], [179, 180, 220, 219], [180, 181, 221, 220], [181, 182, 222, 221], [182, 183, 223, 222], [183, 184, 224, 223], [184, 185, 225, 224], [185, 186, 226, 225], [186, 187, 227, 226], [187, 188, 228, 227], [188, 189, 229, 228], [189, 190, 230, 229], [190, 191, 231, 230], [191, 192, 232, 231], [192, 193, 233, 232], [193, 194, 234, 233], [194, 195, 235, 234], [195, 196, 236, 235], [196, 197, 237, 236], [197, 198, 238, 237], [198, 199, 239, 238], [201, 200, 240, 241], [200, 202, 242, 240], [202, 203, 243, 242], [203, 204, 244, 243], [204, 205, 245, 244], [205, 206, 246, 245], [206, 207, 247, 246], [207, 208, 248, 247], [208, 209, 249, 248], [209, 210, 250, 249], [210, 211, 251, 250], [211, 212, 252, 251], [212, 213, 253, 252], [213, 214, 254, 253], [214, 215, 255, 254], [215, 216, 256, 255], [216, 217, 257, 256], [217, 218, 258, 257], [218, 219, 259, 258], [219, 220, 260, 259], [220, 221, 261, 260], [221, 222, 262, 261], [222, 223, 263, 262], [223, 224, 264, 263], [224, 225, 265, 264], [225, 226, 266, 265], [226, 227, 267, 266], [227, 228, 268, 267], [228, 229, 269, 268], [229, 230, 270, 269], [230, 231, 271, 270], [231, 232, 272, 271], [232, 233, 273, 272], [233, 234, 274, 273], [234, 235, 275, 274], [235, 236, 276, 275], [236, 237, 277, 276], [237, 238, 278, 277], [238, 239, 279, 278], [241, 240, 280, 281], [240, 242, 282, 280], [242, 243, 283, 282], [243, 244, 284, 283], [244, 245, 285, 284], [245, 246, 286, 285], [246, 247, 287, 286], [247, 248, 288, 287], [248, 249, 289, 288], [249, 250, 290, 289], [250, 251, 291, 290], [251, 252, 292, 291], [252, 253, 293, 292], [253, 254, 294, 293], [254, 255, 295, 294], [255, 256, 296, 295], [256, 257, 297, 296], [257, 258, 298, 297], [258, 259, 299, 298], [259, 260, 300, 299], [260, 261, 301, 300], [261, 262, 302, 301], [262, 263, 303, 302], [263, 264, 304, 303], [264, 265, 305, 304], [265, 266, 306, 305], [266, 267, 307, 306], [267, 268, 308, 307], [268, 269, 309, 308], [269, 270, 310, 309], [270, 271, 311, 310], [271, 272, 312, 311], [272, 273, 313, 312], [273, 274, 314, 313], [274, 275, 315, 314], [275, 276, 316, 315], [276, 277, 317, 316], [277, 278, 318, 317], [278, 279, 319, 318], [281, 280, 320, 321], [280, 282, 322, 320], [282, 283, 323, 322], [283, 284, 324, 323], [284, 285, 325, 324], [285, 286, 326, 325], [286, 287, 327, 326], [287, 288, 328, 327], [288, 289, 329, 328], [289, 290, 330, 329], [290, 291, 331, 330], [291, 292, 332, 331], [292, 293, 333, 332], [293, 294, 334, 333], [294, 295, 335, 334], [295, 296, 336, 335], [296, 297, 337, 336], [297, 298, 338, 337], [298, 299, 339, 338], [299, 300, 340, 339], [300, 301, 341, 340], [301, 302, 342, 341], [302, 303, 343, 342], [303, 304, 344, 343], [304, 305, 345, 344], [305, 306, 346, 345], [306, 307, 347, 346], [307, 308, 348, 347], [308, 309, 349, 348], [309, 310, 350, 349], [310, 311, 351, 350], [311, 312, 352, 351], [312, 313, 353, 352], [313, 314, 354, 353], [314, 315, 355, 354], [315, 316, 356, 355], [316, 317, 357, 356], [317, 318, 358, 357], [318, 319, 359, 358], [321, 320, 360, 361], [320, 322, 362, 360], [322, 323, 363, 362], [323, 324, 364, 363], [324, 325, 365, 364], [325, 326, 366, 365], [326, 327, 367, 366], [327, 328, 368, 367], [328, 329, 369, 368], [329, 330, 370, 369], [330, 331, 371, 370], [331, 332, 372, 371], [332, 333, 373, 372], [333, 334, 374, 373], [334, 335, 375, 374], [335, 336, 376, 375], [336, 337, 377, 376], [337, 338, 378, 377], [338, 339, 379, 378], [339, 340, 380, 379], [340, 341, 381, 380], [341, 342, 382, 381], [342, 343, 383, 382], [343, 344, 384, 383], [344, 345, 385, 384], [345, 346, 386, 385], [346, 347, 387, 386], [347, 348, 388, 387], [348, 349, 389, 388], [349, 350, 390, 389], [350, 351, 391, 390], [351, 352, 392, 391], [352, 353, 393, 392], [353, 354, 394, 393], [354, 355, 395, 394], [355, 356, 396, 395], [356, 357, 397, 396], [357, 358, 398, 397], [358, 359, 399, 398], [361, 360, 400, 401], [360, 362, 402, 400], [362, 363, 403, 402], [363, 364, 404, 403], [364, 365, 405, 404], [365, 366, 406, 405], [366, 367, 407, 406], [367, 368, 408, 407], [368, 369, 409, 408], [369, 370, 410, 409], [370, 371, 411, 410], [371, 372, 412, 411], [372, 373, 413, 412], [373, 374, 414, 413], [374, 375, 415, 414], [375, 376, 416, 415], [376, 377, 417, 416], [377, 378, 418, 417], [378, 379, 419, 418], [379, 380, 420, 419], [380, 381, 421, 420], [381, 382, 422, 421], [382, 383, 423, 422], [383, 384, 424, 423], [384, 385, 425, 424], [385, 386, 426, 425], [386, 387, 427, 426], [387, 388, 428, 427], [388, 389, 429, 428], [389, 390, 430, 429], [390, 391, 431, 430], [391, 392, 432, 431], [392, 393, 433, 432], [393, 394, 434, 433], [394, 395, 435, 434], [395, 396, 436, 435], [396, 397, 437, 436], [397, 398, 438, 437], [398, 399, 439, 438], [401, 400, 440, 441], [400, 402, 442, 440], [402, 403, 443, 442], [403, 404, 444, 443], [404, 405, 445, 444], [405, 406, 446, 445], [406, 407, 447, 446], [407, 408, 448, 447], [408, 409, 449, 448], [409, 410, 450, 449], [410, 411, 451, 450], [411, 412, 452, 451], [412, 413, 453, 452], [413, 414, 454, 453], [414, 415, 455, 454], [415, 416, 456, 455], [416, 417, 457, 456], [417, 418, 458, 457], [418, 419, 459, 458], [419, 420, 460, 459], [420, 421, 461, 460], [421, 422, 462, 461], [422, 423, 463, 462], [423, 424, 464, 463], [424, 425, 465, 464], [425, 426, 466, 465], [426, 427, 467, 466], [427, 428, 468, 467], [428, 429, 469, 468], [429, 430, 470, 469], [430, 431, 471, 470], [431, 432, 472, 471], [432, 433, 473, 472], [433, 434, 474, 473], [434, 435, 475, 474], [435, 436, 476, 475], [436, 437, 477, 476], [437, 438, 478, 477], [438, 439, 479, 478], [441, 440, 480, 481], [440, 442, 482, 480], [442, 443, 483, 482], [443, 444, 484, 483], [444, 445, 485, 484], [445, 446, 486, 485], [446, 447, 487, 486], [447, 448, 488, 487], [448, 449, 489, 488], [449, 450, 490, 489], [450, 451, 491, 490], [451, 452, 492, 491], [452, 453, 493, 492], [453, 454, 494, 493], [454, 455, 495, 494], [455, 456, 496, 495], [456, 457, 497, 496], [457, 458, 498, 497], [458, 459, 499, 498], [459, 460, 500, 499], [460, 461, 501, 500], [461, 462, 502, 501], [462, 463, 503, 502], [463, 464, 504, 503], [464, 465, 505, 504], [465, 466, 506, 505], [466, 467, 507, 506], [467, 468, 508, 507], [468, 469, 509, 508], [469, 470, 510, 509], [470, 471, 511, 510], [471, 472, 512, 511], [472, 473, 513, 512], [473, 474, 514, 513], [474, 475, 515, 514], [475, 476, 516, 515], [476, 477, 517, 516], [477, 478, 518, 517], [478, 479, 519, 518], [481, 480, 520, 521], [480, 482, 522, 520], [482, 483, 523, 522], [483, 484, 524, 523], [484, 485, 525, 524], [485, 486, 526, 525], [486, 487, 527, 526], [487, 488, 528, 527], [488, 489, 529, 528], [489, 490, 530, 529], [490, 491, 531, 530], [491, 492, 532, 531], [492, 493, 533, 532], [493, 494, 534, 533], [494, 495, 535, 534], [495, 496, 536, 535], [496, 497, 537, 536], [497, 498, 538, 537], [498, 499, 539, 538], [499, 500, 540, 539], [500, 501, 541, 540], [501, 502, 542, 541], [502, 503, 543, 542], [503, 504, 544, 543], [504, 505, 545, 544], [505, 506, 546, 545], [506, 507, 547, 546], [507, 508, 548, 547], [508, 509, 549, 548], [509, 510, 550, 549], [510, 511, 551, 550], [511, 512, 552, 551], [512, 513, 553, 552], [513, 514, 554, 553], [514, 515, 555, 554], [515, 516, 556, 555], [516, 517, 557, 556], [517, 518, 558, 557], [518, 519, 559, 558], [521, 520, 560, 561], [520, 522, 562, 560], [522, 523, 563, 562], [523, 524, 564, 563], [524, 525, 565, 564], [525, 526, 566, 565], [526, 527, 567, 566], [527, 528, 568, 567], [528, 529, 569, 568], [529, 530, 570, 569], [530, 531, 571, 570], [531, 532, 572, 571], [532, 533, 573, 572], [533, 534, 574, 573], [534, 535, 575, 574], [535, 536, 576, 575], [536, 537, 577, 576], [537, 538, 578, 577], [538, 539, 579, 578], [539, 540, 580, 579], [540, 541, 581, 580], [541, 542, 582, 581], [542, 543, 583, 582], [543, 544, 584, 583], [544, 545, 585, 584], [545, 546, 586, 585], [546, 547, 587, 586], [547, 548, 588, 587], [548, 549, 589, 588], [549, 550, 590, 589], [550, 551, 591, 590], [551, 552, 592, 591], [552, 553, 593, 592], [553, 554, 594, 593], [554, 555, 595, 594], [555, 556, 596, 595], [556, 557, 597, 596], [557, 558, 598, 597], [558, 559, 599, 598], [561, 560, 600, 601], [560, 562, 602, 600], [562, 563, 603, 602], [563, 564, 604, 603], [564, 565, 605, 604], [565, 566, 606, 605], [566, 567, 607, 606], [567, 568, 608, 607], [568, 569, 609, 608], [569, 570, 610, 609], [570, 571, 611, 610], [571, 572, 612, 611], [572, 573, 613, 612], [573, 574, 614, 613], [574, 575, 615, 614], [575, 576, 616, 615], [576, 577, 617, 616], [577, 578, 618, 617], [578, 579, 619, 618], [579, 580, 620, 619], [580, 581, 621, 620], [581, 582, 622, 621], [582, 583, 623, 622], [583, 584, 624, 623], [584, 585, 625, 624], [585, 586, 626, 625], [586, 587, 627, 626], [587, 588, 628, 627], [588, 589, 629, 628], [589, 590, 630, 629], [590, 591, 631, 630], [591, 592, 632, 631], [592, 593, 633, 632], [593, 594, 634, 633], [594, 595, 635, 634], [595, 596, 636, 635], [596, 597, 637, 636], [597, 598, 638, 637], [598, 599, 639, 638], [601, 600, 640, 641], [600, 602, 642, 640], [602, 603, 643, 642], [603, 604, 644, 643], [604, 605, 645, 644], [605, 606, 646, 645], [606, 607, 647, 646], [607, 608, 648, 647], [608, 609, 649, 648], [609, 610, 650, 649], [610, 611, 651, 650], [611, 612, 652, 651], [612, 613, 653, 652], [613, 614, 654, 653], [614, 615, 655, 654], [615, 616, 656, 655], [616, 617, 657, 656], [617, 618, 658, 657], [618, 619, 659, 658], [619, 620, 660, 659], [620, 621, 661, 660], [621, 622, 662, 661], [622, 623, 663, 662], [623, 624, 664, 663], [624, 625, 665, 664], [625, 626, 666, 665], [626, 627, 667, 666], [627, 628, 668, 667], [628, 629, 669, 668], [629, 630, 670, 669], [630, 631, 671, 670], [631, 632, 672, 671], [632, 633, 673, 672], [633, 634, 674, 673], [634, 635, 675, 674], [635, 636, 676, 675], [636, 637, 677, 676], [637, 638, 678, 677], [638, 639, 679, 678], [641, 640, 680, 681], [640, 642, 682, 680], [642, 643, 683, 682], [643, 644, 684, 683], [644, 645, 685, 684], [645, 646, 686, 685], [646, 647, 687, 686], [647, 648, 688, 687], [648, 649, 689, 688], [649, 650, 690, 689], [650, 651, 691, 690], [651, 652, 692, 691], [652, 653, 693, 692], [653, 654, 694, 693], [654, 655, 695, 694], [655, 656, 696, 695], [656, 657, 697, 696], [657, 658, 698, 697], [658, 659, 699, 698], [659, 660, 700, 699], [660, 661, 701, 700], [661, 662, 702, 701], [662, 663, 703, 702], [663, 664, 704, 703], [664, 665, 705, 704], [665, 666, 706, 705], [666, 667, 707, 706], [667, 668, 708, 707], [668, 669, 709, 708], [669, 670, 710, 709], [670, 671, 711, 710], [671, 672, 712, 711], [672, 673, 713, 712], [673, 674, 714, 713], [674, 675, 715, 714], [675, 676, 716, 715], [676, 677, 717, 716], [677, 678, 718, 717], [678, 679, 719, 718], [681, 680, 720, 721], [680, 682, 722, 720], [682, 683, 723, 722], [683, 684, 724, 723], [684, 685, 725, 724], [685, 686, 726, 725], [686, 687, 727, 726], [687, 688, 728, 727], [688, 689, 729, 728], [689, 690, 730, 729], [690, 691, 731, 730], [691, 692, 732, 731], [692, 693, 733, 732], [693, 694, 734, 733], [694, 695, 735, 734], [695, 696, 736, 735], [696, 697, 737, 736], [697, 698, 738, 737], [698, 699, 739, 738], [699, 700, 740, 739], [700, 701, 741, 740], [701, 702, 742, 741], [702, 703, 743, 742], [703, 704, 744, 743], [704, 705, 745, 744], [705, 706, 746, 745], [706, 707, 747, 746], [707, 708, 748, 747], [708, 709, 749, 748], [709, 710, 750, 749], [710, 711, 751, 750], [711, 712, 752, 751], [712, 713, 753, 752], [713, 714, 754, 753], [714, 715, 755, 754], [715, 716, 756, 755], [716, 717, 757, 756], [717, 718, 758, 757], [718, 719, 759, 758], [721, 720, 760, 761], [720, 722, 762, 760], [722, 723, 763, 762], [723, 724, 764, 763], [724, 725, 765, 764], [725, 726, 766, 765], [726, 727, 767, 766], [727, 728, 768, 767], [728, 729, 769, 768], [729, 730, 770, 769], [730, 731, 771, 770], [731, 732, 772, 771], [732, 733, 773, 772], [733, 734, 774, 773], [734, 735, 775, 774], [735, 736, 776, 775], [736, 737, 777, 776], [737, 738, 778, 777], [738, 739, 779, 778], [739, 740, 780, 779], [740, 741, 781, 780], [741, 742, 782, 781], [742, 743, 783, 782], [743, 744, 784, 783], [744, 745, 785, 784], [745, 746, 786, 785], [746, 747, 787, 786], [747, 748, 788, 787], [748, 749, 789, 788], [749, 750, 790, 789], [750, 751, 791, 790], [751, 752, 792, 791], [752, 753, 793, 792], [753, 754, 794, 793], [754, 755, 795, 794], [755, 756, 796, 795], [756, 757, 797, 796], [757, 758, 798, 797], [758, 759, 799, 798], [761, 760, 800, 801], [760, 762, 802, 800], [762, 763, 803, 802], [763, 764, 804, 803], [764, 765, 805, 804], [765, 766, 806, 805], [766, 767, 807, 806], [767, 768, 808, 807], [768, 769, 809, 808], [769, 770, 810, 809], [770, 771, 811, 810], [771, 772, 812, 811], [772, 773, 813, 812], [773, 774, 814, 813], [774, 775, 815, 814], [775, 776, 816, 815], [776, 777, 817, 816], [777, 778, 818, 817], [778, 779, 819, 818], [779, 780, 820, 819], [780, 781, 821, 820], [781, 782, 822, 821], [782, 783, 823, 822], [783, 784, 824, 823], [784, 785, 825, 824], [785, 786, 826, 825], [786, 787, 827, 826], [787, 788, 828, 827], [788, 789, 829, 828], [789, 790, 830, 829], [790, 791, 831, 830], [791, 792, 832, 831], [792, 793, 833, 832], [793, 794, 834, 833], [794, 795, 835, 834], [795, 796, 836, 835], [796, 797, 837, 836], [797, 798, 838, 837], [798, 799, 839, 838], [801, 800, 840, 841], [800, 802, 842, 840], [802, 803, 843, 842], [803, 804, 844, 843], [804, 805, 845, 844], [805, 806, 846, 845], [806, 807, 847, 846], [807, 808, 848, 847], [808, 809, 849, 848], [809, 810, 850, 849], [810, 811, 851, 850], [811, 812, 852, 851], [812, 813, 853, 852], [813, 814, 854, 853], [814, 815, 855, 854], [815, 816, 856, 855], [816, 817, 857, 856], [817, 818, 858, 857], [818, 819, 859, 858], [819, 820, 860, 859], [820, 821, 861, 860], [821, 822, 862, 861], [822, 823, 863, 862], [823, 824, 864, 863], [824, 825, 865, 864], [825, 826, 866, 865], [826, 827, 867, 866], [827, 828, 868, 867], [828, 829, 869, 868], [829, 830, 870, 869], [830, 831, 871, 870], [831, 832, 872, 871], [832, 833, 873, 872], [833, 834, 874, 873], [834, 835, 875, 874], [835, 836, 876, 875], [836, 837, 877, 876], [837, 838, 878, 877], [838, 839, 879, 878], [841, 840, 880, 881], [840, 842, 882, 880], [842, 843, 883, 882], [843, 844, 884, 883], [844, 845, 885, 884], [845, 846, 886, 885], [846, 847, 887, 886], [847, 848, 888, 887], [848, 849, 889, 888], [849, 850, 890, 889], [850, 851, 891, 890], [851, 852, 892, 891], [852, 853, 893, 892], [853, 854, 894, 893], [854, 855, 895, 894], [855, 856, 896, 895], [856, 857, 897, 896], [857, 858, 898, 897], [858, 859, 899, 898], [859, 860, 900, 899], [860, 861, 901, 900], [861, 862, 902, 901], [862, 863, 903, 902], [863, 864, 904, 903], [864, 865, 905, 904], [865, 866, 906, 905], [866, 867, 907, 906], [867, 868, 908, 907], [868, 869, 909, 908], [869, 870, 910, 909], [870, 871, 911, 910], [871, 872, 912, 911], [872, 873, 913, 912], [873, 874, 914, 913], [874, 875, 915, 914], [875, 876, 916, 915], [876, 877, 917, 916], [877, 878, 918, 917], [878, 879, 919, 918], [881, 880, 920, 921], [880, 882, 922, 920], [882, 883, 923, 922], [883, 884, 924, 923], [884, 885, 925, 924], [885, 886, 926, 925], [886, 887, 927, 926], [887, 888, 928, 927], [888, 889, 929, 928], [889, 890, 930, 929], [890, 891, 931, 930], [891, 892, 932, 931], [892, 893, 933, 932], [893, 894, 934, 933], [894, 895, 935, 934], [895, 896, 936, 935], [896, 897, 937, 936], [897, 898, 938, 937], [898, 899, 939, 938], [899, 900, 940, 939], [900, 901, 941, 940], [901, 902, 942, 941], [902, 903, 943, 942], [903, 904, 944, 943], [904, 905, 945, 944], [905, 906, 946, 945], [906, 907, 947, 946], [907, 908, 948, 947], [908, 909, 949, 948], [909, 910, 950, 949], [910, 911, 951, 950], [911, 912, 952, 951], [912, 913, 953, 952], [913, 914, 954, 953], [914, 915, 955, 954], [915, 916, 956, 955], [916, 917, 957, 956], [917, 918, 958, 957], [918, 919, 959, 958], [921, 920, 960, 961], [920, 922, 962, 960], [922, 923, 963, 962], [923, 924, 964, 963], [924, 925, 965, 964], [925, 926, 966, 965], [926, 927, 967, 966], [927, 928, 968, 967], [928, 929, 969, 968], [929, 930, 970, 969], [930, 931, 971, 970], [931, 932, 972, 971], [932, 933, 973, 972], [933, 934, 974, 973], [934, 935, 975, 974], [935, 936, 976, 975], [936, 937, 977, 976], [937, 938, 978, 977], [938, 939, 979, 978], [939, 940, 980, 979], [940, 941, 981, 980], [941, 942, 982, 981], [942, 943, 983, 982], [943, 944, 984, 983], [944, 945, 985, 984], [945, 946, 986, 985], [946, 947, 987, 986], [947, 948, 988, 987], [948, 949, 989, 988], [949, 950, 990, 989], [950, 951, 991, 990], [951, 952, 992, 991], [952, 953, 993, 992], [953, 954, 994, 993], [954, 955, 995, 994], [955, 956, 996, 995], [956, 957, 997, 996], [957, 958, 998, 997], [958, 959, 999, 998], [961, 960, 1000, 1001], [960, 962, 1002, 1000], [962, 963, 1003, 1002], [963, 964, 1004, 1003], [964, 965, 1005, 1004], [965, 966, 1006, 1005], [966, 967, 1007, 1006], [967, 968, 1008, 1007], [968, 969, 1009, 1008], [969, 970, 1010, 1009], [970, 971, 1011, 1010], [971, 972, 1012, 1011], [972, 973, 1013, 1012], [973, 974, 1014, 1013], [974, 975, 1015, 1014], [975, 976, 1016, 1015], [976, 977, 1017, 1016], [977, 978, 1018, 1017], [978, 979, 1019, 1018], [979, 980, 1020, 1019], [980, 981, 1021, 1020], [981, 982, 1022, 1021], [982, 983, 1023, 1022], [983, 984, 1024, 1023], [984, 985, 1025, 1024], [985, 986, 1026, 1025], [986, 987, 1027, 1026], [987, 988, 1028, 1027], [988, 989, 1029, 1028], [989, 990, 1030, 1029], [990, 991, 1031, 1030], [991, 992, 1032, 1031], [992, 993, 1033, 1032], [993, 994, 1034, 1033], [994, 995, 1035, 1034], [995, 996, 1036, 1035], [996, 997, 1037, 1036], [997, 998, 1038, 1037], [998, 999, 1039, 1038], [1001, 1000, 1040, 1041], [1000, 1002, 1042, 1040], [1002, 1003, 1043, 1042], [1003, 1004, 1044, 1043], [1004, 1005, 1045, 1044], [1005, 1006, 1046, 1045], [1006, 1007, 1047, 1046], [1007, 1008, 1048, 1047], [1008, 1009, 1049, 1048], [1009, 1010, 1050, 1049], [1010, 1011, 1051, 1050], [1011, 1012, 1052, 1051], [1012, 1013, 1053, 1052], [1013, 1014, 1054, 1053], [1014, 1015, 1055, 1054], [1015, 1016, 1056, 1055], [1016, 1017, 1057, 1056], [1017, 1018, 1058, 1057], [1018, 1019, 1059, 1058], [1019, 1020, 1060, 1059], [1020, 1021, 1061, 1060], [1021, 1022, 1062, 1061], [1022, 1023, 1063, 1062], [1023, 1024, 1064, 1063], [1024, 1025, 1065, 1064], [1025, 1026, 1066, 1065], [1026, 1027, 1067, 1066], [1027, 1028, 1068, 1067], [1028, 1029, 1069, 1068], [1029, 1030, 1070, 1069], [1030, 1031, 1071, 1070], [1031, 1032, 1072, 1071], [1032, 1033, 1073, 1072], [1033, 1034, 1074, 1073], [1034, 1035, 1075, 1074], [1035, 1036, 1076, 1075], [1036, 1037, 1077, 1076], [1037, 1038, 1078, 1077], [1038, 1039, 1079, 1078], [1041, 1040, 1080, 1081], [1040, 1042, 1082, 1080], [1042, 1043, 1083, 1082], [1043, 1044, 1084, 1083], [1044, 1045, 1085, 1084], [1045, 1046, 1086, 1085], [1046, 1047, 1087, 1086], [1047, 1048, 1088, 1087], [1048, 1049, 1089, 1088], [1049, 1050, 1090, 1089], [1050, 1051, 1091, 1090], [1051, 1052, 1092, 1091], [1052, 1053, 1093, 1092], [1053, 1054, 1094, 1093], [1054, 1055, 1095, 1094], [1055, 1056, 1096, 1095], [1056, 1057, 1097, 1096], [1057, 1058, 1098, 1097], [1058, 1059, 1099, 1098], [1059, 1060, 1100, 1099], [1060, 1061, 1101, 1100], [1061, 1062, 1102, 1101], [1062, 1063, 1103, 1102], [1063, 1064, 1104, 1103], [1064, 1065, 1105, 1104], [1065, 1066, 1106, 1105], [1066, 1067, 1107, 1106], [1067, 1068, 1108, 1107], [1068, 1069, 1109, 1108], [1069, 1070, 1110, 1109], [1070, 1071, 1111, 1110], [1071, 1072, 1112, 1111], [1072, 1073, 1113, 1112], [1073, 1074, 1114, 1113], [1074, 1075, 1115, 1114], [1075, 1076, 1116, 1115], [1076, 1077, 1117, 1116], [1077, 1078, 1118, 1117], [1078, 1079, 1119, 1118], [1081, 1080, 1120, 1121], [1080, 1082, 1122, 1120], [1082, 1083, 1123, 1122], [1083, 1084, 1124, 1123], [1084, 1085, 1125, 1124], [1085, 1086, 1126, 1125], [1086, 1087, 1127, 1126], [1087, 1088, 1128, 1127], [1088, 1089, 1129, 1128], [1089, 1090, 1130, 1129], [1090, 1091, 1131, 1130], [1091, 1092, 1132, 1131], [1092, 1093, 1133, 1132], [1093, 1094, 1134, 1133], [1094, 1095, 1135, 1134], [1095, 1096, 1136, 1135], [1096, 1097, 1137, 1136], [1097, 1098, 1138, 1137], [1098, 1099, 1139, 1138], [1099, 1100, 1140, 1139], [1100, 1101, 1141, 1140], [1101, 1102, 1142, 1141], [1102, 1103, 1143, 1142], [1103, 1104, 1144, 1143], [1104, 1105, 1145, 1144], [1105, 1106, 1146, 1145], [1106, 1107, 1147, 1146], [1107, 1108, 1148, 1147], [1108, 1109, 1149, 1148], [1109, 1110, 1150, 1149], [1110, 1111, 1151, 1150], [1111, 1112, 1152, 1151], [1112, 1113, 1153, 1152], [1113, 1114, 1154, 1153], [1114, 1115, 1155, 1154], [1115, 1116, 1156, 1155], [1116, 1117, 1157, 1156], [1117, 1118, 1158, 1157], [1118, 1119, 1159, 1158], [1121, 1120, 1160, 1161], [1120, 1122, 1162, 1160], [1122, 1123, 1163, 1162], [1123, 1124, 1164, 1163], [1124, 1125, 1165, 1164], [1125, 1126, 1166, 1165], [1126, 1127, 1167, 1166], [1127, 1128, 1168, 1167], [1128, 1129, 1169, 1168], [1129, 1130, 1170, 1169], [1130, 1131, 1171, 1170], [1131, 1132, 1172, 1171], [1132, 1133, 1173, 1172], [1133, 1134, 1174, 1173], [1134, 1135, 1175, 1174], [1135, 1136, 1176, 1175], [1136, 1137, 1177, 1176], [1137, 1138, 1178, 1177], [1138, 1139, 1179, 1178], [1139, 1140, 1180, 1179], [1140, 1141, 1181, 1180], [1141, 1142, 1182, 1181], [1142, 1143, 1183, 1182], [1143, 1144, 1184, 1183], [1144, 1145, 1185, 1184], [1145, 1146, 1186, 1185], [1146, 1147, 1187, 1186], [1147, 1148, 1188, 1187], [1148, 1149, 1189, 1188], [1149, 1150, 1190, 1189], [1150, 1151, 1191, 1190], [1151, 1152, 1192, 1191], [1152, 1153, 1193, 1192], [1153, 1154, 1194, 1193], [1154, 1155, 1195, 1194], [1155, 1156, 1196, 1195], [1156, 1157, 1197, 1196], [1157, 1158, 1198, 1197], [1158, 1159, 1199, 1198], [1161, 1160, 1200, 1201], [1160, 1162, 1202, 1200], [1162, 1163, 1203, 1202], [1163, 1164, 1204, 1203], [1164, 1165, 1205, 1204], [1165, 1166, 1206, 1205], [1166, 1167, 1207, 1206], [1167, 1168, 1208, 1207], [1168, 1169, 1209, 1208], [1169, 1170, 1210, 1209], [1170, 1171, 1211, 1210], [1171, 1172, 1212, 1211], [1172, 1173, 1213, 1212], [1173, 1174, 1214, 1213], [1174, 1175, 1215, 1214], [1175, 1176, 1216, 1215], [1176, 1177, 1217, 1216], [1177, 1178, 1218, 1217], [1178, 1179, 1219, 1218], [1179, 1180, 1220, 1219], [1180, 1181, 1221, 1220], [1181, 1182, 1222, 1221], [1182, 1183, 1223, 1222], [1183, 1184, 1224, 1223], [1184, 1185, 1225, 1224], [1185, 1186, 1226, 1225], [1186, 1187, 1227, 1226], [1187, 1188, 1228, 1227], [1188, 1189, 1229, 1228], [1189, 1190, 1230, 1229], [1190, 1191, 1231, 1230], [1191, 1192, 1232, 1231], [1192, 1193, 1233, 1232], [1193, 1194, 1234, 1233], [1194, 1195, 1235, 1234], [1195, 1196, 1236, 1235], [1196, 1197, 1237, 1236], [1197, 1198, 1238, 1237], [1198, 1199, 1239, 1238], [1201, 1200, 1240, 1241], [1200, 1202, 1242, 1240], [1202, 1203, 1243, 1242], [1203, 1204, 1244, 1243], [1204, 1205, 1245, 1244], [1205, 1206, 1246, 1245], [1206, 1207, 1247, 1246], [1207, 1208, 1248, 1247], [1208, 1209, 1249, 1248], [1209, 1210, 1250, 1249], [1210, 1211, 1251, 1250], [1211, 1212, 1252, 1251], [1212, 1213, 1253, 1252], [1213, 1214, 1254, 1253], [1214, 1215, 1255, 1254], [1215, 1216, 1256, 1255], [1216, 1217, 1257, 1256], [1217, 1218, 1258, 1257], [1218, 1219, 1259, 1258], [1219, 1220, 1260, 1259], [1220, 1221, 1261, 1260], [1221, 1222, 1262, 1261], [1222, 1223, 1263, 1262], [1223, 1224, 1264, 1263], [1224, 1225, 1265, 1264], [1225, 1226, 1266, 1265], [1226, 1227, 1267, 1266], [1227, 1228, 1268, 1267], [1228, 1229, 1269, 1268], [1229, 1230, 1270, 1269], [1230, 1231, 1271, 1270], [1231, 1232, 1272, 1271], [1232, 1233, 1273, 1272], [1233, 1234, 1274, 1273], [1234, 1235, 1275, 1274], [1235, 1236, 1276, 1275], [1236, 1237, 1277, 1276], [1237, 1238, 1278, 1277], [1238, 1239, 1279, 1278], [1241, 1240, 1280, 1281], [1240, 1242, 1282, 1280], [1242, 1243, 1283, 1282], [1243, 1244, 1284, 1283], [1244, 1245, 1285, 1284], [1245, 1246, 1286, 1285], [1246, 1247, 1287, 1286], [1247, 1248, 1288, 1287], [1248, 1249, 1289, 1288], [1249, 1250, 1290, 1289], [1250, 1251, 1291, 1290], [1251, 1252, 1292, 1291], [1252, 1253, 1293, 1292], [1253, 1254, 1294, 1293], [1254, 1255, 1295, 1294], [1255, 1256, 1296, 1295], [1256, 1257, 1297, 1296], [1257, 1258, 1298, 1297], [1258, 1259, 1299, 1298], [1259, 1260, 1300, 1299], [1260, 1261, 1301, 1300], [1261, 1262, 1302, 1301], [1262, 1263, 1303, 1302], [1263, 1264, 1304, 1303], [1264, 1265, 1305, 1304], [1265, 1266, 1306, 1305], [1266, 1267, 1307, 1306], [1267, 1268, 1308, 1307], [1268, 1269, 1309, 1308], [1269, 1270, 1310, 1309], [1270, 1271, 1311, 1310], [1271, 1272, 1312, 1311], [1272, 1273, 1313, 1312], [1273, 1274, 1314, 1313], [1274, 1275, 1315, 1314], [1275, 1276, 1316, 1315], [1276, 1277, 1317, 1316], [1277, 1278, 1318, 1317], [1278, 1279, 1319, 1318], [1281, 1280, 1320, 1321], [1280, 1282, 1322, 1320], [1282, 1283, 1323, 1322], [1283, 1284, 1324, 1323], [1284, 1285, 1325, 1324], [1285, 1286, 1326, 1325], [1286, 1287, 1327, 1326], [1287, 1288, 1328, 1327], [1288, 1289, 1329, 1328], [1289, 1290, 1330, 1329], [1290, 1291, 1331, 1330], [1291, 1292, 1332, 1331], [1292, 1293, 1333, 1332], [1293, 1294, 1334, 1333], [1294, 1295, 1335, 1334], [1295, 1296, 1336, 1335], [1296, 1297, 1337, 1336], [1297, 1298, 1338, 1337], [1298, 1299, 1339, 1338], [1299, 1300, 1340, 1339], [1300, 1301, 1341, 1340], [1301, 1302, 1342, 1341], [1302, 1303, 1343, 1342], [1303, 1304, 1344, 1343], [1304, 1305, 1345, 1344], [1305, 1306, 1346, 1345], [1306, 1307, 1347, 1346], [1307, 1308, 1348, 1347], [1308, 1309, 1349, 1348], [1309, 1310, 1350, 1349], [1310, 1311, 1351, 1350], [1311, 1312, 1352, 1351], [1312, 1313, 1353, 1352], [1313, 1314, 1354, 1353], [1314, 1315, 1355, 1354], [1315, 1316, 1356, 1355], [1316, 1317, 1357, 1356], [1317, 1318, 1358, 1357], [1318, 1319, 1359, 1358], [1321, 1320, 1360, 1361], [1320, 1322, 1362, 1360], [1322, 1323, 1363, 1362], [1323, 1324, 1364, 1363], [1324, 1325, 1365, 1364], [1325, 1326, 1366, 1365], [1326, 1327, 1367, 1366], [1327, 1328, 1368, 1367], [1328, 1329, 1369, 1368], [1329, 1330, 1370, 1369], [1330, 1331, 1371, 1370], [1331, 1332, 1372, 1371], [1332, 1333, 1373, 1372], [1333, 1334, 1374, 1373], [1334, 1335, 1375, 1374], [1335, 1336, 1376, 1375], [1336, 1337, 1377, 1376], [1337, 1338, 1378, 1377], [1338, 1339, 1379, 1378], [1339, 1340, 1380, 1379], [1340, 1341, 1381, 1380], [1341, 1342, 1382, 1381], [1342, 1343, 1383, 1382], [1343, 1344, 1384, 1383], [1344, 1345, 1385, 1384], [1345, 1346, 1386, 1385], [1346, 1347, 1387, 1386], [1347, 1348, 1388, 1387], [1348, 1349, 1389, 1388], [1349, 1350, 1390, 1389], [1350, 1351, 1391, 1390], [1351, 1352, 1392, 1391], [1352, 1353, 1393, 1392], [1353, 1354, 1394, 1393], [1354, 1355, 1395, 1394], [1355, 1356, 1396, 1395], [1356, 1357, 1397, 1396], [1357, 1358, 1398, 1397], [1358, 1359, 1399, 1398], [1361, 1360, 1400, 1401], [1360, 1362, 1402, 1400], [1362, 1363, 1403, 1402], [1363, 1364, 1404, 1403], [1364, 1365, 1405, 1404], [1365, 1366, 1406, 1405], [1366, 1367, 1407, 1406], [1367, 1368, 1408, 1407], [1368, 1369, 1409, 1408], [1369, 1370, 1410, 1409], [1370, 1371, 1411, 1410], [1371, 1372, 1412, 1411], [1372, 1373, 1413, 1412], [1373, 1374, 1414, 1413], [1374, 1375, 1415, 1414], [1375, 1376, 1416, 1415], [1376, 1377, 1417, 1416], [1377, 1378, 1418, 1417], [1378, 1379, 1419, 1418], [1379, 1380, 1420, 1419], [1380, 1381, 1421, 1420], [1381, 1382, 1422, 1421], [1382, 1383, 1423, 1422], [1383, 1384, 1424, 1423], [1384, 1385, 1425, 1424], [1385, 1386, 1426, 1425], [1386, 1387, 1427, 1426], [1387, 1388, 1428, 1427], [1388, 1389, 1429, 1428], [1389, 1390, 1430, 1429], [1390, 1391, 1431, 1430], [1391, 1392, 1432, 1431], [1392, 1393, 1433, 1432], [1393, 1394, 1434, 1433], [1394, 1395, 1435, 1434], [1395, 1396, 1436, 1435], [1396, 1397, 1437, 1436], [1397, 1398, 1438, 1437], [1398, 1399, 1439, 1438], [1401, 1400, 1440, 1441], [1400, 1402, 1442, 1440], [1402, 1403, 1443, 1442], [1403, 1404, 1444, 1443], [1404, 1405, 1445, 1444], [1405, 1406, 1446, 1445], [1406, 1407, 1447, 1446], [1407, 1408, 1448, 1447], [1408, 1409, 1449, 1448], [1409, 1410, 1450, 1449], [1410, 1411, 1451, 1450], [1411, 1412, 1452, 1451], [1412, 1413, 1453, 1452], [1413, 1414, 1454, 1453], [1414, 1415, 1455, 1454], [1415, 1416, 1456, 1455], [1416, 1417, 1457, 1456], [1417, 1418, 1458, 1457], [1418, 1419, 1459, 1458], [1419, 1420, 1460, 1459], [1420, 1421, 1461, 1460], [1421, 1422, 1462, 1461], [1422, 1423, 1463, 1462], [1423, 1424, 1464, 1463], [1424, 1425, 1465, 1464], [1425, 1426, 1466, 1465], [1426, 1427, 1467, 1466], [1427, 1428, 1468, 1467], [1428, 1429, 1469, 1468], [1429, 1430, 1470, 1469], [1430, 1431, 1471, 1470], [1431, 1432, 1472, 1471], [1432, 1433, 1473, 1472], [1433, 1434, 1474, 1473], [1434, 1435, 1475, 1474], [1435, 1436, 1476, 1475], [1436, 1437, 1477, 1476], [1437, 1438, 1478, 1477], [1438, 1439, 1479, 1478], [1441, 1440, 1480, 1481], [1440, 1442, 1482, 1480], [1442, 1443, 1483, 1482], [1443, 1444, 1484, 1483], [1444, 1445, 1485, 1484], [1445, 1446, 1486, 1485], [1446, 1447, 1487, 1486], [1447, 1448, 1488, 1487], [1448, 1449, 1489, 1488], [1449, 1450, 1490, 1489], [1450, 1451, 1491, 1490], [1451, 1452, 1492, 1491], [1452, 1453, 1493, 1492], [1453, 1454, 1494, 1493], [1454, 1455, 1495, 1494], [1455, 1456, 1496, 1495], [1456, 1457, 1497, 1496], [1457, 1458, 1498, 1497], [1458, 1459, 1499, 1498], [1459, 1460, 1500, 1499], [1460, 1461, 1501, 1500], [1461, 1462, 1502, 1501], [1462, 1463, 1503, 1502], [1463, 1464, 1504, 1503], [1464, 1465, 1505, 1504], [1465, 1466, 1506, 1505], [1466, 1467, 1507, 1506], [1467, 1468, 1508, 1507], [1468, 1469, 1509, 1508], [1469, 1470, 1510, 1509], [1470, 1471, 1511, 1510], [1471, 1472, 1512, 1511], [1472, 1473, 1513, 1512], [1473, 1474, 1514, 1513], [1474, 1475, 1515, 1514], [1475, 1476, 1516, 1515], [1476, 1477, 1517, 1516], [1477, 1478, 1518, 1517], [1478, 1479, 1519, 1518], [1481, 1480, 1520, 1521], [1480, 1482, 1522, 1520], [1482, 1483, 1523, 1522], [1483, 1484, 1524, 1523], [1484, 1485, 1525, 1524], [1485, 1486, 1526, 1525], [1486, 1487, 1527, 1526], [1487, 1488, 1528, 1527], [1488, 1489, 1529, 1528], [1489, 1490, 1530, 1529], [1490, 1491, 1531, 1530], [1491, 1492, 1532, 1531], [1492, 1493, 1533, 1532], [1493, 1494, 1534, 1533], [1494, 1495, 1535, 1534], [1495, 1496, 1536, 1535], [1496, 1497, 1537, 1536], [1497, 1498, 1538, 1537], [1498, 1499, 1539, 1538], [1499, 1500, 1540, 1539], [1500, 1501, 1541, 1540], [1501, 1502, 1542, 1541], [1502, 1503, 1543, 1542], [1503, 1504, 1544, 1543], [1504, 1505, 1545, 1544], [1505, 1506, 1546, 1545], [1506, 1507, 1547, 1546], [1507, 1508, 1548, 1547], [1508, 1509, 1549, 1548], [1509, 1510, 1550, 1549], [1510, 1511, 1551, 1550], [1511, 1512, 1552, 1551], [1512, 1513, 1553, 1552], [1513, 1514, 1554, 1553], [1514, 1515, 1555, 1554], [1515, 1516, 1556, 1555], [1516, 1517, 1557, 1556], [1517, 1518, 1558, 1557], [1518, 1519, 1559, 1558], [1521, 1520, 1560, 1561], [1520, 1522, 1562, 1560], [1522, 1523, 1563, 1562], [1523, 1524, 1564, 1563], [1524, 1525, 1565, 1564], [1525, 1526, 1566, 1565], [1526, 1527, 1567, 1566], [1527, 1528, 1568, 1567], [1528, 1529, 1569, 1568], [1529, 1530, 1570, 1569], [1530, 1531, 1571, 1570], [1531, 1532, 1572, 1571], [1532, 1533, 1573, 1572], [1533, 1534, 1574, 1573], [1534, 1535, 1575, 1574], [1535, 1536, 1576, 1575], [1536, 1537, 1577, 1576], [1537, 1538, 1578, 1577], [1538, 1539, 1579, 1578], [1539, 1540, 1580, 1579], [1540, 1541, 1581, 1580], [1541, 1542, 1582, 1581], [1542, 1543, 1583, 1582], [1543, 1544, 1584, 1583], [1544, 1545, 1585, 1584], [1545, 1546, 1586, 1585], [1546, 1547, 1587, 1586], [1547, 1548, 1588, 1587], [1548, 1549, 1589, 1588], [1549, 1550, 1590, 1589], [1550, 1551, 1591, 1590], [1551, 1552, 1592, 1591], [1552, 1553, 1593, 1592], [1553, 1554, 1594, 1593], [1554, 1555, 1595, 1594], [1555, 1556, 1596, 1595], [1556, 1557, 1597, 1596], [1557, 1558, 1598, 1597], [1558, 1559, 1599, 1598]], &quot;color&quot;: &quot;#6666ff&quot;, &quot;opacity&quot;: 1.0}];\n",
       "    for ( var i=0 ; i < surfaces.length ; i++ ) addSurface( surfaces[i] );\n",
       "\n",
       "    function addSurface( json ) {\n",
       "\n",
       "        var useFaceColors = 'faceColors' in json ? true : false;\n",
       "\n",
       "        var geometry = new THREE.Geometry();\n",
       "        for ( var i=0 ; i < json.vertices.length ; i++ ) {\n",
       "            var v = json.vertices[i];\n",
       "            geometry.vertices.push( new THREE.Vector3( a[0]*v.x, a[1]*v.y, a[2]*v.z ) );\n",
       "        }\n",
       "        for ( var i=0 ; i < json.faces.length ; i++ ) {\n",
       "            var f = json.faces[i];\n",
       "            for ( var j=0 ; j < f.length - 2 ; j++ ) {\n",
       "                var face = new THREE.Face3( f[0], f[j+1], f[j+2] );\n",
       "                if ( useFaceColors ) face.color.set( json.faceColors[i] );\n",
       "                geometry.faces.push( face );\n",
       "            }\n",
       "        }\n",
       "        geometry.computeVertexNormals();\n",
       "\n",
       "        var side = json.singleSide ? THREE.FrontSide : THREE.DoubleSide;\n",
       "        var transparent = json.opacity < 1 ? true : false;\n",
       "        var flatShading = json.useFlatShading ? json.useFlatShading : false;\n",
       "\n",
       "        var material = new THREE.MeshPhongMaterial( { side: side,\n",
       "                                     color: useFaceColors ? 'white' : json.color,\n",
       "                                     vertexColors: useFaceColors ? THREE.FaceColors : THREE.NoColors,\n",
       "                                     transparent: transparent, opacity: json.opacity,\n",
       "                                     shininess: 20, flatShading: flatShading } );\n",
       "\n",
       "        var c = new THREE.Vector3();\n",
       "        geometry.computeBoundingBox();\n",
       "        geometry.boundingBox.getCenter( c );\n",
       "        geometry.translate( -c.x, -c.y, -c.z );\n",
       "\n",
       "        var mesh = new THREE.Mesh( geometry, material );\n",
       "        mesh.position.set( c.x, c.y, c.z );\n",
       "        if ( transparent && json.renderOrder ) mesh.renderOrder = json.renderOrder;\n",
       "        mesh.userData = json;\n",
       "        scene.add( mesh );\n",
       "\n",
       "        if ( json.showMeshGrid ) {\n",
       "\n",
       "            var geometry = new THREE.Geometry();\n",
       "\n",
       "            for ( var i=0 ; i < json.faces.length ; i++ ) {\n",
       "                var f = json.faces[i];\n",
       "                for ( var j=0 ; j < f.length ; j++ ) {\n",
       "                    var k = j === f.length-1 ? 0 : j+1;\n",
       "                    var v1 = json.vertices[f[j]];\n",
       "                    var v2 = json.vertices[f[k]];\n",
       "                    // vertices in opposite directions on neighboring faces\n",
       "                    var nudge = f[j] < f[k] ? .0005*zRange : -.0005*zRange;\n",
       "                    geometry.vertices.push( new THREE.Vector3( a[0]*v1.x, a[1]*v1.y, a[2]*(v1.z+nudge) ) );\n",
       "                    geometry.vertices.push( new THREE.Vector3( a[0]*v2.x, a[1]*v2.y, a[2]*(v2.z+nudge) ) );\n",
       "                }\n",
       "            }\n",
       "\n",
       "            var material = new THREE.LineBasicMaterial( { color: 'black', linewidth: 1 } );\n",
       "\n",
       "            var c = new THREE.Vector3();\n",
       "            geometry.computeBoundingBox();\n",
       "            geometry.boundingBox.getCenter( c );\n",
       "            geometry.translate( -c.x, -c.y, -c.z );\n",
       "\n",
       "            var mesh = new THREE.LineSegments( geometry, material );\n",
       "            mesh.position.set( c.x, c.y, c.z );\n",
       "            mesh.userData = json;\n",
       "            scene.add( mesh );\n",
       "\n",
       "        }\n",
       "\n",
       "    }\n",
       "\n",
       "    function render() {\n",
       "\n",
       "        if ( window.updateAnimation ) animate = updateAnimation();\n",
       "        if ( animate ) requestAnimationFrame( render );\n",
       "\n",
       "        renderer.render( scene, camera );\n",
       "\n",
       "    }\n",
       "\n",
       "    render();\n",
       "    controls.update();\n",
       "    if ( !animate ) render();\n",
       "\n",
       "\n",
       "    // menu functions\n",
       "\n",
       "    function toggleMenu() {\n",
       "\n",
       "        var m = document.getElementById( 'menu-content' );\n",
       "        if ( m.style.display === 'block' ) m.style.display = 'none'\n",
       "        else m.style.display = 'block';\n",
       "\n",
       "    }\n",
       "\n",
       "\n",
       "    function saveAsPNG() {\n",
       "\n",
       "        var a = document.body.appendChild( document.createElement( 'a' ) );\n",
       "        a.href = renderer.domElement.toDataURL( 'image/png' );\n",
       "        a.download = 'screenshot';\n",
       "        a.click();\n",
       "\n",
       "    }\n",
       "\n",
       "    function saveAsHTML() {\n",
       "\n",
       "        toggleMenu(); // otherwise visible in output\n",
       "        event.stopPropagation();\n",
       "\n",
       "        var blob = new Blob( [ '<!DOCTYPE html>\\n' + document.documentElement.outerHTML ] );\n",
       "        var a = document.body.appendChild( document.createElement( 'a' ) );\n",
       "        a.href = window.URL.createObjectURL( blob );\n",
       "        a.download = 'graphic.html';\n",
       "        a.click();\n",
       "\n",
       "    }\n",
       "\n",
       "    function getViewpoint() {\n",
       "\n",
       "        function roundTo( x, n ) { return +x.toFixed(n); }\n",
       "\n",
       "        var v = camera.quaternion.inverse();\n",
       "        var r = Math.sqrt( v.x*v.x + v.y*v.y + v.z*v.z );\n",
       "        var axis = [ roundTo( v.x / r, 4 ), roundTo( v.y / r, 4 ), roundTo( v.z / r, 4 ) ];\n",
       "        var angle = roundTo( 2 * Math.atan2( r, v.w ) * 180 / Math.PI, 2 );\n",
       "\n",
       "        var textArea = document.createElement( 'textarea' );\n",
       "        textArea.textContent = JSON.stringify( axis ) + ',' + angle;\n",
       "        textArea.style.csstext = 'position: absolute; top: -100%';\n",
       "        document.body.append( textArea );\n",
       "        textArea.select();\n",
       "        document.execCommand( 'copy' );\n",
       "\n",
       "        var m = document.getElementById( 'menu-message' );\n",
       "        m.innerHTML = 'Viewpoint copied to clipboard';\n",
       "        m.style.display = 'block';\n",
       "        setTimeout( function() { m.style.display = 'none'; }, 2000 );\n",
       "\n",
       "    }\n",
       "\n",
       "</script>\n",
       "\n",
       "<div id=&quot;menu-container&quot; onclick=&quot;toggleMenu()&quot;>&#x24d8;\n",
       "<div id=&quot;menu-message&quot;></div>\n",
       "<div id=&quot;menu-content&quot;>\n",
       "<div onclick=&quot;saveAsPNG()&quot;>Save as PNG</div>\n",
       "<div onclick=&quot;saveAsHTML()&quot;>Save as HTML</div>\n",
       "<div onclick=&quot;getViewpoint()&quot;>Get Viewpoint</div>\n",
       "<div>Close Menu</div>\n",
       "</div></div>\n",
       "\n",
       "\n",
       "</body>\n",
       "</html>\n",
       "\"\n",
       "        width=\"100%\"\n",
       "        height=\"400\"\n",
       "        style=\"border: 0;\">\n",
       "</iframe>\n"
      ],
      "text/plain": [
       "Graphics3d Object"
      ]
     },
     "execution_count": 63,
     "metadata": {},
     "output_type": "execute_result"
    }
   ],
   "source": [
    "K1 = Kr.expr().subs(m=1, a=0.9, q=0.5)\n",
    "plot3d(K1, (r,1,3), (th, 0, pi), axes_labels=['r', 'theta', 'Kr'])"
   ]
  },
  {
   "cell_type": "code",
   "execution_count": 64,
   "metadata": {},
   "outputs": [
    {
     "name": "stdout",
     "output_type": "stream",
     "text": [
      "Total elapsed time: 913.9951457749994 s\n"
     ]
    }
   ],
   "source": [
    "print(\"Total elapsed time: {} s\".format(time.perf_counter() - comput_time0))"
   ]
  }
 ],
 "metadata": {
  "kernelspec": {
   "display_name": "SageMath 9.2.beta13",
   "language": "sage",
   "name": "sagemath"
  },
  "language": "python",
  "language_info": {
   "codemirror_mode": {
    "name": "ipython",
    "version": 3
   },
   "file_extension": ".py",
   "mimetype": "text/x-python",
   "name": "python",
   "nbconvert_exporter": "python",
   "pygments_lexer": "ipython3",
   "version": "3.8.5"
  }
 },
 "nbformat": 4,
 "nbformat_minor": 1
}
