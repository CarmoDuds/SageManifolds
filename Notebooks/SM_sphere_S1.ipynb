{
 "cells": [
  {
   "cell_type": "markdown",
   "id": "ea913947-e690-4858-a678-4d1068f26b64",
   "metadata": {},
   "source": [
    "# Circle $\\mathbb{S}^1$\n",
    "\n",
    "This notebook demonstrates some differential geometry capabilities of SageMath on the example of the 1-dimensional sphere, i.e. the circle. The corresponding tools have been developed within\n",
    "the [SageManifolds](https://sagemanifolds.obspm.fr) project."
   ]
  },
  {
   "cell_type": "code",
   "execution_count": 1,
   "id": "bec718cd-0b70-4ea7-93b4-eee0876633bf",
   "metadata": {},
   "outputs": [],
   "source": [
    "%display latex"
   ]
  },
  {
   "cell_type": "code",
   "execution_count": 2,
   "id": "bedf2ea8-4e36-4e5c-93cd-1669ed66a9de",
   "metadata": {},
   "outputs": [
    {
     "name": "stdout",
     "output_type": "stream",
     "text": [
      "1-dimensional differentiable manifold S^1\n"
     ]
    }
   ],
   "source": [
    "S1 = Manifold(1, 'S^1', latex_name=r'\\mathbb{S}^1')\n",
    "print(S1)"
   ]
  },
  {
   "cell_type": "code",
   "execution_count": 3,
   "id": "5798bd44-1960-41c8-ac74-3566474dc70a",
   "metadata": {},
   "outputs": [
    {
     "data": {
      "text/html": [
       "<html>\\(\\displaystyle \\mathbb{S}^1\\)</html>"
      ],
      "text/latex": [
       "$\\displaystyle \\mathbb{S}^1$"
      ],
      "text/plain": [
       "1-dimensional differentiable manifold S^1"
      ]
     },
     "execution_count": 3,
     "metadata": {},
     "output_type": "execute_result"
    }
   ],
   "source": [
    "S1"
   ]
  },
  {
   "cell_type": "code",
   "execution_count": 4,
   "id": "2ea04d4c-9d4f-49a9-864b-af6853030556",
   "metadata": {},
   "outputs": [],
   "source": [
    "A = S1.open_subset('A')\n",
    "B = S1.open_subset('B')"
   ]
  },
  {
   "cell_type": "code",
   "execution_count": 5,
   "id": "d3ecd52d-3c38-4c41-a29b-6d26352c577e",
   "metadata": {},
   "outputs": [],
   "source": [
    "S1.declare_union(A, B)"
   ]
  },
  {
   "cell_type": "code",
   "execution_count": 6,
   "id": "a69ae8d9-f94a-4232-a50d-31960cc69cb0",
   "metadata": {},
   "outputs": [
    {
     "data": {
      "text/html": [
       "<html>\\(\\displaystyle \\left(A,({\\varphi})\\right)\\)</html>"
      ],
      "text/latex": [
       "$\\displaystyle \\left(A,({\\varphi})\\right)$"
      ],
      "text/plain": [
       "Chart (A, (ph,))"
      ]
     },
     "execution_count": 6,
     "metadata": {},
     "output_type": "execute_result"
    }
   ],
   "source": [
    "CA.<ph> = A.chart(r\"ph:(0,2*pi):\\varphi\")\n",
    "CA"
   ]
  },
  {
   "cell_type": "code",
   "execution_count": 7,
   "id": "448897c7-f41c-4753-b52d-ddcd6b139912",
   "metadata": {},
   "outputs": [
    {
     "data": {
      "text/html": [
       "<html>\\(\\displaystyle {\\varphi} :\\ \\left( 0 , 2 \\, \\pi \\right)\\)</html>"
      ],
      "text/latex": [
       "$\\displaystyle {\\varphi} :\\ \\left( 0 , 2 \\, \\pi \\right)$"
      ],
      "text/plain": [
       "ph: (0, 2*pi)"
      ]
     },
     "execution_count": 7,
     "metadata": {},
     "output_type": "execute_result"
    }
   ],
   "source": [
    "CA.coord_range()"
   ]
  },
  {
   "cell_type": "code",
   "execution_count": 8,
   "id": "b9184c2e-14bc-4ceb-92f0-5ae7a0529dcb",
   "metadata": {},
   "outputs": [
    {
     "data": {
      "text/html": [
       "<html>\\(\\displaystyle \\left(B,({\\psi})\\right)\\)</html>"
      ],
      "text/latex": [
       "$\\displaystyle \\left(B,({\\psi})\\right)$"
      ],
      "text/plain": [
       "Chart (B, (ps,))"
      ]
     },
     "execution_count": 8,
     "metadata": {},
     "output_type": "execute_result"
    }
   ],
   "source": [
    "CB.<ps> = B.chart(r\"ps:(0,2*pi):\\psi\")\n",
    "CB"
   ]
  },
  {
   "cell_type": "code",
   "execution_count": 9,
   "id": "f8bf7cc9-55ca-4fd1-8d59-e68a38604e2e",
   "metadata": {},
   "outputs": [
    {
     "data": {
      "text/html": [
       "<html>\\(\\displaystyle \\begin{array}{lcl} {\\psi} & = & -\\pi {\\left(2 \\, H\\left(-\\pi + {\\varphi}\\right) - 1\\right)} + {\\varphi} \\end{array}\\)</html>"
      ],
      "text/latex": [
       "$\\displaystyle \\begin{array}{lcl} {\\psi} & = & -\\pi {\\left(2 \\, H\\left(-\\pi + {\\varphi}\\right) - 1\\right)} + {\\varphi} \\end{array}$"
      ],
      "text/plain": [
       "ps = -pi*(2*heaviside(-pi + ph) - 1) + ph"
      ]
     },
     "execution_count": 9,
     "metadata": {},
     "output_type": "execute_result"
    }
   ],
   "source": [
    "CA_to_CB = CA.transition_map(CB, (ph + pi*(1 - 2*heaviside(ph - pi)),),\n",
    "                             intersection_name='W',\n",
    "                             restrictions1= ph!=pi, \n",
    "                             restrictions2= ps!=pi)\n",
    "CA_to_CB.display()"
   ]
  },
  {
   "cell_type": "code",
   "execution_count": 10,
   "id": "ef55a6a6-04eb-402b-a2a2-dd5f98859e07",
   "metadata": {},
   "outputs": [
    {
     "data": {
      "text/html": [
       "<html>\\(\\displaystyle \\pi - 2 \\, \\pi H\\left(-\\pi + {\\varphi}\\right) + {\\varphi}\\)</html>"
      ],
      "text/latex": [
       "$\\displaystyle \\pi - 2 \\, \\pi H\\left(-\\pi + {\\varphi}\\right) + {\\varphi}$"
      ],
      "text/plain": [
       "pi - 2*pi*heaviside(-pi + ph) + ph"
      ]
     },
     "execution_count": 10,
     "metadata": {},
     "output_type": "execute_result"
    }
   ],
   "source": [
    "CA_to_CB(ph)[0]"
   ]
  },
  {
   "cell_type": "code",
   "execution_count": 11,
   "id": "ed6b27ef-7cbf-4265-ab60-9788c4bc444d",
   "metadata": {},
   "outputs": [
    {
     "data": {
      "image/png": "[encoded data removed]",
      "text/plain": [
       "Graphics object consisting of 2 graphics primitives"
      ]
     },
     "execution_count": 11,
     "metadata": {},
     "output_type": "execute_result"
    }
   ],
   "source": [
    "plot(CA_to_CB(ph)[0], (ph, 0, pi), \n",
    "     axes_labels=[r'$\\varphi$', r'$\\psi$'], \n",
    "     frame=True, gridlines=True, aspect_ratio=1) \\\n",
    "+ plot(CA_to_CB(ph)[0], (ph, pi, 2*pi))"
   ]
  },
  {
   "cell_type": "code",
   "execution_count": 12,
   "id": "654fe6d5-9a1f-40e3-be24-417ebe09c6a2",
   "metadata": {},
   "outputs": [
    {
     "name": "stdout",
     "output_type": "stream",
     "text": [
      "Check of the inverse coordinate transformation:\n",
      "  ph == 2*pi - 2*pi*heaviside(-pi + ph) - 2*pi*heaviside(-2*pi*heaviside(-pi + ph) + ph) + ph  **failed**\n",
      "  ps == 2*pi - 2*pi*heaviside(-pi + ps) - 2*pi*heaviside(-2*pi*heaviside(-pi + ps) + ps) + ps  **failed**\n",
      "NB: a failed report can reflect a mere lack of simplification.\n"
     ]
    }
   ],
   "source": [
    "CA_to_CB.set_inverse(ps + pi*(1 - 2*heaviside(ps - pi)))"
   ]
  },
  {
   "cell_type": "code",
   "execution_count": 13,
   "id": "8b0c89b5-e134-46ac-8d73-e694828a816b",
   "metadata": {},
   "outputs": [
    {
     "data": {
      "text/html": [
       "<html>\\(\\displaystyle \\left[\\left(A,({\\varphi})\\right), \\left(B,({\\psi})\\right), \\left(W,({\\varphi})\\right), \\left(W,({\\psi})\\right)\\right]\\)</html>"
      ],
      "text/latex": [
       "$\\displaystyle \\left[\\left(A,({\\varphi})\\right), \\left(B,({\\psi})\\right), \\left(W,({\\varphi})\\right), \\left(W,({\\psi})\\right)\\right]$"
      ],
      "text/plain": [
       "[Chart (A, (ph,)), Chart (B, (ps,)), Chart (W, (ph,)), Chart (W, (ps,))]"
      ]
     },
     "execution_count": 13,
     "metadata": {},
     "output_type": "execute_result"
    }
   ],
   "source": [
    "S1.atlas()"
   ]
  },
  {
   "cell_type": "code",
   "execution_count": 14,
   "id": "e69cdb1e-213a-444a-b285-5806fe0ea81a",
   "metadata": {},
   "outputs": [
    {
     "data": {
      "image/png": "[encoded data removed]",
      "text/plain": [
       "Graphics object consisting of 1 graphics primitive"
      ]
     },
     "execution_count": 14,
     "metadata": {},
     "output_type": "execute_result"
    }
   ],
   "source": [
    "plot(2*pi - 2*pi*heaviside(-pi + ph) - 2*pi*heaviside(-2*pi*heaviside(-pi + ph) + ph) + ph, \n",
    "     (ph, 0, 2*pi))"
   ]
  },
  {
   "cell_type": "code",
   "execution_count": 15,
   "id": "171f5e68-b3ba-4c4a-8d17-2cb4f9c6c1d3",
   "metadata": {},
   "outputs": [
    {
     "data": {
      "text/html": [
       "<html>\\(\\displaystyle \\left(\\mathbb{R}^2,(X, Y)\\right)\\)</html>"
      ],
      "text/latex": [
       "$\\displaystyle \\left(\\mathbb{R}^2,(X, Y)\\right)$"
      ],
      "text/plain": [
       "Chart (R^2, (X, Y))"
      ]
     },
     "execution_count": 15,
     "metadata": {},
     "output_type": "execute_result"
    }
   ],
   "source": [
    "R2.<X,Y> = EuclideanSpace(name='R^2', latex_name=r'\\mathbb{R}^2', metric_name='h')\n",
    "cartesian = R2.cartesian_coordinates()\n",
    "cartesian"
   ]
  },
  {
   "cell_type": "code",
   "execution_count": 16,
   "id": "8fbdc52c-fd04-4a88-8fb3-176f1e8eca17",
   "metadata": {},
   "outputs": [
    {
     "data": {
      "text/html": [
       "<html>\\(\\displaystyle \\begin{array}{llcl} \\Phi:& \\mathbb{S}^1 & \\longrightarrow & \\mathbb{R}^2 \\\\ \\mbox{on}\\ A : & {\\varphi} & \\longmapsto & \\left(X, Y\\right) = \\left(\\cos\\left({\\varphi}\\right), \\sin\\left({\\varphi}\\right)\\right) \\\\ \\mbox{on}\\ B : & {\\psi} & \\longmapsto & \\left(X, Y\\right) = \\left(-\\cos\\left({\\psi}\\right), -\\sin\\left({\\psi}\\right)\\right) \\end{array}\\)</html>"
      ],
      "text/latex": [
       "$\\displaystyle \\begin{array}{llcl} \\Phi:& \\mathbb{S}^1 & \\longrightarrow & \\mathbb{R}^2 \\\\ \\mbox{on}\\ A : & {\\varphi} & \\longmapsto & \\left(X, Y\\right) = \\left(\\cos\\left({\\varphi}\\right), \\sin\\left({\\varphi}\\right)\\right) \\\\ \\mbox{on}\\ B : & {\\psi} & \\longmapsto & \\left(X, Y\\right) = \\left(-\\cos\\left({\\psi}\\right), -\\sin\\left({\\psi}\\right)\\right) \\end{array}$"
      ],
      "text/plain": [
       "Phi: S^1 → R^2\n",
       "on A: ph ↦ (X, Y) = (cos(ph), sin(ph))\n",
       "on B: ps ↦ (X, Y) = (-cos(ps), -sin(ps))"
      ]
     },
     "execution_count": 16,
     "metadata": {},
     "output_type": "execute_result"
    }
   ],
   "source": [
    "Phi = S1.diff_map(R2, {(CA, cartesian): (cos(ph), sin(ph)),\n",
    "                       (CB, cartesian): (-cos(ps), -sin(ps))},\n",
    "                  name='Phi', latex_name=r'\\Phi')\n",
    "Phi.display()"
   ]
  },
  {
   "cell_type": "code",
   "execution_count": 17,
   "id": "b529b823-ec2f-41d0-b357-2c517b7ef55f",
   "metadata": {},
   "outputs": [
    {
     "data": {
      "text/html": [
       "<html>\\(\\displaystyle O\\)</html>"
      ],
      "text/latex": [
       "$\\displaystyle O$"
      ],
      "text/plain": [
       "Point O on the 1-dimensional differentiable manifold S^1"
      ]
     },
     "execution_count": 17,
     "metadata": {},
     "output_type": "execute_result"
    }
   ],
   "source": [
    "O = S1((pi,), chart=CB, name='O')\n",
    "O"
   ]
  },
  {
   "cell_type": "code",
   "execution_count": 18,
   "id": "475c9566-41f7-432e-83a2-df843b8e40f9",
   "metadata": {},
   "outputs": [
    {
     "data": {
      "text/html": [
       "<html>\\(\\displaystyle \\left(1, 0\\right)\\)</html>"
      ],
      "text/latex": [
       "$\\displaystyle \\left(1, 0\\right)$"
      ],
      "text/plain": [
       "(1, 0)"
      ]
     },
     "execution_count": 18,
     "metadata": {},
     "output_type": "execute_result"
    }
   ],
   "source": [
    "cartesian(Phi(O))"
   ]
  },
  {
   "cell_type": "code",
   "execution_count": 19,
   "id": "d7eac526-4485-4c40-bd0c-f27a9e47de5d",
   "metadata": {},
   "outputs": [
    {
     "data": {
      "text/html": [
       "<html>\\(\\displaystyle \\left(-1, 0\\right)\\)</html>"
      ],
      "text/latex": [
       "$\\displaystyle \\left(-1, 0\\right)$"
      ],
      "text/plain": [
       "(-1, 0)"
      ]
     },
     "execution_count": 19,
     "metadata": {},
     "output_type": "execute_result"
    }
   ],
   "source": [
    "H = S1((pi,), chart=CA, name='H')\n",
    "cartesian(Phi(H))"
   ]
  },
  {
   "cell_type": "code",
   "execution_count": 20,
   "id": "45a5d527-3559-4d3a-8078-0a5e28356cb9",
   "metadata": {},
   "outputs": [
    {
     "data": {
      "image/png": "[encoded data removed]",
      "text/plain": [
       "Graphics object consisting of 1 graphics primitive"
      ]
     },
     "execution_count": 20,
     "metadata": {},
     "output_type": "execute_result"
    }
   ],
   "source": [
    "graph_spher = CA.plot(chart=cartesian, mapping=Phi, number_values=11, \n",
    "                      color='blue')\n",
    "graph_spher"
   ]
  },
  {
   "cell_type": "code",
   "execution_count": 21,
   "id": "beb708c3-551a-499a-980f-82821052be61",
   "metadata": {},
   "outputs": [],
   "source": [
    "e = S1.vector_frame('e')"
   ]
  },
  {
   "cell_type": "code",
   "execution_count": 22,
   "id": "4fdc27c9-5931-423a-8efa-6a7a669b034e",
   "metadata": {},
   "outputs": [
    {
     "data": {
      "text/html": [
       "<html>\\(\\displaystyle e_{0} = \\frac{\\partial}{\\partial {\\varphi} }\\)</html>"
      ],
      "text/latex": [
       "$\\displaystyle e_{0} = \\frac{\\partial}{\\partial {\\varphi} }$"
      ],
      "text/plain": [
       "e_0 = ∂/∂ph"
      ]
     },
     "execution_count": 22,
     "metadata": {},
     "output_type": "execute_result"
    }
   ],
   "source": [
    "e.restrict(A)[0][0] = 1\n",
    "e.restrict(A)[0].display()"
   ]
  },
  {
   "cell_type": "code",
   "execution_count": 23,
   "id": "73be45f6-240a-41e4-a555-a793c88e096c",
   "metadata": {},
   "outputs": [],
   "source": [
    "A.set_change_of_frame(CA.frame(), e.restrict(A), \n",
    "                      A.tangent_identity_field())"
   ]
  },
  {
   "cell_type": "code",
   "execution_count": 24,
   "id": "b9745ca8-34fb-4559-ac2a-e80caf20b91b",
   "metadata": {},
   "outputs": [
    {
     "data": {
      "text/html": [
       "<html>\\(\\displaystyle e_{0} = \\frac{\\partial}{\\partial {\\psi} }\\)</html>"
      ],
      "text/latex": [
       "$\\displaystyle e_{0} = \\frac{\\partial}{\\partial {\\psi} }$"
      ],
      "text/plain": [
       "e_0 = ∂/∂ps"
      ]
     },
     "execution_count": 24,
     "metadata": {},
     "output_type": "execute_result"
    }
   ],
   "source": [
    "e.restrict(B)[0][0] = 1\n",
    "e.restrict(B)[0].display()"
   ]
  },
  {
   "cell_type": "code",
   "execution_count": 25,
   "id": "628fd448-152b-4336-9feb-867d8c75919f",
   "metadata": {},
   "outputs": [],
   "source": [
    "B.set_change_of_frame(CB.frame(), e.restrict(B), \n",
    "                      B.tangent_identity_field())"
   ]
  },
  {
   "cell_type": "code",
   "execution_count": 26,
   "id": "3a58ed8a-f4eb-43f6-b9bf-c65c8b5d300c",
   "metadata": {},
   "outputs": [
    {
     "data": {
      "image/png": "[encoded data removed]",
      "text/plain": [
       "Graphics object consisting of 10 graphics primitives"
      ]
     },
     "execution_count": 26,
     "metadata": {},
     "output_type": "execute_result"
    }
   ],
   "source": [
    "graph_spher + e[0].plot(cartesian, mapping=Phi)"
   ]
  },
  {
   "cell_type": "code",
   "execution_count": 27,
   "id": "6f8bf22e-bf60-45ab-97dd-2eb05a4a41d4",
   "metadata": {},
   "outputs": [
    {
     "data": {
      "text/html": [
       "<html>\\(\\displaystyle \\mathrm{True}\\)</html>"
      ],
      "text/latex": [
       "$\\displaystyle \\mathrm{True}$"
      ],
      "text/plain": [
       "True"
      ]
     },
     "execution_count": 27,
     "metadata": {},
     "output_type": "execute_result"
    }
   ],
   "source": [
    "S1.is_manifestly_parallelizable()"
   ]
  },
  {
   "cell_type": "code",
   "execution_count": 28,
   "id": "5c439be8-8b2b-467e-b6bb-13c12d9daecb",
   "metadata": {},
   "outputs": [
    {
     "name": "stdout",
     "output_type": "stream",
     "text": [
      "1-form f on the 1-dimensional differentiable manifold S^1\n"
     ]
    },
    {
     "data": {
      "text/html": [
       "<html>\\(\\displaystyle f = e^{0}\\)</html>"
      ],
      "text/latex": [
       "$\\displaystyle f = e^{0}$"
      ],
      "text/plain": [
       "f = e^0"
      ]
     },
     "execution_count": 28,
     "metadata": {},
     "output_type": "execute_result"
    }
   ],
   "source": [
    "f = S1.one_form(name='f')\n",
    "f[0] = 1\n",
    "print(f)\n",
    "f.display()"
   ]
  },
  {
   "cell_type": "code",
   "execution_count": 29,
   "id": "bfec838d-077a-4ab3-a288-ca4192ab5cc8",
   "metadata": {},
   "outputs": [
    {
     "data": {
      "text/html": [
       "<html>\\(\\displaystyle \\mathrm{True}\\)</html>"
      ],
      "text/latex": [
       "$\\displaystyle \\mathrm{True}$"
      ],
      "text/plain": [
       "True"
      ]
     },
     "execution_count": 29,
     "metadata": {},
     "output_type": "execute_result"
    }
   ],
   "source": [
    "f == e.coframe()[0]"
   ]
  },
  {
   "cell_type": "markdown",
   "id": "1c130208-8122-4441-b642-4393d0ecf546",
   "metadata": {},
   "source": [
    "The 1-form $f$ is closed (as any 1-form on a 1-dimensional manifold) but is not exact:"
   ]
  },
  {
   "cell_type": "code",
   "execution_count": 30,
   "id": "794219db-ff2f-459c-8604-395172db7999",
   "metadata": {},
   "outputs": [
    {
     "data": {
      "text/html": [
       "<html>\\(\\displaystyle f = \\mathrm{d} {\\varphi}\\)</html>"
      ],
      "text/latex": [
       "$\\displaystyle f = \\mathrm{d} {\\varphi}$"
      ],
      "text/plain": [
       "f = dph"
      ]
     },
     "execution_count": 30,
     "metadata": {},
     "output_type": "execute_result"
    }
   ],
   "source": [
    "f.restrict(A).display()"
   ]
  },
  {
   "cell_type": "code",
   "execution_count": 31,
   "id": "76bdb3c6-b3c5-43f3-a220-3bbad420dbef",
   "metadata": {},
   "outputs": [
    {
     "data": {
      "text/html": [
       "<html>\\(\\displaystyle f = \\mathrm{d} {\\psi}\\)</html>"
      ],
      "text/latex": [
       "$\\displaystyle f = \\mathrm{d} {\\psi}$"
      ],
      "text/plain": [
       "f = dps"
      ]
     },
     "execution_count": 31,
     "metadata": {},
     "output_type": "execute_result"
    }
   ],
   "source": [
    "f.restrict(B).display()"
   ]
  },
  {
   "cell_type": "code",
   "execution_count": 32,
   "id": "67e3c0c6-615b-4b7b-b286-2e89aca24b40",
   "metadata": {},
   "outputs": [
    {
     "data": {
      "text/html": [
       "<html>\\(\\displaystyle \\mathrm{d}f = 0\\)</html>"
      ],
      "text/latex": [
       "$\\displaystyle \\mathrm{d}f = 0$"
      ],
      "text/plain": [
       "df = 0"
      ]
     },
     "execution_count": 32,
     "metadata": {},
     "output_type": "execute_result"
    }
   ],
   "source": [
    "df = diff(f.restrict(A))\n",
    "df.display()"
   ]
  },
  {
   "cell_type": "code",
   "execution_count": 33,
   "id": "01f1f03c-b32a-49bf-a55b-aa543fa0e171",
   "metadata": {},
   "outputs": [
    {
     "data": {
      "text/html": [
       "<html>\\(\\displaystyle \\mathrm{d}f = 0\\)</html>"
      ],
      "text/latex": [
       "$\\displaystyle \\mathrm{d}f = 0$"
      ],
      "text/plain": [
       "df = 0"
      ]
     },
     "execution_count": 33,
     "metadata": {},
     "output_type": "execute_result"
    }
   ],
   "source": [
    "diff(f.restrict(B)).display()"
   ]
  }
 ],
 "metadata": {
  "kernelspec": {
   "display_name": "SageMath 9.7.beta2",
   "language": "sage",
   "name": "sagemath"
  },
  "language_info": {
   "codemirror_mode": {
    "name": "ipython",
    "version": 3
   },
   "file_extension": ".py",
   "mimetype": "text/x-python",
   "name": "python",
   "nbconvert_exporter": "python",
   "pygments_lexer": "ipython3",
   "version": "3.10.3"
  }
 },
 "nbformat": 4,
 "nbformat_minor": 5
}
