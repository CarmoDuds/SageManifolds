{
 "cells": [
  {
   "cell_type": "markdown",
   "metadata": {},
   "source": [
    "# Near-horizon geometry of the extremal Kerr black hole\n"
   ]
  },
  {
   "cell_type": "markdown",
   "metadata": {},
   "source": [
    "This notebook derives the near-horizon geometry of the extremal (i.e. maximally spinning) Kerr black hole. It is based on SageMath tools developed through the [SageManifolds project](https://sagemanifolds.obspm.fr/). \n",
    "\n",
    "This notebook requires a version of SageMath at least equal to 9.4:"
   ]
  },
  {
   "cell_type": "code",
   "execution_count": 1,
   "metadata": {},
   "outputs": [
    {
     "data": {
      "text/plain": [
       "'SageMath version 10.3.rc3, Release Date: 2024-03-10'"
      ]
     },
     "execution_count": 1,
     "metadata": {},
     "output_type": "execute_result"
    }
   ],
   "source": [
    "version()"
   ]
  },
  {
   "cell_type": "markdown",
   "metadata": {},
   "source": [
    "First we set up the notebook to display mathematical objects using LaTeX rendering:"
   ]
  },
  {
   "cell_type": "code",
   "execution_count": 2,
   "metadata": {},
   "outputs": [],
   "source": [
    "%display latex"
   ]
  },
  {
   "cell_type": "markdown",
   "metadata": {},
   "source": [
    "To speed up computations, we ask for running them in parallel on 8 threads:"
   ]
  },
  {
   "cell_type": "code",
   "execution_count": 3,
   "metadata": {},
   "outputs": [],
   "source": [
    "Parallelism().set(nproc=8)"
   ]
  },
  {
   "cell_type": "markdown",
   "metadata": {},
   "source": [
    "## Spacetime manifold\n",
    "\n",
    "We declare the Kerr spacetime (or more precisely the part of it covered by Boyer-Lindquist coordinates) as a 4-dimensional Lorentzian manifold $\\mathcal{M}$:"
   ]
  },
  {
   "cell_type": "code",
   "execution_count": 4,
   "metadata": {},
   "outputs": [
    {
     "name": "stdout",
     "output_type": "stream",
     "text": [
      "4-dimensional Lorentzian manifold M\n"
     ]
    }
   ],
   "source": [
    "M = Manifold(4, 'M', latex_name=r'\\mathcal{M}', structure='Lorentzian')\n",
    "print(M)"
   ]
  },
  {
   "cell_type": "markdown",
   "metadata": {},
   "source": [
    "We then introduce the standard **Boyer-Lindquist coordinates** $(t,r,\\theta,\\phi)$ as a chart `BL` (for *Boyer-Lindquist*) on $\\mathcal{M}$, via the method `chart()`. The argument of the latter is a string\n",
    "(delimited by `r\"...\"` because of the backslash symbols) expressing the coordinates names, their ranges (the default is $(-\\infty,+\\infty)$) and their LaTeX symbols:"
   ]
  },
  {
   "cell_type": "code",
   "execution_count": 5,
   "metadata": {},
   "outputs": [
    {
     "name": "stdout",
     "output_type": "stream",
     "text": [
      "Chart (M, (t, r, th, ph))\n"
     ]
    },
    {
     "data": {
      "text/html": [
       "<html>\\(\\displaystyle \\left(\\mathcal{M},(t, r, {\\theta}, {\\phi})\\right)\\)</html>"
      ],
      "text/latex": [
       "$\\displaystyle \\left(\\mathcal{M},(t, r, {\\theta}, {\\phi})\\right)$"
      ],
      "text/plain": [
       "Chart (M, (t, r, th, ph))"
      ]
     },
     "execution_count": 5,
     "metadata": {},
     "output_type": "execute_result"
    }
   ],
   "source": [
    "BL.<t,r,th,ph> = M.chart(r\"t r th:(0,pi):\\theta ph:(0,2*pi):periodic:\\phi\") \n",
    "print(BL); BL"
   ]
  },
  {
   "cell_type": "code",
   "execution_count": 6,
   "metadata": {},
   "outputs": [
    {
     "data": {
      "text/html": [
       "<html>\\(\\displaystyle t :\\ \\left( -\\infty, +\\infty \\right) ;\\quad r :\\ \\left( -\\infty, +\\infty \\right) ;\\quad {\\theta} :\\ \\left( 0 , \\pi \\right) ;\\quad {\\phi} :\\ \\left[ 0 , 2 \\, \\pi \\right] \\text{(periodic)}\\)</html>"
      ],
      "text/latex": [
       "$\\displaystyle t :\\ \\left( -\\infty, +\\infty \\right) ;\\quad r :\\ \\left( -\\infty, +\\infty \\right) ;\\quad {\\theta} :\\ \\left( 0 , \\pi \\right) ;\\quad {\\phi} :\\ \\left[ 0 , 2 \\, \\pi \\right] \\text{(periodic)}$"
      ],
      "text/plain": [
       "t: (-oo, +oo); r: (-oo, +oo); th: (0, pi); ph: [0, 2*pi] (periodic)"
      ]
     },
     "execution_count": 6,
     "metadata": {},
     "output_type": "execute_result"
    }
   ],
   "source": [
    "BL.coord_range()"
   ]
  },
  {
   "cell_type": "code",
   "execution_count": 7,
   "metadata": {},
   "outputs": [
    {
     "data": {
      "text/html": [
       "<html>\\(\\displaystyle t\\)</html>"
      ],
      "text/latex": [
       "$\\displaystyle t$"
      ],
      "text/plain": [
       "t"
      ]
     },
     "execution_count": 7,
     "metadata": {},
     "output_type": "execute_result"
    }
   ],
   "source": [
    "BL[0]"
   ]
  },
  {
   "cell_type": "code",
   "execution_count": 8,
   "metadata": {},
   "outputs": [
    {
     "data": {
      "text/html": [
       "<html>\\(\\displaystyle {\\theta}\\)</html>"
      ],
      "text/latex": [
       "$\\displaystyle {\\theta}$"
      ],
      "text/plain": [
       "th"
      ]
     },
     "execution_count": 8,
     "metadata": {},
     "output_type": "execute_result"
    }
   ],
   "source": [
    "BL[2]"
   ]
  },
  {
   "cell_type": "markdown",
   "metadata": {},
   "source": [
    "## Metric tensor of the extremal Kerr spacetime\n",
    "\n",
    "The mass parameter $m$ of the Kerr spacetime is declared as a symbolic variable:"
   ]
  },
  {
   "cell_type": "code",
   "execution_count": 9,
   "metadata": {},
   "outputs": [],
   "source": [
    "m = var('m', domain='real')"
   ]
  },
  {
   "cell_type": "markdown",
   "metadata": {},
   "source": [
    "For the extremal Kerr black hole, the spin parameter $a$ reaches its upper bound, namely $m$:"
   ]
  },
  {
   "cell_type": "code",
   "execution_count": 10,
   "metadata": {},
   "outputs": [],
   "source": [
    "a = m"
   ]
  },
  {
   "cell_type": "markdown",
   "metadata": {},
   "source": [
    "We get the (yet undefined) spacetime metric:"
   ]
  },
  {
   "cell_type": "code",
   "execution_count": 11,
   "metadata": {},
   "outputs": [],
   "source": [
    "g = M.metric()"
   ]
  },
  {
   "cell_type": "markdown",
   "metadata": {},
   "source": [
    "The metric is set by providing its nonzero  components in the coordinate frame associated with Boyer-Lindquist coordinates, which is the current manifold's default frame:"
   ]
  },
  {
   "cell_type": "code",
   "execution_count": 12,
   "metadata": {},
   "outputs": [
    {
     "data": {
      "text/html": [
       "<html>\\(\\displaystyle g = \\left( \\frac{2 \\, m r}{m^{2} \\cos\\left({\\theta}\\right)^{2} + r^{2}} - 1 \\right) \\mathrm{d} t\\otimes \\mathrm{d} t + \\left( -\\frac{2 \\, m^{2} r \\sin\\left({\\theta}\\right)^{2}}{m^{2} \\cos\\left({\\theta}\\right)^{2} + r^{2}} \\right) \\mathrm{d} t\\otimes \\mathrm{d} {\\phi} + \\left( \\frac{m^{2} \\cos\\left({\\theta}\\right)^{2} + r^{2}}{m^{2} - 2 \\, m r + r^{2}} \\right) \\mathrm{d} r\\otimes \\mathrm{d} r + \\left( m^{2} \\cos\\left({\\theta}\\right)^{2} + r^{2} \\right) \\mathrm{d} {\\theta}\\otimes \\mathrm{d} {\\theta} + \\left( -\\frac{2 \\, m^{2} r \\sin\\left({\\theta}\\right)^{2}}{m^{2} \\cos\\left({\\theta}\\right)^{2} + r^{2}} \\right) \\mathrm{d} {\\phi}\\otimes \\mathrm{d} t + {\\left(\\frac{2 \\, m^{3} r \\sin\\left({\\theta}\\right)^{2}}{m^{2} \\cos\\left({\\theta}\\right)^{2} + r^{2}} + m^{2} + r^{2}\\right)} \\sin\\left({\\theta}\\right)^{2} \\mathrm{d} {\\phi}\\otimes \\mathrm{d} {\\phi}\\)</html>"
      ],
      "text/latex": [
       "$\\displaystyle g = \\left( \\frac{2 \\, m r}{m^{2} \\cos\\left({\\theta}\\right)^{2} + r^{2}} - 1 \\right) \\mathrm{d} t\\otimes \\mathrm{d} t + \\left( -\\frac{2 \\, m^{2} r \\sin\\left({\\theta}\\right)^{2}}{m^{2} \\cos\\left({\\theta}\\right)^{2} + r^{2}} \\right) \\mathrm{d} t\\otimes \\mathrm{d} {\\phi} + \\left( \\frac{m^{2} \\cos\\left({\\theta}\\right)^{2} + r^{2}}{m^{2} - 2 \\, m r + r^{2}} \\right) \\mathrm{d} r\\otimes \\mathrm{d} r + \\left( m^{2} \\cos\\left({\\theta}\\right)^{2} + r^{2} \\right) \\mathrm{d} {\\theta}\\otimes \\mathrm{d} {\\theta} + \\left( -\\frac{2 \\, m^{2} r \\sin\\left({\\theta}\\right)^{2}}{m^{2} \\cos\\left({\\theta}\\right)^{2} + r^{2}} \\right) \\mathrm{d} {\\phi}\\otimes \\mathrm{d} t + {\\left(\\frac{2 \\, m^{3} r \\sin\\left({\\theta}\\right)^{2}}{m^{2} \\cos\\left({\\theta}\\right)^{2} + r^{2}} + m^{2} + r^{2}\\right)} \\sin\\left({\\theta}\\right)^{2} \\mathrm{d} {\\phi}\\otimes \\mathrm{d} {\\phi}$"
      ],
      "text/plain": [
       "g = (2*m*r/(m^2*cos(th)^2 + r^2) - 1) dt⊗dt - 2*m^2*r*sin(th)^2/(m^2*cos(th)^2 + r^2) dt⊗dph + (m^2*cos(th)^2 + r^2)/(m^2 - 2*m*r + r^2) dr⊗dr + (m^2*cos(th)^2 + r^2) dth⊗dth - 2*m^2*r*sin(th)^2/(m^2*cos(th)^2 + r^2) dph⊗dt + (2*m^3*r*sin(th)^2/(m^2*cos(th)^2 + r^2) + m^2 + r^2)*sin(th)^2 dph⊗dph"
      ]
     },
     "execution_count": 12,
     "metadata": {},
     "output_type": "execute_result"
    }
   ],
   "source": [
    "rho2 = r^2 + (a*cos(th))^2\n",
    "Delta = r^2 -2*m*r + a^2\n",
    "g[0,0] = -(1-2*m*r/rho2)\n",
    "g[0,3] = -2*a*m*r*sin(th)^2/rho2\n",
    "g[1,1], g[2,2] = rho2/Delta, rho2\n",
    "g[3,3] = (r^2+a^2+2*m*r*(a*sin(th))^2/rho2)*sin(th)^2\n",
    "g.display()"
   ]
  },
  {
   "cell_type": "markdown",
   "metadata": {},
   "source": [
    "<p>A matrix view of the components with respect to the manifold's default vector frame:</p>"
   ]
  },
  {
   "cell_type": "code",
   "execution_count": 13,
   "metadata": {},
   "outputs": [
    {
     "data": {
      "text/html": [
       "<html>\\(\\displaystyle \\left(\\begin{array}{rrrr}\n",
       "\\frac{2 \\, m r}{m^{2} \\cos\\left({\\theta}\\right)^{2} + r^{2}} - 1 & 0 & 0 & -\\frac{2 \\, m^{2} r \\sin\\left({\\theta}\\right)^{2}}{m^{2} \\cos\\left({\\theta}\\right)^{2} + r^{2}} \\\\\n",
       "0 & \\frac{m^{2} \\cos\\left({\\theta}\\right)^{2} + r^{2}}{m^{2} - 2 \\, m r + r^{2}} & 0 & 0 \\\\\n",
       "0 & 0 & m^{2} \\cos\\left({\\theta}\\right)^{2} + r^{2} & 0 \\\\\n",
       "-\\frac{2 \\, m^{2} r \\sin\\left({\\theta}\\right)^{2}}{m^{2} \\cos\\left({\\theta}\\right)^{2} + r^{2}} & 0 & 0 & {\\left(\\frac{2 \\, m^{3} r \\sin\\left({\\theta}\\right)^{2}}{m^{2} \\cos\\left({\\theta}\\right)^{2} + r^{2}} + m^{2} + r^{2}\\right)} \\sin\\left({\\theta}\\right)^{2}\n",
       "\\end{array}\\right)\\)</html>"
      ],
      "text/latex": [
       "$\\displaystyle \\left(\\begin{array}{rrrr}\n",
       "\\frac{2 \\, m r}{m^{2} \\cos\\left({\\theta}\\right)^{2} + r^{2}} - 1 & 0 & 0 & -\\frac{2 \\, m^{2} r \\sin\\left({\\theta}\\right)^{2}}{m^{2} \\cos\\left({\\theta}\\right)^{2} + r^{2}} \\\\\n",
       "0 & \\frac{m^{2} \\cos\\left({\\theta}\\right)^{2} + r^{2}}{m^{2} - 2 \\, m r + r^{2}} & 0 & 0 \\\\\n",
       "0 & 0 & m^{2} \\cos\\left({\\theta}\\right)^{2} + r^{2} & 0 \\\\\n",
       "-\\frac{2 \\, m^{2} r \\sin\\left({\\theta}\\right)^{2}}{m^{2} \\cos\\left({\\theta}\\right)^{2} + r^{2}} & 0 & 0 & {\\left(\\frac{2 \\, m^{3} r \\sin\\left({\\theta}\\right)^{2}}{m^{2} \\cos\\left({\\theta}\\right)^{2} + r^{2}} + m^{2} + r^{2}\\right)} \\sin\\left({\\theta}\\right)^{2}\n",
       "\\end{array}\\right)$"
      ],
      "text/plain": [
       "[                                2*m*r/(m^2*cos(th)^2 + r^2) - 1                                                               0                                                               0                        -2*m^2*r*sin(th)^2/(m^2*cos(th)^2 + r^2)]\n",
       "[                                                              0                       (m^2*cos(th)^2 + r^2)/(m^2 - 2*m*r + r^2)                                                               0                                                               0]\n",
       "[                                                              0                                                               0                                             m^2*cos(th)^2 + r^2                                                               0]\n",
       "[                       -2*m^2*r*sin(th)^2/(m^2*cos(th)^2 + r^2)                                                               0                                                               0 (2*m^3*r*sin(th)^2/(m^2*cos(th)^2 + r^2) + m^2 + r^2)*sin(th)^2]"
      ]
     },
     "execution_count": 13,
     "metadata": {},
     "output_type": "execute_result"
    }
   ],
   "source": [
    "g[:]"
   ]
  },
  {
   "cell_type": "markdown",
   "metadata": {},
   "source": [
    "<p>The list of the non-vanishing components:</p>"
   ]
  },
  {
   "cell_type": "code",
   "execution_count": 14,
   "metadata": {},
   "outputs": [
    {
     "data": {
      "text/html": [
       "<html>\\(\\displaystyle \\begin{array}{lcl} g_{ \\, t \\, t }^{ \\phantom{\\, t}\\phantom{\\, t} } & = & \\frac{2 \\, m r}{m^{2} \\cos\\left({\\theta}\\right)^{2} + r^{2}} - 1 \\\\ g_{ \\, t \\, {\\phi} }^{ \\phantom{\\, t}\\phantom{\\, {\\phi}} } & = & -\\frac{2 \\, m^{2} r \\sin\\left({\\theta}\\right)^{2}}{m^{2} \\cos\\left({\\theta}\\right)^{2} + r^{2}} \\\\ g_{ \\, r \\, r }^{ \\phantom{\\, r}\\phantom{\\, r} } & = & \\frac{m^{2} \\cos\\left({\\theta}\\right)^{2} + r^{2}}{m^{2} - 2 \\, m r + r^{2}} \\\\ g_{ \\, {\\theta} \\, {\\theta} }^{ \\phantom{\\, {\\theta}}\\phantom{\\, {\\theta}} } & = & m^{2} \\cos\\left({\\theta}\\right)^{2} + r^{2} \\\\ g_{ \\, {\\phi} \\, t }^{ \\phantom{\\, {\\phi}}\\phantom{\\, t} } & = & -\\frac{2 \\, m^{2} r \\sin\\left({\\theta}\\right)^{2}}{m^{2} \\cos\\left({\\theta}\\right)^{2} + r^{2}} \\\\ g_{ \\, {\\phi} \\, {\\phi} }^{ \\phantom{\\, {\\phi}}\\phantom{\\, {\\phi}} } & = & {\\left(\\frac{2 \\, m^{3} r \\sin\\left({\\theta}\\right)^{2}}{m^{2} \\cos\\left({\\theta}\\right)^{2} + r^{2}} + m^{2} + r^{2}\\right)} \\sin\\left({\\theta}\\right)^{2} \\end{array}\\)</html>"
      ],
      "text/latex": [
       "$\\displaystyle \\begin{array}{lcl} g_{ \\, t \\, t }^{ \\phantom{\\, t}\\phantom{\\, t} } & = & \\frac{2 \\, m r}{m^{2} \\cos\\left({\\theta}\\right)^{2} + r^{2}} - 1 \\\\ g_{ \\, t \\, {\\phi} }^{ \\phantom{\\, t}\\phantom{\\, {\\phi}} } & = & -\\frac{2 \\, m^{2} r \\sin\\left({\\theta}\\right)^{2}}{m^{2} \\cos\\left({\\theta}\\right)^{2} + r^{2}} \\\\ g_{ \\, r \\, r }^{ \\phantom{\\, r}\\phantom{\\, r} } & = & \\frac{m^{2} \\cos\\left({\\theta}\\right)^{2} + r^{2}}{m^{2} - 2 \\, m r + r^{2}} \\\\ g_{ \\, {\\theta} \\, {\\theta} }^{ \\phantom{\\, {\\theta}}\\phantom{\\, {\\theta}} } & = & m^{2} \\cos\\left({\\theta}\\right)^{2} + r^{2} \\\\ g_{ \\, {\\phi} \\, t }^{ \\phantom{\\, {\\phi}}\\phantom{\\, t} } & = & -\\frac{2 \\, m^{2} r \\sin\\left({\\theta}\\right)^{2}}{m^{2} \\cos\\left({\\theta}\\right)^{2} + r^{2}} \\\\ g_{ \\, {\\phi} \\, {\\phi} }^{ \\phantom{\\, {\\phi}}\\phantom{\\, {\\phi}} } & = & {\\left(\\frac{2 \\, m^{3} r \\sin\\left({\\theta}\\right)^{2}}{m^{2} \\cos\\left({\\theta}\\right)^{2} + r^{2}} + m^{2} + r^{2}\\right)} \\sin\\left({\\theta}\\right)^{2} \\end{array}$"
      ],
      "text/plain": [
       "g_t,t = 2*m*r/(m^2*cos(th)^2 + r^2) - 1 \n",
       "g_t,ph = -2*m^2*r*sin(th)^2/(m^2*cos(th)^2 + r^2) \n",
       "g_r,r = (m^2*cos(th)^2 + r^2)/(m^2 - 2*m*r + r^2) \n",
       "g_th,th = m^2*cos(th)^2 + r^2 \n",
       "g_ph,t = -2*m^2*r*sin(th)^2/(m^2*cos(th)^2 + r^2) \n",
       "g_ph,ph = (2*m^3*r*sin(th)^2/(m^2*cos(th)^2 + r^2) + m^2 + r^2)*sin(th)^2 "
      ]
     },
     "execution_count": 14,
     "metadata": {},
     "output_type": "execute_result"
    }
   ],
   "source": [
    "g.display_comp()"
   ]
  },
  {
   "cell_type": "markdown",
   "metadata": {},
   "source": [
    "Let us check that we are dealing with a solution of the **vacuum Einstein equation**:"
   ]
  },
  {
   "cell_type": "code",
   "execution_count": 15,
   "metadata": {},
   "outputs": [
    {
     "data": {
      "text/html": [
       "<html>\\(\\displaystyle \\mathrm{Ric}\\left(g\\right) = 0\\)</html>"
      ],
      "text/latex": [
       "$\\displaystyle \\mathrm{Ric}\\left(g\\right) = 0$"
      ],
      "text/plain": [
       "Ric(g) = 0"
      ]
     },
     "execution_count": 15,
     "metadata": {},
     "output_type": "execute_result"
    }
   ],
   "source": [
    "g.ricci().display()"
   ]
  },
  {
   "cell_type": "markdown",
   "metadata": {},
   "source": [
    "## Near-horizon coordinates\n",
    "\n",
    "Let us introduce the chart `NH` of the near-horizon coordinates $(T, R, \\theta, \\Phi)$:"
   ]
  },
  {
   "cell_type": "code",
   "execution_count": 16,
   "metadata": {},
   "outputs": [
    {
     "name": "stdout",
     "output_type": "stream",
     "text": [
      "Chart (M, (T, R, th, Ph))\n"
     ]
    },
    {
     "data": {
      "text/html": [
       "<html>\\(\\displaystyle \\left(\\mathcal{M},(T, R, {\\theta}, {\\Phi})\\right)\\)</html>"
      ],
      "text/latex": [
       "$\\displaystyle \\left(\\mathcal{M},(T, R, {\\theta}, {\\Phi})\\right)$"
      ],
      "text/plain": [
       "Chart (M, (T, R, th, Ph))"
      ]
     },
     "execution_count": 16,
     "metadata": {},
     "output_type": "execute_result"
    }
   ],
   "source": [
    "NH.<T,R,th,Ph> = M.chart(r\"T R th:(0,pi):\\theta Ph:(0,2*pi):periodic:\\Phi\") \n",
    "print(NH)\n",
    "NH"
   ]
  },
  {
   "cell_type": "code",
   "execution_count": 17,
   "metadata": {},
   "outputs": [
    {
     "data": {
      "text/html": [
       "<html>\\(\\displaystyle \\left[\\left(\\mathcal{M},(t, r, {\\theta}, {\\phi})\\right), \\left(\\mathcal{M},(T, R, {\\theta}, {\\Phi})\\right)\\right]\\)</html>"
      ],
      "text/latex": [
       "$\\displaystyle \\left[\\left(\\mathcal{M},(t, r, {\\theta}, {\\phi})\\right), \\left(\\mathcal{M},(T, R, {\\theta}, {\\Phi})\\right)\\right]$"
      ],
      "text/plain": [
       "[Chart (M, (t, r, th, ph)), Chart (M, (T, R, th, Ph))]"
      ]
     },
     "execution_count": 17,
     "metadata": {},
     "output_type": "execute_result"
    }
   ],
   "source": [
    "M.atlas()"
   ]
  },
  {
   "cell_type": "markdown",
   "metadata": {},
   "source": [
    "Following J. Bardeen and G. T. Horowitz, \n",
    "[Phys. Rev. D **60**, 104030 (1999)](https://doi.org/10.1103/PhysRevD.60.104030) ([arXiv:hep-th/9905099](https://arxiv.org/abs/hep-th/9905099)), the near-horizon coordinates $(T, R, \\theta, \\Phi)$ are related to the Boyer-Lindquist coordinates by\n",
    "$$T = \\epsilon \\frac{t}{2m}, \\quad R = \\frac{r-m}{\\epsilon m},\\quad \\theta = \\theta, \n",
    "\\quad\\Phi = \\phi - \\frac{t}{2m},$$\n",
    "where $\\epsilon$ is a constant parameter.\n",
    "The horizon of the extremal Kerr black hole is located at $r=m$, which corresponds to $R=0$.\n",
    "\n",
    "*NB:* the coordinates $T$ and $R$ introduced by Bardeen and Horowitz (BH), which are denoted $t$ and $r$ by them, are actually $T_{\\rm BH} = 2m T$ and $R_{\\rm BH} = m R$.\n",
    "\n",
    "We implement the above relations as a **transition map** from the chart `BL` to the chart `NH`:"
   ]
  },
  {
   "cell_type": "code",
   "execution_count": 18,
   "metadata": {},
   "outputs": [
    {
     "data": {
      "text/html": [
       "<html>\\(\\displaystyle \\left\\{\\begin{array}{lcl} T & = & \\frac{{\\epsilon} t}{2 \\, m} \\\\ R & = & -\\frac{m - r}{{\\epsilon} m} \\\\ {\\theta} & = & {\\theta} \\\\ {\\Phi} & = & {\\phi} - \\frac{t}{2 \\, m} \\end{array}\\right.\\)</html>"
      ],
      "text/latex": [
       "$\\displaystyle \\left\\{\\begin{array}{lcl} T & = & \\frac{{\\epsilon} t}{2 \\, m} \\\\ R & = & -\\frac{m - r}{{\\epsilon} m} \\\\ {\\theta} & = & {\\theta} \\\\ {\\Phi} & = & {\\phi} - \\frac{t}{2 \\, m} \\end{array}\\right.$"
      ],
      "text/plain": [
       "T = 1/2*eps*t/m\n",
       "R = -(m - r)/(eps*m)\n",
       "th = th\n",
       "Ph = ph - 1/2*t/m"
      ]
     },
     "execution_count": 18,
     "metadata": {},
     "output_type": "execute_result"
    }
   ],
   "source": [
    "eps = var('eps', latex_name=r'\\epsilon')\n",
    "BL_to_NH = BL.transition_map(NH, [eps*t/(2*m), (r-m)/(eps*m), th, ph - t/(2*m)])\n",
    "BL_to_NH.display()"
   ]
  },
  {
   "cell_type": "markdown",
   "metadata": {},
   "source": [
    "The inverse relation is"
   ]
  },
  {
   "cell_type": "code",
   "execution_count": 19,
   "metadata": {},
   "outputs": [
    {
     "data": {
      "text/html": [
       "<html>\\(\\displaystyle \\left\\{\\begin{array}{lcl} t & = & \\frac{2 \\, T m}{{\\epsilon}} \\\\ r & = & {\\left(R {\\epsilon} + 1\\right)} m \\\\ {\\theta} & = & {\\theta} \\\\ {\\phi} & = & \\frac{{\\Phi} {\\epsilon} + T}{{\\epsilon}} \\end{array}\\right.\\)</html>"
      ],
      "text/latex": [
       "$\\displaystyle \\left\\{\\begin{array}{lcl} t & = & \\frac{2 \\, T m}{{\\epsilon}} \\\\ r & = & {\\left(R {\\epsilon} + 1\\right)} m \\\\ {\\theta} & = & {\\theta} \\\\ {\\phi} & = & \\frac{{\\Phi} {\\epsilon} + T}{{\\epsilon}} \\end{array}\\right.$"
      ],
      "text/plain": [
       "t = 2*T*m/eps\n",
       "r = (R*eps + 1)*m\n",
       "th = th\n",
       "ph = (Ph*eps + T)/eps"
      ]
     },
     "execution_count": 19,
     "metadata": {},
     "output_type": "execute_result"
    }
   ],
   "source": [
    "BL_to_NH.inverse().display()"
   ]
  },
  {
   "cell_type": "markdown",
   "metadata": {},
   "source": [
    "Note that we have"
   ]
  },
  {
   "cell_type": "code",
   "execution_count": 20,
   "metadata": {},
   "outputs": [
    {
     "data": {
      "text/html": [
       "<html>\\(\\displaystyle \\left(\\begin{array}{rrrr}\n",
       "\\frac{{\\epsilon}}{2 \\, m} & 0 & 0 & 0 \\\\\n",
       "0 & \\frac{1}{{\\epsilon} m} & 0 & 0 \\\\\n",
       "0 & 0 & 1 & 0 \\\\\n",
       "-\\frac{1}{2 \\, m} & 0 & 0 & 1\n",
       "\\end{array}\\right)\\)</html>"
      ],
      "text/latex": [
       "$\\displaystyle \\left(\\begin{array}{rrrr}\n",
       "\\frac{{\\epsilon}}{2 \\, m} & 0 & 0 & 0 \\\\\n",
       "0 & \\frac{1}{{\\epsilon} m} & 0 & 0 \\\\\n",
       "0 & 0 & 1 & 0 \\\\\n",
       "-\\frac{1}{2 \\, m} & 0 & 0 & 1\n",
       "\\end{array}\\right)$"
      ],
      "text/plain": [
       "[1/2*eps/m         0         0         0]\n",
       "[        0 1/(eps*m)         0         0]\n",
       "[        0         0         1         0]\n",
       "[   -1/2/m         0         0         1]"
      ]
     },
     "execution_count": 20,
     "metadata": {},
     "output_type": "execute_result"
    }
   ],
   "source": [
    "BL_to_NH.jacobian()"
   ]
  },
  {
   "cell_type": "markdown",
   "metadata": {},
   "source": [
    "and"
   ]
  },
  {
   "cell_type": "code",
   "execution_count": 21,
   "metadata": {},
   "outputs": [
    {
     "data": {
      "text/html": [
       "<html>\\(\\displaystyle \\frac{1}{2 \\, m^{2}}\\)</html>"
      ],
      "text/latex": [
       "$\\displaystyle \\frac{1}{2 \\, m^{2}}$"
      ],
      "text/plain": [
       "1/2/m^2"
      ]
     },
     "execution_count": 21,
     "metadata": {},
     "output_type": "execute_result"
    }
   ],
   "source": [
    "BL_to_NH.jacobian_det()"
   ]
  },
  {
   "cell_type": "markdown",
   "metadata": {},
   "source": [
    "The metric components with respect the coordinates \n",
    "$(T, R, \\theta, \\Phi)$ are computed by passing the \n",
    "chart `NH` to the method `display()`:"
   ]
  },
  {
   "cell_type": "code",
   "execution_count": 22,
   "metadata": {},
   "outputs": [
    {
     "data": {
      "text/html": [
       "<html>\\(\\displaystyle \\left(\\mathcal{M},(t, r, {\\theta}, {\\phi})\\right)\\)</html>"
      ],
      "text/latex": [
       "$\\displaystyle \\left(\\mathcal{M},(t, r, {\\theta}, {\\phi})\\right)$"
      ],
      "text/plain": [
       "Chart (M, (t, r, th, ph))"
      ]
     },
     "execution_count": 22,
     "metadata": {},
     "output_type": "execute_result"
    }
   ],
   "source": [
    "M.default_chart()"
   ]
  },
  {
   "cell_type": "code",
   "execution_count": 23,
   "metadata": {},
   "outputs": [
    {
     "data": {
      "text/html": [
       "<html>\\(\\displaystyle g = \\left( \\frac{2 \\, m r}{m^{2} \\cos\\left({\\theta}\\right)^{2} + r^{2}} - 1 \\right) \\mathrm{d} t\\otimes \\mathrm{d} t + \\left( -\\frac{2 \\, m^{2} r \\sin\\left({\\theta}\\right)^{2}}{m^{2} \\cos\\left({\\theta}\\right)^{2} + r^{2}} \\right) \\mathrm{d} t\\otimes \\mathrm{d} {\\phi} + \\left( \\frac{m^{2} \\cos\\left({\\theta}\\right)^{2} + r^{2}}{m^{2} - 2 \\, m r + r^{2}} \\right) \\mathrm{d} r\\otimes \\mathrm{d} r + \\left( m^{2} \\cos\\left({\\theta}\\right)^{2} + r^{2} \\right) \\mathrm{d} {\\theta}\\otimes \\mathrm{d} {\\theta} + \\left( -\\frac{2 \\, m^{2} r \\sin\\left({\\theta}\\right)^{2}}{m^{2} \\cos\\left({\\theta}\\right)^{2} + r^{2}} \\right) \\mathrm{d} {\\phi}\\otimes \\mathrm{d} t + {\\left(\\frac{2 \\, m^{3} r \\sin\\left({\\theta}\\right)^{2}}{m^{2} \\cos\\left({\\theta}\\right)^{2} + r^{2}} + m^{2} + r^{2}\\right)} \\sin\\left({\\theta}\\right)^{2} \\mathrm{d} {\\phi}\\otimes \\mathrm{d} {\\phi}\\)</html>"
      ],
      "text/latex": [
       "$\\displaystyle g = \\left( \\frac{2 \\, m r}{m^{2} \\cos\\left({\\theta}\\right)^{2} + r^{2}} - 1 \\right) \\mathrm{d} t\\otimes \\mathrm{d} t + \\left( -\\frac{2 \\, m^{2} r \\sin\\left({\\theta}\\right)^{2}}{m^{2} \\cos\\left({\\theta}\\right)^{2} + r^{2}} \\right) \\mathrm{d} t\\otimes \\mathrm{d} {\\phi} + \\left( \\frac{m^{2} \\cos\\left({\\theta}\\right)^{2} + r^{2}}{m^{2} - 2 \\, m r + r^{2}} \\right) \\mathrm{d} r\\otimes \\mathrm{d} r + \\left( m^{2} \\cos\\left({\\theta}\\right)^{2} + r^{2} \\right) \\mathrm{d} {\\theta}\\otimes \\mathrm{d} {\\theta} + \\left( -\\frac{2 \\, m^{2} r \\sin\\left({\\theta}\\right)^{2}}{m^{2} \\cos\\left({\\theta}\\right)^{2} + r^{2}} \\right) \\mathrm{d} {\\phi}\\otimes \\mathrm{d} t + {\\left(\\frac{2 \\, m^{3} r \\sin\\left({\\theta}\\right)^{2}}{m^{2} \\cos\\left({\\theta}\\right)^{2} + r^{2}} + m^{2} + r^{2}\\right)} \\sin\\left({\\theta}\\right)^{2} \\mathrm{d} {\\phi}\\otimes \\mathrm{d} {\\phi}$"
      ],
      "text/plain": [
       "g = (2*m*r/(m^2*cos(th)^2 + r^2) - 1) dt⊗dt - 2*m^2*r*sin(th)^2/(m^2*cos(th)^2 + r^2) dt⊗dph + (m^2*cos(th)^2 + r^2)/(m^2 - 2*m*r + r^2) dr⊗dr + (m^2*cos(th)^2 + r^2) dth⊗dth - 2*m^2*r*sin(th)^2/(m^2*cos(th)^2 + r^2) dph⊗dt + (2*m^3*r*sin(th)^2/(m^2*cos(th)^2 + r^2) + m^2 + r^2)*sin(th)^2 dph⊗dph"
      ]
     },
     "execution_count": 23,
     "metadata": {},
     "output_type": "execute_result"
    }
   ],
   "source": [
    "g.display()  # display in the default chart, i.e. BL"
   ]
  },
  {
   "cell_type": "code",
   "execution_count": 24,
   "metadata": {},
   "outputs": [
    {
     "data": {
      "text/html": [
       "<html>\\(\\displaystyle g = \\left( -\\frac{R^{2} m^{2} \\cos\\left({\\theta}\\right)^{4} + {\\left(R^{4} {\\epsilon}^{2} + 4 \\, R^{3} {\\epsilon} + 6 \\, R^{2}\\right)} m^{2} \\cos\\left({\\theta}\\right)^{2} - {\\left(R^{4} {\\epsilon}^{2} + 4 \\, R^{3} {\\epsilon} + 3 \\, R^{2}\\right)} m^{2}}{R^{2} {\\epsilon}^{2} + 2 \\, R {\\epsilon} + \\cos\\left({\\theta}\\right)^{2} + 1} \\right) \\mathrm{d} T\\otimes \\mathrm{d} T + \\left( -\\frac{R^{2} {\\epsilon} m^{2} \\sin\\left({\\theta}\\right)^{4} - {\\left(R^{4} {\\epsilon}^{3} + 4 \\, R^{3} {\\epsilon}^{2} + 8 \\, R^{2} {\\epsilon} + 4 \\, R\\right)} m^{2} \\sin\\left({\\theta}\\right)^{2}}{R^{2} {\\epsilon}^{2} + 2 \\, R {\\epsilon} + \\cos\\left({\\theta}\\right)^{2} + 1} \\right) \\mathrm{d} T\\otimes \\mathrm{d} {\\Phi} + \\left( \\frac{m^{2} \\cos\\left({\\theta}\\right)^{2} + {\\left(R^{2} {\\epsilon}^{2} + 2 \\, R {\\epsilon} + 1\\right)} m^{2}}{R^{2}} \\right) \\mathrm{d} R\\otimes \\mathrm{d} R + \\left( m^{2} \\cos\\left({\\theta}\\right)^{2} + {\\left(R^{2} {\\epsilon}^{2} + 2 \\, R {\\epsilon} + 1\\right)} m^{2} \\right) \\mathrm{d} {\\theta}\\otimes \\mathrm{d} {\\theta} + \\left( -\\frac{R^{2} {\\epsilon} m^{2} \\sin\\left({\\theta}\\right)^{4} - {\\left(R^{4} {\\epsilon}^{3} + 4 \\, R^{3} {\\epsilon}^{2} + 8 \\, R^{2} {\\epsilon} + 4 \\, R\\right)} m^{2} \\sin\\left({\\theta}\\right)^{2}}{R^{2} {\\epsilon}^{2} + 2 \\, R {\\epsilon} + \\cos\\left({\\theta}\\right)^{2} + 1} \\right) \\mathrm{d} {\\Phi}\\otimes \\mathrm{d} T + \\left( -\\frac{R^{2} {\\epsilon}^{2} m^{2} \\sin\\left({\\theta}\\right)^{4} - {\\left(R^{4} {\\epsilon}^{4} + 4 \\, R^{3} {\\epsilon}^{3} + 8 \\, R^{2} {\\epsilon}^{2} + 8 \\, R {\\epsilon} + 4\\right)} m^{2} \\sin\\left({\\theta}\\right)^{2}}{R^{2} {\\epsilon}^{2} + 2 \\, R {\\epsilon} + \\cos\\left({\\theta}\\right)^{2} + 1} \\right) \\mathrm{d} {\\Phi}\\otimes \\mathrm{d} {\\Phi}\\)</html>"
      ],
      "text/latex": [
       "$\\displaystyle g = \\left( -\\frac{R^{2} m^{2} \\cos\\left({\\theta}\\right)^{4} + {\\left(R^{4} {\\epsilon}^{2} + 4 \\, R^{3} {\\epsilon} + 6 \\, R^{2}\\right)} m^{2} \\cos\\left({\\theta}\\right)^{2} - {\\left(R^{4} {\\epsilon}^{2} + 4 \\, R^{3} {\\epsilon} + 3 \\, R^{2}\\right)} m^{2}}{R^{2} {\\epsilon}^{2} + 2 \\, R {\\epsilon} + \\cos\\left({\\theta}\\right)^{2} + 1} \\right) \\mathrm{d} T\\otimes \\mathrm{d} T + \\left( -\\frac{R^{2} {\\epsilon} m^{2} \\sin\\left({\\theta}\\right)^{4} - {\\left(R^{4} {\\epsilon}^{3} + 4 \\, R^{3} {\\epsilon}^{2} + 8 \\, R^{2} {\\epsilon} + 4 \\, R\\right)} m^{2} \\sin\\left({\\theta}\\right)^{2}}{R^{2} {\\epsilon}^{2} + 2 \\, R {\\epsilon} + \\cos\\left({\\theta}\\right)^{2} + 1} \\right) \\mathrm{d} T\\otimes \\mathrm{d} {\\Phi} + \\left( \\frac{m^{2} \\cos\\left({\\theta}\\right)^{2} + {\\left(R^{2} {\\epsilon}^{2} + 2 \\, R {\\epsilon} + 1\\right)} m^{2}}{R^{2}} \\right) \\mathrm{d} R\\otimes \\mathrm{d} R + \\left( m^{2} \\cos\\left({\\theta}\\right)^{2} + {\\left(R^{2} {\\epsilon}^{2} + 2 \\, R {\\epsilon} + 1\\right)} m^{2} \\right) \\mathrm{d} {\\theta}\\otimes \\mathrm{d} {\\theta} + \\left( -\\frac{R^{2} {\\epsilon} m^{2} \\sin\\left({\\theta}\\right)^{4} - {\\left(R^{4} {\\epsilon}^{3} + 4 \\, R^{3} {\\epsilon}^{2} + 8 \\, R^{2} {\\epsilon} + 4 \\, R\\right)} m^{2} \\sin\\left({\\theta}\\right)^{2}}{R^{2} {\\epsilon}^{2} + 2 \\, R {\\epsilon} + \\cos\\left({\\theta}\\right)^{2} + 1} \\right) \\mathrm{d} {\\Phi}\\otimes \\mathrm{d} T + \\left( -\\frac{R^{2} {\\epsilon}^{2} m^{2} \\sin\\left({\\theta}\\right)^{4} - {\\left(R^{4} {\\epsilon}^{4} + 4 \\, R^{3} {\\epsilon}^{3} + 8 \\, R^{2} {\\epsilon}^{2} + 8 \\, R {\\epsilon} + 4\\right)} m^{2} \\sin\\left({\\theta}\\right)^{2}}{R^{2} {\\epsilon}^{2} + 2 \\, R {\\epsilon} + \\cos\\left({\\theta}\\right)^{2} + 1} \\right) \\mathrm{d} {\\Phi}\\otimes \\mathrm{d} {\\Phi}$"
      ],
      "text/plain": [
       "g = -(R^2*m^2*cos(th)^4 + (R^4*eps^2 + 4*R^3*eps + 6*R^2)*m^2*cos(th)^2 - (R^4*eps^2 + 4*R^3*eps + 3*R^2)*m^2)/(R^2*eps^2 + 2*R*eps + cos(th)^2 + 1) dT⊗dT - (R^2*eps*m^2*sin(th)^4 - (R^4*eps^3 + 4*R^3*eps^2 + 8*R^2*eps + 4*R)*m^2*sin(th)^2)/(R^2*eps^2 + 2*R*eps + cos(th)^2 + 1) dT⊗dPh + (m^2*cos(th)^2 + (R^2*eps^2 + 2*R*eps + 1)*m^2)/R^2 dR⊗dR + (m^2*cos(th)^2 + (R^2*eps^2 + 2*R*eps + 1)*m^2) dth⊗dth - (R^2*eps*m^2*sin(th)^4 - (R^4*eps^3 + 4*R^3*eps^2 + 8*R^2*eps + 4*R)*m^2*sin(th)^2)/(R^2*eps^2 + 2*R*eps + cos(th)^2 + 1) dPh⊗dT - (R^2*eps^2*m^2*sin(th)^4 - (R^4*eps^4 + 4*R^3*eps^3 + 8*R^2*eps^2 + 8*R*eps + 4)*m^2*sin(th)^2)/(R^2*eps^2 + 2*R*eps + cos(th)^2 + 1) dPh⊗dPh"
      ]
     },
     "execution_count": 24,
     "metadata": {},
     "output_type": "execute_result"
    }
   ],
   "source": [
    "g.display(NH)  # triggers the computation of the components w.r.t. NH chart"
   ]
  },
  {
   "cell_type": "markdown",
   "metadata": {},
   "source": [
    "From now on, we set the near-horizon coordinates as the default ones on the spacetime manifold:"
   ]
  },
  {
   "cell_type": "code",
   "execution_count": 25,
   "metadata": {},
   "outputs": [],
   "source": [
    "M.set_default_chart(NH)\n",
    "M.set_default_frame(NH.frame())"
   ]
  },
  {
   "cell_type": "markdown",
   "metadata": {},
   "source": [
    "Hence `NH` becomes the default argument of `display()`:"
   ]
  },
  {
   "cell_type": "code",
   "execution_count": 26,
   "metadata": {},
   "outputs": [
    {
     "data": {
      "text/html": [
       "<html>\\(\\displaystyle g = \\left( -\\frac{R^{2} m^{2} \\cos\\left({\\theta}\\right)^{4} + {\\left(R^{4} {\\epsilon}^{2} + 4 \\, R^{3} {\\epsilon} + 6 \\, R^{2}\\right)} m^{2} \\cos\\left({\\theta}\\right)^{2} - {\\left(R^{4} {\\epsilon}^{2} + 4 \\, R^{3} {\\epsilon} + 3 \\, R^{2}\\right)} m^{2}}{R^{2} {\\epsilon}^{2} + 2 \\, R {\\epsilon} + \\cos\\left({\\theta}\\right)^{2} + 1} \\right) \\mathrm{d} T\\otimes \\mathrm{d} T + \\left( -\\frac{R^{2} {\\epsilon} m^{2} \\sin\\left({\\theta}\\right)^{4} - {\\left(R^{4} {\\epsilon}^{3} + 4 \\, R^{3} {\\epsilon}^{2} + 8 \\, R^{2} {\\epsilon} + 4 \\, R\\right)} m^{2} \\sin\\left({\\theta}\\right)^{2}}{R^{2} {\\epsilon}^{2} + 2 \\, R {\\epsilon} + \\cos\\left({\\theta}\\right)^{2} + 1} \\right) \\mathrm{d} T\\otimes \\mathrm{d} {\\Phi} + \\left( \\frac{m^{2} \\cos\\left({\\theta}\\right)^{2} + {\\left(R^{2} {\\epsilon}^{2} + 2 \\, R {\\epsilon} + 1\\right)} m^{2}}{R^{2}} \\right) \\mathrm{d} R\\otimes \\mathrm{d} R + \\left( m^{2} \\cos\\left({\\theta}\\right)^{2} + {\\left(R^{2} {\\epsilon}^{2} + 2 \\, R {\\epsilon} + 1\\right)} m^{2} \\right) \\mathrm{d} {\\theta}\\otimes \\mathrm{d} {\\theta} + \\left( -\\frac{R^{2} {\\epsilon} m^{2} \\sin\\left({\\theta}\\right)^{4} - {\\left(R^{4} {\\epsilon}^{3} + 4 \\, R^{3} {\\epsilon}^{2} + 8 \\, R^{2} {\\epsilon} + 4 \\, R\\right)} m^{2} \\sin\\left({\\theta}\\right)^{2}}{R^{2} {\\epsilon}^{2} + 2 \\, R {\\epsilon} + \\cos\\left({\\theta}\\right)^{2} + 1} \\right) \\mathrm{d} {\\Phi}\\otimes \\mathrm{d} T + \\left( -\\frac{R^{2} {\\epsilon}^{2} m^{2} \\sin\\left({\\theta}\\right)^{4} - {\\left(R^{4} {\\epsilon}^{4} + 4 \\, R^{3} {\\epsilon}^{3} + 8 \\, R^{2} {\\epsilon}^{2} + 8 \\, R {\\epsilon} + 4\\right)} m^{2} \\sin\\left({\\theta}\\right)^{2}}{R^{2} {\\epsilon}^{2} + 2 \\, R {\\epsilon} + \\cos\\left({\\theta}\\right)^{2} + 1} \\right) \\mathrm{d} {\\Phi}\\otimes \\mathrm{d} {\\Phi}\\)</html>"
      ],
      "text/latex": [
       "$\\displaystyle g = \\left( -\\frac{R^{2} m^{2} \\cos\\left({\\theta}\\right)^{4} + {\\left(R^{4} {\\epsilon}^{2} + 4 \\, R^{3} {\\epsilon} + 6 \\, R^{2}\\right)} m^{2} \\cos\\left({\\theta}\\right)^{2} - {\\left(R^{4} {\\epsilon}^{2} + 4 \\, R^{3} {\\epsilon} + 3 \\, R^{2}\\right)} m^{2}}{R^{2} {\\epsilon}^{2} + 2 \\, R {\\epsilon} + \\cos\\left({\\theta}\\right)^{2} + 1} \\right) \\mathrm{d} T\\otimes \\mathrm{d} T + \\left( -\\frac{R^{2} {\\epsilon} m^{2} \\sin\\left({\\theta}\\right)^{4} - {\\left(R^{4} {\\epsilon}^{3} + 4 \\, R^{3} {\\epsilon}^{2} + 8 \\, R^{2} {\\epsilon} + 4 \\, R\\right)} m^{2} \\sin\\left({\\theta}\\right)^{2}}{R^{2} {\\epsilon}^{2} + 2 \\, R {\\epsilon} + \\cos\\left({\\theta}\\right)^{2} + 1} \\right) \\mathrm{d} T\\otimes \\mathrm{d} {\\Phi} + \\left( \\frac{m^{2} \\cos\\left({\\theta}\\right)^{2} + {\\left(R^{2} {\\epsilon}^{2} + 2 \\, R {\\epsilon} + 1\\right)} m^{2}}{R^{2}} \\right) \\mathrm{d} R\\otimes \\mathrm{d} R + \\left( m^{2} \\cos\\left({\\theta}\\right)^{2} + {\\left(R^{2} {\\epsilon}^{2} + 2 \\, R {\\epsilon} + 1\\right)} m^{2} \\right) \\mathrm{d} {\\theta}\\otimes \\mathrm{d} {\\theta} + \\left( -\\frac{R^{2} {\\epsilon} m^{2} \\sin\\left({\\theta}\\right)^{4} - {\\left(R^{4} {\\epsilon}^{3} + 4 \\, R^{3} {\\epsilon}^{2} + 8 \\, R^{2} {\\epsilon} + 4 \\, R\\right)} m^{2} \\sin\\left({\\theta}\\right)^{2}}{R^{2} {\\epsilon}^{2} + 2 \\, R {\\epsilon} + \\cos\\left({\\theta}\\right)^{2} + 1} \\right) \\mathrm{d} {\\Phi}\\otimes \\mathrm{d} T + \\left( -\\frac{R^{2} {\\epsilon}^{2} m^{2} \\sin\\left({\\theta}\\right)^{4} - {\\left(R^{4} {\\epsilon}^{4} + 4 \\, R^{3} {\\epsilon}^{3} + 8 \\, R^{2} {\\epsilon}^{2} + 8 \\, R {\\epsilon} + 4\\right)} m^{2} \\sin\\left({\\theta}\\right)^{2}}{R^{2} {\\epsilon}^{2} + 2 \\, R {\\epsilon} + \\cos\\left({\\theta}\\right)^{2} + 1} \\right) \\mathrm{d} {\\Phi}\\otimes \\mathrm{d} {\\Phi}$"
      ],
      "text/plain": [
       "g = -(R^2*m^2*cos(th)^4 + (R^4*eps^2 + 4*R^3*eps + 6*R^2)*m^2*cos(th)^2 - (R^4*eps^2 + 4*R^3*eps + 3*R^2)*m^2)/(R^2*eps^2 + 2*R*eps + cos(th)^2 + 1) dT⊗dT - (R^2*eps*m^2*sin(th)^4 - (R^4*eps^3 + 4*R^3*eps^2 + 8*R^2*eps + 4*R)*m^2*sin(th)^2)/(R^2*eps^2 + 2*R*eps + cos(th)^2 + 1) dT⊗dPh + (m^2*cos(th)^2 + (R^2*eps^2 + 2*R*eps + 1)*m^2)/R^2 dR⊗dR + (m^2*cos(th)^2 + (R^2*eps^2 + 2*R*eps + 1)*m^2) dth⊗dth - (R^2*eps*m^2*sin(th)^4 - (R^4*eps^3 + 4*R^3*eps^2 + 8*R^2*eps + 4*R)*m^2*sin(th)^2)/(R^2*eps^2 + 2*R*eps + cos(th)^2 + 1) dPh⊗dT - (R^2*eps^2*m^2*sin(th)^4 - (R^4*eps^4 + 4*R^3*eps^3 + 8*R^2*eps^2 + 8*R*eps + 4)*m^2*sin(th)^2)/(R^2*eps^2 + 2*R*eps + cos(th)^2 + 1) dPh⊗dPh"
      ]
     },
     "execution_count": 26,
     "metadata": {},
     "output_type": "execute_result"
    }
   ],
   "source": [
    "g.display()"
   ]
  },
  {
   "cell_type": "markdown",
   "metadata": {},
   "source": [
    "## The near-horizon metric $h$ as the limit $\\epsilon\\to 0$ of the Kerr metric $g$\n",
    "\n",
    "Let us define the *near-horizon metric* as the metric $h$ on $\\mathcal{M}$ that is the limit $\\epsilon\\to 0$ of the Kerr metric $g$. The limit is taken by asking for a series expansion of $g$ with respect to $\\epsilon$ up to the 0-th order (i.e. keeping only $\\epsilon^0$ terms). This is achieved via the method `truncate`:"
   ]
  },
  {
   "cell_type": "code",
   "execution_count": 27,
   "metadata": {},
   "outputs": [
    {
     "data": {
      "text/html": [
       "<html>\\(\\displaystyle h = \\left( -\\frac{R^{2} m^{2} \\cos\\left({\\theta}\\right)^{4}}{\\cos\\left({\\theta}\\right)^{2} + 1} - \\frac{6 \\, R^{2} m^{2} \\cos\\left({\\theta}\\right)^{2}}{\\cos\\left({\\theta}\\right)^{2} + 1} + \\frac{3 \\, R^{2} m^{2}}{\\cos\\left({\\theta}\\right)^{2} + 1} \\right) \\mathrm{d} T\\otimes \\mathrm{d} T + \\left( \\frac{4 \\, R m^{2} \\sin\\left({\\theta}\\right)^{2}}{\\cos\\left({\\theta}\\right)^{2} + 1} \\right) \\mathrm{d} T\\otimes \\mathrm{d} {\\Phi} + \\left( \\frac{m^{2} \\cos\\left({\\theta}\\right)^{2}}{R^{2}} + \\frac{m^{2}}{R^{2}} \\right) \\mathrm{d} R\\otimes \\mathrm{d} R + \\left( m^{2} \\cos\\left({\\theta}\\right)^{2} + m^{2} \\right) \\mathrm{d} {\\theta}\\otimes \\mathrm{d} {\\theta} + \\left( \\frac{4 \\, R m^{2} \\sin\\left({\\theta}\\right)^{2}}{\\cos\\left({\\theta}\\right)^{2} + 1} \\right) \\mathrm{d} {\\Phi}\\otimes \\mathrm{d} T + \\left( \\frac{4 \\, m^{2} \\sin\\left({\\theta}\\right)^{2}}{\\cos\\left({\\theta}\\right)^{2} + 1} \\right) \\mathrm{d} {\\Phi}\\otimes \\mathrm{d} {\\Phi}\\)</html>"
      ],
      "text/latex": [
       "$\\displaystyle h = \\left( -\\frac{R^{2} m^{2} \\cos\\left({\\theta}\\right)^{4}}{\\cos\\left({\\theta}\\right)^{2} + 1} - \\frac{6 \\, R^{2} m^{2} \\cos\\left({\\theta}\\right)^{2}}{\\cos\\left({\\theta}\\right)^{2} + 1} + \\frac{3 \\, R^{2} m^{2}}{\\cos\\left({\\theta}\\right)^{2} + 1} \\right) \\mathrm{d} T\\otimes \\mathrm{d} T + \\left( \\frac{4 \\, R m^{2} \\sin\\left({\\theta}\\right)^{2}}{\\cos\\left({\\theta}\\right)^{2} + 1} \\right) \\mathrm{d} T\\otimes \\mathrm{d} {\\Phi} + \\left( \\frac{m^{2} \\cos\\left({\\theta}\\right)^{2}}{R^{2}} + \\frac{m^{2}}{R^{2}} \\right) \\mathrm{d} R\\otimes \\mathrm{d} R + \\left( m^{2} \\cos\\left({\\theta}\\right)^{2} + m^{2} \\right) \\mathrm{d} {\\theta}\\otimes \\mathrm{d} {\\theta} + \\left( \\frac{4 \\, R m^{2} \\sin\\left({\\theta}\\right)^{2}}{\\cos\\left({\\theta}\\right)^{2} + 1} \\right) \\mathrm{d} {\\Phi}\\otimes \\mathrm{d} T + \\left( \\frac{4 \\, m^{2} \\sin\\left({\\theta}\\right)^{2}}{\\cos\\left({\\theta}\\right)^{2} + 1} \\right) \\mathrm{d} {\\Phi}\\otimes \\mathrm{d} {\\Phi}$"
      ],
      "text/plain": [
       "h = (-R^2*m^2*cos(th)^4/(cos(th)^2 + 1) - 6*R^2*m^2*cos(th)^2/(cos(th)^2 + 1) + 3*R^2*m^2/(cos(th)^2 + 1)) dT⊗dT + 4*R*m^2*sin(th)^2/(cos(th)^2 + 1) dT⊗dPh + (m^2*cos(th)^2/R^2 + m^2/R^2) dR⊗dR + (m^2*cos(th)^2 + m^2) dth⊗dth + 4*R*m^2*sin(th)^2/(cos(th)^2 + 1) dPh⊗dT + 4*m^2*sin(th)^2/(cos(th)^2 + 1) dPh⊗dPh"
      ]
     },
     "execution_count": 27,
     "metadata": {},
     "output_type": "execute_result"
    }
   ],
   "source": [
    "h = M.lorentzian_metric('h')\n",
    "h.set( g.truncate(eps, 0) )\n",
    "h.display()"
   ]
  },
  {
   "cell_type": "code",
   "execution_count": 28,
   "metadata": {},
   "outputs": [
    {
     "data": {
      "text/html": [
       "<html>\\(\\displaystyle h = \\left( -\\frac{{\\left(\\cos\\left({\\theta}\\right)^{4} + 6 \\, \\cos\\left({\\theta}\\right)^{2} - 3\\right)} R^{2} m^{2}}{\\cos\\left({\\theta}\\right)^{2} + 1} \\right) \\mathrm{d} T\\otimes \\mathrm{d} T + \\left( \\frac{4 \\, R m^{2} \\sin\\left({\\theta}\\right)^{2}}{\\cos\\left({\\theta}\\right)^{2} + 1} \\right) \\mathrm{d} T\\otimes \\mathrm{d} {\\Phi} + \\frac{{\\left(\\cos\\left({\\theta}\\right)^{2} + 1\\right)} m^{2}}{R^{2}} \\mathrm{d} R\\otimes \\mathrm{d} R + {\\left(\\cos\\left({\\theta}\\right)^{2} + 1\\right)} m^{2} \\mathrm{d} {\\theta}\\otimes \\mathrm{d} {\\theta} + \\left( \\frac{4 \\, R m^{2} \\sin\\left({\\theta}\\right)^{2}}{\\cos\\left({\\theta}\\right)^{2} + 1} \\right) \\mathrm{d} {\\Phi}\\otimes \\mathrm{d} T + \\left( \\frac{4 \\, m^{2} \\sin\\left({\\theta}\\right)^{2}}{\\cos\\left({\\theta}\\right)^{2} + 1} \\right) \\mathrm{d} {\\Phi}\\otimes \\mathrm{d} {\\Phi}\\)</html>"
      ],
      "text/latex": [
       "$\\displaystyle h = \\left( -\\frac{{\\left(\\cos\\left({\\theta}\\right)^{4} + 6 \\, \\cos\\left({\\theta}\\right)^{2} - 3\\right)} R^{2} m^{2}}{\\cos\\left({\\theta}\\right)^{2} + 1} \\right) \\mathrm{d} T\\otimes \\mathrm{d} T + \\left( \\frac{4 \\, R m^{2} \\sin\\left({\\theta}\\right)^{2}}{\\cos\\left({\\theta}\\right)^{2} + 1} \\right) \\mathrm{d} T\\otimes \\mathrm{d} {\\Phi} + \\frac{{\\left(\\cos\\left({\\theta}\\right)^{2} + 1\\right)} m^{2}}{R^{2}} \\mathrm{d} R\\otimes \\mathrm{d} R + {\\left(\\cos\\left({\\theta}\\right)^{2} + 1\\right)} m^{2} \\mathrm{d} {\\theta}\\otimes \\mathrm{d} {\\theta} + \\left( \\frac{4 \\, R m^{2} \\sin\\left({\\theta}\\right)^{2}}{\\cos\\left({\\theta}\\right)^{2} + 1} \\right) \\mathrm{d} {\\Phi}\\otimes \\mathrm{d} T + \\left( \\frac{4 \\, m^{2} \\sin\\left({\\theta}\\right)^{2}}{\\cos\\left({\\theta}\\right)^{2} + 1} \\right) \\mathrm{d} {\\Phi}\\otimes \\mathrm{d} {\\Phi}$"
      ],
      "text/plain": [
       "h = -(cos(th)^4 + 6*cos(th)^2 - 3)*R^2*m^2/(cos(th)^2 + 1) dT⊗dT + 4*R*m^2*sin(th)^2/(cos(th)^2 + 1) dT⊗dPh + (cos(th)^2 + 1)*m^2/R^2 dR⊗dR + (cos(th)^2 + 1)*m^2 dth⊗dth + 4*R*m^2*sin(th)^2/(cos(th)^2 + 1) dPh⊗dT + 4*m^2*sin(th)^2/(cos(th)^2 + 1) dPh⊗dPh"
      ]
     },
     "execution_count": 28,
     "metadata": {},
     "output_type": "execute_result"
    }
   ],
   "source": [
    "h.apply_map(factor)\n",
    "h.display()"
   ]
  },
  {
   "cell_type": "code",
   "execution_count": 29,
   "metadata": {},
   "outputs": [
    {
     "data": {
      "text/html": [
       "<html>\\(\\displaystyle \\begin{array}{lcl} h_{ \\, T \\, T }^{ \\phantom{\\, T}\\phantom{\\, T} } & = & -\\frac{{\\left(\\cos\\left({\\theta}\\right)^{4} + 6 \\, \\cos\\left({\\theta}\\right)^{2} - 3\\right)} R^{2} m^{2}}{\\cos\\left({\\theta}\\right)^{2} + 1} \\\\ h_{ \\, T \\, {\\Phi} }^{ \\phantom{\\, T}\\phantom{\\, {\\Phi}} } & = & \\frac{4 \\, R m^{2} \\sin\\left({\\theta}\\right)^{2}}{\\cos\\left({\\theta}\\right)^{2} + 1} \\\\ h_{ \\, R \\, R }^{ \\phantom{\\, R}\\phantom{\\, R} } & = & \\frac{{\\left(\\cos\\left({\\theta}\\right)^{2} + 1\\right)} m^{2}}{R^{2}} \\\\ h_{ \\, {\\theta} \\, {\\theta} }^{ \\phantom{\\, {\\theta}}\\phantom{\\, {\\theta}} } & = & {\\left(\\cos\\left({\\theta}\\right)^{2} + 1\\right)} m^{2} \\\\ h_{ \\, {\\Phi} \\, T }^{ \\phantom{\\, {\\Phi}}\\phantom{\\, T} } & = & \\frac{4 \\, R m^{2} \\sin\\left({\\theta}\\right)^{2}}{\\cos\\left({\\theta}\\right)^{2} + 1} \\\\ h_{ \\, {\\Phi} \\, {\\Phi} }^{ \\phantom{\\, {\\Phi}}\\phantom{\\, {\\Phi}} } & = & \\frac{4 \\, m^{2} \\sin\\left({\\theta}\\right)^{2}}{\\cos\\left({\\theta}\\right)^{2} + 1} \\end{array}\\)</html>"
      ],
      "text/latex": [
       "$\\displaystyle \\begin{array}{lcl} h_{ \\, T \\, T }^{ \\phantom{\\, T}\\phantom{\\, T} } & = & -\\frac{{\\left(\\cos\\left({\\theta}\\right)^{4} + 6 \\, \\cos\\left({\\theta}\\right)^{2} - 3\\right)} R^{2} m^{2}}{\\cos\\left({\\theta}\\right)^{2} + 1} \\\\ h_{ \\, T \\, {\\Phi} }^{ \\phantom{\\, T}\\phantom{\\, {\\Phi}} } & = & \\frac{4 \\, R m^{2} \\sin\\left({\\theta}\\right)^{2}}{\\cos\\left({\\theta}\\right)^{2} + 1} \\\\ h_{ \\, R \\, R }^{ \\phantom{\\, R}\\phantom{\\, R} } & = & \\frac{{\\left(\\cos\\left({\\theta}\\right)^{2} + 1\\right)} m^{2}}{R^{2}} \\\\ h_{ \\, {\\theta} \\, {\\theta} }^{ \\phantom{\\, {\\theta}}\\phantom{\\, {\\theta}} } & = & {\\left(\\cos\\left({\\theta}\\right)^{2} + 1\\right)} m^{2} \\\\ h_{ \\, {\\Phi} \\, T }^{ \\phantom{\\, {\\Phi}}\\phantom{\\, T} } & = & \\frac{4 \\, R m^{2} \\sin\\left({\\theta}\\right)^{2}}{\\cos\\left({\\theta}\\right)^{2} + 1} \\\\ h_{ \\, {\\Phi} \\, {\\Phi} }^{ \\phantom{\\, {\\Phi}}\\phantom{\\, {\\Phi}} } & = & \\frac{4 \\, m^{2} \\sin\\left({\\theta}\\right)^{2}}{\\cos\\left({\\theta}\\right)^{2} + 1} \\end{array}$"
      ],
      "text/plain": [
       "h_T,T = -(cos(th)^4 + 6*cos(th)^2 - 3)*R^2*m^2/(cos(th)^2 + 1) \n",
       "h_T,Ph = 4*R*m^2*sin(th)^2/(cos(th)^2 + 1) \n",
       "h_R,R = (cos(th)^2 + 1)*m^2/R^2 \n",
       "h_th,th = (cos(th)^2 + 1)*m^2 \n",
       "h_Ph,T = 4*R*m^2*sin(th)^2/(cos(th)^2 + 1) \n",
       "h_Ph,Ph = 4*m^2*sin(th)^2/(cos(th)^2 + 1) "
      ]
     },
     "execution_count": 29,
     "metadata": {},
     "output_type": "execute_result"
    }
   ],
   "source": [
    "h.display_comp()"
   ]
  },
  {
   "cell_type": "markdown",
   "metadata": {},
   "source": [
    "As a check, we compare with Eq. (2.6) of [Bardeen & Horowitz, Phys. Rev. D **60**, 104030 (1999)](https://doi.org/10.1103/PhysRevD.60.104030), which involves the bilinear form\n",
    "$$ q = \\frac{4m^2\\sin^2\\theta}{1+\\cos^2\\theta} \n",
    "\\left( \\mathrm{d}\\Phi + R \\mathrm{d} T \\right)^2$$\n",
    "We construct $q$ from the 1-forms $\\mathrm{d} T$ and\n",
    "$\\mathrm{d}\\Phi$:"
   ]
  },
  {
   "cell_type": "code",
   "execution_count": 30,
   "metadata": {},
   "outputs": [
    {
     "data": {
      "text/html": [
       "<html>\\(\\displaystyle \\mathrm{d} T\\)</html>"
      ],
      "text/latex": [
       "$\\displaystyle \\mathrm{d} T$"
      ],
      "text/plain": [
       "1-form dT on the 4-dimensional Lorentzian manifold M"
      ]
     },
     "execution_count": 30,
     "metadata": {},
     "output_type": "execute_result"
    }
   ],
   "source": [
    "dT = NH.coframe()[0]\n",
    "dT"
   ]
  },
  {
   "cell_type": "code",
   "execution_count": 31,
   "metadata": {},
   "outputs": [
    {
     "data": {
      "text/html": [
       "<html>\\(\\displaystyle \\mathrm{d} {\\Phi}\\)</html>"
      ],
      "text/latex": [
       "$\\displaystyle \\mathrm{d} {\\Phi}$"
      ],
      "text/plain": [
       "1-form dPh on the 4-dimensional Lorentzian manifold M"
      ]
     },
     "execution_count": 31,
     "metadata": {},
     "output_type": "execute_result"
    }
   ],
   "source": [
    "dPh = NH.coframe()[3]\n",
    "dPh"
   ]
  },
  {
   "cell_type": "code",
   "execution_count": 32,
   "metadata": {},
   "outputs": [
    {
     "data": {
      "text/html": [
       "<html>\\(\\displaystyle \\left( \\frac{4 \\, R^{2} m^{2} \\sin\\left({\\theta}\\right)^{2}}{\\cos\\left({\\theta}\\right)^{2} + 1} \\right) \\mathrm{d} T\\otimes \\mathrm{d} T + \\left( \\frac{4 \\, R m^{2} \\sin\\left({\\theta}\\right)^{2}}{\\cos\\left({\\theta}\\right)^{2} + 1} \\right) \\mathrm{d} T\\otimes \\mathrm{d} {\\Phi} + \\left( \\frac{4 \\, R m^{2} \\sin\\left({\\theta}\\right)^{2}}{\\cos\\left({\\theta}\\right)^{2} + 1} \\right) \\mathrm{d} {\\Phi}\\otimes \\mathrm{d} T + \\left( \\frac{4 \\, m^{2} \\sin\\left({\\theta}\\right)^{2}}{\\cos\\left({\\theta}\\right)^{2} + 1} \\right) \\mathrm{d} {\\Phi}\\otimes \\mathrm{d} {\\Phi}\\)</html>"
      ],
      "text/latex": [
       "$\\displaystyle \\left( \\frac{4 \\, R^{2} m^{2} \\sin\\left({\\theta}\\right)^{2}}{\\cos\\left({\\theta}\\right)^{2} + 1} \\right) \\mathrm{d} T\\otimes \\mathrm{d} T + \\left( \\frac{4 \\, R m^{2} \\sin\\left({\\theta}\\right)^{2}}{\\cos\\left({\\theta}\\right)^{2} + 1} \\right) \\mathrm{d} T\\otimes \\mathrm{d} {\\Phi} + \\left( \\frac{4 \\, R m^{2} \\sin\\left({\\theta}\\right)^{2}}{\\cos\\left({\\theta}\\right)^{2} + 1} \\right) \\mathrm{d} {\\Phi}\\otimes \\mathrm{d} T + \\left( \\frac{4 \\, m^{2} \\sin\\left({\\theta}\\right)^{2}}{\\cos\\left({\\theta}\\right)^{2} + 1} \\right) \\mathrm{d} {\\Phi}\\otimes \\mathrm{d} {\\Phi}$"
      ],
      "text/plain": [
       "4*R^2*m^2*sin(th)^2/(cos(th)^2 + 1) dT⊗dT + 4*R*m^2*sin(th)^2/(cos(th)^2 + 1) dT⊗dPh + 4*R*m^2*sin(th)^2/(cos(th)^2 + 1) dPh⊗dT + 4*m^2*sin(th)^2/(cos(th)^2 + 1) dPh⊗dPh"
      ]
     },
     "execution_count": 32,
     "metadata": {},
     "output_type": "execute_result"
    }
   ],
   "source": [
    "q = 4*m^2*sin(th)^2/(1+cos(th)^2) * (dPh + R*dT) * (dPh + R*dT)\n",
    "q.display()"
   ]
  },
  {
   "cell_type": "markdown",
   "metadata": {},
   "source": [
    "We evaluate then $h-q$ to compare with Eq. (2.6) of Bardeen & Horowitz:"
   ]
  },
  {
   "cell_type": "code",
   "execution_count": 33,
   "metadata": {},
   "outputs": [
    {
     "data": {
      "text/html": [
       "<html>\\(\\displaystyle \\left( -R^{2} m^{2} \\cos\\left({\\theta}\\right)^{2} - R^{2} m^{2} \\right) \\mathrm{d} T\\otimes \\mathrm{d} T + \\frac{{\\left(\\cos\\left({\\theta}\\right)^{2} + 1\\right)} m^{2}}{R^{2}} \\mathrm{d} R\\otimes \\mathrm{d} R + {\\left(\\cos\\left({\\theta}\\right)^{2} + 1\\right)} m^{2} \\mathrm{d} {\\theta}\\otimes \\mathrm{d} {\\theta}\\)</html>"
      ],
      "text/latex": [
       "$\\displaystyle \\left( -R^{2} m^{2} \\cos\\left({\\theta}\\right)^{2} - R^{2} m^{2} \\right) \\mathrm{d} T\\otimes \\mathrm{d} T + \\frac{{\\left(\\cos\\left({\\theta}\\right)^{2} + 1\\right)} m^{2}}{R^{2}} \\mathrm{d} R\\otimes \\mathrm{d} R + {\\left(\\cos\\left({\\theta}\\right)^{2} + 1\\right)} m^{2} \\mathrm{d} {\\theta}\\otimes \\mathrm{d} {\\theta}$"
      ],
      "text/plain": [
       "(-R^2*m^2*cos(th)^2 - R^2*m^2) dT⊗dT + (cos(th)^2 + 1)*m^2/R^2 dR⊗dR + (cos(th)^2 + 1)*m^2 dth⊗dth"
      ]
     },
     "execution_count": 33,
     "metadata": {},
     "output_type": "execute_result"
    }
   ],
   "source": [
    "(h - q).display()"
   ]
  },
  {
   "cell_type": "code",
   "execution_count": 34,
   "metadata": {},
   "outputs": [
    {
     "data": {
      "text/html": [
       "<html>\\(\\displaystyle \\left( -\\frac{R^{2} m^{2} \\cos\\left({\\theta}\\right)^{2} + R^{2} m^{2}}{{\\left(\\cos\\left({\\theta}\\right)^{2} + 1\\right)} m^{2}} \\right) \\mathrm{d} T\\otimes \\mathrm{d} T + \\frac{1}{R^{2}} \\mathrm{d} R\\otimes \\mathrm{d} R +\\mathrm{d} {\\theta}\\otimes \\mathrm{d} {\\theta}\\)</html>"
      ],
      "text/latex": [
       "$\\displaystyle \\left( -\\frac{R^{2} m^{2} \\cos\\left({\\theta}\\right)^{2} + R^{2} m^{2}}{{\\left(\\cos\\left({\\theta}\\right)^{2} + 1\\right)} m^{2}} \\right) \\mathrm{d} T\\otimes \\mathrm{d} T + \\frac{1}{R^{2}} \\mathrm{d} R\\otimes \\mathrm{d} R +\\mathrm{d} {\\theta}\\otimes \\mathrm{d} {\\theta}$"
      ],
      "text/plain": [
       "-(R^2*m^2*cos(th)^2 + R^2*m^2)/((cos(th)^2 + 1)*m^2) dT⊗dT + R^(-2) dR⊗dR + dth⊗dth"
      ]
     },
     "execution_count": 34,
     "metadata": {},
     "output_type": "execute_result"
    }
   ],
   "source": [
    "s = (h - q)/(m^2*(1 + cos(th)^2))\n",
    "s.display()"
   ]
  },
  {
   "cell_type": "code",
   "execution_count": 35,
   "metadata": {},
   "outputs": [
    {
     "data": {
      "text/html": [
       "<html>\\(\\displaystyle -R^{2} \\mathrm{d} T\\otimes \\mathrm{d} T + \\frac{1}{R^{2}} \\mathrm{d} R\\otimes \\mathrm{d} R +\\mathrm{d} {\\theta}\\otimes \\mathrm{d} {\\theta}\\)</html>"
      ],
      "text/latex": [
       "$\\displaystyle -R^{2} \\mathrm{d} T\\otimes \\mathrm{d} T + \\frac{1}{R^{2}} \\mathrm{d} R\\otimes \\mathrm{d} R +\\mathrm{d} {\\theta}\\otimes \\mathrm{d} {\\theta}$"
      ],
      "text/plain": [
       "-R^2 dT⊗dT + R^(-2) dR⊗dR + dth⊗dth"
      ]
     },
     "execution_count": 35,
     "metadata": {},
     "output_type": "execute_result"
    }
   ],
   "source": [
    "s.apply_map(factor)\n",
    "s.display()"
   ]
  },
  {
   "cell_type": "markdown",
   "metadata": {},
   "source": [
    "The above result shows the complete agreement between $h = m^2(1 + \\cos^2\\theta) s + q$ and the metric given by Eq. (2.6) of Bardeen & Horowitz."
   ]
  },
  {
   "cell_type": "markdown",
   "metadata": {},
   "source": [
    "### Non-degenerate character\n",
    "\n",
    "A priori, the limit process defining $h$ ensures only that $h$ is a symmetric bilinear form. In order to establish that it is a proper metric on $\\mathcal{M}$, there remains to show that $h$ is non-degenerate. Let us do it by computing the determinant of $h$'s components with respect to the NH coordinates:"
   ]
  },
  {
   "cell_type": "code",
   "execution_count": 36,
   "metadata": {},
   "outputs": [
    {
     "data": {
      "text/html": [
       "<html>\\(\\displaystyle \\begin{array}{llcl} & \\mathcal{M} & \\longrightarrow & \\mathbb{R} \\\\ & \\left(t, r, {\\theta}, {\\phi}\\right) & \\longmapsto & 4 \\, m^{8} \\cos\\left({\\theta}\\right)^{6} + 4 \\, m^{8} \\cos\\left({\\theta}\\right)^{4} - 4 \\, m^{8} \\cos\\left({\\theta}\\right)^{2} - 4 \\, m^{8} \\\\ & \\left(T, R, {\\theta}, {\\Phi}\\right) & \\longmapsto & 4 \\, m^{8} \\cos\\left({\\theta}\\right)^{6} + 4 \\, m^{8} \\cos\\left({\\theta}\\right)^{4} - 4 \\, m^{8} \\cos\\left({\\theta}\\right)^{2} - 4 \\, m^{8} \\end{array}\\)</html>"
      ],
      "text/latex": [
       "$\\displaystyle \\begin{array}{llcl} & \\mathcal{M} & \\longrightarrow & \\mathbb{R} \\\\ & \\left(t, r, {\\theta}, {\\phi}\\right) & \\longmapsto & 4 \\, m^{8} \\cos\\left({\\theta}\\right)^{6} + 4 \\, m^{8} \\cos\\left({\\theta}\\right)^{4} - 4 \\, m^{8} \\cos\\left({\\theta}\\right)^{2} - 4 \\, m^{8} \\\\ & \\left(T, R, {\\theta}, {\\Phi}\\right) & \\longmapsto & 4 \\, m^{8} \\cos\\left({\\theta}\\right)^{6} + 4 \\, m^{8} \\cos\\left({\\theta}\\right)^{4} - 4 \\, m^{8} \\cos\\left({\\theta}\\right)^{2} - 4 \\, m^{8} \\end{array}$"
      ],
      "text/plain": [
       "M → ℝ\n",
       "(t, r, th, ph) ↦ 4*m^8*cos(th)^6 + 4*m^8*cos(th)^4 - 4*m^8*cos(th)^2 - 4*m^8\n",
       "(T, R, th, Ph) ↦ 4*m^8*cos(th)^6 + 4*m^8*cos(th)^4 - 4*m^8*cos(th)^2 - 4*m^8"
      ]
     },
     "execution_count": 36,
     "metadata": {},
     "output_type": "execute_result"
    }
   ],
   "source": [
    "deth = h.determinant(frame=NH.frame())\n",
    "deth.display()"
   ]
  },
  {
   "cell_type": "code",
   "execution_count": 37,
   "metadata": {},
   "outputs": [
    {
     "data": {
      "text/html": [
       "<html>\\(\\displaystyle 4 \\, {\\left(\\cos\\left({\\theta}\\right)^{2} + 1\\right)}^{2} m^{8} {\\left(\\cos\\left({\\theta}\\right) + 1\\right)} {\\left(\\cos\\left({\\theta}\\right) - 1\\right)}\\)</html>"
      ],
      "text/latex": [
       "$\\displaystyle 4 \\, {\\left(\\cos\\left({\\theta}\\right)^{2} + 1\\right)}^{2} m^{8} {\\left(\\cos\\left({\\theta}\\right) + 1\\right)} {\\left(\\cos\\left({\\theta}\\right) - 1\\right)}$"
      ],
      "text/plain": [
       "4*(cos(th)^2 + 1)^2*m^8*(cos(th) + 1)*(cos(th) - 1)"
      ]
     },
     "execution_count": 37,
     "metadata": {},
     "output_type": "execute_result"
    }
   ],
   "source": [
    "deth.expr().factor()"
   ]
  },
  {
   "cell_type": "markdown",
   "metadata": {},
   "source": [
    "Hence the determinant vanishes only for $\\sin\\theta = 0$, which corresponds simply to the standard coordinate singularity of spherical-type coordinates on the rotation axis. Away from the rotation axis, we \n",
    "have $\\det h < 0$, which implies that $h$ is non-degenerate and furthermore, that it is \n",
    "has the signature $(-,+,+,+)$. Hence we conclude that $h$ is a **regular Lorentzian metric** on $\\mathcal{M}$. "
   ]
  },
  {
   "cell_type": "markdown",
   "metadata": {},
   "source": [
    "We note that the metric $h$ is not asymptotically flat. "
   ]
  },
  {
   "cell_type": "markdown",
   "metadata": {},
   "source": [
    "### Einstein equation for $h$"
   ]
  },
  {
   "cell_type": "markdown",
   "metadata": {},
   "source": [
    "As a limit of solutions of the vaccum Einstein equation, $h$ is itself a solution of the **vacuum Einstein equation**, as we can check:"
   ]
  },
  {
   "cell_type": "code",
   "execution_count": 38,
   "metadata": {},
   "outputs": [
    {
     "data": {
      "text/html": [
       "<html>\\(\\displaystyle \\mathrm{Ric}\\left(h\\right) = 0\\)</html>"
      ],
      "text/latex": [
       "$\\displaystyle \\mathrm{Ric}\\left(h\\right) = 0$"
      ],
      "text/plain": [
       "Ric(h) = 0"
      ]
     },
     "execution_count": 38,
     "metadata": {},
     "output_type": "execute_result"
    }
   ],
   "source": [
    "h.ricci().display()"
   ]
  },
  {
   "cell_type": "markdown",
   "metadata": {},
   "source": [
    "## Killing vectors of the near-horizon geometry"
   ]
  },
  {
   "cell_type": "markdown",
   "metadata": {},
   "source": [
    "Let us first consider the vector field $\\eta := \\frac{\\partial}{\\partial\\Phi}$:"
   ]
  },
  {
   "cell_type": "code",
   "execution_count": 39,
   "metadata": {},
   "outputs": [
    {
     "data": {
      "text/html": [
       "<html>\\(\\displaystyle \\eta = \\frac{\\partial}{\\partial {\\Phi} }\\)</html>"
      ],
      "text/latex": [
       "$\\displaystyle \\eta = \\frac{\\partial}{\\partial {\\Phi} }$"
      ],
      "text/plain": [
       "eta = ∂/∂Ph"
      ]
     },
     "execution_count": 39,
     "metadata": {},
     "output_type": "execute_result"
    }
   ],
   "source": [
    "eta = M.vector_field(0, 0, 0, 1, name='eta', latex_name=r'\\eta')\n",
    "eta.display()"
   ]
  },
  {
   "cell_type": "markdown",
   "metadata": {},
   "source": [
    "It is a Killing vector of the near-horizon metric, since the Lie derivative of $h$ along $\\eta$ vanishes:"
   ]
  },
  {
   "cell_type": "code",
   "execution_count": 40,
   "metadata": {},
   "outputs": [
    {
     "data": {
      "text/html": [
       "<html>\\(\\displaystyle 0\\)</html>"
      ],
      "text/latex": [
       "$\\displaystyle 0$"
      ],
      "text/plain": [
       "0"
      ]
     },
     "execution_count": 40,
     "metadata": {},
     "output_type": "execute_result"
    }
   ],
   "source": [
    "h.lie_derivative(eta).display()"
   ]
  },
  {
   "cell_type": "markdown",
   "metadata": {},
   "source": [
    "This is not surprising since the components of $h$ are independent from $\\Phi$."
   ]
  },
  {
   "cell_type": "markdown",
   "metadata": {},
   "source": [
    "Similarly, we can check that $\\xi_1 := \\frac{\\partial}{\\partial T}$ is a Killing vector of $h$, reflecting the independence of the components of $h$ from $T$:"
   ]
  },
  {
   "cell_type": "code",
   "execution_count": 41,
   "metadata": {},
   "outputs": [
    {
     "data": {
      "text/html": [
       "<html>\\(\\displaystyle \\xi_{1} = \\frac{\\partial}{\\partial T }\\)</html>"
      ],
      "text/latex": [
       "$\\displaystyle \\xi_{1} = \\frac{\\partial}{\\partial T }$"
      ],
      "text/plain": [
       "xi1 = ∂/∂T"
      ]
     },
     "execution_count": 41,
     "metadata": {},
     "output_type": "execute_result"
    }
   ],
   "source": [
    "xi1 = M.vector_field(1, 0, 0, 0, name='xi1', latex_name=r'\\xi_{1}')\n",
    "xi1.display()"
   ]
  },
  {
   "cell_type": "code",
   "execution_count": 42,
   "metadata": {},
   "outputs": [
    {
     "data": {
      "text/html": [
       "<html>\\(\\displaystyle 0\\)</html>"
      ],
      "text/latex": [
       "$\\displaystyle 0$"
      ],
      "text/plain": [
       "0"
      ]
     },
     "execution_count": 42,
     "metadata": {},
     "output_type": "execute_result"
    }
   ],
   "source": [
    "h.lie_derivative(xi1).display()"
   ]
  },
  {
   "cell_type": "markdown",
   "metadata": {},
   "source": [
    "The above two Killing vectors correspond respectively to the **axisymmetry** and the **stationarity** of the Kerr metric. A third symmetry, which is not present in the original extremal Kerr metric, is the invariance under the **scaling** $(T,R)\\mapsto (\\alpha T, R/\\alpha)$, as it is clear on the metric components in ``Out[27]``. The corresponding Killing vector is "
   ]
  },
  {
   "cell_type": "code",
   "execution_count": 43,
   "metadata": {},
   "outputs": [
    {
     "data": {
      "text/html": [
       "<html>\\(\\displaystyle \\xi_{2} = T \\frac{\\partial}{\\partial T } -R \\frac{\\partial}{\\partial R }\\)</html>"
      ],
      "text/latex": [
       "$\\displaystyle \\xi_{2} = T \\frac{\\partial}{\\partial T } -R \\frac{\\partial}{\\partial R }$"
      ],
      "text/plain": [
       "xi2 = T ∂/∂T - R ∂/∂R"
      ]
     },
     "execution_count": 43,
     "metadata": {},
     "output_type": "execute_result"
    }
   ],
   "source": [
    "xi2 = M.vector_field(T, -R, 0, 0, name='xi2', latex_name=r'\\xi_{2}')\n",
    "xi2.display()"
   ]
  },
  {
   "cell_type": "code",
   "execution_count": 44,
   "metadata": {},
   "outputs": [
    {
     "data": {
      "text/html": [
       "<html>\\(\\displaystyle 0\\)</html>"
      ],
      "text/latex": [
       "$\\displaystyle 0$"
      ],
      "text/plain": [
       "0"
      ]
     },
     "execution_count": 44,
     "metadata": {},
     "output_type": "execute_result"
    }
   ],
   "source": [
    "h.lie_derivative(xi2).display()"
   ]
  },
  {
   "cell_type": "markdown",
   "metadata": {},
   "source": [
    "Finally, a fourth Killing vector is"
   ]
  },
  {
   "cell_type": "code",
   "execution_count": 45,
   "metadata": {},
   "outputs": [
    {
     "data": {
      "text/html": [
       "<html>\\(\\displaystyle \\xi_{3} = \\left( \\frac{1}{2} \\, T^{2} + \\frac{1}{2 \\, R^{2}} \\right) \\frac{\\partial}{\\partial T } -R T \\frac{\\partial}{\\partial R } -\\frac{1}{R} \\frac{\\partial}{\\partial {\\Phi} }\\)</html>"
      ],
      "text/latex": [
       "$\\displaystyle \\xi_{3} = \\left( \\frac{1}{2} \\, T^{2} + \\frac{1}{2 \\, R^{2}} \\right) \\frac{\\partial}{\\partial T } -R T \\frac{\\partial}{\\partial R } -\\frac{1}{R} \\frac{\\partial}{\\partial {\\Phi} }$"
      ],
      "text/plain": [
       "xi3 = (1/2*T^2 + 1/2/R^2) ∂/∂T - R*T ∂/∂R - 1/R ∂/∂Ph"
      ]
     },
     "execution_count": 45,
     "metadata": {},
     "output_type": "execute_result"
    }
   ],
   "source": [
    "xi3 = M.vector_field((T^2 + 1/R^2)/2, -R*T, 0, -1/R,\n",
    "                     name='xi3', latex_name=r'\\xi_{3}')\n",
    "xi3.display()"
   ]
  },
  {
   "cell_type": "code",
   "execution_count": 46,
   "metadata": {},
   "outputs": [
    {
     "data": {
      "text/html": [
       "<html>\\(\\displaystyle 0\\)</html>"
      ],
      "text/latex": [
       "$\\displaystyle 0$"
      ],
      "text/plain": [
       "0"
      ]
     },
     "execution_count": 46,
     "metadata": {},
     "output_type": "execute_result"
    }
   ],
   "source": [
    "h.lie_derivative(xi3).display()"
   ]
  },
  {
   "cell_type": "markdown",
   "metadata": {},
   "source": [
    "We shall see below that this Killing vector is actually related to the Killing vector $\\frac{\\partial}{\\partial \\tau}$ associated to the so-called *global NHEK coordinates* by \n",
    "$$ \\xi_3 = \\frac{\\partial}{\\partial \\tau} - \\frac{1}{2} \\frac{\\partial}{\\partial T}$$"
   ]
  },
  {
   "cell_type": "markdown",
   "metadata": {},
   "source": [
    "## Determination of the symmetry group"
   ]
  },
  {
   "cell_type": "markdown",
   "metadata": {},
   "source": [
    "We have four independent Killing vectors, $\\eta$, $\\xi_1$, $\\xi_2$ and $\\xi_3$, which implies that the symmetry group of the near-horizon geometry is a 4-dimensional Lie group $G$. Let us determine $G$ by investigating the **structure constants** of the basis \n",
    "$(\\eta, \\xi_1, \\xi_2, \\xi_3)$ of the Lie algebra of $G$. First of all, we notice that \n",
    "$\\eta$ commutes with the other Killing vectors:"
   ]
  },
  {
   "cell_type": "code",
   "execution_count": 47,
   "metadata": {},
   "outputs": [
    {
     "data": {
      "text/html": [
       "<html>\\(\\displaystyle \\left[\\eta,\\xi_{1}\\right] = 0\\)</html>"
      ],
      "text/latex": [
       "$\\displaystyle \\left[\\eta,\\xi_{1}\\right] = 0$"
      ],
      "text/plain": [
       "[eta,xi1] = 0"
      ]
     },
     "metadata": {},
     "output_type": "display_data"
    },
    {
     "data": {
      "text/html": [
       "<html>\\(\\displaystyle \\left[\\eta,\\xi_{2}\\right] = 0\\)</html>"
      ],
      "text/latex": [
       "$\\displaystyle \\left[\\eta,\\xi_{2}\\right] = 0$"
      ],
      "text/plain": [
       "[eta,xi2] = 0"
      ]
     },
     "metadata": {},
     "output_type": "display_data"
    },
    {
     "data": {
      "text/html": [
       "<html>\\(\\displaystyle \\left[\\eta,\\xi_{3}\\right] = 0\\)</html>"
      ],
      "text/latex": [
       "$\\displaystyle \\left[\\eta,\\xi_{3}\\right] = 0$"
      ],
      "text/plain": [
       "[eta,xi3] = 0"
      ]
     },
     "metadata": {},
     "output_type": "display_data"
    }
   ],
   "source": [
    "for xi in [xi1, xi2, xi3]:\n",
    "    show(eta.bracket(xi).display())"
   ]
  },
  {
   "cell_type": "markdown",
   "metadata": {},
   "source": [
    "Since $\\eta$ generates the rotation group $\\mathrm{SO}(2)=\\mathrm{U}(1)$, we may write that $G = \\mathrm{U}(1)\\times G_3$, where $G_3$\n",
    "is a 3-dimensional Lie group, whose generators are $(\\xi_1, \\xi_2, \\xi_3)$. Let us determine the structure constants of these three vectors. We have"
   ]
  },
  {
   "cell_type": "code",
   "execution_count": 48,
   "metadata": {},
   "outputs": [
    {
     "data": {
      "text/html": [
       "<html>\\(\\displaystyle \\left[\\xi_{1},\\xi_{2}\\right] = \\frac{\\partial}{\\partial T }\\)</html>"
      ],
      "text/latex": [
       "$\\displaystyle \\left[\\xi_{1},\\xi_{2}\\right] = \\frac{\\partial}{\\partial T }$"
      ],
      "text/plain": [
       "[xi1,xi2] = ∂/∂T"
      ]
     },
     "execution_count": 48,
     "metadata": {},
     "output_type": "execute_result"
    }
   ],
   "source": [
    "xi1.bracket(xi2).display()"
   ]
  },
  {
   "cell_type": "code",
   "execution_count": 49,
   "metadata": {},
   "outputs": [
    {
     "data": {
      "text/html": [
       "<html>\\(\\displaystyle \\mathrm{True}\\)</html>"
      ],
      "text/latex": [
       "$\\displaystyle \\mathrm{True}$"
      ],
      "text/plain": [
       "True"
      ]
     },
     "execution_count": 49,
     "metadata": {},
     "output_type": "execute_result"
    }
   ],
   "source": [
    "xi1.bracket(xi2) == xi1"
   ]
  },
  {
   "cell_type": "code",
   "execution_count": 50,
   "metadata": {},
   "outputs": [
    {
     "data": {
      "text/html": [
       "<html>\\(\\displaystyle \\left[\\xi_{1},\\xi_{3}\\right] = T \\frac{\\partial}{\\partial T } -R \\frac{\\partial}{\\partial R }\\)</html>"
      ],
      "text/latex": [
       "$\\displaystyle \\left[\\xi_{1},\\xi_{3}\\right] = T \\frac{\\partial}{\\partial T } -R \\frac{\\partial}{\\partial R }$"
      ],
      "text/plain": [
       "[xi1,xi3] = T ∂/∂T - R ∂/∂R"
      ]
     },
     "execution_count": 50,
     "metadata": {},
     "output_type": "execute_result"
    }
   ],
   "source": [
    "xi1.bracket(xi3).display()"
   ]
  },
  {
   "cell_type": "code",
   "execution_count": 51,
   "metadata": {},
   "outputs": [
    {
     "data": {
      "text/html": [
       "<html>\\(\\displaystyle \\mathrm{True}\\)</html>"
      ],
      "text/latex": [
       "$\\displaystyle \\mathrm{True}$"
      ],
      "text/plain": [
       "True"
      ]
     },
     "execution_count": 51,
     "metadata": {},
     "output_type": "execute_result"
    }
   ],
   "source": [
    "xi1.bracket(xi3) == xi2"
   ]
  },
  {
   "cell_type": "code",
   "execution_count": 52,
   "metadata": {},
   "outputs": [
    {
     "data": {
      "text/html": [
       "<html>\\(\\displaystyle \\left[\\xi_{2},\\xi_{3}\\right] = \\left( \\frac{R^{2} T^{2} + 1}{2 \\, R^{2}} \\right) \\frac{\\partial}{\\partial T } -R T \\frac{\\partial}{\\partial R } -\\frac{1}{R} \\frac{\\partial}{\\partial {\\Phi} }\\)</html>"
      ],
      "text/latex": [
       "$\\displaystyle \\left[\\xi_{2},\\xi_{3}\\right] = \\left( \\frac{R^{2} T^{2} + 1}{2 \\, R^{2}} \\right) \\frac{\\partial}{\\partial T } -R T \\frac{\\partial}{\\partial R } -\\frac{1}{R} \\frac{\\partial}{\\partial {\\Phi} }$"
      ],
      "text/plain": [
       "[xi2,xi3] = 1/2*(R^2*T^2 + 1)/R^2 ∂/∂T - R*T ∂/∂R - 1/R ∂/∂Ph"
      ]
     },
     "execution_count": 52,
     "metadata": {},
     "output_type": "execute_result"
    }
   ],
   "source": [
    "xi2.bracket(xi3).display()"
   ]
  },
  {
   "cell_type": "code",
   "execution_count": 53,
   "metadata": {},
   "outputs": [
    {
     "data": {
      "text/html": [
       "<html>\\(\\displaystyle \\mathrm{True}\\)</html>"
      ],
      "text/latex": [
       "$\\displaystyle \\mathrm{True}$"
      ],
      "text/plain": [
       "True"
      ]
     },
     "execution_count": 53,
     "metadata": {},
     "output_type": "execute_result"
    }
   ],
   "source": [
    "xi2.bracket(xi3) == xi3"
   ]
  },
  {
   "cell_type": "markdown",
   "metadata": {},
   "source": [
    "To summarize, we have"
   ]
  },
  {
   "cell_type": "code",
   "execution_count": 54,
   "metadata": {},
   "outputs": [
    {
     "data": {
      "text/html": [
       "<html>\\(\\displaystyle \\mathrm{True}\\)</html>"
      ],
      "text/latex": [
       "$\\displaystyle \\mathrm{True}$"
      ],
      "text/plain": [
       "True"
      ]
     },
     "execution_count": 54,
     "metadata": {},
     "output_type": "execute_result"
    }
   ],
   "source": [
    "all([xi1.bracket(xi2) == xi1,\n",
    "     xi1.bracket(xi3) == xi2,\n",
    "     xi2.bracket(xi3) == xi3])"
   ]
  },
  {
   "cell_type": "markdown",
   "metadata": {},
   "source": [
    "To recognize a standard Lie algebra, let us perform a slight change of basis:"
   ]
  },
  {
   "cell_type": "code",
   "execution_count": 55,
   "metadata": {},
   "outputs": [],
   "source": [
    "vE = -sqrt(2)*xi3\n",
    "vF = sqrt(2)*xi1\n",
    "vH = 2*xi2"
   ]
  },
  {
   "cell_type": "markdown",
   "metadata": {},
   "source": [
    "We have then the following commutation relations:"
   ]
  },
  {
   "cell_type": "code",
   "execution_count": 56,
   "metadata": {},
   "outputs": [
    {
     "data": {
      "text/html": [
       "<html>\\(\\displaystyle \\mathrm{True}\\)</html>"
      ],
      "text/latex": [
       "$\\displaystyle \\mathrm{True}$"
      ],
      "text/plain": [
       "True"
      ]
     },
     "execution_count": 56,
     "metadata": {},
     "output_type": "execute_result"
    }
   ],
   "source": [
    "all([vE.bracket(vF) == vH,\n",
    "     vH.bracket(vE) == 2*vE,\n",
    "     vH.bracket(vF) == -2*vF])"
   ]
  },
  {
   "cell_type": "markdown",
   "metadata": {},
   "source": [
    "We recognize the Lie algebra $\\mathfrak{sl}(2, \\mathbb{R})$. Indeed, we have, using the representation of $\\mathfrak{sl}(2, \\mathbb{R})$ by traceless $2\\times 2$ matrices:"
   ]
  },
  {
   "cell_type": "code",
   "execution_count": 57,
   "metadata": {},
   "outputs": [],
   "source": [
    "sl2 = lie_algebras.sl(QQ, 2, representation='matrix')  # QQ instead of RR to deal with an exact field\n",
    "E,F,H = sl2.gens()"
   ]
  },
  {
   "cell_type": "code",
   "execution_count": 58,
   "metadata": {},
   "outputs": [
    {
     "data": {
      "text/html": [
       "<html>\\(\\displaystyle \\left(\\begin{array}{rr}\n",
       "0 & 1 \\\\\n",
       "0 & 0\n",
       "\\end{array}\\right)\\)</html>"
      ],
      "text/latex": [
       "$\\displaystyle \\left(\\begin{array}{rr}\n",
       "0 & 1 \\\\\n",
       "0 & 0\n",
       "\\end{array}\\right)$"
      ],
      "text/plain": [
       "[0 1]\n",
       "[0 0]"
      ]
     },
     "execution_count": 58,
     "metadata": {},
     "output_type": "execute_result"
    }
   ],
   "source": [
    "E"
   ]
  },
  {
   "cell_type": "code",
   "execution_count": 59,
   "metadata": {},
   "outputs": [
    {
     "data": {
      "text/html": [
       "<html>\\(\\displaystyle \\left(\\begin{array}{rr}\n",
       "0 & 0 \\\\\n",
       "1 & 0\n",
       "\\end{array}\\right)\\)</html>"
      ],
      "text/latex": [
       "$\\displaystyle \\left(\\begin{array}{rr}\n",
       "0 & 0 \\\\\n",
       "1 & 0\n",
       "\\end{array}\\right)$"
      ],
      "text/plain": [
       "[0 0]\n",
       "[1 0]"
      ]
     },
     "execution_count": 59,
     "metadata": {},
     "output_type": "execute_result"
    }
   ],
   "source": [
    "F"
   ]
  },
  {
   "cell_type": "code",
   "execution_count": 60,
   "metadata": {},
   "outputs": [
    {
     "data": {
      "text/html": [
       "<html>\\(\\displaystyle \\left(\\begin{array}{rr}\n",
       "1 & 0 \\\\\n",
       "0 & -1\n",
       "\\end{array}\\right)\\)</html>"
      ],
      "text/latex": [
       "$\\displaystyle \\left(\\begin{array}{rr}\n",
       "1 & 0 \\\\\n",
       "0 & -1\n",
       "\\end{array}\\right)$"
      ],
      "text/plain": [
       "[ 1  0]\n",
       "[ 0 -1]"
      ]
     },
     "execution_count": 60,
     "metadata": {},
     "output_type": "execute_result"
    }
   ],
   "source": [
    "H"
   ]
  },
  {
   "cell_type": "code",
   "execution_count": 61,
   "metadata": {},
   "outputs": [
    {
     "data": {
      "text/html": [
       "<html>\\(\\displaystyle \\mathrm{True}\\)</html>"
      ],
      "text/latex": [
       "$\\displaystyle \\mathrm{True}$"
      ],
      "text/plain": [
       "True"
      ]
     },
     "execution_count": 61,
     "metadata": {},
     "output_type": "execute_result"
    }
   ],
   "source": [
    "all([E.bracket(F) == H,\n",
    "     H.bracket(E) == 2*E,\n",
    "     H.bracket(F) == -2*F])"
   ]
  },
  {
   "cell_type": "markdown",
   "metadata": {},
   "source": [
    "Hence, we have $$\\mathrm{Lie}(G_3) = \\mathfrak{sl}(2, \\mathbb{R}).$$\n",
    "\n",
    "At this stage, $G_3$ could be $\\mathrm{SL}(2, \\mathbb{R})$, $\\mathrm{PSL}(2, \\mathbb{R})=\\mathrm{SL}(2, \\mathbb{R})/\\mathbb{Z}_2$\n",
    "or $\\overline{\\mathrm{SL}(2, \\mathbb{R})}$ (the universal covering group of $\\mathrm{SL}(2, \\mathbb{R})$). \n",
    "It cannot be $\\mathrm{PSL}(2, \\mathbb{R})$ because, as it appears clearly on $h$'s components,\n",
    "the transformation $(T,R) \\mapsto (-T,-R)$ is an element of $G_3$ and, in $\\mathrm{PSL}(2,\\mathbb{R})$, this element would be identified with the identity\n",
    "due to the quotient by $\\mathbb{Z}_2 = \\{\\mathrm{Id}, -\\mathrm{Id}\\}$ ($\\mathrm{Id}$ being the\n",
    "identity).\n",
    "$G_3$ is actually $\\mathrm{SL}(2, \\mathbb{R})$.\n",
    "We conclude that the full isometry group of the near-horizon geometry is \n",
    "$$ G = \\mathrm{U}(1) \\times \\mathrm{SL}(2, \\mathbb{R}).$$"
   ]
  },
  {
   "cell_type": "markdown",
   "metadata": {},
   "source": [
    "## Expression of $h$ and  the near-horizon Killing vectors in the Boyer-Lindquist basis\n",
    "\n",
    "The Boyer-Lindquist components of the near-horizon metric $h$ are obtained by providing the argument `BL` to the method `display`:"
   ]
  },
  {
   "cell_type": "code",
   "execution_count": 62,
   "metadata": {},
   "outputs": [
    {
     "data": {
      "text/html": [
       "<html>\\(\\displaystyle h = \\left( -\\frac{{\\left(m^{2} - 2 \\, m r + r^{2}\\right)} \\cos\\left({\\theta}\\right)^{4} + 2 \\, {\\left(9 \\, m^{2} - 10 \\, m r + 3 \\, r^{2}\\right)} \\cos\\left({\\theta}\\right)^{2} - 15 \\, m^{2} + 14 \\, m r - 3 \\, r^{2}}{4 \\, {\\left(m^{2} \\cos\\left({\\theta}\\right)^{2} + m^{2}\\right)}} \\right) \\mathrm{d} t\\otimes \\mathrm{d} t + \\left( -\\frac{2 \\, {\\left(2 \\, m - r\\right)} \\sin\\left({\\theta}\\right)^{2}}{\\cos\\left({\\theta}\\right)^{2} + 1} \\right) \\mathrm{d} t\\otimes \\mathrm{d} {\\phi} + \\left( \\frac{m^{2} \\cos\\left({\\theta}\\right)^{2} + m^{2}}{m^{2} - 2 \\, m r + r^{2}} \\right) \\mathrm{d} r\\otimes \\mathrm{d} r + {\\left(\\cos\\left({\\theta}\\right)^{2} + 1\\right)} m^{2} \\mathrm{d} {\\theta}\\otimes \\mathrm{d} {\\theta} + \\left( -\\frac{2 \\, {\\left(2 \\, m - r\\right)} \\sin\\left({\\theta}\\right)^{2}}{\\cos\\left({\\theta}\\right)^{2} + 1} \\right) \\mathrm{d} {\\phi}\\otimes \\mathrm{d} t + \\left( \\frac{4 \\, m^{2} \\sin\\left({\\theta}\\right)^{2}}{\\cos\\left({\\theta}\\right)^{2} + 1} \\right) \\mathrm{d} {\\phi}\\otimes \\mathrm{d} {\\phi}\\)</html>"
      ],
      "text/latex": [
       "$\\displaystyle h = \\left( -\\frac{{\\left(m^{2} - 2 \\, m r + r^{2}\\right)} \\cos\\left({\\theta}\\right)^{4} + 2 \\, {\\left(9 \\, m^{2} - 10 \\, m r + 3 \\, r^{2}\\right)} \\cos\\left({\\theta}\\right)^{2} - 15 \\, m^{2} + 14 \\, m r - 3 \\, r^{2}}{4 \\, {\\left(m^{2} \\cos\\left({\\theta}\\right)^{2} + m^{2}\\right)}} \\right) \\mathrm{d} t\\otimes \\mathrm{d} t + \\left( -\\frac{2 \\, {\\left(2 \\, m - r\\right)} \\sin\\left({\\theta}\\right)^{2}}{\\cos\\left({\\theta}\\right)^{2} + 1} \\right) \\mathrm{d} t\\otimes \\mathrm{d} {\\phi} + \\left( \\frac{m^{2} \\cos\\left({\\theta}\\right)^{2} + m^{2}}{m^{2} - 2 \\, m r + r^{2}} \\right) \\mathrm{d} r\\otimes \\mathrm{d} r + {\\left(\\cos\\left({\\theta}\\right)^{2} + 1\\right)} m^{2} \\mathrm{d} {\\theta}\\otimes \\mathrm{d} {\\theta} + \\left( -\\frac{2 \\, {\\left(2 \\, m - r\\right)} \\sin\\left({\\theta}\\right)^{2}}{\\cos\\left({\\theta}\\right)^{2} + 1} \\right) \\mathrm{d} {\\phi}\\otimes \\mathrm{d} t + \\left( \\frac{4 \\, m^{2} \\sin\\left({\\theta}\\right)^{2}}{\\cos\\left({\\theta}\\right)^{2} + 1} \\right) \\mathrm{d} {\\phi}\\otimes \\mathrm{d} {\\phi}$"
      ],
      "text/plain": [
       "h = -1/4*((m^2 - 2*m*r + r^2)*cos(th)^4 + 2*(9*m^2 - 10*m*r + 3*r^2)*cos(th)^2 - 15*m^2 + 14*m*r - 3*r^2)/(m^2*cos(th)^2 + m^2) dt⊗dt - 2*(2*m - r)*sin(th)^2/(cos(th)^2 + 1) dt⊗dph + (m^2*cos(th)^2 + m^2)/(m^2 - 2*m*r + r^2) dr⊗dr + (cos(th)^2 + 1)*m^2 dth⊗dth - 2*(2*m - r)*sin(th)^2/(cos(th)^2 + 1) dph⊗dt + 4*m^2*sin(th)^2/(cos(th)^2 + 1) dph⊗dph"
      ]
     },
     "execution_count": 62,
     "metadata": {},
     "output_type": "execute_result"
    }
   ],
   "source": [
    "h.display(BL)"
   ]
  },
  {
   "cell_type": "markdown",
   "metadata": {},
   "source": [
    "We note that the Boyer-Lindquist components of $h$ do not depend on the parameter $\\epsilon$, despite the change of coordinates `NH` $\\to$ `BL` does. "
   ]
  },
  {
   "cell_type": "markdown",
   "metadata": {},
   "source": [
    "We have established above that\n",
    "$$ h = m^2 (1 + \\cos^2\\theta) s + q$$\n",
    "Let us evaluate the Boyer-Lindquist expressions of $s$ and $q$:"
   ]
  },
  {
   "cell_type": "code",
   "execution_count": 63,
   "metadata": {},
   "outputs": [
    {
     "data": {
      "text/html": [
       "<html>\\(\\displaystyle \\left( -\\frac{m^{2} - 2 \\, m r + r^{2}}{4 \\, m^{4}} \\right) \\mathrm{d} t\\otimes \\mathrm{d} t + \\left( \\frac{1}{m^{2} - 2 \\, m r + r^{2}} \\right) \\mathrm{d} r\\otimes \\mathrm{d} r +\\mathrm{d} {\\theta}\\otimes \\mathrm{d} {\\theta}\\)</html>"
      ],
      "text/latex": [
       "$\\displaystyle \\left( -\\frac{m^{2} - 2 \\, m r + r^{2}}{4 \\, m^{4}} \\right) \\mathrm{d} t\\otimes \\mathrm{d} t + \\left( \\frac{1}{m^{2} - 2 \\, m r + r^{2}} \\right) \\mathrm{d} r\\otimes \\mathrm{d} r +\\mathrm{d} {\\theta}\\otimes \\mathrm{d} {\\theta}$"
      ],
      "text/plain": [
       "-1/4*(m^2 - 2*m*r + r^2)/m^4 dt⊗dt + 1/(m^2 - 2*m*r + r^2) dr⊗dr + dth⊗dth"
      ]
     },
     "execution_count": 63,
     "metadata": {},
     "output_type": "execute_result"
    }
   ],
   "source": [
    "s.display(BL)"
   ]
  },
  {
   "cell_type": "code",
   "execution_count": 64,
   "metadata": {},
   "outputs": [
    {
     "data": {
      "text/html": [
       "<html>\\(\\displaystyle -\\frac{{\\left(m - r\\right)}^{2}}{4 \\, m^{4}} \\mathrm{d} t\\otimes \\mathrm{d} t + \\frac{1}{{\\left(m - r\\right)}^{2}} \\mathrm{d} r\\otimes \\mathrm{d} r +\\mathrm{d} {\\theta}\\otimes \\mathrm{d} {\\theta}\\)</html>"
      ],
      "text/latex": [
       "$\\displaystyle -\\frac{{\\left(m - r\\right)}^{2}}{4 \\, m^{4}} \\mathrm{d} t\\otimes \\mathrm{d} t + \\frac{1}{{\\left(m - r\\right)}^{2}} \\mathrm{d} r\\otimes \\mathrm{d} r +\\mathrm{d} {\\theta}\\otimes \\mathrm{d} {\\theta}$"
      ],
      "text/plain": [
       "-1/4*(m - r)^2/m^4 dt⊗dt + (m - r)^(-2) dr⊗dr + dth⊗dth"
      ]
     },
     "execution_count": 64,
     "metadata": {},
     "output_type": "execute_result"
    }
   ],
   "source": [
    "s.apply_map(factor, frame=BL.frame(), chart=BL, keep_other_components=True)\n",
    "s.display(BL)"
   ]
  },
  {
   "cell_type": "code",
   "execution_count": 65,
   "metadata": {},
   "outputs": [
    {
     "data": {
      "text/html": [
       "<html>\\(\\displaystyle \\left( \\frac{{\\left(4 \\, m^{2} - 4 \\, m r + r^{2}\\right)} \\sin\\left({\\theta}\\right)^{2}}{m^{2} \\cos\\left({\\theta}\\right)^{2} + m^{2}} \\right) \\mathrm{d} t\\otimes \\mathrm{d} t + \\left( -\\frac{2 \\, {\\left(2 \\, m - r\\right)} \\sin\\left({\\theta}\\right)^{2}}{\\cos\\left({\\theta}\\right)^{2} + 1} \\right) \\mathrm{d} t\\otimes \\mathrm{d} {\\phi} + \\left( -\\frac{2 \\, {\\left(2 \\, m - r\\right)} \\sin\\left({\\theta}\\right)^{2}}{\\cos\\left({\\theta}\\right)^{2} + 1} \\right) \\mathrm{d} {\\phi}\\otimes \\mathrm{d} t + \\left( \\frac{4 \\, m^{2} \\sin\\left({\\theta}\\right)^{2}}{\\cos\\left({\\theta}\\right)^{2} + 1} \\right) \\mathrm{d} {\\phi}\\otimes \\mathrm{d} {\\phi}\\)</html>"
      ],
      "text/latex": [
       "$\\displaystyle \\left( \\frac{{\\left(4 \\, m^{2} - 4 \\, m r + r^{2}\\right)} \\sin\\left({\\theta}\\right)^{2}}{m^{2} \\cos\\left({\\theta}\\right)^{2} + m^{2}} \\right) \\mathrm{d} t\\otimes \\mathrm{d} t + \\left( -\\frac{2 \\, {\\left(2 \\, m - r\\right)} \\sin\\left({\\theta}\\right)^{2}}{\\cos\\left({\\theta}\\right)^{2} + 1} \\right) \\mathrm{d} t\\otimes \\mathrm{d} {\\phi} + \\left( -\\frac{2 \\, {\\left(2 \\, m - r\\right)} \\sin\\left({\\theta}\\right)^{2}}{\\cos\\left({\\theta}\\right)^{2} + 1} \\right) \\mathrm{d} {\\phi}\\otimes \\mathrm{d} t + \\left( \\frac{4 \\, m^{2} \\sin\\left({\\theta}\\right)^{2}}{\\cos\\left({\\theta}\\right)^{2} + 1} \\right) \\mathrm{d} {\\phi}\\otimes \\mathrm{d} {\\phi}$"
      ],
      "text/plain": [
       "(4*m^2 - 4*m*r + r^2)*sin(th)^2/(m^2*cos(th)^2 + m^2) dt⊗dt - 2*(2*m - r)*sin(th)^2/(cos(th)^2 + 1) dt⊗dph - 2*(2*m - r)*sin(th)^2/(cos(th)^2 + 1) dph⊗dt + 4*m^2*sin(th)^2/(cos(th)^2 + 1) dph⊗dph"
      ]
     },
     "execution_count": 65,
     "metadata": {},
     "output_type": "execute_result"
    }
   ],
   "source": [
    "q.display(BL)"
   ]
  },
  {
   "cell_type": "code",
   "execution_count": 66,
   "metadata": {},
   "outputs": [
    {
     "data": {
      "text/html": [
       "<html>\\(\\displaystyle \\frac{{\\left(2 \\, m - r\\right)}^{2} \\sin\\left({\\theta}\\right)^{2}}{{\\left(\\cos\\left({\\theta}\\right)^{2} + 1\\right)} m^{2}} \\mathrm{d} t\\otimes \\mathrm{d} t + \\left( -\\frac{2 \\, {\\left(2 \\, m - r\\right)} \\sin\\left({\\theta}\\right)^{2}}{\\cos\\left({\\theta}\\right)^{2} + 1} \\right) \\mathrm{d} t\\otimes \\mathrm{d} {\\phi} + \\left( -\\frac{2 \\, {\\left(2 \\, m - r\\right)} \\sin\\left({\\theta}\\right)^{2}}{\\cos\\left({\\theta}\\right)^{2} + 1} \\right) \\mathrm{d} {\\phi}\\otimes \\mathrm{d} t + \\left( \\frac{4 \\, m^{2} \\sin\\left({\\theta}\\right)^{2}}{\\cos\\left({\\theta}\\right)^{2} + 1} \\right) \\mathrm{d} {\\phi}\\otimes \\mathrm{d} {\\phi}\\)</html>"
      ],
      "text/latex": [
       "$\\displaystyle \\frac{{\\left(2 \\, m - r\\right)}^{2} \\sin\\left({\\theta}\\right)^{2}}{{\\left(\\cos\\left({\\theta}\\right)^{2} + 1\\right)} m^{2}} \\mathrm{d} t\\otimes \\mathrm{d} t + \\left( -\\frac{2 \\, {\\left(2 \\, m - r\\right)} \\sin\\left({\\theta}\\right)^{2}}{\\cos\\left({\\theta}\\right)^{2} + 1} \\right) \\mathrm{d} t\\otimes \\mathrm{d} {\\phi} + \\left( -\\frac{2 \\, {\\left(2 \\, m - r\\right)} \\sin\\left({\\theta}\\right)^{2}}{\\cos\\left({\\theta}\\right)^{2} + 1} \\right) \\mathrm{d} {\\phi}\\otimes \\mathrm{d} t + \\left( \\frac{4 \\, m^{2} \\sin\\left({\\theta}\\right)^{2}}{\\cos\\left({\\theta}\\right)^{2} + 1} \\right) \\mathrm{d} {\\phi}\\otimes \\mathrm{d} {\\phi}$"
      ],
      "text/plain": [
       "(2*m - r)^2*sin(th)^2/((cos(th)^2 + 1)*m^2) dt⊗dt - 2*(2*m - r)*sin(th)^2/(cos(th)^2 + 1) dt⊗dph - 2*(2*m - r)*sin(th)^2/(cos(th)^2 + 1) dph⊗dt + 4*m^2*sin(th)^2/(cos(th)^2 + 1) dph⊗dph"
      ]
     },
     "execution_count": 66,
     "metadata": {},
     "output_type": "execute_result"
    }
   ],
   "source": [
    "q.apply_map(factor, frame=BL.frame(), chart=BL, keep_other_components=True)\n",
    "q.display(BL)"
   ]
  },
  {
   "cell_type": "markdown",
   "metadata": {},
   "source": [
    "Hence the identity\n",
    "$$ q = \\frac{\\sin^2\\theta}{1 + \\cos^2\\theta} \\left( \\frac{r - 2m}{m}\\mathrm{d}t + 2 m\\, \\mathrm{d}\\phi \\right)^2 $$"
   ]
  },
  {
   "cell_type": "markdown",
   "metadata": {},
   "source": [
    "### Near-horizon Killing vectors in terms of Boyer-Lindquist coordinates"
   ]
  },
  {
   "cell_type": "code",
   "execution_count": 67,
   "metadata": {},
   "outputs": [
    {
     "data": {
      "text/html": [
       "<html>\\(\\displaystyle \\eta = \\frac{\\partial}{\\partial {\\phi} }\\)</html>"
      ],
      "text/latex": [
       "$\\displaystyle \\eta = \\frac{\\partial}{\\partial {\\phi} }$"
      ],
      "text/plain": [
       "eta = ∂/∂ph"
      ]
     },
     "execution_count": 67,
     "metadata": {},
     "output_type": "execute_result"
    }
   ],
   "source": [
    "eta.display(BL)"
   ]
  },
  {
   "cell_type": "code",
   "execution_count": 68,
   "metadata": {},
   "outputs": [
    {
     "data": {
      "text/html": [
       "<html>\\(\\displaystyle \\xi_{1} = \\frac{2 \\, m}{{\\epsilon}} \\frac{\\partial}{\\partial t } + \\frac{1}{{\\epsilon}} \\frac{\\partial}{\\partial {\\phi} }\\)</html>"
      ],
      "text/latex": [
       "$\\displaystyle \\xi_{1} = \\frac{2 \\, m}{{\\epsilon}} \\frac{\\partial}{\\partial t } + \\frac{1}{{\\epsilon}} \\frac{\\partial}{\\partial {\\phi} }$"
      ],
      "text/plain": [
       "xi1 = 2*m/eps ∂/∂t + 1/eps ∂/∂ph"
      ]
     },
     "execution_count": 68,
     "metadata": {},
     "output_type": "execute_result"
    }
   ],
   "source": [
    "xi1.display(BL)"
   ]
  },
  {
   "cell_type": "markdown",
   "metadata": {},
   "source": [
    "Given that for an extremal Kerr black hole $\\Omega_H = 1/(2m)$, we recognize that \n",
    "$$ \\xi_1 = \\frac{2m}{\\epsilon} \\chi $$\n",
    "where $\\chi := \\frac{\\partial}{\\partial t} + \\Omega_H \\frac{\\partial}{\\partial \\phi}$ is the\n",
    "Killing vector that is tangent to the horizon null generators on $\\mathcal{H}$, or equivalently that is the null normal of the Killing horizon $\\mathcal{H}$. "
   ]
  },
  {
   "cell_type": "code",
   "execution_count": 69,
   "metadata": {},
   "outputs": [
    {
     "data": {
      "text/html": [
       "<html>\\(\\displaystyle \\xi_{2} = t \\frac{\\partial}{\\partial t } + \\left( m - r \\right) \\frac{\\partial}{\\partial r } + \\frac{t}{2 \\, m} \\frac{\\partial}{\\partial {\\phi} }\\)</html>"
      ],
      "text/latex": [
       "$\\displaystyle \\xi_{2} = t \\frac{\\partial}{\\partial t } + \\left( m - r \\right) \\frac{\\partial}{\\partial r } + \\frac{t}{2 \\, m} \\frac{\\partial}{\\partial {\\phi} }$"
      ],
      "text/plain": [
       "xi2 = t ∂/∂t + (m - r) ∂/∂r + 1/2*t/m ∂/∂ph"
      ]
     },
     "execution_count": 69,
     "metadata": {},
     "output_type": "execute_result"
    }
   ],
   "source": [
    "xi2.display(BL)"
   ]
  },
  {
   "cell_type": "code",
   "execution_count": 70,
   "metadata": {},
   "outputs": [
    {
     "data": {
      "text/html": [
       "<html>\\(\\displaystyle \\xi_{3} = \\left( \\frac{4 \\, {\\epsilon} m^{4} + {\\left({\\epsilon} m^{2} - 2 \\, {\\epsilon} m r + {\\epsilon} r^{2}\\right)} t^{2}}{4 \\, {\\left(m^{3} - 2 \\, m^{2} r + m r^{2}\\right)}} \\right) \\frac{\\partial}{\\partial t } + \\frac{{\\left({\\epsilon} m - {\\epsilon} r\\right)} t}{2 \\, m} \\frac{\\partial}{\\partial r } + \\left( \\frac{12 \\, {\\epsilon} m^{4} - 8 \\, {\\epsilon} m^{3} r + {\\left({\\epsilon} m^{2} - 2 \\, {\\epsilon} m r + {\\epsilon} r^{2}\\right)} t^{2}}{8 \\, {\\left(m^{4} - 2 \\, m^{3} r + m^{2} r^{2}\\right)}} \\right) \\frac{\\partial}{\\partial {\\phi} }\\)</html>"
      ],
      "text/latex": [
       "$\\displaystyle \\xi_{3} = \\left( \\frac{4 \\, {\\epsilon} m^{4} + {\\left({\\epsilon} m^{2} - 2 \\, {\\epsilon} m r + {\\epsilon} r^{2}\\right)} t^{2}}{4 \\, {\\left(m^{3} - 2 \\, m^{2} r + m r^{2}\\right)}} \\right) \\frac{\\partial}{\\partial t } + \\frac{{\\left({\\epsilon} m - {\\epsilon} r\\right)} t}{2 \\, m} \\frac{\\partial}{\\partial r } + \\left( \\frac{12 \\, {\\epsilon} m^{4} - 8 \\, {\\epsilon} m^{3} r + {\\left({\\epsilon} m^{2} - 2 \\, {\\epsilon} m r + {\\epsilon} r^{2}\\right)} t^{2}}{8 \\, {\\left(m^{4} - 2 \\, m^{3} r + m^{2} r^{2}\\right)}} \\right) \\frac{\\partial}{\\partial {\\phi} }$"
      ],
      "text/plain": [
       "xi3 = 1/4*(4*eps*m^4 + (eps*m^2 - 2*eps*m*r + eps*r^2)*t^2)/(m^3 - 2*m^2*r + m*r^2) ∂/∂t + 1/2*(eps*m - eps*r)*t/m ∂/∂r + 1/8*(12*eps*m^4 - 8*eps*m^3*r + (eps*m^2 - 2*eps*m*r + eps*r^2)*t^2)/(m^4 - 2*m^3*r + m^2*r^2) ∂/∂ph"
      ]
     },
     "execution_count": 70,
     "metadata": {},
     "output_type": "execute_result"
    }
   ],
   "source": [
    "xi3.display(BL)"
   ]
  },
  {
   "cell_type": "code",
   "execution_count": 71,
   "metadata": {},
   "outputs": [
    {
     "data": {
      "text/html": [
       "<html>\\(\\displaystyle \\xi_{3} = \\frac{{\\left(4 \\, m^{4} + m^{2} t^{2} - 2 \\, m r t^{2} + r^{2} t^{2}\\right)} {\\epsilon}}{4 \\, {\\left(m - r\\right)}^{2} m} \\frac{\\partial}{\\partial t } + \\frac{{\\epsilon} {\\left(m - r\\right)} t}{2 \\, m} \\frac{\\partial}{\\partial r } + \\frac{{\\left(12 \\, m^{4} - 8 \\, m^{3} r + m^{2} t^{2} - 2 \\, m r t^{2} + r^{2} t^{2}\\right)} {\\epsilon}}{8 \\, {\\left(m - r\\right)}^{2} m^{2}} \\frac{\\partial}{\\partial {\\phi} }\\)</html>"
      ],
      "text/latex": [
       "$\\displaystyle \\xi_{3} = \\frac{{\\left(4 \\, m^{4} + m^{2} t^{2} - 2 \\, m r t^{2} + r^{2} t^{2}\\right)} {\\epsilon}}{4 \\, {\\left(m - r\\right)}^{2} m} \\frac{\\partial}{\\partial t } + \\frac{{\\epsilon} {\\left(m - r\\right)} t}{2 \\, m} \\frac{\\partial}{\\partial r } + \\frac{{\\left(12 \\, m^{4} - 8 \\, m^{3} r + m^{2} t^{2} - 2 \\, m r t^{2} + r^{2} t^{2}\\right)} {\\epsilon}}{8 \\, {\\left(m - r\\right)}^{2} m^{2}} \\frac{\\partial}{\\partial {\\phi} }$"
      ],
      "text/plain": [
       "xi3 = 1/4*(4*m^4 + m^2*t^2 - 2*m*r*t^2 + r^2*t^2)*eps/((m - r)^2*m) ∂/∂t + 1/2*eps*(m - r)*t/m ∂/∂r + 1/8*(12*m^4 - 8*m^3*r + m^2*t^2 - 2*m*r*t^2 + r^2*t^2)*eps/((m - r)^2*m^2) ∂/∂ph"
      ]
     },
     "execution_count": 71,
     "metadata": {},
     "output_type": "execute_result"
    }
   ],
   "source": [
    "xi3.apply_map(factor, frame=BL.frame(), chart=BL, keep_other_components=True)\n",
    "xi3.display(BL)"
   ]
  },
  {
   "cell_type": "markdown",
   "metadata": {},
   "source": [
    "We note that the BL components of $\\xi_2$ are independent from $\\epsilon$, while those of $\\xi_1$ and $\\xi_3$ are, with $\\xi_1$ diverging when $\\epsilon\\to 0$ and $\\xi_3$ vanishing when $\\epsilon\\to 0$."
   ]
  },
  {
   "cell_type": "markdown",
   "metadata": {},
   "source": [
    "### The Killing operator of $g$ applied to the near-horizon Killing vectors"
   ]
  },
  {
   "cell_type": "markdown",
   "metadata": {},
   "source": [
    "In this part, we set the default chart and frame back to the Boyer-Lindquist ones:"
   ]
  },
  {
   "cell_type": "code",
   "execution_count": 72,
   "metadata": {},
   "outputs": [],
   "source": [
    "M.set_default_chart(BL)\n",
    "M.set_default_frame(BL.frame())"
   ]
  },
  {
   "cell_type": "markdown",
   "metadata": {},
   "source": [
    "The Levi-Civita connection $\\nabla$ of $g$:"
   ]
  },
  {
   "cell_type": "code",
   "execution_count": 73,
   "metadata": {},
   "outputs": [],
   "source": [
    "nabla = g.connection()"
   ]
  },
  {
   "cell_type": "markdown",
   "metadata": {},
   "source": [
    "The **Killing form** $\\mathrm{K}v$ of a vector field $v$ is defined by\n",
    "$$(\\mathrm{K}v)_{ab} := \\nabla_a v_b + \\nabla_b v_a,$$\n",
    "where $v_a := g_{ab} v^b$. We implement it in SageMath via the following function:"
   ]
  },
  {
   "cell_type": "code",
   "execution_count": 74,
   "metadata": {},
   "outputs": [],
   "source": [
    "def killing_form(v):\n",
    "    Kv = 2*nabla(v.down(g)).symmetrize()\n",
    "    if v._name is not None:\n",
    "        Kv.set_name('K' + v._name, latex_name=r'\\mathrm{K}' + str(latex(v)))\n",
    "    return Kv"
   ]
  },
  {
   "cell_type": "markdown",
   "metadata": {},
   "source": [
    "The Killing form of $\\eta$ is identically zero:"
   ]
  },
  {
   "cell_type": "code",
   "execution_count": 75,
   "metadata": {},
   "outputs": [
    {
     "name": "stdout",
     "output_type": "stream",
     "text": [
      "Field of symmetric bilinear forms Keta on the 4-dimensional Lorentzian manifold M\n"
     ]
    },
    {
     "data": {
      "text/html": [
       "<html>\\(\\displaystyle \\mathrm{K}\\eta = 0\\)</html>"
      ],
      "text/latex": [
       "$\\displaystyle \\mathrm{K}\\eta = 0$"
      ],
      "text/plain": [
       "Keta = 0"
      ]
     },
     "execution_count": 75,
     "metadata": {},
     "output_type": "execute_result"
    }
   ],
   "source": [
    "Keta = killing_form(eta)\n",
    "print(Keta)\n",
    "Keta.display()"
   ]
  },
  {
   "cell_type": "markdown",
   "metadata": {},
   "source": [
    "We recover the fact that $\\eta$ is a Killing vector of $g$. Similarly, we have "
   ]
  },
  {
   "cell_type": "code",
   "execution_count": 76,
   "metadata": {},
   "outputs": [
    {
     "name": "stdout",
     "output_type": "stream",
     "text": [
      "Field of symmetric bilinear forms Kxi1 on the 4-dimensional Lorentzian manifold M\n"
     ]
    },
    {
     "data": {
      "text/html": [
       "<html>\\(\\displaystyle \\mathrm{K}\\xi_{1} = 0\\)</html>"
      ],
      "text/latex": [
       "$\\displaystyle \\mathrm{K}\\xi_{1} = 0$"
      ],
      "text/plain": [
       "Kxi1 = 0"
      ]
     },
     "execution_count": 76,
     "metadata": {},
     "output_type": "execute_result"
    }
   ],
   "source": [
    "Kxi1 = killing_form(xi1)\n",
    "print(Kxi1)\n",
    "Kxi1.display()"
   ]
  },
  {
   "cell_type": "markdown",
   "metadata": {},
   "source": [
    "We recover the fact that $\\xi_1 = (2m/\\epsilon) \\chi$ is a Killing vector of $g$."
   ]
  },
  {
   "cell_type": "markdown",
   "metadata": {},
   "source": [
    "But $\\xi_2$ and $\\xi_3$ are not Killing vectors of $g$:"
   ]
  },
  {
   "cell_type": "code",
   "execution_count": 77,
   "metadata": {},
   "outputs": [
    {
     "name": "stdout",
     "output_type": "stream",
     "text": [
      "Field of symmetric bilinear forms Kxi2 on the 4-dimensional Lorentzian manifold M\n"
     ]
    },
    {
     "data": {
      "text/html": [
       "<html>\\(\\displaystyle \\mathrm{K}\\xi_{2} = \\left( -\\frac{2 \\, {\\left({\\left(m^{4} - m^{3} r\\right)} \\cos\\left({\\theta}\\right)^{4} + m^{2} r^{2} - 2 \\, m r^{3} + r^{4} - {\\left(m^{4} - 2 \\, m^{2} r^{2} + m r^{3}\\right)} \\cos\\left({\\theta}\\right)^{2}\\right)}}{m^{4} \\cos\\left({\\theta}\\right)^{4} + 2 \\, m^{2} r^{2} \\cos\\left({\\theta}\\right)^{2} + r^{4}} \\right) \\mathrm{d} t\\otimes \\mathrm{d} t + \\left( \\frac{{\\left(m^{6} - 2 \\, m^{5} r + m^{4} r^{2}\\right)} \\sin\\left({\\theta}\\right)^{6} + 2 \\, {\\left(m^{6} + m^{5} r - 2 \\, m^{4} r^{2} + m^{3} r^{3} - m^{2} r^{4}\\right)} \\sin\\left({\\theta}\\right)^{4} - {\\left(3 \\, m^{6} - 7 \\, m^{4} r^{2} + 8 \\, m^{3} r^{3} - 3 \\, m^{2} r^{4} - r^{6}\\right)} \\sin\\left({\\theta}\\right)^{2}}{2 \\, {\\left(m^{5} \\cos\\left({\\theta}\\right)^{4} + 2 \\, m^{3} r^{2} \\cos\\left({\\theta}\\right)^{2} + m r^{4}\\right)}} \\right) \\mathrm{d} t\\otimes \\mathrm{d} {\\phi} + \\left( \\frac{2 \\, r}{m - r} \\right) \\mathrm{d} r\\otimes \\mathrm{d} r + \\left( 2 \\, m r - 2 \\, r^{2} \\right) \\mathrm{d} {\\theta}\\otimes \\mathrm{d} {\\theta} + \\left( \\frac{{\\left(m^{6} - 2 \\, m^{5} r + m^{4} r^{2}\\right)} \\sin\\left({\\theta}\\right)^{6} + 2 \\, {\\left(m^{6} + m^{5} r - 2 \\, m^{4} r^{2} + m^{3} r^{3} - m^{2} r^{4}\\right)} \\sin\\left({\\theta}\\right)^{4} - {\\left(3 \\, m^{6} - 7 \\, m^{4} r^{2} + 8 \\, m^{3} r^{3} - 3 \\, m^{2} r^{4} - r^{6}\\right)} \\sin\\left({\\theta}\\right)^{2}}{2 \\, {\\left(m^{5} \\cos\\left({\\theta}\\right)^{4} + 2 \\, m^{3} r^{2} \\cos\\left({\\theta}\\right)^{2} + m r^{4}\\right)}} \\right) \\mathrm{d} {\\phi}\\otimes \\mathrm{d} t + \\left( -\\frac{2 \\, {\\left({\\left(m^{4} r^{2} - m^{3} r^{3} - {\\left(m^{6} - m^{5} r\\right)} \\cos\\left({\\theta}\\right)^{2}\\right)} \\sin\\left({\\theta}\\right)^{4} - {\\left(m r^{5} - r^{6} + {\\left(m^{5} r - m^{4} r^{2}\\right)} \\cos\\left({\\theta}\\right)^{4} + 2 \\, {\\left(m^{3} r^{3} - m^{2} r^{4}\\right)} \\cos\\left({\\theta}\\right)^{2}\\right)} \\sin\\left({\\theta}\\right)^{2}\\right)}}{m^{4} \\cos\\left({\\theta}\\right)^{4} + 2 \\, m^{2} r^{2} \\cos\\left({\\theta}\\right)^{2} + r^{4}} \\right) \\mathrm{d} {\\phi}\\otimes \\mathrm{d} {\\phi}\\)</html>"
      ],
      "text/latex": [
       "$\\displaystyle \\mathrm{K}\\xi_{2} = \\left( -\\frac{2 \\, {\\left({\\left(m^{4} - m^{3} r\\right)} \\cos\\left({\\theta}\\right)^{4} + m^{2} r^{2} - 2 \\, m r^{3} + r^{4} - {\\left(m^{4} - 2 \\, m^{2} r^{2} + m r^{3}\\right)} \\cos\\left({\\theta}\\right)^{2}\\right)}}{m^{4} \\cos\\left({\\theta}\\right)^{4} + 2 \\, m^{2} r^{2} \\cos\\left({\\theta}\\right)^{2} + r^{4}} \\right) \\mathrm{d} t\\otimes \\mathrm{d} t + \\left( \\frac{{\\left(m^{6} - 2 \\, m^{5} r + m^{4} r^{2}\\right)} \\sin\\left({\\theta}\\right)^{6} + 2 \\, {\\left(m^{6} + m^{5} r - 2 \\, m^{4} r^{2} + m^{3} r^{3} - m^{2} r^{4}\\right)} \\sin\\left({\\theta}\\right)^{4} - {\\left(3 \\, m^{6} - 7 \\, m^{4} r^{2} + 8 \\, m^{3} r^{3} - 3 \\, m^{2} r^{4} - r^{6}\\right)} \\sin\\left({\\theta}\\right)^{2}}{2 \\, {\\left(m^{5} \\cos\\left({\\theta}\\right)^{4} + 2 \\, m^{3} r^{2} \\cos\\left({\\theta}\\right)^{2} + m r^{4}\\right)}} \\right) \\mathrm{d} t\\otimes \\mathrm{d} {\\phi} + \\left( \\frac{2 \\, r}{m - r} \\right) \\mathrm{d} r\\otimes \\mathrm{d} r + \\left( 2 \\, m r - 2 \\, r^{2} \\right) \\mathrm{d} {\\theta}\\otimes \\mathrm{d} {\\theta} + \\left( \\frac{{\\left(m^{6} - 2 \\, m^{5} r + m^{4} r^{2}\\right)} \\sin\\left({\\theta}\\right)^{6} + 2 \\, {\\left(m^{6} + m^{5} r - 2 \\, m^{4} r^{2} + m^{3} r^{3} - m^{2} r^{4}\\right)} \\sin\\left({\\theta}\\right)^{4} - {\\left(3 \\, m^{6} - 7 \\, m^{4} r^{2} + 8 \\, m^{3} r^{3} - 3 \\, m^{2} r^{4} - r^{6}\\right)} \\sin\\left({\\theta}\\right)^{2}}{2 \\, {\\left(m^{5} \\cos\\left({\\theta}\\right)^{4} + 2 \\, m^{3} r^{2} \\cos\\left({\\theta}\\right)^{2} + m r^{4}\\right)}} \\right) \\mathrm{d} {\\phi}\\otimes \\mathrm{d} t + \\left( -\\frac{2 \\, {\\left({\\left(m^{4} r^{2} - m^{3} r^{3} - {\\left(m^{6} - m^{5} r\\right)} \\cos\\left({\\theta}\\right)^{2}\\right)} \\sin\\left({\\theta}\\right)^{4} - {\\left(m r^{5} - r^{6} + {\\left(m^{5} r - m^{4} r^{2}\\right)} \\cos\\left({\\theta}\\right)^{4} + 2 \\, {\\left(m^{3} r^{3} - m^{2} r^{4}\\right)} \\cos\\left({\\theta}\\right)^{2}\\right)} \\sin\\left({\\theta}\\right)^{2}\\right)}}{m^{4} \\cos\\left({\\theta}\\right)^{4} + 2 \\, m^{2} r^{2} \\cos\\left({\\theta}\\right)^{2} + r^{4}} \\right) \\mathrm{d} {\\phi}\\otimes \\mathrm{d} {\\phi}$"
      ],
      "text/plain": [
       "Kxi2 = -2*((m^4 - m^3*r)*cos(th)^4 + m^2*r^2 - 2*m*r^3 + r^4 - (m^4 - 2*m^2*r^2 + m*r^3)*cos(th)^2)/(m^4*cos(th)^4 + 2*m^2*r^2*cos(th)^2 + r^4) dt⊗dt + 1/2*((m^6 - 2*m^5*r + m^4*r^2)*sin(th)^6 + 2*(m^6 + m^5*r - 2*m^4*r^2 + m^3*r^3 - m^2*r^4)*sin(th)^4 - (3*m^6 - 7*m^4*r^2 + 8*m^3*r^3 - 3*m^2*r^4 - r^6)*sin(th)^2)/(m^5*cos(th)^4 + 2*m^3*r^2*cos(th)^2 + m*r^4) dt⊗dph + 2*r/(m - r) dr⊗dr + (2*m*r - 2*r^2) dth⊗dth + 1/2*((m^6 - 2*m^5*r + m^4*r^2)*sin(th)^6 + 2*(m^6 + m^5*r - 2*m^4*r^2 + m^3*r^3 - m^2*r^4)*sin(th)^4 - (3*m^6 - 7*m^4*r^2 + 8*m^3*r^3 - 3*m^2*r^4 - r^6)*sin(th)^2)/(m^5*cos(th)^4 + 2*m^3*r^2*cos(th)^2 + m*r^4) dph⊗dt - 2*((m^4*r^2 - m^3*r^3 - (m^6 - m^5*r)*cos(th)^2)*sin(th)^4 - (m*r^5 - r^6 + (m^5*r - m^4*r^2)*cos(th)^4 + 2*(m^3*r^3 - m^2*r^4)*cos(th)^2)*sin(th)^2)/(m^4*cos(th)^4 + 2*m^2*r^2*cos(th)^2 + r^4) dph⊗dph"
      ]
     },
     "execution_count": 77,
     "metadata": {},
     "output_type": "execute_result"
    }
   ],
   "source": [
    "Kxi2 = killing_form(xi2)\n",
    "print(Kxi2)\n",
    "Kxi2.display()"
   ]
  },
  {
   "cell_type": "code",
   "execution_count": 78,
   "metadata": {},
   "outputs": [
    {
     "name": "stdout",
     "output_type": "stream",
     "text": [
      "Field of symmetric bilinear forms Kxi3 on the 4-dimensional Lorentzian manifold M\n"
     ]
    },
    {
     "data": {
      "text/html": [
       "<html>\\(\\displaystyle \\mathrm{K}\\xi_{3} = \\left( -\\frac{{\\left({\\epsilon} m^{4} - {\\epsilon} m^{3} r\\right)} t \\cos\\left({\\theta}\\right)^{4} - {\\left({\\epsilon} m^{4} - 2 \\, {\\epsilon} m^{2} r^{2} + {\\epsilon} m r^{3}\\right)} t \\cos\\left({\\theta}\\right)^{2} + {\\left({\\epsilon} m^{2} r^{2} - 2 \\, {\\epsilon} m r^{3} + {\\epsilon} r^{4}\\right)} t}{m^{5} \\cos\\left({\\theta}\\right)^{4} + 2 \\, m^{3} r^{2} \\cos\\left({\\theta}\\right)^{2} + m r^{4}} \\right) \\mathrm{d} t\\otimes \\mathrm{d} t + \\left( \\frac{{\\epsilon} m^{4} \\cos\\left({\\theta}\\right)^{4} + {\\epsilon} r^{4} - 2 \\, {\\left(2 \\, {\\epsilon} m^{4} - {\\epsilon} m^{2} r^{2}\\right)} \\cos\\left({\\theta}\\right)^{2}}{2 \\, {\\left(m^{2} r^{2} - m r^{3} + {\\left(m^{4} - m^{3} r\\right)} \\cos\\left({\\theta}\\right)^{2}\\right)}} \\right) \\mathrm{d} t\\otimes \\mathrm{d} r + \\left( \\frac{{\\left({\\epsilon} m^{6} - 2 \\, {\\epsilon} m^{5} r + {\\epsilon} m^{4} r^{2}\\right)} t \\sin\\left({\\theta}\\right)^{6} + 2 \\, {\\left({\\epsilon} m^{6} + {\\epsilon} m^{5} r - 2 \\, {\\epsilon} m^{4} r^{2} + {\\epsilon} m^{3} r^{3} - {\\epsilon} m^{2} r^{4}\\right)} t \\sin\\left({\\theta}\\right)^{4} - {\\left(3 \\, {\\epsilon} m^{6} - 7 \\, {\\epsilon} m^{4} r^{2} + 8 \\, {\\epsilon} m^{3} r^{3} - 3 \\, {\\epsilon} m^{2} r^{4} - {\\epsilon} r^{6}\\right)} t \\sin\\left({\\theta}\\right)^{2}}{4 \\, {\\left(m^{6} \\cos\\left({\\theta}\\right)^{4} + 2 \\, m^{4} r^{2} \\cos\\left({\\theta}\\right)^{2} + m^{2} r^{4}\\right)}} \\right) \\mathrm{d} t\\otimes \\mathrm{d} {\\phi} + \\left( \\frac{{\\epsilon} m^{4} \\cos\\left({\\theta}\\right)^{4} + {\\epsilon} r^{4} - 2 \\, {\\left(2 \\, {\\epsilon} m^{4} - {\\epsilon} m^{2} r^{2}\\right)} \\cos\\left({\\theta}\\right)^{2}}{2 \\, {\\left(m^{2} r^{2} - m r^{3} + {\\left(m^{4} - m^{3} r\\right)} \\cos\\left({\\theta}\\right)^{2}\\right)}} \\right) \\mathrm{d} r\\otimes \\mathrm{d} t + \\left( \\frac{{\\epsilon} r t}{m^{2} - m r} \\right) \\mathrm{d} r\\otimes \\mathrm{d} r + \\left( -\\frac{{\\left(2 \\, {\\epsilon} m^{4} - {\\epsilon} m^{3} r\\right)} \\sin\\left({\\theta}\\right)^{4} - {\\left(2 \\, {\\epsilon} m^{4} - {\\epsilon} m^{3} r - {\\epsilon} m r^{3}\\right)} \\sin\\left({\\theta}\\right)^{2}}{m r^{2} - r^{3} + {\\left(m^{3} - m^{2} r\\right)} \\cos\\left({\\theta}\\right)^{2}} \\right) \\mathrm{d} r\\otimes \\mathrm{d} {\\phi} + \\frac{{\\left({\\epsilon} m r - {\\epsilon} r^{2}\\right)} t}{m} \\mathrm{d} {\\theta}\\otimes \\mathrm{d} {\\theta} + \\left( \\frac{{\\left({\\epsilon} m^{6} - 2 \\, {\\epsilon} m^{5} r + {\\epsilon} m^{4} r^{2}\\right)} t \\sin\\left({\\theta}\\right)^{6} + 2 \\, {\\left({\\epsilon} m^{6} + {\\epsilon} m^{5} r - 2 \\, {\\epsilon} m^{4} r^{2} + {\\epsilon} m^{3} r^{3} - {\\epsilon} m^{2} r^{4}\\right)} t \\sin\\left({\\theta}\\right)^{4} - {\\left(3 \\, {\\epsilon} m^{6} - 7 \\, {\\epsilon} m^{4} r^{2} + 8 \\, {\\epsilon} m^{3} r^{3} - 3 \\, {\\epsilon} m^{2} r^{4} - {\\epsilon} r^{6}\\right)} t \\sin\\left({\\theta}\\right)^{2}}{4 \\, {\\left(m^{6} \\cos\\left({\\theta}\\right)^{4} + 2 \\, m^{4} r^{2} \\cos\\left({\\theta}\\right)^{2} + m^{2} r^{4}\\right)}} \\right) \\mathrm{d} {\\phi}\\otimes \\mathrm{d} t + \\left( -\\frac{{\\left(2 \\, {\\epsilon} m^{4} - {\\epsilon} m^{3} r\\right)} \\sin\\left({\\theta}\\right)^{4} - {\\left(2 \\, {\\epsilon} m^{4} - {\\epsilon} m^{3} r - {\\epsilon} m r^{3}\\right)} \\sin\\left({\\theta}\\right)^{2}}{m r^{2} - r^{3} + {\\left(m^{3} - m^{2} r\\right)} \\cos\\left({\\theta}\\right)^{2}} \\right) \\mathrm{d} {\\phi}\\otimes \\mathrm{d} r + \\left( \\frac{{\\left({\\left({\\epsilon} m^{6} - {\\epsilon} m^{5} r\\right)} t \\cos\\left({\\theta}\\right)^{2} - {\\left({\\epsilon} m^{4} r^{2} - {\\epsilon} m^{3} r^{3}\\right)} t\\right)} \\sin\\left({\\theta}\\right)^{4} + {\\left({\\left({\\epsilon} m^{5} r - {\\epsilon} m^{4} r^{2}\\right)} t \\cos\\left({\\theta}\\right)^{4} + 2 \\, {\\left({\\epsilon} m^{3} r^{3} - {\\epsilon} m^{2} r^{4}\\right)} t \\cos\\left({\\theta}\\right)^{2} + {\\left({\\epsilon} m r^{5} - {\\epsilon} r^{6}\\right)} t\\right)} \\sin\\left({\\theta}\\right)^{2}}{m^{5} \\cos\\left({\\theta}\\right)^{4} + 2 \\, m^{3} r^{2} \\cos\\left({\\theta}\\right)^{2} + m r^{4}} \\right) \\mathrm{d} {\\phi}\\otimes \\mathrm{d} {\\phi}\\)</html>"
      ],
      "text/latex": [
       "$\\displaystyle \\mathrm{K}\\xi_{3} = \\left( -\\frac{{\\left({\\epsilon} m^{4} - {\\epsilon} m^{3} r\\right)} t \\cos\\left({\\theta}\\right)^{4} - {\\left({\\epsilon} m^{4} - 2 \\, {\\epsilon} m^{2} r^{2} + {\\epsilon} m r^{3}\\right)} t \\cos\\left({\\theta}\\right)^{2} + {\\left({\\epsilon} m^{2} r^{2} - 2 \\, {\\epsilon} m r^{3} + {\\epsilon} r^{4}\\right)} t}{m^{5} \\cos\\left({\\theta}\\right)^{4} + 2 \\, m^{3} r^{2} \\cos\\left({\\theta}\\right)^{2} + m r^{4}} \\right) \\mathrm{d} t\\otimes \\mathrm{d} t + \\left( \\frac{{\\epsilon} m^{4} \\cos\\left({\\theta}\\right)^{4} + {\\epsilon} r^{4} - 2 \\, {\\left(2 \\, {\\epsilon} m^{4} - {\\epsilon} m^{2} r^{2}\\right)} \\cos\\left({\\theta}\\right)^{2}}{2 \\, {\\left(m^{2} r^{2} - m r^{3} + {\\left(m^{4} - m^{3} r\\right)} \\cos\\left({\\theta}\\right)^{2}\\right)}} \\right) \\mathrm{d} t\\otimes \\mathrm{d} r + \\left( \\frac{{\\left({\\epsilon} m^{6} - 2 \\, {\\epsilon} m^{5} r + {\\epsilon} m^{4} r^{2}\\right)} t \\sin\\left({\\theta}\\right)^{6} + 2 \\, {\\left({\\epsilon} m^{6} + {\\epsilon} m^{5} r - 2 \\, {\\epsilon} m^{4} r^{2} + {\\epsilon} m^{3} r^{3} - {\\epsilon} m^{2} r^{4}\\right)} t \\sin\\left({\\theta}\\right)^{4} - {\\left(3 \\, {\\epsilon} m^{6} - 7 \\, {\\epsilon} m^{4} r^{2} + 8 \\, {\\epsilon} m^{3} r^{3} - 3 \\, {\\epsilon} m^{2} r^{4} - {\\epsilon} r^{6}\\right)} t \\sin\\left({\\theta}\\right)^{2}}{4 \\, {\\left(m^{6} \\cos\\left({\\theta}\\right)^{4} + 2 \\, m^{4} r^{2} \\cos\\left({\\theta}\\right)^{2} + m^{2} r^{4}\\right)}} \\right) \\mathrm{d} t\\otimes \\mathrm{d} {\\phi} + \\left( \\frac{{\\epsilon} m^{4} \\cos\\left({\\theta}\\right)^{4} + {\\epsilon} r^{4} - 2 \\, {\\left(2 \\, {\\epsilon} m^{4} - {\\epsilon} m^{2} r^{2}\\right)} \\cos\\left({\\theta}\\right)^{2}}{2 \\, {\\left(m^{2} r^{2} - m r^{3} + {\\left(m^{4} - m^{3} r\\right)} \\cos\\left({\\theta}\\right)^{2}\\right)}} \\right) \\mathrm{d} r\\otimes \\mathrm{d} t + \\left( \\frac{{\\epsilon} r t}{m^{2} - m r} \\right) \\mathrm{d} r\\otimes \\mathrm{d} r + \\left( -\\frac{{\\left(2 \\, {\\epsilon} m^{4} - {\\epsilon} m^{3} r\\right)} \\sin\\left({\\theta}\\right)^{4} - {\\left(2 \\, {\\epsilon} m^{4} - {\\epsilon} m^{3} r - {\\epsilon} m r^{3}\\right)} \\sin\\left({\\theta}\\right)^{2}}{m r^{2} - r^{3} + {\\left(m^{3} - m^{2} r\\right)} \\cos\\left({\\theta}\\right)^{2}} \\right) \\mathrm{d} r\\otimes \\mathrm{d} {\\phi} + \\frac{{\\left({\\epsilon} m r - {\\epsilon} r^{2}\\right)} t}{m} \\mathrm{d} {\\theta}\\otimes \\mathrm{d} {\\theta} + \\left( \\frac{{\\left({\\epsilon} m^{6} - 2 \\, {\\epsilon} m^{5} r + {\\epsilon} m^{4} r^{2}\\right)} t \\sin\\left({\\theta}\\right)^{6} + 2 \\, {\\left({\\epsilon} m^{6} + {\\epsilon} m^{5} r - 2 \\, {\\epsilon} m^{4} r^{2} + {\\epsilon} m^{3} r^{3} - {\\epsilon} m^{2} r^{4}\\right)} t \\sin\\left({\\theta}\\right)^{4} - {\\left(3 \\, {\\epsilon} m^{6} - 7 \\, {\\epsilon} m^{4} r^{2} + 8 \\, {\\epsilon} m^{3} r^{3} - 3 \\, {\\epsilon} m^{2} r^{4} - {\\epsilon} r^{6}\\right)} t \\sin\\left({\\theta}\\right)^{2}}{4 \\, {\\left(m^{6} \\cos\\left({\\theta}\\right)^{4} + 2 \\, m^{4} r^{2} \\cos\\left({\\theta}\\right)^{2} + m^{2} r^{4}\\right)}} \\right) \\mathrm{d} {\\phi}\\otimes \\mathrm{d} t + \\left( -\\frac{{\\left(2 \\, {\\epsilon} m^{4} - {\\epsilon} m^{3} r\\right)} \\sin\\left({\\theta}\\right)^{4} - {\\left(2 \\, {\\epsilon} m^{4} - {\\epsilon} m^{3} r - {\\epsilon} m r^{3}\\right)} \\sin\\left({\\theta}\\right)^{2}}{m r^{2} - r^{3} + {\\left(m^{3} - m^{2} r\\right)} \\cos\\left({\\theta}\\right)^{2}} \\right) \\mathrm{d} {\\phi}\\otimes \\mathrm{d} r + \\left( \\frac{{\\left({\\left({\\epsilon} m^{6} - {\\epsilon} m^{5} r\\right)} t \\cos\\left({\\theta}\\right)^{2} - {\\left({\\epsilon} m^{4} r^{2} - {\\epsilon} m^{3} r^{3}\\right)} t\\right)} \\sin\\left({\\theta}\\right)^{4} + {\\left({\\left({\\epsilon} m^{5} r - {\\epsilon} m^{4} r^{2}\\right)} t \\cos\\left({\\theta}\\right)^{4} + 2 \\, {\\left({\\epsilon} m^{3} r^{3} - {\\epsilon} m^{2} r^{4}\\right)} t \\cos\\left({\\theta}\\right)^{2} + {\\left({\\epsilon} m r^{5} - {\\epsilon} r^{6}\\right)} t\\right)} \\sin\\left({\\theta}\\right)^{2}}{m^{5} \\cos\\left({\\theta}\\right)^{4} + 2 \\, m^{3} r^{2} \\cos\\left({\\theta}\\right)^{2} + m r^{4}} \\right) \\mathrm{d} {\\phi}\\otimes \\mathrm{d} {\\phi}$"
      ],
      "text/plain": [
       "Kxi3 = -((eps*m^4 - eps*m^3*r)*t*cos(th)^4 - (eps*m^4 - 2*eps*m^2*r^2 + eps*m*r^3)*t*cos(th)^2 + (eps*m^2*r^2 - 2*eps*m*r^3 + eps*r^4)*t)/(m^5*cos(th)^4 + 2*m^3*r^2*cos(th)^2 + m*r^4) dt⊗dt + 1/2*(eps*m^4*cos(th)^4 + eps*r^4 - 2*(2*eps*m^4 - eps*m^2*r^2)*cos(th)^2)/(m^2*r^2 - m*r^3 + (m^4 - m^3*r)*cos(th)^2) dt⊗dr + 1/4*((eps*m^6 - 2*eps*m^5*r + eps*m^4*r^2)*t*sin(th)^6 + 2*(eps*m^6 + eps*m^5*r - 2*eps*m^4*r^2 + eps*m^3*r^3 - eps*m^2*r^4)*t*sin(th)^4 - (3*eps*m^6 - 7*eps*m^4*r^2 + 8*eps*m^3*r^3 - 3*eps*m^2*r^4 - eps*r^6)*t*sin(th)^2)/(m^6*cos(th)^4 + 2*m^4*r^2*cos(th)^2 + m^2*r^4) dt⊗dph + 1/2*(eps*m^4*cos(th)^4 + eps*r^4 - 2*(2*eps*m^4 - eps*m^2*r^2)*cos(th)^2)/(m^2*r^2 - m*r^3 + (m^4 - m^3*r)*cos(th)^2) dr⊗dt + eps*r*t/(m^2 - m*r) dr⊗dr - ((2*eps*m^4 - eps*m^3*r)*sin(th)^4 - (2*eps*m^4 - eps*m^3*r - eps*m*r^3)*sin(th)^2)/(m*r^2 - r^3 + (m^3 - m^2*r)*cos(th)^2) dr⊗dph + (eps*m*r - eps*r^2)*t/m dth⊗dth + 1/4*((eps*m^6 - 2*eps*m^5*r + eps*m^4*r^2)*t*sin(th)^6 + 2*(eps*m^6 + eps*m^5*r - 2*eps*m^4*r^2 + eps*m^3*r^3 - eps*m^2*r^4)*t*sin(th)^4 - (3*eps*m^6 - 7*eps*m^4*r^2 + 8*eps*m^3*r^3 - 3*eps*m^2*r^4 - eps*r^6)*t*sin(th)^2)/(m^6*cos(th)^4 + 2*m^4*r^2*cos(th)^2 + m^2*r^4) dph⊗dt - ((2*eps*m^4 - eps*m^3*r)*sin(th)^4 - (2*eps*m^4 - eps*m^3*r - eps*m*r^3)*sin(th)^2)/(m*r^2 - r^3 + (m^3 - m^2*r)*cos(th)^2) dph⊗dr + (((eps*m^6 - eps*m^5*r)*t*cos(th)^2 - (eps*m^4*r^2 - eps*m^3*r^3)*t)*sin(th)^4 + ((eps*m^5*r - eps*m^4*r^2)*t*cos(th)^4 + 2*(eps*m^3*r^3 - eps*m^2*r^4)*t*cos(th)^2 + (eps*m*r^5 - eps*r^6)*t)*sin(th)^2)/(m^5*cos(th)^4 + 2*m^3*r^2*cos(th)^2 + m*r^4) dph⊗dph"
      ]
     },
     "execution_count": 78,
     "metadata": {},
     "output_type": "execute_result"
    }
   ],
   "source": [
    "Kxi3 = killing_form(xi3)\n",
    "print(Kxi3)\n",
    "Kxi3.display()"
   ]
  },
  {
   "cell_type": "markdown",
   "metadata": {},
   "source": [
    "## Global NHEK coordinates"
   ]
  },
  {
   "cell_type": "markdown",
   "metadata": {},
   "source": [
    "Let us introduce the global NHEK coordinates $(\\tau, y, \\theta,\\psi)$:"
   ]
  },
  {
   "cell_type": "code",
   "execution_count": 79,
   "metadata": {},
   "outputs": [
    {
     "name": "stdout",
     "output_type": "stream",
     "text": [
      "Chart (M, (ta, y, th, ps))\n"
     ]
    },
    {
     "data": {
      "text/html": [
       "<html>\\(\\displaystyle \\left(\\mathcal{M},({\\tau}, y, {\\theta}, {\\psi})\\right)\\)</html>"
      ],
      "text/latex": [
       "$\\displaystyle \\left(\\mathcal{M},({\\tau}, y, {\\theta}, {\\psi})\\right)$"
      ],
      "text/plain": [
       "Chart (M, (ta, y, th, ps))"
      ]
     },
     "execution_count": 79,
     "metadata": {},
     "output_type": "execute_result"
    }
   ],
   "source": [
    "GNH.<ta, y, th, ps> = M.chart(r\"ta:\\tau y th:(0,pi):\\theta ps:(0,2*pi):periodic:\\psi\") \n",
    "print(GNH)\n",
    "GNH"
   ]
  },
  {
   "cell_type": "markdown",
   "metadata": {},
   "source": [
    "They are related to the near-horizon coordinates $(T,R,\\theta,\\Phi)$ via Eqs. (2.7)-(2.8) of J. Bardeen and G. T. Horowitz, \n",
    "[Phys. Rev. D **60**, 104030 (1999)](https://doi.org/10.1103/PhysRevD.60.104030):"
   ]
  },
  {
   "cell_type": "code",
   "execution_count": 80,
   "metadata": {},
   "outputs": [
    {
     "data": {
      "text/html": [
       "<html>\\(\\displaystyle \\left\\{\\begin{array}{lcl} T & = & \\frac{\\sqrt{y^{2} + 1} \\sin\\left({\\tau}\\right)}{\\sqrt{y^{2} + 1} \\cos\\left({\\tau}\\right) + y} \\\\ R & = & \\sqrt{y^{2} + 1} \\cos\\left({\\tau}\\right) + y \\\\ {\\theta} & = & {\\theta} \\\\ {\\Phi} & = & {\\psi} + \\log\\left(\\frac{y \\sin\\left({\\tau}\\right) + \\cos\\left({\\tau}\\right)}{\\sqrt{y^{2} + 1} \\sin\\left({\\tau}\\right) + 1}\\right) \\end{array}\\right.\\)</html>"
      ],
      "text/latex": [
       "$\\displaystyle \\left\\{\\begin{array}{lcl} T & = & \\frac{\\sqrt{y^{2} + 1} \\sin\\left({\\tau}\\right)}{\\sqrt{y^{2} + 1} \\cos\\left({\\tau}\\right) + y} \\\\ R & = & \\sqrt{y^{2} + 1} \\cos\\left({\\tau}\\right) + y \\\\ {\\theta} & = & {\\theta} \\\\ {\\Phi} & = & {\\psi} + \\log\\left(\\frac{y \\sin\\left({\\tau}\\right) + \\cos\\left({\\tau}\\right)}{\\sqrt{y^{2} + 1} \\sin\\left({\\tau}\\right) + 1}\\right) \\end{array}\\right.$"
      ],
      "text/plain": [
       "T = sqrt(y^2 + 1)*sin(ta)/(sqrt(y^2 + 1)*cos(ta) + y)\n",
       "R = sqrt(y^2 + 1)*cos(ta) + y\n",
       "th = th\n",
       "Ph = ps + log((y*sin(ta) + cos(ta))/(sqrt(y^2 + 1)*sin(ta) + 1))"
      ]
     },
     "execution_count": 80,
     "metadata": {},
     "output_type": "execute_result"
    }
   ],
   "source": [
    "GNH_to_NH = GNH.transition_map(NH, [sqrt(1+y^2)*sin(ta)/(y + sqrt(1+y^2)*cos(ta)),\n",
    "                                    y + sqrt(1+y^2)*cos(ta),\n",
    "                                    th, \n",
    "                                    ps + ln((cos(ta) + y*sin(ta))/(1 + sqrt(1+y^2)*sin(ta)))])\n",
    "GNH_to_NH.display()"
   ]
  },
  {
   "cell_type": "code",
   "execution_count": 81,
   "metadata": {},
   "outputs": [],
   "source": [
    "assume(R^2*T^2 - R^2 - 1<0)\n",
    "assume(R>0)"
   ]
  },
  {
   "cell_type": "markdown",
   "metadata": {},
   "source": [
    "The inverse transformation is "
   ]
  },
  {
   "cell_type": "code",
   "execution_count": 82,
   "metadata": {},
   "outputs": [
    {
     "name": "stdout",
     "output_type": "stream",
     "text": [
      "Check of the inverse coordinate transformation:\n",
      "  ta == arctan2(2*y^2*cos(ta)*sin(ta) + 2*sqrt(y^2 + 1)*y*sin(ta) + 2*cos(ta)*sin(ta), 2*((cos(ta)^4 + 3*cos(ta)^2)*y^4 + cos(ta)^4 + (2*cos(ta)^4 + 3*cos(ta)^2)*y^2 + ((3*cos(ta)^3 + cos(ta))*y^3 + 3*y*cos(ta)^3)*sqrt(y^2 + 1))/((cos(ta)^2 + 1)*y^2 + 2*sqrt(y^2 + 1)*y*cos(ta) + cos(ta)^2))  **failed**\n",
      "  y == y  *passed*\n",
      "  th == th  *passed*\n",
      "  ps == ps + 1/2*log((cos(ta)^6 + 15*cos(ta)^4 + 15*cos(ta)^2 + 1)*y^6 + cos(ta)^6 + 3*(cos(ta)^6 + 10*cos(ta)^4 + 5*cos(ta)^2)*y^4 + 3*(cos(ta)^6 + 5*cos(ta)^4)*y^2 + 2*((3*cos(ta)^5 + 10*cos(ta)^3 + 3*cos(ta))*y^5 + 3*y*cos(ta)^5 + 2*(3*cos(ta)^5 + 5*cos(ta)^3)*y^3)*sqrt(y^2 + 1)) - log(y^2*cos(ta) + sqrt(y^2 + 1)*y + cos(ta)) + 1/2*log(y^2 + 1) - 1/2*log(abs((cos(ta)^4 + 6*cos(ta)^2 + 1)*y^4 + cos(ta)^4 + 2*(cos(ta)^4 + 3*cos(ta)^2)*y^2 + 4*((cos(ta)^3 + cos(ta))*y^3 + y*cos(ta)^3)*sqrt(y^2 + 1)))  **failed**\n",
      "  T == -2*R^2*T*abs(R^2*T^2 - R^2 - 1)/(R^4*T^4 - R^4 - 2*R^2*T^2 + (R^2*T^2 - R^2 - 1)*abs(R^2*T^2 - R^2 - 1) + 1)  **failed**\n",
      "  R == 1/2*(R^2*T^2 + R^2 + abs(R^2*T^2 - R^2 - 1) - 1)/R  **failed**\n",
      "  th == th  *passed*\n",
      "  Ph == Ph + log(-(R*T + 1)*abs(R^2*T^2 - R^2 - 1)/(R^2*T^2 - R*T*abs(R^2*T^2 - R^2 - 1) - R^2 - 1))  **failed**\n",
      "NB: a failed report can reflect a mere lack of simplification.\n"
     ]
    }
   ],
   "source": [
    "GNH_to_NH.set_inverse(atan2(2*T*R^2, ((1 - T^2)*R^2 + 1)), \n",
    "                      ((1 + T^2)*R^2 - 1)/(2*R),\n",
    "                      th,\n",
    "                      Ph - ln(((1 - T*R)^2 + R^2)/sqrt(((1 + T^2)*R^2 - 1)^2 + 4*R^2)) )"
   ]
  },
  {
   "cell_type": "code",
   "execution_count": 83,
   "metadata": {},
   "outputs": [
    {
     "data": {
      "text/html": [
       "<html>\\(\\displaystyle \\left\\{\\begin{array}{lcl} {\\tau} & = & \\arctan\\left(2 \\, R^{2} T, -{\\left(T^{2} - 1\\right)} R^{2} + 1\\right) \\\\ y & = & \\frac{{\\left(T^{2} + 1\\right)} R^{2} - 1}{2 \\, R} \\\\ {\\theta} & = & {\\theta} \\\\ {\\psi} & = & {\\Phi} - \\log\\left(\\frac{{\\left(R T - 1\\right)}^{2} + R^{2}}{\\sqrt{{\\left({\\left(T^{2} + 1\\right)} R^{2} - 1\\right)}^{2} + 4 \\, R^{2}}}\\right) \\end{array}\\right.\\)</html>"
      ],
      "text/latex": [
       "$\\displaystyle \\left\\{\\begin{array}{lcl} {\\tau} & = & \\arctan\\left(2 \\, R^{2} T, -{\\left(T^{2} - 1\\right)} R^{2} + 1\\right) \\\\ y & = & \\frac{{\\left(T^{2} + 1\\right)} R^{2} - 1}{2 \\, R} \\\\ {\\theta} & = & {\\theta} \\\\ {\\psi} & = & {\\Phi} - \\log\\left(\\frac{{\\left(R T - 1\\right)}^{2} + R^{2}}{\\sqrt{{\\left({\\left(T^{2} + 1\\right)} R^{2} - 1\\right)}^{2} + 4 \\, R^{2}}}\\right) \\end{array}\\right.$"
      ],
      "text/plain": [
       "ta = arctan2(2*R^2*T, -(T^2 - 1)*R^2 + 1)\n",
       "y = 1/2*((T^2 + 1)*R^2 - 1)/R\n",
       "th = th\n",
       "ps = Ph - log(((R*T - 1)^2 + R^2)/sqrt(((T^2 + 1)*R^2 - 1)^2 + 4*R^2))"
      ]
     },
     "execution_count": 83,
     "metadata": {},
     "output_type": "execute_result"
    }
   ],
   "source": [
    "GNH_to_NH.inverse().display()"
   ]
  },
  {
   "cell_type": "markdown",
   "metadata": {},
   "source": [
    "### Plot of the near-horizon coordinates in terms of the global NHEK ones"
   ]
  },
  {
   "cell_type": "code",
   "execution_count": 84,
   "metadata": {},
   "outputs": [
    {
     "data": {
      "image/png": "[encoded data removed]",
      "text/plain": [
       "Graphics object consisting of 31 graphics primitives"
      ]
     },
     "metadata": {},
     "output_type": "display_data"
    }
   ],
   "source": [
    "graph = NH.plot(GNH, ambient_coords=(y, ta), fixed_coords={th: pi/2, Ph: 0},\n",
    "                ranges={T: (-10, 10), R: (0.03, 12)}, color={T: 'red', R: 'grey'}, \n",
    "                number_values={T: 17, R: 13}, plot_points=800) + \\\n",
    "        NH.plot(GNH, ambient_coords=(y, ta), fixed_coords={th: pi/2, R: 0.03, Ph: 0},\n",
    "                ranges={T: (-60, 60)}, color={T: 'blue'}, thickness=2,\n",
    "                number_values={T: 33}, plot_points=400)\n",
    "show(graph, xmin=-5, xmax=6)"
   ]
  },
  {
   "cell_type": "markdown",
   "metadata": {},
   "source": [
    "### Expression of the near horizon metric $h$ in terms of the global NHEK coordinates"
   ]
  },
  {
   "cell_type": "code",
   "execution_count": 85,
   "metadata": {},
   "outputs": [
    {
     "data": {
      "text/html": [
       "<html>\\(\\displaystyle h = \\left( -\\frac{m^{2} \\cos\\left({\\theta}\\right)^{4} + 2 \\, m^{2} \\cos\\left({\\theta}\\right)^{2} + {\\left(m^{2} \\cos\\left({\\theta}\\right)^{4} + 6 \\, m^{2} \\cos\\left({\\theta}\\right)^{2} - 3 \\, m^{2}\\right)} y^{2} + m^{2}}{\\cos\\left({\\theta}\\right)^{2} + 1} \\right) \\mathrm{d} {\\tau}\\otimes \\mathrm{d} {\\tau} + \\left( \\frac{4 \\, m^{2} y \\sin\\left({\\theta}\\right)^{2}}{\\cos\\left({\\theta}\\right)^{2} + 1} \\right) \\mathrm{d} {\\tau}\\otimes \\mathrm{d} {\\psi} + \\left( \\frac{m^{2} \\cos\\left({\\theta}\\right)^{2} + m^{2}}{y^{2} + 1} \\right) \\mathrm{d} y\\otimes \\mathrm{d} y + \\left( m^{2} \\cos\\left({\\theta}\\right)^{2} + m^{2} \\right) \\mathrm{d} {\\theta}\\otimes \\mathrm{d} {\\theta} + \\left( \\frac{4 \\, m^{2} y \\sin\\left({\\theta}\\right)^{2}}{\\cos\\left({\\theta}\\right)^{2} + 1} \\right) \\mathrm{d} {\\psi}\\otimes \\mathrm{d} {\\tau} + \\left( \\frac{4 \\, m^{2} \\sin\\left({\\theta}\\right)^{2}}{\\cos\\left({\\theta}\\right)^{2} + 1} \\right) \\mathrm{d} {\\psi}\\otimes \\mathrm{d} {\\psi}\\)</html>"
      ],
      "text/latex": [
       "$\\displaystyle h = \\left( -\\frac{m^{2} \\cos\\left({\\theta}\\right)^{4} + 2 \\, m^{2} \\cos\\left({\\theta}\\right)^{2} + {\\left(m^{2} \\cos\\left({\\theta}\\right)^{4} + 6 \\, m^{2} \\cos\\left({\\theta}\\right)^{2} - 3 \\, m^{2}\\right)} y^{2} + m^{2}}{\\cos\\left({\\theta}\\right)^{2} + 1} \\right) \\mathrm{d} {\\tau}\\otimes \\mathrm{d} {\\tau} + \\left( \\frac{4 \\, m^{2} y \\sin\\left({\\theta}\\right)^{2}}{\\cos\\left({\\theta}\\right)^{2} + 1} \\right) \\mathrm{d} {\\tau}\\otimes \\mathrm{d} {\\psi} + \\left( \\frac{m^{2} \\cos\\left({\\theta}\\right)^{2} + m^{2}}{y^{2} + 1} \\right) \\mathrm{d} y\\otimes \\mathrm{d} y + \\left( m^{2} \\cos\\left({\\theta}\\right)^{2} + m^{2} \\right) \\mathrm{d} {\\theta}\\otimes \\mathrm{d} {\\theta} + \\left( \\frac{4 \\, m^{2} y \\sin\\left({\\theta}\\right)^{2}}{\\cos\\left({\\theta}\\right)^{2} + 1} \\right) \\mathrm{d} {\\psi}\\otimes \\mathrm{d} {\\tau} + \\left( \\frac{4 \\, m^{2} \\sin\\left({\\theta}\\right)^{2}}{\\cos\\left({\\theta}\\right)^{2} + 1} \\right) \\mathrm{d} {\\psi}\\otimes \\mathrm{d} {\\psi}$"
      ],
      "text/plain": [
       "h = -(m^2*cos(th)^4 + 2*m^2*cos(th)^2 + (m^2*cos(th)^4 + 6*m^2*cos(th)^2 - 3*m^2)*y^2 + m^2)/(cos(th)^2 + 1) dta⊗dta + 4*m^2*y*sin(th)^2/(cos(th)^2 + 1) dta⊗dps + (m^2*cos(th)^2 + m^2)/(y^2 + 1) dy⊗dy + (m^2*cos(th)^2 + m^2) dth⊗dth + 4*m^2*y*sin(th)^2/(cos(th)^2 + 1) dps⊗dta + 4*m^2*sin(th)^2/(cos(th)^2 + 1) dps⊗dps"
      ]
     },
     "execution_count": 85,
     "metadata": {},
     "output_type": "execute_result"
    }
   ],
   "source": [
    "h.display(GNH)"
   ]
  },
  {
   "cell_type": "code",
   "execution_count": 86,
   "metadata": {},
   "outputs": [
    {
     "data": {
      "text/html": [
       "<html>\\(\\displaystyle h = \\left( -\\frac{{\\left(y^{2} \\cos\\left({\\theta}\\right)^{4} + 6 \\, y^{2} \\cos\\left({\\theta}\\right)^{2} + \\cos\\left({\\theta}\\right)^{4} - 3 \\, y^{2} + 2 \\, \\cos\\left({\\theta}\\right)^{2} + 1\\right)} m^{2}}{\\cos\\left({\\theta}\\right)^{2} + 1} \\right) \\mathrm{d} {\\tau}\\otimes \\mathrm{d} {\\tau} + \\left( \\frac{4 \\, m^{2} y \\sin\\left({\\theta}\\right)^{2}}{\\cos\\left({\\theta}\\right)^{2} + 1} \\right) \\mathrm{d} {\\tau}\\otimes \\mathrm{d} {\\psi} + \\left( \\frac{{\\left(\\cos\\left({\\theta}\\right)^{2} + 1\\right)} m^{2}}{y^{2} + 1} \\right) \\mathrm{d} y\\otimes \\mathrm{d} y + {\\left(\\cos\\left({\\theta}\\right)^{2} + 1\\right)} m^{2} \\mathrm{d} {\\theta}\\otimes \\mathrm{d} {\\theta} + \\left( \\frac{4 \\, m^{2} y \\sin\\left({\\theta}\\right)^{2}}{\\cos\\left({\\theta}\\right)^{2} + 1} \\right) \\mathrm{d} {\\psi}\\otimes \\mathrm{d} {\\tau} + \\left( \\frac{4 \\, m^{2} \\sin\\left({\\theta}\\right)^{2}}{\\cos\\left({\\theta}\\right)^{2} + 1} \\right) \\mathrm{d} {\\psi}\\otimes \\mathrm{d} {\\psi}\\)</html>"
      ],
      "text/latex": [
       "$\\displaystyle h = \\left( -\\frac{{\\left(y^{2} \\cos\\left({\\theta}\\right)^{4} + 6 \\, y^{2} \\cos\\left({\\theta}\\right)^{2} + \\cos\\left({\\theta}\\right)^{4} - 3 \\, y^{2} + 2 \\, \\cos\\left({\\theta}\\right)^{2} + 1\\right)} m^{2}}{\\cos\\left({\\theta}\\right)^{2} + 1} \\right) \\mathrm{d} {\\tau}\\otimes \\mathrm{d} {\\tau} + \\left( \\frac{4 \\, m^{2} y \\sin\\left({\\theta}\\right)^{2}}{\\cos\\left({\\theta}\\right)^{2} + 1} \\right) \\mathrm{d} {\\tau}\\otimes \\mathrm{d} {\\psi} + \\left( \\frac{{\\left(\\cos\\left({\\theta}\\right)^{2} + 1\\right)} m^{2}}{y^{2} + 1} \\right) \\mathrm{d} y\\otimes \\mathrm{d} y + {\\left(\\cos\\left({\\theta}\\right)^{2} + 1\\right)} m^{2} \\mathrm{d} {\\theta}\\otimes \\mathrm{d} {\\theta} + \\left( \\frac{4 \\, m^{2} y \\sin\\left({\\theta}\\right)^{2}}{\\cos\\left({\\theta}\\right)^{2} + 1} \\right) \\mathrm{d} {\\psi}\\otimes \\mathrm{d} {\\tau} + \\left( \\frac{4 \\, m^{2} \\sin\\left({\\theta}\\right)^{2}}{\\cos\\left({\\theta}\\right)^{2} + 1} \\right) \\mathrm{d} {\\psi}\\otimes \\mathrm{d} {\\psi}$"
      ],
      "text/plain": [
       "h = -(y^2*cos(th)^4 + 6*y^2*cos(th)^2 + cos(th)^4 - 3*y^2 + 2*cos(th)^2 + 1)*m^2/(cos(th)^2 + 1) dta⊗dta + 4*m^2*y*sin(th)^2/(cos(th)^2 + 1) dta⊗dps + (cos(th)^2 + 1)*m^2/(y^2 + 1) dy⊗dy + (cos(th)^2 + 1)*m^2 dth⊗dth + 4*m^2*y*sin(th)^2/(cos(th)^2 + 1) dps⊗dta + 4*m^2*sin(th)^2/(cos(th)^2 + 1) dps⊗dps"
      ]
     },
     "execution_count": 86,
     "metadata": {},
     "output_type": "execute_result"
    }
   ],
   "source": [
    "h.apply_map(factor, frame=GNH.frame(), chart=GNH, keep_other_components=True)\n",
    "h.display(GNH)"
   ]
  },
  {
   "cell_type": "markdown",
   "metadata": {},
   "source": [
    "Let us check that we recover Eq. (2.9) of Bardeen & Horowitz, \n",
    "[Phys. Rev. D **60**, 104030 (1999)](https://doi.org/10.1103/PhysRevD.60.104030). This is actually obvious for all the terms, except for $h_{\\tau\\tau}$. For the latter, the computation"
   ]
  },
  {
   "cell_type": "code",
   "execution_count": 87,
   "metadata": {},
   "outputs": [
    {
     "data": {
      "text/html": [
       "<html>\\(\\displaystyle \\frac{4 \\, m^{2} y^{2} \\sin\\left({\\theta}\\right)^{2}}{\\cos\\left({\\theta}\\right)^{2} + 1}\\)</html>"
      ],
      "text/latex": [
       "$\\displaystyle \\frac{4 \\, m^{2} y^{2} \\sin\\left({\\theta}\\right)^{2}}{\\cos\\left({\\theta}\\right)^{2} + 1}$"
      ],
      "text/plain": [
       "4*m^2*y^2*sin(th)^2/(cos(th)^2 + 1)"
      ]
     },
     "execution_count": 87,
     "metadata": {},
     "output_type": "execute_result"
    }
   ],
   "source": [
    "h00 = h[GNH.frame(),0,0,GNH].expr()\n",
    "(h00 + m^2*(1 + cos(th)^2)*(1 + y^2)).simplify_full()"
   ]
  },
  {
   "cell_type": "markdown",
   "metadata": {},
   "source": [
    "shows that\n",
    "$$ h_{\\tau\\tau} = m^2 \\left[ - (1 + \\cos^2\\theta)(1 + y^2) + 4 \\frac{y^2\\sin^2\\theta}{1 + \\cos^2\\theta} \\right], $$\n",
    "which yields a full agreement with Eq. (2.9) of Bardeen & Horowitz, up to an overall factor $2 m^2$."
   ]
  },
  {
   "cell_type": "markdown",
   "metadata": {},
   "source": [
    "### Expression of the $h$-Killing vector $\\frac{\\partial}{\\partial\\tau}$ in terms of $\\xi_1$ and $\\xi_3$"
   ]
  },
  {
   "cell_type": "code",
   "execution_count": 88,
   "metadata": {},
   "outputs": [
    {
     "data": {
      "text/html": [
       "<html>\\(\\displaystyle \\frac{\\partial}{\\partial {\\tau} } = \\left( \\frac{R^{2} T^{2} + R^{2} + 1}{2 \\, R^{2}} \\right) \\frac{\\partial}{\\partial T } -R T \\frac{\\partial}{\\partial R } -\\frac{1}{R} \\frac{\\partial}{\\partial {\\Phi} }\\)</html>"
      ],
      "text/latex": [
       "$\\displaystyle \\frac{\\partial}{\\partial {\\tau} } = \\left( \\frac{R^{2} T^{2} + R^{2} + 1}{2 \\, R^{2}} \\right) \\frac{\\partial}{\\partial T } -R T \\frac{\\partial}{\\partial R } -\\frac{1}{R} \\frac{\\partial}{\\partial {\\Phi} }$"
      ],
      "text/plain": [
       "∂/∂ta = 1/2*(R^2*T^2 + R^2 + 1)/R^2 ∂/∂T - R*T ∂/∂R - 1/R ∂/∂Ph"
      ]
     },
     "execution_count": 88,
     "metadata": {},
     "output_type": "execute_result"
    }
   ],
   "source": [
    "GNH.frame()[0].display(NH)"
   ]
  },
  {
   "cell_type": "code",
   "execution_count": 89,
   "metadata": {},
   "outputs": [
    {
     "data": {
      "text/html": [
       "<html>\\(\\displaystyle \\mathrm{True}\\)</html>"
      ],
      "text/latex": [
       "$\\displaystyle \\mathrm{True}$"
      ],
      "text/plain": [
       "True"
      ]
     },
     "execution_count": 89,
     "metadata": {},
     "output_type": "execute_result"
    }
   ],
   "source": [
    "GNH.frame()[0] == xi3 + xi1/2"
   ]
  },
  {
   "cell_type": "markdown",
   "metadata": {},
   "source": [
    "Hence we have:\n",
    "$$ \\frac{\\partial}{\\partial\\tau} = \\xi_3 + \\frac{1}{2} \\xi_1$$."
   ]
  }
 ],
 "metadata": {
  "kernelspec": {
   "display_name": "SageMath 10.3.rc3",
   "language": "sage",
   "name": "sagemath"
  },
  "language": "python",
  "language_info": {
   "codemirror_mode": {
    "name": "ipython",
    "version": 3
   },
   "file_extension": ".py",
   "mimetype": "text/x-python",
   "name": "python",
   "nbconvert_exporter": "python",
   "pygments_lexer": "ipython3",
   "version": "3.10.12"
  }
 },
 "nbformat": 4,
 "nbformat_minor": 4
}
