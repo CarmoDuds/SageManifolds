{
 "cells": [
  {
   "cell_type": "markdown",
   "metadata": {},
   "source": [
    "# Defining a degenerate metric manifold $M$"
   ]
  },
  {
   "cell_type": "markdown",
   "metadata": {},
   "source": [
    "This Jupyter notebook illustrates SageMath functionalities regarding smooth manifolds equipped with a degenerate metric. The involved tools have been developed through the [SageManifolds](https://sagemanifolds.obspm.fr) project. \n",
    "\n",
    "*Author:* **Hans Fotsing Tetsing**"
   ]
  },
  {
   "cell_type": "markdown",
   "metadata": {},
   "source": [
    "A version of SageMath at least equal to 9.1 is required to run this notebook"
   ]
  },
  {
   "cell_type": "code",
   "execution_count": 1,
   "metadata": {},
   "outputs": [
    {
     "data": {
      "text/plain": [
       "'SageMath version 9.1, Release Date: 2020-05-20'"
      ]
     },
     "execution_count": 1,
     "metadata": {},
     "output_type": "execute_result"
    }
   ],
   "source": [
    "version()"
   ]
  },
  {
   "cell_type": "code",
   "execution_count": 2,
   "metadata": {},
   "outputs": [],
   "source": [
    "%display latex"
   ]
  },
  {
   "cell_type": "code",
   "execution_count": 3,
   "metadata": {},
   "outputs": [
    {
     "name": "stdout",
     "output_type": "stream",
     "text": [
      "3-dimensional degenerate_metric manifold M\n"
     ]
    }
   ],
   "source": [
    "M = Manifold(3, 'M', structure='degenerate_metric')\n",
    "print(M)"
   ]
  },
  {
   "cell_type": "markdown",
   "metadata": {},
   "source": [
    "We call $g$ the metric on $M$"
   ]
  },
  {
   "cell_type": "code",
   "execution_count": 4,
   "metadata": {},
   "outputs": [
    {
     "name": "stdout",
     "output_type": "stream",
     "text": [
      "degenerate metric g on the 3-dimensional degenerate_metric manifold M\n"
     ]
    }
   ],
   "source": [
    "g = M.metric() \n",
    "print(g)"
   ]
  },
  {
   "cell_type": "code",
   "execution_count": 5,
   "metadata": {},
   "outputs": [
    {
     "data": {
      "text/html": [
       "<html><script type=\"math/tex; mode=display\">\\newcommand{\\Bold}[1]{\\mathbf{#1}}\\mathcal{T}^{(0,2)}\\left(M\\right)</script></html>"
      ],
      "text/plain": [
       "Module T^(0,2)(M) of type-(0,2) tensors fields on the 3-dimensional degenerate_metric manifold M"
      ]
     },
     "execution_count": 5,
     "metadata": {},
     "output_type": "execute_result"
    }
   ],
   "source": [
    "g.parent()"
   ]
  },
  {
   "cell_type": "code",
   "execution_count": 6,
   "metadata": {},
   "outputs": [
    {
     "data": {
      "text/html": [
       "<html><script type=\"math/tex; mode=display\">\\newcommand{\\Bold}[1]{\\mathbf{#1}}\\begin{array}{llcl} 0:& M & \\longrightarrow & \\mathbb{R} \\end{array}</script></html>"
      ],
      "text/plain": [
       "zero: M --> R"
      ]
     },
     "execution_count": 6,
     "metadata": {},
     "output_type": "execute_result"
    }
   ],
   "source": [
    "det(g).display()"
   ]
  },
  {
   "cell_type": "markdown",
   "metadata": {},
   "source": [
    "The determinant of any degenerate matric is the zero scalar function. By default (when the components are not yet set) the signature is the triplet `(n_-,n_+,n_0)` where `n_-=0` is the number of negative entries, `n_+=dim(M)` the number of positive entries and `n_0=1` is the number number of zero in the digonal, all that in the writting of the metric in an orthogonal basis."
   ]
  },
  {
   "cell_type": "code",
   "execution_count": 7,
   "metadata": {},
   "outputs": [
    {
     "data": {
      "text/html": [
       "<html><script type=\"math/tex; mode=display\">\\newcommand{\\Bold}[1]{\\mathbf{#1}}\\left(0, 2, 1\\right)</script></html>"
      ],
      "text/plain": [
       "(0, 2, 1)"
      ]
     },
     "execution_count": 7,
     "metadata": {},
     "output_type": "execute_result"
    }
   ],
   "source": [
    "g.signature()"
   ]
  },
  {
   "cell_type": "code",
   "execution_count": 8,
   "metadata": {},
   "outputs": [
    {
     "name": "stdout",
     "output_type": "stream",
     "text": [
      "Open subset U of the 3-dimensional degenerate_metric manifold M\n"
     ]
    }
   ],
   "source": [
    "U = M.open_subset('U')\n",
    "print(U)"
   ]
  },
  {
   "cell_type": "code",
   "execution_count": 9,
   "metadata": {},
   "outputs": [
    {
     "data": {
      "text/html": [
       "<html><script type=\"math/tex; mode=display\">\\newcommand{\\Bold}[1]{\\mathbf{#1}}\\left(U,(x, y, z)\\right)</script></html>"
      ],
      "text/plain": [
       "Chart (U, (x, y, z))"
      ]
     },
     "execution_count": 9,
     "metadata": {},
     "output_type": "execute_result"
    }
   ],
   "source": [
    "X.<x,y,z> = U.chart(); X"
   ]
  },
  {
   "cell_type": "markdown",
   "metadata": {},
   "source": [
    "One can use a field of symmetric bilinear forms to set the components of a degenerate metric."
   ]
  },
  {
   "cell_type": "code",
   "execution_count": 10,
   "metadata": {},
   "outputs": [],
   "source": [
    "dx, dy = X.coframe()[0], X.coframe()[1]"
   ]
  },
  {
   "cell_type": "code",
   "execution_count": 11,
   "metadata": {},
   "outputs": [
    {
     "name": "stdout",
     "output_type": "stream",
     "text": [
      "Field of symmetric bilinear forms on the Open subset U of the 3-dimensional degenerate_metric manifold M\n"
     ]
    }
   ],
   "source": [
    "b = dx*dx + x^2*dy*dy\n",
    "b = b.symmetrize()\n",
    "print(b)"
   ]
  },
  {
   "cell_type": "code",
   "execution_count": 12,
   "metadata": {},
   "outputs": [],
   "source": [
    "g.set(b)"
   ]
  },
  {
   "cell_type": "code",
   "execution_count": 13,
   "metadata": {},
   "outputs": [
    {
     "data": {
      "text/html": [
       "<html><script type=\"math/tex; mode=display\">\\newcommand{\\Bold}[1]{\\mathbf{#1}}g = \\mathrm{d} x\\otimes \\mathrm{d} x + x^{2} \\mathrm{d} y\\otimes \\mathrm{d} y</script></html>"
      ],
      "text/plain": [
       "g = dx*dx + x^2 dy*dy"
      ]
     },
     "execution_count": 13,
     "metadata": {},
     "output_type": "execute_result"
    }
   ],
   "source": [
    "g.display()"
   ]
  },
  {
   "cell_type": "code",
   "execution_count": 14,
   "metadata": {},
   "outputs": [
    {
     "data": {
      "text/html": [
       "<html><script type=\"math/tex; mode=display\">\\newcommand{\\Bold}[1]{\\mathbf{#1}}\\left(\\begin{array}{rrr}\n",
       "1 & 0 & 0 \\\\\n",
       "0 & x^{2} & 0 \\\\\n",
       "0 & 0 & 0\n",
       "\\end{array}\\right)</script></html>"
      ],
      "text/plain": [
       "[  1   0   0]\n",
       "[  0 x^2   0]\n",
       "[  0   0   0]"
      ]
     },
     "execution_count": 14,
     "metadata": {},
     "output_type": "execute_result"
    }
   ],
   "source": [
    "g[:]"
   ]
  },
  {
   "cell_type": "markdown",
   "metadata": {},
   "source": [
    "We define another metric and set its nonzero components."
   ]
  },
  {
   "cell_type": "code",
   "execution_count": 15,
   "metadata": {},
   "outputs": [
    {
     "name": "stdout",
     "output_type": "stream",
     "text": [
      "degenerate metric h on the 3-dimensional degenerate_metric manifold M\n"
     ]
    }
   ],
   "source": [
    "h = g._new_instance()\n",
    "h.set_name('h')\n",
    "print(h)"
   ]
  },
  {
   "cell_type": "code",
   "execution_count": 16,
   "metadata": {},
   "outputs": [],
   "source": [
    "h[0,0], h[1,1] = 1, x^2"
   ]
  },
  {
   "cell_type": "code",
   "execution_count": 17,
   "metadata": {},
   "outputs": [
    {
     "data": {
      "text/html": [
       "<html><script type=\"math/tex; mode=display\">\\newcommand{\\Bold}[1]{\\mathbf{#1}}h = \\mathrm{d} x\\otimes \\mathrm{d} x + x^{2} \\mathrm{d} y\\otimes \\mathrm{d} y</script></html>"
      ],
      "text/plain": [
       "h = dx*dx + x^2 dy*dy"
      ]
     },
     "execution_count": 17,
     "metadata": {},
     "output_type": "execute_result"
    }
   ],
   "source": [
    "h.display()"
   ]
  },
  {
   "cell_type": "markdown",
   "metadata": {},
   "source": [
    "On the only local chart (U,X), `h` and `g` have the same components, so there are equal! However, g is the metric of the degenerate metric manifold `M` but not `h`."
   ]
  },
  {
   "cell_type": "code",
   "execution_count": 18,
   "metadata": {},
   "outputs": [
    {
     "data": {
      "text/html": [
       "<html><script type=\"math/tex; mode=display\">\\newcommand{\\Bold}[1]{\\mathbf{#1}}\\mathrm{True}</script></html>"
      ],
      "text/plain": [
       "True"
      ]
     },
     "execution_count": 18,
     "metadata": {},
     "output_type": "execute_result"
    }
   ],
   "source": [
    "h == g"
   ]
  },
  {
   "cell_type": "code",
   "execution_count": 19,
   "metadata": {},
   "outputs": [
    {
     "data": {
      "text/html": [
       "<html><script type=\"math/tex; mode=display\">\\newcommand{\\Bold}[1]{\\mathbf{#1}}\\mathrm{True}</script></html>"
      ],
      "text/plain": [
       "True"
      ]
     },
     "execution_count": 19,
     "metadata": {},
     "output_type": "execute_result"
    }
   ],
   "source": [
    "g is M.metric()"
   ]
  },
  {
   "cell_type": "code",
   "execution_count": 20,
   "metadata": {},
   "outputs": [
    {
     "data": {
      "text/html": [
       "<html><script type=\"math/tex; mode=display\">\\newcommand{\\Bold}[1]{\\mathbf{#1}}\\mathrm{False}</script></html>"
      ],
      "text/plain": [
       "False"
      ]
     },
     "execution_count": 20,
     "metadata": {},
     "output_type": "execute_result"
    }
   ],
   "source": [
    "h is M.metric()"
   ]
  },
  {
   "cell_type": "markdown",
   "metadata": {},
   "source": [
    "# Degenerate hypersurface of a `6-`dimensional Lorentzian manifold"
   ]
  },
  {
   "cell_type": "code",
   "execution_count": 21,
   "metadata": {},
   "outputs": [
    {
     "name": "stdout",
     "output_type": "stream",
     "text": [
      "6-dimensional Lorentzian manifold M\n"
     ]
    }
   ],
   "source": [
    "M = Manifold(6, 'M', structure='Lorentzian')\n",
    "print(M)"
   ]
  },
  {
   "cell_type": "code",
   "execution_count": 22,
   "metadata": {},
   "outputs": [
    {
     "data": {
      "text/html": [
       "<html><script type=\"math/tex; mode=display\">\\newcommand{\\Bold}[1]{\\mathbf{#1}}\\left(M,(x_{0}, x_{1}, x_{2}, x_{3}, x_{4}, x_{5})\\right)</script></html>"
      ],
      "text/plain": [
       "Chart (M, (x0, x1, x2, x3, x4, x5))"
      ]
     },
     "execution_count": 22,
     "metadata": {},
     "output_type": "execute_result"
    }
   ],
   "source": [
    "X.<x0,x1,x2,x3,x4,x5> = M.chart(); X"
   ]
  },
  {
   "cell_type": "code",
   "execution_count": 23,
   "metadata": {},
   "outputs": [
    {
     "name": "stdout",
     "output_type": "stream",
     "text": [
      "Lorentzian metric g on the 6-dimensional Lorentzian manifold M\n"
     ]
    }
   ],
   "source": [
    "g = M.metric()\n",
    "print(g)"
   ]
  },
  {
   "cell_type": "code",
   "execution_count": 24,
   "metadata": {},
   "outputs": [],
   "source": [
    "g[0,0], g[1,1], g[2,2], g[3,3], g[4,4], g[5,5] = -1, 1, exp(2*x0), exp(2*x0), exp(2*x1), exp(2*x1)"
   ]
  },
  {
   "cell_type": "code",
   "execution_count": 25,
   "metadata": {},
   "outputs": [
    {
     "data": {
      "text/html": [
       "<html><script type=\"math/tex; mode=display\">\\newcommand{\\Bold}[1]{\\mathbf{#1}}\\left(\\begin{array}{rrrrrr}\n",
       "-1 & 0 & 0 & 0 & 0 & 0 \\\\\n",
       "0 & 1 & 0 & 0 & 0 & 0 \\\\\n",
       "0 & 0 & e^{\\left(2 \\, x_{0}\\right)} & 0 & 0 & 0 \\\\\n",
       "0 & 0 & 0 & e^{\\left(2 \\, x_{0}\\right)} & 0 & 0 \\\\\n",
       "0 & 0 & 0 & 0 & e^{\\left(2 \\, x_{1}\\right)} & 0 \\\\\n",
       "0 & 0 & 0 & 0 & 0 & e^{\\left(2 \\, x_{1}\\right)}\n",
       "\\end{array}\\right)</script></html>"
      ],
      "text/plain": [
       "[      -1        0        0        0        0        0]\n",
       "[       0        1        0        0        0        0]\n",
       "[       0        0 e^(2*x0)        0        0        0]\n",
       "[       0        0        0 e^(2*x0)        0        0]\n",
       "[       0        0        0        0 e^(2*x1)        0]\n",
       "[       0        0        0        0        0 e^(2*x1)]"
      ]
     },
     "execution_count": 25,
     "metadata": {},
     "output_type": "execute_result"
    }
   ],
   "source": [
    "g[:]"
   ]
  },
  {
   "cell_type": "markdown",
   "metadata": {},
   "source": [
    "We define now on `M` the degenerate hypersurface `x0+x1=0`."
   ]
  },
  {
   "cell_type": "code",
   "execution_count": 26,
   "metadata": {},
   "outputs": [
    {
     "name": "stdout",
     "output_type": "stream",
     "text": [
      "degenerate hypersurface H embedded in 6-dimensional differentiable manifold M\n"
     ]
    }
   ],
   "source": [
    "H = Manifold(5, 'H', ambient=M, structure='degenerate_metric')\n",
    "print(H)"
   ]
  },
  {
   "cell_type": "code",
   "execution_count": 27,
   "metadata": {},
   "outputs": [
    {
     "data": {
      "text/html": [
       "<html><script type=\"math/tex; mode=display\">\\newcommand{\\Bold}[1]{\\mathbf{#1}}\\left(H,(\\mathit{xh}_{1}, \\mathit{xh}_{2}, \\mathit{xh}_{3}, \\mathit{xh}_{4}, \\mathit{xh}_{5})\\right)</script></html>"
      ],
      "text/plain": [
       "Chart (H, (xh1, xh2, xh3, xh4, xh5))"
      ]
     },
     "execution_count": 27,
     "metadata": {},
     "output_type": "execute_result"
    }
   ],
   "source": [
    "X_H.<xh1, xh2, xh3, xh4, xh5> = H.chart(); X_H"
   ]
  },
  {
   "cell_type": "code",
   "execution_count": 28,
   "metadata": {},
   "outputs": [
    {
     "data": {
      "text/html": [
       "<html><script type=\"math/tex; mode=display\">\\newcommand{\\Bold}[1]{\\mathbf{#1}}\\begin{array}{llcl} \\Phi:& H & \\longrightarrow & M \\\\ & \\left(\\mathit{xh}_{1}, \\mathit{xh}_{2}, \\mathit{xh}_{3}, \\mathit{xh}_{4}, \\mathit{xh}_{5}\\right) & \\longmapsto & \\left(x_{0}, x_{1}, x_{2}, x_{3}, x_{4}, x_{5}\\right) = \\left(-\\mathit{xh}_{1}, \\mathit{xh}_{1}, \\mathit{xh}_{2}, \\mathit{xh}_{3}, \\mathit{xh}_{4}, \\mathit{xh}_{5}\\right) \\end{array}</script></html>"
      ],
      "text/plain": [
       "Phi: H --> M\n",
       "   (xh1, xh2, xh3, xh4, xh5) |--> (x0, x1, x2, x3, x4, x5) = (-xh1, xh1, xh2, xh3, xh4, xh5)"
      ]
     },
     "execution_count": 28,
     "metadata": {},
     "output_type": "execute_result"
    }
   ],
   "source": [
    "Phi = H.diff_map(M, {(X_H, X): [-xh1, xh1, xh2, xh3, xh4, xh5]}, \n",
    "                 name='Phi', latex_name=r'\\Phi')\n",
    "Phi.display()"
   ]
  },
  {
   "cell_type": "code",
   "execution_count": 29,
   "metadata": {},
   "outputs": [
    {
     "data": {
      "text/html": [
       "<html><script type=\"math/tex; mode=display\">\\newcommand{\\Bold}[1]{\\mathbf{#1}}\\begin{array}{llcl} \\Phi^{-1}:& M & \\longrightarrow & H \\\\ & \\left(x_{0}, x_{1}, x_{2}, x_{3}, x_{4}, x_{5}\\right) & \\longmapsto & \\left(\\mathit{xh}_{1}, \\mathit{xh}_{2}, \\mathit{xh}_{3}, \\mathit{xh}_{4}, \\mathit{xh}_{5}\\right) = \\left(x_{1}, x_{2}, x_{3}, x_{4}, x_{5}\\right) \\end{array}</script></html>"
      ],
      "text/plain": [
       "Phi_inv: M --> H\n",
       "   (x0, x1, x2, x3, x4, x5) |--> (xh1, xh2, xh3, xh4, xh5) = (x1, x2, x3, x4, x5)"
      ]
     },
     "execution_count": 29,
     "metadata": {},
     "output_type": "execute_result"
    }
   ],
   "source": [
    "Phi_inv = M.diff_map(H, {(X, X_H): [x1, x2, x3, x4, x5]}, \n",
    "                     name='Phi_inv', latex_name=r'\\Phi^{-1}')\n",
    "Phi_inv.display()"
   ]
  },
  {
   "cell_type": "code",
   "execution_count": 30,
   "metadata": {},
   "outputs": [],
   "source": [
    "H.set_immersion(Phi, inverse=Phi_inv)\n",
    "H.declare_embedding()"
   ]
  },
  {
   "cell_type": "markdown",
   "metadata": {},
   "source": [
    "The vector field $v=-\\partial x0-\\partial x1$ is everywhere neither orthogonal nor tangent to $H$. Hence, $v$ is a rigging for the null hypersurface $H$."
   ]
  },
  {
   "cell_type": "code",
   "execution_count": 31,
   "metadata": {},
   "outputs": [
    {
     "data": {
      "text/html": [
       "<html><script type=\"math/tex; mode=display\">\\newcommand{\\Bold}[1]{\\mathbf{#1}}-\\frac{\\partial}{\\partial x_{0} }-\\frac{\\partial}{\\partial x_{1} }</script></html>"
      ],
      "text/plain": [
       "-d/dx0 - d/dx1"
      ]
     },
     "execution_count": 31,
     "metadata": {},
     "output_type": "execute_result"
    }
   ],
   "source": [
    "v = M.vector_field()\n",
    "v[:2] = [-1, -1]\n",
    "v.display()"
   ]
  },
  {
   "cell_type": "code",
   "execution_count": 32,
   "metadata": {},
   "outputs": [],
   "source": [
    "H.set_transverse(rigging=[v])"
   ]
  },
  {
   "cell_type": "markdown",
   "metadata": {},
   "source": [
    "The vector $\\xi=\\partial x0-\\partial x1$ is tangent and orthogonal to $H$ and then spans the normal distribution $TH^\\perp$. A complementary of $TH^\\perp$ in $TH$, thus a screen distribution, is spanned by the vectors $e1=\\exp(-2x0)\\partial x2$, $e2=\\exp(-2x0)\\partial x3$, $e3=\\exp(-2x1)\\partial x4$, and $e4=\\exp(-2x1)\\partial x5$. Notice that the screen distribution associated with $v$ has to be othogonal to the chosen rigging $v$."
   ]
  },
  {
   "cell_type": "code",
   "execution_count": 33,
   "metadata": {},
   "outputs": [],
   "source": [
    "xi = M.vector_field()\n",
    "e1 = M.vector_field()\n",
    "e2 = M.vector_field()\n",
    "e3 = M.vector_field()\n",
    "e4 = M.vector_field()"
   ]
  },
  {
   "cell_type": "code",
   "execution_count": 34,
   "metadata": {},
   "outputs": [],
   "source": [
    "xi[:2] = [1, -1]\n",
    "e1[2] = exp(-2*x0)\n",
    "e2[3] = exp(-2*x0)\n",
    "e3[4] = exp(-2*x1)\n",
    "e4[5] = exp(-2*x1)"
   ]
  },
  {
   "cell_type": "code",
   "execution_count": 35,
   "metadata": {},
   "outputs": [
    {
     "name": "stdout",
     "output_type": "stream",
     "text": [
      "screen distribution S along the degenerate hypersurface H embedded in 6-dimensional differentiable manifold M mapped into the 6-dimensional Lorentzian manifold M\n"
     ]
    }
   ],
   "source": [
    "S = H.screen('S', [e1, e2, e3, e4], [xi])\n",
    "print(S)"
   ]
  },
  {
   "cell_type": "code",
   "execution_count": 36,
   "metadata": {},
   "outputs": [
    {
     "data": {
      "text/html": [
       "<html><script type=\"math/tex; mode=display\">\\newcommand{\\Bold}[1]{\\mathbf{#1}}S</script></html>"
      ],
      "text/plain": [
       "screen distribution S along the degenerate hypersurface H embedded in 6-dimensional differentiable manifold M mapped into the 6-dimensional Lorentzian manifold M"
      ]
     },
     "execution_count": 36,
     "metadata": {},
     "output_type": "execute_result"
    }
   ],
   "source": [
    "H.default_screen()"
   ]
  },
  {
   "cell_type": "markdown",
   "metadata": {},
   "source": [
    "The null rigging is derived from the given rigging $v$ with the formula$$N=\\frac{1}{g(\\xi, v)}\\left(v-\\frac{g(v,v)}{2g(\\xi, v)}\\xi\\right)$$\n",
    "Projections onto $H$ will be done parallely to the null rigging $N$."
   ]
  },
  {
   "cell_type": "code",
   "execution_count": 37,
   "metadata": {},
   "outputs": [
    {
     "data": {
      "text/html": [
       "<html><script type=\"math/tex; mode=display\">\\newcommand{\\Bold}[1]{\\mathbf{#1}}N = -\\frac{1}{2} \\frac{\\partial}{\\partial x_{0} } -\\frac{1}{2} \\frac{\\partial}{\\partial x_{1} }</script></html>"
      ],
      "text/plain": [
       "N = -1/2 d/dx0 - 1/2 d/dx1"
      ]
     },
     "execution_count": 37,
     "metadata": {},
     "output_type": "execute_result"
    }
   ],
   "source": [
    "S.rigging().display()"
   ]
  },
  {
   "cell_type": "code",
   "execution_count": 38,
   "metadata": {},
   "outputs": [
    {
     "data": {
      "text/html": [
       "<html><script type=\"math/tex; mode=display\">\\newcommand{\\Bold}[1]{\\mathbf{#1}}\\xi = \\frac{\\partial}{\\partial x_{0} }-\\frac{\\partial}{\\partial x_{1} }</script></html>"
      ],
      "text/plain": [
       "xi = d/dx0 - d/dx1"
      ]
     },
     "execution_count": 38,
     "metadata": {},
     "output_type": "execute_result"
    }
   ],
   "source": [
    "S.normal_tangent_vector().display()"
   ]
  },
  {
   "cell_type": "markdown",
   "metadata": {},
   "source": [
    "The null rigging $N$ and the normal tangent vector $\\xi$ are normalized by$$g(N,\\xi)=1.$$\n",
    "This normalization is the one used by some mathematicians but is not physically relevant since $N$ and $\\xi$ cannot be timelike at the same time. However, one can consider $\\ell=\\xi$ and $k=-N$."
   ]
  },
  {
   "cell_type": "code",
   "execution_count": 39,
   "metadata": {},
   "outputs": [
    {
     "data": {
      "text/html": [
       "<html><script type=\"math/tex; mode=display\">\\newcommand{\\Bold}[1]{\\mathbf{#1}}\\begin{array}{llcl} & H & \\longrightarrow & \\mathbb{R} \\\\ & \\left(\\mathit{xh}_{1}, \\mathit{xh}_{2}, \\mathit{xh}_{3}, \\mathit{xh}_{4}, \\mathit{xh}_{5}\\right) & \\longmapsto & 1 \\end{array}</script></html>"
      ],
      "text/plain": [
       "H --> R\n",
       "(xh1, xh2, xh3, xh4, xh5) |--> 1"
      ]
     },
     "execution_count": 39,
     "metadata": {},
     "output_type": "execute_result"
    }
   ],
   "source": [
    "g.along(Phi)(S.rigging(),xi.along(Phi)).display()"
   ]
  },
  {
   "cell_type": "markdown",
   "metadata": {},
   "source": [
    "Now, $S$ is a screen distribution along $H$ and we have the decompositions\n",
    "\\begin{equation}TM|_H=TH\\oplus Span(N)\\end{equation}\n",
    "\\begin{equation}TH=S\\oplus_{orth}Span(\\xi)\\end{equation}\n",
    "Projection on $H$ is done with respect to the first decomposition and projection onto the screen distribution of a vector tangent to $H$ is done with respect to the second decomposition. So, any vector along $H$ (tangent or not to $H$), can be decomposed in the adapted frame $T=\\{vv_0,vv_1,vv_2,vv_3,vv_4,vv_5)$, where along $H$\n",
    "$$vv_0:=e1,~~vv_1=e2,~~vv_2=e3,~~vv_3=e4,~~vv_4=\\xi,~~vv_5=N.$$"
   ]
  },
  {
   "cell_type": "code",
   "execution_count": 40,
   "metadata": {},
   "outputs": [
    {
     "data": {
      "text/html": [
       "<html><script type=\"math/tex; mode=display\">\\newcommand{\\Bold}[1]{\\mathbf{#1}}\\left(H, \\left(vv_{0},vv_{1},vv_{2},vv_{3},vv_{4},vv_{5}\\right)\\right)</script></html>"
      ],
      "text/plain": [
       "Vector frame (H, (vv_0,vv_1,vv_2,vv_3,vv_4,vv_5)) with values on the 6-dimensional Lorentzian manifold M"
      ]
     },
     "execution_count": 40,
     "metadata": {},
     "output_type": "execute_result"
    }
   ],
   "source": [
    "T = H.adapted_frame()\n",
    "T"
   ]
  },
  {
   "cell_type": "code",
   "execution_count": 41,
   "metadata": {},
   "outputs": [
    {
     "data": {
      "text/html": [
       "<html><script type=\"math/tex; mode=display\">\\newcommand{\\Bold}[1]{\\mathbf{#1}}\\xi = \\frac{\\partial}{\\partial x_{0} }-\\frac{\\partial}{\\partial x_{1} }</script></html>"
      ],
      "text/plain": [
       "xi = d/dx0 - d/dx1"
      ]
     },
     "execution_count": 41,
     "metadata": {},
     "output_type": "execute_result"
    }
   ],
   "source": [
    "T[4].display()"
   ]
  },
  {
   "cell_type": "code",
   "execution_count": 42,
   "metadata": {},
   "outputs": [
    {
     "data": {
      "text/html": [
       "<html><script type=\"math/tex; mode=display\">\\newcommand{\\Bold}[1]{\\mathbf{#1}}vv_{0} = e^{\\left(2 \\, \\mathit{xh}_{1}\\right)} \\frac{\\partial}{\\partial x_{2} }</script></html>"
      ],
      "text/plain": [
       "vv_0 = e^(2*xh1) d/dx2"
      ]
     },
     "execution_count": 42,
     "metadata": {},
     "output_type": "execute_result"
    }
   ],
   "source": [
    "T[0].disp()"
   ]
  },
  {
   "cell_type": "markdown",
   "metadata": {},
   "source": [
    "Projections on $H$ and on the screen distribution are now possible!"
   ]
  },
  {
   "cell_type": "code",
   "execution_count": 43,
   "metadata": {},
   "outputs": [
    {
     "data": {
      "text/html": [
       "<html><script type=\"math/tex; mode=display\">\\newcommand{\\Bold}[1]{\\mathbf{#1}}0</script></html>"
      ],
      "text/plain": [
       "0"
      ]
     },
     "execution_count": 43,
     "metadata": {},
     "output_type": "execute_result"
    }
   ],
   "source": [
    "H.projection(v).display()"
   ]
  },
  {
   "cell_type": "code",
   "execution_count": 44,
   "metadata": {},
   "outputs": [
    {
     "data": {
      "text/html": [
       "<html><script type=\"math/tex; mode=display\">\\newcommand{\\Bold}[1]{\\mathbf{#1}}\\xi</script></html>"
      ],
      "text/plain": [
       "xi"
      ]
     },
     "execution_count": 44,
     "metadata": {},
     "output_type": "execute_result"
    }
   ],
   "source": [
    "H.projection(v+xi).display(T)"
   ]
  },
  {
   "cell_type": "code",
   "execution_count": 45,
   "metadata": {},
   "outputs": [
    {
     "data": {
      "text/html": [
       "<html><script type=\"math/tex; mode=display\">\\newcommand{\\Bold}[1]{\\mathbf{#1}}0</script></html>"
      ],
      "text/plain": [
       "0"
      ]
     },
     "execution_count": 45,
     "metadata": {},
     "output_type": "execute_result"
    }
   ],
   "source": [
    "H.screen_projection(v+xi).display()"
   ]
  },
  {
   "cell_type": "code",
   "execution_count": 46,
   "metadata": {},
   "outputs": [
    {
     "data": {
      "text/html": [
       "<html><script type=\"math/tex; mode=display\">\\newcommand{\\Bold}[1]{\\mathbf{#1}}vv_{0}</script></html>"
      ],
      "text/plain": [
       "vv_0"
      ]
     },
     "execution_count": 46,
     "metadata": {},
     "output_type": "execute_result"
    }
   ],
   "source": [
    "H.screen_projection(e1+xi).display(T)"
   ]
  },
  {
   "cell_type": "markdown",
   "metadata": {},
   "source": [
    "Let $\\nabla$ be the Levi-Civita connection of $(M,g)$. The Weingarten map is the projection is $\\nabla_\\cdot\\xi:\\mathfrak X(H)\\to\\mathfrak X(H)$."
   ]
  },
  {
   "cell_type": "code",
   "execution_count": 47,
   "metadata": {},
   "outputs": [
    {
     "name": "stdout",
     "output_type": "stream",
     "text": [
      "Tensor field nabla_g(xi)|X(H) of type (1,1) along the degenerate hypersurface H embedded in 6-dimensional differentiable manifold M with values on the 6-dimensional Lorentzian manifold M\n"
     ]
    }
   ],
   "source": [
    "W = H.weingarten_map()\n",
    "print(W)"
   ]
  },
  {
   "cell_type": "code",
   "execution_count": 48,
   "metadata": {},
   "outputs": [
    {
     "data": {
      "text/html": [
       "<html><script type=\"math/tex; mode=display\">\\newcommand{\\Bold}[1]{\\mathbf{#1}}\\nabla_g(\\xi)|_{\\mathfrak{X}(H)} = \\frac{\\partial}{\\partial x_{2} }\\otimes \\mathrm{d} x_{2}+\\frac{\\partial}{\\partial x_{3} }\\otimes \\mathrm{d} x_{3}-\\frac{\\partial}{\\partial x_{4} }\\otimes \\mathrm{d} x_{4}-\\frac{\\partial}{\\partial x_{5} }\\otimes \\mathrm{d} x_{5}</script></html>"
      ],
      "text/plain": [
       "nabla_g(xi)|X(H) = d/dx2*dx2 + d/dx3*dx3 - d/dx4*dx4 - d/dx5*dx5"
      ]
     },
     "execution_count": 48,
     "metadata": {},
     "output_type": "execute_result"
    }
   ],
   "source": [
    "W.display()"
   ]
  },
  {
   "cell_type": "code",
   "execution_count": 49,
   "metadata": {},
   "outputs": [
    {
     "data": {
      "text/html": [
       "<html><script type=\"math/tex; mode=display\">\\newcommand{\\Bold}[1]{\\mathbf{#1}}\\nabla_g(\\xi)|_{\\mathfrak{X}(H)} = vv_{0}\\otimes vv^{0}+vv_{1}\\otimes vv^{1}-vv_{2}\\otimes vv^{2}-vv_{3}\\otimes vv^{3}</script></html>"
      ],
      "text/plain": [
       "nabla_g(xi)|X(H) = vv_0*vv^0 + vv_1*vv^1 - vv_2*vv^2 - vv_3*vv^3"
      ]
     },
     "execution_count": 49,
     "metadata": {},
     "output_type": "execute_result"
    }
   ],
   "source": [
    "W.display(T)"
   ]
  },
  {
   "cell_type": "code",
   "execution_count": 50,
   "metadata": {},
   "outputs": [
    {
     "data": {
      "text/html": [
       "<html><script type=\"math/tex; mode=display\">\\newcommand{\\Bold}[1]{\\mathbf{#1}}0</script></html>"
      ],
      "text/plain": [
       "0"
      ]
     },
     "execution_count": 50,
     "metadata": {},
     "output_type": "execute_result"
    }
   ],
   "source": [
    "W(xi.along(Phi)).display()"
   ]
  },
  {
   "cell_type": "code",
   "execution_count": 51,
   "metadata": {},
   "outputs": [
    {
     "data": {
      "text/html": [
       "<html><script type=\"math/tex; mode=display\">\\newcommand{\\Bold}[1]{\\mathbf{#1}}\\nabla_g(\\xi)|_{\\mathfrak{X}(H)}\\left(vv_{0}\\right) = vv_{0}</script></html>"
      ],
      "text/plain": [
       "nabla_g(xi)|X(H)(vv_0) = vv_0"
      ]
     },
     "execution_count": 51,
     "metadata": {},
     "output_type": "execute_result"
    }
   ],
   "source": [
    "W(T[0]).display(T)"
   ]
  },
  {
   "cell_type": "markdown",
   "metadata": {},
   "source": [
    "We can write$$\\nabla_U\\xi=-A^\\ast(U)-\\tau(U)\\xi,~~~~\\forall U\\in\\mathfrak X(H).$$\n",
    "$A^\\ast$ is the shape operator and $\\tau$ the roration $1-$form."
   ]
  },
  {
   "cell_type": "code",
   "execution_count": 52,
   "metadata": {},
   "outputs": [
    {
     "name": "stdout",
     "output_type": "stream",
     "text": [
      "Tensor field A^* of type (1,1) along the degenerate hypersurface H embedded in 6-dimensional differentiable manifold M with values on the 6-dimensional Lorentzian manifold M\n"
     ]
    }
   ],
   "source": [
    "SO = H.shape_operator()\n",
    "print(SO)"
   ]
  },
  {
   "cell_type": "code",
   "execution_count": 53,
   "metadata": {},
   "outputs": [
    {
     "data": {
      "text/html": [
       "<html><script type=\"math/tex; mode=display\">\\newcommand{\\Bold}[1]{\\mathbf{#1}}A^\\ast = -vv_{0}\\otimes vv^{0}-vv_{1}\\otimes vv^{1}+vv_{2}\\otimes vv^{2}+vv_{3}\\otimes vv^{3}</script></html>"
      ],
      "text/plain": [
       "A^* = -vv_0*vv^0 - vv_1*vv^1 + vv_2*vv^2 + vv_3*vv^3"
      ]
     },
     "execution_count": 53,
     "metadata": {},
     "output_type": "execute_result"
    }
   ],
   "source": [
    "SO.display(T)"
   ]
  },
  {
   "cell_type": "markdown",
   "metadata": {},
   "source": [
    "The principal curvatures are the eigenfunctions of the shape operator."
   ]
  },
  {
   "cell_type": "code",
   "execution_count": 54,
   "metadata": {},
   "outputs": [
    {
     "data": {
      "text/html": [
       "<html><script type=\"math/tex; mode=display\">\\newcommand{\\Bold}[1]{\\mathbf{#1}}\\begin{array}{llcl} & H & \\longrightarrow & \\mathbb{R} \\\\ & \\left(\\mathit{xh}_{1}, \\mathit{xh}_{2}, \\mathit{xh}_{3}, \\mathit{xh}_{4}, \\mathit{xh}_{5}\\right) & \\longmapsto & 0 \\end{array}</script></html>"
      ],
      "text/plain": [
       "H --> R\n",
       "(xh1, xh2, xh3, xh4, xh5) |--> 0"
      ]
     },
     "execution_count": 54,
     "metadata": {},
     "output_type": "execute_result"
    }
   ],
   "source": [
    "m = H.mean_curvature()\n",
    "m.display()"
   ]
  },
  {
   "cell_type": "markdown",
   "metadata": {},
   "source": [
    "So, the mean curvature of $H$ vanishes identically. Some people then say that $H$ is a maximal null hypersurface. But, $H$ is not totally geodesic since the shape operator is not zero. Hence, the ambient manifold $(M,g)$ cannot have constant sectional curvature.\n",
    "\n",
    "In fact, the principal curvatures are $-1,-1,0,1,1$ and we can write the following short code to get them."
   ]
  },
  {
   "cell_type": "code",
   "execution_count": 55,
   "metadata": {},
   "outputs": [],
   "source": [
    "curvatures = matrix([[SO[:][i, j].expr() for i in H.irange()]\n",
    "                     for j in H.irange()]).eigenvalues()\n",
    "counter = H.irange()\n",
    "for i in range(5):\n",
    "    curvatures[i] = H.scalar_field(curvatures[i], name=\"k_{}\".format(next(counter)))"
   ]
  },
  {
   "cell_type": "code",
   "execution_count": 56,
   "metadata": {},
   "outputs": [
    {
     "data": {
      "text/html": [
       "<html><script type=\"math/tex; mode=display\">\\newcommand{\\Bold}[1]{\\mathbf{#1}}\\begin{array}{llcl} k_0:& H & \\longrightarrow & \\mathbb{R} \\\\ & \\left(\\mathit{xh}_{1}, \\mathit{xh}_{2}, \\mathit{xh}_{3}, \\mathit{xh}_{4}, \\mathit{xh}_{5}\\right) & \\longmapsto & -1 \\end{array}</script></html>"
      ],
      "text/plain": [
       "k_0: H --> R\n",
       "   (xh1, xh2, xh3, xh4, xh5) |--> -1"
      ]
     },
     "execution_count": 56,
     "metadata": {},
     "output_type": "execute_result"
    }
   ],
   "source": [
    "curvatures[0].display()"
   ]
  },
  {
   "cell_type": "markdown",
   "metadata": {},
   "source": [
    "The principal directions are $vv_0,vv_1,vv_2,vv_3=\\xi$."
   ]
  },
  {
   "cell_type": "code",
   "execution_count": 57,
   "metadata": {},
   "outputs": [
    {
     "data": {
      "text/html": [
       "<html><script type=\"math/tex; mode=display\">\\newcommand{\\Bold}[1]{\\mathbf{#1}}\\left(e_0 = vv_{0}, e_1 = vv_{1}, e_2 = \\xi, e_3 = vv_{2}\\right)</script></html>"
      ],
      "text/plain": [
       "(e_0 = vv_0, e_1 = vv_1, e_2 = xi, e_3 = vv_2)"
      ]
     },
     "execution_count": 57,
     "metadata": {},
     "output_type": "execute_result"
    }
   ],
   "source": [
    "PD = H.principal_directions(S)\n",
    "PD[0][0].disp(T), PD[1][0].disp(T), PD[2][0].disp(T), PD[3][0].disp(T)"
   ]
  },
  {
   "cell_type": "markdown",
   "metadata": {},
   "source": [
    "# Defining a second screen distribution"
   ]
  },
  {
   "cell_type": "markdown",
   "metadata": {},
   "source": [
    "Since the screen distribution has to be orthogonal to the rigging, the screen distribution is unique ones the rigging has been set. One can just change the basis but the result is the same subbundle."
   ]
  },
  {
   "cell_type": "code",
   "execution_count": 58,
   "metadata": {},
   "outputs": [],
   "source": [
    "u1 = M.vector_field()\n",
    "u2 = M.vector_field()\n",
    "u3 = M.vector_field()\n",
    "u4 = M.vector_field()"
   ]
  },
  {
   "cell_type": "code",
   "execution_count": 59,
   "metadata": {},
   "outputs": [],
   "source": [
    "u1[2] = 1; u2[3] = 1; u3[4] = 1; u4[5] = 1"
   ]
  },
  {
   "cell_type": "code",
   "execution_count": 60,
   "metadata": {},
   "outputs": [
    {
     "name": "stdout",
     "output_type": "stream",
     "text": [
      "screen distribution S1 along the degenerate hypersurface H embedded in 6-dimensional differentiable manifold M mapped into the 6-dimensional Lorentzian manifold M\n"
     ]
    }
   ],
   "source": [
    "S1 = H.screen('S1', [u1, u2, u3, u4], [xi])\n",
    "print(S1)"
   ]
  },
  {
   "cell_type": "markdown",
   "metadata": {},
   "source": [
    "The default screen distribution is always the last defined one."
   ]
  },
  {
   "cell_type": "code",
   "execution_count": 61,
   "metadata": {},
   "outputs": [
    {
     "data": {
      "text/html": [
       "<html><script type=\"math/tex; mode=display\">\\newcommand{\\Bold}[1]{\\mathbf{#1}}S1</script></html>"
      ],
      "text/plain": [
       "screen distribution S1 along the degenerate hypersurface H embedded in 6-dimensional differentiable manifold M mapped into the 6-dimensional Lorentzian manifold M"
      ]
     },
     "execution_count": 61,
     "metadata": {},
     "output_type": "execute_result"
    }
   ],
   "source": [
    "H.default_screen()"
   ]
  },
  {
   "cell_type": "code",
   "execution_count": 62,
   "metadata": {},
   "outputs": [
    {
     "data": {
      "text/html": [
       "<html><script type=\"math/tex; mode=display\">\\newcommand{\\Bold}[1]{\\mathbf{#1}}\\left(H, \\left(vv1_{0},vv1_{1},vv1_{2},vv1_{3},vv1_{4},vv1_{5}\\right)\\right)</script></html>"
      ],
      "text/plain": [
       "Vector frame (H, (vv1_0,vv1_1,vv1_2,vv1_3,vv1_4,vv1_5)) with values on the 6-dimensional Lorentzian manifold M"
      ]
     },
     "execution_count": 62,
     "metadata": {},
     "output_type": "execute_result"
    }
   ],
   "source": [
    "T1 = H.adapted_frame(screen=S1)\n",
    "T1"
   ]
  },
  {
   "cell_type": "code",
   "execution_count": 63,
   "metadata": {},
   "outputs": [
    {
     "data": {
      "text/html": [
       "<html><script type=\"math/tex; mode=display\">\\newcommand{\\Bold}[1]{\\mathbf{#1}}\\xi = \\frac{\\partial}{\\partial x_{0} }-\\frac{\\partial}{\\partial x_{1} }</script></html>"
      ],
      "text/plain": [
       "xi = d/dx0 - d/dx1"
      ]
     },
     "execution_count": 63,
     "metadata": {},
     "output_type": "execute_result"
    }
   ],
   "source": [
    "T1[4].display()"
   ]
  },
  {
   "cell_type": "code",
   "execution_count": 64,
   "metadata": {},
   "outputs": [
    {
     "data": {
      "text/html": [
       "<html><script type=\"math/tex; mode=display\">\\newcommand{\\Bold}[1]{\\mathbf{#1}}vv1_{0} = \\frac{\\partial}{\\partial x_{2} }</script></html>"
      ],
      "text/plain": [
       "vv1_0 = d/dx2"
      ]
     },
     "execution_count": 64,
     "metadata": {},
     "output_type": "execute_result"
    }
   ],
   "source": [
    "T1[0].display()"
   ]
  },
  {
   "cell_type": "code",
   "execution_count": 65,
   "metadata": {},
   "outputs": [
    {
     "name": "stdout",
     "output_type": "stream",
     "text": [
      "Tensor field A^* of type (1,1) along the degenerate hypersurface H embedded in 6-dimensional differentiable manifold M with values on the 6-dimensional Lorentzian manifold M\n"
     ]
    }
   ],
   "source": [
    "SO1 = H.shape_operator(S1)\n",
    "print(SO1)"
   ]
  },
  {
   "cell_type": "code",
   "execution_count": 66,
   "metadata": {},
   "outputs": [
    {
     "data": {
      "text/html": [
       "<html><script type=\"math/tex; mode=display\">\\newcommand{\\Bold}[1]{\\mathbf{#1}}A^\\ast = -vv1_{0}\\otimes vv1^{0}-vv1_{1}\\otimes vv1^{1}+vv1_{2}\\otimes vv1^{2}+vv1_{3}\\otimes vv1^{3}</script></html>"
      ],
      "text/plain": [
       "A^* = -vv1_0*vv1^0 - vv1_1*vv1^1 + vv1_2*vv1^2 + vv1_3*vv1^3"
      ]
     },
     "execution_count": 66,
     "metadata": {},
     "output_type": "execute_result"
    }
   ],
   "source": [
    "SO1.display(T1)"
   ]
  },
  {
   "cell_type": "code",
   "execution_count": 67,
   "metadata": {},
   "outputs": [
    {
     "data": {
      "text/html": [
       "<html><script type=\"math/tex; mode=display\">\\newcommand{\\Bold}[1]{\\mathbf{#1}}\\mathrm{True}</script></html>"
      ],
      "text/plain": [
       "True"
      ]
     },
     "execution_count": 67,
     "metadata": {},
     "output_type": "execute_result"
    }
   ],
   "source": [
    "SO == SO1"
   ]
  },
  {
   "cell_type": "markdown",
   "metadata": {},
   "source": [
    "Let's now define a new rigging and from that a different screen distribution."
   ]
  },
  {
   "cell_type": "code",
   "execution_count": 68,
   "metadata": {},
   "outputs": [
    {
     "data": {
      "text/html": [
       "<html><script type=\"math/tex; mode=display\">\\newcommand{\\Bold}[1]{\\mathbf{#1}}\\frac{\\partial}{\\partial x_{1} }+\\frac{\\partial}{\\partial x_{2} }</script></html>"
      ],
      "text/plain": [
       "d/dx1 + d/dx2"
      ]
     },
     "execution_count": 68,
     "metadata": {},
     "output_type": "execute_result"
    }
   ],
   "source": [
    "v2 = M.vector_field()\n",
    "v2[1:3] = [1,1]\n",
    "v2.display()"
   ]
  },
  {
   "cell_type": "code",
   "execution_count": 69,
   "metadata": {},
   "outputs": [],
   "source": [
    "H.set_transverse(rigging=[v2])"
   ]
  },
  {
   "cell_type": "code",
   "execution_count": 70,
   "metadata": {},
   "outputs": [],
   "source": [
    "e21 = M.vector_field()\n",
    "e22 = M.vector_field()\n",
    "e23 = M.vector_field()\n",
    "e24 = M.vector_field()"
   ]
  },
  {
   "cell_type": "code",
   "execution_count": 71,
   "metadata": {},
   "outputs": [],
   "source": [
    "e21[0:3] = [1,-1,exp(-2*x0)]\n",
    "e22[3] = 1\n",
    "e23[4] = 1\n",
    "e24[5] = 1"
   ]
  },
  {
   "cell_type": "code",
   "execution_count": 72,
   "metadata": {},
   "outputs": [
    {
     "name": "stdout",
     "output_type": "stream",
     "text": [
      "screen distribution S2 along the degenerate hypersurface H embedded in 6-dimensional differentiable manifold M mapped into the 6-dimensional Lorentzian manifold M\n"
     ]
    }
   ],
   "source": [
    "S2 = H.screen('S2', [e21, e22, e23, e24], [xi])\n",
    "print(S2)"
   ]
  },
  {
   "cell_type": "code",
   "execution_count": 73,
   "metadata": {},
   "outputs": [
    {
     "data": {
      "text/html": [
       "<html><script type=\"math/tex; mode=display\">\\newcommand{\\Bold}[1]{\\mathbf{#1}}\\left(H, \\left(vv2_{0},vv2_{1},vv2_{2},vv2_{3},vv2_{4},vv2_{5}\\right)\\right)</script></html>"
      ],
      "text/plain": [
       "Vector frame (H, (vv2_0,vv2_1,vv2_2,vv2_3,vv2_4,vv2_5)) with values on the 6-dimensional Lorentzian manifold M"
      ]
     },
     "execution_count": 73,
     "metadata": {},
     "output_type": "execute_result"
    }
   ],
   "source": [
    "T2 = H.adapted_frame(screen=S2)\n",
    "T2"
   ]
  },
  {
   "cell_type": "code",
   "execution_count": null,
   "metadata": {},
   "outputs": [],
   "source": [
    "SO2 = H.shape_operator(S2)\n",
    "SO2.display(T2)"
   ]
  },
  {
   "cell_type": "code",
   "execution_count": null,
   "metadata": {},
   "outputs": [],
   "source": [
    "SO == SO2"
   ]
  },
  {
   "cell_type": "markdown",
   "metadata": {},
   "source": [
    "This is because the shape operator depends on the chosen rigging."
   ]
  },
  {
   "cell_type": "code",
   "execution_count": null,
   "metadata": {},
   "outputs": [],
   "source": [
    "H.list_of_screens()"
   ]
  },
  {
   "cell_type": "code",
   "execution_count": null,
   "metadata": {},
   "outputs": [],
   "source": [
    "W2 = H.weingarten_map(S2)\n",
    "W2.display(T2)"
   ]
  },
  {
   "cell_type": "code",
   "execution_count": null,
   "metadata": {},
   "outputs": [],
   "source": [
    "W2(xi.along(Phi)).display()"
   ]
  },
  {
   "cell_type": "markdown",
   "metadata": {},
   "source": [
    "The Weingarten map can only be applied to vectors tangent to $H$. However, we can consider its extension which can evaluate any vector along $H$ (tangent to $H$ or not)."
   ]
  },
  {
   "cell_type": "code",
   "execution_count": null,
   "metadata": {},
   "outputs": [],
   "source": [
    "W2.extension()(v2.along(Phi)).display(T2)"
   ]
  },
  {
   "cell_type": "code",
   "execution_count": null,
   "metadata": {},
   "outputs": [],
   "source": [
    "W.extension() == W2.extension()"
   ]
  }
 ],
 "metadata": {
  "kernelspec": {
   "display_name": "SageMath 9.1",
   "language": "sage",
   "name": "sagemath"
  },
  "language_info": {
   "codemirror_mode": {
    "name": "ipython",
    "version": 3
   },
   "file_extension": ".py",
   "mimetype": "text/x-python",
   "name": "python",
   "nbconvert_exporter": "python",
   "pygments_lexer": "ipython3",
   "version": "3.7.3"
  }
 },
 "nbformat": 4,
 "nbformat_minor": 2
}
